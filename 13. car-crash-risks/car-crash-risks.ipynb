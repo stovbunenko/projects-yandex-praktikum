{
 "cells": [
  {
   "cell_type": "markdown",
   "id": "c56d5d56",
   "metadata": {},
   "source": [
    "# Оценка рисков ДТП по выбранному маршруту движения"
   ]
  },
  {
   "cell_type": "markdown",
   "id": "5c9dda61",
   "metadata": {},
   "source": [
    "Нужно создать систему, которая могла бы оценить риск ДТП по выбранному маршруту движения. Под риском понимается вероятность ДТП с любым повреждением транспортного средства. Как только водитель забронировал автомобиль, сел за руль и выбрал маршрут, система должна оценить уровень риска. Если уровень риска высок, водитель увидит предупреждение и рекомендации по маршруту."
   ]
  },
  {
   "cell_type": "markdown",
   "id": "c0ff75c0",
   "metadata": {},
   "source": [
    "**Идея решения задачи от заказчика**:\n",
    "- Создать модель предсказания ДТП (целевое значение — at_fault (виновник) в таблице parties)\n",
    "  - Для модели выбрать тип виновника — только машина (car).\n",
    "  - Выбрать случаи, когда ДТП привело к любым повреждениям транспортного средства, кроме типа SCRATCH (царапина).\n",
    "  - Для моделирования ограничиться данными за 2012 год — они самые свежие.\n",
    "  - Обязательное условие — учесть фактор возраста автомобиля.\n",
    "- На основе модели исследовать основные факторы ДТП.\n",
    "- Понять, помогут ли результаты моделирования и анализ важности факторов ответить на вопросы:\n",
    "  - Возможно ли создать адекватную системы оценки водительского риска при выдаче авто?\n",
    "  - Какие ещё факторы нужно учесть?\n",
    "  - Нужно ли оборудовать автомобиль какими-либо датчиками или камерой?"
   ]
  },
  {
   "cell_type": "markdown",
   "id": "9761f69b",
   "metadata": {
    "ExecuteTime": {
     "end_time": "2022-05-05T04:58:05.692448Z",
     "start_time": "2022-05-05T04:58:05.688565Z"
    }
   },
   "source": [
    "## Подключитесь к базе. Загрузите таблицы sql"
   ]
  },
  {
   "cell_type": "markdown",
   "id": "b403a4da",
   "metadata": {},
   "source": [
    "- Все ли таблицы имеют набор данных;\n",
    "- Соответствует ли количество таблиц условию задачи;\n",
    "- Имеется ли общий ключ для связи таблиц."
   ]
  },
  {
   "cell_type": "code",
   "execution_count": 1,
   "id": "8c2eed2b",
   "metadata": {},
   "outputs": [],
   "source": [
    "import pandas as pd\n",
    "import numpy as np\n",
    "import matplotlib.pyplot as plt\n",
    "from sqlalchemy import create_engine \n",
    "from sklearn.preprocessing import StandardScaler, OneHotEncoder\n",
    "from sklearn.model_selection import train_test_split\n",
    "from sklearn.utils import shuffle\n",
    "from sklearn.model_selection import GridSearchCV\n",
    "from sklearn.dummy import DummyClassifier\n",
    "from sklearn.metrics import roc_auc_score\n",
    "from sklearn.model_selection import GridSearchCV\n",
    "from sklearn.model_selection import KFold\n",
    "from sklearn.model_selection import train_test_split, GridSearchCV, cross_val_score, StratifiedKFold\n",
    "from sklearn.metrics import confusion_matrix\n",
    "pd.options.mode.chained_assignment = None\n",
    "from sklearn.metrics import f1_score\n",
    "\n",
    "from sklearn.ensemble import RandomForestClassifier\n",
    "from sklearn.tree import DecisionTreeClassifier\n",
    "from sklearn.linear_model import LogisticRegression"
   ]
  },
  {
   "cell_type": "markdown",
   "id": "d510c901",
   "metadata": {},
   "source": [
    "Загружаем базу данных:"
   ]
  },
  {
   "cell_type": "code",
   "execution_count": 3,
   "id": "fa86efbc",
   "metadata": {},
   "outputs": [],
   "source": [
    "connection_string = 'postgresql://{}:{}@{}:{}/{}'.format(\n",
    "    db_config['user'],\n",
    "    db_config['pwd'],\n",
    "    db_config['host'],\n",
    "    db_config['port'],\n",
    "    db_config['db'],\n",
    ")"
   ]
  },
  {
   "cell_type": "markdown",
   "id": "60802094",
   "metadata": {},
   "source": [
    "Создание подключения:"
   ]
  },
  {
   "cell_type": "code",
   "execution_count": 4,
   "id": "c2ef2b5f",
   "metadata": {},
   "outputs": [],
   "source": [
    "engine = create_engine(connection_string) "
   ]
  },
  {
   "cell_type": "raw",
   "id": "91fb3fcd",
   "metadata": {},
   "source": [
    "query = '''\n",
    "SELECT table_name FROM information_schema.tables \n",
    "'''\n",
    "tables = pd.read_sql_query(query, con=engine) "
   ]
  },
  {
   "cell_type": "markdown",
   "id": "18ab127a",
   "metadata": {},
   "source": [
    "## Проведите первичное исследование таблиц"
   ]
  },
  {
   "cell_type": "code",
   "execution_count": 5,
   "id": "cc36c81b",
   "metadata": {},
   "outputs": [
    {
     "data": {
      "text/html": [
       "<div>\n",
       "<style scoped>\n",
       "    .dataframe tbody tr th:only-of-type {\n",
       "        vertical-align: middle;\n",
       "    }\n",
       "\n",
       "    .dataframe tbody tr th {\n",
       "        vertical-align: top;\n",
       "    }\n",
       "\n",
       "    .dataframe thead th {\n",
       "        text-align: right;\n",
       "    }\n",
       "</style>\n",
       "<table border=\"1\" class=\"dataframe\">\n",
       "  <thead>\n",
       "    <tr style=\"text-align: right;\">\n",
       "      <th></th>\n",
       "      <th>case_id</th>\n",
       "      <th>county_city_location</th>\n",
       "      <th>county_location</th>\n",
       "      <th>distance</th>\n",
       "      <th>direction</th>\n",
       "      <th>intersection</th>\n",
       "      <th>weather_1</th>\n",
       "      <th>location_type</th>\n",
       "      <th>collision_damage</th>\n",
       "      <th>party_count</th>\n",
       "      <th>primary_collision_factor</th>\n",
       "      <th>pcf_violation_category</th>\n",
       "      <th>type_of_collision</th>\n",
       "      <th>motor_vehicle_involved_with</th>\n",
       "      <th>road_surface</th>\n",
       "      <th>road_condition_1</th>\n",
       "      <th>lighting</th>\n",
       "      <th>control_device</th>\n",
       "      <th>collision_date</th>\n",
       "      <th>collision_time</th>\n",
       "    </tr>\n",
       "  </thead>\n",
       "  <tbody>\n",
       "    <tr>\n",
       "      <th>0</th>\n",
       "      <td>4083072</td>\n",
       "      <td>1942</td>\n",
       "      <td>los angeles</td>\n",
       "      <td>528.0</td>\n",
       "      <td>north</td>\n",
       "      <td>0</td>\n",
       "      <td>cloudy</td>\n",
       "      <td>highway</td>\n",
       "      <td>small damage</td>\n",
       "      <td>2</td>\n",
       "      <td>vehicle code violation</td>\n",
       "      <td>unsafe lane change</td>\n",
       "      <td>sideswipe</td>\n",
       "      <td>other motor vehicle</td>\n",
       "      <td>wet</td>\n",
       "      <td>normal</td>\n",
       "      <td>daylight</td>\n",
       "      <td>none</td>\n",
       "      <td>2009-01-22</td>\n",
       "      <td>07:25:00</td>\n",
       "    </tr>\n",
       "    <tr>\n",
       "      <th>1</th>\n",
       "      <td>4083075</td>\n",
       "      <td>4313</td>\n",
       "      <td>santa clara</td>\n",
       "      <td>0.0</td>\n",
       "      <td>None</td>\n",
       "      <td>1</td>\n",
       "      <td>clear</td>\n",
       "      <td>None</td>\n",
       "      <td>small damage</td>\n",
       "      <td>1</td>\n",
       "      <td>vehicle code violation</td>\n",
       "      <td>improper passing</td>\n",
       "      <td>hit object</td>\n",
       "      <td>fixed object</td>\n",
       "      <td>dry</td>\n",
       "      <td>normal</td>\n",
       "      <td>dark with street lights</td>\n",
       "      <td>functioning</td>\n",
       "      <td>2009-01-03</td>\n",
       "      <td>02:26:00</td>\n",
       "    </tr>\n",
       "    <tr>\n",
       "      <th>2</th>\n",
       "      <td>4083073</td>\n",
       "      <td>0109</td>\n",
       "      <td>alameda</td>\n",
       "      <td>0.0</td>\n",
       "      <td>None</td>\n",
       "      <td>1</td>\n",
       "      <td>clear</td>\n",
       "      <td>None</td>\n",
       "      <td>scratch</td>\n",
       "      <td>2</td>\n",
       "      <td>vehicle code violation</td>\n",
       "      <td>improper turning</td>\n",
       "      <td>broadside</td>\n",
       "      <td>other motor vehicle</td>\n",
       "      <td>dry</td>\n",
       "      <td>normal</td>\n",
       "      <td>dark with street lights</td>\n",
       "      <td>functioning</td>\n",
       "      <td>2009-01-11</td>\n",
       "      <td>03:32:00</td>\n",
       "    </tr>\n",
       "    <tr>\n",
       "      <th>3</th>\n",
       "      <td>4083077</td>\n",
       "      <td>0109</td>\n",
       "      <td>alameda</td>\n",
       "      <td>0.0</td>\n",
       "      <td>None</td>\n",
       "      <td>1</td>\n",
       "      <td>clear</td>\n",
       "      <td>None</td>\n",
       "      <td>scratch</td>\n",
       "      <td>2</td>\n",
       "      <td>vehicle code violation</td>\n",
       "      <td>automobile right of way</td>\n",
       "      <td>broadside</td>\n",
       "      <td>other motor vehicle</td>\n",
       "      <td>dry</td>\n",
       "      <td>normal</td>\n",
       "      <td>daylight</td>\n",
       "      <td>functioning</td>\n",
       "      <td>2009-01-11</td>\n",
       "      <td>10:35:00</td>\n",
       "    </tr>\n",
       "    <tr>\n",
       "      <th>4</th>\n",
       "      <td>4083087</td>\n",
       "      <td>4313</td>\n",
       "      <td>santa clara</td>\n",
       "      <td>0.0</td>\n",
       "      <td>None</td>\n",
       "      <td>1</td>\n",
       "      <td>clear</td>\n",
       "      <td>None</td>\n",
       "      <td>scratch</td>\n",
       "      <td>2</td>\n",
       "      <td>vehicle code violation</td>\n",
       "      <td>speeding</td>\n",
       "      <td>rear end</td>\n",
       "      <td>other motor vehicle</td>\n",
       "      <td>dry</td>\n",
       "      <td>None</td>\n",
       "      <td>dark with street lights</td>\n",
       "      <td>functioning</td>\n",
       "      <td>2009-01-02</td>\n",
       "      <td>22:43:00</td>\n",
       "    </tr>\n",
       "  </tbody>\n",
       "</table>\n",
       "</div>"
      ],
      "text/plain": [
       "   case_id county_city_location county_location  distance direction  \\\n",
       "0  4083072                 1942     los angeles     528.0     north   \n",
       "1  4083075                 4313     santa clara       0.0      None   \n",
       "2  4083073                 0109         alameda       0.0      None   \n",
       "3  4083077                 0109         alameda       0.0      None   \n",
       "4  4083087                 4313     santa clara       0.0      None   \n",
       "\n",
       "   intersection weather_1 location_type collision_damage  party_count  \\\n",
       "0             0    cloudy       highway     small damage            2   \n",
       "1             1     clear          None     small damage            1   \n",
       "2             1     clear          None          scratch            2   \n",
       "3             1     clear          None          scratch            2   \n",
       "4             1     clear          None          scratch            2   \n",
       "\n",
       "  primary_collision_factor   pcf_violation_category type_of_collision  \\\n",
       "0   vehicle code violation       unsafe lane change         sideswipe   \n",
       "1   vehicle code violation         improper passing        hit object   \n",
       "2   vehicle code violation         improper turning         broadside   \n",
       "3   vehicle code violation  automobile right of way         broadside   \n",
       "4   vehicle code violation                 speeding          rear end   \n",
       "\n",
       "  motor_vehicle_involved_with road_surface road_condition_1  \\\n",
       "0         other motor vehicle          wet           normal   \n",
       "1                fixed object          dry           normal   \n",
       "2         other motor vehicle          dry           normal   \n",
       "3         other motor vehicle          dry           normal   \n",
       "4         other motor vehicle          dry             None   \n",
       "\n",
       "                  lighting control_device collision_date collision_time  \n",
       "0                 daylight           none     2009-01-22       07:25:00  \n",
       "1  dark with street lights    functioning     2009-01-03       02:26:00  \n",
       "2  dark with street lights    functioning     2009-01-11       03:32:00  \n",
       "3                 daylight    functioning     2009-01-11       10:35:00  \n",
       "4  dark with street lights    functioning     2009-01-02       22:43:00  "
      ]
     },
     "execution_count": 5,
     "metadata": {},
     "output_type": "execute_result"
    }
   ],
   "source": [
    "query = '''\n",
    "SELECT *\n",
    "FROM collisions\n",
    "limit 10\n",
    "'''\n",
    "\n",
    "sample_collisions = pd.read_sql_query(query, con=engine) \n",
    "sample_collisions.head()"
   ]
  },
  {
   "cell_type": "code",
   "execution_count": 6,
   "id": "579bf685",
   "metadata": {},
   "outputs": [
    {
     "data": {
      "text/html": [
       "<div>\n",
       "<style scoped>\n",
       "    .dataframe tbody tr th:only-of-type {\n",
       "        vertical-align: middle;\n",
       "    }\n",
       "\n",
       "    .dataframe tbody tr th {\n",
       "        vertical-align: top;\n",
       "    }\n",
       "\n",
       "    .dataframe thead th {\n",
       "        text-align: right;\n",
       "    }\n",
       "</style>\n",
       "<table border=\"1\" class=\"dataframe\">\n",
       "  <thead>\n",
       "    <tr style=\"text-align: right;\">\n",
       "      <th></th>\n",
       "      <th>case_id</th>\n",
       "      <th>db_year</th>\n",
       "    </tr>\n",
       "  </thead>\n",
       "  <tbody>\n",
       "    <tr>\n",
       "      <th>0</th>\n",
       "      <td>0081715</td>\n",
       "      <td>2021</td>\n",
       "    </tr>\n",
       "    <tr>\n",
       "      <th>1</th>\n",
       "      <td>0726202</td>\n",
       "      <td>2021</td>\n",
       "    </tr>\n",
       "    <tr>\n",
       "      <th>2</th>\n",
       "      <td>3858022</td>\n",
       "      <td>2021</td>\n",
       "    </tr>\n",
       "    <tr>\n",
       "      <th>3</th>\n",
       "      <td>3899441</td>\n",
       "      <td>2021</td>\n",
       "    </tr>\n",
       "    <tr>\n",
       "      <th>4</th>\n",
       "      <td>3899442</td>\n",
       "      <td>2021</td>\n",
       "    </tr>\n",
       "  </tbody>\n",
       "</table>\n",
       "</div>"
      ],
      "text/plain": [
       "   case_id db_year\n",
       "0  0081715    2021\n",
       "1  0726202    2021\n",
       "2  3858022    2021\n",
       "3  3899441    2021\n",
       "4  3899442    2021"
      ]
     },
     "execution_count": 6,
     "metadata": {},
     "output_type": "execute_result"
    }
   ],
   "source": [
    "query = '''\n",
    "select *\n",
    "from case_ids\n",
    "limit 10\n",
    "'''\n",
    "sample_case_ids = pd.read_sql_query(query, con=engine)\n",
    "sample_case_ids.head()"
   ]
  },
  {
   "cell_type": "code",
   "execution_count": 7,
   "id": "77ea0010",
   "metadata": {},
   "outputs": [
    {
     "data": {
      "text/html": [
       "<div>\n",
       "<style scoped>\n",
       "    .dataframe tbody tr th:only-of-type {\n",
       "        vertical-align: middle;\n",
       "    }\n",
       "\n",
       "    .dataframe tbody tr th {\n",
       "        vertical-align: top;\n",
       "    }\n",
       "\n",
       "    .dataframe thead th {\n",
       "        text-align: right;\n",
       "    }\n",
       "</style>\n",
       "<table border=\"1\" class=\"dataframe\">\n",
       "  <thead>\n",
       "    <tr style=\"text-align: right;\">\n",
       "      <th></th>\n",
       "      <th>id</th>\n",
       "      <th>case_id</th>\n",
       "      <th>party_number</th>\n",
       "      <th>vehicle_type</th>\n",
       "      <th>vehicle_transmission</th>\n",
       "      <th>vehicle_age</th>\n",
       "    </tr>\n",
       "  </thead>\n",
       "  <tbody>\n",
       "    <tr>\n",
       "      <th>0</th>\n",
       "      <td>1175713</td>\n",
       "      <td>5305032</td>\n",
       "      <td>2</td>\n",
       "      <td>sedan</td>\n",
       "      <td>manual</td>\n",
       "      <td>3</td>\n",
       "    </tr>\n",
       "    <tr>\n",
       "      <th>1</th>\n",
       "      <td>1</td>\n",
       "      <td>3858022</td>\n",
       "      <td>1</td>\n",
       "      <td>sedan</td>\n",
       "      <td>auto</td>\n",
       "      <td>3</td>\n",
       "    </tr>\n",
       "    <tr>\n",
       "      <th>2</th>\n",
       "      <td>1175712</td>\n",
       "      <td>5305030</td>\n",
       "      <td>1</td>\n",
       "      <td>sedan</td>\n",
       "      <td>auto</td>\n",
       "      <td>3</td>\n",
       "    </tr>\n",
       "    <tr>\n",
       "      <th>3</th>\n",
       "      <td>1175717</td>\n",
       "      <td>5305033</td>\n",
       "      <td>3</td>\n",
       "      <td>sedan</td>\n",
       "      <td>auto</td>\n",
       "      <td>5</td>\n",
       "    </tr>\n",
       "    <tr>\n",
       "      <th>4</th>\n",
       "      <td>1175722</td>\n",
       "      <td>5305034</td>\n",
       "      <td>2</td>\n",
       "      <td>sedan</td>\n",
       "      <td>auto</td>\n",
       "      <td>5</td>\n",
       "    </tr>\n",
       "  </tbody>\n",
       "</table>\n",
       "</div>"
      ],
      "text/plain": [
       "        id  case_id  party_number vehicle_type vehicle_transmission  \\\n",
       "0  1175713  5305032             2        sedan               manual   \n",
       "1        1  3858022             1        sedan                 auto   \n",
       "2  1175712  5305030             1        sedan                 auto   \n",
       "3  1175717  5305033             3        sedan                 auto   \n",
       "4  1175722  5305034             2        sedan                 auto   \n",
       "\n",
       "   vehicle_age  \n",
       "0            3  \n",
       "1            3  \n",
       "2            3  \n",
       "3            5  \n",
       "4            5  "
      ]
     },
     "execution_count": 7,
     "metadata": {},
     "output_type": "execute_result"
    }
   ],
   "source": [
    "query = '''\n",
    "SELECT *\n",
    "FROM vehicles\n",
    "limit 10\n",
    "'''\n",
    "\n",
    "sample_vehicles = pd.read_sql_query(query, con=engine) \n",
    "sample_vehicles.head()"
   ]
  },
  {
   "cell_type": "code",
   "execution_count": 8,
   "id": "3e44f5c0",
   "metadata": {},
   "outputs": [
    {
     "data": {
      "text/html": [
       "<div>\n",
       "<style scoped>\n",
       "    .dataframe tbody tr th:only-of-type {\n",
       "        vertical-align: middle;\n",
       "    }\n",
       "\n",
       "    .dataframe tbody tr th {\n",
       "        vertical-align: top;\n",
       "    }\n",
       "\n",
       "    .dataframe thead th {\n",
       "        text-align: right;\n",
       "    }\n",
       "</style>\n",
       "<table border=\"1\" class=\"dataframe\">\n",
       "  <thead>\n",
       "    <tr style=\"text-align: right;\">\n",
       "      <th></th>\n",
       "      <th>id</th>\n",
       "      <th>case_id</th>\n",
       "      <th>party_number</th>\n",
       "      <th>party_type</th>\n",
       "      <th>at_fault</th>\n",
       "      <th>insurance_premium</th>\n",
       "      <th>party_sobriety</th>\n",
       "      <th>party_drug_physical</th>\n",
       "      <th>cellphone_in_use</th>\n",
       "    </tr>\n",
       "  </thead>\n",
       "  <tbody>\n",
       "    <tr>\n",
       "      <th>0</th>\n",
       "      <td>22</td>\n",
       "      <td>3899454</td>\n",
       "      <td>1</td>\n",
       "      <td>road signs</td>\n",
       "      <td>1</td>\n",
       "      <td>29.0</td>\n",
       "      <td>had not been drinking</td>\n",
       "      <td>None</td>\n",
       "      <td>0.0</td>\n",
       "    </tr>\n",
       "    <tr>\n",
       "      <th>1</th>\n",
       "      <td>23</td>\n",
       "      <td>3899454</td>\n",
       "      <td>2</td>\n",
       "      <td>road signs</td>\n",
       "      <td>0</td>\n",
       "      <td>7.0</td>\n",
       "      <td>had not been drinking</td>\n",
       "      <td>None</td>\n",
       "      <td>0.0</td>\n",
       "    </tr>\n",
       "    <tr>\n",
       "      <th>2</th>\n",
       "      <td>29</td>\n",
       "      <td>3899462</td>\n",
       "      <td>2</td>\n",
       "      <td>car</td>\n",
       "      <td>0</td>\n",
       "      <td>21.0</td>\n",
       "      <td>had not been drinking</td>\n",
       "      <td>None</td>\n",
       "      <td>0.0</td>\n",
       "    </tr>\n",
       "    <tr>\n",
       "      <th>3</th>\n",
       "      <td>31</td>\n",
       "      <td>3899465</td>\n",
       "      <td>2</td>\n",
       "      <td>road signs</td>\n",
       "      <td>0</td>\n",
       "      <td>24.0</td>\n",
       "      <td>had not been drinking</td>\n",
       "      <td>None</td>\n",
       "      <td>0.0</td>\n",
       "    </tr>\n",
       "    <tr>\n",
       "      <th>4</th>\n",
       "      <td>41</td>\n",
       "      <td>3899478</td>\n",
       "      <td>2</td>\n",
       "      <td>road bumper</td>\n",
       "      <td>0</td>\n",
       "      <td>NaN</td>\n",
       "      <td>not applicable</td>\n",
       "      <td>not applicable</td>\n",
       "      <td>0.0</td>\n",
       "    </tr>\n",
       "  </tbody>\n",
       "</table>\n",
       "</div>"
      ],
      "text/plain": [
       "   id  case_id  party_number   party_type  at_fault  insurance_premium  \\\n",
       "0  22  3899454             1   road signs         1               29.0   \n",
       "1  23  3899454             2   road signs         0                7.0   \n",
       "2  29  3899462             2          car         0               21.0   \n",
       "3  31  3899465             2   road signs         0               24.0   \n",
       "4  41  3899478             2  road bumper         0                NaN   \n",
       "\n",
       "          party_sobriety party_drug_physical  cellphone_in_use  \n",
       "0  had not been drinking                None               0.0  \n",
       "1  had not been drinking                None               0.0  \n",
       "2  had not been drinking                None               0.0  \n",
       "3  had not been drinking                None               0.0  \n",
       "4         not applicable      not applicable               0.0  "
      ]
     },
     "execution_count": 8,
     "metadata": {},
     "output_type": "execute_result"
    }
   ],
   "source": [
    "query = '''\n",
    "SELECT *\n",
    "FROM parties\n",
    "limit 10\n",
    "'''\n",
    "\n",
    "sample_parties = pd.read_sql_query(query, con=engine) \n",
    "sample_parties.head()"
   ]
  },
  {
   "cell_type": "markdown",
   "id": "d755b679",
   "metadata": {},
   "source": [
    "### Вывод"
   ]
  },
  {
   "cell_type": "markdown",
   "id": "9eff1bc5",
   "metadata": {},
   "source": [
    "- Все таблицы имеют набор данных;\n",
    "- Количество таблиц соответствует условию задачи;\n",
    "- Общий ключ для связи таблиц имеется."
   ]
  },
  {
   "cell_type": "markdown",
   "id": "fc9a09be",
   "metadata": {},
   "source": [
    "##  Проведите статистический анализ факторов ДТП"
   ]
  },
  {
   "cell_type": "markdown",
   "id": "ad4e1d34",
   "metadata": {},
   "source": [
    "Посмотрим в какие месяцы происходит наибольшее количество аварий:"
   ]
  },
  {
   "cell_type": "code",
   "execution_count": 9,
   "id": "d395f165",
   "metadata": {},
   "outputs": [
    {
     "data": {
      "text/html": [
       "<div>\n",
       "<style scoped>\n",
       "    .dataframe tbody tr th:only-of-type {\n",
       "        vertical-align: middle;\n",
       "    }\n",
       "\n",
       "    .dataframe tbody tr th {\n",
       "        vertical-align: top;\n",
       "    }\n",
       "\n",
       "    .dataframe thead th {\n",
       "        text-align: right;\n",
       "    }\n",
       "</style>\n",
       "<table border=\"1\" class=\"dataframe\">\n",
       "  <thead>\n",
       "    <tr style=\"text-align: right;\">\n",
       "      <th></th>\n",
       "      <th>month_date</th>\n",
       "      <th>total_collisions</th>\n",
       "    </tr>\n",
       "  </thead>\n",
       "  <tbody>\n",
       "    <tr>\n",
       "      <th>0</th>\n",
       "      <td>3.0</td>\n",
       "      <td>139581</td>\n",
       "    </tr>\n",
       "    <tr>\n",
       "      <th>1</th>\n",
       "      <td>1.0</td>\n",
       "      <td>132044</td>\n",
       "    </tr>\n",
       "    <tr>\n",
       "      <th>2</th>\n",
       "      <td>5.0</td>\n",
       "      <td>130316</td>\n",
       "    </tr>\n",
       "    <tr>\n",
       "      <th>3</th>\n",
       "      <td>4.0</td>\n",
       "      <td>130180</td>\n",
       "    </tr>\n",
       "    <tr>\n",
       "      <th>4</th>\n",
       "      <td>2.0</td>\n",
       "      <td>128858</td>\n",
       "    </tr>\n",
       "    <tr>\n",
       "      <th>5</th>\n",
       "      <td>10.0</td>\n",
       "      <td>112237</td>\n",
       "    </tr>\n",
       "    <tr>\n",
       "      <th>6</th>\n",
       "      <td>12.0</td>\n",
       "      <td>107945</td>\n",
       "    </tr>\n",
       "    <tr>\n",
       "      <th>7</th>\n",
       "      <td>9.0</td>\n",
       "      <td>105159</td>\n",
       "    </tr>\n",
       "    <tr>\n",
       "      <th>8</th>\n",
       "      <td>11.0</td>\n",
       "      <td>104770</td>\n",
       "    </tr>\n",
       "    <tr>\n",
       "      <th>9</th>\n",
       "      <td>8.0</td>\n",
       "      <td>104089</td>\n",
       "    </tr>\n",
       "    <tr>\n",
       "      <th>10</th>\n",
       "      <td>6.0</td>\n",
       "      <td>102594</td>\n",
       "    </tr>\n",
       "    <tr>\n",
       "      <th>11</th>\n",
       "      <td>7.0</td>\n",
       "      <td>102227</td>\n",
       "    </tr>\n",
       "  </tbody>\n",
       "</table>\n",
       "</div>"
      ],
      "text/plain": [
       "    month_date  total_collisions\n",
       "0          3.0            139581\n",
       "1          1.0            132044\n",
       "2          5.0            130316\n",
       "3          4.0            130180\n",
       "4          2.0            128858\n",
       "5         10.0            112237\n",
       "6         12.0            107945\n",
       "7          9.0            105159\n",
       "8         11.0            104770\n",
       "9          8.0            104089\n",
       "10         6.0            102594\n",
       "11         7.0            102227"
      ]
     },
     "execution_count": 9,
     "metadata": {},
     "output_type": "execute_result"
    }
   ],
   "source": [
    "query = '''\n",
    "select distinct extract(month from collision_date) month_date,\n",
    "      count(case_id) total_collisions\n",
    "from collisions\n",
    "group by month_date\n",
    "order by total_collisions desc\n",
    "'''\n",
    "\n",
    "count_collions = pd.read_sql_query(query, con=engine)\n",
    "count_collions"
   ]
  },
  {
   "cell_type": "code",
   "execution_count": 10,
   "id": "9ebbcc55",
   "metadata": {},
   "outputs": [
    {
     "data": {
      "image/png": "[encoded data removed]",
      "text/plain": [
       "<Figure size 432x288 with 1 Axes>"
      ]
     },
     "metadata": {
      "needs_background": "light"
     },
     "output_type": "display_data"
    }
   ],
   "source": [
    "import seaborn as sns\n",
    "sns.barplot(data = count_collions, x='month_date', y='total_collisions')\n",
    "plt.title('Количество аварий в месяц')\n",
    "plt.xticks(rotation=40)\n",
    "plt.xlabel('Месяцы')\n",
    "plt.ylabel('Количество аварий')\n",
    "plt.show()"
   ]
  },
  {
   "cell_type": "markdown",
   "id": "d9b4b632",
   "metadata": {},
   "source": [
    "Как очевидно из графика, наибольшее количество аварий приходится на март месяц"
   ]
  },
  {
   "cell_type": "markdown",
   "id": "06f98038",
   "metadata": {},
   "source": [
    "Проведем анализ серьёзности повреждений транспортного средства, исходя из состояния дороги в момент ДТП:"
   ]
  },
  {
   "cell_type": "code",
   "execution_count": 11,
   "id": "22208315",
   "metadata": {},
   "outputs": [
    {
     "data": {
      "text/html": [
       "<div>\n",
       "<style scoped>\n",
       "    .dataframe tbody tr th:only-of-type {\n",
       "        vertical-align: middle;\n",
       "    }\n",
       "\n",
       "    .dataframe tbody tr th {\n",
       "        vertical-align: top;\n",
       "    }\n",
       "\n",
       "    .dataframe thead th {\n",
       "        text-align: right;\n",
       "    }\n",
       "</style>\n",
       "<table border=\"1\" class=\"dataframe\">\n",
       "  <thead>\n",
       "    <tr style=\"text-align: right;\">\n",
       "      <th></th>\n",
       "      <th>road_surface</th>\n",
       "      <th>count_collision_damage</th>\n",
       "    </tr>\n",
       "  </thead>\n",
       "  <tbody>\n",
       "    <tr>\n",
       "      <th>0</th>\n",
       "      <td>dry</td>\n",
       "      <td>1242026</td>\n",
       "    </tr>\n",
       "    <tr>\n",
       "      <th>1</th>\n",
       "      <td>wet</td>\n",
       "      <td>136236</td>\n",
       "    </tr>\n",
       "    <tr>\n",
       "      <th>2</th>\n",
       "      <td>None</td>\n",
       "      <td>13093</td>\n",
       "    </tr>\n",
       "    <tr>\n",
       "      <th>3</th>\n",
       "      <td>slippery</td>\n",
       "      <td>1384</td>\n",
       "    </tr>\n",
       "    <tr>\n",
       "      <th>4</th>\n",
       "      <td>snowy</td>\n",
       "      <td>7261</td>\n",
       "    </tr>\n",
       "  </tbody>\n",
       "</table>\n",
       "</div>"
      ],
      "text/plain": [
       "  road_surface  count_collision_damage\n",
       "0          dry                 1242026\n",
       "1          wet                  136236\n",
       "2         None                   13093\n",
       "3     slippery                    1384\n",
       "4        snowy                    7261"
      ]
     },
     "execution_count": 11,
     "metadata": {},
     "output_type": "execute_result"
    }
   ],
   "source": [
    "query = '''\n",
    "select distinct road_surface,\n",
    "       count(collision_damage) over (partition by road_surface) count_collision_damage       \n",
    "from collisions\n",
    "'''\n",
    "damage_collisions = pd.read_sql_query(query, con=engine)\n",
    "damage_collisions"
   ]
  },
  {
   "cell_type": "code",
   "execution_count": 12,
   "id": "e5ad6b04",
   "metadata": {},
   "outputs": [
    {
     "data": {
      "image/png": "[encoded data removed]",
      "text/plain": [
       "<Figure size 432x288 with 1 Axes>"
      ]
     },
     "metadata": {
      "needs_background": "light"
     },
     "output_type": "display_data"
    }
   ],
   "source": [
    "sns.barplot(data = damage_collisions, x='road_surface', y='count_collision_damage')\n",
    "plt.title('Количество повреждений транспортных средств, исходя из состояния дороги')\n",
    "plt.xticks(rotation=40)\n",
    "plt.xlabel('Количество повреждений')\n",
    "plt.ylabel('Состояние дороги')\n",
    "plt.show()"
   ]
  },
  {
   "cell_type": "markdown",
   "id": "56cc5116",
   "metadata": {},
   "source": [
    "Очевидно, что чаще всего дтп происходят когда дорогая сухая,но так же можно увидеть что мокрая дорога может повлиять на вероятность возникновения ДТП"
   ]
  },
  {
   "cell_type": "markdown",
   "id": "989b84ed",
   "metadata": {},
   "source": [
    "Проведем анализ серьёзности повреждений транспортного средства, исходя из дорожного состояния в момент ДТП:"
   ]
  },
  {
   "cell_type": "code",
   "execution_count": 13,
   "id": "2f1469dc",
   "metadata": {},
   "outputs": [
    {
     "data": {
      "text/html": [
       "<div>\n",
       "<style scoped>\n",
       "    .dataframe tbody tr th:only-of-type {\n",
       "        vertical-align: middle;\n",
       "    }\n",
       "\n",
       "    .dataframe tbody tr th {\n",
       "        vertical-align: top;\n",
       "    }\n",
       "\n",
       "    .dataframe thead th {\n",
       "        text-align: right;\n",
       "    }\n",
       "</style>\n",
       "<table border=\"1\" class=\"dataframe\">\n",
       "  <thead>\n",
       "    <tr style=\"text-align: right;\">\n",
       "      <th></th>\n",
       "      <th>road_condition_1</th>\n",
       "      <th>count_road_condition</th>\n",
       "    </tr>\n",
       "  </thead>\n",
       "  <tbody>\n",
       "    <tr>\n",
       "      <th>0</th>\n",
       "      <td>construction</td>\n",
       "      <td>19332</td>\n",
       "    </tr>\n",
       "    <tr>\n",
       "      <th>1</th>\n",
       "      <td>other</td>\n",
       "      <td>5688</td>\n",
       "    </tr>\n",
       "    <tr>\n",
       "      <th>2</th>\n",
       "      <td>holes</td>\n",
       "      <td>5484</td>\n",
       "    </tr>\n",
       "    <tr>\n",
       "      <th>3</th>\n",
       "      <td>obstruction</td>\n",
       "      <td>5276</td>\n",
       "    </tr>\n",
       "    <tr>\n",
       "      <th>4</th>\n",
       "      <td>loose material</td>\n",
       "      <td>2887</td>\n",
       "    </tr>\n",
       "    <tr>\n",
       "      <th>5</th>\n",
       "      <td>reduced width</td>\n",
       "      <td>1576</td>\n",
       "    </tr>\n",
       "    <tr>\n",
       "      <th>6</th>\n",
       "      <td>flooded</td>\n",
       "      <td>1114</td>\n",
       "    </tr>\n",
       "  </tbody>\n",
       "</table>\n",
       "</div>"
      ],
      "text/plain": [
       "  road_condition_1  count_road_condition\n",
       "0     construction                 19332\n",
       "1            other                  5688\n",
       "2            holes                  5484\n",
       "3      obstruction                  5276\n",
       "4   loose material                  2887\n",
       "5    reduced width                  1576\n",
       "6          flooded                  1114"
      ]
     },
     "execution_count": 13,
     "metadata": {},
     "output_type": "execute_result"
    }
   ],
   "source": [
    "query = '''\n",
    "select distinct road_condition_1,\n",
    "       count(collision_damage) over (partition by road_condition_1) count_road_condition       \n",
    "from collisions\n",
    "where road_condition_1 != 'normal'\n",
    "order by count_road_condition desc\n",
    "'''\n",
    "road_condition = pd.read_sql_query(query, con=engine)\n",
    "road_condition"
   ]
  },
  {
   "cell_type": "code",
   "execution_count": 14,
   "id": "a7c84293",
   "metadata": {},
   "outputs": [
    {
     "data": {
      "image/png": "[encoded data removed]",
      "text/plain": [
       "<Figure size 432x288 with 1 Axes>"
      ]
     },
     "metadata": {
      "needs_background": "light"
     },
     "output_type": "display_data"
    }
   ],
   "source": [
    "sns.barplot(data = road_condition, x='road_condition_1', y='count_road_condition')\n",
    "plt.title('Количество повреждений транспортных средств, исходя из дорожного состояния')\n",
    "plt.xticks(rotation=40)\n",
    "plt.xlabel('Количество повреждений')\n",
    "plt.ylabel('Дорожное состояние')\n",
    "plt.show()"
   ]
  },
  {
   "cell_type": "markdown",
   "id": "ee4a3995",
   "metadata": {},
   "source": [
    "ДТП чаще всего случаются на дорогах без повреждений. Однако, дороги с зоной строительства или ремонта так же увлечивают риск возникновения ДТП"
   ]
  },
  {
   "cell_type": "markdown",
   "id": "022e5fb6",
   "metadata": {},
   "source": [
    "Найдем самые частые причины ДТП (таблица parties):"
   ]
  },
  {
   "cell_type": "code",
   "execution_count": 15,
   "id": "f151381e",
   "metadata": {},
   "outputs": [
    {
     "data": {
      "text/html": [
       "<div>\n",
       "<style scoped>\n",
       "    .dataframe tbody tr th:only-of-type {\n",
       "        vertical-align: middle;\n",
       "    }\n",
       "\n",
       "    .dataframe tbody tr th {\n",
       "        vertical-align: top;\n",
       "    }\n",
       "\n",
       "    .dataframe thead th {\n",
       "        text-align: right;\n",
       "    }\n",
       "</style>\n",
       "<table border=\"1\" class=\"dataframe\">\n",
       "  <thead>\n",
       "    <tr style=\"text-align: right;\">\n",
       "      <th></th>\n",
       "      <th>primary_collision_factor</th>\n",
       "      <th>count_collision_factor</th>\n",
       "    </tr>\n",
       "  </thead>\n",
       "  <tbody>\n",
       "    <tr>\n",
       "      <th>0</th>\n",
       "      <td>vehicle code violation</td>\n",
       "      <td>1316453</td>\n",
       "    </tr>\n",
       "    <tr>\n",
       "      <th>1</th>\n",
       "      <td>other than driver</td>\n",
       "      <td>29780</td>\n",
       "    </tr>\n",
       "    <tr>\n",
       "      <th>2</th>\n",
       "      <td>other improper driving</td>\n",
       "      <td>8470</td>\n",
       "    </tr>\n",
       "    <tr>\n",
       "      <th>3</th>\n",
       "      <td>fell asleep</td>\n",
       "      <td>117</td>\n",
       "    </tr>\n",
       "  </tbody>\n",
       "</table>\n",
       "</div>"
      ],
      "text/plain": [
       "  primary_collision_factor  count_collision_factor\n",
       "0   vehicle code violation                 1316453\n",
       "1        other than driver                   29780\n",
       "2   other improper driving                    8470\n",
       "3              fell asleep                     117"
      ]
     },
     "execution_count": 15,
     "metadata": {},
     "output_type": "execute_result"
    }
   ],
   "source": [
    "query = '''\n",
    "select distinct primary_collision_factor,\n",
    "       count(primary_collision_factor) count_collision_factor\n",
    "from collisions\n",
    "where primary_collision_factor != 'unknown' \n",
    "group by primary_collision_factor\n",
    "order by count_collision_factor desc\n",
    "'''\n",
    "collisions_reasons = pd.read_sql_query(query, con=engine)\n",
    "collisions_reasons"
   ]
  },
  {
   "cell_type": "code",
   "execution_count": 16,
   "id": "0db02a4c",
   "metadata": {},
   "outputs": [
    {
     "data": {
      "image/png": "[encoded data removed]",
      "text/plain": [
       "<Figure size 432x288 with 1 Axes>"
      ]
     },
     "metadata": {
      "needs_background": "light"
     },
     "output_type": "display_data"
    }
   ],
   "source": [
    "sns.barplot(data = collisions_reasons, x='primary_collision_factor', y='count_collision_factor')\n",
    "plt.title('Количество аварий в месяц')\n",
    "plt.xticks(rotation=40)\n",
    "plt.xlabel('Месяцы')\n",
    "plt.ylabel('Количество аварий')\n",
    "plt.show()"
   ]
  },
  {
   "cell_type": "markdown",
   "id": "7d364e6e",
   "metadata": {},
   "source": [
    "Бесспорно, самой частой причиной аварий является нарушение пдд"
   ]
  },
  {
   "cell_type": "markdown",
   "id": "a86a1db4",
   "metadata": {},
   "source": [
    "Найдем самые частые нарушения:"
   ]
  },
  {
   "cell_type": "code",
   "execution_count": 17,
   "id": "50838273",
   "metadata": {},
   "outputs": [
    {
     "data": {
      "text/html": [
       "<div>\n",
       "<style scoped>\n",
       "    .dataframe tbody tr th:only-of-type {\n",
       "        vertical-align: middle;\n",
       "    }\n",
       "\n",
       "    .dataframe tbody tr th {\n",
       "        vertical-align: top;\n",
       "    }\n",
       "\n",
       "    .dataframe thead th {\n",
       "        text-align: right;\n",
       "    }\n",
       "</style>\n",
       "<table border=\"1\" class=\"dataframe\">\n",
       "  <thead>\n",
       "    <tr style=\"text-align: right;\">\n",
       "      <th></th>\n",
       "      <th>pcf_violation_category</th>\n",
       "      <th>count_pcf_violation_category</th>\n",
       "    </tr>\n",
       "  </thead>\n",
       "  <tbody>\n",
       "    <tr>\n",
       "      <th>0</th>\n",
       "      <td>speeding</td>\n",
       "      <td>438439</td>\n",
       "    </tr>\n",
       "    <tr>\n",
       "      <th>1</th>\n",
       "      <td>improper turning</td>\n",
       "      <td>238987</td>\n",
       "    </tr>\n",
       "    <tr>\n",
       "      <th>2</th>\n",
       "      <td>automobile right of way</td>\n",
       "      <td>158291</td>\n",
       "    </tr>\n",
       "    <tr>\n",
       "      <th>3</th>\n",
       "      <td>dui</td>\n",
       "      <td>110476</td>\n",
       "    </tr>\n",
       "    <tr>\n",
       "      <th>4</th>\n",
       "      <td>unsafe lane change</td>\n",
       "      <td>93962</td>\n",
       "    </tr>\n",
       "  </tbody>\n",
       "</table>\n",
       "</div>"
      ],
      "text/plain": [
       "    pcf_violation_category  count_pcf_violation_category\n",
       "0                 speeding                        438439\n",
       "1         improper turning                        238987\n",
       "2  automobile right of way                        158291\n",
       "3                      dui                        110476\n",
       "4       unsafe lane change                         93962"
      ]
     },
     "execution_count": 17,
     "metadata": {},
     "output_type": "execute_result"
    }
   ],
   "source": [
    "query = '''\n",
    "select distinct pcf_violation_category,\n",
    "       count(pcf_violation_category) count_pcf_violation_category\n",
    "from collisions\n",
    "group by pcf_violation_category\n",
    "order by count_pcf_violation_category desc\n",
    "limit 5\n",
    "'''\n",
    "violation_category = pd.read_sql_query(query, con=engine)\n",
    "violation_category "
   ]
  },
  {
   "cell_type": "code",
   "execution_count": 18,
   "id": "8ce04a05",
   "metadata": {},
   "outputs": [
    {
     "data": {
      "image/png": "[encoded data removed]",
      "text/plain": [
       "<Figure size 432x288 with 1 Axes>"
      ]
     },
     "metadata": {
      "needs_background": "light"
     },
     "output_type": "display_data"
    }
   ],
   "source": [
    "sns.barplot(data = violation_category, x='pcf_violation_category', y='count_pcf_violation_category')\n",
    "plt.title('Количество нарушений по категориям')\n",
    "plt.xticks(rotation=40)\n",
    "plt.xlabel('Категория нарушения')\n",
    "plt.ylabel('Количество нарушений')\n",
    "plt.show()"
   ]
  },
  {
   "cell_type": "markdown",
   "id": "21a6c197",
   "metadata": {},
   "source": [
    "Самыми частыми нарушениями является привышение скорости. На втором месте находится неправильный поворот"
   ]
  },
  {
   "cell_type": "markdown",
   "id": "2b35ce28",
   "metadata": {},
   "source": [
    "Посмотрим влияет ли погода на веротятность ДТП:"
   ]
  },
  {
   "cell_type": "code",
   "execution_count": 19,
   "id": "d0260b45",
   "metadata": {},
   "outputs": [
    {
     "data": {
      "text/html": [
       "<div>\n",
       "<style scoped>\n",
       "    .dataframe tbody tr th:only-of-type {\n",
       "        vertical-align: middle;\n",
       "    }\n",
       "\n",
       "    .dataframe tbody tr th {\n",
       "        vertical-align: top;\n",
       "    }\n",
       "\n",
       "    .dataframe thead th {\n",
       "        text-align: right;\n",
       "    }\n",
       "</style>\n",
       "<table border=\"1\" class=\"dataframe\">\n",
       "  <thead>\n",
       "    <tr style=\"text-align: right;\">\n",
       "      <th></th>\n",
       "      <th>weather_1</th>\n",
       "      <th>count_collisions</th>\n",
       "    </tr>\n",
       "  </thead>\n",
       "  <tbody>\n",
       "    <tr>\n",
       "      <th>0</th>\n",
       "      <td>clear</td>\n",
       "      <td>1121048</td>\n",
       "    </tr>\n",
       "    <tr>\n",
       "      <th>1</th>\n",
       "      <td>cloudy</td>\n",
       "      <td>203030</td>\n",
       "    </tr>\n",
       "    <tr>\n",
       "      <th>2</th>\n",
       "      <td>raining</td>\n",
       "      <td>57976</td>\n",
       "    </tr>\n",
       "    <tr>\n",
       "      <th>3</th>\n",
       "      <td>None</td>\n",
       "      <td>7259</td>\n",
       "    </tr>\n",
       "    <tr>\n",
       "      <th>4</th>\n",
       "      <td>fog</td>\n",
       "      <td>6156</td>\n",
       "    </tr>\n",
       "    <tr>\n",
       "      <th>5</th>\n",
       "      <td>snowing</td>\n",
       "      <td>2571</td>\n",
       "    </tr>\n",
       "    <tr>\n",
       "      <th>6</th>\n",
       "      <td>other</td>\n",
       "      <td>1516</td>\n",
       "    </tr>\n",
       "    <tr>\n",
       "      <th>7</th>\n",
       "      <td>wind</td>\n",
       "      <td>444</td>\n",
       "    </tr>\n",
       "  </tbody>\n",
       "</table>\n",
       "</div>"
      ],
      "text/plain": [
       "  weather_1  count_collisions\n",
       "0     clear           1121048\n",
       "1    cloudy            203030\n",
       "2   raining             57976\n",
       "3      None              7259\n",
       "4       fog              6156\n",
       "5   snowing              2571\n",
       "6     other              1516\n",
       "7      wind               444"
      ]
     },
     "execution_count": 19,
     "metadata": {},
     "output_type": "execute_result"
    }
   ],
   "source": [
    "query = '''\n",
    "select distinct weather_1,\n",
    "       count(case_id) count_collisions\n",
    "from collisions\n",
    "group by weather_1\n",
    "order by count_collisions desc\n",
    "'''\n",
    "weather_damage = pd.read_sql_query(query, con=engine)\n",
    "weather_damage"
   ]
  },
  {
   "cell_type": "code",
   "execution_count": 20,
   "id": "adc45191",
   "metadata": {},
   "outputs": [
    {
     "data": {
      "image/png": "[encoded data removed]",
      "text/plain": [
       "<Figure size 432x288 with 1 Axes>"
      ]
     },
     "metadata": {
      "needs_background": "light"
     },
     "output_type": "display_data"
    }
   ],
   "source": [
    "sns.barplot(data = weather_damage, x='weather_1', y='count_collisions')\n",
    "plt.title('Влияние погодных условий на вероятность ДТП')\n",
    "plt.xticks(rotation=40)\n",
    "plt.xlabel('Погода')\n",
    "plt.ylabel('Количество нарушений')\n",
    "plt.show()"
   ]
  },
  {
   "cell_type": "markdown",
   "id": "3e4dea9a",
   "metadata": {},
   "source": [
    "Чаще всего дтп происходят в нормальную погоду, но все же наиболее высокий риск попасть в дтп в облачную погоду или в дождь"
   ]
  },
  {
   "cell_type": "markdown",
   "id": "e9353737",
   "metadata": {},
   "source": [
    "Проверим влияет ли освещение на вероятность возникновения ДТП:"
   ]
  },
  {
   "cell_type": "code",
   "execution_count": 21,
   "id": "9f36a784",
   "metadata": {},
   "outputs": [
    {
     "data": {
      "text/html": [
       "<div>\n",
       "<style scoped>\n",
       "    .dataframe tbody tr th:only-of-type {\n",
       "        vertical-align: middle;\n",
       "    }\n",
       "\n",
       "    .dataframe tbody tr th {\n",
       "        vertical-align: top;\n",
       "    }\n",
       "\n",
       "    .dataframe thead th {\n",
       "        text-align: right;\n",
       "    }\n",
       "</style>\n",
       "<table border=\"1\" class=\"dataframe\">\n",
       "  <thead>\n",
       "    <tr style=\"text-align: right;\">\n",
       "      <th></th>\n",
       "      <th>lighting</th>\n",
       "      <th>count_collisions</th>\n",
       "    </tr>\n",
       "  </thead>\n",
       "  <tbody>\n",
       "    <tr>\n",
       "      <th>0</th>\n",
       "      <td>daylight</td>\n",
       "      <td>941950</td>\n",
       "    </tr>\n",
       "    <tr>\n",
       "      <th>1</th>\n",
       "      <td>dark with street lights</td>\n",
       "      <td>291887</td>\n",
       "    </tr>\n",
       "    <tr>\n",
       "      <th>2</th>\n",
       "      <td>dark with no street lights</td>\n",
       "      <td>106170</td>\n",
       "    </tr>\n",
       "    <tr>\n",
       "      <th>3</th>\n",
       "      <td>dusk or dawn</td>\n",
       "      <td>47199</td>\n",
       "    </tr>\n",
       "    <tr>\n",
       "      <th>4</th>\n",
       "      <td>None</td>\n",
       "      <td>8593</td>\n",
       "    </tr>\n",
       "    <tr>\n",
       "      <th>5</th>\n",
       "      <td>dark with street lights not functioning</td>\n",
       "      <td>4201</td>\n",
       "    </tr>\n",
       "  </tbody>\n",
       "</table>\n",
       "</div>"
      ],
      "text/plain": [
       "                                  lighting  count_collisions\n",
       "0                                 daylight            941950\n",
       "1                  dark with street lights            291887\n",
       "2               dark with no street lights            106170\n",
       "3                             dusk or dawn             47199\n",
       "4                                     None              8593\n",
       "5  dark with street lights not functioning              4201"
      ]
     },
     "execution_count": 21,
     "metadata": {},
     "output_type": "execute_result"
    }
   ],
   "source": [
    "query = '''\n",
    "select distinct lighting,\n",
    "       count(case_id) count_collisions\n",
    "from collisions\n",
    "group by lighting\n",
    "order by count_collisions desc\n",
    "'''\n",
    "lighting_damage = pd.read_sql_query(query, con=engine)\n",
    "lighting_damage"
   ]
  },
  {
   "cell_type": "code",
   "execution_count": 22,
   "id": "cebfcbcd",
   "metadata": {},
   "outputs": [
    {
     "data": {
      "image/png": "[encoded data removed]",
      "text/plain": [
       "<Figure size 432x288 with 1 Axes>"
      ]
     },
     "metadata": {
      "needs_background": "light"
     },
     "output_type": "display_data"
    }
   ],
   "source": [
    "sns.barplot(data = lighting_damage, x='lighting', y='count_collisions')\n",
    "plt.title('Влияние освещения на вероятность ДТП')\n",
    "plt.xticks(rotation=40)\n",
    "plt.xlabel('Освещение')\n",
    "plt.ylabel('Количество нарушений')\n",
    "plt.show()"
   ]
  },
  {
   "cell_type": "markdown",
   "id": "2f56c52d",
   "metadata": {},
   "source": [
    "Можно сделать вывод, что освещение не особо влияет на вероятность возникновения дтп, хотя при ночном освещении риск все же есть"
   ]
  },
  {
   "cell_type": "markdown",
   "id": "192c4390",
   "metadata": {},
   "source": [
    "### Вывод"
   ]
  },
  {
   "cell_type": "markdown",
   "id": "ccc99910",
   "metadata": {},
   "source": [
    "- наибольшее количество аварий приходится на октябрь месяц\n",
    "- чаще всего дтп происходят когда дорогая сухая,но так же можно увидеть что мокрая дорога может повлиять на вероятность возникновения ДТП\n",
    "- ДТП чаще всего случаются на дорогах без повреждений. Однако, дороги с зоной строительства или ремонта так же увлечивают риск возникновения ДТП\n",
    "- самой частой причиной аварий является нарушение пдд\n",
    "- чаще всего дтп происходят в нормальную погоду, но все же наиболее высокий риск попасть в дтп в облачную погоду или в дождь\n",
    "- самыми частыми нарушениями является привышение скорости. На втором месте находится неправильный поворот\n",
    "-  освещение не особо влияет на вероятность возникновения дтп, хотя при ночном освещении риск все же есть"
   ]
  },
  {
   "cell_type": "markdown",
   "id": "0983d6a1",
   "metadata": {},
   "source": [
    "## Создайте модель для оценки водительского риска"
   ]
  },
  {
   "cell_type": "markdown",
   "id": "561c4ab4",
   "metadata": {},
   "source": [
    "**Подготовьте набор данных на основе первичного предположения заказчика**:\n",
    "- Выберите тип виновника — только машина (car). **\n",
    "- Возьмите случаи, когда ДТП привело к любым значимым повреждениям автомобиля любого из участников — все, кроме типа SCRATCH (царапина).\n",
    "- Для моделирования возьмите данные только за 2012 год.\n",
    "- Подготовка исходной таблицы должна проводиться с помощью sql-запроса."
   ]
  },
  {
   "cell_type": "markdown",
   "id": "7ba8fb9e",
   "metadata": {},
   "source": [
    "Сразу добавим в таблицу только те факторы, которые могут влиять на вероятность дтп:"
   ]
  },
  {
   "cell_type": "code",
   "execution_count": 23,
   "id": "d2997ad1",
   "metadata": {},
   "outputs": [],
   "source": [
    "query = '''\n",
    "with \n",
    "  p as(\n",
    "        select distinct case_id,\n",
    "               at_fault,\n",
    "               party_type, \n",
    "               party_sobriety,\n",
    "               party_drug_physical,\n",
    "               cellphone_in_use\n",
    "        from parties),\n",
    "  c as (\n",
    "        select distinct case_id,\n",
    "               weather_1,\n",
    "               road_surface,\n",
    "               lighting,\n",
    "               road_condition_1,\n",
    "               collision_date,\n",
    "               collision_damage,\n",
    "               intersection,\n",
    "               control_device\n",
    "        from collisions),\n",
    "  v as (\n",
    "        select distinct case_id,\n",
    "               vehicle_age\n",
    "        from vehicles),\n",
    "  c_i as (\n",
    "          select distinct case_id\n",
    "          from case_ids)\n",
    "select p.party_type,\n",
    "       p.at_fault,\n",
    "       p.party_sobriety,\n",
    "       p.party_drug_physical,\n",
    "       c.road_surface,\n",
    "       c.lighting,\n",
    "       c.road_condition_1,\n",
    "       v.vehicle_age,\n",
    "       c.intersection,\n",
    "       p.cellphone_in_use,\n",
    "       c.control_device,\n",
    "       c.weather_1\n",
    "from c_i\n",
    "join p on c_i.case_id = p.case_id\n",
    "join c on c_i.case_id = c.case_id\n",
    "join v on c_i.case_id = v.case_id\n",
    "where party_type = 'car'\n",
    "  and collision_date between '2012-01-01' and '2013-01-01'\n",
    "  and collision_damage != 'scratch'\n",
    "'''\n",
    "df = pd.read_sql_query(query, con=engine)"
   ]
  },
  {
   "cell_type": "code",
   "execution_count": 24,
   "id": "f71ce918",
   "metadata": {},
   "outputs": [
    {
     "data": {
      "text/html": [
       "<div>\n",
       "<style scoped>\n",
       "    .dataframe tbody tr th:only-of-type {\n",
       "        vertical-align: middle;\n",
       "    }\n",
       "\n",
       "    .dataframe tbody tr th {\n",
       "        vertical-align: top;\n",
       "    }\n",
       "\n",
       "    .dataframe thead th {\n",
       "        text-align: right;\n",
       "    }\n",
       "</style>\n",
       "<table border=\"1\" class=\"dataframe\">\n",
       "  <thead>\n",
       "    <tr style=\"text-align: right;\">\n",
       "      <th></th>\n",
       "      <th>party_type</th>\n",
       "      <th>at_fault</th>\n",
       "      <th>party_sobriety</th>\n",
       "      <th>party_drug_physical</th>\n",
       "      <th>road_surface</th>\n",
       "      <th>lighting</th>\n",
       "      <th>road_condition_1</th>\n",
       "      <th>vehicle_age</th>\n",
       "      <th>intersection</th>\n",
       "      <th>cellphone_in_use</th>\n",
       "      <th>control_device</th>\n",
       "      <th>weather_1</th>\n",
       "    </tr>\n",
       "  </thead>\n",
       "  <tbody>\n",
       "    <tr>\n",
       "      <th>0</th>\n",
       "      <td>car</td>\n",
       "      <td>0</td>\n",
       "      <td>had not been drinking</td>\n",
       "      <td>None</td>\n",
       "      <td>dry</td>\n",
       "      <td>daylight</td>\n",
       "      <td>other</td>\n",
       "      <td>2.0</td>\n",
       "      <td>1.0</td>\n",
       "      <td>0.0</td>\n",
       "      <td>none</td>\n",
       "      <td>cloudy</td>\n",
       "    </tr>\n",
       "    <tr>\n",
       "      <th>1</th>\n",
       "      <td>car</td>\n",
       "      <td>1</td>\n",
       "      <td>had not been drinking</td>\n",
       "      <td>None</td>\n",
       "      <td>dry</td>\n",
       "      <td>daylight</td>\n",
       "      <td>other</td>\n",
       "      <td>2.0</td>\n",
       "      <td>1.0</td>\n",
       "      <td>0.0</td>\n",
       "      <td>none</td>\n",
       "      <td>cloudy</td>\n",
       "    </tr>\n",
       "    <tr>\n",
       "      <th>2</th>\n",
       "      <td>car</td>\n",
       "      <td>0</td>\n",
       "      <td>had not been drinking</td>\n",
       "      <td>None</td>\n",
       "      <td>dry</td>\n",
       "      <td>daylight</td>\n",
       "      <td>normal</td>\n",
       "      <td>5.0</td>\n",
       "      <td>1.0</td>\n",
       "      <td>0.0</td>\n",
       "      <td>none</td>\n",
       "      <td>clear</td>\n",
       "    </tr>\n",
       "    <tr>\n",
       "      <th>3</th>\n",
       "      <td>car</td>\n",
       "      <td>1</td>\n",
       "      <td>had not been drinking</td>\n",
       "      <td>None</td>\n",
       "      <td>dry</td>\n",
       "      <td>daylight</td>\n",
       "      <td>normal</td>\n",
       "      <td>5.0</td>\n",
       "      <td>1.0</td>\n",
       "      <td>0.0</td>\n",
       "      <td>none</td>\n",
       "      <td>clear</td>\n",
       "    </tr>\n",
       "    <tr>\n",
       "      <th>4</th>\n",
       "      <td>car</td>\n",
       "      <td>0</td>\n",
       "      <td>had not been drinking</td>\n",
       "      <td>None</td>\n",
       "      <td>dry</td>\n",
       "      <td>daylight</td>\n",
       "      <td>normal</td>\n",
       "      <td>1.0</td>\n",
       "      <td>1.0</td>\n",
       "      <td>0.0</td>\n",
       "      <td>functioning</td>\n",
       "      <td>clear</td>\n",
       "    </tr>\n",
       "  </tbody>\n",
       "</table>\n",
       "</div>"
      ],
      "text/plain": [
       "  party_type  at_fault         party_sobriety party_drug_physical  \\\n",
       "0        car         0  had not been drinking                None   \n",
       "1        car         1  had not been drinking                None   \n",
       "2        car         0  had not been drinking                None   \n",
       "3        car         1  had not been drinking                None   \n",
       "4        car         0  had not been drinking                None   \n",
       "\n",
       "  road_surface  lighting road_condition_1  vehicle_age  intersection  \\\n",
       "0          dry  daylight            other          2.0           1.0   \n",
       "1          dry  daylight            other          2.0           1.0   \n",
       "2          dry  daylight           normal          5.0           1.0   \n",
       "3          dry  daylight           normal          5.0           1.0   \n",
       "4          dry  daylight           normal          1.0           1.0   \n",
       "\n",
       "   cellphone_in_use control_device weather_1  \n",
       "0               0.0           none    cloudy  \n",
       "1               0.0           none    cloudy  \n",
       "2               0.0           none     clear  \n",
       "3               0.0           none     clear  \n",
       "4               0.0    functioning     clear  "
      ]
     },
     "execution_count": 24,
     "metadata": {},
     "output_type": "execute_result"
    }
   ],
   "source": [
    "df.head()"
   ]
  },
  {
   "cell_type": "markdown",
   "id": "a5500287",
   "metadata": {},
   "source": [
    "Были отобраны факторы, которые могут влиять на вероятность ДТП:\n",
    "- 'party_sobriety' - Уровень трезвости виновника (точно может влиять) Таблица parties\n",
    "- 'party_drug_physical' - Состояние участника: физическое или с учётом принятых лекарств. Таблица parties\n",
    "- 'cellphone_in_use' - Возможность говорить по громкой связи в машине или нет. Таблица parties\n",
    "- 'weather_1' - Погода. Таблица collisions\n",
    "- 'road_surface' - Состояние дороги. Таблица collisions\n",
    "- 'lighting' - Освещение. Таблица collisions\n",
    "- 'road_condition_1' - Дорожное состояние. Таблица collisions \n",
    "- 'intersections' - Является ли перекрестком. Таблица collisions\n",
    "- control_device - Устройство управления. Таблица collisions"
   ]
  },
  {
   "cell_type": "code",
   "execution_count": 25,
   "id": "864199fb",
   "metadata": {},
   "outputs": [
    {
     "name": "stdout",
     "output_type": "stream",
     "text": [
      "<class 'pandas.core.frame.DataFrame'>\n",
      "RangeIndex: 101523 entries, 0 to 101522\n",
      "Data columns (total 12 columns):\n",
      " #   Column               Non-Null Count   Dtype  \n",
      "---  ------               --------------   -----  \n",
      " 0   party_type           101523 non-null  object \n",
      " 1   at_fault             101523 non-null  int64  \n",
      " 2   party_sobriety       99951 non-null   object \n",
      " 3   party_drug_physical  8438 non-null    object \n",
      " 4   road_surface         100910 non-null  object \n",
      " 5   lighting             101245 non-null  object \n",
      " 6   road_condition_1     101073 non-null  object \n",
      " 7   vehicle_age          98622 non-null   float64\n",
      " 8   intersection         101186 non-null  float64\n",
      " 9   cellphone_in_use     91676 non-null   float64\n",
      " 10  control_device       101124 non-null  object \n",
      " 11  weather_1            101215 non-null  object \n",
      "dtypes: float64(3), int64(1), object(8)\n",
      "memory usage: 9.3+ MB\n"
     ]
    }
   ],
   "source": [
    "df.info()"
   ]
  },
  {
   "cell_type": "code",
   "execution_count": 26,
   "id": "2635290a",
   "metadata": {},
   "outputs": [
    {
     "data": {
      "text/plain": [
       "party_type             0.000000\n",
       "at_fault               0.000000\n",
       "party_sobriety         0.015484\n",
       "party_drug_physical    0.916886\n",
       "road_surface           0.006038\n",
       "lighting               0.002738\n",
       "road_condition_1       0.004432\n",
       "vehicle_age            0.028575\n",
       "intersection           0.003319\n",
       "cellphone_in_use       0.096993\n",
       "control_device         0.003930\n",
       "weather_1              0.003034\n",
       "dtype: float64"
      ]
     },
     "execution_count": 26,
     "metadata": {},
     "output_type": "execute_result"
    }
   ],
   "source": [
    "df.isna().mean()"
   ]
  },
  {
   "cell_type": "markdown",
   "id": "25894e1a",
   "metadata": {},
   "source": [
    "Столбец party_drug_physical мог бы быть полезен, но в нем отсутствует более 90% данных, поэтому особой ценности он не представляет, дропнем его:"
   ]
  },
  {
   "cell_type": "code",
   "execution_count": 27,
   "id": "7798f075",
   "metadata": {},
   "outputs": [
    {
     "data": {
      "text/html": [
       "<div>\n",
       "<style scoped>\n",
       "    .dataframe tbody tr th:only-of-type {\n",
       "        vertical-align: middle;\n",
       "    }\n",
       "\n",
       "    .dataframe tbody tr th {\n",
       "        vertical-align: top;\n",
       "    }\n",
       "\n",
       "    .dataframe thead th {\n",
       "        text-align: right;\n",
       "    }\n",
       "</style>\n",
       "<table border=\"1\" class=\"dataframe\">\n",
       "  <thead>\n",
       "    <tr style=\"text-align: right;\">\n",
       "      <th></th>\n",
       "      <th>party_type</th>\n",
       "      <th>at_fault</th>\n",
       "      <th>party_sobriety</th>\n",
       "      <th>road_surface</th>\n",
       "      <th>lighting</th>\n",
       "      <th>road_condition_1</th>\n",
       "      <th>vehicle_age</th>\n",
       "      <th>intersection</th>\n",
       "      <th>cellphone_in_use</th>\n",
       "      <th>control_device</th>\n",
       "      <th>weather_1</th>\n",
       "    </tr>\n",
       "  </thead>\n",
       "  <tbody>\n",
       "    <tr>\n",
       "      <th>0</th>\n",
       "      <td>car</td>\n",
       "      <td>0</td>\n",
       "      <td>had not been drinking</td>\n",
       "      <td>dry</td>\n",
       "      <td>daylight</td>\n",
       "      <td>other</td>\n",
       "      <td>2.0</td>\n",
       "      <td>1.0</td>\n",
       "      <td>0.0</td>\n",
       "      <td>none</td>\n",
       "      <td>cloudy</td>\n",
       "    </tr>\n",
       "    <tr>\n",
       "      <th>1</th>\n",
       "      <td>car</td>\n",
       "      <td>1</td>\n",
       "      <td>had not been drinking</td>\n",
       "      <td>dry</td>\n",
       "      <td>daylight</td>\n",
       "      <td>other</td>\n",
       "      <td>2.0</td>\n",
       "      <td>1.0</td>\n",
       "      <td>0.0</td>\n",
       "      <td>none</td>\n",
       "      <td>cloudy</td>\n",
       "    </tr>\n",
       "    <tr>\n",
       "      <th>2</th>\n",
       "      <td>car</td>\n",
       "      <td>0</td>\n",
       "      <td>had not been drinking</td>\n",
       "      <td>dry</td>\n",
       "      <td>daylight</td>\n",
       "      <td>normal</td>\n",
       "      <td>5.0</td>\n",
       "      <td>1.0</td>\n",
       "      <td>0.0</td>\n",
       "      <td>none</td>\n",
       "      <td>clear</td>\n",
       "    </tr>\n",
       "    <tr>\n",
       "      <th>3</th>\n",
       "      <td>car</td>\n",
       "      <td>1</td>\n",
       "      <td>had not been drinking</td>\n",
       "      <td>dry</td>\n",
       "      <td>daylight</td>\n",
       "      <td>normal</td>\n",
       "      <td>5.0</td>\n",
       "      <td>1.0</td>\n",
       "      <td>0.0</td>\n",
       "      <td>none</td>\n",
       "      <td>clear</td>\n",
       "    </tr>\n",
       "    <tr>\n",
       "      <th>4</th>\n",
       "      <td>car</td>\n",
       "      <td>0</td>\n",
       "      <td>had not been drinking</td>\n",
       "      <td>dry</td>\n",
       "      <td>daylight</td>\n",
       "      <td>normal</td>\n",
       "      <td>1.0</td>\n",
       "      <td>1.0</td>\n",
       "      <td>0.0</td>\n",
       "      <td>functioning</td>\n",
       "      <td>clear</td>\n",
       "    </tr>\n",
       "  </tbody>\n",
       "</table>\n",
       "</div>"
      ],
      "text/plain": [
       "  party_type  at_fault         party_sobriety road_surface  lighting  \\\n",
       "0        car         0  had not been drinking          dry  daylight   \n",
       "1        car         1  had not been drinking          dry  daylight   \n",
       "2        car         0  had not been drinking          dry  daylight   \n",
       "3        car         1  had not been drinking          dry  daylight   \n",
       "4        car         0  had not been drinking          dry  daylight   \n",
       "\n",
       "  road_condition_1  vehicle_age  intersection  cellphone_in_use  \\\n",
       "0            other          2.0           1.0               0.0   \n",
       "1            other          2.0           1.0               0.0   \n",
       "2           normal          5.0           1.0               0.0   \n",
       "3           normal          5.0           1.0               0.0   \n",
       "4           normal          1.0           1.0               0.0   \n",
       "\n",
       "  control_device weather_1  \n",
       "0           none    cloudy  \n",
       "1           none    cloudy  \n",
       "2           none     clear  \n",
       "3           none     clear  \n",
       "4    functioning     clear  "
      ]
     },
     "execution_count": 27,
     "metadata": {},
     "output_type": "execute_result"
    }
   ],
   "source": [
    "df = df.drop('party_drug_physical', axis=1)\n",
    "df.head()"
   ]
  },
  {
   "cell_type": "markdown",
   "id": "b219c838",
   "metadata": {},
   "source": [
    "Небольшой % пропусков категориальных значений, дропнем их, так как это не повлияет на исследование"
   ]
  },
  {
   "cell_type": "code",
   "execution_count": 28,
   "id": "53e0a704",
   "metadata": {},
   "outputs": [],
   "source": [
    "df = df.dropna(subset = ['control_device','party_sobriety','weather_1','road_surface','lighting','road_condition_1'])"
   ]
  },
  {
   "cell_type": "code",
   "execution_count": 29,
   "id": "90b664cd",
   "metadata": {},
   "outputs": [],
   "source": [
    "df=df.fillna(df[{'vehicle_age','cellphone_in_use','intersection'}].median())"
   ]
  },
  {
   "cell_type": "code",
   "execution_count": 30,
   "id": "3b910c9c",
   "metadata": {},
   "outputs": [
    {
     "data": {
      "text/plain": [
       "party_type          0.0\n",
       "at_fault            0.0\n",
       "party_sobriety      0.0\n",
       "road_surface        0.0\n",
       "lighting            0.0\n",
       "road_condition_1    0.0\n",
       "vehicle_age         0.0\n",
       "intersection        0.0\n",
       "cellphone_in_use    0.0\n",
       "control_device      0.0\n",
       "weather_1           0.0\n",
       "dtype: float64"
      ]
     },
     "execution_count": 30,
     "metadata": {},
     "output_type": "execute_result"
    }
   ],
   "source": [
    "df.isna().mean()"
   ]
  },
  {
   "cell_type": "code",
   "execution_count": 31,
   "id": "27c81049",
   "metadata": {
    "scrolled": true
   },
   "outputs": [
    {
     "name": "stdout",
     "output_type": "stream",
     "text": [
      "<class 'pandas.core.frame.DataFrame'>\n",
      "Int64Index: 98385 entries, 0 to 101522\n",
      "Data columns (total 11 columns):\n",
      " #   Column            Non-Null Count  Dtype  \n",
      "---  ------            --------------  -----  \n",
      " 0   party_type        98385 non-null  object \n",
      " 1   at_fault          98385 non-null  int64  \n",
      " 2   party_sobriety    98385 non-null  object \n",
      " 3   road_surface      98385 non-null  object \n",
      " 4   lighting          98385 non-null  object \n",
      " 5   road_condition_1  98385 non-null  object \n",
      " 6   vehicle_age       98385 non-null  float64\n",
      " 7   intersection      98385 non-null  float64\n",
      " 8   cellphone_in_use  98385 non-null  float64\n",
      " 9   control_device    98385 non-null  object \n",
      " 10  weather_1         98385 non-null  object \n",
      "dtypes: float64(3), int64(1), object(7)\n",
      "memory usage: 9.0+ MB\n"
     ]
    }
   ],
   "source": [
    "df.info()"
   ]
  },
  {
   "cell_type": "code",
   "execution_count": 32,
   "id": "9dd6775b",
   "metadata": {},
   "outputs": [
    {
     "data": {
      "text/html": [
       "<div>\n",
       "<style scoped>\n",
       "    .dataframe tbody tr th:only-of-type {\n",
       "        vertical-align: middle;\n",
       "    }\n",
       "\n",
       "    .dataframe tbody tr th {\n",
       "        vertical-align: top;\n",
       "    }\n",
       "\n",
       "    .dataframe thead th {\n",
       "        text-align: right;\n",
       "    }\n",
       "</style>\n",
       "<table border=\"1\" class=\"dataframe\">\n",
       "  <thead>\n",
       "    <tr style=\"text-align: right;\">\n",
       "      <th></th>\n",
       "      <th>party_sobriety</th>\n",
       "      <th>road_surface</th>\n",
       "      <th>road_condition_1</th>\n",
       "    </tr>\n",
       "  </thead>\n",
       "  <tbody>\n",
       "    <tr>\n",
       "      <th>0</th>\n",
       "      <td>had not been drinking</td>\n",
       "      <td>dry</td>\n",
       "      <td>other</td>\n",
       "    </tr>\n",
       "    <tr>\n",
       "      <th>1</th>\n",
       "      <td>had not been drinking</td>\n",
       "      <td>dry</td>\n",
       "      <td>other</td>\n",
       "    </tr>\n",
       "    <tr>\n",
       "      <th>2</th>\n",
       "      <td>had not been drinking</td>\n",
       "      <td>dry</td>\n",
       "      <td>normal</td>\n",
       "    </tr>\n",
       "    <tr>\n",
       "      <th>3</th>\n",
       "      <td>had not been drinking</td>\n",
       "      <td>dry</td>\n",
       "      <td>normal</td>\n",
       "    </tr>\n",
       "    <tr>\n",
       "      <th>4</th>\n",
       "      <td>had not been drinking</td>\n",
       "      <td>dry</td>\n",
       "      <td>normal</td>\n",
       "    </tr>\n",
       "  </tbody>\n",
       "</table>\n",
       "</div>"
      ],
      "text/plain": [
       "          party_sobriety road_surface road_condition_1\n",
       "0  had not been drinking          dry            other\n",
       "1  had not been drinking          dry            other\n",
       "2  had not been drinking          dry           normal\n",
       "3  had not been drinking          dry           normal\n",
       "4  had not been drinking          dry           normal"
      ]
     },
     "execution_count": 32,
     "metadata": {},
     "output_type": "execute_result"
    }
   ],
   "source": [
    "cat = df[['party_sobriety','road_surface','road_condition_1']]\n",
    "cat.head()"
   ]
  },
  {
   "cell_type": "markdown",
   "id": "77d1a3c1",
   "metadata": {},
   "source": [
    "Закодируем данные:"
   ]
  },
  {
   "cell_type": "code",
   "execution_count": 33,
   "id": "deb93fe7",
   "metadata": {},
   "outputs": [],
   "source": [
    "ohe = OneHotEncoder(handle_unknown='ignore',sparse=False)\n",
    "feature_arr = ohe.fit_transform(cat[cat.columns])\n",
    "feature_labels = ohe.get_feature_names(cat.columns)\n",
    "df_ohe = pd.DataFrame(feature_arr, columns=feature_labels)"
   ]
  },
  {
   "cell_type": "code",
   "execution_count": 34,
   "id": "c4e3774f",
   "metadata": {},
   "outputs": [
    {
     "data": {
      "text/html": [
       "<div>\n",
       "<style scoped>\n",
       "    .dataframe tbody tr th:only-of-type {\n",
       "        vertical-align: middle;\n",
       "    }\n",
       "\n",
       "    .dataframe tbody tr th {\n",
       "        vertical-align: top;\n",
       "    }\n",
       "\n",
       "    .dataframe thead th {\n",
       "        text-align: right;\n",
       "    }\n",
       "</style>\n",
       "<table border=\"1\" class=\"dataframe\">\n",
       "  <thead>\n",
       "    <tr style=\"text-align: right;\">\n",
       "      <th></th>\n",
       "      <th>party_sobriety_had been drinking, impairment unknown</th>\n",
       "      <th>party_sobriety_had been drinking, not under influence</th>\n",
       "      <th>party_sobriety_had been drinking, under influence</th>\n",
       "      <th>party_sobriety_had not been drinking</th>\n",
       "      <th>party_sobriety_impairment unknown</th>\n",
       "      <th>party_sobriety_not applicable</th>\n",
       "      <th>road_surface_dry</th>\n",
       "      <th>road_surface_slippery</th>\n",
       "      <th>road_surface_snowy</th>\n",
       "      <th>road_surface_wet</th>\n",
       "      <th>road_condition_1_construction</th>\n",
       "      <th>road_condition_1_flooded</th>\n",
       "      <th>road_condition_1_holes</th>\n",
       "      <th>road_condition_1_loose material</th>\n",
       "      <th>road_condition_1_normal</th>\n",
       "      <th>road_condition_1_obstruction</th>\n",
       "      <th>road_condition_1_other</th>\n",
       "      <th>road_condition_1_reduced width</th>\n",
       "    </tr>\n",
       "  </thead>\n",
       "  <tbody>\n",
       "    <tr>\n",
       "      <th>0</th>\n",
       "      <td>0.0</td>\n",
       "      <td>0.0</td>\n",
       "      <td>0.0</td>\n",
       "      <td>1.0</td>\n",
       "      <td>0.0</td>\n",
       "      <td>0.0</td>\n",
       "      <td>1.0</td>\n",
       "      <td>0.0</td>\n",
       "      <td>0.0</td>\n",
       "      <td>0.0</td>\n",
       "      <td>0.0</td>\n",
       "      <td>0.0</td>\n",
       "      <td>0.0</td>\n",
       "      <td>0.0</td>\n",
       "      <td>0.0</td>\n",
       "      <td>0.0</td>\n",
       "      <td>1.0</td>\n",
       "      <td>0.0</td>\n",
       "    </tr>\n",
       "    <tr>\n",
       "      <th>1</th>\n",
       "      <td>0.0</td>\n",
       "      <td>0.0</td>\n",
       "      <td>0.0</td>\n",
       "      <td>1.0</td>\n",
       "      <td>0.0</td>\n",
       "      <td>0.0</td>\n",
       "      <td>1.0</td>\n",
       "      <td>0.0</td>\n",
       "      <td>0.0</td>\n",
       "      <td>0.0</td>\n",
       "      <td>0.0</td>\n",
       "      <td>0.0</td>\n",
       "      <td>0.0</td>\n",
       "      <td>0.0</td>\n",
       "      <td>0.0</td>\n",
       "      <td>0.0</td>\n",
       "      <td>1.0</td>\n",
       "      <td>0.0</td>\n",
       "    </tr>\n",
       "    <tr>\n",
       "      <th>2</th>\n",
       "      <td>0.0</td>\n",
       "      <td>0.0</td>\n",
       "      <td>0.0</td>\n",
       "      <td>1.0</td>\n",
       "      <td>0.0</td>\n",
       "      <td>0.0</td>\n",
       "      <td>1.0</td>\n",
       "      <td>0.0</td>\n",
       "      <td>0.0</td>\n",
       "      <td>0.0</td>\n",
       "      <td>0.0</td>\n",
       "      <td>0.0</td>\n",
       "      <td>0.0</td>\n",
       "      <td>0.0</td>\n",
       "      <td>1.0</td>\n",
       "      <td>0.0</td>\n",
       "      <td>0.0</td>\n",
       "      <td>0.0</td>\n",
       "    </tr>\n",
       "    <tr>\n",
       "      <th>3</th>\n",
       "      <td>0.0</td>\n",
       "      <td>0.0</td>\n",
       "      <td>0.0</td>\n",
       "      <td>1.0</td>\n",
       "      <td>0.0</td>\n",
       "      <td>0.0</td>\n",
       "      <td>1.0</td>\n",
       "      <td>0.0</td>\n",
       "      <td>0.0</td>\n",
       "      <td>0.0</td>\n",
       "      <td>0.0</td>\n",
       "      <td>0.0</td>\n",
       "      <td>0.0</td>\n",
       "      <td>0.0</td>\n",
       "      <td>1.0</td>\n",
       "      <td>0.0</td>\n",
       "      <td>0.0</td>\n",
       "      <td>0.0</td>\n",
       "    </tr>\n",
       "    <tr>\n",
       "      <th>4</th>\n",
       "      <td>0.0</td>\n",
       "      <td>0.0</td>\n",
       "      <td>0.0</td>\n",
       "      <td>1.0</td>\n",
       "      <td>0.0</td>\n",
       "      <td>0.0</td>\n",
       "      <td>1.0</td>\n",
       "      <td>0.0</td>\n",
       "      <td>0.0</td>\n",
       "      <td>0.0</td>\n",
       "      <td>0.0</td>\n",
       "      <td>0.0</td>\n",
       "      <td>0.0</td>\n",
       "      <td>0.0</td>\n",
       "      <td>1.0</td>\n",
       "      <td>0.0</td>\n",
       "      <td>0.0</td>\n",
       "      <td>0.0</td>\n",
       "    </tr>\n",
       "  </tbody>\n",
       "</table>\n",
       "</div>"
      ],
      "text/plain": [
       "   party_sobriety_had been drinking, impairment unknown  \\\n",
       "0                                                0.0      \n",
       "1                                                0.0      \n",
       "2                                                0.0      \n",
       "3                                                0.0      \n",
       "4                                                0.0      \n",
       "\n",
       "   party_sobriety_had been drinking, not under influence  \\\n",
       "0                                                0.0       \n",
       "1                                                0.0       \n",
       "2                                                0.0       \n",
       "3                                                0.0       \n",
       "4                                                0.0       \n",
       "\n",
       "   party_sobriety_had been drinking, under influence  \\\n",
       "0                                                0.0   \n",
       "1                                                0.0   \n",
       "2                                                0.0   \n",
       "3                                                0.0   \n",
       "4                                                0.0   \n",
       "\n",
       "   party_sobriety_had not been drinking  party_sobriety_impairment unknown  \\\n",
       "0                                   1.0                                0.0   \n",
       "1                                   1.0                                0.0   \n",
       "2                                   1.0                                0.0   \n",
       "3                                   1.0                                0.0   \n",
       "4                                   1.0                                0.0   \n",
       "\n",
       "   party_sobriety_not applicable  road_surface_dry  road_surface_slippery  \\\n",
       "0                            0.0               1.0                    0.0   \n",
       "1                            0.0               1.0                    0.0   \n",
       "2                            0.0               1.0                    0.0   \n",
       "3                            0.0               1.0                    0.0   \n",
       "4                            0.0               1.0                    0.0   \n",
       "\n",
       "   road_surface_snowy  road_surface_wet  road_condition_1_construction  \\\n",
       "0                 0.0               0.0                            0.0   \n",
       "1                 0.0               0.0                            0.0   \n",
       "2                 0.0               0.0                            0.0   \n",
       "3                 0.0               0.0                            0.0   \n",
       "4                 0.0               0.0                            0.0   \n",
       "\n",
       "   road_condition_1_flooded  road_condition_1_holes  \\\n",
       "0                       0.0                     0.0   \n",
       "1                       0.0                     0.0   \n",
       "2                       0.0                     0.0   \n",
       "3                       0.0                     0.0   \n",
       "4                       0.0                     0.0   \n",
       "\n",
       "   road_condition_1_loose material  road_condition_1_normal  \\\n",
       "0                              0.0                      0.0   \n",
       "1                              0.0                      0.0   \n",
       "2                              0.0                      1.0   \n",
       "3                              0.0                      1.0   \n",
       "4                              0.0                      1.0   \n",
       "\n",
       "   road_condition_1_obstruction  road_condition_1_other  \\\n",
       "0                           0.0                     1.0   \n",
       "1                           0.0                     1.0   \n",
       "2                           0.0                     0.0   \n",
       "3                           0.0                     0.0   \n",
       "4                           0.0                     0.0   \n",
       "\n",
       "   road_condition_1_reduced width  \n",
       "0                             0.0  \n",
       "1                             0.0  \n",
       "2                             0.0  \n",
       "3                             0.0  \n",
       "4                             0.0  "
      ]
     },
     "execution_count": 34,
     "metadata": {},
     "output_type": "execute_result"
    }
   ],
   "source": [
    "df_ohe.head()"
   ]
  },
  {
   "cell_type": "code",
   "execution_count": 35,
   "id": "78a6d76f",
   "metadata": {},
   "outputs": [
    {
     "data": {
      "text/html": [
       "<div>\n",
       "<style scoped>\n",
       "    .dataframe tbody tr th:only-of-type {\n",
       "        vertical-align: middle;\n",
       "    }\n",
       "\n",
       "    .dataframe tbody tr th {\n",
       "        vertical-align: top;\n",
       "    }\n",
       "\n",
       "    .dataframe thead th {\n",
       "        text-align: right;\n",
       "    }\n",
       "</style>\n",
       "<table border=\"1\" class=\"dataframe\">\n",
       "  <thead>\n",
       "    <tr style=\"text-align: right;\">\n",
       "      <th></th>\n",
       "      <th>at_fault</th>\n",
       "    </tr>\n",
       "  </thead>\n",
       "  <tbody>\n",
       "    <tr>\n",
       "      <th>0</th>\n",
       "      <td>0</td>\n",
       "    </tr>\n",
       "    <tr>\n",
       "      <th>1</th>\n",
       "      <td>1</td>\n",
       "    </tr>\n",
       "    <tr>\n",
       "      <th>2</th>\n",
       "      <td>0</td>\n",
       "    </tr>\n",
       "    <tr>\n",
       "      <th>3</th>\n",
       "      <td>1</td>\n",
       "    </tr>\n",
       "    <tr>\n",
       "      <th>4</th>\n",
       "      <td>0</td>\n",
       "    </tr>\n",
       "  </tbody>\n",
       "</table>\n",
       "</div>"
      ],
      "text/plain": [
       "   at_fault\n",
       "0         0\n",
       "1         1\n",
       "2         0\n",
       "3         1\n",
       "4         0"
      ]
     },
     "execution_count": 35,
     "metadata": {},
     "output_type": "execute_result"
    }
   ],
   "source": [
    "t = df[['at_fault']]\n",
    "t.head()"
   ]
  },
  {
   "cell_type": "code",
   "execution_count": 36,
   "id": "a9b01f6c",
   "metadata": {},
   "outputs": [],
   "source": [
    "data = pd.merge(df_ohe,t, left_index=True, right_index=True)"
   ]
  },
  {
   "cell_type": "code",
   "execution_count": 37,
   "id": "c3e54a2e",
   "metadata": {},
   "outputs": [
    {
     "data": {
      "text/html": [
       "<div>\n",
       "<style scoped>\n",
       "    .dataframe tbody tr th:only-of-type {\n",
       "        vertical-align: middle;\n",
       "    }\n",
       "\n",
       "    .dataframe tbody tr th {\n",
       "        vertical-align: top;\n",
       "    }\n",
       "\n",
       "    .dataframe thead th {\n",
       "        text-align: right;\n",
       "    }\n",
       "</style>\n",
       "<table border=\"1\" class=\"dataframe\">\n",
       "  <thead>\n",
       "    <tr style=\"text-align: right;\">\n",
       "      <th></th>\n",
       "      <th>party_sobriety_had been drinking, impairment unknown</th>\n",
       "      <th>party_sobriety_had been drinking, not under influence</th>\n",
       "      <th>party_sobriety_had been drinking, under influence</th>\n",
       "      <th>party_sobriety_had not been drinking</th>\n",
       "      <th>party_sobriety_impairment unknown</th>\n",
       "      <th>party_sobriety_not applicable</th>\n",
       "      <th>road_surface_dry</th>\n",
       "      <th>road_surface_slippery</th>\n",
       "      <th>road_surface_snowy</th>\n",
       "      <th>road_surface_wet</th>\n",
       "      <th>road_condition_1_construction</th>\n",
       "      <th>road_condition_1_flooded</th>\n",
       "      <th>road_condition_1_holes</th>\n",
       "      <th>road_condition_1_loose material</th>\n",
       "      <th>road_condition_1_normal</th>\n",
       "      <th>road_condition_1_obstruction</th>\n",
       "      <th>road_condition_1_other</th>\n",
       "      <th>road_condition_1_reduced width</th>\n",
       "      <th>at_fault</th>\n",
       "    </tr>\n",
       "  </thead>\n",
       "  <tbody>\n",
       "    <tr>\n",
       "      <th>0</th>\n",
       "      <td>0.0</td>\n",
       "      <td>0.0</td>\n",
       "      <td>0.0</td>\n",
       "      <td>1.0</td>\n",
       "      <td>0.0</td>\n",
       "      <td>0.0</td>\n",
       "      <td>1.0</td>\n",
       "      <td>0.0</td>\n",
       "      <td>0.0</td>\n",
       "      <td>0.0</td>\n",
       "      <td>0.0</td>\n",
       "      <td>0.0</td>\n",
       "      <td>0.0</td>\n",
       "      <td>0.0</td>\n",
       "      <td>0.0</td>\n",
       "      <td>0.0</td>\n",
       "      <td>1.0</td>\n",
       "      <td>0.0</td>\n",
       "      <td>0</td>\n",
       "    </tr>\n",
       "    <tr>\n",
       "      <th>1</th>\n",
       "      <td>0.0</td>\n",
       "      <td>0.0</td>\n",
       "      <td>0.0</td>\n",
       "      <td>1.0</td>\n",
       "      <td>0.0</td>\n",
       "      <td>0.0</td>\n",
       "      <td>1.0</td>\n",
       "      <td>0.0</td>\n",
       "      <td>0.0</td>\n",
       "      <td>0.0</td>\n",
       "      <td>0.0</td>\n",
       "      <td>0.0</td>\n",
       "      <td>0.0</td>\n",
       "      <td>0.0</td>\n",
       "      <td>0.0</td>\n",
       "      <td>0.0</td>\n",
       "      <td>1.0</td>\n",
       "      <td>0.0</td>\n",
       "      <td>1</td>\n",
       "    </tr>\n",
       "    <tr>\n",
       "      <th>2</th>\n",
       "      <td>0.0</td>\n",
       "      <td>0.0</td>\n",
       "      <td>0.0</td>\n",
       "      <td>1.0</td>\n",
       "      <td>0.0</td>\n",
       "      <td>0.0</td>\n",
       "      <td>1.0</td>\n",
       "      <td>0.0</td>\n",
       "      <td>0.0</td>\n",
       "      <td>0.0</td>\n",
       "      <td>0.0</td>\n",
       "      <td>0.0</td>\n",
       "      <td>0.0</td>\n",
       "      <td>0.0</td>\n",
       "      <td>1.0</td>\n",
       "      <td>0.0</td>\n",
       "      <td>0.0</td>\n",
       "      <td>0.0</td>\n",
       "      <td>0</td>\n",
       "    </tr>\n",
       "    <tr>\n",
       "      <th>3</th>\n",
       "      <td>0.0</td>\n",
       "      <td>0.0</td>\n",
       "      <td>0.0</td>\n",
       "      <td>1.0</td>\n",
       "      <td>0.0</td>\n",
       "      <td>0.0</td>\n",
       "      <td>1.0</td>\n",
       "      <td>0.0</td>\n",
       "      <td>0.0</td>\n",
       "      <td>0.0</td>\n",
       "      <td>0.0</td>\n",
       "      <td>0.0</td>\n",
       "      <td>0.0</td>\n",
       "      <td>0.0</td>\n",
       "      <td>1.0</td>\n",
       "      <td>0.0</td>\n",
       "      <td>0.0</td>\n",
       "      <td>0.0</td>\n",
       "      <td>1</td>\n",
       "    </tr>\n",
       "    <tr>\n",
       "      <th>4</th>\n",
       "      <td>0.0</td>\n",
       "      <td>0.0</td>\n",
       "      <td>0.0</td>\n",
       "      <td>1.0</td>\n",
       "      <td>0.0</td>\n",
       "      <td>0.0</td>\n",
       "      <td>1.0</td>\n",
       "      <td>0.0</td>\n",
       "      <td>0.0</td>\n",
       "      <td>0.0</td>\n",
       "      <td>0.0</td>\n",
       "      <td>0.0</td>\n",
       "      <td>0.0</td>\n",
       "      <td>0.0</td>\n",
       "      <td>1.0</td>\n",
       "      <td>0.0</td>\n",
       "      <td>0.0</td>\n",
       "      <td>0.0</td>\n",
       "      <td>0</td>\n",
       "    </tr>\n",
       "  </tbody>\n",
       "</table>\n",
       "</div>"
      ],
      "text/plain": [
       "   party_sobriety_had been drinking, impairment unknown  \\\n",
       "0                                                0.0      \n",
       "1                                                0.0      \n",
       "2                                                0.0      \n",
       "3                                                0.0      \n",
       "4                                                0.0      \n",
       "\n",
       "   party_sobriety_had been drinking, not under influence  \\\n",
       "0                                                0.0       \n",
       "1                                                0.0       \n",
       "2                                                0.0       \n",
       "3                                                0.0       \n",
       "4                                                0.0       \n",
       "\n",
       "   party_sobriety_had been drinking, under influence  \\\n",
       "0                                                0.0   \n",
       "1                                                0.0   \n",
       "2                                                0.0   \n",
       "3                                                0.0   \n",
       "4                                                0.0   \n",
       "\n",
       "   party_sobriety_had not been drinking  party_sobriety_impairment unknown  \\\n",
       "0                                   1.0                                0.0   \n",
       "1                                   1.0                                0.0   \n",
       "2                                   1.0                                0.0   \n",
       "3                                   1.0                                0.0   \n",
       "4                                   1.0                                0.0   \n",
       "\n",
       "   party_sobriety_not applicable  road_surface_dry  road_surface_slippery  \\\n",
       "0                            0.0               1.0                    0.0   \n",
       "1                            0.0               1.0                    0.0   \n",
       "2                            0.0               1.0                    0.0   \n",
       "3                            0.0               1.0                    0.0   \n",
       "4                            0.0               1.0                    0.0   \n",
       "\n",
       "   road_surface_snowy  road_surface_wet  road_condition_1_construction  \\\n",
       "0                 0.0               0.0                            0.0   \n",
       "1                 0.0               0.0                            0.0   \n",
       "2                 0.0               0.0                            0.0   \n",
       "3                 0.0               0.0                            0.0   \n",
       "4                 0.0               0.0                            0.0   \n",
       "\n",
       "   road_condition_1_flooded  road_condition_1_holes  \\\n",
       "0                       0.0                     0.0   \n",
       "1                       0.0                     0.0   \n",
       "2                       0.0                     0.0   \n",
       "3                       0.0                     0.0   \n",
       "4                       0.0                     0.0   \n",
       "\n",
       "   road_condition_1_loose material  road_condition_1_normal  \\\n",
       "0                              0.0                      0.0   \n",
       "1                              0.0                      0.0   \n",
       "2                              0.0                      1.0   \n",
       "3                              0.0                      1.0   \n",
       "4                              0.0                      1.0   \n",
       "\n",
       "   road_condition_1_obstruction  road_condition_1_other  \\\n",
       "0                           0.0                     1.0   \n",
       "1                           0.0                     1.0   \n",
       "2                           0.0                     0.0   \n",
       "3                           0.0                     0.0   \n",
       "4                           0.0                     0.0   \n",
       "\n",
       "   road_condition_1_reduced width  at_fault  \n",
       "0                             0.0         0  \n",
       "1                             0.0         1  \n",
       "2                             0.0         0  \n",
       "3                             0.0         1  \n",
       "4                             0.0         0  "
      ]
     },
     "execution_count": 37,
     "metadata": {},
     "output_type": "execute_result"
    }
   ],
   "source": [
    "data.head()"
   ]
  },
  {
   "cell_type": "code",
   "execution_count": 38,
   "id": "6e23ee18",
   "metadata": {},
   "outputs": [
    {
     "data": {
      "text/plain": [
       "party_sobriety_had been drinking, impairment unknown     0.0\n",
       "party_sobriety_had been drinking, not under influence    0.0\n",
       "party_sobriety_had been drinking, under influence        0.0\n",
       "party_sobriety_had not been drinking                     0.0\n",
       "party_sobriety_impairment unknown                        0.0\n",
       "party_sobriety_not applicable                            0.0\n",
       "road_surface_dry                                         0.0\n",
       "road_surface_slippery                                    0.0\n",
       "road_surface_snowy                                       0.0\n",
       "road_surface_wet                                         0.0\n",
       "road_condition_1_construction                            0.0\n",
       "road_condition_1_flooded                                 0.0\n",
       "road_condition_1_holes                                   0.0\n",
       "road_condition_1_loose material                          0.0\n",
       "road_condition_1_normal                                  0.0\n",
       "road_condition_1_obstruction                             0.0\n",
       "road_condition_1_other                                   0.0\n",
       "road_condition_1_reduced width                           0.0\n",
       "at_fault                                                 0.0\n",
       "dtype: float64"
      ]
     },
     "execution_count": 38,
     "metadata": {},
     "output_type": "execute_result"
    }
   ],
   "source": [
    "data.isna().mean()"
   ]
  },
  {
   "cell_type": "markdown",
   "id": "9b881624",
   "metadata": {},
   "source": [
    "Разделим на обучающие признаки и целевые:"
   ]
  },
  {
   "cell_type": "code",
   "execution_count": 39,
   "id": "77a3efb2",
   "metadata": {},
   "outputs": [],
   "source": [
    "features = data.drop(['at_fault'], axis=1)\n",
    "target = data['at_fault']\n",
    "features_train, features_test, target_train, target_test = train_test_split(features, target, test_size=0.4, shuffle=True, random_state=42)"
   ]
  },
  {
   "cell_type": "markdown",
   "id": "a511f3c2",
   "metadata": {},
   "source": [
    "## Проведите анализ важности факторов ДТП"
   ]
  },
  {
   "cell_type": "markdown",
   "id": "120c266b",
   "metadata": {},
   "source": [
    "Precision можно интерпретировать как долю объектов, названных классификатором положительными и при этом действительно являющимися положительными, а recall показывает, какую долю объектов положительного класса из всех объектов положительного класса нашел алгоритм. Recall демонстрирует способность алгоритма обнаруживать данный класс вообще, а precision — способность отличать этот класс от других классов. Precision и recall не зависят, в отличие от accuracy, от соотношения классов и потому применимы в условиях несбалансированных выборок. В идеале, стоит задача найти оптимальный баланс между этими двумя метриками, поэтому в данной работе я буду использовать метрику F1"
   ]
  },
  {
   "cell_type": "markdown",
   "id": "2c6fa246",
   "metadata": {},
   "source": [
    "### Decision Tree Classifier"
   ]
  },
  {
   "cell_type": "code",
   "execution_count": 40,
   "id": "7104f035",
   "metadata": {},
   "outputs": [],
   "source": [
    "dt_params = {\n",
    "    'max_depth': [8],\n",
    "    'min_samples_split': [5], \n",
    "    'min_samples_leaf': [25],\n",
    "    'class_weight':['balanced']\n",
    "}\n",
    "\n",
    "dt_gs = GridSearchCV(DecisionTreeClassifier(random_state=5),\n",
    "                         dt_params, n_jobs=-1,cv = 5,scoring = 'f1')\n",
    "dt_f1 = dt_gs.fit(features_train, target_train)"
   ]
  },
  {
   "cell_type": "code",
   "execution_count": 41,
   "id": "2ccb0878",
   "metadata": {},
   "outputs": [
    {
     "name": "stdout",
     "output_type": "stream",
     "text": [
      "Оптимальные параметры:  {'class_weight': 'balanced', 'max_depth': 8, 'min_samples_leaf': 25, 'min_samples_split': 5}\n"
     ]
    }
   ],
   "source": [
    "print('Оптимальные параметры: ',dt_f1.best_params_) "
   ]
  },
  {
   "cell_type": "code",
   "execution_count": 42,
   "id": "944d0781",
   "metadata": {},
   "outputs": [
    {
     "name": "stdout",
     "output_type": "stream",
     "text": [
      "Лучший roc_auc на обучающей выборке: 0.6689521757229964\n",
      "Лучший roc_auc на тестовой выборке: 0.6683129378624083\n"
     ]
    }
   ],
   "source": [
    "print(f'Лучший roc_auc на обучающей выборке: {dt_f1.score(features_train, target_train)}')\n",
    "print(f'Лучший roc_auc на тестовой выборке: {dt_f1.score(features_test, target_test)}')"
   ]
  },
  {
   "cell_type": "markdown",
   "id": "c23f4f76",
   "metadata": {},
   "source": [
    "### Random Forest Classifier"
   ]
  },
  {
   "cell_type": "code",
   "execution_count": 43,
   "id": "9f8aff96",
   "metadata": {},
   "outputs": [
    {
     "name": "stdout",
     "output_type": "stream",
     "text": [
      "Fitting 10 folds for each of 1 candidates, totalling 10 fits\n",
      "[CV] END class_weight=balanced, criterion=entropy, max_depth=2, min_samples_leaf=10, n_estimators=10; total time=   0.1s\n",
      "[CV] END class_weight=balanced, criterion=entropy, max_depth=2, min_samples_leaf=10, n_estimators=10; total time=   0.1s\n",
      "[CV] END class_weight=balanced, criterion=entropy, max_depth=2, min_samples_leaf=10, n_estimators=10; total time=   0.1s\n",
      "[CV] END class_weight=balanced, criterion=entropy, max_depth=2, min_samples_leaf=10, n_estimators=10; total time=   0.1s\n",
      "[CV] END class_weight=balanced, criterion=entropy, max_depth=2, min_samples_leaf=10, n_estimators=10; total time=   0.1s\n",
      "[CV] END class_weight=balanced, criterion=entropy, max_depth=2, min_samples_leaf=10, n_estimators=10; total time=   0.1s\n",
      "[CV] END class_weight=balanced, criterion=entropy, max_depth=2, min_samples_leaf=10, n_estimators=10; total time=   0.1s\n",
      "[CV] END class_weight=balanced, criterion=entropy, max_depth=2, min_samples_leaf=10, n_estimators=10; total time=   0.1s\n",
      "[CV] END class_weight=balanced, criterion=entropy, max_depth=2, min_samples_leaf=10, n_estimators=10; total time=   0.1s\n",
      "[CV] END class_weight=balanced, criterion=entropy, max_depth=2, min_samples_leaf=10, n_estimators=10; total time=   0.1s\n"
     ]
    }
   ],
   "source": [
    "rf_params = {\n",
    "    'criterion':['entropy'],\n",
    "    'n_estimators': [10],\n",
    "    'max_depth': [2],\n",
    "    'min_samples_leaf': [10],\n",
    "    'class_weight':['balanced']\n",
    "}\n",
    "\n",
    "rf_gs = GridSearchCV(RandomForestClassifier(random_state=5),\n",
    "                     rf_params, cv = 10, scoring = 'f1',\n",
    "                     verbose=2)\n",
    "rf_f1 = rf_gs.fit(features_train, target_train)"
   ]
  },
  {
   "cell_type": "code",
   "execution_count": 44,
   "id": "fdc23aed",
   "metadata": {},
   "outputs": [
    {
     "name": "stdout",
     "output_type": "stream",
     "text": [
      "Оптимальные параметры:  {'class_weight': 'balanced', 'criterion': 'entropy', 'max_depth': 2, 'min_samples_leaf': 10, 'n_estimators': 10}\n"
     ]
    }
   ],
   "source": [
    "print('Оптимальные параметры: ', rf_f1.best_params_) "
   ]
  },
  {
   "cell_type": "code",
   "execution_count": 45,
   "id": "f23e4d2f",
   "metadata": {},
   "outputs": [
    {
     "name": "stdout",
     "output_type": "stream",
     "text": [
      "Лучший roc_auc на обучающей выборке: 0.666518923444387\n",
      "Лучший roc_auc на тестовой выборке: 0.6663602265205559\n"
     ]
    }
   ],
   "source": [
    "print(f'Лучший roc_auc на обучающей выборке: {rf_f1.score(features_train, target_train)}')\n",
    "print(f'Лучший roc_auc на тестовой выборке: {rf_f1.score(features_test, target_test)}')"
   ]
  },
  {
   "cell_type": "markdown",
   "id": "c4219d9c",
   "metadata": {},
   "source": [
    "### CatBoost"
   ]
  },
  {
   "cell_type": "code",
   "execution_count": 46,
   "id": "5ee9a5e6",
   "metadata": {},
   "outputs": [],
   "source": [
    "from catboost import CatBoostClassifier\n",
    "import catboost"
   ]
  },
  {
   "cell_type": "code",
   "execution_count": 47,
   "id": "89ccc911",
   "metadata": {},
   "outputs": [
    {
     "name": "stdout",
     "output_type": "stream",
     "text": [
      "Learning rate set to 0.5\n",
      "0:\tlearn: 0.6911490\ttotal: 57ms\tremaining: 3.93s\n",
      "10:\tlearn: 0.6892764\ttotal: 133ms\tremaining: 713ms\n",
      "20:\tlearn: 0.6890420\ttotal: 196ms\tremaining: 457ms\n",
      "30:\tlearn: 0.6891914\ttotal: 254ms\tremaining: 319ms\n",
      "40:\tlearn: 0.6891626\ttotal: 309ms\tremaining: 219ms\n",
      "50:\tlearn: 0.6891634\ttotal: 363ms\tremaining: 135ms\n",
      "60:\tlearn: 0.6891634\ttotal: 434ms\tremaining: 64ms\n",
      "69:\tlearn: 0.6891922\ttotal: 509ms\tremaining: 0us\n"
     ]
    }
   ],
   "source": [
    "cb = CatBoostClassifier(loss_function=\"Logloss\", iterations=70, eval_metric = 'F1')\n",
    "cb_f1 = cb.fit(features_train, target_train, verbose=10) "
   ]
  },
  {
   "cell_type": "code",
   "execution_count": 48,
   "id": "d90cac16",
   "metadata": {},
   "outputs": [],
   "source": [
    "predicted_test_cb = cb_f1.predict(features_test)"
   ]
  },
  {
   "cell_type": "code",
   "execution_count": 49,
   "id": "0a77ff76",
   "metadata": {},
   "outputs": [
    {
     "name": "stdout",
     "output_type": "stream",
     "text": [
      "Лучший roc_auc на обучающей выборке: 0.5307081935123042\n",
      "Лучший roc_auc на тестовой выборке: 0.5303848573825504\n"
     ]
    }
   ],
   "source": [
    "print(f'Лучший roc_auc на обучающей выборке: {cb_f1.score(features_train, target_train)}')\n",
    "print(f'Лучший roc_auc на тестовой выборке: {cb_f1.score(features_test, target_test)}')"
   ]
  },
  {
   "cell_type": "markdown",
   "id": "fff844b4",
   "metadata": {},
   "source": [
    "### Выбор Модели"
   ]
  },
  {
   "cell_type": "code",
   "execution_count": 50,
   "id": "317b1edc",
   "metadata": {},
   "outputs": [
    {
     "data": {
      "text/html": [
       "<div>\n",
       "<style scoped>\n",
       "    .dataframe tbody tr th:only-of-type {\n",
       "        vertical-align: middle;\n",
       "    }\n",
       "\n",
       "    .dataframe tbody tr th {\n",
       "        vertical-align: top;\n",
       "    }\n",
       "\n",
       "    .dataframe thead th {\n",
       "        text-align: right;\n",
       "    }\n",
       "</style>\n",
       "<table border=\"1\" class=\"dataframe\">\n",
       "  <thead>\n",
       "    <tr style=\"text-align: right;\">\n",
       "      <th></th>\n",
       "      <th>model</th>\n",
       "      <th>training_f1</th>\n",
       "      <th>testing_f1</th>\n",
       "    </tr>\n",
       "  </thead>\n",
       "  <tbody>\n",
       "    <tr>\n",
       "      <th>0</th>\n",
       "      <td>Decision Tree</td>\n",
       "      <td>0.668952</td>\n",
       "      <td>0.668313</td>\n",
       "    </tr>\n",
       "    <tr>\n",
       "      <th>1</th>\n",
       "      <td>Random Forest</td>\n",
       "      <td>0.666519</td>\n",
       "      <td>0.666360</td>\n",
       "    </tr>\n",
       "    <tr>\n",
       "      <th>2</th>\n",
       "      <td>CatBoost</td>\n",
       "      <td>0.530708</td>\n",
       "      <td>0.530385</td>\n",
       "    </tr>\n",
       "  </tbody>\n",
       "</table>\n",
       "</div>"
      ],
      "text/plain": [
       "           model  training_f1  testing_f1\n",
       "0  Decision Tree     0.668952    0.668313\n",
       "1  Random Forest     0.666519    0.666360\n",
       "2       CatBoost     0.530708    0.530385"
      ]
     },
     "execution_count": 50,
     "metadata": {},
     "output_type": "execute_result"
    }
   ],
   "source": [
    "predictive_model_scores = pd.DataFrame(data=[('Decision Tree',dt_f1.score(features_train, target_train),dt_f1.score(features_test, target_test)), \n",
    "                                             ('Random Forest',rf_f1.score(features_train, target_train), rf_f1.score(features_test, target_test)),\n",
    "                                            ('CatBoost',cb_f1.score(features_train, target_train),cb_f1.score(features_test, target_test))], \n",
    "                                       columns=['model', 'training_f1', 'testing_f1'])\n",
    "predictive_model_scores"
   ]
  },
  {
   "cell_type": "code",
   "execution_count": 51,
   "id": "e46e3813",
   "metadata": {},
   "outputs": [
    {
     "data": {
      "image/png": "[encoded data removed]",
      "text/plain": [
       "<Figure size 1000x500 with 1 Axes>"
      ]
     },
     "metadata": {},
     "output_type": "display_data"
    }
   ],
   "source": [
    "plt.style.use('default')\n",
    "plt.figure(figsize=(10,5))\n",
    "p=sns.barplot(x='model', y='testing_f1', data=predictive_model_scores, palette='PuBu')\n",
    "plt.title('F1 для каждой модели на тестовой выборке', fontsize = 20)\n",
    "plt.xlabel('Модель', fontsize = 12)\n",
    "plt.ylabel('F1', fontsize = 12)\n",
    "for index, row in predictive_model_scores.iterrows():\n",
    "    p.text(x=row.name, y=row.testing_f1, s=round(row.testing_f1,2), color='black', horizontalalignment='center');"
   ]
  },
  {
   "cell_type": "markdown",
   "id": "ba9eb428",
   "metadata": {},
   "source": [
    "Модели, обеспечивающие наивысший показатель точности тестирования, - это модели \"Дерево решений\" и \"Случайный Лес\"."
   ]
  },
  {
   "cell_type": "markdown",
   "id": "51eb7ffc",
   "metadata": {},
   "source": [
    "### Confusion Matrix"
   ]
  },
  {
   "cell_type": "code",
   "execution_count": 52,
   "id": "bc8fbfe8",
   "metadata": {},
   "outputs": [],
   "source": [
    "predicted_test_dt = dt_f1.predict(features_test)\n",
    "predicted_test_rf = rf_f1.predict(features_test)\n",
    "predicted_test_cb = cb_f1.predict(features_test)"
   ]
  },
  {
   "cell_type": "markdown",
   "id": "5c39a931",
   "metadata": {},
   "source": [
    "Создаём матрицы ошибок для каждой обученной модели:"
   ]
  },
  {
   "cell_type": "code",
   "execution_count": 53,
   "id": "2caea2ff",
   "metadata": {},
   "outputs": [],
   "source": [
    "cm_rf = confusion_matrix(target_test, predicted_test_rf)\n",
    "cm_dt = confusion_matrix(target_test, predicted_test_dt)\n",
    "cm_cb = confusion_matrix(target_test, predicted_test_cb)"
   ]
  },
  {
   "cell_type": "code",
   "execution_count": 54,
   "id": "0c61d59f",
   "metadata": {},
   "outputs": [],
   "source": [
    "cm_df_rf = pd.DataFrame(cm_rf, index=['Actually Not At Fault', 'Actually At Fault'],\n",
    "                 columns=['Predicted Not At Fault', 'Predicted At Fault'])"
   ]
  },
  {
   "cell_type": "code",
   "execution_count": 55,
   "id": "68686157",
   "metadata": {},
   "outputs": [],
   "source": [
    "cm_df_dt = pd.DataFrame(cm_dt, index=['Actually Not At Fault', 'Actually At Fault'],\n",
    "                 columns=['Predicted Not At Fault', 'Predicted At Fault'])"
   ]
  },
  {
   "cell_type": "code",
   "execution_count": 56,
   "id": "24d33492",
   "metadata": {},
   "outputs": [],
   "source": [
    "cm_df_cb = pd.DataFrame(cm_cb, index=['Actually Not At Fault', 'Actually At Fault'],\n",
    "                 columns=['Predicted Not At Fault', 'Predicted At Fault'])"
   ]
  },
  {
   "cell_type": "markdown",
   "id": "d2c9a579",
   "metadata": {},
   "source": [
    "#### Визуализируем:"
   ]
  },
  {
   "cell_type": "markdown",
   "id": "29854d51",
   "metadata": {},
   "source": [
    "**Случайный лес**:"
   ]
  },
  {
   "cell_type": "code",
   "execution_count": 57,
   "id": "b54b725e",
   "metadata": {},
   "outputs": [
    {
     "data": {
      "image/png": "[encoded data removed]",
      "text/plain": [
       "<Figure size 1000x400 with 2 Axes>"
      ]
     },
     "metadata": {},
     "output_type": "display_data"
    }
   ],
   "source": [
    "sns.set(font_scale=1.2)\n",
    "plt.figure(figsize=(10,4))\n",
    "    \n",
    "sns.heatmap(cm_rf, annot=True, fmt='g', cmap=\"Blues\",xticklabels=cm_df_rf.columns, yticklabels=cm_df_rf.index, annot_kws={\"size\": 20})\n",
    "plt.title(\"Матрица ошибок\", size=20)\n",
    "plt.xlabel('Класс предсказаний')\n",
    "plt.ylabel('Реальный класс');"
   ]
  },
  {
   "cell_type": "code",
   "execution_count": 58,
   "id": "7365d1b6",
   "metadata": {},
   "outputs": [
    {
     "name": "stdout",
     "output_type": "stream",
     "text": [
      "Всего предсказаний: 38144\n",
      "Правильно классифицированные: 52.0%\n",
      "Правильно классифицированная вина: 47.0%\n",
      "Правильно классифицированое отсутствие вины: 53.0%\n",
      "Прогнозируемая вина, соответствующая действительности: 11.0%\n",
      "Прогнозируемое отсутствие вины, которой так же на самом деле нет: 89.0%\n"
     ]
    }
   ],
   "source": [
    "TP = cm_rf[0][0]\n",
    "TN = cm_rf[1][1]\n",
    "FP = cm_rf[0][1]\n",
    "FN = cm_rf[1][0]\n",
    "total = cm_rf[0][0]+cm_rf[1][1]+cm_rf[0][1]+cm_rf[1][0]\n",
    "\n",
    "print('Всего предсказаний:',total)\n",
    "print(f'Правильно классифицированные: {np.round((TP+TN)/total*100)}%')\n",
    "print(f'Правильно классифицированная вина: {np.round(TP/(TP+FN)*100)}%')\n",
    "print(f'Правильно классифицированое отсутствие вины: {np.round(TN/(TN+FP)*100)}%')\n",
    "print(f'Прогнозируемая вина, соответствующая действительности: {np.round(TP/(TP+FP)*100)}%')\n",
    "print(f'Прогнозируемое отсутствие вины, которой так же на самом деле нет: {np.round(TN/(TN+FN)*100)}%')"
   ]
  },
  {
   "cell_type": "markdown",
   "id": "3665c2bf",
   "metadata": {},
   "source": [
    "**Дерево решений**:"
   ]
  },
  {
   "cell_type": "code",
   "execution_count": 59,
   "id": "219082bb",
   "metadata": {},
   "outputs": [
    {
     "data": {
      "image/png": "[encoded data removed]",
      "text/plain": [
       "<Figure size 1000x400 with 2 Axes>"
      ]
     },
     "metadata": {},
     "output_type": "display_data"
    }
   ],
   "source": [
    "sns.set(font_scale=1.2)\n",
    "plt.figure(figsize=(10,4))\n",
    "    \n",
    "sns.heatmap(cm_dt, annot=True, fmt='g', cmap=\"Blues\",xticklabels=cm_df_dt.columns, yticklabels=cm_df_dt.index, annot_kws={\"size\": 20})\n",
    "plt.title(\"Матрица ошибок\", size=20)\n",
    "plt.xlabel('Класс предсказаний')\n",
    "plt.ylabel('Реальный класс');"
   ]
  },
  {
   "cell_type": "code",
   "execution_count": 60,
   "id": "25fdb8e6",
   "metadata": {},
   "outputs": [
    {
     "name": "stdout",
     "output_type": "stream",
     "text": [
      "Всего предсказаний: 38144\n",
      "Правильно классифицированные: 52.0%\n",
      "Правильно классифицированная вина: 47.0%\n",
      "Правильно классифицированое отсутствие вины: 53.0%\n",
      "Прогнозируемая вина, соответствующая действительности: 10.0%\n",
      "Прогнозируемое отсутствие вины, которой так же на самом деле нет: 90.0%\n"
     ]
    }
   ],
   "source": [
    "TP = cm_dt[0][0]\n",
    "TN = cm_dt[1][1]\n",
    "FP = cm_dt[0][1]\n",
    "FN = cm_dt[1][0]\n",
    "total = cm_dt[0][0]+cm_dt[1][1]+cm_dt[0][1]+cm_dt[1][0]\n",
    "\n",
    "print('Всего предсказаний:',total)\n",
    "print(f'Правильно классифицированные: {np.round((TP+TN)/total*100)}%')\n",
    "print(f'Правильно классифицированная вина: {np.round(TP/(TP+FN)*100)}%')\n",
    "print(f'Правильно классифицированое отсутствие вины: {np.round(TN/(TN+FP)*100)}%')\n",
    "print(f'Прогнозируемая вина, соответствующая действительности: {np.round(TP/(TP+FP)*100)}%')\n",
    "print(f'Прогнозируемое отсутствие вины, которой так же на самом деле нет: {np.round(TN/(TN+FN)*100)}%')"
   ]
  },
  {
   "cell_type": "markdown",
   "id": "98c6a9e1",
   "metadata": {},
   "source": [
    "**CatBoost**:"
   ]
  },
  {
   "cell_type": "code",
   "execution_count": 61,
   "id": "00ca1a05",
   "metadata": {},
   "outputs": [
    {
     "data": {
      "image/png": "[encoded data removed]",
      "text/plain": [
       "<Figure size 1000x400 with 2 Axes>"
      ]
     },
     "metadata": {},
     "output_type": "display_data"
    }
   ],
   "source": [
    "sns.set(font_scale=1.2)\n",
    "plt.figure(figsize=(10,4))\n",
    "    \n",
    "sns.heatmap(cm_cb, annot=True, fmt='g', cmap=\"Blues\",xticklabels=cm_df_cb.columns, yticklabels=cm_df_cb.index, annot_kws={\"size\": 20})\n",
    "plt.title(\"Матрица ошибок\", size=20)\n",
    "plt.xlabel('Класс предсказаний')\n",
    "plt.ylabel('Реальный класс');"
   ]
  },
  {
   "cell_type": "code",
   "execution_count": 62,
   "id": "5170b4ef",
   "metadata": {},
   "outputs": [
    {
     "name": "stdout",
     "output_type": "stream",
     "text": [
      "Всего предсказаний: 38144\n",
      "Правильно классифицированные: 53.0%\n",
      "Правильно классифицированная вина: 47.0%\n",
      "Правильно классифицированое отсутствие вины: 53.0%\n",
      "Прогнозируемая вина, соответствующая действительности: 2.0%\n",
      "Прогнозируемое отсутствие вины, которой так же на самом деле нет: 98.0%\n"
     ]
    }
   ],
   "source": [
    "TP = cm_cb[0][0]\n",
    "TN = cm_cb[1][1]\n",
    "FP = cm_cb[0][1]\n",
    "FN = cm_cb[1][0]\n",
    "total = cm_cb[0][0]+cm_cb[1][1]+cm_cb[0][1]+cm_cb[1][0]\n",
    "\n",
    "print('Всего предсказаний:',total)\n",
    "print(f'Правильно классифицированные: {np.round((TP+TN)/total*100)}%')\n",
    "print(f'Правильно классифицированная вина: {np.round(TP/(TP+FN)*100)}%')\n",
    "print(f'Правильно классифицированое отсутствие вины: {np.round(TN/(TN+FP)*100)}%')\n",
    "print(f'Прогнозируемая вина, соответствующая действительности: {np.round(TP/(TP+FP)*100)}%')\n",
    "print(f'Прогнозируемое отсутствие вины, которой так же на самом деле нет: {np.round(TN/(TN+FN)*100)}%')"
   ]
  },
  {
   "cell_type": "markdown",
   "id": "f94d020d",
   "metadata": {},
   "source": [
    "#### Feature Importances"
   ]
  },
  {
   "cell_type": "markdown",
   "id": "0c2015f2",
   "metadata": {},
   "source": [
    "**Decision Tree**:"
   ]
  },
  {
   "cell_type": "code",
   "execution_count": 63,
   "id": "229fa24b",
   "metadata": {},
   "outputs": [
    {
     "data": {
      "image/png": "[encoded data removed]",
      "text/plain": [
       "<Figure size 640x480 with 1 Axes>"
      ]
     },
     "metadata": {},
     "output_type": "display_data"
    }
   ],
   "source": [
    "feat_importances_dt = pd.Series((dt_gs.best_estimator_.feature_importances_), index=features.columns)\n",
    "feat_importances_dt.nlargest(5).plot(kind='barh')\n",
    "plt.show()"
   ]
  },
  {
   "cell_type": "markdown",
   "id": "f8f1dec8",
   "metadata": {},
   "source": [
    "Данная модель больше всего обращает внимание на трезвость участника, а именно на показатель: \"Был пьян, не под влиянием\""
   ]
  },
  {
   "cell_type": "markdown",
   "id": "d0ff76cc",
   "metadata": {},
   "source": [
    "Для графического анализа будем использовать столбчатую диаграмму. В ней отразим зависимость числа ДТП от уровня трезвости."
   ]
  },
  {
   "cell_type": "code",
   "execution_count": 64,
   "id": "294b0518",
   "metadata": {},
   "outputs": [
    {
     "data": {
      "text/html": [
       "<div>\n",
       "<style scoped>\n",
       "    .dataframe tbody tr th:only-of-type {\n",
       "        vertical-align: middle;\n",
       "    }\n",
       "\n",
       "    .dataframe tbody tr th {\n",
       "        vertical-align: top;\n",
       "    }\n",
       "\n",
       "    .dataframe thead th {\n",
       "        text-align: right;\n",
       "    }\n",
       "</style>\n",
       "<table border=\"1\" class=\"dataframe\">\n",
       "  <thead>\n",
       "    <tr style=\"text-align: right;\">\n",
       "      <th></th>\n",
       "      <th>party_sobriety</th>\n",
       "      <th>count_party_sobriety</th>\n",
       "    </tr>\n",
       "  </thead>\n",
       "  <tbody>\n",
       "    <tr>\n",
       "      <th>0</th>\n",
       "      <td>impairment unknown</td>\n",
       "      <td>232901</td>\n",
       "    </tr>\n",
       "    <tr>\n",
       "      <th>1</th>\n",
       "      <td>had been drinking, under influence</td>\n",
       "      <td>112413</td>\n",
       "    </tr>\n",
       "    <tr>\n",
       "      <th>2</th>\n",
       "      <td>had been drinking, impairment unknown</td>\n",
       "      <td>21419</td>\n",
       "    </tr>\n",
       "    <tr>\n",
       "      <th>3</th>\n",
       "      <td>had been drinking, not under influence</td>\n",
       "      <td>17650</td>\n",
       "    </tr>\n",
       "  </tbody>\n",
       "</table>\n",
       "</div>"
      ],
      "text/plain": [
       "                           party_sobriety  count_party_sobriety\n",
       "0                      impairment unknown                232901\n",
       "1      had been drinking, under influence                112413\n",
       "2   had been drinking, impairment unknown                 21419\n",
       "3  had been drinking, not under influence                 17650"
      ]
     },
     "execution_count": 64,
     "metadata": {},
     "output_type": "execute_result"
    }
   ],
   "source": [
    "query = '''\n",
    "select distinct party_sobriety,\n",
    "       count(case_id) count_party_sobriety\n",
    "from parties\n",
    "where party_sobriety != 'had not been drinking'\n",
    "   and party_sobriety != 'not applicable'\n",
    "group by party_sobriety\n",
    "order by count_party_sobriety desc\n",
    "'''\n",
    "party_sobriety = pd.read_sql_query(query, con=engine)\n",
    "party_sobriety"
   ]
  },
  {
   "cell_type": "code",
   "execution_count": 65,
   "id": "513ef893",
   "metadata": {},
   "outputs": [
    {
     "data": {
      "image/png": "[encoded data removed]",
      "text/plain": [
       "<Figure size 640x480 with 1 Axes>"
      ]
     },
     "metadata": {},
     "output_type": "display_data"
    }
   ],
   "source": [
    "import seaborn as sns\n",
    "sns.barplot(data = party_sobriety, x='party_sobriety', y='count_party_sobriety')\n",
    "plt.title('Влияние уровня трезвости на вероятность ДТП')\n",
    "plt.xticks(rotation=40)\n",
    "plt.xlabel('Уровень трезвости')\n",
    "plt.ylabel('Количество аварий')\n",
    "plt.show()"
   ]
  },
  {
   "cell_type": "markdown",
   "id": "f425989c",
   "metadata": {},
   "source": [
    "### Вывод"
   ]
  },
  {
   "cell_type": "markdown",
   "id": "fa584366",
   "metadata": {},
   "source": [
    "- Случайный Лес:\n",
    "  - F1 на тестовой выборке = 0.6663\n",
    "  - Всего предсказаний: 38144\n",
    "  - Правильно классифицированные: 52.0%\n",
    "  - Правильно классифицированная вина: 47.0%\n",
    "  - Правильно классифицированое отсутствие вины: 53.0%\n",
    "  - Прогнозируемая вина, соответствующая действительности: 11.0%\n",
    "  - Прогнозируемое отсутствие вины, которой так же на самом деле нет: 89.0%\n",
    "- Дерево решений:\n",
    "  - F1 на тестовой выбрке = 0.6683\n",
    "  - Всего предсказаний: 38144\n",
    "  - Правильно классифицированные: 52.0%\n",
    "  - Правильно классифицированная вина: 47.0%\n",
    "  - Правильно классифицированое отсутствие вины: 53.0%\n",
    "  - Прогнозируемая вина, соответствующая действительности: 10.0%\n",
    "  - Прогнозируемое отсутствие вины, которой так же на самом деле нет: 90.0%\n",
    "- Catboost:\n",
    "  - F1 на тестовой выборке = 0.5303\n",
    "  - Всего предсказаний: 38144\n",
    "  - Правильно классифицированные: 53.0%\n",
    "  - Правильно классифицированная вина: 47.0%\n",
    "  - Правильно классифицированое отсутствие вины: 53.0%\n",
    "  - Прогнозируемая вина, соответствующая действительности: 2.0%\n",
    "  - Прогнозируемое отсутствие вины, которой так же на самом деле нет: 98.0%\n",
    "  \n",
    "**Исходя из полученных данных, можно сделать вывод, что наилучшей моделью является модель \"Дерево решений\"**. \n",
    "\n"
   ]
  },
  {
   "cell_type": "markdown",
   "id": "8a017b4e",
   "metadata": {},
   "source": [
    "## Выводы"
   ]
  },
  {
   "cell_type": "markdown",
   "id": "f5ecf880",
   "metadata": {},
   "source": [
    "**Исходя из полученных данных, можно сделать вывод, что наилучшей моделью является модель \"Дерево решений\"**:\n",
    "  - F1 на тестовой выбрке = 0.6683\n",
    "  - Всего предсказаний: 38144\n",
    "  - Правильно классифицированные: 52.0%\n",
    "  - Правильно классифицированная вина: 47.0%\n",
    "  - Правильно классифицированое отсутствие вины: 53.0%\n",
    "  - Прогнозируемая вина, соответствующая действительности: 10.0%\n",
    "  - Прогнозируемое отсутствие вины, которой так же на самом деле нет: 90.0%\n",
    "  - Данная модель больше всего обращает внимание на трезвость участника, а именно на показатель: \"Был пьян, не под влиянием\". \n",
    "  \n",
    "**Так как самый важный фактор ДТП — уровень трезвости виновника (party_sobriety), то можно**:\n",
    "   - оборудовать автомобиль анализатором алкогольного опьянения\n",
    "   - измерение состояния при посадке сделать обязательным условием допуска за руль, без этого машина не заведется\n",
    "   - чтобы убедиться, что в трубку дышит именно водитель, добавить камеру, направленную на водительское место\n",
    "   - чтобы убедиться, что в трубку дышит именно водитель, добавить отпечаток пальца или face id на водительском месте\n",
    "\n",
    "  \n",
    "\n",
    "\n"
   ]
  }
 ],
 "metadata": {
  "ExecuteTimeLog": [
   {
    "duration": 7,
    "start_time": "2022-06-19T14:07:13.361Z"
   },
   {
    "duration": 8,
    "start_time": "2022-06-20T11:18:35.474Z"
   },
   {
    "duration": 3,
    "start_time": "2022-06-20T11:21:12.400Z"
   },
   {
    "duration": 48,
    "start_time": "2022-06-20T11:21:24.803Z"
   },
   {
    "duration": 953,
    "start_time": "2022-06-20T11:21:42.525Z"
   },
   {
    "duration": 9638,
    "start_time": "2022-06-20T11:21:48.828Z"
   },
   {
    "duration": 177,
    "start_time": "2022-06-20T11:22:15.897Z"
   },
   {
    "duration": 93,
    "start_time": "2022-06-20T11:22:31.430Z"
   },
   {
    "duration": 959,
    "start_time": "2022-06-20T11:40:15.956Z"
   },
   {
    "duration": 6,
    "start_time": "2022-06-20T11:40:16.917Z"
   },
   {
    "duration": 10,
    "start_time": "2022-06-20T11:40:16.926Z"
   },
   {
    "duration": 31265,
    "start_time": "2022-06-20T11:40:16.939Z"
   },
   {
    "duration": 250,
    "start_time": "2022-06-20T11:40:48.206Z"
   },
   {
    "duration": 0,
    "start_time": "2022-06-20T11:40:48.458Z"
   },
   {
    "duration": 137,
    "start_time": "2022-06-20T11:41:42.476Z"
   },
   {
    "duration": 6,
    "start_time": "2022-06-20T12:48:53.698Z"
   },
   {
    "duration": 96,
    "start_time": "2022-06-20T12:50:35.551Z"
   },
   {
    "duration": 9,
    "start_time": "2022-06-20T12:51:04.009Z"
   },
   {
    "duration": 21,
    "start_time": "2022-06-20T12:51:15.325Z"
   },
   {
    "duration": 22,
    "start_time": "2022-06-20T12:51:36.844Z"
   },
   {
    "duration": 3,
    "start_time": "2022-06-20T12:52:55.754Z"
   },
   {
    "duration": 3560,
    "start_time": "2022-06-20T12:53:22.753Z"
   },
   {
    "duration": 7,
    "start_time": "2022-06-20T12:53:34.127Z"
   },
   {
    "duration": 16699,
    "start_time": "2022-06-20T12:53:49.956Z"
   },
   {
    "duration": 21,
    "start_time": "2022-06-20T12:54:13.097Z"
   },
   {
    "duration": 809,
    "start_time": "2022-06-20T12:57:46.115Z"
   },
   {
    "duration": 4,
    "start_time": "2022-06-20T12:57:46.927Z"
   },
   {
    "duration": 12,
    "start_time": "2022-06-20T12:57:46.933Z"
   },
   {
    "duration": 8888,
    "start_time": "2022-06-20T12:57:46.947Z"
   },
   {
    "duration": 6,
    "start_time": "2022-06-20T12:57:55.837Z"
   },
   {
    "duration": 16047,
    "start_time": "2022-06-20T12:57:55.844Z"
   },
   {
    "duration": 2564,
    "start_time": "2022-06-20T12:58:11.893Z"
   },
   {
    "duration": 3744,
    "start_time": "2022-06-20T12:58:14.459Z"
   },
   {
    "duration": 209,
    "start_time": "2022-06-20T12:58:18.205Z"
   },
   {
    "duration": 3323,
    "start_time": "2022-06-20T12:58:18.416Z"
   },
   {
    "duration": 269,
    "start_time": "2022-06-20T12:58:21.741Z"
   },
   {
    "duration": 47,
    "start_time": "2022-06-20T12:59:00.360Z"
   },
   {
    "duration": 785,
    "start_time": "2022-06-20T12:59:18.121Z"
   },
   {
    "duration": 3,
    "start_time": "2022-06-20T12:59:18.950Z"
   },
   {
    "duration": 3,
    "start_time": "2022-06-20T12:59:19.445Z"
   },
   {
    "duration": 8657,
    "start_time": "2022-06-20T12:59:20.304Z"
   },
   {
    "duration": 16129,
    "start_time": "2022-06-20T12:59:28.962Z"
   },
   {
    "duration": 2595,
    "start_time": "2022-06-20T12:59:45.093Z"
   },
   {
    "duration": 3619,
    "start_time": "2022-06-20T12:59:47.690Z"
   },
   {
    "duration": 205,
    "start_time": "2022-06-20T12:59:51.311Z"
   },
   {
    "duration": 3522,
    "start_time": "2022-06-20T12:59:51.517Z"
   },
   {
    "duration": 264,
    "start_time": "2022-06-20T12:59:55.041Z"
   },
   {
    "duration": 48,
    "start_time": "2022-06-20T13:00:16.053Z"
   },
   {
    "duration": 758,
    "start_time": "2022-06-20T13:00:26.595Z"
   },
   {
    "duration": 4,
    "start_time": "2022-06-20T13:00:27.356Z"
   },
   {
    "duration": 27,
    "start_time": "2022-06-20T13:00:27.362Z"
   },
   {
    "duration": 9842,
    "start_time": "2022-06-20T13:00:27.391Z"
   },
   {
    "duration": 16326,
    "start_time": "2022-06-20T13:00:37.236Z"
   },
   {
    "duration": 2514,
    "start_time": "2022-06-20T13:00:53.563Z"
   },
   {
    "duration": 3703,
    "start_time": "2022-06-20T13:00:56.079Z"
   },
   {
    "duration": 200,
    "start_time": "2022-06-20T13:00:59.784Z"
   },
   {
    "duration": 3305,
    "start_time": "2022-06-20T13:00:59.986Z"
   },
   {
    "duration": 269,
    "start_time": "2022-06-20T13:01:03.292Z"
   },
   {
    "duration": 14,
    "start_time": "2022-06-20T13:04:13.644Z"
   },
   {
    "duration": 47,
    "start_time": "2022-06-20T13:09:23.734Z"
   },
   {
    "duration": 768,
    "start_time": "2022-06-20T13:09:29.218Z"
   },
   {
    "duration": 3,
    "start_time": "2022-06-20T13:09:29.988Z"
   },
   {
    "duration": 11,
    "start_time": "2022-06-20T13:09:29.993Z"
   },
   {
    "duration": 8663,
    "start_time": "2022-06-20T13:09:30.006Z"
   },
   {
    "duration": 16725,
    "start_time": "2022-06-20T13:09:38.671Z"
   },
   {
    "duration": 2612,
    "start_time": "2022-06-20T13:09:55.398Z"
   },
   {
    "duration": 3632,
    "start_time": "2022-06-20T13:09:58.012Z"
   },
   {
    "duration": 204,
    "start_time": "2022-06-20T13:10:01.645Z"
   },
   {
    "duration": 3405,
    "start_time": "2022-06-20T13:10:01.857Z"
   },
   {
    "duration": 288,
    "start_time": "2022-06-20T13:10:05.263Z"
   },
   {
    "duration": 16,
    "start_time": "2022-06-20T13:10:05.552Z"
   },
   {
    "duration": 8,
    "start_time": "2022-06-20T13:10:05.570Z"
   },
   {
    "duration": 771,
    "start_time": "2022-06-21T01:10:53.279Z"
   },
   {
    "duration": 3,
    "start_time": "2022-06-21T01:10:54.900Z"
   },
   {
    "duration": 3,
    "start_time": "2022-06-21T01:10:56.883Z"
   },
   {
    "duration": 5789,
    "start_time": "2022-06-21T01:10:58.037Z"
   },
   {
    "duration": 16929,
    "start_time": "2022-06-21T01:11:15.840Z"
   },
   {
    "duration": 3663,
    "start_time": "2022-06-21T01:12:10.744Z"
   },
   {
    "duration": 3306,
    "start_time": "2022-06-21T01:12:19.840Z"
   },
   {
    "duration": 40,
    "start_time": "2022-06-21T01:12:24.386Z"
   },
   {
    "duration": 887,
    "start_time": "2022-06-21T08:17:22.439Z"
   },
   {
    "duration": 3,
    "start_time": "2022-06-21T08:17:23.329Z"
   },
   {
    "duration": 7,
    "start_time": "2022-06-21T08:17:23.334Z"
   },
   {
    "duration": 6441,
    "start_time": "2022-06-21T08:17:23.343Z"
   },
   {
    "duration": 788,
    "start_time": "2022-06-21T08:17:41.112Z"
   },
   {
    "duration": 2,
    "start_time": "2022-06-21T08:17:41.902Z"
   },
   {
    "duration": 9,
    "start_time": "2022-06-21T08:17:41.906Z"
   },
   {
    "duration": 6176,
    "start_time": "2022-06-21T08:17:41.917Z"
   },
   {
    "duration": 18735,
    "start_time": "2022-06-21T08:17:48.095Z"
   },
   {
    "duration": 4185,
    "start_time": "2022-06-21T08:18:06.832Z"
   },
   {
    "duration": 3620,
    "start_time": "2022-06-21T08:18:11.019Z"
   },
   {
    "duration": 811,
    "start_time": "2022-06-21T13:01:15.306Z"
   },
   {
    "duration": 3,
    "start_time": "2022-06-21T13:01:16.119Z"
   },
   {
    "duration": 15,
    "start_time": "2022-06-21T13:01:16.123Z"
   },
   {
    "duration": 7261,
    "start_time": "2022-06-21T13:01:16.140Z"
   },
   {
    "duration": 235,
    "start_time": "2022-06-21T13:01:23.403Z"
   },
   {
    "duration": 42,
    "start_time": "2022-06-21T13:01:23.640Z"
   },
   {
    "duration": 44,
    "start_time": "2022-06-21T13:01:23.684Z"
   },
   {
    "duration": 48,
    "start_time": "2022-06-21T13:01:23.730Z"
   },
   {
    "duration": 3240,
    "start_time": "2022-06-21T13:01:23.779Z"
   },
   {
    "duration": 660,
    "start_time": "2022-06-21T13:01:27.021Z"
   },
   {
    "duration": 18,
    "start_time": "2022-06-21T13:01:27.683Z"
   },
   {
    "duration": 14,
    "start_time": "2022-06-21T13:01:27.702Z"
   },
   {
    "duration": 382,
    "start_time": "2022-06-21T13:01:27.718Z"
   },
   {
    "duration": 930,
    "start_time": "2022-06-22T08:37:50.915Z"
   },
   {
    "duration": 3,
    "start_time": "2022-06-22T08:37:51.847Z"
   },
   {
    "duration": 7,
    "start_time": "2022-06-22T08:37:51.852Z"
   },
   {
    "duration": 5382,
    "start_time": "2022-06-22T08:37:51.860Z"
   },
   {
    "duration": 257,
    "start_time": "2022-06-22T08:37:57.245Z"
   },
   {
    "duration": 41,
    "start_time": "2022-06-22T08:37:57.504Z"
   },
   {
    "duration": 42,
    "start_time": "2022-06-22T08:37:57.547Z"
   },
   {
    "duration": 47,
    "start_time": "2022-06-22T08:37:57.591Z"
   },
   {
    "duration": 2291,
    "start_time": "2022-06-22T08:37:57.639Z"
   },
   {
    "duration": 655,
    "start_time": "2022-06-22T08:37:59.932Z"
   },
   {
    "duration": 16,
    "start_time": "2022-06-22T08:38:00.590Z"
   },
   {
    "duration": 29,
    "start_time": "2022-06-22T08:38:00.608Z"
   },
   {
    "duration": 383,
    "start_time": "2022-06-22T08:38:00.639Z"
   },
   {
    "duration": 3,
    "start_time": "2022-06-22T08:58:43.187Z"
   },
   {
    "duration": 475,
    "start_time": "2022-06-22T09:01:53.843Z"
   },
   {
    "duration": 458,
    "start_time": "2022-06-22T09:02:20.123Z"
   },
   {
    "duration": 199,
    "start_time": "2022-06-22T09:02:43.595Z"
   },
   {
    "duration": 452,
    "start_time": "2022-06-22T09:02:57.438Z"
   },
   {
    "duration": 111,
    "start_time": "2022-06-22T09:06:24.916Z"
   },
   {
    "duration": 116,
    "start_time": "2022-06-22T09:07:21.671Z"
   },
   {
    "duration": 1290,
    "start_time": "2022-06-22T09:07:35.637Z"
   },
   {
    "duration": 465,
    "start_time": "2022-06-22T09:08:15.800Z"
   },
   {
    "duration": 1327,
    "start_time": "2022-06-22T09:09:17.670Z"
   },
   {
    "duration": 1251,
    "start_time": "2022-06-22T09:09:47.534Z"
   },
   {
    "duration": 1759,
    "start_time": "2022-06-22T09:16:08.146Z"
   },
   {
    "duration": 122,
    "start_time": "2022-06-22T09:16:30.504Z"
   },
   {
    "duration": 202,
    "start_time": "2022-06-22T09:16:58.692Z"
   },
   {
    "duration": 208,
    "start_time": "2022-06-22T09:17:47.575Z"
   },
   {
    "duration": 203,
    "start_time": "2022-06-22T09:17:51.935Z"
   },
   {
    "duration": 17781,
    "start_time": "2022-06-22T09:21:10.274Z"
   },
   {
    "duration": 2953,
    "start_time": "2022-06-22T09:21:28.057Z"
   },
   {
    "duration": 57,
    "start_time": "2022-06-22T09:24:14.545Z"
   },
   {
    "duration": 859,
    "start_time": "2022-06-22T13:47:20.004Z"
   },
   {
    "duration": 3,
    "start_time": "2022-06-22T13:47:20.865Z"
   },
   {
    "duration": 17,
    "start_time": "2022-06-22T13:47:20.869Z"
   },
   {
    "duration": 6254,
    "start_time": "2022-06-22T13:47:20.888Z"
   },
   {
    "duration": 202,
    "start_time": "2022-06-22T13:47:27.143Z"
   },
   {
    "duration": 36,
    "start_time": "2022-06-22T13:47:27.347Z"
   },
   {
    "duration": 37,
    "start_time": "2022-06-22T13:47:27.385Z"
   },
   {
    "duration": 40,
    "start_time": "2022-06-22T13:47:27.424Z"
   },
   {
    "duration": 4363,
    "start_time": "2022-06-22T13:47:27.466Z"
   },
   {
    "duration": 715,
    "start_time": "2022-06-22T13:47:31.831Z"
   },
   {
    "duration": 29,
    "start_time": "2022-06-22T13:47:32.548Z"
   },
   {
    "duration": 23,
    "start_time": "2022-06-22T13:47:32.579Z"
   },
   {
    "duration": 1250,
    "start_time": "2022-06-22T13:47:32.604Z"
   },
   {
    "duration": 1291,
    "start_time": "2022-06-22T13:47:33.855Z"
   },
   {
    "duration": 199,
    "start_time": "2022-06-22T13:47:35.148Z"
   },
   {
    "duration": 193,
    "start_time": "2022-06-22T13:47:56.880Z"
   },
   {
    "duration": 130,
    "start_time": "2022-06-22T13:48:08.116Z"
   },
   {
    "duration": 54918,
    "start_time": "2022-06-22T13:48:19.569Z"
   },
   {
    "duration": 12,
    "start_time": "2022-06-22T13:51:56.081Z"
   },
   {
    "duration": 11,
    "start_time": "2022-06-22T13:52:17.571Z"
   },
   {
    "duration": 6289,
    "start_time": "2022-06-22T13:52:21.695Z"
   },
   {
    "duration": 6124,
    "start_time": "2022-06-22T13:52:30.400Z"
   },
   {
    "duration": 62147,
    "start_time": "2022-06-22T13:53:04.991Z"
   },
   {
    "duration": 124,
    "start_time": "2022-06-22T13:56:07.114Z"
   },
   {
    "duration": 106,
    "start_time": "2022-06-22T13:56:12.011Z"
   },
   {
    "duration": 826,
    "start_time": "2022-06-22T13:57:37.121Z"
   },
   {
    "duration": 4,
    "start_time": "2022-06-22T13:57:37.949Z"
   },
   {
    "duration": 7,
    "start_time": "2022-06-22T13:57:37.954Z"
   },
   {
    "duration": 6014,
    "start_time": "2022-06-22T13:57:37.963Z"
   },
   {
    "duration": 249,
    "start_time": "2022-06-22T13:57:43.980Z"
   },
   {
    "duration": 42,
    "start_time": "2022-06-22T13:57:44.231Z"
   },
   {
    "duration": 44,
    "start_time": "2022-06-22T13:57:44.275Z"
   },
   {
    "duration": 48,
    "start_time": "2022-06-22T13:57:44.322Z"
   },
   {
    "duration": 5531,
    "start_time": "2022-06-22T13:57:44.372Z"
   },
   {
    "duration": 738,
    "start_time": "2022-06-22T13:57:49.905Z"
   },
   {
    "duration": 31,
    "start_time": "2022-06-22T13:57:50.646Z"
   },
   {
    "duration": 22,
    "start_time": "2022-06-22T13:57:50.679Z"
   },
   {
    "duration": 1321,
    "start_time": "2022-06-22T13:57:50.704Z"
   },
   {
    "duration": 1293,
    "start_time": "2022-06-22T13:57:52.028Z"
   },
   {
    "duration": 199,
    "start_time": "2022-06-22T13:57:53.324Z"
   },
   {
    "duration": 51111,
    "start_time": "2022-06-22T13:57:53.525Z"
   },
   {
    "duration": 848,
    "start_time": "2022-06-22T14:00:02.219Z"
   },
   {
    "duration": 4,
    "start_time": "2022-06-22T14:00:03.072Z"
   },
   {
    "duration": 22,
    "start_time": "2022-06-22T14:00:03.078Z"
   },
   {
    "duration": 7125,
    "start_time": "2022-06-22T14:00:03.102Z"
   },
   {
    "duration": 245,
    "start_time": "2022-06-22T14:00:10.229Z"
   },
   {
    "duration": 39,
    "start_time": "2022-06-22T14:00:10.476Z"
   },
   {
    "duration": 41,
    "start_time": "2022-06-22T14:00:10.518Z"
   },
   {
    "duration": 46,
    "start_time": "2022-06-22T14:00:10.564Z"
   },
   {
    "duration": 1707,
    "start_time": "2022-06-22T14:00:10.612Z"
   },
   {
    "duration": 696,
    "start_time": "2022-06-22T14:00:12.322Z"
   },
   {
    "duration": 39,
    "start_time": "2022-06-22T14:00:13.020Z"
   },
   {
    "duration": 17,
    "start_time": "2022-06-22T14:00:13.067Z"
   },
   {
    "duration": 1340,
    "start_time": "2022-06-22T14:00:13.086Z"
   },
   {
    "duration": 1314,
    "start_time": "2022-06-22T14:00:14.428Z"
   },
   {
    "duration": 214,
    "start_time": "2022-06-22T14:00:15.744Z"
   },
   {
    "duration": 51778,
    "start_time": "2022-06-22T14:00:15.960Z"
   },
   {
    "duration": 30,
    "start_time": "2022-06-22T14:01:07.739Z"
   },
   {
    "duration": 7,
    "start_time": "2022-06-22T14:01:07.772Z"
   },
   {
    "duration": 45633,
    "start_time": "2022-06-22T14:05:21.548Z"
   },
   {
    "duration": 19,
    "start_time": "2022-06-22T14:06:08.625Z"
   },
   {
    "duration": 1121,
    "start_time": "2022-06-22T14:08:38.222Z"
   },
   {
    "duration": 87,
    "start_time": "2022-06-22T14:09:06.221Z"
   },
   {
    "duration": 869,
    "start_time": "2022-06-22T14:10:05.477Z"
   },
   {
    "duration": 733,
    "start_time": "2022-06-22T16:12:22.600Z"
   },
   {
    "duration": 3,
    "start_time": "2022-06-22T16:12:23.335Z"
   },
   {
    "duration": 10,
    "start_time": "2022-06-22T16:12:23.340Z"
   },
   {
    "duration": 8336,
    "start_time": "2022-06-22T16:12:23.353Z"
   },
   {
    "duration": 237,
    "start_time": "2022-06-22T16:12:31.691Z"
   },
   {
    "duration": 41,
    "start_time": "2022-06-22T16:12:31.930Z"
   },
   {
    "duration": 39,
    "start_time": "2022-06-22T16:12:31.973Z"
   },
   {
    "duration": 52,
    "start_time": "2022-06-22T16:12:32.014Z"
   },
   {
    "duration": 4414,
    "start_time": "2022-06-22T16:12:32.069Z"
   },
   {
    "duration": 683,
    "start_time": "2022-06-22T16:12:36.486Z"
   },
   {
    "duration": 27,
    "start_time": "2022-06-22T16:12:37.172Z"
   },
   {
    "duration": 18,
    "start_time": "2022-06-22T16:12:37.201Z"
   },
   {
    "duration": 1259,
    "start_time": "2022-06-22T16:12:37.221Z"
   },
   {
    "duration": 1245,
    "start_time": "2022-06-22T16:12:38.482Z"
   },
   {
    "duration": 192,
    "start_time": "2022-06-22T16:12:39.729Z"
   },
   {
    "duration": 42745,
    "start_time": "2022-06-22T16:12:39.923Z"
   },
   {
    "duration": 12,
    "start_time": "2022-06-22T16:13:22.670Z"
   },
   {
    "duration": 899,
    "start_time": "2022-06-22T16:13:22.683Z"
   },
   {
    "duration": 879,
    "start_time": "2022-06-22T16:13:23.584Z"
   },
   {
    "duration": 439,
    "start_time": "2022-06-22T16:30:45.412Z"
   },
   {
    "duration": 200,
    "start_time": "2022-06-22T16:31:19.089Z"
   },
   {
    "duration": 216,
    "start_time": "2022-06-22T16:31:31.934Z"
   },
   {
    "duration": 240,
    "start_time": "2022-06-22T16:32:14.860Z"
   },
   {
    "duration": 217,
    "start_time": "2022-06-22T16:32:40.247Z"
   },
   {
    "duration": 879,
    "start_time": "2022-06-23T10:32:46.615Z"
   },
   {
    "duration": 2,
    "start_time": "2022-06-23T10:32:47.497Z"
   },
   {
    "duration": 9,
    "start_time": "2022-06-23T10:32:47.501Z"
   },
   {
    "duration": 6490,
    "start_time": "2022-06-23T10:32:47.512Z"
   },
   {
    "duration": 229,
    "start_time": "2022-06-23T10:32:54.005Z"
   },
   {
    "duration": 38,
    "start_time": "2022-06-23T10:32:54.236Z"
   },
   {
    "duration": 44,
    "start_time": "2022-06-23T10:32:54.277Z"
   },
   {
    "duration": 44,
    "start_time": "2022-06-23T10:32:54.324Z"
   },
   {
    "duration": 7747,
    "start_time": "2022-06-23T10:32:54.370Z"
   },
   {
    "duration": 714,
    "start_time": "2022-06-23T10:33:02.119Z"
   },
   {
    "duration": 29,
    "start_time": "2022-06-23T10:33:02.835Z"
   },
   {
    "duration": 25,
    "start_time": "2022-06-23T10:33:02.866Z"
   },
   {
    "duration": 227,
    "start_time": "2022-06-23T10:33:02.893Z"
   },
   {
    "duration": 112,
    "start_time": "2022-06-23T10:33:03.123Z"
   },
   {
    "duration": 0,
    "start_time": "2022-06-23T10:33:03.237Z"
   },
   {
    "duration": 0,
    "start_time": "2022-06-23T10:33:03.238Z"
   },
   {
    "duration": 0,
    "start_time": "2022-06-23T10:33:03.240Z"
   },
   {
    "duration": 0,
    "start_time": "2022-06-23T10:33:03.241Z"
   },
   {
    "duration": 0,
    "start_time": "2022-06-23T10:33:03.242Z"
   },
   {
    "duration": 0,
    "start_time": "2022-06-23T10:33:03.259Z"
   },
   {
    "duration": 665,
    "start_time": "2022-06-23T10:36:58.278Z"
   },
   {
    "duration": 3,
    "start_time": "2022-06-23T10:36:58.945Z"
   },
   {
    "duration": 4,
    "start_time": "2022-06-23T10:36:58.952Z"
   },
   {
    "duration": 7286,
    "start_time": "2022-06-23T10:36:58.958Z"
   },
   {
    "duration": 226,
    "start_time": "2022-06-23T10:37:06.246Z"
   },
   {
    "duration": 39,
    "start_time": "2022-06-23T10:37:06.474Z"
   },
   {
    "duration": 41,
    "start_time": "2022-06-23T10:37:06.515Z"
   },
   {
    "duration": 43,
    "start_time": "2022-06-23T10:37:06.558Z"
   },
   {
    "duration": 1711,
    "start_time": "2022-06-23T10:37:06.603Z"
   },
   {
    "duration": 674,
    "start_time": "2022-06-23T10:37:08.316Z"
   },
   {
    "duration": 17,
    "start_time": "2022-06-23T10:37:08.991Z"
   },
   {
    "duration": 14,
    "start_time": "2022-06-23T10:37:09.010Z"
   },
   {
    "duration": 242,
    "start_time": "2022-06-23T10:37:09.026Z"
   },
   {
    "duration": 103,
    "start_time": "2022-06-23T10:37:09.269Z"
   },
   {
    "duration": 0,
    "start_time": "2022-06-23T10:37:09.374Z"
   },
   {
    "duration": 0,
    "start_time": "2022-06-23T10:37:09.375Z"
   },
   {
    "duration": 0,
    "start_time": "2022-06-23T10:37:09.377Z"
   },
   {
    "duration": 0,
    "start_time": "2022-06-23T10:37:09.378Z"
   },
   {
    "duration": 0,
    "start_time": "2022-06-23T10:37:09.380Z"
   },
   {
    "duration": 0,
    "start_time": "2022-06-23T10:37:09.381Z"
   },
   {
    "duration": 3551,
    "start_time": "2022-06-23T11:03:13.401Z"
   },
   {
    "duration": 128,
    "start_time": "2022-06-23T11:03:32.604Z"
   },
   {
    "duration": 7066,
    "start_time": "2022-06-23T11:04:35.519Z"
   },
   {
    "duration": 129,
    "start_time": "2022-06-23T11:09:55.436Z"
   },
   {
    "duration": 1270,
    "start_time": "2022-06-23T11:10:18.925Z"
   },
   {
    "duration": 119,
    "start_time": "2022-06-23T11:10:23.389Z"
   },
   {
    "duration": 201,
    "start_time": "2022-06-23T11:15:50.627Z"
   },
   {
    "duration": 132,
    "start_time": "2022-06-23T11:16:24.009Z"
   },
   {
    "duration": 221,
    "start_time": "2022-06-23T11:17:31.753Z"
   },
   {
    "duration": 658,
    "start_time": "2022-06-23T12:46:13.802Z"
   },
   {
    "duration": 3,
    "start_time": "2022-06-23T12:46:14.462Z"
   },
   {
    "duration": 6,
    "start_time": "2022-06-23T12:46:14.467Z"
   },
   {
    "duration": 7326,
    "start_time": "2022-06-23T12:46:14.475Z"
   },
   {
    "duration": 201,
    "start_time": "2022-06-23T12:46:21.802Z"
   },
   {
    "duration": 36,
    "start_time": "2022-06-23T12:46:22.005Z"
   },
   {
    "duration": 37,
    "start_time": "2022-06-23T12:46:22.043Z"
   },
   {
    "duration": 40,
    "start_time": "2022-06-23T12:46:22.082Z"
   },
   {
    "duration": 1657,
    "start_time": "2022-06-23T12:46:22.124Z"
   },
   {
    "duration": 609,
    "start_time": "2022-06-23T12:46:23.783Z"
   },
   {
    "duration": 17,
    "start_time": "2022-06-23T12:46:24.394Z"
   },
   {
    "duration": 30,
    "start_time": "2022-06-23T12:46:24.413Z"
   },
   {
    "duration": 1328,
    "start_time": "2022-06-23T12:46:24.445Z"
   },
   {
    "duration": 134,
    "start_time": "2022-06-23T12:46:25.774Z"
   },
   {
    "duration": 213,
    "start_time": "2022-06-23T12:46:25.910Z"
   },
   {
    "duration": 138,
    "start_time": "2022-06-23T12:46:26.125Z"
   },
   {
    "duration": 43376,
    "start_time": "2022-06-23T12:46:26.265Z"
   },
   {
    "duration": 11,
    "start_time": "2022-06-23T12:47:09.644Z"
   },
   {
    "duration": 881,
    "start_time": "2022-06-23T12:47:09.657Z"
   },
   {
    "duration": 838,
    "start_time": "2022-06-23T12:47:10.540Z"
   },
   {
    "duration": 212,
    "start_time": "2022-06-23T12:50:09.541Z"
   },
   {
    "duration": 296,
    "start_time": "2022-06-23T12:50:51.690Z"
   },
   {
    "duration": 322,
    "start_time": "2022-06-23T12:51:09.352Z"
   },
   {
    "duration": 207,
    "start_time": "2022-06-23T12:51:22.565Z"
   },
   {
    "duration": 171,
    "start_time": "2022-06-23T12:51:27.954Z"
   },
   {
    "duration": 216,
    "start_time": "2022-06-23T12:51:37.760Z"
   },
   {
    "duration": 128,
    "start_time": "2022-06-23T12:51:39.985Z"
   },
   {
    "duration": 144,
    "start_time": "2022-06-23T12:52:32.128Z"
   },
   {
    "duration": 5328,
    "start_time": "2022-06-23T12:57:28.397Z"
   },
   {
    "duration": 1658,
    "start_time": "2022-06-23T13:00:40.280Z"
   },
   {
    "duration": 5684,
    "start_time": "2022-06-23T13:01:35.302Z"
   },
   {
    "duration": 175,
    "start_time": "2022-06-23T13:01:55.907Z"
   },
   {
    "duration": 1296,
    "start_time": "2022-06-23T13:02:27.480Z"
   },
   {
    "duration": 167,
    "start_time": "2022-06-23T13:02:31.541Z"
   },
   {
    "duration": 127,
    "start_time": "2022-06-23T13:04:03.639Z"
   },
   {
    "duration": 213,
    "start_time": "2022-06-23T13:04:57.623Z"
   },
   {
    "duration": 1587,
    "start_time": "2022-06-23T13:05:08.783Z"
   },
   {
    "duration": 3819,
    "start_time": "2022-06-23T13:05:18.463Z"
   },
   {
    "duration": 1114,
    "start_time": "2022-06-23T13:09:42.385Z"
   },
   {
    "duration": 222,
    "start_time": "2022-06-23T13:11:31.595Z"
   },
   {
    "duration": 13,
    "start_time": "2022-06-23T13:13:17.601Z"
   },
   {
    "duration": 191,
    "start_time": "2022-06-23T13:13:25.902Z"
   },
   {
    "duration": 121,
    "start_time": "2022-06-23T13:13:26.392Z"
   },
   {
    "duration": 226,
    "start_time": "2022-06-23T13:13:40.430Z"
   },
   {
    "duration": 205,
    "start_time": "2022-06-23T13:13:59.551Z"
   },
   {
    "duration": 13,
    "start_time": "2022-06-23T13:14:22.183Z"
   },
   {
    "duration": 116,
    "start_time": "2022-06-23T13:14:40.586Z"
   },
   {
    "duration": 713,
    "start_time": "2022-06-23T13:14:51.273Z"
   },
   {
    "duration": 3,
    "start_time": "2022-06-23T13:14:51.988Z"
   },
   {
    "duration": 9,
    "start_time": "2022-06-23T13:14:51.992Z"
   },
   {
    "duration": 6918,
    "start_time": "2022-06-23T13:14:52.003Z"
   },
   {
    "duration": 206,
    "start_time": "2022-06-23T13:14:58.922Z"
   },
   {
    "duration": 38,
    "start_time": "2022-06-23T13:14:59.129Z"
   },
   {
    "duration": 41,
    "start_time": "2022-06-23T13:14:59.168Z"
   },
   {
    "duration": 41,
    "start_time": "2022-06-23T13:14:59.211Z"
   },
   {
    "duration": 5288,
    "start_time": "2022-06-23T13:14:59.254Z"
   },
   {
    "duration": 637,
    "start_time": "2022-06-23T13:15:04.545Z"
   },
   {
    "duration": 22,
    "start_time": "2022-06-23T13:15:05.184Z"
   },
   {
    "duration": 34,
    "start_time": "2022-06-23T13:15:05.208Z"
   },
   {
    "duration": 1282,
    "start_time": "2022-06-23T13:15:05.245Z"
   },
   {
    "duration": 122,
    "start_time": "2022-06-23T13:15:06.529Z"
   },
   {
    "duration": 1282,
    "start_time": "2022-06-23T13:15:06.652Z"
   },
   {
    "duration": 166,
    "start_time": "2022-06-23T13:15:07.936Z"
   },
   {
    "duration": 1145,
    "start_time": "2022-06-23T13:15:08.104Z"
   },
   {
    "duration": 197,
    "start_time": "2022-06-23T13:15:09.251Z"
   },
   {
    "duration": 137,
    "start_time": "2022-06-23T13:15:09.449Z"
   },
   {
    "duration": 200,
    "start_time": "2022-06-23T13:15:09.588Z"
   },
   {
    "duration": 126,
    "start_time": "2022-06-23T13:15:09.790Z"
   },
   {
    "duration": 194,
    "start_time": "2022-06-23T13:15:09.918Z"
   },
   {
    "duration": 193,
    "start_time": "2022-06-23T13:15:10.113Z"
   },
   {
    "duration": 215,
    "start_time": "2022-06-23T13:15:10.308Z"
   },
   {
    "duration": 124,
    "start_time": "2022-06-23T13:15:10.525Z"
   },
   {
    "duration": 30778,
    "start_time": "2022-06-23T13:15:10.651Z"
   },
   {
    "duration": 12,
    "start_time": "2022-06-23T13:15:41.430Z"
   },
   {
    "duration": 870,
    "start_time": "2022-06-23T13:15:41.451Z"
   },
   {
    "duration": 875,
    "start_time": "2022-06-23T13:15:42.322Z"
   },
   {
    "duration": 187,
    "start_time": "2022-06-23T13:20:47.062Z"
   },
   {
    "duration": 168,
    "start_time": "2022-06-23T13:20:50.212Z"
   },
   {
    "duration": 937,
    "start_time": "2022-06-23T16:02:45.673Z"
   },
   {
    "duration": 4,
    "start_time": "2022-06-23T16:02:46.612Z"
   },
   {
    "duration": 8,
    "start_time": "2022-06-23T16:02:46.618Z"
   },
   {
    "duration": 6969,
    "start_time": "2022-06-23T16:02:46.629Z"
   },
   {
    "duration": 250,
    "start_time": "2022-06-23T16:02:53.600Z"
   },
   {
    "duration": 49,
    "start_time": "2022-06-23T16:02:53.852Z"
   },
   {
    "duration": 43,
    "start_time": "2022-06-23T16:02:53.903Z"
   },
   {
    "duration": 60,
    "start_time": "2022-06-23T16:02:53.947Z"
   },
   {
    "duration": 1630,
    "start_time": "2022-06-23T16:02:54.009Z"
   },
   {
    "duration": 692,
    "start_time": "2022-06-23T16:02:55.642Z"
   },
   {
    "duration": 1261,
    "start_time": "2022-06-23T16:02:56.335Z"
   },
   {
    "duration": 139,
    "start_time": "2022-06-23T16:02:57.597Z"
   },
   {
    "duration": 182,
    "start_time": "2022-06-23T16:02:57.738Z"
   },
   {
    "duration": 177,
    "start_time": "2022-06-23T16:02:57.922Z"
   },
   {
    "duration": 1165,
    "start_time": "2022-06-23T16:02:58.101Z"
   },
   {
    "duration": 213,
    "start_time": "2022-06-23T16:02:59.268Z"
   },
   {
    "duration": 144,
    "start_time": "2022-06-23T16:02:59.483Z"
   },
   {
    "duration": 203,
    "start_time": "2022-06-23T16:02:59.630Z"
   },
   {
    "duration": 155,
    "start_time": "2022-06-23T16:02:59.835Z"
   },
   {
    "duration": 243,
    "start_time": "2022-06-23T16:02:59.991Z"
   },
   {
    "duration": 208,
    "start_time": "2022-06-23T16:03:00.235Z"
   },
   {
    "duration": 232,
    "start_time": "2022-06-23T16:03:00.445Z"
   },
   {
    "duration": 128,
    "start_time": "2022-06-23T16:03:00.680Z"
   },
   {
    "duration": 48460,
    "start_time": "2022-06-23T16:03:00.810Z"
   },
   {
    "duration": 11,
    "start_time": "2022-06-23T16:03:49.275Z"
   },
   {
    "duration": 908,
    "start_time": "2022-06-23T16:03:49.288Z"
   },
   {
    "duration": 894,
    "start_time": "2022-06-23T16:03:50.198Z"
   },
   {
    "duration": 547,
    "start_time": "2022-06-23T16:23:53.954Z"
   },
   {
    "duration": 208,
    "start_time": "2022-06-23T16:23:56.284Z"
   },
   {
    "duration": 8298,
    "start_time": "2022-06-23T16:24:05.445Z"
   },
   {
    "duration": 176,
    "start_time": "2022-06-23T16:24:13.746Z"
   },
   {
    "duration": 228,
    "start_time": "2022-06-23T16:29:50.253Z"
   },
   {
    "duration": 148,
    "start_time": "2022-06-23T16:29:52.908Z"
   },
   {
    "duration": 166,
    "start_time": "2022-06-23T16:30:54.693Z"
   },
   {
    "duration": 152,
    "start_time": "2022-06-23T16:30:58.076Z"
   },
   {
    "duration": 247,
    "start_time": "2022-06-23T16:32:43.099Z"
   },
   {
    "duration": 227,
    "start_time": "2022-06-23T16:32:54.781Z"
   },
   {
    "duration": 157,
    "start_time": "2022-06-23T16:32:59.210Z"
   },
   {
    "duration": 210,
    "start_time": "2022-06-23T16:33:06.712Z"
   },
   {
    "duration": 174,
    "start_time": "2022-06-23T16:33:12.974Z"
   },
   {
    "duration": 68,
    "start_time": "2022-06-23T16:34:51.837Z"
   },
   {
    "duration": 213,
    "start_time": "2022-06-23T16:36:06.119Z"
   },
   {
    "duration": 155,
    "start_time": "2022-06-23T16:36:06.440Z"
   },
   {
    "duration": 214,
    "start_time": "2022-06-23T16:36:24.791Z"
   },
   {
    "duration": 165,
    "start_time": "2022-06-23T16:36:25.825Z"
   },
   {
    "duration": 1322,
    "start_time": "2022-06-23T16:36:54.075Z"
   },
   {
    "duration": 208,
    "start_time": "2022-06-23T16:36:56.610Z"
   },
   {
    "duration": 177,
    "start_time": "2022-06-23T16:37:06.138Z"
   },
   {
    "duration": 211,
    "start_time": "2022-06-23T16:37:10.730Z"
   },
   {
    "duration": 38997,
    "start_time": "2022-06-23T16:49:19.077Z"
   },
   {
    "duration": 11,
    "start_time": "2022-06-23T16:50:49.338Z"
   },
   {
    "duration": 690,
    "start_time": "2022-06-23T16:51:58.702Z"
   },
   {
    "duration": 3,
    "start_time": "2022-06-23T16:51:59.394Z"
   },
   {
    "duration": 9,
    "start_time": "2022-06-23T16:51:59.399Z"
   },
   {
    "duration": 7508,
    "start_time": "2022-06-23T16:51:59.410Z"
   },
   {
    "duration": 290,
    "start_time": "2022-06-23T16:52:06.920Z"
   },
   {
    "duration": 44,
    "start_time": "2022-06-23T16:52:07.212Z"
   },
   {
    "duration": 68,
    "start_time": "2022-06-23T16:52:07.258Z"
   },
   {
    "duration": 55,
    "start_time": "2022-06-23T16:52:07.329Z"
   },
   {
    "duration": 5917,
    "start_time": "2022-06-23T16:52:07.386Z"
   },
   {
    "duration": 718,
    "start_time": "2022-06-23T16:52:13.307Z"
   },
   {
    "duration": 1302,
    "start_time": "2022-06-23T16:52:14.026Z"
   },
   {
    "duration": 144,
    "start_time": "2022-06-23T16:52:15.329Z"
   },
   {
    "duration": 200,
    "start_time": "2022-06-23T16:52:15.475Z"
   },
   {
    "duration": 190,
    "start_time": "2022-06-23T16:52:15.679Z"
   },
   {
    "duration": 228,
    "start_time": "2022-06-23T16:52:15.879Z"
   },
   {
    "duration": 140,
    "start_time": "2022-06-23T16:52:16.110Z"
   },
   {
    "duration": 221,
    "start_time": "2022-06-23T16:52:16.252Z"
   },
   {
    "duration": 142,
    "start_time": "2022-06-23T16:52:16.478Z"
   },
   {
    "duration": 187,
    "start_time": "2022-06-23T16:52:16.622Z"
   },
   {
    "duration": 224,
    "start_time": "2022-06-23T16:52:16.811Z"
   },
   {
    "duration": 211,
    "start_time": "2022-06-23T16:52:17.037Z"
   },
   {
    "duration": 187,
    "start_time": "2022-06-23T16:52:17.250Z"
   },
   {
    "duration": 40187,
    "start_time": "2022-06-23T16:52:17.439Z"
   },
   {
    "duration": 10,
    "start_time": "2022-06-23T16:52:57.628Z"
   },
   {
    "duration": 64,
    "start_time": "2022-06-23T16:52:57.639Z"
   },
   {
    "duration": 44,
    "start_time": "2022-06-23T16:52:57.704Z"
   },
   {
    "duration": 302,
    "start_time": "2022-06-23T16:58:40.524Z"
   },
   {
    "duration": 35560,
    "start_time": "2022-06-23T16:58:57.614Z"
   },
   {
    "duration": 50,
    "start_time": "2022-06-23T17:01:19.612Z"
   },
   {
    "duration": 12,
    "start_time": "2022-06-23T17:01:27.136Z"
   },
   {
    "duration": 31,
    "start_time": "2022-06-23T17:01:48.101Z"
   },
   {
    "duration": 21,
    "start_time": "2022-06-23T17:01:56.502Z"
   },
   {
    "duration": 15,
    "start_time": "2022-06-23T17:02:29.549Z"
   },
   {
    "duration": 47,
    "start_time": "2022-06-23T17:02:47.986Z"
   },
   {
    "duration": 14,
    "start_time": "2022-06-23T17:05:18.883Z"
   },
   {
    "duration": 29,
    "start_time": "2022-06-23T17:05:28.075Z"
   },
   {
    "duration": 16,
    "start_time": "2022-06-23T17:05:37.134Z"
   },
   {
    "duration": 725,
    "start_time": "2022-06-23T17:05:44.580Z"
   },
   {
    "duration": 3,
    "start_time": "2022-06-23T17:05:45.307Z"
   },
   {
    "duration": 8,
    "start_time": "2022-06-23T17:05:45.312Z"
   },
   {
    "duration": 6824,
    "start_time": "2022-06-23T17:05:45.321Z"
   },
   {
    "duration": 233,
    "start_time": "2022-06-23T17:05:52.146Z"
   },
   {
    "duration": 39,
    "start_time": "2022-06-23T17:05:52.380Z"
   },
   {
    "duration": 51,
    "start_time": "2022-06-23T17:05:52.421Z"
   },
   {
    "duration": 43,
    "start_time": "2022-06-23T17:05:52.474Z"
   },
   {
    "duration": 1580,
    "start_time": "2022-06-23T17:05:52.519Z"
   },
   {
    "duration": 661,
    "start_time": "2022-06-23T17:05:54.102Z"
   },
   {
    "duration": 1322,
    "start_time": "2022-06-23T17:05:54.765Z"
   },
   {
    "duration": 138,
    "start_time": "2022-06-23T17:05:56.089Z"
   },
   {
    "duration": 177,
    "start_time": "2022-06-23T17:05:56.228Z"
   },
   {
    "duration": 169,
    "start_time": "2022-06-23T17:05:56.407Z"
   },
   {
    "duration": 214,
    "start_time": "2022-06-23T17:05:56.578Z"
   },
   {
    "duration": 128,
    "start_time": "2022-06-23T17:05:56.793Z"
   },
   {
    "duration": 210,
    "start_time": "2022-06-23T17:05:56.922Z"
   },
   {
    "duration": 152,
    "start_time": "2022-06-23T17:05:57.135Z"
   },
   {
    "duration": 204,
    "start_time": "2022-06-23T17:05:57.289Z"
   },
   {
    "duration": 213,
    "start_time": "2022-06-23T17:05:57.495Z"
   },
   {
    "duration": 208,
    "start_time": "2022-06-23T17:05:57.710Z"
   },
   {
    "duration": 139,
    "start_time": "2022-06-23T17:05:57.921Z"
   },
   {
    "duration": 30262,
    "start_time": "2022-06-23T17:05:58.072Z"
   },
   {
    "duration": 11,
    "start_time": "2022-06-23T17:06:28.335Z"
   },
   {
    "duration": 54,
    "start_time": "2022-06-23T17:06:28.366Z"
   },
   {
    "duration": 62,
    "start_time": "2022-06-23T17:06:28.422Z"
   },
   {
    "duration": 27,
    "start_time": "2022-06-23T17:06:28.486Z"
   },
   {
    "duration": 122,
    "start_time": "2022-06-23T17:06:28.516Z"
   },
   {
    "duration": 31859,
    "start_time": "2022-06-23T17:18:39.024Z"
   },
   {
    "duration": 28,
    "start_time": "2022-06-23T17:19:14.746Z"
   },
   {
    "duration": 37976,
    "start_time": "2022-06-23T17:19:33.986Z"
   },
   {
    "duration": 11,
    "start_time": "2022-06-23T17:25:49.534Z"
   },
   {
    "duration": 818,
    "start_time": "2022-06-24T07:43:21.354Z"
   },
   {
    "duration": 3,
    "start_time": "2022-06-24T07:43:22.174Z"
   },
   {
    "duration": 8,
    "start_time": "2022-06-24T07:43:22.179Z"
   },
   {
    "duration": 5758,
    "start_time": "2022-06-24T07:43:22.189Z"
   },
   {
    "duration": 236,
    "start_time": "2022-06-24T07:43:27.948Z"
   },
   {
    "duration": 39,
    "start_time": "2022-06-24T07:43:28.186Z"
   },
   {
    "duration": 41,
    "start_time": "2022-06-24T07:43:28.227Z"
   },
   {
    "duration": 44,
    "start_time": "2022-06-24T07:43:28.270Z"
   },
   {
    "duration": 1711,
    "start_time": "2022-06-24T07:43:28.316Z"
   },
   {
    "duration": 630,
    "start_time": "2022-06-24T07:43:30.030Z"
   },
   {
    "duration": 1321,
    "start_time": "2022-06-24T07:43:30.661Z"
   },
   {
    "duration": 125,
    "start_time": "2022-06-24T07:43:31.984Z"
   },
   {
    "duration": 247,
    "start_time": "2022-06-24T07:43:32.111Z"
   },
   {
    "duration": 162,
    "start_time": "2022-06-24T07:43:32.360Z"
   },
   {
    "duration": 259,
    "start_time": "2022-06-24T07:43:32.524Z"
   },
   {
    "duration": 129,
    "start_time": "2022-06-24T07:43:32.784Z"
   },
   {
    "duration": 255,
    "start_time": "2022-06-24T07:43:32.915Z"
   },
   {
    "duration": 125,
    "start_time": "2022-06-24T07:43:33.172Z"
   },
   {
    "duration": 251,
    "start_time": "2022-06-24T07:43:33.298Z"
   },
   {
    "duration": 207,
    "start_time": "2022-06-24T07:43:33.551Z"
   },
   {
    "duration": 247,
    "start_time": "2022-06-24T07:43:33.761Z"
   },
   {
    "duration": 129,
    "start_time": "2022-06-24T07:43:34.010Z"
   },
   {
    "duration": 9195,
    "start_time": "2022-06-24T07:43:34.141Z"
   },
   {
    "duration": 11,
    "start_time": "2022-06-24T07:43:43.337Z"
   },
   {
    "duration": 100,
    "start_time": "2022-06-24T07:43:43.350Z"
   },
   {
    "duration": 65,
    "start_time": "2022-06-24T07:43:43.452Z"
   },
   {
    "duration": 40,
    "start_time": "2022-06-24T07:43:43.524Z"
   },
   {
    "duration": 104,
    "start_time": "2022-06-24T07:52:50.961Z"
   },
   {
    "duration": 97,
    "start_time": "2022-06-24T07:53:05.163Z"
   },
   {
    "duration": 5,
    "start_time": "2022-06-24T07:53:14.561Z"
   },
   {
    "duration": 75,
    "start_time": "2022-06-24T07:53:22.561Z"
   },
   {
    "duration": 662,
    "start_time": "2022-06-24T07:53:45.485Z"
   },
   {
    "duration": 3,
    "start_time": "2022-06-24T07:53:46.149Z"
   },
   {
    "duration": 6,
    "start_time": "2022-06-24T07:53:46.153Z"
   },
   {
    "duration": 5629,
    "start_time": "2022-06-24T07:53:46.160Z"
   },
   {
    "duration": 207,
    "start_time": "2022-06-24T07:53:51.791Z"
   },
   {
    "duration": 38,
    "start_time": "2022-06-24T07:53:51.999Z"
   },
   {
    "duration": 39,
    "start_time": "2022-06-24T07:53:52.038Z"
   },
   {
    "duration": 42,
    "start_time": "2022-06-24T07:53:52.079Z"
   },
   {
    "duration": 1663,
    "start_time": "2022-06-24T07:53:52.122Z"
   },
   {
    "duration": 654,
    "start_time": "2022-06-24T07:53:53.787Z"
   },
   {
    "duration": 1334,
    "start_time": "2022-06-24T07:53:54.442Z"
   },
   {
    "duration": 119,
    "start_time": "2022-06-24T07:53:55.778Z"
   },
   {
    "duration": 181,
    "start_time": "2022-06-24T07:53:55.898Z"
   },
   {
    "duration": 154,
    "start_time": "2022-06-24T07:53:56.082Z"
   },
   {
    "duration": 209,
    "start_time": "2022-06-24T07:53:56.238Z"
   },
   {
    "duration": 122,
    "start_time": "2022-06-24T07:53:56.449Z"
   },
   {
    "duration": 198,
    "start_time": "2022-06-24T07:53:56.573Z"
   },
   {
    "duration": 123,
    "start_time": "2022-06-24T07:53:56.772Z"
   },
   {
    "duration": 187,
    "start_time": "2022-06-24T07:53:56.896Z"
   },
   {
    "duration": 195,
    "start_time": "2022-06-24T07:53:57.085Z"
   },
   {
    "duration": 210,
    "start_time": "2022-06-24T07:53:57.281Z"
   },
   {
    "duration": 121,
    "start_time": "2022-06-24T07:53:57.492Z"
   },
   {
    "duration": 41850,
    "start_time": "2022-06-24T07:53:57.614Z"
   },
   {
    "duration": 11,
    "start_time": "2022-06-24T07:54:39.466Z"
   },
   {
    "duration": 80,
    "start_time": "2022-06-24T07:54:39.478Z"
   },
   {
    "duration": 66,
    "start_time": "2022-06-24T07:54:39.560Z"
   },
   {
    "duration": 26,
    "start_time": "2022-06-24T07:54:39.628Z"
   },
   {
    "duration": 112,
    "start_time": "2022-06-24T07:54:39.656Z"
   },
   {
    "duration": 5,
    "start_time": "2022-06-24T07:54:39.769Z"
   },
   {
    "duration": 75,
    "start_time": "2022-06-24T07:54:39.775Z"
   },
   {
    "duration": 119,
    "start_time": "2022-06-24T07:55:47.306Z"
   },
   {
    "duration": 61,
    "start_time": "2022-06-24T07:55:59.825Z"
   },
   {
    "duration": 101,
    "start_time": "2022-06-24T07:57:39.798Z"
   },
   {
    "duration": 5,
    "start_time": "2022-06-24T07:57:43.989Z"
   },
   {
    "duration": 70,
    "start_time": "2022-06-24T07:57:44.711Z"
   },
   {
    "duration": 735,
    "start_time": "2022-06-24T08:33:03.238Z"
   },
   {
    "duration": 3,
    "start_time": "2022-06-24T08:33:03.975Z"
   },
   {
    "duration": 12,
    "start_time": "2022-06-24T08:33:03.979Z"
   },
   {
    "duration": 5405,
    "start_time": "2022-06-24T08:33:03.992Z"
   },
   {
    "duration": 198,
    "start_time": "2022-06-24T08:33:09.399Z"
   },
   {
    "duration": 35,
    "start_time": "2022-06-24T08:33:09.599Z"
   },
   {
    "duration": 38,
    "start_time": "2022-06-24T08:33:09.636Z"
   },
   {
    "duration": 39,
    "start_time": "2022-06-24T08:33:09.675Z"
   },
   {
    "duration": 7701,
    "start_time": "2022-06-24T08:33:09.716Z"
   },
   {
    "duration": 642,
    "start_time": "2022-06-24T08:33:17.419Z"
   },
   {
    "duration": 9115,
    "start_time": "2022-06-24T08:33:18.062Z"
   },
   {
    "duration": 125,
    "start_time": "2022-06-24T08:33:27.179Z"
   },
   {
    "duration": 198,
    "start_time": "2022-06-24T08:33:27.306Z"
   },
   {
    "duration": 163,
    "start_time": "2022-06-24T08:33:27.506Z"
   },
   {
    "duration": 206,
    "start_time": "2022-06-24T08:33:27.670Z"
   },
   {
    "duration": 134,
    "start_time": "2022-06-24T08:33:27.878Z"
   },
   {
    "duration": 215,
    "start_time": "2022-06-24T08:33:28.013Z"
   },
   {
    "duration": 127,
    "start_time": "2022-06-24T08:33:28.229Z"
   },
   {
    "duration": 195,
    "start_time": "2022-06-24T08:33:28.357Z"
   },
   {
    "duration": 211,
    "start_time": "2022-06-24T08:33:28.554Z"
   },
   {
    "duration": 206,
    "start_time": "2022-06-24T08:33:28.766Z"
   },
   {
    "duration": 137,
    "start_time": "2022-06-24T08:33:28.974Z"
   },
   {
    "duration": 39313,
    "start_time": "2022-06-24T08:33:29.113Z"
   },
   {
    "duration": 11,
    "start_time": "2022-06-24T08:34:08.428Z"
   },
   {
    "duration": 72,
    "start_time": "2022-06-24T08:34:08.440Z"
   },
   {
    "duration": 63,
    "start_time": "2022-06-24T08:34:08.523Z"
   },
   {
    "duration": 43,
    "start_time": "2022-06-24T08:34:08.587Z"
   },
   {
    "duration": 106,
    "start_time": "2022-06-24T08:34:08.634Z"
   },
   {
    "duration": 5,
    "start_time": "2022-06-24T08:34:08.742Z"
   },
   {
    "duration": 75,
    "start_time": "2022-06-24T08:34:08.749Z"
   },
   {
    "duration": 123,
    "start_time": "2022-06-24T08:39:24.188Z"
   },
   {
    "duration": 102,
    "start_time": "2022-06-24T08:40:24.936Z"
   },
   {
    "duration": 4,
    "start_time": "2022-06-24T08:40:28.133Z"
   },
   {
    "duration": 63,
    "start_time": "2022-06-24T08:40:28.987Z"
   },
   {
    "duration": 64,
    "start_time": "2022-06-24T08:40:40.818Z"
   },
   {
    "duration": 768,
    "start_time": "2022-06-24T08:57:09.250Z"
   },
   {
    "duration": 3,
    "start_time": "2022-06-24T08:57:10.020Z"
   },
   {
    "duration": 14,
    "start_time": "2022-06-24T08:57:10.024Z"
   },
   {
    "duration": 5813,
    "start_time": "2022-06-24T08:57:10.040Z"
   },
   {
    "duration": 208,
    "start_time": "2022-06-24T08:57:15.856Z"
   },
   {
    "duration": 36,
    "start_time": "2022-06-24T08:57:16.066Z"
   },
   {
    "duration": 38,
    "start_time": "2022-06-24T08:57:16.103Z"
   },
   {
    "duration": 40,
    "start_time": "2022-06-24T08:57:16.143Z"
   },
   {
    "duration": 7438,
    "start_time": "2022-06-24T08:57:16.186Z"
   },
   {
    "duration": 639,
    "start_time": "2022-06-24T08:57:23.626Z"
   },
   {
    "duration": 1296,
    "start_time": "2022-06-24T08:57:24.267Z"
   },
   {
    "duration": 126,
    "start_time": "2022-06-24T08:57:25.565Z"
   },
   {
    "duration": 181,
    "start_time": "2022-06-24T08:57:25.693Z"
   },
   {
    "duration": 169,
    "start_time": "2022-06-24T08:57:25.877Z"
   },
   {
    "duration": 204,
    "start_time": "2022-06-24T08:57:26.047Z"
   },
   {
    "duration": 142,
    "start_time": "2022-06-24T08:57:26.253Z"
   },
   {
    "duration": 204,
    "start_time": "2022-06-24T08:57:26.397Z"
   },
   {
    "duration": 128,
    "start_time": "2022-06-24T08:57:26.603Z"
   },
   {
    "duration": 190,
    "start_time": "2022-06-24T08:57:26.734Z"
   },
   {
    "duration": 213,
    "start_time": "2022-06-24T08:57:26.926Z"
   },
   {
    "duration": 209,
    "start_time": "2022-06-24T08:57:27.141Z"
   },
   {
    "duration": 137,
    "start_time": "2022-06-24T08:57:27.352Z"
   },
   {
    "duration": 42547,
    "start_time": "2022-06-24T08:57:27.491Z"
   },
   {
    "duration": 11,
    "start_time": "2022-06-24T08:58:10.040Z"
   },
   {
    "duration": 79,
    "start_time": "2022-06-24T08:58:10.053Z"
   },
   {
    "duration": 62,
    "start_time": "2022-06-24T08:58:10.134Z"
   },
   {
    "duration": 53,
    "start_time": "2022-06-24T08:58:10.197Z"
   },
   {
    "duration": 27,
    "start_time": "2022-06-24T08:58:10.252Z"
   },
   {
    "duration": 111,
    "start_time": "2022-06-24T08:58:10.281Z"
   },
   {
    "duration": 5,
    "start_time": "2022-06-24T08:58:10.393Z"
   },
   {
    "duration": 70,
    "start_time": "2022-06-24T08:58:10.399Z"
   },
   {
    "duration": 61,
    "start_time": "2022-06-24T08:58:10.471Z"
   },
   {
    "duration": 100,
    "start_time": "2022-06-24T09:05:51.580Z"
   },
   {
    "duration": 265,
    "start_time": "2022-06-24T09:09:39.625Z"
   },
   {
    "duration": 1384,
    "start_time": "2022-06-24T09:09:43.858Z"
   },
   {
    "duration": 395,
    "start_time": "2022-06-24T09:09:53.106Z"
   },
   {
    "duration": 1386,
    "start_time": "2022-06-24T09:10:53.881Z"
   },
   {
    "duration": 3,
    "start_time": "2022-06-24T09:10:55.270Z"
   },
   {
    "duration": 9,
    "start_time": "2022-06-24T09:10:55.274Z"
   },
   {
    "duration": 6675,
    "start_time": "2022-06-24T09:10:55.284Z"
   },
   {
    "duration": 217,
    "start_time": "2022-06-24T09:11:01.961Z"
   },
   {
    "duration": 39,
    "start_time": "2022-06-24T09:11:02.180Z"
   },
   {
    "duration": 39,
    "start_time": "2022-06-24T09:11:02.220Z"
   },
   {
    "duration": 42,
    "start_time": "2022-06-24T09:11:02.261Z"
   },
   {
    "duration": 1635,
    "start_time": "2022-06-24T09:11:02.305Z"
   },
   {
    "duration": 210,
    "start_time": "2022-06-24T09:11:03.941Z"
   },
   {
    "duration": 1258,
    "start_time": "2022-06-24T09:11:04.153Z"
   },
   {
    "duration": 135,
    "start_time": "2022-06-24T09:11:05.412Z"
   },
   {
    "duration": 179,
    "start_time": "2022-06-24T09:11:05.549Z"
   },
   {
    "duration": 267,
    "start_time": "2022-06-24T09:11:05.731Z"
   },
   {
    "duration": 203,
    "start_time": "2022-06-24T09:11:06.000Z"
   },
   {
    "duration": 135,
    "start_time": "2022-06-24T09:11:06.204Z"
   },
   {
    "duration": 206,
    "start_time": "2022-06-24T09:11:06.341Z"
   },
   {
    "duration": 128,
    "start_time": "2022-06-24T09:11:06.549Z"
   },
   {
    "duration": 193,
    "start_time": "2022-06-24T09:11:06.679Z"
   },
   {
    "duration": 140,
    "start_time": "2022-06-24T09:11:06.874Z"
   },
   {
    "duration": 238,
    "start_time": "2022-06-24T09:11:07.016Z"
   },
   {
    "duration": 143,
    "start_time": "2022-06-24T09:11:07.255Z"
   },
   {
    "duration": 43407,
    "start_time": "2022-06-24T09:11:07.399Z"
   },
   {
    "duration": 17,
    "start_time": "2022-06-24T09:11:50.808Z"
   },
   {
    "duration": 59,
    "start_time": "2022-06-24T09:11:50.827Z"
   },
   {
    "duration": 54,
    "start_time": "2022-06-24T09:11:50.888Z"
   },
   {
    "duration": 25,
    "start_time": "2022-06-24T09:11:50.944Z"
   },
   {
    "duration": 24,
    "start_time": "2022-06-24T09:11:50.970Z"
   },
   {
    "duration": 111,
    "start_time": "2022-06-24T09:11:50.995Z"
   },
   {
    "duration": 16,
    "start_time": "2022-06-24T09:11:51.107Z"
   },
   {
    "duration": 49,
    "start_time": "2022-06-24T09:11:51.125Z"
   },
   {
    "duration": 68,
    "start_time": "2022-06-24T09:11:51.176Z"
   },
   {
    "duration": 248,
    "start_time": "2022-06-24T09:11:51.246Z"
   },
   {
    "duration": 70,
    "start_time": "2022-06-24T09:11:51.496Z"
   },
   {
    "duration": 29,
    "start_time": "2022-06-24T09:12:40.206Z"
   },
   {
    "duration": 6,
    "start_time": "2022-06-24T09:14:26.400Z"
   },
   {
    "duration": 3,
    "start_time": "2022-06-24T09:14:44.319Z"
   },
   {
    "duration": 45,
    "start_time": "2022-06-24T09:15:26.221Z"
   },
   {
    "duration": 3,
    "start_time": "2022-06-24T09:15:57.327Z"
   },
   {
    "duration": 4,
    "start_time": "2022-06-24T09:16:21.709Z"
   },
   {
    "duration": 5,
    "start_time": "2022-06-24T09:16:32.361Z"
   },
   {
    "duration": 51,
    "start_time": "2022-06-24T09:20:32.292Z"
   },
   {
    "duration": 39,
    "start_time": "2022-06-24T09:20:43.998Z"
   },
   {
    "duration": 52,
    "start_time": "2022-06-24T09:21:49.975Z"
   },
   {
    "duration": 31,
    "start_time": "2022-06-24T09:22:05.998Z"
   },
   {
    "duration": 1305,
    "start_time": "2022-06-24T09:25:34.652Z"
   },
   {
    "duration": 3,
    "start_time": "2022-06-24T09:25:35.960Z"
   },
   {
    "duration": 8,
    "start_time": "2022-06-24T09:25:35.965Z"
   },
   {
    "duration": 6109,
    "start_time": "2022-06-24T09:25:35.975Z"
   },
   {
    "duration": 215,
    "start_time": "2022-06-24T09:25:42.086Z"
   },
   {
    "duration": 38,
    "start_time": "2022-06-24T09:25:42.303Z"
   },
   {
    "duration": 40,
    "start_time": "2022-06-24T09:25:42.342Z"
   },
   {
    "duration": 43,
    "start_time": "2022-06-24T09:25:42.384Z"
   },
   {
    "duration": 4877,
    "start_time": "2022-06-24T09:25:42.429Z"
   },
   {
    "duration": 205,
    "start_time": "2022-06-24T09:25:47.308Z"
   },
   {
    "duration": 1339,
    "start_time": "2022-06-24T09:25:47.514Z"
   },
   {
    "duration": 223,
    "start_time": "2022-06-24T09:25:48.855Z"
   },
   {
    "duration": 186,
    "start_time": "2022-06-24T09:25:49.080Z"
   },
   {
    "duration": 165,
    "start_time": "2022-06-24T09:25:49.267Z"
   },
   {
    "duration": 221,
    "start_time": "2022-06-24T09:25:49.434Z"
   },
   {
    "duration": 126,
    "start_time": "2022-06-24T09:25:49.657Z"
   },
   {
    "duration": 210,
    "start_time": "2022-06-24T09:25:49.785Z"
   },
   {
    "duration": 136,
    "start_time": "2022-06-24T09:25:49.997Z"
   },
   {
    "duration": 192,
    "start_time": "2022-06-24T09:25:50.135Z"
   },
   {
    "duration": 151,
    "start_time": "2022-06-24T09:25:50.329Z"
   },
   {
    "duration": 218,
    "start_time": "2022-06-24T09:25:50.482Z"
   },
   {
    "duration": 141,
    "start_time": "2022-06-24T09:25:50.702Z"
   },
   {
    "duration": 37847,
    "start_time": "2022-06-24T09:25:50.845Z"
   },
   {
    "duration": 11,
    "start_time": "2022-06-24T09:26:28.694Z"
   },
   {
    "duration": 60,
    "start_time": "2022-06-24T09:26:28.706Z"
   },
   {
    "duration": 45,
    "start_time": "2022-06-24T09:26:28.767Z"
   },
   {
    "duration": 23,
    "start_time": "2022-06-24T09:26:28.824Z"
   },
   {
    "duration": 22,
    "start_time": "2022-06-24T09:26:28.850Z"
   },
   {
    "duration": 94,
    "start_time": "2022-06-24T09:26:28.874Z"
   },
   {
    "duration": 5,
    "start_time": "2022-06-24T09:26:28.969Z"
   },
   {
    "duration": 60,
    "start_time": "2022-06-24T09:26:28.976Z"
   },
   {
    "duration": 45,
    "start_time": "2022-06-24T09:26:29.037Z"
   },
   {
    "duration": 256,
    "start_time": "2022-06-24T09:26:29.084Z"
   },
   {
    "duration": 22,
    "start_time": "2022-06-24T09:26:29.342Z"
   },
   {
    "duration": 7,
    "start_time": "2022-06-24T09:26:29.366Z"
   },
   {
    "duration": 112,
    "start_time": "2022-06-24T09:26:29.374Z"
   },
   {
    "duration": 0,
    "start_time": "2022-06-24T09:26:29.488Z"
   },
   {
    "duration": 3,
    "start_time": "2022-06-24T09:27:45.898Z"
   },
   {
    "duration": 12,
    "start_time": "2022-06-24T09:27:58.081Z"
   },
   {
    "duration": 4,
    "start_time": "2022-06-24T09:28:04.744Z"
   },
   {
    "duration": 13,
    "start_time": "2022-06-24T09:28:09.102Z"
   },
   {
    "duration": 44,
    "start_time": "2022-06-24T09:28:20.051Z"
   },
   {
    "duration": 10,
    "start_time": "2022-06-24T09:28:21.292Z"
   },
   {
    "duration": 3,
    "start_time": "2022-06-24T09:28:29.178Z"
   },
   {
    "duration": 1525,
    "start_time": "2022-06-24T09:29:01.435Z"
   },
   {
    "duration": 4,
    "start_time": "2022-06-24T09:29:02.962Z"
   },
   {
    "duration": 9,
    "start_time": "2022-06-24T09:29:02.967Z"
   },
   {
    "duration": 5886,
    "start_time": "2022-06-24T09:29:02.978Z"
   },
   {
    "duration": 243,
    "start_time": "2022-06-24T09:29:08.867Z"
   },
   {
    "duration": 39,
    "start_time": "2022-06-24T09:29:09.112Z"
   },
   {
    "duration": 40,
    "start_time": "2022-06-24T09:29:09.153Z"
   },
   {
    "duration": 49,
    "start_time": "2022-06-24T09:29:09.195Z"
   },
   {
    "duration": 6154,
    "start_time": "2022-06-24T09:29:09.247Z"
   },
   {
    "duration": 219,
    "start_time": "2022-06-24T09:29:15.405Z"
   },
   {
    "duration": 1280,
    "start_time": "2022-06-24T09:29:15.626Z"
   },
   {
    "duration": 248,
    "start_time": "2022-06-24T09:29:16.908Z"
   },
   {
    "duration": 203,
    "start_time": "2022-06-24T09:29:17.158Z"
   },
   {
    "duration": 182,
    "start_time": "2022-06-24T09:29:17.364Z"
   },
   {
    "duration": 217,
    "start_time": "2022-06-24T09:29:17.548Z"
   },
   {
    "duration": 131,
    "start_time": "2022-06-24T09:29:17.767Z"
   },
   {
    "duration": 205,
    "start_time": "2022-06-24T09:29:17.900Z"
   },
   {
    "duration": 150,
    "start_time": "2022-06-24T09:29:18.106Z"
   },
   {
    "duration": 200,
    "start_time": "2022-06-24T09:29:18.258Z"
   },
   {
    "duration": 144,
    "start_time": "2022-06-24T09:29:18.460Z"
   },
   {
    "duration": 245,
    "start_time": "2022-06-24T09:29:18.606Z"
   },
   {
    "duration": 149,
    "start_time": "2022-06-24T09:29:18.853Z"
   },
   {
    "duration": 44054,
    "start_time": "2022-06-24T09:29:19.003Z"
   },
   {
    "duration": 13,
    "start_time": "2022-06-24T09:30:03.059Z"
   },
   {
    "duration": 66,
    "start_time": "2022-06-24T09:30:03.073Z"
   },
   {
    "duration": 51,
    "start_time": "2022-06-24T09:30:03.141Z"
   },
   {
    "duration": 43,
    "start_time": "2022-06-24T09:30:03.194Z"
   },
   {
    "duration": 32,
    "start_time": "2022-06-24T09:30:03.240Z"
   },
   {
    "duration": 102,
    "start_time": "2022-06-24T09:30:03.275Z"
   },
   {
    "duration": 5,
    "start_time": "2022-06-24T09:30:03.379Z"
   },
   {
    "duration": 76,
    "start_time": "2022-06-24T09:30:03.386Z"
   },
   {
    "duration": 52,
    "start_time": "2022-06-24T09:30:03.464Z"
   },
   {
    "duration": 244,
    "start_time": "2022-06-24T09:30:03.523Z"
   },
   {
    "duration": 26,
    "start_time": "2022-06-24T09:30:03.769Z"
   },
   {
    "duration": 6,
    "start_time": "2022-06-24T09:30:03.796Z"
   },
   {
    "duration": 20,
    "start_time": "2022-06-24T09:30:03.804Z"
   },
   {
    "duration": 14,
    "start_time": "2022-06-24T09:30:03.825Z"
   },
   {
    "duration": 9,
    "start_time": "2022-06-24T09:30:03.841Z"
   },
   {
    "duration": 53,
    "start_time": "2022-06-24T09:30:03.853Z"
   },
   {
    "duration": 16,
    "start_time": "2022-06-24T09:30:03.908Z"
   },
   {
    "duration": 13,
    "start_time": "2022-06-24T09:30:20.039Z"
   },
   {
    "duration": 5,
    "start_time": "2022-06-24T09:31:08.795Z"
   },
   {
    "duration": 18,
    "start_time": "2022-06-24T09:38:54.095Z"
   },
   {
    "duration": 3,
    "start_time": "2022-06-24T09:38:55.198Z"
   },
   {
    "duration": 3,
    "start_time": "2022-06-24T09:39:38.065Z"
   },
   {
    "duration": 4,
    "start_time": "2022-06-24T09:39:59.702Z"
   },
   {
    "duration": 1480,
    "start_time": "2022-06-24T09:40:11.100Z"
   },
   {
    "duration": 4,
    "start_time": "2022-06-24T09:40:12.582Z"
   },
   {
    "duration": 15,
    "start_time": "2022-06-24T09:40:12.587Z"
   },
   {
    "duration": 6524,
    "start_time": "2022-06-24T09:40:12.604Z"
   },
   {
    "duration": 354,
    "start_time": "2022-06-24T09:40:19.130Z"
   },
   {
    "duration": 0,
    "start_time": "2022-06-24T09:40:19.486Z"
   },
   {
    "duration": 0,
    "start_time": "2022-06-24T09:40:19.487Z"
   },
   {
    "duration": 0,
    "start_time": "2022-06-24T09:40:19.488Z"
   },
   {
    "duration": 0,
    "start_time": "2022-06-24T09:40:19.489Z"
   },
   {
    "duration": 0,
    "start_time": "2022-06-24T09:40:19.490Z"
   },
   {
    "duration": 0,
    "start_time": "2022-06-24T09:40:19.491Z"
   },
   {
    "duration": 0,
    "start_time": "2022-06-24T09:40:19.492Z"
   },
   {
    "duration": 0,
    "start_time": "2022-06-24T09:40:19.492Z"
   },
   {
    "duration": 0,
    "start_time": "2022-06-24T09:40:19.494Z"
   },
   {
    "duration": 0,
    "start_time": "2022-06-24T09:40:19.495Z"
   },
   {
    "duration": 0,
    "start_time": "2022-06-24T09:40:19.495Z"
   },
   {
    "duration": 0,
    "start_time": "2022-06-24T09:40:19.496Z"
   },
   {
    "duration": 0,
    "start_time": "2022-06-24T09:40:19.497Z"
   },
   {
    "duration": 0,
    "start_time": "2022-06-24T09:40:19.498Z"
   },
   {
    "duration": 0,
    "start_time": "2022-06-24T09:40:19.499Z"
   },
   {
    "duration": 0,
    "start_time": "2022-06-24T09:40:19.500Z"
   },
   {
    "duration": 0,
    "start_time": "2022-06-24T09:40:19.501Z"
   },
   {
    "duration": 0,
    "start_time": "2022-06-24T09:40:19.502Z"
   },
   {
    "duration": 0,
    "start_time": "2022-06-24T09:40:19.503Z"
   },
   {
    "duration": 0,
    "start_time": "2022-06-24T09:40:19.504Z"
   },
   {
    "duration": 0,
    "start_time": "2022-06-24T09:40:19.506Z"
   },
   {
    "duration": 0,
    "start_time": "2022-06-24T09:40:19.507Z"
   },
   {
    "duration": 0,
    "start_time": "2022-06-24T09:40:19.508Z"
   },
   {
    "duration": 0,
    "start_time": "2022-06-24T09:40:19.510Z"
   },
   {
    "duration": 0,
    "start_time": "2022-06-24T09:40:19.511Z"
   },
   {
    "duration": 0,
    "start_time": "2022-06-24T09:40:19.512Z"
   },
   {
    "duration": 0,
    "start_time": "2022-06-24T09:40:19.514Z"
   },
   {
    "duration": 0,
    "start_time": "2022-06-24T09:40:19.515Z"
   },
   {
    "duration": 0,
    "start_time": "2022-06-24T09:40:19.516Z"
   },
   {
    "duration": 0,
    "start_time": "2022-06-24T09:40:19.522Z"
   },
   {
    "duration": 0,
    "start_time": "2022-06-24T09:40:19.524Z"
   },
   {
    "duration": 0,
    "start_time": "2022-06-24T09:40:19.525Z"
   },
   {
    "duration": 0,
    "start_time": "2022-06-24T09:40:19.526Z"
   },
   {
    "duration": 0,
    "start_time": "2022-06-24T09:40:19.527Z"
   },
   {
    "duration": 1459,
    "start_time": "2022-06-24T09:40:34.422Z"
   },
   {
    "duration": 2,
    "start_time": "2022-06-24T09:40:35.884Z"
   },
   {
    "duration": 7,
    "start_time": "2022-06-24T09:40:35.888Z"
   },
   {
    "duration": 6814,
    "start_time": "2022-06-24T09:40:35.897Z"
   },
   {
    "duration": 253,
    "start_time": "2022-06-24T09:40:42.714Z"
   },
   {
    "duration": 40,
    "start_time": "2022-06-24T09:40:42.969Z"
   },
   {
    "duration": 44,
    "start_time": "2022-06-24T09:40:43.010Z"
   },
   {
    "duration": 44,
    "start_time": "2022-06-24T09:40:43.056Z"
   },
   {
    "duration": 3044,
    "start_time": "2022-06-24T09:40:43.101Z"
   },
   {
    "duration": 247,
    "start_time": "2022-06-24T09:40:46.148Z"
   },
   {
    "duration": 1290,
    "start_time": "2022-06-24T09:40:46.396Z"
   },
   {
    "duration": 140,
    "start_time": "2022-06-24T09:40:47.688Z"
   },
   {
    "duration": 214,
    "start_time": "2022-06-24T09:40:47.831Z"
   },
   {
    "duration": 272,
    "start_time": "2022-06-24T09:40:48.048Z"
   },
   {
    "duration": 231,
    "start_time": "2022-06-24T09:40:48.323Z"
   },
   {
    "duration": 144,
    "start_time": "2022-06-24T09:40:48.556Z"
   },
   {
    "duration": 201,
    "start_time": "2022-06-24T09:40:48.702Z"
   },
   {
    "duration": 155,
    "start_time": "2022-06-24T09:40:48.906Z"
   },
   {
    "duration": 209,
    "start_time": "2022-06-24T09:40:49.063Z"
   },
   {
    "duration": 147,
    "start_time": "2022-06-24T09:40:49.274Z"
   },
   {
    "duration": 228,
    "start_time": "2022-06-24T09:40:49.423Z"
   },
   {
    "duration": 139,
    "start_time": "2022-06-24T09:40:49.653Z"
   },
   {
    "duration": 26976,
    "start_time": "2022-06-24T09:40:49.793Z"
   },
   {
    "duration": 11,
    "start_time": "2022-06-24T09:41:16.771Z"
   },
   {
    "duration": 67,
    "start_time": "2022-06-24T09:41:16.783Z"
   },
   {
    "duration": 51,
    "start_time": "2022-06-24T09:41:16.852Z"
   },
   {
    "duration": 48,
    "start_time": "2022-06-24T09:41:16.905Z"
   },
   {
    "duration": 30,
    "start_time": "2022-06-24T09:41:16.954Z"
   },
   {
    "duration": 112,
    "start_time": "2022-06-24T09:41:16.986Z"
   },
   {
    "duration": 5,
    "start_time": "2022-06-24T09:41:17.100Z"
   },
   {
    "duration": 65,
    "start_time": "2022-06-24T09:41:17.106Z"
   },
   {
    "duration": 63,
    "start_time": "2022-06-24T09:41:17.173Z"
   },
   {
    "duration": 261,
    "start_time": "2022-06-24T09:41:17.238Z"
   },
   {
    "duration": 31,
    "start_time": "2022-06-24T09:41:17.501Z"
   },
   {
    "duration": 20,
    "start_time": "2022-06-24T09:41:17.537Z"
   },
   {
    "duration": 11,
    "start_time": "2022-06-24T09:41:17.558Z"
   },
   {
    "duration": 5,
    "start_time": "2022-06-24T09:41:17.571Z"
   },
   {
    "duration": 49,
    "start_time": "2022-06-24T09:41:17.578Z"
   },
   {
    "duration": 6,
    "start_time": "2022-06-24T09:41:17.629Z"
   },
   {
    "duration": 120,
    "start_time": "2022-06-24T09:41:46.336Z"
   },
   {
    "duration": 55,
    "start_time": "2022-06-24T09:43:50.006Z"
   },
   {
    "duration": 3,
    "start_time": "2022-06-24T09:44:00.199Z"
   },
   {
    "duration": 34,
    "start_time": "2022-06-24T09:44:08.870Z"
   },
   {
    "duration": 4,
    "start_time": "2022-06-24T09:44:09.404Z"
   },
   {
    "duration": 1428,
    "start_time": "2022-06-24T09:44:40.845Z"
   },
   {
    "duration": 3,
    "start_time": "2022-06-24T09:44:42.275Z"
   },
   {
    "duration": 8,
    "start_time": "2022-06-24T09:44:42.279Z"
   },
   {
    "duration": 8879,
    "start_time": "2022-06-24T09:44:42.289Z"
   },
   {
    "duration": 223,
    "start_time": "2022-06-24T09:44:51.170Z"
   },
   {
    "duration": 48,
    "start_time": "2022-06-24T09:44:51.394Z"
   },
   {
    "duration": 38,
    "start_time": "2022-06-24T09:44:51.444Z"
   },
   {
    "duration": 40,
    "start_time": "2022-06-24T09:44:51.484Z"
   },
   {
    "duration": 4452,
    "start_time": "2022-06-24T09:44:51.526Z"
   },
   {
    "duration": 213,
    "start_time": "2022-06-24T09:44:55.981Z"
   },
   {
    "duration": 1288,
    "start_time": "2022-06-24T09:44:56.195Z"
   },
   {
    "duration": 213,
    "start_time": "2022-06-24T09:44:57.485Z"
   },
   {
    "duration": 182,
    "start_time": "2022-06-24T09:44:57.700Z"
   },
   {
    "duration": 176,
    "start_time": "2022-06-24T09:44:57.884Z"
   },
   {
    "duration": 215,
    "start_time": "2022-06-24T09:44:58.062Z"
   },
   {
    "duration": 131,
    "start_time": "2022-06-24T09:44:58.278Z"
   },
   {
    "duration": 199,
    "start_time": "2022-06-24T09:44:58.410Z"
   },
   {
    "duration": 145,
    "start_time": "2022-06-24T09:44:58.611Z"
   },
   {
    "duration": 196,
    "start_time": "2022-06-24T09:44:58.757Z"
   },
   {
    "duration": 148,
    "start_time": "2022-06-24T09:44:58.955Z"
   },
   {
    "duration": 210,
    "start_time": "2022-06-24T09:44:59.105Z"
   },
   {
    "duration": 132,
    "start_time": "2022-06-24T09:44:59.316Z"
   },
   {
    "duration": 51849,
    "start_time": "2022-06-24T09:44:59.450Z"
   },
   {
    "duration": 12,
    "start_time": "2022-06-24T09:45:51.300Z"
   },
   {
    "duration": 61,
    "start_time": "2022-06-24T09:45:51.314Z"
   },
   {
    "duration": 72,
    "start_time": "2022-06-24T09:45:51.377Z"
   },
   {
    "duration": 25,
    "start_time": "2022-06-24T09:45:51.450Z"
   },
   {
    "duration": 22,
    "start_time": "2022-06-24T09:45:51.479Z"
   },
   {
    "duration": 100,
    "start_time": "2022-06-24T09:45:51.523Z"
   },
   {
    "duration": 9,
    "start_time": "2022-06-24T09:45:51.625Z"
   },
   {
    "duration": 52,
    "start_time": "2022-06-24T09:45:51.637Z"
   },
   {
    "duration": 65,
    "start_time": "2022-06-24T09:45:51.691Z"
   },
   {
    "duration": 261,
    "start_time": "2022-06-24T09:45:51.758Z"
   },
   {
    "duration": 28,
    "start_time": "2022-06-24T09:45:52.021Z"
   },
   {
    "duration": 8,
    "start_time": "2022-06-24T09:45:52.051Z"
   },
   {
    "duration": 6,
    "start_time": "2022-06-24T09:45:52.061Z"
   },
   {
    "duration": 6,
    "start_time": "2022-06-24T09:45:52.069Z"
   },
   {
    "duration": 134,
    "start_time": "2022-06-24T09:45:52.076Z"
   },
   {
    "duration": 0,
    "start_time": "2022-06-24T09:45:52.211Z"
   },
   {
    "duration": 42,
    "start_time": "2022-06-24T09:46:15.401Z"
   },
   {
    "duration": 4,
    "start_time": "2022-06-24T09:46:19.036Z"
   },
   {
    "duration": 33,
    "start_time": "2022-06-24T09:46:34.340Z"
   },
   {
    "duration": 72,
    "start_time": "2022-06-24T09:49:56.851Z"
   },
   {
    "duration": 10,
    "start_time": "2022-06-24T09:51:33.290Z"
   },
   {
    "duration": 47,
    "start_time": "2022-06-24T09:52:10.399Z"
   },
   {
    "duration": 16,
    "start_time": "2022-06-24T09:52:14.995Z"
   },
   {
    "duration": 19,
    "start_time": "2022-06-24T09:52:23.894Z"
   },
   {
    "duration": 16,
    "start_time": "2022-06-24T09:53:02.995Z"
   },
   {
    "duration": 13,
    "start_time": "2022-06-24T09:53:26.086Z"
   },
   {
    "duration": 41,
    "start_time": "2022-06-24T09:53:42.909Z"
   },
   {
    "duration": 4,
    "start_time": "2022-06-24T09:53:43.561Z"
   },
   {
    "duration": 24,
    "start_time": "2022-06-24T09:53:44.531Z"
   },
   {
    "duration": 13,
    "start_time": "2022-06-24T09:53:45.915Z"
   },
   {
    "duration": 45,
    "start_time": "2022-06-24T09:53:49.298Z"
   },
   {
    "duration": 25594,
    "start_time": "2022-06-24T09:53:53.333Z"
   },
   {
    "duration": 3,
    "start_time": "2022-06-24T09:54:35.948Z"
   },
   {
    "duration": 45,
    "start_time": "2022-06-24T09:54:50.533Z"
   },
   {
    "duration": 13,
    "start_time": "2022-06-24T09:55:12.524Z"
   },
   {
    "duration": 432363,
    "start_time": "2022-06-24T09:55:18.893Z"
   },
   {
    "duration": 3,
    "start_time": "2022-06-24T10:02:31.258Z"
   },
   {
    "duration": 70,
    "start_time": "2022-06-24T10:04:38.024Z"
   },
   {
    "duration": 21,
    "start_time": "2022-06-24T10:04:50.144Z"
   },
   {
    "duration": 1308,
    "start_time": "2022-06-24T10:05:10.495Z"
   },
   {
    "duration": 15,
    "start_time": "2022-06-24T10:05:29.640Z"
   },
   {
    "duration": 17,
    "start_time": "2022-06-24T10:05:42.237Z"
   },
   {
    "duration": 14,
    "start_time": "2022-06-24T10:12:13.307Z"
   },
   {
    "duration": 29,
    "start_time": "2022-06-24T10:12:21.680Z"
   },
   {
    "duration": 26,
    "start_time": "2022-06-24T10:12:29.944Z"
   },
   {
    "duration": 20,
    "start_time": "2022-06-24T10:12:46.305Z"
   },
   {
    "duration": 172,
    "start_time": "2022-06-24T10:13:27.206Z"
   },
   {
    "duration": 27,
    "start_time": "2022-06-24T10:13:30.104Z"
   },
   {
    "duration": 8,
    "start_time": "2022-06-24T10:14:36.828Z"
   },
   {
    "duration": 37,
    "start_time": "2022-06-24T10:15:16.185Z"
   },
   {
    "duration": 23,
    "start_time": "2022-06-24T10:15:17.445Z"
   },
   {
    "duration": 14,
    "start_time": "2022-06-24T10:15:20.324Z"
   },
   {
    "duration": 38,
    "start_time": "2022-06-24T10:15:25.827Z"
   },
   {
    "duration": 26165,
    "start_time": "2022-06-24T10:15:27.412Z"
   },
   {
    "duration": 4,
    "start_time": "2022-06-24T10:15:53.579Z"
   },
   {
    "duration": 61,
    "start_time": "2022-06-24T10:15:53.585Z"
   },
   {
    "duration": 1448,
    "start_time": "2022-06-24T10:22:19.163Z"
   },
   {
    "duration": 3,
    "start_time": "2022-06-24T10:22:20.613Z"
   },
   {
    "duration": 18,
    "start_time": "2022-06-24T10:22:20.617Z"
   },
   {
    "duration": 6764,
    "start_time": "2022-06-24T10:22:20.637Z"
   },
   {
    "duration": 202,
    "start_time": "2022-06-24T10:22:27.403Z"
   },
   {
    "duration": 37,
    "start_time": "2022-06-24T10:22:27.607Z"
   },
   {
    "duration": 37,
    "start_time": "2022-06-24T10:22:27.646Z"
   },
   {
    "duration": 42,
    "start_time": "2022-06-24T10:22:27.684Z"
   },
   {
    "duration": 4007,
    "start_time": "2022-06-24T10:22:27.727Z"
   },
   {
    "duration": 291,
    "start_time": "2022-06-24T10:22:31.737Z"
   },
   {
    "duration": 1280,
    "start_time": "2022-06-24T10:22:32.030Z"
   },
   {
    "duration": 128,
    "start_time": "2022-06-24T10:22:33.311Z"
   },
   {
    "duration": 177,
    "start_time": "2022-06-24T10:22:33.441Z"
   },
   {
    "duration": 169,
    "start_time": "2022-06-24T10:22:33.619Z"
   },
   {
    "duration": 210,
    "start_time": "2022-06-24T10:22:33.790Z"
   },
   {
    "duration": 128,
    "start_time": "2022-06-24T10:22:34.002Z"
   },
   {
    "duration": 207,
    "start_time": "2022-06-24T10:22:34.132Z"
   },
   {
    "duration": 135,
    "start_time": "2022-06-24T10:22:34.341Z"
   },
   {
    "duration": 191,
    "start_time": "2022-06-24T10:22:34.477Z"
   },
   {
    "duration": 144,
    "start_time": "2022-06-24T10:22:34.669Z"
   },
   {
    "duration": 238,
    "start_time": "2022-06-24T10:22:34.815Z"
   },
   {
    "duration": 138,
    "start_time": "2022-06-24T10:22:35.055Z"
   },
   {
    "duration": 40283,
    "start_time": "2022-06-24T10:22:35.194Z"
   },
   {
    "duration": 12,
    "start_time": "2022-06-24T10:23:15.478Z"
   },
   {
    "duration": 66,
    "start_time": "2022-06-24T10:23:15.492Z"
   },
   {
    "duration": 72,
    "start_time": "2022-06-24T10:23:15.560Z"
   },
   {
    "duration": 26,
    "start_time": "2022-06-24T10:23:15.634Z"
   },
   {
    "duration": 26,
    "start_time": "2022-06-24T10:23:15.664Z"
   },
   {
    "duration": 99,
    "start_time": "2022-06-24T10:23:15.692Z"
   },
   {
    "duration": 5,
    "start_time": "2022-06-24T10:23:15.793Z"
   },
   {
    "duration": 64,
    "start_time": "2022-06-24T10:23:15.799Z"
   },
   {
    "duration": 60,
    "start_time": "2022-06-24T10:23:15.864Z"
   },
   {
    "duration": 20,
    "start_time": "2022-06-24T10:23:15.926Z"
   },
   {
    "duration": 224,
    "start_time": "2022-06-24T10:23:15.948Z"
   },
   {
    "duration": 23,
    "start_time": "2022-06-24T10:23:16.173Z"
   },
   {
    "duration": 10,
    "start_time": "2022-06-24T10:23:16.198Z"
   },
   {
    "duration": 43,
    "start_time": "2022-06-24T10:23:16.224Z"
   },
   {
    "duration": 23,
    "start_time": "2022-06-24T10:23:16.269Z"
   },
   {
    "duration": 34,
    "start_time": "2022-06-24T10:23:16.294Z"
   },
   {
    "duration": 49,
    "start_time": "2022-06-24T10:23:16.329Z"
   },
   {
    "duration": 25077,
    "start_time": "2022-06-24T10:23:16.380Z"
   },
   {
    "duration": 3,
    "start_time": "2022-06-24T10:23:41.460Z"
   },
   {
    "duration": 52,
    "start_time": "2022-06-24T10:23:41.464Z"
   },
   {
    "duration": 425943,
    "start_time": "2022-06-24T10:23:41.523Z"
   },
   {
    "duration": 4,
    "start_time": "2022-06-24T10:30:47.468Z"
   },
   {
    "duration": 109,
    "start_time": "2022-06-24T10:30:47.474Z"
   },
   {
    "duration": 22,
    "start_time": "2022-06-24T10:30:47.585Z"
   },
   {
    "duration": 2025,
    "start_time": "2022-06-24T10:30:47.608Z"
   },
   {
    "duration": 34,
    "start_time": "2022-06-24T10:30:49.635Z"
   },
   {
    "duration": 143,
    "start_time": "2022-06-24T10:30:49.671Z"
   },
   {
    "duration": 279,
    "start_time": "2022-06-24T10:33:35.738Z"
   },
   {
    "duration": 176,
    "start_time": "2022-06-24T10:33:53.708Z"
   },
   {
    "duration": 52,
    "start_time": "2022-06-24T10:37:37.077Z"
   },
   {
    "duration": 1514,
    "start_time": "2022-06-24T10:37:44.547Z"
   },
   {
    "duration": 3,
    "start_time": "2022-06-24T10:37:46.063Z"
   },
   {
    "duration": 6,
    "start_time": "2022-06-24T10:37:46.068Z"
   },
   {
    "duration": 5711,
    "start_time": "2022-06-24T10:37:46.075Z"
   },
   {
    "duration": 194,
    "start_time": "2022-06-24T10:37:51.788Z"
   },
   {
    "duration": 36,
    "start_time": "2022-06-24T10:37:51.984Z"
   },
   {
    "duration": 39,
    "start_time": "2022-06-24T10:37:52.022Z"
   },
   {
    "duration": 40,
    "start_time": "2022-06-24T10:37:52.063Z"
   },
   {
    "duration": 10699,
    "start_time": "2022-06-24T10:37:52.105Z"
   },
   {
    "duration": 267,
    "start_time": "2022-06-24T10:38:02.806Z"
   },
   {
    "duration": 3660,
    "start_time": "2022-06-24T10:38:03.074Z"
   },
   {
    "duration": 142,
    "start_time": "2022-06-24T10:38:06.736Z"
   },
   {
    "duration": 503,
    "start_time": "2022-06-24T10:38:06.880Z"
   },
   {
    "duration": 204,
    "start_time": "2022-06-24T10:38:07.386Z"
   },
   {
    "duration": 224,
    "start_time": "2022-06-24T10:38:07.592Z"
   },
   {
    "duration": 145,
    "start_time": "2022-06-24T10:38:07.818Z"
   },
   {
    "duration": 200,
    "start_time": "2022-06-24T10:38:07.966Z"
   },
   {
    "duration": 123,
    "start_time": "2022-06-24T10:38:08.167Z"
   },
   {
    "duration": 191,
    "start_time": "2022-06-24T10:38:08.292Z"
   },
   {
    "duration": 132,
    "start_time": "2022-06-24T10:38:08.485Z"
   },
   {
    "duration": 207,
    "start_time": "2022-06-24T10:38:08.619Z"
   },
   {
    "duration": 141,
    "start_time": "2022-06-24T10:38:08.828Z"
   },
   {
    "duration": 27872,
    "start_time": "2022-06-24T10:38:08.970Z"
   },
   {
    "duration": 11,
    "start_time": "2022-06-24T10:38:36.843Z"
   },
   {
    "duration": 59,
    "start_time": "2022-06-24T10:38:36.855Z"
   },
   {
    "duration": 42,
    "start_time": "2022-06-24T10:38:36.915Z"
   },
   {
    "duration": 22,
    "start_time": "2022-06-24T10:38:36.959Z"
   },
   {
    "duration": 22,
    "start_time": "2022-06-24T10:38:36.983Z"
   },
   {
    "duration": 85,
    "start_time": "2022-06-24T10:38:37.006Z"
   },
   {
    "duration": 4,
    "start_time": "2022-06-24T10:38:37.093Z"
   },
   {
    "duration": 48,
    "start_time": "2022-06-24T10:38:37.099Z"
   },
   {
    "duration": 39,
    "start_time": "2022-06-24T10:38:37.149Z"
   },
   {
    "duration": 34,
    "start_time": "2022-06-24T10:38:37.190Z"
   },
   {
    "duration": 230,
    "start_time": "2022-06-24T10:38:37.225Z"
   },
   {
    "duration": 30,
    "start_time": "2022-06-24T10:38:37.457Z"
   },
   {
    "duration": 17,
    "start_time": "2022-06-24T10:38:37.489Z"
   },
   {
    "duration": 52,
    "start_time": "2022-06-24T10:38:37.507Z"
   },
   {
    "duration": 26,
    "start_time": "2022-06-24T10:38:37.561Z"
   },
   {
    "duration": 19,
    "start_time": "2022-06-24T10:38:37.588Z"
   },
   {
    "duration": 61,
    "start_time": "2022-06-24T10:38:37.608Z"
   },
   {
    "duration": 72,
    "start_time": "2022-06-24T10:38:37.673Z"
   },
   {
    "duration": 26809,
    "start_time": "2022-06-24T10:38:37.747Z"
   },
   {
    "duration": 3,
    "start_time": "2022-06-24T10:39:04.557Z"
   },
   {
    "duration": 45,
    "start_time": "2022-06-24T10:39:04.562Z"
   },
   {
    "duration": 490601,
    "start_time": "2022-06-24T10:39:04.609Z"
   },
   {
    "duration": 3,
    "start_time": "2022-06-24T10:47:15.212Z"
   },
   {
    "duration": 96,
    "start_time": "2022-06-24T10:47:15.216Z"
   },
   {
    "duration": 27,
    "start_time": "2022-06-24T10:47:15.314Z"
   },
   {
    "duration": 1270,
    "start_time": "2022-06-24T10:47:15.342Z"
   },
   {
    "duration": 33,
    "start_time": "2022-06-24T10:47:16.614Z"
   },
   {
    "duration": 180,
    "start_time": "2022-06-24T10:47:16.649Z"
   },
   {
    "duration": 145,
    "start_time": "2022-06-24T10:47:54.237Z"
   },
   {
    "duration": 43505,
    "start_time": "2022-06-24T10:56:46.723Z"
   },
   {
    "duration": 11,
    "start_time": "2022-06-24T10:58:15.512Z"
   },
   {
    "duration": 265,
    "start_time": "2022-06-24T10:59:20.863Z"
   },
   {
    "duration": 65204,
    "start_time": "2022-06-24T10:59:33.513Z"
   },
   {
    "duration": 15,
    "start_time": "2022-06-24T11:01:00.794Z"
   },
   {
    "duration": 60,
    "start_time": "2022-06-24T11:04:34.511Z"
   },
   {
    "duration": 71,
    "start_time": "2022-06-24T11:04:39.236Z"
   },
   {
    "duration": 23,
    "start_time": "2022-06-24T11:05:35.514Z"
   },
   {
    "duration": 85,
    "start_time": "2022-06-24T11:05:42.939Z"
   },
   {
    "duration": 4,
    "start_time": "2022-06-24T11:05:43.525Z"
   },
   {
    "duration": 61,
    "start_time": "2022-06-24T11:05:44.131Z"
   },
   {
    "duration": 35,
    "start_time": "2022-06-24T11:05:47.660Z"
   },
   {
    "duration": 55,
    "start_time": "2022-06-24T11:05:50.332Z"
   },
   {
    "duration": 85,
    "start_time": "2022-06-24T11:06:06.528Z"
   },
   {
    "duration": 56,
    "start_time": "2022-06-24T11:06:09.811Z"
   },
   {
    "duration": 61,
    "start_time": "2022-06-24T11:06:12.399Z"
   },
   {
    "duration": 21,
    "start_time": "2022-06-24T11:07:00.641Z"
   },
   {
    "duration": 250,
    "start_time": "2022-06-24T11:07:11.122Z"
   },
   {
    "duration": 32,
    "start_time": "2022-06-24T11:07:12.656Z"
   },
   {
    "duration": 8,
    "start_time": "2022-06-24T11:07:15.887Z"
   },
   {
    "duration": 23,
    "start_time": "2022-06-24T11:07:56.399Z"
   },
   {
    "duration": 258,
    "start_time": "2022-06-24T11:08:01.517Z"
   },
   {
    "duration": 33,
    "start_time": "2022-06-24T11:08:04.599Z"
   },
   {
    "duration": 10,
    "start_time": "2022-06-24T11:08:06.352Z"
   },
   {
    "duration": 57,
    "start_time": "2022-06-24T11:08:09.192Z"
   },
   {
    "duration": 24,
    "start_time": "2022-06-24T11:08:10.215Z"
   },
   {
    "duration": 14,
    "start_time": "2022-06-24T11:08:12.099Z"
   },
   {
    "duration": 1393,
    "start_time": "2022-06-24T11:08:23.628Z"
   },
   {
    "duration": 2,
    "start_time": "2022-06-24T11:08:25.023Z"
   },
   {
    "duration": 7,
    "start_time": "2022-06-24T11:08:25.027Z"
   },
   {
    "duration": 5751,
    "start_time": "2022-06-24T11:08:25.036Z"
   },
   {
    "duration": 226,
    "start_time": "2022-06-24T11:08:30.788Z"
   },
   {
    "duration": 39,
    "start_time": "2022-06-24T11:08:31.016Z"
   },
   {
    "duration": 40,
    "start_time": "2022-06-24T11:08:31.057Z"
   },
   {
    "duration": 43,
    "start_time": "2022-06-24T11:08:31.099Z"
   },
   {
    "duration": 1701,
    "start_time": "2022-06-24T11:08:31.143Z"
   },
   {
    "duration": 269,
    "start_time": "2022-06-24T11:08:32.847Z"
   },
   {
    "duration": 1323,
    "start_time": "2022-06-24T11:08:33.122Z"
   },
   {
    "duration": 125,
    "start_time": "2022-06-24T11:08:34.447Z"
   },
   {
    "duration": 189,
    "start_time": "2022-06-24T11:08:34.574Z"
   },
   {
    "duration": 163,
    "start_time": "2022-06-24T11:08:34.765Z"
   },
   {
    "duration": 225,
    "start_time": "2022-06-24T11:08:34.929Z"
   },
   {
    "duration": 127,
    "start_time": "2022-06-24T11:08:35.155Z"
   },
   {
    "duration": 204,
    "start_time": "2022-06-24T11:08:35.284Z"
   },
   {
    "duration": 124,
    "start_time": "2022-06-24T11:08:35.490Z"
   },
   {
    "duration": 197,
    "start_time": "2022-06-24T11:08:35.615Z"
   },
   {
    "duration": 148,
    "start_time": "2022-06-24T11:08:35.814Z"
   },
   {
    "duration": 227,
    "start_time": "2022-06-24T11:08:35.964Z"
   },
   {
    "duration": 147,
    "start_time": "2022-06-24T11:08:36.192Z"
   },
   {
    "duration": 54162,
    "start_time": "2022-06-24T11:08:36.341Z"
   },
   {
    "duration": 21,
    "start_time": "2022-06-24T11:09:30.504Z"
   },
   {
    "duration": 71,
    "start_time": "2022-06-24T11:09:30.526Z"
   },
   {
    "duration": 68,
    "start_time": "2022-06-24T11:09:30.599Z"
   },
   {
    "duration": 38,
    "start_time": "2022-06-24T11:09:30.668Z"
   },
   {
    "duration": 41,
    "start_time": "2022-06-24T11:09:30.709Z"
   },
   {
    "duration": 120,
    "start_time": "2022-06-24T11:09:30.751Z"
   },
   {
    "duration": 5,
    "start_time": "2022-06-24T11:09:30.872Z"
   },
   {
    "duration": 111,
    "start_time": "2022-06-24T11:09:30.878Z"
   },
   {
    "duration": 69,
    "start_time": "2022-06-24T11:09:30.991Z"
   },
   {
    "duration": 36,
    "start_time": "2022-06-24T11:09:31.062Z"
   },
   {
    "duration": 296,
    "start_time": "2022-06-24T11:09:31.099Z"
   },
   {
    "duration": 27,
    "start_time": "2022-06-24T11:09:31.397Z"
   },
   {
    "duration": 28,
    "start_time": "2022-06-24T11:09:31.425Z"
   },
   {
    "duration": 72,
    "start_time": "2022-06-24T11:09:31.455Z"
   },
   {
    "duration": 26,
    "start_time": "2022-06-24T11:09:31.529Z"
   },
   {
    "duration": 24,
    "start_time": "2022-06-24T11:09:31.556Z"
   },
   {
    "duration": 87,
    "start_time": "2022-06-24T11:09:31.582Z"
   },
   {
    "duration": 93,
    "start_time": "2022-06-24T11:09:31.670Z"
   },
   {
    "duration": 36264,
    "start_time": "2022-06-24T11:09:31.764Z"
   },
   {
    "duration": 3,
    "start_time": "2022-06-24T11:10:08.030Z"
   },
   {
    "duration": 53,
    "start_time": "2022-06-24T11:10:08.034Z"
   },
   {
    "duration": 460951,
    "start_time": "2022-06-24T11:10:08.088Z"
   },
   {
    "duration": 0,
    "start_time": "2022-06-24T11:17:49.041Z"
   },
   {
    "duration": 0,
    "start_time": "2022-06-24T11:17:49.042Z"
   },
   {
    "duration": 0,
    "start_time": "2022-06-24T11:17:49.043Z"
   },
   {
    "duration": 1,
    "start_time": "2022-06-24T11:17:49.044Z"
   },
   {
    "duration": 0,
    "start_time": "2022-06-24T11:17:49.045Z"
   },
   {
    "duration": 0,
    "start_time": "2022-06-24T11:17:49.046Z"
   },
   {
    "duration": 0,
    "start_time": "2022-06-24T11:17:49.047Z"
   },
   {
    "duration": 0,
    "start_time": "2022-06-24T11:17:49.048Z"
   },
   {
    "duration": 36420,
    "start_time": "2022-06-24T11:17:50.594Z"
   },
   {
    "duration": 13,
    "start_time": "2022-06-24T11:49:50.637Z"
   },
   {
    "duration": 37973,
    "start_time": "2022-06-24T11:50:46.932Z"
   },
   {
    "duration": 4,
    "start_time": "2022-06-24T11:51:40.019Z"
   },
   {
    "duration": 47,
    "start_time": "2022-06-24T11:51:51.334Z"
   },
   {
    "duration": 605405,
    "start_time": "2022-06-24T11:52:03.477Z"
   },
   {
    "duration": 4,
    "start_time": "2022-06-24T12:02:08.884Z"
   },
   {
    "duration": 68,
    "start_time": "2022-06-24T12:02:08.890Z"
   },
   {
    "duration": 17,
    "start_time": "2022-06-24T12:02:08.961Z"
   },
   {
    "duration": 14,
    "start_time": "2022-06-24T12:02:26.719Z"
   },
   {
    "duration": 17,
    "start_time": "2022-06-24T12:03:24.380Z"
   },
   {
    "duration": 36932,
    "start_time": "2022-06-24T12:03:47.610Z"
   },
   {
    "duration": 25,
    "start_time": "2022-06-24T12:04:24.545Z"
   },
   {
    "duration": 944,
    "start_time": "2022-06-24T12:04:24.572Z"
   },
   {
    "duration": 0,
    "start_time": "2022-06-24T12:04:25.518Z"
   },
   {
    "duration": 1692,
    "start_time": "2022-06-24T12:05:19.714Z"
   },
   {
    "duration": 63,
    "start_time": "2022-06-24T12:05:29.940Z"
   },
   {
    "duration": 16,
    "start_time": "2022-06-24T12:05:37.733Z"
   },
   {
    "duration": 1531,
    "start_time": "2022-06-24T12:05:57.324Z"
   },
   {
    "duration": 4,
    "start_time": "2022-06-24T12:05:58.858Z"
   },
   {
    "duration": 6,
    "start_time": "2022-06-24T12:05:58.863Z"
   },
   {
    "duration": 8881,
    "start_time": "2022-06-24T12:05:58.872Z"
   },
   {
    "duration": 224,
    "start_time": "2022-06-24T12:06:07.755Z"
   },
   {
    "duration": 41,
    "start_time": "2022-06-24T12:06:07.980Z"
   },
   {
    "duration": 40,
    "start_time": "2022-06-24T12:06:08.023Z"
   },
   {
    "duration": 44,
    "start_time": "2022-06-24T12:06:08.065Z"
   },
   {
    "duration": 4525,
    "start_time": "2022-06-24T12:06:08.111Z"
   },
   {
    "duration": 313,
    "start_time": "2022-06-24T12:06:12.639Z"
   },
   {
    "duration": 1299,
    "start_time": "2022-06-24T12:06:12.954Z"
   },
   {
    "duration": 133,
    "start_time": "2022-06-24T12:06:14.255Z"
   },
   {
    "duration": 187,
    "start_time": "2022-06-24T12:06:14.390Z"
   },
   {
    "duration": 159,
    "start_time": "2022-06-24T12:06:14.579Z"
   },
   {
    "duration": 223,
    "start_time": "2022-06-24T12:06:14.740Z"
   },
   {
    "duration": 134,
    "start_time": "2022-06-24T12:06:14.964Z"
   },
   {
    "duration": 208,
    "start_time": "2022-06-24T12:06:15.100Z"
   },
   {
    "duration": 132,
    "start_time": "2022-06-24T12:06:15.310Z"
   },
   {
    "duration": 190,
    "start_time": "2022-06-24T12:06:15.443Z"
   },
   {
    "duration": 146,
    "start_time": "2022-06-24T12:06:15.635Z"
   },
   {
    "duration": 234,
    "start_time": "2022-06-24T12:06:15.783Z"
   },
   {
    "duration": 145,
    "start_time": "2022-06-24T12:06:16.018Z"
   },
   {
    "duration": 43832,
    "start_time": "2022-06-24T12:06:16.165Z"
   },
   {
    "duration": 12,
    "start_time": "2022-06-24T12:06:59.999Z"
   },
   {
    "duration": 86,
    "start_time": "2022-06-24T12:07:00.013Z"
   },
   {
    "duration": 75,
    "start_time": "2022-06-24T12:07:00.101Z"
   },
   {
    "duration": 33,
    "start_time": "2022-06-24T12:07:00.177Z"
   },
   {
    "duration": 31,
    "start_time": "2022-06-24T12:07:00.225Z"
   },
   {
    "duration": 154,
    "start_time": "2022-06-24T12:07:00.258Z"
   },
   {
    "duration": 5,
    "start_time": "2022-06-24T12:07:00.414Z"
   },
   {
    "duration": 78,
    "start_time": "2022-06-24T12:07:00.421Z"
   },
   {
    "duration": 76,
    "start_time": "2022-06-24T12:07:00.500Z"
   },
   {
    "duration": 27,
    "start_time": "2022-06-24T12:07:00.578Z"
   },
   {
    "duration": 294,
    "start_time": "2022-06-24T12:07:00.606Z"
   },
   {
    "duration": 28,
    "start_time": "2022-06-24T12:07:00.901Z"
   },
   {
    "duration": 13,
    "start_time": "2022-06-24T12:07:00.930Z"
   },
   {
    "duration": 65,
    "start_time": "2022-06-24T12:07:00.944Z"
   },
   {
    "duration": 28,
    "start_time": "2022-06-24T12:07:01.011Z"
   },
   {
    "duration": 29,
    "start_time": "2022-06-24T12:07:01.041Z"
   },
   {
    "duration": 79,
    "start_time": "2022-06-24T12:07:01.072Z"
   },
   {
    "duration": 80,
    "start_time": "2022-06-24T12:07:01.153Z"
   },
   {
    "duration": 35558,
    "start_time": "2022-06-24T12:07:01.235Z"
   },
   {
    "duration": 4,
    "start_time": "2022-06-24T12:07:36.795Z"
   },
   {
    "duration": 53,
    "start_time": "2022-06-24T12:07:36.800Z"
   },
   {
    "duration": 1452,
    "start_time": "2022-06-24T12:13:32.286Z"
   },
   {
    "duration": 4,
    "start_time": "2022-06-24T12:13:33.740Z"
   },
   {
    "duration": 6,
    "start_time": "2022-06-24T12:13:33.745Z"
   },
   {
    "duration": 7592,
    "start_time": "2022-06-24T12:13:33.752Z"
   },
   {
    "duration": 227,
    "start_time": "2022-06-24T12:13:41.347Z"
   },
   {
    "duration": 40,
    "start_time": "2022-06-24T12:13:41.576Z"
   },
   {
    "duration": 42,
    "start_time": "2022-06-24T12:13:41.618Z"
   },
   {
    "duration": 47,
    "start_time": "2022-06-24T12:13:41.662Z"
   },
   {
    "duration": 1645,
    "start_time": "2022-06-24T12:13:41.711Z"
   },
   {
    "duration": 271,
    "start_time": "2022-06-24T12:13:43.358Z"
   },
   {
    "duration": 3657,
    "start_time": "2022-06-24T12:13:43.631Z"
   },
   {
    "duration": 137,
    "start_time": "2022-06-24T12:13:47.290Z"
   },
   {
    "duration": 182,
    "start_time": "2022-06-24T12:13:47.429Z"
   },
   {
    "duration": 183,
    "start_time": "2022-06-24T12:13:47.615Z"
   },
   {
    "duration": 207,
    "start_time": "2022-06-24T12:13:47.799Z"
   },
   {
    "duration": 142,
    "start_time": "2022-06-24T12:13:48.008Z"
   },
   {
    "duration": 205,
    "start_time": "2022-06-24T12:13:48.152Z"
   },
   {
    "duration": 133,
    "start_time": "2022-06-24T12:13:48.359Z"
   },
   {
    "duration": 195,
    "start_time": "2022-06-24T12:13:48.494Z"
   },
   {
    "duration": 157,
    "start_time": "2022-06-24T12:13:48.691Z"
   },
   {
    "duration": 228,
    "start_time": "2022-06-24T12:13:48.850Z"
   },
   {
    "duration": 150,
    "start_time": "2022-06-24T12:13:49.079Z"
   },
   {
    "duration": 43300,
    "start_time": "2022-06-24T12:13:49.230Z"
   },
   {
    "duration": 15,
    "start_time": "2022-06-24T12:14:32.533Z"
   },
   {
    "duration": 97,
    "start_time": "2022-06-24T12:14:32.550Z"
   },
   {
    "duration": 82,
    "start_time": "2022-06-24T12:14:32.649Z"
   },
   {
    "duration": 35,
    "start_time": "2022-06-24T12:14:32.733Z"
   },
   {
    "duration": 37,
    "start_time": "2022-06-24T12:14:32.769Z"
   },
   {
    "duration": 125,
    "start_time": "2022-06-24T12:14:32.807Z"
   },
   {
    "duration": 4,
    "start_time": "2022-06-24T12:14:32.934Z"
   },
   {
    "duration": 60,
    "start_time": "2022-06-24T12:14:32.940Z"
   },
   {
    "duration": 85,
    "start_time": "2022-06-24T12:14:33.002Z"
   },
   {
    "duration": 36,
    "start_time": "2022-06-24T12:14:33.088Z"
   },
   {
    "duration": 311,
    "start_time": "2022-06-24T12:14:33.125Z"
   },
   {
    "duration": 22,
    "start_time": "2022-06-24T12:14:33.438Z"
   },
   {
    "duration": 11,
    "start_time": "2022-06-24T12:14:33.461Z"
   },
   {
    "duration": 72,
    "start_time": "2022-06-24T12:14:33.473Z"
   },
   {
    "duration": 25,
    "start_time": "2022-06-24T12:14:33.547Z"
   },
   {
    "duration": 17,
    "start_time": "2022-06-24T12:14:33.573Z"
   },
   {
    "duration": 97,
    "start_time": "2022-06-24T12:14:33.591Z"
   },
   {
    "duration": 78,
    "start_time": "2022-06-24T12:14:33.692Z"
   },
   {
    "duration": 112,
    "start_time": "2022-06-24T12:14:33.772Z"
   },
   {
    "duration": 0,
    "start_time": "2022-06-24T12:14:33.886Z"
   },
   {
    "duration": 0,
    "start_time": "2022-06-24T12:14:33.887Z"
   },
   {
    "duration": 0,
    "start_time": "2022-06-24T12:14:33.888Z"
   },
   {
    "duration": 0,
    "start_time": "2022-06-24T12:14:33.889Z"
   },
   {
    "duration": 0,
    "start_time": "2022-06-24T12:14:33.890Z"
   },
   {
    "duration": 0,
    "start_time": "2022-06-24T12:14:33.891Z"
   },
   {
    "duration": 1,
    "start_time": "2022-06-24T12:14:33.892Z"
   },
   {
    "duration": 0,
    "start_time": "2022-06-24T12:14:33.893Z"
   },
   {
    "duration": 0,
    "start_time": "2022-06-24T12:14:33.894Z"
   },
   {
    "duration": 0,
    "start_time": "2022-06-24T12:14:33.895Z"
   },
   {
    "duration": 0,
    "start_time": "2022-06-24T12:14:33.896Z"
   },
   {
    "duration": 0,
    "start_time": "2022-06-24T12:14:33.897Z"
   },
   {
    "duration": 0,
    "start_time": "2022-06-24T12:14:33.898Z"
   },
   {
    "duration": 97633,
    "start_time": "2022-06-24T12:14:42.553Z"
   },
   {
    "duration": 3,
    "start_time": "2022-06-24T12:16:27.348Z"
   },
   {
    "duration": 315,
    "start_time": "2022-06-24T12:16:30.709Z"
   },
   {
    "duration": 1379,
    "start_time": "2022-06-24T12:16:49.823Z"
   },
   {
    "duration": 3,
    "start_time": "2022-06-24T12:16:51.204Z"
   },
   {
    "duration": 5,
    "start_time": "2022-06-24T12:16:51.209Z"
   },
   {
    "duration": 6729,
    "start_time": "2022-06-24T12:16:51.216Z"
   },
   {
    "duration": 229,
    "start_time": "2022-06-24T12:16:57.946Z"
   },
   {
    "duration": 39,
    "start_time": "2022-06-24T12:16:58.176Z"
   },
   {
    "duration": 39,
    "start_time": "2022-06-24T12:16:58.216Z"
   },
   {
    "duration": 42,
    "start_time": "2022-06-24T12:16:58.257Z"
   },
   {
    "duration": 4773,
    "start_time": "2022-06-24T12:16:58.301Z"
   },
   {
    "duration": 296,
    "start_time": "2022-06-24T12:17:03.076Z"
   },
   {
    "duration": 1281,
    "start_time": "2022-06-24T12:17:03.373Z"
   },
   {
    "duration": 127,
    "start_time": "2022-06-24T12:17:04.655Z"
   },
   {
    "duration": 180,
    "start_time": "2022-06-24T12:17:04.784Z"
   },
   {
    "duration": 158,
    "start_time": "2022-06-24T12:17:04.966Z"
   },
   {
    "duration": 215,
    "start_time": "2022-06-24T12:17:05.126Z"
   },
   {
    "duration": 164,
    "start_time": "2022-06-24T12:17:05.343Z"
   },
   {
    "duration": 206,
    "start_time": "2022-06-24T12:17:05.509Z"
   },
   {
    "duration": 141,
    "start_time": "2022-06-24T12:17:05.716Z"
   },
   {
    "duration": 195,
    "start_time": "2022-06-24T12:17:05.859Z"
   },
   {
    "duration": 148,
    "start_time": "2022-06-24T12:17:06.055Z"
   },
   {
    "duration": 213,
    "start_time": "2022-06-24T12:17:06.205Z"
   },
   {
    "duration": 153,
    "start_time": "2022-06-24T12:17:06.420Z"
   },
   {
    "duration": 46921,
    "start_time": "2022-06-24T12:17:06.575Z"
   },
   {
    "duration": 14,
    "start_time": "2022-06-24T12:17:53.497Z"
   },
   {
    "duration": 76,
    "start_time": "2022-06-24T12:17:53.512Z"
   },
   {
    "duration": 79,
    "start_time": "2022-06-24T12:17:53.589Z"
   },
   {
    "duration": 31,
    "start_time": "2022-06-24T12:17:53.669Z"
   },
   {
    "duration": 42,
    "start_time": "2022-06-24T12:17:53.703Z"
   },
   {
    "duration": 119,
    "start_time": "2022-06-24T12:17:53.747Z"
   },
   {
    "duration": 5,
    "start_time": "2022-06-24T12:17:53.868Z"
   },
   {
    "duration": 82,
    "start_time": "2022-06-24T12:17:53.874Z"
   },
   {
    "duration": 69,
    "start_time": "2022-06-24T12:17:53.958Z"
   },
   {
    "duration": 38,
    "start_time": "2022-06-24T12:17:54.029Z"
   },
   {
    "duration": 295,
    "start_time": "2022-06-24T12:17:54.069Z"
   },
   {
    "duration": 23,
    "start_time": "2022-06-24T12:17:54.365Z"
   },
   {
    "duration": 26,
    "start_time": "2022-06-24T12:17:54.390Z"
   },
   {
    "duration": 69,
    "start_time": "2022-06-24T12:17:54.417Z"
   },
   {
    "duration": 24,
    "start_time": "2022-06-24T12:17:54.488Z"
   },
   {
    "duration": 20,
    "start_time": "2022-06-24T12:17:54.514Z"
   },
   {
    "duration": 90,
    "start_time": "2022-06-24T12:17:54.535Z"
   },
   {
    "duration": 72,
    "start_time": "2022-06-24T12:17:54.627Z"
   },
   {
    "duration": 94919,
    "start_time": "2022-06-24T12:17:54.701Z"
   },
   {
    "duration": 3,
    "start_time": "2022-06-24T12:19:29.623Z"
   },
   {
    "duration": 301,
    "start_time": "2022-06-24T12:19:29.628Z"
   },
   {
    "duration": 201085,
    "start_time": "2022-06-24T12:19:29.931Z"
   },
   {
    "duration": 5,
    "start_time": "2022-06-24T12:22:51.018Z"
   },
   {
    "duration": 64,
    "start_time": "2022-06-24T12:22:51.024Z"
   },
   {
    "duration": 550221,
    "start_time": "2022-06-24T12:22:51.091Z"
   },
   {
    "duration": 9,
    "start_time": "2022-06-24T12:32:01.315Z"
   },
   {
    "duration": 103,
    "start_time": "2022-06-24T12:32:01.326Z"
   },
   {
    "duration": 21,
    "start_time": "2022-06-24T12:32:01.431Z"
   },
   {
    "duration": 1894,
    "start_time": "2022-06-24T12:32:01.454Z"
   },
   {
    "duration": 34,
    "start_time": "2022-06-24T12:32:03.350Z"
   },
   {
    "duration": 498,
    "start_time": "2022-06-24T12:32:03.386Z"
   },
   {
    "duration": 132,
    "start_time": "2022-06-24T12:32:03.885Z"
   },
   {
    "duration": 183,
    "start_time": "2022-06-24T12:48:03.810Z"
   },
   {
    "duration": 186,
    "start_time": "2022-06-24T12:48:14.200Z"
   },
   {
    "duration": 212,
    "start_time": "2022-06-24T12:48:32.574Z"
   },
   {
    "duration": 176,
    "start_time": "2022-06-24T12:49:10.101Z"
   },
   {
    "duration": 30,
    "start_time": "2022-06-24T12:50:42.693Z"
   },
   {
    "duration": 174,
    "start_time": "2022-06-24T12:51:39.671Z"
   },
   {
    "duration": 86,
    "start_time": "2022-06-24T12:52:42.214Z"
   },
   {
    "duration": 4,
    "start_time": "2022-06-24T12:53:39.693Z"
   },
   {
    "duration": 3,
    "start_time": "2022-06-24T12:53:41.262Z"
   },
   {
    "duration": 3,
    "start_time": "2022-06-24T12:53:42.870Z"
   },
   {
    "duration": 3,
    "start_time": "2022-06-24T12:53:44.788Z"
   },
   {
    "duration": 224,
    "start_time": "2022-06-24T12:54:12.805Z"
   },
   {
    "duration": 16,
    "start_time": "2022-06-24T12:54:45.182Z"
   },
   {
    "duration": 5,
    "start_time": "2022-06-24T12:55:17.691Z"
   },
   {
    "duration": 5,
    "start_time": "2022-06-24T12:55:22.949Z"
   },
   {
    "duration": 309,
    "start_time": "2022-06-24T12:55:51.118Z"
   },
   {
    "duration": 6,
    "start_time": "2022-06-24T12:56:26.024Z"
   },
   {
    "duration": 8,
    "start_time": "2022-06-24T12:57:05.799Z"
   },
   {
    "duration": 213,
    "start_time": "2022-06-24T12:57:07.981Z"
   },
   {
    "duration": 226,
    "start_time": "2022-06-24T12:57:48.854Z"
   },
   {
    "duration": 7,
    "start_time": "2022-06-24T12:58:03.405Z"
   },
   {
    "duration": 5,
    "start_time": "2022-06-24T13:00:07.434Z"
   },
   {
    "duration": 3,
    "start_time": "2022-06-24T13:00:07.885Z"
   },
   {
    "duration": 3,
    "start_time": "2022-06-24T13:00:08.239Z"
   },
   {
    "duration": 3,
    "start_time": "2022-06-24T13:00:08.633Z"
   },
   {
    "duration": 240,
    "start_time": "2022-06-24T13:00:10.823Z"
   },
   {
    "duration": 7,
    "start_time": "2022-06-24T13:01:27.408Z"
   },
   {
    "duration": 209,
    "start_time": "2022-06-24T13:01:39.027Z"
   },
   {
    "duration": 7,
    "start_time": "2022-06-24T13:02:07.635Z"
   },
   {
    "duration": 7,
    "start_time": "2022-06-24T13:02:38.023Z"
   },
   {
    "duration": 4,
    "start_time": "2022-06-24T13:02:53.243Z"
   },
   {
    "duration": 5,
    "start_time": "2022-06-24T13:03:12.645Z"
   },
   {
    "duration": 8,
    "start_time": "2022-06-24T13:04:20.822Z"
   },
   {
    "duration": 302061,
    "start_time": "2022-06-24T13:06:38.106Z"
   },
   {
    "duration": 2,
    "start_time": "2022-06-24T13:11:40.170Z"
   },
   {
    "duration": 252,
    "start_time": "2022-06-24T13:11:44.974Z"
   },
   {
    "duration": 376,
    "start_time": "2022-06-24T13:11:55.395Z"
   },
   {
    "duration": 171,
    "start_time": "2022-06-24T13:11:57.687Z"
   },
   {
    "duration": 203,
    "start_time": "2022-06-24T13:12:01.847Z"
   },
   {
    "duration": 105,
    "start_time": "2022-06-24T13:12:05.314Z"
   },
   {
    "duration": 4,
    "start_time": "2022-06-24T13:12:08.576Z"
   },
   {
    "duration": 7,
    "start_time": "2022-06-24T13:12:10.551Z"
   },
   {
    "duration": 481,
    "start_time": "2022-06-24T13:21:25.770Z"
   },
   {
    "duration": 19,
    "start_time": "2022-06-24T13:21:58.717Z"
   },
   {
    "duration": 12,
    "start_time": "2022-06-24T13:24:03.276Z"
   },
   {
    "duration": 156,
    "start_time": "2022-06-24T13:24:12.092Z"
   },
   {
    "duration": 191,
    "start_time": "2022-06-24T13:25:01.033Z"
   },
   {
    "duration": 11,
    "start_time": "2022-06-24T13:25:14.579Z"
   },
   {
    "duration": 39,
    "start_time": "2022-06-24T13:25:24.188Z"
   },
   {
    "duration": 6,
    "start_time": "2022-06-24T13:25:50.341Z"
   },
   {
    "duration": 4,
    "start_time": "2022-06-24T13:26:09.904Z"
   },
   {
    "duration": 4,
    "start_time": "2022-06-24T13:26:24.669Z"
   },
   {
    "duration": 149,
    "start_time": "2022-06-24T13:26:54.894Z"
   },
   {
    "duration": 24,
    "start_time": "2022-06-24T13:27:16.340Z"
   },
   {
    "duration": 38,
    "start_time": "2022-06-24T13:29:46.087Z"
   },
   {
    "duration": 5,
    "start_time": "2022-06-24T13:29:52.787Z"
   },
   {
    "duration": 242,
    "start_time": "2022-06-24T13:30:28.493Z"
   },
   {
    "duration": 2790,
    "start_time": "2022-06-24T13:30:35.081Z"
   },
   {
    "duration": 7,
    "start_time": "2022-06-24T13:30:37.923Z"
   },
   {
    "duration": 26,
    "start_time": "2022-06-24T13:30:37.940Z"
   },
   {
    "duration": 6316,
    "start_time": "2022-06-24T13:30:37.968Z"
   },
   {
    "duration": 256,
    "start_time": "2022-06-24T13:30:44.287Z"
   },
   {
    "duration": 37,
    "start_time": "2022-06-24T13:30:44.544Z"
   },
   {
    "duration": 68,
    "start_time": "2022-06-24T13:30:44.582Z"
   },
   {
    "duration": 83,
    "start_time": "2022-06-24T13:30:44.652Z"
   },
   {
    "duration": 4489,
    "start_time": "2022-06-24T13:30:44.736Z"
   },
   {
    "duration": 711,
    "start_time": "2022-06-24T13:30:49.228Z"
   },
   {
    "duration": 1288,
    "start_time": "2022-06-24T13:30:49.941Z"
   },
   {
    "duration": 300,
    "start_time": "2022-06-24T13:30:51.231Z"
   },
   {
    "duration": 196,
    "start_time": "2022-06-24T13:30:51.533Z"
   },
   {
    "duration": 405,
    "start_time": "2022-06-24T13:30:51.736Z"
   },
   {
    "duration": 211,
    "start_time": "2022-06-24T13:30:52.143Z"
   },
   {
    "duration": 314,
    "start_time": "2022-06-24T13:30:52.356Z"
   },
   {
    "duration": 256,
    "start_time": "2022-06-24T13:30:52.672Z"
   },
   {
    "duration": 304,
    "start_time": "2022-06-24T13:30:52.930Z"
   },
   {
    "duration": 201,
    "start_time": "2022-06-24T13:30:53.237Z"
   },
   {
    "duration": 318,
    "start_time": "2022-06-24T13:30:53.440Z"
   },
   {
    "duration": 229,
    "start_time": "2022-06-24T13:30:53.760Z"
   },
   {
    "duration": 356,
    "start_time": "2022-06-24T13:30:53.991Z"
   },
   {
    "duration": 37499,
    "start_time": "2022-06-24T13:30:54.349Z"
   },
   {
    "duration": 13,
    "start_time": "2022-06-24T13:31:31.850Z"
   },
   {
    "duration": 192,
    "start_time": "2022-06-24T13:31:31.865Z"
   },
   {
    "duration": 174,
    "start_time": "2022-06-24T13:31:32.059Z"
   },
   {
    "duration": 84,
    "start_time": "2022-06-24T13:31:32.240Z"
   },
   {
    "duration": 42,
    "start_time": "2022-06-24T13:31:32.326Z"
   },
   {
    "duration": 311,
    "start_time": "2022-06-24T13:31:32.425Z"
   },
   {
    "duration": 6,
    "start_time": "2022-06-24T13:31:32.738Z"
   },
   {
    "duration": 203,
    "start_time": "2022-06-24T13:31:32.747Z"
   },
   {
    "duration": 186,
    "start_time": "2022-06-24T13:31:32.952Z"
   },
   {
    "duration": 87,
    "start_time": "2022-06-24T13:31:33.142Z"
   },
   {
    "duration": 712,
    "start_time": "2022-06-24T13:31:33.231Z"
   },
   {
    "duration": 81,
    "start_time": "2022-06-24T13:31:33.946Z"
   },
   {
    "duration": 14,
    "start_time": "2022-06-24T13:31:34.029Z"
   },
   {
    "duration": 117,
    "start_time": "2022-06-24T13:31:34.045Z"
   },
   {
    "duration": 82,
    "start_time": "2022-06-24T13:31:34.164Z"
   },
   {
    "duration": 15,
    "start_time": "2022-06-24T13:31:34.248Z"
   },
   {
    "duration": 201,
    "start_time": "2022-06-24T13:31:34.264Z"
   },
   {
    "duration": 140,
    "start_time": "2022-06-24T13:31:34.522Z"
   },
   {
    "duration": 747103,
    "start_time": "2022-06-24T13:31:34.664Z"
   },
   {
    "duration": 57,
    "start_time": "2022-06-24T13:44:01.769Z"
   },
   {
    "duration": 397,
    "start_time": "2022-06-24T13:44:01.827Z"
   },
   {
    "duration": 516544,
    "start_time": "2022-06-24T13:44:02.226Z"
   },
   {
    "duration": 6,
    "start_time": "2022-06-24T13:52:38.823Z"
   },
   {
    "duration": 127,
    "start_time": "2022-06-24T13:52:38.832Z"
   },
   {
    "duration": 1573191,
    "start_time": "2022-06-24T13:52:38.961Z"
   },
   {
    "duration": 4,
    "start_time": "2022-06-24T14:18:52.154Z"
   },
   {
    "duration": 210,
    "start_time": "2022-06-24T14:18:52.160Z"
   },
   {
    "duration": 87,
    "start_time": "2022-06-24T14:18:52.372Z"
   },
   {
    "duration": 3342,
    "start_time": "2022-06-24T14:18:52.461Z"
   },
   {
    "duration": 66,
    "start_time": "2022-06-24T14:18:55.805Z"
   },
   {
    "duration": 704,
    "start_time": "2022-06-24T14:18:55.923Z"
   },
   {
    "duration": 432,
    "start_time": "2022-06-24T14:18:56.631Z"
   },
   {
    "duration": 194,
    "start_time": "2022-06-24T14:18:57.065Z"
   },
   {
    "duration": 363,
    "start_time": "2022-06-24T14:18:57.261Z"
   },
   {
    "duration": 3,
    "start_time": "2022-06-24T14:18:57.626Z"
   },
   {
    "duration": 31,
    "start_time": "2022-06-24T14:18:57.631Z"
   },
   {
    "duration": 7,
    "start_time": "2022-06-24T14:18:57.664Z"
   },
   {
    "duration": 56,
    "start_time": "2022-06-24T14:18:57.673Z"
   },
   {
    "duration": 29,
    "start_time": "2022-06-24T14:18:57.731Z"
   },
   {
    "duration": 589,
    "start_time": "2022-06-24T14:18:57.762Z"
   },
   {
    "duration": 7,
    "start_time": "2022-06-24T14:18:58.353Z"
   },
   {
    "duration": 599,
    "start_time": "2022-06-24T14:18:58.361Z"
   },
   {
    "duration": 62,
    "start_time": "2022-06-24T14:18:58.965Z"
   },
   {
    "duration": 598,
    "start_time": "2022-06-24T14:18:59.031Z"
   },
   {
    "duration": 13,
    "start_time": "2022-06-24T14:18:59.631Z"
   },
   {
    "duration": 908,
    "start_time": "2022-06-24T14:18:59.649Z"
   },
   {
    "duration": 6,
    "start_time": "2022-06-24T14:19:00.559Z"
   },
   {
    "duration": 102,
    "start_time": "2022-06-24T14:19:00.569Z"
   },
   {
    "duration": 240,
    "start_time": "2022-06-24T14:30:47.312Z"
   },
   {
    "duration": 10,
    "start_time": "2022-06-24T14:30:47.848Z"
   },
   {
    "duration": 4,
    "start_time": "2022-06-24T14:30:54.379Z"
   },
   {
    "duration": 30,
    "start_time": "2022-06-24T14:30:55.337Z"
   },
   {
    "duration": 2694,
    "start_time": "2022-06-24T14:32:49.442Z"
   },
   {
    "duration": 3,
    "start_time": "2022-06-24T14:32:52.139Z"
   },
   {
    "duration": 16,
    "start_time": "2022-06-24T14:32:52.143Z"
   },
   {
    "duration": 6535,
    "start_time": "2022-06-24T14:32:52.161Z"
   },
   {
    "duration": 280,
    "start_time": "2022-06-24T14:32:58.698Z"
   },
   {
    "duration": 52,
    "start_time": "2022-06-24T14:32:58.980Z"
   },
   {
    "duration": 41,
    "start_time": "2022-06-24T14:32:59.035Z"
   },
   {
    "duration": 60,
    "start_time": "2022-06-24T14:32:59.078Z"
   },
   {
    "duration": 9540,
    "start_time": "2022-06-24T14:32:59.139Z"
   },
   {
    "duration": 741,
    "start_time": "2022-06-24T14:33:08.683Z"
   },
   {
    "duration": 8204,
    "start_time": "2022-06-24T14:33:09.436Z"
   },
   {
    "duration": 384,
    "start_time": "2022-06-24T14:33:17.642Z"
   },
   {
    "duration": 2579,
    "start_time": "2022-06-24T14:33:18.027Z"
   },
   {
    "duration": 340,
    "start_time": "2022-06-24T14:33:20.608Z"
   },
   {
    "duration": 223,
    "start_time": "2022-06-24T14:33:20.950Z"
   },
   {
    "duration": 280,
    "start_time": "2022-06-24T14:33:21.174Z"
   },
   {
    "duration": 213,
    "start_time": "2022-06-24T14:33:21.456Z"
   },
   {
    "duration": 462,
    "start_time": "2022-06-24T14:33:21.671Z"
   },
   {
    "duration": 193,
    "start_time": "2022-06-24T14:33:22.135Z"
   },
   {
    "duration": 396,
    "start_time": "2022-06-24T14:33:22.330Z"
   },
   {
    "duration": 237,
    "start_time": "2022-06-24T14:33:22.728Z"
   },
   {
    "duration": 302,
    "start_time": "2022-06-24T14:33:22.966Z"
   },
   {
    "duration": 68588,
    "start_time": "2022-06-24T14:33:23.269Z"
   },
   {
    "duration": 65,
    "start_time": "2022-06-24T14:34:31.859Z"
   },
   {
    "duration": 132,
    "start_time": "2022-06-24T14:34:31.926Z"
   },
   {
    "duration": 185,
    "start_time": "2022-06-24T14:34:32.060Z"
   },
   {
    "duration": 92,
    "start_time": "2022-06-24T14:34:32.247Z"
   },
   {
    "duration": 95,
    "start_time": "2022-06-24T14:34:32.344Z"
   },
   {
    "duration": 319,
    "start_time": "2022-06-24T14:34:32.441Z"
   },
   {
    "duration": 6,
    "start_time": "2022-06-24T14:34:32.763Z"
   },
   {
    "duration": 212,
    "start_time": "2022-06-24T14:34:32.822Z"
   },
   {
    "duration": 126,
    "start_time": "2022-06-24T14:34:33.036Z"
   },
   {
    "duration": 99,
    "start_time": "2022-06-24T14:34:33.164Z"
   },
   {
    "duration": 786,
    "start_time": "2022-06-24T14:34:33.264Z"
   },
   {
    "duration": 85,
    "start_time": "2022-06-24T14:34:34.051Z"
   },
   {
    "duration": 16,
    "start_time": "2022-06-24T14:34:34.139Z"
   },
   {
    "duration": 177,
    "start_time": "2022-06-24T14:34:34.157Z"
   },
   {
    "duration": 30,
    "start_time": "2022-06-24T14:34:34.342Z"
   },
   {
    "duration": 70,
    "start_time": "2022-06-24T14:34:34.374Z"
   },
   {
    "duration": 195,
    "start_time": "2022-06-24T14:34:34.446Z"
   },
   {
    "duration": 8,
    "start_time": "2022-06-24T14:34:34.643Z"
   },
   {
    "duration": 6092,
    "start_time": "2022-06-24T14:34:34.653Z"
   },
   {
    "duration": 4,
    "start_time": "2022-06-24T14:34:40.747Z"
   },
   {
    "duration": 482,
    "start_time": "2022-06-24T14:34:40.752Z"
   },
   {
    "duration": 1837,
    "start_time": "2022-06-24T14:34:41.236Z"
   },
   {
    "duration": 9,
    "start_time": "2022-06-24T14:34:43.127Z"
   },
   {
    "duration": 118,
    "start_time": "2022-06-24T14:34:43.138Z"
   },
   {
    "duration": 3081,
    "start_time": "2022-06-24T14:34:43.258Z"
   },
   {
    "duration": 4,
    "start_time": "2022-06-24T14:34:46.341Z"
   },
   {
    "duration": 204,
    "start_time": "2022-06-24T14:34:46.347Z"
   },
   {
    "duration": 78,
    "start_time": "2022-06-24T14:34:46.552Z"
   },
   {
    "duration": 2865,
    "start_time": "2022-06-24T14:34:46.632Z"
   },
   {
    "duration": 63,
    "start_time": "2022-06-24T14:34:49.499Z"
   },
   {
    "duration": 801,
    "start_time": "2022-06-24T14:34:49.564Z"
   },
   {
    "duration": 402,
    "start_time": "2022-06-24T14:34:50.366Z"
   },
   {
    "duration": 167,
    "start_time": "2022-06-24T14:35:13.888Z"
   },
   {
    "duration": 228,
    "start_time": "2022-06-24T14:35:15.510Z"
   },
   {
    "duration": 8,
    "start_time": "2022-06-24T14:35:16.626Z"
   },
   {
    "duration": 3,
    "start_time": "2022-06-24T14:35:17.570Z"
   },
   {
    "duration": 6,
    "start_time": "2022-06-24T14:35:18.119Z"
   },
   {
    "duration": 3,
    "start_time": "2022-06-24T14:35:18.637Z"
   },
   {
    "duration": 7,
    "start_time": "2022-06-24T14:35:19.240Z"
   },
   {
    "duration": 4,
    "start_time": "2022-06-24T14:35:35.074Z"
   },
   {
    "duration": 255,
    "start_time": "2022-06-24T14:35:36.408Z"
   },
   {
    "duration": 94,
    "start_time": "2022-06-24T14:35:40.358Z"
   },
   {
    "duration": 4,
    "start_time": "2022-06-24T14:35:41.056Z"
   },
   {
    "duration": 5,
    "start_time": "2022-06-24T14:35:41.971Z"
   },
   {
    "duration": 7,
    "start_time": "2022-06-24T14:35:49.622Z"
   },
   {
    "duration": 98,
    "start_time": "2022-06-24T14:35:52.527Z"
   },
   {
    "duration": 29,
    "start_time": "2022-06-24T14:35:54.009Z"
   },
   {
    "duration": 4,
    "start_time": "2022-06-24T14:35:56.105Z"
   },
   {
    "duration": 8,
    "start_time": "2022-06-24T14:35:56.723Z"
   },
   {
    "duration": 45482,
    "start_time": "2022-06-24T14:35:58.550Z"
   },
   {
    "duration": 5,
    "start_time": "2022-06-24T14:36:44.039Z"
   },
   {
    "duration": 489,
    "start_time": "2022-06-24T14:36:44.045Z"
   },
   {
    "duration": 5429,
    "start_time": "2022-06-24T14:36:44.536Z"
   },
   {
    "duration": 61,
    "start_time": "2022-06-24T14:36:49.967Z"
   },
   {
    "duration": 119,
    "start_time": "2022-06-24T14:36:50.032Z"
   },
   {
    "duration": 9474,
    "start_time": "2022-06-24T14:36:50.152Z"
   },
   {
    "duration": 7,
    "start_time": "2022-06-24T14:36:59.628Z"
   },
   {
    "duration": 221,
    "start_time": "2022-06-24T14:36:59.639Z"
   },
   {
    "duration": 7151,
    "start_time": "2022-06-24T14:36:59.865Z"
   },
   {
    "duration": 61,
    "start_time": "2022-06-24T14:37:19.587Z"
   },
   {
    "duration": 714,
    "start_time": "2022-06-24T14:38:16.149Z"
   },
   {
    "duration": 198,
    "start_time": "2022-06-24T14:39:05.965Z"
   },
   {
    "duration": 191,
    "start_time": "2022-06-24T14:39:43.744Z"
   },
   {
    "duration": 4,
    "start_time": "2022-06-24T14:39:52.450Z"
   },
   {
    "duration": 359,
    "start_time": "2022-06-24T14:40:51.806Z"
   },
   {
    "duration": 1506,
    "start_time": "2022-06-24T14:41:55.037Z"
   },
   {
    "duration": 3,
    "start_time": "2022-06-24T14:41:56.545Z"
   },
   {
    "duration": 10,
    "start_time": "2022-06-24T14:41:56.549Z"
   },
   {
    "duration": 5994,
    "start_time": "2022-06-24T14:41:56.561Z"
   },
   {
    "duration": 221,
    "start_time": "2022-06-24T14:42:02.556Z"
   },
   {
    "duration": 40,
    "start_time": "2022-06-24T14:42:02.780Z"
   },
   {
    "duration": 50,
    "start_time": "2022-06-24T14:42:02.823Z"
   },
   {
    "duration": 43,
    "start_time": "2022-06-24T14:42:02.874Z"
   },
   {
    "duration": 1620,
    "start_time": "2022-06-24T14:42:02.918Z"
   },
   {
    "duration": 286,
    "start_time": "2022-06-24T14:42:04.540Z"
   },
   {
    "duration": 1256,
    "start_time": "2022-06-24T14:42:04.835Z"
   },
   {
    "duration": 143,
    "start_time": "2022-06-24T14:42:06.093Z"
   },
   {
    "duration": 186,
    "start_time": "2022-06-24T14:42:06.243Z"
   },
   {
    "duration": 207,
    "start_time": "2022-06-24T14:42:06.430Z"
   },
   {
    "duration": 210,
    "start_time": "2022-06-24T14:42:06.641Z"
   },
   {
    "duration": 136,
    "start_time": "2022-06-24T14:42:06.853Z"
   },
   {
    "duration": 202,
    "start_time": "2022-06-24T14:42:06.990Z"
   },
   {
    "duration": 161,
    "start_time": "2022-06-24T14:42:07.194Z"
   },
   {
    "duration": 212,
    "start_time": "2022-06-24T14:42:07.357Z"
   },
   {
    "duration": 162,
    "start_time": "2022-06-24T14:42:07.571Z"
   },
   {
    "duration": 256,
    "start_time": "2022-06-24T14:42:07.736Z"
   },
   {
    "duration": 150,
    "start_time": "2022-06-24T14:42:07.995Z"
   },
   {
    "duration": 41801,
    "start_time": "2022-06-24T14:42:08.147Z"
   },
   {
    "duration": 13,
    "start_time": "2022-06-24T14:42:49.949Z"
   },
   {
    "duration": 98,
    "start_time": "2022-06-24T14:42:49.964Z"
   },
   {
    "duration": 75,
    "start_time": "2022-06-24T14:42:50.063Z"
   },
   {
    "duration": 41,
    "start_time": "2022-06-24T14:42:50.139Z"
   },
   {
    "duration": 50,
    "start_time": "2022-06-24T14:42:50.184Z"
   },
   {
    "duration": 121,
    "start_time": "2022-06-24T14:42:50.235Z"
   },
   {
    "duration": 4,
    "start_time": "2022-06-24T14:42:50.358Z"
   },
   {
    "duration": 80,
    "start_time": "2022-06-24T14:42:50.364Z"
   },
   {
    "duration": 69,
    "start_time": "2022-06-24T14:42:50.445Z"
   },
   {
    "duration": 32,
    "start_time": "2022-06-24T14:42:50.528Z"
   },
   {
    "duration": 317,
    "start_time": "2022-06-24T14:42:50.562Z"
   },
   {
    "duration": 25,
    "start_time": "2022-06-24T14:42:50.881Z"
   },
   {
    "duration": 22,
    "start_time": "2022-06-24T14:42:50.908Z"
   },
   {
    "duration": 56,
    "start_time": "2022-06-24T14:42:50.934Z"
   },
   {
    "duration": 44,
    "start_time": "2022-06-24T14:42:50.992Z"
   },
   {
    "duration": 29,
    "start_time": "2022-06-24T14:42:51.037Z"
   },
   {
    "duration": 92,
    "start_time": "2022-06-24T14:42:51.068Z"
   },
   {
    "duration": 8,
    "start_time": "2022-06-24T14:42:51.161Z"
   },
   {
    "duration": 2464,
    "start_time": "2022-06-24T14:42:51.170Z"
   },
   {
    "duration": 4,
    "start_time": "2022-06-24T14:42:53.635Z"
   },
   {
    "duration": 293,
    "start_time": "2022-06-24T14:42:53.641Z"
   },
   {
    "duration": 665,
    "start_time": "2022-06-24T14:42:53.942Z"
   },
   {
    "duration": 4,
    "start_time": "2022-06-24T14:42:54.608Z"
   },
   {
    "duration": 61,
    "start_time": "2022-06-24T14:42:54.613Z"
   },
   {
    "duration": 1273,
    "start_time": "2022-06-24T14:42:54.676Z"
   },
   {
    "duration": 3,
    "start_time": "2022-06-24T14:42:55.951Z"
   },
   {
    "duration": 98,
    "start_time": "2022-06-24T14:42:55.956Z"
   },
   {
    "duration": 20,
    "start_time": "2022-06-24T14:42:56.056Z"
   },
   {
    "duration": 1526,
    "start_time": "2022-06-24T14:42:56.077Z"
   },
   {
    "duration": 42,
    "start_time": "2022-06-24T14:42:57.605Z"
   },
   {
    "duration": 546,
    "start_time": "2022-06-24T14:42:57.648Z"
   },
   {
    "duration": 180,
    "start_time": "2022-06-24T14:42:58.196Z"
   },
   {
    "duration": 170,
    "start_time": "2022-06-24T14:42:58.378Z"
   },
   {
    "duration": 100,
    "start_time": "2022-06-24T14:42:58.550Z"
   },
   {
    "duration": 3,
    "start_time": "2022-06-24T14:42:58.652Z"
   },
   {
    "duration": 9,
    "start_time": "2022-06-24T14:42:58.656Z"
   },
   {
    "duration": 6,
    "start_time": "2022-06-24T14:42:58.666Z"
   },
   {
    "duration": 7,
    "start_time": "2022-06-24T14:42:58.674Z"
   },
   {
    "duration": 218,
    "start_time": "2022-06-24T14:42:58.683Z"
   },
   {
    "duration": 6,
    "start_time": "2022-06-24T14:42:58.902Z"
   },
   {
    "duration": 213,
    "start_time": "2022-06-24T14:42:58.926Z"
   },
   {
    "duration": 6,
    "start_time": "2022-06-24T14:42:59.140Z"
   },
   {
    "duration": 229,
    "start_time": "2022-06-24T14:42:59.148Z"
   },
   {
    "duration": 7,
    "start_time": "2022-06-24T14:42:59.378Z"
   },
   {
    "duration": 215,
    "start_time": "2022-06-24T14:42:59.386Z"
   },
   {
    "duration": 6,
    "start_time": "2022-06-24T14:42:59.603Z"
   },
   {
    "duration": 119,
    "start_time": "2022-06-24T14:42:59.634Z"
   },
   {
    "duration": 0,
    "start_time": "2022-06-24T14:42:59.755Z"
   },
   {
    "duration": 11,
    "start_time": "2022-06-24T14:43:39.441Z"
   },
   {
    "duration": 187,
    "start_time": "2022-06-24T14:43:44.698Z"
   },
   {
    "duration": 1507,
    "start_time": "2022-06-24T21:46:52.614Z"
   },
   {
    "duration": 2,
    "start_time": "2022-06-24T21:46:54.123Z"
   },
   {
    "duration": 7,
    "start_time": "2022-06-24T21:46:54.127Z"
   },
   {
    "duration": 5163,
    "start_time": "2022-06-24T21:46:54.136Z"
   },
   {
    "duration": 239,
    "start_time": "2022-06-24T21:46:59.301Z"
   },
   {
    "duration": 43,
    "start_time": "2022-06-24T21:46:59.541Z"
   },
   {
    "duration": 47,
    "start_time": "2022-06-24T21:46:59.586Z"
   },
   {
    "duration": 51,
    "start_time": "2022-06-24T21:46:59.634Z"
   },
   {
    "duration": 4490,
    "start_time": "2022-06-24T21:46:59.686Z"
   },
   {
    "duration": 282,
    "start_time": "2022-06-24T21:47:04.179Z"
   },
   {
    "duration": 1265,
    "start_time": "2022-06-24T21:47:04.463Z"
   },
   {
    "duration": 125,
    "start_time": "2022-06-24T21:47:05.730Z"
   },
   {
    "duration": 193,
    "start_time": "2022-06-24T21:47:05.856Z"
   },
   {
    "duration": 152,
    "start_time": "2022-06-24T21:47:06.051Z"
   },
   {
    "duration": 210,
    "start_time": "2022-06-24T21:47:06.204Z"
   },
   {
    "duration": 121,
    "start_time": "2022-06-24T21:47:06.416Z"
   },
   {
    "duration": 204,
    "start_time": "2022-06-24T21:47:06.539Z"
   },
   {
    "duration": 125,
    "start_time": "2022-06-24T21:47:06.745Z"
   },
   {
    "duration": 194,
    "start_time": "2022-06-24T21:47:06.873Z"
   },
   {
    "duration": 143,
    "start_time": "2022-06-24T21:47:07.069Z"
   },
   {
    "duration": 210,
    "start_time": "2022-06-24T21:47:07.214Z"
   },
   {
    "duration": 143,
    "start_time": "2022-06-24T21:47:07.426Z"
   },
   {
    "duration": 206,
    "start_time": "2022-06-24T21:47:07.571Z"
   },
   {
    "duration": 0,
    "start_time": "2022-06-24T21:47:07.781Z"
   },
   {
    "duration": 0,
    "start_time": "2022-06-24T21:47:07.782Z"
   },
   {
    "duration": 0,
    "start_time": "2022-06-24T21:47:07.783Z"
   },
   {
    "duration": 0,
    "start_time": "2022-06-24T21:47:07.784Z"
   },
   {
    "duration": 0,
    "start_time": "2022-06-24T21:47:07.785Z"
   },
   {
    "duration": 0,
    "start_time": "2022-06-24T21:47:07.786Z"
   },
   {
    "duration": 0,
    "start_time": "2022-06-24T21:47:07.787Z"
   },
   {
    "duration": 0,
    "start_time": "2022-06-24T21:47:07.788Z"
   },
   {
    "duration": 0,
    "start_time": "2022-06-24T21:47:07.789Z"
   },
   {
    "duration": 0,
    "start_time": "2022-06-24T21:47:07.790Z"
   },
   {
    "duration": 0,
    "start_time": "2022-06-24T21:47:07.791Z"
   },
   {
    "duration": 0,
    "start_time": "2022-06-24T21:47:07.792Z"
   },
   {
    "duration": 0,
    "start_time": "2022-06-24T21:47:07.793Z"
   },
   {
    "duration": 0,
    "start_time": "2022-06-24T21:47:07.795Z"
   },
   {
    "duration": 0,
    "start_time": "2022-06-24T21:47:07.796Z"
   },
   {
    "duration": 0,
    "start_time": "2022-06-24T21:47:07.797Z"
   },
   {
    "duration": 0,
    "start_time": "2022-06-24T21:47:07.799Z"
   },
   {
    "duration": 0,
    "start_time": "2022-06-24T21:47:07.800Z"
   },
   {
    "duration": 0,
    "start_time": "2022-06-24T21:47:07.801Z"
   },
   {
    "duration": 0,
    "start_time": "2022-06-24T21:47:07.802Z"
   },
   {
    "duration": 0,
    "start_time": "2022-06-24T21:47:07.803Z"
   },
   {
    "duration": 0,
    "start_time": "2022-06-24T21:47:07.805Z"
   },
   {
    "duration": 0,
    "start_time": "2022-06-24T21:47:07.806Z"
   },
   {
    "duration": 0,
    "start_time": "2022-06-24T21:47:07.807Z"
   },
   {
    "duration": 0,
    "start_time": "2022-06-24T21:47:07.808Z"
   },
   {
    "duration": 0,
    "start_time": "2022-06-24T21:47:07.809Z"
   },
   {
    "duration": 0,
    "start_time": "2022-06-24T21:47:07.811Z"
   },
   {
    "duration": 0,
    "start_time": "2022-06-24T21:47:07.811Z"
   },
   {
    "duration": 0,
    "start_time": "2022-06-24T21:47:07.812Z"
   },
   {
    "duration": 0,
    "start_time": "2022-06-24T21:47:07.814Z"
   },
   {
    "duration": 0,
    "start_time": "2022-06-24T21:47:07.815Z"
   },
   {
    "duration": 0,
    "start_time": "2022-06-24T21:47:07.867Z"
   },
   {
    "duration": 0,
    "start_time": "2022-06-24T21:47:07.868Z"
   },
   {
    "duration": 0,
    "start_time": "2022-06-24T21:47:07.869Z"
   },
   {
    "duration": 0,
    "start_time": "2022-06-24T21:47:07.870Z"
   },
   {
    "duration": 1,
    "start_time": "2022-06-24T21:47:07.871Z"
   },
   {
    "duration": 0,
    "start_time": "2022-06-24T21:47:07.873Z"
   },
   {
    "duration": 0,
    "start_time": "2022-06-24T21:47:07.874Z"
   },
   {
    "duration": 0,
    "start_time": "2022-06-24T21:47:07.875Z"
   },
   {
    "duration": 0,
    "start_time": "2022-06-24T21:47:07.876Z"
   },
   {
    "duration": 0,
    "start_time": "2022-06-24T21:47:07.877Z"
   },
   {
    "duration": 0,
    "start_time": "2022-06-24T21:47:07.878Z"
   },
   {
    "duration": 0,
    "start_time": "2022-06-24T21:47:07.879Z"
   },
   {
    "duration": 0,
    "start_time": "2022-06-24T21:47:07.880Z"
   },
   {
    "duration": 0,
    "start_time": "2022-06-24T21:47:07.881Z"
   },
   {
    "duration": 1385,
    "start_time": "2022-06-24T21:47:59.449Z"
   },
   {
    "duration": 3,
    "start_time": "2022-06-24T21:48:00.836Z"
   },
   {
    "duration": 22,
    "start_time": "2022-06-24T21:48:00.840Z"
   },
   {
    "duration": 5877,
    "start_time": "2022-06-24T21:48:00.864Z"
   },
   {
    "duration": 227,
    "start_time": "2022-06-24T21:48:06.743Z"
   },
   {
    "duration": 41,
    "start_time": "2022-06-24T21:48:06.972Z"
   },
   {
    "duration": 44,
    "start_time": "2022-06-24T21:48:07.015Z"
   },
   {
    "duration": 44,
    "start_time": "2022-06-24T21:48:07.061Z"
   },
   {
    "duration": 1634,
    "start_time": "2022-06-24T21:48:07.107Z"
   },
   {
    "duration": 301,
    "start_time": "2022-06-24T21:48:08.743Z"
   },
   {
    "duration": 1242,
    "start_time": "2022-06-24T21:48:09.045Z"
   },
   {
    "duration": 119,
    "start_time": "2022-06-24T21:48:10.289Z"
   },
   {
    "duration": 179,
    "start_time": "2022-06-24T21:48:10.410Z"
   },
   {
    "duration": 153,
    "start_time": "2022-06-24T21:48:10.591Z"
   },
   {
    "duration": 213,
    "start_time": "2022-06-24T21:48:10.745Z"
   },
   {
    "duration": 122,
    "start_time": "2022-06-24T21:48:10.960Z"
   },
   {
    "duration": 201,
    "start_time": "2022-06-24T21:48:11.083Z"
   },
   {
    "duration": 124,
    "start_time": "2022-06-24T21:48:11.286Z"
   },
   {
    "duration": 193,
    "start_time": "2022-06-24T21:48:11.411Z"
   },
   {
    "duration": 130,
    "start_time": "2022-06-24T21:48:11.606Z"
   },
   {
    "duration": 210,
    "start_time": "2022-06-24T21:48:11.738Z"
   },
   {
    "duration": 129,
    "start_time": "2022-06-24T21:48:11.950Z"
   },
   {
    "duration": 48475,
    "start_time": "2022-06-24T21:48:12.080Z"
   },
   {
    "duration": 12,
    "start_time": "2022-06-24T21:49:00.557Z"
   },
   {
    "duration": 58,
    "start_time": "2022-06-24T21:49:00.571Z"
   },
   {
    "duration": 43,
    "start_time": "2022-06-24T21:49:00.631Z"
   },
   {
    "duration": 23,
    "start_time": "2022-06-24T21:49:00.676Z"
   },
   {
    "duration": 120,
    "start_time": "2022-06-24T21:49:00.703Z"
   },
   {
    "duration": 0,
    "start_time": "2022-06-24T21:49:00.824Z"
   },
   {
    "duration": 0,
    "start_time": "2022-06-24T21:49:00.825Z"
   },
   {
    "duration": 0,
    "start_time": "2022-06-24T21:49:00.826Z"
   },
   {
    "duration": 0,
    "start_time": "2022-06-24T21:49:00.828Z"
   },
   {
    "duration": 0,
    "start_time": "2022-06-24T21:49:00.829Z"
   },
   {
    "duration": 0,
    "start_time": "2022-06-24T21:49:00.830Z"
   },
   {
    "duration": 0,
    "start_time": "2022-06-24T21:49:00.831Z"
   },
   {
    "duration": 0,
    "start_time": "2022-06-24T21:49:00.832Z"
   },
   {
    "duration": 0,
    "start_time": "2022-06-24T21:49:00.833Z"
   },
   {
    "duration": 0,
    "start_time": "2022-06-24T21:49:00.834Z"
   },
   {
    "duration": 0,
    "start_time": "2022-06-24T21:49:00.835Z"
   },
   {
    "duration": 0,
    "start_time": "2022-06-24T21:49:00.836Z"
   },
   {
    "duration": 0,
    "start_time": "2022-06-24T21:49:00.837Z"
   },
   {
    "duration": 0,
    "start_time": "2022-06-24T21:49:00.838Z"
   },
   {
    "duration": 0,
    "start_time": "2022-06-24T21:49:00.839Z"
   },
   {
    "duration": 0,
    "start_time": "2022-06-24T21:49:00.841Z"
   },
   {
    "duration": 0,
    "start_time": "2022-06-24T21:49:00.841Z"
   },
   {
    "duration": 0,
    "start_time": "2022-06-24T21:49:00.842Z"
   },
   {
    "duration": 0,
    "start_time": "2022-06-24T21:49:00.868Z"
   },
   {
    "duration": 0,
    "start_time": "2022-06-24T21:49:00.869Z"
   },
   {
    "duration": 0,
    "start_time": "2022-06-24T21:49:00.870Z"
   },
   {
    "duration": 0,
    "start_time": "2022-06-24T21:49:00.870Z"
   },
   {
    "duration": 0,
    "start_time": "2022-06-24T21:49:00.871Z"
   },
   {
    "duration": 0,
    "start_time": "2022-06-24T21:49:00.872Z"
   },
   {
    "duration": 0,
    "start_time": "2022-06-24T21:49:00.873Z"
   },
   {
    "duration": 0,
    "start_time": "2022-06-24T21:49:00.874Z"
   },
   {
    "duration": 0,
    "start_time": "2022-06-24T21:49:00.876Z"
   },
   {
    "duration": 0,
    "start_time": "2022-06-24T21:49:00.877Z"
   },
   {
    "duration": 0,
    "start_time": "2022-06-24T21:49:00.878Z"
   },
   {
    "duration": 0,
    "start_time": "2022-06-24T21:49:00.879Z"
   },
   {
    "duration": 0,
    "start_time": "2022-06-24T21:49:00.880Z"
   },
   {
    "duration": 0,
    "start_time": "2022-06-24T21:49:00.881Z"
   },
   {
    "duration": 0,
    "start_time": "2022-06-24T21:49:00.882Z"
   },
   {
    "duration": 0,
    "start_time": "2022-06-24T21:49:00.883Z"
   },
   {
    "duration": 0,
    "start_time": "2022-06-24T21:49:00.884Z"
   },
   {
    "duration": 0,
    "start_time": "2022-06-24T21:49:00.885Z"
   },
   {
    "duration": 0,
    "start_time": "2022-06-24T21:49:00.886Z"
   },
   {
    "duration": 0,
    "start_time": "2022-06-24T21:49:00.887Z"
   },
   {
    "duration": 0,
    "start_time": "2022-06-24T21:49:00.888Z"
   },
   {
    "duration": 0,
    "start_time": "2022-06-24T21:49:00.889Z"
   },
   {
    "duration": 49,
    "start_time": "2022-06-24T21:51:07.934Z"
   },
   {
    "duration": 38,
    "start_time": "2022-06-24T21:51:08.859Z"
   },
   {
    "duration": 41,
    "start_time": "2022-06-24T21:51:09.235Z"
   },
   {
    "duration": 14,
    "start_time": "2022-06-24T21:51:09.717Z"
   },
   {
    "duration": 122,
    "start_time": "2022-06-24T21:51:10.802Z"
   },
   {
    "duration": 22,
    "start_time": "2022-06-24T21:51:11.348Z"
   },
   {
    "duration": 7,
    "start_time": "2022-06-24T21:51:11.731Z"
   },
   {
    "duration": 26,
    "start_time": "2022-06-24T21:51:12.307Z"
   },
   {
    "duration": 22,
    "start_time": "2022-06-24T21:51:12.785Z"
   },
   {
    "duration": 10,
    "start_time": "2022-06-24T21:51:13.889Z"
   },
   {
    "duration": 32,
    "start_time": "2022-06-24T21:51:16.058Z"
   },
   {
    "duration": 1948,
    "start_time": "2022-06-24T21:51:19.104Z"
   },
   {
    "duration": 4,
    "start_time": "2022-06-24T21:51:21.054Z"
   },
   {
    "duration": 308,
    "start_time": "2022-06-24T21:51:21.060Z"
   },
   {
    "duration": 219,
    "start_time": "2022-06-24T21:51:23.642Z"
   },
   {
    "duration": 4,
    "start_time": "2022-06-24T21:51:23.889Z"
   },
   {
    "duration": 37,
    "start_time": "2022-06-24T21:51:24.104Z"
   },
   {
    "duration": 1073,
    "start_time": "2022-06-24T21:51:24.763Z"
   },
   {
    "duration": 3,
    "start_time": "2022-06-24T21:51:25.838Z"
   },
   {
    "duration": 87,
    "start_time": "2022-06-24T21:51:25.843Z"
   },
   {
    "duration": 20,
    "start_time": "2022-06-24T21:51:27.020Z"
   },
   {
    "duration": 1069,
    "start_time": "2022-06-24T21:51:28.101Z"
   },
   {
    "duration": 38,
    "start_time": "2022-06-24T21:51:29.174Z"
   },
   {
    "duration": 527,
    "start_time": "2022-06-24T21:51:29.572Z"
   },
   {
    "duration": 166,
    "start_time": "2022-06-24T21:51:30.224Z"
   },
   {
    "duration": 153,
    "start_time": "2022-06-24T21:51:35.718Z"
   },
   {
    "duration": 81,
    "start_time": "2022-06-24T21:51:36.730Z"
   },
   {
    "duration": 3,
    "start_time": "2022-06-24T21:51:37.346Z"
   },
   {
    "duration": 3,
    "start_time": "2022-06-24T21:51:37.604Z"
   },
   {
    "duration": 3,
    "start_time": "2022-06-24T21:51:37.842Z"
   },
   {
    "duration": 3,
    "start_time": "2022-06-24T21:51:38.122Z"
   },
   {
    "duration": 6,
    "start_time": "2022-06-24T21:51:46.605Z"
   },
   {
    "duration": 2224,
    "start_time": "2022-06-24T21:52:18.257Z"
   },
   {
    "duration": 3,
    "start_time": "2022-06-24T21:52:21.399Z"
   },
   {
    "duration": 144,
    "start_time": "2022-06-24T21:52:22.426Z"
   },
   {
    "duration": 160,
    "start_time": "2022-06-24T21:52:41.016Z"
   },
   {
    "duration": 80,
    "start_time": "2022-06-24T21:52:42.709Z"
   },
   {
    "duration": 3,
    "start_time": "2022-06-24T21:52:42.837Z"
   },
   {
    "duration": 3,
    "start_time": "2022-06-24T21:52:43.695Z"
   },
   {
    "duration": 6,
    "start_time": "2022-06-24T21:52:46.362Z"
   },
   {
    "duration": 2125,
    "start_time": "2022-06-24T21:52:59.246Z"
   },
   {
    "duration": 4,
    "start_time": "2022-06-24T21:53:01.373Z"
   },
   {
    "duration": 289,
    "start_time": "2022-06-24T21:53:01.379Z"
   },
   {
    "duration": 145,
    "start_time": "2022-06-24T21:53:11.638Z"
   },
   {
    "duration": 92,
    "start_time": "2022-06-24T21:53:12.286Z"
   },
   {
    "duration": 3,
    "start_time": "2022-06-24T21:53:12.639Z"
   },
   {
    "duration": 3,
    "start_time": "2022-06-24T21:53:12.951Z"
   },
   {
    "duration": 6,
    "start_time": "2022-06-24T21:53:15.183Z"
   },
   {
    "duration": 8,
    "start_time": "2022-06-24T21:54:43.494Z"
   },
   {
    "duration": 6,
    "start_time": "2022-06-24T21:55:03.214Z"
   },
   {
    "duration": 4,
    "start_time": "2022-06-24T21:55:28.644Z"
   },
   {
    "duration": 4,
    "start_time": "2022-06-24T21:55:44.180Z"
   },
   {
    "duration": 4,
    "start_time": "2022-06-24T21:55:56.973Z"
   },
   {
    "duration": 6,
    "start_time": "2022-06-24T21:56:56.611Z"
   },
   {
    "duration": 201,
    "start_time": "2022-06-24T21:56:59.728Z"
   },
   {
    "duration": 6,
    "start_time": "2022-06-24T21:57:00.282Z"
   },
   {
    "duration": 187,
    "start_time": "2022-06-24T21:57:01.318Z"
   },
   {
    "duration": 5,
    "start_time": "2022-06-24T21:57:01.688Z"
   },
   {
    "duration": 197,
    "start_time": "2022-06-24T21:57:02.150Z"
   },
   {
    "duration": 6,
    "start_time": "2022-06-24T21:57:03.545Z"
   },
   {
    "duration": 197,
    "start_time": "2022-06-24T21:57:04.302Z"
   },
   {
    "duration": 6,
    "start_time": "2022-06-24T21:57:04.795Z"
   },
   {
    "duration": 9,
    "start_time": "2022-06-24T21:57:05.647Z"
   },
   {
    "duration": 181,
    "start_time": "2022-06-24T21:57:06.432Z"
   },
   {
    "duration": 130,
    "start_time": "2022-06-24T22:10:06.351Z"
   },
   {
    "duration": 112,
    "start_time": "2022-06-24T22:10:13.780Z"
   },
   {
    "duration": 41465,
    "start_time": "2022-06-24T22:10:19.118Z"
   },
   {
    "duration": 1337,
    "start_time": "2022-06-24T22:30:19.003Z"
   },
   {
    "duration": 3,
    "start_time": "2022-06-24T22:30:20.342Z"
   },
   {
    "duration": 7,
    "start_time": "2022-06-24T22:30:20.347Z"
   },
   {
    "duration": 5747,
    "start_time": "2022-06-24T22:30:20.356Z"
   },
   {
    "duration": 210,
    "start_time": "2022-06-24T22:30:26.105Z"
   },
   {
    "duration": 38,
    "start_time": "2022-06-24T22:30:26.317Z"
   },
   {
    "duration": 41,
    "start_time": "2022-06-24T22:30:26.357Z"
   },
   {
    "duration": 43,
    "start_time": "2022-06-24T22:30:26.399Z"
   },
   {
    "duration": 4744,
    "start_time": "2022-06-24T22:30:26.445Z"
   },
   {
    "duration": 276,
    "start_time": "2022-06-24T22:30:31.191Z"
   },
   {
    "duration": 1239,
    "start_time": "2022-06-24T22:30:31.469Z"
   },
   {
    "duration": 135,
    "start_time": "2022-06-24T22:30:32.710Z"
   },
   {
    "duration": 178,
    "start_time": "2022-06-24T22:30:32.847Z"
   },
   {
    "duration": 174,
    "start_time": "2022-06-24T22:30:33.027Z"
   },
   {
    "duration": 206,
    "start_time": "2022-06-24T22:30:33.203Z"
   },
   {
    "duration": 133,
    "start_time": "2022-06-24T22:30:33.411Z"
   },
   {
    "duration": 197,
    "start_time": "2022-06-24T22:30:33.546Z"
   },
   {
    "duration": 132,
    "start_time": "2022-06-24T22:30:33.745Z"
   },
   {
    "duration": 192,
    "start_time": "2022-06-24T22:30:33.879Z"
   },
   {
    "duration": 160,
    "start_time": "2022-06-24T22:30:34.073Z"
   },
   {
    "duration": 208,
    "start_time": "2022-06-24T22:30:34.234Z"
   },
   {
    "duration": 143,
    "start_time": "2022-06-24T22:30:34.443Z"
   },
   {
    "duration": 34343,
    "start_time": "2022-06-24T22:30:34.588Z"
   },
   {
    "duration": 18,
    "start_time": "2022-06-24T22:31:08.933Z"
   },
   {
    "duration": 102,
    "start_time": "2022-06-24T22:31:08.967Z"
   },
   {
    "duration": 79,
    "start_time": "2022-06-24T22:31:09.071Z"
   },
   {
    "duration": 185,
    "start_time": "2022-06-24T22:31:53.524Z"
   },
   {
    "duration": 68,
    "start_time": "2022-06-24T22:33:13.695Z"
   },
   {
    "duration": 75,
    "start_time": "2022-06-24T22:33:24.693Z"
   },
   {
    "duration": 70,
    "start_time": "2022-06-24T22:33:31.505Z"
   },
   {
    "duration": 72,
    "start_time": "2022-06-24T22:33:35.967Z"
   },
   {
    "duration": 23,
    "start_time": "2022-06-24T22:34:52.970Z"
   },
   {
    "duration": 43,
    "start_time": "2022-06-24T22:35:19.335Z"
   },
   {
    "duration": 43,
    "start_time": "2022-06-24T22:35:46.137Z"
   },
   {
    "duration": 27,
    "start_time": "2022-06-24T22:35:49.928Z"
   },
   {
    "duration": 72,
    "start_time": "2022-06-24T22:35:51.940Z"
   },
   {
    "duration": 17,
    "start_time": "2022-06-24T22:38:44.572Z"
   },
   {
    "duration": 10,
    "start_time": "2022-06-24T22:38:50.249Z"
   },
   {
    "duration": 3,
    "start_time": "2022-06-24T22:44:10.302Z"
   },
   {
    "duration": 100,
    "start_time": "2022-06-24T22:44:11.069Z"
   },
   {
    "duration": 71,
    "start_time": "2022-06-24T22:44:23.286Z"
   },
   {
    "duration": 1336,
    "start_time": "2022-06-24T22:44:38.878Z"
   },
   {
    "duration": 3,
    "start_time": "2022-06-24T22:44:40.216Z"
   },
   {
    "duration": 9,
    "start_time": "2022-06-24T22:44:40.220Z"
   },
   {
    "duration": 1419,
    "start_time": "2022-06-24T22:45:21.230Z"
   },
   {
    "duration": 3,
    "start_time": "2022-06-24T22:45:22.651Z"
   },
   {
    "duration": 8,
    "start_time": "2022-06-24T22:45:22.656Z"
   },
   {
    "duration": 5663,
    "start_time": "2022-06-24T22:45:22.668Z"
   },
   {
    "duration": 239,
    "start_time": "2022-06-24T22:45:28.333Z"
   },
   {
    "duration": 44,
    "start_time": "2022-06-24T22:45:28.574Z"
   },
   {
    "duration": 46,
    "start_time": "2022-06-24T22:45:28.620Z"
   },
   {
    "duration": 48,
    "start_time": "2022-06-24T22:45:28.668Z"
   },
   {
    "duration": 4767,
    "start_time": "2022-06-24T22:45:28.718Z"
   },
   {
    "duration": 277,
    "start_time": "2022-06-24T22:45:33.488Z"
   },
   {
    "duration": 1253,
    "start_time": "2022-06-24T22:45:33.767Z"
   },
   {
    "duration": 128,
    "start_time": "2022-06-24T22:45:35.022Z"
   },
   {
    "duration": 184,
    "start_time": "2022-06-24T22:45:35.151Z"
   },
   {
    "duration": 167,
    "start_time": "2022-06-24T22:45:35.337Z"
   },
   {
    "duration": 208,
    "start_time": "2022-06-24T22:45:35.506Z"
   },
   {
    "duration": 128,
    "start_time": "2022-06-24T22:45:35.716Z"
   },
   {
    "duration": 201,
    "start_time": "2022-06-24T22:45:35.846Z"
   },
   {
    "duration": 127,
    "start_time": "2022-06-24T22:45:36.049Z"
   },
   {
    "duration": 188,
    "start_time": "2022-06-24T22:45:36.178Z"
   },
   {
    "duration": 150,
    "start_time": "2022-06-24T22:45:36.369Z"
   },
   {
    "duration": 209,
    "start_time": "2022-06-24T22:45:36.521Z"
   },
   {
    "duration": 138,
    "start_time": "2022-06-24T22:45:36.732Z"
   },
   {
    "duration": 43975,
    "start_time": "2022-06-24T22:45:36.872Z"
   },
   {
    "duration": 12,
    "start_time": "2022-06-24T22:46:20.849Z"
   },
   {
    "duration": 80,
    "start_time": "2022-06-24T22:46:20.867Z"
   },
   {
    "duration": 80,
    "start_time": "2022-06-24T22:46:20.949Z"
   },
   {
    "duration": 41,
    "start_time": "2022-06-24T22:46:21.030Z"
   },
   {
    "duration": 2,
    "start_time": "2022-06-24T22:46:21.074Z"
   },
   {
    "duration": 109,
    "start_time": "2022-06-24T22:46:21.078Z"
   },
   {
    "duration": 27,
    "start_time": "2022-06-24T22:46:21.188Z"
   },
   {
    "duration": 79,
    "start_time": "2022-06-24T22:46:21.217Z"
   },
   {
    "duration": 165,
    "start_time": "2022-06-24T22:48:34.603Z"
   },
   {
    "duration": 41,
    "start_time": "2022-06-24T22:48:37.592Z"
   },
   {
    "duration": 2,
    "start_time": "2022-06-24T22:48:50.721Z"
   },
   {
    "duration": 91,
    "start_time": "2022-06-24T22:48:51.161Z"
   },
   {
    "duration": 23,
    "start_time": "2022-06-24T22:48:51.727Z"
   },
   {
    "duration": 33,
    "start_time": "2022-06-24T22:48:52.160Z"
   },
   {
    "duration": 39,
    "start_time": "2022-06-24T22:48:54.223Z"
   },
   {
    "duration": 11,
    "start_time": "2022-06-24T22:48:57.410Z"
   },
   {
    "duration": 67,
    "start_time": "2022-06-24T22:49:00.489Z"
   },
   {
    "duration": 9,
    "start_time": "2022-06-24T22:49:01.194Z"
   },
   {
    "duration": 7,
    "start_time": "2022-06-24T22:49:01.938Z"
   },
   {
    "duration": 5,
    "start_time": "2022-06-24T22:49:02.528Z"
   },
   {
    "duration": 9,
    "start_time": "2022-06-24T22:49:03.137Z"
   },
   {
    "duration": 7,
    "start_time": "2022-06-24T22:49:03.555Z"
   },
   {
    "duration": 15,
    "start_time": "2022-06-24T22:49:04.641Z"
   },
   {
    "duration": 1089,
    "start_time": "2022-06-24T22:49:13.727Z"
   },
   {
    "duration": 3,
    "start_time": "2022-06-24T22:49:15.511Z"
   },
   {
    "duration": 130,
    "start_time": "2022-06-24T22:49:15.739Z"
   },
   {
    "duration": 126,
    "start_time": "2022-06-24T22:49:24.256Z"
   },
   {
    "duration": 4,
    "start_time": "2022-06-24T22:49:24.608Z"
   },
   {
    "duration": 32,
    "start_time": "2022-06-24T22:49:24.903Z"
   },
   {
    "duration": 877,
    "start_time": "2022-06-24T22:49:27.735Z"
   },
   {
    "duration": 3,
    "start_time": "2022-06-24T22:49:28.614Z"
   },
   {
    "duration": 67,
    "start_time": "2022-06-24T22:49:29.426Z"
   },
   {
    "duration": 21,
    "start_time": "2022-06-24T22:49:31.544Z"
   },
   {
    "duration": 482,
    "start_time": "2022-06-24T22:49:32.065Z"
   },
   {
    "duration": 9,
    "start_time": "2022-06-24T22:49:32.598Z"
   },
   {
    "duration": 429,
    "start_time": "2022-06-24T22:50:05.008Z"
   },
   {
    "duration": 13,
    "start_time": "2022-06-24T22:51:12.859Z"
   },
   {
    "duration": 16,
    "start_time": "2022-06-24T22:51:39.433Z"
   },
   {
    "duration": 9,
    "start_time": "2022-06-24T22:51:54.883Z"
   },
   {
    "duration": 13,
    "start_time": "2022-06-24T22:51:59.138Z"
   },
   {
    "duration": 17,
    "start_time": "2022-06-24T22:52:28.884Z"
   },
   {
    "duration": 11,
    "start_time": "2022-06-24T22:53:18.243Z"
   },
   {
    "duration": 10,
    "start_time": "2022-06-24T22:53:22.985Z"
   },
   {
    "duration": 10,
    "start_time": "2022-06-24T22:53:31.312Z"
   },
   {
    "duration": 1322,
    "start_time": "2022-06-24T22:55:51.005Z"
   },
   {
    "duration": 3,
    "start_time": "2022-06-24T22:55:52.329Z"
   },
   {
    "duration": 18,
    "start_time": "2022-06-24T22:55:52.334Z"
   },
   {
    "duration": 5043,
    "start_time": "2022-06-24T22:55:52.354Z"
   },
   {
    "duration": 233,
    "start_time": "2022-06-24T22:55:57.399Z"
   },
   {
    "duration": 43,
    "start_time": "2022-06-24T22:55:57.634Z"
   },
   {
    "duration": 44,
    "start_time": "2022-06-24T22:55:57.678Z"
   },
   {
    "duration": 48,
    "start_time": "2022-06-24T22:55:57.723Z"
   },
   {
    "duration": 1622,
    "start_time": "2022-06-24T22:55:57.773Z"
   },
   {
    "duration": 293,
    "start_time": "2022-06-24T22:55:59.398Z"
   },
   {
    "duration": 1254,
    "start_time": "2022-06-24T22:55:59.692Z"
   },
   {
    "duration": 124,
    "start_time": "2022-06-24T22:56:00.947Z"
   },
   {
    "duration": 197,
    "start_time": "2022-06-24T22:56:01.073Z"
   },
   {
    "duration": 161,
    "start_time": "2022-06-24T22:56:01.271Z"
   },
   {
    "duration": 215,
    "start_time": "2022-06-24T22:56:01.434Z"
   },
   {
    "duration": 135,
    "start_time": "2022-06-24T22:56:01.651Z"
   },
   {
    "duration": 207,
    "start_time": "2022-06-24T22:56:01.787Z"
   },
   {
    "duration": 123,
    "start_time": "2022-06-24T22:56:01.995Z"
   },
   {
    "duration": 187,
    "start_time": "2022-06-24T22:56:02.120Z"
   },
   {
    "duration": 139,
    "start_time": "2022-06-24T22:56:02.309Z"
   },
   {
    "duration": 209,
    "start_time": "2022-06-24T22:56:02.449Z"
   },
   {
    "duration": 142,
    "start_time": "2022-06-24T22:56:02.660Z"
   },
   {
    "duration": 40562,
    "start_time": "2022-06-24T22:56:02.803Z"
   },
   {
    "duration": 13,
    "start_time": "2022-06-24T22:56:43.366Z"
   },
   {
    "duration": 89,
    "start_time": "2022-06-24T22:56:43.381Z"
   },
   {
    "duration": 71,
    "start_time": "2022-06-24T22:56:43.471Z"
   },
   {
    "duration": 40,
    "start_time": "2022-06-24T22:56:43.544Z"
   },
   {
    "duration": 4,
    "start_time": "2022-06-24T22:56:43.587Z"
   },
   {
    "duration": 211,
    "start_time": "2022-06-24T22:56:43.592Z"
   },
   {
    "duration": 25,
    "start_time": "2022-06-24T22:57:01.234Z"
   },
   {
    "duration": 72,
    "start_time": "2022-06-24T22:57:02.007Z"
   },
   {
    "duration": 73,
    "start_time": "2022-06-24T22:57:05.121Z"
   },
   {
    "duration": 12,
    "start_time": "2022-06-24T22:57:29.277Z"
   },
   {
    "duration": 15,
    "start_time": "2022-06-24T22:57:47.369Z"
   },
   {
    "duration": 16,
    "start_time": "2022-06-24T22:58:00.876Z"
   },
   {
    "duration": 141,
    "start_time": "2022-06-24T22:58:01.877Z"
   },
   {
    "duration": 22,
    "start_time": "2022-06-24T22:58:05.511Z"
   },
   {
    "duration": 8,
    "start_time": "2022-06-24T22:58:06.008Z"
   },
   {
    "duration": 20,
    "start_time": "2022-06-24T22:58:06.873Z"
   },
   {
    "duration": 21,
    "start_time": "2022-06-24T22:58:07.287Z"
   },
   {
    "duration": 10,
    "start_time": "2022-06-24T22:58:07.628Z"
   },
   {
    "duration": 32,
    "start_time": "2022-06-24T22:58:08.677Z"
   },
   {
    "duration": 3022,
    "start_time": "2022-06-24T22:58:11.197Z"
   },
   {
    "duration": 3,
    "start_time": "2022-06-24T22:58:14.221Z"
   },
   {
    "duration": 243,
    "start_time": "2022-06-24T22:58:14.225Z"
   },
   {
    "duration": 314,
    "start_time": "2022-06-24T22:58:14.470Z"
   },
   {
    "duration": 3,
    "start_time": "2022-06-24T22:58:14.786Z"
   },
   {
    "duration": 39,
    "start_time": "2022-06-24T22:58:14.794Z"
   },
   {
    "duration": 1085,
    "start_time": "2022-06-24T22:58:15.916Z"
   },
   {
    "duration": 3,
    "start_time": "2022-06-24T22:58:17.003Z"
   },
   {
    "duration": 72,
    "start_time": "2022-06-24T22:58:20.683Z"
   },
   {
    "duration": 18,
    "start_time": "2022-06-24T22:58:23.650Z"
   },
   {
    "duration": 1056,
    "start_time": "2022-06-24T22:58:24.095Z"
   },
   {
    "duration": 31,
    "start_time": "2022-06-24T22:58:25.153Z"
   },
   {
    "duration": 403,
    "start_time": "2022-06-24T22:58:29.896Z"
   },
   {
    "duration": 168,
    "start_time": "2022-06-24T22:58:37.431Z"
   },
   {
    "duration": 161,
    "start_time": "2022-06-24T22:58:38.916Z"
   },
   {
    "duration": 82,
    "start_time": "2022-06-24T22:58:40.157Z"
   },
   {
    "duration": 3,
    "start_time": "2022-06-24T22:58:40.772Z"
   },
   {
    "duration": 3,
    "start_time": "2022-06-24T22:58:41.342Z"
   },
   {
    "duration": 3,
    "start_time": "2022-06-24T22:58:42.198Z"
   },
   {
    "duration": 3,
    "start_time": "2022-06-24T22:58:42.630Z"
   },
   {
    "duration": 6,
    "start_time": "2022-06-24T22:58:43.035Z"
   },
   {
    "duration": 56,
    "start_time": "2022-06-24T23:02:08.840Z"
   },
   {
    "duration": 108,
    "start_time": "2022-06-24T23:02:30.007Z"
   },
   {
    "duration": 71,
    "start_time": "2022-06-24T23:02:37.092Z"
   },
   {
    "duration": 70,
    "start_time": "2022-06-24T23:02:39.664Z"
   },
   {
    "duration": 1432,
    "start_time": "2022-06-24T23:02:57.245Z"
   },
   {
    "duration": 3,
    "start_time": "2022-06-24T23:02:58.680Z"
   },
   {
    "duration": 23,
    "start_time": "2022-06-24T23:02:58.684Z"
   },
   {
    "duration": 6253,
    "start_time": "2022-06-24T23:02:58.709Z"
   },
   {
    "duration": 240,
    "start_time": "2022-06-24T23:03:04.963Z"
   },
   {
    "duration": 42,
    "start_time": "2022-06-24T23:03:05.204Z"
   },
   {
    "duration": 44,
    "start_time": "2022-06-24T23:03:05.247Z"
   },
   {
    "duration": 46,
    "start_time": "2022-06-24T23:03:05.292Z"
   },
   {
    "duration": 1585,
    "start_time": "2022-06-24T23:03:05.339Z"
   },
   {
    "duration": 265,
    "start_time": "2022-06-24T23:03:06.927Z"
   },
   {
    "duration": 1285,
    "start_time": "2022-06-24T23:03:07.193Z"
   },
   {
    "duration": 120,
    "start_time": "2022-06-24T23:03:08.479Z"
   },
   {
    "duration": 185,
    "start_time": "2022-06-24T23:03:08.600Z"
   },
   {
    "duration": 176,
    "start_time": "2022-06-24T23:03:08.786Z"
   },
   {
    "duration": 207,
    "start_time": "2022-06-24T23:03:08.967Z"
   },
   {
    "duration": 128,
    "start_time": "2022-06-24T23:03:09.176Z"
   },
   {
    "duration": 203,
    "start_time": "2022-06-24T23:03:09.305Z"
   },
   {
    "duration": 128,
    "start_time": "2022-06-24T23:03:09.510Z"
   },
   {
    "duration": 188,
    "start_time": "2022-06-24T23:03:09.639Z"
   },
   {
    "duration": 127,
    "start_time": "2022-06-24T23:03:09.828Z"
   },
   {
    "duration": 215,
    "start_time": "2022-06-24T23:03:09.957Z"
   },
   {
    "duration": 131,
    "start_time": "2022-06-24T23:03:10.174Z"
   },
   {
    "duration": 53326,
    "start_time": "2022-06-24T23:03:10.307Z"
   },
   {
    "duration": 14,
    "start_time": "2022-06-24T23:04:03.635Z"
   },
   {
    "duration": 83,
    "start_time": "2022-06-24T23:04:03.650Z"
   },
   {
    "duration": 76,
    "start_time": "2022-06-24T23:04:03.735Z"
   },
   {
    "duration": 33,
    "start_time": "2022-06-24T23:04:03.813Z"
   },
   {
    "duration": 106,
    "start_time": "2022-06-24T23:04:03.850Z"
   },
   {
    "duration": 44,
    "start_time": "2022-06-24T23:04:03.957Z"
   },
   {
    "duration": 73,
    "start_time": "2022-06-24T23:04:04.003Z"
   },
   {
    "duration": 118,
    "start_time": "2022-06-24T23:04:04.078Z"
   },
   {
    "duration": 71,
    "start_time": "2022-06-24T23:04:04.198Z"
   },
   {
    "duration": 303,
    "start_time": "2022-06-24T23:04:04.271Z"
   },
   {
    "duration": 22,
    "start_time": "2022-06-24T23:04:04.576Z"
   },
   {
    "duration": 13,
    "start_time": "2022-06-24T23:04:04.601Z"
   },
   {
    "duration": 31,
    "start_time": "2022-06-24T23:04:04.667Z"
   },
   {
    "duration": 79,
    "start_time": "2022-06-24T23:04:04.700Z"
   },
   {
    "duration": 23,
    "start_time": "2022-06-24T23:04:04.781Z"
   },
   {
    "duration": 75,
    "start_time": "2022-06-24T23:04:04.805Z"
   },
   {
    "duration": 2488,
    "start_time": "2022-06-24T23:04:04.882Z"
   },
   {
    "duration": 4,
    "start_time": "2022-06-24T23:04:07.372Z"
   },
   {
    "duration": 299,
    "start_time": "2022-06-24T23:04:07.377Z"
   },
   {
    "duration": 324,
    "start_time": "2022-06-24T23:04:07.677Z"
   },
   {
    "duration": 3,
    "start_time": "2022-06-24T23:04:08.003Z"
   },
   {
    "duration": 41,
    "start_time": "2022-06-24T23:04:08.007Z"
   },
   {
    "duration": 1048,
    "start_time": "2022-06-24T23:04:08.050Z"
   },
   {
    "duration": 3,
    "start_time": "2022-06-24T23:04:09.100Z"
   },
   {
    "duration": 83,
    "start_time": "2022-06-24T23:04:09.104Z"
   },
   {
    "duration": 19,
    "start_time": "2022-06-24T23:04:09.188Z"
   },
   {
    "duration": 1100,
    "start_time": "2022-06-24T23:04:09.209Z"
   },
   {
    "duration": 29,
    "start_time": "2022-06-24T23:04:10.310Z"
   },
   {
    "duration": 451,
    "start_time": "2022-06-24T23:04:10.340Z"
   },
   {
    "duration": 176,
    "start_time": "2022-06-24T23:04:10.793Z"
   },
   {
    "duration": 204,
    "start_time": "2022-06-24T23:04:10.971Z"
   },
   {
    "duration": 92,
    "start_time": "2022-06-24T23:04:11.177Z"
   },
   {
    "duration": 3,
    "start_time": "2022-06-24T23:04:11.270Z"
   },
   {
    "duration": 13,
    "start_time": "2022-06-24T23:04:11.274Z"
   },
   {
    "duration": 5,
    "start_time": "2022-06-24T23:04:11.288Z"
   },
   {
    "duration": 16,
    "start_time": "2022-06-24T23:04:11.295Z"
   },
   {
    "duration": 8,
    "start_time": "2022-06-24T23:04:11.312Z"
   },
   {
    "duration": 200,
    "start_time": "2022-06-24T23:04:11.322Z"
   },
   {
    "duration": 5,
    "start_time": "2022-06-24T23:04:11.524Z"
   },
   {
    "duration": 205,
    "start_time": "2022-06-24T23:04:11.531Z"
   },
   {
    "duration": 5,
    "start_time": "2022-06-24T23:04:11.738Z"
   },
   {
    "duration": 210,
    "start_time": "2022-06-24T23:04:11.744Z"
   },
   {
    "duration": 13,
    "start_time": "2022-06-24T23:04:11.956Z"
   },
   {
    "duration": 211,
    "start_time": "2022-06-24T23:04:11.970Z"
   },
   {
    "duration": 7,
    "start_time": "2022-06-24T23:04:12.183Z"
   },
   {
    "duration": 27,
    "start_time": "2022-06-24T23:04:12.191Z"
   },
   {
    "duration": 187,
    "start_time": "2022-06-24T23:04:12.219Z"
   },
   {
    "duration": 602,
    "start_time": "2022-06-24T23:04:48.235Z"
   },
   {
    "duration": 21821,
    "start_time": "2022-06-24T23:05:54.698Z"
   },
   {
    "duration": 16,
    "start_time": "2022-06-24T23:06:21.801Z"
   },
   {
    "duration": 10,
    "start_time": "2022-06-24T23:06:39.650Z"
   },
   {
    "duration": 1557,
    "start_time": "2022-06-24T23:07:37.870Z"
   },
   {
    "duration": 1308,
    "start_time": "2022-06-24T23:07:49.993Z"
   },
   {
    "duration": 3,
    "start_time": "2022-06-24T23:07:51.303Z"
   },
   {
    "duration": 6,
    "start_time": "2022-06-24T23:07:51.307Z"
   },
   {
    "duration": 5365,
    "start_time": "2022-06-24T23:07:51.315Z"
   },
   {
    "duration": 221,
    "start_time": "2022-06-24T23:07:56.682Z"
   },
   {
    "duration": 38,
    "start_time": "2022-06-24T23:07:56.904Z"
   },
   {
    "duration": 40,
    "start_time": "2022-06-24T23:07:56.944Z"
   },
   {
    "duration": 43,
    "start_time": "2022-06-24T23:07:56.985Z"
   },
   {
    "duration": 1624,
    "start_time": "2022-06-24T23:07:57.029Z"
   },
   {
    "duration": 276,
    "start_time": "2022-06-24T23:07:58.655Z"
   },
   {
    "duration": 1252,
    "start_time": "2022-06-24T23:07:58.933Z"
   },
   {
    "duration": 118,
    "start_time": "2022-06-24T23:08:00.186Z"
   },
   {
    "duration": 179,
    "start_time": "2022-06-24T23:08:00.305Z"
   },
   {
    "duration": 157,
    "start_time": "2022-06-24T23:08:00.485Z"
   },
   {
    "duration": 210,
    "start_time": "2022-06-24T23:08:00.643Z"
   },
   {
    "duration": 124,
    "start_time": "2022-06-24T23:08:00.855Z"
   },
   {
    "duration": 210,
    "start_time": "2022-06-24T23:08:00.980Z"
   },
   {
    "duration": 119,
    "start_time": "2022-06-24T23:08:01.192Z"
   },
   {
    "duration": 192,
    "start_time": "2022-06-24T23:08:01.313Z"
   },
   {
    "duration": 138,
    "start_time": "2022-06-24T23:08:01.506Z"
   },
   {
    "duration": 211,
    "start_time": "2022-06-24T23:08:01.646Z"
   },
   {
    "duration": 142,
    "start_time": "2022-06-24T23:08:01.859Z"
   },
   {
    "duration": 48383,
    "start_time": "2022-06-24T23:08:02.002Z"
   },
   {
    "duration": 13,
    "start_time": "2022-06-24T23:08:50.387Z"
   },
   {
    "duration": 92,
    "start_time": "2022-06-24T23:08:50.402Z"
   },
   {
    "duration": 78,
    "start_time": "2022-06-24T23:08:50.495Z"
   },
   {
    "duration": 32,
    "start_time": "2022-06-24T23:08:50.574Z"
   },
   {
    "duration": 114,
    "start_time": "2022-06-24T23:08:50.609Z"
   },
   {
    "duration": 43,
    "start_time": "2022-06-24T23:08:50.724Z"
   },
   {
    "duration": 64,
    "start_time": "2022-06-24T23:08:50.769Z"
   },
   {
    "duration": 77,
    "start_time": "2022-06-24T23:08:50.835Z"
   },
   {
    "duration": 15,
    "start_time": "2022-06-24T23:08:50.914Z"
   },
   {
    "duration": 159,
    "start_time": "2022-06-24T23:08:50.930Z"
   },
   {
    "duration": 20,
    "start_time": "2022-06-24T23:08:51.091Z"
   },
   {
    "duration": 14,
    "start_time": "2022-06-24T23:08:51.112Z"
   },
   {
    "duration": 39,
    "start_time": "2022-06-24T23:08:51.128Z"
   },
   {
    "duration": 20,
    "start_time": "2022-06-24T23:08:51.169Z"
   },
   {
    "duration": 22,
    "start_time": "2022-06-24T23:08:51.190Z"
   },
   {
    "duration": 42,
    "start_time": "2022-06-24T23:08:51.214Z"
   },
   {
    "duration": 1783,
    "start_time": "2022-06-24T23:08:51.258Z"
   },
   {
    "duration": 3,
    "start_time": "2022-06-24T23:08:53.042Z"
   },
   {
    "duration": 226,
    "start_time": "2022-06-24T23:08:53.046Z"
   },
   {
    "duration": 302,
    "start_time": "2022-06-24T23:08:53.274Z"
   },
   {
    "duration": 4,
    "start_time": "2022-06-24T23:08:53.578Z"
   },
   {
    "duration": 57,
    "start_time": "2022-06-24T23:08:53.583Z"
   },
   {
    "duration": 940,
    "start_time": "2022-06-24T23:08:53.642Z"
   },
   {
    "duration": 3,
    "start_time": "2022-06-24T23:08:54.584Z"
   },
   {
    "duration": 101,
    "start_time": "2022-06-24T23:08:54.588Z"
   },
   {
    "duration": 19,
    "start_time": "2022-06-24T23:08:54.691Z"
   },
   {
    "duration": 964,
    "start_time": "2022-06-24T23:08:54.711Z"
   },
   {
    "duration": 30,
    "start_time": "2022-06-24T23:08:55.676Z"
   },
   {
    "duration": 1769,
    "start_time": "2022-06-24T23:08:55.708Z"
   },
   {
    "duration": 482,
    "start_time": "2022-06-24T23:08:57.479Z"
   },
   {
    "duration": 537,
    "start_time": "2022-06-24T23:08:57.963Z"
   },
   {
    "duration": 171,
    "start_time": "2022-06-24T23:08:58.502Z"
   },
   {
    "duration": 196,
    "start_time": "2022-06-24T23:08:58.675Z"
   },
   {
    "duration": 110,
    "start_time": "2022-06-24T23:08:58.874Z"
   },
   {
    "duration": 3,
    "start_time": "2022-06-24T23:08:58.986Z"
   },
   {
    "duration": 22,
    "start_time": "2022-06-24T23:08:58.991Z"
   },
   {
    "duration": 17,
    "start_time": "2022-06-24T23:08:59.015Z"
   },
   {
    "duration": 23,
    "start_time": "2022-06-24T23:08:59.033Z"
   },
   {
    "duration": 17,
    "start_time": "2022-06-24T23:08:59.057Z"
   },
   {
    "duration": 217,
    "start_time": "2022-06-24T23:08:59.076Z"
   },
   {
    "duration": 6,
    "start_time": "2022-06-24T23:08:59.295Z"
   },
   {
    "duration": 206,
    "start_time": "2022-06-24T23:08:59.303Z"
   },
   {
    "duration": 5,
    "start_time": "2022-06-24T23:08:59.510Z"
   },
   {
    "duration": 229,
    "start_time": "2022-06-24T23:08:59.517Z"
   },
   {
    "duration": 6,
    "start_time": "2022-06-24T23:08:59.747Z"
   },
   {
    "duration": 220,
    "start_time": "2022-06-24T23:08:59.754Z"
   },
   {
    "duration": 6,
    "start_time": "2022-06-24T23:08:59.976Z"
   },
   {
    "duration": 36,
    "start_time": "2022-06-24T23:08:59.983Z"
   },
   {
    "duration": 219,
    "start_time": "2022-06-24T23:09:00.021Z"
   },
   {
    "duration": 24,
    "start_time": "2022-06-24T23:12:41.226Z"
   },
   {
    "duration": 22,
    "start_time": "2022-06-24T23:12:49.881Z"
   },
   {
    "duration": 5,
    "start_time": "2022-06-24T23:13:06.951Z"
   },
   {
    "duration": 6,
    "start_time": "2022-06-24T23:14:00.358Z"
   },
   {
    "duration": 5,
    "start_time": "2022-06-24T23:14:05.083Z"
   },
   {
    "duration": 5,
    "start_time": "2022-06-24T23:14:21.575Z"
   },
   {
    "duration": 3,
    "start_time": "2022-06-24T23:15:12.051Z"
   },
   {
    "duration": 3,
    "start_time": "2022-06-24T23:15:25.298Z"
   },
   {
    "duration": 51462,
    "start_time": "2022-06-24T23:29:12.850Z"
   },
   {
    "duration": 406,
    "start_time": "2022-06-24T23:30:54.920Z"
   },
   {
    "duration": 1349,
    "start_time": "2022-06-24T23:39:25.128Z"
   },
   {
    "duration": 2,
    "start_time": "2022-06-24T23:39:26.479Z"
   },
   {
    "duration": 5,
    "start_time": "2022-06-24T23:39:26.483Z"
   },
   {
    "duration": 5645,
    "start_time": "2022-06-24T23:39:26.489Z"
   },
   {
    "duration": 214,
    "start_time": "2022-06-24T23:39:32.136Z"
   },
   {
    "duration": 38,
    "start_time": "2022-06-24T23:39:32.352Z"
   },
   {
    "duration": 40,
    "start_time": "2022-06-24T23:39:32.391Z"
   },
   {
    "duration": 42,
    "start_time": "2022-06-24T23:39:32.433Z"
   },
   {
    "duration": 4842,
    "start_time": "2022-06-24T23:39:32.476Z"
   },
   {
    "duration": 269,
    "start_time": "2022-06-24T23:39:37.321Z"
   },
   {
    "duration": 1232,
    "start_time": "2022-06-24T23:39:37.592Z"
   },
   {
    "duration": 161,
    "start_time": "2022-06-24T23:39:38.826Z"
   },
   {
    "duration": 175,
    "start_time": "2022-06-24T23:39:38.988Z"
   },
   {
    "duration": 154,
    "start_time": "2022-06-24T23:39:39.165Z"
   },
   {
    "duration": 201,
    "start_time": "2022-06-24T23:39:39.321Z"
   },
   {
    "duration": 126,
    "start_time": "2022-06-24T23:39:39.524Z"
   },
   {
    "duration": 220,
    "start_time": "2022-06-24T23:39:39.651Z"
   },
   {
    "duration": 133,
    "start_time": "2022-06-24T23:39:39.872Z"
   },
   {
    "duration": 187,
    "start_time": "2022-06-24T23:39:40.006Z"
   },
   {
    "duration": 127,
    "start_time": "2022-06-24T23:39:40.195Z"
   },
   {
    "duration": 207,
    "start_time": "2022-06-24T23:39:40.323Z"
   },
   {
    "duration": 128,
    "start_time": "2022-06-24T23:39:40.532Z"
   },
   {
    "duration": 54629,
    "start_time": "2022-06-24T23:39:40.661Z"
   },
   {
    "duration": 12,
    "start_time": "2022-06-24T23:40:35.292Z"
   },
   {
    "duration": 88,
    "start_time": "2022-06-24T23:40:35.306Z"
   },
   {
    "duration": 77,
    "start_time": "2022-06-24T23:40:35.396Z"
   },
   {
    "duration": 32,
    "start_time": "2022-06-24T23:40:35.475Z"
   },
   {
    "duration": 131,
    "start_time": "2022-06-24T23:40:35.511Z"
   },
   {
    "duration": 47,
    "start_time": "2022-06-24T23:40:35.643Z"
   },
   {
    "duration": 79,
    "start_time": "2022-06-24T23:40:35.692Z"
   },
   {
    "duration": 73,
    "start_time": "2022-06-24T23:40:35.773Z"
   },
   {
    "duration": 32,
    "start_time": "2022-06-24T23:40:35.848Z"
   },
   {
    "duration": 153,
    "start_time": "2022-06-24T23:40:35.882Z"
   },
   {
    "duration": 22,
    "start_time": "2022-06-24T23:40:36.037Z"
   },
   {
    "duration": 7,
    "start_time": "2022-06-24T23:40:36.068Z"
   },
   {
    "duration": 29,
    "start_time": "2022-06-24T23:40:36.077Z"
   },
   {
    "duration": 22,
    "start_time": "2022-06-24T23:40:36.108Z"
   },
   {
    "duration": 38,
    "start_time": "2022-06-24T23:40:36.132Z"
   },
   {
    "duration": 33,
    "start_time": "2022-06-24T23:40:36.172Z"
   },
   {
    "duration": 247,
    "start_time": "2022-06-24T23:40:36.206Z"
   },
   {
    "duration": 3,
    "start_time": "2022-06-24T23:40:36.455Z"
   },
   {
    "duration": 46,
    "start_time": "2022-06-24T23:40:36.460Z"
   },
   {
    "duration": 1045,
    "start_time": "2022-06-24T23:40:36.507Z"
   },
   {
    "duration": 13,
    "start_time": "2022-06-24T23:40:37.554Z"
   },
   {
    "duration": 77,
    "start_time": "2022-06-24T23:40:37.569Z"
   },
   {
    "duration": 33,
    "start_time": "2022-06-24T23:40:37.649Z"
   },
   {
    "duration": 926,
    "start_time": "2022-06-24T23:40:37.684Z"
   },
   {
    "duration": 32,
    "start_time": "2022-06-24T23:40:38.612Z"
   },
   {
    "duration": 139,
    "start_time": "2022-06-24T23:40:38.646Z"
   },
   {
    "duration": 180,
    "start_time": "2022-06-24T23:40:38.787Z"
   },
   {
    "duration": 35,
    "start_time": "2022-06-24T23:40:38.970Z"
   },
   {
    "duration": 71,
    "start_time": "2022-06-24T23:40:39.007Z"
   },
   {
    "duration": 3,
    "start_time": "2022-06-24T23:40:39.080Z"
   },
   {
    "duration": 5,
    "start_time": "2022-06-24T23:40:39.085Z"
   },
   {
    "duration": 7,
    "start_time": "2022-06-24T23:40:39.091Z"
   },
   {
    "duration": 223,
    "start_time": "2022-06-24T23:40:39.099Z"
   },
   {
    "duration": 6,
    "start_time": "2022-06-24T23:40:39.323Z"
   },
   {
    "duration": 235,
    "start_time": "2022-06-24T23:40:39.331Z"
   },
   {
    "duration": 6,
    "start_time": "2022-06-24T23:40:39.568Z"
   },
   {
    "duration": 220,
    "start_time": "2022-06-24T23:40:39.576Z"
   },
   {
    "duration": 5,
    "start_time": "2022-06-24T23:40:39.798Z"
   },
   {
    "duration": 10,
    "start_time": "2022-06-24T23:40:39.805Z"
   },
   {
    "duration": 210,
    "start_time": "2022-06-24T23:40:39.817Z"
   },
   {
    "duration": 1357,
    "start_time": "2022-06-24T23:43:27.819Z"
   },
   {
    "duration": 3,
    "start_time": "2022-06-24T23:43:29.178Z"
   },
   {
    "duration": 7,
    "start_time": "2022-06-24T23:43:29.184Z"
   },
   {
    "duration": 5568,
    "start_time": "2022-06-24T23:43:29.193Z"
   },
   {
    "duration": 220,
    "start_time": "2022-06-24T23:43:34.762Z"
   },
   {
    "duration": 40,
    "start_time": "2022-06-24T23:43:34.983Z"
   },
   {
    "duration": 40,
    "start_time": "2022-06-24T23:43:35.024Z"
   },
   {
    "duration": 43,
    "start_time": "2022-06-24T23:43:35.066Z"
   },
   {
    "duration": 4371,
    "start_time": "2022-06-24T23:43:35.111Z"
   },
   {
    "duration": 260,
    "start_time": "2022-06-24T23:43:39.485Z"
   },
   {
    "duration": 1255,
    "start_time": "2022-06-24T23:43:39.746Z"
   },
   {
    "duration": 115,
    "start_time": "2022-06-24T23:43:41.002Z"
   },
   {
    "duration": 182,
    "start_time": "2022-06-24T23:43:41.119Z"
   },
   {
    "duration": 156,
    "start_time": "2022-06-24T23:43:41.303Z"
   },
   {
    "duration": 204,
    "start_time": "2022-06-24T23:43:41.461Z"
   },
   {
    "duration": 127,
    "start_time": "2022-06-24T23:43:41.667Z"
   },
   {
    "duration": 199,
    "start_time": "2022-06-24T23:43:41.796Z"
   },
   {
    "duration": 121,
    "start_time": "2022-06-24T23:43:41.998Z"
   },
   {
    "duration": 185,
    "start_time": "2022-06-24T23:43:42.120Z"
   },
   {
    "duration": 124,
    "start_time": "2022-06-24T23:43:42.306Z"
   },
   {
    "duration": 206,
    "start_time": "2022-06-24T23:43:42.432Z"
   },
   {
    "duration": 122,
    "start_time": "2022-06-24T23:43:42.640Z"
   },
   {
    "duration": 31923,
    "start_time": "2022-06-24T23:43:42.766Z"
   },
   {
    "duration": 14,
    "start_time": "2022-06-24T23:44:14.691Z"
   },
   {
    "duration": 91,
    "start_time": "2022-06-24T23:44:14.708Z"
   },
   {
    "duration": 78,
    "start_time": "2022-06-24T23:44:14.801Z"
   },
   {
    "duration": 32,
    "start_time": "2022-06-24T23:44:14.881Z"
   },
   {
    "duration": 119,
    "start_time": "2022-06-24T23:44:14.917Z"
   },
   {
    "duration": 45,
    "start_time": "2022-06-24T23:44:15.038Z"
   },
   {
    "duration": 68,
    "start_time": "2022-06-24T23:44:15.085Z"
   },
   {
    "duration": 79,
    "start_time": "2022-06-24T23:44:15.155Z"
   },
   {
    "duration": 31,
    "start_time": "2022-06-24T23:44:15.236Z"
   },
   {
    "duration": 150,
    "start_time": "2022-06-24T23:44:15.269Z"
   },
   {
    "duration": 21,
    "start_time": "2022-06-24T23:44:15.421Z"
   },
   {
    "duration": 23,
    "start_time": "2022-06-24T23:44:15.444Z"
   },
   {
    "duration": 30,
    "start_time": "2022-06-24T23:44:15.469Z"
   },
   {
    "duration": 22,
    "start_time": "2022-06-24T23:44:15.501Z"
   },
   {
    "duration": 17,
    "start_time": "2022-06-24T23:44:15.525Z"
   },
   {
    "duration": 48,
    "start_time": "2022-06-24T23:44:15.544Z"
   },
   {
    "duration": 218,
    "start_time": "2022-06-24T23:44:55.193Z"
   },
   {
    "duration": 4,
    "start_time": "2022-06-24T23:44:59.898Z"
   },
   {
    "duration": 122,
    "start_time": "2022-06-24T23:45:01.938Z"
   },
   {
    "duration": 4,
    "start_time": "2022-06-24T23:45:22.786Z"
   },
   {
    "duration": 13,
    "start_time": "2022-06-24T23:45:36.698Z"
   },
   {
    "duration": 18,
    "start_time": "2022-06-24T23:45:56.426Z"
   },
   {
    "duration": 3,
    "start_time": "2022-06-24T23:46:00.071Z"
   },
   {
    "duration": 35,
    "start_time": "2022-06-24T23:48:34.542Z"
   },
   {
    "duration": 3,
    "start_time": "2022-06-24T23:48:50.274Z"
   },
   {
    "duration": 37,
    "start_time": "2022-06-24T23:49:55.366Z"
   },
   {
    "duration": 4,
    "start_time": "2022-06-24T23:50:01.451Z"
   },
   {
    "duration": 996,
    "start_time": "2022-06-24T23:50:06.195Z"
   },
   {
    "duration": 3,
    "start_time": "2022-06-24T23:50:09.341Z"
   },
   {
    "duration": 10,
    "start_time": "2022-06-24T23:50:31.087Z"
   },
   {
    "duration": 40,
    "start_time": "2022-06-24T23:51:02.387Z"
   },
   {
    "duration": 71,
    "start_time": "2022-06-24T23:51:13.562Z"
   },
   {
    "duration": 1385,
    "start_time": "2022-06-24T23:51:24.056Z"
   },
   {
    "duration": 3,
    "start_time": "2022-06-24T23:51:25.443Z"
   },
   {
    "duration": 5,
    "start_time": "2022-06-24T23:51:25.447Z"
   },
   {
    "duration": 6370,
    "start_time": "2022-06-24T23:51:25.453Z"
   },
   {
    "duration": 242,
    "start_time": "2022-06-24T23:51:31.826Z"
   },
   {
    "duration": 44,
    "start_time": "2022-06-24T23:51:32.070Z"
   },
   {
    "duration": 44,
    "start_time": "2022-06-24T23:51:32.116Z"
   },
   {
    "duration": 47,
    "start_time": "2022-06-24T23:51:32.162Z"
   },
   {
    "duration": 1602,
    "start_time": "2022-06-24T23:51:32.211Z"
   },
   {
    "duration": 265,
    "start_time": "2022-06-24T23:51:33.815Z"
   },
   {
    "duration": 1246,
    "start_time": "2022-06-24T23:51:34.081Z"
   },
   {
    "duration": 128,
    "start_time": "2022-06-24T23:51:35.328Z"
   },
   {
    "duration": 181,
    "start_time": "2022-06-24T23:51:35.458Z"
   },
   {
    "duration": 163,
    "start_time": "2022-06-24T23:51:35.642Z"
   },
   {
    "duration": 219,
    "start_time": "2022-06-24T23:51:35.807Z"
   },
   {
    "duration": 129,
    "start_time": "2022-06-24T23:51:36.027Z"
   },
   {
    "duration": 201,
    "start_time": "2022-06-24T23:51:36.158Z"
   },
   {
    "duration": 129,
    "start_time": "2022-06-24T23:51:36.361Z"
   },
   {
    "duration": 195,
    "start_time": "2022-06-24T23:51:36.492Z"
   },
   {
    "duration": 134,
    "start_time": "2022-06-24T23:51:36.689Z"
   },
   {
    "duration": 215,
    "start_time": "2022-06-24T23:51:36.825Z"
   },
   {
    "duration": 135,
    "start_time": "2022-06-24T23:51:37.042Z"
   },
   {
    "duration": 32569,
    "start_time": "2022-06-24T23:51:37.179Z"
   },
   {
    "duration": 18,
    "start_time": "2022-06-24T23:52:09.750Z"
   },
   {
    "duration": 86,
    "start_time": "2022-06-24T23:52:09.770Z"
   },
   {
    "duration": 83,
    "start_time": "2022-06-24T23:52:09.867Z"
   },
   {
    "duration": 42,
    "start_time": "2022-06-24T23:52:09.953Z"
   },
   {
    "duration": 128,
    "start_time": "2022-06-24T23:52:09.997Z"
   },
   {
    "duration": 45,
    "start_time": "2022-06-24T23:52:10.127Z"
   },
   {
    "duration": 73,
    "start_time": "2022-06-24T23:52:10.174Z"
   },
   {
    "duration": 85,
    "start_time": "2022-06-24T23:52:10.248Z"
   },
   {
    "duration": 15,
    "start_time": "2022-06-24T23:52:10.335Z"
   },
   {
    "duration": 159,
    "start_time": "2022-06-24T23:52:10.351Z"
   },
   {
    "duration": 20,
    "start_time": "2022-06-24T23:52:10.512Z"
   },
   {
    "duration": 13,
    "start_time": "2022-06-24T23:52:10.534Z"
   },
   {
    "duration": 35,
    "start_time": "2022-06-24T23:52:10.548Z"
   },
   {
    "duration": 21,
    "start_time": "2022-06-24T23:52:10.585Z"
   },
   {
    "duration": 12,
    "start_time": "2022-06-24T23:52:10.607Z"
   },
   {
    "duration": 49,
    "start_time": "2022-06-24T23:52:10.620Z"
   },
   {
    "duration": 233,
    "start_time": "2022-06-24T23:52:10.671Z"
   },
   {
    "duration": 4,
    "start_time": "2022-06-24T23:52:10.908Z"
   },
   {
    "duration": 40,
    "start_time": "2022-06-24T23:52:10.913Z"
   },
   {
    "duration": 1000,
    "start_time": "2022-06-24T23:52:10.954Z"
   },
   {
    "duration": 3,
    "start_time": "2022-06-24T23:52:11.955Z"
   },
   {
    "duration": 68,
    "start_time": "2022-06-24T23:52:11.966Z"
   },
   {
    "duration": 33,
    "start_time": "2022-06-24T23:52:12.035Z"
   },
   {
    "duration": 891,
    "start_time": "2022-06-24T23:52:12.070Z"
   },
   {
    "duration": 14,
    "start_time": "2022-06-24T23:52:12.962Z"
   },
   {
    "duration": 29,
    "start_time": "2022-06-24T23:52:12.977Z"
   },
   {
    "duration": 143,
    "start_time": "2022-06-24T23:52:13.007Z"
   },
   {
    "duration": 161,
    "start_time": "2022-06-24T23:52:13.152Z"
   },
   {
    "duration": 33,
    "start_time": "2022-06-24T23:52:13.314Z"
   },
   {
    "duration": 65,
    "start_time": "2022-06-24T23:52:13.348Z"
   },
   {
    "duration": 3,
    "start_time": "2022-06-24T23:52:13.414Z"
   },
   {
    "duration": 7,
    "start_time": "2022-06-24T23:52:13.419Z"
   },
   {
    "duration": 7,
    "start_time": "2022-06-24T23:52:13.428Z"
   },
   {
    "duration": 221,
    "start_time": "2022-06-24T23:52:13.437Z"
   },
   {
    "duration": 11,
    "start_time": "2022-06-24T23:52:13.659Z"
   },
   {
    "duration": 209,
    "start_time": "2022-06-24T23:52:13.671Z"
   },
   {
    "duration": 6,
    "start_time": "2022-06-24T23:52:13.881Z"
   },
   {
    "duration": 213,
    "start_time": "2022-06-24T23:52:13.889Z"
   },
   {
    "duration": 6,
    "start_time": "2022-06-24T23:52:14.103Z"
   },
   {
    "duration": 9,
    "start_time": "2022-06-24T23:52:14.111Z"
   },
   {
    "duration": 197,
    "start_time": "2022-06-24T23:52:14.122Z"
   },
   {
    "duration": 207,
    "start_time": "2022-06-24T23:52:23.436Z"
   },
   {
    "duration": 181,
    "start_time": "2022-06-24T23:52:50.577Z"
   },
   {
    "duration": 289,
    "start_time": "2022-06-24T23:52:59.324Z"
   },
   {
    "duration": 229,
    "start_time": "2022-06-24T23:54:58.349Z"
   },
   {
    "duration": 107,
    "start_time": "2022-06-24T23:55:35.727Z"
   },
   {
    "duration": 9,
    "start_time": "2022-06-24T23:56:26.686Z"
   },
   {
    "duration": 172,
    "start_time": "2022-06-24T23:56:34.284Z"
   },
   {
    "duration": 9,
    "start_time": "2022-06-24T23:57:04.444Z"
   },
   {
    "duration": 9,
    "start_time": "2022-06-24T23:57:20.243Z"
   },
   {
    "duration": 208,
    "start_time": "2022-06-24T23:57:50.379Z"
   },
   {
    "duration": 10,
    "start_time": "2022-06-24T23:57:54.815Z"
   },
   {
    "duration": 180,
    "start_time": "2022-06-24T23:58:07.769Z"
   },
   {
    "duration": 178,
    "start_time": "2022-06-24T23:58:14.705Z"
   },
   {
    "duration": 6,
    "start_time": "2022-06-25T00:13:49.961Z"
   },
   {
    "duration": 5,
    "start_time": "2022-06-25T00:14:09.865Z"
   },
   {
    "duration": 123,
    "start_time": "2022-06-25T00:17:04.699Z"
   },
   {
    "duration": 20962,
    "start_time": "2022-06-25T00:17:44.748Z"
   },
   {
    "duration": 17634,
    "start_time": "2022-06-25T00:18:23.944Z"
   },
   {
    "duration": 8,
    "start_time": "2022-06-25T00:21:08.386Z"
   },
   {
    "duration": 376,
    "start_time": "2022-06-25T00:23:52.445Z"
   },
   {
    "duration": 657,
    "start_time": "2022-06-25T00:24:05.213Z"
   },
   {
    "duration": 21,
    "start_time": "2022-06-25T00:26:12.559Z"
   },
   {
    "duration": 12,
    "start_time": "2022-06-25T00:26:23.335Z"
   },
   {
    "duration": 850,
    "start_time": "2022-06-25T00:27:25.485Z"
   },
   {
    "duration": 769,
    "start_time": "2022-06-25T00:27:36.862Z"
   },
   {
    "duration": 16,
    "start_time": "2022-06-25T00:27:54.773Z"
   },
   {
    "duration": 921,
    "start_time": "2022-06-25T00:29:12.896Z"
   },
   {
    "duration": 907,
    "start_time": "2022-06-25T00:29:31.912Z"
   },
   {
    "duration": 917,
    "start_time": "2022-06-25T00:29:49.842Z"
   },
   {
    "duration": 972,
    "start_time": "2022-06-25T00:29:57.568Z"
   },
   {
    "duration": 4,
    "start_time": "2022-06-25T00:31:14.999Z"
   },
   {
    "duration": 66,
    "start_time": "2022-06-25T00:32:15.132Z"
   },
   {
    "duration": 986,
    "start_time": "2022-06-25T00:32:25.732Z"
   },
   {
    "duration": 913,
    "start_time": "2022-06-25T00:34:42.081Z"
   },
   {
    "duration": 25,
    "start_time": "2022-06-25T00:37:44.959Z"
   },
   {
    "duration": 314,
    "start_time": "2022-06-25T00:38:04.120Z"
   },
   {
    "duration": 10,
    "start_time": "2022-06-25T00:49:19.629Z"
   },
   {
    "duration": 226,
    "start_time": "2022-06-25T00:49:27.251Z"
   },
   {
    "duration": 277,
    "start_time": "2022-06-25T00:49:59.519Z"
   },
   {
    "duration": 283,
    "start_time": "2022-06-25T00:50:24.976Z"
   },
   {
    "duration": 263,
    "start_time": "2022-06-25T00:52:06.983Z"
   },
   {
    "duration": 199,
    "start_time": "2022-06-25T00:52:33.739Z"
   },
   {
    "duration": 186,
    "start_time": "2022-06-25T00:53:37.532Z"
   },
   {
    "duration": 187,
    "start_time": "2022-06-25T00:54:45.409Z"
   },
   {
    "duration": 180,
    "start_time": "2022-06-25T00:56:27.502Z"
   },
   {
    "duration": 173,
    "start_time": "2022-06-25T00:56:51.775Z"
   },
   {
    "duration": 230,
    "start_time": "2022-06-25T00:57:18.235Z"
   },
   {
    "duration": 1167,
    "start_time": "2022-06-25T01:05:03.472Z"
   },
   {
    "duration": 28,
    "start_time": "2022-06-25T01:05:37.762Z"
   },
   {
    "duration": 10,
    "start_time": "2022-06-25T01:05:51.524Z"
   },
   {
    "duration": 3,
    "start_time": "2022-06-25T01:07:17.808Z"
   },
   {
    "duration": 19,
    "start_time": "2022-06-25T01:07:22.384Z"
   },
   {
    "duration": 7,
    "start_time": "2022-06-25T01:07:28.912Z"
   },
   {
    "duration": 21,
    "start_time": "2022-06-25T01:07:51.002Z"
   },
   {
    "duration": 409,
    "start_time": "2022-06-25T01:07:53.159Z"
   },
   {
    "duration": 13,
    "start_time": "2022-06-25T01:08:07.429Z"
   },
   {
    "duration": 661,
    "start_time": "2022-06-25T01:10:06.805Z"
   },
   {
    "duration": 51,
    "start_time": "2022-06-25T01:10:13.411Z"
   },
   {
    "duration": 6,
    "start_time": "2022-06-25T01:10:19.141Z"
   },
   {
    "duration": 8,
    "start_time": "2022-06-25T01:10:26.194Z"
   },
   {
    "duration": 12,
    "start_time": "2022-06-25T01:10:38.779Z"
   },
   {
    "duration": 4,
    "start_time": "2022-06-25T01:11:05.298Z"
   },
   {
    "duration": 4,
    "start_time": "2022-06-25T01:12:02.150Z"
   },
   {
    "duration": 4,
    "start_time": "2022-06-25T01:12:38.078Z"
   },
   {
    "duration": 1398,
    "start_time": "2022-06-25T01:13:28.546Z"
   },
   {
    "duration": 4,
    "start_time": "2022-06-25T01:13:29.946Z"
   },
   {
    "duration": 7,
    "start_time": "2022-06-25T01:13:29.951Z"
   },
   {
    "duration": 6005,
    "start_time": "2022-06-25T01:13:29.959Z"
   },
   {
    "duration": 224,
    "start_time": "2022-06-25T01:13:35.966Z"
   },
   {
    "duration": 40,
    "start_time": "2022-06-25T01:13:36.191Z"
   },
   {
    "duration": 42,
    "start_time": "2022-06-25T01:13:36.232Z"
   },
   {
    "duration": 44,
    "start_time": "2022-06-25T01:13:36.275Z"
   },
   {
    "duration": 1628,
    "start_time": "2022-06-25T01:13:36.321Z"
   },
   {
    "duration": 271,
    "start_time": "2022-06-25T01:13:37.951Z"
   },
   {
    "duration": 1242,
    "start_time": "2022-06-25T01:13:38.224Z"
   },
   {
    "duration": 153,
    "start_time": "2022-06-25T01:13:39.468Z"
   },
   {
    "duration": 179,
    "start_time": "2022-06-25T01:13:39.623Z"
   },
   {
    "duration": 163,
    "start_time": "2022-06-25T01:13:39.806Z"
   },
   {
    "duration": 212,
    "start_time": "2022-06-25T01:13:39.971Z"
   },
   {
    "duration": 127,
    "start_time": "2022-06-25T01:13:40.185Z"
   },
   {
    "duration": 200,
    "start_time": "2022-06-25T01:13:40.313Z"
   },
   {
    "duration": 130,
    "start_time": "2022-06-25T01:13:40.515Z"
   },
   {
    "duration": 189,
    "start_time": "2022-06-25T01:13:40.647Z"
   },
   {
    "duration": 143,
    "start_time": "2022-06-25T01:13:40.838Z"
   },
   {
    "duration": 213,
    "start_time": "2022-06-25T01:13:40.983Z"
   },
   {
    "duration": 138,
    "start_time": "2022-06-25T01:13:41.197Z"
   },
   {
    "duration": 36304,
    "start_time": "2022-06-25T01:13:41.336Z"
   },
   {
    "duration": 14,
    "start_time": "2022-06-25T01:14:17.642Z"
   },
   {
    "duration": 82,
    "start_time": "2022-06-25T01:14:17.667Z"
   },
   {
    "duration": 86,
    "start_time": "2022-06-25T01:14:17.751Z"
   },
   {
    "duration": 43,
    "start_time": "2022-06-25T01:14:17.839Z"
   },
   {
    "duration": 118,
    "start_time": "2022-06-25T01:14:17.884Z"
   },
   {
    "duration": 40,
    "start_time": "2022-06-25T01:14:18.004Z"
   },
   {
    "duration": 77,
    "start_time": "2022-06-25T01:14:18.046Z"
   },
   {
    "duration": 92,
    "start_time": "2022-06-25T01:14:18.125Z"
   },
   {
    "duration": 17,
    "start_time": "2022-06-25T01:14:18.219Z"
   },
   {
    "duration": 170,
    "start_time": "2022-06-25T01:14:18.238Z"
   },
   {
    "duration": 23,
    "start_time": "2022-06-25T01:14:18.410Z"
   },
   {
    "duration": 32,
    "start_time": "2022-06-25T01:14:18.435Z"
   },
   {
    "duration": 28,
    "start_time": "2022-06-25T01:14:18.471Z"
   },
   {
    "duration": 21,
    "start_time": "2022-06-25T01:14:18.501Z"
   },
   {
    "duration": 12,
    "start_time": "2022-06-25T01:14:18.524Z"
   },
   {
    "duration": 57,
    "start_time": "2022-06-25T01:14:18.538Z"
   },
   {
    "duration": 288,
    "start_time": "2022-06-25T01:14:18.597Z"
   },
   {
    "duration": 3,
    "start_time": "2022-06-25T01:14:18.891Z"
   },
   {
    "duration": 47,
    "start_time": "2022-06-25T01:14:18.896Z"
   },
   {
    "duration": 1127,
    "start_time": "2022-06-25T01:14:18.968Z"
   },
   {
    "duration": 4,
    "start_time": "2022-06-25T01:14:20.096Z"
   },
   {
    "duration": 84,
    "start_time": "2022-06-25T01:14:20.101Z"
   },
   {
    "duration": 20,
    "start_time": "2022-06-25T01:14:20.187Z"
   },
   {
    "duration": 1040,
    "start_time": "2022-06-25T01:14:20.209Z"
   },
   {
    "duration": 14,
    "start_time": "2022-06-25T01:14:21.251Z"
   },
   {
    "duration": 33,
    "start_time": "2022-06-25T01:14:21.267Z"
   },
   {
    "duration": 151,
    "start_time": "2022-06-25T01:14:21.301Z"
   },
   {
    "duration": 165,
    "start_time": "2022-06-25T01:14:21.453Z"
   },
   {
    "duration": 47,
    "start_time": "2022-06-25T01:14:21.620Z"
   },
   {
    "duration": 63,
    "start_time": "2022-06-25T01:14:21.669Z"
   },
   {
    "duration": 3,
    "start_time": "2022-06-25T01:14:21.734Z"
   },
   {
    "duration": 5,
    "start_time": "2022-06-25T01:14:21.739Z"
   },
   {
    "duration": 7,
    "start_time": "2022-06-25T01:14:21.745Z"
   },
   {
    "duration": 217,
    "start_time": "2022-06-25T01:14:21.766Z"
   },
   {
    "duration": 6,
    "start_time": "2022-06-25T01:14:21.984Z"
   },
   {
    "duration": 227,
    "start_time": "2022-06-25T01:14:21.991Z"
   },
   {
    "duration": 5,
    "start_time": "2022-06-25T01:14:22.220Z"
   },
   {
    "duration": 227,
    "start_time": "2022-06-25T01:14:22.227Z"
   },
   {
    "duration": 15,
    "start_time": "2022-06-25T01:14:22.455Z"
   },
   {
    "duration": 190,
    "start_time": "2022-06-25T01:14:22.472Z"
   },
   {
    "duration": 184,
    "start_time": "2022-06-25T01:14:22.664Z"
   },
   {
    "duration": 187,
    "start_time": "2022-06-25T01:14:22.850Z"
   },
   {
    "duration": 20,
    "start_time": "2022-06-25T01:16:42.729Z"
   },
   {
    "duration": 1922,
    "start_time": "2022-06-25T01:17:26.247Z"
   },
   {
    "duration": 15,
    "start_time": "2022-06-25T01:17:42.583Z"
   },
   {
    "duration": 8,
    "start_time": "2022-06-25T01:21:41.364Z"
   },
   {
    "duration": 8,
    "start_time": "2022-06-25T01:21:53.995Z"
   },
   {
    "duration": 7,
    "start_time": "2022-06-25T01:22:00.275Z"
   },
   {
    "duration": 22,
    "start_time": "2022-06-25T01:22:12.618Z"
   },
   {
    "duration": 26,
    "start_time": "2022-06-25T01:22:27.624Z"
   },
   {
    "duration": 2746,
    "start_time": "2022-06-25T11:44:17.176Z"
   },
   {
    "duration": 3,
    "start_time": "2022-06-25T11:44:21.155Z"
   },
   {
    "duration": 4,
    "start_time": "2022-06-25T11:44:21.438Z"
   },
   {
    "duration": 9357,
    "start_time": "2022-06-25T11:44:22.732Z"
   },
   {
    "duration": 238,
    "start_time": "2022-06-25T11:46:18.170Z"
   },
   {
    "duration": 42,
    "start_time": "2022-06-25T11:46:19.384Z"
   },
   {
    "duration": 42,
    "start_time": "2022-06-25T11:46:20.270Z"
   },
   {
    "duration": 45,
    "start_time": "2022-06-25T11:46:22.697Z"
   },
   {
    "duration": 1640,
    "start_time": "2022-06-25T11:46:59.004Z"
   },
   {
    "duration": 277,
    "start_time": "2022-06-25T11:47:23.712Z"
   },
   {
    "duration": 6714,
    "start_time": "2022-06-25T11:49:59.971Z"
   },
   {
    "duration": 142,
    "start_time": "2022-06-25T11:50:06.687Z"
   },
   {
    "duration": 1469,
    "start_time": "2022-06-25T12:38:25.394Z"
   },
   {
    "duration": 3,
    "start_time": "2022-06-25T12:38:26.866Z"
   },
   {
    "duration": 9,
    "start_time": "2022-06-25T12:38:26.870Z"
   },
   {
    "duration": 5231,
    "start_time": "2022-06-25T12:38:26.880Z"
   },
   {
    "duration": 219,
    "start_time": "2022-06-25T12:38:32.113Z"
   },
   {
    "duration": 35,
    "start_time": "2022-06-25T12:38:32.334Z"
   },
   {
    "duration": 39,
    "start_time": "2022-06-25T12:38:32.371Z"
   },
   {
    "duration": 39,
    "start_time": "2022-06-25T12:38:32.411Z"
   },
   {
    "duration": 1766,
    "start_time": "2022-06-25T12:38:32.452Z"
   },
   {
    "duration": 469,
    "start_time": "2022-06-25T12:38:49.115Z"
   },
   {
    "duration": 243,
    "start_time": "2022-06-25T12:39:48.819Z"
   },
   {
    "duration": 154,
    "start_time": "2022-06-25T12:40:03.168Z"
   },
   {
    "duration": 69,
    "start_time": "2022-06-25T12:43:54.290Z"
   },
   {
    "duration": 8,
    "start_time": "2022-06-25T12:44:01.739Z"
   },
   {
    "duration": 1422,
    "start_time": "2022-06-25T12:47:23.862Z"
   },
   {
    "duration": 4,
    "start_time": "2022-06-25T12:47:25.286Z"
   },
   {
    "duration": 7,
    "start_time": "2022-06-25T12:47:25.291Z"
   },
   {
    "duration": 183,
    "start_time": "2022-06-25T12:47:25.300Z"
   },
   {
    "duration": 0,
    "start_time": "2022-06-25T12:47:25.487Z"
   },
   {
    "duration": 0,
    "start_time": "2022-06-25T12:47:25.488Z"
   },
   {
    "duration": 0,
    "start_time": "2022-06-25T12:47:25.490Z"
   },
   {
    "duration": 0,
    "start_time": "2022-06-25T12:47:25.491Z"
   },
   {
    "duration": 0,
    "start_time": "2022-06-25T12:47:25.492Z"
   },
   {
    "duration": 0,
    "start_time": "2022-06-25T12:47:25.493Z"
   },
   {
    "duration": 0,
    "start_time": "2022-06-25T12:47:25.494Z"
   },
   {
    "duration": 0,
    "start_time": "2022-06-25T12:47:25.496Z"
   },
   {
    "duration": 0,
    "start_time": "2022-06-25T12:47:25.497Z"
   },
   {
    "duration": 0,
    "start_time": "2022-06-25T12:47:25.499Z"
   },
   {
    "duration": 0,
    "start_time": "2022-06-25T12:47:25.500Z"
   },
   {
    "duration": 0,
    "start_time": "2022-06-25T12:47:25.502Z"
   },
   {
    "duration": 0,
    "start_time": "2022-06-25T12:47:25.504Z"
   },
   {
    "duration": 0,
    "start_time": "2022-06-25T12:47:25.506Z"
   },
   {
    "duration": 0,
    "start_time": "2022-06-25T12:47:25.508Z"
   },
   {
    "duration": 0,
    "start_time": "2022-06-25T12:47:25.511Z"
   },
   {
    "duration": 0,
    "start_time": "2022-06-25T12:47:25.513Z"
   },
   {
    "duration": 0,
    "start_time": "2022-06-25T12:47:25.551Z"
   },
   {
    "duration": 0,
    "start_time": "2022-06-25T12:47:25.552Z"
   },
   {
    "duration": 0,
    "start_time": "2022-06-25T12:47:25.554Z"
   },
   {
    "duration": 0,
    "start_time": "2022-06-25T12:47:25.556Z"
   },
   {
    "duration": 0,
    "start_time": "2022-06-25T12:47:25.557Z"
   },
   {
    "duration": 0,
    "start_time": "2022-06-25T12:47:25.559Z"
   },
   {
    "duration": 0,
    "start_time": "2022-06-25T12:47:25.561Z"
   },
   {
    "duration": 0,
    "start_time": "2022-06-25T12:47:25.562Z"
   },
   {
    "duration": 0,
    "start_time": "2022-06-25T12:47:25.564Z"
   },
   {
    "duration": 0,
    "start_time": "2022-06-25T12:47:25.565Z"
   },
   {
    "duration": 0,
    "start_time": "2022-06-25T12:47:25.567Z"
   },
   {
    "duration": 0,
    "start_time": "2022-06-25T12:47:25.568Z"
   },
   {
    "duration": 0,
    "start_time": "2022-06-25T12:47:25.570Z"
   },
   {
    "duration": 0,
    "start_time": "2022-06-25T12:47:25.571Z"
   },
   {
    "duration": 0,
    "start_time": "2022-06-25T12:47:25.573Z"
   },
   {
    "duration": 0,
    "start_time": "2022-06-25T12:47:25.575Z"
   },
   {
    "duration": 0,
    "start_time": "2022-06-25T12:47:25.575Z"
   },
   {
    "duration": 0,
    "start_time": "2022-06-25T12:47:25.577Z"
   },
   {
    "duration": 0,
    "start_time": "2022-06-25T12:47:25.578Z"
   },
   {
    "duration": 0,
    "start_time": "2022-06-25T12:47:25.579Z"
   },
   {
    "duration": 0,
    "start_time": "2022-06-25T12:47:25.581Z"
   },
   {
    "duration": 0,
    "start_time": "2022-06-25T12:47:25.582Z"
   },
   {
    "duration": 0,
    "start_time": "2022-06-25T12:47:25.583Z"
   },
   {
    "duration": 0,
    "start_time": "2022-06-25T12:47:25.584Z"
   },
   {
    "duration": 0,
    "start_time": "2022-06-25T12:47:25.585Z"
   },
   {
    "duration": 0,
    "start_time": "2022-06-25T12:47:25.586Z"
   },
   {
    "duration": 0,
    "start_time": "2022-06-25T12:47:25.588Z"
   },
   {
    "duration": 0,
    "start_time": "2022-06-25T12:47:25.589Z"
   },
   {
    "duration": 0,
    "start_time": "2022-06-25T12:47:25.651Z"
   },
   {
    "duration": 0,
    "start_time": "2022-06-25T12:47:25.652Z"
   },
   {
    "duration": 0,
    "start_time": "2022-06-25T12:47:25.655Z"
   },
   {
    "duration": 0,
    "start_time": "2022-06-25T12:47:25.656Z"
   },
   {
    "duration": 0,
    "start_time": "2022-06-25T12:47:25.657Z"
   },
   {
    "duration": 0,
    "start_time": "2022-06-25T12:47:25.658Z"
   },
   {
    "duration": 0,
    "start_time": "2022-06-25T12:47:25.659Z"
   },
   {
    "duration": 0,
    "start_time": "2022-06-25T12:47:25.661Z"
   },
   {
    "duration": 0,
    "start_time": "2022-06-25T12:47:25.663Z"
   },
   {
    "duration": 0,
    "start_time": "2022-06-25T12:47:25.664Z"
   },
   {
    "duration": 0,
    "start_time": "2022-06-25T12:47:25.665Z"
   },
   {
    "duration": 0,
    "start_time": "2022-06-25T12:47:25.666Z"
   },
   {
    "duration": 0,
    "start_time": "2022-06-25T12:47:25.667Z"
   },
   {
    "duration": 0,
    "start_time": "2022-06-25T12:47:25.668Z"
   },
   {
    "duration": 0,
    "start_time": "2022-06-25T12:47:25.669Z"
   },
   {
    "duration": 0,
    "start_time": "2022-06-25T12:47:25.670Z"
   },
   {
    "duration": 0,
    "start_time": "2022-06-25T12:47:25.671Z"
   },
   {
    "duration": 1580,
    "start_time": "2022-06-25T12:47:55.761Z"
   },
   {
    "duration": 5,
    "start_time": "2022-06-25T12:47:57.343Z"
   },
   {
    "duration": 16,
    "start_time": "2022-06-25T12:47:57.351Z"
   },
   {
    "duration": 5666,
    "start_time": "2022-06-25T12:47:57.381Z"
   },
   {
    "duration": 254,
    "start_time": "2022-06-25T12:48:03.049Z"
   },
   {
    "duration": 35,
    "start_time": "2022-06-25T12:48:03.305Z"
   },
   {
    "duration": 37,
    "start_time": "2022-06-25T12:48:03.342Z"
   },
   {
    "duration": 39,
    "start_time": "2022-06-25T12:48:03.381Z"
   },
   {
    "duration": 261,
    "start_time": "2022-06-25T12:48:03.422Z"
   },
   {
    "duration": 387,
    "start_time": "2022-06-25T12:48:03.686Z"
   },
   {
    "duration": 3608,
    "start_time": "2022-06-25T12:48:04.075Z"
   },
   {
    "duration": 168,
    "start_time": "2022-06-25T12:48:07.686Z"
   },
   {
    "duration": 178,
    "start_time": "2022-06-25T12:48:07.856Z"
   },
   {
    "duration": 144,
    "start_time": "2022-06-25T12:48:08.036Z"
   },
   {
    "duration": 217,
    "start_time": "2022-06-25T12:48:08.182Z"
   },
   {
    "duration": 145,
    "start_time": "2022-06-25T12:48:08.401Z"
   },
   {
    "duration": 204,
    "start_time": "2022-06-25T12:48:08.549Z"
   },
   {
    "duration": 135,
    "start_time": "2022-06-25T12:48:08.755Z"
   },
   {
    "duration": 186,
    "start_time": "2022-06-25T12:48:08.892Z"
   },
   {
    "duration": 144,
    "start_time": "2022-06-25T12:48:09.080Z"
   },
   {
    "duration": 209,
    "start_time": "2022-06-25T12:48:09.226Z"
   },
   {
    "duration": 194,
    "start_time": "2022-06-25T12:48:09.437Z"
   },
   {
    "duration": 57659,
    "start_time": "2022-06-25T12:48:09.633Z"
   },
   {
    "duration": 12,
    "start_time": "2022-06-25T12:49:07.294Z"
   },
   {
    "duration": 93,
    "start_time": "2022-06-25T12:49:07.307Z"
   },
   {
    "duration": 95,
    "start_time": "2022-06-25T12:49:07.402Z"
   },
   {
    "duration": 34,
    "start_time": "2022-06-25T12:49:07.500Z"
   },
   {
    "duration": 118,
    "start_time": "2022-06-25T12:49:07.535Z"
   },
   {
    "duration": 35,
    "start_time": "2022-06-25T12:49:07.654Z"
   },
   {
    "duration": 75,
    "start_time": "2022-06-25T12:49:07.691Z"
   },
   {
    "duration": 66,
    "start_time": "2022-06-25T12:49:07.767Z"
   },
   {
    "duration": 33,
    "start_time": "2022-06-25T12:49:07.835Z"
   },
   {
    "duration": 146,
    "start_time": "2022-06-25T12:49:07.870Z"
   },
   {
    "duration": 34,
    "start_time": "2022-06-25T12:49:08.018Z"
   },
   {
    "duration": 9,
    "start_time": "2022-06-25T12:49:08.054Z"
   },
   {
    "duration": 26,
    "start_time": "2022-06-25T12:49:08.065Z"
   },
   {
    "duration": 19,
    "start_time": "2022-06-25T12:49:08.093Z"
   },
   {
    "duration": 39,
    "start_time": "2022-06-25T12:49:08.114Z"
   },
   {
    "duration": 28,
    "start_time": "2022-06-25T12:49:08.154Z"
   },
   {
    "duration": 212,
    "start_time": "2022-06-25T12:49:08.184Z"
   },
   {
    "duration": 3,
    "start_time": "2022-06-25T12:49:08.399Z"
   },
   {
    "duration": 37,
    "start_time": "2022-06-25T12:49:08.403Z"
   },
   {
    "duration": 890,
    "start_time": "2022-06-25T12:49:08.451Z"
   },
   {
    "duration": 3,
    "start_time": "2022-06-25T12:49:09.342Z"
   },
   {
    "duration": 72,
    "start_time": "2022-06-25T12:49:09.351Z"
   },
   {
    "duration": 42,
    "start_time": "2022-06-25T12:49:09.425Z"
   },
   {
    "duration": 964,
    "start_time": "2022-06-25T12:49:09.469Z"
   },
   {
    "duration": 19,
    "start_time": "2022-06-25T12:49:10.435Z"
   },
   {
    "duration": 66,
    "start_time": "2022-06-25T12:49:10.456Z"
   },
   {
    "duration": 128,
    "start_time": "2022-06-25T12:49:10.524Z"
   },
   {
    "duration": 160,
    "start_time": "2022-06-25T12:49:10.654Z"
   },
   {
    "duration": 50,
    "start_time": "2022-06-25T12:49:10.816Z"
   },
   {
    "duration": 75,
    "start_time": "2022-06-25T12:49:10.868Z"
   },
   {
    "duration": 6,
    "start_time": "2022-06-25T12:49:10.944Z"
   },
   {
    "duration": 15,
    "start_time": "2022-06-25T12:49:10.952Z"
   },
   {
    "duration": 26,
    "start_time": "2022-06-25T12:49:10.968Z"
   },
   {
    "duration": 231,
    "start_time": "2022-06-25T12:49:10.996Z"
   },
   {
    "duration": 6,
    "start_time": "2022-06-25T12:49:11.229Z"
   },
   {
    "duration": 203,
    "start_time": "2022-06-25T12:49:11.237Z"
   },
   {
    "duration": 12,
    "start_time": "2022-06-25T12:49:11.441Z"
   },
   {
    "duration": 211,
    "start_time": "2022-06-25T12:49:11.455Z"
   },
   {
    "duration": 6,
    "start_time": "2022-06-25T12:49:11.668Z"
   },
   {
    "duration": 165,
    "start_time": "2022-06-25T12:49:11.676Z"
   },
   {
    "duration": 197,
    "start_time": "2022-06-25T12:49:11.843Z"
   },
   {
    "duration": 200,
    "start_time": "2022-06-25T12:49:12.042Z"
   }
  ],
  "kernelspec": {
   "display_name": "Python 3 (ipykernel)",
   "language": "python",
   "name": "python3"
  },
  "language_info": {
   "codemirror_mode": {
    "name": "ipython",
    "version": 3
   },
   "file_extension": ".py",
   "mimetype": "text/x-python",
   "name": "python",
   "nbconvert_exporter": "python",
   "pygments_lexer": "ipython3",
   "version": "3.10.3"
  },
  "toc": {
   "base_numbering": 1,
   "nav_menu": {},
   "number_sections": false,
   "sideBar": true,
   "skip_h1_title": false,
   "title_cell": "Table of Contents",
   "title_sidebar": "Contents",
   "toc_cell": false,
   "toc_position": {},
   "toc_section_display": true,
   "toc_window_display": true
  },
  "varInspector": {
   "cols": {
    "lenName": 16,
    "lenType": 16,
    "lenVar": 40
   },
   "kernels_config": {
    "python": {
     "delete_cmd_postfix": "",
     "delete_cmd_prefix": "del ",
     "library": "var_list.py",
     "varRefreshCmd": "print(var_dic_list())"
    },
    "r": {
     "delete_cmd_postfix": ") ",
     "delete_cmd_prefix": "rm(",
     "library": "var_list.r",
     "varRefreshCmd": "cat(var_dic_list()) "
    }
   },
   "types_to_exclude": [
    "module",
    "function",
    "builtin_function_or_method",
    "instance",
    "_Feature"
   ],
   "window_display": false
  }
 },
 "nbformat": 4,
 "nbformat_minor": 5
}
