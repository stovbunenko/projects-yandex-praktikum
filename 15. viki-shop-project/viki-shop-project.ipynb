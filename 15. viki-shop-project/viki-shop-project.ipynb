{
 "cells": [
  {
   "cell_type": "markdown",
   "metadata": {
    "toc": true
   },
   "source": [
    "<h1>Содержание<span class=\"tocSkip\"></span></h1>\n",
    "<div class=\"toc\"><ul class=\"toc-item\"><li><span><a href=\"#Подготовка\" data-toc-modified-id=\"Подготовка-1\"><span class=\"toc-item-num\">1&nbsp;&nbsp;</span>Подготовка</a></span><ul class=\"toc-item\"><li><span><a href=\"#Вывод\" data-toc-modified-id=\"Вывод-1.1\"><span class=\"toc-item-num\">1.1&nbsp;&nbsp;</span>Вывод</a></span></li></ul></li><li><span><a href=\"#Обучение\" data-toc-modified-id=\"Обучение-2\"><span class=\"toc-item-num\">2&nbsp;&nbsp;</span>Обучение</a></span><ul class=\"toc-item\"><li><span><a href=\"#LogisticRegression\" data-toc-modified-id=\"LogisticRegression-2.1\"><span class=\"toc-item-num\">2.1&nbsp;&nbsp;</span>LogisticRegression</a></span></li><li><span><a href=\"#LGBMClassifier\" data-toc-modified-id=\"LGBMClassifier-2.2\"><span class=\"toc-item-num\">2.2&nbsp;&nbsp;</span>LGBMClassifier</a></span></li></ul></li><li><span><a href=\"#Выводы\" data-toc-modified-id=\"Выводы-3\"><span class=\"toc-item-num\">3&nbsp;&nbsp;</span>Выводы</a></span></li><li><span><a href=\"#Чек-лист-проверки\" data-toc-modified-id=\"Чек-лист-проверки-4\"><span class=\"toc-item-num\">4&nbsp;&nbsp;</span>Чек-лист проверки</a></span></li></ul></div>"
   ]
  },
  {
   "cell_type": "markdown",
   "metadata": {},
   "source": [
    "# Проект для «Викишоп»"
   ]
  },
  {
   "cell_type": "markdown",
   "metadata": {},
   "source": [
    "Интернет-магазин «Викишоп» запускает новый сервис. Теперь пользователи могут редактировать и дополнять описания товаров, как в вики-сообществах. То есть клиенты предлагают свои правки и комментируют изменения других. Магазину нужен инструмент, который будет искать токсичные комментарии и отправлять их на модерацию. \n",
    "\n",
    "Обучите модель классифицировать комментарии на позитивные и негативные. В вашем распоряжении набор данных с разметкой о токсичности правок.\n",
    "\n",
    "Постройте модель со значением метрики качества *F1* не меньше 0.75. \n",
    "\n",
    "**Инструкция по выполнению проекта**\n",
    "\n",
    "1. Загрузите и подготовьте данные.\n",
    "2. Обучите разные модели. \n",
    "3. Сделайте выводы.\n",
    "\n",
    "Для выполнения проекта применять *BERT* необязательно, но вы можете попробовать.\n",
    "\n",
    "**Описание данных**\n",
    "\n",
    "Данные находятся в файле `toxic_comments.csv`. Столбец *text* в нём содержит текст комментария, а *toxic* — целевой признак."
   ]
  },
  {
   "cell_type": "markdown",
   "metadata": {},
   "source": [
    "## Подготовка"
   ]
  },
  {
   "cell_type": "code",
   "execution_count": 1,
   "metadata": {},
   "outputs": [],
   "source": [
    "import pandas as pd \n",
    "import numpy as np \n",
    "\n",
    "from sklearn.pipeline import Pipeline\n",
    "\n",
    "import re\n",
    "import nltk\n",
    "from nltk.corpus import stopwords as nltk_stopwords\n",
    "from nltk.stem import WordNetLemmatizer\n",
    "from tqdm import tqdm\n",
    "from sklearn.feature_extraction.text import TfidfVectorizer, TfidfTransformer\n",
    "\n",
    "from sklearn.model_selection import train_test_split, GridSearchCV\n",
    "\n",
    "from sklearn.linear_model import LogisticRegression\n",
    "from sklearn.ensemble import RandomForestClassifier\n",
    "import lightgbm as lgb\n",
    "from lightgbm import LGBMClassifier \n",
    "from catboost import CatBoostClassifier\n",
    "\n",
    "from sklearn.metrics import f1_score\n",
    "\n",
    "import time\n",
    "import plotly.graph_objects as go\n",
    "import warnings\n",
    "warnings.filterwarnings('ignore')"
   ]
  },
  {
   "cell_type": "code",
   "execution_count": 3,
   "metadata": {},
   "outputs": [
    {
     "data": {
      "text/html": [
       "<div>\n",
       "<style scoped>\n",
       "    .dataframe tbody tr th:only-of-type {\n",
       "        vertical-align: middle;\n",
       "    }\n",
       "\n",
       "    .dataframe tbody tr th {\n",
       "        vertical-align: top;\n",
       "    }\n",
       "\n",
       "    .dataframe thead th {\n",
       "        text-align: right;\n",
       "    }\n",
       "</style>\n",
       "<table border=\"1\" class=\"dataframe\">\n",
       "  <thead>\n",
       "    <tr style=\"text-align: right;\">\n",
       "      <th></th>\n",
       "      <th>text</th>\n",
       "      <th>toxic</th>\n",
       "    </tr>\n",
       "  </thead>\n",
       "  <tbody>\n",
       "    <tr>\n",
       "      <th>0</th>\n",
       "      <td>Explanation\\nWhy the edits made under my usern...</td>\n",
       "      <td>0</td>\n",
       "    </tr>\n",
       "    <tr>\n",
       "      <th>1</th>\n",
       "      <td>D'aww! He matches this background colour I'm s...</td>\n",
       "      <td>0</td>\n",
       "    </tr>\n",
       "    <tr>\n",
       "      <th>2</th>\n",
       "      <td>Hey man, I'm really not trying to edit war. It...</td>\n",
       "      <td>0</td>\n",
       "    </tr>\n",
       "    <tr>\n",
       "      <th>3</th>\n",
       "      <td>\"\\nMore\\nI can't make any real suggestions on ...</td>\n",
       "      <td>0</td>\n",
       "    </tr>\n",
       "    <tr>\n",
       "      <th>4</th>\n",
       "      <td>You, sir, are my hero. Any chance you remember...</td>\n",
       "      <td>0</td>\n",
       "    </tr>\n",
       "  </tbody>\n",
       "</table>\n",
       "</div>"
      ],
      "text/plain": [
       "                                                text  toxic\n",
       "0  Explanation\\nWhy the edits made under my usern...      0\n",
       "1  D'aww! He matches this background colour I'm s...      0\n",
       "2  Hey man, I'm really not trying to edit war. It...      0\n",
       "3  \"\\nMore\\nI can't make any real suggestions on ...      0\n",
       "4  You, sir, are my hero. Any chance you remember...      0"
      ]
     },
     "execution_count": 3,
     "metadata": {},
     "output_type": "execute_result"
    }
   ],
   "source": [
    "df.head()"
   ]
  },
  {
   "cell_type": "code",
   "execution_count": 4,
   "metadata": {},
   "outputs": [
    {
     "data": {
      "text/html": [
       "<div>\n",
       "<style scoped>\n",
       "    .dataframe tbody tr th:only-of-type {\n",
       "        vertical-align: middle;\n",
       "    }\n",
       "\n",
       "    .dataframe tbody tr th {\n",
       "        vertical-align: top;\n",
       "    }\n",
       "\n",
       "    .dataframe thead th {\n",
       "        text-align: right;\n",
       "    }\n",
       "</style>\n",
       "<table border=\"1\" class=\"dataframe\">\n",
       "  <thead>\n",
       "    <tr style=\"text-align: right;\">\n",
       "      <th></th>\n",
       "      <th>text</th>\n",
       "      <th>toxic</th>\n",
       "    </tr>\n",
       "  </thead>\n",
       "  <tbody>\n",
       "    <tr>\n",
       "      <th>159566</th>\n",
       "      <td>\":::::And for the second time of asking, when ...</td>\n",
       "      <td>0</td>\n",
       "    </tr>\n",
       "    <tr>\n",
       "      <th>159567</th>\n",
       "      <td>You should be ashamed of yourself \\n\\nThat is ...</td>\n",
       "      <td>0</td>\n",
       "    </tr>\n",
       "    <tr>\n",
       "      <th>159568</th>\n",
       "      <td>Spitzer \\n\\nUmm, theres no actual article for ...</td>\n",
       "      <td>0</td>\n",
       "    </tr>\n",
       "    <tr>\n",
       "      <th>159569</th>\n",
       "      <td>And it looks like it was actually you who put ...</td>\n",
       "      <td>0</td>\n",
       "    </tr>\n",
       "    <tr>\n",
       "      <th>159570</th>\n",
       "      <td>\"\\nAnd ... I really don't think you understand...</td>\n",
       "      <td>0</td>\n",
       "    </tr>\n",
       "  </tbody>\n",
       "</table>\n",
       "</div>"
      ],
      "text/plain": [
       "                                                     text  toxic\n",
       "159566  \":::::And for the second time of asking, when ...      0\n",
       "159567  You should be ashamed of yourself \\n\\nThat is ...      0\n",
       "159568  Spitzer \\n\\nUmm, theres no actual article for ...      0\n",
       "159569  And it looks like it was actually you who put ...      0\n",
       "159570  \"\\nAnd ... I really don't think you understand...      0"
      ]
     },
     "execution_count": 4,
     "metadata": {},
     "output_type": "execute_result"
    }
   ],
   "source": [
    "df.tail()"
   ]
  },
  {
   "cell_type": "code",
   "execution_count": 5,
   "metadata": {},
   "outputs": [
    {
     "name": "stdout",
     "output_type": "stream",
     "text": [
      "<class 'pandas.core.frame.DataFrame'>\n",
      "RangeIndex: 159571 entries, 0 to 159570\n",
      "Data columns (total 2 columns):\n",
      " #   Column  Non-Null Count   Dtype \n",
      "---  ------  --------------   ----- \n",
      " 0   text    159571 non-null  object\n",
      " 1   toxic   159571 non-null  int64 \n",
      "dtypes: int64(1), object(1)\n",
      "memory usage: 2.4+ MB\n"
     ]
    }
   ],
   "source": [
    "df.info()"
   ]
  },
  {
   "cell_type": "code",
   "execution_count": 6,
   "metadata": {},
   "outputs": [
    {
     "data": {
      "text/plain": [
       "0    143346\n",
       "1     16225\n",
       "Name: toxic, dtype: int64"
      ]
     },
     "execution_count": 6,
     "metadata": {},
     "output_type": "execute_result"
    }
   ],
   "source": [
    "df['toxic'].value_counts()"
   ]
  },
  {
   "cell_type": "code",
   "execution_count": 7,
   "metadata": {},
   "outputs": [
    {
     "data": {
      "text/plain": [
       "text     0.0\n",
       "toxic    0.0\n",
       "dtype: float64"
      ]
     },
     "execution_count": 7,
     "metadata": {},
     "output_type": "execute_result"
    }
   ],
   "source": [
    "df.isna().mean()"
   ]
  },
  {
   "cell_type": "code",
   "execution_count": 8,
   "metadata": {},
   "outputs": [],
   "source": [
    "def clean_text(text):\n",
    "    text = text.lower()\n",
    "    text = re.sub(r\"what's\", \"what is \", text)\n",
    "    text = re.sub(r\"\\'s\", \" \", text)\n",
    "    text = re.sub(r\"\\'ve\", \" have \", text)\n",
    "    text = re.sub(r\"can't\", \"cannot \", text)\n",
    "    text = re.sub(r\"n't\", \" not \", text)\n",
    "    text = re.sub(r\"i'm\", \"i am \", text)\n",
    "    text = re.sub(r\"\\'re\", \" are \", text)\n",
    "    text = re.sub(r\"\\'d\", \" would \", text)\n",
    "    text = re.sub(r\"\\'ll\", \" will \", text)\n",
    "    text = re.sub('\\W', ' ', text)\n",
    "    text = re.sub('\\s+', ' ', text)\n",
    "    text = text.strip(' ')\n",
    "    return text"
   ]
  },
  {
   "cell_type": "code",
   "execution_count": 9,
   "metadata": {},
   "outputs": [
    {
     "name": "stderr",
     "output_type": "stream",
     "text": [
      "100%|████████████████████████████████| 159571/159571 [00:09<00:00, 17267.20it/s]\n"
     ]
    }
   ],
   "source": [
    "tqdm.pandas()\n",
    "df['text'] = df['text'].progress_apply(clean_text)"
   ]
  },
  {
   "cell_type": "code",
   "execution_count": 10,
   "metadata": {},
   "outputs": [],
   "source": [
    "corpus = df['text'].values.astype('U')"
   ]
  },
  {
   "cell_type": "code",
   "execution_count": 11,
   "metadata": {},
   "outputs": [
    {
     "name": "stdout",
     "output_type": "stream",
     "text": [
      "<class 'pandas.core.frame.DataFrame'>\n",
      "RangeIndex: 159571 entries, 0 to 159570\n",
      "Data columns (total 2 columns):\n",
      " #   Column  Non-Null Count   Dtype \n",
      "---  ------  --------------   ----- \n",
      " 0   text    159571 non-null  object\n",
      " 1   toxic   159571 non-null  int64 \n",
      "dtypes: int64(1), object(1)\n",
      "memory usage: 2.4+ MB\n"
     ]
    }
   ],
   "source": [
    "df.info()"
   ]
  },
  {
   "cell_type": "markdown",
   "metadata": {},
   "source": [
    "Подготовим признаки и целевой признак перед обучением:"
   ]
  },
  {
   "cell_type": "code",
   "execution_count": 12,
   "metadata": {},
   "outputs": [
    {
     "name": "stdout",
     "output_type": "stream",
     "text": [
      "Requirement already satisfied: spacy in /Library/Frameworks/Python.framework/Versions/3.10/lib/python3.10/site-packages (3.4.0)\n",
      "Requirement already satisfied: numpy>=1.15.0 in /Library/Frameworks/Python.framework/Versions/3.10/lib/python3.10/site-packages (from spacy) (1.22.3)\n",
      "Requirement already satisfied: cymem<2.1.0,>=2.0.2 in /Library/Frameworks/Python.framework/Versions/3.10/lib/python3.10/site-packages (from spacy) (2.0.6)\n",
      "Requirement already satisfied: pydantic!=1.8,!=1.8.1,<1.10.0,>=1.7.4 in /Library/Frameworks/Python.framework/Versions/3.10/lib/python3.10/site-packages (from spacy) (1.9.1)\n",
      "Requirement already satisfied: typer<0.5.0,>=0.3.0 in /Library/Frameworks/Python.framework/Versions/3.10/lib/python3.10/site-packages (from spacy) (0.4.2)\n",
      "Requirement already satisfied: tqdm<5.0.0,>=4.38.0 in /Library/Frameworks/Python.framework/Versions/3.10/lib/python3.10/site-packages (from spacy) (4.64.0)\n",
      "Requirement already satisfied: murmurhash<1.1.0,>=0.28.0 in /Library/Frameworks/Python.framework/Versions/3.10/lib/python3.10/site-packages (from spacy) (1.0.7)\n",
      "Requirement already satisfied: langcodes<4.0.0,>=3.2.0 in /Library/Frameworks/Python.framework/Versions/3.10/lib/python3.10/site-packages (from spacy) (3.3.0)\n",
      "Requirement already satisfied: wasabi<1.1.0,>=0.9.1 in /Library/Frameworks/Python.framework/Versions/3.10/lib/python3.10/site-packages (from spacy) (0.9.1)\n",
      "Requirement already satisfied: spacy-loggers<2.0.0,>=1.0.0 in /Library/Frameworks/Python.framework/Versions/3.10/lib/python3.10/site-packages (from spacy) (1.0.3)\n",
      "Requirement already satisfied: catalogue<2.1.0,>=2.0.6 in /Library/Frameworks/Python.framework/Versions/3.10/lib/python3.10/site-packages (from spacy) (2.0.7)\n",
      "Requirement already satisfied: setuptools in /Library/Frameworks/Python.framework/Versions/3.10/lib/python3.10/site-packages (from spacy) (58.1.0)\n",
      "Requirement already satisfied: srsly<3.0.0,>=2.4.3 in /Library/Frameworks/Python.framework/Versions/3.10/lib/python3.10/site-packages (from spacy) (2.4.4)\n",
      "Requirement already satisfied: thinc<8.2.0,>=8.1.0 in /Library/Frameworks/Python.framework/Versions/3.10/lib/python3.10/site-packages (from spacy) (8.1.0)\n",
      "Requirement already satisfied: jinja2 in /Library/Frameworks/Python.framework/Versions/3.10/lib/python3.10/site-packages (from spacy) (3.0.3)\n",
      "Requirement already satisfied: spacy-legacy<3.1.0,>=3.0.9 in /Library/Frameworks/Python.framework/Versions/3.10/lib/python3.10/site-packages (from spacy) (3.0.9)\n",
      "Requirement already satisfied: pathy>=0.3.5 in /Library/Frameworks/Python.framework/Versions/3.10/lib/python3.10/site-packages (from spacy) (0.6.2)\n",
      "Requirement already satisfied: packaging>=20.0 in /Library/Frameworks/Python.framework/Versions/3.10/lib/python3.10/site-packages (from spacy) (21.3)\n",
      "Requirement already satisfied: requests<3.0.0,>=2.13.0 in /Library/Frameworks/Python.framework/Versions/3.10/lib/python3.10/site-packages (from spacy) (2.27.1)\n",
      "Requirement already satisfied: preshed<3.1.0,>=3.0.2 in /Library/Frameworks/Python.framework/Versions/3.10/lib/python3.10/site-packages (from spacy) (3.0.6)\n",
      "Requirement already satisfied: pyparsing!=3.0.5,>=2.0.2 in /Library/Frameworks/Python.framework/Versions/3.10/lib/python3.10/site-packages (from packaging>=20.0->spacy) (3.0.7)\n",
      "Requirement already satisfied: smart-open<6.0.0,>=5.2.1 in /Library/Frameworks/Python.framework/Versions/3.10/lib/python3.10/site-packages (from pathy>=0.3.5->spacy) (5.2.1)\n",
      "Requirement already satisfied: typing-extensions>=3.7.4.3 in /Library/Frameworks/Python.framework/Versions/3.10/lib/python3.10/site-packages (from pydantic!=1.8,!=1.8.1,<1.10.0,>=1.7.4->spacy) (4.2.0)\n",
      "Requirement already satisfied: certifi>=2017.4.17 in /Library/Frameworks/Python.framework/Versions/3.10/lib/python3.10/site-packages (from requests<3.0.0,>=2.13.0->spacy) (2021.10.8)\n",
      "Requirement already satisfied: idna<4,>=2.5 in /Library/Frameworks/Python.framework/Versions/3.10/lib/python3.10/site-packages (from requests<3.0.0,>=2.13.0->spacy) (3.3)\n",
      "Requirement already satisfied: urllib3<1.27,>=1.21.1 in /Library/Frameworks/Python.framework/Versions/3.10/lib/python3.10/site-packages (from requests<3.0.0,>=2.13.0->spacy) (1.26.9)\n",
      "Requirement already satisfied: charset-normalizer~=2.0.0 in /Library/Frameworks/Python.framework/Versions/3.10/lib/python3.10/site-packages (from requests<3.0.0,>=2.13.0->spacy) (2.0.12)\n",
      "Requirement already satisfied: blis<0.8.0,>=0.7.8 in /Library/Frameworks/Python.framework/Versions/3.10/lib/python3.10/site-packages (from thinc<8.2.0,>=8.1.0->spacy) (0.7.8)\n",
      "Requirement already satisfied: click<9.0.0,>=7.1.1 in /Library/Frameworks/Python.framework/Versions/3.10/lib/python3.10/site-packages (from typer<0.5.0,>=0.3.0->spacy) (8.1.3)\n",
      "Requirement already satisfied: MarkupSafe>=2.0 in /Library/Frameworks/Python.framework/Versions/3.10/lib/python3.10/site-packages (from jinja2->spacy) (2.1.1)\n",
      "\u001b[38;5;3m⚠ As of spaCy v3.0, shortcuts like 'en' are deprecated. Please use the\n",
      "full pipeline package name 'en_core_web_sm' instead.\u001b[0m\n",
      "Collecting en-core-web-sm==3.4.0\n",
      "  Downloading https://github.com/explosion/spacy-models/releases/download/en_core_web_sm-3.4.0/en_core_web_sm-3.4.0-py3-none-any.whl (12.8 MB)\n",
      "\u001b[2K     \u001b[90m━━━━━━━━━━━━━━━━━━━━━━━━━━━━━━━━━━━━━━━━\u001b[0m \u001b[32m12.8/12.8 MB\u001b[0m \u001b[31m6.6 MB/s\u001b[0m eta \u001b[36m0:00:00\u001b[0m00:01\u001b[0m00:01\u001b[0m\n",
      "\u001b[?25hRequirement already satisfied: spacy<3.5.0,>=3.4.0 in /Library/Frameworks/Python.framework/Versions/3.10/lib/python3.10/site-packages (from en-core-web-sm==3.4.0) (3.4.0)\n",
      "Requirement already satisfied: thinc<8.2.0,>=8.1.0 in /Library/Frameworks/Python.framework/Versions/3.10/lib/python3.10/site-packages (from spacy<3.5.0,>=3.4.0->en-core-web-sm==3.4.0) (8.1.0)\n",
      "Requirement already satisfied: preshed<3.1.0,>=3.0.2 in /Library/Frameworks/Python.framework/Versions/3.10/lib/python3.10/site-packages (from spacy<3.5.0,>=3.4.0->en-core-web-sm==3.4.0) (3.0.6)\n",
      "Requirement already satisfied: cymem<2.1.0,>=2.0.2 in /Library/Frameworks/Python.framework/Versions/3.10/lib/python3.10/site-packages (from spacy<3.5.0,>=3.4.0->en-core-web-sm==3.4.0) (2.0.6)\n",
      "Requirement already satisfied: catalogue<2.1.0,>=2.0.6 in /Library/Frameworks/Python.framework/Versions/3.10/lib/python3.10/site-packages (from spacy<3.5.0,>=3.4.0->en-core-web-sm==3.4.0) (2.0.7)\n",
      "Requirement already satisfied: spacy-legacy<3.1.0,>=3.0.9 in /Library/Frameworks/Python.framework/Versions/3.10/lib/python3.10/site-packages (from spacy<3.5.0,>=3.4.0->en-core-web-sm==3.4.0) (3.0.9)\n",
      "Requirement already satisfied: langcodes<4.0.0,>=3.2.0 in /Library/Frameworks/Python.framework/Versions/3.10/lib/python3.10/site-packages (from spacy<3.5.0,>=3.4.0->en-core-web-sm==3.4.0) (3.3.0)\n",
      "Requirement already satisfied: requests<3.0.0,>=2.13.0 in /Library/Frameworks/Python.framework/Versions/3.10/lib/python3.10/site-packages (from spacy<3.5.0,>=3.4.0->en-core-web-sm==3.4.0) (2.27.1)\n",
      "Requirement already satisfied: jinja2 in /Library/Frameworks/Python.framework/Versions/3.10/lib/python3.10/site-packages (from spacy<3.5.0,>=3.4.0->en-core-web-sm==3.4.0) (3.0.3)\n",
      "Requirement already satisfied: srsly<3.0.0,>=2.4.3 in /Library/Frameworks/Python.framework/Versions/3.10/lib/python3.10/site-packages (from spacy<3.5.0,>=3.4.0->en-core-web-sm==3.4.0) (2.4.4)\n",
      "Requirement already satisfied: pydantic!=1.8,!=1.8.1,<1.10.0,>=1.7.4 in /Library/Frameworks/Python.framework/Versions/3.10/lib/python3.10/site-packages (from spacy<3.5.0,>=3.4.0->en-core-web-sm==3.4.0) (1.9.1)\n",
      "Requirement already satisfied: typer<0.5.0,>=0.3.0 in /Library/Frameworks/Python.framework/Versions/3.10/lib/python3.10/site-packages (from spacy<3.5.0,>=3.4.0->en-core-web-sm==3.4.0) (0.4.2)\n",
      "Requirement already satisfied: spacy-loggers<2.0.0,>=1.0.0 in /Library/Frameworks/Python.framework/Versions/3.10/lib/python3.10/site-packages (from spacy<3.5.0,>=3.4.0->en-core-web-sm==3.4.0) (1.0.3)\n",
      "Requirement already satisfied: pathy>=0.3.5 in /Library/Frameworks/Python.framework/Versions/3.10/lib/python3.10/site-packages (from spacy<3.5.0,>=3.4.0->en-core-web-sm==3.4.0) (0.6.2)\n",
      "Requirement already satisfied: numpy>=1.15.0 in /Library/Frameworks/Python.framework/Versions/3.10/lib/python3.10/site-packages (from spacy<3.5.0,>=3.4.0->en-core-web-sm==3.4.0) (1.22.3)\n",
      "Requirement already satisfied: tqdm<5.0.0,>=4.38.0 in /Library/Frameworks/Python.framework/Versions/3.10/lib/python3.10/site-packages (from spacy<3.5.0,>=3.4.0->en-core-web-sm==3.4.0) (4.64.0)\n",
      "Requirement already satisfied: murmurhash<1.1.0,>=0.28.0 in /Library/Frameworks/Python.framework/Versions/3.10/lib/python3.10/site-packages (from spacy<3.5.0,>=3.4.0->en-core-web-sm==3.4.0) (1.0.7)\n",
      "Requirement already satisfied: setuptools in /Library/Frameworks/Python.framework/Versions/3.10/lib/python3.10/site-packages (from spacy<3.5.0,>=3.4.0->en-core-web-sm==3.4.0) (58.1.0)\n",
      "Requirement already satisfied: wasabi<1.1.0,>=0.9.1 in /Library/Frameworks/Python.framework/Versions/3.10/lib/python3.10/site-packages (from spacy<3.5.0,>=3.4.0->en-core-web-sm==3.4.0) (0.9.1)\n",
      "Requirement already satisfied: packaging>=20.0 in /Library/Frameworks/Python.framework/Versions/3.10/lib/python3.10/site-packages (from spacy<3.5.0,>=3.4.0->en-core-web-sm==3.4.0) (21.3)\n",
      "Requirement already satisfied: pyparsing!=3.0.5,>=2.0.2 in /Library/Frameworks/Python.framework/Versions/3.10/lib/python3.10/site-packages (from packaging>=20.0->spacy<3.5.0,>=3.4.0->en-core-web-sm==3.4.0) (3.0.7)\n",
      "Requirement already satisfied: smart-open<6.0.0,>=5.2.1 in /Library/Frameworks/Python.framework/Versions/3.10/lib/python3.10/site-packages (from pathy>=0.3.5->spacy<3.5.0,>=3.4.0->en-core-web-sm==3.4.0) (5.2.1)\n",
      "Requirement already satisfied: typing-extensions>=3.7.4.3 in /Library/Frameworks/Python.framework/Versions/3.10/lib/python3.10/site-packages (from pydantic!=1.8,!=1.8.1,<1.10.0,>=1.7.4->spacy<3.5.0,>=3.4.0->en-core-web-sm==3.4.0) (4.2.0)\n",
      "Requirement already satisfied: certifi>=2017.4.17 in /Library/Frameworks/Python.framework/Versions/3.10/lib/python3.10/site-packages (from requests<3.0.0,>=2.13.0->spacy<3.5.0,>=3.4.0->en-core-web-sm==3.4.0) (2021.10.8)\n",
      "Requirement already satisfied: idna<4,>=2.5 in /Library/Frameworks/Python.framework/Versions/3.10/lib/python3.10/site-packages (from requests<3.0.0,>=2.13.0->spacy<3.5.0,>=3.4.0->en-core-web-sm==3.4.0) (3.3)\n",
      "Requirement already satisfied: urllib3<1.27,>=1.21.1 in /Library/Frameworks/Python.framework/Versions/3.10/lib/python3.10/site-packages (from requests<3.0.0,>=2.13.0->spacy<3.5.0,>=3.4.0->en-core-web-sm==3.4.0) (1.26.9)\n",
      "Requirement already satisfied: charset-normalizer~=2.0.0 in /Library/Frameworks/Python.framework/Versions/3.10/lib/python3.10/site-packages (from requests<3.0.0,>=2.13.0->spacy<3.5.0,>=3.4.0->en-core-web-sm==3.4.0) (2.0.12)\n",
      "Requirement already satisfied: blis<0.8.0,>=0.7.8 in /Library/Frameworks/Python.framework/Versions/3.10/lib/python3.10/site-packages (from thinc<8.2.0,>=8.1.0->spacy<3.5.0,>=3.4.0->en-core-web-sm==3.4.0) (0.7.8)\n",
      "Requirement already satisfied: click<9.0.0,>=7.1.1 in /Library/Frameworks/Python.framework/Versions/3.10/lib/python3.10/site-packages (from typer<0.5.0,>=0.3.0->spacy<3.5.0,>=3.4.0->en-core-web-sm==3.4.0) (8.1.3)\n",
      "Requirement already satisfied: MarkupSafe>=2.0 in /Library/Frameworks/Python.framework/Versions/3.10/lib/python3.10/site-packages (from jinja2->spacy<3.5.0,>=3.4.0->en-core-web-sm==3.4.0) (2.1.1)\n",
      "\u001b[38;5;2m✔ Download and installation successful\u001b[0m\n",
      "You can now load the package via spacy.load('en_core_web_sm')\n"
     ]
    }
   ],
   "source": [
    "import sys\n",
    "!{sys.executable} -m pip install spacy\n",
    "!{sys.executable} -m spacy download en"
   ]
  },
  {
   "cell_type": "code",
   "execution_count": 13,
   "metadata": {},
   "outputs": [
    {
     "name": "stderr",
     "output_type": "stream",
     "text": [
      "100%|██████████████████████████████████| 159571/159571 [15:43<00:00, 169.05it/s]\n"
     ]
    }
   ],
   "source": [
    "import spacy\n",
    "\n",
    "nlp = spacy.load(\"en_core_web_sm\", disable=['parser', 'ner'])\n",
    "def spacy_lemm(sentence):\n",
    "    doc = nlp(sentence)\n",
    "    return \" \".join([token.lemma_ for token in doc])\n",
    "\n",
    "df['lemm_text'] = df['text'].progress_apply(spacy_lemm)"
   ]
  },
  {
   "cell_type": "code",
   "execution_count": 14,
   "metadata": {},
   "outputs": [],
   "source": [
    "df = df.drop(['text'], axis=1)"
   ]
  },
  {
   "cell_type": "markdown",
   "metadata": {},
   "source": [
    "### Вывод"
   ]
  },
  {
   "cell_type": "markdown",
   "metadata": {},
   "source": [
    "- 159571 строка\n",
    "- Дубликатов и пропусков нет\n",
    "- 2 столбца: toxic, text\n",
    "- \"text\" - тексты твитов\n",
    "- \"toxic\" - булевые значения, является ли данный твит токсичным или нет\n",
    "- 90% твитов не токсичны\n",
    "- с помощью регулярных выражений обработали текст для дальнейшего исследования"
   ]
  },
  {
   "cell_type": "markdown",
   "metadata": {},
   "source": [
    "## Обучение"
   ]
  },
  {
   "cell_type": "code",
   "execution_count": 15,
   "metadata": {},
   "outputs": [],
   "source": [
    "features = df.drop('toxic', axis=1)\n",
    "target = df['toxic']"
   ]
  },
  {
   "cell_type": "code",
   "execution_count": 16,
   "metadata": {},
   "outputs": [],
   "source": [
    "features_train, features_test, target_train, target_test = train_test_split(features, \n",
    "                                                                            target, test_size = 0.3, random_state=42)"
   ]
  },
  {
   "cell_type": "code",
   "execution_count": 17,
   "metadata": {},
   "outputs": [
    {
     "name": "stderr",
     "output_type": "stream",
     "text": [
      "[nltk_data] Downloading package stopwords to\n",
      "[nltk_data]     /Users/atiragrams/nltk_data...\n",
      "[nltk_data]   Package stopwords is already up-to-date!\n"
     ]
    }
   ],
   "source": [
    "nltk.download('stopwords')\n",
    "stopwords = set(nltk_stopwords.words('english'))"
   ]
  },
  {
   "cell_type": "markdown",
   "metadata": {},
   "source": [
    "Уменьшим количество кроссвалидаций до 3 из-за размера выборки."
   ]
  },
  {
   "cell_type": "code",
   "execution_count": 18,
   "metadata": {},
   "outputs": [],
   "source": [
    "cv_counts = 3"
   ]
  },
  {
   "cell_type": "markdown",
   "metadata": {},
   "source": [
    "### LogisticRegression"
   ]
  },
  {
   "cell_type": "code",
   "execution_count": 19,
   "metadata": {},
   "outputs": [
    {
     "name": "stdout",
     "output_type": "stream",
     "text": [
      "CPU times: user 289 ms, sys: 345 ms, total: 634 ms\n",
      "Wall time: 30.9 s\n"
     ]
    }
   ],
   "source": [
    "%%time\n",
    "\n",
    "lr_pipe = Pipeline([\n",
    "    ('tfidf', TfidfVectorizer(ngram_range=(1,3), min_df=3, max_df=0.9, use_idf=1,\n",
    "               smooth_idf=1, sublinear_tf=1, stop_words=stopwords)),\n",
    "    ('clf', LogisticRegression(random_state=42, max_iter=2000))])\n",
    "\n",
    "lr_params = {'clf__C': [10],\n",
    "          'clf__class_weight': ['balanced']}\n",
    "\n",
    "lr_grid = GridSearchCV(estimator=lr_pipe, param_grid=lr_params, cv=cv_counts, scoring='f1', n_jobs=-1, refit=False)\n",
    "lr_grid.fit(features_train['lemm_text'], target_train)\n",
    "lr_best_paramms = lr_grid.best_params_"
   ]
  },
  {
   "cell_type": "code",
   "execution_count": 20,
   "metadata": {},
   "outputs": [
    {
     "name": "stdout",
     "output_type": "stream",
     "text": [
      "{'clf__C': 10, 'clf__class_weight': 'balanced'}\n",
      "0.776919407113831\n"
     ]
    }
   ],
   "source": [
    "print(lr_best_paramms)\n",
    "print(lr_grid.best_score_)"
   ]
  },
  {
   "cell_type": "markdown",
   "metadata": {},
   "source": [
    "### LGBMClassifier"
   ]
  },
  {
   "cell_type": "code",
   "execution_count": 21,
   "metadata": {},
   "outputs": [
    {
     "name": "stdout",
     "output_type": "stream",
     "text": [
      "CPU times: user 214 ms, sys: 118 ms, total: 332 ms\n",
      "Wall time: 1min 45s\n"
     ]
    }
   ],
   "source": [
    "%%time\n",
    "\n",
    "lgb_pipe = Pipeline([\n",
    "    ('tfidf', TfidfVectorizer(ngram_range=(1,3), min_df=3, max_df=0.9, use_idf=1,\n",
    "               smooth_idf=1, sublinear_tf=1, stop_words=stopwords)),\n",
    "    ('clf', LGBMClassifier(random_state=42))])\n",
    "\n",
    "lgb_params = {\n",
    "  'clf__n_estimators': [200],\n",
    "  'clf__learning_rate': [0.25],\n",
    "  'clf__max_depth': [-1]}\n",
    "\n",
    "lgb_grid = GridSearchCV(estimator=lgb_pipe, param_grid=lgb_params, cv=cv_counts, scoring='f1', n_jobs=-1, refit=False)\n",
    "lgb_grid.fit(features_train['lemm_text'], target_train)\n",
    "lgb_best_params = lgb_grid.best_params_"
   ]
  },
  {
   "cell_type": "code",
   "execution_count": 22,
   "metadata": {},
   "outputs": [
    {
     "name": "stdout",
     "output_type": "stream",
     "text": [
      "Оптимальные параметры:  {'clf__learning_rate': 0.25, 'clf__max_depth': -1, 'clf__n_estimators': 200}\n",
      "0.7735983445528626\n"
     ]
    }
   ],
   "source": [
    "print('Оптимальные параметры: ', lgb_best_params)\n",
    "print(lgb_grid.best_score_)"
   ]
  },
  {
   "cell_type": "markdown",
   "metadata": {},
   "source": [
    "Подобраны параметры с помощью GridSearchCV с расчетом TF-IDF"
   ]
  },
  {
   "cell_type": "code",
   "execution_count": 23,
   "metadata": {},
   "outputs": [],
   "source": [
    "vectorize = TfidfVectorizer(ngram_range=(1,3),\n",
    "               min_df=3, max_df=0.9, use_idf=1,\n",
    "               smooth_idf=1, sublinear_tf=1, stop_words=stopwords)"
   ]
  },
  {
   "cell_type": "code",
   "execution_count": 24,
   "metadata": {},
   "outputs": [],
   "source": [
    "X_train = vectorize.fit_transform(features_train['lemm_text'])\n",
    "X_test = vectorize.transform(features_test['lemm_text'])"
   ]
  },
  {
   "cell_type": "code",
   "execution_count": 25,
   "metadata": {},
   "outputs": [
    {
     "data": {
      "text/plain": [
       "LogisticRegression(C=10, class_weight='balanced', random_state=42)"
      ]
     },
     "execution_count": 25,
     "metadata": {},
     "output_type": "execute_result"
    }
   ],
   "source": [
    "lr_m = LogisticRegression(C=10, class_weight='balanced', random_state=42)\n",
    "lr_m.fit(X_train, target_train)"
   ]
  },
  {
   "cell_type": "code",
   "execution_count": 26,
   "metadata": {},
   "outputs": [
    {
     "data": {
      "text/plain": [
       "LGBMClassifier(learning_rate=0.25, n_estimators=200, random_state=12345)"
      ]
     },
     "execution_count": 26,
     "metadata": {},
     "output_type": "execute_result"
    }
   ],
   "source": [
    "lgb_m = LGBMClassifier(learning_rate=0.25, max_depth=-1, n_estimators=200, random_state = 12345)\n",
    "lgb_m.fit(X_train, target_train)"
   ]
  },
  {
   "cell_type": "code",
   "execution_count": 27,
   "metadata": {},
   "outputs": [],
   "source": [
    "def scoring(fitted_model):\n",
    "    test_pred = fitted_model.predict(X_test)\n",
    "    test_f1 = f1_score(target_test, test_pred)\n",
    "    \n",
    "    print('F1 on test: {:.3f}'.format(test_f1))"
   ]
  },
  {
   "cell_type": "code",
   "execution_count": 28,
   "metadata": {},
   "outputs": [
    {
     "name": "stdout",
     "output_type": "stream",
     "text": [
      "F1 on test: 0.782\n"
     ]
    }
   ],
   "source": [
    "scoring(lgb_m)"
   ]
  },
  {
   "cell_type": "code",
   "execution_count": 29,
   "metadata": {},
   "outputs": [
    {
     "name": "stdout",
     "output_type": "stream",
     "text": [
      "F1 on test: 0.788\n"
     ]
    }
   ],
   "source": [
    "scoring(lr_m)"
   ]
  },
  {
   "cell_type": "markdown",
   "metadata": {},
   "source": [
    "## Выводы"
   ]
  },
  {
   "cell_type": "markdown",
   "metadata": {},
   "source": [
    "Логистическая регрессия выдает на тестовой выборке результат F1-score: 0.788, у LGBM: 0.782. Обе модели хороши, но все таки у логистической регрессии лучший результат."
   ]
  }
 ],
 "metadata": {
  "ExecuteTimeLog": [
   {
    "duration": 6078,
    "start_time": "2022-07-18T12:54:45.232Z"
   },
   {
    "duration": 2105,
    "start_time": "2022-07-18T12:59:59.942Z"
   },
   {
    "duration": 16,
    "start_time": "2022-07-18T13:00:18.091Z"
   },
   {
    "duration": 29,
    "start_time": "2022-07-18T13:00:25.360Z"
   },
   {
    "duration": 9,
    "start_time": "2022-07-18T13:00:40.540Z"
   },
   {
    "duration": 6,
    "start_time": "2022-07-18T13:00:43.958Z"
   },
   {
    "duration": 6,
    "start_time": "2022-07-18T13:00:56.853Z"
   },
   {
    "duration": 30,
    "start_time": "2022-07-18T13:03:04.733Z"
   },
   {
    "duration": 126,
    "start_time": "2022-07-18T13:03:17.934Z"
   },
   {
    "duration": 232,
    "start_time": "2022-07-18T13:03:21.923Z"
   },
   {
    "duration": 79,
    "start_time": "2022-07-18T13:05:47.377Z"
   },
   {
    "duration": 5,
    "start_time": "2022-07-18T13:06:09.365Z"
   },
   {
    "duration": 8814,
    "start_time": "2022-07-18T13:06:21.079Z"
   },
   {
    "duration": 18,
    "start_time": "2022-07-18T13:07:39.029Z"
   },
   {
    "duration": 28,
    "start_time": "2022-07-18T13:08:16.735Z"
   },
   {
    "duration": 39,
    "start_time": "2022-07-18T13:08:26.241Z"
   },
   {
    "duration": 111,
    "start_time": "2022-07-18T13:09:24.956Z"
   },
   {
    "duration": 413,
    "start_time": "2022-07-18T13:09:40.549Z"
   },
   {
    "duration": 1354,
    "start_time": "2022-07-18T13:24:21.966Z"
   },
   {
    "duration": 4347,
    "start_time": "2022-07-18T13:24:23.328Z"
   },
   {
    "duration": 15,
    "start_time": "2022-07-18T13:24:27.677Z"
   },
   {
    "duration": 38,
    "start_time": "2022-07-18T13:24:27.701Z"
   },
   {
    "duration": 35,
    "start_time": "2022-07-18T13:24:27.740Z"
   },
   {
    "duration": 5,
    "start_time": "2022-07-18T13:24:27.777Z"
   },
   {
    "duration": 34,
    "start_time": "2022-07-18T13:24:27.783Z"
   },
   {
    "duration": 17,
    "start_time": "2022-07-18T13:24:27.819Z"
   },
   {
    "duration": 8602,
    "start_time": "2022-07-18T13:24:27.838Z"
   },
   {
    "duration": 233,
    "start_time": "2022-07-18T13:24:36.442Z"
   },
   {
    "duration": 10,
    "start_time": "2022-07-18T13:24:36.676Z"
   },
   {
    "duration": 32,
    "start_time": "2022-07-18T13:24:36.687Z"
   },
   {
    "duration": 1449442,
    "start_time": "2022-07-18T13:24:36.720Z"
   },
   {
    "duration": 15631751,
    "start_time": "2022-07-18T13:48:46.164Z"
   },
   {
    "duration": 3,
    "start_time": "2022-07-18T18:09:17.918Z"
   },
   {
    "duration": 3,
    "start_time": "2022-07-18T18:10:50.182Z"
   },
   {
    "duration": 3,
    "start_time": "2022-07-18T19:12:44.622Z"
   },
   {
    "duration": 1628,
    "start_time": "2022-07-20T13:23:11.011Z"
   },
   {
    "duration": 3540,
    "start_time": "2022-07-20T13:23:12.641Z"
   },
   {
    "duration": 14,
    "start_time": "2022-07-20T13:23:16.183Z"
   },
   {
    "duration": 10,
    "start_time": "2022-07-20T13:23:16.200Z"
   },
   {
    "duration": 55,
    "start_time": "2022-07-20T13:23:16.212Z"
   },
   {
    "duration": 8,
    "start_time": "2022-07-20T13:23:16.269Z"
   },
   {
    "duration": 29,
    "start_time": "2022-07-20T13:23:16.279Z"
   },
   {
    "duration": 31,
    "start_time": "2022-07-20T13:23:16.309Z"
   },
   {
    "duration": 9106,
    "start_time": "2022-07-20T13:23:16.342Z"
   },
   {
    "duration": 379,
    "start_time": "2022-07-20T13:23:25.451Z"
   },
   {
    "duration": 11,
    "start_time": "2022-07-20T13:23:25.832Z"
   },
   {
    "duration": 31,
    "start_time": "2022-07-20T13:23:25.845Z"
   },
   {
    "duration": 2157,
    "start_time": "2022-07-20T17:37:46.990Z"
   },
   {
    "duration": 2601,
    "start_time": "2022-07-20T17:37:49.149Z"
   },
   {
    "duration": 14,
    "start_time": "2022-07-20T17:37:51.752Z"
   },
   {
    "duration": 8,
    "start_time": "2022-07-20T17:37:51.768Z"
   },
   {
    "duration": 52,
    "start_time": "2022-07-20T17:37:51.778Z"
   },
   {
    "duration": 7,
    "start_time": "2022-07-20T17:37:51.833Z"
   },
   {
    "duration": 28,
    "start_time": "2022-07-20T17:37:51.842Z"
   },
   {
    "duration": 5,
    "start_time": "2022-07-20T17:37:51.872Z"
   },
   {
    "duration": 8649,
    "start_time": "2022-07-20T17:37:51.878Z"
   },
   {
    "duration": 330,
    "start_time": "2022-07-20T17:38:00.530Z"
   },
   {
    "duration": 12,
    "start_time": "2022-07-20T17:38:00.862Z"
   },
   {
    "duration": 42,
    "start_time": "2022-07-20T17:38:00.875Z"
   },
   {
    "duration": 1366113,
    "start_time": "2022-07-20T17:38:00.918Z"
   },
   {
    "duration": 2,
    "start_time": "2022-07-20T18:00:47.033Z"
   },
   {
    "duration": 4977506,
    "start_time": "2022-07-20T18:00:47.037Z"
   },
   {
    "duration": 648,
    "start_time": "2022-07-20T19:23:44.545Z"
   },
   {
    "duration": 3,
    "start_time": "2022-07-20T19:23:47.984Z"
   },
   {
    "duration": 99,
    "start_time": "2022-07-20T19:23:48.840Z"
   },
   {
    "duration": 142,
    "start_time": "2022-07-20T19:24:43.560Z"
   },
   {
    "duration": 1589,
    "start_time": "2022-07-20T19:25:47.695Z"
   },
   {
    "duration": 2323,
    "start_time": "2022-07-20T19:25:49.286Z"
   },
   {
    "duration": 17,
    "start_time": "2022-07-20T19:25:51.611Z"
   },
   {
    "duration": 9,
    "start_time": "2022-07-20T19:25:51.631Z"
   },
   {
    "duration": 72,
    "start_time": "2022-07-20T19:25:51.642Z"
   },
   {
    "duration": 8,
    "start_time": "2022-07-20T19:25:51.716Z"
   },
   {
    "duration": 37,
    "start_time": "2022-07-20T19:25:51.727Z"
   },
   {
    "duration": 7,
    "start_time": "2022-07-20T19:25:51.767Z"
   },
   {
    "duration": 8911,
    "start_time": "2022-07-20T19:25:51.776Z"
   },
   {
    "duration": 230,
    "start_time": "2022-07-20T19:26:00.690Z"
   },
   {
    "duration": 18,
    "start_time": "2022-07-20T19:26:00.922Z"
   },
   {
    "duration": 33,
    "start_time": "2022-07-20T19:26:00.942Z"
   },
   {
    "duration": 207724,
    "start_time": "2022-07-20T19:26:00.977Z"
   },
   {
    "duration": 4,
    "start_time": "2022-07-20T19:29:28.704Z"
   },
   {
    "duration": 1274148,
    "start_time": "2022-07-20T19:29:28.709Z"
   },
   {
    "duration": 3,
    "start_time": "2022-07-20T19:50:42.860Z"
   },
   {
    "duration": 10,
    "start_time": "2022-07-20T19:50:42.865Z"
   },
   {
    "duration": 26734,
    "start_time": "2022-07-20T19:50:42.877Z"
   },
   {
    "duration": 123,
    "start_time": "2022-07-20T19:51:09.613Z"
   },
   {
    "duration": 0,
    "start_time": "2022-07-20T19:51:09.737Z"
   },
   {
    "duration": 0,
    "start_time": "2022-07-20T19:51:09.739Z"
   },
   {
    "duration": 0,
    "start_time": "2022-07-20T19:51:09.740Z"
   },
   {
    "duration": 0,
    "start_time": "2022-07-20T19:51:09.741Z"
   },
   {
    "duration": 65943,
    "start_time": "2022-07-20T20:11:22.562Z"
   },
   {
    "duration": 1625052,
    "start_time": "2022-07-20T20:12:28.507Z"
   },
   {
    "duration": 3,
    "start_time": "2022-07-20T20:39:33.560Z"
   },
   {
    "duration": 8553,
    "start_time": "2022-07-20T20:39:33.565Z"
   },
   {
    "duration": 28,
    "start_time": "2022-07-20T20:39:42.120Z"
   },
   {
    "duration": 1617,
    "start_time": "2022-07-22T13:49:48.989Z"
   },
   {
    "duration": 2549,
    "start_time": "2022-07-22T13:49:53.176Z"
   },
   {
    "duration": 24,
    "start_time": "2022-07-22T13:49:55.727Z"
   },
   {
    "duration": 7,
    "start_time": "2022-07-22T13:49:55.757Z"
   },
   {
    "duration": 66,
    "start_time": "2022-07-22T13:49:55.766Z"
   },
   {
    "duration": 11,
    "start_time": "2022-07-22T13:49:57.975Z"
   },
   {
    "duration": 27,
    "start_time": "2022-07-22T13:49:58.398Z"
   },
   {
    "duration": 5,
    "start_time": "2022-07-22T13:49:58.716Z"
   },
   {
    "duration": 11114,
    "start_time": "2022-07-22T13:49:59.822Z"
   },
   {
    "duration": 167,
    "start_time": "2022-07-22T13:50:11.918Z"
   },
   {
    "duration": 146,
    "start_time": "2022-07-22T13:50:23.916Z"
   },
   {
    "duration": 9683,
    "start_time": "2022-07-22T13:51:05.793Z"
   },
   {
    "duration": 3,
    "start_time": "2022-07-22T13:52:32.434Z"
   },
   {
    "duration": 155,
    "start_time": "2022-07-22T13:52:46.266Z"
   },
   {
    "duration": 7,
    "start_time": "2022-07-22T13:56:05.869Z"
   },
   {
    "duration": 9,
    "start_time": "2022-07-22T13:56:25.270Z"
   },
   {
    "duration": 3,
    "start_time": "2022-07-22T13:56:38.170Z"
   },
   {
    "duration": 48349,
    "start_time": "2022-07-22T13:58:00.521Z"
   },
   {
    "duration": 85848,
    "start_time": "2022-07-22T13:59:39.112Z"
   },
   {
    "duration": 56,
    "start_time": "2022-07-22T14:04:16.585Z"
   },
   {
    "duration": 23,
    "start_time": "2022-07-22T14:04:24.868Z"
   },
   {
    "duration": 128,
    "start_time": "2022-07-22T14:04:32.765Z"
   },
   {
    "duration": 3,
    "start_time": "2022-07-22T14:05:03.901Z"
   },
   {
    "duration": 1407,
    "start_time": "2022-07-22T14:06:33.998Z"
   },
   {
    "duration": 2352,
    "start_time": "2022-07-22T14:06:35.408Z"
   },
   {
    "duration": 12,
    "start_time": "2022-07-22T14:06:37.762Z"
   },
   {
    "duration": 6,
    "start_time": "2022-07-22T14:06:37.776Z"
   },
   {
    "duration": 35,
    "start_time": "2022-07-22T14:06:37.784Z"
   },
   {
    "duration": 5,
    "start_time": "2022-07-22T14:06:37.820Z"
   },
   {
    "duration": 42,
    "start_time": "2022-07-22T14:06:37.826Z"
   },
   {
    "duration": 5,
    "start_time": "2022-07-22T14:06:37.869Z"
   },
   {
    "duration": 8664,
    "start_time": "2022-07-22T14:06:37.875Z"
   },
   {
    "duration": 10,
    "start_time": "2022-07-22T14:06:46.553Z"
   },
   {
    "duration": 20,
    "start_time": "2022-07-22T14:06:46.565Z"
   },
   {
    "duration": 132,
    "start_time": "2022-07-22T14:07:30.692Z"
   },
   {
    "duration": 7,
    "start_time": "2022-07-22T14:07:53.952Z"
   },
   {
    "duration": 1980,
    "start_time": "2022-07-22T14:08:40.784Z"
   },
   {
    "duration": 7,
    "start_time": "2022-07-22T14:08:53.199Z"
   },
   {
    "duration": 39,
    "start_time": "2022-07-22T14:08:58.904Z"
   },
   {
    "duration": 2,
    "start_time": "2022-07-22T14:09:50.991Z"
   },
   {
    "duration": 14,
    "start_time": "2022-07-22T14:10:19.683Z"
   },
   {
    "duration": 5,
    "start_time": "2022-07-22T14:10:49.918Z"
   },
   {
    "duration": 3,
    "start_time": "2022-07-22T14:10:51.468Z"
   },
   {
    "duration": 858,
    "start_time": "2022-07-22T14:10:51.913Z"
   },
   {
    "duration": 23,
    "start_time": "2022-07-22T14:12:30.253Z"
   },
   {
    "duration": 5,
    "start_time": "2022-07-22T14:12:44.955Z"
   },
   {
    "duration": 9,
    "start_time": "2022-07-22T14:12:57.067Z"
   },
   {
    "duration": 5,
    "start_time": "2022-07-22T14:13:01.152Z"
   },
   {
    "duration": 4,
    "start_time": "2022-07-22T14:13:10.951Z"
   },
   {
    "duration": 15,
    "start_time": "2022-07-22T14:13:33.597Z"
   },
   {
    "duration": 82,
    "start_time": "2022-07-22T14:17:23.352Z"
   },
   {
    "duration": 62797,
    "start_time": "2022-07-22T14:18:15.477Z"
   },
   {
    "duration": 356,
    "start_time": "2022-07-22T14:19:54.153Z"
   },
   {
    "duration": 11,
    "start_time": "2022-07-22T14:20:09.553Z"
   },
   {
    "duration": 13,
    "start_time": "2022-07-22T14:20:11.968Z"
   },
   {
    "duration": 28,
    "start_time": "2022-07-22T14:20:22.378Z"
   },
   {
    "duration": 1413,
    "start_time": "2022-07-22T14:20:42.404Z"
   },
   {
    "duration": 2441,
    "start_time": "2022-07-22T14:20:43.819Z"
   },
   {
    "duration": 14,
    "start_time": "2022-07-22T14:20:46.261Z"
   },
   {
    "duration": 7,
    "start_time": "2022-07-22T14:20:46.276Z"
   },
   {
    "duration": 39,
    "start_time": "2022-07-22T14:20:46.285Z"
   },
   {
    "duration": 21,
    "start_time": "2022-07-22T14:20:46.326Z"
   },
   {
    "duration": 29,
    "start_time": "2022-07-22T14:20:46.349Z"
   },
   {
    "duration": 4,
    "start_time": "2022-07-22T14:20:46.380Z"
   },
   {
    "duration": 8183,
    "start_time": "2022-07-22T14:20:46.387Z"
   },
   {
    "duration": 1959,
    "start_time": "2022-07-22T14:20:54.571Z"
   },
   {
    "duration": 44,
    "start_time": "2022-07-22T14:20:56.532Z"
   },
   {
    "duration": 4,
    "start_time": "2022-07-22T14:20:56.578Z"
   },
   {
    "duration": 1416,
    "start_time": "2022-07-22T14:21:21.949Z"
   },
   {
    "duration": 1936,
    "start_time": "2022-07-22T14:21:23.367Z"
   },
   {
    "duration": 13,
    "start_time": "2022-07-22T14:21:25.305Z"
   },
   {
    "duration": 12,
    "start_time": "2022-07-22T14:21:25.319Z"
   },
   {
    "duration": 41,
    "start_time": "2022-07-22T14:21:25.333Z"
   },
   {
    "duration": 5,
    "start_time": "2022-07-22T14:21:25.375Z"
   },
   {
    "duration": 30,
    "start_time": "2022-07-22T14:21:25.382Z"
   },
   {
    "duration": 5,
    "start_time": "2022-07-22T14:21:25.414Z"
   },
   {
    "duration": 8009,
    "start_time": "2022-07-22T14:21:25.420Z"
   },
   {
    "duration": 2027,
    "start_time": "2022-07-22T14:21:33.431Z"
   },
   {
    "duration": 45,
    "start_time": "2022-07-22T14:21:35.460Z"
   },
   {
    "duration": 5,
    "start_time": "2022-07-22T14:21:35.507Z"
   },
   {
    "duration": 63739,
    "start_time": "2022-07-22T14:21:35.513Z"
   },
   {
    "duration": 11,
    "start_time": "2022-07-22T14:22:39.255Z"
   },
   {
    "duration": 30,
    "start_time": "2022-07-22T14:22:39.268Z"
   },
   {
    "duration": 1376,
    "start_time": "2022-07-22T14:23:24.386Z"
   },
   {
    "duration": 2146,
    "start_time": "2022-07-22T14:23:25.764Z"
   },
   {
    "duration": 12,
    "start_time": "2022-07-22T14:23:27.912Z"
   },
   {
    "duration": 12,
    "start_time": "2022-07-22T14:23:27.926Z"
   },
   {
    "duration": 34,
    "start_time": "2022-07-22T14:23:27.945Z"
   },
   {
    "duration": 6,
    "start_time": "2022-07-22T14:23:27.981Z"
   },
   {
    "duration": 32,
    "start_time": "2022-07-22T14:23:27.988Z"
   },
   {
    "duration": 24,
    "start_time": "2022-07-22T14:23:28.022Z"
   },
   {
    "duration": 8023,
    "start_time": "2022-07-22T14:23:28.048Z"
   },
   {
    "duration": 1964,
    "start_time": "2022-07-22T14:23:36.073Z"
   },
   {
    "duration": 42,
    "start_time": "2022-07-22T14:23:38.038Z"
   },
   {
    "duration": 4,
    "start_time": "2022-07-22T14:23:38.082Z"
   },
   {
    "duration": 1446,
    "start_time": "2022-07-22T14:24:43.836Z"
   },
   {
    "duration": 1436,
    "start_time": "2022-07-22T14:24:45.284Z"
   },
   {
    "duration": 12,
    "start_time": "2022-07-22T14:24:46.721Z"
   },
   {
    "duration": 13,
    "start_time": "2022-07-22T14:24:46.734Z"
   },
   {
    "duration": 36,
    "start_time": "2022-07-22T14:24:46.749Z"
   },
   {
    "duration": 8,
    "start_time": "2022-07-22T14:24:46.786Z"
   },
   {
    "duration": 28,
    "start_time": "2022-07-22T14:24:46.796Z"
   },
   {
    "duration": 4,
    "start_time": "2022-07-22T14:24:46.845Z"
   },
   {
    "duration": 1500,
    "start_time": "2022-07-22T14:25:04.249Z"
   },
   {
    "duration": 1485,
    "start_time": "2022-07-22T14:25:05.751Z"
   },
   {
    "duration": 14,
    "start_time": "2022-07-22T14:25:07.238Z"
   },
   {
    "duration": 6,
    "start_time": "2022-07-22T14:25:07.254Z"
   },
   {
    "duration": 37,
    "start_time": "2022-07-22T14:25:07.262Z"
   },
   {
    "duration": 5,
    "start_time": "2022-07-22T14:25:07.301Z"
   },
   {
    "duration": 49,
    "start_time": "2022-07-22T14:25:07.307Z"
   },
   {
    "duration": 5,
    "start_time": "2022-07-22T14:25:07.357Z"
   },
   {
    "duration": 8301,
    "start_time": "2022-07-22T14:25:07.363Z"
   },
   {
    "duration": 1966,
    "start_time": "2022-07-22T14:25:15.665Z"
   },
   {
    "duration": 42,
    "start_time": "2022-07-22T14:25:17.632Z"
   },
   {
    "duration": 3,
    "start_time": "2022-07-22T14:25:17.676Z"
   },
   {
    "duration": 64398,
    "start_time": "2022-07-22T14:25:17.681Z"
   },
   {
    "duration": 11,
    "start_time": "2022-07-22T14:26:22.082Z"
   },
   {
    "duration": 32,
    "start_time": "2022-07-22T14:26:22.095Z"
   },
   {
    "duration": 145,
    "start_time": "2022-07-22T14:26:22.129Z"
   },
   {
    "duration": 2,
    "start_time": "2022-07-22T14:29:22.712Z"
   },
   {
    "duration": 1373,
    "start_time": "2022-07-22T14:33:40.571Z"
   },
   {
    "duration": 2411,
    "start_time": "2022-07-22T14:33:41.946Z"
   },
   {
    "duration": 12,
    "start_time": "2022-07-22T14:33:44.359Z"
   },
   {
    "duration": 7,
    "start_time": "2022-07-22T14:33:44.373Z"
   },
   {
    "duration": 28,
    "start_time": "2022-07-22T14:33:44.382Z"
   },
   {
    "duration": 5,
    "start_time": "2022-07-22T14:33:44.412Z"
   },
   {
    "duration": 55,
    "start_time": "2022-07-22T14:33:44.418Z"
   },
   {
    "duration": 5,
    "start_time": "2022-07-22T14:33:44.475Z"
   },
   {
    "duration": 7969,
    "start_time": "2022-07-22T14:33:44.481Z"
   },
   {
    "duration": 1968,
    "start_time": "2022-07-22T14:33:52.452Z"
   },
   {
    "duration": 41,
    "start_time": "2022-07-22T14:33:54.422Z"
   },
   {
    "duration": 7,
    "start_time": "2022-07-22T14:33:54.465Z"
   },
   {
    "duration": 65498,
    "start_time": "2022-07-22T14:33:54.473Z"
   },
   {
    "duration": 11,
    "start_time": "2022-07-22T14:34:59.973Z"
   },
   {
    "duration": 29,
    "start_time": "2022-07-22T14:34:59.985Z"
   },
   {
    "duration": 157,
    "start_time": "2022-07-22T14:35:00.016Z"
   },
   {
    "duration": 1528,
    "start_time": "2022-07-22T14:35:00.175Z"
   },
   {
    "duration": 10,
    "start_time": "2022-07-22T14:35:01.704Z"
   },
   {
    "duration": 0,
    "start_time": "2022-07-22T14:35:01.716Z"
   },
   {
    "duration": 0,
    "start_time": "2022-07-22T14:35:01.717Z"
   },
   {
    "duration": 0,
    "start_time": "2022-07-22T14:35:01.719Z"
   },
   {
    "duration": 0,
    "start_time": "2022-07-22T14:35:01.721Z"
   },
   {
    "duration": 0,
    "start_time": "2022-07-22T14:35:01.722Z"
   },
   {
    "duration": 0,
    "start_time": "2022-07-22T14:35:01.724Z"
   },
   {
    "duration": 0,
    "start_time": "2022-07-22T14:35:01.726Z"
   },
   {
    "duration": 0,
    "start_time": "2022-07-22T14:35:01.727Z"
   },
   {
    "duration": 0,
    "start_time": "2022-07-22T14:35:01.728Z"
   },
   {
    "duration": 1381,
    "start_time": "2022-07-22T14:39:48.865Z"
   },
   {
    "duration": 2194,
    "start_time": "2022-07-22T14:39:50.248Z"
   },
   {
    "duration": 13,
    "start_time": "2022-07-22T14:39:52.443Z"
   },
   {
    "duration": 22,
    "start_time": "2022-07-22T14:39:52.457Z"
   },
   {
    "duration": 38,
    "start_time": "2022-07-22T14:39:52.481Z"
   },
   {
    "duration": 6,
    "start_time": "2022-07-22T14:39:52.521Z"
   },
   {
    "duration": 34,
    "start_time": "2022-07-22T14:39:52.529Z"
   },
   {
    "duration": 5,
    "start_time": "2022-07-22T14:39:52.564Z"
   },
   {
    "duration": 8045,
    "start_time": "2022-07-22T14:39:52.571Z"
   },
   {
    "duration": 1995,
    "start_time": "2022-07-22T14:40:00.618Z"
   },
   {
    "duration": 45,
    "start_time": "2022-07-22T14:40:02.615Z"
   },
   {
    "duration": 4,
    "start_time": "2022-07-22T14:40:02.662Z"
   },
   {
    "duration": 65092,
    "start_time": "2022-07-22T14:40:02.668Z"
   },
   {
    "duration": 10,
    "start_time": "2022-07-22T14:41:07.763Z"
   },
   {
    "duration": 29,
    "start_time": "2022-07-22T14:41:07.775Z"
   },
   {
    "duration": 198,
    "start_time": "2022-07-22T14:41:07.806Z"
   },
   {
    "duration": 8,
    "start_time": "2022-07-22T14:44:32.389Z"
   },
   {
    "duration": 1453,
    "start_time": "2022-07-22T14:45:13.458Z"
   },
   {
    "duration": 1925,
    "start_time": "2022-07-22T14:45:14.913Z"
   },
   {
    "duration": 16,
    "start_time": "2022-07-22T14:45:16.840Z"
   },
   {
    "duration": 20,
    "start_time": "2022-07-22T14:45:16.858Z"
   },
   {
    "duration": 34,
    "start_time": "2022-07-22T14:45:16.880Z"
   },
   {
    "duration": 9,
    "start_time": "2022-07-22T14:45:16.915Z"
   },
   {
    "duration": 38,
    "start_time": "2022-07-22T14:45:16.925Z"
   },
   {
    "duration": 5,
    "start_time": "2022-07-22T14:45:16.964Z"
   },
   {
    "duration": 8162,
    "start_time": "2022-07-22T14:45:16.971Z"
   },
   {
    "duration": 1989,
    "start_time": "2022-07-22T14:45:25.135Z"
   },
   {
    "duration": 41,
    "start_time": "2022-07-22T14:45:27.126Z"
   },
   {
    "duration": 4,
    "start_time": "2022-07-22T14:45:27.169Z"
   },
   {
    "duration": 64543,
    "start_time": "2022-07-22T14:45:27.174Z"
   },
   {
    "duration": 11,
    "start_time": "2022-07-22T14:46:31.719Z"
   },
   {
    "duration": 39,
    "start_time": "2022-07-22T14:46:31.731Z"
   },
   {
    "duration": 203,
    "start_time": "2022-07-22T14:46:31.771Z"
   },
   {
    "duration": 2,
    "start_time": "2022-07-22T14:46:31.976Z"
   }
  ],
  "kernelspec": {
   "display_name": "Python 3 (ipykernel)",
   "language": "python",
   "name": "python3"
  },
  "language_info": {
   "codemirror_mode": {
    "name": "ipython",
    "version": 3
   },
   "file_extension": ".py",
   "mimetype": "text/x-python",
   "name": "python",
   "nbconvert_exporter": "python",
   "pygments_lexer": "ipython3",
   "version": "3.10.3"
  },
  "toc": {
   "base_numbering": 1,
   "nav_menu": {},
   "number_sections": true,
   "sideBar": true,
   "skip_h1_title": true,
   "title_cell": "Содержание",
   "title_sidebar": "Contents",
   "toc_cell": true,
   "toc_position": {
    "height": "calc(100% - 180px)",
    "left": "10px",
    "top": "150px",
    "width": "302.391px"
   },
   "toc_section_display": true,
   "toc_window_display": false
  }
 },
 "nbformat": 4,
 "nbformat_minor": 2
}
