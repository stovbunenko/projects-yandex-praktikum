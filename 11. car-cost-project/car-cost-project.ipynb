{
 "cells": [
  {
   "cell_type": "markdown",
   "metadata": {},
   "source": [
    "# Определение стоимости автомобилей"
   ]
  },
  {
   "cell_type": "markdown",
   "metadata": {},
   "source": [
    "Сервис по продаже автомобилей с пробегом «Не бит, не крашен» разрабатывает приложение для привлечения новых клиентов. В нём можно быстро узнать рыночную стоимость своего автомобиля. В вашем распоряжении исторические данные: технические характеристики, комплектации и цены автомобилей. Вам нужно построить модель для определения стоимости. \n",
    "\n",
    "Заказчику важны:\n",
    "\n",
    "- качество предсказания;\n",
    "- скорость предсказания;\n",
    "- время обучения."
   ]
  },
  {
   "cell_type": "markdown",
   "metadata": {},
   "source": [
    "Чтобы усилить исследование, не ограничивайтесь градиентным бустингом. Попробуйте более простые модели — иногда они работают лучше. Это редкие случаи, которые легко пропустить, если всегда применять только бустинг. Поэкспериментируйте и сравните характеристики моделей: скорость работы, точность результата.\n",
    "Загрузите и подготовьте данные.\n",
    "\n",
    "Обучите разные модели. Для каждой попробуйте различные гиперпараметры.\n",
    "Проанализируйте скорость работы и качество моделей.\n",
    "\n",
    "Примечания:\n",
    "- Для оценки качества моделей применяйте метрику RMSE.\n",
    "- Самостоятельно освойте библиотеку LightGBM и её средствами постройте модели градиентного бустинга.\n",
    "- Время выполнения ячейки кода Jupyter Notebook можно получить специальной командой. Найдите её.\n",
    "- Поскольку модель градиентного бустинга может обучаться долго, измените у неё только два-три параметра.\n",
    "- Если перестанет работать Jupyter Notebook, удалите лишние переменные оператором del:"
   ]
  },
  {
   "cell_type": "markdown",
   "metadata": {},
   "source": [
    "**Признаки**:\n",
    "- DateCrawled — дата скачивания анкеты из базы\n",
    "- VehicleType — тип автомобильного кузова\n",
    "- RegistrationYear — год регистрации автомобиля\n",
    "- Gearbox — тип коробки передач\n",
    "- Power — мощность (л. с.)\n",
    "- Model — модель автомобиля\n",
    "- Kilometer — пробег (км)\n",
    "- RegistrationMonth — месяц регистрации автомобиля\n",
    "- FuelType — тип топлива\n",
    "- Brand — марка автомобиля\n",
    "- NotRepaired — была машина в ремонте или нет\n",
    "- DateCreated — дата создания анкеты\n",
    "- NumberOfPictures — количество фотографий автомобиля\n",
    "- PostalCode — почтовый индекс владельца анкеты (пользователя)\n",
    "- LastSeen — дата последней активности пользователя\n",
    "\n",
    "**Целевой признак**:\n",
    "- Price — цена (евро)"
   ]
  },
  {
   "cell_type": "markdown",
   "metadata": {},
   "source": [
    "## Подготовка данных"
   ]
  },
  {
   "cell_type": "code",
   "execution_count": 1,
   "metadata": {},
   "outputs": [],
   "source": [
    "import matplotlib.pyplot as plt\n",
    "import numpy as np\n",
    "import pandas as pd\n",
    "import warnings\n",
    "from sklearn.model_selection import train_test_split\n",
    "from sklearn.preprocessing import StandardScaler\n",
    "from sklearn.metrics import mean_squared_error\n",
    "from sklearn.preprocessing import PolynomialFeatures\n",
    "from sklearn.preprocessing import OrdinalEncoder\n",
    "from sklearn.linear_model import LinearRegression\n",
    "from sklearn.tree import DecisionTreeRegressor\n",
    "from sklearn.ensemble import ExtraTreesRegressor\n",
    "from catboost import Pool, CatBoostRegressor, cv\n",
    "from lightgbm import LGBMRegressor\n",
    "from sklearn.model_selection import cross_val_score\n",
    "from sklearn.model_selection import GridSearchCV\n",
    "from sklearn.pipeline import Pipeline\n",
    "warnings.filterwarnings('ignore')"
   ]
  },
  {
   "cell_type": "code",
   "execution_count": 3,
   "metadata": {},
   "outputs": [
    {
     "data": {
      "text/html": [
       "<div>\n",
       "<style scoped>\n",
       "    .dataframe tbody tr th:only-of-type {\n",
       "        vertical-align: middle;\n",
       "    }\n",
       "\n",
       "    .dataframe tbody tr th {\n",
       "        vertical-align: top;\n",
       "    }\n",
       "\n",
       "    .dataframe thead th {\n",
       "        text-align: right;\n",
       "    }\n",
       "</style>\n",
       "<table border=\"1\" class=\"dataframe\">\n",
       "  <thead>\n",
       "    <tr style=\"text-align: right;\">\n",
       "      <th></th>\n",
       "      <th>DateCrawled</th>\n",
       "      <th>Price</th>\n",
       "      <th>VehicleType</th>\n",
       "      <th>RegistrationYear</th>\n",
       "      <th>Gearbox</th>\n",
       "      <th>Power</th>\n",
       "      <th>Model</th>\n",
       "      <th>Kilometer</th>\n",
       "      <th>RegistrationMonth</th>\n",
       "      <th>FuelType</th>\n",
       "      <th>Brand</th>\n",
       "      <th>NotRepaired</th>\n",
       "      <th>DateCreated</th>\n",
       "      <th>NumberOfPictures</th>\n",
       "      <th>PostalCode</th>\n",
       "      <th>LastSeen</th>\n",
       "    </tr>\n",
       "  </thead>\n",
       "  <tbody>\n",
       "    <tr>\n",
       "      <th>0</th>\n",
       "      <td>2016-03-24 11:52:17</td>\n",
       "      <td>480</td>\n",
       "      <td>NaN</td>\n",
       "      <td>1993</td>\n",
       "      <td>manual</td>\n",
       "      <td>0</td>\n",
       "      <td>golf</td>\n",
       "      <td>150000</td>\n",
       "      <td>0</td>\n",
       "      <td>petrol</td>\n",
       "      <td>volkswagen</td>\n",
       "      <td>NaN</td>\n",
       "      <td>2016-03-24 00:00:00</td>\n",
       "      <td>0</td>\n",
       "      <td>70435</td>\n",
       "      <td>2016-04-07 03:16:57</td>\n",
       "    </tr>\n",
       "    <tr>\n",
       "      <th>1</th>\n",
       "      <td>2016-03-24 10:58:45</td>\n",
       "      <td>18300</td>\n",
       "      <td>coupe</td>\n",
       "      <td>2011</td>\n",
       "      <td>manual</td>\n",
       "      <td>190</td>\n",
       "      <td>NaN</td>\n",
       "      <td>125000</td>\n",
       "      <td>5</td>\n",
       "      <td>gasoline</td>\n",
       "      <td>audi</td>\n",
       "      <td>yes</td>\n",
       "      <td>2016-03-24 00:00:00</td>\n",
       "      <td>0</td>\n",
       "      <td>66954</td>\n",
       "      <td>2016-04-07 01:46:50</td>\n",
       "    </tr>\n",
       "    <tr>\n",
       "      <th>2</th>\n",
       "      <td>2016-03-14 12:52:21</td>\n",
       "      <td>9800</td>\n",
       "      <td>suv</td>\n",
       "      <td>2004</td>\n",
       "      <td>auto</td>\n",
       "      <td>163</td>\n",
       "      <td>grand</td>\n",
       "      <td>125000</td>\n",
       "      <td>8</td>\n",
       "      <td>gasoline</td>\n",
       "      <td>jeep</td>\n",
       "      <td>NaN</td>\n",
       "      <td>2016-03-14 00:00:00</td>\n",
       "      <td>0</td>\n",
       "      <td>90480</td>\n",
       "      <td>2016-04-05 12:47:46</td>\n",
       "    </tr>\n",
       "    <tr>\n",
       "      <th>3</th>\n",
       "      <td>2016-03-17 16:54:04</td>\n",
       "      <td>1500</td>\n",
       "      <td>small</td>\n",
       "      <td>2001</td>\n",
       "      <td>manual</td>\n",
       "      <td>75</td>\n",
       "      <td>golf</td>\n",
       "      <td>150000</td>\n",
       "      <td>6</td>\n",
       "      <td>petrol</td>\n",
       "      <td>volkswagen</td>\n",
       "      <td>no</td>\n",
       "      <td>2016-03-17 00:00:00</td>\n",
       "      <td>0</td>\n",
       "      <td>91074</td>\n",
       "      <td>2016-03-17 17:40:17</td>\n",
       "    </tr>\n",
       "    <tr>\n",
       "      <th>4</th>\n",
       "      <td>2016-03-31 17:25:20</td>\n",
       "      <td>3600</td>\n",
       "      <td>small</td>\n",
       "      <td>2008</td>\n",
       "      <td>manual</td>\n",
       "      <td>69</td>\n",
       "      <td>fabia</td>\n",
       "      <td>90000</td>\n",
       "      <td>7</td>\n",
       "      <td>gasoline</td>\n",
       "      <td>skoda</td>\n",
       "      <td>no</td>\n",
       "      <td>2016-03-31 00:00:00</td>\n",
       "      <td>0</td>\n",
       "      <td>60437</td>\n",
       "      <td>2016-04-06 10:17:21</td>\n",
       "    </tr>\n",
       "  </tbody>\n",
       "</table>\n",
       "</div>"
      ],
      "text/plain": [
       "           DateCrawled  Price VehicleType  RegistrationYear Gearbox  Power  \\\n",
       "0  2016-03-24 11:52:17    480         NaN              1993  manual      0   \n",
       "1  2016-03-24 10:58:45  18300       coupe              2011  manual    190   \n",
       "2  2016-03-14 12:52:21   9800         suv              2004    auto    163   \n",
       "3  2016-03-17 16:54:04   1500       small              2001  manual     75   \n",
       "4  2016-03-31 17:25:20   3600       small              2008  manual     69   \n",
       "\n",
       "   Model  Kilometer  RegistrationMonth  FuelType       Brand NotRepaired  \\\n",
       "0   golf     150000                  0    petrol  volkswagen         NaN   \n",
       "1    NaN     125000                  5  gasoline        audi         yes   \n",
       "2  grand     125000                  8  gasoline        jeep         NaN   \n",
       "3   golf     150000                  6    petrol  volkswagen          no   \n",
       "4  fabia      90000                  7  gasoline       skoda          no   \n",
       "\n",
       "           DateCreated  NumberOfPictures  PostalCode             LastSeen  \n",
       "0  2016-03-24 00:00:00                 0       70435  2016-04-07 03:16:57  \n",
       "1  2016-03-24 00:00:00                 0       66954  2016-04-07 01:46:50  \n",
       "2  2016-03-14 00:00:00                 0       90480  2016-04-05 12:47:46  \n",
       "3  2016-03-17 00:00:00                 0       91074  2016-03-17 17:40:17  \n",
       "4  2016-03-31 00:00:00                 0       60437  2016-04-06 10:17:21  "
      ]
     },
     "execution_count": 3,
     "metadata": {},
     "output_type": "execute_result"
    }
   ],
   "source": [
    "df.head()"
   ]
  },
  {
   "cell_type": "code",
   "execution_count": 4,
   "metadata": {},
   "outputs": [
    {
     "name": "stdout",
     "output_type": "stream",
     "text": [
      "<class 'pandas.core.frame.DataFrame'>\n",
      "RangeIndex: 354369 entries, 0 to 354368\n",
      "Data columns (total 16 columns):\n",
      " #   Column             Non-Null Count   Dtype \n",
      "---  ------             --------------   ----- \n",
      " 0   DateCrawled        354369 non-null  object\n",
      " 1   Price              354369 non-null  int64 \n",
      " 2   VehicleType        316879 non-null  object\n",
      " 3   RegistrationYear   354369 non-null  int64 \n",
      " 4   Gearbox            334536 non-null  object\n",
      " 5   Power              354369 non-null  int64 \n",
      " 6   Model              334664 non-null  object\n",
      " 7   Kilometer          354369 non-null  int64 \n",
      " 8   RegistrationMonth  354369 non-null  int64 \n",
      " 9   FuelType           321474 non-null  object\n",
      " 10  Brand              354369 non-null  object\n",
      " 11  NotRepaired        283215 non-null  object\n",
      " 12  DateCreated        354369 non-null  object\n",
      " 13  NumberOfPictures   354369 non-null  int64 \n",
      " 14  PostalCode         354369 non-null  int64 \n",
      " 15  LastSeen           354369 non-null  object\n",
      "dtypes: int64(7), object(9)\n",
      "memory usage: 43.3+ MB\n"
     ]
    }
   ],
   "source": [
    "df.info()"
   ]
  },
  {
   "cell_type": "code",
   "execution_count": 5,
   "metadata": {},
   "outputs": [],
   "source": [
    "df['DateCrawled'] = pd.to_datetime(df['DateCrawled'], format='%Y-%m-%d %H:%M')\n",
    "df['DateCreated'] = pd.to_datetime(df['DateCreated'], format='%Y-%m-%d %H:%M')\n",
    "df['LastSeen'] = pd.to_datetime(df['LastSeen'], format='%Y-%m-%d %H:%M')"
   ]
  },
  {
   "cell_type": "code",
   "execution_count": 6,
   "metadata": {},
   "outputs": [
    {
     "data": {
      "text/plain": [
       "DateCrawled          0.000000\n",
       "Price                0.000000\n",
       "VehicleType          0.105794\n",
       "RegistrationYear     0.000000\n",
       "Gearbox              0.055967\n",
       "Power                0.000000\n",
       "Model                0.055606\n",
       "Kilometer            0.000000\n",
       "RegistrationMonth    0.000000\n",
       "FuelType             0.092827\n",
       "Brand                0.000000\n",
       "NotRepaired          0.200791\n",
       "DateCreated          0.000000\n",
       "NumberOfPictures     0.000000\n",
       "PostalCode           0.000000\n",
       "LastSeen             0.000000\n",
       "dtype: float64"
      ]
     },
     "execution_count": 6,
     "metadata": {},
     "output_type": "execute_result"
    }
   ],
   "source": [
    "df.isna().mean()"
   ]
  },
  {
   "cell_type": "markdown",
   "metadata": {},
   "source": [
    "Столбцы VehicleType, Gearbox, FuelType и NotRepaired обладают пропусками. Изучим, какие данные есть в каждом столбце."
   ]
  },
  {
   "cell_type": "code",
   "execution_count": 7,
   "metadata": {},
   "outputs": [],
   "source": [
    "def show_rows(data_frame):\n",
    "    for column in data_frame.columns:\n",
    "        print('Уникальные значения столбца', column)\n",
    "        print(data_frame[column].unique())"
   ]
  },
  {
   "cell_type": "code",
   "execution_count": 8,
   "metadata": {},
   "outputs": [
    {
     "name": "stdout",
     "output_type": "stream",
     "text": [
      "Уникальные значения столбца DateCrawled\n",
      "['2016-03-24T11:52:17.000000000' '2016-03-24T10:58:45.000000000'\n",
      " '2016-03-14T12:52:21.000000000' ... '2016-03-21T09:50:58.000000000'\n",
      " '2016-03-14T17:48:27.000000000' '2016-03-19T18:57:12.000000000']\n",
      "Уникальные значения столбца Price\n",
      "[  480 18300  9800 ... 12395 18429 10985]\n",
      "Уникальные значения столбца VehicleType\n",
      "[nan 'coupe' 'suv' 'small' 'sedan' 'convertible' 'bus' 'wagon' 'other']\n",
      "Уникальные значения столбца RegistrationYear\n",
      "[1993 2011 2004 2001 2008 1995 1980 2014 1998 2005 1910 2016 2007 2009\n",
      " 2002 2018 1997 1990 2017 1981 2003 1994 1991 1984 2006 1999 2012 2010\n",
      " 2000 1992 2013 1996 1985 1989 2015 1982 1976 1983 1973 1111 1969 1971\n",
      " 1987 1986 1988 1970 1965 1945 1925 1974 1979 1955 1978 1972 1968 1977\n",
      " 1961 1960 1966 1975 1963 1964 5000 1954 1958 1967 1959 9999 1956 3200\n",
      " 1000 1941 8888 1500 2200 4100 1962 1929 1957 1940 3000 2066 1949 2019\n",
      " 1937 1951 1800 1953 1234 8000 5300 9000 2900 6000 5900 5911 1933 1400\n",
      " 1950 4000 1948 1952 1200 8500 1932 1255 3700 3800 4800 1942 7000 1935\n",
      " 1936 6500 1923 2290 2500 1930 1001 9450 1944 1943 1934 1938 1688 2800\n",
      " 1253 1928 1919 5555 5600 1600 2222 1039 9996 1300 8455 1931 1915 4500\n",
      " 1920 1602 7800 9229 1947 1927 7100 8200 1946 7500 3500]\n",
      "Уникальные значения столбца Gearbox\n",
      "['manual' 'auto' nan]\n",
      "Уникальные значения столбца Power\n",
      "[    0   190   163    75    69   102   109    50   125   101   105   140\n",
      "   115   131    60   136   160   231    90   118   193    99   113   218\n",
      "   122   129    70   306    95    61   177    80   170    55   143    64\n",
      "   286   232   150   156    82   155    54   185    87   180    86    84\n",
      "   224   235   200   178   265    77   110   144   120   116   184   126\n",
      "   204    88   194   305   197   179   250    45   313    41   165    98\n",
      "   130   114   211    56   201   213    58   107    83   174   100   220\n",
      "    85    73   192    68    66   299    74    52   147    65   310    71\n",
      "    97   239   203     5   300   103   258   320    63    81   148    44\n",
      "   145   230   280   260   104   188   333   186   117   141    59   132\n",
      "   234   158    39    92    51   135    53   209    43   146    67   106\n",
      "   166   276   344    72   249   237   245   111   326   279    23   138\n",
      "   175    96   226    26    37   301   334   128   133   124    33   219\n",
      "   241   167    94   182   196   238  1398   228   112    48   272   139\n",
      "  1799    40   240    79   256   360   243   375   252   396   340   108\n",
      "   121   345   187   289   222   198   284   450   233   387   152   347\n",
      "   172    57   137   212   476   314    30     7    47   173   290   207\n",
      "   205   171   750    78    91    89   349   325    76   151   350   953\n",
      "    93   142   500   343   199   119   164    16   264   367   208   210\n",
      "    46   435  1001   225   127   176   161   603   307   354    35   206\n",
      "   771   355   273   223   255   123   154   149  7515  1400   268   620\n",
      "   169   400   275    34     2   242  1779   285   162   328  1753   329\n",
      "   134   420   247   168 10317   215    18   330   283    62    10   214\n",
      "   183   254    15   321   322   315   952   600   181   426   599   379\n",
      "   999    22   157    42   195   553     4   309   507   381   271   440\n",
      "   189   401  1111  2729    21   236  1240  1704   521     1  1900   270\n",
      "    24   159   292   808   515  1200   303    29    38  1993    14   216\n",
      "   610   504    49   267   331   363   261   385  1011   253   696 10520\n",
      "   376   227   311    27   217    20  1999    11  1056    25   394    12\n",
      "   298   296  1659   294   551  6920   246    17  1800  1625   368   390\n",
      "   221  1367   259   606   327  2017  1597   266   374   392     9   405\n",
      "    13   262   601   430   295     8   411   900   541  7512   382 10218\n",
      "  7544  1102   287    19   751   297  1090   457   282   602   388     6\n",
      "  1000  5411   335  1360   202  3750   805  1062  1024 11530   364  1796\n",
      "  5000   269   460  1002   288  1780 12012 17932   316  2005  1399   191\n",
      "   278  1300   380   257   449  1256   153  1653   520   560   281 12510\n",
      "     3  1500   386    32  1202  2016  1436  1405   671   274  1288  1055\n",
      " 10912 15016  6226  1115   277  1105   341  1223  2340  8404  1968   338\n",
      "   445  1920   370   517  4400 10710 10522  9010   431  1164 11509   371\n",
      "  1501   428 11635    36   304   348  1703  1910  1995   579 10000   580\n",
      "   408    31  1005   358  1403   489  5575 19211   585   960   365   353\n",
      "   490   352  1801   346   550  3199   800  7508  1312   357  1937   950\n",
      "  4700  1600  3454 19208   251   850   337   700  8011  2331  2789   487\n",
      "   519  2461  6006  3500  5815  6018  1781  1503   612  1596   229  1506\n",
      "  5809 15020  5867  2172  1598 17410  1363   584  1054   851  1339   318\n",
      "   510   525  1700    28  1151   685  6011   317   703  1771 15001   514\n",
      "   362   332   324  6045   530   425   308  6010   475   903   640  2000\n",
      "   248   651  2799 17011   505  1103  1521   351 16051   398  9000  1998\n",
      " 10311   409  1230 17019 12684  8259  1895   901  1317   871   909  2201\n",
      "  1595   776 17700 11011  1199   459  1162  1120 15033  1896   339   361\n",
      "   574  6512   454   650 13616   604   607 16312  1082   336 20000   416\n",
      "   678  6012  1401  1021  1870 13636  1250  9710   323  1158  2009   902\n",
      "  6062  1275   572   244   399  1016   743  1221  2402 16011  1362   544\n",
      "   645   907   702 12512  1986  1003  1432  9013  9011   442  1017  1394\n",
      " 15017 10910  1992   540  2018 11025  1433  1701  2792  1502  1239  1390\n",
      " 14009  1160  1351 11111  1783  9007   923  1149   754  1988   402  2004\n",
      "  5420  1793  1324   356  7511  1299   293 19312  1079  1689   998  1100\n",
      "  9012  1933   508 16311   682  1252  1922  7529   732  2389  2200  1707\n",
      "  1416  8500  1012   485  3000 10110   421  4507  1631  7518   377  1004\n",
      "  2007  2598  1548  1241]\n",
      "Уникальные значения столбца Model\n",
      "['golf' nan 'grand' 'fabia' '3er' '2_reihe' 'other' 'c_max' '3_reihe'\n",
      " 'passat' 'navara' 'ka' 'polo' 'twingo' 'a_klasse' 'scirocco' '5er'\n",
      " 'meriva' 'arosa' 'c4' 'civic' 'transporter' 'punto' 'e_klasse' 'clio'\n",
      " 'kadett' 'kangoo' 'corsa' 'one' 'fortwo' '1er' 'b_klasse' 'signum'\n",
      " 'astra' 'a8' 'jetta' 'fiesta' 'c_klasse' 'micra' 'vito' 'sprinter' '156'\n",
      " 'escort' 'forester' 'xc_reihe' 'scenic' 'a4' 'a1' 'insignia' 'combo'\n",
      " 'focus' 'tt' 'a6' 'jazz' 'omega' 'slk' '7er' '80' '147' '100' 'z_reihe'\n",
      " 'sportage' 'sorento' 'v40' 'ibiza' 'mustang' 'eos' 'touran' 'getz' 'a3'\n",
      " 'almera' 'megane' 'lupo' 'r19' 'zafira' 'caddy' 'mondeo' 'cordoba' 'colt'\n",
      " 'impreza' 'vectra' 'berlingo' 'tiguan' 'i_reihe' 'espace' 'sharan'\n",
      " '6_reihe' 'panda' 'up' 'seicento' 'ceed' '5_reihe' 'yeti' 'octavia' 'mii'\n",
      " 'rx_reihe' '6er' 'modus' 'fox' 'matiz' 'beetle' 'c1' 'rio' 'touareg'\n",
      " 'logan' 'spider' 'cuore' 's_max' 'a2' 'galaxy' 'c3' 'viano' 's_klasse'\n",
      " '1_reihe' 'avensis' 'roomster' 'sl' 'kaefer' 'santa' 'cooper' 'leon'\n",
      " '4_reihe' 'a5' '500' 'laguna' 'ptcruiser' 'clk' 'primera' 'x_reihe'\n",
      " 'exeo' '159' 'transit' 'juke' 'qashqai' 'carisma' 'accord' 'corolla'\n",
      " 'lanos' 'phaeton' 'verso' 'swift' 'rav' 'picanto' 'boxster' 'kalos'\n",
      " 'superb' 'stilo' 'alhambra' 'mx_reihe' 'roadster' 'ypsilon' 'cayenne'\n",
      " 'galant' 'justy' '90' 'sirion' 'crossfire' 'agila' 'duster' 'cr_reihe'\n",
      " 'v50' 'c_reihe' 'v_klasse' 'm_klasse' 'yaris' 'c5' 'aygo' 'cc' 'carnival'\n",
      " 'fusion' '911' 'bora' 'forfour' 'm_reihe' 'cl' 'tigra' '300c' 'spark'\n",
      " 'v70' 'kuga' 'x_type' 'ducato' 's_type' 'x_trail' 'toledo' 'altea'\n",
      " 'voyager' 'calibra' 'bravo' 'antara' 'tucson' 'citigo' 'jimny' 'wrangler'\n",
      " 'lybra' 'q7' 'lancer' 'captiva' 'c2' 'discovery' 'freelander' 'sandero'\n",
      " 'note' '900' 'cherokee' 'clubman' 'samara' 'defender' '601' 'cx_reihe'\n",
      " 'legacy' 'pajero' 'auris' 'niva' 's60' 'nubira' 'vivaro' 'g_klasse'\n",
      " 'lodgy' '850' 'range_rover' 'q3' 'serie_2' 'glk' 'charade' 'croma'\n",
      " 'outlander' 'doblo' 'musa' 'move' '9000' 'v60' '145' 'aveo' '200' 'b_max'\n",
      " 'range_rover_sport' 'terios' 'rangerover' 'q5' 'range_rover_evoque'\n",
      " 'materia' 'delta' 'gl' 'kalina' 'amarok' 'elefantino' 'i3' 'kappa'\n",
      " 'serie_3' 'serie_1']\n",
      "Уникальные значения столбца Kilometer\n",
      "[150000 125000  90000  40000  30000  70000   5000 100000  60000  20000\n",
      "  80000  50000  10000]\n",
      "Уникальные значения столбца RegistrationMonth\n",
      "[ 0  5  8  6  7 10 12 11  2  3  1  4  9]\n",
      "Уникальные значения столбца FuelType\n",
      "['petrol' 'gasoline' nan 'lpg' 'other' 'hybrid' 'cng' 'electric']\n",
      "Уникальные значения столбца Brand\n",
      "['volkswagen' 'audi' 'jeep' 'skoda' 'bmw' 'peugeot' 'ford' 'mazda'\n",
      " 'nissan' 'renault' 'mercedes_benz' 'opel' 'seat' 'citroen' 'honda' 'fiat'\n",
      " 'mini' 'smart' 'hyundai' 'sonstige_autos' 'alfa_romeo' 'subaru' 'volvo'\n",
      " 'mitsubishi' 'kia' 'suzuki' 'lancia' 'toyota' 'chevrolet' 'dacia'\n",
      " 'daihatsu' 'trabant' 'saab' 'chrysler' 'jaguar' 'daewoo' 'porsche'\n",
      " 'rover' 'land_rover' 'lada']\n",
      "Уникальные значения столбца NotRepaired\n",
      "[nan 'yes' 'no']\n",
      "Уникальные значения столбца DateCreated\n",
      "['2016-03-24T00:00:00.000000000' '2016-03-14T00:00:00.000000000'\n",
      " '2016-03-17T00:00:00.000000000' '2016-03-31T00:00:00.000000000'\n",
      " '2016-04-04T00:00:00.000000000' '2016-04-01T00:00:00.000000000'\n",
      " '2016-03-21T00:00:00.000000000' '2016-03-26T00:00:00.000000000'\n",
      " '2016-04-07T00:00:00.000000000' '2016-03-15T00:00:00.000000000'\n",
      " '2016-03-11T00:00:00.000000000' '2016-03-20T00:00:00.000000000'\n",
      " '2016-03-23T00:00:00.000000000' '2016-03-27T00:00:00.000000000'\n",
      " '2016-03-12T00:00:00.000000000' '2016-03-13T00:00:00.000000000'\n",
      " '2016-03-18T00:00:00.000000000' '2016-03-10T00:00:00.000000000'\n",
      " '2016-03-07T00:00:00.000000000' '2016-03-09T00:00:00.000000000'\n",
      " '2016-03-08T00:00:00.000000000' '2016-04-03T00:00:00.000000000'\n",
      " '2016-03-29T00:00:00.000000000' '2016-03-25T00:00:00.000000000'\n",
      " '2016-03-28T00:00:00.000000000' '2016-03-30T00:00:00.000000000'\n",
      " '2016-03-22T00:00:00.000000000' '2016-02-09T00:00:00.000000000'\n",
      " '2016-03-05T00:00:00.000000000' '2016-04-02T00:00:00.000000000'\n",
      " '2016-03-16T00:00:00.000000000' '2016-03-19T00:00:00.000000000'\n",
      " '2016-04-05T00:00:00.000000000' '2016-03-06T00:00:00.000000000'\n",
      " '2016-02-12T00:00:00.000000000' '2016-03-03T00:00:00.000000000'\n",
      " '2016-03-01T00:00:00.000000000' '2016-03-04T00:00:00.000000000'\n",
      " '2016-04-06T00:00:00.000000000' '2016-02-15T00:00:00.000000000'\n",
      " '2016-02-24T00:00:00.000000000' '2016-02-27T00:00:00.000000000'\n",
      " '2015-03-20T00:00:00.000000000' '2016-02-28T00:00:00.000000000'\n",
      " '2016-02-17T00:00:00.000000000' '2016-01-27T00:00:00.000000000'\n",
      " '2016-02-20T00:00:00.000000000' '2016-02-29T00:00:00.000000000'\n",
      " '2016-02-10T00:00:00.000000000' '2016-02-23T00:00:00.000000000'\n",
      " '2016-02-21T00:00:00.000000000' '2015-11-02T00:00:00.000000000'\n",
      " '2016-02-19T00:00:00.000000000' '2016-02-26T00:00:00.000000000'\n",
      " '2016-02-11T00:00:00.000000000' '2016-01-10T00:00:00.000000000'\n",
      " '2016-02-06T00:00:00.000000000' '2016-02-18T00:00:00.000000000'\n",
      " '2016-01-29T00:00:00.000000000' '2016-03-02T00:00:00.000000000'\n",
      " '2015-12-06T00:00:00.000000000' '2016-01-24T00:00:00.000000000'\n",
      " '2016-01-30T00:00:00.000000000' '2016-02-02T00:00:00.000000000'\n",
      " '2016-02-16T00:00:00.000000000' '2016-02-13T00:00:00.000000000'\n",
      " '2016-02-05T00:00:00.000000000' '2016-02-22T00:00:00.000000000'\n",
      " '2015-11-17T00:00:00.000000000' '2014-03-10T00:00:00.000000000'\n",
      " '2016-02-07T00:00:00.000000000' '2016-01-23T00:00:00.000000000'\n",
      " '2016-02-25T00:00:00.000000000' '2016-02-14T00:00:00.000000000'\n",
      " '2016-01-02T00:00:00.000000000' '2015-09-04T00:00:00.000000000'\n",
      " '2015-11-12T00:00:00.000000000' '2015-12-27T00:00:00.000000000'\n",
      " '2015-11-24T00:00:00.000000000' '2016-01-20T00:00:00.000000000'\n",
      " '2016-02-03T00:00:00.000000000' '2015-12-05T00:00:00.000000000'\n",
      " '2015-08-07T00:00:00.000000000' '2016-01-28T00:00:00.000000000'\n",
      " '2016-01-31T00:00:00.000000000' '2016-02-08T00:00:00.000000000'\n",
      " '2016-01-07T00:00:00.000000000' '2016-01-22T00:00:00.000000000'\n",
      " '2016-01-18T00:00:00.000000000' '2016-01-08T00:00:00.000000000'\n",
      " '2015-11-23T00:00:00.000000000' '2016-01-13T00:00:00.000000000'\n",
      " '2016-01-17T00:00:00.000000000' '2016-01-15T00:00:00.000000000'\n",
      " '2015-11-08T00:00:00.000000000' '2016-01-26T00:00:00.000000000'\n",
      " '2016-02-04T00:00:00.000000000' '2016-01-25T00:00:00.000000000'\n",
      " '2016-01-16T00:00:00.000000000' '2015-08-10T00:00:00.000000000'\n",
      " '2016-01-03T00:00:00.000000000' '2016-01-19T00:00:00.000000000'\n",
      " '2015-12-30T00:00:00.000000000' '2016-02-01T00:00:00.000000000'\n",
      " '2015-12-17T00:00:00.000000000' '2015-11-10T00:00:00.000000000'\n",
      " '2016-01-06T00:00:00.000000000' '2015-09-09T00:00:00.000000000'\n",
      " '2015-06-18T00:00:00.000000000']\n",
      "Уникальные значения столбца NumberOfPictures\n",
      "[0]\n",
      "Уникальные значения столбца PostalCode\n",
      "[70435 66954 90480 ... 38528 38325 31096]\n",
      "Уникальные значения столбца LastSeen\n",
      "['2016-04-07T03:16:57.000000000' '2016-04-07T01:46:50.000000000'\n",
      " '2016-04-05T12:47:46.000000000' ... '2016-03-19T20:44:43.000000000'\n",
      " '2016-03-29T10:17:23.000000000' '2016-03-21T10:42:49.000000000']\n"
     ]
    }
   ],
   "source": [
    "show_rows(df)"
   ]
  },
  {
   "cell_type": "markdown",
   "metadata": {},
   "source": [
    "В столбце RegistrationYear существуют некорректные значения года регистрации.\n",
    "В столбце RegistrationMonth отсутсвует месяц регистрации.\n",
    "В столбце Power присутвует некорректное значение мощности.\n",
    "\n",
    "Определим признаки, важные для модели.\n",
    "\n",
    "К значимым признакам отнесем следующие столбцы:\n",
    "\n",
    "- VehicleType. Тип машины определяет ее функционал. Чем больше возможносей у машины, тем выше цена.\n",
    "- Gearbox. Наличие автоматической коробки передач повышает стоимость машины из-за сложности конструкции.\n",
    "- Power. Мощность в л.с. (лошадиных силах) напрямую влияют на цену.\n",
    "- Kilometer. Чем больше километров проехала машина, тем меньше ее надежность и соответсвенно цена.\n",
    "- FuelType. Тип топлива определяет конструкцию двигателя внутреннего сгорания.\n",
    "- Brand. Компания, которая создала автомобиль показывает качество и надежность автомобиля.\n",
    "- NotRepaired. Если машина побывала в дтп, это означает, что машина подвергалась изменениям и ее надежность ниже.\n",
    "- RegistrationYear. Год регистрации определяет сколько лет машина на ходу. Чем больше возраст, тем меньше цена.\n",
    "- Model. Может влиять на популярность у покупателей.\n",
    "\n",
    "Остальные столбцы для модели не требуются, так как не влияют на стоимость."
   ]
  },
  {
   "cell_type": "code",
   "execution_count": 9,
   "metadata": {},
   "outputs": [
    {
     "data": {
      "text/html": [
       "<div>\n",
       "<style scoped>\n",
       "    .dataframe tbody tr th:only-of-type {\n",
       "        vertical-align: middle;\n",
       "    }\n",
       "\n",
       "    .dataframe tbody tr th {\n",
       "        vertical-align: top;\n",
       "    }\n",
       "\n",
       "    .dataframe thead th {\n",
       "        text-align: right;\n",
       "    }\n",
       "</style>\n",
       "<table border=\"1\" class=\"dataframe\">\n",
       "  <thead>\n",
       "    <tr style=\"text-align: right;\">\n",
       "      <th></th>\n",
       "      <th>Price</th>\n",
       "      <th>RegistrationYear</th>\n",
       "      <th>Power</th>\n",
       "      <th>Kilometer</th>\n",
       "      <th>RegistrationMonth</th>\n",
       "      <th>NumberOfPictures</th>\n",
       "      <th>PostalCode</th>\n",
       "    </tr>\n",
       "  </thead>\n",
       "  <tbody>\n",
       "    <tr>\n",
       "      <th>count</th>\n",
       "      <td>354369.000000</td>\n",
       "      <td>354369.000000</td>\n",
       "      <td>354369.000000</td>\n",
       "      <td>354369.000000</td>\n",
       "      <td>354369.000000</td>\n",
       "      <td>354369.0</td>\n",
       "      <td>354369.000000</td>\n",
       "    </tr>\n",
       "    <tr>\n",
       "      <th>mean</th>\n",
       "      <td>4416.656776</td>\n",
       "      <td>2004.234448</td>\n",
       "      <td>110.094337</td>\n",
       "      <td>128211.172535</td>\n",
       "      <td>5.714645</td>\n",
       "      <td>0.0</td>\n",
       "      <td>50508.689087</td>\n",
       "    </tr>\n",
       "    <tr>\n",
       "      <th>std</th>\n",
       "      <td>4514.158514</td>\n",
       "      <td>90.227958</td>\n",
       "      <td>189.850405</td>\n",
       "      <td>37905.341530</td>\n",
       "      <td>3.726421</td>\n",
       "      <td>0.0</td>\n",
       "      <td>25783.096248</td>\n",
       "    </tr>\n",
       "    <tr>\n",
       "      <th>min</th>\n",
       "      <td>0.000000</td>\n",
       "      <td>1000.000000</td>\n",
       "      <td>0.000000</td>\n",
       "      <td>5000.000000</td>\n",
       "      <td>0.000000</td>\n",
       "      <td>0.0</td>\n",
       "      <td>1067.000000</td>\n",
       "    </tr>\n",
       "    <tr>\n",
       "      <th>25%</th>\n",
       "      <td>1050.000000</td>\n",
       "      <td>1999.000000</td>\n",
       "      <td>69.000000</td>\n",
       "      <td>125000.000000</td>\n",
       "      <td>3.000000</td>\n",
       "      <td>0.0</td>\n",
       "      <td>30165.000000</td>\n",
       "    </tr>\n",
       "    <tr>\n",
       "      <th>50%</th>\n",
       "      <td>2700.000000</td>\n",
       "      <td>2003.000000</td>\n",
       "      <td>105.000000</td>\n",
       "      <td>150000.000000</td>\n",
       "      <td>6.000000</td>\n",
       "      <td>0.0</td>\n",
       "      <td>49413.000000</td>\n",
       "    </tr>\n",
       "    <tr>\n",
       "      <th>75%</th>\n",
       "      <td>6400.000000</td>\n",
       "      <td>2008.000000</td>\n",
       "      <td>143.000000</td>\n",
       "      <td>150000.000000</td>\n",
       "      <td>9.000000</td>\n",
       "      <td>0.0</td>\n",
       "      <td>71083.000000</td>\n",
       "    </tr>\n",
       "    <tr>\n",
       "      <th>max</th>\n",
       "      <td>20000.000000</td>\n",
       "      <td>9999.000000</td>\n",
       "      <td>20000.000000</td>\n",
       "      <td>150000.000000</td>\n",
       "      <td>12.000000</td>\n",
       "      <td>0.0</td>\n",
       "      <td>99998.000000</td>\n",
       "    </tr>\n",
       "  </tbody>\n",
       "</table>\n",
       "</div>"
      ],
      "text/plain": [
       "               Price  RegistrationYear          Power      Kilometer  \\\n",
       "count  354369.000000     354369.000000  354369.000000  354369.000000   \n",
       "mean     4416.656776       2004.234448     110.094337  128211.172535   \n",
       "std      4514.158514         90.227958     189.850405   37905.341530   \n",
       "min         0.000000       1000.000000       0.000000    5000.000000   \n",
       "25%      1050.000000       1999.000000      69.000000  125000.000000   \n",
       "50%      2700.000000       2003.000000     105.000000  150000.000000   \n",
       "75%      6400.000000       2008.000000     143.000000  150000.000000   \n",
       "max     20000.000000       9999.000000   20000.000000  150000.000000   \n",
       "\n",
       "       RegistrationMonth  NumberOfPictures     PostalCode  \n",
       "count      354369.000000          354369.0  354369.000000  \n",
       "mean            5.714645               0.0   50508.689087  \n",
       "std             3.726421               0.0   25783.096248  \n",
       "min             0.000000               0.0    1067.000000  \n",
       "25%             3.000000               0.0   30165.000000  \n",
       "50%             6.000000               0.0   49413.000000  \n",
       "75%             9.000000               0.0   71083.000000  \n",
       "max            12.000000               0.0   99998.000000  "
      ]
     },
     "execution_count": 9,
     "metadata": {},
     "output_type": "execute_result"
    }
   ],
   "source": [
    "df.describe()"
   ]
  },
  {
   "cell_type": "code",
   "execution_count": 10,
   "metadata": {},
   "outputs": [
    {
     "name": "stdout",
     "output_type": "stream",
     "text": [
      "<class 'pandas.core.frame.DataFrame'>\n",
      "RangeIndex: 354369 entries, 0 to 354368\n",
      "Data columns (total 10 columns):\n",
      " #   Column            Non-Null Count   Dtype \n",
      "---  ------            --------------   ----- \n",
      " 0   VehicleType       316879 non-null  object\n",
      " 1   Gearbox           334536 non-null  object\n",
      " 2   Power             354369 non-null  int64 \n",
      " 3   Kilometer         354369 non-null  int64 \n",
      " 4   FuelType          321474 non-null  object\n",
      " 5   Brand             354369 non-null  object\n",
      " 6   NotRepaired       283215 non-null  object\n",
      " 7   RegistrationYear  354369 non-null  int64 \n",
      " 8   Model             334664 non-null  object\n",
      " 9   Price             354369 non-null  int64 \n",
      "dtypes: int64(4), object(6)\n",
      "memory usage: 27.0+ MB\n"
     ]
    }
   ],
   "source": [
    "df_auto = df[['VehicleType', \n",
    "                         'Gearbox', \n",
    "                         'Power',\n",
    "                         'Kilometer',\n",
    "                         'FuelType',\n",
    "                         'Brand',\n",
    "                         'NotRepaired',\n",
    "                         'RegistrationYear',\n",
    "                         'Model',\n",
    "                         'Price']]\n",
    "df_auto.info()"
   ]
  },
  {
   "cell_type": "markdown",
   "metadata": {},
   "source": [
    "Столбцы, требующие обработки:\n",
    "\n",
    "- VehicleType и FuelType. Восстановим пропущенные значения по популярному типу из столбца Brand.\n",
    "- Gearbox. Для всех NaN установим значение 'manual'.\n",
    "- Power. Скоректируем на основе реальных значений в машинах. Иметь 1 л.с. или 15000 л.с. для машины на данный момент нереально.\n",
    "- NotRepaired. Для всех NaN установим значение 'yes'.\n",
    "- RegistrationYear. Скоректируем на основе реальных значений в машинах.\n",
    "- Model. Для всех NaN установим значение 'unknown'."
   ]
  },
  {
   "cell_type": "markdown",
   "metadata": {},
   "source": [
    "Посмотрим целевой признак Price:"
   ]
  },
  {
   "cell_type": "code",
   "execution_count": 11,
   "metadata": {},
   "outputs": [
    {
     "data": {
      "text/plain": [
       "0        10772\n",
       "500       5670\n",
       "1500      5394\n",
       "1000      4649\n",
       "1200      4594\n",
       "         ...  \n",
       "13180        1\n",
       "10879        1\n",
       "2683         1\n",
       "634          1\n",
       "8188         1\n",
       "Name: Price, Length: 3731, dtype: int64"
      ]
     },
     "execution_count": 11,
     "metadata": {},
     "output_type": "execute_result"
    }
   ],
   "source": [
    "df_auto['Price'].value_counts()"
   ]
  },
  {
   "cell_type": "markdown",
   "metadata": {},
   "source": [
    "Видно, что существует 10772 записи без цены. Удалим их и проверим распределение цены на гистограмме."
   ]
  },
  {
   "cell_type": "code",
   "execution_count": 12,
   "metadata": {},
   "outputs": [
    {
     "data": {
      "text/plain": [
       "count    343597.000000\n",
       "mean       4555.121974\n",
       "std        4515.058553\n",
       "min           1.000000\n",
       "25%        1200.000000\n",
       "50%        2890.000000\n",
       "75%        6500.000000\n",
       "max       20000.000000\n",
       "Name: Price, dtype: float64"
      ]
     },
     "execution_count": 12,
     "metadata": {},
     "output_type": "execute_result"
    },
    {
     "data": {
      "image/png": "[encoded data removed]",
      "text/plain": [
       "<Figure size 576x360 with 1 Axes>"
      ]
     },
     "metadata": {
      "needs_background": "light"
     },
     "output_type": "display_data"
    }
   ],
   "source": [
    "df_auto = df_auto.query('Price > 0')\n",
    "df_auto['Price'].hist(bins=100, figsize=(8,5))\n",
    "df_auto['Price'].describe()"
   ]
  },
  {
   "cell_type": "markdown",
   "metadata": {},
   "source": [
    "Выделим квантили 5% и 80%"
   ]
  },
  {
   "cell_type": "code",
   "execution_count": 13,
   "metadata": {},
   "outputs": [
    {
     "data": {
      "text/plain": [
       "0.05     350.0\n",
       "0.80    7800.0\n",
       "Name: Price, dtype: float64"
      ]
     },
     "execution_count": 13,
     "metadata": {},
     "output_type": "execute_result"
    }
   ],
   "source": [
    "df_auto['Price'].quantile([.05, 0.8])"
   ]
  },
  {
   "cell_type": "markdown",
   "metadata": {},
   "source": [
    "Стоимость 350 евро примерно равно 37700 рублей. Это минимальная цена для продажи поддержанного авто. Выбор 80% квантиля обоснован болльшими выбросами после 7500 евро."
   ]
  },
  {
   "cell_type": "code",
   "execution_count": 14,
   "metadata": {
    "scrolled": true
   },
   "outputs": [
    {
     "name": "stdout",
     "output_type": "stream",
     "text": [
      "<class 'pandas.core.frame.DataFrame'>\n",
      "Int64Index: 259798 entries, 0 to 354368\n",
      "Data columns (total 10 columns):\n",
      " #   Column            Non-Null Count   Dtype \n",
      "---  ------            --------------   ----- \n",
      " 0   VehicleType       233267 non-null  object\n",
      " 1   Gearbox           246646 non-null  object\n",
      " 2   Power             259798 non-null  int64 \n",
      " 3   Kilometer         259798 non-null  int64 \n",
      " 4   FuelType          236972 non-null  object\n",
      " 5   Brand             259798 non-null  object\n",
      " 6   NotRepaired       206998 non-null  object\n",
      " 7   RegistrationYear  259798 non-null  int64 \n",
      " 8   Model             246358 non-null  object\n",
      " 9   Price             259798 non-null  int64 \n",
      "dtypes: int64(4), object(6)\n",
      "memory usage: 21.8+ MB\n"
     ]
    }
   ],
   "source": [
    "df_auto = df_auto.query('350 <= Price <= 7800')\n",
    "df_auto.info()"
   ]
  },
  {
   "cell_type": "code",
   "execution_count": 15,
   "metadata": {},
   "outputs": [
    {
     "data": {
      "text/plain": [
       "count    259798.000000\n",
       "mean       2002.844976\n",
       "std          65.140145\n",
       "min        1000.000000\n",
       "25%        1999.000000\n",
       "50%        2002.000000\n",
       "75%        2006.000000\n",
       "max        9999.000000\n",
       "Name: RegistrationYear, dtype: float64"
      ]
     },
     "execution_count": 15,
     "metadata": {},
     "output_type": "execute_result"
    },
    {
     "data": {
      "image/png": "[encoded data removed]",
      "text/plain": [
       "<Figure size 576x360 with 1 Axes>"
      ]
     },
     "metadata": {
      "needs_background": "light"
     },
     "output_type": "display_data"
    }
   ],
   "source": [
    "df_auto['RegistrationYear'].hist(bins=100, figsize=(8,5))\n",
    "df_auto['RegistrationYear'].describe()"
   ]
  },
  {
   "cell_type": "code",
   "execution_count": 16,
   "metadata": {},
   "outputs": [
    {
     "data": {
      "text/plain": [
       "Timestamp('2016-04-07 14:36:58')"
      ]
     },
     "execution_count": 16,
     "metadata": {},
     "output_type": "execute_result"
    }
   ],
   "source": [
    "date = df['DateCrawled']\n",
    "date.max()"
   ]
  },
  {
   "cell_type": "markdown",
   "metadata": {},
   "source": [
    "Даты регистрации после 2016 года некорректны и машины появились не раньше 1900 года. Отсечем ненужные года и промотрим левые выбросы:"
   ]
  },
  {
   "cell_type": "code",
   "execution_count": 17,
   "metadata": {},
   "outputs": [
    {
     "data": {
      "text/plain": [
       "count    247788.000000\n",
       "mean       2001.539179\n",
       "std           6.112319\n",
       "min        1910.000000\n",
       "25%        1998.000000\n",
       "50%        2002.000000\n",
       "75%        2005.000000\n",
       "max        2016.000000\n",
       "Name: RegistrationYear, dtype: float64"
      ]
     },
     "execution_count": 17,
     "metadata": {},
     "output_type": "execute_result"
    },
    {
     "data": {
      "image/png": "[encoded data removed]",
      "text/plain": [
       "<Figure size 576x360 with 1 Axes>"
      ]
     },
     "metadata": {
      "needs_background": "light"
     },
     "output_type": "display_data"
    }
   ],
   "source": [
    "df_auto = df_auto.query('1899 < RegistrationYear < 2017')\n",
    "df_auto['RegistrationYear'].hist(bins=100, figsize=(8,5))\n",
    "df_auto['RegistrationYear'].describe()"
   ]
  },
  {
   "cell_type": "markdown",
   "metadata": {},
   "source": [
    "По левой части гистограммы видно, что адекватно использовать левую границу в 1960 год, так как это старые, но возможно еще работающие машины:"
   ]
  },
  {
   "cell_type": "code",
   "execution_count": 18,
   "metadata": {
    "scrolled": true
   },
   "outputs": [
    {
     "data": {
      "text/plain": [
       "count    247665.000000\n",
       "mean       2001.567440\n",
       "std           5.968335\n",
       "min        1960.000000\n",
       "25%        1998.000000\n",
       "50%        2002.000000\n",
       "75%        2005.000000\n",
       "max        2016.000000\n",
       "Name: RegistrationYear, dtype: float64"
      ]
     },
     "execution_count": 18,
     "metadata": {},
     "output_type": "execute_result"
    },
    {
     "data": {
      "image/png": "[encoded data removed]",
      "text/plain": [
       "<Figure size 576x360 with 1 Axes>"
      ]
     },
     "metadata": {
      "needs_background": "light"
     },
     "output_type": "display_data"
    }
   ],
   "source": [
    "df_auto = df_auto.query('1959 < RegistrationYear < 2017')\n",
    "df_auto['RegistrationYear'].hist(bins=50, figsize=(8,5))\n",
    "df_auto['RegistrationYear'].describe()"
   ]
  },
  {
   "cell_type": "markdown",
   "metadata": {},
   "source": [
    "Избавимся от NaN в Gearbox, NotRepaired и Model:"
   ]
  },
  {
   "cell_type": "code",
   "execution_count": 19,
   "metadata": {},
   "outputs": [],
   "source": [
    "df_auto = df_auto.fillna({'Gearbox':'manual', \n",
    "                           'NotRepaired':'yes',\n",
    "                           'Model':'unknown'})"
   ]
  },
  {
   "cell_type": "code",
   "execution_count": 20,
   "metadata": {},
   "outputs": [
    {
     "data": {
      "text/plain": [
       "VehicleType         0.058640\n",
       "Gearbox             0.000000\n",
       "Power               0.000000\n",
       "Kilometer           0.000000\n",
       "FuelType            0.073575\n",
       "Brand               0.000000\n",
       "NotRepaired         0.000000\n",
       "RegistrationYear    0.000000\n",
       "Model               0.000000\n",
       "Price               0.000000\n",
       "dtype: float64"
      ]
     },
     "execution_count": 20,
     "metadata": {},
     "output_type": "execute_result"
    }
   ],
   "source": [
    "df_auto.isna().mean()"
   ]
  },
  {
   "cell_type": "markdown",
   "metadata": {},
   "source": [
    "Выполним замену NaN в соотвествии с популярным типом кузова для каждого бренда:"
   ]
  },
  {
   "cell_type": "code",
   "execution_count": 21,
   "metadata": {},
   "outputs": [
    {
     "data": {
      "text/html": [
       "<div>\n",
       "<style scoped>\n",
       "    .dataframe tbody tr th:only-of-type {\n",
       "        vertical-align: middle;\n",
       "    }\n",
       "\n",
       "    .dataframe tbody tr th {\n",
       "        vertical-align: top;\n",
       "    }\n",
       "\n",
       "    .dataframe thead tr th {\n",
       "        text-align: left;\n",
       "    }\n",
       "\n",
       "    .dataframe thead tr:last-of-type th {\n",
       "        text-align: right;\n",
       "    }\n",
       "</style>\n",
       "<table border=\"1\" class=\"dataframe\">\n",
       "  <thead>\n",
       "    <tr>\n",
       "      <th></th>\n",
       "      <th colspan=\"21\" halign=\"left\">count</th>\n",
       "    </tr>\n",
       "    <tr>\n",
       "      <th></th>\n",
       "      <th colspan=\"21\" halign=\"left\">Price</th>\n",
       "    </tr>\n",
       "    <tr>\n",
       "      <th>Brand</th>\n",
       "      <th>alfa_romeo</th>\n",
       "      <th>audi</th>\n",
       "      <th>bmw</th>\n",
       "      <th>chevrolet</th>\n",
       "      <th>chrysler</th>\n",
       "      <th>citroen</th>\n",
       "      <th>dacia</th>\n",
       "      <th>daewoo</th>\n",
       "      <th>daihatsu</th>\n",
       "      <th>fiat</th>\n",
       "      <th>...</th>\n",
       "      <th>seat</th>\n",
       "      <th>skoda</th>\n",
       "      <th>smart</th>\n",
       "      <th>sonstige_autos</th>\n",
       "      <th>subaru</th>\n",
       "      <th>suzuki</th>\n",
       "      <th>toyota</th>\n",
       "      <th>trabant</th>\n",
       "      <th>volkswagen</th>\n",
       "      <th>volvo</th>\n",
       "    </tr>\n",
       "    <tr>\n",
       "      <th>VehicleType</th>\n",
       "      <th></th>\n",
       "      <th></th>\n",
       "      <th></th>\n",
       "      <th></th>\n",
       "      <th></th>\n",
       "      <th></th>\n",
       "      <th></th>\n",
       "      <th></th>\n",
       "      <th></th>\n",
       "      <th></th>\n",
       "      <th></th>\n",
       "      <th></th>\n",
       "      <th></th>\n",
       "      <th></th>\n",
       "      <th></th>\n",
       "      <th></th>\n",
       "      <th></th>\n",
       "      <th></th>\n",
       "      <th></th>\n",
       "      <th></th>\n",
       "      <th></th>\n",
       "    </tr>\n",
       "  </thead>\n",
       "  <tbody>\n",
       "    <tr>\n",
       "      <th>bus</th>\n",
       "      <td>NaN</td>\n",
       "      <td>10.0</td>\n",
       "      <td>4.0</td>\n",
       "      <td>98.0</td>\n",
       "      <td>370.0</td>\n",
       "      <td>1040.0</td>\n",
       "      <td>15.0</td>\n",
       "      <td>26.0</td>\n",
       "      <td>31.0</td>\n",
       "      <td>707.0</td>\n",
       "      <td>...</td>\n",
       "      <td>485.0</td>\n",
       "      <td>158.0</td>\n",
       "      <td>1.0</td>\n",
       "      <td>140.0</td>\n",
       "      <td>16.0</td>\n",
       "      <td>27.0</td>\n",
       "      <td>341.0</td>\n",
       "      <td>NaN</td>\n",
       "      <td>5936.0</td>\n",
       "      <td>NaN</td>\n",
       "    </tr>\n",
       "    <tr>\n",
       "      <th>convertible</th>\n",
       "      <td>111.0</td>\n",
       "      <td>667.0</td>\n",
       "      <td>1636.0</td>\n",
       "      <td>6.0</td>\n",
       "      <td>195.0</td>\n",
       "      <td>96.0</td>\n",
       "      <td>NaN</td>\n",
       "      <td>1.0</td>\n",
       "      <td>8.0</td>\n",
       "      <td>257.0</td>\n",
       "      <td>...</td>\n",
       "      <td>NaN</td>\n",
       "      <td>3.0</td>\n",
       "      <td>988.0</td>\n",
       "      <td>161.0</td>\n",
       "      <td>NaN</td>\n",
       "      <td>32.0</td>\n",
       "      <td>47.0</td>\n",
       "      <td>30.0</td>\n",
       "      <td>2029.0</td>\n",
       "      <td>35.0</td>\n",
       "    </tr>\n",
       "    <tr>\n",
       "      <th>coupe</th>\n",
       "      <td>180.0</td>\n",
       "      <td>651.0</td>\n",
       "      <td>2570.0</td>\n",
       "      <td>45.0</td>\n",
       "      <td>17.0</td>\n",
       "      <td>137.0</td>\n",
       "      <td>NaN</td>\n",
       "      <td>2.0</td>\n",
       "      <td>NaN</td>\n",
       "      <td>151.0</td>\n",
       "      <td>...</td>\n",
       "      <td>64.0</td>\n",
       "      <td>6.0</td>\n",
       "      <td>318.0</td>\n",
       "      <td>79.0</td>\n",
       "      <td>3.0</td>\n",
       "      <td>4.0</td>\n",
       "      <td>178.0</td>\n",
       "      <td>2.0</td>\n",
       "      <td>740.0</td>\n",
       "      <td>50.0</td>\n",
       "    </tr>\n",
       "    <tr>\n",
       "      <th>other</th>\n",
       "      <td>10.0</td>\n",
       "      <td>83.0</td>\n",
       "      <td>187.0</td>\n",
       "      <td>18.0</td>\n",
       "      <td>6.0</td>\n",
       "      <td>95.0</td>\n",
       "      <td>5.0</td>\n",
       "      <td>5.0</td>\n",
       "      <td>9.0</td>\n",
       "      <td>151.0</td>\n",
       "      <td>...</td>\n",
       "      <td>47.0</td>\n",
       "      <td>21.0</td>\n",
       "      <td>8.0</td>\n",
       "      <td>167.0</td>\n",
       "      <td>5.0</td>\n",
       "      <td>10.0</td>\n",
       "      <td>15.0</td>\n",
       "      <td>4.0</td>\n",
       "      <td>586.0</td>\n",
       "      <td>NaN</td>\n",
       "    </tr>\n",
       "    <tr>\n",
       "      <th>sedan</th>\n",
       "      <td>777.0</td>\n",
       "      <td>7828.0</td>\n",
       "      <td>11309.0</td>\n",
       "      <td>146.0</td>\n",
       "      <td>205.0</td>\n",
       "      <td>538.0</td>\n",
       "      <td>97.0</td>\n",
       "      <td>87.0</td>\n",
       "      <td>35.0</td>\n",
       "      <td>796.0</td>\n",
       "      <td>...</td>\n",
       "      <td>1220.0</td>\n",
       "      <td>694.0</td>\n",
       "      <td>26.0</td>\n",
       "      <td>257.0</td>\n",
       "      <td>99.0</td>\n",
       "      <td>131.0</td>\n",
       "      <td>735.0</td>\n",
       "      <td>170.0</td>\n",
       "      <td>14847.0</td>\n",
       "      <td>487.0</td>\n",
       "    </tr>\n",
       "    <tr>\n",
       "      <th>small</th>\n",
       "      <td>185.0</td>\n",
       "      <td>933.0</td>\n",
       "      <td>324.0</td>\n",
       "      <td>574.0</td>\n",
       "      <td>12.0</td>\n",
       "      <td>1372.0</td>\n",
       "      <td>178.0</td>\n",
       "      <td>247.0</td>\n",
       "      <td>439.0</td>\n",
       "      <td>4520.0</td>\n",
       "      <td>...</td>\n",
       "      <td>2621.0</td>\n",
       "      <td>930.0</td>\n",
       "      <td>3099.0</td>\n",
       "      <td>166.0</td>\n",
       "      <td>99.0</td>\n",
       "      <td>810.0</td>\n",
       "      <td>1475.0</td>\n",
       "      <td>49.0</td>\n",
       "      <td>15294.0</td>\n",
       "      <td>6.0</td>\n",
       "    </tr>\n",
       "    <tr>\n",
       "      <th>suv</th>\n",
       "      <td>NaN</td>\n",
       "      <td>18.0</td>\n",
       "      <td>189.0</td>\n",
       "      <td>146.0</td>\n",
       "      <td>12.0</td>\n",
       "      <td>8.0</td>\n",
       "      <td>46.0</td>\n",
       "      <td>1.0</td>\n",
       "      <td>46.0</td>\n",
       "      <td>17.0</td>\n",
       "      <td>...</td>\n",
       "      <td>1.0</td>\n",
       "      <td>7.0</td>\n",
       "      <td>NaN</td>\n",
       "      <td>174.0</td>\n",
       "      <td>42.0</td>\n",
       "      <td>557.0</td>\n",
       "      <td>252.0</td>\n",
       "      <td>NaN</td>\n",
       "      <td>247.0</td>\n",
       "      <td>30.0</td>\n",
       "    </tr>\n",
       "    <tr>\n",
       "      <th>wagon</th>\n",
       "      <td>388.0</td>\n",
       "      <td>6422.0</td>\n",
       "      <td>4997.0</td>\n",
       "      <td>83.0</td>\n",
       "      <td>183.0</td>\n",
       "      <td>497.0</td>\n",
       "      <td>227.0</td>\n",
       "      <td>36.0</td>\n",
       "      <td>16.0</td>\n",
       "      <td>370.0</td>\n",
       "      <td>...</td>\n",
       "      <td>215.0</td>\n",
       "      <td>1763.0</td>\n",
       "      <td>9.0</td>\n",
       "      <td>104.0</td>\n",
       "      <td>241.0</td>\n",
       "      <td>84.0</td>\n",
       "      <td>449.0</td>\n",
       "      <td>66.0</td>\n",
       "      <td>9704.0</td>\n",
       "      <td>1655.0</td>\n",
       "    </tr>\n",
       "  </tbody>\n",
       "</table>\n",
       "<p>8 rows × 40 columns</p>\n",
       "</div>"
      ],
      "text/plain": [
       "                 count                                                     \\\n",
       "                 Price                                                      \n",
       "Brand       alfa_romeo    audi      bmw chevrolet chrysler citroen  dacia   \n",
       "VehicleType                                                                 \n",
       "bus                NaN    10.0      4.0      98.0    370.0  1040.0   15.0   \n",
       "convertible      111.0   667.0   1636.0       6.0    195.0    96.0    NaN   \n",
       "coupe            180.0   651.0   2570.0      45.0     17.0   137.0    NaN   \n",
       "other             10.0    83.0    187.0      18.0      6.0    95.0    5.0   \n",
       "sedan            777.0  7828.0  11309.0     146.0    205.0   538.0   97.0   \n",
       "small            185.0   933.0    324.0     574.0     12.0  1372.0  178.0   \n",
       "suv                NaN    18.0    189.0     146.0     12.0     8.0   46.0   \n",
       "wagon            388.0  6422.0   4997.0      83.0    183.0   497.0  227.0   \n",
       "\n",
       "                                     ...                          \\\n",
       "                                     ...                           \n",
       "Brand       daewoo daihatsu    fiat  ...    seat   skoda   smart   \n",
       "VehicleType                          ...                           \n",
       "bus           26.0     31.0   707.0  ...   485.0   158.0     1.0   \n",
       "convertible    1.0      8.0   257.0  ...     NaN     3.0   988.0   \n",
       "coupe          2.0      NaN   151.0  ...    64.0     6.0   318.0   \n",
       "other          5.0      9.0   151.0  ...    47.0    21.0     8.0   \n",
       "sedan         87.0     35.0   796.0  ...  1220.0   694.0    26.0   \n",
       "small        247.0    439.0  4520.0  ...  2621.0   930.0  3099.0   \n",
       "suv            1.0     46.0    17.0  ...     1.0     7.0     NaN   \n",
       "wagon         36.0     16.0   370.0  ...   215.0  1763.0     9.0   \n",
       "\n",
       "                                                                             \n",
       "                                                                             \n",
       "Brand       sonstige_autos subaru suzuki  toyota trabant volkswagen   volvo  \n",
       "VehicleType                                                                  \n",
       "bus                  140.0   16.0   27.0   341.0     NaN     5936.0     NaN  \n",
       "convertible          161.0    NaN   32.0    47.0    30.0     2029.0    35.0  \n",
       "coupe                 79.0    3.0    4.0   178.0     2.0      740.0    50.0  \n",
       "other                167.0    5.0   10.0    15.0     4.0      586.0     NaN  \n",
       "sedan                257.0   99.0  131.0   735.0   170.0    14847.0   487.0  \n",
       "small                166.0   99.0  810.0  1475.0    49.0    15294.0     6.0  \n",
       "suv                  174.0   42.0  557.0   252.0     NaN      247.0    30.0  \n",
       "wagon                104.0  241.0   84.0   449.0    66.0     9704.0  1655.0  \n",
       "\n",
       "[8 rows x 40 columns]"
      ]
     },
     "execution_count": 21,
     "metadata": {},
     "output_type": "execute_result"
    }
   ],
   "source": [
    "vehicle_type = df_auto.pivot_table(index=['VehicleType'], \n",
    "                                   columns=['Brand'],\n",
    "                                   values=['Price'],\n",
    "                                   aggfunc=['count'],)\n",
    "vehicle_type"
   ]
  },
  {
   "cell_type": "code",
   "execution_count": 22,
   "metadata": {},
   "outputs": [
    {
     "data": {
      "text/plain": [
       "sedan          777\n",
       "wagon          388\n",
       "small          185\n",
       "coupe          180\n",
       "convertible    111\n",
       "other           10\n",
       "Name: VehicleType, dtype: int64"
      ]
     },
     "execution_count": 22,
     "metadata": {},
     "output_type": "execute_result"
    }
   ],
   "source": [
    "df_auto[df_auto['Brand'] == 'alfa_romeo']['VehicleType'].value_counts()"
   ]
  },
  {
   "cell_type": "code",
   "execution_count": 23,
   "metadata": {},
   "outputs": [
    {
     "data": {
      "text/html": [
       "<div>\n",
       "<style scoped>\n",
       "    .dataframe tbody tr th:only-of-type {\n",
       "        vertical-align: middle;\n",
       "    }\n",
       "\n",
       "    .dataframe tbody tr th {\n",
       "        vertical-align: top;\n",
       "    }\n",
       "\n",
       "    .dataframe thead th {\n",
       "        text-align: right;\n",
       "    }\n",
       "</style>\n",
       "<table border=\"1\" class=\"dataframe\">\n",
       "  <thead>\n",
       "    <tr style=\"text-align: right;\">\n",
       "      <th>Brand</th>\n",
       "      <th>alfa_romeo</th>\n",
       "      <th>audi</th>\n",
       "      <th>bmw</th>\n",
       "      <th>chevrolet</th>\n",
       "      <th>chrysler</th>\n",
       "      <th>citroen</th>\n",
       "      <th>dacia</th>\n",
       "      <th>daewoo</th>\n",
       "      <th>daihatsu</th>\n",
       "      <th>fiat</th>\n",
       "      <th>...</th>\n",
       "      <th>seat</th>\n",
       "      <th>skoda</th>\n",
       "      <th>smart</th>\n",
       "      <th>sonstige_autos</th>\n",
       "      <th>subaru</th>\n",
       "      <th>suzuki</th>\n",
       "      <th>toyota</th>\n",
       "      <th>trabant</th>\n",
       "      <th>volkswagen</th>\n",
       "      <th>volvo</th>\n",
       "    </tr>\n",
       "    <tr>\n",
       "      <th>VehicleType</th>\n",
       "      <th></th>\n",
       "      <th></th>\n",
       "      <th></th>\n",
       "      <th></th>\n",
       "      <th></th>\n",
       "      <th></th>\n",
       "      <th></th>\n",
       "      <th></th>\n",
       "      <th></th>\n",
       "      <th></th>\n",
       "      <th></th>\n",
       "      <th></th>\n",
       "      <th></th>\n",
       "      <th></th>\n",
       "      <th></th>\n",
       "      <th></th>\n",
       "      <th></th>\n",
       "      <th></th>\n",
       "      <th></th>\n",
       "      <th></th>\n",
       "      <th></th>\n",
       "    </tr>\n",
       "  </thead>\n",
       "  <tbody>\n",
       "    <tr>\n",
       "      <th>bus</th>\n",
       "      <td>NaN</td>\n",
       "      <td>10.0</td>\n",
       "      <td>4.0</td>\n",
       "      <td>98.0</td>\n",
       "      <td>370.0</td>\n",
       "      <td>1040.0</td>\n",
       "      <td>15.0</td>\n",
       "      <td>26.0</td>\n",
       "      <td>31.0</td>\n",
       "      <td>707.0</td>\n",
       "      <td>...</td>\n",
       "      <td>485.0</td>\n",
       "      <td>158.0</td>\n",
       "      <td>1.0</td>\n",
       "      <td>140.0</td>\n",
       "      <td>16.0</td>\n",
       "      <td>27.0</td>\n",
       "      <td>341.0</td>\n",
       "      <td>NaN</td>\n",
       "      <td>5936.0</td>\n",
       "      <td>NaN</td>\n",
       "    </tr>\n",
       "    <tr>\n",
       "      <th>convertible</th>\n",
       "      <td>111.0</td>\n",
       "      <td>667.0</td>\n",
       "      <td>1636.0</td>\n",
       "      <td>6.0</td>\n",
       "      <td>195.0</td>\n",
       "      <td>96.0</td>\n",
       "      <td>NaN</td>\n",
       "      <td>1.0</td>\n",
       "      <td>8.0</td>\n",
       "      <td>257.0</td>\n",
       "      <td>...</td>\n",
       "      <td>NaN</td>\n",
       "      <td>3.0</td>\n",
       "      <td>988.0</td>\n",
       "      <td>161.0</td>\n",
       "      <td>NaN</td>\n",
       "      <td>32.0</td>\n",
       "      <td>47.0</td>\n",
       "      <td>30.0</td>\n",
       "      <td>2029.0</td>\n",
       "      <td>35.0</td>\n",
       "    </tr>\n",
       "    <tr>\n",
       "      <th>coupe</th>\n",
       "      <td>180.0</td>\n",
       "      <td>651.0</td>\n",
       "      <td>2570.0</td>\n",
       "      <td>45.0</td>\n",
       "      <td>17.0</td>\n",
       "      <td>137.0</td>\n",
       "      <td>NaN</td>\n",
       "      <td>2.0</td>\n",
       "      <td>NaN</td>\n",
       "      <td>151.0</td>\n",
       "      <td>...</td>\n",
       "      <td>64.0</td>\n",
       "      <td>6.0</td>\n",
       "      <td>318.0</td>\n",
       "      <td>79.0</td>\n",
       "      <td>3.0</td>\n",
       "      <td>4.0</td>\n",
       "      <td>178.0</td>\n",
       "      <td>2.0</td>\n",
       "      <td>740.0</td>\n",
       "      <td>50.0</td>\n",
       "    </tr>\n",
       "    <tr>\n",
       "      <th>other</th>\n",
       "      <td>10.0</td>\n",
       "      <td>83.0</td>\n",
       "      <td>187.0</td>\n",
       "      <td>18.0</td>\n",
       "      <td>6.0</td>\n",
       "      <td>95.0</td>\n",
       "      <td>5.0</td>\n",
       "      <td>5.0</td>\n",
       "      <td>9.0</td>\n",
       "      <td>151.0</td>\n",
       "      <td>...</td>\n",
       "      <td>47.0</td>\n",
       "      <td>21.0</td>\n",
       "      <td>8.0</td>\n",
       "      <td>167.0</td>\n",
       "      <td>5.0</td>\n",
       "      <td>10.0</td>\n",
       "      <td>15.0</td>\n",
       "      <td>4.0</td>\n",
       "      <td>586.0</td>\n",
       "      <td>NaN</td>\n",
       "    </tr>\n",
       "    <tr>\n",
       "      <th>sedan</th>\n",
       "      <td>777.0</td>\n",
       "      <td>7828.0</td>\n",
       "      <td>11309.0</td>\n",
       "      <td>146.0</td>\n",
       "      <td>205.0</td>\n",
       "      <td>538.0</td>\n",
       "      <td>97.0</td>\n",
       "      <td>87.0</td>\n",
       "      <td>35.0</td>\n",
       "      <td>796.0</td>\n",
       "      <td>...</td>\n",
       "      <td>1220.0</td>\n",
       "      <td>694.0</td>\n",
       "      <td>26.0</td>\n",
       "      <td>257.0</td>\n",
       "      <td>99.0</td>\n",
       "      <td>131.0</td>\n",
       "      <td>735.0</td>\n",
       "      <td>170.0</td>\n",
       "      <td>14847.0</td>\n",
       "      <td>487.0</td>\n",
       "    </tr>\n",
       "    <tr>\n",
       "      <th>small</th>\n",
       "      <td>185.0</td>\n",
       "      <td>933.0</td>\n",
       "      <td>324.0</td>\n",
       "      <td>574.0</td>\n",
       "      <td>12.0</td>\n",
       "      <td>1372.0</td>\n",
       "      <td>178.0</td>\n",
       "      <td>247.0</td>\n",
       "      <td>439.0</td>\n",
       "      <td>4520.0</td>\n",
       "      <td>...</td>\n",
       "      <td>2621.0</td>\n",
       "      <td>930.0</td>\n",
       "      <td>3099.0</td>\n",
       "      <td>166.0</td>\n",
       "      <td>99.0</td>\n",
       "      <td>810.0</td>\n",
       "      <td>1475.0</td>\n",
       "      <td>49.0</td>\n",
       "      <td>15294.0</td>\n",
       "      <td>6.0</td>\n",
       "    </tr>\n",
       "    <tr>\n",
       "      <th>suv</th>\n",
       "      <td>NaN</td>\n",
       "      <td>18.0</td>\n",
       "      <td>189.0</td>\n",
       "      <td>146.0</td>\n",
       "      <td>12.0</td>\n",
       "      <td>8.0</td>\n",
       "      <td>46.0</td>\n",
       "      <td>1.0</td>\n",
       "      <td>46.0</td>\n",
       "      <td>17.0</td>\n",
       "      <td>...</td>\n",
       "      <td>1.0</td>\n",
       "      <td>7.0</td>\n",
       "      <td>NaN</td>\n",
       "      <td>174.0</td>\n",
       "      <td>42.0</td>\n",
       "      <td>557.0</td>\n",
       "      <td>252.0</td>\n",
       "      <td>NaN</td>\n",
       "      <td>247.0</td>\n",
       "      <td>30.0</td>\n",
       "    </tr>\n",
       "    <tr>\n",
       "      <th>wagon</th>\n",
       "      <td>388.0</td>\n",
       "      <td>6422.0</td>\n",
       "      <td>4997.0</td>\n",
       "      <td>83.0</td>\n",
       "      <td>183.0</td>\n",
       "      <td>497.0</td>\n",
       "      <td>227.0</td>\n",
       "      <td>36.0</td>\n",
       "      <td>16.0</td>\n",
       "      <td>370.0</td>\n",
       "      <td>...</td>\n",
       "      <td>215.0</td>\n",
       "      <td>1763.0</td>\n",
       "      <td>9.0</td>\n",
       "      <td>104.0</td>\n",
       "      <td>241.0</td>\n",
       "      <td>84.0</td>\n",
       "      <td>449.0</td>\n",
       "      <td>66.0</td>\n",
       "      <td>9704.0</td>\n",
       "      <td>1655.0</td>\n",
       "    </tr>\n",
       "  </tbody>\n",
       "</table>\n",
       "<p>8 rows × 40 columns</p>\n",
       "</div>"
      ],
      "text/plain": [
       "Brand        alfa_romeo    audi      bmw  chevrolet  chrysler  citroen  dacia  \\\n",
       "VehicleType                                                                     \n",
       "bus                 NaN    10.0      4.0       98.0     370.0   1040.0   15.0   \n",
       "convertible       111.0   667.0   1636.0        6.0     195.0     96.0    NaN   \n",
       "coupe             180.0   651.0   2570.0       45.0      17.0    137.0    NaN   \n",
       "other              10.0    83.0    187.0       18.0       6.0     95.0    5.0   \n",
       "sedan             777.0  7828.0  11309.0      146.0     205.0    538.0   97.0   \n",
       "small             185.0   933.0    324.0      574.0      12.0   1372.0  178.0   \n",
       "suv                 NaN    18.0    189.0      146.0      12.0      8.0   46.0   \n",
       "wagon             388.0  6422.0   4997.0       83.0     183.0    497.0  227.0   \n",
       "\n",
       "Brand        daewoo  daihatsu    fiat  ...    seat   skoda   smart  \\\n",
       "VehicleType                            ...                           \n",
       "bus            26.0      31.0   707.0  ...   485.0   158.0     1.0   \n",
       "convertible     1.0       8.0   257.0  ...     NaN     3.0   988.0   \n",
       "coupe           2.0       NaN   151.0  ...    64.0     6.0   318.0   \n",
       "other           5.0       9.0   151.0  ...    47.0    21.0     8.0   \n",
       "sedan          87.0      35.0   796.0  ...  1220.0   694.0    26.0   \n",
       "small         247.0     439.0  4520.0  ...  2621.0   930.0  3099.0   \n",
       "suv             1.0      46.0    17.0  ...     1.0     7.0     NaN   \n",
       "wagon          36.0      16.0   370.0  ...   215.0  1763.0     9.0   \n",
       "\n",
       "Brand        sonstige_autos  subaru  suzuki  toyota  trabant  volkswagen  \\\n",
       "VehicleType                                                                \n",
       "bus                   140.0    16.0    27.0   341.0      NaN      5936.0   \n",
       "convertible           161.0     NaN    32.0    47.0     30.0      2029.0   \n",
       "coupe                  79.0     3.0     4.0   178.0      2.0       740.0   \n",
       "other                 167.0     5.0    10.0    15.0      4.0       586.0   \n",
       "sedan                 257.0    99.0   131.0   735.0    170.0     14847.0   \n",
       "small                 166.0    99.0   810.0  1475.0     49.0     15294.0   \n",
       "suv                   174.0    42.0   557.0   252.0      NaN       247.0   \n",
       "wagon                 104.0   241.0    84.0   449.0     66.0      9704.0   \n",
       "\n",
       "Brand         volvo  \n",
       "VehicleType          \n",
       "bus             NaN  \n",
       "convertible    35.0  \n",
       "coupe          50.0  \n",
       "other           NaN  \n",
       "sedan         487.0  \n",
       "small           6.0  \n",
       "suv            30.0  \n",
       "wagon        1655.0  \n",
       "\n",
       "[8 rows x 40 columns]"
      ]
     },
     "execution_count": 23,
     "metadata": {},
     "output_type": "execute_result"
    }
   ],
   "source": [
    "vehicle_type = vehicle_type['count']['Price']\n",
    "vehicle_type"
   ]
  },
  {
   "cell_type": "markdown",
   "metadata": {},
   "source": [
    "Заполним словарь брендов и популярных типов машин и заполним пропуски по столбцу VehicleType:"
   ]
  },
  {
   "cell_type": "code",
   "execution_count": 24,
   "metadata": {},
   "outputs": [
    {
     "name": "stdout",
     "output_type": "stream",
     "text": [
      "<class 'pandas.core.frame.DataFrame'>\n",
      "Int64Index: 247665 entries, 0 to 354368\n",
      "Data columns (total 10 columns):\n",
      " #   Column            Non-Null Count   Dtype \n",
      "---  ------            --------------   ----- \n",
      " 0   VehicleType       233142 non-null  object\n",
      " 1   Gearbox           247665 non-null  object\n",
      " 2   Power             247665 non-null  int64 \n",
      " 3   Kilometer         247665 non-null  int64 \n",
      " 4   FuelType          229443 non-null  object\n",
      " 5   Brand             247665 non-null  object\n",
      " 6   NotRepaired       247665 non-null  object\n",
      " 7   RegistrationYear  247665 non-null  int64 \n",
      " 8   Model             247665 non-null  object\n",
      " 9   Price             247665 non-null  int64 \n",
      "dtypes: int64(4), object(6)\n",
      "memory usage: 20.8+ MB\n"
     ]
    }
   ],
   "source": [
    "df_auto.info()"
   ]
  },
  {
   "cell_type": "code",
   "execution_count": 25,
   "metadata": {},
   "outputs": [],
   "source": [
    "df_auto['VehicleType'] = df_auto['VehicleType'].fillna(0)"
   ]
  },
  {
   "cell_type": "code",
   "execution_count": 26,
   "metadata": {},
   "outputs": [],
   "source": [
    "def fillna_by_brand(row, row_number, vehicle_type):\n",
    "    brand = row[5]\n",
    "    fill_value = row[row_number]\n",
    "    if row[row_number] == 0:\n",
    "        fill_value = vehicle_type[brand].idxmax()\n",
    "    return fill_value"
   ]
  },
  {
   "cell_type": "code",
   "execution_count": 27,
   "metadata": {},
   "outputs": [],
   "source": [
    "df_auto['VehicleType'] = df_auto.apply(\n",
    "                                fillna_by_brand, \n",
    "                                args=[0, vehicle_type],\n",
    "                                axis=1)"
   ]
  },
  {
   "cell_type": "code",
   "execution_count": 28,
   "metadata": {},
   "outputs": [
    {
     "data": {
      "text/plain": [
       "0"
      ]
     },
     "execution_count": 28,
     "metadata": {},
     "output_type": "execute_result"
    }
   ],
   "source": [
    "df_auto['VehicleType'].isna().sum()"
   ]
  },
  {
   "cell_type": "code",
   "execution_count": 29,
   "metadata": {},
   "outputs": [
    {
     "data": {
      "text/plain": [
       "small          76545\n",
       "sedan          71693\n",
       "wagon          47556\n",
       "bus            21144\n",
       "convertible    12662\n",
       "coupe          10330\n",
       "suv             5285\n",
       "other           2450\n",
       "Name: VehicleType, dtype: int64"
      ]
     },
     "execution_count": 29,
     "metadata": {},
     "output_type": "execute_result"
    }
   ],
   "source": [
    "df_auto['VehicleType'].value_counts()"
   ]
  },
  {
   "cell_type": "markdown",
   "metadata": {},
   "source": [
    "Заполним пропуски в FuelType:"
   ]
  },
  {
   "cell_type": "code",
   "execution_count": 30,
   "metadata": {},
   "outputs": [
    {
     "data": {
      "text/plain": [
       "petrol      162858\n",
       "gasoline     61661\n",
       "lpg           4241\n",
       "cng            431\n",
       "other          115\n",
       "hybrid          83\n",
       "electric        54\n",
       "Name: FuelType, dtype: int64"
      ]
     },
     "execution_count": 30,
     "metadata": {},
     "output_type": "execute_result"
    }
   ],
   "source": [
    "df_auto['FuelType'].value_counts()"
   ]
  },
  {
   "cell_type": "code",
   "execution_count": 31,
   "metadata": {},
   "outputs": [
    {
     "data": {
      "text/html": [
       "<div>\n",
       "<style scoped>\n",
       "    .dataframe tbody tr th:only-of-type {\n",
       "        vertical-align: middle;\n",
       "    }\n",
       "\n",
       "    .dataframe tbody tr th {\n",
       "        vertical-align: top;\n",
       "    }\n",
       "\n",
       "    .dataframe thead th {\n",
       "        text-align: right;\n",
       "    }\n",
       "</style>\n",
       "<table border=\"1\" class=\"dataframe\">\n",
       "  <thead>\n",
       "    <tr style=\"text-align: right;\">\n",
       "      <th>Brand</th>\n",
       "      <th>alfa_romeo</th>\n",
       "      <th>audi</th>\n",
       "      <th>bmw</th>\n",
       "      <th>chevrolet</th>\n",
       "      <th>chrysler</th>\n",
       "      <th>citroen</th>\n",
       "      <th>dacia</th>\n",
       "      <th>daewoo</th>\n",
       "      <th>daihatsu</th>\n",
       "      <th>fiat</th>\n",
       "      <th>...</th>\n",
       "      <th>seat</th>\n",
       "      <th>skoda</th>\n",
       "      <th>smart</th>\n",
       "      <th>sonstige_autos</th>\n",
       "      <th>subaru</th>\n",
       "      <th>suzuki</th>\n",
       "      <th>toyota</th>\n",
       "      <th>trabant</th>\n",
       "      <th>volkswagen</th>\n",
       "      <th>volvo</th>\n",
       "    </tr>\n",
       "    <tr>\n",
       "      <th>FuelType</th>\n",
       "      <th></th>\n",
       "      <th></th>\n",
       "      <th></th>\n",
       "      <th></th>\n",
       "      <th></th>\n",
       "      <th></th>\n",
       "      <th></th>\n",
       "      <th></th>\n",
       "      <th></th>\n",
       "      <th></th>\n",
       "      <th></th>\n",
       "      <th></th>\n",
       "      <th></th>\n",
       "      <th></th>\n",
       "      <th></th>\n",
       "      <th></th>\n",
       "      <th></th>\n",
       "      <th></th>\n",
       "      <th></th>\n",
       "      <th></th>\n",
       "      <th></th>\n",
       "    </tr>\n",
       "  </thead>\n",
       "  <tbody>\n",
       "    <tr>\n",
       "      <th>cng</th>\n",
       "      <td>NaN</td>\n",
       "      <td>1.0</td>\n",
       "      <td>6.0</td>\n",
       "      <td>4.0</td>\n",
       "      <td>NaN</td>\n",
       "      <td>7.0</td>\n",
       "      <td>2.0</td>\n",
       "      <td>NaN</td>\n",
       "      <td>NaN</td>\n",
       "      <td>63.0</td>\n",
       "      <td>...</td>\n",
       "      <td>NaN</td>\n",
       "      <td>4.0</td>\n",
       "      <td>2.0</td>\n",
       "      <td>NaN</td>\n",
       "      <td>2.0</td>\n",
       "      <td>NaN</td>\n",
       "      <td>NaN</td>\n",
       "      <td>NaN</td>\n",
       "      <td>125.0</td>\n",
       "      <td>14.0</td>\n",
       "    </tr>\n",
       "    <tr>\n",
       "      <th>electric</th>\n",
       "      <td>NaN</td>\n",
       "      <td>1.0</td>\n",
       "      <td>3.0</td>\n",
       "      <td>NaN</td>\n",
       "      <td>NaN</td>\n",
       "      <td>NaN</td>\n",
       "      <td>NaN</td>\n",
       "      <td>NaN</td>\n",
       "      <td>1.0</td>\n",
       "      <td>2.0</td>\n",
       "      <td>...</td>\n",
       "      <td>NaN</td>\n",
       "      <td>NaN</td>\n",
       "      <td>1.0</td>\n",
       "      <td>16.0</td>\n",
       "      <td>NaN</td>\n",
       "      <td>NaN</td>\n",
       "      <td>NaN</td>\n",
       "      <td>NaN</td>\n",
       "      <td>1.0</td>\n",
       "      <td>NaN</td>\n",
       "    </tr>\n",
       "    <tr>\n",
       "      <th>gasoline</th>\n",
       "      <td>480.0</td>\n",
       "      <td>6502.0</td>\n",
       "      <td>5073.0</td>\n",
       "      <td>66.0</td>\n",
       "      <td>264.0</td>\n",
       "      <td>1181.0</td>\n",
       "      <td>98.0</td>\n",
       "      <td>1.0</td>\n",
       "      <td>4.0</td>\n",
       "      <td>1243.0</td>\n",
       "      <td>...</td>\n",
       "      <td>1229.0</td>\n",
       "      <td>1145.0</td>\n",
       "      <td>807.0</td>\n",
       "      <td>297.0</td>\n",
       "      <td>10.0</td>\n",
       "      <td>145.0</td>\n",
       "      <td>679.0</td>\n",
       "      <td>1.0</td>\n",
       "      <td>16655.0</td>\n",
       "      <td>582.0</td>\n",
       "    </tr>\n",
       "    <tr>\n",
       "      <th>hybrid</th>\n",
       "      <td>NaN</td>\n",
       "      <td>NaN</td>\n",
       "      <td>NaN</td>\n",
       "      <td>NaN</td>\n",
       "      <td>NaN</td>\n",
       "      <td>NaN</td>\n",
       "      <td>NaN</td>\n",
       "      <td>NaN</td>\n",
       "      <td>NaN</td>\n",
       "      <td>3.0</td>\n",
       "      <td>...</td>\n",
       "      <td>1.0</td>\n",
       "      <td>NaN</td>\n",
       "      <td>1.0</td>\n",
       "      <td>NaN</td>\n",
       "      <td>NaN</td>\n",
       "      <td>NaN</td>\n",
       "      <td>35.0</td>\n",
       "      <td>NaN</td>\n",
       "      <td>5.0</td>\n",
       "      <td>NaN</td>\n",
       "    </tr>\n",
       "    <tr>\n",
       "      <th>lpg</th>\n",
       "      <td>30.0</td>\n",
       "      <td>356.0</td>\n",
       "      <td>606.0</td>\n",
       "      <td>139.0</td>\n",
       "      <td>77.0</td>\n",
       "      <td>63.0</td>\n",
       "      <td>35.0</td>\n",
       "      <td>23.0</td>\n",
       "      <td>5.0</td>\n",
       "      <td>64.0</td>\n",
       "      <td>...</td>\n",
       "      <td>56.0</td>\n",
       "      <td>48.0</td>\n",
       "      <td>3.0</td>\n",
       "      <td>58.0</td>\n",
       "      <td>25.0</td>\n",
       "      <td>18.0</td>\n",
       "      <td>18.0</td>\n",
       "      <td>NaN</td>\n",
       "      <td>454.0</td>\n",
       "      <td>100.0</td>\n",
       "    </tr>\n",
       "    <tr>\n",
       "      <th>other</th>\n",
       "      <td>NaN</td>\n",
       "      <td>2.0</td>\n",
       "      <td>5.0</td>\n",
       "      <td>NaN</td>\n",
       "      <td>NaN</td>\n",
       "      <td>2.0</td>\n",
       "      <td>NaN</td>\n",
       "      <td>1.0</td>\n",
       "      <td>NaN</td>\n",
       "      <td>3.0</td>\n",
       "      <td>...</td>\n",
       "      <td>NaN</td>\n",
       "      <td>NaN</td>\n",
       "      <td>1.0</td>\n",
       "      <td>16.0</td>\n",
       "      <td>NaN</td>\n",
       "      <td>1.0</td>\n",
       "      <td>NaN</td>\n",
       "      <td>31.0</td>\n",
       "      <td>14.0</td>\n",
       "      <td>2.0</td>\n",
       "    </tr>\n",
       "    <tr>\n",
       "      <th>petrol</th>\n",
       "      <td>1124.0</td>\n",
       "      <td>9465.0</td>\n",
       "      <td>14948.0</td>\n",
       "      <td>884.0</td>\n",
       "      <td>642.0</td>\n",
       "      <td>2499.0</td>\n",
       "      <td>424.0</td>\n",
       "      <td>374.0</td>\n",
       "      <td>564.0</td>\n",
       "      <td>5496.0</td>\n",
       "      <td>...</td>\n",
       "      <td>3333.0</td>\n",
       "      <td>2333.0</td>\n",
       "      <td>3604.0</td>\n",
       "      <td>784.0</td>\n",
       "      <td>453.0</td>\n",
       "      <td>1457.0</td>\n",
       "      <td>2736.0</td>\n",
       "      <td>242.0</td>\n",
       "      <td>31839.0</td>\n",
       "      <td>1507.0</td>\n",
       "    </tr>\n",
       "  </tbody>\n",
       "</table>\n",
       "<p>7 rows × 40 columns</p>\n",
       "</div>"
      ],
      "text/plain": [
       "Brand     alfa_romeo    audi      bmw  chevrolet  chrysler  citroen  dacia  \\\n",
       "FuelType                                                                     \n",
       "cng              NaN     1.0      6.0        4.0       NaN      7.0    2.0   \n",
       "electric         NaN     1.0      3.0        NaN       NaN      NaN    NaN   \n",
       "gasoline       480.0  6502.0   5073.0       66.0     264.0   1181.0   98.0   \n",
       "hybrid           NaN     NaN      NaN        NaN       NaN      NaN    NaN   \n",
       "lpg             30.0   356.0    606.0      139.0      77.0     63.0   35.0   \n",
       "other            NaN     2.0      5.0        NaN       NaN      2.0    NaN   \n",
       "petrol        1124.0  9465.0  14948.0      884.0     642.0   2499.0  424.0   \n",
       "\n",
       "Brand     daewoo  daihatsu    fiat  ...    seat   skoda   smart  \\\n",
       "FuelType                            ...                           \n",
       "cng          NaN       NaN    63.0  ...     NaN     4.0     2.0   \n",
       "electric     NaN       1.0     2.0  ...     NaN     NaN     1.0   \n",
       "gasoline     1.0       4.0  1243.0  ...  1229.0  1145.0   807.0   \n",
       "hybrid       NaN       NaN     3.0  ...     1.0     NaN     1.0   \n",
       "lpg         23.0       5.0    64.0  ...    56.0    48.0     3.0   \n",
       "other        1.0       NaN     3.0  ...     NaN     NaN     1.0   \n",
       "petrol     374.0     564.0  5496.0  ...  3333.0  2333.0  3604.0   \n",
       "\n",
       "Brand     sonstige_autos  subaru  suzuki  toyota  trabant  volkswagen   volvo  \n",
       "FuelType                                                                       \n",
       "cng                  NaN     2.0     NaN     NaN      NaN       125.0    14.0  \n",
       "electric            16.0     NaN     NaN     NaN      NaN         1.0     NaN  \n",
       "gasoline           297.0    10.0   145.0   679.0      1.0     16655.0   582.0  \n",
       "hybrid               NaN     NaN     NaN    35.0      NaN         5.0     NaN  \n",
       "lpg                 58.0    25.0    18.0    18.0      NaN       454.0   100.0  \n",
       "other               16.0     NaN     1.0     NaN     31.0        14.0     2.0  \n",
       "petrol             784.0   453.0  1457.0  2736.0    242.0     31839.0  1507.0  \n",
       "\n",
       "[7 rows x 40 columns]"
      ]
     },
     "execution_count": 31,
     "metadata": {},
     "output_type": "execute_result"
    }
   ],
   "source": [
    "fuel_type = df_auto.pivot_table(index=['FuelType'], \n",
    "                                columns=['Brand'],\n",
    "                                values=['Price'],\n",
    "                                aggfunc=['count'])\n",
    "fuel_type = fuel_type['count']['Price']\n",
    "fuel_type"
   ]
  },
  {
   "cell_type": "code",
   "execution_count": 32,
   "metadata": {},
   "outputs": [],
   "source": [
    "df_auto['FuelType'] = df_auto['FuelType'].fillna(0)"
   ]
  },
  {
   "cell_type": "code",
   "execution_count": 33,
   "metadata": {},
   "outputs": [],
   "source": [
    "df_auto['FuelType'] = df_auto.apply(fillna_by_brand, \n",
    "                                    args=[4, vehicle_type],\n",
    "                                    axis=1)"
   ]
  },
  {
   "cell_type": "code",
   "execution_count": 34,
   "metadata": {},
   "outputs": [
    {
     "data": {
      "text/plain": [
       "0"
      ]
     },
     "execution_count": 34,
     "metadata": {},
     "output_type": "execute_result"
    }
   ],
   "source": [
    "df_auto['FuelType'].isna().sum()"
   ]
  },
  {
   "cell_type": "code",
   "execution_count": 35,
   "metadata": {},
   "outputs": [
    {
     "data": {
      "text/plain": [
       "petrol      162858\n",
       "gasoline     61661\n",
       "small        12152\n",
       "sedan         5523\n",
       "lpg           4241\n",
       "cng            431\n",
       "wagon          390\n",
       "other          115\n",
       "hybrid          83\n",
       "bus             74\n",
       "suv             62\n",
       "electric        54\n",
       "coupe           21\n",
       "Name: FuelType, dtype: int64"
      ]
     },
     "execution_count": 35,
     "metadata": {},
     "output_type": "execute_result"
    }
   ],
   "source": [
    "df_auto['FuelType'].value_counts()"
   ]
  },
  {
   "cell_type": "code",
   "execution_count": 36,
   "metadata": {},
   "outputs": [
    {
     "data": {
      "text/plain": [
       "VehicleType         0.0\n",
       "Gearbox             0.0\n",
       "Power               0.0\n",
       "Kilometer           0.0\n",
       "FuelType            0.0\n",
       "Brand               0.0\n",
       "NotRepaired         0.0\n",
       "RegistrationYear    0.0\n",
       "Model               0.0\n",
       "Price               0.0\n",
       "dtype: float64"
      ]
     },
     "execution_count": 36,
     "metadata": {},
     "output_type": "execute_result"
    }
   ],
   "source": [
    "df_auto.isna().mean()"
   ]
  },
  {
   "cell_type": "markdown",
   "metadata": {},
   "source": [
    "Пропусков больше нет"
   ]
  },
  {
   "cell_type": "markdown",
   "metadata": {},
   "source": [
    "Посмотрим столбец Power:"
   ]
  },
  {
   "cell_type": "code",
   "execution_count": 37,
   "metadata": {},
   "outputs": [
    {
     "data": {
      "text/plain": [
       "count    247665.000000\n",
       "mean        102.053181\n",
       "std         182.583893\n",
       "min           0.000000\n",
       "25%          67.000000\n",
       "50%         101.000000\n",
       "75%         131.000000\n",
       "max       20000.000000\n",
       "Name: Power, dtype: float64"
      ]
     },
     "execution_count": 37,
     "metadata": {},
     "output_type": "execute_result"
    }
   ],
   "source": [
    "df_auto['Power'].describe()"
   ]
  },
  {
   "cell_type": "code",
   "execution_count": 38,
   "metadata": {},
   "outputs": [
    {
     "data": {
      "image/png": "[encoded data removed]",
      "text/plain": [
       "<Figure size 576x360 with 1 Axes>"
      ]
     },
     "metadata": {
      "needs_background": "light"
     },
     "output_type": "display_data"
    }
   ],
   "source": [
    "df_auto['Power'].hist(bins=100, figsize=(8,5))\n",
    "plt.show()"
   ]
  },
  {
   "cell_type": "markdown",
   "metadata": {},
   "source": [
    "Удалим выбросы больше 1000 л.с:"
   ]
  },
  {
   "cell_type": "code",
   "execution_count": 39,
   "metadata": {},
   "outputs": [
    {
     "data": {
      "image/png": "[encoded data removed]",
      "text/plain": [
       "<Figure size 576x360 with 1 Axes>"
      ]
     },
     "metadata": {
      "needs_background": "light"
     },
     "output_type": "display_data"
    }
   ],
   "source": [
    "df_auto = df_auto.query('Power < 1001')\n",
    "df_auto['Power'].hist(bins=100, figsize=(8,5))\n",
    "plt.show()"
   ]
  },
  {
   "cell_type": "markdown",
   "metadata": {},
   "source": [
    "Из графика видно, что многие машины имеют мощность 0. Удалим эти строки.\n",
    "По правому отсечению выберем границу в 400 л.с"
   ]
  },
  {
   "cell_type": "code",
   "execution_count": 40,
   "metadata": {},
   "outputs": [
    {
     "data": {
      "image/png": "[encoded data removed]",
      "text/plain": [
       "<Figure size 576x360 with 1 Axes>"
      ]
     },
     "metadata": {
      "needs_background": "light"
     },
     "output_type": "display_data"
    }
   ],
   "source": [
    "df_auto = df_auto.query('0 < Power < 401')\n",
    "df_auto['Power'].hist(bins=100, figsize=(8,5))\n",
    "plt.show()"
   ]
  },
  {
   "cell_type": "code",
   "execution_count": 41,
   "metadata": {},
   "outputs": [
    {
     "data": {
      "image/png": "[encoded data removed]",
      "text/plain": [
       "<Figure size 576x360 with 1 Axes>"
      ]
     },
     "metadata": {
      "needs_background": "light"
     },
     "output_type": "display_data"
    }
   ],
   "source": [
    "df_auto = df_auto.query('24 < Power < 351')\n",
    "df_auto['Power'].hist(bins=100, figsize=(8,5))\n",
    "plt.show()"
   ]
  },
  {
   "cell_type": "code",
   "execution_count": 42,
   "metadata": {},
   "outputs": [
    {
     "data": {
      "text/plain": [
       "count    221412.000000\n",
       "mean        109.878900\n",
       "std          43.985727\n",
       "min          25.000000\n",
       "25%          75.000000\n",
       "50%         103.000000\n",
       "75%         136.000000\n",
       "max         350.000000\n",
       "Name: Power, dtype: float64"
      ]
     },
     "execution_count": 42,
     "metadata": {},
     "output_type": "execute_result"
    }
   ],
   "source": [
    "df_auto['Power'].describe()"
   ]
  },
  {
   "cell_type": "code",
   "execution_count": 43,
   "metadata": {
    "scrolled": true
   },
   "outputs": [
    {
     "name": "stdout",
     "output_type": "stream",
     "text": [
      "<class 'pandas.core.frame.DataFrame'>\n",
      "Int64Index: 221412 entries, 3 to 354368\n",
      "Data columns (total 10 columns):\n",
      " #   Column            Non-Null Count   Dtype \n",
      "---  ------            --------------   ----- \n",
      " 0   VehicleType       221412 non-null  object\n",
      " 1   Gearbox           221412 non-null  object\n",
      " 2   Power             221412 non-null  int64 \n",
      " 3   Kilometer         221412 non-null  int64 \n",
      " 4   FuelType          221412 non-null  object\n",
      " 5   Brand             221412 non-null  object\n",
      " 6   NotRepaired       221412 non-null  object\n",
      " 7   RegistrationYear  221412 non-null  int64 \n",
      " 8   Model             221412 non-null  object\n",
      " 9   Price             221412 non-null  int64 \n",
      "dtypes: int64(4), object(6)\n",
      "memory usage: 18.6+ MB\n"
     ]
    }
   ],
   "source": [
    "df_auto.info()"
   ]
  },
  {
   "cell_type": "markdown",
   "metadata": {},
   "source": [
    "Проведем замену столбцов Gearbox и NotRepaired на булев тип:\n",
    "\n",
    "- IsManualGearbox. 1(manual) - означает механическую коробку передач. 0(auto) - автоматическую.\n",
    "- IsNotRepaired. 1(yes) - означает машину без ремонта. 0(no) - с ремонтом"
   ]
  },
  {
   "cell_type": "code",
   "execution_count": 44,
   "metadata": {},
   "outputs": [
    {
     "data": {
      "text/plain": [
       "1    186647\n",
       "0     34765\n",
       "Name: IsManualGearbox, dtype: int64"
      ]
     },
     "execution_count": 44,
     "metadata": {},
     "output_type": "execute_result"
    }
   ],
   "source": [
    "df_auto['IsManualGearbox'] = 0\n",
    "df_auto.loc[df_auto['Gearbox'] == 'manual', 'IsManualGearbox'] = 1\n",
    "df_auto['IsManualGearbox'].value_counts()"
   ]
  },
  {
   "cell_type": "code",
   "execution_count": 45,
   "metadata": {},
   "outputs": [
    {
     "data": {
      "text/plain": [
       "manual    186647\n",
       "auto       34765\n",
       "Name: Gearbox, dtype: int64"
      ]
     },
     "execution_count": 45,
     "metadata": {},
     "output_type": "execute_result"
    }
   ],
   "source": [
    "df_auto['Gearbox'].value_counts()"
   ]
  },
  {
   "cell_type": "code",
   "execution_count": 46,
   "metadata": {},
   "outputs": [
    {
     "data": {
      "text/plain": [
       "0    163035\n",
       "1     58377\n",
       "Name: IsNotRepaired, dtype: int64"
      ]
     },
     "execution_count": 46,
     "metadata": {},
     "output_type": "execute_result"
    }
   ],
   "source": [
    "df_auto['IsNotRepaired'] = 0\n",
    "df_auto.loc[df_auto['NotRepaired'] == 'yes', 'IsNotRepaired'] = 1\n",
    "df_auto['IsNotRepaired'].value_counts()"
   ]
  },
  {
   "cell_type": "code",
   "execution_count": 47,
   "metadata": {},
   "outputs": [
    {
     "data": {
      "text/plain": [
       "no     163035\n",
       "yes     58377\n",
       "Name: NotRepaired, dtype: int64"
      ]
     },
     "execution_count": 47,
     "metadata": {},
     "output_type": "execute_result"
    }
   ],
   "source": [
    "df_auto['NotRepaired'].value_counts()"
   ]
  },
  {
   "cell_type": "markdown",
   "metadata": {},
   "source": [
    "Удалим ненужные столбцы и уменьшим размерность хранения типа для ускорения работы:"
   ]
  },
  {
   "cell_type": "code",
   "execution_count": 48,
   "metadata": {},
   "outputs": [
    {
     "name": "stdout",
     "output_type": "stream",
     "text": [
      "<class 'pandas.core.frame.DataFrame'>\n",
      "Int64Index: 221412 entries, 3 to 354368\n",
      "Data columns (total 10 columns):\n",
      " #   Column            Non-Null Count   Dtype \n",
      "---  ------            --------------   ----- \n",
      " 0   VehicleType       221412 non-null  object\n",
      " 1   Power             221412 non-null  int16 \n",
      " 2   Kilometer         221412 non-null  int32 \n",
      " 3   FuelType          221412 non-null  object\n",
      " 4   Brand             221412 non-null  object\n",
      " 5   RegistrationYear  221412 non-null  int16 \n",
      " 6   Model             221412 non-null  object\n",
      " 7   Price             221412 non-null  int16 \n",
      " 8   IsManualGearbox   221412 non-null  int8  \n",
      " 9   IsNotRepaired     221412 non-null  int8  \n",
      "dtypes: int16(3), int32(1), int8(2), object(4)\n",
      "memory usage: 11.0+ MB\n"
     ]
    }
   ],
   "source": [
    "df_auto = df_auto.drop(['NotRepaired','Gearbox'], axis=1)\n",
    "df_auto['IsNotRepaired'] = pd.to_numeric(df_auto['IsNotRepaired'], downcast='integer')\n",
    "df_auto['IsManualGearbox'] = pd.to_numeric(df_auto['IsManualGearbox'], downcast='integer')\n",
    "df_auto['RegistrationYear'] = pd.to_numeric(df_auto['RegistrationYear'], downcast='integer')\n",
    "df_auto['Power'] = pd.to_numeric(df_auto['Power'], downcast='integer')\n",
    "df_auto['Kilometer'] = pd.to_numeric(df_auto['Kilometer'], downcast='integer')\n",
    "df_auto['Price'] = pd.to_numeric(df_auto['Price'], downcast='integer')\n",
    "df_auto.info()"
   ]
  },
  {
   "cell_type": "code",
   "execution_count": 49,
   "metadata": {},
   "outputs": [
    {
     "name": "stdout",
     "output_type": "stream",
     "text": [
      "Уменьшение использования памяти на 75.29%\n"
     ]
    }
   ],
   "source": [
    "print('Уменьшение использования памяти на {:.2%}'.format(1 - 10.7/43.3))"
   ]
  },
  {
   "cell_type": "markdown",
   "metadata": {},
   "source": [
    "### Вывод"
   ]
  },
  {
   "cell_type": "markdown",
   "metadata": {},
   "source": [
    "- Была изучена таблица данных\n",
    "- Выведены аномальные и пропущенные значения\n",
    "- Отобраны небходимые столбцы для обучения модели\n",
    "- Заполнены пропуски в столбцах и удалены некорректные значения\n",
    "- Заменены категориальные признаки на численные в столбцах Gearbox и NotRepaired \n",
    "- Выигрыш в памяти составляет 75% (это ускорит обращение к памяти при обучении модели)"
   ]
  },
  {
   "cell_type": "markdown",
   "metadata": {},
   "source": [
    "## Обучение моделей"
   ]
  },
  {
   "cell_type": "markdown",
   "metadata": {},
   "source": [
    "Выберем следующие регрессоры для обучения модели:\n",
    "\n",
    "- LinearRegression\n",
    "- DecisionTreeRegressor\n",
    "- CatBoostRegressor\n",
    "\n",
    "В качестве метрики для всех моделей будем использовать MSE и в финальной таблице переведем в RMSE. Качество моделей будем проверять на кроссвалидации.\n",
    "\n",
    "Подготовим 3 типа признаков для кроссвалидации:\n",
    "\n",
    "- **Features** - неизмененные\n",
    "- **Ohe_features** - закодированные методом OHE\n",
    "- **Ordinal_features** - закодированные методом OE"
   ]
  },
  {
   "cell_type": "markdown",
   "metadata": {},
   "source": [
    "Выделем признаки:"
   ]
  },
  {
   "cell_type": "code",
   "execution_count": 50,
   "metadata": {},
   "outputs": [],
   "source": [
    "features = df_auto.drop('Price', axis=1)\n",
    "target = df_auto['Price']"
   ]
  },
  {
   "cell_type": "markdown",
   "metadata": {},
   "source": [
    "Прямое кодирование"
   ]
  },
  {
   "cell_type": "code",
   "execution_count": 51,
   "metadata": {},
   "outputs": [],
   "source": [
    "encoder = OrdinalEncoder()\n",
    "cat_columns = ['VehicleType','FuelType','Brand','Model']\n",
    "cat_features = features[cat_columns]\n",
    "cat_features = pd.DataFrame(encoder.fit_transform(cat_features),\n",
    "                                columns=cat_features.columns, \n",
    "                                index=cat_features.index)\n",
    "ordinal_features = features.copy()\n",
    "for column in cat_columns:\n",
    "    ordinal_features[column] = cat_features[column]"
   ]
  },
  {
   "cell_type": "markdown",
   "metadata": {},
   "source": [
    "OHE кодирование"
   ]
  },
  {
   "cell_type": "code",
   "execution_count": 52,
   "metadata": {},
   "outputs": [],
   "source": [
    "ohe_features = pd.get_dummies(features, drop_first=True)"
   ]
  },
  {
   "cell_type": "code",
   "execution_count": 53,
   "metadata": {},
   "outputs": [],
   "source": [
    "features_train, features_test, target_train, target_test = train_test_split(\n",
    "    features, target, test_size=0.25, random_state=12345)"
   ]
  },
  {
   "cell_type": "code",
   "execution_count": 54,
   "metadata": {},
   "outputs": [],
   "source": [
    "ordinal_features_train = ordinal_features.loc[features_train.index, :]\n",
    "ordinal_features_test = ordinal_features.loc[features_test.index, :]"
   ]
  },
  {
   "cell_type": "code",
   "execution_count": 55,
   "metadata": {},
   "outputs": [],
   "source": [
    "ohe_features_train = ohe_features.loc[features_train.index, :]\n",
    "ohe_features_test = ohe_features.loc[features_test.index, :]"
   ]
  },
  {
   "cell_type": "markdown",
   "metadata": {},
   "source": [
    "### Линейная регрессия"
   ]
  },
  {
   "cell_type": "code",
   "execution_count": 56,
   "metadata": {},
   "outputs": [
    {
     "name": "stdout",
     "output_type": "stream",
     "text": [
      "# Train for root_mean_squared_error\n",
      "\n",
      "Mean RMSE from CV of LinearRegression = 1351.192165607461\n",
      "CPU times: user 49.4 s, sys: 14.9 s, total: 1min 4s\n",
      "Wall time: 1min 4s\n"
     ]
    }
   ],
   "source": [
    "%%time\n",
    "\n",
    "regressor = LinearRegression()\n",
    "print('# Train for root_mean_squared_error')\n",
    "print()\n",
    "cv_RMSE_LR = (cross_val_score(regressor, \n",
    "                             ohe_features_train, \n",
    "                             target_train, \n",
    "                             cv=5, \n",
    "                             scoring='neg_mean_squared_error').mean() * -1) ** 0.5\n",
    "print('Mean RMSE from CV of LinearRegression =', cv_RMSE_LR)"
   ]
  },
  {
   "cell_type": "code",
   "execution_count": 57,
   "metadata": {},
   "outputs": [
    {
     "name": "stdout",
     "output_type": "stream",
     "text": [
      "# Train for root_mean_squared_error\n",
      "\n",
      "Mean RMSE from CV of LinearRegression = 9371802235995.285\n",
      "CPU times: user 54 s, sys: 20.2 s, total: 1min 14s\n",
      "Wall time: 1min 14s\n"
     ]
    }
   ],
   "source": [
    "%%time\n",
    "\n",
    "regressor = LinearRegression()\n",
    "scaller = StandardScaler()\n",
    "pipeline = Pipeline([(\"standard_scaller\", scaller),(\"linear_regression\", regressor)])\n",
    "print('# Train for root_mean_squared_error')\n",
    "print()\n",
    "cv_RMSE_LR_S = (cross_val_score(pipeline,\n",
    "                                ohe_features_train, \n",
    "                                target_train, \n",
    "                                cv=5, \n",
    "                                scoring='neg_mean_squared_error').mean() * -1) ** 0.5\n",
    "print('Mean RMSE from CV of LinearRegression =', cv_RMSE_LR_S)"
   ]
  },
  {
   "cell_type": "markdown",
   "metadata": {},
   "source": [
    "Масштабирование признаков ухудшает модель. Откажемся от применение масштаба"
   ]
  },
  {
   "cell_type": "code",
   "execution_count": 58,
   "metadata": {},
   "outputs": [
    {
     "name": "stdout",
     "output_type": "stream",
     "text": [
      "CPU times: user 13.1 s, sys: 4.83 s, total: 17.9 s\n",
      "Wall time: 18 s\n"
     ]
    },
    {
     "data": {
      "text/plain": [
       "LinearRegression()"
      ]
     },
     "execution_count": 58,
     "metadata": {},
     "output_type": "execute_result"
    }
   ],
   "source": [
    "%%time\n",
    "\n",
    "model = LinearRegression()\n",
    "model.fit(ohe_features_train, target_train)"
   ]
  },
  {
   "cell_type": "code",
   "execution_count": 59,
   "metadata": {},
   "outputs": [
    {
     "name": "stdout",
     "output_type": "stream",
     "text": [
      "CPU times: user 136 ms, sys: 103 ms, total: 239 ms\n",
      "Wall time: 220 ms\n"
     ]
    }
   ],
   "source": [
    "%%time\n",
    "\n",
    "target_predict = model.predict(ohe_features_test)"
   ]
  },
  {
   "cell_type": "code",
   "execution_count": 60,
   "metadata": {},
   "outputs": [],
   "source": [
    "final_RMSE_LR = mean_squared_error(target_test, target_predict) ** 0.5"
   ]
  },
  {
   "cell_type": "markdown",
   "metadata": {},
   "source": [
    "### Дерево решений"
   ]
  },
  {
   "cell_type": "markdown",
   "metadata": {},
   "source": [
    "Проведем два эксперимента:\n",
    "\n",
    "- Проверим модель на принаках, закодированных по методу OHE.\n",
    "- На признаках, закодированных по методу OE"
   ]
  },
  {
   "cell_type": "code",
   "execution_count": 61,
   "metadata": {},
   "outputs": [
    {
     "name": "stdout",
     "output_type": "stream",
     "text": [
      "# Tuning hyper-parameters for root_mean_squared_error\n",
      "\n",
      "Best parameters set found on development set:\n",
      "\n",
      "{'criterion': 'mse', 'max_depth': 15, 'random_state': 12345}\n",
      "\n",
      "Grid scores on development set:\n",
      "\n",
      "1552.394519 for {'criterion': 'mse', 'max_depth': 2, 'random_state': 12345}\n",
      "1471.210325 for {'criterion': 'mse', 'max_depth': 3, 'random_state': 12345}\n",
      "1375.930761 for {'criterion': 'mse', 'max_depth': 4, 'random_state': 12345}\n",
      "1305.640675 for {'criterion': 'mse', 'max_depth': 5, 'random_state': 12345}\n",
      "1255.469902 for {'criterion': 'mse', 'max_depth': 6, 'random_state': 12345}\n",
      "1210.134237 for {'criterion': 'mse', 'max_depth': 7, 'random_state': 12345}\n",
      "1173.198611 for {'criterion': 'mse', 'max_depth': 8, 'random_state': 12345}\n",
      "1142.235382 for {'criterion': 'mse', 'max_depth': 9, 'random_state': 12345}\n",
      "1116.627864 for {'criterion': 'mse', 'max_depth': 10, 'random_state': 12345}\n",
      "1096.880240 for {'criterion': 'mse', 'max_depth': 11, 'random_state': 12345}\n",
      "1082.011016 for {'criterion': 'mse', 'max_depth': 12, 'random_state': 12345}\n",
      "1071.671611 for {'criterion': 'mse', 'max_depth': 13, 'random_state': 12345}\n",
      "1064.496304 for {'criterion': 'mse', 'max_depth': 14, 'random_state': 12345}\n",
      "1059.722631 for {'criterion': 'mse', 'max_depth': 15, 'random_state': 12345}\n",
      "1060.340551 for {'criterion': 'mse', 'max_depth': 16, 'random_state': 12345}\n",
      "1061.069631 for {'criterion': 'mse', 'max_depth': 17, 'random_state': 12345}\n",
      "1068.034721 for {'criterion': 'mse', 'max_depth': 18, 'random_state': 12345}\n",
      "1071.974927 for {'criterion': 'mse', 'max_depth': 19, 'random_state': 12345}\n",
      "1075.587922 for {'criterion': 'mse', 'max_depth': 20, 'random_state': 12345}\n",
      "1082.044311 for {'criterion': 'mse', 'max_depth': 21, 'random_state': 12345}\n",
      "1085.557639 for {'criterion': 'mse', 'max_depth': 22, 'random_state': 12345}\n",
      "1089.252991 for {'criterion': 'mse', 'max_depth': 23, 'random_state': 12345}\n",
      "1093.686515 for {'criterion': 'mse', 'max_depth': 24, 'random_state': 12345}\n",
      "1096.956792 for {'criterion': 'mse', 'max_depth': 25, 'random_state': 12345}\n",
      "1100.932409 for {'criterion': 'mse', 'max_depth': 26, 'random_state': 12345}\n",
      "1102.992661 for {'criterion': 'mse', 'max_depth': 27, 'random_state': 12345}\n",
      "1106.332563 for {'criterion': 'mse', 'max_depth': 28, 'random_state': 12345}\n",
      "1107.714977 for {'criterion': 'mse', 'max_depth': 29, 'random_state': 12345}\n",
      "1110.277222 for {'criterion': 'mse', 'max_depth': 30, 'random_state': 12345}\n",
      "\n",
      "CPU times: user 6min 11s, sys: 12.4 s, total: 6min 23s\n",
      "Wall time: 6min 26s\n"
     ]
    }
   ],
   "source": [
    "%%time\n",
    "\n",
    "regressor = DecisionTreeRegressor() \n",
    "max_depth_list = [x for x in range(2, 31)]\n",
    "hyperparams = [{'criterion':['mse'], \n",
    "                'max_depth':max_depth_list, \n",
    "                'random_state':[12345]}]\n",
    "\n",
    "print('# Tuning hyper-parameters for root_mean_squared_error')\n",
    "print()\n",
    "clf = GridSearchCV(regressor, hyperparams, scoring='neg_mean_squared_error')\n",
    "clf.fit(ohe_features_train, target_train)\n",
    "print(\"Best parameters set found on development set:\")\n",
    "print()\n",
    "print(clf.best_params_)\n",
    "print()\n",
    "print(\"Grid scores on development set:\")\n",
    "print()\n",
    "means = clf.cv_results_['mean_test_score']\n",
    "stds = clf.cv_results_['std_test_score']\n",
    "for mean, std, params in zip(means, stds, clf.cv_results_['params']):\n",
    "    print(\"%0.6f for %r\"% ((mean*-1)** 0.5, params))\n",
    "print()\n",
    "\n",
    "cv_RMSE_DTR_ohe = (max(means)*-1) ** 0.5"
   ]
  },
  {
   "cell_type": "markdown",
   "metadata": {},
   "source": [
    "Обучим модель на лучших геперпараметрах:"
   ]
  },
  {
   "cell_type": "code",
   "execution_count": 62,
   "metadata": {},
   "outputs": [
    {
     "name": "stdout",
     "output_type": "stream",
     "text": [
      "CPU times: user 3.51 s, sys: 73.4 ms, total: 3.58 s\n",
      "Wall time: 3.69 s\n"
     ]
    },
    {
     "data": {
      "text/plain": [
       "DecisionTreeRegressor(max_depth=15, random_state=12345)"
      ]
     },
     "execution_count": 62,
     "metadata": {},
     "output_type": "execute_result"
    }
   ],
   "source": [
    "%%time\n",
    "\n",
    "model = DecisionTreeRegressor(criterion='mse', \n",
    "                              max_depth=15, \n",
    "                              random_state=12345) \n",
    "model.fit(ohe_features_train, target_train)"
   ]
  },
  {
   "cell_type": "code",
   "execution_count": 63,
   "metadata": {},
   "outputs": [
    {
     "name": "stdout",
     "output_type": "stream",
     "text": [
      "CPU times: user 40.5 ms, sys: 33.2 ms, total: 73.7 ms\n",
      "Wall time: 87.1 ms\n"
     ]
    }
   ],
   "source": [
    "%%time\n",
    "\n",
    "target_predict = model.predict(ohe_features_test)"
   ]
  },
  {
   "cell_type": "code",
   "execution_count": 64,
   "metadata": {},
   "outputs": [],
   "source": [
    "final_RMSE_DTR_ohe = mean_squared_error(target_test, target_predict) ** 0.5 "
   ]
  },
  {
   "cell_type": "code",
   "execution_count": 65,
   "metadata": {},
   "outputs": [
    {
     "name": "stdout",
     "output_type": "stream",
     "text": [
      "# Tuning hyper-parameters for root_mean_squared_error\n",
      "\n",
      "Best parameters set found on development set:\n",
      "\n",
      "{'criterion': 'mse', 'max_depth': 13, 'random_state': 12345}\n",
      "\n",
      "Grid scores on development set:\n",
      "\n",
      "1552.394519 for {'criterion': 'mse', 'max_depth': 2, 'random_state': 12345}\n",
      "1467.894746 for {'criterion': 'mse', 'max_depth': 3, 'random_state': 12345}\n",
      "1374.190151 for {'criterion': 'mse', 'max_depth': 4, 'random_state': 12345}\n",
      "1300.623657 for {'criterion': 'mse', 'max_depth': 5, 'random_state': 12345}\n",
      "1250.477748 for {'criterion': 'mse', 'max_depth': 6, 'random_state': 12345}\n",
      "1206.540809 for {'criterion': 'mse', 'max_depth': 7, 'random_state': 12345}\n",
      "1168.069297 for {'criterion': 'mse', 'max_depth': 8, 'random_state': 12345}\n",
      "1132.654489 for {'criterion': 'mse', 'max_depth': 9, 'random_state': 12345}\n",
      "1104.534264 for {'criterion': 'mse', 'max_depth': 10, 'random_state': 12345}\n",
      "1084.246342 for {'criterion': 'mse', 'max_depth': 11, 'random_state': 12345}\n",
      "1071.997454 for {'criterion': 'mse', 'max_depth': 12, 'random_state': 12345}\n",
      "1066.525388 for {'criterion': 'mse', 'max_depth': 13, 'random_state': 12345}\n",
      "1070.909395 for {'criterion': 'mse', 'max_depth': 14, 'random_state': 12345}\n",
      "1076.187083 for {'criterion': 'mse', 'max_depth': 15, 'random_state': 12345}\n",
      "1086.925079 for {'criterion': 'mse', 'max_depth': 16, 'random_state': 12345}\n",
      "1095.650351 for {'criterion': 'mse', 'max_depth': 17, 'random_state': 12345}\n",
      "1109.053475 for {'criterion': 'mse', 'max_depth': 18, 'random_state': 12345}\n",
      "1116.034267 for {'criterion': 'mse', 'max_depth': 19, 'random_state': 12345}\n",
      "1125.949788 for {'criterion': 'mse', 'max_depth': 20, 'random_state': 12345}\n",
      "1129.591594 for {'criterion': 'mse', 'max_depth': 21, 'random_state': 12345}\n",
      "1135.608102 for {'criterion': 'mse', 'max_depth': 22, 'random_state': 12345}\n",
      "1140.383866 for {'criterion': 'mse', 'max_depth': 23, 'random_state': 12345}\n",
      "1143.181095 for {'criterion': 'mse', 'max_depth': 24, 'random_state': 12345}\n",
      "1144.539445 for {'criterion': 'mse', 'max_depth': 25, 'random_state': 12345}\n",
      "1146.024591 for {'criterion': 'mse', 'max_depth': 26, 'random_state': 12345}\n",
      "1145.703714 for {'criterion': 'mse', 'max_depth': 27, 'random_state': 12345}\n",
      "1145.128139 for {'criterion': 'mse', 'max_depth': 28, 'random_state': 12345}\n",
      "1146.143610 for {'criterion': 'mse', 'max_depth': 29, 'random_state': 12345}\n",
      "1147.561098 for {'criterion': 'mse', 'max_depth': 30, 'random_state': 12345}\n",
      "\n",
      "CPU times: user 41.4 s, sys: 0 ns, total: 41.4 s\n",
      "Wall time: 41.7 s\n"
     ]
    }
   ],
   "source": [
    "%%time\n",
    "\n",
    "regressor = DecisionTreeRegressor() \n",
    "max_depth_list = [x for x in range(2, 31)]\n",
    "hyperparams = [{'criterion':['mse'], \n",
    "                'max_depth':max_depth_list, \n",
    "                'random_state':[12345]}]\n",
    "\n",
    "print('# Tuning hyper-parameters for root_mean_squared_error')\n",
    "print()\n",
    "clf = GridSearchCV(regressor, hyperparams, scoring='neg_mean_squared_error')\n",
    "clf.fit(ordinal_features_train, target_train)\n",
    "print(\"Best parameters set found on development set:\")\n",
    "print()\n",
    "print(clf.best_params_)\n",
    "print()\n",
    "print(\"Grid scores on development set:\")\n",
    "print()\n",
    "means = clf.cv_results_['mean_test_score']\n",
    "stds = clf.cv_results_['std_test_score']\n",
    "for mean, std, params in zip(means, stds, clf.cv_results_['params']):\n",
    "    print(\"%0.6f for %r\"% ((mean*-1)** 0.5, params))\n",
    "print()\n",
    "\n",
    "cv_RMSE_DTR_ordinal = (max(means)*-1) ** 0.5"
   ]
  },
  {
   "cell_type": "markdown",
   "metadata": {},
   "source": [
    "Обучение на OHE данных дало похожий результат, что и порядковое кодирование признаков. Занесем оба эксперимента в финальную таблицу"
   ]
  },
  {
   "cell_type": "markdown",
   "metadata": {},
   "source": [
    "Обучим модель:"
   ]
  },
  {
   "cell_type": "code",
   "execution_count": 66,
   "metadata": {},
   "outputs": [
    {
     "name": "stdout",
     "output_type": "stream",
     "text": [
      "CPU times: user 344 ms, sys: 0 ns, total: 344 ms\n",
      "Wall time: 350 ms\n"
     ]
    },
    {
     "data": {
      "text/plain": [
       "DecisionTreeRegressor(max_depth=13, random_state=12345)"
      ]
     },
     "execution_count": 66,
     "metadata": {},
     "output_type": "execute_result"
    }
   ],
   "source": [
    "%%time\n",
    "\n",
    "model = DecisionTreeRegressor(criterion='mse', \n",
    "                              max_depth=13, \n",
    "                              random_state=12345) \n",
    "model.fit(ordinal_features_train, target_train)"
   ]
  },
  {
   "cell_type": "code",
   "execution_count": 67,
   "metadata": {},
   "outputs": [
    {
     "name": "stdout",
     "output_type": "stream",
     "text": [
      "CPU times: user 12.1 ms, sys: 0 ns, total: 12.1 ms\n",
      "Wall time: 10.5 ms\n"
     ]
    }
   ],
   "source": [
    "%%time\n",
    "\n",
    "target_predict = model.predict(ordinal_features_test)"
   ]
  },
  {
   "cell_type": "code",
   "execution_count": 68,
   "metadata": {},
   "outputs": [],
   "source": [
    "final_RMSE_DTR_ordinal = mean_squared_error(target_test, target_predict) ** 0.5"
   ]
  },
  {
   "cell_type": "markdown",
   "metadata": {},
   "source": [
    "### Регрессия CatBoostRegressor"
   ]
  },
  {
   "cell_type": "markdown",
   "metadata": {},
   "source": [
    "Проведем два эксперимента:\n",
    "\n",
    "- Обучим модель на данных, закодированных по методу OE.\n",
    "- Обучим на оригинальных данных с указанием категорий"
   ]
  },
  {
   "cell_type": "code",
   "execution_count": 69,
   "metadata": {},
   "outputs": [
    {
     "name": "stdout",
     "output_type": "stream",
     "text": [
      "# Tuning hyper-parameters for root_mean_squared_error\n",
      "\n",
      "Best parameters set found on development set:\n",
      "\n",
      "{'learning_rate': 0.5, 'random_state': 12345, 'verbose': False}\n",
      "\n",
      "Grid scores on development set:\n",
      "\n",
      "938.068193 for {'learning_rate': 0.1, 'random_state': 12345, 'verbose': False}\n",
      "929.982208 for {'learning_rate': 0.5, 'random_state': 12345, 'verbose': False}\n",
      "944.281585 for {'learning_rate': 0.8, 'random_state': 12345, 'verbose': False}\n",
      "\n",
      "CPU times: user 4min 14s, sys: 1.86 s, total: 4min 16s\n",
      "Wall time: 4min 36s\n"
     ]
    }
   ],
   "source": [
    "%%time\n",
    "\n",
    "regressor = CatBoostRegressor() \n",
    "hyperparams = [{'learning_rate':[0.1, 0.5, 0.8],\n",
    "                'random_state':[12345],\n",
    "                'verbose':[False]}]\n",
    "\n",
    "print('# Tuning hyper-parameters for root_mean_squared_error')\n",
    "print()\n",
    "clf = GridSearchCV(regressor, hyperparams, scoring='neg_mean_squared_error')\n",
    "clf.fit(ordinal_features_train, target_train)\n",
    "print(\"Best parameters set found on development set:\")\n",
    "print()\n",
    "print(clf.best_params_)\n",
    "print()\n",
    "print(\"Grid scores on development set:\")\n",
    "print()\n",
    "means = clf.cv_results_['mean_test_score']\n",
    "stds = clf.cv_results_['std_test_score']\n",
    "for mean, std, params in zip(means, stds, clf.cv_results_['params']):\n",
    "    print(\"%0.6f for %r\"% ((mean*-1)** 0.5, params))\n",
    "print()\n",
    "\n",
    "cv_RMSE_CBR_ordinal = (max(means)*-1) ** 0.5"
   ]
  },
  {
   "cell_type": "code",
   "execution_count": 70,
   "metadata": {},
   "outputs": [
    {
     "name": "stdout",
     "output_type": "stream",
     "text": [
      "CPU times: user 19.1 s, sys: 145 ms, total: 19.2 s\n",
      "Wall time: 20.3 s\n"
     ]
    },
    {
     "data": {
      "text/plain": [
       "<catboost.core.CatBoostRegressor at 0x7fc49886fac0>"
      ]
     },
     "execution_count": 70,
     "metadata": {},
     "output_type": "execute_result"
    }
   ],
   "source": [
    "%%time\n",
    "\n",
    "model = CatBoostRegressor(learning_rate=0.5, \n",
    "                          random_state=12345, \n",
    "                          verbose=False) \n",
    "model.fit(ordinal_features_train, target_train)"
   ]
  },
  {
   "cell_type": "code",
   "execution_count": 71,
   "metadata": {},
   "outputs": [
    {
     "name": "stdout",
     "output_type": "stream",
     "text": [
      "CPU times: user 47 ms, sys: 4.33 ms, total: 51.4 ms\n",
      "Wall time: 49.9 ms\n"
     ]
    }
   ],
   "source": [
    "%%time\n",
    "\n",
    "target_predict = model.predict(ordinal_features_test)"
   ]
  },
  {
   "cell_type": "code",
   "execution_count": 72,
   "metadata": {},
   "outputs": [],
   "source": [
    "final_RMSE_CBR_ordinal = mean_squared_error(target_test, target_predict) ** 0.5"
   ]
  },
  {
   "cell_type": "code",
   "execution_count": 73,
   "metadata": {},
   "outputs": [
    {
     "name": "stdout",
     "output_type": "stream",
     "text": [
      "# Train for root_mean_squared_error\n",
      "\n",
      "Mean RMSE from CV of CatBoostRegressor = 943.8609260986369\n",
      "CPU times: user 1min 26s, sys: 528 ms, total: 1min 26s\n",
      "Wall time: 1min 31s\n"
     ]
    }
   ],
   "source": [
    "%%time\n",
    "\n",
    "regressor = CatBoostRegressor(learning_rate=0.5,\n",
    "                              iterations = 200,\n",
    "                              random_state=12345, \n",
    "                              verbose=False, \n",
    "                              cat_features=['VehicleType','FuelType','Brand','Model']) \n",
    "print('# Train for root_mean_squared_error')\n",
    "print()\n",
    "cv_RMSE_CBR = (cross_val_score(regressor,\n",
    "                                features_train, \n",
    "                                target_train, \n",
    "                                cv=5, \n",
    "                                scoring='neg_mean_squared_error').mean() * -1) ** 0.5\n",
    "print('Mean RMSE from CV of CatBoostRegressor =', cv_RMSE_CBR)"
   ]
  },
  {
   "cell_type": "code",
   "execution_count": 74,
   "metadata": {},
   "outputs": [
    {
     "name": "stdout",
     "output_type": "stream",
     "text": [
      "CPU times: user 21.7 s, sys: 110 ms, total: 21.8 s\n",
      "Wall time: 22.7 s\n"
     ]
    },
    {
     "data": {
      "text/plain": [
       "<catboost.core.CatBoostRegressor at 0x7fc498967ca0>"
      ]
     },
     "execution_count": 74,
     "metadata": {},
     "output_type": "execute_result"
    }
   ],
   "source": [
    "%%time\n",
    "\n",
    "model = CatBoostRegressor(learning_rate=0.5, \n",
    "                          iterations = 200, \n",
    "                          random_state=12345, \n",
    "                          verbose=False,\n",
    "                          cat_features=['VehicleType','FuelType','Brand','Model']) \n",
    "model.fit(features_train, target_train)"
   ]
  },
  {
   "cell_type": "code",
   "execution_count": 75,
   "metadata": {},
   "outputs": [
    {
     "name": "stdout",
     "output_type": "stream",
     "text": [
      "CPU times: user 118 ms, sys: 0 ns, total: 118 ms\n",
      "Wall time: 116 ms\n"
     ]
    }
   ],
   "source": [
    "%%time\n",
    "\n",
    "target_predict = model.predict(features_test)"
   ]
  },
  {
   "cell_type": "code",
   "execution_count": 76,
   "metadata": {},
   "outputs": [],
   "source": [
    "final_RMSE_CBR = mean_squared_error(target_test, target_predict) ** 0.5"
   ]
  },
  {
   "cell_type": "markdown",
   "metadata": {},
   "source": [
    "## Анализ моделей"
   ]
  },
  {
   "cell_type": "markdown",
   "metadata": {},
   "source": [
    "Создадим таблицу для сравнения параметров"
   ]
  },
  {
   "cell_type": "code",
   "execution_count": 77,
   "metadata": {},
   "outputs": [],
   "source": [
    "index = ['LinearRegression',\n",
    "         'DecisionTreeRegressor on OHE features',\n",
    "         'DecisionTreeRegressor on OE features',\n",
    "         'CatBoostRegressor on OE features',\n",
    "         'CatBoostRegressor on original features']\n",
    "data = {'RMSE на CV, евро':[cv_RMSE_LR,\n",
    "                            cv_RMSE_DTR_ohe,\n",
    "                            cv_RMSE_DTR_ordinal,\n",
    "                            cv_RMSE_CBR_ordinal,\n",
    "                            cv_RMSE_CBR],\n",
    "        'Время обучения на CV, сек':[94,\n",
    "                                     417,\n",
    "                                     43.4,\n",
    "                                     276,\n",
    "                                     92],\n",
    "        'RMSE модели на тестовой выборке, евро':[final_RMSE_LR,\n",
    "                                                final_RMSE_DTR_ohe,\n",
    "                                                final_RMSE_DTR_ordinal,\n",
    "                                                final_RMSE_CBR_ordinal,\n",
    "                                                final_RMSE_CBR],\n",
    "        'Время обучения модели, сек':[31.3,\n",
    "                                      3.87,\n",
    "                                      0.347,\n",
    "                                      21.2,\n",
    "                                      23],\n",
    "        'Время предсказания модели, сек':[0.262,\n",
    "                                          0.083,\n",
    "                                          0.012,\n",
    "                                          0.054,\n",
    "                                          0.130]}\n",
    "\n",
    "scores_data = pd.DataFrame(data=data, index=index)\n",
    "scores_data['Рейтинг RMSE'] = (scores_data['RMSE на CV, евро'].min() /\n",
    "                              scores_data['RMSE на CV, евро'])\n",
    "scores_data['Рейтинг времени обучения'] = (scores_data['Время обучения модели, сек'].min() / \n",
    "                              scores_data['Время обучения модели, сек'])\n",
    "scores_data['Рейтинг времени предсказания'] = (scores_data['Время предсказания модели, сек'].min() / \n",
    "                              scores_data['Время предсказания модели, сек'])\n",
    "scores_data['Итоговый рейтинг'] = (scores_data['Рейтинг RMSE'] +\n",
    "                                   scores_data['Рейтинг времени обучения'] +\n",
    "                                   scores_data['Рейтинг времени предсказания'])"
   ]
  },
  {
   "cell_type": "code",
   "execution_count": 78,
   "metadata": {},
   "outputs": [
    {
     "data": {
      "text/html": [
       "<div>\n",
       "<style scoped>\n",
       "    .dataframe tbody tr th:only-of-type {\n",
       "        vertical-align: middle;\n",
       "    }\n",
       "\n",
       "    .dataframe tbody tr th {\n",
       "        vertical-align: top;\n",
       "    }\n",
       "\n",
       "    .dataframe thead th {\n",
       "        text-align: right;\n",
       "    }\n",
       "</style>\n",
       "<table border=\"1\" class=\"dataframe\">\n",
       "  <thead>\n",
       "    <tr style=\"text-align: right;\">\n",
       "      <th></th>\n",
       "      <th>RMSE на CV, евро</th>\n",
       "      <th>Время обучения на CV, сек</th>\n",
       "      <th>RMSE модели на тестовой выборке, евро</th>\n",
       "      <th>Время обучения модели, сек</th>\n",
       "      <th>Время предсказания модели, сек</th>\n",
       "      <th>Рейтинг RMSE</th>\n",
       "      <th>Рейтинг времени обучения</th>\n",
       "      <th>Рейтинг времени предсказания</th>\n",
       "      <th>Итоговый рейтинг</th>\n",
       "    </tr>\n",
       "  </thead>\n",
       "  <tbody>\n",
       "    <tr>\n",
       "      <th>LinearRegression</th>\n",
       "      <td>1351.192166</td>\n",
       "      <td>94.0</td>\n",
       "      <td>1346.893780</td>\n",
       "      <td>31.300</td>\n",
       "      <td>0.262</td>\n",
       "      <td>0.688268</td>\n",
       "      <td>0.011086</td>\n",
       "      <td>0.045802</td>\n",
       "      <td>0.745156</td>\n",
       "    </tr>\n",
       "    <tr>\n",
       "      <th>DecisionTreeRegressor on OHE features</th>\n",
       "      <td>1059.722631</td>\n",
       "      <td>417.0</td>\n",
       "      <td>1051.462920</td>\n",
       "      <td>3.870</td>\n",
       "      <td>0.083</td>\n",
       "      <td>0.877571</td>\n",
       "      <td>0.089664</td>\n",
       "      <td>0.144578</td>\n",
       "      <td>1.111814</td>\n",
       "    </tr>\n",
       "    <tr>\n",
       "      <th>DecisionTreeRegressor on OE features</th>\n",
       "      <td>1066.525388</td>\n",
       "      <td>43.4</td>\n",
       "      <td>1058.624224</td>\n",
       "      <td>0.347</td>\n",
       "      <td>0.012</td>\n",
       "      <td>0.871974</td>\n",
       "      <td>1.000000</td>\n",
       "      <td>1.000000</td>\n",
       "      <td>2.871974</td>\n",
       "    </tr>\n",
       "    <tr>\n",
       "      <th>CatBoostRegressor on OE features</th>\n",
       "      <td>929.982208</td>\n",
       "      <td>276.0</td>\n",
       "      <td>921.499125</td>\n",
       "      <td>21.200</td>\n",
       "      <td>0.054</td>\n",
       "      <td>1.000000</td>\n",
       "      <td>0.016368</td>\n",
       "      <td>0.222222</td>\n",
       "      <td>1.238590</td>\n",
       "    </tr>\n",
       "    <tr>\n",
       "      <th>CatBoostRegressor on original features</th>\n",
       "      <td>943.860926</td>\n",
       "      <td>92.0</td>\n",
       "      <td>945.729854</td>\n",
       "      <td>23.000</td>\n",
       "      <td>0.130</td>\n",
       "      <td>0.985296</td>\n",
       "      <td>0.015087</td>\n",
       "      <td>0.092308</td>\n",
       "      <td>1.092690</td>\n",
       "    </tr>\n",
       "  </tbody>\n",
       "</table>\n",
       "</div>"
      ],
      "text/plain": [
       "                                        RMSE на CV, евро  \\\n",
       "LinearRegression                             1351.192166   \n",
       "DecisionTreeRegressor on OHE features        1059.722631   \n",
       "DecisionTreeRegressor on OE features         1066.525388   \n",
       "CatBoostRegressor on OE features              929.982208   \n",
       "CatBoostRegressor on original features        943.860926   \n",
       "\n",
       "                                        Время обучения на CV, сек  \\\n",
       "LinearRegression                                             94.0   \n",
       "DecisionTreeRegressor on OHE features                       417.0   \n",
       "DecisionTreeRegressor on OE features                         43.4   \n",
       "CatBoostRegressor on OE features                            276.0   \n",
       "CatBoostRegressor on original features                       92.0   \n",
       "\n",
       "                                        RMSE модели на тестовой выборке, евро  \\\n",
       "LinearRegression                                                  1346.893780   \n",
       "DecisionTreeRegressor on OHE features                             1051.462920   \n",
       "DecisionTreeRegressor on OE features                              1058.624224   \n",
       "CatBoostRegressor on OE features                                   921.499125   \n",
       "CatBoostRegressor on original features                             945.729854   \n",
       "\n",
       "                                        Время обучения модели, сек  \\\n",
       "LinearRegression                                            31.300   \n",
       "DecisionTreeRegressor on OHE features                        3.870   \n",
       "DecisionTreeRegressor on OE features                         0.347   \n",
       "CatBoostRegressor on OE features                            21.200   \n",
       "CatBoostRegressor on original features                      23.000   \n",
       "\n",
       "                                        Время предсказания модели, сек  \\\n",
       "LinearRegression                                                 0.262   \n",
       "DecisionTreeRegressor on OHE features                            0.083   \n",
       "DecisionTreeRegressor on OE features                             0.012   \n",
       "CatBoostRegressor on OE features                                 0.054   \n",
       "CatBoostRegressor on original features                           0.130   \n",
       "\n",
       "                                        Рейтинг RMSE  \\\n",
       "LinearRegression                            0.688268   \n",
       "DecisionTreeRegressor on OHE features       0.877571   \n",
       "DecisionTreeRegressor on OE features        0.871974   \n",
       "CatBoostRegressor on OE features            1.000000   \n",
       "CatBoostRegressor on original features      0.985296   \n",
       "\n",
       "                                        Рейтинг времени обучения  \\\n",
       "LinearRegression                                        0.011086   \n",
       "DecisionTreeRegressor on OHE features                   0.089664   \n",
       "DecisionTreeRegressor on OE features                    1.000000   \n",
       "CatBoostRegressor on OE features                        0.016368   \n",
       "CatBoostRegressor on original features                  0.015087   \n",
       "\n",
       "                                        Рейтинг времени предсказания  \\\n",
       "LinearRegression                                            0.045802   \n",
       "DecisionTreeRegressor on OHE features                       0.144578   \n",
       "DecisionTreeRegressor on OE features                        1.000000   \n",
       "CatBoostRegressor on OE features                            0.222222   \n",
       "CatBoostRegressor on original features                      0.092308   \n",
       "\n",
       "                                        Итоговый рейтинг  \n",
       "LinearRegression                                0.745156  \n",
       "DecisionTreeRegressor on OHE features           1.111814  \n",
       "DecisionTreeRegressor on OE features            2.871974  \n",
       "CatBoostRegressor on OE features                1.238590  \n",
       "CatBoostRegressor on original features          1.092690  "
      ]
     },
     "execution_count": 78,
     "metadata": {},
     "output_type": "execute_result"
    }
   ],
   "source": [
    "scores_data"
   ]
  },
  {
   "cell_type": "markdown",
   "metadata": {},
   "source": [
    "## Общий Вывод"
   ]
  },
  {
   "cell_type": "markdown",
   "metadata": {},
   "source": [
    "**В ходе работы было выполнено**:\n",
    "\n",
    "- Загружены данные и проведена предобработка.\n",
    "- Выполнено сравнение моделей с использованием различных наборов гиперпараметров.\n",
    "- Выбрана лучшая модель по результатам метрики RMSE и времени обучения.\n",
    "- Для общей оценки по трем параметрам был создан относительный рейтинг. 1 получает регрессор с самым минмальным временем или RMSE. Остальные получают рейтинг как отношение лучшего в столбце к своему значению. Считаем, что все параметры равноценны.\n",
    "\n",
    "**На выбор модели не влияло время обучения на кросвалидации, так как на одном типе данных ее проводят один раз, а вот переобучается модель на новых данных намного чаще**:\n",
    "\n",
    "- Лучшей моделью по трем параметрам качество, скорость обучения и скорость предсказания можно считать DecisionTreeRegressor. Сочетания скорости и точности на подготовленных данных выводит его в лидеры рейтинга. Все остальные показали себя в целом хуже.\n",
    "- Если рассматривать только оценивание точности, то в лидеры выходит CatBoostRegressor\n",
    "- DecisionTreeRegressor занимает третье место.\n",
    "- LinearRegression показала себя очень слабо.\n",
    "\n",
    "**Исходя из полученного рейтинга можно выделить специфику задач для регрессоров**:\n",
    "\n",
    "- Для быстрых решений с хорошей точностью подойдет DecisionTreeRegressor с подготовленными признаками\n",
    "- Для задач, не требующих сильной предобработки и заготовки данных CatBoostRegressor может показать себя очень хорошо."
   ]
  }
 ],
 "metadata": {
  "ExecuteTimeLog": [
   {
    "duration": 2408,
    "start_time": "2022-03-27T16:19:45.217Z"
   },
   {
    "duration": 3590,
    "start_time": "2022-03-27T16:19:53.366Z"
   },
   {
    "duration": 25,
    "start_time": "2022-03-27T16:22:44.267Z"
   },
   {
    "duration": 248,
    "start_time": "2022-03-27T16:23:01.712Z"
   },
   {
    "duration": 289,
    "start_time": "2022-03-27T16:23:17.788Z"
   },
   {
    "duration": 43,
    "start_time": "2022-03-27T16:27:23.598Z"
   },
   {
    "duration": 547,
    "start_time": "2022-03-27T16:28:25.601Z"
   },
   {
    "duration": 114,
    "start_time": "2022-03-27T16:28:45.151Z"
   },
   {
    "duration": 5,
    "start_time": "2022-03-27T16:30:55.122Z"
   },
   {
    "duration": 180,
    "start_time": "2022-03-27T16:31:16.403Z"
   },
   {
    "duration": 339,
    "start_time": "2022-03-27T16:31:29.409Z"
   },
   {
    "duration": 184,
    "start_time": "2022-03-27T16:31:36.473Z"
   },
   {
    "duration": 1931,
    "start_time": "2022-03-27T16:41:46.854Z"
   },
   {
    "duration": 2135,
    "start_time": "2022-03-27T16:42:13.170Z"
   },
   {
    "duration": 3497,
    "start_time": "2022-03-27T16:42:15.308Z"
   },
   {
    "duration": 25,
    "start_time": "2022-03-27T16:42:18.807Z"
   },
   {
    "duration": 197,
    "start_time": "2022-03-27T16:42:18.835Z"
   },
   {
    "duration": 173,
    "start_time": "2022-03-27T16:42:19.036Z"
   },
   {
    "duration": 5,
    "start_time": "2022-03-27T16:42:19.212Z"
   },
   {
    "duration": 503,
    "start_time": "2022-03-27T16:42:19.219Z"
   },
   {
    "duration": 454,
    "start_time": "2022-03-27T16:42:19.724Z"
   },
   {
    "duration": 124,
    "start_time": "2022-03-27T16:42:20.180Z"
   },
   {
    "duration": 131,
    "start_time": "2022-03-27T16:49:39.022Z"
   },
   {
    "duration": 14,
    "start_time": "2022-03-27T16:52:57.421Z"
   },
   {
    "duration": 567,
    "start_time": "2022-03-27T16:54:04.361Z"
   },
   {
    "duration": 1672,
    "start_time": "2022-03-28T12:13:39.764Z"
   },
   {
    "duration": 3284,
    "start_time": "2022-03-28T12:13:41.438Z"
   },
   {
    "duration": 21,
    "start_time": "2022-03-28T12:13:44.723Z"
   },
   {
    "duration": 128,
    "start_time": "2022-03-28T12:13:44.747Z"
   },
   {
    "duration": 310,
    "start_time": "2022-03-28T12:13:44.876Z"
   },
   {
    "duration": 82,
    "start_time": "2022-03-28T12:13:45.188Z"
   },
   {
    "duration": 3,
    "start_time": "2022-03-28T12:13:45.272Z"
   },
   {
    "duration": 144,
    "start_time": "2022-03-28T12:13:45.276Z"
   },
   {
    "duration": 117,
    "start_time": "2022-03-28T12:13:45.422Z"
   },
   {
    "duration": 114,
    "start_time": "2022-03-28T12:13:45.542Z"
   },
   {
    "duration": 10,
    "start_time": "2022-03-28T12:13:45.659Z"
   },
   {
    "duration": 352,
    "start_time": "2022-03-28T12:13:45.671Z"
   },
   {
    "duration": 18,
    "start_time": "2022-03-28T12:13:46.026Z"
   },
   {
    "duration": 88,
    "start_time": "2022-03-28T12:16:54.044Z"
   },
   {
    "duration": 373,
    "start_time": "2022-03-28T12:17:31.734Z"
   },
   {
    "duration": 1629,
    "start_time": "2022-03-28T12:18:09.011Z"
   },
   {
    "duration": 1451,
    "start_time": "2022-03-28T12:18:54.396Z"
   },
   {
    "duration": 11,
    "start_time": "2022-03-28T12:20:24.153Z"
   },
   {
    "duration": 1622,
    "start_time": "2022-03-28T12:21:15.167Z"
   },
   {
    "duration": 4426,
    "start_time": "2022-03-28T12:21:16.791Z"
   },
   {
    "duration": 21,
    "start_time": "2022-03-28T12:21:21.218Z"
   },
   {
    "duration": 140,
    "start_time": "2022-03-28T12:21:21.240Z"
   },
   {
    "duration": 286,
    "start_time": "2022-03-28T12:21:21.383Z"
   },
   {
    "duration": 89,
    "start_time": "2022-03-28T12:21:21.671Z"
   },
   {
    "duration": 4,
    "start_time": "2022-03-28T12:21:21.761Z"
   },
   {
    "duration": 175,
    "start_time": "2022-03-28T12:21:21.766Z"
   },
   {
    "duration": 110,
    "start_time": "2022-03-28T12:21:21.943Z"
   },
   {
    "duration": 110,
    "start_time": "2022-03-28T12:21:22.055Z"
   },
   {
    "duration": 10,
    "start_time": "2022-03-28T12:21:22.166Z"
   },
   {
    "duration": 365,
    "start_time": "2022-03-28T12:21:22.178Z"
   },
   {
    "duration": 15,
    "start_time": "2022-03-28T12:21:22.545Z"
   },
   {
    "duration": 106,
    "start_time": "2022-03-28T12:21:22.562Z"
   },
   {
    "duration": 370,
    "start_time": "2022-03-28T12:21:22.670Z"
   },
   {
    "duration": 16,
    "start_time": "2022-03-28T12:21:23.041Z"
   },
   {
    "duration": 4,
    "start_time": "2022-03-28T12:21:44.627Z"
   },
   {
    "duration": 6,
    "start_time": "2022-03-28T12:21:57.663Z"
   },
   {
    "duration": 274,
    "start_time": "2022-03-28T12:23:13.611Z"
   },
   {
    "duration": 227,
    "start_time": "2022-03-28T12:24:20.778Z"
   },
   {
    "duration": 117,
    "start_time": "2022-03-28T12:25:42.510Z"
   },
   {
    "duration": 12,
    "start_time": "2022-03-28T12:25:45.447Z"
   },
   {
    "duration": 39,
    "start_time": "2022-03-28T12:26:07.156Z"
   },
   {
    "duration": 11,
    "start_time": "2022-03-28T12:26:09.876Z"
   },
   {
    "duration": 57,
    "start_time": "2022-03-28T12:26:15.259Z"
   },
   {
    "duration": 81,
    "start_time": "2022-03-28T12:27:57.362Z"
   },
   {
    "duration": 21,
    "start_time": "2022-03-28T12:28:30.481Z"
   },
   {
    "duration": 99,
    "start_time": "2022-03-28T12:29:24.941Z"
   },
   {
    "duration": 76,
    "start_time": "2022-03-28T12:29:32.970Z"
   },
   {
    "duration": 32,
    "start_time": "2022-03-28T12:31:01.108Z"
   },
   {
    "duration": 63,
    "start_time": "2022-03-28T12:31:56.851Z"
   },
   {
    "duration": 10,
    "start_time": "2022-03-28T12:38:37.995Z"
   },
   {
    "duration": 1496,
    "start_time": "2022-03-28T12:43:57.232Z"
   },
   {
    "duration": 3112,
    "start_time": "2022-03-28T12:43:58.730Z"
   },
   {
    "duration": 19,
    "start_time": "2022-03-28T12:44:01.844Z"
   },
   {
    "duration": 153,
    "start_time": "2022-03-28T12:44:01.867Z"
   },
   {
    "duration": 292,
    "start_time": "2022-03-28T12:44:02.022Z"
   },
   {
    "duration": 93,
    "start_time": "2022-03-28T12:44:02.316Z"
   },
   {
    "duration": 3,
    "start_time": "2022-03-28T12:44:02.411Z"
   },
   {
    "duration": 189,
    "start_time": "2022-03-28T12:44:02.415Z"
   },
   {
    "duration": 119,
    "start_time": "2022-03-28T12:44:02.606Z"
   },
   {
    "duration": 105,
    "start_time": "2022-03-28T12:44:02.727Z"
   },
   {
    "duration": 9,
    "start_time": "2022-03-28T12:44:02.837Z"
   },
   {
    "duration": 365,
    "start_time": "2022-03-28T12:44:02.847Z"
   },
   {
    "duration": 26,
    "start_time": "2022-03-28T12:44:03.215Z"
   },
   {
    "duration": 104,
    "start_time": "2022-03-28T12:44:03.244Z"
   },
   {
    "duration": 376,
    "start_time": "2022-03-28T12:44:03.349Z"
   },
   {
    "duration": 12,
    "start_time": "2022-03-28T12:44:03.727Z"
   },
   {
    "duration": 299,
    "start_time": "2022-03-28T12:44:03.740Z"
   },
   {
    "duration": 236,
    "start_time": "2022-03-28T12:44:04.041Z"
   },
   {
    "duration": 42,
    "start_time": "2022-03-28T12:44:04.279Z"
   },
   {
    "duration": 69,
    "start_time": "2022-03-28T12:44:04.322Z"
   },
   {
    "duration": 93,
    "start_time": "2022-03-28T12:44:04.393Z"
   },
   {
    "duration": 21,
    "start_time": "2022-03-28T12:44:04.487Z"
   },
   {
    "duration": 44,
    "start_time": "2022-03-28T12:44:04.509Z"
   },
   {
    "duration": 82,
    "start_time": "2022-03-28T12:44:04.555Z"
   },
   {
    "duration": 0,
    "start_time": "2022-03-28T12:44:04.639Z"
   },
   {
    "duration": 0,
    "start_time": "2022-03-28T12:44:04.640Z"
   },
   {
    "duration": 0,
    "start_time": "2022-03-28T12:44:04.641Z"
   },
   {
    "duration": 0,
    "start_time": "2022-03-28T12:44:04.642Z"
   },
   {
    "duration": 0,
    "start_time": "2022-03-28T12:44:04.644Z"
   },
   {
    "duration": 63,
    "start_time": "2022-03-28T12:44:11.142Z"
   },
   {
    "duration": 16,
    "start_time": "2022-03-28T12:44:13.870Z"
   },
   {
    "duration": 2791,
    "start_time": "2022-03-28T12:44:16.065Z"
   },
   {
    "duration": 14,
    "start_time": "2022-03-28T12:44:21.104Z"
   },
   {
    "duration": 25,
    "start_time": "2022-03-28T12:44:28.294Z"
   },
   {
    "duration": 26,
    "start_time": "2022-03-28T12:46:04.564Z"
   },
   {
    "duration": 30,
    "start_time": "2022-03-28T12:47:36.186Z"
   },
   {
    "duration": 31,
    "start_time": "2022-03-28T12:47:46.930Z"
   },
   {
    "duration": 71,
    "start_time": "2022-03-28T12:48:26.748Z"
   },
   {
    "duration": 16,
    "start_time": "2022-03-28T12:49:27.610Z"
   },
   {
    "duration": 2865,
    "start_time": "2022-03-28T12:50:29.791Z"
   },
   {
    "duration": 14,
    "start_time": "2022-03-28T12:50:45.052Z"
   },
   {
    "duration": 35,
    "start_time": "2022-03-28T12:50:51.460Z"
   },
   {
    "duration": 57,
    "start_time": "2022-03-28T12:51:46.395Z"
   },
   {
    "duration": 258,
    "start_time": "2022-03-28T12:53:12.582Z"
   },
   {
    "duration": 14,
    "start_time": "2022-03-28T12:53:22.024Z"
   },
   {
    "duration": 241,
    "start_time": "2022-03-28T12:53:23.814Z"
   },
   {
    "duration": 243,
    "start_time": "2022-03-28T12:53:31.002Z"
   },
   {
    "duration": 373,
    "start_time": "2022-03-28T12:54:56.276Z"
   },
   {
    "duration": 238,
    "start_time": "2022-03-28T12:55:03.751Z"
   },
   {
    "duration": 15,
    "start_time": "2022-03-28T12:55:12.771Z"
   },
   {
    "duration": 257,
    "start_time": "2022-03-28T12:57:06.458Z"
   },
   {
    "duration": 256,
    "start_time": "2022-03-28T12:57:18.693Z"
   },
   {
    "duration": 17,
    "start_time": "2022-03-28T12:59:08.247Z"
   },
   {
    "duration": 261,
    "start_time": "2022-03-28T12:59:54.257Z"
   },
   {
    "duration": 248,
    "start_time": "2022-03-28T13:02:42.910Z"
   },
   {
    "duration": 13,
    "start_time": "2022-03-28T13:02:47.998Z"
   },
   {
    "duration": 55,
    "start_time": "2022-03-28T13:02:57.878Z"
   },
   {
    "duration": 14,
    "start_time": "2022-03-28T13:04:21.996Z"
   },
   {
    "duration": 74,
    "start_time": "2022-03-28T13:06:24.633Z"
   },
   {
    "duration": 192,
    "start_time": "2022-03-28T13:07:20.328Z"
   },
   {
    "duration": 1414,
    "start_time": "2022-03-28T13:07:43.155Z"
   },
   {
    "duration": 3092,
    "start_time": "2022-03-28T13:07:44.571Z"
   },
   {
    "duration": 16,
    "start_time": "2022-03-28T13:07:47.665Z"
   },
   {
    "duration": 142,
    "start_time": "2022-03-28T13:07:47.683Z"
   },
   {
    "duration": 267,
    "start_time": "2022-03-28T13:07:47.827Z"
   },
   {
    "duration": 90,
    "start_time": "2022-03-28T13:07:48.096Z"
   },
   {
    "duration": 3,
    "start_time": "2022-03-28T13:07:48.188Z"
   },
   {
    "duration": 175,
    "start_time": "2022-03-28T13:07:48.193Z"
   },
   {
    "duration": 102,
    "start_time": "2022-03-28T13:07:48.370Z"
   },
   {
    "duration": 101,
    "start_time": "2022-03-28T13:07:48.474Z"
   },
   {
    "duration": 8,
    "start_time": "2022-03-28T13:07:48.577Z"
   },
   {
    "duration": 313,
    "start_time": "2022-03-28T13:07:48.587Z"
   },
   {
    "duration": 12,
    "start_time": "2022-03-28T13:07:48.902Z"
   },
   {
    "duration": 102,
    "start_time": "2022-03-28T13:07:48.917Z"
   },
   {
    "duration": 319,
    "start_time": "2022-03-28T13:07:49.020Z"
   },
   {
    "duration": 5,
    "start_time": "2022-03-28T13:07:49.341Z"
   },
   {
    "duration": 267,
    "start_time": "2022-03-28T13:07:49.348Z"
   },
   {
    "duration": 209,
    "start_time": "2022-03-28T13:07:49.617Z"
   },
   {
    "duration": 49,
    "start_time": "2022-03-28T13:07:49.828Z"
   },
   {
    "duration": 62,
    "start_time": "2022-03-28T13:07:49.879Z"
   },
   {
    "duration": 80,
    "start_time": "2022-03-28T13:07:49.942Z"
   },
   {
    "duration": 34,
    "start_time": "2022-03-28T13:07:50.023Z"
   },
   {
    "duration": 42,
    "start_time": "2022-03-28T13:07:50.058Z"
   },
   {
    "duration": 75,
    "start_time": "2022-03-28T13:07:50.102Z"
   },
   {
    "duration": 15,
    "start_time": "2022-03-28T13:07:50.179Z"
   },
   {
    "duration": 13,
    "start_time": "2022-03-28T13:07:50.195Z"
   },
   {
    "duration": 2706,
    "start_time": "2022-03-28T13:07:50.210Z"
   },
   {
    "duration": 21,
    "start_time": "2022-03-28T13:07:52.917Z"
   },
   {
    "duration": 41,
    "start_time": "2022-03-28T13:07:52.940Z"
   },
   {
    "duration": 41,
    "start_time": "2022-03-28T13:07:52.983Z"
   },
   {
    "duration": 89,
    "start_time": "2022-03-28T13:07:53.026Z"
   },
   {
    "duration": 15,
    "start_time": "2022-03-28T13:07:53.117Z"
   },
   {
    "duration": 2764,
    "start_time": "2022-03-28T13:07:53.133Z"
   },
   {
    "duration": 12,
    "start_time": "2022-03-28T13:07:55.899Z"
   },
   {
    "duration": 35,
    "start_time": "2022-03-28T13:07:55.913Z"
   },
   {
    "duration": 56,
    "start_time": "2022-03-28T13:07:55.950Z"
   },
   {
    "duration": 32,
    "start_time": "2022-03-28T13:07:56.007Z"
   },
   {
    "duration": 233,
    "start_time": "2022-03-28T13:07:56.040Z"
   },
   {
    "duration": 240,
    "start_time": "2022-03-28T13:07:56.275Z"
   },
   {
    "duration": 265,
    "start_time": "2022-03-28T13:07:56.517Z"
   },
   {
    "duration": 369,
    "start_time": "2022-03-28T13:07:56.786Z"
   },
   {
    "duration": 16,
    "start_time": "2022-03-28T13:07:57.157Z"
   },
   {
    "duration": 69,
    "start_time": "2022-03-28T13:07:57.174Z"
   },
   {
    "duration": 120,
    "start_time": "2022-03-28T13:07:57.244Z"
   },
   {
    "duration": 0,
    "start_time": "2022-03-28T13:07:57.366Z"
   },
   {
    "duration": 23,
    "start_time": "2022-03-28T13:08:09.921Z"
   },
   {
    "duration": 24,
    "start_time": "2022-03-28T13:08:11.929Z"
   },
   {
    "duration": 21,
    "start_time": "2022-03-28T13:09:12.888Z"
   },
   {
    "duration": 24,
    "start_time": "2022-03-28T13:09:15.496Z"
   },
   {
    "duration": 85,
    "start_time": "2022-03-28T13:11:32.845Z"
   },
   {
    "duration": 3,
    "start_time": "2022-03-28T13:11:56.678Z"
   },
   {
    "duration": 11,
    "start_time": "2022-03-28T13:18:39.933Z"
   },
   {
    "duration": 11,
    "start_time": "2022-03-28T13:18:58.752Z"
   },
   {
    "duration": 6,
    "start_time": "2022-03-28T13:22:03.362Z"
   },
   {
    "duration": 212,
    "start_time": "2022-03-28T13:22:08.277Z"
   },
   {
    "duration": 435,
    "start_time": "2022-03-28T13:22:12.206Z"
   },
   {
    "duration": 12,
    "start_time": "2022-03-28T13:22:13.936Z"
   },
   {
    "duration": 37,
    "start_time": "2022-03-28T13:23:46.544Z"
   },
   {
    "duration": 12,
    "start_time": "2022-03-28T13:23:59.595Z"
   },
   {
    "duration": 48,
    "start_time": "2022-03-28T13:24:13.316Z"
   },
   {
    "duration": 262,
    "start_time": "2022-03-28T13:24:38.678Z"
   },
   {
    "duration": 66453,
    "start_time": "2022-03-28T13:26:23.785Z"
   },
   {
    "duration": 73497,
    "start_time": "2022-03-28T13:27:30.241Z"
   },
   {
    "duration": 413988,
    "start_time": "2022-03-28T13:30:34.943Z"
   },
   {
    "duration": 42898,
    "start_time": "2022-03-28T13:37:28.938Z"
   },
   {
    "duration": 290347,
    "start_time": "2022-03-28T13:38:11.838Z"
   },
   {
    "duration": 97659,
    "start_time": "2022-03-28T13:43:02.187Z"
   },
   {
    "duration": 3788,
    "start_time": "2022-03-28T13:45:16.662Z"
   },
   {
    "duration": 88,
    "start_time": "2022-03-28T13:45:32.434Z"
   },
   {
    "duration": 4,
    "start_time": "2022-03-28T13:45:35.688Z"
   },
   {
    "duration": 344,
    "start_time": "2022-03-28T13:46:09.893Z"
   },
   {
    "duration": 15,
    "start_time": "2022-03-28T13:46:27.476Z"
   },
   {
    "duration": 4,
    "start_time": "2022-03-28T13:46:40.254Z"
   },
   {
    "duration": 21869,
    "start_time": "2022-03-28T13:47:24.780Z"
   },
   {
    "duration": 55,
    "start_time": "2022-03-28T13:47:54.760Z"
   },
   {
    "duration": 4,
    "start_time": "2022-03-28T13:47:59.603Z"
   },
   {
    "duration": 23540,
    "start_time": "2022-03-28T13:49:11.750Z"
   },
   {
    "duration": 126,
    "start_time": "2022-03-28T13:49:43.084Z"
   },
   {
    "duration": 4,
    "start_time": "2022-03-28T13:49:52.798Z"
   },
   {
    "duration": 16486,
    "start_time": "2022-03-28T14:01:22.956Z"
   },
   {
    "duration": 200,
    "start_time": "2022-03-28T14:01:39.444Z"
   },
   {
    "duration": 95,
    "start_time": "2022-03-28T14:01:39.646Z"
   },
   {
    "duration": 14,
    "start_time": "2022-03-28T14:06:54.111Z"
   },
   {
    "duration": 13,
    "start_time": "2022-03-28T14:07:13.791Z"
   },
   {
    "duration": 4,
    "start_time": "2022-03-28T14:08:12.683Z"
   },
   {
    "duration": 22,
    "start_time": "2022-03-28T14:08:15.400Z"
   },
   {
    "duration": 11,
    "start_time": "2022-03-28T14:08:44.733Z"
   },
   {
    "duration": 13,
    "start_time": "2022-03-28T14:08:49.058Z"
   },
   {
    "duration": 11,
    "start_time": "2022-03-28T14:09:05.860Z"
   },
   {
    "duration": 13,
    "start_time": "2022-03-28T14:09:11.107Z"
   },
   {
    "duration": 1614,
    "start_time": "2022-03-28T14:10:30.115Z"
   },
   {
    "duration": 3015,
    "start_time": "2022-03-28T14:10:31.731Z"
   },
   {
    "duration": 19,
    "start_time": "2022-03-28T14:10:34.747Z"
   },
   {
    "duration": 167,
    "start_time": "2022-03-28T14:10:34.769Z"
   },
   {
    "duration": 307,
    "start_time": "2022-03-28T14:10:34.938Z"
   },
   {
    "duration": 102,
    "start_time": "2022-03-28T14:10:35.247Z"
   },
   {
    "duration": 24,
    "start_time": "2022-03-28T14:10:35.351Z"
   },
   {
    "duration": 214,
    "start_time": "2022-03-28T14:10:35.377Z"
   },
   {
    "duration": 117,
    "start_time": "2022-03-28T14:10:35.593Z"
   },
   {
    "duration": 117,
    "start_time": "2022-03-28T14:10:35.713Z"
   },
   {
    "duration": 15,
    "start_time": "2022-03-28T14:10:35.831Z"
   },
   {
    "duration": 444,
    "start_time": "2022-03-28T14:10:35.848Z"
   },
   {
    "duration": 13,
    "start_time": "2022-03-28T14:10:36.294Z"
   },
   {
    "duration": 136,
    "start_time": "2022-03-28T14:10:36.309Z"
   },
   {
    "duration": 290,
    "start_time": "2022-03-28T14:10:36.448Z"
   },
   {
    "duration": 6,
    "start_time": "2022-03-28T14:10:36.740Z"
   },
   {
    "duration": 410,
    "start_time": "2022-03-28T14:10:36.747Z"
   },
   {
    "duration": 227,
    "start_time": "2022-03-28T14:10:37.159Z"
   },
   {
    "duration": 61,
    "start_time": "2022-03-28T14:10:37.388Z"
   },
   {
    "duration": 61,
    "start_time": "2022-03-28T14:10:37.451Z"
   },
   {
    "duration": 130,
    "start_time": "2022-03-28T14:10:37.538Z"
   },
   {
    "duration": 21,
    "start_time": "2022-03-28T14:10:37.670Z"
   },
   {
    "duration": 60,
    "start_time": "2022-03-28T14:10:37.693Z"
   },
   {
    "duration": 69,
    "start_time": "2022-03-28T14:10:37.754Z"
   },
   {
    "duration": 22,
    "start_time": "2022-03-28T14:10:37.824Z"
   },
   {
    "duration": 5,
    "start_time": "2022-03-28T14:10:37.848Z"
   },
   {
    "duration": 3159,
    "start_time": "2022-03-28T14:10:37.855Z"
   },
   {
    "duration": 21,
    "start_time": "2022-03-28T14:10:41.019Z"
   },
   {
    "duration": 62,
    "start_time": "2022-03-28T14:10:41.042Z"
   },
   {
    "duration": 60,
    "start_time": "2022-03-28T14:10:41.107Z"
   },
   {
    "duration": 143,
    "start_time": "2022-03-28T14:10:41.168Z"
   },
   {
    "duration": 16,
    "start_time": "2022-03-28T14:10:41.312Z"
   },
   {
    "duration": 3144,
    "start_time": "2022-03-28T14:10:41.337Z"
   },
   {
    "duration": 14,
    "start_time": "2022-03-28T14:10:44.484Z"
   },
   {
    "duration": 53,
    "start_time": "2022-03-28T14:10:44.500Z"
   },
   {
    "duration": 81,
    "start_time": "2022-03-28T14:10:44.555Z"
   },
   {
    "duration": 24,
    "start_time": "2022-03-28T14:10:44.637Z"
   },
   {
    "duration": 293,
    "start_time": "2022-03-28T14:10:44.663Z"
   },
   {
    "duration": 281,
    "start_time": "2022-03-28T14:10:44.958Z"
   },
   {
    "duration": 311,
    "start_time": "2022-03-28T14:10:45.241Z"
   },
   {
    "duration": 285,
    "start_time": "2022-03-28T14:10:45.554Z"
   },
   {
    "duration": 15,
    "start_time": "2022-03-28T14:10:45.841Z"
   },
   {
    "duration": 74,
    "start_time": "2022-03-28T14:10:45.858Z"
   },
   {
    "duration": 35,
    "start_time": "2022-03-28T14:10:45.934Z"
   },
   {
    "duration": 41,
    "start_time": "2022-03-28T14:10:45.971Z"
   },
   {
    "duration": 62,
    "start_time": "2022-03-28T14:10:46.014Z"
   },
   {
    "duration": 53,
    "start_time": "2022-03-28T14:10:46.078Z"
   },
   {
    "duration": 233,
    "start_time": "2022-03-28T14:10:46.133Z"
   },
   {
    "duration": 4,
    "start_time": "2022-03-28T14:10:46.368Z"
   },
   {
    "duration": 23,
    "start_time": "2022-03-28T14:10:46.374Z"
   },
   {
    "duration": 251,
    "start_time": "2022-03-28T14:10:46.400Z"
   },
   {
    "duration": 478,
    "start_time": "2022-03-28T14:10:46.653Z"
   },
   {
    "duration": 40,
    "start_time": "2022-03-28T14:10:47.133Z"
   },
   {
    "duration": 65,
    "start_time": "2022-03-28T14:10:47.175Z"
   },
   {
    "duration": 286,
    "start_time": "2022-03-28T14:10:47.242Z"
   },
   {
    "duration": 94511,
    "start_time": "2022-03-28T14:10:47.530Z"
   },
   {
    "duration": 102697,
    "start_time": "2022-03-28T14:12:22.043Z"
   },
   {
    "duration": 33308,
    "start_time": "2022-03-28T14:14:04.742Z"
   },
   {
    "duration": 287,
    "start_time": "2022-03-28T14:14:38.052Z"
   },
   {
    "duration": 6,
    "start_time": "2022-03-28T14:14:38.341Z"
   },
   {
    "duration": 420529,
    "start_time": "2022-03-28T14:14:38.349Z"
   },
   {
    "duration": 3892,
    "start_time": "2022-03-28T14:21:38.880Z"
   },
   {
    "duration": 97,
    "start_time": "2022-03-28T14:21:42.774Z"
   },
   {
    "duration": 4,
    "start_time": "2022-03-28T14:21:42.873Z"
   },
   {
    "duration": 43452,
    "start_time": "2022-03-28T14:21:42.878Z"
   },
   {
    "duration": 354,
    "start_time": "2022-03-28T14:22:26.337Z"
   },
   {
    "duration": 14,
    "start_time": "2022-03-28T14:22:26.692Z"
   },
   {
    "duration": 4,
    "start_time": "2022-03-28T14:22:26.708Z"
   },
   {
    "duration": 304777,
    "start_time": "2022-03-28T14:22:26.714Z"
   },
   {
    "duration": 22806,
    "start_time": "2022-03-28T14:27:31.492Z"
   },
   {
    "duration": 55,
    "start_time": "2022-03-28T14:27:54.299Z"
   },
   {
    "duration": 3,
    "start_time": "2022-03-28T14:27:54.356Z"
   },
   {
    "duration": 103984,
    "start_time": "2022-03-28T14:27:54.361Z"
   },
   {
    "duration": 25836,
    "start_time": "2022-03-28T14:29:38.346Z"
   },
   {
    "duration": 131,
    "start_time": "2022-03-28T14:30:04.184Z"
   },
   {
    "duration": 4,
    "start_time": "2022-03-28T14:30:04.317Z"
   },
   {
    "duration": 22,
    "start_time": "2022-03-28T14:30:04.322Z"
   },
   {
    "duration": 63,
    "start_time": "2022-03-28T14:30:04.345Z"
   },
   {
    "duration": 1634,
    "start_time": "2022-03-28T14:38:58.577Z"
   },
   {
    "duration": 1513,
    "start_time": "2022-03-28T14:39:00.213Z"
   },
   {
    "duration": 16,
    "start_time": "2022-03-28T14:39:01.728Z"
   },
   {
    "duration": 148,
    "start_time": "2022-03-28T14:39:01.746Z"
   },
   {
    "duration": 270,
    "start_time": "2022-03-28T14:39:01.896Z"
   },
   {
    "duration": 86,
    "start_time": "2022-03-28T14:39:02.167Z"
   },
   {
    "duration": 3,
    "start_time": "2022-03-28T14:39:02.263Z"
   },
   {
    "duration": 177,
    "start_time": "2022-03-28T14:39:02.268Z"
   },
   {
    "duration": 98,
    "start_time": "2022-03-28T14:39:02.447Z"
   },
   {
    "duration": 104,
    "start_time": "2022-03-28T14:39:02.548Z"
   },
   {
    "duration": 13,
    "start_time": "2022-03-28T14:39:02.654Z"
   },
   {
    "duration": 299,
    "start_time": "2022-03-28T14:39:02.668Z"
   },
   {
    "duration": 11,
    "start_time": "2022-03-28T14:39:02.969Z"
   },
   {
    "duration": 101,
    "start_time": "2022-03-28T14:39:02.982Z"
   },
   {
    "duration": 218,
    "start_time": "2022-03-28T14:39:03.084Z"
   },
   {
    "duration": 5,
    "start_time": "2022-03-28T14:39:03.304Z"
   },
   {
    "duration": 338,
    "start_time": "2022-03-28T14:39:03.310Z"
   },
   {
    "duration": 193,
    "start_time": "2022-03-28T14:39:03.650Z"
   },
   {
    "duration": 50,
    "start_time": "2022-03-28T14:39:03.845Z"
   },
   {
    "duration": 69,
    "start_time": "2022-03-28T14:39:03.897Z"
   },
   {
    "duration": 92,
    "start_time": "2022-03-28T14:39:03.968Z"
   },
   {
    "duration": 21,
    "start_time": "2022-03-28T14:39:04.062Z"
   },
   {
    "duration": 26,
    "start_time": "2022-03-28T14:39:04.085Z"
   },
   {
    "duration": 76,
    "start_time": "2022-03-28T14:39:04.113Z"
   },
   {
    "duration": 15,
    "start_time": "2022-03-28T14:39:04.191Z"
   },
   {
    "duration": 5,
    "start_time": "2022-03-28T14:39:04.208Z"
   },
   {
    "duration": 2476,
    "start_time": "2022-03-28T14:39:04.215Z"
   },
   {
    "duration": 14,
    "start_time": "2022-03-28T14:39:06.696Z"
   },
   {
    "duration": 25,
    "start_time": "2022-03-28T14:39:06.712Z"
   },
   {
    "duration": 43,
    "start_time": "2022-03-28T14:39:06.739Z"
   },
   {
    "duration": 82,
    "start_time": "2022-03-28T14:39:06.784Z"
   },
   {
    "duration": 16,
    "start_time": "2022-03-28T14:39:06.868Z"
   },
   {
    "duration": 2594,
    "start_time": "2022-03-28T14:39:06.885Z"
   },
   {
    "duration": 13,
    "start_time": "2022-03-28T14:39:09.481Z"
   },
   {
    "duration": 26,
    "start_time": "2022-03-28T14:39:09.496Z"
   },
   {
    "duration": 75,
    "start_time": "2022-03-28T14:39:09.523Z"
   },
   {
    "duration": 13,
    "start_time": "2022-03-28T14:39:09.600Z"
   },
   {
    "duration": 218,
    "start_time": "2022-03-28T14:39:09.614Z"
   },
   {
    "duration": 229,
    "start_time": "2022-03-28T14:39:09.834Z"
   },
   {
    "duration": 245,
    "start_time": "2022-03-28T14:39:10.064Z"
   },
   {
    "duration": 233,
    "start_time": "2022-03-28T14:39:10.311Z"
   },
   {
    "duration": 18,
    "start_time": "2022-03-28T14:39:10.545Z"
   },
   {
    "duration": 53,
    "start_time": "2022-03-28T14:39:10.565Z"
   },
   {
    "duration": 20,
    "start_time": "2022-03-28T14:39:10.620Z"
   },
   {
    "duration": 39,
    "start_time": "2022-03-28T14:39:10.642Z"
   },
   {
    "duration": 22,
    "start_time": "2022-03-28T14:39:10.683Z"
   },
   {
    "duration": 23,
    "start_time": "2022-03-28T14:39:10.706Z"
   },
   {
    "duration": 210,
    "start_time": "2022-03-28T14:39:10.730Z"
   },
   {
    "duration": 3,
    "start_time": "2022-03-28T14:39:10.942Z"
   },
   {
    "duration": 25,
    "start_time": "2022-03-28T14:39:10.946Z"
   },
   {
    "duration": 216,
    "start_time": "2022-03-28T14:39:10.972Z"
   },
   {
    "duration": 370,
    "start_time": "2022-03-28T14:39:11.190Z"
   },
   {
    "duration": 33,
    "start_time": "2022-03-28T14:39:11.562Z"
   },
   {
    "duration": 41,
    "start_time": "2022-03-28T14:39:11.597Z"
   },
   {
    "duration": 259,
    "start_time": "2022-03-28T14:39:11.640Z"
   },
   {
    "duration": 64563,
    "start_time": "2022-03-28T14:39:11.901Z"
   },
   {
    "duration": 74599,
    "start_time": "2022-03-28T14:40:16.467Z"
   },
   {
    "duration": 17999,
    "start_time": "2022-03-28T14:41:31.071Z"
   },
   {
    "duration": 292,
    "start_time": "2022-03-28T14:41:49.071Z"
   },
   {
    "duration": 5,
    "start_time": "2022-03-28T14:41:49.366Z"
   },
   {
    "duration": 386943,
    "start_time": "2022-03-28T14:41:49.373Z"
   },
   {
    "duration": 3697,
    "start_time": "2022-03-28T14:48:16.318Z"
   },
   {
    "duration": 90,
    "start_time": "2022-03-28T14:48:20.017Z"
   },
   {
    "duration": 4,
    "start_time": "2022-03-28T14:48:20.109Z"
   },
   {
    "duration": 41688,
    "start_time": "2022-03-28T14:48:20.114Z"
   },
   {
    "duration": 356,
    "start_time": "2022-03-28T14:49:01.803Z"
   },
   {
    "duration": 14,
    "start_time": "2022-03-28T14:49:02.163Z"
   },
   {
    "duration": 6,
    "start_time": "2022-03-28T14:49:02.178Z"
   },
   {
    "duration": 276241,
    "start_time": "2022-03-28T14:49:02.186Z"
   },
   {
    "duration": 20329,
    "start_time": "2022-03-28T14:53:38.428Z"
   },
   {
    "duration": 54,
    "start_time": "2022-03-28T14:53:58.759Z"
   },
   {
    "duration": 4,
    "start_time": "2022-03-28T14:53:58.814Z"
   },
   {
    "duration": 91702,
    "start_time": "2022-03-28T14:53:58.819Z"
   },
   {
    "duration": 22737,
    "start_time": "2022-03-28T14:55:30.523Z"
   },
   {
    "duration": 120,
    "start_time": "2022-03-28T14:55:53.261Z"
   },
   {
    "duration": 4,
    "start_time": "2022-03-28T14:55:53.382Z"
   },
   {
    "duration": 13,
    "start_time": "2022-03-28T14:55:53.387Z"
   },
   {
    "duration": 16,
    "start_time": "2022-03-28T14:55:53.401Z"
   }
  ],
  "kernelspec": {
   "display_name": "Python 3 (ipykernel)",
   "language": "python",
   "name": "python3"
  },
  "language_info": {
   "codemirror_mode": {
    "name": "ipython",
    "version": 3
   },
   "file_extension": ".py",
   "mimetype": "text/x-python",
   "name": "python",
   "nbconvert_exporter": "python",
   "pygments_lexer": "ipython3",
   "version": "3.10.3"
  },
  "toc": {
   "base_numbering": 1,
   "nav_menu": {},
   "number_sections": true,
   "sideBar": true,
   "skip_h1_title": true,
   "title_cell": "Table of Contents",
   "title_sidebar": "Contents",
   "toc_cell": false,
   "toc_position": {},
   "toc_section_display": true,
   "toc_window_display": true
  }
 },
 "nbformat": 4,
 "nbformat_minor": 2
}
