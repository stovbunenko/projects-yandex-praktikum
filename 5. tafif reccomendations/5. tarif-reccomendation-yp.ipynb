{
 "cells": [
  {
   "cell_type": "markdown",
   "metadata": {
    "toc": true
   },
   "source": [
    "<h1>Table of Contents<span class=\"tocSkip\"></span></h1>\n",
    "<div class=\"toc\"><ul class=\"toc-item\"><li><span><a href=\"#Откройте-и-изучите-файл\" data-toc-modified-id=\"Откройте-и-изучите-файл-1\"><span class=\"toc-item-num\">1&nbsp;&nbsp;</span>Откройте и изучите файл</a></span><ul class=\"toc-item\"><li><span><a href=\"#Вывод\" data-toc-modified-id=\"Вывод-1.1\"><span class=\"toc-item-num\">1.1&nbsp;&nbsp;</span>Вывод</a></span></li></ul></li><li><span><a href=\"#Разбейте-данные-на-выборки\" data-toc-modified-id=\"Разбейте-данные-на-выборки-2\"><span class=\"toc-item-num\">2&nbsp;&nbsp;</span>Разбейте данные на выборки</a></span><ul class=\"toc-item\"><li><span><a href=\"#Вывод\" data-toc-modified-id=\"Вывод-2.1\"><span class=\"toc-item-num\">2.1&nbsp;&nbsp;</span>Вывод</a></span></li></ul></li><li><span><a href=\"#Исследуйте-модели\" data-toc-modified-id=\"Исследуйте-модели-3\"><span class=\"toc-item-num\">3&nbsp;&nbsp;</span>Исследуйте модели</a></span><ul class=\"toc-item\"><li><span><a href=\"#Метод-&quot;Решающее-дерево&quot;\" data-toc-modified-id=\"Метод-&quot;Решающее-дерево&quot;-3.1\"><span class=\"toc-item-num\">3.1&nbsp;&nbsp;</span>Метод \"Решающее дерево\"</a></span></li><li><span><a href=\"#Модель-&quot;Случайный-лес&quot;\" data-toc-modified-id=\"Модель-&quot;Случайный-лес&quot;-3.2\"><span class=\"toc-item-num\">3.2&nbsp;&nbsp;</span>Модель \"Случайный лес\"</a></span></li><li><span><a href=\"#Модель-&quot;Логистическая-регрессия&quot;\" data-toc-modified-id=\"Модель-&quot;Логистическая-регрессия&quot;-3.3\"><span class=\"toc-item-num\">3.3&nbsp;&nbsp;</span>Модель \"Логистическая регрессия\"</a></span></li><li><span><a href=\"#Вывод\" data-toc-modified-id=\"Вывод-3.4\"><span class=\"toc-item-num\">3.4&nbsp;&nbsp;</span>Вывод</a></span></li></ul></li><li><span><a href=\"#Проверьте-модель-на-тестовой-выборке\" data-toc-modified-id=\"Проверьте-модель-на-тестовой-выборке-4\"><span class=\"toc-item-num\">4&nbsp;&nbsp;</span>Проверьте модель на тестовой выборке</a></span><ul class=\"toc-item\"><li><span><a href=\"#Тестирование-данных-на-модели-&quot;Решающее-дерево&quot;:\" data-toc-modified-id=\"Тестирование-данных-на-модели-&quot;Решающее-дерево&quot;:-4.1\"><span class=\"toc-item-num\">4.1&nbsp;&nbsp;</span>Тестирование данных на модели \"Решающее дерево\":</a></span></li><li><span><a href=\"#Тестирование-данных-на-модели-&quot;Случайный-лес&quot;:\" data-toc-modified-id=\"Тестирование-данных-на-модели-&quot;Случайный-лес&quot;:-4.2\"><span class=\"toc-item-num\">4.2&nbsp;&nbsp;</span>Тестирование данных на модели \"Случайный лес\":</a></span></li><li><span><a href=\"#Тестирование-данных-на-модели-&quot;Логистическая-регрессия&quot;:\" data-toc-modified-id=\"Тестирование-данных-на-модели-&quot;Логистическая-регрессия&quot;:-4.3\"><span class=\"toc-item-num\">4.3&nbsp;&nbsp;</span>Тестирование данных на модели \"Логистическая регрессия\":</a></span></li></ul></li><li><span><a href=\"#Вывод\" data-toc-modified-id=\"Вывод-5\"><span class=\"toc-item-num\">5&nbsp;&nbsp;</span>Вывод</a></span></li><li><span><a href=\"#(бонус)-Проверьте-модели-на-адекватность\" data-toc-modified-id=\"(бонус)-Проверьте-модели-на-адекватность-6\"><span class=\"toc-item-num\">6&nbsp;&nbsp;</span>(бонус) Проверьте модели на адекватность</a></span></li><li><span><a href=\"#Общий-вывод\" data-toc-modified-id=\"Общий-вывод-7\"><span class=\"toc-item-num\">7&nbsp;&nbsp;</span>Общий вывод</a></span></li><li><span><a href=\"#Чек-лист-готовности-проекта\" data-toc-modified-id=\"Чек-лист-готовности-проекта-8\"><span class=\"toc-item-num\">8&nbsp;&nbsp;</span>Чек-лист готовности проекта</a></span></li></ul></div>"
   ]
  },
  {
   "cell_type": "markdown",
   "metadata": {},
   "source": [
    "# Рекомендация тарифов"
   ]
  },
  {
   "cell_type": "markdown",
   "metadata": {},
   "source": [
    "В вашем распоряжении данные о поведении клиентов, которые уже перешли на эти тарифы (из проекта курса «Статистический анализ данных»). Нужно построить модель для задачи классификации, которая выберет подходящий тариф. Предобработка данных не понадобится — вы её уже сделали.\n",
    "\n",
    "Постройте модель с максимально большим значением *accuracy*. Чтобы сдать проект успешно, нужно довести долю правильных ответов по крайней мере до 0.75. Проверьте *accuracy* на тестовой выборке самостоятельно."
   ]
  },
  {
   "cell_type": "markdown",
   "metadata": {},
   "source": [
    "**Каждый объект в наборе данных — это информация о поведении одного пользователя за месяц.** \n",
    "\n",
    "**Известно**:\n",
    "- сalls — количество звонков,\n",
    "- minutes — суммарная длительность звонков в минутах,\n",
    "- messages — количество sms-сообщений,\n",
    "- mb_used — израсходованный интернет-трафик в Мб,\n",
    "- is_ultra — каким тарифом пользовался в течение месяца («Ультра» — 1, «Смарт» — 0)."
   ]
  },
  {
   "cell_type": "markdown",
   "metadata": {},
   "source": [
    "## Откройте и изучите файл"
   ]
  },
  {
   "cell_type": "code",
   "execution_count": 1,
   "metadata": {},
   "outputs": [],
   "source": [
    "import pandas as pd\n",
    "import numpy as np\n",
    "import math\n",
    "from matplotlib import pyplot as plt\n",
    "import scipy\n",
    "import seaborn as sns\n",
    "from sklearn import metrics\n",
    "from sklearn.tree import DecisionTreeRegressor\n",
    "from sklearn.ensemble import RandomForestRegressor\n",
    "from sklearn.linear_model import LinearRegression\n",
    "from sklearn.model_selection import train_test_split\n",
    "from sklearn.metrics import mean_squared_error\n",
    "\n",
    "from sklearn.linear_model import LogisticRegression\n",
    "from sklearn.ensemble import RandomForestClassifier\n",
    "from sklearn.tree import DecisionTreeClassifier\n",
    "from sklearn.metrics import accuracy_score\n",
    "\n",
    "from sklearn.dummy import DummyClassifier"
   ]
  },
  {
   "cell_type": "code",
   "execution_count": 2,
   "metadata": {},
   "outputs": [
    {
     "data": {
      "text/html": [
       "<div>\n",
       "<style scoped>\n",
       "    .dataframe tbody tr th:only-of-type {\n",
       "        vertical-align: middle;\n",
       "    }\n",
       "\n",
       "    .dataframe tbody tr th {\n",
       "        vertical-align: top;\n",
       "    }\n",
       "\n",
       "    .dataframe thead th {\n",
       "        text-align: right;\n",
       "    }\n",
       "</style>\n",
       "<table border=\"1\" class=\"dataframe\">\n",
       "  <thead>\n",
       "    <tr style=\"text-align: right;\">\n",
       "      <th></th>\n",
       "      <th>calls</th>\n",
       "      <th>minutes</th>\n",
       "      <th>messages</th>\n",
       "      <th>mb_used</th>\n",
       "      <th>is_ultra</th>\n",
       "    </tr>\n",
       "  </thead>\n",
       "  <tbody>\n",
       "    <tr>\n",
       "      <td>0</td>\n",
       "      <td>40.0</td>\n",
       "      <td>311.90</td>\n",
       "      <td>83.0</td>\n",
       "      <td>19915.42</td>\n",
       "      <td>0</td>\n",
       "    </tr>\n",
       "    <tr>\n",
       "      <td>1</td>\n",
       "      <td>85.0</td>\n",
       "      <td>516.75</td>\n",
       "      <td>56.0</td>\n",
       "      <td>22696.96</td>\n",
       "      <td>0</td>\n",
       "    </tr>\n",
       "    <tr>\n",
       "      <td>2</td>\n",
       "      <td>77.0</td>\n",
       "      <td>467.66</td>\n",
       "      <td>86.0</td>\n",
       "      <td>21060.45</td>\n",
       "      <td>0</td>\n",
       "    </tr>\n",
       "    <tr>\n",
       "      <td>3</td>\n",
       "      <td>106.0</td>\n",
       "      <td>745.53</td>\n",
       "      <td>81.0</td>\n",
       "      <td>8437.39</td>\n",
       "      <td>1</td>\n",
       "    </tr>\n",
       "    <tr>\n",
       "      <td>4</td>\n",
       "      <td>66.0</td>\n",
       "      <td>418.74</td>\n",
       "      <td>1.0</td>\n",
       "      <td>14502.75</td>\n",
       "      <td>0</td>\n",
       "    </tr>\n",
       "    <tr>\n",
       "      <td>...</td>\n",
       "      <td>...</td>\n",
       "      <td>...</td>\n",
       "      <td>...</td>\n",
       "      <td>...</td>\n",
       "      <td>...</td>\n",
       "    </tr>\n",
       "    <tr>\n",
       "      <td>3209</td>\n",
       "      <td>122.0</td>\n",
       "      <td>910.98</td>\n",
       "      <td>20.0</td>\n",
       "      <td>35124.90</td>\n",
       "      <td>1</td>\n",
       "    </tr>\n",
       "    <tr>\n",
       "      <td>3210</td>\n",
       "      <td>25.0</td>\n",
       "      <td>190.36</td>\n",
       "      <td>0.0</td>\n",
       "      <td>3275.61</td>\n",
       "      <td>0</td>\n",
       "    </tr>\n",
       "    <tr>\n",
       "      <td>3211</td>\n",
       "      <td>97.0</td>\n",
       "      <td>634.44</td>\n",
       "      <td>70.0</td>\n",
       "      <td>13974.06</td>\n",
       "      <td>0</td>\n",
       "    </tr>\n",
       "    <tr>\n",
       "      <td>3212</td>\n",
       "      <td>64.0</td>\n",
       "      <td>462.32</td>\n",
       "      <td>90.0</td>\n",
       "      <td>31239.78</td>\n",
       "      <td>0</td>\n",
       "    </tr>\n",
       "    <tr>\n",
       "      <td>3213</td>\n",
       "      <td>80.0</td>\n",
       "      <td>566.09</td>\n",
       "      <td>6.0</td>\n",
       "      <td>29480.52</td>\n",
       "      <td>1</td>\n",
       "    </tr>\n",
       "  </tbody>\n",
       "</table>\n",
       "<p>3214 rows × 5 columns</p>\n",
       "</div>"
      ],
      "text/plain": [
       "      calls  minutes  messages   mb_used  is_ultra\n",
       "0      40.0   311.90      83.0  19915.42         0\n",
       "1      85.0   516.75      56.0  22696.96         0\n",
       "2      77.0   467.66      86.0  21060.45         0\n",
       "3     106.0   745.53      81.0   8437.39         1\n",
       "4      66.0   418.74       1.0  14502.75         0\n",
       "...     ...      ...       ...       ...       ...\n",
       "3209  122.0   910.98      20.0  35124.90         1\n",
       "3210   25.0   190.36       0.0   3275.61         0\n",
       "3211   97.0   634.44      70.0  13974.06         0\n",
       "3212   64.0   462.32      90.0  31239.78         0\n",
       "3213   80.0   566.09       6.0  29480.52         1\n",
       "\n",
       "[3214 rows x 5 columns]"
      ]
     },
     "metadata": {},
     "output_type": "display_data"
    }
   ],
   "source": [
    "display(df)"
   ]
  },
  {
   "cell_type": "code",
   "execution_count": 3,
   "metadata": {},
   "outputs": [
    {
     "data": {
      "text/html": [
       "<div>\n",
       "<style scoped>\n",
       "    .dataframe tbody tr th:only-of-type {\n",
       "        vertical-align: middle;\n",
       "    }\n",
       "\n",
       "    .dataframe tbody tr th {\n",
       "        vertical-align: top;\n",
       "    }\n",
       "\n",
       "    .dataframe thead th {\n",
       "        text-align: right;\n",
       "    }\n",
       "</style>\n",
       "<table border=\"1\" class=\"dataframe\">\n",
       "  <thead>\n",
       "    <tr style=\"text-align: right;\">\n",
       "      <th></th>\n",
       "      <th>calls</th>\n",
       "      <th>minutes</th>\n",
       "      <th>messages</th>\n",
       "      <th>mb_used</th>\n",
       "      <th>is_ultra</th>\n",
       "    </tr>\n",
       "  </thead>\n",
       "  <tbody>\n",
       "    <tr>\n",
       "      <td>0</td>\n",
       "      <td>40.0</td>\n",
       "      <td>311.90</td>\n",
       "      <td>83.0</td>\n",
       "      <td>19915.42</td>\n",
       "      <td>0</td>\n",
       "    </tr>\n",
       "    <tr>\n",
       "      <td>1</td>\n",
       "      <td>85.0</td>\n",
       "      <td>516.75</td>\n",
       "      <td>56.0</td>\n",
       "      <td>22696.96</td>\n",
       "      <td>0</td>\n",
       "    </tr>\n",
       "    <tr>\n",
       "      <td>2</td>\n",
       "      <td>77.0</td>\n",
       "      <td>467.66</td>\n",
       "      <td>86.0</td>\n",
       "      <td>21060.45</td>\n",
       "      <td>0</td>\n",
       "    </tr>\n",
       "    <tr>\n",
       "      <td>3</td>\n",
       "      <td>106.0</td>\n",
       "      <td>745.53</td>\n",
       "      <td>81.0</td>\n",
       "      <td>8437.39</td>\n",
       "      <td>1</td>\n",
       "    </tr>\n",
       "    <tr>\n",
       "      <td>4</td>\n",
       "      <td>66.0</td>\n",
       "      <td>418.74</td>\n",
       "      <td>1.0</td>\n",
       "      <td>14502.75</td>\n",
       "      <td>0</td>\n",
       "    </tr>\n",
       "  </tbody>\n",
       "</table>\n",
       "</div>"
      ],
      "text/plain": [
       "   calls  minutes  messages   mb_used  is_ultra\n",
       "0   40.0   311.90      83.0  19915.42         0\n",
       "1   85.0   516.75      56.0  22696.96         0\n",
       "2   77.0   467.66      86.0  21060.45         0\n",
       "3  106.0   745.53      81.0   8437.39         1\n",
       "4   66.0   418.74       1.0  14502.75         0"
      ]
     },
     "execution_count": 3,
     "metadata": {},
     "output_type": "execute_result"
    }
   ],
   "source": [
    "df.head()"
   ]
  },
  {
   "cell_type": "code",
   "execution_count": 4,
   "metadata": {},
   "outputs": [
    {
     "name": "stdout",
     "output_type": "stream",
     "text": [
      "<class 'pandas.core.frame.DataFrame'>\n",
      "RangeIndex: 3214 entries, 0 to 3213\n",
      "Data columns (total 5 columns):\n",
      "calls       3214 non-null float64\n",
      "minutes     3214 non-null float64\n",
      "messages    3214 non-null float64\n",
      "mb_used     3214 non-null float64\n",
      "is_ultra    3214 non-null int64\n",
      "dtypes: float64(4), int64(1)\n",
      "memory usage: 125.7 KB\n"
     ]
    }
   ],
   "source": [
    "df.info()"
   ]
  },
  {
   "cell_type": "markdown",
   "metadata": {},
   "source": [
    "в датасете 5 столбцов и 3214 строк. Пропусков нет! \n",
    "Типы данных соответствуют"
   ]
  },
  {
   "cell_type": "code",
   "execution_count": 5,
   "metadata": {},
   "outputs": [
    {
     "data": {
      "text/plain": [
       "calls       0.0\n",
       "minutes     0.0\n",
       "messages    0.0\n",
       "mb_used     0.0\n",
       "is_ultra    0.0\n",
       "dtype: float64"
      ]
     },
     "execution_count": 5,
     "metadata": {},
     "output_type": "execute_result"
    }
   ],
   "source": [
    "df.isna().mean()"
   ]
  },
  {
   "cell_type": "code",
   "execution_count": 6,
   "metadata": {},
   "outputs": [
    {
     "data": {
      "text/html": [
       "<div>\n",
       "<style scoped>\n",
       "    .dataframe tbody tr th:only-of-type {\n",
       "        vertical-align: middle;\n",
       "    }\n",
       "\n",
       "    .dataframe tbody tr th {\n",
       "        vertical-align: top;\n",
       "    }\n",
       "\n",
       "    .dataframe thead th {\n",
       "        text-align: right;\n",
       "    }\n",
       "</style>\n",
       "<table border=\"1\" class=\"dataframe\">\n",
       "  <thead>\n",
       "    <tr style=\"text-align: right;\">\n",
       "      <th></th>\n",
       "      <th>calls</th>\n",
       "      <th>minutes</th>\n",
       "      <th>messages</th>\n",
       "      <th>mb_used</th>\n",
       "      <th>is_ultra</th>\n",
       "    </tr>\n",
       "  </thead>\n",
       "  <tbody>\n",
       "    <tr>\n",
       "      <td>count</td>\n",
       "      <td>3214.000000</td>\n",
       "      <td>3214.000000</td>\n",
       "      <td>3214.000000</td>\n",
       "      <td>3214.000000</td>\n",
       "      <td>3214.000000</td>\n",
       "    </tr>\n",
       "    <tr>\n",
       "      <td>mean</td>\n",
       "      <td>63.038892</td>\n",
       "      <td>438.208787</td>\n",
       "      <td>38.281269</td>\n",
       "      <td>17207.673836</td>\n",
       "      <td>0.306472</td>\n",
       "    </tr>\n",
       "    <tr>\n",
       "      <td>std</td>\n",
       "      <td>33.236368</td>\n",
       "      <td>234.569872</td>\n",
       "      <td>36.148326</td>\n",
       "      <td>7570.968246</td>\n",
       "      <td>0.461100</td>\n",
       "    </tr>\n",
       "    <tr>\n",
       "      <td>min</td>\n",
       "      <td>0.000000</td>\n",
       "      <td>0.000000</td>\n",
       "      <td>0.000000</td>\n",
       "      <td>0.000000</td>\n",
       "      <td>0.000000</td>\n",
       "    </tr>\n",
       "    <tr>\n",
       "      <td>25%</td>\n",
       "      <td>40.000000</td>\n",
       "      <td>274.575000</td>\n",
       "      <td>9.000000</td>\n",
       "      <td>12491.902500</td>\n",
       "      <td>0.000000</td>\n",
       "    </tr>\n",
       "    <tr>\n",
       "      <td>50%</td>\n",
       "      <td>62.000000</td>\n",
       "      <td>430.600000</td>\n",
       "      <td>30.000000</td>\n",
       "      <td>16943.235000</td>\n",
       "      <td>0.000000</td>\n",
       "    </tr>\n",
       "    <tr>\n",
       "      <td>75%</td>\n",
       "      <td>82.000000</td>\n",
       "      <td>571.927500</td>\n",
       "      <td>57.000000</td>\n",
       "      <td>21424.700000</td>\n",
       "      <td>1.000000</td>\n",
       "    </tr>\n",
       "    <tr>\n",
       "      <td>max</td>\n",
       "      <td>244.000000</td>\n",
       "      <td>1632.060000</td>\n",
       "      <td>224.000000</td>\n",
       "      <td>49745.730000</td>\n",
       "      <td>1.000000</td>\n",
       "    </tr>\n",
       "  </tbody>\n",
       "</table>\n",
       "</div>"
      ],
      "text/plain": [
       "             calls      minutes     messages       mb_used     is_ultra\n",
       "count  3214.000000  3214.000000  3214.000000   3214.000000  3214.000000\n",
       "mean     63.038892   438.208787    38.281269  17207.673836     0.306472\n",
       "std      33.236368   234.569872    36.148326   7570.968246     0.461100\n",
       "min       0.000000     0.000000     0.000000      0.000000     0.000000\n",
       "25%      40.000000   274.575000     9.000000  12491.902500     0.000000\n",
       "50%      62.000000   430.600000    30.000000  16943.235000     0.000000\n",
       "75%      82.000000   571.927500    57.000000  21424.700000     1.000000\n",
       "max     244.000000  1632.060000   224.000000  49745.730000     1.000000"
      ]
     },
     "execution_count": 6,
     "metadata": {},
     "output_type": "execute_result"
    }
   ],
   "source": [
    "df.describe()"
   ]
  },
  {
   "cell_type": "code",
   "execution_count": 7,
   "metadata": {},
   "outputs": [
    {
     "data": {
      "text/html": [
       "<div>\n",
       "<style scoped>\n",
       "    .dataframe tbody tr th:only-of-type {\n",
       "        vertical-align: middle;\n",
       "    }\n",
       "\n",
       "    .dataframe tbody tr th {\n",
       "        vertical-align: top;\n",
       "    }\n",
       "\n",
       "    .dataframe thead th {\n",
       "        text-align: right;\n",
       "    }\n",
       "</style>\n",
       "<table border=\"1\" class=\"dataframe\">\n",
       "  <thead>\n",
       "    <tr style=\"text-align: right;\">\n",
       "      <th></th>\n",
       "      <th>calls</th>\n",
       "      <th>minutes</th>\n",
       "      <th>messages</th>\n",
       "      <th>mb_used</th>\n",
       "      <th>is_ultra</th>\n",
       "    </tr>\n",
       "  </thead>\n",
       "  <tbody>\n",
       "    <tr>\n",
       "      <td>calls</td>\n",
       "      <td>1.000000</td>\n",
       "      <td>0.982083</td>\n",
       "      <td>0.177385</td>\n",
       "      <td>0.286442</td>\n",
       "      <td>0.207122</td>\n",
       "    </tr>\n",
       "    <tr>\n",
       "      <td>minutes</td>\n",
       "      <td>0.982083</td>\n",
       "      <td>1.000000</td>\n",
       "      <td>0.173110</td>\n",
       "      <td>0.280967</td>\n",
       "      <td>0.206955</td>\n",
       "    </tr>\n",
       "    <tr>\n",
       "      <td>messages</td>\n",
       "      <td>0.177385</td>\n",
       "      <td>0.173110</td>\n",
       "      <td>1.000000</td>\n",
       "      <td>0.195721</td>\n",
       "      <td>0.203830</td>\n",
       "    </tr>\n",
       "    <tr>\n",
       "      <td>mb_used</td>\n",
       "      <td>0.286442</td>\n",
       "      <td>0.280967</td>\n",
       "      <td>0.195721</td>\n",
       "      <td>1.000000</td>\n",
       "      <td>0.198568</td>\n",
       "    </tr>\n",
       "    <tr>\n",
       "      <td>is_ultra</td>\n",
       "      <td>0.207122</td>\n",
       "      <td>0.206955</td>\n",
       "      <td>0.203830</td>\n",
       "      <td>0.198568</td>\n",
       "      <td>1.000000</td>\n",
       "    </tr>\n",
       "  </tbody>\n",
       "</table>\n",
       "</div>"
      ],
      "text/plain": [
       "             calls   minutes  messages   mb_used  is_ultra\n",
       "calls     1.000000  0.982083  0.177385  0.286442  0.207122\n",
       "minutes   0.982083  1.000000  0.173110  0.280967  0.206955\n",
       "messages  0.177385  0.173110  1.000000  0.195721  0.203830\n",
       "mb_used   0.286442  0.280967  0.195721  1.000000  0.198568\n",
       "is_ultra  0.207122  0.206955  0.203830  0.198568  1.000000"
      ]
     },
     "execution_count": 7,
     "metadata": {},
     "output_type": "execute_result"
    }
   ],
   "source": [
    "df.corr()"
   ]
  },
  {
   "cell_type": "code",
   "execution_count": 8,
   "metadata": {},
   "outputs": [
    {
     "data": {
      "image/png": "[encoded data removed]",
      "text/plain": [
       "<Figure size 648x648 with 25 Axes>"
      ]
     },
     "metadata": {
      "needs_background": "light"
     },
     "output_type": "display_data"
    }
   ],
   "source": [
    "pd.plotting.scatter_matrix(df, figsize=(9, 9))\n",
    "plt.show()"
   ]
  },
  {
   "cell_type": "markdown",
   "metadata": {},
   "source": [
    "Очевидна линейная зависимость между звонками и минутами, чем больше звонков - тем больше минут. Создадим отдельный датасет без одного из признаков (удалим столбец со звонками) и посмотрим повлияет ли это в исследовании моделей:"
   ]
  },
  {
   "cell_type": "code",
   "execution_count": 9,
   "metadata": {},
   "outputs": [
    {
     "data": {
      "text/html": [
       "<div>\n",
       "<style scoped>\n",
       "    .dataframe tbody tr th:only-of-type {\n",
       "        vertical-align: middle;\n",
       "    }\n",
       "\n",
       "    .dataframe tbody tr th {\n",
       "        vertical-align: top;\n",
       "    }\n",
       "\n",
       "    .dataframe thead th {\n",
       "        text-align: right;\n",
       "    }\n",
       "</style>\n",
       "<table border=\"1\" class=\"dataframe\">\n",
       "  <thead>\n",
       "    <tr style=\"text-align: right;\">\n",
       "      <th></th>\n",
       "      <th>minutes</th>\n",
       "      <th>messages</th>\n",
       "      <th>mb_used</th>\n",
       "      <th>is_ultra</th>\n",
       "    </tr>\n",
       "  </thead>\n",
       "  <tbody>\n",
       "    <tr>\n",
       "      <td>0</td>\n",
       "      <td>311.90</td>\n",
       "      <td>83.0</td>\n",
       "      <td>19915.42</td>\n",
       "      <td>0</td>\n",
       "    </tr>\n",
       "    <tr>\n",
       "      <td>1</td>\n",
       "      <td>516.75</td>\n",
       "      <td>56.0</td>\n",
       "      <td>22696.96</td>\n",
       "      <td>0</td>\n",
       "    </tr>\n",
       "    <tr>\n",
       "      <td>2</td>\n",
       "      <td>467.66</td>\n",
       "      <td>86.0</td>\n",
       "      <td>21060.45</td>\n",
       "      <td>0</td>\n",
       "    </tr>\n",
       "    <tr>\n",
       "      <td>3</td>\n",
       "      <td>745.53</td>\n",
       "      <td>81.0</td>\n",
       "      <td>8437.39</td>\n",
       "      <td>1</td>\n",
       "    </tr>\n",
       "    <tr>\n",
       "      <td>4</td>\n",
       "      <td>418.74</td>\n",
       "      <td>1.0</td>\n",
       "      <td>14502.75</td>\n",
       "      <td>0</td>\n",
       "    </tr>\n",
       "    <tr>\n",
       "      <td>...</td>\n",
       "      <td>...</td>\n",
       "      <td>...</td>\n",
       "      <td>...</td>\n",
       "      <td>...</td>\n",
       "    </tr>\n",
       "    <tr>\n",
       "      <td>3209</td>\n",
       "      <td>910.98</td>\n",
       "      <td>20.0</td>\n",
       "      <td>35124.90</td>\n",
       "      <td>1</td>\n",
       "    </tr>\n",
       "    <tr>\n",
       "      <td>3210</td>\n",
       "      <td>190.36</td>\n",
       "      <td>0.0</td>\n",
       "      <td>3275.61</td>\n",
       "      <td>0</td>\n",
       "    </tr>\n",
       "    <tr>\n",
       "      <td>3211</td>\n",
       "      <td>634.44</td>\n",
       "      <td>70.0</td>\n",
       "      <td>13974.06</td>\n",
       "      <td>0</td>\n",
       "    </tr>\n",
       "    <tr>\n",
       "      <td>3212</td>\n",
       "      <td>462.32</td>\n",
       "      <td>90.0</td>\n",
       "      <td>31239.78</td>\n",
       "      <td>0</td>\n",
       "    </tr>\n",
       "    <tr>\n",
       "      <td>3213</td>\n",
       "      <td>566.09</td>\n",
       "      <td>6.0</td>\n",
       "      <td>29480.52</td>\n",
       "      <td>1</td>\n",
       "    </tr>\n",
       "  </tbody>\n",
       "</table>\n",
       "<p>3214 rows × 4 columns</p>\n",
       "</div>"
      ],
      "text/plain": [
       "      minutes  messages   mb_used  is_ultra\n",
       "0      311.90      83.0  19915.42         0\n",
       "1      516.75      56.0  22696.96         0\n",
       "2      467.66      86.0  21060.45         0\n",
       "3      745.53      81.0   8437.39         1\n",
       "4      418.74       1.0  14502.75         0\n",
       "...       ...       ...       ...       ...\n",
       "3209   910.98      20.0  35124.90         1\n",
       "3210   190.36       0.0   3275.61         0\n",
       "3211   634.44      70.0  13974.06         0\n",
       "3212   462.32      90.0  31239.78         0\n",
       "3213   566.09       6.0  29480.52         1\n",
       "\n",
       "[3214 rows x 4 columns]"
      ]
     },
     "execution_count": 9,
     "metadata": {},
     "output_type": "execute_result"
    }
   ],
   "source": [
    "df_new = df.drop(['calls'],axis = 1)\n",
    "df_new"
   ]
  },
  {
   "cell_type": "markdown",
   "metadata": {},
   "source": [
    "### Вывод"
   ]
  },
  {
   "cell_type": "markdown",
   "metadata": {},
   "source": [
    "- Данные подготовлены хорошо, пропусков и аномалий не видно. Можно сразу без дополнительной предоработки приступать к их анализу.\n",
    "- Очевидна линейная зависимость между звонками и минутами, чем больше звонков - тем больше минут. Создадим отдельный датасет без одного из признаков (удалим столбец со звонками) и посмотрим повлияет ли это в исследовании моделей"
   ]
  },
  {
   "cell_type": "markdown",
   "metadata": {},
   "source": [
    "## Разбейте данные на выборки"
   ]
  },
  {
   "cell_type": "markdown",
   "metadata": {},
   "source": [
    "Создадим датафрейм со всеми признаками и отдельно целевой признак:"
   ]
  },
  {
   "cell_type": "code",
   "execution_count": 10,
   "metadata": {},
   "outputs": [],
   "source": [
    "features = df.drop('is_ultra', axis=1)\n",
    "target = df['is_ultra']"
   ]
  },
  {
   "cell_type": "code",
   "execution_count": 11,
   "metadata": {},
   "outputs": [],
   "source": [
    "new_features = df_new.drop('is_ultra', axis=1)\n",
    "new_target = df_new['is_ultra']"
   ]
  },
  {
   "cell_type": "markdown",
   "metadata": {},
   "source": [
    "Поделим наши исходные данные на 3 выборки:\n",
    "- обучающая - 60%\n",
    "- валидационная - 20%\n",
    "- тестовая выборка - 20%\n",
    "\n",
    "Сделаем это в 2 этапа: \n",
    "- отделяем 60%\n",
    "- оставштеся 4 делим еще на 2 выборки\n",
    "\n",
    "Чтобы модели лучше замечали в данных зависимости добавим псевдослучайность через параметр \"random_state\":"
   ]
  },
  {
   "cell_type": "code",
   "execution_count": 12,
   "metadata": {},
   "outputs": [],
   "source": [
    "features_train, features_valid, target_train, target_valid = train_test_split(\n",
    "    features, target, test_size=0.4, random_state=5, stratify=target\n",
    ")"
   ]
  },
  {
   "cell_type": "code",
   "execution_count": 13,
   "metadata": {},
   "outputs": [],
   "source": [
    "features_valid, features_test, target_valid, target_test = train_test_split(\n",
    "    features_valid, target_valid, test_size=0.5, random_state=5,stratify=target_valid\n",
    ")"
   ]
  },
  {
   "cell_type": "code",
   "execution_count": 14,
   "metadata": {},
   "outputs": [],
   "source": [
    "new_features_train, new_features_valid, new_target_train, new_target_valid = train_test_split(\n",
    "    new_features, new_target, test_size=0.4, random_state=5, stratify=new_target\n",
    ")"
   ]
  },
  {
   "cell_type": "code",
   "execution_count": 15,
   "metadata": {},
   "outputs": [],
   "source": [
    "new_features_valid, new_features_test, new_target_valid, new_target_test = train_test_split(\n",
    "    new_features_valid, new_target_valid, test_size=0.5, random_state=5,stratify=new_target_valid\n",
    ")"
   ]
  },
  {
   "cell_type": "markdown",
   "metadata": {},
   "source": [
    "Обучающая выборка:"
   ]
  },
  {
   "cell_type": "code",
   "execution_count": 16,
   "metadata": {},
   "outputs": [
    {
     "data": {
      "text/plain": [
       "1928"
      ]
     },
     "execution_count": 16,
     "metadata": {},
     "output_type": "execute_result"
    }
   ],
   "source": [
    "len(target_train)"
   ]
  },
  {
   "cell_type": "code",
   "execution_count": 17,
   "metadata": {},
   "outputs": [
    {
     "data": {
      "text/plain": [
       "1928"
      ]
     },
     "execution_count": 17,
     "metadata": {},
     "output_type": "execute_result"
    }
   ],
   "source": [
    "len(new_target_train)"
   ]
  },
  {
   "cell_type": "markdown",
   "metadata": {},
   "source": [
    "Тестовая выборка:"
   ]
  },
  {
   "cell_type": "code",
   "execution_count": 18,
   "metadata": {},
   "outputs": [
    {
     "data": {
      "text/plain": [
       "643"
      ]
     },
     "execution_count": 18,
     "metadata": {},
     "output_type": "execute_result"
    }
   ],
   "source": [
    "len(target_valid)"
   ]
  },
  {
   "cell_type": "code",
   "execution_count": 19,
   "metadata": {},
   "outputs": [
    {
     "data": {
      "text/plain": [
       "643"
      ]
     },
     "execution_count": 19,
     "metadata": {},
     "output_type": "execute_result"
    }
   ],
   "source": [
    "len(new_target_valid)"
   ]
  },
  {
   "cell_type": "markdown",
   "metadata": {},
   "source": [
    "Валидационная выборка:"
   ]
  },
  {
   "cell_type": "code",
   "execution_count": 20,
   "metadata": {},
   "outputs": [
    {
     "data": {
      "text/plain": [
       "643"
      ]
     },
     "execution_count": 20,
     "metadata": {},
     "output_type": "execute_result"
    }
   ],
   "source": [
    "len(target_test)"
   ]
  },
  {
   "cell_type": "code",
   "execution_count": 21,
   "metadata": {},
   "outputs": [
    {
     "data": {
      "text/plain": [
       "643"
      ]
     },
     "execution_count": 21,
     "metadata": {},
     "output_type": "execute_result"
    }
   ],
   "source": [
    "len(new_target_test)"
   ]
  },
  {
   "cell_type": "markdown",
   "metadata": {},
   "source": [
    "### Вывод"
   ]
  },
  {
   "cell_type": "markdown",
   "metadata": {},
   "source": [
    "- Мы разбили наши два датафрейма на 6 (далее будем работать с ними):\n",
    "  * **features_train** - на которых мы будем обучать нашу модель\n",
    "  * **features_valid** - целевой признак обучающей выборки (на нем мы также будем обучать нашу модель)\n",
    "  * **target_train** - на которых мы будем проверять нашу модель (это будет валидационная выборка)\n",
    "  * **target_valid** - целевой признак валидационной выборки\n",
    "  * **features_test** - фичи тестовой модели, которые мы дудем давать нашей обученной модели (с уже настроенными гиперпараметрами)\n",
    "  * **target_test** - целевой признак тестовой выборки (для проверки параметра accuracy)\n",
    "- Из обзора данных можно было увидеть, что среднее целевое отличается от 0.5, т.е присутствует дисбаланс классов. Чтобы при разбиении на выборки сохранять данное соотношение, используем параметр stratify\n"
   ]
  },
  {
   "cell_type": "markdown",
   "metadata": {},
   "source": [
    "## Исследуйте модели"
   ]
  },
  {
   "cell_type": "markdown",
   "metadata": {},
   "source": [
    "Наша задача относится к классу «обучение с учителем», т.к. у нас есть обучающий набор данных и целевой признак, который нужно предсказать по остальным признакам - подходящий тариф («Смарт» или «Ультра»). Модуль будет для задачи классификации.\n",
    "\n",
    "Для решения задач классификации мы знаем 3 метода:\n",
    "- решающее дерево\n",
    "- случайный лес\n",
    "- логистическая регрессия\n",
    "\n",
    "Исследуем качество разных моделей, меняя гиперпараметры и выберем наилучшую:"
   ]
  },
  {
   "cell_type": "markdown",
   "metadata": {},
   "source": [
    "### Метод \"Решающее дерево\""
   ]
  },
  {
   "cell_type": "markdown",
   "metadata": {},
   "source": [
    "Для отслеживания прогресса при поиске используем библиотеку tqdm:"
   ]
  },
  {
   "cell_type": "code",
   "execution_count": 22,
   "metadata": {},
   "outputs": [],
   "source": [
    "from tqdm.notebook import tqdm"
   ]
  },
  {
   "cell_type": "code",
   "execution_count": 23,
   "metadata": {},
   "outputs": [
    {
     "data": {
      "application/vnd.jupyter.widget-view+json": {
       "model_id": "c980b24ceed549e88a88adf51ba0064c",
       "version_major": 2,
       "version_minor": 0
      },
      "text/plain": [
       "HBox(children=(HTML(value='Depth loop'), FloatProgress(value=0.0, max=14.0), HTML(value='')))"
      ]
     },
     "metadata": {},
     "output_type": "display_data"
    },
    {
     "data": {
      "application/vnd.jupyter.widget-view+json": {
       "model_id": "",
       "version_major": 2,
       "version_minor": 0
      },
      "text/plain": [
       "HBox(children=(HTML(value='Criterion loop'), FloatProgress(value=0.0, max=2.0), HTML(value='')))"
      ]
     },
     "metadata": {},
     "output_type": "display_data"
    },
    {
     "data": {
      "application/vnd.jupyter.widget-view+json": {
       "model_id": "",
       "version_major": 2,
       "version_minor": 0
      },
      "text/plain": [
       "HBox(children=(HTML(value='Min_smp_leaf'), FloatProgress(value=0.0, max=5.0), HTML(value='')))"
      ]
     },
     "metadata": {},
     "output_type": "display_data"
    },
    {
     "data": {
      "application/vnd.jupyter.widget-view+json": {
       "model_id": "",
       "version_major": 2,
       "version_minor": 0
      },
      "text/plain": [
       "HBox(children=(HTML(value='Min_smp_leaf'), FloatProgress(value=0.0, max=5.0), HTML(value='')))"
      ]
     },
     "metadata": {},
     "output_type": "display_data"
    },
    {
     "data": {
      "application/vnd.jupyter.widget-view+json": {
       "model_id": "",
       "version_major": 2,
       "version_minor": 0
      },
      "text/plain": [
       "HBox(children=(HTML(value='Criterion loop'), FloatProgress(value=0.0, max=2.0), HTML(value='')))"
      ]
     },
     "metadata": {},
     "output_type": "display_data"
    },
    {
     "data": {
      "application/vnd.jupyter.widget-view+json": {
       "model_id": "",
       "version_major": 2,
       "version_minor": 0
      },
      "text/plain": [
       "HBox(children=(HTML(value='Min_smp_leaf'), FloatProgress(value=0.0, max=5.0), HTML(value='')))"
      ]
     },
     "metadata": {},
     "output_type": "display_data"
    },
    {
     "data": {
      "application/vnd.jupyter.widget-view+json": {
       "model_id": "",
       "version_major": 2,
       "version_minor": 0
      },
      "text/plain": [
       "HBox(children=(HTML(value='Min_smp_leaf'), FloatProgress(value=0.0, max=5.0), HTML(value='')))"
      ]
     },
     "metadata": {},
     "output_type": "display_data"
    },
    {
     "data": {
      "application/vnd.jupyter.widget-view+json": {
       "model_id": "",
       "version_major": 2,
       "version_minor": 0
      },
      "text/plain": [
       "HBox(children=(HTML(value='Criterion loop'), FloatProgress(value=0.0, max=2.0), HTML(value='')))"
      ]
     },
     "metadata": {},
     "output_type": "display_data"
    },
    {
     "data": {
      "application/vnd.jupyter.widget-view+json": {
       "model_id": "",
       "version_major": 2,
       "version_minor": 0
      },
      "text/plain": [
       "HBox(children=(HTML(value='Min_smp_leaf'), FloatProgress(value=0.0, max=5.0), HTML(value='')))"
      ]
     },
     "metadata": {},
     "output_type": "display_data"
    },
    {
     "data": {
      "application/vnd.jupyter.widget-view+json": {
       "model_id": "",
       "version_major": 2,
       "version_minor": 0
      },
      "text/plain": [
       "HBox(children=(HTML(value='Min_smp_leaf'), FloatProgress(value=0.0, max=5.0), HTML(value='')))"
      ]
     },
     "metadata": {},
     "output_type": "display_data"
    },
    {
     "data": {
      "application/vnd.jupyter.widget-view+json": {
       "model_id": "",
       "version_major": 2,
       "version_minor": 0
      },
      "text/plain": [
       "HBox(children=(HTML(value='Criterion loop'), FloatProgress(value=0.0, max=2.0), HTML(value='')))"
      ]
     },
     "metadata": {},
     "output_type": "display_data"
    },
    {
     "data": {
      "application/vnd.jupyter.widget-view+json": {
       "model_id": "",
       "version_major": 2,
       "version_minor": 0
      },
      "text/plain": [
       "HBox(children=(HTML(value='Min_smp_leaf'), FloatProgress(value=0.0, max=5.0), HTML(value='')))"
      ]
     },
     "metadata": {},
     "output_type": "display_data"
    },
    {
     "data": {
      "application/vnd.jupyter.widget-view+json": {
       "model_id": "",
       "version_major": 2,
       "version_minor": 0
      },
      "text/plain": [
       "HBox(children=(HTML(value='Min_smp_leaf'), FloatProgress(value=0.0, max=5.0), HTML(value='')))"
      ]
     },
     "metadata": {},
     "output_type": "display_data"
    },
    {
     "data": {
      "application/vnd.jupyter.widget-view+json": {
       "model_id": "",
       "version_major": 2,
       "version_minor": 0
      },
      "text/plain": [
       "HBox(children=(HTML(value='Criterion loop'), FloatProgress(value=0.0, max=2.0), HTML(value='')))"
      ]
     },
     "metadata": {},
     "output_type": "display_data"
    },
    {
     "data": {
      "application/vnd.jupyter.widget-view+json": {
       "model_id": "",
       "version_major": 2,
       "version_minor": 0
      },
      "text/plain": [
       "HBox(children=(HTML(value='Min_smp_leaf'), FloatProgress(value=0.0, max=5.0), HTML(value='')))"
      ]
     },
     "metadata": {},
     "output_type": "display_data"
    },
    {
     "data": {
      "application/vnd.jupyter.widget-view+json": {
       "model_id": "",
       "version_major": 2,
       "version_minor": 0
      },
      "text/plain": [
       "HBox(children=(HTML(value='Min_smp_leaf'), FloatProgress(value=0.0, max=5.0), HTML(value='')))"
      ]
     },
     "metadata": {},
     "output_type": "display_data"
    },
    {
     "data": {
      "application/vnd.jupyter.widget-view+json": {
       "model_id": "",
       "version_major": 2,
       "version_minor": 0
      },
      "text/plain": [
       "HBox(children=(HTML(value='Criterion loop'), FloatProgress(value=0.0, max=2.0), HTML(value='')))"
      ]
     },
     "metadata": {},
     "output_type": "display_data"
    },
    {
     "data": {
      "application/vnd.jupyter.widget-view+json": {
       "model_id": "",
       "version_major": 2,
       "version_minor": 0
      },
      "text/plain": [
       "HBox(children=(HTML(value='Min_smp_leaf'), FloatProgress(value=0.0, max=5.0), HTML(value='')))"
      ]
     },
     "metadata": {},
     "output_type": "display_data"
    },
    {
     "data": {
      "application/vnd.jupyter.widget-view+json": {
       "model_id": "",
       "version_major": 2,
       "version_minor": 0
      },
      "text/plain": [
       "HBox(children=(HTML(value='Min_smp_leaf'), FloatProgress(value=0.0, max=5.0), HTML(value='')))"
      ]
     },
     "metadata": {},
     "output_type": "display_data"
    },
    {
     "data": {
      "application/vnd.jupyter.widget-view+json": {
       "model_id": "",
       "version_major": 2,
       "version_minor": 0
      },
      "text/plain": [
       "HBox(children=(HTML(value='Criterion loop'), FloatProgress(value=0.0, max=2.0), HTML(value='')))"
      ]
     },
     "metadata": {},
     "output_type": "display_data"
    },
    {
     "data": {
      "application/vnd.jupyter.widget-view+json": {
       "model_id": "",
       "version_major": 2,
       "version_minor": 0
      },
      "text/plain": [
       "HBox(children=(HTML(value='Min_smp_leaf'), FloatProgress(value=0.0, max=5.0), HTML(value='')))"
      ]
     },
     "metadata": {},
     "output_type": "display_data"
    },
    {
     "data": {
      "application/vnd.jupyter.widget-view+json": {
       "model_id": "",
       "version_major": 2,
       "version_minor": 0
      },
      "text/plain": [
       "HBox(children=(HTML(value='Min_smp_leaf'), FloatProgress(value=0.0, max=5.0), HTML(value='')))"
      ]
     },
     "metadata": {},
     "output_type": "display_data"
    },
    {
     "data": {
      "application/vnd.jupyter.widget-view+json": {
       "model_id": "",
       "version_major": 2,
       "version_minor": 0
      },
      "text/plain": [
       "HBox(children=(HTML(value='Criterion loop'), FloatProgress(value=0.0, max=2.0), HTML(value='')))"
      ]
     },
     "metadata": {},
     "output_type": "display_data"
    },
    {
     "data": {
      "application/vnd.jupyter.widget-view+json": {
       "model_id": "",
       "version_major": 2,
       "version_minor": 0
      },
      "text/plain": [
       "HBox(children=(HTML(value='Min_smp_leaf'), FloatProgress(value=0.0, max=5.0), HTML(value='')))"
      ]
     },
     "metadata": {},
     "output_type": "display_data"
    },
    {
     "data": {
      "application/vnd.jupyter.widget-view+json": {
       "model_id": "",
       "version_major": 2,
       "version_minor": 0
      },
      "text/plain": [
       "HBox(children=(HTML(value='Min_smp_leaf'), FloatProgress(value=0.0, max=5.0), HTML(value='')))"
      ]
     },
     "metadata": {},
     "output_type": "display_data"
    },
    {
     "data": {
      "application/vnd.jupyter.widget-view+json": {
       "model_id": "",
       "version_major": 2,
       "version_minor": 0
      },
      "text/plain": [
       "HBox(children=(HTML(value='Criterion loop'), FloatProgress(value=0.0, max=2.0), HTML(value='')))"
      ]
     },
     "metadata": {},
     "output_type": "display_data"
    },
    {
     "data": {
      "application/vnd.jupyter.widget-view+json": {
       "model_id": "",
       "version_major": 2,
       "version_minor": 0
      },
      "text/plain": [
       "HBox(children=(HTML(value='Min_smp_leaf'), FloatProgress(value=0.0, max=5.0), HTML(value='')))"
      ]
     },
     "metadata": {},
     "output_type": "display_data"
    },
    {
     "data": {
      "application/vnd.jupyter.widget-view+json": {
       "model_id": "",
       "version_major": 2,
       "version_minor": 0
      },
      "text/plain": [
       "HBox(children=(HTML(value='Min_smp_leaf'), FloatProgress(value=0.0, max=5.0), HTML(value='')))"
      ]
     },
     "metadata": {},
     "output_type": "display_data"
    },
    {
     "data": {
      "application/vnd.jupyter.widget-view+json": {
       "model_id": "",
       "version_major": 2,
       "version_minor": 0
      },
      "text/plain": [
       "HBox(children=(HTML(value='Criterion loop'), FloatProgress(value=0.0, max=2.0), HTML(value='')))"
      ]
     },
     "metadata": {},
     "output_type": "display_data"
    },
    {
     "data": {
      "application/vnd.jupyter.widget-view+json": {
       "model_id": "",
       "version_major": 2,
       "version_minor": 0
      },
      "text/plain": [
       "HBox(children=(HTML(value='Min_smp_leaf'), FloatProgress(value=0.0, max=5.0), HTML(value='')))"
      ]
     },
     "metadata": {},
     "output_type": "display_data"
    },
    {
     "data": {
      "application/vnd.jupyter.widget-view+json": {
       "model_id": "",
       "version_major": 2,
       "version_minor": 0
      },
      "text/plain": [
       "HBox(children=(HTML(value='Min_smp_leaf'), FloatProgress(value=0.0, max=5.0), HTML(value='')))"
      ]
     },
     "metadata": {},
     "output_type": "display_data"
    },
    {
     "data": {
      "application/vnd.jupyter.widget-view+json": {
       "model_id": "",
       "version_major": 2,
       "version_minor": 0
      },
      "text/plain": [
       "HBox(children=(HTML(value='Criterion loop'), FloatProgress(value=0.0, max=2.0), HTML(value='')))"
      ]
     },
     "metadata": {},
     "output_type": "display_data"
    },
    {
     "data": {
      "application/vnd.jupyter.widget-view+json": {
       "model_id": "",
       "version_major": 2,
       "version_minor": 0
      },
      "text/plain": [
       "HBox(children=(HTML(value='Min_smp_leaf'), FloatProgress(value=0.0, max=5.0), HTML(value='')))"
      ]
     },
     "metadata": {},
     "output_type": "display_data"
    },
    {
     "data": {
      "application/vnd.jupyter.widget-view+json": {
       "model_id": "",
       "version_major": 2,
       "version_minor": 0
      },
      "text/plain": [
       "HBox(children=(HTML(value='Min_smp_leaf'), FloatProgress(value=0.0, max=5.0), HTML(value='')))"
      ]
     },
     "metadata": {},
     "output_type": "display_data"
    },
    {
     "data": {
      "application/vnd.jupyter.widget-view+json": {
       "model_id": "",
       "version_major": 2,
       "version_minor": 0
      },
      "text/plain": [
       "HBox(children=(HTML(value='Criterion loop'), FloatProgress(value=0.0, max=2.0), HTML(value='')))"
      ]
     },
     "metadata": {},
     "output_type": "display_data"
    },
    {
     "data": {
      "application/vnd.jupyter.widget-view+json": {
       "model_id": "",
       "version_major": 2,
       "version_minor": 0
      },
      "text/plain": [
       "HBox(children=(HTML(value='Min_smp_leaf'), FloatProgress(value=0.0, max=5.0), HTML(value='')))"
      ]
     },
     "metadata": {},
     "output_type": "display_data"
    },
    {
     "data": {
      "application/vnd.jupyter.widget-view+json": {
       "model_id": "",
       "version_major": 2,
       "version_minor": 0
      },
      "text/plain": [
       "HBox(children=(HTML(value='Min_smp_leaf'), FloatProgress(value=0.0, max=5.0), HTML(value='')))"
      ]
     },
     "metadata": {},
     "output_type": "display_data"
    },
    {
     "data": {
      "application/vnd.jupyter.widget-view+json": {
       "model_id": "",
       "version_major": 2,
       "version_minor": 0
      },
      "text/plain": [
       "HBox(children=(HTML(value='Criterion loop'), FloatProgress(value=0.0, max=2.0), HTML(value='')))"
      ]
     },
     "metadata": {},
     "output_type": "display_data"
    },
    {
     "data": {
      "application/vnd.jupyter.widget-view+json": {
       "model_id": "",
       "version_major": 2,
       "version_minor": 0
      },
      "text/plain": [
       "HBox(children=(HTML(value='Min_smp_leaf'), FloatProgress(value=0.0, max=5.0), HTML(value='')))"
      ]
     },
     "metadata": {},
     "output_type": "display_data"
    },
    {
     "data": {
      "application/vnd.jupyter.widget-view+json": {
       "model_id": "",
       "version_major": 2,
       "version_minor": 0
      },
      "text/plain": [
       "HBox(children=(HTML(value='Min_smp_leaf'), FloatProgress(value=0.0, max=5.0), HTML(value='')))"
      ]
     },
     "metadata": {},
     "output_type": "display_data"
    },
    {
     "data": {
      "application/vnd.jupyter.widget-view+json": {
       "model_id": "",
       "version_major": 2,
       "version_minor": 0
      },
      "text/plain": [
       "HBox(children=(HTML(value='Criterion loop'), FloatProgress(value=0.0, max=2.0), HTML(value='')))"
      ]
     },
     "metadata": {},
     "output_type": "display_data"
    },
    {
     "data": {
      "application/vnd.jupyter.widget-view+json": {
       "model_id": "",
       "version_major": 2,
       "version_minor": 0
      },
      "text/plain": [
       "HBox(children=(HTML(value='Min_smp_leaf'), FloatProgress(value=0.0, max=5.0), HTML(value='')))"
      ]
     },
     "metadata": {},
     "output_type": "display_data"
    },
    {
     "data": {
      "application/vnd.jupyter.widget-view+json": {
       "model_id": "",
       "version_major": 2,
       "version_minor": 0
      },
      "text/plain": [
       "HBox(children=(HTML(value='Min_smp_leaf'), FloatProgress(value=0.0, max=5.0), HTML(value='')))"
      ]
     },
     "metadata": {},
     "output_type": "display_data"
    },
    {
     "name": "stdout",
     "output_type": "stream",
     "text": [
      "\n"
     ]
    }
   ],
   "source": [
    "best_model_tree = None\n",
    "best_result_tree = 0\n",
    "for depth in tqdm(range(1, 15), desc='Depth loop'):\n",
    "    for cr in tqdm(['gini', 'entropy'], desc='Criterion loop', leave=False):\n",
    "        for min_smp in tqdm(range(1, 50, 10), desc='Min_smp_leaf', leave=False):\n",
    "            model = DecisionTreeClassifier(random_state=5, min_samples_leaf = min_smp, max_depth=depth, criterion = cr)\n",
    "            model.fit(features_train, target_train) \n",
    "            valid_predictions_tree = model.predict(features_valid) \n",
    "            result = model.score(features_valid, target_valid)    \n",
    "            if result > best_result_tree:\n",
    "                best_model_tree = model\n",
    "                best_result_tree = result"
   ]
  },
  {
   "cell_type": "code",
   "execution_count": 24,
   "metadata": {},
   "outputs": [
    {
     "name": "stdout",
     "output_type": "stream",
     "text": [
      "\"accuracy\" наилучшей модели на валидационной выборке:\n",
      "0.7978227060653188\n",
      "Параметры лучшей модели:\n",
      "DecisionTreeClassifier(class_weight=None, criterion='entropy', max_depth=10,\n",
      "                       max_features=None, max_leaf_nodes=None,\n",
      "                       min_impurity_decrease=0.0, min_impurity_split=None,\n",
      "                       min_samples_leaf=11, min_samples_split=2,\n",
      "                       min_weight_fraction_leaf=0.0, presort=False,\n",
      "                       random_state=5, splitter='best')\n"
     ]
    }
   ],
   "source": [
    "print('\"accuracy\" наилучшей модели на валидационной выборке:', best_result_tree, \n",
    "      \"Параметры лучшей модели:\", best_model_tree, sep='\\n') "
   ]
  },
  {
   "cell_type": "markdown",
   "metadata": {},
   "source": [
    "Итого у нас получается:\n",
    "- \"accuracy\" наилучшей модели на валидационной выборке 0.7978227060653188\n",
    "\n",
    "Параметры лучшей модели:\n",
    "- criterion='entropy'\n",
    "- max_depth=10\n",
    "- min_samples_leaf=11\n",
    "- min_samples_split=2,\n",
    "- random_state=5\n",
    "- splitter='best'"
   ]
  },
  {
   "cell_type": "markdown",
   "metadata": {},
   "source": [
    "Обучим модель на новом датасете:"
   ]
  },
  {
   "cell_type": "code",
   "execution_count": 25,
   "metadata": {},
   "outputs": [
    {
     "data": {
      "application/vnd.jupyter.widget-view+json": {
       "model_id": "a0f9f43e9f204e69b51a55e33dc66ddc",
       "version_major": 2,
       "version_minor": 0
      },
      "text/plain": [
       "HBox(children=(HTML(value='Depth loop'), FloatProgress(value=0.0, max=14.0), HTML(value='')))"
      ]
     },
     "metadata": {},
     "output_type": "display_data"
    },
    {
     "data": {
      "application/vnd.jupyter.widget-view+json": {
       "model_id": "",
       "version_major": 2,
       "version_minor": 0
      },
      "text/plain": [
       "HBox(children=(HTML(value='Criterion loop'), FloatProgress(value=0.0, max=2.0), HTML(value='')))"
      ]
     },
     "metadata": {},
     "output_type": "display_data"
    },
    {
     "data": {
      "application/vnd.jupyter.widget-view+json": {
       "model_id": "",
       "version_major": 2,
       "version_minor": 0
      },
      "text/plain": [
       "HBox(children=(HTML(value='Min_smp_leaf'), FloatProgress(value=0.0, max=5.0), HTML(value='')))"
      ]
     },
     "metadata": {},
     "output_type": "display_data"
    },
    {
     "data": {
      "application/vnd.jupyter.widget-view+json": {
       "model_id": "",
       "version_major": 2,
       "version_minor": 0
      },
      "text/plain": [
       "HBox(children=(HTML(value='Min_smp_leaf'), FloatProgress(value=0.0, max=5.0), HTML(value='')))"
      ]
     },
     "metadata": {},
     "output_type": "display_data"
    },
    {
     "data": {
      "application/vnd.jupyter.widget-view+json": {
       "model_id": "",
       "version_major": 2,
       "version_minor": 0
      },
      "text/plain": [
       "HBox(children=(HTML(value='Criterion loop'), FloatProgress(value=0.0, max=2.0), HTML(value='')))"
      ]
     },
     "metadata": {},
     "output_type": "display_data"
    },
    {
     "data": {
      "application/vnd.jupyter.widget-view+json": {
       "model_id": "",
       "version_major": 2,
       "version_minor": 0
      },
      "text/plain": [
       "HBox(children=(HTML(value='Min_smp_leaf'), FloatProgress(value=0.0, max=5.0), HTML(value='')))"
      ]
     },
     "metadata": {},
     "output_type": "display_data"
    },
    {
     "data": {
      "application/vnd.jupyter.widget-view+json": {
       "model_id": "",
       "version_major": 2,
       "version_minor": 0
      },
      "text/plain": [
       "HBox(children=(HTML(value='Min_smp_leaf'), FloatProgress(value=0.0, max=5.0), HTML(value='')))"
      ]
     },
     "metadata": {},
     "output_type": "display_data"
    },
    {
     "data": {
      "application/vnd.jupyter.widget-view+json": {
       "model_id": "",
       "version_major": 2,
       "version_minor": 0
      },
      "text/plain": [
       "HBox(children=(HTML(value='Criterion loop'), FloatProgress(value=0.0, max=2.0), HTML(value='')))"
      ]
     },
     "metadata": {},
     "output_type": "display_data"
    },
    {
     "data": {
      "application/vnd.jupyter.widget-view+json": {
       "model_id": "",
       "version_major": 2,
       "version_minor": 0
      },
      "text/plain": [
       "HBox(children=(HTML(value='Min_smp_leaf'), FloatProgress(value=0.0, max=5.0), HTML(value='')))"
      ]
     },
     "metadata": {},
     "output_type": "display_data"
    },
    {
     "data": {
      "application/vnd.jupyter.widget-view+json": {
       "model_id": "",
       "version_major": 2,
       "version_minor": 0
      },
      "text/plain": [
       "HBox(children=(HTML(value='Min_smp_leaf'), FloatProgress(value=0.0, max=5.0), HTML(value='')))"
      ]
     },
     "metadata": {},
     "output_type": "display_data"
    },
    {
     "data": {
      "application/vnd.jupyter.widget-view+json": {
       "model_id": "",
       "version_major": 2,
       "version_minor": 0
      },
      "text/plain": [
       "HBox(children=(HTML(value='Criterion loop'), FloatProgress(value=0.0, max=2.0), HTML(value='')))"
      ]
     },
     "metadata": {},
     "output_type": "display_data"
    },
    {
     "data": {
      "application/vnd.jupyter.widget-view+json": {
       "model_id": "",
       "version_major": 2,
       "version_minor": 0
      },
      "text/plain": [
       "HBox(children=(HTML(value='Min_smp_leaf'), FloatProgress(value=0.0, max=5.0), HTML(value='')))"
      ]
     },
     "metadata": {},
     "output_type": "display_data"
    },
    {
     "data": {
      "application/vnd.jupyter.widget-view+json": {
       "model_id": "",
       "version_major": 2,
       "version_minor": 0
      },
      "text/plain": [
       "HBox(children=(HTML(value='Min_smp_leaf'), FloatProgress(value=0.0, max=5.0), HTML(value='')))"
      ]
     },
     "metadata": {},
     "output_type": "display_data"
    },
    {
     "data": {
      "application/vnd.jupyter.widget-view+json": {
       "model_id": "",
       "version_major": 2,
       "version_minor": 0
      },
      "text/plain": [
       "HBox(children=(HTML(value='Criterion loop'), FloatProgress(value=0.0, max=2.0), HTML(value='')))"
      ]
     },
     "metadata": {},
     "output_type": "display_data"
    },
    {
     "data": {
      "application/vnd.jupyter.widget-view+json": {
       "model_id": "",
       "version_major": 2,
       "version_minor": 0
      },
      "text/plain": [
       "HBox(children=(HTML(value='Min_smp_leaf'), FloatProgress(value=0.0, max=5.0), HTML(value='')))"
      ]
     },
     "metadata": {},
     "output_type": "display_data"
    },
    {
     "data": {
      "application/vnd.jupyter.widget-view+json": {
       "model_id": "",
       "version_major": 2,
       "version_minor": 0
      },
      "text/plain": [
       "HBox(children=(HTML(value='Min_smp_leaf'), FloatProgress(value=0.0, max=5.0), HTML(value='')))"
      ]
     },
     "metadata": {},
     "output_type": "display_data"
    },
    {
     "data": {
      "application/vnd.jupyter.widget-view+json": {
       "model_id": "",
       "version_major": 2,
       "version_minor": 0
      },
      "text/plain": [
       "HBox(children=(HTML(value='Criterion loop'), FloatProgress(value=0.0, max=2.0), HTML(value='')))"
      ]
     },
     "metadata": {},
     "output_type": "display_data"
    },
    {
     "data": {
      "application/vnd.jupyter.widget-view+json": {
       "model_id": "",
       "version_major": 2,
       "version_minor": 0
      },
      "text/plain": [
       "HBox(children=(HTML(value='Min_smp_leaf'), FloatProgress(value=0.0, max=5.0), HTML(value='')))"
      ]
     },
     "metadata": {},
     "output_type": "display_data"
    },
    {
     "data": {
      "application/vnd.jupyter.widget-view+json": {
       "model_id": "",
       "version_major": 2,
       "version_minor": 0
      },
      "text/plain": [
       "HBox(children=(HTML(value='Min_smp_leaf'), FloatProgress(value=0.0, max=5.0), HTML(value='')))"
      ]
     },
     "metadata": {},
     "output_type": "display_data"
    },
    {
     "data": {
      "application/vnd.jupyter.widget-view+json": {
       "model_id": "",
       "version_major": 2,
       "version_minor": 0
      },
      "text/plain": [
       "HBox(children=(HTML(value='Criterion loop'), FloatProgress(value=0.0, max=2.0), HTML(value='')))"
      ]
     },
     "metadata": {},
     "output_type": "display_data"
    },
    {
     "data": {
      "application/vnd.jupyter.widget-view+json": {
       "model_id": "",
       "version_major": 2,
       "version_minor": 0
      },
      "text/plain": [
       "HBox(children=(HTML(value='Min_smp_leaf'), FloatProgress(value=0.0, max=5.0), HTML(value='')))"
      ]
     },
     "metadata": {},
     "output_type": "display_data"
    },
    {
     "data": {
      "application/vnd.jupyter.widget-view+json": {
       "model_id": "",
       "version_major": 2,
       "version_minor": 0
      },
      "text/plain": [
       "HBox(children=(HTML(value='Min_smp_leaf'), FloatProgress(value=0.0, max=5.0), HTML(value='')))"
      ]
     },
     "metadata": {},
     "output_type": "display_data"
    },
    {
     "data": {
      "application/vnd.jupyter.widget-view+json": {
       "model_id": "",
       "version_major": 2,
       "version_minor": 0
      },
      "text/plain": [
       "HBox(children=(HTML(value='Criterion loop'), FloatProgress(value=0.0, max=2.0), HTML(value='')))"
      ]
     },
     "metadata": {},
     "output_type": "display_data"
    },
    {
     "data": {
      "application/vnd.jupyter.widget-view+json": {
       "model_id": "",
       "version_major": 2,
       "version_minor": 0
      },
      "text/plain": [
       "HBox(children=(HTML(value='Min_smp_leaf'), FloatProgress(value=0.0, max=5.0), HTML(value='')))"
      ]
     },
     "metadata": {},
     "output_type": "display_data"
    },
    {
     "data": {
      "application/vnd.jupyter.widget-view+json": {
       "model_id": "",
       "version_major": 2,
       "version_minor": 0
      },
      "text/plain": [
       "HBox(children=(HTML(value='Min_smp_leaf'), FloatProgress(value=0.0, max=5.0), HTML(value='')))"
      ]
     },
     "metadata": {},
     "output_type": "display_data"
    },
    {
     "data": {
      "application/vnd.jupyter.widget-view+json": {
       "model_id": "",
       "version_major": 2,
       "version_minor": 0
      },
      "text/plain": [
       "HBox(children=(HTML(value='Criterion loop'), FloatProgress(value=0.0, max=2.0), HTML(value='')))"
      ]
     },
     "metadata": {},
     "output_type": "display_data"
    },
    {
     "data": {
      "application/vnd.jupyter.widget-view+json": {
       "model_id": "",
       "version_major": 2,
       "version_minor": 0
      },
      "text/plain": [
       "HBox(children=(HTML(value='Min_smp_leaf'), FloatProgress(value=0.0, max=5.0), HTML(value='')))"
      ]
     },
     "metadata": {},
     "output_type": "display_data"
    },
    {
     "data": {
      "application/vnd.jupyter.widget-view+json": {
       "model_id": "",
       "version_major": 2,
       "version_minor": 0
      },
      "text/plain": [
       "HBox(children=(HTML(value='Min_smp_leaf'), FloatProgress(value=0.0, max=5.0), HTML(value='')))"
      ]
     },
     "metadata": {},
     "output_type": "display_data"
    },
    {
     "data": {
      "application/vnd.jupyter.widget-view+json": {
       "model_id": "",
       "version_major": 2,
       "version_minor": 0
      },
      "text/plain": [
       "HBox(children=(HTML(value='Criterion loop'), FloatProgress(value=0.0, max=2.0), HTML(value='')))"
      ]
     },
     "metadata": {},
     "output_type": "display_data"
    },
    {
     "data": {
      "application/vnd.jupyter.widget-view+json": {
       "model_id": "",
       "version_major": 2,
       "version_minor": 0
      },
      "text/plain": [
       "HBox(children=(HTML(value='Min_smp_leaf'), FloatProgress(value=0.0, max=5.0), HTML(value='')))"
      ]
     },
     "metadata": {},
     "output_type": "display_data"
    },
    {
     "data": {
      "application/vnd.jupyter.widget-view+json": {
       "model_id": "",
       "version_major": 2,
       "version_minor": 0
      },
      "text/plain": [
       "HBox(children=(HTML(value='Min_smp_leaf'), FloatProgress(value=0.0, max=5.0), HTML(value='')))"
      ]
     },
     "metadata": {},
     "output_type": "display_data"
    },
    {
     "data": {
      "application/vnd.jupyter.widget-view+json": {
       "model_id": "",
       "version_major": 2,
       "version_minor": 0
      },
      "text/plain": [
       "HBox(children=(HTML(value='Criterion loop'), FloatProgress(value=0.0, max=2.0), HTML(value='')))"
      ]
     },
     "metadata": {},
     "output_type": "display_data"
    },
    {
     "data": {
      "application/vnd.jupyter.widget-view+json": {
       "model_id": "",
       "version_major": 2,
       "version_minor": 0
      },
      "text/plain": [
       "HBox(children=(HTML(value='Min_smp_leaf'), FloatProgress(value=0.0, max=5.0), HTML(value='')))"
      ]
     },
     "metadata": {},
     "output_type": "display_data"
    },
    {
     "data": {
      "application/vnd.jupyter.widget-view+json": {
       "model_id": "",
       "version_major": 2,
       "version_minor": 0
      },
      "text/plain": [
       "HBox(children=(HTML(value='Min_smp_leaf'), FloatProgress(value=0.0, max=5.0), HTML(value='')))"
      ]
     },
     "metadata": {},
     "output_type": "display_data"
    },
    {
     "data": {
      "application/vnd.jupyter.widget-view+json": {
       "model_id": "",
       "version_major": 2,
       "version_minor": 0
      },
      "text/plain": [
       "HBox(children=(HTML(value='Criterion loop'), FloatProgress(value=0.0, max=2.0), HTML(value='')))"
      ]
     },
     "metadata": {},
     "output_type": "display_data"
    },
    {
     "data": {
      "application/vnd.jupyter.widget-view+json": {
       "model_id": "",
       "version_major": 2,
       "version_minor": 0
      },
      "text/plain": [
       "HBox(children=(HTML(value='Min_smp_leaf'), FloatProgress(value=0.0, max=5.0), HTML(value='')))"
      ]
     },
     "metadata": {},
     "output_type": "display_data"
    },
    {
     "data": {
      "application/vnd.jupyter.widget-view+json": {
       "model_id": "",
       "version_major": 2,
       "version_minor": 0
      },
      "text/plain": [
       "HBox(children=(HTML(value='Min_smp_leaf'), FloatProgress(value=0.0, max=5.0), HTML(value='')))"
      ]
     },
     "metadata": {},
     "output_type": "display_data"
    },
    {
     "data": {
      "application/vnd.jupyter.widget-view+json": {
       "model_id": "",
       "version_major": 2,
       "version_minor": 0
      },
      "text/plain": [
       "HBox(children=(HTML(value='Criterion loop'), FloatProgress(value=0.0, max=2.0), HTML(value='')))"
      ]
     },
     "metadata": {},
     "output_type": "display_data"
    },
    {
     "data": {
      "application/vnd.jupyter.widget-view+json": {
       "model_id": "",
       "version_major": 2,
       "version_minor": 0
      },
      "text/plain": [
       "HBox(children=(HTML(value='Min_smp_leaf'), FloatProgress(value=0.0, max=5.0), HTML(value='')))"
      ]
     },
     "metadata": {},
     "output_type": "display_data"
    },
    {
     "data": {
      "application/vnd.jupyter.widget-view+json": {
       "model_id": "",
       "version_major": 2,
       "version_minor": 0
      },
      "text/plain": [
       "HBox(children=(HTML(value='Min_smp_leaf'), FloatProgress(value=0.0, max=5.0), HTML(value='')))"
      ]
     },
     "metadata": {},
     "output_type": "display_data"
    },
    {
     "data": {
      "application/vnd.jupyter.widget-view+json": {
       "model_id": "",
       "version_major": 2,
       "version_minor": 0
      },
      "text/plain": [
       "HBox(children=(HTML(value='Criterion loop'), FloatProgress(value=0.0, max=2.0), HTML(value='')))"
      ]
     },
     "metadata": {},
     "output_type": "display_data"
    },
    {
     "data": {
      "application/vnd.jupyter.widget-view+json": {
       "model_id": "",
       "version_major": 2,
       "version_minor": 0
      },
      "text/plain": [
       "HBox(children=(HTML(value='Min_smp_leaf'), FloatProgress(value=0.0, max=5.0), HTML(value='')))"
      ]
     },
     "metadata": {},
     "output_type": "display_data"
    },
    {
     "data": {
      "application/vnd.jupyter.widget-view+json": {
       "model_id": "",
       "version_major": 2,
       "version_minor": 0
      },
      "text/plain": [
       "HBox(children=(HTML(value='Min_smp_leaf'), FloatProgress(value=0.0, max=5.0), HTML(value='')))"
      ]
     },
     "metadata": {},
     "output_type": "display_data"
    },
    {
     "name": "stdout",
     "output_type": "stream",
     "text": [
      "\n"
     ]
    }
   ],
   "source": [
    "new_best_model_tree = None\n",
    "new_best_result_tree = 0\n",
    "for depth in tqdm(range(1, 15), desc='Depth loop'):\n",
    "    for cr in tqdm(['gini', 'entropy'], desc='Criterion loop', leave=False):\n",
    "        for min_smp in tqdm(range(1, 50, 10), desc='Min_smp_leaf', leave=False):\n",
    "            model = DecisionTreeClassifier(random_state=5, min_samples_leaf = min_smp, max_depth=depth, criterion = cr)\n",
    "            model.fit(new_features_train, new_target_train) \n",
    "            new_valid_predictions_tree = model.predict(new_features_valid) \n",
    "            result = model.score(new_features_valid, new_target_valid)    \n",
    "            if result > new_best_result_tree:\n",
    "                new_best_model_tree = model\n",
    "                new_best_result_tree = result"
   ]
  },
  {
   "cell_type": "code",
   "execution_count": 26,
   "metadata": {},
   "outputs": [
    {
     "name": "stdout",
     "output_type": "stream",
     "text": [
      "\"accuracy\" наилучшей модели на валидационной выборке:\n",
      "0.7962674961119751\n",
      "Параметры лучшей модели:\n",
      "DecisionTreeClassifier(class_weight=None, criterion='entropy', max_depth=8,\n",
      "                       max_features=None, max_leaf_nodes=None,\n",
      "                       min_impurity_decrease=0.0, min_impurity_split=None,\n",
      "                       min_samples_leaf=1, min_samples_split=2,\n",
      "                       min_weight_fraction_leaf=0.0, presort=False,\n",
      "                       random_state=5, splitter='best')\n"
     ]
    }
   ],
   "source": [
    "print('\"accuracy\" наилучшей модели на валидационной выборке:', new_best_result_tree, \n",
    "      \"Параметры лучшей модели:\", new_best_model_tree, sep='\\n') "
   ]
  },
  {
   "cell_type": "markdown",
   "metadata": {},
   "source": [
    "Итого у нас получается:\n",
    "- \"accuracy\" наилучшей модели на валидационной выборке 0.7962674961119751\n",
    "\n",
    "Параметры лучшей модели:\n",
    "- criterion='entropy'\n",
    "- max_depth=8\n",
    "- min_samples_leaf=1\n",
    "- min_samples_split=2,\n",
    "- random_state=5\n",
    "- splitter='best'"
   ]
  },
  {
   "cell_type": "markdown",
   "metadata": {},
   "source": [
    "### Модель \"Случайный лес\""
   ]
  },
  {
   "cell_type": "markdown",
   "metadata": {},
   "source": [
    "Этот алгоритм обучает большое количество независимых друг от друга деревьев, а потом принимает решение на основе голосования. \"Случайный лес\" помогает улучшить результат предсказания и избежать переобучения."
   ]
  },
  {
   "cell_type": "markdown",
   "metadata": {},
   "source": [
    "попробуем перебрать вложенными циклами"
   ]
  },
  {
   "cell_type": "code",
   "execution_count": 27,
   "metadata": {},
   "outputs": [
    {
     "data": {
      "application/vnd.jupyter.widget-view+json": {
       "model_id": "0757725479a14c2a838ce45c509b716e",
       "version_major": 2,
       "version_minor": 0
      },
      "text/plain": [
       "HBox(children=(HTML(value='Depth loop'), FloatProgress(value=0.0, max=14.0), HTML(value='')))"
      ]
     },
     "metadata": {},
     "output_type": "display_data"
    },
    {
     "data": {
      "application/vnd.jupyter.widget-view+json": {
       "model_id": "",
       "version_major": 2,
       "version_minor": 0
      },
      "text/plain": [
       "HBox(children=(HTML(value='Est loop'), FloatProgress(value=0.0, max=10.0), HTML(value='')))"
      ]
     },
     "metadata": {},
     "output_type": "display_data"
    },
    {
     "data": {
      "application/vnd.jupyter.widget-view+json": {
       "model_id": "",
       "version_major": 2,
       "version_minor": 0
      },
      "text/plain": [
       "HBox(children=(HTML(value='n_features loop'), FloatProgress(value=0.0, max=2.0), HTML(value='')))"
      ]
     },
     "metadata": {},
     "output_type": "display_data"
    },
    {
     "data": {
      "application/vnd.jupyter.widget-view+json": {
       "model_id": "",
       "version_major": 2,
       "version_minor": 0
      },
      "text/plain": [
       "HBox(children=(HTML(value='n_features loop'), FloatProgress(value=0.0, max=2.0), HTML(value='')))"
      ]
     },
     "metadata": {},
     "output_type": "display_data"
    },
    {
     "data": {
      "application/vnd.jupyter.widget-view+json": {
       "model_id": "",
       "version_major": 2,
       "version_minor": 0
      },
      "text/plain": [
       "HBox(children=(HTML(value='n_features loop'), FloatProgress(value=0.0, max=2.0), HTML(value='')))"
      ]
     },
     "metadata": {},
     "output_type": "display_data"
    },
    {
     "data": {
      "application/vnd.jupyter.widget-view+json": {
       "model_id": "",
       "version_major": 2,
       "version_minor": 0
      },
      "text/plain": [
       "HBox(children=(HTML(value='n_features loop'), FloatProgress(value=0.0, max=2.0), HTML(value='')))"
      ]
     },
     "metadata": {},
     "output_type": "display_data"
    },
    {
     "data": {
      "application/vnd.jupyter.widget-view+json": {
       "model_id": "",
       "version_major": 2,
       "version_minor": 0
      },
      "text/plain": [
       "HBox(children=(HTML(value='n_features loop'), FloatProgress(value=0.0, max=2.0), HTML(value='')))"
      ]
     },
     "metadata": {},
     "output_type": "display_data"
    },
    {
     "data": {
      "application/vnd.jupyter.widget-view+json": {
       "model_id": "",
       "version_major": 2,
       "version_minor": 0
      },
      "text/plain": [
       "HBox(children=(HTML(value='n_features loop'), FloatProgress(value=0.0, max=2.0), HTML(value='')))"
      ]
     },
     "metadata": {},
     "output_type": "display_data"
    },
    {
     "data": {
      "application/vnd.jupyter.widget-view+json": {
       "model_id": "",
       "version_major": 2,
       "version_minor": 0
      },
      "text/plain": [
       "HBox(children=(HTML(value='n_features loop'), FloatProgress(value=0.0, max=2.0), HTML(value='')))"
      ]
     },
     "metadata": {},
     "output_type": "display_data"
    },
    {
     "data": {
      "application/vnd.jupyter.widget-view+json": {
       "model_id": "",
       "version_major": 2,
       "version_minor": 0
      },
      "text/plain": [
       "HBox(children=(HTML(value='n_features loop'), FloatProgress(value=0.0, max=2.0), HTML(value='')))"
      ]
     },
     "metadata": {},
     "output_type": "display_data"
    },
    {
     "data": {
      "application/vnd.jupyter.widget-view+json": {
       "model_id": "",
       "version_major": 2,
       "version_minor": 0
      },
      "text/plain": [
       "HBox(children=(HTML(value='n_features loop'), FloatProgress(value=0.0, max=2.0), HTML(value='')))"
      ]
     },
     "metadata": {},
     "output_type": "display_data"
    },
    {
     "data": {
      "application/vnd.jupyter.widget-view+json": {
       "model_id": "",
       "version_major": 2,
       "version_minor": 0
      },
      "text/plain": [
       "HBox(children=(HTML(value='n_features loop'), FloatProgress(value=0.0, max=2.0), HTML(value='')))"
      ]
     },
     "metadata": {},
     "output_type": "display_data"
    },
    {
     "data": {
      "application/vnd.jupyter.widget-view+json": {
       "model_id": "",
       "version_major": 2,
       "version_minor": 0
      },
      "text/plain": [
       "HBox(children=(HTML(value='Est loop'), FloatProgress(value=0.0, max=10.0), HTML(value='')))"
      ]
     },
     "metadata": {},
     "output_type": "display_data"
    },
    {
     "data": {
      "application/vnd.jupyter.widget-view+json": {
       "model_id": "",
       "version_major": 2,
       "version_minor": 0
      },
      "text/plain": [
       "HBox(children=(HTML(value='n_features loop'), FloatProgress(value=0.0, max=2.0), HTML(value='')))"
      ]
     },
     "metadata": {},
     "output_type": "display_data"
    },
    {
     "data": {
      "application/vnd.jupyter.widget-view+json": {
       "model_id": "",
       "version_major": 2,
       "version_minor": 0
      },
      "text/plain": [
       "HBox(children=(HTML(value='n_features loop'), FloatProgress(value=0.0, max=2.0), HTML(value='')))"
      ]
     },
     "metadata": {},
     "output_type": "display_data"
    },
    {
     "data": {
      "application/vnd.jupyter.widget-view+json": {
       "model_id": "",
       "version_major": 2,
       "version_minor": 0
      },
      "text/plain": [
       "HBox(children=(HTML(value='n_features loop'), FloatProgress(value=0.0, max=2.0), HTML(value='')))"
      ]
     },
     "metadata": {},
     "output_type": "display_data"
    },
    {
     "data": {
      "application/vnd.jupyter.widget-view+json": {
       "model_id": "",
       "version_major": 2,
       "version_minor": 0
      },
      "text/plain": [
       "HBox(children=(HTML(value='n_features loop'), FloatProgress(value=0.0, max=2.0), HTML(value='')))"
      ]
     },
     "metadata": {},
     "output_type": "display_data"
    },
    {
     "data": {
      "application/vnd.jupyter.widget-view+json": {
       "model_id": "",
       "version_major": 2,
       "version_minor": 0
      },
      "text/plain": [
       "HBox(children=(HTML(value='n_features loop'), FloatProgress(value=0.0, max=2.0), HTML(value='')))"
      ]
     },
     "metadata": {},
     "output_type": "display_data"
    },
    {
     "data": {
      "application/vnd.jupyter.widget-view+json": {
       "model_id": "",
       "version_major": 2,
       "version_minor": 0
      },
      "text/plain": [
       "HBox(children=(HTML(value='n_features loop'), FloatProgress(value=0.0, max=2.0), HTML(value='')))"
      ]
     },
     "metadata": {},
     "output_type": "display_data"
    },
    {
     "data": {
      "application/vnd.jupyter.widget-view+json": {
       "model_id": "",
       "version_major": 2,
       "version_minor": 0
      },
      "text/plain": [
       "HBox(children=(HTML(value='n_features loop'), FloatProgress(value=0.0, max=2.0), HTML(value='')))"
      ]
     },
     "metadata": {},
     "output_type": "display_data"
    },
    {
     "data": {
      "application/vnd.jupyter.widget-view+json": {
       "model_id": "",
       "version_major": 2,
       "version_minor": 0
      },
      "text/plain": [
       "HBox(children=(HTML(value='n_features loop'), FloatProgress(value=0.0, max=2.0), HTML(value='')))"
      ]
     },
     "metadata": {},
     "output_type": "display_data"
    },
    {
     "data": {
      "application/vnd.jupyter.widget-view+json": {
       "model_id": "",
       "version_major": 2,
       "version_minor": 0
      },
      "text/plain": [
       "HBox(children=(HTML(value='n_features loop'), FloatProgress(value=0.0, max=2.0), HTML(value='')))"
      ]
     },
     "metadata": {},
     "output_type": "display_data"
    },
    {
     "data": {
      "application/vnd.jupyter.widget-view+json": {
       "model_id": "",
       "version_major": 2,
       "version_minor": 0
      },
      "text/plain": [
       "HBox(children=(HTML(value='n_features loop'), FloatProgress(value=0.0, max=2.0), HTML(value='')))"
      ]
     },
     "metadata": {},
     "output_type": "display_data"
    },
    {
     "data": {
      "application/vnd.jupyter.widget-view+json": {
       "model_id": "",
       "version_major": 2,
       "version_minor": 0
      },
      "text/plain": [
       "HBox(children=(HTML(value='Est loop'), FloatProgress(value=0.0, max=10.0), HTML(value='')))"
      ]
     },
     "metadata": {},
     "output_type": "display_data"
    },
    {
     "data": {
      "application/vnd.jupyter.widget-view+json": {
       "model_id": "",
       "version_major": 2,
       "version_minor": 0
      },
      "text/plain": [
       "HBox(children=(HTML(value='n_features loop'), FloatProgress(value=0.0, max=2.0), HTML(value='')))"
      ]
     },
     "metadata": {},
     "output_type": "display_data"
    },
    {
     "data": {
      "application/vnd.jupyter.widget-view+json": {
       "model_id": "",
       "version_major": 2,
       "version_minor": 0
      },
      "text/plain": [
       "HBox(children=(HTML(value='n_features loop'), FloatProgress(value=0.0, max=2.0), HTML(value='')))"
      ]
     },
     "metadata": {},
     "output_type": "display_data"
    },
    {
     "data": {
      "application/vnd.jupyter.widget-view+json": {
       "model_id": "",
       "version_major": 2,
       "version_minor": 0
      },
      "text/plain": [
       "HBox(children=(HTML(value='n_features loop'), FloatProgress(value=0.0, max=2.0), HTML(value='')))"
      ]
     },
     "metadata": {},
     "output_type": "display_data"
    },
    {
     "data": {
      "application/vnd.jupyter.widget-view+json": {
       "model_id": "",
       "version_major": 2,
       "version_minor": 0
      },
      "text/plain": [
       "HBox(children=(HTML(value='n_features loop'), FloatProgress(value=0.0, max=2.0), HTML(value='')))"
      ]
     },
     "metadata": {},
     "output_type": "display_data"
    },
    {
     "data": {
      "application/vnd.jupyter.widget-view+json": {
       "model_id": "",
       "version_major": 2,
       "version_minor": 0
      },
      "text/plain": [
       "HBox(children=(HTML(value='n_features loop'), FloatProgress(value=0.0, max=2.0), HTML(value='')))"
      ]
     },
     "metadata": {},
     "output_type": "display_data"
    },
    {
     "data": {
      "application/vnd.jupyter.widget-view+json": {
       "model_id": "",
       "version_major": 2,
       "version_minor": 0
      },
      "text/plain": [
       "HBox(children=(HTML(value='n_features loop'), FloatProgress(value=0.0, max=2.0), HTML(value='')))"
      ]
     },
     "metadata": {},
     "output_type": "display_data"
    },
    {
     "data": {
      "application/vnd.jupyter.widget-view+json": {
       "model_id": "",
       "version_major": 2,
       "version_minor": 0
      },
      "text/plain": [
       "HBox(children=(HTML(value='n_features loop'), FloatProgress(value=0.0, max=2.0), HTML(value='')))"
      ]
     },
     "metadata": {},
     "output_type": "display_data"
    },
    {
     "data": {
      "application/vnd.jupyter.widget-view+json": {
       "model_id": "",
       "version_major": 2,
       "version_minor": 0
      },
      "text/plain": [
       "HBox(children=(HTML(value='n_features loop'), FloatProgress(value=0.0, max=2.0), HTML(value='')))"
      ]
     },
     "metadata": {},
     "output_type": "display_data"
    },
    {
     "data": {
      "application/vnd.jupyter.widget-view+json": {
       "model_id": "",
       "version_major": 2,
       "version_minor": 0
      },
      "text/plain": [
       "HBox(children=(HTML(value='n_features loop'), FloatProgress(value=0.0, max=2.0), HTML(value='')))"
      ]
     },
     "metadata": {},
     "output_type": "display_data"
    },
    {
     "data": {
      "application/vnd.jupyter.widget-view+json": {
       "model_id": "",
       "version_major": 2,
       "version_minor": 0
      },
      "text/plain": [
       "HBox(children=(HTML(value='n_features loop'), FloatProgress(value=0.0, max=2.0), HTML(value='')))"
      ]
     },
     "metadata": {},
     "output_type": "display_data"
    },
    {
     "data": {
      "application/vnd.jupyter.widget-view+json": {
       "model_id": "",
       "version_major": 2,
       "version_minor": 0
      },
      "text/plain": [
       "HBox(children=(HTML(value='Est loop'), FloatProgress(value=0.0, max=10.0), HTML(value='')))"
      ]
     },
     "metadata": {},
     "output_type": "display_data"
    },
    {
     "data": {
      "application/vnd.jupyter.widget-view+json": {
       "model_id": "",
       "version_major": 2,
       "version_minor": 0
      },
      "text/plain": [
       "HBox(children=(HTML(value='n_features loop'), FloatProgress(value=0.0, max=2.0), HTML(value='')))"
      ]
     },
     "metadata": {},
     "output_type": "display_data"
    },
    {
     "data": {
      "application/vnd.jupyter.widget-view+json": {
       "model_id": "",
       "version_major": 2,
       "version_minor": 0
      },
      "text/plain": [
       "HBox(children=(HTML(value='n_features loop'), FloatProgress(value=0.0, max=2.0), HTML(value='')))"
      ]
     },
     "metadata": {},
     "output_type": "display_data"
    },
    {
     "data": {
      "application/vnd.jupyter.widget-view+json": {
       "model_id": "",
       "version_major": 2,
       "version_minor": 0
      },
      "text/plain": [
       "HBox(children=(HTML(value='n_features loop'), FloatProgress(value=0.0, max=2.0), HTML(value='')))"
      ]
     },
     "metadata": {},
     "output_type": "display_data"
    },
    {
     "data": {
      "application/vnd.jupyter.widget-view+json": {
       "model_id": "",
       "version_major": 2,
       "version_minor": 0
      },
      "text/plain": [
       "HBox(children=(HTML(value='n_features loop'), FloatProgress(value=0.0, max=2.0), HTML(value='')))"
      ]
     },
     "metadata": {},
     "output_type": "display_data"
    },
    {
     "data": {
      "application/vnd.jupyter.widget-view+json": {
       "model_id": "",
       "version_major": 2,
       "version_minor": 0
      },
      "text/plain": [
       "HBox(children=(HTML(value='n_features loop'), FloatProgress(value=0.0, max=2.0), HTML(value='')))"
      ]
     },
     "metadata": {},
     "output_type": "display_data"
    },
    {
     "data": {
      "application/vnd.jupyter.widget-view+json": {
       "model_id": "",
       "version_major": 2,
       "version_minor": 0
      },
      "text/plain": [
       "HBox(children=(HTML(value='n_features loop'), FloatProgress(value=0.0, max=2.0), HTML(value='')))"
      ]
     },
     "metadata": {},
     "output_type": "display_data"
    },
    {
     "data": {
      "application/vnd.jupyter.widget-view+json": {
       "model_id": "",
       "version_major": 2,
       "version_minor": 0
      },
      "text/plain": [
       "HBox(children=(HTML(value='n_features loop'), FloatProgress(value=0.0, max=2.0), HTML(value='')))"
      ]
     },
     "metadata": {},
     "output_type": "display_data"
    },
    {
     "data": {
      "application/vnd.jupyter.widget-view+json": {
       "model_id": "",
       "version_major": 2,
       "version_minor": 0
      },
      "text/plain": [
       "HBox(children=(HTML(value='n_features loop'), FloatProgress(value=0.0, max=2.0), HTML(value='')))"
      ]
     },
     "metadata": {},
     "output_type": "display_data"
    },
    {
     "data": {
      "application/vnd.jupyter.widget-view+json": {
       "model_id": "",
       "version_major": 2,
       "version_minor": 0
      },
      "text/plain": [
       "HBox(children=(HTML(value='n_features loop'), FloatProgress(value=0.0, max=2.0), HTML(value='')))"
      ]
     },
     "metadata": {},
     "output_type": "display_data"
    },
    {
     "data": {
      "application/vnd.jupyter.widget-view+json": {
       "model_id": "",
       "version_major": 2,
       "version_minor": 0
      },
      "text/plain": [
       "HBox(children=(HTML(value='n_features loop'), FloatProgress(value=0.0, max=2.0), HTML(value='')))"
      ]
     },
     "metadata": {},
     "output_type": "display_data"
    },
    {
     "data": {
      "application/vnd.jupyter.widget-view+json": {
       "model_id": "",
       "version_major": 2,
       "version_minor": 0
      },
      "text/plain": [
       "HBox(children=(HTML(value='Est loop'), FloatProgress(value=0.0, max=10.0), HTML(value='')))"
      ]
     },
     "metadata": {},
     "output_type": "display_data"
    },
    {
     "data": {
      "application/vnd.jupyter.widget-view+json": {
       "model_id": "",
       "version_major": 2,
       "version_minor": 0
      },
      "text/plain": [
       "HBox(children=(HTML(value='n_features loop'), FloatProgress(value=0.0, max=2.0), HTML(value='')))"
      ]
     },
     "metadata": {},
     "output_type": "display_data"
    },
    {
     "data": {
      "application/vnd.jupyter.widget-view+json": {
       "model_id": "",
       "version_major": 2,
       "version_minor": 0
      },
      "text/plain": [
       "HBox(children=(HTML(value='n_features loop'), FloatProgress(value=0.0, max=2.0), HTML(value='')))"
      ]
     },
     "metadata": {},
     "output_type": "display_data"
    },
    {
     "data": {
      "application/vnd.jupyter.widget-view+json": {
       "model_id": "",
       "version_major": 2,
       "version_minor": 0
      },
      "text/plain": [
       "HBox(children=(HTML(value='n_features loop'), FloatProgress(value=0.0, max=2.0), HTML(value='')))"
      ]
     },
     "metadata": {},
     "output_type": "display_data"
    },
    {
     "data": {
      "application/vnd.jupyter.widget-view+json": {
       "model_id": "",
       "version_major": 2,
       "version_minor": 0
      },
      "text/plain": [
       "HBox(children=(HTML(value='n_features loop'), FloatProgress(value=0.0, max=2.0), HTML(value='')))"
      ]
     },
     "metadata": {},
     "output_type": "display_data"
    },
    {
     "data": {
      "application/vnd.jupyter.widget-view+json": {
       "model_id": "",
       "version_major": 2,
       "version_minor": 0
      },
      "text/plain": [
       "HBox(children=(HTML(value='n_features loop'), FloatProgress(value=0.0, max=2.0), HTML(value='')))"
      ]
     },
     "metadata": {},
     "output_type": "display_data"
    },
    {
     "data": {
      "application/vnd.jupyter.widget-view+json": {
       "model_id": "",
       "version_major": 2,
       "version_minor": 0
      },
      "text/plain": [
       "HBox(children=(HTML(value='n_features loop'), FloatProgress(value=0.0, max=2.0), HTML(value='')))"
      ]
     },
     "metadata": {},
     "output_type": "display_data"
    },
    {
     "data": {
      "application/vnd.jupyter.widget-view+json": {
       "model_id": "",
       "version_major": 2,
       "version_minor": 0
      },
      "text/plain": [
       "HBox(children=(HTML(value='n_features loop'), FloatProgress(value=0.0, max=2.0), HTML(value='')))"
      ]
     },
     "metadata": {},
     "output_type": "display_data"
    },
    {
     "data": {
      "application/vnd.jupyter.widget-view+json": {
       "model_id": "",
       "version_major": 2,
       "version_minor": 0
      },
      "text/plain": [
       "HBox(children=(HTML(value='n_features loop'), FloatProgress(value=0.0, max=2.0), HTML(value='')))"
      ]
     },
     "metadata": {},
     "output_type": "display_data"
    },
    {
     "data": {
      "application/vnd.jupyter.widget-view+json": {
       "model_id": "",
       "version_major": 2,
       "version_minor": 0
      },
      "text/plain": [
       "HBox(children=(HTML(value='n_features loop'), FloatProgress(value=0.0, max=2.0), HTML(value='')))"
      ]
     },
     "metadata": {},
     "output_type": "display_data"
    },
    {
     "data": {
      "application/vnd.jupyter.widget-view+json": {
       "model_id": "",
       "version_major": 2,
       "version_minor": 0
      },
      "text/plain": [
       "HBox(children=(HTML(value='n_features loop'), FloatProgress(value=0.0, max=2.0), HTML(value='')))"
      ]
     },
     "metadata": {},
     "output_type": "display_data"
    },
    {
     "data": {
      "application/vnd.jupyter.widget-view+json": {
       "model_id": "",
       "version_major": 2,
       "version_minor": 0
      },
      "text/plain": [
       "HBox(children=(HTML(value='Est loop'), FloatProgress(value=0.0, max=10.0), HTML(value='')))"
      ]
     },
     "metadata": {},
     "output_type": "display_data"
    },
    {
     "data": {
      "application/vnd.jupyter.widget-view+json": {
       "model_id": "",
       "version_major": 2,
       "version_minor": 0
      },
      "text/plain": [
       "HBox(children=(HTML(value='n_features loop'), FloatProgress(value=0.0, max=2.0), HTML(value='')))"
      ]
     },
     "metadata": {},
     "output_type": "display_data"
    },
    {
     "data": {
      "application/vnd.jupyter.widget-view+json": {
       "model_id": "",
       "version_major": 2,
       "version_minor": 0
      },
      "text/plain": [
       "HBox(children=(HTML(value='n_features loop'), FloatProgress(value=0.0, max=2.0), HTML(value='')))"
      ]
     },
     "metadata": {},
     "output_type": "display_data"
    },
    {
     "data": {
      "application/vnd.jupyter.widget-view+json": {
       "model_id": "",
       "version_major": 2,
       "version_minor": 0
      },
      "text/plain": [
       "HBox(children=(HTML(value='n_features loop'), FloatProgress(value=0.0, max=2.0), HTML(value='')))"
      ]
     },
     "metadata": {},
     "output_type": "display_data"
    },
    {
     "data": {
      "application/vnd.jupyter.widget-view+json": {
       "model_id": "",
       "version_major": 2,
       "version_minor": 0
      },
      "text/plain": [
       "HBox(children=(HTML(value='n_features loop'), FloatProgress(value=0.0, max=2.0), HTML(value='')))"
      ]
     },
     "metadata": {},
     "output_type": "display_data"
    },
    {
     "data": {
      "application/vnd.jupyter.widget-view+json": {
       "model_id": "",
       "version_major": 2,
       "version_minor": 0
      },
      "text/plain": [
       "HBox(children=(HTML(value='n_features loop'), FloatProgress(value=0.0, max=2.0), HTML(value='')))"
      ]
     },
     "metadata": {},
     "output_type": "display_data"
    },
    {
     "data": {
      "application/vnd.jupyter.widget-view+json": {
       "model_id": "",
       "version_major": 2,
       "version_minor": 0
      },
      "text/plain": [
       "HBox(children=(HTML(value='n_features loop'), FloatProgress(value=0.0, max=2.0), HTML(value='')))"
      ]
     },
     "metadata": {},
     "output_type": "display_data"
    },
    {
     "data": {
      "application/vnd.jupyter.widget-view+json": {
       "model_id": "",
       "version_major": 2,
       "version_minor": 0
      },
      "text/plain": [
       "HBox(children=(HTML(value='n_features loop'), FloatProgress(value=0.0, max=2.0), HTML(value='')))"
      ]
     },
     "metadata": {},
     "output_type": "display_data"
    },
    {
     "data": {
      "application/vnd.jupyter.widget-view+json": {
       "model_id": "",
       "version_major": 2,
       "version_minor": 0
      },
      "text/plain": [
       "HBox(children=(HTML(value='n_features loop'), FloatProgress(value=0.0, max=2.0), HTML(value='')))"
      ]
     },
     "metadata": {},
     "output_type": "display_data"
    },
    {
     "data": {
      "application/vnd.jupyter.widget-view+json": {
       "model_id": "",
       "version_major": 2,
       "version_minor": 0
      },
      "text/plain": [
       "HBox(children=(HTML(value='n_features loop'), FloatProgress(value=0.0, max=2.0), HTML(value='')))"
      ]
     },
     "metadata": {},
     "output_type": "display_data"
    },
    {
     "data": {
      "application/vnd.jupyter.widget-view+json": {
       "model_id": "",
       "version_major": 2,
       "version_minor": 0
      },
      "text/plain": [
       "HBox(children=(HTML(value='n_features loop'), FloatProgress(value=0.0, max=2.0), HTML(value='')))"
      ]
     },
     "metadata": {},
     "output_type": "display_data"
    },
    {
     "data": {
      "application/vnd.jupyter.widget-view+json": {
       "model_id": "",
       "version_major": 2,
       "version_minor": 0
      },
      "text/plain": [
       "HBox(children=(HTML(value='Est loop'), FloatProgress(value=0.0, max=10.0), HTML(value='')))"
      ]
     },
     "metadata": {},
     "output_type": "display_data"
    },
    {
     "data": {
      "application/vnd.jupyter.widget-view+json": {
       "model_id": "",
       "version_major": 2,
       "version_minor": 0
      },
      "text/plain": [
       "HBox(children=(HTML(value='n_features loop'), FloatProgress(value=0.0, max=2.0), HTML(value='')))"
      ]
     },
     "metadata": {},
     "output_type": "display_data"
    },
    {
     "data": {
      "application/vnd.jupyter.widget-view+json": {
       "model_id": "",
       "version_major": 2,
       "version_minor": 0
      },
      "text/plain": [
       "HBox(children=(HTML(value='n_features loop'), FloatProgress(value=0.0, max=2.0), HTML(value='')))"
      ]
     },
     "metadata": {},
     "output_type": "display_data"
    },
    {
     "data": {
      "application/vnd.jupyter.widget-view+json": {
       "model_id": "",
       "version_major": 2,
       "version_minor": 0
      },
      "text/plain": [
       "HBox(children=(HTML(value='n_features loop'), FloatProgress(value=0.0, max=2.0), HTML(value='')))"
      ]
     },
     "metadata": {},
     "output_type": "display_data"
    },
    {
     "data": {
      "application/vnd.jupyter.widget-view+json": {
       "model_id": "",
       "version_major": 2,
       "version_minor": 0
      },
      "text/plain": [
       "HBox(children=(HTML(value='n_features loop'), FloatProgress(value=0.0, max=2.0), HTML(value='')))"
      ]
     },
     "metadata": {},
     "output_type": "display_data"
    },
    {
     "data": {
      "application/vnd.jupyter.widget-view+json": {
       "model_id": "",
       "version_major": 2,
       "version_minor": 0
      },
      "text/plain": [
       "HBox(children=(HTML(value='n_features loop'), FloatProgress(value=0.0, max=2.0), HTML(value='')))"
      ]
     },
     "metadata": {},
     "output_type": "display_data"
    },
    {
     "data": {
      "application/vnd.jupyter.widget-view+json": {
       "model_id": "",
       "version_major": 2,
       "version_minor": 0
      },
      "text/plain": [
       "HBox(children=(HTML(value='n_features loop'), FloatProgress(value=0.0, max=2.0), HTML(value='')))"
      ]
     },
     "metadata": {},
     "output_type": "display_data"
    },
    {
     "data": {
      "application/vnd.jupyter.widget-view+json": {
       "model_id": "",
       "version_major": 2,
       "version_minor": 0
      },
      "text/plain": [
       "HBox(children=(HTML(value='n_features loop'), FloatProgress(value=0.0, max=2.0), HTML(value='')))"
      ]
     },
     "metadata": {},
     "output_type": "display_data"
    },
    {
     "data": {
      "application/vnd.jupyter.widget-view+json": {
       "model_id": "",
       "version_major": 2,
       "version_minor": 0
      },
      "text/plain": [
       "HBox(children=(HTML(value='n_features loop'), FloatProgress(value=0.0, max=2.0), HTML(value='')))"
      ]
     },
     "metadata": {},
     "output_type": "display_data"
    },
    {
     "data": {
      "application/vnd.jupyter.widget-view+json": {
       "model_id": "",
       "version_major": 2,
       "version_minor": 0
      },
      "text/plain": [
       "HBox(children=(HTML(value='n_features loop'), FloatProgress(value=0.0, max=2.0), HTML(value='')))"
      ]
     },
     "metadata": {},
     "output_type": "display_data"
    },
    {
     "data": {
      "application/vnd.jupyter.widget-view+json": {
       "model_id": "",
       "version_major": 2,
       "version_minor": 0
      },
      "text/plain": [
       "HBox(children=(HTML(value='n_features loop'), FloatProgress(value=0.0, max=2.0), HTML(value='')))"
      ]
     },
     "metadata": {},
     "output_type": "display_data"
    },
    {
     "data": {
      "application/vnd.jupyter.widget-view+json": {
       "model_id": "",
       "version_major": 2,
       "version_minor": 0
      },
      "text/plain": [
       "HBox(children=(HTML(value='Est loop'), FloatProgress(value=0.0, max=10.0), HTML(value='')))"
      ]
     },
     "metadata": {},
     "output_type": "display_data"
    },
    {
     "data": {
      "application/vnd.jupyter.widget-view+json": {
       "model_id": "",
       "version_major": 2,
       "version_minor": 0
      },
      "text/plain": [
       "HBox(children=(HTML(value='n_features loop'), FloatProgress(value=0.0, max=2.0), HTML(value='')))"
      ]
     },
     "metadata": {},
     "output_type": "display_data"
    },
    {
     "data": {
      "application/vnd.jupyter.widget-view+json": {
       "model_id": "",
       "version_major": 2,
       "version_minor": 0
      },
      "text/plain": [
       "HBox(children=(HTML(value='n_features loop'), FloatProgress(value=0.0, max=2.0), HTML(value='')))"
      ]
     },
     "metadata": {},
     "output_type": "display_data"
    },
    {
     "data": {
      "application/vnd.jupyter.widget-view+json": {
       "model_id": "",
       "version_major": 2,
       "version_minor": 0
      },
      "text/plain": [
       "HBox(children=(HTML(value='n_features loop'), FloatProgress(value=0.0, max=2.0), HTML(value='')))"
      ]
     },
     "metadata": {},
     "output_type": "display_data"
    },
    {
     "data": {
      "application/vnd.jupyter.widget-view+json": {
       "model_id": "",
       "version_major": 2,
       "version_minor": 0
      },
      "text/plain": [
       "HBox(children=(HTML(value='n_features loop'), FloatProgress(value=0.0, max=2.0), HTML(value='')))"
      ]
     },
     "metadata": {},
     "output_type": "display_data"
    },
    {
     "data": {
      "application/vnd.jupyter.widget-view+json": {
       "model_id": "",
       "version_major": 2,
       "version_minor": 0
      },
      "text/plain": [
       "HBox(children=(HTML(value='n_features loop'), FloatProgress(value=0.0, max=2.0), HTML(value='')))"
      ]
     },
     "metadata": {},
     "output_type": "display_data"
    },
    {
     "data": {
      "application/vnd.jupyter.widget-view+json": {
       "model_id": "",
       "version_major": 2,
       "version_minor": 0
      },
      "text/plain": [
       "HBox(children=(HTML(value='n_features loop'), FloatProgress(value=0.0, max=2.0), HTML(value='')))"
      ]
     },
     "metadata": {},
     "output_type": "display_data"
    },
    {
     "data": {
      "application/vnd.jupyter.widget-view+json": {
       "model_id": "",
       "version_major": 2,
       "version_minor": 0
      },
      "text/plain": [
       "HBox(children=(HTML(value='n_features loop'), FloatProgress(value=0.0, max=2.0), HTML(value='')))"
      ]
     },
     "metadata": {},
     "output_type": "display_data"
    },
    {
     "data": {
      "application/vnd.jupyter.widget-view+json": {
       "model_id": "",
       "version_major": 2,
       "version_minor": 0
      },
      "text/plain": [
       "HBox(children=(HTML(value='n_features loop'), FloatProgress(value=0.0, max=2.0), HTML(value='')))"
      ]
     },
     "metadata": {},
     "output_type": "display_data"
    },
    {
     "data": {
      "application/vnd.jupyter.widget-view+json": {
       "model_id": "",
       "version_major": 2,
       "version_minor": 0
      },
      "text/plain": [
       "HBox(children=(HTML(value='n_features loop'), FloatProgress(value=0.0, max=2.0), HTML(value='')))"
      ]
     },
     "metadata": {},
     "output_type": "display_data"
    },
    {
     "data": {
      "application/vnd.jupyter.widget-view+json": {
       "model_id": "",
       "version_major": 2,
       "version_minor": 0
      },
      "text/plain": [
       "HBox(children=(HTML(value='n_features loop'), FloatProgress(value=0.0, max=2.0), HTML(value='')))"
      ]
     },
     "metadata": {},
     "output_type": "display_data"
    },
    {
     "data": {
      "application/vnd.jupyter.widget-view+json": {
       "model_id": "",
       "version_major": 2,
       "version_minor": 0
      },
      "text/plain": [
       "HBox(children=(HTML(value='Est loop'), FloatProgress(value=0.0, max=10.0), HTML(value='')))"
      ]
     },
     "metadata": {},
     "output_type": "display_data"
    },
    {
     "data": {
      "application/vnd.jupyter.widget-view+json": {
       "model_id": "",
       "version_major": 2,
       "version_minor": 0
      },
      "text/plain": [
       "HBox(children=(HTML(value='n_features loop'), FloatProgress(value=0.0, max=2.0), HTML(value='')))"
      ]
     },
     "metadata": {},
     "output_type": "display_data"
    },
    {
     "data": {
      "application/vnd.jupyter.widget-view+json": {
       "model_id": "",
       "version_major": 2,
       "version_minor": 0
      },
      "text/plain": [
       "HBox(children=(HTML(value='n_features loop'), FloatProgress(value=0.0, max=2.0), HTML(value='')))"
      ]
     },
     "metadata": {},
     "output_type": "display_data"
    },
    {
     "data": {
      "application/vnd.jupyter.widget-view+json": {
       "model_id": "",
       "version_major": 2,
       "version_minor": 0
      },
      "text/plain": [
       "HBox(children=(HTML(value='n_features loop'), FloatProgress(value=0.0, max=2.0), HTML(value='')))"
      ]
     },
     "metadata": {},
     "output_type": "display_data"
    },
    {
     "data": {
      "application/vnd.jupyter.widget-view+json": {
       "model_id": "",
       "version_major": 2,
       "version_minor": 0
      },
      "text/plain": [
       "HBox(children=(HTML(value='n_features loop'), FloatProgress(value=0.0, max=2.0), HTML(value='')))"
      ]
     },
     "metadata": {},
     "output_type": "display_data"
    },
    {
     "data": {
      "application/vnd.jupyter.widget-view+json": {
       "model_id": "",
       "version_major": 2,
       "version_minor": 0
      },
      "text/plain": [
       "HBox(children=(HTML(value='n_features loop'), FloatProgress(value=0.0, max=2.0), HTML(value='')))"
      ]
     },
     "metadata": {},
     "output_type": "display_data"
    },
    {
     "data": {
      "application/vnd.jupyter.widget-view+json": {
       "model_id": "",
       "version_major": 2,
       "version_minor": 0
      },
      "text/plain": [
       "HBox(children=(HTML(value='n_features loop'), FloatProgress(value=0.0, max=2.0), HTML(value='')))"
      ]
     },
     "metadata": {},
     "output_type": "display_data"
    },
    {
     "data": {
      "application/vnd.jupyter.widget-view+json": {
       "model_id": "",
       "version_major": 2,
       "version_minor": 0
      },
      "text/plain": [
       "HBox(children=(HTML(value='n_features loop'), FloatProgress(value=0.0, max=2.0), HTML(value='')))"
      ]
     },
     "metadata": {},
     "output_type": "display_data"
    },
    {
     "data": {
      "application/vnd.jupyter.widget-view+json": {
       "model_id": "",
       "version_major": 2,
       "version_minor": 0
      },
      "text/plain": [
       "HBox(children=(HTML(value='n_features loop'), FloatProgress(value=0.0, max=2.0), HTML(value='')))"
      ]
     },
     "metadata": {},
     "output_type": "display_data"
    },
    {
     "data": {
      "application/vnd.jupyter.widget-view+json": {
       "model_id": "",
       "version_major": 2,
       "version_minor": 0
      },
      "text/plain": [
       "HBox(children=(HTML(value='n_features loop'), FloatProgress(value=0.0, max=2.0), HTML(value='')))"
      ]
     },
     "metadata": {},
     "output_type": "display_data"
    },
    {
     "data": {
      "application/vnd.jupyter.widget-view+json": {
       "model_id": "",
       "version_major": 2,
       "version_minor": 0
      },
      "text/plain": [
       "HBox(children=(HTML(value='n_features loop'), FloatProgress(value=0.0, max=2.0), HTML(value='')))"
      ]
     },
     "metadata": {},
     "output_type": "display_data"
    },
    {
     "data": {
      "application/vnd.jupyter.widget-view+json": {
       "model_id": "",
       "version_major": 2,
       "version_minor": 0
      },
      "text/plain": [
       "HBox(children=(HTML(value='Est loop'), FloatProgress(value=0.0, max=10.0), HTML(value='')))"
      ]
     },
     "metadata": {},
     "output_type": "display_data"
    },
    {
     "data": {
      "application/vnd.jupyter.widget-view+json": {
       "model_id": "",
       "version_major": 2,
       "version_minor": 0
      },
      "text/plain": [
       "HBox(children=(HTML(value='n_features loop'), FloatProgress(value=0.0, max=2.0), HTML(value='')))"
      ]
     },
     "metadata": {},
     "output_type": "display_data"
    },
    {
     "data": {
      "application/vnd.jupyter.widget-view+json": {
       "model_id": "",
       "version_major": 2,
       "version_minor": 0
      },
      "text/plain": [
       "HBox(children=(HTML(value='n_features loop'), FloatProgress(value=0.0, max=2.0), HTML(value='')))"
      ]
     },
     "metadata": {},
     "output_type": "display_data"
    },
    {
     "data": {
      "application/vnd.jupyter.widget-view+json": {
       "model_id": "",
       "version_major": 2,
       "version_minor": 0
      },
      "text/plain": [
       "HBox(children=(HTML(value='n_features loop'), FloatProgress(value=0.0, max=2.0), HTML(value='')))"
      ]
     },
     "metadata": {},
     "output_type": "display_data"
    },
    {
     "data": {
      "application/vnd.jupyter.widget-view+json": {
       "model_id": "",
       "version_major": 2,
       "version_minor": 0
      },
      "text/plain": [
       "HBox(children=(HTML(value='n_features loop'), FloatProgress(value=0.0, max=2.0), HTML(value='')))"
      ]
     },
     "metadata": {},
     "output_type": "display_data"
    },
    {
     "data": {
      "application/vnd.jupyter.widget-view+json": {
       "model_id": "",
       "version_major": 2,
       "version_minor": 0
      },
      "text/plain": [
       "HBox(children=(HTML(value='n_features loop'), FloatProgress(value=0.0, max=2.0), HTML(value='')))"
      ]
     },
     "metadata": {},
     "output_type": "display_data"
    },
    {
     "data": {
      "application/vnd.jupyter.widget-view+json": {
       "model_id": "",
       "version_major": 2,
       "version_minor": 0
      },
      "text/plain": [
       "HBox(children=(HTML(value='n_features loop'), FloatProgress(value=0.0, max=2.0), HTML(value='')))"
      ]
     },
     "metadata": {},
     "output_type": "display_data"
    },
    {
     "data": {
      "application/vnd.jupyter.widget-view+json": {
       "model_id": "",
       "version_major": 2,
       "version_minor": 0
      },
      "text/plain": [
       "HBox(children=(HTML(value='n_features loop'), FloatProgress(value=0.0, max=2.0), HTML(value='')))"
      ]
     },
     "metadata": {},
     "output_type": "display_data"
    },
    {
     "data": {
      "application/vnd.jupyter.widget-view+json": {
       "model_id": "",
       "version_major": 2,
       "version_minor": 0
      },
      "text/plain": [
       "HBox(children=(HTML(value='n_features loop'), FloatProgress(value=0.0, max=2.0), HTML(value='')))"
      ]
     },
     "metadata": {},
     "output_type": "display_data"
    },
    {
     "data": {
      "application/vnd.jupyter.widget-view+json": {
       "model_id": "",
       "version_major": 2,
       "version_minor": 0
      },
      "text/plain": [
       "HBox(children=(HTML(value='n_features loop'), FloatProgress(value=0.0, max=2.0), HTML(value='')))"
      ]
     },
     "metadata": {},
     "output_type": "display_data"
    },
    {
     "data": {
      "application/vnd.jupyter.widget-view+json": {
       "model_id": "",
       "version_major": 2,
       "version_minor": 0
      },
      "text/plain": [
       "HBox(children=(HTML(value='n_features loop'), FloatProgress(value=0.0, max=2.0), HTML(value='')))"
      ]
     },
     "metadata": {},
     "output_type": "display_data"
    },
    {
     "data": {
      "application/vnd.jupyter.widget-view+json": {
       "model_id": "",
       "version_major": 2,
       "version_minor": 0
      },
      "text/plain": [
       "HBox(children=(HTML(value='Est loop'), FloatProgress(value=0.0, max=10.0), HTML(value='')))"
      ]
     },
     "metadata": {},
     "output_type": "display_data"
    },
    {
     "data": {
      "application/vnd.jupyter.widget-view+json": {
       "model_id": "",
       "version_major": 2,
       "version_minor": 0
      },
      "text/plain": [
       "HBox(children=(HTML(value='n_features loop'), FloatProgress(value=0.0, max=2.0), HTML(value='')))"
      ]
     },
     "metadata": {},
     "output_type": "display_data"
    },
    {
     "data": {
      "application/vnd.jupyter.widget-view+json": {
       "model_id": "",
       "version_major": 2,
       "version_minor": 0
      },
      "text/plain": [
       "HBox(children=(HTML(value='n_features loop'), FloatProgress(value=0.0, max=2.0), HTML(value='')))"
      ]
     },
     "metadata": {},
     "output_type": "display_data"
    },
    {
     "data": {
      "application/vnd.jupyter.widget-view+json": {
       "model_id": "",
       "version_major": 2,
       "version_minor": 0
      },
      "text/plain": [
       "HBox(children=(HTML(value='n_features loop'), FloatProgress(value=0.0, max=2.0), HTML(value='')))"
      ]
     },
     "metadata": {},
     "output_type": "display_data"
    },
    {
     "data": {
      "application/vnd.jupyter.widget-view+json": {
       "model_id": "",
       "version_major": 2,
       "version_minor": 0
      },
      "text/plain": [
       "HBox(children=(HTML(value='n_features loop'), FloatProgress(value=0.0, max=2.0), HTML(value='')))"
      ]
     },
     "metadata": {},
     "output_type": "display_data"
    },
    {
     "data": {
      "application/vnd.jupyter.widget-view+json": {
       "model_id": "",
       "version_major": 2,
       "version_minor": 0
      },
      "text/plain": [
       "HBox(children=(HTML(value='n_features loop'), FloatProgress(value=0.0, max=2.0), HTML(value='')))"
      ]
     },
     "metadata": {},
     "output_type": "display_data"
    },
    {
     "data": {
      "application/vnd.jupyter.widget-view+json": {
       "model_id": "",
       "version_major": 2,
       "version_minor": 0
      },
      "text/plain": [
       "HBox(children=(HTML(value='n_features loop'), FloatProgress(value=0.0, max=2.0), HTML(value='')))"
      ]
     },
     "metadata": {},
     "output_type": "display_data"
    },
    {
     "data": {
      "application/vnd.jupyter.widget-view+json": {
       "model_id": "",
       "version_major": 2,
       "version_minor": 0
      },
      "text/plain": [
       "HBox(children=(HTML(value='n_features loop'), FloatProgress(value=0.0, max=2.0), HTML(value='')))"
      ]
     },
     "metadata": {},
     "output_type": "display_data"
    },
    {
     "data": {
      "application/vnd.jupyter.widget-view+json": {
       "model_id": "",
       "version_major": 2,
       "version_minor": 0
      },
      "text/plain": [
       "HBox(children=(HTML(value='n_features loop'), FloatProgress(value=0.0, max=2.0), HTML(value='')))"
      ]
     },
     "metadata": {},
     "output_type": "display_data"
    },
    {
     "data": {
      "application/vnd.jupyter.widget-view+json": {
       "model_id": "",
       "version_major": 2,
       "version_minor": 0
      },
      "text/plain": [
       "HBox(children=(HTML(value='n_features loop'), FloatProgress(value=0.0, max=2.0), HTML(value='')))"
      ]
     },
     "metadata": {},
     "output_type": "display_data"
    },
    {
     "data": {
      "application/vnd.jupyter.widget-view+json": {
       "model_id": "",
       "version_major": 2,
       "version_minor": 0
      },
      "text/plain": [
       "HBox(children=(HTML(value='n_features loop'), FloatProgress(value=0.0, max=2.0), HTML(value='')))"
      ]
     },
     "metadata": {},
     "output_type": "display_data"
    },
    {
     "data": {
      "application/vnd.jupyter.widget-view+json": {
       "model_id": "",
       "version_major": 2,
       "version_minor": 0
      },
      "text/plain": [
       "HBox(children=(HTML(value='Est loop'), FloatProgress(value=0.0, max=10.0), HTML(value='')))"
      ]
     },
     "metadata": {},
     "output_type": "display_data"
    },
    {
     "data": {
      "application/vnd.jupyter.widget-view+json": {
       "model_id": "",
       "version_major": 2,
       "version_minor": 0
      },
      "text/plain": [
       "HBox(children=(HTML(value='n_features loop'), FloatProgress(value=0.0, max=2.0), HTML(value='')))"
      ]
     },
     "metadata": {},
     "output_type": "display_data"
    },
    {
     "data": {
      "application/vnd.jupyter.widget-view+json": {
       "model_id": "",
       "version_major": 2,
       "version_minor": 0
      },
      "text/plain": [
       "HBox(children=(HTML(value='n_features loop'), FloatProgress(value=0.0, max=2.0), HTML(value='')))"
      ]
     },
     "metadata": {},
     "output_type": "display_data"
    },
    {
     "data": {
      "application/vnd.jupyter.widget-view+json": {
       "model_id": "",
       "version_major": 2,
       "version_minor": 0
      },
      "text/plain": [
       "HBox(children=(HTML(value='n_features loop'), FloatProgress(value=0.0, max=2.0), HTML(value='')))"
      ]
     },
     "metadata": {},
     "output_type": "display_data"
    },
    {
     "data": {
      "application/vnd.jupyter.widget-view+json": {
       "model_id": "",
       "version_major": 2,
       "version_minor": 0
      },
      "text/plain": [
       "HBox(children=(HTML(value='n_features loop'), FloatProgress(value=0.0, max=2.0), HTML(value='')))"
      ]
     },
     "metadata": {},
     "output_type": "display_data"
    },
    {
     "data": {
      "application/vnd.jupyter.widget-view+json": {
       "model_id": "",
       "version_major": 2,
       "version_minor": 0
      },
      "text/plain": [
       "HBox(children=(HTML(value='n_features loop'), FloatProgress(value=0.0, max=2.0), HTML(value='')))"
      ]
     },
     "metadata": {},
     "output_type": "display_data"
    },
    {
     "data": {
      "application/vnd.jupyter.widget-view+json": {
       "model_id": "",
       "version_major": 2,
       "version_minor": 0
      },
      "text/plain": [
       "HBox(children=(HTML(value='n_features loop'), FloatProgress(value=0.0, max=2.0), HTML(value='')))"
      ]
     },
     "metadata": {},
     "output_type": "display_data"
    },
    {
     "data": {
      "application/vnd.jupyter.widget-view+json": {
       "model_id": "",
       "version_major": 2,
       "version_minor": 0
      },
      "text/plain": [
       "HBox(children=(HTML(value='n_features loop'), FloatProgress(value=0.0, max=2.0), HTML(value='')))"
      ]
     },
     "metadata": {},
     "output_type": "display_data"
    },
    {
     "data": {
      "application/vnd.jupyter.widget-view+json": {
       "model_id": "",
       "version_major": 2,
       "version_minor": 0
      },
      "text/plain": [
       "HBox(children=(HTML(value='n_features loop'), FloatProgress(value=0.0, max=2.0), HTML(value='')))"
      ]
     },
     "metadata": {},
     "output_type": "display_data"
    },
    {
     "data": {
      "application/vnd.jupyter.widget-view+json": {
       "model_id": "",
       "version_major": 2,
       "version_minor": 0
      },
      "text/plain": [
       "HBox(children=(HTML(value='n_features loop'), FloatProgress(value=0.0, max=2.0), HTML(value='')))"
      ]
     },
     "metadata": {},
     "output_type": "display_data"
    },
    {
     "data": {
      "application/vnd.jupyter.widget-view+json": {
       "model_id": "",
       "version_major": 2,
       "version_minor": 0
      },
      "text/plain": [
       "HBox(children=(HTML(value='n_features loop'), FloatProgress(value=0.0, max=2.0), HTML(value='')))"
      ]
     },
     "metadata": {},
     "output_type": "display_data"
    },
    {
     "data": {
      "application/vnd.jupyter.widget-view+json": {
       "model_id": "",
       "version_major": 2,
       "version_minor": 0
      },
      "text/plain": [
       "HBox(children=(HTML(value='Est loop'), FloatProgress(value=0.0, max=10.0), HTML(value='')))"
      ]
     },
     "metadata": {},
     "output_type": "display_data"
    },
    {
     "data": {
      "application/vnd.jupyter.widget-view+json": {
       "model_id": "",
       "version_major": 2,
       "version_minor": 0
      },
      "text/plain": [
       "HBox(children=(HTML(value='n_features loop'), FloatProgress(value=0.0, max=2.0), HTML(value='')))"
      ]
     },
     "metadata": {},
     "output_type": "display_data"
    },
    {
     "data": {
      "application/vnd.jupyter.widget-view+json": {
       "model_id": "",
       "version_major": 2,
       "version_minor": 0
      },
      "text/plain": [
       "HBox(children=(HTML(value='n_features loop'), FloatProgress(value=0.0, max=2.0), HTML(value='')))"
      ]
     },
     "metadata": {},
     "output_type": "display_data"
    },
    {
     "data": {
      "application/vnd.jupyter.widget-view+json": {
       "model_id": "",
       "version_major": 2,
       "version_minor": 0
      },
      "text/plain": [
       "HBox(children=(HTML(value='n_features loop'), FloatProgress(value=0.0, max=2.0), HTML(value='')))"
      ]
     },
     "metadata": {},
     "output_type": "display_data"
    },
    {
     "data": {
      "application/vnd.jupyter.widget-view+json": {
       "model_id": "",
       "version_major": 2,
       "version_minor": 0
      },
      "text/plain": [
       "HBox(children=(HTML(value='n_features loop'), FloatProgress(value=0.0, max=2.0), HTML(value='')))"
      ]
     },
     "metadata": {},
     "output_type": "display_data"
    },
    {
     "data": {
      "application/vnd.jupyter.widget-view+json": {
       "model_id": "",
       "version_major": 2,
       "version_minor": 0
      },
      "text/plain": [
       "HBox(children=(HTML(value='n_features loop'), FloatProgress(value=0.0, max=2.0), HTML(value='')))"
      ]
     },
     "metadata": {},
     "output_type": "display_data"
    },
    {
     "data": {
      "application/vnd.jupyter.widget-view+json": {
       "model_id": "",
       "version_major": 2,
       "version_minor": 0
      },
      "text/plain": [
       "HBox(children=(HTML(value='n_features loop'), FloatProgress(value=0.0, max=2.0), HTML(value='')))"
      ]
     },
     "metadata": {},
     "output_type": "display_data"
    },
    {
     "data": {
      "application/vnd.jupyter.widget-view+json": {
       "model_id": "",
       "version_major": 2,
       "version_minor": 0
      },
      "text/plain": [
       "HBox(children=(HTML(value='n_features loop'), FloatProgress(value=0.0, max=2.0), HTML(value='')))"
      ]
     },
     "metadata": {},
     "output_type": "display_data"
    },
    {
     "data": {
      "application/vnd.jupyter.widget-view+json": {
       "model_id": "",
       "version_major": 2,
       "version_minor": 0
      },
      "text/plain": [
       "HBox(children=(HTML(value='n_features loop'), FloatProgress(value=0.0, max=2.0), HTML(value='')))"
      ]
     },
     "metadata": {},
     "output_type": "display_data"
    },
    {
     "data": {
      "application/vnd.jupyter.widget-view+json": {
       "model_id": "",
       "version_major": 2,
       "version_minor": 0
      },
      "text/plain": [
       "HBox(children=(HTML(value='n_features loop'), FloatProgress(value=0.0, max=2.0), HTML(value='')))"
      ]
     },
     "metadata": {},
     "output_type": "display_data"
    },
    {
     "data": {
      "application/vnd.jupyter.widget-view+json": {
       "model_id": "",
       "version_major": 2,
       "version_minor": 0
      },
      "text/plain": [
       "HBox(children=(HTML(value='n_features loop'), FloatProgress(value=0.0, max=2.0), HTML(value='')))"
      ]
     },
     "metadata": {},
     "output_type": "display_data"
    },
    {
     "data": {
      "application/vnd.jupyter.widget-view+json": {
       "model_id": "",
       "version_major": 2,
       "version_minor": 0
      },
      "text/plain": [
       "HBox(children=(HTML(value='Est loop'), FloatProgress(value=0.0, max=10.0), HTML(value='')))"
      ]
     },
     "metadata": {},
     "output_type": "display_data"
    },
    {
     "data": {
      "application/vnd.jupyter.widget-view+json": {
       "model_id": "",
       "version_major": 2,
       "version_minor": 0
      },
      "text/plain": [
       "HBox(children=(HTML(value='n_features loop'), FloatProgress(value=0.0, max=2.0), HTML(value='')))"
      ]
     },
     "metadata": {},
     "output_type": "display_data"
    },
    {
     "data": {
      "application/vnd.jupyter.widget-view+json": {
       "model_id": "",
       "version_major": 2,
       "version_minor": 0
      },
      "text/plain": [
       "HBox(children=(HTML(value='n_features loop'), FloatProgress(value=0.0, max=2.0), HTML(value='')))"
      ]
     },
     "metadata": {},
     "output_type": "display_data"
    },
    {
     "data": {
      "application/vnd.jupyter.widget-view+json": {
       "model_id": "",
       "version_major": 2,
       "version_minor": 0
      },
      "text/plain": [
       "HBox(children=(HTML(value='n_features loop'), FloatProgress(value=0.0, max=2.0), HTML(value='')))"
      ]
     },
     "metadata": {},
     "output_type": "display_data"
    },
    {
     "data": {
      "application/vnd.jupyter.widget-view+json": {
       "model_id": "",
       "version_major": 2,
       "version_minor": 0
      },
      "text/plain": [
       "HBox(children=(HTML(value='n_features loop'), FloatProgress(value=0.0, max=2.0), HTML(value='')))"
      ]
     },
     "metadata": {},
     "output_type": "display_data"
    },
    {
     "data": {
      "application/vnd.jupyter.widget-view+json": {
       "model_id": "",
       "version_major": 2,
       "version_minor": 0
      },
      "text/plain": [
       "HBox(children=(HTML(value='n_features loop'), FloatProgress(value=0.0, max=2.0), HTML(value='')))"
      ]
     },
     "metadata": {},
     "output_type": "display_data"
    },
    {
     "data": {
      "application/vnd.jupyter.widget-view+json": {
       "model_id": "",
       "version_major": 2,
       "version_minor": 0
      },
      "text/plain": [
       "HBox(children=(HTML(value='n_features loop'), FloatProgress(value=0.0, max=2.0), HTML(value='')))"
      ]
     },
     "metadata": {},
     "output_type": "display_data"
    },
    {
     "data": {
      "application/vnd.jupyter.widget-view+json": {
       "model_id": "",
       "version_major": 2,
       "version_minor": 0
      },
      "text/plain": [
       "HBox(children=(HTML(value='n_features loop'), FloatProgress(value=0.0, max=2.0), HTML(value='')))"
      ]
     },
     "metadata": {},
     "output_type": "display_data"
    },
    {
     "data": {
      "application/vnd.jupyter.widget-view+json": {
       "model_id": "",
       "version_major": 2,
       "version_minor": 0
      },
      "text/plain": [
       "HBox(children=(HTML(value='n_features loop'), FloatProgress(value=0.0, max=2.0), HTML(value='')))"
      ]
     },
     "metadata": {},
     "output_type": "display_data"
    },
    {
     "data": {
      "application/vnd.jupyter.widget-view+json": {
       "model_id": "",
       "version_major": 2,
       "version_minor": 0
      },
      "text/plain": [
       "HBox(children=(HTML(value='n_features loop'), FloatProgress(value=0.0, max=2.0), HTML(value='')))"
      ]
     },
     "metadata": {},
     "output_type": "display_data"
    },
    {
     "data": {
      "application/vnd.jupyter.widget-view+json": {
       "model_id": "",
       "version_major": 2,
       "version_minor": 0
      },
      "text/plain": [
       "HBox(children=(HTML(value='n_features loop'), FloatProgress(value=0.0, max=2.0), HTML(value='')))"
      ]
     },
     "metadata": {},
     "output_type": "display_data"
    },
    {
     "name": "stdout",
     "output_type": "stream",
     "text": [
      "\n"
     ]
    }
   ],
   "source": [
    "best_model_tree = None\n",
    "best_result_tree = 0\n",
    "for depth in tqdm(range(1, 15), desc='Depth loop'):\n",
    "    for n_est in tqdm(range(10, 101, 10), desc='Est loop', leave=False):\n",
    "        for n_features in tqdm(['log2', 'sqrt'], desc='n_features loop', leave=False):\n",
    "            model = RandomForestClassifier(random_state=5, n_estimators=n_est, max_features=n_features, max_depth=depth)\n",
    "            model.fit(features_train, target_train) \n",
    "            valid_predictions_tree = model.predict(features_valid) \n",
    "            result = model.score(features_valid, target_valid)    \n",
    "            if result > best_result_tree:\n",
    "                best_model_tree = model\n",
    "                best_result_tree = result"
   ]
  },
  {
   "cell_type": "code",
   "execution_count": 28,
   "metadata": {},
   "outputs": [
    {
     "name": "stdout",
     "output_type": "stream",
     "text": [
      "\"accuracy\" наилучшей модели на валидационной выборке:\n",
      "0.8133748055987559\n",
      "Параметры лучшей модели:\n",
      "RandomForestClassifier(bootstrap=True, class_weight=None, criterion='gini',\n",
      "                       max_depth=12, max_features='log2', max_leaf_nodes=None,\n",
      "                       min_impurity_decrease=0.0, min_impurity_split=None,\n",
      "                       min_samples_leaf=1, min_samples_split=2,\n",
      "                       min_weight_fraction_leaf=0.0, n_estimators=30,\n",
      "                       n_jobs=None, oob_score=False, random_state=5, verbose=0,\n",
      "                       warm_start=False)\n"
     ]
    }
   ],
   "source": [
    "print('\"accuracy\" наилучшей модели на валидационной выборке:', best_result_tree, \n",
    "      \"Параметры лучшей модели:\", best_model_tree, sep='\\n') "
   ]
  },
  {
   "cell_type": "markdown",
   "metadata": {},
   "source": [
    "Итого у нас получается:\n",
    "- \"accuracy\" наилучшей модели на валидационной выборке = 0.8133748055987559\n",
    "\n",
    "Параметры лучшей модели:\n",
    "- criterion='gini'\n",
    "- max_depth=12\n",
    "- max_features='log2'\n",
    "- min_samples_leaf=1\n",
    "- min_samples_split=2,\n",
    "- n_estimators=30,\n",
    "- random_state=5"
   ]
  },
  {
   "cell_type": "markdown",
   "metadata": {},
   "source": [
    "Обучим модель на новом датасете:"
   ]
  },
  {
   "cell_type": "code",
   "execution_count": 29,
   "metadata": {},
   "outputs": [
    {
     "data": {
      "application/vnd.jupyter.widget-view+json": {
       "model_id": "09ff10ea433d43469851820e1f1be13c",
       "version_major": 2,
       "version_minor": 0
      },
      "text/plain": [
       "HBox(children=(HTML(value='Depth loop'), FloatProgress(value=0.0, max=14.0), HTML(value='')))"
      ]
     },
     "metadata": {},
     "output_type": "display_data"
    },
    {
     "data": {
      "application/vnd.jupyter.widget-view+json": {
       "model_id": "",
       "version_major": 2,
       "version_minor": 0
      },
      "text/plain": [
       "HBox(children=(HTML(value='Est loop'), FloatProgress(value=0.0, max=10.0), HTML(value='')))"
      ]
     },
     "metadata": {},
     "output_type": "display_data"
    },
    {
     "data": {
      "application/vnd.jupyter.widget-view+json": {
       "model_id": "",
       "version_major": 2,
       "version_minor": 0
      },
      "text/plain": [
       "HBox(children=(HTML(value='n_features loop'), FloatProgress(value=0.0, max=2.0), HTML(value='')))"
      ]
     },
     "metadata": {},
     "output_type": "display_data"
    },
    {
     "data": {
      "application/vnd.jupyter.widget-view+json": {
       "model_id": "",
       "version_major": 2,
       "version_minor": 0
      },
      "text/plain": [
       "HBox(children=(HTML(value='n_features loop'), FloatProgress(value=0.0, max=2.0), HTML(value='')))"
      ]
     },
     "metadata": {},
     "output_type": "display_data"
    },
    {
     "data": {
      "application/vnd.jupyter.widget-view+json": {
       "model_id": "",
       "version_major": 2,
       "version_minor": 0
      },
      "text/plain": [
       "HBox(children=(HTML(value='n_features loop'), FloatProgress(value=0.0, max=2.0), HTML(value='')))"
      ]
     },
     "metadata": {},
     "output_type": "display_data"
    },
    {
     "data": {
      "application/vnd.jupyter.widget-view+json": {
       "model_id": "",
       "version_major": 2,
       "version_minor": 0
      },
      "text/plain": [
       "HBox(children=(HTML(value='n_features loop'), FloatProgress(value=0.0, max=2.0), HTML(value='')))"
      ]
     },
     "metadata": {},
     "output_type": "display_data"
    },
    {
     "data": {
      "application/vnd.jupyter.widget-view+json": {
       "model_id": "",
       "version_major": 2,
       "version_minor": 0
      },
      "text/plain": [
       "HBox(children=(HTML(value='n_features loop'), FloatProgress(value=0.0, max=2.0), HTML(value='')))"
      ]
     },
     "metadata": {},
     "output_type": "display_data"
    },
    {
     "data": {
      "application/vnd.jupyter.widget-view+json": {
       "model_id": "",
       "version_major": 2,
       "version_minor": 0
      },
      "text/plain": [
       "HBox(children=(HTML(value='n_features loop'), FloatProgress(value=0.0, max=2.0), HTML(value='')))"
      ]
     },
     "metadata": {},
     "output_type": "display_data"
    },
    {
     "data": {
      "application/vnd.jupyter.widget-view+json": {
       "model_id": "",
       "version_major": 2,
       "version_minor": 0
      },
      "text/plain": [
       "HBox(children=(HTML(value='n_features loop'), FloatProgress(value=0.0, max=2.0), HTML(value='')))"
      ]
     },
     "metadata": {},
     "output_type": "display_data"
    },
    {
     "data": {
      "application/vnd.jupyter.widget-view+json": {
       "model_id": "",
       "version_major": 2,
       "version_minor": 0
      },
      "text/plain": [
       "HBox(children=(HTML(value='n_features loop'), FloatProgress(value=0.0, max=2.0), HTML(value='')))"
      ]
     },
     "metadata": {},
     "output_type": "display_data"
    },
    {
     "data": {
      "application/vnd.jupyter.widget-view+json": {
       "model_id": "",
       "version_major": 2,
       "version_minor": 0
      },
      "text/plain": [
       "HBox(children=(HTML(value='n_features loop'), FloatProgress(value=0.0, max=2.0), HTML(value='')))"
      ]
     },
     "metadata": {},
     "output_type": "display_data"
    },
    {
     "data": {
      "application/vnd.jupyter.widget-view+json": {
       "model_id": "",
       "version_major": 2,
       "version_minor": 0
      },
      "text/plain": [
       "HBox(children=(HTML(value='n_features loop'), FloatProgress(value=0.0, max=2.0), HTML(value='')))"
      ]
     },
     "metadata": {},
     "output_type": "display_data"
    },
    {
     "data": {
      "application/vnd.jupyter.widget-view+json": {
       "model_id": "",
       "version_major": 2,
       "version_minor": 0
      },
      "text/plain": [
       "HBox(children=(HTML(value='Est loop'), FloatProgress(value=0.0, max=10.0), HTML(value='')))"
      ]
     },
     "metadata": {},
     "output_type": "display_data"
    },
    {
     "data": {
      "application/vnd.jupyter.widget-view+json": {
       "model_id": "",
       "version_major": 2,
       "version_minor": 0
      },
      "text/plain": [
       "HBox(children=(HTML(value='n_features loop'), FloatProgress(value=0.0, max=2.0), HTML(value='')))"
      ]
     },
     "metadata": {},
     "output_type": "display_data"
    },
    {
     "data": {
      "application/vnd.jupyter.widget-view+json": {
       "model_id": "",
       "version_major": 2,
       "version_minor": 0
      },
      "text/plain": [
       "HBox(children=(HTML(value='n_features loop'), FloatProgress(value=0.0, max=2.0), HTML(value='')))"
      ]
     },
     "metadata": {},
     "output_type": "display_data"
    },
    {
     "data": {
      "application/vnd.jupyter.widget-view+json": {
       "model_id": "",
       "version_major": 2,
       "version_minor": 0
      },
      "text/plain": [
       "HBox(children=(HTML(value='n_features loop'), FloatProgress(value=0.0, max=2.0), HTML(value='')))"
      ]
     },
     "metadata": {},
     "output_type": "display_data"
    },
    {
     "data": {
      "application/vnd.jupyter.widget-view+json": {
       "model_id": "",
       "version_major": 2,
       "version_minor": 0
      },
      "text/plain": [
       "HBox(children=(HTML(value='n_features loop'), FloatProgress(value=0.0, max=2.0), HTML(value='')))"
      ]
     },
     "metadata": {},
     "output_type": "display_data"
    },
    {
     "data": {
      "application/vnd.jupyter.widget-view+json": {
       "model_id": "",
       "version_major": 2,
       "version_minor": 0
      },
      "text/plain": [
       "HBox(children=(HTML(value='n_features loop'), FloatProgress(value=0.0, max=2.0), HTML(value='')))"
      ]
     },
     "metadata": {},
     "output_type": "display_data"
    },
    {
     "data": {
      "application/vnd.jupyter.widget-view+json": {
       "model_id": "",
       "version_major": 2,
       "version_minor": 0
      },
      "text/plain": [
       "HBox(children=(HTML(value='n_features loop'), FloatProgress(value=0.0, max=2.0), HTML(value='')))"
      ]
     },
     "metadata": {},
     "output_type": "display_data"
    },
    {
     "data": {
      "application/vnd.jupyter.widget-view+json": {
       "model_id": "",
       "version_major": 2,
       "version_minor": 0
      },
      "text/plain": [
       "HBox(children=(HTML(value='n_features loop'), FloatProgress(value=0.0, max=2.0), HTML(value='')))"
      ]
     },
     "metadata": {},
     "output_type": "display_data"
    },
    {
     "data": {
      "application/vnd.jupyter.widget-view+json": {
       "model_id": "",
       "version_major": 2,
       "version_minor": 0
      },
      "text/plain": [
       "HBox(children=(HTML(value='n_features loop'), FloatProgress(value=0.0, max=2.0), HTML(value='')))"
      ]
     },
     "metadata": {},
     "output_type": "display_data"
    },
    {
     "data": {
      "application/vnd.jupyter.widget-view+json": {
       "model_id": "",
       "version_major": 2,
       "version_minor": 0
      },
      "text/plain": [
       "HBox(children=(HTML(value='n_features loop'), FloatProgress(value=0.0, max=2.0), HTML(value='')))"
      ]
     },
     "metadata": {},
     "output_type": "display_data"
    },
    {
     "data": {
      "application/vnd.jupyter.widget-view+json": {
       "model_id": "",
       "version_major": 2,
       "version_minor": 0
      },
      "text/plain": [
       "HBox(children=(HTML(value='n_features loop'), FloatProgress(value=0.0, max=2.0), HTML(value='')))"
      ]
     },
     "metadata": {},
     "output_type": "display_data"
    },
    {
     "data": {
      "application/vnd.jupyter.widget-view+json": {
       "model_id": "",
       "version_major": 2,
       "version_minor": 0
      },
      "text/plain": [
       "HBox(children=(HTML(value='Est loop'), FloatProgress(value=0.0, max=10.0), HTML(value='')))"
      ]
     },
     "metadata": {},
     "output_type": "display_data"
    },
    {
     "data": {
      "application/vnd.jupyter.widget-view+json": {
       "model_id": "",
       "version_major": 2,
       "version_minor": 0
      },
      "text/plain": [
       "HBox(children=(HTML(value='n_features loop'), FloatProgress(value=0.0, max=2.0), HTML(value='')))"
      ]
     },
     "metadata": {},
     "output_type": "display_data"
    },
    {
     "data": {
      "application/vnd.jupyter.widget-view+json": {
       "model_id": "",
       "version_major": 2,
       "version_minor": 0
      },
      "text/plain": [
       "HBox(children=(HTML(value='n_features loop'), FloatProgress(value=0.0, max=2.0), HTML(value='')))"
      ]
     },
     "metadata": {},
     "output_type": "display_data"
    },
    {
     "data": {
      "application/vnd.jupyter.widget-view+json": {
       "model_id": "",
       "version_major": 2,
       "version_minor": 0
      },
      "text/plain": [
       "HBox(children=(HTML(value='n_features loop'), FloatProgress(value=0.0, max=2.0), HTML(value='')))"
      ]
     },
     "metadata": {},
     "output_type": "display_data"
    },
    {
     "data": {
      "application/vnd.jupyter.widget-view+json": {
       "model_id": "",
       "version_major": 2,
       "version_minor": 0
      },
      "text/plain": [
       "HBox(children=(HTML(value='n_features loop'), FloatProgress(value=0.0, max=2.0), HTML(value='')))"
      ]
     },
     "metadata": {},
     "output_type": "display_data"
    },
    {
     "data": {
      "application/vnd.jupyter.widget-view+json": {
       "model_id": "",
       "version_major": 2,
       "version_minor": 0
      },
      "text/plain": [
       "HBox(children=(HTML(value='n_features loop'), FloatProgress(value=0.0, max=2.0), HTML(value='')))"
      ]
     },
     "metadata": {},
     "output_type": "display_data"
    },
    {
     "data": {
      "application/vnd.jupyter.widget-view+json": {
       "model_id": "",
       "version_major": 2,
       "version_minor": 0
      },
      "text/plain": [
       "HBox(children=(HTML(value='n_features loop'), FloatProgress(value=0.0, max=2.0), HTML(value='')))"
      ]
     },
     "metadata": {},
     "output_type": "display_data"
    },
    {
     "data": {
      "application/vnd.jupyter.widget-view+json": {
       "model_id": "",
       "version_major": 2,
       "version_minor": 0
      },
      "text/plain": [
       "HBox(children=(HTML(value='n_features loop'), FloatProgress(value=0.0, max=2.0), HTML(value='')))"
      ]
     },
     "metadata": {},
     "output_type": "display_data"
    },
    {
     "data": {
      "application/vnd.jupyter.widget-view+json": {
       "model_id": "",
       "version_major": 2,
       "version_minor": 0
      },
      "text/plain": [
       "HBox(children=(HTML(value='n_features loop'), FloatProgress(value=0.0, max=2.0), HTML(value='')))"
      ]
     },
     "metadata": {},
     "output_type": "display_data"
    },
    {
     "data": {
      "application/vnd.jupyter.widget-view+json": {
       "model_id": "",
       "version_major": 2,
       "version_minor": 0
      },
      "text/plain": [
       "HBox(children=(HTML(value='n_features loop'), FloatProgress(value=0.0, max=2.0), HTML(value='')))"
      ]
     },
     "metadata": {},
     "output_type": "display_data"
    },
    {
     "data": {
      "application/vnd.jupyter.widget-view+json": {
       "model_id": "",
       "version_major": 2,
       "version_minor": 0
      },
      "text/plain": [
       "HBox(children=(HTML(value='n_features loop'), FloatProgress(value=0.0, max=2.0), HTML(value='')))"
      ]
     },
     "metadata": {},
     "output_type": "display_data"
    },
    {
     "data": {
      "application/vnd.jupyter.widget-view+json": {
       "model_id": "",
       "version_major": 2,
       "version_minor": 0
      },
      "text/plain": [
       "HBox(children=(HTML(value='Est loop'), FloatProgress(value=0.0, max=10.0), HTML(value='')))"
      ]
     },
     "metadata": {},
     "output_type": "display_data"
    },
    {
     "data": {
      "application/vnd.jupyter.widget-view+json": {
       "model_id": "",
       "version_major": 2,
       "version_minor": 0
      },
      "text/plain": [
       "HBox(children=(HTML(value='n_features loop'), FloatProgress(value=0.0, max=2.0), HTML(value='')))"
      ]
     },
     "metadata": {},
     "output_type": "display_data"
    },
    {
     "data": {
      "application/vnd.jupyter.widget-view+json": {
       "model_id": "",
       "version_major": 2,
       "version_minor": 0
      },
      "text/plain": [
       "HBox(children=(HTML(value='n_features loop'), FloatProgress(value=0.0, max=2.0), HTML(value='')))"
      ]
     },
     "metadata": {},
     "output_type": "display_data"
    },
    {
     "data": {
      "application/vnd.jupyter.widget-view+json": {
       "model_id": "",
       "version_major": 2,
       "version_minor": 0
      },
      "text/plain": [
       "HBox(children=(HTML(value='n_features loop'), FloatProgress(value=0.0, max=2.0), HTML(value='')))"
      ]
     },
     "metadata": {},
     "output_type": "display_data"
    },
    {
     "data": {
      "application/vnd.jupyter.widget-view+json": {
       "model_id": "",
       "version_major": 2,
       "version_minor": 0
      },
      "text/plain": [
       "HBox(children=(HTML(value='n_features loop'), FloatProgress(value=0.0, max=2.0), HTML(value='')))"
      ]
     },
     "metadata": {},
     "output_type": "display_data"
    },
    {
     "data": {
      "application/vnd.jupyter.widget-view+json": {
       "model_id": "",
       "version_major": 2,
       "version_minor": 0
      },
      "text/plain": [
       "HBox(children=(HTML(value='n_features loop'), FloatProgress(value=0.0, max=2.0), HTML(value='')))"
      ]
     },
     "metadata": {},
     "output_type": "display_data"
    },
    {
     "data": {
      "application/vnd.jupyter.widget-view+json": {
       "model_id": "",
       "version_major": 2,
       "version_minor": 0
      },
      "text/plain": [
       "HBox(children=(HTML(value='n_features loop'), FloatProgress(value=0.0, max=2.0), HTML(value='')))"
      ]
     },
     "metadata": {},
     "output_type": "display_data"
    },
    {
     "data": {
      "application/vnd.jupyter.widget-view+json": {
       "model_id": "",
       "version_major": 2,
       "version_minor": 0
      },
      "text/plain": [
       "HBox(children=(HTML(value='n_features loop'), FloatProgress(value=0.0, max=2.0), HTML(value='')))"
      ]
     },
     "metadata": {},
     "output_type": "display_data"
    },
    {
     "data": {
      "application/vnd.jupyter.widget-view+json": {
       "model_id": "",
       "version_major": 2,
       "version_minor": 0
      },
      "text/plain": [
       "HBox(children=(HTML(value='n_features loop'), FloatProgress(value=0.0, max=2.0), HTML(value='')))"
      ]
     },
     "metadata": {},
     "output_type": "display_data"
    },
    {
     "data": {
      "application/vnd.jupyter.widget-view+json": {
       "model_id": "",
       "version_major": 2,
       "version_minor": 0
      },
      "text/plain": [
       "HBox(children=(HTML(value='n_features loop'), FloatProgress(value=0.0, max=2.0), HTML(value='')))"
      ]
     },
     "metadata": {},
     "output_type": "display_data"
    },
    {
     "data": {
      "application/vnd.jupyter.widget-view+json": {
       "model_id": "",
       "version_major": 2,
       "version_minor": 0
      },
      "text/plain": [
       "HBox(children=(HTML(value='n_features loop'), FloatProgress(value=0.0, max=2.0), HTML(value='')))"
      ]
     },
     "metadata": {},
     "output_type": "display_data"
    },
    {
     "data": {
      "application/vnd.jupyter.widget-view+json": {
       "model_id": "",
       "version_major": 2,
       "version_minor": 0
      },
      "text/plain": [
       "HBox(children=(HTML(value='Est loop'), FloatProgress(value=0.0, max=10.0), HTML(value='')))"
      ]
     },
     "metadata": {},
     "output_type": "display_data"
    },
    {
     "data": {
      "application/vnd.jupyter.widget-view+json": {
       "model_id": "",
       "version_major": 2,
       "version_minor": 0
      },
      "text/plain": [
       "HBox(children=(HTML(value='n_features loop'), FloatProgress(value=0.0, max=2.0), HTML(value='')))"
      ]
     },
     "metadata": {},
     "output_type": "display_data"
    },
    {
     "data": {
      "application/vnd.jupyter.widget-view+json": {
       "model_id": "",
       "version_major": 2,
       "version_minor": 0
      },
      "text/plain": [
       "HBox(children=(HTML(value='n_features loop'), FloatProgress(value=0.0, max=2.0), HTML(value='')))"
      ]
     },
     "metadata": {},
     "output_type": "display_data"
    },
    {
     "data": {
      "application/vnd.jupyter.widget-view+json": {
       "model_id": "",
       "version_major": 2,
       "version_minor": 0
      },
      "text/plain": [
       "HBox(children=(HTML(value='n_features loop'), FloatProgress(value=0.0, max=2.0), HTML(value='')))"
      ]
     },
     "metadata": {},
     "output_type": "display_data"
    },
    {
     "data": {
      "application/vnd.jupyter.widget-view+json": {
       "model_id": "",
       "version_major": 2,
       "version_minor": 0
      },
      "text/plain": [
       "HBox(children=(HTML(value='n_features loop'), FloatProgress(value=0.0, max=2.0), HTML(value='')))"
      ]
     },
     "metadata": {},
     "output_type": "display_data"
    },
    {
     "data": {
      "application/vnd.jupyter.widget-view+json": {
       "model_id": "",
       "version_major": 2,
       "version_minor": 0
      },
      "text/plain": [
       "HBox(children=(HTML(value='n_features loop'), FloatProgress(value=0.0, max=2.0), HTML(value='')))"
      ]
     },
     "metadata": {},
     "output_type": "display_data"
    },
    {
     "data": {
      "application/vnd.jupyter.widget-view+json": {
       "model_id": "",
       "version_major": 2,
       "version_minor": 0
      },
      "text/plain": [
       "HBox(children=(HTML(value='n_features loop'), FloatProgress(value=0.0, max=2.0), HTML(value='')))"
      ]
     },
     "metadata": {},
     "output_type": "display_data"
    },
    {
     "data": {
      "application/vnd.jupyter.widget-view+json": {
       "model_id": "",
       "version_major": 2,
       "version_minor": 0
      },
      "text/plain": [
       "HBox(children=(HTML(value='n_features loop'), FloatProgress(value=0.0, max=2.0), HTML(value='')))"
      ]
     },
     "metadata": {},
     "output_type": "display_data"
    },
    {
     "data": {
      "application/vnd.jupyter.widget-view+json": {
       "model_id": "",
       "version_major": 2,
       "version_minor": 0
      },
      "text/plain": [
       "HBox(children=(HTML(value='n_features loop'), FloatProgress(value=0.0, max=2.0), HTML(value='')))"
      ]
     },
     "metadata": {},
     "output_type": "display_data"
    },
    {
     "data": {
      "application/vnd.jupyter.widget-view+json": {
       "model_id": "",
       "version_major": 2,
       "version_minor": 0
      },
      "text/plain": [
       "HBox(children=(HTML(value='n_features loop'), FloatProgress(value=0.0, max=2.0), HTML(value='')))"
      ]
     },
     "metadata": {},
     "output_type": "display_data"
    },
    {
     "data": {
      "application/vnd.jupyter.widget-view+json": {
       "model_id": "",
       "version_major": 2,
       "version_minor": 0
      },
      "text/plain": [
       "HBox(children=(HTML(value='n_features loop'), FloatProgress(value=0.0, max=2.0), HTML(value='')))"
      ]
     },
     "metadata": {},
     "output_type": "display_data"
    },
    {
     "data": {
      "application/vnd.jupyter.widget-view+json": {
       "model_id": "",
       "version_major": 2,
       "version_minor": 0
      },
      "text/plain": [
       "HBox(children=(HTML(value='Est loop'), FloatProgress(value=0.0, max=10.0), HTML(value='')))"
      ]
     },
     "metadata": {},
     "output_type": "display_data"
    },
    {
     "data": {
      "application/vnd.jupyter.widget-view+json": {
       "model_id": "",
       "version_major": 2,
       "version_minor": 0
      },
      "text/plain": [
       "HBox(children=(HTML(value='n_features loop'), FloatProgress(value=0.0, max=2.0), HTML(value='')))"
      ]
     },
     "metadata": {},
     "output_type": "display_data"
    },
    {
     "data": {
      "application/vnd.jupyter.widget-view+json": {
       "model_id": "",
       "version_major": 2,
       "version_minor": 0
      },
      "text/plain": [
       "HBox(children=(HTML(value='n_features loop'), FloatProgress(value=0.0, max=2.0), HTML(value='')))"
      ]
     },
     "metadata": {},
     "output_type": "display_data"
    },
    {
     "data": {
      "application/vnd.jupyter.widget-view+json": {
       "model_id": "",
       "version_major": 2,
       "version_minor": 0
      },
      "text/plain": [
       "HBox(children=(HTML(value='n_features loop'), FloatProgress(value=0.0, max=2.0), HTML(value='')))"
      ]
     },
     "metadata": {},
     "output_type": "display_data"
    },
    {
     "data": {
      "application/vnd.jupyter.widget-view+json": {
       "model_id": "",
       "version_major": 2,
       "version_minor": 0
      },
      "text/plain": [
       "HBox(children=(HTML(value='n_features loop'), FloatProgress(value=0.0, max=2.0), HTML(value='')))"
      ]
     },
     "metadata": {},
     "output_type": "display_data"
    },
    {
     "data": {
      "application/vnd.jupyter.widget-view+json": {
       "model_id": "",
       "version_major": 2,
       "version_minor": 0
      },
      "text/plain": [
       "HBox(children=(HTML(value='n_features loop'), FloatProgress(value=0.0, max=2.0), HTML(value='')))"
      ]
     },
     "metadata": {},
     "output_type": "display_data"
    },
    {
     "data": {
      "application/vnd.jupyter.widget-view+json": {
       "model_id": "",
       "version_major": 2,
       "version_minor": 0
      },
      "text/plain": [
       "HBox(children=(HTML(value='n_features loop'), FloatProgress(value=0.0, max=2.0), HTML(value='')))"
      ]
     },
     "metadata": {},
     "output_type": "display_data"
    },
    {
     "data": {
      "application/vnd.jupyter.widget-view+json": {
       "model_id": "",
       "version_major": 2,
       "version_minor": 0
      },
      "text/plain": [
       "HBox(children=(HTML(value='n_features loop'), FloatProgress(value=0.0, max=2.0), HTML(value='')))"
      ]
     },
     "metadata": {},
     "output_type": "display_data"
    },
    {
     "data": {
      "application/vnd.jupyter.widget-view+json": {
       "model_id": "",
       "version_major": 2,
       "version_minor": 0
      },
      "text/plain": [
       "HBox(children=(HTML(value='n_features loop'), FloatProgress(value=0.0, max=2.0), HTML(value='')))"
      ]
     },
     "metadata": {},
     "output_type": "display_data"
    },
    {
     "data": {
      "application/vnd.jupyter.widget-view+json": {
       "model_id": "",
       "version_major": 2,
       "version_minor": 0
      },
      "text/plain": [
       "HBox(children=(HTML(value='n_features loop'), FloatProgress(value=0.0, max=2.0), HTML(value='')))"
      ]
     },
     "metadata": {},
     "output_type": "display_data"
    },
    {
     "data": {
      "application/vnd.jupyter.widget-view+json": {
       "model_id": "",
       "version_major": 2,
       "version_minor": 0
      },
      "text/plain": [
       "HBox(children=(HTML(value='n_features loop'), FloatProgress(value=0.0, max=2.0), HTML(value='')))"
      ]
     },
     "metadata": {},
     "output_type": "display_data"
    },
    {
     "data": {
      "application/vnd.jupyter.widget-view+json": {
       "model_id": "",
       "version_major": 2,
       "version_minor": 0
      },
      "text/plain": [
       "HBox(children=(HTML(value='Est loop'), FloatProgress(value=0.0, max=10.0), HTML(value='')))"
      ]
     },
     "metadata": {},
     "output_type": "display_data"
    },
    {
     "data": {
      "application/vnd.jupyter.widget-view+json": {
       "model_id": "",
       "version_major": 2,
       "version_minor": 0
      },
      "text/plain": [
       "HBox(children=(HTML(value='n_features loop'), FloatProgress(value=0.0, max=2.0), HTML(value='')))"
      ]
     },
     "metadata": {},
     "output_type": "display_data"
    },
    {
     "data": {
      "application/vnd.jupyter.widget-view+json": {
       "model_id": "",
       "version_major": 2,
       "version_minor": 0
      },
      "text/plain": [
       "HBox(children=(HTML(value='n_features loop'), FloatProgress(value=0.0, max=2.0), HTML(value='')))"
      ]
     },
     "metadata": {},
     "output_type": "display_data"
    },
    {
     "data": {
      "application/vnd.jupyter.widget-view+json": {
       "model_id": "",
       "version_major": 2,
       "version_minor": 0
      },
      "text/plain": [
       "HBox(children=(HTML(value='n_features loop'), FloatProgress(value=0.0, max=2.0), HTML(value='')))"
      ]
     },
     "metadata": {},
     "output_type": "display_data"
    },
    {
     "data": {
      "application/vnd.jupyter.widget-view+json": {
       "model_id": "",
       "version_major": 2,
       "version_minor": 0
      },
      "text/plain": [
       "HBox(children=(HTML(value='n_features loop'), FloatProgress(value=0.0, max=2.0), HTML(value='')))"
      ]
     },
     "metadata": {},
     "output_type": "display_data"
    },
    {
     "data": {
      "application/vnd.jupyter.widget-view+json": {
       "model_id": "",
       "version_major": 2,
       "version_minor": 0
      },
      "text/plain": [
       "HBox(children=(HTML(value='n_features loop'), FloatProgress(value=0.0, max=2.0), HTML(value='')))"
      ]
     },
     "metadata": {},
     "output_type": "display_data"
    },
    {
     "data": {
      "application/vnd.jupyter.widget-view+json": {
       "model_id": "",
       "version_major": 2,
       "version_minor": 0
      },
      "text/plain": [
       "HBox(children=(HTML(value='n_features loop'), FloatProgress(value=0.0, max=2.0), HTML(value='')))"
      ]
     },
     "metadata": {},
     "output_type": "display_data"
    },
    {
     "data": {
      "application/vnd.jupyter.widget-view+json": {
       "model_id": "",
       "version_major": 2,
       "version_minor": 0
      },
      "text/plain": [
       "HBox(children=(HTML(value='n_features loop'), FloatProgress(value=0.0, max=2.0), HTML(value='')))"
      ]
     },
     "metadata": {},
     "output_type": "display_data"
    },
    {
     "data": {
      "application/vnd.jupyter.widget-view+json": {
       "model_id": "",
       "version_major": 2,
       "version_minor": 0
      },
      "text/plain": [
       "HBox(children=(HTML(value='n_features loop'), FloatProgress(value=0.0, max=2.0), HTML(value='')))"
      ]
     },
     "metadata": {},
     "output_type": "display_data"
    },
    {
     "data": {
      "application/vnd.jupyter.widget-view+json": {
       "model_id": "",
       "version_major": 2,
       "version_minor": 0
      },
      "text/plain": [
       "HBox(children=(HTML(value='n_features loop'), FloatProgress(value=0.0, max=2.0), HTML(value='')))"
      ]
     },
     "metadata": {},
     "output_type": "display_data"
    },
    {
     "data": {
      "application/vnd.jupyter.widget-view+json": {
       "model_id": "",
       "version_major": 2,
       "version_minor": 0
      },
      "text/plain": [
       "HBox(children=(HTML(value='n_features loop'), FloatProgress(value=0.0, max=2.0), HTML(value='')))"
      ]
     },
     "metadata": {},
     "output_type": "display_data"
    },
    {
     "data": {
      "application/vnd.jupyter.widget-view+json": {
       "model_id": "",
       "version_major": 2,
       "version_minor": 0
      },
      "text/plain": [
       "HBox(children=(HTML(value='Est loop'), FloatProgress(value=0.0, max=10.0), HTML(value='')))"
      ]
     },
     "metadata": {},
     "output_type": "display_data"
    },
    {
     "data": {
      "application/vnd.jupyter.widget-view+json": {
       "model_id": "",
       "version_major": 2,
       "version_minor": 0
      },
      "text/plain": [
       "HBox(children=(HTML(value='n_features loop'), FloatProgress(value=0.0, max=2.0), HTML(value='')))"
      ]
     },
     "metadata": {},
     "output_type": "display_data"
    },
    {
     "data": {
      "application/vnd.jupyter.widget-view+json": {
       "model_id": "",
       "version_major": 2,
       "version_minor": 0
      },
      "text/plain": [
       "HBox(children=(HTML(value='n_features loop'), FloatProgress(value=0.0, max=2.0), HTML(value='')))"
      ]
     },
     "metadata": {},
     "output_type": "display_data"
    },
    {
     "data": {
      "application/vnd.jupyter.widget-view+json": {
       "model_id": "",
       "version_major": 2,
       "version_minor": 0
      },
      "text/plain": [
       "HBox(children=(HTML(value='n_features loop'), FloatProgress(value=0.0, max=2.0), HTML(value='')))"
      ]
     },
     "metadata": {},
     "output_type": "display_data"
    },
    {
     "data": {
      "application/vnd.jupyter.widget-view+json": {
       "model_id": "",
       "version_major": 2,
       "version_minor": 0
      },
      "text/plain": [
       "HBox(children=(HTML(value='n_features loop'), FloatProgress(value=0.0, max=2.0), HTML(value='')))"
      ]
     },
     "metadata": {},
     "output_type": "display_data"
    },
    {
     "data": {
      "application/vnd.jupyter.widget-view+json": {
       "model_id": "",
       "version_major": 2,
       "version_minor": 0
      },
      "text/plain": [
       "HBox(children=(HTML(value='n_features loop'), FloatProgress(value=0.0, max=2.0), HTML(value='')))"
      ]
     },
     "metadata": {},
     "output_type": "display_data"
    },
    {
     "data": {
      "application/vnd.jupyter.widget-view+json": {
       "model_id": "",
       "version_major": 2,
       "version_minor": 0
      },
      "text/plain": [
       "HBox(children=(HTML(value='n_features loop'), FloatProgress(value=0.0, max=2.0), HTML(value='')))"
      ]
     },
     "metadata": {},
     "output_type": "display_data"
    },
    {
     "data": {
      "application/vnd.jupyter.widget-view+json": {
       "model_id": "",
       "version_major": 2,
       "version_minor": 0
      },
      "text/plain": [
       "HBox(children=(HTML(value='n_features loop'), FloatProgress(value=0.0, max=2.0), HTML(value='')))"
      ]
     },
     "metadata": {},
     "output_type": "display_data"
    },
    {
     "data": {
      "application/vnd.jupyter.widget-view+json": {
       "model_id": "",
       "version_major": 2,
       "version_minor": 0
      },
      "text/plain": [
       "HBox(children=(HTML(value='n_features loop'), FloatProgress(value=0.0, max=2.0), HTML(value='')))"
      ]
     },
     "metadata": {},
     "output_type": "display_data"
    },
    {
     "data": {
      "application/vnd.jupyter.widget-view+json": {
       "model_id": "",
       "version_major": 2,
       "version_minor": 0
      },
      "text/plain": [
       "HBox(children=(HTML(value='n_features loop'), FloatProgress(value=0.0, max=2.0), HTML(value='')))"
      ]
     },
     "metadata": {},
     "output_type": "display_data"
    },
    {
     "data": {
      "application/vnd.jupyter.widget-view+json": {
       "model_id": "",
       "version_major": 2,
       "version_minor": 0
      },
      "text/plain": [
       "HBox(children=(HTML(value='n_features loop'), FloatProgress(value=0.0, max=2.0), HTML(value='')))"
      ]
     },
     "metadata": {},
     "output_type": "display_data"
    },
    {
     "data": {
      "application/vnd.jupyter.widget-view+json": {
       "model_id": "",
       "version_major": 2,
       "version_minor": 0
      },
      "text/plain": [
       "HBox(children=(HTML(value='Est loop'), FloatProgress(value=0.0, max=10.0), HTML(value='')))"
      ]
     },
     "metadata": {},
     "output_type": "display_data"
    },
    {
     "data": {
      "application/vnd.jupyter.widget-view+json": {
       "model_id": "",
       "version_major": 2,
       "version_minor": 0
      },
      "text/plain": [
       "HBox(children=(HTML(value='n_features loop'), FloatProgress(value=0.0, max=2.0), HTML(value='')))"
      ]
     },
     "metadata": {},
     "output_type": "display_data"
    },
    {
     "data": {
      "application/vnd.jupyter.widget-view+json": {
       "model_id": "",
       "version_major": 2,
       "version_minor": 0
      },
      "text/plain": [
       "HBox(children=(HTML(value='n_features loop'), FloatProgress(value=0.0, max=2.0), HTML(value='')))"
      ]
     },
     "metadata": {},
     "output_type": "display_data"
    },
    {
     "data": {
      "application/vnd.jupyter.widget-view+json": {
       "model_id": "",
       "version_major": 2,
       "version_minor": 0
      },
      "text/plain": [
       "HBox(children=(HTML(value='n_features loop'), FloatProgress(value=0.0, max=2.0), HTML(value='')))"
      ]
     },
     "metadata": {},
     "output_type": "display_data"
    },
    {
     "data": {
      "application/vnd.jupyter.widget-view+json": {
       "model_id": "",
       "version_major": 2,
       "version_minor": 0
      },
      "text/plain": [
       "HBox(children=(HTML(value='n_features loop'), FloatProgress(value=0.0, max=2.0), HTML(value='')))"
      ]
     },
     "metadata": {},
     "output_type": "display_data"
    },
    {
     "data": {
      "application/vnd.jupyter.widget-view+json": {
       "model_id": "",
       "version_major": 2,
       "version_minor": 0
      },
      "text/plain": [
       "HBox(children=(HTML(value='n_features loop'), FloatProgress(value=0.0, max=2.0), HTML(value='')))"
      ]
     },
     "metadata": {},
     "output_type": "display_data"
    },
    {
     "data": {
      "application/vnd.jupyter.widget-view+json": {
       "model_id": "",
       "version_major": 2,
       "version_minor": 0
      },
      "text/plain": [
       "HBox(children=(HTML(value='n_features loop'), FloatProgress(value=0.0, max=2.0), HTML(value='')))"
      ]
     },
     "metadata": {},
     "output_type": "display_data"
    },
    {
     "data": {
      "application/vnd.jupyter.widget-view+json": {
       "model_id": "",
       "version_major": 2,
       "version_minor": 0
      },
      "text/plain": [
       "HBox(children=(HTML(value='n_features loop'), FloatProgress(value=0.0, max=2.0), HTML(value='')))"
      ]
     },
     "metadata": {},
     "output_type": "display_data"
    },
    {
     "data": {
      "application/vnd.jupyter.widget-view+json": {
       "model_id": "",
       "version_major": 2,
       "version_minor": 0
      },
      "text/plain": [
       "HBox(children=(HTML(value='n_features loop'), FloatProgress(value=0.0, max=2.0), HTML(value='')))"
      ]
     },
     "metadata": {},
     "output_type": "display_data"
    },
    {
     "data": {
      "application/vnd.jupyter.widget-view+json": {
       "model_id": "",
       "version_major": 2,
       "version_minor": 0
      },
      "text/plain": [
       "HBox(children=(HTML(value='n_features loop'), FloatProgress(value=0.0, max=2.0), HTML(value='')))"
      ]
     },
     "metadata": {},
     "output_type": "display_data"
    },
    {
     "data": {
      "application/vnd.jupyter.widget-view+json": {
       "model_id": "",
       "version_major": 2,
       "version_minor": 0
      },
      "text/plain": [
       "HBox(children=(HTML(value='n_features loop'), FloatProgress(value=0.0, max=2.0), HTML(value='')))"
      ]
     },
     "metadata": {},
     "output_type": "display_data"
    },
    {
     "data": {
      "application/vnd.jupyter.widget-view+json": {
       "model_id": "",
       "version_major": 2,
       "version_minor": 0
      },
      "text/plain": [
       "HBox(children=(HTML(value='Est loop'), FloatProgress(value=0.0, max=10.0), HTML(value='')))"
      ]
     },
     "metadata": {},
     "output_type": "display_data"
    },
    {
     "data": {
      "application/vnd.jupyter.widget-view+json": {
       "model_id": "",
       "version_major": 2,
       "version_minor": 0
      },
      "text/plain": [
       "HBox(children=(HTML(value='n_features loop'), FloatProgress(value=0.0, max=2.0), HTML(value='')))"
      ]
     },
     "metadata": {},
     "output_type": "display_data"
    },
    {
     "data": {
      "application/vnd.jupyter.widget-view+json": {
       "model_id": "",
       "version_major": 2,
       "version_minor": 0
      },
      "text/plain": [
       "HBox(children=(HTML(value='n_features loop'), FloatProgress(value=0.0, max=2.0), HTML(value='')))"
      ]
     },
     "metadata": {},
     "output_type": "display_data"
    },
    {
     "data": {
      "application/vnd.jupyter.widget-view+json": {
       "model_id": "",
       "version_major": 2,
       "version_minor": 0
      },
      "text/plain": [
       "HBox(children=(HTML(value='n_features loop'), FloatProgress(value=0.0, max=2.0), HTML(value='')))"
      ]
     },
     "metadata": {},
     "output_type": "display_data"
    },
    {
     "data": {
      "application/vnd.jupyter.widget-view+json": {
       "model_id": "",
       "version_major": 2,
       "version_minor": 0
      },
      "text/plain": [
       "HBox(children=(HTML(value='n_features loop'), FloatProgress(value=0.0, max=2.0), HTML(value='')))"
      ]
     },
     "metadata": {},
     "output_type": "display_data"
    },
    {
     "data": {
      "application/vnd.jupyter.widget-view+json": {
       "model_id": "",
       "version_major": 2,
       "version_minor": 0
      },
      "text/plain": [
       "HBox(children=(HTML(value='n_features loop'), FloatProgress(value=0.0, max=2.0), HTML(value='')))"
      ]
     },
     "metadata": {},
     "output_type": "display_data"
    },
    {
     "data": {
      "application/vnd.jupyter.widget-view+json": {
       "model_id": "",
       "version_major": 2,
       "version_minor": 0
      },
      "text/plain": [
       "HBox(children=(HTML(value='n_features loop'), FloatProgress(value=0.0, max=2.0), HTML(value='')))"
      ]
     },
     "metadata": {},
     "output_type": "display_data"
    },
    {
     "data": {
      "application/vnd.jupyter.widget-view+json": {
       "model_id": "",
       "version_major": 2,
       "version_minor": 0
      },
      "text/plain": [
       "HBox(children=(HTML(value='n_features loop'), FloatProgress(value=0.0, max=2.0), HTML(value='')))"
      ]
     },
     "metadata": {},
     "output_type": "display_data"
    },
    {
     "data": {
      "application/vnd.jupyter.widget-view+json": {
       "model_id": "",
       "version_major": 2,
       "version_minor": 0
      },
      "text/plain": [
       "HBox(children=(HTML(value='n_features loop'), FloatProgress(value=0.0, max=2.0), HTML(value='')))"
      ]
     },
     "metadata": {},
     "output_type": "display_data"
    },
    {
     "data": {
      "application/vnd.jupyter.widget-view+json": {
       "model_id": "",
       "version_major": 2,
       "version_minor": 0
      },
      "text/plain": [
       "HBox(children=(HTML(value='n_features loop'), FloatProgress(value=0.0, max=2.0), HTML(value='')))"
      ]
     },
     "metadata": {},
     "output_type": "display_data"
    },
    {
     "data": {
      "application/vnd.jupyter.widget-view+json": {
       "model_id": "",
       "version_major": 2,
       "version_minor": 0
      },
      "text/plain": [
       "HBox(children=(HTML(value='n_features loop'), FloatProgress(value=0.0, max=2.0), HTML(value='')))"
      ]
     },
     "metadata": {},
     "output_type": "display_data"
    },
    {
     "data": {
      "application/vnd.jupyter.widget-view+json": {
       "model_id": "",
       "version_major": 2,
       "version_minor": 0
      },
      "text/plain": [
       "HBox(children=(HTML(value='Est loop'), FloatProgress(value=0.0, max=10.0), HTML(value='')))"
      ]
     },
     "metadata": {},
     "output_type": "display_data"
    },
    {
     "data": {
      "application/vnd.jupyter.widget-view+json": {
       "model_id": "",
       "version_major": 2,
       "version_minor": 0
      },
      "text/plain": [
       "HBox(children=(HTML(value='n_features loop'), FloatProgress(value=0.0, max=2.0), HTML(value='')))"
      ]
     },
     "metadata": {},
     "output_type": "display_data"
    },
    {
     "data": {
      "application/vnd.jupyter.widget-view+json": {
       "model_id": "",
       "version_major": 2,
       "version_minor": 0
      },
      "text/plain": [
       "HBox(children=(HTML(value='n_features loop'), FloatProgress(value=0.0, max=2.0), HTML(value='')))"
      ]
     },
     "metadata": {},
     "output_type": "display_data"
    },
    {
     "data": {
      "application/vnd.jupyter.widget-view+json": {
       "model_id": "",
       "version_major": 2,
       "version_minor": 0
      },
      "text/plain": [
       "HBox(children=(HTML(value='n_features loop'), FloatProgress(value=0.0, max=2.0), HTML(value='')))"
      ]
     },
     "metadata": {},
     "output_type": "display_data"
    },
    {
     "data": {
      "application/vnd.jupyter.widget-view+json": {
       "model_id": "",
       "version_major": 2,
       "version_minor": 0
      },
      "text/plain": [
       "HBox(children=(HTML(value='n_features loop'), FloatProgress(value=0.0, max=2.0), HTML(value='')))"
      ]
     },
     "metadata": {},
     "output_type": "display_data"
    },
    {
     "data": {
      "application/vnd.jupyter.widget-view+json": {
       "model_id": "",
       "version_major": 2,
       "version_minor": 0
      },
      "text/plain": [
       "HBox(children=(HTML(value='n_features loop'), FloatProgress(value=0.0, max=2.0), HTML(value='')))"
      ]
     },
     "metadata": {},
     "output_type": "display_data"
    },
    {
     "data": {
      "application/vnd.jupyter.widget-view+json": {
       "model_id": "",
       "version_major": 2,
       "version_minor": 0
      },
      "text/plain": [
       "HBox(children=(HTML(value='n_features loop'), FloatProgress(value=0.0, max=2.0), HTML(value='')))"
      ]
     },
     "metadata": {},
     "output_type": "display_data"
    },
    {
     "data": {
      "application/vnd.jupyter.widget-view+json": {
       "model_id": "",
       "version_major": 2,
       "version_minor": 0
      },
      "text/plain": [
       "HBox(children=(HTML(value='n_features loop'), FloatProgress(value=0.0, max=2.0), HTML(value='')))"
      ]
     },
     "metadata": {},
     "output_type": "display_data"
    },
    {
     "data": {
      "application/vnd.jupyter.widget-view+json": {
       "model_id": "",
       "version_major": 2,
       "version_minor": 0
      },
      "text/plain": [
       "HBox(children=(HTML(value='n_features loop'), FloatProgress(value=0.0, max=2.0), HTML(value='')))"
      ]
     },
     "metadata": {},
     "output_type": "display_data"
    },
    {
     "data": {
      "application/vnd.jupyter.widget-view+json": {
       "model_id": "",
       "version_major": 2,
       "version_minor": 0
      },
      "text/plain": [
       "HBox(children=(HTML(value='n_features loop'), FloatProgress(value=0.0, max=2.0), HTML(value='')))"
      ]
     },
     "metadata": {},
     "output_type": "display_data"
    },
    {
     "data": {
      "application/vnd.jupyter.widget-view+json": {
       "model_id": "",
       "version_major": 2,
       "version_minor": 0
      },
      "text/plain": [
       "HBox(children=(HTML(value='n_features loop'), FloatProgress(value=0.0, max=2.0), HTML(value='')))"
      ]
     },
     "metadata": {},
     "output_type": "display_data"
    },
    {
     "data": {
      "application/vnd.jupyter.widget-view+json": {
       "model_id": "",
       "version_major": 2,
       "version_minor": 0
      },
      "text/plain": [
       "HBox(children=(HTML(value='Est loop'), FloatProgress(value=0.0, max=10.0), HTML(value='')))"
      ]
     },
     "metadata": {},
     "output_type": "display_data"
    },
    {
     "data": {
      "application/vnd.jupyter.widget-view+json": {
       "model_id": "",
       "version_major": 2,
       "version_minor": 0
      },
      "text/plain": [
       "HBox(children=(HTML(value='n_features loop'), FloatProgress(value=0.0, max=2.0), HTML(value='')))"
      ]
     },
     "metadata": {},
     "output_type": "display_data"
    },
    {
     "data": {
      "application/vnd.jupyter.widget-view+json": {
       "model_id": "",
       "version_major": 2,
       "version_minor": 0
      },
      "text/plain": [
       "HBox(children=(HTML(value='n_features loop'), FloatProgress(value=0.0, max=2.0), HTML(value='')))"
      ]
     },
     "metadata": {},
     "output_type": "display_data"
    },
    {
     "data": {
      "application/vnd.jupyter.widget-view+json": {
       "model_id": "",
       "version_major": 2,
       "version_minor": 0
      },
      "text/plain": [
       "HBox(children=(HTML(value='n_features loop'), FloatProgress(value=0.0, max=2.0), HTML(value='')))"
      ]
     },
     "metadata": {},
     "output_type": "display_data"
    },
    {
     "data": {
      "application/vnd.jupyter.widget-view+json": {
       "model_id": "",
       "version_major": 2,
       "version_minor": 0
      },
      "text/plain": [
       "HBox(children=(HTML(value='n_features loop'), FloatProgress(value=0.0, max=2.0), HTML(value='')))"
      ]
     },
     "metadata": {},
     "output_type": "display_data"
    },
    {
     "data": {
      "application/vnd.jupyter.widget-view+json": {
       "model_id": "",
       "version_major": 2,
       "version_minor": 0
      },
      "text/plain": [
       "HBox(children=(HTML(value='n_features loop'), FloatProgress(value=0.0, max=2.0), HTML(value='')))"
      ]
     },
     "metadata": {},
     "output_type": "display_data"
    },
    {
     "data": {
      "application/vnd.jupyter.widget-view+json": {
       "model_id": "",
       "version_major": 2,
       "version_minor": 0
      },
      "text/plain": [
       "HBox(children=(HTML(value='n_features loop'), FloatProgress(value=0.0, max=2.0), HTML(value='')))"
      ]
     },
     "metadata": {},
     "output_type": "display_data"
    },
    {
     "data": {
      "application/vnd.jupyter.widget-view+json": {
       "model_id": "",
       "version_major": 2,
       "version_minor": 0
      },
      "text/plain": [
       "HBox(children=(HTML(value='n_features loop'), FloatProgress(value=0.0, max=2.0), HTML(value='')))"
      ]
     },
     "metadata": {},
     "output_type": "display_data"
    },
    {
     "data": {
      "application/vnd.jupyter.widget-view+json": {
       "model_id": "",
       "version_major": 2,
       "version_minor": 0
      },
      "text/plain": [
       "HBox(children=(HTML(value='n_features loop'), FloatProgress(value=0.0, max=2.0), HTML(value='')))"
      ]
     },
     "metadata": {},
     "output_type": "display_data"
    },
    {
     "data": {
      "application/vnd.jupyter.widget-view+json": {
       "model_id": "",
       "version_major": 2,
       "version_minor": 0
      },
      "text/plain": [
       "HBox(children=(HTML(value='n_features loop'), FloatProgress(value=0.0, max=2.0), HTML(value='')))"
      ]
     },
     "metadata": {},
     "output_type": "display_data"
    },
    {
     "data": {
      "application/vnd.jupyter.widget-view+json": {
       "model_id": "",
       "version_major": 2,
       "version_minor": 0
      },
      "text/plain": [
       "HBox(children=(HTML(value='n_features loop'), FloatProgress(value=0.0, max=2.0), HTML(value='')))"
      ]
     },
     "metadata": {},
     "output_type": "display_data"
    },
    {
     "data": {
      "application/vnd.jupyter.widget-view+json": {
       "model_id": "",
       "version_major": 2,
       "version_minor": 0
      },
      "text/plain": [
       "HBox(children=(HTML(value='Est loop'), FloatProgress(value=0.0, max=10.0), HTML(value='')))"
      ]
     },
     "metadata": {},
     "output_type": "display_data"
    },
    {
     "data": {
      "application/vnd.jupyter.widget-view+json": {
       "model_id": "",
       "version_major": 2,
       "version_minor": 0
      },
      "text/plain": [
       "HBox(children=(HTML(value='n_features loop'), FloatProgress(value=0.0, max=2.0), HTML(value='')))"
      ]
     },
     "metadata": {},
     "output_type": "display_data"
    },
    {
     "data": {
      "application/vnd.jupyter.widget-view+json": {
       "model_id": "",
       "version_major": 2,
       "version_minor": 0
      },
      "text/plain": [
       "HBox(children=(HTML(value='n_features loop'), FloatProgress(value=0.0, max=2.0), HTML(value='')))"
      ]
     },
     "metadata": {},
     "output_type": "display_data"
    },
    {
     "data": {
      "application/vnd.jupyter.widget-view+json": {
       "model_id": "",
       "version_major": 2,
       "version_minor": 0
      },
      "text/plain": [
       "HBox(children=(HTML(value='n_features loop'), FloatProgress(value=0.0, max=2.0), HTML(value='')))"
      ]
     },
     "metadata": {},
     "output_type": "display_data"
    },
    {
     "data": {
      "application/vnd.jupyter.widget-view+json": {
       "model_id": "",
       "version_major": 2,
       "version_minor": 0
      },
      "text/plain": [
       "HBox(children=(HTML(value='n_features loop'), FloatProgress(value=0.0, max=2.0), HTML(value='')))"
      ]
     },
     "metadata": {},
     "output_type": "display_data"
    },
    {
     "data": {
      "application/vnd.jupyter.widget-view+json": {
       "model_id": "",
       "version_major": 2,
       "version_minor": 0
      },
      "text/plain": [
       "HBox(children=(HTML(value='n_features loop'), FloatProgress(value=0.0, max=2.0), HTML(value='')))"
      ]
     },
     "metadata": {},
     "output_type": "display_data"
    },
    {
     "data": {
      "application/vnd.jupyter.widget-view+json": {
       "model_id": "",
       "version_major": 2,
       "version_minor": 0
      },
      "text/plain": [
       "HBox(children=(HTML(value='n_features loop'), FloatProgress(value=0.0, max=2.0), HTML(value='')))"
      ]
     },
     "metadata": {},
     "output_type": "display_data"
    },
    {
     "data": {
      "application/vnd.jupyter.widget-view+json": {
       "model_id": "",
       "version_major": 2,
       "version_minor": 0
      },
      "text/plain": [
       "HBox(children=(HTML(value='n_features loop'), FloatProgress(value=0.0, max=2.0), HTML(value='')))"
      ]
     },
     "metadata": {},
     "output_type": "display_data"
    },
    {
     "data": {
      "application/vnd.jupyter.widget-view+json": {
       "model_id": "",
       "version_major": 2,
       "version_minor": 0
      },
      "text/plain": [
       "HBox(children=(HTML(value='n_features loop'), FloatProgress(value=0.0, max=2.0), HTML(value='')))"
      ]
     },
     "metadata": {},
     "output_type": "display_data"
    },
    {
     "data": {
      "application/vnd.jupyter.widget-view+json": {
       "model_id": "",
       "version_major": 2,
       "version_minor": 0
      },
      "text/plain": [
       "HBox(children=(HTML(value='n_features loop'), FloatProgress(value=0.0, max=2.0), HTML(value='')))"
      ]
     },
     "metadata": {},
     "output_type": "display_data"
    },
    {
     "data": {
      "application/vnd.jupyter.widget-view+json": {
       "model_id": "",
       "version_major": 2,
       "version_minor": 0
      },
      "text/plain": [
       "HBox(children=(HTML(value='n_features loop'), FloatProgress(value=0.0, max=2.0), HTML(value='')))"
      ]
     },
     "metadata": {},
     "output_type": "display_data"
    },
    {
     "data": {
      "application/vnd.jupyter.widget-view+json": {
       "model_id": "",
       "version_major": 2,
       "version_minor": 0
      },
      "text/plain": [
       "HBox(children=(HTML(value='Est loop'), FloatProgress(value=0.0, max=10.0), HTML(value='')))"
      ]
     },
     "metadata": {},
     "output_type": "display_data"
    },
    {
     "data": {
      "application/vnd.jupyter.widget-view+json": {
       "model_id": "",
       "version_major": 2,
       "version_minor": 0
      },
      "text/plain": [
       "HBox(children=(HTML(value='n_features loop'), FloatProgress(value=0.0, max=2.0), HTML(value='')))"
      ]
     },
     "metadata": {},
     "output_type": "display_data"
    },
    {
     "data": {
      "application/vnd.jupyter.widget-view+json": {
       "model_id": "",
       "version_major": 2,
       "version_minor": 0
      },
      "text/plain": [
       "HBox(children=(HTML(value='n_features loop'), FloatProgress(value=0.0, max=2.0), HTML(value='')))"
      ]
     },
     "metadata": {},
     "output_type": "display_data"
    },
    {
     "data": {
      "application/vnd.jupyter.widget-view+json": {
       "model_id": "",
       "version_major": 2,
       "version_minor": 0
      },
      "text/plain": [
       "HBox(children=(HTML(value='n_features loop'), FloatProgress(value=0.0, max=2.0), HTML(value='')))"
      ]
     },
     "metadata": {},
     "output_type": "display_data"
    },
    {
     "data": {
      "application/vnd.jupyter.widget-view+json": {
       "model_id": "",
       "version_major": 2,
       "version_minor": 0
      },
      "text/plain": [
       "HBox(children=(HTML(value='n_features loop'), FloatProgress(value=0.0, max=2.0), HTML(value='')))"
      ]
     },
     "metadata": {},
     "output_type": "display_data"
    },
    {
     "data": {
      "application/vnd.jupyter.widget-view+json": {
       "model_id": "",
       "version_major": 2,
       "version_minor": 0
      },
      "text/plain": [
       "HBox(children=(HTML(value='n_features loop'), FloatProgress(value=0.0, max=2.0), HTML(value='')))"
      ]
     },
     "metadata": {},
     "output_type": "display_data"
    },
    {
     "data": {
      "application/vnd.jupyter.widget-view+json": {
       "model_id": "",
       "version_major": 2,
       "version_minor": 0
      },
      "text/plain": [
       "HBox(children=(HTML(value='n_features loop'), FloatProgress(value=0.0, max=2.0), HTML(value='')))"
      ]
     },
     "metadata": {},
     "output_type": "display_data"
    },
    {
     "data": {
      "application/vnd.jupyter.widget-view+json": {
       "model_id": "",
       "version_major": 2,
       "version_minor": 0
      },
      "text/plain": [
       "HBox(children=(HTML(value='n_features loop'), FloatProgress(value=0.0, max=2.0), HTML(value='')))"
      ]
     },
     "metadata": {},
     "output_type": "display_data"
    },
    {
     "data": {
      "application/vnd.jupyter.widget-view+json": {
       "model_id": "",
       "version_major": 2,
       "version_minor": 0
      },
      "text/plain": [
       "HBox(children=(HTML(value='n_features loop'), FloatProgress(value=0.0, max=2.0), HTML(value='')))"
      ]
     },
     "metadata": {},
     "output_type": "display_data"
    },
    {
     "data": {
      "application/vnd.jupyter.widget-view+json": {
       "model_id": "",
       "version_major": 2,
       "version_minor": 0
      },
      "text/plain": [
       "HBox(children=(HTML(value='n_features loop'), FloatProgress(value=0.0, max=2.0), HTML(value='')))"
      ]
     },
     "metadata": {},
     "output_type": "display_data"
    },
    {
     "data": {
      "application/vnd.jupyter.widget-view+json": {
       "model_id": "",
       "version_major": 2,
       "version_minor": 0
      },
      "text/plain": [
       "HBox(children=(HTML(value='n_features loop'), FloatProgress(value=0.0, max=2.0), HTML(value='')))"
      ]
     },
     "metadata": {},
     "output_type": "display_data"
    },
    {
     "name": "stdout",
     "output_type": "stream",
     "text": [
      "\n"
     ]
    }
   ],
   "source": [
    "new_best_model_tree = None\n",
    "new_best_result_tree = 0\n",
    "for depth in tqdm(range(1, 15), desc='Depth loop'):\n",
    "    for n_est in tqdm(range(10, 101, 10), desc='Est loop', leave=False):\n",
    "        for n_features in tqdm(['log2', 'sqrt'], desc='n_features loop', leave=False):\n",
    "            model = RandomForestClassifier(random_state=5, n_estimators=n_est, max_features=n_features, max_depth=depth)\n",
    "            model.fit(new_features_train, new_target_train) \n",
    "            valid_predictions_tree = model.predict(new_features_valid) \n",
    "            result = model.score(new_features_valid, new_target_valid)    \n",
    "            if result > new_best_result_tree:\n",
    "                new_best_model_tree = model\n",
    "                new_best_result_tree = result"
   ]
  },
  {
   "cell_type": "code",
   "execution_count": 30,
   "metadata": {},
   "outputs": [
    {
     "name": "stdout",
     "output_type": "stream",
     "text": [
      "\"accuracy\" наилучшей модели на валидационной выборке:\n",
      "0.8195956454121306\n",
      "Параметры лучшей модели:\n",
      "RandomForestClassifier(bootstrap=True, class_weight=None, criterion='gini',\n",
      "                       max_depth=12, max_features='log2', max_leaf_nodes=None,\n",
      "                       min_impurity_decrease=0.0, min_impurity_split=None,\n",
      "                       min_samples_leaf=1, min_samples_split=2,\n",
      "                       min_weight_fraction_leaf=0.0, n_estimators=80,\n",
      "                       n_jobs=None, oob_score=False, random_state=5, verbose=0,\n",
      "                       warm_start=False)\n"
     ]
    }
   ],
   "source": [
    "print('\"accuracy\" наилучшей модели на валидационной выборке:', new_best_result_tree, \n",
    "      \"Параметры лучшей модели:\", new_best_model_tree, sep='\\n') "
   ]
  },
  {
   "cell_type": "markdown",
   "metadata": {},
   "source": [
    "Итого у нас получается:\n",
    "- \"accuracy\" наилучшей модели на валидационной выборке = 0.8195956454121306\n",
    "\n",
    "Параметры лучшей модели:\n",
    "- criterion='gini'\n",
    "- max_depth=12\n",
    "- max_features='log2'\n",
    "- min_samples_leaf=1\n",
    "- min_samples_split=2,\n",
    "- n_estimators=80,\n",
    "- random_state=5"
   ]
  },
  {
   "cell_type": "markdown",
   "metadata": {},
   "source": [
    "### Модель \"Логистическая регрессия\""
   ]
  },
  {
   "cell_type": "code",
   "execution_count": 31,
   "metadata": {},
   "outputs": [],
   "source": [
    "model_logistic = LogisticRegression(solver='liblinear',random_state=5)\n",
    "model_logistic.fit(features_train, target_train)\n",
    "result_logistic = model_logistic.score(features_valid,target_valid)"
   ]
  },
  {
   "cell_type": "code",
   "execution_count": 32,
   "metadata": {},
   "outputs": [
    {
     "name": "stdout",
     "output_type": "stream",
     "text": [
      "accuracy: 0.6982892690513219\n"
     ]
    }
   ],
   "source": [
    "print('accuracy:',result_logistic)"
   ]
  },
  {
   "cell_type": "markdown",
   "metadata": {},
   "source": [
    "Обучение прошло! Модель не переобучается. Качество модели \"Логистическая регрессия\"= 0.69. Самое низкое качество!"
   ]
  },
  {
   "cell_type": "markdown",
   "metadata": {},
   "source": [
    "Обучим модель на новом датасете:"
   ]
  },
  {
   "cell_type": "code",
   "execution_count": 33,
   "metadata": {},
   "outputs": [],
   "source": [
    "new_model_logistic = LogisticRegression(solver='liblinear',random_state=5)\n",
    "new_model_logistic.fit(new_features_train, new_target_train)\n",
    "new_result_logistic = new_model_logistic.score(new_features_valid,new_target_valid)"
   ]
  },
  {
   "cell_type": "code",
   "execution_count": 34,
   "metadata": {},
   "outputs": [
    {
     "name": "stdout",
     "output_type": "stream",
     "text": [
      "accuracy: 0.702954898911353\n"
     ]
    }
   ],
   "source": [
    "print('accuracy:',new_result_logistic)"
   ]
  },
  {
   "cell_type": "markdown",
   "metadata": {},
   "source": [
    "### Вывод"
   ]
  },
  {
   "cell_type": "markdown",
   "metadata": {},
   "source": [
    "Обучая три разные модели были полученны лучшие метрики качества:\n",
    "\n",
    "Датасет df:\n",
    "- **Качество модели \"Решающее дерево\"** \n",
    "   - \"accuracy\" наилучшей модели на валидационной выборке = 0.7978227060653188\n",
    "   - Параметры лучшей модели:\n",
    "      - criterion='entropy'\n",
    "      - max_depth=10\n",
    "      - min_samples_leaf=11\n",
    "      - min_samples_split=2,\n",
    "      - random_state=5\n",
    "      - splitter='best'\n",
    "- **Качество модели \"Случайный лес\"**\n",
    "   - \"accuracy\" наилучшей модели на валидационной выборке = 0.8133748055987559\n",
    "   - Параметры лучшей модели:\n",
    "      - criterion='gini'\n",
    "      - max_depth=12\n",
    "      - max_features='log2'\n",
    "      - min_samples_leaf=1\n",
    "      - min_samples_split=2,\n",
    "      - n_estimators=30,\n",
    "      - random_state=5\n",
    "- **Качество модели \"Логистическая регрессия\"**: \n",
    "   - \"accuracy\" наилучшей модели на валидационной выборке = 0.69 (Самое низкое качество!)\n",
    "   \n",
    "Датасет df_new:\n",
    "- **Качество модели \"Решающее дерево\"** \n",
    "   - \"accuracy\" наилучшей модели на валидационной выборке = 0.7962674961119751\n",
    "   - Параметры лучшей модели:\n",
    "      - criterion='entropy'\n",
    "      - max_depth=8\n",
    "      - min_samples_leaf=1\n",
    "      - min_samples_split=2,\n",
    "      - random_state=5\n",
    "      - splitter='best'\n",
    "      Итого у нас получается:\n",
    "- **Качество модели \"Случайный лес\"**\n",
    "   - \"accuracy\" наилучшей модели на валидационной выборке = 0.8195956454121306\n",
    "   - Параметры лучшей модели:\n",
    "      - criterion='gini'\n",
    "      - max_depth=12\n",
    "      - max_features='log2'\n",
    "      - min_samples_leaf=1\n",
    "      - min_samples_split=2,\n",
    "      - n_estimators=80,\n",
    "      - random_state=5\n",
    "- **Качество модели \"Логистическая регрессия\"**: \n",
    "   - \"accuracy\" наилучшей модели на валидационной выборке = 0.70 (Самое низкое качество!)"
   ]
  },
  {
   "cell_type": "markdown",
   "metadata": {},
   "source": [
    "## Проверьте модель на тестовой выборке"
   ]
  },
  {
   "cell_type": "markdown",
   "metadata": {},
   "source": [
    "Объединяем датасеты для того чтобы у нас было больше данных для обучения:"
   ]
  },
  {
   "cell_type": "code",
   "execution_count": 35,
   "metadata": {},
   "outputs": [],
   "source": [
    "df_features = pd.concat([features_train, features_valid], ignore_index=True)\n",
    "df_target = pd.concat([target_train, target_valid], ignore_index=True)"
   ]
  },
  {
   "cell_type": "code",
   "execution_count": 36,
   "metadata": {},
   "outputs": [],
   "source": [
    "df_new_features = pd.concat([new_features_train, new_features_valid], ignore_index=True)\n",
    "df_new_target = pd.concat([new_target_train, new_target_valid], ignore_index=True)"
   ]
  },
  {
   "cell_type": "markdown",
   "metadata": {},
   "source": [
    "### Тестирование данных на модели \"Решающее дерево\":"
   ]
  },
  {
   "cell_type": "markdown",
   "metadata": {},
   "source": [
    "Рассмотрим датасет df. Задаем гиперпараметры max_depth=10, min_samples_leaf = 11, criterion = \"entropy\":"
   ]
  },
  {
   "cell_type": "code",
   "execution_count": 37,
   "metadata": {},
   "outputs": [],
   "source": [
    "model_tree = DecisionTreeClassifier(random_state=5, max_depth=10, min_samples_leaf = 11, criterion = \"entropy\")\n",
    "model_tree.fit(df_features, df_target) \n",
    "test_predictions_tree = model_tree.predict(features_test) \n",
    "tree_accuracy = accuracy_score(target_test, test_predictions_tree)"
   ]
  },
  {
   "cell_type": "code",
   "execution_count": 38,
   "metadata": {},
   "outputs": [
    {
     "name": "stdout",
     "output_type": "stream",
     "text": [
      "Параметр accuracy при использовании метода дерево решений на тестовой выборке составил - 0.7776049766718507\n"
     ]
    }
   ],
   "source": [
    "print('Параметр accuracy при использовании метода '\n",
    "      'дерево решений на тестовой выборке составил -', tree_accuracy)"
   ]
  },
  {
   "cell_type": "markdown",
   "metadata": {},
   "source": [
    "Рассмотрим датасет df_new. Задаем гиперпараметры max_depth=8, min_samples_leaf = 1, criterion = \"entropy\":"
   ]
  },
  {
   "cell_type": "code",
   "execution_count": 39,
   "metadata": {},
   "outputs": [],
   "source": [
    "new_model_tree = DecisionTreeClassifier(random_state=5, max_depth=10, min_samples_leaf = 11, criterion = \"entropy\")\n",
    "new_model_tree.fit(df_new_features, df_new_target) \n",
    "new_test_predictions_tree = new_model_tree.predict(new_features_test) \n",
    "new_tree_accuracy = accuracy_score(new_target_test, new_test_predictions_tree)"
   ]
  },
  {
   "cell_type": "code",
   "execution_count": 40,
   "metadata": {},
   "outputs": [
    {
     "name": "stdout",
     "output_type": "stream",
     "text": [
      "Параметр accuracy при использовании метода дерево решений на тестовой выборке составил - 0.7853810264385692\n"
     ]
    }
   ],
   "source": [
    "print('Параметр accuracy при использовании метода '\n",
    "      'дерево решений на тестовой выборке составил -', new_tree_accuracy)"
   ]
  },
  {
   "cell_type": "markdown",
   "metadata": {},
   "source": [
    "Для оценки качества работы алгоритма на каждом из классов рассмотрим метрики precision (точность) и recall (полнота):"
   ]
  },
  {
   "cell_type": "markdown",
   "metadata": {},
   "source": [
    "Матрица ошибок:\n",
    "- таблица, которая часто используется для описания эффективности модели классификации (или «классификатора») на наборе тестовых данных, для которых известны истинные значения. Визуализируем ее через Seaborn.\n",
    "\n",
    "Вычисление матрицы ошибок может дать нам лучшее представление о том, что делает наша классификационная модель правильно и какие ошибки она допускает:"
   ]
  },
  {
   "cell_type": "code",
   "execution_count": 41,
   "metadata": {},
   "outputs": [
    {
     "data": {
      "image/png": "[encoded data removed]",
      "text/plain": [
       "<Figure size 648x648 with 2 Axes>"
      ]
     },
     "metadata": {
      "needs_background": "light"
     },
     "output_type": "display_data"
    }
   ],
   "source": [
    "cm = metrics.confusion_matrix(target_test, test_predictions_tree)\n",
    "plt.figure(figsize=(9,9))\n",
    "sns.heatmap(cm, annot=True, fmt=\".3f\", linewidths=.5, square = True, cmap = 'Blues_r');\n",
    "plt.ylabel('Actual label');\n",
    "plt.xlabel('Predicted label');\n",
    "all_sample_title = 'Accuracy Score: {0}'.format(tree_accuracy)\n",
    "plt.title(all_sample_title, size = 15)\n",
    "plt.show()"
   ]
  },
  {
   "cell_type": "markdown",
   "metadata": {},
   "source": [
    "Правильные значения расположены по диагонали от левого верхнего до правого нижнего угла матрицы (406 + 94).\n",
    "\n",
    "Больше ошибок было сделано при прогнозировании тарифа Ультра как тарифа Смарт, чем при прогнозировании тарифа Смарт как тарифа Ультра."
   ]
  },
  {
   "cell_type": "markdown",
   "metadata": {},
   "source": [
    "### Тестирование данных на модели \"Случайный лес\":"
   ]
  },
  {
   "cell_type": "markdown",
   "metadata": {},
   "source": [
    "Рассмотрим датасет df. Задаем гиперпараметры n_estimators=30, max_depth=12, min_samples_leaf=1:"
   ]
  },
  {
   "cell_type": "code",
   "execution_count": 42,
   "metadata": {},
   "outputs": [],
   "source": [
    "model_forest = RandomForestClassifier(random_state=5, n_estimators=30, max_depth=12, min_samples_leaf=1)\n",
    "model_forest.fit(df_features, df_target) \n",
    "test_predictions_forest = model_forest.predict(features_test) \n",
    "forest_accuracy = accuracy_score(target_test, test_predictions_forest)"
   ]
  },
  {
   "cell_type": "code",
   "execution_count": 43,
   "metadata": {},
   "outputs": [
    {
     "name": "stdout",
     "output_type": "stream",
     "text": [
      "Параметр accuracy при использовании метода случайный лес на тестовой выборке составил - 0.8133748055987559\n"
     ]
    }
   ],
   "source": [
    "print('Параметр accuracy при использовании метода '\n",
    "      'случайный лес на тестовой выборке составил -', forest_accuracy)"
   ]
  },
  {
   "cell_type": "markdown",
   "metadata": {},
   "source": [
    "Рассмотрим датасет df_new. Задаем гиперпараметры n_estimators=80, max_depth=12, min_samples_leaf=1:"
   ]
  },
  {
   "cell_type": "code",
   "execution_count": 44,
   "metadata": {},
   "outputs": [],
   "source": [
    "new_model_forest = RandomForestClassifier(random_state=5, n_estimators=80, max_depth=12, min_samples_leaf=1)\n",
    "new_model_forest.fit(df_new_features, df_new_target) \n",
    "new_test_predictions_forest = new_model_forest.predict(new_features_test) \n",
    "new_forest_accuracy = accuracy_score(new_target_test, new_test_predictions_forest)"
   ]
  },
  {
   "cell_type": "code",
   "execution_count": 45,
   "metadata": {},
   "outputs": [
    {
     "name": "stdout",
     "output_type": "stream",
     "text": [
      "Параметр accuracy при использовании метода случайный лес на тестовой выборке составил - 0.8211508553654744\n"
     ]
    }
   ],
   "source": [
    "print('Параметр accuracy при использовании метода '\n",
    "      'случайный лес на тестовой выборке составил -', new_forest_accuracy)"
   ]
  },
  {
   "cell_type": "markdown",
   "metadata": {},
   "source": [
    "Матрица ошибок:"
   ]
  },
  {
   "cell_type": "code",
   "execution_count": 46,
   "metadata": {},
   "outputs": [
    {
     "data": {
      "image/png": "[encoded data removed]",
      "text/plain": [
       "<Figure size 648x648 with 2 Axes>"
      ]
     },
     "metadata": {
      "needs_background": "light"
     },
     "output_type": "display_data"
    }
   ],
   "source": [
    "cm = metrics.confusion_matrix(target_test, test_predictions_forest)\n",
    "plt.figure(figsize=(9,9))\n",
    "sns.heatmap(cm, annot=True, fmt=\".3f\", linewidths=.5, square = True, cmap = 'Blues_r');\n",
    "plt.ylabel('Actual label');\n",
    "plt.xlabel('Predicted label');\n",
    "all_sample_title = 'Accuracy Score: {0}'.format(forest_accuracy)\n",
    "plt.title(all_sample_title, size = 15);\n",
    "plt.show()"
   ]
  },
  {
   "cell_type": "markdown",
   "metadata": {},
   "source": [
    "Тут также правильные значения расположены по диагонали от левого верхнего до правого нижнего угла матрицы (417 + 106).\n",
    "\n",
    "Больше ошибок было сделано при прогнозировании тарифа Ультра как тарифа Смарт, чем при прогнозировании тарифа Смарт как тарифа Ультра."
   ]
  },
  {
   "cell_type": "markdown",
   "metadata": {},
   "source": [
    "### Тестирование данных на модели \"Логистическая регрессия\":"
   ]
  },
  {
   "cell_type": "code",
   "execution_count": 47,
   "metadata": {},
   "outputs": [],
   "source": [
    "model_logistic = LogisticRegression(solver='liblinear',random_state=5)\n",
    "model_logistic.fit(df_features, df_target)\n",
    "prediction_logistic = model_logistic.predict(features_test)\n",
    "model_logistic_result = model_logistic.score(features_test, target_test)"
   ]
  },
  {
   "cell_type": "code",
   "execution_count": 48,
   "metadata": {},
   "outputs": [
    {
     "name": "stdout",
     "output_type": "stream",
     "text": [
      "Параметр accuracy при использовании метода дерево решений на тестовой выборке составил - 0.7013996889580093\n"
     ]
    }
   ],
   "source": [
    "print('Параметр accuracy при использовании метода '\n",
    "      'дерево решений на тестовой выборке составил -', model_logistic_result)"
   ]
  },
  {
   "cell_type": "code",
   "execution_count": 49,
   "metadata": {},
   "outputs": [],
   "source": [
    "new_model_logistic = LogisticRegression(solver='liblinear',random_state=5)\n",
    "new_model_logistic.fit(df_new_features, df_new_target)\n",
    "new_prediction_logistic = new_model_logistic.predict(new_features_test)\n",
    "new_model_logistic_result = new_model_logistic.score(new_features_test, new_target_test)"
   ]
  },
  {
   "cell_type": "code",
   "execution_count": 50,
   "metadata": {},
   "outputs": [
    {
     "name": "stdout",
     "output_type": "stream",
     "text": [
      "Параметр accuracy при использовании метода дерево решений на тестовой выборке составил - 0.7013996889580093\n"
     ]
    }
   ],
   "source": [
    "print('Параметр accuracy при использовании метода '\n",
    "      'дерево решений на тестовой выборке составил -', new_model_logistic_result)"
   ]
  },
  {
   "cell_type": "markdown",
   "metadata": {},
   "source": [
    "Матрица ошибок:"
   ]
  },
  {
   "cell_type": "code",
   "execution_count": 51,
   "metadata": {},
   "outputs": [
    {
     "data": {
      "image/png": "[encoded data removed]",
      "text/plain": [
       "<Figure size 648x648 with 2 Axes>"
      ]
     },
     "metadata": {
      "needs_background": "light"
     },
     "output_type": "display_data"
    }
   ],
   "source": [
    "cm = metrics.confusion_matrix(target_test, prediction_logistic)\n",
    "plt.figure(figsize=(9,9))\n",
    "sns.heatmap(cm, annot=True, fmt=\".3f\", linewidths=.5, square = True, cmap = 'Blues_r');\n",
    "plt.ylabel('Actual label');\n",
    "plt.xlabel('Predicted label');\n",
    "all_sample_title = 'Accuracy Score: {0}'.format(model_logistic_result)\n",
    "plt.title(all_sample_title, size = 15);\n",
    "plt.show()"
   ]
  },
  {
   "cell_type": "markdown",
   "metadata": {},
   "source": [
    "Очевидно, что модель хорошо предсказывает тариф \"Смарт\" и очень плохо предсказывает тариф \"Ультра\"."
   ]
  },
  {
   "cell_type": "markdown",
   "metadata": {},
   "source": [
    "## Вывод"
   ]
  },
  {
   "cell_type": "markdown",
   "metadata": {},
   "source": [
    "Мы проверяли 3 настроенных модели и получили следующие данные:\n",
    "\n",
    "- \"Решающее дерево\" - \"accuracy\" наилучшей модели на тестовой выборке: 0.77760497667185 и 0.78538102643856(df_new)\n",
    "- \"Случайный лес\" - \"accuracy\" наилучшей модели на тестовой выборке: 0.813374805598755 и 0.821150855365474 (df_new)\n",
    "- \"Логическая регрессия\" - a\"accuracy\" наилучшей модели на тестовой выборке - 0.70139968895800 и 0.70139968895800 (df_new)\n",
    "\n",
    "Итого мы получаем, что самая точная модель на тестовой выборке - \"Случайный лес\"\n",
    "\n",
    "Мы получили точность больше 0.75, а так же проверили на матрице ошибок в каких местах больше всего ошибается модель."
   ]
  },
  {
   "cell_type": "markdown",
   "metadata": {},
   "source": [
    "## (бонус) Проверьте модели на адекватность"
   ]
  },
  {
   "cell_type": "markdown",
   "metadata": {},
   "source": [
    "Для проверки наших 3-х моделей сравним их со стандартной готовым классификатором для обучения DummyClassifier. Эта простейшая модель которую можно построить в начале работы, она предсказывает наиболее часто встречающийся класс. Так мы получим контрольные данные для сравнительной оценки построенной нами более сложной модели:"
   ]
  },
  {
   "cell_type": "code",
   "execution_count": 52,
   "metadata": {},
   "outputs": [
    {
     "data": {
      "text/plain": [
       "0.6934647302904564"
      ]
     },
     "execution_count": 52,
     "metadata": {},
     "output_type": "execute_result"
    }
   ],
   "source": [
    "dummy_clf = DummyClassifier(strategy=\"most_frequent\", random_state=5)\n",
    "dummy_clf.fit(features_train, target_train)\n",
    "dummy_clf.score(features_train, target_train)"
   ]
  },
  {
   "cell_type": "markdown",
   "metadata": {},
   "source": [
    "\"accuracy\" базовой модели составило - 0.693, а мы получили на наших настроенных моделях:\n",
    "- Дерево решений - 0.777\n",
    "- Случайный лес - 0.813\n",
    "- Логическая регрессия - 0.701\n",
    "\n",
    "Все 3 наши модели лучше чем базовая"
   ]
  },
  {
   "cell_type": "markdown",
   "metadata": {},
   "source": [
    "## Общий вывод"
   ]
  },
  {
   "cell_type": "markdown",
   "metadata": {},
   "source": [
    "В подготовленном датасете с данными о поведении клиентов, которые уже перешли на тарифы Смарт и Ультра, наша задача состояла в том, чтобы построить модель (классификации), которая выберет подходящий тариф с максимально большим значением accuracy (больше 0.75). Данные уже были подготовлены, поэтому с ними мы ничего не делали.\n",
    "\n",
    "\n",
    "- Мы разбили наши два датафрейма на 6:\n",
    "  * **features_train** - на которых мы будем обучать нашу модель\n",
    "  * **features_valid** - целевой признак обучающей выборки (на нем мы также будем обучать нашу модель)\n",
    "  * **target_train** - на которых мы будем проверять нашу модель (это будет валидационная выборка)\n",
    "  * **target_valid** - целевой признак валидационной выборки\n",
    "  * **features_test** - фичи тестовой модели, которые мы дудем давать нашей обученной модели (с уже настроенными гиперпараметрами)\n",
    "  * **target_test** - целевой признак тестовой выборки (для проверки параметра accuracy)\n",
    "- Из обзора данных можно было увидеть, что среднее целевое отличается от 0.5, т.е присутствует дисбаланс классов. Чтобы при разбиении на выборки сохранять данное соотношение, использовали параметр stratify\n",
    "- У нас получились данные для обучения, валидационная выборка и тестовая выборка.\n",
    "- Обучая три разные модели были полученны лучшие метрики качества:\n",
    "  - Датасет df:\n",
    "    - **Качество модели \"Решающее дерево\"** \n",
    "      - \"accuracy\" наилучшей модели на валидационной выборке = 0.7978227060653188\n",
    "      - Параметры лучшей модели:\n",
    "        - criterion='entropy'\n",
    "        - max_depth=10\n",
    "        - min_samples_leaf=11\n",
    "        - min_samples_split=2,\n",
    "        - random_state=5\n",
    "        - splitter='best'\n",
    "    - **Качество модели \"Случайный лес\"**\n",
    "      - \"accuracy\" наилучшей модели на валидационной выборке = 0.8133748055987559\n",
    "      - Параметры лучшей модели:\n",
    "        - criterion='gini'\n",
    "        - max_depth=12\n",
    "        - max_features='log2'\n",
    "        - min_samples_leaf=1\n",
    "        - min_samples_split=2,\n",
    "        - n_estimators=30,\n",
    "        - random_state=5\n",
    "    - **Качество модели \"Логистическая регрессия\"**: \n",
    "      - \"accuracy\" наилучшей модели на валидационной выборке = 0.69 (Самое низкое качество!)\n",
    "  - Датасет df_new:\n",
    "    - **Качество модели \"Решающее дерево\"** \n",
    "      - \"accuracy\" наилучшей модели на валидационной выборке = 0.7962674961119751\n",
    "      - Параметры лучшей модели:\n",
    "        - criterion='entropy'\n",
    "        - max_depth=8\n",
    "        - min_samples_leaf=1\n",
    "        - min_samples_split=2,\n",
    "        - random_state=5\n",
    "        - splitter='best'\n",
    "    - **Качество модели \"Случайный лес\"**\n",
    "      - \"accuracy\" наилучшей модели на валидационной выборке = 0.8195956454121306\n",
    "      - Параметры лучшей модели:\n",
    "        - criterion='gini'\n",
    "        - max_depth=12\n",
    "        - max_features='log2'\n",
    "        - min_samples_leaf=1\n",
    "        - min_samples_split=2,\n",
    "        - n_estimators=80,\n",
    "        - random_state=5\n",
    "    - **Качество модели \"Логистическая регрессия\"**: \n",
    "      - \"accuracy\" наилучшей модели на валидационной выборке = 0.70 (Самое низкое качество!)\n",
    "- такой точности мы добились меняя гиперпараметры. Например глубину дерева и количество деревьев, минимальное количество выборок, которые должны быть у листа (в случайном лесу).\n",
    "- самая точная модель на валидационной выборке - \"Случайный лес\", у нее самая большая точность\n",
    "- объеденили обучающий и валидационный датасет, для того чтобы у модели было больше данных для обучения и протестировали все наши модели со всеми гиперпараметрами и получили следующие данные:\n",
    "  - \"Решающее дерево\" - \"accuracy\" наилучшей модели на тестовой выборке: 0.77760497667185 и 0.78538102643856(df_new)\n",
    "  - \"Случайный лес\" - \"accuracy\" наилучшей модели на тестовой выборке: 0.813374805598755 и 0.821150855365474 (df_new)\n",
    "  - \"Логическая регрессия\" - a\"accuracy\" наилучшей модели на тестовой выборке - 0.70139968895800 и 0.70139968895800 (df_new)\n",
    "- самая точная модель на тестовой выборке - Случайный лес, у нее самая большая точность. Но нужно также помнить что модель Случайный лес - самая медленная модель.\n",
    "- самая быстрая модель - \"Логическая регрессия\", которая хорошо предсказала признак тариф Смарт, но вот с другим признаком (было меньше данных) справилась очень плохо. В итоге у нее самая маленькая \"accuracy\".\n",
    "- для каждой модели построили матрицу ошибок, чтобы понять какие значения метод находит лучше, а какие хуже. В итоге: там где у нас было меньше данных (тариф Ультра), все методы сработали с маленькой точностью.\n",
    "- проанализировав два датасета df и df_new, можно сделать вывод, что в данном случае удаление столбца 'calls' минимально повлияло на наше исследования и данные получились практически одинаковые. "
   ]
  },
  {
   "cell_type": "code",
   "execution_count": null,
   "metadata": {},
   "outputs": [],
   "source": []
  }
 ],
 "metadata": {
  "ExecuteTimeLog": [
   {
    "duration": 2005,
    "start_time": "2021-09-03T10:20:01.478Z"
   },
   {
    "duration": 2817,
    "start_time": "2021-09-03T10:23:10.133Z"
   },
   {
    "duration": 186,
    "start_time": "2021-09-03T10:24:04.761Z"
   },
   {
    "duration": 23,
    "start_time": "2021-09-03T10:24:35.122Z"
   },
   {
    "duration": 10,
    "start_time": "2021-09-03T10:24:44.630Z"
   },
   {
    "duration": 10,
    "start_time": "2021-09-03T10:43:15.907Z"
   },
   {
    "duration": 5,
    "start_time": "2021-09-03T10:51:54.864Z"
   },
   {
    "duration": 5,
    "start_time": "2021-09-03T10:52:04.896Z"
   },
   {
    "duration": 5,
    "start_time": "2021-09-03T10:52:30.528Z"
   },
   {
    "duration": 5,
    "start_time": "2021-09-03T10:56:35.953Z"
   },
   {
    "duration": 102,
    "start_time": "2021-09-03T10:57:07.214Z"
   },
   {
    "duration": 327,
    "start_time": "2021-09-03T10:57:36.605Z"
   },
   {
    "duration": 12,
    "start_time": "2021-09-03T10:58:02.439Z"
   },
   {
    "duration": 6,
    "start_time": "2021-09-03T10:58:36.140Z"
   },
   {
    "duration": 5,
    "start_time": "2021-09-03T10:59:45.238Z"
   },
   {
    "duration": 5,
    "start_time": "2021-09-03T11:00:34.889Z"
   },
   {
    "duration": 3,
    "start_time": "2021-09-03T11:02:41.470Z"
   },
   {
    "duration": 187,
    "start_time": "2021-09-03T11:03:15.726Z"
   },
   {
    "duration": 2758,
    "start_time": "2021-09-03T11:06:07.084Z"
   },
   {
    "duration": 335,
    "start_time": "2021-09-03T11:44:24.137Z"
   },
   {
    "duration": 340,
    "start_time": "2021-09-03T11:45:53.753Z"
   },
   {
    "duration": 7,
    "start_time": "2021-09-03T11:48:58.392Z"
   },
   {
    "duration": 18,
    "start_time": "2021-09-03T12:26:21.794Z"
   },
   {
    "duration": 17,
    "start_time": "2021-09-03T12:27:12.106Z"
   },
   {
    "duration": 361,
    "start_time": "2021-09-03T12:30:14.029Z"
   },
   {
    "duration": 434,
    "start_time": "2021-09-03T12:32:55.382Z"
   },
   {
    "duration": 5,
    "start_time": "2021-09-03T12:34:08.646Z"
   },
   {
    "duration": 8,
    "start_time": "2021-09-03T12:34:10.539Z"
   },
   {
    "duration": 13,
    "start_time": "2021-09-03T12:34:55.860Z"
   },
   {
    "duration": 7,
    "start_time": "2021-09-03T12:35:00.044Z"
   },
   {
    "duration": 13,
    "start_time": "2021-09-03T12:35:06.275Z"
   },
   {
    "duration": 6,
    "start_time": "2021-09-03T12:35:12.250Z"
   },
   {
    "duration": 7,
    "start_time": "2021-09-03T12:35:20.097Z"
   },
   {
    "duration": 13,
    "start_time": "2021-09-03T12:35:26.713Z"
   },
   {
    "duration": 5,
    "start_time": "2021-09-03T12:35:39.700Z"
   },
   {
    "duration": 5,
    "start_time": "2021-09-03T12:35:42.729Z"
   },
   {
    "duration": 155,
    "start_time": "2021-09-03T12:35:46.630Z"
   },
   {
    "duration": 154,
    "start_time": "2021-09-03T12:36:42.322Z"
   },
   {
    "duration": 6,
    "start_time": "2021-09-03T12:37:20.831Z"
   },
   {
    "duration": 126,
    "start_time": "2021-09-03T12:37:24.735Z"
   },
   {
    "duration": 9,
    "start_time": "2021-09-03T12:37:56.531Z"
   },
   {
    "duration": 5,
    "start_time": "2021-09-03T12:38:19.837Z"
   },
   {
    "duration": 12,
    "start_time": "2021-09-03T12:38:30.268Z"
   },
   {
    "duration": 8,
    "start_time": "2021-09-03T12:38:34.820Z"
   },
   {
    "duration": 185,
    "start_time": "2021-09-03T12:38:38.876Z"
   },
   {
    "duration": 1521,
    "start_time": "2021-09-03T12:38:54.233Z"
   },
   {
    "duration": 186,
    "start_time": "2021-09-03T12:38:55.757Z"
   },
   {
    "duration": 27,
    "start_time": "2021-09-03T12:38:55.946Z"
   },
   {
    "duration": 10,
    "start_time": "2021-09-03T12:38:55.977Z"
   },
   {
    "duration": 11,
    "start_time": "2021-09-03T12:38:55.990Z"
   },
   {
    "duration": 14,
    "start_time": "2021-09-03T12:38:56.004Z"
   },
   {
    "duration": 8,
    "start_time": "2021-09-03T12:38:56.021Z"
   },
   {
    "duration": 24,
    "start_time": "2021-09-03T12:38:56.032Z"
   },
   {
    "duration": 10,
    "start_time": "2021-09-03T12:38:56.058Z"
   },
   {
    "duration": 17,
    "start_time": "2021-09-03T12:38:56.070Z"
   },
   {
    "duration": 29,
    "start_time": "2021-09-03T12:38:56.089Z"
   },
   {
    "duration": 9,
    "start_time": "2021-09-03T12:38:56.121Z"
   },
   {
    "duration": 9,
    "start_time": "2021-09-03T12:38:56.133Z"
   },
   {
    "duration": 283,
    "start_time": "2021-09-03T12:38:56.145Z"
   },
   {
    "duration": 2851,
    "start_time": "2021-09-03T12:38:56.430Z"
   },
   {
    "duration": 1148,
    "start_time": "2021-09-03T12:38:59.284Z"
   },
   {
    "duration": -111,
    "start_time": "2021-09-03T12:39:00.545Z"
   },
   {
    "duration": -111,
    "start_time": "2021-09-03T12:39:00.547Z"
   },
   {
    "duration": 2748,
    "start_time": "2021-09-03T12:39:36.956Z"
   },
   {
    "duration": 1020,
    "start_time": "2021-09-03T12:40:16.906Z"
   },
   {
    "duration": 111,
    "start_time": "2021-09-03T12:45:28.737Z"
   },
   {
    "duration": 364,
    "start_time": "2021-09-03T12:46:51.496Z"
   },
   {
    "duration": 355,
    "start_time": "2021-09-03T12:48:24.533Z"
   },
   {
    "duration": 343,
    "start_time": "2021-09-03T12:48:34.736Z"
   },
   {
    "duration": 323,
    "start_time": "2021-09-03T12:48:47.723Z"
   },
   {
    "duration": 19,
    "start_time": "2021-09-03T12:48:58.353Z"
   },
   {
    "duration": 17,
    "start_time": "2021-09-03T13:13:57.708Z"
   },
   {
    "duration": 117,
    "start_time": "2021-09-03T13:15:26.985Z"
   },
   {
    "duration": 4,
    "start_time": "2021-09-03T13:15:57.374Z"
   },
   {
    "duration": 106,
    "start_time": "2021-09-03T13:16:14.543Z"
   },
   {
    "duration": 3,
    "start_time": "2021-09-03T13:16:41.918Z"
   },
   {
    "duration": 101,
    "start_time": "2021-09-03T13:16:43.677Z"
   },
   {
    "duration": 313,
    "start_time": "2021-09-03T13:17:57.243Z"
   },
   {
    "duration": 5,
    "start_time": "2021-09-03T13:18:36.617Z"
   },
   {
    "duration": 20,
    "start_time": "2021-09-03T13:18:41.547Z"
   },
   {
    "duration": 447,
    "start_time": "2021-09-03T13:18:44.714Z"
   },
   {
    "duration": 30,
    "start_time": "2021-09-03T13:19:30.769Z"
   },
   {
    "duration": 6,
    "start_time": "2021-09-03T13:19:34.975Z"
   },
   {
    "duration": 872,
    "start_time": "2021-09-03T13:20:39.248Z"
   },
   {
    "duration": 376,
    "start_time": "2021-09-03T13:22:30.748Z"
   },
   {
    "duration": 7,
    "start_time": "2021-09-03T13:23:20.344Z"
   },
   {
    "duration": 4,
    "start_time": "2021-09-03T13:23:22.471Z"
   },
   {
    "duration": 22,
    "start_time": "2021-09-03T13:23:24.145Z"
   },
   {
    "duration": 5,
    "start_time": "2021-09-03T13:23:25.937Z"
   },
   {
    "duration": 4,
    "start_time": "2021-09-03T13:25:20.573Z"
   },
   {
    "duration": 484,
    "start_time": "2021-09-03T15:21:16.830Z"
   },
   {
    "duration": 13,
    "start_time": "2021-09-03T15:23:01.363Z"
   },
   {
    "duration": 338,
    "start_time": "2021-09-03T15:25:11.260Z"
   },
   {
    "duration": 320,
    "start_time": "2021-09-03T15:25:33.820Z"
   },
   {
    "duration": 11,
    "start_time": "2021-09-03T15:25:54.453Z"
   },
   {
    "duration": 9,
    "start_time": "2021-09-03T15:31:28.250Z"
   },
   {
    "duration": 7,
    "start_time": "2021-09-03T15:31:49.176Z"
   },
   {
    "duration": 29,
    "start_time": "2021-09-03T15:33:48.110Z"
   },
   {
    "duration": 5,
    "start_time": "2021-09-03T15:33:59.316Z"
   },
   {
    "duration": 11,
    "start_time": "2021-09-03T15:34:11.556Z"
   },
   {
    "duration": 5,
    "start_time": "2021-09-03T15:34:12.921Z"
   },
   {
    "duration": 9,
    "start_time": "2021-09-03T15:34:44.562Z"
   },
   {
    "duration": 10,
    "start_time": "2021-09-03T15:34:54.024Z"
   },
   {
    "duration": 5,
    "start_time": "2021-09-03T15:35:05.410Z"
   },
   {
    "duration": 1044,
    "start_time": "2021-09-04T11:54:39.452Z"
   },
   {
    "duration": 431,
    "start_time": "2021-09-04T11:54:40.498Z"
   },
   {
    "duration": 13,
    "start_time": "2021-09-04T11:54:40.931Z"
   },
   {
    "duration": 10,
    "start_time": "2021-09-04T11:54:40.946Z"
   },
   {
    "duration": 7,
    "start_time": "2021-09-04T11:54:40.957Z"
   },
   {
    "duration": 4,
    "start_time": "2021-09-04T11:54:40.966Z"
   },
   {
    "duration": 6,
    "start_time": "2021-09-04T11:54:40.971Z"
   },
   {
    "duration": 5,
    "start_time": "2021-09-04T11:54:40.979Z"
   },
   {
    "duration": 6,
    "start_time": "2021-09-04T11:54:40.986Z"
   },
   {
    "duration": 12,
    "start_time": "2021-09-04T11:54:40.994Z"
   },
   {
    "duration": 8,
    "start_time": "2021-09-04T11:54:41.008Z"
   },
   {
    "duration": 8,
    "start_time": "2021-09-04T11:54:41.018Z"
   },
   {
    "duration": 7,
    "start_time": "2021-09-04T11:54:41.028Z"
   },
   {
    "duration": 138,
    "start_time": "2021-09-04T11:54:41.037Z"
   },
   {
    "duration": 732,
    "start_time": "2021-09-04T11:54:41.177Z"
   },
   {
    "duration": 9,
    "start_time": "2021-09-04T11:54:41.910Z"
   },
   {
    "duration": 5,
    "start_time": "2021-09-04T11:54:41.920Z"
   },
   {
    "duration": 15,
    "start_time": "2021-09-04T11:54:41.926Z"
   },
   {
    "duration": 10,
    "start_time": "2021-09-04T11:54:41.942Z"
   },
   {
    "duration": 58,
    "start_time": "2021-09-04T11:54:41.953Z"
   },
   {
    "duration": 4,
    "start_time": "2021-09-04T11:54:42.013Z"
   },
   {
    "duration": 14,
    "start_time": "2021-09-04T11:54:42.019Z"
   },
   {
    "duration": 5,
    "start_time": "2021-09-04T11:54:42.035Z"
   },
   {
    "duration": 10,
    "start_time": "2021-09-04T12:01:21.968Z"
   },
   {
    "duration": 8,
    "start_time": "2021-09-04T12:01:53.864Z"
   },
   {
    "duration": 74,
    "start_time": "2021-09-04T12:22:51.367Z"
   },
   {
    "duration": 6,
    "start_time": "2021-09-04T12:22:56.760Z"
   },
   {
    "duration": 1032,
    "start_time": "2021-09-04T12:23:02.302Z"
   },
   {
    "duration": 64,
    "start_time": "2021-09-04T12:23:03.336Z"
   },
   {
    "duration": 15,
    "start_time": "2021-09-04T12:23:03.401Z"
   },
   {
    "duration": 35,
    "start_time": "2021-09-04T12:23:03.417Z"
   },
   {
    "duration": 25,
    "start_time": "2021-09-04T12:23:03.454Z"
   },
   {
    "duration": 29,
    "start_time": "2021-09-04T12:23:03.481Z"
   },
   {
    "duration": 29,
    "start_time": "2021-09-04T12:23:03.512Z"
   },
   {
    "duration": 19,
    "start_time": "2021-09-04T12:23:03.544Z"
   },
   {
    "duration": 15,
    "start_time": "2021-09-04T12:23:03.565Z"
   },
   {
    "duration": 35,
    "start_time": "2021-09-04T12:23:03.582Z"
   },
   {
    "duration": 11,
    "start_time": "2021-09-04T12:23:03.618Z"
   },
   {
    "duration": 28,
    "start_time": "2021-09-04T12:23:03.631Z"
   },
   {
    "duration": 18,
    "start_time": "2021-09-04T12:23:03.660Z"
   },
   {
    "duration": 181,
    "start_time": "2021-09-04T12:23:03.680Z"
   },
   {
    "duration": 773,
    "start_time": "2021-09-04T12:23:03.863Z"
   },
   {
    "duration": 12,
    "start_time": "2021-09-04T12:23:04.638Z"
   },
   {
    "duration": 24,
    "start_time": "2021-09-04T12:23:04.652Z"
   },
   {
    "duration": 30,
    "start_time": "2021-09-04T12:23:04.678Z"
   },
   {
    "duration": 21,
    "start_time": "2021-09-04T12:23:04.710Z"
   },
   {
    "duration": 59,
    "start_time": "2021-09-04T12:23:04.733Z"
   },
   {
    "duration": 4,
    "start_time": "2021-09-04T12:23:04.794Z"
   },
   {
    "duration": 39,
    "start_time": "2021-09-04T12:23:04.800Z"
   },
   {
    "duration": 38,
    "start_time": "2021-09-04T12:23:04.842Z"
   },
   {
    "duration": 11,
    "start_time": "2021-09-04T12:28:42.421Z"
   },
   {
    "duration": 5,
    "start_time": "2021-09-04T12:28:44.730Z"
   },
   {
    "duration": 320,
    "start_time": "2021-09-04T12:46:21.019Z"
   },
   {
    "duration": 239,
    "start_time": "2021-09-04T12:50:22.316Z"
   },
   {
    "duration": 5649,
    "start_time": "2021-09-04T12:50:31.884Z"
   },
   {
    "duration": -2,
    "start_time": "2021-09-04T12:50:37.537Z"
   },
   {
    "duration": 248,
    "start_time": "2021-09-04T12:50:40.915Z"
   },
   {
    "duration": 11,
    "start_time": "2021-09-04T12:52:26.140Z"
   },
   {
    "duration": 5,
    "start_time": "2021-09-04T12:52:34.484Z"
   },
   {
    "duration": 35,
    "start_time": "2021-09-04T12:52:44.432Z"
   },
   {
    "duration": 5,
    "start_time": "2021-09-04T12:52:54.838Z"
   },
   {
    "duration": 5,
    "start_time": "2021-09-04T12:53:00.376Z"
   },
   {
    "duration": 1165,
    "start_time": "2021-09-04T12:53:08.810Z"
   },
   {
    "duration": 70,
    "start_time": "2021-09-04T12:53:09.977Z"
   },
   {
    "duration": 16,
    "start_time": "2021-09-04T12:53:10.049Z"
   },
   {
    "duration": 21,
    "start_time": "2021-09-04T12:53:10.067Z"
   },
   {
    "duration": 17,
    "start_time": "2021-09-04T12:53:10.090Z"
   },
   {
    "duration": 16,
    "start_time": "2021-09-04T12:53:10.109Z"
   },
   {
    "duration": 10,
    "start_time": "2021-09-04T12:53:10.127Z"
   },
   {
    "duration": 6,
    "start_time": "2021-09-04T12:53:10.139Z"
   },
   {
    "duration": 6,
    "start_time": "2021-09-04T12:53:10.147Z"
   },
   {
    "duration": 14,
    "start_time": "2021-09-04T12:53:10.154Z"
   },
   {
    "duration": 9,
    "start_time": "2021-09-04T12:53:10.170Z"
   },
   {
    "duration": 15,
    "start_time": "2021-09-04T12:53:10.181Z"
   },
   {
    "duration": 13,
    "start_time": "2021-09-04T12:53:10.199Z"
   },
   {
    "duration": 157,
    "start_time": "2021-09-04T12:53:10.213Z"
   },
   {
    "duration": 928,
    "start_time": "2021-09-04T12:53:10.372Z"
   },
   {
    "duration": 15,
    "start_time": "2021-09-04T12:53:11.302Z"
   },
   {
    "duration": 4,
    "start_time": "2021-09-04T12:53:11.319Z"
   },
   {
    "duration": 13,
    "start_time": "2021-09-04T12:53:11.325Z"
   },
   {
    "duration": 5,
    "start_time": "2021-09-04T12:53:11.340Z"
   },
   {
    "duration": 74,
    "start_time": "2021-09-04T12:53:11.347Z"
   },
   {
    "duration": 4,
    "start_time": "2021-09-04T12:53:11.423Z"
   },
   {
    "duration": 583,
    "start_time": "2021-09-04T12:53:11.429Z"
   },
   {
    "duration": -1,
    "start_time": "2021-09-04T12:53:12.015Z"
   },
   {
    "duration": 12,
    "start_time": "2021-09-04T12:53:19.454Z"
   },
   {
    "duration": 6,
    "start_time": "2021-09-04T12:53:21.989Z"
   },
   {
    "duration": 237,
    "start_time": "2021-09-04T12:53:53.349Z"
   },
   {
    "duration": 255,
    "start_time": "2021-09-04T12:55:39.795Z"
   },
   {
    "duration": 5,
    "start_time": "2021-09-04T12:57:09.072Z"
   },
   {
    "duration": 236,
    "start_time": "2021-09-04T12:57:52.382Z"
   },
   {
    "duration": 236,
    "start_time": "2021-09-04T12:58:36.245Z"
   },
   {
    "duration": 281,
    "start_time": "2021-09-04T13:00:23.119Z"
   },
   {
    "duration": 289,
    "start_time": "2021-09-04T13:00:37.104Z"
   },
   {
    "duration": 1069,
    "start_time": "2021-09-04T13:00:47.084Z"
   },
   {
    "duration": 121,
    "start_time": "2021-09-04T13:00:48.155Z"
   },
   {
    "duration": 17,
    "start_time": "2021-09-04T13:00:48.278Z"
   },
   {
    "duration": 8,
    "start_time": "2021-09-04T13:00:48.297Z"
   },
   {
    "duration": 12,
    "start_time": "2021-09-04T13:00:48.307Z"
   },
   {
    "duration": 11,
    "start_time": "2021-09-04T13:00:48.321Z"
   },
   {
    "duration": 11,
    "start_time": "2021-09-04T13:00:48.334Z"
   },
   {
    "duration": 10,
    "start_time": "2021-09-04T13:00:48.347Z"
   },
   {
    "duration": 7,
    "start_time": "2021-09-04T13:00:48.360Z"
   },
   {
    "duration": 15,
    "start_time": "2021-09-04T13:00:48.369Z"
   },
   {
    "duration": 16,
    "start_time": "2021-09-04T13:00:48.392Z"
   },
   {
    "duration": 16,
    "start_time": "2021-09-04T13:00:48.410Z"
   },
   {
    "duration": 13,
    "start_time": "2021-09-04T13:00:48.428Z"
   },
   {
    "duration": 163,
    "start_time": "2021-09-04T13:00:48.444Z"
   },
   {
    "duration": 835,
    "start_time": "2021-09-04T13:00:48.609Z"
   },
   {
    "duration": 12,
    "start_time": "2021-09-04T13:00:49.446Z"
   },
   {
    "duration": 4,
    "start_time": "2021-09-04T13:00:49.460Z"
   },
   {
    "duration": 26,
    "start_time": "2021-09-04T13:00:49.465Z"
   },
   {
    "duration": 4,
    "start_time": "2021-09-04T13:00:49.493Z"
   },
   {
    "duration": 44,
    "start_time": "2021-09-04T13:00:49.499Z"
   },
   {
    "duration": 5,
    "start_time": "2021-09-04T13:00:49.545Z"
   },
   {
    "duration": 15,
    "start_time": "2021-09-04T13:00:49.552Z"
   },
   {
    "duration": 23,
    "start_time": "2021-09-04T13:00:49.569Z"
   },
   {
    "duration": 5,
    "start_time": "2021-09-04T13:00:49.594Z"
   },
   {
    "duration": 335,
    "start_time": "2021-09-04T13:00:49.600Z"
   },
   {
    "duration": 8,
    "start_time": "2021-09-04T13:00:49.930Z"
   },
   {
    "duration": 2656,
    "start_time": "2021-09-06T17:02:45.101Z"
   },
   {
    "duration": 202,
    "start_time": "2021-09-06T17:02:47.760Z"
   },
   {
    "duration": 23,
    "start_time": "2021-09-06T17:02:47.965Z"
   },
   {
    "duration": 10,
    "start_time": "2021-09-06T17:02:47.991Z"
   },
   {
    "duration": 9,
    "start_time": "2021-09-06T17:02:48.003Z"
   },
   {
    "duration": 5,
    "start_time": "2021-09-06T17:02:48.014Z"
   },
   {
    "duration": 5,
    "start_time": "2021-09-06T17:02:48.021Z"
   },
   {
    "duration": 5,
    "start_time": "2021-09-06T17:02:48.029Z"
   },
   {
    "duration": 5,
    "start_time": "2021-09-06T17:02:48.038Z"
   },
   {
    "duration": 14,
    "start_time": "2021-09-06T17:02:48.046Z"
   },
   {
    "duration": 7,
    "start_time": "2021-09-06T17:02:48.063Z"
   },
   {
    "duration": 44,
    "start_time": "2021-09-06T17:02:48.073Z"
   },
   {
    "duration": 8,
    "start_time": "2021-09-06T17:02:48.119Z"
   },
   {
    "duration": 248,
    "start_time": "2021-09-06T17:02:48.129Z"
   },
   {
    "duration": 1283,
    "start_time": "2021-09-06T17:02:48.379Z"
   },
   {
    "duration": 29,
    "start_time": "2021-09-06T17:02:49.665Z"
   },
   {
    "duration": 21,
    "start_time": "2021-09-06T17:02:49.698Z"
   },
   {
    "duration": 34,
    "start_time": "2021-09-06T17:02:49.722Z"
   },
   {
    "duration": 15,
    "start_time": "2021-09-06T17:02:49.758Z"
   },
   {
    "duration": 56,
    "start_time": "2021-09-06T17:02:49.775Z"
   },
   {
    "duration": 5,
    "start_time": "2021-09-06T17:02:49.833Z"
   },
   {
    "duration": 24,
    "start_time": "2021-09-06T17:02:49.841Z"
   },
   {
    "duration": 6,
    "start_time": "2021-09-06T17:02:49.867Z"
   },
   {
    "duration": 312,
    "start_time": "2021-09-06T17:52:54.877Z"
   },
   {
    "duration": 1024,
    "start_time": "2021-09-06T17:53:00.050Z"
   },
   {
    "duration": 137,
    "start_time": "2021-09-06T17:53:01.076Z"
   },
   {
    "duration": 15,
    "start_time": "2021-09-06T17:53:01.215Z"
   },
   {
    "duration": 21,
    "start_time": "2021-09-06T17:53:01.232Z"
   },
   {
    "duration": 18,
    "start_time": "2021-09-06T17:53:01.255Z"
   },
   {
    "duration": 15,
    "start_time": "2021-09-06T17:53:01.275Z"
   },
   {
    "duration": 21,
    "start_time": "2021-09-06T17:53:01.291Z"
   },
   {
    "duration": 14,
    "start_time": "2021-09-06T17:53:01.315Z"
   },
   {
    "duration": 15,
    "start_time": "2021-09-06T17:53:01.331Z"
   },
   {
    "duration": 24,
    "start_time": "2021-09-06T17:53:01.348Z"
   },
   {
    "duration": 13,
    "start_time": "2021-09-06T17:53:01.374Z"
   },
   {
    "duration": 14,
    "start_time": "2021-09-06T17:53:01.389Z"
   },
   {
    "duration": 26,
    "start_time": "2021-09-06T17:53:01.405Z"
   },
   {
    "duration": 242,
    "start_time": "2021-09-06T17:53:01.432Z"
   },
   {
    "duration": 672,
    "start_time": "2021-09-06T17:53:01.675Z"
   },
   {
    "duration": 9,
    "start_time": "2021-09-06T17:53:02.349Z"
   },
   {
    "duration": 13,
    "start_time": "2021-09-06T17:53:02.360Z"
   },
   {
    "duration": 16,
    "start_time": "2021-09-06T17:53:02.374Z"
   },
   {
    "duration": 5,
    "start_time": "2021-09-06T17:53:02.392Z"
   },
   {
    "duration": 43,
    "start_time": "2021-09-06T17:53:02.399Z"
   },
   {
    "duration": 5,
    "start_time": "2021-09-06T17:53:02.443Z"
   },
   {
    "duration": 12,
    "start_time": "2021-09-06T17:53:02.450Z"
   },
   {
    "duration": 4,
    "start_time": "2021-09-06T17:53:02.465Z"
   },
   {
    "duration": 81,
    "start_time": "2021-09-06T17:53:41.448Z"
   },
   {
    "duration": 87,
    "start_time": "2021-09-06T17:55:30.102Z"
   },
   {
    "duration": 93,
    "start_time": "2021-09-06T17:55:59.237Z"
   },
   {
    "duration": 1127,
    "start_time": "2021-09-06T17:56:40.637Z"
   },
   {
    "duration": 53,
    "start_time": "2021-09-06T17:56:41.766Z"
   },
   {
    "duration": 14,
    "start_time": "2021-09-06T17:56:41.821Z"
   },
   {
    "duration": 10,
    "start_time": "2021-09-06T17:56:41.837Z"
   },
   {
    "duration": 19,
    "start_time": "2021-09-06T17:56:41.848Z"
   },
   {
    "duration": 24,
    "start_time": "2021-09-06T17:56:41.869Z"
   },
   {
    "duration": 10,
    "start_time": "2021-09-06T17:56:41.894Z"
   },
   {
    "duration": 15,
    "start_time": "2021-09-06T17:56:41.906Z"
   },
   {
    "duration": 99,
    "start_time": "2021-09-06T17:56:41.923Z"
   },
   {
    "duration": -81,
    "start_time": "2021-09-06T17:56:42.104Z"
   },
   {
    "duration": -87,
    "start_time": "2021-09-06T17:56:42.111Z"
   },
   {
    "duration": -89,
    "start_time": "2021-09-06T17:56:42.114Z"
   },
   {
    "duration": -90,
    "start_time": "2021-09-06T17:56:42.116Z"
   },
   {
    "duration": -92,
    "start_time": "2021-09-06T17:56:42.119Z"
   },
   {
    "duration": -100,
    "start_time": "2021-09-06T17:56:42.128Z"
   },
   {
    "duration": -101,
    "start_time": "2021-09-06T17:56:42.130Z"
   },
   {
    "duration": -103,
    "start_time": "2021-09-06T17:56:42.133Z"
   },
   {
    "duration": -104,
    "start_time": "2021-09-06T17:56:42.135Z"
   },
   {
    "duration": -111,
    "start_time": "2021-09-06T17:56:42.142Z"
   },
   {
    "duration": -112,
    "start_time": "2021-09-06T17:56:42.144Z"
   },
   {
    "duration": -113,
    "start_time": "2021-09-06T17:56:42.146Z"
   },
   {
    "duration": -114,
    "start_time": "2021-09-06T17:56:42.148Z"
   },
   {
    "duration": -118,
    "start_time": "2021-09-06T17:56:42.153Z"
   },
   {
    "duration": -123,
    "start_time": "2021-09-06T17:56:42.159Z"
   },
   {
    "duration": 350,
    "start_time": "2021-09-06T17:58:34.410Z"
   },
   {
    "duration": 1070,
    "start_time": "2021-09-06T17:58:44.896Z"
   },
   {
    "duration": 59,
    "start_time": "2021-09-06T17:58:45.968Z"
   },
   {
    "duration": 15,
    "start_time": "2021-09-06T17:58:46.029Z"
   },
   {
    "duration": 6,
    "start_time": "2021-09-06T17:58:46.047Z"
   },
   {
    "duration": 8,
    "start_time": "2021-09-06T17:58:46.055Z"
   },
   {
    "duration": 6,
    "start_time": "2021-09-06T17:58:46.064Z"
   },
   {
    "duration": 4,
    "start_time": "2021-09-06T17:58:46.071Z"
   },
   {
    "duration": 7,
    "start_time": "2021-09-06T17:58:46.078Z"
   },
   {
    "duration": 4,
    "start_time": "2021-09-06T17:58:46.087Z"
   },
   {
    "duration": 11,
    "start_time": "2021-09-06T17:58:46.093Z"
   },
   {
    "duration": 6,
    "start_time": "2021-09-06T17:58:46.106Z"
   },
   {
    "duration": 27,
    "start_time": "2021-09-06T17:58:46.113Z"
   },
   {
    "duration": 7,
    "start_time": "2021-09-06T17:58:46.142Z"
   },
   {
    "duration": 127,
    "start_time": "2021-09-06T17:58:46.151Z"
   },
   {
    "duration": 661,
    "start_time": "2021-09-06T17:58:46.280Z"
   },
   {
    "duration": 352,
    "start_time": "2021-09-06T17:58:46.943Z"
   },
   {
    "duration": -117,
    "start_time": "2021-09-06T17:58:47.414Z"
   },
   {
    "duration": -118,
    "start_time": "2021-09-06T17:58:47.417Z"
   },
   {
    "duration": -119,
    "start_time": "2021-09-06T17:58:47.419Z"
   },
   {
    "duration": -120,
    "start_time": "2021-09-06T17:58:47.421Z"
   },
   {
    "duration": -121,
    "start_time": "2021-09-06T17:58:47.423Z"
   },
   {
    "duration": -121,
    "start_time": "2021-09-06T17:58:47.425Z"
   },
   {
    "duration": -122,
    "start_time": "2021-09-06T17:58:47.427Z"
   },
   {
    "duration": 293,
    "start_time": "2021-09-06T17:59:37.238Z"
   },
   {
    "duration": 426,
    "start_time": "2021-09-06T17:59:42.317Z"
   },
   {
    "duration": 3,
    "start_time": "2021-09-07T10:46:43.448Z"
   },
   {
    "duration": 1055,
    "start_time": "2021-09-07T10:46:49.219Z"
   },
   {
    "duration": 176,
    "start_time": "2021-09-07T10:46:50.276Z"
   },
   {
    "duration": 16,
    "start_time": "2021-09-07T10:46:50.454Z"
   },
   {
    "duration": 6,
    "start_time": "2021-09-07T10:46:50.473Z"
   },
   {
    "duration": 12,
    "start_time": "2021-09-07T10:46:50.481Z"
   },
   {
    "duration": 14,
    "start_time": "2021-09-07T10:46:50.494Z"
   },
   {
    "duration": 14,
    "start_time": "2021-09-07T10:46:50.510Z"
   },
   {
    "duration": 9,
    "start_time": "2021-09-07T10:46:50.526Z"
   },
   {
    "duration": 6,
    "start_time": "2021-09-07T10:46:50.537Z"
   },
   {
    "duration": 24,
    "start_time": "2021-09-07T10:46:50.545Z"
   },
   {
    "duration": 16,
    "start_time": "2021-09-07T10:46:50.570Z"
   },
   {
    "duration": 11,
    "start_time": "2021-09-07T10:46:50.588Z"
   },
   {
    "duration": 5,
    "start_time": "2021-09-07T10:46:50.601Z"
   },
   {
    "duration": 132,
    "start_time": "2021-09-07T10:46:50.608Z"
   },
   {
    "duration": 677,
    "start_time": "2021-09-07T10:46:50.742Z"
   },
   {
    "duration": 880,
    "start_time": "2021-09-07T10:46:51.420Z"
   },
   {
    "duration": -73,
    "start_time": "2021-09-07T10:46:52.374Z"
   },
   {
    "duration": -73,
    "start_time": "2021-09-07T10:46:52.375Z"
   },
   {
    "duration": -73,
    "start_time": "2021-09-07T10:46:52.376Z"
   },
   {
    "duration": -73,
    "start_time": "2021-09-07T10:46:52.377Z"
   },
   {
    "duration": -73,
    "start_time": "2021-09-07T10:46:52.378Z"
   },
   {
    "duration": -73,
    "start_time": "2021-09-07T10:46:52.379Z"
   },
   {
    "duration": -74,
    "start_time": "2021-09-07T10:46:52.380Z"
   },
   {
    "duration": -75,
    "start_time": "2021-09-07T10:46:52.382Z"
   },
   {
    "duration": 1260,
    "start_time": "2021-09-07T11:20:18.658Z"
   },
   {
    "duration": 61,
    "start_time": "2021-09-07T11:20:19.920Z"
   },
   {
    "duration": 15,
    "start_time": "2021-09-07T11:20:19.985Z"
   },
   {
    "duration": 6,
    "start_time": "2021-09-07T11:20:20.002Z"
   },
   {
    "duration": 14,
    "start_time": "2021-09-07T11:20:20.010Z"
   },
   {
    "duration": 3,
    "start_time": "2021-09-07T11:20:20.026Z"
   },
   {
    "duration": 6,
    "start_time": "2021-09-07T11:20:20.031Z"
   },
   {
    "duration": 7,
    "start_time": "2021-09-07T11:20:20.039Z"
   },
   {
    "duration": 15,
    "start_time": "2021-09-07T11:20:20.048Z"
   },
   {
    "duration": 19,
    "start_time": "2021-09-07T11:20:20.065Z"
   },
   {
    "duration": 7,
    "start_time": "2021-09-07T11:20:20.085Z"
   },
   {
    "duration": 7,
    "start_time": "2021-09-07T11:20:20.093Z"
   },
   {
    "duration": 6,
    "start_time": "2021-09-07T11:20:20.102Z"
   },
   {
    "duration": 159,
    "start_time": "2021-09-07T11:20:20.109Z"
   },
   {
    "duration": 785,
    "start_time": "2021-09-07T11:20:20.270Z"
   },
   {
    "duration": 363,
    "start_time": "2021-09-07T11:20:21.057Z"
   },
   {
    "duration": 56,
    "start_time": "2021-09-07T11:20:21.366Z"
   },
   {
    "duration": 55,
    "start_time": "2021-09-07T11:20:21.368Z"
   },
   {
    "duration": 54,
    "start_time": "2021-09-07T11:20:21.370Z"
   },
   {
    "duration": 52,
    "start_time": "2021-09-07T11:20:21.373Z"
   },
   {
    "duration": 51,
    "start_time": "2021-09-07T11:20:21.375Z"
   },
   {
    "duration": 50,
    "start_time": "2021-09-07T11:20:21.378Z"
   },
   {
    "duration": 30,
    "start_time": "2021-09-07T11:20:21.399Z"
   },
   {
    "duration": 92,
    "start_time": "2021-09-07T11:20:29.213Z"
   },
   {
    "duration": 990,
    "start_time": "2021-09-07T11:20:43.767Z"
   },
   {
    "duration": 59,
    "start_time": "2021-09-07T11:20:44.758Z"
   },
   {
    "duration": 15,
    "start_time": "2021-09-07T11:20:44.819Z"
   },
   {
    "duration": 7,
    "start_time": "2021-09-07T11:20:44.836Z"
   },
   {
    "duration": 7,
    "start_time": "2021-09-07T11:20:44.845Z"
   },
   {
    "duration": 4,
    "start_time": "2021-09-07T11:20:44.853Z"
   },
   {
    "duration": 6,
    "start_time": "2021-09-07T11:20:44.859Z"
   },
   {
    "duration": 11,
    "start_time": "2021-09-07T11:20:44.867Z"
   },
   {
    "duration": 5,
    "start_time": "2021-09-07T11:20:44.881Z"
   },
   {
    "duration": 11,
    "start_time": "2021-09-07T11:20:44.888Z"
   },
   {
    "duration": 8,
    "start_time": "2021-09-07T11:20:44.901Z"
   },
   {
    "duration": 6,
    "start_time": "2021-09-07T11:20:44.910Z"
   },
   {
    "duration": 24,
    "start_time": "2021-09-07T11:20:44.917Z"
   },
   {
    "duration": 140,
    "start_time": "2021-09-07T11:20:44.943Z"
   },
   {
    "duration": 685,
    "start_time": "2021-09-07T11:20:45.085Z"
   },
   {
    "duration": 343,
    "start_time": "2021-09-07T11:20:45.772Z"
   },
   {
    "duration": -49,
    "start_time": "2021-09-07T11:20:46.166Z"
   },
   {
    "duration": -51,
    "start_time": "2021-09-07T11:20:46.169Z"
   },
   {
    "duration": -53,
    "start_time": "2021-09-07T11:20:46.171Z"
   },
   {
    "duration": -54,
    "start_time": "2021-09-07T11:20:46.173Z"
   },
   {
    "duration": -55,
    "start_time": "2021-09-07T11:20:46.175Z"
   },
   {
    "duration": -55,
    "start_time": "2021-09-07T11:20:46.176Z"
   },
   {
    "duration": -57,
    "start_time": "2021-09-07T11:20:46.179Z"
   },
   {
    "duration": 99,
    "start_time": "2021-09-07T11:22:12.197Z"
   },
   {
    "duration": 7,
    "start_time": "2021-09-07T11:23:00.189Z"
   },
   {
    "duration": 33,
    "start_time": "2021-09-07T11:23:12.517Z"
   },
   {
    "duration": 254,
    "start_time": "2021-09-07T11:27:35.900Z"
   },
   {
    "duration": 254,
    "start_time": "2021-09-07T11:28:09.707Z"
   },
   {
    "duration": 272,
    "start_time": "2021-09-07T11:28:24.252Z"
   },
   {
    "duration": 265,
    "start_time": "2021-09-07T11:28:45.562Z"
   },
   {
    "duration": 6,
    "start_time": "2021-09-07T11:31:31.639Z"
   },
   {
    "duration": 308,
    "start_time": "2021-09-07T11:35:54.573Z"
   },
   {
    "duration": 6,
    "start_time": "2021-09-07T11:42:32.971Z"
   },
   {
    "duration": 13,
    "start_time": "2021-09-07T11:53:18.084Z"
   },
   {
    "duration": 1567,
    "start_time": "2021-09-07T19:13:28.331Z"
   },
   {
    "duration": 1587,
    "start_time": "2021-09-07T19:13:36.051Z"
   },
   {
    "duration": 125,
    "start_time": "2021-09-07T19:13:37.640Z"
   },
   {
    "duration": 17,
    "start_time": "2021-09-07T19:13:37.768Z"
   },
   {
    "duration": 10,
    "start_time": "2021-09-07T19:13:37.788Z"
   },
   {
    "duration": 8,
    "start_time": "2021-09-07T19:13:37.801Z"
   },
   {
    "duration": 68,
    "start_time": "2021-09-07T19:13:37.811Z"
   },
   {
    "duration": 9,
    "start_time": "2021-09-07T19:13:37.881Z"
   },
   {
    "duration": 6,
    "start_time": "2021-09-07T19:13:37.894Z"
   },
   {
    "duration": 6,
    "start_time": "2021-09-07T19:13:37.902Z"
   },
   {
    "duration": 6,
    "start_time": "2021-09-07T19:13:37.911Z"
   },
   {
    "duration": 46,
    "start_time": "2021-09-07T19:13:37.920Z"
   },
   {
    "duration": 16,
    "start_time": "2021-09-07T19:13:37.968Z"
   },
   {
    "duration": 9,
    "start_time": "2021-09-07T19:13:37.987Z"
   },
   {
    "duration": 5,
    "start_time": "2021-09-07T19:13:37.998Z"
   },
   {
    "duration": 11,
    "start_time": "2021-09-07T19:13:38.005Z"
   },
   {
    "duration": 211,
    "start_time": "2021-09-07T19:13:38.018Z"
   },
   {
    "duration": 969,
    "start_time": "2021-09-07T19:13:38.232Z"
   },
   {
    "duration": 483,
    "start_time": "2021-09-07T19:13:39.203Z"
   },
   {
    "duration": 201,
    "start_time": "2021-09-07T19:13:39.488Z"
   },
   {
    "duration": 199,
    "start_time": "2021-09-07T19:13:39.491Z"
   },
   {
    "duration": 199,
    "start_time": "2021-09-07T19:13:39.493Z"
   },
   {
    "duration": 198,
    "start_time": "2021-09-07T19:13:39.495Z"
   },
   {
    "duration": 196,
    "start_time": "2021-09-07T19:13:39.498Z"
   },
   {
    "duration": 196,
    "start_time": "2021-09-07T19:13:39.500Z"
   },
   {
    "duration": 194,
    "start_time": "2021-09-07T19:13:39.503Z"
   },
   {
    "duration": 194,
    "start_time": "2021-09-07T19:13:39.505Z"
   },
   {
    "duration": 38,
    "start_time": "2021-09-07T19:14:22.580Z"
   },
   {
    "duration": 6,
    "start_time": "2021-09-07T19:16:52.040Z"
   },
   {
    "duration": 114,
    "start_time": "2021-09-07T19:19:33.264Z"
   },
   {
    "duration": 7,
    "start_time": "2021-09-07T19:20:13.194Z"
   },
   {
    "duration": 7,
    "start_time": "2021-09-07T19:20:21.011Z"
   },
   {
    "duration": 9,
    "start_time": "2021-09-07T19:21:06.320Z"
   },
   {
    "duration": 8,
    "start_time": "2021-09-07T19:21:18.314Z"
   },
   {
    "duration": 8,
    "start_time": "2021-09-07T19:21:32.871Z"
   },
   {
    "duration": 8,
    "start_time": "2021-09-07T19:21:34.374Z"
   },
   {
    "duration": 31,
    "start_time": "2021-09-07T19:22:34.057Z"
   },
   {
    "duration": 12,
    "start_time": "2021-09-07T19:22:41.236Z"
   },
   {
    "duration": 9,
    "start_time": "2021-09-07T19:22:43.796Z"
   },
   {
    "duration": 5,
    "start_time": "2021-09-07T19:22:55.043Z"
   },
   {
    "duration": 11,
    "start_time": "2021-09-07T19:23:11.019Z"
   },
   {
    "duration": 9,
    "start_time": "2021-09-07T19:23:12.659Z"
   },
   {
    "duration": 5,
    "start_time": "2021-09-07T19:23:14.627Z"
   },
   {
    "duration": 6,
    "start_time": "2021-09-07T19:23:17.090Z"
   },
   {
    "duration": 6,
    "start_time": "2021-09-07T19:23:19.546Z"
   },
   {
    "duration": 494,
    "start_time": "2021-09-07T19:34:58.302Z"
   },
   {
    "duration": 19,
    "start_time": "2021-09-07T19:35:09.311Z"
   },
   {
    "duration": 8,
    "start_time": "2021-09-07T19:35:55.572Z"
   },
   {
    "duration": 144,
    "start_time": "2021-09-07T19:37:32.865Z"
   },
   {
    "duration": 160,
    "start_time": "2021-09-07T19:38:46.164Z"
   },
   {
    "duration": 152,
    "start_time": "2021-09-07T19:39:42.635Z"
   },
   {
    "duration": 11,
    "start_time": "2021-09-07T19:43:32.117Z"
   },
   {
    "duration": 4910,
    "start_time": "2021-09-07T19:43:49.021Z"
   },
   {
    "duration": 3,
    "start_time": "2021-09-07T19:47:00.261Z"
   },
   {
    "duration": 19,
    "start_time": "2021-09-07T19:48:04.606Z"
   },
   {
    "duration": 2445,
    "start_time": "2021-09-07T19:50:42.670Z"
   },
   {
    "duration": 2416,
    "start_time": "2021-09-07T19:50:58.975Z"
   },
   {
    "duration": 2424,
    "start_time": "2021-09-07T19:51:32.622Z"
   },
   {
    "duration": 152,
    "start_time": "2021-09-07T19:52:35.135Z"
   },
   {
    "duration": 4811,
    "start_time": "2021-09-07T19:52:53.703Z"
   },
   {
    "duration": 2446,
    "start_time": "2021-09-07T19:53:17.388Z"
   },
   {
    "duration": 19,
    "start_time": "2021-09-07T19:55:13.944Z"
   },
   {
    "duration": 9,
    "start_time": "2021-09-07T19:55:16.612Z"
   },
   {
    "duration": 137,
    "start_time": "2021-09-07T19:55:19.343Z"
   },
   {
    "duration": 156,
    "start_time": "2021-09-07T19:55:23.597Z"
   },
   {
    "duration": 155,
    "start_time": "2021-09-07T19:55:32.871Z"
   },
   {
    "duration": 4852,
    "start_time": "2021-09-07T19:55:56.216Z"
   },
   {
    "duration": 146,
    "start_time": "2021-09-07T19:56:35.825Z"
   },
   {
    "duration": 5043,
    "start_time": "2021-09-07T19:56:44.361Z"
   },
   {
    "duration": 2433,
    "start_time": "2021-09-07T19:57:13.500Z"
   },
   {
    "duration": 1055,
    "start_time": "2021-09-07T19:57:27.212Z"
   },
   {
    "duration": 3719,
    "start_time": "2021-09-07T19:58:37.250Z"
   },
   {
    "duration": 108,
    "start_time": "2021-09-07T20:00:52.604Z"
   },
   {
    "duration": 114,
    "start_time": "2021-09-07T20:01:18.562Z"
   },
   {
    "duration": 112,
    "start_time": "2021-09-07T20:02:47.830Z"
   },
   {
    "duration": 3505,
    "start_time": "2021-09-07T20:03:13.072Z"
   },
   {
    "duration": 4609,
    "start_time": "2021-09-07T20:04:41.380Z"
   },
   {
    "duration": 1573,
    "start_time": "2021-09-07T20:12:55.032Z"
   },
   {
    "duration": 448,
    "start_time": "2021-09-07T20:12:56.607Z"
   },
   {
    "duration": -98,
    "start_time": "2021-09-07T20:12:57.157Z"
   },
   {
    "duration": -106,
    "start_time": "2021-09-07T20:12:57.166Z"
   },
   {
    "duration": -113,
    "start_time": "2021-09-07T20:12:57.174Z"
   },
   {
    "duration": -129,
    "start_time": "2021-09-07T20:12:57.192Z"
   },
   {
    "duration": -137,
    "start_time": "2021-09-07T20:12:57.201Z"
   },
   {
    "duration": -143,
    "start_time": "2021-09-07T20:12:57.208Z"
   },
   {
    "duration": -149,
    "start_time": "2021-09-07T20:12:57.216Z"
   },
   {
    "duration": -155,
    "start_time": "2021-09-07T20:12:57.223Z"
   },
   {
    "duration": -160,
    "start_time": "2021-09-07T20:12:57.230Z"
   },
   {
    "duration": -165,
    "start_time": "2021-09-07T20:12:57.236Z"
   },
   {
    "duration": -188,
    "start_time": "2021-09-07T20:12:57.261Z"
   },
   {
    "duration": -196,
    "start_time": "2021-09-07T20:12:57.270Z"
   },
   {
    "duration": -207,
    "start_time": "2021-09-07T20:12:57.282Z"
   },
   {
    "duration": -214,
    "start_time": "2021-09-07T20:12:57.290Z"
   },
   {
    "duration": -220,
    "start_time": "2021-09-07T20:12:57.298Z"
   },
   {
    "duration": -230,
    "start_time": "2021-09-07T20:12:57.309Z"
   },
   {
    "duration": -236,
    "start_time": "2021-09-07T20:12:57.316Z"
   },
   {
    "duration": -241,
    "start_time": "2021-09-07T20:12:57.323Z"
   },
   {
    "duration": -248,
    "start_time": "2021-09-07T20:12:57.331Z"
   },
   {
    "duration": -253,
    "start_time": "2021-09-07T20:12:57.337Z"
   },
   {
    "duration": -257,
    "start_time": "2021-09-07T20:12:57.343Z"
   },
   {
    "duration": -262,
    "start_time": "2021-09-07T20:12:57.349Z"
   },
   {
    "duration": -268,
    "start_time": "2021-09-07T20:12:57.356Z"
   },
   {
    "duration": -287,
    "start_time": "2021-09-07T20:12:57.377Z"
   },
   {
    "duration": -296,
    "start_time": "2021-09-07T20:12:57.387Z"
   },
   {
    "duration": -306,
    "start_time": "2021-09-07T20:12:57.398Z"
   },
   {
    "duration": -312,
    "start_time": "2021-09-07T20:12:57.406Z"
   },
   {
    "duration": -317,
    "start_time": "2021-09-07T20:12:57.412Z"
   },
   {
    "duration": -323,
    "start_time": "2021-09-07T20:12:57.419Z"
   },
   {
    "duration": -327,
    "start_time": "2021-09-07T20:12:57.425Z"
   },
   {
    "duration": -332,
    "start_time": "2021-09-07T20:12:57.431Z"
   },
   {
    "duration": -338,
    "start_time": "2021-09-07T20:12:57.438Z"
   },
   {
    "duration": 37,
    "start_time": "2021-09-07T20:13:17.890Z"
   },
   {
    "duration": 1832,
    "start_time": "2021-09-07T20:13:27.973Z"
   },
   {
    "duration": 70,
    "start_time": "2021-09-07T20:13:29.808Z"
   },
   {
    "duration": 13,
    "start_time": "2021-09-07T20:13:29.881Z"
   },
   {
    "duration": 14,
    "start_time": "2021-09-07T20:13:29.896Z"
   },
   {
    "duration": 11,
    "start_time": "2021-09-07T20:13:29.913Z"
   },
   {
    "duration": 59,
    "start_time": "2021-09-07T20:13:29.927Z"
   },
   {
    "duration": 5,
    "start_time": "2021-09-07T20:13:29.989Z"
   },
   {
    "duration": 19,
    "start_time": "2021-09-07T20:13:29.997Z"
   },
   {
    "duration": 25,
    "start_time": "2021-09-07T20:13:30.019Z"
   },
   {
    "duration": 496,
    "start_time": "2021-09-07T20:13:30.047Z"
   },
   {
    "duration": -93,
    "start_time": "2021-09-07T20:13:30.640Z"
   },
   {
    "duration": -99,
    "start_time": "2021-09-07T20:13:30.647Z"
   },
   {
    "duration": -115,
    "start_time": "2021-09-07T20:13:30.665Z"
   },
   {
    "duration": -180,
    "start_time": "2021-09-07T20:13:30.732Z"
   },
   {
    "duration": -186,
    "start_time": "2021-09-07T20:13:30.740Z"
   },
   {
    "duration": -192,
    "start_time": "2021-09-07T20:13:30.747Z"
   },
   {
    "duration": -202,
    "start_time": "2021-09-07T20:13:30.759Z"
   },
   {
    "duration": -209,
    "start_time": "2021-09-07T20:13:30.767Z"
   },
   {
    "duration": -214,
    "start_time": "2021-09-07T20:13:30.774Z"
   },
   {
    "duration": -219,
    "start_time": "2021-09-07T20:13:30.780Z"
   },
   {
    "duration": -223,
    "start_time": "2021-09-07T20:13:30.786Z"
   },
   {
    "duration": -229,
    "start_time": "2021-09-07T20:13:30.793Z"
   },
   {
    "duration": -245,
    "start_time": "2021-09-07T20:13:30.811Z"
   },
   {
    "duration": -251,
    "start_time": "2021-09-07T20:13:30.818Z"
   },
   {
    "duration": -255,
    "start_time": "2021-09-07T20:13:30.824Z"
   },
   {
    "duration": -273,
    "start_time": "2021-09-07T20:13:30.843Z"
   },
   {
    "duration": -277,
    "start_time": "2021-09-07T20:13:30.850Z"
   },
   {
    "duration": -281,
    "start_time": "2021-09-07T20:13:30.855Z"
   },
   {
    "duration": -284,
    "start_time": "2021-09-07T20:13:30.860Z"
   },
   {
    "duration": -287,
    "start_time": "2021-09-07T20:13:30.864Z"
   },
   {
    "duration": -291,
    "start_time": "2021-09-07T20:13:30.869Z"
   },
   {
    "duration": -295,
    "start_time": "2021-09-07T20:13:30.875Z"
   },
   {
    "duration": -299,
    "start_time": "2021-09-07T20:13:30.880Z"
   },
   {
    "duration": -302,
    "start_time": "2021-09-07T20:13:30.885Z"
   },
   {
    "duration": 5,
    "start_time": "2021-09-07T20:14:26.233Z"
   },
   {
    "duration": 6,
    "start_time": "2021-09-07T20:14:31.842Z"
   },
   {
    "duration": 6,
    "start_time": "2021-09-07T20:14:37.944Z"
   },
   {
    "duration": 1504,
    "start_time": "2021-09-07T20:14:46.687Z"
   },
   {
    "duration": 36,
    "start_time": "2021-09-07T20:14:48.193Z"
   },
   {
    "duration": 12,
    "start_time": "2021-09-07T20:14:48.232Z"
   },
   {
    "duration": 27,
    "start_time": "2021-09-07T20:14:48.247Z"
   },
   {
    "duration": 9,
    "start_time": "2021-09-07T20:14:48.277Z"
   },
   {
    "duration": 72,
    "start_time": "2021-09-07T20:14:48.290Z"
   },
   {
    "duration": 5,
    "start_time": "2021-09-07T20:14:48.364Z"
   },
   {
    "duration": 16,
    "start_time": "2021-09-07T20:14:48.373Z"
   },
   {
    "duration": 10,
    "start_time": "2021-09-07T20:14:48.392Z"
   },
   {
    "duration": 16,
    "start_time": "2021-09-07T20:14:48.404Z"
   },
   {
    "duration": 9,
    "start_time": "2021-09-07T20:14:48.422Z"
   },
   {
    "duration": 29,
    "start_time": "2021-09-07T20:14:48.434Z"
   },
   {
    "duration": 26,
    "start_time": "2021-09-07T20:14:48.466Z"
   },
   {
    "duration": 9,
    "start_time": "2021-09-07T20:14:48.494Z"
   },
   {
    "duration": 162,
    "start_time": "2021-09-07T20:14:48.506Z"
   },
   {
    "duration": 178,
    "start_time": "2021-09-07T20:14:48.670Z"
   },
   {
    "duration": 169,
    "start_time": "2021-09-07T20:14:48.850Z"
   },
   {
    "duration": 13,
    "start_time": "2021-09-07T20:14:49.023Z"
   },
   {
    "duration": 4695,
    "start_time": "2021-09-07T20:14:49.038Z"
   },
   {
    "duration": 490,
    "start_time": "2021-09-07T20:14:53.763Z"
   },
   {
    "duration": -274,
    "start_time": "2021-09-07T20:14:54.536Z"
   },
   {
    "duration": -300,
    "start_time": "2021-09-07T20:14:54.563Z"
   },
   {
    "duration": -308,
    "start_time": "2021-09-07T20:14:54.572Z"
   },
   {
    "duration": -317,
    "start_time": "2021-09-07T20:14:54.583Z"
   },
   {
    "duration": -322,
    "start_time": "2021-09-07T20:14:54.589Z"
   },
   {
    "duration": -325,
    "start_time": "2021-09-07T20:14:54.594Z"
   },
   {
    "duration": -330,
    "start_time": "2021-09-07T20:14:54.600Z"
   },
   {
    "duration": -333,
    "start_time": "2021-09-07T20:14:54.605Z"
   },
   {
    "duration": -341,
    "start_time": "2021-09-07T20:14:54.614Z"
   },
   {
    "duration": -345,
    "start_time": "2021-09-07T20:14:54.620Z"
   },
   {
    "duration": -351,
    "start_time": "2021-09-07T20:14:54.627Z"
   },
   {
    "duration": -357,
    "start_time": "2021-09-07T20:14:54.634Z"
   },
   {
    "duration": -361,
    "start_time": "2021-09-07T20:14:54.640Z"
   },
   {
    "duration": -370,
    "start_time": "2021-09-07T20:14:54.650Z"
   },
   {
    "duration": 2443,
    "start_time": "2021-09-07T20:15:23.056Z"
   },
   {
    "duration": 2521,
    "start_time": "2021-09-07T20:15:50.694Z"
   },
   {
    "duration": 1838,
    "start_time": "2021-09-07T20:16:02.608Z"
   },
   {
    "duration": 35,
    "start_time": "2021-09-07T20:16:04.449Z"
   },
   {
    "duration": 11,
    "start_time": "2021-09-07T20:16:04.487Z"
   },
   {
    "duration": 18,
    "start_time": "2021-09-07T20:16:04.501Z"
   },
   {
    "duration": 15,
    "start_time": "2021-09-07T20:16:04.521Z"
   },
   {
    "duration": 53,
    "start_time": "2021-09-07T20:16:04.539Z"
   },
   {
    "duration": 5,
    "start_time": "2021-09-07T20:16:04.595Z"
   },
   {
    "duration": 11,
    "start_time": "2021-09-07T20:16:04.606Z"
   },
   {
    "duration": 46,
    "start_time": "2021-09-07T20:16:04.620Z"
   },
   {
    "duration": 10,
    "start_time": "2021-09-07T20:16:04.669Z"
   },
   {
    "duration": 12,
    "start_time": "2021-09-07T20:16:04.681Z"
   },
   {
    "duration": 10,
    "start_time": "2021-09-07T20:16:04.695Z"
   },
   {
    "duration": 25,
    "start_time": "2021-09-07T20:16:04.707Z"
   },
   {
    "duration": 28,
    "start_time": "2021-09-07T20:16:04.734Z"
   },
   {
    "duration": 150,
    "start_time": "2021-09-07T20:16:04.764Z"
   },
   {
    "duration": 182,
    "start_time": "2021-09-07T20:16:04.917Z"
   },
   {
    "duration": 164,
    "start_time": "2021-09-07T20:16:05.102Z"
   },
   {
    "duration": 10,
    "start_time": "2021-09-07T20:16:05.268Z"
   },
   {
    "duration": 4688,
    "start_time": "2021-09-07T20:16:05.280Z"
   },
   {
    "duration": 2472,
    "start_time": "2021-09-07T20:16:09.971Z"
   },
   {
    "duration": 3980,
    "start_time": "2021-09-07T20:16:12.445Z"
   },
   {
    "duration": 123,
    "start_time": "2021-09-07T20:16:16.427Z"
   },
   {
    "duration": 3507,
    "start_time": "2021-09-07T20:16:16.555Z"
   },
   {
    "duration": 4538,
    "start_time": "2021-09-07T20:16:20.064Z"
   },
   {
    "duration": 70895,
    "start_time": "2021-09-07T20:16:24.605Z"
   },
   {
    "duration": 17,
    "start_time": "2021-09-07T20:17:35.502Z"
   },
   {
    "duration": 4,
    "start_time": "2021-09-07T20:17:35.521Z"
   },
   {
    "duration": 13,
    "start_time": "2021-09-07T20:17:35.562Z"
   },
   {
    "duration": 5,
    "start_time": "2021-09-07T20:17:35.577Z"
   },
   {
    "duration": 78,
    "start_time": "2021-09-07T20:17:35.584Z"
   },
   {
    "duration": 5,
    "start_time": "2021-09-07T20:17:35.664Z"
   },
   {
    "duration": 18,
    "start_time": "2021-09-07T20:17:35.671Z"
   },
   {
    "duration": 5,
    "start_time": "2021-09-07T20:17:35.691Z"
   },
   {
    "duration": 18,
    "start_time": "2021-09-07T20:17:35.698Z"
   },
   {
    "duration": 3732,
    "start_time": "2021-09-07T20:17:35.719Z"
   },
   {
    "duration": 121,
    "start_time": "2021-09-07T20:17:39.454Z"
   },
   {
    "duration": 1521,
    "start_time": "2021-09-07T20:18:20.577Z"
   },
   {
    "duration": 37,
    "start_time": "2021-09-07T20:18:22.100Z"
   },
   {
    "duration": 12,
    "start_time": "2021-09-07T20:18:22.140Z"
   },
   {
    "duration": 8,
    "start_time": "2021-09-07T20:18:22.162Z"
   },
   {
    "duration": 9,
    "start_time": "2021-09-07T20:18:22.173Z"
   },
   {
    "duration": 36,
    "start_time": "2021-09-07T20:18:22.184Z"
   },
   {
    "duration": 5,
    "start_time": "2021-09-07T20:18:22.222Z"
   },
   {
    "duration": 10,
    "start_time": "2021-09-07T20:18:22.263Z"
   },
   {
    "duration": 7,
    "start_time": "2021-09-07T20:18:22.276Z"
   },
   {
    "duration": 6,
    "start_time": "2021-09-07T20:18:22.285Z"
   },
   {
    "duration": 7,
    "start_time": "2021-09-07T20:18:22.293Z"
   },
   {
    "duration": 7,
    "start_time": "2021-09-07T20:18:22.303Z"
   },
   {
    "duration": 62,
    "start_time": "2021-09-07T20:18:22.313Z"
   },
   {
    "duration": 8,
    "start_time": "2021-09-07T20:18:22.377Z"
   },
   {
    "duration": 161,
    "start_time": "2021-09-07T20:18:22.387Z"
   },
   {
    "duration": 174,
    "start_time": "2021-09-07T20:18:22.562Z"
   },
   {
    "duration": 163,
    "start_time": "2021-09-07T20:18:22.738Z"
   },
   {
    "duration": 12,
    "start_time": "2021-09-07T20:18:22.904Z"
   },
   {
    "duration": 5363,
    "start_time": "2021-09-07T20:18:22.919Z"
   },
   {
    "duration": 2445,
    "start_time": "2021-09-07T20:18:28.284Z"
   },
   {
    "duration": 3733,
    "start_time": "2021-09-07T20:18:30.731Z"
   },
   {
    "duration": 126,
    "start_time": "2021-09-07T20:18:34.467Z"
   },
   {
    "duration": 3437,
    "start_time": "2021-09-07T20:18:34.598Z"
   },
   {
    "duration": 4436,
    "start_time": "2021-09-07T20:18:38.039Z"
   },
   {
    "duration": 71904,
    "start_time": "2021-09-07T20:18:42.478Z"
   },
   {
    "duration": 19,
    "start_time": "2021-09-07T20:19:54.385Z"
   },
   {
    "duration": 4,
    "start_time": "2021-09-07T20:19:54.406Z"
   },
   {
    "duration": 60,
    "start_time": "2021-09-07T20:19:54.412Z"
   },
   {
    "duration": 5,
    "start_time": "2021-09-07T20:19:54.474Z"
   },
   {
    "duration": 46,
    "start_time": "2021-09-07T20:19:54.482Z"
   },
   {
    "duration": 6,
    "start_time": "2021-09-07T20:19:54.531Z"
   },
   {
    "duration": 17,
    "start_time": "2021-09-07T20:19:54.563Z"
   },
   {
    "duration": 5,
    "start_time": "2021-09-07T20:19:54.583Z"
   },
   {
    "duration": 13,
    "start_time": "2021-09-07T20:19:54.591Z"
   },
   {
    "duration": 4443,
    "start_time": "2021-09-07T20:19:54.608Z"
   },
   {
    "duration": 153,
    "start_time": "2021-09-07T20:21:54.410Z"
   },
   {
    "duration": 146,
    "start_time": "2021-09-07T20:23:21.941Z"
   },
   {
    "duration": 156,
    "start_time": "2021-09-07T20:23:35.389Z"
   },
   {
    "duration": 4592,
    "start_time": "2021-09-07T20:23:50.240Z"
   },
   {
    "duration": 150,
    "start_time": "2021-09-07T20:24:19.739Z"
   },
   {
    "duration": 160,
    "start_time": "2021-09-07T20:24:53.595Z"
   },
   {
    "duration": 166,
    "start_time": "2021-09-07T20:24:56.192Z"
   },
   {
    "duration": 2432,
    "start_time": "2021-09-07T20:25:57.521Z"
   },
   {
    "duration": 3530,
    "start_time": "2021-09-07T20:26:17.967Z"
   },
   {
    "duration": 100,
    "start_time": "2021-09-07T20:26:45.151Z"
   },
   {
    "duration": 103,
    "start_time": "2021-09-07T20:26:47.973Z"
   },
   {
    "duration": 3583,
    "start_time": "2021-09-07T20:26:50.485Z"
   },
   {
    "duration": 1548,
    "start_time": "2021-09-07T20:27:04.420Z"
   },
   {
    "duration": 37,
    "start_time": "2021-09-07T20:27:05.971Z"
   },
   {
    "duration": 11,
    "start_time": "2021-09-07T20:27:06.011Z"
   },
   {
    "duration": 12,
    "start_time": "2021-09-07T20:27:06.025Z"
   },
   {
    "duration": 27,
    "start_time": "2021-09-07T20:27:06.039Z"
   },
   {
    "duration": 33,
    "start_time": "2021-09-07T20:27:06.068Z"
   },
   {
    "duration": 5,
    "start_time": "2021-09-07T20:27:06.104Z"
   },
   {
    "duration": 20,
    "start_time": "2021-09-07T20:27:06.113Z"
   },
   {
    "duration": 30,
    "start_time": "2021-09-07T20:27:06.136Z"
   },
   {
    "duration": 5,
    "start_time": "2021-09-07T20:27:06.169Z"
   },
   {
    "duration": 9,
    "start_time": "2021-09-07T20:27:06.176Z"
   },
   {
    "duration": 11,
    "start_time": "2021-09-07T20:27:06.187Z"
   },
   {
    "duration": 21,
    "start_time": "2021-09-07T20:27:06.201Z"
   },
   {
    "duration": 43,
    "start_time": "2021-09-07T20:27:06.225Z"
   },
   {
    "duration": 150,
    "start_time": "2021-09-07T20:27:06.271Z"
   },
   {
    "duration": 185,
    "start_time": "2021-09-07T20:27:06.424Z"
   },
   {
    "duration": 179,
    "start_time": "2021-09-07T20:27:06.612Z"
   },
   {
    "duration": 13,
    "start_time": "2021-09-07T20:27:06.795Z"
   },
   {
    "duration": 4961,
    "start_time": "2021-09-07T20:27:06.811Z"
   },
   {
    "duration": 2548,
    "start_time": "2021-09-07T20:27:11.774Z"
   },
   {
    "duration": 3668,
    "start_time": "2021-09-07T20:27:14.325Z"
   },
   {
    "duration": 112,
    "start_time": "2021-09-07T20:27:17.996Z"
   },
   {
    "duration": 3456,
    "start_time": "2021-09-07T20:27:18.112Z"
   },
   {
    "duration": 4370,
    "start_time": "2021-09-07T20:27:21.570Z"
   },
   {
    "duration": 72263,
    "start_time": "2021-09-07T20:27:25.942Z"
   },
   {
    "duration": 17,
    "start_time": "2021-09-07T20:28:38.207Z"
   },
   {
    "duration": 37,
    "start_time": "2021-09-07T20:28:38.227Z"
   },
   {
    "duration": 16,
    "start_time": "2021-09-07T20:28:38.266Z"
   },
   {
    "duration": 6,
    "start_time": "2021-09-07T20:28:38.284Z"
   },
   {
    "duration": 77,
    "start_time": "2021-09-07T20:28:38.292Z"
   },
   {
    "duration": 6,
    "start_time": "2021-09-07T20:28:38.371Z"
   },
   {
    "duration": 17,
    "start_time": "2021-09-07T20:28:38.380Z"
   },
   {
    "duration": 5,
    "start_time": "2021-09-07T20:28:38.399Z"
   },
   {
    "duration": 14,
    "start_time": "2021-09-07T20:28:38.407Z"
   },
   {
    "duration": 3235,
    "start_time": "2021-09-07T20:28:38.463Z"
   },
   {
    "duration": 4244,
    "start_time": "2021-09-07T20:28:41.701Z"
   },
   {
    "duration": 4086,
    "start_time": "2021-09-07T20:29:02.412Z"
   },
   {
    "duration": 493,
    "start_time": "2021-09-07T20:32:26.173Z"
   },
   {
    "duration": 18,
    "start_time": "2021-09-07T20:32:35.349Z"
   },
   {
    "duration": 9,
    "start_time": "2021-09-07T20:32:37.549Z"
   },
   {
    "duration": 134,
    "start_time": "2021-09-07T20:32:39.577Z"
   },
   {
    "duration": 176,
    "start_time": "2021-09-07T20:32:42.470Z"
   },
   {
    "duration": 150,
    "start_time": "2021-09-07T20:33:06.244Z"
   },
   {
    "duration": 159,
    "start_time": "2021-09-07T20:33:18.531Z"
   },
   {
    "duration": 150,
    "start_time": "2021-09-07T20:33:23.366Z"
   },
   {
    "duration": 171,
    "start_time": "2021-09-07T20:33:27.051Z"
   },
   {
    "duration": 4563,
    "start_time": "2021-09-07T20:33:55.767Z"
   },
   {
    "duration": 4674,
    "start_time": "2021-09-07T20:34:23.549Z"
   },
   {
    "duration": 4737,
    "start_time": "2021-09-07T20:35:02.540Z"
   },
   {
    "duration": 1602,
    "start_time": "2021-09-07T20:35:24.078Z"
   },
   {
    "duration": 36,
    "start_time": "2021-09-07T20:35:25.683Z"
   },
   {
    "duration": 14,
    "start_time": "2021-09-07T20:35:25.725Z"
   },
   {
    "duration": 24,
    "start_time": "2021-09-07T20:35:25.742Z"
   },
   {
    "duration": 13,
    "start_time": "2021-09-07T20:35:25.769Z"
   },
   {
    "duration": 41,
    "start_time": "2021-09-07T20:35:25.784Z"
   },
   {
    "duration": 4,
    "start_time": "2021-09-07T20:35:25.829Z"
   },
   {
    "duration": 26,
    "start_time": "2021-09-07T20:35:25.836Z"
   },
   {
    "duration": 7,
    "start_time": "2021-09-07T20:35:25.864Z"
   },
   {
    "duration": 18,
    "start_time": "2021-09-07T20:35:25.873Z"
   },
   {
    "duration": 15,
    "start_time": "2021-09-07T20:35:25.894Z"
   },
   {
    "duration": 20,
    "start_time": "2021-09-07T20:35:25.911Z"
   },
   {
    "duration": 29,
    "start_time": "2021-09-07T20:35:25.933Z"
   },
   {
    "duration": 7,
    "start_time": "2021-09-07T20:35:25.964Z"
   },
   {
    "duration": 291,
    "start_time": "2021-09-07T20:35:25.973Z"
   },
   {
    "duration": 335,
    "start_time": "2021-09-07T20:35:26.266Z"
   },
   {
    "duration": 320,
    "start_time": "2021-09-07T20:35:26.604Z"
   },
   {
    "duration": 12,
    "start_time": "2021-09-07T20:35:26.927Z"
   },
   {
    "duration": 4780,
    "start_time": "2021-09-07T20:35:26.942Z"
   },
   {
    "duration": 2506,
    "start_time": "2021-09-07T20:35:31.725Z"
   },
   {
    "duration": 3565,
    "start_time": "2021-09-07T20:35:34.234Z"
   },
   {
    "duration": 113,
    "start_time": "2021-09-07T20:35:37.803Z"
   },
   {
    "duration": 3189,
    "start_time": "2021-09-07T20:35:37.919Z"
   },
   {
    "duration": 4011,
    "start_time": "2021-09-07T20:35:41.110Z"
   },
   {
    "duration": 70567,
    "start_time": "2021-09-07T20:35:45.123Z"
   },
   {
    "duration": 18,
    "start_time": "2021-09-07T20:36:55.693Z"
   },
   {
    "duration": 5,
    "start_time": "2021-09-07T20:36:55.713Z"
   },
   {
    "duration": 12,
    "start_time": "2021-09-07T20:36:55.763Z"
   },
   {
    "duration": 6,
    "start_time": "2021-09-07T20:36:55.778Z"
   },
   {
    "duration": 75,
    "start_time": "2021-09-07T20:36:55.787Z"
   },
   {
    "duration": 7,
    "start_time": "2021-09-07T20:36:55.864Z"
   },
   {
    "duration": 20,
    "start_time": "2021-09-07T20:36:55.873Z"
   },
   {
    "duration": 7,
    "start_time": "2021-09-07T20:36:55.895Z"
   },
   {
    "duration": 16,
    "start_time": "2021-09-07T20:36:55.905Z"
   },
   {
    "duration": 2024,
    "start_time": "2021-09-07T20:38:04.441Z"
   },
   {
    "duration": 45,
    "start_time": "2021-09-07T20:38:06.468Z"
   },
   {
    "duration": 15,
    "start_time": "2021-09-07T20:38:06.516Z"
   },
   {
    "duration": 13,
    "start_time": "2021-09-07T20:38:06.534Z"
   },
   {
    "duration": 14,
    "start_time": "2021-09-07T20:38:06.550Z"
   },
   {
    "duration": 54,
    "start_time": "2021-09-07T20:38:06.567Z"
   },
   {
    "duration": 40,
    "start_time": "2021-09-07T20:38:06.624Z"
   },
   {
    "duration": 12,
    "start_time": "2021-09-07T20:38:06.670Z"
   },
   {
    "duration": 13,
    "start_time": "2021-09-07T20:38:06.686Z"
   },
   {
    "duration": 60,
    "start_time": "2021-09-07T20:38:06.702Z"
   },
   {
    "duration": 7,
    "start_time": "2021-09-07T20:38:06.765Z"
   },
   {
    "duration": 6,
    "start_time": "2021-09-07T20:38:06.775Z"
   },
   {
    "duration": 10,
    "start_time": "2021-09-07T20:38:06.784Z"
   },
   {
    "duration": 5231,
    "start_time": "2021-09-07T20:38:06.797Z"
   },
   {
    "duration": 70943,
    "start_time": "2021-09-07T20:38:12.031Z"
   },
   {
    "duration": 20,
    "start_time": "2021-09-07T20:39:22.977Z"
   },
   {
    "duration": 5,
    "start_time": "2021-09-07T20:39:22.999Z"
   },
   {
    "duration": 64,
    "start_time": "2021-09-07T20:39:23.006Z"
   },
   {
    "duration": 6,
    "start_time": "2021-09-07T20:39:23.072Z"
   },
   {
    "duration": 47,
    "start_time": "2021-09-07T20:39:23.081Z"
   },
   {
    "duration": 34,
    "start_time": "2021-09-07T20:39:23.130Z"
   },
   {
    "duration": 23,
    "start_time": "2021-09-07T20:39:23.167Z"
   },
   {
    "duration": 7,
    "start_time": "2021-09-07T20:39:23.194Z"
   },
   {
    "duration": 23,
    "start_time": "2021-09-07T20:39:23.203Z"
   },
   {
    "duration": 18,
    "start_time": "2021-09-07T20:43:43.554Z"
   },
   {
    "duration": 6,
    "start_time": "2021-09-07T20:43:45.346Z"
   },
   {
    "duration": 19,
    "start_time": "2021-09-07T20:46:14.649Z"
   },
   {
    "duration": 5,
    "start_time": "2021-09-07T20:46:17.637Z"
   },
   {
    "duration": 504,
    "start_time": "2021-09-07T20:46:50.349Z"
   },
   {
    "duration": 374,
    "start_time": "2021-09-07T20:46:57.886Z"
   },
   {
    "duration": 20,
    "start_time": "2021-09-07T20:47:03.276Z"
   },
   {
    "duration": 5,
    "start_time": "2021-09-07T20:52:53.171Z"
   },
   {
    "duration": 113,
    "start_time": "2021-09-07T20:55:12.855Z"
   },
   {
    "duration": 810,
    "start_time": "2021-09-07T20:55:39.491Z"
   },
   {
    "duration": 26,
    "start_time": "2021-09-07T20:55:52.677Z"
   },
   {
    "duration": 20,
    "start_time": "2021-09-07T20:56:20.421Z"
   },
   {
    "duration": 20,
    "start_time": "2021-09-07T20:56:30.709Z"
   },
   {
    "duration": 20,
    "start_time": "2021-09-07T20:56:37.266Z"
   },
   {
    "duration": 72060,
    "start_time": "2021-09-07T20:57:16.570Z"
   },
   {
    "duration": 23,
    "start_time": "2021-09-07T20:59:30.510Z"
   },
   {
    "duration": 22,
    "start_time": "2021-09-07T20:59:34.781Z"
   },
   {
    "duration": 23,
    "start_time": "2021-09-07T20:59:38.033Z"
   },
   {
    "duration": 21,
    "start_time": "2021-09-07T20:59:41.614Z"
   },
   {
    "duration": 18,
    "start_time": "2021-09-07T20:59:45.605Z"
   },
   {
    "duration": 16,
    "start_time": "2021-09-07T20:59:48.670Z"
   },
   {
    "duration": 14,
    "start_time": "2021-09-07T20:59:52.428Z"
   },
   {
    "duration": 13,
    "start_time": "2021-09-07T20:59:55.476Z"
   },
   {
    "duration": 15,
    "start_time": "2021-09-07T20:59:58.461Z"
   },
   {
    "duration": 17,
    "start_time": "2021-09-07T21:00:02.307Z"
   },
   {
    "duration": 18,
    "start_time": "2021-09-07T21:00:06.460Z"
   },
   {
    "duration": 19,
    "start_time": "2021-09-07T21:00:10.108Z"
   },
   {
    "duration": 19,
    "start_time": "2021-09-07T21:00:13.227Z"
   },
   {
    "duration": 18,
    "start_time": "2021-09-07T21:00:18.516Z"
   },
   {
    "duration": 20,
    "start_time": "2021-09-07T21:00:21.196Z"
   },
   {
    "duration": 4923,
    "start_time": "2021-09-07T21:01:37.669Z"
   },
   {
    "duration": 4614,
    "start_time": "2021-09-07T21:01:45.847Z"
   },
   {
    "duration": 6062,
    "start_time": "2021-09-07T21:02:06.984Z"
   },
   {
    "duration": 9,
    "start_time": "2021-09-07T21:02:48.416Z"
   },
   {
    "duration": 8,
    "start_time": "2021-09-07T21:02:50.135Z"
   },
   {
    "duration": 71308,
    "start_time": "2021-09-07T21:03:45.329Z"
   },
   {
    "duration": 17,
    "start_time": "2021-09-07T21:05:00.428Z"
   },
   {
    "duration": 1681,
    "start_time": "2021-09-07T21:05:38.372Z"
   },
   {
    "duration": 36,
    "start_time": "2021-09-07T21:05:40.056Z"
   },
   {
    "duration": 12,
    "start_time": "2021-09-07T21:05:40.095Z"
   },
   {
    "duration": 11,
    "start_time": "2021-09-07T21:05:40.110Z"
   },
   {
    "duration": 14,
    "start_time": "2021-09-07T21:05:40.123Z"
   },
   {
    "duration": 61,
    "start_time": "2021-09-07T21:05:40.163Z"
   },
   {
    "duration": 26,
    "start_time": "2021-09-07T21:05:40.235Z"
   },
   {
    "duration": 23,
    "start_time": "2021-09-07T21:05:40.266Z"
   },
   {
    "duration": 8,
    "start_time": "2021-09-07T21:05:40.293Z"
   },
   {
    "duration": 6,
    "start_time": "2021-09-07T21:05:40.304Z"
   },
   {
    "duration": 8,
    "start_time": "2021-09-07T21:05:40.312Z"
   },
   {
    "duration": 9,
    "start_time": "2021-09-07T21:05:40.322Z"
   },
   {
    "duration": 15,
    "start_time": "2021-09-07T21:05:40.362Z"
   },
   {
    "duration": 6253,
    "start_time": "2021-09-07T21:05:40.380Z"
   },
   {
    "duration": 1468,
    "start_time": "2021-09-07T21:06:57.509Z"
   },
   {
    "duration": 35,
    "start_time": "2021-09-07T21:06:58.980Z"
   },
   {
    "duration": 12,
    "start_time": "2021-09-07T21:06:59.021Z"
   },
   {
    "duration": 30,
    "start_time": "2021-09-07T21:06:59.035Z"
   },
   {
    "duration": 8,
    "start_time": "2021-09-07T21:06:59.067Z"
   },
   {
    "duration": 38,
    "start_time": "2021-09-07T21:06:59.077Z"
   },
   {
    "duration": 5,
    "start_time": "2021-09-07T21:06:59.118Z"
   },
   {
    "duration": 41,
    "start_time": "2021-09-07T21:06:59.126Z"
   },
   {
    "duration": 13,
    "start_time": "2021-09-07T21:06:59.169Z"
   },
   {
    "duration": 19,
    "start_time": "2021-09-07T21:06:59.184Z"
   },
   {
    "duration": 21,
    "start_time": "2021-09-07T21:06:59.205Z"
   },
   {
    "duration": 18,
    "start_time": "2021-09-07T21:06:59.229Z"
   },
   {
    "duration": 22,
    "start_time": "2021-09-07T21:06:59.249Z"
   },
   {
    "duration": 7470,
    "start_time": "2021-09-07T21:06:59.273Z"
   },
   {
    "duration": 1611,
    "start_time": "2021-09-07T21:08:14.005Z"
   },
   {
    "duration": 37,
    "start_time": "2021-09-07T21:08:15.619Z"
   },
   {
    "duration": 12,
    "start_time": "2021-09-07T21:08:15.658Z"
   },
   {
    "duration": 10,
    "start_time": "2021-09-07T21:08:15.672Z"
   },
   {
    "duration": 11,
    "start_time": "2021-09-07T21:08:15.684Z"
   },
   {
    "duration": 37,
    "start_time": "2021-09-07T21:08:15.697Z"
   },
   {
    "duration": 5,
    "start_time": "2021-09-07T21:08:15.762Z"
   },
   {
    "duration": 18,
    "start_time": "2021-09-07T21:08:15.769Z"
   },
   {
    "duration": 8,
    "start_time": "2021-09-07T21:08:15.791Z"
   },
   {
    "duration": 16,
    "start_time": "2021-09-07T21:08:15.802Z"
   },
   {
    "duration": 10,
    "start_time": "2021-09-07T21:08:15.820Z"
   },
   {
    "duration": 18,
    "start_time": "2021-09-07T21:08:15.832Z"
   },
   {
    "duration": 14,
    "start_time": "2021-09-07T21:08:15.862Z"
   },
   {
    "duration": 6109,
    "start_time": "2021-09-07T21:08:15.879Z"
   },
   {
    "duration": 71233,
    "start_time": "2021-09-07T21:08:21.991Z"
   },
   {
    "duration": 14,
    "start_time": "2021-09-07T21:09:33.226Z"
   },
   {
    "duration": 4,
    "start_time": "2021-09-07T21:09:33.263Z"
   },
   {
    "duration": 13,
    "start_time": "2021-09-07T21:09:33.269Z"
   },
   {
    "duration": 33,
    "start_time": "2021-09-07T21:09:33.284Z"
   },
   {
    "duration": 15,
    "start_time": "2021-09-07T21:09:33.320Z"
   },
   {
    "duration": 26,
    "start_time": "2021-09-07T21:09:33.337Z"
   },
   {
    "duration": 59,
    "start_time": "2021-09-07T21:09:33.365Z"
   },
   {
    "duration": 6,
    "start_time": "2021-09-07T21:09:33.427Z"
   },
   {
    "duration": 27,
    "start_time": "2021-09-07T21:09:33.435Z"
   },
   {
    "duration": 6,
    "start_time": "2021-09-07T21:09:33.464Z"
   },
   {
    "duration": 16,
    "start_time": "2021-09-07T21:09:33.472Z"
   },
   {
    "duration": 5126,
    "start_time": "2021-09-07T21:09:33.495Z"
   },
   {
    "duration": 4737,
    "start_time": "2021-09-07T21:09:59.432Z"
   },
   {
    "duration": 9,
    "start_time": "2021-09-07T21:10:18.168Z"
   },
   {
    "duration": 9,
    "start_time": "2021-09-07T21:10:22.653Z"
   },
   {
    "duration": 4664,
    "start_time": "2021-09-07T21:10:29.656Z"
   },
   {
    "duration": 71307,
    "start_time": "2021-09-07T21:11:15.303Z"
   },
   {
    "duration": 19,
    "start_time": "2021-09-07T21:12:41.006Z"
   },
   {
    "duration": 17,
    "start_time": "2021-09-07T21:13:02.197Z"
   },
   {
    "duration": 22,
    "start_time": "2021-09-07T21:13:12.059Z"
   },
   {
    "duration": 121,
    "start_time": "2021-09-07T21:18:55.803Z"
   },
   {
    "duration": 443,
    "start_time": "2021-09-07T21:20:26.537Z"
   },
   {
    "duration": 442,
    "start_time": "2021-09-07T21:20:38.215Z"
   },
   {
    "duration": 110,
    "start_time": "2021-09-07T21:24:42.144Z"
   },
   {
    "duration": 174,
    "start_time": "2021-09-07T21:25:36.950Z"
   },
   {
    "duration": 4,
    "start_time": "2021-09-07T21:25:43.093Z"
   },
   {
    "duration": 170,
    "start_time": "2021-09-07T21:26:23.008Z"
   },
   {
    "duration": 166,
    "start_time": "2021-09-07T21:26:34.156Z"
   },
   {
    "duration": 436,
    "start_time": "2021-09-07T21:27:09.939Z"
   },
   {
    "duration": 17,
    "start_time": "2021-09-07T21:28:52.701Z"
   },
   {
    "duration": 6,
    "start_time": "2021-09-07T21:28:54.295Z"
   },
   {
    "duration": 1520,
    "start_time": "2021-09-07T21:29:06.361Z"
   },
   {
    "duration": 35,
    "start_time": "2021-09-07T21:29:07.884Z"
   },
   {
    "duration": 11,
    "start_time": "2021-09-07T21:29:07.922Z"
   },
   {
    "duration": 26,
    "start_time": "2021-09-07T21:29:07.936Z"
   },
   {
    "duration": 8,
    "start_time": "2021-09-07T21:29:07.964Z"
   },
   {
    "duration": 32,
    "start_time": "2021-09-07T21:29:07.974Z"
   },
   {
    "duration": 5,
    "start_time": "2021-09-07T21:29:08.009Z"
   },
   {
    "duration": 45,
    "start_time": "2021-09-07T21:29:08.017Z"
   },
   {
    "duration": 7,
    "start_time": "2021-09-07T21:29:08.065Z"
   },
   {
    "duration": 5,
    "start_time": "2021-09-07T21:29:08.074Z"
   },
   {
    "duration": 7,
    "start_time": "2021-09-07T21:29:08.082Z"
   },
   {
    "duration": 11,
    "start_time": "2021-09-07T21:29:08.091Z"
   },
   {
    "duration": 11,
    "start_time": "2021-09-07T21:29:08.104Z"
   },
   {
    "duration": 4700,
    "start_time": "2021-09-07T21:29:08.117Z"
   },
   {
    "duration": 6,
    "start_time": "2021-09-07T21:29:12.819Z"
   },
   {
    "duration": 70942,
    "start_time": "2021-09-07T21:29:12.863Z"
   },
   {
    "duration": 6,
    "start_time": "2021-09-07T21:30:23.807Z"
   },
   {
    "duration": 53,
    "start_time": "2021-09-07T21:30:23.816Z"
   },
   {
    "duration": 5,
    "start_time": "2021-09-07T21:30:23.871Z"
   },
   {
    "duration": 8,
    "start_time": "2021-09-07T21:30:23.878Z"
   },
   {
    "duration": 26,
    "start_time": "2021-09-07T21:30:23.888Z"
   },
   {
    "duration": 4,
    "start_time": "2021-09-07T21:30:23.916Z"
   },
   {
    "duration": 463,
    "start_time": "2021-09-07T21:30:23.924Z"
   },
   {
    "duration": 175,
    "start_time": "2021-09-07T21:30:24.390Z"
   },
   {
    "duration": 5,
    "start_time": "2021-09-07T21:30:24.567Z"
   },
   {
    "duration": 423,
    "start_time": "2021-09-07T21:30:24.574Z"
   },
   {
    "duration": 18,
    "start_time": "2021-09-07T21:30:24.999Z"
   },
   {
    "duration": 6,
    "start_time": "2021-09-07T21:30:25.019Z"
   },
   {
    "duration": 38,
    "start_time": "2021-09-07T21:30:25.027Z"
   },
   {
    "duration": 425,
    "start_time": "2021-09-07T21:32:20.760Z"
   },
   {
    "duration": 617,
    "start_time": "2021-09-07T21:32:45.753Z"
   },
   {
    "duration": 344,
    "start_time": "2021-09-07T21:33:00.486Z"
   },
   {
    "duration": 359,
    "start_time": "2021-09-07T21:33:10.271Z"
   },
   {
    "duration": 318,
    "start_time": "2021-09-07T21:34:40.026Z"
   },
   {
    "duration": 149,
    "start_time": "2021-09-07T21:34:50.944Z"
   },
   {
    "duration": 340,
    "start_time": "2021-09-07T21:34:58.289Z"
   },
   {
    "duration": 18,
    "start_time": "2021-09-07T21:35:05.306Z"
   },
   {
    "duration": 286,
    "start_time": "2021-09-07T21:35:17.740Z"
   },
   {
    "duration": 4,
    "start_time": "2021-09-07T21:35:22.466Z"
   },
   {
    "duration": 321,
    "start_time": "2021-09-07T21:35:40.315Z"
   },
   {
    "duration": 608,
    "start_time": "2021-09-07T21:36:01.564Z"
   },
   {
    "duration": 425,
    "start_time": "2021-09-07T21:37:38.465Z"
   },
   {
    "duration": 116,
    "start_time": "2021-09-07T21:38:12.021Z"
   },
   {
    "duration": 421,
    "start_time": "2021-09-07T21:38:17.262Z"
   },
   {
    "duration": 363,
    "start_time": "2021-09-07T21:39:26.427Z"
   },
   {
    "duration": 1484,
    "start_time": "2021-09-07T21:39:35.013Z"
   },
   {
    "duration": 81,
    "start_time": "2021-09-07T21:39:36.500Z"
   },
   {
    "duration": 12,
    "start_time": "2021-09-07T21:39:36.583Z"
   },
   {
    "duration": 69,
    "start_time": "2021-09-07T21:39:36.598Z"
   },
   {
    "duration": 7,
    "start_time": "2021-09-07T21:39:36.670Z"
   },
   {
    "duration": 87,
    "start_time": "2021-09-07T21:39:36.679Z"
   },
   {
    "duration": 5,
    "start_time": "2021-09-07T21:39:36.768Z"
   },
   {
    "duration": 9,
    "start_time": "2021-09-07T21:39:36.777Z"
   },
   {
    "duration": 8,
    "start_time": "2021-09-07T21:39:36.789Z"
   },
   {
    "duration": 5,
    "start_time": "2021-09-07T21:39:36.800Z"
   },
   {
    "duration": 5,
    "start_time": "2021-09-07T21:39:36.863Z"
   },
   {
    "duration": 7,
    "start_time": "2021-09-07T21:39:36.870Z"
   },
   {
    "duration": 16,
    "start_time": "2021-09-07T21:39:36.879Z"
   },
   {
    "duration": 4722,
    "start_time": "2021-09-07T21:39:36.897Z"
   },
   {
    "duration": 8,
    "start_time": "2021-09-07T21:39:41.622Z"
   },
   {
    "duration": 71865,
    "start_time": "2021-09-07T21:39:41.663Z"
   },
   {
    "duration": 6,
    "start_time": "2021-09-07T21:40:53.530Z"
   },
   {
    "duration": 44,
    "start_time": "2021-09-07T21:40:53.538Z"
   },
   {
    "duration": 5,
    "start_time": "2021-09-07T21:40:53.584Z"
   },
   {
    "duration": 8,
    "start_time": "2021-09-07T21:40:53.592Z"
   },
   {
    "duration": 63,
    "start_time": "2021-09-07T21:40:53.603Z"
   },
   {
    "duration": 5,
    "start_time": "2021-09-07T21:40:53.668Z"
   },
   {
    "duration": 459,
    "start_time": "2021-09-07T21:40:53.677Z"
   },
   {
    "duration": 183,
    "start_time": "2021-09-07T21:40:54.139Z"
   },
   {
    "duration": 5,
    "start_time": "2021-09-07T21:40:54.324Z"
   },
   {
    "duration": 474,
    "start_time": "2021-09-07T21:40:54.331Z"
   },
   {
    "duration": 18,
    "start_time": "2021-09-07T21:40:54.807Z"
   },
   {
    "duration": 453,
    "start_time": "2021-09-07T21:40:54.827Z"
   },
   {
    "duration": -5,
    "start_time": "2021-09-07T21:40:55.287Z"
   },
   {
    "duration": -6,
    "start_time": "2021-09-07T21:40:55.290Z"
   },
   {
    "duration": 4,
    "start_time": "2021-09-07T21:41:39.846Z"
   },
   {
    "duration": 468,
    "start_time": "2021-09-07T21:41:42.607Z"
   },
   {
    "duration": 7,
    "start_time": "2021-09-07T21:48:40.408Z"
   },
   {
    "duration": 9,
    "start_time": "2021-09-07T21:48:53.599Z"
   },
   {
    "duration": 1558,
    "start_time": "2021-09-07T22:04:08.632Z"
   },
   {
    "duration": 37,
    "start_time": "2021-09-07T22:04:10.193Z"
   },
   {
    "duration": 25,
    "start_time": "2021-09-07T22:04:10.237Z"
   },
   {
    "duration": 13,
    "start_time": "2021-09-07T22:04:10.264Z"
   },
   {
    "duration": 10,
    "start_time": "2021-09-07T22:04:10.279Z"
   },
   {
    "duration": 34,
    "start_time": "2021-09-07T22:04:10.291Z"
   },
   {
    "duration": 5,
    "start_time": "2021-09-07T22:04:10.327Z"
   },
   {
    "duration": 9,
    "start_time": "2021-09-07T22:04:10.365Z"
   },
   {
    "duration": 9,
    "start_time": "2021-09-07T22:04:10.377Z"
   },
   {
    "duration": 6,
    "start_time": "2021-09-07T22:04:10.388Z"
   },
   {
    "duration": 7,
    "start_time": "2021-09-07T22:04:10.396Z"
   },
   {
    "duration": 12,
    "start_time": "2021-09-07T22:04:10.406Z"
   },
   {
    "duration": 47,
    "start_time": "2021-09-07T22:04:10.420Z"
   },
   {
    "duration": 4628,
    "start_time": "2021-09-07T22:04:10.470Z"
   },
   {
    "duration": 6,
    "start_time": "2021-09-07T22:04:15.100Z"
   },
   {
    "duration": 70684,
    "start_time": "2021-09-07T22:04:15.108Z"
   },
   {
    "duration": 6,
    "start_time": "2021-09-07T22:05:25.794Z"
   },
   {
    "duration": 60,
    "start_time": "2021-09-07T22:05:25.802Z"
   },
   {
    "duration": 4,
    "start_time": "2021-09-07T22:05:25.865Z"
   },
   {
    "duration": 24,
    "start_time": "2021-09-07T22:05:25.871Z"
   },
   {
    "duration": 30,
    "start_time": "2021-09-07T22:05:25.897Z"
   },
   {
    "duration": 5,
    "start_time": "2021-09-07T22:05:25.930Z"
   },
   {
    "duration": 530,
    "start_time": "2021-09-07T22:05:25.937Z"
   },
   {
    "duration": 176,
    "start_time": "2021-09-07T22:05:26.469Z"
   },
   {
    "duration": 4,
    "start_time": "2021-09-07T22:05:26.648Z"
   },
   {
    "duration": 429,
    "start_time": "2021-09-07T22:05:26.656Z"
   },
   {
    "duration": 18,
    "start_time": "2021-09-07T22:05:27.087Z"
   },
   {
    "duration": 4,
    "start_time": "2021-09-07T22:05:27.107Z"
   },
   {
    "duration": 477,
    "start_time": "2021-09-07T22:05:27.114Z"
   },
   {
    "duration": 7,
    "start_time": "2021-09-07T22:05:27.594Z"
   },
   {
    "duration": 129,
    "start_time": "2021-09-07T22:05:37.005Z"
   },
   {
    "duration": 80,
    "start_time": "2021-09-08T18:16:49.401Z"
   },
   {
    "duration": 312,
    "start_time": "2021-09-08T18:17:32.993Z"
   },
   {
    "duration": 1504,
    "start_time": "2021-09-08T18:17:38.712Z"
   },
   {
    "duration": 43,
    "start_time": "2021-09-08T18:17:40.219Z"
   },
   {
    "duration": 13,
    "start_time": "2021-09-08T18:17:40.267Z"
   },
   {
    "duration": 11,
    "start_time": "2021-09-08T18:17:40.283Z"
   },
   {
    "duration": 9,
    "start_time": "2021-09-08T18:17:40.297Z"
   },
   {
    "duration": 82,
    "start_time": "2021-09-08T18:17:40.309Z"
   },
   {
    "duration": 13,
    "start_time": "2021-09-08T18:17:40.394Z"
   },
   {
    "duration": 5,
    "start_time": "2021-09-08T18:17:40.410Z"
   },
   {
    "duration": 44,
    "start_time": "2021-09-08T18:17:40.418Z"
   },
   {
    "duration": 8,
    "start_time": "2021-09-08T18:17:40.464Z"
   },
   {
    "duration": 6,
    "start_time": "2021-09-08T18:17:40.474Z"
   },
   {
    "duration": 9,
    "start_time": "2021-09-08T18:17:40.482Z"
   },
   {
    "duration": 8,
    "start_time": "2021-09-08T18:17:40.493Z"
   },
   {
    "duration": 21,
    "start_time": "2021-09-08T18:17:40.503Z"
   },
   {
    "duration": 5540,
    "start_time": "2021-09-08T18:17:40.526Z"
   },
   {
    "duration": 7,
    "start_time": "2021-09-08T18:17:46.068Z"
   },
   {
    "duration": 73324,
    "start_time": "2021-09-08T18:17:46.077Z"
   },
   {
    "duration": 6,
    "start_time": "2021-09-08T18:18:59.404Z"
   },
   {
    "duration": 48,
    "start_time": "2021-09-08T18:18:59.413Z"
   },
   {
    "duration": 4,
    "start_time": "2021-09-08T18:18:59.464Z"
   },
   {
    "duration": 6,
    "start_time": "2021-09-08T18:18:59.471Z"
   },
   {
    "duration": 29,
    "start_time": "2021-09-08T18:18:59.480Z"
   },
   {
    "duration": 45,
    "start_time": "2021-09-08T18:18:59.513Z"
   },
   {
    "duration": 448,
    "start_time": "2021-09-08T18:18:59.561Z"
   },
   {
    "duration": 188,
    "start_time": "2021-09-08T18:19:00.012Z"
   },
   {
    "duration": 5,
    "start_time": "2021-09-08T18:19:00.202Z"
   },
   {
    "duration": 466,
    "start_time": "2021-09-08T18:19:00.210Z"
   },
   {
    "duration": 18,
    "start_time": "2021-09-08T18:19:00.679Z"
   },
   {
    "duration": 21,
    "start_time": "2021-09-08T18:19:00.699Z"
   },
   {
    "duration": 476,
    "start_time": "2021-09-08T18:19:00.723Z"
   },
   {
    "duration": 7,
    "start_time": "2021-09-08T18:19:01.202Z"
   },
   {
    "duration": 4816,
    "start_time": "2021-09-08T18:19:01.211Z"
   },
   {
    "duration": 5097,
    "start_time": "2021-09-08T18:19:27.252Z"
   },
   {
    "duration": 1992,
    "start_time": "2021-09-10T10:31:31.438Z"
   },
   {
    "duration": 40,
    "start_time": "2021-09-10T10:31:33.432Z"
   },
   {
    "duration": 19,
    "start_time": "2021-09-10T10:31:33.475Z"
   },
   {
    "duration": 15,
    "start_time": "2021-09-10T10:31:33.497Z"
   },
   {
    "duration": 13,
    "start_time": "2021-09-10T10:31:33.515Z"
   },
   {
    "duration": 60,
    "start_time": "2021-09-10T10:31:33.531Z"
   },
   {
    "duration": 15,
    "start_time": "2021-09-10T10:31:33.595Z"
   },
   {
    "duration": 4977,
    "start_time": "2021-09-10T10:31:33.614Z"
   },
   {
    "duration": 7,
    "start_time": "2021-09-10T10:31:38.594Z"
   },
   {
    "duration": 15,
    "start_time": "2021-09-10T10:31:38.603Z"
   },
   {
    "duration": 7,
    "start_time": "2021-09-10T10:31:38.621Z"
   },
   {
    "duration": 46,
    "start_time": "2021-09-10T10:31:38.631Z"
   },
   {
    "duration": 8,
    "start_time": "2021-09-10T10:31:38.679Z"
   },
   {
    "duration": 9,
    "start_time": "2021-09-10T10:31:38.690Z"
   },
   {
    "duration": 33,
    "start_time": "2021-09-10T10:31:38.702Z"
   },
   {
    "duration": 5379,
    "start_time": "2021-09-10T10:31:38.737Z"
   },
   {
    "duration": 8,
    "start_time": "2021-09-10T10:31:44.119Z"
   },
   {
    "duration": 78908,
    "start_time": "2021-09-10T10:31:44.130Z"
   },
   {
    "duration": 21,
    "start_time": "2021-09-10T10:33:03.041Z"
   },
   {
    "duration": 31,
    "start_time": "2021-09-10T10:33:03.067Z"
   },
   {
    "duration": 5,
    "start_time": "2021-09-10T10:33:03.100Z"
   },
   {
    "duration": 9,
    "start_time": "2021-09-10T10:33:03.107Z"
   },
   {
    "duration": 55,
    "start_time": "2021-09-10T10:33:03.121Z"
   },
   {
    "duration": 4,
    "start_time": "2021-09-10T10:33:03.179Z"
   },
   {
    "duration": 454,
    "start_time": "2021-09-10T10:33:03.185Z"
   },
   {
    "duration": 179,
    "start_time": "2021-09-10T10:33:03.642Z"
   },
   {
    "duration": 4,
    "start_time": "2021-09-10T10:33:03.824Z"
   },
   {
    "duration": 471,
    "start_time": "2021-09-10T10:33:03.830Z"
   },
   {
    "duration": 17,
    "start_time": "2021-09-10T10:33:04.303Z"
   },
   {
    "duration": 20,
    "start_time": "2021-09-10T10:33:04.322Z"
   },
   {
    "duration": 445,
    "start_time": "2021-09-10T10:33:04.344Z"
   },
   {
    "duration": 9,
    "start_time": "2021-09-10T10:33:04.792Z"
   },
   {
    "duration": 532,
    "start_time": "2021-09-10T10:44:28.130Z"
   },
   {
    "duration": 8,
    "start_time": "2021-09-10T10:47:00.879Z"
   },
   {
    "duration": 26,
    "start_time": "2021-09-10T10:47:12.052Z"
   },
   {
    "duration": 339,
    "start_time": "2021-09-10T10:47:24.733Z"
   },
   {
    "duration": 338,
    "start_time": "2021-09-10T10:47:29.299Z"
   },
   {
    "duration": 322,
    "start_time": "2021-09-10T10:49:31.705Z"
   },
   {
    "duration": 23,
    "start_time": "2021-09-10T10:49:36.208Z"
   },
   {
    "duration": 5,
    "start_time": "2021-09-10T10:54:23.359Z"
   },
   {
    "duration": 9,
    "start_time": "2021-09-10T10:54:27.118Z"
   },
   {
    "duration": 8,
    "start_time": "2021-09-10T10:54:29.127Z"
   },
   {
    "duration": 10,
    "start_time": "2021-09-10T10:55:55.291Z"
   },
   {
    "duration": 8,
    "start_time": "2021-09-10T10:55:57.747Z"
   },
   {
    "duration": 5,
    "start_time": "2021-09-10T10:56:15.277Z"
   },
   {
    "duration": 6,
    "start_time": "2021-09-10T10:56:26.546Z"
   },
   {
    "duration": 5,
    "start_time": "2021-09-10T10:56:37.709Z"
   },
   {
    "duration": 1841,
    "start_time": "2021-09-10T10:56:45.025Z"
   },
   {
    "duration": 35,
    "start_time": "2021-09-10T10:56:46.868Z"
   },
   {
    "duration": 12,
    "start_time": "2021-09-10T10:56:46.906Z"
   },
   {
    "duration": 34,
    "start_time": "2021-09-10T10:56:46.921Z"
   },
   {
    "duration": 17,
    "start_time": "2021-09-10T10:56:46.957Z"
   },
   {
    "duration": 52,
    "start_time": "2021-09-10T10:56:46.977Z"
   },
   {
    "duration": 12,
    "start_time": "2021-09-10T10:56:47.031Z"
   },
   {
    "duration": 4046,
    "start_time": "2021-09-10T10:56:47.047Z"
   },
   {
    "duration": 17,
    "start_time": "2021-09-10T10:56:51.096Z"
   },
   {
    "duration": 10,
    "start_time": "2021-09-10T10:56:51.116Z"
   },
   {
    "duration": 37,
    "start_time": "2021-09-10T10:56:51.128Z"
   },
   {
    "duration": 12,
    "start_time": "2021-09-10T10:56:51.168Z"
   },
   {
    "duration": 16,
    "start_time": "2021-09-10T10:56:51.183Z"
   },
   {
    "duration": 8,
    "start_time": "2021-09-10T10:56:51.202Z"
   },
   {
    "duration": 12,
    "start_time": "2021-09-10T10:56:51.213Z"
   },
   {
    "duration": 41,
    "start_time": "2021-09-10T10:56:51.227Z"
   },
   {
    "duration": 28,
    "start_time": "2021-09-10T10:56:51.270Z"
   },
   {
    "duration": 16,
    "start_time": "2021-09-10T10:56:51.300Z"
   },
   {
    "duration": 25,
    "start_time": "2021-09-10T10:56:51.318Z"
   },
   {
    "duration": 34,
    "start_time": "2021-09-10T10:56:51.345Z"
   },
   {
    "duration": 10,
    "start_time": "2021-09-10T10:56:51.381Z"
   },
   {
    "duration": 15,
    "start_time": "2021-09-10T10:56:51.393Z"
   },
   {
    "duration": 4551,
    "start_time": "2021-09-10T10:56:51.413Z"
   },
   {
    "duration": 12,
    "start_time": "2021-09-10T10:56:55.969Z"
   },
   {
    "duration": 5698,
    "start_time": "2021-09-10T10:56:55.984Z"
   },
   {
    "duration": 78120,
    "start_time": "2021-09-10T10:57:01.685Z"
   },
   {
    "duration": 5,
    "start_time": "2021-09-10T10:58:19.807Z"
   },
   {
    "duration": 52,
    "start_time": "2021-09-10T10:58:19.814Z"
   },
   {
    "duration": 5,
    "start_time": "2021-09-10T10:58:19.870Z"
   },
   {
    "duration": 6,
    "start_time": "2021-09-10T10:58:19.878Z"
   },
   {
    "duration": 22,
    "start_time": "2021-09-10T10:58:19.886Z"
   },
   {
    "duration": 4,
    "start_time": "2021-09-10T10:58:19.910Z"
   },
   {
    "duration": 475,
    "start_time": "2021-09-10T10:58:19.916Z"
   },
   {
    "duration": 183,
    "start_time": "2021-09-10T10:58:20.394Z"
   },
   {
    "duration": 4,
    "start_time": "2021-09-10T10:58:20.579Z"
   },
   {
    "duration": 477,
    "start_time": "2021-09-10T10:58:20.585Z"
   },
   {
    "duration": 17,
    "start_time": "2021-09-10T10:58:21.064Z"
   },
   {
    "duration": 3,
    "start_time": "2021-09-10T10:58:21.084Z"
   },
   {
    "duration": 478,
    "start_time": "2021-09-10T10:58:21.090Z"
   },
   {
    "duration": 11,
    "start_time": "2021-09-10T10:58:21.571Z"
   },
   {
    "duration": 4809,
    "start_time": "2021-09-10T10:59:01.276Z"
   },
   {
    "duration": 6,
    "start_time": "2021-09-10T10:59:30.261Z"
   },
   {
    "duration": 1474,
    "start_time": "2021-09-10T10:59:57.512Z"
   },
   {
    "duration": 37,
    "start_time": "2021-09-10T10:59:58.989Z"
   },
   {
    "duration": 12,
    "start_time": "2021-09-10T10:59:59.029Z"
   },
   {
    "duration": 22,
    "start_time": "2021-09-10T10:59:59.044Z"
   },
   {
    "duration": 18,
    "start_time": "2021-09-10T10:59:59.068Z"
   },
   {
    "duration": 34,
    "start_time": "2021-09-10T10:59:59.088Z"
   },
   {
    "duration": 39,
    "start_time": "2021-09-10T10:59:59.124Z"
   },
   {
    "duration": 4734,
    "start_time": "2021-09-10T10:59:59.167Z"
   },
   {
    "duration": 17,
    "start_time": "2021-09-10T11:00:03.905Z"
   },
   {
    "duration": 9,
    "start_time": "2021-09-10T11:00:03.924Z"
   },
   {
    "duration": 30,
    "start_time": "2021-09-10T11:00:03.935Z"
   },
   {
    "duration": 21,
    "start_time": "2021-09-10T11:00:03.967Z"
   },
   {
    "duration": 7,
    "start_time": "2021-09-10T11:00:03.991Z"
   },
   {
    "duration": 16,
    "start_time": "2021-09-10T11:00:04.000Z"
   },
   {
    "duration": 7,
    "start_time": "2021-09-10T11:00:04.018Z"
   },
   {
    "duration": 11,
    "start_time": "2021-09-10T11:00:04.027Z"
   },
   {
    "duration": 15,
    "start_time": "2021-09-10T11:00:04.062Z"
   },
   {
    "duration": 14,
    "start_time": "2021-09-10T11:00:04.081Z"
   },
   {
    "duration": 9,
    "start_time": "2021-09-10T11:00:04.097Z"
   },
   {
    "duration": 13,
    "start_time": "2021-09-10T11:00:04.108Z"
   },
   {
    "duration": 10,
    "start_time": "2021-09-10T11:00:04.123Z"
   },
   {
    "duration": 29,
    "start_time": "2021-09-10T11:00:04.135Z"
   },
   {
    "duration": 5104,
    "start_time": "2021-09-10T11:00:04.169Z"
   },
   {
    "duration": 10,
    "start_time": "2021-09-10T11:00:09.276Z"
   },
   {
    "duration": 4895,
    "start_time": "2021-09-10T11:00:09.289Z"
   },
   {
    "duration": 7,
    "start_time": "2021-09-10T11:00:14.187Z"
   },
   {
    "duration": 75375,
    "start_time": "2021-09-10T11:00:14.197Z"
   },
   {
    "duration": 7,
    "start_time": "2021-09-10T11:01:29.574Z"
   },
   {
    "duration": 27,
    "start_time": "2021-09-10T11:01:29.585Z"
   },
   {
    "duration": 5,
    "start_time": "2021-09-10T11:01:29.614Z"
   },
   {
    "duration": 56,
    "start_time": "2021-09-10T11:01:29.621Z"
   },
   {
    "duration": 21,
    "start_time": "2021-09-10T11:01:29.679Z"
   },
   {
    "duration": 4,
    "start_time": "2021-09-10T11:01:29.702Z"
   },
   {
    "duration": 496,
    "start_time": "2021-09-10T11:01:29.708Z"
   },
   {
    "duration": 194,
    "start_time": "2021-09-10T11:01:30.207Z"
   },
   {
    "duration": 5,
    "start_time": "2021-09-10T11:01:30.403Z"
   },
   {
    "duration": 482,
    "start_time": "2021-09-10T11:01:30.410Z"
   },
   {
    "duration": 20,
    "start_time": "2021-09-10T11:01:30.896Z"
   },
   {
    "duration": 8,
    "start_time": "2021-09-10T11:01:30.919Z"
   },
   {
    "duration": 467,
    "start_time": "2021-09-10T11:01:30.930Z"
   },
   {
    "duration": 10,
    "start_time": "2021-09-10T11:01:31.399Z"
   },
   {
    "duration": 64528,
    "start_time": "2021-09-10T11:02:21.735Z"
   },
   {
    "duration": 5,
    "start_time": "2021-09-10T11:03:29.047Z"
   },
   {
    "duration": 613,
    "start_time": "2021-09-10T11:04:16.307Z"
   },
   {
    "duration": 5,
    "start_time": "2021-09-10T11:04:37.075Z"
   },
   {
    "duration": 370,
    "start_time": "2021-09-10T11:04:42.195Z"
   },
   {
    "duration": 337,
    "start_time": "2021-09-10T11:04:57.827Z"
   },
   {
    "duration": 367,
    "start_time": "2021-09-10T11:05:02.954Z"
   },
   {
    "duration": 14,
    "start_time": "2021-09-10T11:05:16.355Z"
   },
   {
    "duration": 5,
    "start_time": "2021-09-10T11:05:18.961Z"
   },
   {
    "duration": 5,
    "start_time": "2021-09-10T11:13:32.387Z"
   },
   {
    "duration": 6,
    "start_time": "2021-09-10T11:14:18.329Z"
   },
   {
    "duration": 21,
    "start_time": "2021-09-10T11:18:00.883Z"
   },
   {
    "duration": 357,
    "start_time": "2021-09-10T11:18:22.369Z"
   },
   {
    "duration": 26,
    "start_time": "2021-09-10T11:18:31.648Z"
   },
   {
    "duration": 317,
    "start_time": "2021-09-10T11:18:44.303Z"
   },
   {
    "duration": 19,
    "start_time": "2021-09-10T11:18:59.625Z"
   },
   {
    "duration": 5,
    "start_time": "2021-09-10T11:19:01.104Z"
   },
   {
    "duration": 462,
    "start_time": "2021-09-10T11:23:09.406Z"
   },
   {
    "duration": 470,
    "start_time": "2021-09-10T11:25:49.324Z"
   },
   {
    "duration": 103,
    "start_time": "2021-09-10T11:26:39.977Z"
   },
   {
    "duration": 341,
    "start_time": "2021-09-10T11:27:13.515Z"
   },
   {
    "duration": 19,
    "start_time": "2021-09-10T11:27:42.007Z"
   },
   {
    "duration": 5,
    "start_time": "2021-09-10T11:27:43.663Z"
   },
   {
    "duration": 350,
    "start_time": "2021-09-10T11:27:49.286Z"
   },
   {
    "duration": 5,
    "start_time": "2021-09-10T11:28:01.390Z"
   },
   {
    "duration": 18,
    "start_time": "2021-09-10T11:30:41.624Z"
   },
   {
    "duration": 5,
    "start_time": "2021-09-10T11:30:47.232Z"
   },
   {
    "duration": 19,
    "start_time": "2021-09-10T11:31:06.768Z"
   },
   {
    "duration": 4,
    "start_time": "2021-09-10T11:31:08.512Z"
   },
   {
    "duration": 1967,
    "start_time": "2021-09-10T11:31:21.817Z"
   },
   {
    "duration": 36,
    "start_time": "2021-09-10T11:31:23.787Z"
   },
   {
    "duration": 11,
    "start_time": "2021-09-10T11:31:23.826Z"
   },
   {
    "duration": 31,
    "start_time": "2021-09-10T11:31:23.840Z"
   },
   {
    "duration": 16,
    "start_time": "2021-09-10T11:31:23.873Z"
   },
   {
    "duration": 45,
    "start_time": "2021-09-10T11:31:23.892Z"
   },
   {
    "duration": 14,
    "start_time": "2021-09-10T11:31:23.939Z"
   },
   {
    "duration": 4528,
    "start_time": "2021-09-10T11:31:23.969Z"
   },
   {
    "duration": 16,
    "start_time": "2021-09-10T11:31:28.500Z"
   },
   {
    "duration": 19,
    "start_time": "2021-09-10T11:31:28.519Z"
   },
   {
    "duration": 22,
    "start_time": "2021-09-10T11:31:28.540Z"
   },
   {
    "duration": 9,
    "start_time": "2021-09-10T11:31:28.571Z"
   },
   {
    "duration": 10,
    "start_time": "2021-09-10T11:31:28.583Z"
   },
   {
    "duration": 14,
    "start_time": "2021-09-10T11:31:28.595Z"
   },
   {
    "duration": 8,
    "start_time": "2021-09-10T11:31:28.611Z"
   },
   {
    "duration": 5,
    "start_time": "2021-09-10T11:31:28.621Z"
   },
   {
    "duration": 42,
    "start_time": "2021-09-10T11:31:28.628Z"
   },
   {
    "duration": 7,
    "start_time": "2021-09-10T11:31:28.672Z"
   },
   {
    "duration": 8,
    "start_time": "2021-09-10T11:31:28.682Z"
   },
   {
    "duration": 9,
    "start_time": "2021-09-10T11:31:28.693Z"
   },
   {
    "duration": 6,
    "start_time": "2021-09-10T11:31:28.704Z"
   },
   {
    "duration": 50,
    "start_time": "2021-09-10T11:31:28.712Z"
   },
   {
    "duration": 4912,
    "start_time": "2021-09-10T11:31:28.768Z"
   },
   {
    "duration": 8,
    "start_time": "2021-09-10T11:31:33.684Z"
   },
   {
    "duration": 4940,
    "start_time": "2021-09-10T11:31:33.695Z"
   },
   {
    "duration": 7,
    "start_time": "2021-09-10T11:31:38.663Z"
   },
   {
    "duration": 73589,
    "start_time": "2021-09-10T11:31:38.672Z"
   },
   {
    "duration": 7,
    "start_time": "2021-09-10T11:32:52.265Z"
   },
   {
    "duration": 63996,
    "start_time": "2021-09-10T11:32:52.275Z"
   },
   {
    "duration": 7,
    "start_time": "2021-09-10T11:33:56.274Z"
   },
   {
    "duration": 23,
    "start_time": "2021-09-10T11:33:56.283Z"
   },
   {
    "duration": 5,
    "start_time": "2021-09-10T11:33:56.309Z"
   },
   {
    "duration": 60,
    "start_time": "2021-09-10T11:33:56.317Z"
   },
   {
    "duration": 5,
    "start_time": "2021-09-10T11:33:56.379Z"
   },
   {
    "duration": 9,
    "start_time": "2021-09-10T11:33:56.386Z"
   },
   {
    "duration": 10,
    "start_time": "2021-09-10T11:33:56.397Z"
   },
   {
    "duration": 24,
    "start_time": "2021-09-10T11:33:56.409Z"
   },
   {
    "duration": 41,
    "start_time": "2021-09-10T11:33:56.435Z"
   },
   {
    "duration": 20,
    "start_time": "2021-09-10T11:33:56.479Z"
   },
   {
    "duration": 4,
    "start_time": "2021-09-10T11:33:56.502Z"
   },
   {
    "duration": 604,
    "start_time": "2021-09-10T11:33:56.508Z"
   },
   {
    "duration": 192,
    "start_time": "2021-09-10T11:33:57.115Z"
   },
   {
    "duration": 5,
    "start_time": "2021-09-10T11:33:57.309Z"
   },
   {
    "duration": 385,
    "start_time": "2021-09-10T11:33:57.317Z"
   },
   {
    "duration": 5,
    "start_time": "2021-09-10T11:33:57.705Z"
   },
   {
    "duration": 495,
    "start_time": "2021-09-10T11:33:57.712Z"
   },
   {
    "duration": 18,
    "start_time": "2021-09-10T11:33:58.209Z"
   },
   {
    "duration": 4,
    "start_time": "2021-09-10T11:33:58.230Z"
   },
   {
    "duration": 41,
    "start_time": "2021-09-10T11:33:58.236Z"
   },
   {
    "duration": 5,
    "start_time": "2021-09-10T11:33:58.280Z"
   },
   {
    "duration": 505,
    "start_time": "2021-09-10T11:33:58.287Z"
   },
   {
    "duration": 8,
    "start_time": "2021-09-10T11:33:58.795Z"
   },
   {
    "duration": 8,
    "start_time": "2021-09-10T11:37:37.968Z"
   }
  ],
  "kernelspec": {
   "display_name": "Python 3 (ipykernel)",
   "language": "python",
   "name": "python3"
  },
  "language_info": {
   "codemirror_mode": {
    "name": "ipython",
    "version": 3
   },
   "file_extension": ".py",
   "mimetype": "text/x-python",
   "name": "python",
   "nbconvert_exporter": "python",
   "pygments_lexer": "ipython3",
   "version": "3.10.3"
  },
  "toc": {
   "base_numbering": 1,
   "nav_menu": {},
   "number_sections": true,
   "sideBar": true,
   "skip_h1_title": true,
   "title_cell": "Table of Contents",
   "title_sidebar": "Contents",
   "toc_cell": true,
   "toc_position": {
    "height": "calc(100% - 180px)",
    "left": "10px",
    "top": "150px",
    "width": "270.391px"
   },
   "toc_section_display": true,
   "toc_window_display": false
  }
 },
 "nbformat": 4,
 "nbformat_minor": 2
}
