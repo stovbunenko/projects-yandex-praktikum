{
 "cells": [
  {
   "cell_type": "markdown",
   "metadata": {
    "toc": true
   },
   "source": [
    "<h1>Содержание<span class=\"tocSkip\"></span></h1>\n",
    "<div class=\"toc\"><ul class=\"toc-item\"><li><span><a href=\"#Подготовка-данных\" data-toc-modified-id=\"Подготовка-данных-1\"><span class=\"toc-item-num\">1&nbsp;&nbsp;</span>Подготовка данных</a></span><ul class=\"toc-item\"><li><span><a href=\"#Вывод\" data-toc-modified-id=\"Вывод-1.1\"><span class=\"toc-item-num\">1.1&nbsp;&nbsp;</span>Вывод</a></span></li></ul></li><li><span><a href=\"#Исследование-задачи\" data-toc-modified-id=\"Исследование-задачи-2\"><span class=\"toc-item-num\">2&nbsp;&nbsp;</span>Исследование задачи</a></span><ul class=\"toc-item\"><li><span><a href=\"#Decision-Tree-Classifier\" data-toc-modified-id=\"Decision-Tree-Classifier-2.1\"><span class=\"toc-item-num\">2.1&nbsp;&nbsp;</span>Decision Tree Classifier</a></span></li><li><span><a href=\"#Random-Forest-Classifier\" data-toc-modified-id=\"Random-Forest-Classifier-2.2\"><span class=\"toc-item-num\">2.2&nbsp;&nbsp;</span>Random Forest Classifier</a></span></li><li><span><a href=\"#Logistic-Regression\" data-toc-modified-id=\"Logistic-Regression-2.3\"><span class=\"toc-item-num\">2.3&nbsp;&nbsp;</span>Logistic Regression</a></span></li><li><span><a href=\"#Вывод\" data-toc-modified-id=\"Вывод-2.4\"><span class=\"toc-item-num\">2.4&nbsp;&nbsp;</span>Вывод</a></span></li></ul></li><li><span><a href=\"#Борьба-с-дисбалансом\" data-toc-modified-id=\"Борьба-с-дисбалансом-3\"><span class=\"toc-item-num\">3&nbsp;&nbsp;</span>Борьба с дисбалансом</a></span><ul class=\"toc-item\"><li><span><a href=\"#Decision-Tree-Classifier\" data-toc-modified-id=\"Decision-Tree-Classifier-3.1\"><span class=\"toc-item-num\">3.1&nbsp;&nbsp;</span>Decision Tree Classifier</a></span></li><li><span><a href=\"#Random-Forest-Classifier\" data-toc-modified-id=\"Random-Forest-Classifier-3.2\"><span class=\"toc-item-num\">3.2&nbsp;&nbsp;</span>Random Forest Classifier</a></span></li><li><span><a href=\"#Logistic-Regression\" data-toc-modified-id=\"Logistic-Regression-3.3\"><span class=\"toc-item-num\">3.3&nbsp;&nbsp;</span>Logistic Regression</a></span></li><li><span><a href=\"#Вывод\" data-toc-modified-id=\"Вывод-3.4\"><span class=\"toc-item-num\">3.4&nbsp;&nbsp;</span>Вывод</a></span></li></ul></li><li><span><a href=\"#Тестирование-модели\" data-toc-modified-id=\"Тестирование-модели-4\"><span class=\"toc-item-num\">4&nbsp;&nbsp;</span>Тестирование модели</a></span><ul class=\"toc-item\"><li><span><a href=\"#Decision-Tree-Classifier\" data-toc-modified-id=\"Decision-Tree-Classifier-4.1\"><span class=\"toc-item-num\">4.1&nbsp;&nbsp;</span>Decision Tree Classifier</a></span></li><li><span><a href=\"#Random-Forest-Classifier\" data-toc-modified-id=\"Random-Forest-Classifier-4.2\"><span class=\"toc-item-num\">4.2&nbsp;&nbsp;</span>Random Forest Classifier</a></span></li><li><span><a href=\"#Logistic-Regression\" data-toc-modified-id=\"Logistic-Regression-4.3\"><span class=\"toc-item-num\">4.3&nbsp;&nbsp;</span>Logistic Regression</a></span></li><li><span><a href=\"#Вывод\" data-toc-modified-id=\"Вывод-4.4\"><span class=\"toc-item-num\">4.4&nbsp;&nbsp;</span>Вывод</a></span></li></ul></li><li><span><a href=\"#Проверка-на-адекватность\" data-toc-modified-id=\"Проверка-на-адекватность-5\"><span class=\"toc-item-num\">5&nbsp;&nbsp;</span>Проверка на адекватность</a></span></li><li><span><a href=\"#Общий-вывод\" data-toc-modified-id=\"Общий-вывод-6\"><span class=\"toc-item-num\">6&nbsp;&nbsp;</span>Общий вывод</a></span></li><li><span><a href=\"#Чек-лист-готовности-проекта\" data-toc-modified-id=\"Чек-лист-готовности-проекта-7\"><span class=\"toc-item-num\">7&nbsp;&nbsp;</span>Чек-лист готовности проекта</a></span></li></ul></div>"
   ]
  },
  {
   "cell_type": "markdown",
   "metadata": {},
   "source": [
    "# Отток клиентов"
   ]
  },
  {
   "cell_type": "markdown",
   "metadata": {},
   "source": [
    "Из «Бета-Банка» стали уходить клиенты. Каждый месяц. Немного, но заметно. Банковские маркетологи посчитали: сохранять текущих клиентов дешевле, чем привлекать новых.\n",
    "\n",
    "Нужно спрогнозировать, уйдёт клиент из банка в ближайшее время или нет. Вам предоставлены исторические данные о поведении клиентов и расторжении договоров с банком. \n",
    "\n",
    "Постройте модель с предельно большим значением *F1*-меры. Чтобы сдать проект успешно, нужно довести метрику до 0.59. Проверьте *F1*-меру на тестовой выборке самостоятельно.\n",
    "\n",
    "Дополнительно измеряйте *AUC-ROC*, сравнивайте её значение с *F1*-мерой.\n",
    "\n",
    "Источник данных: [https://www.kaggle.com/barelydedicated/bank-customer-churn-modeling](https://www.kaggle.com/barelydedicated/bank-customer-churn-modeling)"
   ]
  },
  {
   "cell_type": "markdown",
   "metadata": {},
   "source": [
    "**Признаки**\n",
    "- **RowNumber** — индекс строки в данных\n",
    "- **CustomerId** — уникальный идентификатор клиента\n",
    "- **Surname** — фамилия\n",
    "- **CreditScore** — кредитный рейтинг\n",
    "- **Geography** — страна проживания\n",
    "- **Gender** — пол\n",
    "- **Age** — возраст\n",
    "- **Tenure** — сколько лет человек является клиентом банка\n",
    "- **Balance** — баланс на счёте\n",
    "- **NumOfProducts** — количество продуктов банка, используемых клиентом\n",
    "- **HasCrCard** — наличие кредитной карты\n",
    "- **IsActiveMember** — активность клиента\n",
    "- **EstimatedSalary** — предполагаемая зарплата\n",
    "\n",
    "**Целевой признак**\n",
    "- **Exited** — факт ухода клиента"
   ]
  },
  {
   "cell_type": "markdown",
   "metadata": {},
   "source": [
    "## Подготовка данных"
   ]
  },
  {
   "cell_type": "code",
   "execution_count": 1,
   "metadata": {},
   "outputs": [],
   "source": [
    "import pandas as pd\n",
    "import numpy as np\n",
    "import math\n",
    "from matplotlib import pyplot as plt\n",
    "import scipy\n",
    "import seaborn as sns\n",
    "from sklearn import metrics\n",
    "import time\n",
    "\n",
    "from sklearn.ensemble import RandomForestClassifier\n",
    "from sklearn.tree import DecisionTreeClassifier\n",
    "from sklearn.linear_model import LogisticRegression\n",
    "\n",
    "from sklearn.preprocessing import StandardScaler\n",
    "from sklearn.model_selection import cross_val_score\n",
    "from sklearn.model_selection import KFold\n",
    "from sklearn.metrics import f1_score\n",
    "from sklearn.model_selection import train_test_split\n",
    "from sklearn.preprocessing import OrdinalEncoder\n",
    "from sklearn.utils import shuffle\n",
    "from sklearn.model_selection import GridSearchCV\n",
    "from sklearn.dummy import DummyClassifier\n",
    "from sklearn.metrics import roc_auc_score\n",
    "from sklearn.model_selection import GridSearchCV\n",
    "\n",
    "from tqdm.notebook import tqdm"
   ]
  },
  {
   "cell_type": "code",
   "execution_count": 3,
   "metadata": {},
   "outputs": [
    {
     "name": "stdout",
     "output_type": "stream",
     "text": [
      "<class 'pandas.core.frame.DataFrame'>\n",
      "RangeIndex: 10000 entries, 0 to 9999\n",
      "Data columns (total 14 columns):\n",
      "RowNumber          10000 non-null int64\n",
      "CustomerId         10000 non-null int64\n",
      "Surname            10000 non-null object\n",
      "CreditScore        10000 non-null int64\n",
      "Geography          10000 non-null object\n",
      "Gender             10000 non-null object\n",
      "Age                10000 non-null int64\n",
      "Tenure             9091 non-null float64\n",
      "Balance            10000 non-null float64\n",
      "NumOfProducts      10000 non-null int64\n",
      "HasCrCard          10000 non-null int64\n",
      "IsActiveMember     10000 non-null int64\n",
      "EstimatedSalary    10000 non-null float64\n",
      "Exited             10000 non-null int64\n",
      "dtypes: float64(3), int64(8), object(3)\n",
      "memory usage: 1.1+ MB\n"
     ]
    }
   ],
   "source": [
    "df.info()"
   ]
  },
  {
   "cell_type": "code",
   "execution_count": 4,
   "metadata": {},
   "outputs": [
    {
     "data": {
      "text/html": [
       "<div>\n",
       "<style scoped>\n",
       "    .dataframe tbody tr th:only-of-type {\n",
       "        vertical-align: middle;\n",
       "    }\n",
       "\n",
       "    .dataframe tbody tr th {\n",
       "        vertical-align: top;\n",
       "    }\n",
       "\n",
       "    .dataframe thead th {\n",
       "        text-align: right;\n",
       "    }\n",
       "</style>\n",
       "<table border=\"1\" class=\"dataframe\">\n",
       "  <thead>\n",
       "    <tr style=\"text-align: right;\">\n",
       "      <th></th>\n",
       "      <th>RowNumber</th>\n",
       "      <th>CustomerId</th>\n",
       "      <th>Surname</th>\n",
       "      <th>CreditScore</th>\n",
       "      <th>Geography</th>\n",
       "      <th>Gender</th>\n",
       "      <th>Age</th>\n",
       "      <th>Tenure</th>\n",
       "      <th>Balance</th>\n",
       "      <th>NumOfProducts</th>\n",
       "      <th>HasCrCard</th>\n",
       "      <th>IsActiveMember</th>\n",
       "      <th>EstimatedSalary</th>\n",
       "      <th>Exited</th>\n",
       "    </tr>\n",
       "  </thead>\n",
       "  <tbody>\n",
       "    <tr>\n",
       "      <td>0</td>\n",
       "      <td>1</td>\n",
       "      <td>15634602</td>\n",
       "      <td>Hargrave</td>\n",
       "      <td>619</td>\n",
       "      <td>France</td>\n",
       "      <td>Female</td>\n",
       "      <td>42</td>\n",
       "      <td>2.0</td>\n",
       "      <td>0.00</td>\n",
       "      <td>1</td>\n",
       "      <td>1</td>\n",
       "      <td>1</td>\n",
       "      <td>101348.88</td>\n",
       "      <td>1</td>\n",
       "    </tr>\n",
       "    <tr>\n",
       "      <td>1</td>\n",
       "      <td>2</td>\n",
       "      <td>15647311</td>\n",
       "      <td>Hill</td>\n",
       "      <td>608</td>\n",
       "      <td>Spain</td>\n",
       "      <td>Female</td>\n",
       "      <td>41</td>\n",
       "      <td>1.0</td>\n",
       "      <td>83807.86</td>\n",
       "      <td>1</td>\n",
       "      <td>0</td>\n",
       "      <td>1</td>\n",
       "      <td>112542.58</td>\n",
       "      <td>0</td>\n",
       "    </tr>\n",
       "    <tr>\n",
       "      <td>2</td>\n",
       "      <td>3</td>\n",
       "      <td>15619304</td>\n",
       "      <td>Onio</td>\n",
       "      <td>502</td>\n",
       "      <td>France</td>\n",
       "      <td>Female</td>\n",
       "      <td>42</td>\n",
       "      <td>8.0</td>\n",
       "      <td>159660.80</td>\n",
       "      <td>3</td>\n",
       "      <td>1</td>\n",
       "      <td>0</td>\n",
       "      <td>113931.57</td>\n",
       "      <td>1</td>\n",
       "    </tr>\n",
       "    <tr>\n",
       "      <td>3</td>\n",
       "      <td>4</td>\n",
       "      <td>15701354</td>\n",
       "      <td>Boni</td>\n",
       "      <td>699</td>\n",
       "      <td>France</td>\n",
       "      <td>Female</td>\n",
       "      <td>39</td>\n",
       "      <td>1.0</td>\n",
       "      <td>0.00</td>\n",
       "      <td>2</td>\n",
       "      <td>0</td>\n",
       "      <td>0</td>\n",
       "      <td>93826.63</td>\n",
       "      <td>0</td>\n",
       "    </tr>\n",
       "    <tr>\n",
       "      <td>4</td>\n",
       "      <td>5</td>\n",
       "      <td>15737888</td>\n",
       "      <td>Mitchell</td>\n",
       "      <td>850</td>\n",
       "      <td>Spain</td>\n",
       "      <td>Female</td>\n",
       "      <td>43</td>\n",
       "      <td>2.0</td>\n",
       "      <td>125510.82</td>\n",
       "      <td>1</td>\n",
       "      <td>1</td>\n",
       "      <td>1</td>\n",
       "      <td>79084.10</td>\n",
       "      <td>0</td>\n",
       "    </tr>\n",
       "    <tr>\n",
       "      <td>5</td>\n",
       "      <td>6</td>\n",
       "      <td>15574012</td>\n",
       "      <td>Chu</td>\n",
       "      <td>645</td>\n",
       "      <td>Spain</td>\n",
       "      <td>Male</td>\n",
       "      <td>44</td>\n",
       "      <td>8.0</td>\n",
       "      <td>113755.78</td>\n",
       "      <td>2</td>\n",
       "      <td>1</td>\n",
       "      <td>0</td>\n",
       "      <td>149756.71</td>\n",
       "      <td>1</td>\n",
       "    </tr>\n",
       "    <tr>\n",
       "      <td>6</td>\n",
       "      <td>7</td>\n",
       "      <td>15592531</td>\n",
       "      <td>Bartlett</td>\n",
       "      <td>822</td>\n",
       "      <td>France</td>\n",
       "      <td>Male</td>\n",
       "      <td>50</td>\n",
       "      <td>7.0</td>\n",
       "      <td>0.00</td>\n",
       "      <td>2</td>\n",
       "      <td>1</td>\n",
       "      <td>1</td>\n",
       "      <td>10062.80</td>\n",
       "      <td>0</td>\n",
       "    </tr>\n",
       "    <tr>\n",
       "      <td>7</td>\n",
       "      <td>8</td>\n",
       "      <td>15656148</td>\n",
       "      <td>Obinna</td>\n",
       "      <td>376</td>\n",
       "      <td>Germany</td>\n",
       "      <td>Female</td>\n",
       "      <td>29</td>\n",
       "      <td>4.0</td>\n",
       "      <td>115046.74</td>\n",
       "      <td>4</td>\n",
       "      <td>1</td>\n",
       "      <td>0</td>\n",
       "      <td>119346.88</td>\n",
       "      <td>1</td>\n",
       "    </tr>\n",
       "    <tr>\n",
       "      <td>8</td>\n",
       "      <td>9</td>\n",
       "      <td>15792365</td>\n",
       "      <td>He</td>\n",
       "      <td>501</td>\n",
       "      <td>France</td>\n",
       "      <td>Male</td>\n",
       "      <td>44</td>\n",
       "      <td>4.0</td>\n",
       "      <td>142051.07</td>\n",
       "      <td>2</td>\n",
       "      <td>0</td>\n",
       "      <td>1</td>\n",
       "      <td>74940.50</td>\n",
       "      <td>0</td>\n",
       "    </tr>\n",
       "    <tr>\n",
       "      <td>9</td>\n",
       "      <td>10</td>\n",
       "      <td>15592389</td>\n",
       "      <td>H?</td>\n",
       "      <td>684</td>\n",
       "      <td>France</td>\n",
       "      <td>Male</td>\n",
       "      <td>27</td>\n",
       "      <td>2.0</td>\n",
       "      <td>134603.88</td>\n",
       "      <td>1</td>\n",
       "      <td>1</td>\n",
       "      <td>1</td>\n",
       "      <td>71725.73</td>\n",
       "      <td>0</td>\n",
       "    </tr>\n",
       "  </tbody>\n",
       "</table>\n",
       "</div>"
      ],
      "text/plain": [
       "   RowNumber  CustomerId   Surname  CreditScore Geography  Gender  Age  \\\n",
       "0          1    15634602  Hargrave          619    France  Female   42   \n",
       "1          2    15647311      Hill          608     Spain  Female   41   \n",
       "2          3    15619304      Onio          502    France  Female   42   \n",
       "3          4    15701354      Boni          699    France  Female   39   \n",
       "4          5    15737888  Mitchell          850     Spain  Female   43   \n",
       "5          6    15574012       Chu          645     Spain    Male   44   \n",
       "6          7    15592531  Bartlett          822    France    Male   50   \n",
       "7          8    15656148    Obinna          376   Germany  Female   29   \n",
       "8          9    15792365        He          501    France    Male   44   \n",
       "9         10    15592389        H?          684    France    Male   27   \n",
       "\n",
       "   Tenure    Balance  NumOfProducts  HasCrCard  IsActiveMember  \\\n",
       "0     2.0       0.00              1          1               1   \n",
       "1     1.0   83807.86              1          0               1   \n",
       "2     8.0  159660.80              3          1               0   \n",
       "3     1.0       0.00              2          0               0   \n",
       "4     2.0  125510.82              1          1               1   \n",
       "5     8.0  113755.78              2          1               0   \n",
       "6     7.0       0.00              2          1               1   \n",
       "7     4.0  115046.74              4          1               0   \n",
       "8     4.0  142051.07              2          0               1   \n",
       "9     2.0  134603.88              1          1               1   \n",
       "\n",
       "   EstimatedSalary  Exited  \n",
       "0        101348.88       1  \n",
       "1        112542.58       0  \n",
       "2        113931.57       1  \n",
       "3         93826.63       0  \n",
       "4         79084.10       0  \n",
       "5        149756.71       1  \n",
       "6         10062.80       0  \n",
       "7        119346.88       1  \n",
       "8         74940.50       0  \n",
       "9         71725.73       0  "
      ]
     },
     "execution_count": 4,
     "metadata": {},
     "output_type": "execute_result"
    }
   ],
   "source": [
    "df.head(10)"
   ]
  },
  {
   "cell_type": "code",
   "execution_count": 5,
   "metadata": {
    "scrolled": true
   },
   "outputs": [
    {
     "data": {
      "text/plain": [
       "RowNumber            0\n",
       "CustomerId           0\n",
       "Surname              0\n",
       "CreditScore          0\n",
       "Geography            0\n",
       "Gender               0\n",
       "Age                  0\n",
       "Tenure             909\n",
       "Balance              0\n",
       "NumOfProducts        0\n",
       "HasCrCard            0\n",
       "IsActiveMember       0\n",
       "EstimatedSalary      0\n",
       "Exited               0\n",
       "dtype: int64"
      ]
     },
     "execution_count": 5,
     "metadata": {},
     "output_type": "execute_result"
    }
   ],
   "source": [
    "df.isnull().sum()"
   ]
  },
  {
   "cell_type": "markdown",
   "metadata": {},
   "source": [
    "В столбце 'Tenure' заменим пропуски на 0 так вероятнее всего пропуск свидетельствует о том, что недвижимости нет:"
   ]
  },
  {
   "cell_type": "code",
   "execution_count": 6,
   "metadata": {},
   "outputs": [],
   "source": [
    "df['Tenure'] = df['Tenure'].fillna(0).astype('int')"
   ]
  },
  {
   "cell_type": "markdown",
   "metadata": {},
   "source": [
    "CustomerId, фамилии клиентов и индекс строки в данных не столь важны и их можно удалить: "
   ]
  },
  {
   "cell_type": "code",
   "execution_count": 7,
   "metadata": {},
   "outputs": [],
   "source": [
    "df = df.drop(['Surname', 'RowNumber','CustomerId'], axis=1)"
   ]
  },
  {
   "cell_type": "markdown",
   "metadata": {},
   "source": [
    "Поправим названия стобцов:"
   ]
  },
  {
   "cell_type": "code",
   "execution_count": 8,
   "metadata": {},
   "outputs": [],
   "source": [
    "df = df.rename(columns={'CreditScore': 'Credit_Score','NumOfProducts':'Num_Of_Products','HasCrCard':'Has_Cr_Card','IsActiveMember':'Active_Member','EstimatedSalary':'Estimated_Salary'})"
   ]
  },
  {
   "cell_type": "markdown",
   "metadata": {},
   "source": [
    "Кодирование данных:"
   ]
  },
  {
   "cell_type": "code",
   "execution_count": 9,
   "metadata": {},
   "outputs": [],
   "source": [
    "data_ohe = pd.get_dummies(df, drop_first=True)"
   ]
  },
  {
   "cell_type": "code",
   "execution_count": 10,
   "metadata": {},
   "outputs": [
    {
     "data": {
      "text/html": [
       "<div>\n",
       "<style scoped>\n",
       "    .dataframe tbody tr th:only-of-type {\n",
       "        vertical-align: middle;\n",
       "    }\n",
       "\n",
       "    .dataframe tbody tr th {\n",
       "        vertical-align: top;\n",
       "    }\n",
       "\n",
       "    .dataframe thead th {\n",
       "        text-align: right;\n",
       "    }\n",
       "</style>\n",
       "<table border=\"1\" class=\"dataframe\">\n",
       "  <thead>\n",
       "    <tr style=\"text-align: right;\">\n",
       "      <th></th>\n",
       "      <th>Credit_Score</th>\n",
       "      <th>Age</th>\n",
       "      <th>Tenure</th>\n",
       "      <th>Balance</th>\n",
       "      <th>Num_Of_Products</th>\n",
       "      <th>Has_Cr_Card</th>\n",
       "      <th>Active_Member</th>\n",
       "      <th>Estimated_Salary</th>\n",
       "      <th>Exited</th>\n",
       "      <th>Geography_Germany</th>\n",
       "      <th>Geography_Spain</th>\n",
       "      <th>Gender_Male</th>\n",
       "    </tr>\n",
       "  </thead>\n",
       "  <tbody>\n",
       "    <tr>\n",
       "      <td>0</td>\n",
       "      <td>619</td>\n",
       "      <td>42</td>\n",
       "      <td>2</td>\n",
       "      <td>0.00</td>\n",
       "      <td>1</td>\n",
       "      <td>1</td>\n",
       "      <td>1</td>\n",
       "      <td>101348.88</td>\n",
       "      <td>1</td>\n",
       "      <td>0</td>\n",
       "      <td>0</td>\n",
       "      <td>0</td>\n",
       "    </tr>\n",
       "    <tr>\n",
       "      <td>1</td>\n",
       "      <td>608</td>\n",
       "      <td>41</td>\n",
       "      <td>1</td>\n",
       "      <td>83807.86</td>\n",
       "      <td>1</td>\n",
       "      <td>0</td>\n",
       "      <td>1</td>\n",
       "      <td>112542.58</td>\n",
       "      <td>0</td>\n",
       "      <td>0</td>\n",
       "      <td>1</td>\n",
       "      <td>0</td>\n",
       "    </tr>\n",
       "    <tr>\n",
       "      <td>2</td>\n",
       "      <td>502</td>\n",
       "      <td>42</td>\n",
       "      <td>8</td>\n",
       "      <td>159660.80</td>\n",
       "      <td>3</td>\n",
       "      <td>1</td>\n",
       "      <td>0</td>\n",
       "      <td>113931.57</td>\n",
       "      <td>1</td>\n",
       "      <td>0</td>\n",
       "      <td>0</td>\n",
       "      <td>0</td>\n",
       "    </tr>\n",
       "    <tr>\n",
       "      <td>3</td>\n",
       "      <td>699</td>\n",
       "      <td>39</td>\n",
       "      <td>1</td>\n",
       "      <td>0.00</td>\n",
       "      <td>2</td>\n",
       "      <td>0</td>\n",
       "      <td>0</td>\n",
       "      <td>93826.63</td>\n",
       "      <td>0</td>\n",
       "      <td>0</td>\n",
       "      <td>0</td>\n",
       "      <td>0</td>\n",
       "    </tr>\n",
       "    <tr>\n",
       "      <td>4</td>\n",
       "      <td>850</td>\n",
       "      <td>43</td>\n",
       "      <td>2</td>\n",
       "      <td>125510.82</td>\n",
       "      <td>1</td>\n",
       "      <td>1</td>\n",
       "      <td>1</td>\n",
       "      <td>79084.10</td>\n",
       "      <td>0</td>\n",
       "      <td>0</td>\n",
       "      <td>1</td>\n",
       "      <td>0</td>\n",
       "    </tr>\n",
       "  </tbody>\n",
       "</table>\n",
       "</div>"
      ],
      "text/plain": [
       "   Credit_Score  Age  Tenure    Balance  Num_Of_Products  Has_Cr_Card  \\\n",
       "0           619   42       2       0.00                1            1   \n",
       "1           608   41       1   83807.86                1            0   \n",
       "2           502   42       8  159660.80                3            1   \n",
       "3           699   39       1       0.00                2            0   \n",
       "4           850   43       2  125510.82                1            1   \n",
       "\n",
       "   Active_Member  Estimated_Salary  Exited  Geography_Germany  \\\n",
       "0              1         101348.88       1                  0   \n",
       "1              1         112542.58       0                  0   \n",
       "2              0         113931.57       1                  0   \n",
       "3              0          93826.63       0                  0   \n",
       "4              1          79084.10       0                  0   \n",
       "\n",
       "   Geography_Spain  Gender_Male  \n",
       "0                0            0  \n",
       "1                1            0  \n",
       "2                0            0  \n",
       "3                0            0  \n",
       "4                1            0  "
      ]
     },
     "execution_count": 10,
     "metadata": {},
     "output_type": "execute_result"
    }
   ],
   "source": [
    "data_ohe.head()"
   ]
  },
  {
   "cell_type": "markdown",
   "metadata": {},
   "source": [
    "Разделим на 2 выборки (обучающую и валидационную):"
   ]
  },
  {
   "cell_type": "code",
   "execution_count": 11,
   "metadata": {},
   "outputs": [],
   "source": [
    "df_train, df_valid = train_test_split(data_ohe, test_size=0.1, random_state=12345)"
   ]
  },
  {
   "cell_type": "markdown",
   "metadata": {},
   "source": [
    "Посмотрим размер таблицы:"
   ]
  },
  {
   "cell_type": "code",
   "execution_count": 12,
   "metadata": {},
   "outputs": [
    {
     "data": {
      "text/plain": [
       "(10000, 12)"
      ]
     },
     "execution_count": 12,
     "metadata": {},
     "output_type": "execute_result"
    }
   ],
   "source": [
    "data_ohe.shape"
   ]
  },
  {
   "cell_type": "code",
   "execution_count": 13,
   "metadata": {},
   "outputs": [
    {
     "name": "stdout",
     "output_type": "stream",
     "text": [
      "Кол-во строк в обучающей выборке: 9000\n",
      "Кол-во строк в валидационной выборке: 1000\n"
     ]
    }
   ],
   "source": [
    "print('Кол-во строк в обучающей выборке:', df_train.shape[0])\n",
    "print('Кол-во строк в валидационной выборке:', df_valid.shape[0])"
   ]
  },
  {
   "cell_type": "markdown",
   "metadata": {},
   "source": [
    "Добавим третью выборку для теста (того же размера, что и валидационная):"
   ]
  },
  {
   "cell_type": "code",
   "execution_count": 14,
   "metadata": {},
   "outputs": [],
   "source": [
    "df_test_size = df_valid.shape[0] / df_train.shape[0]\n",
    "df_train, df_test = train_test_split(df_train, test_size=df_test_size, random_state=12345)"
   ]
  },
  {
   "cell_type": "code",
   "execution_count": 15,
   "metadata": {
    "scrolled": true
   },
   "outputs": [
    {
     "name": "stdout",
     "output_type": "stream",
     "text": [
      "Кол-во строк в обучающей выборке: 8000\n",
      "Кол-во строк в валидационной выборке: 1000\n",
      "Кол-во строк в тестовой выборке: 1000\n"
     ]
    }
   ],
   "source": [
    "print('Кол-во строк в обучающей выборке:', df_train.shape[0])\n",
    "print('Кол-во строк в валидационной выборке:', df_valid.shape[0])\n",
    "print('Кол-во строк в тестовой выборке:', df_test.shape[0])"
   ]
  },
  {
   "cell_type": "markdown",
   "metadata": {},
   "source": [
    "Разделим на обучающие признаки и целевые:"
   ]
  },
  {
   "cell_type": "code",
   "execution_count": 16,
   "metadata": {},
   "outputs": [],
   "source": [
    "features_train = df_train.drop(['Exited'], axis=1)\n",
    "target_train = df_train['Exited']"
   ]
  },
  {
   "cell_type": "code",
   "execution_count": 17,
   "metadata": {},
   "outputs": [],
   "source": [
    "features_valid = df_valid.drop(['Exited'], axis=1)\n",
    "target_valid = df_valid['Exited']"
   ]
  },
  {
   "cell_type": "code",
   "execution_count": 18,
   "metadata": {},
   "outputs": [],
   "source": [
    "features_test = df_test.drop(['Exited'], axis=1)\n",
    "target_test = df_test['Exited']"
   ]
  },
  {
   "cell_type": "markdown",
   "metadata": {},
   "source": [
    "Масштабируем признаки:"
   ]
  },
  {
   "cell_type": "code",
   "execution_count": 19,
   "metadata": {},
   "outputs": [],
   "source": [
    "numeric = ['Credit_Score', 'Age', 'Tenure', 'Balance', 'Num_Of_Products', 'Has_Cr_Card', 'Active_Member', 'Estimated_Salary']"
   ]
  },
  {
   "cell_type": "code",
   "execution_count": 20,
   "metadata": {},
   "outputs": [],
   "source": [
    "scaler = StandardScaler()\n",
    "scaler.fit(features_train[numeric])\n",
    "features_train[numeric] = scaler.transform(features_train[numeric])\n",
    "features_valid[numeric] = scaler.transform(features_valid[numeric])\n",
    "features_test[numeric] = scaler.transform(features_test[numeric])"
   ]
  },
  {
   "cell_type": "markdown",
   "metadata": {},
   "source": [
    "### Вывод"
   ]
  },
  {
   "cell_type": "markdown",
   "metadata": {},
   "source": [
    "- В столбце 'Tenure' заменили пропуски на 0 так вероятнее всего пропуск свидетельствует о том, что недвижимости нет\n",
    "- Т.к. каждый клиент идентифицируется по Customer_Id, то фамилии клиентов и индекс строки в данных не столь важны и были удалены\n",
    "- Кодировали данные, создали выборки: обучающую, валидационную и тестовую\n",
    "- Разделили на обучающие признаки и целевые\n",
    "- Масштабировали цифровые признаки\n"
   ]
  },
  {
   "cell_type": "markdown",
   "metadata": {},
   "source": [
    "## Исследование задачи"
   ]
  },
  {
   "cell_type": "markdown",
   "metadata": {},
   "source": [
    "Проверим сбалансированность классов:"
   ]
  },
  {
   "cell_type": "code",
   "execution_count": 21,
   "metadata": {},
   "outputs": [
    {
     "data": {
      "text/plain": [
       "0    0.7963\n",
       "1    0.2037\n",
       "Name: Exited, dtype: float64"
      ]
     },
     "execution_count": 21,
     "metadata": {},
     "output_type": "execute_result"
    }
   ],
   "source": [
    "df['Exited'].value_counts(normalize= True)"
   ]
  },
  {
   "cell_type": "markdown",
   "metadata": {},
   "source": [
    "Для отслеживания прогресса при поиске используем библиотеку tqdm"
   ]
  },
  {
   "cell_type": "markdown",
   "metadata": {},
   "source": [
    "### Decision Tree Classifier"
   ]
  },
  {
   "cell_type": "code",
   "execution_count": 22,
   "metadata": {},
   "outputs": [
    {
     "data": {
      "application/vnd.jupyter.widget-view+json": {
       "model_id": "60df81f120624047844cf6aaebd359d5",
       "version_major": 2,
       "version_minor": 0
      },
      "text/plain": [
       "HBox(children=(HTML(value='Depth loop'), FloatProgress(value=0.0, max=14.0), HTML(value='')))"
      ]
     },
     "metadata": {},
     "output_type": "display_data"
    },
    {
     "data": {
      "application/vnd.jupyter.widget-view+json": {
       "model_id": "",
       "version_major": 2,
       "version_minor": 0
      },
      "text/plain": [
       "HBox(children=(HTML(value='Criterion loop'), FloatProgress(value=0.0, max=2.0), HTML(value='')))"
      ]
     },
     "metadata": {},
     "output_type": "display_data"
    },
    {
     "data": {
      "application/vnd.jupyter.widget-view+json": {
       "model_id": "",
       "version_major": 2,
       "version_minor": 0
      },
      "text/plain": [
       "HBox(children=(HTML(value='Min_smp_leaf'), FloatProgress(value=0.0, max=5.0), HTML(value='')))"
      ]
     },
     "metadata": {},
     "output_type": "display_data"
    },
    {
     "data": {
      "application/vnd.jupyter.widget-view+json": {
       "model_id": "",
       "version_major": 2,
       "version_minor": 0
      },
      "text/plain": [
       "HBox(children=(HTML(value='Min_smp_leaf'), FloatProgress(value=0.0, max=5.0), HTML(value='')))"
      ]
     },
     "metadata": {},
     "output_type": "display_data"
    },
    {
     "data": {
      "application/vnd.jupyter.widget-view+json": {
       "model_id": "",
       "version_major": 2,
       "version_minor": 0
      },
      "text/plain": [
       "HBox(children=(HTML(value='Criterion loop'), FloatProgress(value=0.0, max=2.0), HTML(value='')))"
      ]
     },
     "metadata": {},
     "output_type": "display_data"
    },
    {
     "data": {
      "application/vnd.jupyter.widget-view+json": {
       "model_id": "",
       "version_major": 2,
       "version_minor": 0
      },
      "text/plain": [
       "HBox(children=(HTML(value='Min_smp_leaf'), FloatProgress(value=0.0, max=5.0), HTML(value='')))"
      ]
     },
     "metadata": {},
     "output_type": "display_data"
    },
    {
     "data": {
      "application/vnd.jupyter.widget-view+json": {
       "model_id": "",
       "version_major": 2,
       "version_minor": 0
      },
      "text/plain": [
       "HBox(children=(HTML(value='Min_smp_leaf'), FloatProgress(value=0.0, max=5.0), HTML(value='')))"
      ]
     },
     "metadata": {},
     "output_type": "display_data"
    },
    {
     "data": {
      "application/vnd.jupyter.widget-view+json": {
       "model_id": "",
       "version_major": 2,
       "version_minor": 0
      },
      "text/plain": [
       "HBox(children=(HTML(value='Criterion loop'), FloatProgress(value=0.0, max=2.0), HTML(value='')))"
      ]
     },
     "metadata": {},
     "output_type": "display_data"
    },
    {
     "data": {
      "application/vnd.jupyter.widget-view+json": {
       "model_id": "",
       "version_major": 2,
       "version_minor": 0
      },
      "text/plain": [
       "HBox(children=(HTML(value='Min_smp_leaf'), FloatProgress(value=0.0, max=5.0), HTML(value='')))"
      ]
     },
     "metadata": {},
     "output_type": "display_data"
    },
    {
     "data": {
      "application/vnd.jupyter.widget-view+json": {
       "model_id": "",
       "version_major": 2,
       "version_minor": 0
      },
      "text/plain": [
       "HBox(children=(HTML(value='Min_smp_leaf'), FloatProgress(value=0.0, max=5.0), HTML(value='')))"
      ]
     },
     "metadata": {},
     "output_type": "display_data"
    },
    {
     "data": {
      "application/vnd.jupyter.widget-view+json": {
       "model_id": "",
       "version_major": 2,
       "version_minor": 0
      },
      "text/plain": [
       "HBox(children=(HTML(value='Criterion loop'), FloatProgress(value=0.0, max=2.0), HTML(value='')))"
      ]
     },
     "metadata": {},
     "output_type": "display_data"
    },
    {
     "data": {
      "application/vnd.jupyter.widget-view+json": {
       "model_id": "",
       "version_major": 2,
       "version_minor": 0
      },
      "text/plain": [
       "HBox(children=(HTML(value='Min_smp_leaf'), FloatProgress(value=0.0, max=5.0), HTML(value='')))"
      ]
     },
     "metadata": {},
     "output_type": "display_data"
    },
    {
     "data": {
      "application/vnd.jupyter.widget-view+json": {
       "model_id": "",
       "version_major": 2,
       "version_minor": 0
      },
      "text/plain": [
       "HBox(children=(HTML(value='Min_smp_leaf'), FloatProgress(value=0.0, max=5.0), HTML(value='')))"
      ]
     },
     "metadata": {},
     "output_type": "display_data"
    },
    {
     "data": {
      "application/vnd.jupyter.widget-view+json": {
       "model_id": "",
       "version_major": 2,
       "version_minor": 0
      },
      "text/plain": [
       "HBox(children=(HTML(value='Criterion loop'), FloatProgress(value=0.0, max=2.0), HTML(value='')))"
      ]
     },
     "metadata": {},
     "output_type": "display_data"
    },
    {
     "data": {
      "application/vnd.jupyter.widget-view+json": {
       "model_id": "",
       "version_major": 2,
       "version_minor": 0
      },
      "text/plain": [
       "HBox(children=(HTML(value='Min_smp_leaf'), FloatProgress(value=0.0, max=5.0), HTML(value='')))"
      ]
     },
     "metadata": {},
     "output_type": "display_data"
    },
    {
     "data": {
      "application/vnd.jupyter.widget-view+json": {
       "model_id": "",
       "version_major": 2,
       "version_minor": 0
      },
      "text/plain": [
       "HBox(children=(HTML(value='Min_smp_leaf'), FloatProgress(value=0.0, max=5.0), HTML(value='')))"
      ]
     },
     "metadata": {},
     "output_type": "display_data"
    },
    {
     "data": {
      "application/vnd.jupyter.widget-view+json": {
       "model_id": "",
       "version_major": 2,
       "version_minor": 0
      },
      "text/plain": [
       "HBox(children=(HTML(value='Criterion loop'), FloatProgress(value=0.0, max=2.0), HTML(value='')))"
      ]
     },
     "metadata": {},
     "output_type": "display_data"
    },
    {
     "data": {
      "application/vnd.jupyter.widget-view+json": {
       "model_id": "",
       "version_major": 2,
       "version_minor": 0
      },
      "text/plain": [
       "HBox(children=(HTML(value='Min_smp_leaf'), FloatProgress(value=0.0, max=5.0), HTML(value='')))"
      ]
     },
     "metadata": {},
     "output_type": "display_data"
    },
    {
     "data": {
      "application/vnd.jupyter.widget-view+json": {
       "model_id": "",
       "version_major": 2,
       "version_minor": 0
      },
      "text/plain": [
       "HBox(children=(HTML(value='Min_smp_leaf'), FloatProgress(value=0.0, max=5.0), HTML(value='')))"
      ]
     },
     "metadata": {},
     "output_type": "display_data"
    },
    {
     "data": {
      "application/vnd.jupyter.widget-view+json": {
       "model_id": "",
       "version_major": 2,
       "version_minor": 0
      },
      "text/plain": [
       "HBox(children=(HTML(value='Criterion loop'), FloatProgress(value=0.0, max=2.0), HTML(value='')))"
      ]
     },
     "metadata": {},
     "output_type": "display_data"
    },
    {
     "data": {
      "application/vnd.jupyter.widget-view+json": {
       "model_id": "",
       "version_major": 2,
       "version_minor": 0
      },
      "text/plain": [
       "HBox(children=(HTML(value='Min_smp_leaf'), FloatProgress(value=0.0, max=5.0), HTML(value='')))"
      ]
     },
     "metadata": {},
     "output_type": "display_data"
    },
    {
     "data": {
      "application/vnd.jupyter.widget-view+json": {
       "model_id": "",
       "version_major": 2,
       "version_minor": 0
      },
      "text/plain": [
       "HBox(children=(HTML(value='Min_smp_leaf'), FloatProgress(value=0.0, max=5.0), HTML(value='')))"
      ]
     },
     "metadata": {},
     "output_type": "display_data"
    },
    {
     "data": {
      "application/vnd.jupyter.widget-view+json": {
       "model_id": "",
       "version_major": 2,
       "version_minor": 0
      },
      "text/plain": [
       "HBox(children=(HTML(value='Criterion loop'), FloatProgress(value=0.0, max=2.0), HTML(value='')))"
      ]
     },
     "metadata": {},
     "output_type": "display_data"
    },
    {
     "data": {
      "application/vnd.jupyter.widget-view+json": {
       "model_id": "",
       "version_major": 2,
       "version_minor": 0
      },
      "text/plain": [
       "HBox(children=(HTML(value='Min_smp_leaf'), FloatProgress(value=0.0, max=5.0), HTML(value='')))"
      ]
     },
     "metadata": {},
     "output_type": "display_data"
    },
    {
     "data": {
      "application/vnd.jupyter.widget-view+json": {
       "model_id": "",
       "version_major": 2,
       "version_minor": 0
      },
      "text/plain": [
       "HBox(children=(HTML(value='Min_smp_leaf'), FloatProgress(value=0.0, max=5.0), HTML(value='')))"
      ]
     },
     "metadata": {},
     "output_type": "display_data"
    },
    {
     "data": {
      "application/vnd.jupyter.widget-view+json": {
       "model_id": "",
       "version_major": 2,
       "version_minor": 0
      },
      "text/plain": [
       "HBox(children=(HTML(value='Criterion loop'), FloatProgress(value=0.0, max=2.0), HTML(value='')))"
      ]
     },
     "metadata": {},
     "output_type": "display_data"
    },
    {
     "data": {
      "application/vnd.jupyter.widget-view+json": {
       "model_id": "",
       "version_major": 2,
       "version_minor": 0
      },
      "text/plain": [
       "HBox(children=(HTML(value='Min_smp_leaf'), FloatProgress(value=0.0, max=5.0), HTML(value='')))"
      ]
     },
     "metadata": {},
     "output_type": "display_data"
    },
    {
     "data": {
      "application/vnd.jupyter.widget-view+json": {
       "model_id": "",
       "version_major": 2,
       "version_minor": 0
      },
      "text/plain": [
       "HBox(children=(HTML(value='Min_smp_leaf'), FloatProgress(value=0.0, max=5.0), HTML(value='')))"
      ]
     },
     "metadata": {},
     "output_type": "display_data"
    },
    {
     "data": {
      "application/vnd.jupyter.widget-view+json": {
       "model_id": "",
       "version_major": 2,
       "version_minor": 0
      },
      "text/plain": [
       "HBox(children=(HTML(value='Criterion loop'), FloatProgress(value=0.0, max=2.0), HTML(value='')))"
      ]
     },
     "metadata": {},
     "output_type": "display_data"
    },
    {
     "data": {
      "application/vnd.jupyter.widget-view+json": {
       "model_id": "",
       "version_major": 2,
       "version_minor": 0
      },
      "text/plain": [
       "HBox(children=(HTML(value='Min_smp_leaf'), FloatProgress(value=0.0, max=5.0), HTML(value='')))"
      ]
     },
     "metadata": {},
     "output_type": "display_data"
    },
    {
     "data": {
      "application/vnd.jupyter.widget-view+json": {
       "model_id": "",
       "version_major": 2,
       "version_minor": 0
      },
      "text/plain": [
       "HBox(children=(HTML(value='Min_smp_leaf'), FloatProgress(value=0.0, max=5.0), HTML(value='')))"
      ]
     },
     "metadata": {},
     "output_type": "display_data"
    },
    {
     "data": {
      "application/vnd.jupyter.widget-view+json": {
       "model_id": "",
       "version_major": 2,
       "version_minor": 0
      },
      "text/plain": [
       "HBox(children=(HTML(value='Criterion loop'), FloatProgress(value=0.0, max=2.0), HTML(value='')))"
      ]
     },
     "metadata": {},
     "output_type": "display_data"
    },
    {
     "data": {
      "application/vnd.jupyter.widget-view+json": {
       "model_id": "",
       "version_major": 2,
       "version_minor": 0
      },
      "text/plain": [
       "HBox(children=(HTML(value='Min_smp_leaf'), FloatProgress(value=0.0, max=5.0), HTML(value='')))"
      ]
     },
     "metadata": {},
     "output_type": "display_data"
    },
    {
     "data": {
      "application/vnd.jupyter.widget-view+json": {
       "model_id": "",
       "version_major": 2,
       "version_minor": 0
      },
      "text/plain": [
       "HBox(children=(HTML(value='Min_smp_leaf'), FloatProgress(value=0.0, max=5.0), HTML(value='')))"
      ]
     },
     "metadata": {},
     "output_type": "display_data"
    },
    {
     "data": {
      "application/vnd.jupyter.widget-view+json": {
       "model_id": "",
       "version_major": 2,
       "version_minor": 0
      },
      "text/plain": [
       "HBox(children=(HTML(value='Criterion loop'), FloatProgress(value=0.0, max=2.0), HTML(value='')))"
      ]
     },
     "metadata": {},
     "output_type": "display_data"
    },
    {
     "data": {
      "application/vnd.jupyter.widget-view+json": {
       "model_id": "",
       "version_major": 2,
       "version_minor": 0
      },
      "text/plain": [
       "HBox(children=(HTML(value='Min_smp_leaf'), FloatProgress(value=0.0, max=5.0), HTML(value='')))"
      ]
     },
     "metadata": {},
     "output_type": "display_data"
    },
    {
     "data": {
      "application/vnd.jupyter.widget-view+json": {
       "model_id": "",
       "version_major": 2,
       "version_minor": 0
      },
      "text/plain": [
       "HBox(children=(HTML(value='Min_smp_leaf'), FloatProgress(value=0.0, max=5.0), HTML(value='')))"
      ]
     },
     "metadata": {},
     "output_type": "display_data"
    },
    {
     "data": {
      "application/vnd.jupyter.widget-view+json": {
       "model_id": "",
       "version_major": 2,
       "version_minor": 0
      },
      "text/plain": [
       "HBox(children=(HTML(value='Criterion loop'), FloatProgress(value=0.0, max=2.0), HTML(value='')))"
      ]
     },
     "metadata": {},
     "output_type": "display_data"
    },
    {
     "data": {
      "application/vnd.jupyter.widget-view+json": {
       "model_id": "",
       "version_major": 2,
       "version_minor": 0
      },
      "text/plain": [
       "HBox(children=(HTML(value='Min_smp_leaf'), FloatProgress(value=0.0, max=5.0), HTML(value='')))"
      ]
     },
     "metadata": {},
     "output_type": "display_data"
    },
    {
     "data": {
      "application/vnd.jupyter.widget-view+json": {
       "model_id": "",
       "version_major": 2,
       "version_minor": 0
      },
      "text/plain": [
       "HBox(children=(HTML(value='Min_smp_leaf'), FloatProgress(value=0.0, max=5.0), HTML(value='')))"
      ]
     },
     "metadata": {},
     "output_type": "display_data"
    },
    {
     "data": {
      "application/vnd.jupyter.widget-view+json": {
       "model_id": "",
       "version_major": 2,
       "version_minor": 0
      },
      "text/plain": [
       "HBox(children=(HTML(value='Criterion loop'), FloatProgress(value=0.0, max=2.0), HTML(value='')))"
      ]
     },
     "metadata": {},
     "output_type": "display_data"
    },
    {
     "data": {
      "application/vnd.jupyter.widget-view+json": {
       "model_id": "",
       "version_major": 2,
       "version_minor": 0
      },
      "text/plain": [
       "HBox(children=(HTML(value='Min_smp_leaf'), FloatProgress(value=0.0, max=5.0), HTML(value='')))"
      ]
     },
     "metadata": {},
     "output_type": "display_data"
    },
    {
     "data": {
      "application/vnd.jupyter.widget-view+json": {
       "model_id": "",
       "version_major": 2,
       "version_minor": 0
      },
      "text/plain": [
       "HBox(children=(HTML(value='Min_smp_leaf'), FloatProgress(value=0.0, max=5.0), HTML(value='')))"
      ]
     },
     "metadata": {},
     "output_type": "display_data"
    },
    {
     "name": "stdout",
     "output_type": "stream",
     "text": [
      "\n"
     ]
    }
   ],
   "source": [
    "best_model_tree = None\n",
    "best_result_tree = 0\n",
    "for depth in tqdm(range(1, 15), desc='Depth loop'):\n",
    "    for cr in tqdm(['gini', 'entropy'], desc='Criterion loop', leave=False):\n",
    "        for min_smp in tqdm(range(1, 50, 10), desc='Min_smp_leaf', leave=False):\n",
    "            model_DecisionTree = DecisionTreeClassifier(random_state=5, min_samples_leaf = min_smp, max_depth=depth, criterion = cr)\n",
    "            model_DecisionTree.fit(features_train, target_train) \n",
    "            valid_predictions_tree = model_DecisionTree.predict(features_valid) \n",
    "            result = model_DecisionTree.score(features_valid, target_valid)    \n",
    "            if result > best_result_tree:\n",
    "                best_model_tree = model_DecisionTree\n",
    "                best_result_tree = result"
   ]
  },
  {
   "cell_type": "code",
   "execution_count": 23,
   "metadata": {},
   "outputs": [
    {
     "name": "stdout",
     "output_type": "stream",
     "text": [
      "F1:\n",
      "0.5698005698005697\n",
      "Параметры лучшей модели:\n",
      "DecisionTreeClassifier(class_weight=None, criterion='gini', max_depth=8,\n",
      "                       max_features=None, max_leaf_nodes=None,\n",
      "                       min_impurity_decrease=0.0, min_impurity_split=None,\n",
      "                       min_samples_leaf=1, min_samples_split=2,\n",
      "                       min_weight_fraction_leaf=0.0, presort=False,\n",
      "                       random_state=5, splitter='best')\n"
     ]
    }
   ],
   "source": [
    "print(\"F1:\", f1_score(target_valid, valid_predictions_tree),\n",
    "     \"Параметры лучшей модели:\", best_model_tree, sep='\\n')"
   ]
  },
  {
   "cell_type": "code",
   "execution_count": 24,
   "metadata": {},
   "outputs": [],
   "source": [
    "probabilities_valid = model_DecisionTree.predict_proba(features_valid)\n",
    "probabilities_one_valid = probabilities_valid[:, 1]"
   ]
  },
  {
   "cell_type": "code",
   "execution_count": 25,
   "metadata": {},
   "outputs": [
    {
     "name": "stdout",
     "output_type": "stream",
     "text": [
      "AUC ROC: 0.8351732795232174\n"
     ]
    }
   ],
   "source": [
    "print(\"AUC ROC:\", roc_auc_score(target_valid, probabilities_one_valid))"
   ]
  },
  {
   "cell_type": "markdown",
   "metadata": {},
   "source": [
    "Не удалось достигнуть нужных значений f1 (0.56). Auc Roc = 0.83"
   ]
  },
  {
   "cell_type": "markdown",
   "metadata": {},
   "source": [
    "### Random Forest Classifier"
   ]
  },
  {
   "cell_type": "markdown",
   "metadata": {},
   "source": [
    "Этот алгоритм обучает большое количество независимых друг от друга деревьев, а потом принимает решение на основе голосования. \"Случайный лес\" помогает улучшить результат предсказания и избежать переобучения."
   ]
  },
  {
   "cell_type": "markdown",
   "metadata": {},
   "source": [
    "Попробуем перебрать вложенными циклами:"
   ]
  },
  {
   "cell_type": "code",
   "execution_count": 26,
   "metadata": {},
   "outputs": [
    {
     "data": {
      "application/vnd.jupyter.widget-view+json": {
       "model_id": "efa54a086c6c469e9cdbfb585e86cb86",
       "version_major": 2,
       "version_minor": 0
      },
      "text/plain": [
       "HBox(children=(HTML(value='Depth loop'), FloatProgress(value=0.0, max=14.0), HTML(value='')))"
      ]
     },
     "metadata": {},
     "output_type": "display_data"
    },
    {
     "data": {
      "application/vnd.jupyter.widget-view+json": {
       "model_id": "",
       "version_major": 2,
       "version_minor": 0
      },
      "text/plain": [
       "HBox(children=(HTML(value='Est loop'), FloatProgress(value=0.0, max=10.0), HTML(value='')))"
      ]
     },
     "metadata": {},
     "output_type": "display_data"
    },
    {
     "data": {
      "application/vnd.jupyter.widget-view+json": {
       "model_id": "",
       "version_major": 2,
       "version_minor": 0
      },
      "text/plain": [
       "HBox(children=(HTML(value='n_features loop'), FloatProgress(value=0.0, max=2.0), HTML(value='')))"
      ]
     },
     "metadata": {},
     "output_type": "display_data"
    },
    {
     "data": {
      "application/vnd.jupyter.widget-view+json": {
       "model_id": "",
       "version_major": 2,
       "version_minor": 0
      },
      "text/plain": [
       "HBox(children=(HTML(value='n_features loop'), FloatProgress(value=0.0, max=2.0), HTML(value='')))"
      ]
     },
     "metadata": {},
     "output_type": "display_data"
    },
    {
     "data": {
      "application/vnd.jupyter.widget-view+json": {
       "model_id": "",
       "version_major": 2,
       "version_minor": 0
      },
      "text/plain": [
       "HBox(children=(HTML(value='n_features loop'), FloatProgress(value=0.0, max=2.0), HTML(value='')))"
      ]
     },
     "metadata": {},
     "output_type": "display_data"
    },
    {
     "data": {
      "application/vnd.jupyter.widget-view+json": {
       "model_id": "",
       "version_major": 2,
       "version_minor": 0
      },
      "text/plain": [
       "HBox(children=(HTML(value='n_features loop'), FloatProgress(value=0.0, max=2.0), HTML(value='')))"
      ]
     },
     "metadata": {},
     "output_type": "display_data"
    },
    {
     "data": {
      "application/vnd.jupyter.widget-view+json": {
       "model_id": "",
       "version_major": 2,
       "version_minor": 0
      },
      "text/plain": [
       "HBox(children=(HTML(value='n_features loop'), FloatProgress(value=0.0, max=2.0), HTML(value='')))"
      ]
     },
     "metadata": {},
     "output_type": "display_data"
    },
    {
     "data": {
      "application/vnd.jupyter.widget-view+json": {
       "model_id": "",
       "version_major": 2,
       "version_minor": 0
      },
      "text/plain": [
       "HBox(children=(HTML(value='n_features loop'), FloatProgress(value=0.0, max=2.0), HTML(value='')))"
      ]
     },
     "metadata": {},
     "output_type": "display_data"
    },
    {
     "data": {
      "application/vnd.jupyter.widget-view+json": {
       "model_id": "",
       "version_major": 2,
       "version_minor": 0
      },
      "text/plain": [
       "HBox(children=(HTML(value='n_features loop'), FloatProgress(value=0.0, max=2.0), HTML(value='')))"
      ]
     },
     "metadata": {},
     "output_type": "display_data"
    },
    {
     "data": {
      "application/vnd.jupyter.widget-view+json": {
       "model_id": "",
       "version_major": 2,
       "version_minor": 0
      },
      "text/plain": [
       "HBox(children=(HTML(value='n_features loop'), FloatProgress(value=0.0, max=2.0), HTML(value='')))"
      ]
     },
     "metadata": {},
     "output_type": "display_data"
    },
    {
     "data": {
      "application/vnd.jupyter.widget-view+json": {
       "model_id": "",
       "version_major": 2,
       "version_minor": 0
      },
      "text/plain": [
       "HBox(children=(HTML(value='n_features loop'), FloatProgress(value=0.0, max=2.0), HTML(value='')))"
      ]
     },
     "metadata": {},
     "output_type": "display_data"
    },
    {
     "data": {
      "application/vnd.jupyter.widget-view+json": {
       "model_id": "",
       "version_major": 2,
       "version_minor": 0
      },
      "text/plain": [
       "HBox(children=(HTML(value='n_features loop'), FloatProgress(value=0.0, max=2.0), HTML(value='')))"
      ]
     },
     "metadata": {},
     "output_type": "display_data"
    },
    {
     "data": {
      "application/vnd.jupyter.widget-view+json": {
       "model_id": "",
       "version_major": 2,
       "version_minor": 0
      },
      "text/plain": [
       "HBox(children=(HTML(value='Est loop'), FloatProgress(value=0.0, max=10.0), HTML(value='')))"
      ]
     },
     "metadata": {},
     "output_type": "display_data"
    },
    {
     "data": {
      "application/vnd.jupyter.widget-view+json": {
       "model_id": "",
       "version_major": 2,
       "version_minor": 0
      },
      "text/plain": [
       "HBox(children=(HTML(value='n_features loop'), FloatProgress(value=0.0, max=2.0), HTML(value='')))"
      ]
     },
     "metadata": {},
     "output_type": "display_data"
    },
    {
     "data": {
      "application/vnd.jupyter.widget-view+json": {
       "model_id": "",
       "version_major": 2,
       "version_minor": 0
      },
      "text/plain": [
       "HBox(children=(HTML(value='n_features loop'), FloatProgress(value=0.0, max=2.0), HTML(value='')))"
      ]
     },
     "metadata": {},
     "output_type": "display_data"
    },
    {
     "data": {
      "application/vnd.jupyter.widget-view+json": {
       "model_id": "",
       "version_major": 2,
       "version_minor": 0
      },
      "text/plain": [
       "HBox(children=(HTML(value='n_features loop'), FloatProgress(value=0.0, max=2.0), HTML(value='')))"
      ]
     },
     "metadata": {},
     "output_type": "display_data"
    },
    {
     "data": {
      "application/vnd.jupyter.widget-view+json": {
       "model_id": "",
       "version_major": 2,
       "version_minor": 0
      },
      "text/plain": [
       "HBox(children=(HTML(value='n_features loop'), FloatProgress(value=0.0, max=2.0), HTML(value='')))"
      ]
     },
     "metadata": {},
     "output_type": "display_data"
    },
    {
     "data": {
      "application/vnd.jupyter.widget-view+json": {
       "model_id": "",
       "version_major": 2,
       "version_minor": 0
      },
      "text/plain": [
       "HBox(children=(HTML(value='n_features loop'), FloatProgress(value=0.0, max=2.0), HTML(value='')))"
      ]
     },
     "metadata": {},
     "output_type": "display_data"
    },
    {
     "data": {
      "application/vnd.jupyter.widget-view+json": {
       "model_id": "",
       "version_major": 2,
       "version_minor": 0
      },
      "text/plain": [
       "HBox(children=(HTML(value='n_features loop'), FloatProgress(value=0.0, max=2.0), HTML(value='')))"
      ]
     },
     "metadata": {},
     "output_type": "display_data"
    },
    {
     "data": {
      "application/vnd.jupyter.widget-view+json": {
       "model_id": "",
       "version_major": 2,
       "version_minor": 0
      },
      "text/plain": [
       "HBox(children=(HTML(value='n_features loop'), FloatProgress(value=0.0, max=2.0), HTML(value='')))"
      ]
     },
     "metadata": {},
     "output_type": "display_data"
    },
    {
     "data": {
      "application/vnd.jupyter.widget-view+json": {
       "model_id": "",
       "version_major": 2,
       "version_minor": 0
      },
      "text/plain": [
       "HBox(children=(HTML(value='n_features loop'), FloatProgress(value=0.0, max=2.0), HTML(value='')))"
      ]
     },
     "metadata": {},
     "output_type": "display_data"
    },
    {
     "data": {
      "application/vnd.jupyter.widget-view+json": {
       "model_id": "",
       "version_major": 2,
       "version_minor": 0
      },
      "text/plain": [
       "HBox(children=(HTML(value='n_features loop'), FloatProgress(value=0.0, max=2.0), HTML(value='')))"
      ]
     },
     "metadata": {},
     "output_type": "display_data"
    },
    {
     "data": {
      "application/vnd.jupyter.widget-view+json": {
       "model_id": "",
       "version_major": 2,
       "version_minor": 0
      },
      "text/plain": [
       "HBox(children=(HTML(value='n_features loop'), FloatProgress(value=0.0, max=2.0), HTML(value='')))"
      ]
     },
     "metadata": {},
     "output_type": "display_data"
    },
    {
     "data": {
      "application/vnd.jupyter.widget-view+json": {
       "model_id": "",
       "version_major": 2,
       "version_minor": 0
      },
      "text/plain": [
       "HBox(children=(HTML(value='Est loop'), FloatProgress(value=0.0, max=10.0), HTML(value='')))"
      ]
     },
     "metadata": {},
     "output_type": "display_data"
    },
    {
     "data": {
      "application/vnd.jupyter.widget-view+json": {
       "model_id": "",
       "version_major": 2,
       "version_minor": 0
      },
      "text/plain": [
       "HBox(children=(HTML(value='n_features loop'), FloatProgress(value=0.0, max=2.0), HTML(value='')))"
      ]
     },
     "metadata": {},
     "output_type": "display_data"
    },
    {
     "data": {
      "application/vnd.jupyter.widget-view+json": {
       "model_id": "",
       "version_major": 2,
       "version_minor": 0
      },
      "text/plain": [
       "HBox(children=(HTML(value='n_features loop'), FloatProgress(value=0.0, max=2.0), HTML(value='')))"
      ]
     },
     "metadata": {},
     "output_type": "display_data"
    },
    {
     "data": {
      "application/vnd.jupyter.widget-view+json": {
       "model_id": "",
       "version_major": 2,
       "version_minor": 0
      },
      "text/plain": [
       "HBox(children=(HTML(value='n_features loop'), FloatProgress(value=0.0, max=2.0), HTML(value='')))"
      ]
     },
     "metadata": {},
     "output_type": "display_data"
    },
    {
     "data": {
      "application/vnd.jupyter.widget-view+json": {
       "model_id": "",
       "version_major": 2,
       "version_minor": 0
      },
      "text/plain": [
       "HBox(children=(HTML(value='n_features loop'), FloatProgress(value=0.0, max=2.0), HTML(value='')))"
      ]
     },
     "metadata": {},
     "output_type": "display_data"
    },
    {
     "data": {
      "application/vnd.jupyter.widget-view+json": {
       "model_id": "",
       "version_major": 2,
       "version_minor": 0
      },
      "text/plain": [
       "HBox(children=(HTML(value='n_features loop'), FloatProgress(value=0.0, max=2.0), HTML(value='')))"
      ]
     },
     "metadata": {},
     "output_type": "display_data"
    },
    {
     "data": {
      "application/vnd.jupyter.widget-view+json": {
       "model_id": "",
       "version_major": 2,
       "version_minor": 0
      },
      "text/plain": [
       "HBox(children=(HTML(value='n_features loop'), FloatProgress(value=0.0, max=2.0), HTML(value='')))"
      ]
     },
     "metadata": {},
     "output_type": "display_data"
    },
    {
     "data": {
      "application/vnd.jupyter.widget-view+json": {
       "model_id": "",
       "version_major": 2,
       "version_minor": 0
      },
      "text/plain": [
       "HBox(children=(HTML(value='n_features loop'), FloatProgress(value=0.0, max=2.0), HTML(value='')))"
      ]
     },
     "metadata": {},
     "output_type": "display_data"
    },
    {
     "data": {
      "application/vnd.jupyter.widget-view+json": {
       "model_id": "",
       "version_major": 2,
       "version_minor": 0
      },
      "text/plain": [
       "HBox(children=(HTML(value='n_features loop'), FloatProgress(value=0.0, max=2.0), HTML(value='')))"
      ]
     },
     "metadata": {},
     "output_type": "display_data"
    },
    {
     "data": {
      "application/vnd.jupyter.widget-view+json": {
       "model_id": "",
       "version_major": 2,
       "version_minor": 0
      },
      "text/plain": [
       "HBox(children=(HTML(value='n_features loop'), FloatProgress(value=0.0, max=2.0), HTML(value='')))"
      ]
     },
     "metadata": {},
     "output_type": "display_data"
    },
    {
     "data": {
      "application/vnd.jupyter.widget-view+json": {
       "model_id": "",
       "version_major": 2,
       "version_minor": 0
      },
      "text/plain": [
       "HBox(children=(HTML(value='n_features loop'), FloatProgress(value=0.0, max=2.0), HTML(value='')))"
      ]
     },
     "metadata": {},
     "output_type": "display_data"
    },
    {
     "data": {
      "application/vnd.jupyter.widget-view+json": {
       "model_id": "",
       "version_major": 2,
       "version_minor": 0
      },
      "text/plain": [
       "HBox(children=(HTML(value='Est loop'), FloatProgress(value=0.0, max=10.0), HTML(value='')))"
      ]
     },
     "metadata": {},
     "output_type": "display_data"
    },
    {
     "data": {
      "application/vnd.jupyter.widget-view+json": {
       "model_id": "",
       "version_major": 2,
       "version_minor": 0
      },
      "text/plain": [
       "HBox(children=(HTML(value='n_features loop'), FloatProgress(value=0.0, max=2.0), HTML(value='')))"
      ]
     },
     "metadata": {},
     "output_type": "display_data"
    },
    {
     "data": {
      "application/vnd.jupyter.widget-view+json": {
       "model_id": "",
       "version_major": 2,
       "version_minor": 0
      },
      "text/plain": [
       "HBox(children=(HTML(value='n_features loop'), FloatProgress(value=0.0, max=2.0), HTML(value='')))"
      ]
     },
     "metadata": {},
     "output_type": "display_data"
    },
    {
     "data": {
      "application/vnd.jupyter.widget-view+json": {
       "model_id": "",
       "version_major": 2,
       "version_minor": 0
      },
      "text/plain": [
       "HBox(children=(HTML(value='n_features loop'), FloatProgress(value=0.0, max=2.0), HTML(value='')))"
      ]
     },
     "metadata": {},
     "output_type": "display_data"
    },
    {
     "data": {
      "application/vnd.jupyter.widget-view+json": {
       "model_id": "",
       "version_major": 2,
       "version_minor": 0
      },
      "text/plain": [
       "HBox(children=(HTML(value='n_features loop'), FloatProgress(value=0.0, max=2.0), HTML(value='')))"
      ]
     },
     "metadata": {},
     "output_type": "display_data"
    },
    {
     "data": {
      "application/vnd.jupyter.widget-view+json": {
       "model_id": "",
       "version_major": 2,
       "version_minor": 0
      },
      "text/plain": [
       "HBox(children=(HTML(value='n_features loop'), FloatProgress(value=0.0, max=2.0), HTML(value='')))"
      ]
     },
     "metadata": {},
     "output_type": "display_data"
    },
    {
     "data": {
      "application/vnd.jupyter.widget-view+json": {
       "model_id": "",
       "version_major": 2,
       "version_minor": 0
      },
      "text/plain": [
       "HBox(children=(HTML(value='n_features loop'), FloatProgress(value=0.0, max=2.0), HTML(value='')))"
      ]
     },
     "metadata": {},
     "output_type": "display_data"
    },
    {
     "data": {
      "application/vnd.jupyter.widget-view+json": {
       "model_id": "",
       "version_major": 2,
       "version_minor": 0
      },
      "text/plain": [
       "HBox(children=(HTML(value='n_features loop'), FloatProgress(value=0.0, max=2.0), HTML(value='')))"
      ]
     },
     "metadata": {},
     "output_type": "display_data"
    },
    {
     "data": {
      "application/vnd.jupyter.widget-view+json": {
       "model_id": "",
       "version_major": 2,
       "version_minor": 0
      },
      "text/plain": [
       "HBox(children=(HTML(value='n_features loop'), FloatProgress(value=0.0, max=2.0), HTML(value='')))"
      ]
     },
     "metadata": {},
     "output_type": "display_data"
    },
    {
     "data": {
      "application/vnd.jupyter.widget-view+json": {
       "model_id": "",
       "version_major": 2,
       "version_minor": 0
      },
      "text/plain": [
       "HBox(children=(HTML(value='n_features loop'), FloatProgress(value=0.0, max=2.0), HTML(value='')))"
      ]
     },
     "metadata": {},
     "output_type": "display_data"
    },
    {
     "data": {
      "application/vnd.jupyter.widget-view+json": {
       "model_id": "",
       "version_major": 2,
       "version_minor": 0
      },
      "text/plain": [
       "HBox(children=(HTML(value='n_features loop'), FloatProgress(value=0.0, max=2.0), HTML(value='')))"
      ]
     },
     "metadata": {},
     "output_type": "display_data"
    },
    {
     "data": {
      "application/vnd.jupyter.widget-view+json": {
       "model_id": "",
       "version_major": 2,
       "version_minor": 0
      },
      "text/plain": [
       "HBox(children=(HTML(value='Est loop'), FloatProgress(value=0.0, max=10.0), HTML(value='')))"
      ]
     },
     "metadata": {},
     "output_type": "display_data"
    },
    {
     "data": {
      "application/vnd.jupyter.widget-view+json": {
       "model_id": "",
       "version_major": 2,
       "version_minor": 0
      },
      "text/plain": [
       "HBox(children=(HTML(value='n_features loop'), FloatProgress(value=0.0, max=2.0), HTML(value='')))"
      ]
     },
     "metadata": {},
     "output_type": "display_data"
    },
    {
     "data": {
      "application/vnd.jupyter.widget-view+json": {
       "model_id": "",
       "version_major": 2,
       "version_minor": 0
      },
      "text/plain": [
       "HBox(children=(HTML(value='n_features loop'), FloatProgress(value=0.0, max=2.0), HTML(value='')))"
      ]
     },
     "metadata": {},
     "output_type": "display_data"
    },
    {
     "data": {
      "application/vnd.jupyter.widget-view+json": {
       "model_id": "",
       "version_major": 2,
       "version_minor": 0
      },
      "text/plain": [
       "HBox(children=(HTML(value='n_features loop'), FloatProgress(value=0.0, max=2.0), HTML(value='')))"
      ]
     },
     "metadata": {},
     "output_type": "display_data"
    },
    {
     "data": {
      "application/vnd.jupyter.widget-view+json": {
       "model_id": "",
       "version_major": 2,
       "version_minor": 0
      },
      "text/plain": [
       "HBox(children=(HTML(value='n_features loop'), FloatProgress(value=0.0, max=2.0), HTML(value='')))"
      ]
     },
     "metadata": {},
     "output_type": "display_data"
    },
    {
     "data": {
      "application/vnd.jupyter.widget-view+json": {
       "model_id": "",
       "version_major": 2,
       "version_minor": 0
      },
      "text/plain": [
       "HBox(children=(HTML(value='n_features loop'), FloatProgress(value=0.0, max=2.0), HTML(value='')))"
      ]
     },
     "metadata": {},
     "output_type": "display_data"
    },
    {
     "data": {
      "application/vnd.jupyter.widget-view+json": {
       "model_id": "",
       "version_major": 2,
       "version_minor": 0
      },
      "text/plain": [
       "HBox(children=(HTML(value='n_features loop'), FloatProgress(value=0.0, max=2.0), HTML(value='')))"
      ]
     },
     "metadata": {},
     "output_type": "display_data"
    },
    {
     "data": {
      "application/vnd.jupyter.widget-view+json": {
       "model_id": "",
       "version_major": 2,
       "version_minor": 0
      },
      "text/plain": [
       "HBox(children=(HTML(value='n_features loop'), FloatProgress(value=0.0, max=2.0), HTML(value='')))"
      ]
     },
     "metadata": {},
     "output_type": "display_data"
    },
    {
     "data": {
      "application/vnd.jupyter.widget-view+json": {
       "model_id": "",
       "version_major": 2,
       "version_minor": 0
      },
      "text/plain": [
       "HBox(children=(HTML(value='n_features loop'), FloatProgress(value=0.0, max=2.0), HTML(value='')))"
      ]
     },
     "metadata": {},
     "output_type": "display_data"
    },
    {
     "data": {
      "application/vnd.jupyter.widget-view+json": {
       "model_id": "",
       "version_major": 2,
       "version_minor": 0
      },
      "text/plain": [
       "HBox(children=(HTML(value='n_features loop'), FloatProgress(value=0.0, max=2.0), HTML(value='')))"
      ]
     },
     "metadata": {},
     "output_type": "display_data"
    },
    {
     "data": {
      "application/vnd.jupyter.widget-view+json": {
       "model_id": "",
       "version_major": 2,
       "version_minor": 0
      },
      "text/plain": [
       "HBox(children=(HTML(value='n_features loop'), FloatProgress(value=0.0, max=2.0), HTML(value='')))"
      ]
     },
     "metadata": {},
     "output_type": "display_data"
    },
    {
     "data": {
      "application/vnd.jupyter.widget-view+json": {
       "model_id": "",
       "version_major": 2,
       "version_minor": 0
      },
      "text/plain": [
       "HBox(children=(HTML(value='Est loop'), FloatProgress(value=0.0, max=10.0), HTML(value='')))"
      ]
     },
     "metadata": {},
     "output_type": "display_data"
    },
    {
     "data": {
      "application/vnd.jupyter.widget-view+json": {
       "model_id": "",
       "version_major": 2,
       "version_minor": 0
      },
      "text/plain": [
       "HBox(children=(HTML(value='n_features loop'), FloatProgress(value=0.0, max=2.0), HTML(value='')))"
      ]
     },
     "metadata": {},
     "output_type": "display_data"
    },
    {
     "data": {
      "application/vnd.jupyter.widget-view+json": {
       "model_id": "",
       "version_major": 2,
       "version_minor": 0
      },
      "text/plain": [
       "HBox(children=(HTML(value='n_features loop'), FloatProgress(value=0.0, max=2.0), HTML(value='')))"
      ]
     },
     "metadata": {},
     "output_type": "display_data"
    },
    {
     "data": {
      "application/vnd.jupyter.widget-view+json": {
       "model_id": "",
       "version_major": 2,
       "version_minor": 0
      },
      "text/plain": [
       "HBox(children=(HTML(value='n_features loop'), FloatProgress(value=0.0, max=2.0), HTML(value='')))"
      ]
     },
     "metadata": {},
     "output_type": "display_data"
    },
    {
     "data": {
      "application/vnd.jupyter.widget-view+json": {
       "model_id": "",
       "version_major": 2,
       "version_minor": 0
      },
      "text/plain": [
       "HBox(children=(HTML(value='n_features loop'), FloatProgress(value=0.0, max=2.0), HTML(value='')))"
      ]
     },
     "metadata": {},
     "output_type": "display_data"
    },
    {
     "data": {
      "application/vnd.jupyter.widget-view+json": {
       "model_id": "",
       "version_major": 2,
       "version_minor": 0
      },
      "text/plain": [
       "HBox(children=(HTML(value='n_features loop'), FloatProgress(value=0.0, max=2.0), HTML(value='')))"
      ]
     },
     "metadata": {},
     "output_type": "display_data"
    },
    {
     "data": {
      "application/vnd.jupyter.widget-view+json": {
       "model_id": "",
       "version_major": 2,
       "version_minor": 0
      },
      "text/plain": [
       "HBox(children=(HTML(value='n_features loop'), FloatProgress(value=0.0, max=2.0), HTML(value='')))"
      ]
     },
     "metadata": {},
     "output_type": "display_data"
    },
    {
     "data": {
      "application/vnd.jupyter.widget-view+json": {
       "model_id": "",
       "version_major": 2,
       "version_minor": 0
      },
      "text/plain": [
       "HBox(children=(HTML(value='n_features loop'), FloatProgress(value=0.0, max=2.0), HTML(value='')))"
      ]
     },
     "metadata": {},
     "output_type": "display_data"
    },
    {
     "data": {
      "application/vnd.jupyter.widget-view+json": {
       "model_id": "",
       "version_major": 2,
       "version_minor": 0
      },
      "text/plain": [
       "HBox(children=(HTML(value='n_features loop'), FloatProgress(value=0.0, max=2.0), HTML(value='')))"
      ]
     },
     "metadata": {},
     "output_type": "display_data"
    },
    {
     "data": {
      "application/vnd.jupyter.widget-view+json": {
       "model_id": "",
       "version_major": 2,
       "version_minor": 0
      },
      "text/plain": [
       "HBox(children=(HTML(value='n_features loop'), FloatProgress(value=0.0, max=2.0), HTML(value='')))"
      ]
     },
     "metadata": {},
     "output_type": "display_data"
    },
    {
     "data": {
      "application/vnd.jupyter.widget-view+json": {
       "model_id": "",
       "version_major": 2,
       "version_minor": 0
      },
      "text/plain": [
       "HBox(children=(HTML(value='n_features loop'), FloatProgress(value=0.0, max=2.0), HTML(value='')))"
      ]
     },
     "metadata": {},
     "output_type": "display_data"
    },
    {
     "data": {
      "application/vnd.jupyter.widget-view+json": {
       "model_id": "",
       "version_major": 2,
       "version_minor": 0
      },
      "text/plain": [
       "HBox(children=(HTML(value='Est loop'), FloatProgress(value=0.0, max=10.0), HTML(value='')))"
      ]
     },
     "metadata": {},
     "output_type": "display_data"
    },
    {
     "data": {
      "application/vnd.jupyter.widget-view+json": {
       "model_id": "",
       "version_major": 2,
       "version_minor": 0
      },
      "text/plain": [
       "HBox(children=(HTML(value='n_features loop'), FloatProgress(value=0.0, max=2.0), HTML(value='')))"
      ]
     },
     "metadata": {},
     "output_type": "display_data"
    },
    {
     "data": {
      "application/vnd.jupyter.widget-view+json": {
       "model_id": "",
       "version_major": 2,
       "version_minor": 0
      },
      "text/plain": [
       "HBox(children=(HTML(value='n_features loop'), FloatProgress(value=0.0, max=2.0), HTML(value='')))"
      ]
     },
     "metadata": {},
     "output_type": "display_data"
    },
    {
     "data": {
      "application/vnd.jupyter.widget-view+json": {
       "model_id": "",
       "version_major": 2,
       "version_minor": 0
      },
      "text/plain": [
       "HBox(children=(HTML(value='n_features loop'), FloatProgress(value=0.0, max=2.0), HTML(value='')))"
      ]
     },
     "metadata": {},
     "output_type": "display_data"
    },
    {
     "data": {
      "application/vnd.jupyter.widget-view+json": {
       "model_id": "",
       "version_major": 2,
       "version_minor": 0
      },
      "text/plain": [
       "HBox(children=(HTML(value='n_features loop'), FloatProgress(value=0.0, max=2.0), HTML(value='')))"
      ]
     },
     "metadata": {},
     "output_type": "display_data"
    },
    {
     "data": {
      "application/vnd.jupyter.widget-view+json": {
       "model_id": "",
       "version_major": 2,
       "version_minor": 0
      },
      "text/plain": [
       "HBox(children=(HTML(value='n_features loop'), FloatProgress(value=0.0, max=2.0), HTML(value='')))"
      ]
     },
     "metadata": {},
     "output_type": "display_data"
    },
    {
     "data": {
      "application/vnd.jupyter.widget-view+json": {
       "model_id": "",
       "version_major": 2,
       "version_minor": 0
      },
      "text/plain": [
       "HBox(children=(HTML(value='n_features loop'), FloatProgress(value=0.0, max=2.0), HTML(value='')))"
      ]
     },
     "metadata": {},
     "output_type": "display_data"
    },
    {
     "data": {
      "application/vnd.jupyter.widget-view+json": {
       "model_id": "",
       "version_major": 2,
       "version_minor": 0
      },
      "text/plain": [
       "HBox(children=(HTML(value='n_features loop'), FloatProgress(value=0.0, max=2.0), HTML(value='')))"
      ]
     },
     "metadata": {},
     "output_type": "display_data"
    },
    {
     "data": {
      "application/vnd.jupyter.widget-view+json": {
       "model_id": "",
       "version_major": 2,
       "version_minor": 0
      },
      "text/plain": [
       "HBox(children=(HTML(value='n_features loop'), FloatProgress(value=0.0, max=2.0), HTML(value='')))"
      ]
     },
     "metadata": {},
     "output_type": "display_data"
    },
    {
     "data": {
      "application/vnd.jupyter.widget-view+json": {
       "model_id": "",
       "version_major": 2,
       "version_minor": 0
      },
      "text/plain": [
       "HBox(children=(HTML(value='n_features loop'), FloatProgress(value=0.0, max=2.0), HTML(value='')))"
      ]
     },
     "metadata": {},
     "output_type": "display_data"
    },
    {
     "data": {
      "application/vnd.jupyter.widget-view+json": {
       "model_id": "",
       "version_major": 2,
       "version_minor": 0
      },
      "text/plain": [
       "HBox(children=(HTML(value='n_features loop'), FloatProgress(value=0.0, max=2.0), HTML(value='')))"
      ]
     },
     "metadata": {},
     "output_type": "display_data"
    },
    {
     "data": {
      "application/vnd.jupyter.widget-view+json": {
       "model_id": "",
       "version_major": 2,
       "version_minor": 0
      },
      "text/plain": [
       "HBox(children=(HTML(value='Est loop'), FloatProgress(value=0.0, max=10.0), HTML(value='')))"
      ]
     },
     "metadata": {},
     "output_type": "display_data"
    },
    {
     "data": {
      "application/vnd.jupyter.widget-view+json": {
       "model_id": "",
       "version_major": 2,
       "version_minor": 0
      },
      "text/plain": [
       "HBox(children=(HTML(value='n_features loop'), FloatProgress(value=0.0, max=2.0), HTML(value='')))"
      ]
     },
     "metadata": {},
     "output_type": "display_data"
    },
    {
     "data": {
      "application/vnd.jupyter.widget-view+json": {
       "model_id": "",
       "version_major": 2,
       "version_minor": 0
      },
      "text/plain": [
       "HBox(children=(HTML(value='n_features loop'), FloatProgress(value=0.0, max=2.0), HTML(value='')))"
      ]
     },
     "metadata": {},
     "output_type": "display_data"
    },
    {
     "data": {
      "application/vnd.jupyter.widget-view+json": {
       "model_id": "",
       "version_major": 2,
       "version_minor": 0
      },
      "text/plain": [
       "HBox(children=(HTML(value='n_features loop'), FloatProgress(value=0.0, max=2.0), HTML(value='')))"
      ]
     },
     "metadata": {},
     "output_type": "display_data"
    },
    {
     "data": {
      "application/vnd.jupyter.widget-view+json": {
       "model_id": "",
       "version_major": 2,
       "version_minor": 0
      },
      "text/plain": [
       "HBox(children=(HTML(value='n_features loop'), FloatProgress(value=0.0, max=2.0), HTML(value='')))"
      ]
     },
     "metadata": {},
     "output_type": "display_data"
    },
    {
     "data": {
      "application/vnd.jupyter.widget-view+json": {
       "model_id": "",
       "version_major": 2,
       "version_minor": 0
      },
      "text/plain": [
       "HBox(children=(HTML(value='n_features loop'), FloatProgress(value=0.0, max=2.0), HTML(value='')))"
      ]
     },
     "metadata": {},
     "output_type": "display_data"
    },
    {
     "data": {
      "application/vnd.jupyter.widget-view+json": {
       "model_id": "",
       "version_major": 2,
       "version_minor": 0
      },
      "text/plain": [
       "HBox(children=(HTML(value='n_features loop'), FloatProgress(value=0.0, max=2.0), HTML(value='')))"
      ]
     },
     "metadata": {},
     "output_type": "display_data"
    },
    {
     "data": {
      "application/vnd.jupyter.widget-view+json": {
       "model_id": "",
       "version_major": 2,
       "version_minor": 0
      },
      "text/plain": [
       "HBox(children=(HTML(value='n_features loop'), FloatProgress(value=0.0, max=2.0), HTML(value='')))"
      ]
     },
     "metadata": {},
     "output_type": "display_data"
    },
    {
     "data": {
      "application/vnd.jupyter.widget-view+json": {
       "model_id": "",
       "version_major": 2,
       "version_minor": 0
      },
      "text/plain": [
       "HBox(children=(HTML(value='n_features loop'), FloatProgress(value=0.0, max=2.0), HTML(value='')))"
      ]
     },
     "metadata": {},
     "output_type": "display_data"
    },
    {
     "data": {
      "application/vnd.jupyter.widget-view+json": {
       "model_id": "",
       "version_major": 2,
       "version_minor": 0
      },
      "text/plain": [
       "HBox(children=(HTML(value='n_features loop'), FloatProgress(value=0.0, max=2.0), HTML(value='')))"
      ]
     },
     "metadata": {},
     "output_type": "display_data"
    },
    {
     "data": {
      "application/vnd.jupyter.widget-view+json": {
       "model_id": "",
       "version_major": 2,
       "version_minor": 0
      },
      "text/plain": [
       "HBox(children=(HTML(value='n_features loop'), FloatProgress(value=0.0, max=2.0), HTML(value='')))"
      ]
     },
     "metadata": {},
     "output_type": "display_data"
    },
    {
     "data": {
      "application/vnd.jupyter.widget-view+json": {
       "model_id": "",
       "version_major": 2,
       "version_minor": 0
      },
      "text/plain": [
       "HBox(children=(HTML(value='Est loop'), FloatProgress(value=0.0, max=10.0), HTML(value='')))"
      ]
     },
     "metadata": {},
     "output_type": "display_data"
    },
    {
     "data": {
      "application/vnd.jupyter.widget-view+json": {
       "model_id": "",
       "version_major": 2,
       "version_minor": 0
      },
      "text/plain": [
       "HBox(children=(HTML(value='n_features loop'), FloatProgress(value=0.0, max=2.0), HTML(value='')))"
      ]
     },
     "metadata": {},
     "output_type": "display_data"
    },
    {
     "data": {
      "application/vnd.jupyter.widget-view+json": {
       "model_id": "",
       "version_major": 2,
       "version_minor": 0
      },
      "text/plain": [
       "HBox(children=(HTML(value='n_features loop'), FloatProgress(value=0.0, max=2.0), HTML(value='')))"
      ]
     },
     "metadata": {},
     "output_type": "display_data"
    },
    {
     "data": {
      "application/vnd.jupyter.widget-view+json": {
       "model_id": "",
       "version_major": 2,
       "version_minor": 0
      },
      "text/plain": [
       "HBox(children=(HTML(value='n_features loop'), FloatProgress(value=0.0, max=2.0), HTML(value='')))"
      ]
     },
     "metadata": {},
     "output_type": "display_data"
    },
    {
     "data": {
      "application/vnd.jupyter.widget-view+json": {
       "model_id": "",
       "version_major": 2,
       "version_minor": 0
      },
      "text/plain": [
       "HBox(children=(HTML(value='n_features loop'), FloatProgress(value=0.0, max=2.0), HTML(value='')))"
      ]
     },
     "metadata": {},
     "output_type": "display_data"
    },
    {
     "data": {
      "application/vnd.jupyter.widget-view+json": {
       "model_id": "",
       "version_major": 2,
       "version_minor": 0
      },
      "text/plain": [
       "HBox(children=(HTML(value='n_features loop'), FloatProgress(value=0.0, max=2.0), HTML(value='')))"
      ]
     },
     "metadata": {},
     "output_type": "display_data"
    },
    {
     "data": {
      "application/vnd.jupyter.widget-view+json": {
       "model_id": "",
       "version_major": 2,
       "version_minor": 0
      },
      "text/plain": [
       "HBox(children=(HTML(value='n_features loop'), FloatProgress(value=0.0, max=2.0), HTML(value='')))"
      ]
     },
     "metadata": {},
     "output_type": "display_data"
    },
    {
     "data": {
      "application/vnd.jupyter.widget-view+json": {
       "model_id": "",
       "version_major": 2,
       "version_minor": 0
      },
      "text/plain": [
       "HBox(children=(HTML(value='n_features loop'), FloatProgress(value=0.0, max=2.0), HTML(value='')))"
      ]
     },
     "metadata": {},
     "output_type": "display_data"
    },
    {
     "data": {
      "application/vnd.jupyter.widget-view+json": {
       "model_id": "",
       "version_major": 2,
       "version_minor": 0
      },
      "text/plain": [
       "HBox(children=(HTML(value='n_features loop'), FloatProgress(value=0.0, max=2.0), HTML(value='')))"
      ]
     },
     "metadata": {},
     "output_type": "display_data"
    },
    {
     "data": {
      "application/vnd.jupyter.widget-view+json": {
       "model_id": "",
       "version_major": 2,
       "version_minor": 0
      },
      "text/plain": [
       "HBox(children=(HTML(value='n_features loop'), FloatProgress(value=0.0, max=2.0), HTML(value='')))"
      ]
     },
     "metadata": {},
     "output_type": "display_data"
    },
    {
     "data": {
      "application/vnd.jupyter.widget-view+json": {
       "model_id": "",
       "version_major": 2,
       "version_minor": 0
      },
      "text/plain": [
       "HBox(children=(HTML(value='n_features loop'), FloatProgress(value=0.0, max=2.0), HTML(value='')))"
      ]
     },
     "metadata": {},
     "output_type": "display_data"
    },
    {
     "data": {
      "application/vnd.jupyter.widget-view+json": {
       "model_id": "",
       "version_major": 2,
       "version_minor": 0
      },
      "text/plain": [
       "HBox(children=(HTML(value='Est loop'), FloatProgress(value=0.0, max=10.0), HTML(value='')))"
      ]
     },
     "metadata": {},
     "output_type": "display_data"
    },
    {
     "data": {
      "application/vnd.jupyter.widget-view+json": {
       "model_id": "",
       "version_major": 2,
       "version_minor": 0
      },
      "text/plain": [
       "HBox(children=(HTML(value='n_features loop'), FloatProgress(value=0.0, max=2.0), HTML(value='')))"
      ]
     },
     "metadata": {},
     "output_type": "display_data"
    },
    {
     "data": {
      "application/vnd.jupyter.widget-view+json": {
       "model_id": "",
       "version_major": 2,
       "version_minor": 0
      },
      "text/plain": [
       "HBox(children=(HTML(value='n_features loop'), FloatProgress(value=0.0, max=2.0), HTML(value='')))"
      ]
     },
     "metadata": {},
     "output_type": "display_data"
    },
    {
     "data": {
      "application/vnd.jupyter.widget-view+json": {
       "model_id": "",
       "version_major": 2,
       "version_minor": 0
      },
      "text/plain": [
       "HBox(children=(HTML(value='n_features loop'), FloatProgress(value=0.0, max=2.0), HTML(value='')))"
      ]
     },
     "metadata": {},
     "output_type": "display_data"
    },
    {
     "data": {
      "application/vnd.jupyter.widget-view+json": {
       "model_id": "",
       "version_major": 2,
       "version_minor": 0
      },
      "text/plain": [
       "HBox(children=(HTML(value='n_features loop'), FloatProgress(value=0.0, max=2.0), HTML(value='')))"
      ]
     },
     "metadata": {},
     "output_type": "display_data"
    },
    {
     "data": {
      "application/vnd.jupyter.widget-view+json": {
       "model_id": "",
       "version_major": 2,
       "version_minor": 0
      },
      "text/plain": [
       "HBox(children=(HTML(value='n_features loop'), FloatProgress(value=0.0, max=2.0), HTML(value='')))"
      ]
     },
     "metadata": {},
     "output_type": "display_data"
    },
    {
     "data": {
      "application/vnd.jupyter.widget-view+json": {
       "model_id": "",
       "version_major": 2,
       "version_minor": 0
      },
      "text/plain": [
       "HBox(children=(HTML(value='n_features loop'), FloatProgress(value=0.0, max=2.0), HTML(value='')))"
      ]
     },
     "metadata": {},
     "output_type": "display_data"
    },
    {
     "data": {
      "application/vnd.jupyter.widget-view+json": {
       "model_id": "",
       "version_major": 2,
       "version_minor": 0
      },
      "text/plain": [
       "HBox(children=(HTML(value='n_features loop'), FloatProgress(value=0.0, max=2.0), HTML(value='')))"
      ]
     },
     "metadata": {},
     "output_type": "display_data"
    },
    {
     "data": {
      "application/vnd.jupyter.widget-view+json": {
       "model_id": "",
       "version_major": 2,
       "version_minor": 0
      },
      "text/plain": [
       "HBox(children=(HTML(value='n_features loop'), FloatProgress(value=0.0, max=2.0), HTML(value='')))"
      ]
     },
     "metadata": {},
     "output_type": "display_data"
    },
    {
     "data": {
      "application/vnd.jupyter.widget-view+json": {
       "model_id": "",
       "version_major": 2,
       "version_minor": 0
      },
      "text/plain": [
       "HBox(children=(HTML(value='n_features loop'), FloatProgress(value=0.0, max=2.0), HTML(value='')))"
      ]
     },
     "metadata": {},
     "output_type": "display_data"
    },
    {
     "data": {
      "application/vnd.jupyter.widget-view+json": {
       "model_id": "",
       "version_major": 2,
       "version_minor": 0
      },
      "text/plain": [
       "HBox(children=(HTML(value='n_features loop'), FloatProgress(value=0.0, max=2.0), HTML(value='')))"
      ]
     },
     "metadata": {},
     "output_type": "display_data"
    },
    {
     "data": {
      "application/vnd.jupyter.widget-view+json": {
       "model_id": "",
       "version_major": 2,
       "version_minor": 0
      },
      "text/plain": [
       "HBox(children=(HTML(value='Est loop'), FloatProgress(value=0.0, max=10.0), HTML(value='')))"
      ]
     },
     "metadata": {},
     "output_type": "display_data"
    },
    {
     "data": {
      "application/vnd.jupyter.widget-view+json": {
       "model_id": "",
       "version_major": 2,
       "version_minor": 0
      },
      "text/plain": [
       "HBox(children=(HTML(value='n_features loop'), FloatProgress(value=0.0, max=2.0), HTML(value='')))"
      ]
     },
     "metadata": {},
     "output_type": "display_data"
    },
    {
     "data": {
      "application/vnd.jupyter.widget-view+json": {
       "model_id": "",
       "version_major": 2,
       "version_minor": 0
      },
      "text/plain": [
       "HBox(children=(HTML(value='n_features loop'), FloatProgress(value=0.0, max=2.0), HTML(value='')))"
      ]
     },
     "metadata": {},
     "output_type": "display_data"
    },
    {
     "data": {
      "application/vnd.jupyter.widget-view+json": {
       "model_id": "",
       "version_major": 2,
       "version_minor": 0
      },
      "text/plain": [
       "HBox(children=(HTML(value='n_features loop'), FloatProgress(value=0.0, max=2.0), HTML(value='')))"
      ]
     },
     "metadata": {},
     "output_type": "display_data"
    },
    {
     "data": {
      "application/vnd.jupyter.widget-view+json": {
       "model_id": "",
       "version_major": 2,
       "version_minor": 0
      },
      "text/plain": [
       "HBox(children=(HTML(value='n_features loop'), FloatProgress(value=0.0, max=2.0), HTML(value='')))"
      ]
     },
     "metadata": {},
     "output_type": "display_data"
    },
    {
     "data": {
      "application/vnd.jupyter.widget-view+json": {
       "model_id": "",
       "version_major": 2,
       "version_minor": 0
      },
      "text/plain": [
       "HBox(children=(HTML(value='n_features loop'), FloatProgress(value=0.0, max=2.0), HTML(value='')))"
      ]
     },
     "metadata": {},
     "output_type": "display_data"
    },
    {
     "data": {
      "application/vnd.jupyter.widget-view+json": {
       "model_id": "",
       "version_major": 2,
       "version_minor": 0
      },
      "text/plain": [
       "HBox(children=(HTML(value='n_features loop'), FloatProgress(value=0.0, max=2.0), HTML(value='')))"
      ]
     },
     "metadata": {},
     "output_type": "display_data"
    },
    {
     "data": {
      "application/vnd.jupyter.widget-view+json": {
       "model_id": "",
       "version_major": 2,
       "version_minor": 0
      },
      "text/plain": [
       "HBox(children=(HTML(value='n_features loop'), FloatProgress(value=0.0, max=2.0), HTML(value='')))"
      ]
     },
     "metadata": {},
     "output_type": "display_data"
    },
    {
     "data": {
      "application/vnd.jupyter.widget-view+json": {
       "model_id": "",
       "version_major": 2,
       "version_minor": 0
      },
      "text/plain": [
       "HBox(children=(HTML(value='n_features loop'), FloatProgress(value=0.0, max=2.0), HTML(value='')))"
      ]
     },
     "metadata": {},
     "output_type": "display_data"
    },
    {
     "data": {
      "application/vnd.jupyter.widget-view+json": {
       "model_id": "",
       "version_major": 2,
       "version_minor": 0
      },
      "text/plain": [
       "HBox(children=(HTML(value='n_features loop'), FloatProgress(value=0.0, max=2.0), HTML(value='')))"
      ]
     },
     "metadata": {},
     "output_type": "display_data"
    },
    {
     "data": {
      "application/vnd.jupyter.widget-view+json": {
       "model_id": "",
       "version_major": 2,
       "version_minor": 0
      },
      "text/plain": [
       "HBox(children=(HTML(value='n_features loop'), FloatProgress(value=0.0, max=2.0), HTML(value='')))"
      ]
     },
     "metadata": {},
     "output_type": "display_data"
    },
    {
     "data": {
      "application/vnd.jupyter.widget-view+json": {
       "model_id": "",
       "version_major": 2,
       "version_minor": 0
      },
      "text/plain": [
       "HBox(children=(HTML(value='Est loop'), FloatProgress(value=0.0, max=10.0), HTML(value='')))"
      ]
     },
     "metadata": {},
     "output_type": "display_data"
    },
    {
     "data": {
      "application/vnd.jupyter.widget-view+json": {
       "model_id": "",
       "version_major": 2,
       "version_minor": 0
      },
      "text/plain": [
       "HBox(children=(HTML(value='n_features loop'), FloatProgress(value=0.0, max=2.0), HTML(value='')))"
      ]
     },
     "metadata": {},
     "output_type": "display_data"
    },
    {
     "data": {
      "application/vnd.jupyter.widget-view+json": {
       "model_id": "",
       "version_major": 2,
       "version_minor": 0
      },
      "text/plain": [
       "HBox(children=(HTML(value='n_features loop'), FloatProgress(value=0.0, max=2.0), HTML(value='')))"
      ]
     },
     "metadata": {},
     "output_type": "display_data"
    },
    {
     "data": {
      "application/vnd.jupyter.widget-view+json": {
       "model_id": "",
       "version_major": 2,
       "version_minor": 0
      },
      "text/plain": [
       "HBox(children=(HTML(value='n_features loop'), FloatProgress(value=0.0, max=2.0), HTML(value='')))"
      ]
     },
     "metadata": {},
     "output_type": "display_data"
    },
    {
     "data": {
      "application/vnd.jupyter.widget-view+json": {
       "model_id": "",
       "version_major": 2,
       "version_minor": 0
      },
      "text/plain": [
       "HBox(children=(HTML(value='n_features loop'), FloatProgress(value=0.0, max=2.0), HTML(value='')))"
      ]
     },
     "metadata": {},
     "output_type": "display_data"
    },
    {
     "data": {
      "application/vnd.jupyter.widget-view+json": {
       "model_id": "",
       "version_major": 2,
       "version_minor": 0
      },
      "text/plain": [
       "HBox(children=(HTML(value='n_features loop'), FloatProgress(value=0.0, max=2.0), HTML(value='')))"
      ]
     },
     "metadata": {},
     "output_type": "display_data"
    },
    {
     "data": {
      "application/vnd.jupyter.widget-view+json": {
       "model_id": "",
       "version_major": 2,
       "version_minor": 0
      },
      "text/plain": [
       "HBox(children=(HTML(value='n_features loop'), FloatProgress(value=0.0, max=2.0), HTML(value='')))"
      ]
     },
     "metadata": {},
     "output_type": "display_data"
    },
    {
     "data": {
      "application/vnd.jupyter.widget-view+json": {
       "model_id": "",
       "version_major": 2,
       "version_minor": 0
      },
      "text/plain": [
       "HBox(children=(HTML(value='n_features loop'), FloatProgress(value=0.0, max=2.0), HTML(value='')))"
      ]
     },
     "metadata": {},
     "output_type": "display_data"
    },
    {
     "data": {
      "application/vnd.jupyter.widget-view+json": {
       "model_id": "",
       "version_major": 2,
       "version_minor": 0
      },
      "text/plain": [
       "HBox(children=(HTML(value='n_features loop'), FloatProgress(value=0.0, max=2.0), HTML(value='')))"
      ]
     },
     "metadata": {},
     "output_type": "display_data"
    },
    {
     "data": {
      "application/vnd.jupyter.widget-view+json": {
       "model_id": "",
       "version_major": 2,
       "version_minor": 0
      },
      "text/plain": [
       "HBox(children=(HTML(value='n_features loop'), FloatProgress(value=0.0, max=2.0), HTML(value='')))"
      ]
     },
     "metadata": {},
     "output_type": "display_data"
    },
    {
     "data": {
      "application/vnd.jupyter.widget-view+json": {
       "model_id": "",
       "version_major": 2,
       "version_minor": 0
      },
      "text/plain": [
       "HBox(children=(HTML(value='n_features loop'), FloatProgress(value=0.0, max=2.0), HTML(value='')))"
      ]
     },
     "metadata": {},
     "output_type": "display_data"
    },
    {
     "data": {
      "application/vnd.jupyter.widget-view+json": {
       "model_id": "",
       "version_major": 2,
       "version_minor": 0
      },
      "text/plain": [
       "HBox(children=(HTML(value='Est loop'), FloatProgress(value=0.0, max=10.0), HTML(value='')))"
      ]
     },
     "metadata": {},
     "output_type": "display_data"
    },
    {
     "data": {
      "application/vnd.jupyter.widget-view+json": {
       "model_id": "",
       "version_major": 2,
       "version_minor": 0
      },
      "text/plain": [
       "HBox(children=(HTML(value='n_features loop'), FloatProgress(value=0.0, max=2.0), HTML(value='')))"
      ]
     },
     "metadata": {},
     "output_type": "display_data"
    },
    {
     "data": {
      "application/vnd.jupyter.widget-view+json": {
       "model_id": "",
       "version_major": 2,
       "version_minor": 0
      },
      "text/plain": [
       "HBox(children=(HTML(value='n_features loop'), FloatProgress(value=0.0, max=2.0), HTML(value='')))"
      ]
     },
     "metadata": {},
     "output_type": "display_data"
    },
    {
     "data": {
      "application/vnd.jupyter.widget-view+json": {
       "model_id": "",
       "version_major": 2,
       "version_minor": 0
      },
      "text/plain": [
       "HBox(children=(HTML(value='n_features loop'), FloatProgress(value=0.0, max=2.0), HTML(value='')))"
      ]
     },
     "metadata": {},
     "output_type": "display_data"
    },
    {
     "data": {
      "application/vnd.jupyter.widget-view+json": {
       "model_id": "",
       "version_major": 2,
       "version_minor": 0
      },
      "text/plain": [
       "HBox(children=(HTML(value='n_features loop'), FloatProgress(value=0.0, max=2.0), HTML(value='')))"
      ]
     },
     "metadata": {},
     "output_type": "display_data"
    },
    {
     "data": {
      "application/vnd.jupyter.widget-view+json": {
       "model_id": "",
       "version_major": 2,
       "version_minor": 0
      },
      "text/plain": [
       "HBox(children=(HTML(value='n_features loop'), FloatProgress(value=0.0, max=2.0), HTML(value='')))"
      ]
     },
     "metadata": {},
     "output_type": "display_data"
    },
    {
     "data": {
      "application/vnd.jupyter.widget-view+json": {
       "model_id": "",
       "version_major": 2,
       "version_minor": 0
      },
      "text/plain": [
       "HBox(children=(HTML(value='n_features loop'), FloatProgress(value=0.0, max=2.0), HTML(value='')))"
      ]
     },
     "metadata": {},
     "output_type": "display_data"
    },
    {
     "data": {
      "application/vnd.jupyter.widget-view+json": {
       "model_id": "",
       "version_major": 2,
       "version_minor": 0
      },
      "text/plain": [
       "HBox(children=(HTML(value='n_features loop'), FloatProgress(value=0.0, max=2.0), HTML(value='')))"
      ]
     },
     "metadata": {},
     "output_type": "display_data"
    },
    {
     "data": {
      "application/vnd.jupyter.widget-view+json": {
       "model_id": "",
       "version_major": 2,
       "version_minor": 0
      },
      "text/plain": [
       "HBox(children=(HTML(value='n_features loop'), FloatProgress(value=0.0, max=2.0), HTML(value='')))"
      ]
     },
     "metadata": {},
     "output_type": "display_data"
    },
    {
     "data": {
      "application/vnd.jupyter.widget-view+json": {
       "model_id": "",
       "version_major": 2,
       "version_minor": 0
      },
      "text/plain": [
       "HBox(children=(HTML(value='n_features loop'), FloatProgress(value=0.0, max=2.0), HTML(value='')))"
      ]
     },
     "metadata": {},
     "output_type": "display_data"
    },
    {
     "data": {
      "application/vnd.jupyter.widget-view+json": {
       "model_id": "",
       "version_major": 2,
       "version_minor": 0
      },
      "text/plain": [
       "HBox(children=(HTML(value='n_features loop'), FloatProgress(value=0.0, max=2.0), HTML(value='')))"
      ]
     },
     "metadata": {},
     "output_type": "display_data"
    },
    {
     "data": {
      "application/vnd.jupyter.widget-view+json": {
       "model_id": "",
       "version_major": 2,
       "version_minor": 0
      },
      "text/plain": [
       "HBox(children=(HTML(value='Est loop'), FloatProgress(value=0.0, max=10.0), HTML(value='')))"
      ]
     },
     "metadata": {},
     "output_type": "display_data"
    },
    {
     "data": {
      "application/vnd.jupyter.widget-view+json": {
       "model_id": "",
       "version_major": 2,
       "version_minor": 0
      },
      "text/plain": [
       "HBox(children=(HTML(value='n_features loop'), FloatProgress(value=0.0, max=2.0), HTML(value='')))"
      ]
     },
     "metadata": {},
     "output_type": "display_data"
    },
    {
     "data": {
      "application/vnd.jupyter.widget-view+json": {
       "model_id": "",
       "version_major": 2,
       "version_minor": 0
      },
      "text/plain": [
       "HBox(children=(HTML(value='n_features loop'), FloatProgress(value=0.0, max=2.0), HTML(value='')))"
      ]
     },
     "metadata": {},
     "output_type": "display_data"
    },
    {
     "data": {
      "application/vnd.jupyter.widget-view+json": {
       "model_id": "",
       "version_major": 2,
       "version_minor": 0
      },
      "text/plain": [
       "HBox(children=(HTML(value='n_features loop'), FloatProgress(value=0.0, max=2.0), HTML(value='')))"
      ]
     },
     "metadata": {},
     "output_type": "display_data"
    },
    {
     "data": {
      "application/vnd.jupyter.widget-view+json": {
       "model_id": "",
       "version_major": 2,
       "version_minor": 0
      },
      "text/plain": [
       "HBox(children=(HTML(value='n_features loop'), FloatProgress(value=0.0, max=2.0), HTML(value='')))"
      ]
     },
     "metadata": {},
     "output_type": "display_data"
    },
    {
     "data": {
      "application/vnd.jupyter.widget-view+json": {
       "model_id": "",
       "version_major": 2,
       "version_minor": 0
      },
      "text/plain": [
       "HBox(children=(HTML(value='n_features loop'), FloatProgress(value=0.0, max=2.0), HTML(value='')))"
      ]
     },
     "metadata": {},
     "output_type": "display_data"
    },
    {
     "data": {
      "application/vnd.jupyter.widget-view+json": {
       "model_id": "",
       "version_major": 2,
       "version_minor": 0
      },
      "text/plain": [
       "HBox(children=(HTML(value='n_features loop'), FloatProgress(value=0.0, max=2.0), HTML(value='')))"
      ]
     },
     "metadata": {},
     "output_type": "display_data"
    },
    {
     "data": {
      "application/vnd.jupyter.widget-view+json": {
       "model_id": "",
       "version_major": 2,
       "version_minor": 0
      },
      "text/plain": [
       "HBox(children=(HTML(value='n_features loop'), FloatProgress(value=0.0, max=2.0), HTML(value='')))"
      ]
     },
     "metadata": {},
     "output_type": "display_data"
    },
    {
     "data": {
      "application/vnd.jupyter.widget-view+json": {
       "model_id": "",
       "version_major": 2,
       "version_minor": 0
      },
      "text/plain": [
       "HBox(children=(HTML(value='n_features loop'), FloatProgress(value=0.0, max=2.0), HTML(value='')))"
      ]
     },
     "metadata": {},
     "output_type": "display_data"
    },
    {
     "data": {
      "application/vnd.jupyter.widget-view+json": {
       "model_id": "",
       "version_major": 2,
       "version_minor": 0
      },
      "text/plain": [
       "HBox(children=(HTML(value='n_features loop'), FloatProgress(value=0.0, max=2.0), HTML(value='')))"
      ]
     },
     "metadata": {},
     "output_type": "display_data"
    },
    {
     "data": {
      "application/vnd.jupyter.widget-view+json": {
       "model_id": "",
       "version_major": 2,
       "version_minor": 0
      },
      "text/plain": [
       "HBox(children=(HTML(value='n_features loop'), FloatProgress(value=0.0, max=2.0), HTML(value='')))"
      ]
     },
     "metadata": {},
     "output_type": "display_data"
    },
    {
     "name": "stdout",
     "output_type": "stream",
     "text": [
      "\n"
     ]
    }
   ],
   "source": [
    "best_model_tree = None\n",
    "best_result_tree = 0\n",
    "for depth in tqdm(range(1, 15), desc='Depth loop'):\n",
    "    for n_est in tqdm(range(10, 101, 10), desc='Est loop', leave=False):\n",
    "        for n_features in tqdm(['log2', 'sqrt'], desc='n_features loop', leave=False):\n",
    "            model_RandomForest = RandomForestClassifier(random_state=5, n_estimators=n_est, max_features=n_features, max_depth=depth)\n",
    "            model_RandomForest.fit(features_train, target_train) \n",
    "            valid_predictions_tree = model_RandomForest.predict(features_valid) \n",
    "            result = model_RandomForest.score(features_valid, target_valid)    \n",
    "            if result > best_result_tree:\n",
    "                best_model_tree = model_RandomForest\n",
    "                best_result_tree = result"
   ]
  },
  {
   "cell_type": "code",
   "execution_count": 27,
   "metadata": {},
   "outputs": [
    {
     "name": "stdout",
     "output_type": "stream",
     "text": [
      "F1:\n",
      "0.5953757225433526\n",
      "Параметры лучшей модели:\n",
      "RandomForestClassifier(bootstrap=True, class_weight=None, criterion='gini',\n",
      "                       max_depth=13, max_features='log2', max_leaf_nodes=None,\n",
      "                       min_impurity_decrease=0.0, min_impurity_split=None,\n",
      "                       min_samples_leaf=1, min_samples_split=2,\n",
      "                       min_weight_fraction_leaf=0.0, n_estimators=30,\n",
      "                       n_jobs=None, oob_score=False, random_state=5, verbose=0,\n",
      "                       warm_start=False)\n"
     ]
    }
   ],
   "source": [
    "print(\"F1:\", f1_score(target_valid, valid_predictions_tree), \n",
    "      \"Параметры лучшей модели:\", best_model_tree, sep='\\n') "
   ]
  },
  {
   "cell_type": "code",
   "execution_count": 28,
   "metadata": {},
   "outputs": [],
   "source": [
    "probabilities_valid = model_RandomForest.predict_proba(features_valid)\n",
    "probabilities_one_valid = probabilities_valid[:, 1]"
   ]
  },
  {
   "cell_type": "code",
   "execution_count": 29,
   "metadata": {},
   "outputs": [
    {
     "name": "stdout",
     "output_type": "stream",
     "text": [
      "AUC ROC: 0.8648548769328235\n"
     ]
    }
   ],
   "source": [
    "print(\"AUC ROC:\", roc_auc_score(target_valid, probabilities_one_valid))"
   ]
  },
  {
   "cell_type": "markdown",
   "metadata": {},
   "source": [
    "Удалось достигнуть показателя f1 = 0.59, auc roc = 0.86 (тоже пока наивысший показатель)"
   ]
  },
  {
   "cell_type": "markdown",
   "metadata": {},
   "source": [
    "### Logistic Regression"
   ]
  },
  {
   "cell_type": "markdown",
   "metadata": {},
   "source": [
    "Обучение модели и проверка на валидационной выборке:"
   ]
  },
  {
   "cell_type": "code",
   "execution_count": 30,
   "metadata": {},
   "outputs": [],
   "source": [
    "model_logistic = LogisticRegression(solver='liblinear',random_state=5)\n",
    "model_logistic.fit(features_train, target_train)\n",
    "valid_predictions_logistic = model_logistic.predict(features_valid)"
   ]
  },
  {
   "cell_type": "code",
   "execution_count": 31,
   "metadata": {},
   "outputs": [
    {
     "name": "stdout",
     "output_type": "stream",
     "text": [
      "F1: 0.28070175438596495\n"
     ]
    }
   ],
   "source": [
    "print(\"F1:\", f1_score(target_valid, valid_predictions_logistic))"
   ]
  },
  {
   "cell_type": "code",
   "execution_count": 32,
   "metadata": {},
   "outputs": [],
   "source": [
    "probabilities_valid = model_logistic.predict_proba(features_valid)\n",
    "probabilities_one_valid = probabilities_valid[:, 1]"
   ]
  },
  {
   "cell_type": "code",
   "execution_count": 33,
   "metadata": {},
   "outputs": [
    {
     "name": "stdout",
     "output_type": "stream",
     "text": [
      "AUC ROC: 0.768706445482062\n"
     ]
    }
   ],
   "source": [
    "print(\"AUC ROC:\", roc_auc_score(target_valid, probabilities_one_valid))"
   ]
  },
  {
   "cell_type": "markdown",
   "metadata": {},
   "source": [
    "Самые низкие показатели f1 (0.28) и auc roc (0.76)"
   ]
  },
  {
   "cell_type": "markdown",
   "metadata": {},
   "source": [
    "### Вывод"
   ]
  },
  {
   "cell_type": "markdown",
   "metadata": {},
   "source": [
    "- Проверка баланса классов показала, что есть большой дисбаланс классов, примерно в 4 раза.\n",
    "- проверили работу моделей:\n",
    "  - На модели \"Решающий лес\" f1 = 0.56, auc roc = 0.83\n",
    "  - На модели \"Случайный лес\" получилось достичь значения f1 = 0.59 , auc roc = 0.86\n",
    "  - На модели \"Логистическая регрессия\" f1 = 0.28, auc roc = 0.76\n",
    "- далее сбалансируем данные и проверим работу моделей."
   ]
  },
  {
   "cell_type": "markdown",
   "metadata": {},
   "source": [
    "## Борьба с дисбалансом"
   ]
  },
  {
   "cell_type": "markdown",
   "metadata": {},
   "source": [
    "Увеличим выборку через unsample:"
   ]
  },
  {
   "cell_type": "code",
   "execution_count": 34,
   "metadata": {},
   "outputs": [],
   "source": [
    "def upsample(features, target, repeat):\n",
    "    features_zeros = features[target == 0]\n",
    "    features_ones = features[target == 1]\n",
    "    target_zeros = target[target == 0]\n",
    "    target_ones = target[target == 1]\n",
    "\n",
    "    features_upsampled = pd.concat([features_zeros] + [features_ones] * repeat)\n",
    "    target_upsampled = pd.concat([target_zeros] + [target_ones] * repeat)\n",
    "    \n",
    "    features_upsampled, target_upsampled = shuffle(\n",
    "        features_upsampled, target_upsampled, random_state=5)\n",
    "    \n",
    "    return features_upsampled, target_upsampled"
   ]
  },
  {
   "cell_type": "markdown",
   "metadata": {},
   "source": [
    "Увеличим обучающую выборку:"
   ]
  },
  {
   "cell_type": "code",
   "execution_count": 35,
   "metadata": {},
   "outputs": [],
   "source": [
    "features_upsampled, target_upsampled = upsample(features_train, target_train, 4)"
   ]
  },
  {
   "cell_type": "markdown",
   "metadata": {},
   "source": [
    "Проверим размера после upsample:"
   ]
  },
  {
   "cell_type": "code",
   "execution_count": 36,
   "metadata": {},
   "outputs": [],
   "source": [
    "features_zeros = features_upsampled[target_upsampled == 0]\n",
    "features_ones = features_upsampled[target_upsampled == 1]\n",
    "target_zeros = features_upsampled[target_upsampled == 0]\n",
    "target_ones = features_upsampled[target_upsampled == 1]"
   ]
  },
  {
   "cell_type": "code",
   "execution_count": 37,
   "metadata": {},
   "outputs": [
    {
     "data": {
      "text/plain": [
       "6387"
      ]
     },
     "execution_count": 37,
     "metadata": {},
     "output_type": "execute_result"
    }
   ],
   "source": [
    "features_zeros.shape[0]"
   ]
  },
  {
   "cell_type": "code",
   "execution_count": 38,
   "metadata": {},
   "outputs": [
    {
     "data": {
      "text/plain": [
       "6452"
      ]
     },
     "execution_count": 38,
     "metadata": {},
     "output_type": "execute_result"
    }
   ],
   "source": [
    "features_ones.shape[0]"
   ]
  },
  {
   "cell_type": "markdown",
   "metadata": {},
   "source": [
    "Увеличим выборку через downsample:"
   ]
  },
  {
   "cell_type": "code",
   "execution_count": 39,
   "metadata": {},
   "outputs": [],
   "source": [
    "def downsample(features, target, fraction):\n",
    "    features_zeros = features[target == 0]\n",
    "    features_ones = features[target == 1]\n",
    "    target_zeros = target[target == 0]\n",
    "    target_ones = target[target == 1]\n",
    "    \n",
    "    features_downsampled = pd.concat([features_zeros.sample(frac=fraction, random_state=5)] + [features_ones])\n",
    "    target_downsampled = pd.concat([target_zeros.sample(frac=fraction, random_state=5)] + [target_ones])\n",
    "    \n",
    "    features_downsampled, target_downsampled = shuffle(\n",
    "        features_downsampled, target_downsampled, random_state=5)\n",
    "    \n",
    "    return features_downsampled, target_downsampled"
   ]
  },
  {
   "cell_type": "markdown",
   "metadata": {},
   "source": [
    "Увеличим обучающую выборку:"
   ]
  },
  {
   "cell_type": "code",
   "execution_count": 40,
   "metadata": {},
   "outputs": [],
   "source": [
    "features_downsampled, target_downsampled = downsample(features_train, target_train, 0.25)"
   ]
  },
  {
   "cell_type": "markdown",
   "metadata": {},
   "source": [
    "Проверим размер после downsample:"
   ]
  },
  {
   "cell_type": "code",
   "execution_count": 41,
   "metadata": {},
   "outputs": [],
   "source": [
    "features_zeros = features_downsampled[target_downsampled == 0]\n",
    "features_ones = features_downsampled[target_downsampled == 1]\n",
    "target_zeros = features_downsampled[target_downsampled == 0]\n",
    "target_ones = features_downsampled[target_downsampled == 1]"
   ]
  },
  {
   "cell_type": "code",
   "execution_count": 42,
   "metadata": {},
   "outputs": [
    {
     "data": {
      "text/plain": [
       "1597"
      ]
     },
     "execution_count": 42,
     "metadata": {},
     "output_type": "execute_result"
    }
   ],
   "source": [
    "features_zeros.shape[0]"
   ]
  },
  {
   "cell_type": "code",
   "execution_count": 43,
   "metadata": {},
   "outputs": [
    {
     "data": {
      "text/plain": [
       "1613"
      ]
     },
     "execution_count": 43,
     "metadata": {},
     "output_type": "execute_result"
    }
   ],
   "source": [
    "features_ones.shape[0]"
   ]
  },
  {
   "cell_type": "markdown",
   "metadata": {},
   "source": [
    "Обучим модели и проверим на валидационной выборке на сбалансированных данных:"
   ]
  },
  {
   "cell_type": "markdown",
   "metadata": {},
   "source": [
    "### Decision Tree Classifier"
   ]
  },
  {
   "cell_type": "markdown",
   "metadata": {},
   "source": [
    "Обучение модели и проверка на валидационной выборке на сбалансированных данных:"
   ]
  },
  {
   "cell_type": "code",
   "execution_count": 44,
   "metadata": {},
   "outputs": [
    {
     "data": {
      "application/vnd.jupyter.widget-view+json": {
       "model_id": "5d4fb51c749a467988ef1e45642a0796",
       "version_major": 2,
       "version_minor": 0
      },
      "text/plain": [
       "HBox(children=(HTML(value='Depth loop'), FloatProgress(value=0.0, max=14.0), HTML(value='')))"
      ]
     },
     "metadata": {},
     "output_type": "display_data"
    },
    {
     "data": {
      "application/vnd.jupyter.widget-view+json": {
       "model_id": "",
       "version_major": 2,
       "version_minor": 0
      },
      "text/plain": [
       "HBox(children=(HTML(value='Criterion loop'), FloatProgress(value=0.0, max=2.0), HTML(value='')))"
      ]
     },
     "metadata": {},
     "output_type": "display_data"
    },
    {
     "data": {
      "application/vnd.jupyter.widget-view+json": {
       "model_id": "",
       "version_major": 2,
       "version_minor": 0
      },
      "text/plain": [
       "HBox(children=(HTML(value='Min_smp_leaf'), FloatProgress(value=0.0, max=5.0), HTML(value='')))"
      ]
     },
     "metadata": {},
     "output_type": "display_data"
    },
    {
     "data": {
      "application/vnd.jupyter.widget-view+json": {
       "model_id": "",
       "version_major": 2,
       "version_minor": 0
      },
      "text/plain": [
       "HBox(children=(HTML(value='Min_smp_leaf'), FloatProgress(value=0.0, max=5.0), HTML(value='')))"
      ]
     },
     "metadata": {},
     "output_type": "display_data"
    },
    {
     "data": {
      "application/vnd.jupyter.widget-view+json": {
       "model_id": "",
       "version_major": 2,
       "version_minor": 0
      },
      "text/plain": [
       "HBox(children=(HTML(value='Criterion loop'), FloatProgress(value=0.0, max=2.0), HTML(value='')))"
      ]
     },
     "metadata": {},
     "output_type": "display_data"
    },
    {
     "data": {
      "application/vnd.jupyter.widget-view+json": {
       "model_id": "",
       "version_major": 2,
       "version_minor": 0
      },
      "text/plain": [
       "HBox(children=(HTML(value='Min_smp_leaf'), FloatProgress(value=0.0, max=5.0), HTML(value='')))"
      ]
     },
     "metadata": {},
     "output_type": "display_data"
    },
    {
     "data": {
      "application/vnd.jupyter.widget-view+json": {
       "model_id": "",
       "version_major": 2,
       "version_minor": 0
      },
      "text/plain": [
       "HBox(children=(HTML(value='Min_smp_leaf'), FloatProgress(value=0.0, max=5.0), HTML(value='')))"
      ]
     },
     "metadata": {},
     "output_type": "display_data"
    },
    {
     "data": {
      "application/vnd.jupyter.widget-view+json": {
       "model_id": "",
       "version_major": 2,
       "version_minor": 0
      },
      "text/plain": [
       "HBox(children=(HTML(value='Criterion loop'), FloatProgress(value=0.0, max=2.0), HTML(value='')))"
      ]
     },
     "metadata": {},
     "output_type": "display_data"
    },
    {
     "data": {
      "application/vnd.jupyter.widget-view+json": {
       "model_id": "",
       "version_major": 2,
       "version_minor": 0
      },
      "text/plain": [
       "HBox(children=(HTML(value='Min_smp_leaf'), FloatProgress(value=0.0, max=5.0), HTML(value='')))"
      ]
     },
     "metadata": {},
     "output_type": "display_data"
    },
    {
     "data": {
      "application/vnd.jupyter.widget-view+json": {
       "model_id": "",
       "version_major": 2,
       "version_minor": 0
      },
      "text/plain": [
       "HBox(children=(HTML(value='Min_smp_leaf'), FloatProgress(value=0.0, max=5.0), HTML(value='')))"
      ]
     },
     "metadata": {},
     "output_type": "display_data"
    },
    {
     "data": {
      "application/vnd.jupyter.widget-view+json": {
       "model_id": "",
       "version_major": 2,
       "version_minor": 0
      },
      "text/plain": [
       "HBox(children=(HTML(value='Criterion loop'), FloatProgress(value=0.0, max=2.0), HTML(value='')))"
      ]
     },
     "metadata": {},
     "output_type": "display_data"
    },
    {
     "data": {
      "application/vnd.jupyter.widget-view+json": {
       "model_id": "",
       "version_major": 2,
       "version_minor": 0
      },
      "text/plain": [
       "HBox(children=(HTML(value='Min_smp_leaf'), FloatProgress(value=0.0, max=5.0), HTML(value='')))"
      ]
     },
     "metadata": {},
     "output_type": "display_data"
    },
    {
     "data": {
      "application/vnd.jupyter.widget-view+json": {
       "model_id": "",
       "version_major": 2,
       "version_minor": 0
      },
      "text/plain": [
       "HBox(children=(HTML(value='Min_smp_leaf'), FloatProgress(value=0.0, max=5.0), HTML(value='')))"
      ]
     },
     "metadata": {},
     "output_type": "display_data"
    },
    {
     "data": {
      "application/vnd.jupyter.widget-view+json": {
       "model_id": "",
       "version_major": 2,
       "version_minor": 0
      },
      "text/plain": [
       "HBox(children=(HTML(value='Criterion loop'), FloatProgress(value=0.0, max=2.0), HTML(value='')))"
      ]
     },
     "metadata": {},
     "output_type": "display_data"
    },
    {
     "data": {
      "application/vnd.jupyter.widget-view+json": {
       "model_id": "",
       "version_major": 2,
       "version_minor": 0
      },
      "text/plain": [
       "HBox(children=(HTML(value='Min_smp_leaf'), FloatProgress(value=0.0, max=5.0), HTML(value='')))"
      ]
     },
     "metadata": {},
     "output_type": "display_data"
    },
    {
     "data": {
      "application/vnd.jupyter.widget-view+json": {
       "model_id": "",
       "version_major": 2,
       "version_minor": 0
      },
      "text/plain": [
       "HBox(children=(HTML(value='Min_smp_leaf'), FloatProgress(value=0.0, max=5.0), HTML(value='')))"
      ]
     },
     "metadata": {},
     "output_type": "display_data"
    },
    {
     "data": {
      "application/vnd.jupyter.widget-view+json": {
       "model_id": "",
       "version_major": 2,
       "version_minor": 0
      },
      "text/plain": [
       "HBox(children=(HTML(value='Criterion loop'), FloatProgress(value=0.0, max=2.0), HTML(value='')))"
      ]
     },
     "metadata": {},
     "output_type": "display_data"
    },
    {
     "data": {
      "application/vnd.jupyter.widget-view+json": {
       "model_id": "",
       "version_major": 2,
       "version_minor": 0
      },
      "text/plain": [
       "HBox(children=(HTML(value='Min_smp_leaf'), FloatProgress(value=0.0, max=5.0), HTML(value='')))"
      ]
     },
     "metadata": {},
     "output_type": "display_data"
    },
    {
     "data": {
      "application/vnd.jupyter.widget-view+json": {
       "model_id": "",
       "version_major": 2,
       "version_minor": 0
      },
      "text/plain": [
       "HBox(children=(HTML(value='Min_smp_leaf'), FloatProgress(value=0.0, max=5.0), HTML(value='')))"
      ]
     },
     "metadata": {},
     "output_type": "display_data"
    },
    {
     "data": {
      "application/vnd.jupyter.widget-view+json": {
       "model_id": "",
       "version_major": 2,
       "version_minor": 0
      },
      "text/plain": [
       "HBox(children=(HTML(value='Criterion loop'), FloatProgress(value=0.0, max=2.0), HTML(value='')))"
      ]
     },
     "metadata": {},
     "output_type": "display_data"
    },
    {
     "data": {
      "application/vnd.jupyter.widget-view+json": {
       "model_id": "",
       "version_major": 2,
       "version_minor": 0
      },
      "text/plain": [
       "HBox(children=(HTML(value='Min_smp_leaf'), FloatProgress(value=0.0, max=5.0), HTML(value='')))"
      ]
     },
     "metadata": {},
     "output_type": "display_data"
    },
    {
     "data": {
      "application/vnd.jupyter.widget-view+json": {
       "model_id": "",
       "version_major": 2,
       "version_minor": 0
      },
      "text/plain": [
       "HBox(children=(HTML(value='Min_smp_leaf'), FloatProgress(value=0.0, max=5.0), HTML(value='')))"
      ]
     },
     "metadata": {},
     "output_type": "display_data"
    },
    {
     "data": {
      "application/vnd.jupyter.widget-view+json": {
       "model_id": "",
       "version_major": 2,
       "version_minor": 0
      },
      "text/plain": [
       "HBox(children=(HTML(value='Criterion loop'), FloatProgress(value=0.0, max=2.0), HTML(value='')))"
      ]
     },
     "metadata": {},
     "output_type": "display_data"
    },
    {
     "data": {
      "application/vnd.jupyter.widget-view+json": {
       "model_id": "",
       "version_major": 2,
       "version_minor": 0
      },
      "text/plain": [
       "HBox(children=(HTML(value='Min_smp_leaf'), FloatProgress(value=0.0, max=5.0), HTML(value='')))"
      ]
     },
     "metadata": {},
     "output_type": "display_data"
    },
    {
     "data": {
      "application/vnd.jupyter.widget-view+json": {
       "model_id": "",
       "version_major": 2,
       "version_minor": 0
      },
      "text/plain": [
       "HBox(children=(HTML(value='Min_smp_leaf'), FloatProgress(value=0.0, max=5.0), HTML(value='')))"
      ]
     },
     "metadata": {},
     "output_type": "display_data"
    },
    {
     "data": {
      "application/vnd.jupyter.widget-view+json": {
       "model_id": "",
       "version_major": 2,
       "version_minor": 0
      },
      "text/plain": [
       "HBox(children=(HTML(value='Criterion loop'), FloatProgress(value=0.0, max=2.0), HTML(value='')))"
      ]
     },
     "metadata": {},
     "output_type": "display_data"
    },
    {
     "data": {
      "application/vnd.jupyter.widget-view+json": {
       "model_id": "",
       "version_major": 2,
       "version_minor": 0
      },
      "text/plain": [
       "HBox(children=(HTML(value='Min_smp_leaf'), FloatProgress(value=0.0, max=5.0), HTML(value='')))"
      ]
     },
     "metadata": {},
     "output_type": "display_data"
    },
    {
     "data": {
      "application/vnd.jupyter.widget-view+json": {
       "model_id": "",
       "version_major": 2,
       "version_minor": 0
      },
      "text/plain": [
       "HBox(children=(HTML(value='Min_smp_leaf'), FloatProgress(value=0.0, max=5.0), HTML(value='')))"
      ]
     },
     "metadata": {},
     "output_type": "display_data"
    },
    {
     "data": {
      "application/vnd.jupyter.widget-view+json": {
       "model_id": "",
       "version_major": 2,
       "version_minor": 0
      },
      "text/plain": [
       "HBox(children=(HTML(value='Criterion loop'), FloatProgress(value=0.0, max=2.0), HTML(value='')))"
      ]
     },
     "metadata": {},
     "output_type": "display_data"
    },
    {
     "data": {
      "application/vnd.jupyter.widget-view+json": {
       "model_id": "",
       "version_major": 2,
       "version_minor": 0
      },
      "text/plain": [
       "HBox(children=(HTML(value='Min_smp_leaf'), FloatProgress(value=0.0, max=5.0), HTML(value='')))"
      ]
     },
     "metadata": {},
     "output_type": "display_data"
    },
    {
     "data": {
      "application/vnd.jupyter.widget-view+json": {
       "model_id": "",
       "version_major": 2,
       "version_minor": 0
      },
      "text/plain": [
       "HBox(children=(HTML(value='Min_smp_leaf'), FloatProgress(value=0.0, max=5.0), HTML(value='')))"
      ]
     },
     "metadata": {},
     "output_type": "display_data"
    },
    {
     "data": {
      "application/vnd.jupyter.widget-view+json": {
       "model_id": "",
       "version_major": 2,
       "version_minor": 0
      },
      "text/plain": [
       "HBox(children=(HTML(value='Criterion loop'), FloatProgress(value=0.0, max=2.0), HTML(value='')))"
      ]
     },
     "metadata": {},
     "output_type": "display_data"
    },
    {
     "data": {
      "application/vnd.jupyter.widget-view+json": {
       "model_id": "",
       "version_major": 2,
       "version_minor": 0
      },
      "text/plain": [
       "HBox(children=(HTML(value='Min_smp_leaf'), FloatProgress(value=0.0, max=5.0), HTML(value='')))"
      ]
     },
     "metadata": {},
     "output_type": "display_data"
    },
    {
     "data": {
      "application/vnd.jupyter.widget-view+json": {
       "model_id": "",
       "version_major": 2,
       "version_minor": 0
      },
      "text/plain": [
       "HBox(children=(HTML(value='Min_smp_leaf'), FloatProgress(value=0.0, max=5.0), HTML(value='')))"
      ]
     },
     "metadata": {},
     "output_type": "display_data"
    },
    {
     "data": {
      "application/vnd.jupyter.widget-view+json": {
       "model_id": "",
       "version_major": 2,
       "version_minor": 0
      },
      "text/plain": [
       "HBox(children=(HTML(value='Criterion loop'), FloatProgress(value=0.0, max=2.0), HTML(value='')))"
      ]
     },
     "metadata": {},
     "output_type": "display_data"
    },
    {
     "data": {
      "application/vnd.jupyter.widget-view+json": {
       "model_id": "",
       "version_major": 2,
       "version_minor": 0
      },
      "text/plain": [
       "HBox(children=(HTML(value='Min_smp_leaf'), FloatProgress(value=0.0, max=5.0), HTML(value='')))"
      ]
     },
     "metadata": {},
     "output_type": "display_data"
    },
    {
     "data": {
      "application/vnd.jupyter.widget-view+json": {
       "model_id": "",
       "version_major": 2,
       "version_minor": 0
      },
      "text/plain": [
       "HBox(children=(HTML(value='Min_smp_leaf'), FloatProgress(value=0.0, max=5.0), HTML(value='')))"
      ]
     },
     "metadata": {},
     "output_type": "display_data"
    },
    {
     "data": {
      "application/vnd.jupyter.widget-view+json": {
       "model_id": "",
       "version_major": 2,
       "version_minor": 0
      },
      "text/plain": [
       "HBox(children=(HTML(value='Criterion loop'), FloatProgress(value=0.0, max=2.0), HTML(value='')))"
      ]
     },
     "metadata": {},
     "output_type": "display_data"
    },
    {
     "data": {
      "application/vnd.jupyter.widget-view+json": {
       "model_id": "",
       "version_major": 2,
       "version_minor": 0
      },
      "text/plain": [
       "HBox(children=(HTML(value='Min_smp_leaf'), FloatProgress(value=0.0, max=5.0), HTML(value='')))"
      ]
     },
     "metadata": {},
     "output_type": "display_data"
    },
    {
     "data": {
      "application/vnd.jupyter.widget-view+json": {
       "model_id": "",
       "version_major": 2,
       "version_minor": 0
      },
      "text/plain": [
       "HBox(children=(HTML(value='Min_smp_leaf'), FloatProgress(value=0.0, max=5.0), HTML(value='')))"
      ]
     },
     "metadata": {},
     "output_type": "display_data"
    },
    {
     "data": {
      "application/vnd.jupyter.widget-view+json": {
       "model_id": "",
       "version_major": 2,
       "version_minor": 0
      },
      "text/plain": [
       "HBox(children=(HTML(value='Criterion loop'), FloatProgress(value=0.0, max=2.0), HTML(value='')))"
      ]
     },
     "metadata": {},
     "output_type": "display_data"
    },
    {
     "data": {
      "application/vnd.jupyter.widget-view+json": {
       "model_id": "",
       "version_major": 2,
       "version_minor": 0
      },
      "text/plain": [
       "HBox(children=(HTML(value='Min_smp_leaf'), FloatProgress(value=0.0, max=5.0), HTML(value='')))"
      ]
     },
     "metadata": {},
     "output_type": "display_data"
    },
    {
     "data": {
      "application/vnd.jupyter.widget-view+json": {
       "model_id": "",
       "version_major": 2,
       "version_minor": 0
      },
      "text/plain": [
       "HBox(children=(HTML(value='Min_smp_leaf'), FloatProgress(value=0.0, max=5.0), HTML(value='')))"
      ]
     },
     "metadata": {},
     "output_type": "display_data"
    },
    {
     "name": "stdout",
     "output_type": "stream",
     "text": [
      "\n"
     ]
    }
   ],
   "source": [
    "best_model_tree = None\n",
    "best_result_tree = 0\n",
    "for depth in tqdm(range(1, 15), desc='Depth loop'):\n",
    "    for cr in tqdm(['gini', 'entropy'], desc='Criterion loop', leave=False):\n",
    "        for min_smp in tqdm(range(1, 50, 10), desc='Min_smp_leaf', leave=False):\n",
    "            model_DecisionTree = DecisionTreeClassifier(random_state=5, min_samples_leaf = min_smp, max_depth=depth, criterion = cr)\n",
    "            model_DecisionTree.fit(features_upsampled, target_upsampled) \n",
    "            valid_predictions_tree = model_DecisionTree.predict(features_valid) \n",
    "            result = model_DecisionTree.score(features_valid, target_valid)    \n",
    "            if result > best_result_tree:\n",
    "                best_model_tree = model_DecisionTree\n",
    "                best_result_tree = result"
   ]
  },
  {
   "cell_type": "code",
   "execution_count": 45,
   "metadata": {},
   "outputs": [],
   "source": [
    "probabilities_valid = model_DecisionTree.predict_proba(features_valid)\n",
    "probabilities_one_valid = probabilities_valid[:, 1]"
   ]
  },
  {
   "cell_type": "code",
   "execution_count": 46,
   "metadata": {},
   "outputs": [
    {
     "name": "stdout",
     "output_type": "stream",
     "text": [
      "AUC ROC: 0.8343579154837044\n",
      "F1: 0.6021897810218978\n",
      "Параметры лучшей модели:\n",
      "DecisionTreeClassifier(class_weight=None, criterion='gini', max_depth=8,\n",
      "                       max_features=None, max_leaf_nodes=None,\n",
      "                       min_impurity_decrease=0.0, min_impurity_split=None,\n",
      "                       min_samples_leaf=41, min_samples_split=2,\n",
      "                       min_weight_fraction_leaf=0.0, presort=False,\n",
      "                       random_state=5, splitter='best')\n"
     ]
    }
   ],
   "source": [
    "print(\"AUC ROC:\", roc_auc_score(target_valid, probabilities_one_valid))\n",
    "print(\"F1:\", f1_score(target_valid, valid_predictions_tree))\n",
    "print (\"Параметры лучшей модели:\", best_model_tree, sep='\\n')"
   ]
  },
  {
   "cell_type": "code",
   "execution_count": 47,
   "metadata": {},
   "outputs": [
    {
     "data": {
      "application/vnd.jupyter.widget-view+json": {
       "model_id": "133fc7daf4614358afa10518c56675c9",
       "version_major": 2,
       "version_minor": 0
      },
      "text/plain": [
       "HBox(children=(HTML(value='Depth loop'), FloatProgress(value=0.0, max=14.0), HTML(value='')))"
      ]
     },
     "metadata": {},
     "output_type": "display_data"
    },
    {
     "data": {
      "application/vnd.jupyter.widget-view+json": {
       "model_id": "",
       "version_major": 2,
       "version_minor": 0
      },
      "text/plain": [
       "HBox(children=(HTML(value='Criterion loop'), FloatProgress(value=0.0, max=2.0), HTML(value='')))"
      ]
     },
     "metadata": {},
     "output_type": "display_data"
    },
    {
     "data": {
      "application/vnd.jupyter.widget-view+json": {
       "model_id": "",
       "version_major": 2,
       "version_minor": 0
      },
      "text/plain": [
       "HBox(children=(HTML(value='Min_smp_leaf'), FloatProgress(value=0.0, max=5.0), HTML(value='')))"
      ]
     },
     "metadata": {},
     "output_type": "display_data"
    },
    {
     "data": {
      "application/vnd.jupyter.widget-view+json": {
       "model_id": "",
       "version_major": 2,
       "version_minor": 0
      },
      "text/plain": [
       "HBox(children=(HTML(value='Min_smp_leaf'), FloatProgress(value=0.0, max=5.0), HTML(value='')))"
      ]
     },
     "metadata": {},
     "output_type": "display_data"
    },
    {
     "data": {
      "application/vnd.jupyter.widget-view+json": {
       "model_id": "",
       "version_major": 2,
       "version_minor": 0
      },
      "text/plain": [
       "HBox(children=(HTML(value='Criterion loop'), FloatProgress(value=0.0, max=2.0), HTML(value='')))"
      ]
     },
     "metadata": {},
     "output_type": "display_data"
    },
    {
     "data": {
      "application/vnd.jupyter.widget-view+json": {
       "model_id": "",
       "version_major": 2,
       "version_minor": 0
      },
      "text/plain": [
       "HBox(children=(HTML(value='Min_smp_leaf'), FloatProgress(value=0.0, max=5.0), HTML(value='')))"
      ]
     },
     "metadata": {},
     "output_type": "display_data"
    },
    {
     "data": {
      "application/vnd.jupyter.widget-view+json": {
       "model_id": "",
       "version_major": 2,
       "version_minor": 0
      },
      "text/plain": [
       "HBox(children=(HTML(value='Min_smp_leaf'), FloatProgress(value=0.0, max=5.0), HTML(value='')))"
      ]
     },
     "metadata": {},
     "output_type": "display_data"
    },
    {
     "data": {
      "application/vnd.jupyter.widget-view+json": {
       "model_id": "",
       "version_major": 2,
       "version_minor": 0
      },
      "text/plain": [
       "HBox(children=(HTML(value='Criterion loop'), FloatProgress(value=0.0, max=2.0), HTML(value='')))"
      ]
     },
     "metadata": {},
     "output_type": "display_data"
    },
    {
     "data": {
      "application/vnd.jupyter.widget-view+json": {
       "model_id": "",
       "version_major": 2,
       "version_minor": 0
      },
      "text/plain": [
       "HBox(children=(HTML(value='Min_smp_leaf'), FloatProgress(value=0.0, max=5.0), HTML(value='')))"
      ]
     },
     "metadata": {},
     "output_type": "display_data"
    },
    {
     "data": {
      "application/vnd.jupyter.widget-view+json": {
       "model_id": "",
       "version_major": 2,
       "version_minor": 0
      },
      "text/plain": [
       "HBox(children=(HTML(value='Min_smp_leaf'), FloatProgress(value=0.0, max=5.0), HTML(value='')))"
      ]
     },
     "metadata": {},
     "output_type": "display_data"
    },
    {
     "data": {
      "application/vnd.jupyter.widget-view+json": {
       "model_id": "",
       "version_major": 2,
       "version_minor": 0
      },
      "text/plain": [
       "HBox(children=(HTML(value='Criterion loop'), FloatProgress(value=0.0, max=2.0), HTML(value='')))"
      ]
     },
     "metadata": {},
     "output_type": "display_data"
    },
    {
     "data": {
      "application/vnd.jupyter.widget-view+json": {
       "model_id": "",
       "version_major": 2,
       "version_minor": 0
      },
      "text/plain": [
       "HBox(children=(HTML(value='Min_smp_leaf'), FloatProgress(value=0.0, max=5.0), HTML(value='')))"
      ]
     },
     "metadata": {},
     "output_type": "display_data"
    },
    {
     "data": {
      "application/vnd.jupyter.widget-view+json": {
       "model_id": "",
       "version_major": 2,
       "version_minor": 0
      },
      "text/plain": [
       "HBox(children=(HTML(value='Min_smp_leaf'), FloatProgress(value=0.0, max=5.0), HTML(value='')))"
      ]
     },
     "metadata": {},
     "output_type": "display_data"
    },
    {
     "data": {
      "application/vnd.jupyter.widget-view+json": {
       "model_id": "",
       "version_major": 2,
       "version_minor": 0
      },
      "text/plain": [
       "HBox(children=(HTML(value='Criterion loop'), FloatProgress(value=0.0, max=2.0), HTML(value='')))"
      ]
     },
     "metadata": {},
     "output_type": "display_data"
    },
    {
     "data": {
      "application/vnd.jupyter.widget-view+json": {
       "model_id": "",
       "version_major": 2,
       "version_minor": 0
      },
      "text/plain": [
       "HBox(children=(HTML(value='Min_smp_leaf'), FloatProgress(value=0.0, max=5.0), HTML(value='')))"
      ]
     },
     "metadata": {},
     "output_type": "display_data"
    },
    {
     "data": {
      "application/vnd.jupyter.widget-view+json": {
       "model_id": "",
       "version_major": 2,
       "version_minor": 0
      },
      "text/plain": [
       "HBox(children=(HTML(value='Min_smp_leaf'), FloatProgress(value=0.0, max=5.0), HTML(value='')))"
      ]
     },
     "metadata": {},
     "output_type": "display_data"
    },
    {
     "data": {
      "application/vnd.jupyter.widget-view+json": {
       "model_id": "",
       "version_major": 2,
       "version_minor": 0
      },
      "text/plain": [
       "HBox(children=(HTML(value='Criterion loop'), FloatProgress(value=0.0, max=2.0), HTML(value='')))"
      ]
     },
     "metadata": {},
     "output_type": "display_data"
    },
    {
     "data": {
      "application/vnd.jupyter.widget-view+json": {
       "model_id": "",
       "version_major": 2,
       "version_minor": 0
      },
      "text/plain": [
       "HBox(children=(HTML(value='Min_smp_leaf'), FloatProgress(value=0.0, max=5.0), HTML(value='')))"
      ]
     },
     "metadata": {},
     "output_type": "display_data"
    },
    {
     "data": {
      "application/vnd.jupyter.widget-view+json": {
       "model_id": "",
       "version_major": 2,
       "version_minor": 0
      },
      "text/plain": [
       "HBox(children=(HTML(value='Min_smp_leaf'), FloatProgress(value=0.0, max=5.0), HTML(value='')))"
      ]
     },
     "metadata": {},
     "output_type": "display_data"
    },
    {
     "data": {
      "application/vnd.jupyter.widget-view+json": {
       "model_id": "",
       "version_major": 2,
       "version_minor": 0
      },
      "text/plain": [
       "HBox(children=(HTML(value='Criterion loop'), FloatProgress(value=0.0, max=2.0), HTML(value='')))"
      ]
     },
     "metadata": {},
     "output_type": "display_data"
    },
    {
     "data": {
      "application/vnd.jupyter.widget-view+json": {
       "model_id": "",
       "version_major": 2,
       "version_minor": 0
      },
      "text/plain": [
       "HBox(children=(HTML(value='Min_smp_leaf'), FloatProgress(value=0.0, max=5.0), HTML(value='')))"
      ]
     },
     "metadata": {},
     "output_type": "display_data"
    },
    {
     "data": {
      "application/vnd.jupyter.widget-view+json": {
       "model_id": "",
       "version_major": 2,
       "version_minor": 0
      },
      "text/plain": [
       "HBox(children=(HTML(value='Min_smp_leaf'), FloatProgress(value=0.0, max=5.0), HTML(value='')))"
      ]
     },
     "metadata": {},
     "output_type": "display_data"
    },
    {
     "data": {
      "application/vnd.jupyter.widget-view+json": {
       "model_id": "",
       "version_major": 2,
       "version_minor": 0
      },
      "text/plain": [
       "HBox(children=(HTML(value='Criterion loop'), FloatProgress(value=0.0, max=2.0), HTML(value='')))"
      ]
     },
     "metadata": {},
     "output_type": "display_data"
    },
    {
     "data": {
      "application/vnd.jupyter.widget-view+json": {
       "model_id": "",
       "version_major": 2,
       "version_minor": 0
      },
      "text/plain": [
       "HBox(children=(HTML(value='Min_smp_leaf'), FloatProgress(value=0.0, max=5.0), HTML(value='')))"
      ]
     },
     "metadata": {},
     "output_type": "display_data"
    },
    {
     "data": {
      "application/vnd.jupyter.widget-view+json": {
       "model_id": "",
       "version_major": 2,
       "version_minor": 0
      },
      "text/plain": [
       "HBox(children=(HTML(value='Min_smp_leaf'), FloatProgress(value=0.0, max=5.0), HTML(value='')))"
      ]
     },
     "metadata": {},
     "output_type": "display_data"
    },
    {
     "data": {
      "application/vnd.jupyter.widget-view+json": {
       "model_id": "",
       "version_major": 2,
       "version_minor": 0
      },
      "text/plain": [
       "HBox(children=(HTML(value='Criterion loop'), FloatProgress(value=0.0, max=2.0), HTML(value='')))"
      ]
     },
     "metadata": {},
     "output_type": "display_data"
    },
    {
     "data": {
      "application/vnd.jupyter.widget-view+json": {
       "model_id": "",
       "version_major": 2,
       "version_minor": 0
      },
      "text/plain": [
       "HBox(children=(HTML(value='Min_smp_leaf'), FloatProgress(value=0.0, max=5.0), HTML(value='')))"
      ]
     },
     "metadata": {},
     "output_type": "display_data"
    },
    {
     "data": {
      "application/vnd.jupyter.widget-view+json": {
       "model_id": "",
       "version_major": 2,
       "version_minor": 0
      },
      "text/plain": [
       "HBox(children=(HTML(value='Min_smp_leaf'), FloatProgress(value=0.0, max=5.0), HTML(value='')))"
      ]
     },
     "metadata": {},
     "output_type": "display_data"
    },
    {
     "data": {
      "application/vnd.jupyter.widget-view+json": {
       "model_id": "",
       "version_major": 2,
       "version_minor": 0
      },
      "text/plain": [
       "HBox(children=(HTML(value='Criterion loop'), FloatProgress(value=0.0, max=2.0), HTML(value='')))"
      ]
     },
     "metadata": {},
     "output_type": "display_data"
    },
    {
     "data": {
      "application/vnd.jupyter.widget-view+json": {
       "model_id": "",
       "version_major": 2,
       "version_minor": 0
      },
      "text/plain": [
       "HBox(children=(HTML(value='Min_smp_leaf'), FloatProgress(value=0.0, max=5.0), HTML(value='')))"
      ]
     },
     "metadata": {},
     "output_type": "display_data"
    },
    {
     "data": {
      "application/vnd.jupyter.widget-view+json": {
       "model_id": "",
       "version_major": 2,
       "version_minor": 0
      },
      "text/plain": [
       "HBox(children=(HTML(value='Min_smp_leaf'), FloatProgress(value=0.0, max=5.0), HTML(value='')))"
      ]
     },
     "metadata": {},
     "output_type": "display_data"
    },
    {
     "data": {
      "application/vnd.jupyter.widget-view+json": {
       "model_id": "",
       "version_major": 2,
       "version_minor": 0
      },
      "text/plain": [
       "HBox(children=(HTML(value='Criterion loop'), FloatProgress(value=0.0, max=2.0), HTML(value='')))"
      ]
     },
     "metadata": {},
     "output_type": "display_data"
    },
    {
     "data": {
      "application/vnd.jupyter.widget-view+json": {
       "model_id": "",
       "version_major": 2,
       "version_minor": 0
      },
      "text/plain": [
       "HBox(children=(HTML(value='Min_smp_leaf'), FloatProgress(value=0.0, max=5.0), HTML(value='')))"
      ]
     },
     "metadata": {},
     "output_type": "display_data"
    },
    {
     "data": {
      "application/vnd.jupyter.widget-view+json": {
       "model_id": "",
       "version_major": 2,
       "version_minor": 0
      },
      "text/plain": [
       "HBox(children=(HTML(value='Min_smp_leaf'), FloatProgress(value=0.0, max=5.0), HTML(value='')))"
      ]
     },
     "metadata": {},
     "output_type": "display_data"
    },
    {
     "data": {
      "application/vnd.jupyter.widget-view+json": {
       "model_id": "",
       "version_major": 2,
       "version_minor": 0
      },
      "text/plain": [
       "HBox(children=(HTML(value='Criterion loop'), FloatProgress(value=0.0, max=2.0), HTML(value='')))"
      ]
     },
     "metadata": {},
     "output_type": "display_data"
    },
    {
     "data": {
      "application/vnd.jupyter.widget-view+json": {
       "model_id": "",
       "version_major": 2,
       "version_minor": 0
      },
      "text/plain": [
       "HBox(children=(HTML(value='Min_smp_leaf'), FloatProgress(value=0.0, max=5.0), HTML(value='')))"
      ]
     },
     "metadata": {},
     "output_type": "display_data"
    },
    {
     "data": {
      "application/vnd.jupyter.widget-view+json": {
       "model_id": "",
       "version_major": 2,
       "version_minor": 0
      },
      "text/plain": [
       "HBox(children=(HTML(value='Min_smp_leaf'), FloatProgress(value=0.0, max=5.0), HTML(value='')))"
      ]
     },
     "metadata": {},
     "output_type": "display_data"
    },
    {
     "data": {
      "application/vnd.jupyter.widget-view+json": {
       "model_id": "",
       "version_major": 2,
       "version_minor": 0
      },
      "text/plain": [
       "HBox(children=(HTML(value='Criterion loop'), FloatProgress(value=0.0, max=2.0), HTML(value='')))"
      ]
     },
     "metadata": {},
     "output_type": "display_data"
    },
    {
     "data": {
      "application/vnd.jupyter.widget-view+json": {
       "model_id": "",
       "version_major": 2,
       "version_minor": 0
      },
      "text/plain": [
       "HBox(children=(HTML(value='Min_smp_leaf'), FloatProgress(value=0.0, max=5.0), HTML(value='')))"
      ]
     },
     "metadata": {},
     "output_type": "display_data"
    },
    {
     "data": {
      "application/vnd.jupyter.widget-view+json": {
       "model_id": "",
       "version_major": 2,
       "version_minor": 0
      },
      "text/plain": [
       "HBox(children=(HTML(value='Min_smp_leaf'), FloatProgress(value=0.0, max=5.0), HTML(value='')))"
      ]
     },
     "metadata": {},
     "output_type": "display_data"
    },
    {
     "data": {
      "application/vnd.jupyter.widget-view+json": {
       "model_id": "",
       "version_major": 2,
       "version_minor": 0
      },
      "text/plain": [
       "HBox(children=(HTML(value='Criterion loop'), FloatProgress(value=0.0, max=2.0), HTML(value='')))"
      ]
     },
     "metadata": {},
     "output_type": "display_data"
    },
    {
     "data": {
      "application/vnd.jupyter.widget-view+json": {
       "model_id": "",
       "version_major": 2,
       "version_minor": 0
      },
      "text/plain": [
       "HBox(children=(HTML(value='Min_smp_leaf'), FloatProgress(value=0.0, max=5.0), HTML(value='')))"
      ]
     },
     "metadata": {},
     "output_type": "display_data"
    },
    {
     "data": {
      "application/vnd.jupyter.widget-view+json": {
       "model_id": "",
       "version_major": 2,
       "version_minor": 0
      },
      "text/plain": [
       "HBox(children=(HTML(value='Min_smp_leaf'), FloatProgress(value=0.0, max=5.0), HTML(value='')))"
      ]
     },
     "metadata": {},
     "output_type": "display_data"
    },
    {
     "name": "stdout",
     "output_type": "stream",
     "text": [
      "\n"
     ]
    }
   ],
   "source": [
    "best_model_tree = None\n",
    "best_result_tree = 0\n",
    "for depth in tqdm(range(1, 15), desc='Depth loop'):\n",
    "    for cr in tqdm(['gini', 'entropy'], desc='Criterion loop', leave=False):\n",
    "        for min_smp in tqdm(range(1, 50, 10), desc='Min_smp_leaf', leave=False):\n",
    "            model_DecisionTree = DecisionTreeClassifier(random_state=5, min_samples_leaf = min_smp, max_depth=depth, criterion = cr)\n",
    "            model_DecisionTree.fit(features_downsampled, target_downsampled) \n",
    "            valid_predictions_tree = model_DecisionTree.predict(features_valid) \n",
    "            result = model_DecisionTree.score(features_valid, target_valid)    \n",
    "            if result > best_result_tree:\n",
    "                best_model_tree = model_DecisionTree\n",
    "                best_result_tree = result"
   ]
  },
  {
   "cell_type": "code",
   "execution_count": 48,
   "metadata": {},
   "outputs": [],
   "source": [
    "probabilities_valid = model_DecisionTree.predict_proba(features_valid)\n",
    "probabilities_one_valid = probabilities_valid[:, 1]"
   ]
  },
  {
   "cell_type": "code",
   "execution_count": 49,
   "metadata": {},
   "outputs": [
    {
     "name": "stdout",
     "output_type": "stream",
     "text": [
      "AUC ROC: 0.84840094793402\n",
      "F1: 0.598825831702544\n",
      "Параметры лучшей модели:\n",
      "DecisionTreeClassifier(class_weight=None, criterion='gini', max_depth=8,\n",
      "                       max_features=None, max_leaf_nodes=None,\n",
      "                       min_impurity_decrease=0.0, min_impurity_split=None,\n",
      "                       min_samples_leaf=11, min_samples_split=2,\n",
      "                       min_weight_fraction_leaf=0.0, presort=False,\n",
      "                       random_state=5, splitter='best')\n"
     ]
    }
   ],
   "source": [
    "print(\"AUC ROC:\", roc_auc_score(target_valid, probabilities_one_valid))\n",
    "print(\"F1:\", f1_score(target_valid, valid_predictions_tree))\n",
    "print (\"Параметры лучшей модели:\", best_model_tree, sep='\\n')"
   ]
  },
  {
   "cell_type": "markdown",
   "metadata": {},
   "source": [
    "### Random Forest Classifier"
   ]
  },
  {
   "cell_type": "markdown",
   "metadata": {},
   "source": [
    "Обучение модели и проверка на валидационной выборке на сбалансированных данных:"
   ]
  },
  {
   "cell_type": "code",
   "execution_count": 50,
   "metadata": {},
   "outputs": [
    {
     "data": {
      "application/vnd.jupyter.widget-view+json": {
       "model_id": "fe23132d4f4c4c32815a0a285db4f6cb",
       "version_major": 2,
       "version_minor": 0
      },
      "text/plain": [
       "HBox(children=(HTML(value='Depth loop'), FloatProgress(value=0.0, max=14.0), HTML(value='')))"
      ]
     },
     "metadata": {},
     "output_type": "display_data"
    },
    {
     "data": {
      "application/vnd.jupyter.widget-view+json": {
       "model_id": "",
       "version_major": 2,
       "version_minor": 0
      },
      "text/plain": [
       "HBox(children=(HTML(value='Est loop'), FloatProgress(value=0.0, max=10.0), HTML(value='')))"
      ]
     },
     "metadata": {},
     "output_type": "display_data"
    },
    {
     "data": {
      "application/vnd.jupyter.widget-view+json": {
       "model_id": "",
       "version_major": 2,
       "version_minor": 0
      },
      "text/plain": [
       "HBox(children=(HTML(value='n_features loop'), FloatProgress(value=0.0, max=2.0), HTML(value='')))"
      ]
     },
     "metadata": {},
     "output_type": "display_data"
    },
    {
     "data": {
      "application/vnd.jupyter.widget-view+json": {
       "model_id": "",
       "version_major": 2,
       "version_minor": 0
      },
      "text/plain": [
       "HBox(children=(HTML(value='n_features loop'), FloatProgress(value=0.0, max=2.0), HTML(value='')))"
      ]
     },
     "metadata": {},
     "output_type": "display_data"
    },
    {
     "data": {
      "application/vnd.jupyter.widget-view+json": {
       "model_id": "",
       "version_major": 2,
       "version_minor": 0
      },
      "text/plain": [
       "HBox(children=(HTML(value='n_features loop'), FloatProgress(value=0.0, max=2.0), HTML(value='')))"
      ]
     },
     "metadata": {},
     "output_type": "display_data"
    },
    {
     "data": {
      "application/vnd.jupyter.widget-view+json": {
       "model_id": "",
       "version_major": 2,
       "version_minor": 0
      },
      "text/plain": [
       "HBox(children=(HTML(value='n_features loop'), FloatProgress(value=0.0, max=2.0), HTML(value='')))"
      ]
     },
     "metadata": {},
     "output_type": "display_data"
    },
    {
     "data": {
      "application/vnd.jupyter.widget-view+json": {
       "model_id": "",
       "version_major": 2,
       "version_minor": 0
      },
      "text/plain": [
       "HBox(children=(HTML(value='n_features loop'), FloatProgress(value=0.0, max=2.0), HTML(value='')))"
      ]
     },
     "metadata": {},
     "output_type": "display_data"
    },
    {
     "data": {
      "application/vnd.jupyter.widget-view+json": {
       "model_id": "",
       "version_major": 2,
       "version_minor": 0
      },
      "text/plain": [
       "HBox(children=(HTML(value='n_features loop'), FloatProgress(value=0.0, max=2.0), HTML(value='')))"
      ]
     },
     "metadata": {},
     "output_type": "display_data"
    },
    {
     "data": {
      "application/vnd.jupyter.widget-view+json": {
       "model_id": "",
       "version_major": 2,
       "version_minor": 0
      },
      "text/plain": [
       "HBox(children=(HTML(value='n_features loop'), FloatProgress(value=0.0, max=2.0), HTML(value='')))"
      ]
     },
     "metadata": {},
     "output_type": "display_data"
    },
    {
     "data": {
      "application/vnd.jupyter.widget-view+json": {
       "model_id": "",
       "version_major": 2,
       "version_minor": 0
      },
      "text/plain": [
       "HBox(children=(HTML(value='n_features loop'), FloatProgress(value=0.0, max=2.0), HTML(value='')))"
      ]
     },
     "metadata": {},
     "output_type": "display_data"
    },
    {
     "data": {
      "application/vnd.jupyter.widget-view+json": {
       "model_id": "",
       "version_major": 2,
       "version_minor": 0
      },
      "text/plain": [
       "HBox(children=(HTML(value='n_features loop'), FloatProgress(value=0.0, max=2.0), HTML(value='')))"
      ]
     },
     "metadata": {},
     "output_type": "display_data"
    },
    {
     "data": {
      "application/vnd.jupyter.widget-view+json": {
       "model_id": "",
       "version_major": 2,
       "version_minor": 0
      },
      "text/plain": [
       "HBox(children=(HTML(value='n_features loop'), FloatProgress(value=0.0, max=2.0), HTML(value='')))"
      ]
     },
     "metadata": {},
     "output_type": "display_data"
    },
    {
     "data": {
      "application/vnd.jupyter.widget-view+json": {
       "model_id": "",
       "version_major": 2,
       "version_minor": 0
      },
      "text/plain": [
       "HBox(children=(HTML(value='Est loop'), FloatProgress(value=0.0, max=10.0), HTML(value='')))"
      ]
     },
     "metadata": {},
     "output_type": "display_data"
    },
    {
     "data": {
      "application/vnd.jupyter.widget-view+json": {
       "model_id": "",
       "version_major": 2,
       "version_minor": 0
      },
      "text/plain": [
       "HBox(children=(HTML(value='n_features loop'), FloatProgress(value=0.0, max=2.0), HTML(value='')))"
      ]
     },
     "metadata": {},
     "output_type": "display_data"
    },
    {
     "data": {
      "application/vnd.jupyter.widget-view+json": {
       "model_id": "",
       "version_major": 2,
       "version_minor": 0
      },
      "text/plain": [
       "HBox(children=(HTML(value='n_features loop'), FloatProgress(value=0.0, max=2.0), HTML(value='')))"
      ]
     },
     "metadata": {},
     "output_type": "display_data"
    },
    {
     "data": {
      "application/vnd.jupyter.widget-view+json": {
       "model_id": "",
       "version_major": 2,
       "version_minor": 0
      },
      "text/plain": [
       "HBox(children=(HTML(value='n_features loop'), FloatProgress(value=0.0, max=2.0), HTML(value='')))"
      ]
     },
     "metadata": {},
     "output_type": "display_data"
    },
    {
     "data": {
      "application/vnd.jupyter.widget-view+json": {
       "model_id": "",
       "version_major": 2,
       "version_minor": 0
      },
      "text/plain": [
       "HBox(children=(HTML(value='n_features loop'), FloatProgress(value=0.0, max=2.0), HTML(value='')))"
      ]
     },
     "metadata": {},
     "output_type": "display_data"
    },
    {
     "data": {
      "application/vnd.jupyter.widget-view+json": {
       "model_id": "",
       "version_major": 2,
       "version_minor": 0
      },
      "text/plain": [
       "HBox(children=(HTML(value='n_features loop'), FloatProgress(value=0.0, max=2.0), HTML(value='')))"
      ]
     },
     "metadata": {},
     "output_type": "display_data"
    },
    {
     "data": {
      "application/vnd.jupyter.widget-view+json": {
       "model_id": "",
       "version_major": 2,
       "version_minor": 0
      },
      "text/plain": [
       "HBox(children=(HTML(value='n_features loop'), FloatProgress(value=0.0, max=2.0), HTML(value='')))"
      ]
     },
     "metadata": {},
     "output_type": "display_data"
    },
    {
     "data": {
      "application/vnd.jupyter.widget-view+json": {
       "model_id": "",
       "version_major": 2,
       "version_minor": 0
      },
      "text/plain": [
       "HBox(children=(HTML(value='n_features loop'), FloatProgress(value=0.0, max=2.0), HTML(value='')))"
      ]
     },
     "metadata": {},
     "output_type": "display_data"
    },
    {
     "data": {
      "application/vnd.jupyter.widget-view+json": {
       "model_id": "",
       "version_major": 2,
       "version_minor": 0
      },
      "text/plain": [
       "HBox(children=(HTML(value='n_features loop'), FloatProgress(value=0.0, max=2.0), HTML(value='')))"
      ]
     },
     "metadata": {},
     "output_type": "display_data"
    },
    {
     "data": {
      "application/vnd.jupyter.widget-view+json": {
       "model_id": "",
       "version_major": 2,
       "version_minor": 0
      },
      "text/plain": [
       "HBox(children=(HTML(value='n_features loop'), FloatProgress(value=0.0, max=2.0), HTML(value='')))"
      ]
     },
     "metadata": {},
     "output_type": "display_data"
    },
    {
     "data": {
      "application/vnd.jupyter.widget-view+json": {
       "model_id": "",
       "version_major": 2,
       "version_minor": 0
      },
      "text/plain": [
       "HBox(children=(HTML(value='n_features loop'), FloatProgress(value=0.0, max=2.0), HTML(value='')))"
      ]
     },
     "metadata": {},
     "output_type": "display_data"
    },
    {
     "data": {
      "application/vnd.jupyter.widget-view+json": {
       "model_id": "",
       "version_major": 2,
       "version_minor": 0
      },
      "text/plain": [
       "HBox(children=(HTML(value='Est loop'), FloatProgress(value=0.0, max=10.0), HTML(value='')))"
      ]
     },
     "metadata": {},
     "output_type": "display_data"
    },
    {
     "data": {
      "application/vnd.jupyter.widget-view+json": {
       "model_id": "",
       "version_major": 2,
       "version_minor": 0
      },
      "text/plain": [
       "HBox(children=(HTML(value='n_features loop'), FloatProgress(value=0.0, max=2.0), HTML(value='')))"
      ]
     },
     "metadata": {},
     "output_type": "display_data"
    },
    {
     "data": {
      "application/vnd.jupyter.widget-view+json": {
       "model_id": "",
       "version_major": 2,
       "version_minor": 0
      },
      "text/plain": [
       "HBox(children=(HTML(value='n_features loop'), FloatProgress(value=0.0, max=2.0), HTML(value='')))"
      ]
     },
     "metadata": {},
     "output_type": "display_data"
    },
    {
     "data": {
      "application/vnd.jupyter.widget-view+json": {
       "model_id": "",
       "version_major": 2,
       "version_minor": 0
      },
      "text/plain": [
       "HBox(children=(HTML(value='n_features loop'), FloatProgress(value=0.0, max=2.0), HTML(value='')))"
      ]
     },
     "metadata": {},
     "output_type": "display_data"
    },
    {
     "data": {
      "application/vnd.jupyter.widget-view+json": {
       "model_id": "",
       "version_major": 2,
       "version_minor": 0
      },
      "text/plain": [
       "HBox(children=(HTML(value='n_features loop'), FloatProgress(value=0.0, max=2.0), HTML(value='')))"
      ]
     },
     "metadata": {},
     "output_type": "display_data"
    },
    {
     "data": {
      "application/vnd.jupyter.widget-view+json": {
       "model_id": "",
       "version_major": 2,
       "version_minor": 0
      },
      "text/plain": [
       "HBox(children=(HTML(value='n_features loop'), FloatProgress(value=0.0, max=2.0), HTML(value='')))"
      ]
     },
     "metadata": {},
     "output_type": "display_data"
    },
    {
     "data": {
      "application/vnd.jupyter.widget-view+json": {
       "model_id": "",
       "version_major": 2,
       "version_minor": 0
      },
      "text/plain": [
       "HBox(children=(HTML(value='n_features loop'), FloatProgress(value=0.0, max=2.0), HTML(value='')))"
      ]
     },
     "metadata": {},
     "output_type": "display_data"
    },
    {
     "data": {
      "application/vnd.jupyter.widget-view+json": {
       "model_id": "",
       "version_major": 2,
       "version_minor": 0
      },
      "text/plain": [
       "HBox(children=(HTML(value='n_features loop'), FloatProgress(value=0.0, max=2.0), HTML(value='')))"
      ]
     },
     "metadata": {},
     "output_type": "display_data"
    },
    {
     "data": {
      "application/vnd.jupyter.widget-view+json": {
       "model_id": "",
       "version_major": 2,
       "version_minor": 0
      },
      "text/plain": [
       "HBox(children=(HTML(value='n_features loop'), FloatProgress(value=0.0, max=2.0), HTML(value='')))"
      ]
     },
     "metadata": {},
     "output_type": "display_data"
    },
    {
     "data": {
      "application/vnd.jupyter.widget-view+json": {
       "model_id": "",
       "version_major": 2,
       "version_minor": 0
      },
      "text/plain": [
       "HBox(children=(HTML(value='n_features loop'), FloatProgress(value=0.0, max=2.0), HTML(value='')))"
      ]
     },
     "metadata": {},
     "output_type": "display_data"
    },
    {
     "data": {
      "application/vnd.jupyter.widget-view+json": {
       "model_id": "",
       "version_major": 2,
       "version_minor": 0
      },
      "text/plain": [
       "HBox(children=(HTML(value='n_features loop'), FloatProgress(value=0.0, max=2.0), HTML(value='')))"
      ]
     },
     "metadata": {},
     "output_type": "display_data"
    },
    {
     "data": {
      "application/vnd.jupyter.widget-view+json": {
       "model_id": "",
       "version_major": 2,
       "version_minor": 0
      },
      "text/plain": [
       "HBox(children=(HTML(value='Est loop'), FloatProgress(value=0.0, max=10.0), HTML(value='')))"
      ]
     },
     "metadata": {},
     "output_type": "display_data"
    },
    {
     "data": {
      "application/vnd.jupyter.widget-view+json": {
       "model_id": "",
       "version_major": 2,
       "version_minor": 0
      },
      "text/plain": [
       "HBox(children=(HTML(value='n_features loop'), FloatProgress(value=0.0, max=2.0), HTML(value='')))"
      ]
     },
     "metadata": {},
     "output_type": "display_data"
    },
    {
     "data": {
      "application/vnd.jupyter.widget-view+json": {
       "model_id": "",
       "version_major": 2,
       "version_minor": 0
      },
      "text/plain": [
       "HBox(children=(HTML(value='n_features loop'), FloatProgress(value=0.0, max=2.0), HTML(value='')))"
      ]
     },
     "metadata": {},
     "output_type": "display_data"
    },
    {
     "data": {
      "application/vnd.jupyter.widget-view+json": {
       "model_id": "",
       "version_major": 2,
       "version_minor": 0
      },
      "text/plain": [
       "HBox(children=(HTML(value='n_features loop'), FloatProgress(value=0.0, max=2.0), HTML(value='')))"
      ]
     },
     "metadata": {},
     "output_type": "display_data"
    },
    {
     "data": {
      "application/vnd.jupyter.widget-view+json": {
       "model_id": "",
       "version_major": 2,
       "version_minor": 0
      },
      "text/plain": [
       "HBox(children=(HTML(value='n_features loop'), FloatProgress(value=0.0, max=2.0), HTML(value='')))"
      ]
     },
     "metadata": {},
     "output_type": "display_data"
    },
    {
     "data": {
      "application/vnd.jupyter.widget-view+json": {
       "model_id": "",
       "version_major": 2,
       "version_minor": 0
      },
      "text/plain": [
       "HBox(children=(HTML(value='n_features loop'), FloatProgress(value=0.0, max=2.0), HTML(value='')))"
      ]
     },
     "metadata": {},
     "output_type": "display_data"
    },
    {
     "data": {
      "application/vnd.jupyter.widget-view+json": {
       "model_id": "",
       "version_major": 2,
       "version_minor": 0
      },
      "text/plain": [
       "HBox(children=(HTML(value='n_features loop'), FloatProgress(value=0.0, max=2.0), HTML(value='')))"
      ]
     },
     "metadata": {},
     "output_type": "display_data"
    },
    {
     "data": {
      "application/vnd.jupyter.widget-view+json": {
       "model_id": "",
       "version_major": 2,
       "version_minor": 0
      },
      "text/plain": [
       "HBox(children=(HTML(value='n_features loop'), FloatProgress(value=0.0, max=2.0), HTML(value='')))"
      ]
     },
     "metadata": {},
     "output_type": "display_data"
    },
    {
     "data": {
      "application/vnd.jupyter.widget-view+json": {
       "model_id": "",
       "version_major": 2,
       "version_minor": 0
      },
      "text/plain": [
       "HBox(children=(HTML(value='n_features loop'), FloatProgress(value=0.0, max=2.0), HTML(value='')))"
      ]
     },
     "metadata": {},
     "output_type": "display_data"
    },
    {
     "data": {
      "application/vnd.jupyter.widget-view+json": {
       "model_id": "",
       "version_major": 2,
       "version_minor": 0
      },
      "text/plain": [
       "HBox(children=(HTML(value='n_features loop'), FloatProgress(value=0.0, max=2.0), HTML(value='')))"
      ]
     },
     "metadata": {},
     "output_type": "display_data"
    },
    {
     "data": {
      "application/vnd.jupyter.widget-view+json": {
       "model_id": "",
       "version_major": 2,
       "version_minor": 0
      },
      "text/plain": [
       "HBox(children=(HTML(value='n_features loop'), FloatProgress(value=0.0, max=2.0), HTML(value='')))"
      ]
     },
     "metadata": {},
     "output_type": "display_data"
    },
    {
     "data": {
      "application/vnd.jupyter.widget-view+json": {
       "model_id": "",
       "version_major": 2,
       "version_minor": 0
      },
      "text/plain": [
       "HBox(children=(HTML(value='Est loop'), FloatProgress(value=0.0, max=10.0), HTML(value='')))"
      ]
     },
     "metadata": {},
     "output_type": "display_data"
    },
    {
     "data": {
      "application/vnd.jupyter.widget-view+json": {
       "model_id": "",
       "version_major": 2,
       "version_minor": 0
      },
      "text/plain": [
       "HBox(children=(HTML(value='n_features loop'), FloatProgress(value=0.0, max=2.0), HTML(value='')))"
      ]
     },
     "metadata": {},
     "output_type": "display_data"
    },
    {
     "data": {
      "application/vnd.jupyter.widget-view+json": {
       "model_id": "",
       "version_major": 2,
       "version_minor": 0
      },
      "text/plain": [
       "HBox(children=(HTML(value='n_features loop'), FloatProgress(value=0.0, max=2.0), HTML(value='')))"
      ]
     },
     "metadata": {},
     "output_type": "display_data"
    },
    {
     "data": {
      "application/vnd.jupyter.widget-view+json": {
       "model_id": "",
       "version_major": 2,
       "version_minor": 0
      },
      "text/plain": [
       "HBox(children=(HTML(value='n_features loop'), FloatProgress(value=0.0, max=2.0), HTML(value='')))"
      ]
     },
     "metadata": {},
     "output_type": "display_data"
    },
    {
     "data": {
      "application/vnd.jupyter.widget-view+json": {
       "model_id": "",
       "version_major": 2,
       "version_minor": 0
      },
      "text/plain": [
       "HBox(children=(HTML(value='n_features loop'), FloatProgress(value=0.0, max=2.0), HTML(value='')))"
      ]
     },
     "metadata": {},
     "output_type": "display_data"
    },
    {
     "data": {
      "application/vnd.jupyter.widget-view+json": {
       "model_id": "",
       "version_major": 2,
       "version_minor": 0
      },
      "text/plain": [
       "HBox(children=(HTML(value='n_features loop'), FloatProgress(value=0.0, max=2.0), HTML(value='')))"
      ]
     },
     "metadata": {},
     "output_type": "display_data"
    },
    {
     "data": {
      "application/vnd.jupyter.widget-view+json": {
       "model_id": "",
       "version_major": 2,
       "version_minor": 0
      },
      "text/plain": [
       "HBox(children=(HTML(value='n_features loop'), FloatProgress(value=0.0, max=2.0), HTML(value='')))"
      ]
     },
     "metadata": {},
     "output_type": "display_data"
    },
    {
     "data": {
      "application/vnd.jupyter.widget-view+json": {
       "model_id": "",
       "version_major": 2,
       "version_minor": 0
      },
      "text/plain": [
       "HBox(children=(HTML(value='n_features loop'), FloatProgress(value=0.0, max=2.0), HTML(value='')))"
      ]
     },
     "metadata": {},
     "output_type": "display_data"
    },
    {
     "data": {
      "application/vnd.jupyter.widget-view+json": {
       "model_id": "",
       "version_major": 2,
       "version_minor": 0
      },
      "text/plain": [
       "HBox(children=(HTML(value='n_features loop'), FloatProgress(value=0.0, max=2.0), HTML(value='')))"
      ]
     },
     "metadata": {},
     "output_type": "display_data"
    },
    {
     "data": {
      "application/vnd.jupyter.widget-view+json": {
       "model_id": "",
       "version_major": 2,
       "version_minor": 0
      },
      "text/plain": [
       "HBox(children=(HTML(value='n_features loop'), FloatProgress(value=0.0, max=2.0), HTML(value='')))"
      ]
     },
     "metadata": {},
     "output_type": "display_data"
    },
    {
     "data": {
      "application/vnd.jupyter.widget-view+json": {
       "model_id": "",
       "version_major": 2,
       "version_minor": 0
      },
      "text/plain": [
       "HBox(children=(HTML(value='n_features loop'), FloatProgress(value=0.0, max=2.0), HTML(value='')))"
      ]
     },
     "metadata": {},
     "output_type": "display_data"
    },
    {
     "data": {
      "application/vnd.jupyter.widget-view+json": {
       "model_id": "",
       "version_major": 2,
       "version_minor": 0
      },
      "text/plain": [
       "HBox(children=(HTML(value='Est loop'), FloatProgress(value=0.0, max=10.0), HTML(value='')))"
      ]
     },
     "metadata": {},
     "output_type": "display_data"
    },
    {
     "data": {
      "application/vnd.jupyter.widget-view+json": {
       "model_id": "",
       "version_major": 2,
       "version_minor": 0
      },
      "text/plain": [
       "HBox(children=(HTML(value='n_features loop'), FloatProgress(value=0.0, max=2.0), HTML(value='')))"
      ]
     },
     "metadata": {},
     "output_type": "display_data"
    },
    {
     "data": {
      "application/vnd.jupyter.widget-view+json": {
       "model_id": "",
       "version_major": 2,
       "version_minor": 0
      },
      "text/plain": [
       "HBox(children=(HTML(value='n_features loop'), FloatProgress(value=0.0, max=2.0), HTML(value='')))"
      ]
     },
     "metadata": {},
     "output_type": "display_data"
    },
    {
     "data": {
      "application/vnd.jupyter.widget-view+json": {
       "model_id": "",
       "version_major": 2,
       "version_minor": 0
      },
      "text/plain": [
       "HBox(children=(HTML(value='n_features loop'), FloatProgress(value=0.0, max=2.0), HTML(value='')))"
      ]
     },
     "metadata": {},
     "output_type": "display_data"
    },
    {
     "data": {
      "application/vnd.jupyter.widget-view+json": {
       "model_id": "",
       "version_major": 2,
       "version_minor": 0
      },
      "text/plain": [
       "HBox(children=(HTML(value='n_features loop'), FloatProgress(value=0.0, max=2.0), HTML(value='')))"
      ]
     },
     "metadata": {},
     "output_type": "display_data"
    },
    {
     "data": {
      "application/vnd.jupyter.widget-view+json": {
       "model_id": "",
       "version_major": 2,
       "version_minor": 0
      },
      "text/plain": [
       "HBox(children=(HTML(value='n_features loop'), FloatProgress(value=0.0, max=2.0), HTML(value='')))"
      ]
     },
     "metadata": {},
     "output_type": "display_data"
    },
    {
     "data": {
      "application/vnd.jupyter.widget-view+json": {
       "model_id": "",
       "version_major": 2,
       "version_minor": 0
      },
      "text/plain": [
       "HBox(children=(HTML(value='n_features loop'), FloatProgress(value=0.0, max=2.0), HTML(value='')))"
      ]
     },
     "metadata": {},
     "output_type": "display_data"
    },
    {
     "data": {
      "application/vnd.jupyter.widget-view+json": {
       "model_id": "",
       "version_major": 2,
       "version_minor": 0
      },
      "text/plain": [
       "HBox(children=(HTML(value='n_features loop'), FloatProgress(value=0.0, max=2.0), HTML(value='')))"
      ]
     },
     "metadata": {},
     "output_type": "display_data"
    },
    {
     "data": {
      "application/vnd.jupyter.widget-view+json": {
       "model_id": "",
       "version_major": 2,
       "version_minor": 0
      },
      "text/plain": [
       "HBox(children=(HTML(value='n_features loop'), FloatProgress(value=0.0, max=2.0), HTML(value='')))"
      ]
     },
     "metadata": {},
     "output_type": "display_data"
    },
    {
     "data": {
      "application/vnd.jupyter.widget-view+json": {
       "model_id": "",
       "version_major": 2,
       "version_minor": 0
      },
      "text/plain": [
       "HBox(children=(HTML(value='n_features loop'), FloatProgress(value=0.0, max=2.0), HTML(value='')))"
      ]
     },
     "metadata": {},
     "output_type": "display_data"
    },
    {
     "data": {
      "application/vnd.jupyter.widget-view+json": {
       "model_id": "",
       "version_major": 2,
       "version_minor": 0
      },
      "text/plain": [
       "HBox(children=(HTML(value='n_features loop'), FloatProgress(value=0.0, max=2.0), HTML(value='')))"
      ]
     },
     "metadata": {},
     "output_type": "display_data"
    },
    {
     "data": {
      "application/vnd.jupyter.widget-view+json": {
       "model_id": "",
       "version_major": 2,
       "version_minor": 0
      },
      "text/plain": [
       "HBox(children=(HTML(value='Est loop'), FloatProgress(value=0.0, max=10.0), HTML(value='')))"
      ]
     },
     "metadata": {},
     "output_type": "display_data"
    },
    {
     "data": {
      "application/vnd.jupyter.widget-view+json": {
       "model_id": "",
       "version_major": 2,
       "version_minor": 0
      },
      "text/plain": [
       "HBox(children=(HTML(value='n_features loop'), FloatProgress(value=0.0, max=2.0), HTML(value='')))"
      ]
     },
     "metadata": {},
     "output_type": "display_data"
    },
    {
     "data": {
      "application/vnd.jupyter.widget-view+json": {
       "model_id": "",
       "version_major": 2,
       "version_minor": 0
      },
      "text/plain": [
       "HBox(children=(HTML(value='n_features loop'), FloatProgress(value=0.0, max=2.0), HTML(value='')))"
      ]
     },
     "metadata": {},
     "output_type": "display_data"
    },
    {
     "data": {
      "application/vnd.jupyter.widget-view+json": {
       "model_id": "",
       "version_major": 2,
       "version_minor": 0
      },
      "text/plain": [
       "HBox(children=(HTML(value='n_features loop'), FloatProgress(value=0.0, max=2.0), HTML(value='')))"
      ]
     },
     "metadata": {},
     "output_type": "display_data"
    },
    {
     "data": {
      "application/vnd.jupyter.widget-view+json": {
       "model_id": "",
       "version_major": 2,
       "version_minor": 0
      },
      "text/plain": [
       "HBox(children=(HTML(value='n_features loop'), FloatProgress(value=0.0, max=2.0), HTML(value='')))"
      ]
     },
     "metadata": {},
     "output_type": "display_data"
    },
    {
     "data": {
      "application/vnd.jupyter.widget-view+json": {
       "model_id": "",
       "version_major": 2,
       "version_minor": 0
      },
      "text/plain": [
       "HBox(children=(HTML(value='n_features loop'), FloatProgress(value=0.0, max=2.0), HTML(value='')))"
      ]
     },
     "metadata": {},
     "output_type": "display_data"
    },
    {
     "data": {
      "application/vnd.jupyter.widget-view+json": {
       "model_id": "",
       "version_major": 2,
       "version_minor": 0
      },
      "text/plain": [
       "HBox(children=(HTML(value='n_features loop'), FloatProgress(value=0.0, max=2.0), HTML(value='')))"
      ]
     },
     "metadata": {},
     "output_type": "display_data"
    },
    {
     "data": {
      "application/vnd.jupyter.widget-view+json": {
       "model_id": "",
       "version_major": 2,
       "version_minor": 0
      },
      "text/plain": [
       "HBox(children=(HTML(value='n_features loop'), FloatProgress(value=0.0, max=2.0), HTML(value='')))"
      ]
     },
     "metadata": {},
     "output_type": "display_data"
    },
    {
     "data": {
      "application/vnd.jupyter.widget-view+json": {
       "model_id": "",
       "version_major": 2,
       "version_minor": 0
      },
      "text/plain": [
       "HBox(children=(HTML(value='n_features loop'), FloatProgress(value=0.0, max=2.0), HTML(value='')))"
      ]
     },
     "metadata": {},
     "output_type": "display_data"
    },
    {
     "data": {
      "application/vnd.jupyter.widget-view+json": {
       "model_id": "",
       "version_major": 2,
       "version_minor": 0
      },
      "text/plain": [
       "HBox(children=(HTML(value='n_features loop'), FloatProgress(value=0.0, max=2.0), HTML(value='')))"
      ]
     },
     "metadata": {},
     "output_type": "display_data"
    },
    {
     "data": {
      "application/vnd.jupyter.widget-view+json": {
       "model_id": "",
       "version_major": 2,
       "version_minor": 0
      },
      "text/plain": [
       "HBox(children=(HTML(value='n_features loop'), FloatProgress(value=0.0, max=2.0), HTML(value='')))"
      ]
     },
     "metadata": {},
     "output_type": "display_data"
    },
    {
     "data": {
      "application/vnd.jupyter.widget-view+json": {
       "model_id": "",
       "version_major": 2,
       "version_minor": 0
      },
      "text/plain": [
       "HBox(children=(HTML(value='Est loop'), FloatProgress(value=0.0, max=10.0), HTML(value='')))"
      ]
     },
     "metadata": {},
     "output_type": "display_data"
    },
    {
     "data": {
      "application/vnd.jupyter.widget-view+json": {
       "model_id": "",
       "version_major": 2,
       "version_minor": 0
      },
      "text/plain": [
       "HBox(children=(HTML(value='n_features loop'), FloatProgress(value=0.0, max=2.0), HTML(value='')))"
      ]
     },
     "metadata": {},
     "output_type": "display_data"
    },
    {
     "data": {
      "application/vnd.jupyter.widget-view+json": {
       "model_id": "",
       "version_major": 2,
       "version_minor": 0
      },
      "text/plain": [
       "HBox(children=(HTML(value='n_features loop'), FloatProgress(value=0.0, max=2.0), HTML(value='')))"
      ]
     },
     "metadata": {},
     "output_type": "display_data"
    },
    {
     "data": {
      "application/vnd.jupyter.widget-view+json": {
       "model_id": "",
       "version_major": 2,
       "version_minor": 0
      },
      "text/plain": [
       "HBox(children=(HTML(value='n_features loop'), FloatProgress(value=0.0, max=2.0), HTML(value='')))"
      ]
     },
     "metadata": {},
     "output_type": "display_data"
    },
    {
     "data": {
      "application/vnd.jupyter.widget-view+json": {
       "model_id": "",
       "version_major": 2,
       "version_minor": 0
      },
      "text/plain": [
       "HBox(children=(HTML(value='n_features loop'), FloatProgress(value=0.0, max=2.0), HTML(value='')))"
      ]
     },
     "metadata": {},
     "output_type": "display_data"
    },
    {
     "data": {
      "application/vnd.jupyter.widget-view+json": {
       "model_id": "",
       "version_major": 2,
       "version_minor": 0
      },
      "text/plain": [
       "HBox(children=(HTML(value='n_features loop'), FloatProgress(value=0.0, max=2.0), HTML(value='')))"
      ]
     },
     "metadata": {},
     "output_type": "display_data"
    },
    {
     "data": {
      "application/vnd.jupyter.widget-view+json": {
       "model_id": "",
       "version_major": 2,
       "version_minor": 0
      },
      "text/plain": [
       "HBox(children=(HTML(value='n_features loop'), FloatProgress(value=0.0, max=2.0), HTML(value='')))"
      ]
     },
     "metadata": {},
     "output_type": "display_data"
    },
    {
     "data": {
      "application/vnd.jupyter.widget-view+json": {
       "model_id": "",
       "version_major": 2,
       "version_minor": 0
      },
      "text/plain": [
       "HBox(children=(HTML(value='n_features loop'), FloatProgress(value=0.0, max=2.0), HTML(value='')))"
      ]
     },
     "metadata": {},
     "output_type": "display_data"
    },
    {
     "data": {
      "application/vnd.jupyter.widget-view+json": {
       "model_id": "",
       "version_major": 2,
       "version_minor": 0
      },
      "text/plain": [
       "HBox(children=(HTML(value='n_features loop'), FloatProgress(value=0.0, max=2.0), HTML(value='')))"
      ]
     },
     "metadata": {},
     "output_type": "display_data"
    },
    {
     "data": {
      "application/vnd.jupyter.widget-view+json": {
       "model_id": "",
       "version_major": 2,
       "version_minor": 0
      },
      "text/plain": [
       "HBox(children=(HTML(value='n_features loop'), FloatProgress(value=0.0, max=2.0), HTML(value='')))"
      ]
     },
     "metadata": {},
     "output_type": "display_data"
    },
    {
     "data": {
      "application/vnd.jupyter.widget-view+json": {
       "model_id": "",
       "version_major": 2,
       "version_minor": 0
      },
      "text/plain": [
       "HBox(children=(HTML(value='n_features loop'), FloatProgress(value=0.0, max=2.0), HTML(value='')))"
      ]
     },
     "metadata": {},
     "output_type": "display_data"
    },
    {
     "data": {
      "application/vnd.jupyter.widget-view+json": {
       "model_id": "",
       "version_major": 2,
       "version_minor": 0
      },
      "text/plain": [
       "HBox(children=(HTML(value='Est loop'), FloatProgress(value=0.0, max=10.0), HTML(value='')))"
      ]
     },
     "metadata": {},
     "output_type": "display_data"
    },
    {
     "data": {
      "application/vnd.jupyter.widget-view+json": {
       "model_id": "",
       "version_major": 2,
       "version_minor": 0
      },
      "text/plain": [
       "HBox(children=(HTML(value='n_features loop'), FloatProgress(value=0.0, max=2.0), HTML(value='')))"
      ]
     },
     "metadata": {},
     "output_type": "display_data"
    },
    {
     "data": {
      "application/vnd.jupyter.widget-view+json": {
       "model_id": "",
       "version_major": 2,
       "version_minor": 0
      },
      "text/plain": [
       "HBox(children=(HTML(value='n_features loop'), FloatProgress(value=0.0, max=2.0), HTML(value='')))"
      ]
     },
     "metadata": {},
     "output_type": "display_data"
    },
    {
     "data": {
      "application/vnd.jupyter.widget-view+json": {
       "model_id": "",
       "version_major": 2,
       "version_minor": 0
      },
      "text/plain": [
       "HBox(children=(HTML(value='n_features loop'), FloatProgress(value=0.0, max=2.0), HTML(value='')))"
      ]
     },
     "metadata": {},
     "output_type": "display_data"
    },
    {
     "data": {
      "application/vnd.jupyter.widget-view+json": {
       "model_id": "",
       "version_major": 2,
       "version_minor": 0
      },
      "text/plain": [
       "HBox(children=(HTML(value='n_features loop'), FloatProgress(value=0.0, max=2.0), HTML(value='')))"
      ]
     },
     "metadata": {},
     "output_type": "display_data"
    },
    {
     "data": {
      "application/vnd.jupyter.widget-view+json": {
       "model_id": "",
       "version_major": 2,
       "version_minor": 0
      },
      "text/plain": [
       "HBox(children=(HTML(value='n_features loop'), FloatProgress(value=0.0, max=2.0), HTML(value='')))"
      ]
     },
     "metadata": {},
     "output_type": "display_data"
    },
    {
     "data": {
      "application/vnd.jupyter.widget-view+json": {
       "model_id": "",
       "version_major": 2,
       "version_minor": 0
      },
      "text/plain": [
       "HBox(children=(HTML(value='n_features loop'), FloatProgress(value=0.0, max=2.0), HTML(value='')))"
      ]
     },
     "metadata": {},
     "output_type": "display_data"
    },
    {
     "data": {
      "application/vnd.jupyter.widget-view+json": {
       "model_id": "",
       "version_major": 2,
       "version_minor": 0
      },
      "text/plain": [
       "HBox(children=(HTML(value='n_features loop'), FloatProgress(value=0.0, max=2.0), HTML(value='')))"
      ]
     },
     "metadata": {},
     "output_type": "display_data"
    },
    {
     "data": {
      "application/vnd.jupyter.widget-view+json": {
       "model_id": "",
       "version_major": 2,
       "version_minor": 0
      },
      "text/plain": [
       "HBox(children=(HTML(value='n_features loop'), FloatProgress(value=0.0, max=2.0), HTML(value='')))"
      ]
     },
     "metadata": {},
     "output_type": "display_data"
    },
    {
     "data": {
      "application/vnd.jupyter.widget-view+json": {
       "model_id": "",
       "version_major": 2,
       "version_minor": 0
      },
      "text/plain": [
       "HBox(children=(HTML(value='n_features loop'), FloatProgress(value=0.0, max=2.0), HTML(value='')))"
      ]
     },
     "metadata": {},
     "output_type": "display_data"
    },
    {
     "data": {
      "application/vnd.jupyter.widget-view+json": {
       "model_id": "",
       "version_major": 2,
       "version_minor": 0
      },
      "text/plain": [
       "HBox(children=(HTML(value='n_features loop'), FloatProgress(value=0.0, max=2.0), HTML(value='')))"
      ]
     },
     "metadata": {},
     "output_type": "display_data"
    },
    {
     "data": {
      "application/vnd.jupyter.widget-view+json": {
       "model_id": "",
       "version_major": 2,
       "version_minor": 0
      },
      "text/plain": [
       "HBox(children=(HTML(value='Est loop'), FloatProgress(value=0.0, max=10.0), HTML(value='')))"
      ]
     },
     "metadata": {},
     "output_type": "display_data"
    },
    {
     "data": {
      "application/vnd.jupyter.widget-view+json": {
       "model_id": "",
       "version_major": 2,
       "version_minor": 0
      },
      "text/plain": [
       "HBox(children=(HTML(value='n_features loop'), FloatProgress(value=0.0, max=2.0), HTML(value='')))"
      ]
     },
     "metadata": {},
     "output_type": "display_data"
    },
    {
     "data": {
      "application/vnd.jupyter.widget-view+json": {
       "model_id": "",
       "version_major": 2,
       "version_minor": 0
      },
      "text/plain": [
       "HBox(children=(HTML(value='n_features loop'), FloatProgress(value=0.0, max=2.0), HTML(value='')))"
      ]
     },
     "metadata": {},
     "output_type": "display_data"
    },
    {
     "data": {
      "application/vnd.jupyter.widget-view+json": {
       "model_id": "",
       "version_major": 2,
       "version_minor": 0
      },
      "text/plain": [
       "HBox(children=(HTML(value='n_features loop'), FloatProgress(value=0.0, max=2.0), HTML(value='')))"
      ]
     },
     "metadata": {},
     "output_type": "display_data"
    },
    {
     "data": {
      "application/vnd.jupyter.widget-view+json": {
       "model_id": "",
       "version_major": 2,
       "version_minor": 0
      },
      "text/plain": [
       "HBox(children=(HTML(value='n_features loop'), FloatProgress(value=0.0, max=2.0), HTML(value='')))"
      ]
     },
     "metadata": {},
     "output_type": "display_data"
    },
    {
     "data": {
      "application/vnd.jupyter.widget-view+json": {
       "model_id": "",
       "version_major": 2,
       "version_minor": 0
      },
      "text/plain": [
       "HBox(children=(HTML(value='n_features loop'), FloatProgress(value=0.0, max=2.0), HTML(value='')))"
      ]
     },
     "metadata": {},
     "output_type": "display_data"
    },
    {
     "data": {
      "application/vnd.jupyter.widget-view+json": {
       "model_id": "",
       "version_major": 2,
       "version_minor": 0
      },
      "text/plain": [
       "HBox(children=(HTML(value='n_features loop'), FloatProgress(value=0.0, max=2.0), HTML(value='')))"
      ]
     },
     "metadata": {},
     "output_type": "display_data"
    },
    {
     "data": {
      "application/vnd.jupyter.widget-view+json": {
       "model_id": "",
       "version_major": 2,
       "version_minor": 0
      },
      "text/plain": [
       "HBox(children=(HTML(value='n_features loop'), FloatProgress(value=0.0, max=2.0), HTML(value='')))"
      ]
     },
     "metadata": {},
     "output_type": "display_data"
    },
    {
     "data": {
      "application/vnd.jupyter.widget-view+json": {
       "model_id": "",
       "version_major": 2,
       "version_minor": 0
      },
      "text/plain": [
       "HBox(children=(HTML(value='n_features loop'), FloatProgress(value=0.0, max=2.0), HTML(value='')))"
      ]
     },
     "metadata": {},
     "output_type": "display_data"
    },
    {
     "data": {
      "application/vnd.jupyter.widget-view+json": {
       "model_id": "",
       "version_major": 2,
       "version_minor": 0
      },
      "text/plain": [
       "HBox(children=(HTML(value='n_features loop'), FloatProgress(value=0.0, max=2.0), HTML(value='')))"
      ]
     },
     "metadata": {},
     "output_type": "display_data"
    },
    {
     "data": {
      "application/vnd.jupyter.widget-view+json": {
       "model_id": "",
       "version_major": 2,
       "version_minor": 0
      },
      "text/plain": [
       "HBox(children=(HTML(value='n_features loop'), FloatProgress(value=0.0, max=2.0), HTML(value='')))"
      ]
     },
     "metadata": {},
     "output_type": "display_data"
    },
    {
     "data": {
      "application/vnd.jupyter.widget-view+json": {
       "model_id": "",
       "version_major": 2,
       "version_minor": 0
      },
      "text/plain": [
       "HBox(children=(HTML(value='Est loop'), FloatProgress(value=0.0, max=10.0), HTML(value='')))"
      ]
     },
     "metadata": {},
     "output_type": "display_data"
    },
    {
     "data": {
      "application/vnd.jupyter.widget-view+json": {
       "model_id": "",
       "version_major": 2,
       "version_minor": 0
      },
      "text/plain": [
       "HBox(children=(HTML(value='n_features loop'), FloatProgress(value=0.0, max=2.0), HTML(value='')))"
      ]
     },
     "metadata": {},
     "output_type": "display_data"
    },
    {
     "data": {
      "application/vnd.jupyter.widget-view+json": {
       "model_id": "",
       "version_major": 2,
       "version_minor": 0
      },
      "text/plain": [
       "HBox(children=(HTML(value='n_features loop'), FloatProgress(value=0.0, max=2.0), HTML(value='')))"
      ]
     },
     "metadata": {},
     "output_type": "display_data"
    },
    {
     "data": {
      "application/vnd.jupyter.widget-view+json": {
       "model_id": "",
       "version_major": 2,
       "version_minor": 0
      },
      "text/plain": [
       "HBox(children=(HTML(value='n_features loop'), FloatProgress(value=0.0, max=2.0), HTML(value='')))"
      ]
     },
     "metadata": {},
     "output_type": "display_data"
    },
    {
     "data": {
      "application/vnd.jupyter.widget-view+json": {
       "model_id": "",
       "version_major": 2,
       "version_minor": 0
      },
      "text/plain": [
       "HBox(children=(HTML(value='n_features loop'), FloatProgress(value=0.0, max=2.0), HTML(value='')))"
      ]
     },
     "metadata": {},
     "output_type": "display_data"
    },
    {
     "data": {
      "application/vnd.jupyter.widget-view+json": {
       "model_id": "",
       "version_major": 2,
       "version_minor": 0
      },
      "text/plain": [
       "HBox(children=(HTML(value='n_features loop'), FloatProgress(value=0.0, max=2.0), HTML(value='')))"
      ]
     },
     "metadata": {},
     "output_type": "display_data"
    },
    {
     "data": {
      "application/vnd.jupyter.widget-view+json": {
       "model_id": "",
       "version_major": 2,
       "version_minor": 0
      },
      "text/plain": [
       "HBox(children=(HTML(value='n_features loop'), FloatProgress(value=0.0, max=2.0), HTML(value='')))"
      ]
     },
     "metadata": {},
     "output_type": "display_data"
    },
    {
     "data": {
      "application/vnd.jupyter.widget-view+json": {
       "model_id": "",
       "version_major": 2,
       "version_minor": 0
      },
      "text/plain": [
       "HBox(children=(HTML(value='n_features loop'), FloatProgress(value=0.0, max=2.0), HTML(value='')))"
      ]
     },
     "metadata": {},
     "output_type": "display_data"
    },
    {
     "data": {
      "application/vnd.jupyter.widget-view+json": {
       "model_id": "",
       "version_major": 2,
       "version_minor": 0
      },
      "text/plain": [
       "HBox(children=(HTML(value='n_features loop'), FloatProgress(value=0.0, max=2.0), HTML(value='')))"
      ]
     },
     "metadata": {},
     "output_type": "display_data"
    },
    {
     "data": {
      "application/vnd.jupyter.widget-view+json": {
       "model_id": "",
       "version_major": 2,
       "version_minor": 0
      },
      "text/plain": [
       "HBox(children=(HTML(value='n_features loop'), FloatProgress(value=0.0, max=2.0), HTML(value='')))"
      ]
     },
     "metadata": {},
     "output_type": "display_data"
    },
    {
     "data": {
      "application/vnd.jupyter.widget-view+json": {
       "model_id": "",
       "version_major": 2,
       "version_minor": 0
      },
      "text/plain": [
       "HBox(children=(HTML(value='n_features loop'), FloatProgress(value=0.0, max=2.0), HTML(value='')))"
      ]
     },
     "metadata": {},
     "output_type": "display_data"
    },
    {
     "data": {
      "application/vnd.jupyter.widget-view+json": {
       "model_id": "",
       "version_major": 2,
       "version_minor": 0
      },
      "text/plain": [
       "HBox(children=(HTML(value='Est loop'), FloatProgress(value=0.0, max=10.0), HTML(value='')))"
      ]
     },
     "metadata": {},
     "output_type": "display_data"
    },
    {
     "data": {
      "application/vnd.jupyter.widget-view+json": {
       "model_id": "",
       "version_major": 2,
       "version_minor": 0
      },
      "text/plain": [
       "HBox(children=(HTML(value='n_features loop'), FloatProgress(value=0.0, max=2.0), HTML(value='')))"
      ]
     },
     "metadata": {},
     "output_type": "display_data"
    },
    {
     "data": {
      "application/vnd.jupyter.widget-view+json": {
       "model_id": "",
       "version_major": 2,
       "version_minor": 0
      },
      "text/plain": [
       "HBox(children=(HTML(value='n_features loop'), FloatProgress(value=0.0, max=2.0), HTML(value='')))"
      ]
     },
     "metadata": {},
     "output_type": "display_data"
    },
    {
     "data": {
      "application/vnd.jupyter.widget-view+json": {
       "model_id": "",
       "version_major": 2,
       "version_minor": 0
      },
      "text/plain": [
       "HBox(children=(HTML(value='n_features loop'), FloatProgress(value=0.0, max=2.0), HTML(value='')))"
      ]
     },
     "metadata": {},
     "output_type": "display_data"
    },
    {
     "data": {
      "application/vnd.jupyter.widget-view+json": {
       "model_id": "",
       "version_major": 2,
       "version_minor": 0
      },
      "text/plain": [
       "HBox(children=(HTML(value='n_features loop'), FloatProgress(value=0.0, max=2.0), HTML(value='')))"
      ]
     },
     "metadata": {},
     "output_type": "display_data"
    },
    {
     "data": {
      "application/vnd.jupyter.widget-view+json": {
       "model_id": "",
       "version_major": 2,
       "version_minor": 0
      },
      "text/plain": [
       "HBox(children=(HTML(value='n_features loop'), FloatProgress(value=0.0, max=2.0), HTML(value='')))"
      ]
     },
     "metadata": {},
     "output_type": "display_data"
    },
    {
     "data": {
      "application/vnd.jupyter.widget-view+json": {
       "model_id": "",
       "version_major": 2,
       "version_minor": 0
      },
      "text/plain": [
       "HBox(children=(HTML(value='n_features loop'), FloatProgress(value=0.0, max=2.0), HTML(value='')))"
      ]
     },
     "metadata": {},
     "output_type": "display_data"
    },
    {
     "data": {
      "application/vnd.jupyter.widget-view+json": {
       "model_id": "",
       "version_major": 2,
       "version_minor": 0
      },
      "text/plain": [
       "HBox(children=(HTML(value='n_features loop'), FloatProgress(value=0.0, max=2.0), HTML(value='')))"
      ]
     },
     "metadata": {},
     "output_type": "display_data"
    },
    {
     "data": {
      "application/vnd.jupyter.widget-view+json": {
       "model_id": "",
       "version_major": 2,
       "version_minor": 0
      },
      "text/plain": [
       "HBox(children=(HTML(value='n_features loop'), FloatProgress(value=0.0, max=2.0), HTML(value='')))"
      ]
     },
     "metadata": {},
     "output_type": "display_data"
    },
    {
     "data": {
      "application/vnd.jupyter.widget-view+json": {
       "model_id": "",
       "version_major": 2,
       "version_minor": 0
      },
      "text/plain": [
       "HBox(children=(HTML(value='n_features loop'), FloatProgress(value=0.0, max=2.0), HTML(value='')))"
      ]
     },
     "metadata": {},
     "output_type": "display_data"
    },
    {
     "data": {
      "application/vnd.jupyter.widget-view+json": {
       "model_id": "",
       "version_major": 2,
       "version_minor": 0
      },
      "text/plain": [
       "HBox(children=(HTML(value='n_features loop'), FloatProgress(value=0.0, max=2.0), HTML(value='')))"
      ]
     },
     "metadata": {},
     "output_type": "display_data"
    },
    {
     "data": {
      "application/vnd.jupyter.widget-view+json": {
       "model_id": "",
       "version_major": 2,
       "version_minor": 0
      },
      "text/plain": [
       "HBox(children=(HTML(value='Est loop'), FloatProgress(value=0.0, max=10.0), HTML(value='')))"
      ]
     },
     "metadata": {},
     "output_type": "display_data"
    },
    {
     "data": {
      "application/vnd.jupyter.widget-view+json": {
       "model_id": "",
       "version_major": 2,
       "version_minor": 0
      },
      "text/plain": [
       "HBox(children=(HTML(value='n_features loop'), FloatProgress(value=0.0, max=2.0), HTML(value='')))"
      ]
     },
     "metadata": {},
     "output_type": "display_data"
    },
    {
     "data": {
      "application/vnd.jupyter.widget-view+json": {
       "model_id": "",
       "version_major": 2,
       "version_minor": 0
      },
      "text/plain": [
       "HBox(children=(HTML(value='n_features loop'), FloatProgress(value=0.0, max=2.0), HTML(value='')))"
      ]
     },
     "metadata": {},
     "output_type": "display_data"
    },
    {
     "data": {
      "application/vnd.jupyter.widget-view+json": {
       "model_id": "",
       "version_major": 2,
       "version_minor": 0
      },
      "text/plain": [
       "HBox(children=(HTML(value='n_features loop'), FloatProgress(value=0.0, max=2.0), HTML(value='')))"
      ]
     },
     "metadata": {},
     "output_type": "display_data"
    },
    {
     "data": {
      "application/vnd.jupyter.widget-view+json": {
       "model_id": "",
       "version_major": 2,
       "version_minor": 0
      },
      "text/plain": [
       "HBox(children=(HTML(value='n_features loop'), FloatProgress(value=0.0, max=2.0), HTML(value='')))"
      ]
     },
     "metadata": {},
     "output_type": "display_data"
    },
    {
     "data": {
      "application/vnd.jupyter.widget-view+json": {
       "model_id": "",
       "version_major": 2,
       "version_minor": 0
      },
      "text/plain": [
       "HBox(children=(HTML(value='n_features loop'), FloatProgress(value=0.0, max=2.0), HTML(value='')))"
      ]
     },
     "metadata": {},
     "output_type": "display_data"
    },
    {
     "data": {
      "application/vnd.jupyter.widget-view+json": {
       "model_id": "",
       "version_major": 2,
       "version_minor": 0
      },
      "text/plain": [
       "HBox(children=(HTML(value='n_features loop'), FloatProgress(value=0.0, max=2.0), HTML(value='')))"
      ]
     },
     "metadata": {},
     "output_type": "display_data"
    },
    {
     "data": {
      "application/vnd.jupyter.widget-view+json": {
       "model_id": "",
       "version_major": 2,
       "version_minor": 0
      },
      "text/plain": [
       "HBox(children=(HTML(value='n_features loop'), FloatProgress(value=0.0, max=2.0), HTML(value='')))"
      ]
     },
     "metadata": {},
     "output_type": "display_data"
    },
    {
     "data": {
      "application/vnd.jupyter.widget-view+json": {
       "model_id": "",
       "version_major": 2,
       "version_minor": 0
      },
      "text/plain": [
       "HBox(children=(HTML(value='n_features loop'), FloatProgress(value=0.0, max=2.0), HTML(value='')))"
      ]
     },
     "metadata": {},
     "output_type": "display_data"
    },
    {
     "data": {
      "application/vnd.jupyter.widget-view+json": {
       "model_id": "",
       "version_major": 2,
       "version_minor": 0
      },
      "text/plain": [
       "HBox(children=(HTML(value='n_features loop'), FloatProgress(value=0.0, max=2.0), HTML(value='')))"
      ]
     },
     "metadata": {},
     "output_type": "display_data"
    },
    {
     "data": {
      "application/vnd.jupyter.widget-view+json": {
       "model_id": "",
       "version_major": 2,
       "version_minor": 0
      },
      "text/plain": [
       "HBox(children=(HTML(value='n_features loop'), FloatProgress(value=0.0, max=2.0), HTML(value='')))"
      ]
     },
     "metadata": {},
     "output_type": "display_data"
    },
    {
     "data": {
      "application/vnd.jupyter.widget-view+json": {
       "model_id": "",
       "version_major": 2,
       "version_minor": 0
      },
      "text/plain": [
       "HBox(children=(HTML(value='Est loop'), FloatProgress(value=0.0, max=10.0), HTML(value='')))"
      ]
     },
     "metadata": {},
     "output_type": "display_data"
    },
    {
     "data": {
      "application/vnd.jupyter.widget-view+json": {
       "model_id": "",
       "version_major": 2,
       "version_minor": 0
      },
      "text/plain": [
       "HBox(children=(HTML(value='n_features loop'), FloatProgress(value=0.0, max=2.0), HTML(value='')))"
      ]
     },
     "metadata": {},
     "output_type": "display_data"
    },
    {
     "data": {
      "application/vnd.jupyter.widget-view+json": {
       "model_id": "",
       "version_major": 2,
       "version_minor": 0
      },
      "text/plain": [
       "HBox(children=(HTML(value='n_features loop'), FloatProgress(value=0.0, max=2.0), HTML(value='')))"
      ]
     },
     "metadata": {},
     "output_type": "display_data"
    },
    {
     "data": {
      "application/vnd.jupyter.widget-view+json": {
       "model_id": "",
       "version_major": 2,
       "version_minor": 0
      },
      "text/plain": [
       "HBox(children=(HTML(value='n_features loop'), FloatProgress(value=0.0, max=2.0), HTML(value='')))"
      ]
     },
     "metadata": {},
     "output_type": "display_data"
    },
    {
     "data": {
      "application/vnd.jupyter.widget-view+json": {
       "model_id": "",
       "version_major": 2,
       "version_minor": 0
      },
      "text/plain": [
       "HBox(children=(HTML(value='n_features loop'), FloatProgress(value=0.0, max=2.0), HTML(value='')))"
      ]
     },
     "metadata": {},
     "output_type": "display_data"
    },
    {
     "data": {
      "application/vnd.jupyter.widget-view+json": {
       "model_id": "",
       "version_major": 2,
       "version_minor": 0
      },
      "text/plain": [
       "HBox(children=(HTML(value='n_features loop'), FloatProgress(value=0.0, max=2.0), HTML(value='')))"
      ]
     },
     "metadata": {},
     "output_type": "display_data"
    },
    {
     "data": {
      "application/vnd.jupyter.widget-view+json": {
       "model_id": "",
       "version_major": 2,
       "version_minor": 0
      },
      "text/plain": [
       "HBox(children=(HTML(value='n_features loop'), FloatProgress(value=0.0, max=2.0), HTML(value='')))"
      ]
     },
     "metadata": {},
     "output_type": "display_data"
    },
    {
     "data": {
      "application/vnd.jupyter.widget-view+json": {
       "model_id": "",
       "version_major": 2,
       "version_minor": 0
      },
      "text/plain": [
       "HBox(children=(HTML(value='n_features loop'), FloatProgress(value=0.0, max=2.0), HTML(value='')))"
      ]
     },
     "metadata": {},
     "output_type": "display_data"
    },
    {
     "data": {
      "application/vnd.jupyter.widget-view+json": {
       "model_id": "",
       "version_major": 2,
       "version_minor": 0
      },
      "text/plain": [
       "HBox(children=(HTML(value='n_features loop'), FloatProgress(value=0.0, max=2.0), HTML(value='')))"
      ]
     },
     "metadata": {},
     "output_type": "display_data"
    },
    {
     "data": {
      "application/vnd.jupyter.widget-view+json": {
       "model_id": "",
       "version_major": 2,
       "version_minor": 0
      },
      "text/plain": [
       "HBox(children=(HTML(value='n_features loop'), FloatProgress(value=0.0, max=2.0), HTML(value='')))"
      ]
     },
     "metadata": {},
     "output_type": "display_data"
    },
    {
     "data": {
      "application/vnd.jupyter.widget-view+json": {
       "model_id": "",
       "version_major": 2,
       "version_minor": 0
      },
      "text/plain": [
       "HBox(children=(HTML(value='n_features loop'), FloatProgress(value=0.0, max=2.0), HTML(value='')))"
      ]
     },
     "metadata": {},
     "output_type": "display_data"
    },
    {
     "name": "stdout",
     "output_type": "stream",
     "text": [
      "\n"
     ]
    }
   ],
   "source": [
    "best_model_tree = None\n",
    "best_result_tree = 0\n",
    "for depth in tqdm(range(1, 15), desc='Depth loop'):\n",
    "    for n_est in tqdm(range(10, 101, 10), desc='Est loop', leave=False):\n",
    "        for n_features in tqdm(['log2', 'sqrt'], desc='n_features loop', leave=False):\n",
    "            model_RandomForest = RandomForestClassifier(random_state=5, n_estimators=n_est, max_features=n_features, max_depth=depth)\n",
    "            model_RandomForest.fit(features_upsampled, target_upsampled) \n",
    "            valid_predictions_tree = model_RandomForest.predict(features_valid) \n",
    "            result = model_RandomForest.score(features_valid, target_valid)    \n",
    "            if result > best_result_tree:\n",
    "                best_model_tree = model_RandomForest\n",
    "                best_result_tree = result"
   ]
  },
  {
   "cell_type": "code",
   "execution_count": 51,
   "metadata": {},
   "outputs": [],
   "source": [
    "probabilities_valid = model_RandomForest.predict_proba(features_valid)\n",
    "probabilities_one_valid = probabilities_valid[:, 1]"
   ]
  },
  {
   "cell_type": "code",
   "execution_count": 52,
   "metadata": {},
   "outputs": [
    {
     "name": "stdout",
     "output_type": "stream",
     "text": [
      "AUC ROC: 0.8583143668316948\n",
      "0.608695652173913\n",
      "Параметры лучшей модели:\n",
      "RandomForestClassifier(bootstrap=True, class_weight=None, criterion='gini',\n",
      "                       max_depth=13, max_features='log2', max_leaf_nodes=None,\n",
      "                       min_impurity_decrease=0.0, min_impurity_split=None,\n",
      "                       min_samples_leaf=1, min_samples_split=2,\n",
      "                       min_weight_fraction_leaf=0.0, n_estimators=60,\n",
      "                       n_jobs=None, oob_score=False, random_state=5, verbose=0,\n",
      "                       warm_start=False)\n"
     ]
    }
   ],
   "source": [
    "print(\"AUC ROC:\", roc_auc_score(target_valid, probabilities_one_valid))\n",
    "print(f1_score(target_valid, valid_predictions_tree))\n",
    "print (\"Параметры лучшей модели:\", best_model_tree, sep='\\n')"
   ]
  },
  {
   "cell_type": "code",
   "execution_count": 53,
   "metadata": {},
   "outputs": [
    {
     "data": {
      "application/vnd.jupyter.widget-view+json": {
       "model_id": "16b472e471544e8a8bce4f66768bc311",
       "version_major": 2,
       "version_minor": 0
      },
      "text/plain": [
       "HBox(children=(HTML(value='Depth loop'), FloatProgress(value=0.0, max=14.0), HTML(value='')))"
      ]
     },
     "metadata": {},
     "output_type": "display_data"
    },
    {
     "data": {
      "application/vnd.jupyter.widget-view+json": {
       "model_id": "",
       "version_major": 2,
       "version_minor": 0
      },
      "text/plain": [
       "HBox(children=(HTML(value='Est loop'), FloatProgress(value=0.0, max=10.0), HTML(value='')))"
      ]
     },
     "metadata": {},
     "output_type": "display_data"
    },
    {
     "data": {
      "application/vnd.jupyter.widget-view+json": {
       "model_id": "",
       "version_major": 2,
       "version_minor": 0
      },
      "text/plain": [
       "HBox(children=(HTML(value='n_features loop'), FloatProgress(value=0.0, max=2.0), HTML(value='')))"
      ]
     },
     "metadata": {},
     "output_type": "display_data"
    },
    {
     "data": {
      "application/vnd.jupyter.widget-view+json": {
       "model_id": "",
       "version_major": 2,
       "version_minor": 0
      },
      "text/plain": [
       "HBox(children=(HTML(value='n_features loop'), FloatProgress(value=0.0, max=2.0), HTML(value='')))"
      ]
     },
     "metadata": {},
     "output_type": "display_data"
    },
    {
     "data": {
      "application/vnd.jupyter.widget-view+json": {
       "model_id": "",
       "version_major": 2,
       "version_minor": 0
      },
      "text/plain": [
       "HBox(children=(HTML(value='n_features loop'), FloatProgress(value=0.0, max=2.0), HTML(value='')))"
      ]
     },
     "metadata": {},
     "output_type": "display_data"
    },
    {
     "data": {
      "application/vnd.jupyter.widget-view+json": {
       "model_id": "",
       "version_major": 2,
       "version_minor": 0
      },
      "text/plain": [
       "HBox(children=(HTML(value='n_features loop'), FloatProgress(value=0.0, max=2.0), HTML(value='')))"
      ]
     },
     "metadata": {},
     "output_type": "display_data"
    },
    {
     "data": {
      "application/vnd.jupyter.widget-view+json": {
       "model_id": "",
       "version_major": 2,
       "version_minor": 0
      },
      "text/plain": [
       "HBox(children=(HTML(value='n_features loop'), FloatProgress(value=0.0, max=2.0), HTML(value='')))"
      ]
     },
     "metadata": {},
     "output_type": "display_data"
    },
    {
     "data": {
      "application/vnd.jupyter.widget-view+json": {
       "model_id": "",
       "version_major": 2,
       "version_minor": 0
      },
      "text/plain": [
       "HBox(children=(HTML(value='n_features loop'), FloatProgress(value=0.0, max=2.0), HTML(value='')))"
      ]
     },
     "metadata": {},
     "output_type": "display_data"
    },
    {
     "data": {
      "application/vnd.jupyter.widget-view+json": {
       "model_id": "",
       "version_major": 2,
       "version_minor": 0
      },
      "text/plain": [
       "HBox(children=(HTML(value='n_features loop'), FloatProgress(value=0.0, max=2.0), HTML(value='')))"
      ]
     },
     "metadata": {},
     "output_type": "display_data"
    },
    {
     "data": {
      "application/vnd.jupyter.widget-view+json": {
       "model_id": "",
       "version_major": 2,
       "version_minor": 0
      },
      "text/plain": [
       "HBox(children=(HTML(value='n_features loop'), FloatProgress(value=0.0, max=2.0), HTML(value='')))"
      ]
     },
     "metadata": {},
     "output_type": "display_data"
    },
    {
     "data": {
      "application/vnd.jupyter.widget-view+json": {
       "model_id": "",
       "version_major": 2,
       "version_minor": 0
      },
      "text/plain": [
       "HBox(children=(HTML(value='n_features loop'), FloatProgress(value=0.0, max=2.0), HTML(value='')))"
      ]
     },
     "metadata": {},
     "output_type": "display_data"
    },
    {
     "data": {
      "application/vnd.jupyter.widget-view+json": {
       "model_id": "",
       "version_major": 2,
       "version_minor": 0
      },
      "text/plain": [
       "HBox(children=(HTML(value='n_features loop'), FloatProgress(value=0.0, max=2.0), HTML(value='')))"
      ]
     },
     "metadata": {},
     "output_type": "display_data"
    },
    {
     "data": {
      "application/vnd.jupyter.widget-view+json": {
       "model_id": "",
       "version_major": 2,
       "version_minor": 0
      },
      "text/plain": [
       "HBox(children=(HTML(value='Est loop'), FloatProgress(value=0.0, max=10.0), HTML(value='')))"
      ]
     },
     "metadata": {},
     "output_type": "display_data"
    },
    {
     "data": {
      "application/vnd.jupyter.widget-view+json": {
       "model_id": "",
       "version_major": 2,
       "version_minor": 0
      },
      "text/plain": [
       "HBox(children=(HTML(value='n_features loop'), FloatProgress(value=0.0, max=2.0), HTML(value='')))"
      ]
     },
     "metadata": {},
     "output_type": "display_data"
    },
    {
     "data": {
      "application/vnd.jupyter.widget-view+json": {
       "model_id": "",
       "version_major": 2,
       "version_minor": 0
      },
      "text/plain": [
       "HBox(children=(HTML(value='n_features loop'), FloatProgress(value=0.0, max=2.0), HTML(value='')))"
      ]
     },
     "metadata": {},
     "output_type": "display_data"
    },
    {
     "data": {
      "application/vnd.jupyter.widget-view+json": {
       "model_id": "",
       "version_major": 2,
       "version_minor": 0
      },
      "text/plain": [
       "HBox(children=(HTML(value='n_features loop'), FloatProgress(value=0.0, max=2.0), HTML(value='')))"
      ]
     },
     "metadata": {},
     "output_type": "display_data"
    },
    {
     "data": {
      "application/vnd.jupyter.widget-view+json": {
       "model_id": "",
       "version_major": 2,
       "version_minor": 0
      },
      "text/plain": [
       "HBox(children=(HTML(value='n_features loop'), FloatProgress(value=0.0, max=2.0), HTML(value='')))"
      ]
     },
     "metadata": {},
     "output_type": "display_data"
    },
    {
     "data": {
      "application/vnd.jupyter.widget-view+json": {
       "model_id": "",
       "version_major": 2,
       "version_minor": 0
      },
      "text/plain": [
       "HBox(children=(HTML(value='n_features loop'), FloatProgress(value=0.0, max=2.0), HTML(value='')))"
      ]
     },
     "metadata": {},
     "output_type": "display_data"
    },
    {
     "data": {
      "application/vnd.jupyter.widget-view+json": {
       "model_id": "",
       "version_major": 2,
       "version_minor": 0
      },
      "text/plain": [
       "HBox(children=(HTML(value='n_features loop'), FloatProgress(value=0.0, max=2.0), HTML(value='')))"
      ]
     },
     "metadata": {},
     "output_type": "display_data"
    },
    {
     "data": {
      "application/vnd.jupyter.widget-view+json": {
       "model_id": "",
       "version_major": 2,
       "version_minor": 0
      },
      "text/plain": [
       "HBox(children=(HTML(value='n_features loop'), FloatProgress(value=0.0, max=2.0), HTML(value='')))"
      ]
     },
     "metadata": {},
     "output_type": "display_data"
    },
    {
     "data": {
      "application/vnd.jupyter.widget-view+json": {
       "model_id": "",
       "version_major": 2,
       "version_minor": 0
      },
      "text/plain": [
       "HBox(children=(HTML(value='n_features loop'), FloatProgress(value=0.0, max=2.0), HTML(value='')))"
      ]
     },
     "metadata": {},
     "output_type": "display_data"
    },
    {
     "data": {
      "application/vnd.jupyter.widget-view+json": {
       "model_id": "",
       "version_major": 2,
       "version_minor": 0
      },
      "text/plain": [
       "HBox(children=(HTML(value='n_features loop'), FloatProgress(value=0.0, max=2.0), HTML(value='')))"
      ]
     },
     "metadata": {},
     "output_type": "display_data"
    },
    {
     "data": {
      "application/vnd.jupyter.widget-view+json": {
       "model_id": "",
       "version_major": 2,
       "version_minor": 0
      },
      "text/plain": [
       "HBox(children=(HTML(value='n_features loop'), FloatProgress(value=0.0, max=2.0), HTML(value='')))"
      ]
     },
     "metadata": {},
     "output_type": "display_data"
    },
    {
     "data": {
      "application/vnd.jupyter.widget-view+json": {
       "model_id": "",
       "version_major": 2,
       "version_minor": 0
      },
      "text/plain": [
       "HBox(children=(HTML(value='Est loop'), FloatProgress(value=0.0, max=10.0), HTML(value='')))"
      ]
     },
     "metadata": {},
     "output_type": "display_data"
    },
    {
     "data": {
      "application/vnd.jupyter.widget-view+json": {
       "model_id": "",
       "version_major": 2,
       "version_minor": 0
      },
      "text/plain": [
       "HBox(children=(HTML(value='n_features loop'), FloatProgress(value=0.0, max=2.0), HTML(value='')))"
      ]
     },
     "metadata": {},
     "output_type": "display_data"
    },
    {
     "data": {
      "application/vnd.jupyter.widget-view+json": {
       "model_id": "",
       "version_major": 2,
       "version_minor": 0
      },
      "text/plain": [
       "HBox(children=(HTML(value='n_features loop'), FloatProgress(value=0.0, max=2.0), HTML(value='')))"
      ]
     },
     "metadata": {},
     "output_type": "display_data"
    },
    {
     "data": {
      "application/vnd.jupyter.widget-view+json": {
       "model_id": "",
       "version_major": 2,
       "version_minor": 0
      },
      "text/plain": [
       "HBox(children=(HTML(value='n_features loop'), FloatProgress(value=0.0, max=2.0), HTML(value='')))"
      ]
     },
     "metadata": {},
     "output_type": "display_data"
    },
    {
     "data": {
      "application/vnd.jupyter.widget-view+json": {
       "model_id": "",
       "version_major": 2,
       "version_minor": 0
      },
      "text/plain": [
       "HBox(children=(HTML(value='n_features loop'), FloatProgress(value=0.0, max=2.0), HTML(value='')))"
      ]
     },
     "metadata": {},
     "output_type": "display_data"
    },
    {
     "data": {
      "application/vnd.jupyter.widget-view+json": {
       "model_id": "",
       "version_major": 2,
       "version_minor": 0
      },
      "text/plain": [
       "HBox(children=(HTML(value='n_features loop'), FloatProgress(value=0.0, max=2.0), HTML(value='')))"
      ]
     },
     "metadata": {},
     "output_type": "display_data"
    },
    {
     "data": {
      "application/vnd.jupyter.widget-view+json": {
       "model_id": "",
       "version_major": 2,
       "version_minor": 0
      },
      "text/plain": [
       "HBox(children=(HTML(value='n_features loop'), FloatProgress(value=0.0, max=2.0), HTML(value='')))"
      ]
     },
     "metadata": {},
     "output_type": "display_data"
    },
    {
     "data": {
      "application/vnd.jupyter.widget-view+json": {
       "model_id": "",
       "version_major": 2,
       "version_minor": 0
      },
      "text/plain": [
       "HBox(children=(HTML(value='n_features loop'), FloatProgress(value=0.0, max=2.0), HTML(value='')))"
      ]
     },
     "metadata": {},
     "output_type": "display_data"
    },
    {
     "data": {
      "application/vnd.jupyter.widget-view+json": {
       "model_id": "",
       "version_major": 2,
       "version_minor": 0
      },
      "text/plain": [
       "HBox(children=(HTML(value='n_features loop'), FloatProgress(value=0.0, max=2.0), HTML(value='')))"
      ]
     },
     "metadata": {},
     "output_type": "display_data"
    },
    {
     "data": {
      "application/vnd.jupyter.widget-view+json": {
       "model_id": "",
       "version_major": 2,
       "version_minor": 0
      },
      "text/plain": [
       "HBox(children=(HTML(value='n_features loop'), FloatProgress(value=0.0, max=2.0), HTML(value='')))"
      ]
     },
     "metadata": {},
     "output_type": "display_data"
    },
    {
     "data": {
      "application/vnd.jupyter.widget-view+json": {
       "model_id": "",
       "version_major": 2,
       "version_minor": 0
      },
      "text/plain": [
       "HBox(children=(HTML(value='n_features loop'), FloatProgress(value=0.0, max=2.0), HTML(value='')))"
      ]
     },
     "metadata": {},
     "output_type": "display_data"
    },
    {
     "data": {
      "application/vnd.jupyter.widget-view+json": {
       "model_id": "",
       "version_major": 2,
       "version_minor": 0
      },
      "text/plain": [
       "HBox(children=(HTML(value='Est loop'), FloatProgress(value=0.0, max=10.0), HTML(value='')))"
      ]
     },
     "metadata": {},
     "output_type": "display_data"
    },
    {
     "data": {
      "application/vnd.jupyter.widget-view+json": {
       "model_id": "",
       "version_major": 2,
       "version_minor": 0
      },
      "text/plain": [
       "HBox(children=(HTML(value='n_features loop'), FloatProgress(value=0.0, max=2.0), HTML(value='')))"
      ]
     },
     "metadata": {},
     "output_type": "display_data"
    },
    {
     "data": {
      "application/vnd.jupyter.widget-view+json": {
       "model_id": "",
       "version_major": 2,
       "version_minor": 0
      },
      "text/plain": [
       "HBox(children=(HTML(value='n_features loop'), FloatProgress(value=0.0, max=2.0), HTML(value='')))"
      ]
     },
     "metadata": {},
     "output_type": "display_data"
    },
    {
     "data": {
      "application/vnd.jupyter.widget-view+json": {
       "model_id": "",
       "version_major": 2,
       "version_minor": 0
      },
      "text/plain": [
       "HBox(children=(HTML(value='n_features loop'), FloatProgress(value=0.0, max=2.0), HTML(value='')))"
      ]
     },
     "metadata": {},
     "output_type": "display_data"
    },
    {
     "data": {
      "application/vnd.jupyter.widget-view+json": {
       "model_id": "",
       "version_major": 2,
       "version_minor": 0
      },
      "text/plain": [
       "HBox(children=(HTML(value='n_features loop'), FloatProgress(value=0.0, max=2.0), HTML(value='')))"
      ]
     },
     "metadata": {},
     "output_type": "display_data"
    },
    {
     "data": {
      "application/vnd.jupyter.widget-view+json": {
       "model_id": "",
       "version_major": 2,
       "version_minor": 0
      },
      "text/plain": [
       "HBox(children=(HTML(value='n_features loop'), FloatProgress(value=0.0, max=2.0), HTML(value='')))"
      ]
     },
     "metadata": {},
     "output_type": "display_data"
    },
    {
     "data": {
      "application/vnd.jupyter.widget-view+json": {
       "model_id": "",
       "version_major": 2,
       "version_minor": 0
      },
      "text/plain": [
       "HBox(children=(HTML(value='n_features loop'), FloatProgress(value=0.0, max=2.0), HTML(value='')))"
      ]
     },
     "metadata": {},
     "output_type": "display_data"
    },
    {
     "data": {
      "application/vnd.jupyter.widget-view+json": {
       "model_id": "",
       "version_major": 2,
       "version_minor": 0
      },
      "text/plain": [
       "HBox(children=(HTML(value='n_features loop'), FloatProgress(value=0.0, max=2.0), HTML(value='')))"
      ]
     },
     "metadata": {},
     "output_type": "display_data"
    },
    {
     "data": {
      "application/vnd.jupyter.widget-view+json": {
       "model_id": "",
       "version_major": 2,
       "version_minor": 0
      },
      "text/plain": [
       "HBox(children=(HTML(value='n_features loop'), FloatProgress(value=0.0, max=2.0), HTML(value='')))"
      ]
     },
     "metadata": {},
     "output_type": "display_data"
    },
    {
     "data": {
      "application/vnd.jupyter.widget-view+json": {
       "model_id": "",
       "version_major": 2,
       "version_minor": 0
      },
      "text/plain": [
       "HBox(children=(HTML(value='n_features loop'), FloatProgress(value=0.0, max=2.0), HTML(value='')))"
      ]
     },
     "metadata": {},
     "output_type": "display_data"
    },
    {
     "data": {
      "application/vnd.jupyter.widget-view+json": {
       "model_id": "",
       "version_major": 2,
       "version_minor": 0
      },
      "text/plain": [
       "HBox(children=(HTML(value='n_features loop'), FloatProgress(value=0.0, max=2.0), HTML(value='')))"
      ]
     },
     "metadata": {},
     "output_type": "display_data"
    },
    {
     "data": {
      "application/vnd.jupyter.widget-view+json": {
       "model_id": "",
       "version_major": 2,
       "version_minor": 0
      },
      "text/plain": [
       "HBox(children=(HTML(value='Est loop'), FloatProgress(value=0.0, max=10.0), HTML(value='')))"
      ]
     },
     "metadata": {},
     "output_type": "display_data"
    },
    {
     "data": {
      "application/vnd.jupyter.widget-view+json": {
       "model_id": "",
       "version_major": 2,
       "version_minor": 0
      },
      "text/plain": [
       "HBox(children=(HTML(value='n_features loop'), FloatProgress(value=0.0, max=2.0), HTML(value='')))"
      ]
     },
     "metadata": {},
     "output_type": "display_data"
    },
    {
     "data": {
      "application/vnd.jupyter.widget-view+json": {
       "model_id": "",
       "version_major": 2,
       "version_minor": 0
      },
      "text/plain": [
       "HBox(children=(HTML(value='n_features loop'), FloatProgress(value=0.0, max=2.0), HTML(value='')))"
      ]
     },
     "metadata": {},
     "output_type": "display_data"
    },
    {
     "data": {
      "application/vnd.jupyter.widget-view+json": {
       "model_id": "",
       "version_major": 2,
       "version_minor": 0
      },
      "text/plain": [
       "HBox(children=(HTML(value='n_features loop'), FloatProgress(value=0.0, max=2.0), HTML(value='')))"
      ]
     },
     "metadata": {},
     "output_type": "display_data"
    },
    {
     "data": {
      "application/vnd.jupyter.widget-view+json": {
       "model_id": "",
       "version_major": 2,
       "version_minor": 0
      },
      "text/plain": [
       "HBox(children=(HTML(value='n_features loop'), FloatProgress(value=0.0, max=2.0), HTML(value='')))"
      ]
     },
     "metadata": {},
     "output_type": "display_data"
    },
    {
     "data": {
      "application/vnd.jupyter.widget-view+json": {
       "model_id": "",
       "version_major": 2,
       "version_minor": 0
      },
      "text/plain": [
       "HBox(children=(HTML(value='n_features loop'), FloatProgress(value=0.0, max=2.0), HTML(value='')))"
      ]
     },
     "metadata": {},
     "output_type": "display_data"
    },
    {
     "data": {
      "application/vnd.jupyter.widget-view+json": {
       "model_id": "",
       "version_major": 2,
       "version_minor": 0
      },
      "text/plain": [
       "HBox(children=(HTML(value='n_features loop'), FloatProgress(value=0.0, max=2.0), HTML(value='')))"
      ]
     },
     "metadata": {},
     "output_type": "display_data"
    },
    {
     "data": {
      "application/vnd.jupyter.widget-view+json": {
       "model_id": "",
       "version_major": 2,
       "version_minor": 0
      },
      "text/plain": [
       "HBox(children=(HTML(value='n_features loop'), FloatProgress(value=0.0, max=2.0), HTML(value='')))"
      ]
     },
     "metadata": {},
     "output_type": "display_data"
    },
    {
     "data": {
      "application/vnd.jupyter.widget-view+json": {
       "model_id": "",
       "version_major": 2,
       "version_minor": 0
      },
      "text/plain": [
       "HBox(children=(HTML(value='n_features loop'), FloatProgress(value=0.0, max=2.0), HTML(value='')))"
      ]
     },
     "metadata": {},
     "output_type": "display_data"
    },
    {
     "data": {
      "application/vnd.jupyter.widget-view+json": {
       "model_id": "",
       "version_major": 2,
       "version_minor": 0
      },
      "text/plain": [
       "HBox(children=(HTML(value='n_features loop'), FloatProgress(value=0.0, max=2.0), HTML(value='')))"
      ]
     },
     "metadata": {},
     "output_type": "display_data"
    },
    {
     "data": {
      "application/vnd.jupyter.widget-view+json": {
       "model_id": "",
       "version_major": 2,
       "version_minor": 0
      },
      "text/plain": [
       "HBox(children=(HTML(value='n_features loop'), FloatProgress(value=0.0, max=2.0), HTML(value='')))"
      ]
     },
     "metadata": {},
     "output_type": "display_data"
    },
    {
     "data": {
      "application/vnd.jupyter.widget-view+json": {
       "model_id": "",
       "version_major": 2,
       "version_minor": 0
      },
      "text/plain": [
       "HBox(children=(HTML(value='Est loop'), FloatProgress(value=0.0, max=10.0), HTML(value='')))"
      ]
     },
     "metadata": {},
     "output_type": "display_data"
    },
    {
     "data": {
      "application/vnd.jupyter.widget-view+json": {
       "model_id": "",
       "version_major": 2,
       "version_minor": 0
      },
      "text/plain": [
       "HBox(children=(HTML(value='n_features loop'), FloatProgress(value=0.0, max=2.0), HTML(value='')))"
      ]
     },
     "metadata": {},
     "output_type": "display_data"
    },
    {
     "data": {
      "application/vnd.jupyter.widget-view+json": {
       "model_id": "",
       "version_major": 2,
       "version_minor": 0
      },
      "text/plain": [
       "HBox(children=(HTML(value='n_features loop'), FloatProgress(value=0.0, max=2.0), HTML(value='')))"
      ]
     },
     "metadata": {},
     "output_type": "display_data"
    },
    {
     "data": {
      "application/vnd.jupyter.widget-view+json": {
       "model_id": "",
       "version_major": 2,
       "version_minor": 0
      },
      "text/plain": [
       "HBox(children=(HTML(value='n_features loop'), FloatProgress(value=0.0, max=2.0), HTML(value='')))"
      ]
     },
     "metadata": {},
     "output_type": "display_data"
    },
    {
     "data": {
      "application/vnd.jupyter.widget-view+json": {
       "model_id": "",
       "version_major": 2,
       "version_minor": 0
      },
      "text/plain": [
       "HBox(children=(HTML(value='n_features loop'), FloatProgress(value=0.0, max=2.0), HTML(value='')))"
      ]
     },
     "metadata": {},
     "output_type": "display_data"
    },
    {
     "data": {
      "application/vnd.jupyter.widget-view+json": {
       "model_id": "",
       "version_major": 2,
       "version_minor": 0
      },
      "text/plain": [
       "HBox(children=(HTML(value='n_features loop'), FloatProgress(value=0.0, max=2.0), HTML(value='')))"
      ]
     },
     "metadata": {},
     "output_type": "display_data"
    },
    {
     "data": {
      "application/vnd.jupyter.widget-view+json": {
       "model_id": "",
       "version_major": 2,
       "version_minor": 0
      },
      "text/plain": [
       "HBox(children=(HTML(value='n_features loop'), FloatProgress(value=0.0, max=2.0), HTML(value='')))"
      ]
     },
     "metadata": {},
     "output_type": "display_data"
    },
    {
     "data": {
      "application/vnd.jupyter.widget-view+json": {
       "model_id": "",
       "version_major": 2,
       "version_minor": 0
      },
      "text/plain": [
       "HBox(children=(HTML(value='n_features loop'), FloatProgress(value=0.0, max=2.0), HTML(value='')))"
      ]
     },
     "metadata": {},
     "output_type": "display_data"
    },
    {
     "data": {
      "application/vnd.jupyter.widget-view+json": {
       "model_id": "",
       "version_major": 2,
       "version_minor": 0
      },
      "text/plain": [
       "HBox(children=(HTML(value='n_features loop'), FloatProgress(value=0.0, max=2.0), HTML(value='')))"
      ]
     },
     "metadata": {},
     "output_type": "display_data"
    },
    {
     "data": {
      "application/vnd.jupyter.widget-view+json": {
       "model_id": "",
       "version_major": 2,
       "version_minor": 0
      },
      "text/plain": [
       "HBox(children=(HTML(value='n_features loop'), FloatProgress(value=0.0, max=2.0), HTML(value='')))"
      ]
     },
     "metadata": {},
     "output_type": "display_data"
    },
    {
     "data": {
      "application/vnd.jupyter.widget-view+json": {
       "model_id": "",
       "version_major": 2,
       "version_minor": 0
      },
      "text/plain": [
       "HBox(children=(HTML(value='n_features loop'), FloatProgress(value=0.0, max=2.0), HTML(value='')))"
      ]
     },
     "metadata": {},
     "output_type": "display_data"
    },
    {
     "data": {
      "application/vnd.jupyter.widget-view+json": {
       "model_id": "",
       "version_major": 2,
       "version_minor": 0
      },
      "text/plain": [
       "HBox(children=(HTML(value='Est loop'), FloatProgress(value=0.0, max=10.0), HTML(value='')))"
      ]
     },
     "metadata": {},
     "output_type": "display_data"
    },
    {
     "data": {
      "application/vnd.jupyter.widget-view+json": {
       "model_id": "",
       "version_major": 2,
       "version_minor": 0
      },
      "text/plain": [
       "HBox(children=(HTML(value='n_features loop'), FloatProgress(value=0.0, max=2.0), HTML(value='')))"
      ]
     },
     "metadata": {},
     "output_type": "display_data"
    },
    {
     "data": {
      "application/vnd.jupyter.widget-view+json": {
       "model_id": "",
       "version_major": 2,
       "version_minor": 0
      },
      "text/plain": [
       "HBox(children=(HTML(value='n_features loop'), FloatProgress(value=0.0, max=2.0), HTML(value='')))"
      ]
     },
     "metadata": {},
     "output_type": "display_data"
    },
    {
     "data": {
      "application/vnd.jupyter.widget-view+json": {
       "model_id": "",
       "version_major": 2,
       "version_minor": 0
      },
      "text/plain": [
       "HBox(children=(HTML(value='n_features loop'), FloatProgress(value=0.0, max=2.0), HTML(value='')))"
      ]
     },
     "metadata": {},
     "output_type": "display_data"
    },
    {
     "data": {
      "application/vnd.jupyter.widget-view+json": {
       "model_id": "",
       "version_major": 2,
       "version_minor": 0
      },
      "text/plain": [
       "HBox(children=(HTML(value='n_features loop'), FloatProgress(value=0.0, max=2.0), HTML(value='')))"
      ]
     },
     "metadata": {},
     "output_type": "display_data"
    },
    {
     "data": {
      "application/vnd.jupyter.widget-view+json": {
       "model_id": "",
       "version_major": 2,
       "version_minor": 0
      },
      "text/plain": [
       "HBox(children=(HTML(value='n_features loop'), FloatProgress(value=0.0, max=2.0), HTML(value='')))"
      ]
     },
     "metadata": {},
     "output_type": "display_data"
    },
    {
     "data": {
      "application/vnd.jupyter.widget-view+json": {
       "model_id": "",
       "version_major": 2,
       "version_minor": 0
      },
      "text/plain": [
       "HBox(children=(HTML(value='n_features loop'), FloatProgress(value=0.0, max=2.0), HTML(value='')))"
      ]
     },
     "metadata": {},
     "output_type": "display_data"
    },
    {
     "data": {
      "application/vnd.jupyter.widget-view+json": {
       "model_id": "",
       "version_major": 2,
       "version_minor": 0
      },
      "text/plain": [
       "HBox(children=(HTML(value='n_features loop'), FloatProgress(value=0.0, max=2.0), HTML(value='')))"
      ]
     },
     "metadata": {},
     "output_type": "display_data"
    },
    {
     "data": {
      "application/vnd.jupyter.widget-view+json": {
       "model_id": "",
       "version_major": 2,
       "version_minor": 0
      },
      "text/plain": [
       "HBox(children=(HTML(value='n_features loop'), FloatProgress(value=0.0, max=2.0), HTML(value='')))"
      ]
     },
     "metadata": {},
     "output_type": "display_data"
    },
    {
     "data": {
      "application/vnd.jupyter.widget-view+json": {
       "model_id": "",
       "version_major": 2,
       "version_minor": 0
      },
      "text/plain": [
       "HBox(children=(HTML(value='n_features loop'), FloatProgress(value=0.0, max=2.0), HTML(value='')))"
      ]
     },
     "metadata": {},
     "output_type": "display_data"
    },
    {
     "data": {
      "application/vnd.jupyter.widget-view+json": {
       "model_id": "",
       "version_major": 2,
       "version_minor": 0
      },
      "text/plain": [
       "HBox(children=(HTML(value='n_features loop'), FloatProgress(value=0.0, max=2.0), HTML(value='')))"
      ]
     },
     "metadata": {},
     "output_type": "display_data"
    },
    {
     "data": {
      "application/vnd.jupyter.widget-view+json": {
       "model_id": "",
       "version_major": 2,
       "version_minor": 0
      },
      "text/plain": [
       "HBox(children=(HTML(value='Est loop'), FloatProgress(value=0.0, max=10.0), HTML(value='')))"
      ]
     },
     "metadata": {},
     "output_type": "display_data"
    },
    {
     "data": {
      "application/vnd.jupyter.widget-view+json": {
       "model_id": "",
       "version_major": 2,
       "version_minor": 0
      },
      "text/plain": [
       "HBox(children=(HTML(value='n_features loop'), FloatProgress(value=0.0, max=2.0), HTML(value='')))"
      ]
     },
     "metadata": {},
     "output_type": "display_data"
    },
    {
     "data": {
      "application/vnd.jupyter.widget-view+json": {
       "model_id": "",
       "version_major": 2,
       "version_minor": 0
      },
      "text/plain": [
       "HBox(children=(HTML(value='n_features loop'), FloatProgress(value=0.0, max=2.0), HTML(value='')))"
      ]
     },
     "metadata": {},
     "output_type": "display_data"
    },
    {
     "data": {
      "application/vnd.jupyter.widget-view+json": {
       "model_id": "",
       "version_major": 2,
       "version_minor": 0
      },
      "text/plain": [
       "HBox(children=(HTML(value='n_features loop'), FloatProgress(value=0.0, max=2.0), HTML(value='')))"
      ]
     },
     "metadata": {},
     "output_type": "display_data"
    },
    {
     "data": {
      "application/vnd.jupyter.widget-view+json": {
       "model_id": "",
       "version_major": 2,
       "version_minor": 0
      },
      "text/plain": [
       "HBox(children=(HTML(value='n_features loop'), FloatProgress(value=0.0, max=2.0), HTML(value='')))"
      ]
     },
     "metadata": {},
     "output_type": "display_data"
    },
    {
     "data": {
      "application/vnd.jupyter.widget-view+json": {
       "model_id": "",
       "version_major": 2,
       "version_minor": 0
      },
      "text/plain": [
       "HBox(children=(HTML(value='n_features loop'), FloatProgress(value=0.0, max=2.0), HTML(value='')))"
      ]
     },
     "metadata": {},
     "output_type": "display_data"
    },
    {
     "data": {
      "application/vnd.jupyter.widget-view+json": {
       "model_id": "",
       "version_major": 2,
       "version_minor": 0
      },
      "text/plain": [
       "HBox(children=(HTML(value='n_features loop'), FloatProgress(value=0.0, max=2.0), HTML(value='')))"
      ]
     },
     "metadata": {},
     "output_type": "display_data"
    },
    {
     "data": {
      "application/vnd.jupyter.widget-view+json": {
       "model_id": "",
       "version_major": 2,
       "version_minor": 0
      },
      "text/plain": [
       "HBox(children=(HTML(value='n_features loop'), FloatProgress(value=0.0, max=2.0), HTML(value='')))"
      ]
     },
     "metadata": {},
     "output_type": "display_data"
    },
    {
     "data": {
      "application/vnd.jupyter.widget-view+json": {
       "model_id": "",
       "version_major": 2,
       "version_minor": 0
      },
      "text/plain": [
       "HBox(children=(HTML(value='n_features loop'), FloatProgress(value=0.0, max=2.0), HTML(value='')))"
      ]
     },
     "metadata": {},
     "output_type": "display_data"
    },
    {
     "data": {
      "application/vnd.jupyter.widget-view+json": {
       "model_id": "",
       "version_major": 2,
       "version_minor": 0
      },
      "text/plain": [
       "HBox(children=(HTML(value='n_features loop'), FloatProgress(value=0.0, max=2.0), HTML(value='')))"
      ]
     },
     "metadata": {},
     "output_type": "display_data"
    },
    {
     "data": {
      "application/vnd.jupyter.widget-view+json": {
       "model_id": "",
       "version_major": 2,
       "version_minor": 0
      },
      "text/plain": [
       "HBox(children=(HTML(value='n_features loop'), FloatProgress(value=0.0, max=2.0), HTML(value='')))"
      ]
     },
     "metadata": {},
     "output_type": "display_data"
    },
    {
     "data": {
      "application/vnd.jupyter.widget-view+json": {
       "model_id": "",
       "version_major": 2,
       "version_minor": 0
      },
      "text/plain": [
       "HBox(children=(HTML(value='Est loop'), FloatProgress(value=0.0, max=10.0), HTML(value='')))"
      ]
     },
     "metadata": {},
     "output_type": "display_data"
    },
    {
     "data": {
      "application/vnd.jupyter.widget-view+json": {
       "model_id": "",
       "version_major": 2,
       "version_minor": 0
      },
      "text/plain": [
       "HBox(children=(HTML(value='n_features loop'), FloatProgress(value=0.0, max=2.0), HTML(value='')))"
      ]
     },
     "metadata": {},
     "output_type": "display_data"
    },
    {
     "data": {
      "application/vnd.jupyter.widget-view+json": {
       "model_id": "",
       "version_major": 2,
       "version_minor": 0
      },
      "text/plain": [
       "HBox(children=(HTML(value='n_features loop'), FloatProgress(value=0.0, max=2.0), HTML(value='')))"
      ]
     },
     "metadata": {},
     "output_type": "display_data"
    },
    {
     "data": {
      "application/vnd.jupyter.widget-view+json": {
       "model_id": "",
       "version_major": 2,
       "version_minor": 0
      },
      "text/plain": [
       "HBox(children=(HTML(value='n_features loop'), FloatProgress(value=0.0, max=2.0), HTML(value='')))"
      ]
     },
     "metadata": {},
     "output_type": "display_data"
    },
    {
     "data": {
      "application/vnd.jupyter.widget-view+json": {
       "model_id": "",
       "version_major": 2,
       "version_minor": 0
      },
      "text/plain": [
       "HBox(children=(HTML(value='n_features loop'), FloatProgress(value=0.0, max=2.0), HTML(value='')))"
      ]
     },
     "metadata": {},
     "output_type": "display_data"
    },
    {
     "data": {
      "application/vnd.jupyter.widget-view+json": {
       "model_id": "",
       "version_major": 2,
       "version_minor": 0
      },
      "text/plain": [
       "HBox(children=(HTML(value='n_features loop'), FloatProgress(value=0.0, max=2.0), HTML(value='')))"
      ]
     },
     "metadata": {},
     "output_type": "display_data"
    },
    {
     "data": {
      "application/vnd.jupyter.widget-view+json": {
       "model_id": "",
       "version_major": 2,
       "version_minor": 0
      },
      "text/plain": [
       "HBox(children=(HTML(value='n_features loop'), FloatProgress(value=0.0, max=2.0), HTML(value='')))"
      ]
     },
     "metadata": {},
     "output_type": "display_data"
    },
    {
     "data": {
      "application/vnd.jupyter.widget-view+json": {
       "model_id": "",
       "version_major": 2,
       "version_minor": 0
      },
      "text/plain": [
       "HBox(children=(HTML(value='n_features loop'), FloatProgress(value=0.0, max=2.0), HTML(value='')))"
      ]
     },
     "metadata": {},
     "output_type": "display_data"
    },
    {
     "data": {
      "application/vnd.jupyter.widget-view+json": {
       "model_id": "",
       "version_major": 2,
       "version_minor": 0
      },
      "text/plain": [
       "HBox(children=(HTML(value='n_features loop'), FloatProgress(value=0.0, max=2.0), HTML(value='')))"
      ]
     },
     "metadata": {},
     "output_type": "display_data"
    },
    {
     "data": {
      "application/vnd.jupyter.widget-view+json": {
       "model_id": "",
       "version_major": 2,
       "version_minor": 0
      },
      "text/plain": [
       "HBox(children=(HTML(value='n_features loop'), FloatProgress(value=0.0, max=2.0), HTML(value='')))"
      ]
     },
     "metadata": {},
     "output_type": "display_data"
    },
    {
     "data": {
      "application/vnd.jupyter.widget-view+json": {
       "model_id": "",
       "version_major": 2,
       "version_minor": 0
      },
      "text/plain": [
       "HBox(children=(HTML(value='n_features loop'), FloatProgress(value=0.0, max=2.0), HTML(value='')))"
      ]
     },
     "metadata": {},
     "output_type": "display_data"
    },
    {
     "data": {
      "application/vnd.jupyter.widget-view+json": {
       "model_id": "",
       "version_major": 2,
       "version_minor": 0
      },
      "text/plain": [
       "HBox(children=(HTML(value='Est loop'), FloatProgress(value=0.0, max=10.0), HTML(value='')))"
      ]
     },
     "metadata": {},
     "output_type": "display_data"
    },
    {
     "data": {
      "application/vnd.jupyter.widget-view+json": {
       "model_id": "",
       "version_major": 2,
       "version_minor": 0
      },
      "text/plain": [
       "HBox(children=(HTML(value='n_features loop'), FloatProgress(value=0.0, max=2.0), HTML(value='')))"
      ]
     },
     "metadata": {},
     "output_type": "display_data"
    },
    {
     "data": {
      "application/vnd.jupyter.widget-view+json": {
       "model_id": "",
       "version_major": 2,
       "version_minor": 0
      },
      "text/plain": [
       "HBox(children=(HTML(value='n_features loop'), FloatProgress(value=0.0, max=2.0), HTML(value='')))"
      ]
     },
     "metadata": {},
     "output_type": "display_data"
    },
    {
     "data": {
      "application/vnd.jupyter.widget-view+json": {
       "model_id": "",
       "version_major": 2,
       "version_minor": 0
      },
      "text/plain": [
       "HBox(children=(HTML(value='n_features loop'), FloatProgress(value=0.0, max=2.0), HTML(value='')))"
      ]
     },
     "metadata": {},
     "output_type": "display_data"
    },
    {
     "data": {
      "application/vnd.jupyter.widget-view+json": {
       "model_id": "",
       "version_major": 2,
       "version_minor": 0
      },
      "text/plain": [
       "HBox(children=(HTML(value='n_features loop'), FloatProgress(value=0.0, max=2.0), HTML(value='')))"
      ]
     },
     "metadata": {},
     "output_type": "display_data"
    },
    {
     "data": {
      "application/vnd.jupyter.widget-view+json": {
       "model_id": "",
       "version_major": 2,
       "version_minor": 0
      },
      "text/plain": [
       "HBox(children=(HTML(value='n_features loop'), FloatProgress(value=0.0, max=2.0), HTML(value='')))"
      ]
     },
     "metadata": {},
     "output_type": "display_data"
    },
    {
     "data": {
      "application/vnd.jupyter.widget-view+json": {
       "model_id": "",
       "version_major": 2,
       "version_minor": 0
      },
      "text/plain": [
       "HBox(children=(HTML(value='n_features loop'), FloatProgress(value=0.0, max=2.0), HTML(value='')))"
      ]
     },
     "metadata": {},
     "output_type": "display_data"
    },
    {
     "data": {
      "application/vnd.jupyter.widget-view+json": {
       "model_id": "",
       "version_major": 2,
       "version_minor": 0
      },
      "text/plain": [
       "HBox(children=(HTML(value='n_features loop'), FloatProgress(value=0.0, max=2.0), HTML(value='')))"
      ]
     },
     "metadata": {},
     "output_type": "display_data"
    },
    {
     "data": {
      "application/vnd.jupyter.widget-view+json": {
       "model_id": "",
       "version_major": 2,
       "version_minor": 0
      },
      "text/plain": [
       "HBox(children=(HTML(value='n_features loop'), FloatProgress(value=0.0, max=2.0), HTML(value='')))"
      ]
     },
     "metadata": {},
     "output_type": "display_data"
    },
    {
     "data": {
      "application/vnd.jupyter.widget-view+json": {
       "model_id": "",
       "version_major": 2,
       "version_minor": 0
      },
      "text/plain": [
       "HBox(children=(HTML(value='n_features loop'), FloatProgress(value=0.0, max=2.0), HTML(value='')))"
      ]
     },
     "metadata": {},
     "output_type": "display_data"
    },
    {
     "data": {
      "application/vnd.jupyter.widget-view+json": {
       "model_id": "",
       "version_major": 2,
       "version_minor": 0
      },
      "text/plain": [
       "HBox(children=(HTML(value='n_features loop'), FloatProgress(value=0.0, max=2.0), HTML(value='')))"
      ]
     },
     "metadata": {},
     "output_type": "display_data"
    },
    {
     "data": {
      "application/vnd.jupyter.widget-view+json": {
       "model_id": "",
       "version_major": 2,
       "version_minor": 0
      },
      "text/plain": [
       "HBox(children=(HTML(value='Est loop'), FloatProgress(value=0.0, max=10.0), HTML(value='')))"
      ]
     },
     "metadata": {},
     "output_type": "display_data"
    },
    {
     "data": {
      "application/vnd.jupyter.widget-view+json": {
       "model_id": "",
       "version_major": 2,
       "version_minor": 0
      },
      "text/plain": [
       "HBox(children=(HTML(value='n_features loop'), FloatProgress(value=0.0, max=2.0), HTML(value='')))"
      ]
     },
     "metadata": {},
     "output_type": "display_data"
    },
    {
     "data": {
      "application/vnd.jupyter.widget-view+json": {
       "model_id": "",
       "version_major": 2,
       "version_minor": 0
      },
      "text/plain": [
       "HBox(children=(HTML(value='n_features loop'), FloatProgress(value=0.0, max=2.0), HTML(value='')))"
      ]
     },
     "metadata": {},
     "output_type": "display_data"
    },
    {
     "data": {
      "application/vnd.jupyter.widget-view+json": {
       "model_id": "",
       "version_major": 2,
       "version_minor": 0
      },
      "text/plain": [
       "HBox(children=(HTML(value='n_features loop'), FloatProgress(value=0.0, max=2.0), HTML(value='')))"
      ]
     },
     "metadata": {},
     "output_type": "display_data"
    },
    {
     "data": {
      "application/vnd.jupyter.widget-view+json": {
       "model_id": "",
       "version_major": 2,
       "version_minor": 0
      },
      "text/plain": [
       "HBox(children=(HTML(value='n_features loop'), FloatProgress(value=0.0, max=2.0), HTML(value='')))"
      ]
     },
     "metadata": {},
     "output_type": "display_data"
    },
    {
     "data": {
      "application/vnd.jupyter.widget-view+json": {
       "model_id": "",
       "version_major": 2,
       "version_minor": 0
      },
      "text/plain": [
       "HBox(children=(HTML(value='n_features loop'), FloatProgress(value=0.0, max=2.0), HTML(value='')))"
      ]
     },
     "metadata": {},
     "output_type": "display_data"
    },
    {
     "data": {
      "application/vnd.jupyter.widget-view+json": {
       "model_id": "",
       "version_major": 2,
       "version_minor": 0
      },
      "text/plain": [
       "HBox(children=(HTML(value='n_features loop'), FloatProgress(value=0.0, max=2.0), HTML(value='')))"
      ]
     },
     "metadata": {},
     "output_type": "display_data"
    },
    {
     "data": {
      "application/vnd.jupyter.widget-view+json": {
       "model_id": "",
       "version_major": 2,
       "version_minor": 0
      },
      "text/plain": [
       "HBox(children=(HTML(value='n_features loop'), FloatProgress(value=0.0, max=2.0), HTML(value='')))"
      ]
     },
     "metadata": {},
     "output_type": "display_data"
    },
    {
     "data": {
      "application/vnd.jupyter.widget-view+json": {
       "model_id": "",
       "version_major": 2,
       "version_minor": 0
      },
      "text/plain": [
       "HBox(children=(HTML(value='n_features loop'), FloatProgress(value=0.0, max=2.0), HTML(value='')))"
      ]
     },
     "metadata": {},
     "output_type": "display_data"
    },
    {
     "data": {
      "application/vnd.jupyter.widget-view+json": {
       "model_id": "",
       "version_major": 2,
       "version_minor": 0
      },
      "text/plain": [
       "HBox(children=(HTML(value='n_features loop'), FloatProgress(value=0.0, max=2.0), HTML(value='')))"
      ]
     },
     "metadata": {},
     "output_type": "display_data"
    },
    {
     "data": {
      "application/vnd.jupyter.widget-view+json": {
       "model_id": "",
       "version_major": 2,
       "version_minor": 0
      },
      "text/plain": [
       "HBox(children=(HTML(value='n_features loop'), FloatProgress(value=0.0, max=2.0), HTML(value='')))"
      ]
     },
     "metadata": {},
     "output_type": "display_data"
    },
    {
     "data": {
      "application/vnd.jupyter.widget-view+json": {
       "model_id": "",
       "version_major": 2,
       "version_minor": 0
      },
      "text/plain": [
       "HBox(children=(HTML(value='Est loop'), FloatProgress(value=0.0, max=10.0), HTML(value='')))"
      ]
     },
     "metadata": {},
     "output_type": "display_data"
    },
    {
     "data": {
      "application/vnd.jupyter.widget-view+json": {
       "model_id": "",
       "version_major": 2,
       "version_minor": 0
      },
      "text/plain": [
       "HBox(children=(HTML(value='n_features loop'), FloatProgress(value=0.0, max=2.0), HTML(value='')))"
      ]
     },
     "metadata": {},
     "output_type": "display_data"
    },
    {
     "data": {
      "application/vnd.jupyter.widget-view+json": {
       "model_id": "",
       "version_major": 2,
       "version_minor": 0
      },
      "text/plain": [
       "HBox(children=(HTML(value='n_features loop'), FloatProgress(value=0.0, max=2.0), HTML(value='')))"
      ]
     },
     "metadata": {},
     "output_type": "display_data"
    },
    {
     "data": {
      "application/vnd.jupyter.widget-view+json": {
       "model_id": "",
       "version_major": 2,
       "version_minor": 0
      },
      "text/plain": [
       "HBox(children=(HTML(value='n_features loop'), FloatProgress(value=0.0, max=2.0), HTML(value='')))"
      ]
     },
     "metadata": {},
     "output_type": "display_data"
    },
    {
     "data": {
      "application/vnd.jupyter.widget-view+json": {
       "model_id": "",
       "version_major": 2,
       "version_minor": 0
      },
      "text/plain": [
       "HBox(children=(HTML(value='n_features loop'), FloatProgress(value=0.0, max=2.0), HTML(value='')))"
      ]
     },
     "metadata": {},
     "output_type": "display_data"
    },
    {
     "data": {
      "application/vnd.jupyter.widget-view+json": {
       "model_id": "",
       "version_major": 2,
       "version_minor": 0
      },
      "text/plain": [
       "HBox(children=(HTML(value='n_features loop'), FloatProgress(value=0.0, max=2.0), HTML(value='')))"
      ]
     },
     "metadata": {},
     "output_type": "display_data"
    },
    {
     "data": {
      "application/vnd.jupyter.widget-view+json": {
       "model_id": "",
       "version_major": 2,
       "version_minor": 0
      },
      "text/plain": [
       "HBox(children=(HTML(value='n_features loop'), FloatProgress(value=0.0, max=2.0), HTML(value='')))"
      ]
     },
     "metadata": {},
     "output_type": "display_data"
    },
    {
     "data": {
      "application/vnd.jupyter.widget-view+json": {
       "model_id": "",
       "version_major": 2,
       "version_minor": 0
      },
      "text/plain": [
       "HBox(children=(HTML(value='n_features loop'), FloatProgress(value=0.0, max=2.0), HTML(value='')))"
      ]
     },
     "metadata": {},
     "output_type": "display_data"
    },
    {
     "data": {
      "application/vnd.jupyter.widget-view+json": {
       "model_id": "",
       "version_major": 2,
       "version_minor": 0
      },
      "text/plain": [
       "HBox(children=(HTML(value='n_features loop'), FloatProgress(value=0.0, max=2.0), HTML(value='')))"
      ]
     },
     "metadata": {},
     "output_type": "display_data"
    },
    {
     "data": {
      "application/vnd.jupyter.widget-view+json": {
       "model_id": "",
       "version_major": 2,
       "version_minor": 0
      },
      "text/plain": [
       "HBox(children=(HTML(value='n_features loop'), FloatProgress(value=0.0, max=2.0), HTML(value='')))"
      ]
     },
     "metadata": {},
     "output_type": "display_data"
    },
    {
     "data": {
      "application/vnd.jupyter.widget-view+json": {
       "model_id": "",
       "version_major": 2,
       "version_minor": 0
      },
      "text/plain": [
       "HBox(children=(HTML(value='n_features loop'), FloatProgress(value=0.0, max=2.0), HTML(value='')))"
      ]
     },
     "metadata": {},
     "output_type": "display_data"
    },
    {
     "data": {
      "application/vnd.jupyter.widget-view+json": {
       "model_id": "",
       "version_major": 2,
       "version_minor": 0
      },
      "text/plain": [
       "HBox(children=(HTML(value='Est loop'), FloatProgress(value=0.0, max=10.0), HTML(value='')))"
      ]
     },
     "metadata": {},
     "output_type": "display_data"
    },
    {
     "data": {
      "application/vnd.jupyter.widget-view+json": {
       "model_id": "",
       "version_major": 2,
       "version_minor": 0
      },
      "text/plain": [
       "HBox(children=(HTML(value='n_features loop'), FloatProgress(value=0.0, max=2.0), HTML(value='')))"
      ]
     },
     "metadata": {},
     "output_type": "display_data"
    },
    {
     "data": {
      "application/vnd.jupyter.widget-view+json": {
       "model_id": "",
       "version_major": 2,
       "version_minor": 0
      },
      "text/plain": [
       "HBox(children=(HTML(value='n_features loop'), FloatProgress(value=0.0, max=2.0), HTML(value='')))"
      ]
     },
     "metadata": {},
     "output_type": "display_data"
    },
    {
     "data": {
      "application/vnd.jupyter.widget-view+json": {
       "model_id": "",
       "version_major": 2,
       "version_minor": 0
      },
      "text/plain": [
       "HBox(children=(HTML(value='n_features loop'), FloatProgress(value=0.0, max=2.0), HTML(value='')))"
      ]
     },
     "metadata": {},
     "output_type": "display_data"
    },
    {
     "data": {
      "application/vnd.jupyter.widget-view+json": {
       "model_id": "",
       "version_major": 2,
       "version_minor": 0
      },
      "text/plain": [
       "HBox(children=(HTML(value='n_features loop'), FloatProgress(value=0.0, max=2.0), HTML(value='')))"
      ]
     },
     "metadata": {},
     "output_type": "display_data"
    },
    {
     "data": {
      "application/vnd.jupyter.widget-view+json": {
       "model_id": "",
       "version_major": 2,
       "version_minor": 0
      },
      "text/plain": [
       "HBox(children=(HTML(value='n_features loop'), FloatProgress(value=0.0, max=2.0), HTML(value='')))"
      ]
     },
     "metadata": {},
     "output_type": "display_data"
    },
    {
     "data": {
      "application/vnd.jupyter.widget-view+json": {
       "model_id": "",
       "version_major": 2,
       "version_minor": 0
      },
      "text/plain": [
       "HBox(children=(HTML(value='n_features loop'), FloatProgress(value=0.0, max=2.0), HTML(value='')))"
      ]
     },
     "metadata": {},
     "output_type": "display_data"
    },
    {
     "data": {
      "application/vnd.jupyter.widget-view+json": {
       "model_id": "",
       "version_major": 2,
       "version_minor": 0
      },
      "text/plain": [
       "HBox(children=(HTML(value='n_features loop'), FloatProgress(value=0.0, max=2.0), HTML(value='')))"
      ]
     },
     "metadata": {},
     "output_type": "display_data"
    },
    {
     "data": {
      "application/vnd.jupyter.widget-view+json": {
       "model_id": "",
       "version_major": 2,
       "version_minor": 0
      },
      "text/plain": [
       "HBox(children=(HTML(value='n_features loop'), FloatProgress(value=0.0, max=2.0), HTML(value='')))"
      ]
     },
     "metadata": {},
     "output_type": "display_data"
    },
    {
     "data": {
      "application/vnd.jupyter.widget-view+json": {
       "model_id": "",
       "version_major": 2,
       "version_minor": 0
      },
      "text/plain": [
       "HBox(children=(HTML(value='n_features loop'), FloatProgress(value=0.0, max=2.0), HTML(value='')))"
      ]
     },
     "metadata": {},
     "output_type": "display_data"
    },
    {
     "data": {
      "application/vnd.jupyter.widget-view+json": {
       "model_id": "",
       "version_major": 2,
       "version_minor": 0
      },
      "text/plain": [
       "HBox(children=(HTML(value='n_features loop'), FloatProgress(value=0.0, max=2.0), HTML(value='')))"
      ]
     },
     "metadata": {},
     "output_type": "display_data"
    },
    {
     "data": {
      "application/vnd.jupyter.widget-view+json": {
       "model_id": "",
       "version_major": 2,
       "version_minor": 0
      },
      "text/plain": [
       "HBox(children=(HTML(value='Est loop'), FloatProgress(value=0.0, max=10.0), HTML(value='')))"
      ]
     },
     "metadata": {},
     "output_type": "display_data"
    },
    {
     "data": {
      "application/vnd.jupyter.widget-view+json": {
       "model_id": "",
       "version_major": 2,
       "version_minor": 0
      },
      "text/plain": [
       "HBox(children=(HTML(value='n_features loop'), FloatProgress(value=0.0, max=2.0), HTML(value='')))"
      ]
     },
     "metadata": {},
     "output_type": "display_data"
    },
    {
     "data": {
      "application/vnd.jupyter.widget-view+json": {
       "model_id": "",
       "version_major": 2,
       "version_minor": 0
      },
      "text/plain": [
       "HBox(children=(HTML(value='n_features loop'), FloatProgress(value=0.0, max=2.0), HTML(value='')))"
      ]
     },
     "metadata": {},
     "output_type": "display_data"
    },
    {
     "data": {
      "application/vnd.jupyter.widget-view+json": {
       "model_id": "",
       "version_major": 2,
       "version_minor": 0
      },
      "text/plain": [
       "HBox(children=(HTML(value='n_features loop'), FloatProgress(value=0.0, max=2.0), HTML(value='')))"
      ]
     },
     "metadata": {},
     "output_type": "display_data"
    },
    {
     "data": {
      "application/vnd.jupyter.widget-view+json": {
       "model_id": "",
       "version_major": 2,
       "version_minor": 0
      },
      "text/plain": [
       "HBox(children=(HTML(value='n_features loop'), FloatProgress(value=0.0, max=2.0), HTML(value='')))"
      ]
     },
     "metadata": {},
     "output_type": "display_data"
    },
    {
     "data": {
      "application/vnd.jupyter.widget-view+json": {
       "model_id": "",
       "version_major": 2,
       "version_minor": 0
      },
      "text/plain": [
       "HBox(children=(HTML(value='n_features loop'), FloatProgress(value=0.0, max=2.0), HTML(value='')))"
      ]
     },
     "metadata": {},
     "output_type": "display_data"
    },
    {
     "data": {
      "application/vnd.jupyter.widget-view+json": {
       "model_id": "",
       "version_major": 2,
       "version_minor": 0
      },
      "text/plain": [
       "HBox(children=(HTML(value='n_features loop'), FloatProgress(value=0.0, max=2.0), HTML(value='')))"
      ]
     },
     "metadata": {},
     "output_type": "display_data"
    },
    {
     "data": {
      "application/vnd.jupyter.widget-view+json": {
       "model_id": "",
       "version_major": 2,
       "version_minor": 0
      },
      "text/plain": [
       "HBox(children=(HTML(value='n_features loop'), FloatProgress(value=0.0, max=2.0), HTML(value='')))"
      ]
     },
     "metadata": {},
     "output_type": "display_data"
    },
    {
     "data": {
      "application/vnd.jupyter.widget-view+json": {
       "model_id": "",
       "version_major": 2,
       "version_minor": 0
      },
      "text/plain": [
       "HBox(children=(HTML(value='n_features loop'), FloatProgress(value=0.0, max=2.0), HTML(value='')))"
      ]
     },
     "metadata": {},
     "output_type": "display_data"
    },
    {
     "data": {
      "application/vnd.jupyter.widget-view+json": {
       "model_id": "",
       "version_major": 2,
       "version_minor": 0
      },
      "text/plain": [
       "HBox(children=(HTML(value='n_features loop'), FloatProgress(value=0.0, max=2.0), HTML(value='')))"
      ]
     },
     "metadata": {},
     "output_type": "display_data"
    },
    {
     "data": {
      "application/vnd.jupyter.widget-view+json": {
       "model_id": "",
       "version_major": 2,
       "version_minor": 0
      },
      "text/plain": [
       "HBox(children=(HTML(value='n_features loop'), FloatProgress(value=0.0, max=2.0), HTML(value='')))"
      ]
     },
     "metadata": {},
     "output_type": "display_data"
    },
    {
     "name": "stdout",
     "output_type": "stream",
     "text": [
      "\n"
     ]
    }
   ],
   "source": [
    "best_model_tree = None\n",
    "best_result_tree = 0\n",
    "for depth in tqdm(range(1, 15), desc='Depth loop'):\n",
    "    for n_est in tqdm(range(10, 101, 10), desc='Est loop', leave=False):\n",
    "        for n_features in tqdm(['log2', 'sqrt'], desc='n_features loop', leave=False):\n",
    "            model_RandomForest = RandomForestClassifier(random_state=5, n_estimators=n_est, max_features=n_features, max_depth=depth)\n",
    "            model_RandomForest.fit(features_downsampled, target_downsampled) \n",
    "            valid_predictions_tree = model_RandomForest.predict(features_valid) \n",
    "            result = model_RandomForest.score(features_valid, target_valid)    \n",
    "            if result > best_result_tree:\n",
    "                best_model_tree = model_RandomForest\n",
    "                best_result_tree = result"
   ]
  },
  {
   "cell_type": "code",
   "execution_count": 54,
   "metadata": {},
   "outputs": [],
   "source": [
    "probabilities_valid = model_RandomForest.predict_proba(features_valid)\n",
    "probabilities_one_valid = probabilities_valid[:, 1]"
   ]
  },
  {
   "cell_type": "code",
   "execution_count": 55,
   "metadata": {},
   "outputs": [
    {
     "name": "stdout",
     "output_type": "stream",
     "text": [
      "AUC ROC: 0.8636288979093831\n",
      "0.6062846580406654\n",
      "Параметры лучшей модели:\n",
      "RandomForestClassifier(bootstrap=True, class_weight=None, criterion='gini',\n",
      "                       max_depth=9, max_features='log2', max_leaf_nodes=None,\n",
      "                       min_impurity_decrease=0.0, min_impurity_split=None,\n",
      "                       min_samples_leaf=1, min_samples_split=2,\n",
      "                       min_weight_fraction_leaf=0.0, n_estimators=40,\n",
      "                       n_jobs=None, oob_score=False, random_state=5, verbose=0,\n",
      "                       warm_start=False)\n"
     ]
    }
   ],
   "source": [
    "print(\"AUC ROC:\", roc_auc_score(target_valid, probabilities_one_valid))\n",
    "print(f1_score(target_valid, valid_predictions_tree))\n",
    "print (\"Параметры лучшей модели:\", best_model_tree, sep='\\n')"
   ]
  },
  {
   "cell_type": "markdown",
   "metadata": {},
   "source": [
    "### Logistic Regression"
   ]
  },
  {
   "cell_type": "markdown",
   "metadata": {},
   "source": [
    "Обучение модели и проверка на валидационной выборке на сбалансированных данных:"
   ]
  },
  {
   "cell_type": "code",
   "execution_count": 56,
   "metadata": {},
   "outputs": [],
   "source": [
    "model_LogisticRegression = LogisticRegression(random_state=5,solver='liblinear')\n",
    "model_LogisticRegression.fit(features_upsampled, target_upsampled)\n",
    "predicted_valid = model_LogisticRegression.predict(features_valid)"
   ]
  },
  {
   "cell_type": "code",
   "execution_count": 57,
   "metadata": {},
   "outputs": [],
   "source": [
    "probabilities_valid = model_LogisticRegression.predict_proba(features_valid)\n",
    "probabilities_one_valid = probabilities_valid[:, 1]"
   ]
  },
  {
   "cell_type": "code",
   "execution_count": 58,
   "metadata": {},
   "outputs": [
    {
     "name": "stdout",
     "output_type": "stream",
     "text": [
      "AUC ROC: 0.7742673455501068\n",
      "F1: 0.5183946488294314\n"
     ]
    }
   ],
   "source": [
    "print(\"AUC ROC:\", roc_auc_score(target_valid, probabilities_one_valid))\n",
    "print(\"F1:\", f1_score(target_valid, predicted_valid))"
   ]
  },
  {
   "cell_type": "code",
   "execution_count": 59,
   "metadata": {},
   "outputs": [],
   "source": [
    "model_LogisticRegression = LogisticRegression(random_state=5,solver='liblinear')\n",
    "model_LogisticRegression.fit(features_downsampled, target_downsampled)\n",
    "predicted_valid = model_LogisticRegression.predict(features_valid)"
   ]
  },
  {
   "cell_type": "code",
   "execution_count": 60,
   "metadata": {},
   "outputs": [],
   "source": [
    "probabilities_valid = model_LogisticRegression.predict_proba(features_valid)\n",
    "probabilities_one_valid = probabilities_valid[:, 1]"
   ]
  },
  {
   "cell_type": "code",
   "execution_count": 61,
   "metadata": {},
   "outputs": [
    {
     "name": "stdout",
     "output_type": "stream",
     "text": [
      "AUC ROC: 0.7762500293296417\n",
      "F1: 0.5084175084175084\n"
     ]
    }
   ],
   "source": [
    "print(\"AUC ROC:\", roc_auc_score(target_valid, probabilities_one_valid))\n",
    "print(\"F1:\", f1_score(target_valid, predicted_valid))"
   ]
  },
  {
   "cell_type": "markdown",
   "metadata": {},
   "source": [
    "### Вывод"
   ]
  },
  {
   "cell_type": "markdown",
   "metadata": {},
   "source": [
    "На сбалансированных данных модель показывала результат лучше:\n",
    "- На модели \"Решающий лес\" f1 = 0.602, auc roc = 0.83 (upsampled) и f1 = 0.598, auc roc = 0.84 (downsampled)\n",
    "- На модели \"Случайный лес\" получилось достичь значения f1 = 0.608 , auc roc = 0.86 (upsampled) и f1 = 0.606, auc roc = 0.86 (downsampled)\n",
    "- На модели \"Логистическая регрессия\" f1 = 0.518, auc roc = 0.77 (upsampled) и f1 = 0.508, auc roc = 0.77 (downsampled)"
   ]
  },
  {
   "cell_type": "markdown",
   "metadata": {},
   "source": [
    "## Тестирование модели"
   ]
  },
  {
   "cell_type": "code",
   "execution_count": 62,
   "metadata": {},
   "outputs": [],
   "source": [
    "test_score = {}"
   ]
  },
  {
   "cell_type": "markdown",
   "metadata": {},
   "source": [
    "Объединяем датасеты для того чтобы у нас было больше данных для обучения:"
   ]
  },
  {
   "cell_type": "code",
   "execution_count": 63,
   "metadata": {},
   "outputs": [],
   "source": [
    "df_features = pd.concat([features_train, features_valid], ignore_index=True)\n",
    "df_target = pd.concat([target_train, target_valid], ignore_index=True)"
   ]
  },
  {
   "cell_type": "markdown",
   "metadata": {},
   "source": [
    "### Decision Tree Classifier"
   ]
  },
  {
   "cell_type": "markdown",
   "metadata": {},
   "source": [
    "Проверка результатов на тестовой выборке:"
   ]
  },
  {
   "cell_type": "code",
   "execution_count": 64,
   "metadata": {},
   "outputs": [],
   "source": [
    "model_tree = DecisionTreeClassifier(random_state=5, max_depth=7, min_samples_leaf = 7, criterion = 'gini')\n",
    "model_tree.fit(df_features, df_target) \n",
    "test_predictions_tree = model_tree.predict(features_test) \n",
    "f1 = f1_score (target_test,test_predictions_tree)"
   ]
  },
  {
   "cell_type": "code",
   "execution_count": 65,
   "metadata": {},
   "outputs": [
    {
     "name": "stdout",
     "output_type": "stream",
     "text": [
      "Параметр f1 при использовании метода решающее дерево на тестовой выборке составил - 0.5913043478260869\n"
     ]
    }
   ],
   "source": [
    "print('Параметр f1 при использовании метода '\n",
    "      'решающее дерево на тестовой выборке составил -', f1)"
   ]
  },
  {
   "cell_type": "code",
   "execution_count": 66,
   "metadata": {},
   "outputs": [],
   "source": [
    "probabilities_test = model_tree.predict_proba(features_test)\n",
    "probabilities_one_test = probabilities_test[:, 1]\n",
    "auc_roc = roc_auc_score(target_test, probabilities_one_test)"
   ]
  },
  {
   "cell_type": "code",
   "execution_count": 67,
   "metadata": {},
   "outputs": [
    {
     "name": "stdout",
     "output_type": "stream",
     "text": [
      "Параметр auc roc при использовании метода решающее дерево на тестовой выборке составил - 0.8369445599276124\n"
     ]
    }
   ],
   "source": [
    "print('Параметр auc roc при использовании метода '\n",
    "      'решающее дерево на тестовой выборке составил -', auc_roc)"
   ]
  },
  {
   "cell_type": "code",
   "execution_count": 68,
   "metadata": {},
   "outputs": [],
   "source": [
    "test_score['DecisionTreeClassifier'] = [f1 , auc_roc]"
   ]
  },
  {
   "cell_type": "code",
   "execution_count": 69,
   "metadata": {},
   "outputs": [
    {
     "data": {
      "image/png": "[encoded data removed]",
      "text/plain": [
       "<Figure size 432x288 with 1 Axes>"
      ]
     },
     "metadata": {
      "needs_background": "light"
     },
     "output_type": "display_data"
    }
   ],
   "source": [
    "feat_importances = pd.Series(model_tree.feature_importances_, index=df_features.columns)\n",
    "feat_importances.nlargest(20).plot(kind='barh')\n",
    "plt.show()"
   ]
  },
  {
   "cell_type": "markdown",
   "metadata": {},
   "source": [
    "Данная модель больше всего обращает внимание на возраст, число продуктов и активных пользователей"
   ]
  },
  {
   "cell_type": "markdown",
   "metadata": {},
   "source": [
    "### Random Forest Classifier"
   ]
  },
  {
   "cell_type": "markdown",
   "metadata": {},
   "source": [
    "Проверка результатов на тестовой выборке:"
   ]
  },
  {
   "cell_type": "code",
   "execution_count": 70,
   "metadata": {},
   "outputs": [],
   "source": [
    "model_forest = RandomForestClassifier(random_state=5, n_estimators=35, max_depth=13, min_samples_leaf=7, criterion='gini')\n",
    "model_forest.fit(df_features, df_target) \n",
    "test_predictions_forest = model_forest.predict(features_test)\n",
    "f1 = f1_score(target_test, test_predictions_forest)"
   ]
  },
  {
   "cell_type": "code",
   "execution_count": 71,
   "metadata": {},
   "outputs": [
    {
     "name": "stdout",
     "output_type": "stream",
     "text": [
      "Параметр f1 при использовании метода случайный лес на тестовой выборке составил - 0.5776397515527951\n"
     ]
    }
   ],
   "source": [
    "print('Параметр f1 при использовании метода '\n",
    "      'случайный лес на тестовой выборке составил -', f1)"
   ]
  },
  {
   "cell_type": "code",
   "execution_count": 72,
   "metadata": {},
   "outputs": [],
   "source": [
    "probabilities_test = model_forest.predict_proba(features_test)\n",
    "probabilities_one_test = probabilities_test[:, 1]\n",
    "auc_roc = roc_auc_score(target_test, probabilities_one_test)"
   ]
  },
  {
   "cell_type": "code",
   "execution_count": 73,
   "metadata": {},
   "outputs": [
    {
     "name": "stdout",
     "output_type": "stream",
     "text": [
      "Параметр auc roc при использовании метода случайный лес на тестовой выборке составил - 0.8609046000342373\n"
     ]
    }
   ],
   "source": [
    "print('Параметр auc roc при использовании метода '\n",
    "      'случайный лес на тестовой выборке составил -', auc_roc)"
   ]
  },
  {
   "cell_type": "code",
   "execution_count": 74,
   "metadata": {},
   "outputs": [],
   "source": [
    "test_score['RandomForestClassifier'] = [f1 , auc_roc]"
   ]
  },
  {
   "cell_type": "code",
   "execution_count": 75,
   "metadata": {},
   "outputs": [
    {
     "data": {
      "image/png": "[encoded data removed]",
      "text/plain": [
       "<Figure size 432x288 with 1 Axes>"
      ]
     },
     "metadata": {
      "needs_background": "light"
     },
     "output_type": "display_data"
    }
   ],
   "source": [
    "feat_importances = pd.Series(model_forest.feature_importances_, index=df_features.columns)\n",
    "feat_importances.nlargest(20).plot(kind='barh')\n",
    "plt.show()"
   ]
  },
  {
   "cell_type": "markdown",
   "metadata": {},
   "source": [
    "Данная модель больше всего обращает внимание на возраст, число продуктов и зарплату"
   ]
  },
  {
   "cell_type": "markdown",
   "metadata": {},
   "source": [
    "### Logistic Regression"
   ]
  },
  {
   "cell_type": "markdown",
   "metadata": {},
   "source": [
    "Проверка результатов на тестовой выборке:"
   ]
  },
  {
   "cell_type": "code",
   "execution_count": 76,
   "metadata": {},
   "outputs": [],
   "source": [
    "model_logistic = LogisticRegression(solver='liblinear',random_state=5)\n",
    "model_logistic.fit(df_features, df_target)\n",
    "prediction_logistic = model_logistic.predict(features_test)\n",
    "f1 = f1_score(target_test, prediction_logistic)"
   ]
  },
  {
   "cell_type": "code",
   "execution_count": 77,
   "metadata": {},
   "outputs": [
    {
     "name": "stdout",
     "output_type": "stream",
     "text": [
      "Параметр f1 при использовании метода дерево решений на тестовой выборке составил - 0.36428571428571427\n"
     ]
    }
   ],
   "source": [
    "print('Параметр f1 при использовании метода '\n",
    "      'дерево решений на тестовой выборке составил -', f1)"
   ]
  },
  {
   "cell_type": "code",
   "execution_count": 78,
   "metadata": {},
   "outputs": [],
   "source": [
    "probabilities_test = model_logistic.predict_proba(features_test)\n",
    "probabilities_one_test = probabilities_test[:, 1]\n",
    "auc_roc = roc_auc_score(target_test, probabilities_one_test)"
   ]
  },
  {
   "cell_type": "code",
   "execution_count": 79,
   "metadata": {},
   "outputs": [
    {
     "name": "stdout",
     "output_type": "stream",
     "text": [
      "Параметр auc roc при использовании метода дерево решений на тестовой выборке составил - 0.7822381453131495\n"
     ]
    }
   ],
   "source": [
    "print('Параметр auc roc при использовании метода '\n",
    "      'дерево решений на тестовой выборке составил -', auc_roc)"
   ]
  },
  {
   "cell_type": "code",
   "execution_count": 80,
   "metadata": {},
   "outputs": [],
   "source": [
    "test_score['LogisticRegression'] = [f1 , auc_roc]"
   ]
  },
  {
   "cell_type": "markdown",
   "metadata": {},
   "source": [
    "### Вывод"
   ]
  },
  {
   "cell_type": "markdown",
   "metadata": {},
   "source": [
    "На тестовых данных модель дала результат хуже всего, но всё равно удалось достигнуть нужного порога f1 = 0.59:\n",
    "\n",
    "- На модели \"Решающий лес\" f1 = 0.59, auc roc = 0.83\n",
    "- На модели \"Случайный лес\" получилось достичь значения f1 = 0.577 , auc roc = 0.84\n",
    "- На модели \"Логистическая регрессия\" f1 = 0.36, auc roc = 0.78 (наихудший результат!)"
   ]
  },
  {
   "cell_type": "markdown",
   "metadata": {},
   "source": [
    "## Проверка на адекватность"
   ]
  },
  {
   "cell_type": "markdown",
   "metadata": {},
   "source": [
    "Для проверки наших 3-х моделей сравним их со стандартной готовым классификатором для обучения DummyClassifier:"
   ]
  },
  {
   "cell_type": "code",
   "execution_count": 92,
   "metadata": {},
   "outputs": [
    {
     "name": "stdout",
     "output_type": "stream",
     "text": [
      "[0.3416252072968491, 0.31875881523272215, 0.2728551336146273]\n"
     ]
    }
   ],
   "source": [
    "strategies = ['most_frequent', 'stratified', 'uniform']\n",
    "test_scores = []\n",
    "\n",
    "for s in strategies:\n",
    "    dummy_clf = DummyClassifier(strategy=s, random_state=5)\n",
    "    dummy_clf.fit(features_upsampled, target_upsampled)\n",
    "    score = dummy_clf.score(features_test,  target_test)\n",
    "    predict = dummy_clf.predict(features_test)\n",
    "    f1 = f1_score(target_test, predict)\n",
    "    test_scores.append(f1)\n",
    "print(test_scores)"
   ]
  },
  {
   "cell_type": "code",
   "execution_count": 93,
   "metadata": {},
   "outputs": [
    {
     "data": {
      "image/png": "[encoded data removed]",
      "text/plain": [
       "<Figure size 432x288 with 1 Axes>"
      ]
     },
     "metadata": {
      "needs_background": "light"
     },
     "output_type": "display_data"
    }
   ],
   "source": [
    "ax = sns.stripplot(strategies, test_scores);\n",
    "ax.set(xlabel ='Strategy', ylabel ='Test Score')\n",
    "plt.show()"
   ]
  },
  {
   "cell_type": "code",
   "execution_count": 83,
   "metadata": {},
   "outputs": [
    {
     "name": "stdout",
     "output_type": "stream",
     "text": [
      "0.3416252072968491\n"
     ]
    }
   ],
   "source": [
    "dummy_clf = DummyClassifier(strategy='constant', constant=1, random_state=5)\n",
    "dummy_clf.fit(features_upsampled, target_upsampled)\n",
    "score = dummy_clf.score(features_test,  target_test)\n",
    "predict = dummy_clf.predict(features_test)\n",
    "f1 = f1_score(target_test, predict)\n",
    "print(f1)"
   ]
  },
  {
   "cell_type": "code",
   "execution_count": 91,
   "metadata": {},
   "outputs": [
    {
     "data": {
      "image/png": "[encoded data removed]",
      "text/plain": [
       "<Figure size 432x288 with 1 Axes>"
      ]
     },
     "metadata": {
      "needs_background": "light"
     },
     "output_type": "display_data"
    }
   ],
   "source": [
    "strategies = ['constant']\n",
    "ax = sns.stripplot(strategies, f1);\n",
    "ax.set(xlabel ='Strategy', ylabel ='F1')\n",
    "plt.show()"
   ]
  },
  {
   "cell_type": "code",
   "execution_count": null,
   "metadata": {},
   "outputs": [],
   "source": [
    "columns = ['F1', 'AUC']\n",
    "df_score = pd.DataFrame.from_dict(data=test_score, columns=columns, orient='index')\n",
    "df_score"
   ]
  },
  {
   "cell_type": "markdown",
   "metadata": {},
   "source": [
    "## Общий вывод"
   ]
  },
  {
   "cell_type": "markdown",
   "metadata": {},
   "source": [
    "Проверка на адекватность показала, что результат работы обученной модели лучше случайных результатов:\n",
    "- Лучший результат показывает модель DecisionTree: результат на тестовой выборке 0.59, на валидационной 0,60. Хорошее качество модели также подтверждает и AUC-ROC 0.83\n",
    "- Не намного хуже результат у модели RandomForest: результат на тестовой выборке 0.57, на валидационной 0,60. Хорошее качество модели также подтверждает и AUC-ROC 0.84 (даже выше чем у DecisionTree) \n",
    "- Наихудший результат у LogisticRegression: результат на тестовой выборке 0.36, на валидационной 0,51."
   ]
  }
 ],
 "metadata": {
  "ExecuteTimeLog": [
   {
    "duration": 1203,
    "start_time": "2021-09-28T15:34:22.580Z"
   },
   {
    "duration": 383,
    "start_time": "2021-10-01T11:27:38.893Z"
   },
   {
    "duration": 1657,
    "start_time": "2021-10-01T11:27:46.528Z"
   },
   {
    "duration": 38,
    "start_time": "2021-10-01T11:27:48.187Z"
   },
   {
    "duration": 13,
    "start_time": "2021-10-01T11:27:48.227Z"
   },
   {
    "duration": 25,
    "start_time": "2021-10-01T11:28:08.635Z"
   },
   {
    "duration": 11,
    "start_time": "2021-10-01T11:28:26.311Z"
   },
   {
    "duration": 5,
    "start_time": "2021-10-01T11:29:16.317Z"
   },
   {
    "duration": 309,
    "start_time": "2021-10-01T11:30:38.695Z"
   },
   {
    "duration": 28,
    "start_time": "2021-10-01T11:30:44.313Z"
   },
   {
    "duration": 6,
    "start_time": "2021-10-01T11:32:24.375Z"
   },
   {
    "duration": 22,
    "start_time": "2021-10-01T11:32:26.708Z"
   },
   {
    "duration": 17,
    "start_time": "2021-10-01T11:32:28.334Z"
   },
   {
    "duration": 7,
    "start_time": "2021-10-01T11:37:14.597Z"
   },
   {
    "duration": 8,
    "start_time": "2021-10-01T11:37:29.909Z"
   },
   {
    "duration": 14,
    "start_time": "2021-10-01T11:37:43.906Z"
   },
   {
    "duration": 6,
    "start_time": "2021-10-01T11:38:39.400Z"
   },
   {
    "duration": 15,
    "start_time": "2021-10-01T11:38:41.120Z"
   },
   {
    "duration": 15,
    "start_time": "2021-10-01T11:38:45.451Z"
   },
   {
    "duration": 1586,
    "start_time": "2021-10-01T11:39:02.882Z"
   },
   {
    "duration": 38,
    "start_time": "2021-10-01T11:39:04.471Z"
   },
   {
    "duration": 14,
    "start_time": "2021-10-01T11:39:04.513Z"
   },
   {
    "duration": 28,
    "start_time": "2021-10-01T11:39:04.531Z"
   },
   {
    "duration": 20,
    "start_time": "2021-10-01T11:39:04.562Z"
   },
   {
    "duration": 32,
    "start_time": "2021-10-01T11:39:04.584Z"
   },
   {
    "duration": 7,
    "start_time": "2021-10-01T11:39:04.618Z"
   },
   {
    "duration": 25,
    "start_time": "2021-10-01T11:39:04.628Z"
   },
   {
    "duration": 34,
    "start_time": "2021-10-01T11:39:04.657Z"
   },
   {
    "duration": 24,
    "start_time": "2021-10-01T11:39:04.694Z"
   },
   {
    "duration": 17,
    "start_time": "2021-10-01T11:39:04.720Z"
   },
   {
    "duration": 8,
    "start_time": "2021-10-01T11:40:08.817Z"
   },
   {
    "duration": 5,
    "start_time": "2021-10-01T11:40:44.586Z"
   },
   {
    "duration": 7,
    "start_time": "2021-10-01T11:41:24.890Z"
   },
   {
    "duration": 1659,
    "start_time": "2021-10-01T11:41:34.023Z"
   },
   {
    "duration": 38,
    "start_time": "2021-10-01T11:41:35.685Z"
   },
   {
    "duration": 13,
    "start_time": "2021-10-01T11:41:35.726Z"
   },
   {
    "duration": 37,
    "start_time": "2021-10-01T11:41:35.742Z"
   },
   {
    "duration": 20,
    "start_time": "2021-10-01T11:41:35.782Z"
   },
   {
    "duration": 19,
    "start_time": "2021-10-01T11:41:35.805Z"
   },
   {
    "duration": 17,
    "start_time": "2021-10-01T11:41:35.827Z"
   },
   {
    "duration": 12,
    "start_time": "2021-10-01T11:41:35.847Z"
   },
   {
    "duration": 32,
    "start_time": "2021-10-01T11:41:35.863Z"
   },
   {
    "duration": 19,
    "start_time": "2021-10-01T11:41:35.898Z"
   },
   {
    "duration": 23,
    "start_time": "2021-10-01T11:41:35.920Z"
   },
   {
    "duration": 12,
    "start_time": "2021-10-01T11:41:35.945Z"
   },
   {
    "duration": 11,
    "start_time": "2021-10-01T11:41:35.959Z"
   },
   {
    "duration": 7,
    "start_time": "2021-10-01T11:41:46.561Z"
   },
   {
    "duration": 5,
    "start_time": "2021-10-01T11:43:24.055Z"
   },
   {
    "duration": 7,
    "start_time": "2021-10-01T11:44:39.527Z"
   },
   {
    "duration": 4,
    "start_time": "2021-10-01T11:44:58.598Z"
   },
   {
    "duration": 6,
    "start_time": "2021-10-01T11:45:49.627Z"
   },
   {
    "duration": 5,
    "start_time": "2021-10-01T11:46:06.475Z"
   },
   {
    "duration": 6,
    "start_time": "2021-10-01T11:46:11.354Z"
   },
   {
    "duration": 4,
    "start_time": "2021-10-01T11:47:27.548Z"
   },
   {
    "duration": 40,
    "start_time": "2021-10-01T11:47:43.055Z"
   },
   {
    "duration": 7,
    "start_time": "2021-10-01T11:52:33.627Z"
   },
   {
    "duration": 1546,
    "start_time": "2021-10-01T11:52:43.931Z"
   },
   {
    "duration": 36,
    "start_time": "2021-10-01T11:52:45.479Z"
   },
   {
    "duration": 14,
    "start_time": "2021-10-01T11:52:45.518Z"
   },
   {
    "duration": 25,
    "start_time": "2021-10-01T11:52:45.535Z"
   },
   {
    "duration": 14,
    "start_time": "2021-10-01T11:52:45.563Z"
   },
   {
    "duration": 37,
    "start_time": "2021-10-01T11:52:45.580Z"
   },
   {
    "duration": 15,
    "start_time": "2021-10-01T11:52:45.620Z"
   },
   {
    "duration": 8,
    "start_time": "2021-10-01T11:52:45.639Z"
   },
   {
    "duration": 29,
    "start_time": "2021-10-01T11:52:45.650Z"
   },
   {
    "duration": 17,
    "start_time": "2021-10-01T11:52:45.682Z"
   },
   {
    "duration": 9,
    "start_time": "2021-10-01T11:52:45.717Z"
   },
   {
    "duration": 7,
    "start_time": "2021-10-01T11:52:45.728Z"
   },
   {
    "duration": 11,
    "start_time": "2021-10-01T11:52:45.738Z"
   },
   {
    "duration": 14,
    "start_time": "2021-10-01T11:52:45.751Z"
   },
   {
    "duration": 9,
    "start_time": "2021-10-01T11:52:45.768Z"
   },
   {
    "duration": 37,
    "start_time": "2021-10-01T11:52:45.779Z"
   },
   {
    "duration": 9,
    "start_time": "2021-10-01T11:52:45.819Z"
   },
   {
    "duration": 9,
    "start_time": "2021-10-01T11:52:45.830Z"
   },
   {
    "duration": 7,
    "start_time": "2021-10-01T11:52:45.842Z"
   },
   {
    "duration": 47,
    "start_time": "2021-10-01T11:52:45.851Z"
   },
   {
    "duration": 17,
    "start_time": "2021-10-01T11:53:01.664Z"
   },
   {
    "duration": 1929,
    "start_time": "2021-10-01T11:53:09.954Z"
   },
   {
    "duration": 61,
    "start_time": "2021-10-01T11:53:11.886Z"
   },
   {
    "duration": 69,
    "start_time": "2021-10-01T11:53:11.951Z"
   },
   {
    "duration": 24,
    "start_time": "2021-10-01T11:53:12.023Z"
   },
   {
    "duration": 11,
    "start_time": "2021-10-01T11:53:12.049Z"
   },
   {
    "duration": 6,
    "start_time": "2021-10-01T11:53:12.117Z"
   },
   {
    "duration": 13,
    "start_time": "2021-10-01T11:53:12.125Z"
   },
   {
    "duration": 6,
    "start_time": "2021-10-01T11:53:12.142Z"
   },
   {
    "duration": 69,
    "start_time": "2021-10-01T11:53:12.151Z"
   },
   {
    "duration": 31,
    "start_time": "2021-10-01T11:53:12.222Z"
   },
   {
    "duration": 63,
    "start_time": "2021-10-01T11:53:12.256Z"
   },
   {
    "duration": 15,
    "start_time": "2021-10-01T11:53:12.322Z"
   },
   {
    "duration": 7,
    "start_time": "2021-10-01T11:53:12.339Z"
   },
   {
    "duration": 9,
    "start_time": "2021-10-01T11:53:12.348Z"
   },
   {
    "duration": 61,
    "start_time": "2021-10-01T11:53:12.359Z"
   },
   {
    "duration": 6,
    "start_time": "2021-10-01T11:53:12.423Z"
   },
   {
    "duration": 7,
    "start_time": "2021-10-01T11:53:12.432Z"
   },
   {
    "duration": 20,
    "start_time": "2021-10-01T11:53:12.442Z"
   },
   {
    "duration": 53,
    "start_time": "2021-10-01T11:53:12.464Z"
   },
   {
    "duration": 4,
    "start_time": "2021-10-01T11:53:12.520Z"
   },
   {
    "duration": 98,
    "start_time": "2021-10-01T11:53:12.526Z"
   },
   {
    "duration": 7,
    "start_time": "2021-10-01T11:54:28.321Z"
   },
   {
    "duration": 17,
    "start_time": "2021-10-01T11:54:51.343Z"
   },
   {
    "duration": 207,
    "start_time": "2021-10-01T11:59:39.718Z"
   },
   {
    "duration": 64,
    "start_time": "2021-10-01T12:01:12.309Z"
   },
   {
    "duration": 4,
    "start_time": "2021-10-01T12:02:15.561Z"
   },
   {
    "duration": 1655,
    "start_time": "2021-10-02T11:40:25.992Z"
   },
   {
    "duration": 37,
    "start_time": "2021-10-02T11:40:27.649Z"
   },
   {
    "duration": 15,
    "start_time": "2021-10-02T11:40:27.693Z"
   },
   {
    "duration": 24,
    "start_time": "2021-10-02T11:40:27.710Z"
   },
   {
    "duration": 10,
    "start_time": "2021-10-02T11:40:27.736Z"
   },
   {
    "duration": 11,
    "start_time": "2021-10-02T11:40:27.788Z"
   },
   {
    "duration": 9,
    "start_time": "2021-10-02T11:40:27.803Z"
   },
   {
    "duration": 7,
    "start_time": "2021-10-02T11:40:27.816Z"
   },
   {
    "duration": 20,
    "start_time": "2021-10-02T11:40:27.825Z"
   },
   {
    "duration": 56,
    "start_time": "2021-10-02T11:40:27.848Z"
   },
   {
    "duration": 11,
    "start_time": "2021-10-02T11:40:27.907Z"
   },
   {
    "duration": 6,
    "start_time": "2021-10-02T11:40:27.921Z"
   },
   {
    "duration": 9,
    "start_time": "2021-10-02T11:40:27.930Z"
   },
   {
    "duration": 54,
    "start_time": "2021-10-02T11:40:27.941Z"
   },
   {
    "duration": 7,
    "start_time": "2021-10-02T11:40:28.000Z"
   },
   {
    "duration": 10,
    "start_time": "2021-10-02T11:40:28.010Z"
   },
   {
    "duration": 8,
    "start_time": "2021-10-02T11:40:28.022Z"
   },
   {
    "duration": 10,
    "start_time": "2021-10-02T11:40:28.033Z"
   },
   {
    "duration": 48,
    "start_time": "2021-10-02T11:40:28.046Z"
   },
   {
    "duration": 42,
    "start_time": "2021-10-02T11:40:28.097Z"
   },
   {
    "duration": 15,
    "start_time": "2021-10-02T11:40:28.141Z"
   },
   {
    "duration": 136,
    "start_time": "2021-10-02T11:40:28.161Z"
   },
   {
    "duration": 210,
    "start_time": "2021-10-02T11:40:28.300Z"
   },
   {
    "duration": 3,
    "start_time": "2021-10-02T11:40:28.513Z"
   },
   {
    "duration": 609,
    "start_time": "2021-10-02T11:42:40.319Z"
   },
   {
    "duration": 1663,
    "start_time": "2021-10-02T11:42:52.281Z"
   },
   {
    "duration": 44,
    "start_time": "2021-10-02T11:42:53.947Z"
   },
   {
    "duration": 14,
    "start_time": "2021-10-02T11:42:53.994Z"
   },
   {
    "duration": 23,
    "start_time": "2021-10-02T11:42:54.010Z"
   },
   {
    "duration": 10,
    "start_time": "2021-10-02T11:42:54.036Z"
   },
   {
    "duration": 45,
    "start_time": "2021-10-02T11:42:54.049Z"
   },
   {
    "duration": 7,
    "start_time": "2021-10-02T11:42:54.097Z"
   },
   {
    "duration": 6,
    "start_time": "2021-10-02T11:42:54.108Z"
   },
   {
    "duration": 19,
    "start_time": "2021-10-02T11:42:54.117Z"
   },
   {
    "duration": 16,
    "start_time": "2021-10-02T11:42:54.138Z"
   },
   {
    "duration": 17,
    "start_time": "2021-10-02T11:42:54.184Z"
   },
   {
    "duration": 5,
    "start_time": "2021-10-02T11:42:54.203Z"
   },
   {
    "duration": 7,
    "start_time": "2021-10-02T11:42:54.210Z"
   },
   {
    "duration": 10,
    "start_time": "2021-10-02T11:42:54.219Z"
   },
   {
    "duration": 7,
    "start_time": "2021-10-02T11:42:54.232Z"
   },
   {
    "duration": 55,
    "start_time": "2021-10-02T11:42:54.241Z"
   },
   {
    "duration": 8,
    "start_time": "2021-10-02T11:42:54.299Z"
   },
   {
    "duration": 14,
    "start_time": "2021-10-02T11:42:54.309Z"
   },
   {
    "duration": 5,
    "start_time": "2021-10-02T11:42:54.326Z"
   },
   {
    "duration": 58,
    "start_time": "2021-10-02T11:42:54.333Z"
   },
   {
    "duration": 16,
    "start_time": "2021-10-02T11:42:54.394Z"
   },
   {
    "duration": 90,
    "start_time": "2021-10-02T11:42:54.412Z"
   },
   {
    "duration": 148,
    "start_time": "2021-10-02T11:42:54.587Z"
   },
   {
    "duration": 5,
    "start_time": "2021-10-02T11:42:54.785Z"
   },
   {
    "duration": 1623,
    "start_time": "2021-10-03T19:30:34.067Z"
   },
   {
    "duration": 35,
    "start_time": "2021-10-03T19:30:35.693Z"
   },
   {
    "duration": 15,
    "start_time": "2021-10-03T19:30:35.732Z"
   },
   {
    "duration": 28,
    "start_time": "2021-10-03T19:30:35.763Z"
   },
   {
    "duration": 11,
    "start_time": "2021-10-03T19:30:35.794Z"
   },
   {
    "duration": 6,
    "start_time": "2021-10-03T19:30:35.809Z"
   },
   {
    "duration": 49,
    "start_time": "2021-10-03T19:30:35.818Z"
   },
   {
    "duration": 7,
    "start_time": "2021-10-03T19:30:35.873Z"
   },
   {
    "duration": 24,
    "start_time": "2021-10-03T19:30:35.883Z"
   },
   {
    "duration": 55,
    "start_time": "2021-10-03T19:30:35.910Z"
   },
   {
    "duration": 15,
    "start_time": "2021-10-03T19:30:35.968Z"
   },
   {
    "duration": 5,
    "start_time": "2021-10-03T19:30:35.986Z"
   },
   {
    "duration": 17,
    "start_time": "2021-10-03T19:30:35.993Z"
   },
   {
    "duration": 15,
    "start_time": "2021-10-03T19:30:36.012Z"
   },
   {
    "duration": 13,
    "start_time": "2021-10-03T19:30:36.030Z"
   },
   {
    "duration": 7,
    "start_time": "2021-10-03T19:30:36.063Z"
   },
   {
    "duration": 12,
    "start_time": "2021-10-03T19:30:36.073Z"
   },
   {
    "duration": 20,
    "start_time": "2021-10-03T19:30:36.087Z"
   },
   {
    "duration": 9,
    "start_time": "2021-10-03T19:30:36.110Z"
   },
   {
    "duration": 64,
    "start_time": "2021-10-03T19:30:36.121Z"
   },
   {
    "duration": 16,
    "start_time": "2021-10-03T19:30:36.188Z"
   },
   {
    "duration": 156,
    "start_time": "2021-10-03T19:30:36.206Z"
   },
   {
    "duration": 152,
    "start_time": "2021-10-03T19:30:36.367Z"
   },
   {
    "duration": 3,
    "start_time": "2021-10-03T19:30:36.522Z"
   },
   {
    "duration": 1293,
    "start_time": "2021-10-04T13:55:01.155Z"
   },
   {
    "duration": 39,
    "start_time": "2021-10-04T13:55:02.450Z"
   },
   {
    "duration": 54,
    "start_time": "2021-10-04T13:55:02.491Z"
   },
   {
    "duration": 24,
    "start_time": "2021-10-04T13:55:02.548Z"
   },
   {
    "duration": 9,
    "start_time": "2021-10-04T13:55:02.574Z"
   },
   {
    "duration": 61,
    "start_time": "2021-10-04T13:55:02.584Z"
   },
   {
    "duration": 5,
    "start_time": "2021-10-04T13:55:02.647Z"
   },
   {
    "duration": 20,
    "start_time": "2021-10-04T13:55:02.653Z"
   },
   {
    "duration": 21,
    "start_time": "2021-10-04T13:55:02.676Z"
   },
   {
    "duration": 51,
    "start_time": "2021-10-04T13:55:02.699Z"
   },
   {
    "duration": 12,
    "start_time": "2021-10-04T13:55:02.751Z"
   },
   {
    "duration": 7,
    "start_time": "2021-10-04T13:55:02.764Z"
   },
   {
    "duration": 12,
    "start_time": "2021-10-04T13:55:02.772Z"
   },
   {
    "duration": 59,
    "start_time": "2021-10-04T13:55:02.786Z"
   },
   {
    "duration": 4,
    "start_time": "2021-10-04T13:55:02.847Z"
   },
   {
    "duration": 17,
    "start_time": "2021-10-04T13:55:02.852Z"
   },
   {
    "duration": 18,
    "start_time": "2021-10-04T13:55:02.871Z"
   },
   {
    "duration": 24,
    "start_time": "2021-10-04T13:55:02.891Z"
   },
   {
    "duration": 17,
    "start_time": "2021-10-04T13:55:02.917Z"
   },
   {
    "duration": 41,
    "start_time": "2021-10-04T13:55:02.936Z"
   },
   {
    "duration": 7,
    "start_time": "2021-10-04T13:55:02.979Z"
   },
   {
    "duration": 63,
    "start_time": "2021-10-04T13:55:02.987Z"
   },
   {
    "duration": 220,
    "start_time": "2021-10-04T13:55:03.052Z"
   },
   {
    "duration": 2,
    "start_time": "2021-10-04T13:55:03.274Z"
   },
   {
    "duration": 38,
    "start_time": "2021-10-04T13:55:40.954Z"
   },
   {
    "duration": 5,
    "start_time": "2021-10-04T13:55:42.608Z"
   },
   {
    "duration": 4,
    "start_time": "2021-10-04T13:55:44.355Z"
   },
   {
    "duration": 6,
    "start_time": "2021-10-04T13:55:46.195Z"
   },
   {
    "duration": 2,
    "start_time": "2021-10-04T13:55:49.104Z"
   },
   {
    "duration": 105,
    "start_time": "2021-10-04T13:56:14.015Z"
   },
   {
    "duration": 30,
    "start_time": "2021-10-04T13:57:15.674Z"
   },
   {
    "duration": 5,
    "start_time": "2021-10-04T13:57:17.115Z"
   },
   {
    "duration": 5,
    "start_time": "2021-10-04T13:57:18.794Z"
   },
   {
    "duration": 5,
    "start_time": "2021-10-04T13:57:20.895Z"
   },
   {
    "duration": 97,
    "start_time": "2021-10-04T13:58:15.443Z"
   },
   {
    "duration": 5,
    "start_time": "2021-10-04T13:58:17.555Z"
   },
   {
    "duration": 6,
    "start_time": "2021-10-04T13:58:19.135Z"
   },
   {
    "duration": 5,
    "start_time": "2021-10-04T13:58:20.775Z"
   },
   {
    "duration": 11,
    "start_time": "2021-10-04T14:04:38.876Z"
   },
   {
    "duration": 5526,
    "start_time": "2021-10-04T14:06:05.815Z"
   },
   {
    "duration": 5553,
    "start_time": "2021-10-04T14:06:58.935Z"
   },
   {
    "duration": 5,
    "start_time": "2021-10-04T14:07:47.236Z"
   },
   {
    "duration": 95,
    "start_time": "2021-10-04T14:08:22.631Z"
   },
   {
    "duration": 7,
    "start_time": "2021-10-04T14:08:30.615Z"
   },
   {
    "duration": 4,
    "start_time": "2021-10-04T14:09:11.196Z"
   },
   {
    "duration": 6,
    "start_time": "2021-10-04T14:09:13.483Z"
   },
   {
    "duration": 92121,
    "start_time": "2021-10-04T14:10:34.375Z"
   },
   {
    "duration": 7,
    "start_time": "2021-10-04T14:12:10.186Z"
   },
   {
    "duration": 7,
    "start_time": "2021-10-04T14:12:23.815Z"
   },
   {
    "duration": 5,
    "start_time": "2021-10-04T14:12:25.876Z"
   },
   {
    "duration": 25,
    "start_time": "2021-10-04T14:14:11.556Z"
   },
   {
    "duration": 5,
    "start_time": "2021-10-04T14:14:49.075Z"
   },
   {
    "duration": 5,
    "start_time": "2021-10-04T14:14:53.395Z"
   },
   {
    "duration": 5,
    "start_time": "2021-10-04T14:14:55.504Z"
   },
   {
    "duration": 1515,
    "start_time": "2021-10-04T14:15:08.953Z"
   },
   {
    "duration": 79,
    "start_time": "2021-10-04T14:15:10.471Z"
   },
   {
    "duration": 8,
    "start_time": "2021-10-04T14:15:10.553Z"
   },
   {
    "duration": 20,
    "start_time": "2021-10-04T14:15:10.562Z"
   },
   {
    "duration": 18,
    "start_time": "2021-10-04T14:15:10.583Z"
   },
   {
    "duration": 10,
    "start_time": "2021-10-04T14:15:10.602Z"
   },
   {
    "duration": 13,
    "start_time": "2021-10-04T14:15:10.613Z"
   },
   {
    "duration": 9,
    "start_time": "2021-10-04T14:15:10.628Z"
   },
   {
    "duration": 18,
    "start_time": "2021-10-04T14:15:10.640Z"
   },
   {
    "duration": 23,
    "start_time": "2021-10-04T14:15:10.660Z"
   },
   {
    "duration": 12,
    "start_time": "2021-10-04T14:15:10.685Z"
   },
   {
    "duration": 19,
    "start_time": "2021-10-04T14:15:10.698Z"
   },
   {
    "duration": 27,
    "start_time": "2021-10-04T14:15:10.718Z"
   },
   {
    "duration": 25,
    "start_time": "2021-10-04T14:15:10.747Z"
   },
   {
    "duration": 15,
    "start_time": "2021-10-04T14:15:10.774Z"
   },
   {
    "duration": 23,
    "start_time": "2021-10-04T14:15:10.790Z"
   },
   {
    "duration": 21,
    "start_time": "2021-10-04T14:15:10.815Z"
   },
   {
    "duration": 20,
    "start_time": "2021-10-04T14:15:10.838Z"
   },
   {
    "duration": 14,
    "start_time": "2021-10-04T14:15:10.860Z"
   },
   {
    "duration": 55,
    "start_time": "2021-10-04T14:15:10.875Z"
   },
   {
    "duration": 7,
    "start_time": "2021-10-04T14:15:10.932Z"
   },
   {
    "duration": 360,
    "start_time": "2021-10-04T14:15:10.941Z"
   },
   {
    "duration": -273,
    "start_time": "2021-10-04T14:15:11.576Z"
   },
   {
    "duration": -275,
    "start_time": "2021-10-04T14:15:11.578Z"
   },
   {
    "duration": -277,
    "start_time": "2021-10-04T14:15:11.581Z"
   },
   {
    "duration": -279,
    "start_time": "2021-10-04T14:15:11.584Z"
   },
   {
    "duration": -280,
    "start_time": "2021-10-04T14:15:11.586Z"
   },
   {
    "duration": -281,
    "start_time": "2021-10-04T14:15:11.588Z"
   },
   {
    "duration": -284,
    "start_time": "2021-10-04T14:15:11.591Z"
   },
   {
    "duration": -285,
    "start_time": "2021-10-04T14:15:11.593Z"
   },
   {
    "duration": -285,
    "start_time": "2021-10-04T14:15:11.594Z"
   },
   {
    "duration": -287,
    "start_time": "2021-10-04T14:15:11.597Z"
   },
   {
    "duration": -288,
    "start_time": "2021-10-04T14:15:11.599Z"
   },
   {
    "duration": -288,
    "start_time": "2021-10-04T14:15:11.600Z"
   },
   {
    "duration": 34,
    "start_time": "2021-10-04T14:15:31.733Z"
   },
   {
    "duration": 1138,
    "start_time": "2021-10-04T14:15:39.378Z"
   },
   {
    "duration": 29,
    "start_time": "2021-10-04T14:15:40.518Z"
   },
   {
    "duration": 8,
    "start_time": "2021-10-04T14:15:40.549Z"
   },
   {
    "duration": 20,
    "start_time": "2021-10-04T14:15:40.559Z"
   },
   {
    "duration": 9,
    "start_time": "2021-10-04T14:15:40.581Z"
   },
   {
    "duration": 5,
    "start_time": "2021-10-04T14:15:40.592Z"
   },
   {
    "duration": 11,
    "start_time": "2021-10-04T14:15:40.600Z"
   },
   {
    "duration": 5,
    "start_time": "2021-10-04T14:15:40.613Z"
   },
   {
    "duration": 34,
    "start_time": "2021-10-04T14:15:40.620Z"
   },
   {
    "duration": 14,
    "start_time": "2021-10-04T14:15:40.656Z"
   },
   {
    "duration": 14,
    "start_time": "2021-10-04T14:15:40.672Z"
   },
   {
    "duration": 5,
    "start_time": "2021-10-04T14:15:40.688Z"
   },
   {
    "duration": 8,
    "start_time": "2021-10-04T14:15:40.694Z"
   },
   {
    "duration": 14,
    "start_time": "2021-10-04T14:15:40.703Z"
   },
   {
    "duration": 6,
    "start_time": "2021-10-04T14:15:40.719Z"
   },
   {
    "duration": 18,
    "start_time": "2021-10-04T14:15:40.727Z"
   },
   {
    "duration": 3,
    "start_time": "2021-10-04T14:15:40.747Z"
   },
   {
    "duration": 7,
    "start_time": "2021-10-04T14:15:40.752Z"
   },
   {
    "duration": 7,
    "start_time": "2021-10-04T14:15:40.760Z"
   },
   {
    "duration": 30,
    "start_time": "2021-10-04T14:15:40.769Z"
   },
   {
    "duration": 9,
    "start_time": "2021-10-04T14:15:40.801Z"
   },
   {
    "duration": 49,
    "start_time": "2021-10-04T14:15:40.813Z"
   },
   {
    "duration": 372,
    "start_time": "2021-10-04T14:15:40.946Z"
   },
   {
    "duration": -129,
    "start_time": "2021-10-04T14:15:41.449Z"
   },
   {
    "duration": -130,
    "start_time": "2021-10-04T14:15:41.451Z"
   },
   {
    "duration": -131,
    "start_time": "2021-10-04T14:15:41.453Z"
   },
   {
    "duration": -133,
    "start_time": "2021-10-04T14:15:41.456Z"
   },
   {
    "duration": -133,
    "start_time": "2021-10-04T14:15:41.457Z"
   },
   {
    "duration": -134,
    "start_time": "2021-10-04T14:15:41.459Z"
   },
   {
    "duration": -135,
    "start_time": "2021-10-04T14:15:41.461Z"
   },
   {
    "duration": -136,
    "start_time": "2021-10-04T14:15:41.463Z"
   },
   {
    "duration": -137,
    "start_time": "2021-10-04T14:15:41.465Z"
   },
   {
    "duration": -139,
    "start_time": "2021-10-04T14:15:41.468Z"
   },
   {
    "duration": -141,
    "start_time": "2021-10-04T14:15:41.470Z"
   },
   {
    "duration": 1558,
    "start_time": "2021-10-04T14:15:59.392Z"
   },
   {
    "duration": 39,
    "start_time": "2021-10-04T14:16:00.953Z"
   },
   {
    "duration": 14,
    "start_time": "2021-10-04T14:16:01.044Z"
   },
   {
    "duration": 33,
    "start_time": "2021-10-04T14:16:01.060Z"
   },
   {
    "duration": 53,
    "start_time": "2021-10-04T14:16:01.095Z"
   },
   {
    "duration": 10,
    "start_time": "2021-10-04T14:16:01.150Z"
   },
   {
    "duration": 16,
    "start_time": "2021-10-04T14:16:01.161Z"
   },
   {
    "duration": 15,
    "start_time": "2021-10-04T14:16:01.179Z"
   },
   {
    "duration": 24,
    "start_time": "2021-10-04T14:16:01.198Z"
   },
   {
    "duration": 15,
    "start_time": "2021-10-04T14:16:01.224Z"
   },
   {
    "duration": 8,
    "start_time": "2021-10-04T14:16:01.242Z"
   },
   {
    "duration": 11,
    "start_time": "2021-10-04T14:16:01.252Z"
   },
   {
    "duration": 12,
    "start_time": "2021-10-04T14:16:01.265Z"
   },
   {
    "duration": 30,
    "start_time": "2021-10-04T14:16:01.279Z"
   },
   {
    "duration": 29,
    "start_time": "2021-10-04T14:16:01.311Z"
   },
   {
    "duration": 13,
    "start_time": "2021-10-04T14:16:01.342Z"
   },
   {
    "duration": 31,
    "start_time": "2021-10-04T14:16:01.356Z"
   },
   {
    "duration": 23,
    "start_time": "2021-10-04T14:16:01.389Z"
   },
   {
    "duration": 16,
    "start_time": "2021-10-04T14:16:01.414Z"
   },
   {
    "duration": 51,
    "start_time": "2021-10-04T14:16:01.432Z"
   },
   {
    "duration": 19,
    "start_time": "2021-10-04T14:16:01.485Z"
   },
   {
    "duration": 39,
    "start_time": "2021-10-04T14:16:01.506Z"
   },
   {
    "duration": 8,
    "start_time": "2021-10-04T14:16:01.547Z"
   },
   {
    "duration": 547,
    "start_time": "2021-10-04T14:16:01.556Z"
   },
   {
    "duration": 44,
    "start_time": "2021-10-04T14:16:02.061Z"
   },
   {
    "duration": 43,
    "start_time": "2021-10-04T14:16:02.063Z"
   },
   {
    "duration": 43,
    "start_time": "2021-10-04T14:16:02.065Z"
   },
   {
    "duration": 42,
    "start_time": "2021-10-04T14:16:02.067Z"
   },
   {
    "duration": 42,
    "start_time": "2021-10-04T14:16:02.069Z"
   },
   {
    "duration": 41,
    "start_time": "2021-10-04T14:16:02.071Z"
   },
   {
    "duration": 41,
    "start_time": "2021-10-04T14:16:02.073Z"
   },
   {
    "duration": 34,
    "start_time": "2021-10-04T14:16:02.081Z"
   },
   {
    "duration": 33,
    "start_time": "2021-10-04T14:16:02.084Z"
   },
   {
    "duration": 32,
    "start_time": "2021-10-04T14:16:02.086Z"
   },
   {
    "duration": 1214,
    "start_time": "2021-10-04T14:16:31.909Z"
   },
   {
    "duration": 30,
    "start_time": "2021-10-04T14:16:33.125Z"
   },
   {
    "duration": 8,
    "start_time": "2021-10-04T14:16:33.157Z"
   },
   {
    "duration": 15,
    "start_time": "2021-10-04T14:16:33.167Z"
   },
   {
    "duration": 6,
    "start_time": "2021-10-04T14:16:33.184Z"
   },
   {
    "duration": 15,
    "start_time": "2021-10-04T14:16:33.191Z"
   },
   {
    "duration": 9,
    "start_time": "2021-10-04T14:16:33.207Z"
   },
   {
    "duration": 5,
    "start_time": "2021-10-04T14:16:33.217Z"
   },
   {
    "duration": 34,
    "start_time": "2021-10-04T14:16:33.225Z"
   },
   {
    "duration": 11,
    "start_time": "2021-10-04T14:16:33.261Z"
   },
   {
    "duration": 6,
    "start_time": "2021-10-04T14:16:33.273Z"
   },
   {
    "duration": 6,
    "start_time": "2021-10-04T14:16:33.280Z"
   },
   {
    "duration": 15,
    "start_time": "2021-10-04T14:16:33.288Z"
   },
   {
    "duration": 8,
    "start_time": "2021-10-04T14:16:33.305Z"
   },
   {
    "duration": 7,
    "start_time": "2021-10-04T14:16:33.314Z"
   },
   {
    "duration": 6,
    "start_time": "2021-10-04T14:16:33.322Z"
   },
   {
    "duration": 20,
    "start_time": "2021-10-04T14:16:33.329Z"
   },
   {
    "duration": 7,
    "start_time": "2021-10-04T14:16:33.351Z"
   },
   {
    "duration": 4,
    "start_time": "2021-10-04T14:16:33.360Z"
   },
   {
    "duration": 31,
    "start_time": "2021-10-04T14:16:33.366Z"
   },
   {
    "duration": 7,
    "start_time": "2021-10-04T14:16:33.398Z"
   },
   {
    "duration": 45,
    "start_time": "2021-10-04T14:16:33.407Z"
   },
   {
    "duration": 8,
    "start_time": "2021-10-04T14:16:33.546Z"
   },
   {
    "duration": 5,
    "start_time": "2021-10-04T14:16:33.645Z"
   },
   {
    "duration": 93,
    "start_time": "2021-10-04T14:16:33.653Z"
   },
   {
    "duration": 5977,
    "start_time": "2021-10-04T14:16:33.748Z"
   },
   {
    "duration": 381,
    "start_time": "2021-10-04T14:16:39.728Z"
   },
   {
    "duration": -580,
    "start_time": "2021-10-04T14:16:40.690Z"
   },
   {
    "duration": -580,
    "start_time": "2021-10-04T14:16:40.692Z"
   },
   {
    "duration": -582,
    "start_time": "2021-10-04T14:16:40.694Z"
   },
   {
    "duration": -583,
    "start_time": "2021-10-04T14:16:40.696Z"
   },
   {
    "duration": -585,
    "start_time": "2021-10-04T14:16:40.699Z"
   },
   {
    "duration": -585,
    "start_time": "2021-10-04T14:16:40.700Z"
   },
   {
    "duration": -586,
    "start_time": "2021-10-04T14:16:40.702Z"
   },
   {
    "duration": 7,
    "start_time": "2021-10-04T14:17:23.593Z"
   },
   {
    "duration": 269,
    "start_time": "2021-10-04T14:17:27.566Z"
   },
   {
    "duration": 5407,
    "start_time": "2021-10-04T14:18:09.603Z"
   },
   {
    "duration": 6,
    "start_time": "2021-10-04T14:18:17.562Z"
   },
   {
    "duration": 4,
    "start_time": "2021-10-04T14:18:19.900Z"
   },
   {
    "duration": 6,
    "start_time": "2021-10-04T14:18:22.512Z"
   },
   {
    "duration": 1197,
    "start_time": "2021-10-04T14:19:38.435Z"
   },
   {
    "duration": 32,
    "start_time": "2021-10-04T14:19:39.634Z"
   },
   {
    "duration": 9,
    "start_time": "2021-10-04T14:19:39.668Z"
   },
   {
    "duration": 28,
    "start_time": "2021-10-04T14:19:39.679Z"
   },
   {
    "duration": 27,
    "start_time": "2021-10-04T14:19:39.709Z"
   },
   {
    "duration": 19,
    "start_time": "2021-10-04T14:19:39.738Z"
   },
   {
    "duration": 13,
    "start_time": "2021-10-04T14:19:39.758Z"
   },
   {
    "duration": 6,
    "start_time": "2021-10-04T14:19:39.773Z"
   },
   {
    "duration": 16,
    "start_time": "2021-10-04T14:19:39.781Z"
   },
   {
    "duration": 18,
    "start_time": "2021-10-04T14:19:39.798Z"
   },
   {
    "duration": 15,
    "start_time": "2021-10-04T14:19:39.818Z"
   },
   {
    "duration": 7,
    "start_time": "2021-10-04T14:19:39.834Z"
   },
   {
    "duration": 5,
    "start_time": "2021-10-04T14:19:39.843Z"
   },
   {
    "duration": 8,
    "start_time": "2021-10-04T14:19:39.850Z"
   },
   {
    "duration": 3,
    "start_time": "2021-10-04T14:19:39.860Z"
   },
   {
    "duration": 6,
    "start_time": "2021-10-04T14:19:39.865Z"
   },
   {
    "duration": 10,
    "start_time": "2021-10-04T14:19:39.873Z"
   },
   {
    "duration": 13,
    "start_time": "2021-10-04T14:19:39.885Z"
   },
   {
    "duration": 6,
    "start_time": "2021-10-04T14:19:39.900Z"
   },
   {
    "duration": 36,
    "start_time": "2021-10-04T14:19:39.908Z"
   },
   {
    "duration": 12,
    "start_time": "2021-10-04T14:19:39.946Z"
   },
   {
    "duration": 32,
    "start_time": "2021-10-04T14:19:39.960Z"
   },
   {
    "duration": 96,
    "start_time": "2021-10-04T14:19:40.049Z"
   },
   {
    "duration": 6,
    "start_time": "2021-10-04T14:19:40.147Z"
   },
   {
    "duration": 97,
    "start_time": "2021-10-04T14:19:40.156Z"
   },
   {
    "duration": 6022,
    "start_time": "2021-10-04T14:19:40.345Z"
   },
   {
    "duration": 6,
    "start_time": "2021-10-04T14:19:46.368Z"
   },
   {
    "duration": 12,
    "start_time": "2021-10-04T14:19:46.376Z"
   },
   {
    "duration": 22,
    "start_time": "2021-10-04T14:19:46.389Z"
   },
   {
    "duration": 94090,
    "start_time": "2021-10-04T14:19:46.413Z"
   },
   {
    "duration": 5,
    "start_time": "2021-10-04T14:21:20.505Z"
   },
   {
    "duration": 54,
    "start_time": "2021-10-04T14:21:20.512Z"
   },
   {
    "duration": 6,
    "start_time": "2021-10-04T14:21:20.568Z"
   },
   {
    "duration": 128,
    "start_time": "2021-10-04T14:25:24.316Z"
   },
   {
    "duration": 5,
    "start_time": "2021-10-04T14:26:27.556Z"
   },
   {
    "duration": 5,
    "start_time": "2021-10-04T14:26:29.123Z"
   },
   {
    "duration": 5,
    "start_time": "2021-10-04T14:26:30.615Z"
   },
   {
    "duration": 3,
    "start_time": "2021-10-04T14:32:06.316Z"
   },
   {
    "duration": 11,
    "start_time": "2021-10-04T14:33:11.915Z"
   },
   {
    "duration": 8,
    "start_time": "2021-10-04T14:33:52.163Z"
   },
   {
    "duration": 4,
    "start_time": "2021-10-04T14:34:02.715Z"
   },
   {
    "duration": 4,
    "start_time": "2021-10-04T14:34:12.583Z"
   },
   {
    "duration": 5,
    "start_time": "2021-10-04T14:35:30.475Z"
   },
   {
    "duration": 11,
    "start_time": "2021-10-04T14:35:47.475Z"
   },
   {
    "duration": 8,
    "start_time": "2021-10-04T14:36:51.115Z"
   },
   {
    "duration": 4,
    "start_time": "2021-10-04T14:37:09.995Z"
   },
   {
    "duration": 4,
    "start_time": "2021-10-04T14:37:12.915Z"
   },
   {
    "duration": 506,
    "start_time": "2021-10-05T10:06:07.379Z"
   },
   {
    "duration": 1542,
    "start_time": "2021-10-05T10:10:53.111Z"
   },
   {
    "duration": 40,
    "start_time": "2021-10-05T10:10:54.656Z"
   },
   {
    "duration": 12,
    "start_time": "2021-10-05T10:10:54.698Z"
   },
   {
    "duration": 25,
    "start_time": "2021-10-05T10:10:54.713Z"
   },
   {
    "duration": 31,
    "start_time": "2021-10-05T10:10:54.740Z"
   },
   {
    "duration": 6,
    "start_time": "2021-10-05T10:10:54.773Z"
   },
   {
    "duration": 24,
    "start_time": "2021-10-05T10:10:54.782Z"
   },
   {
    "duration": 6,
    "start_time": "2021-10-05T10:10:54.810Z"
   },
   {
    "duration": 44,
    "start_time": "2021-10-05T10:10:54.819Z"
   },
   {
    "duration": 17,
    "start_time": "2021-10-05T10:10:54.865Z"
   },
   {
    "duration": 28,
    "start_time": "2021-10-05T10:10:54.884Z"
   },
   {
    "duration": 5,
    "start_time": "2021-10-05T10:10:54.915Z"
   },
   {
    "duration": 7,
    "start_time": "2021-10-05T10:10:54.923Z"
   },
   {
    "duration": 32,
    "start_time": "2021-10-05T10:10:54.932Z"
   },
   {
    "duration": 6,
    "start_time": "2021-10-05T10:10:54.967Z"
   },
   {
    "duration": 32,
    "start_time": "2021-10-05T10:10:54.976Z"
   },
   {
    "duration": 9,
    "start_time": "2021-10-05T10:10:55.011Z"
   },
   {
    "duration": 11,
    "start_time": "2021-10-05T10:10:55.023Z"
   },
   {
    "duration": 7,
    "start_time": "2021-10-05T10:10:55.037Z"
   },
   {
    "duration": 57,
    "start_time": "2021-10-05T10:10:55.047Z"
   },
   {
    "duration": 12,
    "start_time": "2021-10-05T10:10:55.107Z"
   },
   {
    "duration": 9588,
    "start_time": "2021-10-05T10:10:55.122Z"
   },
   {
    "duration": 44,
    "start_time": "2021-10-05T10:11:04.718Z"
   },
   {
    "duration": 8,
    "start_time": "2021-10-05T10:11:04.767Z"
   },
   {
    "duration": 10,
    "start_time": "2021-10-05T10:11:04.778Z"
   },
   {
    "duration": 155792,
    "start_time": "2021-10-05T10:11:04.790Z"
   },
   {
    "duration": 8,
    "start_time": "2021-10-05T10:13:40.584Z"
   },
   {
    "duration": 100,
    "start_time": "2021-10-05T10:13:40.596Z"
   },
   {
    "duration": 10,
    "start_time": "2021-10-05T10:13:40.698Z"
   },
   {
    "duration": 72,
    "start_time": "2021-10-05T10:13:40.711Z"
   },
   {
    "duration": 7,
    "start_time": "2021-10-05T10:13:40.786Z"
   },
   {
    "duration": 7,
    "start_time": "2021-10-05T10:13:40.862Z"
   },
   {
    "duration": 91,
    "start_time": "2021-10-05T10:13:40.872Z"
   },
   {
    "duration": 9,
    "start_time": "2021-10-05T10:13:40.966Z"
   },
   {
    "duration": 101,
    "start_time": "2021-10-05T10:13:40.981Z"
   },
   {
    "duration": 12,
    "start_time": "2021-10-05T10:13:41.085Z"
   },
   {
    "duration": 6,
    "start_time": "2021-10-05T10:13:41.099Z"
   },
   {
    "duration": 9,
    "start_time": "2021-10-05T10:13:41.107Z"
   },
   {
    "duration": 49,
    "start_time": "2021-10-05T10:13:41.118Z"
   },
   {
    "duration": 34,
    "start_time": "2021-10-05T10:13:41.169Z"
   },
   {
    "duration": 11,
    "start_time": "2021-10-05T10:13:41.205Z"
   },
   {
    "duration": 5,
    "start_time": "2021-10-05T10:13:41.219Z"
   },
   {
    "duration": 37,
    "start_time": "2021-10-05T10:13:41.226Z"
   },
   {
    "duration": 154841,
    "start_time": "2021-10-05T10:13:41.265Z"
   },
   {
    "duration": 97,
    "start_time": "2021-10-05T10:16:16.108Z"
   },
   {
    "duration": -37,
    "start_time": "2021-10-05T10:16:16.244Z"
   },
   {
    "duration": 75,
    "start_time": "2021-10-05T10:21:45.707Z"
   },
   {
    "duration": 11,
    "start_time": "2021-10-05T10:21:48.066Z"
   },
   {
    "duration": 26,
    "start_time": "2021-10-05T10:21:49.931Z"
   },
   {
    "duration": 10,
    "start_time": "2021-10-05T10:21:52.227Z"
   },
   {
    "duration": 93,
    "start_time": "2021-10-05T10:21:57.907Z"
   },
   {
    "duration": 223,
    "start_time": "2021-10-05T10:22:09.114Z"
   },
   {
    "duration": 10,
    "start_time": "2021-10-05T10:22:11.411Z"
   },
   {
    "duration": 1489,
    "start_time": "2021-10-05T10:30:37.315Z"
   },
   {
    "duration": 34,
    "start_time": "2021-10-05T10:30:38.807Z"
   },
   {
    "duration": 20,
    "start_time": "2021-10-05T10:30:38.844Z"
   },
   {
    "duration": 32,
    "start_time": "2021-10-05T10:30:38.867Z"
   },
   {
    "duration": 10,
    "start_time": "2021-10-05T10:30:38.903Z"
   },
   {
    "duration": 7,
    "start_time": "2021-10-05T10:30:38.916Z"
   },
   {
    "duration": 10,
    "start_time": "2021-10-05T10:30:38.961Z"
   },
   {
    "duration": 6,
    "start_time": "2021-10-05T10:30:38.978Z"
   },
   {
    "duration": 22,
    "start_time": "2021-10-05T10:30:38.988Z"
   },
   {
    "duration": 50,
    "start_time": "2021-10-05T10:30:39.012Z"
   },
   {
    "duration": 9,
    "start_time": "2021-10-05T10:30:39.065Z"
   },
   {
    "duration": 8,
    "start_time": "2021-10-05T10:30:39.076Z"
   },
   {
    "duration": 6,
    "start_time": "2021-10-05T10:30:39.086Z"
   },
   {
    "duration": 11,
    "start_time": "2021-10-05T10:30:39.094Z"
   },
   {
    "duration": 6,
    "start_time": "2021-10-05T10:30:39.107Z"
   },
   {
    "duration": 48,
    "start_time": "2021-10-05T10:30:39.115Z"
   },
   {
    "duration": 14,
    "start_time": "2021-10-05T10:30:39.166Z"
   },
   {
    "duration": 8,
    "start_time": "2021-10-05T10:30:39.182Z"
   },
   {
    "duration": 12,
    "start_time": "2021-10-05T10:30:39.193Z"
   },
   {
    "duration": 66,
    "start_time": "2021-10-05T10:30:39.207Z"
   },
   {
    "duration": 13,
    "start_time": "2021-10-05T10:30:39.276Z"
   },
   {
    "duration": 10023,
    "start_time": "2021-10-05T10:30:39.292Z"
   },
   {
    "duration": 9,
    "start_time": "2021-10-05T10:30:49.321Z"
   },
   {
    "duration": 10,
    "start_time": "2021-10-05T10:30:49.365Z"
   },
   {
    "duration": 9,
    "start_time": "2021-10-05T10:30:49.378Z"
   },
   {
    "duration": 157674,
    "start_time": "2021-10-05T10:30:49.389Z"
   },
   {
    "duration": 12,
    "start_time": "2021-10-05T10:33:27.066Z"
   },
   {
    "duration": 92,
    "start_time": "2021-10-05T10:33:27.082Z"
   },
   {
    "duration": 11,
    "start_time": "2021-10-05T10:33:27.180Z"
   },
   {
    "duration": 81,
    "start_time": "2021-10-05T10:33:27.193Z"
   },
   {
    "duration": 88,
    "start_time": "2021-10-05T10:33:27.278Z"
   },
   {
    "duration": 22,
    "start_time": "2021-10-05T10:33:27.370Z"
   },
   {
    "duration": 73,
    "start_time": "2021-10-05T10:33:27.395Z"
   },
   {
    "duration": 90,
    "start_time": "2021-10-05T10:33:27.475Z"
   },
   {
    "duration": 31,
    "start_time": "2021-10-05T10:33:27.569Z"
   },
   {
    "duration": 13,
    "start_time": "2021-10-05T10:33:27.602Z"
   },
   {
    "duration": 7,
    "start_time": "2021-10-05T10:33:27.617Z"
   },
   {
    "duration": 9,
    "start_time": "2021-10-05T10:33:27.626Z"
   },
   {
    "duration": 30,
    "start_time": "2021-10-05T10:33:27.638Z"
   },
   {
    "duration": 27,
    "start_time": "2021-10-05T10:33:27.675Z"
   },
   {
    "duration": 10,
    "start_time": "2021-10-05T10:33:27.704Z"
   },
   {
    "duration": 5,
    "start_time": "2021-10-05T10:33:27.717Z"
   },
   {
    "duration": 6,
    "start_time": "2021-10-05T10:33:27.725Z"
   },
   {
    "duration": 11807,
    "start_time": "2021-10-05T10:33:27.733Z"
   },
   {
    "duration": 19,
    "start_time": "2021-10-05T10:33:39.543Z"
   },
   {
    "duration": 712,
    "start_time": "2021-10-05T10:33:39.566Z"
   },
   {
    "duration": -104,
    "start_time": "2021-10-05T10:33:40.385Z"
   },
   {
    "duration": -103,
    "start_time": "2021-10-05T10:33:40.387Z"
   },
   {
    "duration": -104,
    "start_time": "2021-10-05T10:33:40.390Z"
   },
   {
    "duration": -105,
    "start_time": "2021-10-05T10:33:40.393Z"
   },
   {
    "duration": -104,
    "start_time": "2021-10-05T10:33:40.395Z"
   },
   {
    "duration": -105,
    "start_time": "2021-10-05T10:33:40.398Z"
   },
   {
    "duration": 1716,
    "start_time": "2021-10-05T10:37:47.271Z"
   },
   {
    "duration": 48,
    "start_time": "2021-10-05T10:37:48.990Z"
   },
   {
    "duration": 12,
    "start_time": "2021-10-05T10:37:49.041Z"
   },
   {
    "duration": 35,
    "start_time": "2021-10-05T10:37:49.057Z"
   },
   {
    "duration": 10,
    "start_time": "2021-10-05T10:37:49.096Z"
   },
   {
    "duration": 9,
    "start_time": "2021-10-05T10:37:49.109Z"
   },
   {
    "duration": 8,
    "start_time": "2021-10-05T10:37:49.121Z"
   },
   {
    "duration": 9,
    "start_time": "2021-10-05T10:37:49.161Z"
   },
   {
    "duration": 30,
    "start_time": "2021-10-05T10:37:49.176Z"
   },
   {
    "duration": 16,
    "start_time": "2021-10-05T10:37:49.209Z"
   },
   {
    "duration": 37,
    "start_time": "2021-10-05T10:37:49.228Z"
   },
   {
    "duration": 20,
    "start_time": "2021-10-05T10:37:49.269Z"
   },
   {
    "duration": 25,
    "start_time": "2021-10-05T10:37:49.292Z"
   },
   {
    "duration": 12,
    "start_time": "2021-10-05T10:37:49.319Z"
   },
   {
    "duration": 8,
    "start_time": "2021-10-05T10:37:49.333Z"
   },
   {
    "duration": 13,
    "start_time": "2021-10-05T10:37:49.343Z"
   },
   {
    "duration": 17,
    "start_time": "2021-10-05T10:37:49.365Z"
   },
   {
    "duration": 16,
    "start_time": "2021-10-05T10:37:49.386Z"
   },
   {
    "duration": 12,
    "start_time": "2021-10-05T10:37:49.404Z"
   },
   {
    "duration": 46,
    "start_time": "2021-10-05T10:37:49.418Z"
   },
   {
    "duration": 17,
    "start_time": "2021-10-05T10:37:49.467Z"
   },
   {
    "duration": 9476,
    "start_time": "2021-10-05T10:37:49.489Z"
   },
   {
    "duration": 9,
    "start_time": "2021-10-05T10:37:58.971Z"
   },
   {
    "duration": 16,
    "start_time": "2021-10-05T10:37:58.983Z"
   },
   {
    "duration": 10,
    "start_time": "2021-10-05T10:37:59.001Z"
   },
   {
    "duration": 162099,
    "start_time": "2021-10-05T10:37:59.013Z"
   },
   {
    "duration": 9,
    "start_time": "2021-10-05T10:40:41.114Z"
   },
   {
    "duration": 93,
    "start_time": "2021-10-05T10:40:41.125Z"
   },
   {
    "duration": 8,
    "start_time": "2021-10-05T10:40:41.220Z"
   },
   {
    "duration": 75,
    "start_time": "2021-10-05T10:40:41.230Z"
   },
   {
    "duration": 59,
    "start_time": "2021-10-05T10:40:41.307Z"
   },
   {
    "duration": 9,
    "start_time": "2021-10-05T10:40:41.369Z"
   },
   {
    "duration": 11,
    "start_time": "2021-10-05T10:40:41.381Z"
   },
   {
    "duration": 10,
    "start_time": "2021-10-05T10:40:41.464Z"
   },
   {
    "duration": 121,
    "start_time": "2021-10-05T10:40:41.477Z"
   },
   {
    "duration": 13,
    "start_time": "2021-10-05T10:40:41.601Z"
   },
   {
    "duration": 6,
    "start_time": "2021-10-05T10:40:41.616Z"
   },
   {
    "duration": 13,
    "start_time": "2021-10-05T10:40:41.625Z"
   },
   {
    "duration": 17,
    "start_time": "2021-10-05T10:40:41.670Z"
   },
   {
    "duration": 15,
    "start_time": "2021-10-05T10:40:41.690Z"
   },
   {
    "duration": 10,
    "start_time": "2021-10-05T10:40:41.708Z"
   },
   {
    "duration": 6,
    "start_time": "2021-10-05T10:40:41.720Z"
   },
   {
    "duration": 35,
    "start_time": "2021-10-05T10:40:41.729Z"
   },
   {
    "duration": 11857,
    "start_time": "2021-10-05T10:40:41.767Z"
   },
   {
    "duration": 6,
    "start_time": "2021-10-05T10:40:53.626Z"
   },
   {
    "duration": 40,
    "start_time": "2021-10-05T10:40:53.635Z"
   },
   {
    "duration": 6613,
    "start_time": "2021-10-05T10:40:53.679Z"
   },
   {
    "duration": 5,
    "start_time": "2021-10-05T10:41:00.295Z"
   },
   {
    "duration": 16,
    "start_time": "2021-10-05T10:41:00.302Z"
   },
   {
    "duration": 1864,
    "start_time": "2021-10-05T10:44:53.671Z"
   },
   {
    "duration": 40,
    "start_time": "2021-10-05T10:44:55.538Z"
   },
   {
    "duration": 17,
    "start_time": "2021-10-05T10:44:55.581Z"
   },
   {
    "duration": 45,
    "start_time": "2021-10-05T10:44:55.601Z"
   },
   {
    "duration": 35,
    "start_time": "2021-10-05T10:44:55.648Z"
   },
   {
    "duration": 28,
    "start_time": "2021-10-05T10:44:55.686Z"
   },
   {
    "duration": 29,
    "start_time": "2021-10-05T10:44:55.719Z"
   },
   {
    "duration": 37,
    "start_time": "2021-10-05T10:44:55.751Z"
   },
   {
    "duration": 39,
    "start_time": "2021-10-05T10:44:55.790Z"
   },
   {
    "duration": 54,
    "start_time": "2021-10-05T10:44:55.831Z"
   },
   {
    "duration": 46,
    "start_time": "2021-10-05T10:44:55.887Z"
   },
   {
    "duration": 12,
    "start_time": "2021-10-05T10:44:55.935Z"
   },
   {
    "duration": 37,
    "start_time": "2021-10-05T10:44:55.949Z"
   },
   {
    "duration": 33,
    "start_time": "2021-10-05T10:44:55.988Z"
   },
   {
    "duration": 17,
    "start_time": "2021-10-05T10:44:56.023Z"
   },
   {
    "duration": 14,
    "start_time": "2021-10-05T10:44:56.043Z"
   },
   {
    "duration": 13,
    "start_time": "2021-10-05T10:44:56.060Z"
   },
   {
    "duration": 24,
    "start_time": "2021-10-05T10:44:56.075Z"
   },
   {
    "duration": 15,
    "start_time": "2021-10-05T10:44:56.101Z"
   },
   {
    "duration": 54,
    "start_time": "2021-10-05T10:44:56.118Z"
   },
   {
    "duration": 14,
    "start_time": "2021-10-05T10:44:56.175Z"
   },
   {
    "duration": 9102,
    "start_time": "2021-10-05T10:44:56.198Z"
   },
   {
    "duration": 10,
    "start_time": "2021-10-05T10:45:05.304Z"
   },
   {
    "duration": 6,
    "start_time": "2021-10-05T10:45:05.317Z"
   },
   {
    "duration": 42,
    "start_time": "2021-10-05T10:45:05.325Z"
   },
   {
    "duration": 156862,
    "start_time": "2021-10-05T10:45:05.369Z"
   },
   {
    "duration": 30,
    "start_time": "2021-10-05T10:47:42.234Z"
   },
   {
    "duration": 42,
    "start_time": "2021-10-05T10:47:42.267Z"
   },
   {
    "duration": 9,
    "start_time": "2021-10-05T10:47:42.311Z"
   },
   {
    "duration": 103,
    "start_time": "2021-10-05T10:47:42.362Z"
   },
   {
    "duration": 100,
    "start_time": "2021-10-05T10:47:42.469Z"
   },
   {
    "duration": 12,
    "start_time": "2021-10-05T10:47:42.572Z"
   },
   {
    "duration": 98,
    "start_time": "2021-10-05T10:47:42.665Z"
   },
   {
    "duration": 6,
    "start_time": "2021-10-05T10:47:42.766Z"
   },
   {
    "duration": 32,
    "start_time": "2021-10-05T10:47:42.774Z"
   },
   {
    "duration": 12,
    "start_time": "2021-10-05T10:47:42.808Z"
   },
   {
    "duration": 6,
    "start_time": "2021-10-05T10:47:42.823Z"
   },
   {
    "duration": 36,
    "start_time": "2021-10-05T10:47:42.831Z"
   },
   {
    "duration": 9,
    "start_time": "2021-10-05T10:47:42.871Z"
   },
   {
    "duration": 28,
    "start_time": "2021-10-05T10:47:42.883Z"
   },
   {
    "duration": 9,
    "start_time": "2021-10-05T10:47:42.914Z"
   },
   {
    "duration": 14,
    "start_time": "2021-10-05T10:47:42.925Z"
   },
   {
    "duration": 36,
    "start_time": "2021-10-05T10:47:42.941Z"
   },
   {
    "duration": 11473,
    "start_time": "2021-10-05T10:47:42.979Z"
   },
   {
    "duration": 5,
    "start_time": "2021-10-05T10:47:54.461Z"
   },
   {
    "duration": 19,
    "start_time": "2021-10-05T10:47:54.469Z"
   },
   {
    "duration": 6238,
    "start_time": "2021-10-05T10:47:54.491Z"
   },
   {
    "duration": 6,
    "start_time": "2021-10-05T10:48:00.731Z"
   },
   {
    "duration": 27,
    "start_time": "2021-10-05T10:48:00.739Z"
   },
   {
    "duration": 221455,
    "start_time": "2021-10-05T10:48:00.768Z"
   },
   {
    "duration": 64,
    "start_time": "2021-10-05T10:51:42.226Z"
   },
   {
    "duration": 10,
    "start_time": "2021-10-05T10:51:42.292Z"
   },
   {
    "duration": 92270,
    "start_time": "2021-10-05T10:51:42.304Z"
   },
   {
    "duration": 40,
    "start_time": "2021-10-05T10:53:14.576Z"
   },
   {
    "duration": 104,
    "start_time": "2021-10-05T10:53:14.619Z"
   },
   {
    "duration": -171,
    "start_time": "2021-10-05T10:53:14.897Z"
   },
   {
    "duration": -189,
    "start_time": "2021-10-05T10:53:14.917Z"
   },
   {
    "duration": -197,
    "start_time": "2021-10-05T10:53:14.926Z"
   },
   {
    "duration": 153,
    "start_time": "2021-10-05T10:53:28.588Z"
   },
   {
    "duration": 10,
    "start_time": "2021-10-05T10:53:47.001Z"
   },
   {
    "duration": 106,
    "start_time": "2021-10-05T10:53:55.209Z"
   },
   {
    "duration": 127,
    "start_time": "2021-10-05T10:54:03.150Z"
   },
   {
    "duration": 86,
    "start_time": "2021-10-05T10:54:05.677Z"
   },
   {
    "duration": 1622,
    "start_time": "2021-10-05T17:47:04.639Z"
   },
   {
    "duration": 38,
    "start_time": "2021-10-05T17:47:06.264Z"
   },
   {
    "duration": 13,
    "start_time": "2021-10-05T17:47:06.306Z"
   },
   {
    "duration": 47,
    "start_time": "2021-10-05T17:47:06.321Z"
   },
   {
    "duration": 9,
    "start_time": "2021-10-05T17:47:06.371Z"
   },
   {
    "duration": 5,
    "start_time": "2021-10-05T17:47:06.382Z"
   },
   {
    "duration": 8,
    "start_time": "2021-10-05T17:47:06.389Z"
   },
   {
    "duration": 6,
    "start_time": "2021-10-05T17:47:06.401Z"
   },
   {
    "duration": 60,
    "start_time": "2021-10-05T17:47:06.409Z"
   },
   {
    "duration": 17,
    "start_time": "2021-10-05T17:47:06.471Z"
   },
   {
    "duration": 10,
    "start_time": "2021-10-05T17:47:06.491Z"
   },
   {
    "duration": 12,
    "start_time": "2021-10-05T17:47:06.503Z"
   },
   {
    "duration": 8,
    "start_time": "2021-10-05T17:47:06.517Z"
   },
   {
    "duration": 43,
    "start_time": "2021-10-05T17:47:06.527Z"
   },
   {
    "duration": 8,
    "start_time": "2021-10-05T17:47:06.572Z"
   },
   {
    "duration": 8,
    "start_time": "2021-10-05T17:47:06.582Z"
   },
   {
    "duration": 9,
    "start_time": "2021-10-05T17:47:06.593Z"
   },
   {
    "duration": 11,
    "start_time": "2021-10-05T17:47:06.605Z"
   },
   {
    "duration": 7,
    "start_time": "2021-10-05T17:47:06.618Z"
   },
   {
    "duration": 41,
    "start_time": "2021-10-05T17:47:06.668Z"
   },
   {
    "duration": 14,
    "start_time": "2021-10-05T17:47:06.712Z"
   },
   {
    "duration": 8384,
    "start_time": "2021-10-05T17:47:06.728Z"
   },
   {
    "duration": 8,
    "start_time": "2021-10-05T17:47:15.118Z"
   },
   {
    "duration": 6,
    "start_time": "2021-10-05T17:47:15.129Z"
   },
   {
    "duration": 8,
    "start_time": "2021-10-05T17:47:15.168Z"
   },
   {
    "duration": 151122,
    "start_time": "2021-10-05T17:47:15.178Z"
   },
   {
    "duration": 7,
    "start_time": "2021-10-05T17:49:46.303Z"
   },
   {
    "duration": 77,
    "start_time": "2021-10-05T17:49:46.313Z"
   },
   {
    "duration": 8,
    "start_time": "2021-10-05T17:49:46.392Z"
   },
   {
    "duration": 72,
    "start_time": "2021-10-05T17:49:46.403Z"
   },
   {
    "duration": 91,
    "start_time": "2021-10-05T17:49:46.478Z"
   },
   {
    "duration": 100,
    "start_time": "2021-10-05T17:49:46.573Z"
   },
   {
    "duration": 190,
    "start_time": "2021-10-05T17:49:46.676Z"
   },
   {
    "duration": 5,
    "start_time": "2021-10-05T17:49:46.869Z"
   },
   {
    "duration": 19,
    "start_time": "2021-10-05T17:49:46.877Z"
   },
   {
    "duration": 12,
    "start_time": "2021-10-05T17:49:46.898Z"
   },
   {
    "duration": 5,
    "start_time": "2021-10-05T17:49:46.913Z"
   },
   {
    "duration": 49,
    "start_time": "2021-10-05T17:49:46.920Z"
   },
   {
    "duration": 6,
    "start_time": "2021-10-05T17:49:46.971Z"
   },
   {
    "duration": 18,
    "start_time": "2021-10-05T17:49:46.979Z"
   },
   {
    "duration": 10,
    "start_time": "2021-10-05T17:49:46.999Z"
   },
   {
    "duration": 5,
    "start_time": "2021-10-05T17:49:47.012Z"
   },
   {
    "duration": 8,
    "start_time": "2021-10-05T17:49:47.019Z"
   },
   {
    "duration": 10479,
    "start_time": "2021-10-05T17:49:47.067Z"
   },
   {
    "duration": 18,
    "start_time": "2021-10-05T17:49:57.549Z"
   },
   {
    "duration": 12,
    "start_time": "2021-10-05T17:49:57.570Z"
   },
   {
    "duration": 5615,
    "start_time": "2021-10-05T17:49:57.585Z"
   },
   {
    "duration": 6,
    "start_time": "2021-10-05T17:50:03.202Z"
   },
   {
    "duration": 15,
    "start_time": "2021-10-05T17:50:03.210Z"
   },
   {
    "duration": 216395,
    "start_time": "2021-10-05T17:50:03.227Z"
   },
   {
    "duration": 67,
    "start_time": "2021-10-05T17:53:39.625Z"
   },
   {
    "duration": 14,
    "start_time": "2021-10-05T17:53:39.695Z"
   },
   {
    "duration": 89405,
    "start_time": "2021-10-05T17:53:39.711Z"
   },
   {
    "duration": 67,
    "start_time": "2021-10-05T17:55:09.119Z"
   },
   {
    "duration": 9,
    "start_time": "2021-10-05T17:55:09.189Z"
   },
   {
    "duration": 167,
    "start_time": "2021-10-05T17:55:09.201Z"
   },
   {
    "duration": 201,
    "start_time": "2021-10-05T17:55:09.371Z"
   },
   {
    "duration": 6,
    "start_time": "2021-10-05T18:06:42.797Z"
   },
   {
    "duration": 459,
    "start_time": "2021-10-05T18:10:58.085Z"
   },
   {
    "duration": 62,
    "start_time": "2021-10-05T18:11:09.253Z"
   },
   {
    "duration": 12,
    "start_time": "2021-10-05T18:11:55.778Z"
   },
   {
    "duration": 52,
    "start_time": "2021-10-05T18:13:56.351Z"
   },
   {
    "duration": 558,
    "start_time": "2021-10-05T18:14:20.630Z"
   },
   {
    "duration": 54,
    "start_time": "2021-10-05T18:14:58.461Z"
   },
   {
    "duration": 45,
    "start_time": "2021-10-05T18:15:02.605Z"
   },
   {
    "duration": 263,
    "start_time": "2021-10-05T18:15:09.749Z"
   },
   {
    "duration": 4,
    "start_time": "2021-10-05T18:15:57.859Z"
   },
   {
    "duration": 4,
    "start_time": "2021-10-05T18:16:01.485Z"
   },
   {
    "duration": 1495,
    "start_time": "2021-10-05T18:17:56.888Z"
   },
   {
    "duration": 6,
    "start_time": "2021-10-05T18:19:22.397Z"
   },
   {
    "duration": 2295,
    "start_time": "2021-10-05T18:19:27.363Z"
   },
   {
    "duration": 8,
    "start_time": "2021-10-05T18:20:23.035Z"
   },
   {
    "duration": 478,
    "start_time": "2021-10-05T18:20:25.339Z"
   },
   {
    "duration": 461,
    "start_time": "2021-10-05T18:20:35.931Z"
   },
   {
    "duration": 10,
    "start_time": "2021-10-05T18:22:02.225Z"
   },
   {
    "duration": 1517,
    "start_time": "2021-10-06T16:26:48.201Z"
   },
   {
    "duration": 38,
    "start_time": "2021-10-06T16:26:49.721Z"
   },
   {
    "duration": 12,
    "start_time": "2021-10-06T16:26:49.765Z"
   },
   {
    "duration": 24,
    "start_time": "2021-10-06T16:26:49.780Z"
   },
   {
    "duration": 13,
    "start_time": "2021-10-06T16:26:49.806Z"
   },
   {
    "duration": 38,
    "start_time": "2021-10-06T16:26:49.822Z"
   },
   {
    "duration": 11,
    "start_time": "2021-10-06T16:26:49.864Z"
   },
   {
    "duration": 8,
    "start_time": "2021-10-06T16:26:49.879Z"
   },
   {
    "duration": 40,
    "start_time": "2021-10-06T16:26:49.890Z"
   },
   {
    "duration": 37,
    "start_time": "2021-10-06T16:26:49.933Z"
   },
   {
    "duration": 11,
    "start_time": "2021-10-06T16:26:49.973Z"
   },
   {
    "duration": 8,
    "start_time": "2021-10-06T16:26:49.987Z"
   },
   {
    "duration": 17,
    "start_time": "2021-10-06T16:26:49.998Z"
   },
   {
    "duration": 41,
    "start_time": "2021-10-06T16:26:50.017Z"
   },
   {
    "duration": 8,
    "start_time": "2021-10-06T16:26:50.060Z"
   },
   {
    "duration": 17,
    "start_time": "2021-10-06T16:26:50.070Z"
   },
   {
    "duration": 31,
    "start_time": "2021-10-06T16:26:50.090Z"
   },
   {
    "duration": 12,
    "start_time": "2021-10-06T16:26:50.124Z"
   },
   {
    "duration": 19,
    "start_time": "2021-10-06T16:26:50.138Z"
   },
   {
    "duration": 43,
    "start_time": "2021-10-06T16:26:50.160Z"
   },
   {
    "duration": 17,
    "start_time": "2021-10-06T16:26:50.206Z"
   },
   {
    "duration": 8929,
    "start_time": "2021-10-06T16:26:50.230Z"
   },
   {
    "duration": 9,
    "start_time": "2021-10-06T16:26:59.164Z"
   },
   {
    "duration": 6,
    "start_time": "2021-10-06T16:26:59.175Z"
   },
   {
    "duration": 8,
    "start_time": "2021-10-06T16:26:59.183Z"
   },
   {
    "duration": 146569,
    "start_time": "2021-10-06T16:26:59.193Z"
   },
   {
    "duration": 8,
    "start_time": "2021-10-06T16:29:25.764Z"
   },
   {
    "duration": 85,
    "start_time": "2021-10-06T16:29:25.774Z"
   },
   {
    "duration": 8,
    "start_time": "2021-10-06T16:29:25.861Z"
   },
   {
    "duration": 89,
    "start_time": "2021-10-06T16:29:25.872Z"
   },
   {
    "duration": 98,
    "start_time": "2021-10-06T16:29:25.964Z"
   },
   {
    "duration": 7,
    "start_time": "2021-10-06T16:29:26.065Z"
   },
   {
    "duration": 183,
    "start_time": "2021-10-06T16:29:26.075Z"
   },
   {
    "duration": 6,
    "start_time": "2021-10-06T16:29:26.260Z"
   },
   {
    "duration": 28,
    "start_time": "2021-10-06T16:29:26.268Z"
   },
   {
    "duration": 10,
    "start_time": "2021-10-06T16:29:26.299Z"
   },
   {
    "duration": 5,
    "start_time": "2021-10-06T16:29:26.311Z"
   },
   {
    "duration": 8,
    "start_time": "2021-10-06T16:29:26.318Z"
   },
   {
    "duration": 32,
    "start_time": "2021-10-06T16:29:26.328Z"
   },
   {
    "duration": 18,
    "start_time": "2021-10-06T16:29:26.362Z"
   },
   {
    "duration": 9,
    "start_time": "2021-10-06T16:29:26.383Z"
   },
   {
    "duration": 6,
    "start_time": "2021-10-06T16:29:26.395Z"
   },
   {
    "duration": 10,
    "start_time": "2021-10-06T16:29:26.403Z"
   },
   {
    "duration": 10474,
    "start_time": "2021-10-06T16:29:26.415Z"
   },
   {
    "duration": 7,
    "start_time": "2021-10-06T16:29:36.892Z"
   },
   {
    "duration": 15,
    "start_time": "2021-10-06T16:29:36.902Z"
   },
   {
    "duration": 5898,
    "start_time": "2021-10-06T16:29:36.959Z"
   },
   {
    "duration": 5,
    "start_time": "2021-10-06T16:29:42.860Z"
   },
   {
    "duration": 15,
    "start_time": "2021-10-06T16:29:42.867Z"
   },
   {
    "duration": 208166,
    "start_time": "2021-10-06T16:29:42.885Z"
   },
   {
    "duration": 43,
    "start_time": "2021-10-06T16:33:11.058Z"
   },
   {
    "duration": 9,
    "start_time": "2021-10-06T16:33:11.103Z"
   },
   {
    "duration": 85445,
    "start_time": "2021-10-06T16:33:11.114Z"
   },
   {
    "duration": 36,
    "start_time": "2021-10-06T16:34:36.562Z"
   },
   {
    "duration": 9,
    "start_time": "2021-10-06T16:34:36.601Z"
   },
   {
    "duration": 153,
    "start_time": "2021-10-06T16:34:36.612Z"
   },
   {
    "duration": 197,
    "start_time": "2021-10-06T16:34:36.768Z"
   },
   {
    "duration": 92,
    "start_time": "2021-10-06T16:34:36.968Z"
   },
   {
    "duration": 12,
    "start_time": "2021-10-06T16:34:37.063Z"
   },
   {
    "duration": 715,
    "start_time": "2021-10-06T16:34:37.077Z"
   },
   {
    "duration": 157,
    "start_time": "2021-10-06T16:34:37.637Z"
   },
   {
    "duration": 154,
    "start_time": "2021-10-06T16:34:37.642Z"
   },
   {
    "duration": 149,
    "start_time": "2021-10-06T16:34:37.648Z"
   },
   {
    "duration": 46,
    "start_time": "2021-10-06T17:41:11.282Z"
   },
   {
    "duration": 45,
    "start_time": "2021-10-06T17:41:23.783Z"
   },
   {
    "duration": 42,
    "start_time": "2021-10-06T17:41:27.050Z"
   },
   {
    "duration": 3,
    "start_time": "2021-10-06T17:41:29.922Z"
   },
   {
    "duration": 47,
    "start_time": "2021-10-06T17:41:52.080Z"
   },
   {
    "duration": 47,
    "start_time": "2021-10-06T17:41:55.954Z"
   },
   {
    "duration": 49,
    "start_time": "2021-10-06T17:41:58.945Z"
   },
   {
    "duration": 50,
    "start_time": "2021-10-06T17:42:06.043Z"
   },
   {
    "duration": 50,
    "start_time": "2021-10-06T17:42:10.193Z"
   },
   {
    "duration": 49,
    "start_time": "2021-10-06T17:42:14.745Z"
   },
   {
    "duration": 50,
    "start_time": "2021-10-06T17:43:10.870Z"
   },
   {
    "duration": 44,
    "start_time": "2021-10-06T17:43:15.646Z"
   },
   {
    "duration": 43,
    "start_time": "2021-10-06T17:43:20.239Z"
   },
   {
    "duration": 49,
    "start_time": "2021-10-06T17:43:23.820Z"
   },
   {
    "duration": 49,
    "start_time": "2021-10-06T17:43:27.910Z"
   },
   {
    "duration": 50,
    "start_time": "2021-10-06T17:43:31.366Z"
   },
   {
    "duration": 50,
    "start_time": "2021-10-06T17:43:34.877Z"
   },
   {
    "duration": 56,
    "start_time": "2021-10-06T17:43:38.276Z"
   },
   {
    "duration": 51,
    "start_time": "2021-10-06T17:43:41.333Z"
   },
   {
    "duration": 52,
    "start_time": "2021-10-06T17:43:44.070Z"
   },
   {
    "duration": 50,
    "start_time": "2021-10-06T17:43:46.948Z"
   },
   {
    "duration": 88,
    "start_time": "2021-10-06T17:43:50.500Z"
   },
   {
    "duration": 45,
    "start_time": "2021-10-06T17:43:56.421Z"
   },
   {
    "duration": 57,
    "start_time": "2021-10-06T17:44:01.661Z"
   },
   {
    "duration": 57,
    "start_time": "2021-10-06T17:44:09.238Z"
   },
   {
    "duration": 65,
    "start_time": "2021-10-06T17:44:29.963Z"
   },
   {
    "duration": 58,
    "start_time": "2021-10-06T17:44:35.012Z"
   },
   {
    "duration": 49,
    "start_time": "2021-10-06T17:44:42.033Z"
   },
   {
    "duration": 12,
    "start_time": "2021-10-06T17:45:30.673Z"
   },
   {
    "duration": 60,
    "start_time": "2021-10-06T17:45:46.266Z"
   },
   {
    "duration": 19,
    "start_time": "2021-10-06T17:45:48.993Z"
   },
   {
    "duration": 24,
    "start_time": "2021-10-06T17:45:54.183Z"
   },
   {
    "duration": 52,
    "start_time": "2021-10-06T17:45:58.094Z"
   },
   {
    "duration": 54,
    "start_time": "2021-10-06T17:46:01.150Z"
   },
   {
    "duration": 55,
    "start_time": "2021-10-06T17:46:04.418Z"
   },
   {
    "duration": 84,
    "start_time": "2021-10-06T17:46:07.241Z"
   },
   {
    "duration": 56,
    "start_time": "2021-10-06T17:46:12.266Z"
   },
   {
    "duration": 58,
    "start_time": "2021-10-06T17:46:18.360Z"
   },
   {
    "duration": 59,
    "start_time": "2021-10-06T17:46:22.401Z"
   },
   {
    "duration": 57,
    "start_time": "2021-10-06T17:46:26.271Z"
   },
   {
    "duration": 58,
    "start_time": "2021-10-06T17:46:29.892Z"
   },
   {
    "duration": 48,
    "start_time": "2021-10-06T17:46:34.520Z"
   },
   {
    "duration": 48,
    "start_time": "2021-10-06T17:47:12.838Z"
   },
   {
    "duration": 48,
    "start_time": "2021-10-06T17:47:19.158Z"
   },
   {
    "duration": 47,
    "start_time": "2021-10-06T17:47:22.506Z"
   },
   {
    "duration": 44,
    "start_time": "2021-10-06T17:47:27.369Z"
   },
   {
    "duration": 48,
    "start_time": "2021-10-06T17:47:31.006Z"
   },
   {
    "duration": 43,
    "start_time": "2021-10-06T17:47:35.141Z"
   },
   {
    "duration": 581,
    "start_time": "2021-10-06T17:48:03.028Z"
   },
   {
    "duration": 14,
    "start_time": "2021-10-06T17:51:38.063Z"
   },
   {
    "duration": 12,
    "start_time": "2021-10-06T17:51:42.375Z"
   },
   {
    "duration": 748,
    "start_time": "2021-10-06T17:52:18.346Z"
   },
   {
    "duration": 427,
    "start_time": "2021-10-06T17:52:41.061Z"
   },
   {
    "duration": 512,
    "start_time": "2021-10-06T17:52:47.867Z"
   },
   {
    "duration": 501,
    "start_time": "2021-10-06T17:52:51.197Z"
   },
   {
    "duration": 51,
    "start_time": "2021-10-06T17:53:22.367Z"
   },
   {
    "duration": 534,
    "start_time": "2021-10-06T17:53:46.211Z"
   },
   {
    "duration": 403,
    "start_time": "2021-10-06T17:54:06.564Z"
   },
   {
    "duration": 321,
    "start_time": "2021-10-06T17:54:45.593Z"
   },
   {
    "duration": 44,
    "start_time": "2021-10-06T17:55:19.904Z"
   },
   {
    "duration": 10,
    "start_time": "2021-10-06T17:56:00.577Z"
   },
   {
    "duration": 50,
    "start_time": "2021-10-06T17:57:03.613Z"
   },
   {
    "duration": 332,
    "start_time": "2021-10-06T17:58:18.993Z"
   },
   {
    "duration": 12,
    "start_time": "2021-10-06T17:58:37.124Z"
   },
   {
    "duration": 359,
    "start_time": "2021-10-06T17:59:53.034Z"
   },
   {
    "duration": 12,
    "start_time": "2021-10-06T18:00:10.840Z"
   },
   {
    "duration": 4,
    "start_time": "2021-10-06T18:00:48.529Z"
   },
   {
    "duration": 3,
    "start_time": "2021-10-06T18:00:59.879Z"
   },
   {
    "duration": 14,
    "start_time": "2021-10-06T18:01:55.078Z"
   },
   {
    "duration": 4,
    "start_time": "2021-10-06T18:01:57.068Z"
   },
   {
    "duration": 12,
    "start_time": "2021-10-06T18:02:00.012Z"
   },
   {
    "duration": 11,
    "start_time": "2021-10-06T18:02:25.133Z"
   },
   {
    "duration": 383,
    "start_time": "2021-10-06T18:02:28.587Z"
   },
   {
    "duration": 313,
    "start_time": "2021-10-06T18:04:26.336Z"
   },
   {
    "duration": 42,
    "start_time": "2021-10-06T18:04:29.456Z"
   },
   {
    "duration": 4,
    "start_time": "2021-10-06T18:04:31.318Z"
   },
   {
    "duration": 85,
    "start_time": "2021-10-06T18:04:35.476Z"
   },
   {
    "duration": 14,
    "start_time": "2021-10-06T18:05:00.040Z"
   },
   {
    "duration": 64,
    "start_time": "2021-10-06T18:05:01.613Z"
   },
   {
    "duration": 30,
    "start_time": "2021-10-06T18:05:29.759Z"
   },
   {
    "duration": 7,
    "start_time": "2021-10-06T18:05:33.817Z"
   },
   {
    "duration": 47,
    "start_time": "2021-10-06T18:05:39.069Z"
   },
   {
    "duration": 65,
    "start_time": "2021-10-06T18:05:43.093Z"
   },
   {
    "duration": 10,
    "start_time": "2021-10-06T18:06:08.284Z"
   },
   {
    "duration": 12,
    "start_time": "2021-10-06T18:07:01.724Z"
   },
   {
    "duration": 10,
    "start_time": "2021-10-06T18:07:27.380Z"
   },
   {
    "duration": 11,
    "start_time": "2021-10-06T18:07:31.497Z"
   },
   {
    "duration": 9,
    "start_time": "2021-10-06T18:08:38.688Z"
   },
   {
    "duration": 326,
    "start_time": "2021-10-06T18:09:02.663Z"
   },
   {
    "duration": 332,
    "start_time": "2021-10-06T18:09:15.144Z"
   },
   {
    "duration": 412,
    "start_time": "2021-10-06T18:10:19.253Z"
   },
   {
    "duration": 15,
    "start_time": "2021-10-06T18:10:52.082Z"
   },
   {
    "duration": 1833,
    "start_time": "2021-10-06T18:11:10.259Z"
   },
   {
    "duration": 48,
    "start_time": "2021-10-06T18:11:12.096Z"
   },
   {
    "duration": 21,
    "start_time": "2021-10-06T18:11:12.148Z"
   },
   {
    "duration": 35,
    "start_time": "2021-10-06T18:11:12.173Z"
   },
   {
    "duration": 12,
    "start_time": "2021-10-06T18:11:12.211Z"
   },
   {
    "duration": 35,
    "start_time": "2021-10-06T18:11:12.226Z"
   },
   {
    "duration": 8,
    "start_time": "2021-10-06T18:11:12.264Z"
   },
   {
    "duration": 8,
    "start_time": "2021-10-06T18:11:12.277Z"
   },
   {
    "duration": 30,
    "start_time": "2021-10-06T18:11:12.289Z"
   },
   {
    "duration": 55,
    "start_time": "2021-10-06T18:11:12.322Z"
   },
   {
    "duration": 12,
    "start_time": "2021-10-06T18:11:12.380Z"
   },
   {
    "duration": 7,
    "start_time": "2021-10-06T18:11:12.395Z"
   },
   {
    "duration": 12,
    "start_time": "2021-10-06T18:11:12.405Z"
   },
   {
    "duration": 12,
    "start_time": "2021-10-06T18:11:12.457Z"
   },
   {
    "duration": 9,
    "start_time": "2021-10-06T18:11:12.472Z"
   },
   {
    "duration": 14,
    "start_time": "2021-10-06T18:11:12.484Z"
   },
   {
    "duration": 10,
    "start_time": "2021-10-06T18:11:12.501Z"
   },
   {
    "duration": 13,
    "start_time": "2021-10-06T18:11:12.513Z"
   },
   {
    "duration": 6,
    "start_time": "2021-10-06T18:11:12.557Z"
   },
   {
    "duration": 71,
    "start_time": "2021-10-06T18:11:12.566Z"
   },
   {
    "duration": 30,
    "start_time": "2021-10-06T18:11:12.640Z"
   },
   {
    "duration": 9923,
    "start_time": "2021-10-06T18:11:12.672Z"
   },
   {
    "duration": 10,
    "start_time": "2021-10-06T18:11:22.601Z"
   },
   {
    "duration": 42,
    "start_time": "2021-10-06T18:11:22.615Z"
   },
   {
    "duration": 8,
    "start_time": "2021-10-06T18:11:22.660Z"
   },
   {
    "duration": 160818,
    "start_time": "2021-10-06T18:11:22.670Z"
   },
   {
    "duration": 9,
    "start_time": "2021-10-06T18:14:03.491Z"
   },
   {
    "duration": 81,
    "start_time": "2021-10-06T18:14:03.502Z"
   },
   {
    "duration": 8,
    "start_time": "2021-10-06T18:14:03.585Z"
   },
   {
    "duration": 71,
    "start_time": "2021-10-06T18:14:03.595Z"
   },
   {
    "duration": 96,
    "start_time": "2021-10-06T18:14:03.670Z"
   },
   {
    "duration": 7,
    "start_time": "2021-10-06T18:14:03.859Z"
   },
   {
    "duration": 90,
    "start_time": "2021-10-06T18:14:03.869Z"
   },
   {
    "duration": 8,
    "start_time": "2021-10-06T18:14:03.962Z"
   },
   {
    "duration": 16,
    "start_time": "2021-10-06T18:14:04.057Z"
   },
   {
    "duration": 12,
    "start_time": "2021-10-06T18:14:04.075Z"
   },
   {
    "duration": 5,
    "start_time": "2021-10-06T18:14:04.090Z"
   },
   {
    "duration": 13,
    "start_time": "2021-10-06T18:14:04.098Z"
   },
   {
    "duration": 7,
    "start_time": "2021-10-06T18:14:04.113Z"
   },
   {
    "duration": 14,
    "start_time": "2021-10-06T18:14:04.159Z"
   },
   {
    "duration": 12,
    "start_time": "2021-10-06T18:14:04.175Z"
   },
   {
    "duration": 6,
    "start_time": "2021-10-06T18:14:04.189Z"
   },
   {
    "duration": 9,
    "start_time": "2021-10-06T18:14:04.197Z"
   },
   {
    "duration": 10602,
    "start_time": "2021-10-06T18:14:04.209Z"
   },
   {
    "duration": 7,
    "start_time": "2021-10-06T18:14:14.815Z"
   },
   {
    "duration": 43,
    "start_time": "2021-10-06T18:14:14.825Z"
   },
   {
    "duration": 6361,
    "start_time": "2021-10-06T18:14:14.871Z"
   },
   {
    "duration": 23,
    "start_time": "2021-10-06T18:14:21.234Z"
   },
   {
    "duration": 13,
    "start_time": "2021-10-06T18:14:21.260Z"
   },
   {
    "duration": 225665,
    "start_time": "2021-10-06T18:14:21.275Z"
   },
   {
    "duration": 61,
    "start_time": "2021-10-06T18:18:06.943Z"
   },
   {
    "duration": 56,
    "start_time": "2021-10-06T18:18:07.007Z"
   },
   {
    "duration": 94919,
    "start_time": "2021-10-06T18:18:07.066Z"
   },
   {
    "duration": 71,
    "start_time": "2021-10-06T18:19:41.987Z"
   },
   {
    "duration": 11,
    "start_time": "2021-10-06T18:19:42.061Z"
   },
   {
    "duration": 83,
    "start_time": "2021-10-06T18:19:42.075Z"
   },
   {
    "duration": 97,
    "start_time": "2021-10-06T18:19:42.161Z"
   },
   {
    "duration": 97,
    "start_time": "2021-10-06T18:19:42.262Z"
   },
   {
    "duration": 26,
    "start_time": "2021-10-06T18:19:42.361Z"
   },
   {
    "duration": 80,
    "start_time": "2021-10-06T18:19:42.390Z"
   },
   {
    "duration": 104,
    "start_time": "2021-10-06T18:19:42.559Z"
   },
   {
    "duration": 4,
    "start_time": "2021-10-06T18:19:42.665Z"
   },
   {
    "duration": 15,
    "start_time": "2021-10-06T18:19:42.671Z"
   },
   {
    "duration": 71,
    "start_time": "2021-10-06T18:19:42.688Z"
   },
   {
    "duration": 12,
    "start_time": "2021-10-06T18:19:42.762Z"
   },
   {
    "duration": 3,
    "start_time": "2021-10-06T18:19:42.777Z"
   },
   {
    "duration": 339,
    "start_time": "2021-10-06T18:19:42.782Z"
   },
   {
    "duration": 55,
    "start_time": "2021-10-06T18:19:43.128Z"
   },
   {
    "duration": 3,
    "start_time": "2021-10-06T18:19:43.186Z"
   },
   {
    "duration": 76,
    "start_time": "2021-10-06T18:19:43.192Z"
   },
   {
    "duration": 189,
    "start_time": "2021-10-06T18:19:43.271Z"
   },
   {
    "duration": 5,
    "start_time": "2021-10-06T18:19:43.463Z"
   },
   {
    "duration": 488,
    "start_time": "2021-10-06T18:19:43.559Z"
   },
   {
    "duration": 18,
    "start_time": "2021-10-06T18:19:44.050Z"
   },
   {
    "duration": 47,
    "start_time": "2021-10-06T18:27:51.271Z"
   },
   {
    "duration": 6,
    "start_time": "2021-10-06T18:27:53.120Z"
   },
   {
    "duration": 8,
    "start_time": "2021-10-06T18:28:29.494Z"
   },
   {
    "duration": 4,
    "start_time": "2021-10-06T18:28:33.221Z"
   },
   {
    "duration": 4,
    "start_time": "2021-10-06T18:29:25.027Z"
   },
   {
    "duration": 313,
    "start_time": "2021-10-06T18:29:29.060Z"
   },
   {
    "duration": 42,
    "start_time": "2021-10-06T18:29:47.747Z"
   },
   {
    "duration": 4,
    "start_time": "2021-10-06T18:29:52.916Z"
   },
   {
    "duration": 51,
    "start_time": "2021-10-06T18:30:22.738Z"
   },
   {
    "duration": 5,
    "start_time": "2021-10-06T18:30:25.031Z"
   },
   {
    "duration": 11,
    "start_time": "2021-10-06T18:30:41.339Z"
   },
   {
    "duration": 5,
    "start_time": "2021-10-06T18:30:52.539Z"
   },
   {
    "duration": 12,
    "start_time": "2021-10-06T18:34:46.851Z"
   },
   {
    "duration": 1599,
    "start_time": "2021-10-06T18:36:35.342Z"
   },
   {
    "duration": 37,
    "start_time": "2021-10-06T18:36:36.944Z"
   },
   {
    "duration": 14,
    "start_time": "2021-10-06T18:36:36.984Z"
   },
   {
    "duration": 31,
    "start_time": "2021-10-06T18:36:37.001Z"
   },
   {
    "duration": 24,
    "start_time": "2021-10-06T18:36:37.034Z"
   },
   {
    "duration": 5,
    "start_time": "2021-10-06T18:36:37.061Z"
   },
   {
    "duration": 7,
    "start_time": "2021-10-06T18:36:37.068Z"
   },
   {
    "duration": 16,
    "start_time": "2021-10-06T18:36:37.078Z"
   },
   {
    "duration": 23,
    "start_time": "2021-10-06T18:36:37.097Z"
   },
   {
    "duration": 45,
    "start_time": "2021-10-06T18:36:37.122Z"
   },
   {
    "duration": 9,
    "start_time": "2021-10-06T18:36:37.170Z"
   },
   {
    "duration": 12,
    "start_time": "2021-10-06T18:36:37.181Z"
   },
   {
    "duration": 16,
    "start_time": "2021-10-06T18:36:37.195Z"
   },
   {
    "duration": 47,
    "start_time": "2021-10-06T18:36:37.214Z"
   },
   {
    "duration": 23,
    "start_time": "2021-10-06T18:36:37.263Z"
   },
   {
    "duration": 6,
    "start_time": "2021-10-06T18:36:37.289Z"
   },
   {
    "duration": 21,
    "start_time": "2021-10-06T18:36:37.297Z"
   },
   {
    "duration": 23,
    "start_time": "2021-10-06T18:36:37.320Z"
   },
   {
    "duration": 6,
    "start_time": "2021-10-06T18:36:37.345Z"
   },
   {
    "duration": 52,
    "start_time": "2021-10-06T18:36:37.354Z"
   },
   {
    "duration": 14,
    "start_time": "2021-10-06T18:36:37.409Z"
   },
   {
    "duration": 8519,
    "start_time": "2021-10-06T18:36:37.426Z"
   },
   {
    "duration": 28,
    "start_time": "2021-10-06T18:36:45.951Z"
   },
   {
    "duration": 14,
    "start_time": "2021-10-06T18:36:45.982Z"
   },
   {
    "duration": 25,
    "start_time": "2021-10-06T18:36:45.998Z"
   },
   {
    "duration": 156758,
    "start_time": "2021-10-06T18:36:46.026Z"
   },
   {
    "duration": 9,
    "start_time": "2021-10-06T18:39:22.786Z"
   },
   {
    "duration": 78,
    "start_time": "2021-10-06T18:39:22.797Z"
   },
   {
    "duration": 7,
    "start_time": "2021-10-06T18:39:22.877Z"
   },
   {
    "duration": 81,
    "start_time": "2021-10-06T18:39:22.886Z"
   },
   {
    "duration": 91,
    "start_time": "2021-10-06T18:39:22.971Z"
   },
   {
    "duration": 17,
    "start_time": "2021-10-06T18:39:23.064Z"
   },
   {
    "duration": 82,
    "start_time": "2021-10-06T18:39:23.084Z"
   },
   {
    "duration": 5,
    "start_time": "2021-10-06T18:39:23.257Z"
   },
   {
    "duration": 27,
    "start_time": "2021-10-06T18:39:23.264Z"
   },
   {
    "duration": 12,
    "start_time": "2021-10-06T18:39:23.294Z"
   },
   {
    "duration": 6,
    "start_time": "2021-10-06T18:39:23.308Z"
   },
   {
    "duration": 18,
    "start_time": "2021-10-06T18:39:23.316Z"
   },
   {
    "duration": 31,
    "start_time": "2021-10-06T18:39:23.336Z"
   },
   {
    "duration": 19,
    "start_time": "2021-10-06T18:39:23.369Z"
   },
   {
    "duration": 12,
    "start_time": "2021-10-06T18:39:23.390Z"
   },
   {
    "duration": 11,
    "start_time": "2021-10-06T18:39:23.404Z"
   },
   {
    "duration": 16,
    "start_time": "2021-10-06T18:39:23.418Z"
   },
   {
    "duration": 12587,
    "start_time": "2021-10-06T18:39:23.436Z"
   },
   {
    "duration": 5,
    "start_time": "2021-10-06T18:39:36.026Z"
   },
   {
    "duration": 29,
    "start_time": "2021-10-06T18:39:36.034Z"
   },
   {
    "duration": 5972,
    "start_time": "2021-10-06T18:39:36.066Z"
   },
   {
    "duration": 6,
    "start_time": "2021-10-06T18:39:42.058Z"
   },
   {
    "duration": 20,
    "start_time": "2021-10-06T18:39:42.066Z"
   },
   {
    "duration": 227073,
    "start_time": "2021-10-06T18:39:42.089Z"
   },
   {
    "duration": 42,
    "start_time": "2021-10-06T18:43:29.165Z"
   },
   {
    "duration": 57,
    "start_time": "2021-10-06T18:43:29.209Z"
   },
   {
    "duration": 90625,
    "start_time": "2021-10-06T18:43:29.268Z"
   },
   {
    "duration": 72,
    "start_time": "2021-10-06T18:44:59.896Z"
   },
   {
    "duration": 11,
    "start_time": "2021-10-06T18:44:59.971Z"
   },
   {
    "duration": 82,
    "start_time": "2021-10-06T18:44:59.985Z"
   },
   {
    "duration": 8,
    "start_time": "2021-10-06T18:45:00.159Z"
   },
   {
    "duration": 101,
    "start_time": "2021-10-06T18:45:00.260Z"
   },
   {
    "duration": 23,
    "start_time": "2021-10-06T18:45:00.364Z"
   },
   {
    "duration": 69,
    "start_time": "2021-10-06T18:45:00.391Z"
   },
   {
    "duration": 106,
    "start_time": "2021-10-06T18:45:00.464Z"
   },
   {
    "duration": 97,
    "start_time": "2021-10-06T18:45:00.573Z"
   },
   {
    "duration": 34,
    "start_time": "2021-10-06T18:45:00.672Z"
   },
   {
    "duration": 79,
    "start_time": "2021-10-06T18:45:00.708Z"
   },
   {
    "duration": 4,
    "start_time": "2021-10-06T18:45:00.789Z"
   },
   {
    "duration": 27,
    "start_time": "2021-10-06T18:45:00.796Z"
   },
   {
    "duration": 22,
    "start_time": "2021-10-06T18:45:00.825Z"
   },
   {
    "duration": 17,
    "start_time": "2021-10-06T18:45:00.854Z"
   },
   {
    "duration": 338,
    "start_time": "2021-10-06T18:45:00.873Z"
   },
   {
    "duration": 4,
    "start_time": "2021-10-06T18:45:01.214Z"
   },
   {
    "duration": 53,
    "start_time": "2021-10-06T18:45:01.220Z"
   },
   {
    "duration": 4,
    "start_time": "2021-10-06T18:45:01.276Z"
   },
   {
    "duration": 28,
    "start_time": "2021-10-06T18:45:01.282Z"
   },
   {
    "duration": 82,
    "start_time": "2021-10-06T18:45:01.313Z"
   },
   {
    "duration": 7,
    "start_time": "2021-10-06T18:45:01.460Z"
   },
   {
    "duration": 10,
    "start_time": "2021-10-06T18:45:01.559Z"
   },
   {
    "duration": 202,
    "start_time": "2021-10-06T18:45:01.573Z"
   },
   {
    "duration": 29,
    "start_time": "2021-10-06T18:45:01.778Z"
   },
   {
    "duration": 613,
    "start_time": "2021-10-06T18:45:01.809Z"
   },
   {
    "duration": 11,
    "start_time": "2021-10-06T18:45:02.424Z"
   },
   {
    "duration": 34,
    "start_time": "2021-10-06T18:46:27.424Z"
   },
   {
    "duration": 4,
    "start_time": "2021-10-06T18:46:29.626Z"
   },
   {
    "duration": 16,
    "start_time": "2021-10-06T18:46:42.024Z"
   },
   {
    "duration": 5,
    "start_time": "2021-10-06T18:46:44.235Z"
   },
   {
    "duration": 8,
    "start_time": "2021-10-06T18:46:55.976Z"
   },
   {
    "duration": 5,
    "start_time": "2021-10-06T18:46:58.447Z"
   },
   {
    "duration": 6,
    "start_time": "2021-10-06T18:47:03.072Z"
   },
   {
    "duration": 7,
    "start_time": "2021-10-06T18:47:09.153Z"
   },
   {
    "duration": 4,
    "start_time": "2021-10-06T18:47:11.929Z"
   },
   {
    "duration": 8,
    "start_time": "2021-10-06T18:49:35.387Z"
   },
   {
    "duration": 4,
    "start_time": "2021-10-06T18:49:38.319Z"
   },
   {
    "duration": 7,
    "start_time": "2021-10-06T18:49:42.083Z"
   },
   {
    "duration": 4,
    "start_time": "2021-10-06T18:49:44.089Z"
   },
   {
    "duration": 41,
    "start_time": "2021-10-06T18:50:08.353Z"
   },
   {
    "duration": 4,
    "start_time": "2021-10-06T18:50:10.658Z"
   },
   {
    "duration": 43,
    "start_time": "2021-10-06T18:50:15.270Z"
   },
   {
    "duration": 5,
    "start_time": "2021-10-06T18:50:17.825Z"
   },
   {
    "duration": 5,
    "start_time": "2021-10-06T18:50:20.458Z"
   },
   {
    "duration": 8,
    "start_time": "2021-10-06T18:50:54.290Z"
   },
   {
    "duration": 5,
    "start_time": "2021-10-06T18:50:56.683Z"
   },
   {
    "duration": 8,
    "start_time": "2021-10-06T18:51:09.102Z"
   },
   {
    "duration": 5,
    "start_time": "2021-10-06T18:51:10.542Z"
   },
   {
    "duration": 497,
    "start_time": "2021-10-06T18:52:46.103Z"
   },
   {
    "duration": 56,
    "start_time": "2021-10-06T18:53:28.060Z"
   },
   {
    "duration": 5,
    "start_time": "2021-10-06T18:53:29.995Z"
   },
   {
    "duration": 56,
    "start_time": "2021-10-06T18:55:10.063Z"
   },
   {
    "duration": 52,
    "start_time": "2021-10-06T18:55:16.656Z"
   },
   {
    "duration": 57,
    "start_time": "2021-10-06T18:55:20.778Z"
   },
   {
    "duration": 4,
    "start_time": "2021-10-06T18:55:23.145Z"
   },
   {
    "duration": 55,
    "start_time": "2021-10-06T18:55:28.688Z"
   },
   {
    "duration": 4,
    "start_time": "2021-10-06T18:55:30.231Z"
   },
   {
    "duration": 53,
    "start_time": "2021-10-06T18:55:36.624Z"
   },
   {
    "duration": 5,
    "start_time": "2021-10-06T18:55:38.102Z"
   },
   {
    "duration": 43,
    "start_time": "2021-10-06T18:56:09.367Z"
   },
   {
    "duration": 5,
    "start_time": "2021-10-06T18:56:11.011Z"
   },
   {
    "duration": 44,
    "start_time": "2021-10-06T18:56:14.423Z"
   },
   {
    "duration": 5,
    "start_time": "2021-10-06T18:56:18.536Z"
   },
   {
    "duration": 45,
    "start_time": "2021-10-06T18:56:23.109Z"
   },
   {
    "duration": 5,
    "start_time": "2021-10-06T18:56:24.588Z"
   },
   {
    "duration": 48,
    "start_time": "2021-10-06T18:56:29.253Z"
   },
   {
    "duration": 4,
    "start_time": "2021-10-06T18:56:30.782Z"
   },
   {
    "duration": 46,
    "start_time": "2021-10-06T18:56:34.769Z"
   },
   {
    "duration": 4,
    "start_time": "2021-10-06T18:56:36.382Z"
   },
   {
    "duration": 46,
    "start_time": "2021-10-06T18:56:41.470Z"
   },
   {
    "duration": 56,
    "start_time": "2021-10-06T18:56:44.954Z"
   },
   {
    "duration": 5,
    "start_time": "2021-10-06T18:56:46.538Z"
   },
   {
    "duration": 50,
    "start_time": "2021-10-06T18:56:49.891Z"
   },
   {
    "duration": 4,
    "start_time": "2021-10-06T18:56:52.278Z"
   },
   {
    "duration": 46,
    "start_time": "2021-10-06T18:56:55.757Z"
   },
   {
    "duration": 46,
    "start_time": "2021-10-06T18:56:57.677Z"
   },
   {
    "duration": 4,
    "start_time": "2021-10-06T18:56:59.693Z"
   },
   {
    "duration": 47,
    "start_time": "2021-10-06T18:57:03.503Z"
   },
   {
    "duration": 4,
    "start_time": "2021-10-06T18:57:05.075Z"
   },
   {
    "duration": 46,
    "start_time": "2021-10-06T18:57:08.750Z"
   },
   {
    "duration": 4,
    "start_time": "2021-10-06T18:57:10.085Z"
   },
   {
    "duration": 47,
    "start_time": "2021-10-06T18:57:16.087Z"
   },
   {
    "duration": 5,
    "start_time": "2021-10-06T18:57:18.050Z"
   },
   {
    "duration": 45,
    "start_time": "2021-10-06T18:57:25.573Z"
   },
   {
    "duration": 5,
    "start_time": "2021-10-06T18:57:28.022Z"
   },
   {
    "duration": 33,
    "start_time": "2021-10-06T18:57:31.171Z"
   },
   {
    "duration": 5,
    "start_time": "2021-10-06T18:57:32.664Z"
   },
   {
    "duration": 36,
    "start_time": "2021-10-06T18:57:36.786Z"
   },
   {
    "duration": 5,
    "start_time": "2021-10-06T18:57:38.255Z"
   },
   {
    "duration": 20,
    "start_time": "2021-10-06T18:57:40.796Z"
   },
   {
    "duration": 6,
    "start_time": "2021-10-06T18:57:42.356Z"
   },
   {
    "duration": 40,
    "start_time": "2021-10-06T18:57:45.714Z"
   },
   {
    "duration": 5,
    "start_time": "2021-10-06T18:57:47.332Z"
   },
   {
    "duration": 42,
    "start_time": "2021-10-06T18:57:51.939Z"
   },
   {
    "duration": 5,
    "start_time": "2021-10-06T18:57:53.506Z"
   },
   {
    "duration": 59,
    "start_time": "2021-10-06T18:57:56.816Z"
   },
   {
    "duration": 4,
    "start_time": "2021-10-06T18:57:58.210Z"
   },
   {
    "duration": 41,
    "start_time": "2021-10-06T18:58:01.795Z"
   },
   {
    "duration": 4,
    "start_time": "2021-10-06T18:58:03.667Z"
   },
   {
    "duration": 41,
    "start_time": "2021-10-06T18:58:06.883Z"
   },
   {
    "duration": 4,
    "start_time": "2021-10-06T18:58:08.522Z"
   },
   {
    "duration": 378,
    "start_time": "2021-10-06T18:58:59.523Z"
   },
   {
    "duration": 607,
    "start_time": "2021-10-06T19:00:17.678Z"
   },
   {
    "duration": 4,
    "start_time": "2021-10-06T19:00:18.287Z"
   },
   {
    "duration": 630,
    "start_time": "2021-10-06T19:00:22.375Z"
   },
   {
    "duration": 4,
    "start_time": "2021-10-06T19:00:24.045Z"
   },
   {
    "duration": 118,
    "start_time": "2021-10-06T19:00:30.734Z"
   },
   {
    "duration": 679,
    "start_time": "2021-10-06T19:00:41.604Z"
   },
   {
    "duration": 4,
    "start_time": "2021-10-06T19:00:43.191Z"
   },
   {
    "duration": 632,
    "start_time": "2021-10-06T19:00:46.527Z"
   },
   {
    "duration": 4,
    "start_time": "2021-10-06T19:00:48.202Z"
   },
   {
    "duration": 646,
    "start_time": "2021-10-06T19:00:58.935Z"
   },
   {
    "duration": 5,
    "start_time": "2021-10-06T19:01:00.789Z"
   },
   {
    "duration": 640,
    "start_time": "2021-10-06T19:01:06.918Z"
   },
   {
    "duration": 6,
    "start_time": "2021-10-06T19:01:08.938Z"
   },
   {
    "duration": 537,
    "start_time": "2021-10-06T19:01:12.837Z"
   },
   {
    "duration": 5,
    "start_time": "2021-10-06T19:01:14.293Z"
   },
   {
    "duration": 370,
    "start_time": "2021-10-06T19:01:17.693Z"
   },
   {
    "duration": 5,
    "start_time": "2021-10-06T19:01:19.262Z"
   },
   {
    "duration": 429,
    "start_time": "2021-10-06T19:01:23.287Z"
   },
   {
    "duration": 4,
    "start_time": "2021-10-06T19:01:25.062Z"
   },
   {
    "duration": 495,
    "start_time": "2021-10-06T19:01:42.866Z"
   },
   {
    "duration": 5,
    "start_time": "2021-10-06T19:01:44.411Z"
   },
   {
    "duration": 491,
    "start_time": "2021-10-06T19:01:48.533Z"
   },
   {
    "duration": 5,
    "start_time": "2021-10-06T19:01:50.009Z"
   },
   {
    "duration": 497,
    "start_time": "2021-10-06T19:01:52.820Z"
   },
   {
    "duration": 483,
    "start_time": "2021-10-06T19:01:56.035Z"
   },
   {
    "duration": 5,
    "start_time": "2021-10-06T19:01:57.604Z"
   },
   {
    "duration": 498,
    "start_time": "2021-10-06T19:02:01.385Z"
   },
   {
    "duration": 5,
    "start_time": "2021-10-06T19:02:02.980Z"
   },
   {
    "duration": 702,
    "start_time": "2021-10-06T19:02:06.259Z"
   },
   {
    "duration": 5,
    "start_time": "2021-10-06T19:02:07.738Z"
   },
   {
    "duration": 389,
    "start_time": "2021-10-06T19:02:11.653Z"
   },
   {
    "duration": 4,
    "start_time": "2021-10-06T19:02:13.324Z"
   },
   {
    "duration": 249,
    "start_time": "2021-10-06T19:02:17.813Z"
   },
   {
    "duration": 4,
    "start_time": "2021-10-06T19:02:18.065Z"
   },
   {
    "duration": 408,
    "start_time": "2021-10-06T19:02:22.773Z"
   },
   {
    "duration": 4,
    "start_time": "2021-10-06T19:02:24.312Z"
   },
   {
    "duration": 453,
    "start_time": "2021-10-06T19:02:27.315Z"
   },
   {
    "duration": 5,
    "start_time": "2021-10-06T19:02:29.811Z"
   },
   {
    "duration": 458,
    "start_time": "2021-10-06T19:02:37.021Z"
   },
   {
    "duration": 5,
    "start_time": "2021-10-06T19:02:38.594Z"
   },
   {
    "duration": 427,
    "start_time": "2021-10-06T19:02:41.779Z"
   },
   {
    "duration": 5,
    "start_time": "2021-10-06T19:02:43.114Z"
   },
   {
    "duration": 420,
    "start_time": "2021-10-06T19:02:47.123Z"
   },
   {
    "duration": 4,
    "start_time": "2021-10-06T19:02:48.901Z"
   },
   {
    "duration": 422,
    "start_time": "2021-10-06T19:02:51.842Z"
   },
   {
    "duration": 521,
    "start_time": "2021-10-06T19:02:54.545Z"
   },
   {
    "duration": 5,
    "start_time": "2021-10-06T19:02:55.993Z"
   },
   {
    "duration": 445,
    "start_time": "2021-10-06T19:02:58.642Z"
   },
   {
    "duration": 5,
    "start_time": "2021-10-06T19:03:00.064Z"
   },
   {
    "duration": 447,
    "start_time": "2021-10-06T19:03:02.434Z"
   },
   {
    "duration": 450,
    "start_time": "2021-10-06T19:03:05.315Z"
   },
   {
    "duration": 5,
    "start_time": "2021-10-06T19:03:06.737Z"
   },
   {
    "duration": 412,
    "start_time": "2021-10-06T19:03:09.532Z"
   },
   {
    "duration": 5,
    "start_time": "2021-10-06T19:03:10.928Z"
   },
   {
    "duration": 465,
    "start_time": "2021-10-06T19:03:13.834Z"
   },
   {
    "duration": 5,
    "start_time": "2021-10-06T19:03:15.536Z"
   },
   {
    "duration": 412,
    "start_time": "2021-10-06T19:03:18.364Z"
   },
   {
    "duration": 5,
    "start_time": "2021-10-06T19:03:21.079Z"
   },
   {
    "duration": 410,
    "start_time": "2021-10-06T19:03:26.308Z"
   },
   {
    "duration": 5,
    "start_time": "2021-10-06T19:03:27.963Z"
   },
   {
    "duration": 417,
    "start_time": "2021-10-06T19:03:30.905Z"
   },
   {
    "duration": 5,
    "start_time": "2021-10-06T19:03:32.226Z"
   },
   {
    "duration": 363,
    "start_time": "2021-10-06T19:03:41.507Z"
   },
   {
    "duration": 5,
    "start_time": "2021-10-06T19:03:42.905Z"
   },
   {
    "duration": 202,
    "start_time": "2021-10-06T19:03:50.361Z"
   },
   {
    "duration": 4,
    "start_time": "2021-10-06T19:03:52.362Z"
   },
   {
    "duration": 132,
    "start_time": "2021-10-06T19:03:55.744Z"
   },
   {
    "duration": 4,
    "start_time": "2021-10-06T19:03:57.149Z"
   },
   {
    "duration": 75,
    "start_time": "2021-10-06T19:04:01.392Z"
   },
   {
    "duration": 4,
    "start_time": "2021-10-06T19:04:02.770Z"
   },
   {
    "duration": 145,
    "start_time": "2021-10-06T19:04:06.448Z"
   },
   {
    "duration": 4,
    "start_time": "2021-10-06T19:04:08.003Z"
   },
   {
    "duration": 1310,
    "start_time": "2021-10-06T19:04:12.116Z"
   },
   {
    "duration": 5,
    "start_time": "2021-10-06T19:04:13.575Z"
   },
   {
    "duration": 854,
    "start_time": "2021-10-06T19:04:20.376Z"
   },
   {
    "duration": 5,
    "start_time": "2021-10-06T19:04:21.776Z"
   },
   {
    "duration": 805,
    "start_time": "2021-10-06T19:04:24.800Z"
   },
   {
    "duration": 4,
    "start_time": "2021-10-06T19:04:26.286Z"
   },
   {
    "duration": 603,
    "start_time": "2021-10-06T19:04:28.970Z"
   },
   {
    "duration": 5,
    "start_time": "2021-10-06T19:04:30.502Z"
   },
   {
    "duration": 132,
    "start_time": "2021-10-06T19:04:41.137Z"
   },
   {
    "duration": 4,
    "start_time": "2021-10-06T19:04:43.024Z"
   },
   {
    "duration": 84,
    "start_time": "2021-10-06T19:04:47.199Z"
   },
   {
    "duration": 4,
    "start_time": "2021-10-06T19:04:48.592Z"
   },
   {
    "duration": 60,
    "start_time": "2021-10-06T19:04:51.423Z"
   },
   {
    "duration": 6,
    "start_time": "2021-10-06T19:04:53.319Z"
   },
   {
    "duration": 135,
    "start_time": "2021-10-06T19:05:01.014Z"
   },
   {
    "duration": 5,
    "start_time": "2021-10-06T19:05:02.548Z"
   },
   {
    "duration": 133,
    "start_time": "2021-10-06T19:05:06.015Z"
   },
   {
    "duration": 4,
    "start_time": "2021-10-06T19:05:07.629Z"
   },
   {
    "duration": 119,
    "start_time": "2021-10-06T19:05:10.398Z"
   },
   {
    "duration": 4,
    "start_time": "2021-10-06T19:05:15.557Z"
   },
   {
    "duration": 116,
    "start_time": "2021-10-06T19:05:19.572Z"
   },
   {
    "duration": 5,
    "start_time": "2021-10-06T19:05:21.076Z"
   },
   {
    "duration": 137,
    "start_time": "2021-10-06T19:05:24.808Z"
   },
   {
    "duration": 4,
    "start_time": "2021-10-06T19:05:26.230Z"
   },
   {
    "duration": 40,
    "start_time": "2021-10-06T19:05:32.438Z"
   },
   {
    "duration": 5,
    "start_time": "2021-10-06T19:05:34.106Z"
   },
   {
    "duration": 58,
    "start_time": "2021-10-06T19:05:40.309Z"
   },
   {
    "duration": 5,
    "start_time": "2021-10-06T19:05:41.833Z"
   },
   {
    "duration": 12,
    "start_time": "2021-10-06T19:05:43.700Z"
   },
   {
    "duration": 4,
    "start_time": "2021-10-06T19:05:45.693Z"
   },
   {
    "duration": 3,
    "start_time": "2021-10-06T19:05:48.164Z"
   },
   {
    "duration": 12,
    "start_time": "2021-10-06T19:05:52.924Z"
   },
   {
    "duration": 1590,
    "start_time": "2021-10-06T19:06:01.222Z"
   },
   {
    "duration": 37,
    "start_time": "2021-10-06T19:06:02.815Z"
   },
   {
    "duration": 12,
    "start_time": "2021-10-06T19:06:02.854Z"
   },
   {
    "duration": 24,
    "start_time": "2021-10-06T19:06:02.869Z"
   },
   {
    "duration": 8,
    "start_time": "2021-10-06T19:06:02.896Z"
   },
   {
    "duration": 7,
    "start_time": "2021-10-06T19:06:02.907Z"
   },
   {
    "duration": 42,
    "start_time": "2021-10-06T19:06:02.916Z"
   },
   {
    "duration": 6,
    "start_time": "2021-10-06T19:06:02.962Z"
   },
   {
    "duration": 26,
    "start_time": "2021-10-06T19:06:02.971Z"
   },
   {
    "duration": 17,
    "start_time": "2021-10-06T19:06:03.000Z"
   },
   {
    "duration": 9,
    "start_time": "2021-10-06T19:06:03.019Z"
   },
   {
    "duration": 33,
    "start_time": "2021-10-06T19:06:03.030Z"
   },
   {
    "duration": 20,
    "start_time": "2021-10-06T19:06:03.065Z"
   },
   {
    "duration": 16,
    "start_time": "2021-10-06T19:06:03.087Z"
   },
   {
    "duration": 21,
    "start_time": "2021-10-06T19:06:03.106Z"
   },
   {
    "duration": 20,
    "start_time": "2021-10-06T19:06:03.130Z"
   },
   {
    "duration": 24,
    "start_time": "2021-10-06T19:06:03.153Z"
   },
   {
    "duration": 19,
    "start_time": "2021-10-06T19:06:03.179Z"
   },
   {
    "duration": 23,
    "start_time": "2021-10-06T19:06:03.201Z"
   },
   {
    "duration": 56,
    "start_time": "2021-10-06T19:06:03.226Z"
   },
   {
    "duration": 15,
    "start_time": "2021-10-06T19:06:03.285Z"
   },
   {
    "duration": 8163,
    "start_time": "2021-10-06T19:06:03.303Z"
   },
   {
    "duration": 8,
    "start_time": "2021-10-06T19:06:11.472Z"
   },
   {
    "duration": 5,
    "start_time": "2021-10-06T19:06:11.484Z"
   },
   {
    "duration": 8,
    "start_time": "2021-10-06T19:06:11.491Z"
   },
   {
    "duration": 146214,
    "start_time": "2021-10-06T19:06:11.501Z"
   },
   {
    "duration": 8,
    "start_time": "2021-10-06T19:08:37.717Z"
   },
   {
    "duration": 64,
    "start_time": "2021-10-06T19:08:37.727Z"
   },
   {
    "duration": 7,
    "start_time": "2021-10-06T19:08:37.794Z"
   },
   {
    "duration": 164,
    "start_time": "2021-10-06T19:08:37.803Z"
   },
   {
    "duration": 89,
    "start_time": "2021-10-06T19:08:37.970Z"
   },
   {
    "duration": 15,
    "start_time": "2021-10-06T19:08:38.063Z"
   },
   {
    "duration": 177,
    "start_time": "2021-10-06T19:08:38.081Z"
   },
   {
    "duration": 7,
    "start_time": "2021-10-06T19:08:38.261Z"
   },
   {
    "duration": 19,
    "start_time": "2021-10-06T19:08:38.270Z"
   },
   {
    "duration": 12,
    "start_time": "2021-10-06T19:08:38.291Z"
   },
   {
    "duration": 5,
    "start_time": "2021-10-06T19:08:38.305Z"
   },
   {
    "duration": 46,
    "start_time": "2021-10-06T19:08:38.312Z"
   },
   {
    "duration": 6,
    "start_time": "2021-10-06T19:08:38.360Z"
   },
   {
    "duration": 18,
    "start_time": "2021-10-06T19:08:38.368Z"
   },
   {
    "duration": 12,
    "start_time": "2021-10-06T19:08:38.388Z"
   },
   {
    "duration": 5,
    "start_time": "2021-10-06T19:08:38.403Z"
   },
   {
    "duration": 49,
    "start_time": "2021-10-06T19:08:38.411Z"
   },
   {
    "duration": 10712,
    "start_time": "2021-10-06T19:08:38.462Z"
   },
   {
    "duration": 5,
    "start_time": "2021-10-06T19:08:49.176Z"
   },
   {
    "duration": 22,
    "start_time": "2021-10-06T19:08:49.184Z"
   },
   {
    "duration": 5988,
    "start_time": "2021-10-06T19:08:49.209Z"
   },
   {
    "duration": 5,
    "start_time": "2021-10-06T19:08:55.199Z"
   },
   {
    "duration": 55,
    "start_time": "2021-10-06T19:08:55.207Z"
   },
   {
    "duration": 229265,
    "start_time": "2021-10-06T19:08:55.265Z"
   },
   {
    "duration": 59,
    "start_time": "2021-10-06T19:12:44.532Z"
   },
   {
    "duration": 11,
    "start_time": "2021-10-06T19:12:44.594Z"
   },
   {
    "duration": 94078,
    "start_time": "2021-10-06T19:12:44.608Z"
   },
   {
    "duration": 92,
    "start_time": "2021-10-06T19:14:18.688Z"
   },
   {
    "duration": 12,
    "start_time": "2021-10-06T19:14:18.782Z"
   },
   {
    "duration": 164,
    "start_time": "2021-10-06T19:14:18.797Z"
   },
   {
    "duration": 94,
    "start_time": "2021-10-06T19:14:18.965Z"
   },
   {
    "duration": 108,
    "start_time": "2021-10-06T19:14:19.062Z"
   },
   {
    "duration": 188,
    "start_time": "2021-10-06T19:14:19.173Z"
   },
   {
    "duration": 95,
    "start_time": "2021-10-06T19:14:19.364Z"
   },
   {
    "duration": 101,
    "start_time": "2021-10-06T19:14:19.462Z"
   },
   {
    "duration": 3,
    "start_time": "2021-10-06T19:14:19.565Z"
   },
   {
    "duration": 9,
    "start_time": "2021-10-06T19:14:19.570Z"
   },
   {
    "duration": 95,
    "start_time": "2021-10-06T19:14:19.581Z"
   },
   {
    "duration": 4,
    "start_time": "2021-10-06T19:14:19.679Z"
   },
   {
    "duration": 9,
    "start_time": "2021-10-06T19:14:19.685Z"
   },
   {
    "duration": 8,
    "start_time": "2021-10-06T19:14:19.696Z"
   },
   {
    "duration": 8,
    "start_time": "2021-10-06T19:14:19.711Z"
   },
   {
    "duration": 160,
    "start_time": "2021-10-06T19:14:19.722Z"
   },
   {
    "duration": 4,
    "start_time": "2021-10-06T19:14:19.884Z"
   },
   {
    "duration": 41,
    "start_time": "2021-10-06T19:14:19.890Z"
   },
   {
    "duration": 24,
    "start_time": "2021-10-06T19:14:19.934Z"
   },
   {
    "duration": 7,
    "start_time": "2021-10-06T19:14:19.960Z"
   },
   {
    "duration": 20,
    "start_time": "2021-10-06T19:14:19.969Z"
   },
   {
    "duration": 6,
    "start_time": "2021-10-06T19:14:20.059Z"
   },
   {
    "duration": 97,
    "start_time": "2021-10-06T19:14:20.067Z"
   },
   {
    "duration": 92,
    "start_time": "2021-10-06T19:14:20.167Z"
   },
   {
    "duration": 5,
    "start_time": "2021-10-06T19:14:20.263Z"
   },
   {
    "duration": 535,
    "start_time": "2021-10-06T19:14:20.359Z"
   },
   {
    "duration": 12,
    "start_time": "2021-10-06T19:14:20.897Z"
   },
   {
    "duration": 143,
    "start_time": "2021-10-06T19:17:46.754Z"
   },
   {
    "duration": 5,
    "start_time": "2021-10-06T19:17:48.177Z"
   },
   {
    "duration": 221,
    "start_time": "2021-10-06T19:17:54.410Z"
   },
   {
    "duration": 4,
    "start_time": "2021-10-06T19:17:56.007Z"
   },
   {
    "duration": 138,
    "start_time": "2021-10-06T19:18:00.248Z"
   },
   {
    "duration": 6,
    "start_time": "2021-10-06T19:18:03.010Z"
   },
   {
    "duration": 419,
    "start_time": "2021-10-06T19:18:06.875Z"
   },
   {
    "duration": 6,
    "start_time": "2021-10-06T19:18:08.450Z"
   },
   {
    "duration": 473,
    "start_time": "2021-10-06T19:18:11.778Z"
   },
   {
    "duration": 5,
    "start_time": "2021-10-06T19:18:13.703Z"
   },
   {
    "duration": 374,
    "start_time": "2021-10-06T19:18:17.769Z"
   },
   {
    "duration": 5,
    "start_time": "2021-10-06T19:18:18.594Z"
   },
   {
    "duration": 72,
    "start_time": "2021-10-06T19:18:22.185Z"
   },
   {
    "duration": 5,
    "start_time": "2021-10-06T19:18:23.480Z"
   },
   {
    "duration": 137,
    "start_time": "2021-10-06T19:18:28.400Z"
   },
   {
    "duration": 4,
    "start_time": "2021-10-06T19:18:29.968Z"
   },
   {
    "duration": 140,
    "start_time": "2021-10-06T19:18:33.844Z"
   },
   {
    "duration": 4,
    "start_time": "2021-10-06T19:18:35.215Z"
   },
   {
    "duration": 202,
    "start_time": "2021-10-06T19:18:40.560Z"
   },
   {
    "duration": 5,
    "start_time": "2021-10-06T19:18:43.160Z"
   },
   {
    "duration": 189,
    "start_time": "2021-10-06T19:18:46.231Z"
   },
   {
    "duration": 5,
    "start_time": "2021-10-06T19:18:47.559Z"
   },
   {
    "duration": 170,
    "start_time": "2021-10-06T19:18:53.072Z"
   },
   {
    "duration": 5,
    "start_time": "2021-10-06T19:18:54.495Z"
   },
   {
    "duration": 229,
    "start_time": "2021-10-06T19:18:57.568Z"
   },
   {
    "duration": 4,
    "start_time": "2021-10-06T19:18:58.959Z"
   },
   {
    "duration": 253,
    "start_time": "2021-10-06T19:19:03.576Z"
   },
   {
    "duration": 4,
    "start_time": "2021-10-06T19:19:05.148Z"
   },
   {
    "duration": 371,
    "start_time": "2021-10-06T19:19:09.438Z"
   },
   {
    "duration": 4,
    "start_time": "2021-10-06T19:19:10.968Z"
   },
   {
    "duration": 496,
    "start_time": "2021-10-06T19:19:14.262Z"
   },
   {
    "duration": 5,
    "start_time": "2021-10-06T19:19:15.767Z"
   },
   {
    "duration": 627,
    "start_time": "2021-10-06T19:19:19.215Z"
   },
   {
    "duration": 4,
    "start_time": "2021-10-06T19:19:20.733Z"
   },
   {
    "duration": 733,
    "start_time": "2021-10-06T19:19:23.846Z"
   },
   {
    "duration": 5,
    "start_time": "2021-10-06T19:19:25.155Z"
   },
   {
    "duration": 745,
    "start_time": "2021-10-06T19:19:29.293Z"
   },
   {
    "duration": 4,
    "start_time": "2021-10-06T19:19:30.670Z"
   },
   {
    "duration": 820,
    "start_time": "2021-10-06T19:19:34.155Z"
   },
   {
    "duration": 722,
    "start_time": "2021-10-06T19:19:42.238Z"
   },
   {
    "duration": 4,
    "start_time": "2021-10-06T19:19:45.037Z"
   },
   {
    "duration": 720,
    "start_time": "2021-10-06T19:19:48.509Z"
   },
   {
    "duration": 585,
    "start_time": "2021-10-06T19:20:12.741Z"
   },
   {
    "duration": 4,
    "start_time": "2021-10-06T19:20:14.332Z"
   },
   {
    "duration": 685,
    "start_time": "2021-10-06T19:20:18.060Z"
   },
   {
    "duration": 4,
    "start_time": "2021-10-06T19:20:21.021Z"
   },
   {
    "duration": 553,
    "start_time": "2021-10-06T19:20:23.820Z"
   },
   {
    "duration": 5,
    "start_time": "2021-10-06T19:20:25.109Z"
   },
   {
    "duration": 432,
    "start_time": "2021-10-06T19:20:28.045Z"
   },
   {
    "duration": 5,
    "start_time": "2021-10-06T19:20:29.423Z"
   },
   {
    "duration": 319,
    "start_time": "2021-10-06T19:20:34.131Z"
   },
   {
    "duration": 4,
    "start_time": "2021-10-06T19:20:35.924Z"
   },
   {
    "duration": 418,
    "start_time": "2021-10-06T19:20:40.915Z"
   },
   {
    "duration": 4,
    "start_time": "2021-10-06T19:20:42.413Z"
   },
   {
    "duration": 395,
    "start_time": "2021-10-06T19:20:46.200Z"
   },
   {
    "duration": 4,
    "start_time": "2021-10-06T19:20:49.183Z"
   },
   {
    "duration": 5,
    "start_time": "2021-10-06T19:20:53.341Z"
   },
   {
    "duration": 445,
    "start_time": "2021-10-06T19:20:55.026Z"
   },
   {
    "duration": 4,
    "start_time": "2021-10-06T19:20:56.556Z"
   },
   {
    "duration": 477,
    "start_time": "2021-10-06T19:21:04.251Z"
   },
   {
    "duration": 5,
    "start_time": "2021-10-06T19:21:06.105Z"
   },
   {
    "duration": 446,
    "start_time": "2021-10-06T19:21:09.874Z"
   },
   {
    "duration": 5,
    "start_time": "2021-10-06T19:21:11.363Z"
   },
   {
    "duration": 523,
    "start_time": "2021-10-06T19:21:15.881Z"
   },
   {
    "duration": 4,
    "start_time": "2021-10-06T19:21:17.547Z"
   },
   {
    "duration": 367,
    "start_time": "2021-10-06T19:21:20.555Z"
   },
   {
    "duration": 5,
    "start_time": "2021-10-06T19:21:21.906Z"
   },
   {
    "duration": 383,
    "start_time": "2021-10-06T19:21:31.352Z"
   },
   {
    "duration": 372,
    "start_time": "2021-10-06T19:21:33.163Z"
   },
   {
    "duration": 4,
    "start_time": "2021-10-06T19:21:35.082Z"
   },
   {
    "duration": 373,
    "start_time": "2021-10-06T19:21:38.818Z"
   },
   {
    "duration": 4,
    "start_time": "2021-10-06T19:21:40.518Z"
   },
   {
    "duration": 364,
    "start_time": "2021-10-06T19:21:43.719Z"
   },
   {
    "duration": 5,
    "start_time": "2021-10-06T19:21:45.359Z"
   },
   {
    "duration": 436,
    "start_time": "2021-10-06T19:21:48.377Z"
   },
   {
    "duration": 5,
    "start_time": "2021-10-06T19:21:50.042Z"
   },
   {
    "duration": 479,
    "start_time": "2021-10-06T19:21:53.276Z"
   },
   {
    "duration": 5,
    "start_time": "2021-10-06T19:21:55.222Z"
   },
   {
    "duration": 445,
    "start_time": "2021-10-06T19:21:59.793Z"
   },
   {
    "duration": 5,
    "start_time": "2021-10-06T19:22:01.275Z"
   },
   {
    "duration": 435,
    "start_time": "2021-10-06T19:22:04.246Z"
   },
   {
    "duration": 4,
    "start_time": "2021-10-06T19:22:05.584Z"
   },
   {
    "duration": 439,
    "start_time": "2021-10-06T19:22:08.921Z"
   },
   {
    "duration": 4,
    "start_time": "2021-10-06T19:22:10.417Z"
   },
   {
    "duration": 648,
    "start_time": "2021-10-06T19:22:13.382Z"
   },
   {
    "duration": 6,
    "start_time": "2021-10-06T19:22:15.072Z"
   },
   {
    "duration": 438,
    "start_time": "2021-10-06T19:22:17.940Z"
   },
   {
    "duration": 4,
    "start_time": "2021-10-06T19:22:19.415Z"
   },
   {
    "duration": 409,
    "start_time": "2021-10-06T19:22:22.616Z"
   },
   {
    "duration": 5,
    "start_time": "2021-10-06T19:22:23.991Z"
   },
   {
    "duration": 432,
    "start_time": "2021-10-06T19:22:27.360Z"
   },
   {
    "duration": 5,
    "start_time": "2021-10-06T19:22:28.611Z"
   },
   {
    "duration": 439,
    "start_time": "2021-10-06T19:22:31.296Z"
   },
   {
    "duration": 5,
    "start_time": "2021-10-06T19:22:32.720Z"
   },
   {
    "duration": 458,
    "start_time": "2021-10-06T19:23:01.423Z"
   },
   {
    "duration": 5,
    "start_time": "2021-10-06T19:23:03.200Z"
   },
   {
    "duration": 315,
    "start_time": "2021-10-06T19:23:13.039Z"
   },
   {
    "duration": 5,
    "start_time": "2021-10-06T19:23:14.815Z"
   },
   {
    "duration": 197,
    "start_time": "2021-10-06T19:23:18.156Z"
   },
   {
    "duration": 6,
    "start_time": "2021-10-06T19:23:20.831Z"
   },
   {
    "duration": 196,
    "start_time": "2021-10-06T19:23:25.168Z"
   },
   {
    "duration": 6,
    "start_time": "2021-10-06T19:23:26.673Z"
   },
   {
    "duration": 199,
    "start_time": "2021-10-06T19:23:30.276Z"
   },
   {
    "duration": 179,
    "start_time": "2021-10-06T19:23:33.453Z"
   },
   {
    "duration": 4,
    "start_time": "2021-10-06T19:23:35.014Z"
   },
   {
    "duration": 431,
    "start_time": "2021-10-06T19:23:38.622Z"
   },
   {
    "duration": 5,
    "start_time": "2021-10-06T19:23:40.108Z"
   },
   {
    "duration": 434,
    "start_time": "2021-10-06T19:23:44.683Z"
   },
   {
    "duration": 5,
    "start_time": "2021-10-06T19:23:46.149Z"
   },
   {
    "duration": 41,
    "start_time": "2021-10-06T19:23:49.733Z"
   },
   {
    "duration": 5,
    "start_time": "2021-10-06T19:23:52.087Z"
   },
   {
    "duration": 4,
    "start_time": "2021-10-06T19:23:55.764Z"
   },
   {
    "duration": 167,
    "start_time": "2021-10-06T19:24:20.891Z"
   },
   {
    "duration": 78,
    "start_time": "2021-10-06T19:24:47.482Z"
   },
   {
    "duration": 6,
    "start_time": "2021-10-06T19:24:49.300Z"
   },
   {
    "duration": 14,
    "start_time": "2021-10-06T19:24:51.228Z"
   },
   {
    "duration": 5,
    "start_time": "2021-10-06T19:24:52.975Z"
   },
   {
    "duration": 4,
    "start_time": "2021-10-06T19:24:54.732Z"
   },
   {
    "duration": 361,
    "start_time": "2021-10-06T19:25:11.345Z"
   },
   {
    "duration": 15,
    "start_time": "2021-10-06T19:25:14.253Z"
   },
   {
    "duration": 356,
    "start_time": "2021-10-06T19:29:34.062Z"
   },
   {
    "duration": 15,
    "start_time": "2021-10-06T19:29:36.715Z"
   },
   {
    "duration": 1645,
    "start_time": "2021-10-07T17:37:51.906Z"
   },
   {
    "duration": 38,
    "start_time": "2021-10-07T17:37:53.554Z"
   },
   {
    "duration": 14,
    "start_time": "2021-10-07T17:37:53.596Z"
   },
   {
    "duration": 27,
    "start_time": "2021-10-07T17:37:53.614Z"
   },
   {
    "duration": 10,
    "start_time": "2021-10-07T17:37:53.644Z"
   },
   {
    "duration": 44,
    "start_time": "2021-10-07T17:37:53.656Z"
   },
   {
    "duration": 10,
    "start_time": "2021-10-07T17:37:53.703Z"
   },
   {
    "duration": 6,
    "start_time": "2021-10-07T17:37:53.717Z"
   },
   {
    "duration": 20,
    "start_time": "2021-10-07T17:37:53.726Z"
   },
   {
    "duration": 17,
    "start_time": "2021-10-07T17:37:53.749Z"
   },
   {
    "duration": 38,
    "start_time": "2021-10-07T17:37:53.768Z"
   },
   {
    "duration": 7,
    "start_time": "2021-10-07T17:37:53.808Z"
   },
   {
    "duration": 10,
    "start_time": "2021-10-07T17:37:53.818Z"
   },
   {
    "duration": 14,
    "start_time": "2021-10-07T17:37:53.830Z"
   },
   {
    "duration": 7,
    "start_time": "2021-10-07T17:37:53.846Z"
   },
   {
    "duration": 47,
    "start_time": "2021-10-07T17:37:53.855Z"
   },
   {
    "duration": 6,
    "start_time": "2021-10-07T17:37:53.904Z"
   },
   {
    "duration": 9,
    "start_time": "2021-10-07T17:37:53.912Z"
   },
   {
    "duration": 9,
    "start_time": "2021-10-07T17:37:53.923Z"
   },
   {
    "duration": 46,
    "start_time": "2021-10-07T17:37:53.934Z"
   },
   {
    "duration": 29,
    "start_time": "2021-10-07T17:37:53.982Z"
   },
   {
    "duration": 9112,
    "start_time": "2021-10-07T17:37:54.013Z"
   },
   {
    "duration": 9,
    "start_time": "2021-10-07T17:38:03.131Z"
   },
   {
    "duration": 13,
    "start_time": "2021-10-07T17:38:03.143Z"
   },
   {
    "duration": 41,
    "start_time": "2021-10-07T17:38:03.159Z"
   },
   {
    "duration": 149230,
    "start_time": "2021-10-07T17:38:03.203Z"
   },
   {
    "duration": 8,
    "start_time": "2021-10-07T17:40:32.436Z"
   },
   {
    "duration": 78,
    "start_time": "2021-10-07T17:40:32.446Z"
   },
   {
    "duration": 7,
    "start_time": "2021-10-07T17:40:32.526Z"
   },
   {
    "duration": 66,
    "start_time": "2021-10-07T17:40:32.536Z"
   },
   {
    "duration": 96,
    "start_time": "2021-10-07T17:40:32.605Z"
   },
   {
    "duration": 98,
    "start_time": "2021-10-07T17:40:32.705Z"
   },
   {
    "duration": 92,
    "start_time": "2021-10-07T17:40:32.807Z"
   },
   {
    "duration": 6,
    "start_time": "2021-10-07T17:40:32.902Z"
   },
   {
    "duration": 20,
    "start_time": "2021-10-07T17:40:32.911Z"
   },
   {
    "duration": 14,
    "start_time": "2021-10-07T17:40:32.934Z"
   },
   {
    "duration": 51,
    "start_time": "2021-10-07T17:40:32.950Z"
   },
   {
    "duration": 7,
    "start_time": "2021-10-07T17:40:33.004Z"
   },
   {
    "duration": 9,
    "start_time": "2021-10-07T17:40:33.013Z"
   },
   {
    "duration": 21,
    "start_time": "2021-10-07T17:40:33.025Z"
   },
   {
    "duration": 54,
    "start_time": "2021-10-07T17:40:33.049Z"
   },
   {
    "duration": 6,
    "start_time": "2021-10-07T17:40:33.105Z"
   },
   {
    "duration": 11,
    "start_time": "2021-10-07T17:40:33.113Z"
   },
   {
    "duration": 10654,
    "start_time": "2021-10-07T17:40:33.127Z"
   },
   {
    "duration": 16,
    "start_time": "2021-10-07T17:40:43.783Z"
   },
   {
    "duration": 21,
    "start_time": "2021-10-07T17:40:43.802Z"
   },
   {
    "duration": 5613,
    "start_time": "2021-10-07T17:40:43.826Z"
   },
   {
    "duration": 5,
    "start_time": "2021-10-07T17:40:49.441Z"
   },
   {
    "duration": 17,
    "start_time": "2021-10-07T17:40:49.448Z"
   },
   {
    "duration": 216845,
    "start_time": "2021-10-07T17:40:49.501Z"
   },
   {
    "duration": 72,
    "start_time": "2021-10-07T17:44:26.349Z"
   },
   {
    "duration": 12,
    "start_time": "2021-10-07T17:44:26.423Z"
   },
   {
    "duration": 90692,
    "start_time": "2021-10-07T17:44:26.437Z"
   },
   {
    "duration": 72,
    "start_time": "2021-10-07T17:45:57.131Z"
   },
   {
    "duration": 13,
    "start_time": "2021-10-07T17:45:57.205Z"
   },
   {
    "duration": 88,
    "start_time": "2021-10-07T17:45:57.221Z"
   },
   {
    "duration": 92,
    "start_time": "2021-10-07T17:45:57.312Z"
   },
   {
    "duration": 193,
    "start_time": "2021-10-07T17:45:57.408Z"
   },
   {
    "duration": 23,
    "start_time": "2021-10-07T17:45:57.603Z"
   },
   {
    "duration": 171,
    "start_time": "2021-10-07T17:45:57.629Z"
   },
   {
    "duration": 98,
    "start_time": "2021-10-07T17:45:57.805Z"
   },
   {
    "duration": 4,
    "start_time": "2021-10-07T17:45:57.906Z"
   },
   {
    "duration": 7,
    "start_time": "2021-10-07T17:45:57.912Z"
   },
   {
    "duration": 42,
    "start_time": "2021-10-07T17:45:57.921Z"
   },
   {
    "duration": 36,
    "start_time": "2021-10-07T17:45:57.966Z"
   },
   {
    "duration": 12,
    "start_time": "2021-10-07T17:45:58.005Z"
   },
   {
    "duration": 5,
    "start_time": "2021-10-07T17:45:58.020Z"
   },
   {
    "duration": 3,
    "start_time": "2021-10-07T17:45:58.033Z"
   },
   {
    "duration": 488,
    "start_time": "2021-10-07T17:45:58.039Z"
   },
   {
    "duration": 4,
    "start_time": "2021-10-07T17:45:58.530Z"
   },
   {
    "duration": 44,
    "start_time": "2021-10-07T17:45:58.536Z"
   },
   {
    "duration": 20,
    "start_time": "2021-10-07T17:45:58.583Z"
   },
   {
    "duration": 5,
    "start_time": "2021-10-07T17:45:58.606Z"
   },
   {
    "duration": 89,
    "start_time": "2021-10-07T17:45:58.613Z"
   },
   {
    "duration": 96,
    "start_time": "2021-10-07T17:45:58.706Z"
   },
   {
    "duration": 14,
    "start_time": "2021-10-07T17:45:58.804Z"
   },
   {
    "duration": 85,
    "start_time": "2021-10-07T17:45:58.821Z"
   },
   {
    "duration": 97,
    "start_time": "2021-10-07T17:45:58.909Z"
   },
   {
    "duration": 503,
    "start_time": "2021-10-07T17:45:59.008Z"
   },
   {
    "duration": 12,
    "start_time": "2021-10-07T17:45:59.514Z"
   },
   {
    "duration": 7,
    "start_time": "2021-10-07T17:45:59.528Z"
   },
   {
    "duration": 1643,
    "start_time": "2021-10-08T10:09:38.776Z"
   },
   {
    "duration": 40,
    "start_time": "2021-10-08T10:09:40.421Z"
   },
   {
    "duration": 14,
    "start_time": "2021-10-08T10:09:40.464Z"
   },
   {
    "duration": 27,
    "start_time": "2021-10-08T10:09:40.481Z"
   },
   {
    "duration": 51,
    "start_time": "2021-10-08T10:09:40.511Z"
   },
   {
    "duration": 6,
    "start_time": "2021-10-08T10:09:40.564Z"
   },
   {
    "duration": 10,
    "start_time": "2021-10-08T10:09:40.572Z"
   },
   {
    "duration": 7,
    "start_time": "2021-10-08T10:09:40.586Z"
   },
   {
    "duration": 22,
    "start_time": "2021-10-08T10:09:40.596Z"
   },
   {
    "duration": 48,
    "start_time": "2021-10-08T10:09:40.620Z"
   },
   {
    "duration": 11,
    "start_time": "2021-10-08T10:09:40.670Z"
   },
   {
    "duration": 5,
    "start_time": "2021-10-08T10:09:40.684Z"
   },
   {
    "duration": 6,
    "start_time": "2021-10-08T10:09:40.692Z"
   },
   {
    "duration": 57,
    "start_time": "2021-10-08T10:09:40.701Z"
   },
   {
    "duration": 7,
    "start_time": "2021-10-08T10:09:40.761Z"
   },
   {
    "duration": 19,
    "start_time": "2021-10-08T10:09:40.771Z"
   },
   {
    "duration": 11,
    "start_time": "2021-10-08T10:09:40.792Z"
   },
   {
    "duration": 14,
    "start_time": "2021-10-08T10:09:40.805Z"
   },
   {
    "duration": 9,
    "start_time": "2021-10-08T10:09:40.822Z"
   },
   {
    "duration": 61,
    "start_time": "2021-10-08T10:09:40.834Z"
   },
   {
    "duration": 17,
    "start_time": "2021-10-08T10:09:40.897Z"
   },
   {
    "duration": 9240,
    "start_time": "2021-10-08T10:09:40.917Z"
   },
   {
    "duration": 10,
    "start_time": "2021-10-08T10:09:50.163Z"
   },
   {
    "duration": 18,
    "start_time": "2021-10-08T10:09:50.176Z"
   },
   {
    "duration": 36,
    "start_time": "2021-10-08T10:09:50.197Z"
   },
   {
    "duration": 144379,
    "start_time": "2021-10-08T10:09:50.235Z"
   },
   {
    "duration": 8,
    "start_time": "2021-10-08T10:12:14.616Z"
   },
   {
    "duration": 67,
    "start_time": "2021-10-08T10:12:14.626Z"
   },
   {
    "duration": 7,
    "start_time": "2021-10-08T10:12:14.695Z"
   },
   {
    "duration": 80,
    "start_time": "2021-10-08T10:12:14.704Z"
   },
   {
    "duration": 99,
    "start_time": "2021-10-08T10:12:14.860Z"
   },
   {
    "duration": 15,
    "start_time": "2021-10-08T10:12:14.961Z"
   },
   {
    "duration": 100,
    "start_time": "2021-10-08T10:12:15.059Z"
   },
   {
    "duration": 6,
    "start_time": "2021-10-08T10:12:15.161Z"
   },
   {
    "duration": 21,
    "start_time": "2021-10-08T10:12:15.169Z"
   },
   {
    "duration": 11,
    "start_time": "2021-10-08T10:12:15.192Z"
   },
   {
    "duration": 5,
    "start_time": "2021-10-08T10:12:15.205Z"
   },
   {
    "duration": 5,
    "start_time": "2021-10-08T10:12:15.213Z"
   },
   {
    "duration": 42,
    "start_time": "2021-10-08T10:12:15.220Z"
   },
   {
    "duration": 16,
    "start_time": "2021-10-08T10:12:15.264Z"
   },
   {
    "duration": 10,
    "start_time": "2021-10-08T10:12:15.282Z"
   },
   {
    "duration": 5,
    "start_time": "2021-10-08T10:12:15.294Z"
   },
   {
    "duration": 7,
    "start_time": "2021-10-08T10:12:15.301Z"
   },
   {
    "duration": 10382,
    "start_time": "2021-10-08T10:12:15.310Z"
   },
   {
    "duration": 5,
    "start_time": "2021-10-08T10:12:25.695Z"
   },
   {
    "duration": 17,
    "start_time": "2021-10-08T10:12:25.702Z"
   },
   {
    "duration": 5832,
    "start_time": "2021-10-08T10:12:25.759Z"
   },
   {
    "duration": 6,
    "start_time": "2021-10-08T10:12:31.593Z"
   },
   {
    "duration": 58,
    "start_time": "2021-10-08T10:12:31.601Z"
   },
   {
    "duration": 226013,
    "start_time": "2021-10-08T10:12:31.662Z"
   },
   {
    "duration": 80,
    "start_time": "2021-10-08T10:16:17.678Z"
   },
   {
    "duration": 12,
    "start_time": "2021-10-08T10:16:17.761Z"
   },
   {
    "duration": 89042,
    "start_time": "2021-10-08T10:16:17.775Z"
   },
   {
    "duration": 61,
    "start_time": "2021-10-08T10:17:46.819Z"
   },
   {
    "duration": 11,
    "start_time": "2021-10-08T10:17:46.883Z"
   },
   {
    "duration": 90,
    "start_time": "2021-10-08T10:17:46.897Z"
   },
   {
    "duration": 8,
    "start_time": "2021-10-08T10:17:47.060Z"
   },
   {
    "duration": 103,
    "start_time": "2021-10-08T10:17:47.159Z"
   },
   {
    "duration": 22,
    "start_time": "2021-10-08T10:17:47.264Z"
   },
   {
    "duration": 77,
    "start_time": "2021-10-08T10:17:47.290Z"
   },
   {
    "duration": 99,
    "start_time": "2021-10-08T10:17:47.460Z"
   },
   {
    "duration": 4,
    "start_time": "2021-10-08T10:17:47.561Z"
   },
   {
    "duration": 10,
    "start_time": "2021-10-08T10:17:47.567Z"
   },
   {
    "duration": 45,
    "start_time": "2021-10-08T10:17:47.579Z"
   },
   {
    "duration": 31,
    "start_time": "2021-10-08T10:17:47.627Z"
   },
   {
    "duration": 13,
    "start_time": "2021-10-08T10:17:47.661Z"
   },
   {
    "duration": 8,
    "start_time": "2021-10-08T10:17:47.676Z"
   },
   {
    "duration": 3,
    "start_time": "2021-10-08T10:17:47.693Z"
   },
   {
    "duration": 454,
    "start_time": "2021-10-08T10:17:47.699Z"
   },
   {
    "duration": 4,
    "start_time": "2021-10-08T10:17:48.158Z"
   },
   {
    "duration": 64,
    "start_time": "2021-10-08T10:17:48.164Z"
   },
   {
    "duration": 4,
    "start_time": "2021-10-08T10:17:48.230Z"
   },
   {
    "duration": 25,
    "start_time": "2021-10-08T10:17:48.237Z"
   },
   {
    "duration": 65,
    "start_time": "2021-10-08T10:17:48.265Z"
   },
   {
    "duration": 6,
    "start_time": "2021-10-08T10:17:48.359Z"
   },
   {
    "duration": 12,
    "start_time": "2021-10-08T10:17:48.459Z"
   },
   {
    "duration": 6,
    "start_time": "2021-10-08T10:17:48.559Z"
   },
   {
    "duration": 96,
    "start_time": "2021-10-08T10:17:48.568Z"
   },
   {
    "duration": 654,
    "start_time": "2021-10-08T10:17:48.667Z"
   },
   {
    "duration": 11,
    "start_time": "2021-10-08T10:17:49.323Z"
   },
   {
    "duration": 31,
    "start_time": "2021-10-08T10:17:49.420Z"
   },
   {
    "duration": 481,
    "start_time": "2021-10-08T10:22:26.585Z"
   },
   {
    "duration": 105,
    "start_time": "2021-10-08T10:23:37.543Z"
   },
   {
    "duration": 317,
    "start_time": "2021-10-08T10:24:34.779Z"
   },
   {
    "duration": 333,
    "start_time": "2021-10-08T10:25:47.852Z"
   },
   {
    "duration": 352,
    "start_time": "2021-10-08T10:26:17.820Z"
   },
   {
    "duration": 126,
    "start_time": "2021-10-08T10:26:57.924Z"
   },
   {
    "duration": 12,
    "start_time": "2021-10-08T10:27:07.386Z"
   },
   {
    "duration": 291,
    "start_time": "2021-10-08T10:27:14.097Z"
   },
   {
    "duration": 297,
    "start_time": "2021-10-08T10:35:39.713Z"
   },
   {
    "duration": 281,
    "start_time": "2021-10-08T10:35:53.376Z"
   },
   {
    "duration": 295,
    "start_time": "2021-10-08T10:35:58.609Z"
   },
   {
    "duration": 284,
    "start_time": "2021-10-08T10:36:02.303Z"
   },
   {
    "duration": 322,
    "start_time": "2021-10-08T10:36:07.336Z"
   },
   {
    "duration": 327,
    "start_time": "2021-10-08T10:36:28.911Z"
   },
   {
    "duration": 321,
    "start_time": "2021-10-08T10:36:39.120Z"
   },
   {
    "duration": 12,
    "start_time": "2021-10-08T10:37:04.078Z"
   },
   {
    "duration": 359,
    "start_time": "2021-10-08T10:42:45.539Z"
   },
   {
    "duration": 329,
    "start_time": "2021-10-08T10:43:23.955Z"
   },
   {
    "duration": 11,
    "start_time": "2021-10-08T10:43:35.644Z"
   },
   {
    "duration": 318,
    "start_time": "2021-10-08T10:59:03.262Z"
   },
   {
    "duration": 340,
    "start_time": "2021-10-08T10:59:32.182Z"
   },
   {
    "duration": 344,
    "start_time": "2021-10-08T11:06:30.663Z"
   },
   {
    "duration": 600,
    "start_time": "2021-10-08T11:09:56.188Z"
   },
   {
    "duration": 106,
    "start_time": "2021-10-08T11:13:08.069Z"
   },
   {
    "duration": 334,
    "start_time": "2021-10-08T11:13:22.243Z"
   },
   {
    "duration": 323,
    "start_time": "2021-10-08T11:13:30.379Z"
   },
   {
    "duration": 332,
    "start_time": "2021-10-08T11:16:34.445Z"
   },
   {
    "duration": 353,
    "start_time": "2021-10-08T11:17:28.148Z"
   },
   {
    "duration": 330,
    "start_time": "2021-10-08T11:17:40.091Z"
   },
   {
    "duration": 307,
    "start_time": "2021-10-08T11:17:55.650Z"
   },
   {
    "duration": 287,
    "start_time": "2021-10-08T11:18:12.754Z"
   },
   {
    "duration": 330,
    "start_time": "2021-10-08T11:18:43.066Z"
   },
   {
    "duration": 297,
    "start_time": "2021-10-08T11:19:10.488Z"
   },
   {
    "duration": 326,
    "start_time": "2021-10-08T11:20:52.373Z"
   },
   {
    "duration": 17,
    "start_time": "2021-10-08T11:33:04.412Z"
   },
   {
    "duration": 6,
    "start_time": "2021-10-08T11:33:29.246Z"
   },
   {
    "duration": 5,
    "start_time": "2021-10-08T11:33:40.852Z"
   },
   {
    "duration": 324,
    "start_time": "2021-10-08T11:34:28.020Z"
   },
   {
    "duration": 424,
    "start_time": "2021-10-08T11:35:06.273Z"
   },
   {
    "duration": 6,
    "start_time": "2021-10-08T11:35:19.859Z"
   },
   {
    "duration": 331,
    "start_time": "2021-10-08T11:35:25.050Z"
   },
   {
    "duration": 363,
    "start_time": "2021-10-08T11:35:39.850Z"
   },
   {
    "duration": 5,
    "start_time": "2021-10-08T11:37:13.334Z"
   },
   {
    "duration": 527,
    "start_time": "2021-10-08T11:37:32.997Z"
   },
   {
    "duration": 5,
    "start_time": "2021-10-08T11:37:49.396Z"
   },
   {
    "duration": 347,
    "start_time": "2021-10-08T11:38:35.547Z"
   },
   {
    "duration": 22,
    "start_time": "2021-10-08T11:39:17.347Z"
   },
   {
    "duration": 6,
    "start_time": "2021-10-08T11:39:20.059Z"
   },
   {
    "duration": 13,
    "start_time": "2021-10-08T11:40:00.937Z"
   },
   {
    "duration": 5,
    "start_time": "2021-10-08T11:40:02.865Z"
   },
   {
    "duration": 8,
    "start_time": "2021-10-08T11:40:22.611Z"
   },
   {
    "duration": 5,
    "start_time": "2021-10-08T11:40:24.599Z"
   },
   {
    "duration": 376,
    "start_time": "2021-10-08T11:40:39.775Z"
   },
   {
    "duration": 341,
    "start_time": "2021-10-08T11:40:42.440Z"
   },
   {
    "duration": 377,
    "start_time": "2021-10-08T11:40:54.749Z"
   },
   {
    "duration": 366,
    "start_time": "2021-10-08T11:41:01.347Z"
   },
   {
    "duration": 1610,
    "start_time": "2021-10-08T11:41:32.988Z"
   },
   {
    "duration": 38,
    "start_time": "2021-10-08T11:41:34.601Z"
   },
   {
    "duration": 12,
    "start_time": "2021-10-08T11:41:34.642Z"
   },
   {
    "duration": 36,
    "start_time": "2021-10-08T11:41:34.657Z"
   },
   {
    "duration": 21,
    "start_time": "2021-10-08T11:41:34.695Z"
   },
   {
    "duration": 20,
    "start_time": "2021-10-08T11:41:34.718Z"
   },
   {
    "duration": 16,
    "start_time": "2021-10-08T11:41:34.741Z"
   },
   {
    "duration": 20,
    "start_time": "2021-10-08T11:41:34.760Z"
   },
   {
    "duration": 32,
    "start_time": "2021-10-08T11:41:34.783Z"
   },
   {
    "duration": 19,
    "start_time": "2021-10-08T11:41:34.818Z"
   },
   {
    "duration": 30,
    "start_time": "2021-10-08T11:41:34.840Z"
   },
   {
    "duration": 16,
    "start_time": "2021-10-08T11:41:34.873Z"
   },
   {
    "duration": 19,
    "start_time": "2021-10-08T11:41:34.892Z"
   },
   {
    "duration": 16,
    "start_time": "2021-10-08T11:41:34.913Z"
   },
   {
    "duration": 17,
    "start_time": "2021-10-08T11:41:34.932Z"
   },
   {
    "duration": 29,
    "start_time": "2021-10-08T11:41:34.951Z"
   },
   {
    "duration": 11,
    "start_time": "2021-10-08T11:41:34.982Z"
   },
   {
    "duration": 15,
    "start_time": "2021-10-08T11:41:34.995Z"
   },
   {
    "duration": 21,
    "start_time": "2021-10-08T11:41:35.012Z"
   },
   {
    "duration": 42,
    "start_time": "2021-10-08T11:41:35.036Z"
   },
   {
    "duration": 9,
    "start_time": "2021-10-08T11:41:35.080Z"
   },
   {
    "duration": 8678,
    "start_time": "2021-10-08T11:41:35.091Z"
   },
   {
    "duration": 11,
    "start_time": "2021-10-08T11:41:43.775Z"
   },
   {
    "duration": 5,
    "start_time": "2021-10-08T11:41:43.790Z"
   },
   {
    "duration": 14,
    "start_time": "2021-10-08T11:41:43.798Z"
   },
   {
    "duration": 145306,
    "start_time": "2021-10-08T11:41:43.858Z"
   },
   {
    "duration": 8,
    "start_time": "2021-10-08T11:44:09.166Z"
   },
   {
    "duration": 82,
    "start_time": "2021-10-08T11:44:09.176Z"
   },
   {
    "duration": 7,
    "start_time": "2021-10-08T11:44:09.261Z"
   },
   {
    "duration": 88,
    "start_time": "2021-10-08T11:44:09.270Z"
   },
   {
    "duration": 95,
    "start_time": "2021-10-08T11:44:09.362Z"
   },
   {
    "duration": 6,
    "start_time": "2021-10-08T11:44:09.460Z"
   },
   {
    "duration": 93,
    "start_time": "2021-10-08T11:44:09.470Z"
   },
   {
    "duration": 92,
    "start_time": "2021-10-08T11:44:09.567Z"
   },
   {
    "duration": 20,
    "start_time": "2021-10-08T11:44:09.662Z"
   },
   {
    "duration": 12,
    "start_time": "2021-10-08T11:44:09.684Z"
   },
   {
    "duration": 5,
    "start_time": "2021-10-08T11:44:09.698Z"
   },
   {
    "duration": 6,
    "start_time": "2021-10-08T11:44:09.705Z"
   },
   {
    "duration": 47,
    "start_time": "2021-10-08T11:44:09.713Z"
   },
   {
    "duration": 22,
    "start_time": "2021-10-08T11:44:09.762Z"
   },
   {
    "duration": 9,
    "start_time": "2021-10-08T11:44:09.787Z"
   },
   {
    "duration": 4,
    "start_time": "2021-10-08T11:44:09.799Z"
   },
   {
    "duration": 7,
    "start_time": "2021-10-08T11:44:09.805Z"
   },
   {
    "duration": 10149,
    "start_time": "2021-10-08T11:44:09.814Z"
   },
   {
    "duration": 5,
    "start_time": "2021-10-08T11:44:19.965Z"
   },
   {
    "duration": 18,
    "start_time": "2021-10-08T11:44:19.973Z"
   },
   {
    "duration": 5670,
    "start_time": "2021-10-08T11:44:19.993Z"
   },
   {
    "duration": 5,
    "start_time": "2021-10-08T11:44:25.666Z"
   },
   {
    "duration": 27,
    "start_time": "2021-10-08T11:44:25.673Z"
   },
   {
    "duration": 207746,
    "start_time": "2021-10-08T11:44:25.703Z"
   },
   {
    "duration": 42,
    "start_time": "2021-10-08T11:47:53.460Z"
   },
   {
    "duration": 12,
    "start_time": "2021-10-08T11:47:53.504Z"
   },
   {
    "duration": 85781,
    "start_time": "2021-10-08T11:47:53.558Z"
   },
   {
    "duration": 48,
    "start_time": "2021-10-08T11:49:19.341Z"
   },
   {
    "duration": 12,
    "start_time": "2021-10-08T11:49:19.391Z"
   },
   {
    "duration": 155,
    "start_time": "2021-10-08T11:49:19.405Z"
   },
   {
    "duration": 101,
    "start_time": "2021-10-08T11:49:19.563Z"
   },
   {
    "duration": 191,
    "start_time": "2021-10-08T11:49:19.668Z"
   },
   {
    "duration": 22,
    "start_time": "2021-10-08T11:49:19.862Z"
   },
   {
    "duration": 72,
    "start_time": "2021-10-08T11:49:19.887Z"
   },
   {
    "duration": 102,
    "start_time": "2021-10-08T11:49:19.963Z"
   },
   {
    "duration": 5,
    "start_time": "2021-10-08T11:49:20.067Z"
   },
   {
    "duration": 83,
    "start_time": "2021-10-08T11:49:20.075Z"
   },
   {
    "duration": 46,
    "start_time": "2021-10-08T11:49:20.161Z"
   },
   {
    "duration": 4,
    "start_time": "2021-10-08T11:49:20.210Z"
   },
   {
    "duration": 8,
    "start_time": "2021-10-08T11:49:20.217Z"
   },
   {
    "duration": 34,
    "start_time": "2021-10-08T11:49:20.228Z"
   },
   {
    "duration": 4,
    "start_time": "2021-10-08T11:49:20.270Z"
   },
   {
    "duration": 480,
    "start_time": "2021-10-08T11:49:20.277Z"
   },
   {
    "duration": 520,
    "start_time": "2021-10-08T11:49:20.760Z"
   },
   {
    "duration": 5,
    "start_time": "2021-10-08T11:49:21.283Z"
   },
   {
    "duration": 31,
    "start_time": "2021-10-08T11:49:21.291Z"
   },
   {
    "duration": 5,
    "start_time": "2021-10-08T11:49:21.325Z"
   },
   {
    "duration": 36,
    "start_time": "2021-10-08T11:49:21.333Z"
   },
   {
    "duration": 467,
    "start_time": "2021-10-08T11:49:21.372Z"
   },
   {
    "duration": 117,
    "start_time": "2021-10-08T11:49:21.842Z"
   },
   {
    "duration": 95,
    "start_time": "2021-10-08T11:49:21.963Z"
   },
   {
    "duration": 19,
    "start_time": "2021-10-08T11:49:22.061Z"
   },
   {
    "duration": 6,
    "start_time": "2021-10-08T11:49:22.157Z"
   },
   {
    "duration": 17,
    "start_time": "2021-10-08T11:49:22.256Z"
   },
   {
    "duration": 595,
    "start_time": "2021-10-08T11:49:22.277Z"
   },
   {
    "duration": 504,
    "start_time": "2021-10-08T11:49:22.875Z"
   },
   {
    "duration": -152,
    "start_time": "2021-10-08T11:49:23.534Z"
   },
   {
    "duration": 11,
    "start_time": "2021-10-08T12:08:16.303Z"
   },
   {
    "duration": 323,
    "start_time": "2021-10-08T12:08:34.275Z"
   },
   {
    "duration": 329,
    "start_time": "2021-10-08T12:08:48.233Z"
   },
   {
    "duration": 319,
    "start_time": "2021-10-08T12:09:03.256Z"
   },
   {
    "duration": 115,
    "start_time": "2021-10-08T12:11:57.100Z"
   },
   {
    "duration": 332,
    "start_time": "2021-10-08T12:12:01.899Z"
   },
   {
    "duration": 281,
    "start_time": "2021-10-08T12:12:09.611Z"
   },
   {
    "duration": 116,
    "start_time": "2021-10-08T12:12:31.773Z"
   },
   {
    "duration": 285,
    "start_time": "2021-10-08T12:12:37.698Z"
   },
   {
    "duration": 31,
    "start_time": "2021-10-08T12:13:03.074Z"
   },
   {
    "duration": 376,
    "start_time": "2021-10-08T12:13:10.600Z"
   }
  ],
  "kernelspec": {
   "display_name": "Python 3 (ipykernel)",
   "language": "python",
   "name": "python3"
  },
  "language_info": {
   "codemirror_mode": {
    "name": "ipython",
    "version": 3
   },
   "file_extension": ".py",
   "mimetype": "text/x-python",
   "name": "python",
   "nbconvert_exporter": "python",
   "pygments_lexer": "ipython3",
   "version": "3.10.3"
  },
  "toc": {
   "base_numbering": 1,
   "nav_menu": {},
   "number_sections": true,
   "sideBar": true,
   "skip_h1_title": true,
   "title_cell": "Содержание",
   "title_sidebar": "Contents",
   "toc_cell": true,
   "toc_position": {},
   "toc_section_display": true,
   "toc_window_display": true
  }
 },
 "nbformat": 4,
 "nbformat_minor": 2
}
