{
 "cells": [
  {
   "cell_type": "markdown",
   "id": "corresponding-armstrong",
   "metadata": {
    "ExecuteTime": {
     "end_time": "2022-05-05T04:58:05.692448Z",
     "start_time": "2022-05-05T04:58:05.688565Z"
    }
   },
   "source": [
    "# Прогнозирование температуры звезды"
   ]
  },
  {
   "cell_type": "markdown",
   "id": "cc778191",
   "metadata": {},
   "source": [
    "Вам пришла задача от обсерватории «Небо на ладони»: придумать, как с помощью нейросети определять температуру на поверхности обнаруженных звёзд. Обычно для расчёта температуры учёные пользуются следующими методами:\n",
    "- Закон смещения Вина.\n",
    "- Закон Стефана-Больцмана.\n",
    "- Спектральный анализ.\n",
    "\n",
    "Каждый из них имеет плюсы и минусы. Обсерватория хочет внедрить технологии машинного обучения для предсказания температуры звёзд, надеясь, что этот метод будет наиболее точным и удобным.\n",
    "\n",
    "В базе обсерватории есть характеристики уже изученных 240 звёзд"
   ]
  },
  {
   "cell_type": "markdown",
   "id": "47e4142d",
   "metadata": {},
   "source": [
    "**Характеристики**:\n",
    "- Относительная светимость L/Lo — светимость звезды относительно Солнца.\n",
    "- Относительный радиус R/Ro — радиус звезды относительно радиуса Солнца.\n",
    "- Абсолютная звёздная величина Mv — физическая величина, характеризующая блеск звезды.\n",
    "- Звёздный цвет (white, red, blue, yellow, yellow-orange и др.) — цвет звезды, который определяют на основе спектрального анализа.\n",
    "- Тип звезды.\n",
    "- Абсолютная температура T(K) — температура на поверхности звезды в Кельвинах\n"
   ]
  },
  {
   "cell_type": "code",
   "execution_count": 1,
   "id": "c4ef0c05",
   "metadata": {},
   "outputs": [
    {
     "name": "stdout",
     "output_type": "stream",
     "text": [
      "Looking in links: https://download.pytorch.org/whl/torch_stable.html\n",
      "Requirement already satisfied: torch==1.10.0+cpu in /home/jovyan/.local/lib/python3.9/site-packages (1.10.0+cpu)\n",
      "Requirement already satisfied: torchvision==0.11.0+cpu in /home/jovyan/.local/lib/python3.9/site-packages (0.11.0+cpu)\n",
      "Requirement already satisfied: torchaudio==0.10.0 in /home/jovyan/.local/lib/python3.9/site-packages (0.10.0+rocm4.1)\n",
      "Requirement already satisfied: typing-extensions in /opt/conda/lib/python3.9/site-packages (from torch==1.10.0+cpu) (4.2.0)\n",
      "Requirement already satisfied: numpy in /opt/conda/lib/python3.9/site-packages (from torchvision==0.11.0+cpu) (1.21.1)\n",
      "Requirement already satisfied: pillow!=8.3.0,>=5.3.0 in /opt/conda/lib/python3.9/site-packages (from torchvision==0.11.0+cpu) (8.4.0)\n"
     ]
    }
   ],
   "source": [
    " !pip install torch==1.10.0+cpu torchvision==0.11.0+cpu torchaudio==0.10.0 -f https://download.pytorch.org/whl/torch_stable.html --user"
   ]
  },
  {
   "cell_type": "markdown",
   "id": "26b83bb6",
   "metadata": {},
   "source": [
    "## Загрузка данных"
   ]
  },
  {
   "cell_type": "code",
   "execution_count": 2,
   "id": "2744029e",
   "metadata": {},
   "outputs": [],
   "source": [
    "import random\n",
    "import numpy as np\n",
    "import pandas as pd\n",
    "import torch\n",
    "import torch.nn as nn\n",
    "import torchvision\n",
    "import torchvision.transforms as transforms\n",
    "from math import ceil\n",
    "import matplotlib.pyplot as plt\n",
    "from math import sqrt\n",
    "from sklearn.metrics import mean_squared_error\n",
    "import seaborn as sns\n",
    "from scipy.optimize import minimize\n",
    "import itertools\n",
    "from torch.optim import Adam\n",
    "\n",
    "\n",
    "from sklearn.utils import shuffle\n",
    "\n",
    "%matplotlib inline\n",
    "\n",
    "from sklearn.model_selection import train_test_split\n",
    "from sklearn.preprocessing import StandardScaler, OneHotEncoder"
   ]
  },
  {
   "cell_type": "code",
   "execution_count": 3,
   "id": "7a8b4f35",
   "metadata": {},
   "outputs": [],
   "source": [
    "np.random.seed(5)"
   ]
  },
  {
   "cell_type": "code",
   "execution_count": 5,
   "id": "d61ca1e2",
   "metadata": {},
   "outputs": [
    {
     "data": {
      "text/html": [
       "<div>\n",
       "<style scoped>\n",
       "    .dataframe tbody tr th:only-of-type {\n",
       "        vertical-align: middle;\n",
       "    }\n",
       "\n",
       "    .dataframe tbody tr th {\n",
       "        vertical-align: top;\n",
       "    }\n",
       "\n",
       "    .dataframe thead th {\n",
       "        text-align: right;\n",
       "    }\n",
       "</style>\n",
       "<table border=\"1\" class=\"dataframe\">\n",
       "  <thead>\n",
       "    <tr style=\"text-align: right;\">\n",
       "      <th></th>\n",
       "      <th>Unnamed: 0</th>\n",
       "      <th>Temperature (K)</th>\n",
       "      <th>Luminosity(L/Lo)</th>\n",
       "      <th>Radius(R/Ro)</th>\n",
       "      <th>Absolute magnitude(Mv)</th>\n",
       "      <th>Star type</th>\n",
       "      <th>Star color</th>\n",
       "    </tr>\n",
       "  </thead>\n",
       "  <tbody>\n",
       "    <tr>\n",
       "      <th>0</th>\n",
       "      <td>0</td>\n",
       "      <td>3068</td>\n",
       "      <td>0.002400</td>\n",
       "      <td>0.1700</td>\n",
       "      <td>16.12</td>\n",
       "      <td>0</td>\n",
       "      <td>Red</td>\n",
       "    </tr>\n",
       "    <tr>\n",
       "      <th>1</th>\n",
       "      <td>1</td>\n",
       "      <td>3042</td>\n",
       "      <td>0.000500</td>\n",
       "      <td>0.1542</td>\n",
       "      <td>16.60</td>\n",
       "      <td>0</td>\n",
       "      <td>Red</td>\n",
       "    </tr>\n",
       "    <tr>\n",
       "      <th>2</th>\n",
       "      <td>2</td>\n",
       "      <td>2600</td>\n",
       "      <td>0.000300</td>\n",
       "      <td>0.1020</td>\n",
       "      <td>18.70</td>\n",
       "      <td>0</td>\n",
       "      <td>Red</td>\n",
       "    </tr>\n",
       "    <tr>\n",
       "      <th>3</th>\n",
       "      <td>3</td>\n",
       "      <td>2800</td>\n",
       "      <td>0.000200</td>\n",
       "      <td>0.1600</td>\n",
       "      <td>16.65</td>\n",
       "      <td>0</td>\n",
       "      <td>Red</td>\n",
       "    </tr>\n",
       "    <tr>\n",
       "      <th>4</th>\n",
       "      <td>4</td>\n",
       "      <td>1939</td>\n",
       "      <td>0.000138</td>\n",
       "      <td>0.1030</td>\n",
       "      <td>20.06</td>\n",
       "      <td>0</td>\n",
       "      <td>Red</td>\n",
       "    </tr>\n",
       "    <tr>\n",
       "      <th>5</th>\n",
       "      <td>5</td>\n",
       "      <td>2840</td>\n",
       "      <td>0.000650</td>\n",
       "      <td>0.1100</td>\n",
       "      <td>16.98</td>\n",
       "      <td>0</td>\n",
       "      <td>Red</td>\n",
       "    </tr>\n",
       "    <tr>\n",
       "      <th>6</th>\n",
       "      <td>6</td>\n",
       "      <td>2637</td>\n",
       "      <td>0.000730</td>\n",
       "      <td>0.1270</td>\n",
       "      <td>17.22</td>\n",
       "      <td>0</td>\n",
       "      <td>Red</td>\n",
       "    </tr>\n",
       "    <tr>\n",
       "      <th>7</th>\n",
       "      <td>7</td>\n",
       "      <td>2600</td>\n",
       "      <td>0.000400</td>\n",
       "      <td>0.0960</td>\n",
       "      <td>17.40</td>\n",
       "      <td>0</td>\n",
       "      <td>Red</td>\n",
       "    </tr>\n",
       "    <tr>\n",
       "      <th>8</th>\n",
       "      <td>8</td>\n",
       "      <td>2650</td>\n",
       "      <td>0.000690</td>\n",
       "      <td>0.1100</td>\n",
       "      <td>17.45</td>\n",
       "      <td>0</td>\n",
       "      <td>Red</td>\n",
       "    </tr>\n",
       "    <tr>\n",
       "      <th>9</th>\n",
       "      <td>9</td>\n",
       "      <td>2700</td>\n",
       "      <td>0.000180</td>\n",
       "      <td>0.1300</td>\n",
       "      <td>16.05</td>\n",
       "      <td>0</td>\n",
       "      <td>Red</td>\n",
       "    </tr>\n",
       "  </tbody>\n",
       "</table>\n",
       "</div>"
      ],
      "text/plain": [
       "   Unnamed: 0  Temperature (K)  Luminosity(L/Lo)  Radius(R/Ro)  \\\n",
       "0           0             3068          0.002400        0.1700   \n",
       "1           1             3042          0.000500        0.1542   \n",
       "2           2             2600          0.000300        0.1020   \n",
       "3           3             2800          0.000200        0.1600   \n",
       "4           4             1939          0.000138        0.1030   \n",
       "5           5             2840          0.000650        0.1100   \n",
       "6           6             2637          0.000730        0.1270   \n",
       "7           7             2600          0.000400        0.0960   \n",
       "8           8             2650          0.000690        0.1100   \n",
       "9           9             2700          0.000180        0.1300   \n",
       "\n",
       "   Absolute magnitude(Mv)  Star type Star color  \n",
       "0                   16.12          0        Red  \n",
       "1                   16.60          0        Red  \n",
       "2                   18.70          0        Red  \n",
       "3                   16.65          0        Red  \n",
       "4                   20.06          0        Red  \n",
       "5                   16.98          0        Red  \n",
       "6                   17.22          0        Red  \n",
       "7                   17.40          0        Red  \n",
       "8                   17.45          0        Red  \n",
       "9                   16.05          0        Red  "
      ]
     },
     "execution_count": 5,
     "metadata": {},
     "output_type": "execute_result"
    }
   ],
   "source": [
    "df.head(10)"
   ]
  },
  {
   "cell_type": "markdown",
   "id": "da730707",
   "metadata": {},
   "source": [
    "столбцы unnamed и Star type не несут никакой ценности для модели, удалим их:"
   ]
  },
  {
   "cell_type": "code",
   "execution_count": 6,
   "id": "2c8e8584",
   "metadata": {},
   "outputs": [],
   "source": [
    "df = df.drop(['Unnamed: 0'],axis=1)"
   ]
  },
  {
   "cell_type": "code",
   "execution_count": 7,
   "id": "d1195f01",
   "metadata": {},
   "outputs": [
    {
     "data": {
      "text/html": [
       "<div>\n",
       "<style scoped>\n",
       "    .dataframe tbody tr th:only-of-type {\n",
       "        vertical-align: middle;\n",
       "    }\n",
       "\n",
       "    .dataframe tbody tr th {\n",
       "        vertical-align: top;\n",
       "    }\n",
       "\n",
       "    .dataframe thead th {\n",
       "        text-align: right;\n",
       "    }\n",
       "</style>\n",
       "<table border=\"1\" class=\"dataframe\">\n",
       "  <thead>\n",
       "    <tr style=\"text-align: right;\">\n",
       "      <th></th>\n",
       "      <th>Temperature (K)</th>\n",
       "      <th>Luminosity(L/Lo)</th>\n",
       "      <th>Radius(R/Ro)</th>\n",
       "      <th>Absolute magnitude(Mv)</th>\n",
       "      <th>Star type</th>\n",
       "      <th>Star color</th>\n",
       "    </tr>\n",
       "  </thead>\n",
       "  <tbody>\n",
       "    <tr>\n",
       "      <th>0</th>\n",
       "      <td>3068</td>\n",
       "      <td>0.002400</td>\n",
       "      <td>0.1700</td>\n",
       "      <td>16.12</td>\n",
       "      <td>0</td>\n",
       "      <td>Red</td>\n",
       "    </tr>\n",
       "    <tr>\n",
       "      <th>1</th>\n",
       "      <td>3042</td>\n",
       "      <td>0.000500</td>\n",
       "      <td>0.1542</td>\n",
       "      <td>16.60</td>\n",
       "      <td>0</td>\n",
       "      <td>Red</td>\n",
       "    </tr>\n",
       "    <tr>\n",
       "      <th>2</th>\n",
       "      <td>2600</td>\n",
       "      <td>0.000300</td>\n",
       "      <td>0.1020</td>\n",
       "      <td>18.70</td>\n",
       "      <td>0</td>\n",
       "      <td>Red</td>\n",
       "    </tr>\n",
       "    <tr>\n",
       "      <th>3</th>\n",
       "      <td>2800</td>\n",
       "      <td>0.000200</td>\n",
       "      <td>0.1600</td>\n",
       "      <td>16.65</td>\n",
       "      <td>0</td>\n",
       "      <td>Red</td>\n",
       "    </tr>\n",
       "    <tr>\n",
       "      <th>4</th>\n",
       "      <td>1939</td>\n",
       "      <td>0.000138</td>\n",
       "      <td>0.1030</td>\n",
       "      <td>20.06</td>\n",
       "      <td>0</td>\n",
       "      <td>Red</td>\n",
       "    </tr>\n",
       "    <tr>\n",
       "      <th>5</th>\n",
       "      <td>2840</td>\n",
       "      <td>0.000650</td>\n",
       "      <td>0.1100</td>\n",
       "      <td>16.98</td>\n",
       "      <td>0</td>\n",
       "      <td>Red</td>\n",
       "    </tr>\n",
       "    <tr>\n",
       "      <th>6</th>\n",
       "      <td>2637</td>\n",
       "      <td>0.000730</td>\n",
       "      <td>0.1270</td>\n",
       "      <td>17.22</td>\n",
       "      <td>0</td>\n",
       "      <td>Red</td>\n",
       "    </tr>\n",
       "    <tr>\n",
       "      <th>7</th>\n",
       "      <td>2600</td>\n",
       "      <td>0.000400</td>\n",
       "      <td>0.0960</td>\n",
       "      <td>17.40</td>\n",
       "      <td>0</td>\n",
       "      <td>Red</td>\n",
       "    </tr>\n",
       "    <tr>\n",
       "      <th>8</th>\n",
       "      <td>2650</td>\n",
       "      <td>0.000690</td>\n",
       "      <td>0.1100</td>\n",
       "      <td>17.45</td>\n",
       "      <td>0</td>\n",
       "      <td>Red</td>\n",
       "    </tr>\n",
       "    <tr>\n",
       "      <th>9</th>\n",
       "      <td>2700</td>\n",
       "      <td>0.000180</td>\n",
       "      <td>0.1300</td>\n",
       "      <td>16.05</td>\n",
       "      <td>0</td>\n",
       "      <td>Red</td>\n",
       "    </tr>\n",
       "  </tbody>\n",
       "</table>\n",
       "</div>"
      ],
      "text/plain": [
       "   Temperature (K)  Luminosity(L/Lo)  Radius(R/Ro)  Absolute magnitude(Mv)  \\\n",
       "0             3068          0.002400        0.1700                   16.12   \n",
       "1             3042          0.000500        0.1542                   16.60   \n",
       "2             2600          0.000300        0.1020                   18.70   \n",
       "3             2800          0.000200        0.1600                   16.65   \n",
       "4             1939          0.000138        0.1030                   20.06   \n",
       "5             2840          0.000650        0.1100                   16.98   \n",
       "6             2637          0.000730        0.1270                   17.22   \n",
       "7             2600          0.000400        0.0960                   17.40   \n",
       "8             2650          0.000690        0.1100                   17.45   \n",
       "9             2700          0.000180        0.1300                   16.05   \n",
       "\n",
       "   Star type Star color  \n",
       "0          0        Red  \n",
       "1          0        Red  \n",
       "2          0        Red  \n",
       "3          0        Red  \n",
       "4          0        Red  \n",
       "5          0        Red  \n",
       "6          0        Red  \n",
       "7          0        Red  \n",
       "8          0        Red  \n",
       "9          0        Red  "
      ]
     },
     "execution_count": 7,
     "metadata": {},
     "output_type": "execute_result"
    }
   ],
   "source": [
    "df.head(10)"
   ]
  },
  {
   "cell_type": "code",
   "execution_count": 8,
   "id": "d29bd022",
   "metadata": {},
   "outputs": [
    {
     "name": "stdout",
     "output_type": "stream",
     "text": [
      "<class 'pandas.core.frame.DataFrame'>\n",
      "RangeIndex: 240 entries, 0 to 239\n",
      "Data columns (total 6 columns):\n",
      " #   Column                  Non-Null Count  Dtype  \n",
      "---  ------                  --------------  -----  \n",
      " 0   Temperature (K)         240 non-null    int64  \n",
      " 1   Luminosity(L/Lo)        240 non-null    float64\n",
      " 2   Radius(R/Ro)            240 non-null    float64\n",
      " 3   Absolute magnitude(Mv)  240 non-null    float64\n",
      " 4   Star type               240 non-null    int64  \n",
      " 5   Star color              240 non-null    object \n",
      "dtypes: float64(3), int64(2), object(1)\n",
      "memory usage: 11.4+ KB\n"
     ]
    }
   ],
   "source": [
    "df.info()"
   ]
  },
  {
   "cell_type": "markdown",
   "id": "simple-subdivision",
   "metadata": {},
   "source": [
    "## Предобработка и анализ данных"
   ]
  },
  {
   "cell_type": "code",
   "execution_count": 9,
   "id": "flush-dream",
   "metadata": {},
   "outputs": [
    {
     "data": {
      "text/html": [
       "<div>\n",
       "<style scoped>\n",
       "    .dataframe tbody tr th:only-of-type {\n",
       "        vertical-align: middle;\n",
       "    }\n",
       "\n",
       "    .dataframe tbody tr th {\n",
       "        vertical-align: top;\n",
       "    }\n",
       "\n",
       "    .dataframe thead th {\n",
       "        text-align: right;\n",
       "    }\n",
       "</style>\n",
       "<table border=\"1\" class=\"dataframe\">\n",
       "  <thead>\n",
       "    <tr style=\"text-align: right;\">\n",
       "      <th></th>\n",
       "      <th>Temperature (K)</th>\n",
       "      <th>Luminosity(L/Lo)</th>\n",
       "      <th>Radius(R/Ro)</th>\n",
       "      <th>Absolute magnitude(Mv)</th>\n",
       "      <th>Star type</th>\n",
       "    </tr>\n",
       "  </thead>\n",
       "  <tbody>\n",
       "    <tr>\n",
       "      <th>count</th>\n",
       "      <td>240.000000</td>\n",
       "      <td>240.000000</td>\n",
       "      <td>240.000000</td>\n",
       "      <td>240.000000</td>\n",
       "      <td>240.000000</td>\n",
       "    </tr>\n",
       "    <tr>\n",
       "      <th>mean</th>\n",
       "      <td>10497.462500</td>\n",
       "      <td>107188.361635</td>\n",
       "      <td>237.157781</td>\n",
       "      <td>4.382396</td>\n",
       "      <td>2.500000</td>\n",
       "    </tr>\n",
       "    <tr>\n",
       "      <th>std</th>\n",
       "      <td>9552.425037</td>\n",
       "      <td>179432.244940</td>\n",
       "      <td>517.155763</td>\n",
       "      <td>10.532512</td>\n",
       "      <td>1.711394</td>\n",
       "    </tr>\n",
       "    <tr>\n",
       "      <th>min</th>\n",
       "      <td>1939.000000</td>\n",
       "      <td>0.000080</td>\n",
       "      <td>0.008400</td>\n",
       "      <td>-11.920000</td>\n",
       "      <td>0.000000</td>\n",
       "    </tr>\n",
       "    <tr>\n",
       "      <th>25%</th>\n",
       "      <td>3344.250000</td>\n",
       "      <td>0.000865</td>\n",
       "      <td>0.102750</td>\n",
       "      <td>-6.232500</td>\n",
       "      <td>1.000000</td>\n",
       "    </tr>\n",
       "    <tr>\n",
       "      <th>50%</th>\n",
       "      <td>5776.000000</td>\n",
       "      <td>0.070500</td>\n",
       "      <td>0.762500</td>\n",
       "      <td>8.313000</td>\n",
       "      <td>2.500000</td>\n",
       "    </tr>\n",
       "    <tr>\n",
       "      <th>75%</th>\n",
       "      <td>15055.500000</td>\n",
       "      <td>198050.000000</td>\n",
       "      <td>42.750000</td>\n",
       "      <td>13.697500</td>\n",
       "      <td>4.000000</td>\n",
       "    </tr>\n",
       "    <tr>\n",
       "      <th>max</th>\n",
       "      <td>40000.000000</td>\n",
       "      <td>849420.000000</td>\n",
       "      <td>1948.500000</td>\n",
       "      <td>20.060000</td>\n",
       "      <td>5.000000</td>\n",
       "    </tr>\n",
       "  </tbody>\n",
       "</table>\n",
       "</div>"
      ],
      "text/plain": [
       "       Temperature (K)  Luminosity(L/Lo)  Radius(R/Ro)  \\\n",
       "count       240.000000        240.000000    240.000000   \n",
       "mean      10497.462500     107188.361635    237.157781   \n",
       "std        9552.425037     179432.244940    517.155763   \n",
       "min        1939.000000          0.000080      0.008400   \n",
       "25%        3344.250000          0.000865      0.102750   \n",
       "50%        5776.000000          0.070500      0.762500   \n",
       "75%       15055.500000     198050.000000     42.750000   \n",
       "max       40000.000000     849420.000000   1948.500000   \n",
       "\n",
       "       Absolute magnitude(Mv)   Star type  \n",
       "count              240.000000  240.000000  \n",
       "mean                 4.382396    2.500000  \n",
       "std                 10.532512    1.711394  \n",
       "min                -11.920000    0.000000  \n",
       "25%                 -6.232500    1.000000  \n",
       "50%                  8.313000    2.500000  \n",
       "75%                 13.697500    4.000000  \n",
       "max                 20.060000    5.000000  "
      ]
     },
     "execution_count": 9,
     "metadata": {},
     "output_type": "execute_result"
    }
   ],
   "source": [
    "df.describe()"
   ]
  },
  {
   "cell_type": "markdown",
   "id": "46b21117",
   "metadata": {},
   "source": [
    "Посмотрим на распределение:"
   ]
  },
  {
   "cell_type": "code",
   "execution_count": 10,
   "id": "ddd5c37d",
   "metadata": {},
   "outputs": [
    {
     "data": {
      "image/png": "[encoded data removed]",
      "text/plain": [
       "<Figure size 576x360 with 1 Axes>"
      ]
     },
     "metadata": {
      "needs_background": "light"
     },
     "output_type": "display_data"
    }
   ],
   "source": [
    "df['Temperature (K)'].hist(bins=100,ec='black', figsize=(8,5))\n",
    "plt.show()"
   ]
  },
  {
   "cell_type": "code",
   "execution_count": 11,
   "id": "da80041e",
   "metadata": {},
   "outputs": [
    {
     "data": {
      "image/png": "[encoded data removed]",
      "text/plain": [
       "<Figure size 576x360 with 1 Axes>"
      ]
     },
     "metadata": {
      "needs_background": "light"
     },
     "output_type": "display_data"
    }
   ],
   "source": [
    "df['Luminosity(L/Lo)'].hist(bins=100,ec='black', figsize=(8,5))\n",
    "plt.show()"
   ]
  },
  {
   "cell_type": "code",
   "execution_count": 12,
   "id": "86246a4d",
   "metadata": {},
   "outputs": [
    {
     "data": {
      "image/png": "[encoded data removed]",
      "text/plain": [
       "<Figure size 576x360 with 1 Axes>"
      ]
     },
     "metadata": {
      "needs_background": "light"
     },
     "output_type": "display_data"
    }
   ],
   "source": [
    "df['Radius(R/Ro)'].hist(bins=100,ec='black', figsize=(8,5))\n",
    "plt.show()"
   ]
  },
  {
   "cell_type": "code",
   "execution_count": 13,
   "id": "62578669",
   "metadata": {},
   "outputs": [
    {
     "data": {
      "image/png": "[encoded data removed]",
      "text/plain": [
       "<Figure size 576x360 with 1 Axes>"
      ]
     },
     "metadata": {
      "needs_background": "light"
     },
     "output_type": "display_data"
    }
   ],
   "source": [
    "df['Absolute magnitude(Mv)'].hist(bins=100,ec='black', figsize=(8,5))\n",
    "plt.show()"
   ]
  },
  {
   "cell_type": "markdown",
   "id": "83def9c9",
   "metadata": {},
   "source": [
    "Кажется, что никаких аномалий на графиках нет. \n",
    "Посмотриим пропуски:"
   ]
  },
  {
   "cell_type": "code",
   "execution_count": 14,
   "id": "3ec46405",
   "metadata": {},
   "outputs": [
    {
     "data": {
      "text/plain": [
       "Temperature (K)           0.0\n",
       "Luminosity(L/Lo)          0.0\n",
       "Radius(R/Ro)              0.0\n",
       "Absolute magnitude(Mv)    0.0\n",
       "Star type                 0.0\n",
       "Star color                0.0\n",
       "dtype: float64"
      ]
     },
     "execution_count": 14,
     "metadata": {},
     "output_type": "execute_result"
    }
   ],
   "source": [
    "df.isna().mean()"
   ]
  },
  {
   "cell_type": "markdown",
   "id": "fa0eb9fc",
   "metadata": {},
   "source": [
    "пропусков нет"
   ]
  },
  {
   "cell_type": "code",
   "execution_count": 15,
   "id": "c0cad303",
   "metadata": {},
   "outputs": [
    {
     "data": {
      "text/plain": [
       "Red                   112\n",
       "Blue                   55\n",
       "Blue-white             26\n",
       "Blue White             10\n",
       "yellow-white            8\n",
       "White                   7\n",
       "white                   3\n",
       "Yellowish White         3\n",
       "Blue white              3\n",
       "Orange                  2\n",
       "yellowish               2\n",
       "Whitish                 2\n",
       "Blue-White              1\n",
       "Blue white              1\n",
       "Orange-Red              1\n",
       "Pale yellow orange      1\n",
       "Blue                    1\n",
       "Yellowish               1\n",
       "White-Yellow            1\n",
       "Name: Star color, dtype: int64"
      ]
     },
     "execution_count": 15,
     "metadata": {},
     "output_type": "execute_result"
    }
   ],
   "source": [
    "df['Star color'].value_counts()"
   ]
  },
  {
   "cell_type": "markdown",
   "id": "4417df0b",
   "metadata": {},
   "source": [
    "есть косяки с названиеями категорий. исправим их:"
   ]
  },
  {
   "cell_type": "code",
   "execution_count": 16,
   "id": "b1a81623",
   "metadata": {},
   "outputs": [],
   "source": [
    "df['Star color'] = df['Star color'].replace({'Blue White': 'Blue-white', 'Blue white':'Blue-white',\n",
    "                                             'Blue white ':'Blue-white','Blue-White':'Blue-white',\n",
    "                                             'Blue ':'Blue', 'white':'White', 'yellowish':'Yellowish',\n",
    "                                             'yellow-white':'Yellow-white','White-Yellow':'Yellow-white',\n",
    "                                             'Yellowish White':'Yellow-white','Pale yellow orange':'Pale-yellow-orange',\n",
    "                                            'Whitish':'White'})"
   ]
  },
  {
   "cell_type": "code",
   "execution_count": 17,
   "id": "9b8976ad",
   "metadata": {},
   "outputs": [
    {
     "data": {
      "text/plain": [
       "Red                   112\n",
       "Blue                   56\n",
       "Blue-white             41\n",
       "White                  12\n",
       "Yellow-white           12\n",
       "Yellowish               3\n",
       "Orange                  2\n",
       "Orange-Red              1\n",
       "Pale-yellow-orange      1\n",
       "Name: Star color, dtype: int64"
      ]
     },
     "execution_count": 17,
     "metadata": {},
     "output_type": "execute_result"
    }
   ],
   "source": [
    "df['Star color'].value_counts()"
   ]
  },
  {
   "cell_type": "raw",
   "id": "b60ac9c8",
   "metadata": {},
   "source": [
    "scaler = StandardScaler()\n",
    "scaler.fit(feat_train[feat_numeric])\n",
    "feat_train[feat_numeric] = scaler.transform(feat_train[feat_numeric])\n",
    "feat_valid[feat_numeric] = scaler.transform(feat_valid[feat_numeric])"
   ]
  },
  {
   "cell_type": "markdown",
   "id": "funded-electric",
   "metadata": {},
   "source": [
    "## Построение базовой нейронной сети"
   ]
  },
  {
   "cell_type": "code",
   "execution_count": 18,
   "id": "999a2650",
   "metadata": {},
   "outputs": [
    {
     "data": {
      "text/plain": [
       "Index(['Temperature (K)', 'Luminosity(L/Lo)', 'Radius(R/Ro)',\n",
       "       'Absolute magnitude(Mv)', 'Star type', 'Star color'],\n",
       "      dtype='object')"
      ]
     },
     "execution_count": 18,
     "metadata": {},
     "output_type": "execute_result"
    }
   ],
   "source": [
    "df.columns"
   ]
  },
  {
   "cell_type": "code",
   "execution_count": 19,
   "id": "1014d0a1",
   "metadata": {},
   "outputs": [],
   "source": [
    "cat = df[['Star color','Star type']]\n",
    "num = df[['Luminosity(L/Lo)','Radius(R/Ro)','Absolute magnitude(Mv)']]"
   ]
  },
  {
   "cell_type": "code",
   "execution_count": 20,
   "id": "788647e7",
   "metadata": {},
   "outputs": [
    {
     "data": {
      "text/plain": [
       "Index(['Star color', 'Star type'], dtype='object')"
      ]
     },
     "execution_count": 20,
     "metadata": {},
     "output_type": "execute_result"
    }
   ],
   "source": [
    "cat.columns"
   ]
  },
  {
   "cell_type": "markdown",
   "id": "0824f19b",
   "metadata": {},
   "source": [
    "Произведем преобразование категориальных данных:"
   ]
  },
  {
   "cell_type": "code",
   "execution_count": 21,
   "id": "0a4801b5",
   "metadata": {},
   "outputs": [],
   "source": [
    "ohe = OneHotEncoder(handle_unknown='ignore',sparse=False)  # для преобразования категориальных данных"
   ]
  },
  {
   "cell_type": "code",
   "execution_count": 22,
   "id": "94fc8c3c",
   "metadata": {},
   "outputs": [
    {
     "name": "stderr",
     "output_type": "stream",
     "text": [
      "/opt/conda/lib/python3.9/site-packages/sklearn/utils/deprecation.py:87: FutureWarning: Function get_feature_names is deprecated; get_feature_names is deprecated in 1.0 and will be removed in 1.2. Please use get_feature_names_out instead.\n",
      "  warnings.warn(msg, category=FutureWarning)\n"
     ]
    },
    {
     "data": {
      "text/html": [
       "<div>\n",
       "<style scoped>\n",
       "    .dataframe tbody tr th:only-of-type {\n",
       "        vertical-align: middle;\n",
       "    }\n",
       "\n",
       "    .dataframe tbody tr th {\n",
       "        vertical-align: top;\n",
       "    }\n",
       "\n",
       "    .dataframe thead th {\n",
       "        text-align: right;\n",
       "    }\n",
       "</style>\n",
       "<table border=\"1\" class=\"dataframe\">\n",
       "  <thead>\n",
       "    <tr style=\"text-align: right;\">\n",
       "      <th></th>\n",
       "      <th>Star color_Blue</th>\n",
       "      <th>Star color_Blue-white</th>\n",
       "      <th>Star color_Orange</th>\n",
       "      <th>Star color_Orange-Red</th>\n",
       "      <th>Star color_Pale-yellow-orange</th>\n",
       "      <th>Star color_Red</th>\n",
       "      <th>Star color_White</th>\n",
       "      <th>Star color_Yellow-white</th>\n",
       "      <th>Star color_Yellowish</th>\n",
       "      <th>Star type_0</th>\n",
       "      <th>Star type_1</th>\n",
       "      <th>Star type_2</th>\n",
       "      <th>Star type_3</th>\n",
       "      <th>Star type_4</th>\n",
       "      <th>Star type_5</th>\n",
       "    </tr>\n",
       "  </thead>\n",
       "  <tbody>\n",
       "    <tr>\n",
       "      <th>0</th>\n",
       "      <td>0.0</td>\n",
       "      <td>0.0</td>\n",
       "      <td>0.0</td>\n",
       "      <td>0.0</td>\n",
       "      <td>0.0</td>\n",
       "      <td>1.0</td>\n",
       "      <td>0.0</td>\n",
       "      <td>0.0</td>\n",
       "      <td>0.0</td>\n",
       "      <td>1.0</td>\n",
       "      <td>0.0</td>\n",
       "      <td>0.0</td>\n",
       "      <td>0.0</td>\n",
       "      <td>0.0</td>\n",
       "      <td>0.0</td>\n",
       "    </tr>\n",
       "    <tr>\n",
       "      <th>1</th>\n",
       "      <td>0.0</td>\n",
       "      <td>0.0</td>\n",
       "      <td>0.0</td>\n",
       "      <td>0.0</td>\n",
       "      <td>0.0</td>\n",
       "      <td>1.0</td>\n",
       "      <td>0.0</td>\n",
       "      <td>0.0</td>\n",
       "      <td>0.0</td>\n",
       "      <td>1.0</td>\n",
       "      <td>0.0</td>\n",
       "      <td>0.0</td>\n",
       "      <td>0.0</td>\n",
       "      <td>0.0</td>\n",
       "      <td>0.0</td>\n",
       "    </tr>\n",
       "    <tr>\n",
       "      <th>2</th>\n",
       "      <td>0.0</td>\n",
       "      <td>0.0</td>\n",
       "      <td>0.0</td>\n",
       "      <td>0.0</td>\n",
       "      <td>0.0</td>\n",
       "      <td>1.0</td>\n",
       "      <td>0.0</td>\n",
       "      <td>0.0</td>\n",
       "      <td>0.0</td>\n",
       "      <td>1.0</td>\n",
       "      <td>0.0</td>\n",
       "      <td>0.0</td>\n",
       "      <td>0.0</td>\n",
       "      <td>0.0</td>\n",
       "      <td>0.0</td>\n",
       "    </tr>\n",
       "    <tr>\n",
       "      <th>3</th>\n",
       "      <td>0.0</td>\n",
       "      <td>0.0</td>\n",
       "      <td>0.0</td>\n",
       "      <td>0.0</td>\n",
       "      <td>0.0</td>\n",
       "      <td>1.0</td>\n",
       "      <td>0.0</td>\n",
       "      <td>0.0</td>\n",
       "      <td>0.0</td>\n",
       "      <td>1.0</td>\n",
       "      <td>0.0</td>\n",
       "      <td>0.0</td>\n",
       "      <td>0.0</td>\n",
       "      <td>0.0</td>\n",
       "      <td>0.0</td>\n",
       "    </tr>\n",
       "    <tr>\n",
       "      <th>4</th>\n",
       "      <td>0.0</td>\n",
       "      <td>0.0</td>\n",
       "      <td>0.0</td>\n",
       "      <td>0.0</td>\n",
       "      <td>0.0</td>\n",
       "      <td>1.0</td>\n",
       "      <td>0.0</td>\n",
       "      <td>0.0</td>\n",
       "      <td>0.0</td>\n",
       "      <td>1.0</td>\n",
       "      <td>0.0</td>\n",
       "      <td>0.0</td>\n",
       "      <td>0.0</td>\n",
       "      <td>0.0</td>\n",
       "      <td>0.0</td>\n",
       "    </tr>\n",
       "  </tbody>\n",
       "</table>\n",
       "</div>"
      ],
      "text/plain": [
       "   Star color_Blue  Star color_Blue-white  Star color_Orange  \\\n",
       "0              0.0                    0.0                0.0   \n",
       "1              0.0                    0.0                0.0   \n",
       "2              0.0                    0.0                0.0   \n",
       "3              0.0                    0.0                0.0   \n",
       "4              0.0                    0.0                0.0   \n",
       "\n",
       "   Star color_Orange-Red  Star color_Pale-yellow-orange  Star color_Red  \\\n",
       "0                    0.0                            0.0             1.0   \n",
       "1                    0.0                            0.0             1.0   \n",
       "2                    0.0                            0.0             1.0   \n",
       "3                    0.0                            0.0             1.0   \n",
       "4                    0.0                            0.0             1.0   \n",
       "\n",
       "   Star color_White  Star color_Yellow-white  Star color_Yellowish  \\\n",
       "0               0.0                      0.0                   0.0   \n",
       "1               0.0                      0.0                   0.0   \n",
       "2               0.0                      0.0                   0.0   \n",
       "3               0.0                      0.0                   0.0   \n",
       "4               0.0                      0.0                   0.0   \n",
       "\n",
       "   Star type_0  Star type_1  Star type_2  Star type_3  Star type_4  \\\n",
       "0          1.0          0.0          0.0          0.0          0.0   \n",
       "1          1.0          0.0          0.0          0.0          0.0   \n",
       "2          1.0          0.0          0.0          0.0          0.0   \n",
       "3          1.0          0.0          0.0          0.0          0.0   \n",
       "4          1.0          0.0          0.0          0.0          0.0   \n",
       "\n",
       "   Star type_5  \n",
       "0          0.0  \n",
       "1          0.0  \n",
       "2          0.0  \n",
       "3          0.0  \n",
       "4          0.0  "
      ]
     },
     "execution_count": 22,
     "metadata": {},
     "output_type": "execute_result"
    }
   ],
   "source": [
    "feature_arr = ohe.fit_transform(cat[cat.columns])\n",
    "feature_labels = ohe.get_feature_names(cat.columns)\n",
    "ohe_2 = pd.DataFrame(feature_arr, columns=feature_labels)\n",
    "\n",
    "ohe_2.head()"
   ]
  },
  {
   "cell_type": "code",
   "execution_count": 23,
   "id": "efb65de4",
   "metadata": {},
   "outputs": [
    {
     "data": {
      "text/html": [
       "<div>\n",
       "<style scoped>\n",
       "    .dataframe tbody tr th:only-of-type {\n",
       "        vertical-align: middle;\n",
       "    }\n",
       "\n",
       "    .dataframe tbody tr th {\n",
       "        vertical-align: top;\n",
       "    }\n",
       "\n",
       "    .dataframe thead th {\n",
       "        text-align: right;\n",
       "    }\n",
       "</style>\n",
       "<table border=\"1\" class=\"dataframe\">\n",
       "  <thead>\n",
       "    <tr style=\"text-align: right;\">\n",
       "      <th></th>\n",
       "      <th>Temperature (K)</th>\n",
       "      <th>Luminosity(L/Lo)</th>\n",
       "      <th>Radius(R/Ro)</th>\n",
       "      <th>Absolute magnitude(Mv)</th>\n",
       "      <th>Star type</th>\n",
       "      <th>Star color</th>\n",
       "      <th>Star color_Blue</th>\n",
       "      <th>Star color_Blue-white</th>\n",
       "      <th>Star color_Orange</th>\n",
       "      <th>Star color_Orange-Red</th>\n",
       "      <th>...</th>\n",
       "      <th>Star color_Red</th>\n",
       "      <th>Star color_White</th>\n",
       "      <th>Star color_Yellow-white</th>\n",
       "      <th>Star color_Yellowish</th>\n",
       "      <th>Star type_0</th>\n",
       "      <th>Star type_1</th>\n",
       "      <th>Star type_2</th>\n",
       "      <th>Star type_3</th>\n",
       "      <th>Star type_4</th>\n",
       "      <th>Star type_5</th>\n",
       "    </tr>\n",
       "  </thead>\n",
       "  <tbody>\n",
       "    <tr>\n",
       "      <th>0</th>\n",
       "      <td>3068</td>\n",
       "      <td>0.002400</td>\n",
       "      <td>0.1700</td>\n",
       "      <td>16.12</td>\n",
       "      <td>0</td>\n",
       "      <td>Red</td>\n",
       "      <td>0.0</td>\n",
       "      <td>0.0</td>\n",
       "      <td>0.0</td>\n",
       "      <td>0.0</td>\n",
       "      <td>...</td>\n",
       "      <td>1.0</td>\n",
       "      <td>0.0</td>\n",
       "      <td>0.0</td>\n",
       "      <td>0.0</td>\n",
       "      <td>1.0</td>\n",
       "      <td>0.0</td>\n",
       "      <td>0.0</td>\n",
       "      <td>0.0</td>\n",
       "      <td>0.0</td>\n",
       "      <td>0.0</td>\n",
       "    </tr>\n",
       "    <tr>\n",
       "      <th>1</th>\n",
       "      <td>3042</td>\n",
       "      <td>0.000500</td>\n",
       "      <td>0.1542</td>\n",
       "      <td>16.60</td>\n",
       "      <td>0</td>\n",
       "      <td>Red</td>\n",
       "      <td>0.0</td>\n",
       "      <td>0.0</td>\n",
       "      <td>0.0</td>\n",
       "      <td>0.0</td>\n",
       "      <td>...</td>\n",
       "      <td>1.0</td>\n",
       "      <td>0.0</td>\n",
       "      <td>0.0</td>\n",
       "      <td>0.0</td>\n",
       "      <td>1.0</td>\n",
       "      <td>0.0</td>\n",
       "      <td>0.0</td>\n",
       "      <td>0.0</td>\n",
       "      <td>0.0</td>\n",
       "      <td>0.0</td>\n",
       "    </tr>\n",
       "    <tr>\n",
       "      <th>2</th>\n",
       "      <td>2600</td>\n",
       "      <td>0.000300</td>\n",
       "      <td>0.1020</td>\n",
       "      <td>18.70</td>\n",
       "      <td>0</td>\n",
       "      <td>Red</td>\n",
       "      <td>0.0</td>\n",
       "      <td>0.0</td>\n",
       "      <td>0.0</td>\n",
       "      <td>0.0</td>\n",
       "      <td>...</td>\n",
       "      <td>1.0</td>\n",
       "      <td>0.0</td>\n",
       "      <td>0.0</td>\n",
       "      <td>0.0</td>\n",
       "      <td>1.0</td>\n",
       "      <td>0.0</td>\n",
       "      <td>0.0</td>\n",
       "      <td>0.0</td>\n",
       "      <td>0.0</td>\n",
       "      <td>0.0</td>\n",
       "    </tr>\n",
       "    <tr>\n",
       "      <th>3</th>\n",
       "      <td>2800</td>\n",
       "      <td>0.000200</td>\n",
       "      <td>0.1600</td>\n",
       "      <td>16.65</td>\n",
       "      <td>0</td>\n",
       "      <td>Red</td>\n",
       "      <td>0.0</td>\n",
       "      <td>0.0</td>\n",
       "      <td>0.0</td>\n",
       "      <td>0.0</td>\n",
       "      <td>...</td>\n",
       "      <td>1.0</td>\n",
       "      <td>0.0</td>\n",
       "      <td>0.0</td>\n",
       "      <td>0.0</td>\n",
       "      <td>1.0</td>\n",
       "      <td>0.0</td>\n",
       "      <td>0.0</td>\n",
       "      <td>0.0</td>\n",
       "      <td>0.0</td>\n",
       "      <td>0.0</td>\n",
       "    </tr>\n",
       "    <tr>\n",
       "      <th>4</th>\n",
       "      <td>1939</td>\n",
       "      <td>0.000138</td>\n",
       "      <td>0.1030</td>\n",
       "      <td>20.06</td>\n",
       "      <td>0</td>\n",
       "      <td>Red</td>\n",
       "      <td>0.0</td>\n",
       "      <td>0.0</td>\n",
       "      <td>0.0</td>\n",
       "      <td>0.0</td>\n",
       "      <td>...</td>\n",
       "      <td>1.0</td>\n",
       "      <td>0.0</td>\n",
       "      <td>0.0</td>\n",
       "      <td>0.0</td>\n",
       "      <td>1.0</td>\n",
       "      <td>0.0</td>\n",
       "      <td>0.0</td>\n",
       "      <td>0.0</td>\n",
       "      <td>0.0</td>\n",
       "      <td>0.0</td>\n",
       "    </tr>\n",
       "  </tbody>\n",
       "</table>\n",
       "<p>5 rows × 21 columns</p>\n",
       "</div>"
      ],
      "text/plain": [
       "   Temperature (K)  Luminosity(L/Lo)  Radius(R/Ro)  Absolute magnitude(Mv)  \\\n",
       "0             3068          0.002400        0.1700                   16.12   \n",
       "1             3042          0.000500        0.1542                   16.60   \n",
       "2             2600          0.000300        0.1020                   18.70   \n",
       "3             2800          0.000200        0.1600                   16.65   \n",
       "4             1939          0.000138        0.1030                   20.06   \n",
       "\n",
       "   Star type Star color  Star color_Blue  Star color_Blue-white  \\\n",
       "0          0        Red              0.0                    0.0   \n",
       "1          0        Red              0.0                    0.0   \n",
       "2          0        Red              0.0                    0.0   \n",
       "3          0        Red              0.0                    0.0   \n",
       "4          0        Red              0.0                    0.0   \n",
       "\n",
       "   Star color_Orange  Star color_Orange-Red  ...  Star color_Red  \\\n",
       "0                0.0                    0.0  ...             1.0   \n",
       "1                0.0                    0.0  ...             1.0   \n",
       "2                0.0                    0.0  ...             1.0   \n",
       "3                0.0                    0.0  ...             1.0   \n",
       "4                0.0                    0.0  ...             1.0   \n",
       "\n",
       "   Star color_White  Star color_Yellow-white  Star color_Yellowish  \\\n",
       "0               0.0                      0.0                   0.0   \n",
       "1               0.0                      0.0                   0.0   \n",
       "2               0.0                      0.0                   0.0   \n",
       "3               0.0                      0.0                   0.0   \n",
       "4               0.0                      0.0                   0.0   \n",
       "\n",
       "   Star type_0  Star type_1  Star type_2  Star type_3  Star type_4  \\\n",
       "0          1.0          0.0          0.0          0.0          0.0   \n",
       "1          1.0          0.0          0.0          0.0          0.0   \n",
       "2          1.0          0.0          0.0          0.0          0.0   \n",
       "3          1.0          0.0          0.0          0.0          0.0   \n",
       "4          1.0          0.0          0.0          0.0          0.0   \n",
       "\n",
       "   Star type_5  \n",
       "0          0.0  \n",
       "1          0.0  \n",
       "2          0.0  \n",
       "3          0.0  \n",
       "4          0.0  \n",
       "\n",
       "[5 rows x 21 columns]"
      ]
     },
     "execution_count": 23,
     "metadata": {},
     "output_type": "execute_result"
    }
   ],
   "source": [
    "data = df.merge(ohe_2, left_index=True, right_index=True)\n",
    "data.head()"
   ]
  },
  {
   "cell_type": "code",
   "execution_count": 24,
   "id": "63b63169",
   "metadata": {},
   "outputs": [],
   "source": [
    "x= data.drop(['Temperature (K)','Star color'], axis=1)\n",
    "y = df['Temperature (K)']\n",
    "X_train, X_test, y_train, y_test = train_test_split(x, y, test_size=0.4, shuffle=True, random_state=42)"
   ]
  },
  {
   "cell_type": "code",
   "execution_count": 25,
   "id": "6055dd6d",
   "metadata": {},
   "outputs": [],
   "source": [
    "scaler = StandardScaler()\n",
    "ohe = OneHotEncoder(handle_unknown='ignore',sparse=False)"
   ]
  },
  {
   "cell_type": "code",
   "execution_count": 26,
   "id": "ea9ac2fe",
   "metadata": {},
   "outputs": [],
   "source": [
    "num_cols = x.columns[x.dtypes.apply(lambda c: np.issubdtype(c, np.number))]"
   ]
  },
  {
   "cell_type": "code",
   "execution_count": 27,
   "id": "e4a98e4b",
   "metadata": {},
   "outputs": [],
   "source": [
    "pd.options.mode.chained_assignment = None"
   ]
  },
  {
   "cell_type": "markdown",
   "id": "27771de0",
   "metadata": {},
   "source": [
    "Произведем преобразование числовых данных:"
   ]
  },
  {
   "cell_type": "code",
   "execution_count": 28,
   "id": "65e11b3b",
   "metadata": {},
   "outputs": [
    {
     "data": {
      "text/plain": [
       "Index(['Luminosity(L/Lo)', 'Radius(R/Ro)', 'Absolute magnitude(Mv)'], dtype='object')"
      ]
     },
     "execution_count": 28,
     "metadata": {},
     "output_type": "execute_result"
    }
   ],
   "source": [
    "num.columns"
   ]
  },
  {
   "cell_type": "code",
   "execution_count": 29,
   "id": "0847890f",
   "metadata": {},
   "outputs": [],
   "source": [
    "scaler.fit(X_train[num.columns])\n",
    "X_train[num.columns] = scaler.transform(X_train[num.columns])\n",
    "X_test[num.columns] = scaler.transform(X_test[num.columns])"
   ]
  },
  {
   "cell_type": "code",
   "execution_count": 30,
   "id": "forced-concentrate",
   "metadata": {},
   "outputs": [],
   "source": [
    "X_train = torch.FloatTensor(X_train.values)\n",
    "X_test = torch.FloatTensor(X_test.values)\n",
    "y_train = torch.FloatTensor(y_train.values)\n",
    "y_test = torch.FloatTensor(y_test.values)"
   ]
  },
  {
   "cell_type": "code",
   "execution_count": 31,
   "id": "9733a9af",
   "metadata": {},
   "outputs": [
    {
     "name": "stdout",
     "output_type": "stream",
     "text": [
      "Кол-во строк и столбцов в X_train выборке: torch.Size([144, 19])\n",
      "Кол-во строк и столбцов в X_test выборке: torch.Size([96, 19])\n",
      "Кол-во строк и столбцов в y_train выборке: torch.Size([144])\n",
      "Кол-во строк и столбцов в y_test выборке: torch.Size([96])\n"
     ]
    }
   ],
   "source": [
    "print('Кол-во строк и столбцов в X_train выборке:', X_train.shape)\n",
    "print('Кол-во строк и столбцов в X_test выборке:', X_test.shape)\n",
    "print('Кол-во строк и столбцов в y_train выборке:', y_train.shape)\n",
    "print('Кол-во строк и столбцов в y_test выборке:', y_test.shape)"
   ]
  },
  {
   "cell_type": "code",
   "execution_count": 32,
   "id": "e9527e36",
   "metadata": {},
   "outputs": [],
   "source": [
    "torch.use_deterministic_algorithms(True)"
   ]
  },
  {
   "cell_type": "code",
   "execution_count": 33,
   "id": "0539c81f",
   "metadata": {},
   "outputs": [],
   "source": [
    "n_in_neurons = 19\n",
    "n_hidden_neurons_1 = 7\n",
    "n_hidden_neurons_2 = 12\n",
    "n_out_neurons = 1"
   ]
  },
  {
   "cell_type": "code",
   "execution_count": 34,
   "id": "ba4da8e9",
   "metadata": {},
   "outputs": [],
   "source": [
    "class Model(nn.Module):\n",
    "    def __init__(self, n_in_neurons, n_hidden_neurons_1, n_hidden_neurons_2, n_out_neurons):\n",
    "        super(Model, self).__init__()\n",
    "        \n",
    "        self.fc1 = nn.Linear(n_in_neurons, n_hidden_neurons_1)\n",
    "        self.act1 = nn.ReLU()\n",
    "        self.fc2 = nn.Linear(n_hidden_neurons_1, n_hidden_neurons_2)\n",
    "        self.act2 = nn.ReLU()\n",
    "        self.fc3 = nn.Linear(n_hidden_neurons_2, n_out_neurons)\n",
    "        self.act3 = nn.ReLU()\n",
    "\n",
    "    def forward(self, x):\n",
    "        x = self.fc1(x)\n",
    "        x = self.act1(x)\n",
    "        x = self.fc2(x)\n",
    "        x = self.act1(x)\n",
    "        x = self.fc3(x)\n",
    "        x = self.act3(x)\n",
    "        \n",
    "        return x"
   ]
  },
  {
   "cell_type": "code",
   "execution_count": 35,
   "id": "73d92484",
   "metadata": {},
   "outputs": [],
   "source": [
    "net = Model(n_in_neurons, n_hidden_neurons_1, n_hidden_neurons_2, n_out_neurons)\n",
    "loss = nn.MSELoss()\n",
    "optimizer = torch.optim.Adam(net.parameters(), lr=4)\n",
    "num_epochs = 1000\n",
    "batch_size = 20\n",
    "num_batches = ceil(len(X_train)/batch_size)"
   ]
  },
  {
   "cell_type": "code",
   "execution_count": 36,
   "id": "b14ed3fe",
   "metadata": {},
   "outputs": [
    {
     "name": "stderr",
     "output_type": "stream",
     "text": [
      "/home/jovyan/.local/lib/python3.9/site-packages/torch/nn/modules/loss.py:520: UserWarning: Using a target size (torch.Size([20, 1])) that is different to the input size (torch.Size([96])). This will likely lead to incorrect results due to broadcasting. Please ensure they have the same size.\n",
      "  return F.mse_loss(input, target, reduction=self.reduction)\n"
     ]
    },
    {
     "name": "stdout",
     "output_type": "stream",
     "text": [
      "RMSE Метрика tensor(14447.3418, grad_fn=<SqrtBackward0>)\n"
     ]
    },
    {
     "name": "stderr",
     "output_type": "stream",
     "text": [
      "/home/jovyan/.local/lib/python3.9/site-packages/torch/nn/modules/loss.py:520: UserWarning: Using a target size (torch.Size([4, 1])) that is different to the input size (torch.Size([96])). This will likely lead to incorrect results due to broadcasting. Please ensure they have the same size.\n",
      "  return F.mse_loss(input, target, reduction=self.reduction)\n"
     ]
    },
    {
     "name": "stdout",
     "output_type": "stream",
     "text": [
      "RMSE Метрика tensor(14447.3418, grad_fn=<SqrtBackward0>)\n",
      "RMSE Метрика tensor(14447.3418, grad_fn=<SqrtBackward0>)\n",
      "RMSE Метрика tensor(14447.3418, grad_fn=<SqrtBackward0>)\n",
      "RMSE Метрика tensor(14447.3418, grad_fn=<SqrtBackward0>)\n",
      "RMSE Метрика tensor(14447.3418, grad_fn=<SqrtBackward0>)\n",
      "RMSE Метрика tensor(14447.3418, grad_fn=<SqrtBackward0>)\n",
      "RMSE Метрика tensor(14447.3418, grad_fn=<SqrtBackward0>)\n",
      "RMSE Метрика tensor(14447.3418, grad_fn=<SqrtBackward0>)\n",
      "RMSE Метрика tensor(14447.3418, grad_fn=<SqrtBackward0>)\n"
     ]
    }
   ],
   "source": [
    "for epoch in range(num_epochs):\n",
    "    order = np.random.permutation(len(X_train))\n",
    "    for batch_idx in range(num_batches):\n",
    "        start_index = batch_idx * batch_size\n",
    "        optimizer.zero_grad()\n",
    "        \n",
    "        batch_indexes = order[start_index:start_index+batch_size]\n",
    "        X_batch = X_train[batch_indexes]\n",
    "        y_batch = y_train[batch_indexes]\n",
    "        preds = net.forward(X_batch)\n",
    "        loss_value = torch.sqrt(loss(y_test, preds))\n",
    "        loss_value.backward()\n",
    "                \n",
    "        optimizer.step()\n",
    "\n",
    "    \n",
    "    if epoch % 100 == 0:\n",
    "        net.eval()\n",
    "        test_preds = net.forward(X_test)\n",
    "        RMSE_loss = torch.sqrt(loss(y_test, preds))\n",
    "        print('RMSE Метрика',RMSE_loss)"
   ]
  },
  {
   "cell_type": "markdown",
   "id": "94e6cd83",
   "metadata": {},
   "source": [
    "Построим график Факт-Прогноз:"
   ]
  },
  {
   "cell_type": "code",
   "execution_count": 37,
   "id": "67647a67",
   "metadata": {},
   "outputs": [],
   "source": [
    "def graph_predict(x,y):\n",
    "        \n",
    "    pred = np.asarray(list(itertools.chain.from_iterable(x.data.numpy())))\n",
    "    \n",
    "    barWidth1 = 1\n",
    "    barWidth2 = 0.5\n",
    "    x_range = np.arange(len(y))\n",
    "    \n",
    "    plt.bar(x_range, y.data.numpy(), color='#aae6f2', width=barWidth1/2, edgecolor='#c3d5e8', label='Факт')\n",
    "    plt.bar(x_range, pred, color='#ffc001', width=barWidth2/2, edgecolor='#c3d5e8', label='Прогноз')\n",
    "    \n",
    "    plt.axhline(y=0, color='gray')\n",
    "    plt.legend(frameon=False, loc='lower center', bbox_to_anchor=(0.25, -0.3, 0.5, 0.5), prop={'size':25}, ncol = 2)\n",
    "    plt.ylabel(\"Температура звезды\", fontsize=28, weight='bold')\n",
    "    plt.xlabel(\"Номер звезды в таблице данных\", fontsize=28, weight='bold')\n",
    "    \n",
    "    plt.rcParams['figure.figsize'] = [25, 7]\n",
    "    \n",
    "    plt.rcParams.update({'font.size': 28})    \n",
    "    plt.box(False)\n",
    "    plt.savefig('plt', bbox_inches = \"tight\")\n",
    "    plt.show()"
   ]
  },
  {
   "cell_type": "code",
   "execution_count": 49,
   "id": "e733ed77",
   "metadata": {},
   "outputs": [
    {
     "data": {
      "image/png": "[encoded data removed]",
      "text/plain": [
       "<Figure size 1800x504 with 1 Axes>"
      ]
     },
     "metadata": {
      "needs_background": "light"
     },
     "output_type": "display_data"
    }
   ],
   "source": [
    "graph_predict(test_preds,y_test)"
   ]
  },
  {
   "cell_type": "markdown",
   "id": "98e34ce8",
   "metadata": {},
   "source": [
    "По условию метрика RMSE не должна превышать 4500, а у нас получилось 9819. Слишком много, сеть явно переучивается. Попробуем улучшить сеть"
   ]
  },
  {
   "cell_type": "markdown",
   "id": "c126e2a1",
   "metadata": {},
   "source": [
    "## Улучшение нейронной сети"
   ]
  },
  {
   "cell_type": "markdown",
   "id": "56f0552b",
   "metadata": {},
   "source": [
    "Улучшим нашу модель используя одновременно и нормализацию батчей, и дропаут:"
   ]
  },
  {
   "cell_type": "code",
   "execution_count": 39,
   "id": "770d3b37",
   "metadata": {},
   "outputs": [],
   "source": [
    "class Net(nn.Module):\n",
    "    def __init__(self, n_in_neurons, n_hidden_neurons_1, n_hidden_neurons_2, n_out_neurons):\n",
    "        super(Net, self).__init__()\n",
    "        \n",
    "        self.fc1 = nn.Linear(n_in_neurons, n_hidden_neurons_1)\n",
    "        self.dp1 = nn.Dropout(p=0.7)\n",
    "        self.act1 = nn.ReLU()\n",
    "        \n",
    "        self.fc2 = nn.Linear(n_hidden_neurons_1, n_hidden_neurons_2)\n",
    "        self.bn2 = nn.BatchNorm1d(n_hidden_neurons_2)\n",
    "        self.dp2 = nn.Dropout(p=0.2)\n",
    "\n",
    "        self.fc3 = nn.Linear(n_hidden_neurons_2, n_out_neurons)\n",
    "        self.act3 = nn.ReLU()\n",
    "\n",
    "    def forward(self, x):\n",
    "        x = self.fc1(x)\n",
    "        x = self.dp1(x)\n",
    "        x = self.act1(x)\n",
    "\n",
    "        x = self.fc2(x)\n",
    "        x = self.bn2(x)\n",
    "        x = self.dp2(x)\n",
    "\n",
    "        x = self.fc3(x)\n",
    "        x = self.act3(x)\n",
    "        \n",
    "        return x"
   ]
  },
  {
   "cell_type": "code",
   "execution_count": 40,
   "id": "62fde063",
   "metadata": {},
   "outputs": [],
   "source": [
    "n0 = df.shape[1]"
   ]
  },
  {
   "cell_type": "code",
   "execution_count": 41,
   "id": "7955b74d",
   "metadata": {},
   "outputs": [
    {
     "name": "stdout",
     "output_type": "stream",
     "text": [
      "1\n",
      "11\n",
      "21\n",
      "31\n",
      "41\n",
      "51\n"
     ]
    }
   ],
   "source": [
    "def neural_network(n0:int, n1:int, n2:int, nout:int, e:int, x_tr:'tentor', y_tr:'tentor', x_te:'tentor', y_te:'tentor')->'tuple':\n",
    "\n",
    "    n0 = x_tr.size()[1]\n",
    "    nout = 1\n",
    "    net = Net(n0,n1,n2,nout)\n",
    "    loss = nn.MSELoss()\n",
    "    optimizer = torch.optim.Adam(net.parameters(), lr=4)\n",
    "    num_epochs = e\n",
    "    \n",
    "    preds = net.forward(X_train).flatten()\n",
    "    RMSE_loss = torch.sqrt(loss(preds, y_train))\n",
    "    \n",
    "    best_RMSE = RMSE_loss\n",
    "    best_epoch = 0\n",
    "    best_model = 1\n",
    "    for epoch in range(num_epochs):\n",
    "        optimizer.zero_grad()\n",
    "        preds = net.forward(X_train).flatten()\n",
    "        RMSE_loss = torch.sqrt(loss(preds, y_train))\n",
    "        RMSE_loss.backward()\n",
    "        if best_RMSE > RMSE_loss:\n",
    "            best_RMSE = RMSE_loss\n",
    "            best_epoch = epoch\n",
    "            best_model = net\n",
    "        optimizer.step()\n",
    "    return (best_RMSE.tolist(), n1, n2, best_epoch, best_model)\n",
    "\n",
    "result_list = []\n",
    "n1_r = range(1,61, 10)\n",
    "n2_r = range(1,61, 10)\n",
    "e_r = range(1,1001, 100)\n",
    "\n",
    "for n1_i in n1_r:\n",
    "    for n2_i in n2_r:\n",
    "        for e_i in e_r:\n",
    "            a = neural_network(n0,n1_i,n2_i,1,e_i, X_train, y_train, X_test, y_test)\n",
    "            result_list.append(a)\n",
    "    print(n1_i)"
   ]
  },
  {
   "cell_type": "code",
   "execution_count": 42,
   "id": "5918f49b",
   "metadata": {},
   "outputs": [
    {
     "data": {
      "text/html": [
       "<div>\n",
       "<style scoped>\n",
       "    .dataframe tbody tr th:only-of-type {\n",
       "        vertical-align: middle;\n",
       "    }\n",
       "\n",
       "    .dataframe tbody tr th {\n",
       "        vertical-align: top;\n",
       "    }\n",
       "\n",
       "    .dataframe thead th {\n",
       "        text-align: right;\n",
       "    }\n",
       "</style>\n",
       "<table border=\"1\" class=\"dataframe\">\n",
       "  <thead>\n",
       "    <tr style=\"text-align: right;\">\n",
       "      <th></th>\n",
       "      <th>RMSE</th>\n",
       "      <th>n1</th>\n",
       "      <th>n2</th>\n",
       "      <th>epochs</th>\n",
       "      <th>best_model</th>\n",
       "    </tr>\n",
       "  </thead>\n",
       "  <tbody>\n",
       "    <tr>\n",
       "      <th>289</th>\n",
       "      <td>4162.907715</td>\n",
       "      <td>41</td>\n",
       "      <td>41</td>\n",
       "      <td>741</td>\n",
       "      <td>Net(\\n  (fc1): Linear(in_features=19, out_feat...</td>\n",
       "    </tr>\n",
       "    <tr>\n",
       "      <th>349</th>\n",
       "      <td>4171.095703</td>\n",
       "      <td>51</td>\n",
       "      <td>41</td>\n",
       "      <td>534</td>\n",
       "      <td>Net(\\n  (fc1): Linear(in_features=19, out_feat...</td>\n",
       "    </tr>\n",
       "    <tr>\n",
       "      <th>295</th>\n",
       "      <td>4177.213379</td>\n",
       "      <td>41</td>\n",
       "      <td>51</td>\n",
       "      <td>421</td>\n",
       "      <td>Net(\\n  (fc1): Linear(in_features=19, out_feat...</td>\n",
       "    </tr>\n",
       "    <tr>\n",
       "      <th>355</th>\n",
       "      <td>4178.160156</td>\n",
       "      <td>51</td>\n",
       "      <td>51</td>\n",
       "      <td>340</td>\n",
       "      <td>Net(\\n  (fc1): Linear(in_features=19, out_feat...</td>\n",
       "    </tr>\n",
       "    <tr>\n",
       "      <th>347</th>\n",
       "      <td>4180.365234</td>\n",
       "      <td>51</td>\n",
       "      <td>41</td>\n",
       "      <td>690</td>\n",
       "      <td>Net(\\n  (fc1): Linear(in_features=19, out_feat...</td>\n",
       "    </tr>\n",
       "  </tbody>\n",
       "</table>\n",
       "</div>"
      ],
      "text/plain": [
       "            RMSE  n1  n2  epochs  \\\n",
       "289  4162.907715  41  41     741   \n",
       "349  4171.095703  51  41     534   \n",
       "295  4177.213379  41  51     421   \n",
       "355  4178.160156  51  51     340   \n",
       "347  4180.365234  51  41     690   \n",
       "\n",
       "                                            best_model  \n",
       "289  Net(\\n  (fc1): Linear(in_features=19, out_feat...  \n",
       "349  Net(\\n  (fc1): Linear(in_features=19, out_feat...  \n",
       "295  Net(\\n  (fc1): Linear(in_features=19, out_feat...  \n",
       "355  Net(\\n  (fc1): Linear(in_features=19, out_feat...  \n",
       "347  Net(\\n  (fc1): Linear(in_features=19, out_feat...  "
      ]
     },
     "execution_count": 42,
     "metadata": {},
     "output_type": "execute_result"
    }
   ],
   "source": [
    "result_df = pd.DataFrame(result_list).loc[::,:4]\n",
    "result_df=result_df.rename(columns={0:'RMSE',1:'n1',2:'n2',3:'epochs',4:'best_model'})\n",
    "result_df.sort_values('RMSE').head()"
   ]
  },
  {
   "cell_type": "code",
   "execution_count": 43,
   "id": "51b2c106",
   "metadata": {},
   "outputs": [
    {
     "data": {
      "text/plain": [
       "Net(\n",
       "  (fc1): Linear(in_features=19, out_features=51, bias=True)\n",
       "  (dp1): Dropout(p=0.7, inplace=False)\n",
       "  (act1): ReLU()\n",
       "  (fc2): Linear(in_features=51, out_features=41, bias=True)\n",
       "  (bn2): BatchNorm1d(41, eps=1e-05, momentum=0.1, affine=True, track_running_stats=True)\n",
       "  (dp2): Dropout(p=0.2, inplace=False)\n",
       "  (fc3): Linear(in_features=41, out_features=1, bias=True)\n",
       "  (act3): ReLU()\n",
       ")"
      ]
     },
     "execution_count": 43,
     "metadata": {},
     "output_type": "execute_result"
    }
   ],
   "source": [
    "best_m = result_df.loc[349,'best_model']\n",
    "best_m"
   ]
  },
  {
   "cell_type": "code",
   "execution_count": 44,
   "id": "1d4cd7e6",
   "metadata": {},
   "outputs": [],
   "source": [
    "new_test_preds = best_m.forward(X_test)"
   ]
  },
  {
   "cell_type": "code",
   "execution_count": 45,
   "id": "e8daac51",
   "metadata": {},
   "outputs": [],
   "source": [
    "df_test_preds = pd.DataFrame(new_test_preds.detach().numpy())"
   ]
  },
  {
   "cell_type": "code",
   "execution_count": 46,
   "id": "31128870",
   "metadata": {},
   "outputs": [
    {
     "data": {
      "text/html": [
       "<div>\n",
       "<style scoped>\n",
       "    .dataframe tbody tr th:only-of-type {\n",
       "        vertical-align: middle;\n",
       "    }\n",
       "\n",
       "    .dataframe tbody tr th {\n",
       "        vertical-align: top;\n",
       "    }\n",
       "\n",
       "    .dataframe thead th {\n",
       "        text-align: right;\n",
       "    }\n",
       "</style>\n",
       "<table border=\"1\" class=\"dataframe\">\n",
       "  <thead>\n",
       "    <tr style=\"text-align: right;\">\n",
       "      <th></th>\n",
       "      <th>preds</th>\n",
       "    </tr>\n",
       "  </thead>\n",
       "  <tbody>\n",
       "    <tr>\n",
       "      <th>12</th>\n",
       "      <td>896.521118</td>\n",
       "    </tr>\n",
       "    <tr>\n",
       "      <th>39</th>\n",
       "      <td>2843.674316</td>\n",
       "    </tr>\n",
       "    <tr>\n",
       "      <th>80</th>\n",
       "      <td>2097.785400</td>\n",
       "    </tr>\n",
       "    <tr>\n",
       "      <th>87</th>\n",
       "      <td>4005.895752</td>\n",
       "    </tr>\n",
       "    <tr>\n",
       "      <th>93</th>\n",
       "      <td>398.848816</td>\n",
       "    </tr>\n",
       "  </tbody>\n",
       "</table>\n",
       "</div>"
      ],
      "text/plain": [
       "          preds\n",
       "12   896.521118\n",
       "39  2843.674316\n",
       "80  2097.785400\n",
       "87  4005.895752\n",
       "93   398.848816"
      ]
     },
     "execution_count": 46,
     "metadata": {},
     "output_type": "execute_result"
    }
   ],
   "source": [
    "df_test_preds=df_test_preds.rename(columns={0:'preds'})\n",
    "df_test_preds.query('0<preds<4500')"
   ]
  },
  {
   "cell_type": "markdown",
   "id": "07b6bd20",
   "metadata": {},
   "source": [
    "Удалось улучшить модель до показателей ниже 4500!"
   ]
  },
  {
   "cell_type": "markdown",
   "id": "1803238b",
   "metadata": {},
   "source": [
    "Строим график:"
   ]
  },
  {
   "cell_type": "code",
   "execution_count": 47,
   "id": "fbf3fd2f",
   "metadata": {},
   "outputs": [],
   "source": [
    "def graph_predict(x,y):\n",
    "        \n",
    "    test_pred = np.asarray(list(itertools.chain.from_iterable(x.data.numpy())))\n",
    "    \n",
    "    barWidth1 = 1\n",
    "    barWidth2 = 0.5\n",
    "    x_range = np.arange(len(y))\n",
    "    \n",
    "    plt.bar(x_range, y.data.numpy(), color='#aae6f2', width=barWidth1/2, edgecolor='#c3d5e8', label='Факт')\n",
    "    plt.bar(x_range, test_pred, color='#ffc001', width=barWidth2/2, edgecolor='#c3d5e8', label='Прогноз')\n",
    "    \n",
    "    plt.axhline(y=0, color='gray')\n",
    "    plt.legend(frameon=False, loc='lower center', bbox_to_anchor=(0.25, -0.3, 0.5, 0.5), prop={'size':25}, ncol = 2)\n",
    "    plt.ylabel(\"Температура звезды\", fontsize=28, weight='bold')\n",
    "    plt.xlabel(\"Номер звезды в таблице данных\", fontsize=28, weight='bold')\n",
    "    \n",
    "    plt.rcParams['figure.figsize'] = [25, 7]\n",
    "    \n",
    "    plt.rcParams.update({'font.size': 28})    \n",
    "    plt.box(False)\n",
    "    plt.savefig('plt', bbox_inches = \"tight\")\n",
    "    plt.show()"
   ]
  },
  {
   "cell_type": "code",
   "execution_count": 48,
   "id": "2aa3fdb7",
   "metadata": {},
   "outputs": [
    {
     "data": {
      "image/png": "[encoded data removed]",
      "text/plain": [
       "<Figure size 1800x504 with 1 Axes>"
      ]
     },
     "metadata": {
      "needs_background": "light"
     },
     "output_type": "display_data"
    }
   ],
   "source": [
    "graph_predict(new_test_preds,y_test)"
   ]
  },
  {
   "cell_type": "markdown",
   "id": "accurate-infrastructure",
   "metadata": {},
   "source": [
    "## Выводы"
   ]
  },
  {
   "cell_type": "markdown",
   "id": "1ab0679b",
   "metadata": {},
   "source": [
    "**Базовая модель**\n",
    "\n",
    "Базовая модель была построена с параметрами: \n",
    "- n_in_neurons = 19\n",
    "- n_hidden_neurons_1 = 51\n",
    "- n_hidden_neurons_2 = 41\n",
    "- n_out_neurons = 1\n",
    "- optimizer = torch.optim.Adam(model.parameters(), lr=4)\n",
    "- loss = nn.MSELoss()\n",
    "- batch_size = 20\n",
    "- num_epochs = 1000\n",
    "- accumulation_iteration = 100\n",
    "- num_batches = ceil(len(X_train)/batch_size)\n",
    "- выходная функция ReLU\n",
    "\n",
    "Данная модель оказалась неэффективна. Метрика RMSE получилась > 9 тыс, что нас не удовлетворяло, так как по условию нужно было получить метрику не выше 4500. \n",
    "\n",
    "**Улучшенная модель**\n",
    "- улучшенная модель строилась с использованием как батчей, так и метода droupout\n",
    "- использовался перебор параметров входных нейронов и эпох:\n",
    "  - n1_r = range(1,51, 10)\n",
    "  - n2_r = range(1, 51, 10)\n",
    "  - e_r = range(1,1001, 100)\n",
    "- наилучшая модель имела показатели:\n",
    "  - n1_r =19\n",
    "  - n2_r = 1\n",
    "  - n3_r = 21\n",
    "  - n_out = 1\n",
    "  - bias = True\n",
    "  - Dropout-1 p=0.7\n",
    "  - Dropout-2 p=0.2\n",
    "  - выходная функция ReLU\n",
    "  \n",
    "Данную модель можно считать эффективной. Метрика RMSE получилась < 4500\n",
    "\n",
    "Сравнивая два графика, можно явно увидеть как плохо обучалась базовая модель (как много делала ошибок) и насколько лучше стала предсказывать после улучшения! "
   ]
  }
 ],
 "metadata": {
  "ExecuteTimeLog": [
   {
    "duration": 2031,
    "start_time": "2022-06-01T17:39:03.147Z"
   },
   {
    "duration": 163,
    "start_time": "2022-06-01T17:39:52.336Z"
   },
   {
    "duration": 2098,
    "start_time": "2022-06-01T17:40:06.860Z"
   },
   {
    "duration": 11,
    "start_time": "2022-06-01T17:40:11.017Z"
   },
   {
    "duration": 2048,
    "start_time": "2022-06-01T17:41:06.125Z"
   },
   {
    "duration": 871,
    "start_time": "2022-06-01T17:41:08.175Z"
   },
   {
    "duration": 4,
    "start_time": "2022-06-01T17:41:09.047Z"
   },
   {
    "duration": 69,
    "start_time": "2022-06-01T17:42:18.959Z"
   },
   {
    "duration": 23104,
    "start_time": "2022-06-02T09:54:44.120Z"
   },
   {
    "duration": 1018,
    "start_time": "2022-06-02T09:55:07.226Z"
   },
   {
    "duration": 0,
    "start_time": "2022-06-02T09:55:08.246Z"
   },
   {
    "duration": 1070,
    "start_time": "2022-06-02T10:03:00.848Z"
   },
   {
    "duration": 63,
    "start_time": "2022-06-02T10:03:04.774Z"
   },
   {
    "duration": 18,
    "start_time": "2022-06-02T10:03:15.055Z"
   },
   {
    "duration": 13,
    "start_time": "2022-06-02T10:03:26.925Z"
   },
   {
    "duration": 27,
    "start_time": "2022-06-02T10:03:41.670Z"
   },
   {
    "duration": 27,
    "start_time": "2022-06-02T10:12:27.314Z"
   },
   {
    "duration": 8,
    "start_time": "2022-06-02T10:48:52.822Z"
   },
   {
    "duration": 44,
    "start_time": "2022-06-02T10:50:38.420Z"
   },
   {
    "duration": 115,
    "start_time": "2022-06-02T10:50:54.067Z"
   },
   {
    "duration": 4,
    "start_time": "2022-06-02T10:51:26.766Z"
   },
   {
    "duration": 13,
    "start_time": "2022-06-02T10:51:35.473Z"
   },
   {
    "duration": 16,
    "start_time": "2022-06-02T10:51:39.871Z"
   },
   {
    "duration": 23,
    "start_time": "2022-06-02T10:51:42.991Z"
   },
   {
    "duration": 11,
    "start_time": "2022-06-02T10:51:50.782Z"
   },
   {
    "duration": 15,
    "start_time": "2022-06-02T11:04:39.338Z"
   },
   {
    "duration": 1216,
    "start_time": "2022-06-02T11:04:55.686Z"
   },
   {
    "duration": 45,
    "start_time": "2022-06-02T11:05:00.095Z"
   },
   {
    "duration": 31,
    "start_time": "2022-06-02T11:05:55.069Z"
   },
   {
    "duration": 14,
    "start_time": "2022-06-02T11:06:00.725Z"
   },
   {
    "duration": 13,
    "start_time": "2022-06-02T11:06:24.286Z"
   },
   {
    "duration": 2956,
    "start_time": "2022-06-02T11:07:27.863Z"
   },
   {
    "duration": 3153,
    "start_time": "2022-06-02T11:07:30.822Z"
   },
   {
    "duration": 64,
    "start_time": "2022-06-02T11:07:33.977Z"
   },
   {
    "duration": 18,
    "start_time": "2022-06-02T11:07:34.042Z"
   },
   {
    "duration": 3,
    "start_time": "2022-06-02T11:07:34.062Z"
   },
   {
    "duration": 12,
    "start_time": "2022-06-02T11:07:34.067Z"
   },
   {
    "duration": 15,
    "start_time": "2022-06-02T11:07:34.080Z"
   },
   {
    "duration": 25,
    "start_time": "2022-06-02T11:07:34.097Z"
   },
   {
    "duration": 6,
    "start_time": "2022-06-02T11:07:34.124Z"
   },
   {
    "duration": 146,
    "start_time": "2022-06-02T11:07:34.132Z"
   },
   {
    "duration": 24,
    "start_time": "2022-06-02T11:07:48.543Z"
   },
   {
    "duration": 7,
    "start_time": "2022-06-02T11:07:50.365Z"
   },
   {
    "duration": 18,
    "start_time": "2022-06-02T11:08:01.275Z"
   },
   {
    "duration": 24,
    "start_time": "2022-06-02T11:08:14.066Z"
   },
   {
    "duration": 2069,
    "start_time": "2022-06-02T11:08:19.129Z"
   },
   {
    "duration": 1336,
    "start_time": "2022-06-02T11:08:21.200Z"
   },
   {
    "duration": 28,
    "start_time": "2022-06-02T11:08:22.540Z"
   },
   {
    "duration": 21,
    "start_time": "2022-06-02T11:08:22.569Z"
   },
   {
    "duration": 5,
    "start_time": "2022-06-02T11:08:22.593Z"
   },
   {
    "duration": 18,
    "start_time": "2022-06-02T11:08:22.601Z"
   },
   {
    "duration": 14,
    "start_time": "2022-06-02T11:08:22.620Z"
   },
   {
    "duration": 41,
    "start_time": "2022-06-02T11:08:22.636Z"
   },
   {
    "duration": 7,
    "start_time": "2022-06-02T11:08:22.678Z"
   },
   {
    "duration": 146,
    "start_time": "2022-06-02T11:08:22.687Z"
   },
   {
    "duration": 14,
    "start_time": "2022-06-02T11:12:46.796Z"
   },
   {
    "duration": 17,
    "start_time": "2022-06-02T11:12:52.529Z"
   },
   {
    "duration": 25,
    "start_time": "2022-06-02T11:13:10.032Z"
   },
   {
    "duration": 14,
    "start_time": "2022-06-02T11:14:05.693Z"
   },
   {
    "duration": 13,
    "start_time": "2022-06-02T11:24:04.773Z"
   },
   {
    "duration": 5,
    "start_time": "2022-06-02T11:24:26.475Z"
   },
   {
    "duration": 5,
    "start_time": "2022-06-02T11:24:30.508Z"
   },
   {
    "duration": 12,
    "start_time": "2022-06-02T11:24:32.804Z"
   },
   {
    "duration": 7,
    "start_time": "2022-06-02T11:24:49.183Z"
   },
   {
    "duration": 13,
    "start_time": "2022-06-02T11:24:50.841Z"
   },
   {
    "duration": 6,
    "start_time": "2022-06-02T11:25:01.575Z"
   },
   {
    "duration": 8,
    "start_time": "2022-06-02T11:25:33.581Z"
   },
   {
    "duration": 18,
    "start_time": "2022-06-02T11:25:42.435Z"
   },
   {
    "duration": 14,
    "start_time": "2022-06-02T11:27:28.275Z"
   },
   {
    "duration": 12,
    "start_time": "2022-06-02T11:29:58.977Z"
   },
   {
    "duration": 7,
    "start_time": "2022-06-02T11:30:05.127Z"
   },
   {
    "duration": 12,
    "start_time": "2022-06-02T11:30:14.105Z"
   },
   {
    "duration": 8,
    "start_time": "2022-06-02T11:31:27.775Z"
   },
   {
    "duration": 7,
    "start_time": "2022-06-02T11:31:33.734Z"
   },
   {
    "duration": 8,
    "start_time": "2022-06-02T11:32:30.404Z"
   },
   {
    "duration": 5,
    "start_time": "2022-06-02T11:39:54.335Z"
   },
   {
    "duration": 23012,
    "start_time": "2022-06-06T07:27:38.404Z"
   },
   {
    "duration": 2111,
    "start_time": "2022-06-06T07:28:20.092Z"
   },
   {
    "duration": 1469,
    "start_time": "2022-06-06T07:28:22.205Z"
   },
   {
    "duration": 63,
    "start_time": "2022-06-06T07:28:23.676Z"
   },
   {
    "duration": 18,
    "start_time": "2022-06-06T07:28:23.741Z"
   },
   {
    "duration": 4,
    "start_time": "2022-06-06T07:28:23.760Z"
   },
   {
    "duration": 14,
    "start_time": "2022-06-06T07:28:23.765Z"
   },
   {
    "duration": 12,
    "start_time": "2022-06-06T07:28:23.780Z"
   },
   {
    "duration": 32,
    "start_time": "2022-06-06T07:28:23.794Z"
   },
   {
    "duration": 6,
    "start_time": "2022-06-06T07:28:23.827Z"
   },
   {
    "duration": 7,
    "start_time": "2022-06-06T07:28:23.835Z"
   },
   {
    "duration": 7,
    "start_time": "2022-06-06T07:28:23.843Z"
   },
   {
    "duration": 11,
    "start_time": "2022-06-06T07:28:23.851Z"
   },
   {
    "duration": 157,
    "start_time": "2022-06-06T07:28:23.864Z"
   },
   {
    "duration": 0,
    "start_time": "2022-06-06T07:28:24.023Z"
   },
   {
    "duration": 0,
    "start_time": "2022-06-06T07:28:24.023Z"
   },
   {
    "duration": 7,
    "start_time": "2022-06-06T07:28:47.139Z"
   },
   {
    "duration": 14,
    "start_time": "2022-06-06T07:29:12.243Z"
   },
   {
    "duration": 9,
    "start_time": "2022-06-06T07:33:23.511Z"
   },
   {
    "duration": 12,
    "start_time": "2022-06-06T07:33:51.400Z"
   },
   {
    "duration": 9,
    "start_time": "2022-06-06T07:34:41.957Z"
   },
   {
    "duration": 19,
    "start_time": "2022-06-06T07:34:58.981Z"
   },
   {
    "duration": 31,
    "start_time": "2022-06-06T07:35:15.200Z"
   },
   {
    "duration": 6,
    "start_time": "2022-06-06T07:36:00.783Z"
   },
   {
    "duration": 9,
    "start_time": "2022-06-06T07:36:02.598Z"
   },
   {
    "duration": 7,
    "start_time": "2022-06-06T07:36:38.879Z"
   },
   {
    "duration": 17,
    "start_time": "2022-06-06T07:36:41.557Z"
   },
   {
    "duration": 11,
    "start_time": "2022-06-06T07:36:49.292Z"
   },
   {
    "duration": 10,
    "start_time": "2022-06-06T07:36:53.829Z"
   },
   {
    "duration": 8,
    "start_time": "2022-06-06T07:36:55.810Z"
   },
   {
    "duration": 6,
    "start_time": "2022-06-06T07:36:57.412Z"
   },
   {
    "duration": 32,
    "start_time": "2022-06-06T07:38:28.569Z"
   },
   {
    "duration": 19,
    "start_time": "2022-06-06T07:38:52.684Z"
   },
   {
    "duration": 15,
    "start_time": "2022-06-06T07:39:05.106Z"
   },
   {
    "duration": 11,
    "start_time": "2022-06-06T07:39:07.753Z"
   },
   {
    "duration": 11,
    "start_time": "2022-06-06T07:39:28.423Z"
   },
   {
    "duration": 13,
    "start_time": "2022-06-06T07:43:15.506Z"
   },
   {
    "duration": 5,
    "start_time": "2022-06-06T07:43:21.368Z"
   },
   {
    "duration": 12,
    "start_time": "2022-06-06T07:43:32.143Z"
   },
   {
    "duration": 4,
    "start_time": "2022-06-06T07:43:41.791Z"
   },
   {
    "duration": 6,
    "start_time": "2022-06-06T07:53:31.351Z"
   },
   {
    "duration": 7,
    "start_time": "2022-06-06T07:55:19.277Z"
   },
   {
    "duration": 7,
    "start_time": "2022-06-06T07:55:26.404Z"
   },
   {
    "duration": 5,
    "start_time": "2022-06-06T07:55:34.939Z"
   },
   {
    "duration": 8,
    "start_time": "2022-06-06T07:56:00.260Z"
   },
   {
    "duration": 24,
    "start_time": "2022-06-06T07:56:02.149Z"
   },
   {
    "duration": 7,
    "start_time": "2022-06-06T07:57:52.336Z"
   },
   {
    "duration": 24,
    "start_time": "2022-06-06T07:57:54.394Z"
   },
   {
    "duration": 20,
    "start_time": "2022-06-06T08:33:10.257Z"
   },
   {
    "duration": 77,
    "start_time": "2022-06-06T08:36:22.753Z"
   },
   {
    "duration": 18,
    "start_time": "2022-06-06T08:39:23.372Z"
   },
   {
    "duration": 16,
    "start_time": "2022-06-06T08:39:37.878Z"
   },
   {
    "duration": 122,
    "start_time": "2022-06-06T08:40:17.644Z"
   },
   {
    "duration": 6,
    "start_time": "2022-06-06T08:40:24.700Z"
   },
   {
    "duration": 8,
    "start_time": "2022-06-06T08:40:27.688Z"
   },
   {
    "duration": 48,
    "start_time": "2022-06-06T08:40:30.635Z"
   },
   {
    "duration": 16,
    "start_time": "2022-06-06T08:40:50.253Z"
   },
   {
    "duration": 14,
    "start_time": "2022-06-06T08:44:51.739Z"
   },
   {
    "duration": 17,
    "start_time": "2022-06-06T08:45:26.395Z"
   },
   {
    "duration": 2270,
    "start_time": "2022-06-06T08:45:38.414Z"
   },
   {
    "duration": 1553,
    "start_time": "2022-06-06T08:45:40.687Z"
   },
   {
    "duration": 34,
    "start_time": "2022-06-06T08:45:42.242Z"
   },
   {
    "duration": 28,
    "start_time": "2022-06-06T08:45:42.279Z"
   },
   {
    "duration": 5,
    "start_time": "2022-06-06T08:45:42.309Z"
   },
   {
    "duration": 22,
    "start_time": "2022-06-06T08:45:42.316Z"
   },
   {
    "duration": 18,
    "start_time": "2022-06-06T08:45:42.340Z"
   },
   {
    "duration": 30,
    "start_time": "2022-06-06T08:45:42.360Z"
   },
   {
    "duration": 8,
    "start_time": "2022-06-06T08:45:42.392Z"
   },
   {
    "duration": 23,
    "start_time": "2022-06-06T08:45:42.403Z"
   },
   {
    "duration": 9,
    "start_time": "2022-06-06T08:45:42.429Z"
   },
   {
    "duration": 174,
    "start_time": "2022-06-06T08:45:42.440Z"
   },
   {
    "duration": 0,
    "start_time": "2022-06-06T08:45:42.617Z"
   },
   {
    "duration": 0,
    "start_time": "2022-06-06T08:45:42.618Z"
   },
   {
    "duration": 0,
    "start_time": "2022-06-06T08:45:42.619Z"
   },
   {
    "duration": 0,
    "start_time": "2022-06-06T08:45:42.620Z"
   },
   {
    "duration": 17,
    "start_time": "2022-06-06T08:47:39.503Z"
   },
   {
    "duration": 8,
    "start_time": "2022-06-06T08:49:44.412Z"
   },
   {
    "duration": 26,
    "start_time": "2022-06-06T08:49:45.985Z"
   },
   {
    "duration": 29,
    "start_time": "2022-06-06T08:51:25.391Z"
   },
   {
    "duration": 6,
    "start_time": "2022-06-06T08:51:36.278Z"
   },
   {
    "duration": 18,
    "start_time": "2022-06-06T08:54:26.764Z"
   },
   {
    "duration": 15,
    "start_time": "2022-06-06T08:55:08.461Z"
   },
   {
    "duration": 15,
    "start_time": "2022-06-06T08:55:43.409Z"
   },
   {
    "duration": 12,
    "start_time": "2022-06-06T08:57:12.543Z"
   },
   {
    "duration": 16,
    "start_time": "2022-06-06T08:57:50.243Z"
   },
   {
    "duration": 5,
    "start_time": "2022-06-06T08:58:01.773Z"
   },
   {
    "duration": 5,
    "start_time": "2022-06-06T08:58:13.003Z"
   },
   {
    "duration": 15,
    "start_time": "2022-06-06T08:58:22.341Z"
   },
   {
    "duration": 28,
    "start_time": "2022-06-06T08:58:27.013Z"
   },
   {
    "duration": 19,
    "start_time": "2022-06-06T08:59:18.044Z"
   },
   {
    "duration": 15,
    "start_time": "2022-06-06T09:02:07.355Z"
   },
   {
    "duration": 15,
    "start_time": "2022-06-06T09:10:23.853Z"
   },
   {
    "duration": 17,
    "start_time": "2022-06-06T09:12:11.299Z"
   },
   {
    "duration": 9,
    "start_time": "2022-06-06T09:12:25.403Z"
   },
   {
    "duration": 2458,
    "start_time": "2022-06-06T09:13:04.293Z"
   },
   {
    "duration": 1426,
    "start_time": "2022-06-06T09:13:06.755Z"
   },
   {
    "duration": 29,
    "start_time": "2022-06-06T09:13:08.183Z"
   },
   {
    "duration": 27,
    "start_time": "2022-06-06T09:13:08.214Z"
   },
   {
    "duration": 13,
    "start_time": "2022-06-06T09:13:08.246Z"
   },
   {
    "duration": 12,
    "start_time": "2022-06-06T09:13:08.261Z"
   },
   {
    "duration": 12,
    "start_time": "2022-06-06T09:13:08.274Z"
   },
   {
    "duration": 23,
    "start_time": "2022-06-06T09:13:08.288Z"
   },
   {
    "duration": 21,
    "start_time": "2022-06-06T09:13:08.313Z"
   },
   {
    "duration": 32,
    "start_time": "2022-06-06T09:13:08.337Z"
   },
   {
    "duration": 5,
    "start_time": "2022-06-06T09:13:08.371Z"
   },
   {
    "duration": 20,
    "start_time": "2022-06-06T09:13:08.378Z"
   },
   {
    "duration": 18,
    "start_time": "2022-06-06T09:13:08.399Z"
   },
   {
    "duration": 11,
    "start_time": "2022-06-06T09:13:08.418Z"
   },
   {
    "duration": 28,
    "start_time": "2022-06-06T09:13:08.432Z"
   },
   {
    "duration": 13,
    "start_time": "2022-06-06T09:13:08.462Z"
   },
   {
    "duration": 5,
    "start_time": "2022-06-06T09:13:08.476Z"
   },
   {
    "duration": 10,
    "start_time": "2022-06-06T09:13:08.483Z"
   },
   {
    "duration": 50,
    "start_time": "2022-06-06T09:13:08.494Z"
   },
   {
    "duration": 159,
    "start_time": "2022-06-06T09:13:08.546Z"
   },
   {
    "duration": 3,
    "start_time": "2022-06-06T09:14:14.058Z"
   },
   {
    "duration": 8,
    "start_time": "2022-06-06T09:14:26.366Z"
   },
   {
    "duration": 4,
    "start_time": "2022-06-06T09:16:46.951Z"
   },
   {
    "duration": 10,
    "start_time": "2022-06-06T09:17:08.242Z"
   },
   {
    "duration": 4,
    "start_time": "2022-06-06T09:19:11.807Z"
   },
   {
    "duration": 4,
    "start_time": "2022-06-06T09:19:26.551Z"
   },
   {
    "duration": 3,
    "start_time": "2022-06-06T09:19:43.850Z"
   },
   {
    "duration": 77,
    "start_time": "2022-06-06T09:20:50.574Z"
   },
   {
    "duration": 26,
    "start_time": "2022-06-06T09:21:18.195Z"
   },
   {
    "duration": 2433,
    "start_time": "2022-06-06T09:22:23.381Z"
   },
   {
    "duration": 1534,
    "start_time": "2022-06-06T09:22:25.816Z"
   },
   {
    "duration": 29,
    "start_time": "2022-06-06T09:22:27.355Z"
   },
   {
    "duration": 17,
    "start_time": "2022-06-06T09:22:27.386Z"
   },
   {
    "duration": 4,
    "start_time": "2022-06-06T09:22:27.405Z"
   },
   {
    "duration": 13,
    "start_time": "2022-06-06T09:22:27.410Z"
   },
   {
    "duration": 34,
    "start_time": "2022-06-06T09:22:27.427Z"
   },
   {
    "duration": 27,
    "start_time": "2022-06-06T09:22:27.463Z"
   },
   {
    "duration": 7,
    "start_time": "2022-06-06T09:22:27.492Z"
   },
   {
    "duration": 10,
    "start_time": "2022-06-06T09:22:27.501Z"
   },
   {
    "duration": 18,
    "start_time": "2022-06-06T09:22:27.513Z"
   },
   {
    "duration": 51,
    "start_time": "2022-06-06T09:22:27.533Z"
   },
   {
    "duration": 14,
    "start_time": "2022-06-06T09:22:27.586Z"
   },
   {
    "duration": 13,
    "start_time": "2022-06-06T09:22:27.601Z"
   },
   {
    "duration": 39,
    "start_time": "2022-06-06T09:22:27.615Z"
   },
   {
    "duration": 12,
    "start_time": "2022-06-06T09:22:27.656Z"
   },
   {
    "duration": 6,
    "start_time": "2022-06-06T09:22:27.670Z"
   },
   {
    "duration": 6,
    "start_time": "2022-06-06T09:22:27.677Z"
   },
   {
    "duration": 42,
    "start_time": "2022-06-06T09:22:27.684Z"
   },
   {
    "duration": 16,
    "start_time": "2022-06-06T09:22:27.728Z"
   },
   {
    "duration": 14,
    "start_time": "2022-06-06T09:22:27.746Z"
   },
   {
    "duration": 13,
    "start_time": "2022-06-06T09:22:27.762Z"
   },
   {
    "duration": 5,
    "start_time": "2022-06-06T09:22:27.776Z"
   },
   {
    "duration": 177,
    "start_time": "2022-06-06T09:22:27.783Z"
   },
   {
    "duration": 24,
    "start_time": "2022-06-06T09:23:51.750Z"
   },
   {
    "duration": 20,
    "start_time": "2022-06-06T09:26:34.808Z"
   },
   {
    "duration": 5,
    "start_time": "2022-06-06T09:27:48.903Z"
   },
   {
    "duration": 26,
    "start_time": "2022-06-06T09:27:53.046Z"
   },
   {
    "duration": 2,
    "start_time": "2022-06-06T09:28:37.862Z"
   },
   {
    "duration": 8,
    "start_time": "2022-06-06T09:28:39.246Z"
   },
   {
    "duration": 5,
    "start_time": "2022-06-06T09:28:44.862Z"
   },
   {
    "duration": 25,
    "start_time": "2022-06-06T09:28:51.157Z"
   },
   {
    "duration": 39,
    "start_time": "2022-06-06T09:29:55.450Z"
   },
   {
    "duration": 9,
    "start_time": "2022-06-06T09:31:55.753Z"
   },
   {
    "duration": 3,
    "start_time": "2022-06-06T09:32:14.521Z"
   },
   {
    "duration": 24,
    "start_time": "2022-06-06T09:34:03.064Z"
   },
   {
    "duration": 3,
    "start_time": "2022-06-06T09:38:36.119Z"
   },
   {
    "duration": 4,
    "start_time": "2022-06-06T09:38:37.796Z"
   },
   {
    "duration": 3,
    "start_time": "2022-06-06T09:38:40.263Z"
   },
   {
    "duration": 34,
    "start_time": "2022-06-06T09:38:43.154Z"
   },
   {
    "duration": 2,
    "start_time": "2022-06-06T09:42:00.111Z"
   },
   {
    "duration": 9,
    "start_time": "2022-06-06T09:42:01.541Z"
   },
   {
    "duration": 3,
    "start_time": "2022-06-06T09:42:03.620Z"
   },
   {
    "duration": 27,
    "start_time": "2022-06-06T09:42:06.902Z"
   },
   {
    "duration": 2301,
    "start_time": "2022-06-06T09:54:05.504Z"
   },
   {
    "duration": 1387,
    "start_time": "2022-06-06T09:54:07.807Z"
   },
   {
    "duration": 35,
    "start_time": "2022-06-06T09:54:09.196Z"
   },
   {
    "duration": 27,
    "start_time": "2022-06-06T09:54:09.233Z"
   },
   {
    "duration": 4,
    "start_time": "2022-06-06T09:54:09.264Z"
   },
   {
    "duration": 14,
    "start_time": "2022-06-06T09:54:09.269Z"
   },
   {
    "duration": 14,
    "start_time": "2022-06-06T09:54:09.284Z"
   },
   {
    "duration": 53,
    "start_time": "2022-06-06T09:54:09.300Z"
   },
   {
    "duration": 9,
    "start_time": "2022-06-06T09:54:09.357Z"
   },
   {
    "duration": 10,
    "start_time": "2022-06-06T09:54:09.368Z"
   },
   {
    "duration": 6,
    "start_time": "2022-06-06T09:54:09.379Z"
   },
   {
    "duration": 21,
    "start_time": "2022-06-06T09:54:09.386Z"
   },
   {
    "duration": 21,
    "start_time": "2022-06-06T09:54:09.409Z"
   },
   {
    "duration": 28,
    "start_time": "2022-06-06T09:54:09.435Z"
   },
   {
    "duration": 30,
    "start_time": "2022-06-06T09:54:09.465Z"
   },
   {
    "duration": 26,
    "start_time": "2022-06-06T09:54:09.497Z"
   },
   {
    "duration": 30,
    "start_time": "2022-06-06T09:54:09.527Z"
   },
   {
    "duration": 8,
    "start_time": "2022-06-06T09:54:09.559Z"
   },
   {
    "duration": 27,
    "start_time": "2022-06-06T09:54:09.569Z"
   },
   {
    "duration": 7,
    "start_time": "2022-06-06T09:54:09.598Z"
   },
   {
    "duration": 5,
    "start_time": "2022-06-06T09:54:09.606Z"
   },
   {
    "duration": 7,
    "start_time": "2022-06-06T09:54:09.612Z"
   },
   {
    "duration": 20,
    "start_time": "2022-06-06T09:54:09.621Z"
   },
   {
    "duration": 180,
    "start_time": "2022-06-06T09:54:09.642Z"
   },
   {
    "duration": 24,
    "start_time": "2022-06-06T09:54:27.661Z"
   },
   {
    "duration": 5,
    "start_time": "2022-06-06T09:55:31.231Z"
   },
   {
    "duration": 5,
    "start_time": "2022-06-06T09:56:01.251Z"
   },
   {
    "duration": 5,
    "start_time": "2022-06-06T09:56:31.850Z"
   },
   {
    "duration": 12,
    "start_time": "2022-06-06T09:56:33.354Z"
   },
   {
    "duration": 3,
    "start_time": "2022-06-06T09:56:35.676Z"
   },
   {
    "duration": 2594,
    "start_time": "2022-06-06T09:56:38.451Z"
   },
   {
    "duration": 986,
    "start_time": "2022-06-06T09:56:48.686Z"
   },
   {
    "duration": 45,
    "start_time": "2022-06-06T09:58:34.180Z"
   },
   {
    "duration": 3,
    "start_time": "2022-06-06T09:59:08.150Z"
   },
   {
    "duration": 4,
    "start_time": "2022-06-06T09:59:09.650Z"
   },
   {
    "duration": 3,
    "start_time": "2022-06-06T09:59:11.185Z"
   },
   {
    "duration": 33,
    "start_time": "2022-06-06T09:59:12.571Z"
   },
   {
    "duration": 28,
    "start_time": "2022-06-06T09:59:57.367Z"
   },
   {
    "duration": 5,
    "start_time": "2022-06-06T10:02:04.425Z"
   },
   {
    "duration": 4,
    "start_time": "2022-06-06T10:02:14.578Z"
   },
   {
    "duration": 861,
    "start_time": "2022-06-06T10:02:40.982Z"
   },
   {
    "duration": 2493,
    "start_time": "2022-06-06T10:04:03.212Z"
   },
   {
    "duration": 1483,
    "start_time": "2022-06-06T10:04:05.707Z"
   },
   {
    "duration": 32,
    "start_time": "2022-06-06T10:04:07.191Z"
   },
   {
    "duration": 24,
    "start_time": "2022-06-06T10:04:07.225Z"
   },
   {
    "duration": 38,
    "start_time": "2022-06-06T10:04:07.251Z"
   },
   {
    "duration": 18,
    "start_time": "2022-06-06T10:04:07.291Z"
   },
   {
    "duration": 68,
    "start_time": "2022-06-06T10:04:07.310Z"
   },
   {
    "duration": 56,
    "start_time": "2022-06-06T10:04:07.379Z"
   },
   {
    "duration": 21,
    "start_time": "2022-06-06T10:04:07.436Z"
   },
   {
    "duration": 28,
    "start_time": "2022-06-06T10:04:07.460Z"
   },
   {
    "duration": 28,
    "start_time": "2022-06-06T10:04:07.490Z"
   },
   {
    "duration": 68,
    "start_time": "2022-06-06T10:04:07.520Z"
   },
   {
    "duration": 33,
    "start_time": "2022-06-06T10:04:07.589Z"
   },
   {
    "duration": 57,
    "start_time": "2022-06-06T10:04:07.623Z"
   },
   {
    "duration": 36,
    "start_time": "2022-06-06T10:04:07.682Z"
   },
   {
    "duration": 66,
    "start_time": "2022-06-06T10:04:07.720Z"
   },
   {
    "duration": 26,
    "start_time": "2022-06-06T10:04:07.787Z"
   },
   {
    "duration": 50,
    "start_time": "2022-06-06T10:04:07.815Z"
   },
   {
    "duration": 31,
    "start_time": "2022-06-06T10:04:07.866Z"
   },
   {
    "duration": 9,
    "start_time": "2022-06-06T10:04:07.899Z"
   },
   {
    "duration": 13,
    "start_time": "2022-06-06T10:04:07.909Z"
   },
   {
    "duration": 43,
    "start_time": "2022-06-06T10:04:07.924Z"
   },
   {
    "duration": 29,
    "start_time": "2022-06-06T10:04:07.969Z"
   },
   {
    "duration": 20,
    "start_time": "2022-06-06T10:04:08.000Z"
   },
   {
    "duration": 60,
    "start_time": "2022-06-06T10:04:08.022Z"
   },
   {
    "duration": 971,
    "start_time": "2022-06-06T10:04:08.083Z"
   },
   {
    "duration": 15,
    "start_time": "2022-06-06T10:04:09.057Z"
   },
   {
    "duration": 9,
    "start_time": "2022-06-06T10:11:41.636Z"
   },
   {
    "duration": 3,
    "start_time": "2022-06-06T10:11:43.119Z"
   },
   {
    "duration": 10,
    "start_time": "2022-06-06T10:11:45.438Z"
   },
   {
    "duration": 6,
    "start_time": "2022-06-06T10:11:55.856Z"
   },
   {
    "duration": 6,
    "start_time": "2022-06-06T10:19:11.005Z"
   },
   {
    "duration": 10,
    "start_time": "2022-06-06T10:19:26.023Z"
   },
   {
    "duration": 3,
    "start_time": "2022-06-06T10:19:36.181Z"
   },
   {
    "duration": 757,
    "start_time": "2022-06-06T10:19:48.672Z"
   },
   {
    "duration": 3,
    "start_time": "2022-06-06T10:20:18.808Z"
   },
   {
    "duration": 714,
    "start_time": "2022-06-06T10:20:21.623Z"
   },
   {
    "duration": 561,
    "start_time": "2022-06-06T10:21:33.887Z"
   },
   {
    "duration": 3,
    "start_time": "2022-06-06T10:24:32.139Z"
   },
   {
    "duration": 5,
    "start_time": "2022-06-06T10:24:33.949Z"
   },
   {
    "duration": 6,
    "start_time": "2022-06-06T10:24:35.900Z"
   },
   {
    "duration": 215,
    "start_time": "2022-06-06T10:27:53.256Z"
   },
   {
    "duration": 3,
    "start_time": "2022-06-06T10:28:10.518Z"
   },
   {
    "duration": 26,
    "start_time": "2022-06-06T10:28:13.151Z"
   },
   {
    "duration": 3,
    "start_time": "2022-06-06T10:28:23.156Z"
   },
   {
    "duration": 4,
    "start_time": "2022-06-06T10:28:26.220Z"
   },
   {
    "duration": 5,
    "start_time": "2022-06-06T10:28:27.850Z"
   },
   {
    "duration": 3,
    "start_time": "2022-06-06T10:28:29.949Z"
   },
   {
    "duration": 36,
    "start_time": "2022-06-06T10:28:31.605Z"
   },
   {
    "duration": 10,
    "start_time": "2022-06-06T10:28:57.637Z"
   },
   {
    "duration": 40,
    "start_time": "2022-06-06T10:29:01.719Z"
   },
   {
    "duration": 3,
    "start_time": "2022-06-06T10:29:19.857Z"
   },
   {
    "duration": 4,
    "start_time": "2022-06-06T10:29:21.401Z"
   },
   {
    "duration": 5,
    "start_time": "2022-06-06T10:29:22.698Z"
   },
   {
    "duration": 4,
    "start_time": "2022-06-06T10:29:25.074Z"
   },
   {
    "duration": 21,
    "start_time": "2022-06-06T10:29:26.648Z"
   },
   {
    "duration": 20,
    "start_time": "2022-06-06T10:29:35.942Z"
   },
   {
    "duration": 2364,
    "start_time": "2022-06-06T10:36:15.507Z"
   },
   {
    "duration": 1476,
    "start_time": "2022-06-06T10:36:17.874Z"
   },
   {
    "duration": 30,
    "start_time": "2022-06-06T10:36:19.354Z"
   },
   {
    "duration": 19,
    "start_time": "2022-06-06T10:36:19.386Z"
   },
   {
    "duration": 17,
    "start_time": "2022-06-06T10:36:19.407Z"
   },
   {
    "duration": 56,
    "start_time": "2022-06-06T10:36:19.429Z"
   },
   {
    "duration": 32,
    "start_time": "2022-06-06T10:36:19.487Z"
   },
   {
    "duration": 42,
    "start_time": "2022-06-06T10:36:19.521Z"
   },
   {
    "duration": 7,
    "start_time": "2022-06-06T10:36:19.565Z"
   },
   {
    "duration": 32,
    "start_time": "2022-06-06T10:36:19.575Z"
   },
   {
    "duration": 9,
    "start_time": "2022-06-06T10:36:19.609Z"
   },
   {
    "duration": 53,
    "start_time": "2022-06-06T10:36:19.619Z"
   },
   {
    "duration": 31,
    "start_time": "2022-06-06T10:36:19.673Z"
   },
   {
    "duration": 15,
    "start_time": "2022-06-06T10:36:19.706Z"
   },
   {
    "duration": 66,
    "start_time": "2022-06-06T10:36:19.723Z"
   },
   {
    "duration": 42,
    "start_time": "2022-06-06T10:36:19.791Z"
   },
   {
    "duration": 28,
    "start_time": "2022-06-06T10:36:19.836Z"
   },
   {
    "duration": 17,
    "start_time": "2022-06-06T10:36:19.866Z"
   },
   {
    "duration": 66,
    "start_time": "2022-06-06T10:36:19.884Z"
   },
   {
    "duration": 18,
    "start_time": "2022-06-06T10:36:19.952Z"
   },
   {
    "duration": 14,
    "start_time": "2022-06-06T10:36:19.971Z"
   },
   {
    "duration": 17,
    "start_time": "2022-06-06T10:36:19.987Z"
   },
   {
    "duration": 13,
    "start_time": "2022-06-06T10:36:20.007Z"
   },
   {
    "duration": 35,
    "start_time": "2022-06-06T10:36:20.021Z"
   },
   {
    "duration": 22,
    "start_time": "2022-06-06T10:36:20.058Z"
   },
   {
    "duration": 14,
    "start_time": "2022-06-06T10:36:20.081Z"
   },
   {
    "duration": 178,
    "start_time": "2022-06-06T10:36:20.097Z"
   },
   {
    "duration": 833,
    "start_time": "2022-06-06T10:45:11.168Z"
   },
   {
    "duration": 440,
    "start_time": "2022-06-06T10:49:12.987Z"
   },
   {
    "duration": 272,
    "start_time": "2022-06-06T10:49:49.224Z"
   },
   {
    "duration": 296,
    "start_time": "2022-06-06T10:50:11.447Z"
   },
   {
    "duration": 291,
    "start_time": "2022-06-06T10:50:46.901Z"
   },
   {
    "duration": 310,
    "start_time": "2022-06-06T10:53:58.042Z"
   },
   {
    "duration": 478,
    "start_time": "2022-06-06T10:55:34.754Z"
   },
   {
    "duration": 3,
    "start_time": "2022-06-06T10:56:03.978Z"
   },
   {
    "duration": 284,
    "start_time": "2022-06-06T10:56:07.617Z"
   },
   {
    "duration": 268,
    "start_time": "2022-06-06T10:56:15.877Z"
   },
   {
    "duration": 271,
    "start_time": "2022-06-06T10:56:19.735Z"
   },
   {
    "duration": 296,
    "start_time": "2022-06-06T10:56:23.002Z"
   },
   {
    "duration": 11,
    "start_time": "2022-06-06T11:03:56.110Z"
   },
   {
    "duration": 3,
    "start_time": "2022-06-06T11:05:43.680Z"
   },
   {
    "duration": 4,
    "start_time": "2022-06-06T11:06:12.610Z"
   },
   {
    "duration": 11,
    "start_time": "2022-06-06T11:06:15.986Z"
   },
   {
    "duration": 4,
    "start_time": "2022-06-06T11:06:44.728Z"
   },
   {
    "duration": 15,
    "start_time": "2022-06-06T11:06:47.953Z"
   },
   {
    "duration": 445,
    "start_time": "2022-06-06T11:06:55.186Z"
   },
   {
    "duration": 23,
    "start_time": "2022-06-06T11:11:56.718Z"
   },
   {
    "duration": 3,
    "start_time": "2022-06-06T11:12:08.597Z"
   },
   {
    "duration": 6,
    "start_time": "2022-06-06T11:12:10.351Z"
   },
   {
    "duration": 15,
    "start_time": "2022-06-06T11:12:54.403Z"
   },
   {
    "duration": 24,
    "start_time": "2022-06-06T11:13:17.956Z"
   },
   {
    "duration": 607,
    "start_time": "2022-06-06T11:13:50.923Z"
   },
   {
    "duration": 2582,
    "start_time": "2022-06-06T11:14:34.424Z"
   },
   {
    "duration": 1754,
    "start_time": "2022-06-06T11:14:37.009Z"
   },
   {
    "duration": 28,
    "start_time": "2022-06-06T11:14:38.764Z"
   },
   {
    "duration": 15,
    "start_time": "2022-06-06T11:14:38.794Z"
   },
   {
    "duration": 4,
    "start_time": "2022-06-06T11:14:38.810Z"
   },
   {
    "duration": 20,
    "start_time": "2022-06-06T11:14:38.816Z"
   },
   {
    "duration": 11,
    "start_time": "2022-06-06T11:14:38.839Z"
   },
   {
    "duration": 25,
    "start_time": "2022-06-06T11:14:38.851Z"
   },
   {
    "duration": 287,
    "start_time": "2022-06-06T11:14:38.878Z"
   },
   {
    "duration": 376,
    "start_time": "2022-06-06T11:14:39.166Z"
   },
   {
    "duration": 281,
    "start_time": "2022-06-06T11:14:39.543Z"
   },
   {
    "duration": 254,
    "start_time": "2022-06-06T11:14:39.838Z"
   },
   {
    "duration": 6,
    "start_time": "2022-06-06T11:14:40.094Z"
   },
   {
    "duration": 7,
    "start_time": "2022-06-06T11:14:40.103Z"
   },
   {
    "duration": 26,
    "start_time": "2022-06-06T11:14:40.112Z"
   },
   {
    "duration": 24,
    "start_time": "2022-06-06T11:14:40.139Z"
   },
   {
    "duration": 12,
    "start_time": "2022-06-06T11:14:40.165Z"
   },
   {
    "duration": 9,
    "start_time": "2022-06-06T11:14:40.178Z"
   },
   {
    "duration": 26,
    "start_time": "2022-06-06T11:14:40.189Z"
   },
   {
    "duration": 14,
    "start_time": "2022-06-06T11:14:40.232Z"
   },
   {
    "duration": 4,
    "start_time": "2022-06-06T11:14:40.247Z"
   },
   {
    "duration": 6,
    "start_time": "2022-06-06T11:14:40.252Z"
   },
   {
    "duration": 26,
    "start_time": "2022-06-06T11:14:40.260Z"
   },
   {
    "duration": 8,
    "start_time": "2022-06-06T11:14:40.288Z"
   },
   {
    "duration": 6,
    "start_time": "2022-06-06T11:14:40.298Z"
   },
   {
    "duration": 6,
    "start_time": "2022-06-06T11:14:40.326Z"
   },
   {
    "duration": 12,
    "start_time": "2022-06-06T11:14:40.334Z"
   },
   {
    "duration": 7,
    "start_time": "2022-06-06T11:14:40.348Z"
   },
   {
    "duration": 11,
    "start_time": "2022-06-06T11:14:40.357Z"
   },
   {
    "duration": 11,
    "start_time": "2022-06-06T11:14:40.370Z"
   },
   {
    "duration": 193,
    "start_time": "2022-06-06T11:14:40.383Z"
   },
   {
    "duration": 479,
    "start_time": "2022-06-06T11:15:35.274Z"
   },
   {
    "duration": 507,
    "start_time": "2022-06-06T11:45:05.541Z"
   },
   {
    "duration": 498,
    "start_time": "2022-06-06T11:47:16.055Z"
   },
   {
    "duration": 4,
    "start_time": "2022-06-06T11:53:15.398Z"
   },
   {
    "duration": 483,
    "start_time": "2022-06-06T11:53:17.169Z"
   },
   {
    "duration": 13,
    "start_time": "2022-06-06T12:02:53.989Z"
   },
   {
    "duration": 3,
    "start_time": "2022-06-06T12:02:57.347Z"
   },
   {
    "duration": 588,
    "start_time": "2022-06-06T12:02:59.365Z"
   },
   {
    "duration": 781,
    "start_time": "2022-06-06T12:06:28.906Z"
   },
   {
    "duration": 18,
    "start_time": "2022-06-06T12:08:39.620Z"
   },
   {
    "duration": 11,
    "start_time": "2022-06-06T12:09:04.723Z"
   },
   {
    "duration": 22,
    "start_time": "2022-06-06T12:09:09.323Z"
   },
   {
    "duration": 5,
    "start_time": "2022-06-06T12:09:26.534Z"
   },
   {
    "duration": 34,
    "start_time": "2022-06-06T12:09:30.313Z"
   },
   {
    "duration": 542,
    "start_time": "2022-06-06T12:12:49.112Z"
   },
   {
    "duration": 12,
    "start_time": "2022-06-06T12:18:26.466Z"
   },
   {
    "duration": 205,
    "start_time": "2022-06-06T12:18:36.466Z"
   },
   {
    "duration": 251,
    "start_time": "2022-06-06T12:20:54.061Z"
   },
   {
    "duration": 203,
    "start_time": "2022-06-06T12:21:03.669Z"
   },
   {
    "duration": 134,
    "start_time": "2022-06-06T12:24:31.417Z"
   },
   {
    "duration": 118,
    "start_time": "2022-06-06T12:24:46.327Z"
   },
   {
    "duration": 122,
    "start_time": "2022-06-06T12:25:16.022Z"
   },
   {
    "duration": 12,
    "start_time": "2022-06-06T12:31:15.257Z"
   },
   {
    "duration": 4,
    "start_time": "2022-06-06T12:31:21.407Z"
   },
   {
    "duration": 14,
    "start_time": "2022-06-06T12:31:24.354Z"
   },
   {
    "duration": 2294,
    "start_time": "2022-06-06T12:31:40.943Z"
   },
   {
    "duration": 1782,
    "start_time": "2022-06-06T12:31:43.240Z"
   },
   {
    "duration": 32,
    "start_time": "2022-06-06T12:31:45.027Z"
   },
   {
    "duration": 26,
    "start_time": "2022-06-06T12:31:45.062Z"
   },
   {
    "duration": 10,
    "start_time": "2022-06-06T12:31:45.090Z"
   },
   {
    "duration": 29,
    "start_time": "2022-06-06T12:31:45.102Z"
   },
   {
    "duration": 26,
    "start_time": "2022-06-06T12:31:45.133Z"
   },
   {
    "duration": 41,
    "start_time": "2022-06-06T12:31:45.161Z"
   },
   {
    "duration": 284,
    "start_time": "2022-06-06T12:31:45.204Z"
   },
   {
    "duration": 365,
    "start_time": "2022-06-06T12:31:45.490Z"
   },
   {
    "duration": 302,
    "start_time": "2022-06-06T12:31:45.856Z"
   },
   {
    "duration": 308,
    "start_time": "2022-06-06T12:31:46.160Z"
   },
   {
    "duration": 9,
    "start_time": "2022-06-06T12:31:46.471Z"
   },
   {
    "duration": 47,
    "start_time": "2022-06-06T12:31:46.482Z"
   },
   {
    "duration": 19,
    "start_time": "2022-06-06T12:31:46.531Z"
   },
   {
    "duration": 43,
    "start_time": "2022-06-06T12:31:46.553Z"
   },
   {
    "duration": 50,
    "start_time": "2022-06-06T12:31:46.598Z"
   },
   {
    "duration": 27,
    "start_time": "2022-06-06T12:31:46.650Z"
   },
   {
    "duration": 32,
    "start_time": "2022-06-06T12:31:46.679Z"
   },
   {
    "duration": 32,
    "start_time": "2022-06-06T12:31:46.714Z"
   },
   {
    "duration": 26,
    "start_time": "2022-06-06T12:31:46.749Z"
   },
   {
    "duration": 47,
    "start_time": "2022-06-06T12:31:46.777Z"
   },
   {
    "duration": 65,
    "start_time": "2022-06-06T12:31:46.826Z"
   },
   {
    "duration": 17,
    "start_time": "2022-06-06T12:31:46.893Z"
   },
   {
    "duration": 41,
    "start_time": "2022-06-06T12:31:46.912Z"
   },
   {
    "duration": 34,
    "start_time": "2022-06-06T12:31:46.955Z"
   },
   {
    "duration": 39,
    "start_time": "2022-06-06T12:31:46.991Z"
   },
   {
    "duration": 34,
    "start_time": "2022-06-06T12:31:47.034Z"
   },
   {
    "duration": 20,
    "start_time": "2022-06-06T12:31:47.070Z"
   },
   {
    "duration": 12,
    "start_time": "2022-06-06T12:31:47.092Z"
   },
   {
    "duration": 187,
    "start_time": "2022-06-06T12:31:47.106Z"
   },
   {
    "duration": 0,
    "start_time": "2022-06-06T12:31:47.295Z"
   },
   {
    "duration": 29374,
    "start_time": "2022-06-06T16:05:58.151Z"
   },
   {
    "duration": 1105,
    "start_time": "2022-06-06T16:06:27.530Z"
   },
   {
    "duration": 0,
    "start_time": "2022-06-06T16:06:28.644Z"
   },
   {
    "duration": 0,
    "start_time": "2022-06-06T16:06:28.647Z"
   },
   {
    "duration": 0,
    "start_time": "2022-06-06T16:06:28.649Z"
   },
   {
    "duration": 0,
    "start_time": "2022-06-06T16:06:28.650Z"
   },
   {
    "duration": 0,
    "start_time": "2022-06-06T16:06:28.653Z"
   },
   {
    "duration": 0,
    "start_time": "2022-06-06T16:06:28.654Z"
   },
   {
    "duration": 0,
    "start_time": "2022-06-06T16:06:28.656Z"
   },
   {
    "duration": 0,
    "start_time": "2022-06-06T16:06:28.657Z"
   },
   {
    "duration": 0,
    "start_time": "2022-06-06T16:06:28.659Z"
   },
   {
    "duration": 0,
    "start_time": "2022-06-06T16:06:28.660Z"
   },
   {
    "duration": 0,
    "start_time": "2022-06-06T16:06:28.662Z"
   },
   {
    "duration": 0,
    "start_time": "2022-06-06T16:06:28.663Z"
   },
   {
    "duration": 0,
    "start_time": "2022-06-06T16:06:28.664Z"
   },
   {
    "duration": 0,
    "start_time": "2022-06-06T16:06:28.665Z"
   },
   {
    "duration": 0,
    "start_time": "2022-06-06T16:06:28.669Z"
   },
   {
    "duration": 0,
    "start_time": "2022-06-06T16:06:28.670Z"
   },
   {
    "duration": 0,
    "start_time": "2022-06-06T16:06:28.671Z"
   },
   {
    "duration": 0,
    "start_time": "2022-06-06T16:06:28.672Z"
   },
   {
    "duration": 0,
    "start_time": "2022-06-06T16:06:28.674Z"
   },
   {
    "duration": 0,
    "start_time": "2022-06-06T16:06:28.675Z"
   },
   {
    "duration": 0,
    "start_time": "2022-06-06T16:06:28.676Z"
   },
   {
    "duration": 0,
    "start_time": "2022-06-06T16:06:28.678Z"
   },
   {
    "duration": 0,
    "start_time": "2022-06-06T16:06:28.679Z"
   },
   {
    "duration": 0,
    "start_time": "2022-06-06T16:06:28.681Z"
   },
   {
    "duration": 1,
    "start_time": "2022-06-06T16:06:28.728Z"
   },
   {
    "duration": 0,
    "start_time": "2022-06-06T16:06:28.731Z"
   },
   {
    "duration": 0,
    "start_time": "2022-06-06T16:06:28.732Z"
   },
   {
    "duration": 0,
    "start_time": "2022-06-06T16:06:28.733Z"
   },
   {
    "duration": 0,
    "start_time": "2022-06-06T16:06:28.733Z"
   },
   {
    "duration": 0,
    "start_time": "2022-06-06T16:06:28.734Z"
   },
   {
    "duration": 2542,
    "start_time": "2022-06-06T16:07:00.410Z"
   },
   {
    "duration": 2085,
    "start_time": "2022-06-06T16:07:02.955Z"
   },
   {
    "duration": 73,
    "start_time": "2022-06-06T16:07:05.042Z"
   },
   {
    "duration": 18,
    "start_time": "2022-06-06T16:07:05.118Z"
   },
   {
    "duration": 24,
    "start_time": "2022-06-06T16:07:05.138Z"
   },
   {
    "duration": 13,
    "start_time": "2022-06-06T16:07:05.164Z"
   },
   {
    "duration": 14,
    "start_time": "2022-06-06T16:07:05.179Z"
   },
   {
    "duration": 39,
    "start_time": "2022-06-06T16:07:05.195Z"
   },
   {
    "duration": 315,
    "start_time": "2022-06-06T16:07:05.241Z"
   },
   {
    "duration": 382,
    "start_time": "2022-06-06T16:07:05.559Z"
   },
   {
    "duration": 277,
    "start_time": "2022-06-06T16:07:05.943Z"
   },
   {
    "duration": 274,
    "start_time": "2022-06-06T16:07:06.222Z"
   },
   {
    "duration": 8,
    "start_time": "2022-06-06T16:07:06.497Z"
   },
   {
    "duration": 24,
    "start_time": "2022-06-06T16:07:06.507Z"
   },
   {
    "duration": 14,
    "start_time": "2022-06-06T16:07:06.535Z"
   },
   {
    "duration": 33,
    "start_time": "2022-06-06T16:07:06.553Z"
   },
   {
    "duration": 39,
    "start_time": "2022-06-06T16:07:06.588Z"
   },
   {
    "duration": 19,
    "start_time": "2022-06-06T16:07:06.630Z"
   },
   {
    "duration": 32,
    "start_time": "2022-06-06T16:07:06.651Z"
   },
   {
    "duration": 16,
    "start_time": "2022-06-06T16:07:06.685Z"
   },
   {
    "duration": 10,
    "start_time": "2022-06-06T16:07:06.703Z"
   },
   {
    "duration": 9,
    "start_time": "2022-06-06T16:07:06.715Z"
   },
   {
    "duration": 41,
    "start_time": "2022-06-06T16:07:06.725Z"
   },
   {
    "duration": 13,
    "start_time": "2022-06-06T16:07:06.768Z"
   },
   {
    "duration": 8,
    "start_time": "2022-06-06T16:07:06.783Z"
   },
   {
    "duration": 9,
    "start_time": "2022-06-06T16:07:06.792Z"
   },
   {
    "duration": 22,
    "start_time": "2022-06-06T16:07:06.803Z"
   },
   {
    "duration": 12,
    "start_time": "2022-06-06T16:07:06.840Z"
   },
   {
    "duration": 13,
    "start_time": "2022-06-06T16:07:06.855Z"
   },
   {
    "duration": 7,
    "start_time": "2022-06-06T16:07:06.870Z"
   },
   {
    "duration": 187,
    "start_time": "2022-06-06T16:07:06.878Z"
   },
   {
    "duration": 0,
    "start_time": "2022-06-06T16:07:07.066Z"
   },
   {
    "duration": 2430,
    "start_time": "2022-06-06T16:07:22.513Z"
   },
   {
    "duration": 1795,
    "start_time": "2022-06-06T16:07:24.945Z"
   },
   {
    "duration": 28,
    "start_time": "2022-06-06T16:07:26.742Z"
   },
   {
    "duration": 15,
    "start_time": "2022-06-06T16:07:26.772Z"
   },
   {
    "duration": 3,
    "start_time": "2022-06-06T16:07:26.788Z"
   },
   {
    "duration": 18,
    "start_time": "2022-06-06T16:07:26.793Z"
   },
   {
    "duration": 22,
    "start_time": "2022-06-06T16:07:26.813Z"
   },
   {
    "duration": 52,
    "start_time": "2022-06-06T16:07:26.837Z"
   },
   {
    "duration": 287,
    "start_time": "2022-06-06T16:07:26.891Z"
   },
   {
    "duration": 379,
    "start_time": "2022-06-06T16:07:27.180Z"
   },
   {
    "duration": 280,
    "start_time": "2022-06-06T16:07:27.561Z"
   },
   {
    "duration": 257,
    "start_time": "2022-06-06T16:07:27.844Z"
   },
   {
    "duration": 7,
    "start_time": "2022-06-06T16:07:28.104Z"
   },
   {
    "duration": 28,
    "start_time": "2022-06-06T16:07:28.113Z"
   },
   {
    "duration": 21,
    "start_time": "2022-06-06T16:07:28.143Z"
   },
   {
    "duration": 36,
    "start_time": "2022-06-06T16:07:28.166Z"
   },
   {
    "duration": 54,
    "start_time": "2022-06-06T16:07:28.204Z"
   },
   {
    "duration": 11,
    "start_time": "2022-06-06T16:07:28.260Z"
   },
   {
    "duration": 26,
    "start_time": "2022-06-06T16:07:28.273Z"
   },
   {
    "duration": 17,
    "start_time": "2022-06-06T16:07:28.301Z"
   },
   {
    "duration": 16,
    "start_time": "2022-06-06T16:07:28.320Z"
   },
   {
    "duration": 18,
    "start_time": "2022-06-06T16:07:28.337Z"
   },
   {
    "duration": 29,
    "start_time": "2022-06-06T16:07:28.357Z"
   },
   {
    "duration": 10,
    "start_time": "2022-06-06T16:07:28.388Z"
   },
   {
    "duration": 8,
    "start_time": "2022-06-06T16:07:28.400Z"
   },
   {
    "duration": 8,
    "start_time": "2022-06-06T16:07:28.409Z"
   },
   {
    "duration": 11,
    "start_time": "2022-06-06T16:07:28.419Z"
   },
   {
    "duration": 13,
    "start_time": "2022-06-06T16:07:28.438Z"
   },
   {
    "duration": 15,
    "start_time": "2022-06-06T16:07:28.453Z"
   },
   {
    "duration": 19,
    "start_time": "2022-06-06T16:07:28.470Z"
   },
   {
    "duration": 188,
    "start_time": "2022-06-06T16:07:28.491Z"
   },
   {
    "duration": 0,
    "start_time": "2022-06-06T16:07:28.682Z"
   },
   {
    "duration": 2,
    "start_time": "2022-06-06T16:07:55.508Z"
   },
   {
    "duration": 5,
    "start_time": "2022-06-06T16:07:56.995Z"
   },
   {
    "duration": 5,
    "start_time": "2022-06-06T16:07:58.788Z"
   },
   {
    "duration": 4,
    "start_time": "2022-06-06T16:08:01.099Z"
   },
   {
    "duration": 612,
    "start_time": "2022-06-06T16:08:02.924Z"
   },
   {
    "duration": 20,
    "start_time": "2022-06-06T16:16:38.645Z"
   },
   {
    "duration": 2280,
    "start_time": "2022-06-06T16:17:12.085Z"
   },
   {
    "duration": 1810,
    "start_time": "2022-06-06T16:17:14.368Z"
   },
   {
    "duration": 28,
    "start_time": "2022-06-06T16:17:16.179Z"
   },
   {
    "duration": 15,
    "start_time": "2022-06-06T16:17:16.209Z"
   },
   {
    "duration": 14,
    "start_time": "2022-06-06T16:17:16.226Z"
   },
   {
    "duration": 16,
    "start_time": "2022-06-06T16:17:16.241Z"
   },
   {
    "duration": 19,
    "start_time": "2022-06-06T16:17:16.258Z"
   },
   {
    "duration": 39,
    "start_time": "2022-06-06T16:17:16.279Z"
   },
   {
    "duration": 322,
    "start_time": "2022-06-06T16:17:16.320Z"
   },
   {
    "duration": 396,
    "start_time": "2022-06-06T16:17:16.645Z"
   },
   {
    "duration": 269,
    "start_time": "2022-06-06T16:17:17.042Z"
   },
   {
    "duration": 265,
    "start_time": "2022-06-06T16:17:17.313Z"
   },
   {
    "duration": 7,
    "start_time": "2022-06-06T16:17:17.580Z"
   },
   {
    "duration": 29,
    "start_time": "2022-06-06T16:17:17.589Z"
   },
   {
    "duration": 32,
    "start_time": "2022-06-06T16:17:17.620Z"
   },
   {
    "duration": 34,
    "start_time": "2022-06-06T16:17:17.654Z"
   },
   {
    "duration": 209,
    "start_time": "2022-06-06T16:17:17.690Z"
   },
   {
    "duration": 0,
    "start_time": "2022-06-06T16:17:17.902Z"
   },
   {
    "duration": 0,
    "start_time": "2022-06-06T16:17:17.904Z"
   },
   {
    "duration": 0,
    "start_time": "2022-06-06T16:17:17.905Z"
   },
   {
    "duration": 0,
    "start_time": "2022-06-06T16:17:17.907Z"
   },
   {
    "duration": 1,
    "start_time": "2022-06-06T16:17:17.908Z"
   },
   {
    "duration": 0,
    "start_time": "2022-06-06T16:17:17.926Z"
   },
   {
    "duration": 0,
    "start_time": "2022-06-06T16:17:17.928Z"
   },
   {
    "duration": 0,
    "start_time": "2022-06-06T16:17:17.929Z"
   },
   {
    "duration": 0,
    "start_time": "2022-06-06T16:17:17.930Z"
   },
   {
    "duration": 0,
    "start_time": "2022-06-06T16:17:17.931Z"
   },
   {
    "duration": 0,
    "start_time": "2022-06-06T16:17:17.932Z"
   },
   {
    "duration": 0,
    "start_time": "2022-06-06T16:17:17.934Z"
   },
   {
    "duration": 0,
    "start_time": "2022-06-06T16:17:17.935Z"
   },
   {
    "duration": 0,
    "start_time": "2022-06-06T16:17:17.936Z"
   },
   {
    "duration": 0,
    "start_time": "2022-06-06T16:17:17.937Z"
   },
   {
    "duration": 2249,
    "start_time": "2022-06-06T16:21:46.405Z"
   },
   {
    "duration": 1804,
    "start_time": "2022-06-06T16:21:48.657Z"
   },
   {
    "duration": 29,
    "start_time": "2022-06-06T16:21:50.463Z"
   },
   {
    "duration": 16,
    "start_time": "2022-06-06T16:21:50.494Z"
   },
   {
    "duration": 9,
    "start_time": "2022-06-06T16:21:50.512Z"
   },
   {
    "duration": 16,
    "start_time": "2022-06-06T16:21:50.522Z"
   },
   {
    "duration": 23,
    "start_time": "2022-06-06T16:21:50.540Z"
   },
   {
    "duration": 33,
    "start_time": "2022-06-06T16:21:50.564Z"
   },
   {
    "duration": 296,
    "start_time": "2022-06-06T16:21:50.599Z"
   },
   {
    "duration": 377,
    "start_time": "2022-06-06T16:21:50.899Z"
   },
   {
    "duration": 290,
    "start_time": "2022-06-06T16:21:51.279Z"
   },
   {
    "duration": 253,
    "start_time": "2022-06-06T16:21:51.571Z"
   },
   {
    "duration": 8,
    "start_time": "2022-06-06T16:21:51.826Z"
   },
   {
    "duration": 10,
    "start_time": "2022-06-06T16:21:51.836Z"
   },
   {
    "duration": 13,
    "start_time": "2022-06-06T16:21:51.848Z"
   },
   {
    "duration": 173,
    "start_time": "2022-06-06T16:21:51.863Z"
   },
   {
    "duration": 0,
    "start_time": "2022-06-06T16:21:52.039Z"
   },
   {
    "duration": 0,
    "start_time": "2022-06-06T16:21:52.041Z"
   },
   {
    "duration": 0,
    "start_time": "2022-06-06T16:21:52.043Z"
   },
   {
    "duration": 0,
    "start_time": "2022-06-06T16:21:52.044Z"
   },
   {
    "duration": 0,
    "start_time": "2022-06-06T16:21:52.046Z"
   },
   {
    "duration": 0,
    "start_time": "2022-06-06T16:21:52.048Z"
   },
   {
    "duration": 0,
    "start_time": "2022-06-06T16:21:52.049Z"
   },
   {
    "duration": 0,
    "start_time": "2022-06-06T16:21:52.051Z"
   },
   {
    "duration": 0,
    "start_time": "2022-06-06T16:21:52.052Z"
   },
   {
    "duration": 0,
    "start_time": "2022-06-06T16:21:52.054Z"
   },
   {
    "duration": 0,
    "start_time": "2022-06-06T16:21:52.055Z"
   },
   {
    "duration": 0,
    "start_time": "2022-06-06T16:21:52.057Z"
   },
   {
    "duration": 0,
    "start_time": "2022-06-06T16:21:52.058Z"
   },
   {
    "duration": 0,
    "start_time": "2022-06-06T16:21:52.059Z"
   },
   {
    "duration": 0,
    "start_time": "2022-06-06T16:21:52.061Z"
   },
   {
    "duration": 0,
    "start_time": "2022-06-06T16:21:52.062Z"
   },
   {
    "duration": 3419,
    "start_time": "2022-06-06T16:34:00.283Z"
   },
   {
    "duration": 2440,
    "start_time": "2022-06-06T16:34:03.705Z"
   },
   {
    "duration": 32,
    "start_time": "2022-06-06T16:34:06.147Z"
   },
   {
    "duration": 25,
    "start_time": "2022-06-06T16:34:06.181Z"
   },
   {
    "duration": 20,
    "start_time": "2022-06-06T16:34:06.210Z"
   },
   {
    "duration": 24,
    "start_time": "2022-06-06T16:34:06.233Z"
   },
   {
    "duration": 16,
    "start_time": "2022-06-06T16:34:06.260Z"
   },
   {
    "duration": 44,
    "start_time": "2022-06-06T16:34:06.278Z"
   },
   {
    "duration": 318,
    "start_time": "2022-06-06T16:34:06.325Z"
   },
   {
    "duration": 458,
    "start_time": "2022-06-06T16:34:06.645Z"
   },
   {
    "duration": 423,
    "start_time": "2022-06-06T16:34:07.105Z"
   },
   {
    "duration": 407,
    "start_time": "2022-06-06T16:34:07.530Z"
   },
   {
    "duration": 12,
    "start_time": "2022-06-06T16:34:07.939Z"
   },
   {
    "duration": 7,
    "start_time": "2022-06-06T16:34:07.956Z"
   },
   {
    "duration": 10,
    "start_time": "2022-06-06T16:34:07.967Z"
   },
   {
    "duration": 274,
    "start_time": "2022-06-06T16:34:07.979Z"
   },
   {
    "duration": 0,
    "start_time": "2022-06-06T16:34:08.255Z"
   },
   {
    "duration": 0,
    "start_time": "2022-06-06T16:34:08.257Z"
   },
   {
    "duration": 1,
    "start_time": "2022-06-06T16:34:08.258Z"
   },
   {
    "duration": 0,
    "start_time": "2022-06-06T16:34:08.260Z"
   },
   {
    "duration": 0,
    "start_time": "2022-06-06T16:34:08.261Z"
   },
   {
    "duration": 0,
    "start_time": "2022-06-06T16:34:08.262Z"
   },
   {
    "duration": 0,
    "start_time": "2022-06-06T16:34:08.265Z"
   },
   {
    "duration": 0,
    "start_time": "2022-06-06T16:34:08.266Z"
   },
   {
    "duration": 0,
    "start_time": "2022-06-06T16:34:08.268Z"
   },
   {
    "duration": 0,
    "start_time": "2022-06-06T16:34:08.269Z"
   },
   {
    "duration": 0,
    "start_time": "2022-06-06T16:34:08.272Z"
   },
   {
    "duration": 0,
    "start_time": "2022-06-06T16:34:08.273Z"
   },
   {
    "duration": 0,
    "start_time": "2022-06-06T16:34:08.274Z"
   },
   {
    "duration": 0,
    "start_time": "2022-06-06T16:34:08.275Z"
   },
   {
    "duration": 0,
    "start_time": "2022-06-06T16:34:08.276Z"
   },
   {
    "duration": 0,
    "start_time": "2022-06-06T16:34:08.277Z"
   },
   {
    "duration": 6,
    "start_time": "2022-06-06T16:34:37.701Z"
   },
   {
    "duration": 22,
    "start_time": "2022-06-06T16:34:39.732Z"
   },
   {
    "duration": 11,
    "start_time": "2022-06-06T16:34:41.813Z"
   },
   {
    "duration": 13,
    "start_time": "2022-06-06T16:34:44.620Z"
   },
   {
    "duration": 38,
    "start_time": "2022-06-06T16:34:46.867Z"
   },
   {
    "duration": 15,
    "start_time": "2022-06-06T16:34:49.193Z"
   },
   {
    "duration": 6,
    "start_time": "2022-06-06T16:34:51.599Z"
   },
   {
    "duration": 5,
    "start_time": "2022-06-06T16:34:54.348Z"
   },
   {
    "duration": 32,
    "start_time": "2022-06-06T16:34:57.090Z"
   },
   {
    "duration": 10,
    "start_time": "2022-06-06T16:34:59.954Z"
   },
   {
    "duration": 12,
    "start_time": "2022-06-06T16:35:02.246Z"
   },
   {
    "duration": 5,
    "start_time": "2022-06-06T16:35:06.707Z"
   },
   {
    "duration": 3,
    "start_time": "2022-06-06T16:35:08.854Z"
   },
   {
    "duration": 5,
    "start_time": "2022-06-06T16:35:10.878Z"
   },
   {
    "duration": 3,
    "start_time": "2022-06-06T16:35:13.203Z"
   },
   {
    "duration": 348,
    "start_time": "2022-06-06T16:35:15.195Z"
   },
   {
    "duration": 16,
    "start_time": "2022-06-06T16:35:49.884Z"
   },
   {
    "duration": 13,
    "start_time": "2022-06-06T16:36:12.203Z"
   },
   {
    "duration": 16,
    "start_time": "2022-06-06T16:37:04.296Z"
   },
   {
    "duration": 13,
    "start_time": "2022-06-06T16:37:39.112Z"
   },
   {
    "duration": 10,
    "start_time": "2022-06-06T16:37:48.199Z"
   },
   {
    "duration": 30,
    "start_time": "2022-06-06T16:41:23.728Z"
   },
   {
    "duration": 6,
    "start_time": "2022-06-06T16:41:49.074Z"
   },
   {
    "duration": 9,
    "start_time": "2022-06-06T16:42:08.880Z"
   },
   {
    "duration": 3750,
    "start_time": "2022-06-06T16:43:29.630Z"
   },
   {
    "duration": 2362,
    "start_time": "2022-06-06T16:43:33.387Z"
   },
   {
    "duration": 31,
    "start_time": "2022-06-06T16:43:35.751Z"
   },
   {
    "duration": 22,
    "start_time": "2022-06-06T16:43:35.784Z"
   },
   {
    "duration": 15,
    "start_time": "2022-06-06T16:43:35.809Z"
   },
   {
    "duration": 32,
    "start_time": "2022-06-06T16:43:35.827Z"
   },
   {
    "duration": 25,
    "start_time": "2022-06-06T16:43:35.861Z"
   },
   {
    "duration": 47,
    "start_time": "2022-06-06T16:43:35.888Z"
   },
   {
    "duration": 473,
    "start_time": "2022-06-06T16:43:35.937Z"
   },
   {
    "duration": 516,
    "start_time": "2022-06-06T16:43:36.412Z"
   },
   {
    "duration": 309,
    "start_time": "2022-06-06T16:43:36.930Z"
   },
   {
    "duration": 350,
    "start_time": "2022-06-06T16:43:37.241Z"
   },
   {
    "duration": 10,
    "start_time": "2022-06-06T16:43:37.593Z"
   },
   {
    "duration": 28,
    "start_time": "2022-06-06T16:43:37.607Z"
   },
   {
    "duration": 13,
    "start_time": "2022-06-06T16:43:37.637Z"
   },
   {
    "duration": 16,
    "start_time": "2022-06-06T16:43:37.653Z"
   },
   {
    "duration": 26,
    "start_time": "2022-06-06T16:43:37.672Z"
   },
   {
    "duration": 26,
    "start_time": "2022-06-06T16:43:37.701Z"
   },
   {
    "duration": 14,
    "start_time": "2022-06-06T16:43:37.730Z"
   },
   {
    "duration": 42,
    "start_time": "2022-06-06T16:43:37.747Z"
   },
   {
    "duration": 40,
    "start_time": "2022-06-06T16:43:37.793Z"
   },
   {
    "duration": 9,
    "start_time": "2022-06-06T16:43:37.836Z"
   },
   {
    "duration": 14,
    "start_time": "2022-06-06T16:43:37.847Z"
   },
   {
    "duration": 32,
    "start_time": "2022-06-06T16:43:37.863Z"
   },
   {
    "duration": 21,
    "start_time": "2022-06-06T16:43:37.897Z"
   },
   {
    "duration": 19,
    "start_time": "2022-06-06T16:43:37.920Z"
   },
   {
    "duration": 13,
    "start_time": "2022-06-06T16:43:37.941Z"
   },
   {
    "duration": 7,
    "start_time": "2022-06-06T16:43:37.957Z"
   },
   {
    "duration": 11,
    "start_time": "2022-06-06T16:43:37.966Z"
   },
   {
    "duration": 11,
    "start_time": "2022-06-06T16:43:37.979Z"
   },
   {
    "duration": 559,
    "start_time": "2022-06-06T16:43:37.992Z"
   },
   {
    "duration": 75,
    "start_time": "2022-06-06T16:43:38.553Z"
   },
   {
    "duration": 153,
    "start_time": "2022-06-06T16:53:47.424Z"
   },
   {
    "duration": 2308,
    "start_time": "2022-06-06T16:53:58.357Z"
   },
   {
    "duration": 1698,
    "start_time": "2022-06-06T16:54:00.668Z"
   },
   {
    "duration": 34,
    "start_time": "2022-06-06T16:54:02.368Z"
   },
   {
    "duration": 15,
    "start_time": "2022-06-06T16:54:02.405Z"
   },
   {
    "duration": 10,
    "start_time": "2022-06-06T16:54:02.421Z"
   },
   {
    "duration": 39,
    "start_time": "2022-06-06T16:54:02.432Z"
   },
   {
    "duration": 32,
    "start_time": "2022-06-06T16:54:02.473Z"
   },
   {
    "duration": 45,
    "start_time": "2022-06-06T16:54:02.507Z"
   },
   {
    "duration": 340,
    "start_time": "2022-06-06T16:54:02.554Z"
   },
   {
    "duration": 359,
    "start_time": "2022-06-06T16:54:02.898Z"
   },
   {
    "duration": 277,
    "start_time": "2022-06-06T16:54:03.259Z"
   },
   {
    "duration": 262,
    "start_time": "2022-06-06T16:54:03.538Z"
   },
   {
    "duration": 9,
    "start_time": "2022-06-06T16:54:03.802Z"
   },
   {
    "duration": 28,
    "start_time": "2022-06-06T16:54:03.812Z"
   },
   {
    "duration": 19,
    "start_time": "2022-06-06T16:54:03.842Z"
   },
   {
    "duration": 54,
    "start_time": "2022-06-06T16:54:03.863Z"
   },
   {
    "duration": 50,
    "start_time": "2022-06-06T16:54:03.919Z"
   },
   {
    "duration": 45,
    "start_time": "2022-06-06T16:54:03.971Z"
   },
   {
    "duration": 43,
    "start_time": "2022-06-06T16:54:04.017Z"
   },
   {
    "duration": 50,
    "start_time": "2022-06-06T16:54:04.062Z"
   },
   {
    "duration": 19,
    "start_time": "2022-06-06T16:54:04.114Z"
   },
   {
    "duration": 10,
    "start_time": "2022-06-06T16:54:04.135Z"
   },
   {
    "duration": 36,
    "start_time": "2022-06-06T16:54:04.146Z"
   },
   {
    "duration": 46,
    "start_time": "2022-06-06T16:54:04.184Z"
   },
   {
    "duration": 8,
    "start_time": "2022-06-06T16:54:04.232Z"
   },
   {
    "duration": 13,
    "start_time": "2022-06-06T16:54:04.242Z"
   },
   {
    "duration": 7,
    "start_time": "2022-06-06T16:54:04.257Z"
   },
   {
    "duration": 4,
    "start_time": "2022-06-06T16:54:04.268Z"
   },
   {
    "duration": 8,
    "start_time": "2022-06-06T16:54:04.274Z"
   },
   {
    "duration": 9,
    "start_time": "2022-06-06T16:54:04.283Z"
   },
   {
    "duration": 455,
    "start_time": "2022-06-06T16:54:04.293Z"
   },
   {
    "duration": 261,
    "start_time": "2022-06-06T16:54:04.750Z"
   },
   {
    "duration": 20,
    "start_time": "2022-06-06T16:55:04.629Z"
   },
   {
    "duration": 17,
    "start_time": "2022-06-06T16:55:08.721Z"
   },
   {
    "duration": 15,
    "start_time": "2022-06-06T16:55:54.668Z"
   },
   {
    "duration": 6,
    "start_time": "2022-06-06T16:56:09.897Z"
   },
   {
    "duration": 3,
    "start_time": "2022-06-06T16:58:56.979Z"
   },
   {
    "duration": 17,
    "start_time": "2022-06-06T16:59:22.652Z"
   },
   {
    "duration": 31,
    "start_time": "2022-06-06T16:59:37.082Z"
   },
   {
    "duration": 5,
    "start_time": "2022-06-06T16:59:46.994Z"
   },
   {
    "duration": 5,
    "start_time": "2022-06-06T17:00:09.042Z"
   },
   {
    "duration": 8,
    "start_time": "2022-06-06T17:01:07.716Z"
   },
   {
    "duration": 34390,
    "start_time": "2022-06-08T19:58:38.635Z"
   },
   {
    "duration": 1283,
    "start_time": "2022-06-08T19:59:13.027Z"
   },
   {
    "duration": 0,
    "start_time": "2022-06-08T19:59:14.312Z"
   },
   {
    "duration": 0,
    "start_time": "2022-06-08T19:59:14.313Z"
   },
   {
    "duration": 0,
    "start_time": "2022-06-08T19:59:14.315Z"
   },
   {
    "duration": 0,
    "start_time": "2022-06-08T19:59:14.316Z"
   },
   {
    "duration": 0,
    "start_time": "2022-06-08T19:59:14.317Z"
   },
   {
    "duration": 0,
    "start_time": "2022-06-08T19:59:14.318Z"
   },
   {
    "duration": 0,
    "start_time": "2022-06-08T19:59:14.320Z"
   },
   {
    "duration": 0,
    "start_time": "2022-06-08T19:59:14.321Z"
   },
   {
    "duration": 0,
    "start_time": "2022-06-08T19:59:14.322Z"
   },
   {
    "duration": 0,
    "start_time": "2022-06-08T19:59:14.324Z"
   },
   {
    "duration": 0,
    "start_time": "2022-06-08T19:59:14.325Z"
   },
   {
    "duration": 0,
    "start_time": "2022-06-08T19:59:14.326Z"
   },
   {
    "duration": 0,
    "start_time": "2022-06-08T19:59:14.352Z"
   },
   {
    "duration": 0,
    "start_time": "2022-06-08T19:59:14.353Z"
   },
   {
    "duration": 0,
    "start_time": "2022-06-08T19:59:14.354Z"
   },
   {
    "duration": 0,
    "start_time": "2022-06-08T19:59:14.356Z"
   },
   {
    "duration": 0,
    "start_time": "2022-06-08T19:59:14.357Z"
   },
   {
    "duration": 0,
    "start_time": "2022-06-08T19:59:14.358Z"
   },
   {
    "duration": 0,
    "start_time": "2022-06-08T19:59:14.359Z"
   },
   {
    "duration": 0,
    "start_time": "2022-06-08T19:59:14.360Z"
   },
   {
    "duration": 0,
    "start_time": "2022-06-08T19:59:14.361Z"
   },
   {
    "duration": 0,
    "start_time": "2022-06-08T19:59:14.363Z"
   },
   {
    "duration": 0,
    "start_time": "2022-06-08T19:59:14.364Z"
   },
   {
    "duration": 0,
    "start_time": "2022-06-08T19:59:14.365Z"
   },
   {
    "duration": 0,
    "start_time": "2022-06-08T19:59:14.365Z"
   },
   {
    "duration": 0,
    "start_time": "2022-06-08T19:59:14.366Z"
   },
   {
    "duration": 0,
    "start_time": "2022-06-08T19:59:14.367Z"
   },
   {
    "duration": 0,
    "start_time": "2022-06-08T19:59:14.367Z"
   },
   {
    "duration": 0,
    "start_time": "2022-06-08T19:59:14.368Z"
   },
   {
    "duration": 0,
    "start_time": "2022-06-08T19:59:14.369Z"
   },
   {
    "duration": 1795,
    "start_time": "2022-06-08T19:59:25.466Z"
   },
   {
    "duration": 1951,
    "start_time": "2022-06-08T19:59:27.263Z"
   },
   {
    "duration": 79,
    "start_time": "2022-06-08T19:59:29.216Z"
   },
   {
    "duration": 26,
    "start_time": "2022-06-08T19:59:29.297Z"
   },
   {
    "duration": 25,
    "start_time": "2022-06-08T19:59:29.324Z"
   },
   {
    "duration": 40,
    "start_time": "2022-06-08T19:59:29.350Z"
   },
   {
    "duration": 29,
    "start_time": "2022-06-08T19:59:29.391Z"
   },
   {
    "duration": 74,
    "start_time": "2022-06-08T19:59:29.421Z"
   },
   {
    "duration": 252,
    "start_time": "2022-06-08T19:59:29.496Z"
   },
   {
    "duration": 236,
    "start_time": "2022-06-08T19:59:29.751Z"
   },
   {
    "duration": 268,
    "start_time": "2022-06-08T19:59:29.989Z"
   },
   {
    "duration": 231,
    "start_time": "2022-06-08T19:59:30.259Z"
   },
   {
    "duration": 7,
    "start_time": "2022-06-08T19:59:30.492Z"
   },
   {
    "duration": 21,
    "start_time": "2022-06-08T19:59:30.500Z"
   },
   {
    "duration": 25,
    "start_time": "2022-06-08T19:59:30.523Z"
   },
   {
    "duration": 24,
    "start_time": "2022-06-08T19:59:30.550Z"
   },
   {
    "duration": 39,
    "start_time": "2022-06-08T19:59:30.575Z"
   },
   {
    "duration": 9,
    "start_time": "2022-06-08T19:59:30.616Z"
   },
   {
    "duration": 15,
    "start_time": "2022-06-08T19:59:30.627Z"
   },
   {
    "duration": 43,
    "start_time": "2022-06-08T19:59:30.644Z"
   },
   {
    "duration": 30,
    "start_time": "2022-06-08T19:59:30.689Z"
   },
   {
    "duration": 25,
    "start_time": "2022-06-08T19:59:30.721Z"
   },
   {
    "duration": 34,
    "start_time": "2022-06-08T19:59:30.747Z"
   },
   {
    "duration": 42,
    "start_time": "2022-06-08T19:59:30.783Z"
   },
   {
    "duration": 50,
    "start_time": "2022-06-08T19:59:30.826Z"
   },
   {
    "duration": 16,
    "start_time": "2022-06-08T19:59:30.878Z"
   },
   {
    "duration": 11,
    "start_time": "2022-06-08T19:59:30.895Z"
   },
   {
    "duration": 18,
    "start_time": "2022-06-08T19:59:30.908Z"
   },
   {
    "duration": 13,
    "start_time": "2022-06-08T19:59:30.928Z"
   },
   {
    "duration": 34,
    "start_time": "2022-06-08T19:59:30.943Z"
   },
   {
    "duration": 399,
    "start_time": "2022-06-08T19:59:30.979Z"
   },
   {
    "duration": 84,
    "start_time": "2022-06-08T19:59:31.379Z"
   },
   {
    "duration": 4,
    "start_time": "2022-06-08T20:01:03.105Z"
   },
   {
    "duration": 5,
    "start_time": "2022-06-08T20:02:52.219Z"
   },
   {
    "duration": 3,
    "start_time": "2022-06-08T20:03:11.995Z"
   },
   {
    "duration": 128,
    "start_time": "2022-06-08T20:03:39.633Z"
   },
   {
    "duration": 6,
    "start_time": "2022-06-08T20:03:51.210Z"
   },
   {
    "duration": 5,
    "start_time": "2022-06-08T20:07:17.747Z"
   },
   {
    "duration": 13,
    "start_time": "2022-06-08T20:10:34.755Z"
   },
   {
    "duration": 17,
    "start_time": "2022-06-08T20:10:41.664Z"
   },
   {
    "duration": 3,
    "start_time": "2022-06-08T20:11:04.325Z"
   },
   {
    "duration": 12,
    "start_time": "2022-06-08T20:11:11.526Z"
   },
   {
    "duration": 14,
    "start_time": "2022-06-08T20:11:22.564Z"
   },
   {
    "duration": 4,
    "start_time": "2022-06-08T20:12:54.651Z"
   },
   {
    "duration": 4,
    "start_time": "2022-06-08T20:13:06.483Z"
   },
   {
    "duration": 3,
    "start_time": "2022-06-08T20:15:57.575Z"
   },
   {
    "duration": 26,
    "start_time": "2022-06-08T20:16:55.190Z"
   },
   {
    "duration": 14,
    "start_time": "2022-06-08T20:20:26.068Z"
   },
   {
    "duration": 3,
    "start_time": "2022-06-08T20:20:31.659Z"
   },
   {
    "duration": 14,
    "start_time": "2022-06-08T20:20:33.252Z"
   },
   {
    "duration": 11,
    "start_time": "2022-06-08T20:21:48.565Z"
   },
   {
    "duration": 5,
    "start_time": "2022-06-08T20:21:58.036Z"
   },
   {
    "duration": 21,
    "start_time": "2022-06-08T20:23:06.909Z"
   },
   {
    "duration": 4,
    "start_time": "2022-06-08T20:23:16.767Z"
   },
   {
    "duration": 44,
    "start_time": "2022-06-08T20:32:24.921Z"
   },
   {
    "duration": 1859,
    "start_time": "2022-06-08T20:35:16.669Z"
   },
   {
    "duration": 1694,
    "start_time": "2022-06-08T20:35:18.530Z"
   },
   {
    "duration": 30,
    "start_time": "2022-06-08T20:35:20.225Z"
   },
   {
    "duration": 20,
    "start_time": "2022-06-08T20:35:20.257Z"
   },
   {
    "duration": 8,
    "start_time": "2022-06-08T20:35:20.278Z"
   },
   {
    "duration": 16,
    "start_time": "2022-06-08T20:35:20.287Z"
   },
   {
    "duration": 16,
    "start_time": "2022-06-08T20:35:20.305Z"
   },
   {
    "duration": 46,
    "start_time": "2022-06-08T20:35:20.323Z"
   },
   {
    "duration": 269,
    "start_time": "2022-06-08T20:35:20.371Z"
   },
   {
    "duration": 240,
    "start_time": "2022-06-08T20:35:20.643Z"
   },
   {
    "duration": 264,
    "start_time": "2022-06-08T20:35:20.885Z"
   },
   {
    "duration": 236,
    "start_time": "2022-06-08T20:35:21.151Z"
   },
   {
    "duration": 6,
    "start_time": "2022-06-08T20:35:21.388Z"
   },
   {
    "duration": 9,
    "start_time": "2022-06-08T20:35:21.396Z"
   },
   {
    "duration": 6,
    "start_time": "2022-06-08T20:35:21.407Z"
   },
   {
    "duration": 9,
    "start_time": "2022-06-08T20:35:21.415Z"
   },
   {
    "duration": 37,
    "start_time": "2022-06-08T20:35:21.425Z"
   },
   {
    "duration": 16,
    "start_time": "2022-06-08T20:35:21.468Z"
   },
   {
    "duration": 12,
    "start_time": "2022-06-08T20:35:21.486Z"
   },
   {
    "duration": 23,
    "start_time": "2022-06-08T20:35:21.500Z"
   },
   {
    "duration": 14,
    "start_time": "2022-06-08T20:35:21.525Z"
   },
   {
    "duration": 3,
    "start_time": "2022-06-08T20:35:21.557Z"
   },
   {
    "duration": 7,
    "start_time": "2022-06-08T20:35:21.561Z"
   },
   {
    "duration": 33,
    "start_time": "2022-06-08T20:35:21.570Z"
   },
   {
    "duration": 7,
    "start_time": "2022-06-08T20:35:21.604Z"
   },
   {
    "duration": 5,
    "start_time": "2022-06-08T20:35:21.613Z"
   },
   {
    "duration": 9,
    "start_time": "2022-06-08T20:35:21.620Z"
   },
   {
    "duration": 6,
    "start_time": "2022-06-08T20:35:21.632Z"
   },
   {
    "duration": 11,
    "start_time": "2022-06-08T20:35:21.639Z"
   },
   {
    "duration": 16,
    "start_time": "2022-06-08T20:35:21.654Z"
   },
   {
    "duration": 497,
    "start_time": "2022-06-08T20:35:21.671Z"
   },
   {
    "duration": 3,
    "start_time": "2022-06-08T20:35:22.169Z"
   },
   {
    "duration": 33,
    "start_time": "2022-06-08T20:35:22.173Z"
   },
   {
    "duration": 2,
    "start_time": "2022-06-08T20:36:06.201Z"
   },
   {
    "duration": 5,
    "start_time": "2022-06-08T20:36:08.023Z"
   },
   {
    "duration": 4,
    "start_time": "2022-06-08T20:36:10.321Z"
   },
   {
    "duration": 139,
    "start_time": "2022-06-08T20:36:11.768Z"
   },
   {
    "duration": 11,
    "start_time": "2022-06-08T20:36:26.554Z"
   },
   {
    "duration": 3,
    "start_time": "2022-06-08T20:36:28.314Z"
   },
   {
    "duration": 4,
    "start_time": "2022-06-08T20:36:29.505Z"
   },
   {
    "duration": 529,
    "start_time": "2022-06-08T20:36:33.544Z"
   },
   {
    "duration": 4,
    "start_time": "2022-06-08T20:36:38.135Z"
   },
   {
    "duration": 5,
    "start_time": "2022-06-08T20:36:40.103Z"
   },
   {
    "duration": 3,
    "start_time": "2022-06-08T20:36:57.295Z"
   },
   {
    "duration": 4,
    "start_time": "2022-06-08T20:36:58.766Z"
   },
   {
    "duration": 3,
    "start_time": "2022-06-08T20:36:59.416Z"
   },
   {
    "duration": 521,
    "start_time": "2022-06-08T20:37:00.140Z"
   },
   {
    "duration": 3,
    "start_time": "2022-06-08T20:37:03.401Z"
   },
   {
    "duration": 5,
    "start_time": "2022-06-08T20:37:05.404Z"
   },
   {
    "duration": 3,
    "start_time": "2022-06-08T20:37:17.304Z"
   },
   {
    "duration": 4,
    "start_time": "2022-06-08T20:37:18.797Z"
   },
   {
    "duration": 4,
    "start_time": "2022-06-08T20:37:19.232Z"
   },
   {
    "duration": 536,
    "start_time": "2022-06-08T20:37:19.847Z"
   },
   {
    "duration": 5,
    "start_time": "2022-06-08T20:37:22.970Z"
   },
   {
    "duration": 8,
    "start_time": "2022-06-08T20:37:24.847Z"
   },
   {
    "duration": 2,
    "start_time": "2022-06-08T20:37:35.912Z"
   },
   {
    "duration": 4,
    "start_time": "2022-06-08T20:37:37.404Z"
   },
   {
    "duration": 5,
    "start_time": "2022-06-08T20:37:38.046Z"
   },
   {
    "duration": 478,
    "start_time": "2022-06-08T20:37:39.408Z"
   },
   {
    "duration": 3,
    "start_time": "2022-06-08T20:37:42.668Z"
   },
   {
    "duration": 7,
    "start_time": "2022-06-08T20:37:44.552Z"
   },
   {
    "duration": 3,
    "start_time": "2022-06-08T20:37:57.277Z"
   },
   {
    "duration": 6,
    "start_time": "2022-06-08T20:37:58.167Z"
   },
   {
    "duration": 3,
    "start_time": "2022-06-08T20:37:58.719Z"
   },
   {
    "duration": 514,
    "start_time": "2022-06-08T20:37:59.567Z"
   },
   {
    "duration": 3,
    "start_time": "2022-06-08T20:38:02.147Z"
   },
   {
    "duration": 5,
    "start_time": "2022-06-08T20:38:03.792Z"
   },
   {
    "duration": 3,
    "start_time": "2022-06-08T20:38:12.894Z"
   },
   {
    "duration": 4,
    "start_time": "2022-06-08T20:38:13.421Z"
   },
   {
    "duration": 3,
    "start_time": "2022-06-08T20:38:14.837Z"
   },
   {
    "duration": 497,
    "start_time": "2022-06-08T20:38:15.377Z"
   },
   {
    "duration": 3,
    "start_time": "2022-06-08T20:38:19.908Z"
   },
   {
    "duration": 17,
    "start_time": "2022-06-08T20:38:21.750Z"
   },
   {
    "duration": 3,
    "start_time": "2022-06-08T20:38:48.592Z"
   },
   {
    "duration": 4,
    "start_time": "2022-06-08T20:38:49.028Z"
   },
   {
    "duration": 3,
    "start_time": "2022-06-08T20:38:49.530Z"
   },
   {
    "duration": 443,
    "start_time": "2022-06-08T20:38:50.036Z"
   },
   {
    "duration": 3,
    "start_time": "2022-06-08T20:38:53.426Z"
   },
   {
    "duration": 4,
    "start_time": "2022-06-08T20:38:54.475Z"
   },
   {
    "duration": 1944,
    "start_time": "2022-06-08T20:42:15.442Z"
   },
   {
    "duration": 1755,
    "start_time": "2022-06-08T20:42:17.388Z"
   },
   {
    "duration": 44,
    "start_time": "2022-06-08T20:42:19.145Z"
   },
   {
    "duration": 14,
    "start_time": "2022-06-08T20:42:19.191Z"
   },
   {
    "duration": 11,
    "start_time": "2022-06-08T20:42:19.207Z"
   },
   {
    "duration": 21,
    "start_time": "2022-06-08T20:42:19.221Z"
   },
   {
    "duration": 17,
    "start_time": "2022-06-08T20:42:19.244Z"
   },
   {
    "duration": 41,
    "start_time": "2022-06-08T20:42:19.263Z"
   },
   {
    "duration": 301,
    "start_time": "2022-06-08T20:42:19.306Z"
   },
   {
    "duration": 268,
    "start_time": "2022-06-08T20:42:19.608Z"
   },
   {
    "duration": 301,
    "start_time": "2022-06-08T20:42:19.878Z"
   },
   {
    "duration": 254,
    "start_time": "2022-06-08T20:42:20.181Z"
   },
   {
    "duration": 16,
    "start_time": "2022-06-08T20:42:20.437Z"
   },
   {
    "duration": 30,
    "start_time": "2022-06-08T20:42:20.458Z"
   },
   {
    "duration": 7,
    "start_time": "2022-06-08T20:42:20.489Z"
   },
   {
    "duration": 8,
    "start_time": "2022-06-08T20:42:20.498Z"
   },
   {
    "duration": 22,
    "start_time": "2022-06-08T20:42:20.508Z"
   },
   {
    "duration": 19,
    "start_time": "2022-06-08T20:42:20.532Z"
   },
   {
    "duration": 28,
    "start_time": "2022-06-08T20:42:20.556Z"
   },
   {
    "duration": 33,
    "start_time": "2022-06-08T20:42:20.585Z"
   },
   {
    "duration": 18,
    "start_time": "2022-06-08T20:42:20.620Z"
   },
   {
    "duration": 20,
    "start_time": "2022-06-08T20:42:20.640Z"
   },
   {
    "duration": 22,
    "start_time": "2022-06-08T20:42:20.662Z"
   },
   {
    "duration": 50,
    "start_time": "2022-06-08T20:42:20.687Z"
   },
   {
    "duration": 9,
    "start_time": "2022-06-08T20:42:20.739Z"
   },
   {
    "duration": 26,
    "start_time": "2022-06-08T20:42:20.750Z"
   },
   {
    "duration": 16,
    "start_time": "2022-06-08T20:42:20.778Z"
   },
   {
    "duration": 7,
    "start_time": "2022-06-08T20:42:20.796Z"
   },
   {
    "duration": 8,
    "start_time": "2022-06-08T20:42:20.805Z"
   },
   {
    "duration": 17,
    "start_time": "2022-06-08T20:42:20.815Z"
   },
   {
    "duration": 737,
    "start_time": "2022-06-08T20:42:20.834Z"
   },
   {
    "duration": 4,
    "start_time": "2022-06-08T20:42:21.575Z"
   },
   {
    "duration": 9,
    "start_time": "2022-06-08T20:42:21.583Z"
   },
   {
    "duration": 3,
    "start_time": "2022-06-08T20:44:13.492Z"
   },
   {
    "duration": 556,
    "start_time": "2022-06-08T20:44:15.210Z"
   },
   {
    "duration": 3,
    "start_time": "2022-06-08T20:44:18.320Z"
   },
   {
    "duration": 4,
    "start_time": "2022-06-08T20:44:20.304Z"
   },
   {
    "duration": 3,
    "start_time": "2022-06-08T20:44:25.621Z"
   },
   {
    "duration": 345,
    "start_time": "2022-06-08T20:44:27.333Z"
   },
   {
    "duration": 3,
    "start_time": "2022-06-08T20:44:38.996Z"
   },
   {
    "duration": 4,
    "start_time": "2022-06-08T20:44:39.434Z"
   },
   {
    "duration": 2,
    "start_time": "2022-06-08T20:44:39.899Z"
   },
   {
    "duration": 377,
    "start_time": "2022-06-08T20:44:40.493Z"
   },
   {
    "duration": 3,
    "start_time": "2022-06-08T20:44:44.938Z"
   },
   {
    "duration": 5,
    "start_time": "2022-06-08T20:44:46.691Z"
   },
   {
    "duration": 2,
    "start_time": "2022-06-08T20:44:58.635Z"
   },
   {
    "duration": 5,
    "start_time": "2022-06-08T20:44:59.053Z"
   },
   {
    "duration": 3,
    "start_time": "2022-06-08T20:44:59.443Z"
   },
   {
    "duration": 405,
    "start_time": "2022-06-08T20:44:59.972Z"
   },
   {
    "duration": 3,
    "start_time": "2022-06-08T20:45:03.793Z"
   },
   {
    "duration": 7,
    "start_time": "2022-06-08T20:45:05.172Z"
   },
   {
    "duration": 3,
    "start_time": "2022-06-08T20:45:17.991Z"
   },
   {
    "duration": 4,
    "start_time": "2022-06-08T20:45:18.371Z"
   },
   {
    "duration": 3,
    "start_time": "2022-06-08T20:45:18.800Z"
   },
   {
    "duration": 453,
    "start_time": "2022-06-08T20:45:19.220Z"
   },
   {
    "duration": 3,
    "start_time": "2022-06-08T20:45:22.619Z"
   },
   {
    "duration": 4,
    "start_time": "2022-06-08T20:45:23.395Z"
   },
   {
    "duration": 5,
    "start_time": "2022-06-08T20:45:30.634Z"
   },
   {
    "duration": 5,
    "start_time": "2022-06-08T20:45:30.993Z"
   },
   {
    "duration": 3,
    "start_time": "2022-06-08T20:45:31.368Z"
   },
   {
    "duration": 349,
    "start_time": "2022-06-08T20:45:31.729Z"
   },
   {
    "duration": 3,
    "start_time": "2022-06-08T20:45:33.827Z"
   },
   {
    "duration": 5,
    "start_time": "2022-06-08T20:45:35.121Z"
   },
   {
    "duration": 132,
    "start_time": "2022-06-08T20:47:51.095Z"
   },
   {
    "duration": 4,
    "start_time": "2022-06-08T20:53:45.836Z"
   },
   {
    "duration": 3,
    "start_time": "2022-06-08T20:53:46.319Z"
   },
   {
    "duration": 4,
    "start_time": "2022-06-08T20:53:46.722Z"
   },
   {
    "duration": 308,
    "start_time": "2022-06-08T20:53:47.162Z"
   },
   {
    "duration": 3,
    "start_time": "2022-06-08T20:53:49.107Z"
   },
   {
    "duration": 5,
    "start_time": "2022-06-08T20:53:50.162Z"
   },
   {
    "duration": 1800,
    "start_time": "2022-06-08T20:54:06.719Z"
   },
   {
    "duration": 1658,
    "start_time": "2022-06-08T20:54:08.522Z"
   },
   {
    "duration": 29,
    "start_time": "2022-06-08T20:54:10.182Z"
   },
   {
    "duration": 14,
    "start_time": "2022-06-08T20:54:10.214Z"
   },
   {
    "duration": 8,
    "start_time": "2022-06-08T20:54:10.230Z"
   },
   {
    "duration": 15,
    "start_time": "2022-06-08T20:54:10.240Z"
   },
   {
    "duration": 13,
    "start_time": "2022-06-08T20:54:10.257Z"
   },
   {
    "duration": 31,
    "start_time": "2022-06-08T20:54:10.272Z"
   },
   {
    "duration": 254,
    "start_time": "2022-06-08T20:54:10.304Z"
   },
   {
    "duration": 238,
    "start_time": "2022-06-08T20:54:10.562Z"
   },
   {
    "duration": 261,
    "start_time": "2022-06-08T20:54:10.803Z"
   },
   {
    "duration": 228,
    "start_time": "2022-06-08T20:54:11.066Z"
   },
   {
    "duration": 5,
    "start_time": "2022-06-08T20:54:11.296Z"
   },
   {
    "duration": 9,
    "start_time": "2022-06-08T20:54:11.303Z"
   },
   {
    "duration": 10,
    "start_time": "2022-06-08T20:54:11.313Z"
   },
   {
    "duration": 6,
    "start_time": "2022-06-08T20:54:11.324Z"
   },
   {
    "duration": 17,
    "start_time": "2022-06-08T20:54:11.351Z"
   },
   {
    "duration": 11,
    "start_time": "2022-06-08T20:54:11.370Z"
   },
   {
    "duration": 8,
    "start_time": "2022-06-08T20:54:11.383Z"
   },
   {
    "duration": 26,
    "start_time": "2022-06-08T20:54:11.393Z"
   },
   {
    "duration": 38,
    "start_time": "2022-06-08T20:54:11.421Z"
   },
   {
    "duration": 3,
    "start_time": "2022-06-08T20:54:11.461Z"
   },
   {
    "duration": 11,
    "start_time": "2022-06-08T20:54:11.465Z"
   },
   {
    "duration": 34,
    "start_time": "2022-06-08T20:54:11.477Z"
   },
   {
    "duration": 8,
    "start_time": "2022-06-08T20:54:11.512Z"
   },
   {
    "duration": 29,
    "start_time": "2022-06-08T20:54:11.523Z"
   },
   {
    "duration": 8,
    "start_time": "2022-06-08T20:54:11.554Z"
   },
   {
    "duration": 4,
    "start_time": "2022-06-08T20:54:11.565Z"
   },
   {
    "duration": 7,
    "start_time": "2022-06-08T20:54:11.571Z"
   },
   {
    "duration": 5,
    "start_time": "2022-06-08T20:54:11.579Z"
   },
   {
    "duration": 388,
    "start_time": "2022-06-08T20:54:11.586Z"
   },
   {
    "duration": 4,
    "start_time": "2022-06-08T20:54:12.053Z"
   },
   {
    "duration": 8,
    "start_time": "2022-06-08T20:54:12.058Z"
   },
   {
    "duration": 160,
    "start_time": "2022-06-08T20:54:12.068Z"
   },
   {
    "duration": 0,
    "start_time": "2022-06-08T20:54:12.229Z"
   },
   {
    "duration": 4,
    "start_time": "2022-06-08T20:55:02.997Z"
   },
   {
    "duration": 5,
    "start_time": "2022-06-08T20:55:03.432Z"
   },
   {
    "duration": 3,
    "start_time": "2022-06-08T20:55:03.863Z"
   },
   {
    "duration": 241,
    "start_time": "2022-06-08T20:55:04.829Z"
   },
   {
    "duration": 1872,
    "start_time": "2022-06-08T20:55:19.004Z"
   },
   {
    "duration": 1652,
    "start_time": "2022-06-08T20:55:20.878Z"
   },
   {
    "duration": 30,
    "start_time": "2022-06-08T20:55:22.532Z"
   },
   {
    "duration": 19,
    "start_time": "2022-06-08T20:55:22.564Z"
   },
   {
    "duration": 15,
    "start_time": "2022-06-08T20:55:22.585Z"
   },
   {
    "duration": 16,
    "start_time": "2022-06-08T20:55:22.601Z"
   },
   {
    "duration": 13,
    "start_time": "2022-06-08T20:55:22.619Z"
   },
   {
    "duration": 48,
    "start_time": "2022-06-08T20:55:22.634Z"
   },
   {
    "duration": 260,
    "start_time": "2022-06-08T20:55:22.684Z"
   },
   {
    "duration": 239,
    "start_time": "2022-06-08T20:55:22.946Z"
   },
   {
    "duration": 244,
    "start_time": "2022-06-08T20:55:23.187Z"
   },
   {
    "duration": 248,
    "start_time": "2022-06-08T20:55:23.432Z"
   },
   {
    "duration": 8,
    "start_time": "2022-06-08T20:55:23.682Z"
   },
   {
    "duration": 11,
    "start_time": "2022-06-08T20:55:23.693Z"
   },
   {
    "duration": 9,
    "start_time": "2022-06-08T20:55:23.705Z"
   },
   {
    "duration": 6,
    "start_time": "2022-06-08T20:55:23.715Z"
   },
   {
    "duration": 31,
    "start_time": "2022-06-08T20:55:23.723Z"
   },
   {
    "duration": 12,
    "start_time": "2022-06-08T20:55:23.755Z"
   },
   {
    "duration": 10,
    "start_time": "2022-06-08T20:55:23.768Z"
   },
   {
    "duration": 34,
    "start_time": "2022-06-08T20:55:23.780Z"
   },
   {
    "duration": 14,
    "start_time": "2022-06-08T20:55:23.815Z"
   },
   {
    "duration": 6,
    "start_time": "2022-06-08T20:55:23.830Z"
   },
   {
    "duration": 17,
    "start_time": "2022-06-08T20:55:23.838Z"
   },
   {
    "duration": 24,
    "start_time": "2022-06-08T20:55:23.856Z"
   },
   {
    "duration": 9,
    "start_time": "2022-06-08T20:55:23.881Z"
   },
   {
    "duration": 13,
    "start_time": "2022-06-08T20:55:23.891Z"
   },
   {
    "duration": 25,
    "start_time": "2022-06-08T20:55:23.905Z"
   },
   {
    "duration": 5,
    "start_time": "2022-06-08T20:55:23.932Z"
   },
   {
    "duration": 11,
    "start_time": "2022-06-08T20:55:23.938Z"
   },
   {
    "duration": 7,
    "start_time": "2022-06-08T20:55:23.951Z"
   },
   {
    "duration": 409,
    "start_time": "2022-06-08T20:55:23.959Z"
   },
   {
    "duration": 3,
    "start_time": "2022-06-08T20:55:24.369Z"
   },
   {
    "duration": 16,
    "start_time": "2022-06-08T20:55:24.373Z"
   },
   {
    "duration": 178,
    "start_time": "2022-06-08T20:55:24.391Z"
   },
   {
    "duration": 0,
    "start_time": "2022-06-08T20:55:24.571Z"
   },
   {
    "duration": 1904,
    "start_time": "2022-06-08T20:55:54.006Z"
   },
   {
    "duration": 1601,
    "start_time": "2022-06-08T20:55:55.912Z"
   },
   {
    "duration": 29,
    "start_time": "2022-06-08T20:55:57.514Z"
   },
   {
    "duration": 14,
    "start_time": "2022-06-08T20:55:57.544Z"
   },
   {
    "duration": 6,
    "start_time": "2022-06-08T20:55:57.560Z"
   },
   {
    "duration": 16,
    "start_time": "2022-06-08T20:55:57.568Z"
   },
   {
    "duration": 16,
    "start_time": "2022-06-08T20:55:57.585Z"
   },
   {
    "duration": 30,
    "start_time": "2022-06-08T20:55:57.602Z"
   },
   {
    "duration": 264,
    "start_time": "2022-06-08T20:55:57.633Z"
   },
   {
    "duration": 241,
    "start_time": "2022-06-08T20:55:57.900Z"
   },
   {
    "duration": 262,
    "start_time": "2022-06-08T20:55:58.143Z"
   },
   {
    "duration": 255,
    "start_time": "2022-06-08T20:55:58.407Z"
   },
   {
    "duration": 7,
    "start_time": "2022-06-08T20:55:58.663Z"
   },
   {
    "duration": 8,
    "start_time": "2022-06-08T20:55:58.672Z"
   },
   {
    "duration": 8,
    "start_time": "2022-06-08T20:55:58.682Z"
   },
   {
    "duration": 7,
    "start_time": "2022-06-08T20:55:58.692Z"
   },
   {
    "duration": 23,
    "start_time": "2022-06-08T20:55:58.701Z"
   },
   {
    "duration": 28,
    "start_time": "2022-06-08T20:55:58.725Z"
   },
   {
    "duration": 9,
    "start_time": "2022-06-08T20:55:58.755Z"
   },
   {
    "duration": 25,
    "start_time": "2022-06-08T20:55:58.765Z"
   },
   {
    "duration": 12,
    "start_time": "2022-06-08T20:55:58.792Z"
   },
   {
    "duration": 7,
    "start_time": "2022-06-08T20:55:58.805Z"
   },
   {
    "duration": 7,
    "start_time": "2022-06-08T20:55:58.813Z"
   },
   {
    "duration": 46,
    "start_time": "2022-06-08T20:55:58.821Z"
   },
   {
    "duration": 9,
    "start_time": "2022-06-08T20:55:58.868Z"
   },
   {
    "duration": 15,
    "start_time": "2022-06-08T20:55:58.878Z"
   },
   {
    "duration": 6,
    "start_time": "2022-06-08T20:55:58.894Z"
   },
   {
    "duration": 5,
    "start_time": "2022-06-08T20:55:58.903Z"
   },
   {
    "duration": 9,
    "start_time": "2022-06-08T20:55:58.909Z"
   },
   {
    "duration": 4,
    "start_time": "2022-06-08T20:55:58.920Z"
   },
   {
    "duration": 441,
    "start_time": "2022-06-08T20:55:58.926Z"
   },
   {
    "duration": 3,
    "start_time": "2022-06-08T20:55:59.368Z"
   },
   {
    "duration": 10,
    "start_time": "2022-06-08T20:55:59.373Z"
   },
   {
    "duration": 192,
    "start_time": "2022-06-08T20:55:59.385Z"
   },
   {
    "duration": 0,
    "start_time": "2022-06-08T20:55:59.578Z"
   },
   {
    "duration": 1781,
    "start_time": "2022-06-08T20:56:24.751Z"
   },
   {
    "duration": 1727,
    "start_time": "2022-06-08T20:56:26.535Z"
   },
   {
    "duration": 29,
    "start_time": "2022-06-08T20:56:28.263Z"
   },
   {
    "duration": 13,
    "start_time": "2022-06-08T20:56:28.294Z"
   },
   {
    "duration": 15,
    "start_time": "2022-06-08T20:56:28.308Z"
   },
   {
    "duration": 17,
    "start_time": "2022-06-08T20:56:28.324Z"
   },
   {
    "duration": 18,
    "start_time": "2022-06-08T20:56:28.342Z"
   },
   {
    "duration": 26,
    "start_time": "2022-06-08T20:56:28.362Z"
   },
   {
    "duration": 250,
    "start_time": "2022-06-08T20:56:28.390Z"
   },
   {
    "duration": 233,
    "start_time": "2022-06-08T20:56:28.644Z"
   },
   {
    "duration": 252,
    "start_time": "2022-06-08T20:56:28.878Z"
   },
   {
    "duration": 234,
    "start_time": "2022-06-08T20:56:29.132Z"
   },
   {
    "duration": 7,
    "start_time": "2022-06-08T20:56:29.368Z"
   },
   {
    "duration": 9,
    "start_time": "2022-06-08T20:56:29.377Z"
   },
   {
    "duration": 8,
    "start_time": "2022-06-08T20:56:29.388Z"
   },
   {
    "duration": 9,
    "start_time": "2022-06-08T20:56:29.398Z"
   },
   {
    "duration": 21,
    "start_time": "2022-06-08T20:56:29.408Z"
   },
   {
    "duration": 26,
    "start_time": "2022-06-08T20:56:29.430Z"
   },
   {
    "duration": 11,
    "start_time": "2022-06-08T20:56:29.458Z"
   },
   {
    "duration": 26,
    "start_time": "2022-06-08T20:56:29.470Z"
   },
   {
    "duration": 14,
    "start_time": "2022-06-08T20:56:29.497Z"
   },
   {
    "duration": 9,
    "start_time": "2022-06-08T20:56:29.513Z"
   },
   {
    "duration": 8,
    "start_time": "2022-06-08T20:56:29.523Z"
   },
   {
    "duration": 45,
    "start_time": "2022-06-08T20:56:29.532Z"
   },
   {
    "duration": 10,
    "start_time": "2022-06-08T20:56:29.579Z"
   },
   {
    "duration": 8,
    "start_time": "2022-06-08T20:56:29.590Z"
   },
   {
    "duration": 10,
    "start_time": "2022-06-08T20:56:29.599Z"
   },
   {
    "duration": 4,
    "start_time": "2022-06-08T20:56:29.612Z"
   },
   {
    "duration": 8,
    "start_time": "2022-06-08T20:56:29.618Z"
   },
   {
    "duration": 8,
    "start_time": "2022-06-08T20:56:29.628Z"
   },
   {
    "duration": 425,
    "start_time": "2022-06-08T20:56:29.637Z"
   },
   {
    "duration": 3,
    "start_time": "2022-06-08T20:56:30.064Z"
   },
   {
    "duration": 40,
    "start_time": "2022-06-08T20:56:30.069Z"
   },
   {
    "duration": 154,
    "start_time": "2022-06-08T20:56:30.111Z"
   },
   {
    "duration": 0,
    "start_time": "2022-06-08T20:56:30.267Z"
   },
   {
    "duration": 1737,
    "start_time": "2022-06-08T20:56:47.610Z"
   },
   {
    "duration": 1697,
    "start_time": "2022-06-08T20:56:49.349Z"
   },
   {
    "duration": 29,
    "start_time": "2022-06-08T20:56:51.048Z"
   },
   {
    "duration": 14,
    "start_time": "2022-06-08T20:56:51.078Z"
   },
   {
    "duration": 4,
    "start_time": "2022-06-08T20:56:51.093Z"
   },
   {
    "duration": 16,
    "start_time": "2022-06-08T20:56:51.099Z"
   },
   {
    "duration": 16,
    "start_time": "2022-06-08T20:56:51.116Z"
   },
   {
    "duration": 40,
    "start_time": "2022-06-08T20:56:51.134Z"
   },
   {
    "duration": 266,
    "start_time": "2022-06-08T20:56:51.176Z"
   },
   {
    "duration": 231,
    "start_time": "2022-06-08T20:56:51.451Z"
   },
   {
    "duration": 271,
    "start_time": "2022-06-08T20:56:51.685Z"
   },
   {
    "duration": 223,
    "start_time": "2022-06-08T20:56:51.957Z"
   },
   {
    "duration": 6,
    "start_time": "2022-06-08T20:56:52.181Z"
   },
   {
    "duration": 11,
    "start_time": "2022-06-08T20:56:52.189Z"
   },
   {
    "duration": 14,
    "start_time": "2022-06-08T20:56:52.201Z"
   },
   {
    "duration": 11,
    "start_time": "2022-06-08T20:56:52.217Z"
   },
   {
    "duration": 30,
    "start_time": "2022-06-08T20:56:52.229Z"
   },
   {
    "duration": 14,
    "start_time": "2022-06-08T20:56:52.261Z"
   },
   {
    "duration": 13,
    "start_time": "2022-06-08T20:56:52.277Z"
   },
   {
    "duration": 38,
    "start_time": "2022-06-08T20:56:52.292Z"
   },
   {
    "duration": 28,
    "start_time": "2022-06-08T20:56:52.332Z"
   },
   {
    "duration": 6,
    "start_time": "2022-06-08T20:56:52.361Z"
   },
   {
    "duration": 7,
    "start_time": "2022-06-08T20:56:52.369Z"
   },
   {
    "duration": 29,
    "start_time": "2022-06-08T20:56:52.377Z"
   },
   {
    "duration": 22,
    "start_time": "2022-06-08T20:56:52.408Z"
   },
   {
    "duration": 9,
    "start_time": "2022-06-08T20:56:52.432Z"
   },
   {
    "duration": 11,
    "start_time": "2022-06-08T20:56:52.442Z"
   },
   {
    "duration": 3,
    "start_time": "2022-06-08T20:56:52.457Z"
   },
   {
    "duration": 11,
    "start_time": "2022-06-08T20:56:52.461Z"
   },
   {
    "duration": 9,
    "start_time": "2022-06-08T20:56:52.473Z"
   },
   {
    "duration": 574,
    "start_time": "2022-06-08T20:56:52.483Z"
   },
   {
    "duration": 2,
    "start_time": "2022-06-08T20:56:53.059Z"
   },
   {
    "duration": 24,
    "start_time": "2022-06-08T20:56:53.063Z"
   },
   {
    "duration": 173,
    "start_time": "2022-06-08T20:56:53.089Z"
   },
   {
    "duration": 0,
    "start_time": "2022-06-08T20:56:53.264Z"
   },
   {
    "duration": 1809,
    "start_time": "2022-06-08T20:58:13.309Z"
   },
   {
    "duration": 1696,
    "start_time": "2022-06-08T20:58:15.121Z"
   },
   {
    "duration": 33,
    "start_time": "2022-06-08T20:58:16.818Z"
   },
   {
    "duration": 17,
    "start_time": "2022-06-08T20:58:16.853Z"
   },
   {
    "duration": 6,
    "start_time": "2022-06-08T20:58:16.872Z"
   },
   {
    "duration": 22,
    "start_time": "2022-06-08T20:58:16.880Z"
   },
   {
    "duration": 16,
    "start_time": "2022-06-08T20:58:16.905Z"
   },
   {
    "duration": 54,
    "start_time": "2022-06-08T20:58:16.923Z"
   },
   {
    "duration": 249,
    "start_time": "2022-06-08T20:58:16.979Z"
   },
   {
    "duration": 234,
    "start_time": "2022-06-08T20:58:17.230Z"
   },
   {
    "duration": 255,
    "start_time": "2022-06-08T20:58:17.466Z"
   },
   {
    "duration": 246,
    "start_time": "2022-06-08T20:58:17.722Z"
   },
   {
    "duration": 7,
    "start_time": "2022-06-08T20:58:17.970Z"
   },
   {
    "duration": 13,
    "start_time": "2022-06-08T20:58:17.978Z"
   },
   {
    "duration": 9,
    "start_time": "2022-06-08T20:58:17.993Z"
   },
   {
    "duration": 6,
    "start_time": "2022-06-08T20:58:18.004Z"
   },
   {
    "duration": 46,
    "start_time": "2022-06-08T20:58:18.012Z"
   },
   {
    "duration": 13,
    "start_time": "2022-06-08T20:58:18.060Z"
   },
   {
    "duration": 8,
    "start_time": "2022-06-08T20:58:18.075Z"
   },
   {
    "duration": 24,
    "start_time": "2022-06-08T20:58:18.084Z"
   },
   {
    "duration": 18,
    "start_time": "2022-06-08T20:58:18.110Z"
   },
   {
    "duration": 7,
    "start_time": "2022-06-08T20:58:18.153Z"
   },
   {
    "duration": 8,
    "start_time": "2022-06-08T20:58:18.161Z"
   },
   {
    "duration": 27,
    "start_time": "2022-06-08T20:58:18.171Z"
   },
   {
    "duration": 8,
    "start_time": "2022-06-08T20:58:18.200Z"
   },
   {
    "duration": 5,
    "start_time": "2022-06-08T20:58:18.210Z"
   },
   {
    "duration": 11,
    "start_time": "2022-06-08T20:58:18.217Z"
   },
   {
    "duration": 3,
    "start_time": "2022-06-08T20:58:18.252Z"
   },
   {
    "duration": 9,
    "start_time": "2022-06-08T20:58:18.257Z"
   },
   {
    "duration": 7,
    "start_time": "2022-06-08T20:58:18.267Z"
   },
   {
    "duration": 392,
    "start_time": "2022-06-08T20:58:18.275Z"
   },
   {
    "duration": 3,
    "start_time": "2022-06-08T20:58:18.668Z"
   },
   {
    "duration": 9,
    "start_time": "2022-06-08T20:58:18.673Z"
   },
   {
    "duration": 188,
    "start_time": "2022-06-08T20:58:18.683Z"
   },
   {
    "duration": 0,
    "start_time": "2022-06-08T20:58:18.873Z"
   },
   {
    "duration": 14,
    "start_time": "2022-06-08T21:02:35.916Z"
   },
   {
    "duration": 16,
    "start_time": "2022-06-08T21:02:57.857Z"
   },
   {
    "duration": 12,
    "start_time": "2022-06-08T21:03:17.811Z"
   },
   {
    "duration": 17,
    "start_time": "2022-06-08T21:03:37.690Z"
   },
   {
    "duration": 15,
    "start_time": "2022-06-08T21:06:08.708Z"
   },
   {
    "duration": 168,
    "start_time": "2022-06-08T21:07:32.536Z"
   },
   {
    "duration": 37,
    "start_time": "2022-06-08T21:07:38.864Z"
   },
   {
    "duration": 23,
    "start_time": "2022-06-08T21:08:06.734Z"
   },
   {
    "duration": 22,
    "start_time": "2022-06-08T21:08:24.382Z"
   },
   {
    "duration": 22,
    "start_time": "2022-06-08T21:08:42.761Z"
   },
   {
    "duration": 31,
    "start_time": "2022-06-08T21:09:09.890Z"
   },
   {
    "duration": 19,
    "start_time": "2022-06-08T21:11:27.108Z"
   },
   {
    "duration": 11,
    "start_time": "2022-06-08T21:12:37.522Z"
   },
   {
    "duration": 12,
    "start_time": "2022-06-08T21:12:53.872Z"
   },
   {
    "duration": 14,
    "start_time": "2022-06-08T21:13:36.708Z"
   },
   {
    "duration": 1680,
    "start_time": "2022-06-08T21:38:16.213Z"
   },
   {
    "duration": 1651,
    "start_time": "2022-06-08T21:38:17.895Z"
   },
   {
    "duration": 30,
    "start_time": "2022-06-08T21:38:19.548Z"
   },
   {
    "duration": 14,
    "start_time": "2022-06-08T21:38:19.580Z"
   },
   {
    "duration": 3,
    "start_time": "2022-06-08T21:38:19.596Z"
   },
   {
    "duration": 15,
    "start_time": "2022-06-08T21:38:19.601Z"
   },
   {
    "duration": 14,
    "start_time": "2022-06-08T21:38:19.618Z"
   },
   {
    "duration": 42,
    "start_time": "2022-06-08T21:38:19.633Z"
   },
   {
    "duration": 250,
    "start_time": "2022-06-08T21:38:19.676Z"
   },
   {
    "duration": 231,
    "start_time": "2022-06-08T21:38:19.929Z"
   },
   {
    "duration": 248,
    "start_time": "2022-06-08T21:38:20.161Z"
   },
   {
    "duration": 208,
    "start_time": "2022-06-08T21:38:20.410Z"
   },
   {
    "duration": 5,
    "start_time": "2022-06-08T21:38:20.620Z"
   },
   {
    "duration": 37,
    "start_time": "2022-06-08T21:38:20.627Z"
   },
   {
    "duration": 29,
    "start_time": "2022-06-08T21:38:20.666Z"
   },
   {
    "duration": 19,
    "start_time": "2022-06-08T21:38:20.697Z"
   },
   {
    "duration": 35,
    "start_time": "2022-06-08T21:38:20.717Z"
   },
   {
    "duration": 30,
    "start_time": "2022-06-08T21:38:20.754Z"
   },
   {
    "duration": 29,
    "start_time": "2022-06-08T21:38:20.785Z"
   },
   {
    "duration": 139,
    "start_time": "2022-06-08T21:38:20.815Z"
   },
   {
    "duration": 14,
    "start_time": "2022-06-08T21:38:20.955Z"
   },
   {
    "duration": 7,
    "start_time": "2022-06-08T21:38:20.971Z"
   },
   {
    "duration": 26,
    "start_time": "2022-06-08T21:38:20.979Z"
   },
   {
    "duration": 33,
    "start_time": "2022-06-08T21:38:21.006Z"
   },
   {
    "duration": 22,
    "start_time": "2022-06-08T21:38:21.041Z"
   },
   {
    "duration": 16,
    "start_time": "2022-06-08T21:38:21.064Z"
   },
   {
    "duration": 27,
    "start_time": "2022-06-08T21:38:21.081Z"
   },
   {
    "duration": 16,
    "start_time": "2022-06-08T21:38:21.111Z"
   },
   {
    "duration": 38,
    "start_time": "2022-06-08T21:38:21.129Z"
   },
   {
    "duration": 51,
    "start_time": "2022-06-08T21:38:21.168Z"
   },
   {
    "duration": 355,
    "start_time": "2022-06-08T21:38:21.221Z"
   },
   {
    "duration": 77,
    "start_time": "2022-06-08T21:38:21.577Z"
   },
   {
    "duration": 29,
    "start_time": "2022-06-08T21:38:21.655Z"
   },
   {
    "duration": 124,
    "start_time": "2022-06-08T21:41:51.326Z"
   },
   {
    "duration": 22979,
    "start_time": "2022-06-09T10:05:57.196Z"
   },
   {
    "duration": 1201,
    "start_time": "2022-06-09T10:06:20.178Z"
   },
   {
    "duration": 0,
    "start_time": "2022-06-09T10:06:21.382Z"
   },
   {
    "duration": 0,
    "start_time": "2022-06-09T10:06:21.383Z"
   },
   {
    "duration": 0,
    "start_time": "2022-06-09T10:06:21.384Z"
   },
   {
    "duration": 0,
    "start_time": "2022-06-09T10:06:21.385Z"
   },
   {
    "duration": 0,
    "start_time": "2022-06-09T10:06:21.386Z"
   },
   {
    "duration": 0,
    "start_time": "2022-06-09T10:06:21.387Z"
   },
   {
    "duration": 0,
    "start_time": "2022-06-09T10:06:21.388Z"
   },
   {
    "duration": 0,
    "start_time": "2022-06-09T10:06:21.389Z"
   },
   {
    "duration": 0,
    "start_time": "2022-06-09T10:06:21.390Z"
   },
   {
    "duration": 0,
    "start_time": "2022-06-09T10:06:21.391Z"
   },
   {
    "duration": 0,
    "start_time": "2022-06-09T10:06:21.392Z"
   },
   {
    "duration": 0,
    "start_time": "2022-06-09T10:06:21.393Z"
   },
   {
    "duration": 0,
    "start_time": "2022-06-09T10:06:21.394Z"
   },
   {
    "duration": 0,
    "start_time": "2022-06-09T10:06:21.395Z"
   },
   {
    "duration": 0,
    "start_time": "2022-06-09T10:06:21.396Z"
   },
   {
    "duration": 0,
    "start_time": "2022-06-09T10:06:21.397Z"
   },
   {
    "duration": 0,
    "start_time": "2022-06-09T10:06:21.398Z"
   },
   {
    "duration": 0,
    "start_time": "2022-06-09T10:06:21.399Z"
   },
   {
    "duration": 0,
    "start_time": "2022-06-09T10:06:21.400Z"
   },
   {
    "duration": 0,
    "start_time": "2022-06-09T10:06:21.401Z"
   },
   {
    "duration": 0,
    "start_time": "2022-06-09T10:06:21.402Z"
   },
   {
    "duration": 0,
    "start_time": "2022-06-09T10:06:21.403Z"
   },
   {
    "duration": 0,
    "start_time": "2022-06-09T10:06:21.404Z"
   },
   {
    "duration": 0,
    "start_time": "2022-06-09T10:06:21.406Z"
   },
   {
    "duration": 0,
    "start_time": "2022-06-09T10:06:21.407Z"
   },
   {
    "duration": 0,
    "start_time": "2022-06-09T10:06:21.408Z"
   },
   {
    "duration": 0,
    "start_time": "2022-06-09T10:06:21.409Z"
   },
   {
    "duration": 0,
    "start_time": "2022-06-09T10:06:21.410Z"
   },
   {
    "duration": 0,
    "start_time": "2022-06-09T10:06:21.411Z"
   },
   {
    "duration": 0,
    "start_time": "2022-06-09T10:06:21.412Z"
   },
   {
    "duration": 0,
    "start_time": "2022-06-09T10:06:21.412Z"
   },
   {
    "duration": 0,
    "start_time": "2022-06-09T10:06:21.414Z"
   },
   {
    "duration": 0,
    "start_time": "2022-06-09T10:06:21.461Z"
   },
   {
    "duration": 15,
    "start_time": "2022-06-09T10:06:47.853Z"
   },
   {
    "duration": 2183,
    "start_time": "2022-06-09T10:06:54.001Z"
   },
   {
    "duration": 2079,
    "start_time": "2022-06-09T10:06:56.187Z"
   },
   {
    "duration": 116,
    "start_time": "2022-06-09T10:06:58.270Z"
   },
   {
    "duration": 16,
    "start_time": "2022-06-09T10:06:58.389Z"
   },
   {
    "duration": 20,
    "start_time": "2022-06-09T10:06:58.407Z"
   },
   {
    "duration": 57,
    "start_time": "2022-06-09T10:06:58.429Z"
   },
   {
    "duration": 19,
    "start_time": "2022-06-09T10:06:58.488Z"
   },
   {
    "duration": 39,
    "start_time": "2022-06-09T10:06:58.509Z"
   },
   {
    "duration": 314,
    "start_time": "2022-06-09T10:06:58.550Z"
   },
   {
    "duration": 257,
    "start_time": "2022-06-09T10:06:58.868Z"
   },
   {
    "duration": 293,
    "start_time": "2022-06-09T10:06:59.127Z"
   },
   {
    "duration": 374,
    "start_time": "2022-06-09T10:06:59.421Z"
   },
   {
    "duration": 6,
    "start_time": "2022-06-09T10:06:59.797Z"
   },
   {
    "duration": 27,
    "start_time": "2022-06-09T10:06:59.805Z"
   },
   {
    "duration": 23,
    "start_time": "2022-06-09T10:06:59.834Z"
   },
   {
    "duration": 31,
    "start_time": "2022-06-09T10:06:59.858Z"
   },
   {
    "duration": 31,
    "start_time": "2022-06-09T10:06:59.891Z"
   },
   {
    "duration": 26,
    "start_time": "2022-06-09T10:06:59.924Z"
   },
   {
    "duration": 26,
    "start_time": "2022-06-09T10:06:59.952Z"
   },
   {
    "duration": 50,
    "start_time": "2022-06-09T10:06:59.980Z"
   },
   {
    "duration": 26,
    "start_time": "2022-06-09T10:07:00.032Z"
   },
   {
    "duration": 24,
    "start_time": "2022-06-09T10:07:00.065Z"
   },
   {
    "duration": 26,
    "start_time": "2022-06-09T10:07:00.091Z"
   },
   {
    "duration": 51,
    "start_time": "2022-06-09T10:07:00.118Z"
   },
   {
    "duration": 20,
    "start_time": "2022-06-09T10:07:00.174Z"
   },
   {
    "duration": 45,
    "start_time": "2022-06-09T10:07:00.195Z"
   },
   {
    "duration": 57,
    "start_time": "2022-06-09T10:07:00.242Z"
   },
   {
    "duration": 24,
    "start_time": "2022-06-09T10:07:00.302Z"
   },
   {
    "duration": 20,
    "start_time": "2022-06-09T10:07:00.327Z"
   },
   {
    "duration": 35,
    "start_time": "2022-06-09T10:07:00.349Z"
   },
   {
    "duration": 514,
    "start_time": "2022-06-09T10:07:00.386Z"
   },
   {
    "duration": 69,
    "start_time": "2022-06-09T10:07:00.902Z"
   },
   {
    "duration": 37,
    "start_time": "2022-06-09T10:07:00.974Z"
   },
   {
    "duration": 36,
    "start_time": "2022-06-09T10:07:01.014Z"
   },
   {
    "duration": 223,
    "start_time": "2022-06-09T10:07:01.051Z"
   },
   {
    "duration": 5,
    "start_time": "2022-06-09T10:07:58.192Z"
   },
   {
    "duration": 21,
    "start_time": "2022-06-09T10:08:03.886Z"
   },
   {
    "duration": 38,
    "start_time": "2022-06-09T10:32:09.313Z"
   },
   {
    "duration": 13,
    "start_time": "2022-06-09T10:32:25.996Z"
   },
   {
    "duration": 4,
    "start_time": "2022-06-09T10:34:07.025Z"
   },
   {
    "duration": 6,
    "start_time": "2022-06-09T10:34:39.721Z"
   },
   {
    "duration": 7,
    "start_time": "2022-06-09T10:58:37.881Z"
   },
   {
    "duration": 2072,
    "start_time": "2022-06-09T10:58:44.131Z"
   },
   {
    "duration": 1779,
    "start_time": "2022-06-09T10:58:46.206Z"
   },
   {
    "duration": 29,
    "start_time": "2022-06-09T10:58:47.987Z"
   },
   {
    "duration": 16,
    "start_time": "2022-06-09T10:58:48.018Z"
   },
   {
    "duration": 3,
    "start_time": "2022-06-09T10:58:48.035Z"
   },
   {
    "duration": 13,
    "start_time": "2022-06-09T10:58:48.040Z"
   },
   {
    "duration": 15,
    "start_time": "2022-06-09T10:58:48.055Z"
   },
   {
    "duration": 27,
    "start_time": "2022-06-09T10:58:48.071Z"
   },
   {
    "duration": 307,
    "start_time": "2022-06-09T10:58:48.100Z"
   },
   {
    "duration": 262,
    "start_time": "2022-06-09T10:58:48.409Z"
   },
   {
    "duration": 291,
    "start_time": "2022-06-09T10:58:48.673Z"
   },
   {
    "duration": 252,
    "start_time": "2022-06-09T10:58:48.966Z"
   },
   {
    "duration": 8,
    "start_time": "2022-06-09T10:58:49.219Z"
   },
   {
    "duration": 9,
    "start_time": "2022-06-09T10:58:49.229Z"
   },
   {
    "duration": 24,
    "start_time": "2022-06-09T10:58:49.239Z"
   },
   {
    "duration": 7,
    "start_time": "2022-06-09T10:58:49.265Z"
   },
   {
    "duration": 20,
    "start_time": "2022-06-09T10:58:49.274Z"
   },
   {
    "duration": 16,
    "start_time": "2022-06-09T10:58:49.296Z"
   },
   {
    "duration": 10,
    "start_time": "2022-06-09T10:58:49.314Z"
   },
   {
    "duration": 156,
    "start_time": "2022-06-09T10:58:49.325Z"
   },
   {
    "duration": 16,
    "start_time": "2022-06-09T10:58:49.482Z"
   },
   {
    "duration": 6,
    "start_time": "2022-06-09T10:58:49.500Z"
   },
   {
    "duration": 10,
    "start_time": "2022-06-09T10:58:49.507Z"
   },
   {
    "duration": 42,
    "start_time": "2022-06-09T10:58:49.519Z"
   },
   {
    "duration": 8,
    "start_time": "2022-06-09T10:58:49.563Z"
   },
   {
    "duration": 8,
    "start_time": "2022-06-09T10:58:49.572Z"
   },
   {
    "duration": 4,
    "start_time": "2022-06-09T10:58:49.582Z"
   },
   {
    "duration": 3,
    "start_time": "2022-06-09T10:58:49.589Z"
   },
   {
    "duration": 7,
    "start_time": "2022-06-09T10:58:49.593Z"
   },
   {
    "duration": 8,
    "start_time": "2022-06-09T10:58:49.601Z"
   },
   {
    "duration": 450,
    "start_time": "2022-06-09T10:58:49.610Z"
   },
   {
    "duration": 3,
    "start_time": "2022-06-09T10:58:50.062Z"
   },
   {
    "duration": 7,
    "start_time": "2022-06-09T10:58:50.066Z"
   },
   {
    "duration": 5,
    "start_time": "2022-06-09T10:58:50.075Z"
   },
   {
    "duration": 18,
    "start_time": "2022-06-09T10:58:50.082Z"
   },
   {
    "duration": 376,
    "start_time": "2022-06-09T10:58:50.102Z"
   },
   {
    "duration": 145,
    "start_time": "2022-06-09T11:43:59.466Z"
   },
   {
    "duration": 407,
    "start_time": "2022-06-09T11:48:47.257Z"
   },
   {
    "duration": 2203,
    "start_time": "2022-06-09T11:53:04.377Z"
   },
   {
    "duration": 1798,
    "start_time": "2022-06-09T11:53:06.583Z"
   },
   {
    "duration": 28,
    "start_time": "2022-06-09T11:53:08.383Z"
   },
   {
    "duration": 17,
    "start_time": "2022-06-09T11:53:08.413Z"
   },
   {
    "duration": 3,
    "start_time": "2022-06-09T11:53:08.433Z"
   },
   {
    "duration": 15,
    "start_time": "2022-06-09T11:53:08.438Z"
   },
   {
    "duration": 24,
    "start_time": "2022-06-09T11:53:08.454Z"
   },
   {
    "duration": 34,
    "start_time": "2022-06-09T11:53:08.480Z"
   },
   {
    "duration": 304,
    "start_time": "2022-06-09T11:53:08.517Z"
   },
   {
    "duration": 247,
    "start_time": "2022-06-09T11:53:08.823Z"
   },
   {
    "duration": 270,
    "start_time": "2022-06-09T11:53:09.072Z"
   },
   {
    "duration": 245,
    "start_time": "2022-06-09T11:53:09.344Z"
   },
   {
    "duration": 6,
    "start_time": "2022-06-09T11:53:09.591Z"
   },
   {
    "duration": 15,
    "start_time": "2022-06-09T11:53:09.600Z"
   },
   {
    "duration": 15,
    "start_time": "2022-06-09T11:53:09.617Z"
   },
   {
    "duration": 7,
    "start_time": "2022-06-09T11:53:09.634Z"
   },
   {
    "duration": 22,
    "start_time": "2022-06-09T11:53:09.643Z"
   },
   {
    "duration": 15,
    "start_time": "2022-06-09T11:53:09.667Z"
   },
   {
    "duration": 116,
    "start_time": "2022-06-09T11:53:09.684Z"
   },
   {
    "duration": 24,
    "start_time": "2022-06-09T11:53:09.802Z"
   },
   {
    "duration": 13,
    "start_time": "2022-06-09T11:53:09.827Z"
   },
   {
    "duration": 18,
    "start_time": "2022-06-09T11:53:09.842Z"
   },
   {
    "duration": 12,
    "start_time": "2022-06-09T11:53:09.861Z"
   },
   {
    "duration": 30,
    "start_time": "2022-06-09T11:53:09.874Z"
   },
   {
    "duration": 9,
    "start_time": "2022-06-09T11:53:09.905Z"
   },
   {
    "duration": 4,
    "start_time": "2022-06-09T11:53:09.916Z"
   },
   {
    "duration": 5,
    "start_time": "2022-06-09T11:53:09.922Z"
   },
   {
    "duration": 7,
    "start_time": "2022-06-09T11:53:09.928Z"
   },
   {
    "duration": 12,
    "start_time": "2022-06-09T11:53:09.937Z"
   },
   {
    "duration": 3,
    "start_time": "2022-06-09T11:53:09.959Z"
   },
   {
    "duration": 406,
    "start_time": "2022-06-09T11:53:09.964Z"
   },
   {
    "duration": 3,
    "start_time": "2022-06-09T11:53:10.372Z"
   },
   {
    "duration": 11,
    "start_time": "2022-06-09T11:53:10.377Z"
   },
   {
    "duration": 6,
    "start_time": "2022-06-09T11:53:10.390Z"
   },
   {
    "duration": 0,
    "start_time": "2022-06-09T11:53:10.398Z"
   },
   {
    "duration": 5,
    "start_time": "2022-06-09T11:53:40.005Z"
   },
   {
    "duration": 524,
    "start_time": "2022-06-09T11:53:50.948Z"
   },
   {
    "duration": 5,
    "start_time": "2022-06-09T11:54:41.266Z"
   },
   {
    "duration": 2214,
    "start_time": "2022-06-09T11:55:21.172Z"
   },
   {
    "duration": 1813,
    "start_time": "2022-06-09T11:55:23.388Z"
   },
   {
    "duration": 28,
    "start_time": "2022-06-09T11:55:25.202Z"
   },
   {
    "duration": 16,
    "start_time": "2022-06-09T11:55:25.232Z"
   },
   {
    "duration": 4,
    "start_time": "2022-06-09T11:55:25.250Z"
   },
   {
    "duration": 24,
    "start_time": "2022-06-09T11:55:25.255Z"
   },
   {
    "duration": 17,
    "start_time": "2022-06-09T11:55:25.281Z"
   },
   {
    "duration": 31,
    "start_time": "2022-06-09T11:55:25.300Z"
   },
   {
    "duration": 287,
    "start_time": "2022-06-09T11:55:25.333Z"
   },
   {
    "duration": 247,
    "start_time": "2022-06-09T11:55:25.623Z"
   },
   {
    "duration": 273,
    "start_time": "2022-06-09T11:55:25.872Z"
   },
   {
    "duration": 278,
    "start_time": "2022-06-09T11:55:26.147Z"
   },
   {
    "duration": 7,
    "start_time": "2022-06-09T11:55:26.427Z"
   },
   {
    "duration": 21,
    "start_time": "2022-06-09T11:55:26.436Z"
   },
   {
    "duration": 17,
    "start_time": "2022-06-09T11:55:26.458Z"
   },
   {
    "duration": 17,
    "start_time": "2022-06-09T11:55:26.477Z"
   },
   {
    "duration": 43,
    "start_time": "2022-06-09T11:55:26.496Z"
   },
   {
    "duration": 13,
    "start_time": "2022-06-09T11:55:26.541Z"
   },
   {
    "duration": 22,
    "start_time": "2022-06-09T11:55:26.555Z"
   },
   {
    "duration": 34,
    "start_time": "2022-06-09T11:55:26.579Z"
   },
   {
    "duration": 134,
    "start_time": "2022-06-09T11:55:26.614Z"
   },
   {
    "duration": 10,
    "start_time": "2022-06-09T11:55:26.749Z"
   },
   {
    "duration": 22,
    "start_time": "2022-06-09T11:55:26.761Z"
   },
   {
    "duration": 59,
    "start_time": "2022-06-09T11:55:26.785Z"
   },
   {
    "duration": 16,
    "start_time": "2022-06-09T11:55:26.845Z"
   },
   {
    "duration": 19,
    "start_time": "2022-06-09T11:55:26.863Z"
   },
   {
    "duration": 42,
    "start_time": "2022-06-09T11:55:26.883Z"
   },
   {
    "duration": 17,
    "start_time": "2022-06-09T11:55:26.930Z"
   },
   {
    "duration": 23,
    "start_time": "2022-06-09T11:55:26.949Z"
   },
   {
    "duration": 24,
    "start_time": "2022-06-09T11:55:26.974Z"
   },
   {
    "duration": 367,
    "start_time": "2022-06-09T11:55:26.999Z"
   },
   {
    "duration": 2,
    "start_time": "2022-06-09T11:55:27.368Z"
   },
   {
    "duration": 22,
    "start_time": "2022-06-09T11:55:27.372Z"
   },
   {
    "duration": 16,
    "start_time": "2022-06-09T11:55:27.395Z"
   },
   {
    "duration": 661,
    "start_time": "2022-06-09T11:55:27.413Z"
   },
   {
    "duration": 5,
    "start_time": "2022-06-09T11:55:28.075Z"
   },
   {
    "duration": 592,
    "start_time": "2022-06-09T11:55:28.081Z"
   },
   {
    "duration": 4,
    "start_time": "2022-06-09T12:07:03.188Z"
   },
   {
    "duration": 33,
    "start_time": "2022-06-09T12:08:45.442Z"
   },
   {
    "duration": 5,
    "start_time": "2022-06-09T12:08:54.493Z"
   },
   {
    "duration": 5,
    "start_time": "2022-06-09T12:09:09.835Z"
   },
   {
    "duration": 140,
    "start_time": "2022-06-09T12:09:37.182Z"
   },
   {
    "duration": 11,
    "start_time": "2022-06-09T12:09:49.671Z"
   },
   {
    "duration": 4,
    "start_time": "2022-06-09T12:40:43.752Z"
   },
   {
    "duration": 5,
    "start_time": "2022-06-09T12:42:47.741Z"
   },
   {
    "duration": 3,
    "start_time": "2022-06-09T12:42:49.968Z"
   },
   {
    "duration": 3,
    "start_time": "2022-06-09T12:42:56.530Z"
   },
   {
    "duration": 21,
    "start_time": "2022-06-09T12:43:14.653Z"
   },
   {
    "duration": 26,
    "start_time": "2022-06-09T12:44:46.253Z"
   },
   {
    "duration": 2199,
    "start_time": "2022-06-09T12:44:54.076Z"
   },
   {
    "duration": 1914,
    "start_time": "2022-06-09T12:44:56.278Z"
   },
   {
    "duration": 27,
    "start_time": "2022-06-09T12:44:58.194Z"
   },
   {
    "duration": 16,
    "start_time": "2022-06-09T12:44:58.223Z"
   },
   {
    "duration": 5,
    "start_time": "2022-06-09T12:44:58.240Z"
   },
   {
    "duration": 18,
    "start_time": "2022-06-09T12:44:58.247Z"
   },
   {
    "duration": 16,
    "start_time": "2022-06-09T12:44:58.266Z"
   },
   {
    "duration": 32,
    "start_time": "2022-06-09T12:44:58.284Z"
   },
   {
    "duration": 278,
    "start_time": "2022-06-09T12:44:58.318Z"
   },
   {
    "duration": 261,
    "start_time": "2022-06-09T12:44:58.598Z"
   },
   {
    "duration": 274,
    "start_time": "2022-06-09T12:44:58.861Z"
   },
   {
    "duration": 241,
    "start_time": "2022-06-09T12:44:59.136Z"
   },
   {
    "duration": 7,
    "start_time": "2022-06-09T12:44:59.379Z"
   },
   {
    "duration": 12,
    "start_time": "2022-06-09T12:44:59.387Z"
   },
   {
    "duration": 29,
    "start_time": "2022-06-09T12:44:59.400Z"
   },
   {
    "duration": 27,
    "start_time": "2022-06-09T12:44:59.431Z"
   },
   {
    "duration": 28,
    "start_time": "2022-06-09T12:44:59.460Z"
   },
   {
    "duration": 19,
    "start_time": "2022-06-09T12:44:59.490Z"
   },
   {
    "duration": 9,
    "start_time": "2022-06-09T12:44:59.511Z"
   },
   {
    "duration": 142,
    "start_time": "2022-06-09T12:44:59.522Z"
   },
   {
    "duration": 15,
    "start_time": "2022-06-09T12:44:59.666Z"
   },
   {
    "duration": 10,
    "start_time": "2022-06-09T12:44:59.683Z"
   },
   {
    "duration": 11,
    "start_time": "2022-06-09T12:44:59.695Z"
   },
   {
    "duration": 29,
    "start_time": "2022-06-09T12:44:59.708Z"
   },
   {
    "duration": 19,
    "start_time": "2022-06-09T12:44:59.739Z"
   },
   {
    "duration": 5,
    "start_time": "2022-06-09T12:44:59.760Z"
   },
   {
    "duration": 5,
    "start_time": "2022-06-09T12:44:59.766Z"
   },
   {
    "duration": 3,
    "start_time": "2022-06-09T12:44:59.774Z"
   },
   {
    "duration": 6,
    "start_time": "2022-06-09T12:44:59.779Z"
   },
   {
    "duration": 6,
    "start_time": "2022-06-09T12:44:59.786Z"
   },
   {
    "duration": 6,
    "start_time": "2022-06-09T12:44:59.793Z"
   },
   {
    "duration": 9,
    "start_time": "2022-06-09T12:44:59.800Z"
   },
   {
    "duration": 182,
    "start_time": "2022-06-09T12:44:59.811Z"
   },
   {
    "duration": 0,
    "start_time": "2022-06-09T12:44:59.994Z"
   },
   {
    "duration": 0,
    "start_time": "2022-06-09T12:44:59.995Z"
   },
   {
    "duration": 0,
    "start_time": "2022-06-09T12:44:59.996Z"
   },
   {
    "duration": 0,
    "start_time": "2022-06-09T12:44:59.997Z"
   },
   {
    "duration": 0,
    "start_time": "2022-06-09T12:44:59.999Z"
   },
   {
    "duration": 0,
    "start_time": "2022-06-09T12:45:00.000Z"
   },
   {
    "duration": 0,
    "start_time": "2022-06-09T12:45:00.001Z"
   },
   {
    "duration": 6,
    "start_time": "2022-06-09T13:07:14.469Z"
   },
   {
    "duration": 4,
    "start_time": "2022-06-09T13:07:17.213Z"
   },
   {
    "duration": 3,
    "start_time": "2022-06-09T13:07:19.357Z"
   },
   {
    "duration": 26,
    "start_time": "2022-06-09T13:07:21.751Z"
   },
   {
    "duration": 5,
    "start_time": "2022-06-09T13:07:48.484Z"
   },
   {
    "duration": 3,
    "start_time": "2022-06-09T13:07:49.786Z"
   },
   {
    "duration": 3,
    "start_time": "2022-06-09T13:07:50.177Z"
   },
   {
    "duration": 321,
    "start_time": "2022-06-09T13:07:50.746Z"
   },
   {
    "duration": 3,
    "start_time": "2022-06-09T13:07:59.479Z"
   },
   {
    "duration": 6,
    "start_time": "2022-06-09T13:08:01.937Z"
   },
   {
    "duration": 5,
    "start_time": "2022-06-09T13:20:46.764Z"
   },
   {
    "duration": 10,
    "start_time": "2022-06-09T13:21:19.206Z"
   },
   {
    "duration": 5,
    "start_time": "2022-06-09T13:21:20.964Z"
   },
   {
    "duration": 19,
    "start_time": "2022-06-09T13:21:22.856Z"
   },
   {
    "duration": 2169,
    "start_time": "2022-06-09T13:21:33.658Z"
   },
   {
    "duration": 4,
    "start_time": "2022-06-09T13:21:35.829Z"
   },
   {
    "duration": 31,
    "start_time": "2022-06-09T13:21:35.835Z"
   },
   {
    "duration": 12,
    "start_time": "2022-06-09T13:21:35.868Z"
   },
   {
    "duration": 4,
    "start_time": "2022-06-09T13:21:35.883Z"
   },
   {
    "duration": 17,
    "start_time": "2022-06-09T13:21:35.889Z"
   },
   {
    "duration": 15,
    "start_time": "2022-06-09T13:21:35.907Z"
   },
   {
    "duration": 39,
    "start_time": "2022-06-09T13:21:35.924Z"
   },
   {
    "duration": 276,
    "start_time": "2022-06-09T13:21:35.965Z"
   },
   {
    "duration": 267,
    "start_time": "2022-06-09T13:21:36.243Z"
   },
   {
    "duration": 286,
    "start_time": "2022-06-09T13:21:36.513Z"
   },
   {
    "duration": 258,
    "start_time": "2022-06-09T13:21:36.801Z"
   },
   {
    "duration": 8,
    "start_time": "2022-06-09T13:21:37.061Z"
   },
   {
    "duration": 24,
    "start_time": "2022-06-09T13:21:37.072Z"
   },
   {
    "duration": 25,
    "start_time": "2022-06-09T13:21:37.098Z"
   },
   {
    "duration": 19,
    "start_time": "2022-06-09T13:21:37.125Z"
   },
   {
    "duration": 37,
    "start_time": "2022-06-09T13:21:37.146Z"
   },
   {
    "duration": 24,
    "start_time": "2022-06-09T13:21:37.185Z"
   },
   {
    "duration": 10,
    "start_time": "2022-06-09T13:21:37.210Z"
   },
   {
    "duration": 34,
    "start_time": "2022-06-09T13:21:37.222Z"
   },
   {
    "duration": 15,
    "start_time": "2022-06-09T13:21:37.258Z"
   },
   {
    "duration": 17,
    "start_time": "2022-06-09T13:21:37.275Z"
   },
   {
    "duration": 10,
    "start_time": "2022-06-09T13:21:37.294Z"
   },
   {
    "duration": 31,
    "start_time": "2022-06-09T13:21:37.306Z"
   },
   {
    "duration": 7,
    "start_time": "2022-06-09T13:21:37.339Z"
   },
   {
    "duration": 13,
    "start_time": "2022-06-09T13:21:37.348Z"
   },
   {
    "duration": 6,
    "start_time": "2022-06-09T13:21:37.363Z"
   },
   {
    "duration": 6,
    "start_time": "2022-06-09T13:21:37.371Z"
   },
   {
    "duration": 13,
    "start_time": "2022-06-09T13:21:37.379Z"
   },
   {
    "duration": 5,
    "start_time": "2022-06-09T13:21:37.394Z"
   },
   {
    "duration": 6,
    "start_time": "2022-06-09T13:21:37.400Z"
   },
   {
    "duration": 5,
    "start_time": "2022-06-09T13:21:37.407Z"
   },
   {
    "duration": 446,
    "start_time": "2022-06-09T13:21:37.413Z"
   },
   {
    "duration": 3,
    "start_time": "2022-06-09T13:21:37.861Z"
   },
   {
    "duration": 8,
    "start_time": "2022-06-09T13:21:37.865Z"
   },
   {
    "duration": 6,
    "start_time": "2022-06-09T13:21:37.875Z"
   },
   {
    "duration": 20,
    "start_time": "2022-06-09T13:21:40.508Z"
   },
   {
    "duration": 5,
    "start_time": "2022-06-09T13:22:16.815Z"
   },
   {
    "duration": 16,
    "start_time": "2022-06-09T13:22:18.755Z"
   },
   {
    "duration": 2122,
    "start_time": "2022-06-09T13:23:11.396Z"
   },
   {
    "duration": 1878,
    "start_time": "2022-06-09T13:23:13.521Z"
   },
   {
    "duration": 27,
    "start_time": "2022-06-09T13:23:15.401Z"
   },
   {
    "duration": 17,
    "start_time": "2022-06-09T13:23:15.430Z"
   },
   {
    "duration": 4,
    "start_time": "2022-06-09T13:23:15.450Z"
   },
   {
    "duration": 19,
    "start_time": "2022-06-09T13:23:15.455Z"
   },
   {
    "duration": 15,
    "start_time": "2022-06-09T13:23:15.476Z"
   },
   {
    "duration": 26,
    "start_time": "2022-06-09T13:23:15.493Z"
   },
   {
    "duration": 288,
    "start_time": "2022-06-09T13:23:15.521Z"
   },
   {
    "duration": 243,
    "start_time": "2022-06-09T13:23:15.810Z"
   },
   {
    "duration": 308,
    "start_time": "2022-06-09T13:23:16.058Z"
   },
   {
    "duration": 245,
    "start_time": "2022-06-09T13:23:16.368Z"
   },
   {
    "duration": 10,
    "start_time": "2022-06-09T13:23:16.615Z"
   },
   {
    "duration": 10,
    "start_time": "2022-06-09T13:23:16.628Z"
   },
   {
    "duration": 20,
    "start_time": "2022-06-09T13:23:16.639Z"
   },
   {
    "duration": 7,
    "start_time": "2022-06-09T13:23:16.661Z"
   },
   {
    "duration": 19,
    "start_time": "2022-06-09T13:23:16.669Z"
   },
   {
    "duration": 10,
    "start_time": "2022-06-09T13:23:16.690Z"
   },
   {
    "duration": 133,
    "start_time": "2022-06-09T13:23:16.702Z"
   },
   {
    "duration": 42,
    "start_time": "2022-06-09T13:23:16.839Z"
   },
   {
    "duration": 16,
    "start_time": "2022-06-09T13:23:16.883Z"
   },
   {
    "duration": 6,
    "start_time": "2022-06-09T13:23:16.901Z"
   },
   {
    "duration": 10,
    "start_time": "2022-06-09T13:23:16.909Z"
   },
   {
    "duration": 39,
    "start_time": "2022-06-09T13:23:16.921Z"
   },
   {
    "duration": 8,
    "start_time": "2022-06-09T13:23:16.963Z"
   },
   {
    "duration": 19,
    "start_time": "2022-06-09T13:23:16.973Z"
   },
   {
    "duration": 14,
    "start_time": "2022-06-09T13:23:16.993Z"
   },
   {
    "duration": 7,
    "start_time": "2022-06-09T13:23:17.009Z"
   },
   {
    "duration": 8,
    "start_time": "2022-06-09T13:23:17.017Z"
   },
   {
    "duration": 7,
    "start_time": "2022-06-09T13:23:17.027Z"
   },
   {
    "duration": 7,
    "start_time": "2022-06-09T13:23:17.035Z"
   },
   {
    "duration": 9,
    "start_time": "2022-06-09T13:23:17.044Z"
   },
   {
    "duration": 328,
    "start_time": "2022-06-09T13:23:17.054Z"
   },
   {
    "duration": 77,
    "start_time": "2022-06-09T13:23:17.384Z"
   },
   {
    "duration": 23,
    "start_time": "2022-06-09T13:23:17.463Z"
   },
   {
    "duration": 7,
    "start_time": "2022-06-09T13:23:17.488Z"
   },
   {
    "duration": 162,
    "start_time": "2022-06-09T13:23:17.496Z"
   },
   {
    "duration": 0,
    "start_time": "2022-06-09T13:23:17.661Z"
   },
   {
    "duration": 4,
    "start_time": "2022-06-09T13:29:54.376Z"
   },
   {
    "duration": 11,
    "start_time": "2022-06-09T13:29:57.985Z"
   },
   {
    "duration": 4,
    "start_time": "2022-06-09T13:30:05.894Z"
   },
   {
    "duration": 6,
    "start_time": "2022-06-09T13:30:08.298Z"
   },
   {
    "duration": 277,
    "start_time": "2022-06-09T13:30:10.494Z"
   },
   {
    "duration": 3,
    "start_time": "2022-06-09T13:30:13.800Z"
   },
   {
    "duration": 4,
    "start_time": "2022-06-09T13:30:15.951Z"
   },
   {
    "duration": 6,
    "start_time": "2022-06-09T13:30:50.159Z"
   },
   {
    "duration": 3,
    "start_time": "2022-06-09T13:30:54.159Z"
   },
   {
    "duration": 3,
    "start_time": "2022-06-09T13:30:57.536Z"
   },
   {
    "duration": 3,
    "start_time": "2022-06-09T13:31:00.710Z"
   },
   {
    "duration": 1945,
    "start_time": "2022-06-09T13:31:02.213Z"
   },
   {
    "duration": 2,
    "start_time": "2022-06-09T13:31:07.326Z"
   },
   {
    "duration": 206,
    "start_time": "2022-06-09T13:31:08.958Z"
   },
   {
    "duration": 4,
    "start_time": "2022-06-09T13:31:11.985Z"
   },
   {
    "duration": 5,
    "start_time": "2022-06-09T13:31:12.692Z"
   },
   {
    "duration": 2118,
    "start_time": "2022-06-09T13:31:19.910Z"
   },
   {
    "duration": 1870,
    "start_time": "2022-06-09T13:31:22.030Z"
   },
   {
    "duration": 27,
    "start_time": "2022-06-09T13:31:23.902Z"
   },
   {
    "duration": 16,
    "start_time": "2022-06-09T13:31:23.931Z"
   },
   {
    "duration": 4,
    "start_time": "2022-06-09T13:31:23.948Z"
   },
   {
    "duration": 21,
    "start_time": "2022-06-09T13:31:23.954Z"
   },
   {
    "duration": 14,
    "start_time": "2022-06-09T13:31:23.976Z"
   },
   {
    "duration": 29,
    "start_time": "2022-06-09T13:31:23.992Z"
   },
   {
    "duration": 288,
    "start_time": "2022-06-09T13:31:24.023Z"
   },
   {
    "duration": 265,
    "start_time": "2022-06-09T13:31:24.314Z"
   },
   {
    "duration": 299,
    "start_time": "2022-06-09T13:31:24.581Z"
   },
   {
    "duration": 263,
    "start_time": "2022-06-09T13:31:24.882Z"
   },
   {
    "duration": 13,
    "start_time": "2022-06-09T13:31:25.147Z"
   },
   {
    "duration": 22,
    "start_time": "2022-06-09T13:31:25.162Z"
   },
   {
    "duration": 16,
    "start_time": "2022-06-09T13:31:25.186Z"
   },
   {
    "duration": 18,
    "start_time": "2022-06-09T13:31:25.203Z"
   },
   {
    "duration": 26,
    "start_time": "2022-06-09T13:31:25.223Z"
   },
   {
    "duration": 19,
    "start_time": "2022-06-09T13:31:25.250Z"
   },
   {
    "duration": 19,
    "start_time": "2022-06-09T13:31:25.270Z"
   },
   {
    "duration": 148,
    "start_time": "2022-06-09T13:31:25.291Z"
   },
   {
    "duration": 26,
    "start_time": "2022-06-09T13:31:25.441Z"
   },
   {
    "duration": 14,
    "start_time": "2022-06-09T13:31:25.469Z"
   },
   {
    "duration": 16,
    "start_time": "2022-06-09T13:31:25.485Z"
   },
   {
    "duration": 43,
    "start_time": "2022-06-09T13:31:25.502Z"
   },
   {
    "duration": 8,
    "start_time": "2022-06-09T13:31:25.546Z"
   },
   {
    "duration": 11,
    "start_time": "2022-06-09T13:31:25.556Z"
   },
   {
    "duration": 21,
    "start_time": "2022-06-09T13:31:25.569Z"
   },
   {
    "duration": 15,
    "start_time": "2022-06-09T13:31:25.593Z"
   },
   {
    "duration": 23,
    "start_time": "2022-06-09T13:31:25.610Z"
   },
   {
    "duration": 22,
    "start_time": "2022-06-09T13:31:25.635Z"
   },
   {
    "duration": 10,
    "start_time": "2022-06-09T13:31:25.659Z"
   },
   {
    "duration": 158,
    "start_time": "2022-06-09T13:31:25.671Z"
   },
   {
    "duration": 0,
    "start_time": "2022-06-09T13:31:25.830Z"
   },
   {
    "duration": 0,
    "start_time": "2022-06-09T13:31:25.832Z"
   },
   {
    "duration": 0,
    "start_time": "2022-06-09T13:31:25.833Z"
   },
   {
    "duration": 0,
    "start_time": "2022-06-09T13:31:25.834Z"
   },
   {
    "duration": 0,
    "start_time": "2022-06-09T13:31:25.836Z"
   },
   {
    "duration": 171,
    "start_time": "2022-06-09T13:31:43.992Z"
   },
   {
    "duration": 3,
    "start_time": "2022-06-09T13:31:49.588Z"
   },
   {
    "duration": 14,
    "start_time": "2022-06-09T13:31:51.134Z"
   },
   {
    "duration": 13,
    "start_time": "2022-06-09T13:31:59.928Z"
   },
   {
    "duration": 5,
    "start_time": "2022-06-09T13:32:10.214Z"
   },
   {
    "duration": 5,
    "start_time": "2022-06-09T13:32:27.116Z"
   },
   {
    "duration": 16,
    "start_time": "2022-06-09T13:32:29.654Z"
   },
   {
    "duration": 5,
    "start_time": "2022-06-09T13:32:54.919Z"
   },
   {
    "duration": 5,
    "start_time": "2022-06-09T13:32:56.822Z"
   },
   {
    "duration": 17,
    "start_time": "2022-06-09T13:33:02.326Z"
   },
   {
    "duration": 6,
    "start_time": "2022-06-09T13:33:13.689Z"
   },
   {
    "duration": 5,
    "start_time": "2022-06-09T13:33:14.206Z"
   },
   {
    "duration": 308,
    "start_time": "2022-06-09T13:33:14.662Z"
   },
   {
    "duration": 3,
    "start_time": "2022-06-09T13:35:24.962Z"
   },
   {
    "duration": 55,
    "start_time": "2022-06-09T13:35:25.410Z"
   },
   {
    "duration": 3,
    "start_time": "2022-06-09T13:35:27.202Z"
   },
   {
    "duration": 6,
    "start_time": "2022-06-09T13:35:28.423Z"
   },
   {
    "duration": 3,
    "start_time": "2022-06-09T13:35:41.264Z"
   },
   {
    "duration": 247,
    "start_time": "2022-06-09T13:35:41.712Z"
   },
   {
    "duration": 3,
    "start_time": "2022-06-09T13:35:43.055Z"
   },
   {
    "duration": 5,
    "start_time": "2022-06-09T13:35:44.129Z"
   },
   {
    "duration": 3,
    "start_time": "2022-06-09T13:35:53.856Z"
   },
   {
    "duration": 161,
    "start_time": "2022-06-09T13:35:54.198Z"
   },
   {
    "duration": 3,
    "start_time": "2022-06-09T13:35:55.991Z"
   },
   {
    "duration": 4,
    "start_time": "2022-06-09T13:35:56.895Z"
   },
   {
    "duration": 2218,
    "start_time": "2022-06-09T13:36:04.592Z"
   },
   {
    "duration": 1772,
    "start_time": "2022-06-09T13:36:06.813Z"
   },
   {
    "duration": 27,
    "start_time": "2022-06-09T13:36:08.587Z"
   },
   {
    "duration": 16,
    "start_time": "2022-06-09T13:36:08.616Z"
   },
   {
    "duration": 11,
    "start_time": "2022-06-09T13:36:08.634Z"
   },
   {
    "duration": 23,
    "start_time": "2022-06-09T13:36:08.646Z"
   },
   {
    "duration": 15,
    "start_time": "2022-06-09T13:36:08.670Z"
   },
   {
    "duration": 39,
    "start_time": "2022-06-09T13:36:08.687Z"
   },
   {
    "duration": 273,
    "start_time": "2022-06-09T13:36:08.728Z"
   },
   {
    "duration": 239,
    "start_time": "2022-06-09T13:36:09.003Z"
   },
   {
    "duration": 266,
    "start_time": "2022-06-09T13:36:09.244Z"
   },
   {
    "duration": 262,
    "start_time": "2022-06-09T13:36:09.512Z"
   },
   {
    "duration": 6,
    "start_time": "2022-06-09T13:36:09.776Z"
   },
   {
    "duration": 8,
    "start_time": "2022-06-09T13:36:09.785Z"
   },
   {
    "duration": 9,
    "start_time": "2022-06-09T13:36:09.794Z"
   },
   {
    "duration": 11,
    "start_time": "2022-06-09T13:36:09.805Z"
   },
   {
    "duration": 23,
    "start_time": "2022-06-09T13:36:09.818Z"
   },
   {
    "duration": 22,
    "start_time": "2022-06-09T13:36:09.843Z"
   },
   {
    "duration": 133,
    "start_time": "2022-06-09T13:36:09.867Z"
   },
   {
    "duration": 36,
    "start_time": "2022-06-09T13:36:10.002Z"
   },
   {
    "duration": 27,
    "start_time": "2022-06-09T13:36:10.040Z"
   },
   {
    "duration": 12,
    "start_time": "2022-06-09T13:36:10.069Z"
   },
   {
    "duration": 11,
    "start_time": "2022-06-09T13:36:10.082Z"
   },
   {
    "duration": 37,
    "start_time": "2022-06-09T13:36:10.095Z"
   },
   {
    "duration": 10,
    "start_time": "2022-06-09T13:36:10.134Z"
   },
   {
    "duration": 16,
    "start_time": "2022-06-09T13:36:10.146Z"
   },
   {
    "duration": 14,
    "start_time": "2022-06-09T13:36:10.164Z"
   },
   {
    "duration": 7,
    "start_time": "2022-06-09T13:36:10.180Z"
   },
   {
    "duration": 15,
    "start_time": "2022-06-09T13:36:10.189Z"
   },
   {
    "duration": 13,
    "start_time": "2022-06-09T13:36:10.206Z"
   },
   {
    "duration": 8,
    "start_time": "2022-06-09T13:36:10.221Z"
   },
   {
    "duration": 147,
    "start_time": "2022-06-09T13:36:10.231Z"
   },
   {
    "duration": 4,
    "start_time": "2022-06-09T13:36:10.379Z"
   },
   {
    "duration": 76,
    "start_time": "2022-06-09T13:36:10.385Z"
   },
   {
    "duration": 17,
    "start_time": "2022-06-09T13:36:10.463Z"
   },
   {
    "duration": 16,
    "start_time": "2022-06-09T13:36:10.482Z"
   },
   {
    "duration": 358,
    "start_time": "2022-06-09T13:36:10.500Z"
   },
   {
    "duration": 344,
    "start_time": "2022-06-09T13:45:15.346Z"
   },
   {
    "duration": 168,
    "start_time": "2022-06-09T13:47:08.896Z"
   },
   {
    "duration": 3489,
    "start_time": "2022-06-09T13:49:11.045Z"
   },
   {
    "duration": 3477,
    "start_time": "2022-06-09T13:52:49.818Z"
   },
   {
    "duration": 3369,
    "start_time": "2022-06-09T13:54:24.050Z"
   },
   {
    "duration": 3414,
    "start_time": "2022-06-09T13:54:38.400Z"
   },
   {
    "duration": 5,
    "start_time": "2022-06-09T13:58:22.192Z"
   },
   {
    "duration": 4,
    "start_time": "2022-06-09T13:58:24.814Z"
   },
   {
    "duration": 185,
    "start_time": "2022-06-09T13:58:26.685Z"
   },
   {
    "duration": 127,
    "start_time": "2022-06-09T14:01:00.448Z"
   },
   {
    "duration": 3,
    "start_time": "2022-06-09T14:01:43.647Z"
   },
   {
    "duration": 1651,
    "start_time": "2022-06-09T14:01:44.031Z"
   },
   {
    "duration": 3,
    "start_time": "2022-06-09T14:01:48.398Z"
   },
   {
    "duration": 5,
    "start_time": "2022-06-09T14:01:49.672Z"
   },
   {
    "duration": 1923,
    "start_time": "2022-06-09T14:02:01.047Z"
   },
   {
    "duration": 3,
    "start_time": "2022-06-09T14:02:04.598Z"
   },
   {
    "duration": 5,
    "start_time": "2022-06-09T14:02:05.849Z"
   },
   {
    "duration": 4,
    "start_time": "2022-06-09T14:02:12.554Z"
   },
   {
    "duration": 149,
    "start_time": "2022-06-09T14:02:12.821Z"
   },
   {
    "duration": 3,
    "start_time": "2022-06-09T14:02:13.809Z"
   },
   {
    "duration": 5,
    "start_time": "2022-06-09T14:02:15.272Z"
   },
   {
    "duration": 2049,
    "start_time": "2022-06-09T14:02:26.893Z"
   },
   {
    "duration": 1848,
    "start_time": "2022-06-09T14:02:28.945Z"
   },
   {
    "duration": 28,
    "start_time": "2022-06-09T14:02:30.794Z"
   },
   {
    "duration": 48,
    "start_time": "2022-06-09T14:02:30.824Z"
   },
   {
    "duration": 37,
    "start_time": "2022-06-09T14:02:30.874Z"
   },
   {
    "duration": 105,
    "start_time": "2022-06-09T14:02:30.912Z"
   },
   {
    "duration": 50,
    "start_time": "2022-06-09T14:02:31.019Z"
   },
   {
    "duration": 88,
    "start_time": "2022-06-09T14:02:31.071Z"
   },
   {
    "duration": 310,
    "start_time": "2022-06-09T14:02:31.160Z"
   },
   {
    "duration": 287,
    "start_time": "2022-06-09T14:02:31.472Z"
   },
   {
    "duration": 374,
    "start_time": "2022-06-09T14:02:31.761Z"
   },
   {
    "duration": 311,
    "start_time": "2022-06-09T14:02:32.137Z"
   },
   {
    "duration": 13,
    "start_time": "2022-06-09T14:02:32.450Z"
   },
   {
    "duration": 22,
    "start_time": "2022-06-09T14:02:32.467Z"
   },
   {
    "duration": 24,
    "start_time": "2022-06-09T14:02:32.491Z"
   },
   {
    "duration": 14,
    "start_time": "2022-06-09T14:02:32.517Z"
   },
   {
    "duration": 26,
    "start_time": "2022-06-09T14:02:32.533Z"
   },
   {
    "duration": 31,
    "start_time": "2022-06-09T14:02:32.561Z"
   },
   {
    "duration": 123,
    "start_time": "2022-06-09T14:02:32.594Z"
   },
   {
    "duration": 34,
    "start_time": "2022-06-09T14:02:32.719Z"
   },
   {
    "duration": 31,
    "start_time": "2022-06-09T14:02:32.759Z"
   },
   {
    "duration": 17,
    "start_time": "2022-06-09T14:02:32.792Z"
   },
   {
    "duration": 25,
    "start_time": "2022-06-09T14:02:32.810Z"
   },
   {
    "duration": 48,
    "start_time": "2022-06-09T14:02:32.837Z"
   },
   {
    "duration": 10,
    "start_time": "2022-06-09T14:02:32.887Z"
   },
   {
    "duration": 12,
    "start_time": "2022-06-09T14:02:32.899Z"
   },
   {
    "duration": 16,
    "start_time": "2022-06-09T14:02:32.913Z"
   },
   {
    "duration": 6,
    "start_time": "2022-06-09T14:02:32.931Z"
   },
   {
    "duration": 15,
    "start_time": "2022-06-09T14:02:32.938Z"
   },
   {
    "duration": 22,
    "start_time": "2022-06-09T14:02:32.955Z"
   },
   {
    "duration": 6,
    "start_time": "2022-06-09T14:02:32.979Z"
   },
   {
    "duration": 2287,
    "start_time": "2022-06-09T14:02:32.987Z"
   },
   {
    "duration": 4,
    "start_time": "2022-06-09T14:02:35.276Z"
   },
   {
    "duration": 8,
    "start_time": "2022-06-09T14:02:35.282Z"
   },
   {
    "duration": 3657,
    "start_time": "2022-06-09T14:02:35.292Z"
   },
   {
    "duration": 0,
    "start_time": "2022-06-09T14:02:38.950Z"
   },
   {
    "duration": 0,
    "start_time": "2022-06-09T14:02:38.951Z"
   },
   {
    "duration": 0,
    "start_time": "2022-06-09T14:02:38.952Z"
   },
   {
    "duration": 4,
    "start_time": "2022-06-09T14:03:45.505Z"
   },
   {
    "duration": 3658,
    "start_time": "2022-06-09T14:03:46.020Z"
   },
   {
    "duration": 3,
    "start_time": "2022-06-09T14:03:51.509Z"
   },
   {
    "duration": 5,
    "start_time": "2022-06-09T14:03:52.622Z"
   },
   {
    "duration": 2089,
    "start_time": "2022-06-09T14:03:58.027Z"
   },
   {
    "duration": 1844,
    "start_time": "2022-06-09T14:04:00.119Z"
   },
   {
    "duration": 36,
    "start_time": "2022-06-09T14:04:01.968Z"
   },
   {
    "duration": 22,
    "start_time": "2022-06-09T14:04:02.006Z"
   },
   {
    "duration": 15,
    "start_time": "2022-06-09T14:04:02.031Z"
   },
   {
    "duration": 21,
    "start_time": "2022-06-09T14:04:02.048Z"
   },
   {
    "duration": 41,
    "start_time": "2022-06-09T14:04:02.071Z"
   },
   {
    "duration": 39,
    "start_time": "2022-06-09T14:04:02.114Z"
   },
   {
    "duration": 294,
    "start_time": "2022-06-09T14:04:02.155Z"
   },
   {
    "duration": 250,
    "start_time": "2022-06-09T14:04:02.450Z"
   },
   {
    "duration": 286,
    "start_time": "2022-06-09T14:04:02.701Z"
   },
   {
    "duration": 246,
    "start_time": "2022-06-09T14:04:02.989Z"
   },
   {
    "duration": 7,
    "start_time": "2022-06-09T14:04:03.237Z"
   },
   {
    "duration": 17,
    "start_time": "2022-06-09T14:04:03.245Z"
   },
   {
    "duration": 15,
    "start_time": "2022-06-09T14:04:03.264Z"
   },
   {
    "duration": 11,
    "start_time": "2022-06-09T14:04:03.280Z"
   },
   {
    "duration": 25,
    "start_time": "2022-06-09T14:04:03.293Z"
   },
   {
    "duration": 21,
    "start_time": "2022-06-09T14:04:03.320Z"
   },
   {
    "duration": 31,
    "start_time": "2022-06-09T14:04:03.343Z"
   },
   {
    "duration": 37,
    "start_time": "2022-06-09T14:04:03.376Z"
   },
   {
    "duration": 129,
    "start_time": "2022-06-09T14:04:03.415Z"
   },
   {
    "duration": 6,
    "start_time": "2022-06-09T14:04:03.546Z"
   },
   {
    "duration": 7,
    "start_time": "2022-06-09T14:04:03.554Z"
   },
   {
    "duration": 27,
    "start_time": "2022-06-09T14:04:03.563Z"
   },
   {
    "duration": 9,
    "start_time": "2022-06-09T14:04:03.591Z"
   },
   {
    "duration": 7,
    "start_time": "2022-06-09T14:04:03.602Z"
   },
   {
    "duration": 4,
    "start_time": "2022-06-09T14:04:03.612Z"
   },
   {
    "duration": 4,
    "start_time": "2022-06-09T14:04:03.618Z"
   },
   {
    "duration": 8,
    "start_time": "2022-06-09T14:04:03.623Z"
   },
   {
    "duration": 4,
    "start_time": "2022-06-09T14:04:03.658Z"
   },
   {
    "duration": 13,
    "start_time": "2022-06-09T14:04:03.664Z"
   },
   {
    "duration": 3701,
    "start_time": "2022-06-09T14:04:03.679Z"
   },
   {
    "duration": 3,
    "start_time": "2022-06-09T14:04:07.382Z"
   },
   {
    "duration": 75,
    "start_time": "2022-06-09T14:04:07.386Z"
   },
   {
    "duration": 3487,
    "start_time": "2022-06-09T14:04:07.463Z"
   },
   {
    "duration": 0,
    "start_time": "2022-06-09T14:04:10.952Z"
   },
   {
    "duration": 0,
    "start_time": "2022-06-09T14:04:10.953Z"
   },
   {
    "duration": 0,
    "start_time": "2022-06-09T14:04:10.958Z"
   },
   {
    "duration": 4,
    "start_time": "2022-06-09T14:04:32.368Z"
   },
   {
    "duration": 1864,
    "start_time": "2022-06-09T14:04:32.713Z"
   },
   {
    "duration": 3,
    "start_time": "2022-06-09T14:04:34.578Z"
   },
   {
    "duration": 5,
    "start_time": "2022-06-09T14:04:36.501Z"
   },
   {
    "duration": 2089,
    "start_time": "2022-06-09T14:04:42.765Z"
   },
   {
    "duration": 1828,
    "start_time": "2022-06-09T14:04:44.857Z"
   },
   {
    "duration": 28,
    "start_time": "2022-06-09T14:04:46.690Z"
   },
   {
    "duration": 15,
    "start_time": "2022-06-09T14:04:46.719Z"
   },
   {
    "duration": 3,
    "start_time": "2022-06-09T14:04:46.736Z"
   },
   {
    "duration": 16,
    "start_time": "2022-06-09T14:04:46.741Z"
   },
   {
    "duration": 14,
    "start_time": "2022-06-09T14:04:46.758Z"
   },
   {
    "duration": 26,
    "start_time": "2022-06-09T14:04:46.774Z"
   },
   {
    "duration": 298,
    "start_time": "2022-06-09T14:04:46.803Z"
   },
   {
    "duration": 257,
    "start_time": "2022-06-09T14:04:47.103Z"
   },
   {
    "duration": 281,
    "start_time": "2022-06-09T14:04:47.362Z"
   },
   {
    "duration": 259,
    "start_time": "2022-06-09T14:04:47.645Z"
   },
   {
    "duration": 8,
    "start_time": "2022-06-09T14:04:47.906Z"
   },
   {
    "duration": 7,
    "start_time": "2022-06-09T14:04:47.916Z"
   },
   {
    "duration": 7,
    "start_time": "2022-06-09T14:04:47.925Z"
   },
   {
    "duration": 31,
    "start_time": "2022-06-09T14:04:47.933Z"
   },
   {
    "duration": 19,
    "start_time": "2022-06-09T14:04:47.966Z"
   },
   {
    "duration": 13,
    "start_time": "2022-06-09T14:04:47.987Z"
   },
   {
    "duration": 8,
    "start_time": "2022-06-09T14:04:48.002Z"
   },
   {
    "duration": 26,
    "start_time": "2022-06-09T14:04:48.012Z"
   },
   {
    "duration": 132,
    "start_time": "2022-06-09T14:04:48.058Z"
   },
   {
    "duration": 5,
    "start_time": "2022-06-09T14:04:48.192Z"
   },
   {
    "duration": 8,
    "start_time": "2022-06-09T14:04:48.199Z"
   },
   {
    "duration": 31,
    "start_time": "2022-06-09T14:04:48.209Z"
   },
   {
    "duration": 21,
    "start_time": "2022-06-09T14:04:48.242Z"
   },
   {
    "duration": 6,
    "start_time": "2022-06-09T14:04:48.265Z"
   },
   {
    "duration": 8,
    "start_time": "2022-06-09T14:04:48.274Z"
   },
   {
    "duration": 11,
    "start_time": "2022-06-09T14:04:48.284Z"
   },
   {
    "duration": 13,
    "start_time": "2022-06-09T14:04:48.296Z"
   },
   {
    "duration": 7,
    "start_time": "2022-06-09T14:04:48.310Z"
   },
   {
    "duration": 6,
    "start_time": "2022-06-09T14:04:48.319Z"
   },
   {
    "duration": 1848,
    "start_time": "2022-06-09T14:04:48.326Z"
   },
   {
    "duration": 3,
    "start_time": "2022-06-09T14:04:50.176Z"
   },
   {
    "duration": 9,
    "start_time": "2022-06-09T14:04:50.180Z"
   },
   {
    "duration": 3417,
    "start_time": "2022-06-09T14:04:50.259Z"
   },
   {
    "duration": 0,
    "start_time": "2022-06-09T14:04:53.678Z"
   },
   {
    "duration": 0,
    "start_time": "2022-06-09T14:04:53.680Z"
   },
   {
    "duration": 0,
    "start_time": "2022-06-09T14:04:53.682Z"
   },
   {
    "duration": 2,
    "start_time": "2022-06-09T14:05:28.265Z"
   },
   {
    "duration": 5,
    "start_time": "2022-06-09T14:05:30.408Z"
   },
   {
    "duration": 4,
    "start_time": "2022-06-09T14:05:33.132Z"
   },
   {
    "duration": 2376,
    "start_time": "2022-06-09T14:05:33.986Z"
   },
   {
    "duration": 5,
    "start_time": "2022-06-09T14:06:59.962Z"
   },
   {
    "duration": 4,
    "start_time": "2022-06-09T14:07:02.430Z"
   },
   {
    "duration": 2522,
    "start_time": "2022-06-09T14:07:03.057Z"
   },
   {
    "duration": 36,
    "start_time": "2022-06-09T14:11:41.774Z"
   },
   {
    "duration": 13,
    "start_time": "2022-06-09T14:12:13.920Z"
   },
   {
    "duration": 3,
    "start_time": "2022-06-09T14:12:29.460Z"
   },
   {
    "duration": 10415,
    "start_time": "2022-06-09T14:12:31.070Z"
   },
   {
    "duration": 3,
    "start_time": "2022-06-09T14:13:07.571Z"
   },
   {
    "duration": 3,
    "start_time": "2022-06-09T14:13:11.969Z"
   },
   {
    "duration": 15,
    "start_time": "2022-06-09T14:15:40.275Z"
   },
   {
    "duration": 2466,
    "start_time": "2022-06-09T14:15:45.893Z"
   },
   {
    "duration": 2109,
    "start_time": "2022-06-09T14:16:32.821Z"
   },
   {
    "duration": 1861,
    "start_time": "2022-06-09T14:16:34.932Z"
   },
   {
    "duration": 28,
    "start_time": "2022-06-09T14:16:36.795Z"
   },
   {
    "duration": 17,
    "start_time": "2022-06-09T14:16:36.825Z"
   },
   {
    "duration": 8,
    "start_time": "2022-06-09T14:16:36.845Z"
   },
   {
    "duration": 18,
    "start_time": "2022-06-09T14:16:36.855Z"
   },
   {
    "duration": 14,
    "start_time": "2022-06-09T14:16:36.875Z"
   },
   {
    "duration": 25,
    "start_time": "2022-06-09T14:16:36.891Z"
   },
   {
    "duration": 290,
    "start_time": "2022-06-09T14:16:36.918Z"
   },
   {
    "duration": 278,
    "start_time": "2022-06-09T14:16:37.210Z"
   },
   {
    "duration": 280,
    "start_time": "2022-06-09T14:16:37.490Z"
   },
   {
    "duration": 251,
    "start_time": "2022-06-09T14:16:37.772Z"
   },
   {
    "duration": 8,
    "start_time": "2022-06-09T14:16:38.025Z"
   },
   {
    "duration": 22,
    "start_time": "2022-06-09T14:16:38.037Z"
   },
   {
    "duration": 14,
    "start_time": "2022-06-09T14:16:38.061Z"
   },
   {
    "duration": 21,
    "start_time": "2022-06-09T14:16:38.077Z"
   },
   {
    "duration": 30,
    "start_time": "2022-06-09T14:16:38.101Z"
   },
   {
    "duration": 125,
    "start_time": "2022-06-09T14:16:38.133Z"
   },
   {
    "duration": 11,
    "start_time": "2022-06-09T14:16:38.260Z"
   },
   {
    "duration": 29,
    "start_time": "2022-06-09T14:16:38.273Z"
   },
   {
    "duration": 17,
    "start_time": "2022-06-09T14:16:38.304Z"
   },
   {
    "duration": 15,
    "start_time": "2022-06-09T14:16:38.322Z"
   },
   {
    "duration": 16,
    "start_time": "2022-06-09T14:16:38.338Z"
   },
   {
    "duration": 27,
    "start_time": "2022-06-09T14:16:38.356Z"
   },
   {
    "duration": 8,
    "start_time": "2022-06-09T14:16:38.384Z"
   },
   {
    "duration": 6,
    "start_time": "2022-06-09T14:16:38.394Z"
   },
   {
    "duration": 6,
    "start_time": "2022-06-09T14:16:38.401Z"
   },
   {
    "duration": 7,
    "start_time": "2022-06-09T14:16:38.409Z"
   },
   {
    "duration": 6,
    "start_time": "2022-06-09T14:16:38.418Z"
   },
   {
    "duration": 6,
    "start_time": "2022-06-09T14:16:38.425Z"
   },
   {
    "duration": 6,
    "start_time": "2022-06-09T14:16:38.432Z"
   },
   {
    "duration": 2006,
    "start_time": "2022-06-09T14:16:38.458Z"
   },
   {
    "duration": 3,
    "start_time": "2022-06-09T14:16:40.466Z"
   },
   {
    "duration": 7,
    "start_time": "2022-06-09T14:16:40.471Z"
   },
   {
    "duration": 3,
    "start_time": "2022-06-09T14:16:40.480Z"
   },
   {
    "duration": 6,
    "start_time": "2022-06-09T14:16:40.484Z"
   },
   {
    "duration": 6,
    "start_time": "2022-06-09T14:16:40.491Z"
   },
   {
    "duration": 2876,
    "start_time": "2022-06-09T14:16:40.498Z"
   },
   {
    "duration": 5,
    "start_time": "2022-06-09T14:16:43.376Z"
   },
   {
    "duration": 21218,
    "start_time": "2022-06-10T09:20:24.494Z"
   },
   {
    "duration": 1046,
    "start_time": "2022-06-10T09:20:45.715Z"
   },
   {
    "duration": 0,
    "start_time": "2022-06-10T09:20:46.764Z"
   },
   {
    "duration": 0,
    "start_time": "2022-06-10T09:20:46.766Z"
   },
   {
    "duration": 0,
    "start_time": "2022-06-10T09:20:46.767Z"
   },
   {
    "duration": 0,
    "start_time": "2022-06-10T09:20:46.768Z"
   },
   {
    "duration": 0,
    "start_time": "2022-06-10T09:20:46.770Z"
   },
   {
    "duration": 0,
    "start_time": "2022-06-10T09:20:46.771Z"
   },
   {
    "duration": 0,
    "start_time": "2022-06-10T09:20:46.772Z"
   },
   {
    "duration": 0,
    "start_time": "2022-06-10T09:20:46.773Z"
   },
   {
    "duration": 0,
    "start_time": "2022-06-10T09:20:46.775Z"
   },
   {
    "duration": 0,
    "start_time": "2022-06-10T09:20:46.795Z"
   },
   {
    "duration": 0,
    "start_time": "2022-06-10T09:20:46.797Z"
   },
   {
    "duration": 0,
    "start_time": "2022-06-10T09:20:46.797Z"
   },
   {
    "duration": 0,
    "start_time": "2022-06-10T09:20:46.799Z"
   },
   {
    "duration": 0,
    "start_time": "2022-06-10T09:20:46.800Z"
   },
   {
    "duration": 0,
    "start_time": "2022-06-10T09:20:46.801Z"
   },
   {
    "duration": 0,
    "start_time": "2022-06-10T09:20:46.802Z"
   },
   {
    "duration": 0,
    "start_time": "2022-06-10T09:20:46.802Z"
   },
   {
    "duration": 0,
    "start_time": "2022-06-10T09:20:46.803Z"
   },
   {
    "duration": 0,
    "start_time": "2022-06-10T09:20:46.804Z"
   },
   {
    "duration": 0,
    "start_time": "2022-06-10T09:20:46.804Z"
   },
   {
    "duration": 0,
    "start_time": "2022-06-10T09:20:46.805Z"
   },
   {
    "duration": 0,
    "start_time": "2022-06-10T09:20:46.805Z"
   },
   {
    "duration": 0,
    "start_time": "2022-06-10T09:20:46.806Z"
   },
   {
    "duration": 0,
    "start_time": "2022-06-10T09:20:46.812Z"
   },
   {
    "duration": 0,
    "start_time": "2022-06-10T09:20:46.813Z"
   },
   {
    "duration": 0,
    "start_time": "2022-06-10T09:20:46.815Z"
   },
   {
    "duration": 0,
    "start_time": "2022-06-10T09:20:46.816Z"
   },
   {
    "duration": 0,
    "start_time": "2022-06-10T09:20:46.818Z"
   },
   {
    "duration": 1,
    "start_time": "2022-06-10T09:20:46.818Z"
   },
   {
    "duration": 0,
    "start_time": "2022-06-10T09:20:46.820Z"
   },
   {
    "duration": 0,
    "start_time": "2022-06-10T09:20:46.821Z"
   },
   {
    "duration": 0,
    "start_time": "2022-06-10T09:20:46.822Z"
   },
   {
    "duration": 0,
    "start_time": "2022-06-10T09:20:46.823Z"
   },
   {
    "duration": 0,
    "start_time": "2022-06-10T09:20:46.824Z"
   },
   {
    "duration": 0,
    "start_time": "2022-06-10T09:20:46.825Z"
   },
   {
    "duration": 0,
    "start_time": "2022-06-10T09:20:46.826Z"
   },
   {
    "duration": 0,
    "start_time": "2022-06-10T09:20:46.827Z"
   },
   {
    "duration": 1791,
    "start_time": "2022-06-10T09:21:44.976Z"
   },
   {
    "duration": 3842,
    "start_time": "2022-06-10T09:21:46.769Z"
   },
   {
    "duration": 63,
    "start_time": "2022-06-10T09:21:50.612Z"
   },
   {
    "duration": 2838,
    "start_time": "2022-06-10T09:21:50.676Z"
   },
   {
    "duration": 861,
    "start_time": "2022-06-10T09:21:53.516Z"
   },
   {
    "duration": 13,
    "start_time": "2022-06-10T09:21:54.379Z"
   },
   {
    "duration": 15,
    "start_time": "2022-06-10T09:21:54.393Z"
   },
   {
    "duration": 30,
    "start_time": "2022-06-10T09:21:54.410Z"
   },
   {
    "duration": 272,
    "start_time": "2022-06-10T09:21:54.441Z"
   },
   {
    "duration": 244,
    "start_time": "2022-06-10T09:21:54.715Z"
   },
   {
    "duration": 265,
    "start_time": "2022-06-10T09:21:54.960Z"
   },
   {
    "duration": 333,
    "start_time": "2022-06-10T09:21:55.226Z"
   },
   {
    "duration": 6,
    "start_time": "2022-06-10T09:21:55.561Z"
   },
   {
    "duration": 6,
    "start_time": "2022-06-10T09:21:55.569Z"
   },
   {
    "duration": 22,
    "start_time": "2022-06-10T09:21:55.576Z"
   },
   {
    "duration": 20,
    "start_time": "2022-06-10T09:21:55.600Z"
   },
   {
    "duration": 23,
    "start_time": "2022-06-10T09:21:55.621Z"
   },
   {
    "duration": 11,
    "start_time": "2022-06-10T09:21:55.646Z"
   },
   {
    "duration": 9,
    "start_time": "2022-06-10T09:21:55.659Z"
   },
   {
    "duration": 45,
    "start_time": "2022-06-10T09:21:55.669Z"
   },
   {
    "duration": 15,
    "start_time": "2022-06-10T09:21:55.716Z"
   },
   {
    "duration": 5,
    "start_time": "2022-06-10T09:21:55.732Z"
   },
   {
    "duration": 6,
    "start_time": "2022-06-10T09:21:55.738Z"
   },
   {
    "duration": 24,
    "start_time": "2022-06-10T09:21:55.745Z"
   },
   {
    "duration": 30,
    "start_time": "2022-06-10T09:21:55.770Z"
   },
   {
    "duration": 7,
    "start_time": "2022-06-10T09:21:55.803Z"
   },
   {
    "duration": 9,
    "start_time": "2022-06-10T09:21:55.812Z"
   },
   {
    "duration": 5,
    "start_time": "2022-06-10T09:21:55.823Z"
   },
   {
    "duration": 9,
    "start_time": "2022-06-10T09:21:55.829Z"
   },
   {
    "duration": 5,
    "start_time": "2022-06-10T09:21:55.839Z"
   },
   {
    "duration": 5,
    "start_time": "2022-06-10T09:21:55.845Z"
   },
   {
    "duration": 2665,
    "start_time": "2022-06-10T09:21:55.852Z"
   },
   {
    "duration": 3,
    "start_time": "2022-06-10T09:21:58.520Z"
   },
   {
    "duration": 11,
    "start_time": "2022-06-10T09:21:58.594Z"
   },
   {
    "duration": 8,
    "start_time": "2022-06-10T09:21:58.607Z"
   },
   {
    "duration": 8,
    "start_time": "2022-06-10T09:21:58.617Z"
   },
   {
    "duration": 12,
    "start_time": "2022-06-10T09:21:58.626Z"
   },
   {
    "duration": 5585,
    "start_time": "2022-06-10T09:21:58.640Z"
   },
   {
    "duration": 4,
    "start_time": "2022-06-10T09:22:04.226Z"
   },
   {
    "duration": 4,
    "start_time": "2022-06-10T09:22:04.295Z"
   },
   {
    "duration": 3811,
    "start_time": "2022-06-10T09:22:04.302Z"
   },
   {
    "duration": 3,
    "start_time": "2022-06-10T09:23:38.232Z"
   },
   {
    "duration": 4,
    "start_time": "2022-06-10T09:23:38.572Z"
   },
   {
    "duration": 4,
    "start_time": "2022-06-10T09:23:38.895Z"
   },
   {
    "duration": 2,
    "start_time": "2022-06-10T09:23:39.263Z"
   },
   {
    "duration": 2662,
    "start_time": "2022-06-10T09:23:39.844Z"
   },
   {
    "duration": 4,
    "start_time": "2022-06-10T09:23:42.509Z"
   },
   {
    "duration": 4,
    "start_time": "2022-06-10T09:23:45.424Z"
   },
   {
    "duration": 3,
    "start_time": "2022-06-10T09:23:52.313Z"
   },
   {
    "duration": 4,
    "start_time": "2022-06-10T09:23:53.289Z"
   },
   {
    "duration": 4,
    "start_time": "2022-06-10T09:23:54.129Z"
   },
   {
    "duration": 5995,
    "start_time": "2022-06-10T09:23:54.906Z"
   },
   {
    "duration": 8,
    "start_time": "2022-06-10T09:24:00.903Z"
   },
   {
    "duration": 18,
    "start_time": "2022-06-10T09:24:00.913Z"
   },
   {
    "duration": 4362,
    "start_time": "2022-06-10T09:24:00.933Z"
   },
   {
    "duration": 2920,
    "start_time": "2022-06-10T09:24:19.281Z"
   },
   {
    "duration": 4,
    "start_time": "2022-06-10T09:24:22.401Z"
   },
   {
    "duration": 5,
    "start_time": "2022-06-10T09:24:23.554Z"
   },
   {
    "duration": 4,
    "start_time": "2022-06-10T09:24:35.424Z"
   },
   {
    "duration": 5592,
    "start_time": "2022-06-10T09:24:35.721Z"
   },
   {
    "duration": 79,
    "start_time": "2022-06-10T09:24:41.316Z"
   },
   {
    "duration": 9,
    "start_time": "2022-06-10T09:24:41.398Z"
   },
   {
    "duration": 5656,
    "start_time": "2022-06-10T09:24:49.951Z"
   },
   {
    "duration": 4,
    "start_time": "2022-06-10T09:24:55.610Z"
   },
   {
    "duration": 39,
    "start_time": "2022-06-10T09:24:55.616Z"
   },
   {
    "duration": 5405,
    "start_time": "2022-06-10T09:25:00.718Z"
   },
   {
    "duration": 3,
    "start_time": "2022-06-10T09:25:06.125Z"
   },
   {
    "duration": 68,
    "start_time": "2022-06-10T09:25:06.129Z"
   },
   {
    "duration": 3,
    "start_time": "2022-06-10T09:25:19.985Z"
   },
   {
    "duration": 6507,
    "start_time": "2022-06-10T09:25:20.222Z"
   },
   {
    "duration": 3,
    "start_time": "2022-06-10T09:25:26.730Z"
   },
   {
    "duration": 74,
    "start_time": "2022-06-10T09:25:26.735Z"
   },
   {
    "duration": 5056,
    "start_time": "2022-06-10T09:25:34.143Z"
   },
   {
    "duration": 4,
    "start_time": "2022-06-10T09:25:39.202Z"
   },
   {
    "duration": 17,
    "start_time": "2022-06-10T09:25:39.208Z"
   },
   {
    "duration": 5358,
    "start_time": "2022-06-10T09:25:51.463Z"
   },
   {
    "duration": 5,
    "start_time": "2022-06-10T09:25:56.895Z"
   },
   {
    "duration": 12,
    "start_time": "2022-06-10T09:25:56.901Z"
   },
   {
    "duration": 5585,
    "start_time": "2022-06-10T09:26:08.134Z"
   },
   {
    "duration": 3,
    "start_time": "2022-06-10T09:26:13.725Z"
   },
   {
    "duration": 7,
    "start_time": "2022-06-10T09:26:13.730Z"
   },
   {
    "duration": 1693,
    "start_time": "2022-06-10T09:26:32.481Z"
   },
   {
    "duration": 1585,
    "start_time": "2022-06-10T09:26:34.176Z"
   },
   {
    "duration": 27,
    "start_time": "2022-06-10T09:26:35.762Z"
   },
   {
    "duration": 13,
    "start_time": "2022-06-10T09:26:35.790Z"
   },
   {
    "duration": 7,
    "start_time": "2022-06-10T09:26:35.805Z"
   },
   {
    "duration": 15,
    "start_time": "2022-06-10T09:26:35.814Z"
   },
   {
    "duration": 15,
    "start_time": "2022-06-10T09:26:35.830Z"
   },
   {
    "duration": 23,
    "start_time": "2022-06-10T09:26:35.847Z"
   },
   {
    "duration": 250,
    "start_time": "2022-06-10T09:26:35.871Z"
   },
   {
    "duration": 197,
    "start_time": "2022-06-10T09:26:36.123Z"
   },
   {
    "duration": 230,
    "start_time": "2022-06-10T09:26:36.322Z"
   },
   {
    "duration": 204,
    "start_time": "2022-06-10T09:26:36.553Z"
   },
   {
    "duration": 6,
    "start_time": "2022-06-10T09:26:36.758Z"
   },
   {
    "duration": 6,
    "start_time": "2022-06-10T09:26:36.766Z"
   },
   {
    "duration": 7,
    "start_time": "2022-06-10T09:26:36.773Z"
   },
   {
    "duration": 6,
    "start_time": "2022-06-10T09:26:36.794Z"
   },
   {
    "duration": 109,
    "start_time": "2022-06-10T09:26:36.801Z"
   },
   {
    "duration": 17,
    "start_time": "2022-06-10T09:26:36.911Z"
   },
   {
    "duration": 21,
    "start_time": "2022-06-10T09:26:36.929Z"
   },
   {
    "duration": 23,
    "start_time": "2022-06-10T09:26:36.951Z"
   },
   {
    "duration": 16,
    "start_time": "2022-06-10T09:26:36.975Z"
   },
   {
    "duration": 10,
    "start_time": "2022-06-10T09:26:36.992Z"
   },
   {
    "duration": 13,
    "start_time": "2022-06-10T09:26:37.003Z"
   },
   {
    "duration": 27,
    "start_time": "2022-06-10T09:26:37.017Z"
   },
   {
    "duration": 18,
    "start_time": "2022-06-10T09:26:37.045Z"
   },
   {
    "duration": 11,
    "start_time": "2022-06-10T09:26:37.065Z"
   },
   {
    "duration": 25,
    "start_time": "2022-06-10T09:26:37.077Z"
   },
   {
    "duration": 14,
    "start_time": "2022-06-10T09:26:37.104Z"
   },
   {
    "duration": 20,
    "start_time": "2022-06-10T09:26:37.119Z"
   },
   {
    "duration": 6,
    "start_time": "2022-06-10T09:26:37.140Z"
   },
   {
    "duration": 11,
    "start_time": "2022-06-10T09:26:37.148Z"
   },
   {
    "duration": 1953,
    "start_time": "2022-06-10T09:26:37.160Z"
   },
   {
    "duration": 4,
    "start_time": "2022-06-10T09:26:39.115Z"
   },
   {
    "duration": 75,
    "start_time": "2022-06-10T09:26:39.121Z"
   },
   {
    "duration": 7,
    "start_time": "2022-06-10T09:26:39.198Z"
   },
   {
    "duration": 11,
    "start_time": "2022-06-10T09:26:39.206Z"
   },
   {
    "duration": 5,
    "start_time": "2022-06-10T09:26:39.219Z"
   },
   {
    "duration": 3876,
    "start_time": "2022-06-10T09:26:39.225Z"
   },
   {
    "duration": 6,
    "start_time": "2022-06-10T09:26:43.103Z"
   },
   {
    "duration": 9,
    "start_time": "2022-06-10T09:26:43.111Z"
   },
   {
    "duration": 2588,
    "start_time": "2022-06-10T09:26:43.123Z"
   },
   {
    "duration": 1849,
    "start_time": "2022-06-10T09:26:52.367Z"
   },
   {
    "duration": 3,
    "start_time": "2022-06-10T09:26:54.218Z"
   },
   {
    "duration": 4,
    "start_time": "2022-06-10T09:26:55.329Z"
   },
   {
    "duration": 2072,
    "start_time": "2022-06-10T09:27:00.738Z"
   },
   {
    "duration": 4,
    "start_time": "2022-06-10T09:27:02.813Z"
   },
   {
    "duration": 8,
    "start_time": "2022-06-10T09:27:02.819Z"
   },
   {
    "duration": 3,
    "start_time": "2022-06-10T09:27:21.889Z"
   },
   {
    "duration": 4068,
    "start_time": "2022-06-10T09:27:22.137Z"
   },
   {
    "duration": 4,
    "start_time": "2022-06-10T09:27:26.207Z"
   },
   {
    "duration": 15,
    "start_time": "2022-06-10T09:27:26.212Z"
   },
   {
    "duration": 3990,
    "start_time": "2022-06-10T09:27:36.625Z"
   },
   {
    "duration": 4,
    "start_time": "2022-06-10T09:27:40.617Z"
   },
   {
    "duration": 87,
    "start_time": "2022-06-10T09:27:40.623Z"
   },
   {
    "duration": 3859,
    "start_time": "2022-06-10T09:27:57.446Z"
   },
   {
    "duration": 4,
    "start_time": "2022-06-10T09:28:01.307Z"
   },
   {
    "duration": 17,
    "start_time": "2022-06-10T09:28:01.313Z"
   },
   {
    "duration": 3447,
    "start_time": "2022-06-10T09:28:09.864Z"
   },
   {
    "duration": 3,
    "start_time": "2022-06-10T09:28:13.314Z"
   },
   {
    "duration": 84,
    "start_time": "2022-06-10T09:28:13.318Z"
   },
   {
    "duration": 1692,
    "start_time": "2022-06-10T09:28:20.759Z"
   },
   {
    "duration": 1556,
    "start_time": "2022-06-10T09:28:22.453Z"
   },
   {
    "duration": 31,
    "start_time": "2022-06-10T09:28:24.012Z"
   },
   {
    "duration": 14,
    "start_time": "2022-06-10T09:28:24.045Z"
   },
   {
    "duration": 3,
    "start_time": "2022-06-10T09:28:24.061Z"
   },
   {
    "duration": 12,
    "start_time": "2022-06-10T09:28:24.065Z"
   },
   {
    "duration": 12,
    "start_time": "2022-06-10T09:28:24.078Z"
   },
   {
    "duration": 32,
    "start_time": "2022-06-10T09:28:24.092Z"
   },
   {
    "duration": 237,
    "start_time": "2022-06-10T09:28:24.126Z"
   },
   {
    "duration": 216,
    "start_time": "2022-06-10T09:28:24.365Z"
   },
   {
    "duration": 229,
    "start_time": "2022-06-10T09:28:24.582Z"
   },
   {
    "duration": 209,
    "start_time": "2022-06-10T09:28:24.813Z"
   },
   {
    "duration": 9,
    "start_time": "2022-06-10T09:28:25.024Z"
   },
   {
    "duration": 6,
    "start_time": "2022-06-10T09:28:25.036Z"
   },
   {
    "duration": 11,
    "start_time": "2022-06-10T09:28:25.044Z"
   },
   {
    "duration": 5,
    "start_time": "2022-06-10T09:28:25.056Z"
   },
   {
    "duration": 114,
    "start_time": "2022-06-10T09:28:25.063Z"
   },
   {
    "duration": 11,
    "start_time": "2022-06-10T09:28:25.179Z"
   },
   {
    "duration": 8,
    "start_time": "2022-06-10T09:28:25.194Z"
   },
   {
    "duration": 29,
    "start_time": "2022-06-10T09:28:25.204Z"
   },
   {
    "duration": 11,
    "start_time": "2022-06-10T09:28:25.234Z"
   },
   {
    "duration": 6,
    "start_time": "2022-06-10T09:28:25.246Z"
   },
   {
    "duration": 4,
    "start_time": "2022-06-10T09:28:25.254Z"
   },
   {
    "duration": 41,
    "start_time": "2022-06-10T09:28:25.259Z"
   },
   {
    "duration": 11,
    "start_time": "2022-06-10T09:28:25.302Z"
   },
   {
    "duration": 5,
    "start_time": "2022-06-10T09:28:25.314Z"
   },
   {
    "duration": 6,
    "start_time": "2022-06-10T09:28:25.320Z"
   },
   {
    "duration": 6,
    "start_time": "2022-06-10T09:28:25.328Z"
   },
   {
    "duration": 4,
    "start_time": "2022-06-10T09:28:25.336Z"
   },
   {
    "duration": 9,
    "start_time": "2022-06-10T09:28:25.341Z"
   },
   {
    "duration": 5,
    "start_time": "2022-06-10T09:28:25.351Z"
   },
   {
    "duration": 4348,
    "start_time": "2022-06-10T09:28:25.357Z"
   },
   {
    "duration": 3,
    "start_time": "2022-06-10T09:28:29.706Z"
   },
   {
    "duration": 13,
    "start_time": "2022-06-10T09:28:29.710Z"
   },
   {
    "duration": 7,
    "start_time": "2022-06-10T09:28:29.725Z"
   },
   {
    "duration": 62,
    "start_time": "2022-06-10T09:28:29.733Z"
   },
   {
    "duration": 9,
    "start_time": "2022-06-10T09:28:29.798Z"
   },
   {
    "duration": 7092,
    "start_time": "2022-06-10T09:28:29.809Z"
   },
   {
    "duration": 9,
    "start_time": "2022-06-10T09:28:36.903Z"
   },
   {
    "duration": 13,
    "start_time": "2022-06-10T09:28:36.915Z"
   },
   {
    "duration": 5282,
    "start_time": "2022-06-10T09:28:36.931Z"
   },
   {
    "duration": 1662,
    "start_time": "2022-06-10T09:28:49.015Z"
   },
   {
    "duration": 1726,
    "start_time": "2022-06-10T09:28:50.679Z"
   },
   {
    "duration": 30,
    "start_time": "2022-06-10T09:28:52.406Z"
   },
   {
    "duration": 13,
    "start_time": "2022-06-10T09:28:52.438Z"
   },
   {
    "duration": 3,
    "start_time": "2022-06-10T09:28:52.453Z"
   },
   {
    "duration": 13,
    "start_time": "2022-06-10T09:28:52.458Z"
   },
   {
    "duration": 17,
    "start_time": "2022-06-10T09:28:52.473Z"
   },
   {
    "duration": 39,
    "start_time": "2022-06-10T09:28:52.492Z"
   },
   {
    "duration": 258,
    "start_time": "2022-06-10T09:28:52.532Z"
   },
   {
    "duration": 252,
    "start_time": "2022-06-10T09:28:52.791Z"
   },
   {
    "duration": 263,
    "start_time": "2022-06-10T09:28:53.044Z"
   },
   {
    "duration": 215,
    "start_time": "2022-06-10T09:28:53.309Z"
   },
   {
    "duration": 7,
    "start_time": "2022-06-10T09:28:53.526Z"
   },
   {
    "duration": 7,
    "start_time": "2022-06-10T09:28:53.535Z"
   },
   {
    "duration": 6,
    "start_time": "2022-06-10T09:28:53.543Z"
   },
   {
    "duration": 6,
    "start_time": "2022-06-10T09:28:53.550Z"
   },
   {
    "duration": 120,
    "start_time": "2022-06-10T09:28:53.558Z"
   },
   {
    "duration": 15,
    "start_time": "2022-06-10T09:28:53.680Z"
   },
   {
    "duration": 17,
    "start_time": "2022-06-10T09:28:53.697Z"
   },
   {
    "duration": 29,
    "start_time": "2022-06-10T09:28:53.716Z"
   },
   {
    "duration": 13,
    "start_time": "2022-06-10T09:28:53.747Z"
   },
   {
    "duration": 6,
    "start_time": "2022-06-10T09:28:53.761Z"
   },
   {
    "duration": 7,
    "start_time": "2022-06-10T09:28:53.769Z"
   },
   {
    "duration": 49,
    "start_time": "2022-06-10T09:28:53.779Z"
   },
   {
    "duration": 9,
    "start_time": "2022-06-10T09:28:53.830Z"
   },
   {
    "duration": 6,
    "start_time": "2022-06-10T09:28:53.841Z"
   },
   {
    "duration": 6,
    "start_time": "2022-06-10T09:28:53.848Z"
   },
   {
    "duration": 7,
    "start_time": "2022-06-10T09:28:53.855Z"
   },
   {
    "duration": 7,
    "start_time": "2022-06-10T09:28:53.864Z"
   },
   {
    "duration": 8,
    "start_time": "2022-06-10T09:28:53.872Z"
   },
   {
    "duration": 18,
    "start_time": "2022-06-10T09:28:53.882Z"
   },
   {
    "duration": 3913,
    "start_time": "2022-06-10T09:28:53.903Z"
   },
   {
    "duration": 5,
    "start_time": "2022-06-10T09:28:57.894Z"
   },
   {
    "duration": 16,
    "start_time": "2022-06-10T09:28:57.901Z"
   },
   {
    "duration": 2,
    "start_time": "2022-06-10T09:28:57.919Z"
   },
   {
    "duration": 6,
    "start_time": "2022-06-10T09:28:57.922Z"
   },
   {
    "duration": 7,
    "start_time": "2022-06-10T09:28:57.930Z"
   },
   {
    "duration": 5456,
    "start_time": "2022-06-10T09:28:57.938Z"
   },
   {
    "duration": 6,
    "start_time": "2022-06-10T09:29:03.396Z"
   },
   {
    "duration": 9,
    "start_time": "2022-06-10T09:29:03.403Z"
   },
   {
    "duration": 4997,
    "start_time": "2022-06-10T09:29:03.416Z"
   },
   {
    "duration": 4,
    "start_time": "2022-06-10T09:29:11.650Z"
   },
   {
    "duration": 7,
    "start_time": "2022-06-10T09:29:18.898Z"
   },
   {
    "duration": 4015,
    "start_time": "2022-06-10T09:29:34.200Z"
   },
   {
    "duration": 3684,
    "start_time": "2022-06-10T09:29:41.131Z"
   },
   {
    "duration": 5,
    "start_time": "2022-06-10T09:29:47.587Z"
   },
   {
    "duration": 2,
    "start_time": "2022-06-10T09:29:49.274Z"
   },
   {
    "duration": 4,
    "start_time": "2022-06-10T09:29:50.842Z"
   },
   {
    "duration": 4,
    "start_time": "2022-06-10T09:30:21.312Z"
   },
   {
    "duration": 764,
    "start_time": "2022-06-10T09:30:21.743Z"
   },
   {
    "duration": 3,
    "start_time": "2022-06-10T09:30:24.482Z"
   },
   {
    "duration": 4,
    "start_time": "2022-06-10T09:30:26.863Z"
   },
   {
    "duration": 866,
    "start_time": "2022-06-10T09:30:34.337Z"
   },
   {
    "duration": 2,
    "start_time": "2022-06-10T09:30:36.735Z"
   },
   {
    "duration": 4,
    "start_time": "2022-06-10T09:30:39.738Z"
   },
   {
    "duration": 2,
    "start_time": "2022-06-10T09:31:05.513Z"
   },
   {
    "duration": 1974,
    "start_time": "2022-06-10T09:31:05.823Z"
   },
   {
    "duration": 4,
    "start_time": "2022-06-10T09:31:09.106Z"
   },
   {
    "duration": 5,
    "start_time": "2022-06-10T09:31:12.440Z"
   },
   {
    "duration": 1836,
    "start_time": "2022-06-10T09:31:24.392Z"
   },
   {
    "duration": 1701,
    "start_time": "2022-06-10T09:31:26.231Z"
   },
   {
    "duration": 27,
    "start_time": "2022-06-10T09:31:27.933Z"
   },
   {
    "duration": 12,
    "start_time": "2022-06-10T09:31:27.962Z"
   },
   {
    "duration": 3,
    "start_time": "2022-06-10T09:31:27.975Z"
   },
   {
    "duration": 12,
    "start_time": "2022-06-10T09:31:27.979Z"
   },
   {
    "duration": 12,
    "start_time": "2022-06-10T09:31:27.993Z"
   },
   {
    "duration": 27,
    "start_time": "2022-06-10T09:31:28.008Z"
   },
   {
    "duration": 267,
    "start_time": "2022-06-10T09:31:28.037Z"
   },
   {
    "duration": 242,
    "start_time": "2022-06-10T09:31:28.308Z"
   },
   {
    "duration": 253,
    "start_time": "2022-06-10T09:31:28.552Z"
   },
   {
    "duration": 254,
    "start_time": "2022-06-10T09:31:28.808Z"
   },
   {
    "duration": 6,
    "start_time": "2022-06-10T09:31:29.064Z"
   },
   {
    "duration": 8,
    "start_time": "2022-06-10T09:31:29.071Z"
   },
   {
    "duration": 14,
    "start_time": "2022-06-10T09:31:29.080Z"
   },
   {
    "duration": 14,
    "start_time": "2022-06-10T09:31:29.096Z"
   },
   {
    "duration": 24,
    "start_time": "2022-06-10T09:31:29.112Z"
   },
   {
    "duration": 12,
    "start_time": "2022-06-10T09:31:29.138Z"
   },
   {
    "duration": 9,
    "start_time": "2022-06-10T09:31:29.151Z"
   },
   {
    "duration": 118,
    "start_time": "2022-06-10T09:31:29.162Z"
   },
   {
    "duration": 16,
    "start_time": "2022-06-10T09:31:29.282Z"
   },
   {
    "duration": 11,
    "start_time": "2022-06-10T09:31:29.301Z"
   },
   {
    "duration": 13,
    "start_time": "2022-06-10T09:31:29.313Z"
   },
   {
    "duration": 24,
    "start_time": "2022-06-10T09:31:29.328Z"
   },
   {
    "duration": 8,
    "start_time": "2022-06-10T09:31:29.353Z"
   },
   {
    "duration": 7,
    "start_time": "2022-06-10T09:31:29.362Z"
   },
   {
    "duration": 5,
    "start_time": "2022-06-10T09:31:29.370Z"
   },
   {
    "duration": 5,
    "start_time": "2022-06-10T09:31:29.378Z"
   },
   {
    "duration": 7,
    "start_time": "2022-06-10T09:31:29.394Z"
   },
   {
    "duration": 7,
    "start_time": "2022-06-10T09:31:29.402Z"
   },
   {
    "duration": 8,
    "start_time": "2022-06-10T09:31:29.411Z"
   },
   {
    "duration": 2085,
    "start_time": "2022-06-10T09:31:29.421Z"
   },
   {
    "duration": 4,
    "start_time": "2022-06-10T09:31:31.507Z"
   },
   {
    "duration": 18,
    "start_time": "2022-06-10T09:31:31.512Z"
   },
   {
    "duration": 7,
    "start_time": "2022-06-10T09:31:31.532Z"
   },
   {
    "duration": 53,
    "start_time": "2022-06-10T09:31:31.541Z"
   },
   {
    "duration": 5,
    "start_time": "2022-06-10T09:31:31.596Z"
   },
   {
    "duration": 3108,
    "start_time": "2022-06-10T09:31:31.603Z"
   },
   {
    "duration": 5,
    "start_time": "2022-06-10T09:31:34.713Z"
   },
   {
    "duration": 5,
    "start_time": "2022-06-10T09:31:34.720Z"
   },
   {
    "duration": 2483,
    "start_time": "2022-06-10T09:31:34.727Z"
   },
   {
    "duration": 6,
    "start_time": "2022-06-10T09:31:42.610Z"
   },
   {
    "duration": 1809,
    "start_time": "2022-06-10T09:31:57.129Z"
   },
   {
    "duration": 1637,
    "start_time": "2022-06-10T09:31:58.940Z"
   },
   {
    "duration": 28,
    "start_time": "2022-06-10T09:32:00.579Z"
   },
   {
    "duration": 13,
    "start_time": "2022-06-10T09:32:00.610Z"
   },
   {
    "duration": 7,
    "start_time": "2022-06-10T09:32:00.624Z"
   },
   {
    "duration": 14,
    "start_time": "2022-06-10T09:32:00.633Z"
   },
   {
    "duration": 12,
    "start_time": "2022-06-10T09:32:00.648Z"
   },
   {
    "duration": 23,
    "start_time": "2022-06-10T09:32:00.662Z"
   },
   {
    "duration": 233,
    "start_time": "2022-06-10T09:32:00.687Z"
   },
   {
    "duration": 203,
    "start_time": "2022-06-10T09:32:00.922Z"
   },
   {
    "duration": 225,
    "start_time": "2022-06-10T09:32:01.126Z"
   },
   {
    "duration": 202,
    "start_time": "2022-06-10T09:32:01.352Z"
   },
   {
    "duration": 6,
    "start_time": "2022-06-10T09:32:01.555Z"
   },
   {
    "duration": 12,
    "start_time": "2022-06-10T09:32:01.563Z"
   },
   {
    "duration": 13,
    "start_time": "2022-06-10T09:32:01.576Z"
   },
   {
    "duration": 15,
    "start_time": "2022-06-10T09:32:01.591Z"
   },
   {
    "duration": 37,
    "start_time": "2022-06-10T09:32:01.608Z"
   },
   {
    "duration": 23,
    "start_time": "2022-06-10T09:32:01.647Z"
   },
   {
    "duration": 13,
    "start_time": "2022-06-10T09:32:01.672Z"
   },
   {
    "duration": 138,
    "start_time": "2022-06-10T09:32:01.686Z"
   },
   {
    "duration": 34,
    "start_time": "2022-06-10T09:32:01.825Z"
   },
   {
    "duration": 17,
    "start_time": "2022-06-10T09:32:01.861Z"
   },
   {
    "duration": 31,
    "start_time": "2022-06-10T09:32:01.880Z"
   },
   {
    "duration": 37,
    "start_time": "2022-06-10T09:32:01.913Z"
   },
   {
    "duration": 21,
    "start_time": "2022-06-10T09:32:01.952Z"
   },
   {
    "duration": 28,
    "start_time": "2022-06-10T09:32:01.975Z"
   },
   {
    "duration": 21,
    "start_time": "2022-06-10T09:32:02.005Z"
   },
   {
    "duration": 4,
    "start_time": "2022-06-10T09:32:02.029Z"
   },
   {
    "duration": 9,
    "start_time": "2022-06-10T09:32:02.035Z"
   },
   {
    "duration": 10,
    "start_time": "2022-06-10T09:32:02.046Z"
   },
   {
    "duration": 27,
    "start_time": "2022-06-10T09:32:02.057Z"
   },
   {
    "duration": 1915,
    "start_time": "2022-06-10T09:32:02.086Z"
   },
   {
    "duration": 5,
    "start_time": "2022-06-10T09:32:04.003Z"
   },
   {
    "duration": 16,
    "start_time": "2022-06-10T09:32:04.010Z"
   },
   {
    "duration": 6,
    "start_time": "2022-06-10T09:32:04.028Z"
   },
   {
    "duration": 9,
    "start_time": "2022-06-10T09:32:04.035Z"
   },
   {
    "duration": 7,
    "start_time": "2022-06-10T09:32:04.045Z"
   },
   {
    "duration": 2555,
    "start_time": "2022-06-10T09:32:04.053Z"
   },
   {
    "duration": 5,
    "start_time": "2022-06-10T09:32:06.611Z"
   },
   {
    "duration": 9,
    "start_time": "2022-06-10T09:32:06.618Z"
   },
   {
    "duration": 2100,
    "start_time": "2022-06-10T09:32:06.695Z"
   },
   {
    "duration": 18519,
    "start_time": "2022-06-10T16:35:32.595Z"
   },
   {
    "duration": 2171,
    "start_time": "2022-06-10T16:35:51.116Z"
   },
   {
    "duration": 0,
    "start_time": "2022-06-10T16:35:53.294Z"
   },
   {
    "duration": 1628,
    "start_time": "2022-06-10T16:36:35.332Z"
   },
   {
    "duration": 52,
    "start_time": "2022-06-10T16:36:39.556Z"
   },
   {
    "duration": 53,
    "start_time": "2022-06-10T16:38:18.611Z"
   },
   {
    "duration": 18,
    "start_time": "2022-06-10T16:38:22.287Z"
   },
   {
    "duration": 5,
    "start_time": "2022-06-10T16:38:37.454Z"
   },
   {
    "duration": 14,
    "start_time": "2022-06-10T16:38:39.119Z"
   },
   {
    "duration": 11,
    "start_time": "2022-06-10T16:38:45.155Z"
   },
   {
    "duration": 24,
    "start_time": "2022-06-10T16:39:25.053Z"
   },
   {
    "duration": 1394,
    "start_time": "2022-06-10T16:39:26.633Z"
   },
   {
    "duration": 0,
    "start_time": "2022-06-10T16:39:28.030Z"
   },
   {
    "duration": 0,
    "start_time": "2022-06-10T16:39:28.031Z"
   },
   {
    "duration": 504,
    "start_time": "2022-06-10T16:39:44.372Z"
   },
   {
    "duration": 45,
    "start_time": "2022-06-10T16:39:53.750Z"
   },
   {
    "duration": 221,
    "start_time": "2022-06-10T16:39:58.699Z"
   },
   {
    "duration": 202,
    "start_time": "2022-06-10T16:39:59.769Z"
   },
   {
    "duration": 217,
    "start_time": "2022-06-10T16:40:00.558Z"
   },
   {
    "duration": 289,
    "start_time": "2022-06-10T16:40:01.307Z"
   },
   {
    "duration": 6,
    "start_time": "2022-06-10T16:40:02.914Z"
   },
   {
    "duration": 6,
    "start_time": "2022-06-10T16:40:03.930Z"
   },
   {
    "duration": 4,
    "start_time": "2022-06-10T16:40:05.032Z"
   },
   {
    "duration": 16,
    "start_time": "2022-06-10T16:45:19.611Z"
   },
   {
    "duration": 9,
    "start_time": "2022-06-10T16:45:20.382Z"
   },
   {
    "duration": 8,
    "start_time": "2022-06-10T16:45:21.245Z"
   },
   {
    "duration": 20,
    "start_time": "2022-06-10T16:45:21.762Z"
   },
   {
    "duration": 12,
    "start_time": "2022-06-10T16:45:22.507Z"
   },
   {
    "duration": 4,
    "start_time": "2022-06-10T16:45:23.838Z"
   },
   {
    "duration": 4,
    "start_time": "2022-06-10T16:45:29.036Z"
   },
   {
    "duration": 23,
    "start_time": "2022-06-10T16:45:29.793Z"
   },
   {
    "duration": 8,
    "start_time": "2022-06-10T16:45:41.338Z"
   },
   {
    "duration": 41,
    "start_time": "2022-06-10T16:45:54.423Z"
   },
   {
    "duration": 8,
    "start_time": "2022-06-10T17:12:30.065Z"
   },
   {
    "duration": 5,
    "start_time": "2022-06-10T17:12:31.351Z"
   },
   {
    "duration": 10,
    "start_time": "2022-06-10T17:12:33.286Z"
   },
   {
    "duration": 3,
    "start_time": "2022-06-10T17:12:34.031Z"
   },
   {
    "duration": 2454,
    "start_time": "2022-06-10T17:50:23.245Z"
   },
   {
    "duration": 2402,
    "start_time": "2022-06-10T17:50:25.701Z"
   },
   {
    "duration": 2243,
    "start_time": "2022-06-10T17:50:28.105Z"
   },
   {
    "duration": 66,
    "start_time": "2022-06-10T17:50:30.350Z"
   },
   {
    "duration": 16,
    "start_time": "2022-06-10T17:50:30.418Z"
   },
   {
    "duration": 3,
    "start_time": "2022-06-10T17:50:30.436Z"
   },
   {
    "duration": 22,
    "start_time": "2022-06-10T17:50:30.441Z"
   },
   {
    "duration": 23,
    "start_time": "2022-06-10T17:50:30.466Z"
   },
   {
    "duration": 32,
    "start_time": "2022-06-10T17:50:30.491Z"
   },
   {
    "duration": 322,
    "start_time": "2022-06-10T17:50:30.526Z"
   },
   {
    "duration": 272,
    "start_time": "2022-06-10T17:50:30.850Z"
   },
   {
    "duration": 275,
    "start_time": "2022-06-10T17:50:31.124Z"
   },
   {
    "duration": 377,
    "start_time": "2022-06-10T17:50:31.400Z"
   },
   {
    "duration": 14,
    "start_time": "2022-06-10T17:50:31.779Z"
   },
   {
    "duration": 21,
    "start_time": "2022-06-10T17:50:31.794Z"
   },
   {
    "duration": 9,
    "start_time": "2022-06-10T17:50:31.817Z"
   },
   {
    "duration": 29,
    "start_time": "2022-06-10T17:50:31.828Z"
   },
   {
    "duration": 46,
    "start_time": "2022-06-10T17:50:31.867Z"
   },
   {
    "duration": 25,
    "start_time": "2022-06-10T17:50:31.915Z"
   },
   {
    "duration": 12,
    "start_time": "2022-06-10T17:50:31.942Z"
   },
   {
    "duration": 64,
    "start_time": "2022-06-10T17:50:31.956Z"
   },
   {
    "duration": 21,
    "start_time": "2022-06-10T17:50:32.022Z"
   },
   {
    "duration": 22,
    "start_time": "2022-06-10T17:50:32.046Z"
   },
   {
    "duration": 16,
    "start_time": "2022-06-10T17:50:32.078Z"
   },
   {
    "duration": 45,
    "start_time": "2022-06-10T17:50:32.096Z"
   },
   {
    "duration": 12,
    "start_time": "2022-06-10T17:50:32.143Z"
   },
   {
    "duration": 25,
    "start_time": "2022-06-10T17:50:32.164Z"
   },
   {
    "duration": 8,
    "start_time": "2022-06-10T17:50:32.193Z"
   },
   {
    "duration": 6,
    "start_time": "2022-06-10T17:50:32.202Z"
   },
   {
    "duration": 11,
    "start_time": "2022-06-10T17:50:32.211Z"
   },
   {
    "duration": 10,
    "start_time": "2022-06-10T17:50:32.224Z"
   },
   {
    "duration": 13,
    "start_time": "2022-06-10T17:50:32.236Z"
   },
   {
    "duration": 2425,
    "start_time": "2022-06-10T17:50:32.251Z"
   },
   {
    "duration": 5,
    "start_time": "2022-06-10T17:50:34.678Z"
   },
   {
    "duration": 75,
    "start_time": "2022-06-10T17:50:34.685Z"
   },
   {
    "duration": 12,
    "start_time": "2022-06-10T17:50:34.762Z"
   },
   {
    "duration": 8,
    "start_time": "2022-06-10T17:50:34.777Z"
   },
   {
    "duration": 12,
    "start_time": "2022-06-10T17:50:34.787Z"
   },
   {
    "duration": 3571,
    "start_time": "2022-06-10T17:50:34.801Z"
   },
   {
    "duration": 6,
    "start_time": "2022-06-10T17:50:38.374Z"
   },
   {
    "duration": 10,
    "start_time": "2022-06-10T17:50:38.382Z"
   },
   {
    "duration": 2780,
    "start_time": "2022-06-10T17:50:38.393Z"
   },
   {
    "duration": 5,
    "start_time": "2022-06-10T17:54:06.132Z"
   },
   {
    "duration": 4,
    "start_time": "2022-06-10T17:54:08.306Z"
   },
   {
    "duration": 22,
    "start_time": "2022-06-10T17:54:29.059Z"
   },
   {
    "duration": 11,
    "start_time": "2022-06-10T17:54:33.136Z"
   },
   {
    "duration": 2359,
    "start_time": "2022-06-10T17:55:16.103Z"
   },
   {
    "duration": 2429,
    "start_time": "2022-06-10T17:55:18.466Z"
   },
   {
    "duration": 2091,
    "start_time": "2022-06-10T17:55:20.898Z"
   },
   {
    "duration": 26,
    "start_time": "2022-06-10T17:55:22.991Z"
   },
   {
    "duration": 16,
    "start_time": "2022-06-10T17:55:23.018Z"
   },
   {
    "duration": 3,
    "start_time": "2022-06-10T17:55:23.036Z"
   },
   {
    "duration": 13,
    "start_time": "2022-06-10T17:55:23.040Z"
   },
   {
    "duration": 39,
    "start_time": "2022-06-10T17:55:23.055Z"
   },
   {
    "duration": 29,
    "start_time": "2022-06-10T17:55:23.096Z"
   },
   {
    "duration": 312,
    "start_time": "2022-06-10T17:55:23.127Z"
   },
   {
    "duration": 304,
    "start_time": "2022-06-10T17:55:23.440Z"
   },
   {
    "duration": 322,
    "start_time": "2022-06-10T17:55:23.746Z"
   },
   {
    "duration": 279,
    "start_time": "2022-06-10T17:55:24.070Z"
   },
   {
    "duration": 16,
    "start_time": "2022-06-10T17:55:24.351Z"
   },
   {
    "duration": 22,
    "start_time": "2022-06-10T17:55:24.369Z"
   },
   {
    "duration": 6,
    "start_time": "2022-06-10T17:55:24.393Z"
   },
   {
    "duration": 5,
    "start_time": "2022-06-10T17:55:24.401Z"
   },
   {
    "duration": 16,
    "start_time": "2022-06-10T17:55:24.407Z"
   },
   {
    "duration": 12,
    "start_time": "2022-06-10T17:55:24.425Z"
   },
   {
    "duration": 20,
    "start_time": "2022-06-10T17:55:24.439Z"
   },
   {
    "duration": 46,
    "start_time": "2022-06-10T17:55:24.464Z"
   },
   {
    "duration": 132,
    "start_time": "2022-06-10T17:55:24.512Z"
   },
   {
    "duration": 4,
    "start_time": "2022-06-10T17:55:24.645Z"
   },
   {
    "duration": 7,
    "start_time": "2022-06-10T17:55:24.675Z"
   },
   {
    "duration": 26,
    "start_time": "2022-06-10T17:55:24.684Z"
   },
   {
    "duration": 7,
    "start_time": "2022-06-10T17:55:24.712Z"
   },
   {
    "duration": 4,
    "start_time": "2022-06-10T17:55:24.721Z"
   },
   {
    "duration": 5,
    "start_time": "2022-06-10T17:55:24.729Z"
   },
   {
    "duration": 4,
    "start_time": "2022-06-10T17:55:24.735Z"
   },
   {
    "duration": 23,
    "start_time": "2022-06-10T17:55:24.740Z"
   },
   {
    "duration": 25,
    "start_time": "2022-06-10T17:55:24.766Z"
   },
   {
    "duration": 6,
    "start_time": "2022-06-10T17:55:24.793Z"
   },
   {
    "duration": 3459,
    "start_time": "2022-06-10T17:55:24.800Z"
   },
   {
    "duration": 1983,
    "start_time": "2022-06-11T10:24:43.189Z"
   },
   {
    "duration": 2045,
    "start_time": "2022-06-11T10:24:45.174Z"
   },
   {
    "duration": 2042,
    "start_time": "2022-06-11T10:24:47.221Z"
   },
   {
    "duration": 72,
    "start_time": "2022-06-11T10:24:49.265Z"
   },
   {
    "duration": 14,
    "start_time": "2022-06-11T10:24:49.340Z"
   },
   {
    "duration": 16,
    "start_time": "2022-06-11T10:24:49.355Z"
   },
   {
    "duration": 14,
    "start_time": "2022-06-11T10:24:49.373Z"
   },
   {
    "duration": 13,
    "start_time": "2022-06-11T10:24:49.388Z"
   },
   {
    "duration": 28,
    "start_time": "2022-06-11T10:24:49.403Z"
   },
   {
    "duration": 270,
    "start_time": "2022-06-11T10:24:49.433Z"
   },
   {
    "duration": 245,
    "start_time": "2022-06-11T10:24:49.704Z"
   },
   {
    "duration": 256,
    "start_time": "2022-06-11T10:24:49.951Z"
   },
   {
    "duration": 341,
    "start_time": "2022-06-11T10:24:50.210Z"
   },
   {
    "duration": 10,
    "start_time": "2022-06-11T10:24:50.555Z"
   },
   {
    "duration": 12,
    "start_time": "2022-06-11T10:24:50.567Z"
   },
   {
    "duration": 8,
    "start_time": "2022-06-11T10:24:50.581Z"
   },
   {
    "duration": 8,
    "start_time": "2022-06-11T10:24:50.591Z"
   },
   {
    "duration": 23,
    "start_time": "2022-06-11T10:24:50.600Z"
   },
   {
    "duration": 14,
    "start_time": "2022-06-11T10:24:50.625Z"
   },
   {
    "duration": 33,
    "start_time": "2022-06-11T10:24:50.641Z"
   },
   {
    "duration": 22,
    "start_time": "2022-06-11T10:24:50.676Z"
   },
   {
    "duration": 16,
    "start_time": "2022-06-11T10:24:50.700Z"
   },
   {
    "duration": 10,
    "start_time": "2022-06-11T10:24:50.717Z"
   },
   {
    "duration": 6,
    "start_time": "2022-06-11T10:24:50.729Z"
   },
   {
    "duration": 42,
    "start_time": "2022-06-11T10:24:50.736Z"
   },
   {
    "duration": 12,
    "start_time": "2022-06-11T10:24:50.782Z"
   },
   {
    "duration": 5,
    "start_time": "2022-06-11T10:24:50.795Z"
   },
   {
    "duration": 14,
    "start_time": "2022-06-11T10:24:50.801Z"
   },
   {
    "duration": 8,
    "start_time": "2022-06-11T10:24:50.816Z"
   },
   {
    "duration": 6,
    "start_time": "2022-06-11T10:24:50.826Z"
   },
   {
    "duration": 9,
    "start_time": "2022-06-11T10:24:50.833Z"
   },
   {
    "duration": 5,
    "start_time": "2022-06-11T10:24:50.843Z"
   },
   {
    "duration": 1940,
    "start_time": "2022-06-11T10:24:50.849Z"
   },
   {
    "duration": 230,
    "start_time": "2022-06-11T10:24:52.791Z"
   },
   {
    "duration": 0,
    "start_time": "2022-06-11T10:24:53.023Z"
   },
   {
    "duration": 0,
    "start_time": "2022-06-11T10:24:53.025Z"
   },
   {
    "duration": 0,
    "start_time": "2022-06-11T10:24:53.026Z"
   },
   {
    "duration": 0,
    "start_time": "2022-06-11T10:24:53.028Z"
   },
   {
    "duration": 0,
    "start_time": "2022-06-11T10:24:53.030Z"
   },
   {
    "duration": 0,
    "start_time": "2022-06-11T10:24:53.031Z"
   },
   {
    "duration": 0,
    "start_time": "2022-06-11T10:24:53.032Z"
   },
   {
    "duration": 0,
    "start_time": "2022-06-11T10:24:53.034Z"
   },
   {
    "duration": 3,
    "start_time": "2022-06-11T10:26:22.443Z"
   },
   {
    "duration": 3922,
    "start_time": "2022-06-11T10:26:22.846Z"
   },
   {
    "duration": 3778,
    "start_time": "2022-06-11T10:26:29.509Z"
   },
   {
    "duration": 3,
    "start_time": "2022-06-11T10:26:38.955Z"
   },
   {
    "duration": 409,
    "start_time": "2022-06-11T10:26:39.267Z"
   },
   {
    "duration": 2076,
    "start_time": "2022-06-11T10:26:47.978Z"
   },
   {
    "duration": 2056,
    "start_time": "2022-06-11T10:26:50.056Z"
   },
   {
    "duration": 1760,
    "start_time": "2022-06-11T10:26:52.114Z"
   },
   {
    "duration": 27,
    "start_time": "2022-06-11T10:26:53.875Z"
   },
   {
    "duration": 17,
    "start_time": "2022-06-11T10:26:53.904Z"
   },
   {
    "duration": 4,
    "start_time": "2022-06-11T10:26:53.923Z"
   },
   {
    "duration": 14,
    "start_time": "2022-06-11T10:26:53.928Z"
   },
   {
    "duration": 26,
    "start_time": "2022-06-11T10:26:53.944Z"
   },
   {
    "duration": 25,
    "start_time": "2022-06-11T10:26:53.975Z"
   },
   {
    "duration": 277,
    "start_time": "2022-06-11T10:26:54.001Z"
   },
   {
    "duration": 234,
    "start_time": "2022-06-11T10:26:54.279Z"
   },
   {
    "duration": 251,
    "start_time": "2022-06-11T10:26:54.515Z"
   },
   {
    "duration": 230,
    "start_time": "2022-06-11T10:26:54.768Z"
   },
   {
    "duration": 8,
    "start_time": "2022-06-11T10:26:55.002Z"
   },
   {
    "duration": 11,
    "start_time": "2022-06-11T10:26:55.012Z"
   },
   {
    "duration": 10,
    "start_time": "2022-06-11T10:26:55.025Z"
   },
   {
    "duration": 15,
    "start_time": "2022-06-11T10:26:55.037Z"
   },
   {
    "duration": 130,
    "start_time": "2022-06-11T10:26:55.058Z"
   },
   {
    "duration": 14,
    "start_time": "2022-06-11T10:26:55.190Z"
   },
   {
    "duration": 13,
    "start_time": "2022-06-11T10:26:55.206Z"
   },
   {
    "duration": 26,
    "start_time": "2022-06-11T10:26:55.220Z"
   },
   {
    "duration": 29,
    "start_time": "2022-06-11T10:26:55.248Z"
   },
   {
    "duration": 6,
    "start_time": "2022-06-11T10:26:55.279Z"
   },
   {
    "duration": 7,
    "start_time": "2022-06-11T10:26:55.286Z"
   },
   {
    "duration": 26,
    "start_time": "2022-06-11T10:26:55.294Z"
   },
   {
    "duration": 7,
    "start_time": "2022-06-11T10:26:55.322Z"
   },
   {
    "duration": 10,
    "start_time": "2022-06-11T10:26:55.331Z"
   },
   {
    "duration": 5,
    "start_time": "2022-06-11T10:26:55.343Z"
   },
   {
    "duration": 10,
    "start_time": "2022-06-11T10:26:55.350Z"
   },
   {
    "duration": 14,
    "start_time": "2022-06-11T10:26:55.363Z"
   },
   {
    "duration": 12,
    "start_time": "2022-06-11T10:26:55.379Z"
   },
   {
    "duration": 5,
    "start_time": "2022-06-11T10:26:55.392Z"
   },
   {
    "duration": 385,
    "start_time": "2022-06-11T10:26:55.399Z"
   },
   {
    "duration": 2,
    "start_time": "2022-06-11T10:26:55.786Z"
   },
   {
    "duration": 70,
    "start_time": "2022-06-11T10:26:55.790Z"
   },
   {
    "duration": 17,
    "start_time": "2022-06-11T10:26:55.867Z"
   },
   {
    "duration": 143,
    "start_time": "2022-06-11T10:26:55.886Z"
   },
   {
    "duration": 0,
    "start_time": "2022-06-11T10:26:56.031Z"
   },
   {
    "duration": 0,
    "start_time": "2022-06-11T10:26:56.032Z"
   },
   {
    "duration": 0,
    "start_time": "2022-06-11T10:26:56.033Z"
   },
   {
    "duration": 787,
    "start_time": "2022-06-11T10:27:18.179Z"
   },
   {
    "duration": 12,
    "start_time": "2022-06-11T10:27:27.678Z"
   },
   {
    "duration": 5,
    "start_time": "2022-06-11T10:27:35.398Z"
   },
   {
    "duration": 6,
    "start_time": "2022-06-11T10:27:37.485Z"
   },
   {
    "duration": 446,
    "start_time": "2022-06-11T10:27:38.027Z"
   },
   {
    "duration": 2133,
    "start_time": "2022-06-11T11:12:54.047Z"
   },
   {
    "duration": 2207,
    "start_time": "2022-06-11T11:12:56.182Z"
   },
   {
    "duration": 1679,
    "start_time": "2022-06-11T11:12:58.391Z"
   },
   {
    "duration": 27,
    "start_time": "2022-06-11T11:13:00.072Z"
   },
   {
    "duration": 14,
    "start_time": "2022-06-11T11:13:00.101Z"
   },
   {
    "duration": 3,
    "start_time": "2022-06-11T11:13:00.117Z"
   },
   {
    "duration": 20,
    "start_time": "2022-06-11T11:13:00.121Z"
   },
   {
    "duration": 15,
    "start_time": "2022-06-11T11:13:00.143Z"
   },
   {
    "duration": 29,
    "start_time": "2022-06-11T11:13:00.171Z"
   },
   {
    "duration": 252,
    "start_time": "2022-06-11T11:13:00.201Z"
   },
   {
    "duration": 252,
    "start_time": "2022-06-11T11:13:00.460Z"
   },
   {
    "duration": 270,
    "start_time": "2022-06-11T11:13:00.713Z"
   },
   {
    "duration": 242,
    "start_time": "2022-06-11T11:13:00.984Z"
   },
   {
    "duration": 6,
    "start_time": "2022-06-11T11:13:01.229Z"
   },
   {
    "duration": 27,
    "start_time": "2022-06-11T11:13:01.237Z"
   },
   {
    "duration": 8,
    "start_time": "2022-06-11T11:13:01.269Z"
   },
   {
    "duration": 12,
    "start_time": "2022-06-11T11:13:01.280Z"
   },
   {
    "duration": 139,
    "start_time": "2022-06-11T11:13:01.293Z"
   },
   {
    "duration": 48,
    "start_time": "2022-06-11T11:13:01.434Z"
   },
   {
    "duration": 11,
    "start_time": "2022-06-11T11:13:01.484Z"
   },
   {
    "duration": 35,
    "start_time": "2022-06-11T11:13:01.497Z"
   },
   {
    "duration": 22,
    "start_time": "2022-06-11T11:13:01.534Z"
   },
   {
    "duration": 26,
    "start_time": "2022-06-11T11:13:01.558Z"
   },
   {
    "duration": 8,
    "start_time": "2022-06-11T11:13:01.585Z"
   },
   {
    "duration": 31,
    "start_time": "2022-06-11T11:13:01.594Z"
   },
   {
    "duration": 18,
    "start_time": "2022-06-11T11:13:01.628Z"
   },
   {
    "duration": 22,
    "start_time": "2022-06-11T11:13:01.648Z"
   },
   {
    "duration": 12,
    "start_time": "2022-06-11T11:13:01.672Z"
   },
   {
    "duration": 7,
    "start_time": "2022-06-11T11:13:01.686Z"
   },
   {
    "duration": 17,
    "start_time": "2022-06-11T11:13:01.695Z"
   },
   {
    "duration": 28,
    "start_time": "2022-06-11T11:13:01.714Z"
   },
   {
    "duration": 33,
    "start_time": "2022-06-11T11:13:01.743Z"
   },
   {
    "duration": 394,
    "start_time": "2022-06-11T11:13:01.779Z"
   },
   {
    "duration": 4,
    "start_time": "2022-06-11T11:13:02.175Z"
   },
   {
    "duration": 6,
    "start_time": "2022-06-11T11:13:02.180Z"
   },
   {
    "duration": 12,
    "start_time": "2022-06-11T11:13:02.187Z"
   },
   {
    "duration": 585,
    "start_time": "2022-06-11T11:13:02.201Z"
   },
   {
    "duration": 5,
    "start_time": "2022-06-11T11:13:02.790Z"
   },
   {
    "duration": 86,
    "start_time": "2022-06-11T11:13:02.796Z"
   },
   {
    "duration": 505,
    "start_time": "2022-06-11T11:13:02.883Z"
   },
   {
    "duration": 3295,
    "start_time": "2022-06-11T11:15:06.427Z"
   },
   {
    "duration": 4549,
    "start_time": "2022-06-11T12:35:28.186Z"
   },
   {
    "duration": 2294,
    "start_time": "2022-06-11T12:35:32.738Z"
   },
   {
    "duration": 2178,
    "start_time": "2022-06-11T12:35:35.034Z"
   },
   {
    "duration": 59,
    "start_time": "2022-06-11T12:35:37.214Z"
   },
   {
    "duration": 14,
    "start_time": "2022-06-11T12:35:37.276Z"
   },
   {
    "duration": 18,
    "start_time": "2022-06-11T12:35:37.292Z"
   },
   {
    "duration": 15,
    "start_time": "2022-06-11T12:35:37.311Z"
   },
   {
    "duration": 15,
    "start_time": "2022-06-11T12:35:37.327Z"
   },
   {
    "duration": 30,
    "start_time": "2022-06-11T12:35:37.343Z"
   },
   {
    "duration": 298,
    "start_time": "2022-06-11T12:35:37.375Z"
   },
   {
    "duration": 250,
    "start_time": "2022-06-11T12:35:37.675Z"
   },
   {
    "duration": 287,
    "start_time": "2022-06-11T12:35:37.926Z"
   },
   {
    "duration": 358,
    "start_time": "2022-06-11T12:35:38.215Z"
   },
   {
    "duration": 7,
    "start_time": "2022-06-11T12:35:38.577Z"
   },
   {
    "duration": 7,
    "start_time": "2022-06-11T12:35:38.586Z"
   },
   {
    "duration": 5,
    "start_time": "2022-06-11T12:35:38.595Z"
   },
   {
    "duration": 5,
    "start_time": "2022-06-11T12:35:38.602Z"
   },
   {
    "duration": 20,
    "start_time": "2022-06-11T12:35:38.609Z"
   },
   {
    "duration": 37,
    "start_time": "2022-06-11T12:35:38.631Z"
   },
   {
    "duration": 14,
    "start_time": "2022-06-11T12:35:38.670Z"
   },
   {
    "duration": 27,
    "start_time": "2022-06-11T12:35:38.686Z"
   },
   {
    "duration": 12,
    "start_time": "2022-06-11T12:35:38.715Z"
   },
   {
    "duration": 9,
    "start_time": "2022-06-11T12:35:38.729Z"
   },
   {
    "duration": 19,
    "start_time": "2022-06-11T12:35:38.740Z"
   },
   {
    "duration": 29,
    "start_time": "2022-06-11T12:35:38.763Z"
   },
   {
    "duration": 15,
    "start_time": "2022-06-11T12:35:38.794Z"
   },
   {
    "duration": 7,
    "start_time": "2022-06-11T12:35:38.811Z"
   },
   {
    "duration": 7,
    "start_time": "2022-06-11T12:35:38.820Z"
   },
   {
    "duration": 11,
    "start_time": "2022-06-11T12:35:38.831Z"
   },
   {
    "duration": 44,
    "start_time": "2022-06-11T12:35:38.843Z"
   },
   {
    "duration": 10,
    "start_time": "2022-06-11T12:35:38.889Z"
   },
   {
    "duration": 5,
    "start_time": "2022-06-11T12:35:38.901Z"
   },
   {
    "duration": 458,
    "start_time": "2022-06-11T12:35:38.908Z"
   },
   {
    "duration": 3623,
    "start_time": "2022-06-11T12:35:39.372Z"
   },
   {
    "duration": 0,
    "start_time": "2022-06-11T12:35:42.997Z"
   },
   {
    "duration": 0,
    "start_time": "2022-06-11T12:35:42.998Z"
   },
   {
    "duration": 0,
    "start_time": "2022-06-11T12:35:42.999Z"
   },
   {
    "duration": 0,
    "start_time": "2022-06-11T12:35:43.001Z"
   },
   {
    "duration": 0,
    "start_time": "2022-06-11T12:35:43.002Z"
   },
   {
    "duration": 0,
    "start_time": "2022-06-11T12:35:43.003Z"
   },
   {
    "duration": 5,
    "start_time": "2022-06-11T12:35:52.491Z"
   },
   {
    "duration": 4,
    "start_time": "2022-06-11T12:35:54.786Z"
   },
   {
    "duration": 4,
    "start_time": "2022-06-11T12:35:55.726Z"
   },
   {
    "duration": 521,
    "start_time": "2022-06-11T12:35:56.755Z"
   },
   {
    "duration": 3459,
    "start_time": "2022-06-11T12:36:02.717Z"
   },
   {
    "duration": 6,
    "start_time": "2022-06-11T12:36:09.200Z"
   },
   {
    "duration": 4,
    "start_time": "2022-06-11T12:36:09.886Z"
   },
   {
    "duration": 713,
    "start_time": "2022-06-11T12:36:11.178Z"
   },
   {
    "duration": 6,
    "start_time": "2022-06-11T12:36:22.685Z"
   },
   {
    "duration": 4,
    "start_time": "2022-06-11T12:36:23.186Z"
   },
   {
    "duration": 707,
    "start_time": "2022-06-11T12:36:23.681Z"
   },
   {
    "duration": 5,
    "start_time": "2022-06-11T12:36:26.685Z"
   },
   {
    "duration": 4,
    "start_time": "2022-06-11T12:36:27.632Z"
   },
   {
    "duration": 502,
    "start_time": "2022-06-11T12:36:28.184Z"
   },
   {
    "duration": 5,
    "start_time": "2022-06-11T12:36:50.793Z"
   },
   {
    "duration": 5,
    "start_time": "2022-06-11T12:36:51.787Z"
   },
   {
    "duration": 495,
    "start_time": "2022-06-11T12:36:52.392Z"
   },
   {
    "duration": 4,
    "start_time": "2022-06-11T12:37:10.471Z"
   },
   {
    "duration": 351,
    "start_time": "2022-06-11T12:37:11.233Z"
   },
   {
    "duration": 4,
    "start_time": "2022-06-11T12:37:17.806Z"
   },
   {
    "duration": 2448,
    "start_time": "2022-06-11T12:37:20.734Z"
   },
   {
    "duration": 2572,
    "start_time": "2022-06-11T12:37:28.909Z"
   },
   {
    "duration": 4,
    "start_time": "2022-06-11T12:37:38.702Z"
   },
   {
    "duration": 5042,
    "start_time": "2022-06-11T12:37:39.231Z"
   },
   {
    "duration": 4853,
    "start_time": "2022-06-11T12:38:34.626Z"
   },
   {
    "duration": 5,
    "start_time": "2022-06-11T12:38:49.787Z"
   },
   {
    "duration": 8,
    "start_time": "2022-06-11T12:38:52.056Z"
   },
   {
    "duration": 7844,
    "start_time": "2022-06-11T12:38:57.043Z"
   },
   {
    "duration": 5,
    "start_time": "2022-06-11T12:39:08.837Z"
   },
   {
    "duration": 3,
    "start_time": "2022-06-11T12:39:09.976Z"
   },
   {
    "duration": 6284,
    "start_time": "2022-06-11T12:39:11.087Z"
   },
   {
    "duration": 2,
    "start_time": "2022-06-11T12:39:38.118Z"
   },
   {
    "duration": 25367,
    "start_time": "2022-06-11T14:53:46.408Z"
   },
   {
    "duration": 1915,
    "start_time": "2022-06-11T14:54:11.777Z"
   },
   {
    "duration": 997,
    "start_time": "2022-06-11T14:54:13.694Z"
   },
   {
    "duration": 0,
    "start_time": "2022-06-11T14:54:14.694Z"
   },
   {
    "duration": 0,
    "start_time": "2022-06-11T14:54:14.695Z"
   },
   {
    "duration": 0,
    "start_time": "2022-06-11T14:54:14.696Z"
   },
   {
    "duration": 0,
    "start_time": "2022-06-11T14:54:14.697Z"
   },
   {
    "duration": 0,
    "start_time": "2022-06-11T14:54:14.698Z"
   },
   {
    "duration": 0,
    "start_time": "2022-06-11T14:54:14.699Z"
   },
   {
    "duration": 0,
    "start_time": "2022-06-11T14:54:14.700Z"
   },
   {
    "duration": 0,
    "start_time": "2022-06-11T14:54:14.701Z"
   },
   {
    "duration": 0,
    "start_time": "2022-06-11T14:54:14.702Z"
   },
   {
    "duration": 0,
    "start_time": "2022-06-11T14:54:14.704Z"
   },
   {
    "duration": 0,
    "start_time": "2022-06-11T14:54:14.705Z"
   },
   {
    "duration": 0,
    "start_time": "2022-06-11T14:54:14.727Z"
   },
   {
    "duration": 0,
    "start_time": "2022-06-11T14:54:14.728Z"
   },
   {
    "duration": 0,
    "start_time": "2022-06-11T14:54:14.729Z"
   },
   {
    "duration": 0,
    "start_time": "2022-06-11T14:54:14.731Z"
   },
   {
    "duration": 0,
    "start_time": "2022-06-11T14:54:14.732Z"
   },
   {
    "duration": 0,
    "start_time": "2022-06-11T14:54:14.733Z"
   },
   {
    "duration": 0,
    "start_time": "2022-06-11T14:54:14.734Z"
   },
   {
    "duration": 0,
    "start_time": "2022-06-11T14:54:14.736Z"
   },
   {
    "duration": 0,
    "start_time": "2022-06-11T14:54:14.737Z"
   },
   {
    "duration": 0,
    "start_time": "2022-06-11T14:54:14.738Z"
   },
   {
    "duration": 0,
    "start_time": "2022-06-11T14:54:14.740Z"
   },
   {
    "duration": 0,
    "start_time": "2022-06-11T14:54:14.741Z"
   },
   {
    "duration": 0,
    "start_time": "2022-06-11T14:54:14.742Z"
   },
   {
    "duration": 0,
    "start_time": "2022-06-11T14:54:14.743Z"
   },
   {
    "duration": 0,
    "start_time": "2022-06-11T14:54:14.744Z"
   },
   {
    "duration": 0,
    "start_time": "2022-06-11T14:54:14.745Z"
   },
   {
    "duration": 0,
    "start_time": "2022-06-11T14:54:14.746Z"
   },
   {
    "duration": 0,
    "start_time": "2022-06-11T14:54:14.747Z"
   },
   {
    "duration": 0,
    "start_time": "2022-06-11T14:54:14.748Z"
   },
   {
    "duration": 0,
    "start_time": "2022-06-11T14:54:14.750Z"
   },
   {
    "duration": 0,
    "start_time": "2022-06-11T14:54:14.751Z"
   },
   {
    "duration": 0,
    "start_time": "2022-06-11T14:54:14.752Z"
   },
   {
    "duration": 0,
    "start_time": "2022-06-11T14:54:14.754Z"
   },
   {
    "duration": 0,
    "start_time": "2022-06-11T14:54:14.756Z"
   },
   {
    "duration": 0,
    "start_time": "2022-06-11T14:54:14.757Z"
   },
   {
    "duration": 0,
    "start_time": "2022-06-11T14:54:14.758Z"
   },
   {
    "duration": 1910,
    "start_time": "2022-06-11T14:55:13.076Z"
   },
   {
    "duration": 2245,
    "start_time": "2022-06-11T14:55:14.988Z"
   },
   {
    "duration": 2593,
    "start_time": "2022-06-11T14:55:17.235Z"
   },
   {
    "duration": 71,
    "start_time": "2022-06-11T14:55:19.829Z"
   },
   {
    "duration": 15,
    "start_time": "2022-06-11T14:55:19.902Z"
   },
   {
    "duration": 4,
    "start_time": "2022-06-11T14:55:19.918Z"
   },
   {
    "duration": 13,
    "start_time": "2022-06-11T14:55:19.923Z"
   },
   {
    "duration": 12,
    "start_time": "2022-06-11T14:55:19.937Z"
   },
   {
    "duration": 20,
    "start_time": "2022-06-11T14:55:19.951Z"
   },
   {
    "duration": 241,
    "start_time": "2022-06-11T14:55:19.973Z"
   },
   {
    "duration": 218,
    "start_time": "2022-06-11T14:55:20.216Z"
   },
   {
    "duration": 228,
    "start_time": "2022-06-11T14:55:20.436Z"
   },
   {
    "duration": 318,
    "start_time": "2022-06-11T14:55:20.665Z"
   },
   {
    "duration": 6,
    "start_time": "2022-06-11T14:55:20.986Z"
   },
   {
    "duration": 10,
    "start_time": "2022-06-11T14:55:20.993Z"
   },
   {
    "duration": 7,
    "start_time": "2022-06-11T14:55:21.004Z"
   },
   {
    "duration": 17,
    "start_time": "2022-06-11T14:55:21.013Z"
   },
   {
    "duration": 21,
    "start_time": "2022-06-11T14:55:21.032Z"
   },
   {
    "duration": 12,
    "start_time": "2022-06-11T14:55:21.055Z"
   },
   {
    "duration": 15,
    "start_time": "2022-06-11T14:55:21.069Z"
   },
   {
    "duration": 26,
    "start_time": "2022-06-11T14:55:21.086Z"
   },
   {
    "duration": 10,
    "start_time": "2022-06-11T14:55:21.127Z"
   },
   {
    "duration": 6,
    "start_time": "2022-06-11T14:55:21.138Z"
   },
   {
    "duration": 7,
    "start_time": "2022-06-11T14:55:21.145Z"
   },
   {
    "duration": 25,
    "start_time": "2022-06-11T14:55:21.153Z"
   },
   {
    "duration": 7,
    "start_time": "2022-06-11T14:55:21.180Z"
   },
   {
    "duration": 6,
    "start_time": "2022-06-11T14:55:21.188Z"
   },
   {
    "duration": 32,
    "start_time": "2022-06-11T14:55:21.195Z"
   },
   {
    "duration": 3,
    "start_time": "2022-06-11T14:55:21.228Z"
   },
   {
    "duration": 7,
    "start_time": "2022-06-11T14:55:21.233Z"
   },
   {
    "duration": 9,
    "start_time": "2022-06-11T14:55:21.241Z"
   },
   {
    "duration": 7,
    "start_time": "2022-06-11T14:55:21.251Z"
   },
   {
    "duration": 3193,
    "start_time": "2022-06-11T14:55:21.260Z"
   },
   {
    "duration": 73,
    "start_time": "2022-06-11T14:55:24.455Z"
   },
   {
    "duration": 7,
    "start_time": "2022-06-11T14:55:24.529Z"
   },
   {
    "duration": 9,
    "start_time": "2022-06-11T14:55:24.538Z"
   },
   {
    "duration": 4397,
    "start_time": "2022-06-11T14:55:24.549Z"
   },
   {
    "duration": 79,
    "start_time": "2022-06-11T14:55:28.948Z"
   },
   {
    "duration": 9,
    "start_time": "2022-06-11T14:55:29.029Z"
   },
   {
    "duration": 3895,
    "start_time": "2022-06-11T14:55:29.040Z"
   },
   {
    "duration": 1872,
    "start_time": "2022-06-11T15:05:11.660Z"
   },
   {
    "duration": 1907,
    "start_time": "2022-06-11T15:05:13.534Z"
   },
   {
    "duration": 1671,
    "start_time": "2022-06-11T15:05:15.443Z"
   },
   {
    "duration": 27,
    "start_time": "2022-06-11T15:05:17.116Z"
   },
   {
    "duration": 12,
    "start_time": "2022-06-11T15:05:17.145Z"
   },
   {
    "duration": 3,
    "start_time": "2022-06-11T15:05:17.159Z"
   },
   {
    "duration": 11,
    "start_time": "2022-06-11T15:05:17.163Z"
   },
   {
    "duration": 11,
    "start_time": "2022-06-11T15:05:17.176Z"
   },
   {
    "duration": 22,
    "start_time": "2022-06-11T15:05:17.188Z"
   },
   {
    "duration": 248,
    "start_time": "2022-06-11T15:05:17.213Z"
   },
   {
    "duration": 214,
    "start_time": "2022-06-11T15:05:17.463Z"
   },
   {
    "duration": 235,
    "start_time": "2022-06-11T15:05:17.679Z"
   },
   {
    "duration": 217,
    "start_time": "2022-06-11T15:05:17.915Z"
   },
   {
    "duration": 6,
    "start_time": "2022-06-11T15:05:18.134Z"
   },
   {
    "duration": 7,
    "start_time": "2022-06-11T15:05:18.141Z"
   },
   {
    "duration": 7,
    "start_time": "2022-06-11T15:05:18.150Z"
   },
   {
    "duration": 6,
    "start_time": "2022-06-11T15:05:18.158Z"
   },
   {
    "duration": 19,
    "start_time": "2022-06-11T15:05:18.165Z"
   },
   {
    "duration": 11,
    "start_time": "2022-06-11T15:05:18.185Z"
   },
   {
    "duration": 9,
    "start_time": "2022-06-11T15:05:18.197Z"
   },
   {
    "duration": 36,
    "start_time": "2022-06-11T15:05:18.207Z"
   },
   {
    "duration": 114,
    "start_time": "2022-06-11T15:05:18.245Z"
   },
   {
    "duration": 8,
    "start_time": "2022-06-11T15:05:18.360Z"
   },
   {
    "duration": 5,
    "start_time": "2022-06-11T15:05:18.369Z"
   },
   {
    "duration": 24,
    "start_time": "2022-06-11T15:05:18.375Z"
   },
   {
    "duration": 7,
    "start_time": "2022-06-11T15:05:18.401Z"
   },
   {
    "duration": 5,
    "start_time": "2022-06-11T15:05:18.426Z"
   },
   {
    "duration": 5,
    "start_time": "2022-06-11T15:05:18.434Z"
   },
   {
    "duration": 4,
    "start_time": "2022-06-11T15:05:18.440Z"
   },
   {
    "duration": 6,
    "start_time": "2022-06-11T15:05:18.445Z"
   },
   {
    "duration": 9,
    "start_time": "2022-06-11T15:05:18.452Z"
   },
   {
    "duration": 4,
    "start_time": "2022-06-11T15:05:18.462Z"
   },
   {
    "duration": 1570,
    "start_time": "2022-06-11T15:05:18.468Z"
   },
   {
    "duration": 3,
    "start_time": "2022-06-11T15:05:20.039Z"
   },
   {
    "duration": 48,
    "start_time": "2022-06-11T15:05:20.043Z"
   },
   {
    "duration": 22,
    "start_time": "2022-06-11T15:05:20.092Z"
   },
   {
    "duration": 2220,
    "start_time": "2022-06-11T15:05:20.115Z"
   },
   {
    "duration": 4,
    "start_time": "2022-06-11T15:05:22.337Z"
   },
   {
    "duration": 7,
    "start_time": "2022-06-11T15:05:22.343Z"
   },
   {
    "duration": 1985,
    "start_time": "2022-06-11T15:05:22.352Z"
   },
   {
    "duration": 25089,
    "start_time": "2022-06-12T14:18:03.457Z"
   },
   {
    "duration": 2150,
    "start_time": "2022-06-12T14:18:28.549Z"
   },
   {
    "duration": 1966,
    "start_time": "2022-06-12T14:19:54.753Z"
   },
   {
    "duration": 1954,
    "start_time": "2022-06-12T14:19:56.722Z"
   },
   {
    "duration": 2155,
    "start_time": "2022-06-12T14:19:58.677Z"
   },
   {
    "duration": 74,
    "start_time": "2022-06-12T14:20:00.834Z"
   },
   {
    "duration": 14,
    "start_time": "2022-06-12T14:20:00.910Z"
   },
   {
    "duration": 8,
    "start_time": "2022-06-12T14:20:00.926Z"
   },
   {
    "duration": 39,
    "start_time": "2022-06-12T14:20:00.936Z"
   },
   {
    "duration": 27,
    "start_time": "2022-06-12T14:20:00.977Z"
   },
   {
    "duration": 65,
    "start_time": "2022-06-12T14:20:01.006Z"
   },
   {
    "duration": 350,
    "start_time": "2022-06-12T14:20:01.075Z"
   },
   {
    "duration": 298,
    "start_time": "2022-06-12T14:20:01.427Z"
   },
   {
    "duration": 330,
    "start_time": "2022-06-12T14:20:01.727Z"
   },
   {
    "duration": 386,
    "start_time": "2022-06-12T14:20:02.060Z"
   },
   {
    "duration": 17,
    "start_time": "2022-06-12T14:20:02.448Z"
   },
   {
    "duration": 7,
    "start_time": "2022-06-12T14:20:02.467Z"
   },
   {
    "duration": 14,
    "start_time": "2022-06-12T14:20:02.475Z"
   },
   {
    "duration": 16,
    "start_time": "2022-06-12T14:20:02.491Z"
   },
   {
    "duration": 27,
    "start_time": "2022-06-12T14:20:02.508Z"
   },
   {
    "duration": 12,
    "start_time": "2022-06-12T14:20:02.537Z"
   },
   {
    "duration": 16,
    "start_time": "2022-06-12T14:20:02.551Z"
   },
   {
    "duration": 41,
    "start_time": "2022-06-12T14:20:02.570Z"
   },
   {
    "duration": 16,
    "start_time": "2022-06-12T14:20:02.613Z"
   },
   {
    "duration": 22,
    "start_time": "2022-06-12T14:20:02.631Z"
   },
   {
    "duration": 20,
    "start_time": "2022-06-12T14:20:02.655Z"
   },
   {
    "duration": 38,
    "start_time": "2022-06-12T14:20:02.676Z"
   },
   {
    "duration": 12,
    "start_time": "2022-06-12T14:20:02.716Z"
   },
   {
    "duration": 7,
    "start_time": "2022-06-12T14:20:02.732Z"
   },
   {
    "duration": 6,
    "start_time": "2022-06-12T14:20:02.742Z"
   },
   {
    "duration": 16,
    "start_time": "2022-06-12T14:20:02.750Z"
   },
   {
    "duration": 12,
    "start_time": "2022-06-12T14:20:02.767Z"
   },
   {
    "duration": 33,
    "start_time": "2022-06-12T14:20:02.781Z"
   },
   {
    "duration": 11,
    "start_time": "2022-06-12T14:20:02.816Z"
   },
   {
    "duration": 1857,
    "start_time": "2022-06-12T14:20:02.829Z"
   },
   {
    "duration": 2,
    "start_time": "2022-06-12T14:20:04.765Z"
   },
   {
    "duration": 10,
    "start_time": "2022-06-12T14:20:04.769Z"
   },
   {
    "duration": 9,
    "start_time": "2022-06-12T14:20:04.781Z"
   },
   {
    "duration": 2475,
    "start_time": "2022-06-12T14:20:04.792Z"
   },
   {
    "duration": 5,
    "start_time": "2022-06-12T14:20:07.268Z"
   },
   {
    "duration": 11,
    "start_time": "2022-06-12T14:20:07.275Z"
   },
   {
    "duration": 2186,
    "start_time": "2022-06-12T14:20:07.287Z"
   },
   {
    "duration": 4,
    "start_time": "2022-06-12T14:37:30.982Z"
   },
   {
    "duration": 3,
    "start_time": "2022-06-12T14:37:31.517Z"
   },
   {
    "duration": 1703,
    "start_time": "2022-06-12T14:37:32.365Z"
   },
   {
    "duration": 4,
    "start_time": "2022-06-12T14:37:38.126Z"
   },
   {
    "duration": 1762,
    "start_time": "2022-06-12T14:37:38.509Z"
   },
   {
    "duration": 3,
    "start_time": "2022-06-12T14:37:55.934Z"
   },
   {
    "duration": 4,
    "start_time": "2022-06-12T14:37:56.341Z"
   },
   {
    "duration": 3,
    "start_time": "2022-06-12T14:37:58.107Z"
   },
   {
    "duration": 3,
    "start_time": "2022-06-12T14:37:59.075Z"
   },
   {
    "duration": 157,
    "start_time": "2022-06-12T14:38:00.556Z"
   },
   {
    "duration": 4,
    "start_time": "2022-06-12T14:48:52.800Z"
   },
   {
    "duration": 6,
    "start_time": "2022-06-12T14:49:00.457Z"
   },
   {
    "duration": 3,
    "start_time": "2022-06-12T14:49:25.455Z"
   },
   {
    "duration": 6,
    "start_time": "2022-06-12T14:49:27.256Z"
   },
   {
    "duration": 3,
    "start_time": "2022-06-12T14:49:35.935Z"
   },
   {
    "duration": 5,
    "start_time": "2022-06-12T14:49:37.503Z"
   },
   {
    "duration": 4,
    "start_time": "2022-06-12T14:49:55.588Z"
   },
   {
    "duration": 6,
    "start_time": "2022-06-12T14:49:56.854Z"
   },
   {
    "duration": 5,
    "start_time": "2022-06-12T14:50:24.942Z"
   },
   {
    "duration": 11,
    "start_time": "2022-06-12T14:50:41.772Z"
   },
   {
    "duration": 13,
    "start_time": "2022-06-12T14:50:50.389Z"
   },
   {
    "duration": 13,
    "start_time": "2022-06-12T14:51:13.068Z"
   },
   {
    "duration": 12,
    "start_time": "2022-06-12T14:51:17.332Z"
   },
   {
    "duration": 12,
    "start_time": "2022-06-12T14:51:22.799Z"
   },
   {
    "duration": 16,
    "start_time": "2022-06-12T14:51:25.181Z"
   },
   {
    "duration": 12,
    "start_time": "2022-06-12T14:51:28.234Z"
   },
   {
    "duration": 11,
    "start_time": "2022-06-12T14:51:45.819Z"
   },
   {
    "duration": 12,
    "start_time": "2022-06-12T14:51:54.154Z"
   },
   {
    "duration": 4,
    "start_time": "2022-06-12T14:52:03.033Z"
   },
   {
    "duration": 14,
    "start_time": "2022-06-12T14:52:10.257Z"
   },
   {
    "duration": 4,
    "start_time": "2022-06-12T14:53:06.401Z"
   },
   {
    "duration": 6,
    "start_time": "2022-06-12T14:53:08.263Z"
   },
   {
    "duration": 14,
    "start_time": "2022-06-12T14:53:39.902Z"
   },
   {
    "duration": 12,
    "start_time": "2022-06-12T14:53:45.352Z"
   },
   {
    "duration": 20,
    "start_time": "2022-06-12T15:03:01.523Z"
   },
   {
    "duration": 4,
    "start_time": "2022-06-12T15:08:31.497Z"
   },
   {
    "duration": 6,
    "start_time": "2022-06-12T15:08:51.120Z"
   },
   {
    "duration": 4,
    "start_time": "2022-06-12T15:10:16.644Z"
   },
   {
    "duration": 7,
    "start_time": "2022-06-12T15:10:18.934Z"
   },
   {
    "duration": 4,
    "start_time": "2022-06-12T15:10:43.800Z"
   },
   {
    "duration": 5,
    "start_time": "2022-06-12T15:10:45.517Z"
   },
   {
    "duration": 4,
    "start_time": "2022-06-12T15:11:08.219Z"
   },
   {
    "duration": 6,
    "start_time": "2022-06-12T15:11:09.724Z"
   },
   {
    "duration": 4,
    "start_time": "2022-06-12T15:12:12.740Z"
   },
   {
    "duration": 7,
    "start_time": "2022-06-12T15:12:14.225Z"
   },
   {
    "duration": 4,
    "start_time": "2022-06-12T15:13:38.160Z"
   },
   {
    "duration": 7,
    "start_time": "2022-06-12T15:13:39.696Z"
   },
   {
    "duration": 1988,
    "start_time": "2022-06-12T15:14:04.255Z"
   },
   {
    "duration": 2114,
    "start_time": "2022-06-12T15:14:06.245Z"
   },
   {
    "duration": 1867,
    "start_time": "2022-06-12T15:14:08.361Z"
   },
   {
    "duration": 32,
    "start_time": "2022-06-12T15:14:10.231Z"
   },
   {
    "duration": 16,
    "start_time": "2022-06-12T15:14:10.265Z"
   },
   {
    "duration": 4,
    "start_time": "2022-06-12T15:14:10.283Z"
   },
   {
    "duration": 17,
    "start_time": "2022-06-12T15:14:10.289Z"
   },
   {
    "duration": 15,
    "start_time": "2022-06-12T15:14:10.307Z"
   },
   {
    "duration": 52,
    "start_time": "2022-06-12T15:14:10.324Z"
   },
   {
    "duration": 259,
    "start_time": "2022-06-12T15:14:10.379Z"
   },
   {
    "duration": 235,
    "start_time": "2022-06-12T15:14:10.640Z"
   },
   {
    "duration": 245,
    "start_time": "2022-06-12T15:14:10.877Z"
   },
   {
    "duration": 240,
    "start_time": "2022-06-12T15:14:11.124Z"
   },
   {
    "duration": 7,
    "start_time": "2022-06-12T15:14:11.366Z"
   },
   {
    "duration": 9,
    "start_time": "2022-06-12T15:14:11.374Z"
   },
   {
    "duration": 7,
    "start_time": "2022-06-12T15:14:11.384Z"
   },
   {
    "duration": 7,
    "start_time": "2022-06-12T15:14:11.393Z"
   },
   {
    "duration": 5,
    "start_time": "2022-06-12T15:14:11.402Z"
   },
   {
    "duration": 15,
    "start_time": "2022-06-12T15:14:11.408Z"
   },
   {
    "duration": 12,
    "start_time": "2022-06-12T15:14:11.424Z"
   },
   {
    "duration": 140,
    "start_time": "2022-06-12T15:14:11.437Z"
   },
   {
    "duration": 21,
    "start_time": "2022-06-12T15:14:11.579Z"
   },
   {
    "duration": 13,
    "start_time": "2022-06-12T15:14:11.602Z"
   },
   {
    "duration": 6,
    "start_time": "2022-06-12T15:14:11.617Z"
   },
   {
    "duration": 7,
    "start_time": "2022-06-12T15:14:11.625Z"
   },
   {
    "duration": 35,
    "start_time": "2022-06-12T15:14:11.633Z"
   },
   {
    "duration": 12,
    "start_time": "2022-06-12T15:14:11.670Z"
   },
   {
    "duration": 9,
    "start_time": "2022-06-12T15:14:11.685Z"
   },
   {
    "duration": 6,
    "start_time": "2022-06-12T15:14:11.696Z"
   },
   {
    "duration": 7,
    "start_time": "2022-06-12T15:14:11.703Z"
   },
   {
    "duration": 6,
    "start_time": "2022-06-12T15:14:11.711Z"
   },
   {
    "duration": 12,
    "start_time": "2022-06-12T15:14:11.718Z"
   },
   {
    "duration": 7,
    "start_time": "2022-06-12T15:14:11.731Z"
   },
   {
    "duration": 162,
    "start_time": "2022-06-12T15:14:11.739Z"
   },
   {
    "duration": 0,
    "start_time": "2022-06-12T15:14:11.903Z"
   },
   {
    "duration": 0,
    "start_time": "2022-06-12T15:14:11.904Z"
   },
   {
    "duration": 0,
    "start_time": "2022-06-12T15:14:11.905Z"
   },
   {
    "duration": 0,
    "start_time": "2022-06-12T15:14:11.906Z"
   },
   {
    "duration": 0,
    "start_time": "2022-06-12T15:14:11.908Z"
   },
   {
    "duration": 0,
    "start_time": "2022-06-12T15:14:11.908Z"
   },
   {
    "duration": 0,
    "start_time": "2022-06-12T15:14:11.909Z"
   },
   {
    "duration": 2,
    "start_time": "2022-06-12T15:14:32.473Z"
   },
   {
    "duration": 4,
    "start_time": "2022-06-12T15:14:32.864Z"
   },
   {
    "duration": 3,
    "start_time": "2022-06-12T15:14:33.975Z"
   },
   {
    "duration": 3,
    "start_time": "2022-06-12T15:14:34.543Z"
   },
   {
    "duration": 25,
    "start_time": "2022-06-12T15:14:37.634Z"
   },
   {
    "duration": 4,
    "start_time": "2022-06-12T15:14:49.023Z"
   },
   {
    "duration": 4,
    "start_time": "2022-06-12T15:14:49.543Z"
   },
   {
    "duration": 4,
    "start_time": "2022-06-12T15:14:50.478Z"
   },
   {
    "duration": 4,
    "start_time": "2022-06-12T15:14:50.950Z"
   },
   {
    "duration": 28,
    "start_time": "2022-06-12T15:14:51.874Z"
   },
   {
    "duration": 4,
    "start_time": "2022-06-12T15:15:27.205Z"
   },
   {
    "duration": 4,
    "start_time": "2022-06-12T15:15:27.606Z"
   },
   {
    "duration": 4,
    "start_time": "2022-06-12T15:15:28.637Z"
   },
   {
    "duration": 3,
    "start_time": "2022-06-12T15:15:28.998Z"
   },
   {
    "duration": 1853,
    "start_time": "2022-06-12T15:15:29.624Z"
   },
   {
    "duration": 3,
    "start_time": "2022-06-12T15:15:35.272Z"
   },
   {
    "duration": 6,
    "start_time": "2022-06-12T15:15:36.246Z"
   },
   {
    "duration": 4,
    "start_time": "2022-06-12T15:15:36.830Z"
   },
   {
    "duration": 2796,
    "start_time": "2022-06-12T15:15:37.270Z"
   },
   {
    "duration": 5,
    "start_time": "2022-06-12T15:15:40.068Z"
   },
   {
    "duration": 12,
    "start_time": "2022-06-12T15:15:40.075Z"
   },
   {
    "duration": 2186,
    "start_time": "2022-06-12T15:15:40.089Z"
   },
   {
    "duration": 20,
    "start_time": "2022-06-12T15:22:03.962Z"
   },
   {
    "duration": 13,
    "start_time": "2022-06-12T15:22:24.812Z"
   },
   {
    "duration": 14,
    "start_time": "2022-06-12T15:22:28.729Z"
   },
   {
    "duration": 15,
    "start_time": "2022-06-12T15:32:54.139Z"
   },
   {
    "duration": 1933,
    "start_time": "2022-06-12T15:33:14.906Z"
   },
   {
    "duration": 2162,
    "start_time": "2022-06-12T15:33:16.842Z"
   },
   {
    "duration": 1671,
    "start_time": "2022-06-12T15:33:19.007Z"
   },
   {
    "duration": 28,
    "start_time": "2022-06-12T15:33:20.680Z"
   },
   {
    "duration": 16,
    "start_time": "2022-06-12T15:33:20.711Z"
   },
   {
    "duration": 4,
    "start_time": "2022-06-12T15:33:31.302Z"
   },
   {
    "duration": 10,
    "start_time": "2022-06-12T15:33:32.860Z"
   },
   {
    "duration": 12,
    "start_time": "2022-06-12T15:33:35.438Z"
   },
   {
    "duration": 19,
    "start_time": "2022-06-12T15:33:38.363Z"
   },
   {
    "duration": 284,
    "start_time": "2022-06-12T15:33:40.600Z"
   },
   {
    "duration": 244,
    "start_time": "2022-06-12T15:33:41.646Z"
   },
   {
    "duration": 270,
    "start_time": "2022-06-12T15:33:42.436Z"
   },
   {
    "duration": 252,
    "start_time": "2022-06-12T15:33:50.244Z"
   },
   {
    "duration": 7,
    "start_time": "2022-06-12T15:33:56.524Z"
   },
   {
    "duration": 7,
    "start_time": "2022-06-12T15:33:58.707Z"
   },
   {
    "duration": 6,
    "start_time": "2022-06-12T15:34:00.934Z"
   },
   {
    "duration": 7,
    "start_time": "2022-06-12T15:34:02.002Z"
   },
   {
    "duration": 2267,
    "start_time": "2022-06-12T15:34:07.844Z"
   },
   {
    "duration": 2150,
    "start_time": "2022-06-12T15:34:10.113Z"
   },
   {
    "duration": 1847,
    "start_time": "2022-06-12T15:34:12.265Z"
   },
   {
    "duration": 29,
    "start_time": "2022-06-12T15:34:14.114Z"
   },
   {
    "duration": 13,
    "start_time": "2022-06-12T15:34:14.145Z"
   },
   {
    "duration": 4,
    "start_time": "2022-06-12T15:34:14.159Z"
   },
   {
    "duration": 15,
    "start_time": "2022-06-12T15:34:14.164Z"
   },
   {
    "duration": 17,
    "start_time": "2022-06-12T15:34:14.180Z"
   },
   {
    "duration": 30,
    "start_time": "2022-06-12T15:34:14.198Z"
   },
   {
    "duration": 277,
    "start_time": "2022-06-12T15:34:14.231Z"
   },
   {
    "duration": 246,
    "start_time": "2022-06-12T15:34:14.510Z"
   },
   {
    "duration": 260,
    "start_time": "2022-06-12T15:34:14.758Z"
   },
   {
    "duration": 263,
    "start_time": "2022-06-12T15:34:15.021Z"
   },
   {
    "duration": 7,
    "start_time": "2022-06-12T15:34:15.286Z"
   },
   {
    "duration": 12,
    "start_time": "2022-06-12T15:34:15.295Z"
   },
   {
    "duration": 11,
    "start_time": "2022-06-12T15:34:15.309Z"
   },
   {
    "duration": 15,
    "start_time": "2022-06-12T15:34:15.321Z"
   },
   {
    "duration": 11,
    "start_time": "2022-06-12T15:34:15.338Z"
   },
   {
    "duration": 23,
    "start_time": "2022-06-12T15:34:15.350Z"
   },
   {
    "duration": 9,
    "start_time": "2022-06-12T15:34:15.374Z"
   },
   {
    "duration": 126,
    "start_time": "2022-06-12T15:34:15.385Z"
   },
   {
    "duration": 17,
    "start_time": "2022-06-12T15:34:15.512Z"
   },
   {
    "duration": 14,
    "start_time": "2022-06-12T15:34:15.530Z"
   },
   {
    "duration": 22,
    "start_time": "2022-06-12T15:34:15.546Z"
   },
   {
    "duration": 10,
    "start_time": "2022-06-12T15:34:15.570Z"
   },
   {
    "duration": 23,
    "start_time": "2022-06-12T15:34:15.582Z"
   },
   {
    "duration": 13,
    "start_time": "2022-06-12T15:34:15.607Z"
   },
   {
    "duration": 4,
    "start_time": "2022-06-12T15:34:15.624Z"
   },
   {
    "duration": 7,
    "start_time": "2022-06-12T15:34:15.630Z"
   },
   {
    "duration": 4,
    "start_time": "2022-06-12T15:34:15.638Z"
   },
   {
    "duration": 23,
    "start_time": "2022-06-12T15:34:15.644Z"
   },
   {
    "duration": 11,
    "start_time": "2022-06-12T15:34:15.669Z"
   },
   {
    "duration": 7,
    "start_time": "2022-06-12T15:34:15.681Z"
   },
   {
    "duration": 161,
    "start_time": "2022-06-12T15:34:15.689Z"
   },
   {
    "duration": 0,
    "start_time": "2022-06-12T15:34:15.852Z"
   },
   {
    "duration": 0,
    "start_time": "2022-06-12T15:34:15.854Z"
   },
   {
    "duration": 0,
    "start_time": "2022-06-12T15:34:15.855Z"
   },
   {
    "duration": 0,
    "start_time": "2022-06-12T15:34:15.856Z"
   },
   {
    "duration": 0,
    "start_time": "2022-06-12T15:34:15.864Z"
   },
   {
    "duration": 0,
    "start_time": "2022-06-12T15:34:15.865Z"
   },
   {
    "duration": 0,
    "start_time": "2022-06-12T15:34:15.867Z"
   },
   {
    "duration": 3,
    "start_time": "2022-06-12T15:34:46.172Z"
   },
   {
    "duration": 5,
    "start_time": "2022-06-12T15:34:46.646Z"
   },
   {
    "duration": 4,
    "start_time": "2022-06-12T15:34:47.737Z"
   },
   {
    "duration": 3,
    "start_time": "2022-06-12T15:34:48.251Z"
   },
   {
    "duration": 1784,
    "start_time": "2022-06-12T15:34:48.997Z"
   },
   {
    "duration": 1920,
    "start_time": "2022-06-12T15:34:58.460Z"
   },
   {
    "duration": 3,
    "start_time": "2022-06-12T15:35:09.420Z"
   },
   {
    "duration": 6,
    "start_time": "2022-06-12T15:35:09.707Z"
   },
   {
    "duration": 3,
    "start_time": "2022-06-12T15:35:10.699Z"
   },
   {
    "duration": 4,
    "start_time": "2022-06-12T15:35:11.323Z"
   },
   {
    "duration": 1933,
    "start_time": "2022-06-12T15:35:19.443Z"
   },
   {
    "duration": 2019,
    "start_time": "2022-06-12T15:35:21.379Z"
   },
   {
    "duration": 1715,
    "start_time": "2022-06-12T15:35:23.403Z"
   },
   {
    "duration": 28,
    "start_time": "2022-06-12T15:35:25.120Z"
   },
   {
    "duration": 17,
    "start_time": "2022-06-12T15:35:25.150Z"
   },
   {
    "duration": 15,
    "start_time": "2022-06-12T15:35:25.169Z"
   },
   {
    "duration": 18,
    "start_time": "2022-06-12T15:35:25.186Z"
   },
   {
    "duration": 14,
    "start_time": "2022-06-12T15:35:25.206Z"
   },
   {
    "duration": 21,
    "start_time": "2022-06-12T15:35:25.223Z"
   },
   {
    "duration": 250,
    "start_time": "2022-06-12T15:35:25.246Z"
   },
   {
    "duration": 227,
    "start_time": "2022-06-12T15:35:25.497Z"
   },
   {
    "duration": 256,
    "start_time": "2022-06-12T15:35:25.726Z"
   },
   {
    "duration": 242,
    "start_time": "2022-06-12T15:35:25.984Z"
   },
   {
    "duration": 7,
    "start_time": "2022-06-12T15:35:26.228Z"
   },
   {
    "duration": 9,
    "start_time": "2022-06-12T15:35:26.236Z"
   },
   {
    "duration": 20,
    "start_time": "2022-06-12T15:35:26.247Z"
   },
   {
    "duration": 8,
    "start_time": "2022-06-12T15:35:26.268Z"
   },
   {
    "duration": 7,
    "start_time": "2022-06-12T15:35:26.278Z"
   },
   {
    "duration": 15,
    "start_time": "2022-06-12T15:35:26.287Z"
   },
   {
    "duration": 12,
    "start_time": "2022-06-12T15:35:26.304Z"
   },
   {
    "duration": 129,
    "start_time": "2022-06-12T15:35:26.317Z"
   },
   {
    "duration": 25,
    "start_time": "2022-06-12T15:35:26.448Z"
   },
   {
    "duration": 11,
    "start_time": "2022-06-12T15:35:26.475Z"
   },
   {
    "duration": 8,
    "start_time": "2022-06-12T15:35:26.488Z"
   },
   {
    "duration": 6,
    "start_time": "2022-06-12T15:35:26.497Z"
   },
   {
    "duration": 23,
    "start_time": "2022-06-12T15:35:26.504Z"
   },
   {
    "duration": 6,
    "start_time": "2022-06-12T15:35:26.531Z"
   },
   {
    "duration": 6,
    "start_time": "2022-06-12T15:35:26.538Z"
   },
   {
    "duration": 19,
    "start_time": "2022-06-12T15:35:26.546Z"
   },
   {
    "duration": 4,
    "start_time": "2022-06-12T15:35:26.568Z"
   },
   {
    "duration": 11,
    "start_time": "2022-06-12T15:35:26.573Z"
   },
   {
    "duration": 9,
    "start_time": "2022-06-12T15:35:26.585Z"
   },
   {
    "duration": 14,
    "start_time": "2022-06-12T15:35:26.596Z"
   },
   {
    "duration": 1865,
    "start_time": "2022-06-12T15:35:26.612Z"
   },
   {
    "duration": 2,
    "start_time": "2022-06-12T15:35:28.479Z"
   },
   {
    "duration": 10,
    "start_time": "2022-06-12T15:35:28.483Z"
   },
   {
    "duration": 12,
    "start_time": "2022-06-12T15:35:28.494Z"
   },
   {
    "duration": 2663,
    "start_time": "2022-06-12T15:35:28.508Z"
   },
   {
    "duration": 5,
    "start_time": "2022-06-12T15:35:31.172Z"
   },
   {
    "duration": 6,
    "start_time": "2022-06-12T15:35:31.179Z"
   },
   {
    "duration": 2182,
    "start_time": "2022-06-12T15:35:31.186Z"
   },
   {
    "duration": 2008,
    "start_time": "2022-06-12T15:36:07.831Z"
   },
   {
    "duration": 2067,
    "start_time": "2022-06-12T15:36:09.842Z"
   },
   {
    "duration": 1668,
    "start_time": "2022-06-12T15:36:11.911Z"
   },
   {
    "duration": 28,
    "start_time": "2022-06-12T15:36:13.582Z"
   },
   {
    "duration": 15,
    "start_time": "2022-06-12T15:36:13.612Z"
   },
   {
    "duration": 10,
    "start_time": "2022-06-12T15:36:13.629Z"
   },
   {
    "duration": 22,
    "start_time": "2022-06-12T15:36:13.641Z"
   },
   {
    "duration": 18,
    "start_time": "2022-06-12T15:36:13.664Z"
   },
   {
    "duration": 39,
    "start_time": "2022-06-12T15:36:13.684Z"
   },
   {
    "duration": 287,
    "start_time": "2022-06-12T15:36:13.726Z"
   },
   {
    "duration": 232,
    "start_time": "2022-06-12T15:36:14.016Z"
   },
   {
    "duration": 281,
    "start_time": "2022-06-12T15:36:14.249Z"
   },
   {
    "duration": 245,
    "start_time": "2022-06-12T15:36:14.532Z"
   },
   {
    "duration": 7,
    "start_time": "2022-06-12T15:36:14.779Z"
   },
   {
    "duration": 7,
    "start_time": "2022-06-12T15:36:14.787Z"
   },
   {
    "duration": 9,
    "start_time": "2022-06-12T15:36:14.795Z"
   },
   {
    "duration": 10,
    "start_time": "2022-06-12T15:36:14.805Z"
   },
   {
    "duration": 14,
    "start_time": "2022-06-12T15:36:14.817Z"
   },
   {
    "duration": 15,
    "start_time": "2022-06-12T15:36:14.832Z"
   },
   {
    "duration": 20,
    "start_time": "2022-06-12T15:36:14.849Z"
   },
   {
    "duration": 118,
    "start_time": "2022-06-12T15:36:14.870Z"
   },
   {
    "duration": 15,
    "start_time": "2022-06-12T15:36:14.990Z"
   },
   {
    "duration": 26,
    "start_time": "2022-06-12T15:36:15.007Z"
   },
   {
    "duration": 9,
    "start_time": "2022-06-12T15:36:15.035Z"
   },
   {
    "duration": 16,
    "start_time": "2022-06-12T15:36:15.045Z"
   },
   {
    "duration": 27,
    "start_time": "2022-06-12T15:36:15.063Z"
   },
   {
    "duration": 8,
    "start_time": "2022-06-12T15:36:15.092Z"
   },
   {
    "duration": 4,
    "start_time": "2022-06-12T15:36:15.103Z"
   },
   {
    "duration": 11,
    "start_time": "2022-06-12T15:36:15.109Z"
   },
   {
    "duration": 6,
    "start_time": "2022-06-12T15:36:15.122Z"
   },
   {
    "duration": 9,
    "start_time": "2022-06-12T15:36:15.130Z"
   },
   {
    "duration": 15,
    "start_time": "2022-06-12T15:36:15.141Z"
   },
   {
    "duration": 9,
    "start_time": "2022-06-12T15:36:15.157Z"
   },
   {
    "duration": 1704,
    "start_time": "2022-06-12T15:36:15.168Z"
   },
   {
    "duration": 3,
    "start_time": "2022-06-12T15:36:16.873Z"
   },
   {
    "duration": 12,
    "start_time": "2022-06-12T15:36:16.877Z"
   },
   {
    "duration": 7,
    "start_time": "2022-06-12T15:36:16.890Z"
   },
   {
    "duration": 2781,
    "start_time": "2022-06-12T15:36:16.898Z"
   },
   {
    "duration": 6,
    "start_time": "2022-06-12T15:36:19.681Z"
   },
   {
    "duration": 8,
    "start_time": "2022-06-12T15:36:19.688Z"
   },
   {
    "duration": 2290,
    "start_time": "2022-06-12T15:36:19.698Z"
   },
   {
    "duration": 7,
    "start_time": "2022-06-12T15:45:06.636Z"
   },
   {
    "duration": 5,
    "start_time": "2022-06-12T15:47:26.816Z"
   },
   {
    "duration": 4,
    "start_time": "2022-06-12T15:47:41.616Z"
   },
   {
    "duration": 2044,
    "start_time": "2022-06-12T15:48:24.716Z"
   },
   {
    "duration": 2238,
    "start_time": "2022-06-12T15:48:26.763Z"
   },
   {
    "duration": 1926,
    "start_time": "2022-06-12T15:48:29.004Z"
   },
   {
    "duration": 29,
    "start_time": "2022-06-12T15:48:30.932Z"
   },
   {
    "duration": 20,
    "start_time": "2022-06-12T15:48:30.963Z"
   },
   {
    "duration": 7,
    "start_time": "2022-06-12T15:48:30.985Z"
   },
   {
    "duration": 14,
    "start_time": "2022-06-12T15:48:30.993Z"
   },
   {
    "duration": 23,
    "start_time": "2022-06-12T15:48:31.009Z"
   },
   {
    "duration": 41,
    "start_time": "2022-06-12T15:48:31.034Z"
   },
   {
    "duration": 310,
    "start_time": "2022-06-12T15:48:31.079Z"
   },
   {
    "duration": 271,
    "start_time": "2022-06-12T15:48:31.391Z"
   },
   {
    "duration": 328,
    "start_time": "2022-06-12T15:48:31.665Z"
   },
   {
    "duration": 284,
    "start_time": "2022-06-12T15:48:31.996Z"
   },
   {
    "duration": 8,
    "start_time": "2022-06-12T15:48:32.283Z"
   },
   {
    "duration": 7,
    "start_time": "2022-06-12T15:48:32.293Z"
   },
   {
    "duration": 8,
    "start_time": "2022-06-12T15:48:32.302Z"
   },
   {
    "duration": 9,
    "start_time": "2022-06-12T15:48:32.312Z"
   },
   {
    "duration": 6,
    "start_time": "2022-06-12T15:48:32.322Z"
   },
   {
    "duration": 46,
    "start_time": "2022-06-12T15:48:32.329Z"
   },
   {
    "duration": 15,
    "start_time": "2022-06-12T15:48:32.377Z"
   },
   {
    "duration": 123,
    "start_time": "2022-06-12T15:48:32.394Z"
   },
   {
    "duration": 15,
    "start_time": "2022-06-12T15:48:32.518Z"
   },
   {
    "duration": 13,
    "start_time": "2022-06-12T15:48:32.534Z"
   },
   {
    "duration": 26,
    "start_time": "2022-06-12T15:48:32.548Z"
   },
   {
    "duration": 27,
    "start_time": "2022-06-12T15:48:32.583Z"
   },
   {
    "duration": 25,
    "start_time": "2022-06-12T15:48:32.612Z"
   },
   {
    "duration": 6,
    "start_time": "2022-06-12T15:49:07.824Z"
   },
   {
    "duration": 5,
    "start_time": "2022-06-12T15:49:17.082Z"
   },
   {
    "duration": 147,
    "start_time": "2022-06-12T15:49:24.111Z"
   },
   {
    "duration": 32,
    "start_time": "2022-06-12T15:50:44.729Z"
   },
   {
    "duration": 50,
    "start_time": "2022-06-12T15:51:58.251Z"
   },
   {
    "duration": 2036,
    "start_time": "2022-06-12T15:56:19.933Z"
   },
   {
    "duration": 1980,
    "start_time": "2022-06-12T15:56:21.975Z"
   },
   {
    "duration": 1773,
    "start_time": "2022-06-12T15:56:23.956Z"
   },
   {
    "duration": 29,
    "start_time": "2022-06-12T15:56:25.731Z"
   },
   {
    "duration": 18,
    "start_time": "2022-06-12T15:56:25.762Z"
   },
   {
    "duration": 16,
    "start_time": "2022-06-12T15:56:25.781Z"
   },
   {
    "duration": 28,
    "start_time": "2022-06-12T15:56:25.799Z"
   },
   {
    "duration": 22,
    "start_time": "2022-06-12T15:56:25.829Z"
   },
   {
    "duration": 41,
    "start_time": "2022-06-12T15:56:25.852Z"
   },
   {
    "duration": 298,
    "start_time": "2022-06-12T15:56:25.894Z"
   },
   {
    "duration": 229,
    "start_time": "2022-06-12T15:56:26.194Z"
   },
   {
    "duration": 262,
    "start_time": "2022-06-12T15:56:26.425Z"
   },
   {
    "duration": 228,
    "start_time": "2022-06-12T15:56:26.689Z"
   },
   {
    "duration": 6,
    "start_time": "2022-06-12T15:56:26.920Z"
   },
   {
    "duration": 13,
    "start_time": "2022-06-12T15:56:26.928Z"
   },
   {
    "duration": 6,
    "start_time": "2022-06-12T15:56:26.942Z"
   },
   {
    "duration": 29,
    "start_time": "2022-06-12T15:56:26.950Z"
   },
   {
    "duration": 113,
    "start_time": "2022-06-12T15:56:26.981Z"
   },
   {
    "duration": 15,
    "start_time": "2022-06-12T15:56:27.096Z"
   },
   {
    "duration": 12,
    "start_time": "2022-06-12T15:56:27.112Z"
   },
   {
    "duration": 11,
    "start_time": "2022-06-12T15:56:27.126Z"
   },
   {
    "duration": 40,
    "start_time": "2022-06-12T15:56:27.139Z"
   },
   {
    "duration": 11,
    "start_time": "2022-06-12T15:56:27.180Z"
   },
   {
    "duration": 6,
    "start_time": "2022-06-12T15:56:27.193Z"
   },
   {
    "duration": 9,
    "start_time": "2022-06-12T15:56:27.200Z"
   },
   {
    "duration": 18,
    "start_time": "2022-06-12T15:56:27.211Z"
   },
   {
    "duration": 7,
    "start_time": "2022-06-12T15:56:27.230Z"
   },
   {
    "duration": 10,
    "start_time": "2022-06-12T15:56:27.239Z"
   },
   {
    "duration": 9,
    "start_time": "2022-06-12T15:56:27.250Z"
   },
   {
    "duration": 16,
    "start_time": "2022-06-12T15:56:27.264Z"
   },
   {
    "duration": 7,
    "start_time": "2022-06-12T15:56:27.281Z"
   },
   {
    "duration": 12,
    "start_time": "2022-06-12T15:56:27.290Z"
   },
   {
    "duration": 9,
    "start_time": "2022-06-12T15:56:27.303Z"
   },
   {
    "duration": 2083,
    "start_time": "2022-06-12T15:56:27.314Z"
   },
   {
    "duration": 78,
    "start_time": "2022-06-12T15:56:29.399Z"
   },
   {
    "duration": 8,
    "start_time": "2022-06-12T15:56:29.479Z"
   },
   {
    "duration": 9,
    "start_time": "2022-06-12T15:56:29.489Z"
   },
   {
    "duration": 2891,
    "start_time": "2022-06-12T15:56:29.499Z"
   },
   {
    "duration": 14,
    "start_time": "2022-06-12T15:56:32.464Z"
   },
   {
    "duration": 14,
    "start_time": "2022-06-12T15:56:32.480Z"
   },
   {
    "duration": 2284,
    "start_time": "2022-06-12T15:56:32.497Z"
   },
   {
    "duration": 2116,
    "start_time": "2022-06-12T16:03:32.513Z"
   },
   {
    "duration": 2069,
    "start_time": "2022-06-12T16:03:34.631Z"
   },
   {
    "duration": 1787,
    "start_time": "2022-06-12T16:03:36.702Z"
   },
   {
    "duration": 29,
    "start_time": "2022-06-12T16:03:38.491Z"
   },
   {
    "duration": 15,
    "start_time": "2022-06-12T16:03:38.522Z"
   },
   {
    "duration": 5,
    "start_time": "2022-06-12T16:03:38.538Z"
   },
   {
    "duration": 13,
    "start_time": "2022-06-12T16:03:38.544Z"
   },
   {
    "duration": 25,
    "start_time": "2022-06-12T16:03:38.559Z"
   },
   {
    "duration": 30,
    "start_time": "2022-06-12T16:03:38.586Z"
   },
   {
    "duration": 317,
    "start_time": "2022-06-12T16:03:38.618Z"
   },
   {
    "duration": 350,
    "start_time": "2022-06-12T16:03:38.937Z"
   },
   {
    "duration": 268,
    "start_time": "2022-06-12T16:03:39.289Z"
   },
   {
    "duration": 248,
    "start_time": "2022-06-12T16:03:39.565Z"
   },
   {
    "duration": 7,
    "start_time": "2022-06-12T16:03:39.815Z"
   },
   {
    "duration": 16,
    "start_time": "2022-06-12T16:03:39.824Z"
   },
   {
    "duration": 7,
    "start_time": "2022-06-12T16:03:39.842Z"
   },
   {
    "duration": 16,
    "start_time": "2022-06-12T16:03:39.851Z"
   },
   {
    "duration": 6,
    "start_time": "2022-06-12T16:03:39.869Z"
   },
   {
    "duration": 19,
    "start_time": "2022-06-12T16:03:39.877Z"
   },
   {
    "duration": 13,
    "start_time": "2022-06-12T16:03:39.898Z"
   },
   {
    "duration": 143,
    "start_time": "2022-06-12T16:03:39.912Z"
   },
   {
    "duration": 19,
    "start_time": "2022-06-12T16:03:40.057Z"
   },
   {
    "duration": 17,
    "start_time": "2022-06-12T16:03:40.078Z"
   },
   {
    "duration": 7,
    "start_time": "2022-06-12T16:03:40.096Z"
   },
   {
    "duration": 7,
    "start_time": "2022-06-12T16:03:40.104Z"
   },
   {
    "duration": 25,
    "start_time": "2022-06-12T16:03:40.112Z"
   },
   {
    "duration": 28,
    "start_time": "2022-06-12T16:03:40.139Z"
   },
   {
    "duration": 5,
    "start_time": "2022-06-12T16:03:40.171Z"
   },
   {
    "duration": 8,
    "start_time": "2022-06-12T16:03:40.177Z"
   },
   {
    "duration": 4,
    "start_time": "2022-06-12T16:03:40.187Z"
   },
   {
    "duration": 7,
    "start_time": "2022-06-12T16:03:40.192Z"
   },
   {
    "duration": 6,
    "start_time": "2022-06-12T16:03:40.200Z"
   },
   {
    "duration": 4,
    "start_time": "2022-06-12T16:03:40.208Z"
   },
   {
    "duration": 1856,
    "start_time": "2022-06-12T16:03:40.214Z"
   },
   {
    "duration": 2,
    "start_time": "2022-06-12T16:03:42.072Z"
   },
   {
    "duration": 11,
    "start_time": "2022-06-12T16:03:42.076Z"
   },
   {
    "duration": 6,
    "start_time": "2022-06-12T16:03:42.089Z"
   },
   {
    "duration": 2476,
    "start_time": "2022-06-12T16:03:42.097Z"
   },
   {
    "duration": 5,
    "start_time": "2022-06-12T16:03:44.576Z"
   },
   {
    "duration": 21,
    "start_time": "2022-06-12T16:03:44.583Z"
   },
   {
    "duration": 2169,
    "start_time": "2022-06-12T16:03:44.606Z"
   },
   {
    "duration": 3,
    "start_time": "2022-06-12T16:04:11.562Z"
   },
   {
    "duration": 4,
    "start_time": "2022-06-12T16:04:13.399Z"
   },
   {
    "duration": 3,
    "start_time": "2022-06-12T16:04:16.631Z"
   },
   {
    "duration": 3,
    "start_time": "2022-06-12T16:04:20.054Z"
   },
   {
    "duration": 1742,
    "start_time": "2022-06-12T16:04:21.433Z"
   },
   {
    "duration": 2293,
    "start_time": "2022-06-12T16:04:26.783Z"
   },
   {
    "duration": 2084,
    "start_time": "2022-06-12T16:04:31.682Z"
   },
   {
    "duration": 3,
    "start_time": "2022-06-12T16:05:46.317Z"
   },
   {
    "duration": 1113,
    "start_time": "2022-06-12T16:05:46.659Z"
   },
   {
    "duration": 4,
    "start_time": "2022-06-12T16:06:57.623Z"
   },
   {
    "duration": 3578,
    "start_time": "2022-06-12T16:06:57.914Z"
   },
   {
    "duration": 2082,
    "start_time": "2022-06-12T16:07:04.019Z"
   },
   {
    "duration": 2118,
    "start_time": "2022-06-12T16:07:06.103Z"
   },
   {
    "duration": 1807,
    "start_time": "2022-06-12T16:07:08.223Z"
   },
   {
    "duration": 29,
    "start_time": "2022-06-12T16:07:10.033Z"
   },
   {
    "duration": 18,
    "start_time": "2022-06-12T16:07:10.064Z"
   },
   {
    "duration": 4,
    "start_time": "2022-06-12T16:07:10.084Z"
   },
   {
    "duration": 22,
    "start_time": "2022-06-12T16:07:10.090Z"
   },
   {
    "duration": 13,
    "start_time": "2022-06-12T16:07:10.114Z"
   },
   {
    "duration": 45,
    "start_time": "2022-06-12T16:07:10.129Z"
   },
   {
    "duration": 287,
    "start_time": "2022-06-12T16:07:10.177Z"
   },
   {
    "duration": 252,
    "start_time": "2022-06-12T16:07:10.466Z"
   },
   {
    "duration": 268,
    "start_time": "2022-06-12T16:07:10.720Z"
   },
   {
    "duration": 255,
    "start_time": "2022-06-12T16:07:10.990Z"
   },
   {
    "duration": 8,
    "start_time": "2022-06-12T16:07:11.247Z"
   },
   {
    "duration": 6,
    "start_time": "2022-06-12T16:07:11.265Z"
   },
   {
    "duration": 7,
    "start_time": "2022-06-12T16:07:11.272Z"
   },
   {
    "duration": 15,
    "start_time": "2022-06-12T16:07:11.280Z"
   },
   {
    "duration": 8,
    "start_time": "2022-06-12T16:07:11.296Z"
   },
   {
    "duration": 18,
    "start_time": "2022-06-12T16:07:11.306Z"
   },
   {
    "duration": 12,
    "start_time": "2022-06-12T16:07:11.326Z"
   },
   {
    "duration": 151,
    "start_time": "2022-06-12T16:07:11.339Z"
   },
   {
    "duration": 20,
    "start_time": "2022-06-12T16:07:11.491Z"
   },
   {
    "duration": 13,
    "start_time": "2022-06-12T16:07:11.513Z"
   },
   {
    "duration": 11,
    "start_time": "2022-06-12T16:07:11.528Z"
   },
   {
    "duration": 10,
    "start_time": "2022-06-12T16:07:11.540Z"
   },
   {
    "duration": 27,
    "start_time": "2022-06-12T16:07:11.551Z"
   },
   {
    "duration": 8,
    "start_time": "2022-06-12T16:07:11.580Z"
   },
   {
    "duration": 11,
    "start_time": "2022-06-12T16:07:11.592Z"
   },
   {
    "duration": 11,
    "start_time": "2022-06-12T16:07:11.605Z"
   },
   {
    "duration": 5,
    "start_time": "2022-06-12T16:07:11.618Z"
   },
   {
    "duration": 7,
    "start_time": "2022-06-12T16:07:11.624Z"
   },
   {
    "duration": 6,
    "start_time": "2022-06-12T16:07:11.632Z"
   },
   {
    "duration": 5,
    "start_time": "2022-06-12T16:07:11.639Z"
   },
   {
    "duration": 3507,
    "start_time": "2022-06-12T16:07:11.664Z"
   },
   {
    "duration": 3,
    "start_time": "2022-06-12T16:07:15.173Z"
   },
   {
    "duration": 14,
    "start_time": "2022-06-12T16:07:15.178Z"
   },
   {
    "duration": 7,
    "start_time": "2022-06-12T16:07:15.194Z"
   },
   {
    "duration": 5062,
    "start_time": "2022-06-12T16:07:15.203Z"
   },
   {
    "duration": 4,
    "start_time": "2022-06-12T16:07:20.267Z"
   },
   {
    "duration": 12,
    "start_time": "2022-06-12T16:07:20.273Z"
   },
   {
    "duration": 4192,
    "start_time": "2022-06-12T16:07:20.287Z"
   },
   {
    "duration": 6,
    "start_time": "2022-06-12T16:07:31.861Z"
   },
   {
    "duration": 6,
    "start_time": "2022-06-12T16:07:32.380Z"
   },
   {
    "duration": 2008,
    "start_time": "2022-06-12T16:07:43.389Z"
   },
   {
    "duration": 2154,
    "start_time": "2022-06-12T16:07:45.399Z"
   },
   {
    "duration": 1846,
    "start_time": "2022-06-12T16:07:47.555Z"
   },
   {
    "duration": 29,
    "start_time": "2022-06-12T16:07:49.404Z"
   },
   {
    "duration": 15,
    "start_time": "2022-06-12T16:07:49.435Z"
   },
   {
    "duration": 4,
    "start_time": "2022-06-12T16:07:49.452Z"
   },
   {
    "duration": 12,
    "start_time": "2022-06-12T16:07:49.458Z"
   },
   {
    "duration": 14,
    "start_time": "2022-06-12T16:07:49.472Z"
   },
   {
    "duration": 25,
    "start_time": "2022-06-12T16:07:49.488Z"
   },
   {
    "duration": 274,
    "start_time": "2022-06-12T16:07:49.516Z"
   },
   {
    "duration": 277,
    "start_time": "2022-06-12T16:07:49.792Z"
   },
   {
    "duration": 376,
    "start_time": "2022-06-12T16:07:50.070Z"
   },
   {
    "duration": 246,
    "start_time": "2022-06-12T16:07:50.448Z"
   },
   {
    "duration": 7,
    "start_time": "2022-06-12T16:07:50.697Z"
   },
   {
    "duration": 25,
    "start_time": "2022-06-12T16:07:50.706Z"
   },
   {
    "duration": 28,
    "start_time": "2022-06-12T16:07:50.733Z"
   },
   {
    "duration": 20,
    "start_time": "2022-06-12T16:07:50.763Z"
   },
   {
    "duration": 17,
    "start_time": "2022-06-12T16:07:50.785Z"
   },
   {
    "duration": 40,
    "start_time": "2022-06-12T16:07:50.804Z"
   },
   {
    "duration": 17,
    "start_time": "2022-06-12T16:07:50.845Z"
   },
   {
    "duration": 137,
    "start_time": "2022-06-12T16:07:50.864Z"
   },
   {
    "duration": 45,
    "start_time": "2022-06-12T16:07:51.003Z"
   },
   {
    "duration": 23,
    "start_time": "2022-06-12T16:07:51.050Z"
   },
   {
    "duration": 29,
    "start_time": "2022-06-12T16:07:51.075Z"
   },
   {
    "duration": 10,
    "start_time": "2022-06-12T16:07:51.106Z"
   },
   {
    "duration": 33,
    "start_time": "2022-06-12T16:07:51.118Z"
   },
   {
    "duration": 21,
    "start_time": "2022-06-12T16:07:51.153Z"
   },
   {
    "duration": 16,
    "start_time": "2022-06-12T16:07:51.178Z"
   },
   {
    "duration": 18,
    "start_time": "2022-06-12T16:07:51.196Z"
   },
   {
    "duration": 13,
    "start_time": "2022-06-12T16:07:51.216Z"
   },
   {
    "duration": 13,
    "start_time": "2022-06-12T16:07:51.230Z"
   },
   {
    "duration": 25,
    "start_time": "2022-06-12T16:07:51.245Z"
   },
   {
    "duration": 25,
    "start_time": "2022-06-12T16:07:51.271Z"
   },
   {
    "duration": 3773,
    "start_time": "2022-06-12T16:07:51.297Z"
   },
   {
    "duration": 4,
    "start_time": "2022-06-12T16:07:55.072Z"
   },
   {
    "duration": 10,
    "start_time": "2022-06-12T16:07:55.078Z"
   },
   {
    "duration": 17,
    "start_time": "2022-06-12T16:07:55.090Z"
   },
   {
    "duration": 5174,
    "start_time": "2022-06-12T16:07:55.109Z"
   },
   {
    "duration": 80,
    "start_time": "2022-06-12T16:08:00.285Z"
   },
   {
    "duration": 4,
    "start_time": "2022-06-12T16:08:00.367Z"
   },
   {
    "duration": 3999,
    "start_time": "2022-06-12T16:08:00.373Z"
   },
   {
    "duration": 5,
    "start_time": "2022-06-12T16:08:04.375Z"
   },
   {
    "duration": 28,
    "start_time": "2022-06-12T16:08:04.382Z"
   },
   {
    "duration": 6,
    "start_time": "2022-06-12T16:08:23.453Z"
   },
   {
    "duration": 21,
    "start_time": "2022-06-12T16:08:24.758Z"
   },
   {
    "duration": 12,
    "start_time": "2022-06-12T16:08:25.022Z"
   },
   {
    "duration": 8,
    "start_time": "2022-06-12T16:08:25.726Z"
   },
   {
    "duration": 14,
    "start_time": "2022-06-12T16:08:26.200Z"
   },
   {
    "duration": 11,
    "start_time": "2022-06-12T16:08:26.797Z"
   },
   {
    "duration": 3,
    "start_time": "2022-06-12T16:08:27.695Z"
   },
   {
    "duration": 4,
    "start_time": "2022-06-12T16:08:30.231Z"
   },
   {
    "duration": 16,
    "start_time": "2022-06-12T16:08:31.102Z"
   },
   {
    "duration": 8,
    "start_time": "2022-06-12T16:08:35.176Z"
   },
   {
    "duration": 5,
    "start_time": "2022-06-12T16:08:36.079Z"
   },
   {
    "duration": 4,
    "start_time": "2022-06-12T16:08:39.946Z"
   },
   {
    "duration": 3,
    "start_time": "2022-06-12T16:08:40.710Z"
   },
   {
    "duration": 2,
    "start_time": "2022-06-12T16:08:49.317Z"
   },
   {
    "duration": 5,
    "start_time": "2022-06-12T16:08:49.741Z"
   },
   {
    "duration": 3,
    "start_time": "2022-06-12T16:08:51.316Z"
   },
   {
    "duration": 4,
    "start_time": "2022-06-12T16:08:51.978Z"
   },
   {
    "duration": 4405,
    "start_time": "2022-06-12T16:08:52.876Z"
   },
   {
    "duration": 3,
    "start_time": "2022-06-12T16:09:03.178Z"
   },
   {
    "duration": 4,
    "start_time": "2022-06-12T16:09:04.030Z"
   },
   {
    "duration": 6,
    "start_time": "2022-06-12T16:09:04.435Z"
   },
   {
    "duration": 6825,
    "start_time": "2022-06-12T16:09:05.141Z"
   },
   {
    "duration": 2071,
    "start_time": "2022-06-12T16:13:00.888Z"
   },
   {
    "duration": 2061,
    "start_time": "2022-06-12T16:13:02.961Z"
   },
   {
    "duration": 1685,
    "start_time": "2022-06-12T16:13:05.024Z"
   },
   {
    "duration": 29,
    "start_time": "2022-06-12T16:13:06.711Z"
   },
   {
    "duration": 14,
    "start_time": "2022-06-12T16:13:06.741Z"
   },
   {
    "duration": 3,
    "start_time": "2022-06-12T16:13:06.757Z"
   },
   {
    "duration": 25,
    "start_time": "2022-06-12T16:13:06.761Z"
   },
   {
    "duration": 13,
    "start_time": "2022-06-12T16:13:06.787Z"
   },
   {
    "duration": 21,
    "start_time": "2022-06-12T16:13:06.802Z"
   },
   {
    "duration": 267,
    "start_time": "2022-06-12T16:13:06.825Z"
   },
   {
    "duration": 236,
    "start_time": "2022-06-12T16:13:07.094Z"
   },
   {
    "duration": 301,
    "start_time": "2022-06-12T16:13:07.332Z"
   },
   {
    "duration": 249,
    "start_time": "2022-06-12T16:13:07.635Z"
   },
   {
    "duration": 7,
    "start_time": "2022-06-12T16:13:07.885Z"
   },
   {
    "duration": 9,
    "start_time": "2022-06-12T16:13:07.893Z"
   },
   {
    "duration": 7,
    "start_time": "2022-06-12T16:13:07.903Z"
   },
   {
    "duration": 12,
    "start_time": "2022-06-12T16:13:07.911Z"
   },
   {
    "duration": 5,
    "start_time": "2022-06-12T16:13:44.439Z"
   },
   {
    "duration": 6,
    "start_time": "2022-06-12T16:13:45.167Z"
   },
   {
    "duration": 1929,
    "start_time": "2022-06-12T16:14:05.385Z"
   },
   {
    "duration": 2098,
    "start_time": "2022-06-12T16:14:07.316Z"
   },
   {
    "duration": 1654,
    "start_time": "2022-06-12T16:14:09.416Z"
   },
   {
    "duration": 28,
    "start_time": "2022-06-12T16:14:11.072Z"
   },
   {
    "duration": 13,
    "start_time": "2022-06-12T16:14:11.102Z"
   },
   {
    "duration": 5,
    "start_time": "2022-06-12T16:14:11.116Z"
   },
   {
    "duration": 13,
    "start_time": "2022-06-12T16:14:11.123Z"
   },
   {
    "duration": 13,
    "start_time": "2022-06-12T16:14:11.138Z"
   },
   {
    "duration": 22,
    "start_time": "2022-06-12T16:14:11.152Z"
   },
   {
    "duration": 249,
    "start_time": "2022-06-12T16:14:11.176Z"
   },
   {
    "duration": 234,
    "start_time": "2022-06-12T16:14:11.427Z"
   },
   {
    "duration": 267,
    "start_time": "2022-06-12T16:14:11.667Z"
   },
   {
    "duration": 260,
    "start_time": "2022-06-12T16:14:11.936Z"
   },
   {
    "duration": 7,
    "start_time": "2022-06-12T16:14:12.198Z"
   },
   {
    "duration": 7,
    "start_time": "2022-06-12T16:14:12.207Z"
   },
   {
    "duration": 8,
    "start_time": "2022-06-12T16:14:12.216Z"
   },
   {
    "duration": 10,
    "start_time": "2022-06-12T16:14:12.225Z"
   },
   {
    "duration": 1960,
    "start_time": "2022-06-12T16:14:53.898Z"
   },
   {
    "duration": 2081,
    "start_time": "2022-06-12T16:14:55.861Z"
   },
   {
    "duration": 1832,
    "start_time": "2022-06-12T16:14:57.944Z"
   },
   {
    "duration": 28,
    "start_time": "2022-06-12T16:14:59.778Z"
   },
   {
    "duration": 13,
    "start_time": "2022-06-12T16:14:59.808Z"
   },
   {
    "duration": 4,
    "start_time": "2022-06-12T16:14:59.822Z"
   },
   {
    "duration": 12,
    "start_time": "2022-06-12T16:14:59.827Z"
   },
   {
    "duration": 11,
    "start_time": "2022-06-12T16:14:59.841Z"
   },
   {
    "duration": 20,
    "start_time": "2022-06-12T16:14:59.854Z"
   },
   {
    "duration": 270,
    "start_time": "2022-06-12T16:14:59.877Z"
   },
   {
    "duration": 237,
    "start_time": "2022-06-12T16:15:00.148Z"
   },
   {
    "duration": 277,
    "start_time": "2022-06-12T16:15:00.387Z"
   },
   {
    "duration": 239,
    "start_time": "2022-06-12T16:15:00.666Z"
   },
   {
    "duration": 7,
    "start_time": "2022-06-12T16:15:00.907Z"
   },
   {
    "duration": 27,
    "start_time": "2022-06-12T16:15:00.915Z"
   },
   {
    "duration": 25,
    "start_time": "2022-06-12T16:15:00.944Z"
   },
   {
    "duration": 39,
    "start_time": "2022-06-12T16:15:00.971Z"
   },
   {
    "duration": 18,
    "start_time": "2022-06-12T16:15:01.011Z"
   },
   {
    "duration": 37,
    "start_time": "2022-06-12T16:15:01.031Z"
   },
   {
    "duration": 23,
    "start_time": "2022-06-12T16:15:01.070Z"
   },
   {
    "duration": 161,
    "start_time": "2022-06-12T16:15:01.095Z"
   },
   {
    "duration": 18,
    "start_time": "2022-06-12T16:15:01.258Z"
   },
   {
    "duration": 59,
    "start_time": "2022-06-12T16:15:01.278Z"
   },
   {
    "duration": 30,
    "start_time": "2022-06-12T16:15:01.339Z"
   },
   {
    "duration": 12,
    "start_time": "2022-06-12T16:15:01.371Z"
   },
   {
    "duration": 61,
    "start_time": "2022-06-12T16:15:01.384Z"
   },
   {
    "duration": 26,
    "start_time": "2022-06-12T16:15:01.447Z"
   },
   {
    "duration": 45,
    "start_time": "2022-06-12T16:15:01.476Z"
   },
   {
    "duration": 22,
    "start_time": "2022-06-12T16:15:01.523Z"
   },
   {
    "duration": 33,
    "start_time": "2022-06-12T16:15:01.547Z"
   },
   {
    "duration": 25,
    "start_time": "2022-06-12T16:15:01.582Z"
   },
   {
    "duration": 30,
    "start_time": "2022-06-12T16:15:01.608Z"
   },
   {
    "duration": 20,
    "start_time": "2022-06-12T16:15:01.640Z"
   },
   {
    "duration": 3408,
    "start_time": "2022-06-12T16:15:01.662Z"
   },
   {
    "duration": 3,
    "start_time": "2022-06-12T16:15:05.071Z"
   },
   {
    "duration": 24,
    "start_time": "2022-06-12T16:15:05.076Z"
   },
   {
    "duration": 7,
    "start_time": "2022-06-12T16:15:05.101Z"
   },
   {
    "duration": 4959,
    "start_time": "2022-06-12T16:15:05.109Z"
   },
   {
    "duration": 5,
    "start_time": "2022-06-12T16:15:10.071Z"
   },
   {
    "duration": 16,
    "start_time": "2022-06-12T16:15:10.079Z"
   },
   {
    "duration": 3977,
    "start_time": "2022-06-12T16:15:10.097Z"
   },
   {
    "duration": 1986,
    "start_time": "2022-06-12T16:19:32.089Z"
   },
   {
    "duration": 1981,
    "start_time": "2022-06-12T16:19:34.078Z"
   },
   {
    "duration": 1731,
    "start_time": "2022-06-12T16:19:36.061Z"
   },
   {
    "duration": 28,
    "start_time": "2022-06-12T16:19:37.794Z"
   },
   {
    "duration": 16,
    "start_time": "2022-06-12T16:19:37.823Z"
   },
   {
    "duration": 4,
    "start_time": "2022-06-12T16:19:37.840Z"
   },
   {
    "duration": 11,
    "start_time": "2022-06-12T16:19:37.846Z"
   },
   {
    "duration": 11,
    "start_time": "2022-06-12T16:19:37.859Z"
   },
   {
    "duration": 36,
    "start_time": "2022-06-12T16:19:37.872Z"
   },
   {
    "duration": 250,
    "start_time": "2022-06-12T16:19:37.911Z"
   },
   {
    "duration": 234,
    "start_time": "2022-06-12T16:19:38.164Z"
   },
   {
    "duration": 254,
    "start_time": "2022-06-12T16:19:38.399Z"
   },
   {
    "duration": 244,
    "start_time": "2022-06-12T16:19:38.655Z"
   },
   {
    "duration": 9,
    "start_time": "2022-06-12T16:19:38.902Z"
   },
   {
    "duration": 14,
    "start_time": "2022-06-12T16:19:38.912Z"
   },
   {
    "duration": 11,
    "start_time": "2022-06-12T16:19:38.928Z"
   },
   {
    "duration": 11,
    "start_time": "2022-06-12T16:19:38.941Z"
   },
   {
    "duration": 6,
    "start_time": "2022-06-12T16:21:04.925Z"
   },
   {
    "duration": 5,
    "start_time": "2022-06-12T16:21:35.923Z"
   },
   {
    "duration": 145,
    "start_time": "2022-06-12T16:21:38.184Z"
   },
   {
    "duration": 21,
    "start_time": "2022-06-12T16:24:48.893Z"
   },
   {
    "duration": 11,
    "start_time": "2022-06-12T16:25:31.625Z"
   },
   {
    "duration": 13,
    "start_time": "2022-06-12T16:25:46.738Z"
   },
   {
    "duration": 15,
    "start_time": "2022-06-12T16:25:59.353Z"
   },
   {
    "duration": 6,
    "start_time": "2022-06-12T16:26:21.130Z"
   },
   {
    "duration": 128,
    "start_time": "2022-06-12T16:26:23.168Z"
   },
   {
    "duration": 10,
    "start_time": "2022-06-12T16:26:29.108Z"
   },
   {
    "duration": 5,
    "start_time": "2022-06-12T16:27:42.783Z"
   },
   {
    "duration": 11,
    "start_time": "2022-06-12T16:27:43.254Z"
   },
   {
    "duration": 5,
    "start_time": "2022-06-12T16:29:43.939Z"
   },
   {
    "duration": 13,
    "start_time": "2022-06-12T16:29:44.586Z"
   },
   {
    "duration": 6,
    "start_time": "2022-06-12T16:32:34.189Z"
   },
   {
    "duration": 6,
    "start_time": "2022-06-12T16:32:39.694Z"
   },
   {
    "duration": 6,
    "start_time": "2022-06-12T16:34:54.651Z"
   },
   {
    "duration": 18,
    "start_time": "2022-06-12T16:36:19.784Z"
   },
   {
    "duration": 6,
    "start_time": "2022-06-12T16:36:26.791Z"
   },
   {
    "duration": 21,
    "start_time": "2022-06-12T16:36:27.656Z"
   },
   {
    "duration": 18,
    "start_time": "2022-06-12T16:36:40.680Z"
   },
   {
    "duration": 29,
    "start_time": "2022-06-12T16:37:08.918Z"
   },
   {
    "duration": 24,
    "start_time": "2022-06-12T16:38:17.740Z"
   },
   {
    "duration": 2,
    "start_time": "2022-06-12T16:40:00.048Z"
   },
   {
    "duration": 18,
    "start_time": "2022-06-12T16:40:02.094Z"
   },
   {
    "duration": 14,
    "start_time": "2022-06-12T16:40:25.159Z"
   },
   {
    "duration": 2207,
    "start_time": "2022-06-12T16:40:35.715Z"
   },
   {
    "duration": 2228,
    "start_time": "2022-06-12T16:40:37.925Z"
   },
   {
    "duration": 1905,
    "start_time": "2022-06-12T16:40:40.155Z"
   },
   {
    "duration": 36,
    "start_time": "2022-06-12T16:40:42.063Z"
   },
   {
    "duration": 16,
    "start_time": "2022-06-12T16:40:42.100Z"
   },
   {
    "duration": 4,
    "start_time": "2022-06-12T16:40:42.117Z"
   },
   {
    "duration": 16,
    "start_time": "2022-06-12T16:40:42.123Z"
   },
   {
    "duration": 15,
    "start_time": "2022-06-12T16:40:42.141Z"
   },
   {
    "duration": 38,
    "start_time": "2022-06-12T16:40:42.158Z"
   },
   {
    "duration": 320,
    "start_time": "2022-06-12T16:40:42.200Z"
   },
   {
    "duration": 299,
    "start_time": "2022-06-12T16:40:42.522Z"
   },
   {
    "duration": 319,
    "start_time": "2022-06-12T16:40:42.823Z"
   },
   {
    "duration": 285,
    "start_time": "2022-06-12T16:40:43.144Z"
   },
   {
    "duration": 8,
    "start_time": "2022-06-12T16:40:43.431Z"
   },
   {
    "duration": 24,
    "start_time": "2022-06-12T16:40:43.442Z"
   },
   {
    "duration": 9,
    "start_time": "2022-06-12T16:40:43.468Z"
   },
   {
    "duration": 9,
    "start_time": "2022-06-12T16:40:43.479Z"
   },
   {
    "duration": 8,
    "start_time": "2022-06-12T16:40:43.490Z"
   },
   {
    "duration": 24,
    "start_time": "2022-06-12T16:40:43.500Z"
   },
   {
    "duration": 19,
    "start_time": "2022-06-12T16:40:43.526Z"
   },
   {
    "duration": 157,
    "start_time": "2022-06-12T16:40:43.547Z"
   },
   {
    "duration": 21,
    "start_time": "2022-06-12T16:40:43.706Z"
   },
   {
    "duration": 16,
    "start_time": "2022-06-12T16:40:43.730Z"
   },
   {
    "duration": 7,
    "start_time": "2022-06-12T16:40:43.747Z"
   },
   {
    "duration": 6,
    "start_time": "2022-06-12T16:40:43.766Z"
   },
   {
    "duration": 36,
    "start_time": "2022-06-12T16:40:43.774Z"
   },
   {
    "duration": 8,
    "start_time": "2022-06-12T16:40:43.813Z"
   },
   {
    "duration": 12,
    "start_time": "2022-06-12T16:40:43.824Z"
   },
   {
    "duration": 6,
    "start_time": "2022-06-12T16:40:43.838Z"
   },
   {
    "duration": 22,
    "start_time": "2022-06-12T16:40:56.098Z"
   },
   {
    "duration": 12,
    "start_time": "2022-06-12T16:42:00.504Z"
   },
   {
    "duration": 11,
    "start_time": "2022-06-12T16:42:14.264Z"
   },
   {
    "duration": 13,
    "start_time": "2022-06-12T16:43:37.611Z"
   },
   {
    "duration": 142,
    "start_time": "2022-06-12T16:44:30.056Z"
   },
   {
    "duration": 8,
    "start_time": "2022-06-12T16:45:35.265Z"
   },
   {
    "duration": 16,
    "start_time": "2022-06-12T16:46:04.936Z"
   },
   {
    "duration": 5,
    "start_time": "2022-06-12T16:46:59.636Z"
   },
   {
    "duration": 16,
    "start_time": "2022-06-12T16:47:41.327Z"
   },
   {
    "duration": 8,
    "start_time": "2022-06-12T16:48:42.970Z"
   },
   {
    "duration": 9,
    "start_time": "2022-06-12T16:48:47.731Z"
   },
   {
    "duration": 2198,
    "start_time": "2022-06-12T16:49:37.790Z"
   },
   {
    "duration": 2175,
    "start_time": "2022-06-12T16:49:39.991Z"
   },
   {
    "duration": 1948,
    "start_time": "2022-06-12T16:49:42.168Z"
   },
   {
    "duration": 29,
    "start_time": "2022-06-12T16:49:44.118Z"
   },
   {
    "duration": 16,
    "start_time": "2022-06-12T16:49:44.149Z"
   },
   {
    "duration": 7,
    "start_time": "2022-06-12T16:49:44.167Z"
   },
   {
    "duration": 15,
    "start_time": "2022-06-12T16:49:44.176Z"
   },
   {
    "duration": 16,
    "start_time": "2022-06-12T16:49:44.194Z"
   },
   {
    "duration": 28,
    "start_time": "2022-06-12T16:49:44.212Z"
   },
   {
    "duration": 292,
    "start_time": "2022-06-12T16:49:44.264Z"
   },
   {
    "duration": 269,
    "start_time": "2022-06-12T16:49:44.558Z"
   },
   {
    "duration": 292,
    "start_time": "2022-06-12T16:49:44.829Z"
   },
   {
    "duration": 258,
    "start_time": "2022-06-12T16:49:45.123Z"
   },
   {
    "duration": 10,
    "start_time": "2022-06-12T16:49:45.384Z"
   },
   {
    "duration": 8,
    "start_time": "2022-06-12T16:49:45.397Z"
   },
   {
    "duration": 9,
    "start_time": "2022-06-12T16:49:45.407Z"
   },
   {
    "duration": 9,
    "start_time": "2022-06-12T16:49:45.418Z"
   },
   {
    "duration": 40,
    "start_time": "2022-06-12T16:49:45.429Z"
   },
   {
    "duration": 17,
    "start_time": "2022-06-12T16:49:45.471Z"
   },
   {
    "duration": 12,
    "start_time": "2022-06-12T16:49:45.490Z"
   },
   {
    "duration": 138,
    "start_time": "2022-06-12T16:49:45.504Z"
   },
   {
    "duration": 25,
    "start_time": "2022-06-12T16:49:45.644Z"
   },
   {
    "duration": 13,
    "start_time": "2022-06-12T16:49:45.671Z"
   },
   {
    "duration": 5,
    "start_time": "2022-06-12T16:49:45.686Z"
   },
   {
    "duration": 7,
    "start_time": "2022-06-12T16:49:45.693Z"
   },
   {
    "duration": 20,
    "start_time": "2022-06-12T16:49:45.702Z"
   },
   {
    "duration": 8,
    "start_time": "2022-06-12T16:49:45.724Z"
   },
   {
    "duration": 3,
    "start_time": "2022-06-12T16:49:45.764Z"
   },
   {
    "duration": 6,
    "start_time": "2022-06-12T16:50:30.020Z"
   },
   {
    "duration": 4,
    "start_time": "2022-06-12T16:50:41.308Z"
   },
   {
    "duration": 16,
    "start_time": "2022-06-12T16:51:16.906Z"
   },
   {
    "duration": 24,
    "start_time": "2022-06-12T16:54:25.547Z"
   },
   {
    "duration": 17,
    "start_time": "2022-06-12T16:54:35.116Z"
   },
   {
    "duration": 5,
    "start_time": "2022-06-12T16:54:41.796Z"
   },
   {
    "duration": 6,
    "start_time": "2022-06-12T16:54:46.539Z"
   },
   {
    "duration": 4,
    "start_time": "2022-06-12T16:54:52.331Z"
   },
   {
    "duration": 14,
    "start_time": "2022-06-12T16:55:15.864Z"
   },
   {
    "duration": 10,
    "start_time": "2022-06-12T16:55:16.625Z"
   },
   {
    "duration": 2364,
    "start_time": "2022-06-12T16:58:40.102Z"
   },
   {
    "duration": 2450,
    "start_time": "2022-06-12T16:58:42.476Z"
   },
   {
    "duration": 1999,
    "start_time": "2022-06-12T16:58:44.930Z"
   },
   {
    "duration": 29,
    "start_time": "2022-06-12T16:58:46.931Z"
   },
   {
    "duration": 33,
    "start_time": "2022-06-12T16:58:46.963Z"
   },
   {
    "duration": 8,
    "start_time": "2022-06-12T16:58:47.000Z"
   },
   {
    "duration": 15,
    "start_time": "2022-06-12T16:58:47.010Z"
   },
   {
    "duration": 15,
    "start_time": "2022-06-12T16:58:47.026Z"
   },
   {
    "duration": 32,
    "start_time": "2022-06-12T16:58:47.043Z"
   },
   {
    "duration": 299,
    "start_time": "2022-06-12T16:58:47.076Z"
   },
   {
    "duration": 285,
    "start_time": "2022-06-12T16:58:47.379Z"
   },
   {
    "duration": 284,
    "start_time": "2022-06-12T16:58:47.666Z"
   },
   {
    "duration": 271,
    "start_time": "2022-06-12T16:58:47.952Z"
   },
   {
    "duration": 8,
    "start_time": "2022-06-12T16:58:48.226Z"
   },
   {
    "duration": 12,
    "start_time": "2022-06-12T16:58:48.236Z"
   },
   {
    "duration": 13,
    "start_time": "2022-06-12T16:58:48.273Z"
   },
   {
    "duration": 14,
    "start_time": "2022-06-12T16:58:48.293Z"
   },
   {
    "duration": 8,
    "start_time": "2022-06-12T16:59:31.381Z"
   },
   {
    "duration": 3,
    "start_time": "2022-06-12T16:59:43.986Z"
   },
   {
    "duration": 4,
    "start_time": "2022-06-12T17:00:31.655Z"
   },
   {
    "duration": 9,
    "start_time": "2022-06-12T17:00:55.033Z"
   },
   {
    "duration": 170,
    "start_time": "2022-06-12T17:01:12.815Z"
   },
   {
    "duration": 138,
    "start_time": "2022-06-12T17:01:31.594Z"
   },
   {
    "duration": 20,
    "start_time": "2022-06-12T17:02:57.663Z"
   },
   {
    "duration": 2284,
    "start_time": "2022-06-12T17:05:55.149Z"
   },
   {
    "duration": 2483,
    "start_time": "2022-06-12T17:05:57.436Z"
   },
   {
    "duration": 1983,
    "start_time": "2022-06-12T17:05:59.923Z"
   },
   {
    "duration": 30,
    "start_time": "2022-06-12T17:06:01.908Z"
   },
   {
    "duration": 19,
    "start_time": "2022-06-12T17:06:01.940Z"
   },
   {
    "duration": 43,
    "start_time": "2022-06-12T17:06:01.962Z"
   },
   {
    "duration": 33,
    "start_time": "2022-06-12T17:06:02.014Z"
   },
   {
    "duration": 49,
    "start_time": "2022-06-12T17:06:02.050Z"
   },
   {
    "duration": 49,
    "start_time": "2022-06-12T17:06:02.103Z"
   },
   {
    "duration": 316,
    "start_time": "2022-06-12T17:06:02.154Z"
   },
   {
    "duration": 296,
    "start_time": "2022-06-12T17:06:02.472Z"
   },
   {
    "duration": 328,
    "start_time": "2022-06-12T17:06:02.773Z"
   },
   {
    "duration": 379,
    "start_time": "2022-06-12T17:06:03.103Z"
   },
   {
    "duration": 10,
    "start_time": "2022-06-12T17:06:03.497Z"
   },
   {
    "duration": 26,
    "start_time": "2022-06-12T17:06:03.509Z"
   },
   {
    "duration": 23,
    "start_time": "2022-06-12T17:06:03.536Z"
   },
   {
    "duration": 49,
    "start_time": "2022-06-12T17:06:03.560Z"
   },
   {
    "duration": 162,
    "start_time": "2022-06-12T17:06:03.612Z"
   },
   {
    "duration": 78,
    "start_time": "2022-06-12T17:06:03.781Z"
   },
   {
    "duration": 78,
    "start_time": "2022-06-12T17:06:03.861Z"
   },
   {
    "duration": 26,
    "start_time": "2022-06-12T17:06:03.941Z"
   },
   {
    "duration": 71,
    "start_time": "2022-06-12T17:06:03.969Z"
   },
   {
    "duration": 63,
    "start_time": "2022-06-12T17:06:04.042Z"
   },
   {
    "duration": 18,
    "start_time": "2022-06-12T17:06:04.107Z"
   },
   {
    "duration": 33,
    "start_time": "2022-06-12T17:06:04.127Z"
   },
   {
    "duration": 69,
    "start_time": "2022-06-12T17:06:04.163Z"
   },
   {
    "duration": 36,
    "start_time": "2022-06-12T17:06:04.234Z"
   },
   {
    "duration": 33,
    "start_time": "2022-06-12T17:06:04.275Z"
   },
   {
    "duration": 30,
    "start_time": "2022-06-12T17:06:04.310Z"
   },
   {
    "duration": 14,
    "start_time": "2022-06-12T17:06:04.342Z"
   },
   {
    "duration": 49,
    "start_time": "2022-06-12T17:06:04.358Z"
   },
   {
    "duration": 24,
    "start_time": "2022-06-12T17:06:04.409Z"
   },
   {
    "duration": 12,
    "start_time": "2022-06-12T17:06:04.435Z"
   },
   {
    "duration": 8172,
    "start_time": "2022-06-12T17:06:04.449Z"
   },
   {
    "duration": 3,
    "start_time": "2022-06-12T17:06:12.623Z"
   },
   {
    "duration": 55,
    "start_time": "2022-06-12T17:06:12.628Z"
   },
   {
    "duration": 28,
    "start_time": "2022-06-12T17:06:12.688Z"
   },
   {
    "duration": 33557,
    "start_time": "2022-06-12T17:06:12.718Z"
   },
   {
    "duration": 17,
    "start_time": "2022-06-12T17:06:46.285Z"
   },
   {
    "duration": 8,
    "start_time": "2022-06-12T17:06:46.308Z"
   },
   {
    "duration": 12466,
    "start_time": "2022-06-12T17:06:46.321Z"
   },
   {
    "duration": 5,
    "start_time": "2022-06-12T17:07:36.613Z"
   },
   {
    "duration": 15,
    "start_time": "2022-06-12T17:07:37.097Z"
   },
   {
    "duration": 4,
    "start_time": "2022-06-12T17:07:47.604Z"
   },
   {
    "duration": 7,
    "start_time": "2022-06-12T17:07:47.842Z"
   },
   {
    "duration": 5484,
    "start_time": "2022-06-12T17:21:24.181Z"
   },
   {
    "duration": 3,
    "start_time": "2022-06-12T17:21:50.118Z"
   },
   {
    "duration": 59095,
    "start_time": "2022-06-12T17:21:50.705Z"
   },
   {
    "duration": 2058,
    "start_time": "2022-06-12T17:41:46.522Z"
   },
   {
    "duration": 2094,
    "start_time": "2022-06-12T17:41:48.584Z"
   },
   {
    "duration": 1776,
    "start_time": "2022-06-12T17:41:50.680Z"
   },
   {
    "duration": 36,
    "start_time": "2022-06-12T17:41:52.458Z"
   },
   {
    "duration": 13,
    "start_time": "2022-06-12T17:41:52.496Z"
   },
   {
    "duration": 5,
    "start_time": "2022-06-12T17:41:52.511Z"
   },
   {
    "duration": 15,
    "start_time": "2022-06-12T17:41:52.517Z"
   },
   {
    "duration": 12,
    "start_time": "2022-06-12T17:41:52.533Z"
   },
   {
    "duration": 19,
    "start_time": "2022-06-12T17:41:52.546Z"
   },
   {
    "duration": 275,
    "start_time": "2022-06-12T17:41:52.569Z"
   },
   {
    "duration": 245,
    "start_time": "2022-06-12T17:41:52.846Z"
   },
   {
    "duration": 253,
    "start_time": "2022-06-12T17:41:53.093Z"
   },
   {
    "duration": 244,
    "start_time": "2022-06-12T17:41:53.348Z"
   },
   {
    "duration": 7,
    "start_time": "2022-06-12T17:41:53.594Z"
   },
   {
    "duration": 16,
    "start_time": "2022-06-12T17:41:53.603Z"
   },
   {
    "duration": 10,
    "start_time": "2022-06-12T17:41:53.621Z"
   },
   {
    "duration": 10,
    "start_time": "2022-06-12T17:41:53.632Z"
   },
   {
    "duration": 6,
    "start_time": "2022-06-12T17:41:53.643Z"
   },
   {
    "duration": 25,
    "start_time": "2022-06-12T17:41:53.651Z"
   },
   {
    "duration": 19,
    "start_time": "2022-06-12T17:41:53.678Z"
   },
   {
    "duration": 118,
    "start_time": "2022-06-12T17:41:53.699Z"
   },
   {
    "duration": 15,
    "start_time": "2022-06-12T17:41:53.819Z"
   },
   {
    "duration": 10,
    "start_time": "2022-06-12T17:41:53.836Z"
   },
   {
    "duration": 4,
    "start_time": "2022-06-12T17:41:53.848Z"
   },
   {
    "duration": 22,
    "start_time": "2022-06-12T17:41:53.867Z"
   },
   {
    "duration": 16,
    "start_time": "2022-06-12T17:41:53.891Z"
   },
   {
    "duration": 5,
    "start_time": "2022-06-12T17:41:53.909Z"
   },
   {
    "duration": 7,
    "start_time": "2022-06-12T17:41:53.916Z"
   },
   {
    "duration": 8,
    "start_time": "2022-06-12T17:41:53.924Z"
   },
   {
    "duration": 5,
    "start_time": "2022-06-12T17:41:53.933Z"
   },
   {
    "duration": 6,
    "start_time": "2022-06-12T17:41:53.939Z"
   },
   {
    "duration": 6,
    "start_time": "2022-06-12T17:41:53.946Z"
   },
   {
    "duration": 11,
    "start_time": "2022-06-12T17:41:53.953Z"
   },
   {
    "duration": 3,
    "start_time": "2022-06-12T17:41:53.967Z"
   },
   {
    "duration": 4920,
    "start_time": "2022-06-12T17:41:53.971Z"
   },
   {
    "duration": 3,
    "start_time": "2022-06-12T17:41:58.894Z"
   },
   {
    "duration": 65,
    "start_time": "2022-06-12T17:41:58.899Z"
   },
   {
    "duration": 28,
    "start_time": "2022-06-12T17:41:58.967Z"
   },
   {
    "duration": 7886,
    "start_time": "2022-06-12T17:41:58.997Z"
   },
   {
    "duration": 5,
    "start_time": "2022-06-12T17:42:06.885Z"
   },
   {
    "duration": 7,
    "start_time": "2022-06-12T17:42:06.892Z"
   },
   {
    "duration": 6089,
    "start_time": "2022-06-12T17:42:06.900Z"
   },
   {
    "duration": 162,
    "start_time": "2022-06-12T17:43:33.314Z"
   },
   {
    "duration": 27,
    "start_time": "2022-06-12T17:43:36.961Z"
   },
   {
    "duration": 11,
    "start_time": "2022-06-12T17:44:43.398Z"
   },
   {
    "duration": 4,
    "start_time": "2022-06-12T17:45:16.062Z"
   },
   {
    "duration": 4,
    "start_time": "2022-06-12T17:45:26.831Z"
   },
   {
    "duration": 4,
    "start_time": "2022-06-12T17:45:33.998Z"
   },
   {
    "duration": 1950,
    "start_time": "2022-06-12T17:45:55.430Z"
   },
   {
    "duration": 2081,
    "start_time": "2022-06-12T17:45:57.384Z"
   },
   {
    "duration": 1811,
    "start_time": "2022-06-12T17:45:59.470Z"
   },
   {
    "duration": 30,
    "start_time": "2022-06-12T17:46:01.282Z"
   },
   {
    "duration": 23,
    "start_time": "2022-06-12T17:46:01.313Z"
   },
   {
    "duration": 38,
    "start_time": "2022-06-12T17:46:01.338Z"
   },
   {
    "duration": 25,
    "start_time": "2022-06-12T17:46:01.378Z"
   },
   {
    "duration": 19,
    "start_time": "2022-06-12T17:46:01.405Z"
   },
   {
    "duration": 23,
    "start_time": "2022-06-12T17:46:01.426Z"
   },
   {
    "duration": 271,
    "start_time": "2022-06-12T17:46:01.450Z"
   },
   {
    "duration": 266,
    "start_time": "2022-06-12T17:46:01.723Z"
   },
   {
    "duration": 255,
    "start_time": "2022-06-12T17:46:01.992Z"
   },
   {
    "duration": 233,
    "start_time": "2022-06-12T17:46:02.249Z"
   },
   {
    "duration": 7,
    "start_time": "2022-06-12T17:46:02.484Z"
   },
   {
    "duration": 14,
    "start_time": "2022-06-12T17:46:02.493Z"
   },
   {
    "duration": 11,
    "start_time": "2022-06-12T17:46:02.509Z"
   },
   {
    "duration": 12,
    "start_time": "2022-06-12T17:46:02.522Z"
   },
   {
    "duration": 16,
    "start_time": "2022-06-12T17:46:02.536Z"
   },
   {
    "duration": 38,
    "start_time": "2022-06-12T17:46:02.554Z"
   },
   {
    "duration": 18,
    "start_time": "2022-06-12T17:46:02.595Z"
   },
   {
    "duration": 118,
    "start_time": "2022-06-12T17:46:02.615Z"
   },
   {
    "duration": 16,
    "start_time": "2022-06-12T17:46:02.734Z"
   },
   {
    "duration": 25,
    "start_time": "2022-06-12T17:46:02.752Z"
   },
   {
    "duration": 10,
    "start_time": "2022-06-12T17:46:02.780Z"
   },
   {
    "duration": 8,
    "start_time": "2022-06-12T17:46:02.792Z"
   },
   {
    "duration": 17,
    "start_time": "2022-06-12T17:46:02.802Z"
   },
   {
    "duration": 138,
    "start_time": "2022-06-12T17:46:02.822Z"
   },
   {
    "duration": 0,
    "start_time": "2022-06-12T17:46:02.964Z"
   },
   {
    "duration": 0,
    "start_time": "2022-06-12T17:46:02.965Z"
   },
   {
    "duration": 0,
    "start_time": "2022-06-12T17:46:02.966Z"
   },
   {
    "duration": 0,
    "start_time": "2022-06-12T17:46:02.967Z"
   },
   {
    "duration": 0,
    "start_time": "2022-06-12T17:46:02.968Z"
   },
   {
    "duration": 0,
    "start_time": "2022-06-12T17:46:02.969Z"
   },
   {
    "duration": 0,
    "start_time": "2022-06-12T17:46:02.970Z"
   },
   {
    "duration": 0,
    "start_time": "2022-06-12T17:46:02.972Z"
   },
   {
    "duration": 0,
    "start_time": "2022-06-12T17:46:02.973Z"
   },
   {
    "duration": 0,
    "start_time": "2022-06-12T17:46:02.974Z"
   },
   {
    "duration": 0,
    "start_time": "2022-06-12T17:46:02.976Z"
   },
   {
    "duration": 0,
    "start_time": "2022-06-12T17:46:02.977Z"
   },
   {
    "duration": 0,
    "start_time": "2022-06-12T17:46:02.978Z"
   },
   {
    "duration": 0,
    "start_time": "2022-06-12T17:46:02.979Z"
   },
   {
    "duration": 0,
    "start_time": "2022-06-12T17:46:02.980Z"
   },
   {
    "duration": 0,
    "start_time": "2022-06-12T17:46:02.981Z"
   },
   {
    "duration": 0,
    "start_time": "2022-06-12T17:46:02.984Z"
   },
   {
    "duration": 4,
    "start_time": "2022-06-12T17:46:48.521Z"
   },
   {
    "duration": 4,
    "start_time": "2022-06-12T17:46:49.306Z"
   },
   {
    "duration": 4,
    "start_time": "2022-06-12T17:46:56.098Z"
   },
   {
    "duration": 5,
    "start_time": "2022-06-12T17:47:15.810Z"
   },
   {
    "duration": 5,
    "start_time": "2022-06-12T17:47:17.409Z"
   },
   {
    "duration": 15,
    "start_time": "2022-06-12T17:48:23.257Z"
   },
   {
    "duration": 3,
    "start_time": "2022-06-12T17:48:29.551Z"
   },
   {
    "duration": 14,
    "start_time": "2022-06-12T17:48:30.062Z"
   },
   {
    "duration": 3,
    "start_time": "2022-06-12T17:48:35.655Z"
   },
   {
    "duration": 4,
    "start_time": "2022-06-12T17:48:36.124Z"
   },
   {
    "duration": 14,
    "start_time": "2022-06-12T17:48:36.670Z"
   },
   {
    "duration": 4,
    "start_time": "2022-06-12T17:48:58.854Z"
   },
   {
    "duration": 10,
    "start_time": "2022-06-12T17:48:59.397Z"
   },
   {
    "duration": 6,
    "start_time": "2022-06-12T17:49:22.443Z"
   },
   {
    "duration": 4,
    "start_time": "2022-06-12T17:49:24.563Z"
   },
   {
    "duration": 11,
    "start_time": "2022-06-12T17:49:24.942Z"
   },
   {
    "duration": 17,
    "start_time": "2022-06-12T17:50:36.098Z"
   },
   {
    "duration": 14,
    "start_time": "2022-06-12T17:50:50.515Z"
   },
   {
    "duration": 11,
    "start_time": "2022-06-12T17:51:10.293Z"
   },
   {
    "duration": 8,
    "start_time": "2022-06-12T17:51:27.659Z"
   },
   {
    "duration": 7,
    "start_time": "2022-06-12T17:52:02.162Z"
   },
   {
    "duration": 12,
    "start_time": "2022-06-12T17:52:53.622Z"
   },
   {
    "duration": 16,
    "start_time": "2022-06-12T17:53:54.549Z"
   },
   {
    "duration": 18,
    "start_time": "2022-06-12T17:54:10.214Z"
   },
   {
    "duration": 14,
    "start_time": "2022-06-12T17:54:36.531Z"
   },
   {
    "duration": 7,
    "start_time": "2022-06-12T17:55:23.627Z"
   },
   {
    "duration": 4,
    "start_time": "2022-06-12T17:55:35.178Z"
   },
   {
    "duration": 4,
    "start_time": "2022-06-12T17:55:41.476Z"
   },
   {
    "duration": 7,
    "start_time": "2022-06-12T17:57:37.432Z"
   },
   {
    "duration": 10,
    "start_time": "2022-06-12T17:58:17.216Z"
   },
   {
    "duration": 10,
    "start_time": "2022-06-12T17:58:41.078Z"
   },
   {
    "duration": 11,
    "start_time": "2022-06-12T17:58:54.470Z"
   },
   {
    "duration": 11,
    "start_time": "2022-06-12T17:59:07.151Z"
   },
   {
    "duration": 11,
    "start_time": "2022-06-12T17:59:15.147Z"
   },
   {
    "duration": 17,
    "start_time": "2022-06-12T18:01:58.882Z"
   },
   {
    "duration": 21,
    "start_time": "2022-06-12T18:02:21.781Z"
   },
   {
    "duration": 16,
    "start_time": "2022-06-12T18:02:58.696Z"
   },
   {
    "duration": 13,
    "start_time": "2022-06-12T18:04:24.188Z"
   },
   {
    "duration": 3,
    "start_time": "2022-06-12T18:05:58.090Z"
   },
   {
    "duration": 17,
    "start_time": "2022-06-12T18:06:00.488Z"
   },
   {
    "duration": 11,
    "start_time": "2022-06-12T18:06:12.273Z"
   },
   {
    "duration": 11,
    "start_time": "2022-06-12T18:06:24.441Z"
   },
   {
    "duration": 20,
    "start_time": "2022-06-12T18:08:01.451Z"
   },
   {
    "duration": 5,
    "start_time": "2022-06-12T18:13:05.251Z"
   },
   {
    "duration": 8,
    "start_time": "2022-06-12T18:14:29.107Z"
   },
   {
    "duration": 3,
    "start_time": "2022-06-12T18:15:02.953Z"
   },
   {
    "duration": 7,
    "start_time": "2022-06-12T18:16:20.991Z"
   },
   {
    "duration": 10,
    "start_time": "2022-06-12T18:16:30.398Z"
   },
   {
    "duration": 8,
    "start_time": "2022-06-12T18:16:39.237Z"
   },
   {
    "duration": 7,
    "start_time": "2022-06-12T18:16:40.983Z"
   },
   {
    "duration": 16,
    "start_time": "2022-06-12T18:17:15.805Z"
   },
   {
    "duration": 5,
    "start_time": "2022-06-12T18:18:16.227Z"
   },
   {
    "duration": 9,
    "start_time": "2022-06-12T18:20:00.089Z"
   },
   {
    "duration": 33,
    "start_time": "2022-06-12T18:20:07.607Z"
   },
   {
    "duration": 20,
    "start_time": "2022-06-12T18:20:13.808Z"
   },
   {
    "duration": 14,
    "start_time": "2022-06-12T18:20:28.630Z"
   },
   {
    "duration": 4,
    "start_time": "2022-06-12T18:20:44.991Z"
   },
   {
    "duration": 4,
    "start_time": "2022-06-12T18:20:48.062Z"
   },
   {
    "duration": 17,
    "start_time": "2022-06-12T18:21:43.653Z"
   },
   {
    "duration": 7,
    "start_time": "2022-06-12T18:21:51.404Z"
   },
   {
    "duration": 1922,
    "start_time": "2022-06-12T18:22:14.485Z"
   },
   {
    "duration": 2007,
    "start_time": "2022-06-12T18:22:16.410Z"
   },
   {
    "duration": 1635,
    "start_time": "2022-06-12T18:22:18.419Z"
   },
   {
    "duration": 28,
    "start_time": "2022-06-12T18:22:20.056Z"
   },
   {
    "duration": 14,
    "start_time": "2022-06-12T18:22:20.086Z"
   },
   {
    "duration": 8,
    "start_time": "2022-06-12T18:22:20.102Z"
   },
   {
    "duration": 12,
    "start_time": "2022-06-12T18:22:20.111Z"
   },
   {
    "duration": 14,
    "start_time": "2022-06-12T18:22:20.125Z"
   },
   {
    "duration": 22,
    "start_time": "2022-06-12T18:22:20.141Z"
   },
   {
    "duration": 245,
    "start_time": "2022-06-12T18:22:20.166Z"
   },
   {
    "duration": 224,
    "start_time": "2022-06-12T18:22:20.412Z"
   },
   {
    "duration": 237,
    "start_time": "2022-06-12T18:22:20.638Z"
   },
   {
    "duration": 229,
    "start_time": "2022-06-12T18:22:20.876Z"
   },
   {
    "duration": 6,
    "start_time": "2022-06-12T18:22:21.107Z"
   },
   {
    "duration": 9,
    "start_time": "2022-06-12T18:22:21.114Z"
   },
   {
    "duration": 6,
    "start_time": "2022-06-12T18:22:21.125Z"
   },
   {
    "duration": 7,
    "start_time": "2022-06-12T18:22:21.133Z"
   },
   {
    "duration": 9,
    "start_time": "2022-06-12T18:22:21.141Z"
   },
   {
    "duration": 2,
    "start_time": "2022-06-12T18:22:21.164Z"
   },
   {
    "duration": 15,
    "start_time": "2022-06-12T18:22:21.167Z"
   },
   {
    "duration": 26,
    "start_time": "2022-06-12T18:22:21.184Z"
   },
   {
    "duration": 123,
    "start_time": "2022-06-12T18:22:21.211Z"
   },
   {
    "duration": 12,
    "start_time": "2022-06-12T18:22:21.336Z"
   },
   {
    "duration": 13,
    "start_time": "2022-06-12T18:22:21.349Z"
   },
   {
    "duration": 10,
    "start_time": "2022-06-12T18:22:21.364Z"
   },
   {
    "duration": 17,
    "start_time": "2022-06-12T18:22:21.375Z"
   },
   {
    "duration": 16,
    "start_time": "2022-06-12T18:22:21.394Z"
   },
   {
    "duration": 5,
    "start_time": "2022-06-12T18:23:06.733Z"
   },
   {
    "duration": 5,
    "start_time": "2022-06-12T18:23:24.437Z"
   },
   {
    "duration": 134,
    "start_time": "2022-06-12T18:23:39.287Z"
   },
   {
    "duration": 6,
    "start_time": "2022-06-12T18:23:43.628Z"
   },
   {
    "duration": 4,
    "start_time": "2022-06-12T18:24:05.701Z"
   },
   {
    "duration": 5,
    "start_time": "2022-06-12T18:24:06.629Z"
   },
   {
    "duration": 4,
    "start_time": "2022-06-12T18:25:23.579Z"
   },
   {
    "duration": 2,
    "start_time": "2022-06-12T18:25:24.002Z"
   },
   {
    "duration": 4,
    "start_time": "2022-06-12T18:25:24.618Z"
   },
   {
    "duration": 3,
    "start_time": "2022-06-12T18:25:27.848Z"
   },
   {
    "duration": 3,
    "start_time": "2022-06-12T18:25:28.351Z"
   },
   {
    "duration": 28,
    "start_time": "2022-06-12T18:25:29.768Z"
   },
   {
    "duration": 3,
    "start_time": "2022-06-12T18:25:55.441Z"
   },
   {
    "duration": 5,
    "start_time": "2022-06-12T18:25:55.819Z"
   },
   {
    "duration": 4,
    "start_time": "2022-06-12T18:25:57.202Z"
   },
   {
    "duration": 4,
    "start_time": "2022-06-12T18:25:57.876Z"
   },
   {
    "duration": 27,
    "start_time": "2022-06-12T18:25:59.961Z"
   },
   {
    "duration": 3,
    "start_time": "2022-06-12T18:28:44.055Z"
   },
   {
    "duration": 25,
    "start_time": "2022-06-12T18:29:25.874Z"
   },
   {
    "duration": 3,
    "start_time": "2022-06-12T18:30:53.472Z"
   },
   {
    "duration": 3,
    "start_time": "2022-06-12T18:30:54.511Z"
   },
   {
    "duration": 11,
    "start_time": "2022-06-12T18:30:56.008Z"
   },
   {
    "duration": 18,
    "start_time": "2022-06-12T18:31:11.992Z"
   },
   {
    "duration": 6,
    "start_time": "2022-06-12T18:31:34.143Z"
   },
   {
    "duration": 3,
    "start_time": "2022-06-12T18:31:34.768Z"
   },
   {
    "duration": 4,
    "start_time": "2022-06-12T18:31:36.624Z"
   },
   {
    "duration": 3,
    "start_time": "2022-06-12T18:31:37.622Z"
   },
   {
    "duration": 16,
    "start_time": "2022-06-12T18:31:38.724Z"
   },
   {
    "duration": 2000,
    "start_time": "2022-06-12T18:31:44.427Z"
   },
   {
    "duration": 1952,
    "start_time": "2022-06-12T18:31:46.429Z"
   },
   {
    "duration": 1787,
    "start_time": "2022-06-12T18:31:48.383Z"
   },
   {
    "duration": 28,
    "start_time": "2022-06-12T18:31:50.172Z"
   },
   {
    "duration": 13,
    "start_time": "2022-06-12T18:31:50.202Z"
   },
   {
    "duration": 4,
    "start_time": "2022-06-12T18:31:50.216Z"
   },
   {
    "duration": 12,
    "start_time": "2022-06-12T18:31:50.221Z"
   },
   {
    "duration": 12,
    "start_time": "2022-06-12T18:31:50.235Z"
   },
   {
    "duration": 23,
    "start_time": "2022-06-12T18:31:50.248Z"
   },
   {
    "duration": 256,
    "start_time": "2022-06-12T18:31:50.273Z"
   },
   {
    "duration": 239,
    "start_time": "2022-06-12T18:31:50.530Z"
   },
   {
    "duration": 265,
    "start_time": "2022-06-12T18:31:50.770Z"
   },
   {
    "duration": 251,
    "start_time": "2022-06-12T18:31:51.037Z"
   },
   {
    "duration": 7,
    "start_time": "2022-06-12T18:31:51.289Z"
   },
   {
    "duration": 6,
    "start_time": "2022-06-12T18:31:51.298Z"
   },
   {
    "duration": 6,
    "start_time": "2022-06-12T18:31:51.306Z"
   },
   {
    "duration": 10,
    "start_time": "2022-06-12T18:31:51.314Z"
   },
   {
    "duration": 6,
    "start_time": "2022-06-12T18:31:51.325Z"
   },
   {
    "duration": 45,
    "start_time": "2022-06-12T18:31:51.333Z"
   },
   {
    "duration": 119,
    "start_time": "2022-06-12T18:31:51.379Z"
   },
   {
    "duration": 9,
    "start_time": "2022-06-12T18:31:51.500Z"
   },
   {
    "duration": 7,
    "start_time": "2022-06-12T18:31:51.511Z"
   },
   {
    "duration": 12,
    "start_time": "2022-06-12T18:31:51.519Z"
   },
   {
    "duration": 5,
    "start_time": "2022-06-12T18:31:51.533Z"
   },
   {
    "duration": 137,
    "start_time": "2022-06-12T18:31:51.539Z"
   },
   {
    "duration": 1,
    "start_time": "2022-06-12T18:31:51.678Z"
   },
   {
    "duration": 0,
    "start_time": "2022-06-12T18:31:51.679Z"
   },
   {
    "duration": 0,
    "start_time": "2022-06-12T18:31:51.681Z"
   },
   {
    "duration": 0,
    "start_time": "2022-06-12T18:31:51.682Z"
   },
   {
    "duration": 0,
    "start_time": "2022-06-12T18:31:51.683Z"
   },
   {
    "duration": 0,
    "start_time": "2022-06-12T18:31:51.684Z"
   },
   {
    "duration": 0,
    "start_time": "2022-06-12T18:31:51.685Z"
   },
   {
    "duration": 0,
    "start_time": "2022-06-12T18:31:51.686Z"
   },
   {
    "duration": 0,
    "start_time": "2022-06-12T18:31:51.688Z"
   },
   {
    "duration": 0,
    "start_time": "2022-06-12T18:31:51.689Z"
   },
   {
    "duration": 0,
    "start_time": "2022-06-12T18:31:51.690Z"
   },
   {
    "duration": 0,
    "start_time": "2022-06-12T18:31:51.692Z"
   },
   {
    "duration": 0,
    "start_time": "2022-06-12T18:31:51.693Z"
   },
   {
    "duration": 0,
    "start_time": "2022-06-12T18:31:51.695Z"
   },
   {
    "duration": 0,
    "start_time": "2022-06-12T18:31:51.697Z"
   },
   {
    "duration": 12,
    "start_time": "2022-06-12T18:32:45.352Z"
   },
   {
    "duration": 2071,
    "start_time": "2022-06-12T18:33:11.611Z"
   },
   {
    "duration": 2031,
    "start_time": "2022-06-12T18:33:13.685Z"
   },
   {
    "duration": 1760,
    "start_time": "2022-06-12T18:33:15.718Z"
   },
   {
    "duration": 28,
    "start_time": "2022-06-12T18:33:17.481Z"
   },
   {
    "duration": 13,
    "start_time": "2022-06-12T18:33:17.511Z"
   },
   {
    "duration": 3,
    "start_time": "2022-06-12T18:33:17.526Z"
   },
   {
    "duration": 13,
    "start_time": "2022-06-12T18:33:17.531Z"
   },
   {
    "duration": 11,
    "start_time": "2022-06-12T18:33:17.546Z"
   },
   {
    "duration": 21,
    "start_time": "2022-06-12T18:33:17.559Z"
   },
   {
    "duration": 300,
    "start_time": "2022-06-12T18:33:17.582Z"
   },
   {
    "duration": 267,
    "start_time": "2022-06-12T18:33:17.885Z"
   },
   {
    "duration": 295,
    "start_time": "2022-06-12T18:33:18.155Z"
   },
   {
    "duration": 272,
    "start_time": "2022-06-12T18:33:18.453Z"
   },
   {
    "duration": 8,
    "start_time": "2022-06-12T18:33:18.727Z"
   },
   {
    "duration": 11,
    "start_time": "2022-06-12T18:33:18.736Z"
   },
   {
    "duration": 17,
    "start_time": "2022-06-12T18:33:18.748Z"
   },
   {
    "duration": 9,
    "start_time": "2022-06-12T18:33:18.768Z"
   },
   {
    "duration": 5,
    "start_time": "2022-06-12T18:33:18.779Z"
   },
   {
    "duration": 35,
    "start_time": "2022-06-12T18:33:18.786Z"
   },
   {
    "duration": 163,
    "start_time": "2022-06-12T18:33:18.823Z"
   },
   {
    "duration": 14,
    "start_time": "2022-06-12T18:33:18.988Z"
   },
   {
    "duration": 10,
    "start_time": "2022-06-12T18:33:19.003Z"
   },
   {
    "duration": 188,
    "start_time": "2022-06-12T18:33:19.015Z"
   },
   {
    "duration": 0,
    "start_time": "2022-06-12T18:33:19.205Z"
   },
   {
    "duration": 0,
    "start_time": "2022-06-12T18:33:19.207Z"
   },
   {
    "duration": 0,
    "start_time": "2022-06-12T18:33:19.208Z"
   },
   {
    "duration": 0,
    "start_time": "2022-06-12T18:33:19.210Z"
   },
   {
    "duration": 0,
    "start_time": "2022-06-12T18:33:19.211Z"
   },
   {
    "duration": 0,
    "start_time": "2022-06-12T18:33:19.212Z"
   },
   {
    "duration": 0,
    "start_time": "2022-06-12T18:33:19.213Z"
   },
   {
    "duration": 0,
    "start_time": "2022-06-12T18:33:19.215Z"
   },
   {
    "duration": 0,
    "start_time": "2022-06-12T18:33:19.216Z"
   },
   {
    "duration": 0,
    "start_time": "2022-06-12T18:33:19.218Z"
   },
   {
    "duration": 0,
    "start_time": "2022-06-12T18:33:19.219Z"
   },
   {
    "duration": 0,
    "start_time": "2022-06-12T18:33:19.220Z"
   },
   {
    "duration": 0,
    "start_time": "2022-06-12T18:33:19.221Z"
   },
   {
    "duration": 0,
    "start_time": "2022-06-12T18:33:19.222Z"
   },
   {
    "duration": 0,
    "start_time": "2022-06-12T18:33:19.224Z"
   },
   {
    "duration": 0,
    "start_time": "2022-06-12T18:33:19.225Z"
   },
   {
    "duration": 0,
    "start_time": "2022-06-12T18:33:19.265Z"
   },
   {
    "duration": 4,
    "start_time": "2022-06-12T18:33:54.474Z"
   },
   {
    "duration": 3,
    "start_time": "2022-06-12T18:33:55.347Z"
   },
   {
    "duration": 11,
    "start_time": "2022-06-12T18:33:56.119Z"
   },
   {
    "duration": 4,
    "start_time": "2022-06-12T18:33:56.561Z"
   },
   {
    "duration": 5,
    "start_time": "2022-06-12T18:34:02.994Z"
   },
   {
    "duration": 2007,
    "start_time": "2022-06-12T18:34:24.904Z"
   },
   {
    "duration": 2002,
    "start_time": "2022-06-12T18:34:26.915Z"
   },
   {
    "duration": 1800,
    "start_time": "2022-06-12T18:34:28.920Z"
   },
   {
    "duration": 30,
    "start_time": "2022-06-12T18:34:30.722Z"
   },
   {
    "duration": 14,
    "start_time": "2022-06-12T18:34:30.754Z"
   },
   {
    "duration": 12,
    "start_time": "2022-06-12T18:34:30.771Z"
   },
   {
    "duration": 23,
    "start_time": "2022-06-12T18:34:30.785Z"
   },
   {
    "duration": 22,
    "start_time": "2022-06-12T18:34:30.810Z"
   },
   {
    "duration": 37,
    "start_time": "2022-06-12T18:34:30.834Z"
   },
   {
    "duration": 286,
    "start_time": "2022-06-12T18:34:30.873Z"
   },
   {
    "duration": 240,
    "start_time": "2022-06-12T18:34:31.161Z"
   },
   {
    "duration": 257,
    "start_time": "2022-06-12T18:34:31.403Z"
   },
   {
    "duration": 258,
    "start_time": "2022-06-12T18:34:31.664Z"
   },
   {
    "duration": 10,
    "start_time": "2022-06-12T18:34:31.927Z"
   },
   {
    "duration": 11,
    "start_time": "2022-06-12T18:34:31.939Z"
   },
   {
    "duration": 7,
    "start_time": "2022-06-12T18:34:31.966Z"
   },
   {
    "duration": 9,
    "start_time": "2022-06-12T18:34:31.975Z"
   },
   {
    "duration": 3,
    "start_time": "2022-06-12T18:34:31.986Z"
   },
   {
    "duration": 148,
    "start_time": "2022-06-12T18:34:31.991Z"
   },
   {
    "duration": 25,
    "start_time": "2022-06-12T18:34:32.141Z"
   },
   {
    "duration": 9,
    "start_time": "2022-06-12T18:34:32.167Z"
   },
   {
    "duration": 5,
    "start_time": "2022-06-12T18:34:32.178Z"
   },
   {
    "duration": 5,
    "start_time": "2022-06-12T18:34:32.185Z"
   },
   {
    "duration": 4,
    "start_time": "2022-06-12T18:34:32.192Z"
   },
   {
    "duration": 16,
    "start_time": "2022-06-12T18:34:32.198Z"
   },
   {
    "duration": 6,
    "start_time": "2022-06-12T18:34:32.216Z"
   },
   {
    "duration": 6,
    "start_time": "2022-06-12T18:34:32.224Z"
   },
   {
    "duration": 6,
    "start_time": "2022-06-12T18:34:32.231Z"
   },
   {
    "duration": 3,
    "start_time": "2022-06-12T18:34:32.265Z"
   },
   {
    "duration": 6,
    "start_time": "2022-06-12T18:34:32.270Z"
   },
   {
    "duration": 6,
    "start_time": "2022-06-12T18:34:32.277Z"
   },
   {
    "duration": 7,
    "start_time": "2022-06-12T18:34:32.285Z"
   },
   {
    "duration": 170,
    "start_time": "2022-06-12T18:34:32.294Z"
   },
   {
    "duration": 0,
    "start_time": "2022-06-12T18:34:32.466Z"
   },
   {
    "duration": 0,
    "start_time": "2022-06-12T18:34:32.467Z"
   },
   {
    "duration": 0,
    "start_time": "2022-06-12T18:34:32.468Z"
   },
   {
    "duration": 0,
    "start_time": "2022-06-12T18:34:32.469Z"
   },
   {
    "duration": 0,
    "start_time": "2022-06-12T18:34:32.470Z"
   },
   {
    "duration": 0,
    "start_time": "2022-06-12T18:34:32.471Z"
   },
   {
    "duration": 0,
    "start_time": "2022-06-12T18:34:32.472Z"
   },
   {
    "duration": 3,
    "start_time": "2022-06-12T18:35:16.147Z"
   },
   {
    "duration": 4,
    "start_time": "2022-06-12T18:35:16.494Z"
   },
   {
    "duration": 4,
    "start_time": "2022-06-12T18:35:17.827Z"
   },
   {
    "duration": 5,
    "start_time": "2022-06-12T18:35:19.039Z"
   },
   {
    "duration": 3364,
    "start_time": "2022-06-12T18:35:19.704Z"
   },
   {
    "duration": 3,
    "start_time": "2022-06-12T18:38:53.413Z"
   },
   {
    "duration": 4,
    "start_time": "2022-06-12T18:38:53.968Z"
   },
   {
    "duration": 4,
    "start_time": "2022-06-12T18:38:56.125Z"
   },
   {
    "duration": 3,
    "start_time": "2022-06-12T18:38:57.088Z"
   },
   {
    "duration": 27,
    "start_time": "2022-06-12T18:38:57.784Z"
   },
   {
    "duration": 3,
    "start_time": "2022-06-12T18:39:29.550Z"
   },
   {
    "duration": 4,
    "start_time": "2022-06-12T18:39:29.869Z"
   },
   {
    "duration": 3,
    "start_time": "2022-06-12T18:39:30.678Z"
   },
   {
    "duration": 3,
    "start_time": "2022-06-12T18:39:30.887Z"
   },
   {
    "duration": 38,
    "start_time": "2022-06-12T18:39:31.577Z"
   },
   {
    "duration": 3,
    "start_time": "2022-06-12T18:40:09.112Z"
   },
   {
    "duration": 4,
    "start_time": "2022-06-12T18:40:09.532Z"
   },
   {
    "duration": 4,
    "start_time": "2022-06-12T18:40:10.750Z"
   },
   {
    "duration": 3,
    "start_time": "2022-06-12T18:40:10.987Z"
   },
   {
    "duration": 3,
    "start_time": "2022-06-12T18:41:02.283Z"
   },
   {
    "duration": 4,
    "start_time": "2022-06-12T18:41:02.626Z"
   },
   {
    "duration": 4,
    "start_time": "2022-06-12T18:41:03.618Z"
   },
   {
    "duration": 3,
    "start_time": "2022-06-12T18:41:04.145Z"
   },
   {
    "duration": 3113,
    "start_time": "2022-06-12T18:41:04.661Z"
   },
   {
    "duration": 16,
    "start_time": "2022-06-12T18:42:30.935Z"
   },
   {
    "duration": 32,
    "start_time": "2022-06-12T18:43:38.350Z"
   },
   {
    "duration": 3626,
    "start_time": "2022-06-12T18:43:48.743Z"
   },
   {
    "duration": 3673,
    "start_time": "2022-06-12T18:43:58.098Z"
   },
   {
    "duration": 3695,
    "start_time": "2022-06-12T18:44:23.779Z"
   },
   {
    "duration": 3,
    "start_time": "2022-06-12T19:05:20.336Z"
   },
   {
    "duration": 3230,
    "start_time": "2022-06-12T19:05:20.857Z"
   },
   {
    "duration": 3416,
    "start_time": "2022-06-12T19:05:29.161Z"
   },
   {
    "duration": 3,
    "start_time": "2022-06-12T19:05:38.016Z"
   },
   {
    "duration": 1887,
    "start_time": "2022-06-12T19:06:39.941Z"
   },
   {
    "duration": 1969,
    "start_time": "2022-06-12T19:06:41.831Z"
   },
   {
    "duration": 1669,
    "start_time": "2022-06-12T19:06:43.802Z"
   },
   {
    "duration": 29,
    "start_time": "2022-06-12T19:06:45.473Z"
   },
   {
    "duration": 13,
    "start_time": "2022-06-12T19:06:45.503Z"
   },
   {
    "duration": 4,
    "start_time": "2022-06-12T19:06:45.517Z"
   },
   {
    "duration": 13,
    "start_time": "2022-06-12T19:06:45.522Z"
   },
   {
    "duration": 12,
    "start_time": "2022-06-12T19:06:45.536Z"
   },
   {
    "duration": 21,
    "start_time": "2022-06-12T19:06:45.549Z"
   },
   {
    "duration": 253,
    "start_time": "2022-06-12T19:06:45.573Z"
   },
   {
    "duration": 225,
    "start_time": "2022-06-12T19:06:45.827Z"
   },
   {
    "duration": 251,
    "start_time": "2022-06-12T19:06:46.054Z"
   },
   {
    "duration": 239,
    "start_time": "2022-06-12T19:06:46.307Z"
   },
   {
    "duration": 6,
    "start_time": "2022-06-12T19:06:46.548Z"
   },
   {
    "duration": 9,
    "start_time": "2022-06-12T19:06:46.556Z"
   },
   {
    "duration": 6,
    "start_time": "2022-06-12T19:06:46.567Z"
   },
   {
    "duration": 8,
    "start_time": "2022-06-12T19:06:46.575Z"
   },
   {
    "duration": 6,
    "start_time": "2022-06-12T19:06:46.585Z"
   },
   {
    "duration": 26,
    "start_time": "2022-06-12T19:06:46.592Z"
   },
   {
    "duration": 146,
    "start_time": "2022-06-12T19:06:46.620Z"
   },
   {
    "duration": 6,
    "start_time": "2022-06-12T19:06:46.768Z"
   },
   {
    "duration": 4,
    "start_time": "2022-06-12T19:06:46.775Z"
   },
   {
    "duration": 11,
    "start_time": "2022-06-12T19:06:46.780Z"
   },
   {
    "duration": 7,
    "start_time": "2022-06-12T19:06:46.793Z"
   },
   {
    "duration": 19,
    "start_time": "2022-06-12T19:06:46.802Z"
   },
   {
    "duration": 11,
    "start_time": "2022-06-12T19:06:46.822Z"
   },
   {
    "duration": 5,
    "start_time": "2022-06-12T19:06:46.835Z"
   },
   {
    "duration": 4,
    "start_time": "2022-06-12T19:06:46.843Z"
   },
   {
    "duration": 16,
    "start_time": "2022-06-12T19:06:46.848Z"
   },
   {
    "duration": 5,
    "start_time": "2022-06-12T19:06:46.866Z"
   },
   {
    "duration": 4,
    "start_time": "2022-06-12T19:06:46.873Z"
   },
   {
    "duration": 6,
    "start_time": "2022-06-12T19:06:46.878Z"
   },
   {
    "duration": 2003,
    "start_time": "2022-06-12T19:10:16.938Z"
   },
   {
    "duration": 1983,
    "start_time": "2022-06-12T19:10:18.944Z"
   },
   {
    "duration": 1637,
    "start_time": "2022-06-12T19:10:20.929Z"
   },
   {
    "duration": 29,
    "start_time": "2022-06-12T19:10:22.568Z"
   },
   {
    "duration": 14,
    "start_time": "2022-06-12T19:10:22.599Z"
   },
   {
    "duration": 5,
    "start_time": "2022-06-12T19:10:22.614Z"
   },
   {
    "duration": 12,
    "start_time": "2022-06-12T19:10:22.621Z"
   },
   {
    "duration": 12,
    "start_time": "2022-06-12T19:10:22.634Z"
   },
   {
    "duration": 24,
    "start_time": "2022-06-12T19:10:22.648Z"
   },
   {
    "duration": 256,
    "start_time": "2022-06-12T19:10:22.675Z"
   },
   {
    "duration": 240,
    "start_time": "2022-06-12T19:10:22.933Z"
   },
   {
    "duration": 266,
    "start_time": "2022-06-12T19:10:23.174Z"
   },
   {
    "duration": 239,
    "start_time": "2022-06-12T19:10:23.441Z"
   },
   {
    "duration": 9,
    "start_time": "2022-06-12T19:10:23.682Z"
   },
   {
    "duration": 11,
    "start_time": "2022-06-12T19:10:23.692Z"
   },
   {
    "duration": 8,
    "start_time": "2022-06-12T19:10:23.704Z"
   },
   {
    "duration": 9,
    "start_time": "2022-06-12T19:10:23.713Z"
   },
   {
    "duration": 6,
    "start_time": "2022-06-12T19:10:23.723Z"
   },
   {
    "duration": 35,
    "start_time": "2022-06-12T19:10:23.730Z"
   },
   {
    "duration": 122,
    "start_time": "2022-06-12T19:10:23.767Z"
   },
   {
    "duration": 6,
    "start_time": "2022-06-12T19:10:23.891Z"
   },
   {
    "duration": 8,
    "start_time": "2022-06-12T19:10:23.899Z"
   },
   {
    "duration": 7,
    "start_time": "2022-06-12T19:10:23.908Z"
   },
   {
    "duration": 4,
    "start_time": "2022-06-12T19:10:23.917Z"
   },
   {
    "duration": 20,
    "start_time": "2022-06-12T19:10:23.922Z"
   },
   {
    "duration": 7,
    "start_time": "2022-06-12T19:10:23.944Z"
   },
   {
    "duration": 16,
    "start_time": "2022-06-12T19:10:23.952Z"
   },
   {
    "duration": 10,
    "start_time": "2022-06-12T19:10:23.970Z"
   },
   {
    "duration": 5,
    "start_time": "2022-06-12T19:10:23.981Z"
   },
   {
    "duration": 6,
    "start_time": "2022-06-12T19:10:23.987Z"
   },
   {
    "duration": 7,
    "start_time": "2022-06-12T19:10:23.994Z"
   },
   {
    "duration": 5,
    "start_time": "2022-06-12T19:10:57.478Z"
   },
   {
    "duration": 409,
    "start_time": "2022-06-12T19:10:59.666Z"
   },
   {
    "duration": 135,
    "start_time": "2022-06-12T19:12:12.279Z"
   },
   {
    "duration": 343,
    "start_time": "2022-06-12T19:12:21.150Z"
   },
   {
    "duration": 5,
    "start_time": "2022-06-12T19:13:40.403Z"
   },
   {
    "duration": 2243,
    "start_time": "2022-06-12T19:15:50.487Z"
   },
   {
    "duration": 2256,
    "start_time": "2022-06-12T19:16:23.549Z"
   },
   {
    "duration": 1689,
    "start_time": "2022-06-12T19:16:32.087Z"
   },
   {
    "duration": 1749,
    "start_time": "2022-06-12T19:17:12.682Z"
   },
   {
    "duration": 1609,
    "start_time": "2022-06-12T19:17:19.359Z"
   },
   {
    "duration": 4,
    "start_time": "2022-06-12T19:18:18.855Z"
   },
   {
    "duration": 1703,
    "start_time": "2022-06-12T19:18:20.378Z"
   },
   {
    "duration": 3,
    "start_time": "2022-06-12T19:18:26.948Z"
   },
   {
    "duration": 1709,
    "start_time": "2022-06-12T19:18:27.411Z"
   },
   {
    "duration": 1944,
    "start_time": "2022-06-12T19:18:49.516Z"
   },
   {
    "duration": 2068,
    "start_time": "2022-06-12T19:18:51.462Z"
   },
   {
    "duration": 1751,
    "start_time": "2022-06-12T19:18:53.532Z"
   },
   {
    "duration": 28,
    "start_time": "2022-06-12T19:18:55.285Z"
   },
   {
    "duration": 14,
    "start_time": "2022-06-12T19:18:55.315Z"
   },
   {
    "duration": 4,
    "start_time": "2022-06-12T19:18:55.331Z"
   },
   {
    "duration": 16,
    "start_time": "2022-06-12T19:18:55.336Z"
   },
   {
    "duration": 15,
    "start_time": "2022-06-12T19:18:55.354Z"
   },
   {
    "duration": 22,
    "start_time": "2022-06-12T19:18:55.370Z"
   },
   {
    "duration": 276,
    "start_time": "2022-06-12T19:18:55.394Z"
   },
   {
    "duration": 283,
    "start_time": "2022-06-12T19:18:55.672Z"
   },
   {
    "duration": 284,
    "start_time": "2022-06-12T19:18:55.957Z"
   },
   {
    "duration": 286,
    "start_time": "2022-06-12T19:18:56.243Z"
   },
   {
    "duration": 7,
    "start_time": "2022-06-12T19:18:56.531Z"
   },
   {
    "duration": 11,
    "start_time": "2022-06-12T19:18:56.539Z"
   },
   {
    "duration": 5,
    "start_time": "2022-06-12T19:18:56.564Z"
   },
   {
    "duration": 11,
    "start_time": "2022-06-12T19:18:56.571Z"
   },
   {
    "duration": 5,
    "start_time": "2022-06-12T19:18:56.584Z"
   },
   {
    "duration": 22,
    "start_time": "2022-06-12T19:18:56.590Z"
   },
   {
    "duration": 141,
    "start_time": "2022-06-12T19:18:56.613Z"
   },
   {
    "duration": 13,
    "start_time": "2022-06-12T19:18:56.755Z"
   },
   {
    "duration": 4,
    "start_time": "2022-06-12T19:18:56.769Z"
   },
   {
    "duration": 6,
    "start_time": "2022-06-12T19:18:56.774Z"
   },
   {
    "duration": 5,
    "start_time": "2022-06-12T19:18:56.782Z"
   },
   {
    "duration": 13,
    "start_time": "2022-06-12T19:18:56.788Z"
   },
   {
    "duration": 4,
    "start_time": "2022-06-12T19:18:56.802Z"
   },
   {
    "duration": 5,
    "start_time": "2022-06-12T19:18:56.808Z"
   },
   {
    "duration": 4,
    "start_time": "2022-06-12T19:18:56.817Z"
   },
   {
    "duration": 4,
    "start_time": "2022-06-12T19:18:56.822Z"
   },
   {
    "duration": 4,
    "start_time": "2022-06-12T19:18:56.865Z"
   },
   {
    "duration": 6,
    "start_time": "2022-06-12T19:18:56.871Z"
   },
   {
    "duration": 6,
    "start_time": "2022-06-12T19:18:56.879Z"
   },
   {
    "duration": 1826,
    "start_time": "2022-06-12T19:18:56.886Z"
   },
   {
    "duration": 2,
    "start_time": "2022-06-12T19:18:58.714Z"
   },
   {
    "duration": 7,
    "start_time": "2022-06-12T19:18:58.718Z"
   },
   {
    "duration": 8,
    "start_time": "2022-06-12T19:18:58.727Z"
   },
   {
    "duration": 5051,
    "start_time": "2022-06-12T19:18:58.737Z"
   },
   {
    "duration": 5,
    "start_time": "2022-06-12T19:19:03.865Z"
   },
   {
    "duration": 7,
    "start_time": "2022-06-12T19:19:03.872Z"
   },
   {
    "duration": 4494,
    "start_time": "2022-06-12T19:19:03.880Z"
   },
   {
    "duration": 146,
    "start_time": "2022-06-12T19:19:29.866Z"
   },
   {
    "duration": 11,
    "start_time": "2022-06-12T19:24:15.414Z"
   },
   {
    "duration": 4,
    "start_time": "2022-06-12T19:27:00.072Z"
   },
   {
    "duration": 15,
    "start_time": "2022-06-12T19:27:00.876Z"
   },
   {
    "duration": 1638,
    "start_time": "2022-06-12T19:27:05.515Z"
   },
   {
    "duration": 11,
    "start_time": "2022-06-12T19:27:37.346Z"
   },
   {
    "duration": 10,
    "start_time": "2022-06-12T19:27:41.585Z"
   },
   {
    "duration": 3,
    "start_time": "2022-06-12T19:30:37.108Z"
   },
   {
    "duration": 1772,
    "start_time": "2022-06-12T19:30:37.523Z"
   },
   {
    "duration": 3,
    "start_time": "2022-06-12T19:32:55.287Z"
   },
   {
    "duration": 1883,
    "start_time": "2022-06-12T19:32:55.774Z"
   },
   {
    "duration": 1925,
    "start_time": "2022-06-12T19:34:23.818Z"
   },
   {
    "duration": 2004,
    "start_time": "2022-06-12T19:34:25.745Z"
   },
   {
    "duration": 1813,
    "start_time": "2022-06-12T19:34:27.751Z"
   },
   {
    "duration": 28,
    "start_time": "2022-06-12T19:34:29.566Z"
   },
   {
    "duration": 13,
    "start_time": "2022-06-12T19:34:29.595Z"
   },
   {
    "duration": 3,
    "start_time": "2022-06-12T19:34:29.610Z"
   },
   {
    "duration": 10,
    "start_time": "2022-06-12T19:34:29.615Z"
   },
   {
    "duration": 12,
    "start_time": "2022-06-12T19:34:29.626Z"
   },
   {
    "duration": 19,
    "start_time": "2022-06-12T19:34:29.640Z"
   },
   {
    "duration": 264,
    "start_time": "2022-06-12T19:34:29.664Z"
   },
   {
    "duration": 248,
    "start_time": "2022-06-12T19:34:29.930Z"
   },
   {
    "duration": 263,
    "start_time": "2022-06-12T19:34:30.180Z"
   },
   {
    "duration": 246,
    "start_time": "2022-06-12T19:34:30.445Z"
   },
   {
    "duration": 6,
    "start_time": "2022-06-12T19:34:30.693Z"
   },
   {
    "duration": 23,
    "start_time": "2022-06-12T19:34:30.701Z"
   },
   {
    "duration": 30,
    "start_time": "2022-06-12T19:34:30.726Z"
   },
   {
    "duration": 44,
    "start_time": "2022-06-12T19:34:30.758Z"
   },
   {
    "duration": 19,
    "start_time": "2022-06-12T19:34:30.803Z"
   },
   {
    "duration": 44,
    "start_time": "2022-06-12T19:34:30.824Z"
   },
   {
    "duration": 157,
    "start_time": "2022-06-12T19:34:30.870Z"
   },
   {
    "duration": 43,
    "start_time": "2022-06-12T19:34:31.029Z"
   },
   {
    "duration": 28,
    "start_time": "2022-06-12T19:34:31.074Z"
   },
   {
    "duration": 35,
    "start_time": "2022-06-12T19:34:31.104Z"
   },
   {
    "duration": 36,
    "start_time": "2022-06-12T19:34:31.141Z"
   },
   {
    "duration": 38,
    "start_time": "2022-06-12T19:34:31.179Z"
   },
   {
    "duration": 28,
    "start_time": "2022-06-12T19:34:31.219Z"
   },
   {
    "duration": 29,
    "start_time": "2022-06-12T19:34:31.248Z"
   },
   {
    "duration": 43,
    "start_time": "2022-06-12T19:34:31.280Z"
   },
   {
    "duration": 27,
    "start_time": "2022-06-12T19:34:31.325Z"
   },
   {
    "duration": 28,
    "start_time": "2022-06-12T19:34:31.353Z"
   },
   {
    "duration": 26,
    "start_time": "2022-06-12T19:34:31.382Z"
   },
   {
    "duration": 58,
    "start_time": "2022-06-12T19:34:31.410Z"
   },
   {
    "duration": 1701,
    "start_time": "2022-06-12T19:34:31.470Z"
   },
   {
    "duration": 3,
    "start_time": "2022-06-12T19:34:33.172Z"
   },
   {
    "duration": 9,
    "start_time": "2022-06-12T19:34:33.176Z"
   },
   {
    "duration": 12,
    "start_time": "2022-06-12T19:34:33.186Z"
   },
   {
    "duration": 10567,
    "start_time": "2022-06-12T19:34:33.200Z"
   },
   {
    "duration": 5,
    "start_time": "2022-06-12T19:34:43.768Z"
   },
   {
    "duration": 16,
    "start_time": "2022-06-12T19:34:43.775Z"
   },
   {
    "duration": 1783,
    "start_time": "2022-06-12T19:34:43.793Z"
   },
   {
    "duration": 2049,
    "start_time": "2022-06-12T19:34:56.265Z"
   },
   {
    "duration": 11135,
    "start_time": "2022-06-12T19:35:03.047Z"
   },
   {
    "duration": 5,
    "start_time": "2022-06-12T19:35:44.069Z"
   },
   {
    "duration": 3,
    "start_time": "2022-06-12T19:35:46.118Z"
   },
   {
    "duration": 3,
    "start_time": "2022-06-12T19:35:46.492Z"
   },
   {
    "duration": 152,
    "start_time": "2022-06-12T19:35:47.304Z"
   },
   {
    "duration": 5,
    "start_time": "2022-06-12T19:36:47.125Z"
   },
   {
    "duration": 4,
    "start_time": "2022-06-12T19:36:48.361Z"
   },
   {
    "duration": 3,
    "start_time": "2022-06-12T19:36:48.709Z"
   },
   {
    "duration": 1654,
    "start_time": "2022-06-12T19:36:49.603Z"
   },
   {
    "duration": 4,
    "start_time": "2022-06-12T19:36:58.330Z"
   },
   {
    "duration": 5,
    "start_time": "2022-06-12T19:36:59.134Z"
   },
   {
    "duration": 3,
    "start_time": "2022-06-12T19:36:59.451Z"
   },
   {
    "duration": 1754,
    "start_time": "2022-06-12T19:36:59.733Z"
   },
   {
    "duration": 5,
    "start_time": "2022-06-12T19:37:20.004Z"
   },
   {
    "duration": 4,
    "start_time": "2022-06-12T19:37:20.540Z"
   },
   {
    "duration": 10286,
    "start_time": "2022-06-12T19:37:20.881Z"
   },
   {
    "duration": 5,
    "start_time": "2022-06-12T19:37:31.169Z"
   },
   {
    "duration": 32,
    "start_time": "2022-06-12T19:37:31.176Z"
   },
   {
    "duration": 1974,
    "start_time": "2022-06-12T19:37:31.210Z"
   },
   {
    "duration": 1907,
    "start_time": "2022-06-12T19:37:51.513Z"
   },
   {
    "duration": 2011,
    "start_time": "2022-06-12T19:37:53.423Z"
   },
   {
    "duration": 1726,
    "start_time": "2022-06-12T19:37:55.436Z"
   },
   {
    "duration": 28,
    "start_time": "2022-06-12T19:37:57.165Z"
   },
   {
    "duration": 14,
    "start_time": "2022-06-12T19:37:57.194Z"
   },
   {
    "duration": 4,
    "start_time": "2022-06-12T19:37:57.209Z"
   },
   {
    "duration": 11,
    "start_time": "2022-06-12T19:37:57.214Z"
   },
   {
    "duration": 11,
    "start_time": "2022-06-12T19:37:57.227Z"
   },
   {
    "duration": 40,
    "start_time": "2022-06-12T19:37:57.239Z"
   },
   {
    "duration": 278,
    "start_time": "2022-06-12T19:37:57.282Z"
   },
   {
    "duration": 257,
    "start_time": "2022-06-12T19:37:57.564Z"
   },
   {
    "duration": 244,
    "start_time": "2022-06-12T19:37:57.823Z"
   },
   {
    "duration": 218,
    "start_time": "2022-06-12T19:37:58.068Z"
   },
   {
    "duration": 6,
    "start_time": "2022-06-12T19:37:58.288Z"
   },
   {
    "duration": 15,
    "start_time": "2022-06-12T19:37:58.296Z"
   },
   {
    "duration": 9,
    "start_time": "2022-06-12T19:37:58.312Z"
   },
   {
    "duration": 24,
    "start_time": "2022-06-12T19:37:58.323Z"
   },
   {
    "duration": 10,
    "start_time": "2022-06-12T19:37:58.348Z"
   },
   {
    "duration": 26,
    "start_time": "2022-06-12T19:37:58.359Z"
   },
   {
    "duration": 130,
    "start_time": "2022-06-12T19:37:58.387Z"
   },
   {
    "duration": 9,
    "start_time": "2022-06-12T19:37:58.519Z"
   },
   {
    "duration": 5,
    "start_time": "2022-06-12T19:37:58.529Z"
   },
   {
    "duration": 5,
    "start_time": "2022-06-12T19:37:58.535Z"
   },
   {
    "duration": 6,
    "start_time": "2022-06-12T19:37:58.542Z"
   },
   {
    "duration": 26,
    "start_time": "2022-06-12T19:37:58.549Z"
   },
   {
    "duration": 7,
    "start_time": "2022-06-12T19:37:58.576Z"
   },
   {
    "duration": 8,
    "start_time": "2022-06-12T19:37:58.585Z"
   },
   {
    "duration": 7,
    "start_time": "2022-06-12T19:37:58.596Z"
   },
   {
    "duration": 8,
    "start_time": "2022-06-12T19:37:58.604Z"
   },
   {
    "duration": 6,
    "start_time": "2022-06-12T19:37:58.614Z"
   },
   {
    "duration": 8,
    "start_time": "2022-06-12T19:37:58.621Z"
   },
   {
    "duration": 6,
    "start_time": "2022-06-12T19:37:58.630Z"
   },
   {
    "duration": 1677,
    "start_time": "2022-06-12T19:37:58.638Z"
   },
   {
    "duration": 2,
    "start_time": "2022-06-12T19:38:00.316Z"
   },
   {
    "duration": 10,
    "start_time": "2022-06-12T19:38:00.320Z"
   },
   {
    "duration": 14,
    "start_time": "2022-06-12T19:38:00.332Z"
   },
   {
    "duration": 10033,
    "start_time": "2022-06-12T19:38:00.348Z"
   },
   {
    "duration": 4,
    "start_time": "2022-06-12T19:38:10.383Z"
   },
   {
    "duration": 17,
    "start_time": "2022-06-12T19:38:10.389Z"
   },
   {
    "duration": 1910,
    "start_time": "2022-06-12T19:38:10.466Z"
   },
   {
    "duration": 1771,
    "start_time": "2022-06-12T19:38:41.077Z"
   },
   {
    "duration": 4,
    "start_time": "2022-06-12T19:42:55.333Z"
   },
   {
    "duration": 134,
    "start_time": "2022-06-12T19:43:00.378Z"
   },
   {
    "duration": 4,
    "start_time": "2022-06-12T19:43:01.147Z"
   },
   {
    "duration": 3,
    "start_time": "2022-06-12T19:43:06.652Z"
   },
   {
    "duration": 4,
    "start_time": "2022-06-12T19:43:07.473Z"
   },
   {
    "duration": 1475,
    "start_time": "2022-06-12T19:43:08.332Z"
   },
   {
    "duration": 3,
    "start_time": "2022-06-12T19:43:19.972Z"
   },
   {
    "duration": 1382,
    "start_time": "2022-06-12T19:43:20.435Z"
   },
   {
    "duration": 1361,
    "start_time": "2022-06-12T19:43:24.178Z"
   },
   {
    "duration": 1376,
    "start_time": "2022-06-12T19:43:30.328Z"
   },
   {
    "duration": 1470,
    "start_time": "2022-06-12T19:43:33.829Z"
   },
   {
    "duration": 1508,
    "start_time": "2022-06-12T19:43:37.690Z"
   },
   {
    "duration": 2076,
    "start_time": "2022-06-12T19:43:46.850Z"
   },
   {
    "duration": 2084,
    "start_time": "2022-06-12T19:43:58.097Z"
   },
   {
    "duration": 2088,
    "start_time": "2022-06-12T19:44:00.183Z"
   },
   {
    "duration": 1727,
    "start_time": "2022-06-12T19:44:02.273Z"
   },
   {
    "duration": 29,
    "start_time": "2022-06-12T19:44:04.002Z"
   },
   {
    "duration": 14,
    "start_time": "2022-06-12T19:44:04.033Z"
   },
   {
    "duration": 9,
    "start_time": "2022-06-12T19:44:04.049Z"
   },
   {
    "duration": 16,
    "start_time": "2022-06-12T19:44:04.059Z"
   },
   {
    "duration": 13,
    "start_time": "2022-06-12T19:44:04.077Z"
   },
   {
    "duration": 29,
    "start_time": "2022-06-12T19:44:04.092Z"
   },
   {
    "duration": 262,
    "start_time": "2022-06-12T19:44:04.123Z"
   },
   {
    "duration": 238,
    "start_time": "2022-06-12T19:44:04.387Z"
   },
   {
    "duration": 264,
    "start_time": "2022-06-12T19:44:04.626Z"
   },
   {
    "duration": 242,
    "start_time": "2022-06-12T19:44:04.892Z"
   },
   {
    "duration": 7,
    "start_time": "2022-06-12T19:44:05.135Z"
   },
   {
    "duration": 7,
    "start_time": "2022-06-12T19:44:05.143Z"
   },
   {
    "duration": 5,
    "start_time": "2022-06-12T19:44:05.165Z"
   },
   {
    "duration": 10,
    "start_time": "2022-06-12T19:44:05.172Z"
   },
   {
    "duration": 5,
    "start_time": "2022-06-12T19:44:05.184Z"
   },
   {
    "duration": 19,
    "start_time": "2022-06-12T19:44:05.190Z"
   },
   {
    "duration": 140,
    "start_time": "2022-06-12T19:44:05.210Z"
   },
   {
    "duration": 12,
    "start_time": "2022-06-12T19:44:05.352Z"
   },
   {
    "duration": 2,
    "start_time": "2022-06-12T19:44:05.366Z"
   },
   {
    "duration": 6,
    "start_time": "2022-06-12T19:44:05.370Z"
   },
   {
    "duration": 6,
    "start_time": "2022-06-12T19:44:05.377Z"
   },
   {
    "duration": 16,
    "start_time": "2022-06-12T19:44:05.384Z"
   },
   {
    "duration": 16,
    "start_time": "2022-06-12T19:44:05.401Z"
   },
   {
    "duration": 14,
    "start_time": "2022-06-12T19:44:05.418Z"
   },
   {
    "duration": 7,
    "start_time": "2022-06-12T19:44:05.435Z"
   },
   {
    "duration": 5,
    "start_time": "2022-06-12T19:44:05.443Z"
   },
   {
    "duration": 8,
    "start_time": "2022-06-12T19:44:05.449Z"
   },
   {
    "duration": 7,
    "start_time": "2022-06-12T19:44:05.458Z"
   },
   {
    "duration": 5,
    "start_time": "2022-06-12T19:44:05.466Z"
   },
   {
    "duration": 2046,
    "start_time": "2022-06-12T19:44:05.472Z"
   },
   {
    "duration": 3,
    "start_time": "2022-06-12T19:44:07.520Z"
   },
   {
    "duration": 40,
    "start_time": "2022-06-12T19:44:07.525Z"
   },
   {
    "duration": 9,
    "start_time": "2022-06-12T19:44:07.567Z"
   },
   {
    "duration": 9289,
    "start_time": "2022-06-12T19:44:07.578Z"
   },
   {
    "duration": 5,
    "start_time": "2022-06-12T19:44:16.868Z"
   },
   {
    "duration": 21,
    "start_time": "2022-06-12T19:44:16.874Z"
   },
   {
    "duration": 1822,
    "start_time": "2022-06-12T19:44:16.896Z"
   },
   {
    "duration": 2046,
    "start_time": "2022-06-12T19:44:18.720Z"
   },
   {
    "duration": 1533,
    "start_time": "2022-06-12T19:45:11.768Z"
   },
   {
    "duration": 1447,
    "start_time": "2022-06-12T19:45:26.031Z"
   },
   {
    "duration": 4,
    "start_time": "2022-06-12T19:45:39.880Z"
   },
   {
    "duration": 1450,
    "start_time": "2022-06-12T19:45:40.350Z"
   },
   {
    "duration": 1886,
    "start_time": "2022-06-12T19:45:46.935Z"
   },
   {
    "duration": 1978,
    "start_time": "2022-06-12T19:45:48.823Z"
   },
   {
    "duration": 1664,
    "start_time": "2022-06-12T19:45:50.803Z"
   },
   {
    "duration": 28,
    "start_time": "2022-06-12T19:45:52.470Z"
   },
   {
    "duration": 14,
    "start_time": "2022-06-12T19:45:52.500Z"
   },
   {
    "duration": 4,
    "start_time": "2022-06-12T19:45:52.515Z"
   },
   {
    "duration": 11,
    "start_time": "2022-06-12T19:45:52.520Z"
   },
   {
    "duration": 13,
    "start_time": "2022-06-12T19:45:52.532Z"
   },
   {
    "duration": 19,
    "start_time": "2022-06-12T19:45:52.546Z"
   },
   {
    "duration": 260,
    "start_time": "2022-06-12T19:45:52.568Z"
   },
   {
    "duration": 230,
    "start_time": "2022-06-12T19:45:52.830Z"
   },
   {
    "duration": 244,
    "start_time": "2022-06-12T19:45:53.064Z"
   },
   {
    "duration": 231,
    "start_time": "2022-06-12T19:45:53.309Z"
   },
   {
    "duration": 6,
    "start_time": "2022-06-12T19:45:53.541Z"
   },
   {
    "duration": 16,
    "start_time": "2022-06-12T19:45:53.549Z"
   },
   {
    "duration": 5,
    "start_time": "2022-06-12T19:45:53.566Z"
   },
   {
    "duration": 10,
    "start_time": "2022-06-12T19:45:53.572Z"
   },
   {
    "duration": 6,
    "start_time": "2022-06-12T19:45:53.583Z"
   },
   {
    "duration": 22,
    "start_time": "2022-06-12T19:45:53.590Z"
   },
   {
    "duration": 285,
    "start_time": "2022-06-12T19:45:53.614Z"
   },
   {
    "duration": 0,
    "start_time": "2022-06-12T19:45:53.901Z"
   },
   {
    "duration": 0,
    "start_time": "2022-06-12T19:45:53.903Z"
   },
   {
    "duration": 0,
    "start_time": "2022-06-12T19:45:53.904Z"
   },
   {
    "duration": 0,
    "start_time": "2022-06-12T19:45:53.905Z"
   },
   {
    "duration": 0,
    "start_time": "2022-06-12T19:45:53.906Z"
   },
   {
    "duration": 0,
    "start_time": "2022-06-12T19:45:53.907Z"
   },
   {
    "duration": 0,
    "start_time": "2022-06-12T19:45:53.908Z"
   },
   {
    "duration": 0,
    "start_time": "2022-06-12T19:45:53.909Z"
   },
   {
    "duration": 0,
    "start_time": "2022-06-12T19:45:53.910Z"
   },
   {
    "duration": 0,
    "start_time": "2022-06-12T19:45:53.911Z"
   },
   {
    "duration": 0,
    "start_time": "2022-06-12T19:45:53.912Z"
   },
   {
    "duration": 0,
    "start_time": "2022-06-12T19:45:53.913Z"
   },
   {
    "duration": 0,
    "start_time": "2022-06-12T19:45:53.915Z"
   },
   {
    "duration": 0,
    "start_time": "2022-06-12T19:45:53.916Z"
   },
   {
    "duration": 0,
    "start_time": "2022-06-12T19:45:53.917Z"
   },
   {
    "duration": 0,
    "start_time": "2022-06-12T19:45:53.918Z"
   },
   {
    "duration": 0,
    "start_time": "2022-06-12T19:45:53.918Z"
   },
   {
    "duration": 0,
    "start_time": "2022-06-12T19:45:53.919Z"
   },
   {
    "duration": 0,
    "start_time": "2022-06-12T19:45:53.920Z"
   },
   {
    "duration": 0,
    "start_time": "2022-06-12T19:45:53.921Z"
   },
   {
    "duration": 1895,
    "start_time": "2022-06-12T19:46:06.208Z"
   },
   {
    "duration": 2024,
    "start_time": "2022-06-12T19:46:08.105Z"
   },
   {
    "duration": 1642,
    "start_time": "2022-06-12T19:46:10.131Z"
   },
   {
    "duration": 29,
    "start_time": "2022-06-12T19:46:11.774Z"
   },
   {
    "duration": 13,
    "start_time": "2022-06-12T19:46:11.805Z"
   },
   {
    "duration": 3,
    "start_time": "2022-06-12T19:46:11.820Z"
   },
   {
    "duration": 12,
    "start_time": "2022-06-12T19:46:11.825Z"
   },
   {
    "duration": 15,
    "start_time": "2022-06-12T19:46:11.838Z"
   },
   {
    "duration": 23,
    "start_time": "2022-06-12T19:46:11.854Z"
   },
   {
    "duration": 269,
    "start_time": "2022-06-12T19:46:11.878Z"
   },
   {
    "duration": 231,
    "start_time": "2022-06-12T19:46:12.148Z"
   },
   {
    "duration": 253,
    "start_time": "2022-06-12T19:46:12.381Z"
   },
   {
    "duration": 228,
    "start_time": "2022-06-12T19:46:12.636Z"
   },
   {
    "duration": 5,
    "start_time": "2022-06-12T19:46:12.868Z"
   },
   {
    "duration": 8,
    "start_time": "2022-06-12T19:46:12.875Z"
   },
   {
    "duration": 7,
    "start_time": "2022-06-12T19:46:12.884Z"
   },
   {
    "duration": 7,
    "start_time": "2022-06-12T19:46:12.893Z"
   },
   {
    "duration": 5,
    "start_time": "2022-06-12T19:46:12.901Z"
   },
   {
    "duration": 137,
    "start_time": "2022-06-12T19:46:12.907Z"
   },
   {
    "duration": 22,
    "start_time": "2022-06-12T19:46:13.045Z"
   },
   {
    "duration": 10,
    "start_time": "2022-06-12T19:46:13.069Z"
   },
   {
    "duration": 4,
    "start_time": "2022-06-12T19:46:13.080Z"
   },
   {
    "duration": 5,
    "start_time": "2022-06-12T19:46:13.086Z"
   },
   {
    "duration": 6,
    "start_time": "2022-06-12T19:46:13.092Z"
   },
   {
    "duration": 11,
    "start_time": "2022-06-12T19:46:13.099Z"
   },
   {
    "duration": 4,
    "start_time": "2022-06-12T19:46:13.111Z"
   },
   {
    "duration": 7,
    "start_time": "2022-06-12T19:46:13.116Z"
   },
   {
    "duration": 5,
    "start_time": "2022-06-12T19:46:13.124Z"
   },
   {
    "duration": 4,
    "start_time": "2022-06-12T19:46:13.130Z"
   },
   {
    "duration": 4,
    "start_time": "2022-06-12T19:46:13.164Z"
   },
   {
    "duration": 5,
    "start_time": "2022-06-12T19:46:13.170Z"
   },
   {
    "duration": 5,
    "start_time": "2022-06-12T19:46:13.177Z"
   },
   {
    "duration": 1466,
    "start_time": "2022-06-12T19:46:13.183Z"
   },
   {
    "duration": 1966,
    "start_time": "2022-06-12T19:46:27.511Z"
   },
   {
    "duration": 2601,
    "start_time": "2022-06-12T19:46:35.410Z"
   },
   {
    "duration": 4,
    "start_time": "2022-06-12T19:46:51.942Z"
   },
   {
    "duration": 937,
    "start_time": "2022-06-12T19:46:52.395Z"
   },
   {
    "duration": 1868,
    "start_time": "2022-06-12T19:47:05.097Z"
   },
   {
    "duration": 2016,
    "start_time": "2022-06-12T19:47:06.968Z"
   },
   {
    "duration": 1681,
    "start_time": "2022-06-12T19:47:08.986Z"
   },
   {
    "duration": 28,
    "start_time": "2022-06-12T19:47:10.670Z"
   },
   {
    "duration": 13,
    "start_time": "2022-06-12T19:47:10.700Z"
   },
   {
    "duration": 3,
    "start_time": "2022-06-12T19:47:10.715Z"
   },
   {
    "duration": 11,
    "start_time": "2022-06-12T19:47:10.720Z"
   },
   {
    "duration": 12,
    "start_time": "2022-06-12T19:47:10.733Z"
   },
   {
    "duration": 22,
    "start_time": "2022-06-12T19:47:10.746Z"
   },
   {
    "duration": 253,
    "start_time": "2022-06-12T19:47:10.770Z"
   },
   {
    "duration": 230,
    "start_time": "2022-06-12T19:47:11.025Z"
   },
   {
    "duration": 239,
    "start_time": "2022-06-12T19:47:11.257Z"
   },
   {
    "duration": 243,
    "start_time": "2022-06-12T19:47:11.498Z"
   },
   {
    "duration": 6,
    "start_time": "2022-06-12T19:47:11.743Z"
   },
   {
    "duration": 18,
    "start_time": "2022-06-12T19:47:11.750Z"
   },
   {
    "duration": 7,
    "start_time": "2022-06-12T19:47:11.769Z"
   },
   {
    "duration": 6,
    "start_time": "2022-06-12T19:47:11.778Z"
   },
   {
    "duration": 4,
    "start_time": "2022-06-12T19:47:11.786Z"
   },
   {
    "duration": 20,
    "start_time": "2022-06-12T19:47:11.792Z"
   },
   {
    "duration": 144,
    "start_time": "2022-06-12T19:47:11.813Z"
   },
   {
    "duration": 13,
    "start_time": "2022-06-12T19:47:11.959Z"
   },
   {
    "duration": 5,
    "start_time": "2022-06-12T19:47:11.974Z"
   },
   {
    "duration": 10,
    "start_time": "2022-06-12T19:47:11.980Z"
   },
   {
    "duration": 7,
    "start_time": "2022-06-12T19:47:11.991Z"
   },
   {
    "duration": 13,
    "start_time": "2022-06-12T19:47:11.999Z"
   },
   {
    "duration": 5,
    "start_time": "2022-06-12T19:47:12.013Z"
   },
   {
    "duration": 6,
    "start_time": "2022-06-12T19:47:12.019Z"
   },
   {
    "duration": 4,
    "start_time": "2022-06-12T19:47:12.027Z"
   },
   {
    "duration": 4,
    "start_time": "2022-06-12T19:47:12.032Z"
   },
   {
    "duration": 5,
    "start_time": "2022-06-12T19:47:12.037Z"
   },
   {
    "duration": 22,
    "start_time": "2022-06-12T19:47:12.043Z"
   },
   {
    "duration": 4,
    "start_time": "2022-06-12T19:47:12.067Z"
   },
   {
    "duration": 1003,
    "start_time": "2022-06-12T19:47:12.073Z"
   },
   {
    "duration": 4,
    "start_time": "2022-06-12T19:47:29.949Z"
   },
   {
    "duration": 1053,
    "start_time": "2022-06-12T19:47:30.479Z"
   },
   {
    "duration": 4,
    "start_time": "2022-06-12T19:47:36.039Z"
   },
   {
    "duration": 968,
    "start_time": "2022-06-12T19:47:36.424Z"
   },
   {
    "duration": 3,
    "start_time": "2022-06-12T19:47:43.160Z"
   },
   {
    "duration": 1021,
    "start_time": "2022-06-12T19:47:43.614Z"
   },
   {
    "duration": 684,
    "start_time": "2022-06-12T19:47:54.482Z"
   },
   {
    "duration": 4,
    "start_time": "2022-06-12T19:48:02.013Z"
   },
   {
    "duration": 689,
    "start_time": "2022-06-12T19:48:02.305Z"
   },
   {
    "duration": 3,
    "start_time": "2022-06-12T19:48:12.269Z"
   },
   {
    "duration": 687,
    "start_time": "2022-06-12T19:48:12.508Z"
   },
   {
    "duration": 3,
    "start_time": "2022-06-12T19:48:18.054Z"
   },
   {
    "duration": 726,
    "start_time": "2022-06-12T19:48:18.677Z"
   },
   {
    "duration": 3,
    "start_time": "2022-06-12T19:48:24.632Z"
   },
   {
    "duration": 676,
    "start_time": "2022-06-12T19:48:24.845Z"
   },
   {
    "duration": 3,
    "start_time": "2022-06-12T19:48:32.960Z"
   },
   {
    "duration": 753,
    "start_time": "2022-06-12T19:48:33.404Z"
   },
   {
    "duration": 1933,
    "start_time": "2022-06-12T19:48:45.838Z"
   },
   {
    "duration": 2035,
    "start_time": "2022-06-12T19:48:47.774Z"
   },
   {
    "duration": 1688,
    "start_time": "2022-06-12T19:48:49.811Z"
   },
   {
    "duration": 31,
    "start_time": "2022-06-12T19:48:51.501Z"
   },
   {
    "duration": 15,
    "start_time": "2022-06-12T19:48:51.533Z"
   },
   {
    "duration": 4,
    "start_time": "2022-06-12T19:48:51.550Z"
   },
   {
    "duration": 14,
    "start_time": "2022-06-12T19:48:51.555Z"
   },
   {
    "duration": 16,
    "start_time": "2022-06-12T19:48:51.570Z"
   },
   {
    "duration": 21,
    "start_time": "2022-06-12T19:48:51.587Z"
   },
   {
    "duration": 271,
    "start_time": "2022-06-12T19:48:51.611Z"
   },
   {
    "duration": 250,
    "start_time": "2022-06-12T19:48:51.884Z"
   },
   {
    "duration": 251,
    "start_time": "2022-06-12T19:48:52.136Z"
   },
   {
    "duration": 243,
    "start_time": "2022-06-12T19:48:52.389Z"
   },
   {
    "duration": 8,
    "start_time": "2022-06-12T19:48:52.634Z"
   },
   {
    "duration": 8,
    "start_time": "2022-06-12T19:48:52.643Z"
   },
   {
    "duration": 4,
    "start_time": "2022-06-12T19:48:52.665Z"
   },
   {
    "duration": 7,
    "start_time": "2022-06-12T19:48:52.671Z"
   },
   {
    "duration": 5,
    "start_time": "2022-06-12T19:48:52.679Z"
   },
   {
    "duration": 19,
    "start_time": "2022-06-12T19:48:52.685Z"
   },
   {
    "duration": 148,
    "start_time": "2022-06-12T19:48:52.706Z"
   },
   {
    "duration": 14,
    "start_time": "2022-06-12T19:48:52.856Z"
   },
   {
    "duration": 6,
    "start_time": "2022-06-12T19:48:52.872Z"
   },
   {
    "duration": 7,
    "start_time": "2022-06-12T19:48:52.879Z"
   },
   {
    "duration": 5,
    "start_time": "2022-06-12T19:48:52.887Z"
   },
   {
    "duration": 11,
    "start_time": "2022-06-12T19:48:52.894Z"
   },
   {
    "duration": 5,
    "start_time": "2022-06-12T19:48:52.907Z"
   },
   {
    "duration": 7,
    "start_time": "2022-06-12T19:48:52.914Z"
   },
   {
    "duration": 4,
    "start_time": "2022-06-12T19:48:52.923Z"
   },
   {
    "duration": 4,
    "start_time": "2022-06-12T19:48:52.929Z"
   },
   {
    "duration": 6,
    "start_time": "2022-06-12T19:48:52.934Z"
   },
   {
    "duration": 25,
    "start_time": "2022-06-12T19:48:52.941Z"
   },
   {
    "duration": 6,
    "start_time": "2022-06-12T19:48:52.968Z"
   },
   {
    "duration": 753,
    "start_time": "2022-06-12T19:48:52.975Z"
   },
   {
    "duration": 678,
    "start_time": "2022-06-12T19:49:10.890Z"
   },
   {
    "duration": 3,
    "start_time": "2022-06-12T19:49:35.434Z"
   },
   {
    "duration": 4,
    "start_time": "2022-06-12T19:49:53.515Z"
   },
   {
    "duration": 4,
    "start_time": "2022-06-12T19:49:54.267Z"
   },
   {
    "duration": 4812,
    "start_time": "2022-06-12T19:49:55.156Z"
   },
   {
    "duration": 5,
    "start_time": "2022-06-12T19:50:02.321Z"
   },
   {
    "duration": 4,
    "start_time": "2022-06-12T19:50:03.577Z"
   },
   {
    "duration": 877,
    "start_time": "2022-06-12T19:50:04.331Z"
   },
   {
    "duration": 911,
    "start_time": "2022-06-12T19:50:34.866Z"
   },
   {
    "duration": 4714,
    "start_time": "2022-06-12T19:50:47.451Z"
   },
   {
    "duration": 5,
    "start_time": "2022-06-12T19:51:04.193Z"
   },
   {
    "duration": 4,
    "start_time": "2022-06-12T19:51:04.623Z"
   },
   {
    "duration": 837,
    "start_time": "2022-06-12T19:51:05.095Z"
   },
   {
    "duration": 5,
    "start_time": "2022-06-12T19:51:25.560Z"
   },
   {
    "duration": 3,
    "start_time": "2022-06-12T19:51:26.031Z"
   },
   {
    "duration": 855,
    "start_time": "2022-06-12T19:51:26.510Z"
   },
   {
    "duration": 5,
    "start_time": "2022-06-12T19:51:35.598Z"
   },
   {
    "duration": 3,
    "start_time": "2022-06-12T19:51:36.233Z"
   },
   {
    "duration": 863,
    "start_time": "2022-06-12T19:51:36.815Z"
   },
   {
    "duration": 1884,
    "start_time": "2022-06-12T19:51:43.808Z"
   },
   {
    "duration": 1971,
    "start_time": "2022-06-12T19:51:45.694Z"
   },
   {
    "duration": 1707,
    "start_time": "2022-06-12T19:51:47.667Z"
   },
   {
    "duration": 28,
    "start_time": "2022-06-12T19:51:49.376Z"
   },
   {
    "duration": 13,
    "start_time": "2022-06-12T19:51:49.406Z"
   },
   {
    "duration": 19,
    "start_time": "2022-06-12T19:51:49.420Z"
   },
   {
    "duration": 16,
    "start_time": "2022-06-12T19:51:49.441Z"
   },
   {
    "duration": 25,
    "start_time": "2022-06-12T19:51:49.458Z"
   },
   {
    "duration": 34,
    "start_time": "2022-06-12T19:51:49.484Z"
   },
   {
    "duration": 235,
    "start_time": "2022-06-12T19:51:49.520Z"
   },
   {
    "duration": 220,
    "start_time": "2022-06-12T19:51:49.756Z"
   },
   {
    "duration": 275,
    "start_time": "2022-06-12T19:51:49.977Z"
   },
   {
    "duration": 226,
    "start_time": "2022-06-12T19:51:50.253Z"
   },
   {
    "duration": 6,
    "start_time": "2022-06-12T19:51:50.481Z"
   },
   {
    "duration": 7,
    "start_time": "2022-06-12T19:51:50.489Z"
   },
   {
    "duration": 7,
    "start_time": "2022-06-12T19:51:50.497Z"
   },
   {
    "duration": 9,
    "start_time": "2022-06-12T19:51:50.505Z"
   },
   {
    "duration": 12,
    "start_time": "2022-06-12T19:51:50.515Z"
   },
   {
    "duration": 20,
    "start_time": "2022-06-12T19:51:50.529Z"
   },
   {
    "duration": 133,
    "start_time": "2022-06-12T19:51:50.550Z"
   },
   {
    "duration": 7,
    "start_time": "2022-06-12T19:51:50.685Z"
   },
   {
    "duration": 4,
    "start_time": "2022-06-12T19:51:50.693Z"
   },
   {
    "duration": 7,
    "start_time": "2022-06-12T19:51:50.698Z"
   },
   {
    "duration": 4,
    "start_time": "2022-06-12T19:51:50.706Z"
   },
   {
    "duration": 11,
    "start_time": "2022-06-12T19:51:50.712Z"
   },
   {
    "duration": 3,
    "start_time": "2022-06-12T19:51:50.724Z"
   },
   {
    "duration": 5,
    "start_time": "2022-06-12T19:51:50.729Z"
   },
   {
    "duration": 4,
    "start_time": "2022-06-12T19:51:50.764Z"
   },
   {
    "duration": 4,
    "start_time": "2022-06-12T19:51:50.769Z"
   },
   {
    "duration": 12,
    "start_time": "2022-06-12T19:51:50.774Z"
   },
   {
    "duration": 7,
    "start_time": "2022-06-12T19:51:50.788Z"
   },
   {
    "duration": 4,
    "start_time": "2022-06-12T19:51:50.796Z"
   },
   {
    "duration": 683,
    "start_time": "2022-06-12T19:51:50.802Z"
   },
   {
    "duration": 2,
    "start_time": "2022-06-12T19:51:51.487Z"
   },
   {
    "duration": 29,
    "start_time": "2022-06-12T19:51:51.490Z"
   },
   {
    "duration": 8,
    "start_time": "2022-06-12T19:51:51.520Z"
   },
   {
    "duration": 4656,
    "start_time": "2022-06-12T19:51:51.529Z"
   },
   {
    "duration": 79,
    "start_time": "2022-06-12T19:51:56.187Z"
   },
   {
    "duration": 10,
    "start_time": "2022-06-12T19:51:56.268Z"
   },
   {
    "duration": 843,
    "start_time": "2022-06-12T19:51:56.280Z"
   },
   {
    "duration": 241,
    "start_time": "2022-06-12T19:54:11.689Z"
   },
   {
    "duration": 13,
    "start_time": "2022-06-12T19:54:51.585Z"
   },
   {
    "duration": 12,
    "start_time": "2022-06-12T19:56:15.591Z"
   },
   {
    "duration": 321,
    "start_time": "2022-06-12T19:56:31.934Z"
   },
   {
    "duration": 690,
    "start_time": "2022-06-12T19:57:39.931Z"
   },
   {
    "duration": 330,
    "start_time": "2022-06-12T19:58:42.304Z"
   },
   {
    "duration": 30,
    "start_time": "2022-06-12T20:00:22.965Z"
   },
   {
    "duration": 39,
    "start_time": "2022-06-12T20:00:36.063Z"
   },
   {
    "duration": 18,
    "start_time": "2022-06-12T20:00:58.718Z"
   },
   {
    "duration": 36,
    "start_time": "2022-06-12T20:01:04.012Z"
   },
   {
    "duration": 18,
    "start_time": "2022-06-12T20:01:25.127Z"
   },
   {
    "duration": 6895,
    "start_time": "2022-06-12T20:01:32.924Z"
   },
   {
    "duration": 6734,
    "start_time": "2022-06-12T20:02:02.947Z"
   },
   {
    "duration": 6864,
    "start_time": "2022-06-12T20:02:31.242Z"
   },
   {
    "duration": 11,
    "start_time": "2022-06-12T20:04:24.106Z"
   },
   {
    "duration": 5,
    "start_time": "2022-06-12T20:04:32.292Z"
   },
   {
    "duration": 4,
    "start_time": "2022-06-12T20:05:19.323Z"
   },
   {
    "duration": 9,
    "start_time": "2022-06-12T20:05:58.202Z"
   },
   {
    "duration": 4,
    "start_time": "2022-06-12T20:06:25.146Z"
   },
   {
    "duration": 3,
    "start_time": "2022-06-12T20:06:43.099Z"
   },
   {
    "duration": 1381,
    "start_time": "2022-06-12T20:06:43.600Z"
   },
   {
    "duration": 4,
    "start_time": "2022-06-12T20:06:59.195Z"
   },
   {
    "duration": 1915,
    "start_time": "2022-06-12T20:07:08.803Z"
   },
   {
    "duration": 1954,
    "start_time": "2022-06-12T20:07:10.720Z"
   },
   {
    "duration": 1705,
    "start_time": "2022-06-12T20:07:12.676Z"
   },
   {
    "duration": 29,
    "start_time": "2022-06-12T20:07:14.383Z"
   },
   {
    "duration": 14,
    "start_time": "2022-06-12T20:07:14.414Z"
   },
   {
    "duration": 3,
    "start_time": "2022-06-12T20:07:14.430Z"
   },
   {
    "duration": 13,
    "start_time": "2022-06-12T20:07:14.434Z"
   },
   {
    "duration": 11,
    "start_time": "2022-06-12T20:07:14.449Z"
   },
   {
    "duration": 23,
    "start_time": "2022-06-12T20:07:14.461Z"
   },
   {
    "duration": 273,
    "start_time": "2022-06-12T20:07:14.486Z"
   },
   {
    "duration": 221,
    "start_time": "2022-06-12T20:07:14.761Z"
   },
   {
    "duration": 256,
    "start_time": "2022-06-12T20:07:14.984Z"
   },
   {
    "duration": 227,
    "start_time": "2022-06-12T20:07:15.242Z"
   },
   {
    "duration": 7,
    "start_time": "2022-06-12T20:07:15.472Z"
   },
   {
    "duration": 7,
    "start_time": "2022-06-12T20:07:15.481Z"
   },
   {
    "duration": 6,
    "start_time": "2022-06-12T20:07:15.490Z"
   },
   {
    "duration": 14,
    "start_time": "2022-06-12T20:07:15.497Z"
   },
   {
    "duration": 6,
    "start_time": "2022-06-12T20:07:15.512Z"
   },
   {
    "duration": 151,
    "start_time": "2022-06-12T20:07:15.520Z"
   },
   {
    "duration": 16,
    "start_time": "2022-06-12T20:07:15.672Z"
   },
   {
    "duration": 7,
    "start_time": "2022-06-12T20:07:15.690Z"
   },
   {
    "duration": 4,
    "start_time": "2022-06-12T20:07:15.698Z"
   },
   {
    "duration": 5,
    "start_time": "2022-06-12T20:07:15.703Z"
   },
   {
    "duration": 6,
    "start_time": "2022-06-12T20:07:15.709Z"
   },
   {
    "duration": 13,
    "start_time": "2022-06-12T20:07:15.717Z"
   },
   {
    "duration": 5,
    "start_time": "2022-06-12T20:07:15.731Z"
   },
   {
    "duration": 27,
    "start_time": "2022-06-12T20:07:15.738Z"
   },
   {
    "duration": 4,
    "start_time": "2022-06-12T20:07:15.766Z"
   },
   {
    "duration": 5,
    "start_time": "2022-06-12T20:07:15.771Z"
   },
   {
    "duration": 6,
    "start_time": "2022-06-12T20:07:15.777Z"
   },
   {
    "duration": 6,
    "start_time": "2022-06-12T20:07:15.784Z"
   },
   {
    "duration": 5,
    "start_time": "2022-06-12T20:07:15.792Z"
   },
   {
    "duration": 1387,
    "start_time": "2022-06-12T20:07:15.798Z"
   },
   {
    "duration": 4,
    "start_time": "2022-06-12T20:07:25.010Z"
   },
   {
    "duration": 1314,
    "start_time": "2022-06-12T20:07:35.452Z"
   },
   {
    "duration": 1380,
    "start_time": "2022-06-12T20:07:44.308Z"
   },
   {
    "duration": 1927,
    "start_time": "2022-06-12T20:08:12.118Z"
   },
   {
    "duration": 1955,
    "start_time": "2022-06-12T20:08:14.048Z"
   },
   {
    "duration": 1675,
    "start_time": "2022-06-12T20:08:16.005Z"
   },
   {
    "duration": 28,
    "start_time": "2022-06-12T20:08:17.682Z"
   },
   {
    "duration": 15,
    "start_time": "2022-06-12T20:08:17.712Z"
   },
   {
    "duration": 4,
    "start_time": "2022-06-12T20:08:17.728Z"
   },
   {
    "duration": 14,
    "start_time": "2022-06-12T20:08:17.734Z"
   },
   {
    "duration": 16,
    "start_time": "2022-06-12T20:08:17.749Z"
   },
   {
    "duration": 20,
    "start_time": "2022-06-12T20:08:17.766Z"
   },
   {
    "duration": 281,
    "start_time": "2022-06-12T20:08:17.788Z"
   },
   {
    "duration": 243,
    "start_time": "2022-06-12T20:08:18.071Z"
   },
   {
    "duration": 246,
    "start_time": "2022-06-12T20:08:18.315Z"
   },
   {
    "duration": 242,
    "start_time": "2022-06-12T20:08:18.564Z"
   },
   {
    "duration": 7,
    "start_time": "2022-06-12T20:08:18.808Z"
   },
   {
    "duration": 10,
    "start_time": "2022-06-12T20:08:18.816Z"
   },
   {
    "duration": 9,
    "start_time": "2022-06-12T20:08:18.827Z"
   },
   {
    "duration": 10,
    "start_time": "2022-06-12T20:08:18.838Z"
   },
   {
    "duration": 15,
    "start_time": "2022-06-12T20:08:18.850Z"
   },
   {
    "duration": 29,
    "start_time": "2022-06-12T20:08:18.867Z"
   },
   {
    "duration": 160,
    "start_time": "2022-06-12T20:08:18.898Z"
   },
   {
    "duration": 10,
    "start_time": "2022-06-12T20:08:19.064Z"
   },
   {
    "duration": 11,
    "start_time": "2022-06-12T20:08:19.075Z"
   },
   {
    "duration": 7,
    "start_time": "2022-06-12T20:08:19.088Z"
   },
   {
    "duration": 8,
    "start_time": "2022-06-12T20:08:19.097Z"
   },
   {
    "duration": 40,
    "start_time": "2022-06-12T20:08:19.107Z"
   },
   {
    "duration": 15,
    "start_time": "2022-06-12T20:08:19.149Z"
   },
   {
    "duration": 8,
    "start_time": "2022-06-12T20:08:19.165Z"
   },
   {
    "duration": 4,
    "start_time": "2022-06-12T20:08:19.176Z"
   },
   {
    "duration": 4,
    "start_time": "2022-06-12T20:08:19.181Z"
   },
   {
    "duration": 5,
    "start_time": "2022-06-12T20:08:19.187Z"
   },
   {
    "duration": 5,
    "start_time": "2022-06-12T20:08:19.194Z"
   },
   {
    "duration": 6,
    "start_time": "2022-06-12T20:08:19.201Z"
   },
   {
    "duration": 1476,
    "start_time": "2022-06-12T20:08:19.209Z"
   },
   {
    "duration": 1543,
    "start_time": "2022-06-12T20:08:32.389Z"
   },
   {
    "duration": 3,
    "start_time": "2022-06-12T20:08:44.332Z"
   },
   {
    "duration": 2287,
    "start_time": "2022-06-12T20:08:48.441Z"
   },
   {
    "duration": 4,
    "start_time": "2022-06-12T20:08:59.963Z"
   },
   {
    "duration": 2287,
    "start_time": "2022-06-12T20:09:00.388Z"
   },
   {
    "duration": 5,
    "start_time": "2022-06-12T20:09:06.650Z"
   },
   {
    "duration": 3,
    "start_time": "2022-06-12T20:12:09.417Z"
   },
   {
    "duration": 2152,
    "start_time": "2022-06-12T20:12:09.975Z"
   },
   {
    "duration": 3,
    "start_time": "2022-06-12T20:12:12.129Z"
   },
   {
    "duration": 4,
    "start_time": "2022-06-12T20:12:17.437Z"
   },
   {
    "duration": 2272,
    "start_time": "2022-06-12T20:12:17.911Z"
   },
   {
    "duration": 5,
    "start_time": "2022-06-12T20:12:20.185Z"
   },
   {
    "duration": 3,
    "start_time": "2022-06-12T20:12:22.463Z"
   },
   {
    "duration": 2118,
    "start_time": "2022-06-12T20:12:24.886Z"
   },
   {
    "duration": 3,
    "start_time": "2022-06-12T20:12:40.302Z"
   },
   {
    "duration": 2108,
    "start_time": "2022-06-12T20:12:40.582Z"
   },
   {
    "duration": 4,
    "start_time": "2022-06-12T20:12:50.163Z"
   },
   {
    "duration": 2197,
    "start_time": "2022-06-12T20:12:50.406Z"
   },
   {
    "duration": 1971,
    "start_time": "2022-06-12T20:13:07.419Z"
   },
   {
    "duration": 1934,
    "start_time": "2022-06-12T20:13:09.392Z"
   },
   {
    "duration": 1635,
    "start_time": "2022-06-12T20:13:11.328Z"
   },
   {
    "duration": 29,
    "start_time": "2022-06-12T20:13:12.964Z"
   },
   {
    "duration": 14,
    "start_time": "2022-06-12T20:13:12.995Z"
   },
   {
    "duration": 4,
    "start_time": "2022-06-12T20:13:13.011Z"
   },
   {
    "duration": 18,
    "start_time": "2022-06-12T20:13:13.017Z"
   },
   {
    "duration": 26,
    "start_time": "2022-06-12T20:13:13.036Z"
   },
   {
    "duration": 20,
    "start_time": "2022-06-12T20:13:13.064Z"
   },
   {
    "duration": 278,
    "start_time": "2022-06-12T20:13:13.086Z"
   },
   {
    "duration": 248,
    "start_time": "2022-06-12T20:13:13.366Z"
   },
   {
    "duration": 267,
    "start_time": "2022-06-12T20:13:13.615Z"
   },
   {
    "duration": 227,
    "start_time": "2022-06-12T20:13:13.884Z"
   },
   {
    "duration": 6,
    "start_time": "2022-06-12T20:13:14.114Z"
   },
   {
    "duration": 9,
    "start_time": "2022-06-12T20:13:14.121Z"
   },
   {
    "duration": 6,
    "start_time": "2022-06-12T20:13:14.131Z"
   },
   {
    "duration": 8,
    "start_time": "2022-06-12T20:13:14.139Z"
   },
   {
    "duration": 3,
    "start_time": "2022-06-12T20:13:14.164Z"
   },
   {
    "duration": 129,
    "start_time": "2022-06-12T20:13:14.168Z"
   },
   {
    "duration": 16,
    "start_time": "2022-06-12T20:13:14.299Z"
   },
   {
    "duration": 6,
    "start_time": "2022-06-12T20:13:14.317Z"
   },
   {
    "duration": 3,
    "start_time": "2022-06-12T20:13:14.325Z"
   },
   {
    "duration": 7,
    "start_time": "2022-06-12T20:13:14.330Z"
   },
   {
    "duration": 7,
    "start_time": "2022-06-12T20:13:14.338Z"
   },
   {
    "duration": 10,
    "start_time": "2022-06-12T20:13:14.365Z"
   },
   {
    "duration": 3,
    "start_time": "2022-06-12T20:13:14.377Z"
   },
   {
    "duration": 8,
    "start_time": "2022-06-12T20:13:14.381Z"
   },
   {
    "duration": 9,
    "start_time": "2022-06-12T20:13:14.390Z"
   },
   {
    "duration": 4,
    "start_time": "2022-06-12T20:13:14.401Z"
   },
   {
    "duration": 5,
    "start_time": "2022-06-12T20:13:14.406Z"
   },
   {
    "duration": 6,
    "start_time": "2022-06-12T20:13:14.412Z"
   },
   {
    "duration": 6,
    "start_time": "2022-06-12T20:13:14.419Z"
   },
   {
    "duration": 2222,
    "start_time": "2022-06-12T20:13:14.426Z"
   },
   {
    "duration": 4,
    "start_time": "2022-06-12T20:13:29.652Z"
   },
   {
    "duration": 2212,
    "start_time": "2022-06-12T20:13:30.103Z"
   },
   {
    "duration": 2029,
    "start_time": "2022-06-12T20:13:48.789Z"
   },
   {
    "duration": 1979,
    "start_time": "2022-06-12T20:13:50.820Z"
   },
   {
    "duration": 1769,
    "start_time": "2022-06-12T20:13:52.801Z"
   },
   {
    "duration": 29,
    "start_time": "2022-06-12T20:13:54.572Z"
   },
   {
    "duration": 14,
    "start_time": "2022-06-12T20:13:54.603Z"
   },
   {
    "duration": 5,
    "start_time": "2022-06-12T20:13:54.618Z"
   },
   {
    "duration": 17,
    "start_time": "2022-06-12T20:13:54.624Z"
   },
   {
    "duration": 12,
    "start_time": "2022-06-12T20:13:54.643Z"
   },
   {
    "duration": 35,
    "start_time": "2022-06-12T20:13:54.657Z"
   },
   {
    "duration": 257,
    "start_time": "2022-06-12T20:13:54.694Z"
   },
   {
    "duration": 246,
    "start_time": "2022-06-12T20:13:54.953Z"
   },
   {
    "duration": 251,
    "start_time": "2022-06-12T20:13:55.201Z"
   },
   {
    "duration": 239,
    "start_time": "2022-06-12T20:13:55.454Z"
   },
   {
    "duration": 6,
    "start_time": "2022-06-12T20:13:55.696Z"
   },
   {
    "duration": 18,
    "start_time": "2022-06-12T20:13:55.703Z"
   },
   {
    "duration": 18,
    "start_time": "2022-06-12T20:13:55.723Z"
   },
   {
    "duration": 15,
    "start_time": "2022-06-12T20:13:55.743Z"
   },
   {
    "duration": 8,
    "start_time": "2022-06-12T20:13:55.760Z"
   },
   {
    "duration": 138,
    "start_time": "2022-06-12T20:13:55.770Z"
   },
   {
    "duration": 16,
    "start_time": "2022-06-12T20:13:55.910Z"
   },
   {
    "duration": 13,
    "start_time": "2022-06-12T20:13:55.928Z"
   },
   {
    "duration": 14,
    "start_time": "2022-06-12T20:13:55.942Z"
   },
   {
    "duration": 12,
    "start_time": "2022-06-12T20:13:55.957Z"
   },
   {
    "duration": 7,
    "start_time": "2022-06-12T20:13:55.970Z"
   },
   {
    "duration": 16,
    "start_time": "2022-06-12T20:13:55.978Z"
   },
   {
    "duration": 8,
    "start_time": "2022-06-12T20:13:55.995Z"
   },
   {
    "duration": 10,
    "start_time": "2022-06-12T20:13:56.005Z"
   },
   {
    "duration": 17,
    "start_time": "2022-06-12T20:13:56.016Z"
   },
   {
    "duration": 8,
    "start_time": "2022-06-12T20:13:56.035Z"
   },
   {
    "duration": 13,
    "start_time": "2022-06-12T20:13:56.044Z"
   },
   {
    "duration": 10,
    "start_time": "2022-06-12T20:13:56.058Z"
   },
   {
    "duration": 19,
    "start_time": "2022-06-12T20:13:56.069Z"
   },
   {
    "duration": 2260,
    "start_time": "2022-06-12T20:13:56.090Z"
   },
   {
    "duration": 3,
    "start_time": "2022-06-12T20:14:19.159Z"
   },
   {
    "duration": 4,
    "start_time": "2022-06-12T20:14:19.605Z"
   },
   {
    "duration": 3,
    "start_time": "2022-06-12T20:14:20.996Z"
   },
   {
    "duration": 3,
    "start_time": "2022-06-12T20:14:21.358Z"
   },
   {
    "duration": 2202,
    "start_time": "2022-06-12T20:14:21.911Z"
   },
   {
    "duration": 1914,
    "start_time": "2022-06-12T20:14:33.858Z"
   },
   {
    "duration": 1967,
    "start_time": "2022-06-12T20:14:35.774Z"
   },
   {
    "duration": 1722,
    "start_time": "2022-06-12T20:14:37.743Z"
   },
   {
    "duration": 30,
    "start_time": "2022-06-12T20:14:39.466Z"
   },
   {
    "duration": 14,
    "start_time": "2022-06-12T20:14:39.498Z"
   },
   {
    "duration": 4,
    "start_time": "2022-06-12T20:14:39.514Z"
   },
   {
    "duration": 13,
    "start_time": "2022-06-12T20:14:39.519Z"
   },
   {
    "duration": 13,
    "start_time": "2022-06-12T20:14:39.534Z"
   },
   {
    "duration": 25,
    "start_time": "2022-06-12T20:14:39.548Z"
   },
   {
    "duration": 243,
    "start_time": "2022-06-12T20:14:39.575Z"
   },
   {
    "duration": 226,
    "start_time": "2022-06-12T20:14:39.820Z"
   },
   {
    "duration": 248,
    "start_time": "2022-06-12T20:14:40.047Z"
   },
   {
    "duration": 225,
    "start_time": "2022-06-12T20:14:40.297Z"
   },
   {
    "duration": 7,
    "start_time": "2022-06-12T20:14:40.525Z"
   },
   {
    "duration": 29,
    "start_time": "2022-06-12T20:14:40.533Z"
   },
   {
    "duration": 20,
    "start_time": "2022-06-12T20:14:40.569Z"
   },
   {
    "duration": 34,
    "start_time": "2022-06-12T20:14:40.591Z"
   },
   {
    "duration": 107,
    "start_time": "2022-06-12T20:14:40.627Z"
   },
   {
    "duration": 44,
    "start_time": "2022-06-12T20:14:40.736Z"
   },
   {
    "duration": 27,
    "start_time": "2022-06-12T20:14:40.782Z"
   },
   {
    "duration": 28,
    "start_time": "2022-06-12T20:14:40.810Z"
   },
   {
    "duration": 15,
    "start_time": "2022-06-12T20:14:40.840Z"
   },
   {
    "duration": 22,
    "start_time": "2022-06-12T20:14:40.857Z"
   },
   {
    "duration": 15,
    "start_time": "2022-06-12T20:14:40.881Z"
   },
   {
    "duration": 32,
    "start_time": "2022-06-12T20:14:40.898Z"
   },
   {
    "duration": 22,
    "start_time": "2022-06-12T20:14:40.932Z"
   },
   {
    "duration": 13,
    "start_time": "2022-06-12T20:14:40.955Z"
   },
   {
    "duration": 27,
    "start_time": "2022-06-12T20:14:40.970Z"
   },
   {
    "duration": 14,
    "start_time": "2022-06-12T20:14:40.999Z"
   },
   {
    "duration": 47,
    "start_time": "2022-06-12T20:14:41.014Z"
   },
   {
    "duration": 26,
    "start_time": "2022-06-12T20:14:41.063Z"
   },
   {
    "duration": 22,
    "start_time": "2022-06-12T20:14:41.090Z"
   },
   {
    "duration": 2223,
    "start_time": "2022-06-12T20:14:41.114Z"
   },
   {
    "duration": 4,
    "start_time": "2022-06-12T20:14:43.339Z"
   },
   {
    "duration": 3099,
    "start_time": "2022-06-12T20:14:43.344Z"
   },
   {
    "duration": 0,
    "start_time": "2022-06-12T20:14:46.445Z"
   },
   {
    "duration": 0,
    "start_time": "2022-06-12T20:14:46.446Z"
   },
   {
    "duration": 0,
    "start_time": "2022-06-12T20:14:46.447Z"
   },
   {
    "duration": 0,
    "start_time": "2022-06-12T20:14:46.448Z"
   },
   {
    "duration": 0,
    "start_time": "2022-06-12T20:14:46.449Z"
   },
   {
    "duration": 0,
    "start_time": "2022-06-12T20:14:46.464Z"
   },
   {
    "duration": 1922,
    "start_time": "2022-06-12T20:14:57.220Z"
   },
   {
    "duration": 1987,
    "start_time": "2022-06-12T20:14:59.144Z"
   },
   {
    "duration": 1838,
    "start_time": "2022-06-12T20:15:01.133Z"
   },
   {
    "duration": 28,
    "start_time": "2022-06-12T20:15:02.973Z"
   },
   {
    "duration": 13,
    "start_time": "2022-06-12T20:15:03.003Z"
   },
   {
    "duration": 4,
    "start_time": "2022-06-12T20:15:03.018Z"
   },
   {
    "duration": 16,
    "start_time": "2022-06-12T20:15:03.023Z"
   },
   {
    "duration": 13,
    "start_time": "2022-06-12T20:15:03.040Z"
   },
   {
    "duration": 21,
    "start_time": "2022-06-12T20:15:03.055Z"
   },
   {
    "duration": 264,
    "start_time": "2022-06-12T20:15:03.080Z"
   },
   {
    "duration": 238,
    "start_time": "2022-06-12T20:15:03.345Z"
   },
   {
    "duration": 290,
    "start_time": "2022-06-12T20:15:03.584Z"
   },
   {
    "duration": 236,
    "start_time": "2022-06-12T20:15:03.876Z"
   },
   {
    "duration": 7,
    "start_time": "2022-06-12T20:15:04.114Z"
   },
   {
    "duration": 10,
    "start_time": "2022-06-12T20:15:04.123Z"
   },
   {
    "duration": 8,
    "start_time": "2022-06-12T20:15:04.134Z"
   },
   {
    "duration": 23,
    "start_time": "2022-06-12T20:15:04.144Z"
   },
   {
    "duration": 14,
    "start_time": "2022-06-12T20:15:04.169Z"
   },
   {
    "duration": 21,
    "start_time": "2022-06-12T20:15:04.185Z"
   },
   {
    "duration": 139,
    "start_time": "2022-06-12T20:15:04.208Z"
   },
   {
    "duration": 6,
    "start_time": "2022-06-12T20:15:04.348Z"
   },
   {
    "duration": 16,
    "start_time": "2022-06-12T20:15:04.355Z"
   },
   {
    "duration": 11,
    "start_time": "2022-06-12T20:15:04.373Z"
   },
   {
    "duration": 6,
    "start_time": "2022-06-12T20:15:04.386Z"
   },
   {
    "duration": 15,
    "start_time": "2022-06-12T20:15:04.393Z"
   },
   {
    "duration": 5,
    "start_time": "2022-06-12T20:15:04.410Z"
   },
   {
    "duration": 15,
    "start_time": "2022-06-12T20:15:04.417Z"
   },
   {
    "duration": 14,
    "start_time": "2022-06-12T20:15:04.435Z"
   },
   {
    "duration": 19,
    "start_time": "2022-06-12T20:15:04.451Z"
   },
   {
    "duration": 10,
    "start_time": "2022-06-12T20:15:04.471Z"
   },
   {
    "duration": 9,
    "start_time": "2022-06-12T20:15:04.482Z"
   },
   {
    "duration": 9,
    "start_time": "2022-06-12T20:15:04.493Z"
   },
   {
    "duration": 2400,
    "start_time": "2022-06-12T20:15:04.503Z"
   },
   {
    "duration": 5,
    "start_time": "2022-06-12T20:15:06.905Z"
   },
   {
    "duration": 3379,
    "start_time": "2022-06-12T20:15:06.912Z"
   },
   {
    "duration": 0,
    "start_time": "2022-06-12T20:15:10.293Z"
   },
   {
    "duration": 0,
    "start_time": "2022-06-12T20:15:10.294Z"
   },
   {
    "duration": 0,
    "start_time": "2022-06-12T20:15:10.295Z"
   },
   {
    "duration": 0,
    "start_time": "2022-06-12T20:15:10.297Z"
   },
   {
    "duration": 0,
    "start_time": "2022-06-12T20:15:10.298Z"
   },
   {
    "duration": 0,
    "start_time": "2022-06-12T20:15:10.299Z"
   },
   {
    "duration": 3,
    "start_time": "2022-06-12T20:15:18.960Z"
   },
   {
    "duration": 5,
    "start_time": "2022-06-12T20:15:19.539Z"
   },
   {
    "duration": 3,
    "start_time": "2022-06-12T20:15:20.597Z"
   },
   {
    "duration": 3,
    "start_time": "2022-06-12T20:15:21.249Z"
   },
   {
    "duration": 2378,
    "start_time": "2022-06-12T20:15:21.550Z"
   },
   {
    "duration": 2007,
    "start_time": "2022-06-12T20:15:29.944Z"
   },
   {
    "duration": 2024,
    "start_time": "2022-06-12T20:15:31.953Z"
   },
   {
    "duration": 1699,
    "start_time": "2022-06-12T20:15:33.980Z"
   },
   {
    "duration": 29,
    "start_time": "2022-06-12T20:15:35.681Z"
   },
   {
    "duration": 13,
    "start_time": "2022-06-12T20:15:35.712Z"
   },
   {
    "duration": 4,
    "start_time": "2022-06-12T20:15:35.726Z"
   },
   {
    "duration": 12,
    "start_time": "2022-06-12T20:15:35.732Z"
   },
   {
    "duration": 16,
    "start_time": "2022-06-12T20:15:35.746Z"
   },
   {
    "duration": 20,
    "start_time": "2022-06-12T20:15:35.763Z"
   },
   {
    "duration": 256,
    "start_time": "2022-06-12T20:15:35.785Z"
   },
   {
    "duration": 231,
    "start_time": "2022-06-12T20:15:36.043Z"
   },
   {
    "duration": 248,
    "start_time": "2022-06-12T20:15:36.276Z"
   },
   {
    "duration": 232,
    "start_time": "2022-06-12T20:15:36.526Z"
   },
   {
    "duration": 10,
    "start_time": "2022-06-12T20:15:36.760Z"
   },
   {
    "duration": 7,
    "start_time": "2022-06-12T20:15:36.772Z"
   },
   {
    "duration": 12,
    "start_time": "2022-06-12T20:15:36.781Z"
   },
   {
    "duration": 14,
    "start_time": "2022-06-12T20:15:36.794Z"
   },
   {
    "duration": 4,
    "start_time": "2022-06-12T20:15:36.810Z"
   },
   {
    "duration": 23,
    "start_time": "2022-06-12T20:15:36.816Z"
   },
   {
    "duration": 133,
    "start_time": "2022-06-12T20:15:36.840Z"
   },
   {
    "duration": 13,
    "start_time": "2022-06-12T20:15:36.974Z"
   },
   {
    "duration": 5,
    "start_time": "2022-06-12T20:15:36.988Z"
   },
   {
    "duration": 7,
    "start_time": "2022-06-12T20:15:36.994Z"
   },
   {
    "duration": 6,
    "start_time": "2022-06-12T20:15:37.002Z"
   },
   {
    "duration": 13,
    "start_time": "2022-06-12T20:15:37.010Z"
   },
   {
    "duration": 3,
    "start_time": "2022-06-12T20:15:37.025Z"
   },
   {
    "duration": 5,
    "start_time": "2022-06-12T20:15:37.029Z"
   },
   {
    "duration": 28,
    "start_time": "2022-06-12T20:15:37.037Z"
   },
   {
    "duration": 2,
    "start_time": "2022-06-12T20:15:37.067Z"
   },
   {
    "duration": 6,
    "start_time": "2022-06-12T20:15:37.071Z"
   },
   {
    "duration": 9,
    "start_time": "2022-06-12T20:15:37.079Z"
   },
   {
    "duration": 4,
    "start_time": "2022-06-12T20:15:37.090Z"
   },
   {
    "duration": 2279,
    "start_time": "2022-06-12T20:15:37.096Z"
   },
   {
    "duration": 4,
    "start_time": "2022-06-12T20:15:39.376Z"
   },
   {
    "duration": 3115,
    "start_time": "2022-06-12T20:15:39.382Z"
   },
   {
    "duration": 0,
    "start_time": "2022-06-12T20:15:42.499Z"
   },
   {
    "duration": 0,
    "start_time": "2022-06-12T20:15:42.500Z"
   },
   {
    "duration": 0,
    "start_time": "2022-06-12T20:15:42.501Z"
   },
   {
    "duration": 0,
    "start_time": "2022-06-12T20:15:42.502Z"
   },
   {
    "duration": 0,
    "start_time": "2022-06-12T20:15:42.503Z"
   },
   {
    "duration": 0,
    "start_time": "2022-06-12T20:15:42.504Z"
   },
   {
    "duration": 3,
    "start_time": "2022-06-12T20:15:50.801Z"
   },
   {
    "duration": 4,
    "start_time": "2022-06-12T20:15:51.338Z"
   },
   {
    "duration": 3,
    "start_time": "2022-06-12T20:15:52.530Z"
   },
   {
    "duration": 3,
    "start_time": "2022-06-12T20:15:52.917Z"
   },
   {
    "duration": 2153,
    "start_time": "2022-06-12T20:15:53.395Z"
   },
   {
    "duration": 3,
    "start_time": "2022-06-12T20:16:07.642Z"
   },
   {
    "duration": 4,
    "start_time": "2022-06-12T20:16:08.218Z"
   },
   {
    "duration": 5,
    "start_time": "2022-06-12T20:16:09.042Z"
   },
   {
    "duration": 4,
    "start_time": "2022-06-12T20:16:09.243Z"
   },
   {
    "duration": 2202,
    "start_time": "2022-06-12T20:16:09.419Z"
   },
   {
    "duration": 4,
    "start_time": "2022-06-12T20:16:11.623Z"
   },
   {
    "duration": 3078,
    "start_time": "2022-06-12T20:16:23.138Z"
   },
   {
    "duration": 3134,
    "start_time": "2022-06-12T20:16:31.721Z"
   },
   {
    "duration": 3097,
    "start_time": "2022-06-12T20:16:50.718Z"
   },
   {
    "duration": 3192,
    "start_time": "2022-06-12T20:17:05.008Z"
   },
   {
    "duration": 38,
    "start_time": "2022-06-12T20:18:07.103Z"
   },
   {
    "duration": 3212,
    "start_time": "2022-06-12T20:18:53.005Z"
   },
   {
    "duration": 3373,
    "start_time": "2022-06-12T20:19:07.388Z"
   },
   {
    "duration": 3156,
    "start_time": "2022-06-12T20:20:42.467Z"
   },
   {
    "duration": 11,
    "start_time": "2022-06-12T20:22:44.654Z"
   },
   {
    "duration": 13,
    "start_time": "2022-06-12T20:22:52.504Z"
   },
   {
    "duration": 6,
    "start_time": "2022-06-12T20:23:49.834Z"
   },
   {
    "duration": 4,
    "start_time": "2022-06-12T20:24:04.016Z"
   },
   {
    "duration": 13,
    "start_time": "2022-06-12T20:24:19.027Z"
   },
   {
    "duration": 5,
    "start_time": "2022-06-12T20:24:33.011Z"
   },
   {
    "duration": 7,
    "start_time": "2022-06-12T20:24:51.050Z"
   },
   {
    "duration": 14,
    "start_time": "2022-06-12T20:28:34.808Z"
   },
   {
    "duration": 13,
    "start_time": "2022-06-12T20:28:40.141Z"
   },
   {
    "duration": 4,
    "start_time": "2022-06-12T20:29:22.641Z"
   },
   {
    "duration": 10,
    "start_time": "2022-06-12T20:29:41.312Z"
   },
   {
    "duration": 23,
    "start_time": "2022-06-12T20:30:02.220Z"
   },
   {
    "duration": 13,
    "start_time": "2022-06-12T20:30:52.902Z"
   },
   {
    "duration": 1925,
    "start_time": "2022-06-12T20:31:13.542Z"
   },
   {
    "duration": 1939,
    "start_time": "2022-06-12T20:31:15.469Z"
   },
   {
    "duration": 1706,
    "start_time": "2022-06-12T20:31:17.411Z"
   },
   {
    "duration": 28,
    "start_time": "2022-06-12T20:31:19.119Z"
   },
   {
    "duration": 15,
    "start_time": "2022-06-12T20:31:19.150Z"
   },
   {
    "duration": 3,
    "start_time": "2022-06-12T20:31:19.167Z"
   },
   {
    "duration": 11,
    "start_time": "2022-06-12T20:31:19.172Z"
   },
   {
    "duration": 11,
    "start_time": "2022-06-12T20:31:19.185Z"
   },
   {
    "duration": 18,
    "start_time": "2022-06-12T20:31:19.197Z"
   },
   {
    "duration": 274,
    "start_time": "2022-06-12T20:31:19.217Z"
   },
   {
    "duration": 219,
    "start_time": "2022-06-12T20:31:19.492Z"
   },
   {
    "duration": 245,
    "start_time": "2022-06-12T20:31:19.712Z"
   },
   {
    "duration": 236,
    "start_time": "2022-06-12T20:31:19.959Z"
   },
   {
    "duration": 8,
    "start_time": "2022-06-12T20:31:20.198Z"
   },
   {
    "duration": 9,
    "start_time": "2022-06-12T20:31:20.208Z"
   },
   {
    "duration": 8,
    "start_time": "2022-06-12T20:31:20.218Z"
   },
   {
    "duration": 9,
    "start_time": "2022-06-12T20:31:20.227Z"
   },
   {
    "duration": 8,
    "start_time": "2022-06-12T20:31:20.238Z"
   },
   {
    "duration": 144,
    "start_time": "2022-06-12T20:31:20.247Z"
   },
   {
    "duration": 16,
    "start_time": "2022-06-12T20:31:20.393Z"
   },
   {
    "duration": 7,
    "start_time": "2022-06-12T20:31:20.410Z"
   },
   {
    "duration": 4,
    "start_time": "2022-06-12T20:31:20.419Z"
   },
   {
    "duration": 7,
    "start_time": "2022-06-12T20:31:20.424Z"
   },
   {
    "duration": 14,
    "start_time": "2022-06-12T20:31:20.432Z"
   },
   {
    "duration": 22,
    "start_time": "2022-06-12T20:31:20.447Z"
   },
   {
    "duration": 3,
    "start_time": "2022-06-12T20:31:20.471Z"
   },
   {
    "duration": 6,
    "start_time": "2022-06-12T20:31:20.475Z"
   },
   {
    "duration": 24,
    "start_time": "2022-06-12T20:31:20.483Z"
   },
   {
    "duration": 6,
    "start_time": "2022-06-12T20:31:20.508Z"
   },
   {
    "duration": 8,
    "start_time": "2022-06-12T20:31:20.516Z"
   },
   {
    "duration": 9,
    "start_time": "2022-06-12T20:31:20.526Z"
   },
   {
    "duration": 7,
    "start_time": "2022-06-12T20:31:20.536Z"
   },
   {
    "duration": 2228,
    "start_time": "2022-06-12T20:31:20.544Z"
   },
   {
    "duration": 5,
    "start_time": "2022-06-12T20:31:22.774Z"
   },
   {
    "duration": 3,
    "start_time": "2022-06-12T20:31:33.161Z"
   },
   {
    "duration": 1441,
    "start_time": "2022-06-12T20:31:33.673Z"
   },
   {
    "duration": 3,
    "start_time": "2022-06-12T20:31:45.178Z"
   },
   {
    "duration": 1414,
    "start_time": "2022-06-12T20:31:45.612Z"
   },
   {
    "duration": 4,
    "start_time": "2022-06-12T20:31:54.736Z"
   },
   {
    "duration": 1473,
    "start_time": "2022-06-12T20:31:55.137Z"
   },
   {
    "duration": 4,
    "start_time": "2022-06-12T20:32:04.110Z"
   },
   {
    "duration": 8,
    "start_time": "2022-06-12T20:32:09.615Z"
   },
   {
    "duration": 3013,
    "start_time": "2022-06-12T20:37:06.885Z"
   },
   {
    "duration": 158,
    "start_time": "2022-06-12T20:37:40.636Z"
   },
   {
    "duration": 23,
    "start_time": "2022-06-12T20:37:52.135Z"
   },
   {
    "duration": 22,
    "start_time": "2022-06-12T20:38:21.992Z"
   },
   {
    "duration": 3280,
    "start_time": "2022-06-12T20:38:46.424Z"
   },
   {
    "duration": 10,
    "start_time": "2022-06-12T20:45:15.718Z"
   },
   {
    "duration": 11,
    "start_time": "2022-06-12T20:50:38.996Z"
   },
   {
    "duration": 13,
    "start_time": "2022-06-12T20:51:47.523Z"
   },
   {
    "duration": 19,
    "start_time": "2022-06-12T20:52:04.426Z"
   },
   {
    "duration": 1955,
    "start_time": "2022-06-12T20:52:58.841Z"
   },
   {
    "duration": 2000,
    "start_time": "2022-06-12T20:53:00.798Z"
   },
   {
    "duration": 1683,
    "start_time": "2022-06-12T20:53:02.799Z"
   },
   {
    "duration": 29,
    "start_time": "2022-06-12T20:53:04.483Z"
   },
   {
    "duration": 14,
    "start_time": "2022-06-12T20:53:04.514Z"
   },
   {
    "duration": 3,
    "start_time": "2022-06-12T20:53:04.530Z"
   },
   {
    "duration": 11,
    "start_time": "2022-06-12T20:53:04.535Z"
   },
   {
    "duration": 14,
    "start_time": "2022-06-12T20:53:04.548Z"
   },
   {
    "duration": 24,
    "start_time": "2022-06-12T20:53:04.564Z"
   },
   {
    "duration": 263,
    "start_time": "2022-06-12T20:53:04.590Z"
   },
   {
    "duration": 232,
    "start_time": "2022-06-12T20:53:04.855Z"
   },
   {
    "duration": 270,
    "start_time": "2022-06-12T20:53:05.089Z"
   },
   {
    "duration": 234,
    "start_time": "2022-06-12T20:53:05.364Z"
   },
   {
    "duration": 6,
    "start_time": "2022-06-12T20:53:05.600Z"
   },
   {
    "duration": 19,
    "start_time": "2022-06-12T20:53:05.608Z"
   },
   {
    "duration": 9,
    "start_time": "2022-06-12T20:53:05.629Z"
   },
   {
    "duration": 10,
    "start_time": "2022-06-12T20:53:05.639Z"
   },
   {
    "duration": 11,
    "start_time": "2022-06-12T20:53:05.650Z"
   },
   {
    "duration": 124,
    "start_time": "2022-06-12T20:53:05.663Z"
   },
   {
    "duration": 25,
    "start_time": "2022-06-12T20:53:05.789Z"
   },
   {
    "duration": 17,
    "start_time": "2022-06-12T20:53:05.816Z"
   },
   {
    "duration": 5,
    "start_time": "2022-06-12T20:53:05.835Z"
   },
   {
    "duration": 19,
    "start_time": "2022-06-12T20:53:05.841Z"
   },
   {
    "duration": 6,
    "start_time": "2022-06-12T20:53:05.862Z"
   },
   {
    "duration": 14,
    "start_time": "2022-06-12T20:53:05.869Z"
   },
   {
    "duration": 8,
    "start_time": "2022-06-12T20:53:05.885Z"
   },
   {
    "duration": 5,
    "start_time": "2022-06-12T20:53:05.895Z"
   },
   {
    "duration": 5,
    "start_time": "2022-06-12T20:53:05.902Z"
   },
   {
    "duration": 3,
    "start_time": "2022-06-12T20:53:19.119Z"
   },
   {
    "duration": 3,
    "start_time": "2022-06-12T20:53:19.807Z"
   },
   {
    "duration": 4,
    "start_time": "2022-06-12T20:53:53.189Z"
   },
   {
    "duration": 4,
    "start_time": "2022-06-12T20:53:55.452Z"
   },
   {
    "duration": 160,
    "start_time": "2022-06-12T20:53:55.895Z"
   },
   {
    "duration": 16,
    "start_time": "2022-06-12T20:54:44.989Z"
   },
   {
    "duration": 1961,
    "start_time": "2022-06-12T20:54:57.537Z"
   },
   {
    "duration": 2019,
    "start_time": "2022-06-12T20:54:59.501Z"
   },
   {
    "duration": 1794,
    "start_time": "2022-06-12T20:55:01.522Z"
   },
   {
    "duration": 29,
    "start_time": "2022-06-12T20:55:03.319Z"
   },
   {
    "duration": 17,
    "start_time": "2022-06-12T20:55:03.350Z"
   },
   {
    "duration": 5,
    "start_time": "2022-06-12T20:55:03.369Z"
   },
   {
    "duration": 25,
    "start_time": "2022-06-12T20:55:03.376Z"
   },
   {
    "duration": 32,
    "start_time": "2022-06-12T20:55:03.403Z"
   },
   {
    "duration": 50,
    "start_time": "2022-06-12T20:55:03.436Z"
   },
   {
    "duration": 314,
    "start_time": "2022-06-12T20:55:03.490Z"
   },
   {
    "duration": 265,
    "start_time": "2022-06-12T20:55:03.808Z"
   },
   {
    "duration": 283,
    "start_time": "2022-06-12T20:55:04.074Z"
   },
   {
    "duration": 294,
    "start_time": "2022-06-12T20:55:04.359Z"
   },
   {
    "duration": 17,
    "start_time": "2022-06-12T20:55:04.655Z"
   },
   {
    "duration": 13,
    "start_time": "2022-06-12T20:55:04.674Z"
   },
   {
    "duration": 8,
    "start_time": "2022-06-12T20:55:04.689Z"
   },
   {
    "duration": 7,
    "start_time": "2022-06-12T20:55:04.698Z"
   },
   {
    "duration": 5,
    "start_time": "2022-06-12T20:55:04.707Z"
   },
   {
    "duration": 23,
    "start_time": "2022-06-12T20:55:04.713Z"
   },
   {
    "duration": 155,
    "start_time": "2022-06-12T20:55:04.738Z"
   },
   {
    "duration": 7,
    "start_time": "2022-06-12T20:55:04.895Z"
   },
   {
    "duration": 6,
    "start_time": "2022-06-12T20:55:04.904Z"
   },
   {
    "duration": 9,
    "start_time": "2022-06-12T20:55:04.911Z"
   },
   {
    "duration": 22,
    "start_time": "2022-06-12T20:55:04.921Z"
   },
   {
    "duration": 36,
    "start_time": "2022-06-12T20:55:04.946Z"
   },
   {
    "duration": 6,
    "start_time": "2022-06-12T20:55:04.984Z"
   },
   {
    "duration": 12,
    "start_time": "2022-06-12T20:55:04.992Z"
   },
   {
    "duration": 8,
    "start_time": "2022-06-12T20:55:05.007Z"
   },
   {
    "duration": 13,
    "start_time": "2022-06-12T20:55:05.017Z"
   },
   {
    "duration": 15,
    "start_time": "2022-06-12T20:55:05.032Z"
   },
   {
    "duration": 4,
    "start_time": "2022-06-12T20:55:12.307Z"
   },
   {
    "duration": 4,
    "start_time": "2022-06-12T20:55:13.442Z"
   },
   {
    "duration": 161,
    "start_time": "2022-06-12T20:55:14.120Z"
   },
   {
    "duration": 13,
    "start_time": "2022-06-12T20:57:04.714Z"
   },
   {
    "duration": 3,
    "start_time": "2022-06-12T20:59:14.041Z"
   },
   {
    "duration": 1498,
    "start_time": "2022-06-12T20:59:15.682Z"
   },
   {
    "duration": 14,
    "start_time": "2022-06-12T20:59:47.200Z"
   },
   {
    "duration": 4,
    "start_time": "2022-06-12T21:07:00.231Z"
   },
   {
    "duration": 11,
    "start_time": "2022-06-12T21:07:11.566Z"
   },
   {
    "duration": 17,
    "start_time": "2022-06-12T21:07:15.742Z"
   },
   {
    "duration": 6,
    "start_time": "2022-06-12T21:07:25.295Z"
   },
   {
    "duration": 3498,
    "start_time": "2022-06-12T21:08:41.190Z"
   },
   {
    "duration": 3575,
    "start_time": "2022-06-12T21:09:03.148Z"
   },
   {
    "duration": 3389,
    "start_time": "2022-06-12T21:10:16.586Z"
   },
   {
    "duration": 3249,
    "start_time": "2022-06-12T21:10:32.091Z"
   },
   {
    "duration": 3377,
    "start_time": "2022-06-12T21:10:45.672Z"
   },
   {
    "duration": 3810,
    "start_time": "2022-06-12T21:10:54.170Z"
   },
   {
    "duration": 3216,
    "start_time": "2022-06-12T21:11:15.096Z"
   },
   {
    "duration": 3108,
    "start_time": "2022-06-12T21:11:52.801Z"
   },
   {
    "duration": 3142,
    "start_time": "2022-06-12T21:12:08.560Z"
   },
   {
    "duration": 3153,
    "start_time": "2022-06-12T21:12:47.438Z"
   },
   {
    "duration": 3244,
    "start_time": "2022-06-12T21:13:16.943Z"
   },
   {
    "duration": 25,
    "start_time": "2022-06-12T21:13:37.498Z"
   },
   {
    "duration": 14,
    "start_time": "2022-06-12T21:14:29.025Z"
   },
   {
    "duration": 3073,
    "start_time": "2022-06-12T21:15:34.195Z"
   },
   {
    "duration": 13,
    "start_time": "2022-06-12T21:16:08.063Z"
   },
   {
    "duration": 16,
    "start_time": "2022-06-12T21:17:13.744Z"
   },
   {
    "duration": 1880,
    "start_time": "2022-06-12T21:17:41.616Z"
   },
   {
    "duration": 1937,
    "start_time": "2022-06-12T21:17:43.498Z"
   },
   {
    "duration": 1722,
    "start_time": "2022-06-12T21:17:45.437Z"
   },
   {
    "duration": 29,
    "start_time": "2022-06-12T21:17:47.161Z"
   },
   {
    "duration": 13,
    "start_time": "2022-06-12T21:17:47.192Z"
   },
   {
    "duration": 3,
    "start_time": "2022-06-12T21:17:47.207Z"
   },
   {
    "duration": 11,
    "start_time": "2022-06-12T21:17:47.212Z"
   },
   {
    "duration": 11,
    "start_time": "2022-06-12T21:17:47.225Z"
   },
   {
    "duration": 19,
    "start_time": "2022-06-12T21:17:47.238Z"
   },
   {
    "duration": 267,
    "start_time": "2022-06-12T21:17:47.259Z"
   },
   {
    "duration": 212,
    "start_time": "2022-06-12T21:17:47.527Z"
   },
   {
    "duration": 233,
    "start_time": "2022-06-12T21:17:47.741Z"
   },
   {
    "duration": 221,
    "start_time": "2022-06-12T21:17:47.975Z"
   },
   {
    "duration": 6,
    "start_time": "2022-06-12T21:17:48.197Z"
   },
   {
    "duration": 18,
    "start_time": "2022-06-12T21:17:48.204Z"
   },
   {
    "duration": 15,
    "start_time": "2022-06-12T21:17:48.223Z"
   },
   {
    "duration": 21,
    "start_time": "2022-06-12T21:17:48.239Z"
   },
   {
    "duration": 17,
    "start_time": "2022-06-12T21:17:48.261Z"
   },
   {
    "duration": 31,
    "start_time": "2022-06-12T21:17:48.279Z"
   },
   {
    "duration": 136,
    "start_time": "2022-06-12T21:17:48.312Z"
   },
   {
    "duration": 10,
    "start_time": "2022-06-12T21:17:48.449Z"
   },
   {
    "duration": 4,
    "start_time": "2022-06-12T21:17:48.460Z"
   },
   {
    "duration": 7,
    "start_time": "2022-06-12T21:17:48.465Z"
   },
   {
    "duration": 10,
    "start_time": "2022-06-12T21:17:48.473Z"
   },
   {
    "duration": 13,
    "start_time": "2022-06-12T21:17:48.485Z"
   },
   {
    "duration": 18,
    "start_time": "2022-06-12T21:17:48.499Z"
   },
   {
    "duration": 8,
    "start_time": "2022-06-12T21:17:48.519Z"
   },
   {
    "duration": 8,
    "start_time": "2022-06-12T21:17:48.530Z"
   },
   {
    "duration": 5,
    "start_time": "2022-06-12T21:17:48.539Z"
   },
   {
    "duration": 5,
    "start_time": "2022-06-12T21:17:48.545Z"
   },
   {
    "duration": 6,
    "start_time": "2022-06-12T21:17:48.552Z"
   },
   {
    "duration": 9,
    "start_time": "2022-06-12T21:17:48.559Z"
   },
   {
    "duration": 1522,
    "start_time": "2022-06-12T21:17:48.570Z"
   },
   {
    "duration": 5,
    "start_time": "2022-06-12T21:17:50.094Z"
   },
   {
    "duration": 2935,
    "start_time": "2022-06-12T21:17:50.100Z"
   },
   {
    "duration": 4,
    "start_time": "2022-06-12T21:17:53.037Z"
   },
   {
    "duration": 9,
    "start_time": "2022-06-12T21:17:53.043Z"
   },
   {
    "duration": 9432,
    "start_time": "2022-06-12T21:17:53.054Z"
   },
   {
    "duration": 80,
    "start_time": "2022-06-12T21:18:02.487Z"
   },
   {
    "duration": 10,
    "start_time": "2022-06-12T21:18:02.569Z"
   },
   {
    "duration": 1718,
    "start_time": "2022-06-12T21:18:02.581Z"
   },
   {
    "duration": 1894,
    "start_time": "2022-06-12T21:18:14.212Z"
   },
   {
    "duration": 1958,
    "start_time": "2022-06-12T21:18:16.108Z"
   },
   {
    "duration": 1784,
    "start_time": "2022-06-12T21:18:18.068Z"
   },
   {
    "duration": 28,
    "start_time": "2022-06-12T21:18:19.854Z"
   },
   {
    "duration": 14,
    "start_time": "2022-06-12T21:18:19.883Z"
   },
   {
    "duration": 4,
    "start_time": "2022-06-12T21:18:19.898Z"
   },
   {
    "duration": 12,
    "start_time": "2022-06-12T21:18:19.903Z"
   },
   {
    "duration": 19,
    "start_time": "2022-06-12T21:18:19.916Z"
   },
   {
    "duration": 22,
    "start_time": "2022-06-12T21:18:19.936Z"
   },
   {
    "duration": 253,
    "start_time": "2022-06-12T21:18:19.961Z"
   },
   {
    "duration": 219,
    "start_time": "2022-06-12T21:18:20.216Z"
   },
   {
    "duration": 236,
    "start_time": "2022-06-12T21:18:20.436Z"
   },
   {
    "duration": 221,
    "start_time": "2022-06-12T21:18:20.673Z"
   },
   {
    "duration": 6,
    "start_time": "2022-06-12T21:18:20.896Z"
   },
   {
    "duration": 10,
    "start_time": "2022-06-12T21:18:20.903Z"
   },
   {
    "duration": 11,
    "start_time": "2022-06-12T21:18:20.914Z"
   },
   {
    "duration": 14,
    "start_time": "2022-06-12T21:18:20.926Z"
   },
   {
    "duration": 16,
    "start_time": "2022-06-12T21:18:20.941Z"
   },
   {
    "duration": 25,
    "start_time": "2022-06-12T21:18:20.958Z"
   },
   {
    "duration": 135,
    "start_time": "2022-06-12T21:18:20.985Z"
   },
   {
    "duration": 23,
    "start_time": "2022-06-12T21:18:21.122Z"
   },
   {
    "duration": 6,
    "start_time": "2022-06-12T21:18:21.146Z"
   },
   {
    "duration": 6,
    "start_time": "2022-06-12T21:18:21.154Z"
   },
   {
    "duration": 5,
    "start_time": "2022-06-12T21:18:21.161Z"
   },
   {
    "duration": 12,
    "start_time": "2022-06-12T21:18:21.167Z"
   },
   {
    "duration": 4,
    "start_time": "2022-06-12T21:18:21.180Z"
   },
   {
    "duration": 5,
    "start_time": "2022-06-12T21:18:21.185Z"
   },
   {
    "duration": 4,
    "start_time": "2022-06-12T21:18:21.192Z"
   },
   {
    "duration": 7,
    "start_time": "2022-06-12T21:18:21.197Z"
   },
   {
    "duration": 5,
    "start_time": "2022-06-12T21:18:21.206Z"
   },
   {
    "duration": 5,
    "start_time": "2022-06-12T21:18:21.213Z"
   },
   {
    "duration": 4,
    "start_time": "2022-06-12T21:18:21.220Z"
   },
   {
    "duration": 1439,
    "start_time": "2022-06-12T21:18:21.225Z"
   },
   {
    "duration": 2968,
    "start_time": "2022-06-12T21:18:22.666Z"
   },
   {
    "duration": 4,
    "start_time": "2022-06-12T21:18:25.636Z"
   },
   {
    "duration": 7,
    "start_time": "2022-06-12T21:18:25.642Z"
   },
   {
    "duration": 9840,
    "start_time": "2022-06-12T21:18:25.650Z"
   },
   {
    "duration": 77,
    "start_time": "2022-06-12T21:18:35.491Z"
   },
   {
    "duration": 10,
    "start_time": "2022-06-12T21:18:35.570Z"
   },
   {
    "duration": 1761,
    "start_time": "2022-06-12T21:18:35.581Z"
   },
   {
    "duration": 22515,
    "start_time": "2022-06-13T06:13:01.040Z"
   },
   {
    "duration": 1975,
    "start_time": "2022-06-13T06:13:23.557Z"
   },
   {
    "duration": 2256,
    "start_time": "2022-06-13T06:13:25.534Z"
   },
   {
    "duration": 2067,
    "start_time": "2022-06-13T06:14:12.560Z"
   },
   {
    "duration": 69,
    "start_time": "2022-06-13T06:14:20.800Z"
   },
   {
    "duration": 15,
    "start_time": "2022-06-13T06:14:26.029Z"
   },
   {
    "duration": 4,
    "start_time": "2022-06-13T06:14:27.133Z"
   },
   {
    "duration": 10,
    "start_time": "2022-06-13T06:14:27.564Z"
   },
   {
    "duration": 13,
    "start_time": "2022-06-13T06:14:28.118Z"
   },
   {
    "duration": 21,
    "start_time": "2022-06-13T06:14:30.278Z"
   },
   {
    "duration": 1876,
    "start_time": "2022-06-13T06:14:31.674Z"
   },
   {
    "duration": 251,
    "start_time": "2022-06-13T06:14:33.552Z"
   },
   {
    "duration": 256,
    "start_time": "2022-06-13T06:14:33.805Z"
   },
   {
    "duration": 230,
    "start_time": "2022-06-13T06:14:34.062Z"
   },
   {
    "duration": 7,
    "start_time": "2022-06-13T06:14:34.294Z"
   },
   {
    "duration": 6,
    "start_time": "2022-06-13T06:14:35.056Z"
   },
   {
    "duration": 6,
    "start_time": "2022-06-13T06:14:35.940Z"
   },
   {
    "duration": 6,
    "start_time": "2022-06-13T06:14:37.317Z"
   },
   {
    "duration": 4,
    "start_time": "2022-06-13T06:15:59.652Z"
   },
   {
    "duration": 21,
    "start_time": "2022-06-13T06:16:00.510Z"
   },
   {
    "duration": 25,
    "start_time": "2022-06-13T06:16:01.344Z"
   },
   {
    "duration": 8,
    "start_time": "2022-06-13T06:16:02.154Z"
   },
   {
    "duration": 3,
    "start_time": "2022-06-13T06:16:04.418Z"
   },
   {
    "duration": 6,
    "start_time": "2022-06-13T06:16:05.492Z"
   },
   {
    "duration": 3,
    "start_time": "2022-06-13T06:16:06.043Z"
   },
   {
    "duration": 131,
    "start_time": "2022-06-13T06:16:07.436Z"
   },
   {
    "duration": 4,
    "start_time": "2022-06-13T06:16:07.926Z"
   },
   {
    "duration": 4,
    "start_time": "2022-06-13T06:16:10.391Z"
   },
   {
    "duration": 5,
    "start_time": "2022-06-13T06:16:11.489Z"
   },
   {
    "duration": 3,
    "start_time": "2022-06-13T06:16:12.635Z"
   },
   {
    "duration": 4,
    "start_time": "2022-06-13T06:16:20.547Z"
   },
   {
    "duration": 4,
    "start_time": "2022-06-13T06:16:37.155Z"
   },
   {
    "duration": 4,
    "start_time": "2022-06-13T06:16:38.318Z"
   },
   {
    "duration": 5,
    "start_time": "2022-06-13T06:18:22.399Z"
   },
   {
    "duration": 5,
    "start_time": "2022-06-13T06:18:23.753Z"
   },
   {
    "duration": 10895,
    "start_time": "2022-06-13T06:18:25.081Z"
   },
   {
    "duration": 26657,
    "start_time": "2022-06-13T08:33:34.922Z"
   },
   {
    "duration": 2266,
    "start_time": "2022-06-13T08:34:01.581Z"
   },
   {
    "duration": 1279,
    "start_time": "2022-06-13T08:34:03.852Z"
   },
   {
    "duration": 0,
    "start_time": "2022-06-13T08:34:05.134Z"
   },
   {
    "duration": 0,
    "start_time": "2022-06-13T08:34:05.135Z"
   },
   {
    "duration": 0,
    "start_time": "2022-06-13T08:34:05.136Z"
   },
   {
    "duration": 0,
    "start_time": "2022-06-13T08:34:05.138Z"
   },
   {
    "duration": 0,
    "start_time": "2022-06-13T08:34:05.139Z"
   },
   {
    "duration": 0,
    "start_time": "2022-06-13T08:34:05.140Z"
   },
   {
    "duration": 0,
    "start_time": "2022-06-13T08:34:05.141Z"
   },
   {
    "duration": 0,
    "start_time": "2022-06-13T08:34:05.142Z"
   },
   {
    "duration": 0,
    "start_time": "2022-06-13T08:34:05.143Z"
   },
   {
    "duration": 0,
    "start_time": "2022-06-13T08:34:05.144Z"
   },
   {
    "duration": 0,
    "start_time": "2022-06-13T08:34:05.145Z"
   },
   {
    "duration": 0,
    "start_time": "2022-06-13T08:34:05.146Z"
   },
   {
    "duration": 0,
    "start_time": "2022-06-13T08:34:05.147Z"
   },
   {
    "duration": 0,
    "start_time": "2022-06-13T08:34:05.148Z"
   },
   {
    "duration": 0,
    "start_time": "2022-06-13T08:34:05.149Z"
   },
   {
    "duration": 0,
    "start_time": "2022-06-13T08:34:05.150Z"
   },
   {
    "duration": 0,
    "start_time": "2022-06-13T08:34:05.151Z"
   },
   {
    "duration": 0,
    "start_time": "2022-06-13T08:34:05.152Z"
   },
   {
    "duration": 0,
    "start_time": "2022-06-13T08:34:05.153Z"
   },
   {
    "duration": 0,
    "start_time": "2022-06-13T08:34:05.154Z"
   },
   {
    "duration": 0,
    "start_time": "2022-06-13T08:34:05.155Z"
   },
   {
    "duration": 0,
    "start_time": "2022-06-13T08:34:05.156Z"
   },
   {
    "duration": 0,
    "start_time": "2022-06-13T08:34:05.156Z"
   },
   {
    "duration": 0,
    "start_time": "2022-06-13T08:34:05.195Z"
   },
   {
    "duration": 0,
    "start_time": "2022-06-13T08:34:05.196Z"
   },
   {
    "duration": 0,
    "start_time": "2022-06-13T08:34:05.197Z"
   },
   {
    "duration": 0,
    "start_time": "2022-06-13T08:34:05.198Z"
   },
   {
    "duration": 0,
    "start_time": "2022-06-13T08:34:05.199Z"
   },
   {
    "duration": 0,
    "start_time": "2022-06-13T08:34:05.200Z"
   },
   {
    "duration": 0,
    "start_time": "2022-06-13T08:34:05.201Z"
   },
   {
    "duration": 0,
    "start_time": "2022-06-13T08:34:05.202Z"
   },
   {
    "duration": 0,
    "start_time": "2022-06-13T08:34:05.203Z"
   },
   {
    "duration": 0,
    "start_time": "2022-06-13T08:34:05.204Z"
   },
   {
    "duration": 0,
    "start_time": "2022-06-13T08:34:05.205Z"
   },
   {
    "duration": 0,
    "start_time": "2022-06-13T08:34:05.206Z"
   },
   {
    "duration": 0,
    "start_time": "2022-06-13T08:34:05.208Z"
   },
   {
    "duration": 0,
    "start_time": "2022-06-13T08:34:05.209Z"
   },
   {
    "duration": 2614,
    "start_time": "2022-06-13T08:34:22.664Z"
   },
   {
    "duration": 2353,
    "start_time": "2022-06-13T08:34:25.281Z"
   },
   {
    "duration": 5929,
    "start_time": "2022-06-13T08:34:27.636Z"
   },
   {
    "duration": 103,
    "start_time": "2022-06-13T08:34:33.568Z"
   },
   {
    "duration": 21,
    "start_time": "2022-06-13T08:34:33.672Z"
   },
   {
    "duration": 10,
    "start_time": "2022-06-13T08:34:33.703Z"
   },
   {
    "duration": 24,
    "start_time": "2022-06-13T08:34:33.715Z"
   },
   {
    "duration": 18,
    "start_time": "2022-06-13T08:34:33.741Z"
   },
   {
    "duration": 30,
    "start_time": "2022-06-13T08:34:33.761Z"
   },
   {
    "duration": 390,
    "start_time": "2022-06-13T08:34:33.794Z"
   },
   {
    "duration": 295,
    "start_time": "2022-06-13T08:34:34.186Z"
   },
   {
    "duration": 328,
    "start_time": "2022-06-13T08:34:34.483Z"
   },
   {
    "duration": 425,
    "start_time": "2022-06-13T08:34:34.821Z"
   },
   {
    "duration": 8,
    "start_time": "2022-06-13T08:34:35.247Z"
   },
   {
    "duration": 9,
    "start_time": "2022-06-13T08:34:35.256Z"
   },
   {
    "duration": 7,
    "start_time": "2022-06-13T08:34:35.267Z"
   },
   {
    "duration": 25,
    "start_time": "2022-06-13T08:34:35.276Z"
   },
   {
    "duration": 25,
    "start_time": "2022-06-13T08:34:35.304Z"
   },
   {
    "duration": 25,
    "start_time": "2022-06-13T08:34:35.330Z"
   },
   {
    "duration": 23,
    "start_time": "2022-06-13T08:34:35.357Z"
   },
   {
    "duration": 10,
    "start_time": "2022-06-13T08:34:35.382Z"
   },
   {
    "duration": 20,
    "start_time": "2022-06-13T08:34:35.411Z"
   },
   {
    "duration": 6,
    "start_time": "2022-06-13T08:34:35.433Z"
   },
   {
    "duration": 18,
    "start_time": "2022-06-13T08:34:35.441Z"
   },
   {
    "duration": 13,
    "start_time": "2022-06-13T08:34:35.461Z"
   },
   {
    "duration": 87,
    "start_time": "2022-06-13T08:34:35.476Z"
   },
   {
    "duration": 6,
    "start_time": "2022-06-13T08:34:35.565Z"
   },
   {
    "duration": 52,
    "start_time": "2022-06-13T08:34:35.575Z"
   },
   {
    "duration": 3,
    "start_time": "2022-06-13T08:34:35.629Z"
   },
   {
    "duration": 6,
    "start_time": "2022-06-13T08:34:35.634Z"
   },
   {
    "duration": 30,
    "start_time": "2022-06-13T08:34:35.641Z"
   },
   {
    "duration": 4,
    "start_time": "2022-06-13T08:34:35.672Z"
   },
   {
    "duration": 1999,
    "start_time": "2022-06-13T08:34:35.678Z"
   },
   {
    "duration": 3994,
    "start_time": "2022-06-13T08:34:37.681Z"
   },
   {
    "duration": 6,
    "start_time": "2022-06-13T08:34:41.677Z"
   },
   {
    "duration": 18,
    "start_time": "2022-06-13T08:34:41.685Z"
   },
   {
    "duration": 26925,
    "start_time": "2022-06-13T08:34:41.709Z"
   },
   {
    "duration": 9,
    "start_time": "2022-06-13T08:35:08.636Z"
   },
   {
    "duration": 10,
    "start_time": "2022-06-13T08:35:08.647Z"
   },
   {
    "duration": 2362,
    "start_time": "2022-06-13T08:35:08.659Z"
   },
   {
    "duration": 8,
    "start_time": "2022-06-13T08:35:11.034Z"
   },
   {
    "duration": 3429,
    "start_time": "2022-06-13T08:36:01.978Z"
   },
   {
    "duration": 4,
    "start_time": "2022-06-13T08:37:11.859Z"
   },
   {
    "duration": 62,
    "start_time": "2022-06-13T08:37:35.496Z"
   },
   {
    "duration": 30,
    "start_time": "2022-06-13T08:37:46.870Z"
   },
   {
    "duration": 12,
    "start_time": "2022-06-13T16:54:20.054Z"
   },
   {
    "duration": 11,
    "start_time": "2022-06-13T16:54:26.813Z"
   },
   {
    "duration": 4,
    "start_time": "2022-06-13T16:54:31.704Z"
   },
   {
    "duration": 1893,
    "start_time": "2022-06-13T16:56:21.417Z"
   },
   {
    "duration": 1881,
    "start_time": "2022-06-13T16:56:23.313Z"
   },
   {
    "duration": 1573,
    "start_time": "2022-06-13T16:56:25.196Z"
   },
   {
    "duration": 26,
    "start_time": "2022-06-13T16:56:26.771Z"
   },
   {
    "duration": 15,
    "start_time": "2022-06-13T16:56:26.798Z"
   },
   {
    "duration": 6,
    "start_time": "2022-06-13T16:56:26.816Z"
   },
   {
    "duration": 14,
    "start_time": "2022-06-13T16:56:26.823Z"
   },
   {
    "duration": 14,
    "start_time": "2022-06-13T16:56:26.838Z"
   },
   {
    "duration": 23,
    "start_time": "2022-06-13T16:56:26.854Z"
   },
   {
    "duration": 301,
    "start_time": "2022-06-13T16:56:26.879Z"
   },
   {
    "duration": 200,
    "start_time": "2022-06-13T16:56:27.181Z"
   },
   {
    "duration": 231,
    "start_time": "2022-06-13T16:56:27.383Z"
   },
   {
    "duration": 210,
    "start_time": "2022-06-13T16:56:27.616Z"
   },
   {
    "duration": 6,
    "start_time": "2022-06-13T16:56:27.827Z"
   },
   {
    "duration": 7,
    "start_time": "2022-06-13T16:56:27.835Z"
   },
   {
    "duration": 5,
    "start_time": "2022-06-13T16:56:27.843Z"
   },
   {
    "duration": 7,
    "start_time": "2022-06-13T16:56:27.850Z"
   },
   {
    "duration": 5,
    "start_time": "2022-06-13T16:56:27.858Z"
   },
   {
    "duration": 4,
    "start_time": "2022-06-13T16:56:27.864Z"
   },
   {
    "duration": 2,
    "start_time": "2022-06-13T16:57:32.317Z"
   },
   {
    "duration": 134,
    "start_time": "2022-06-13T16:58:06.293Z"
   },
   {
    "duration": 4,
    "start_time": "2022-06-13T16:58:20.867Z"
   },
   {
    "duration": 5,
    "start_time": "2022-06-13T16:58:36.601Z"
   },
   {
    "duration": 8,
    "start_time": "2022-06-13T16:58:38.650Z"
   },
   {
    "duration": 2,
    "start_time": "2022-06-13T16:58:43.778Z"
   },
   {
    "duration": 13,
    "start_time": "2022-06-13T16:58:44.381Z"
   },
   {
    "duration": 15,
    "start_time": "2022-06-13T16:58:57.813Z"
   },
   {
    "duration": 3,
    "start_time": "2022-06-13T16:59:57.249Z"
   },
   {
    "duration": 9,
    "start_time": "2022-06-13T17:00:07.569Z"
   },
   {
    "duration": 19,
    "start_time": "2022-06-13T17:00:45.776Z"
   },
   {
    "duration": 126,
    "start_time": "2022-06-13T17:00:51.183Z"
   },
   {
    "duration": 10,
    "start_time": "2022-06-13T17:03:23.339Z"
   },
   {
    "duration": 22,
    "start_time": "2022-06-13T17:03:40.858Z"
   },
   {
    "duration": 22,
    "start_time": "2022-06-13T17:04:33.723Z"
   },
   {
    "duration": 6,
    "start_time": "2022-06-13T17:04:56.856Z"
   },
   {
    "duration": 3,
    "start_time": "2022-06-13T17:05:58.556Z"
   },
   {
    "duration": 3,
    "start_time": "2022-06-13T17:06:11.836Z"
   },
   {
    "duration": 22,
    "start_time": "2022-06-13T17:07:31.764Z"
   },
   {
    "duration": 6,
    "start_time": "2022-06-13T17:07:58.419Z"
   },
   {
    "duration": 10,
    "start_time": "2022-06-13T17:08:13.950Z"
   },
   {
    "duration": 9,
    "start_time": "2022-06-13T17:08:23.868Z"
   },
   {
    "duration": 27,
    "start_time": "2022-06-13T17:08:48.028Z"
   },
   {
    "duration": 4,
    "start_time": "2022-06-13T17:09:06.417Z"
   },
   {
    "duration": 4,
    "start_time": "2022-06-13T17:09:09.116Z"
   },
   {
    "duration": 4,
    "start_time": "2022-06-13T17:09:29.664Z"
   },
   {
    "duration": 13,
    "start_time": "2022-06-13T17:09:52.281Z"
   },
   {
    "duration": 3,
    "start_time": "2022-06-13T17:09:56.664Z"
   },
   {
    "duration": 5,
    "start_time": "2022-06-13T17:13:14.511Z"
   },
   {
    "duration": 4,
    "start_time": "2022-06-13T17:13:17.073Z"
   },
   {
    "duration": 4,
    "start_time": "2022-06-13T17:13:30.688Z"
   },
   {
    "duration": 4,
    "start_time": "2022-06-13T17:13:31.575Z"
   },
   {
    "duration": 12,
    "start_time": "2022-06-13T17:13:34.591Z"
   },
   {
    "duration": 3,
    "start_time": "2022-06-13T17:13:35.177Z"
   },
   {
    "duration": 1652,
    "start_time": "2022-06-13T17:13:36.506Z"
   },
   {
    "duration": 2,
    "start_time": "2022-06-13T17:14:18.944Z"
   },
   {
    "duration": 3,
    "start_time": "2022-06-13T17:14:19.334Z"
   },
   {
    "duration": 10,
    "start_time": "2022-06-13T17:14:21.189Z"
   },
   {
    "duration": 4,
    "start_time": "2022-06-13T17:14:21.685Z"
   },
   {
    "duration": 9781,
    "start_time": "2022-06-13T17:14:22.334Z"
   },
   {
    "duration": 10163,
    "start_time": "2022-06-13T17:14:39.952Z"
   },
   {
    "duration": 3,
    "start_time": "2022-06-13T17:16:03.370Z"
   },
   {
    "duration": 7224,
    "start_time": "2022-06-13T17:16:03.702Z"
   },
   {
    "duration": 3,
    "start_time": "2022-06-13T17:16:19.157Z"
   },
   {
    "duration": 3382,
    "start_time": "2022-06-13T17:16:19.802Z"
   },
   {
    "duration": 4,
    "start_time": "2022-06-13T17:16:28.601Z"
   },
   {
    "duration": 10511,
    "start_time": "2022-06-13T17:16:29.002Z"
   },
   {
    "duration": 6,
    "start_time": "2022-06-13T17:17:45.646Z"
   },
   {
    "duration": 4,
    "start_time": "2022-06-13T17:17:47.678Z"
   },
   {
    "duration": 7,
    "start_time": "2022-06-13T17:17:48.288Z"
   },
   {
    "duration": 17108,
    "start_time": "2022-06-13T17:17:48.706Z"
   },
   {
    "duration": 4,
    "start_time": "2022-06-13T17:18:05.816Z"
   },
   {
    "duration": 8,
    "start_time": "2022-06-13T17:18:05.821Z"
   },
   {
    "duration": 14975,
    "start_time": "2022-06-13T17:18:05.831Z"
   },
   {
    "duration": 32,
    "start_time": "2022-06-13T17:20:35.741Z"
   },
   {
    "duration": 9,
    "start_time": "2022-06-13T17:20:46.014Z"
   },
   {
    "duration": 30,
    "start_time": "2022-06-13T17:21:23.475Z"
   },
   {
    "duration": 2,
    "start_time": "2022-06-13T17:22:02.306Z"
   },
   {
    "duration": 5,
    "start_time": "2022-06-13T17:22:03.106Z"
   },
   {
    "duration": 34,
    "start_time": "2022-06-13T17:22:05.688Z"
   },
   {
    "duration": 35,
    "start_time": "2022-06-13T17:22:27.868Z"
   },
   {
    "duration": 15,
    "start_time": "2022-06-13T17:22:49.838Z"
   },
   {
    "duration": 5,
    "start_time": "2022-06-13T17:23:05.109Z"
   },
   {
    "duration": 14,
    "start_time": "2022-06-13T17:23:17.576Z"
   },
   {
    "duration": 6,
    "start_time": "2022-06-13T17:24:09.750Z"
   },
   {
    "duration": 13,
    "start_time": "2022-06-13T17:24:21.665Z"
   },
   {
    "duration": 5,
    "start_time": "2022-06-13T17:26:20.969Z"
   },
   {
    "duration": 1942,
    "start_time": "2022-06-13T17:30:08.362Z"
   },
   {
    "duration": 3467,
    "start_time": "2022-06-13T17:30:10.308Z"
   },
   {
    "duration": 1940,
    "start_time": "2022-06-13T17:30:13.777Z"
   },
   {
    "duration": 29,
    "start_time": "2022-06-13T17:30:15.719Z"
   },
   {
    "duration": 20,
    "start_time": "2022-06-13T17:30:15.750Z"
   },
   {
    "duration": 4,
    "start_time": "2022-06-13T17:30:15.771Z"
   },
   {
    "duration": 15,
    "start_time": "2022-06-13T17:30:15.777Z"
   },
   {
    "duration": 29,
    "start_time": "2022-06-13T17:30:15.793Z"
   },
   {
    "duration": 30,
    "start_time": "2022-06-13T17:30:15.823Z"
   },
   {
    "duration": 301,
    "start_time": "2022-06-13T17:30:15.856Z"
   },
   {
    "duration": 277,
    "start_time": "2022-06-13T17:30:16.159Z"
   },
   {
    "duration": 272,
    "start_time": "2022-06-13T17:30:16.437Z"
   },
   {
    "duration": 219,
    "start_time": "2022-06-13T17:30:16.713Z"
   },
   {
    "duration": 8,
    "start_time": "2022-06-13T17:30:16.934Z"
   },
   {
    "duration": 28,
    "start_time": "2022-06-13T17:30:16.944Z"
   },
   {
    "duration": 19,
    "start_time": "2022-06-13T17:30:16.974Z"
   },
   {
    "duration": 95,
    "start_time": "2022-06-13T17:30:16.995Z"
   },
   {
    "duration": 58,
    "start_time": "2022-06-13T17:30:17.092Z"
   },
   {
    "duration": 21,
    "start_time": "2022-06-13T17:30:17.152Z"
   },
   {
    "duration": 88,
    "start_time": "2022-06-13T17:30:17.175Z"
   },
   {
    "duration": 14,
    "start_time": "2022-06-13T17:30:17.266Z"
   },
   {
    "duration": 220,
    "start_time": "2022-06-13T17:30:17.282Z"
   },
   {
    "duration": 52,
    "start_time": "2022-06-13T17:30:17.503Z"
   },
   {
    "duration": 27,
    "start_time": "2022-06-13T17:30:17.556Z"
   },
   {
    "duration": 45,
    "start_time": "2022-06-13T17:30:17.585Z"
   },
   {
    "duration": 9,
    "start_time": "2022-06-13T17:30:17.632Z"
   },
   {
    "duration": 7,
    "start_time": "2022-06-13T17:30:17.643Z"
   },
   {
    "duration": 4,
    "start_time": "2022-06-13T17:30:17.654Z"
   },
   {
    "duration": 7,
    "start_time": "2022-06-13T17:30:17.659Z"
   },
   {
    "duration": 14,
    "start_time": "2022-06-13T17:30:17.667Z"
   },
   {
    "duration": 15,
    "start_time": "2022-06-13T17:30:17.683Z"
   },
   {
    "duration": 25,
    "start_time": "2022-06-13T17:30:17.699Z"
   },
   {
    "duration": 14,
    "start_time": "2022-06-13T17:30:17.726Z"
   },
   {
    "duration": 7,
    "start_time": "2022-06-13T17:30:17.742Z"
   },
   {
    "duration": 11,
    "start_time": "2022-06-13T17:30:17.751Z"
   },
   {
    "duration": 7,
    "start_time": "2022-06-13T17:30:17.764Z"
   },
   {
    "duration": 4,
    "start_time": "2022-06-13T17:30:17.773Z"
   },
   {
    "duration": 19118,
    "start_time": "2022-06-13T17:30:17.779Z"
   },
   {
    "duration": 3,
    "start_time": "2022-06-13T17:30:36.901Z"
   },
   {
    "duration": 7,
    "start_time": "2022-06-13T17:30:36.905Z"
   },
   {
    "duration": 26,
    "start_time": "2022-06-13T17:30:36.913Z"
   },
   {
    "duration": 8,
    "start_time": "2022-06-13T17:30:36.941Z"
   },
   {
    "duration": 43173,
    "start_time": "2022-06-13T17:30:36.950Z"
   },
   {
    "duration": 6,
    "start_time": "2022-06-13T17:31:20.125Z"
   },
   {
    "duration": 7,
    "start_time": "2022-06-13T17:31:20.133Z"
   },
   {
    "duration": 30150,
    "start_time": "2022-06-13T17:31:20.142Z"
   },
   {
    "duration": 76,
    "start_time": "2022-06-13T19:47:17.672Z"
   },
   {
    "duration": 13594,
    "start_time": "2022-06-13T19:47:53.127Z"
   },
   {
    "duration": 3958,
    "start_time": "2022-06-13T19:48:06.723Z"
   },
   {
    "duration": 26778,
    "start_time": "2022-06-13T19:48:10.683Z"
   },
   {
    "duration": 110,
    "start_time": "2022-06-13T19:48:37.463Z"
   },
   {
    "duration": 52,
    "start_time": "2022-06-13T19:48:37.579Z"
   },
   {
    "duration": 72,
    "start_time": "2022-06-13T19:48:37.643Z"
   },
   {
    "duration": 143,
    "start_time": "2022-06-13T19:48:37.727Z"
   },
   {
    "duration": 82,
    "start_time": "2022-06-13T19:48:37.875Z"
   },
   {
    "duration": 50,
    "start_time": "2022-06-13T19:48:37.962Z"
   },
   {
    "duration": 354,
    "start_time": "2022-06-13T19:48:38.017Z"
   },
   {
    "duration": 297,
    "start_time": "2022-06-13T19:48:38.376Z"
   },
   {
    "duration": 313,
    "start_time": "2022-06-13T19:48:38.678Z"
   },
   {
    "duration": 283,
    "start_time": "2022-06-13T19:48:38.995Z"
   },
   {
    "duration": 9,
    "start_time": "2022-06-13T19:48:39.284Z"
   },
   {
    "duration": 14,
    "start_time": "2022-06-13T19:48:39.298Z"
   },
   {
    "duration": 13,
    "start_time": "2022-06-13T19:48:39.317Z"
   },
   {
    "duration": 77,
    "start_time": "2022-06-13T19:48:39.335Z"
   },
   {
    "duration": 308,
    "start_time": "2022-06-13T19:48:39.423Z"
   },
   {
    "duration": 105,
    "start_time": "2022-06-13T19:48:39.733Z"
   },
   {
    "duration": 188,
    "start_time": "2022-06-13T19:48:39.845Z"
   },
   {
    "duration": 122,
    "start_time": "2022-06-13T19:48:40.047Z"
   },
   {
    "duration": 197,
    "start_time": "2022-06-13T19:48:40.178Z"
   },
   {
    "duration": 213,
    "start_time": "2022-06-13T19:48:40.384Z"
   },
   {
    "duration": 148,
    "start_time": "2022-06-13T19:48:40.603Z"
   },
   {
    "duration": 99,
    "start_time": "2022-06-13T19:48:40.756Z"
   },
   {
    "duration": 27,
    "start_time": "2022-06-13T19:48:40.860Z"
   },
   {
    "duration": 92,
    "start_time": "2022-06-13T19:48:40.890Z"
   },
   {
    "duration": 30,
    "start_time": "2022-06-13T19:48:40.984Z"
   },
   {
    "duration": 101,
    "start_time": "2022-06-13T19:48:41.016Z"
   },
   {
    "duration": 139,
    "start_time": "2022-06-13T19:48:41.119Z"
   },
   {
    "duration": 838,
    "start_time": "2022-06-13T19:48:41.260Z"
   },
   {
    "duration": 27,
    "start_time": "2022-06-13T19:48:42.100Z"
   },
   {
    "duration": 207,
    "start_time": "2022-06-13T19:48:42.129Z"
   },
   {
    "duration": 190,
    "start_time": "2022-06-13T19:48:42.345Z"
   },
   {
    "duration": 193,
    "start_time": "2022-06-13T19:48:42.537Z"
   },
   {
    "duration": 611,
    "start_time": "2022-06-13T19:48:42.732Z"
   },
   {
    "duration": 12,
    "start_time": "2022-06-13T19:48:43.345Z"
   },
   {
    "duration": 26,
    "start_time": "2022-06-13T19:50:05.605Z"
   },
   {
    "duration": 73,
    "start_time": "2022-06-13T19:50:05.633Z"
   },
   {
    "duration": 54,
    "start_time": "2022-06-13T19:50:05.720Z"
   },
   {
    "duration": 91,
    "start_time": "2022-06-13T19:50:05.779Z"
   },
   {
    "duration": 6289,
    "start_time": "2022-06-13T19:56:31.682Z"
   },
   {
    "duration": 2527,
    "start_time": "2022-06-13T19:56:37.974Z"
   },
   {
    "duration": 9646,
    "start_time": "2022-06-13T19:56:40.513Z"
   },
   {
    "duration": 92,
    "start_time": "2022-06-13T19:56:50.162Z"
   },
   {
    "duration": 18,
    "start_time": "2022-06-13T19:56:50.256Z"
   },
   {
    "duration": 4,
    "start_time": "2022-06-13T19:56:50.276Z"
   },
   {
    "duration": 38,
    "start_time": "2022-06-13T19:56:50.282Z"
   },
   {
    "duration": 45,
    "start_time": "2022-06-13T19:56:50.332Z"
   },
   {
    "duration": 35,
    "start_time": "2022-06-13T19:56:50.379Z"
   },
   {
    "duration": 427,
    "start_time": "2022-06-13T19:56:50.417Z"
   },
   {
    "duration": 298,
    "start_time": "2022-06-13T19:56:50.846Z"
   },
   {
    "duration": 334,
    "start_time": "2022-06-13T19:56:51.146Z"
   },
   {
    "duration": 364,
    "start_time": "2022-06-13T19:56:51.485Z"
   },
   {
    "duration": 6,
    "start_time": "2022-06-13T19:56:51.852Z"
   },
   {
    "duration": 6,
    "start_time": "2022-06-13T19:56:51.860Z"
   },
   {
    "duration": 51,
    "start_time": "2022-06-13T19:56:51.873Z"
   },
   {
    "duration": 59,
    "start_time": "2022-06-13T19:56:51.927Z"
   },
   {
    "duration": 76,
    "start_time": "2022-06-13T19:56:51.988Z"
   },
   {
    "duration": 6,
    "start_time": "2022-06-13T19:56:52.066Z"
   },
   {
    "duration": 7,
    "start_time": "2022-06-13T19:56:52.075Z"
   },
   {
    "duration": 23,
    "start_time": "2022-06-13T19:56:52.083Z"
   },
   {
    "duration": 257,
    "start_time": "2022-06-13T19:56:52.109Z"
   },
   {
    "duration": 70,
    "start_time": "2022-06-13T19:56:52.369Z"
   },
   {
    "duration": 29,
    "start_time": "2022-06-13T19:56:52.442Z"
   },
   {
    "duration": 4,
    "start_time": "2022-06-13T19:56:52.473Z"
   },
   {
    "duration": 7,
    "start_time": "2022-06-13T19:56:52.479Z"
   },
   {
    "duration": 28,
    "start_time": "2022-06-13T19:56:52.487Z"
   },
   {
    "duration": 28,
    "start_time": "2022-06-13T19:56:52.523Z"
   },
   {
    "duration": 5,
    "start_time": "2022-06-13T19:56:52.552Z"
   },
   {
    "duration": 16,
    "start_time": "2022-06-13T19:56:52.559Z"
   },
   {
    "duration": 181,
    "start_time": "2022-06-13T19:56:52.577Z"
   },
   {
    "duration": 5,
    "start_time": "2022-06-13T19:56:52.760Z"
   },
   {
    "duration": 12,
    "start_time": "2022-06-13T19:56:52.767Z"
   },
   {
    "duration": 2,
    "start_time": "2022-06-13T19:56:52.782Z"
   },
   {
    "duration": 15,
    "start_time": "2022-06-13T19:56:52.786Z"
   },
   {
    "duration": 148,
    "start_time": "2022-06-13T19:56:52.803Z"
   },
   {
    "duration": 7,
    "start_time": "2022-06-13T19:56:52.953Z"
   },
   {
    "duration": 56033,
    "start_time": "2022-06-13T19:56:52.962Z"
   },
   {
    "duration": 9,
    "start_time": "2022-06-13T19:57:48.998Z"
   },
   {
    "duration": 60,
    "start_time": "2022-06-13T19:57:49.008Z"
   },
   {
    "duration": 11,
    "start_time": "2022-06-13T19:57:49.072Z"
   },
   {
    "duration": 173,
    "start_time": "2022-06-13T19:57:49.085Z"
   },
   {
    "duration": 5873,
    "start_time": "2022-06-13T19:58:37.506Z"
   },
   {
    "duration": 2908,
    "start_time": "2022-06-13T19:58:43.381Z"
   },
   {
    "duration": 8082,
    "start_time": "2022-06-13T19:58:46.292Z"
   },
   {
    "duration": 88,
    "start_time": "2022-06-13T19:58:54.379Z"
   },
   {
    "duration": 16,
    "start_time": "2022-06-13T19:58:54.470Z"
   },
   {
    "duration": 65,
    "start_time": "2022-06-13T19:58:54.488Z"
   },
   {
    "duration": 25,
    "start_time": "2022-06-13T19:58:54.555Z"
   },
   {
    "duration": 21,
    "start_time": "2022-06-13T19:58:54.582Z"
   },
   {
    "duration": 80,
    "start_time": "2022-06-13T19:58:54.605Z"
   },
   {
    "duration": 331,
    "start_time": "2022-06-13T19:58:54.687Z"
   },
   {
    "duration": 268,
    "start_time": "2022-06-13T19:58:55.021Z"
   },
   {
    "duration": 298,
    "start_time": "2022-06-13T19:58:55.291Z"
   },
   {
    "duration": 309,
    "start_time": "2022-06-13T19:58:55.598Z"
   },
   {
    "duration": 6,
    "start_time": "2022-06-13T19:58:55.936Z"
   },
   {
    "duration": 26,
    "start_time": "2022-06-13T19:58:55.949Z"
   },
   {
    "duration": 26,
    "start_time": "2022-06-13T19:58:55.978Z"
   },
   {
    "duration": 52,
    "start_time": "2022-06-13T19:58:56.014Z"
   },
   {
    "duration": 144,
    "start_time": "2022-06-13T19:58:56.068Z"
   },
   {
    "duration": 63,
    "start_time": "2022-06-13T19:58:56.214Z"
   },
   {
    "duration": 12,
    "start_time": "2022-06-13T19:58:56.279Z"
   },
   {
    "duration": 33,
    "start_time": "2022-06-13T19:58:56.293Z"
   },
   {
    "duration": 71,
    "start_time": "2022-06-13T19:58:56.329Z"
   },
   {
    "duration": 73,
    "start_time": "2022-06-13T19:58:56.402Z"
   },
   {
    "duration": 10,
    "start_time": "2022-06-13T19:58:56.478Z"
   },
   {
    "duration": 49,
    "start_time": "2022-06-13T19:58:56.490Z"
   },
   {
    "duration": 29,
    "start_time": "2022-06-13T19:58:56.541Z"
   },
   {
    "duration": 14,
    "start_time": "2022-06-13T19:58:56.572Z"
   },
   {
    "duration": 78,
    "start_time": "2022-06-13T19:58:56.589Z"
   },
   {
    "duration": 13,
    "start_time": "2022-06-13T19:58:56.669Z"
   },
   {
    "duration": 25,
    "start_time": "2022-06-13T19:58:56.685Z"
   },
   {
    "duration": 46,
    "start_time": "2022-06-13T19:58:56.712Z"
   },
   {
    "duration": 16,
    "start_time": "2022-06-13T19:58:56.763Z"
   },
   {
    "duration": 63,
    "start_time": "2022-06-13T19:58:56.781Z"
   },
   {
    "duration": 3,
    "start_time": "2022-06-13T19:58:56.852Z"
   },
   {
    "duration": 18,
    "start_time": "2022-06-13T19:58:56.858Z"
   },
   {
    "duration": 67,
    "start_time": "2022-06-13T19:58:56.878Z"
   },
   {
    "duration": 29,
    "start_time": "2022-06-13T19:58:56.956Z"
   },
   {
    "duration": 2559,
    "start_time": "2022-06-13T19:58:56.987Z"
   },
   {
    "duration": 2,
    "start_time": "2022-06-13T19:58:59.549Z"
   },
   {
    "duration": 18,
    "start_time": "2022-06-13T19:58:59.555Z"
   },
   {
    "duration": 8,
    "start_time": "2022-06-13T19:58:59.576Z"
   },
   {
    "duration": 75,
    "start_time": "2022-06-13T19:58:59.586Z"
   },
   {
    "duration": 182213,
    "start_time": "2022-06-13T19:58:59.663Z"
   },
   {
    "duration": 6,
    "start_time": "2022-06-13T20:02:01.878Z"
   },
   {
    "duration": 105,
    "start_time": "2022-06-13T20:02:01.885Z"
   },
   {
    "duration": 3406,
    "start_time": "2022-06-13T20:02:02.008Z"
   },
   {
    "duration": 2159,
    "start_time": "2022-06-13T22:11:14.378Z"
   },
   {
    "duration": 2229,
    "start_time": "2022-06-13T22:11:16.542Z"
   },
   {
    "duration": 5608,
    "start_time": "2022-06-13T22:11:18.773Z"
   },
   {
    "duration": 0,
    "start_time": "2022-06-13T22:11:24.385Z"
   },
   {
    "duration": 0,
    "start_time": "2022-06-13T22:11:24.394Z"
   },
   {
    "duration": 0,
    "start_time": "2022-06-13T22:11:24.394Z"
   },
   {
    "duration": 0,
    "start_time": "2022-06-13T22:11:24.395Z"
   },
   {
    "duration": 0,
    "start_time": "2022-06-13T22:11:24.402Z"
   },
   {
    "duration": 0,
    "start_time": "2022-06-13T22:11:24.403Z"
   },
   {
    "duration": 0,
    "start_time": "2022-06-13T22:11:24.403Z"
   },
   {
    "duration": 0,
    "start_time": "2022-06-13T22:11:24.404Z"
   },
   {
    "duration": 0,
    "start_time": "2022-06-13T22:11:24.405Z"
   },
   {
    "duration": 0,
    "start_time": "2022-06-13T22:11:24.405Z"
   },
   {
    "duration": 0,
    "start_time": "2022-06-13T22:11:24.406Z"
   },
   {
    "duration": 0,
    "start_time": "2022-06-13T22:11:24.407Z"
   },
   {
    "duration": 0,
    "start_time": "2022-06-13T22:11:24.407Z"
   },
   {
    "duration": 0,
    "start_time": "2022-06-13T22:11:24.409Z"
   },
   {
    "duration": 0,
    "start_time": "2022-06-13T22:11:24.410Z"
   },
   {
    "duration": 0,
    "start_time": "2022-06-13T22:11:24.411Z"
   },
   {
    "duration": 0,
    "start_time": "2022-06-13T22:11:24.412Z"
   },
   {
    "duration": 0,
    "start_time": "2022-06-13T22:11:24.413Z"
   },
   {
    "duration": 0,
    "start_time": "2022-06-13T22:11:24.414Z"
   },
   {
    "duration": 0,
    "start_time": "2022-06-13T22:11:24.415Z"
   },
   {
    "duration": 0,
    "start_time": "2022-06-13T22:11:24.416Z"
   },
   {
    "duration": 0,
    "start_time": "2022-06-13T22:11:24.417Z"
   },
   {
    "duration": 0,
    "start_time": "2022-06-13T22:11:24.418Z"
   },
   {
    "duration": 0,
    "start_time": "2022-06-13T22:11:24.419Z"
   },
   {
    "duration": 0,
    "start_time": "2022-06-13T22:11:24.421Z"
   },
   {
    "duration": 0,
    "start_time": "2022-06-13T22:11:24.421Z"
   },
   {
    "duration": 0,
    "start_time": "2022-06-13T22:11:24.422Z"
   },
   {
    "duration": 0,
    "start_time": "2022-06-13T22:11:24.423Z"
   },
   {
    "duration": 0,
    "start_time": "2022-06-13T22:11:24.424Z"
   },
   {
    "duration": 0,
    "start_time": "2022-06-13T22:11:24.425Z"
   },
   {
    "duration": 0,
    "start_time": "2022-06-13T22:11:24.426Z"
   },
   {
    "duration": 0,
    "start_time": "2022-06-13T22:11:24.428Z"
   },
   {
    "duration": 0,
    "start_time": "2022-06-13T22:11:24.429Z"
   },
   {
    "duration": 0,
    "start_time": "2022-06-13T22:11:24.429Z"
   },
   {
    "duration": 0,
    "start_time": "2022-06-13T22:11:24.430Z"
   },
   {
    "duration": 0,
    "start_time": "2022-06-13T22:11:24.431Z"
   },
   {
    "duration": 0,
    "start_time": "2022-06-13T22:11:24.432Z"
   },
   {
    "duration": 0,
    "start_time": "2022-06-13T22:11:24.433Z"
   },
   {
    "duration": 0,
    "start_time": "2022-06-13T22:11:24.434Z"
   },
   {
    "duration": 0,
    "start_time": "2022-06-13T22:11:24.435Z"
   },
   {
    "duration": 0,
    "start_time": "2022-06-13T22:11:24.437Z"
   },
   {
    "duration": 0,
    "start_time": "2022-06-13T22:11:24.437Z"
   },
   {
    "duration": 0,
    "start_time": "2022-06-13T22:11:24.438Z"
   },
   {
    "duration": 2140,
    "start_time": "2022-06-13T22:11:34.328Z"
   },
   {
    "duration": 2203,
    "start_time": "2022-06-13T22:11:36.471Z"
   },
   {
    "duration": 5349,
    "start_time": "2022-06-13T22:11:38.676Z"
   },
   {
    "duration": 0,
    "start_time": "2022-06-13T22:11:44.031Z"
   },
   {
    "duration": 0,
    "start_time": "2022-06-13T22:11:44.033Z"
   },
   {
    "duration": 0,
    "start_time": "2022-06-13T22:11:44.035Z"
   },
   {
    "duration": 0,
    "start_time": "2022-06-13T22:11:44.036Z"
   },
   {
    "duration": 0,
    "start_time": "2022-06-13T22:11:44.037Z"
   },
   {
    "duration": 0,
    "start_time": "2022-06-13T22:11:44.038Z"
   },
   {
    "duration": 0,
    "start_time": "2022-06-13T22:11:44.039Z"
   },
   {
    "duration": 0,
    "start_time": "2022-06-13T22:11:44.040Z"
   },
   {
    "duration": 0,
    "start_time": "2022-06-13T22:11:44.041Z"
   },
   {
    "duration": 0,
    "start_time": "2022-06-13T22:11:44.042Z"
   },
   {
    "duration": 0,
    "start_time": "2022-06-13T22:11:44.043Z"
   },
   {
    "duration": 0,
    "start_time": "2022-06-13T22:11:44.044Z"
   },
   {
    "duration": 0,
    "start_time": "2022-06-13T22:11:44.045Z"
   },
   {
    "duration": 0,
    "start_time": "2022-06-13T22:11:44.045Z"
   },
   {
    "duration": 0,
    "start_time": "2022-06-13T22:11:44.046Z"
   },
   {
    "duration": 0,
    "start_time": "2022-06-13T22:11:44.047Z"
   },
   {
    "duration": 0,
    "start_time": "2022-06-13T22:11:44.047Z"
   },
   {
    "duration": 0,
    "start_time": "2022-06-13T22:11:44.048Z"
   },
   {
    "duration": 0,
    "start_time": "2022-06-13T22:11:44.049Z"
   },
   {
    "duration": 0,
    "start_time": "2022-06-13T22:11:44.050Z"
   },
   {
    "duration": 0,
    "start_time": "2022-06-13T22:11:44.051Z"
   },
   {
    "duration": 0,
    "start_time": "2022-06-13T22:11:44.051Z"
   },
   {
    "duration": 0,
    "start_time": "2022-06-13T22:11:44.054Z"
   },
   {
    "duration": 0,
    "start_time": "2022-06-13T22:11:44.055Z"
   },
   {
    "duration": 0,
    "start_time": "2022-06-13T22:11:44.058Z"
   },
   {
    "duration": 0,
    "start_time": "2022-06-13T22:11:44.059Z"
   },
   {
    "duration": 0,
    "start_time": "2022-06-13T22:11:44.065Z"
   },
   {
    "duration": 0,
    "start_time": "2022-06-13T22:11:44.066Z"
   },
   {
    "duration": 0,
    "start_time": "2022-06-13T22:11:44.068Z"
   },
   {
    "duration": 0,
    "start_time": "2022-06-13T22:11:44.095Z"
   },
   {
    "duration": 0,
    "start_time": "2022-06-13T22:11:44.097Z"
   },
   {
    "duration": 0,
    "start_time": "2022-06-13T22:11:44.104Z"
   },
   {
    "duration": 0,
    "start_time": "2022-06-13T22:11:44.105Z"
   },
   {
    "duration": 0,
    "start_time": "2022-06-13T22:11:44.106Z"
   },
   {
    "duration": 0,
    "start_time": "2022-06-13T22:11:44.110Z"
   },
   {
    "duration": 0,
    "start_time": "2022-06-13T22:11:44.111Z"
   },
   {
    "duration": 0,
    "start_time": "2022-06-13T22:11:44.112Z"
   },
   {
    "duration": 0,
    "start_time": "2022-06-13T22:11:44.113Z"
   },
   {
    "duration": 0,
    "start_time": "2022-06-13T22:11:44.114Z"
   },
   {
    "duration": 0,
    "start_time": "2022-06-13T22:11:44.131Z"
   },
   {
    "duration": 0,
    "start_time": "2022-06-13T22:11:44.133Z"
   },
   {
    "duration": 0,
    "start_time": "2022-06-13T22:11:44.133Z"
   },
   {
    "duration": 0,
    "start_time": "2022-06-13T22:11:44.134Z"
   },
   {
    "duration": 2163,
    "start_time": "2022-06-13T22:12:29.020Z"
   },
   {
    "duration": 1185,
    "start_time": "2022-06-13T22:12:43.647Z"
   },
   {
    "duration": 1223,
    "start_time": "2022-06-13T22:12:57.316Z"
   },
   {
    "duration": 31,
    "start_time": "2022-06-13T22:13:04.966Z"
   },
   {
    "duration": 52,
    "start_time": "2022-06-13T22:13:42.782Z"
   },
   {
    "duration": 40,
    "start_time": "2022-06-13T22:13:57.591Z"
   },
   {
    "duration": 63,
    "start_time": "2022-06-13T22:14:40.668Z"
   },
   {
    "duration": 27,
    "start_time": "2022-06-13T22:14:44.603Z"
   },
   {
    "duration": 3,
    "start_time": "2022-06-13T22:15:14.559Z"
   },
   {
    "duration": 5,
    "start_time": "2022-06-13T22:16:45.818Z"
   },
   {
    "duration": 7,
    "start_time": "2022-06-13T22:16:59.555Z"
   },
   {
    "duration": 2032,
    "start_time": "2022-06-13T22:17:17.311Z"
   },
   {
    "duration": 2074,
    "start_time": "2022-06-13T22:17:19.345Z"
   },
   {
    "duration": 3564,
    "start_time": "2022-06-13T22:17:21.420Z"
   },
   {
    "duration": 2,
    "start_time": "2022-06-13T22:17:24.986Z"
   },
   {
    "duration": 70,
    "start_time": "2022-06-13T22:17:24.997Z"
   },
   {
    "duration": 13,
    "start_time": "2022-06-13T22:17:25.069Z"
   },
   {
    "duration": 3,
    "start_time": "2022-06-13T22:17:25.083Z"
   },
   {
    "duration": 53,
    "start_time": "2022-06-13T22:17:25.087Z"
   },
   {
    "duration": 13,
    "start_time": "2022-06-13T22:17:25.141Z"
   },
   {
    "duration": 21,
    "start_time": "2022-06-13T22:17:25.156Z"
   },
   {
    "duration": 288,
    "start_time": "2022-06-13T22:17:25.179Z"
   },
   {
    "duration": 273,
    "start_time": "2022-06-13T22:17:25.469Z"
   },
   {
    "duration": 461,
    "start_time": "2022-06-13T22:17:25.744Z"
   },
   {
    "duration": 281,
    "start_time": "2022-06-13T22:17:26.208Z"
   },
   {
    "duration": 17,
    "start_time": "2022-06-13T22:17:26.490Z"
   },
   {
    "duration": 34,
    "start_time": "2022-06-13T22:17:26.513Z"
   },
   {
    "duration": 5,
    "start_time": "2022-06-13T22:17:26.549Z"
   },
   {
    "duration": 10,
    "start_time": "2022-06-13T22:17:26.556Z"
   },
   {
    "duration": 6,
    "start_time": "2022-06-13T22:17:26.567Z"
   },
   {
    "duration": 7,
    "start_time": "2022-06-13T22:17:26.574Z"
   },
   {
    "duration": 53,
    "start_time": "2022-06-13T22:17:26.583Z"
   },
   {
    "duration": 4,
    "start_time": "2022-06-13T22:17:26.637Z"
   },
   {
    "duration": 24,
    "start_time": "2022-06-13T22:17:26.643Z"
   },
   {
    "duration": 38,
    "start_time": "2022-06-13T22:17:26.669Z"
   },
   {
    "duration": 30,
    "start_time": "2022-06-13T22:17:26.716Z"
   },
   {
    "duration": 4,
    "start_time": "2022-06-13T22:17:26.747Z"
   },
   {
    "duration": 5,
    "start_time": "2022-06-13T22:17:26.753Z"
   },
   {
    "duration": 7,
    "start_time": "2022-06-13T22:17:26.760Z"
   },
   {
    "duration": 3,
    "start_time": "2022-06-13T22:17:26.769Z"
   },
   {
    "duration": 6,
    "start_time": "2022-06-13T22:17:26.774Z"
   },
   {
    "duration": 21,
    "start_time": "2022-06-13T22:17:26.781Z"
   },
   {
    "duration": 38,
    "start_time": "2022-06-13T22:17:26.804Z"
   },
   {
    "duration": 5,
    "start_time": "2022-06-13T22:17:26.844Z"
   },
   {
    "duration": 6,
    "start_time": "2022-06-13T22:17:26.851Z"
   },
   {
    "duration": 6,
    "start_time": "2022-06-13T22:17:26.858Z"
   },
   {
    "duration": 2,
    "start_time": "2022-06-13T22:18:24.485Z"
   },
   {
    "duration": 4,
    "start_time": "2022-06-13T22:18:51.772Z"
   },
   {
    "duration": 428,
    "start_time": "2022-06-13T22:19:12.611Z"
   },
   {
    "duration": 3,
    "start_time": "2022-06-13T22:20:00.488Z"
   },
   {
    "duration": 28,
    "start_time": "2022-06-13T22:20:02.134Z"
   },
   {
    "duration": 13,
    "start_time": "2022-06-13T22:20:28.682Z"
   },
   {
    "duration": 121,
    "start_time": "2022-06-13T22:21:09.919Z"
   },
   {
    "duration": 20,
    "start_time": "2022-06-13T22:25:06.947Z"
   },
   {
    "duration": 19,
    "start_time": "2022-06-13T22:26:00.981Z"
   },
   {
    "duration": 20,
    "start_time": "2022-06-13T22:26:36.824Z"
   },
   {
    "duration": 7,
    "start_time": "2022-06-13T22:29:03.688Z"
   },
   {
    "duration": 98,
    "start_time": "2022-06-13T22:29:07.589Z"
   },
   {
    "duration": 315,
    "start_time": "2022-06-13T22:30:13.736Z"
   },
   {
    "duration": 16,
    "start_time": "2022-06-13T22:30:41.914Z"
   },
   {
    "duration": 72,
    "start_time": "2022-06-13T22:30:42.228Z"
   },
   {
    "duration": 11,
    "start_time": "2022-06-13T22:30:50.698Z"
   },
   {
    "duration": 88,
    "start_time": "2022-06-13T22:30:51.349Z"
   },
   {
    "duration": 5,
    "start_time": "2022-06-13T22:31:31.272Z"
   },
   {
    "duration": 9,
    "start_time": "2022-06-13T22:31:45.424Z"
   },
   {
    "duration": 5,
    "start_time": "2022-06-13T22:31:46.914Z"
   },
   {
    "duration": 31,
    "start_time": "2022-06-13T22:33:31.476Z"
   },
   {
    "duration": 29,
    "start_time": "2022-06-13T22:34:43.320Z"
   },
   {
    "duration": 17,
    "start_time": "2022-06-13T22:39:16.116Z"
   },
   {
    "duration": 30,
    "start_time": "2022-06-13T22:39:23.775Z"
   },
   {
    "duration": 11,
    "start_time": "2022-06-13T22:40:25.450Z"
   },
   {
    "duration": 35,
    "start_time": "2022-06-13T22:41:04.747Z"
   },
   {
    "duration": 4,
    "start_time": "2022-06-13T22:44:44.853Z"
   },
   {
    "duration": 4,
    "start_time": "2022-06-13T22:45:35.791Z"
   },
   {
    "duration": 16,
    "start_time": "2022-06-13T22:53:15.047Z"
   },
   {
    "duration": 18,
    "start_time": "2022-06-13T22:55:37.979Z"
   },
   {
    "duration": 3,
    "start_time": "2022-06-13T22:55:46.330Z"
   },
   {
    "duration": 13247,
    "start_time": "2022-06-13T22:55:47.777Z"
   },
   {
    "duration": 3,
    "start_time": "2022-06-13T22:56:13.024Z"
   },
   {
    "duration": 13655,
    "start_time": "2022-06-13T22:56:13.633Z"
   },
   {
    "duration": 3,
    "start_time": "2022-06-13T23:04:28.904Z"
   },
   {
    "duration": 39,
    "start_time": "2022-06-13T23:07:18.387Z"
   },
   {
    "duration": 3,
    "start_time": "2022-06-13T23:09:26.763Z"
   },
   {
    "duration": 28,
    "start_time": "2022-06-13T23:09:29.646Z"
   },
   {
    "duration": 31,
    "start_time": "2022-06-13T23:12:14.754Z"
   },
   {
    "duration": 48,
    "start_time": "2022-06-13T23:12:23.363Z"
   },
   {
    "duration": 109,
    "start_time": "2022-06-13T23:13:08.718Z"
   },
   {
    "duration": 193,
    "start_time": "2022-06-13T23:13:28.959Z"
   },
   {
    "duration": 56,
    "start_time": "2022-06-13T23:14:16.270Z"
   },
   {
    "duration": 48,
    "start_time": "2022-06-13T23:14:28.115Z"
   },
   {
    "duration": 3,
    "start_time": "2022-06-13T23:14:59.059Z"
   },
   {
    "duration": 1975,
    "start_time": "2022-06-13T23:15:41.154Z"
   },
   {
    "duration": 1978,
    "start_time": "2022-06-13T23:15:43.131Z"
   },
   {
    "duration": 3230,
    "start_time": "2022-06-13T23:15:45.113Z"
   },
   {
    "duration": 3,
    "start_time": "2022-06-13T23:15:48.345Z"
   },
   {
    "duration": 32,
    "start_time": "2022-06-13T23:15:48.349Z"
   },
   {
    "duration": 23,
    "start_time": "2022-06-13T23:15:48.382Z"
   },
   {
    "duration": 20,
    "start_time": "2022-06-13T23:15:48.406Z"
   },
   {
    "duration": 12,
    "start_time": "2022-06-13T23:15:48.427Z"
   },
   {
    "duration": 11,
    "start_time": "2022-06-13T23:15:48.441Z"
   },
   {
    "duration": 22,
    "start_time": "2022-06-13T23:15:48.454Z"
   },
   {
    "duration": 250,
    "start_time": "2022-06-13T23:15:48.477Z"
   },
   {
    "duration": 213,
    "start_time": "2022-06-13T23:15:48.729Z"
   },
   {
    "duration": 379,
    "start_time": "2022-06-13T23:15:48.943Z"
   },
   {
    "duration": 209,
    "start_time": "2022-06-13T23:15:49.323Z"
   },
   {
    "duration": 6,
    "start_time": "2022-06-13T23:15:49.534Z"
   },
   {
    "duration": 7,
    "start_time": "2022-06-13T23:15:49.542Z"
   },
   {
    "duration": 5,
    "start_time": "2022-06-13T23:15:49.550Z"
   },
   {
    "duration": 11,
    "start_time": "2022-06-13T23:15:49.557Z"
   },
   {
    "duration": 41,
    "start_time": "2022-06-13T23:15:49.570Z"
   },
   {
    "duration": 4,
    "start_time": "2022-06-13T23:15:49.618Z"
   },
   {
    "duration": 5,
    "start_time": "2022-06-13T23:15:49.624Z"
   },
   {
    "duration": 3,
    "start_time": "2022-06-13T23:15:49.631Z"
   },
   {
    "duration": 19,
    "start_time": "2022-06-13T23:15:49.636Z"
   },
   {
    "duration": 21,
    "start_time": "2022-06-13T23:15:49.656Z"
   },
   {
    "duration": 5,
    "start_time": "2022-06-13T23:15:49.678Z"
   },
   {
    "duration": 4,
    "start_time": "2022-06-13T23:15:49.685Z"
   },
   {
    "duration": 37,
    "start_time": "2022-06-13T23:15:49.690Z"
   },
   {
    "duration": 4,
    "start_time": "2022-06-13T23:15:49.729Z"
   },
   {
    "duration": 6,
    "start_time": "2022-06-13T23:15:49.734Z"
   },
   {
    "duration": 15,
    "start_time": "2022-06-13T23:15:49.742Z"
   },
   {
    "duration": 6,
    "start_time": "2022-06-13T23:15:49.758Z"
   },
   {
    "duration": 7,
    "start_time": "2022-06-13T23:15:49.765Z"
   },
   {
    "duration": 7,
    "start_time": "2022-06-13T23:15:49.773Z"
   },
   {
    "duration": 5,
    "start_time": "2022-06-13T23:15:49.781Z"
   },
   {
    "duration": 30,
    "start_time": "2022-06-13T23:15:49.787Z"
   },
   {
    "duration": 8,
    "start_time": "2022-06-13T23:15:49.819Z"
   },
   {
    "duration": 8,
    "start_time": "2022-06-13T23:15:49.828Z"
   },
   {
    "duration": 7,
    "start_time": "2022-06-13T23:15:49.837Z"
   },
   {
    "duration": 13057,
    "start_time": "2022-06-13T23:15:49.846Z"
   },
   {
    "duration": 4,
    "start_time": "2022-06-13T23:16:02.908Z"
   },
   {
    "duration": 21,
    "start_time": "2022-06-13T23:16:02.913Z"
   },
   {
    "duration": 8,
    "start_time": "2022-06-13T23:16:02.935Z"
   },
   {
    "duration": 5,
    "start_time": "2022-06-13T23:16:02.945Z"
   },
   {
    "duration": 1945,
    "start_time": "2022-06-13T23:18:38.974Z"
   },
   {
    "duration": 1935,
    "start_time": "2022-06-13T23:18:40.921Z"
   },
   {
    "duration": 3233,
    "start_time": "2022-06-13T23:18:42.858Z"
   },
   {
    "duration": 2,
    "start_time": "2022-06-13T23:18:46.093Z"
   },
   {
    "duration": 37,
    "start_time": "2022-06-13T23:18:46.098Z"
   },
   {
    "duration": 12,
    "start_time": "2022-06-13T23:18:46.137Z"
   },
   {
    "duration": 3,
    "start_time": "2022-06-13T23:18:46.151Z"
   },
   {
    "duration": 10,
    "start_time": "2022-06-13T23:18:46.155Z"
   },
   {
    "duration": 13,
    "start_time": "2022-06-13T23:18:46.166Z"
   },
   {
    "duration": 31,
    "start_time": "2022-06-13T23:18:46.181Z"
   },
   {
    "duration": 252,
    "start_time": "2022-06-13T23:18:46.217Z"
   },
   {
    "duration": 250,
    "start_time": "2022-06-13T23:18:46.471Z"
   },
   {
    "duration": 405,
    "start_time": "2022-06-13T23:18:46.723Z"
   },
   {
    "duration": 209,
    "start_time": "2022-06-13T23:18:47.130Z"
   },
   {
    "duration": 5,
    "start_time": "2022-06-13T23:18:47.341Z"
   },
   {
    "duration": 8,
    "start_time": "2022-06-13T23:18:47.348Z"
   },
   {
    "duration": 8,
    "start_time": "2022-06-13T23:18:47.357Z"
   },
   {
    "duration": 6,
    "start_time": "2022-06-13T23:18:47.366Z"
   },
   {
    "duration": 19,
    "start_time": "2022-06-13T23:18:47.373Z"
   },
   {
    "duration": 7,
    "start_time": "2022-06-13T23:18:47.395Z"
   },
   {
    "duration": 21,
    "start_time": "2022-06-13T23:18:47.407Z"
   },
   {
    "duration": 4,
    "start_time": "2022-06-13T23:18:47.429Z"
   },
   {
    "duration": 20,
    "start_time": "2022-06-13T23:18:47.435Z"
   },
   {
    "duration": 31,
    "start_time": "2022-06-13T23:18:47.456Z"
   },
   {
    "duration": 12,
    "start_time": "2022-06-13T23:18:47.488Z"
   },
   {
    "duration": 25,
    "start_time": "2022-06-13T23:18:47.503Z"
   },
   {
    "duration": 6,
    "start_time": "2022-06-13T23:18:47.529Z"
   },
   {
    "duration": 4,
    "start_time": "2022-06-13T23:18:47.539Z"
   },
   {
    "duration": 6,
    "start_time": "2022-06-13T23:18:47.545Z"
   },
   {
    "duration": 11,
    "start_time": "2022-06-13T23:18:47.552Z"
   },
   {
    "duration": 5,
    "start_time": "2022-06-13T23:18:47.564Z"
   },
   {
    "duration": 5,
    "start_time": "2022-06-13T23:18:47.571Z"
   },
   {
    "duration": 3,
    "start_time": "2022-06-13T23:18:47.577Z"
   },
   {
    "duration": 4,
    "start_time": "2022-06-13T23:18:47.582Z"
   },
   {
    "duration": 4,
    "start_time": "2022-06-13T23:18:47.587Z"
   },
   {
    "duration": 37,
    "start_time": "2022-06-13T23:18:47.592Z"
   },
   {
    "duration": 5,
    "start_time": "2022-06-13T23:18:47.631Z"
   },
   {
    "duration": 4,
    "start_time": "2022-06-13T23:18:47.637Z"
   },
   {
    "duration": 4587,
    "start_time": "2022-06-13T23:18:47.642Z"
   },
   {
    "duration": 3,
    "start_time": "2022-06-13T23:18:52.230Z"
   },
   {
    "duration": 10,
    "start_time": "2022-06-13T23:18:52.235Z"
   },
   {
    "duration": 4,
    "start_time": "2022-06-13T23:18:52.247Z"
   },
   {
    "duration": 7,
    "start_time": "2022-06-13T23:18:52.252Z"
   },
   {
    "duration": 86951,
    "start_time": "2022-06-13T23:18:52.260Z"
   },
   {
    "duration": 9,
    "start_time": "2022-06-13T23:20:19.218Z"
   },
   {
    "duration": 9,
    "start_time": "2022-06-13T23:20:19.229Z"
   },
   {
    "duration": 5963,
    "start_time": "2022-06-13T23:20:19.239Z"
   },
   {
    "duration": 345,
    "start_time": "2022-06-13T23:25:51.014Z"
   },
   {
    "duration": 100,
    "start_time": "2022-06-13T23:26:12.679Z"
   },
   {
    "duration": 76,
    "start_time": "2022-06-13T23:26:22.313Z"
   },
   {
    "duration": 18,
    "start_time": "2022-06-13T23:29:16.273Z"
   },
   {
    "duration": 45,
    "start_time": "2022-06-13T23:29:38.832Z"
   },
   {
    "duration": 16,
    "start_time": "2022-06-13T23:36:18.122Z"
   },
   {
    "duration": 15,
    "start_time": "2022-06-13T23:36:29.948Z"
   },
   {
    "duration": 16,
    "start_time": "2022-06-13T23:36:42.721Z"
   },
   {
    "duration": 1982,
    "start_time": "2022-06-13T23:37:25.367Z"
   },
   {
    "duration": 2013,
    "start_time": "2022-06-13T23:37:27.351Z"
   },
   {
    "duration": 3280,
    "start_time": "2022-06-13T23:37:29.366Z"
   },
   {
    "duration": 3,
    "start_time": "2022-06-13T23:37:32.648Z"
   },
   {
    "duration": 33,
    "start_time": "2022-06-13T23:37:32.653Z"
   },
   {
    "duration": 18,
    "start_time": "2022-06-13T23:37:32.688Z"
   },
   {
    "duration": 23,
    "start_time": "2022-06-13T23:37:32.707Z"
   },
   {
    "duration": 12,
    "start_time": "2022-06-13T23:37:32.731Z"
   },
   {
    "duration": 12,
    "start_time": "2022-06-13T23:37:32.745Z"
   },
   {
    "duration": 19,
    "start_time": "2022-06-13T23:37:32.759Z"
   },
   {
    "duration": 273,
    "start_time": "2022-06-13T23:37:32.780Z"
   },
   {
    "duration": 281,
    "start_time": "2022-06-13T23:37:33.054Z"
   },
   {
    "duration": 399,
    "start_time": "2022-06-13T23:37:33.337Z"
   },
   {
    "duration": 245,
    "start_time": "2022-06-13T23:37:33.739Z"
   },
   {
    "duration": 17,
    "start_time": "2022-06-13T23:37:33.986Z"
   },
   {
    "duration": 25,
    "start_time": "2022-06-13T23:37:34.004Z"
   },
   {
    "duration": 6,
    "start_time": "2022-06-13T23:37:34.030Z"
   },
   {
    "duration": 9,
    "start_time": "2022-06-13T23:37:34.037Z"
   },
   {
    "duration": 6,
    "start_time": "2022-06-13T23:37:34.048Z"
   },
   {
    "duration": 6,
    "start_time": "2022-06-13T23:37:34.055Z"
   },
   {
    "duration": 6,
    "start_time": "2022-06-13T23:37:34.062Z"
   },
   {
    "duration": 4,
    "start_time": "2022-06-13T23:37:34.069Z"
   },
   {
    "duration": 31,
    "start_time": "2022-06-13T23:37:34.075Z"
   },
   {
    "duration": 28,
    "start_time": "2022-06-13T23:37:34.107Z"
   },
   {
    "duration": 6,
    "start_time": "2022-06-13T23:37:34.136Z"
   },
   {
    "duration": 3,
    "start_time": "2022-06-13T23:37:34.143Z"
   },
   {
    "duration": 5,
    "start_time": "2022-06-13T23:37:34.147Z"
   },
   {
    "duration": 4,
    "start_time": "2022-06-13T23:37:34.153Z"
   },
   {
    "duration": 5,
    "start_time": "2022-06-13T23:37:34.158Z"
   },
   {
    "duration": 12,
    "start_time": "2022-06-13T23:37:34.165Z"
   },
   {
    "duration": 18,
    "start_time": "2022-06-13T23:37:34.178Z"
   },
   {
    "duration": 5,
    "start_time": "2022-06-13T23:37:34.197Z"
   },
   {
    "duration": 27,
    "start_time": "2022-06-13T23:37:34.205Z"
   },
   {
    "duration": 3,
    "start_time": "2022-06-13T23:37:34.234Z"
   },
   {
    "duration": 4,
    "start_time": "2022-06-13T23:37:34.239Z"
   },
   {
    "duration": 6,
    "start_time": "2022-06-13T23:37:34.245Z"
   },
   {
    "duration": 5,
    "start_time": "2022-06-13T23:37:34.252Z"
   },
   {
    "duration": 4,
    "start_time": "2022-06-13T23:37:34.258Z"
   },
   {
    "duration": 4809,
    "start_time": "2022-06-13T23:37:34.263Z"
   },
   {
    "duration": 2,
    "start_time": "2022-06-13T23:37:39.074Z"
   },
   {
    "duration": 8,
    "start_time": "2022-06-13T23:37:41.321Z"
   },
   {
    "duration": 317,
    "start_time": "2022-06-13T23:37:42.146Z"
   },
   {
    "duration": 4,
    "start_time": "2022-06-13T23:39:19.561Z"
   },
   {
    "duration": 119,
    "start_time": "2022-06-13T23:39:30.433Z"
   },
   {
    "duration": 70,
    "start_time": "2022-06-13T23:39:41.505Z"
   },
   {
    "duration": 4,
    "start_time": "2022-06-13T23:40:09.521Z"
   },
   {
    "duration": 4,
    "start_time": "2022-06-13T23:40:43.736Z"
   },
   {
    "duration": 20,
    "start_time": "2022-06-13T23:40:53.924Z"
   },
   {
    "duration": 3,
    "start_time": "2022-06-13T23:40:59.720Z"
   },
   {
    "duration": 33,
    "start_time": "2022-06-13T23:42:58.815Z"
   },
   {
    "duration": 31,
    "start_time": "2022-06-13T23:43:15.199Z"
   },
   {
    "duration": 48,
    "start_time": "2022-06-13T23:43:20.231Z"
   },
   {
    "duration": 49,
    "start_time": "2022-06-13T23:43:59.719Z"
   },
   {
    "duration": 3,
    "start_time": "2022-06-13T23:44:40.827Z"
   },
   {
    "duration": 15,
    "start_time": "2022-06-13T23:45:13.748Z"
   },
   {
    "duration": 17,
    "start_time": "2022-06-13T23:46:12.788Z"
   },
   {
    "duration": 28,
    "start_time": "2022-06-13T23:46:19.619Z"
   },
   {
    "duration": 15,
    "start_time": "2022-06-13T23:46:20.889Z"
   },
   {
    "duration": 50,
    "start_time": "2022-06-13T23:46:30.395Z"
   },
   {
    "duration": 4,
    "start_time": "2022-06-13T23:49:18.332Z"
   },
   {
    "duration": 3,
    "start_time": "2022-06-13T23:49:19.420Z"
   },
   {
    "duration": 4,
    "start_time": "2022-06-13T23:49:21.370Z"
   },
   {
    "duration": 24,
    "start_time": "2022-06-13T23:49:24.718Z"
   },
   {
    "duration": 3,
    "start_time": "2022-06-13T23:52:50.832Z"
   },
   {
    "duration": 3,
    "start_time": "2022-06-13T23:52:51.654Z"
   },
   {
    "duration": 3,
    "start_time": "2022-06-13T23:52:53.983Z"
   },
   {
    "duration": 3,
    "start_time": "2022-06-13T23:52:56.942Z"
   },
   {
    "duration": 29,
    "start_time": "2022-06-13T23:52:58.286Z"
   },
   {
    "duration": 1758,
    "start_time": "2022-06-13T23:53:30.624Z"
   },
   {
    "duration": 1798,
    "start_time": "2022-06-13T23:53:32.385Z"
   },
   {
    "duration": 2944,
    "start_time": "2022-06-13T23:53:34.184Z"
   },
   {
    "duration": 2,
    "start_time": "2022-06-13T23:53:37.130Z"
   },
   {
    "duration": 34,
    "start_time": "2022-06-13T23:53:37.133Z"
   },
   {
    "duration": 13,
    "start_time": "2022-06-13T23:53:37.168Z"
   },
   {
    "duration": 3,
    "start_time": "2022-06-13T23:53:37.182Z"
   },
   {
    "duration": 9,
    "start_time": "2022-06-13T23:53:37.187Z"
   },
   {
    "duration": 10,
    "start_time": "2022-06-13T23:53:37.197Z"
   },
   {
    "duration": 19,
    "start_time": "2022-06-13T23:53:37.209Z"
   },
   {
    "duration": 234,
    "start_time": "2022-06-13T23:53:37.230Z"
   },
   {
    "duration": 195,
    "start_time": "2022-06-13T23:53:37.466Z"
   },
   {
    "duration": 347,
    "start_time": "2022-06-13T23:53:37.662Z"
   },
   {
    "duration": 198,
    "start_time": "2022-06-13T23:53:38.011Z"
   },
   {
    "duration": 7,
    "start_time": "2022-06-13T23:53:38.211Z"
   },
   {
    "duration": 9,
    "start_time": "2022-06-13T23:53:38.219Z"
   },
   {
    "duration": 6,
    "start_time": "2022-06-13T23:53:38.229Z"
   },
   {
    "duration": 7,
    "start_time": "2022-06-13T23:53:38.236Z"
   },
   {
    "duration": 5,
    "start_time": "2022-06-13T23:53:38.244Z"
   },
   {
    "duration": 5,
    "start_time": "2022-06-13T23:53:38.250Z"
   },
   {
    "duration": 5,
    "start_time": "2022-06-13T23:53:38.256Z"
   },
   {
    "duration": 5,
    "start_time": "2022-06-13T23:53:38.262Z"
   },
   {
    "duration": 40,
    "start_time": "2022-06-13T23:53:38.268Z"
   },
   {
    "duration": 23,
    "start_time": "2022-06-13T23:53:38.309Z"
   },
   {
    "duration": 5,
    "start_time": "2022-06-13T23:53:38.333Z"
   },
   {
    "duration": 3,
    "start_time": "2022-06-13T23:53:38.339Z"
   },
   {
    "duration": 5,
    "start_time": "2022-06-13T23:53:38.343Z"
   },
   {
    "duration": 5,
    "start_time": "2022-06-13T23:53:38.351Z"
   },
   {
    "duration": 6,
    "start_time": "2022-06-13T23:53:38.357Z"
   },
   {
    "duration": 31,
    "start_time": "2022-06-13T23:53:38.364Z"
   },
   {
    "duration": 4,
    "start_time": "2022-06-13T23:53:38.396Z"
   },
   {
    "duration": 6,
    "start_time": "2022-06-13T23:53:38.401Z"
   },
   {
    "duration": 5,
    "start_time": "2022-06-13T23:53:38.408Z"
   },
   {
    "duration": 4,
    "start_time": "2022-06-13T23:53:38.414Z"
   },
   {
    "duration": 4,
    "start_time": "2022-06-13T23:53:38.420Z"
   },
   {
    "duration": 4,
    "start_time": "2022-06-13T23:53:38.426Z"
   },
   {
    "duration": 4,
    "start_time": "2022-06-13T23:53:38.432Z"
   },
   {
    "duration": 4,
    "start_time": "2022-06-13T23:53:38.438Z"
   },
   {
    "duration": 4178,
    "start_time": "2022-06-13T23:53:38.443Z"
   },
   {
    "duration": 3,
    "start_time": "2022-06-13T23:53:42.622Z"
   },
   {
    "duration": 5,
    "start_time": "2022-06-13T23:53:42.627Z"
   },
   {
    "duration": 5,
    "start_time": "2022-06-13T23:53:42.634Z"
   },
   {
    "duration": 6,
    "start_time": "2022-06-13T23:53:42.640Z"
   },
   {
    "duration": 27948,
    "start_time": "2022-06-13T23:53:42.647Z"
   },
   {
    "duration": 5,
    "start_time": "2022-06-13T23:54:10.596Z"
   },
   {
    "duration": 10,
    "start_time": "2022-06-13T23:54:10.602Z"
   },
   {
    "duration": 6107,
    "start_time": "2022-06-13T23:54:10.613Z"
   },
   {
    "duration": 5,
    "start_time": "2022-06-13T23:54:16.722Z"
   },
   {
    "duration": 4,
    "start_time": "2022-06-13T23:54:41.644Z"
   },
   {
    "duration": 2,
    "start_time": "2022-06-13T23:54:43.533Z"
   },
   {
    "duration": 4,
    "start_time": "2022-06-13T23:54:44.818Z"
   },
   {
    "duration": 4227,
    "start_time": "2022-06-13T23:54:46.205Z"
   },
   {
    "duration": 1803,
    "start_time": "2022-06-13T23:55:07.775Z"
   },
   {
    "duration": 1813,
    "start_time": "2022-06-13T23:55:09.580Z"
   },
   {
    "duration": 3777,
    "start_time": "2022-06-13T23:55:11.394Z"
   },
   {
    "duration": 2,
    "start_time": "2022-06-13T23:55:15.173Z"
   },
   {
    "duration": 36,
    "start_time": "2022-06-13T23:55:15.177Z"
   },
   {
    "duration": 13,
    "start_time": "2022-06-13T23:55:15.214Z"
   },
   {
    "duration": 4,
    "start_time": "2022-06-13T23:55:15.229Z"
   },
   {
    "duration": 13,
    "start_time": "2022-06-13T23:55:15.234Z"
   },
   {
    "duration": 12,
    "start_time": "2022-06-13T23:55:15.248Z"
   },
   {
    "duration": 19,
    "start_time": "2022-06-13T23:55:15.262Z"
   },
   {
    "duration": 226,
    "start_time": "2022-06-13T23:55:15.282Z"
   },
   {
    "duration": 195,
    "start_time": "2022-06-13T23:55:15.509Z"
   },
   {
    "duration": 348,
    "start_time": "2022-06-13T23:55:15.705Z"
   },
   {
    "duration": 202,
    "start_time": "2022-06-13T23:55:16.054Z"
   },
   {
    "duration": 5,
    "start_time": "2022-06-13T23:55:16.257Z"
   },
   {
    "duration": 8,
    "start_time": "2022-06-13T23:55:16.264Z"
   },
   {
    "duration": 6,
    "start_time": "2022-06-13T23:55:16.273Z"
   },
   {
    "duration": 14,
    "start_time": "2022-06-13T23:55:16.280Z"
   },
   {
    "duration": 7,
    "start_time": "2022-06-13T23:55:16.297Z"
   },
   {
    "duration": 9,
    "start_time": "2022-06-13T23:55:16.305Z"
   },
   {
    "duration": 6,
    "start_time": "2022-06-13T23:55:16.315Z"
   },
   {
    "duration": 5,
    "start_time": "2022-06-13T23:55:16.322Z"
   },
   {
    "duration": 20,
    "start_time": "2022-06-13T23:55:16.328Z"
   },
   {
    "duration": 21,
    "start_time": "2022-06-13T23:55:16.349Z"
   },
   {
    "duration": 23,
    "start_time": "2022-06-13T23:55:16.371Z"
   },
   {
    "duration": 4,
    "start_time": "2022-06-13T23:55:16.395Z"
   },
   {
    "duration": 8,
    "start_time": "2022-06-13T23:55:16.400Z"
   },
   {
    "duration": 6,
    "start_time": "2022-06-13T23:55:16.410Z"
   },
   {
    "duration": 6,
    "start_time": "2022-06-13T23:55:16.417Z"
   },
   {
    "duration": 11,
    "start_time": "2022-06-13T23:55:16.424Z"
   },
   {
    "duration": 4,
    "start_time": "2022-06-13T23:55:16.436Z"
   },
   {
    "duration": 5,
    "start_time": "2022-06-13T23:55:16.441Z"
   },
   {
    "duration": 4,
    "start_time": "2022-06-13T23:55:16.447Z"
   },
   {
    "duration": 5,
    "start_time": "2022-06-13T23:55:16.452Z"
   },
   {
    "duration": 5,
    "start_time": "2022-06-13T23:55:16.458Z"
   },
   {
    "duration": 5,
    "start_time": "2022-06-13T23:55:16.464Z"
   },
   {
    "duration": 4,
    "start_time": "2022-06-13T23:55:16.491Z"
   },
   {
    "duration": 6,
    "start_time": "2022-06-13T23:55:16.496Z"
   },
   {
    "duration": 4132,
    "start_time": "2022-06-13T23:55:16.503Z"
   },
   {
    "duration": 2,
    "start_time": "2022-06-13T23:55:20.637Z"
   },
   {
    "duration": 6,
    "start_time": "2022-06-13T23:55:20.640Z"
   },
   {
    "duration": 5,
    "start_time": "2022-06-13T23:55:20.647Z"
   },
   {
    "duration": 7,
    "start_time": "2022-06-13T23:55:20.653Z"
   },
   {
    "duration": 28730,
    "start_time": "2022-06-13T23:55:20.661Z"
   },
   {
    "duration": 4,
    "start_time": "2022-06-13T23:55:49.393Z"
   },
   {
    "duration": 8,
    "start_time": "2022-06-13T23:55:49.398Z"
   },
   {
    "duration": 5277,
    "start_time": "2022-06-13T23:55:49.407Z"
   },
   {
    "duration": 4,
    "start_time": "2022-06-13T23:56:43.745Z"
   },
   {
    "duration": 4,
    "start_time": "2022-06-13T23:56:54.034Z"
   },
   {
    "duration": 33991,
    "start_time": "2022-06-13T23:57:08.714Z"
   },
   {
    "duration": 4,
    "start_time": "2022-06-13T23:57:44.290Z"
   },
   {
    "duration": 32913,
    "start_time": "2022-06-13T23:57:44.598Z"
   },
   {
    "duration": 253,
    "start_time": "2022-06-14T00:01:42.995Z"
   },
   {
    "duration": 4,
    "start_time": "2022-06-14T00:01:46.835Z"
   },
   {
    "duration": 32901,
    "start_time": "2022-06-14T00:01:47.307Z"
   },
   {
    "duration": 3,
    "start_time": "2022-06-14T00:03:05.681Z"
   },
   {
    "duration": 3,
    "start_time": "2022-06-14T00:03:33.471Z"
   },
   {
    "duration": 4,
    "start_time": "2022-06-14T00:04:07.093Z"
   },
   {
    "duration": 33495,
    "start_time": "2022-06-14T00:04:07.098Z"
   },
   {
    "duration": 3,
    "start_time": "2022-06-14T00:04:40.595Z"
   },
   {
    "duration": 3,
    "start_time": "2022-06-14T00:05:36.419Z"
   },
   {
    "duration": 20,
    "start_time": "2022-06-14T00:05:36.901Z"
   },
   {
    "duration": 1274,
    "start_time": "2022-06-14T00:05:46.757Z"
   },
   {
    "duration": 3,
    "start_time": "2022-06-14T00:08:23.600Z"
   },
   {
    "duration": 4194,
    "start_time": "2022-06-14T00:08:26.208Z"
   },
   {
    "duration": 4,
    "start_time": "2022-06-14T00:08:40.607Z"
   },
   {
    "duration": 4,
    "start_time": "2022-06-14T00:08:41.503Z"
   },
   {
    "duration": 3443,
    "start_time": "2022-06-14T00:09:20.768Z"
   },
   {
    "duration": 16,
    "start_time": "2022-06-14T00:11:02.449Z"
   },
   {
    "duration": 16,
    "start_time": "2022-06-14T00:11:07.934Z"
   },
   {
    "duration": 14,
    "start_time": "2022-06-14T00:11:18.843Z"
   },
   {
    "duration": 3,
    "start_time": "2022-06-14T00:11:42.974Z"
   },
   {
    "duration": 13296,
    "start_time": "2022-06-14T00:11:44.309Z"
   },
   {
    "duration": 4,
    "start_time": "2022-06-14T00:12:26.889Z"
   },
   {
    "duration": 1377,
    "start_time": "2022-06-14T00:12:27.281Z"
   },
   {
    "duration": 3,
    "start_time": "2022-06-14T00:12:39.848Z"
   },
   {
    "duration": 1263,
    "start_time": "2022-06-14T00:12:40.248Z"
   },
   {
    "duration": 3,
    "start_time": "2022-06-14T00:12:50.593Z"
   },
   {
    "duration": 1297,
    "start_time": "2022-06-14T00:12:50.894Z"
   },
   {
    "duration": 1761,
    "start_time": "2022-06-14T00:13:44.052Z"
   },
   {
    "duration": 1791,
    "start_time": "2022-06-14T00:13:45.815Z"
   },
   {
    "duration": 2909,
    "start_time": "2022-06-14T00:13:47.608Z"
   },
   {
    "duration": 2,
    "start_time": "2022-06-14T00:13:50.519Z"
   },
   {
    "duration": 32,
    "start_time": "2022-06-14T00:13:50.522Z"
   },
   {
    "duration": 13,
    "start_time": "2022-06-14T00:13:50.555Z"
   },
   {
    "duration": 7,
    "start_time": "2022-06-14T00:13:50.569Z"
   },
   {
    "duration": 10,
    "start_time": "2022-06-14T00:13:50.577Z"
   },
   {
    "duration": 11,
    "start_time": "2022-06-14T00:13:50.589Z"
   },
   {
    "duration": 22,
    "start_time": "2022-06-14T00:13:50.602Z"
   },
   {
    "duration": 227,
    "start_time": "2022-06-14T00:13:50.626Z"
   },
   {
    "duration": 199,
    "start_time": "2022-06-14T00:13:50.854Z"
   },
   {
    "duration": 358,
    "start_time": "2022-06-14T00:13:51.054Z"
   },
   {
    "duration": 194,
    "start_time": "2022-06-14T00:13:51.413Z"
   },
   {
    "duration": 6,
    "start_time": "2022-06-14T00:13:51.608Z"
   },
   {
    "duration": 7,
    "start_time": "2022-06-14T00:13:51.615Z"
   },
   {
    "duration": 6,
    "start_time": "2022-06-14T00:13:51.623Z"
   },
   {
    "duration": 8,
    "start_time": "2022-06-14T00:13:51.631Z"
   },
   {
    "duration": 10,
    "start_time": "2022-06-14T00:13:51.640Z"
   },
   {
    "duration": 9,
    "start_time": "2022-06-14T00:13:51.651Z"
   },
   {
    "duration": 6,
    "start_time": "2022-06-14T00:13:51.661Z"
   },
   {
    "duration": 5,
    "start_time": "2022-06-14T00:13:51.668Z"
   },
   {
    "duration": 29,
    "start_time": "2022-06-14T00:13:51.674Z"
   },
   {
    "duration": 22,
    "start_time": "2022-06-14T00:13:51.704Z"
   },
   {
    "duration": 4,
    "start_time": "2022-06-14T00:13:51.728Z"
   },
   {
    "duration": 8,
    "start_time": "2022-06-14T00:13:51.734Z"
   },
   {
    "duration": 7,
    "start_time": "2022-06-14T00:13:51.743Z"
   },
   {
    "duration": 2,
    "start_time": "2022-06-14T00:13:51.753Z"
   },
   {
    "duration": 6,
    "start_time": "2022-06-14T00:13:51.756Z"
   },
   {
    "duration": 12,
    "start_time": "2022-06-14T00:13:51.763Z"
   },
   {
    "duration": 17,
    "start_time": "2022-06-14T00:13:51.776Z"
   },
   {
    "duration": 6,
    "start_time": "2022-06-14T00:13:51.794Z"
   },
   {
    "duration": 10,
    "start_time": "2022-06-14T00:13:51.801Z"
   },
   {
    "duration": 6,
    "start_time": "2022-06-14T00:13:51.812Z"
   },
   {
    "duration": 6,
    "start_time": "2022-06-14T00:13:51.819Z"
   },
   {
    "duration": 7,
    "start_time": "2022-06-14T00:13:51.826Z"
   },
   {
    "duration": 5,
    "start_time": "2022-06-14T00:13:51.834Z"
   },
   {
    "duration": 8,
    "start_time": "2022-06-14T00:13:51.841Z"
   },
   {
    "duration": 4137,
    "start_time": "2022-06-14T00:13:51.850Z"
   },
   {
    "duration": 3,
    "start_time": "2022-06-14T00:13:55.989Z"
   },
   {
    "duration": 8,
    "start_time": "2022-06-14T00:13:55.993Z"
   },
   {
    "duration": 9,
    "start_time": "2022-06-14T00:13:56.003Z"
   },
   {
    "duration": 6,
    "start_time": "2022-06-14T00:13:56.013Z"
   },
   {
    "duration": 6,
    "start_time": "2022-06-14T00:13:56.020Z"
   },
   {
    "duration": 13280,
    "start_time": "2022-06-14T00:13:56.027Z"
   },
   {
    "duration": 5,
    "start_time": "2022-06-14T00:14:09.308Z"
   },
   {
    "duration": 5,
    "start_time": "2022-06-14T00:14:09.315Z"
   },
   {
    "duration": 71,
    "start_time": "2022-06-14T00:14:09.321Z"
   },
   {
    "duration": 1301,
    "start_time": "2022-06-14T00:14:09.394Z"
   },
   {
    "duration": 2,
    "start_time": "2022-06-14T00:20:43.865Z"
   },
   {
    "duration": 2,
    "start_time": "2022-06-14T00:20:44.336Z"
   },
   {
    "duration": 4,
    "start_time": "2022-06-14T00:20:44.705Z"
   },
   {
    "duration": 3,
    "start_time": "2022-06-14T00:20:45.066Z"
   },
   {
    "duration": 3,
    "start_time": "2022-06-14T00:20:47.175Z"
   },
   {
    "duration": 4422,
    "start_time": "2022-06-14T00:20:48.506Z"
   },
   {
    "duration": 2,
    "start_time": "2022-06-14T00:21:14.985Z"
   },
   {
    "duration": 2,
    "start_time": "2022-06-14T00:21:15.270Z"
   },
   {
    "duration": 3,
    "start_time": "2022-06-14T00:21:15.533Z"
   },
   {
    "duration": 3,
    "start_time": "2022-06-14T00:21:16.528Z"
   },
   {
    "duration": 3,
    "start_time": "2022-06-14T00:21:18.598Z"
   },
   {
    "duration": 5203,
    "start_time": "2022-06-14T00:21:20.361Z"
   },
   {
    "duration": 3,
    "start_time": "2022-06-14T00:21:55.984Z"
   },
   {
    "duration": 3,
    "start_time": "2022-06-14T00:21:56.213Z"
   },
   {
    "duration": 4,
    "start_time": "2022-06-14T00:21:56.398Z"
   },
   {
    "duration": 3,
    "start_time": "2022-06-14T00:21:56.575Z"
   },
   {
    "duration": 3,
    "start_time": "2022-06-14T00:21:58.143Z"
   },
   {
    "duration": 4147,
    "start_time": "2022-06-14T00:21:59.518Z"
   },
   {
    "duration": 3,
    "start_time": "2022-06-14T00:22:06.789Z"
   },
   {
    "duration": 2,
    "start_time": "2022-06-14T00:22:07.039Z"
   },
   {
    "duration": 3,
    "start_time": "2022-06-14T00:22:07.456Z"
   },
   {
    "duration": 3,
    "start_time": "2022-06-14T00:22:07.777Z"
   },
   {
    "duration": 3,
    "start_time": "2022-06-14T00:22:09.341Z"
   },
   {
    "duration": 4187,
    "start_time": "2022-06-14T00:22:10.319Z"
   },
   {
    "duration": 2,
    "start_time": "2022-06-14T00:22:34.332Z"
   },
   {
    "duration": 2,
    "start_time": "2022-06-14T00:22:34.612Z"
   },
   {
    "duration": 4,
    "start_time": "2022-06-14T00:22:34.820Z"
   },
   {
    "duration": 3,
    "start_time": "2022-06-14T00:22:34.990Z"
   },
   {
    "duration": 3,
    "start_time": "2022-06-14T00:22:36.348Z"
   },
   {
    "duration": 4185,
    "start_time": "2022-06-14T00:22:37.037Z"
   },
   {
    "duration": 4,
    "start_time": "2022-06-14T00:23:24.309Z"
   },
   {
    "duration": 4,
    "start_time": "2022-06-14T00:23:31.918Z"
   },
   {
    "duration": 3,
    "start_time": "2022-06-14T00:23:33.549Z"
   },
   {
    "duration": 13882,
    "start_time": "2022-06-14T00:23:34.829Z"
   },
   {
    "duration": 4,
    "start_time": "2022-06-14T00:24:16.354Z"
   },
   {
    "duration": 13772,
    "start_time": "2022-06-14T00:24:17.019Z"
   },
   {
    "duration": 13361,
    "start_time": "2022-06-14T00:24:39.948Z"
   },
   {
    "duration": 3,
    "start_time": "2022-06-14T00:24:58.681Z"
   },
   {
    "duration": 5530,
    "start_time": "2022-06-14T00:24:58.979Z"
   },
   {
    "duration": 5,
    "start_time": "2022-06-14T00:25:35.883Z"
   },
   {
    "duration": 3,
    "start_time": "2022-06-14T00:25:37.321Z"
   },
   {
    "duration": 3,
    "start_time": "2022-06-14T00:25:40.138Z"
   },
   {
    "duration": 1342,
    "start_time": "2022-06-14T00:25:40.904Z"
   },
   {
    "duration": 3,
    "start_time": "2022-06-14T00:25:58.512Z"
   },
   {
    "duration": 7863,
    "start_time": "2022-06-14T00:26:08.175Z"
   },
   {
    "duration": 5,
    "start_time": "2022-06-14T00:26:22.662Z"
   },
   {
    "duration": 3,
    "start_time": "2022-06-14T00:26:23.156Z"
   },
   {
    "duration": 3,
    "start_time": "2022-06-14T00:26:23.670Z"
   },
   {
    "duration": 7716,
    "start_time": "2022-06-14T00:26:25.510Z"
   },
   {
    "duration": 3,
    "start_time": "2022-06-14T00:27:17.220Z"
   },
   {
    "duration": 923,
    "start_time": "2022-06-14T00:27:22.732Z"
   },
   {
    "duration": 3,
    "start_time": "2022-06-14T00:28:35.024Z"
   },
   {
    "duration": 742,
    "start_time": "2022-06-14T00:28:35.521Z"
   },
   {
    "duration": 3,
    "start_time": "2022-06-14T00:28:44.608Z"
   },
   {
    "duration": 771,
    "start_time": "2022-06-14T00:28:44.929Z"
   },
   {
    "duration": 3,
    "start_time": "2022-06-14T00:28:51.591Z"
   },
   {
    "duration": 760,
    "start_time": "2022-06-14T00:28:51.993Z"
   },
   {
    "duration": 3,
    "start_time": "2022-06-14T00:28:56.577Z"
   },
   {
    "duration": 900,
    "start_time": "2022-06-14T00:28:56.944Z"
   },
   {
    "duration": 1755,
    "start_time": "2022-06-14T00:29:10.670Z"
   },
   {
    "duration": 1804,
    "start_time": "2022-06-14T00:29:12.427Z"
   },
   {
    "duration": 3056,
    "start_time": "2022-06-14T00:29:14.233Z"
   },
   {
    "duration": 2,
    "start_time": "2022-06-14T00:29:17.292Z"
   },
   {
    "duration": 34,
    "start_time": "2022-06-14T00:29:17.295Z"
   },
   {
    "duration": 12,
    "start_time": "2022-06-14T00:29:17.331Z"
   },
   {
    "duration": 3,
    "start_time": "2022-06-14T00:29:17.344Z"
   },
   {
    "duration": 10,
    "start_time": "2022-06-14T00:29:17.348Z"
   },
   {
    "duration": 12,
    "start_time": "2022-06-14T00:29:17.359Z"
   },
   {
    "duration": 23,
    "start_time": "2022-06-14T00:29:17.373Z"
   },
   {
    "duration": 221,
    "start_time": "2022-06-14T00:29:17.397Z"
   },
   {
    "duration": 196,
    "start_time": "2022-06-14T00:29:17.619Z"
   },
   {
    "duration": 352,
    "start_time": "2022-06-14T00:29:17.816Z"
   },
   {
    "duration": 198,
    "start_time": "2022-06-14T00:29:18.169Z"
   },
   {
    "duration": 6,
    "start_time": "2022-06-14T00:29:18.368Z"
   },
   {
    "duration": 17,
    "start_time": "2022-06-14T00:29:18.375Z"
   },
   {
    "duration": 4,
    "start_time": "2022-06-14T00:29:18.393Z"
   },
   {
    "duration": 7,
    "start_time": "2022-06-14T00:29:18.398Z"
   },
   {
    "duration": 5,
    "start_time": "2022-06-14T00:29:18.406Z"
   },
   {
    "duration": 5,
    "start_time": "2022-06-14T00:29:18.412Z"
   },
   {
    "duration": 6,
    "start_time": "2022-06-14T00:29:18.418Z"
   },
   {
    "duration": 4,
    "start_time": "2022-06-14T00:29:18.425Z"
   },
   {
    "duration": 20,
    "start_time": "2022-06-14T00:29:18.430Z"
   },
   {
    "duration": 41,
    "start_time": "2022-06-14T00:29:18.451Z"
   },
   {
    "duration": 4,
    "start_time": "2022-06-14T00:29:18.493Z"
   },
   {
    "duration": 3,
    "start_time": "2022-06-14T00:29:18.498Z"
   },
   {
    "duration": 6,
    "start_time": "2022-06-14T00:29:18.502Z"
   },
   {
    "duration": 5,
    "start_time": "2022-06-14T00:29:18.510Z"
   },
   {
    "duration": 9,
    "start_time": "2022-06-14T00:29:18.516Z"
   },
   {
    "duration": 11,
    "start_time": "2022-06-14T00:29:18.526Z"
   },
   {
    "duration": 5,
    "start_time": "2022-06-14T00:29:18.538Z"
   },
   {
    "duration": 7,
    "start_time": "2022-06-14T00:29:18.544Z"
   },
   {
    "duration": 6,
    "start_time": "2022-06-14T00:29:18.552Z"
   },
   {
    "duration": 4,
    "start_time": "2022-06-14T00:29:18.560Z"
   },
   {
    "duration": 5,
    "start_time": "2022-06-14T00:29:18.565Z"
   },
   {
    "duration": 4,
    "start_time": "2022-06-14T00:29:18.591Z"
   },
   {
    "duration": 5,
    "start_time": "2022-06-14T00:29:18.596Z"
   },
   {
    "duration": 4,
    "start_time": "2022-06-14T00:29:18.602Z"
   },
   {
    "duration": 4331,
    "start_time": "2022-06-14T00:29:18.607Z"
   },
   {
    "duration": 2,
    "start_time": "2022-06-14T00:29:22.940Z"
   },
   {
    "duration": 9,
    "start_time": "2022-06-14T00:29:22.944Z"
   },
   {
    "duration": 12,
    "start_time": "2022-06-14T00:29:22.955Z"
   },
   {
    "duration": 14,
    "start_time": "2022-06-14T00:29:22.968Z"
   },
   {
    "duration": 5,
    "start_time": "2022-06-14T00:29:22.983Z"
   },
   {
    "duration": 5217,
    "start_time": "2022-06-14T00:29:22.990Z"
   },
   {
    "duration": 5,
    "start_time": "2022-06-14T00:29:28.209Z"
   },
   {
    "duration": 30,
    "start_time": "2022-06-14T00:29:28.219Z"
   },
   {
    "duration": 3,
    "start_time": "2022-06-14T00:29:28.290Z"
   },
   {
    "duration": 786,
    "start_time": "2022-06-14T00:29:28.295Z"
   },
   {
    "duration": 3,
    "start_time": "2022-06-14T00:30:00.595Z"
   },
   {
    "duration": 759,
    "start_time": "2022-06-14T00:30:00.945Z"
   },
   {
    "duration": 3,
    "start_time": "2022-06-14T00:30:14.290Z"
   },
   {
    "duration": 792,
    "start_time": "2022-06-14T00:30:14.986Z"
   },
   {
    "duration": 1802,
    "start_time": "2022-06-14T00:30:23.363Z"
   },
   {
    "duration": 1789,
    "start_time": "2022-06-14T00:30:25.167Z"
   },
   {
    "duration": 2867,
    "start_time": "2022-06-14T00:30:26.958Z"
   },
   {
    "duration": 2,
    "start_time": "2022-06-14T00:30:29.828Z"
   },
   {
    "duration": 31,
    "start_time": "2022-06-14T00:30:29.831Z"
   },
   {
    "duration": 12,
    "start_time": "2022-06-14T00:30:29.863Z"
   },
   {
    "duration": 3,
    "start_time": "2022-06-14T00:30:29.877Z"
   },
   {
    "duration": 10,
    "start_time": "2022-06-14T00:30:29.881Z"
   },
   {
    "duration": 10,
    "start_time": "2022-06-14T00:30:29.892Z"
   },
   {
    "duration": 18,
    "start_time": "2022-06-14T00:30:29.904Z"
   },
   {
    "duration": 248,
    "start_time": "2022-06-14T00:30:29.923Z"
   },
   {
    "duration": 210,
    "start_time": "2022-06-14T00:30:30.172Z"
   },
   {
    "duration": 355,
    "start_time": "2022-06-14T00:30:30.384Z"
   },
   {
    "duration": 202,
    "start_time": "2022-06-14T00:30:30.740Z"
   },
   {
    "duration": 6,
    "start_time": "2022-06-14T00:30:30.943Z"
   },
   {
    "duration": 7,
    "start_time": "2022-06-14T00:30:30.950Z"
   },
   {
    "duration": 7,
    "start_time": "2022-06-14T00:30:30.959Z"
   },
   {
    "duration": 13,
    "start_time": "2022-06-14T00:30:30.968Z"
   },
   {
    "duration": 10,
    "start_time": "2022-06-14T00:30:30.982Z"
   },
   {
    "duration": 6,
    "start_time": "2022-06-14T00:30:30.993Z"
   },
   {
    "duration": 6,
    "start_time": "2022-06-14T00:30:31.000Z"
   },
   {
    "duration": 6,
    "start_time": "2022-06-14T00:30:31.007Z"
   },
   {
    "duration": 19,
    "start_time": "2022-06-14T00:30:31.014Z"
   },
   {
    "duration": 20,
    "start_time": "2022-06-14T00:30:31.035Z"
   },
   {
    "duration": 5,
    "start_time": "2022-06-14T00:30:31.056Z"
   },
   {
    "duration": 4,
    "start_time": "2022-06-14T00:30:31.062Z"
   },
   {
    "duration": 25,
    "start_time": "2022-06-14T00:30:31.067Z"
   },
   {
    "duration": 4,
    "start_time": "2022-06-14T00:30:31.095Z"
   },
   {
    "duration": 7,
    "start_time": "2022-06-14T00:30:31.100Z"
   },
   {
    "duration": 11,
    "start_time": "2022-06-14T00:30:31.108Z"
   },
   {
    "duration": 7,
    "start_time": "2022-06-14T00:30:31.121Z"
   },
   {
    "duration": 5,
    "start_time": "2022-06-14T00:30:31.129Z"
   },
   {
    "duration": 6,
    "start_time": "2022-06-14T00:30:31.135Z"
   },
   {
    "duration": 6,
    "start_time": "2022-06-14T00:30:31.142Z"
   },
   {
    "duration": 5,
    "start_time": "2022-06-14T00:30:31.149Z"
   },
   {
    "duration": 5,
    "start_time": "2022-06-14T00:30:31.155Z"
   },
   {
    "duration": 6,
    "start_time": "2022-06-14T00:30:31.161Z"
   },
   {
    "duration": 4,
    "start_time": "2022-06-14T00:30:31.168Z"
   },
   {
    "duration": 4143,
    "start_time": "2022-06-14T00:30:31.174Z"
   },
   {
    "duration": 3,
    "start_time": "2022-06-14T00:30:35.318Z"
   },
   {
    "duration": 19,
    "start_time": "2022-06-14T00:30:35.322Z"
   },
   {
    "duration": 29,
    "start_time": "2022-06-14T00:30:35.342Z"
   },
   {
    "duration": 19,
    "start_time": "2022-06-14T00:30:35.372Z"
   },
   {
    "duration": 35,
    "start_time": "2022-06-14T00:30:35.393Z"
   },
   {
    "duration": 4775,
    "start_time": "2022-06-14T00:30:35.431Z"
   },
   {
    "duration": 6,
    "start_time": "2022-06-14T00:30:40.208Z"
   },
   {
    "duration": 18,
    "start_time": "2022-06-14T00:30:40.215Z"
   },
   {
    "duration": 57,
    "start_time": "2022-06-14T00:30:40.234Z"
   },
   {
    "duration": 777,
    "start_time": "2022-06-14T00:30:40.293Z"
   },
   {
    "duration": 5,
    "start_time": "2022-06-14T00:33:07.388Z"
   },
   {
    "duration": 3,
    "start_time": "2022-06-14T00:33:07.710Z"
   },
   {
    "duration": 4,
    "start_time": "2022-06-14T00:33:07.971Z"
   },
   {
    "duration": 742,
    "start_time": "2022-06-14T00:33:08.205Z"
   },
   {
    "duration": 4,
    "start_time": "2022-06-14T00:33:15.028Z"
   },
   {
    "duration": 3,
    "start_time": "2022-06-14T00:33:15.339Z"
   },
   {
    "duration": 3,
    "start_time": "2022-06-14T00:33:15.581Z"
   },
   {
    "duration": 759,
    "start_time": "2022-06-14T00:33:16.301Z"
   },
   {
    "duration": 4,
    "start_time": "2022-06-14T00:33:25.548Z"
   },
   {
    "duration": 2,
    "start_time": "2022-06-14T00:33:25.859Z"
   },
   {
    "duration": 3,
    "start_time": "2022-06-14T00:33:26.236Z"
   },
   {
    "duration": 790,
    "start_time": "2022-06-14T00:33:26.691Z"
   },
   {
    "duration": 4,
    "start_time": "2022-06-14T00:33:35.693Z"
   },
   {
    "duration": 3,
    "start_time": "2022-06-14T00:33:35.956Z"
   },
   {
    "duration": 3,
    "start_time": "2022-06-14T00:33:36.275Z"
   },
   {
    "duration": 763,
    "start_time": "2022-06-14T00:33:36.559Z"
   },
   {
    "duration": 4,
    "start_time": "2022-06-14T00:33:47.781Z"
   },
   {
    "duration": 3,
    "start_time": "2022-06-14T00:33:47.972Z"
   },
   {
    "duration": 3,
    "start_time": "2022-06-14T00:33:48.220Z"
   },
   {
    "duration": 762,
    "start_time": "2022-06-14T00:33:48.805Z"
   },
   {
    "duration": 1748,
    "start_time": "2022-06-14T00:33:57.258Z"
   },
   {
    "duration": 1793,
    "start_time": "2022-06-14T00:33:59.008Z"
   },
   {
    "duration": 2911,
    "start_time": "2022-06-14T00:34:00.802Z"
   },
   {
    "duration": 2,
    "start_time": "2022-06-14T00:34:03.715Z"
   },
   {
    "duration": 35,
    "start_time": "2022-06-14T00:34:03.719Z"
   },
   {
    "duration": 12,
    "start_time": "2022-06-14T00:34:03.756Z"
   },
   {
    "duration": 3,
    "start_time": "2022-06-14T00:34:03.769Z"
   },
   {
    "duration": 11,
    "start_time": "2022-06-14T00:34:03.773Z"
   },
   {
    "duration": 11,
    "start_time": "2022-06-14T00:34:03.785Z"
   },
   {
    "duration": 23,
    "start_time": "2022-06-14T00:34:03.797Z"
   },
   {
    "duration": 217,
    "start_time": "2022-06-14T00:34:03.821Z"
   },
   {
    "duration": 204,
    "start_time": "2022-06-14T00:34:04.039Z"
   },
   {
    "duration": 351,
    "start_time": "2022-06-14T00:34:04.244Z"
   },
   {
    "duration": 190,
    "start_time": "2022-06-14T00:34:04.597Z"
   },
   {
    "duration": 7,
    "start_time": "2022-06-14T00:34:04.788Z"
   },
   {
    "duration": 8,
    "start_time": "2022-06-14T00:34:04.796Z"
   },
   {
    "duration": 5,
    "start_time": "2022-06-14T00:34:04.805Z"
   },
   {
    "duration": 8,
    "start_time": "2022-06-14T00:34:04.811Z"
   },
   {
    "duration": 5,
    "start_time": "2022-06-14T00:34:04.821Z"
   },
   {
    "duration": 5,
    "start_time": "2022-06-14T00:34:04.827Z"
   },
   {
    "duration": 5,
    "start_time": "2022-06-14T00:34:04.833Z"
   },
   {
    "duration": 4,
    "start_time": "2022-06-14T00:34:04.839Z"
   },
   {
    "duration": 19,
    "start_time": "2022-06-14T00:34:04.844Z"
   },
   {
    "duration": 45,
    "start_time": "2022-06-14T00:34:04.865Z"
   },
   {
    "duration": 5,
    "start_time": "2022-06-14T00:34:04.911Z"
   },
   {
    "duration": 5,
    "start_time": "2022-06-14T00:34:04.917Z"
   },
   {
    "duration": 6,
    "start_time": "2022-06-14T00:34:04.923Z"
   },
   {
    "duration": 5,
    "start_time": "2022-06-14T00:34:04.930Z"
   },
   {
    "duration": 5,
    "start_time": "2022-06-14T00:34:04.937Z"
   },
   {
    "duration": 10,
    "start_time": "2022-06-14T00:34:04.943Z"
   },
   {
    "duration": 6,
    "start_time": "2022-06-14T00:34:04.954Z"
   },
   {
    "duration": 4,
    "start_time": "2022-06-14T00:34:04.961Z"
   },
   {
    "duration": 3,
    "start_time": "2022-06-14T00:34:04.967Z"
   },
   {
    "duration": 20,
    "start_time": "2022-06-14T00:34:04.971Z"
   },
   {
    "duration": 2,
    "start_time": "2022-06-14T00:34:04.992Z"
   },
   {
    "duration": 5,
    "start_time": "2022-06-14T00:34:04.996Z"
   },
   {
    "duration": 5,
    "start_time": "2022-06-14T00:34:05.002Z"
   },
   {
    "duration": 5,
    "start_time": "2022-06-14T00:34:05.009Z"
   },
   {
    "duration": 4172,
    "start_time": "2022-06-14T00:34:05.015Z"
   },
   {
    "duration": 3,
    "start_time": "2022-06-14T00:34:09.188Z"
   },
   {
    "duration": 5,
    "start_time": "2022-06-14T00:34:09.194Z"
   },
   {
    "duration": 4,
    "start_time": "2022-06-14T00:34:09.201Z"
   },
   {
    "duration": 6,
    "start_time": "2022-06-14T00:34:09.207Z"
   },
   {
    "duration": 4,
    "start_time": "2022-06-14T00:34:09.214Z"
   },
   {
    "duration": 4388,
    "start_time": "2022-06-14T00:34:09.220Z"
   },
   {
    "duration": 5,
    "start_time": "2022-06-14T00:34:13.609Z"
   },
   {
    "duration": 11,
    "start_time": "2022-06-14T00:34:13.615Z"
   },
   {
    "duration": 2,
    "start_time": "2022-06-14T00:34:13.691Z"
   },
   {
    "duration": 743,
    "start_time": "2022-06-14T00:34:13.695Z"
   },
   {
    "duration": 2,
    "start_time": "2022-06-14T00:36:33.615Z"
   },
   {
    "duration": 3,
    "start_time": "2022-06-14T00:37:23.969Z"
   },
   {
    "duration": 1421,
    "start_time": "2022-06-14T00:38:00.717Z"
   },
   {
    "duration": 2,
    "start_time": "2022-06-14T00:38:51.101Z"
   },
   {
    "duration": 1204,
    "start_time": "2022-06-14T00:39:08.809Z"
   },
   {
    "duration": 28,
    "start_time": "2022-06-14T00:40:00.926Z"
   },
   {
    "duration": 3,
    "start_time": "2022-06-14T00:40:05.480Z"
   },
   {
    "duration": 15,
    "start_time": "2022-06-14T00:41:29.949Z"
   },
   {
    "duration": 4,
    "start_time": "2022-06-14T00:41:35.574Z"
   },
   {
    "duration": 1093,
    "start_time": "2022-06-14T00:42:27.851Z"
   },
   {
    "duration": 25107,
    "start_time": "2022-06-14T11:12:22.783Z"
   },
   {
    "duration": 2334,
    "start_time": "2022-06-14T11:12:47.892Z"
   },
   {
    "duration": 2302,
    "start_time": "2022-06-14T12:59:13.092Z"
   },
   {
    "duration": 2213,
    "start_time": "2022-06-14T12:59:17.167Z"
   },
   {
    "duration": 2707,
    "start_time": "2022-06-14T12:59:23.912Z"
   },
   {
    "duration": 3928,
    "start_time": "2022-06-14T12:59:42.533Z"
   },
   {
    "duration": 3,
    "start_time": "2022-06-14T12:59:51.325Z"
   },
   {
    "duration": 69,
    "start_time": "2022-06-14T12:59:52.808Z"
   },
   {
    "duration": 17,
    "start_time": "2022-06-14T12:59:54.269Z"
   },
   {
    "duration": 4,
    "start_time": "2022-06-14T12:59:56.352Z"
   },
   {
    "duration": 11,
    "start_time": "2022-06-14T12:59:57.092Z"
   },
   {
    "duration": 13,
    "start_time": "2022-06-14T12:59:57.729Z"
   },
   {
    "duration": 26,
    "start_time": "2022-06-14T13:00:00.575Z"
   },
   {
    "duration": 403,
    "start_time": "2022-06-14T13:00:01.783Z"
   },
   {
    "duration": 252,
    "start_time": "2022-06-14T13:00:02.578Z"
   },
   {
    "duration": 435,
    "start_time": "2022-06-14T13:00:03.115Z"
   },
   {
    "duration": 272,
    "start_time": "2022-06-14T13:00:03.619Z"
   },
   {
    "duration": 8,
    "start_time": "2022-06-14T13:00:04.788Z"
   },
   {
    "duration": 7,
    "start_time": "2022-06-14T13:00:05.469Z"
   },
   {
    "duration": 6,
    "start_time": "2022-06-14T13:00:07.580Z"
   },
   {
    "duration": 6,
    "start_time": "2022-06-14T13:00:08.117Z"
   },
   {
    "duration": 5,
    "start_time": "2022-06-14T13:00:12.096Z"
   },
   {
    "duration": 5,
    "start_time": "2022-06-14T13:00:12.670Z"
   },
   {
    "duration": 6,
    "start_time": "2022-06-14T13:00:13.158Z"
   },
   {
    "duration": 3,
    "start_time": "2022-06-14T13:00:13.740Z"
   },
   {
    "duration": 355,
    "start_time": "2022-06-14T13:00:13.970Z"
   },
   {
    "duration": 20,
    "start_time": "2022-06-14T13:00:24.903Z"
   },
   {
    "duration": 21,
    "start_time": "2022-06-14T13:00:39.925Z"
   },
   {
    "duration": 4,
    "start_time": "2022-06-14T13:00:53.478Z"
   },
   {
    "duration": 5,
    "start_time": "2022-06-14T13:00:54.796Z"
   },
   {
    "duration": 2,
    "start_time": "2022-06-14T13:00:57.824Z"
   },
   {
    "duration": 22,
    "start_time": "2022-06-14T13:01:04.039Z"
   },
   {
    "duration": 30,
    "start_time": "2022-06-14T13:19:41.222Z"
   },
   {
    "duration": 4,
    "start_time": "2022-06-14T13:19:49.494Z"
   },
   {
    "duration": 36,
    "start_time": "2022-06-14T13:19:50.193Z"
   },
   {
    "duration": 15,
    "start_time": "2022-06-14T13:20:37.923Z"
   },
   {
    "duration": 4,
    "start_time": "2022-06-14T13:21:23.698Z"
   },
   {
    "duration": 22,
    "start_time": "2022-06-14T13:21:24.437Z"
   },
   {
    "duration": 8,
    "start_time": "2022-06-14T13:21:35.637Z"
   },
   {
    "duration": 23,
    "start_time": "2022-06-14T13:22:34.505Z"
   },
   {
    "duration": 19,
    "start_time": "2022-06-14T13:23:02.787Z"
   },
   {
    "duration": 3,
    "start_time": "2022-06-14T13:23:23.658Z"
   },
   {
    "duration": 5,
    "start_time": "2022-06-14T13:23:24.343Z"
   },
   {
    "duration": 3,
    "start_time": "2022-06-14T13:23:31.490Z"
   },
   {
    "duration": 4,
    "start_time": "2022-06-14T13:23:39.393Z"
   },
   {
    "duration": 3,
    "start_time": "2022-06-14T13:23:46.893Z"
   },
   {
    "duration": 4,
    "start_time": "2022-06-14T13:23:47.495Z"
   },
   {
    "duration": 33,
    "start_time": "2022-06-14T13:23:54.809Z"
   },
   {
    "duration": 6,
    "start_time": "2022-06-14T13:25:43.423Z"
   },
   {
    "duration": 3,
    "start_time": "2022-06-14T13:25:48.607Z"
   },
   {
    "duration": 27,
    "start_time": "2022-06-14T13:26:07.141Z"
   },
   {
    "duration": 65,
    "start_time": "2022-06-14T13:27:14.350Z"
   },
   {
    "duration": 1215929,
    "start_time": "2022-06-14T13:28:11.554Z"
   },
   {
    "duration": 8,
    "start_time": "2022-06-14T13:50:04.565Z"
   },
   {
    "duration": 13,
    "start_time": "2022-06-14T13:50:35.519Z"
   },
   {
    "duration": 23,
    "start_time": "2022-06-14T13:52:26.091Z"
   },
   {
    "duration": 7,
    "start_time": "2022-06-14T13:54:07.041Z"
   },
   {
    "duration": 18,
    "start_time": "2022-06-14T13:54:07.851Z"
   },
   {
    "duration": 21,
    "start_time": "2022-06-14T13:54:29.416Z"
   },
   {
    "duration": 3,
    "start_time": "2022-06-14T13:55:20.008Z"
   },
   {
    "duration": 6,
    "start_time": "2022-06-14T13:55:20.597Z"
   },
   {
    "duration": 25,
    "start_time": "2022-06-14T13:55:21.423Z"
   },
   {
    "duration": 2,
    "start_time": "2022-06-14T13:55:22.283Z"
   },
   {
    "duration": 6,
    "start_time": "2022-06-14T13:55:25.442Z"
   },
   {
    "duration": 22,
    "start_time": "2022-06-14T13:55:26.497Z"
   },
   {
    "duration": 30,
    "start_time": "2022-06-14T13:59:22.440Z"
   },
   {
    "duration": 5,
    "start_time": "2022-06-14T14:02:12.313Z"
   },
   {
    "duration": 22,
    "start_time": "2022-06-14T14:02:13.212Z"
   },
   {
    "duration": 33,
    "start_time": "2022-06-14T14:02:23.705Z"
   },
   {
    "duration": 24,
    "start_time": "2022-06-14T14:02:55.369Z"
   },
   {
    "duration": 3,
    "start_time": "2022-06-14T14:04:03.005Z"
   },
   {
    "duration": 7,
    "start_time": "2022-06-14T14:04:03.700Z"
   },
   {
    "duration": 18,
    "start_time": "2022-06-14T14:04:04.375Z"
   },
   {
    "duration": 3,
    "start_time": "2022-06-14T14:04:09.935Z"
   },
   {
    "duration": 6,
    "start_time": "2022-06-14T14:04:11.041Z"
   },
   {
    "duration": 17,
    "start_time": "2022-06-14T14:04:11.821Z"
   },
   {
    "duration": 3,
    "start_time": "2022-06-14T14:04:14.520Z"
   },
   {
    "duration": 28,
    "start_time": "2022-06-14T14:05:15.838Z"
   },
   {
    "duration": 629,
    "start_time": "2022-06-14T14:07:15.825Z"
   },
   {
    "duration": 4,
    "start_time": "2022-06-14T14:07:34.975Z"
   },
   {
    "duration": 7,
    "start_time": "2022-06-14T14:07:43.156Z"
   },
   {
    "duration": 15,
    "start_time": "2022-06-14T14:07:44.066Z"
   },
   {
    "duration": 4,
    "start_time": "2022-06-14T14:09:22.275Z"
   },
   {
    "duration": 8,
    "start_time": "2022-06-14T14:09:23.243Z"
   },
   {
    "duration": 17,
    "start_time": "2022-06-14T14:09:23.922Z"
   },
   {
    "duration": 2,
    "start_time": "2022-06-14T14:09:34.791Z"
   },
   {
    "duration": 7,
    "start_time": "2022-06-14T14:09:35.637Z"
   },
   {
    "duration": 14,
    "start_time": "2022-06-14T14:09:36.382Z"
   },
   {
    "duration": 3,
    "start_time": "2022-06-14T14:09:37.036Z"
   },
   {
    "duration": 1233766,
    "start_time": "2022-06-14T14:09:38.035Z"
   },
   {
    "duration": 0,
    "start_time": "2022-06-14T14:30:11.806Z"
   },
   {
    "duration": 12,
    "start_time": "2022-06-14T14:42:36.339Z"
   },
   {
    "duration": 29650,
    "start_time": "2022-06-14T15:09:43.060Z"
   },
   {
    "duration": 2200,
    "start_time": "2022-06-14T15:10:12.713Z"
   },
   {
    "duration": 5073,
    "start_time": "2022-06-14T15:10:14.914Z"
   },
   {
    "duration": 0,
    "start_time": "2022-06-14T15:10:19.991Z"
   },
   {
    "duration": 0,
    "start_time": "2022-06-14T15:10:19.992Z"
   },
   {
    "duration": 0,
    "start_time": "2022-06-14T15:10:19.994Z"
   },
   {
    "duration": 0,
    "start_time": "2022-06-14T15:10:19.995Z"
   },
   {
    "duration": 0,
    "start_time": "2022-06-14T15:10:19.996Z"
   },
   {
    "duration": 0,
    "start_time": "2022-06-14T15:10:19.997Z"
   },
   {
    "duration": 0,
    "start_time": "2022-06-14T15:10:19.998Z"
   },
   {
    "duration": 0,
    "start_time": "2022-06-14T15:10:19.999Z"
   },
   {
    "duration": 0,
    "start_time": "2022-06-14T15:10:20.001Z"
   },
   {
    "duration": 0,
    "start_time": "2022-06-14T15:10:20.002Z"
   },
   {
    "duration": 0,
    "start_time": "2022-06-14T15:10:20.003Z"
   },
   {
    "duration": 0,
    "start_time": "2022-06-14T15:10:20.005Z"
   },
   {
    "duration": 0,
    "start_time": "2022-06-14T15:10:20.006Z"
   },
   {
    "duration": 0,
    "start_time": "2022-06-14T15:10:20.007Z"
   },
   {
    "duration": 0,
    "start_time": "2022-06-14T15:10:20.009Z"
   },
   {
    "duration": 0,
    "start_time": "2022-06-14T15:10:20.010Z"
   },
   {
    "duration": 0,
    "start_time": "2022-06-14T15:10:20.011Z"
   },
   {
    "duration": 0,
    "start_time": "2022-06-14T15:10:20.012Z"
   },
   {
    "duration": 0,
    "start_time": "2022-06-14T15:10:20.013Z"
   },
   {
    "duration": 0,
    "start_time": "2022-06-14T15:10:20.014Z"
   },
   {
    "duration": 0,
    "start_time": "2022-06-14T15:10:20.016Z"
   },
   {
    "duration": 0,
    "start_time": "2022-06-14T15:10:20.017Z"
   },
   {
    "duration": 0,
    "start_time": "2022-06-14T15:10:20.058Z"
   },
   {
    "duration": 0,
    "start_time": "2022-06-14T15:10:20.060Z"
   },
   {
    "duration": 0,
    "start_time": "2022-06-14T15:10:20.060Z"
   },
   {
    "duration": 0,
    "start_time": "2022-06-14T15:10:20.061Z"
   },
   {
    "duration": 0,
    "start_time": "2022-06-14T15:10:20.062Z"
   },
   {
    "duration": 0,
    "start_time": "2022-06-14T15:10:20.064Z"
   },
   {
    "duration": 0,
    "start_time": "2022-06-14T15:10:20.064Z"
   },
   {
    "duration": 1,
    "start_time": "2022-06-14T15:10:20.065Z"
   },
   {
    "duration": 0,
    "start_time": "2022-06-14T15:10:20.067Z"
   },
   {
    "duration": 0,
    "start_time": "2022-06-14T15:10:20.068Z"
   },
   {
    "duration": 0,
    "start_time": "2022-06-14T15:10:20.068Z"
   },
   {
    "duration": 0,
    "start_time": "2022-06-14T15:10:20.069Z"
   },
   {
    "duration": 0,
    "start_time": "2022-06-14T15:10:20.071Z"
   },
   {
    "duration": 0,
    "start_time": "2022-06-14T15:10:20.072Z"
   },
   {
    "duration": 0,
    "start_time": "2022-06-14T15:10:20.073Z"
   },
   {
    "duration": 0,
    "start_time": "2022-06-14T15:10:20.074Z"
   },
   {
    "duration": 0,
    "start_time": "2022-06-14T15:10:20.075Z"
   },
   {
    "duration": 0,
    "start_time": "2022-06-14T15:10:20.076Z"
   },
   {
    "duration": 0,
    "start_time": "2022-06-14T15:10:20.077Z"
   },
   {
    "duration": 0,
    "start_time": "2022-06-14T15:10:20.078Z"
   },
   {
    "duration": 0,
    "start_time": "2022-06-14T15:10:20.079Z"
   },
   {
    "duration": 0,
    "start_time": "2022-06-14T15:10:20.080Z"
   },
   {
    "duration": 0,
    "start_time": "2022-06-14T15:10:20.081Z"
   },
   {
    "duration": 0,
    "start_time": "2022-06-14T15:10:20.082Z"
   },
   {
    "duration": 0,
    "start_time": "2022-06-14T15:10:20.083Z"
   },
   {
    "duration": 0,
    "start_time": "2022-06-14T15:10:20.084Z"
   },
   {
    "duration": 0,
    "start_time": "2022-06-14T15:10:20.085Z"
   },
   {
    "duration": 0,
    "start_time": "2022-06-14T15:10:20.086Z"
   },
   {
    "duration": 0,
    "start_time": "2022-06-14T15:10:20.087Z"
   },
   {
    "duration": 2945,
    "start_time": "2022-06-14T17:09:04.660Z"
   },
   {
    "duration": 2020,
    "start_time": "2022-06-14T17:09:07.607Z"
   },
   {
    "duration": 5762,
    "start_time": "2022-06-14T17:09:09.630Z"
   },
   {
    "duration": 2,
    "start_time": "2022-06-14T17:09:15.395Z"
   },
   {
    "duration": 74,
    "start_time": "2022-06-14T17:09:15.399Z"
   },
   {
    "duration": 16,
    "start_time": "2022-06-14T17:09:15.475Z"
   },
   {
    "duration": 4,
    "start_time": "2022-06-14T17:09:15.492Z"
   },
   {
    "duration": 20,
    "start_time": "2022-06-14T17:09:15.497Z"
   },
   {
    "duration": 19,
    "start_time": "2022-06-14T17:09:15.519Z"
   },
   {
    "duration": 29,
    "start_time": "2022-06-14T17:09:15.541Z"
   },
   {
    "duration": 286,
    "start_time": "2022-06-14T17:09:15.572Z"
   },
   {
    "duration": 231,
    "start_time": "2022-06-14T17:09:15.860Z"
   },
   {
    "duration": 398,
    "start_time": "2022-06-14T17:09:16.093Z"
   },
   {
    "duration": 240,
    "start_time": "2022-06-14T17:09:16.492Z"
   },
   {
    "duration": 8,
    "start_time": "2022-06-14T17:09:16.734Z"
   },
   {
    "duration": 18,
    "start_time": "2022-06-14T17:09:16.744Z"
   },
   {
    "duration": 8,
    "start_time": "2022-06-14T17:09:16.763Z"
   },
   {
    "duration": 10,
    "start_time": "2022-06-14T17:09:16.773Z"
   },
   {
    "duration": 19,
    "start_time": "2022-06-14T17:09:16.785Z"
   },
   {
    "duration": 10,
    "start_time": "2022-06-14T17:09:16.805Z"
   },
   {
    "duration": 9,
    "start_time": "2022-06-14T17:09:16.817Z"
   },
   {
    "duration": 6,
    "start_time": "2022-06-14T17:09:16.828Z"
   },
   {
    "duration": 342,
    "start_time": "2022-06-14T17:09:16.835Z"
   },
   {
    "duration": 0,
    "start_time": "2022-06-14T17:09:17.180Z"
   },
   {
    "duration": 0,
    "start_time": "2022-06-14T17:09:17.181Z"
   },
   {
    "duration": 0,
    "start_time": "2022-06-14T17:09:17.182Z"
   },
   {
    "duration": 0,
    "start_time": "2022-06-14T17:09:17.183Z"
   },
   {
    "duration": 0,
    "start_time": "2022-06-14T17:09:17.184Z"
   },
   {
    "duration": 0,
    "start_time": "2022-06-14T17:09:17.185Z"
   },
   {
    "duration": 0,
    "start_time": "2022-06-14T17:09:17.186Z"
   },
   {
    "duration": 0,
    "start_time": "2022-06-14T17:09:17.190Z"
   },
   {
    "duration": 0,
    "start_time": "2022-06-14T17:09:17.191Z"
   },
   {
    "duration": 0,
    "start_time": "2022-06-14T17:09:17.192Z"
   },
   {
    "duration": 0,
    "start_time": "2022-06-14T17:09:17.194Z"
   },
   {
    "duration": 0,
    "start_time": "2022-06-14T17:09:17.195Z"
   },
   {
    "duration": 0,
    "start_time": "2022-06-14T17:09:17.196Z"
   },
   {
    "duration": 0,
    "start_time": "2022-06-14T17:09:17.198Z"
   },
   {
    "duration": 0,
    "start_time": "2022-06-14T17:09:17.199Z"
   },
   {
    "duration": 0,
    "start_time": "2022-06-14T17:09:17.200Z"
   },
   {
    "duration": 0,
    "start_time": "2022-06-14T17:09:17.204Z"
   },
   {
    "duration": 0,
    "start_time": "2022-06-14T17:09:17.206Z"
   },
   {
    "duration": 0,
    "start_time": "2022-06-14T17:09:17.207Z"
   },
   {
    "duration": 0,
    "start_time": "2022-06-14T17:09:17.208Z"
   },
   {
    "duration": 0,
    "start_time": "2022-06-14T17:09:17.209Z"
   },
   {
    "duration": 0,
    "start_time": "2022-06-14T17:09:17.212Z"
   },
   {
    "duration": 0,
    "start_time": "2022-06-14T17:09:17.258Z"
   },
   {
    "duration": 0,
    "start_time": "2022-06-14T17:09:17.261Z"
   },
   {
    "duration": 0,
    "start_time": "2022-06-14T17:09:17.262Z"
   },
   {
    "duration": 0,
    "start_time": "2022-06-14T17:09:17.263Z"
   },
   {
    "duration": 0,
    "start_time": "2022-06-14T17:09:17.265Z"
   },
   {
    "duration": 0,
    "start_time": "2022-06-14T17:09:17.267Z"
   },
   {
    "duration": 0,
    "start_time": "2022-06-14T17:09:17.268Z"
   },
   {
    "duration": 1,
    "start_time": "2022-06-14T17:09:17.269Z"
   },
   {
    "duration": 0,
    "start_time": "2022-06-14T17:09:17.271Z"
   },
   {
    "duration": 2045,
    "start_time": "2022-06-14T20:14:21.652Z"
   },
   {
    "duration": 2126,
    "start_time": "2022-06-14T20:14:23.699Z"
   },
   {
    "duration": 2020,
    "start_time": "2022-06-14T20:14:35.693Z"
   },
   {
    "duration": 2017,
    "start_time": "2022-06-14T20:14:37.716Z"
   },
   {
    "duration": 3457,
    "start_time": "2022-06-14T20:14:39.735Z"
   },
   {
    "duration": 2,
    "start_time": "2022-06-14T20:14:43.194Z"
   },
   {
    "duration": 37,
    "start_time": "2022-06-14T20:14:43.198Z"
   },
   {
    "duration": 17,
    "start_time": "2022-06-14T20:14:43.236Z"
   },
   {
    "duration": 14,
    "start_time": "2022-06-14T20:14:43.255Z"
   },
   {
    "duration": 13,
    "start_time": "2022-06-14T20:14:43.271Z"
   },
   {
    "duration": 21,
    "start_time": "2022-06-14T20:14:43.285Z"
   },
   {
    "duration": 31,
    "start_time": "2022-06-14T20:14:43.309Z"
   },
   {
    "duration": 254,
    "start_time": "2022-06-14T20:14:43.341Z"
   },
   {
    "duration": 224,
    "start_time": "2022-06-14T20:14:43.597Z"
   },
   {
    "duration": 405,
    "start_time": "2022-06-14T20:14:43.822Z"
   },
   {
    "duration": 255,
    "start_time": "2022-06-14T20:14:44.228Z"
   },
   {
    "duration": 6,
    "start_time": "2022-06-14T20:14:44.485Z"
   },
   {
    "duration": 8,
    "start_time": "2022-06-14T20:14:44.493Z"
   },
   {
    "duration": 6,
    "start_time": "2022-06-14T20:14:44.503Z"
   },
   {
    "duration": 12,
    "start_time": "2022-06-14T20:14:44.511Z"
   },
   {
    "duration": 34,
    "start_time": "2022-06-14T20:14:44.525Z"
   },
   {
    "duration": 5,
    "start_time": "2022-06-14T20:14:44.560Z"
   },
   {
    "duration": 11,
    "start_time": "2022-06-14T20:14:44.568Z"
   },
   {
    "duration": 7,
    "start_time": "2022-06-14T20:14:44.580Z"
   },
   {
    "duration": 313,
    "start_time": "2022-06-14T20:14:44.589Z"
   },
   {
    "duration": 0,
    "start_time": "2022-06-14T20:14:44.905Z"
   },
   {
    "duration": 0,
    "start_time": "2022-06-14T20:14:44.907Z"
   },
   {
    "duration": 0,
    "start_time": "2022-06-14T20:14:44.908Z"
   },
   {
    "duration": 0,
    "start_time": "2022-06-14T20:14:44.910Z"
   },
   {
    "duration": 0,
    "start_time": "2022-06-14T20:14:44.911Z"
   },
   {
    "duration": 0,
    "start_time": "2022-06-14T20:14:44.913Z"
   },
   {
    "duration": 0,
    "start_time": "2022-06-14T20:14:44.914Z"
   },
   {
    "duration": 0,
    "start_time": "2022-06-14T20:14:44.916Z"
   },
   {
    "duration": 0,
    "start_time": "2022-06-14T20:14:44.917Z"
   },
   {
    "duration": 0,
    "start_time": "2022-06-14T20:14:44.919Z"
   },
   {
    "duration": 0,
    "start_time": "2022-06-14T20:14:44.920Z"
   },
   {
    "duration": 0,
    "start_time": "2022-06-14T20:14:44.922Z"
   },
   {
    "duration": 0,
    "start_time": "2022-06-14T20:14:44.923Z"
   },
   {
    "duration": 0,
    "start_time": "2022-06-14T20:14:44.924Z"
   },
   {
    "duration": 0,
    "start_time": "2022-06-14T20:14:44.959Z"
   },
   {
    "duration": 0,
    "start_time": "2022-06-14T20:14:44.961Z"
   },
   {
    "duration": 0,
    "start_time": "2022-06-14T20:14:44.963Z"
   },
   {
    "duration": 0,
    "start_time": "2022-06-14T20:14:44.964Z"
   },
   {
    "duration": 0,
    "start_time": "2022-06-14T20:14:44.966Z"
   },
   {
    "duration": 0,
    "start_time": "2022-06-14T20:14:44.967Z"
   },
   {
    "duration": 0,
    "start_time": "2022-06-14T20:14:44.969Z"
   },
   {
    "duration": 0,
    "start_time": "2022-06-14T20:14:44.970Z"
   },
   {
    "duration": 0,
    "start_time": "2022-06-14T20:14:44.971Z"
   },
   {
    "duration": 0,
    "start_time": "2022-06-14T20:14:44.973Z"
   },
   {
    "duration": 0,
    "start_time": "2022-06-14T20:14:44.974Z"
   },
   {
    "duration": 0,
    "start_time": "2022-06-14T20:14:44.976Z"
   },
   {
    "duration": 0,
    "start_time": "2022-06-14T20:14:44.977Z"
   },
   {
    "duration": 0,
    "start_time": "2022-06-14T20:14:44.978Z"
   },
   {
    "duration": 0,
    "start_time": "2022-06-14T20:14:44.980Z"
   },
   {
    "duration": 0,
    "start_time": "2022-06-14T20:14:44.981Z"
   },
   {
    "duration": 0,
    "start_time": "2022-06-14T20:14:44.982Z"
   },
   {
    "duration": 2171,
    "start_time": "2022-06-14T20:51:46.157Z"
   },
   {
    "duration": 2118,
    "start_time": "2022-06-14T20:51:48.330Z"
   },
   {
    "duration": 3656,
    "start_time": "2022-06-14T20:51:50.450Z"
   },
   {
    "duration": 3,
    "start_time": "2022-06-14T20:51:54.108Z"
   },
   {
    "duration": 36,
    "start_time": "2022-06-14T20:51:54.113Z"
   },
   {
    "duration": 20,
    "start_time": "2022-06-14T20:51:54.151Z"
   },
   {
    "duration": 10,
    "start_time": "2022-06-14T20:51:54.173Z"
   },
   {
    "duration": 13,
    "start_time": "2022-06-14T20:51:54.184Z"
   },
   {
    "duration": 12,
    "start_time": "2022-06-14T20:51:54.199Z"
   },
   {
    "duration": 50,
    "start_time": "2022-06-14T20:51:54.215Z"
   },
   {
    "duration": 287,
    "start_time": "2022-06-14T20:51:54.267Z"
   },
   {
    "duration": 261,
    "start_time": "2022-06-14T20:51:54.558Z"
   },
   {
    "duration": 467,
    "start_time": "2022-06-14T20:51:54.821Z"
   },
   {
    "duration": 254,
    "start_time": "2022-06-14T20:51:55.290Z"
   },
   {
    "duration": 22,
    "start_time": "2022-06-14T20:51:55.546Z"
   },
   {
    "duration": 16,
    "start_time": "2022-06-14T20:51:55.570Z"
   },
   {
    "duration": 7,
    "start_time": "2022-06-14T20:51:55.588Z"
   },
   {
    "duration": 10,
    "start_time": "2022-06-14T20:51:55.596Z"
   },
   {
    "duration": 5,
    "start_time": "2022-06-14T20:51:55.607Z"
   },
   {
    "duration": 6,
    "start_time": "2022-06-14T20:51:55.614Z"
   },
   {
    "duration": 5,
    "start_time": "2022-06-14T20:51:55.622Z"
   },
   {
    "duration": 4,
    "start_time": "2022-06-14T20:51:55.629Z"
   },
   {
    "duration": 51,
    "start_time": "2022-06-14T20:51:55.635Z"
   },
   {
    "duration": 25,
    "start_time": "2022-06-14T20:51:55.687Z"
   },
   {
    "duration": 6,
    "start_time": "2022-06-14T20:51:55.714Z"
   },
   {
    "duration": 4,
    "start_time": "2022-06-14T20:51:55.722Z"
   },
   {
    "duration": 5,
    "start_time": "2022-06-14T20:51:55.728Z"
   },
   {
    "duration": 4,
    "start_time": "2022-06-14T20:51:55.762Z"
   },
   {
    "duration": 14,
    "start_time": "2022-06-14T20:51:55.768Z"
   },
   {
    "duration": 13,
    "start_time": "2022-06-14T20:51:55.783Z"
   },
   {
    "duration": 59,
    "start_time": "2022-06-14T20:51:55.797Z"
   },
   {
    "duration": 6,
    "start_time": "2022-06-14T20:51:55.858Z"
   },
   {
    "duration": 18,
    "start_time": "2022-06-14T20:51:55.866Z"
   },
   {
    "duration": 4,
    "start_time": "2022-06-14T20:51:55.886Z"
   },
   {
    "duration": 5,
    "start_time": "2022-06-14T20:51:55.892Z"
   },
   {
    "duration": 6,
    "start_time": "2022-06-14T20:51:55.898Z"
   },
   {
    "duration": 39,
    "start_time": "2022-06-14T20:51:55.905Z"
   },
   {
    "duration": 3,
    "start_time": "2022-06-14T20:51:55.946Z"
   },
   {
    "duration": 5650,
    "start_time": "2022-06-14T20:51:55.950Z"
   },
   {
    "duration": 3,
    "start_time": "2022-06-14T20:52:01.601Z"
   },
   {
    "duration": 14,
    "start_time": "2022-06-14T20:52:01.606Z"
   },
   {
    "duration": 15,
    "start_time": "2022-06-14T20:52:01.621Z"
   },
   {
    "duration": 12,
    "start_time": "2022-06-14T20:52:01.637Z"
   },
   {
    "duration": 31,
    "start_time": "2022-06-14T20:52:01.650Z"
   },
   {
    "duration": 8,
    "start_time": "2022-06-14T20:52:01.682Z"
   },
   {
    "duration": 13,
    "start_time": "2022-06-14T20:52:01.691Z"
   },
   {
    "duration": 20,
    "start_time": "2022-06-14T20:52:01.705Z"
   },
   {
    "duration": 22,
    "start_time": "2022-06-14T20:52:01.726Z"
   },
   {
    "duration": 35,
    "start_time": "2022-06-14T20:52:01.749Z"
   },
   {
    "duration": 18,
    "start_time": "2022-06-14T20:52:01.785Z"
   },
   {
    "duration": 40,
    "start_time": "2022-06-14T20:52:01.805Z"
   },
   {
    "duration": 31,
    "start_time": "2022-06-14T20:52:01.848Z"
   },
   {
    "duration": 2024,
    "start_time": "2022-06-14T21:11:27.383Z"
   },
   {
    "duration": 2094,
    "start_time": "2022-06-14T21:11:29.409Z"
   },
   {
    "duration": 3382,
    "start_time": "2022-06-14T21:11:31.505Z"
   },
   {
    "duration": 2,
    "start_time": "2022-06-14T21:11:34.889Z"
   },
   {
    "duration": 32,
    "start_time": "2022-06-14T21:11:34.894Z"
   },
   {
    "duration": 15,
    "start_time": "2022-06-14T21:11:34.927Z"
   },
   {
    "duration": 3,
    "start_time": "2022-06-14T21:11:34.944Z"
   },
   {
    "duration": 15,
    "start_time": "2022-06-14T21:11:34.949Z"
   },
   {
    "duration": 22,
    "start_time": "2022-06-14T21:11:34.966Z"
   },
   {
    "duration": 23,
    "start_time": "2022-06-14T21:11:34.989Z"
   },
   {
    "duration": 269,
    "start_time": "2022-06-14T21:11:35.014Z"
   },
   {
    "duration": 234,
    "start_time": "2022-06-14T21:11:35.285Z"
   },
   {
    "duration": 432,
    "start_time": "2022-06-14T21:11:35.521Z"
   },
   {
    "duration": 243,
    "start_time": "2022-06-14T21:11:35.961Z"
   },
   {
    "duration": 7,
    "start_time": "2022-06-14T21:11:36.205Z"
   },
   {
    "duration": 8,
    "start_time": "2022-06-14T21:11:36.213Z"
   },
   {
    "duration": 7,
    "start_time": "2022-06-14T21:11:36.222Z"
   },
   {
    "duration": 14,
    "start_time": "2022-06-14T21:11:36.231Z"
   },
   {
    "duration": 16,
    "start_time": "2022-06-14T21:11:36.247Z"
   },
   {
    "duration": 17,
    "start_time": "2022-06-14T21:11:36.265Z"
   },
   {
    "duration": 6,
    "start_time": "2022-06-14T21:11:36.284Z"
   },
   {
    "duration": 7,
    "start_time": "2022-06-14T21:11:36.291Z"
   },
   {
    "duration": 28,
    "start_time": "2022-06-14T21:11:36.299Z"
   },
   {
    "duration": 38,
    "start_time": "2022-06-14T21:11:36.329Z"
   },
   {
    "duration": 8,
    "start_time": "2022-06-14T21:11:36.369Z"
   },
   {
    "duration": 3,
    "start_time": "2022-06-14T21:11:36.379Z"
   },
   {
    "duration": 7,
    "start_time": "2022-06-14T21:11:36.384Z"
   },
   {
    "duration": 6,
    "start_time": "2022-06-14T21:11:36.392Z"
   },
   {
    "duration": 17,
    "start_time": "2022-06-14T21:11:36.400Z"
   },
   {
    "duration": 14,
    "start_time": "2022-06-14T21:11:36.419Z"
   },
   {
    "duration": 14,
    "start_time": "2022-06-14T21:11:36.435Z"
   },
   {
    "duration": 15,
    "start_time": "2022-06-14T21:11:36.451Z"
   },
   {
    "duration": 19,
    "start_time": "2022-06-14T21:11:36.469Z"
   },
   {
    "duration": 6,
    "start_time": "2022-06-14T21:11:36.489Z"
   },
   {
    "duration": 5,
    "start_time": "2022-06-14T21:11:36.496Z"
   },
   {
    "duration": 7,
    "start_time": "2022-06-14T21:11:36.502Z"
   },
   {
    "duration": 5,
    "start_time": "2022-06-14T21:11:36.511Z"
   },
   {
    "duration": 8,
    "start_time": "2022-06-14T21:11:36.517Z"
   },
   {
    "duration": 5032,
    "start_time": "2022-06-14T21:11:36.527Z"
   },
   {
    "duration": 4,
    "start_time": "2022-06-14T21:11:41.561Z"
   },
   {
    "duration": 13,
    "start_time": "2022-06-14T21:11:41.570Z"
   },
   {
    "duration": 10,
    "start_time": "2022-06-14T21:11:41.584Z"
   },
   {
    "duration": 6,
    "start_time": "2022-06-14T21:11:41.595Z"
   },
   {
    "duration": 28,
    "start_time": "2022-06-14T21:11:41.602Z"
   },
   {
    "duration": 10,
    "start_time": "2022-06-14T21:11:41.632Z"
   },
   {
    "duration": 6,
    "start_time": "2022-06-14T21:11:41.644Z"
   },
   {
    "duration": 11,
    "start_time": "2022-06-14T21:11:41.652Z"
   },
   {
    "duration": 25,
    "start_time": "2022-06-14T21:11:41.666Z"
   },
   {
    "duration": 6,
    "start_time": "2022-06-14T21:11:41.693Z"
   },
   {
    "duration": 12,
    "start_time": "2022-06-14T21:11:41.700Z"
   },
   {
    "duration": 13,
    "start_time": "2022-06-14T21:11:41.713Z"
   },
   {
    "duration": 4,
    "start_time": "2022-06-14T21:11:41.729Z"
   },
   {
    "duration": 1415166,
    "start_time": "2022-06-14T21:11:41.735Z"
   },
   {
    "duration": 0,
    "start_time": "2022-06-14T21:35:16.903Z"
   },
   {
    "duration": 1373086,
    "start_time": "2022-06-14T21:36:38.391Z"
   },
   {
    "duration": 2133,
    "start_time": "2022-06-14T22:30:03.983Z"
   },
   {
    "duration": 2130,
    "start_time": "2022-06-14T22:30:06.118Z"
   },
   {
    "duration": 3483,
    "start_time": "2022-06-14T22:30:08.251Z"
   },
   {
    "duration": 3,
    "start_time": "2022-06-14T22:30:11.736Z"
   },
   {
    "duration": 39,
    "start_time": "2022-06-14T22:30:11.741Z"
   },
   {
    "duration": 14,
    "start_time": "2022-06-14T22:30:11.781Z"
   },
   {
    "duration": 4,
    "start_time": "2022-06-14T22:30:11.797Z"
   },
   {
    "duration": 17,
    "start_time": "2022-06-14T22:30:11.802Z"
   },
   {
    "duration": 14,
    "start_time": "2022-06-14T22:30:11.821Z"
   },
   {
    "duration": 28,
    "start_time": "2022-06-14T22:30:11.838Z"
   },
   {
    "duration": 269,
    "start_time": "2022-06-14T22:30:11.868Z"
   },
   {
    "duration": 247,
    "start_time": "2022-06-14T22:30:12.139Z"
   },
   {
    "duration": 454,
    "start_time": "2022-06-14T22:30:12.387Z"
   },
   {
    "duration": 275,
    "start_time": "2022-06-14T22:30:12.843Z"
   },
   {
    "duration": 6,
    "start_time": "2022-06-14T22:30:13.120Z"
   },
   {
    "duration": 10,
    "start_time": "2022-06-14T22:30:13.128Z"
   },
   {
    "duration": 7,
    "start_time": "2022-06-14T22:30:13.139Z"
   },
   {
    "duration": 8,
    "start_time": "2022-06-14T22:30:13.158Z"
   },
   {
    "duration": 14,
    "start_time": "2022-06-14T22:30:13.168Z"
   },
   {
    "duration": 9,
    "start_time": "2022-06-14T22:30:13.184Z"
   },
   {
    "duration": 7,
    "start_time": "2022-06-14T22:30:13.194Z"
   },
   {
    "duration": 5,
    "start_time": "2022-06-14T22:30:13.202Z"
   },
   {
    "duration": 22,
    "start_time": "2022-06-14T22:30:13.208Z"
   },
   {
    "duration": 46,
    "start_time": "2022-06-14T22:30:13.231Z"
   },
   {
    "duration": 7,
    "start_time": "2022-06-14T22:30:13.279Z"
   },
   {
    "duration": 6,
    "start_time": "2022-06-14T22:30:13.287Z"
   },
   {
    "duration": 6,
    "start_time": "2022-06-14T22:30:13.294Z"
   },
   {
    "duration": 4,
    "start_time": "2022-06-14T22:30:13.303Z"
   },
   {
    "duration": 7,
    "start_time": "2022-06-14T22:30:13.309Z"
   },
   {
    "duration": 13,
    "start_time": "2022-06-14T22:30:13.317Z"
   },
   {
    "duration": 27,
    "start_time": "2022-06-14T22:30:13.332Z"
   },
   {
    "duration": 5,
    "start_time": "2022-06-14T22:30:13.361Z"
   },
   {
    "duration": 17,
    "start_time": "2022-06-14T22:30:13.368Z"
   },
   {
    "duration": 6,
    "start_time": "2022-06-14T22:30:13.386Z"
   },
   {
    "duration": 4,
    "start_time": "2022-06-14T22:30:13.394Z"
   },
   {
    "duration": 6,
    "start_time": "2022-06-14T22:30:13.400Z"
   },
   {
    "duration": 7,
    "start_time": "2022-06-14T22:30:13.408Z"
   },
   {
    "duration": 8,
    "start_time": "2022-06-14T22:30:13.417Z"
   },
   {
    "duration": 5221,
    "start_time": "2022-06-14T22:30:13.426Z"
   },
   {
    "duration": 2,
    "start_time": "2022-06-14T22:30:18.649Z"
   },
   {
    "duration": 17,
    "start_time": "2022-06-14T22:30:18.660Z"
   },
   {
    "duration": 5,
    "start_time": "2022-06-14T22:30:18.678Z"
   },
   {
    "duration": 9,
    "start_time": "2022-06-14T22:30:18.685Z"
   },
   {
    "duration": 8,
    "start_time": "2022-06-14T22:30:18.695Z"
   },
   {
    "duration": 16,
    "start_time": "2022-06-14T22:30:18.705Z"
   },
   {
    "duration": 7,
    "start_time": "2022-06-14T22:30:18.722Z"
   },
   {
    "duration": 8,
    "start_time": "2022-06-14T22:30:18.731Z"
   },
   {
    "duration": 9,
    "start_time": "2022-06-14T22:30:18.741Z"
   },
   {
    "duration": 21,
    "start_time": "2022-06-14T22:30:18.752Z"
   },
   {
    "duration": 12,
    "start_time": "2022-06-14T22:30:18.776Z"
   },
   {
    "duration": 10,
    "start_time": "2022-06-14T22:30:18.789Z"
   },
   {
    "duration": 19,
    "start_time": "2022-06-14T22:30:18.800Z"
   },
   {
    "duration": 6,
    "start_time": "2022-06-14T22:30:18.820Z"
   },
   {
    "duration": 0,
    "start_time": "2022-06-14T22:53:36.718Z"
   },
   {
    "duration": 1968,
    "start_time": "2022-06-14T23:01:18.802Z"
   },
   {
    "duration": 2048,
    "start_time": "2022-06-14T23:01:20.773Z"
   },
   {
    "duration": 3397,
    "start_time": "2022-06-14T23:01:22.823Z"
   },
   {
    "duration": 3,
    "start_time": "2022-06-14T23:01:26.222Z"
   },
   {
    "duration": 39,
    "start_time": "2022-06-14T23:01:26.227Z"
   },
   {
    "duration": 18,
    "start_time": "2022-06-14T23:01:26.268Z"
   },
   {
    "duration": 6,
    "start_time": "2022-06-14T23:01:26.287Z"
   },
   {
    "duration": 12,
    "start_time": "2022-06-14T23:01:26.294Z"
   },
   {
    "duration": 11,
    "start_time": "2022-06-14T23:01:26.308Z"
   },
   {
    "duration": 52,
    "start_time": "2022-06-14T23:01:26.321Z"
   },
   {
    "duration": 258,
    "start_time": "2022-06-14T23:01:26.375Z"
   },
   {
    "duration": 255,
    "start_time": "2022-06-14T23:01:26.635Z"
   },
   {
    "duration": 459,
    "start_time": "2022-06-14T23:01:26.891Z"
   },
   {
    "duration": 237,
    "start_time": "2022-06-14T23:01:27.358Z"
   },
   {
    "duration": 6,
    "start_time": "2022-06-14T23:01:27.597Z"
   },
   {
    "duration": 8,
    "start_time": "2022-06-14T23:01:27.604Z"
   },
   {
    "duration": 7,
    "start_time": "2022-06-14T23:01:27.613Z"
   },
   {
    "duration": 10,
    "start_time": "2022-06-14T23:01:27.621Z"
   },
   {
    "duration": 6,
    "start_time": "2022-06-14T23:01:27.633Z"
   },
   {
    "duration": 23,
    "start_time": "2022-06-14T23:01:27.640Z"
   },
   {
    "duration": 10,
    "start_time": "2022-06-14T23:01:27.665Z"
   },
   {
    "duration": 6,
    "start_time": "2022-06-14T23:01:27.676Z"
   },
   {
    "duration": 22,
    "start_time": "2022-06-14T23:01:27.683Z"
   },
   {
    "duration": 23,
    "start_time": "2022-06-14T23:01:27.706Z"
   },
   {
    "duration": 6,
    "start_time": "2022-06-14T23:01:27.730Z"
   },
   {
    "duration": 28,
    "start_time": "2022-06-14T23:01:27.737Z"
   },
   {
    "duration": 12,
    "start_time": "2022-06-14T23:01:27.768Z"
   },
   {
    "duration": 9,
    "start_time": "2022-06-14T23:01:27.781Z"
   },
   {
    "duration": 16,
    "start_time": "2022-06-14T23:01:27.791Z"
   },
   {
    "duration": 19,
    "start_time": "2022-06-14T23:01:27.809Z"
   },
   {
    "duration": 22,
    "start_time": "2022-06-14T23:01:27.829Z"
   },
   {
    "duration": 18,
    "start_time": "2022-06-14T23:01:27.853Z"
   },
   {
    "duration": 29,
    "start_time": "2022-06-14T23:01:27.872Z"
   },
   {
    "duration": 31,
    "start_time": "2022-06-14T23:01:27.903Z"
   },
   {
    "duration": 10,
    "start_time": "2022-06-14T23:01:27.936Z"
   },
   {
    "duration": 29,
    "start_time": "2022-06-14T23:01:27.947Z"
   },
   {
    "duration": 18,
    "start_time": "2022-06-14T23:01:27.978Z"
   },
   {
    "duration": 10,
    "start_time": "2022-06-14T23:01:27.998Z"
   },
   {
    "duration": 4877,
    "start_time": "2022-06-14T23:01:28.010Z"
   },
   {
    "duration": 2,
    "start_time": "2022-06-14T23:01:32.889Z"
   },
   {
    "duration": 8,
    "start_time": "2022-06-14T23:01:32.895Z"
   },
   {
    "duration": 8,
    "start_time": "2022-06-14T23:01:32.904Z"
   },
   {
    "duration": 5,
    "start_time": "2022-06-14T23:01:32.914Z"
   },
   {
    "duration": 8,
    "start_time": "2022-06-14T23:01:32.920Z"
   },
   {
    "duration": 31,
    "start_time": "2022-06-14T23:01:32.930Z"
   },
   {
    "duration": 12,
    "start_time": "2022-06-14T23:01:32.963Z"
   },
   {
    "duration": 7,
    "start_time": "2022-06-14T23:01:32.976Z"
   },
   {
    "duration": 10,
    "start_time": "2022-06-14T23:01:32.984Z"
   },
   {
    "duration": 24,
    "start_time": "2022-06-14T23:01:32.996Z"
   },
   {
    "duration": 6,
    "start_time": "2022-06-14T23:01:33.022Z"
   },
   {
    "duration": 11,
    "start_time": "2022-06-14T23:01:33.030Z"
   },
   {
    "duration": 24,
    "start_time": "2022-06-14T23:01:33.043Z"
   },
   {
    "duration": 16,
    "start_time": "2022-06-14T23:01:33.069Z"
   },
   {
    "duration": 4,
    "start_time": "2022-06-14T23:01:39.297Z"
   },
   {
    "duration": 3,
    "start_time": "2022-06-14T23:03:20.034Z"
   },
   {
    "duration": 5,
    "start_time": "2022-06-14T23:04:00.107Z"
   },
   {
    "duration": 4,
    "start_time": "2022-06-14T23:04:17.003Z"
   },
   {
    "duration": 32999,
    "start_time": "2022-06-15T19:56:26.809Z"
   },
   {
    "duration": 7039,
    "start_time": "2022-06-15T19:56:59.811Z"
   },
   {
    "duration": 2159,
    "start_time": "2022-06-15T20:07:38.708Z"
   },
   {
    "duration": 2195,
    "start_time": "2022-06-15T20:07:40.870Z"
   },
   {
    "duration": 6455,
    "start_time": "2022-06-15T20:07:43.069Z"
   },
   {
    "duration": 3,
    "start_time": "2022-06-15T20:07:49.526Z"
   },
   {
    "duration": 73,
    "start_time": "2022-06-15T20:07:49.531Z"
   },
   {
    "duration": 15,
    "start_time": "2022-06-15T20:07:49.606Z"
   },
   {
    "duration": 4,
    "start_time": "2022-06-15T20:07:49.622Z"
   },
   {
    "duration": 15,
    "start_time": "2022-06-15T20:07:49.628Z"
   },
   {
    "duration": 16,
    "start_time": "2022-06-15T20:07:49.644Z"
   },
   {
    "duration": 54,
    "start_time": "2022-06-15T20:07:49.663Z"
   },
   {
    "duration": 293,
    "start_time": "2022-06-15T20:07:49.718Z"
   },
   {
    "duration": 250,
    "start_time": "2022-06-15T20:07:50.012Z"
   },
   {
    "duration": 474,
    "start_time": "2022-06-15T20:07:50.265Z"
   },
   {
    "duration": 271,
    "start_time": "2022-06-15T20:07:50.741Z"
   },
   {
    "duration": 6,
    "start_time": "2022-06-15T20:07:51.014Z"
   },
   {
    "duration": 8,
    "start_time": "2022-06-15T20:07:51.022Z"
   },
   {
    "duration": 12,
    "start_time": "2022-06-15T20:07:51.031Z"
   },
   {
    "duration": 47,
    "start_time": "2022-06-15T20:07:51.044Z"
   },
   {
    "duration": 5,
    "start_time": "2022-06-15T20:07:51.093Z"
   },
   {
    "duration": 8,
    "start_time": "2022-06-15T20:07:51.099Z"
   },
   {
    "duration": 15,
    "start_time": "2022-06-15T20:07:51.108Z"
   },
   {
    "duration": 10,
    "start_time": "2022-06-15T20:07:51.125Z"
   },
   {
    "duration": 42,
    "start_time": "2022-06-15T20:07:51.137Z"
   },
   {
    "duration": 25,
    "start_time": "2022-06-15T20:07:51.182Z"
   },
   {
    "duration": 6,
    "start_time": "2022-06-15T20:07:51.209Z"
   },
   {
    "duration": 12,
    "start_time": "2022-06-15T20:07:51.216Z"
   },
   {
    "duration": 7,
    "start_time": "2022-06-15T20:07:51.230Z"
   },
   {
    "duration": 6,
    "start_time": "2022-06-15T20:07:51.240Z"
   },
   {
    "duration": 8,
    "start_time": "2022-06-15T20:07:51.247Z"
   },
   {
    "duration": 20,
    "start_time": "2022-06-15T20:07:51.256Z"
   },
   {
    "duration": 42,
    "start_time": "2022-06-15T20:07:51.278Z"
   },
   {
    "duration": 5,
    "start_time": "2022-06-15T20:07:51.321Z"
   },
   {
    "duration": 5,
    "start_time": "2022-06-15T20:07:51.327Z"
   },
   {
    "duration": 5,
    "start_time": "2022-06-15T20:07:51.334Z"
   },
   {
    "duration": 7,
    "start_time": "2022-06-15T20:07:51.340Z"
   },
   {
    "duration": 6,
    "start_time": "2022-06-15T20:07:51.348Z"
   },
   {
    "duration": 31,
    "start_time": "2022-06-15T20:07:51.355Z"
   },
   {
    "duration": 3,
    "start_time": "2022-06-15T20:07:51.388Z"
   },
   {
    "duration": 5608,
    "start_time": "2022-06-15T20:07:51.393Z"
   },
   {
    "duration": 3,
    "start_time": "2022-06-15T20:07:57.003Z"
   },
   {
    "duration": 11,
    "start_time": "2022-06-15T20:07:57.007Z"
   },
   {
    "duration": 11,
    "start_time": "2022-06-15T20:07:57.020Z"
   },
   {
    "duration": 8,
    "start_time": "2022-06-15T20:07:57.033Z"
   },
   {
    "duration": 16,
    "start_time": "2022-06-15T20:07:57.043Z"
   },
   {
    "duration": 10,
    "start_time": "2022-06-15T20:07:57.061Z"
   },
   {
    "duration": 393,
    "start_time": "2022-06-15T20:07:57.074Z"
   },
   {
    "duration": 0,
    "start_time": "2022-06-15T20:07:57.469Z"
   },
   {
    "duration": 0,
    "start_time": "2022-06-15T20:07:57.470Z"
   },
   {
    "duration": 0,
    "start_time": "2022-06-15T20:07:57.472Z"
   },
   {
    "duration": 1,
    "start_time": "2022-06-15T20:07:57.473Z"
   },
   {
    "duration": 0,
    "start_time": "2022-06-15T20:07:57.474Z"
   },
   {
    "duration": 0,
    "start_time": "2022-06-15T20:07:57.475Z"
   },
   {
    "duration": 0,
    "start_time": "2022-06-15T20:07:57.476Z"
   },
   {
    "duration": 0,
    "start_time": "2022-06-15T20:07:57.477Z"
   },
   {
    "duration": 0,
    "start_time": "2022-06-15T20:07:57.478Z"
   },
   {
    "duration": 0,
    "start_time": "2022-06-15T20:07:57.479Z"
   },
   {
    "duration": 0,
    "start_time": "2022-06-15T20:07:57.480Z"
   },
   {
    "duration": 0,
    "start_time": "2022-06-15T20:07:57.480Z"
   },
   {
    "duration": 0,
    "start_time": "2022-06-15T20:07:57.481Z"
   },
   {
    "duration": 0,
    "start_time": "2022-06-15T20:07:57.482Z"
   },
   {
    "duration": 0,
    "start_time": "2022-06-15T20:07:57.486Z"
   },
   {
    "duration": 0,
    "start_time": "2022-06-15T20:07:57.488Z"
   },
   {
    "duration": 0,
    "start_time": "2022-06-15T20:07:57.489Z"
   },
   {
    "duration": 33,
    "start_time": "2022-06-15T20:09:36.367Z"
   },
   {
    "duration": 2255,
    "start_time": "2022-06-15T20:10:51.611Z"
   },
   {
    "duration": 2225,
    "start_time": "2022-06-15T20:10:53.869Z"
   },
   {
    "duration": 3788,
    "start_time": "2022-06-15T20:10:56.096Z"
   },
   {
    "duration": 3,
    "start_time": "2022-06-15T20:10:59.888Z"
   },
   {
    "duration": 34,
    "start_time": "2022-06-15T20:10:59.893Z"
   },
   {
    "duration": 14,
    "start_time": "2022-06-15T20:10:59.929Z"
   },
   {
    "duration": 4,
    "start_time": "2022-06-15T20:10:59.944Z"
   },
   {
    "duration": 15,
    "start_time": "2022-06-15T20:10:59.950Z"
   },
   {
    "duration": 31,
    "start_time": "2022-06-15T20:10:59.967Z"
   },
   {
    "duration": 27,
    "start_time": "2022-06-15T20:11:00.000Z"
   },
   {
    "duration": 302,
    "start_time": "2022-06-15T20:11:00.029Z"
   },
   {
    "duration": 257,
    "start_time": "2022-06-15T20:11:00.332Z"
   },
   {
    "duration": 506,
    "start_time": "2022-06-15T20:11:00.591Z"
   },
   {
    "duration": 247,
    "start_time": "2022-06-15T20:11:01.099Z"
   },
   {
    "duration": 17,
    "start_time": "2022-06-15T20:11:01.347Z"
   },
   {
    "duration": 36,
    "start_time": "2022-06-15T20:11:01.367Z"
   },
   {
    "duration": 39,
    "start_time": "2022-06-15T20:11:01.405Z"
   },
   {
    "duration": 51,
    "start_time": "2022-06-15T20:11:01.446Z"
   },
   {
    "duration": 34,
    "start_time": "2022-06-15T20:11:01.499Z"
   },
   {
    "duration": 16,
    "start_time": "2022-06-15T20:11:01.534Z"
   },
   {
    "duration": 35,
    "start_time": "2022-06-15T20:11:01.551Z"
   },
   {
    "duration": 14,
    "start_time": "2022-06-15T20:11:01.588Z"
   },
   {
    "duration": 27,
    "start_time": "2022-06-15T20:11:01.604Z"
   },
   {
    "duration": 35,
    "start_time": "2022-06-15T20:11:01.632Z"
   },
   {
    "duration": 23,
    "start_time": "2022-06-15T20:11:01.669Z"
   },
   {
    "duration": 5,
    "start_time": "2022-06-15T20:11:01.693Z"
   },
   {
    "duration": 38,
    "start_time": "2022-06-15T20:11:01.699Z"
   },
   {
    "duration": 8,
    "start_time": "2022-06-15T20:11:01.741Z"
   },
   {
    "duration": 12,
    "start_time": "2022-06-15T20:11:01.751Z"
   },
   {
    "duration": 40,
    "start_time": "2022-06-15T20:11:01.766Z"
   },
   {
    "duration": 10,
    "start_time": "2022-06-15T20:11:01.808Z"
   },
   {
    "duration": 14,
    "start_time": "2022-06-15T20:11:01.820Z"
   },
   {
    "duration": 17,
    "start_time": "2022-06-15T20:11:01.836Z"
   },
   {
    "duration": 59,
    "start_time": "2022-06-15T20:11:01.854Z"
   },
   {
    "duration": 36,
    "start_time": "2022-06-15T20:11:01.915Z"
   },
   {
    "duration": 37,
    "start_time": "2022-06-15T20:11:01.953Z"
   },
   {
    "duration": 21,
    "start_time": "2022-06-15T20:11:01.992Z"
   },
   {
    "duration": 68,
    "start_time": "2022-06-15T20:11:02.015Z"
   },
   {
    "duration": 5600,
    "start_time": "2022-06-15T20:11:02.085Z"
   },
   {
    "duration": 4,
    "start_time": "2022-06-15T20:11:07.688Z"
   },
   {
    "duration": 16,
    "start_time": "2022-06-15T20:11:07.694Z"
   },
   {
    "duration": 23,
    "start_time": "2022-06-15T20:11:07.712Z"
   },
   {
    "duration": 5,
    "start_time": "2022-06-15T20:11:07.737Z"
   },
   {
    "duration": 6,
    "start_time": "2022-06-15T20:11:07.744Z"
   },
   {
    "duration": 30,
    "start_time": "2022-06-15T20:11:07.752Z"
   },
   {
    "duration": 18,
    "start_time": "2022-06-15T20:11:07.788Z"
   },
   {
    "duration": 6,
    "start_time": "2022-06-15T20:11:07.808Z"
   },
   {
    "duration": 8,
    "start_time": "2022-06-15T20:11:07.815Z"
   },
   {
    "duration": 13,
    "start_time": "2022-06-15T20:11:07.825Z"
   },
   {
    "duration": 3,
    "start_time": "2022-06-15T20:11:07.839Z"
   },
   {
    "duration": 9,
    "start_time": "2022-06-15T20:11:07.843Z"
   },
   {
    "duration": 40,
    "start_time": "2022-06-15T20:11:07.853Z"
   },
   {
    "duration": 9,
    "start_time": "2022-06-15T20:11:07.895Z"
   },
   {
    "duration": 309,
    "start_time": "2022-06-15T20:11:07.906Z"
   },
   {
    "duration": 0,
    "start_time": "2022-06-15T20:11:08.216Z"
   },
   {
    "duration": 0,
    "start_time": "2022-06-15T20:11:08.217Z"
   },
   {
    "duration": 1,
    "start_time": "2022-06-15T20:11:08.218Z"
   },
   {
    "duration": 0,
    "start_time": "2022-06-15T20:11:08.220Z"
   },
   {
    "duration": 19315,
    "start_time": "2022-06-15T20:11:56.381Z"
   },
   {
    "duration": 147388,
    "start_time": "2022-06-15T20:12:30.508Z"
   },
   {
    "duration": 706449,
    "start_time": "2022-06-15T20:14:59.228Z"
   },
   {
    "duration": 43,
    "start_time": "2022-06-15T20:28:27.437Z"
   },
   {
    "duration": 14,
    "start_time": "2022-06-15T20:28:50.708Z"
   },
   {
    "duration": 34,
    "start_time": "2022-06-15T20:29:08.738Z"
   },
   {
    "duration": 5,
    "start_time": "2022-06-15T20:30:11.879Z"
   },
   {
    "duration": 323,
    "start_time": "2022-06-15T20:31:00.903Z"
   },
   {
    "duration": 6,
    "start_time": "2022-06-15T20:34:52.830Z"
   },
   {
    "duration": 3,
    "start_time": "2022-06-15T20:36:15.181Z"
   },
   {
    "duration": 5,
    "start_time": "2022-06-15T20:37:08.258Z"
   },
   {
    "duration": 874874,
    "start_time": "2022-06-15T20:37:56.002Z"
   },
   {
    "duration": 82,
    "start_time": "2022-06-15T20:52:30.878Z"
   },
   {
    "duration": 6,
    "start_time": "2022-06-15T20:52:30.961Z"
   },
   {
    "duration": 45,
    "start_time": "2022-06-15T20:56:49.711Z"
   },
   {
    "duration": 4,
    "start_time": "2022-06-15T21:04:06.130Z"
   },
   {
    "duration": 2,
    "start_time": "2022-06-15T21:04:08.899Z"
   },
   {
    "duration": 3,
    "start_time": "2022-06-15T21:04:09.627Z"
   },
   {
    "duration": 5,
    "start_time": "2022-06-15T21:04:10.736Z"
   },
   {
    "duration": 18,
    "start_time": "2022-06-15T21:04:11.448Z"
   },
   {
    "duration": 4,
    "start_time": "2022-06-15T21:04:22.395Z"
   },
   {
    "duration": 4,
    "start_time": "2022-06-15T21:04:26.081Z"
   },
   {
    "duration": 6712,
    "start_time": "2022-06-15T21:04:26.874Z"
   },
   {
    "duration": 3,
    "start_time": "2022-06-15T21:05:35.447Z"
   },
   {
    "duration": 2,
    "start_time": "2022-06-15T21:05:35.905Z"
   },
   {
    "duration": 4,
    "start_time": "2022-06-15T21:05:36.289Z"
   },
   {
    "duration": 16,
    "start_time": "2022-06-15T21:05:37.127Z"
   },
   {
    "duration": 3,
    "start_time": "2022-06-15T21:05:43.695Z"
   },
   {
    "duration": 3,
    "start_time": "2022-06-15T21:05:45.474Z"
   },
   {
    "duration": 170,
    "start_time": "2022-06-15T21:05:46.210Z"
   },
   {
    "duration": 2,
    "start_time": "2022-06-15T21:05:54.533Z"
   },
   {
    "duration": 3,
    "start_time": "2022-06-15T21:05:56.765Z"
   },
   {
    "duration": 4,
    "start_time": "2022-06-15T21:05:57.193Z"
   },
   {
    "duration": 4,
    "start_time": "2022-06-15T21:05:57.645Z"
   },
   {
    "duration": 3,
    "start_time": "2022-06-15T21:05:59.461Z"
   },
   {
    "duration": 41,
    "start_time": "2022-06-15T21:06:00.428Z"
   },
   {
    "duration": 2978,
    "start_time": "2022-06-15T21:06:36.070Z"
   },
   {
    "duration": 2234,
    "start_time": "2022-06-15T21:06:39.050Z"
   },
   {
    "duration": 11206,
    "start_time": "2022-06-15T21:06:41.288Z"
   },
   {
    "duration": 3,
    "start_time": "2022-06-15T21:06:52.496Z"
   },
   {
    "duration": 66,
    "start_time": "2022-06-15T21:06:52.500Z"
   },
   {
    "duration": 14,
    "start_time": "2022-06-15T21:06:52.568Z"
   },
   {
    "duration": 4,
    "start_time": "2022-06-15T21:06:52.583Z"
   },
   {
    "duration": 13,
    "start_time": "2022-06-15T21:06:52.588Z"
   },
   {
    "duration": 15,
    "start_time": "2022-06-15T21:06:52.602Z"
   },
   {
    "duration": 24,
    "start_time": "2022-06-15T21:06:52.619Z"
   },
   {
    "duration": 249,
    "start_time": "2022-06-15T21:06:52.645Z"
   },
   {
    "duration": 258,
    "start_time": "2022-06-15T21:06:52.895Z"
   },
   {
    "duration": 402,
    "start_time": "2022-06-15T21:06:53.158Z"
   },
   {
    "duration": 219,
    "start_time": "2022-06-15T21:06:53.562Z"
   },
   {
    "duration": 7,
    "start_time": "2022-06-15T21:06:53.782Z"
   },
   {
    "duration": 9,
    "start_time": "2022-06-15T21:06:53.791Z"
   },
   {
    "duration": 7,
    "start_time": "2022-06-15T21:06:53.802Z"
   },
   {
    "duration": 8,
    "start_time": "2022-06-15T21:06:53.811Z"
   },
   {
    "duration": 8,
    "start_time": "2022-06-15T21:06:53.820Z"
   },
   {
    "duration": 6,
    "start_time": "2022-06-15T21:06:53.829Z"
   },
   {
    "duration": 23,
    "start_time": "2022-06-15T21:06:53.837Z"
   },
   {
    "duration": 2,
    "start_time": "2022-06-15T21:06:53.862Z"
   },
   {
    "duration": 27,
    "start_time": "2022-06-15T21:06:53.866Z"
   },
   {
    "duration": 25,
    "start_time": "2022-06-15T21:06:53.894Z"
   },
   {
    "duration": 6,
    "start_time": "2022-06-15T21:06:53.921Z"
   },
   {
    "duration": 31,
    "start_time": "2022-06-15T21:06:53.928Z"
   },
   {
    "duration": 6,
    "start_time": "2022-06-15T21:06:53.960Z"
   },
   {
    "duration": 8,
    "start_time": "2022-06-15T21:06:53.967Z"
   },
   {
    "duration": 6,
    "start_time": "2022-06-15T21:06:53.976Z"
   },
   {
    "duration": 14,
    "start_time": "2022-06-15T21:06:53.983Z"
   },
   {
    "duration": 14,
    "start_time": "2022-06-15T21:06:53.999Z"
   },
   {
    "duration": 5,
    "start_time": "2022-06-15T21:06:54.015Z"
   },
   {
    "duration": 11,
    "start_time": "2022-06-15T21:06:54.022Z"
   },
   {
    "duration": 7,
    "start_time": "2022-06-15T21:06:54.034Z"
   },
   {
    "duration": 6,
    "start_time": "2022-06-15T21:06:54.043Z"
   },
   {
    "duration": 9,
    "start_time": "2022-06-15T21:06:54.050Z"
   },
   {
    "duration": 7,
    "start_time": "2022-06-15T21:06:54.061Z"
   },
   {
    "duration": 15,
    "start_time": "2022-06-15T21:06:54.069Z"
   },
   {
    "duration": 4875,
    "start_time": "2022-06-15T21:06:54.085Z"
   },
   {
    "duration": 287,
    "start_time": "2022-06-15T21:06:58.963Z"
   },
   {
    "duration": 0,
    "start_time": "2022-06-15T21:06:59.258Z"
   },
   {
    "duration": 0,
    "start_time": "2022-06-15T21:06:59.259Z"
   },
   {
    "duration": 0,
    "start_time": "2022-06-15T21:06:59.261Z"
   },
   {
    "duration": 0,
    "start_time": "2022-06-15T21:06:59.262Z"
   },
   {
    "duration": 0,
    "start_time": "2022-06-15T21:06:59.264Z"
   },
   {
    "duration": 0,
    "start_time": "2022-06-15T21:06:59.265Z"
   },
   {
    "duration": 0,
    "start_time": "2022-06-15T21:06:59.266Z"
   },
   {
    "duration": 0,
    "start_time": "2022-06-15T21:06:59.267Z"
   },
   {
    "duration": 0,
    "start_time": "2022-06-15T21:06:59.269Z"
   },
   {
    "duration": 0,
    "start_time": "2022-06-15T21:06:59.270Z"
   },
   {
    "duration": 0,
    "start_time": "2022-06-15T21:06:59.271Z"
   },
   {
    "duration": 0,
    "start_time": "2022-06-15T21:06:59.273Z"
   },
   {
    "duration": 0,
    "start_time": "2022-06-15T21:06:59.274Z"
   },
   {
    "duration": 19,
    "start_time": "2022-06-15T21:08:05.517Z"
   },
   {
    "duration": 22,
    "start_time": "2022-06-15T21:08:16.694Z"
   },
   {
    "duration": 22,
    "start_time": "2022-06-15T21:08:32.339Z"
   },
   {
    "duration": 25,
    "start_time": "2022-06-15T21:08:54.148Z"
   },
   {
    "duration": 20,
    "start_time": "2022-06-15T21:09:00.211Z"
   },
   {
    "duration": 19,
    "start_time": "2022-06-15T21:09:34.159Z"
   },
   {
    "duration": 20,
    "start_time": "2022-06-15T21:09:43.344Z"
   },
   {
    "duration": 5,
    "start_time": "2022-06-15T21:11:25.684Z"
   },
   {
    "duration": 5,
    "start_time": "2022-06-15T21:12:41.867Z"
   },
   {
    "duration": 3,
    "start_time": "2022-06-15T21:12:46.013Z"
   },
   {
    "duration": 5,
    "start_time": "2022-06-15T21:12:49.752Z"
   },
   {
    "duration": 17,
    "start_time": "2022-06-15T21:13:20.235Z"
   },
   {
    "duration": 20,
    "start_time": "2022-06-15T21:13:43.080Z"
   },
   {
    "duration": 13073,
    "start_time": "2022-06-15T21:14:49.940Z"
   },
   {
    "duration": 4,
    "start_time": "2022-06-15T21:18:32.359Z"
   },
   {
    "duration": 5,
    "start_time": "2022-06-15T21:19:34.261Z"
   },
   {
    "duration": 3,
    "start_time": "2022-06-15T21:19:35.740Z"
   },
   {
    "duration": 5,
    "start_time": "2022-06-15T21:19:48.555Z"
   },
   {
    "duration": 208484,
    "start_time": "2022-06-15T21:20:44.207Z"
   },
   {
    "duration": 0,
    "start_time": "2022-06-15T21:24:12.692Z"
   },
   {
    "duration": 171101,
    "start_time": "2022-06-15T21:24:29.499Z"
   },
   {
    "duration": 0,
    "start_time": "2022-06-15T21:27:20.602Z"
   },
   {
    "duration": 0,
    "start_time": "2022-06-15T21:27:20.603Z"
   },
   {
    "duration": 0,
    "start_time": "2022-06-15T21:27:20.604Z"
   },
   {
    "duration": 0,
    "start_time": "2022-06-15T21:27:20.605Z"
   },
   {
    "duration": 135617,
    "start_time": "2022-06-15T21:27:22.249Z"
   },
   {
    "duration": 22,
    "start_time": "2022-06-15T21:29:57.311Z"
   },
   {
    "duration": 6,
    "start_time": "2022-06-15T21:30:11.375Z"
   },
   {
    "duration": 4,
    "start_time": "2022-06-15T21:30:26.553Z"
   },
   {
    "duration": 4,
    "start_time": "2022-06-15T21:30:29.807Z"
   },
   {
    "duration": 16,
    "start_time": "2022-06-15T21:30:50.232Z"
   },
   {
    "duration": 8,
    "start_time": "2022-06-15T21:30:55.562Z"
   },
   {
    "duration": 6,
    "start_time": "2022-06-15T21:31:08.244Z"
   },
   {
    "duration": 5,
    "start_time": "2022-06-15T21:31:29.024Z"
   },
   {
    "duration": 19,
    "start_time": "2022-06-15T21:32:22.517Z"
   },
   {
    "duration": 18,
    "start_time": "2022-06-15T21:32:28.019Z"
   },
   {
    "duration": 24,
    "start_time": "2022-06-15T21:33:00.174Z"
   },
   {
    "duration": 14,
    "start_time": "2022-06-15T21:33:08.285Z"
   },
   {
    "duration": 6,
    "start_time": "2022-06-15T21:33:32.988Z"
   },
   {
    "duration": 21,
    "start_time": "2022-06-15T21:34:29.712Z"
   },
   {
    "duration": 19,
    "start_time": "2022-06-15T21:34:48.354Z"
   },
   {
    "duration": 60,
    "start_time": "2022-06-15T21:35:19.215Z"
   },
   {
    "duration": 4,
    "start_time": "2022-06-15T21:35:48.658Z"
   },
   {
    "duration": 13,
    "start_time": "2022-06-15T21:35:54.592Z"
   },
   {
    "duration": 17,
    "start_time": "2022-06-15T21:36:30.485Z"
   },
   {
    "duration": 3,
    "start_time": "2022-06-15T21:36:42.615Z"
   },
   {
    "duration": 21,
    "start_time": "2022-06-15T21:36:48.747Z"
   },
   {
    "duration": 15,
    "start_time": "2022-06-15T21:36:59.996Z"
   },
   {
    "duration": 6,
    "start_time": "2022-06-15T21:37:00.683Z"
   },
   {
    "duration": 21,
    "start_time": "2022-06-15T21:37:09.163Z"
   },
   {
    "duration": 13,
    "start_time": "2022-06-15T21:37:42.019Z"
   },
   {
    "duration": 35,
    "start_time": "2022-06-15T21:38:37.697Z"
   },
   {
    "duration": 13,
    "start_time": "2022-06-15T21:39:46.944Z"
   },
   {
    "duration": 19,
    "start_time": "2022-06-15T21:41:01.428Z"
   },
   {
    "duration": 17,
    "start_time": "2022-06-15T21:41:12.532Z"
   },
   {
    "duration": 23,
    "start_time": "2022-06-15T21:41:30.704Z"
   },
   {
    "duration": 18,
    "start_time": "2022-06-15T21:41:36.395Z"
   },
   {
    "duration": 18,
    "start_time": "2022-06-15T21:42:04.236Z"
   },
   {
    "duration": 11,
    "start_time": "2022-06-15T21:42:10.749Z"
   },
   {
    "duration": 19,
    "start_time": "2022-06-15T21:44:20.431Z"
   },
   {
    "duration": 2,
    "start_time": "2022-06-15T21:45:34.469Z"
   },
   {
    "duration": 3,
    "start_time": "2022-06-15T21:45:35.026Z"
   },
   {
    "duration": 26,
    "start_time": "2022-06-15T21:45:35.571Z"
   },
   {
    "duration": 9,
    "start_time": "2022-06-15T21:45:47.255Z"
   },
   {
    "duration": 14,
    "start_time": "2022-06-15T21:45:48.625Z"
   },
   {
    "duration": 2,
    "start_time": "2022-06-15T21:45:54.545Z"
   },
   {
    "duration": 6,
    "start_time": "2022-06-15T21:45:55.256Z"
   },
   {
    "duration": 24,
    "start_time": "2022-06-15T21:45:56.145Z"
   },
   {
    "duration": 23,
    "start_time": "2022-06-15T21:46:33.675Z"
   },
   {
    "duration": 1930,
    "start_time": "2022-06-15T21:47:03.506Z"
   },
   {
    "duration": 2085,
    "start_time": "2022-06-15T21:47:05.438Z"
   },
   {
    "duration": 4089,
    "start_time": "2022-06-15T21:47:07.525Z"
   },
   {
    "duration": 3,
    "start_time": "2022-06-15T21:47:11.616Z"
   },
   {
    "duration": 33,
    "start_time": "2022-06-15T21:47:11.620Z"
   },
   {
    "duration": 14,
    "start_time": "2022-06-15T21:47:11.655Z"
   },
   {
    "duration": 3,
    "start_time": "2022-06-15T21:47:11.671Z"
   },
   {
    "duration": 12,
    "start_time": "2022-06-15T21:47:11.676Z"
   },
   {
    "duration": 12,
    "start_time": "2022-06-15T21:47:11.689Z"
   },
   {
    "duration": 25,
    "start_time": "2022-06-15T21:47:11.704Z"
   },
   {
    "duration": 262,
    "start_time": "2022-06-15T21:47:11.731Z"
   },
   {
    "duration": 224,
    "start_time": "2022-06-15T21:47:11.994Z"
   },
   {
    "duration": 416,
    "start_time": "2022-06-15T21:47:12.219Z"
   },
   {
    "duration": 244,
    "start_time": "2022-06-15T21:47:12.636Z"
   },
   {
    "duration": 7,
    "start_time": "2022-06-15T21:47:12.882Z"
   },
   {
    "duration": 10,
    "start_time": "2022-06-15T21:47:12.891Z"
   },
   {
    "duration": 7,
    "start_time": "2022-06-15T21:47:12.903Z"
   },
   {
    "duration": 15,
    "start_time": "2022-06-15T21:47:12.911Z"
   },
   {
    "duration": 13,
    "start_time": "2022-06-15T21:47:12.928Z"
   },
   {
    "duration": 18,
    "start_time": "2022-06-15T21:47:12.942Z"
   },
   {
    "duration": 18,
    "start_time": "2022-06-15T21:47:12.962Z"
   },
   {
    "duration": 15,
    "start_time": "2022-06-15T21:47:12.982Z"
   },
   {
    "duration": 48,
    "start_time": "2022-06-15T21:47:12.999Z"
   },
   {
    "duration": 45,
    "start_time": "2022-06-15T21:47:13.049Z"
   },
   {
    "duration": 29,
    "start_time": "2022-06-15T21:47:13.096Z"
   },
   {
    "duration": 26,
    "start_time": "2022-06-15T21:47:13.127Z"
   },
   {
    "duration": 14,
    "start_time": "2022-06-15T21:47:13.155Z"
   },
   {
    "duration": 19,
    "start_time": "2022-06-15T21:47:13.173Z"
   },
   {
    "duration": 17,
    "start_time": "2022-06-15T21:47:13.194Z"
   },
   {
    "duration": 26,
    "start_time": "2022-06-15T21:47:13.212Z"
   },
   {
    "duration": 12,
    "start_time": "2022-06-15T21:47:13.240Z"
   },
   {
    "duration": 14,
    "start_time": "2022-06-15T21:47:13.254Z"
   },
   {
    "duration": 16,
    "start_time": "2022-06-15T21:47:13.270Z"
   },
   {
    "duration": 9,
    "start_time": "2022-06-15T21:47:13.287Z"
   },
   {
    "duration": 14,
    "start_time": "2022-06-15T21:47:13.297Z"
   },
   {
    "duration": 12,
    "start_time": "2022-06-15T21:47:13.312Z"
   },
   {
    "duration": 6,
    "start_time": "2022-06-15T21:47:13.325Z"
   },
   {
    "duration": 8,
    "start_time": "2022-06-15T21:47:13.332Z"
   },
   {
    "duration": 4758,
    "start_time": "2022-06-15T21:47:13.341Z"
   },
   {
    "duration": 5,
    "start_time": "2022-06-15T21:47:18.101Z"
   },
   {
    "duration": 10,
    "start_time": "2022-06-15T21:47:18.108Z"
   },
   {
    "duration": 7,
    "start_time": "2022-06-15T21:47:18.119Z"
   },
   {
    "duration": 134046,
    "start_time": "2022-06-15T21:47:18.127Z"
   },
   {
    "duration": 11,
    "start_time": "2022-06-15T21:49:32.175Z"
   },
   {
    "duration": 27,
    "start_time": "2022-06-15T21:49:32.187Z"
   },
   {
    "duration": 5,
    "start_time": "2022-06-15T21:49:32.259Z"
   },
   {
    "duration": 55,
    "start_time": "2022-06-15T21:49:32.265Z"
   },
   {
    "duration": 3,
    "start_time": "2022-06-15T21:49:32.321Z"
   },
   {
    "duration": 36,
    "start_time": "2022-06-15T21:49:32.325Z"
   },
   {
    "duration": 23,
    "start_time": "2022-06-15T21:49:32.362Z"
   },
   {
    "duration": 36,
    "start_time": "2022-06-15T21:49:32.386Z"
   },
   {
    "duration": 6,
    "start_time": "2022-06-15T21:49:32.423Z"
   },
   {
    "duration": 17,
    "start_time": "2022-06-15T21:49:32.431Z"
   },
   {
    "duration": 294,
    "start_time": "2022-06-15T21:49:32.449Z"
   },
   {
    "duration": 0,
    "start_time": "2022-06-15T21:49:32.744Z"
   },
   {
    "duration": 0,
    "start_time": "2022-06-15T21:49:32.746Z"
   },
   {
    "duration": 0,
    "start_time": "2022-06-15T21:49:32.759Z"
   },
   {
    "duration": 0,
    "start_time": "2022-06-15T21:49:32.760Z"
   },
   {
    "duration": 0,
    "start_time": "2022-06-15T21:49:32.761Z"
   },
   {
    "duration": 0,
    "start_time": "2022-06-15T21:49:32.763Z"
   },
   {
    "duration": 0,
    "start_time": "2022-06-15T21:49:32.764Z"
   },
   {
    "duration": 0,
    "start_time": "2022-06-15T21:49:32.765Z"
   },
   {
    "duration": 0,
    "start_time": "2022-06-15T21:49:32.766Z"
   },
   {
    "duration": 19,
    "start_time": "2022-06-15T21:50:33.966Z"
   },
   {
    "duration": 23,
    "start_time": "2022-06-15T21:50:46.002Z"
   },
   {
    "duration": 21,
    "start_time": "2022-06-15T21:51:05.354Z"
   },
   {
    "duration": 21,
    "start_time": "2022-06-15T21:51:14.706Z"
   },
   {
    "duration": 27,
    "start_time": "2022-06-15T21:51:21.211Z"
   },
   {
    "duration": 33,
    "start_time": "2022-06-15T21:54:58.284Z"
   },
   {
    "duration": 21,
    "start_time": "2022-06-15T21:55:10.685Z"
   },
   {
    "duration": 26,
    "start_time": "2022-06-15T21:55:14.163Z"
   },
   {
    "duration": 12,
    "start_time": "2022-06-15T21:56:24.771Z"
   },
   {
    "duration": 5,
    "start_time": "2022-06-15T22:12:05.137Z"
   },
   {
    "duration": 5,
    "start_time": "2022-06-15T22:12:23.298Z"
   },
   {
    "duration": 3,
    "start_time": "2022-06-15T22:12:25.697Z"
   },
   {
    "duration": 6,
    "start_time": "2022-06-15T22:16:06.832Z"
   },
   {
    "duration": 16,
    "start_time": "2022-06-15T22:16:16.086Z"
   },
   {
    "duration": 5,
    "start_time": "2022-06-15T22:16:39.073Z"
   },
   {
    "duration": 17,
    "start_time": "2022-06-15T22:16:41.686Z"
   },
   {
    "duration": 3,
    "start_time": "2022-06-15T22:21:42.437Z"
   },
   {
    "duration": 16,
    "start_time": "2022-06-15T22:21:54.011Z"
   },
   {
    "duration": 33,
    "start_time": "2022-06-15T22:22:06.091Z"
   },
   {
    "duration": 6,
    "start_time": "2022-06-15T22:22:09.835Z"
   },
   {
    "duration": 4,
    "start_time": "2022-06-15T22:22:32.431Z"
   },
   {
    "duration": 5,
    "start_time": "2022-06-15T22:22:48.607Z"
   },
   {
    "duration": 7,
    "start_time": "2022-06-15T22:23:26.712Z"
   },
   {
    "duration": 17,
    "start_time": "2022-06-15T22:24:05.044Z"
   },
   {
    "duration": 2,
    "start_time": "2022-06-15T22:24:51.245Z"
   },
   {
    "duration": 7,
    "start_time": "2022-06-15T22:24:52.828Z"
   },
   {
    "duration": 16,
    "start_time": "2022-06-15T22:24:55.366Z"
   },
   {
    "duration": 29,
    "start_time": "2022-06-15T22:25:11.705Z"
   },
   {
    "duration": 6,
    "start_time": "2022-06-15T22:26:20.000Z"
   },
   {
    "duration": 25,
    "start_time": "2022-06-15T22:26:29.063Z"
   },
   {
    "duration": 33,
    "start_time": "2022-06-15T22:26:41.261Z"
   },
   {
    "duration": 3090,
    "start_time": "2022-06-15T22:41:52.682Z"
   },
   {
    "duration": 28,
    "start_time": "2022-06-15T22:42:32.873Z"
   },
   {
    "duration": 223,
    "start_time": "2022-06-15T22:44:16.849Z"
   },
   {
    "duration": 21,
    "start_time": "2022-06-15T22:44:50.495Z"
   },
   {
    "duration": 135,
    "start_time": "2022-06-15T22:45:07.037Z"
   },
   {
    "duration": 32,
    "start_time": "2022-06-15T22:46:04.509Z"
   },
   {
    "duration": 29,
    "start_time": "2022-06-15T22:46:10.144Z"
   },
   {
    "duration": 23,
    "start_time": "2022-06-15T22:46:15.320Z"
   },
   {
    "duration": 124,
    "start_time": "2022-06-15T22:46:42.142Z"
   },
   {
    "duration": 219,
    "start_time": "2022-06-15T22:47:02.474Z"
   },
   {
    "duration": 34,
    "start_time": "2022-06-15T22:47:23.994Z"
   },
   {
    "duration": 224,
    "start_time": "2022-06-15T22:47:41.999Z"
   },
   {
    "duration": 4,
    "start_time": "2022-06-15T22:48:30.430Z"
   },
   {
    "duration": 214,
    "start_time": "2022-06-15T22:48:58.049Z"
   },
   {
    "duration": 225,
    "start_time": "2022-06-15T22:49:31.411Z"
   },
   {
    "duration": 209,
    "start_time": "2022-06-15T22:49:52.314Z"
   },
   {
    "duration": 20,
    "start_time": "2022-06-15T22:50:25.019Z"
   },
   {
    "duration": 1885,
    "start_time": "2022-06-15T22:52:32.778Z"
   },
   {
    "duration": 1928,
    "start_time": "2022-06-15T22:52:34.665Z"
   },
   {
    "duration": 3214,
    "start_time": "2022-06-15T22:52:36.597Z"
   },
   {
    "duration": 3,
    "start_time": "2022-06-15T22:52:39.812Z"
   },
   {
    "duration": 29,
    "start_time": "2022-06-15T22:52:39.818Z"
   },
   {
    "duration": 14,
    "start_time": "2022-06-15T22:52:39.848Z"
   },
   {
    "duration": 8,
    "start_time": "2022-06-15T22:52:39.863Z"
   },
   {
    "duration": 13,
    "start_time": "2022-06-15T22:52:39.872Z"
   },
   {
    "duration": 10,
    "start_time": "2022-06-15T22:52:39.887Z"
   },
   {
    "duration": 25,
    "start_time": "2022-06-15T22:52:39.899Z"
   },
   {
    "duration": 256,
    "start_time": "2022-06-15T22:52:39.926Z"
   },
   {
    "duration": 215,
    "start_time": "2022-06-15T22:52:40.183Z"
   },
   {
    "duration": 425,
    "start_time": "2022-06-15T22:52:40.400Z"
   },
   {
    "duration": 218,
    "start_time": "2022-06-15T22:52:40.826Z"
   },
   {
    "duration": 15,
    "start_time": "2022-06-15T22:52:41.045Z"
   },
   {
    "duration": 11,
    "start_time": "2022-06-15T22:52:41.061Z"
   },
   {
    "duration": 7,
    "start_time": "2022-06-15T22:52:41.073Z"
   },
   {
    "duration": 13,
    "start_time": "2022-06-15T22:52:41.081Z"
   },
   {
    "duration": 8,
    "start_time": "2022-06-15T22:52:41.095Z"
   },
   {
    "duration": 7,
    "start_time": "2022-06-15T22:52:41.105Z"
   },
   {
    "duration": 8,
    "start_time": "2022-06-15T22:52:41.113Z"
   },
   {
    "duration": 5,
    "start_time": "2022-06-15T22:52:41.122Z"
   },
   {
    "duration": 33,
    "start_time": "2022-06-15T22:52:41.129Z"
   },
   {
    "duration": 25,
    "start_time": "2022-06-15T22:52:41.164Z"
   },
   {
    "duration": 6,
    "start_time": "2022-06-15T22:52:41.190Z"
   },
   {
    "duration": 6,
    "start_time": "2022-06-15T22:52:41.197Z"
   },
   {
    "duration": 6,
    "start_time": "2022-06-15T22:52:41.206Z"
   },
   {
    "duration": 7,
    "start_time": "2022-06-15T22:52:41.213Z"
   },
   {
    "duration": 7,
    "start_time": "2022-06-15T22:52:41.222Z"
   },
   {
    "duration": 32,
    "start_time": "2022-06-15T22:52:41.230Z"
   },
   {
    "duration": 4,
    "start_time": "2022-06-15T22:52:41.263Z"
   },
   {
    "duration": 8,
    "start_time": "2022-06-15T22:52:41.268Z"
   },
   {
    "duration": 9,
    "start_time": "2022-06-15T22:52:41.277Z"
   },
   {
    "duration": 6,
    "start_time": "2022-06-15T22:52:41.288Z"
   },
   {
    "duration": 6,
    "start_time": "2022-06-15T22:52:41.295Z"
   },
   {
    "duration": 6,
    "start_time": "2022-06-15T22:52:41.302Z"
   },
   {
    "duration": 6,
    "start_time": "2022-06-15T22:52:41.310Z"
   },
   {
    "duration": 6,
    "start_time": "2022-06-15T22:52:41.317Z"
   },
   {
    "duration": 4653,
    "start_time": "2022-06-15T22:52:41.324Z"
   },
   {
    "duration": 5,
    "start_time": "2022-06-15T22:52:45.979Z"
   },
   {
    "duration": 9,
    "start_time": "2022-06-15T22:52:45.985Z"
   },
   {
    "duration": 9,
    "start_time": "2022-06-15T22:52:45.995Z"
   },
   {
    "duration": 117670,
    "start_time": "2022-06-15T22:52:46.005Z"
   },
   {
    "duration": 10,
    "start_time": "2022-06-15T22:54:43.677Z"
   },
   {
    "duration": 71,
    "start_time": "2022-06-15T22:54:43.689Z"
   },
   {
    "duration": 4,
    "start_time": "2022-06-15T22:54:43.762Z"
   },
   {
    "duration": 18,
    "start_time": "2022-06-15T22:54:43.768Z"
   },
   {
    "duration": 298,
    "start_time": "2022-06-15T22:54:43.787Z"
   },
   {
    "duration": 14,
    "start_time": "2022-06-15T22:55:14.017Z"
   },
   {
    "duration": 9,
    "start_time": "2022-06-15T22:55:36.742Z"
   },
   {
    "duration": 23,
    "start_time": "2022-06-15T22:55:42.206Z"
   },
   {
    "duration": 1864,
    "start_time": "2022-06-15T22:56:09.700Z"
   },
   {
    "duration": 1935,
    "start_time": "2022-06-15T22:56:11.566Z"
   },
   {
    "duration": 3176,
    "start_time": "2022-06-15T22:56:13.503Z"
   },
   {
    "duration": 3,
    "start_time": "2022-06-15T22:56:16.680Z"
   },
   {
    "duration": 31,
    "start_time": "2022-06-15T22:56:16.684Z"
   },
   {
    "duration": 14,
    "start_time": "2022-06-15T22:56:16.716Z"
   },
   {
    "duration": 4,
    "start_time": "2022-06-15T22:56:16.731Z"
   },
   {
    "duration": 15,
    "start_time": "2022-06-15T22:56:16.737Z"
   },
   {
    "duration": 14,
    "start_time": "2022-06-15T22:56:16.764Z"
   },
   {
    "duration": 22,
    "start_time": "2022-06-15T22:56:16.781Z"
   },
   {
    "duration": 245,
    "start_time": "2022-06-15T22:56:16.805Z"
   },
   {
    "duration": 242,
    "start_time": "2022-06-15T22:56:17.058Z"
   },
   {
    "duration": 386,
    "start_time": "2022-06-15T22:56:17.302Z"
   },
   {
    "duration": 219,
    "start_time": "2022-06-15T22:56:17.690Z"
   },
   {
    "duration": 8,
    "start_time": "2022-06-15T22:56:17.911Z"
   },
   {
    "duration": 7,
    "start_time": "2022-06-15T22:56:17.921Z"
   },
   {
    "duration": 6,
    "start_time": "2022-06-15T22:56:17.930Z"
   },
   {
    "duration": 22,
    "start_time": "2022-06-15T22:56:17.937Z"
   },
   {
    "duration": 4,
    "start_time": "2022-06-15T22:56:17.961Z"
   },
   {
    "duration": 7,
    "start_time": "2022-06-15T22:56:17.966Z"
   },
   {
    "duration": 11,
    "start_time": "2022-06-15T22:56:17.974Z"
   },
   {
    "duration": 6,
    "start_time": "2022-06-15T22:56:17.987Z"
   },
   {
    "duration": 22,
    "start_time": "2022-06-15T22:56:17.995Z"
   },
   {
    "duration": 42,
    "start_time": "2022-06-15T22:56:18.019Z"
   },
   {
    "duration": 7,
    "start_time": "2022-06-15T22:56:18.063Z"
   },
   {
    "duration": 4,
    "start_time": "2022-06-15T22:56:18.071Z"
   },
   {
    "duration": 6,
    "start_time": "2022-06-15T22:56:18.076Z"
   },
   {
    "duration": 8,
    "start_time": "2022-06-15T22:56:18.085Z"
   },
   {
    "duration": 7,
    "start_time": "2022-06-15T22:56:18.094Z"
   },
   {
    "duration": 14,
    "start_time": "2022-06-15T22:56:18.102Z"
   },
   {
    "duration": 6,
    "start_time": "2022-06-15T22:56:18.117Z"
   },
   {
    "duration": 6,
    "start_time": "2022-06-15T22:56:18.124Z"
   },
   {
    "duration": 28,
    "start_time": "2022-06-15T22:56:18.131Z"
   },
   {
    "duration": 9,
    "start_time": "2022-06-15T22:56:18.160Z"
   },
   {
    "duration": 6,
    "start_time": "2022-06-15T22:56:18.170Z"
   },
   {
    "duration": 6,
    "start_time": "2022-06-15T22:56:18.177Z"
   },
   {
    "duration": 10,
    "start_time": "2022-06-15T22:56:18.184Z"
   },
   {
    "duration": 5,
    "start_time": "2022-06-15T22:56:18.195Z"
   },
   {
    "duration": 4516,
    "start_time": "2022-06-15T22:56:18.201Z"
   },
   {
    "duration": 5,
    "start_time": "2022-06-15T22:56:22.718Z"
   },
   {
    "duration": 13,
    "start_time": "2022-06-15T22:56:22.724Z"
   },
   {
    "duration": 10,
    "start_time": "2022-06-15T22:56:22.738Z"
   },
   {
    "duration": 122217,
    "start_time": "2022-06-15T22:56:22.749Z"
   },
   {
    "duration": 10,
    "start_time": "2022-06-15T22:58:24.968Z"
   },
   {
    "duration": 10,
    "start_time": "2022-06-15T22:58:24.979Z"
   },
   {
    "duration": 6,
    "start_time": "2022-06-15T22:58:24.990Z"
   },
   {
    "duration": 61,
    "start_time": "2022-06-15T22:58:24.998Z"
   },
   {
    "duration": 9,
    "start_time": "2022-06-15T22:58:30.663Z"
   },
   {
    "duration": 8,
    "start_time": "2022-06-15T22:58:36.686Z"
   },
   {
    "duration": 12,
    "start_time": "2022-06-15T22:58:41.412Z"
   },
   {
    "duration": 1952,
    "start_time": "2022-06-15T22:58:51.724Z"
   },
   {
    "duration": 1913,
    "start_time": "2022-06-15T22:58:53.678Z"
   },
   {
    "duration": 3238,
    "start_time": "2022-06-15T22:58:55.592Z"
   },
   {
    "duration": 3,
    "start_time": "2022-06-15T22:58:58.832Z"
   },
   {
    "duration": 29,
    "start_time": "2022-06-15T22:58:58.837Z"
   },
   {
    "duration": 15,
    "start_time": "2022-06-15T22:58:58.868Z"
   },
   {
    "duration": 4,
    "start_time": "2022-06-15T22:58:58.884Z"
   },
   {
    "duration": 12,
    "start_time": "2022-06-15T22:58:58.889Z"
   },
   {
    "duration": 12,
    "start_time": "2022-06-15T22:58:58.902Z"
   },
   {
    "duration": 20,
    "start_time": "2022-06-15T22:58:58.916Z"
   },
   {
    "duration": 250,
    "start_time": "2022-06-15T22:58:58.938Z"
   },
   {
    "duration": 213,
    "start_time": "2022-06-15T22:58:59.190Z"
   },
   {
    "duration": 390,
    "start_time": "2022-06-15T22:58:59.404Z"
   },
   {
    "duration": 213,
    "start_time": "2022-06-15T22:58:59.795Z"
   },
   {
    "duration": 6,
    "start_time": "2022-06-15T22:59:00.010Z"
   },
   {
    "duration": 9,
    "start_time": "2022-06-15T22:59:00.018Z"
   },
   {
    "duration": 7,
    "start_time": "2022-06-15T22:59:00.029Z"
   },
   {
    "duration": 25,
    "start_time": "2022-06-15T22:59:00.037Z"
   },
   {
    "duration": 15,
    "start_time": "2022-06-15T22:59:00.064Z"
   },
   {
    "duration": 18,
    "start_time": "2022-06-15T22:59:00.080Z"
   },
   {
    "duration": 15,
    "start_time": "2022-06-15T22:59:00.100Z"
   },
   {
    "duration": 8,
    "start_time": "2022-06-15T22:59:00.117Z"
   },
   {
    "duration": 27,
    "start_time": "2022-06-15T22:59:00.126Z"
   },
   {
    "duration": 24,
    "start_time": "2022-06-15T22:59:00.155Z"
   },
   {
    "duration": 7,
    "start_time": "2022-06-15T22:59:00.180Z"
   },
   {
    "duration": 16,
    "start_time": "2022-06-15T22:59:00.188Z"
   },
   {
    "duration": 14,
    "start_time": "2022-06-15T22:59:00.205Z"
   },
   {
    "duration": 6,
    "start_time": "2022-06-15T22:59:00.222Z"
   },
   {
    "duration": 9,
    "start_time": "2022-06-15T22:59:00.230Z"
   },
   {
    "duration": 18,
    "start_time": "2022-06-15T22:59:00.240Z"
   },
   {
    "duration": 17,
    "start_time": "2022-06-15T22:59:00.260Z"
   },
   {
    "duration": 9,
    "start_time": "2022-06-15T22:59:00.279Z"
   },
   {
    "duration": 16,
    "start_time": "2022-06-15T22:59:00.289Z"
   },
   {
    "duration": 9,
    "start_time": "2022-06-15T22:59:00.307Z"
   },
   {
    "duration": 8,
    "start_time": "2022-06-15T22:59:00.318Z"
   },
   {
    "duration": 14,
    "start_time": "2022-06-15T22:59:00.327Z"
   },
   {
    "duration": 9,
    "start_time": "2022-06-15T22:59:00.343Z"
   },
   {
    "duration": 16,
    "start_time": "2022-06-15T22:59:00.353Z"
   },
   {
    "duration": 4781,
    "start_time": "2022-06-15T22:59:00.370Z"
   },
   {
    "duration": 6,
    "start_time": "2022-06-15T22:59:05.153Z"
   },
   {
    "duration": 9,
    "start_time": "2022-06-15T22:59:05.160Z"
   },
   {
    "duration": 6,
    "start_time": "2022-06-15T22:59:05.171Z"
   },
   {
    "duration": 120499,
    "start_time": "2022-06-15T22:59:05.179Z"
   },
   {
    "duration": 85,
    "start_time": "2022-06-15T23:01:05.680Z"
   },
   {
    "duration": 32,
    "start_time": "2022-06-15T23:01:05.766Z"
   },
   {
    "duration": 14,
    "start_time": "2022-06-15T23:01:05.800Z"
   },
   {
    "duration": 20,
    "start_time": "2022-06-15T23:01:05.816Z"
   },
   {
    "duration": 10,
    "start_time": "2022-06-15T23:01:26.416Z"
   },
   {
    "duration": 1858,
    "start_time": "2022-06-15T23:01:57.786Z"
   },
   {
    "duration": 1951,
    "start_time": "2022-06-15T23:01:59.646Z"
   },
   {
    "duration": 3214,
    "start_time": "2022-06-15T23:02:01.599Z"
   },
   {
    "duration": 3,
    "start_time": "2022-06-15T23:02:04.815Z"
   },
   {
    "duration": 31,
    "start_time": "2022-06-15T23:02:04.820Z"
   },
   {
    "duration": 14,
    "start_time": "2022-06-15T23:02:04.853Z"
   },
   {
    "duration": 4,
    "start_time": "2022-06-15T23:02:04.869Z"
   },
   {
    "duration": 15,
    "start_time": "2022-06-15T23:02:04.874Z"
   },
   {
    "duration": 15,
    "start_time": "2022-06-15T23:02:04.890Z"
   },
   {
    "duration": 24,
    "start_time": "2022-06-15T23:02:04.907Z"
   },
   {
    "duration": 261,
    "start_time": "2022-06-15T23:02:04.933Z"
   },
   {
    "duration": 222,
    "start_time": "2022-06-15T23:02:05.195Z"
   },
   {
    "duration": 388,
    "start_time": "2022-06-15T23:02:05.419Z"
   },
   {
    "duration": 230,
    "start_time": "2022-06-15T23:02:05.809Z"
   },
   {
    "duration": 7,
    "start_time": "2022-06-15T23:02:06.041Z"
   },
   {
    "duration": 14,
    "start_time": "2022-06-15T23:02:06.050Z"
   },
   {
    "duration": 11,
    "start_time": "2022-06-15T23:02:06.066Z"
   },
   {
    "duration": 9,
    "start_time": "2022-06-15T23:02:06.078Z"
   },
   {
    "duration": 6,
    "start_time": "2022-06-15T23:02:06.089Z"
   },
   {
    "duration": 10,
    "start_time": "2022-06-15T23:02:06.097Z"
   },
   {
    "duration": 7,
    "start_time": "2022-06-15T23:02:06.109Z"
   },
   {
    "duration": 14,
    "start_time": "2022-06-15T23:02:06.118Z"
   },
   {
    "duration": 29,
    "start_time": "2022-06-15T23:02:06.133Z"
   },
   {
    "duration": 26,
    "start_time": "2022-06-15T23:02:06.163Z"
   },
   {
    "duration": 6,
    "start_time": "2022-06-15T23:02:06.191Z"
   },
   {
    "duration": 7,
    "start_time": "2022-06-15T23:02:06.198Z"
   },
   {
    "duration": 7,
    "start_time": "2022-06-15T23:02:06.207Z"
   },
   {
    "duration": 4,
    "start_time": "2022-06-15T23:02:06.218Z"
   },
   {
    "duration": 8,
    "start_time": "2022-06-15T23:02:06.224Z"
   },
   {
    "duration": 37,
    "start_time": "2022-06-15T23:02:06.233Z"
   },
   {
    "duration": 10,
    "start_time": "2022-06-15T23:02:06.271Z"
   },
   {
    "duration": 5,
    "start_time": "2022-06-15T23:02:06.283Z"
   },
   {
    "duration": 5,
    "start_time": "2022-06-15T23:02:06.290Z"
   },
   {
    "duration": 7,
    "start_time": "2022-06-15T23:02:06.296Z"
   },
   {
    "duration": 8,
    "start_time": "2022-06-15T23:02:06.304Z"
   },
   {
    "duration": 6,
    "start_time": "2022-06-15T23:02:06.313Z"
   },
   {
    "duration": 7,
    "start_time": "2022-06-15T23:02:06.321Z"
   },
   {
    "duration": 6,
    "start_time": "2022-06-15T23:02:06.330Z"
   },
   {
    "duration": 4846,
    "start_time": "2022-06-15T23:02:06.337Z"
   },
   {
    "duration": 4,
    "start_time": "2022-06-15T23:02:11.185Z"
   },
   {
    "duration": 10,
    "start_time": "2022-06-15T23:02:11.191Z"
   },
   {
    "duration": 25,
    "start_time": "2022-06-15T23:02:11.203Z"
   },
   {
    "duration": 1864,
    "start_time": "2022-06-15T23:03:15.124Z"
   },
   {
    "duration": 1936,
    "start_time": "2022-06-15T23:03:16.990Z"
   },
   {
    "duration": 4030,
    "start_time": "2022-06-15T23:03:18.928Z"
   },
   {
    "duration": 3,
    "start_time": "2022-06-15T23:03:22.960Z"
   },
   {
    "duration": 29,
    "start_time": "2022-06-15T23:03:22.966Z"
   },
   {
    "duration": 17,
    "start_time": "2022-06-15T23:03:22.998Z"
   },
   {
    "duration": 5,
    "start_time": "2022-06-15T23:03:23.017Z"
   },
   {
    "duration": 26,
    "start_time": "2022-06-15T23:03:23.023Z"
   },
   {
    "duration": 14,
    "start_time": "2022-06-15T23:03:23.051Z"
   },
   {
    "duration": 23,
    "start_time": "2022-06-15T23:03:23.067Z"
   },
   {
    "duration": 248,
    "start_time": "2022-06-15T23:03:23.091Z"
   },
   {
    "duration": 224,
    "start_time": "2022-06-15T23:03:23.340Z"
   },
   {
    "duration": 405,
    "start_time": "2022-06-15T23:03:23.566Z"
   },
   {
    "duration": 228,
    "start_time": "2022-06-15T23:03:23.974Z"
   },
   {
    "duration": 6,
    "start_time": "2022-06-15T23:03:24.204Z"
   },
   {
    "duration": 7,
    "start_time": "2022-06-15T23:03:24.212Z"
   },
   {
    "duration": 6,
    "start_time": "2022-06-15T23:03:24.220Z"
   },
   {
    "duration": 10,
    "start_time": "2022-06-15T23:03:24.227Z"
   },
   {
    "duration": 20,
    "start_time": "2022-06-15T23:03:24.238Z"
   },
   {
    "duration": 4,
    "start_time": "2022-06-15T23:03:24.260Z"
   },
   {
    "duration": 7,
    "start_time": "2022-06-15T23:03:24.265Z"
   },
   {
    "duration": 4,
    "start_time": "2022-06-15T23:03:24.273Z"
   },
   {
    "duration": 22,
    "start_time": "2022-06-15T23:03:24.278Z"
   },
   {
    "duration": 25,
    "start_time": "2022-06-15T23:03:24.302Z"
   },
   {
    "duration": 31,
    "start_time": "2022-06-15T23:03:24.328Z"
   },
   {
    "duration": 2,
    "start_time": "2022-06-15T23:03:24.360Z"
   },
   {
    "duration": 6,
    "start_time": "2022-06-15T23:03:24.364Z"
   },
   {
    "duration": 5,
    "start_time": "2022-06-15T23:03:24.372Z"
   },
   {
    "duration": 6,
    "start_time": "2022-06-15T23:03:24.379Z"
   },
   {
    "duration": 12,
    "start_time": "2022-06-15T23:03:24.386Z"
   },
   {
    "duration": 8,
    "start_time": "2022-06-15T23:03:24.400Z"
   },
   {
    "duration": 9,
    "start_time": "2022-06-15T23:03:24.410Z"
   },
   {
    "duration": 7,
    "start_time": "2022-06-15T23:03:24.420Z"
   },
   {
    "duration": 5,
    "start_time": "2022-06-15T23:03:24.429Z"
   },
   {
    "duration": 5,
    "start_time": "2022-06-15T23:03:24.435Z"
   },
   {
    "duration": 20,
    "start_time": "2022-06-15T23:03:24.442Z"
   },
   {
    "duration": 6,
    "start_time": "2022-06-15T23:03:24.464Z"
   },
   {
    "duration": 7,
    "start_time": "2022-06-15T23:03:24.472Z"
   },
   {
    "duration": 4652,
    "start_time": "2022-06-15T23:03:24.480Z"
   },
   {
    "duration": 5,
    "start_time": "2022-06-15T23:03:29.134Z"
   },
   {
    "duration": 6,
    "start_time": "2022-06-15T23:03:29.142Z"
   },
   {
    "duration": 11,
    "start_time": "2022-06-15T23:03:29.149Z"
   },
   {
    "duration": 308698,
    "start_time": "2022-06-15T23:03:29.161Z"
   },
   {
    "duration": 0,
    "start_time": "2022-06-15T23:08:37.861Z"
   },
   {
    "duration": 0,
    "start_time": "2022-06-15T23:08:37.862Z"
   },
   {
    "duration": 0,
    "start_time": "2022-06-15T23:08:37.863Z"
   },
   {
    "duration": 0,
    "start_time": "2022-06-15T23:08:37.864Z"
   },
   {
    "duration": 1921,
    "start_time": "2022-06-15T23:08:56.399Z"
   },
   {
    "duration": 2786,
    "start_time": "2022-06-15T23:08:58.322Z"
   },
   {
    "duration": 3304,
    "start_time": "2022-06-15T23:09:01.110Z"
   },
   {
    "duration": 4,
    "start_time": "2022-06-15T23:09:04.416Z"
   },
   {
    "duration": 57,
    "start_time": "2022-06-15T23:09:04.421Z"
   },
   {
    "duration": 14,
    "start_time": "2022-06-15T23:09:04.480Z"
   },
   {
    "duration": 15,
    "start_time": "2022-06-15T23:09:04.496Z"
   },
   {
    "duration": 36,
    "start_time": "2022-06-15T23:09:04.513Z"
   },
   {
    "duration": 26,
    "start_time": "2022-06-15T23:09:04.550Z"
   },
   {
    "duration": 44,
    "start_time": "2022-06-15T23:09:04.579Z"
   },
   {
    "duration": 261,
    "start_time": "2022-06-15T23:09:04.625Z"
   },
   {
    "duration": 229,
    "start_time": "2022-06-15T23:09:04.888Z"
   },
   {
    "duration": 413,
    "start_time": "2022-06-15T23:09:05.119Z"
   },
   {
    "duration": 216,
    "start_time": "2022-06-15T23:09:05.533Z"
   },
   {
    "duration": 13,
    "start_time": "2022-06-15T23:09:05.750Z"
   },
   {
    "duration": 29,
    "start_time": "2022-06-15T23:09:05.764Z"
   },
   {
    "duration": 25,
    "start_time": "2022-06-15T23:09:05.795Z"
   },
   {
    "duration": 43,
    "start_time": "2022-06-15T23:09:05.821Z"
   },
   {
    "duration": 25,
    "start_time": "2022-06-15T23:09:05.866Z"
   },
   {
    "duration": 17,
    "start_time": "2022-06-15T23:09:05.893Z"
   },
   {
    "duration": 17,
    "start_time": "2022-06-15T23:09:05.912Z"
   },
   {
    "duration": 11,
    "start_time": "2022-06-15T23:09:05.930Z"
   },
   {
    "duration": 29,
    "start_time": "2022-06-15T23:09:05.943Z"
   },
   {
    "duration": 52,
    "start_time": "2022-06-15T23:09:05.974Z"
   },
   {
    "duration": 18,
    "start_time": "2022-06-15T23:09:06.030Z"
   },
   {
    "duration": 28,
    "start_time": "2022-06-15T23:09:06.049Z"
   },
   {
    "duration": 26,
    "start_time": "2022-06-15T23:09:06.079Z"
   },
   {
    "duration": 28,
    "start_time": "2022-06-15T23:09:06.108Z"
   },
   {
    "duration": 36,
    "start_time": "2022-06-15T23:09:06.138Z"
   },
   {
    "duration": 22,
    "start_time": "2022-06-15T23:09:06.176Z"
   },
   {
    "duration": 25,
    "start_time": "2022-06-15T23:09:06.200Z"
   },
   {
    "duration": 7,
    "start_time": "2022-06-15T23:09:06.227Z"
   },
   {
    "duration": 13,
    "start_time": "2022-06-15T23:09:06.236Z"
   },
   {
    "duration": 10,
    "start_time": "2022-06-15T23:09:06.251Z"
   },
   {
    "duration": 7,
    "start_time": "2022-06-15T23:09:06.263Z"
   },
   {
    "duration": 8,
    "start_time": "2022-06-15T23:09:06.272Z"
   },
   {
    "duration": 6,
    "start_time": "2022-06-15T23:09:06.282Z"
   },
   {
    "duration": 293,
    "start_time": "2022-06-15T23:09:06.290Z"
   },
   {
    "duration": 0,
    "start_time": "2022-06-15T23:09:06.584Z"
   },
   {
    "duration": 0,
    "start_time": "2022-06-15T23:09:06.586Z"
   },
   {
    "duration": 0,
    "start_time": "2022-06-15T23:09:06.588Z"
   },
   {
    "duration": 0,
    "start_time": "2022-06-15T23:09:06.589Z"
   },
   {
    "duration": 0,
    "start_time": "2022-06-15T23:09:06.591Z"
   },
   {
    "duration": 0,
    "start_time": "2022-06-15T23:09:06.592Z"
   },
   {
    "duration": 0,
    "start_time": "2022-06-15T23:09:06.593Z"
   },
   {
    "duration": 0,
    "start_time": "2022-06-15T23:09:06.595Z"
   },
   {
    "duration": 0,
    "start_time": "2022-06-15T23:09:06.596Z"
   },
   {
    "duration": 17,
    "start_time": "2022-06-15T23:09:19.580Z"
   },
   {
    "duration": 16,
    "start_time": "2022-06-15T23:09:27.440Z"
   },
   {
    "duration": 16,
    "start_time": "2022-06-15T23:09:36.588Z"
   },
   {
    "duration": 4,
    "start_time": "2022-06-15T23:10:25.948Z"
   },
   {
    "duration": 17,
    "start_time": "2022-06-15T23:10:28.665Z"
   },
   {
    "duration": 30,
    "start_time": "2022-06-15T23:12:08.080Z"
   },
   {
    "duration": 4,
    "start_time": "2022-06-15T23:12:14.717Z"
   },
   {
    "duration": 3,
    "start_time": "2022-06-15T23:12:43.820Z"
   },
   {
    "duration": 4,
    "start_time": "2022-06-15T23:12:51.106Z"
   },
   {
    "duration": 15,
    "start_time": "2022-06-15T23:12:57.989Z"
   },
   {
    "duration": 4,
    "start_time": "2022-06-15T23:13:58.970Z"
   },
   {
    "duration": 2262,
    "start_time": "2022-06-15T23:13:59.932Z"
   },
   {
    "duration": 6605,
    "start_time": "2022-06-15T23:14:38.385Z"
   },
   {
    "duration": 4,
    "start_time": "2022-06-15T23:15:00.254Z"
   },
   {
    "duration": 6497,
    "start_time": "2022-06-15T23:15:00.669Z"
   },
   {
    "duration": 3,
    "start_time": "2022-06-15T23:15:09.086Z"
   },
   {
    "duration": 6823,
    "start_time": "2022-06-15T23:15:09.663Z"
   },
   {
    "duration": 4990,
    "start_time": "2022-06-15T23:15:46.283Z"
   },
   {
    "duration": 3,
    "start_time": "2022-06-15T23:15:58.605Z"
   },
   {
    "duration": 4900,
    "start_time": "2022-06-15T23:16:00.060Z"
   },
   {
    "duration": 5542,
    "start_time": "2022-06-15T23:16:06.871Z"
   },
   {
    "duration": 5449,
    "start_time": "2022-06-15T23:16:27.280Z"
   },
   {
    "duration": 4898,
    "start_time": "2022-06-15T23:16:33.574Z"
   },
   {
    "duration": 3,
    "start_time": "2022-06-15T23:16:41.666Z"
   },
   {
    "duration": 4945,
    "start_time": "2022-06-15T23:16:42.015Z"
   },
   {
    "duration": 4,
    "start_time": "2022-06-15T23:16:52.983Z"
   },
   {
    "duration": 4884,
    "start_time": "2022-06-15T23:16:53.420Z"
   },
   {
    "duration": 1883,
    "start_time": "2022-06-15T23:17:11.077Z"
   },
   {
    "duration": 1950,
    "start_time": "2022-06-15T23:17:12.962Z"
   },
   {
    "duration": 3176,
    "start_time": "2022-06-15T23:17:14.914Z"
   },
   {
    "duration": 2,
    "start_time": "2022-06-15T23:17:18.092Z"
   },
   {
    "duration": 40,
    "start_time": "2022-06-15T23:17:18.096Z"
   },
   {
    "duration": 14,
    "start_time": "2022-06-15T23:17:18.137Z"
   },
   {
    "duration": 3,
    "start_time": "2022-06-15T23:17:18.153Z"
   },
   {
    "duration": 12,
    "start_time": "2022-06-15T23:17:18.157Z"
   },
   {
    "duration": 12,
    "start_time": "2022-06-15T23:17:18.171Z"
   },
   {
    "duration": 22,
    "start_time": "2022-06-15T23:17:18.184Z"
   },
   {
    "duration": 242,
    "start_time": "2022-06-15T23:17:18.208Z"
   },
   {
    "duration": 221,
    "start_time": "2022-06-15T23:17:18.451Z"
   },
   {
    "duration": 390,
    "start_time": "2022-06-15T23:17:18.673Z"
   },
   {
    "duration": 216,
    "start_time": "2022-06-15T23:17:19.066Z"
   },
   {
    "duration": 7,
    "start_time": "2022-06-15T23:17:19.283Z"
   },
   {
    "duration": 10,
    "start_time": "2022-06-15T23:17:19.291Z"
   },
   {
    "duration": 9,
    "start_time": "2022-06-15T23:17:19.303Z"
   },
   {
    "duration": 8,
    "start_time": "2022-06-15T23:17:19.313Z"
   },
   {
    "duration": 6,
    "start_time": "2022-06-15T23:17:19.322Z"
   },
   {
    "duration": 6,
    "start_time": "2022-06-15T23:17:19.329Z"
   },
   {
    "duration": 23,
    "start_time": "2022-06-15T23:17:19.336Z"
   },
   {
    "duration": 3,
    "start_time": "2022-06-15T23:17:19.360Z"
   },
   {
    "duration": 23,
    "start_time": "2022-06-15T23:17:19.364Z"
   },
   {
    "duration": 23,
    "start_time": "2022-06-15T23:17:19.389Z"
   },
   {
    "duration": 5,
    "start_time": "2022-06-15T23:17:19.414Z"
   },
   {
    "duration": 5,
    "start_time": "2022-06-15T23:17:19.421Z"
   },
   {
    "duration": 31,
    "start_time": "2022-06-15T23:17:19.427Z"
   },
   {
    "duration": 3,
    "start_time": "2022-06-15T23:17:19.460Z"
   },
   {
    "duration": 10,
    "start_time": "2022-06-15T23:17:19.464Z"
   },
   {
    "duration": 19,
    "start_time": "2022-06-15T23:17:19.475Z"
   },
   {
    "duration": 6,
    "start_time": "2022-06-15T23:17:19.496Z"
   },
   {
    "duration": 6,
    "start_time": "2022-06-15T23:17:19.503Z"
   },
   {
    "duration": 22,
    "start_time": "2022-06-15T23:17:19.510Z"
   },
   {
    "duration": 15,
    "start_time": "2022-06-15T23:17:19.534Z"
   },
   {
    "duration": 21,
    "start_time": "2022-06-15T23:17:19.550Z"
   },
   {
    "duration": 23,
    "start_time": "2022-06-15T23:17:19.573Z"
   },
   {
    "duration": 22,
    "start_time": "2022-06-15T23:17:19.597Z"
   },
   {
    "duration": 26,
    "start_time": "2022-06-15T23:17:19.621Z"
   },
   {
    "duration": 4798,
    "start_time": "2022-06-15T23:17:19.649Z"
   },
   {
    "duration": 1926,
    "start_time": "2022-06-15T23:17:40.625Z"
   },
   {
    "duration": 2051,
    "start_time": "2022-06-15T23:17:42.553Z"
   },
   {
    "duration": 3812,
    "start_time": "2022-06-15T23:17:44.606Z"
   },
   {
    "duration": 3,
    "start_time": "2022-06-15T23:17:48.420Z"
   },
   {
    "duration": 47,
    "start_time": "2022-06-15T23:17:48.425Z"
   },
   {
    "duration": 14,
    "start_time": "2022-06-15T23:17:48.474Z"
   },
   {
    "duration": 3,
    "start_time": "2022-06-15T23:17:48.489Z"
   },
   {
    "duration": 24,
    "start_time": "2022-06-15T23:17:48.494Z"
   },
   {
    "duration": 16,
    "start_time": "2022-06-15T23:17:48.520Z"
   },
   {
    "duration": 27,
    "start_time": "2022-06-15T23:17:48.538Z"
   },
   {
    "duration": 243,
    "start_time": "2022-06-15T23:17:48.566Z"
   },
   {
    "duration": 210,
    "start_time": "2022-06-15T23:17:48.810Z"
   },
   {
    "duration": 387,
    "start_time": "2022-06-15T23:17:49.022Z"
   },
   {
    "duration": 217,
    "start_time": "2022-06-15T23:17:49.411Z"
   },
   {
    "duration": 6,
    "start_time": "2022-06-15T23:17:49.630Z"
   },
   {
    "duration": 17,
    "start_time": "2022-06-15T23:17:49.637Z"
   },
   {
    "duration": 13,
    "start_time": "2022-06-15T23:17:49.656Z"
   },
   {
    "duration": 21,
    "start_time": "2022-06-15T23:17:49.670Z"
   },
   {
    "duration": 16,
    "start_time": "2022-06-15T23:17:49.692Z"
   },
   {
    "duration": 21,
    "start_time": "2022-06-15T23:17:49.710Z"
   },
   {
    "duration": 10,
    "start_time": "2022-06-15T23:17:49.733Z"
   },
   {
    "duration": 14,
    "start_time": "2022-06-15T23:17:49.745Z"
   },
   {
    "duration": 31,
    "start_time": "2022-06-15T23:17:49.760Z"
   },
   {
    "duration": 31,
    "start_time": "2022-06-15T23:17:49.793Z"
   },
   {
    "duration": 14,
    "start_time": "2022-06-15T23:17:49.826Z"
   },
   {
    "duration": 24,
    "start_time": "2022-06-15T23:17:49.842Z"
   },
   {
    "duration": 22,
    "start_time": "2022-06-15T23:17:49.868Z"
   },
   {
    "duration": 21,
    "start_time": "2022-06-15T23:17:49.894Z"
   },
   {
    "duration": 19,
    "start_time": "2022-06-15T23:17:49.917Z"
   },
   {
    "duration": 21,
    "start_time": "2022-06-15T23:17:49.938Z"
   },
   {
    "duration": 16,
    "start_time": "2022-06-15T23:17:49.961Z"
   },
   {
    "duration": 19,
    "start_time": "2022-06-15T23:17:49.979Z"
   },
   {
    "duration": 13,
    "start_time": "2022-06-15T23:17:49.999Z"
   },
   {
    "duration": 16,
    "start_time": "2022-06-15T23:17:50.014Z"
   },
   {
    "duration": 5,
    "start_time": "2022-06-15T23:17:50.031Z"
   },
   {
    "duration": 29,
    "start_time": "2022-06-15T23:17:50.038Z"
   },
   {
    "duration": 18,
    "start_time": "2022-06-15T23:17:50.069Z"
   },
   {
    "duration": 32,
    "start_time": "2022-06-15T23:17:50.088Z"
   },
   {
    "duration": 4949,
    "start_time": "2022-06-15T23:17:50.122Z"
   },
   {
    "duration": 5,
    "start_time": "2022-06-15T23:17:55.072Z"
   },
   {
    "duration": 27,
    "start_time": "2022-06-15T23:17:55.078Z"
   },
   {
    "duration": 45,
    "start_time": "2022-06-15T23:17:55.107Z"
   },
   {
    "duration": 1897,
    "start_time": "2022-06-15T23:18:12.398Z"
   },
   {
    "duration": 1931,
    "start_time": "2022-06-15T23:18:14.298Z"
   },
   {
    "duration": 4030,
    "start_time": "2022-06-15T23:18:16.231Z"
   },
   {
    "duration": 3,
    "start_time": "2022-06-15T23:18:20.263Z"
   },
   {
    "duration": 39,
    "start_time": "2022-06-15T23:18:20.267Z"
   },
   {
    "duration": 17,
    "start_time": "2022-06-15T23:18:20.308Z"
   },
   {
    "duration": 3,
    "start_time": "2022-06-15T23:18:20.327Z"
   },
   {
    "duration": 17,
    "start_time": "2022-06-15T23:18:20.332Z"
   },
   {
    "duration": 16,
    "start_time": "2022-06-15T23:18:20.350Z"
   },
   {
    "duration": 24,
    "start_time": "2022-06-15T23:18:20.369Z"
   },
   {
    "duration": 241,
    "start_time": "2022-06-15T23:18:20.395Z"
   },
   {
    "duration": 230,
    "start_time": "2022-06-15T23:18:20.638Z"
   },
   {
    "duration": 385,
    "start_time": "2022-06-15T23:18:20.869Z"
   },
   {
    "duration": 212,
    "start_time": "2022-06-15T23:18:21.258Z"
   },
   {
    "duration": 6,
    "start_time": "2022-06-15T23:18:21.472Z"
   },
   {
    "duration": 16,
    "start_time": "2022-06-15T23:18:21.480Z"
   },
   {
    "duration": 24,
    "start_time": "2022-06-15T23:18:21.497Z"
   },
   {
    "duration": 31,
    "start_time": "2022-06-15T23:18:21.522Z"
   },
   {
    "duration": 20,
    "start_time": "2022-06-15T23:18:21.554Z"
   },
   {
    "duration": 26,
    "start_time": "2022-06-15T23:18:21.576Z"
   },
   {
    "duration": 16,
    "start_time": "2022-06-15T23:18:21.603Z"
   },
   {
    "duration": 18,
    "start_time": "2022-06-15T23:18:21.621Z"
   },
   {
    "duration": 28,
    "start_time": "2022-06-15T23:18:21.641Z"
   },
   {
    "duration": 27,
    "start_time": "2022-06-15T23:18:21.671Z"
   },
   {
    "duration": 7,
    "start_time": "2022-06-15T23:18:21.699Z"
   },
   {
    "duration": 27,
    "start_time": "2022-06-15T23:18:21.707Z"
   },
   {
    "duration": 9,
    "start_time": "2022-06-15T23:18:21.736Z"
   },
   {
    "duration": 22,
    "start_time": "2022-06-15T23:18:21.748Z"
   },
   {
    "duration": 37,
    "start_time": "2022-06-15T23:18:21.771Z"
   },
   {
    "duration": 14,
    "start_time": "2022-06-15T23:18:21.810Z"
   },
   {
    "duration": 15,
    "start_time": "2022-06-15T23:18:21.826Z"
   },
   {
    "duration": 16,
    "start_time": "2022-06-15T23:18:21.843Z"
   },
   {
    "duration": 21,
    "start_time": "2022-06-15T23:18:21.861Z"
   },
   {
    "duration": 21,
    "start_time": "2022-06-15T23:18:21.883Z"
   },
   {
    "duration": 11,
    "start_time": "2022-06-15T23:18:21.906Z"
   },
   {
    "duration": 19,
    "start_time": "2022-06-15T23:18:21.919Z"
   },
   {
    "duration": 17,
    "start_time": "2022-06-15T23:18:21.940Z"
   },
   {
    "duration": 23,
    "start_time": "2022-06-15T23:18:21.958Z"
   },
   {
    "duration": 4881,
    "start_time": "2022-06-15T23:18:21.983Z"
   },
   {
    "duration": 4,
    "start_time": "2022-06-15T23:18:26.866Z"
   },
   {
    "duration": 12,
    "start_time": "2022-06-15T23:18:26.872Z"
   },
   {
    "duration": 6,
    "start_time": "2022-06-15T23:18:26.886Z"
   },
   {
    "duration": 14546,
    "start_time": "2022-06-15T23:18:26.893Z"
   },
   {
    "duration": 10,
    "start_time": "2022-06-15T23:18:41.440Z"
   },
   {
    "duration": 30,
    "start_time": "2022-06-15T23:18:41.451Z"
   },
   {
    "duration": 0,
    "start_time": "2022-06-15T23:18:41.483Z"
   },
   {
    "duration": 0,
    "start_time": "2022-06-15T23:18:41.484Z"
   },
   {
    "duration": 4,
    "start_time": "2022-06-15T23:18:51.690Z"
   },
   {
    "duration": 4958,
    "start_time": "2022-06-15T23:18:52.264Z"
   },
   {
    "duration": 4838,
    "start_time": "2022-06-15T23:19:03.873Z"
   },
   {
    "duration": 3,
    "start_time": "2022-06-15T23:19:11.280Z"
   },
   {
    "duration": 4880,
    "start_time": "2022-06-15T23:19:11.575Z"
   },
   {
    "duration": 3,
    "start_time": "2022-06-15T23:19:46.186Z"
   },
   {
    "duration": 23240,
    "start_time": "2022-06-15T23:19:46.191Z"
   },
   {
    "duration": 1860,
    "start_time": "2022-06-15T23:20:22.845Z"
   },
   {
    "duration": 1957,
    "start_time": "2022-06-15T23:20:24.708Z"
   },
   {
    "duration": 3238,
    "start_time": "2022-06-15T23:20:26.667Z"
   },
   {
    "duration": 2,
    "start_time": "2022-06-15T23:20:29.908Z"
   },
   {
    "duration": 34,
    "start_time": "2022-06-15T23:20:29.912Z"
   },
   {
    "duration": 13,
    "start_time": "2022-06-15T23:20:29.948Z"
   },
   {
    "duration": 6,
    "start_time": "2022-06-15T23:20:29.962Z"
   },
   {
    "duration": 12,
    "start_time": "2022-06-15T23:20:29.969Z"
   },
   {
    "duration": 28,
    "start_time": "2022-06-15T23:20:29.983Z"
   },
   {
    "duration": 33,
    "start_time": "2022-06-15T23:20:30.014Z"
   },
   {
    "duration": 244,
    "start_time": "2022-06-15T23:20:30.049Z"
   },
   {
    "duration": 229,
    "start_time": "2022-06-15T23:20:30.294Z"
   },
   {
    "duration": 411,
    "start_time": "2022-06-15T23:20:30.524Z"
   },
   {
    "duration": 218,
    "start_time": "2022-06-15T23:20:30.937Z"
   },
   {
    "duration": 6,
    "start_time": "2022-06-15T23:20:31.159Z"
   },
   {
    "duration": 14,
    "start_time": "2022-06-15T23:20:31.167Z"
   },
   {
    "duration": 16,
    "start_time": "2022-06-15T23:20:31.182Z"
   },
   {
    "duration": 15,
    "start_time": "2022-06-15T23:20:31.200Z"
   },
   {
    "duration": 17,
    "start_time": "2022-06-15T23:20:31.216Z"
   },
   {
    "duration": 13,
    "start_time": "2022-06-15T23:20:31.235Z"
   },
   {
    "duration": 7,
    "start_time": "2022-06-15T23:20:31.250Z"
   },
   {
    "duration": 22,
    "start_time": "2022-06-15T23:20:31.259Z"
   },
   {
    "duration": 29,
    "start_time": "2022-06-15T23:20:31.282Z"
   },
   {
    "duration": 23,
    "start_time": "2022-06-15T23:20:31.312Z"
   },
   {
    "duration": 6,
    "start_time": "2022-06-15T23:20:31.337Z"
   },
   {
    "duration": 9,
    "start_time": "2022-06-15T23:20:31.344Z"
   },
   {
    "duration": 6,
    "start_time": "2022-06-15T23:20:31.355Z"
   },
   {
    "duration": 14,
    "start_time": "2022-06-15T23:20:31.363Z"
   },
   {
    "duration": 9,
    "start_time": "2022-06-15T23:20:31.378Z"
   },
   {
    "duration": 15,
    "start_time": "2022-06-15T23:20:31.389Z"
   },
   {
    "duration": 9,
    "start_time": "2022-06-15T23:20:31.405Z"
   },
   {
    "duration": 6,
    "start_time": "2022-06-15T23:20:31.415Z"
   },
   {
    "duration": 7,
    "start_time": "2022-06-15T23:20:31.422Z"
   },
   {
    "duration": 14,
    "start_time": "2022-06-15T23:20:31.430Z"
   },
   {
    "duration": 9,
    "start_time": "2022-06-15T23:20:31.446Z"
   },
   {
    "duration": 6,
    "start_time": "2022-06-15T23:20:31.457Z"
   },
   {
    "duration": 6,
    "start_time": "2022-06-15T23:20:31.464Z"
   },
   {
    "duration": 7,
    "start_time": "2022-06-15T23:20:31.472Z"
   },
   {
    "duration": 23039,
    "start_time": "2022-06-15T23:20:31.480Z"
   },
   {
    "duration": 2593,
    "start_time": "2022-06-15T23:21:09.546Z"
   },
   {
    "duration": 3,
    "start_time": "2022-06-15T23:21:40.159Z"
   },
   {
    "duration": 2634,
    "start_time": "2022-06-15T23:21:40.624Z"
   },
   {
    "duration": 1901,
    "start_time": "2022-06-15T23:21:50.166Z"
   },
   {
    "duration": 2723,
    "start_time": "2022-06-15T23:21:52.069Z"
   },
   {
    "duration": 3236,
    "start_time": "2022-06-15T23:21:54.794Z"
   },
   {
    "duration": 2,
    "start_time": "2022-06-15T23:21:58.032Z"
   },
   {
    "duration": 32,
    "start_time": "2022-06-15T23:21:58.035Z"
   },
   {
    "duration": 14,
    "start_time": "2022-06-15T23:21:58.069Z"
   },
   {
    "duration": 3,
    "start_time": "2022-06-15T23:21:58.084Z"
   },
   {
    "duration": 13,
    "start_time": "2022-06-15T23:21:58.088Z"
   },
   {
    "duration": 12,
    "start_time": "2022-06-15T23:21:58.103Z"
   },
   {
    "duration": 22,
    "start_time": "2022-06-15T23:21:58.117Z"
   },
   {
    "duration": 248,
    "start_time": "2022-06-15T23:21:58.141Z"
   },
   {
    "duration": 224,
    "start_time": "2022-06-15T23:21:58.391Z"
   },
   {
    "duration": 395,
    "start_time": "2022-06-15T23:21:58.616Z"
   },
   {
    "duration": 217,
    "start_time": "2022-06-15T23:21:59.012Z"
   },
   {
    "duration": 7,
    "start_time": "2022-06-15T23:21:59.230Z"
   },
   {
    "duration": 8,
    "start_time": "2022-06-15T23:21:59.238Z"
   },
   {
    "duration": 4,
    "start_time": "2022-06-15T23:21:59.259Z"
   },
   {
    "duration": 9,
    "start_time": "2022-06-15T23:21:59.264Z"
   },
   {
    "duration": 6,
    "start_time": "2022-06-15T23:21:59.274Z"
   },
   {
    "duration": 7,
    "start_time": "2022-06-15T23:21:59.281Z"
   },
   {
    "duration": 12,
    "start_time": "2022-06-15T23:21:59.291Z"
   },
   {
    "duration": 7,
    "start_time": "2022-06-15T23:21:59.304Z"
   },
   {
    "duration": 24,
    "start_time": "2022-06-15T23:21:59.312Z"
   },
   {
    "duration": 41,
    "start_time": "2022-06-15T23:21:59.338Z"
   },
   {
    "duration": 6,
    "start_time": "2022-06-15T23:21:59.381Z"
   },
   {
    "duration": 4,
    "start_time": "2022-06-15T23:21:59.389Z"
   },
   {
    "duration": 7,
    "start_time": "2022-06-15T23:21:59.395Z"
   },
   {
    "duration": 6,
    "start_time": "2022-06-15T23:21:59.406Z"
   },
   {
    "duration": 7,
    "start_time": "2022-06-15T23:21:59.413Z"
   },
   {
    "duration": 15,
    "start_time": "2022-06-15T23:21:59.421Z"
   },
   {
    "duration": 26,
    "start_time": "2022-06-15T23:21:59.438Z"
   },
   {
    "duration": 6,
    "start_time": "2022-06-15T23:21:59.465Z"
   },
   {
    "duration": 6,
    "start_time": "2022-06-15T23:21:59.473Z"
   },
   {
    "duration": 6,
    "start_time": "2022-06-15T23:21:59.480Z"
   },
   {
    "duration": 6,
    "start_time": "2022-06-15T23:21:59.487Z"
   },
   {
    "duration": 5,
    "start_time": "2022-06-15T23:21:59.494Z"
   },
   {
    "duration": 6,
    "start_time": "2022-06-15T23:21:59.501Z"
   },
   {
    "duration": 5,
    "start_time": "2022-06-15T23:21:59.508Z"
   },
   {
    "duration": 2607,
    "start_time": "2022-06-15T23:21:59.515Z"
   },
   {
    "duration": 5,
    "start_time": "2022-06-15T23:22:02.123Z"
   },
   {
    "duration": 13,
    "start_time": "2022-06-15T23:22:02.129Z"
   },
   {
    "duration": 10,
    "start_time": "2022-06-15T23:22:02.143Z"
   },
   {
    "duration": 1866,
    "start_time": "2022-06-15T23:22:15.322Z"
   },
   {
    "duration": 1909,
    "start_time": "2022-06-15T23:22:17.191Z"
   },
   {
    "duration": 3114,
    "start_time": "2022-06-15T23:22:19.105Z"
   },
   {
    "duration": 2,
    "start_time": "2022-06-15T23:22:22.221Z"
   },
   {
    "duration": 33,
    "start_time": "2022-06-15T23:22:22.225Z"
   },
   {
    "duration": 16,
    "start_time": "2022-06-15T23:22:22.259Z"
   },
   {
    "duration": 3,
    "start_time": "2022-06-15T23:22:22.277Z"
   },
   {
    "duration": 28,
    "start_time": "2022-06-15T23:22:22.282Z"
   },
   {
    "duration": 16,
    "start_time": "2022-06-15T23:22:22.313Z"
   },
   {
    "duration": 33,
    "start_time": "2022-06-15T23:22:22.331Z"
   },
   {
    "duration": 247,
    "start_time": "2022-06-15T23:22:22.366Z"
   },
   {
    "duration": 230,
    "start_time": "2022-06-15T23:22:22.615Z"
   },
   {
    "duration": 415,
    "start_time": "2022-06-15T23:22:22.846Z"
   },
   {
    "duration": 207,
    "start_time": "2022-06-15T23:22:23.263Z"
   },
   {
    "duration": 6,
    "start_time": "2022-06-15T23:22:23.472Z"
   },
   {
    "duration": 11,
    "start_time": "2022-06-15T23:22:23.479Z"
   },
   {
    "duration": 7,
    "start_time": "2022-06-15T23:22:23.491Z"
   },
   {
    "duration": 16,
    "start_time": "2022-06-15T23:22:23.499Z"
   },
   {
    "duration": 6,
    "start_time": "2022-06-15T23:22:23.517Z"
   },
   {
    "duration": 7,
    "start_time": "2022-06-15T23:22:23.525Z"
   },
   {
    "duration": 9,
    "start_time": "2022-06-15T23:22:23.533Z"
   },
   {
    "duration": 5,
    "start_time": "2022-06-15T23:22:23.543Z"
   },
   {
    "duration": 20,
    "start_time": "2022-06-15T23:22:23.559Z"
   },
   {
    "duration": 25,
    "start_time": "2022-06-15T23:22:23.580Z"
   },
   {
    "duration": 5,
    "start_time": "2022-06-15T23:22:23.607Z"
   },
   {
    "duration": 4,
    "start_time": "2022-06-15T23:22:23.614Z"
   },
   {
    "duration": 18,
    "start_time": "2022-06-15T23:22:23.620Z"
   },
   {
    "duration": 5,
    "start_time": "2022-06-15T23:22:23.640Z"
   },
   {
    "duration": 4,
    "start_time": "2022-06-15T23:22:23.658Z"
   },
   {
    "duration": 21,
    "start_time": "2022-06-15T23:22:23.663Z"
   },
   {
    "duration": 6,
    "start_time": "2022-06-15T23:22:23.685Z"
   },
   {
    "duration": 8,
    "start_time": "2022-06-15T23:22:23.693Z"
   },
   {
    "duration": 13,
    "start_time": "2022-06-15T23:22:23.702Z"
   },
   {
    "duration": 32,
    "start_time": "2022-06-15T23:22:23.716Z"
   },
   {
    "duration": 5,
    "start_time": "2022-06-15T23:22:23.750Z"
   },
   {
    "duration": 9,
    "start_time": "2022-06-15T23:22:23.756Z"
   },
   {
    "duration": 10,
    "start_time": "2022-06-15T23:22:23.766Z"
   },
   {
    "duration": 8,
    "start_time": "2022-06-15T23:22:23.777Z"
   },
   {
    "duration": 5512,
    "start_time": "2022-06-15T23:22:23.786Z"
   },
   {
    "duration": 5,
    "start_time": "2022-06-15T23:22:29.299Z"
   },
   {
    "duration": 17,
    "start_time": "2022-06-15T23:22:29.306Z"
   },
   {
    "duration": 10,
    "start_time": "2022-06-15T23:22:29.324Z"
   },
   {
    "duration": 532736,
    "start_time": "2022-06-15T23:22:29.336Z"
   },
   {
    "duration": 11,
    "start_time": "2022-06-15T23:31:22.073Z"
   },
   {
    "duration": 11,
    "start_time": "2022-06-15T23:31:22.085Z"
   },
   {
    "duration": 61,
    "start_time": "2022-06-15T23:31:22.098Z"
   },
   {
    "duration": 24,
    "start_time": "2022-06-15T23:31:22.160Z"
   },
   {
    "duration": 18,
    "start_time": "2022-06-15T23:33:30.291Z"
   },
   {
    "duration": 488,
    "start_time": "2022-06-15T23:34:08.071Z"
   },
   {
    "duration": 2573,
    "start_time": "2022-06-16T08:01:18.546Z"
   },
   {
    "duration": 0,
    "start_time": "2022-06-16T08:01:21.120Z"
   },
   {
    "duration": 24105,
    "start_time": "2022-06-16T08:01:25.175Z"
   },
   {
    "duration": 2187,
    "start_time": "2022-06-16T08:01:49.282Z"
   },
   {
    "duration": 21,
    "start_time": "2022-06-16T08:01:51.472Z"
   },
   {
    "duration": 4359,
    "start_time": "2022-06-16T08:02:03.755Z"
   },
   {
    "duration": 4,
    "start_time": "2022-06-16T08:02:08.116Z"
   },
   {
    "duration": 73,
    "start_time": "2022-06-16T08:02:11.549Z"
   },
   {
    "duration": 21,
    "start_time": "2022-06-16T08:02:12.221Z"
   },
   {
    "duration": 34,
    "start_time": "2022-06-16T08:02:12.945Z"
   },
   {
    "duration": 915,
    "start_time": "2022-06-16T08:02:14.044Z"
   },
   {
    "duration": 3141,
    "start_time": "2022-06-16T08:02:14.961Z"
   },
   {
    "duration": 804,
    "start_time": "2022-06-16T08:02:18.105Z"
   },
   {
    "duration": 3558,
    "start_time": "2022-06-16T08:02:18.911Z"
   },
   {
    "duration": 286,
    "start_time": "2022-06-16T08:02:22.471Z"
   },
   {
    "duration": 513,
    "start_time": "2022-06-16T08:02:22.759Z"
   },
   {
    "duration": 281,
    "start_time": "2022-06-16T08:02:23.274Z"
   },
   {
    "duration": 7,
    "start_time": "2022-06-16T08:02:23.557Z"
   },
   {
    "duration": 59,
    "start_time": "2022-06-16T08:02:23.566Z"
   },
   {
    "duration": 65,
    "start_time": "2022-06-16T08:02:23.628Z"
   },
   {
    "duration": 54,
    "start_time": "2022-06-16T08:02:23.695Z"
   },
   {
    "duration": 5,
    "start_time": "2022-06-16T08:02:29.281Z"
   },
   {
    "duration": 5,
    "start_time": "2022-06-16T08:02:29.914Z"
   },
   {
    "duration": 5,
    "start_time": "2022-06-16T08:02:30.151Z"
   },
   {
    "duration": 4,
    "start_time": "2022-06-16T08:02:32.749Z"
   },
   {
    "duration": 25,
    "start_time": "2022-06-16T08:02:33.296Z"
   },
   {
    "duration": 32,
    "start_time": "2022-06-16T08:02:33.978Z"
   },
   {
    "duration": 12,
    "start_time": "2022-06-16T08:02:34.707Z"
   },
   {
    "duration": 3,
    "start_time": "2022-06-16T08:02:35.322Z"
   },
   {
    "duration": 5,
    "start_time": "2022-06-16T08:02:35.551Z"
   },
   {
    "duration": 3,
    "start_time": "2022-06-16T08:02:35.766Z"
   },
   {
    "duration": 5,
    "start_time": "2022-06-16T08:02:36.145Z"
   },
   {
    "duration": 12,
    "start_time": "2022-06-16T08:02:36.349Z"
   },
   {
    "duration": 19,
    "start_time": "2022-06-16T08:02:37.324Z"
   },
   {
    "duration": 5,
    "start_time": "2022-06-16T08:02:38.856Z"
   },
   {
    "duration": 4,
    "start_time": "2022-06-16T08:02:39.951Z"
   },
   {
    "duration": 4,
    "start_time": "2022-06-16T08:02:40.949Z"
   },
   {
    "duration": 4,
    "start_time": "2022-06-16T08:02:41.561Z"
   },
   {
    "duration": 11,
    "start_time": "2022-06-16T08:02:42.283Z"
   },
   {
    "duration": 4,
    "start_time": "2022-06-16T08:02:42.578Z"
   },
   {
    "duration": 5,
    "start_time": "2022-06-16T08:03:05.386Z"
   },
   {
    "duration": 6108,
    "start_time": "2022-06-16T08:03:06.540Z"
   },
   {
    "duration": 8,
    "start_time": "2022-06-16T08:04:10.954Z"
   },
   {
    "duration": 8,
    "start_time": "2022-06-16T08:10:24.508Z"
   },
   {
    "duration": 7,
    "start_time": "2022-06-16T08:11:40.588Z"
   },
   {
    "duration": 368,
    "start_time": "2022-06-16T08:11:41.176Z"
   },
   {
    "duration": 2,
    "start_time": "2022-06-16T08:11:56.759Z"
   },
   {
    "duration": 5,
    "start_time": "2022-06-16T08:11:57.346Z"
   },
   {
    "duration": 476,
    "start_time": "2022-06-16T08:11:58.032Z"
   },
   {
    "duration": 452,
    "start_time": "2022-06-16T08:12:02.039Z"
   },
   {
    "duration": 7,
    "start_time": "2022-06-16T08:12:21.779Z"
   },
   {
    "duration": 181,
    "start_time": "2022-06-16T08:12:22.521Z"
   },
   {
    "duration": 10,
    "start_time": "2022-06-16T08:12:32.346Z"
   },
   {
    "duration": 910,
    "start_time": "2022-06-16T08:12:32.887Z"
   },
   {
    "duration": 7,
    "start_time": "2022-06-16T08:13:26.525Z"
   },
   {
    "duration": 868,
    "start_time": "2022-06-16T08:13:27.145Z"
   },
   {
    "duration": 1447,
    "start_time": "2022-06-16T08:13:31.016Z"
   },
   {
    "duration": 8,
    "start_time": "2022-06-16T08:15:28.802Z"
   },
   {
    "duration": 3,
    "start_time": "2022-06-16T08:15:29.435Z"
   },
   {
    "duration": 6,
    "start_time": "2022-06-16T08:15:30.502Z"
   },
   {
    "duration": 738490,
    "start_time": "2022-06-16T08:15:31.648Z"
   },
   {
    "duration": 11,
    "start_time": "2022-06-16T08:27:50.140Z"
   },
   {
    "duration": 17,
    "start_time": "2022-06-16T08:27:50.153Z"
   },
   {
    "duration": 12,
    "start_time": "2022-06-16T08:27:50.172Z"
   },
   {
    "duration": 1468,
    "start_time": "2022-06-16T08:27:50.186Z"
   },
   {
    "duration": 12,
    "start_time": "2022-06-16T08:33:08.507Z"
   },
   {
    "duration": 7,
    "start_time": "2022-06-16T08:35:11.533Z"
   },
   {
    "duration": 6,
    "start_time": "2022-06-16T08:35:12.858Z"
   },
   {
    "duration": 21,
    "start_time": "2022-06-16T08:35:13.827Z"
   },
   {
    "duration": 16,
    "start_time": "2022-06-16T08:35:25.199Z"
   },
   {
    "duration": 8,
    "start_time": "2022-06-16T08:36:09.547Z"
   },
   {
    "duration": 5,
    "start_time": "2022-06-16T08:37:49.617Z"
   },
   {
    "duration": 8,
    "start_time": "2022-06-16T08:38:04.648Z"
   },
   {
    "duration": 8,
    "start_time": "2022-06-16T08:38:19.047Z"
   },
   {
    "duration": 7,
    "start_time": "2022-06-16T08:38:20.407Z"
   },
   {
    "duration": 8,
    "start_time": "2022-06-16T08:38:20.936Z"
   },
   {
    "duration": 8,
    "start_time": "2022-06-16T08:38:47.750Z"
   },
   {
    "duration": 24051,
    "start_time": "2022-06-16T10:56:47.397Z"
   },
   {
    "duration": 2516,
    "start_time": "2022-06-16T10:57:11.450Z"
   },
   {
    "duration": 1355,
    "start_time": "2022-06-16T10:57:13.968Z"
   },
   {
    "duration": 0,
    "start_time": "2022-06-16T10:57:15.326Z"
   },
   {
    "duration": 0,
    "start_time": "2022-06-16T10:57:15.327Z"
   },
   {
    "duration": 0,
    "start_time": "2022-06-16T10:57:15.328Z"
   },
   {
    "duration": 0,
    "start_time": "2022-06-16T10:57:15.329Z"
   },
   {
    "duration": 0,
    "start_time": "2022-06-16T10:57:15.330Z"
   },
   {
    "duration": 0,
    "start_time": "2022-06-16T10:57:15.331Z"
   },
   {
    "duration": 0,
    "start_time": "2022-06-16T10:57:15.332Z"
   },
   {
    "duration": 0,
    "start_time": "2022-06-16T10:57:15.333Z"
   },
   {
    "duration": 0,
    "start_time": "2022-06-16T10:57:15.334Z"
   },
   {
    "duration": 0,
    "start_time": "2022-06-16T10:57:15.336Z"
   },
   {
    "duration": 0,
    "start_time": "2022-06-16T10:57:15.337Z"
   },
   {
    "duration": 0,
    "start_time": "2022-06-16T10:57:15.338Z"
   },
   {
    "duration": 0,
    "start_time": "2022-06-16T10:57:15.339Z"
   },
   {
    "duration": 0,
    "start_time": "2022-06-16T10:57:15.340Z"
   },
   {
    "duration": 0,
    "start_time": "2022-06-16T10:57:15.341Z"
   },
   {
    "duration": 0,
    "start_time": "2022-06-16T10:57:15.342Z"
   },
   {
    "duration": 0,
    "start_time": "2022-06-16T10:57:15.346Z"
   },
   {
    "duration": 0,
    "start_time": "2022-06-16T10:57:15.347Z"
   },
   {
    "duration": 0,
    "start_time": "2022-06-16T10:57:15.348Z"
   },
   {
    "duration": 0,
    "start_time": "2022-06-16T10:57:15.349Z"
   },
   {
    "duration": 0,
    "start_time": "2022-06-16T10:57:15.350Z"
   },
   {
    "duration": 0,
    "start_time": "2022-06-16T10:57:15.351Z"
   },
   {
    "duration": 0,
    "start_time": "2022-06-16T10:57:15.352Z"
   },
   {
    "duration": 1,
    "start_time": "2022-06-16T10:57:15.353Z"
   },
   {
    "duration": 0,
    "start_time": "2022-06-16T10:57:15.355Z"
   },
   {
    "duration": 0,
    "start_time": "2022-06-16T10:57:15.356Z"
   },
   {
    "duration": 0,
    "start_time": "2022-06-16T10:57:15.357Z"
   },
   {
    "duration": 0,
    "start_time": "2022-06-16T10:57:15.359Z"
   },
   {
    "duration": 0,
    "start_time": "2022-06-16T10:57:15.360Z"
   },
   {
    "duration": 0,
    "start_time": "2022-06-16T10:57:15.362Z"
   },
   {
    "duration": 0,
    "start_time": "2022-06-16T10:57:15.363Z"
   },
   {
    "duration": 0,
    "start_time": "2022-06-16T10:57:15.365Z"
   },
   {
    "duration": 0,
    "start_time": "2022-06-16T10:57:15.367Z"
   },
   {
    "duration": 0,
    "start_time": "2022-06-16T10:57:15.368Z"
   },
   {
    "duration": 0,
    "start_time": "2022-06-16T10:57:15.370Z"
   },
   {
    "duration": 0,
    "start_time": "2022-06-16T10:57:15.372Z"
   },
   {
    "duration": 0,
    "start_time": "2022-06-16T10:57:15.374Z"
   },
   {
    "duration": 0,
    "start_time": "2022-06-16T10:57:15.375Z"
   },
   {
    "duration": 0,
    "start_time": "2022-06-16T10:57:15.376Z"
   },
   {
    "duration": 0,
    "start_time": "2022-06-16T10:57:15.378Z"
   },
   {
    "duration": 0,
    "start_time": "2022-06-16T10:57:15.379Z"
   },
   {
    "duration": 0,
    "start_time": "2022-06-16T10:57:15.426Z"
   },
   {
    "duration": 0,
    "start_time": "2022-06-16T10:57:15.428Z"
   },
   {
    "duration": 0,
    "start_time": "2022-06-16T10:57:15.430Z"
   },
   {
    "duration": 0,
    "start_time": "2022-06-16T10:57:15.431Z"
   },
   {
    "duration": 0,
    "start_time": "2022-06-16T10:57:15.432Z"
   },
   {
    "duration": 0,
    "start_time": "2022-06-16T10:57:15.434Z"
   },
   {
    "duration": 0,
    "start_time": "2022-06-16T10:57:15.435Z"
   },
   {
    "duration": 0,
    "start_time": "2022-06-16T10:57:15.439Z"
   },
   {
    "duration": 0,
    "start_time": "2022-06-16T10:57:15.440Z"
   },
   {
    "duration": 0,
    "start_time": "2022-06-16T10:57:15.444Z"
   },
   {
    "duration": 2519,
    "start_time": "2022-06-16T10:57:33.988Z"
   },
   {
    "duration": 2563,
    "start_time": "2022-06-16T10:57:36.510Z"
   },
   {
    "duration": 4829,
    "start_time": "2022-06-16T10:57:39.075Z"
   },
   {
    "duration": 3,
    "start_time": "2022-06-16T10:57:43.907Z"
   },
   {
    "duration": 149,
    "start_time": "2022-06-16T10:57:43.912Z"
   },
   {
    "duration": 18,
    "start_time": "2022-06-16T10:57:44.063Z"
   },
   {
    "duration": 11,
    "start_time": "2022-06-16T10:57:44.083Z"
   },
   {
    "duration": 21,
    "start_time": "2022-06-16T10:57:44.096Z"
   },
   {
    "duration": 46,
    "start_time": "2022-06-16T10:57:44.119Z"
   },
   {
    "duration": 31,
    "start_time": "2022-06-16T10:57:44.166Z"
   },
   {
    "duration": 354,
    "start_time": "2022-06-16T10:57:44.200Z"
   },
   {
    "duration": 326,
    "start_time": "2022-06-16T10:57:44.555Z"
   },
   {
    "duration": 525,
    "start_time": "2022-06-16T10:57:44.883Z"
   },
   {
    "duration": 288,
    "start_time": "2022-06-16T10:57:45.411Z"
   },
   {
    "duration": 11,
    "start_time": "2022-06-16T10:57:45.702Z"
   },
   {
    "duration": 8,
    "start_time": "2022-06-16T10:57:45.727Z"
   },
   {
    "duration": 48,
    "start_time": "2022-06-16T10:57:45.737Z"
   },
   {
    "duration": 14,
    "start_time": "2022-06-16T10:57:45.789Z"
   },
   {
    "duration": 11,
    "start_time": "2022-06-16T10:57:45.805Z"
   },
   {
    "duration": 52,
    "start_time": "2022-06-16T10:57:45.817Z"
   },
   {
    "duration": 27,
    "start_time": "2022-06-16T10:57:45.878Z"
   },
   {
    "duration": 11,
    "start_time": "2022-06-16T10:57:45.910Z"
   },
   {
    "duration": 99,
    "start_time": "2022-06-16T10:57:45.923Z"
   },
   {
    "duration": 74,
    "start_time": "2022-06-16T10:57:46.023Z"
   },
   {
    "duration": 6,
    "start_time": "2022-06-16T10:57:46.099Z"
   },
   {
    "duration": 10,
    "start_time": "2022-06-16T10:57:46.107Z"
   },
   {
    "duration": 27,
    "start_time": "2022-06-16T10:57:46.119Z"
   },
   {
    "duration": 21,
    "start_time": "2022-06-16T10:57:46.153Z"
   },
   {
    "duration": 9,
    "start_time": "2022-06-16T10:57:46.176Z"
   },
   {
    "duration": 14,
    "start_time": "2022-06-16T10:57:46.187Z"
   },
   {
    "duration": 7,
    "start_time": "2022-06-16T10:57:46.203Z"
   },
   {
    "duration": 12,
    "start_time": "2022-06-16T10:57:46.211Z"
   },
   {
    "duration": 48,
    "start_time": "2022-06-16T10:57:46.225Z"
   },
   {
    "duration": 12,
    "start_time": "2022-06-16T10:57:46.275Z"
   },
   {
    "duration": 12,
    "start_time": "2022-06-16T10:57:46.289Z"
   },
   {
    "duration": 7,
    "start_time": "2022-06-16T10:57:46.303Z"
   },
   {
    "duration": 8,
    "start_time": "2022-06-16T10:57:46.312Z"
   },
   {
    "duration": 46,
    "start_time": "2022-06-16T10:57:46.322Z"
   },
   {
    "duration": 5617,
    "start_time": "2022-06-16T10:57:46.371Z"
   },
   {
    "duration": 6,
    "start_time": "2022-06-16T10:57:51.990Z"
   },
   {
    "duration": 6,
    "start_time": "2022-06-16T10:57:52.001Z"
   },
   {
    "duration": 32,
    "start_time": "2022-06-16T10:57:52.009Z"
   },
   {
    "duration": 949,
    "start_time": "2022-06-16T10:57:52.043Z"
   },
   {
    "duration": 6,
    "start_time": "2022-06-16T10:57:52.994Z"
   },
   {
    "duration": 14,
    "start_time": "2022-06-16T10:57:53.002Z"
   },
   {
    "duration": 36,
    "start_time": "2022-06-16T10:57:53.018Z"
   },
   {
    "duration": 2680,
    "start_time": "2022-06-16T11:08:29.757Z"
   },
   {
    "duration": 2796,
    "start_time": "2022-06-16T11:08:32.440Z"
   },
   {
    "duration": 4705,
    "start_time": "2022-06-16T11:08:35.245Z"
   },
   {
    "duration": 3,
    "start_time": "2022-06-16T11:08:39.951Z"
   },
   {
    "duration": 55,
    "start_time": "2022-06-16T11:08:39.956Z"
   },
   {
    "duration": 38,
    "start_time": "2022-06-16T11:08:40.014Z"
   },
   {
    "duration": 30,
    "start_time": "2022-06-16T11:08:40.056Z"
   },
   {
    "duration": 27,
    "start_time": "2022-06-16T11:08:40.088Z"
   },
   {
    "duration": 49,
    "start_time": "2022-06-16T11:08:40.117Z"
   },
   {
    "duration": 33,
    "start_time": "2022-06-16T11:08:40.168Z"
   },
   {
    "duration": 452,
    "start_time": "2022-06-16T11:08:40.203Z"
   },
   {
    "duration": 357,
    "start_time": "2022-06-16T11:08:40.662Z"
   },
   {
    "duration": 572,
    "start_time": "2022-06-16T11:08:41.022Z"
   },
   {
    "duration": 327,
    "start_time": "2022-06-16T11:08:41.599Z"
   },
   {
    "duration": 19,
    "start_time": "2022-06-16T11:08:41.928Z"
   },
   {
    "duration": 64,
    "start_time": "2022-06-16T11:08:41.953Z"
   },
   {
    "duration": 50,
    "start_time": "2022-06-16T11:08:42.019Z"
   },
   {
    "duration": 43,
    "start_time": "2022-06-16T11:08:42.072Z"
   },
   {
    "duration": 63,
    "start_time": "2022-06-16T11:08:42.117Z"
   },
   {
    "duration": 20,
    "start_time": "2022-06-16T11:08:42.182Z"
   },
   {
    "duration": 33,
    "start_time": "2022-06-16T11:08:42.204Z"
   },
   {
    "duration": 33,
    "start_time": "2022-06-16T11:08:42.239Z"
   },
   {
    "duration": 83,
    "start_time": "2022-06-16T11:08:42.277Z"
   },
   {
    "duration": 44,
    "start_time": "2022-06-16T11:08:42.365Z"
   },
   {
    "duration": 7,
    "start_time": "2022-06-16T11:08:42.411Z"
   },
   {
    "duration": 53,
    "start_time": "2022-06-16T11:08:42.420Z"
   },
   {
    "duration": 25,
    "start_time": "2022-06-16T11:08:42.475Z"
   },
   {
    "duration": 18,
    "start_time": "2022-06-16T11:08:42.502Z"
   },
   {
    "duration": 74,
    "start_time": "2022-06-16T11:08:42.522Z"
   },
   {
    "duration": 23,
    "start_time": "2022-06-16T11:08:42.598Z"
   },
   {
    "duration": 12,
    "start_time": "2022-06-16T11:08:42.623Z"
   },
   {
    "duration": 48,
    "start_time": "2022-06-16T11:08:42.642Z"
   },
   {
    "duration": 19,
    "start_time": "2022-06-16T11:08:42.693Z"
   },
   {
    "duration": 47,
    "start_time": "2022-06-16T11:08:42.714Z"
   },
   {
    "duration": 27,
    "start_time": "2022-06-16T11:08:42.763Z"
   },
   {
    "duration": 11,
    "start_time": "2022-06-16T11:08:42.791Z"
   },
   {
    "duration": 9,
    "start_time": "2022-06-16T11:08:42.804Z"
   },
   {
    "duration": 52,
    "start_time": "2022-06-16T11:08:42.814Z"
   },
   {
    "duration": 6371,
    "start_time": "2022-06-16T11:08:42.867Z"
   },
   {
    "duration": 20,
    "start_time": "2022-06-16T11:08:49.248Z"
   },
   {
    "duration": 7,
    "start_time": "2022-06-16T11:08:49.275Z"
   },
   {
    "duration": 11,
    "start_time": "2022-06-16T11:08:49.285Z"
   },
   {
    "duration": 1124,
    "start_time": "2022-06-16T11:08:49.298Z"
   },
   {
    "duration": 14,
    "start_time": "2022-06-16T11:08:50.424Z"
   },
   {
    "duration": 61,
    "start_time": "2022-06-16T11:08:50.443Z"
   },
   {
    "duration": 18,
    "start_time": "2022-06-16T11:08:50.506Z"
   },
   {
    "duration": 2375,
    "start_time": "2022-06-16T11:36:29.157Z"
   },
   {
    "duration": 2557,
    "start_time": "2022-06-16T11:36:31.534Z"
   },
   {
    "duration": 4053,
    "start_time": "2022-06-16T11:36:34.093Z"
   },
   {
    "duration": 14,
    "start_time": "2022-06-16T11:36:38.150Z"
   },
   {
    "duration": 41,
    "start_time": "2022-06-16T11:36:38.167Z"
   },
   {
    "duration": 22,
    "start_time": "2022-06-16T11:36:38.210Z"
   },
   {
    "duration": 37,
    "start_time": "2022-06-16T11:36:38.233Z"
   },
   {
    "duration": 21,
    "start_time": "2022-06-16T11:36:38.272Z"
   },
   {
    "duration": 22,
    "start_time": "2022-06-16T11:36:38.296Z"
   },
   {
    "duration": 95,
    "start_time": "2022-06-16T11:36:38.321Z"
   },
   {
    "duration": 387,
    "start_time": "2022-06-16T11:36:38.418Z"
   },
   {
    "duration": 312,
    "start_time": "2022-06-16T11:36:38.807Z"
   },
   {
    "duration": 505,
    "start_time": "2022-06-16T11:36:39.129Z"
   },
   {
    "duration": 261,
    "start_time": "2022-06-16T11:36:39.638Z"
   },
   {
    "duration": 7,
    "start_time": "2022-06-16T11:36:39.901Z"
   },
   {
    "duration": 34,
    "start_time": "2022-06-16T11:36:39.910Z"
   },
   {
    "duration": 22,
    "start_time": "2022-06-16T11:36:39.946Z"
   },
   {
    "duration": 16,
    "start_time": "2022-06-16T11:36:39.969Z"
   },
   {
    "duration": 10,
    "start_time": "2022-06-16T11:36:39.987Z"
   },
   {
    "duration": 10,
    "start_time": "2022-06-16T11:36:39.999Z"
   },
   {
    "duration": 10,
    "start_time": "2022-06-16T11:36:40.011Z"
   },
   {
    "duration": 42,
    "start_time": "2022-06-16T11:36:40.023Z"
   },
   {
    "duration": 33,
    "start_time": "2022-06-16T11:36:40.067Z"
   },
   {
    "duration": 30,
    "start_time": "2022-06-16T11:36:40.102Z"
   },
   {
    "duration": 34,
    "start_time": "2022-06-16T11:36:40.134Z"
   },
   {
    "duration": 8,
    "start_time": "2022-06-16T11:36:40.170Z"
   },
   {
    "duration": 10,
    "start_time": "2022-06-16T11:36:40.179Z"
   },
   {
    "duration": 6,
    "start_time": "2022-06-16T11:36:40.190Z"
   },
   {
    "duration": 9,
    "start_time": "2022-06-16T11:36:40.197Z"
   },
   {
    "duration": 17,
    "start_time": "2022-06-16T11:36:40.208Z"
   },
   {
    "duration": 35,
    "start_time": "2022-06-16T11:36:40.227Z"
   },
   {
    "duration": 7,
    "start_time": "2022-06-16T11:36:40.264Z"
   },
   {
    "duration": 8,
    "start_time": "2022-06-16T11:36:40.273Z"
   },
   {
    "duration": 9,
    "start_time": "2022-06-16T11:36:40.283Z"
   },
   {
    "duration": 10,
    "start_time": "2022-06-16T11:36:40.294Z"
   },
   {
    "duration": 6,
    "start_time": "2022-06-16T11:36:40.305Z"
   },
   {
    "duration": 7,
    "start_time": "2022-06-16T11:36:40.312Z"
   },
   {
    "duration": 21,
    "start_time": "2022-06-16T11:36:40.321Z"
   },
   {
    "duration": 5898,
    "start_time": "2022-06-16T11:36:40.348Z"
   },
   {
    "duration": 17,
    "start_time": "2022-06-16T11:36:46.247Z"
   },
   {
    "duration": 2,
    "start_time": "2022-06-16T11:36:46.269Z"
   },
   {
    "duration": 9,
    "start_time": "2022-06-16T11:36:46.273Z"
   },
   {
    "duration": 992,
    "start_time": "2022-06-16T11:36:46.284Z"
   },
   {
    "duration": 6,
    "start_time": "2022-06-16T11:36:47.278Z"
   },
   {
    "duration": 7,
    "start_time": "2022-06-16T11:36:47.286Z"
   },
   {
    "duration": 13,
    "start_time": "2022-06-16T11:36:47.295Z"
   },
   {
    "duration": 1158,
    "start_time": "2022-06-24T09:09:26.014Z"
   },
   {
    "duration": 15173,
    "start_time": "2022-07-20T12:31:55.472Z"
   },
   {
    "duration": 2942,
    "start_time": "2022-07-20T12:32:10.648Z"
   },
   {
    "duration": 3,
    "start_time": "2022-07-20T12:32:13.592Z"
   },
   {
    "duration": 173,
    "start_time": "2022-07-20T12:32:13.598Z"
   },
   {
    "duration": 0,
    "start_time": "2022-07-20T12:32:13.774Z"
   },
   {
    "duration": 0,
    "start_time": "2022-07-20T12:32:13.775Z"
   },
   {
    "duration": 0,
    "start_time": "2022-07-20T12:32:13.777Z"
   },
   {
    "duration": 0,
    "start_time": "2022-07-20T12:32:13.778Z"
   },
   {
    "duration": 0,
    "start_time": "2022-07-20T12:32:13.780Z"
   },
   {
    "duration": 0,
    "start_time": "2022-07-20T12:32:13.781Z"
   },
   {
    "duration": 0,
    "start_time": "2022-07-20T12:32:13.783Z"
   },
   {
    "duration": 0,
    "start_time": "2022-07-20T12:32:13.784Z"
   },
   {
    "duration": 0,
    "start_time": "2022-07-20T12:32:13.786Z"
   },
   {
    "duration": 0,
    "start_time": "2022-07-20T12:32:13.788Z"
   },
   {
    "duration": 1,
    "start_time": "2022-07-20T12:32:13.789Z"
   },
   {
    "duration": 0,
    "start_time": "2022-07-20T12:32:13.791Z"
   },
   {
    "duration": 0,
    "start_time": "2022-07-20T12:32:13.793Z"
   },
   {
    "duration": 0,
    "start_time": "2022-07-20T12:32:13.794Z"
   },
   {
    "duration": 0,
    "start_time": "2022-07-20T12:32:13.796Z"
   },
   {
    "duration": 0,
    "start_time": "2022-07-20T12:32:13.797Z"
   },
   {
    "duration": 0,
    "start_time": "2022-07-20T12:32:13.841Z"
   },
   {
    "duration": 0,
    "start_time": "2022-07-20T12:32:13.842Z"
   },
   {
    "duration": 0,
    "start_time": "2022-07-20T12:32:13.844Z"
   },
   {
    "duration": 0,
    "start_time": "2022-07-20T12:32:13.846Z"
   },
   {
    "duration": 0,
    "start_time": "2022-07-20T12:32:13.847Z"
   },
   {
    "duration": 0,
    "start_time": "2022-07-20T12:32:13.848Z"
   },
   {
    "duration": 0,
    "start_time": "2022-07-20T12:32:13.851Z"
   },
   {
    "duration": 0,
    "start_time": "2022-07-20T12:32:13.852Z"
   },
   {
    "duration": 0,
    "start_time": "2022-07-20T12:32:13.853Z"
   },
   {
    "duration": 0,
    "start_time": "2022-07-20T12:32:13.855Z"
   },
   {
    "duration": 0,
    "start_time": "2022-07-20T12:32:13.857Z"
   },
   {
    "duration": 0,
    "start_time": "2022-07-20T12:32:13.858Z"
   },
   {
    "duration": 0,
    "start_time": "2022-07-20T12:32:13.860Z"
   },
   {
    "duration": 0,
    "start_time": "2022-07-20T12:32:13.862Z"
   },
   {
    "duration": 0,
    "start_time": "2022-07-20T12:32:13.863Z"
   },
   {
    "duration": 0,
    "start_time": "2022-07-20T12:32:13.865Z"
   },
   {
    "duration": 0,
    "start_time": "2022-07-20T12:32:13.866Z"
   },
   {
    "duration": 0,
    "start_time": "2022-07-20T12:32:13.868Z"
   },
   {
    "duration": 0,
    "start_time": "2022-07-20T12:32:13.869Z"
   },
   {
    "duration": 0,
    "start_time": "2022-07-20T12:32:13.871Z"
   },
   {
    "duration": 0,
    "start_time": "2022-07-20T12:32:13.873Z"
   },
   {
    "duration": 0,
    "start_time": "2022-07-20T12:32:13.874Z"
   },
   {
    "duration": 0,
    "start_time": "2022-07-20T12:32:13.876Z"
   },
   {
    "duration": 0,
    "start_time": "2022-07-20T12:32:13.877Z"
   },
   {
    "duration": 0,
    "start_time": "2022-07-20T12:32:13.879Z"
   },
   {
    "duration": 0,
    "start_time": "2022-07-20T12:32:13.940Z"
   },
   {
    "duration": 0,
    "start_time": "2022-07-20T12:32:13.942Z"
   },
   {
    "duration": 0,
    "start_time": "2022-07-20T12:32:13.943Z"
   },
   {
    "duration": 2238,
    "start_time": "2022-07-20T12:36:34.192Z"
   },
   {
    "duration": 2479,
    "start_time": "2022-07-20T12:36:36.433Z"
   },
   {
    "duration": 3,
    "start_time": "2022-07-20T12:36:38.914Z"
   },
   {
    "duration": 96,
    "start_time": "2022-07-20T12:36:38.920Z"
   },
   {
    "duration": 18,
    "start_time": "2022-07-20T12:36:39.019Z"
   },
   {
    "duration": 185,
    "start_time": "2022-07-20T12:36:39.039Z"
   },
   {
    "duration": 0,
    "start_time": "2022-07-20T12:36:39.230Z"
   },
   {
    "duration": 0,
    "start_time": "2022-07-20T12:36:39.231Z"
   },
   {
    "duration": 0,
    "start_time": "2022-07-20T12:36:39.241Z"
   },
   {
    "duration": 0,
    "start_time": "2022-07-20T12:36:39.243Z"
   },
   {
    "duration": 0,
    "start_time": "2022-07-20T12:36:39.245Z"
   },
   {
    "duration": 0,
    "start_time": "2022-07-20T12:36:39.246Z"
   },
   {
    "duration": 0,
    "start_time": "2022-07-20T12:36:39.247Z"
   },
   {
    "duration": 0,
    "start_time": "2022-07-20T12:36:39.248Z"
   },
   {
    "duration": 0,
    "start_time": "2022-07-20T12:36:39.250Z"
   },
   {
    "duration": 0,
    "start_time": "2022-07-20T12:36:39.251Z"
   },
   {
    "duration": 0,
    "start_time": "2022-07-20T12:36:39.251Z"
   },
   {
    "duration": 0,
    "start_time": "2022-07-20T12:36:39.253Z"
   },
   {
    "duration": 0,
    "start_time": "2022-07-20T12:36:39.254Z"
   },
   {
    "duration": 0,
    "start_time": "2022-07-20T12:36:39.255Z"
   },
   {
    "duration": 0,
    "start_time": "2022-07-20T12:36:39.256Z"
   },
   {
    "duration": 0,
    "start_time": "2022-07-20T12:36:39.258Z"
   },
   {
    "duration": 0,
    "start_time": "2022-07-20T12:36:39.259Z"
   },
   {
    "duration": 0,
    "start_time": "2022-07-20T12:36:39.260Z"
   },
   {
    "duration": 0,
    "start_time": "2022-07-20T12:36:39.261Z"
   },
   {
    "duration": 0,
    "start_time": "2022-07-20T12:36:39.262Z"
   },
   {
    "duration": 1,
    "start_time": "2022-07-20T12:36:39.263Z"
   },
   {
    "duration": 0,
    "start_time": "2022-07-20T12:36:39.265Z"
   },
   {
    "duration": 0,
    "start_time": "2022-07-20T12:36:39.266Z"
   },
   {
    "duration": 0,
    "start_time": "2022-07-20T12:36:39.267Z"
   },
   {
    "duration": 0,
    "start_time": "2022-07-20T12:36:39.268Z"
   },
   {
    "duration": 0,
    "start_time": "2022-07-20T12:36:39.270Z"
   },
   {
    "duration": 0,
    "start_time": "2022-07-20T12:36:39.272Z"
   },
   {
    "duration": 0,
    "start_time": "2022-07-20T12:36:39.273Z"
   },
   {
    "duration": 0,
    "start_time": "2022-07-20T12:36:39.275Z"
   },
   {
    "duration": 0,
    "start_time": "2022-07-20T12:36:39.276Z"
   },
   {
    "duration": 0,
    "start_time": "2022-07-20T12:36:39.277Z"
   },
   {
    "duration": 0,
    "start_time": "2022-07-20T12:36:39.280Z"
   },
   {
    "duration": 0,
    "start_time": "2022-07-20T12:36:39.341Z"
   },
   {
    "duration": 0,
    "start_time": "2022-07-20T12:36:39.343Z"
   },
   {
    "duration": 0,
    "start_time": "2022-07-20T12:36:39.344Z"
   },
   {
    "duration": 0,
    "start_time": "2022-07-20T12:36:39.345Z"
   },
   {
    "duration": 0,
    "start_time": "2022-07-20T12:36:39.346Z"
   },
   {
    "duration": 0,
    "start_time": "2022-07-20T12:36:39.348Z"
   },
   {
    "duration": 0,
    "start_time": "2022-07-20T12:36:39.349Z"
   },
   {
    "duration": 0,
    "start_time": "2022-07-20T12:36:39.350Z"
   },
   {
    "duration": 0,
    "start_time": "2022-07-20T12:36:39.351Z"
   },
   {
    "duration": 0,
    "start_time": "2022-07-20T12:36:39.353Z"
   },
   {
    "duration": 15238,
    "start_time": "2022-07-20T13:23:52.040Z"
   },
   {
    "duration": 4304,
    "start_time": "2022-07-20T13:24:07.282Z"
   },
   {
    "duration": 3,
    "start_time": "2022-07-20T13:24:11.641Z"
   },
   {
    "duration": 35,
    "start_time": "2022-07-20T13:24:11.647Z"
   },
   {
    "duration": 66,
    "start_time": "2022-07-20T13:24:11.683Z"
   },
   {
    "duration": 5,
    "start_time": "2022-07-20T13:24:11.751Z"
   },
   {
    "duration": 20,
    "start_time": "2022-07-20T13:24:11.758Z"
   },
   {
    "duration": 74,
    "start_time": "2022-07-20T13:24:11.780Z"
   },
   {
    "duration": 92,
    "start_time": "2022-07-20T13:24:11.857Z"
   },
   {
    "duration": 698,
    "start_time": "2022-07-20T13:24:11.953Z"
   },
   {
    "duration": 590,
    "start_time": "2022-07-20T13:24:12.653Z"
   },
   {
    "duration": 695,
    "start_time": "2022-07-20T13:24:13.245Z"
   },
   {
    "duration": 528,
    "start_time": "2022-07-20T13:24:13.942Z"
   },
   {
    "duration": 9,
    "start_time": "2022-07-20T13:24:14.472Z"
   },
   {
    "duration": 66,
    "start_time": "2022-07-20T13:24:14.483Z"
   },
   {
    "duration": 12,
    "start_time": "2022-07-20T13:24:14.552Z"
   },
   {
    "duration": 13,
    "start_time": "2022-07-20T13:24:14.567Z"
   },
   {
    "duration": 65,
    "start_time": "2022-07-20T13:24:14.582Z"
   },
   {
    "duration": 10,
    "start_time": "2022-07-20T13:24:14.649Z"
   },
   {
    "duration": 8,
    "start_time": "2022-07-20T13:24:14.662Z"
   },
   {
    "duration": 69,
    "start_time": "2022-07-20T13:24:14.672Z"
   },
   {
    "duration": 603,
    "start_time": "2022-07-20T13:24:14.743Z"
   },
   {
    "duration": 0,
    "start_time": "2022-07-20T13:24:15.348Z"
   },
   {
    "duration": 0,
    "start_time": "2022-07-20T13:24:15.350Z"
   },
   {
    "duration": 0,
    "start_time": "2022-07-20T13:24:15.354Z"
   },
   {
    "duration": 0,
    "start_time": "2022-07-20T13:24:15.356Z"
   },
   {
    "duration": 0,
    "start_time": "2022-07-20T13:24:15.357Z"
   },
   {
    "duration": 0,
    "start_time": "2022-07-20T13:24:15.359Z"
   },
   {
    "duration": 0,
    "start_time": "2022-07-20T13:24:15.361Z"
   },
   {
    "duration": 0,
    "start_time": "2022-07-20T13:24:15.362Z"
   },
   {
    "duration": 0,
    "start_time": "2022-07-20T13:24:15.364Z"
   },
   {
    "duration": 0,
    "start_time": "2022-07-20T13:24:15.365Z"
   },
   {
    "duration": 0,
    "start_time": "2022-07-20T13:24:15.367Z"
   },
   {
    "duration": 0,
    "start_time": "2022-07-20T13:24:15.368Z"
   },
   {
    "duration": 0,
    "start_time": "2022-07-20T13:24:15.369Z"
   },
   {
    "duration": 0,
    "start_time": "2022-07-20T13:24:15.371Z"
   },
   {
    "duration": 0,
    "start_time": "2022-07-20T13:24:15.372Z"
   },
   {
    "duration": 0,
    "start_time": "2022-07-20T13:24:15.373Z"
   },
   {
    "duration": 0,
    "start_time": "2022-07-20T13:24:15.374Z"
   },
   {
    "duration": 0,
    "start_time": "2022-07-20T13:24:15.375Z"
   },
   {
    "duration": 0,
    "start_time": "2022-07-20T13:24:15.376Z"
   },
   {
    "duration": 0,
    "start_time": "2022-07-20T13:24:15.440Z"
   },
   {
    "duration": 0,
    "start_time": "2022-07-20T13:24:15.442Z"
   },
   {
    "duration": 0,
    "start_time": "2022-07-20T13:24:15.444Z"
   },
   {
    "duration": 0,
    "start_time": "2022-07-20T13:24:15.445Z"
   },
   {
    "duration": 0,
    "start_time": "2022-07-20T13:24:15.447Z"
   },
   {
    "duration": 0,
    "start_time": "2022-07-20T13:24:15.448Z"
   },
   {
    "duration": 0,
    "start_time": "2022-07-20T13:24:15.451Z"
   },
   {
    "duration": 48,
    "start_time": "2022-07-20T13:25:22.600Z"
   },
   {
    "duration": 3902,
    "start_time": "2022-07-20T13:25:29.365Z"
   },
   {
    "duration": 3508,
    "start_time": "2022-07-20T13:25:33.269Z"
   },
   {
    "duration": 3,
    "start_time": "2022-07-20T13:25:36.779Z"
   },
   {
    "duration": 85,
    "start_time": "2022-07-20T13:25:36.783Z"
   },
   {
    "duration": 19,
    "start_time": "2022-07-20T13:25:36.870Z"
   },
   {
    "duration": 6,
    "start_time": "2022-07-20T13:25:36.940Z"
   },
   {
    "duration": 17,
    "start_time": "2022-07-20T13:25:36.948Z"
   },
   {
    "duration": 17,
    "start_time": "2022-07-20T13:25:36.966Z"
   },
   {
    "duration": 81,
    "start_time": "2022-07-20T13:25:36.984Z"
   },
   {
    "duration": 680,
    "start_time": "2022-07-20T13:25:37.068Z"
   },
   {
    "duration": 608,
    "start_time": "2022-07-20T13:25:37.750Z"
   },
   {
    "duration": 603,
    "start_time": "2022-07-20T13:25:38.360Z"
   },
   {
    "duration": 575,
    "start_time": "2022-07-20T13:25:38.965Z"
   },
   {
    "duration": 9,
    "start_time": "2022-07-20T13:25:39.542Z"
   },
   {
    "duration": 9,
    "start_time": "2022-07-20T13:25:39.554Z"
   },
   {
    "duration": 8,
    "start_time": "2022-07-20T13:25:39.565Z"
   },
   {
    "duration": 67,
    "start_time": "2022-07-20T13:25:39.575Z"
   },
   {
    "duration": 13,
    "start_time": "2022-07-20T13:25:39.644Z"
   },
   {
    "duration": 10,
    "start_time": "2022-07-20T13:25:39.659Z"
   },
   {
    "duration": 9,
    "start_time": "2022-07-20T13:25:39.671Z"
   },
   {
    "duration": 63,
    "start_time": "2022-07-20T13:25:39.682Z"
   },
   {
    "duration": 294,
    "start_time": "2022-07-20T13:25:39.746Z"
   },
   {
    "duration": 29,
    "start_time": "2022-07-20T13:25:40.042Z"
   },
   {
    "duration": 7,
    "start_time": "2022-07-20T13:25:40.073Z"
   },
   {
    "duration": 63,
    "start_time": "2022-07-20T13:25:40.081Z"
   },
   {
    "duration": 9,
    "start_time": "2022-07-20T13:25:40.146Z"
   },
   {
    "duration": 16,
    "start_time": "2022-07-20T13:25:40.156Z"
   },
   {
    "duration": 11,
    "start_time": "2022-07-20T13:25:40.175Z"
   },
   {
    "duration": 67,
    "start_time": "2022-07-20T13:25:40.188Z"
   },
   {
    "duration": 8,
    "start_time": "2022-07-20T13:25:40.257Z"
   },
   {
    "duration": 10,
    "start_time": "2022-07-20T13:25:40.267Z"
   },
   {
    "duration": 62,
    "start_time": "2022-07-20T13:25:40.279Z"
   },
   {
    "duration": 16,
    "start_time": "2022-07-20T13:25:40.344Z"
   },
   {
    "duration": 13,
    "start_time": "2022-07-20T13:25:40.363Z"
   },
   {
    "duration": 15,
    "start_time": "2022-07-20T13:25:40.379Z"
   },
   {
    "duration": 24808,
    "start_time": "2022-07-20T13:25:40.441Z"
   },
   {
    "duration": 10,
    "start_time": "2022-07-20T13:26:05.252Z"
   },
   {
    "duration": 1822,
    "start_time": "2022-07-20T13:26:05.263Z"
   },
   {
    "duration": 8,
    "start_time": "2022-07-20T13:26:07.140Z"
   },
   {
    "duration": 38,
    "start_time": "2022-07-20T13:26:07.149Z"
   },
   {
    "duration": 41356,
    "start_time": "2022-07-21T19:14:04.706Z"
   },
   {
    "duration": 1229,
    "start_time": "2022-07-21T19:14:46.064Z"
   },
   {
    "duration": 0,
    "start_time": "2022-07-21T19:14:47.295Z"
   },
   {
    "duration": 0,
    "start_time": "2022-07-21T19:14:47.297Z"
   },
   {
    "duration": 0,
    "start_time": "2022-07-21T19:14:47.298Z"
   },
   {
    "duration": 0,
    "start_time": "2022-07-21T19:14:47.299Z"
   },
   {
    "duration": 0,
    "start_time": "2022-07-21T19:14:47.301Z"
   },
   {
    "duration": 0,
    "start_time": "2022-07-21T19:14:47.301Z"
   },
   {
    "duration": 0,
    "start_time": "2022-07-21T19:14:47.302Z"
   },
   {
    "duration": 0,
    "start_time": "2022-07-21T19:14:47.302Z"
   },
   {
    "duration": 0,
    "start_time": "2022-07-21T19:14:47.303Z"
   },
   {
    "duration": 0,
    "start_time": "2022-07-21T19:14:47.303Z"
   },
   {
    "duration": 0,
    "start_time": "2022-07-21T19:14:47.309Z"
   },
   {
    "duration": 0,
    "start_time": "2022-07-21T19:14:47.311Z"
   },
   {
    "duration": 0,
    "start_time": "2022-07-21T19:14:47.312Z"
   },
   {
    "duration": 0,
    "start_time": "2022-07-21T19:14:47.314Z"
   },
   {
    "duration": 0,
    "start_time": "2022-07-21T19:14:47.315Z"
   },
   {
    "duration": 0,
    "start_time": "2022-07-21T19:14:47.317Z"
   },
   {
    "duration": 0,
    "start_time": "2022-07-21T19:14:47.318Z"
   },
   {
    "duration": 0,
    "start_time": "2022-07-21T19:14:47.319Z"
   },
   {
    "duration": 1,
    "start_time": "2022-07-21T19:14:47.320Z"
   },
   {
    "duration": 0,
    "start_time": "2022-07-21T19:14:47.322Z"
   },
   {
    "duration": 0,
    "start_time": "2022-07-21T19:14:47.323Z"
   },
   {
    "duration": 0,
    "start_time": "2022-07-21T19:14:47.324Z"
   },
   {
    "duration": 0,
    "start_time": "2022-07-21T19:14:47.325Z"
   },
   {
    "duration": 0,
    "start_time": "2022-07-21T19:14:47.327Z"
   },
   {
    "duration": 0,
    "start_time": "2022-07-21T19:14:47.328Z"
   },
   {
    "duration": 0,
    "start_time": "2022-07-21T19:14:47.329Z"
   },
   {
    "duration": 0,
    "start_time": "2022-07-21T19:14:47.330Z"
   },
   {
    "duration": 0,
    "start_time": "2022-07-21T19:14:47.332Z"
   },
   {
    "duration": 0,
    "start_time": "2022-07-21T19:14:47.333Z"
   },
   {
    "duration": 0,
    "start_time": "2022-07-21T19:14:47.334Z"
   },
   {
    "duration": 0,
    "start_time": "2022-07-21T19:14:47.335Z"
   },
   {
    "duration": 0,
    "start_time": "2022-07-21T19:14:47.337Z"
   },
   {
    "duration": 0,
    "start_time": "2022-07-21T19:14:47.338Z"
   },
   {
    "duration": 0,
    "start_time": "2022-07-21T19:14:47.340Z"
   },
   {
    "duration": 0,
    "start_time": "2022-07-21T19:14:47.341Z"
   },
   {
    "duration": 0,
    "start_time": "2022-07-21T19:14:47.342Z"
   },
   {
    "duration": 0,
    "start_time": "2022-07-21T19:14:47.343Z"
   },
   {
    "duration": 0,
    "start_time": "2022-07-21T19:14:47.344Z"
   },
   {
    "duration": 0,
    "start_time": "2022-07-21T19:14:47.345Z"
   },
   {
    "duration": 0,
    "start_time": "2022-07-21T19:14:47.346Z"
   },
   {
    "duration": 0,
    "start_time": "2022-07-21T19:14:47.411Z"
   },
   {
    "duration": 0,
    "start_time": "2022-07-21T19:14:47.412Z"
   },
   {
    "duration": 0,
    "start_time": "2022-07-21T19:14:47.413Z"
   },
   {
    "duration": 0,
    "start_time": "2022-07-21T19:14:47.414Z"
   },
   {
    "duration": 0,
    "start_time": "2022-07-21T19:14:47.416Z"
   },
   {
    "duration": 0,
    "start_time": "2022-07-21T19:14:47.417Z"
   },
   {
    "duration": 86617,
    "start_time": "2022-07-21T19:15:07.655Z"
   },
   {
    "duration": 2291,
    "start_time": "2022-07-21T19:21:47.414Z"
   },
   {
    "duration": 2068,
    "start_time": "2022-07-21T19:21:49.708Z"
   },
   {
    "duration": 3,
    "start_time": "2022-07-21T19:21:51.779Z"
   },
   {
    "duration": 84,
    "start_time": "2022-07-21T19:21:51.785Z"
   },
   {
    "duration": 20,
    "start_time": "2022-07-21T19:21:51.872Z"
   },
   {
    "duration": 9,
    "start_time": "2022-07-21T19:21:51.894Z"
   },
   {
    "duration": 27,
    "start_time": "2022-07-21T19:21:51.905Z"
   },
   {
    "duration": 22,
    "start_time": "2022-07-21T19:21:51.934Z"
   },
   {
    "duration": 52,
    "start_time": "2022-07-21T19:21:51.959Z"
   },
   {
    "duration": 326,
    "start_time": "2022-07-21T19:21:52.015Z"
   },
   {
    "duration": 278,
    "start_time": "2022-07-21T19:21:52.343Z"
   },
   {
    "duration": 282,
    "start_time": "2022-07-21T19:21:52.623Z"
   },
   {
    "duration": 271,
    "start_time": "2022-07-21T19:21:52.907Z"
   },
   {
    "duration": 8,
    "start_time": "2022-07-21T19:21:53.180Z"
   },
   {
    "duration": 21,
    "start_time": "2022-07-21T19:21:53.190Z"
   },
   {
    "duration": 7,
    "start_time": "2022-07-21T19:21:53.214Z"
   },
   {
    "duration": 8,
    "start_time": "2022-07-21T19:21:53.223Z"
   },
   {
    "duration": 7,
    "start_time": "2022-07-21T19:21:53.233Z"
   },
   {
    "duration": 8,
    "start_time": "2022-07-21T19:21:53.241Z"
   },
   {
    "duration": 6,
    "start_time": "2022-07-21T19:21:53.251Z"
   },
   {
    "duration": 3,
    "start_time": "2022-07-21T19:21:53.259Z"
   },
   {
    "duration": 158,
    "start_time": "2022-07-21T19:21:53.264Z"
   },
   {
    "duration": 29,
    "start_time": "2022-07-21T19:21:53.424Z"
   },
   {
    "duration": 6,
    "start_time": "2022-07-21T19:21:53.455Z"
   },
   {
    "duration": 4,
    "start_time": "2022-07-21T19:21:53.463Z"
   },
   {
    "duration": 7,
    "start_time": "2022-07-21T19:21:53.468Z"
   },
   {
    "duration": 4,
    "start_time": "2022-07-21T19:21:53.477Z"
   },
   {
    "duration": 5,
    "start_time": "2022-07-21T19:21:53.511Z"
   },
   {
    "duration": 13,
    "start_time": "2022-07-21T19:21:53.517Z"
   },
   {
    "duration": 9,
    "start_time": "2022-07-21T19:21:53.532Z"
   },
   {
    "duration": 5,
    "start_time": "2022-07-21T19:21:53.543Z"
   },
   {
    "duration": 3,
    "start_time": "2022-07-21T19:21:53.550Z"
   },
   {
    "duration": 8,
    "start_time": "2022-07-21T19:21:53.555Z"
   },
   {
    "duration": 6,
    "start_time": "2022-07-21T19:21:53.564Z"
   },
   {
    "duration": 39,
    "start_time": "2022-07-21T19:21:53.572Z"
   },
   {
    "duration": 7272,
    "start_time": "2022-07-21T19:21:53.613Z"
   },
   {
    "duration": 6,
    "start_time": "2022-07-21T19:22:00.887Z"
   },
   {
    "duration": 873,
    "start_time": "2022-07-21T19:22:00.894Z"
   },
   {
    "duration": 6,
    "start_time": "2022-07-21T19:22:01.769Z"
   },
   {
    "duration": 16,
    "start_time": "2022-07-21T19:22:01.777Z"
   },
   {
    "duration": 1056417,
    "start_time": "2022-07-21T19:22:01.795Z"
   },
   {
    "duration": 22,
    "start_time": "2022-07-21T19:39:38.220Z"
   },
   {
    "duration": 10,
    "start_time": "2022-07-21T19:39:38.244Z"
   },
   {
    "duration": 6,
    "start_time": "2022-07-21T19:39:38.256Z"
   },
   {
    "duration": 6,
    "start_time": "2022-07-21T19:39:38.264Z"
   },
   {
    "duration": 44,
    "start_time": "2022-07-21T19:39:38.272Z"
   },
   {
    "duration": 10,
    "start_time": "2022-07-21T19:39:38.322Z"
   },
   {
    "duration": 1235,
    "start_time": "2022-07-21T19:39:38.334Z"
   },
   {
    "duration": 1388,
    "start_time": "2022-07-21T19:41:51.366Z"
   }
  ],
  "kernelspec": {
   "display_name": "Python 3 (ipykernel)",
   "language": "python",
   "name": "python3"
  },
  "language_info": {
   "codemirror_mode": {
    "name": "ipython",
    "version": 3
   },
   "file_extension": ".py",
   "mimetype": "text/x-python",
   "name": "python",
   "nbconvert_exporter": "python",
   "pygments_lexer": "ipython3",
   "version": "3.10.3"
  },
  "toc": {
   "base_numbering": 1,
   "nav_menu": {},
   "number_sections": false,
   "sideBar": true,
   "skip_h1_title": false,
   "title_cell": "Table of Contents",
   "title_sidebar": "Contents",
   "toc_cell": false,
   "toc_position": {},
   "toc_section_display": true,
   "toc_window_display": true
  },
  "varInspector": {
   "cols": {
    "lenName": 16,
    "lenType": 16,
    "lenVar": 40
   },
   "kernels_config": {
    "python": {
     "delete_cmd_postfix": "",
     "delete_cmd_prefix": "del ",
     "library": "var_list.py",
     "varRefreshCmd": "print(var_dic_list())"
    },
    "r": {
     "delete_cmd_postfix": ") ",
     "delete_cmd_prefix": "rm(",
     "library": "var_list.r",
     "varRefreshCmd": "cat(var_dic_list()) "
    }
   },
   "types_to_exclude": [
    "module",
    "function",
    "builtin_function_or_method",
    "instance",
    "_Feature"
   ],
   "window_display": false
  }
 },
 "nbformat": 4,
 "nbformat_minor": 5
}
