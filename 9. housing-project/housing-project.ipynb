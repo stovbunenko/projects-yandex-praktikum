{
 "cells": [
  {
   "cell_type": "markdown",
   "id": "ee0b22d5",
   "metadata": {
    "toc": true
   },
   "source": [
    "<h1>Table of Contents<span class=\"tocSkip\"></span></h1>\n",
    "<div class=\"toc\"><ul class=\"toc-item\"><li><span><a href=\"#Предсказание-стоимости-жилья\" data-toc-modified-id=\"Предсказание-стоимости-жилья-1\"><span class=\"toc-item-num\">1&nbsp;&nbsp;</span>Предсказание стоимости жилья</a></span><ul class=\"toc-item\"><li><span><a href=\"#Подготовка-данных\" data-toc-modified-id=\"Подготовка-данных-1.1\"><span class=\"toc-item-num\">1.1&nbsp;&nbsp;</span>Подготовка данных</a></span><ul class=\"toc-item\"><li><span><a href=\"#Трансформация-числовых-и-категориальных-признаков\" data-toc-modified-id=\"Трансформация-числовых-и-категориальных-признаков-1.1.1\"><span class=\"toc-item-num\">1.1.1&nbsp;&nbsp;</span>Трансформация числовых и категориальных признаков</a></span></li><li><span><a href=\"#Вывод\" data-toc-modified-id=\"Вывод-1.1.2\"><span class=\"toc-item-num\">1.1.2&nbsp;&nbsp;</span>Вывод</a></span></li></ul></li><li><span><a href=\"#Обучение-моделей\" data-toc-modified-id=\"Обучение-моделей-1.2\"><span class=\"toc-item-num\">1.2&nbsp;&nbsp;</span>Обучение моделей</a></span><ul class=\"toc-item\"><li><span><a href=\"#Разделение-на-выборки\" data-toc-modified-id=\"Разделение-на-выборки-1.2.1\"><span class=\"toc-item-num\">1.2.1&nbsp;&nbsp;</span>Разделение на выборки</a></span></li><li><span><a href=\"#Обучение-модели-на-всех-данных-из-файла\" data-toc-modified-id=\"Обучение-модели-на-всех-данных-из-файла-1.2.2\"><span class=\"toc-item-num\">1.2.2&nbsp;&nbsp;</span>Обучение модели на всех данных из файла</a></span></li><li><span><a href=\"#Обучение-модель-только-на-числовых-переменных\" data-toc-modified-id=\"Обучение-модель-только-на-числовых-переменных-1.2.3\"><span class=\"toc-item-num\">1.2.3&nbsp;&nbsp;</span>Обучение модель только на числовых переменных</a></span></li><li><span><a href=\"#Вывод\" data-toc-modified-id=\"Вывод-1.2.4\"><span class=\"toc-item-num\">1.2.4&nbsp;&nbsp;</span>Вывод</a></span></li></ul></li><li><span><a href=\"#Анализ-результатов\" data-toc-modified-id=\"Анализ-результатов-1.3\"><span class=\"toc-item-num\">1.3&nbsp;&nbsp;</span>Анализ результатов</a></span></li></ul></li></ul></div>"
   ]
  },
  {
   "cell_type": "markdown",
   "id": "134ca0df",
   "metadata": {
    "id": "GEqQaHzsZ_bA"
   },
   "source": [
    "# Предсказание стоимости жилья\n",
    "\n",
    "В проекте вам нужно обучить модель линейной регрессии на данных о жилье в Калифорнии в 1990 году. На основе данных нужно предсказать медианную стоимость дома в жилом массиве. Обучите модель и сделайте предсказания на тестовой выборке. Для оценки качества модели используйте метрики RMSE, MAE и R2."
   ]
  },
  {
   "cell_type": "markdown",
   "id": "29223cad",
   "metadata": {},
   "source": [
    "В колонках датасета содержатся следующие данные:\n",
    "- longitude — широта;\n",
    "- latitude — долгота;\n",
    "- housing_median_age — медианный возраст жителей жилого массива;\n",
    "- total_rooms — общее количество комнат в домах жилого массива;\n",
    "- total_bedrooms — общее количество спален в домах жилого массива;\n",
    "- population — количество человек, которые проживают в жилом массиве;\n",
    "- households — количество домовладений в жилом массиве;\n",
    "- median_income — медианный доход жителей жилого массива;\n",
    "- median_house_value — медианная стоимость дома в жилом массиве;\n",
    "- ocean_proximity — близость к океану."
   ]
  },
  {
   "cell_type": "markdown",
   "id": "8036a582",
   "metadata": {
    "id": "53871372"
   },
   "source": [
    "## Подготовка данных"
   ]
  },
  {
   "cell_type": "code",
   "execution_count": 1,
   "id": "c867d1d5",
   "metadata": {
    "id": "df92e3ec"
   },
   "outputs": [],
   "source": [
    "import pandas as pd \n",
    "import numpy as np\n",
    "import pyspark\n",
    "from pyspark.sql import SparkSession\n",
    "from pyspark.sql.types import *\n",
    "import pyspark.sql.functions as F\n",
    "\n",
    "RANDOM_SEED = 2022\n",
    "\n",
    "spark = SparkSession.builder \\\n",
    "                    .master(\"local\") \\\n",
    "                    .appName(\"Titanic - Logistic regression\") \\\n",
    "                    .getOrCreate()\n",
    "\n",
    "from pyspark.ml.feature import StringIndexer, VectorAssembler, StandardScaler\n",
    "from pyspark.ml.regression import LinearRegression\n",
    "from pyspark.ml.evaluation import RegressionEvaluator\n",
    "from pyspark.ml.evaluation import BinaryClassificationEvaluator, MulticlassClassificationEvaluator\n",
    "from pyspark.ml.feature import OneHotEncoder"
   ]
  },
  {
   "cell_type": "code",
   "execution_count": 2,
   "id": "03878cbb",
   "metadata": {},
   "outputs": [
    {
     "name": "stderr",
     "output_type": "stream",
     "text": [
      "[Stage 1:>                                                          (0 + 1) / 1]\r"
     ]
    },
    {
     "name": "stdout",
     "output_type": "stream",
     "text": [
      "root\n",
      " |-- longitude: double (nullable = true)\n",
      " |-- latitude: double (nullable = true)\n",
      " |-- housing_median_age: double (nullable = true)\n",
      " |-- total_rooms: double (nullable = true)\n",
      " |-- total_bedrooms: double (nullable = true)\n",
      " |-- population: double (nullable = true)\n",
      " |-- households: double (nullable = true)\n",
      " |-- median_income: double (nullable = true)\n",
      " |-- median_house_value: double (nullable = true)\n",
      " |-- ocean_proximity: string (nullable = true)\n",
      "\n"
     ]
    },
    {
     "name": "stderr",
     "output_type": "stream",
     "text": [
      "                                                                                \r"
     ]
    }
   ],
   "source": [
    "df_housing.printSchema()"
   ]
  },
  {
   "cell_type": "markdown",
   "id": "b24fc130",
   "metadata": {},
   "source": [
    "Выведем названия колонок и их тип данных в виде таблицы:"
   ]
  },
  {
   "cell_type": "code",
   "execution_count": 3,
   "id": "11a86234",
   "metadata": {},
   "outputs": [
    {
     "name": "stdout",
     "output_type": "stream",
     "text": [
      "               column    type\n",
      "0           longitude  double\n",
      "1            latitude  double\n",
      "2  housing_median_age  double\n",
      "3         total_rooms  double\n",
      "4      total_bedrooms  double\n",
      "5          population  double\n",
      "6          households  double\n",
      "7       median_income  double\n",
      "8  median_house_value  double\n",
      "9     ocean_proximity  string\n"
     ]
    }
   ],
   "source": [
    "pandas_df_housing = pd.DataFrame(df_housing.dtypes, columns=['column', 'type']).head(10)\n",
    "print(pandas_df_housing)"
   ]
  },
  {
   "cell_type": "markdown",
   "id": "1a5a6986",
   "metadata": {},
   "source": [
    "Выведем первые 10 строк датасета методом DataFrame API:"
   ]
  },
  {
   "cell_type": "code",
   "execution_count": 4,
   "id": "e2be4dde",
   "metadata": {},
   "outputs": [
    {
     "name": "stdout",
     "output_type": "stream",
     "text": [
      "+---------+--------+------------------+-----------+--------------+----------+----------+-------------+------------------+---------------+\n",
      "|longitude|latitude|housing_median_age|total_rooms|total_bedrooms|population|households|median_income|median_house_value|ocean_proximity|\n",
      "+---------+--------+------------------+-----------+--------------+----------+----------+-------------+------------------+---------------+\n",
      "|  -122.23|   37.88|              41.0|      880.0|         129.0|     322.0|     126.0|       8.3252|          452600.0|       NEAR BAY|\n",
      "|  -122.22|   37.86|              21.0|     7099.0|        1106.0|    2401.0|    1138.0|       8.3014|          358500.0|       NEAR BAY|\n",
      "|  -122.24|   37.85|              52.0|     1467.0|         190.0|     496.0|     177.0|       7.2574|          352100.0|       NEAR BAY|\n",
      "|  -122.25|   37.85|              52.0|     1274.0|         235.0|     558.0|     219.0|       5.6431|          341300.0|       NEAR BAY|\n",
      "|  -122.25|   37.85|              52.0|     1627.0|         280.0|     565.0|     259.0|       3.8462|          342200.0|       NEAR BAY|\n",
      "|  -122.25|   37.85|              52.0|      919.0|         213.0|     413.0|     193.0|       4.0368|          269700.0|       NEAR BAY|\n",
      "|  -122.25|   37.84|              52.0|     2535.0|         489.0|    1094.0|     514.0|       3.6591|          299200.0|       NEAR BAY|\n",
      "|  -122.25|   37.84|              52.0|     3104.0|         687.0|    1157.0|     647.0|         3.12|          241400.0|       NEAR BAY|\n",
      "|  -122.26|   37.84|              42.0|     2555.0|         665.0|    1206.0|     595.0|       2.0804|          226700.0|       NEAR BAY|\n",
      "|  -122.25|   37.84|              52.0|     3549.0|         707.0|    1551.0|     714.0|       3.6912|          261100.0|       NEAR BAY|\n",
      "+---------+--------+------------------+-----------+--------------+----------+----------+-------------+------------------+---------------+\n",
      "only showing top 10 rows\n",
      "\n"
     ]
    }
   ],
   "source": [
    "df_housing.show(10)"
   ]
  },
  {
   "cell_type": "markdown",
   "id": "ed29a868",
   "metadata": {},
   "source": [
    "Выведем пропущенные значения в каждой колонке:"
   ]
  },
  {
   "cell_type": "code",
   "execution_count": 5,
   "id": "b7678c3a",
   "metadata": {},
   "outputs": [
    {
     "name": "stdout",
     "output_type": "stream",
     "text": [
      "longitude 0\n",
      "latitude 0\n",
      "housing_median_age 0\n",
      "total_rooms 0\n",
      "total_bedrooms 207\n",
      "population 0\n",
      "households 0\n",
      "median_income 0\n",
      "median_house_value 0\n",
      "ocean_proximity 0\n"
     ]
    }
   ],
   "source": [
    "columns = df_housing.columns\n",
    "check_val = [None, np.nan]\n",
    "\n",
    "for column in columns:\n",
    "    print(column, df_housing.where(F.isnan(column) | F.col(column).isNull()).count())"
   ]
  },
  {
   "cell_type": "markdown",
   "id": "46fc8e02",
   "metadata": {},
   "source": [
    "Для простоты удалим строки, в чьих данных есть пропущенные значения:"
   ]
  },
  {
   "cell_type": "code",
   "execution_count": 6,
   "id": "da505b60",
   "metadata": {},
   "outputs": [
    {
     "name": "stderr",
     "output_type": "stream",
     "text": [
      "                                                                                \r"
     ]
    },
    {
     "data": {
      "text/html": [
       "<div>\n",
       "<style scoped>\n",
       "    .dataframe tbody tr th:only-of-type {\n",
       "        vertical-align: middle;\n",
       "    }\n",
       "\n",
       "    .dataframe tbody tr th {\n",
       "        vertical-align: top;\n",
       "    }\n",
       "\n",
       "    .dataframe thead th {\n",
       "        text-align: right;\n",
       "    }\n",
       "</style>\n",
       "<table border=\"1\" class=\"dataframe\">\n",
       "  <thead>\n",
       "    <tr style=\"text-align: right;\">\n",
       "      <th></th>\n",
       "      <th>summary</th>\n",
       "      <th>longitude</th>\n",
       "      <th>latitude</th>\n",
       "      <th>housing_median_age</th>\n",
       "      <th>total_rooms</th>\n",
       "      <th>total_bedrooms</th>\n",
       "      <th>population</th>\n",
       "      <th>households</th>\n",
       "      <th>median_income</th>\n",
       "      <th>median_house_value</th>\n",
       "      <th>ocean_proximity</th>\n",
       "    </tr>\n",
       "  </thead>\n",
       "  <tbody>\n",
       "    <tr>\n",
       "      <th>0</th>\n",
       "      <td>count</td>\n",
       "      <td>20433</td>\n",
       "      <td>20433</td>\n",
       "      <td>20433</td>\n",
       "      <td>20433</td>\n",
       "      <td>20433</td>\n",
       "      <td>20433</td>\n",
       "      <td>20433</td>\n",
       "      <td>20433</td>\n",
       "      <td>20433</td>\n",
       "      <td>20433</td>\n",
       "    </tr>\n",
       "    <tr>\n",
       "      <th>1</th>\n",
       "      <td>mean</td>\n",
       "      <td>-119.57068859198068</td>\n",
       "      <td>35.63322125972706</td>\n",
       "      <td>28.633093525179856</td>\n",
       "      <td>2636.5042333480155</td>\n",
       "      <td>537.8705525375618</td>\n",
       "      <td>1424.9469485635982</td>\n",
       "      <td>499.43346547251997</td>\n",
       "      <td>3.8711616013312273</td>\n",
       "      <td>206864.41315519012</td>\n",
       "      <td>None</td>\n",
       "    </tr>\n",
       "    <tr>\n",
       "      <th>2</th>\n",
       "      <td>stddev</td>\n",
       "      <td>2.003577890751096</td>\n",
       "      <td>2.1363476663779872</td>\n",
       "      <td>12.591805202182835</td>\n",
       "      <td>2185.269566977601</td>\n",
       "      <td>421.38507007403115</td>\n",
       "      <td>1133.2084897449597</td>\n",
       "      <td>382.2992258828481</td>\n",
       "      <td>1.899291249306247</td>\n",
       "      <td>115435.66709858322</td>\n",
       "      <td>None</td>\n",
       "    </tr>\n",
       "    <tr>\n",
       "      <th>3</th>\n",
       "      <td>min</td>\n",
       "      <td>-124.35</td>\n",
       "      <td>32.54</td>\n",
       "      <td>1.0</td>\n",
       "      <td>2.0</td>\n",
       "      <td>1.0</td>\n",
       "      <td>3.0</td>\n",
       "      <td>1.0</td>\n",
       "      <td>0.4999</td>\n",
       "      <td>14999.0</td>\n",
       "      <td>&lt;1H OCEAN</td>\n",
       "    </tr>\n",
       "    <tr>\n",
       "      <th>4</th>\n",
       "      <td>max</td>\n",
       "      <td>-114.31</td>\n",
       "      <td>41.95</td>\n",
       "      <td>52.0</td>\n",
       "      <td>39320.0</td>\n",
       "      <td>6445.0</td>\n",
       "      <td>35682.0</td>\n",
       "      <td>6082.0</td>\n",
       "      <td>15.0001</td>\n",
       "      <td>500001.0</td>\n",
       "      <td>NEAR OCEAN</td>\n",
       "    </tr>\n",
       "  </tbody>\n",
       "</table>\n",
       "</div>"
      ],
      "text/plain": [
       "  summary            longitude            latitude  housing_median_age  \\\n",
       "0   count                20433               20433               20433   \n",
       "1    mean  -119.57068859198068   35.63322125972706  28.633093525179856   \n",
       "2  stddev    2.003577890751096  2.1363476663779872  12.591805202182835   \n",
       "3     min              -124.35               32.54                 1.0   \n",
       "4     max              -114.31               41.95                52.0   \n",
       "\n",
       "          total_rooms      total_bedrooms          population  \\\n",
       "0               20433               20433               20433   \n",
       "1  2636.5042333480155   537.8705525375618  1424.9469485635982   \n",
       "2   2185.269566977601  421.38507007403115  1133.2084897449597   \n",
       "3                 2.0                 1.0                 3.0   \n",
       "4             39320.0              6445.0             35682.0   \n",
       "\n",
       "           households       median_income  median_house_value ocean_proximity  \n",
       "0               20433               20433               20433           20433  \n",
       "1  499.43346547251997  3.8711616013312273  206864.41315519012            None  \n",
       "2   382.2992258828481   1.899291249306247  115435.66709858322            None  \n",
       "3                 1.0              0.4999             14999.0       <1H OCEAN  \n",
       "4              6082.0             15.0001            500001.0      NEAR OCEAN  "
      ]
     },
     "execution_count": 6,
     "metadata": {},
     "output_type": "execute_result"
    }
   ],
   "source": [
    "df_housing = df_housing.na.drop(subset='total_bedrooms')\n",
    "df_housing.describe().toPandas()"
   ]
  },
  {
   "cell_type": "markdown",
   "id": "a5551e7c",
   "metadata": {},
   "source": [
    "Еще раз проверим пропуски:"
   ]
  },
  {
   "cell_type": "code",
   "execution_count": 7,
   "id": "08567f72",
   "metadata": {},
   "outputs": [
    {
     "name": "stdout",
     "output_type": "stream",
     "text": [
      "longitude 0\n",
      "latitude 0\n",
      "housing_median_age 0\n",
      "total_rooms 0\n",
      "total_bedrooms 0\n",
      "population 0\n",
      "households 0\n",
      "median_income 0\n",
      "median_house_value 0\n",
      "ocean_proximity 0\n"
     ]
    }
   ],
   "source": [
    "columns = df_housing.columns\n",
    "check_val = [None, np.nan]\n",
    "\n",
    "for column in columns:\n",
    "    print(column, df_housing.where(F.isnan(column) | F.col(column).isNull()).count())"
   ]
  },
  {
   "cell_type": "markdown",
   "id": "17782a32",
   "metadata": {},
   "source": [
    "Найдём жилые массивы, в которых живут самые обеспеченные люди. Сгруппируем данные по столбцу с категориями удалённости от океана и посчитаем среднее значение медианного дохода в жилом массиве:"
   ]
  },
  {
   "cell_type": "code",
   "execution_count": 8,
   "id": "8bd86231",
   "metadata": {},
   "outputs": [
    {
     "name": "stderr",
     "output_type": "stream",
     "text": [
      "                                                                                \r"
     ]
    },
    {
     "data": {
      "text/html": [
       "<div>\n",
       "<style scoped>\n",
       "    .dataframe tbody tr th:only-of-type {\n",
       "        vertical-align: middle;\n",
       "    }\n",
       "\n",
       "    .dataframe tbody tr th {\n",
       "        vertical-align: top;\n",
       "    }\n",
       "\n",
       "    .dataframe thead th {\n",
       "        text-align: right;\n",
       "    }\n",
       "</style>\n",
       "<table border=\"1\" class=\"dataframe\">\n",
       "  <thead>\n",
       "    <tr style=\"text-align: right;\">\n",
       "      <th></th>\n",
       "      <th>ocean_proximity</th>\n",
       "      <th>avg_median_income</th>\n",
       "    </tr>\n",
       "  </thead>\n",
       "  <tbody>\n",
       "    <tr>\n",
       "      <th>0</th>\n",
       "      <td>ISLAND</td>\n",
       "      <td>2.744420</td>\n",
       "    </tr>\n",
       "    <tr>\n",
       "      <th>1</th>\n",
       "      <td>NEAR OCEAN</td>\n",
       "      <td>4.006374</td>\n",
       "    </tr>\n",
       "    <tr>\n",
       "      <th>2</th>\n",
       "      <td>NEAR BAY</td>\n",
       "      <td>4.175647</td>\n",
       "    </tr>\n",
       "    <tr>\n",
       "      <th>3</th>\n",
       "      <td>&lt;1H OCEAN</td>\n",
       "      <td>4.231101</td>\n",
       "    </tr>\n",
       "    <tr>\n",
       "      <th>4</th>\n",
       "      <td>INLAND</td>\n",
       "      <td>3.210359</td>\n",
       "    </tr>\n",
       "  </tbody>\n",
       "</table>\n",
       "</div>"
      ],
      "text/plain": [
       "  ocean_proximity  avg_median_income\n",
       "0          ISLAND           2.744420\n",
       "1      NEAR OCEAN           4.006374\n",
       "2        NEAR BAY           4.175647\n",
       "3       <1H OCEAN           4.231101\n",
       "4          INLAND           3.210359"
      ]
     },
     "execution_count": 8,
     "metadata": {},
     "output_type": "execute_result"
    }
   ],
   "source": [
    "import seaborn as sns\n",
    "\n",
    "df_wealthy = df_housing.groupBy('ocean_proximity').agg(F.avg('median_income').alias('avg_median_income')).toPandas()\n",
    "df_wealthy "
   ]
  },
  {
   "cell_type": "code",
   "execution_count": 9,
   "id": "6205ab4e",
   "metadata": {},
   "outputs": [
    {
     "data": {
      "text/plain": [
       "<AxesSubplot:xlabel='ocean_proximity', ylabel='avg_median_income'>"
      ]
     },
     "execution_count": 9,
     "metadata": {},
     "output_type": "execute_result"
    },
    {
     "data": {
      "image/png": "[encoded data removed]",
      "text/plain": [
       "<Figure size 432x288 with 1 Axes>"
      ]
     },
     "metadata": {
      "needs_background": "light"
     },
     "output_type": "display_data"
    }
   ],
   "source": [
    "sns.barplot(data = df_wealthy, x='ocean_proximity', y='avg_median_income')"
   ]
  },
  {
   "cell_type": "markdown",
   "id": "e429dba2",
   "metadata": {},
   "source": [
    "Люди с высоким доходом предпочитают селиться в жилых массивах, которые находятся не более чем в часе езды до океана или около залива"
   ]
  },
  {
   "cell_type": "markdown",
   "id": "ab8dad7e",
   "metadata": {},
   "source": [
    "Исследуем зависимость возраста жителей от удалённости жилого массива от океана. Сгруппируем данные по двум столбцам: медианный возраст жителей и удалённость от океана, а потом посчитаем сколько раз встречается то или иное медианное значение возраста в зависимости от удалённости от океана:"
   ]
  },
  {
   "cell_type": "code",
   "execution_count": 10,
   "id": "4ee817b8",
   "metadata": {},
   "outputs": [
    {
     "name": "stderr",
     "output_type": "stream",
     "text": [
      "                                                                                \r"
     ]
    },
    {
     "data": {
      "text/html": [
       "<div>\n",
       "<style scoped>\n",
       "    .dataframe tbody tr th:only-of-type {\n",
       "        vertical-align: middle;\n",
       "    }\n",
       "\n",
       "    .dataframe tbody tr th {\n",
       "        vertical-align: top;\n",
       "    }\n",
       "\n",
       "    .dataframe thead th {\n",
       "        text-align: right;\n",
       "    }\n",
       "</style>\n",
       "<table border=\"1\" class=\"dataframe\">\n",
       "  <thead>\n",
       "    <tr style=\"text-align: right;\">\n",
       "      <th></th>\n",
       "      <th>housing_median_age</th>\n",
       "      <th>ocean_proximity</th>\n",
       "      <th>count_households</th>\n",
       "    </tr>\n",
       "  </thead>\n",
       "  <tbody>\n",
       "    <tr>\n",
       "      <th>0</th>\n",
       "      <td>23.0</td>\n",
       "      <td>&lt;1H OCEAN</td>\n",
       "      <td>194</td>\n",
       "    </tr>\n",
       "    <tr>\n",
       "      <th>1</th>\n",
       "      <td>31.0</td>\n",
       "      <td>NEAR BAY</td>\n",
       "      <td>41</td>\n",
       "    </tr>\n",
       "    <tr>\n",
       "      <th>2</th>\n",
       "      <td>11.0</td>\n",
       "      <td>&lt;1H OCEAN</td>\n",
       "      <td>83</td>\n",
       "    </tr>\n",
       "    <tr>\n",
       "      <th>3</th>\n",
       "      <td>36.0</td>\n",
       "      <td>&lt;1H OCEAN</td>\n",
       "      <td>473</td>\n",
       "    </tr>\n",
       "    <tr>\n",
       "      <th>4</th>\n",
       "      <td>10.0</td>\n",
       "      <td>INLAND</td>\n",
       "      <td>150</td>\n",
       "    </tr>\n",
       "  </tbody>\n",
       "</table>\n",
       "</div>"
      ],
      "text/plain": [
       "   housing_median_age ocean_proximity  count_households\n",
       "0                23.0       <1H OCEAN               194\n",
       "1                31.0        NEAR BAY                41\n",
       "2                11.0       <1H OCEAN                83\n",
       "3                36.0       <1H OCEAN               473\n",
       "4                10.0          INLAND               150"
      ]
     },
     "execution_count": 10,
     "metadata": {},
     "output_type": "execute_result"
    }
   ],
   "source": [
    "df_ages = df_housing.groupBy('housing_median_age','ocean_proximity').agg({'housing_median_age':'count'}).toPandas()\n",
    "df_ages = df_ages.rename({'count(housing_median_age)':'count_households'},axis=1)\n",
    "df_ages.head()"
   ]
  },
  {
   "cell_type": "code",
   "execution_count": 11,
   "id": "d06a99a6",
   "metadata": {},
   "outputs": [
    {
     "data": {
      "text/plain": [
       "<AxesSubplot:xlabel='housing_median_age', ylabel='count_households'>"
      ]
     },
     "execution_count": 11,
     "metadata": {},
     "output_type": "execute_result"
    },
    {
     "data": {
      "image/png": "[encoded data removed]",
      "text/plain": [
       "<Figure size 432x288 with 1 Axes>"
      ]
     },
     "metadata": {
      "needs_background": "light"
     },
     "output_type": "display_data"
    }
   ],
   "source": [
    "sns.lineplot(data=df_ages, \n",
    "    x='housing_median_age', \n",
    "    y= 'count_households', \n",
    "    hue='ocean_proximity'\n",
    ")"
   ]
  },
  {
   "cell_type": "markdown",
   "id": "96d3e10c",
   "metadata": {},
   "source": [
    "По графику можно предположить, что люди до 20 лет чаще живут в материковой части Калифорнии (INLAND) и в радиусе часа езды до океана. Старшие поколения предпочитают селиться в радиусе часа езды до океана и около залива."
   ]
  },
  {
   "cell_type": "markdown",
   "id": "b213314b",
   "metadata": {},
   "source": [
    "Создадим несколько новых столбцов с признаками:\n",
    "\n",
    "- Отношение количества комнат ***total_rooms*** к количеству домовладений ***households***. Назовём столбец ***rooms_per_household***.\n",
    "- Отношение количества жителей ***population*** к количеству домовладений ***households***. Назовём столбец ***population_in_household***.\n",
    "- Отношение количества спален ***total_bedrooms*** к общему количеству комнат ***total_rooms***. Назовём столбец ***bedroom_index***:"
   ]
  },
  {
   "cell_type": "code",
   "execution_count": 12,
   "id": "fe87e762",
   "metadata": {},
   "outputs": [
    {
     "name": "stdout",
     "output_type": "stream",
     "text": [
      "root\n",
      " |-- longitude: double (nullable = true)\n",
      " |-- latitude: double (nullable = true)\n",
      " |-- housing_median_age: double (nullable = true)\n",
      " |-- total_rooms: double (nullable = true)\n",
      " |-- total_bedrooms: double (nullable = true)\n",
      " |-- population: double (nullable = true)\n",
      " |-- households: double (nullable = true)\n",
      " |-- median_income: double (nullable = true)\n",
      " |-- median_house_value: double (nullable = true)\n",
      " |-- ocean_proximity: string (nullable = true)\n",
      " |-- rooms_per_household: double (nullable = true)\n",
      " |-- population_in_household: double (nullable = true)\n",
      " |-- bedroom_index: double (nullable = true)\n",
      "\n"
     ]
    }
   ],
   "source": [
    "df_housing = df_housing.withColumn('rooms_per_household',F.col('total_rooms')/F.col('households')).withColumn('population_in_household',F.col('population')/F.col('households')).withColumn('bedroom_index',F.col('total_bedrooms')/F.col('total_rooms'))\n",
    "\n",
    "df_housing.printSchema()"
   ]
  },
  {
   "cell_type": "markdown",
   "id": "bf7656e5",
   "metadata": {},
   "source": [
    "Были созданы новые колонки, которые могут быть подходящими признаками для модели машинного обучения."
   ]
  },
  {
   "cell_type": "markdown",
   "id": "75e1f05c",
   "metadata": {},
   "source": [
    "Разделим колонки на два типа: числовые и текстовые, которые представляют категориальные данные"
   ]
  },
  {
   "cell_type": "code",
   "execution_count": 13,
   "id": "047571d4",
   "metadata": {},
   "outputs": [],
   "source": [
    "categorical_cols = ['ocean_proximity']\n",
    "numerical_cols  = ['longitude', 'latitude', 'housing_median_age', 'total_rooms', 'total_bedrooms', 'population', 'households',\n",
    "                  'median_income', 'population_in_household' , 'rooms_per_household', 'bedroom_index']\n",
    "target = 'median_house_value'"
   ]
  },
  {
   "cell_type": "markdown",
   "id": "73687f91",
   "metadata": {},
   "source": [
    "### Трансформация числовых и категориальных признаков"
   ]
  },
  {
   "cell_type": "markdown",
   "id": "1a54ca7e",
   "metadata": {},
   "source": [
    "Трансформируем категориальные признаки с помощью трансформера StringIndexer:"
   ]
  },
  {
   "cell_type": "markdown",
   "id": "03703d1a",
   "metadata": {},
   "source": [
    "df_housing = df_housing.drop('ocean_proximity') не сделала"
   ]
  },
  {
   "cell_type": "code",
   "execution_count": 14,
   "id": "c103d72c",
   "metadata": {},
   "outputs": [
    {
     "name": "stderr",
     "output_type": "stream",
     "text": [
      "                                                                                \r"
     ]
    },
    {
     "name": "stdout",
     "output_type": "stream",
     "text": [
      "+---------------+-------------------+\n",
      "|ocean_proximity|ocean_proximity_idx|\n",
      "+---------------+-------------------+\n",
      "|       NEAR BAY|                3.0|\n",
      "|       NEAR BAY|                3.0|\n",
      "|       NEAR BAY|                3.0|\n",
      "+---------------+-------------------+\n",
      "only showing top 3 rows\n",
      "\n"
     ]
    }
   ],
   "source": [
    "indexer = StringIndexer(inputCol='ocean_proximity', \n",
    "                        outputCol='ocean_proximity_idx')\n",
    "df_housing = indexer.fit(df_housing).transform(df_housing)\n",
    "cols = [c for c in df_housing.columns for i in categorical_cols if (c.startswith(i))]\n",
    "df_housing.select(cols).show(3) "
   ]
  },
  {
   "cell_type": "markdown",
   "id": "47531b08",
   "metadata": {},
   "source": [
    "Дополнительно сделаем OHE-кодирование для категорий:"
   ]
  },
  {
   "cell_type": "code",
   "execution_count": 15,
   "id": "1301e91d",
   "metadata": {},
   "outputs": [
    {
     "name": "stdout",
     "output_type": "stream",
     "text": [
      "+---------------+-------------------+-------------------+\n",
      "|ocean_proximity|ocean_proximity_idx|ocean_proximity_ohe|\n",
      "+---------------+-------------------+-------------------+\n",
      "|       NEAR BAY|                3.0|      (4,[3],[1.0])|\n",
      "|       NEAR BAY|                3.0|      (4,[3],[1.0])|\n",
      "|       NEAR BAY|                3.0|      (4,[3],[1.0])|\n",
      "+---------------+-------------------+-------------------+\n",
      "only showing top 3 rows\n",
      "\n"
     ]
    }
   ],
   "source": [
    "encoder = OneHotEncoder(inputCol='ocean_proximity_idx', \n",
    "                        outputCol='ocean_proximity_ohe')\n",
    "df_housing = encoder.fit(df_housing).transform(df_housing)\n",
    "cols = [c for c in df_housing.columns for i in categorical_cols if (c.startswith(i))]\n",
    "df_housing.select(cols).show(3) "
   ]
  },
  {
   "cell_type": "markdown",
   "id": "663b5b7f",
   "metadata": {},
   "source": [
    "Финальный шаг преобразований — это объединение признаков в один вектор, с которым ML-алгоритм умеет работать:"
   ]
  },
  {
   "cell_type": "code",
   "execution_count": 16,
   "id": "9463ac77",
   "metadata": {},
   "outputs": [],
   "source": [
    "categorical_assembler = \\\n",
    "        VectorAssembler(inputCols=[c+'_ohe' for c in categorical_cols],\n",
    "                        outputCol='categorical_features')\n",
    "df_housing = categorical_assembler.transform(df_housing) "
   ]
  },
  {
   "cell_type": "markdown",
   "id": "9695ac53",
   "metadata": {},
   "source": [
    "Для числовых признаков тоже нужна трансформация — шкалирование значений — чтобы сильные выбросы не смещали предсказания модели"
   ]
  },
  {
   "cell_type": "code",
   "execution_count": 17,
   "id": "d939dd01",
   "metadata": {},
   "outputs": [],
   "source": [
    "numerical_assembler = VectorAssembler(inputCols=numerical_cols,\n",
    "                                      outputCol='numerical_features')\n",
    "df_housing = numerical_assembler.transform(df_housing)"
   ]
  },
  {
   "cell_type": "code",
   "execution_count": 18,
   "id": "b8b0e3b9",
   "metadata": {},
   "outputs": [
    {
     "name": "stderr",
     "output_type": "stream",
     "text": [
      "                                                                                \r"
     ]
    }
   ],
   "source": [
    "standardScaler = StandardScaler(inputCol='numerical_features',\n",
    "                                outputCol='numerical_features_scaled')\n",
    "df_housing = standardScaler.fit(df_housing).transform(df_housing) "
   ]
  },
  {
   "cell_type": "markdown",
   "id": "e4a92727",
   "metadata": {},
   "source": [
    "Посмотрим что получилось:"
   ]
  },
  {
   "cell_type": "code",
   "execution_count": 19,
   "id": "f0b6a02d",
   "metadata": {},
   "outputs": [
    {
     "name": "stdout",
     "output_type": "stream",
     "text": [
      "['longitude', 'latitude', 'housing_median_age', 'total_rooms', 'total_bedrooms', 'population', 'households', 'median_income', 'median_house_value', 'ocean_proximity', 'rooms_per_household', 'population_in_household', 'bedroom_index', 'ocean_proximity_idx', 'ocean_proximity_ohe', 'categorical_features', 'numerical_features', 'numerical_features_scaled']\n"
     ]
    }
   ],
   "source": [
    "print(df_housing.columns)"
   ]
  },
  {
   "cell_type": "markdown",
   "id": "85eeafe1",
   "metadata": {},
   "source": [
    "Финальный шаг — собрать трансформированные категорийные и числовые признаки с помощью VectorAssembler:"
   ]
  },
  {
   "cell_type": "code",
   "execution_count": 20,
   "id": "626fb014",
   "metadata": {},
   "outputs": [
    {
     "name": "stdout",
     "output_type": "stream",
     "text": [
      "+--------------------+-------------------------+\n",
      "|categorical_features|numerical_features_scaled|\n",
      "+--------------------+-------------------------+\n",
      "|       (4,[3],[1.0])|     [-61.005863841998...|\n",
      "|       (4,[3],[1.0])|     [-61.000872770752...|\n",
      "|       (4,[3],[1.0])|     [-61.010854913244...|\n",
      "+--------------------+-------------------------+\n",
      "only showing top 3 rows\n",
      "\n"
     ]
    }
   ],
   "source": [
    "all_features = ['categorical_features','numerical_features_scaled']\n",
    "\n",
    "final_assembler = VectorAssembler(inputCols=all_features, \n",
    "                                  outputCol='features') \n",
    "df_housing = final_assembler.transform(df_housing)\n",
    "df_housing.select(all_features).show(3)"
   ]
  },
  {
   "cell_type": "code",
   "execution_count": 21,
   "id": "ef3f16b6",
   "metadata": {},
   "outputs": [
    {
     "name": "stdout",
     "output_type": "stream",
     "text": [
      "+--------------------+------------------+\n",
      "|            features|median_house_value|\n",
      "+--------------------+------------------+\n",
      "|[0.0,0.0,0.0,1.0,...|          452600.0|\n",
      "|[0.0,0.0,0.0,1.0,...|          358500.0|\n",
      "|[0.0,0.0,0.0,1.0,...|          352100.0|\n",
      "+--------------------+------------------+\n",
      "only showing top 3 rows\n",
      "\n"
     ]
    }
   ],
   "source": [
    "df = df_housing.select(['features','median_house_value'])\n",
    "df.show(3)"
   ]
  },
  {
   "cell_type": "code",
   "execution_count": 22,
   "id": "0aeb5230",
   "metadata": {},
   "outputs": [
    {
     "name": "stdout",
     "output_type": "stream",
     "text": [
      "+-------------------------+------------------+\n",
      "|numerical_features_scaled|median_house_value|\n",
      "+-------------------------+------------------+\n",
      "|     [-61.005863841998...|          452600.0|\n",
      "|     [-61.000872770752...|          358500.0|\n",
      "|     [-61.010854913244...|          352100.0|\n",
      "+-------------------------+------------------+\n",
      "only showing top 3 rows\n",
      "\n"
     ]
    }
   ],
   "source": [
    "df_numerical = df_housing.select(['numerical_features_scaled','median_house_value'])\n",
    "df_numerical.show(3)"
   ]
  },
  {
   "cell_type": "markdown",
   "id": "f0e4f549",
   "metadata": {},
   "source": [
    "### Вывод"
   ]
  },
  {
   "cell_type": "markdown",
   "id": "9b0dd816",
   "metadata": {},
   "source": [
    "- Проверили пропуски (найдено 207 пропусков в столбец total_bedrooms) и для простоты удалили строки, в чьих данных есть пропущенные значения\n",
    "- Нашли жилые массивы, в которых живут самые обеспеченные люди и сгруппировали данные по столбцу с категориями удалённости от океана и посчитаем среднее значение медианного дохода в жилом массиве. На основе полученных данных можно сделать вывод, что люди с высоким доходом предпочитают селиться в жилых массивах, которые находятся не более чем в часе езды до океана или около залива\n",
    "- Исследовали зависимость возраста жителей от удалённости жилого массива от океана и сгруппировали данные по двум столбцам: медианный возраст жителей и удалённость от океана, а потом посчитали сколько раз встречается то или иное медианное значение возраста в зависимости от удалённости от океана. Построили график, по которому можно предположить, что люди до 20 лет чаще живут в материковой части Калифорнии (INLAND) и в радиусе часа езды до океана. Старшие поколения предпочитают селиться в радиусе часа езды до океана и около залива.\n",
    "- Создали несколько новых столбцов с признаками:\n",
    "  - Отношение количества комнат total_rooms к количеству домовладений households. Назовём столбец rooms_per_household.\n",
    "  - Отношение количества жителей population к количеству домовладений households. Назовём столбец population_in_household.\n",
    "  - Отношение количества спален total_bedrooms к общему количеству комнат total_rooms. Назовём столбец bedroom_index"
   ]
  },
  {
   "cell_type": "markdown",
   "id": "cee88980",
   "metadata": {
    "id": "9f0a82f3"
   },
   "source": [
    "## Обучение моделей"
   ]
  },
  {
   "cell_type": "markdown",
   "id": "bce6bae4",
   "metadata": {},
   "source": [
    "### Разделение на выборки"
   ]
  },
  {
   "cell_type": "markdown",
   "id": "eaee4dbd",
   "metadata": {},
   "source": [
    "Разделяем наш датасет на две части — выборку для обучения и выборку для тестирования качества модели."
   ]
  },
  {
   "cell_type": "code",
   "execution_count": 23,
   "id": "6e83dbf8",
   "metadata": {},
   "outputs": [
    {
     "name": "stderr",
     "output_type": "stream",
     "text": [
      "[Stage 60:>                                                         (0 + 1) / 1]\r"
     ]
    },
    {
     "name": "stdout",
     "output_type": "stream",
     "text": [
      "14261 6172\n"
     ]
    },
    {
     "name": "stderr",
     "output_type": "stream",
     "text": [
      "                                                                                \r"
     ]
    }
   ],
   "source": [
    "df_train, df_test = df.randomSplit([.7,.3], seed=RANDOM_SEED)\n",
    "print(df_train.count(), df_test.count())"
   ]
  },
  {
   "cell_type": "code",
   "execution_count": 24,
   "id": "6bebb89f",
   "metadata": {},
   "outputs": [
    {
     "name": "stdout",
     "output_type": "stream",
     "text": [
      "14261 6172\n"
     ]
    }
   ],
   "source": [
    "df_num_train, df_num_test = df_numerical.randomSplit([.7,.3], seed=RANDOM_SEED)\n",
    "print(df_num_train.count(), df_num_test.count())"
   ]
  },
  {
   "cell_type": "markdown",
   "id": "f1d9bbf7",
   "metadata": {},
   "source": [
    "### Обучение модели на всех данных из файла"
   ]
  },
  {
   "cell_type": "code",
   "execution_count": 25,
   "id": "3011de4a",
   "metadata": {},
   "outputs": [
    {
     "name": "stderr",
     "output_type": "stream",
     "text": [
      "22/07/21 18:52:15 WARN BLAS: Failed to load implementation from: com.github.fommil.netlib.NativeSystemBLAS\n",
      "22/07/21 18:52:15 WARN BLAS: Failed to load implementation from: com.github.fommil.netlib.NativeRefBLAS\n",
      "                                                                                \r"
     ]
    }
   ],
   "source": [
    "lr = LinearRegression(featuresCol = 'features',labelCol='median_house_value', maxIter=10, regParam=0.2, elasticNetParam=0.6)\n",
    "lr_model = lr.fit(df_train)"
   ]
  },
  {
   "cell_type": "markdown",
   "id": "cb54025e",
   "metadata": {},
   "source": [
    "Подведем итог модели по набору обучающих данных и распечатаем некоторые показатели:"
   ]
  },
  {
   "cell_type": "code",
   "execution_count": 26,
   "id": "2ec54110",
   "metadata": {},
   "outputs": [],
   "source": [
    "training_summary = lr_model.summary"
   ]
  },
  {
   "cell_type": "code",
   "execution_count": 27,
   "id": "b20ac451",
   "metadata": {},
   "outputs": [
    {
     "name": "stdout",
     "output_type": "stream",
     "text": [
      "RMSE на тренировочных данных: 69232.061904\n",
      "R2 на тренировочных данных: 0.645924\n",
      "MAE на тренировочных данных: 49618.556315\n"
     ]
    }
   ],
   "source": [
    "print(\"RMSE на тренировочных данных: %f\" % training_summary.rootMeanSquaredError)\n",
    "print(\"R2 на тренировочных данных: %f\" % training_summary.r2)\n",
    "print(\"MAE на тренировочных данных: %f\" % training_summary.meanAbsoluteError)"
   ]
  },
  {
   "cell_type": "markdown",
   "id": "8ddb9bea",
   "metadata": {},
   "source": [
    "RMSE измеряет разницу между прогнозируемыми значениями по модели и фактическими значениями. Однако одно только RMSE не имеет смысла, пока мы не сравним с фактическим значением «median_house_value», таким как среднее, минимальное и максимальное"
   ]
  },
  {
   "cell_type": "code",
   "execution_count": 28,
   "id": "8b9f530b",
   "metadata": {},
   "outputs": [
    {
     "name": "stdout",
     "output_type": "stream",
     "text": [
      "+-------+------------------+\n",
      "|summary|median_house_value|\n",
      "+-------+------------------+\n",
      "|  count|             14261|\n",
      "|   mean|206896.54919009889|\n",
      "| stddev|116352.05742458423|\n",
      "|    min|           14999.0|\n",
      "|    max|          500001.0|\n",
      "+-------+------------------+\n",
      "\n"
     ]
    }
   ],
   "source": [
    "df_train.describe().show()"
   ]
  },
  {
   "cell_type": "markdown",
   "id": "f3f8cb17",
   "metadata": {},
   "source": [
    "После такого сравнения наша RMSE выглядит довольно хорошо."
   ]
  },
  {
   "cell_type": "code",
   "execution_count": 29,
   "id": "5f56c262",
   "metadata": {},
   "outputs": [
    {
     "name": "stderr",
     "output_type": "stream",
     "text": [
      "                                                                                \r"
     ]
    },
    {
     "name": "stdout",
     "output_type": "stream",
     "text": [
      "+------------------+------------------+--------------------+\n",
      "|        prediction|median_house_value|            features|\n",
      "+------------------+------------------+--------------------+\n",
      "| 212349.5598108532|          414700.0|[0.0,0.0,0.0,0.0,...|\n",
      "|236654.78975767049|          300000.0|[0.0,0.0,0.0,0.0,...|\n",
      "| 347450.7861588105|          414300.0|[0.0,0.0,0.0,1.0,...|\n",
      "| 404807.2321020077|          397300.0|[0.0,0.0,0.0,1.0,...|\n",
      "|321837.55674396583|          285600.0|[0.0,0.0,0.0,1.0,...|\n",
      "+------------------+------------------+--------------------+\n",
      "only showing top 5 rows\n",
      "\n",
      "R2 на тестовых данных = 0.640734\n"
     ]
    }
   ],
   "source": [
    "lr_predictions = lr_model.transform(df_test)\n",
    "lr_predictions.select('prediction','median_house_value','features').show(5)\n",
    "lr_evaluator = RegressionEvaluator(predictionCol='prediction', \\\n",
    "                 labelCol='median_house_value',metricName='r2')\n",
    "print(\"R2 на тестовых данных = %g\" % lr_evaluator.evaluate(lr_predictions))"
   ]
  },
  {
   "cell_type": "code",
   "execution_count": 30,
   "id": "f5318144",
   "metadata": {},
   "outputs": [
    {
     "name": "stdout",
     "output_type": "stream",
     "text": [
      "Среднеквадратическая ошибка (RMSE) на тестовой выборке = 67904.6\n"
     ]
    }
   ],
   "source": [
    "test_result = lr_model.evaluate(df_test)\n",
    "print(\"Среднеквадратическая ошибка (RMSE) на тестовой выборке = %g\" % test_result.rootMeanSquaredError)"
   ]
  },
  {
   "cell_type": "code",
   "execution_count": 31,
   "id": "46bcca6d",
   "metadata": {},
   "outputs": [
    {
     "name": "stdout",
     "output_type": "stream",
     "text": [
      "MAE на тестовых данных = 48846.5\n"
     ]
    },
    {
     "name": "stderr",
     "output_type": "stream",
     "text": [
      "                                                                                \r"
     ]
    }
   ],
   "source": [
    "lr_evaluator_mae = RegressionEvaluator(predictionCol='prediction', \\\n",
    "                 labelCol='median_house_value',metricName='mae')\n",
    "print(\"MAE на тестовых данных = %g\" % lr_evaluator_mae.evaluate(lr_predictions))"
   ]
  },
  {
   "cell_type": "markdown",
   "id": "97cc3f38",
   "metadata": {},
   "source": [
    "### Обучение модель только на числовых переменных"
   ]
  },
  {
   "cell_type": "code",
   "execution_count": 32,
   "id": "1a49492a",
   "metadata": {},
   "outputs": [],
   "source": [
    "lr_num = LinearRegression(featuresCol = 'numerical_features_scaled', labelCol='median_house_value', maxIter=10, regParam=0.5, elasticNetParam=0.9)\n",
    "lr_model_num = lr_num.fit(df_num_train)"
   ]
  },
  {
   "cell_type": "code",
   "execution_count": 33,
   "id": "42cd0d39",
   "metadata": {},
   "outputs": [],
   "source": [
    "training_summary_num = lr_model_num.summary"
   ]
  },
  {
   "cell_type": "code",
   "execution_count": 34,
   "id": "9f9b3df3",
   "metadata": {},
   "outputs": [
    {
     "name": "stdout",
     "output_type": "stream",
     "text": [
      "RMSE: 68602.641323\n"
     ]
    }
   ],
   "source": [
    "print(\"RMSE: %f\" % training_summary_num.rootMeanSquaredError)"
   ]
  },
  {
   "cell_type": "markdown",
   "id": "bce157c7",
   "metadata": {},
   "source": [
    "Так же сравним RMSE с фактическим значением «median_house_value»:"
   ]
  },
  {
   "cell_type": "code",
   "execution_count": 35,
   "id": "cbb289d3",
   "metadata": {},
   "outputs": [
    {
     "name": "stdout",
     "output_type": "stream",
     "text": [
      "+-------+------------------+\n",
      "|summary|median_house_value|\n",
      "+-------+------------------+\n",
      "|  count|             14261|\n",
      "|   mean| 206620.9837318561|\n",
      "| stddev|115345.73822991732|\n",
      "|    min|           14999.0|\n",
      "|    max|          500001.0|\n",
      "+-------+------------------+\n",
      "\n"
     ]
    }
   ],
   "source": [
    "df_num_train.describe().show()"
   ]
  },
  {
   "cell_type": "code",
   "execution_count": 36,
   "id": "7ab00c23",
   "metadata": {},
   "outputs": [
    {
     "name": "stdout",
     "output_type": "stream",
     "text": [
      "R2 на тренировочных данных: 0.646240\n"
     ]
    }
   ],
   "source": [
    "print(\"R2 на тренировочных данных: %f\" % training_summary_num.r2)"
   ]
  },
  {
   "cell_type": "markdown",
   "id": "58cac8b2",
   "metadata": {},
   "source": [
    "R2 = 0,63 указывает, что в нашей модели приблизительно 63% изменчивости в «median_house_value» можно объяснить с помощью модели"
   ]
  },
  {
   "cell_type": "code",
   "execution_count": 37,
   "id": "c77ad8da",
   "metadata": {},
   "outputs": [
    {
     "name": "stdout",
     "output_type": "stream",
     "text": [
      "MAE на тренировочных данных: 49709.571103\n"
     ]
    }
   ],
   "source": [
    "print(\"MAE на тренировочных данных: %f\" % training_summary_num.meanAbsoluteError)"
   ]
  },
  {
   "cell_type": "code",
   "execution_count": 38,
   "id": "2c0c671a",
   "metadata": {},
   "outputs": [
    {
     "name": "stdout",
     "output_type": "stream",
     "text": [
      "+------------------+------------------+-------------------------+\n",
      "|        prediction|median_house_value|numerical_features_scaled|\n",
      "+------------------+------------------+-------------------------+\n",
      "| 60537.04018135602|           85800.0|     [-62.039015589956...|\n",
      "| 99216.59990670532|          103600.0|     [-62.039015589956...|\n",
      "|187427.58209269494|          106700.0|     [-62.004078091233...|\n",
      "| 186524.0131709478|           50800.0|     [-62.004078091233...|\n",
      "| 124958.9454363212|           58100.0|     [-61.994095948741...|\n",
      "+------------------+------------------+-------------------------+\n",
      "only showing top 5 rows\n",
      "\n",
      "R2 на тестовых данных = 0.638873\n"
     ]
    }
   ],
   "source": [
    "lr_predictions_num = lr_model_num.transform(df_num_test)\n",
    "lr_predictions_num.select('prediction','median_house_value','numerical_features_scaled').show(5)\n",
    "lr_evaluator_num = RegressionEvaluator(predictionCol='prediction', \\\n",
    "                 labelCol='median_house_value',metricName='r2')\n",
    "print(\"R2 на тестовых данных = %g\" % lr_evaluator_num.evaluate(lr_predictions_num))"
   ]
  },
  {
   "cell_type": "code",
   "execution_count": 39,
   "id": "c4b4f0fd",
   "metadata": {},
   "outputs": [
    {
     "name": "stdout",
     "output_type": "stream",
     "text": [
      "Среднеквадратическая ошибка (RMSE) на тестовых данных = 69493.3\n"
     ]
    }
   ],
   "source": [
    "test_result_num = lr_model_num.evaluate(df_num_test)\n",
    "print(\"Среднеквадратическая ошибка (RMSE) на тестовых данных = %g\" % test_result_num.rootMeanSquaredError)"
   ]
  },
  {
   "cell_type": "code",
   "execution_count": 40,
   "id": "8e8d11ea",
   "metadata": {},
   "outputs": [
    {
     "name": "stdout",
     "output_type": "stream",
     "text": [
      "MAE на тестовых данных = 50487.7\n"
     ]
    }
   ],
   "source": [
    "lr_evaluator_num_mae = RegressionEvaluator(predictionCol='prediction', \\\n",
    "                 labelCol='median_house_value',metricName='mae')\n",
    "print(\"MAE на тестовых данных = %g\" % lr_evaluator_num_mae.evaluate(lr_predictions_num))"
   ]
  },
  {
   "cell_type": "markdown",
   "id": "bebfeb29",
   "metadata": {},
   "source": [
    "### Вывод"
   ]
  },
  {
   "cell_type": "markdown",
   "id": "73694fee",
   "metadata": {},
   "source": [
    "**При построении модели линейной регрессии на всех данных были получены следующие результаты**:\n",
    "- RMSE\n",
    "  - на тренировочных данных = 69154\n",
    "  - на тестовой выборке = 69323.1\n",
    "- R2 \n",
    "  - на тренировочных данных = 0.643696\n",
    "  - на тестовых данных = 0.633223\n",
    "- MAE \n",
    "  - на тренировочных данных: 50145.091148\n",
    "  - на тестовых данных = 49831.3\n",
    "\n",
    "**При построении модели линейной регрессии только на числовых данных были получены следующие результаты**:\n",
    "- RMSE\n",
    "  - на обучающих данных = 70385.273101\n",
    "  - на тестовых данных = 67125.5\n",
    "- R2 \n",
    "  - на тренировочных данных = 0.631557\n",
    "  - на тестовых данных = 0.64633\n",
    "- MAE \n",
    "  - на тренировочных данных: 51134.088578\n",
    "  - на тестовых данных = 49453.5"
   ]
  },
  {
   "cell_type": "markdown",
   "id": "0c03d97f",
   "metadata": {
    "id": "757fd103"
   },
   "source": [
    "## Анализ результатов"
   ]
  },
  {
   "cell_type": "markdown",
   "id": "57b904bd",
   "metadata": {},
   "source": [
    "**На основе полученных данных можно сделать вывод**:\n",
    "- люди с высоким доходом предпочитают селиться в жилых массивах, которые находятся не более чем в часе езды до океана или около залива\n",
    "- люди до 20 лет чаще живут в материковой части Калифорнии (INLAND) и в радиусе часа езды до океана\n",
    "- старшие поколения предпочитают селиться в радиусе часа езды до океана и около залива\n",
    "\n",
    "\n",
    "**При построении модели линейной регрессии на всех данных были получены следующие результаты**:\n",
    "- RMSE\n",
    "  - на тренировочных данных = 69154\n",
    "  - на тестовой выборке = 69323.1\n",
    "- R2 \n",
    "  - на тренировочных данных = 0.643696\n",
    "  - на тестовых данных = 0.633223\n",
    "- MAE \n",
    "  - на тренировочных данных: 50145.091148\n",
    "  - на тестовых данных = 49831.3\n",
    "\n",
    "**При построении модели линейной регрессии только на числовых данных были получены следующие результаты**:\n",
    "- RMSE\n",
    "  - на обучающих данных = 70385.273101\n",
    "  - на тестовых данных = 67125.5\n",
    "- R2 \n",
    "  - на тренировочных данных = 0.631557\n",
    "  - на тестовых данных = 0.64633\n",
    "- MAE \n",
    "  - на тренировочных данных: 51134.088578\n",
    "  - на тестовых данных = 49453.5"
   ]
  }
 ],
 "metadata": {
  "ExecuteTimeLog": [
   {
    "duration": 397,
    "start_time": "2022-01-30T13:38:41.252Z"
   },
   {
    "duration": 13625,
    "start_time": "2022-01-30T13:39:29.759Z"
   },
   {
    "duration": 6191,
    "start_time": "2022-01-30T13:40:01.904Z"
   },
   {
    "duration": 24,
    "start_time": "2022-01-30T13:41:37.317Z"
   },
   {
    "duration": 482,
    "start_time": "2022-01-30T13:42:46.169Z"
   },
   {
    "duration": 13965,
    "start_time": "2022-01-30T17:24:32.429Z"
   },
   {
    "duration": 6596,
    "start_time": "2022-01-30T17:24:46.396Z"
   },
   {
    "duration": 36,
    "start_time": "2022-01-30T17:24:53.059Z"
   },
   {
    "duration": 664,
    "start_time": "2022-01-30T17:24:53.097Z"
   },
   {
    "duration": 6337,
    "start_time": "2022-01-30T17:25:26.936Z"
   },
   {
    "duration": 834,
    "start_time": "2022-01-30T17:25:58.760Z"
   },
   {
    "duration": 254,
    "start_time": "2022-01-30T17:34:20.311Z"
   },
   {
    "duration": 3953,
    "start_time": "2022-01-30T17:34:51.121Z"
   },
   {
    "duration": 239,
    "start_time": "2022-01-30T17:35:35.545Z"
   },
   {
    "duration": 140,
    "start_time": "2022-01-30T17:36:14.391Z"
   },
   {
    "duration": 182,
    "start_time": "2022-01-30T17:36:28.093Z"
   },
   {
    "duration": 3147,
    "start_time": "2022-01-30T17:36:38.143Z"
   },
   {
    "duration": 147,
    "start_time": "2022-01-30T17:37:09.529Z"
   },
   {
    "duration": 14348,
    "start_time": "2022-01-31T09:38:05.109Z"
   },
   {
    "duration": 7159,
    "start_time": "2022-01-31T09:38:19.459Z"
   },
   {
    "duration": 107,
    "start_time": "2022-01-31T09:38:26.621Z"
   },
   {
    "duration": 627,
    "start_time": "2022-01-31T09:38:26.729Z"
   },
   {
    "duration": 4967,
    "start_time": "2022-01-31T09:38:27.357Z"
   },
   {
    "duration": 1003,
    "start_time": "2022-01-31T09:38:32.327Z"
   },
   {
    "duration": 4711,
    "start_time": "2022-01-31T09:39:10.498Z"
   },
   {
    "duration": 266,
    "start_time": "2022-01-31T09:40:05.679Z"
   },
   {
    "duration": 3060,
    "start_time": "2022-01-31T10:05:37.256Z"
   },
   {
    "duration": 2535,
    "start_time": "2022-01-31T10:05:48.080Z"
   },
   {
    "duration": 358,
    "start_time": "2022-01-31T10:05:59.750Z"
   },
   {
    "duration": 695,
    "start_time": "2022-01-31T10:07:09.374Z"
   },
   {
    "duration": 50,
    "start_time": "2022-01-31T10:09:07.990Z"
   },
   {
    "duration": 18825,
    "start_time": "2022-02-01T09:50:37.885Z"
   },
   {
    "duration": -25,
    "start_time": "2022-02-01T09:50:56.738Z"
   },
   {
    "duration": -25,
    "start_time": "2022-02-01T09:50:56.740Z"
   },
   {
    "duration": -25,
    "start_time": "2022-02-01T09:50:56.741Z"
   },
   {
    "duration": -25,
    "start_time": "2022-02-01T09:50:56.743Z"
   },
   {
    "duration": -25,
    "start_time": "2022-02-01T09:50:56.744Z"
   },
   {
    "duration": -25,
    "start_time": "2022-02-01T09:50:56.746Z"
   },
   {
    "duration": -25,
    "start_time": "2022-02-01T09:50:56.747Z"
   },
   {
    "duration": -26,
    "start_time": "2022-02-01T09:50:56.749Z"
   },
   {
    "duration": -28,
    "start_time": "2022-02-01T09:50:56.753Z"
   },
   {
    "duration": 14863,
    "start_time": "2022-02-01T10:13:23.175Z"
   },
   {
    "duration": 112,
    "start_time": "2022-02-01T10:13:37.929Z"
   },
   {
    "duration": 113,
    "start_time": "2022-02-01T10:13:37.931Z"
   },
   {
    "duration": 112,
    "start_time": "2022-02-01T10:13:37.933Z"
   },
   {
    "duration": 111,
    "start_time": "2022-02-01T10:13:37.935Z"
   },
   {
    "duration": 108,
    "start_time": "2022-02-01T10:13:37.939Z"
   },
   {
    "duration": 107,
    "start_time": "2022-02-01T10:13:37.941Z"
   },
   {
    "duration": 107,
    "start_time": "2022-02-01T10:13:37.943Z"
   },
   {
    "duration": 100,
    "start_time": "2022-02-01T10:13:37.951Z"
   },
   {
    "duration": 97,
    "start_time": "2022-02-01T10:13:37.955Z"
   },
   {
    "duration": 96,
    "start_time": "2022-02-01T10:13:37.957Z"
   },
   {
    "duration": 95,
    "start_time": "2022-02-01T10:13:37.959Z"
   },
   {
    "duration": 7,
    "start_time": "2022-02-01T10:15:50.480Z"
   },
   {
    "duration": 14660,
    "start_time": "2022-02-01T10:15:57.887Z"
   },
   {
    "duration": 7593,
    "start_time": "2022-02-01T10:16:12.550Z"
   },
   {
    "duration": 263,
    "start_time": "2022-02-01T10:16:20.211Z"
   },
   {
    "duration": 119,
    "start_time": "2022-02-01T10:16:20.358Z"
   },
   {
    "duration": 117,
    "start_time": "2022-02-01T10:16:20.361Z"
   },
   {
    "duration": 115,
    "start_time": "2022-02-01T10:16:20.364Z"
   },
   {
    "duration": 116,
    "start_time": "2022-02-01T10:16:20.365Z"
   },
   {
    "duration": 116,
    "start_time": "2022-02-01T10:16:20.366Z"
   },
   {
    "duration": 115,
    "start_time": "2022-02-01T10:16:20.368Z"
   },
   {
    "duration": 114,
    "start_time": "2022-02-01T10:16:20.370Z"
   },
   {
    "duration": 113,
    "start_time": "2022-02-01T10:16:20.372Z"
   },
   {
    "duration": 111,
    "start_time": "2022-02-01T10:16:20.375Z"
   },
   {
    "duration": 15537,
    "start_time": "2022-02-01T10:17:47.736Z"
   },
   {
    "duration": 8141,
    "start_time": "2022-02-01T10:18:03.277Z"
   },
   {
    "duration": 88,
    "start_time": "2022-02-01T10:18:11.421Z"
   },
   {
    "duration": 626,
    "start_time": "2022-02-01T10:18:11.512Z"
   },
   {
    "duration": 5381,
    "start_time": "2022-02-01T10:18:12.140Z"
   },
   {
    "duration": 5494,
    "start_time": "2022-02-01T10:18:17.523Z"
   },
   {
    "duration": 279,
    "start_time": "2022-02-01T10:18:23.020Z"
   },
   {
    "duration": 3719,
    "start_time": "2022-02-01T10:18:23.301Z"
   },
   {
    "duration": 411,
    "start_time": "2022-02-01T10:18:27.022Z"
   },
   {
    "duration": 81,
    "start_time": "2022-02-01T10:18:27.435Z"
   },
   {
    "duration": 2,
    "start_time": "2022-02-01T10:18:27.518Z"
   },
   {
    "duration": 579,
    "start_time": "2022-02-01T10:18:27.522Z"
   },
   {
    "duration": 603,
    "start_time": "2022-02-01T10:19:24.208Z"
   },
   {
    "duration": 3240,
    "start_time": "2022-02-01T10:24:18.877Z"
   },
   {
    "duration": 4799,
    "start_time": "2022-02-01T10:24:34.510Z"
   },
   {
    "duration": 4,
    "start_time": "2022-02-01T10:39:29.135Z"
   },
   {
    "duration": 254,
    "start_time": "2022-02-01T10:40:33.855Z"
   },
   {
    "duration": 195,
    "start_time": "2022-02-01T10:40:55.764Z"
   },
   {
    "duration": 15709,
    "start_time": "2022-02-01T10:42:04.619Z"
   },
   {
    "duration": 8004,
    "start_time": "2022-02-01T10:42:20.331Z"
   },
   {
    "duration": 90,
    "start_time": "2022-02-01T10:42:28.337Z"
   },
   {
    "duration": 703,
    "start_time": "2022-02-01T10:42:28.430Z"
   },
   {
    "duration": 5205,
    "start_time": "2022-02-01T10:42:29.135Z"
   },
   {
    "duration": 3499,
    "start_time": "2022-02-01T10:42:34.342Z"
   },
   {
    "duration": 3880,
    "start_time": "2022-02-01T10:42:37.843Z"
   },
   {
    "duration": 4684,
    "start_time": "2022-02-01T10:42:41.725Z"
   },
   {
    "duration": 256,
    "start_time": "2022-02-01T10:42:46.411Z"
   },
   {
    "duration": 3357,
    "start_time": "2022-02-01T10:42:46.669Z"
   },
   {
    "duration": 411,
    "start_time": "2022-02-01T10:42:50.029Z"
   },
   {
    "duration": 76,
    "start_time": "2022-02-01T10:42:50.442Z"
   },
   {
    "duration": 3,
    "start_time": "2022-02-01T10:42:50.520Z"
   },
   {
    "duration": 317,
    "start_time": "2022-02-01T10:42:50.525Z"
   },
   {
    "duration": 23,
    "start_time": "2022-02-01T10:42:50.821Z"
   },
   {
    "duration": 677,
    "start_time": "2022-02-01T10:43:57.824Z"
   },
   {
    "duration": 232,
    "start_time": "2022-02-01T10:44:56.117Z"
   },
   {
    "duration": 210,
    "start_time": "2022-02-01T10:44:59.580Z"
   },
   {
    "duration": 1916,
    "start_time": "2022-02-01T10:45:16.500Z"
   },
   {
    "duration": 202,
    "start_time": "2022-02-01T10:47:51.419Z"
   },
   {
    "duration": 224,
    "start_time": "2022-02-01T10:49:27.712Z"
   },
   {
    "duration": 344,
    "start_time": "2022-02-01T10:50:04.208Z"
   },
   {
    "duration": 288,
    "start_time": "2022-02-01T10:55:34.589Z"
   },
   {
    "duration": 234,
    "start_time": "2022-02-01T11:01:19.086Z"
   },
   {
    "duration": 210,
    "start_time": "2022-02-01T11:01:33.461Z"
   },
   {
    "duration": 8,
    "start_time": "2022-02-01T11:01:41.838Z"
   },
   {
    "duration": 1853,
    "start_time": "2022-02-01T11:02:32.528Z"
   },
   {
    "duration": 269,
    "start_time": "2022-02-01T11:02:44.164Z"
   },
   {
    "duration": 222,
    "start_time": "2022-02-01T11:06:17.513Z"
   },
   {
    "duration": 15174,
    "start_time": "2022-02-01T11:06:38.575Z"
   },
   {
    "duration": 7479,
    "start_time": "2022-02-01T11:06:53.752Z"
   },
   {
    "duration": 94,
    "start_time": "2022-02-01T11:07:01.238Z"
   },
   {
    "duration": 685,
    "start_time": "2022-02-01T11:07:01.334Z"
   },
   {
    "duration": 5201,
    "start_time": "2022-02-01T11:07:02.021Z"
   },
   {
    "duration": 3188,
    "start_time": "2022-02-01T11:07:07.224Z"
   },
   {
    "duration": 3795,
    "start_time": "2022-02-01T11:07:10.415Z"
   },
   {
    "duration": 4696,
    "start_time": "2022-02-01T11:07:14.212Z"
   },
   {
    "duration": 212,
    "start_time": "2022-02-01T11:07:18.911Z"
   },
   {
    "duration": 3307,
    "start_time": "2022-02-01T11:07:19.125Z"
   },
   {
    "duration": 406,
    "start_time": "2022-02-01T11:07:22.434Z"
   },
   {
    "duration": 69,
    "start_time": "2022-02-01T11:07:22.842Z"
   },
   {
    "duration": 3,
    "start_time": "2022-02-01T11:07:22.914Z"
   },
   {
    "duration": 28,
    "start_time": "2022-02-01T11:07:22.919Z"
   },
   {
    "duration": 1267,
    "start_time": "2022-02-01T11:07:22.949Z"
   },
   {
    "duration": 294,
    "start_time": "2022-02-01T11:07:24.218Z"
   },
   {
    "duration": 349,
    "start_time": "2022-02-01T11:07:56.331Z"
   },
   {
    "duration": 15128,
    "start_time": "2022-02-01T11:08:02.813Z"
   },
   {
    "duration": 7476,
    "start_time": "2022-02-01T11:08:17.944Z"
   },
   {
    "duration": 34,
    "start_time": "2022-02-01T11:08:25.423Z"
   },
   {
    "duration": 608,
    "start_time": "2022-02-01T11:08:25.460Z"
   },
   {
    "duration": 5263,
    "start_time": "2022-02-01T11:08:26.071Z"
   },
   {
    "duration": 3674,
    "start_time": "2022-02-01T11:08:31.337Z"
   },
   {
    "duration": 3709,
    "start_time": "2022-02-01T11:08:35.013Z"
   },
   {
    "duration": 4493,
    "start_time": "2022-02-01T11:08:38.725Z"
   },
   {
    "duration": 248,
    "start_time": "2022-02-01T11:08:43.220Z"
   },
   {
    "duration": 3438,
    "start_time": "2022-02-01T11:08:43.470Z"
   },
   {
    "duration": 387,
    "start_time": "2022-02-01T11:08:46.911Z"
   },
   {
    "duration": 37,
    "start_time": "2022-02-01T11:08:47.300Z"
   },
   {
    "duration": 3,
    "start_time": "2022-02-01T11:08:47.339Z"
   },
   {
    "duration": 1597,
    "start_time": "2022-02-01T11:08:47.344Z"
   },
   {
    "duration": 344,
    "start_time": "2022-02-01T11:09:22.260Z"
   },
   {
    "duration": 218,
    "start_time": "2022-02-01T11:09:31.711Z"
   },
   {
    "duration": 206,
    "start_time": "2022-02-01T11:09:53.740Z"
   },
   {
    "duration": 280,
    "start_time": "2022-02-01T11:09:59.413Z"
   },
   {
    "duration": 15237,
    "start_time": "2022-02-01T11:10:19.697Z"
   },
   {
    "duration": 8286,
    "start_time": "2022-02-01T11:10:34.937Z"
   },
   {
    "duration": 83,
    "start_time": "2022-02-01T11:10:43.225Z"
   },
   {
    "duration": 708,
    "start_time": "2022-02-01T11:10:43.311Z"
   },
   {
    "duration": 5405,
    "start_time": "2022-02-01T11:10:44.021Z"
   },
   {
    "duration": 3283,
    "start_time": "2022-02-01T11:10:49.428Z"
   },
   {
    "duration": 3697,
    "start_time": "2022-02-01T11:10:52.713Z"
   },
   {
    "duration": 4823,
    "start_time": "2022-02-01T11:10:56.413Z"
   },
   {
    "duration": 229,
    "start_time": "2022-02-01T11:11:01.308Z"
   },
   {
    "duration": 3592,
    "start_time": "2022-02-01T11:11:01.540Z"
   },
   {
    "duration": 350,
    "start_time": "2022-02-01T11:11:05.207Z"
   },
   {
    "duration": 71,
    "start_time": "2022-02-01T11:11:05.559Z"
   },
   {
    "duration": 3,
    "start_time": "2022-02-01T11:11:05.632Z"
   },
   {
    "duration": 1418,
    "start_time": "2022-02-01T11:11:05.637Z"
   },
   {
    "duration": 380,
    "start_time": "2022-02-01T11:11:07.057Z"
   },
   {
    "duration": 510,
    "start_time": "2022-02-01T11:12:23.443Z"
   },
   {
    "duration": 211,
    "start_time": "2022-02-01T11:12:30.405Z"
   },
   {
    "duration": 1667,
    "start_time": "2022-02-01T11:12:53.371Z"
   },
   {
    "duration": 612,
    "start_time": "2022-02-01T11:14:14.211Z"
   },
   {
    "duration": 217,
    "start_time": "2022-02-01T11:17:05.730Z"
   },
   {
    "duration": 244,
    "start_time": "2022-02-01T11:17:18.540Z"
   },
   {
    "duration": 272,
    "start_time": "2022-02-01T11:17:53.868Z"
   },
   {
    "duration": 206,
    "start_time": "2022-02-01T11:18:18.297Z"
   },
   {
    "duration": 216,
    "start_time": "2022-02-01T11:20:48.108Z"
   },
   {
    "duration": 245,
    "start_time": "2022-02-01T11:22:10.467Z"
   },
   {
    "duration": 15448,
    "start_time": "2022-02-01T11:22:53.225Z"
   },
   {
    "duration": 7465,
    "start_time": "2022-02-01T11:23:08.675Z"
   },
   {
    "duration": 36,
    "start_time": "2022-02-01T11:23:16.210Z"
   },
   {
    "duration": 635,
    "start_time": "2022-02-01T11:23:16.248Z"
   },
   {
    "duration": 5504,
    "start_time": "2022-02-01T11:23:16.908Z"
   },
   {
    "duration": 3430,
    "start_time": "2022-02-01T11:23:22.414Z"
   },
   {
    "duration": 3815,
    "start_time": "2022-02-01T11:23:25.846Z"
   },
   {
    "duration": 4958,
    "start_time": "2022-02-01T11:23:29.664Z"
   },
   {
    "duration": 264,
    "start_time": "2022-02-01T11:23:34.624Z"
   },
   {
    "duration": 3336,
    "start_time": "2022-02-01T11:23:34.890Z"
   },
   {
    "duration": 374,
    "start_time": "2022-02-01T11:23:38.227Z"
   },
   {
    "duration": 34,
    "start_time": "2022-02-01T11:23:38.608Z"
   },
   {
    "duration": 3,
    "start_time": "2022-02-01T11:23:38.644Z"
   },
   {
    "duration": 327,
    "start_time": "2022-02-01T11:23:38.707Z"
   },
   {
    "duration": 31,
    "start_time": "2022-02-01T11:23:39.006Z"
   },
   {
    "duration": 30,
    "start_time": "2022-02-01T11:23:39.008Z"
   },
   {
    "duration": 15173,
    "start_time": "2022-02-01T11:25:10.173Z"
   },
   {
    "duration": 7681,
    "start_time": "2022-02-01T11:25:25.348Z"
   },
   {
    "duration": 87,
    "start_time": "2022-02-01T11:25:33.032Z"
   },
   {
    "duration": 709,
    "start_time": "2022-02-01T11:25:33.122Z"
   },
   {
    "duration": 5594,
    "start_time": "2022-02-01T11:25:33.833Z"
   },
   {
    "duration": 3609,
    "start_time": "2022-02-01T11:25:39.429Z"
   },
   {
    "duration": 3775,
    "start_time": "2022-02-01T11:25:43.040Z"
   },
   {
    "duration": 4808,
    "start_time": "2022-02-01T11:25:46.817Z"
   },
   {
    "duration": 272,
    "start_time": "2022-02-01T11:25:51.628Z"
   },
   {
    "duration": 3406,
    "start_time": "2022-02-01T11:25:51.903Z"
   },
   {
    "duration": 405,
    "start_time": "2022-02-01T11:25:55.311Z"
   },
   {
    "duration": 32,
    "start_time": "2022-02-01T11:25:55.719Z"
   },
   {
    "duration": 3,
    "start_time": "2022-02-01T11:25:55.753Z"
   },
   {
    "duration": 1650,
    "start_time": "2022-02-01T11:25:55.758Z"
   },
   {
    "duration": 70,
    "start_time": "2022-02-01T11:25:57.410Z"
   },
   {
    "duration": 47,
    "start_time": "2022-02-01T11:25:57.436Z"
   },
   {
    "duration": 483,
    "start_time": "2022-02-01T11:26:07.598Z"
   },
   {
    "duration": 321,
    "start_time": "2022-02-01T11:26:12.404Z"
   },
   {
    "duration": 213,
    "start_time": "2022-02-01T11:31:30.788Z"
   },
   {
    "duration": 130,
    "start_time": "2022-02-01T11:33:55.598Z"
   },
   {
    "duration": 1031,
    "start_time": "2022-02-01T11:34:30.301Z"
   },
   {
    "duration": 205,
    "start_time": "2022-02-01T11:42:59.151Z"
   },
   {
    "duration": 225,
    "start_time": "2022-02-01T11:45:23.426Z"
   },
   {
    "duration": 229,
    "start_time": "2022-02-01T11:45:53.722Z"
   },
   {
    "duration": 41,
    "start_time": "2022-02-01T11:46:42.049Z"
   },
   {
    "duration": 255,
    "start_time": "2022-02-01T11:47:22.110Z"
   },
   {
    "duration": 15199,
    "start_time": "2022-02-01T11:47:28.767Z"
   },
   {
    "duration": 7655,
    "start_time": "2022-02-01T11:47:43.968Z"
   },
   {
    "duration": 29,
    "start_time": "2022-02-01T11:47:51.626Z"
   },
   {
    "duration": 658,
    "start_time": "2022-02-01T11:47:51.657Z"
   },
   {
    "duration": 5399,
    "start_time": "2022-02-01T11:47:52.317Z"
   },
   {
    "duration": 3127,
    "start_time": "2022-02-01T11:47:57.718Z"
   },
   {
    "duration": 4099,
    "start_time": "2022-02-01T11:48:00.847Z"
   },
   {
    "duration": 5169,
    "start_time": "2022-02-01T11:48:04.949Z"
   },
   {
    "duration": 225,
    "start_time": "2022-02-01T11:48:10.121Z"
   },
   {
    "duration": 3482,
    "start_time": "2022-02-01T11:48:10.348Z"
   },
   {
    "duration": 386,
    "start_time": "2022-02-01T11:48:13.832Z"
   },
   {
    "duration": 33,
    "start_time": "2022-02-01T11:48:14.220Z"
   },
   {
    "duration": 3,
    "start_time": "2022-02-01T11:48:14.255Z"
   },
   {
    "duration": 1748,
    "start_time": "2022-02-01T11:48:14.260Z"
   },
   {
    "duration": 657,
    "start_time": "2022-02-01T11:48:16.010Z"
   },
   {
    "duration": 182,
    "start_time": "2022-02-01T11:48:16.669Z"
   },
   {
    "duration": 82,
    "start_time": "2022-02-01T11:48:16.853Z"
   },
   {
    "duration": 1391,
    "start_time": "2022-02-01T11:48:16.937Z"
   },
   {
    "duration": 6,
    "start_time": "2022-02-01T11:51:13.341Z"
   },
   {
    "duration": 873,
    "start_time": "2022-02-01T12:12:26.836Z"
   },
   {
    "duration": 3717,
    "start_time": "2022-02-01T12:18:59.815Z"
   },
   {
    "duration": 15531,
    "start_time": "2022-02-01T12:34:35.467Z"
   },
   {
    "duration": 8118,
    "start_time": "2022-02-01T12:34:51.001Z"
   },
   {
    "duration": 90,
    "start_time": "2022-02-01T12:34:59.122Z"
   },
   {
    "duration": 605,
    "start_time": "2022-02-01T12:34:59.215Z"
   },
   {
    "duration": 5808,
    "start_time": "2022-02-01T12:34:59.824Z"
   },
   {
    "duration": 3786,
    "start_time": "2022-02-01T12:35:05.635Z"
   },
   {
    "duration": 4407,
    "start_time": "2022-02-01T12:35:09.423Z"
   },
   {
    "duration": 5406,
    "start_time": "2022-02-01T12:35:13.833Z"
   },
   {
    "duration": 237,
    "start_time": "2022-02-01T12:35:19.308Z"
   },
   {
    "duration": 3483,
    "start_time": "2022-02-01T12:35:19.547Z"
   },
   {
    "duration": 390,
    "start_time": "2022-02-01T12:35:23.032Z"
   },
   {
    "duration": 34,
    "start_time": "2022-02-01T12:35:23.424Z"
   },
   {
    "duration": 48,
    "start_time": "2022-02-01T12:35:23.460Z"
   },
   {
    "duration": 1698,
    "start_time": "2022-02-01T12:35:23.510Z"
   },
   {
    "duration": 709,
    "start_time": "2022-02-01T12:35:25.211Z"
   },
   {
    "duration": 215,
    "start_time": "2022-02-01T12:35:25.921Z"
   },
   {
    "duration": 98,
    "start_time": "2022-02-01T12:35:26.138Z"
   },
   {
    "duration": 1201,
    "start_time": "2022-02-01T12:35:26.238Z"
   },
   {
    "duration": 7,
    "start_time": "2022-02-01T12:35:27.441Z"
   },
   {
    "duration": 817,
    "start_time": "2022-02-01T12:35:27.450Z"
   },
   {
    "duration": 3501,
    "start_time": "2022-02-01T12:35:28.307Z"
   },
   {
    "duration": 15691,
    "start_time": "2022-02-01T12:35:52.357Z"
   },
   {
    "duration": 8487,
    "start_time": "2022-02-01T12:36:08.051Z"
   },
   {
    "duration": 91,
    "start_time": "2022-02-01T12:36:16.541Z"
   },
   {
    "duration": 701,
    "start_time": "2022-02-01T12:36:16.635Z"
   },
   {
    "duration": 5892,
    "start_time": "2022-02-01T12:36:17.338Z"
   },
   {
    "duration": 3588,
    "start_time": "2022-02-01T12:36:23.233Z"
   },
   {
    "duration": 4501,
    "start_time": "2022-02-01T12:36:26.824Z"
   },
   {
    "duration": 5592,
    "start_time": "2022-02-01T12:36:31.329Z"
   },
   {
    "duration": 408,
    "start_time": "2022-02-01T12:36:36.923Z"
   },
   {
    "duration": 3679,
    "start_time": "2022-02-01T12:36:37.333Z"
   },
   {
    "duration": 366,
    "start_time": "2022-02-01T12:36:41.015Z"
   },
   {
    "duration": 46,
    "start_time": "2022-02-01T12:36:41.383Z"
   },
   {
    "duration": 4,
    "start_time": "2022-02-01T12:36:41.431Z"
   },
   {
    "duration": 1900,
    "start_time": "2022-02-01T12:36:41.437Z"
   },
   {
    "duration": 573,
    "start_time": "2022-02-01T12:36:43.339Z"
   },
   {
    "duration": 195,
    "start_time": "2022-02-01T12:36:43.914Z"
   },
   {
    "duration": 29,
    "start_time": "2022-02-01T12:36:44.112Z"
   },
   {
    "duration": 1109,
    "start_time": "2022-02-01T12:36:44.143Z"
   },
   {
    "duration": 57,
    "start_time": "2022-02-01T12:36:45.255Z"
   },
   {
    "duration": 943,
    "start_time": "2022-02-01T12:36:45.315Z"
   },
   {
    "duration": 3418,
    "start_time": "2022-02-01T12:36:46.309Z"
   },
   {
    "duration": 17592,
    "start_time": "2022-02-02T09:13:32.569Z"
   },
   {
    "duration": 10968,
    "start_time": "2022-02-02T09:13:50.164Z"
   },
   {
    "duration": 39,
    "start_time": "2022-02-02T09:14:01.140Z"
   },
   {
    "duration": 1052,
    "start_time": "2022-02-02T09:14:01.181Z"
   },
   {
    "duration": 7321,
    "start_time": "2022-02-02T09:14:02.236Z"
   },
   {
    "duration": 5907,
    "start_time": "2022-02-02T09:14:09.560Z"
   },
   {
    "duration": 5517,
    "start_time": "2022-02-02T09:14:15.470Z"
   },
   {
    "duration": 6136,
    "start_time": "2022-02-02T09:14:21.036Z"
   },
   {
    "duration": 454,
    "start_time": "2022-02-02T09:14:27.238Z"
   },
   {
    "duration": 4678,
    "start_time": "2022-02-02T09:14:27.694Z"
   },
   {
    "duration": 729,
    "start_time": "2022-02-02T09:14:32.376Z"
   },
   {
    "duration": 60,
    "start_time": "2022-02-02T09:14:33.108Z"
   },
   {
    "duration": 6,
    "start_time": "2022-02-02T09:14:33.170Z"
   },
   {
    "duration": 2302,
    "start_time": "2022-02-02T09:14:33.232Z"
   },
   {
    "duration": 793,
    "start_time": "2022-02-02T09:14:35.541Z"
   },
   {
    "duration": 238,
    "start_time": "2022-02-02T09:14:36.336Z"
   },
   {
    "duration": 157,
    "start_time": "2022-02-02T09:14:36.577Z"
   },
   {
    "duration": 1976,
    "start_time": "2022-02-02T09:14:36.758Z"
   },
   {
    "duration": 13,
    "start_time": "2022-02-02T09:14:38.737Z"
   },
   {
    "duration": 1388,
    "start_time": "2022-02-02T09:14:38.756Z"
   },
   {
    "duration": 4610,
    "start_time": "2022-02-02T09:14:40.149Z"
   },
   {
    "duration": 363807,
    "start_time": "2022-02-02T09:14:44.762Z"
   },
   {
    "duration": 61,
    "start_time": "2022-02-02T09:20:48.510Z"
   },
   {
    "duration": 60,
    "start_time": "2022-02-02T09:20:48.512Z"
   },
   {
    "duration": 296,
    "start_time": "2022-02-02T09:20:54.345Z"
   },
   {
    "duration": 16966,
    "start_time": "2022-02-02T09:21:03.965Z"
   },
   {
    "duration": 9814,
    "start_time": "2022-02-02T09:21:20.935Z"
   },
   {
    "duration": 101,
    "start_time": "2022-02-02T09:21:30.756Z"
   },
   {
    "duration": 904,
    "start_time": "2022-02-02T09:21:30.860Z"
   },
   {
    "duration": 6873,
    "start_time": "2022-02-02T09:21:31.766Z"
   },
   {
    "duration": 5310,
    "start_time": "2022-02-02T09:21:38.642Z"
   },
   {
    "duration": 4676,
    "start_time": "2022-02-02T09:21:43.957Z"
   },
   {
    "duration": 5999,
    "start_time": "2022-02-02T09:21:48.636Z"
   },
   {
    "duration": 321,
    "start_time": "2022-02-02T09:21:54.645Z"
   },
   {
    "duration": 3997,
    "start_time": "2022-02-02T09:21:54.968Z"
   },
   {
    "duration": 607,
    "start_time": "2022-02-02T09:21:58.968Z"
   },
   {
    "duration": 76,
    "start_time": "2022-02-02T09:21:59.578Z"
   },
   {
    "duration": 4,
    "start_time": "2022-02-02T09:21:59.657Z"
   },
   {
    "duration": 1811,
    "start_time": "2022-02-02T09:21:59.664Z"
   },
   {
    "duration": 682,
    "start_time": "2022-02-02T09:22:01.477Z"
   },
   {
    "duration": 285,
    "start_time": "2022-02-02T09:22:02.162Z"
   },
   {
    "duration": 101,
    "start_time": "2022-02-02T09:22:02.450Z"
   },
   {
    "duration": 1710,
    "start_time": "2022-02-02T09:22:02.558Z"
   },
   {
    "duration": 68,
    "start_time": "2022-02-02T09:22:04.271Z"
   },
   {
    "duration": 1124,
    "start_time": "2022-02-02T09:22:04.345Z"
   },
   {
    "duration": 4464,
    "start_time": "2022-02-02T09:22:05.471Z"
   },
   {
    "duration": 858,
    "start_time": "2022-02-02T09:22:09.942Z"
   },
   {
    "duration": 61,
    "start_time": "2022-02-02T09:22:10.741Z"
   },
   {
    "duration": 56,
    "start_time": "2022-02-02T09:22:10.748Z"
   },
   {
    "duration": 9,
    "start_time": "2022-02-02T09:22:32.448Z"
   },
   {
    "duration": 17831,
    "start_time": "2022-02-02T09:22:39.083Z"
   },
   {
    "duration": 9750,
    "start_time": "2022-02-02T09:22:56.917Z"
   },
   {
    "duration": 102,
    "start_time": "2022-02-02T09:23:06.670Z"
   },
   {
    "duration": 872,
    "start_time": "2022-02-02T09:23:06.775Z"
   },
   {
    "duration": 7004,
    "start_time": "2022-02-02T09:23:07.650Z"
   },
   {
    "duration": 4908,
    "start_time": "2022-02-02T09:23:14.657Z"
   },
   {
    "duration": 4980,
    "start_time": "2022-02-02T09:23:19.567Z"
   },
   {
    "duration": 5505,
    "start_time": "2022-02-02T09:23:24.552Z"
   },
   {
    "duration": 348,
    "start_time": "2022-02-02T09:23:30.060Z"
   },
   {
    "duration": 3944,
    "start_time": "2022-02-02T09:23:30.410Z"
   },
   {
    "duration": 609,
    "start_time": "2022-02-02T09:23:34.356Z"
   },
   {
    "duration": 84,
    "start_time": "2022-02-02T09:23:34.967Z"
   },
   {
    "duration": 5,
    "start_time": "2022-02-02T09:23:35.055Z"
   },
   {
    "duration": 2111,
    "start_time": "2022-02-02T09:23:35.062Z"
   },
   {
    "duration": 593,
    "start_time": "2022-02-02T09:23:37.175Z"
   },
   {
    "duration": 204,
    "start_time": "2022-02-02T09:23:37.771Z"
   },
   {
    "duration": 94,
    "start_time": "2022-02-02T09:23:37.978Z"
   },
   {
    "duration": 1538,
    "start_time": "2022-02-02T09:23:38.134Z"
   },
   {
    "duration": 67,
    "start_time": "2022-02-02T09:23:39.675Z"
   },
   {
    "duration": 1024,
    "start_time": "2022-02-02T09:23:39.745Z"
   },
   {
    "duration": 5595,
    "start_time": "2022-02-02T09:23:40.771Z"
   },
   {
    "duration": 626,
    "start_time": "2022-02-02T09:23:46.369Z"
   },
   {
    "duration": 54,
    "start_time": "2022-02-02T09:23:46.943Z"
   },
   {
    "duration": 54,
    "start_time": "2022-02-02T09:23:46.945Z"
   },
   {
    "duration": 336,
    "start_time": "2022-02-02T09:24:14.173Z"
   },
   {
    "duration": 914,
    "start_time": "2022-02-02T09:29:28.130Z"
   },
   {
    "duration": 17330,
    "start_time": "2022-02-02T09:29:36.742Z"
   },
   {
    "duration": 10099,
    "start_time": "2022-02-02T09:29:54.075Z"
   },
   {
    "duration": 92,
    "start_time": "2022-02-02T09:30:04.177Z"
   },
   {
    "duration": 973,
    "start_time": "2022-02-02T09:30:04.272Z"
   },
   {
    "duration": 6898,
    "start_time": "2022-02-02T09:30:05.249Z"
   },
   {
    "duration": 4815,
    "start_time": "2022-02-02T09:30:12.150Z"
   },
   {
    "duration": 4692,
    "start_time": "2022-02-02T09:30:16.968Z"
   },
   {
    "duration": 5702,
    "start_time": "2022-02-02T09:30:21.664Z"
   },
   {
    "duration": 401,
    "start_time": "2022-02-02T09:30:27.370Z"
   },
   {
    "duration": 3997,
    "start_time": "2022-02-02T09:30:27.773Z"
   },
   {
    "duration": 594,
    "start_time": "2022-02-02T09:30:31.773Z"
   },
   {
    "duration": 78,
    "start_time": "2022-02-02T09:30:32.369Z"
   },
   {
    "duration": 6,
    "start_time": "2022-02-02T09:30:32.451Z"
   },
   {
    "duration": 2285,
    "start_time": "2022-02-02T09:30:32.460Z"
   },
   {
    "duration": 629,
    "start_time": "2022-02-02T09:30:34.747Z"
   },
   {
    "duration": 266,
    "start_time": "2022-02-02T09:30:35.379Z"
   },
   {
    "duration": 104,
    "start_time": "2022-02-02T09:30:35.648Z"
   },
   {
    "duration": 1580,
    "start_time": "2022-02-02T09:30:35.755Z"
   },
   {
    "duration": 9,
    "start_time": "2022-02-02T09:30:37.338Z"
   },
   {
    "duration": 1032,
    "start_time": "2022-02-02T09:30:37.350Z"
   },
   {
    "duration": 4205,
    "start_time": "2022-02-02T09:30:38.436Z"
   },
   {
    "duration": 574,
    "start_time": "2022-02-02T09:30:42.643Z"
   },
   {
    "duration": 31,
    "start_time": "2022-02-02T09:30:43.189Z"
   },
   {
    "duration": -25,
    "start_time": "2022-02-02T09:30:43.247Z"
   },
   {
    "duration": 7560,
    "start_time": "2022-02-02T09:39:04.598Z"
   },
   {
    "duration": 18,
    "start_time": "2022-02-02T09:39:15.866Z"
   },
   {
    "duration": 19,
    "start_time": "2022-02-02T09:39:26.194Z"
   },
   {
    "duration": 5,
    "start_time": "2022-02-02T09:39:31.721Z"
   },
   {
    "duration": 1473,
    "start_time": "2022-02-02T09:39:42.467Z"
   },
   {
    "duration": 837,
    "start_time": "2022-02-02T09:39:59.122Z"
   },
   {
    "duration": 5,
    "start_time": "2022-02-02T09:40:34.288Z"
   },
   {
    "duration": 6,
    "start_time": "2022-02-02T09:40:41.418Z"
   },
   {
    "duration": 5,
    "start_time": "2022-02-02T09:40:52.632Z"
   },
   {
    "duration": 4,
    "start_time": "2022-02-02T09:45:26.227Z"
   },
   {
    "duration": 5,
    "start_time": "2022-02-02T09:45:28.414Z"
   },
   {
    "duration": 5,
    "start_time": "2022-02-02T09:45:30.449Z"
   },
   {
    "duration": 338,
    "start_time": "2022-02-02T09:45:50.430Z"
   },
   {
    "duration": 11,
    "start_time": "2022-02-02T09:45:55.517Z"
   },
   {
    "duration": 5049,
    "start_time": "2022-02-02T09:46:21.502Z"
   },
   {
    "duration": 4,
    "start_time": "2022-02-02T09:46:30.710Z"
   },
   {
    "duration": 5,
    "start_time": "2022-02-02T09:46:32.383Z"
   },
   {
    "duration": 4,
    "start_time": "2022-02-02T09:46:34.047Z"
   },
   {
    "duration": 370,
    "start_time": "2022-02-02T09:46:41.869Z"
   },
   {
    "duration": 4813,
    "start_time": "2022-02-02T09:46:49.029Z"
   },
   {
    "duration": 5,
    "start_time": "2022-02-02T09:48:19.757Z"
   },
   {
    "duration": 5,
    "start_time": "2022-02-02T09:48:21.873Z"
   },
   {
    "duration": 4,
    "start_time": "2022-02-02T09:48:23.603Z"
   },
   {
    "duration": 4373,
    "start_time": "2022-02-02T09:48:31.762Z"
   },
   {
    "duration": 5,
    "start_time": "2022-02-02T09:50:31.711Z"
   },
   {
    "duration": 5,
    "start_time": "2022-02-02T09:50:33.678Z"
   },
   {
    "duration": 3583,
    "start_time": "2022-02-02T09:50:47.163Z"
   },
   {
    "duration": 4,
    "start_time": "2022-02-02T09:51:13.620Z"
   },
   {
    "duration": 4,
    "start_time": "2022-02-02T09:51:15.517Z"
   },
   {
    "duration": 5,
    "start_time": "2022-02-02T09:51:18.093Z"
   },
   {
    "duration": 3831,
    "start_time": "2022-02-02T09:51:22.414Z"
   },
   {
    "duration": 4,
    "start_time": "2022-02-02T09:51:28.688Z"
   },
   {
    "duration": 5,
    "start_time": "2022-02-02T09:51:30.428Z"
   },
   {
    "duration": 5,
    "start_time": "2022-02-02T09:51:32.068Z"
   },
   {
    "duration": 4,
    "start_time": "2022-02-02T09:51:33.900Z"
   },
   {
    "duration": 1779,
    "start_time": "2022-02-02T09:55:28.208Z"
   },
   {
    "duration": 73,
    "start_time": "2022-02-02T09:56:43.587Z"
   },
   {
    "duration": 313,
    "start_time": "2022-02-02T09:59:01.958Z"
   },
   {
    "duration": 4296,
    "start_time": "2022-02-02T10:01:28.037Z"
   },
   {
    "duration": 171,
    "start_time": "2022-02-02T10:05:43.059Z"
   },
   {
    "duration": 130,
    "start_time": "2022-02-02T10:06:31.432Z"
   },
   {
    "duration": 1704,
    "start_time": "2022-02-02T10:07:13.831Z"
   },
   {
    "duration": 1238,
    "start_time": "2022-02-02T10:08:53.005Z"
   },
   {
    "duration": 59704,
    "start_time": "2022-02-02T10:09:13.369Z"
   },
   {
    "duration": 603,
    "start_time": "2022-02-02T10:11:24.656Z"
   },
   {
    "duration": 8120,
    "start_time": "2022-02-02T10:11:35.659Z"
   },
   {
    "duration": 2717,
    "start_time": "2022-02-02T10:15:00.945Z"
   },
   {
    "duration": 2089,
    "start_time": "2022-02-02T10:15:14.884Z"
   },
   {
    "duration": 334,
    "start_time": "2022-02-02T10:18:59.046Z"
   },
   {
    "duration": 10,
    "start_time": "2022-02-02T10:19:07.313Z"
   },
   {
    "duration": 446,
    "start_time": "2022-02-02T10:19:34.096Z"
   },
   {
    "duration": 296,
    "start_time": "2022-02-02T10:19:42.365Z"
   },
   {
    "duration": 2800,
    "start_time": "2022-02-02T10:21:54.148Z"
   },
   {
    "duration": 2484,
    "start_time": "2022-02-02T10:22:32.059Z"
   },
   {
    "duration": 5,
    "start_time": "2022-02-02T10:22:39.546Z"
   },
   {
    "duration": 5,
    "start_time": "2022-02-02T10:22:41.058Z"
   },
   {
    "duration": 5,
    "start_time": "2022-02-02T10:22:42.684Z"
   },
   {
    "duration": 388,
    "start_time": "2022-02-02T10:24:40.854Z"
   },
   {
    "duration": 388,
    "start_time": "2022-02-02T10:28:55.487Z"
   },
   {
    "duration": 18126,
    "start_time": "2022-02-02T10:31:03.750Z"
   },
   {
    "duration": 10382,
    "start_time": "2022-02-02T10:31:21.880Z"
   },
   {
    "duration": 84,
    "start_time": "2022-02-02T10:31:32.265Z"
   },
   {
    "duration": 1001,
    "start_time": "2022-02-02T10:31:32.353Z"
   },
   {
    "duration": 6796,
    "start_time": "2022-02-02T10:31:33.357Z"
   },
   {
    "duration": 5489,
    "start_time": "2022-02-02T10:31:40.158Z"
   },
   {
    "duration": 4853,
    "start_time": "2022-02-02T10:31:45.649Z"
   },
   {
    "duration": 5842,
    "start_time": "2022-02-02T10:31:50.504Z"
   },
   {
    "duration": 409,
    "start_time": "2022-02-02T10:31:56.351Z"
   },
   {
    "duration": 4200,
    "start_time": "2022-02-02T10:31:56.763Z"
   },
   {
    "duration": 575,
    "start_time": "2022-02-02T10:32:00.966Z"
   },
   {
    "duration": 39,
    "start_time": "2022-02-02T10:32:01.544Z"
   },
   {
    "duration": 8,
    "start_time": "2022-02-02T10:32:01.638Z"
   },
   {
    "duration": 2121,
    "start_time": "2022-02-02T10:32:01.650Z"
   },
   {
    "duration": 596,
    "start_time": "2022-02-02T10:32:03.774Z"
   },
   {
    "duration": 165,
    "start_time": "2022-02-02T10:32:04.373Z"
   },
   {
    "duration": 93,
    "start_time": "2022-02-02T10:32:04.541Z"
   },
   {
    "duration": 1505,
    "start_time": "2022-02-02T10:32:04.640Z"
   },
   {
    "duration": 7,
    "start_time": "2022-02-02T10:32:06.147Z"
   },
   {
    "duration": 1205,
    "start_time": "2022-02-02T10:32:06.157Z"
   },
   {
    "duration": -33,
    "start_time": "2022-02-02T10:32:07.397Z"
   },
   {
    "duration": -34,
    "start_time": "2022-02-02T10:32:07.400Z"
   },
   {
    "duration": -35,
    "start_time": "2022-02-02T10:32:07.403Z"
   },
   {
    "duration": -35,
    "start_time": "2022-02-02T10:32:07.405Z"
   },
   {
    "duration": -37,
    "start_time": "2022-02-02T10:32:07.408Z"
   },
   {
    "duration": -33,
    "start_time": "2022-02-02T10:32:07.410Z"
   },
   {
    "duration": -34,
    "start_time": "2022-02-02T10:32:07.413Z"
   },
   {
    "duration": -34,
    "start_time": "2022-02-02T10:32:07.415Z"
   },
   {
    "duration": -35,
    "start_time": "2022-02-02T10:32:07.417Z"
   },
   {
    "duration": -36,
    "start_time": "2022-02-02T10:32:07.419Z"
   },
   {
    "duration": -36,
    "start_time": "2022-02-02T10:32:07.421Z"
   },
   {
    "duration": 390,
    "start_time": "2022-02-02T10:32:52.398Z"
   },
   {
    "duration": 17551,
    "start_time": "2022-02-02T10:33:12.733Z"
   },
   {
    "duration": 9953,
    "start_time": "2022-02-02T10:33:30.287Z"
   },
   {
    "duration": 39,
    "start_time": "2022-02-02T10:33:40.246Z"
   },
   {
    "duration": 969,
    "start_time": "2022-02-02T10:33:40.288Z"
   },
   {
    "duration": 6975,
    "start_time": "2022-02-02T10:33:41.260Z"
   },
   {
    "duration": 5136,
    "start_time": "2022-02-02T10:33:48.237Z"
   },
   {
    "duration": 5589,
    "start_time": "2022-02-02T10:33:53.376Z"
   },
   {
    "duration": 6570,
    "start_time": "2022-02-02T10:33:58.969Z"
   },
   {
    "duration": 416,
    "start_time": "2022-02-02T10:34:05.543Z"
   },
   {
    "duration": 4203,
    "start_time": "2022-02-02T10:34:05.962Z"
   },
   {
    "duration": 559,
    "start_time": "2022-02-02T10:34:10.168Z"
   },
   {
    "duration": 39,
    "start_time": "2022-02-02T10:34:10.734Z"
   },
   {
    "duration": 14,
    "start_time": "2022-02-02T10:34:10.832Z"
   },
   {
    "duration": 2130,
    "start_time": "2022-02-02T10:34:10.850Z"
   },
   {
    "duration": 754,
    "start_time": "2022-02-02T10:34:12.983Z"
   },
   {
    "duration": 219,
    "start_time": "2022-02-02T10:34:13.739Z"
   },
   {
    "duration": 99,
    "start_time": "2022-02-02T10:34:13.961Z"
   },
   {
    "duration": 1403,
    "start_time": "2022-02-02T10:34:14.062Z"
   },
   {
    "duration": 6,
    "start_time": "2022-02-02T10:34:15.468Z"
   },
   {
    "duration": 1095,
    "start_time": "2022-02-02T10:34:15.476Z"
   },
   {
    "duration": -35,
    "start_time": "2022-02-02T10:34:16.608Z"
   },
   {
    "duration": -32,
    "start_time": "2022-02-02T10:34:16.611Z"
   },
   {
    "duration": -32,
    "start_time": "2022-02-02T10:34:16.613Z"
   },
   {
    "duration": -33,
    "start_time": "2022-02-02T10:34:16.615Z"
   },
   {
    "duration": -34,
    "start_time": "2022-02-02T10:34:16.617Z"
   },
   {
    "duration": -35,
    "start_time": "2022-02-02T10:34:16.619Z"
   },
   {
    "duration": -36,
    "start_time": "2022-02-02T10:34:16.622Z"
   },
   {
    "duration": -36,
    "start_time": "2022-02-02T10:34:16.623Z"
   },
   {
    "duration": -36,
    "start_time": "2022-02-02T10:34:16.625Z"
   },
   {
    "duration": -44,
    "start_time": "2022-02-02T10:34:16.634Z"
   },
   {
    "duration": -44,
    "start_time": "2022-02-02T10:34:16.636Z"
   },
   {
    "duration": -45,
    "start_time": "2022-02-02T10:34:16.638Z"
   },
   {
    "duration": 372,
    "start_time": "2022-02-02T10:35:27.402Z"
   },
   {
    "duration": 332,
    "start_time": "2022-02-02T10:35:57.611Z"
   },
   {
    "duration": 17057,
    "start_time": "2022-02-02T10:36:03.846Z"
   },
   {
    "duration": 9966,
    "start_time": "2022-02-02T10:36:20.906Z"
   },
   {
    "duration": 181,
    "start_time": "2022-02-02T10:36:30.877Z"
   },
   {
    "duration": 908,
    "start_time": "2022-02-02T10:36:31.061Z"
   },
   {
    "duration": 6484,
    "start_time": "2022-02-02T10:36:31.972Z"
   },
   {
    "duration": 4988,
    "start_time": "2022-02-02T10:36:38.459Z"
   },
   {
    "duration": 4844,
    "start_time": "2022-02-02T10:36:43.450Z"
   },
   {
    "duration": 6250,
    "start_time": "2022-02-02T10:36:48.296Z"
   },
   {
    "duration": 355,
    "start_time": "2022-02-02T10:36:54.553Z"
   },
   {
    "duration": 4244,
    "start_time": "2022-02-02T10:36:54.912Z"
   },
   {
    "duration": 587,
    "start_time": "2022-02-02T10:36:59.159Z"
   },
   {
    "duration": 95,
    "start_time": "2022-02-02T10:36:59.748Z"
   },
   {
    "duration": 5,
    "start_time": "2022-02-02T10:36:59.846Z"
   },
   {
    "duration": 2091,
    "start_time": "2022-02-02T10:36:59.855Z"
   },
   {
    "duration": 732,
    "start_time": "2022-02-02T10:37:01.949Z"
   },
   {
    "duration": 266,
    "start_time": "2022-02-02T10:37:02.683Z"
   },
   {
    "duration": 104,
    "start_time": "2022-02-02T10:37:02.952Z"
   },
   {
    "duration": 2299,
    "start_time": "2022-02-02T10:37:03.059Z"
   },
   {
    "duration": 9,
    "start_time": "2022-02-02T10:37:05.432Z"
   },
   {
    "duration": 1004,
    "start_time": "2022-02-02T10:37:05.447Z"
   },
   {
    "duration": 3711,
    "start_time": "2022-02-02T10:37:06.454Z"
   },
   {
    "duration": 5992,
    "start_time": "2022-02-02T10:37:10.168Z"
   },
   {
    "duration": 5,
    "start_time": "2022-02-02T10:37:16.163Z"
   },
   {
    "duration": 65,
    "start_time": "2022-02-02T10:37:16.170Z"
   },
   {
    "duration": 25,
    "start_time": "2022-02-02T10:37:16.238Z"
   },
   {
    "duration": 177,
    "start_time": "2022-02-02T10:37:16.266Z"
   },
   {
    "duration": 114,
    "start_time": "2022-02-02T10:37:16.449Z"
   },
   {
    "duration": -21,
    "start_time": "2022-02-02T10:37:16.587Z"
   },
   {
    "duration": -23,
    "start_time": "2022-02-02T10:37:16.590Z"
   },
   {
    "duration": -23,
    "start_time": "2022-02-02T10:37:16.591Z"
   },
   {
    "duration": -23,
    "start_time": "2022-02-02T10:37:16.593Z"
   },
   {
    "duration": 498,
    "start_time": "2022-02-02T10:40:42.712Z"
   },
   {
    "duration": 18063,
    "start_time": "2022-02-02T10:46:43.310Z"
   },
   {
    "duration": 9992,
    "start_time": "2022-02-02T10:47:01.376Z"
   },
   {
    "duration": 38,
    "start_time": "2022-02-02T10:47:11.435Z"
   },
   {
    "duration": 1011,
    "start_time": "2022-02-02T10:47:11.532Z"
   },
   {
    "duration": 6808,
    "start_time": "2022-02-02T10:47:12.546Z"
   },
   {
    "duration": 5210,
    "start_time": "2022-02-02T10:47:19.357Z"
   },
   {
    "duration": 5203,
    "start_time": "2022-02-02T10:47:24.633Z"
   },
   {
    "duration": 5724,
    "start_time": "2022-02-02T10:47:29.841Z"
   },
   {
    "duration": 400,
    "start_time": "2022-02-02T10:47:35.635Z"
   },
   {
    "duration": 4008,
    "start_time": "2022-02-02T10:47:36.038Z"
   },
   {
    "duration": 588,
    "start_time": "2022-02-02T10:47:40.051Z"
   },
   {
    "duration": 96,
    "start_time": "2022-02-02T10:47:40.642Z"
   },
   {
    "duration": 5,
    "start_time": "2022-02-02T10:47:40.740Z"
   },
   {
    "duration": 2327,
    "start_time": "2022-02-02T10:47:40.748Z"
   },
   {
    "duration": 776,
    "start_time": "2022-02-02T10:47:43.077Z"
   },
   {
    "duration": 289,
    "start_time": "2022-02-02T10:47:43.857Z"
   },
   {
    "duration": 102,
    "start_time": "2022-02-02T10:47:44.149Z"
   },
   {
    "duration": 1513,
    "start_time": "2022-02-02T10:47:44.253Z"
   },
   {
    "duration": 66,
    "start_time": "2022-02-02T10:47:45.769Z"
   },
   {
    "duration": 1191,
    "start_time": "2022-02-02T10:47:45.843Z"
   },
   {
    "duration": 510,
    "start_time": "2022-02-02T10:47:47.036Z"
   },
   {
    "duration": 389,
    "start_time": "2022-02-02T10:47:47.549Z"
   },
   {
    "duration": 4691,
    "start_time": "2022-02-02T10:47:47.943Z"
   },
   {
    "duration": 3332,
    "start_time": "2022-02-02T10:47:52.637Z"
   },
   {
    "duration": 7276,
    "start_time": "2022-02-02T10:47:55.972Z"
   },
   {
    "duration": 7,
    "start_time": "2022-02-02T10:48:03.250Z"
   },
   {
    "duration": 6,
    "start_time": "2022-02-02T10:48:03.259Z"
   },
   {
    "duration": 9,
    "start_time": "2022-02-02T10:48:03.267Z"
   },
   {
    "duration": 62,
    "start_time": "2022-02-02T10:48:03.279Z"
   },
   {
    "duration": 601,
    "start_time": "2022-02-02T10:48:03.347Z"
   },
   {
    "duration": 15,
    "start_time": "2022-02-02T10:48:03.936Z"
   },
   {
    "duration": 15,
    "start_time": "2022-02-02T10:48:03.938Z"
   },
   {
    "duration": 1743,
    "start_time": "2022-02-02T10:49:13.136Z"
   },
   {
    "duration": 4041,
    "start_time": "2022-02-02T10:49:17.522Z"
   },
   {
    "duration": 4,
    "start_time": "2022-02-02T10:50:09.068Z"
   },
   {
    "duration": 5,
    "start_time": "2022-02-02T10:50:10.717Z"
   },
   {
    "duration": 5,
    "start_time": "2022-02-02T10:50:12.289Z"
   },
   {
    "duration": 4579,
    "start_time": "2022-02-02T10:50:23.593Z"
   },
   {
    "duration": 4,
    "start_time": "2022-02-02T10:50:29.755Z"
   },
   {
    "duration": 5,
    "start_time": "2022-02-02T10:50:31.161Z"
   },
   {
    "duration": 5,
    "start_time": "2022-02-02T10:50:32.571Z"
   },
   {
    "duration": 3843,
    "start_time": "2022-02-02T10:50:39.845Z"
   },
   {
    "duration": 1309,
    "start_time": "2022-02-02T10:51:25.546Z"
   },
   {
    "duration": 5,
    "start_time": "2022-02-02T10:51:34.618Z"
   },
   {
    "duration": 4,
    "start_time": "2022-02-02T10:51:36.000Z"
   },
   {
    "duration": 5,
    "start_time": "2022-02-02T10:51:37.426Z"
   },
   {
    "duration": 22,
    "start_time": "2022-02-02T10:51:39.225Z"
   },
   {
    "duration": 3351,
    "start_time": "2022-02-02T10:52:25.747Z"
   },
   {
    "duration": 5,
    "start_time": "2022-02-02T10:52:32.162Z"
   },
   {
    "duration": 5,
    "start_time": "2022-02-02T10:52:33.881Z"
   },
   {
    "duration": 2640,
    "start_time": "2022-02-02T10:52:43.248Z"
   },
   {
    "duration": 11,
    "start_time": "2022-02-02T10:53:14.528Z"
   },
   {
    "duration": 2677,
    "start_time": "2022-02-02T10:53:16.215Z"
   },
   {
    "duration": 335,
    "start_time": "2022-02-02T10:53:26.710Z"
   },
   {
    "duration": 326,
    "start_time": "2022-02-02T10:53:52.911Z"
   },
   {
    "duration": 921,
    "start_time": "2022-02-02T10:55:01.532Z"
   },
   {
    "duration": 300,
    "start_time": "2022-02-02T10:57:23.687Z"
   },
   {
    "duration": 8,
    "start_time": "2022-02-02T10:58:08.693Z"
   },
   {
    "duration": 17375,
    "start_time": "2022-02-02T11:03:44.507Z"
   },
   {
    "duration": 9850,
    "start_time": "2022-02-02T11:04:01.885Z"
   },
   {
    "duration": 37,
    "start_time": "2022-02-02T11:04:11.738Z"
   },
   {
    "duration": 871,
    "start_time": "2022-02-02T11:04:11.779Z"
   },
   {
    "duration": 6679,
    "start_time": "2022-02-02T11:04:12.653Z"
   },
   {
    "duration": 5015,
    "start_time": "2022-02-02T11:04:19.335Z"
   },
   {
    "duration": 4983,
    "start_time": "2022-02-02T11:04:24.353Z"
   },
   {
    "duration": 5800,
    "start_time": "2022-02-02T11:04:29.347Z"
   },
   {
    "duration": 556,
    "start_time": "2022-02-02T11:04:35.150Z"
   },
   {
    "duration": 4239,
    "start_time": "2022-02-02T11:04:35.708Z"
   },
   {
    "duration": 591,
    "start_time": "2022-02-02T11:04:39.950Z"
   },
   {
    "duration": 92,
    "start_time": "2022-02-02T11:04:40.543Z"
   },
   {
    "duration": 3,
    "start_time": "2022-02-02T11:04:40.638Z"
   },
   {
    "duration": 1816,
    "start_time": "2022-02-02T11:04:40.647Z"
   },
   {
    "duration": 785,
    "start_time": "2022-02-02T11:04:42.466Z"
   },
   {
    "duration": 291,
    "start_time": "2022-02-02T11:04:43.253Z"
   },
   {
    "duration": 97,
    "start_time": "2022-02-02T11:04:43.546Z"
   },
   {
    "duration": 1586,
    "start_time": "2022-02-02T11:04:43.646Z"
   },
   {
    "duration": 9,
    "start_time": "2022-02-02T11:04:45.234Z"
   },
   {
    "duration": 1102,
    "start_time": "2022-02-02T11:04:45.245Z"
   },
   {
    "duration": 488,
    "start_time": "2022-02-02T11:04:46.350Z"
   },
   {
    "duration": 421,
    "start_time": "2022-02-02T11:04:46.840Z"
   },
   {
    "duration": 4386,
    "start_time": "2022-02-02T11:04:47.267Z"
   },
   {
    "duration": 1878,
    "start_time": "2022-02-02T11:04:51.655Z"
   },
   {
    "duration": 7316,
    "start_time": "2022-02-02T11:04:53.536Z"
   },
   {
    "duration": 6,
    "start_time": "2022-02-02T11:05:00.855Z"
   },
   {
    "duration": 14,
    "start_time": "2022-02-02T11:05:00.863Z"
   },
   {
    "duration": 17,
    "start_time": "2022-02-02T11:05:00.879Z"
   },
   {
    "duration": 1048,
    "start_time": "2022-02-02T11:05:00.899Z"
   },
   {
    "duration": 613,
    "start_time": "2022-02-02T11:05:01.950Z"
   },
   {
    "duration": 32,
    "start_time": "2022-02-02T11:05:02.534Z"
   },
   {
    "duration": 31,
    "start_time": "2022-02-02T11:05:02.536Z"
   },
   {
    "duration": 30,
    "start_time": "2022-02-02T11:05:02.538Z"
   },
   {
    "duration": 30,
    "start_time": "2022-02-02T11:05:02.540Z"
   },
   {
    "duration": 29,
    "start_time": "2022-02-02T11:05:02.542Z"
   },
   {
    "duration": 28,
    "start_time": "2022-02-02T11:05:02.545Z"
   },
   {
    "duration": 28,
    "start_time": "2022-02-02T11:05:02.546Z"
   },
   {
    "duration": 27,
    "start_time": "2022-02-02T11:05:02.549Z"
   },
   {
    "duration": 26,
    "start_time": "2022-02-02T11:05:02.551Z"
   },
   {
    "duration": 320,
    "start_time": "2022-02-02T11:07:29.265Z"
   },
   {
    "duration": 319,
    "start_time": "2022-02-02T11:14:42.953Z"
   },
   {
    "duration": 17133,
    "start_time": "2022-02-02T11:18:59.955Z"
   },
   {
    "duration": 9241,
    "start_time": "2022-02-02T11:19:17.091Z"
   },
   {
    "duration": 96,
    "start_time": "2022-02-02T11:19:26.337Z"
   },
   {
    "duration": 807,
    "start_time": "2022-02-02T11:19:26.436Z"
   },
   {
    "duration": 6403,
    "start_time": "2022-02-02T11:19:27.246Z"
   },
   {
    "duration": 4706,
    "start_time": "2022-02-02T11:19:33.651Z"
   },
   {
    "duration": 4402,
    "start_time": "2022-02-02T11:19:38.359Z"
   },
   {
    "duration": 5087,
    "start_time": "2022-02-02T11:19:42.765Z"
   },
   {
    "duration": 404,
    "start_time": "2022-02-02T11:19:47.855Z"
   },
   {
    "duration": 3691,
    "start_time": "2022-02-02T11:19:48.261Z"
   },
   {
    "duration": 611,
    "start_time": "2022-02-02T11:19:51.956Z"
   },
   {
    "duration": 75,
    "start_time": "2022-02-02T11:19:52.570Z"
   },
   {
    "duration": 5,
    "start_time": "2022-02-02T11:19:52.647Z"
   },
   {
    "duration": 2014,
    "start_time": "2022-02-02T11:19:52.654Z"
   },
   {
    "duration": 766,
    "start_time": "2022-02-02T11:19:54.670Z"
   },
   {
    "duration": 208,
    "start_time": "2022-02-02T11:19:55.439Z"
   },
   {
    "duration": 96,
    "start_time": "2022-02-02T11:19:55.650Z"
   },
   {
    "duration": 1495,
    "start_time": "2022-02-02T11:19:55.750Z"
   },
   {
    "duration": 8,
    "start_time": "2022-02-02T11:19:57.248Z"
   },
   {
    "duration": 1218,
    "start_time": "2022-02-02T11:19:57.259Z"
   },
   {
    "duration": 606,
    "start_time": "2022-02-02T11:19:58.532Z"
   },
   {
    "duration": 497,
    "start_time": "2022-02-02T11:19:59.141Z"
   },
   {
    "duration": 3800,
    "start_time": "2022-02-02T11:19:59.646Z"
   },
   {
    "duration": 1686,
    "start_time": "2022-02-02T11:20:03.449Z"
   },
   {
    "duration": 7300,
    "start_time": "2022-02-02T11:20:05.138Z"
   },
   {
    "duration": 5,
    "start_time": "2022-02-02T11:20:12.441Z"
   },
   {
    "duration": 5,
    "start_time": "2022-02-02T11:20:12.449Z"
   },
   {
    "duration": 6,
    "start_time": "2022-02-02T11:20:12.457Z"
   },
   {
    "duration": 1299,
    "start_time": "2022-02-02T11:20:12.465Z"
   },
   {
    "duration": 450,
    "start_time": "2022-02-02T11:20:13.766Z"
   },
   {
    "duration": 37,
    "start_time": "2022-02-02T11:20:14.181Z"
   },
   {
    "duration": 35,
    "start_time": "2022-02-02T11:20:14.185Z"
   },
   {
    "duration": 29,
    "start_time": "2022-02-02T11:20:14.193Z"
   },
   {
    "duration": 27,
    "start_time": "2022-02-02T11:20:14.196Z"
   },
   {
    "duration": 27,
    "start_time": "2022-02-02T11:20:14.198Z"
   },
   {
    "duration": 25,
    "start_time": "2022-02-02T11:20:14.201Z"
   },
   {
    "duration": 25,
    "start_time": "2022-02-02T11:20:14.203Z"
   },
   {
    "duration": 24,
    "start_time": "2022-02-02T11:20:14.205Z"
   },
   {
    "duration": 23,
    "start_time": "2022-02-02T11:20:14.208Z"
   },
   {
    "duration": 9,
    "start_time": "2022-02-02T11:20:21.238Z"
   },
   {
    "duration": 3590,
    "start_time": "2022-02-02T11:20:24.265Z"
   },
   {
    "duration": 725,
    "start_time": "2022-02-02T11:20:30.539Z"
   },
   {
    "duration": 1176,
    "start_time": "2022-02-02T11:20:54.386Z"
   },
   {
    "duration": 17559,
    "start_time": "2022-02-02T11:22:27.989Z"
   },
   {
    "duration": 9890,
    "start_time": "2022-02-02T11:22:45.553Z"
   },
   {
    "duration": 90,
    "start_time": "2022-02-02T11:22:55.450Z"
   },
   {
    "duration": 797,
    "start_time": "2022-02-02T11:22:55.543Z"
   },
   {
    "duration": 6715,
    "start_time": "2022-02-02T11:22:56.343Z"
   },
   {
    "duration": 4788,
    "start_time": "2022-02-02T11:23:03.060Z"
   },
   {
    "duration": 4202,
    "start_time": "2022-02-02T11:23:07.851Z"
   },
   {
    "duration": 5303,
    "start_time": "2022-02-02T11:23:12.057Z"
   },
   {
    "duration": 374,
    "start_time": "2022-02-02T11:23:17.363Z"
   },
   {
    "duration": 3813,
    "start_time": "2022-02-02T11:23:17.740Z"
   },
   {
    "duration": 528,
    "start_time": "2022-02-02T11:23:21.556Z"
   },
   {
    "duration": 75,
    "start_time": "2022-02-02T11:23:22.088Z"
   },
   {
    "duration": 4,
    "start_time": "2022-02-02T11:23:22.166Z"
   },
   {
    "duration": 2105,
    "start_time": "2022-02-02T11:23:22.233Z"
   },
   {
    "duration": 591,
    "start_time": "2022-02-02T11:23:24.341Z"
   },
   {
    "duration": 210,
    "start_time": "2022-02-02T11:23:24.935Z"
   },
   {
    "duration": 93,
    "start_time": "2022-02-02T11:23:25.148Z"
   },
   {
    "duration": 1415,
    "start_time": "2022-02-02T11:23:25.243Z"
   },
   {
    "duration": 7,
    "start_time": "2022-02-02T11:23:26.660Z"
   },
   {
    "duration": 924,
    "start_time": "2022-02-02T11:23:26.733Z"
   },
   {
    "duration": 618,
    "start_time": "2022-02-02T11:23:27.660Z"
   },
   {
    "duration": 386,
    "start_time": "2022-02-02T11:23:28.280Z"
   },
   {
    "duration": 3095,
    "start_time": "2022-02-02T11:23:28.669Z"
   },
   {
    "duration": 1420,
    "start_time": "2022-02-02T11:23:31.767Z"
   },
   {
    "duration": 6422,
    "start_time": "2022-02-02T11:23:33.233Z"
   },
   {
    "duration": 5,
    "start_time": "2022-02-02T11:23:39.660Z"
   },
   {
    "duration": 5,
    "start_time": "2022-02-02T11:23:39.668Z"
   },
   {
    "duration": 57,
    "start_time": "2022-02-02T11:23:39.675Z"
   },
   {
    "duration": 1197,
    "start_time": "2022-02-02T11:23:39.735Z"
   },
   {
    "duration": 1325,
    "start_time": "2022-02-02T11:23:40.936Z"
   },
   {
    "duration": 888,
    "start_time": "2022-02-02T11:23:42.263Z"
   },
   {
    "duration": 2077,
    "start_time": "2022-02-02T11:23:43.155Z"
   },
   {
    "duration": 4117,
    "start_time": "2022-02-02T11:23:45.234Z"
   },
   {
    "duration": 5,
    "start_time": "2022-02-02T11:23:49.354Z"
   },
   {
    "duration": 8,
    "start_time": "2022-02-02T11:23:49.361Z"
   },
   {
    "duration": 71,
    "start_time": "2022-02-02T11:23:49.372Z"
   },
   {
    "duration": 858,
    "start_time": "2022-02-02T11:23:49.445Z"
   },
   {
    "duration": 472,
    "start_time": "2022-02-02T11:23:50.306Z"
   },
   {
    "duration": 1554,
    "start_time": "2022-02-02T11:24:22.720Z"
   },
   {
    "duration": 3089,
    "start_time": "2022-02-02T11:24:58.254Z"
   },
   {
    "duration": 5,
    "start_time": "2022-02-02T11:25:02.969Z"
   },
   {
    "duration": 5,
    "start_time": "2022-02-02T11:25:04.784Z"
   },
   {
    "duration": 5,
    "start_time": "2022-02-02T11:25:07.157Z"
   },
   {
    "duration": 2554,
    "start_time": "2022-02-02T11:25:13.824Z"
   },
   {
    "duration": 4,
    "start_time": "2022-02-02T11:25:17.021Z"
   },
   {
    "duration": 4,
    "start_time": "2022-02-02T11:25:18.441Z"
   },
   {
    "duration": 770,
    "start_time": "2022-02-02T11:26:37.589Z"
   },
   {
    "duration": 1364,
    "start_time": "2022-02-02T11:29:06.695Z"
   },
   {
    "duration": 2378,
    "start_time": "2022-02-02T11:30:19.461Z"
   },
   {
    "duration": 302,
    "start_time": "2022-02-02T11:30:58.987Z"
   },
   {
    "duration": 1631,
    "start_time": "2022-02-02T11:31:33.729Z"
   },
   {
    "duration": 359,
    "start_time": "2022-02-02T11:43:09.124Z"
   },
   {
    "duration": 1101,
    "start_time": "2022-02-02T11:45:50.152Z"
   },
   {
    "duration": 1802,
    "start_time": "2022-02-02T11:46:21.389Z"
   },
   {
    "duration": 2418,
    "start_time": "2022-02-02T11:46:46.046Z"
   },
   {
    "duration": 1438,
    "start_time": "2022-02-02T11:47:19.025Z"
   },
   {
    "duration": 105,
    "start_time": "2022-02-02T11:48:17.515Z"
   },
   {
    "duration": 100,
    "start_time": "2022-02-02T11:48:24.170Z"
   },
   {
    "duration": 124,
    "start_time": "2022-02-02T11:49:00.671Z"
   },
   {
    "duration": 120,
    "start_time": "2022-02-02T11:49:26.246Z"
   },
   {
    "duration": 448,
    "start_time": "2022-02-02T11:49:36.569Z"
   },
   {
    "duration": 459,
    "start_time": "2022-02-02T11:50:38.073Z"
   },
   {
    "duration": 915,
    "start_time": "2022-02-02T11:50:53.817Z"
   },
   {
    "duration": 957,
    "start_time": "2022-02-02T12:02:48.280Z"
   },
   {
    "duration": 6,
    "start_time": "2022-02-02T13:48:19.036Z"
   },
   {
    "duration": 899,
    "start_time": "2022-02-02T13:51:41.734Z"
   },
   {
    "duration": 326,
    "start_time": "2022-02-02T13:51:46.229Z"
   },
   {
    "duration": 15,
    "start_time": "2022-02-02T13:51:57.469Z"
   },
   {
    "duration": 373,
    "start_time": "2022-02-02T13:52:32.116Z"
   },
   {
    "duration": 506,
    "start_time": "2022-02-02T13:54:45.433Z"
   },
   {
    "duration": 287,
    "start_time": "2022-02-02T13:55:41.280Z"
   },
   {
    "duration": 18959,
    "start_time": "2022-02-02T13:59:28.509Z"
   },
   {
    "duration": 9963,
    "start_time": "2022-02-02T13:59:47.471Z"
   },
   {
    "duration": 35,
    "start_time": "2022-02-02T13:59:57.437Z"
   },
   {
    "duration": 920,
    "start_time": "2022-02-02T13:59:57.534Z"
   },
   {
    "duration": 7613,
    "start_time": "2022-02-02T13:59:58.456Z"
   },
   {
    "duration": 5804,
    "start_time": "2022-02-02T14:00:06.072Z"
   },
   {
    "duration": 4654,
    "start_time": "2022-02-02T14:00:11.878Z"
   },
   {
    "duration": 5518,
    "start_time": "2022-02-02T14:00:16.538Z"
   },
   {
    "duration": 390,
    "start_time": "2022-02-02T14:00:22.132Z"
   },
   {
    "duration": 3823,
    "start_time": "2022-02-02T14:00:22.524Z"
   },
   {
    "duration": 627,
    "start_time": "2022-02-02T14:00:26.350Z"
   },
   {
    "duration": 70,
    "start_time": "2022-02-02T14:00:26.980Z"
   },
   {
    "duration": 4,
    "start_time": "2022-02-02T14:00:27.052Z"
   },
   {
    "duration": 1872,
    "start_time": "2022-02-02T14:00:27.066Z"
   },
   {
    "duration": 634,
    "start_time": "2022-02-02T14:00:28.941Z"
   },
   {
    "duration": 271,
    "start_time": "2022-02-02T14:00:29.578Z"
   },
   {
    "duration": 102,
    "start_time": "2022-02-02T14:00:29.852Z"
   },
   {
    "duration": 1403,
    "start_time": "2022-02-02T14:00:29.957Z"
   },
   {
    "duration": 6,
    "start_time": "2022-02-02T14:00:31.363Z"
   },
   {
    "duration": 1010,
    "start_time": "2022-02-02T14:00:31.432Z"
   },
   {
    "duration": 493,
    "start_time": "2022-02-02T14:00:32.445Z"
   },
   {
    "duration": 398,
    "start_time": "2022-02-02T14:00:32.940Z"
   },
   {
    "duration": 3994,
    "start_time": "2022-02-02T14:00:33.343Z"
   },
   {
    "duration": 1916,
    "start_time": "2022-02-02T14:00:37.340Z"
   },
   {
    "duration": 6495,
    "start_time": "2022-02-02T14:00:39.258Z"
   },
   {
    "duration": 5,
    "start_time": "2022-02-02T14:00:45.755Z"
   },
   {
    "duration": 6,
    "start_time": "2022-02-02T14:00:45.762Z"
   },
   {
    "duration": 6,
    "start_time": "2022-02-02T14:00:45.833Z"
   },
   {
    "duration": 1030,
    "start_time": "2022-02-02T14:00:45.842Z"
   },
   {
    "duration": 2270,
    "start_time": "2022-02-02T14:00:46.875Z"
   },
   {
    "duration": 2093,
    "start_time": "2022-02-02T14:00:49.148Z"
   },
   {
    "duration": 891,
    "start_time": "2022-02-02T14:00:51.243Z"
   },
   {
    "duration": 4141,
    "start_time": "2022-02-02T14:00:52.136Z"
   },
   {
    "duration": 55,
    "start_time": "2022-02-02T14:00:56.279Z"
   },
   {
    "duration": 8,
    "start_time": "2022-02-02T14:00:56.337Z"
   },
   {
    "duration": 923,
    "start_time": "2022-02-02T14:00:56.348Z"
   },
   {
    "duration": 6,
    "start_time": "2022-02-02T14:00:57.334Z"
   },
   {
    "duration": 1497,
    "start_time": "2022-02-02T14:00:57.343Z"
   },
   {
    "duration": 1497,
    "start_time": "2022-02-02T14:00:58.843Z"
   },
   {
    "duration": 791,
    "start_time": "2022-02-02T14:01:00.345Z"
   },
   {
    "duration": 438,
    "start_time": "2022-02-02T14:02:39.586Z"
   },
   {
    "duration": 5,
    "start_time": "2022-02-02T14:07:55.617Z"
   },
   {
    "duration": 5,
    "start_time": "2022-02-02T14:08:21.921Z"
   },
   {
    "duration": 6,
    "start_time": "2022-02-02T14:08:51.185Z"
   },
   {
    "duration": 7,
    "start_time": "2022-02-02T14:09:37.382Z"
   },
   {
    "duration": 6,
    "start_time": "2022-02-02T14:09:49.288Z"
   },
   {
    "duration": 5,
    "start_time": "2022-02-02T14:10:08.921Z"
   },
   {
    "duration": 6,
    "start_time": "2022-02-02T14:10:36.230Z"
   },
   {
    "duration": 7,
    "start_time": "2022-02-02T14:10:41.226Z"
   },
   {
    "duration": 6,
    "start_time": "2022-02-02T14:11:20.803Z"
   },
   {
    "duration": 22760,
    "start_time": "2022-02-03T19:39:29.762Z"
   },
   {
    "duration": 10622,
    "start_time": "2022-02-03T19:39:52.526Z"
   },
   {
    "duration": 99,
    "start_time": "2022-02-03T19:40:03.152Z"
   },
   {
    "duration": 909,
    "start_time": "2022-02-03T19:40:03.254Z"
   },
   {
    "duration": 7904,
    "start_time": "2022-02-03T19:42:08.851Z"
   },
   {
    "duration": 12162,
    "start_time": "2022-02-03T21:39:13.814Z"
   },
   {
    "duration": 5350,
    "start_time": "2022-02-03T21:40:12.644Z"
   },
   {
    "duration": 5044,
    "start_time": "2022-02-03T21:40:37.925Z"
   },
   {
    "duration": 2423,
    "start_time": "2022-02-03T21:40:57.014Z"
   },
   {
    "duration": 6,
    "start_time": "2022-02-03T22:09:39.607Z"
   },
   {
    "duration": 9,
    "start_time": "2022-02-03T22:09:46.610Z"
   },
   {
    "duration": 1054,
    "start_time": "2022-02-03T22:09:46.621Z"
   },
   {
    "duration": 57,
    "start_time": "2022-02-03T22:09:47.678Z"
   },
   {
    "duration": 301,
    "start_time": "2022-02-03T22:09:47.738Z"
   },
   {
    "duration": 3464,
    "start_time": "2022-02-03T22:09:48.042Z"
   },
   {
    "duration": 3626,
    "start_time": "2022-02-03T22:09:51.533Z"
   },
   {
    "duration": 3692,
    "start_time": "2022-02-03T22:09:55.161Z"
   },
   {
    "duration": 3485,
    "start_time": "2022-02-03T22:09:58.857Z"
   },
   {
    "duration": 351,
    "start_time": "2022-02-03T22:10:02.346Z"
   },
   {
    "duration": 2353,
    "start_time": "2022-02-03T22:10:02.700Z"
   },
   {
    "duration": 1016,
    "start_time": "2022-02-03T22:10:05.056Z"
   },
   {
    "duration": 101,
    "start_time": "2022-02-03T22:10:06.075Z"
   },
   {
    "duration": 76,
    "start_time": "2022-02-03T22:10:06.179Z"
   },
   {
    "duration": 5,
    "start_time": "2022-02-03T22:10:06.258Z"
   },
   {
    "duration": 1825,
    "start_time": "2022-02-03T22:10:06.334Z"
   },
   {
    "duration": 676,
    "start_time": "2022-02-03T22:10:08.161Z"
   },
   {
    "duration": 122,
    "start_time": "2022-02-03T22:10:08.839Z"
   },
   {
    "duration": 96,
    "start_time": "2022-02-03T22:10:08.964Z"
   },
   {
    "duration": 1585,
    "start_time": "2022-02-03T22:10:09.063Z"
   },
   {
    "duration": 7,
    "start_time": "2022-02-03T22:10:10.651Z"
   },
   {
    "duration": 1040,
    "start_time": "2022-02-03T22:20:30.396Z"
   },
   {
    "duration": 19,
    "start_time": "2022-02-03T22:20:38.863Z"
   },
   {
    "duration": 282,
    "start_time": "2022-02-03T22:20:47.350Z"
   },
   {
    "duration": 292,
    "start_time": "2022-02-03T22:21:05.464Z"
   },
   {
    "duration": 244,
    "start_time": "2022-02-03T22:21:11.971Z"
   },
   {
    "duration": 275,
    "start_time": "2022-02-03T22:21:22.095Z"
   },
   {
    "duration": 4598,
    "start_time": "2022-02-03T22:21:34.637Z"
   },
   {
    "duration": 345,
    "start_time": "2022-02-03T22:37:30.560Z"
   },
   {
    "duration": 9,
    "start_time": "2022-02-03T22:37:51.763Z"
   },
   {
    "duration": 584,
    "start_time": "2022-02-03T22:37:51.775Z"
   },
   {
    "duration": 9,
    "start_time": "2022-02-03T22:37:52.362Z"
   },
   {
    "duration": 121,
    "start_time": "2022-02-03T22:37:52.374Z"
   },
   {
    "duration": 2310,
    "start_time": "2022-02-03T22:37:52.533Z"
   },
   {
    "duration": 1897,
    "start_time": "2022-02-03T22:37:54.846Z"
   },
   {
    "duration": 2391,
    "start_time": "2022-02-03T22:37:56.745Z"
   },
   {
    "duration": 2303,
    "start_time": "2022-02-03T22:37:59.141Z"
   },
   {
    "duration": 316,
    "start_time": "2022-02-03T22:38:01.447Z"
   },
   {
    "duration": 2370,
    "start_time": "2022-02-03T22:38:01.766Z"
   },
   {
    "duration": 511,
    "start_time": "2022-02-03T22:38:04.138Z"
   },
   {
    "duration": 28,
    "start_time": "2022-02-03T22:38:04.651Z"
   },
   {
    "duration": 64,
    "start_time": "2022-02-03T22:38:04.681Z"
   },
   {
    "duration": 3,
    "start_time": "2022-02-03T22:38:04.748Z"
   },
   {
    "duration": 806,
    "start_time": "2022-02-03T22:38:04.754Z"
   },
   {
    "duration": 300,
    "start_time": "2022-02-03T22:38:05.563Z"
   },
   {
    "duration": 86,
    "start_time": "2022-02-03T22:38:05.865Z"
   },
   {
    "duration": 87,
    "start_time": "2022-02-03T22:38:05.954Z"
   },
   {
    "duration": 728,
    "start_time": "2022-02-03T22:38:06.043Z"
   },
   {
    "duration": 63,
    "start_time": "2022-02-03T22:38:06.773Z"
   },
   {
    "duration": 735,
    "start_time": "2022-02-03T22:38:06.839Z"
   },
   {
    "duration": 362,
    "start_time": "2022-02-03T22:38:07.577Z"
   },
   {
    "duration": 332,
    "start_time": "2022-02-03T22:38:07.943Z"
   },
   {
    "duration": 3858,
    "start_time": "2022-02-03T22:38:08.278Z"
   },
   {
    "duration": 1400,
    "start_time": "2022-02-03T22:38:12.139Z"
   },
   {
    "duration": 6444,
    "start_time": "2022-02-03T22:38:13.542Z"
   },
   {
    "duration": 7,
    "start_time": "2022-02-03T22:38:19.988Z"
   },
   {
    "duration": 40,
    "start_time": "2022-02-03T22:38:19.997Z"
   },
   {
    "duration": 1123,
    "start_time": "2022-02-03T22:38:20.039Z"
   },
   {
    "duration": 1785,
    "start_time": "2022-02-03T22:38:21.164Z"
   },
   {
    "duration": 1807,
    "start_time": "2022-02-03T22:38:22.951Z"
   },
   {
    "duration": 836,
    "start_time": "2022-02-03T22:38:24.761Z"
   },
   {
    "duration": 3057,
    "start_time": "2022-02-03T22:38:25.599Z"
   },
   {
    "duration": 5,
    "start_time": "2022-02-03T22:38:28.658Z"
   },
   {
    "duration": 7,
    "start_time": "2022-02-03T22:38:28.665Z"
   },
   {
    "duration": 800,
    "start_time": "2022-02-03T22:38:28.674Z"
   },
   {
    "duration": 5,
    "start_time": "2022-02-03T22:38:29.532Z"
   },
   {
    "duration": 5,
    "start_time": "2022-02-03T22:38:29.540Z"
   },
   {
    "duration": 1288,
    "start_time": "2022-02-03T22:38:29.548Z"
   },
   {
    "duration": 1407,
    "start_time": "2022-02-03T22:38:30.838Z"
   },
   {
    "duration": 1732,
    "start_time": "2022-02-03T22:38:36.237Z"
   },
   {
    "duration": 302,
    "start_time": "2022-02-03T22:39:48.057Z"
   },
   {
    "duration": 469,
    "start_time": "2022-02-03T22:40:28.233Z"
   },
   {
    "duration": 17333,
    "start_time": "2022-02-03T22:49:02.031Z"
   },
   {
    "duration": 9495,
    "start_time": "2022-02-03T22:49:19.368Z"
   },
   {
    "duration": 102,
    "start_time": "2022-02-03T22:49:28.933Z"
   },
   {
    "duration": 998,
    "start_time": "2022-02-03T22:49:29.038Z"
   },
   {
    "duration": 6402,
    "start_time": "2022-02-03T22:49:30.039Z"
   },
   {
    "duration": 4424,
    "start_time": "2022-02-03T22:49:36.444Z"
   },
   {
    "duration": 4669,
    "start_time": "2022-02-03T22:49:40.872Z"
   },
   {
    "duration": 5688,
    "start_time": "2022-02-03T22:49:45.544Z"
   },
   {
    "duration": 330,
    "start_time": "2022-02-03T22:49:51.235Z"
   },
   {
    "duration": 3770,
    "start_time": "2022-02-03T22:49:51.567Z"
   },
   {
    "duration": 618,
    "start_time": "2022-02-03T22:49:55.339Z"
   },
   {
    "duration": 76,
    "start_time": "2022-02-03T22:49:55.960Z"
   },
   {
    "duration": 96,
    "start_time": "2022-02-03T22:49:56.039Z"
   },
   {
    "duration": 4,
    "start_time": "2022-02-03T22:49:56.138Z"
   },
   {
    "duration": 2126,
    "start_time": "2022-02-03T22:49:56.145Z"
   },
   {
    "duration": 673,
    "start_time": "2022-02-03T22:49:58.274Z"
   },
   {
    "duration": 202,
    "start_time": "2022-02-03T22:49:58.949Z"
   },
   {
    "duration": 99,
    "start_time": "2022-02-03T22:49:59.153Z"
   },
   {
    "duration": 1591,
    "start_time": "2022-02-03T22:49:59.256Z"
   },
   {
    "duration": 9,
    "start_time": "2022-02-03T22:50:00.850Z"
   },
   {
    "duration": 1077,
    "start_time": "2022-02-03T22:50:00.861Z"
   },
   {
    "duration": 689,
    "start_time": "2022-02-03T22:50:01.943Z"
   },
   {
    "duration": 337,
    "start_time": "2022-02-03T22:50:02.636Z"
   },
   {
    "duration": 3869,
    "start_time": "2022-02-03T22:50:02.976Z"
   },
   {
    "duration": 1499,
    "start_time": "2022-02-03T22:50:06.847Z"
   },
   {
    "duration": 7791,
    "start_time": "2022-02-03T22:50:08.349Z"
   },
   {
    "duration": 6,
    "start_time": "2022-02-03T22:50:16.143Z"
   },
   {
    "duration": 7,
    "start_time": "2022-02-03T22:50:16.151Z"
   },
   {
    "duration": 1086,
    "start_time": "2022-02-03T22:50:16.160Z"
   },
   {
    "duration": 2214,
    "start_time": "2022-02-03T22:50:17.248Z"
   },
   {
    "duration": 2075,
    "start_time": "2022-02-03T22:50:19.465Z"
   },
   {
    "duration": 849,
    "start_time": "2022-02-03T22:50:21.542Z"
   },
   {
    "duration": 3644,
    "start_time": "2022-02-03T22:50:22.394Z"
   },
   {
    "duration": 5,
    "start_time": "2022-02-03T22:50:26.040Z"
   },
   {
    "duration": 15,
    "start_time": "2022-02-03T22:50:26.047Z"
   },
   {
    "duration": 870,
    "start_time": "2022-02-03T22:50:26.064Z"
   },
   {
    "duration": 6,
    "start_time": "2022-02-03T22:50:26.936Z"
   },
   {
    "duration": 8,
    "start_time": "2022-02-03T22:50:26.945Z"
   },
   {
    "duration": 1928,
    "start_time": "2022-02-03T22:50:26.955Z"
   },
   {
    "duration": 1556,
    "start_time": "2022-02-03T22:50:28.886Z"
   },
   {
    "duration": 750,
    "start_time": "2022-02-03T22:50:30.445Z"
   },
   {
    "duration": 100,
    "start_time": "2022-02-04T00:02:41.205Z"
   },
   {
    "duration": 16185,
    "start_time": "2022-02-04T00:22:15.268Z"
   },
   {
    "duration": 8264,
    "start_time": "2022-02-04T00:22:31.455Z"
   },
   {
    "duration": 94,
    "start_time": "2022-02-04T00:22:39.722Z"
   },
   {
    "duration": 738,
    "start_time": "2022-02-04T00:22:39.818Z"
   },
   {
    "duration": 5461,
    "start_time": "2022-02-04T00:22:40.558Z"
   },
   {
    "duration": 3503,
    "start_time": "2022-02-04T00:22:46.021Z"
   },
   {
    "duration": 3809,
    "start_time": "2022-02-04T00:22:49.525Z"
   },
   {
    "duration": 4595,
    "start_time": "2022-02-04T00:22:53.337Z"
   },
   {
    "duration": 275,
    "start_time": "2022-02-04T00:22:57.934Z"
   },
   {
    "duration": 3492,
    "start_time": "2022-02-04T00:22:58.212Z"
   },
   {
    "duration": 389,
    "start_time": "2022-02-04T00:23:01.710Z"
   },
   {
    "duration": 34,
    "start_time": "2022-02-04T00:23:02.102Z"
   },
   {
    "duration": 63,
    "start_time": "2022-02-04T00:23:02.139Z"
   },
   {
    "duration": 1842,
    "start_time": "2022-02-04T00:23:02.205Z"
   },
   {
    "duration": 650,
    "start_time": "2022-02-04T00:23:04.049Z"
   },
   {
    "duration": 215,
    "start_time": "2022-02-04T00:23:04.701Z"
   },
   {
    "duration": 96,
    "start_time": "2022-02-04T00:23:04.919Z"
   },
   {
    "duration": 1295,
    "start_time": "2022-02-04T00:23:05.017Z"
   },
   {
    "duration": 5,
    "start_time": "2022-02-04T00:23:06.314Z"
   },
   {
    "duration": 882,
    "start_time": "2022-02-04T00:23:06.321Z"
   },
   {
    "duration": 412,
    "start_time": "2022-02-04T00:23:07.205Z"
   },
   {
    "duration": 384,
    "start_time": "2022-02-04T00:23:07.619Z"
   },
   {
    "duration": 3130,
    "start_time": "2022-02-04T00:23:08.008Z"
   },
   {
    "duration": 1675,
    "start_time": "2022-02-04T00:23:11.140Z"
   },
   {
    "duration": 6640,
    "start_time": "2022-02-04T00:23:12.817Z"
   },
   {
    "duration": 45,
    "start_time": "2022-02-04T00:23:19.458Z"
   },
   {
    "duration": 8,
    "start_time": "2022-02-04T00:23:19.506Z"
   },
   {
    "duration": 923,
    "start_time": "2022-02-04T00:23:19.516Z"
   },
   {
    "duration": 1679,
    "start_time": "2022-02-04T00:23:20.441Z"
   },
   {
    "duration": 1814,
    "start_time": "2022-02-04T00:23:22.122Z"
   },
   {
    "duration": 629,
    "start_time": "2022-02-04T00:23:23.938Z"
   },
   {
    "duration": 3096,
    "start_time": "2022-02-04T00:23:24.569Z"
   },
   {
    "duration": 4,
    "start_time": "2022-02-04T00:23:27.667Z"
   },
   {
    "duration": 12,
    "start_time": "2022-02-04T00:23:27.672Z"
   },
   {
    "duration": 615,
    "start_time": "2022-02-04T00:23:27.698Z"
   },
   {
    "duration": 3,
    "start_time": "2022-02-04T00:23:28.315Z"
   },
   {
    "duration": 7,
    "start_time": "2022-02-04T00:23:28.320Z"
   },
   {
    "duration": 1316,
    "start_time": "2022-02-04T00:23:28.329Z"
   },
   {
    "duration": 1278,
    "start_time": "2022-02-04T00:23:29.647Z"
   },
   {
    "duration": 486,
    "start_time": "2022-02-04T00:23:30.926Z"
   },
   {
    "duration": 26410,
    "start_time": "2022-04-19T16:18:13.442Z"
   },
   {
    "duration": 16008,
    "start_time": "2022-04-19T16:18:39.855Z"
   },
   {
    "duration": 114,
    "start_time": "2022-04-19T16:18:55.866Z"
   },
   {
    "duration": 892,
    "start_time": "2022-04-19T16:18:55.984Z"
   },
   {
    "duration": 7574,
    "start_time": "2022-04-19T16:18:56.878Z"
   },
   {
    "duration": 6239,
    "start_time": "2022-04-19T16:19:04.455Z"
   },
   {
    "duration": 4717,
    "start_time": "2022-04-19T16:19:10.753Z"
   },
   {
    "duration": 6801,
    "start_time": "2022-04-19T16:19:15.472Z"
   },
   {
    "duration": 364,
    "start_time": "2022-04-19T16:19:22.276Z"
   },
   {
    "duration": 4237,
    "start_time": "2022-04-19T16:19:22.644Z"
   },
   {
    "duration": 473,
    "start_time": "2022-04-19T16:19:26.883Z"
   },
   {
    "duration": 111,
    "start_time": "2022-04-19T16:19:27.358Z"
   },
   {
    "duration": 4,
    "start_time": "2022-04-19T16:19:27.471Z"
   },
   {
    "duration": 2578,
    "start_time": "2022-04-19T16:19:27.477Z"
   },
   {
    "duration": 200,
    "start_time": "2022-04-19T16:19:30.057Z"
   },
   {
    "duration": 0,
    "start_time": "2022-04-19T16:19:30.260Z"
   },
   {
    "duration": 0,
    "start_time": "2022-04-19T16:19:30.262Z"
   },
   {
    "duration": 0,
    "start_time": "2022-04-19T16:19:30.264Z"
   },
   {
    "duration": 0,
    "start_time": "2022-04-19T16:19:30.266Z"
   },
   {
    "duration": 0,
    "start_time": "2022-04-19T16:19:30.268Z"
   },
   {
    "duration": 0,
    "start_time": "2022-04-19T16:19:30.269Z"
   },
   {
    "duration": 0,
    "start_time": "2022-04-19T16:19:30.270Z"
   },
   {
    "duration": 0,
    "start_time": "2022-04-19T16:19:30.272Z"
   },
   {
    "duration": 0,
    "start_time": "2022-04-19T16:19:30.273Z"
   },
   {
    "duration": 0,
    "start_time": "2022-04-19T16:19:30.274Z"
   },
   {
    "duration": 0,
    "start_time": "2022-04-19T16:19:30.276Z"
   },
   {
    "duration": 0,
    "start_time": "2022-04-19T16:19:30.277Z"
   },
   {
    "duration": 0,
    "start_time": "2022-04-19T16:19:30.278Z"
   },
   {
    "duration": 0,
    "start_time": "2022-04-19T16:19:30.280Z"
   },
   {
    "duration": 0,
    "start_time": "2022-04-19T16:19:30.281Z"
   },
   {
    "duration": 0,
    "start_time": "2022-04-19T16:19:30.283Z"
   },
   {
    "duration": 0,
    "start_time": "2022-04-19T16:19:30.285Z"
   },
   {
    "duration": 0,
    "start_time": "2022-04-19T16:19:30.286Z"
   },
   {
    "duration": 0,
    "start_time": "2022-04-19T16:19:30.288Z"
   },
   {
    "duration": 0,
    "start_time": "2022-04-19T16:19:30.289Z"
   },
   {
    "duration": 0,
    "start_time": "2022-04-19T16:19:30.290Z"
   },
   {
    "duration": 0,
    "start_time": "2022-04-19T16:19:30.292Z"
   },
   {
    "duration": 0,
    "start_time": "2022-04-19T16:19:30.293Z"
   },
   {
    "duration": 0,
    "start_time": "2022-04-19T16:19:30.294Z"
   },
   {
    "duration": 0,
    "start_time": "2022-04-19T16:19:30.352Z"
   },
   {
    "duration": 22933,
    "start_time": "2022-07-21T18:25:53.827Z"
   },
   {
    "duration": 11982,
    "start_time": "2022-07-21T18:26:16.763Z"
   },
   {
    "duration": 42,
    "start_time": "2022-07-21T18:26:28.812Z"
   },
   {
    "duration": 856,
    "start_time": "2022-07-21T18:26:28.858Z"
   },
   {
    "duration": 6507,
    "start_time": "2022-07-21T18:26:29.717Z"
   },
   {
    "duration": 3917,
    "start_time": "2022-07-21T18:26:36.226Z"
   },
   {
    "duration": 4470,
    "start_time": "2022-07-21T18:26:40.145Z"
   },
   {
    "duration": 6095,
    "start_time": "2022-07-21T18:26:44.617Z"
   },
   {
    "duration": 325,
    "start_time": "2022-07-21T18:26:50.714Z"
   },
   {
    "duration": 3580,
    "start_time": "2022-07-21T18:26:51.042Z"
   },
   {
    "duration": 350,
    "start_time": "2022-07-21T18:26:54.624Z"
   },
   {
    "duration": 59,
    "start_time": "2022-07-21T18:26:54.976Z"
   },
   {
    "duration": 4,
    "start_time": "2022-07-21T18:26:55.036Z"
   },
   {
    "duration": 2025,
    "start_time": "2022-07-21T18:26:55.043Z"
   },
   {
    "duration": 242,
    "start_time": "2022-07-21T18:26:57.070Z"
   },
   {
    "duration": 0,
    "start_time": "2022-07-21T18:26:57.314Z"
   },
   {
    "duration": 0,
    "start_time": "2022-07-21T18:26:57.316Z"
   },
   {
    "duration": 0,
    "start_time": "2022-07-21T18:26:57.317Z"
   },
   {
    "duration": 0,
    "start_time": "2022-07-21T18:26:57.319Z"
   },
   {
    "duration": 0,
    "start_time": "2022-07-21T18:26:57.320Z"
   },
   {
    "duration": 0,
    "start_time": "2022-07-21T18:26:57.322Z"
   },
   {
    "duration": 0,
    "start_time": "2022-07-21T18:26:57.323Z"
   },
   {
    "duration": 0,
    "start_time": "2022-07-21T18:26:57.325Z"
   },
   {
    "duration": 0,
    "start_time": "2022-07-21T18:26:57.327Z"
   },
   {
    "duration": 0,
    "start_time": "2022-07-21T18:26:57.327Z"
   },
   {
    "duration": 0,
    "start_time": "2022-07-21T18:26:57.329Z"
   },
   {
    "duration": 0,
    "start_time": "2022-07-21T18:26:57.331Z"
   },
   {
    "duration": 0,
    "start_time": "2022-07-21T18:26:57.333Z"
   },
   {
    "duration": 0,
    "start_time": "2022-07-21T18:26:57.334Z"
   },
   {
    "duration": 0,
    "start_time": "2022-07-21T18:26:57.335Z"
   },
   {
    "duration": 0,
    "start_time": "2022-07-21T18:26:57.337Z"
   },
   {
    "duration": 0,
    "start_time": "2022-07-21T18:26:57.338Z"
   },
   {
    "duration": 0,
    "start_time": "2022-07-21T18:26:57.340Z"
   },
   {
    "duration": 0,
    "start_time": "2022-07-21T18:26:57.342Z"
   },
   {
    "duration": 0,
    "start_time": "2022-07-21T18:26:57.344Z"
   },
   {
    "duration": 0,
    "start_time": "2022-07-21T18:26:57.345Z"
   },
   {
    "duration": 0,
    "start_time": "2022-07-21T18:26:57.346Z"
   },
   {
    "duration": 0,
    "start_time": "2022-07-21T18:26:57.348Z"
   },
   {
    "duration": 0,
    "start_time": "2022-07-21T18:26:57.349Z"
   },
   {
    "duration": 0,
    "start_time": "2022-07-21T18:26:57.351Z"
   },
   {
    "duration": 21,
    "start_time": "2022-07-21T18:33:39.921Z"
   },
   {
    "duration": 178,
    "start_time": "2022-07-21T18:35:22.704Z"
   },
   {
    "duration": 29,
    "start_time": "2022-07-21T18:36:51.756Z"
   },
   {
    "duration": 15,
    "start_time": "2022-07-21T18:38:29.497Z"
   },
   {
    "duration": 15,
    "start_time": "2022-07-21T18:46:43.709Z"
   },
   {
    "duration": 12,
    "start_time": "2022-07-21T18:46:55.866Z"
   },
   {
    "duration": 15,
    "start_time": "2022-07-21T18:47:07.916Z"
   },
   {
    "duration": 9701,
    "start_time": "2022-07-21T18:48:32.911Z"
   },
   {
    "duration": 21,
    "start_time": "2022-07-21T18:48:50.280Z"
   },
   {
    "duration": 16,
    "start_time": "2022-07-21T18:48:54.095Z"
   },
   {
    "duration": 18,
    "start_time": "2022-07-21T18:49:01.878Z"
   },
   {
    "duration": 32,
    "start_time": "2022-07-21T18:49:23.002Z"
   },
   {
    "duration": 14,
    "start_time": "2022-07-21T18:49:58.101Z"
   },
   {
    "duration": 453,
    "start_time": "2022-07-21T18:50:44.682Z"
   },
   {
    "duration": 2900,
    "start_time": "2022-07-21T18:50:51.226Z"
   },
   {
    "duration": 17399,
    "start_time": "2022-07-21T18:51:12.244Z"
   },
   {
    "duration": 9593,
    "start_time": "2022-07-21T18:51:29.645Z"
   },
   {
    "duration": 87,
    "start_time": "2022-07-21T18:51:39.240Z"
   },
   {
    "duration": 804,
    "start_time": "2022-07-21T18:51:39.329Z"
   },
   {
    "duration": 6111,
    "start_time": "2022-07-21T18:51:40.136Z"
   },
   {
    "duration": 3686,
    "start_time": "2022-07-21T18:51:46.249Z"
   },
   {
    "duration": 3874,
    "start_time": "2022-07-21T18:51:49.936Z"
   },
   {
    "duration": 5815,
    "start_time": "2022-07-21T18:51:53.812Z"
   },
   {
    "duration": 245,
    "start_time": "2022-07-21T18:51:59.629Z"
   },
   {
    "duration": 3960,
    "start_time": "2022-07-21T18:51:59.876Z"
   },
   {
    "duration": 426,
    "start_time": "2022-07-21T18:52:03.837Z"
   },
   {
    "duration": 64,
    "start_time": "2022-07-21T18:52:04.264Z"
   },
   {
    "duration": 4,
    "start_time": "2022-07-21T18:52:04.330Z"
   },
   {
    "duration": 1680,
    "start_time": "2022-07-21T18:52:04.338Z"
   },
   {
    "duration": 522,
    "start_time": "2022-07-21T18:52:06.020Z"
   },
   {
    "duration": 175,
    "start_time": "2022-07-21T18:52:06.545Z"
   },
   {
    "duration": 99,
    "start_time": "2022-07-21T18:52:06.722Z"
   },
   {
    "duration": 1488,
    "start_time": "2022-07-21T18:52:06.823Z"
   },
   {
    "duration": 6,
    "start_time": "2022-07-21T18:52:08.314Z"
   },
   {
    "duration": 505,
    "start_time": "2022-07-21T18:52:08.322Z"
   },
   {
    "duration": 481,
    "start_time": "2022-07-21T18:52:08.830Z"
   },
   {
    "duration": 245,
    "start_time": "2022-07-21T18:52:09.314Z"
   },
   {
    "duration": 2927,
    "start_time": "2022-07-21T18:52:09.609Z"
   },
   {
    "duration": 1512,
    "start_time": "2022-07-21T18:52:12.538Z"
   },
   {
    "duration": 5338,
    "start_time": "2022-07-21T18:52:14.111Z"
   },
   {
    "duration": 60,
    "start_time": "2022-07-21T18:52:19.452Z"
   },
   {
    "duration": 7,
    "start_time": "2022-07-21T18:52:19.514Z"
   },
   {
    "duration": 912,
    "start_time": "2022-07-21T18:52:19.523Z"
   },
   {
    "duration": 1809,
    "start_time": "2022-07-21T18:52:20.436Z"
   },
   {
    "duration": 1319,
    "start_time": "2022-07-21T18:52:22.247Z"
   },
   {
    "duration": 946,
    "start_time": "2022-07-21T18:52:23.569Z"
   },
   {
    "duration": 2110,
    "start_time": "2022-07-21T18:52:24.517Z"
   },
   {
    "duration": 4,
    "start_time": "2022-07-21T18:52:26.629Z"
   },
   {
    "duration": 75,
    "start_time": "2022-07-21T18:52:26.635Z"
   },
   {
    "duration": 743,
    "start_time": "2022-07-21T18:52:26.712Z"
   },
   {
    "duration": 4,
    "start_time": "2022-07-21T18:52:27.510Z"
   },
   {
    "duration": 8,
    "start_time": "2022-07-21T18:52:27.516Z"
   },
   {
    "duration": 1190,
    "start_time": "2022-07-21T18:52:27.526Z"
   },
   {
    "duration": 875,
    "start_time": "2022-07-21T18:52:28.718Z"
   },
   {
    "duration": 416,
    "start_time": "2022-07-21T18:52:29.610Z"
   }
  ],
  "colab": {
   "name": "PySparkSprint.ipynb",
   "provenance": []
  },
  "kernelspec": {
   "display_name": "Python 3 (ipykernel)",
   "language": "python",
   "name": "python3"
  },
  "language_info": {
   "codemirror_mode": {
    "name": "ipython",
    "version": 3
   },
   "file_extension": ".py",
   "mimetype": "text/x-python",
   "name": "python",
   "nbconvert_exporter": "python",
   "pygments_lexer": "ipython3",
   "version": "3.10.3"
  },
  "toc": {
   "base_numbering": 1,
   "nav_menu": {},
   "number_sections": true,
   "sideBar": true,
   "skip_h1_title": false,
   "title_cell": "Table of Contents",
   "title_sidebar": "Contents",
   "toc_cell": true,
   "toc_position": {},
   "toc_section_display": true,
   "toc_window_display": true
  }
 },
 "nbformat": 4,
 "nbformat_minor": 5
}
