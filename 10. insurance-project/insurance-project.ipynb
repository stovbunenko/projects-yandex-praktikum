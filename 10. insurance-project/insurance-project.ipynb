{
 "cells": [
  {
   "cell_type": "markdown",
   "metadata": {
    "toc": true
   },
   "source": [
    "<h1>Содержание<span class=\"tocSkip\"></span></h1>\n",
    "<div class=\"toc\"><ul class=\"toc-item\"><li><span><a href=\"#Загрузка-данных\" data-toc-modified-id=\"Загрузка-данных-1\"><span class=\"toc-item-num\">1&nbsp;&nbsp;</span>Загрузка данных</a></span><ul class=\"toc-item\"><li><span><a href=\"#Вывод\" data-toc-modified-id=\"Вывод-1.1\"><span class=\"toc-item-num\">1.1&nbsp;&nbsp;</span>Вывод</a></span></li></ul></li><li><span><a href=\"#Умножение-матриц\" data-toc-modified-id=\"Умножение-матриц-2\"><span class=\"toc-item-num\">2&nbsp;&nbsp;</span>Умножение матриц</a></span></li><li><span><a href=\"#Алгоритм-преобразования\" data-toc-modified-id=\"Алгоритм-преобразования-3\"><span class=\"toc-item-num\">3&nbsp;&nbsp;</span>Алгоритм преобразования</a></span></li><li><span><a href=\"#Проверка-алгоритма\" data-toc-modified-id=\"Проверка-алгоритма-4\"><span class=\"toc-item-num\">4&nbsp;&nbsp;</span>Проверка алгоритма</a></span><ul class=\"toc-item\"><li><span><a href=\"#Вывод\" data-toc-modified-id=\"Вывод-4.1\"><span class=\"toc-item-num\">4.1&nbsp;&nbsp;</span>Вывод</a></span></li></ul></li><li><span><a href=\"#Чек-лист-проверки\" data-toc-modified-id=\"Чек-лист-проверки-5\"><span class=\"toc-item-num\">5&nbsp;&nbsp;</span>Чек-лист проверки</a></span></li></ul></div>"
   ]
  },
  {
   "cell_type": "markdown",
   "metadata": {},
   "source": [
    "# Защита персональных данных клиентов"
   ]
  },
  {
   "cell_type": "markdown",
   "metadata": {},
   "source": [
    "Вам нужно защитить данные клиентов страховой компании «Хоть потоп». Разработайте такой метод преобразования данных, чтобы по ним было сложно восстановить персональную информацию. Обоснуйте корректность его работы.\n",
    "\n",
    "Нужно защитить данные, чтобы при преобразовании качество моделей машинного обучения не ухудшилось. Подбирать наилучшую модель не требуется."
   ]
  },
  {
   "cell_type": "markdown",
   "metadata": {},
   "source": [
    "- **Признаки:** пол, возраст и зарплата застрахованного, количество членов его семьи.\n",
    "- **Целевой признак:** количество страховых выплат клиенту за последние 5 лет."
   ]
  },
  {
   "cell_type": "markdown",
   "metadata": {},
   "source": [
    "## Загрузка данных"
   ]
  },
  {
   "cell_type": "code",
   "execution_count": 1,
   "metadata": {},
   "outputs": [],
   "source": [
    "import pandas as pd \n",
    "from IPython.display import display \n",
    "pd.set_option('display.max_columns', None) \n",
    "pd.set_option('display.float_format', '{:.3f}'.format) \n",
    "\n",
    "import matplotlib.pyplot as plt\n",
    "import numpy as np\n",
    "\n",
    "import seaborn as sns\n",
    "import warnings\n",
    "warnings.filterwarnings('ignore')\n",
    "\n",
    "from sklearn.linear_model import LinearRegression \n",
    "\n",
    "from sklearn.metrics import r2_score"
   ]
  },
  {
   "cell_type": "code",
   "execution_count": 3,
   "metadata": {},
   "outputs": [
    {
     "data": {
      "text/html": [
       "<div>\n",
       "<style scoped>\n",
       "    .dataframe tbody tr th:only-of-type {\n",
       "        vertical-align: middle;\n",
       "    }\n",
       "\n",
       "    .dataframe tbody tr th {\n",
       "        vertical-align: top;\n",
       "    }\n",
       "\n",
       "    .dataframe thead th {\n",
       "        text-align: right;\n",
       "    }\n",
       "</style>\n",
       "<table border=\"1\" class=\"dataframe\">\n",
       "  <thead>\n",
       "    <tr style=\"text-align: right;\">\n",
       "      <th></th>\n",
       "      <th>Пол</th>\n",
       "      <th>Возраст</th>\n",
       "      <th>Зарплата</th>\n",
       "      <th>Члены семьи</th>\n",
       "      <th>Страховые выплаты</th>\n",
       "    </tr>\n",
       "  </thead>\n",
       "  <tbody>\n",
       "    <tr>\n",
       "      <td>0</td>\n",
       "      <td>1</td>\n",
       "      <td>41.000</td>\n",
       "      <td>49600.000</td>\n",
       "      <td>1</td>\n",
       "      <td>0</td>\n",
       "    </tr>\n",
       "    <tr>\n",
       "      <td>1</td>\n",
       "      <td>0</td>\n",
       "      <td>46.000</td>\n",
       "      <td>38000.000</td>\n",
       "      <td>1</td>\n",
       "      <td>1</td>\n",
       "    </tr>\n",
       "    <tr>\n",
       "      <td>2</td>\n",
       "      <td>0</td>\n",
       "      <td>29.000</td>\n",
       "      <td>21000.000</td>\n",
       "      <td>0</td>\n",
       "      <td>0</td>\n",
       "    </tr>\n",
       "    <tr>\n",
       "      <td>3</td>\n",
       "      <td>0</td>\n",
       "      <td>21.000</td>\n",
       "      <td>41700.000</td>\n",
       "      <td>2</td>\n",
       "      <td>0</td>\n",
       "    </tr>\n",
       "    <tr>\n",
       "      <td>4</td>\n",
       "      <td>1</td>\n",
       "      <td>28.000</td>\n",
       "      <td>26100.000</td>\n",
       "      <td>0</td>\n",
       "      <td>0</td>\n",
       "    </tr>\n",
       "  </tbody>\n",
       "</table>\n",
       "</div>"
      ],
      "text/plain": [
       "   Пол  Возраст  Зарплата  Члены семьи  Страховые выплаты\n",
       "0    1   41.000 49600.000            1                  0\n",
       "1    0   46.000 38000.000            1                  1\n",
       "2    0   29.000 21000.000            0                  0\n",
       "3    0   21.000 41700.000            2                  0\n",
       "4    1   28.000 26100.000            0                  0"
      ]
     },
     "execution_count": 3,
     "metadata": {},
     "output_type": "execute_result"
    }
   ],
   "source": [
    "df.head()"
   ]
  },
  {
   "cell_type": "code",
   "execution_count": 4,
   "metadata": {},
   "outputs": [
    {
     "name": "stdout",
     "output_type": "stream",
     "text": [
      "<class 'pandas.core.frame.DataFrame'>\n",
      "RangeIndex: 5000 entries, 0 to 4999\n",
      "Data columns (total 5 columns):\n",
      "Пол                  5000 non-null int64\n",
      "Возраст              5000 non-null float64\n",
      "Зарплата             5000 non-null float64\n",
      "Члены семьи          5000 non-null int64\n",
      "Страховые выплаты    5000 non-null int64\n",
      "dtypes: float64(2), int64(3)\n",
      "memory usage: 195.4 KB\n"
     ]
    }
   ],
   "source": [
    "df.info()"
   ]
  },
  {
   "cell_type": "code",
   "execution_count": 5,
   "metadata": {},
   "outputs": [
    {
     "data": {
      "text/html": [
       "<div>\n",
       "<style scoped>\n",
       "    .dataframe tbody tr th:only-of-type {\n",
       "        vertical-align: middle;\n",
       "    }\n",
       "\n",
       "    .dataframe tbody tr th {\n",
       "        vertical-align: top;\n",
       "    }\n",
       "\n",
       "    .dataframe thead th {\n",
       "        text-align: right;\n",
       "    }\n",
       "</style>\n",
       "<table border=\"1\" class=\"dataframe\">\n",
       "  <thead>\n",
       "    <tr style=\"text-align: right;\">\n",
       "      <th></th>\n",
       "      <th>Пол</th>\n",
       "      <th>Возраст</th>\n",
       "      <th>Зарплата</th>\n",
       "      <th>Члены семьи</th>\n",
       "      <th>Страховые выплаты</th>\n",
       "    </tr>\n",
       "  </thead>\n",
       "  <tbody>\n",
       "    <tr>\n",
       "      <td>count</td>\n",
       "      <td>5000.000</td>\n",
       "      <td>5000.000</td>\n",
       "      <td>5000.000</td>\n",
       "      <td>5000.000</td>\n",
       "      <td>5000.000</td>\n",
       "    </tr>\n",
       "    <tr>\n",
       "      <td>mean</td>\n",
       "      <td>0.499</td>\n",
       "      <td>30.953</td>\n",
       "      <td>39916.360</td>\n",
       "      <td>1.194</td>\n",
       "      <td>0.148</td>\n",
       "    </tr>\n",
       "    <tr>\n",
       "      <td>std</td>\n",
       "      <td>0.500</td>\n",
       "      <td>8.441</td>\n",
       "      <td>9900.084</td>\n",
       "      <td>1.091</td>\n",
       "      <td>0.463</td>\n",
       "    </tr>\n",
       "    <tr>\n",
       "      <td>min</td>\n",
       "      <td>0.000</td>\n",
       "      <td>18.000</td>\n",
       "      <td>5300.000</td>\n",
       "      <td>0.000</td>\n",
       "      <td>0.000</td>\n",
       "    </tr>\n",
       "    <tr>\n",
       "      <td>25%</td>\n",
       "      <td>0.000</td>\n",
       "      <td>24.000</td>\n",
       "      <td>33300.000</td>\n",
       "      <td>0.000</td>\n",
       "      <td>0.000</td>\n",
       "    </tr>\n",
       "    <tr>\n",
       "      <td>50%</td>\n",
       "      <td>0.000</td>\n",
       "      <td>30.000</td>\n",
       "      <td>40200.000</td>\n",
       "      <td>1.000</td>\n",
       "      <td>0.000</td>\n",
       "    </tr>\n",
       "    <tr>\n",
       "      <td>75%</td>\n",
       "      <td>1.000</td>\n",
       "      <td>37.000</td>\n",
       "      <td>46600.000</td>\n",
       "      <td>2.000</td>\n",
       "      <td>0.000</td>\n",
       "    </tr>\n",
       "    <tr>\n",
       "      <td>max</td>\n",
       "      <td>1.000</td>\n",
       "      <td>65.000</td>\n",
       "      <td>79000.000</td>\n",
       "      <td>6.000</td>\n",
       "      <td>5.000</td>\n",
       "    </tr>\n",
       "  </tbody>\n",
       "</table>\n",
       "</div>"
      ],
      "text/plain": [
       "           Пол  Возраст  Зарплата  Члены семьи  Страховые выплаты\n",
       "count 5000.000 5000.000  5000.000     5000.000           5000.000\n",
       "mean     0.499   30.953 39916.360        1.194              0.148\n",
       "std      0.500    8.441  9900.084        1.091              0.463\n",
       "min      0.000   18.000  5300.000        0.000              0.000\n",
       "25%      0.000   24.000 33300.000        0.000              0.000\n",
       "50%      0.000   30.000 40200.000        1.000              0.000\n",
       "75%      1.000   37.000 46600.000        2.000              0.000\n",
       "max      1.000   65.000 79000.000        6.000              5.000"
      ]
     },
     "execution_count": 5,
     "metadata": {},
     "output_type": "execute_result"
    }
   ],
   "source": [
    "df.describe()"
   ]
  },
  {
   "cell_type": "code",
   "execution_count": 6,
   "metadata": {},
   "outputs": [
    {
     "data": {
      "image/png": "[encoded data removed]",
      "text/plain": [
       "<Figure size 720x432 with 1 Axes>"
      ]
     },
     "metadata": {
      "needs_background": "light"
     },
     "output_type": "display_data"
    },
    {
     "data": {
      "image/png": "[encoded data removed]",
      "text/plain": [
       "<Figure size 720x432 with 1 Axes>"
      ]
     },
     "metadata": {
      "needs_background": "light"
     },
     "output_type": "display_data"
    },
    {
     "data": {
      "image/png": "[encoded data removed]",
      "text/plain": [
       "<Figure size 720x432 with 1 Axes>"
      ]
     },
     "metadata": {
      "needs_background": "light"
     },
     "output_type": "display_data"
    },
    {
     "data": {
      "image/png": "[encoded data removed]",
      "text/plain": [
       "<Figure size 720x432 with 1 Axes>"
      ]
     },
     "metadata": {
      "needs_background": "light"
     },
     "output_type": "display_data"
    }
   ],
   "source": [
    "columns = ['Возраст', 'Зарплата', 'Страховые выплаты', 'Члены семьи']\n",
    "for col in columns:\n",
    "    plt.figure(figsize=(10,6))\n",
    "    sns.distplot(df[col])\n",
    "    plt.title(f'Диаграмма плотности для параметра {col}')\n",
    "\n",
    "    plt.show()"
   ]
  },
  {
   "cell_type": "markdown",
   "metadata": {},
   "source": [
    "Проверим дубликаты:"
   ]
  },
  {
   "cell_type": "code",
   "execution_count": 7,
   "metadata": {},
   "outputs": [
    {
     "data": {
      "text/plain": [
       "153"
      ]
     },
     "execution_count": 7,
     "metadata": {},
     "output_type": "execute_result"
    }
   ],
   "source": [
    "df.duplicated().sum()"
   ]
  },
  {
   "cell_type": "markdown",
   "metadata": {},
   "source": [
    "удалим дубликаты:"
   ]
  },
  {
   "cell_type": "code",
   "execution_count": 8,
   "metadata": {},
   "outputs": [
    {
     "data": {
      "text/plain": [
       "0"
      ]
     },
     "execution_count": 8,
     "metadata": {},
     "output_type": "execute_result"
    }
   ],
   "source": [
    "df.drop_duplicates(inplace=True)\n",
    "df.duplicated().sum()"
   ]
  },
  {
   "cell_type": "markdown",
   "metadata": {},
   "source": [
    "Проверим датасет на мультиколениарность:"
   ]
  },
  {
   "cell_type": "code",
   "execution_count": 9,
   "metadata": {},
   "outputs": [
    {
     "data": {
      "image/png": "[encoded data removed]",
      "text/plain": [
       "<Figure size 504x504 with 2 Axes>"
      ]
     },
     "metadata": {
      "needs_background": "light"
     },
     "output_type": "display_data"
    }
   ],
   "source": [
    "plt.rcParams['figure.figsize'] = (7.0, 7.0)\n",
    "sns.heatmap(df.corr(), annot=True, linewidths=3, linecolor='white')\n",
    "plt.show()"
   ]
  },
  {
   "cell_type": "markdown",
   "metadata": {},
   "source": [
    "Матрица корреляций не выявила значительных зависимостей между обучающими признаками."
   ]
  },
  {
   "cell_type": "markdown",
   "metadata": {},
   "source": [
    "### Вывод"
   ]
  },
  {
   "cell_type": "markdown",
   "metadata": {},
   "source": [
    "**Вывод основных характеристик и параметров показал**:\n",
    "\n",
    "- Все данные в датасете заполнены (пропусков нет).\n",
    "- Типы данных изменений не требуют.\n",
    "- Значительных выбросов и аномальных значений не выявлено.\n",
    "- Выявлены и удалены дубликаты.\n",
    "- Предобработка данным не нужна"
   ]
  },
  {
   "cell_type": "markdown",
   "metadata": {},
   "source": [
    "## Умножение матриц"
   ]
  },
  {
   "cell_type": "markdown",
   "metadata": {},
   "source": [
    "В этом задании вы можете записывать формулы в *Jupyter Notebook.*\n",
    "\n",
    "Чтобы записать формулу внутри текста, окружите её символами доллара \\\\$; если снаружи —  двойными символами \\\\$\\\\$. Эти формулы записываются на языке вёрстки *LaTeX.* \n",
    "\n",
    "Для примера мы записали формулы линейной регрессии. Можете их скопировать и отредактировать, чтобы решить задачу.\n",
    "\n",
    "Работать в *LaTeX* необязательно."
   ]
  },
  {
   "cell_type": "markdown",
   "metadata": {},
   "source": [
    "Обозначения:\n",
    "\n",
    "- $X$ — матрица признаков (нулевой столбец состоит из единиц)\n",
    "\n",
    "- $y$ — вектор целевого признака\n",
    "\n",
    "- $P$ — матрица, на которую умножаются признаки\n",
    "\n",
    "- $w$ — вектор весов линейной регрессии (нулевой элемент равен сдвигу)"
   ]
  },
  {
   "cell_type": "markdown",
   "metadata": {},
   "source": [
    "Предсказания:\n",
    "\n",
    "$$\n",
    "a = Xw\n",
    "$$\n",
    "\n",
    "Задача обучения:\n",
    "\n",
    "$$\n",
    "w = \\arg\\min_w MSE(Xw, y)\n",
    "$$\n",
    "\n",
    "Формула обучения:\n",
    "\n",
    "$$\n",
    "w = (X^T X)^{-1} X^T y\n",
    "$$"
   ]
  },
  {
   "cell_type": "markdown",
   "metadata": {},
   "source": [
    "**Вопрос**\n",
    "- Признаки умножают на обратимую матрицу. Изменится ли качество линейной регрессии? (Её можно обучить заново.)"
   ]
  },
  {
   "cell_type": "markdown",
   "metadata": {},
   "source": [
    "**Ответ:** не изменится"
   ]
  },
  {
   "cell_type": "markdown",
   "metadata": {},
   "source": [
    "**Обоснование:** \n",
    "\n",
    "Для обоснования ответа получим предсказания для домноженных признаков. Пусть наши признаки будут как в исходном датасете размерностью 5000 на 4, а матрица для домножения 4 на 4. Умноженная матрица будет иметь вид X * P. Тогда фомула предсказаний примет следующий вид:\n",
    "\n",
    "$$\n",
    "a' = XP'w\n",
    "$$"
   ]
  },
  {
   "cell_type": "markdown",
   "metadata": {},
   "source": [
    "$$\n",
    "a' = X'w' = XPw'\n",
    "$$"
   ]
  },
  {
   "cell_type": "markdown",
   "metadata": {},
   "source": [
    "$$\n",
    "w' = (X'^T X')^{-1} X'^T y = ((XP)^TXP)^{-1})(XP)^Ty\n",
    "$$"
   ]
  },
  {
   "cell_type": "markdown",
   "metadata": {},
   "source": [
    "Подставим в формулу предсказаний формулу обучения для матрицы X P:\n",
    "\n",
    "$$\n",
    "a' = XP((XP)^TXP)^{-1})(XP)^Ty\n",
    "$$\n",
    "\n",
    "Воспользуемся следующими свойствами матриц:\n",
    "\n",
    "$$\n",
    "(AB)^{-1} = B^{-1}A^{-1}\n",
    "$$\n",
    "$$\n",
    "(AB)^T = B^TA^T\n",
    "$$\n",
    "$$\n",
    "AA^{-1} = E\n",
    "$$\n",
    "$$\n",
    "AE = EA = A\n",
    "$$\n",
    "\n",
    "\n",
    "\n",
    "Раскроем скобки с транспонированием матриц, получится следующее уравнение:\n",
    "\n",
    "$$\n",
    "a' = XP(P^TX^TXP)^{-1})P^TX^Ty\n",
    "$$\n",
    "\n",
    "Внутри скобок, от множителей которых берется обратная матрица остались следующие матрицы:  $P^T$ размером 4х4, $X^T$ размером 4х5000, $X$ размером 5000x4, $P$ размером 4x4. Одно из дополнительных свойств матриц, о котором следует помнить слудующее $A(BC)=(AB)C$ . Оно позволяет группировать матрицы внутри произведения различным образом. Т.к. обратная матрица может браться только от квадратной матрицы, то для раскрытия скобок данного произведения нам надо сгруппировать его множители так, чтобы они были квадратными матрицами."
   ]
  },
  {
   "cell_type": "markdown",
   "metadata": {},
   "source": [
    "Выделим 2 множителя произведения $P^TX^TX$ и P и раскроем скобки:\n",
    "\n",
    "$$\n",
    "a' = XPP^{-1}(P^TX^TX)^{-1}P^TX^Ty\n",
    "$$\n",
    "\n",
    "Выделим внутри оставшихся скобок множители $P^T$ и $X^TX$ и раскроем скобки:\n",
    "\n",
    "$$\n",
    "a' = XPP^{-1}(X^TX)^{-1}(P^T)^{-1}P^TX^Ty\n",
    "$$\n",
    "\n",
    "Произведения $PP^{-1}$ и $(P^T)^{-1}P^T$ дают единичные матрицы, которые можно исключить из уровнения. С учетом этого формула принимает вид:\n",
    "\n",
    "$$\n",
    "a' = X^TX^{-1}X^Ty\n",
    "$$\n",
    "\n",
    "Не сложно заметить, что произведение  равно , тогда:\n",
    "\n",
    "$$\n",
    "a' = Xw\n",
    "$$\n",
    "\n",
    "Таким образом, мы получили аналогичную формулу предсказаний, что и была в начале, значит домножение признаков на обратимую матрицу не влияет на предсказания модели."
   ]
  },
  {
   "cell_type": "markdown",
   "metadata": {},
   "source": [
    "## Алгоритм преобразования"
   ]
  },
  {
   "cell_type": "markdown",
   "metadata": {},
   "source": [
    "**Алгоритм**\n",
    "\n",
    "В качестве алгоритма преобразования примем домножение обучающих признаков X на случайную обратимую матрицу P размером 4х4. Создадим модель линейной регрессии до преобразования и посчитаем метрику R2. Далее умножим исходные признаки на обратимую матрицу и на основе полученных значений вновь посчитаем метрику R2. Метрики R2 по итогу должны быть равны."
   ]
  },
  {
   "cell_type": "markdown",
   "metadata": {},
   "source": [
    "**Обоснование**\n",
    "\n",
    "Как было показано в предыдущем пункте, домножение признаков на какую-либо обратимую матрицу не приводит к изменению предсказаний, поэтому результаты R2 должны оказаться равны"
   ]
  },
  {
   "cell_type": "markdown",
   "metadata": {},
   "source": [
    "## Проверка алгоритма"
   ]
  },
  {
   "cell_type": "markdown",
   "metadata": {},
   "source": [
    "Подготовим необходимые признаки: \n",
    "- обучающие признаки исходные, \n",
    "- целевой признак,\n",
    "- матрицу для умножения, \n",
    "- обучающие признаки после умножения.\n",
    "\n",
    "После подготовки признаков проведем машинное обучение с помощью алгоритма линейной регрессии для признаков (до умножения и после). Сделаем в каждом случае предсказания и определим метрики r2"
   ]
  },
  {
   "cell_type": "markdown",
   "metadata": {},
   "source": [
    "Cоздадим признаки для исходного состояния:"
   ]
  },
  {
   "cell_type": "code",
   "execution_count": 10,
   "metadata": {},
   "outputs": [
    {
     "data": {
      "text/html": [
       "<div>\n",
       "<style scoped>\n",
       "    .dataframe tbody tr th:only-of-type {\n",
       "        vertical-align: middle;\n",
       "    }\n",
       "\n",
       "    .dataframe tbody tr th {\n",
       "        vertical-align: top;\n",
       "    }\n",
       "\n",
       "    .dataframe thead th {\n",
       "        text-align: right;\n",
       "    }\n",
       "</style>\n",
       "<table border=\"1\" class=\"dataframe\">\n",
       "  <thead>\n",
       "    <tr style=\"text-align: right;\">\n",
       "      <th></th>\n",
       "      <th>Пол</th>\n",
       "      <th>Возраст</th>\n",
       "      <th>Зарплата</th>\n",
       "      <th>Члены семьи</th>\n",
       "    </tr>\n",
       "  </thead>\n",
       "  <tbody>\n",
       "    <tr>\n",
       "      <td>0</td>\n",
       "      <td>1</td>\n",
       "      <td>41.000</td>\n",
       "      <td>49600.000</td>\n",
       "      <td>1</td>\n",
       "    </tr>\n",
       "    <tr>\n",
       "      <td>1</td>\n",
       "      <td>0</td>\n",
       "      <td>46.000</td>\n",
       "      <td>38000.000</td>\n",
       "      <td>1</td>\n",
       "    </tr>\n",
       "    <tr>\n",
       "      <td>2</td>\n",
       "      <td>0</td>\n",
       "      <td>29.000</td>\n",
       "      <td>21000.000</td>\n",
       "      <td>0</td>\n",
       "    </tr>\n",
       "    <tr>\n",
       "      <td>3</td>\n",
       "      <td>0</td>\n",
       "      <td>21.000</td>\n",
       "      <td>41700.000</td>\n",
       "      <td>2</td>\n",
       "    </tr>\n",
       "    <tr>\n",
       "      <td>4</td>\n",
       "      <td>1</td>\n",
       "      <td>28.000</td>\n",
       "      <td>26100.000</td>\n",
       "      <td>0</td>\n",
       "    </tr>\n",
       "  </tbody>\n",
       "</table>\n",
       "</div>"
      ],
      "text/plain": [
       "   Пол  Возраст  Зарплата  Члены семьи\n",
       "0    1   41.000 49600.000            1\n",
       "1    0   46.000 38000.000            1\n",
       "2    0   29.000 21000.000            0\n",
       "3    0   21.000 41700.000            2\n",
       "4    1   28.000 26100.000            0"
      ]
     },
     "metadata": {},
     "output_type": "display_data"
    },
    {
     "data": {
      "text/plain": [
       "0    0\n",
       "1    1\n",
       "2    0\n",
       "3    0\n",
       "4    0\n",
       "Name: Страховые выплаты, dtype: int64"
      ]
     },
     "metadata": {},
     "output_type": "display_data"
    }
   ],
   "source": [
    "features = df.drop('Страховые выплаты', axis=1)\n",
    "target = df['Страховые выплаты']\n",
    "display(features.head())\n",
    "display(target.head())"
   ]
  },
  {
   "cell_type": "markdown",
   "metadata": {},
   "source": [
    "Проведем моделирование:"
   ]
  },
  {
   "cell_type": "code",
   "execution_count": 11,
   "metadata": {},
   "outputs": [
    {
     "name": "stdout",
     "output_type": "stream",
     "text": [
      "Метрика R2 для признаков в исходном состоянии равняется 0.4302010044852067\n"
     ]
    }
   ],
   "source": [
    "model = LinearRegression()\n",
    "model.fit(features, target)\n",
    "predictions = model.predict(features)\n",
    "r2 = r2_score(target, predictions)\n",
    "print(f'Метрика R2 для признаков в исходном состоянии равняется {r2}')"
   ]
  },
  {
   "cell_type": "markdown",
   "metadata": {},
   "source": [
    "Теперь необходимо создать обратимую матрицу размером 4 на 4. Достаточно важным является не создать случайно необратимую матрицу, т.к. это нарушит наш алгоритм. \n",
    "\n",
    "По одной из теорем обратных матриц: \n",
    "- для существования обратной матрицы $A^{-1}$ необходимо и достаточно, чтобы матрица $A$ была невырожденной, то есть, чтобы ее определитель не был равен нулю. \n",
    "\n",
    "Заложим проверку данного условия при создании обратимой матрицы."
   ]
  },
  {
   "cell_type": "markdown",
   "metadata": {},
   "source": [
    "Зададим исходную точку определителя:"
   ]
  },
  {
   "cell_type": "code",
   "execution_count": 12,
   "metadata": {},
   "outputs": [
    {
     "data": {
      "text/plain": [
       "array([[ 1.0913876 , -2.22698328,  1.05309807, -0.44101165],\n",
       "       [ 0.0365905 ,  1.06919752,  0.32209592, -0.34165824],\n",
       "       [-0.43596953, -0.26161832, -0.30438638,  1.34173838],\n",
       "       [ 0.62801445,  0.23349711, -0.23543959,  0.72154942]])"
      ]
     },
     "execution_count": 12,
     "metadata": {},
     "output_type": "execute_result"
    }
   ],
   "source": [
    "a = 0\n",
    "b = 0\n",
    "while a == 0:\n",
    "    b = np.random.normal(size=(4, 4))\n",
    "    a = np.linalg.det(b)\n",
    "b"
   ]
  },
  {
   "cell_type": "markdown",
   "metadata": {},
   "source": [
    "Матрица обратима, умножим исходные признаки на нашу матрицу:"
   ]
  },
  {
   "cell_type": "code",
   "execution_count": 13,
   "metadata": {},
   "outputs": [
    {
     "data": {
      "text/html": [
       "<div>\n",
       "<style scoped>\n",
       "    .dataframe tbody tr th:only-of-type {\n",
       "        vertical-align: middle;\n",
       "    }\n",
       "\n",
       "    .dataframe tbody tr th {\n",
       "        vertical-align: top;\n",
       "    }\n",
       "\n",
       "    .dataframe thead th {\n",
       "        text-align: right;\n",
       "    }\n",
       "</style>\n",
       "<table border=\"1\" class=\"dataframe\">\n",
       "  <thead>\n",
       "    <tr style=\"text-align: right;\">\n",
       "      <th></th>\n",
       "      <th>0</th>\n",
       "      <th>1</th>\n",
       "      <th>2</th>\n",
       "      <th>3</th>\n",
       "    </tr>\n",
       "  </thead>\n",
       "  <tbody>\n",
       "    <tr>\n",
       "      <td>0</td>\n",
       "      <td>-21620.869</td>\n",
       "      <td>-12934.425</td>\n",
       "      <td>-15083.541</td>\n",
       "      <td>66536.496</td>\n",
       "    </tr>\n",
       "    <tr>\n",
       "      <td>1</td>\n",
       "      <td>-16564.531</td>\n",
       "      <td>-9892.080</td>\n",
       "      <td>-11552.101</td>\n",
       "      <td>50971.064</td>\n",
       "    </tr>\n",
       "    <tr>\n",
       "      <td>2</td>\n",
       "      <td>-9154.299</td>\n",
       "      <td>-5462.978</td>\n",
       "      <td>-6382.773</td>\n",
       "      <td>28166.598</td>\n",
       "    </tr>\n",
       "    <tr>\n",
       "      <td>3</td>\n",
       "      <td>-18177.905</td>\n",
       "      <td>-10886.564</td>\n",
       "      <td>-12686.619</td>\n",
       "      <td>55944.759</td>\n",
       "    </tr>\n",
       "    <tr>\n",
       "      <td>4</td>\n",
       "      <td>-11376.689</td>\n",
       "      <td>-6800.528</td>\n",
       "      <td>-7934.413</td>\n",
       "      <td>35009.364</td>\n",
       "    </tr>\n",
       "  </tbody>\n",
       "</table>\n",
       "</div>"
      ],
      "text/plain": [
       "           0          1          2         3\n",
       "0 -21620.869 -12934.425 -15083.541 66536.496\n",
       "1 -16564.531  -9892.080 -11552.101 50971.064\n",
       "2  -9154.299  -5462.978  -6382.773 28166.598\n",
       "3 -18177.905 -10886.564 -12686.619 55944.759\n",
       "4 -11376.689  -6800.528  -7934.413 35009.364"
      ]
     },
     "execution_count": 13,
     "metadata": {},
     "output_type": "execute_result"
    }
   ],
   "source": [
    "features_multi = features @ b\n",
    "features_multi.head()"
   ]
  },
  {
   "cell_type": "markdown",
   "metadata": {},
   "source": [
    "Произведем моделирование на измененных признаках."
   ]
  },
  {
   "cell_type": "code",
   "execution_count": 14,
   "metadata": {},
   "outputs": [
    {
     "name": "stdout",
     "output_type": "stream",
     "text": [
      "Метрика R2 для признаков в умноженном состоянии равняется 0.43020100448520837\n"
     ]
    }
   ],
   "source": [
    "model_new = LinearRegression()\n",
    "model_new.fit(features_multi, target)\n",
    "predictions = model_new.predict(features_multi)\n",
    "r2_multi = r2_score(target, predictions)\n",
    "print(f'Метрика R2 для признаков в умноженном состоянии равняется {r2_multi}')"
   ]
  },
  {
   "cell_type": "markdown",
   "metadata": {},
   "source": [
    "### Вывод"
   ]
  },
  {
   "cell_type": "markdown",
   "metadata": {},
   "source": [
    "Метрики R2 обеих моделей одиннаковые, а значит умножение исходных данных на случайную обратимую матрицу может быть применено для их шифрования"
   ]
  },
  {
   "cell_type": "markdown",
   "metadata": {},
   "source": [
    "код для проверки:"
   ]
  },
  {
   "cell_type": "code",
   "execution_count": 15,
   "metadata": {},
   "outputs": [
    {
     "data": {
      "text/plain": [
       "1.6653345369377348e-15"
      ]
     },
     "execution_count": 15,
     "metadata": {},
     "output_type": "execute_result"
    }
   ],
   "source": [
    "abs(r2 - r2_multi)"
   ]
  },
  {
   "cell_type": "markdown",
   "metadata": {},
   "source": [
    "код для объяснения:"
   ]
  },
  {
   "cell_type": "code",
   "execution_count": 16,
   "metadata": {},
   "outputs": [
    {
     "data": {
      "text/html": [
       "<div>\n",
       "<style scoped>\n",
       "    .dataframe tbody tr th:only-of-type {\n",
       "        vertical-align: middle;\n",
       "    }\n",
       "\n",
       "    .dataframe tbody tr th {\n",
       "        vertical-align: top;\n",
       "    }\n",
       "\n",
       "    .dataframe thead th {\n",
       "        text-align: right;\n",
       "    }\n",
       "</style>\n",
       "<table border=\"1\" class=\"dataframe\">\n",
       "  <thead>\n",
       "    <tr style=\"text-align: right;\">\n",
       "      <th></th>\n",
       "      <th>0</th>\n",
       "      <th>1</th>\n",
       "      <th>2</th>\n",
       "      <th>3</th>\n",
       "    </tr>\n",
       "  </thead>\n",
       "  <tbody>\n",
       "    <tr>\n",
       "      <td>0</td>\n",
       "      <td>1.000</td>\n",
       "      <td>41.000</td>\n",
       "      <td>49600.000</td>\n",
       "      <td>1.000</td>\n",
       "    </tr>\n",
       "    <tr>\n",
       "      <td>1</td>\n",
       "      <td>0.000</td>\n",
       "      <td>46.000</td>\n",
       "      <td>38000.000</td>\n",
       "      <td>1.000</td>\n",
       "    </tr>\n",
       "    <tr>\n",
       "      <td>2</td>\n",
       "      <td>0.000</td>\n",
       "      <td>29.000</td>\n",
       "      <td>21000.000</td>\n",
       "      <td>0.000</td>\n",
       "    </tr>\n",
       "    <tr>\n",
       "      <td>3</td>\n",
       "      <td>0.000</td>\n",
       "      <td>21.000</td>\n",
       "      <td>41700.000</td>\n",
       "      <td>2.000</td>\n",
       "    </tr>\n",
       "    <tr>\n",
       "      <td>4</td>\n",
       "      <td>1.000</td>\n",
       "      <td>28.000</td>\n",
       "      <td>26100.000</td>\n",
       "      <td>0.000</td>\n",
       "    </tr>\n",
       "    <tr>\n",
       "      <td>...</td>\n",
       "      <td>...</td>\n",
       "      <td>...</td>\n",
       "      <td>...</td>\n",
       "      <td>...</td>\n",
       "    </tr>\n",
       "    <tr>\n",
       "      <td>4995</td>\n",
       "      <td>0.000</td>\n",
       "      <td>28.000</td>\n",
       "      <td>35700.000</td>\n",
       "      <td>2.000</td>\n",
       "    </tr>\n",
       "    <tr>\n",
       "      <td>4996</td>\n",
       "      <td>0.000</td>\n",
       "      <td>34.000</td>\n",
       "      <td>52400.000</td>\n",
       "      <td>1.000</td>\n",
       "    </tr>\n",
       "    <tr>\n",
       "      <td>4997</td>\n",
       "      <td>0.000</td>\n",
       "      <td>20.000</td>\n",
       "      <td>33900.000</td>\n",
       "      <td>2.000</td>\n",
       "    </tr>\n",
       "    <tr>\n",
       "      <td>4998</td>\n",
       "      <td>1.000</td>\n",
       "      <td>22.000</td>\n",
       "      <td>32700.000</td>\n",
       "      <td>3.000</td>\n",
       "    </tr>\n",
       "    <tr>\n",
       "      <td>4999</td>\n",
       "      <td>1.000</td>\n",
       "      <td>28.000</td>\n",
       "      <td>40600.000</td>\n",
       "      <td>1.000</td>\n",
       "    </tr>\n",
       "  </tbody>\n",
       "</table>\n",
       "<p>4847 rows × 4 columns</p>\n",
       "</div>"
      ],
      "text/plain": [
       "         0      1         2     3\n",
       "0    1.000 41.000 49600.000 1.000\n",
       "1    0.000 46.000 38000.000 1.000\n",
       "2    0.000 29.000 21000.000 0.000\n",
       "3    0.000 21.000 41700.000 2.000\n",
       "4    1.000 28.000 26100.000 0.000\n",
       "...    ...    ...       ...   ...\n",
       "4995 0.000 28.000 35700.000 2.000\n",
       "4996 0.000 34.000 52400.000 1.000\n",
       "4997 0.000 20.000 33900.000 2.000\n",
       "4998 1.000 22.000 32700.000 3.000\n",
       "4999 1.000 28.000 40600.000 1.000\n",
       "\n",
       "[4847 rows x 4 columns]"
      ]
     },
     "execution_count": 16,
     "metadata": {},
     "output_type": "execute_result"
    }
   ],
   "source": [
    "features_multi @ np.linalg.inv(b)"
   ]
  },
  {
   "cell_type": "code",
   "execution_count": 17,
   "metadata": {},
   "outputs": [
    {
     "data": {
      "text/plain": [
       "True"
      ]
     },
     "execution_count": 17,
     "metadata": {},
     "output_type": "execute_result"
    }
   ],
   "source": [
    "np.isclose(features, features_multi @ np.linalg.inv(b)).all()"
   ]
  }
 ],
 "metadata": {
  "ExecuteTimeLog": [
   {
    "duration": 936,
    "start_time": "2022-03-01T12:38:40.797Z"
   },
   {
    "duration": 93,
    "start_time": "2022-03-01T12:38:52.413Z"
   },
   {
    "duration": 14,
    "start_time": "2022-03-01T12:39:05.699Z"
   },
   {
    "duration": 1072,
    "start_time": "2022-03-03T09:04:27.979Z"
   },
   {
    "duration": 148,
    "start_time": "2022-03-03T09:04:31.246Z"
   },
   {
    "duration": 10,
    "start_time": "2022-03-03T09:04:34.013Z"
   },
   {
    "duration": 7,
    "start_time": "2022-03-03T09:04:51.739Z"
   },
   {
    "duration": 338,
    "start_time": "2022-03-03T09:07:54.648Z"
   },
   {
    "duration": 20,
    "start_time": "2022-03-03T09:08:01.655Z"
   },
   {
    "duration": 1005,
    "start_time": "2022-03-03T09:08:24.717Z"
   },
   {
    "duration": 109,
    "start_time": "2022-03-03T09:09:04.358Z"
   },
   {
    "duration": 251,
    "start_time": "2022-03-03T09:09:09.948Z"
   },
   {
    "duration": 256,
    "start_time": "2022-03-03T09:09:14.310Z"
   },
   {
    "duration": 5,
    "start_time": "2022-03-03T09:09:19.453Z"
   },
   {
    "duration": 268,
    "start_time": "2022-03-03T09:10:00.980Z"
   },
   {
    "duration": 236,
    "start_time": "2022-03-03T09:10:19.882Z"
   },
   {
    "duration": 240,
    "start_time": "2022-03-03T09:10:33.681Z"
   },
   {
    "duration": 241,
    "start_time": "2022-03-03T09:10:45.474Z"
   },
   {
    "duration": 291,
    "start_time": "2022-03-03T09:27:44.747Z"
   },
   {
    "duration": 1067,
    "start_time": "2022-03-03T09:29:30.196Z"
   },
   {
    "duration": 75,
    "start_time": "2022-03-03T09:29:31.265Z"
   },
   {
    "duration": 12,
    "start_time": "2022-03-03T09:29:31.342Z"
   },
   {
    "duration": 13,
    "start_time": "2022-03-03T09:29:31.356Z"
   },
   {
    "duration": 23,
    "start_time": "2022-03-03T09:29:31.371Z"
   },
   {
    "duration": 920,
    "start_time": "2022-03-03T09:29:31.396Z"
   },
   {
    "duration": 6,
    "start_time": "2022-03-03T09:29:32.318Z"
   },
   {
    "duration": 7,
    "start_time": "2022-03-03T09:29:32.326Z"
   },
   {
    "duration": 350,
    "start_time": "2022-03-03T09:53:26.721Z"
   },
   {
    "duration": 402,
    "start_time": "2022-03-03T09:53:35.137Z"
   },
   {
    "duration": 1052,
    "start_time": "2022-03-03T11:21:36.506Z"
   },
   {
    "duration": 121,
    "start_time": "2022-03-03T11:21:37.560Z"
   },
   {
    "duration": 10,
    "start_time": "2022-03-03T11:21:37.683Z"
   },
   {
    "duration": 17,
    "start_time": "2022-03-03T11:21:37.694Z"
   },
   {
    "duration": 25,
    "start_time": "2022-03-03T11:21:37.712Z"
   },
   {
    "duration": 913,
    "start_time": "2022-03-03T11:21:37.738Z"
   },
   {
    "duration": 5,
    "start_time": "2022-03-03T11:21:38.652Z"
   },
   {
    "duration": 9,
    "start_time": "2022-03-03T11:21:38.659Z"
   },
   {
    "duration": 394,
    "start_time": "2022-03-03T11:21:38.669Z"
   },
   {
    "duration": 8,
    "start_time": "2022-03-03T11:21:39.064Z"
   },
   {
    "duration": 8,
    "start_time": "2022-03-03T11:22:23.610Z"
   },
   {
    "duration": 5,
    "start_time": "2022-03-03T11:24:44.749Z"
   },
   {
    "duration": 1036,
    "start_time": "2022-03-03T11:26:01.922Z"
   },
   {
    "duration": 69,
    "start_time": "2022-03-03T11:26:02.959Z"
   },
   {
    "duration": 11,
    "start_time": "2022-03-03T11:26:03.030Z"
   },
   {
    "duration": 6,
    "start_time": "2022-03-03T11:26:03.043Z"
   },
   {
    "duration": 19,
    "start_time": "2022-03-03T11:26:03.051Z"
   },
   {
    "duration": 917,
    "start_time": "2022-03-03T11:26:03.071Z"
   },
   {
    "duration": 5,
    "start_time": "2022-03-03T11:26:03.990Z"
   },
   {
    "duration": 14,
    "start_time": "2022-03-03T11:26:03.996Z"
   },
   {
    "duration": 334,
    "start_time": "2022-03-03T11:26:04.012Z"
   },
   {
    "duration": 9,
    "start_time": "2022-03-03T11:26:04.347Z"
   },
   {
    "duration": 54,
    "start_time": "2022-03-03T11:26:04.358Z"
   },
   {
    "duration": 95,
    "start_time": "2022-03-03T11:26:04.414Z"
   },
   {
    "duration": 8,
    "start_time": "2022-03-03T11:26:39.523Z"
   },
   {
    "duration": 8,
    "start_time": "2022-03-03T11:27:25.802Z"
   },
   {
    "duration": 1451,
    "start_time": "2022-03-03T14:13:58.331Z"
   },
   {
    "duration": 91,
    "start_time": "2022-03-03T14:13:59.785Z"
   },
   {
    "duration": 15,
    "start_time": "2022-03-03T14:13:59.879Z"
   },
   {
    "duration": 9,
    "start_time": "2022-03-03T14:13:59.897Z"
   },
   {
    "duration": 32,
    "start_time": "2022-03-03T14:13:59.909Z"
   },
   {
    "duration": 1745,
    "start_time": "2022-03-03T14:13:59.943Z"
   },
   {
    "duration": 8,
    "start_time": "2022-03-03T14:14:01.690Z"
   },
   {
    "duration": 18,
    "start_time": "2022-03-03T14:14:01.702Z"
   },
   {
    "duration": 544,
    "start_time": "2022-03-03T14:14:01.723Z"
   },
   {
    "duration": 23,
    "start_time": "2022-03-03T14:14:02.270Z"
   },
   {
    "duration": 88,
    "start_time": "2022-03-03T14:14:02.295Z"
   },
   {
    "duration": 100,
    "start_time": "2022-03-03T14:14:02.389Z"
   },
   {
    "duration": 14,
    "start_time": "2022-03-03T14:14:02.491Z"
   },
   {
    "duration": 75,
    "start_time": "2022-03-03T14:14:02.507Z"
   },
   {
    "duration": 88,
    "start_time": "2022-03-03T14:18:57.722Z"
   },
   {
    "duration": 7,
    "start_time": "2022-03-03T14:35:30.166Z"
   },
   {
    "duration": 5,
    "start_time": "2022-03-03T14:38:57.778Z"
   },
   {
    "duration": 15,
    "start_time": "2022-03-03T14:41:00.745Z"
   },
   {
    "duration": 1383,
    "start_time": "2022-03-03T14:41:29.013Z"
   },
   {
    "duration": 62,
    "start_time": "2022-03-03T14:41:30.399Z"
   },
   {
    "duration": 16,
    "start_time": "2022-03-03T14:41:30.464Z"
   },
   {
    "duration": 27,
    "start_time": "2022-03-03T14:41:30.483Z"
   },
   {
    "duration": 45,
    "start_time": "2022-03-03T14:41:30.513Z"
   },
   {
    "duration": 1828,
    "start_time": "2022-03-03T14:41:30.560Z"
   },
   {
    "duration": 9,
    "start_time": "2022-03-03T14:41:32.390Z"
   },
   {
    "duration": 10,
    "start_time": "2022-03-03T14:41:32.403Z"
   },
   {
    "duration": 566,
    "start_time": "2022-03-03T14:41:32.416Z"
   },
   {
    "duration": 17,
    "start_time": "2022-03-03T14:41:32.984Z"
   },
   {
    "duration": 79,
    "start_time": "2022-03-03T14:41:33.003Z"
   },
   {
    "duration": 100,
    "start_time": "2022-03-03T14:41:33.087Z"
   },
   {
    "duration": 12,
    "start_time": "2022-03-03T14:41:33.189Z"
   },
   {
    "duration": 80,
    "start_time": "2022-03-03T14:41:33.204Z"
   },
   {
    "duration": 96,
    "start_time": "2022-03-03T14:41:33.288Z"
   },
   {
    "duration": 252,
    "start_time": "2022-03-03T14:41:33.387Z"
   },
   {
    "duration": 9,
    "start_time": "2022-03-03T14:42:59.891Z"
   },
   {
    "duration": 1448,
    "start_time": "2022-03-03T14:43:30.726Z"
   },
   {
    "duration": 57,
    "start_time": "2022-03-03T14:43:32.177Z"
   },
   {
    "duration": 15,
    "start_time": "2022-03-03T14:43:32.237Z"
   },
   {
    "duration": 12,
    "start_time": "2022-03-03T14:43:32.255Z"
   },
   {
    "duration": 53,
    "start_time": "2022-03-03T14:43:32.270Z"
   },
   {
    "duration": 1723,
    "start_time": "2022-03-03T14:43:32.326Z"
   },
   {
    "duration": 29,
    "start_time": "2022-03-03T14:43:34.053Z"
   },
   {
    "duration": 13,
    "start_time": "2022-03-03T14:43:34.084Z"
   },
   {
    "duration": 515,
    "start_time": "2022-03-03T14:43:34.102Z"
   },
   {
    "duration": 17,
    "start_time": "2022-03-03T14:43:34.621Z"
   },
   {
    "duration": 43,
    "start_time": "2022-03-03T14:43:34.641Z"
   },
   {
    "duration": 100,
    "start_time": "2022-03-03T14:43:34.687Z"
   },
   {
    "duration": 11,
    "start_time": "2022-03-03T14:43:34.789Z"
   },
   {
    "duration": 10,
    "start_time": "2022-03-03T14:43:34.803Z"
   },
   {
    "duration": 99,
    "start_time": "2022-03-03T14:43:34.886Z"
   },
   {
    "duration": 232,
    "start_time": "2022-03-03T14:43:34.988Z"
   },
   {
    "duration": 7,
    "start_time": "2022-03-03T14:43:35.222Z"
   }
  ],
  "kernelspec": {
   "display_name": "Python 3 (ipykernel)",
   "language": "python",
   "name": "python3"
  },
  "language_info": {
   "codemirror_mode": {
    "name": "ipython",
    "version": 3
   },
   "file_extension": ".py",
   "mimetype": "text/x-python",
   "name": "python",
   "nbconvert_exporter": "python",
   "pygments_lexer": "ipython3",
   "version": "3.10.3"
  },
  "toc": {
   "base_numbering": 1,
   "nav_menu": {},
   "number_sections": true,
   "sideBar": true,
   "skip_h1_title": true,
   "title_cell": "Содержание",
   "title_sidebar": "Contents",
   "toc_cell": true,
   "toc_position": {},
   "toc_section_display": true,
   "toc_window_display": true
  }
 },
 "nbformat": 4,
 "nbformat_minor": 2
}
