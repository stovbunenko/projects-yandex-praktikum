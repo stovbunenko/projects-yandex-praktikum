{
 "cells": [
  {
   "cell_type": "markdown",
   "metadata": {},
   "source": [
    "# Исследование надёжности заёмщиков\n",
    "\n",
    "Заказчик — кредитный отдел банка. Нужно разобраться, влияет ли семейное положение и количество детей клиента на факт погашения кредита в срок. Входные данные от банка — статистика о платёжеспособности клиентов.\n",
    "\n",
    "Результаты исследования будут учтены при построении модели **кредитного скоринга** — специальной системы, которая оценивает способность потенциального заёмщика вернуть кредит банку."
   ]
  },
  {
   "cell_type": "markdown",
   "metadata": {},
   "source": [
    "**Описание данных**\n",
    "- children — количество детей в семье\n",
    "- days_employed — общий трудовой стаж в днях\n",
    "- dob_years — возраст клиента в годах\n",
    "- education — уровень образования клиента\n",
    "- education_id — идентификатор уровня образования\n",
    "- family_status — семейное положение\n",
    "- family_status_id — идентификатор семейного положения\n",
    "- gender — пол клиента\n",
    "- income_type — тип занятости\n",
    "- debt — имел ли задолженность по возврату кредитов\n",
    "- total_income — ежемесячный доход\n",
    "- purpose — цель получения кредита"
   ]
  },
  {
   "cell_type": "markdown",
   "metadata": {},
   "source": [
    "## Шаг 1. Откройте файл с данными и изучите общую информацию"
   ]
  },
  {
   "cell_type": "code",
   "execution_count": 1,
   "metadata": {},
   "outputs": [],
   "source": [
    "import pandas as pd\n",
    "import numpy as np\n",
    "import pprint\n",
    "\n",
    "from pymystem3 import Mystem\n",
    "from collections import Counter"
   ]
  },
  {
   "cell_type": "code",
   "execution_count": 2,
   "metadata": {},
   "outputs": [
    {
     "data": {
      "text/html": [
       "<div>\n",
       "<style scoped>\n",
       "    .dataframe tbody tr th:only-of-type {\n",
       "        vertical-align: middle;\n",
       "    }\n",
       "\n",
       "    .dataframe tbody tr th {\n",
       "        vertical-align: top;\n",
       "    }\n",
       "\n",
       "    .dataframe thead th {\n",
       "        text-align: right;\n",
       "    }\n",
       "</style>\n",
       "<table border=\"1\" class=\"dataframe\">\n",
       "  <thead>\n",
       "    <tr style=\"text-align: right;\">\n",
       "      <th></th>\n",
       "      <th>children</th>\n",
       "      <th>days_employed</th>\n",
       "      <th>dob_years</th>\n",
       "      <th>education</th>\n",
       "      <th>education_id</th>\n",
       "      <th>family_status</th>\n",
       "      <th>family_status_id</th>\n",
       "      <th>gender</th>\n",
       "      <th>income_type</th>\n",
       "      <th>debt</th>\n",
       "      <th>total_income</th>\n",
       "      <th>purpose</th>\n",
       "    </tr>\n",
       "  </thead>\n",
       "  <tbody>\n",
       "    <tr>\n",
       "      <td>0</td>\n",
       "      <td>1</td>\n",
       "      <td>-8437.673028</td>\n",
       "      <td>42</td>\n",
       "      <td>высшее</td>\n",
       "      <td>0</td>\n",
       "      <td>женат / замужем</td>\n",
       "      <td>0</td>\n",
       "      <td>F</td>\n",
       "      <td>сотрудник</td>\n",
       "      <td>0</td>\n",
       "      <td>253875.639453</td>\n",
       "      <td>покупка жилья</td>\n",
       "    </tr>\n",
       "    <tr>\n",
       "      <td>1</td>\n",
       "      <td>1</td>\n",
       "      <td>-4024.803754</td>\n",
       "      <td>36</td>\n",
       "      <td>среднее</td>\n",
       "      <td>1</td>\n",
       "      <td>женат / замужем</td>\n",
       "      <td>0</td>\n",
       "      <td>F</td>\n",
       "      <td>сотрудник</td>\n",
       "      <td>0</td>\n",
       "      <td>112080.014102</td>\n",
       "      <td>приобретение автомобиля</td>\n",
       "    </tr>\n",
       "    <tr>\n",
       "      <td>2</td>\n",
       "      <td>0</td>\n",
       "      <td>-5623.422610</td>\n",
       "      <td>33</td>\n",
       "      <td>Среднее</td>\n",
       "      <td>1</td>\n",
       "      <td>женат / замужем</td>\n",
       "      <td>0</td>\n",
       "      <td>M</td>\n",
       "      <td>сотрудник</td>\n",
       "      <td>0</td>\n",
       "      <td>145885.952297</td>\n",
       "      <td>покупка жилья</td>\n",
       "    </tr>\n",
       "    <tr>\n",
       "      <td>3</td>\n",
       "      <td>3</td>\n",
       "      <td>-4124.747207</td>\n",
       "      <td>32</td>\n",
       "      <td>среднее</td>\n",
       "      <td>1</td>\n",
       "      <td>женат / замужем</td>\n",
       "      <td>0</td>\n",
       "      <td>M</td>\n",
       "      <td>сотрудник</td>\n",
       "      <td>0</td>\n",
       "      <td>267628.550329</td>\n",
       "      <td>дополнительное образование</td>\n",
       "    </tr>\n",
       "    <tr>\n",
       "      <td>4</td>\n",
       "      <td>0</td>\n",
       "      <td>340266.072047</td>\n",
       "      <td>53</td>\n",
       "      <td>среднее</td>\n",
       "      <td>1</td>\n",
       "      <td>гражданский брак</td>\n",
       "      <td>1</td>\n",
       "      <td>F</td>\n",
       "      <td>пенсионер</td>\n",
       "      <td>0</td>\n",
       "      <td>158616.077870</td>\n",
       "      <td>сыграть свадьбу</td>\n",
       "    </tr>\n",
       "    <tr>\n",
       "      <td>5</td>\n",
       "      <td>0</td>\n",
       "      <td>-926.185831</td>\n",
       "      <td>27</td>\n",
       "      <td>высшее</td>\n",
       "      <td>0</td>\n",
       "      <td>гражданский брак</td>\n",
       "      <td>1</td>\n",
       "      <td>M</td>\n",
       "      <td>компаньон</td>\n",
       "      <td>0</td>\n",
       "      <td>255763.565419</td>\n",
       "      <td>покупка жилья</td>\n",
       "    </tr>\n",
       "    <tr>\n",
       "      <td>6</td>\n",
       "      <td>0</td>\n",
       "      <td>-2879.202052</td>\n",
       "      <td>43</td>\n",
       "      <td>высшее</td>\n",
       "      <td>0</td>\n",
       "      <td>женат / замужем</td>\n",
       "      <td>0</td>\n",
       "      <td>F</td>\n",
       "      <td>компаньон</td>\n",
       "      <td>0</td>\n",
       "      <td>240525.971920</td>\n",
       "      <td>операции с жильем</td>\n",
       "    </tr>\n",
       "    <tr>\n",
       "      <td>7</td>\n",
       "      <td>0</td>\n",
       "      <td>-152.779569</td>\n",
       "      <td>50</td>\n",
       "      <td>СРЕДНЕЕ</td>\n",
       "      <td>1</td>\n",
       "      <td>женат / замужем</td>\n",
       "      <td>0</td>\n",
       "      <td>M</td>\n",
       "      <td>сотрудник</td>\n",
       "      <td>0</td>\n",
       "      <td>135823.934197</td>\n",
       "      <td>образование</td>\n",
       "    </tr>\n",
       "    <tr>\n",
       "      <td>8</td>\n",
       "      <td>2</td>\n",
       "      <td>-6929.865299</td>\n",
       "      <td>35</td>\n",
       "      <td>ВЫСШЕЕ</td>\n",
       "      <td>0</td>\n",
       "      <td>гражданский брак</td>\n",
       "      <td>1</td>\n",
       "      <td>F</td>\n",
       "      <td>сотрудник</td>\n",
       "      <td>0</td>\n",
       "      <td>95856.832424</td>\n",
       "      <td>на проведение свадьбы</td>\n",
       "    </tr>\n",
       "    <tr>\n",
       "      <td>9</td>\n",
       "      <td>0</td>\n",
       "      <td>-2188.756445</td>\n",
       "      <td>41</td>\n",
       "      <td>среднее</td>\n",
       "      <td>1</td>\n",
       "      <td>женат / замужем</td>\n",
       "      <td>0</td>\n",
       "      <td>M</td>\n",
       "      <td>сотрудник</td>\n",
       "      <td>0</td>\n",
       "      <td>144425.938277</td>\n",
       "      <td>покупка жилья для семьи</td>\n",
       "    </tr>\n",
       "  </tbody>\n",
       "</table>\n",
       "</div>"
      ],
      "text/plain": [
       "   children  days_employed  dob_years education  education_id  \\\n",
       "0         1   -8437.673028         42    высшее             0   \n",
       "1         1   -4024.803754         36   среднее             1   \n",
       "2         0   -5623.422610         33   Среднее             1   \n",
       "3         3   -4124.747207         32   среднее             1   \n",
       "4         0  340266.072047         53   среднее             1   \n",
       "5         0    -926.185831         27    высшее             0   \n",
       "6         0   -2879.202052         43    высшее             0   \n",
       "7         0    -152.779569         50   СРЕДНЕЕ             1   \n",
       "8         2   -6929.865299         35    ВЫСШЕЕ             0   \n",
       "9         0   -2188.756445         41   среднее             1   \n",
       "\n",
       "      family_status  family_status_id gender income_type  debt   total_income  \\\n",
       "0   женат / замужем                 0      F   сотрудник     0  253875.639453   \n",
       "1   женат / замужем                 0      F   сотрудник     0  112080.014102   \n",
       "2   женат / замужем                 0      M   сотрудник     0  145885.952297   \n",
       "3   женат / замужем                 0      M   сотрудник     0  267628.550329   \n",
       "4  гражданский брак                 1      F   пенсионер     0  158616.077870   \n",
       "5  гражданский брак                 1      M   компаньон     0  255763.565419   \n",
       "6   женат / замужем                 0      F   компаньон     0  240525.971920   \n",
       "7   женат / замужем                 0      M   сотрудник     0  135823.934197   \n",
       "8  гражданский брак                 1      F   сотрудник     0   95856.832424   \n",
       "9   женат / замужем                 0      M   сотрудник     0  144425.938277   \n",
       "\n",
       "                      purpose  \n",
       "0               покупка жилья  \n",
       "1     приобретение автомобиля  \n",
       "2               покупка жилья  \n",
       "3  дополнительное образование  \n",
       "4             сыграть свадьбу  \n",
       "5               покупка жилья  \n",
       "6           операции с жильем  \n",
       "7                 образование  \n",
       "8       на проведение свадьбы  \n",
       "9     покупка жилья для семьи  "
      ]
     },
     "execution_count": 2,
     "metadata": {},
     "output_type": "execute_result"
    }
   ],
   "source": [
    "df.head(10)"
   ]
  },
  {
   "cell_type": "markdown",
   "metadata": {},
   "source": [
    "Отключаем для удобства scientific notation:"
   ]
  },
  {
   "cell_type": "code",
   "execution_count": 3,
   "metadata": {},
   "outputs": [],
   "source": [
    "pd.set_option('display.float_format', lambda x: '%.3f' % x)"
   ]
  },
  {
   "cell_type": "code",
   "execution_count": 4,
   "metadata": {},
   "outputs": [
    {
     "data": {
      "text/html": [
       "<div>\n",
       "<style scoped>\n",
       "    .dataframe tbody tr th:only-of-type {\n",
       "        vertical-align: middle;\n",
       "    }\n",
       "\n",
       "    .dataframe tbody tr th {\n",
       "        vertical-align: top;\n",
       "    }\n",
       "\n",
       "    .dataframe thead th {\n",
       "        text-align: right;\n",
       "    }\n",
       "</style>\n",
       "<table border=\"1\" class=\"dataframe\">\n",
       "  <thead>\n",
       "    <tr style=\"text-align: right;\">\n",
       "      <th></th>\n",
       "      <th>children</th>\n",
       "      <th>days_employed</th>\n",
       "      <th>dob_years</th>\n",
       "      <th>education</th>\n",
       "      <th>education_id</th>\n",
       "      <th>family_status</th>\n",
       "      <th>family_status_id</th>\n",
       "      <th>gender</th>\n",
       "      <th>income_type</th>\n",
       "      <th>debt</th>\n",
       "      <th>total_income</th>\n",
       "      <th>purpose</th>\n",
       "    </tr>\n",
       "  </thead>\n",
       "  <tbody>\n",
       "    <tr>\n",
       "      <td>21515</td>\n",
       "      <td>1</td>\n",
       "      <td>-467.685</td>\n",
       "      <td>28</td>\n",
       "      <td>среднее</td>\n",
       "      <td>1</td>\n",
       "      <td>женат / замужем</td>\n",
       "      <td>0</td>\n",
       "      <td>F</td>\n",
       "      <td>сотрудник</td>\n",
       "      <td>1</td>\n",
       "      <td>109486.328</td>\n",
       "      <td>заняться образованием</td>\n",
       "    </tr>\n",
       "    <tr>\n",
       "      <td>21516</td>\n",
       "      <td>0</td>\n",
       "      <td>-914.391</td>\n",
       "      <td>42</td>\n",
       "      <td>высшее</td>\n",
       "      <td>0</td>\n",
       "      <td>женат / замужем</td>\n",
       "      <td>0</td>\n",
       "      <td>F</td>\n",
       "      <td>компаньон</td>\n",
       "      <td>0</td>\n",
       "      <td>322807.777</td>\n",
       "      <td>покупка своего жилья</td>\n",
       "    </tr>\n",
       "    <tr>\n",
       "      <td>21517</td>\n",
       "      <td>0</td>\n",
       "      <td>-404.679</td>\n",
       "      <td>42</td>\n",
       "      <td>высшее</td>\n",
       "      <td>0</td>\n",
       "      <td>гражданский брак</td>\n",
       "      <td>1</td>\n",
       "      <td>F</td>\n",
       "      <td>компаньон</td>\n",
       "      <td>0</td>\n",
       "      <td>178059.553</td>\n",
       "      <td>на покупку своего автомобиля</td>\n",
       "    </tr>\n",
       "    <tr>\n",
       "      <td>21518</td>\n",
       "      <td>0</td>\n",
       "      <td>373995.711</td>\n",
       "      <td>59</td>\n",
       "      <td>СРЕДНЕЕ</td>\n",
       "      <td>1</td>\n",
       "      <td>женат / замужем</td>\n",
       "      <td>0</td>\n",
       "      <td>F</td>\n",
       "      <td>пенсионер</td>\n",
       "      <td>0</td>\n",
       "      <td>153864.650</td>\n",
       "      <td>сделка с автомобилем</td>\n",
       "    </tr>\n",
       "    <tr>\n",
       "      <td>21519</td>\n",
       "      <td>1</td>\n",
       "      <td>-2351.432</td>\n",
       "      <td>37</td>\n",
       "      <td>ученая степень</td>\n",
       "      <td>4</td>\n",
       "      <td>в разводе</td>\n",
       "      <td>3</td>\n",
       "      <td>M</td>\n",
       "      <td>сотрудник</td>\n",
       "      <td>0</td>\n",
       "      <td>115949.040</td>\n",
       "      <td>покупка коммерческой недвижимости</td>\n",
       "    </tr>\n",
       "    <tr>\n",
       "      <td>21520</td>\n",
       "      <td>1</td>\n",
       "      <td>-4529.317</td>\n",
       "      <td>43</td>\n",
       "      <td>среднее</td>\n",
       "      <td>1</td>\n",
       "      <td>гражданский брак</td>\n",
       "      <td>1</td>\n",
       "      <td>F</td>\n",
       "      <td>компаньон</td>\n",
       "      <td>0</td>\n",
       "      <td>224791.862</td>\n",
       "      <td>операции с жильем</td>\n",
       "    </tr>\n",
       "    <tr>\n",
       "      <td>21521</td>\n",
       "      <td>0</td>\n",
       "      <td>343937.404</td>\n",
       "      <td>67</td>\n",
       "      <td>среднее</td>\n",
       "      <td>1</td>\n",
       "      <td>женат / замужем</td>\n",
       "      <td>0</td>\n",
       "      <td>F</td>\n",
       "      <td>пенсионер</td>\n",
       "      <td>0</td>\n",
       "      <td>155999.807</td>\n",
       "      <td>сделка с автомобилем</td>\n",
       "    </tr>\n",
       "    <tr>\n",
       "      <td>21522</td>\n",
       "      <td>1</td>\n",
       "      <td>-2113.347</td>\n",
       "      <td>38</td>\n",
       "      <td>среднее</td>\n",
       "      <td>1</td>\n",
       "      <td>гражданский брак</td>\n",
       "      <td>1</td>\n",
       "      <td>M</td>\n",
       "      <td>сотрудник</td>\n",
       "      <td>1</td>\n",
       "      <td>89672.561</td>\n",
       "      <td>недвижимость</td>\n",
       "    </tr>\n",
       "    <tr>\n",
       "      <td>21523</td>\n",
       "      <td>3</td>\n",
       "      <td>-3112.482</td>\n",
       "      <td>38</td>\n",
       "      <td>среднее</td>\n",
       "      <td>1</td>\n",
       "      <td>женат / замужем</td>\n",
       "      <td>0</td>\n",
       "      <td>M</td>\n",
       "      <td>сотрудник</td>\n",
       "      <td>1</td>\n",
       "      <td>244093.051</td>\n",
       "      <td>на покупку своего автомобиля</td>\n",
       "    </tr>\n",
       "    <tr>\n",
       "      <td>21524</td>\n",
       "      <td>2</td>\n",
       "      <td>-1984.508</td>\n",
       "      <td>40</td>\n",
       "      <td>среднее</td>\n",
       "      <td>1</td>\n",
       "      <td>женат / замужем</td>\n",
       "      <td>0</td>\n",
       "      <td>F</td>\n",
       "      <td>сотрудник</td>\n",
       "      <td>0</td>\n",
       "      <td>82047.419</td>\n",
       "      <td>на покупку автомобиля</td>\n",
       "    </tr>\n",
       "  </tbody>\n",
       "</table>\n",
       "</div>"
      ],
      "text/plain": [
       "       children  days_employed  dob_years       education  education_id  \\\n",
       "21515         1       -467.685         28         среднее             1   \n",
       "21516         0       -914.391         42          высшее             0   \n",
       "21517         0       -404.679         42          высшее             0   \n",
       "21518         0     373995.711         59         СРЕДНЕЕ             1   \n",
       "21519         1      -2351.432         37  ученая степень             4   \n",
       "21520         1      -4529.317         43         среднее             1   \n",
       "21521         0     343937.404         67         среднее             1   \n",
       "21522         1      -2113.347         38         среднее             1   \n",
       "21523         3      -3112.482         38         среднее             1   \n",
       "21524         2      -1984.508         40         среднее             1   \n",
       "\n",
       "          family_status  family_status_id gender income_type  debt  \\\n",
       "21515   женат / замужем                 0      F   сотрудник     1   \n",
       "21516   женат / замужем                 0      F   компаньон     0   \n",
       "21517  гражданский брак                 1      F   компаньон     0   \n",
       "21518   женат / замужем                 0      F   пенсионер     0   \n",
       "21519         в разводе                 3      M   сотрудник     0   \n",
       "21520  гражданский брак                 1      F   компаньон     0   \n",
       "21521   женат / замужем                 0      F   пенсионер     0   \n",
       "21522  гражданский брак                 1      M   сотрудник     1   \n",
       "21523   женат / замужем                 0      M   сотрудник     1   \n",
       "21524   женат / замужем                 0      F   сотрудник     0   \n",
       "\n",
       "       total_income                            purpose  \n",
       "21515    109486.328              заняться образованием  \n",
       "21516    322807.777               покупка своего жилья  \n",
       "21517    178059.553       на покупку своего автомобиля  \n",
       "21518    153864.650               сделка с автомобилем  \n",
       "21519    115949.040  покупка коммерческой недвижимости  \n",
       "21520    224791.862                  операции с жильем  \n",
       "21521    155999.807               сделка с автомобилем  \n",
       "21522     89672.561                       недвижимость  \n",
       "21523    244093.051       на покупку своего автомобиля  \n",
       "21524     82047.419              на покупку автомобиля  "
      ]
     },
     "execution_count": 4,
     "metadata": {},
     "output_type": "execute_result"
    }
   ],
   "source": [
    "df.tail(10)"
   ]
  },
  {
   "cell_type": "code",
   "execution_count": 5,
   "metadata": {
    "scrolled": true
   },
   "outputs": [
    {
     "name": "stdout",
     "output_type": "stream",
     "text": [
      "<class 'pandas.core.frame.DataFrame'>\n",
      "RangeIndex: 21525 entries, 0 to 21524\n",
      "Data columns (total 12 columns):\n",
      "children            21525 non-null int64\n",
      "days_employed       19351 non-null float64\n",
      "dob_years           21525 non-null int64\n",
      "education           21525 non-null object\n",
      "education_id        21525 non-null int64\n",
      "family_status       21525 non-null object\n",
      "family_status_id    21525 non-null int64\n",
      "gender              21525 non-null object\n",
      "income_type         21525 non-null object\n",
      "debt                21525 non-null int64\n",
      "total_income        19351 non-null float64\n",
      "purpose             21525 non-null object\n",
      "dtypes: float64(2), int64(5), object(5)\n",
      "memory usage: 2.0+ MB\n"
     ]
    }
   ],
   "source": [
    "df.info()"
   ]
  },
  {
   "cell_type": "markdown",
   "metadata": {},
   "source": [
    "Посмотрим какая доля пропусков:\n",
    "(можно сразу прикинуть % даже не умножая на 100)"
   ]
  },
  {
   "cell_type": "code",
   "execution_count": 6,
   "metadata": {
    "scrolled": true
   },
   "outputs": [
    {
     "data": {
      "text/plain": [
       "children           0.000\n",
       "days_employed      0.101\n",
       "dob_years          0.000\n",
       "education          0.000\n",
       "education_id       0.000\n",
       "family_status      0.000\n",
       "family_status_id   0.000\n",
       "gender             0.000\n",
       "income_type        0.000\n",
       "debt               0.000\n",
       "total_income       0.101\n",
       "purpose            0.000\n",
       "dtype: float64"
      ]
     },
     "execution_count": 6,
     "metadata": {},
     "output_type": "execute_result"
    }
   ],
   "source": [
    "df.isna().mean()"
   ]
  },
  {
   "cell_type": "code",
   "execution_count": 7,
   "metadata": {},
   "outputs": [
    {
     "data": {
      "text/html": [
       "<div>\n",
       "<style scoped>\n",
       "    .dataframe tbody tr th:only-of-type {\n",
       "        vertical-align: middle;\n",
       "    }\n",
       "\n",
       "    .dataframe tbody tr th {\n",
       "        vertical-align: top;\n",
       "    }\n",
       "\n",
       "    .dataframe thead th {\n",
       "        text-align: right;\n",
       "    }\n",
       "</style>\n",
       "<table border=\"1\" class=\"dataframe\">\n",
       "  <thead>\n",
       "    <tr style=\"text-align: right;\">\n",
       "      <th></th>\n",
       "      <th>children</th>\n",
       "      <th>days_employed</th>\n",
       "      <th>dob_years</th>\n",
       "      <th>education_id</th>\n",
       "      <th>family_status_id</th>\n",
       "      <th>debt</th>\n",
       "      <th>total_income</th>\n",
       "    </tr>\n",
       "  </thead>\n",
       "  <tbody>\n",
       "    <tr>\n",
       "      <td>count</td>\n",
       "      <td>21525.000</td>\n",
       "      <td>19351.000</td>\n",
       "      <td>21525.000</td>\n",
       "      <td>21525.000</td>\n",
       "      <td>21525.000</td>\n",
       "      <td>21525.000</td>\n",
       "      <td>19351.000</td>\n",
       "    </tr>\n",
       "    <tr>\n",
       "      <td>mean</td>\n",
       "      <td>0.539</td>\n",
       "      <td>63046.498</td>\n",
       "      <td>43.293</td>\n",
       "      <td>0.817</td>\n",
       "      <td>0.973</td>\n",
       "      <td>0.081</td>\n",
       "      <td>167422.302</td>\n",
       "    </tr>\n",
       "    <tr>\n",
       "      <td>std</td>\n",
       "      <td>1.382</td>\n",
       "      <td>140827.312</td>\n",
       "      <td>12.575</td>\n",
       "      <td>0.548</td>\n",
       "      <td>1.420</td>\n",
       "      <td>0.273</td>\n",
       "      <td>102971.566</td>\n",
       "    </tr>\n",
       "    <tr>\n",
       "      <td>min</td>\n",
       "      <td>-1.000</td>\n",
       "      <td>-18388.950</td>\n",
       "      <td>0.000</td>\n",
       "      <td>0.000</td>\n",
       "      <td>0.000</td>\n",
       "      <td>0.000</td>\n",
       "      <td>20667.264</td>\n",
       "    </tr>\n",
       "    <tr>\n",
       "      <td>25%</td>\n",
       "      <td>0.000</td>\n",
       "      <td>-2747.424</td>\n",
       "      <td>33.000</td>\n",
       "      <td>1.000</td>\n",
       "      <td>0.000</td>\n",
       "      <td>0.000</td>\n",
       "      <td>103053.153</td>\n",
       "    </tr>\n",
       "    <tr>\n",
       "      <td>50%</td>\n",
       "      <td>0.000</td>\n",
       "      <td>-1203.370</td>\n",
       "      <td>42.000</td>\n",
       "      <td>1.000</td>\n",
       "      <td>0.000</td>\n",
       "      <td>0.000</td>\n",
       "      <td>145017.938</td>\n",
       "    </tr>\n",
       "    <tr>\n",
       "      <td>75%</td>\n",
       "      <td>1.000</td>\n",
       "      <td>-291.096</td>\n",
       "      <td>53.000</td>\n",
       "      <td>1.000</td>\n",
       "      <td>1.000</td>\n",
       "      <td>0.000</td>\n",
       "      <td>203435.068</td>\n",
       "    </tr>\n",
       "    <tr>\n",
       "      <td>max</td>\n",
       "      <td>20.000</td>\n",
       "      <td>401755.400</td>\n",
       "      <td>75.000</td>\n",
       "      <td>4.000</td>\n",
       "      <td>4.000</td>\n",
       "      <td>1.000</td>\n",
       "      <td>2265604.029</td>\n",
       "    </tr>\n",
       "  </tbody>\n",
       "</table>\n",
       "</div>"
      ],
      "text/plain": [
       "       children  days_employed  dob_years  education_id  family_status_id  \\\n",
       "count 21525.000      19351.000  21525.000     21525.000         21525.000   \n",
       "mean      0.539      63046.498     43.293         0.817             0.973   \n",
       "std       1.382     140827.312     12.575         0.548             1.420   \n",
       "min      -1.000     -18388.950      0.000         0.000             0.000   \n",
       "25%       0.000      -2747.424     33.000         1.000             0.000   \n",
       "50%       0.000      -1203.370     42.000         1.000             0.000   \n",
       "75%       1.000       -291.096     53.000         1.000             1.000   \n",
       "max      20.000     401755.400     75.000         4.000             4.000   \n",
       "\n",
       "           debt  total_income  \n",
       "count 21525.000     19351.000  \n",
       "mean      0.081    167422.302  \n",
       "std       0.273    102971.566  \n",
       "min       0.000     20667.264  \n",
       "25%       0.000    103053.153  \n",
       "50%       0.000    145017.938  \n",
       "75%       0.000    203435.068  \n",
       "max       1.000   2265604.029  "
      ]
     },
     "execution_count": 7,
     "metadata": {},
     "output_type": "execute_result"
    }
   ],
   "source": [
    "df.describe()"
   ]
  },
  {
   "cell_type": "markdown",
   "metadata": {},
   "source": [
    "**Вывод**"
   ]
  },
  {
   "cell_type": "markdown",
   "metadata": {},
   "source": [
    "В датасете 21525 строк и 12 столбцов. \n",
    "Проблемы, которые необходимо решить:\n",
    "- некачественные названия в столбцах education и purpose  \n",
    "- пропущены значения в столбцах days_employed и total_income. Нужно выяснить с чем это связано, существует ли закономерность в появлении пропусков, не случайно ли их возникновение в наборе данных. \n",
    "- присутствуют отрицательные значения в столбце days_employed, нужно заменить их на положительные. \n",
    "- неизвестна валюта месячного дохода\n",
    "- в днях стажа и в доходе плавающая точка\n",
    "- есть дублирующие признаки — избыточны образование и его идентификатор (такая же проблема у семейного положения)\n",
    "- странное максимальное значение стажа, выяснить почему так могло получиться. Возможно данные стажа в данной таблице указаны не в днях?"
   ]
  },
  {
   "cell_type": "markdown",
   "metadata": {},
   "source": [
    "## Шаг 2. Предобработка данных"
   ]
  },
  {
   "cell_type": "markdown",
   "metadata": {},
   "source": [
    "### Обработка пропусков"
   ]
  },
  {
   "cell_type": "markdown",
   "metadata": {},
   "source": [
    "Подсчитаем суммарное количество пропусков:"
   ]
  },
  {
   "cell_type": "code",
   "execution_count": 8,
   "metadata": {},
   "outputs": [
    {
     "data": {
      "text/plain": [
       "children               0\n",
       "days_employed       2174\n",
       "dob_years              0\n",
       "education              0\n",
       "education_id           0\n",
       "family_status          0\n",
       "family_status_id       0\n",
       "gender                 0\n",
       "income_type            0\n",
       "debt                   0\n",
       "total_income        2174\n",
       "purpose                0\n",
       "dtype: int64"
      ]
     },
     "execution_count": 8,
     "metadata": {},
     "output_type": "execute_result"
    }
   ],
   "source": [
    "df.isnull().sum()"
   ]
  },
  {
   "cell_type": "markdown",
   "metadata": {},
   "source": [
    "Проверим уникальные значения возраста клиентов:"
   ]
  },
  {
   "cell_type": "code",
   "execution_count": 9,
   "metadata": {},
   "outputs": [
    {
     "data": {
      "text/plain": [
       "array([42, 36, 33, 32, 53, 27, 43, 50, 35, 41, 40, 65, 54, 56, 26, 48, 24,\n",
       "       21, 57, 67, 28, 63, 62, 47, 34, 68, 25, 31, 30, 20, 49, 37, 45, 61,\n",
       "       64, 44, 52, 46, 23, 38, 39, 51,  0, 59, 29, 60, 55, 58, 71, 22, 73,\n",
       "       66, 69, 19, 72, 70, 74, 75])"
      ]
     },
     "execution_count": 9,
     "metadata": {},
     "output_type": "execute_result"
    }
   ],
   "source": [
    "df['dob_years'].unique()"
   ]
  },
  {
   "cell_type": "markdown",
   "metadata": {},
   "source": [
    "Существует странный возраст 0, возможно эти клиенты просто не указали свой возраст. Проверим много ли клиентов с таким возрастом:"
   ]
  },
  {
   "cell_type": "code",
   "execution_count": 10,
   "metadata": {},
   "outputs": [
    {
     "data": {
      "text/plain": [
       "35    617\n",
       "40    609\n",
       "41    607\n",
       "34    603\n",
       "38    598\n",
       "42    597\n",
       "33    581\n",
       "39    573\n",
       "31    560\n",
       "36    555\n",
       "44    547\n",
       "29    545\n",
       "30    540\n",
       "48    538\n",
       "37    537\n",
       "50    514\n",
       "43    513\n",
       "32    510\n",
       "49    508\n",
       "28    503\n",
       "45    497\n",
       "27    493\n",
       "56    487\n",
       "52    484\n",
       "47    480\n",
       "54    479\n",
       "46    475\n",
       "58    461\n",
       "57    460\n",
       "53    459\n",
       "51    448\n",
       "59    444\n",
       "55    443\n",
       "26    408\n",
       "60    377\n",
       "25    357\n",
       "61    355\n",
       "62    352\n",
       "63    269\n",
       "64    265\n",
       "24    264\n",
       "23    254\n",
       "65    194\n",
       "66    183\n",
       "22    183\n",
       "67    167\n",
       "21    111\n",
       "0     101\n",
       "68     99\n",
       "69     85\n",
       "70     65\n",
       "71     58\n",
       "20     51\n",
       "72     33\n",
       "19     14\n",
       "73      8\n",
       "74      6\n",
       "75      1\n",
       "Name: dob_years, dtype: int64"
      ]
     },
     "execution_count": 10,
     "metadata": {},
     "output_type": "execute_result"
    }
   ],
   "source": [
    "df['dob_years'].value_counts()"
   ]
  },
  {
   "cell_type": "markdown",
   "metadata": {},
   "source": [
    "101 клиент, возможно, не указал свой возраст. В данном случае можем заменить эти пропуски на медианное значение:"
   ]
  },
  {
   "cell_type": "code",
   "execution_count": 11,
   "metadata": {},
   "outputs": [],
   "source": [
    "years_median = df[df['dob_years'] != 0]['dob_years'].median()\n",
    "df['dob_years'] = df['dob_years'].replace(0, years_median)"
   ]
  },
  {
   "cell_type": "markdown",
   "metadata": {},
   "source": [
    "**Вывод**"
   ]
  },
  {
   "cell_type": "markdown",
   "metadata": {},
   "source": [
    "1. Количество пропусков в столбцах days_employed и total_income совпадает, так что скорее всего никакой закономерности нет. Возможно, это сбой системы. В таком случае нужно вместо пропусков подставить медиану и среднее значение дохода и стажа в зависимости от возраста. \n",
    "2. Обнаружили пропущенные значения в графе возраст . Для улучшения качества исследования, заменим отсутствующие данные на медианные"
   ]
  },
  {
   "cell_type": "markdown",
   "metadata": {},
   "source": [
    "### Замена типа данных"
   ]
  },
  {
   "cell_type": "markdown",
   "metadata": {},
   "source": [
    "Проверим формат столбца количества детей:"
   ]
  },
  {
   "cell_type": "code",
   "execution_count": 12,
   "metadata": {},
   "outputs": [
    {
     "data": {
      "text/plain": [
       " 0     14149\n",
       " 1      4818\n",
       " 2      2055\n",
       " 3       330\n",
       " 20       76\n",
       "-1        47\n",
       " 4        41\n",
       " 5         9\n",
       "Name: children, dtype: int64"
      ]
     },
     "execution_count": 12,
     "metadata": {},
     "output_type": "execute_result"
    }
   ],
   "source": [
    "df['children'].value_counts()"
   ]
  },
  {
   "cell_type": "markdown",
   "metadata": {},
   "source": [
    "Присутствуют значения \"-1\" и \"20\" в столбце количества детей. \"-1\" заменим на 1, а \"20\" заменим медианным значением, так как мы не знаем как возникла ошибка: случайно ввели лишний 0 при вводе 2 или вместо 0 случайно поставили 20"
   ]
  },
  {
   "cell_type": "code",
   "execution_count": 13,
   "metadata": {},
   "outputs": [],
   "source": [
    "df['children'] = df['children'].replace(-1, 1)\n",
    "children_median = df[df['children'] != 20]['children'].median()\n",
    "df['children'] = df['children'].replace(20, children_median)"
   ]
  },
  {
   "cell_type": "code",
   "execution_count": 14,
   "metadata": {},
   "outputs": [
    {
     "data": {
      "text/plain": [
       "0    14225\n",
       "1     4865\n",
       "2     2055\n",
       "3      330\n",
       "4       41\n",
       "5        9\n",
       "Name: children, dtype: int64"
      ]
     },
     "execution_count": 14,
     "metadata": {},
     "output_type": "execute_result"
    }
   ],
   "source": [
    "df['children'].value_counts()"
   ]
  },
  {
   "cell_type": "markdown",
   "metadata": {},
   "source": [
    "Найдем среднее значение и медиану дохода и стажа в зависимости от возраста и исправим отрицательные показатели на положительные в стаже:"
   ]
  },
  {
   "cell_type": "code",
   "execution_count": 15,
   "metadata": {},
   "outputs": [],
   "source": [
    "df['total_income'] = df['total_income'].fillna(df.groupby('dob_years')['total_income'].transform('median'))\n",
    "df['days_employed'] = abs(df['days_employed'].fillna(df.groupby('dob_years')['days_employed'].transform('mean')))"
   ]
  },
  {
   "cell_type": "code",
   "execution_count": 16,
   "metadata": {},
   "outputs": [
    {
     "data": {
      "text/plain": [
       "children            0\n",
       "days_employed       0\n",
       "dob_years           0\n",
       "education           0\n",
       "education_id        0\n",
       "family_status       0\n",
       "family_status_id    0\n",
       "gender              0\n",
       "income_type         0\n",
       "debt                0\n",
       "total_income        0\n",
       "purpose             0\n",
       "dtype: int64"
      ]
     },
     "execution_count": 16,
     "metadata": {},
     "output_type": "execute_result"
    }
   ],
   "source": [
    "df.isnull().sum()"
   ]
  },
  {
   "cell_type": "markdown",
   "metadata": {},
   "source": [
    "Неудобно воспринимать информацию по трудовому стажу в днях, лучше пересчитать дни в года:"
   ]
  },
  {
   "cell_type": "code",
   "execution_count": 17,
   "metadata": {},
   "outputs": [],
   "source": [
    "years_employed = round(df['days_employed'] / 365, 1)"
   ]
  },
  {
   "cell_type": "markdown",
   "metadata": {},
   "source": [
    "Посмотрим на стаж теперь:"
   ]
  },
  {
   "cell_type": "code",
   "execution_count": 18,
   "metadata": {},
   "outputs": [
    {
     "data": {
      "text/plain": [
       "count   21525.000\n",
       "mean      183.106\n",
       "std       371.385\n",
       "min         0.100\n",
       "25%         2.600\n",
       "50%         6.200\n",
       "75%        18.700\n",
       "max      1100.700\n",
       "Name: days_employed, dtype: float64"
      ]
     },
     "execution_count": 18,
     "metadata": {},
     "output_type": "execute_result"
    }
   ],
   "source": [
    "years_employed.describe()"
   ]
  },
  {
   "cell_type": "markdown",
   "metadata": {},
   "source": [
    "Теперь явно видно, что есть ошибка в трудовом стаже. Возможно, на самом деле это были не дни, а не часы?\n",
    "Проверим нашу теорию, округлив результат до сотых: "
   ]
  },
  {
   "cell_type": "code",
   "execution_count": 19,
   "metadata": {},
   "outputs": [
    {
     "data": {
      "text/plain": [
       "count   21525.000\n",
       "mean        7.629\n",
       "std        15.474\n",
       "min         0.000\n",
       "25%         0.110\n",
       "50%         0.260\n",
       "75%         0.780\n",
       "max        45.860\n",
       "Name: days_employed, dtype: float64"
      ]
     },
     "execution_count": 19,
     "metadata": {},
     "output_type": "execute_result"
    }
   ],
   "source": [
    "years_employed = round((df['days_employed'] /24)/ 365, 2)\n",
    "years_employed.describe()"
   ]
  },
  {
   "cell_type": "markdown",
   "metadata": {},
   "source": [
    "Вот теперь похоже на правду! Добавим новую колонку рядом со старой:"
   ]
  },
  {
   "cell_type": "code",
   "execution_count": 20,
   "metadata": {},
   "outputs": [],
   "source": [
    "df.insert(2, 'years_employed', years_employed)"
   ]
  },
  {
   "cell_type": "markdown",
   "metadata": {},
   "source": [
    "Дни переименуем в часы и приведем к целым значениям:"
   ]
  },
  {
   "cell_type": "code",
   "execution_count": 21,
   "metadata": {},
   "outputs": [],
   "source": [
    "df = df.rename(columns={'days_employed': 'hours_employed',})\n",
    "df['hours_employed']=df['hours_employed'].astype(int)"
   ]
  },
  {
   "cell_type": "markdown",
   "metadata": {},
   "source": [
    "Посмотрим на доходы:"
   ]
  },
  {
   "cell_type": "code",
   "execution_count": 22,
   "metadata": {},
   "outputs": [
    {
     "data": {
      "text/plain": [
       "155358.964    69\n",
       "158350.077    67\n",
       "148728.769    66\n",
       "156145.372    65\n",
       "159167.993    65\n",
       "              ..\n",
       "91169.615      1\n",
       "59945.117      1\n",
       "167791.985     1\n",
       "227040.868     1\n",
       "150014.129     1\n",
       "Name: total_income, Length: 19380, dtype: int64"
      ]
     },
     "execution_count": 22,
     "metadata": {},
     "output_type": "execute_result"
    }
   ],
   "source": [
    "df['total_income'].value_counts()"
   ]
  },
  {
   "cell_type": "markdown",
   "metadata": {},
   "source": [
    "Смотреть на доходы с 6 знаками после запятой неудобно. В контексте задачи, точностью можно пожертвовать. Посмотрим на доходы, но сначала приведем к целым значениям:"
   ]
  },
  {
   "cell_type": "code",
   "execution_count": 23,
   "metadata": {},
   "outputs": [],
   "source": [
    "df['total_income'] = df['total_income'].astype(int)"
   ]
  },
  {
   "cell_type": "code",
   "execution_count": 24,
   "metadata": {},
   "outputs": [
    {
     "data": {
      "text/html": [
       "<div>\n",
       "<style scoped>\n",
       "    .dataframe tbody tr th:only-of-type {\n",
       "        vertical-align: middle;\n",
       "    }\n",
       "\n",
       "    .dataframe tbody tr th {\n",
       "        vertical-align: top;\n",
       "    }\n",
       "\n",
       "    .dataframe thead th {\n",
       "        text-align: right;\n",
       "    }\n",
       "</style>\n",
       "<table border=\"1\" class=\"dataframe\">\n",
       "  <thead>\n",
       "    <tr style=\"text-align: right;\">\n",
       "      <th></th>\n",
       "      <th>children</th>\n",
       "      <th>hours_employed</th>\n",
       "      <th>years_employed</th>\n",
       "      <th>dob_years</th>\n",
       "      <th>education</th>\n",
       "      <th>education_id</th>\n",
       "      <th>family_status</th>\n",
       "      <th>family_status_id</th>\n",
       "      <th>gender</th>\n",
       "      <th>income_type</th>\n",
       "      <th>debt</th>\n",
       "      <th>total_income</th>\n",
       "      <th>purpose</th>\n",
       "    </tr>\n",
       "  </thead>\n",
       "  <tbody>\n",
       "    <tr>\n",
       "      <td>0</td>\n",
       "      <td>1</td>\n",
       "      <td>8437</td>\n",
       "      <td>0.960</td>\n",
       "      <td>42</td>\n",
       "      <td>высшее</td>\n",
       "      <td>0</td>\n",
       "      <td>женат / замужем</td>\n",
       "      <td>0</td>\n",
       "      <td>F</td>\n",
       "      <td>сотрудник</td>\n",
       "      <td>0</td>\n",
       "      <td>253875</td>\n",
       "      <td>покупка жилья</td>\n",
       "    </tr>\n",
       "    <tr>\n",
       "      <td>1</td>\n",
       "      <td>1</td>\n",
       "      <td>4024</td>\n",
       "      <td>0.460</td>\n",
       "      <td>36</td>\n",
       "      <td>среднее</td>\n",
       "      <td>1</td>\n",
       "      <td>женат / замужем</td>\n",
       "      <td>0</td>\n",
       "      <td>F</td>\n",
       "      <td>сотрудник</td>\n",
       "      <td>0</td>\n",
       "      <td>112080</td>\n",
       "      <td>приобретение автомобиля</td>\n",
       "    </tr>\n",
       "    <tr>\n",
       "      <td>2</td>\n",
       "      <td>0</td>\n",
       "      <td>5623</td>\n",
       "      <td>0.640</td>\n",
       "      <td>33</td>\n",
       "      <td>Среднее</td>\n",
       "      <td>1</td>\n",
       "      <td>женат / замужем</td>\n",
       "      <td>0</td>\n",
       "      <td>M</td>\n",
       "      <td>сотрудник</td>\n",
       "      <td>0</td>\n",
       "      <td>145885</td>\n",
       "      <td>покупка жилья</td>\n",
       "    </tr>\n",
       "    <tr>\n",
       "      <td>3</td>\n",
       "      <td>3</td>\n",
       "      <td>4124</td>\n",
       "      <td>0.470</td>\n",
       "      <td>32</td>\n",
       "      <td>среднее</td>\n",
       "      <td>1</td>\n",
       "      <td>женат / замужем</td>\n",
       "      <td>0</td>\n",
       "      <td>M</td>\n",
       "      <td>сотрудник</td>\n",
       "      <td>0</td>\n",
       "      <td>267628</td>\n",
       "      <td>дополнительное образование</td>\n",
       "    </tr>\n",
       "    <tr>\n",
       "      <td>4</td>\n",
       "      <td>0</td>\n",
       "      <td>340266</td>\n",
       "      <td>38.840</td>\n",
       "      <td>53</td>\n",
       "      <td>среднее</td>\n",
       "      <td>1</td>\n",
       "      <td>гражданский брак</td>\n",
       "      <td>1</td>\n",
       "      <td>F</td>\n",
       "      <td>пенсионер</td>\n",
       "      <td>0</td>\n",
       "      <td>158616</td>\n",
       "      <td>сыграть свадьбу</td>\n",
       "    </tr>\n",
       "  </tbody>\n",
       "</table>\n",
       "</div>"
      ],
      "text/plain": [
       "   children  hours_employed  years_employed  dob_years education  \\\n",
       "0         1            8437           0.960         42    высшее   \n",
       "1         1            4024           0.460         36   среднее   \n",
       "2         0            5623           0.640         33   Среднее   \n",
       "3         3            4124           0.470         32   среднее   \n",
       "4         0          340266          38.840         53   среднее   \n",
       "\n",
       "   education_id     family_status  family_status_id gender income_type  debt  \\\n",
       "0             0   женат / замужем                 0      F   сотрудник     0   \n",
       "1             1   женат / замужем                 0      F   сотрудник     0   \n",
       "2             1   женат / замужем                 0      M   сотрудник     0   \n",
       "3             1   женат / замужем                 0      M   сотрудник     0   \n",
       "4             1  гражданский брак                 1      F   пенсионер     0   \n",
       "\n",
       "   total_income                     purpose  \n",
       "0        253875               покупка жилья  \n",
       "1        112080     приобретение автомобиля  \n",
       "2        145885               покупка жилья  \n",
       "3        267628  дополнительное образование  \n",
       "4        158616             сыграть свадьбу  "
      ]
     },
     "execution_count": 24,
     "metadata": {},
     "output_type": "execute_result"
    }
   ],
   "source": [
    "df.head()"
   ]
  },
  {
   "cell_type": "code",
   "execution_count": 25,
   "metadata": {},
   "outputs": [
    {
     "data": {
      "text/plain": [
       "среднее                13750\n",
       "высшее                  4718\n",
       "СРЕДНЕЕ                  772\n",
       "Среднее                  711\n",
       "неоконченное высшее      668\n",
       "ВЫСШЕЕ                   274\n",
       "Высшее                   268\n",
       "начальное                250\n",
       "Неоконченное высшее       47\n",
       "НЕОКОНЧЕННОЕ ВЫСШЕЕ       29\n",
       "НАЧАЛЬНОЕ                 17\n",
       "Начальное                 15\n",
       "ученая степень             4\n",
       "УЧЕНАЯ СТЕПЕНЬ             1\n",
       "Ученая степень             1\n",
       "Name: education, dtype: int64"
      ]
     },
     "execution_count": 25,
     "metadata": {},
     "output_type": "execute_result"
    }
   ],
   "source": [
    "df['education'].value_counts()"
   ]
  },
  {
   "cell_type": "code",
   "execution_count": 26,
   "metadata": {},
   "outputs": [],
   "source": [
    "# Приведем столбец education к нижнему регистру\n",
    "df['education'] = df['education'].str.lower()"
   ]
  },
  {
   "cell_type": "code",
   "execution_count": 27,
   "metadata": {},
   "outputs": [
    {
     "data": {
      "text/html": [
       "<div>\n",
       "<style scoped>\n",
       "    .dataframe tbody tr th:only-of-type {\n",
       "        vertical-align: middle;\n",
       "    }\n",
       "\n",
       "    .dataframe tbody tr th {\n",
       "        vertical-align: top;\n",
       "    }\n",
       "\n",
       "    .dataframe thead th {\n",
       "        text-align: right;\n",
       "    }\n",
       "</style>\n",
       "<table border=\"1\" class=\"dataframe\">\n",
       "  <thead>\n",
       "    <tr style=\"text-align: right;\">\n",
       "      <th></th>\n",
       "      <th>children</th>\n",
       "      <th>hours_employed</th>\n",
       "      <th>years_employed</th>\n",
       "      <th>dob_years</th>\n",
       "      <th>education</th>\n",
       "      <th>education_id</th>\n",
       "      <th>family_status</th>\n",
       "      <th>family_status_id</th>\n",
       "      <th>gender</th>\n",
       "      <th>income_type</th>\n",
       "      <th>debt</th>\n",
       "      <th>total_income</th>\n",
       "      <th>purpose</th>\n",
       "    </tr>\n",
       "  </thead>\n",
       "  <tbody>\n",
       "    <tr>\n",
       "      <td>0</td>\n",
       "      <td>1</td>\n",
       "      <td>8437</td>\n",
       "      <td>0.960</td>\n",
       "      <td>42</td>\n",
       "      <td>высшее</td>\n",
       "      <td>0</td>\n",
       "      <td>женат / замужем</td>\n",
       "      <td>0</td>\n",
       "      <td>F</td>\n",
       "      <td>сотрудник</td>\n",
       "      <td>0</td>\n",
       "      <td>253875</td>\n",
       "      <td>покупка жилья</td>\n",
       "    </tr>\n",
       "    <tr>\n",
       "      <td>1</td>\n",
       "      <td>1</td>\n",
       "      <td>4024</td>\n",
       "      <td>0.460</td>\n",
       "      <td>36</td>\n",
       "      <td>среднее</td>\n",
       "      <td>1</td>\n",
       "      <td>женат / замужем</td>\n",
       "      <td>0</td>\n",
       "      <td>F</td>\n",
       "      <td>сотрудник</td>\n",
       "      <td>0</td>\n",
       "      <td>112080</td>\n",
       "      <td>приобретение автомобиля</td>\n",
       "    </tr>\n",
       "    <tr>\n",
       "      <td>2</td>\n",
       "      <td>0</td>\n",
       "      <td>5623</td>\n",
       "      <td>0.640</td>\n",
       "      <td>33</td>\n",
       "      <td>среднее</td>\n",
       "      <td>1</td>\n",
       "      <td>женат / замужем</td>\n",
       "      <td>0</td>\n",
       "      <td>M</td>\n",
       "      <td>сотрудник</td>\n",
       "      <td>0</td>\n",
       "      <td>145885</td>\n",
       "      <td>покупка жилья</td>\n",
       "    </tr>\n",
       "    <tr>\n",
       "      <td>3</td>\n",
       "      <td>3</td>\n",
       "      <td>4124</td>\n",
       "      <td>0.470</td>\n",
       "      <td>32</td>\n",
       "      <td>среднее</td>\n",
       "      <td>1</td>\n",
       "      <td>женат / замужем</td>\n",
       "      <td>0</td>\n",
       "      <td>M</td>\n",
       "      <td>сотрудник</td>\n",
       "      <td>0</td>\n",
       "      <td>267628</td>\n",
       "      <td>дополнительное образование</td>\n",
       "    </tr>\n",
       "    <tr>\n",
       "      <td>4</td>\n",
       "      <td>0</td>\n",
       "      <td>340266</td>\n",
       "      <td>38.840</td>\n",
       "      <td>53</td>\n",
       "      <td>среднее</td>\n",
       "      <td>1</td>\n",
       "      <td>гражданский брак</td>\n",
       "      <td>1</td>\n",
       "      <td>F</td>\n",
       "      <td>пенсионер</td>\n",
       "      <td>0</td>\n",
       "      <td>158616</td>\n",
       "      <td>сыграть свадьбу</td>\n",
       "    </tr>\n",
       "  </tbody>\n",
       "</table>\n",
       "</div>"
      ],
      "text/plain": [
       "   children  hours_employed  years_employed  dob_years education  \\\n",
       "0         1            8437           0.960         42    высшее   \n",
       "1         1            4024           0.460         36   среднее   \n",
       "2         0            5623           0.640         33   среднее   \n",
       "3         3            4124           0.470         32   среднее   \n",
       "4         0          340266          38.840         53   среднее   \n",
       "\n",
       "   education_id     family_status  family_status_id gender income_type  debt  \\\n",
       "0             0   женат / замужем                 0      F   сотрудник     0   \n",
       "1             1   женат / замужем                 0      F   сотрудник     0   \n",
       "2             1   женат / замужем                 0      M   сотрудник     0   \n",
       "3             1   женат / замужем                 0      M   сотрудник     0   \n",
       "4             1  гражданский брак                 1      F   пенсионер     0   \n",
       "\n",
       "   total_income                     purpose  \n",
       "0        253875               покупка жилья  \n",
       "1        112080     приобретение автомобиля  \n",
       "2        145885               покупка жилья  \n",
       "3        267628  дополнительное образование  \n",
       "4        158616             сыграть свадьбу  "
      ]
     },
     "execution_count": 27,
     "metadata": {},
     "output_type": "execute_result"
    }
   ],
   "source": [
    "df.head()"
   ]
  },
  {
   "cell_type": "markdown",
   "metadata": {},
   "source": [
    "**Вывод**"
   ]
  },
  {
   "cell_type": "markdown",
   "metadata": {},
   "source": [
    "1. В столбце education присутствовали значения \"-1\" и \"20\". Мы заменили \"-1\" на 1, а \"20\" на медианное значением, так как мы не знаем как возникла ошибка: случайно ввели лишний 0 при вводе 2 или вместо 0 случайно поставили 20.\n",
    "2. Заполним пропуски: Найдем среднее значение и медиану дохода и стажа в зависимости от возраста и исправим отрицательные показатели на положительные в стаже, это повысит качество данных, упростит обработку, но при этом незначительно скажется на результатах.\n",
    "3. Приведем столбец education к нижнему регистру. \n",
    "4. Перессчитали трудовой стаж из дней в года, в ходе исследования выяснили, что изначально трудовой стаж считался не в днях, а в часах. Округлили значения до сотых.\n",
    "5. Доходы привели к целым значениям для удобства восприятия информации. В контексте задачи такая детальная точность была не нужна. "
   ]
  },
  {
   "cell_type": "markdown",
   "metadata": {},
   "source": [
    "### Обработка дубликатов"
   ]
  },
  {
   "cell_type": "code",
   "execution_count": 28,
   "metadata": {},
   "outputs": [
    {
     "data": {
      "text/plain": [
       "71"
      ]
     },
     "execution_count": 28,
     "metadata": {},
     "output_type": "execute_result"
    }
   ],
   "source": [
    "df.duplicated().sum()"
   ]
  },
  {
   "cell_type": "code",
   "execution_count": 29,
   "metadata": {},
   "outputs": [],
   "source": [
    "# Удалим дубли и сбросим индекс\n",
    "df = df.drop_duplicates().reset_index(drop=True)"
   ]
  },
  {
   "cell_type": "code",
   "execution_count": 30,
   "metadata": {},
   "outputs": [
    {
     "data": {
      "text/plain": [
       "0"
      ]
     },
     "execution_count": 30,
     "metadata": {},
     "output_type": "execute_result"
    }
   ],
   "source": [
    "# Проверим удалились ли дубли\n",
    "df.duplicated().sum()"
   ]
  },
  {
   "cell_type": "code",
   "execution_count": 31,
   "metadata": {},
   "outputs": [
    {
     "data": {
      "text/html": [
       "<div>\n",
       "<style scoped>\n",
       "    .dataframe tbody tr th:only-of-type {\n",
       "        vertical-align: middle;\n",
       "    }\n",
       "\n",
       "    .dataframe tbody tr th {\n",
       "        vertical-align: top;\n",
       "    }\n",
       "\n",
       "    .dataframe thead th {\n",
       "        text-align: right;\n",
       "    }\n",
       "</style>\n",
       "<table border=\"1\" class=\"dataframe\">\n",
       "  <thead>\n",
       "    <tr style=\"text-align: right;\">\n",
       "      <th></th>\n",
       "      <th>children</th>\n",
       "      <th>hours_employed</th>\n",
       "      <th>years_employed</th>\n",
       "      <th>dob_years</th>\n",
       "      <th>education</th>\n",
       "      <th>education_id</th>\n",
       "      <th>family_status</th>\n",
       "      <th>family_status_id</th>\n",
       "      <th>gender</th>\n",
       "      <th>income_type</th>\n",
       "      <th>debt</th>\n",
       "      <th>total_income</th>\n",
       "      <th>purpose</th>\n",
       "    </tr>\n",
       "  </thead>\n",
       "  <tbody>\n",
       "    <tr>\n",
       "      <td>0</td>\n",
       "      <td>1</td>\n",
       "      <td>8437</td>\n",
       "      <td>0.960</td>\n",
       "      <td>42</td>\n",
       "      <td>высшее</td>\n",
       "      <td>0</td>\n",
       "      <td>женат / замужем</td>\n",
       "      <td>0</td>\n",
       "      <td>F</td>\n",
       "      <td>сотрудник</td>\n",
       "      <td>0</td>\n",
       "      <td>253875</td>\n",
       "      <td>покупка жилья</td>\n",
       "    </tr>\n",
       "    <tr>\n",
       "      <td>1</td>\n",
       "      <td>1</td>\n",
       "      <td>4024</td>\n",
       "      <td>0.460</td>\n",
       "      <td>36</td>\n",
       "      <td>среднее</td>\n",
       "      <td>1</td>\n",
       "      <td>женат / замужем</td>\n",
       "      <td>0</td>\n",
       "      <td>F</td>\n",
       "      <td>сотрудник</td>\n",
       "      <td>0</td>\n",
       "      <td>112080</td>\n",
       "      <td>приобретение автомобиля</td>\n",
       "    </tr>\n",
       "    <tr>\n",
       "      <td>2</td>\n",
       "      <td>0</td>\n",
       "      <td>5623</td>\n",
       "      <td>0.640</td>\n",
       "      <td>33</td>\n",
       "      <td>среднее</td>\n",
       "      <td>1</td>\n",
       "      <td>женат / замужем</td>\n",
       "      <td>0</td>\n",
       "      <td>M</td>\n",
       "      <td>сотрудник</td>\n",
       "      <td>0</td>\n",
       "      <td>145885</td>\n",
       "      <td>покупка жилья</td>\n",
       "    </tr>\n",
       "    <tr>\n",
       "      <td>3</td>\n",
       "      <td>3</td>\n",
       "      <td>4124</td>\n",
       "      <td>0.470</td>\n",
       "      <td>32</td>\n",
       "      <td>среднее</td>\n",
       "      <td>1</td>\n",
       "      <td>женат / замужем</td>\n",
       "      <td>0</td>\n",
       "      <td>M</td>\n",
       "      <td>сотрудник</td>\n",
       "      <td>0</td>\n",
       "      <td>267628</td>\n",
       "      <td>дополнительное образование</td>\n",
       "    </tr>\n",
       "    <tr>\n",
       "      <td>4</td>\n",
       "      <td>0</td>\n",
       "      <td>340266</td>\n",
       "      <td>38.840</td>\n",
       "      <td>53</td>\n",
       "      <td>среднее</td>\n",
       "      <td>1</td>\n",
       "      <td>гражданский брак</td>\n",
       "      <td>1</td>\n",
       "      <td>F</td>\n",
       "      <td>пенсионер</td>\n",
       "      <td>0</td>\n",
       "      <td>158616</td>\n",
       "      <td>сыграть свадьбу</td>\n",
       "    </tr>\n",
       "  </tbody>\n",
       "</table>\n",
       "</div>"
      ],
      "text/plain": [
       "   children  hours_employed  years_employed  dob_years education  \\\n",
       "0         1            8437           0.960         42    высшее   \n",
       "1         1            4024           0.460         36   среднее   \n",
       "2         0            5623           0.640         33   среднее   \n",
       "3         3            4124           0.470         32   среднее   \n",
       "4         0          340266          38.840         53   среднее   \n",
       "\n",
       "   education_id     family_status  family_status_id gender income_type  debt  \\\n",
       "0             0   женат / замужем                 0      F   сотрудник     0   \n",
       "1             1   женат / замужем                 0      F   сотрудник     0   \n",
       "2             1   женат / замужем                 0      M   сотрудник     0   \n",
       "3             1   женат / замужем                 0      M   сотрудник     0   \n",
       "4             1  гражданский брак                 1      F   пенсионер     0   \n",
       "\n",
       "   total_income                     purpose  \n",
       "0        253875               покупка жилья  \n",
       "1        112080     приобретение автомобиля  \n",
       "2        145885               покупка жилья  \n",
       "3        267628  дополнительное образование  \n",
       "4        158616             сыграть свадьбу  "
      ]
     },
     "execution_count": 31,
     "metadata": {},
     "output_type": "execute_result"
    }
   ],
   "source": [
    "df.head()"
   ]
  },
  {
   "cell_type": "markdown",
   "metadata": {},
   "source": [
    "**Вывод**"
   ]
  },
  {
   "cell_type": "markdown",
   "metadata": {},
   "source": [
    "Обнаружился 71 дубликат. Возможно, это человеческий фактор. "
   ]
  },
  {
   "cell_type": "markdown",
   "metadata": {},
   "source": [
    "### Лемматизация"
   ]
  },
  {
   "cell_type": "code",
   "execution_count": 32,
   "metadata": {},
   "outputs": [
    {
     "data": {
      "text/plain": [
       "array(['покупка жилья', 'приобретение автомобиля',\n",
       "       'дополнительное образование', 'сыграть свадьбу',\n",
       "       'операции с жильем', 'образование', 'на проведение свадьбы',\n",
       "       'покупка жилья для семьи', 'покупка недвижимости',\n",
       "       'покупка коммерческой недвижимости', 'покупка жилой недвижимости',\n",
       "       'строительство собственной недвижимости', 'недвижимость',\n",
       "       'строительство недвижимости', 'на покупку подержанного автомобиля',\n",
       "       'на покупку своего автомобиля',\n",
       "       'операции с коммерческой недвижимостью',\n",
       "       'строительство жилой недвижимости', 'жилье',\n",
       "       'операции со своей недвижимостью', 'автомобили',\n",
       "       'заняться образованием', 'сделка с подержанным автомобилем',\n",
       "       'получение образования', 'автомобиль', 'свадьба',\n",
       "       'получение дополнительного образования', 'покупка своего жилья',\n",
       "       'операции с недвижимостью', 'получение высшего образования',\n",
       "       'свой автомобиль', 'сделка с автомобилем',\n",
       "       'профильное образование', 'высшее образование',\n",
       "       'покупка жилья для сдачи', 'на покупку автомобиля', 'ремонт жилью',\n",
       "       'заняться высшим образованием'], dtype=object)"
      ]
     },
     "execution_count": 32,
     "metadata": {},
     "output_type": "execute_result"
    }
   ],
   "source": [
    "df['purpose'].unique()"
   ]
  },
  {
   "cell_type": "code",
   "execution_count": 33,
   "metadata": {},
   "outputs": [],
   "source": [
    "m = Mystem()\n",
    "purpose = ' '.join(df['purpose'])"
   ]
  },
  {
   "cell_type": "code",
   "execution_count": 34,
   "metadata": {},
   "outputs": [
    {
     "data": {
      "text/plain": [
       "Counter({'покупка': 5897,\n",
       "         ' ': 55023,\n",
       "         'жилье': 4460,\n",
       "         'приобретение': 461,\n",
       "         'автомобиль': 4306,\n",
       "         'дополнительный': 906,\n",
       "         'образование': 4013,\n",
       "         'сыграть': 765,\n",
       "         'свадьба': 2324,\n",
       "         'операция': 2604,\n",
       "         'с': 2918,\n",
       "         'на': 2222,\n",
       "         'проведение': 768,\n",
       "         'для': 1289,\n",
       "         'семья': 638,\n",
       "         'недвижимость': 6351,\n",
       "         'коммерческий': 1311,\n",
       "         'жилой': 1230,\n",
       "         'строительство': 1878,\n",
       "         'собственный': 635,\n",
       "         'подержать': 853,\n",
       "         'свой': 2230,\n",
       "         'со': 627,\n",
       "         'заниматься': 904,\n",
       "         'сделка': 941,\n",
       "         'получение': 1314,\n",
       "         'высокий': 1374,\n",
       "         'подержанный': 111,\n",
       "         'профильный': 436,\n",
       "         'сдача': 651,\n",
       "         'ремонт': 607,\n",
       "         '\\n': 1})"
      ]
     },
     "execution_count": 34,
     "metadata": {},
     "output_type": "execute_result"
    }
   ],
   "source": [
    "lemmas = m.lemmatize(purpose)\n",
    "Counter(lemmas)"
   ]
  },
  {
   "cell_type": "markdown",
   "metadata": {},
   "source": [
    "**Вывод**"
   ]
  },
  {
   "cell_type": "markdown",
   "metadata": {},
   "source": [
    "Выделим цели кредитов руками:\n",
    "- Жилье\n",
    "- Автомобиль\n",
    "- Образование\n",
    "- Свадьба "
   ]
  },
  {
   "cell_type": "markdown",
   "metadata": {},
   "source": [
    "### Категоризация данных"
   ]
  },
  {
   "cell_type": "markdown",
   "metadata": {},
   "source": [
    "Многие уникальные значения цели кредита названы похожим образом. Создадим новую таблицу с исправленными категориями:"
   ]
  },
  {
   "cell_type": "code",
   "execution_count": 35,
   "metadata": {},
   "outputs": [],
   "source": [
    "def df_purpose_grouped(row):\n",
    "    purpose_grouped = row['purpose']\n",
    "    if 'недвижим' in purpose_grouped or 'жиль' in purpose_grouped:\n",
    "        return 'жилье'\n",
    "    elif 'свадьб' in purpose_grouped:\n",
    "        return 'свадьба'\n",
    "    elif 'автомоб' in purpose_grouped:\n",
    "        return 'автомобиль'\n",
    "    elif 'образова' in purpose_grouped:\n",
    "        return 'образование'\n",
    "    return 'неизвестно'"
   ]
  },
  {
   "cell_type": "code",
   "execution_count": 36,
   "metadata": {},
   "outputs": [],
   "source": [
    "df['purpose_category']=df.apply(df_purpose_grouped,axis=1)"
   ]
  },
  {
   "cell_type": "code",
   "execution_count": 37,
   "metadata": {},
   "outputs": [
    {
     "data": {
      "text/plain": [
       "Counter({'жилье': 10811,\n",
       "         'автомобиль': 4306,\n",
       "         'образование': 4013,\n",
       "         'свадьба': 2324})"
      ]
     },
     "execution_count": 37,
     "metadata": {},
     "output_type": "execute_result"
    }
   ],
   "source": [
    "# Проверяем что значений None не осталось\n",
    "Counter(df['purpose_category'])"
   ]
  },
  {
   "cell_type": "code",
   "execution_count": 38,
   "metadata": {
    "scrolled": true
   },
   "outputs": [
    {
     "data": {
      "text/html": [
       "<div>\n",
       "<style scoped>\n",
       "    .dataframe tbody tr th:only-of-type {\n",
       "        vertical-align: middle;\n",
       "    }\n",
       "\n",
       "    .dataframe tbody tr th {\n",
       "        vertical-align: top;\n",
       "    }\n",
       "\n",
       "    .dataframe thead th {\n",
       "        text-align: right;\n",
       "    }\n",
       "</style>\n",
       "<table border=\"1\" class=\"dataframe\">\n",
       "  <thead>\n",
       "    <tr style=\"text-align: right;\">\n",
       "      <th></th>\n",
       "      <th>children</th>\n",
       "      <th>hours_employed</th>\n",
       "      <th>years_employed</th>\n",
       "      <th>dob_years</th>\n",
       "      <th>education</th>\n",
       "      <th>education_id</th>\n",
       "      <th>family_status</th>\n",
       "      <th>family_status_id</th>\n",
       "      <th>gender</th>\n",
       "      <th>income_type</th>\n",
       "      <th>debt</th>\n",
       "      <th>total_income</th>\n",
       "      <th>purpose</th>\n",
       "      <th>purpose_category</th>\n",
       "    </tr>\n",
       "  </thead>\n",
       "  <tbody>\n",
       "    <tr>\n",
       "      <td>0</td>\n",
       "      <td>1</td>\n",
       "      <td>8437</td>\n",
       "      <td>0.960</td>\n",
       "      <td>42</td>\n",
       "      <td>высшее</td>\n",
       "      <td>0</td>\n",
       "      <td>женат / замужем</td>\n",
       "      <td>0</td>\n",
       "      <td>F</td>\n",
       "      <td>сотрудник</td>\n",
       "      <td>0</td>\n",
       "      <td>253875</td>\n",
       "      <td>покупка жилья</td>\n",
       "      <td>жилье</td>\n",
       "    </tr>\n",
       "    <tr>\n",
       "      <td>1</td>\n",
       "      <td>1</td>\n",
       "      <td>4024</td>\n",
       "      <td>0.460</td>\n",
       "      <td>36</td>\n",
       "      <td>среднее</td>\n",
       "      <td>1</td>\n",
       "      <td>женат / замужем</td>\n",
       "      <td>0</td>\n",
       "      <td>F</td>\n",
       "      <td>сотрудник</td>\n",
       "      <td>0</td>\n",
       "      <td>112080</td>\n",
       "      <td>приобретение автомобиля</td>\n",
       "      <td>автомобиль</td>\n",
       "    </tr>\n",
       "    <tr>\n",
       "      <td>2</td>\n",
       "      <td>0</td>\n",
       "      <td>5623</td>\n",
       "      <td>0.640</td>\n",
       "      <td>33</td>\n",
       "      <td>среднее</td>\n",
       "      <td>1</td>\n",
       "      <td>женат / замужем</td>\n",
       "      <td>0</td>\n",
       "      <td>M</td>\n",
       "      <td>сотрудник</td>\n",
       "      <td>0</td>\n",
       "      <td>145885</td>\n",
       "      <td>покупка жилья</td>\n",
       "      <td>жилье</td>\n",
       "    </tr>\n",
       "    <tr>\n",
       "      <td>3</td>\n",
       "      <td>3</td>\n",
       "      <td>4124</td>\n",
       "      <td>0.470</td>\n",
       "      <td>32</td>\n",
       "      <td>среднее</td>\n",
       "      <td>1</td>\n",
       "      <td>женат / замужем</td>\n",
       "      <td>0</td>\n",
       "      <td>M</td>\n",
       "      <td>сотрудник</td>\n",
       "      <td>0</td>\n",
       "      <td>267628</td>\n",
       "      <td>дополнительное образование</td>\n",
       "      <td>образование</td>\n",
       "    </tr>\n",
       "    <tr>\n",
       "      <td>4</td>\n",
       "      <td>0</td>\n",
       "      <td>340266</td>\n",
       "      <td>38.840</td>\n",
       "      <td>53</td>\n",
       "      <td>среднее</td>\n",
       "      <td>1</td>\n",
       "      <td>гражданский брак</td>\n",
       "      <td>1</td>\n",
       "      <td>F</td>\n",
       "      <td>пенсионер</td>\n",
       "      <td>0</td>\n",
       "      <td>158616</td>\n",
       "      <td>сыграть свадьбу</td>\n",
       "      <td>свадьба</td>\n",
       "    </tr>\n",
       "  </tbody>\n",
       "</table>\n",
       "</div>"
      ],
      "text/plain": [
       "   children  hours_employed  years_employed  dob_years education  \\\n",
       "0         1            8437           0.960         42    высшее   \n",
       "1         1            4024           0.460         36   среднее   \n",
       "2         0            5623           0.640         33   среднее   \n",
       "3         3            4124           0.470         32   среднее   \n",
       "4         0          340266          38.840         53   среднее   \n",
       "\n",
       "   education_id     family_status  family_status_id gender income_type  debt  \\\n",
       "0             0   женат / замужем                 0      F   сотрудник     0   \n",
       "1             1   женат / замужем                 0      F   сотрудник     0   \n",
       "2             1   женат / замужем                 0      M   сотрудник     0   \n",
       "3             1   женат / замужем                 0      M   сотрудник     0   \n",
       "4             1  гражданский брак                 1      F   пенсионер     0   \n",
       "\n",
       "   total_income                     purpose purpose_category  \n",
       "0        253875               покупка жилья            жилье  \n",
       "1        112080     приобретение автомобиля       автомобиль  \n",
       "2        145885               покупка жилья            жилье  \n",
       "3        267628  дополнительное образование      образование  \n",
       "4        158616             сыграть свадьбу          свадьба  "
      ]
     },
     "execution_count": 38,
     "metadata": {},
     "output_type": "execute_result"
    }
   ],
   "source": [
    "# Проверяем результат в таблице\n",
    "df.head()"
   ]
  },
  {
   "cell_type": "markdown",
   "metadata": {},
   "source": [
    "Категоризируем колличество детей:"
   ]
  },
  {
   "cell_type": "code",
   "execution_count": 39,
   "metadata": {},
   "outputs": [],
   "source": [
    "def df_children(row):\n",
    "    children_grouped = row['children']\n",
    "    if children_grouped == 0:\n",
    "        return 'без детей'\n",
    "    elif children_grouped <= 2:\n",
    "        return '1-2 ребенка'\n",
    "    elif children_grouped >= 3:\n",
    "        return 'многодетные'"
   ]
  },
  {
   "cell_type": "markdown",
   "metadata": {},
   "source": [
    "Создадим колонку с новыми данными:"
   ]
  },
  {
   "cell_type": "code",
   "execution_count": 40,
   "metadata": {},
   "outputs": [],
   "source": [
    "children_grouped = df.apply(df_children,axis=1)\n",
    "df.insert(1,'children_grouped', children_grouped )"
   ]
  },
  {
   "cell_type": "code",
   "execution_count": 41,
   "metadata": {},
   "outputs": [
    {
     "data": {
      "text/html": [
       "<div>\n",
       "<style scoped>\n",
       "    .dataframe tbody tr th:only-of-type {\n",
       "        vertical-align: middle;\n",
       "    }\n",
       "\n",
       "    .dataframe tbody tr th {\n",
       "        vertical-align: top;\n",
       "    }\n",
       "\n",
       "    .dataframe thead th {\n",
       "        text-align: right;\n",
       "    }\n",
       "</style>\n",
       "<table border=\"1\" class=\"dataframe\">\n",
       "  <thead>\n",
       "    <tr style=\"text-align: right;\">\n",
       "      <th></th>\n",
       "      <th>children</th>\n",
       "      <th>children_grouped</th>\n",
       "      <th>hours_employed</th>\n",
       "      <th>years_employed</th>\n",
       "      <th>dob_years</th>\n",
       "      <th>education</th>\n",
       "      <th>education_id</th>\n",
       "      <th>family_status</th>\n",
       "      <th>family_status_id</th>\n",
       "      <th>gender</th>\n",
       "      <th>income_type</th>\n",
       "      <th>debt</th>\n",
       "      <th>total_income</th>\n",
       "      <th>purpose</th>\n",
       "      <th>purpose_category</th>\n",
       "    </tr>\n",
       "  </thead>\n",
       "  <tbody>\n",
       "    <tr>\n",
       "      <td>0</td>\n",
       "      <td>1</td>\n",
       "      <td>1-2 ребенка</td>\n",
       "      <td>8437</td>\n",
       "      <td>0.960</td>\n",
       "      <td>42</td>\n",
       "      <td>высшее</td>\n",
       "      <td>0</td>\n",
       "      <td>женат / замужем</td>\n",
       "      <td>0</td>\n",
       "      <td>F</td>\n",
       "      <td>сотрудник</td>\n",
       "      <td>0</td>\n",
       "      <td>253875</td>\n",
       "      <td>покупка жилья</td>\n",
       "      <td>жилье</td>\n",
       "    </tr>\n",
       "    <tr>\n",
       "      <td>1</td>\n",
       "      <td>1</td>\n",
       "      <td>1-2 ребенка</td>\n",
       "      <td>4024</td>\n",
       "      <td>0.460</td>\n",
       "      <td>36</td>\n",
       "      <td>среднее</td>\n",
       "      <td>1</td>\n",
       "      <td>женат / замужем</td>\n",
       "      <td>0</td>\n",
       "      <td>F</td>\n",
       "      <td>сотрудник</td>\n",
       "      <td>0</td>\n",
       "      <td>112080</td>\n",
       "      <td>приобретение автомобиля</td>\n",
       "      <td>автомобиль</td>\n",
       "    </tr>\n",
       "    <tr>\n",
       "      <td>2</td>\n",
       "      <td>0</td>\n",
       "      <td>без детей</td>\n",
       "      <td>5623</td>\n",
       "      <td>0.640</td>\n",
       "      <td>33</td>\n",
       "      <td>среднее</td>\n",
       "      <td>1</td>\n",
       "      <td>женат / замужем</td>\n",
       "      <td>0</td>\n",
       "      <td>M</td>\n",
       "      <td>сотрудник</td>\n",
       "      <td>0</td>\n",
       "      <td>145885</td>\n",
       "      <td>покупка жилья</td>\n",
       "      <td>жилье</td>\n",
       "    </tr>\n",
       "    <tr>\n",
       "      <td>3</td>\n",
       "      <td>3</td>\n",
       "      <td>многодетные</td>\n",
       "      <td>4124</td>\n",
       "      <td>0.470</td>\n",
       "      <td>32</td>\n",
       "      <td>среднее</td>\n",
       "      <td>1</td>\n",
       "      <td>женат / замужем</td>\n",
       "      <td>0</td>\n",
       "      <td>M</td>\n",
       "      <td>сотрудник</td>\n",
       "      <td>0</td>\n",
       "      <td>267628</td>\n",
       "      <td>дополнительное образование</td>\n",
       "      <td>образование</td>\n",
       "    </tr>\n",
       "    <tr>\n",
       "      <td>4</td>\n",
       "      <td>0</td>\n",
       "      <td>без детей</td>\n",
       "      <td>340266</td>\n",
       "      <td>38.840</td>\n",
       "      <td>53</td>\n",
       "      <td>среднее</td>\n",
       "      <td>1</td>\n",
       "      <td>гражданский брак</td>\n",
       "      <td>1</td>\n",
       "      <td>F</td>\n",
       "      <td>пенсионер</td>\n",
       "      <td>0</td>\n",
       "      <td>158616</td>\n",
       "      <td>сыграть свадьбу</td>\n",
       "      <td>свадьба</td>\n",
       "    </tr>\n",
       "  </tbody>\n",
       "</table>\n",
       "</div>"
      ],
      "text/plain": [
       "   children children_grouped  hours_employed  years_employed  dob_years  \\\n",
       "0         1      1-2 ребенка            8437           0.960         42   \n",
       "1         1      1-2 ребенка            4024           0.460         36   \n",
       "2         0        без детей            5623           0.640         33   \n",
       "3         3      многодетные            4124           0.470         32   \n",
       "4         0        без детей          340266          38.840         53   \n",
       "\n",
       "  education  education_id     family_status  family_status_id gender  \\\n",
       "0    высшее             0   женат / замужем                 0      F   \n",
       "1   среднее             1   женат / замужем                 0      F   \n",
       "2   среднее             1   женат / замужем                 0      M   \n",
       "3   среднее             1   женат / замужем                 0      M   \n",
       "4   среднее             1  гражданский брак                 1      F   \n",
       "\n",
       "  income_type  debt  total_income                     purpose purpose_category  \n",
       "0   сотрудник     0        253875               покупка жилья            жилье  \n",
       "1   сотрудник     0        112080     приобретение автомобиля       автомобиль  \n",
       "2   сотрудник     0        145885               покупка жилья            жилье  \n",
       "3   сотрудник     0        267628  дополнительное образование      образование  \n",
       "4   пенсионер     0        158616             сыграть свадьбу          свадьба  "
      ]
     },
     "execution_count": 41,
     "metadata": {},
     "output_type": "execute_result"
    }
   ],
   "source": [
    "df.head()"
   ]
  },
  {
   "cell_type": "markdown",
   "metadata": {},
   "source": [
    "Проверим формат столбца семейный статус:"
   ]
  },
  {
   "cell_type": "code",
   "execution_count": 42,
   "metadata": {},
   "outputs": [
    {
     "data": {
      "text/plain": [
       "женат / замужем          12339\n",
       "гражданский брак          4151\n",
       "Не женат / не замужем     2810\n",
       "в разводе                 1195\n",
       "вдовец / вдова             959\n",
       "Name: family_status, dtype: int64"
      ]
     },
     "execution_count": 42,
     "metadata": {},
     "output_type": "execute_result"
    }
   ],
   "source": [
    "df['family_status'].value_counts()"
   ]
  },
  {
   "cell_type": "code",
   "execution_count": 43,
   "metadata": {},
   "outputs": [
    {
     "data": {
      "text/plain": [
       "F      14174\n",
       "M       7279\n",
       "XNA        1\n",
       "Name: gender, dtype: int64"
      ]
     },
     "execution_count": 43,
     "metadata": {},
     "output_type": "execute_result"
    }
   ],
   "source": [
    "df['gender'].value_counts()"
   ]
  },
  {
   "cell_type": "markdown",
   "metadata": {},
   "source": [
    "Обнаружился неизвестный пол XNA. Cкорее всего это ошибка, но так как мы не знаем пол человека и не можем сделать предположений из данных, а также в расчетах использовать значение не будем, то оставляем его как есть."
   ]
  },
  {
   "cell_type": "code",
   "execution_count": 44,
   "metadata": {
    "scrolled": true
   },
   "outputs": [
    {
     "data": {
      "text/plain": [
       "сотрудник          11084\n",
       "компаньон           5078\n",
       "пенсионер           3829\n",
       "госслужащий         1457\n",
       "безработный            2\n",
       "предприниматель        2\n",
       "студент                1\n",
       "в декрете              1\n",
       "Name: income_type, dtype: int64"
      ]
     },
     "execution_count": 44,
     "metadata": {},
     "output_type": "execute_result"
    }
   ],
   "source": [
    "df['income_type'].value_counts()"
   ]
  },
  {
   "cell_type": "markdown",
   "metadata": {},
   "source": [
    "С этим столбцом все впорядке. "
   ]
  },
  {
   "cell_type": "code",
   "execution_count": 45,
   "metadata": {
    "scrolled": true
   },
   "outputs": [
    {
     "data": {
      "text/plain": [
       "среднее                15172\n",
       "высшее                  5250\n",
       "неоконченное высшее      744\n",
       "начальное                282\n",
       "ученая степень             6\n",
       "Name: education, dtype: int64"
      ]
     },
     "execution_count": 45,
     "metadata": {},
     "output_type": "execute_result"
    }
   ],
   "source": [
    "df['education'].value_counts()"
   ]
  },
  {
   "cell_type": "markdown",
   "metadata": {},
   "source": [
    "**Вывод**"
   ]
  },
  {
   "cell_type": "markdown",
   "metadata": {},
   "source": [
    "1. Многие уникальные значения цели кредита названы похожим образом. Была создана новая таблица с исправленными категориями. В данной задаче это не понадобится, но эта категоризация, возможно, поможет другим аналитикам, изучающим влияние цели кредита на возврат денег во-время.\n",
    "2. В столбце 'gender' обнаружился неизвестный пол XNA. Cкорее всего это ошибка, но так как мы не знаем пол человека и не можем сделать предположений из данных или из расчетов, то использовать значение не будем, оставляем его как есть.\n",
    "3. Катеогризировали количество детей: создали новую колонку, куда добавили семьи без детей, с 1-2 детьми и многодетных."
   ]
  },
  {
   "cell_type": "markdown",
   "metadata": {},
   "source": [
    "## Шаг 3. Ответьте на вопросы"
   ]
  },
  {
   "cell_type": "markdown",
   "metadata": {},
   "source": [
    "- Есть ли зависимость между наличием детей и возвратом кредита в срок?"
   ]
  },
  {
   "cell_type": "code",
   "execution_count": 46,
   "metadata": {},
   "outputs": [
    {
     "data": {
      "text/html": [
       "<div>\n",
       "<style scoped>\n",
       "    .dataframe tbody tr th:only-of-type {\n",
       "        vertical-align: middle;\n",
       "    }\n",
       "\n",
       "    .dataframe tbody tr th {\n",
       "        vertical-align: top;\n",
       "    }\n",
       "\n",
       "    .dataframe thead th {\n",
       "        text-align: right;\n",
       "    }\n",
       "</style>\n",
       "<table border=\"1\" class=\"dataframe\">\n",
       "  <thead>\n",
       "    <tr style=\"text-align: right;\">\n",
       "      <th></th>\n",
       "      <th>count</th>\n",
       "      <th>sum</th>\n",
       "      <th>mean</th>\n",
       "    </tr>\n",
       "    <tr>\n",
       "      <th>children_grouped</th>\n",
       "      <th></th>\n",
       "      <th></th>\n",
       "      <th></th>\n",
       "    </tr>\n",
       "  </thead>\n",
       "  <tbody>\n",
       "    <tr>\n",
       "      <td>1-2 ребенка</td>\n",
       "      <td>6907</td>\n",
       "      <td>639</td>\n",
       "      <td>0.093</td>\n",
       "    </tr>\n",
       "    <tr>\n",
       "      <td>без детей</td>\n",
       "      <td>14167</td>\n",
       "      <td>1071</td>\n",
       "      <td>0.076</td>\n",
       "    </tr>\n",
       "    <tr>\n",
       "      <td>многодетные</td>\n",
       "      <td>380</td>\n",
       "      <td>31</td>\n",
       "      <td>0.082</td>\n",
       "    </tr>\n",
       "  </tbody>\n",
       "</table>\n",
       "</div>"
      ],
      "text/plain": [
       "                  count   sum  mean\n",
       "children_grouped                   \n",
       "1-2 ребенка        6907   639 0.093\n",
       "без детей         14167  1071 0.076\n",
       "многодетные         380    31 0.082"
      ]
     },
     "execution_count": 46,
     "metadata": {},
     "output_type": "execute_result"
    }
   ],
   "source": [
    "df.groupby('children_grouped')['debt'].agg(['count','sum','mean'])"
   ]
  },
  {
   "cell_type": "markdown",
   "metadata": {},
   "source": [
    "**Вывод**"
   ]
  },
  {
   "cell_type": "markdown",
   "metadata": {},
   "source": [
    "- Наибольшее количество кредитов берут семьи без детей, но при этом они, как правило, реже просрачивают оплату по кредиту, чем люди с детьми. \n",
    "- Хуже всего отдают кредиты люди, у которых 1-2 ребенка.\n",
    "- Многодетные чаще выплачивают кредит во-время, чем люди с 1-2 детьми. "
   ]
  },
  {
   "cell_type": "markdown",
   "metadata": {},
   "source": [
    "- Есть ли зависимость между семейным положением и возвратом кредита в срок?"
   ]
  },
  {
   "cell_type": "code",
   "execution_count": 47,
   "metadata": {},
   "outputs": [
    {
     "data": {
      "text/html": [
       "<div>\n",
       "<style scoped>\n",
       "    .dataframe tbody tr th:only-of-type {\n",
       "        vertical-align: middle;\n",
       "    }\n",
       "\n",
       "    .dataframe tbody tr th {\n",
       "        vertical-align: top;\n",
       "    }\n",
       "\n",
       "    .dataframe thead th {\n",
       "        text-align: right;\n",
       "    }\n",
       "</style>\n",
       "<table border=\"1\" class=\"dataframe\">\n",
       "  <thead>\n",
       "    <tr style=\"text-align: right;\">\n",
       "      <th></th>\n",
       "      <th>count</th>\n",
       "      <th>sum</th>\n",
       "      <th>mean</th>\n",
       "    </tr>\n",
       "    <tr>\n",
       "      <th>family_status</th>\n",
       "      <th></th>\n",
       "      <th></th>\n",
       "      <th></th>\n",
       "    </tr>\n",
       "  </thead>\n",
       "  <tbody>\n",
       "    <tr>\n",
       "      <td>Не женат / не замужем</td>\n",
       "      <td>2810</td>\n",
       "      <td>274</td>\n",
       "      <td>0.098</td>\n",
       "    </tr>\n",
       "    <tr>\n",
       "      <td>в разводе</td>\n",
       "      <td>1195</td>\n",
       "      <td>85</td>\n",
       "      <td>0.071</td>\n",
       "    </tr>\n",
       "    <tr>\n",
       "      <td>вдовец / вдова</td>\n",
       "      <td>959</td>\n",
       "      <td>63</td>\n",
       "      <td>0.066</td>\n",
       "    </tr>\n",
       "    <tr>\n",
       "      <td>гражданский брак</td>\n",
       "      <td>4151</td>\n",
       "      <td>388</td>\n",
       "      <td>0.093</td>\n",
       "    </tr>\n",
       "    <tr>\n",
       "      <td>женат / замужем</td>\n",
       "      <td>12339</td>\n",
       "      <td>931</td>\n",
       "      <td>0.075</td>\n",
       "    </tr>\n",
       "  </tbody>\n",
       "</table>\n",
       "</div>"
      ],
      "text/plain": [
       "                       count  sum  mean\n",
       "family_status                          \n",
       "Не женат / не замужем   2810  274 0.098\n",
       "в разводе               1195   85 0.071\n",
       "вдовец / вдова           959   63 0.066\n",
       "гражданский брак        4151  388 0.093\n",
       "женат / замужем        12339  931 0.075"
      ]
     },
     "execution_count": 47,
     "metadata": {},
     "output_type": "execute_result"
    }
   ],
   "source": [
    "df.groupby('family_status')['debt'].agg(['count','sum','mean'])"
   ]
  },
  {
   "cell_type": "markdown",
   "metadata": {},
   "source": [
    "**Вывод**"
   ]
  },
  {
   "cell_type": "markdown",
   "metadata": {},
   "source": [
    "Есть очевидная зависимость от семейного положения:\n",
    "- Люди не в браке и не бывавшие в браке берут больше всего кредитов и хуже всего выплачивают их. \n",
    "- Вдовы/вдовцы имеют наименьший процент невозвратов кредитов"
   ]
  },
  {
   "cell_type": "markdown",
   "metadata": {},
   "source": [
    "- Есть ли зависимость между уровнем дохода и возвратом кредита в срок?"
   ]
  },
  {
   "cell_type": "markdown",
   "metadata": {},
   "source": [
    "Для удобства выполним целочисленное деление дохода на 50000, тем самым разбив людей на категории каждые 50000 дохода. Начиная с id 10 (зп >= 500000), выборка людей становится нерепрезентативной, поэтому объединяем людей с доходом => 500000 в одну категорию (id = 10). Для этого добавим в функцию условие:"
   ]
  },
  {
   "cell_type": "code",
   "execution_count": 48,
   "metadata": {},
   "outputs": [],
   "source": [
    "def total_income_category(value):\n",
    "    if value >= 500000:\n",
    "        return 10\n",
    "    else:\n",
    "        value = value // 50000\n",
    "        return value"
   ]
  },
  {
   "cell_type": "code",
   "execution_count": 49,
   "metadata": {},
   "outputs": [],
   "source": [
    "df['total_income_id'] = df['total_income'].apply(total_income_category)"
   ]
  },
  {
   "cell_type": "code",
   "execution_count": 50,
   "metadata": {},
   "outputs": [
    {
     "data": {
      "text/plain": [
       "<matplotlib.axes._subplots.AxesSubplot at 0x7f4aa616f2d0>"
      ]
     },
     "execution_count": 50,
     "metadata": {},
     "output_type": "execute_result"
    },
    {
     "data": {
      "image/png": "[encoded data removed]",
      "text/plain": [
       "<Figure size 432x288 with 1 Axes>"
      ]
     },
     "metadata": {
      "needs_background": "light"
     },
     "output_type": "display_data"
    }
   ],
   "source": [
    "df.groupby('total_income_id')['debt'].mean().plot(ylim=0, grid=True)"
   ]
  },
  {
   "cell_type": "markdown",
   "metadata": {},
   "source": [
    "Из графика очевидно, что чем больше доход, тем меньше задолженностью по кредиту. Проверим нашу гипотезу:"
   ]
  },
  {
   "cell_type": "code",
   "execution_count": 51,
   "metadata": {},
   "outputs": [
    {
     "data": {
      "text/plain": [
       "count     21454.000\n",
       "mean     165271.070\n",
       "std       98080.888\n",
       "min       20667.000\n",
       "25%      107515.500\n",
       "50%      146499.500\n",
       "75%      195813.250\n",
       "max     2265604.000\n",
       "Name: total_income, dtype: float64"
      ]
     },
     "execution_count": 51,
     "metadata": {},
     "output_type": "execute_result"
    }
   ],
   "source": [
    "df['total_income'].describe()"
   ]
  },
  {
   "cell_type": "markdown",
   "metadata": {},
   "source": [
    "Посмотрим распредение:"
   ]
  },
  {
   "cell_type": "code",
   "execution_count": 52,
   "metadata": {},
   "outputs": [
    {
     "data": {
      "text/plain": [
       "<matplotlib.axes._subplots.AxesSubplot at 0x7f4aefcc0f50>"
      ]
     },
     "execution_count": 52,
     "metadata": {},
     "output_type": "execute_result"
    },
    {
     "data": {
      "image/png": "[encoded data removed]",
      "text/plain": [
       "<Figure size 432x288 with 1 Axes>"
      ]
     },
     "metadata": {
      "needs_background": "light"
     },
     "output_type": "display_data"
    }
   ],
   "source": [
    "df['total_income'].hist()"
   ]
  },
  {
   "cell_type": "code",
   "execution_count": 53,
   "metadata": {},
   "outputs": [],
   "source": [
    "quantille_group = ['25', '50', '75', 'max']"
   ]
  },
  {
   "cell_type": "code",
   "execution_count": 54,
   "metadata": {},
   "outputs": [],
   "source": [
    "df['income_group']=pd.qcut(df['total_income'],q=[0, 1/4, 2/4, 3/4, 1],labels=quantille_group)"
   ]
  },
  {
   "cell_type": "code",
   "execution_count": 55,
   "metadata": {},
   "outputs": [
    {
     "data": {
      "text/html": [
       "<div>\n",
       "<style scoped>\n",
       "    .dataframe tbody tr th:only-of-type {\n",
       "        vertical-align: middle;\n",
       "    }\n",
       "\n",
       "    .dataframe tbody tr th {\n",
       "        vertical-align: top;\n",
       "    }\n",
       "\n",
       "    .dataframe thead th {\n",
       "        text-align: right;\n",
       "    }\n",
       "</style>\n",
       "<table border=\"1\" class=\"dataframe\">\n",
       "  <thead>\n",
       "    <tr style=\"text-align: right;\">\n",
       "      <th></th>\n",
       "      <th>count</th>\n",
       "      <th>sum</th>\n",
       "      <th>mean</th>\n",
       "    </tr>\n",
       "    <tr>\n",
       "      <th>income_group</th>\n",
       "      <th></th>\n",
       "      <th></th>\n",
       "      <th></th>\n",
       "    </tr>\n",
       "  </thead>\n",
       "  <tbody>\n",
       "    <tr>\n",
       "      <td>25</td>\n",
       "      <td>5364</td>\n",
       "      <td>427</td>\n",
       "      <td>0.080</td>\n",
       "    </tr>\n",
       "    <tr>\n",
       "      <td>50</td>\n",
       "      <td>5363</td>\n",
       "      <td>455</td>\n",
       "      <td>0.085</td>\n",
       "    </tr>\n",
       "    <tr>\n",
       "      <td>75</td>\n",
       "      <td>5363</td>\n",
       "      <td>476</td>\n",
       "      <td>0.089</td>\n",
       "    </tr>\n",
       "    <tr>\n",
       "      <td>max</td>\n",
       "      <td>5364</td>\n",
       "      <td>383</td>\n",
       "      <td>0.071</td>\n",
       "    </tr>\n",
       "  </tbody>\n",
       "</table>\n",
       "</div>"
      ],
      "text/plain": [
       "              count  sum  mean\n",
       "income_group                  \n",
       "25             5364  427 0.080\n",
       "50             5363  455 0.085\n",
       "75             5363  476 0.089\n",
       "max            5364  383 0.071"
      ]
     },
     "execution_count": 55,
     "metadata": {},
     "output_type": "execute_result"
    }
   ],
   "source": [
    "df.groupby('income_group')['debt'].agg(['count','sum','mean'])"
   ]
  },
  {
   "cell_type": "code",
   "execution_count": 56,
   "metadata": {
    "scrolled": true
   },
   "outputs": [
    {
     "data": {
      "text/plain": [
       "<matplotlib.axes._subplots.AxesSubplot at 0x7f4aef0dcb90>"
      ]
     },
     "execution_count": 56,
     "metadata": {},
     "output_type": "execute_result"
    },
    {
     "data": {
      "image/png": "[encoded data removed]",
      "text/plain": [
       "<Figure size 432x288 with 1 Axes>"
      ]
     },
     "metadata": {
      "needs_background": "light"
     },
     "output_type": "display_data"
    }
   ],
   "source": [
    "df.groupby('income_group')['debt'].mean().plot(ylim=0, grid=True)"
   ]
  },
  {
   "cell_type": "markdown",
   "metadata": {},
   "source": [
    "Наша теория подтвердилась"
   ]
  },
  {
   "cell_type": "markdown",
   "metadata": {},
   "source": [
    "**Вывод**"
   ]
  },
  {
   "cell_type": "markdown",
   "metadata": {},
   "source": [
    "Проанализировав данные, стало очевидно, что с увеличением дохода растет и задолженность по кредиту, и при доходе выше среднего достигает своих максимальных значений. При этом далее с увеличением дохода задолженность начинает уменьшаться и, как очевидно из графика, что у людей с наибольшим доходом наименьшая задолженность по кредиту."
   ]
  },
  {
   "cell_type": "markdown",
   "metadata": {},
   "source": [
    "- Как разные цели кредита влияют на его возврат в срок?"
   ]
  },
  {
   "cell_type": "code",
   "execution_count": null,
   "metadata": {},
   "outputs": [],
   "source": [
    "df.groupby('purpose_category')['debt'].agg(['count','sum','mean'])"
   ]
  },
  {
   "cell_type": "markdown",
   "metadata": {},
   "source": [
    "**Вывод**"
   ]
  },
  {
   "cell_type": "markdown",
   "metadata": {},
   "source": [
    "- наиболее погашаемые кредиты  на жильё (примерно одинаково с кредитами на свадьбу)\n",
    "- просрочка чаще всего возникает у кредитов на автомобили и образование"
   ]
  },
  {
   "cell_type": "markdown",
   "metadata": {},
   "source": [
    "## Шаг 4. Общий вывод"
   ]
  },
  {
   "cell_type": "markdown",
   "metadata": {},
   "source": [
    "- Наибольшее количество кредитов берут семьи без детей, но при этом они, как правило, реже просрачивают оплату по кредиту, чем люди с детьми. Хуже всего отдают кредиты люди, у которых 1-2 ребенка. Многодетные чаще выплачивают кредит во-время, чем люди с 1-2 детьми. \n",
    "- Есть очевидная зависимость от семейного положения.Вдовцы и разведенные хуже всего выплачивают кредит. Очевидно, что это связано с финансовыми трудностями после развода или потери супруга/супруги. Люди не в браке и не бывавшие в браке имеют наименьший процент невозвратов, практически такой же как и люди в гражданском браке.\n",
    "- Наименьшая задолженность по кредиту у людей с наибольшим доходом. При этом самая большая задолженность у группы с доходом ниже среднего.\n",
    "- При этом наиболее погашаемые кредиты  на жильё (примерно одинаково с кредитами на свадьбу), а просроченные платежи чаще всего возникают у кредитов на автомобили и образование."
   ]
  }
 ],
 "metadata": {
  "ExecuteTimeLog": [
   {
    "duration": 1239,
    "start_time": "2021-06-13T14:04:12.026Z"
   },
   {
    "duration": 357,
    "start_time": "2021-06-13T14:04:24.214Z"
   },
   {
    "duration": 257,
    "start_time": "2021-06-13T14:09:50.264Z"
   },
   {
    "duration": 19,
    "start_time": "2021-06-13T14:10:34.187Z"
   },
   {
    "duration": 229,
    "start_time": "2021-06-13T14:11:27.716Z"
   },
   {
    "duration": 20,
    "start_time": "2021-06-13T14:11:30.257Z"
   },
   {
    "duration": 81,
    "start_time": "2021-06-13T14:12:14.723Z"
   },
   {
    "duration": 19,
    "start_time": "2021-06-13T14:12:17.328Z"
   },
   {
    "duration": 16,
    "start_time": "2021-06-13T14:12:24.526Z"
   },
   {
    "duration": 373,
    "start_time": "2021-06-13T14:20:32.322Z"
   },
   {
    "duration": 326,
    "start_time": "2021-06-13T14:20:38.945Z"
   },
   {
    "duration": 798,
    "start_time": "2021-06-13T14:20:50.640Z"
   },
   {
    "duration": 371,
    "start_time": "2021-06-13T14:20:51.441Z"
   },
   {
    "duration": 13,
    "start_time": "2021-06-13T14:23:35.480Z"
   },
   {
    "duration": 271,
    "start_time": "2021-06-13T14:24:20.818Z"
   },
   {
    "duration": 786,
    "start_time": "2021-06-13T14:24:29.976Z"
   },
   {
    "duration": 355,
    "start_time": "2021-06-13T14:24:30.765Z"
   },
   {
    "duration": 19,
    "start_time": "2021-06-13T14:24:31.104Z"
   },
   {
    "duration": 15,
    "start_time": "2021-06-13T14:24:40.534Z"
   },
   {
    "duration": 249,
    "start_time": "2021-06-13T14:24:43.093Z"
   },
   {
    "duration": 14,
    "start_time": "2021-06-13T14:24:50.029Z"
   },
   {
    "duration": 282,
    "start_time": "2021-06-13T14:33:26.276Z"
   },
   {
    "duration": 7,
    "start_time": "2021-06-13T14:33:47.685Z"
   },
   {
    "duration": 286,
    "start_time": "2021-06-13T14:37:20.013Z"
   },
   {
    "duration": 305,
    "start_time": "2021-06-13T14:37:57.709Z"
   },
   {
    "duration": 788,
    "start_time": "2021-06-13T14:38:59.226Z"
   },
   {
    "duration": 16,
    "start_time": "2021-06-13T14:39:00.016Z"
   },
   {
    "duration": 14,
    "start_time": "2021-06-13T14:39:00.038Z"
   },
   {
    "duration": 532,
    "start_time": "2021-06-13T14:39:00.054Z"
   },
   {
    "duration": 291,
    "start_time": "2021-06-13T14:39:40.637Z"
   },
   {
    "duration": 77,
    "start_time": "2021-06-13T14:40:00.686Z"
   },
   {
    "duration": 14,
    "start_time": "2021-06-13T14:40:03.995Z"
   },
   {
    "duration": 14,
    "start_time": "2021-06-13T14:40:08.380Z"
   },
   {
    "duration": 282,
    "start_time": "2021-06-13T14:40:11.434Z"
   },
   {
    "duration": 37,
    "start_time": "2021-06-13T14:41:01.119Z"
   },
   {
    "duration": -99,
    "start_time": "2021-06-13T14:42:15.944Z"
   },
   {
    "duration": 36,
    "start_time": "2021-06-13T14:42:18.350Z"
   },
   {
    "duration": 8,
    "start_time": "2021-06-13T14:42:38.671Z"
   },
   {
    "duration": 34,
    "start_time": "2021-06-13T14:42:50.943Z"
   },
   {
    "duration": 6874,
    "start_time": "2021-06-13T14:46:14.836Z"
   },
   {
    "duration": 7,
    "start_time": "2021-06-13T14:52:47.565Z"
   },
   {
    "duration": 269,
    "start_time": "2021-06-13T14:52:56.113Z"
   },
   {
    "duration": 6,
    "start_time": "2021-06-13T14:53:06.343Z"
   },
   {
    "duration": 7,
    "start_time": "2021-06-13T14:53:23.394Z"
   },
   {
    "duration": 9,
    "start_time": "2021-06-13T14:53:50.490Z"
   },
   {
    "duration": 9,
    "start_time": "2021-06-13T14:53:56.786Z"
   },
   {
    "duration": 8,
    "start_time": "2021-06-13T14:54:19.265Z"
   },
   {
    "duration": 87,
    "start_time": "2021-06-13T14:54:28.535Z"
   },
   {
    "duration": 10,
    "start_time": "2021-06-13T14:54:33.567Z"
   },
   {
    "duration": 5,
    "start_time": "2021-06-13T14:56:46.741Z"
   },
   {
    "duration": 79,
    "start_time": "2021-06-13T14:57:45.629Z"
   },
   {
    "duration": 76,
    "start_time": "2021-06-13T14:57:55.004Z"
   },
   {
    "duration": 268,
    "start_time": "2021-06-13T15:06:20.163Z"
   },
   {
    "duration": 6,
    "start_time": "2021-06-13T15:06:28.970Z"
   },
   {
    "duration": 96,
    "start_time": "2021-06-13T15:06:55.481Z"
   },
   {
    "duration": 90,
    "start_time": "2021-06-13T15:07:00.002Z"
   },
   {
    "duration": 10,
    "start_time": "2021-06-13T15:07:07.897Z"
   },
   {
    "duration": 26,
    "start_time": "2021-06-13T15:08:21.078Z"
   },
   {
    "duration": 7,
    "start_time": "2021-06-13T15:12:09.076Z"
   },
   {
    "duration": 23,
    "start_time": "2021-06-13T15:12:18.934Z"
   },
   {
    "duration": 253,
    "start_time": "2021-06-13T15:13:04.271Z"
   },
   {
    "duration": 10,
    "start_time": "2021-06-13T15:23:52.417Z"
   },
   {
    "duration": 5,
    "start_time": "2021-06-13T15:25:11.437Z"
   },
   {
    "duration": 22,
    "start_time": "2021-06-13T15:25:15.718Z"
   },
   {
    "duration": 10,
    "start_time": "2021-06-13T15:38:01.351Z"
   },
   {
    "duration": 9,
    "start_time": "2021-06-13T15:39:27.301Z"
   },
   {
    "duration": 10,
    "start_time": "2021-06-13T15:39:40.727Z"
   },
   {
    "duration": 5,
    "start_time": "2021-06-13T15:39:52.963Z"
   },
   {
    "duration": 122,
    "start_time": "2021-06-13T15:51:29.957Z"
   },
   {
    "duration": 10,
    "start_time": "2021-06-13T15:51:37.004Z"
   },
   {
    "duration": 10,
    "start_time": "2021-06-13T15:55:11.226Z"
   },
   {
    "duration": 20,
    "start_time": "2021-06-13T15:55:59.091Z"
   },
   {
    "duration": 76,
    "start_time": "2021-06-13T15:56:01.644Z"
   },
   {
    "duration": 46,
    "start_time": "2021-06-13T16:02:41.586Z"
   },
   {
    "duration": 13,
    "start_time": "2021-06-13T16:17:05.183Z"
   },
   {
    "duration": 5,
    "start_time": "2021-06-13T16:20:56.961Z"
   },
   {
    "duration": 6987,
    "start_time": "2021-06-13T16:21:17.775Z"
   },
   {
    "duration": 800,
    "start_time": "2021-06-13T16:21:32.027Z"
   },
   {
    "duration": 89,
    "start_time": "2021-06-13T16:21:32.829Z"
   },
   {
    "duration": 23,
    "start_time": "2021-06-13T16:21:32.926Z"
   },
   {
    "duration": 22,
    "start_time": "2021-06-13T16:21:32.953Z"
   },
   {
    "duration": 17,
    "start_time": "2021-06-13T16:21:32.978Z"
   },
   {
    "duration": 85,
    "start_time": "2021-06-13T16:21:32.998Z"
   },
   {
    "duration": 41,
    "start_time": "2021-06-13T16:21:33.086Z"
   },
   {
    "duration": 12,
    "start_time": "2021-06-13T16:21:33.130Z"
   },
   {
    "duration": 13,
    "start_time": "2021-06-13T16:21:33.146Z"
   },
   {
    "duration": 7367,
    "start_time": "2021-06-13T16:21:33.162Z"
   },
   {
    "duration": 5,
    "start_time": "2021-06-13T16:22:21.893Z"
   },
   {
    "duration": 13,
    "start_time": "2021-06-13T16:24:11.461Z"
   },
   {
    "duration": 14,
    "start_time": "2021-06-13T16:24:35.195Z"
   },
   {
    "duration": 5,
    "start_time": "2021-06-13T16:27:44.696Z"
   },
   {
    "duration": 5,
    "start_time": "2021-06-13T16:27:46.944Z"
   },
   {
    "duration": 18,
    "start_time": "2021-06-13T16:27:48.533Z"
   },
   {
    "duration": 33,
    "start_time": "2021-06-13T16:28:58.020Z"
   },
   {
    "duration": 28,
    "start_time": "2021-06-13T16:29:36.804Z"
   },
   {
    "duration": 24,
    "start_time": "2021-06-13T16:29:49.746Z"
   },
   {
    "duration": 17,
    "start_time": "2021-06-13T16:30:17.081Z"
   },
   {
    "duration": 16,
    "start_time": "2021-06-13T16:36:41.051Z"
   },
   {
    "duration": 18,
    "start_time": "2021-06-13T16:37:24.205Z"
   },
   {
    "duration": 34,
    "start_time": "2021-06-13T16:37:31.722Z"
   },
   {
    "duration": 26,
    "start_time": "2021-06-13T16:37:38.941Z"
   },
   {
    "duration": 24,
    "start_time": "2021-06-13T16:39:01.730Z"
   },
   {
    "duration": 36,
    "start_time": "2021-06-13T16:39:14.048Z"
   },
   {
    "duration": 36,
    "start_time": "2021-06-13T16:39:15.746Z"
   },
   {
    "duration": 25,
    "start_time": "2021-06-13T16:39:17.687Z"
   },
   {
    "duration": 17,
    "start_time": "2021-06-13T16:39:19.352Z"
   },
   {
    "duration": 6,
    "start_time": "2021-06-13T16:42:03.938Z"
   },
   {
    "duration": 5,
    "start_time": "2021-06-13T16:42:05.360Z"
   },
   {
    "duration": 12,
    "start_time": "2021-06-13T16:42:05.787Z"
   },
   {
    "duration": 17,
    "start_time": "2021-06-13T16:42:06.746Z"
   },
   {
    "duration": 18,
    "start_time": "2021-06-13T16:42:07.705Z"
   },
   {
    "duration": 18,
    "start_time": "2021-06-13T16:44:55.705Z"
   },
   {
    "duration": 13,
    "start_time": "2021-06-13T16:45:04.485Z"
   },
   {
    "duration": 17,
    "start_time": "2021-06-13T16:45:06.048Z"
   },
   {
    "duration": 26,
    "start_time": "2021-06-13T16:45:09.476Z"
   },
   {
    "duration": 736,
    "start_time": "2021-06-13T16:45:21.816Z"
   },
   {
    "duration": 94,
    "start_time": "2021-06-13T16:45:22.555Z"
   },
   {
    "duration": 19,
    "start_time": "2021-06-13T16:45:22.652Z"
   },
   {
    "duration": 15,
    "start_time": "2021-06-13T16:45:22.674Z"
   },
   {
    "duration": 34,
    "start_time": "2021-06-13T16:45:22.692Z"
   },
   {
    "duration": 48,
    "start_time": "2021-06-13T16:45:22.728Z"
   },
   {
    "duration": 12,
    "start_time": "2021-06-13T16:45:22.779Z"
   },
   {
    "duration": 35,
    "start_time": "2021-06-13T16:45:22.794Z"
   },
   {
    "duration": 11,
    "start_time": "2021-06-13T16:45:22.831Z"
   },
   {
    "duration": 14,
    "start_time": "2021-06-13T16:45:22.844Z"
   },
   {
    "duration": 17,
    "start_time": "2021-06-13T16:45:22.861Z"
   },
   {
    "duration": 60,
    "start_time": "2021-06-13T16:45:22.880Z"
   },
   {
    "duration": 25,
    "start_time": "2021-06-13T16:45:22.942Z"
   },
   {
    "duration": 23,
    "start_time": "2021-06-13T16:45:22.969Z"
   },
   {
    "duration": 39,
    "start_time": "2021-06-13T16:45:22.994Z"
   },
   {
    "duration": 929,
    "start_time": "2021-06-13T16:46:07.182Z"
   },
   {
    "duration": 121,
    "start_time": "2021-06-13T16:46:08.114Z"
   },
   {
    "duration": 26,
    "start_time": "2021-06-13T16:46:08.239Z"
   },
   {
    "duration": 16,
    "start_time": "2021-06-13T16:46:08.269Z"
   },
   {
    "duration": 38,
    "start_time": "2021-06-13T16:46:08.288Z"
   },
   {
    "duration": 67,
    "start_time": "2021-06-13T16:46:08.329Z"
   },
   {
    "duration": 37,
    "start_time": "2021-06-13T16:46:08.399Z"
   },
   {
    "duration": 7,
    "start_time": "2021-06-13T16:46:08.440Z"
   },
   {
    "duration": 9,
    "start_time": "2021-06-13T16:46:08.450Z"
   },
   {
    "duration": 25,
    "start_time": "2021-06-13T16:46:08.461Z"
   },
   {
    "duration": 46,
    "start_time": "2021-06-13T16:46:08.489Z"
   },
   {
    "duration": 25,
    "start_time": "2021-06-13T16:46:08.538Z"
   },
   {
    "duration": 34,
    "start_time": "2021-06-13T16:46:08.566Z"
   },
   {
    "duration": 47,
    "start_time": "2021-06-13T16:46:08.603Z"
   },
   {
    "duration": 27,
    "start_time": "2021-06-13T16:46:08.653Z"
   },
   {
    "duration": 51,
    "start_time": "2021-06-13T16:46:08.683Z"
   },
   {
    "duration": 25,
    "start_time": "2021-06-13T16:53:35.649Z"
   },
   {
    "duration": 24,
    "start_time": "2021-06-13T16:54:01.495Z"
   },
   {
    "duration": 789,
    "start_time": "2021-06-13T16:54:09.492Z"
   },
   {
    "duration": 92,
    "start_time": "2021-06-13T16:54:10.284Z"
   },
   {
    "duration": 20,
    "start_time": "2021-06-13T16:54:10.380Z"
   },
   {
    "duration": 35,
    "start_time": "2021-06-13T16:54:10.403Z"
   },
   {
    "duration": 14,
    "start_time": "2021-06-13T16:54:10.441Z"
   },
   {
    "duration": 86,
    "start_time": "2021-06-13T16:54:10.458Z"
   },
   {
    "duration": 19,
    "start_time": "2021-06-13T16:54:10.546Z"
   },
   {
    "duration": 6,
    "start_time": "2021-06-13T16:54:10.568Z"
   },
   {
    "duration": 8,
    "start_time": "2021-06-13T16:54:10.577Z"
   },
   {
    "duration": 45,
    "start_time": "2021-06-13T16:54:10.588Z"
   },
   {
    "duration": 15,
    "start_time": "2021-06-13T16:54:10.636Z"
   },
   {
    "duration": 18,
    "start_time": "2021-06-13T16:54:10.653Z"
   },
   {
    "duration": 52,
    "start_time": "2021-06-13T16:54:10.673Z"
   },
   {
    "duration": 25,
    "start_time": "2021-06-13T16:54:10.728Z"
   },
   {
    "duration": 24,
    "start_time": "2021-06-13T16:54:10.756Z"
   },
   {
    "duration": 41,
    "start_time": "2021-06-13T16:54:10.782Z"
   },
   {
    "duration": 19,
    "start_time": "2021-06-13T16:58:44.304Z"
   },
   {
    "duration": 22,
    "start_time": "2021-06-13T17:02:26.810Z"
   },
   {
    "duration": 10,
    "start_time": "2021-06-13T17:17:31.898Z"
   },
   {
    "duration": 14,
    "start_time": "2021-06-13T17:17:54.332Z"
   },
   {
    "duration": 687,
    "start_time": "2021-06-13T17:21:21.271Z"
   },
   {
    "duration": 88,
    "start_time": "2021-06-13T17:21:21.961Z"
   },
   {
    "duration": 37,
    "start_time": "2021-06-13T17:21:22.057Z"
   },
   {
    "duration": 37,
    "start_time": "2021-06-13T17:21:22.097Z"
   },
   {
    "duration": 13,
    "start_time": "2021-06-13T17:21:22.137Z"
   },
   {
    "duration": 75,
    "start_time": "2021-06-13T17:21:22.153Z"
   },
   {
    "duration": 13,
    "start_time": "2021-06-13T17:21:22.231Z"
   },
   {
    "duration": 6,
    "start_time": "2021-06-13T17:21:22.248Z"
   },
   {
    "duration": 6,
    "start_time": "2021-06-13T17:21:22.256Z"
   },
   {
    "duration": 26,
    "start_time": "2021-06-13T17:21:22.264Z"
   },
   {
    "duration": 16,
    "start_time": "2021-06-13T17:21:22.325Z"
   },
   {
    "duration": 35,
    "start_time": "2021-06-13T17:21:22.344Z"
   },
   {
    "duration": 68,
    "start_time": "2021-06-13T17:21:22.382Z"
   },
   {
    "duration": 26,
    "start_time": "2021-06-13T17:21:22.452Z"
   },
   {
    "duration": 49,
    "start_time": "2021-06-13T17:21:22.481Z"
   },
   {
    "duration": 19,
    "start_time": "2021-06-13T17:21:22.532Z"
   },
   {
    "duration": 408,
    "start_time": "2021-06-13T17:28:13.700Z"
   },
   {
    "duration": 3,
    "start_time": "2021-06-13T17:28:25.225Z"
   },
   {
    "duration": 278,
    "start_time": "2021-06-13T17:28:31.038Z"
   },
   {
    "duration": 262,
    "start_time": "2021-06-13T17:28:35.358Z"
   },
   {
    "duration": 266,
    "start_time": "2021-06-13T17:28:43.641Z"
   },
   {
    "duration": 84,
    "start_time": "2021-06-13T17:31:38.899Z"
   },
   {
    "duration": 931,
    "start_time": "2021-06-13T17:31:49.126Z"
   },
   {
    "duration": 123,
    "start_time": "2021-06-13T17:31:50.060Z"
   },
   {
    "duration": 38,
    "start_time": "2021-06-13T17:31:50.186Z"
   },
   {
    "duration": 15,
    "start_time": "2021-06-13T17:31:50.227Z"
   },
   {
    "duration": 13,
    "start_time": "2021-06-13T17:31:50.244Z"
   },
   {
    "duration": 89,
    "start_time": "2021-06-13T17:31:50.259Z"
   },
   {
    "duration": 13,
    "start_time": "2021-06-13T17:31:50.350Z"
   },
   {
    "duration": 5,
    "start_time": "2021-06-13T17:31:50.366Z"
   },
   {
    "duration": 6,
    "start_time": "2021-06-13T17:31:50.374Z"
   },
   {
    "duration": 48,
    "start_time": "2021-06-13T17:31:50.382Z"
   },
   {
    "duration": 16,
    "start_time": "2021-06-13T17:31:50.432Z"
   },
   {
    "duration": 23,
    "start_time": "2021-06-13T17:31:50.450Z"
   },
   {
    "duration": 52,
    "start_time": "2021-06-13T17:31:50.476Z"
   },
   {
    "duration": 27,
    "start_time": "2021-06-13T17:31:50.530Z"
   },
   {
    "duration": 25,
    "start_time": "2021-06-13T17:31:50.559Z"
   },
   {
    "duration": 46,
    "start_time": "2021-06-13T17:31:50.586Z"
   },
   {
    "duration": 9,
    "start_time": "2021-06-13T17:31:50.635Z"
   },
   {
    "duration": 94,
    "start_time": "2021-06-13T17:31:50.646Z"
   },
   {
    "duration": 399,
    "start_time": "2021-06-13T17:32:08.573Z"
   },
   {
    "duration": 8,
    "start_time": "2021-06-13T17:32:46.292Z"
   },
   {
    "duration": 275,
    "start_time": "2021-06-13T17:32:51.445Z"
   },
   {
    "duration": 268,
    "start_time": "2021-06-13T17:34:11.946Z"
   },
   {
    "duration": 4,
    "start_time": "2021-06-13T17:34:19.697Z"
   },
   {
    "duration": 270,
    "start_time": "2021-06-13T17:34:26.664Z"
   },
   {
    "duration": 7,
    "start_time": "2021-06-13T17:35:39.800Z"
   },
   {
    "duration": 3144,
    "start_time": "2021-06-13T17:35:54.878Z"
   },
   {
    "duration": 2292,
    "start_time": "2021-06-13T17:36:27.190Z"
   },
   {
    "duration": 82,
    "start_time": "2021-06-13T17:36:40.667Z"
   },
   {
    "duration": 3488,
    "start_time": "2021-06-13T17:36:42.807Z"
   },
   {
    "duration": 2280,
    "start_time": "2021-06-13T17:37:54.190Z"
   },
   {
    "duration": 278,
    "start_time": "2021-06-13T17:38:23.657Z"
   },
   {
    "duration": 82,
    "start_time": "2021-06-13T17:38:25.248Z"
   },
   {
    "duration": 3554,
    "start_time": "2021-06-13T17:38:26.536Z"
   },
   {
    "duration": 2584,
    "start_time": "2021-06-13T17:41:58.144Z"
   },
   {
    "duration": 2403,
    "start_time": "2021-06-13T17:42:07.505Z"
   },
   {
    "duration": 2220,
    "start_time": "2021-06-13T17:42:16.832Z"
   },
   {
    "duration": 82,
    "start_time": "2021-06-13T17:47:37.752Z"
   },
   {
    "duration": 3328,
    "start_time": "2021-06-13T17:47:39.414Z"
   },
   {
    "duration": 2337,
    "start_time": "2021-06-13T17:47:42.745Z"
   },
   {
    "duration": 15,
    "start_time": "2021-06-13T17:54:54.336Z"
   },
   {
    "duration": 13,
    "start_time": "2021-06-13T17:54:58.521Z"
   },
   {
    "duration": 15,
    "start_time": "2021-06-13T17:55:00.939Z"
   },
   {
    "duration": 29,
    "start_time": "2021-06-13T17:55:03.784Z"
   },
   {
    "duration": 725,
    "start_time": "2021-06-13T17:55:13.926Z"
   },
   {
    "duration": 91,
    "start_time": "2021-06-13T17:55:14.654Z"
   },
   {
    "duration": 23,
    "start_time": "2021-06-13T17:55:14.748Z"
   },
   {
    "duration": 18,
    "start_time": "2021-06-13T17:55:14.774Z"
   },
   {
    "duration": 38,
    "start_time": "2021-06-13T17:55:14.794Z"
   },
   {
    "duration": 49,
    "start_time": "2021-06-13T17:55:14.836Z"
   },
   {
    "duration": 38,
    "start_time": "2021-06-13T17:55:14.888Z"
   },
   {
    "duration": 6,
    "start_time": "2021-06-13T17:55:14.929Z"
   },
   {
    "duration": 6,
    "start_time": "2021-06-13T17:55:14.937Z"
   },
   {
    "duration": 14,
    "start_time": "2021-06-13T17:55:14.945Z"
   },
   {
    "duration": 11,
    "start_time": "2021-06-13T17:55:14.961Z"
   },
   {
    "duration": 67,
    "start_time": "2021-06-13T17:55:14.974Z"
   },
   {
    "duration": 23,
    "start_time": "2021-06-13T17:55:15.044Z"
   },
   {
    "duration": 33,
    "start_time": "2021-06-13T17:55:15.069Z"
   },
   {
    "duration": 47,
    "start_time": "2021-06-13T17:55:15.104Z"
   },
   {
    "duration": 23,
    "start_time": "2021-06-13T17:55:15.153Z"
   },
   {
    "duration": 45,
    "start_time": "2021-06-13T17:55:15.179Z"
   },
   {
    "duration": 8,
    "start_time": "2021-06-13T17:55:15.226Z"
   },
   {
    "duration": 7,
    "start_time": "2021-06-13T17:55:15.236Z"
   },
   {
    "duration": 3269,
    "start_time": "2021-06-13T17:55:15.245Z"
   },
   {
    "duration": 5,
    "start_time": "2021-06-13T18:05:05.148Z"
   },
   {
    "duration": 444,
    "start_time": "2021-06-13T18:12:48.612Z"
   },
   {
    "duration": 501,
    "start_time": "2021-06-13T18:13:31.498Z"
   },
   {
    "duration": 40316,
    "start_time": "2021-06-13T18:13:43.810Z"
   },
   {
    "duration": 19,
    "start_time": "2021-06-13T18:14:24.128Z"
   },
   {
    "duration": 34,
    "start_time": "2021-06-13T18:15:11.065Z"
   },
   {
    "duration": 18,
    "start_time": "2021-06-13T18:29:27.888Z"
   },
   {
    "duration": 18,
    "start_time": "2021-06-13T18:31:31.138Z"
   },
   {
    "duration": 91,
    "start_time": "2021-06-13T18:31:32.786Z"
   },
   {
    "duration": 103,
    "start_time": "2021-06-13T18:32:27.023Z"
   },
   {
    "duration": 91,
    "start_time": "2021-06-13T18:32:55.542Z"
   },
   {
    "duration": 937,
    "start_time": "2021-06-13T18:33:03.721Z"
   },
   {
    "duration": 122,
    "start_time": "2021-06-13T18:33:04.661Z"
   },
   {
    "duration": 41,
    "start_time": "2021-06-13T18:33:04.786Z"
   },
   {
    "duration": 21,
    "start_time": "2021-06-13T18:33:04.830Z"
   },
   {
    "duration": 18,
    "start_time": "2021-06-13T18:33:04.853Z"
   },
   {
    "duration": 96,
    "start_time": "2021-06-13T18:33:04.874Z"
   },
   {
    "duration": 16,
    "start_time": "2021-06-13T18:33:04.973Z"
   },
   {
    "duration": 5,
    "start_time": "2021-06-13T18:33:04.994Z"
   },
   {
    "duration": 4,
    "start_time": "2021-06-13T18:33:05.026Z"
   },
   {
    "duration": 13,
    "start_time": "2021-06-13T18:33:05.033Z"
   },
   {
    "duration": 10,
    "start_time": "2021-06-13T18:33:05.049Z"
   },
   {
    "duration": 19,
    "start_time": "2021-06-13T18:33:05.063Z"
   },
   {
    "duration": 56,
    "start_time": "2021-06-13T18:33:05.085Z"
   },
   {
    "duration": 36,
    "start_time": "2021-06-13T18:33:05.143Z"
   },
   {
    "duration": 45,
    "start_time": "2021-06-13T18:33:05.181Z"
   },
   {
    "duration": 22,
    "start_time": "2021-06-13T18:33:05.229Z"
   },
   {
    "duration": 18,
    "start_time": "2021-06-13T18:33:05.253Z"
   },
   {
    "duration": 16,
    "start_time": "2021-06-13T18:33:05.273Z"
   },
   {
    "duration": 33,
    "start_time": "2021-06-13T18:33:05.292Z"
   },
   {
    "duration": 3417,
    "start_time": "2021-06-13T18:33:05.327Z"
   },
   {
    "duration": 23,
    "start_time": "2021-06-13T18:33:08.747Z"
   },
   {
    "duration": 87,
    "start_time": "2021-06-13T18:33:08.773Z"
   },
   {
    "duration": -16,
    "start_time": "2021-06-13T18:33:08.879Z"
   },
   {
    "duration": 8,
    "start_time": "2021-06-13T18:35:26.116Z"
   },
   {
    "duration": 33,
    "start_time": "2021-06-13T18:35:30.555Z"
   },
   {
    "duration": 4,
    "start_time": "2021-06-13T18:36:51.318Z"
   },
   {
    "duration": 36,
    "start_time": "2021-06-13T18:39:16.233Z"
   },
   {
    "duration": 25,
    "start_time": "2021-06-13T18:39:23.256Z"
   },
   {
    "duration": 4,
    "start_time": "2021-06-13T18:39:38.051Z"
   },
   {
    "duration": 87,
    "start_time": "2021-06-13T18:40:29.112Z"
   },
   {
    "duration": 17,
    "start_time": "2021-06-13T18:41:31.465Z"
   },
   {
    "duration": 31,
    "start_time": "2021-06-13T18:42:00.871Z"
   },
   {
    "duration": 26,
    "start_time": "2021-06-13T18:42:52.397Z"
   },
   {
    "duration": 31,
    "start_time": "2021-06-13T18:43:02.364Z"
   },
   {
    "duration": -31,
    "start_time": "2021-06-13T18:43:27.421Z"
   },
   {
    "duration": -38,
    "start_time": "2021-06-13T18:43:27.430Z"
   },
   {
    "duration": 6557,
    "start_time": "2021-06-13T18:46:06.654Z"
   },
   {
    "duration": -131,
    "start_time": "2021-06-13T18:46:13.344Z"
   },
   {
    "duration": 1327,
    "start_time": "2021-06-13T18:46:46.878Z"
   },
   {
    "duration": 1729,
    "start_time": "2021-06-13T18:47:30.388Z"
   },
   {
    "duration": 5,
    "start_time": "2021-06-13T18:47:36.877Z"
   },
   {
    "duration": 1313,
    "start_time": "2021-06-13T18:47:40.780Z"
   },
   {
    "duration": 21,
    "start_time": "2021-06-13T18:47:54.390Z"
   },
   {
    "duration": 21,
    "start_time": "2021-06-13T18:47:58.040Z"
   },
   {
    "duration": 715,
    "start_time": "2021-06-13T18:48:05.054Z"
   },
   {
    "duration": 87,
    "start_time": "2021-06-13T18:48:05.772Z"
   },
   {
    "duration": 23,
    "start_time": "2021-06-13T18:48:05.862Z"
   },
   {
    "duration": 20,
    "start_time": "2021-06-13T18:48:05.888Z"
   },
   {
    "duration": 26,
    "start_time": "2021-06-13T18:48:05.910Z"
   },
   {
    "duration": 53,
    "start_time": "2021-06-13T18:48:05.938Z"
   },
   {
    "duration": 36,
    "start_time": "2021-06-13T18:48:05.994Z"
   },
   {
    "duration": 6,
    "start_time": "2021-06-13T18:48:06.033Z"
   },
   {
    "duration": 12,
    "start_time": "2021-06-13T18:48:06.042Z"
   },
   {
    "duration": 26,
    "start_time": "2021-06-13T18:48:06.056Z"
   },
   {
    "duration": 16,
    "start_time": "2021-06-13T18:48:06.085Z"
   },
   {
    "duration": 31,
    "start_time": "2021-06-13T18:48:06.104Z"
   },
   {
    "duration": 18,
    "start_time": "2021-06-13T18:48:06.138Z"
   },
   {
    "duration": 46,
    "start_time": "2021-06-13T18:48:06.158Z"
   },
   {
    "duration": 34,
    "start_time": "2021-06-13T18:48:06.207Z"
   },
   {
    "duration": 24,
    "start_time": "2021-06-13T18:48:06.244Z"
   },
   {
    "duration": 20,
    "start_time": "2021-06-13T18:48:06.270Z"
   },
   {
    "duration": 36,
    "start_time": "2021-06-13T18:48:06.292Z"
   },
   {
    "duration": 7,
    "start_time": "2021-06-13T18:48:06.330Z"
   },
   {
    "duration": 3478,
    "start_time": "2021-06-13T18:48:06.340Z"
   },
   {
    "duration": 28,
    "start_time": "2021-06-13T18:48:09.824Z"
   },
   {
    "duration": 5,
    "start_time": "2021-06-13T18:48:09.854Z"
   },
   {
    "duration": 106,
    "start_time": "2021-06-13T18:48:09.863Z"
   },
   {
    "duration": 24,
    "start_time": "2021-06-13T18:48:09.972Z"
   },
   {
    "duration": 6003,
    "start_time": "2021-06-13T18:50:12.883Z"
   },
   {
    "duration": -145,
    "start_time": "2021-06-13T18:50:19.035Z"
   },
   {
    "duration": 27,
    "start_time": "2021-06-13T18:50:38.554Z"
   },
   {
    "duration": 36,
    "start_time": "2021-06-13T18:50:46.808Z"
   },
   {
    "duration": 27,
    "start_time": "2021-06-13T18:50:54.947Z"
   },
   {
    "duration": 281,
    "start_time": "2021-06-13T18:51:33.008Z"
   },
   {
    "duration": 269,
    "start_time": "2021-06-13T18:51:40.753Z"
   },
   {
    "duration": 15,
    "start_time": "2021-06-13T18:53:06.354Z"
   },
   {
    "duration": 27,
    "start_time": "2021-06-13T19:10:29.994Z"
   },
   {
    "duration": 39,
    "start_time": "2021-06-13T19:16:09.041Z"
   },
   {
    "duration": 268,
    "start_time": "2021-06-13T19:28:21.858Z"
   },
   {
    "duration": 802,
    "start_time": "2021-06-13T19:29:09.124Z"
   },
   {
    "duration": 90,
    "start_time": "2021-06-13T19:29:09.928Z"
   },
   {
    "duration": 23,
    "start_time": "2021-06-13T19:29:10.021Z"
   },
   {
    "duration": 16,
    "start_time": "2021-06-13T19:29:10.047Z"
   },
   {
    "duration": 12,
    "start_time": "2021-06-13T19:29:10.065Z"
   },
   {
    "duration": 79,
    "start_time": "2021-06-13T19:29:10.079Z"
   },
   {
    "duration": 12,
    "start_time": "2021-06-13T19:29:10.160Z"
   },
   {
    "duration": 6,
    "start_time": "2021-06-13T19:29:10.176Z"
   },
   {
    "duration": 39,
    "start_time": "2021-06-13T19:29:10.185Z"
   },
   {
    "duration": 13,
    "start_time": "2021-06-13T19:29:10.226Z"
   },
   {
    "duration": 12,
    "start_time": "2021-06-13T19:29:10.241Z"
   },
   {
    "duration": 18,
    "start_time": "2021-06-13T19:29:10.255Z"
   },
   {
    "duration": 17,
    "start_time": "2021-06-13T19:29:10.275Z"
   },
   {
    "duration": 27,
    "start_time": "2021-06-13T19:29:10.325Z"
   },
   {
    "duration": 27,
    "start_time": "2021-06-13T19:29:10.354Z"
   },
   {
    "duration": 53,
    "start_time": "2021-06-13T19:29:10.383Z"
   },
   {
    "duration": 19,
    "start_time": "2021-06-13T19:29:10.438Z"
   },
   {
    "duration": 13,
    "start_time": "2021-06-13T19:29:10.459Z"
   },
   {
    "duration": 7,
    "start_time": "2021-06-13T19:29:10.475Z"
   },
   {
    "duration": 3215,
    "start_time": "2021-06-13T19:29:10.484Z"
   },
   {
    "duration": 5,
    "start_time": "2021-06-13T19:29:13.701Z"
   },
   {
    "duration": 27,
    "start_time": "2021-06-13T19:29:13.708Z"
   },
   {
    "duration": 25,
    "start_time": "2021-06-13T19:29:13.739Z"
   },
   {
    "duration": 5,
    "start_time": "2021-06-13T19:31:04.041Z"
   },
   {
    "duration": 6078,
    "start_time": "2021-06-13T19:31:09.533Z"
   },
   {
    "duration": 172,
    "start_time": "2021-06-13T19:31:15.441Z"
   },
   {
    "duration": 5,
    "start_time": "2021-06-13T19:31:45.819Z"
   },
   {
    "duration": 6381,
    "start_time": "2021-06-13T19:31:49.278Z"
   },
   {
    "duration": 88,
    "start_time": "2021-06-13T19:33:35.791Z"
   },
   {
    "duration": 6,
    "start_time": "2021-06-13T19:34:14.399Z"
   },
   {
    "duration": 5898,
    "start_time": "2021-06-13T19:34:18.130Z"
   },
   {
    "duration": 10,
    "start_time": "2021-06-13T19:34:57.272Z"
   },
   {
    "duration": 8341,
    "start_time": "2021-06-13T19:35:02.392Z"
   },
   {
    "duration": 5912,
    "start_time": "2021-06-13T19:37:12.188Z"
   },
   {
    "duration": 4,
    "start_time": "2021-06-13T19:38:14.992Z"
   },
   {
    "duration": 837,
    "start_time": "2021-06-13T19:38:48.610Z"
   },
   {
    "duration": 123,
    "start_time": "2021-06-13T19:38:49.450Z"
   },
   {
    "duration": 32,
    "start_time": "2021-06-13T19:38:49.577Z"
   },
   {
    "duration": 29,
    "start_time": "2021-06-13T19:38:49.612Z"
   },
   {
    "duration": 14,
    "start_time": "2021-06-13T19:38:49.644Z"
   },
   {
    "duration": 84,
    "start_time": "2021-06-13T19:38:49.661Z"
   },
   {
    "duration": 12,
    "start_time": "2021-06-13T19:38:49.748Z"
   },
   {
    "duration": 5,
    "start_time": "2021-06-13T19:38:49.764Z"
   },
   {
    "duration": 8,
    "start_time": "2021-06-13T19:38:49.772Z"
   },
   {
    "duration": 43,
    "start_time": "2021-06-13T19:38:49.782Z"
   },
   {
    "duration": 10,
    "start_time": "2021-06-13T19:38:49.828Z"
   },
   {
    "duration": 27,
    "start_time": "2021-06-13T19:38:49.841Z"
   },
   {
    "duration": 55,
    "start_time": "2021-06-13T19:38:49.871Z"
   },
   {
    "duration": 39,
    "start_time": "2021-06-13T19:38:49.929Z"
   },
   {
    "duration": 53,
    "start_time": "2021-06-13T19:38:49.971Z"
   },
   {
    "duration": 25,
    "start_time": "2021-06-13T19:38:50.026Z"
   },
   {
    "duration": 19,
    "start_time": "2021-06-13T19:38:50.054Z"
   },
   {
    "duration": 18,
    "start_time": "2021-06-13T19:38:50.075Z"
   },
   {
    "duration": 7,
    "start_time": "2021-06-13T19:38:50.125Z"
   },
   {
    "duration": 3375,
    "start_time": "2021-06-13T19:38:50.134Z"
   },
   {
    "duration": 26,
    "start_time": "2021-06-13T19:38:53.512Z"
   },
   {
    "duration": 110302,
    "start_time": "2021-06-13T19:38:53.540Z"
   },
   {
    "duration": -27,
    "start_time": "2021-06-13T19:40:43.872Z"
   },
   {
    "duration": 5,
    "start_time": "2021-06-13T19:41:14.625Z"
   },
   {
    "duration": 10,
    "start_time": "2021-06-13T19:41:19.361Z"
   },
   {
    "duration": 25,
    "start_time": "2021-06-13T19:41:24.198Z"
   },
   {
    "duration": 35,
    "start_time": "2021-06-13T19:41:54.163Z"
   },
   {
    "duration": 8,
    "start_time": "2021-06-13T19:44:24.369Z"
   },
   {
    "duration": 266,
    "start_time": "2021-06-13T19:44:38.392Z"
   },
   {
    "duration": 7,
    "start_time": "2021-06-13T19:44:55.156Z"
   },
   {
    "duration": 89,
    "start_time": "2021-06-13T19:45:49.096Z"
   },
   {
    "duration": 6,
    "start_time": "2021-06-13T19:46:33.983Z"
   },
   {
    "duration": 736,
    "start_time": "2021-06-13T19:53:54.710Z"
   },
   {
    "duration": 87,
    "start_time": "2021-06-13T19:53:55.449Z"
   },
   {
    "duration": 22,
    "start_time": "2021-06-13T19:53:55.539Z"
   },
   {
    "duration": 17,
    "start_time": "2021-06-13T19:53:55.563Z"
   },
   {
    "duration": 43,
    "start_time": "2021-06-13T19:53:55.582Z"
   },
   {
    "duration": 48,
    "start_time": "2021-06-13T19:53:55.628Z"
   },
   {
    "duration": 13,
    "start_time": "2021-06-13T19:53:55.678Z"
   },
   {
    "duration": 31,
    "start_time": "2021-06-13T19:53:55.695Z"
   },
   {
    "duration": 6,
    "start_time": "2021-06-13T19:53:55.729Z"
   },
   {
    "duration": 13,
    "start_time": "2021-06-13T19:53:55.737Z"
   },
   {
    "duration": 10,
    "start_time": "2021-06-13T19:53:55.752Z"
   },
   {
    "duration": 16,
    "start_time": "2021-06-13T19:53:55.765Z"
   },
   {
    "duration": 52,
    "start_time": "2021-06-13T19:53:55.783Z"
   },
   {
    "duration": 40,
    "start_time": "2021-06-13T19:53:55.837Z"
   },
   {
    "duration": 25,
    "start_time": "2021-06-13T19:53:55.879Z"
   },
   {
    "duration": 40,
    "start_time": "2021-06-13T19:53:55.906Z"
   },
   {
    "duration": 20,
    "start_time": "2021-06-13T19:53:55.948Z"
   },
   {
    "duration": 10,
    "start_time": "2021-06-13T19:53:55.971Z"
   },
   {
    "duration": 46,
    "start_time": "2021-06-13T19:53:55.984Z"
   },
   {
    "duration": 3211,
    "start_time": "2021-06-13T19:53:56.032Z"
   },
   {
    "duration": 3,
    "start_time": "2021-06-13T19:53:59.246Z"
   },
   {
    "duration": 7712,
    "start_time": "2021-06-13T19:53:59.252Z"
   },
   {
    "duration": -70,
    "start_time": "2021-06-13T19:54:07.038Z"
   },
   {
    "duration": -71,
    "start_time": "2021-06-13T19:54:07.040Z"
   },
   {
    "duration": -72,
    "start_time": "2021-06-13T19:54:07.043Z"
   },
   {
    "duration": 6,
    "start_time": "2021-06-13T19:54:16.877Z"
   },
   {
    "duration": 5,
    "start_time": "2021-06-13T20:04:03.256Z"
   },
   {
    "duration": 32091,
    "start_time": "2021-06-13T20:04:35.721Z"
   },
   {
    "duration": 14,
    "start_time": "2021-06-13T20:05:07.814Z"
   },
   {
    "duration": 31597,
    "start_time": "2021-06-13T20:05:15.766Z"
   },
   {
    "duration": 9,
    "start_time": "2021-06-13T20:06:33.069Z"
   },
   {
    "duration": 15,
    "start_time": "2021-06-13T20:09:57.197Z"
   },
   {
    "duration": 15,
    "start_time": "2021-06-13T20:10:18.758Z"
   },
   {
    "duration": 9,
    "start_time": "2021-06-13T20:10:58.148Z"
   },
   {
    "duration": 29410,
    "start_time": "2021-06-13T20:12:42.209Z"
   },
   {
    "duration": 9,
    "start_time": "2021-06-13T20:13:11.621Z"
   },
   {
    "duration": 702,
    "start_time": "2021-06-13T20:19:17.483Z"
   },
   {
    "duration": 90,
    "start_time": "2021-06-13T20:19:18.188Z"
   },
   {
    "duration": 22,
    "start_time": "2021-06-13T20:19:18.281Z"
   },
   {
    "duration": 34,
    "start_time": "2021-06-13T20:19:18.305Z"
   },
   {
    "duration": 18,
    "start_time": "2021-06-13T20:19:18.342Z"
   },
   {
    "duration": 96,
    "start_time": "2021-06-13T20:19:18.363Z"
   },
   {
    "duration": 17,
    "start_time": "2021-06-13T20:19:18.462Z"
   },
   {
    "duration": 6,
    "start_time": "2021-06-13T20:19:18.482Z"
   },
   {
    "duration": 35,
    "start_time": "2021-06-13T20:19:18.492Z"
   },
   {
    "duration": 13,
    "start_time": "2021-06-13T20:19:18.530Z"
   },
   {
    "duration": 13,
    "start_time": "2021-06-13T20:19:18.546Z"
   },
   {
    "duration": 17,
    "start_time": "2021-06-13T20:19:18.561Z"
   },
   {
    "duration": 57,
    "start_time": "2021-06-13T20:19:18.580Z"
   },
   {
    "duration": 29,
    "start_time": "2021-06-13T20:19:18.640Z"
   },
   {
    "duration": 66,
    "start_time": "2021-06-13T20:19:18.671Z"
   },
   {
    "duration": 23,
    "start_time": "2021-06-13T20:19:18.739Z"
   },
   {
    "duration": 24,
    "start_time": "2021-06-13T20:19:18.765Z"
   },
   {
    "duration": 34,
    "start_time": "2021-06-13T20:19:18.791Z"
   },
   {
    "duration": 9,
    "start_time": "2021-06-13T20:19:18.828Z"
   },
   {
    "duration": 3204,
    "start_time": "2021-06-13T20:19:18.839Z"
   },
   {
    "duration": 4,
    "start_time": "2021-06-13T20:19:22.045Z"
   },
   {
    "duration": 30627,
    "start_time": "2021-06-13T20:19:22.051Z"
   },
   {
    "duration": 9,
    "start_time": "2021-06-13T20:19:52.681Z"
   },
   {
    "duration": 24,
    "start_time": "2021-06-13T20:19:52.692Z"
   },
   {
    "duration": 13,
    "start_time": "2021-06-13T20:19:52.725Z"
   },
   {
    "duration": 7,
    "start_time": "2021-06-13T20:19:52.740Z"
   },
   {
    "duration": 9,
    "start_time": "2021-06-13T20:21:13.491Z"
   },
   {
    "duration": 13,
    "start_time": "2021-06-13T20:21:35.908Z"
   },
   {
    "duration": 10,
    "start_time": "2021-06-13T20:21:38.112Z"
   },
   {
    "duration": 10,
    "start_time": "2021-06-13T20:22:55.519Z"
   },
   {
    "duration": 29132,
    "start_time": "2021-06-13T20:24:03.865Z"
   },
   {
    "duration": 29188,
    "start_time": "2021-06-13T20:25:02.918Z"
   },
   {
    "duration": 96,
    "start_time": "2021-06-13T20:26:12.402Z"
   },
   {
    "duration": 94,
    "start_time": "2021-06-13T20:26:39.496Z"
   },
   {
    "duration": 100,
    "start_time": "2021-06-13T20:26:57.752Z"
   },
   {
    "duration": 513,
    "start_time": "2021-06-14T10:25:18.665Z"
   },
   {
    "duration": 63,
    "start_time": "2021-06-14T10:25:19.180Z"
   },
   {
    "duration": 14,
    "start_time": "2021-06-14T10:25:19.245Z"
   },
   {
    "duration": 14,
    "start_time": "2021-06-14T10:25:19.261Z"
   },
   {
    "duration": 19,
    "start_time": "2021-06-14T10:25:19.277Z"
   },
   {
    "duration": 33,
    "start_time": "2021-06-14T10:25:19.299Z"
   },
   {
    "duration": 9,
    "start_time": "2021-06-14T10:25:19.334Z"
   },
   {
    "duration": 11,
    "start_time": "2021-06-14T10:25:19.345Z"
   },
   {
    "duration": 10,
    "start_time": "2021-06-14T10:25:19.358Z"
   },
   {
    "duration": 27,
    "start_time": "2021-06-14T10:25:19.370Z"
   },
   {
    "duration": 8,
    "start_time": "2021-06-14T10:25:19.399Z"
   },
   {
    "duration": 18,
    "start_time": "2021-06-14T10:25:19.409Z"
   },
   {
    "duration": 12,
    "start_time": "2021-06-14T10:25:19.429Z"
   },
   {
    "duration": 31,
    "start_time": "2021-06-14T10:25:19.443Z"
   },
   {
    "duration": 26,
    "start_time": "2021-06-14T10:25:19.476Z"
   },
   {
    "duration": 15,
    "start_time": "2021-06-14T10:25:19.504Z"
   },
   {
    "duration": 13,
    "start_time": "2021-06-14T10:25:19.520Z"
   },
   {
    "duration": 9,
    "start_time": "2021-06-14T10:25:19.534Z"
   },
   {
    "duration": 9,
    "start_time": "2021-06-14T10:25:19.544Z"
   },
   {
    "duration": 2351,
    "start_time": "2021-06-14T10:25:19.555Z"
   },
   {
    "duration": 3,
    "start_time": "2021-06-14T10:25:21.907Z"
   },
   {
    "duration": 185,
    "start_time": "2021-06-14T10:25:21.912Z"
   },
   {
    "duration": -24,
    "start_time": "2021-06-14T10:25:22.123Z"
   },
   {
    "duration": -54,
    "start_time": "2021-06-14T10:25:22.154Z"
   },
   {
    "duration": -56,
    "start_time": "2021-06-14T10:25:22.157Z"
   },
   {
    "duration": -63,
    "start_time": "2021-06-14T10:25:22.166Z"
   },
   {
    "duration": -67,
    "start_time": "2021-06-14T10:25:22.171Z"
   },
   {
    "duration": 231,
    "start_time": "2021-06-14T10:32:47.311Z"
   },
   {
    "duration": 168,
    "start_time": "2021-06-14T10:32:51.533Z"
   },
   {
    "duration": 192,
    "start_time": "2021-06-14T10:34:22.339Z"
   },
   {
    "duration": 173,
    "start_time": "2021-06-14T10:34:54.537Z"
   },
   {
    "duration": 730,
    "start_time": "2021-06-14T10:35:47.791Z"
   },
   {
    "duration": 176,
    "start_time": "2021-06-14T10:39:59.336Z"
   },
   {
    "duration": 175,
    "start_time": "2021-06-14T10:40:20.351Z"
   },
   {
    "duration": 6352,
    "start_time": "2021-06-14T10:40:42.205Z"
   },
   {
    "duration": 1657,
    "start_time": "2021-06-14T10:40:56.061Z"
   },
   {
    "duration": 1655,
    "start_time": "2021-06-14T10:41:01.445Z"
   },
   {
    "duration": 1673,
    "start_time": "2021-06-14T10:41:18.681Z"
   },
   {
    "duration": 443,
    "start_time": "2021-06-14T10:42:24.569Z"
   },
   {
    "duration": 185,
    "start_time": "2021-06-14T10:42:50.313Z"
   },
   {
    "duration": 4,
    "start_time": "2021-06-14T10:42:56.897Z"
   },
   {
    "duration": 5,
    "start_time": "2021-06-14T10:43:10.367Z"
   },
   {
    "duration": 14,
    "start_time": "2021-06-14T10:44:15.502Z"
   },
   {
    "duration": 5,
    "start_time": "2021-06-14T10:44:24.687Z"
   },
   {
    "duration": 11,
    "start_time": "2021-06-14T10:45:41.443Z"
   },
   {
    "duration": 7,
    "start_time": "2021-06-14T10:46:20.794Z"
   },
   {
    "duration": 14,
    "start_time": "2021-06-14T10:47:13.313Z"
   },
   {
    "duration": 182,
    "start_time": "2021-06-14T10:48:34.119Z"
   },
   {
    "duration": 7,
    "start_time": "2021-06-14T10:48:39.598Z"
   },
   {
    "duration": 10,
    "start_time": "2021-06-14T10:49:05.662Z"
   },
   {
    "duration": 4593,
    "start_time": "2021-06-14T10:49:08.878Z"
   },
   {
    "duration": 9,
    "start_time": "2021-06-14T10:49:28.485Z"
   },
   {
    "duration": 178,
    "start_time": "2021-06-14T10:50:32.401Z"
   },
   {
    "duration": 6,
    "start_time": "2021-06-14T10:50:43.250Z"
   },
   {
    "duration": 6,
    "start_time": "2021-06-14T10:51:18.329Z"
   },
   {
    "duration": 11,
    "start_time": "2021-06-14T10:51:40.439Z"
   },
   {
    "duration": 24,
    "start_time": "2021-06-14T10:51:46.791Z"
   },
   {
    "duration": 16,
    "start_time": "2021-06-14T10:52:07.157Z"
   },
   {
    "duration": 22,
    "start_time": "2021-06-14T10:52:32.327Z"
   },
   {
    "duration": 175,
    "start_time": "2021-06-14T10:54:26.743Z"
   },
   {
    "duration": 186,
    "start_time": "2021-06-14T10:54:31.370Z"
   },
   {
    "duration": 16,
    "start_time": "2021-06-14T10:55:31.234Z"
   },
   {
    "duration": 17,
    "start_time": "2021-06-14T10:55:39.409Z"
   },
   {
    "duration": 26,
    "start_time": "2021-06-14T10:55:47.879Z"
   },
   {
    "duration": 17,
    "start_time": "2021-06-14T10:56:06.593Z"
   },
   {
    "duration": 16,
    "start_time": "2021-06-14T10:56:12.440Z"
   },
   {
    "duration": 30,
    "start_time": "2021-06-14T10:56:49.272Z"
   },
   {
    "duration": 4329,
    "start_time": "2021-06-14T10:57:26.804Z"
   },
   {
    "duration": 192,
    "start_time": "2021-06-14T10:58:08.920Z"
   },
   {
    "duration": 18,
    "start_time": "2021-06-14T10:58:16.152Z"
   },
   {
    "duration": 10,
    "start_time": "2021-06-14T10:59:20.541Z"
   },
   {
    "duration": 5,
    "start_time": "2021-06-14T10:59:38.505Z"
   },
   {
    "duration": 6,
    "start_time": "2021-06-14T10:59:53.068Z"
   },
   {
    "duration": 5,
    "start_time": "2021-06-14T11:00:04.375Z"
   },
   {
    "duration": 4,
    "start_time": "2021-06-14T11:00:37.151Z"
   },
   {
    "duration": 204,
    "start_time": "2021-06-14T11:00:58.954Z"
   },
   {
    "duration": 189,
    "start_time": "2021-06-14T11:01:34.165Z"
   },
   {
    "duration": 6,
    "start_time": "2021-06-14T11:02:07.508Z"
   },
   {
    "duration": 291,
    "start_time": "2021-06-14T11:03:20.275Z"
   },
   {
    "duration": 5,
    "start_time": "2021-06-14T11:05:37.509Z"
   },
   {
    "duration": 5,
    "start_time": "2021-06-14T11:06:03.556Z"
   },
   {
    "duration": 6,
    "start_time": "2021-06-14T11:06:12.531Z"
   },
   {
    "duration": 5,
    "start_time": "2021-06-14T11:06:20.699Z"
   },
   {
    "duration": 6,
    "start_time": "2021-06-14T11:06:36.314Z"
   },
   {
    "duration": 6,
    "start_time": "2021-06-14T11:08:06.038Z"
   },
   {
    "duration": 5,
    "start_time": "2021-06-14T11:08:17.359Z"
   },
   {
    "duration": 7,
    "start_time": "2021-06-14T11:08:27.287Z"
   },
   {
    "duration": 5,
    "start_time": "2021-06-14T11:08:30.799Z"
   },
   {
    "duration": 8,
    "start_time": "2021-06-14T11:09:09.516Z"
   },
   {
    "duration": 7,
    "start_time": "2021-06-14T11:09:26.760Z"
   },
   {
    "duration": 6,
    "start_time": "2021-06-14T11:11:00.035Z"
   },
   {
    "duration": 5,
    "start_time": "2021-06-14T11:11:24.995Z"
   },
   {
    "duration": 6,
    "start_time": "2021-06-14T11:14:25.095Z"
   },
   {
    "duration": 6,
    "start_time": "2021-06-14T11:15:08.084Z"
   },
   {
    "duration": 6,
    "start_time": "2021-06-14T11:15:29.522Z"
   },
   {
    "duration": 6,
    "start_time": "2021-06-14T11:17:20.726Z"
   },
   {
    "duration": 6,
    "start_time": "2021-06-14T11:17:55.336Z"
   },
   {
    "duration": 6,
    "start_time": "2021-06-14T11:18:00.773Z"
   },
   {
    "duration": 185,
    "start_time": "2021-06-14T11:20:42.559Z"
   },
   {
    "duration": 176,
    "start_time": "2021-06-14T11:20:47.744Z"
   },
   {
    "duration": 180,
    "start_time": "2021-06-14T11:20:55.057Z"
   },
   {
    "duration": 14,
    "start_time": "2021-06-14T11:22:19.801Z"
   },
   {
    "duration": 4,
    "start_time": "2021-06-14T11:22:31.413Z"
   },
   {
    "duration": 7,
    "start_time": "2021-06-14T11:22:36.509Z"
   },
   {
    "duration": 162,
    "start_time": "2021-06-14T11:22:49.550Z"
   },
   {
    "duration": 5,
    "start_time": "2021-06-14T11:23:20.549Z"
   },
   {
    "duration": 507,
    "start_time": "2021-06-14T11:23:27.752Z"
   },
   {
    "duration": 72,
    "start_time": "2021-06-14T11:23:28.261Z"
   },
   {
    "duration": 14,
    "start_time": "2021-06-14T11:23:28.334Z"
   },
   {
    "duration": 13,
    "start_time": "2021-06-14T11:23:28.350Z"
   },
   {
    "duration": 27,
    "start_time": "2021-06-14T11:23:28.365Z"
   },
   {
    "duration": 34,
    "start_time": "2021-06-14T11:23:28.394Z"
   },
   {
    "duration": 9,
    "start_time": "2021-06-14T11:23:28.430Z"
   },
   {
    "duration": 8,
    "start_time": "2021-06-14T11:23:28.442Z"
   },
   {
    "duration": 10,
    "start_time": "2021-06-14T11:23:28.452Z"
   },
   {
    "duration": 24,
    "start_time": "2021-06-14T11:23:28.463Z"
   },
   {
    "duration": 14,
    "start_time": "2021-06-14T11:23:28.489Z"
   },
   {
    "duration": 13,
    "start_time": "2021-06-14T11:23:28.504Z"
   },
   {
    "duration": 23,
    "start_time": "2021-06-14T11:23:28.519Z"
   },
   {
    "duration": 25,
    "start_time": "2021-06-14T11:23:28.544Z"
   },
   {
    "duration": 27,
    "start_time": "2021-06-14T11:23:28.570Z"
   },
   {
    "duration": 16,
    "start_time": "2021-06-14T11:23:28.599Z"
   },
   {
    "duration": 13,
    "start_time": "2021-06-14T11:23:28.616Z"
   },
   {
    "duration": 15,
    "start_time": "2021-06-14T11:23:28.630Z"
   },
   {
    "duration": 15,
    "start_time": "2021-06-14T11:23:28.646Z"
   },
   {
    "duration": 2369,
    "start_time": "2021-06-14T11:23:28.662Z"
   },
   {
    "duration": 4347,
    "start_time": "2021-06-14T11:23:31.033Z"
   },
   {
    "duration": 63,
    "start_time": "2021-06-14T11:23:35.319Z"
   },
   {
    "duration": 60,
    "start_time": "2021-06-14T11:23:35.323Z"
   },
   {
    "duration": 58,
    "start_time": "2021-06-14T11:23:35.325Z"
   },
   {
    "duration": 57,
    "start_time": "2021-06-14T11:23:35.327Z"
   },
   {
    "duration": 56,
    "start_time": "2021-06-14T11:23:35.329Z"
   },
   {
    "duration": 55,
    "start_time": "2021-06-14T11:23:35.331Z"
   },
   {
    "duration": 45,
    "start_time": "2021-06-14T11:24:05.630Z"
   },
   {
    "duration": 2442,
    "start_time": "2021-06-14T11:24:35.412Z"
   },
   {
    "duration": 33,
    "start_time": "2021-06-14T11:24:37.856Z"
   },
   {
    "duration": 196,
    "start_time": "2021-06-14T11:25:04.344Z"
   },
   {
    "duration": 2429,
    "start_time": "2021-06-14T11:25:21.542Z"
   },
   {
    "duration": 1820,
    "start_time": "2021-06-14T11:25:47.125Z"
   },
   {
    "duration": 3982,
    "start_time": "2021-06-14T11:34:19.130Z"
   },
   {
    "duration": 3927,
    "start_time": "2021-06-14T11:34:36.438Z"
   },
   {
    "duration": 3473,
    "start_time": "2021-06-14T11:35:23.542Z"
   },
   {
    "duration": 65,
    "start_time": "2021-06-14T11:42:06.323Z"
   },
   {
    "duration": 5,
    "start_time": "2021-06-14T11:42:13.884Z"
   },
   {
    "duration": 173,
    "start_time": "2021-06-14T11:44:05.449Z"
   },
   {
    "duration": 175,
    "start_time": "2021-06-14T11:44:28.665Z"
   },
   {
    "duration": 179,
    "start_time": "2021-06-14T11:44:56.721Z"
   },
   {
    "duration": 4,
    "start_time": "2021-06-14T11:48:50.480Z"
   },
   {
    "duration": 4,
    "start_time": "2021-06-14T11:49:18.918Z"
   },
   {
    "duration": 1326,
    "start_time": "2021-06-14T11:49:49.247Z"
   },
   {
    "duration": 72,
    "start_time": "2021-06-14T11:50:01.374Z"
   },
   {
    "duration": 12994,
    "start_time": "2021-06-14T11:51:05.195Z"
   },
   {
    "duration": 6,
    "start_time": "2021-06-14T11:51:18.197Z"
   },
   {
    "duration": 62,
    "start_time": "2021-06-14T11:51:52.459Z"
   },
   {
    "duration": 18,
    "start_time": "2021-06-14T11:54:12.484Z"
   },
   {
    "duration": 64,
    "start_time": "2021-06-14T11:57:43.456Z"
   },
   {
    "duration": 12,
    "start_time": "2021-06-14T12:01:40.059Z"
   },
   {
    "duration": 550,
    "start_time": "2021-06-14T12:01:46.015Z"
   },
   {
    "duration": 71,
    "start_time": "2021-06-14T12:01:46.567Z"
   },
   {
    "duration": 15,
    "start_time": "2021-06-14T12:01:46.640Z"
   },
   {
    "duration": 12,
    "start_time": "2021-06-14T12:01:46.657Z"
   },
   {
    "duration": 14,
    "start_time": "2021-06-14T12:01:46.685Z"
   },
   {
    "duration": 31,
    "start_time": "2021-06-14T12:01:46.701Z"
   },
   {
    "duration": 10,
    "start_time": "2021-06-14T12:01:46.734Z"
   },
   {
    "duration": 4,
    "start_time": "2021-06-14T12:01:46.747Z"
   },
   {
    "duration": 39,
    "start_time": "2021-06-14T12:01:46.753Z"
   },
   {
    "duration": 12,
    "start_time": "2021-06-14T12:01:46.794Z"
   },
   {
    "duration": 7,
    "start_time": "2021-06-14T12:01:46.808Z"
   },
   {
    "duration": 13,
    "start_time": "2021-06-14T12:01:46.816Z"
   },
   {
    "duration": 14,
    "start_time": "2021-06-14T12:01:46.831Z"
   },
   {
    "duration": 19,
    "start_time": "2021-06-14T12:01:46.846Z"
   },
   {
    "duration": 19,
    "start_time": "2021-06-14T12:01:46.894Z"
   },
   {
    "duration": 14,
    "start_time": "2021-06-14T12:01:46.915Z"
   },
   {
    "duration": 12,
    "start_time": "2021-06-14T12:01:46.930Z"
   },
   {
    "duration": 8,
    "start_time": "2021-06-14T12:01:46.943Z"
   },
   {
    "duration": 6,
    "start_time": "2021-06-14T12:01:46.952Z"
   },
   {
    "duration": 2493,
    "start_time": "2021-06-14T12:01:46.959Z"
   },
   {
    "duration": 4,
    "start_time": "2021-06-14T12:01:49.454Z"
   },
   {
    "duration": 12774,
    "start_time": "2021-06-14T12:01:49.460Z"
   },
   {
    "duration": 6,
    "start_time": "2021-06-14T12:02:02.237Z"
   },
   {
    "duration": 22,
    "start_time": "2021-06-14T12:02:02.245Z"
   },
   {
    "duration": 6,
    "start_time": "2021-06-14T12:02:02.269Z"
   },
   {
    "duration": 13,
    "start_time": "2021-06-14T12:02:02.290Z"
   },
   {
    "duration": 4,
    "start_time": "2021-06-14T12:02:02.305Z"
   },
   {
    "duration": 19,
    "start_time": "2021-06-14T12:02:02.311Z"
   },
   {
    "duration": 15,
    "start_time": "2021-06-14T12:02:07.075Z"
   },
   {
    "duration": 7,
    "start_time": "2021-06-14T12:03:28.659Z"
   },
   {
    "duration": 6,
    "start_time": "2021-06-14T12:06:42.712Z"
   },
   {
    "duration": 11,
    "start_time": "2021-06-14T12:07:34.887Z"
   },
   {
    "duration": 6,
    "start_time": "2021-06-14T12:09:04.563Z"
   },
   {
    "duration": 64,
    "start_time": "2021-06-14T12:09:25.114Z"
   },
   {
    "duration": 245,
    "start_time": "2021-06-14T12:09:28.170Z"
   },
   {
    "duration": 9,
    "start_time": "2021-06-14T12:09:37.305Z"
   },
   {
    "duration": 7,
    "start_time": "2021-06-14T12:10:04.146Z"
   },
   {
    "duration": 62,
    "start_time": "2021-06-14T12:12:06.516Z"
   },
   {
    "duration": 3,
    "start_time": "2021-06-14T12:17:29.323Z"
   },
   {
    "duration": 324,
    "start_time": "2021-06-14T12:17:52.602Z"
   },
   {
    "duration": 4,
    "start_time": "2021-06-14T12:18:20.745Z"
   },
   {
    "duration": 61,
    "start_time": "2021-06-14T12:21:04.069Z"
   },
   {
    "duration": 66,
    "start_time": "2021-06-14T12:21:18.685Z"
   },
   {
    "duration": 172,
    "start_time": "2021-06-14T12:21:25.587Z"
   },
   {
    "duration": 302,
    "start_time": "2021-06-14T12:21:39.280Z"
   },
   {
    "duration": 5,
    "start_time": "2021-06-14T12:21:49.417Z"
   },
   {
    "duration": 801,
    "start_time": "2021-06-14T12:23:08.930Z"
   },
   {
    "duration": 311,
    "start_time": "2021-06-14T12:23:53.022Z"
   },
   {
    "duration": 500,
    "start_time": "2021-06-14T12:23:59.744Z"
   },
   {
    "duration": 4,
    "start_time": "2021-06-14T12:25:15.847Z"
   },
   {
    "duration": 295,
    "start_time": "2021-06-14T12:25:41.661Z"
   },
   {
    "duration": 4,
    "start_time": "2021-06-14T12:27:32.161Z"
   },
   {
    "duration": 373,
    "start_time": "2021-06-14T12:28:17.662Z"
   },
   {
    "duration": 719,
    "start_time": "2021-06-14T12:28:50.044Z"
   },
   {
    "duration": 718,
    "start_time": "2021-06-14T12:29:09.814Z"
   },
   {
    "duration": 191,
    "start_time": "2021-06-14T12:31:13.421Z"
   },
   {
    "duration": 690,
    "start_time": "2021-06-14T12:31:22.995Z"
   },
   {
    "duration": 8,
    "start_time": "2021-06-14T12:31:33.425Z"
   },
   {
    "duration": 12,
    "start_time": "2021-06-14T12:31:41.305Z"
   },
   {
    "duration": 7,
    "start_time": "2021-06-14T12:32:08.338Z"
   },
   {
    "duration": 12,
    "start_time": "2021-06-14T12:32:11.415Z"
   },
   {
    "duration": 7,
    "start_time": "2021-06-14T12:32:19.206Z"
   },
   {
    "duration": 12,
    "start_time": "2021-06-14T12:33:00.686Z"
   },
   {
    "duration": 7,
    "start_time": "2021-06-14T12:33:25.859Z"
   },
   {
    "duration": 5,
    "start_time": "2021-06-14T12:34:00.715Z"
   },
   {
    "duration": 4,
    "start_time": "2021-06-14T12:34:53.241Z"
   },
   {
    "duration": 5,
    "start_time": "2021-06-14T12:35:13.512Z"
   },
   {
    "duration": 7,
    "start_time": "2021-06-14T12:35:34.295Z"
   },
   {
    "duration": 2,
    "start_time": "2021-06-14T12:35:35.848Z"
   },
   {
    "duration": 5,
    "start_time": "2021-06-14T12:35:37.768Z"
   },
   {
    "duration": 7,
    "start_time": "2021-06-14T12:35:39.549Z"
   },
   {
    "duration": 176,
    "start_time": "2021-06-14T12:37:04.454Z"
   },
   {
    "duration": 5,
    "start_time": "2021-06-14T12:42:05.457Z"
   },
   {
    "duration": 182,
    "start_time": "2021-06-14T12:42:13.916Z"
   },
   {
    "duration": 55,
    "start_time": "2021-06-14T12:43:11.001Z"
   },
   {
    "duration": 66,
    "start_time": "2021-06-14T12:44:31.832Z"
   },
   {
    "duration": 66,
    "start_time": "2021-06-14T12:44:39.142Z"
   },
   {
    "duration": 60,
    "start_time": "2021-06-14T12:45:53.631Z"
   },
   {
    "duration": 57,
    "start_time": "2021-06-14T12:46:22.196Z"
   },
   {
    "duration": 63,
    "start_time": "2021-06-14T12:46:29.448Z"
   },
   {
    "duration": 6,
    "start_time": "2021-06-14T12:46:46.450Z"
   },
   {
    "duration": 290,
    "start_time": "2021-06-14T12:50:36.687Z"
   },
   {
    "duration": 301,
    "start_time": "2021-06-14T12:51:25.974Z"
   },
   {
    "duration": 6,
    "start_time": "2021-06-14T12:51:54.082Z"
   },
   {
    "duration": 7,
    "start_time": "2021-06-14T12:52:02.595Z"
   },
   {
    "duration": 4,
    "start_time": "2021-06-14T12:52:59.902Z"
   },
   {
    "duration": 5,
    "start_time": "2021-06-14T12:53:03.360Z"
   },
   {
    "duration": 10,
    "start_time": "2021-06-14T12:53:09.902Z"
   },
   {
    "duration": 8,
    "start_time": "2021-06-14T12:53:12.340Z"
   },
   {
    "duration": 4,
    "start_time": "2021-06-14T12:53:35.063Z"
   },
   {
    "duration": 5,
    "start_time": "2021-06-14T12:53:37.182Z"
   },
   {
    "duration": 6,
    "start_time": "2021-06-14T12:58:56.549Z"
   },
   {
    "duration": 7,
    "start_time": "2021-06-14T12:59:24.940Z"
   },
   {
    "duration": 7,
    "start_time": "2021-06-14T12:59:27.618Z"
   },
   {
    "duration": 295,
    "start_time": "2021-06-14T13:02:57.228Z"
   },
   {
    "duration": 5,
    "start_time": "2021-06-14T13:07:10.970Z"
   },
   {
    "duration": 35,
    "start_time": "2021-06-14T13:07:15.978Z"
   },
   {
    "duration": 5,
    "start_time": "2021-06-14T13:07:34.450Z"
   },
   {
    "duration": 7,
    "start_time": "2021-06-14T13:07:41.171Z"
   },
   {
    "duration": 6,
    "start_time": "2021-06-14T13:10:57.863Z"
   },
   {
    "duration": 311,
    "start_time": "2021-06-14T13:13:03.482Z"
   },
   {
    "duration": 305,
    "start_time": "2021-06-14T13:13:11.608Z"
   },
   {
    "duration": 569,
    "start_time": "2021-06-14T13:13:42.251Z"
   },
   {
    "duration": 487,
    "start_time": "2021-06-14T13:13:42.822Z"
   },
   {
    "duration": 16,
    "start_time": "2021-06-14T13:13:43.312Z"
   },
   {
    "duration": 15,
    "start_time": "2021-06-14T13:13:43.331Z"
   },
   {
    "duration": 13,
    "start_time": "2021-06-14T13:13:43.348Z"
   },
   {
    "duration": 66,
    "start_time": "2021-06-14T13:13:43.363Z"
   },
   {
    "duration": 12,
    "start_time": "2021-06-14T13:13:43.431Z"
   },
   {
    "duration": 7,
    "start_time": "2021-06-14T13:13:43.446Z"
   },
   {
    "duration": 5,
    "start_time": "2021-06-14T13:13:43.456Z"
   },
   {
    "duration": 41,
    "start_time": "2021-06-14T13:13:43.463Z"
   },
   {
    "duration": 8,
    "start_time": "2021-06-14T13:13:43.506Z"
   },
   {
    "duration": 13,
    "start_time": "2021-06-14T13:13:43.516Z"
   },
   {
    "duration": 14,
    "start_time": "2021-06-14T13:13:43.532Z"
   },
   {
    "duration": 40,
    "start_time": "2021-06-14T13:13:43.549Z"
   },
   {
    "duration": 22,
    "start_time": "2021-06-14T13:13:43.591Z"
   },
   {
    "duration": 17,
    "start_time": "2021-06-14T13:13:43.615Z"
   },
   {
    "duration": 12,
    "start_time": "2021-06-14T13:13:43.634Z"
   },
   {
    "duration": 38,
    "start_time": "2021-06-14T13:13:43.648Z"
   },
   {
    "duration": 9,
    "start_time": "2021-06-14T13:13:43.691Z"
   },
   {
    "duration": 2638,
    "start_time": "2021-06-14T13:13:43.703Z"
   },
   {
    "duration": 374,
    "start_time": "2021-06-14T13:13:46.344Z"
   },
   {
    "duration": 7,
    "start_time": "2021-06-14T13:13:46.713Z"
   },
   {
    "duration": 6,
    "start_time": "2021-06-14T13:13:46.716Z"
   },
   {
    "duration": 5,
    "start_time": "2021-06-14T13:13:46.718Z"
   },
   {
    "duration": 2,
    "start_time": "2021-06-14T13:13:46.722Z"
   },
   {
    "duration": 1,
    "start_time": "2021-06-14T13:13:46.724Z"
   },
   {
    "duration": -1,
    "start_time": "2021-06-14T13:13:46.727Z"
   },
   {
    "duration": -2,
    "start_time": "2021-06-14T13:13:46.729Z"
   },
   {
    "duration": -3,
    "start_time": "2021-06-14T13:13:46.732Z"
   },
   {
    "duration": -4,
    "start_time": "2021-06-14T13:13:46.734Z"
   },
   {
    "duration": -4,
    "start_time": "2021-06-14T13:13:46.736Z"
   },
   {
    "duration": 3,
    "start_time": "2021-06-14T13:13:59.233Z"
   },
   {
    "duration": 4267,
    "start_time": "2021-06-14T13:15:41.736Z"
   },
   {
    "duration": -39,
    "start_time": "2021-06-14T13:15:46.045Z"
   },
   {
    "duration": 4562,
    "start_time": "2021-06-14T13:15:47.403Z"
   },
   {
    "duration": 2512,
    "start_time": "2021-06-14T13:16:12.130Z"
   },
   {
    "duration": 5,
    "start_time": "2021-06-14T13:19:18.940Z"
   },
   {
    "duration": 2676,
    "start_time": "2021-06-14T13:19:22.399Z"
   },
   {
    "duration": 5,
    "start_time": "2021-06-14T13:19:27.891Z"
   },
   {
    "duration": 245,
    "start_time": "2021-06-14T13:20:23.213Z"
   },
   {
    "duration": 7,
    "start_time": "2021-06-14T13:20:26.466Z"
   },
   {
    "duration": 5,
    "start_time": "2021-06-14T13:21:35.231Z"
   },
   {
    "duration": 4036,
    "start_time": "2021-06-14T13:21:41.116Z"
   },
   {
    "duration": 6,
    "start_time": "2021-06-14T13:21:46.574Z"
   },
   {
    "duration": 7,
    "start_time": "2021-06-14T13:21:49.213Z"
   },
   {
    "duration": 5,
    "start_time": "2021-06-14T13:22:04.005Z"
   },
   {
    "duration": 6,
    "start_time": "2021-06-14T13:22:37.068Z"
   },
   {
    "duration": 7,
    "start_time": "2021-06-14T13:22:49.229Z"
   },
   {
    "duration": 6,
    "start_time": "2021-06-14T13:23:05.159Z"
   },
   {
    "duration": 171,
    "start_time": "2021-06-14T13:24:56.259Z"
   },
   {
    "duration": 607,
    "start_time": "2021-06-14T13:25:31.797Z"
   },
   {
    "duration": 71,
    "start_time": "2021-06-14T13:25:32.405Z"
   },
   {
    "duration": 28,
    "start_time": "2021-06-14T13:25:32.479Z"
   },
   {
    "duration": 11,
    "start_time": "2021-06-14T13:25:32.508Z"
   },
   {
    "duration": 11,
    "start_time": "2021-06-14T13:25:32.521Z"
   },
   {
    "duration": 59,
    "start_time": "2021-06-14T13:25:32.534Z"
   },
   {
    "duration": 12,
    "start_time": "2021-06-14T13:25:32.595Z"
   },
   {
    "duration": 6,
    "start_time": "2021-06-14T13:25:32.610Z"
   },
   {
    "duration": 5,
    "start_time": "2021-06-14T13:25:32.618Z"
   },
   {
    "duration": 12,
    "start_time": "2021-06-14T13:25:32.624Z"
   },
   {
    "duration": 7,
    "start_time": "2021-06-14T13:25:32.638Z"
   },
   {
    "duration": 39,
    "start_time": "2021-06-14T13:25:32.647Z"
   },
   {
    "duration": 18,
    "start_time": "2021-06-14T13:25:32.689Z"
   },
   {
    "duration": 27,
    "start_time": "2021-06-14T13:25:32.709Z"
   },
   {
    "duration": 19,
    "start_time": "2021-06-14T13:25:32.737Z"
   },
   {
    "duration": 41,
    "start_time": "2021-06-14T13:25:32.758Z"
   },
   {
    "duration": 18,
    "start_time": "2021-06-14T13:25:32.801Z"
   },
   {
    "duration": 11,
    "start_time": "2021-06-14T13:25:32.821Z"
   },
   {
    "duration": 9,
    "start_time": "2021-06-14T13:25:32.834Z"
   },
   {
    "duration": 2639,
    "start_time": "2021-06-14T13:25:32.845Z"
   },
   {
    "duration": 242,
    "start_time": "2021-06-14T13:25:35.485Z"
   },
   {
    "duration": 16,
    "start_time": "2021-06-14T13:25:35.714Z"
   },
   {
    "duration": 15,
    "start_time": "2021-06-14T13:25:35.716Z"
   },
   {
    "duration": 14,
    "start_time": "2021-06-14T13:25:35.718Z"
   },
   {
    "duration": 12,
    "start_time": "2021-06-14T13:25:35.721Z"
   },
   {
    "duration": -10,
    "start_time": "2021-06-14T13:25:35.744Z"
   },
   {
    "duration": -12,
    "start_time": "2021-06-14T13:25:35.747Z"
   },
   {
    "duration": -13,
    "start_time": "2021-06-14T13:25:35.749Z"
   },
   {
    "duration": -15,
    "start_time": "2021-06-14T13:25:35.752Z"
   },
   {
    "duration": -16,
    "start_time": "2021-06-14T13:25:35.754Z"
   },
   {
    "duration": -17,
    "start_time": "2021-06-14T13:25:35.756Z"
   },
   {
    "duration": 30,
    "start_time": "2021-06-14T13:25:46.492Z"
   },
   {
    "duration": 190,
    "start_time": "2021-06-14T13:28:24.068Z"
   },
   {
    "duration": 183,
    "start_time": "2021-06-14T13:28:55.055Z"
   },
   {
    "duration": 11,
    "start_time": "2021-06-14T13:29:34.187Z"
   },
   {
    "duration": 5,
    "start_time": "2021-06-14T13:31:17.250Z"
   },
   {
    "duration": 3,
    "start_time": "2021-06-14T13:31:44.153Z"
   },
   {
    "duration": 4,
    "start_time": "2021-06-14T13:31:52.760Z"
   },
   {
    "duration": 612,
    "start_time": "2021-06-14T13:32:03.198Z"
   },
   {
    "duration": 71,
    "start_time": "2021-06-14T13:32:03.812Z"
   },
   {
    "duration": 21,
    "start_time": "2021-06-14T13:32:03.885Z"
   },
   {
    "duration": 12,
    "start_time": "2021-06-14T13:32:03.909Z"
   },
   {
    "duration": 13,
    "start_time": "2021-06-14T13:32:03.923Z"
   },
   {
    "duration": 65,
    "start_time": "2021-06-14T13:32:03.937Z"
   },
   {
    "duration": 11,
    "start_time": "2021-06-14T13:32:04.004Z"
   },
   {
    "duration": 6,
    "start_time": "2021-06-14T13:32:04.018Z"
   },
   {
    "duration": 8,
    "start_time": "2021-06-14T13:32:04.027Z"
   },
   {
    "duration": 22,
    "start_time": "2021-06-14T13:32:04.037Z"
   },
   {
    "duration": 7,
    "start_time": "2021-06-14T13:32:04.061Z"
   },
   {
    "duration": 20,
    "start_time": "2021-06-14T13:32:04.086Z"
   },
   {
    "duration": 14,
    "start_time": "2021-06-14T13:32:04.108Z"
   },
   {
    "duration": 21,
    "start_time": "2021-06-14T13:32:04.124Z"
   },
   {
    "duration": 47,
    "start_time": "2021-06-14T13:32:04.147Z"
   },
   {
    "duration": 19,
    "start_time": "2021-06-14T13:32:04.196Z"
   },
   {
    "duration": 12,
    "start_time": "2021-06-14T13:32:04.217Z"
   },
   {
    "duration": 8,
    "start_time": "2021-06-14T13:32:04.231Z"
   },
   {
    "duration": 10,
    "start_time": "2021-06-14T13:32:04.241Z"
   },
   {
    "duration": 2611,
    "start_time": "2021-06-14T13:32:04.253Z"
   },
   {
    "duration": 239,
    "start_time": "2021-06-14T13:32:06.866Z"
   },
   {
    "duration": 25,
    "start_time": "2021-06-14T13:32:07.083Z"
   },
   {
    "duration": 23,
    "start_time": "2021-06-14T13:32:07.086Z"
   },
   {
    "duration": 20,
    "start_time": "2021-06-14T13:32:07.089Z"
   },
   {
    "duration": 18,
    "start_time": "2021-06-14T13:32:07.092Z"
   },
   {
    "duration": 17,
    "start_time": "2021-06-14T13:32:07.094Z"
   },
   {
    "duration": 16,
    "start_time": "2021-06-14T13:32:07.096Z"
   },
   {
    "duration": 15,
    "start_time": "2021-06-14T13:32:07.098Z"
   },
   {
    "duration": 14,
    "start_time": "2021-06-14T13:32:07.100Z"
   },
   {
    "duration": 6,
    "start_time": "2021-06-14T13:32:07.109Z"
   },
   {
    "duration": 4,
    "start_time": "2021-06-14T13:32:07.112Z"
   },
   {
    "duration": 3,
    "start_time": "2021-06-14T13:32:07.114Z"
   },
   {
    "duration": 6,
    "start_time": "2021-06-14T13:32:17.178Z"
   },
   {
    "duration": 4,
    "start_time": "2021-06-14T13:33:17.859Z"
   },
   {
    "duration": 174,
    "start_time": "2021-06-14T13:33:19.672Z"
   },
   {
    "duration": 253,
    "start_time": "2021-06-14T13:33:33.664Z"
   },
   {
    "duration": 12,
    "start_time": "2021-06-14T13:33:36.393Z"
   },
   {
    "duration": 596,
    "start_time": "2021-06-14T13:35:51.870Z"
   },
   {
    "duration": 78,
    "start_time": "2021-06-14T13:35:52.467Z"
   },
   {
    "duration": 16,
    "start_time": "2021-06-14T13:35:52.548Z"
   },
   {
    "duration": 22,
    "start_time": "2021-06-14T13:35:52.585Z"
   },
   {
    "duration": 9,
    "start_time": "2021-06-14T13:35:52.609Z"
   },
   {
    "duration": 38,
    "start_time": "2021-06-14T13:35:52.620Z"
   },
   {
    "duration": 26,
    "start_time": "2021-06-14T13:35:52.660Z"
   },
   {
    "duration": 5,
    "start_time": "2021-06-14T13:35:52.689Z"
   },
   {
    "duration": 8,
    "start_time": "2021-06-14T13:35:52.696Z"
   },
   {
    "duration": 19,
    "start_time": "2021-06-14T13:35:52.706Z"
   },
   {
    "duration": 10,
    "start_time": "2021-06-14T13:35:52.726Z"
   },
   {
    "duration": 22,
    "start_time": "2021-06-14T13:35:52.738Z"
   },
   {
    "duration": 19,
    "start_time": "2021-06-14T13:35:52.761Z"
   },
   {
    "duration": 34,
    "start_time": "2021-06-14T13:35:52.785Z"
   },
   {
    "duration": 19,
    "start_time": "2021-06-14T13:35:52.820Z"
   },
   {
    "duration": 17,
    "start_time": "2021-06-14T13:35:52.841Z"
   },
   {
    "duration": 32,
    "start_time": "2021-06-14T13:35:52.860Z"
   },
   {
    "duration": 11,
    "start_time": "2021-06-14T13:35:52.895Z"
   },
   {
    "duration": 7,
    "start_time": "2021-06-14T13:35:52.908Z"
   },
   {
    "duration": 2694,
    "start_time": "2021-06-14T13:35:52.917Z"
   },
   {
    "duration": 3,
    "start_time": "2021-06-14T13:35:55.613Z"
   },
   {
    "duration": 248,
    "start_time": "2021-06-14T13:35:55.618Z"
   },
   {
    "duration": 7,
    "start_time": "2021-06-14T13:35:55.869Z"
   },
   {
    "duration": 16,
    "start_time": "2021-06-14T13:35:55.890Z"
   },
   {
    "duration": 8,
    "start_time": "2021-06-14T13:35:55.908Z"
   },
   {
    "duration": 12,
    "start_time": "2021-06-14T13:35:55.917Z"
   },
   {
    "duration": 5,
    "start_time": "2021-06-14T13:35:55.931Z"
   },
   {
    "duration": 10,
    "start_time": "2021-06-14T13:35:55.938Z"
   },
   {
    "duration": 42,
    "start_time": "2021-06-14T13:35:55.950Z"
   },
   {
    "duration": 11,
    "start_time": "2021-06-14T13:35:55.994Z"
   },
   {
    "duration": 12,
    "start_time": "2021-06-14T13:35:56.007Z"
   },
   {
    "duration": 4,
    "start_time": "2021-06-14T13:39:24.869Z"
   },
   {
    "duration": 227,
    "start_time": "2021-06-14T13:39:26.749Z"
   },
   {
    "duration": 9,
    "start_time": "2021-06-14T13:39:28.830Z"
   },
   {
    "duration": 3,
    "start_time": "2021-06-14T13:39:36.324Z"
   },
   {
    "duration": 235,
    "start_time": "2021-06-14T13:39:39.253Z"
   },
   {
    "duration": 6,
    "start_time": "2021-06-14T13:39:40.643Z"
   },
   {
    "duration": 4,
    "start_time": "2021-06-14T13:40:03.979Z"
   },
   {
    "duration": 237,
    "start_time": "2021-06-14T13:40:05.693Z"
   },
   {
    "duration": 7,
    "start_time": "2021-06-14T13:40:07.547Z"
   },
   {
    "duration": 3,
    "start_time": "2021-06-14T13:41:09.123Z"
   },
   {
    "duration": 353,
    "start_time": "2021-06-14T13:42:36.303Z"
   },
   {
    "duration": 341,
    "start_time": "2021-06-14T13:43:26.292Z"
   },
   {
    "duration": 350,
    "start_time": "2021-06-14T13:43:52.935Z"
   },
   {
    "duration": 323,
    "start_time": "2021-06-14T13:44:15.695Z"
   },
   {
    "duration": 543,
    "start_time": "2021-06-14T13:44:54.862Z"
   },
   {
    "duration": 69,
    "start_time": "2021-06-14T13:44:55.406Z"
   },
   {
    "duration": 24,
    "start_time": "2021-06-14T13:44:55.477Z"
   },
   {
    "duration": 11,
    "start_time": "2021-06-14T13:44:55.503Z"
   },
   {
    "duration": 10,
    "start_time": "2021-06-14T13:44:55.515Z"
   },
   {
    "duration": 31,
    "start_time": "2021-06-14T13:44:55.527Z"
   },
   {
    "duration": 38,
    "start_time": "2021-06-14T13:44:55.560Z"
   },
   {
    "duration": 5,
    "start_time": "2021-06-14T13:44:55.601Z"
   },
   {
    "duration": 6,
    "start_time": "2021-06-14T13:44:55.608Z"
   },
   {
    "duration": 11,
    "start_time": "2021-06-14T13:44:55.616Z"
   },
   {
    "duration": 7,
    "start_time": "2021-06-14T13:44:55.629Z"
   },
   {
    "duration": 12,
    "start_time": "2021-06-14T13:44:55.638Z"
   },
   {
    "duration": 49,
    "start_time": "2021-06-14T13:44:55.651Z"
   },
   {
    "duration": 21,
    "start_time": "2021-06-14T13:44:55.702Z"
   },
   {
    "duration": 20,
    "start_time": "2021-06-14T13:44:55.725Z"
   },
   {
    "duration": 44,
    "start_time": "2021-06-14T13:44:55.747Z"
   },
   {
    "duration": 13,
    "start_time": "2021-06-14T13:44:55.793Z"
   },
   {
    "duration": 9,
    "start_time": "2021-06-14T13:44:55.807Z"
   },
   {
    "duration": 6,
    "start_time": "2021-06-14T13:44:55.817Z"
   },
   {
    "duration": 2535,
    "start_time": "2021-06-14T13:44:55.824Z"
   },
   {
    "duration": 348,
    "start_time": "2021-06-14T13:44:58.361Z"
   },
   {
    "duration": 17,
    "start_time": "2021-06-14T13:44:58.694Z"
   },
   {
    "duration": 12,
    "start_time": "2021-06-14T13:44:58.700Z"
   },
   {
    "duration": 11,
    "start_time": "2021-06-14T13:44:58.702Z"
   },
   {
    "duration": 8,
    "start_time": "2021-06-14T13:44:58.705Z"
   },
   {
    "duration": 7,
    "start_time": "2021-06-14T13:44:58.707Z"
   },
   {
    "duration": 6,
    "start_time": "2021-06-14T13:44:58.709Z"
   },
   {
    "duration": 5,
    "start_time": "2021-06-14T13:44:58.711Z"
   },
   {
    "duration": 4,
    "start_time": "2021-06-14T13:44:58.713Z"
   },
   {
    "duration": 3,
    "start_time": "2021-06-14T13:44:58.715Z"
   },
   {
    "duration": 1,
    "start_time": "2021-06-14T13:44:58.718Z"
   },
   {
    "duration": 345,
    "start_time": "2021-06-14T13:45:28.607Z"
   },
   {
    "duration": 5,
    "start_time": "2021-06-14T13:46:26.683Z"
   },
   {
    "duration": 295,
    "start_time": "2021-06-14T13:46:49.816Z"
   },
   {
    "duration": 293,
    "start_time": "2021-06-14T13:46:56.500Z"
   },
   {
    "duration": 3,
    "start_time": "2021-06-14T13:48:18.598Z"
   },
   {
    "duration": 380,
    "start_time": "2021-06-14T13:48:22.082Z"
   },
   {
    "duration": 3,
    "start_time": "2021-06-14T13:48:42.734Z"
   },
   {
    "duration": 475,
    "start_time": "2021-06-14T13:49:11.325Z"
   },
   {
    "duration": 292,
    "start_time": "2021-06-14T13:49:43.381Z"
   },
   {
    "duration": 171,
    "start_time": "2021-06-14T13:49:57.411Z"
   },
   {
    "duration": 5,
    "start_time": "2021-06-14T13:51:31.625Z"
   },
   {
    "duration": 242,
    "start_time": "2021-06-14T13:51:35.922Z"
   },
   {
    "duration": 8,
    "start_time": "2021-06-14T13:51:38.854Z"
   },
   {
    "duration": 5,
    "start_time": "2021-06-14T13:57:18.421Z"
   },
   {
    "duration": 4,
    "start_time": "2021-06-14T13:57:28.868Z"
   },
   {
    "duration": 786,
    "start_time": "2021-06-14T13:57:30.636Z"
   },
   {
    "duration": 6,
    "start_time": "2021-06-14T13:57:32.706Z"
   },
   {
    "duration": 3,
    "start_time": "2021-06-14T13:57:54.037Z"
   },
   {
    "duration": 364,
    "start_time": "2021-06-14T13:57:55.936Z"
   },
   {
    "duration": 4,
    "start_time": "2021-06-14T13:59:30.032Z"
   },
   {
    "duration": 257,
    "start_time": "2021-06-14T13:59:34.035Z"
   },
   {
    "duration": 8,
    "start_time": "2021-06-14T13:59:36.393Z"
   },
   {
    "duration": 5,
    "start_time": "2021-06-14T14:00:20.483Z"
   },
   {
    "duration": 3591,
    "start_time": "2021-06-14T14:00:22.638Z"
   },
   {
    "duration": 6,
    "start_time": "2021-06-14T14:00:28.734Z"
   },
   {
    "duration": 3,
    "start_time": "2021-06-14T14:01:12.121Z"
   },
   {
    "duration": 376,
    "start_time": "2021-06-14T14:01:14.894Z"
   },
   {
    "duration": 308,
    "start_time": "2021-06-14T14:01:58.607Z"
   },
   {
    "duration": 321,
    "start_time": "2021-06-14T14:02:09.876Z"
   },
   {
    "duration": 304,
    "start_time": "2021-06-14T14:02:15.916Z"
   },
   {
    "duration": 5,
    "start_time": "2021-06-14T14:02:46.483Z"
   },
   {
    "duration": 331,
    "start_time": "2021-06-14T14:03:04.363Z"
   },
   {
    "duration": 4,
    "start_time": "2021-06-14T14:04:55.135Z"
   },
   {
    "duration": 314,
    "start_time": "2021-06-14T14:05:13.145Z"
   },
   {
    "duration": 4,
    "start_time": "2021-06-14T14:05:18.894Z"
   },
   {
    "duration": 235,
    "start_time": "2021-06-14T14:05:21.039Z"
   },
   {
    "duration": 7,
    "start_time": "2021-06-14T14:05:23.333Z"
   },
   {
    "duration": 14,
    "start_time": "2021-06-14T14:05:35.250Z"
   },
   {
    "duration": 4,
    "start_time": "2021-06-14T14:07:11.851Z"
   },
   {
    "duration": 652,
    "start_time": "2021-06-14T14:07:14.390Z"
   },
   {
    "duration": 612,
    "start_time": "2021-06-14T14:07:50.889Z"
   },
   {
    "duration": 70,
    "start_time": "2021-06-14T14:07:51.503Z"
   },
   {
    "duration": 24,
    "start_time": "2021-06-14T14:07:51.575Z"
   },
   {
    "duration": 11,
    "start_time": "2021-06-14T14:07:51.601Z"
   },
   {
    "duration": 10,
    "start_time": "2021-06-14T14:07:51.614Z"
   },
   {
    "duration": 34,
    "start_time": "2021-06-14T14:07:51.626Z"
   },
   {
    "duration": 41,
    "start_time": "2021-06-14T14:07:51.662Z"
   },
   {
    "duration": 4,
    "start_time": "2021-06-14T14:07:51.706Z"
   },
   {
    "duration": 4,
    "start_time": "2021-06-14T14:07:51.712Z"
   },
   {
    "duration": 12,
    "start_time": "2021-06-14T14:07:51.718Z"
   },
   {
    "duration": 7,
    "start_time": "2021-06-14T14:07:51.731Z"
   },
   {
    "duration": 14,
    "start_time": "2021-06-14T14:07:51.740Z"
   },
   {
    "duration": 45,
    "start_time": "2021-06-14T14:07:51.756Z"
   },
   {
    "duration": 27,
    "start_time": "2021-06-14T14:07:51.803Z"
   },
   {
    "duration": 19,
    "start_time": "2021-06-14T14:07:51.832Z"
   },
   {
    "duration": 16,
    "start_time": "2021-06-14T14:07:51.852Z"
   },
   {
    "duration": 31,
    "start_time": "2021-06-14T14:07:51.870Z"
   },
   {
    "duration": 5,
    "start_time": "2021-06-14T14:07:51.902Z"
   },
   {
    "duration": 6,
    "start_time": "2021-06-14T14:07:51.909Z"
   },
   {
    "duration": 2619,
    "start_time": "2021-06-14T14:07:51.916Z"
   },
   {
    "duration": 3,
    "start_time": "2021-06-14T14:07:54.537Z"
   },
   {
    "duration": 255,
    "start_time": "2021-06-14T14:07:54.542Z"
   },
   {
    "duration": 6,
    "start_time": "2021-06-14T14:07:54.801Z"
   },
   {
    "duration": 15,
    "start_time": "2021-06-14T14:07:54.809Z"
   },
   {
    "duration": 7,
    "start_time": "2021-06-14T14:07:54.826Z"
   },
   {
    "duration": 11,
    "start_time": "2021-06-14T14:07:54.835Z"
   },
   {
    "duration": 5,
    "start_time": "2021-06-14T14:07:54.848Z"
   },
   {
    "duration": 45,
    "start_time": "2021-06-14T14:07:54.855Z"
   },
   {
    "duration": 8,
    "start_time": "2021-06-14T14:07:54.902Z"
   },
   {
    "duration": 10,
    "start_time": "2021-06-14T14:07:54.912Z"
   },
   {
    "duration": 12,
    "start_time": "2021-06-14T14:07:54.923Z"
   },
   {
    "duration": 584,
    "start_time": "2021-06-14T14:12:03.410Z"
   },
   {
    "duration": 74,
    "start_time": "2021-06-14T14:12:03.996Z"
   },
   {
    "duration": 18,
    "start_time": "2021-06-14T14:12:04.072Z"
   },
   {
    "duration": 17,
    "start_time": "2021-06-14T14:12:04.092Z"
   },
   {
    "duration": 10,
    "start_time": "2021-06-14T14:12:04.110Z"
   },
   {
    "duration": 33,
    "start_time": "2021-06-14T14:12:04.122Z"
   },
   {
    "duration": 47,
    "start_time": "2021-06-14T14:12:04.157Z"
   },
   {
    "duration": 3,
    "start_time": "2021-06-14T14:12:04.206Z"
   },
   {
    "duration": 7,
    "start_time": "2021-06-14T14:12:04.212Z"
   },
   {
    "duration": 11,
    "start_time": "2021-06-14T14:12:04.221Z"
   },
   {
    "duration": 10,
    "start_time": "2021-06-14T14:12:04.233Z"
   },
   {
    "duration": 16,
    "start_time": "2021-06-14T14:12:04.245Z"
   },
   {
    "duration": 30,
    "start_time": "2021-06-14T14:12:04.263Z"
   },
   {
    "duration": 22,
    "start_time": "2021-06-14T14:12:04.295Z"
   },
   {
    "duration": 19,
    "start_time": "2021-06-14T14:12:04.319Z"
   },
   {
    "duration": 16,
    "start_time": "2021-06-14T14:12:04.340Z"
   },
   {
    "duration": 43,
    "start_time": "2021-06-14T14:12:04.358Z"
   },
   {
    "duration": 6,
    "start_time": "2021-06-14T14:12:04.403Z"
   },
   {
    "duration": 6,
    "start_time": "2021-06-14T14:12:04.410Z"
   },
   {
    "duration": 2593,
    "start_time": "2021-06-14T14:12:04.418Z"
   },
   {
    "duration": 3,
    "start_time": "2021-06-14T14:12:07.012Z"
   },
   {
    "duration": 253,
    "start_time": "2021-06-14T14:12:07.017Z"
   },
   {
    "duration": 23,
    "start_time": "2021-06-14T14:12:07.272Z"
   },
   {
    "duration": 19,
    "start_time": "2021-06-14T14:12:07.297Z"
   },
   {
    "duration": 8,
    "start_time": "2021-06-14T14:12:07.318Z"
   },
   {
    "duration": 13,
    "start_time": "2021-06-14T14:12:07.328Z"
   },
   {
    "duration": 7,
    "start_time": "2021-06-14T14:12:07.345Z"
   },
   {
    "duration": 42,
    "start_time": "2021-06-14T14:12:07.354Z"
   },
   {
    "duration": 12,
    "start_time": "2021-06-14T14:12:07.398Z"
   },
   {
    "duration": 11,
    "start_time": "2021-06-14T14:12:07.411Z"
   },
   {
    "duration": 8,
    "start_time": "2021-06-14T14:12:07.423Z"
   },
   {
    "duration": 9,
    "start_time": "2021-06-14T14:20:58.634Z"
   },
   {
    "duration": 7,
    "start_time": "2021-06-14T14:21:31.504Z"
   },
   {
    "duration": 8,
    "start_time": "2021-06-14T14:29:51.657Z"
   },
   {
    "duration": 9,
    "start_time": "2021-06-14T14:30:01.906Z"
   },
   {
    "duration": 8,
    "start_time": "2021-06-14T14:30:14.695Z"
   },
   {
    "duration": 8,
    "start_time": "2021-06-14T14:33:13.016Z"
   },
   {
    "duration": 8,
    "start_time": "2021-06-14T14:38:00.857Z"
   },
   {
    "duration": 9,
    "start_time": "2021-06-14T14:38:09.297Z"
   },
   {
    "duration": 6,
    "start_time": "2021-06-14T14:39:30.045Z"
   },
   {
    "duration": 14,
    "start_time": "2021-06-14T14:39:44.549Z"
   },
   {
    "duration": 4,
    "start_time": "2021-06-14T14:42:44.737Z"
   },
   {
    "duration": 14,
    "start_time": "2021-06-14T14:42:46.296Z"
   },
   {
    "duration": 8,
    "start_time": "2021-06-14T14:43:25.606Z"
   },
   {
    "duration": 11,
    "start_time": "2021-06-14T14:43:34.471Z"
   },
   {
    "duration": 2816,
    "start_time": "2021-06-14T14:44:19.501Z"
   },
   {
    "duration": 2378,
    "start_time": "2021-06-14T14:44:24.663Z"
   },
   {
    "duration": 12,
    "start_time": "2021-06-14T14:44:44.930Z"
   },
   {
    "duration": 34,
    "start_time": "2021-06-14T14:44:56.964Z"
   },
   {
    "duration": 180,
    "start_time": "2021-06-14T14:45:18.269Z"
   },
   {
    "duration": 25,
    "start_time": "2021-06-14T14:45:24.835Z"
   },
   {
    "duration": 15,
    "start_time": "2021-06-14T14:46:02.436Z"
   },
   {
    "duration": 7,
    "start_time": "2021-06-14T14:51:58.536Z"
   },
   {
    "duration": 9,
    "start_time": "2021-06-14T14:52:16.142Z"
   },
   {
    "duration": 6,
    "start_time": "2021-06-14T14:52:27.652Z"
   },
   {
    "duration": 5,
    "start_time": "2021-06-14T14:52:34.901Z"
   },
   {
    "duration": 8,
    "start_time": "2021-06-14T14:52:45.216Z"
   },
   {
    "duration": 4596,
    "start_time": "2021-06-14T14:54:38.666Z"
   },
   {
    "duration": 4,
    "start_time": "2021-06-14T14:54:55.698Z"
   },
   {
    "duration": 14,
    "start_time": "2021-06-14T14:55:06.607Z"
   },
   {
    "duration": 181,
    "start_time": "2021-06-14T14:57:40.496Z"
   },
   {
    "duration": 6,
    "start_time": "2021-06-14T14:59:19.401Z"
   },
   {
    "duration": 6,
    "start_time": "2021-06-14T14:59:38.055Z"
   },
   {
    "duration": 8,
    "start_time": "2021-06-14T15:01:50.701Z"
   },
   {
    "duration": 16,
    "start_time": "2021-06-14T15:02:10.443Z"
   },
   {
    "duration": 20,
    "start_time": "2021-06-14T15:02:54.073Z"
   },
   {
    "duration": 15,
    "start_time": "2021-06-14T15:03:14.314Z"
   },
   {
    "duration": 16,
    "start_time": "2021-06-14T15:03:19.796Z"
   },
   {
    "duration": 15,
    "start_time": "2021-06-14T15:04:39.104Z"
   },
   {
    "duration": 15,
    "start_time": "2021-06-14T15:07:19.794Z"
   },
   {
    "duration": 6,
    "start_time": "2021-06-14T15:08:09.257Z"
   },
   {
    "duration": 9,
    "start_time": "2021-06-14T15:08:25.143Z"
   },
   {
    "duration": 14,
    "start_time": "2021-06-14T15:08:50.878Z"
   },
   {
    "duration": 7,
    "start_time": "2021-06-14T15:09:09.111Z"
   },
   {
    "duration": 12,
    "start_time": "2021-06-14T15:09:12.992Z"
   },
   {
    "duration": 9,
    "start_time": "2021-06-14T15:11:01.875Z"
   },
   {
    "duration": 10,
    "start_time": "2021-06-14T15:11:19.522Z"
   },
   {
    "duration": 8,
    "start_time": "2021-06-14T15:12:03.289Z"
   },
   {
    "duration": 8,
    "start_time": "2021-06-14T15:12:04.927Z"
   },
   {
    "duration": 4658,
    "start_time": "2021-06-14T15:14:43.348Z"
   },
   {
    "duration": 4855,
    "start_time": "2021-06-14T15:14:48.725Z"
   },
   {
    "duration": 4361,
    "start_time": "2021-06-14T15:15:31.143Z"
   },
   {
    "duration": 4734,
    "start_time": "2021-06-14T15:16:16.755Z"
   },
   {
    "duration": 595,
    "start_time": "2021-06-14T15:16:37.598Z"
   },
   {
    "duration": 71,
    "start_time": "2021-06-14T15:16:38.196Z"
   },
   {
    "duration": 24,
    "start_time": "2021-06-14T15:16:38.269Z"
   },
   {
    "duration": 15,
    "start_time": "2021-06-14T15:16:38.295Z"
   },
   {
    "duration": 10,
    "start_time": "2021-06-14T15:16:38.312Z"
   },
   {
    "duration": 36,
    "start_time": "2021-06-14T15:16:38.324Z"
   },
   {
    "duration": 36,
    "start_time": "2021-06-14T15:16:38.362Z"
   },
   {
    "duration": 4,
    "start_time": "2021-06-14T15:16:38.401Z"
   },
   {
    "duration": 7,
    "start_time": "2021-06-14T15:16:38.407Z"
   },
   {
    "duration": 12,
    "start_time": "2021-06-14T15:16:38.416Z"
   },
   {
    "duration": 8,
    "start_time": "2021-06-14T15:16:38.430Z"
   },
   {
    "duration": 15,
    "start_time": "2021-06-14T15:16:38.439Z"
   },
   {
    "duration": 45,
    "start_time": "2021-06-14T15:16:38.456Z"
   },
   {
    "duration": 20,
    "start_time": "2021-06-14T15:16:38.503Z"
   },
   {
    "duration": 18,
    "start_time": "2021-06-14T15:16:38.525Z"
   },
   {
    "duration": 16,
    "start_time": "2021-06-14T15:16:38.545Z"
   },
   {
    "duration": 28,
    "start_time": "2021-06-14T15:16:38.562Z"
   },
   {
    "duration": 8,
    "start_time": "2021-06-14T15:16:38.593Z"
   },
   {
    "duration": 5,
    "start_time": "2021-06-14T15:16:38.603Z"
   },
   {
    "duration": 2647,
    "start_time": "2021-06-14T15:16:38.610Z"
   },
   {
    "duration": 4,
    "start_time": "2021-06-14T15:16:41.259Z"
   },
   {
    "duration": 250,
    "start_time": "2021-06-14T15:16:41.264Z"
   },
   {
    "duration": 6,
    "start_time": "2021-06-14T15:16:41.518Z"
   },
   {
    "duration": 15,
    "start_time": "2021-06-14T15:16:41.526Z"
   },
   {
    "duration": 12,
    "start_time": "2021-06-14T15:16:41.543Z"
   },
   {
    "duration": 33,
    "start_time": "2021-06-14T15:16:41.556Z"
   },
   {
    "duration": 7,
    "start_time": "2021-06-14T15:16:41.592Z"
   },
   {
    "duration": 10,
    "start_time": "2021-06-14T15:16:41.601Z"
   },
   {
    "duration": 11,
    "start_time": "2021-06-14T15:16:41.613Z"
   },
   {
    "duration": 10,
    "start_time": "2021-06-14T15:16:41.626Z"
   },
   {
    "duration": 9,
    "start_time": "2021-06-14T15:16:41.637Z"
   },
   {
    "duration": 15,
    "start_time": "2021-06-14T15:16:41.648Z"
   },
   {
    "duration": 27,
    "start_time": "2021-06-14T15:16:41.665Z"
   },
   {
    "duration": 4,
    "start_time": "2021-06-14T15:16:41.695Z"
   },
   {
    "duration": 11,
    "start_time": "2021-06-14T15:16:41.700Z"
   },
   {
    "duration": 3,
    "start_time": "2021-06-14T15:16:41.712Z"
   },
   {
    "duration": 16,
    "start_time": "2021-06-14T15:16:41.717Z"
   },
   {
    "duration": 5,
    "start_time": "2021-06-14T15:16:41.735Z"
   },
   {
    "duration": 11,
    "start_time": "2021-06-14T15:16:41.742Z"
   },
   {
    "duration": 42,
    "start_time": "2021-06-14T15:16:41.755Z"
   },
   {
    "duration": 10,
    "start_time": "2021-06-14T15:16:41.799Z"
   },
   {
    "duration": 17,
    "start_time": "2021-06-14T15:21:34.581Z"
   },
   {
    "duration": 561,
    "start_time": "2021-06-14T15:21:50.819Z"
   },
   {
    "duration": 75,
    "start_time": "2021-06-14T15:21:51.382Z"
   },
   {
    "duration": 15,
    "start_time": "2021-06-14T15:21:51.459Z"
   },
   {
    "duration": 15,
    "start_time": "2021-06-14T15:21:51.476Z"
   },
   {
    "duration": 17,
    "start_time": "2021-06-14T15:21:51.494Z"
   },
   {
    "duration": 34,
    "start_time": "2021-06-14T15:21:51.513Z"
   },
   {
    "duration": 45,
    "start_time": "2021-06-14T15:21:51.549Z"
   },
   {
    "duration": 5,
    "start_time": "2021-06-14T15:21:51.598Z"
   },
   {
    "duration": 3,
    "start_time": "2021-06-14T15:21:51.606Z"
   },
   {
    "duration": 17,
    "start_time": "2021-06-14T15:21:51.611Z"
   },
   {
    "duration": 7,
    "start_time": "2021-06-14T15:21:51.630Z"
   },
   {
    "duration": 19,
    "start_time": "2021-06-14T15:21:51.639Z"
   },
   {
    "duration": 29,
    "start_time": "2021-06-14T15:21:51.660Z"
   },
   {
    "duration": 21,
    "start_time": "2021-06-14T15:21:51.692Z"
   },
   {
    "duration": 18,
    "start_time": "2021-06-14T15:21:51.715Z"
   },
   {
    "duration": 17,
    "start_time": "2021-06-14T15:21:51.734Z"
   },
   {
    "duration": 38,
    "start_time": "2021-06-14T15:21:51.752Z"
   },
   {
    "duration": 13,
    "start_time": "2021-06-14T15:21:51.793Z"
   },
   {
    "duration": 6,
    "start_time": "2021-06-14T15:21:51.808Z"
   },
   {
    "duration": 2675,
    "start_time": "2021-06-14T15:21:51.816Z"
   },
   {
    "duration": 4,
    "start_time": "2021-06-14T15:21:54.493Z"
   },
   {
    "duration": 268,
    "start_time": "2021-06-14T15:21:54.500Z"
   },
   {
    "duration": 7,
    "start_time": "2021-06-14T15:21:54.771Z"
   },
   {
    "duration": 19,
    "start_time": "2021-06-14T15:21:54.784Z"
   },
   {
    "duration": 8,
    "start_time": "2021-06-14T15:21:54.805Z"
   },
   {
    "duration": 14,
    "start_time": "2021-06-14T15:21:54.815Z"
   },
   {
    "duration": 7,
    "start_time": "2021-06-14T15:21:54.831Z"
   },
   {
    "duration": 14,
    "start_time": "2021-06-14T15:21:54.839Z"
   },
   {
    "duration": 21,
    "start_time": "2021-06-14T15:21:54.886Z"
   },
   {
    "duration": 9,
    "start_time": "2021-06-14T15:21:54.909Z"
   },
   {
    "duration": 11,
    "start_time": "2021-06-14T15:21:54.920Z"
   },
   {
    "duration": 10,
    "start_time": "2021-06-14T15:21:54.933Z"
   },
   {
    "duration": 5,
    "start_time": "2021-06-14T15:21:54.944Z"
   },
   {
    "duration": 36,
    "start_time": "2021-06-14T15:21:54.951Z"
   },
   {
    "duration": 13,
    "start_time": "2021-06-14T15:21:54.989Z"
   },
   {
    "duration": 4,
    "start_time": "2021-06-14T15:21:55.003Z"
   },
   {
    "duration": 17,
    "start_time": "2021-06-14T15:21:55.009Z"
   },
   {
    "duration": 7,
    "start_time": "2021-06-14T15:21:55.028Z"
   },
   {
    "duration": 17,
    "start_time": "2021-06-14T15:21:55.036Z"
   },
   {
    "duration": 35,
    "start_time": "2021-06-14T15:21:55.055Z"
   },
   {
    "duration": 14,
    "start_time": "2021-06-14T15:21:55.094Z"
   },
   {
    "duration": 11,
    "start_time": "2021-06-14T15:22:17.559Z"
   },
   {
    "duration": 4,
    "start_time": "2021-06-14T15:22:22.911Z"
   },
   {
    "duration": 9,
    "start_time": "2021-06-14T15:22:24.437Z"
   },
   {
    "duration": 10,
    "start_time": "2021-06-14T15:22:25.814Z"
   },
   {
    "duration": 10,
    "start_time": "2021-06-14T15:25:06.121Z"
   },
   {
    "duration": 4,
    "start_time": "2021-06-14T15:25:10.008Z"
   },
   {
    "duration": 10,
    "start_time": "2021-06-14T15:25:11.310Z"
   },
   {
    "duration": 11,
    "start_time": "2021-06-14T15:25:17.975Z"
   },
   {
    "duration": 12,
    "start_time": "2021-06-14T15:25:20.984Z"
   },
   {
    "duration": 4,
    "start_time": "2021-06-14T15:25:42.507Z"
   },
   {
    "duration": 238,
    "start_time": "2021-06-14T15:26:13.825Z"
   },
   {
    "duration": 3,
    "start_time": "2021-06-14T15:26:23.272Z"
   },
   {
    "duration": 7,
    "start_time": "2021-06-14T15:26:24.630Z"
   },
   {
    "duration": 198,
    "start_time": "2021-06-14T15:26:50.286Z"
   },
   {
    "duration": 15,
    "start_time": "2021-06-14T15:27:05.277Z"
   },
   {
    "duration": 10,
    "start_time": "2021-06-14T15:27:20.132Z"
   },
   {
    "duration": 11,
    "start_time": "2021-06-14T15:29:14.394Z"
   },
   {
    "duration": 3,
    "start_time": "2021-06-14T15:30:18.848Z"
   },
   {
    "duration": 10,
    "start_time": "2021-06-14T15:30:20.054Z"
   },
   {
    "duration": 11,
    "start_time": "2021-06-14T15:30:21.616Z"
   },
   {
    "duration": 9,
    "start_time": "2021-06-14T15:30:33.621Z"
   },
   {
    "duration": 3,
    "start_time": "2021-06-14T15:30:56.742Z"
   },
   {
    "duration": 10,
    "start_time": "2021-06-14T15:30:58.166Z"
   },
   {
    "duration": 10,
    "start_time": "2021-06-14T15:30:59.696Z"
   },
   {
    "duration": 11,
    "start_time": "2021-06-14T15:34:21.592Z"
   },
   {
    "duration": 3,
    "start_time": "2021-06-14T15:37:55.081Z"
   },
   {
    "duration": 14,
    "start_time": "2021-06-14T15:38:13.225Z"
   },
   {
    "duration": 36,
    "start_time": "2021-06-14T15:38:41.470Z"
   },
   {
    "duration": 15,
    "start_time": "2021-06-14T15:39:06.137Z"
   },
   {
    "duration": 15,
    "start_time": "2021-06-14T15:39:43.015Z"
   },
   {
    "duration": 14,
    "start_time": "2021-06-14T15:40:36.756Z"
   },
   {
    "duration": 15,
    "start_time": "2021-06-14T15:44:15.542Z"
   },
   {
    "duration": 4,
    "start_time": "2021-06-14T15:44:21.194Z"
   },
   {
    "duration": 173,
    "start_time": "2021-06-14T15:45:50.835Z"
   },
   {
    "duration": 9,
    "start_time": "2021-06-14T15:45:58.561Z"
   },
   {
    "duration": 9,
    "start_time": "2021-06-14T15:46:33.500Z"
   },
   {
    "duration": 4,
    "start_time": "2021-06-14T15:46:49.905Z"
   },
   {
    "duration": 8,
    "start_time": "2021-06-14T15:47:07.120Z"
   },
   {
    "duration": 27,
    "start_time": "2021-06-14T15:47:24.504Z"
   },
   {
    "duration": 19,
    "start_time": "2021-06-14T15:47:35.517Z"
   },
   {
    "duration": 2093,
    "start_time": "2021-06-14T15:47:50.255Z"
   },
   {
    "duration": 26,
    "start_time": "2021-06-14T15:47:56.701Z"
   },
   {
    "duration": 15,
    "start_time": "2021-06-14T15:48:38.067Z"
   },
   {
    "duration": 15,
    "start_time": "2021-06-14T15:52:10.366Z"
   },
   {
    "duration": 582,
    "start_time": "2021-06-14T15:52:19.063Z"
   },
   {
    "duration": 72,
    "start_time": "2021-06-14T15:52:19.647Z"
   },
   {
    "duration": 15,
    "start_time": "2021-06-14T15:52:19.721Z"
   },
   {
    "duration": 14,
    "start_time": "2021-06-14T15:52:19.738Z"
   },
   {
    "duration": 10,
    "start_time": "2021-06-14T15:52:19.753Z"
   },
   {
    "duration": 57,
    "start_time": "2021-06-14T15:52:19.764Z"
   },
   {
    "duration": 10,
    "start_time": "2021-06-14T15:52:19.822Z"
   },
   {
    "duration": 5,
    "start_time": "2021-06-14T15:52:19.834Z"
   },
   {
    "duration": 7,
    "start_time": "2021-06-14T15:52:19.841Z"
   },
   {
    "duration": 20,
    "start_time": "2021-06-14T15:52:19.849Z"
   },
   {
    "duration": 22,
    "start_time": "2021-06-14T15:52:19.870Z"
   },
   {
    "duration": 14,
    "start_time": "2021-06-14T15:52:19.894Z"
   },
   {
    "duration": 17,
    "start_time": "2021-06-14T15:52:19.909Z"
   },
   {
    "duration": 20,
    "start_time": "2021-06-14T15:52:19.927Z"
   },
   {
    "duration": 50,
    "start_time": "2021-06-14T15:52:19.949Z"
   },
   {
    "duration": 17,
    "start_time": "2021-06-14T15:52:20.001Z"
   },
   {
    "duration": 12,
    "start_time": "2021-06-14T15:52:20.019Z"
   },
   {
    "duration": 16,
    "start_time": "2021-06-14T15:52:20.033Z"
   },
   {
    "duration": 8,
    "start_time": "2021-06-14T15:52:20.050Z"
   },
   {
    "duration": 2575,
    "start_time": "2021-06-14T15:52:20.059Z"
   },
   {
    "duration": 3,
    "start_time": "2021-06-14T15:52:22.636Z"
   },
   {
    "duration": 267,
    "start_time": "2021-06-14T15:52:22.641Z"
   },
   {
    "duration": 5,
    "start_time": "2021-06-14T15:52:22.912Z"
   },
   {
    "duration": 14,
    "start_time": "2021-06-14T15:52:22.920Z"
   },
   {
    "duration": 7,
    "start_time": "2021-06-14T15:52:22.936Z"
   },
   {
    "duration": 11,
    "start_time": "2021-06-14T15:52:22.945Z"
   },
   {
    "duration": 29,
    "start_time": "2021-06-14T15:52:22.958Z"
   },
   {
    "duration": 20,
    "start_time": "2021-06-14T15:52:22.989Z"
   },
   {
    "duration": 9,
    "start_time": "2021-06-14T15:52:23.011Z"
   },
   {
    "duration": 10,
    "start_time": "2021-06-14T15:52:23.021Z"
   },
   {
    "duration": 10,
    "start_time": "2021-06-14T15:52:23.032Z"
   },
   {
    "duration": 11,
    "start_time": "2021-06-14T15:52:23.044Z"
   },
   {
    "duration": 36,
    "start_time": "2021-06-14T15:52:23.057Z"
   },
   {
    "duration": 5,
    "start_time": "2021-06-14T15:52:23.095Z"
   },
   {
    "duration": 15,
    "start_time": "2021-06-14T15:52:23.101Z"
   },
   {
    "duration": 4,
    "start_time": "2021-06-14T15:52:23.117Z"
   },
   {
    "duration": 15,
    "start_time": "2021-06-14T15:52:23.122Z"
   },
   {
    "duration": 3,
    "start_time": "2021-06-14T15:52:23.139Z"
   },
   {
    "duration": 13,
    "start_time": "2021-06-14T15:52:23.143Z"
   },
   {
    "duration": 36,
    "start_time": "2021-06-14T15:52:23.158Z"
   },
   {
    "duration": 13,
    "start_time": "2021-06-14T15:52:23.197Z"
   },
   {
    "duration": 4,
    "start_time": "2021-06-14T15:52:23.212Z"
   },
   {
    "duration": 13,
    "start_time": "2021-06-14T15:52:23.218Z"
   },
   {
    "duration": 9,
    "start_time": "2021-06-14T15:52:23.232Z"
   },
   {
    "duration": 8,
    "start_time": "2021-06-14T15:52:23.242Z"
   },
   {
    "duration": 241,
    "start_time": "2021-06-14T15:52:23.252Z"
   },
   {
    "duration": -45,
    "start_time": "2021-06-14T15:52:23.540Z"
   },
   {
    "duration": -48,
    "start_time": "2021-06-14T15:52:23.544Z"
   },
   {
    "duration": 179,
    "start_time": "2021-06-14T15:53:21.846Z"
   },
   {
    "duration": 3,
    "start_time": "2021-06-14T15:53:49.118Z"
   },
   {
    "duration": 16,
    "start_time": "2021-06-14T15:53:50.294Z"
   },
   {
    "duration": 585,
    "start_time": "2021-06-14T15:53:56.694Z"
   },
   {
    "duration": 69,
    "start_time": "2021-06-14T15:53:57.281Z"
   },
   {
    "duration": 16,
    "start_time": "2021-06-14T15:53:57.353Z"
   },
   {
    "duration": 33,
    "start_time": "2021-06-14T15:53:57.372Z"
   },
   {
    "duration": 9,
    "start_time": "2021-06-14T15:53:57.407Z"
   },
   {
    "duration": 33,
    "start_time": "2021-06-14T15:53:57.418Z"
   },
   {
    "duration": 9,
    "start_time": "2021-06-14T15:53:57.452Z"
   },
   {
    "duration": 24,
    "start_time": "2021-06-14T15:53:57.464Z"
   },
   {
    "duration": 11,
    "start_time": "2021-06-14T15:53:57.491Z"
   },
   {
    "duration": 14,
    "start_time": "2021-06-14T15:53:57.503Z"
   },
   {
    "duration": 8,
    "start_time": "2021-06-14T15:53:57.519Z"
   },
   {
    "duration": 21,
    "start_time": "2021-06-14T15:53:57.528Z"
   },
   {
    "duration": 14,
    "start_time": "2021-06-14T15:53:57.550Z"
   },
   {
    "duration": 37,
    "start_time": "2021-06-14T15:53:57.566Z"
   },
   {
    "duration": 19,
    "start_time": "2021-06-14T15:53:57.605Z"
   },
   {
    "duration": 16,
    "start_time": "2021-06-14T15:53:57.626Z"
   },
   {
    "duration": 11,
    "start_time": "2021-06-14T15:53:57.644Z"
   },
   {
    "duration": 37,
    "start_time": "2021-06-14T15:53:57.657Z"
   },
   {
    "duration": 7,
    "start_time": "2021-06-14T15:53:57.696Z"
   },
   {
    "duration": 2619,
    "start_time": "2021-06-14T15:53:57.704Z"
   },
   {
    "duration": 3,
    "start_time": "2021-06-14T15:54:00.325Z"
   },
   {
    "duration": 255,
    "start_time": "2021-06-14T15:54:00.330Z"
   },
   {
    "duration": 12,
    "start_time": "2021-06-14T15:54:00.589Z"
   },
   {
    "duration": 26,
    "start_time": "2021-06-14T15:54:00.603Z"
   },
   {
    "duration": 17,
    "start_time": "2021-06-14T15:54:00.631Z"
   },
   {
    "duration": 14,
    "start_time": "2021-06-14T15:54:00.650Z"
   },
   {
    "duration": 6,
    "start_time": "2021-06-14T15:54:00.666Z"
   },
   {
    "duration": 35,
    "start_time": "2021-06-14T15:54:00.674Z"
   },
   {
    "duration": 22,
    "start_time": "2021-06-14T15:54:00.711Z"
   },
   {
    "duration": 15,
    "start_time": "2021-06-14T15:54:00.735Z"
   },
   {
    "duration": 11,
    "start_time": "2021-06-14T15:54:00.752Z"
   },
   {
    "duration": 14,
    "start_time": "2021-06-14T15:54:00.765Z"
   },
   {
    "duration": 11,
    "start_time": "2021-06-14T15:54:00.781Z"
   },
   {
    "duration": 12,
    "start_time": "2021-06-14T15:54:00.795Z"
   },
   {
    "duration": 15,
    "start_time": "2021-06-14T15:54:00.809Z"
   },
   {
    "duration": 4,
    "start_time": "2021-06-14T15:54:00.826Z"
   },
   {
    "duration": 35,
    "start_time": "2021-06-14T15:54:00.831Z"
   },
   {
    "duration": 24,
    "start_time": "2021-06-14T15:54:00.867Z"
   },
   {
    "duration": 15,
    "start_time": "2021-06-14T15:54:00.893Z"
   },
   {
    "duration": 33,
    "start_time": "2021-06-14T15:54:00.910Z"
   },
   {
    "duration": 24,
    "start_time": "2021-06-14T15:54:00.944Z"
   },
   {
    "duration": 22,
    "start_time": "2021-06-14T15:54:00.970Z"
   },
   {
    "duration": 35,
    "start_time": "2021-06-14T15:54:00.995Z"
   },
   {
    "duration": 29,
    "start_time": "2021-06-14T15:54:01.032Z"
   },
   {
    "duration": 13,
    "start_time": "2021-06-14T15:54:01.063Z"
   },
   {
    "duration": 14,
    "start_time": "2021-06-14T15:54:01.078Z"
   },
   {
    "duration": 25,
    "start_time": "2021-06-14T15:54:01.094Z"
   },
   {
    "duration": 19,
    "start_time": "2021-06-14T15:54:01.120Z"
   },
   {
    "duration": 3,
    "start_time": "2021-06-14T15:55:19.679Z"
   },
   {
    "duration": 12,
    "start_time": "2021-06-14T15:55:55.331Z"
   },
   {
    "duration": 3,
    "start_time": "2021-06-14T15:57:45.897Z"
   },
   {
    "duration": 19,
    "start_time": "2021-06-14T16:00:39.379Z"
   },
   {
    "duration": 562,
    "start_time": "2021-06-14T16:13:22.714Z"
   },
   {
    "duration": 69,
    "start_time": "2021-06-14T16:13:23.278Z"
   },
   {
    "duration": 15,
    "start_time": "2021-06-14T16:13:23.349Z"
   },
   {
    "duration": 26,
    "start_time": "2021-06-14T16:13:23.366Z"
   },
   {
    "duration": 12,
    "start_time": "2021-06-14T16:13:23.395Z"
   },
   {
    "duration": 33,
    "start_time": "2021-06-14T16:13:23.409Z"
   },
   {
    "duration": 9,
    "start_time": "2021-06-14T16:13:23.444Z"
   },
   {
    "duration": 3,
    "start_time": "2021-06-14T16:13:23.456Z"
   },
   {
    "duration": 25,
    "start_time": "2021-06-14T16:13:23.462Z"
   },
   {
    "duration": 14,
    "start_time": "2021-06-14T16:13:23.489Z"
   },
   {
    "duration": 12,
    "start_time": "2021-06-14T16:13:23.504Z"
   },
   {
    "duration": 16,
    "start_time": "2021-06-14T16:13:23.518Z"
   },
   {
    "duration": 17,
    "start_time": "2021-06-14T16:13:23.536Z"
   },
   {
    "duration": 43,
    "start_time": "2021-06-14T16:13:23.555Z"
   },
   {
    "duration": 20,
    "start_time": "2021-06-14T16:13:23.600Z"
   },
   {
    "duration": 17,
    "start_time": "2021-06-14T16:13:23.622Z"
   },
   {
    "duration": 12,
    "start_time": "2021-06-14T16:13:23.640Z"
   },
   {
    "duration": 9,
    "start_time": "2021-06-14T16:13:23.654Z"
   },
   {
    "duration": 35,
    "start_time": "2021-06-14T16:13:23.664Z"
   },
   {
    "duration": 2580,
    "start_time": "2021-06-14T16:13:23.700Z"
   },
   {
    "duration": 7,
    "start_time": "2021-06-14T16:13:26.281Z"
   },
   {
    "duration": 241,
    "start_time": "2021-06-14T16:13:26.290Z"
   },
   {
    "duration": 6,
    "start_time": "2021-06-14T16:13:26.534Z"
   },
   {
    "duration": 15,
    "start_time": "2021-06-14T16:13:26.543Z"
   },
   {
    "duration": 7,
    "start_time": "2021-06-14T16:13:26.559Z"
   },
   {
    "duration": 14,
    "start_time": "2021-06-14T16:13:26.585Z"
   },
   {
    "duration": 7,
    "start_time": "2021-06-14T16:13:26.601Z"
   },
   {
    "duration": 12,
    "start_time": "2021-06-14T16:13:26.610Z"
   },
   {
    "duration": 9,
    "start_time": "2021-06-14T16:13:26.624Z"
   },
   {
    "duration": 8,
    "start_time": "2021-06-14T16:13:26.636Z"
   },
   {
    "duration": 51,
    "start_time": "2021-06-14T16:13:26.646Z"
   },
   {
    "duration": 9,
    "start_time": "2021-06-14T16:13:26.699Z"
   },
   {
    "duration": 5,
    "start_time": "2021-06-14T16:13:26.709Z"
   },
   {
    "duration": 5,
    "start_time": "2021-06-14T16:13:26.715Z"
   },
   {
    "duration": 11,
    "start_time": "2021-06-14T16:13:26.721Z"
   },
   {
    "duration": 3,
    "start_time": "2021-06-14T16:13:26.734Z"
   },
   {
    "duration": 60,
    "start_time": "2021-06-14T16:13:26.739Z"
   },
   {
    "duration": 4,
    "start_time": "2021-06-14T16:13:26.801Z"
   },
   {
    "duration": 13,
    "start_time": "2021-06-14T16:13:26.807Z"
   },
   {
    "duration": 10,
    "start_time": "2021-06-14T16:13:26.822Z"
   },
   {
    "duration": 9,
    "start_time": "2021-06-14T16:13:26.834Z"
   },
   {
    "duration": 6,
    "start_time": "2021-06-14T16:13:26.845Z"
   },
   {
    "duration": 35,
    "start_time": "2021-06-14T16:13:26.853Z"
   },
   {
    "duration": 12,
    "start_time": "2021-06-14T16:13:26.893Z"
   },
   {
    "duration": 10,
    "start_time": "2021-06-14T16:13:26.907Z"
   },
   {
    "duration": 4,
    "start_time": "2021-06-14T16:13:26.919Z"
   },
   {
    "duration": 17,
    "start_time": "2021-06-14T16:13:26.925Z"
   },
   {
    "duration": 15,
    "start_time": "2021-06-14T16:13:26.944Z"
   },
   {
    "duration": 18,
    "start_time": "2021-06-14T16:13:26.989Z"
   },
   {
    "duration": 111,
    "start_time": "2021-06-15T12:04:32.507Z"
   },
   {
    "duration": 1092,
    "start_time": "2021-06-15T12:08:47.309Z"
   },
   {
    "duration": 107,
    "start_time": "2021-06-15T12:08:48.403Z"
   },
   {
    "duration": 44,
    "start_time": "2021-06-15T12:08:48.513Z"
   },
   {
    "duration": 20,
    "start_time": "2021-06-15T12:08:48.561Z"
   },
   {
    "duration": 12,
    "start_time": "2021-06-15T12:08:48.583Z"
   },
   {
    "duration": 98,
    "start_time": "2021-06-15T12:08:48.598Z"
   },
   {
    "duration": 43,
    "start_time": "2021-06-15T12:08:48.700Z"
   },
   {
    "duration": 4,
    "start_time": "2021-06-15T12:08:48.748Z"
   },
   {
    "duration": 10,
    "start_time": "2021-06-15T12:08:48.755Z"
   },
   {
    "duration": 14,
    "start_time": "2021-06-15T12:08:48.767Z"
   },
   {
    "duration": 47,
    "start_time": "2021-06-15T12:08:48.783Z"
   },
   {
    "duration": 24,
    "start_time": "2021-06-15T12:08:48.833Z"
   },
   {
    "duration": 30,
    "start_time": "2021-06-15T12:08:48.859Z"
   },
   {
    "duration": 54,
    "start_time": "2021-06-15T12:08:48.892Z"
   },
   {
    "duration": 28,
    "start_time": "2021-06-15T12:08:48.948Z"
   },
   {
    "duration": 50,
    "start_time": "2021-06-15T12:08:48.978Z"
   },
   {
    "duration": 19,
    "start_time": "2021-06-15T12:08:49.030Z"
   },
   {
    "duration": 17,
    "start_time": "2021-06-15T12:08:49.051Z"
   },
   {
    "duration": 9,
    "start_time": "2021-06-15T12:08:49.071Z"
   },
   {
    "duration": 3288,
    "start_time": "2021-06-15T12:08:49.082Z"
   },
   {
    "duration": 5,
    "start_time": "2021-06-15T12:08:52.372Z"
   },
   {
    "duration": 418,
    "start_time": "2021-06-15T12:08:52.380Z"
   },
   {
    "duration": 9,
    "start_time": "2021-06-15T12:08:52.803Z"
   },
   {
    "duration": 20,
    "start_time": "2021-06-15T12:08:52.825Z"
   },
   {
    "duration": 8,
    "start_time": "2021-06-15T12:08:52.848Z"
   },
   {
    "duration": 18,
    "start_time": "2021-06-15T12:08:52.858Z"
   },
   {
    "duration": 12,
    "start_time": "2021-06-15T12:08:52.878Z"
   },
   {
    "duration": 10,
    "start_time": "2021-06-15T12:08:52.925Z"
   },
   {
    "duration": 14,
    "start_time": "2021-06-15T12:08:52.938Z"
   },
   {
    "duration": 9,
    "start_time": "2021-06-15T12:08:52.955Z"
   },
   {
    "duration": 12,
    "start_time": "2021-06-15T12:08:52.966Z"
   },
   {
    "duration": 52,
    "start_time": "2021-06-15T12:08:52.980Z"
   },
   {
    "duration": 9,
    "start_time": "2021-06-15T12:08:53.036Z"
   },
   {
    "duration": 4,
    "start_time": "2021-06-15T12:08:53.048Z"
   },
   {
    "duration": 13,
    "start_time": "2021-06-15T12:08:53.056Z"
   },
   {
    "duration": 6,
    "start_time": "2021-06-15T12:08:53.072Z"
   },
   {
    "duration": 66,
    "start_time": "2021-06-15T12:08:53.081Z"
   },
   {
    "duration": 6,
    "start_time": "2021-06-15T12:08:53.150Z"
   },
   {
    "duration": 17,
    "start_time": "2021-06-15T12:08:53.159Z"
   },
   {
    "duration": 49,
    "start_time": "2021-06-15T12:08:53.178Z"
   },
   {
    "duration": 13,
    "start_time": "2021-06-15T12:08:53.229Z"
   },
   {
    "duration": 8,
    "start_time": "2021-06-15T12:08:53.244Z"
   },
   {
    "duration": 17,
    "start_time": "2021-06-15T12:08:53.254Z"
   },
   {
    "duration": 14,
    "start_time": "2021-06-15T12:08:53.274Z"
   },
   {
    "duration": 46,
    "start_time": "2021-06-15T12:08:53.290Z"
   },
   {
    "duration": 4,
    "start_time": "2021-06-15T12:08:53.339Z"
   },
   {
    "duration": 36,
    "start_time": "2021-06-15T12:08:53.345Z"
   },
   {
    "duration": 46,
    "start_time": "2021-06-15T12:08:53.384Z"
   },
   {
    "duration": 22,
    "start_time": "2021-06-15T12:08:53.433Z"
   },
   {
    "duration": 14,
    "start_time": "2021-06-15T12:10:01.108Z"
   },
   {
    "duration": 898,
    "start_time": "2021-06-15T12:10:13.489Z"
   },
   {
    "duration": 88,
    "start_time": "2021-06-15T12:10:14.389Z"
   },
   {
    "duration": 39,
    "start_time": "2021-06-15T12:10:14.486Z"
   },
   {
    "duration": 15,
    "start_time": "2021-06-15T12:10:14.527Z"
   },
   {
    "duration": 15,
    "start_time": "2021-06-15T12:10:14.545Z"
   },
   {
    "duration": 83,
    "start_time": "2021-06-15T12:10:14.562Z"
   },
   {
    "duration": 14,
    "start_time": "2021-06-15T12:10:14.649Z"
   },
   {
    "duration": 10,
    "start_time": "2021-06-15T12:10:14.666Z"
   },
   {
    "duration": 11,
    "start_time": "2021-06-15T12:10:14.679Z"
   },
   {
    "duration": 42,
    "start_time": "2021-06-15T12:10:14.692Z"
   },
   {
    "duration": 17,
    "start_time": "2021-06-15T12:10:14.736Z"
   },
   {
    "duration": 19,
    "start_time": "2021-06-15T12:10:14.755Z"
   },
   {
    "duration": 17,
    "start_time": "2021-06-15T12:10:14.777Z"
   },
   {
    "duration": 54,
    "start_time": "2021-06-15T12:10:14.796Z"
   },
   {
    "duration": 25,
    "start_time": "2021-06-15T12:10:14.852Z"
   },
   {
    "duration": 47,
    "start_time": "2021-06-15T12:10:14.880Z"
   },
   {
    "duration": 17,
    "start_time": "2021-06-15T12:10:14.929Z"
   },
   {
    "duration": 11,
    "start_time": "2021-06-15T12:10:14.948Z"
   },
   {
    "duration": 7,
    "start_time": "2021-06-15T12:10:14.962Z"
   },
   {
    "duration": 3620,
    "start_time": "2021-06-15T12:10:14.971Z"
   },
   {
    "duration": 5,
    "start_time": "2021-06-15T12:10:18.594Z"
   },
   {
    "duration": 418,
    "start_time": "2021-06-15T12:10:18.607Z"
   },
   {
    "duration": 8,
    "start_time": "2021-06-15T12:10:19.029Z"
   },
   {
    "duration": 21,
    "start_time": "2021-06-15T12:10:19.040Z"
   },
   {
    "duration": 10,
    "start_time": "2021-06-15T12:10:19.064Z"
   },
   {
    "duration": 52,
    "start_time": "2021-06-15T12:10:19.077Z"
   },
   {
    "duration": 10,
    "start_time": "2021-06-15T12:10:19.133Z"
   },
   {
    "duration": 15,
    "start_time": "2021-06-15T12:10:19.146Z"
   },
   {
    "duration": 63,
    "start_time": "2021-06-15T12:10:19.164Z"
   },
   {
    "duration": 15,
    "start_time": "2021-06-15T12:10:19.230Z"
   },
   {
    "duration": 19,
    "start_time": "2021-06-15T12:10:19.248Z"
   },
   {
    "duration": 17,
    "start_time": "2021-06-15T12:10:19.269Z"
   },
   {
    "duration": 44,
    "start_time": "2021-06-15T12:10:19.288Z"
   },
   {
    "duration": 7,
    "start_time": "2021-06-15T12:10:19.335Z"
   },
   {
    "duration": 16,
    "start_time": "2021-06-15T12:10:19.345Z"
   },
   {
    "duration": 6,
    "start_time": "2021-06-15T12:10:19.364Z"
   },
   {
    "duration": 52,
    "start_time": "2021-06-15T12:10:19.373Z"
   },
   {
    "duration": 4,
    "start_time": "2021-06-15T12:10:19.427Z"
   },
   {
    "duration": 18,
    "start_time": "2021-06-15T12:10:19.434Z"
   },
   {
    "duration": 13,
    "start_time": "2021-06-15T12:10:19.455Z"
   },
   {
    "duration": 14,
    "start_time": "2021-06-15T12:10:19.471Z"
   },
   {
    "duration": 5,
    "start_time": "2021-06-15T12:10:19.527Z"
   },
   {
    "duration": 23,
    "start_time": "2021-06-15T12:10:19.535Z"
   },
   {
    "duration": 20,
    "start_time": "2021-06-15T12:10:19.562Z"
   },
   {
    "duration": 55,
    "start_time": "2021-06-15T12:10:19.586Z"
   },
   {
    "duration": 7,
    "start_time": "2021-06-15T12:10:19.644Z"
   },
   {
    "duration": 42,
    "start_time": "2021-06-15T12:10:19.654Z"
   },
   {
    "duration": 59,
    "start_time": "2021-06-15T12:10:19.699Z"
   },
   {
    "duration": 33,
    "start_time": "2021-06-15T12:10:19.761Z"
   },
   {
    "duration": 23,
    "start_time": "2021-06-15T12:10:22.994Z"
   },
   {
    "duration": 832,
    "start_time": "2021-06-15T12:10:32.829Z"
   },
   {
    "duration": 88,
    "start_time": "2021-06-15T12:10:33.663Z"
   },
   {
    "duration": 24,
    "start_time": "2021-06-15T12:10:33.754Z"
   },
   {
    "duration": 25,
    "start_time": "2021-06-15T12:10:33.781Z"
   },
   {
    "duration": 26,
    "start_time": "2021-06-15T12:10:33.809Z"
   },
   {
    "duration": 51,
    "start_time": "2021-06-15T12:10:33.837Z"
   },
   {
    "duration": 36,
    "start_time": "2021-06-15T12:10:33.891Z"
   },
   {
    "duration": 5,
    "start_time": "2021-06-15T12:10:33.930Z"
   },
   {
    "duration": 17,
    "start_time": "2021-06-15T12:10:33.938Z"
   },
   {
    "duration": 14,
    "start_time": "2021-06-15T12:10:33.958Z"
   },
   {
    "duration": 16,
    "start_time": "2021-06-15T12:10:33.974Z"
   },
   {
    "duration": 42,
    "start_time": "2021-06-15T12:10:33.992Z"
   },
   {
    "duration": 24,
    "start_time": "2021-06-15T12:10:34.036Z"
   },
   {
    "duration": 53,
    "start_time": "2021-06-15T12:10:34.063Z"
   },
   {
    "duration": 45,
    "start_time": "2021-06-15T12:10:34.119Z"
   },
   {
    "duration": 35,
    "start_time": "2021-06-15T12:10:34.167Z"
   },
   {
    "duration": 26,
    "start_time": "2021-06-15T12:10:34.225Z"
   },
   {
    "duration": 17,
    "start_time": "2021-06-15T12:10:34.254Z"
   },
   {
    "duration": 14,
    "start_time": "2021-06-15T12:10:34.274Z"
   },
   {
    "duration": 3321,
    "start_time": "2021-06-15T12:10:34.290Z"
   },
   {
    "duration": 12,
    "start_time": "2021-06-15T12:10:37.613Z"
   },
   {
    "duration": 406,
    "start_time": "2021-06-15T12:10:37.628Z"
   },
   {
    "duration": 8,
    "start_time": "2021-06-15T12:10:38.041Z"
   },
   {
    "duration": 23,
    "start_time": "2021-06-15T12:10:38.053Z"
   },
   {
    "duration": 11,
    "start_time": "2021-06-15T12:10:38.078Z"
   },
   {
    "duration": 16,
    "start_time": "2021-06-15T12:10:38.124Z"
   },
   {
    "duration": 7,
    "start_time": "2021-06-15T12:10:38.142Z"
   },
   {
    "duration": 20,
    "start_time": "2021-06-15T12:10:38.153Z"
   },
   {
    "duration": 51,
    "start_time": "2021-06-15T12:10:38.176Z"
   },
   {
    "duration": 11,
    "start_time": "2021-06-15T12:10:38.229Z"
   },
   {
    "duration": 15,
    "start_time": "2021-06-15T12:10:38.243Z"
   },
   {
    "duration": 13,
    "start_time": "2021-06-15T12:10:38.261Z"
   },
   {
    "duration": 48,
    "start_time": "2021-06-15T12:10:38.277Z"
   },
   {
    "duration": 5,
    "start_time": "2021-06-15T12:10:38.328Z"
   },
   {
    "duration": 25,
    "start_time": "2021-06-15T12:10:38.336Z"
   },
   {
    "duration": 7,
    "start_time": "2021-06-15T12:10:38.364Z"
   },
   {
    "duration": 33,
    "start_time": "2021-06-15T12:10:38.373Z"
   },
   {
    "duration": 18,
    "start_time": "2021-06-15T12:10:38.408Z"
   },
   {
    "duration": 20,
    "start_time": "2021-06-15T12:10:38.428Z"
   },
   {
    "duration": 14,
    "start_time": "2021-06-15T12:10:38.451Z"
   },
   {
    "duration": 37,
    "start_time": "2021-06-15T12:10:38.467Z"
   },
   {
    "duration": 20,
    "start_time": "2021-06-15T12:10:38.506Z"
   },
   {
    "duration": 24,
    "start_time": "2021-06-15T12:10:38.528Z"
   },
   {
    "duration": 13,
    "start_time": "2021-06-15T12:10:38.555Z"
   },
   {
    "duration": 13,
    "start_time": "2021-06-15T12:10:38.571Z"
   },
   {
    "duration": 5,
    "start_time": "2021-06-15T12:10:38.587Z"
   },
   {
    "duration": 58,
    "start_time": "2021-06-15T12:10:38.595Z"
   },
   {
    "duration": 34,
    "start_time": "2021-06-15T12:10:38.656Z"
   },
   {
    "duration": 35,
    "start_time": "2021-06-15T12:10:38.692Z"
   },
   {
    "duration": 110,
    "start_time": "2021-06-15T12:22:08.114Z"
   },
   {
    "duration": 110,
    "start_time": "2021-06-15T12:23:01.451Z"
   },
   {
    "duration": 116,
    "start_time": "2021-06-15T12:26:22.012Z"
   },
   {
    "duration": 105,
    "start_time": "2021-06-15T12:34:51.696Z"
   },
   {
    "duration": 119,
    "start_time": "2021-06-15T12:55:09.831Z"
   },
   {
    "duration": 123,
    "start_time": "2021-06-15T13:01:27.065Z"
   },
   {
    "duration": 714,
    "start_time": "2021-06-17T11:20:38.200Z"
   },
   {
    "duration": 93,
    "start_time": "2021-06-17T11:20:38.917Z"
   },
   {
    "duration": 23,
    "start_time": "2021-06-17T11:20:39.013Z"
   },
   {
    "duration": 14,
    "start_time": "2021-06-17T11:20:39.055Z"
   },
   {
    "duration": 13,
    "start_time": "2021-06-17T11:20:39.072Z"
   },
   {
    "duration": 71,
    "start_time": "2021-06-17T11:20:39.087Z"
   },
   {
    "duration": 11,
    "start_time": "2021-06-17T11:20:39.161Z"
   },
   {
    "duration": 10,
    "start_time": "2021-06-17T11:20:39.176Z"
   },
   {
    "duration": 10,
    "start_time": "2021-06-17T11:20:39.189Z"
   },
   {
    "duration": 19,
    "start_time": "2021-06-17T11:20:39.201Z"
   },
   {
    "duration": 33,
    "start_time": "2021-06-17T11:20:39.222Z"
   },
   {
    "duration": 18,
    "start_time": "2021-06-17T11:20:39.258Z"
   },
   {
    "duration": 20,
    "start_time": "2021-06-17T11:20:39.278Z"
   },
   {
    "duration": 31,
    "start_time": "2021-06-17T11:20:39.300Z"
   },
   {
    "duration": 27,
    "start_time": "2021-06-17T11:20:39.355Z"
   },
   {
    "duration": 25,
    "start_time": "2021-06-17T11:20:39.385Z"
   },
   {
    "duration": 44,
    "start_time": "2021-06-17T11:20:39.412Z"
   },
   {
    "duration": 7,
    "start_time": "2021-06-17T11:20:39.458Z"
   },
   {
    "duration": 18,
    "start_time": "2021-06-17T11:20:39.468Z"
   },
   {
    "duration": 3324,
    "start_time": "2021-06-17T11:20:39.488Z"
   },
   {
    "duration": 4,
    "start_time": "2021-06-17T11:20:42.815Z"
   },
   {
    "duration": 410,
    "start_time": "2021-06-17T11:20:42.821Z"
   },
   {
    "duration": 9,
    "start_time": "2021-06-17T11:20:43.236Z"
   },
   {
    "duration": 20,
    "start_time": "2021-06-17T11:20:43.255Z"
   },
   {
    "duration": 9,
    "start_time": "2021-06-17T11:20:43.277Z"
   },
   {
    "duration": 18,
    "start_time": "2021-06-17T11:20:43.289Z"
   },
   {
    "duration": 46,
    "start_time": "2021-06-17T11:20:43.310Z"
   },
   {
    "duration": 17,
    "start_time": "2021-06-17T11:20:43.359Z"
   },
   {
    "duration": 13,
    "start_time": "2021-06-17T11:20:43.379Z"
   },
   {
    "duration": 10,
    "start_time": "2021-06-17T11:20:43.394Z"
   },
   {
    "duration": 54,
    "start_time": "2021-06-17T11:20:43.407Z"
   },
   {
    "duration": 14,
    "start_time": "2021-06-17T11:20:43.464Z"
   },
   {
    "duration": 15,
    "start_time": "2021-06-17T11:20:43.481Z"
   },
   {
    "duration": 4,
    "start_time": "2021-06-17T11:20:43.499Z"
   },
   {
    "duration": 15,
    "start_time": "2021-06-17T11:20:43.506Z"
   },
   {
    "duration": 35,
    "start_time": "2021-06-17T11:20:43.525Z"
   },
   {
    "duration": 21,
    "start_time": "2021-06-17T11:20:43.562Z"
   },
   {
    "duration": 5,
    "start_time": "2021-06-17T11:20:43.586Z"
   },
   {
    "duration": 16,
    "start_time": "2021-06-17T11:20:43.594Z"
   },
   {
    "duration": 53,
    "start_time": "2021-06-17T11:20:43.613Z"
   },
   {
    "duration": 13,
    "start_time": "2021-06-17T11:20:43.669Z"
   },
   {
    "duration": 10,
    "start_time": "2021-06-17T11:20:43.685Z"
   },
   {
    "duration": 18,
    "start_time": "2021-06-17T11:20:43.698Z"
   },
   {
    "duration": 50,
    "start_time": "2021-06-17T11:20:43.719Z"
   },
   {
    "duration": 12,
    "start_time": "2021-06-17T11:20:43.772Z"
   },
   {
    "duration": 6,
    "start_time": "2021-06-17T11:20:43.786Z"
   },
   {
    "duration": 26,
    "start_time": "2021-06-17T11:20:43.795Z"
   },
   {
    "duration": 22,
    "start_time": "2021-06-17T11:20:43.855Z"
   },
   {
    "duration": 23,
    "start_time": "2021-06-17T11:20:43.879Z"
   },
   {
    "duration": 15,
    "start_time": "2021-06-17T11:48:08.778Z"
   },
   {
    "duration": 4,
    "start_time": "2021-06-17T11:48:15.591Z"
   },
   {
    "duration": 14,
    "start_time": "2021-06-17T11:48:17.057Z"
   },
   {
    "duration": 14,
    "start_time": "2021-06-17T11:48:19.353Z"
   },
   {
    "duration": 13,
    "start_time": "2021-06-17T11:48:22.376Z"
   },
   {
    "duration": 749,
    "start_time": "2021-06-17T11:49:23.347Z"
   },
   {
    "duration": 90,
    "start_time": "2021-06-17T11:49:24.099Z"
   },
   {
    "duration": 24,
    "start_time": "2021-06-17T11:49:24.191Z"
   },
   {
    "duration": 17,
    "start_time": "2021-06-17T11:49:24.218Z"
   },
   {
    "duration": 12,
    "start_time": "2021-06-17T11:49:24.255Z"
   },
   {
    "duration": 45,
    "start_time": "2021-06-17T11:49:24.269Z"
   },
   {
    "duration": 39,
    "start_time": "2021-06-17T11:49:24.317Z"
   },
   {
    "duration": 5,
    "start_time": "2021-06-17T11:49:24.359Z"
   },
   {
    "duration": 12,
    "start_time": "2021-06-17T11:49:24.367Z"
   },
   {
    "duration": 23,
    "start_time": "2021-06-17T11:49:24.381Z"
   },
   {
    "duration": 11,
    "start_time": "2021-06-17T11:49:24.407Z"
   },
   {
    "duration": 42,
    "start_time": "2021-06-17T11:49:24.420Z"
   },
   {
    "duration": 22,
    "start_time": "2021-06-17T11:49:24.465Z"
   },
   {
    "duration": 29,
    "start_time": "2021-06-17T11:49:24.490Z"
   },
   {
    "duration": 52,
    "start_time": "2021-06-17T11:49:24.521Z"
   },
   {
    "duration": 24,
    "start_time": "2021-06-17T11:49:24.576Z"
   },
   {
    "duration": 17,
    "start_time": "2021-06-17T11:49:24.603Z"
   },
   {
    "duration": 32,
    "start_time": "2021-06-17T11:49:24.623Z"
   },
   {
    "duration": 8,
    "start_time": "2021-06-17T11:49:24.658Z"
   },
   {
    "duration": 3248,
    "start_time": "2021-06-17T11:49:24.668Z"
   },
   {
    "duration": 5,
    "start_time": "2021-06-17T11:49:27.918Z"
   },
   {
    "duration": 403,
    "start_time": "2021-06-17T11:49:27.925Z"
   },
   {
    "duration": 9,
    "start_time": "2021-06-17T11:49:28.333Z"
   },
   {
    "duration": 20,
    "start_time": "2021-06-17T11:49:28.355Z"
   },
   {
    "duration": 10,
    "start_time": "2021-06-17T11:49:28.377Z"
   },
   {
    "duration": 15,
    "start_time": "2021-06-17T11:49:28.389Z"
   },
   {
    "duration": 7,
    "start_time": "2021-06-17T11:49:28.407Z"
   },
   {
    "duration": 49,
    "start_time": "2021-06-17T11:49:28.416Z"
   },
   {
    "duration": 18,
    "start_time": "2021-06-17T11:49:28.467Z"
   },
   {
    "duration": 14,
    "start_time": "2021-06-17T11:49:28.487Z"
   },
   {
    "duration": 21,
    "start_time": "2021-06-17T11:49:28.503Z"
   },
   {
    "duration": 33,
    "start_time": "2021-06-17T11:49:28.527Z"
   },
   {
    "duration": 10,
    "start_time": "2021-06-17T11:49:28.563Z"
   },
   {
    "duration": 4,
    "start_time": "2021-06-17T11:49:28.575Z"
   },
   {
    "duration": 13,
    "start_time": "2021-06-17T11:49:28.581Z"
   },
   {
    "duration": 14,
    "start_time": "2021-06-17T11:49:28.597Z"
   },
   {
    "duration": 45,
    "start_time": "2021-06-17T11:49:28.614Z"
   },
   {
    "duration": 4,
    "start_time": "2021-06-17T11:49:28.661Z"
   },
   {
    "duration": 21,
    "start_time": "2021-06-17T11:49:28.667Z"
   },
   {
    "duration": 14,
    "start_time": "2021-06-17T11:49:28.691Z"
   },
   {
    "duration": 12,
    "start_time": "2021-06-17T11:49:28.708Z"
   },
   {
    "duration": 35,
    "start_time": "2021-06-17T11:49:28.722Z"
   },
   {
    "duration": 20,
    "start_time": "2021-06-17T11:49:28.759Z"
   },
   {
    "duration": 21,
    "start_time": "2021-06-17T11:49:28.782Z"
   },
   {
    "duration": 13,
    "start_time": "2021-06-17T11:49:28.806Z"
   },
   {
    "duration": 33,
    "start_time": "2021-06-17T11:49:28.821Z"
   },
   {
    "duration": 20,
    "start_time": "2021-06-17T11:49:28.857Z"
   },
   {
    "duration": 27,
    "start_time": "2021-06-17T11:49:28.879Z"
   },
   {
    "duration": 47,
    "start_time": "2021-06-17T11:49:28.908Z"
   },
   {
    "duration": 745,
    "start_time": "2021-06-17T12:14:52.271Z"
   },
   {
    "duration": 90,
    "start_time": "2021-06-17T12:14:53.019Z"
   },
   {
    "duration": 24,
    "start_time": "2021-06-17T12:14:53.112Z"
   },
   {
    "duration": 32,
    "start_time": "2021-06-17T12:14:53.139Z"
   },
   {
    "duration": 14,
    "start_time": "2021-06-17T12:14:53.174Z"
   },
   {
    "duration": 72,
    "start_time": "2021-06-17T12:14:53.191Z"
   },
   {
    "duration": 13,
    "start_time": "2021-06-17T12:14:53.265Z"
   },
   {
    "duration": 7,
    "start_time": "2021-06-17T12:14:53.282Z"
   },
   {
    "duration": 14,
    "start_time": "2021-06-17T12:14:53.292Z"
   },
   {
    "duration": 14,
    "start_time": "2021-06-17T12:14:53.309Z"
   },
   {
    "duration": 11,
    "start_time": "2021-06-17T12:14:53.354Z"
   },
   {
    "duration": 19,
    "start_time": "2021-06-17T12:14:53.368Z"
   },
   {
    "duration": 20,
    "start_time": "2021-06-17T12:14:53.389Z"
   },
   {
    "duration": 66,
    "start_time": "2021-06-17T12:14:53.412Z"
   },
   {
    "duration": 28,
    "start_time": "2021-06-17T12:14:53.481Z"
   },
   {
    "duration": 55,
    "start_time": "2021-06-17T12:14:53.512Z"
   },
   {
    "duration": 18,
    "start_time": "2021-06-17T12:14:53.569Z"
   },
   {
    "duration": 9,
    "start_time": "2021-06-17T12:14:53.589Z"
   },
   {
    "duration": 7,
    "start_time": "2021-06-17T12:14:53.601Z"
   },
   {
    "duration": 3324,
    "start_time": "2021-06-17T12:14:53.610Z"
   },
   {
    "duration": 5,
    "start_time": "2021-06-17T12:14:56.936Z"
   },
   {
    "duration": 411,
    "start_time": "2021-06-17T12:14:56.943Z"
   },
   {
    "duration": 9,
    "start_time": "2021-06-17T12:14:57.359Z"
   },
   {
    "duration": 20,
    "start_time": "2021-06-17T12:14:57.371Z"
   },
   {
    "duration": 12,
    "start_time": "2021-06-17T12:14:57.394Z"
   },
   {
    "duration": 47,
    "start_time": "2021-06-17T12:14:57.409Z"
   },
   {
    "duration": 7,
    "start_time": "2021-06-17T12:14:57.459Z"
   },
   {
    "duration": 15,
    "start_time": "2021-06-17T12:14:57.468Z"
   },
   {
    "duration": 11,
    "start_time": "2021-06-17T12:14:57.486Z"
   },
   {
    "duration": 17,
    "start_time": "2021-06-17T12:14:57.499Z"
   },
   {
    "duration": 42,
    "start_time": "2021-06-17T12:14:57.518Z"
   },
   {
    "duration": 13,
    "start_time": "2021-06-17T12:14:57.562Z"
   },
   {
    "duration": 11,
    "start_time": "2021-06-17T12:14:57.577Z"
   },
   {
    "duration": 4,
    "start_time": "2021-06-17T12:14:57.591Z"
   },
   {
    "duration": 14,
    "start_time": "2021-06-17T12:14:57.598Z"
   },
   {
    "duration": 42,
    "start_time": "2021-06-17T12:14:57.615Z"
   },
   {
    "duration": 25,
    "start_time": "2021-06-17T12:14:57.660Z"
   },
   {
    "duration": 7,
    "start_time": "2021-06-17T12:14:57.688Z"
   },
   {
    "duration": 18,
    "start_time": "2021-06-17T12:14:57.698Z"
   },
   {
    "duration": 45,
    "start_time": "2021-06-17T12:14:57.719Z"
   },
   {
    "duration": 13,
    "start_time": "2021-06-17T12:14:57.766Z"
   },
   {
    "duration": 7,
    "start_time": "2021-06-17T12:14:57.781Z"
   },
   {
    "duration": 18,
    "start_time": "2021-06-17T12:14:57.791Z"
   },
   {
    "duration": 44,
    "start_time": "2021-06-17T12:14:57.811Z"
   },
   {
    "duration": 12,
    "start_time": "2021-06-17T12:14:57.857Z"
   },
   {
    "duration": 8,
    "start_time": "2021-06-17T12:14:57.872Z"
   },
   {
    "duration": 28,
    "start_time": "2021-06-17T12:14:57.882Z"
   },
   {
    "duration": 51,
    "start_time": "2021-06-17T12:14:57.912Z"
   },
   {
    "duration": 21,
    "start_time": "2021-06-17T12:14:57.966Z"
   },
   {
    "duration": 351,
    "start_time": "2021-06-17T12:26:51.301Z"
   },
   {
    "duration": 10,
    "start_time": "2021-06-17T12:27:10.162Z"
   },
   {
    "duration": 9,
    "start_time": "2021-06-17T12:28:38.503Z"
   },
   {
    "duration": 21,
    "start_time": "2021-06-17T12:49:30.549Z"
   },
   {
    "duration": 11,
    "start_time": "2021-06-17T12:50:07.016Z"
   },
   {
    "duration": 23,
    "start_time": "2021-06-17T12:50:18.283Z"
   },
   {
    "duration": 23,
    "start_time": "2021-06-17T12:50:25.582Z"
   },
   {
    "duration": 308,
    "start_time": "2021-06-17T12:51:00.709Z"
   },
   {
    "duration": 21,
    "start_time": "2021-06-17T12:51:16.685Z"
   },
   {
    "duration": 752,
    "start_time": "2021-06-17T12:59:44.354Z"
   },
   {
    "duration": 88,
    "start_time": "2021-06-17T12:59:45.108Z"
   },
   {
    "duration": 22,
    "start_time": "2021-06-17T12:59:45.199Z"
   },
   {
    "duration": 30,
    "start_time": "2021-06-17T12:59:45.224Z"
   },
   {
    "duration": 13,
    "start_time": "2021-06-17T12:59:45.257Z"
   },
   {
    "duration": 52,
    "start_time": "2021-06-17T12:59:45.273Z"
   },
   {
    "duration": 33,
    "start_time": "2021-06-17T12:59:45.328Z"
   },
   {
    "duration": 6,
    "start_time": "2021-06-17T12:59:45.363Z"
   },
   {
    "duration": 5,
    "start_time": "2021-06-17T12:59:45.373Z"
   },
   {
    "duration": 9,
    "start_time": "2021-06-17T12:59:45.381Z"
   },
   {
    "duration": 15,
    "start_time": "2021-06-17T12:59:45.392Z"
   },
   {
    "duration": 49,
    "start_time": "2021-06-17T12:59:45.409Z"
   },
   {
    "duration": 18,
    "start_time": "2021-06-17T12:59:45.461Z"
   },
   {
    "duration": 25,
    "start_time": "2021-06-17T12:59:45.481Z"
   },
   {
    "duration": 26,
    "start_time": "2021-06-17T12:59:45.508Z"
   },
   {
    "duration": 25,
    "start_time": "2021-06-17T12:59:45.555Z"
   },
   {
    "duration": 24,
    "start_time": "2021-06-17T12:59:45.582Z"
   },
   {
    "duration": 17,
    "start_time": "2021-06-17T12:59:45.608Z"
   },
   {
    "duration": 34,
    "start_time": "2021-06-17T12:59:45.627Z"
   },
   {
    "duration": 9,
    "start_time": "2021-06-17T12:59:45.663Z"
   },
   {
    "duration": 3198,
    "start_time": "2021-06-17T12:59:45.674Z"
   },
   {
    "duration": 5,
    "start_time": "2021-06-17T12:59:48.874Z"
   },
   {
    "duration": 416,
    "start_time": "2021-06-17T12:59:48.882Z"
   },
   {
    "duration": 10,
    "start_time": "2021-06-17T12:59:49.300Z"
   },
   {
    "duration": 42,
    "start_time": "2021-06-17T12:59:49.312Z"
   },
   {
    "duration": 7,
    "start_time": "2021-06-17T12:59:49.357Z"
   },
   {
    "duration": 15,
    "start_time": "2021-06-17T12:59:49.370Z"
   },
   {
    "duration": 8,
    "start_time": "2021-06-17T12:59:49.388Z"
   },
   {
    "duration": 14,
    "start_time": "2021-06-17T12:59:49.399Z"
   },
   {
    "duration": 10,
    "start_time": "2021-06-17T12:59:49.455Z"
   },
   {
    "duration": 12,
    "start_time": "2021-06-17T12:59:49.467Z"
   },
   {
    "duration": 13,
    "start_time": "2021-06-17T12:59:49.481Z"
   },
   {
    "duration": 13,
    "start_time": "2021-06-17T12:59:49.497Z"
   },
   {
    "duration": 52,
    "start_time": "2021-06-17T12:59:49.512Z"
   },
   {
    "duration": 4,
    "start_time": "2021-06-17T12:59:49.567Z"
   },
   {
    "duration": 12,
    "start_time": "2021-06-17T12:59:49.574Z"
   },
   {
    "duration": 4,
    "start_time": "2021-06-17T12:59:49.589Z"
   },
   {
    "duration": 60,
    "start_time": "2021-06-17T12:59:49.596Z"
   },
   {
    "duration": 3,
    "start_time": "2021-06-17T12:59:49.659Z"
   },
   {
    "duration": 17,
    "start_time": "2021-06-17T12:59:49.665Z"
   },
   {
    "duration": 13,
    "start_time": "2021-06-17T12:59:49.684Z"
   },
   {
    "duration": 11,
    "start_time": "2021-06-17T12:59:49.700Z"
   },
   {
    "duration": 42,
    "start_time": "2021-06-17T12:59:49.714Z"
   },
   {
    "duration": 25,
    "start_time": "2021-06-17T12:59:49.758Z"
   },
   {
    "duration": 14,
    "start_time": "2021-06-17T12:59:49.786Z"
   },
   {
    "duration": 12,
    "start_time": "2021-06-17T12:59:49.803Z"
   },
   {
    "duration": 46,
    "start_time": "2021-06-17T12:59:49.817Z"
   },
   {
    "duration": 4,
    "start_time": "2021-06-17T12:59:49.865Z"
   },
   {
    "duration": 22,
    "start_time": "2021-06-17T12:59:49.871Z"
   },
   {
    "duration": 21,
    "start_time": "2021-06-17T12:59:49.895Z"
   },
   {
    "duration": 54,
    "start_time": "2021-06-17T12:59:49.919Z"
   },
   {
    "duration": 6550,
    "start_time": "2021-06-17T13:00:21.749Z"
   },
   {
    "duration": -65,
    "start_time": "2021-06-17T13:00:28.368Z"
   },
   {
    "duration": -66,
    "start_time": "2021-06-17T13:00:28.372Z"
   },
   {
    "duration": 776,
    "start_time": "2021-06-17T13:00:37.134Z"
   },
   {
    "duration": 90,
    "start_time": "2021-06-17T13:00:37.913Z"
   },
   {
    "duration": 24,
    "start_time": "2021-06-17T13:00:38.006Z"
   },
   {
    "duration": 30,
    "start_time": "2021-06-17T13:00:38.033Z"
   },
   {
    "duration": 27,
    "start_time": "2021-06-17T13:00:38.065Z"
   },
   {
    "duration": 48,
    "start_time": "2021-06-17T13:00:38.095Z"
   },
   {
    "duration": 12,
    "start_time": "2021-06-17T13:00:38.154Z"
   },
   {
    "duration": 13,
    "start_time": "2021-06-17T13:00:38.170Z"
   },
   {
    "duration": 18,
    "start_time": "2021-06-17T13:00:38.186Z"
   },
   {
    "duration": 10,
    "start_time": "2021-06-17T13:00:38.207Z"
   },
   {
    "duration": 46,
    "start_time": "2021-06-17T13:00:38.220Z"
   },
   {
    "duration": 20,
    "start_time": "2021-06-17T13:00:38.268Z"
   },
   {
    "duration": 35,
    "start_time": "2021-06-17T13:00:38.292Z"
   },
   {
    "duration": 49,
    "start_time": "2021-06-17T13:00:38.330Z"
   },
   {
    "duration": 24,
    "start_time": "2021-06-17T13:00:38.382Z"
   },
   {
    "duration": 47,
    "start_time": "2021-06-17T13:00:38.409Z"
   },
   {
    "duration": 9,
    "start_time": "2021-06-17T13:00:38.459Z"
   },
   {
    "duration": 11,
    "start_time": "2021-06-17T13:00:38.471Z"
   },
   {
    "duration": 3301,
    "start_time": "2021-06-17T13:00:38.485Z"
   },
   {
    "duration": 5,
    "start_time": "2021-06-17T13:00:41.788Z"
   },
   {
    "duration": 393,
    "start_time": "2021-06-17T13:00:41.795Z"
   },
   {
    "duration": 9,
    "start_time": "2021-06-17T13:00:42.191Z"
   },
   {
    "duration": 37,
    "start_time": "2021-06-17T13:00:42.205Z"
   },
   {
    "duration": 14,
    "start_time": "2021-06-17T13:00:42.245Z"
   },
   {
    "duration": 29,
    "start_time": "2021-06-17T13:00:42.262Z"
   },
   {
    "duration": 16,
    "start_time": "2021-06-17T13:00:42.293Z"
   },
   {
    "duration": 12,
    "start_time": "2021-06-17T13:00:42.312Z"
   },
   {
    "duration": 30,
    "start_time": "2021-06-17T13:00:42.326Z"
   },
   {
    "duration": 17,
    "start_time": "2021-06-17T13:00:42.358Z"
   },
   {
    "duration": 19,
    "start_time": "2021-06-17T13:00:42.378Z"
   },
   {
    "duration": 20,
    "start_time": "2021-06-17T13:00:42.399Z"
   },
   {
    "duration": 9,
    "start_time": "2021-06-17T13:00:42.422Z"
   },
   {
    "duration": 5,
    "start_time": "2021-06-17T13:00:42.434Z"
   },
   {
    "duration": 27,
    "start_time": "2021-06-17T13:00:42.441Z"
   },
   {
    "duration": 353,
    "start_time": "2021-06-17T13:00:42.471Z"
   },
   {
    "duration": -176,
    "start_time": "2021-06-17T13:00:43.003Z"
   },
   {
    "duration": -190,
    "start_time": "2021-06-17T13:00:43.019Z"
   },
   {
    "duration": -206,
    "start_time": "2021-06-17T13:00:43.036Z"
   },
   {
    "duration": -214,
    "start_time": "2021-06-17T13:00:43.046Z"
   },
   {
    "duration": -223,
    "start_time": "2021-06-17T13:00:43.056Z"
   },
   {
    "duration": -227,
    "start_time": "2021-06-17T13:00:43.061Z"
   },
   {
    "duration": -234,
    "start_time": "2021-06-17T13:00:43.070Z"
   },
   {
    "duration": -237,
    "start_time": "2021-06-17T13:00:43.074Z"
   },
   {
    "duration": -239,
    "start_time": "2021-06-17T13:00:43.078Z"
   },
   {
    "duration": -248,
    "start_time": "2021-06-17T13:00:43.088Z"
   },
   {
    "duration": -250,
    "start_time": "2021-06-17T13:00:43.091Z"
   },
   {
    "duration": -252,
    "start_time": "2021-06-17T13:00:43.095Z"
   },
   {
    "duration": -263,
    "start_time": "2021-06-17T13:00:43.108Z"
   },
   {
    "duration": -302,
    "start_time": "2021-06-17T13:00:43.148Z"
   },
   {
    "duration": 7502,
    "start_time": "2021-06-17T13:02:21.196Z"
   },
   {
    "duration": -114,
    "start_time": "2021-06-17T13:02:28.815Z"
   },
   {
    "duration": 15,
    "start_time": "2021-06-17T13:02:28.777Z"
   },
   {
    "duration": 761,
    "start_time": "2021-06-17T13:02:38.244Z"
   },
   {
    "duration": 89,
    "start_time": "2021-06-17T13:02:39.008Z"
   },
   {
    "duration": 23,
    "start_time": "2021-06-17T13:02:39.103Z"
   },
   {
    "duration": 36,
    "start_time": "2021-06-17T13:02:39.128Z"
   },
   {
    "duration": 30,
    "start_time": "2021-06-17T13:02:39.166Z"
   },
   {
    "duration": 63,
    "start_time": "2021-06-17T13:02:39.198Z"
   },
   {
    "duration": 12,
    "start_time": "2021-06-17T13:02:39.264Z"
   },
   {
    "duration": 17,
    "start_time": "2021-06-17T13:02:39.280Z"
   },
   {
    "duration": 18,
    "start_time": "2021-06-17T13:02:39.300Z"
   },
   {
    "duration": 26,
    "start_time": "2021-06-17T13:02:39.321Z"
   },
   {
    "duration": 26,
    "start_time": "2021-06-17T13:02:39.349Z"
   },
   {
    "duration": 39,
    "start_time": "2021-06-17T13:02:39.377Z"
   },
   {
    "duration": 27,
    "start_time": "2021-06-17T13:02:39.419Z"
   },
   {
    "duration": 51,
    "start_time": "2021-06-17T13:02:39.449Z"
   },
   {
    "duration": 36,
    "start_time": "2021-06-17T13:02:39.504Z"
   },
   {
    "duration": 39,
    "start_time": "2021-06-17T13:02:39.544Z"
   },
   {
    "duration": 25,
    "start_time": "2021-06-17T13:02:39.586Z"
   },
   {
    "duration": 36,
    "start_time": "2021-06-17T13:02:39.613Z"
   },
   {
    "duration": 17,
    "start_time": "2021-06-17T13:02:39.655Z"
   },
   {
    "duration": 3222,
    "start_time": "2021-06-17T13:02:39.674Z"
   },
   {
    "duration": 5,
    "start_time": "2021-06-17T13:02:42.899Z"
   },
   {
    "duration": 395,
    "start_time": "2021-06-17T13:02:42.906Z"
   },
   {
    "duration": 9,
    "start_time": "2021-06-17T13:02:43.304Z"
   },
   {
    "duration": 41,
    "start_time": "2021-06-17T13:02:43.315Z"
   },
   {
    "duration": 9,
    "start_time": "2021-06-17T13:02:43.358Z"
   },
   {
    "duration": 15,
    "start_time": "2021-06-17T13:02:43.373Z"
   },
   {
    "duration": 13,
    "start_time": "2021-06-17T13:02:43.391Z"
   },
   {
    "duration": 13,
    "start_time": "2021-06-17T13:02:43.407Z"
   },
   {
    "duration": 9,
    "start_time": "2021-06-17T13:02:43.455Z"
   },
   {
    "duration": 12,
    "start_time": "2021-06-17T13:02:43.466Z"
   },
   {
    "duration": 16,
    "start_time": "2021-06-17T13:02:43.480Z"
   },
   {
    "duration": 14,
    "start_time": "2021-06-17T13:02:43.499Z"
   },
   {
    "duration": 45,
    "start_time": "2021-06-17T13:02:43.516Z"
   },
   {
    "duration": 7,
    "start_time": "2021-06-17T13:02:43.564Z"
   },
   {
    "duration": 14,
    "start_time": "2021-06-17T13:02:43.573Z"
   },
   {
    "duration": 6,
    "start_time": "2021-06-17T13:02:43.590Z"
   },
   {
    "duration": 60,
    "start_time": "2021-06-17T13:02:43.599Z"
   },
   {
    "duration": 11,
    "start_time": "2021-06-17T13:02:43.661Z"
   },
   {
    "duration": 30,
    "start_time": "2021-06-17T13:02:43.675Z"
   },
   {
    "duration": 13,
    "start_time": "2021-06-17T13:02:43.708Z"
   },
   {
    "duration": 16,
    "start_time": "2021-06-17T13:02:43.723Z"
   },
   {
    "duration": 11,
    "start_time": "2021-06-17T13:02:43.754Z"
   },
   {
    "duration": 26,
    "start_time": "2021-06-17T13:02:43.768Z"
   },
   {
    "duration": 13,
    "start_time": "2021-06-17T13:02:43.797Z"
   },
   {
    "duration": 18,
    "start_time": "2021-06-17T13:02:43.812Z"
   },
   {
    "duration": 36,
    "start_time": "2021-06-17T13:02:43.832Z"
   },
   {
    "duration": 4,
    "start_time": "2021-06-17T13:02:43.870Z"
   },
   {
    "duration": 28,
    "start_time": "2021-06-17T13:02:43.876Z"
   },
   {
    "duration": 49,
    "start_time": "2021-06-17T13:02:43.907Z"
   },
   {
    "duration": 23,
    "start_time": "2021-06-17T13:02:43.958Z"
   },
   {
    "duration": 3,
    "start_time": "2021-06-17T13:06:16.269Z"
   },
   {
    "duration": 6458,
    "start_time": "2021-06-17T13:08:55.320Z"
   },
   {
    "duration": 321,
    "start_time": "2021-06-17T13:10:33.531Z"
   },
   {
    "duration": 296,
    "start_time": "2021-06-17T13:10:40.805Z"
   },
   {
    "duration": 287,
    "start_time": "2021-06-17T13:11:00.251Z"
   },
   {
    "duration": 747,
    "start_time": "2021-06-17T13:11:08.162Z"
   },
   {
    "duration": 93,
    "start_time": "2021-06-17T13:11:08.912Z"
   },
   {
    "duration": 42,
    "start_time": "2021-06-17T13:11:09.012Z"
   },
   {
    "duration": 14,
    "start_time": "2021-06-17T13:11:09.056Z"
   },
   {
    "duration": 27,
    "start_time": "2021-06-17T13:11:09.073Z"
   },
   {
    "duration": 65,
    "start_time": "2021-06-17T13:11:09.103Z"
   },
   {
    "duration": 12,
    "start_time": "2021-06-17T13:11:09.173Z"
   },
   {
    "duration": 56,
    "start_time": "2021-06-17T13:11:09.188Z"
   },
   {
    "duration": 94,
    "start_time": "2021-06-17T13:11:09.247Z"
   },
   {
    "duration": -257,
    "start_time": "2021-06-17T13:11:09.601Z"
   },
   {
    "duration": -270,
    "start_time": "2021-06-17T13:11:09.616Z"
   },
   {
    "duration": -292,
    "start_time": "2021-06-17T13:11:09.639Z"
   },
   {
    "duration": -308,
    "start_time": "2021-06-17T13:11:09.657Z"
   },
   {
    "duration": -326,
    "start_time": "2021-06-17T13:11:09.676Z"
   },
   {
    "duration": -345,
    "start_time": "2021-06-17T13:11:09.696Z"
   },
   {
    "duration": -362,
    "start_time": "2021-06-17T13:11:09.714Z"
   },
   {
    "duration": -380,
    "start_time": "2021-06-17T13:11:09.734Z"
   },
   {
    "duration": -396,
    "start_time": "2021-06-17T13:11:09.751Z"
   },
   {
    "duration": -411,
    "start_time": "2021-06-17T13:11:09.767Z"
   },
   {
    "duration": -429,
    "start_time": "2021-06-17T13:11:09.786Z"
   },
   {
    "duration": -471,
    "start_time": "2021-06-17T13:11:09.829Z"
   },
   {
    "duration": -484,
    "start_time": "2021-06-17T13:11:09.844Z"
   },
   {
    "duration": -514,
    "start_time": "2021-06-17T13:11:09.875Z"
   },
   {
    "duration": -526,
    "start_time": "2021-06-17T13:11:09.888Z"
   },
   {
    "duration": -555,
    "start_time": "2021-06-17T13:11:09.918Z"
   },
   {
    "duration": -569,
    "start_time": "2021-06-17T13:11:09.934Z"
   },
   {
    "duration": -585,
    "start_time": "2021-06-17T13:11:09.951Z"
   },
   {
    "duration": -603,
    "start_time": "2021-06-17T13:11:09.970Z"
   },
   {
    "duration": -610,
    "start_time": "2021-06-17T13:11:09.979Z"
   },
   {
    "duration": -627,
    "start_time": "2021-06-17T13:11:09.997Z"
   },
   {
    "duration": -643,
    "start_time": "2021-06-17T13:11:10.015Z"
   },
   {
    "duration": -656,
    "start_time": "2021-06-17T13:11:10.029Z"
   },
   {
    "duration": -670,
    "start_time": "2021-06-17T13:11:10.045Z"
   },
   {
    "duration": -685,
    "start_time": "2021-06-17T13:11:10.061Z"
   },
   {
    "duration": -700,
    "start_time": "2021-06-17T13:11:10.078Z"
   },
   {
    "duration": -715,
    "start_time": "2021-06-17T13:11:10.094Z"
   },
   {
    "duration": -730,
    "start_time": "2021-06-17T13:11:10.111Z"
   },
   {
    "duration": -744,
    "start_time": "2021-06-17T13:11:10.126Z"
   },
   {
    "duration": -748,
    "start_time": "2021-06-17T13:11:10.132Z"
   },
   {
    "duration": -765,
    "start_time": "2021-06-17T13:11:10.150Z"
   },
   {
    "duration": -790,
    "start_time": "2021-06-17T13:11:10.177Z"
   },
   {
    "duration": -795,
    "start_time": "2021-06-17T13:11:10.183Z"
   },
   {
    "duration": -809,
    "start_time": "2021-06-17T13:11:10.199Z"
   },
   {
    "duration": -816,
    "start_time": "2021-06-17T13:11:10.209Z"
   },
   {
    "duration": -827,
    "start_time": "2021-06-17T13:11:10.222Z"
   },
   {
    "duration": -829,
    "start_time": "2021-06-17T13:11:10.225Z"
   },
   {
    "duration": -775,
    "start_time": "2021-06-17T13:11:10.229Z"
   },
   {
    "duration": -782,
    "start_time": "2021-06-17T13:11:10.237Z"
   },
   {
    "duration": -783,
    "start_time": "2021-06-17T13:11:10.240Z"
   },
   {
    "duration": -785,
    "start_time": "2021-06-17T13:11:10.243Z"
   },
   {
    "duration": -786,
    "start_time": "2021-06-17T13:11:10.247Z"
   },
   {
    "duration": 22,
    "start_time": "2021-06-17T13:11:59.970Z"
   },
   {
    "duration": 32,
    "start_time": "2021-06-17T13:12:15.680Z"
   },
   {
    "duration": 124,
    "start_time": "2021-06-17T13:13:12.129Z"
   },
   {
    "duration": 33,
    "start_time": "2021-06-17T13:13:17.747Z"
   },
   {
    "duration": 36,
    "start_time": "2021-06-17T13:14:19.726Z"
   },
   {
    "duration": 37,
    "start_time": "2021-06-17T13:14:57.539Z"
   },
   {
    "duration": 723,
    "start_time": "2021-06-17T13:20:56.273Z"
   },
   {
    "duration": 87,
    "start_time": "2021-06-17T13:20:56.998Z"
   },
   {
    "duration": 24,
    "start_time": "2021-06-17T13:20:57.088Z"
   },
   {
    "duration": 29,
    "start_time": "2021-06-17T13:20:57.115Z"
   },
   {
    "duration": 13,
    "start_time": "2021-06-17T13:20:57.154Z"
   },
   {
    "duration": 48,
    "start_time": "2021-06-17T13:20:57.170Z"
   },
   {
    "duration": 39,
    "start_time": "2021-06-17T13:20:57.220Z"
   },
   {
    "duration": 32,
    "start_time": "2021-06-17T13:20:57.261Z"
   },
   {
    "duration": 25,
    "start_time": "2021-06-17T13:20:57.298Z"
   },
   {
    "duration": 20,
    "start_time": "2021-06-17T13:20:57.326Z"
   },
   {
    "duration": 54,
    "start_time": "2021-06-17T13:20:57.349Z"
   },
   {
    "duration": 5,
    "start_time": "2021-06-17T13:20:57.405Z"
   },
   {
    "duration": 377,
    "start_time": "2021-06-17T13:20:57.413Z"
   },
   {
    "duration": -103,
    "start_time": "2021-06-17T13:20:57.897Z"
   },
   {
    "duration": -120,
    "start_time": "2021-06-17T13:20:57.916Z"
   },
   {
    "duration": -138,
    "start_time": "2021-06-17T13:20:57.936Z"
   },
   {
    "duration": -157,
    "start_time": "2021-06-17T13:20:57.956Z"
   },
   {
    "duration": -171,
    "start_time": "2021-06-17T13:20:57.972Z"
   },
   {
    "duration": -187,
    "start_time": "2021-06-17T13:20:57.990Z"
   },
   {
    "duration": -204,
    "start_time": "2021-06-17T13:20:58.008Z"
   },
   {
    "duration": -221,
    "start_time": "2021-06-17T13:20:58.027Z"
   },
   {
    "duration": -239,
    "start_time": "2021-06-17T13:20:58.046Z"
   },
   {
    "duration": -255,
    "start_time": "2021-06-17T13:20:58.064Z"
   },
   {
    "duration": -271,
    "start_time": "2021-06-17T13:20:58.082Z"
   },
   {
    "duration": -288,
    "start_time": "2021-06-17T13:20:58.100Z"
   },
   {
    "duration": -305,
    "start_time": "2021-06-17T13:20:58.119Z"
   },
   {
    "duration": -321,
    "start_time": "2021-06-17T13:20:58.137Z"
   },
   {
    "duration": -337,
    "start_time": "2021-06-17T13:20:58.154Z"
   },
   {
    "duration": -344,
    "start_time": "2021-06-17T13:20:58.163Z"
   },
   {
    "duration": -359,
    "start_time": "2021-06-17T13:20:58.180Z"
   },
   {
    "duration": -372,
    "start_time": "2021-06-17T13:20:58.194Z"
   },
   {
    "duration": -380,
    "start_time": "2021-06-17T13:20:58.204Z"
   },
   {
    "duration": -381,
    "start_time": "2021-06-17T13:20:58.207Z"
   },
   {
    "duration": -400,
    "start_time": "2021-06-17T13:20:58.227Z"
   },
   {
    "duration": -414,
    "start_time": "2021-06-17T13:20:58.243Z"
   },
   {
    "duration": -407,
    "start_time": "2021-06-17T13:20:58.261Z"
   },
   {
    "duration": -424,
    "start_time": "2021-06-17T13:20:58.280Z"
   },
   {
    "duration": -443,
    "start_time": "2021-06-17T13:20:58.300Z"
   },
   {
    "duration": -472,
    "start_time": "2021-06-17T13:20:58.330Z"
   },
   {
    "duration": -485,
    "start_time": "2021-06-17T13:20:58.345Z"
   },
   {
    "duration": -500,
    "start_time": "2021-06-17T13:20:58.361Z"
   },
   {
    "duration": -517,
    "start_time": "2021-06-17T13:20:58.379Z"
   },
   {
    "duration": -534,
    "start_time": "2021-06-17T13:20:58.398Z"
   },
   {
    "duration": -549,
    "start_time": "2021-06-17T13:20:58.414Z"
   },
   {
    "duration": -564,
    "start_time": "2021-06-17T13:20:58.430Z"
   },
   {
    "duration": -579,
    "start_time": "2021-06-17T13:20:58.446Z"
   },
   {
    "duration": -595,
    "start_time": "2021-06-17T13:20:58.463Z"
   },
   {
    "duration": -610,
    "start_time": "2021-06-17T13:20:58.480Z"
   },
   {
    "duration": -618,
    "start_time": "2021-06-17T13:20:58.489Z"
   },
   {
    "duration": -620,
    "start_time": "2021-06-17T13:20:58.493Z"
   },
   {
    "duration": -631,
    "start_time": "2021-06-17T13:20:58.505Z"
   },
   {
    "duration": 6,
    "start_time": "2021-06-17T13:30:37.654Z"
   },
   {
    "duration": 6,
    "start_time": "2021-06-17T13:31:07.433Z"
   },
   {
    "duration": 5,
    "start_time": "2021-06-17T13:32:55.937Z"
   },
   {
    "duration": 732,
    "start_time": "2021-06-17T13:33:57.283Z"
   },
   {
    "duration": 88,
    "start_time": "2021-06-17T13:33:58.017Z"
   },
   {
    "duration": 22,
    "start_time": "2021-06-17T13:33:58.108Z"
   },
   {
    "duration": 29,
    "start_time": "2021-06-17T13:33:58.133Z"
   },
   {
    "duration": 13,
    "start_time": "2021-06-17T13:33:58.164Z"
   },
   {
    "duration": 53,
    "start_time": "2021-06-17T13:33:58.179Z"
   },
   {
    "duration": 12,
    "start_time": "2021-06-17T13:33:58.254Z"
   },
   {
    "duration": 24,
    "start_time": "2021-06-17T13:33:58.268Z"
   },
   {
    "duration": 16,
    "start_time": "2021-06-17T13:33:58.296Z"
   },
   {
    "duration": 14,
    "start_time": "2021-06-17T13:33:58.315Z"
   },
   {
    "duration": 27,
    "start_time": "2021-06-17T13:33:58.331Z"
   },
   {
    "duration": 21,
    "start_time": "2021-06-17T13:33:58.360Z"
   },
   {
    "duration": 12,
    "start_time": "2021-06-17T13:33:58.383Z"
   },
   {
    "duration": 20,
    "start_time": "2021-06-17T13:33:58.397Z"
   },
   {
    "duration": 9,
    "start_time": "2021-06-17T13:33:58.419Z"
   },
   {
    "duration": 31,
    "start_time": "2021-06-17T13:33:58.431Z"
   },
   {
    "duration": 29,
    "start_time": "2021-06-17T13:33:58.465Z"
   },
   {
    "duration": 36,
    "start_time": "2021-06-17T13:33:58.497Z"
   },
   {
    "duration": 34,
    "start_time": "2021-06-17T13:33:58.535Z"
   },
   {
    "duration": 23,
    "start_time": "2021-06-17T13:33:58.571Z"
   },
   {
    "duration": 18,
    "start_time": "2021-06-17T13:33:58.596Z"
   },
   {
    "duration": 17,
    "start_time": "2021-06-17T13:33:58.617Z"
   },
   {
    "duration": 7,
    "start_time": "2021-06-17T13:33:58.655Z"
   },
   {
    "duration": 3550,
    "start_time": "2021-06-17T13:33:58.664Z"
   },
   {
    "duration": 5,
    "start_time": "2021-06-17T13:34:02.216Z"
   },
   {
    "duration": 404,
    "start_time": "2021-06-17T13:34:02.223Z"
   },
   {
    "duration": 8,
    "start_time": "2021-06-17T13:34:02.632Z"
   },
   {
    "duration": 19,
    "start_time": "2021-06-17T13:34:02.655Z"
   },
   {
    "duration": 19,
    "start_time": "2021-06-17T13:34:02.676Z"
   },
   {
    "duration": 13,
    "start_time": "2021-06-17T13:34:02.697Z"
   },
   {
    "duration": 16,
    "start_time": "2021-06-17T13:34:02.712Z"
   },
   {
    "duration": 32,
    "start_time": "2021-06-17T13:34:02.731Z"
   },
   {
    "duration": 15,
    "start_time": "2021-06-17T13:34:02.766Z"
   },
   {
    "duration": 12,
    "start_time": "2021-06-17T13:34:02.783Z"
   },
   {
    "duration": 8,
    "start_time": "2021-06-17T13:34:02.798Z"
   },
   {
    "duration": 20,
    "start_time": "2021-06-17T13:34:02.809Z"
   },
   {
    "duration": 6,
    "start_time": "2021-06-17T13:34:02.855Z"
   },
   {
    "duration": 29,
    "start_time": "2021-06-17T13:34:02.863Z"
   },
   {
    "duration": 4,
    "start_time": "2021-06-17T13:34:02.895Z"
   },
   {
    "duration": 21,
    "start_time": "2021-06-17T13:34:02.901Z"
   },
   {
    "duration": 36,
    "start_time": "2021-06-17T13:34:02.925Z"
   },
   {
    "duration": 12,
    "start_time": "2021-06-17T13:34:02.964Z"
   },
   {
    "duration": 5,
    "start_time": "2021-06-17T13:34:02.979Z"
   },
   {
    "duration": 19,
    "start_time": "2021-06-17T13:34:02.986Z"
   },
   {
    "duration": 51,
    "start_time": "2021-06-17T13:34:03.008Z"
   },
   {
    "duration": 13,
    "start_time": "2021-06-17T13:34:03.061Z"
   },
   {
    "duration": 28,
    "start_time": "2021-06-17T13:34:03.077Z"
   },
   {
    "duration": 3,
    "start_time": "2021-06-17T13:34:03.108Z"
   },
   {
    "duration": 52,
    "start_time": "2021-06-17T13:34:03.114Z"
   },
   {
    "duration": 23,
    "start_time": "2021-06-17T13:34:03.168Z"
   },
   {
    "duration": 23,
    "start_time": "2021-06-17T13:34:03.193Z"
   },
   {
    "duration": 788,
    "start_time": "2021-06-17T13:34:58.032Z"
   },
   {
    "duration": 91,
    "start_time": "2021-06-17T13:34:58.823Z"
   },
   {
    "duration": 24,
    "start_time": "2021-06-17T13:34:58.918Z"
   },
   {
    "duration": 19,
    "start_time": "2021-06-17T13:34:58.956Z"
   },
   {
    "duration": 23,
    "start_time": "2021-06-17T13:34:58.978Z"
   },
   {
    "duration": 73,
    "start_time": "2021-06-17T13:34:59.004Z"
   },
   {
    "duration": 14,
    "start_time": "2021-06-17T13:34:59.080Z"
   },
   {
    "duration": 19,
    "start_time": "2021-06-17T13:34:59.100Z"
   },
   {
    "duration": 39,
    "start_time": "2021-06-17T13:34:59.123Z"
   },
   {
    "duration": 7,
    "start_time": "2021-06-17T13:34:59.165Z"
   },
   {
    "duration": 8,
    "start_time": "2021-06-17T13:34:59.175Z"
   },
   {
    "duration": 17,
    "start_time": "2021-06-17T13:34:59.186Z"
   },
   {
    "duration": 20,
    "start_time": "2021-06-17T13:34:59.205Z"
   },
   {
    "duration": 20,
    "start_time": "2021-06-17T13:34:59.227Z"
   },
   {
    "duration": 18,
    "start_time": "2021-06-17T13:34:59.253Z"
   },
   {
    "duration": 21,
    "start_time": "2021-06-17T13:34:59.273Z"
   },
   {
    "duration": 26,
    "start_time": "2021-06-17T13:34:59.297Z"
   },
   {
    "duration": 44,
    "start_time": "2021-06-17T13:34:59.326Z"
   },
   {
    "duration": 26,
    "start_time": "2021-06-17T13:34:59.372Z"
   },
   {
    "duration": 23,
    "start_time": "2021-06-17T13:34:59.401Z"
   },
   {
    "duration": 39,
    "start_time": "2021-06-17T13:34:59.426Z"
   },
   {
    "duration": 13,
    "start_time": "2021-06-17T13:34:59.468Z"
   },
   {
    "duration": 9,
    "start_time": "2021-06-17T13:34:59.486Z"
   },
   {
    "duration": 3224,
    "start_time": "2021-06-17T13:34:59.498Z"
   },
   {
    "duration": 4,
    "start_time": "2021-06-17T13:35:02.725Z"
   },
   {
    "duration": 413,
    "start_time": "2021-06-17T13:35:02.732Z"
   },
   {
    "duration": 9,
    "start_time": "2021-06-17T13:35:03.147Z"
   },
   {
    "duration": 32,
    "start_time": "2021-06-17T13:35:03.159Z"
   },
   {
    "duration": 18,
    "start_time": "2021-06-17T13:35:03.193Z"
   },
   {
    "duration": 18,
    "start_time": "2021-06-17T13:35:03.213Z"
   },
   {
    "duration": 27,
    "start_time": "2021-06-17T13:35:03.234Z"
   },
   {
    "duration": 21,
    "start_time": "2021-06-17T13:35:03.264Z"
   },
   {
    "duration": 20,
    "start_time": "2021-06-17T13:35:03.288Z"
   },
   {
    "duration": 12,
    "start_time": "2021-06-17T13:35:03.311Z"
   },
   {
    "duration": 10,
    "start_time": "2021-06-17T13:35:03.325Z"
   },
   {
    "duration": 25,
    "start_time": "2021-06-17T13:35:03.338Z"
   },
   {
    "duration": 5,
    "start_time": "2021-06-17T13:35:03.366Z"
   },
   {
    "duration": 33,
    "start_time": "2021-06-17T13:35:03.373Z"
   },
   {
    "duration": 3,
    "start_time": "2021-06-17T13:35:03.409Z"
   },
   {
    "duration": 40,
    "start_time": "2021-06-17T13:35:03.415Z"
   },
   {
    "duration": 14,
    "start_time": "2021-06-17T13:35:03.458Z"
   },
   {
    "duration": 16,
    "start_time": "2021-06-17T13:35:03.474Z"
   },
   {
    "duration": 18,
    "start_time": "2021-06-17T13:35:03.492Z"
   },
   {
    "duration": 28,
    "start_time": "2021-06-17T13:35:03.513Z"
   },
   {
    "duration": 23,
    "start_time": "2021-06-17T13:35:03.543Z"
   },
   {
    "duration": 12,
    "start_time": "2021-06-17T13:35:03.568Z"
   },
   {
    "duration": 27,
    "start_time": "2021-06-17T13:35:03.582Z"
   },
   {
    "duration": 4,
    "start_time": "2021-06-17T13:35:03.611Z"
   },
   {
    "duration": 54,
    "start_time": "2021-06-17T13:35:03.617Z"
   },
   {
    "duration": 21,
    "start_time": "2021-06-17T13:35:03.674Z"
   },
   {
    "duration": 22,
    "start_time": "2021-06-17T13:35:03.698Z"
   },
   {
    "duration": 6402,
    "start_time": "2021-06-17T13:35:33.323Z"
   },
   {
    "duration": 752,
    "start_time": "2021-06-17T13:35:51.832Z"
   },
   {
    "duration": 91,
    "start_time": "2021-06-17T13:35:52.587Z"
   },
   {
    "duration": 23,
    "start_time": "2021-06-17T13:35:52.684Z"
   },
   {
    "duration": 21,
    "start_time": "2021-06-17T13:35:52.710Z"
   },
   {
    "duration": 13,
    "start_time": "2021-06-17T13:35:52.754Z"
   },
   {
    "duration": 47,
    "start_time": "2021-06-17T13:35:52.770Z"
   },
   {
    "duration": 37,
    "start_time": "2021-06-17T13:35:52.819Z"
   },
   {
    "duration": 9,
    "start_time": "2021-06-17T13:35:52.860Z"
   },
   {
    "duration": 12,
    "start_time": "2021-06-17T13:35:52.872Z"
   },
   {
    "duration": 9,
    "start_time": "2021-06-17T13:35:52.886Z"
   },
   {
    "duration": 4,
    "start_time": "2021-06-17T13:35:52.897Z"
   },
   {
    "duration": 51,
    "start_time": "2021-06-17T13:35:52.904Z"
   },
   {
    "duration": 6,
    "start_time": "2021-06-17T13:35:52.957Z"
   },
   {
    "duration": 20,
    "start_time": "2021-06-17T13:35:52.965Z"
   },
   {
    "duration": 10,
    "start_time": "2021-06-17T13:35:52.988Z"
   },
   {
    "duration": 27,
    "start_time": "2021-06-17T13:35:53.001Z"
   },
   {
    "duration": 39,
    "start_time": "2021-06-17T13:35:53.031Z"
   },
   {
    "duration": 32,
    "start_time": "2021-06-17T13:35:53.072Z"
   },
   {
    "duration": 49,
    "start_time": "2021-06-17T13:35:53.106Z"
   },
   {
    "duration": 24,
    "start_time": "2021-06-17T13:35:53.158Z"
   },
   {
    "duration": 17,
    "start_time": "2021-06-17T13:35:53.184Z"
   },
   {
    "duration": 13,
    "start_time": "2021-06-17T13:35:53.203Z"
   },
   {
    "duration": 38,
    "start_time": "2021-06-17T13:35:53.218Z"
   },
   {
    "duration": 3343,
    "start_time": "2021-06-17T13:35:53.258Z"
   },
   {
    "duration": 5,
    "start_time": "2021-06-17T13:35:56.603Z"
   },
   {
    "duration": 399,
    "start_time": "2021-06-17T13:35:56.613Z"
   },
   {
    "duration": 8,
    "start_time": "2021-06-17T13:35:57.016Z"
   },
   {
    "duration": 35,
    "start_time": "2021-06-17T13:35:57.026Z"
   },
   {
    "duration": 11,
    "start_time": "2021-06-17T13:35:57.064Z"
   },
   {
    "duration": 16,
    "start_time": "2021-06-17T13:35:57.077Z"
   },
   {
    "duration": 13,
    "start_time": "2021-06-17T13:35:57.095Z"
   },
   {
    "duration": 16,
    "start_time": "2021-06-17T13:35:57.110Z"
   },
   {
    "duration": 12,
    "start_time": "2021-06-17T13:35:57.154Z"
   },
   {
    "duration": 10,
    "start_time": "2021-06-17T13:35:57.168Z"
   },
   {
    "duration": 4,
    "start_time": "2021-06-17T13:35:57.180Z"
   },
   {
    "duration": 20,
    "start_time": "2021-06-17T13:35:57.186Z"
   },
   {
    "duration": 5,
    "start_time": "2021-06-17T13:35:57.208Z"
   },
   {
    "duration": 54,
    "start_time": "2021-06-17T13:35:57.216Z"
   },
   {
    "duration": 9,
    "start_time": "2021-06-17T13:35:57.273Z"
   },
   {
    "duration": 26,
    "start_time": "2021-06-17T13:35:57.285Z"
   },
   {
    "duration": 16,
    "start_time": "2021-06-17T13:35:57.314Z"
   },
   {
    "duration": 31,
    "start_time": "2021-06-17T13:35:57.333Z"
   },
   {
    "duration": 17,
    "start_time": "2021-06-17T13:35:57.367Z"
   },
   {
    "duration": 30,
    "start_time": "2021-06-17T13:35:57.387Z"
   },
   {
    "duration": 12,
    "start_time": "2021-06-17T13:35:57.420Z"
   },
   {
    "duration": 24,
    "start_time": "2021-06-17T13:35:57.434Z"
   },
   {
    "duration": 37,
    "start_time": "2021-06-17T13:35:57.461Z"
   },
   {
    "duration": 8,
    "start_time": "2021-06-17T13:35:57.500Z"
   },
   {
    "duration": 34,
    "start_time": "2021-06-17T13:35:57.510Z"
   },
   {
    "duration": 21,
    "start_time": "2021-06-17T13:35:57.546Z"
   },
   {
    "duration": 19,
    "start_time": "2021-06-17T13:35:57.570Z"
   },
   {
    "duration": 7289,
    "start_time": "2021-06-17T13:40:22.488Z"
   },
   {
    "duration": 6,
    "start_time": "2021-06-17T13:40:29.774Z"
   },
   {
    "duration": 727,
    "start_time": "2021-06-17T13:40:36.496Z"
   },
   {
    "duration": 96,
    "start_time": "2021-06-17T13:40:37.226Z"
   },
   {
    "duration": 32,
    "start_time": "2021-06-17T13:40:37.325Z"
   },
   {
    "duration": 19,
    "start_time": "2021-06-17T13:40:37.359Z"
   },
   {
    "duration": 12,
    "start_time": "2021-06-17T13:40:37.381Z"
   },
   {
    "duration": 76,
    "start_time": "2021-06-17T13:40:37.395Z"
   },
   {
    "duration": 12,
    "start_time": "2021-06-17T13:40:37.474Z"
   },
   {
    "duration": 13,
    "start_time": "2021-06-17T13:40:37.490Z"
   },
   {
    "duration": 50,
    "start_time": "2021-06-17T13:40:37.506Z"
   },
   {
    "duration": 11,
    "start_time": "2021-06-17T13:40:37.559Z"
   },
   {
    "duration": 4,
    "start_time": "2021-06-17T13:40:37.573Z"
   },
   {
    "duration": 9,
    "start_time": "2021-06-17T13:40:37.580Z"
   },
   {
    "duration": 12,
    "start_time": "2021-06-17T13:40:37.592Z"
   },
   {
    "duration": 17,
    "start_time": "2021-06-17T13:40:37.607Z"
   },
   {
    "duration": 10,
    "start_time": "2021-06-17T13:40:37.655Z"
   },
   {
    "duration": 24,
    "start_time": "2021-06-17T13:40:37.667Z"
   },
   {
    "duration": 20,
    "start_time": "2021-06-17T13:40:37.693Z"
   },
   {
    "duration": 51,
    "start_time": "2021-06-17T13:40:37.716Z"
   },
   {
    "duration": 26,
    "start_time": "2021-06-17T13:40:37.770Z"
   },
   {
    "duration": 25,
    "start_time": "2021-06-17T13:40:37.799Z"
   },
   {
    "duration": 42,
    "start_time": "2021-06-17T13:40:37.827Z"
   },
   {
    "duration": 9,
    "start_time": "2021-06-17T13:40:37.871Z"
   },
   {
    "duration": 7,
    "start_time": "2021-06-17T13:40:37.886Z"
   },
   {
    "duration": 3439,
    "start_time": "2021-06-17T13:40:37.897Z"
   },
   {
    "duration": 17,
    "start_time": "2021-06-17T13:40:41.339Z"
   },
   {
    "duration": 395,
    "start_time": "2021-06-17T13:40:41.359Z"
   },
   {
    "duration": 10,
    "start_time": "2021-06-17T13:40:41.757Z"
   },
   {
    "duration": 23,
    "start_time": "2021-06-17T13:40:41.770Z"
   },
   {
    "duration": 11,
    "start_time": "2021-06-17T13:40:41.795Z"
   },
   {
    "duration": 47,
    "start_time": "2021-06-17T13:40:41.809Z"
   },
   {
    "duration": 11,
    "start_time": "2021-06-17T13:40:41.859Z"
   },
   {
    "duration": 14,
    "start_time": "2021-06-17T13:40:41.873Z"
   },
   {
    "duration": 14,
    "start_time": "2021-06-17T13:40:41.890Z"
   },
   {
    "duration": 48,
    "start_time": "2021-06-17T13:40:41.907Z"
   },
   {
    "duration": 5,
    "start_time": "2021-06-17T13:40:41.959Z"
   },
   {
    "duration": 20,
    "start_time": "2021-06-17T13:40:41.967Z"
   },
   {
    "duration": 6,
    "start_time": "2021-06-17T13:40:41.990Z"
   },
   {
    "duration": 60,
    "start_time": "2021-06-17T13:40:41.999Z"
   },
   {
    "duration": 4,
    "start_time": "2021-06-17T13:40:42.061Z"
   },
   {
    "duration": 20,
    "start_time": "2021-06-17T13:40:42.067Z"
   },
   {
    "duration": 13,
    "start_time": "2021-06-17T13:40:42.090Z"
   },
   {
    "duration": 49,
    "start_time": "2021-06-17T13:40:42.105Z"
   },
   {
    "duration": 5,
    "start_time": "2021-06-17T13:40:42.158Z"
   },
   {
    "duration": 19,
    "start_time": "2021-06-17T13:40:42.166Z"
   },
   {
    "duration": 14,
    "start_time": "2021-06-17T13:40:42.187Z"
   },
   {
    "duration": 12,
    "start_time": "2021-06-17T13:40:42.203Z"
   },
   {
    "duration": 21,
    "start_time": "2021-06-17T13:40:42.253Z"
   },
   {
    "duration": 4,
    "start_time": "2021-06-17T13:40:42.276Z"
   },
   {
    "duration": 29,
    "start_time": "2021-06-17T13:40:42.282Z"
   },
   {
    "duration": 51,
    "start_time": "2021-06-17T13:40:42.313Z"
   },
   {
    "duration": 22,
    "start_time": "2021-06-17T13:40:42.366Z"
   },
   {
    "duration": 6828,
    "start_time": "2021-06-17T13:41:34.419Z"
   },
   {
    "duration": -16,
    "start_time": "2021-06-17T13:41:41.267Z"
   },
   {
    "duration": 720,
    "start_time": "2021-06-17T13:41:50.002Z"
   },
   {
    "duration": 94,
    "start_time": "2021-06-17T13:41:50.726Z"
   },
   {
    "duration": 42,
    "start_time": "2021-06-17T13:41:50.829Z"
   },
   {
    "duration": 22,
    "start_time": "2021-06-17T13:41:50.874Z"
   },
   {
    "duration": 13,
    "start_time": "2021-06-17T13:41:50.899Z"
   },
   {
    "duration": 81,
    "start_time": "2021-06-17T13:41:50.916Z"
   },
   {
    "duration": 13,
    "start_time": "2021-06-17T13:41:51.000Z"
   },
   {
    "duration": 9,
    "start_time": "2021-06-17T13:41:51.015Z"
   },
   {
    "duration": 37,
    "start_time": "2021-06-17T13:41:51.026Z"
   },
   {
    "duration": 9,
    "start_time": "2021-06-17T13:41:51.065Z"
   },
   {
    "duration": 5,
    "start_time": "2021-06-17T13:41:51.076Z"
   },
   {
    "duration": 9,
    "start_time": "2021-06-17T13:41:51.083Z"
   },
   {
    "duration": 12,
    "start_time": "2021-06-17T13:41:51.094Z"
   },
   {
    "duration": 52,
    "start_time": "2021-06-17T13:41:51.108Z"
   },
   {
    "duration": 17,
    "start_time": "2021-06-17T13:41:51.162Z"
   },
   {
    "duration": 28,
    "start_time": "2021-06-17T13:41:51.182Z"
   },
   {
    "duration": 44,
    "start_time": "2021-06-17T13:41:51.212Z"
   },
   {
    "duration": 27,
    "start_time": "2021-06-17T13:41:51.258Z"
   },
   {
    "duration": 28,
    "start_time": "2021-06-17T13:41:51.287Z"
   },
   {
    "duration": 55,
    "start_time": "2021-06-17T13:41:51.317Z"
   },
   {
    "duration": 18,
    "start_time": "2021-06-17T13:41:51.377Z"
   },
   {
    "duration": 15,
    "start_time": "2021-06-17T13:41:51.398Z"
   },
   {
    "duration": 13,
    "start_time": "2021-06-17T13:41:51.416Z"
   },
   {
    "duration": 3613,
    "start_time": "2021-06-17T13:41:51.457Z"
   },
   {
    "duration": 5,
    "start_time": "2021-06-17T13:41:55.072Z"
   },
   {
    "duration": 403,
    "start_time": "2021-06-17T13:41:55.079Z"
   },
   {
    "duration": 8,
    "start_time": "2021-06-17T13:41:55.484Z"
   },
   {
    "duration": 35,
    "start_time": "2021-06-17T13:41:55.495Z"
   },
   {
    "duration": 24,
    "start_time": "2021-06-17T13:41:55.533Z"
   },
   {
    "duration": 20,
    "start_time": "2021-06-17T13:41:55.560Z"
   },
   {
    "duration": 15,
    "start_time": "2021-06-17T13:41:55.582Z"
   },
   {
    "duration": 27,
    "start_time": "2021-06-17T13:41:55.599Z"
   },
   {
    "duration": 36,
    "start_time": "2021-06-17T13:41:55.628Z"
   },
   {
    "duration": 11,
    "start_time": "2021-06-17T13:41:55.667Z"
   },
   {
    "duration": 7,
    "start_time": "2021-06-17T13:41:55.680Z"
   },
   {
    "duration": 19,
    "start_time": "2021-06-17T13:41:55.689Z"
   },
   {
    "duration": 5,
    "start_time": "2021-06-17T13:41:55.710Z"
   },
   {
    "duration": 53,
    "start_time": "2021-06-17T13:41:55.717Z"
   },
   {
    "duration": 6,
    "start_time": "2021-06-17T13:41:55.772Z"
   },
   {
    "duration": 19,
    "start_time": "2021-06-17T13:41:55.780Z"
   },
   {
    "duration": 53,
    "start_time": "2021-06-17T13:41:55.801Z"
   },
   {
    "duration": 14,
    "start_time": "2021-06-17T13:41:55.857Z"
   },
   {
    "duration": 4,
    "start_time": "2021-06-17T13:41:55.873Z"
   },
   {
    "duration": 16,
    "start_time": "2021-06-17T13:41:55.880Z"
   },
   {
    "duration": 12,
    "start_time": "2021-06-17T13:41:55.898Z"
   },
   {
    "duration": 51,
    "start_time": "2021-06-17T13:41:55.913Z"
   },
   {
    "duration": 30,
    "start_time": "2021-06-17T13:41:55.967Z"
   },
   {
    "duration": 6,
    "start_time": "2021-06-17T13:41:56.000Z"
   },
   {
    "duration": 57,
    "start_time": "2021-06-17T13:41:56.009Z"
   },
   {
    "duration": 22,
    "start_time": "2021-06-17T13:41:56.069Z"
   },
   {
    "duration": 22,
    "start_time": "2021-06-17T13:41:56.093Z"
   },
   {
    "duration": 7152,
    "start_time": "2021-06-17T13:44:29.635Z"
   },
   {
    "duration": 768,
    "start_time": "2021-06-17T13:44:38.919Z"
   },
   {
    "duration": 93,
    "start_time": "2021-06-17T13:44:39.690Z"
   },
   {
    "duration": 28,
    "start_time": "2021-06-17T13:44:39.787Z"
   },
   {
    "duration": 46,
    "start_time": "2021-06-17T13:44:39.819Z"
   },
   {
    "duration": 14,
    "start_time": "2021-06-17T13:44:39.867Z"
   },
   {
    "duration": 71,
    "start_time": "2021-06-17T13:44:39.884Z"
   },
   {
    "duration": 12,
    "start_time": "2021-06-17T13:44:39.958Z"
   },
   {
    "duration": 8,
    "start_time": "2021-06-17T13:44:39.975Z"
   },
   {
    "duration": 14,
    "start_time": "2021-06-17T13:44:39.986Z"
   },
   {
    "duration": 9,
    "start_time": "2021-06-17T13:44:40.003Z"
   },
   {
    "duration": 6,
    "start_time": "2021-06-17T13:44:40.056Z"
   },
   {
    "duration": 17,
    "start_time": "2021-06-17T13:44:40.064Z"
   },
   {
    "duration": 13,
    "start_time": "2021-06-17T13:44:40.084Z"
   },
   {
    "duration": 17,
    "start_time": "2021-06-17T13:44:40.100Z"
   },
   {
    "duration": 13,
    "start_time": "2021-06-17T13:44:40.120Z"
   },
   {
    "duration": 16,
    "start_time": "2021-06-17T13:44:40.155Z"
   },
   {
    "duration": 30,
    "start_time": "2021-06-17T13:44:40.173Z"
   },
   {
    "duration": 39,
    "start_time": "2021-06-17T13:44:40.206Z"
   },
   {
    "duration": 29,
    "start_time": "2021-06-17T13:44:40.248Z"
   },
   {
    "duration": 24,
    "start_time": "2021-06-17T13:44:40.280Z"
   },
   {
    "duration": 17,
    "start_time": "2021-06-17T13:44:40.307Z"
   },
   {
    "duration": 36,
    "start_time": "2021-06-17T13:44:40.327Z"
   },
   {
    "duration": 8,
    "start_time": "2021-06-17T13:44:40.368Z"
   },
   {
    "duration": 3252,
    "start_time": "2021-06-17T13:44:40.379Z"
   },
   {
    "duration": 5,
    "start_time": "2021-06-17T13:44:43.634Z"
   },
   {
    "duration": 409,
    "start_time": "2021-06-17T13:44:43.641Z"
   },
   {
    "duration": 9,
    "start_time": "2021-06-17T13:44:44.054Z"
   },
   {
    "duration": 28,
    "start_time": "2021-06-17T13:44:44.066Z"
   },
   {
    "duration": 11,
    "start_time": "2021-06-17T13:44:44.096Z"
   },
   {
    "duration": 18,
    "start_time": "2021-06-17T13:44:44.109Z"
   },
   {
    "duration": 30,
    "start_time": "2021-06-17T13:44:44.129Z"
   },
   {
    "duration": 15,
    "start_time": "2021-06-17T13:44:44.162Z"
   },
   {
    "duration": 21,
    "start_time": "2021-06-17T13:44:44.180Z"
   },
   {
    "duration": 17,
    "start_time": "2021-06-17T13:44:44.204Z"
   },
   {
    "duration": 6,
    "start_time": "2021-06-17T13:44:44.224Z"
   },
   {
    "duration": 13,
    "start_time": "2021-06-17T13:44:44.255Z"
   },
   {
    "duration": 16,
    "start_time": "2021-06-17T13:44:44.270Z"
   },
   {
    "duration": 32,
    "start_time": "2021-06-17T13:44:44.289Z"
   },
   {
    "duration": 15,
    "start_time": "2021-06-17T13:44:44.324Z"
   },
   {
    "duration": 39,
    "start_time": "2021-06-17T13:44:44.342Z"
   },
   {
    "duration": 14,
    "start_time": "2021-06-17T13:44:44.383Z"
   },
   {
    "duration": 16,
    "start_time": "2021-06-17T13:44:44.400Z"
   },
   {
    "duration": 8,
    "start_time": "2021-06-17T13:44:44.418Z"
   },
   {
    "duration": 32,
    "start_time": "2021-06-17T13:44:44.454Z"
   },
   {
    "duration": 14,
    "start_time": "2021-06-17T13:44:44.488Z"
   },
   {
    "duration": 12,
    "start_time": "2021-06-17T13:44:44.504Z"
   },
   {
    "duration": 50,
    "start_time": "2021-06-17T13:44:44.519Z"
   },
   {
    "duration": 5,
    "start_time": "2021-06-17T13:44:44.571Z"
   },
   {
    "duration": 23,
    "start_time": "2021-06-17T13:44:44.578Z"
   },
   {
    "duration": 57,
    "start_time": "2021-06-17T13:44:44.604Z"
   },
   {
    "duration": 27,
    "start_time": "2021-06-17T13:44:44.664Z"
   },
   {
    "duration": 7,
    "start_time": "2021-06-17T13:47:07.907Z"
   },
   {
    "duration": 13,
    "start_time": "2021-06-17T13:47:17.389Z"
   },
   {
    "duration": 7,
    "start_time": "2021-06-17T13:48:18.764Z"
   },
   {
    "duration": 11,
    "start_time": "2021-06-17T13:49:07.034Z"
   },
   {
    "duration": 33,
    "start_time": "2021-06-17T13:49:50.182Z"
   },
   {
    "duration": 24,
    "start_time": "2021-06-17T13:50:03.977Z"
   },
   {
    "duration": 411,
    "start_time": "2021-06-17T13:50:17.608Z"
   },
   {
    "duration": 7,
    "start_time": "2021-06-17T13:50:24.134Z"
   },
   {
    "duration": 12,
    "start_time": "2021-06-17T13:50:56.790Z"
   },
   {
    "duration": 9,
    "start_time": "2021-06-17T13:54:16.391Z"
   },
   {
    "duration": 26,
    "start_time": "2021-06-17T13:54:42.001Z"
   },
   {
    "duration": 12,
    "start_time": "2021-06-17T14:02:36.785Z"
   },
   {
    "duration": 273,
    "start_time": "2021-06-17T14:08:19.559Z"
   },
   {
    "duration": 281,
    "start_time": "2021-06-17T14:08:30.142Z"
   },
   {
    "duration": 13,
    "start_time": "2021-06-17T14:08:36.219Z"
   },
   {
    "duration": 301,
    "start_time": "2021-06-17T15:11:29.440Z"
   },
   {
    "duration": 734,
    "start_time": "2021-06-17T15:11:36.580Z"
   },
   {
    "duration": 90,
    "start_time": "2021-06-17T15:11:37.317Z"
   },
   {
    "duration": 25,
    "start_time": "2021-06-17T15:11:37.413Z"
   },
   {
    "duration": 18,
    "start_time": "2021-06-17T15:11:37.454Z"
   },
   {
    "duration": 14,
    "start_time": "2021-06-17T15:11:37.474Z"
   },
   {
    "duration": 79,
    "start_time": "2021-06-17T15:11:37.490Z"
   },
   {
    "duration": 12,
    "start_time": "2021-06-17T15:11:37.573Z"
   },
   {
    "duration": 9,
    "start_time": "2021-06-17T15:11:37.588Z"
   },
   {
    "duration": 17,
    "start_time": "2021-06-17T15:11:37.600Z"
   },
   {
    "duration": 37,
    "start_time": "2021-06-17T15:11:37.619Z"
   },
   {
    "duration": 4,
    "start_time": "2021-06-17T15:11:37.659Z"
   },
   {
    "duration": 29,
    "start_time": "2021-06-17T15:11:37.666Z"
   },
   {
    "duration": 8,
    "start_time": "2021-06-17T15:11:37.698Z"
   },
   {
    "duration": 15,
    "start_time": "2021-06-17T15:11:37.709Z"
   },
   {
    "duration": 27,
    "start_time": "2021-06-17T15:11:37.727Z"
   },
   {
    "duration": 21,
    "start_time": "2021-06-17T15:11:37.757Z"
   },
   {
    "duration": 27,
    "start_time": "2021-06-17T15:11:37.780Z"
   },
   {
    "duration": 36,
    "start_time": "2021-06-17T15:11:37.810Z"
   },
   {
    "duration": 26,
    "start_time": "2021-06-17T15:11:37.854Z"
   },
   {
    "duration": 23,
    "start_time": "2021-06-17T15:11:37.882Z"
   },
   {
    "duration": 16,
    "start_time": "2021-06-17T15:11:37.907Z"
   },
   {
    "duration": 7,
    "start_time": "2021-06-17T15:11:37.954Z"
   },
   {
    "duration": 17,
    "start_time": "2021-06-17T15:11:37.965Z"
   },
   {
    "duration": 3380,
    "start_time": "2021-06-17T15:11:37.984Z"
   },
   {
    "duration": 4,
    "start_time": "2021-06-17T15:11:41.367Z"
   },
   {
    "duration": 408,
    "start_time": "2021-06-17T15:11:41.374Z"
   },
   {
    "duration": 9,
    "start_time": "2021-06-17T15:11:41.785Z"
   },
   {
    "duration": 44,
    "start_time": "2021-06-17T15:11:41.796Z"
   },
   {
    "duration": 18,
    "start_time": "2021-06-17T15:11:41.842Z"
   },
   {
    "duration": 370,
    "start_time": "2021-06-17T15:11:41.863Z"
   },
   {
    "duration": 10,
    "start_time": "2021-06-17T15:11:42.235Z"
   },
   {
    "duration": 14,
    "start_time": "2021-06-17T15:11:42.255Z"
   },
   {
    "duration": 24,
    "start_time": "2021-06-17T15:11:42.271Z"
   },
   {
    "duration": 26,
    "start_time": "2021-06-17T15:11:42.297Z"
   },
   {
    "duration": 30,
    "start_time": "2021-06-17T15:11:42.325Z"
   },
   {
    "duration": 20,
    "start_time": "2021-06-17T15:11:42.358Z"
   },
   {
    "duration": 17,
    "start_time": "2021-06-17T15:11:42.380Z"
   },
   {
    "duration": 27,
    "start_time": "2021-06-17T15:11:42.399Z"
   },
   {
    "duration": 19,
    "start_time": "2021-06-17T15:11:42.428Z"
   },
   {
    "duration": 14,
    "start_time": "2021-06-17T15:11:42.449Z"
   },
   {
    "duration": 6,
    "start_time": "2021-06-17T15:11:42.465Z"
   },
   {
    "duration": 39,
    "start_time": "2021-06-17T15:11:42.474Z"
   },
   {
    "duration": 11,
    "start_time": "2021-06-17T15:11:42.516Z"
   },
   {
    "duration": 24,
    "start_time": "2021-06-17T15:11:42.529Z"
   },
   {
    "duration": 17,
    "start_time": "2021-06-17T15:11:42.556Z"
   },
   {
    "duration": 13,
    "start_time": "2021-06-17T15:11:42.575Z"
   },
   {
    "duration": 8,
    "start_time": "2021-06-17T15:11:42.591Z"
   },
   {
    "duration": 30,
    "start_time": "2021-06-17T15:11:42.601Z"
   },
   {
    "duration": 29,
    "start_time": "2021-06-17T15:11:42.633Z"
   },
   {
    "duration": 22,
    "start_time": "2021-06-17T15:11:42.664Z"
   },
   {
    "duration": 24,
    "start_time": "2021-06-17T15:11:42.688Z"
   },
   {
    "duration": 4,
    "start_time": "2021-06-17T15:11:42.714Z"
   },
   {
    "duration": 41,
    "start_time": "2021-06-17T15:11:42.720Z"
   },
   {
    "duration": 31,
    "start_time": "2021-06-17T15:11:42.763Z"
   },
   {
    "duration": 20,
    "start_time": "2021-06-17T15:11:42.796Z"
   },
   {
    "duration": 22,
    "start_time": "2021-06-17T15:12:15.737Z"
   },
   {
    "duration": 620,
    "start_time": "2021-06-17T15:12:42.536Z"
   },
   {
    "duration": 767,
    "start_time": "2021-06-17T15:12:55.962Z"
   },
   {
    "duration": 88,
    "start_time": "2021-06-17T15:12:56.732Z"
   },
   {
    "duration": 32,
    "start_time": "2021-06-17T15:12:56.827Z"
   },
   {
    "duration": 18,
    "start_time": "2021-06-17T15:12:56.862Z"
   },
   {
    "duration": 12,
    "start_time": "2021-06-17T15:12:56.882Z"
   },
   {
    "duration": 76,
    "start_time": "2021-06-17T15:12:56.897Z"
   },
   {
    "duration": 12,
    "start_time": "2021-06-17T15:12:56.977Z"
   },
   {
    "duration": 7,
    "start_time": "2021-06-17T15:12:56.992Z"
   },
   {
    "duration": 12,
    "start_time": "2021-06-17T15:12:57.001Z"
   },
   {
    "duration": 43,
    "start_time": "2021-06-17T15:12:57.015Z"
   },
   {
    "duration": 5,
    "start_time": "2021-06-17T15:12:57.061Z"
   },
   {
    "duration": 13,
    "start_time": "2021-06-17T15:12:57.069Z"
   },
   {
    "duration": 7,
    "start_time": "2021-06-17T15:12:57.084Z"
   },
   {
    "duration": 16,
    "start_time": "2021-06-17T15:12:57.094Z"
   },
   {
    "duration": 43,
    "start_time": "2021-06-17T15:12:57.113Z"
   },
   {
    "duration": 21,
    "start_time": "2021-06-17T15:12:57.158Z"
   },
   {
    "duration": 18,
    "start_time": "2021-06-17T15:12:57.182Z"
   },
   {
    "duration": 28,
    "start_time": "2021-06-17T15:12:57.202Z"
   },
   {
    "duration": 27,
    "start_time": "2021-06-17T15:12:57.255Z"
   },
   {
    "duration": 22,
    "start_time": "2021-06-17T15:12:57.284Z"
   },
   {
    "duration": 45,
    "start_time": "2021-06-17T15:12:57.309Z"
   },
   {
    "duration": 9,
    "start_time": "2021-06-17T15:12:57.363Z"
   },
   {
    "duration": 7,
    "start_time": "2021-06-17T15:12:57.375Z"
   },
   {
    "duration": 3316,
    "start_time": "2021-06-17T15:12:57.384Z"
   },
   {
    "duration": 5,
    "start_time": "2021-06-17T15:13:00.703Z"
   },
   {
    "duration": 389,
    "start_time": "2021-06-17T15:13:00.710Z"
   },
   {
    "duration": 9,
    "start_time": "2021-06-17T15:13:01.102Z"
   },
   {
    "duration": 44,
    "start_time": "2021-06-17T15:13:01.113Z"
   },
   {
    "duration": 5,
    "start_time": "2021-06-17T15:13:01.159Z"
   },
   {
    "duration": 398,
    "start_time": "2021-06-17T15:13:01.167Z"
   },
   {
    "duration": 22,
    "start_time": "2021-06-17T15:13:01.568Z"
   },
   {
    "duration": 16,
    "start_time": "2021-06-17T15:13:01.593Z"
   },
   {
    "duration": 23,
    "start_time": "2021-06-17T15:13:01.611Z"
   },
   {
    "duration": 28,
    "start_time": "2021-06-17T15:13:01.637Z"
   },
   {
    "duration": 40,
    "start_time": "2021-06-17T15:13:01.668Z"
   },
   {
    "duration": 33,
    "start_time": "2021-06-17T15:13:01.711Z"
   },
   {
    "duration": 13,
    "start_time": "2021-06-17T15:13:01.746Z"
   },
   {
    "duration": 20,
    "start_time": "2021-06-17T15:13:01.761Z"
   },
   {
    "duration": 52,
    "start_time": "2021-06-17T15:13:01.783Z"
   },
   {
    "duration": 19,
    "start_time": "2021-06-17T15:13:01.837Z"
   },
   {
    "duration": 23,
    "start_time": "2021-06-17T15:13:01.859Z"
   },
   {
    "duration": 15,
    "start_time": "2021-06-17T15:13:01.884Z"
   },
   {
    "duration": 41,
    "start_time": "2021-06-17T15:13:01.901Z"
   },
   {
    "duration": 25,
    "start_time": "2021-06-17T15:13:01.944Z"
   },
   {
    "duration": 37,
    "start_time": "2021-06-17T15:13:01.972Z"
   },
   {
    "duration": 15,
    "start_time": "2021-06-17T15:13:02.012Z"
   },
   {
    "duration": 12,
    "start_time": "2021-06-17T15:13:02.030Z"
   },
   {
    "duration": 29,
    "start_time": "2021-06-17T15:13:02.045Z"
   },
   {
    "duration": 54,
    "start_time": "2021-06-17T15:13:02.076Z"
   },
   {
    "duration": 20,
    "start_time": "2021-06-17T15:13:02.133Z"
   },
   {
    "duration": 22,
    "start_time": "2021-06-17T15:13:02.156Z"
   },
   {
    "duration": 37,
    "start_time": "2021-06-17T15:13:02.180Z"
   },
   {
    "duration": 3,
    "start_time": "2021-06-17T15:13:02.220Z"
   },
   {
    "duration": 31,
    "start_time": "2021-06-17T15:13:02.226Z"
   },
   {
    "duration": 29,
    "start_time": "2021-06-17T15:13:02.260Z"
   },
   {
    "duration": 21,
    "start_time": "2021-06-17T15:13:02.291Z"
   },
   {
    "duration": 742,
    "start_time": "2021-06-17T15:18:57.672Z"
   },
   {
    "duration": 92,
    "start_time": "2021-06-17T15:18:58.417Z"
   },
   {
    "duration": 23,
    "start_time": "2021-06-17T15:18:58.512Z"
   },
   {
    "duration": 28,
    "start_time": "2021-06-17T15:18:58.538Z"
   },
   {
    "duration": 13,
    "start_time": "2021-06-17T15:18:58.568Z"
   },
   {
    "duration": 75,
    "start_time": "2021-06-17T15:18:58.584Z"
   },
   {
    "duration": 13,
    "start_time": "2021-06-17T15:18:58.661Z"
   },
   {
    "duration": 13,
    "start_time": "2021-06-17T15:18:58.678Z"
   },
   {
    "duration": 12,
    "start_time": "2021-06-17T15:18:58.695Z"
   },
   {
    "duration": 7,
    "start_time": "2021-06-17T15:18:58.710Z"
   },
   {
    "duration": 5,
    "start_time": "2021-06-17T15:18:58.755Z"
   },
   {
    "duration": 13,
    "start_time": "2021-06-17T15:18:58.762Z"
   },
   {
    "duration": 16,
    "start_time": "2021-06-17T15:18:58.778Z"
   },
   {
    "duration": 23,
    "start_time": "2021-06-17T15:18:58.797Z"
   },
   {
    "duration": 31,
    "start_time": "2021-06-17T15:18:58.824Z"
   },
   {
    "duration": 25,
    "start_time": "2021-06-17T15:18:58.858Z"
   },
   {
    "duration": 27,
    "start_time": "2021-06-17T15:18:58.886Z"
   },
   {
    "duration": 56,
    "start_time": "2021-06-17T15:18:58.916Z"
   },
   {
    "duration": 27,
    "start_time": "2021-06-17T15:18:58.975Z"
   },
   {
    "duration": 23,
    "start_time": "2021-06-17T15:18:59.004Z"
   },
   {
    "duration": 18,
    "start_time": "2021-06-17T15:18:59.054Z"
   },
   {
    "duration": 17,
    "start_time": "2021-06-17T15:18:59.074Z"
   },
   {
    "duration": 12,
    "start_time": "2021-06-17T15:18:59.101Z"
   },
   {
    "duration": 3541,
    "start_time": "2021-06-17T15:18:59.118Z"
   },
   {
    "duration": 6,
    "start_time": "2021-06-17T15:19:02.662Z"
   },
   {
    "duration": 810,
    "start_time": "2021-06-17T15:19:02.671Z"
   },
   {
    "duration": 15,
    "start_time": "2021-06-17T15:19:03.484Z"
   },
   {
    "duration": 45,
    "start_time": "2021-06-17T15:19:03.502Z"
   },
   {
    "duration": 12,
    "start_time": "2021-06-17T15:19:03.555Z"
   },
   {
    "duration": 743,
    "start_time": "2021-06-17T15:19:03.571Z"
   },
   {
    "duration": 40,
    "start_time": "2021-06-17T15:19:04.318Z"
   },
   {
    "duration": 18,
    "start_time": "2021-06-17T15:19:04.361Z"
   },
   {
    "duration": 25,
    "start_time": "2021-06-17T15:19:04.383Z"
   },
   {
    "duration": 22,
    "start_time": "2021-06-17T15:19:04.411Z"
   },
   {
    "duration": 22,
    "start_time": "2021-06-17T15:19:04.436Z"
   },
   {
    "duration": 27,
    "start_time": "2021-06-17T15:19:04.461Z"
   },
   {
    "duration": 33,
    "start_time": "2021-06-17T15:19:04.490Z"
   },
   {
    "duration": 8,
    "start_time": "2021-06-17T15:19:04.526Z"
   },
   {
    "duration": 28,
    "start_time": "2021-06-17T15:19:04.536Z"
   },
   {
    "duration": 29,
    "start_time": "2021-06-17T15:19:04.566Z"
   },
   {
    "duration": 20,
    "start_time": "2021-06-17T15:19:04.598Z"
   },
   {
    "duration": 9,
    "start_time": "2021-06-17T15:19:04.620Z"
   },
   {
    "duration": 39,
    "start_time": "2021-06-17T15:19:04.631Z"
   },
   {
    "duration": 10,
    "start_time": "2021-06-17T15:19:04.673Z"
   },
   {
    "duration": 24,
    "start_time": "2021-06-17T15:19:04.686Z"
   },
   {
    "duration": 22,
    "start_time": "2021-06-17T15:19:04.713Z"
   },
   {
    "duration": 22,
    "start_time": "2021-06-17T15:19:04.737Z"
   },
   {
    "duration": 13,
    "start_time": "2021-06-17T15:19:04.761Z"
   },
   {
    "duration": 34,
    "start_time": "2021-06-17T15:19:04.776Z"
   },
   {
    "duration": 13,
    "start_time": "2021-06-17T15:19:04.813Z"
   },
   {
    "duration": 28,
    "start_time": "2021-06-17T15:19:04.829Z"
   },
   {
    "duration": 30,
    "start_time": "2021-06-17T15:19:04.859Z"
   },
   {
    "duration": 4,
    "start_time": "2021-06-17T15:19:04.892Z"
   },
   {
    "duration": 29,
    "start_time": "2021-06-17T15:19:04.899Z"
   },
   {
    "duration": 39,
    "start_time": "2021-06-17T15:19:04.931Z"
   },
   {
    "duration": 26,
    "start_time": "2021-06-17T15:19:04.973Z"
   },
   {
    "duration": 15,
    "start_time": "2021-06-17T15:25:16.705Z"
   },
   {
    "duration": 15,
    "start_time": "2021-06-17T15:25:39.970Z"
   },
   {
    "duration": 16,
    "start_time": "2021-06-17T15:26:16.049Z"
   },
   {
    "duration": 15,
    "start_time": "2021-06-17T15:26:21.988Z"
   },
   {
    "duration": 15,
    "start_time": "2021-06-17T15:27:05.826Z"
   },
   {
    "duration": 738,
    "start_time": "2021-06-17T15:27:28.986Z"
   },
   {
    "duration": 90,
    "start_time": "2021-06-17T15:27:29.727Z"
   },
   {
    "duration": 36,
    "start_time": "2021-06-17T15:27:29.820Z"
   },
   {
    "duration": 15,
    "start_time": "2021-06-17T15:27:29.858Z"
   },
   {
    "duration": 12,
    "start_time": "2021-06-17T15:27:29.875Z"
   },
   {
    "duration": 91,
    "start_time": "2021-06-17T15:27:29.890Z"
   },
   {
    "duration": 13,
    "start_time": "2021-06-17T15:27:29.984Z"
   },
   {
    "duration": 8,
    "start_time": "2021-06-17T15:27:30.001Z"
   },
   {
    "duration": 51,
    "start_time": "2021-06-17T15:27:30.012Z"
   },
   {
    "duration": 8,
    "start_time": "2021-06-17T15:27:30.066Z"
   },
   {
    "duration": 6,
    "start_time": "2021-06-17T15:27:30.076Z"
   },
   {
    "duration": 20,
    "start_time": "2021-06-17T15:27:30.084Z"
   },
   {
    "duration": 15,
    "start_time": "2021-06-17T15:27:30.107Z"
   },
   {
    "duration": 39,
    "start_time": "2021-06-17T15:27:30.124Z"
   },
   {
    "duration": 20,
    "start_time": "2021-06-17T15:27:30.165Z"
   },
   {
    "duration": 25,
    "start_time": "2021-06-17T15:27:30.187Z"
   },
   {
    "duration": 42,
    "start_time": "2021-06-17T15:27:30.215Z"
   },
   {
    "duration": 38,
    "start_time": "2021-06-17T15:27:30.260Z"
   },
   {
    "duration": 29,
    "start_time": "2021-06-17T15:27:30.300Z"
   },
   {
    "duration": 44,
    "start_time": "2021-06-17T15:27:30.331Z"
   },
   {
    "duration": 18,
    "start_time": "2021-06-17T15:27:30.378Z"
   },
   {
    "duration": 19,
    "start_time": "2021-06-17T15:27:30.398Z"
   },
   {
    "duration": 36,
    "start_time": "2021-06-17T15:27:30.424Z"
   },
   {
    "duration": 3228,
    "start_time": "2021-06-17T15:27:30.463Z"
   },
   {
    "duration": 4,
    "start_time": "2021-06-17T15:27:33.694Z"
   },
   {
    "duration": 406,
    "start_time": "2021-06-17T15:27:33.701Z"
   },
   {
    "duration": 9,
    "start_time": "2021-06-17T15:27:34.109Z"
   },
   {
    "duration": 44,
    "start_time": "2021-06-17T15:27:34.120Z"
   },
   {
    "duration": 11,
    "start_time": "2021-06-17T15:27:34.167Z"
   },
   {
    "duration": 406,
    "start_time": "2021-06-17T15:27:34.180Z"
   },
   {
    "duration": 22,
    "start_time": "2021-06-17T15:27:34.588Z"
   },
   {
    "duration": 14,
    "start_time": "2021-06-17T15:27:34.612Z"
   },
   {
    "duration": 35,
    "start_time": "2021-06-17T15:27:34.628Z"
   },
   {
    "duration": 14,
    "start_time": "2021-06-17T15:27:34.666Z"
   },
   {
    "duration": 18,
    "start_time": "2021-06-17T15:27:34.684Z"
   },
   {
    "duration": 51,
    "start_time": "2021-06-17T15:27:34.705Z"
   },
   {
    "duration": 14,
    "start_time": "2021-06-17T15:27:34.759Z"
   },
   {
    "duration": 5,
    "start_time": "2021-06-17T15:27:34.776Z"
   },
   {
    "duration": 13,
    "start_time": "2021-06-17T15:27:34.784Z"
   },
   {
    "duration": 14,
    "start_time": "2021-06-17T15:27:34.799Z"
   },
   {
    "duration": 47,
    "start_time": "2021-06-17T15:27:34.816Z"
   },
   {
    "duration": 5,
    "start_time": "2021-06-17T15:27:34.865Z"
   },
   {
    "duration": 30,
    "start_time": "2021-06-17T15:27:34.872Z"
   },
   {
    "duration": 5,
    "start_time": "2021-06-17T15:27:34.904Z"
   },
   {
    "duration": 48,
    "start_time": "2021-06-17T15:27:34.911Z"
   },
   {
    "duration": 14,
    "start_time": "2021-06-17T15:27:34.961Z"
   },
   {
    "duration": 11,
    "start_time": "2021-06-17T15:27:34.978Z"
   },
   {
    "duration": 9,
    "start_time": "2021-06-17T15:27:34.991Z"
   },
   {
    "duration": 15,
    "start_time": "2021-06-17T15:27:35.003Z"
   },
   {
    "duration": 15,
    "start_time": "2021-06-17T15:27:35.053Z"
   },
   {
    "duration": 13,
    "start_time": "2021-06-17T15:27:35.071Z"
   },
   {
    "duration": 26,
    "start_time": "2021-06-17T15:27:35.087Z"
   },
   {
    "duration": 38,
    "start_time": "2021-06-17T15:27:35.116Z"
   },
   {
    "duration": 29,
    "start_time": "2021-06-17T15:27:35.157Z"
   },
   {
    "duration": 25,
    "start_time": "2021-06-17T15:27:35.189Z"
   },
   {
    "duration": 21,
    "start_time": "2021-06-17T15:27:35.216Z"
   },
   {
    "duration": 14,
    "start_time": "2021-06-17T15:31:58.010Z"
   },
   {
    "duration": 758,
    "start_time": "2021-06-17T16:22:07.241Z"
   },
   {
    "duration": 88,
    "start_time": "2021-06-17T16:22:08.001Z"
   },
   {
    "duration": 24,
    "start_time": "2021-06-17T16:22:08.092Z"
   },
   {
    "duration": 46,
    "start_time": "2021-06-17T16:22:08.119Z"
   },
   {
    "duration": 17,
    "start_time": "2021-06-17T16:22:08.168Z"
   },
   {
    "duration": 92,
    "start_time": "2021-06-17T16:22:08.188Z"
   },
   {
    "duration": 11,
    "start_time": "2021-06-17T16:22:08.282Z"
   },
   {
    "duration": 7,
    "start_time": "2021-06-17T16:22:08.297Z"
   },
   {
    "duration": 48,
    "start_time": "2021-06-17T16:22:08.308Z"
   },
   {
    "duration": 8,
    "start_time": "2021-06-17T16:22:08.358Z"
   },
   {
    "duration": 5,
    "start_time": "2021-06-17T16:22:08.368Z"
   },
   {
    "duration": 6,
    "start_time": "2021-06-17T16:22:08.375Z"
   },
   {
    "duration": 13,
    "start_time": "2021-06-17T16:22:08.383Z"
   },
   {
    "duration": 19,
    "start_time": "2021-06-17T16:22:08.398Z"
   },
   {
    "duration": 10,
    "start_time": "2021-06-17T16:22:08.455Z"
   },
   {
    "duration": 20,
    "start_time": "2021-06-17T16:22:08.467Z"
   },
   {
    "duration": 18,
    "start_time": "2021-06-17T16:22:08.489Z"
   },
   {
    "duration": 66,
    "start_time": "2021-06-17T16:22:08.509Z"
   },
   {
    "duration": 27,
    "start_time": "2021-06-17T16:22:08.577Z"
   },
   {
    "duration": 50,
    "start_time": "2021-06-17T16:22:08.606Z"
   },
   {
    "duration": 17,
    "start_time": "2021-06-17T16:22:08.658Z"
   },
   {
    "duration": 19,
    "start_time": "2021-06-17T16:22:08.678Z"
   },
   {
    "duration": 16,
    "start_time": "2021-06-17T16:22:08.702Z"
   },
   {
    "duration": 3201,
    "start_time": "2021-06-17T16:22:08.721Z"
   },
   {
    "duration": 4,
    "start_time": "2021-06-17T16:22:11.925Z"
   },
   {
    "duration": 395,
    "start_time": "2021-06-17T16:22:11.932Z"
   },
   {
    "duration": 9,
    "start_time": "2021-06-17T16:22:12.329Z"
   },
   {
    "duration": 37,
    "start_time": "2021-06-17T16:22:12.339Z"
   },
   {
    "duration": 8,
    "start_time": "2021-06-17T16:22:12.379Z"
   },
   {
    "duration": 401,
    "start_time": "2021-06-17T16:22:12.390Z"
   },
   {
    "duration": 21,
    "start_time": "2021-06-17T16:22:12.794Z"
   },
   {
    "duration": 39,
    "start_time": "2021-06-17T16:22:12.817Z"
   },
   {
    "duration": 10,
    "start_time": "2021-06-17T16:22:12.858Z"
   },
   {
    "duration": 17,
    "start_time": "2021-06-17T16:22:12.870Z"
   },
   {
    "duration": 14,
    "start_time": "2021-06-17T16:22:12.890Z"
   },
   {
    "duration": 51,
    "start_time": "2021-06-17T16:22:12.906Z"
   },
   {
    "duration": 12,
    "start_time": "2021-06-17T16:22:12.959Z"
   },
   {
    "duration": 11,
    "start_time": "2021-06-17T16:22:12.974Z"
   },
   {
    "duration": 11,
    "start_time": "2021-06-17T16:22:12.988Z"
   },
   {
    "duration": 52,
    "start_time": "2021-06-17T16:22:13.002Z"
   },
   {
    "duration": 28,
    "start_time": "2021-06-17T16:22:13.057Z"
   },
   {
    "duration": 8,
    "start_time": "2021-06-17T16:22:13.087Z"
   },
   {
    "duration": 20,
    "start_time": "2021-06-17T16:22:13.097Z"
   },
   {
    "duration": 15,
    "start_time": "2021-06-17T16:22:13.155Z"
   },
   {
    "duration": 11,
    "start_time": "2021-06-17T16:22:13.172Z"
   },
   {
    "duration": 4,
    "start_time": "2021-06-17T16:22:13.187Z"
   },
   {
    "duration": 21,
    "start_time": "2021-06-17T16:22:13.193Z"
   },
   {
    "duration": 14,
    "start_time": "2021-06-17T16:22:13.255Z"
   },
   {
    "duration": 13,
    "start_time": "2021-06-17T16:22:13.272Z"
   },
   {
    "duration": 15,
    "start_time": "2021-06-17T16:22:13.287Z"
   },
   {
    "duration": 54,
    "start_time": "2021-06-17T16:22:13.304Z"
   },
   {
    "duration": 22,
    "start_time": "2021-06-17T16:22:13.360Z"
   },
   {
    "duration": 21,
    "start_time": "2021-06-17T16:22:13.384Z"
   },
   {
    "duration": 6,
    "start_time": "2021-06-17T16:25:30.538Z"
   },
   {
    "duration": 26,
    "start_time": "2021-06-17T16:25:51.067Z"
   },
   {
    "duration": 48,
    "start_time": "2021-06-17T16:27:04.100Z"
   },
   {
    "duration": 11,
    "start_time": "2021-06-17T16:27:24.987Z"
   },
   {
    "duration": 6,
    "start_time": "2021-06-17T16:28:54.671Z"
   },
   {
    "duration": 10,
    "start_time": "2021-06-17T16:29:07.614Z"
   },
   {
    "duration": 25,
    "start_time": "2021-06-17T16:29:30.776Z"
   },
   {
    "duration": 11,
    "start_time": "2021-06-17T16:29:58.284Z"
   },
   {
    "duration": 6,
    "start_time": "2021-06-17T16:33:07.302Z"
   },
   {
    "duration": 5,
    "start_time": "2021-06-17T16:33:38.502Z"
   },
   {
    "duration": 12,
    "start_time": "2021-06-17T16:33:47.046Z"
   },
   {
    "duration": 48,
    "start_time": "2021-06-17T16:35:59.916Z"
   },
   {
    "duration": 26,
    "start_time": "2021-06-17T16:36:28.894Z"
   },
   {
    "duration": 47,
    "start_time": "2021-06-17T16:38:26.935Z"
   },
   {
    "duration": 52,
    "start_time": "2021-06-17T16:39:37.339Z"
   },
   {
    "duration": 19,
    "start_time": "2021-06-17T16:40:28.812Z"
   },
   {
    "duration": 46,
    "start_time": "2021-06-17T16:41:16.854Z"
   },
   {
    "duration": 720,
    "start_time": "2021-06-17T16:41:32.583Z"
   },
   {
    "duration": 90,
    "start_time": "2021-06-17T16:41:33.306Z"
   },
   {
    "duration": 22,
    "start_time": "2021-06-17T16:41:33.399Z"
   },
   {
    "duration": 41,
    "start_time": "2021-06-17T16:41:33.424Z"
   },
   {
    "duration": 13,
    "start_time": "2021-06-17T16:41:33.467Z"
   },
   {
    "duration": 76,
    "start_time": "2021-06-17T16:41:33.482Z"
   },
   {
    "duration": 13,
    "start_time": "2021-06-17T16:41:33.560Z"
   },
   {
    "duration": 11,
    "start_time": "2021-06-17T16:41:33.575Z"
   },
   {
    "duration": 12,
    "start_time": "2021-06-17T16:41:33.590Z"
   },
   {
    "duration": 53,
    "start_time": "2021-06-17T16:41:33.606Z"
   },
   {
    "duration": 5,
    "start_time": "2021-06-17T16:41:33.661Z"
   },
   {
    "duration": 7,
    "start_time": "2021-06-17T16:41:33.668Z"
   },
   {
    "duration": 6,
    "start_time": "2021-06-17T16:41:33.678Z"
   },
   {
    "duration": 13,
    "start_time": "2021-06-17T16:41:33.686Z"
   },
   {
    "duration": 57,
    "start_time": "2021-06-17T16:41:33.702Z"
   },
   {
    "duration": 17,
    "start_time": "2021-06-17T16:41:33.762Z"
   },
   {
    "duration": 17,
    "start_time": "2021-06-17T16:41:33.781Z"
   },
   {
    "duration": 65,
    "start_time": "2021-06-17T16:41:33.801Z"
   },
   {
    "duration": 26,
    "start_time": "2021-06-17T16:41:33.868Z"
   },
   {
    "duration": 22,
    "start_time": "2021-06-17T16:41:33.896Z"
   },
   {
    "duration": 50,
    "start_time": "2021-06-17T16:41:33.920Z"
   },
   {
    "duration": 11,
    "start_time": "2021-06-17T16:41:33.972Z"
   },
   {
    "duration": 7,
    "start_time": "2021-06-17T16:41:33.985Z"
   },
   {
    "duration": 3462,
    "start_time": "2021-06-17T16:41:33.994Z"
   },
   {
    "duration": 5,
    "start_time": "2021-06-17T16:41:37.458Z"
   },
   {
    "duration": 439,
    "start_time": "2021-06-17T16:41:37.465Z"
   },
   {
    "duration": 9,
    "start_time": "2021-06-17T16:41:37.910Z"
   },
   {
    "duration": 41,
    "start_time": "2021-06-17T16:41:37.921Z"
   },
   {
    "duration": 16,
    "start_time": "2021-06-17T16:41:37.964Z"
   },
   {
    "duration": 398,
    "start_time": "2021-06-17T16:41:37.983Z"
   },
   {
    "duration": 21,
    "start_time": "2021-06-17T16:41:38.383Z"
   },
   {
    "duration": 28,
    "start_time": "2021-06-17T16:41:38.406Z"
   },
   {
    "duration": 21,
    "start_time": "2021-06-17T16:41:38.436Z"
   },
   {
    "duration": 29,
    "start_time": "2021-06-17T16:41:38.460Z"
   },
   {
    "duration": 32,
    "start_time": "2021-06-17T16:41:38.491Z"
   },
   {
    "duration": 30,
    "start_time": "2021-06-17T16:41:38.525Z"
   },
   {
    "duration": 24,
    "start_time": "2021-06-17T16:41:38.557Z"
   },
   {
    "duration": 24,
    "start_time": "2021-06-17T16:41:38.583Z"
   },
   {
    "duration": 16,
    "start_time": "2021-06-17T16:41:38.610Z"
   },
   {
    "duration": 27,
    "start_time": "2021-06-17T16:41:38.629Z"
   },
   {
    "duration": 56,
    "start_time": "2021-06-17T16:41:38.658Z"
   },
   {
    "duration": 10,
    "start_time": "2021-06-17T16:41:38.717Z"
   },
   {
    "duration": 24,
    "start_time": "2021-06-17T16:41:38.730Z"
   },
   {
    "duration": 49,
    "start_time": "2021-06-17T16:41:38.757Z"
   },
   {
    "duration": 11,
    "start_time": "2021-06-17T16:41:38.808Z"
   },
   {
    "duration": 35,
    "start_time": "2021-06-17T16:41:38.821Z"
   },
   {
    "duration": 29,
    "start_time": "2021-06-17T16:41:38.859Z"
   },
   {
    "duration": 22,
    "start_time": "2021-06-17T16:41:38.891Z"
   },
   {
    "duration": 13,
    "start_time": "2021-06-17T16:41:38.915Z"
   },
   {
    "duration": 32,
    "start_time": "2021-06-17T16:41:38.930Z"
   },
   {
    "duration": 17,
    "start_time": "2021-06-17T16:41:38.966Z"
   },
   {
    "duration": 16,
    "start_time": "2021-06-17T16:41:38.986Z"
   },
   {
    "duration": 51,
    "start_time": "2021-06-17T16:41:39.005Z"
   },
   {
    "duration": 38,
    "start_time": "2021-06-17T16:41:39.058Z"
   },
   {
    "duration": 30,
    "start_time": "2021-06-17T16:41:39.098Z"
   },
   {
    "duration": 28,
    "start_time": "2021-06-17T16:41:39.131Z"
   },
   {
    "duration": 694,
    "start_time": "2021-06-17T16:44:00.977Z"
   },
   {
    "duration": 360,
    "start_time": "2021-06-17T16:45:44.626Z"
   },
   {
    "duration": 720,
    "start_time": "2021-06-17T16:45:58.381Z"
   },
   {
    "duration": 93,
    "start_time": "2021-06-17T16:45:59.104Z"
   },
   {
    "duration": 24,
    "start_time": "2021-06-17T16:45:59.206Z"
   },
   {
    "duration": 14,
    "start_time": "2021-06-17T16:45:59.255Z"
   },
   {
    "duration": 21,
    "start_time": "2021-06-17T16:45:59.272Z"
   },
   {
    "duration": 79,
    "start_time": "2021-06-17T16:45:59.295Z"
   },
   {
    "duration": 12,
    "start_time": "2021-06-17T16:45:59.377Z"
   },
   {
    "duration": 11,
    "start_time": "2021-06-17T16:45:59.393Z"
   },
   {
    "duration": 51,
    "start_time": "2021-06-17T16:45:59.407Z"
   },
   {
    "duration": 8,
    "start_time": "2021-06-17T16:45:59.461Z"
   },
   {
    "duration": 21,
    "start_time": "2021-06-17T16:45:59.471Z"
   },
   {
    "duration": 10,
    "start_time": "2021-06-17T16:45:59.495Z"
   },
   {
    "duration": 5,
    "start_time": "2021-06-17T16:45:59.508Z"
   },
   {
    "duration": 42,
    "start_time": "2021-06-17T16:45:59.515Z"
   },
   {
    "duration": 13,
    "start_time": "2021-06-17T16:45:59.560Z"
   },
   {
    "duration": 31,
    "start_time": "2021-06-17T16:45:59.575Z"
   },
   {
    "duration": 48,
    "start_time": "2021-06-17T16:45:59.608Z"
   },
   {
    "duration": 29,
    "start_time": "2021-06-17T16:45:59.659Z"
   },
   {
    "duration": 63,
    "start_time": "2021-06-17T16:45:59.691Z"
   },
   {
    "duration": 26,
    "start_time": "2021-06-17T16:45:59.757Z"
   },
   {
    "duration": 18,
    "start_time": "2021-06-17T16:45:59.786Z"
   },
   {
    "duration": 48,
    "start_time": "2021-06-17T16:45:59.810Z"
   },
   {
    "duration": 18,
    "start_time": "2021-06-17T16:45:59.861Z"
   },
   {
    "duration": 3191,
    "start_time": "2021-06-17T16:45:59.881Z"
   },
   {
    "duration": 6,
    "start_time": "2021-06-17T16:46:03.075Z"
   },
   {
    "duration": 413,
    "start_time": "2021-06-17T16:46:03.084Z"
   },
   {
    "duration": 10,
    "start_time": "2021-06-17T16:46:03.500Z"
   },
   {
    "duration": 43,
    "start_time": "2021-06-17T16:46:03.513Z"
   },
   {
    "duration": 5,
    "start_time": "2021-06-17T16:46:03.559Z"
   },
   {
    "duration": 389,
    "start_time": "2021-06-17T16:46:03.566Z"
   },
   {
    "duration": 20,
    "start_time": "2021-06-17T16:46:03.958Z"
   },
   {
    "duration": 15,
    "start_time": "2021-06-17T16:46:03.981Z"
   },
   {
    "duration": 12,
    "start_time": "2021-06-17T16:46:03.998Z"
   },
   {
    "duration": 45,
    "start_time": "2021-06-17T16:46:04.013Z"
   },
   {
    "duration": 13,
    "start_time": "2021-06-17T16:46:04.060Z"
   },
   {
    "duration": 13,
    "start_time": "2021-06-17T16:46:04.075Z"
   },
   {
    "duration": 16,
    "start_time": "2021-06-17T16:46:04.091Z"
   },
   {
    "duration": 47,
    "start_time": "2021-06-17T16:46:04.109Z"
   },
   {
    "duration": 357,
    "start_time": "2021-06-17T16:46:04.158Z"
   },
   {
    "duration": 43,
    "start_time": "2021-06-17T16:46:04.476Z"
   },
   {
    "duration": 34,
    "start_time": "2021-06-17T16:46:04.487Z"
   },
   {
    "duration": 27,
    "start_time": "2021-06-17T16:46:04.496Z"
   },
   {
    "duration": -1,
    "start_time": "2021-06-17T16:46:04.527Z"
   },
   {
    "duration": -3,
    "start_time": "2021-06-17T16:46:04.531Z"
   },
   {
    "duration": -13,
    "start_time": "2021-06-17T16:46:04.543Z"
   },
   {
    "duration": -14,
    "start_time": "2021-06-17T16:46:04.546Z"
   },
   {
    "duration": -22,
    "start_time": "2021-06-17T16:46:04.556Z"
   },
   {
    "duration": -23,
    "start_time": "2021-06-17T16:46:04.559Z"
   },
   {
    "duration": -24,
    "start_time": "2021-06-17T16:46:04.562Z"
   },
   {
    "duration": -32,
    "start_time": "2021-06-17T16:46:04.572Z"
   },
   {
    "duration": -33,
    "start_time": "2021-06-17T16:46:04.575Z"
   },
   {
    "duration": -34,
    "start_time": "2021-06-17T16:46:04.578Z"
   },
   {
    "duration": -36,
    "start_time": "2021-06-17T16:46:04.582Z"
   },
   {
    "duration": -37,
    "start_time": "2021-06-17T16:46:04.585Z"
   },
   {
    "duration": -39,
    "start_time": "2021-06-17T16:46:04.588Z"
   },
   {
    "duration": -40,
    "start_time": "2021-06-17T16:46:04.591Z"
   },
   {
    "duration": 7,
    "start_time": "2021-06-17T16:46:43.644Z"
   },
   {
    "duration": 12,
    "start_time": "2021-06-17T16:46:45.528Z"
   },
   {
    "duration": 256,
    "start_time": "2021-06-17T16:46:47.989Z"
   },
   {
    "duration": 754,
    "start_time": "2021-06-17T16:47:04.646Z"
   },
   {
    "duration": 89,
    "start_time": "2021-06-17T16:47:05.404Z"
   },
   {
    "duration": 23,
    "start_time": "2021-06-17T16:47:05.496Z"
   },
   {
    "duration": 44,
    "start_time": "2021-06-17T16:47:05.521Z"
   },
   {
    "duration": 13,
    "start_time": "2021-06-17T16:47:05.567Z"
   },
   {
    "duration": 75,
    "start_time": "2021-06-17T16:47:05.583Z"
   },
   {
    "duration": 12,
    "start_time": "2021-06-17T16:47:05.661Z"
   },
   {
    "duration": 12,
    "start_time": "2021-06-17T16:47:05.676Z"
   },
   {
    "duration": 14,
    "start_time": "2021-06-17T16:47:05.691Z"
   },
   {
    "duration": 49,
    "start_time": "2021-06-17T16:47:05.707Z"
   },
   {
    "duration": 14,
    "start_time": "2021-06-17T16:47:05.758Z"
   },
   {
    "duration": 12,
    "start_time": "2021-06-17T16:47:05.774Z"
   },
   {
    "duration": 15,
    "start_time": "2021-06-17T16:47:05.788Z"
   },
   {
    "duration": 15,
    "start_time": "2021-06-17T16:47:05.806Z"
   },
   {
    "duration": 32,
    "start_time": "2021-06-17T16:47:05.823Z"
   },
   {
    "duration": 19,
    "start_time": "2021-06-17T16:47:05.857Z"
   },
   {
    "duration": 29,
    "start_time": "2021-06-17T16:47:05.879Z"
   },
   {
    "duration": 56,
    "start_time": "2021-06-17T16:47:05.911Z"
   },
   {
    "duration": 25,
    "start_time": "2021-06-17T16:47:05.970Z"
   },
   {
    "duration": 24,
    "start_time": "2021-06-17T16:47:05.997Z"
   },
   {
    "duration": 46,
    "start_time": "2021-06-17T16:47:06.023Z"
   },
   {
    "duration": 9,
    "start_time": "2021-06-17T16:47:06.072Z"
   },
   {
    "duration": 7,
    "start_time": "2021-06-17T16:47:06.087Z"
   },
   {
    "duration": 3236,
    "start_time": "2021-06-17T16:47:06.097Z"
   },
   {
    "duration": 5,
    "start_time": "2021-06-17T16:47:09.335Z"
   },
   {
    "duration": 397,
    "start_time": "2021-06-17T16:47:09.354Z"
   },
   {
    "duration": 9,
    "start_time": "2021-06-17T16:47:09.755Z"
   },
   {
    "duration": 27,
    "start_time": "2021-06-17T16:47:09.767Z"
   },
   {
    "duration": 6,
    "start_time": "2021-06-17T16:47:09.797Z"
   },
   {
    "duration": 490,
    "start_time": "2021-06-17T16:47:09.806Z"
   },
   {
    "duration": 21,
    "start_time": "2021-06-17T16:47:10.298Z"
   },
   {
    "duration": 35,
    "start_time": "2021-06-17T16:47:10.321Z"
   },
   {
    "duration": 25,
    "start_time": "2021-06-17T16:47:10.358Z"
   },
   {
    "duration": 18,
    "start_time": "2021-06-17T16:47:10.385Z"
   },
   {
    "duration": 12,
    "start_time": "2021-06-17T16:47:10.406Z"
   },
   {
    "duration": 40,
    "start_time": "2021-06-17T16:47:10.420Z"
   },
   {
    "duration": 9,
    "start_time": "2021-06-17T16:47:10.463Z"
   },
   {
    "duration": 10,
    "start_time": "2021-06-17T16:47:10.475Z"
   },
   {
    "duration": 9,
    "start_time": "2021-06-17T16:47:10.487Z"
   },
   {
    "duration": 15,
    "start_time": "2021-06-17T16:47:10.498Z"
   },
   {
    "duration": 80,
    "start_time": "2021-06-17T16:47:10.515Z"
   },
   {
    "duration": 10,
    "start_time": "2021-06-17T16:47:10.598Z"
   },
   {
    "duration": 23,
    "start_time": "2021-06-17T16:47:10.610Z"
   },
   {
    "duration": 48,
    "start_time": "2021-06-17T16:47:10.635Z"
   },
   {
    "duration": 16,
    "start_time": "2021-06-17T16:47:10.687Z"
   },
   {
    "duration": 25,
    "start_time": "2021-06-17T16:47:10.705Z"
   },
   {
    "duration": 37,
    "start_time": "2021-06-17T16:47:10.732Z"
   },
   {
    "duration": 18,
    "start_time": "2021-06-17T16:47:10.772Z"
   },
   {
    "duration": 26,
    "start_time": "2021-06-17T16:47:10.793Z"
   },
   {
    "duration": 37,
    "start_time": "2021-06-17T16:47:10.822Z"
   },
   {
    "duration": 35,
    "start_time": "2021-06-17T16:47:10.863Z"
   },
   {
    "duration": 27,
    "start_time": "2021-06-17T16:47:10.902Z"
   },
   {
    "duration": 30,
    "start_time": "2021-06-17T16:47:10.932Z"
   },
   {
    "duration": 58,
    "start_time": "2021-06-17T16:47:10.965Z"
   },
   {
    "duration": 47,
    "start_time": "2021-06-17T16:47:11.025Z"
   },
   {
    "duration": 61,
    "start_time": "2021-06-17T16:47:11.074Z"
   },
   {
    "duration": 338,
    "start_time": "2021-06-17T16:47:26.757Z"
   },
   {
    "duration": 267,
    "start_time": "2021-06-17T16:47:56.913Z"
   },
   {
    "duration": 725,
    "start_time": "2021-06-17T16:48:08.483Z"
   },
   {
    "duration": 92,
    "start_time": "2021-06-17T16:48:09.214Z"
   },
   {
    "duration": 23,
    "start_time": "2021-06-17T16:48:09.309Z"
   },
   {
    "duration": 32,
    "start_time": "2021-06-17T16:48:09.334Z"
   },
   {
    "duration": 12,
    "start_time": "2021-06-17T16:48:09.368Z"
   },
   {
    "duration": 85,
    "start_time": "2021-06-17T16:48:09.382Z"
   },
   {
    "duration": 12,
    "start_time": "2021-06-17T16:48:09.471Z"
   },
   {
    "duration": 8,
    "start_time": "2021-06-17T16:48:09.486Z"
   },
   {
    "duration": 13,
    "start_time": "2021-06-17T16:48:09.496Z"
   },
   {
    "duration": 49,
    "start_time": "2021-06-17T16:48:09.512Z"
   },
   {
    "duration": 5,
    "start_time": "2021-06-17T16:48:09.564Z"
   },
   {
    "duration": 16,
    "start_time": "2021-06-17T16:48:09.571Z"
   },
   {
    "duration": 5,
    "start_time": "2021-06-17T16:48:09.589Z"
   },
   {
    "duration": 17,
    "start_time": "2021-06-17T16:48:09.596Z"
   },
   {
    "duration": 10,
    "start_time": "2021-06-17T16:48:09.655Z"
   },
   {
    "duration": 31,
    "start_time": "2021-06-17T16:48:09.667Z"
   },
   {
    "duration": 29,
    "start_time": "2021-06-17T16:48:09.700Z"
   },
   {
    "duration": 44,
    "start_time": "2021-06-17T16:48:09.731Z"
   },
   {
    "duration": 32,
    "start_time": "2021-06-17T16:48:09.778Z"
   },
   {
    "duration": 54,
    "start_time": "2021-06-17T16:48:09.813Z"
   },
   {
    "duration": 23,
    "start_time": "2021-06-17T16:48:09.870Z"
   },
   {
    "duration": 11,
    "start_time": "2021-06-17T16:48:09.902Z"
   },
   {
    "duration": 7,
    "start_time": "2021-06-17T16:48:09.956Z"
   },
   {
    "duration": 3200,
    "start_time": "2021-06-17T16:48:09.966Z"
   },
   {
    "duration": 7,
    "start_time": "2021-06-17T16:48:13.169Z"
   },
   {
    "duration": 395,
    "start_time": "2021-06-17T16:48:13.178Z"
   },
   {
    "duration": 8,
    "start_time": "2021-06-17T16:48:13.576Z"
   },
   {
    "duration": 40,
    "start_time": "2021-06-17T16:48:13.587Z"
   },
   {
    "duration": 12,
    "start_time": "2021-06-17T16:48:13.630Z"
   },
   {
    "duration": 399,
    "start_time": "2021-06-17T16:48:13.645Z"
   },
   {
    "duration": 22,
    "start_time": "2021-06-17T16:48:14.046Z"
   },
   {
    "duration": 22,
    "start_time": "2021-06-17T16:48:14.071Z"
   },
   {
    "duration": 23,
    "start_time": "2021-06-17T16:48:14.095Z"
   },
   {
    "duration": 35,
    "start_time": "2021-06-17T16:48:14.121Z"
   },
   {
    "duration": 26,
    "start_time": "2021-06-17T16:48:14.159Z"
   },
   {
    "duration": 20,
    "start_time": "2021-06-17T16:48:14.187Z"
   },
   {
    "duration": 19,
    "start_time": "2021-06-17T16:48:14.210Z"
   },
   {
    "duration": 22,
    "start_time": "2021-06-17T16:48:14.231Z"
   },
   {
    "duration": 7,
    "start_time": "2021-06-17T16:48:14.256Z"
   },
   {
    "duration": 23,
    "start_time": "2021-06-17T16:48:14.265Z"
   },
   {
    "duration": 50,
    "start_time": "2021-06-17T16:48:14.291Z"
   },
   {
    "duration": 10,
    "start_time": "2021-06-17T16:48:14.354Z"
   },
   {
    "duration": 8,
    "start_time": "2021-06-17T16:48:14.366Z"
   },
   {
    "duration": 41,
    "start_time": "2021-06-17T16:48:14.376Z"
   },
   {
    "duration": 36,
    "start_time": "2021-06-17T16:48:14.419Z"
   },
   {
    "duration": 36,
    "start_time": "2021-06-17T16:48:14.457Z"
   },
   {
    "duration": 14,
    "start_time": "2021-06-17T16:48:14.495Z"
   },
   {
    "duration": 49,
    "start_time": "2021-06-17T16:48:14.512Z"
   },
   {
    "duration": 4,
    "start_time": "2021-06-17T16:48:14.563Z"
   },
   {
    "duration": 22,
    "start_time": "2021-06-17T16:48:14.569Z"
   },
   {
    "duration": 20,
    "start_time": "2021-06-17T16:48:14.593Z"
   },
   {
    "duration": 47,
    "start_time": "2021-06-17T16:48:14.616Z"
   },
   {
    "duration": 28,
    "start_time": "2021-06-17T16:48:14.665Z"
   },
   {
    "duration": 32,
    "start_time": "2021-06-17T16:48:14.695Z"
   },
   {
    "duration": 31,
    "start_time": "2021-06-17T16:48:14.730Z"
   },
   {
    "duration": 27,
    "start_time": "2021-06-17T16:48:14.764Z"
   },
   {
    "duration": 17,
    "start_time": "2021-06-17T16:50:25.855Z"
   },
   {
    "duration": 8,
    "start_time": "2021-06-17T16:50:48.638Z"
   },
   {
    "duration": 12,
    "start_time": "2021-06-17T16:51:44.055Z"
   },
   {
    "duration": 5,
    "start_time": "2021-06-17T16:52:57.216Z"
   },
   {
    "duration": 14,
    "start_time": "2021-06-17T16:53:19.986Z"
   },
   {
    "duration": 48,
    "start_time": "2021-06-17T16:54:48.172Z"
   },
   {
    "duration": 733,
    "start_time": "2021-06-17T16:55:11.488Z"
   },
   {
    "duration": 96,
    "start_time": "2021-06-17T16:55:12.224Z"
   },
   {
    "duration": 38,
    "start_time": "2021-06-17T16:55:12.324Z"
   },
   {
    "duration": 16,
    "start_time": "2021-06-17T16:55:12.365Z"
   },
   {
    "duration": 13,
    "start_time": "2021-06-17T16:55:12.384Z"
   },
   {
    "duration": 93,
    "start_time": "2021-06-17T16:55:12.399Z"
   },
   {
    "duration": 12,
    "start_time": "2021-06-17T16:55:12.494Z"
   },
   {
    "duration": 8,
    "start_time": "2021-06-17T16:55:12.509Z"
   },
   {
    "duration": 13,
    "start_time": "2021-06-17T16:55:12.554Z"
   },
   {
    "duration": 7,
    "start_time": "2021-06-17T16:55:12.570Z"
   },
   {
    "duration": 6,
    "start_time": "2021-06-17T16:55:12.580Z"
   },
   {
    "duration": 7,
    "start_time": "2021-06-17T16:55:12.588Z"
   },
   {
    "duration": 6,
    "start_time": "2021-06-17T16:55:12.597Z"
   },
   {
    "duration": 13,
    "start_time": "2021-06-17T16:55:12.655Z"
   },
   {
    "duration": 12,
    "start_time": "2021-06-17T16:55:12.671Z"
   },
   {
    "duration": 19,
    "start_time": "2021-06-17T16:55:12.686Z"
   },
   {
    "duration": 59,
    "start_time": "2021-06-17T16:55:12.707Z"
   },
   {
    "duration": 30,
    "start_time": "2021-06-17T16:55:12.768Z"
   },
   {
    "duration": 58,
    "start_time": "2021-06-17T16:55:12.800Z"
   },
   {
    "duration": 23,
    "start_time": "2021-06-17T16:55:12.861Z"
   },
   {
    "duration": 18,
    "start_time": "2021-06-17T16:55:12.887Z"
   },
   {
    "duration": 9,
    "start_time": "2021-06-17T16:55:12.907Z"
   },
   {
    "duration": 41,
    "start_time": "2021-06-17T16:55:12.918Z"
   },
   {
    "duration": 3240,
    "start_time": "2021-06-17T16:55:12.962Z"
   },
   {
    "duration": 5,
    "start_time": "2021-06-17T16:55:16.205Z"
   },
   {
    "duration": 402,
    "start_time": "2021-06-17T16:55:16.212Z"
   },
   {
    "duration": 9,
    "start_time": "2021-06-17T16:55:16.620Z"
   },
   {
    "duration": 37,
    "start_time": "2021-06-17T16:55:16.632Z"
   },
   {
    "duration": 12,
    "start_time": "2021-06-17T16:55:16.671Z"
   },
   {
    "duration": 496,
    "start_time": "2021-06-17T16:55:16.685Z"
   },
   {
    "duration": 22,
    "start_time": "2021-06-17T16:55:17.184Z"
   },
   {
    "duration": 15,
    "start_time": "2021-06-17T16:55:17.208Z"
   },
   {
    "duration": 36,
    "start_time": "2021-06-17T16:55:17.226Z"
   },
   {
    "duration": 14,
    "start_time": "2021-06-17T16:55:17.265Z"
   },
   {
    "duration": 18,
    "start_time": "2021-06-17T16:55:17.281Z"
   },
   {
    "duration": 54,
    "start_time": "2021-06-17T16:55:17.302Z"
   },
   {
    "duration": 10,
    "start_time": "2021-06-17T16:55:17.358Z"
   },
   {
    "duration": 14,
    "start_time": "2021-06-17T16:55:17.371Z"
   },
   {
    "duration": 7,
    "start_time": "2021-06-17T16:55:17.388Z"
   },
   {
    "duration": 62,
    "start_time": "2021-06-17T16:55:17.398Z"
   },
   {
    "duration": 6,
    "start_time": "2021-06-17T16:55:17.463Z"
   },
   {
    "duration": 11,
    "start_time": "2021-06-17T16:55:17.472Z"
   },
   {
    "duration": 82,
    "start_time": "2021-06-17T16:55:17.486Z"
   },
   {
    "duration": 14,
    "start_time": "2021-06-17T16:55:17.572Z"
   },
   {
    "duration": 7,
    "start_time": "2021-06-17T16:55:17.589Z"
   },
   {
    "duration": 75,
    "start_time": "2021-06-17T16:55:17.599Z"
   },
   {
    "duration": 5,
    "start_time": "2021-06-17T16:55:17.677Z"
   },
   {
    "duration": 21,
    "start_time": "2021-06-17T16:55:17.686Z"
   },
   {
    "duration": 56,
    "start_time": "2021-06-17T16:55:17.709Z"
   },
   {
    "duration": 12,
    "start_time": "2021-06-17T16:55:17.768Z"
   },
   {
    "duration": 27,
    "start_time": "2021-06-17T16:55:17.782Z"
   },
   {
    "duration": 51,
    "start_time": "2021-06-17T16:55:17.812Z"
   },
   {
    "duration": 28,
    "start_time": "2021-06-17T16:55:17.866Z"
   },
   {
    "duration": 20,
    "start_time": "2021-06-17T16:55:17.896Z"
   },
   {
    "duration": 25,
    "start_time": "2021-06-17T16:55:17.918Z"
   },
   {
    "duration": 40,
    "start_time": "2021-06-17T16:55:17.945Z"
   },
   {
    "duration": 35,
    "start_time": "2021-06-17T16:55:17.987Z"
   },
   {
    "duration": 25,
    "start_time": "2021-06-17T16:55:18.024Z"
   },
   {
    "duration": 6349,
    "start_time": "2021-06-17T16:56:03.641Z"
   },
   {
    "duration": 33,
    "start_time": "2021-06-17T16:56:09.960Z"
   },
   {
    "duration": 29,
    "start_time": "2021-06-17T16:56:09.965Z"
   },
   {
    "duration": 27,
    "start_time": "2021-06-17T16:56:09.969Z"
   },
   {
    "duration": 728,
    "start_time": "2021-06-17T16:56:15.887Z"
   },
   {
    "duration": 95,
    "start_time": "2021-06-17T16:56:16.618Z"
   },
   {
    "duration": 52,
    "start_time": "2021-06-17T16:56:16.722Z"
   },
   {
    "duration": 21,
    "start_time": "2021-06-17T16:56:16.777Z"
   },
   {
    "duration": 56,
    "start_time": "2021-06-17T16:56:16.801Z"
   },
   {
    "duration": 47,
    "start_time": "2021-06-17T16:56:16.860Z"
   },
   {
    "duration": 43,
    "start_time": "2021-06-17T16:56:16.911Z"
   },
   {
    "duration": 10,
    "start_time": "2021-06-17T16:56:16.958Z"
   },
   {
    "duration": 13,
    "start_time": "2021-06-17T16:56:16.971Z"
   },
   {
    "duration": 7,
    "start_time": "2021-06-17T16:56:16.987Z"
   },
   {
    "duration": 8,
    "start_time": "2021-06-17T16:56:16.996Z"
   },
   {
    "duration": 51,
    "start_time": "2021-06-17T16:56:17.007Z"
   },
   {
    "duration": 6,
    "start_time": "2021-06-17T16:56:17.060Z"
   },
   {
    "duration": 21,
    "start_time": "2021-06-17T16:56:17.068Z"
   },
   {
    "duration": 9,
    "start_time": "2021-06-17T16:56:17.091Z"
   },
   {
    "duration": 51,
    "start_time": "2021-06-17T16:56:17.103Z"
   },
   {
    "duration": 19,
    "start_time": "2021-06-17T16:56:17.157Z"
   },
   {
    "duration": 32,
    "start_time": "2021-06-17T16:56:17.179Z"
   },
   {
    "duration": 69,
    "start_time": "2021-06-17T16:56:17.213Z"
   },
   {
    "duration": 26,
    "start_time": "2021-06-17T16:56:17.285Z"
   },
   {
    "duration": 58,
    "start_time": "2021-06-17T16:56:17.314Z"
   },
   {
    "duration": 8,
    "start_time": "2021-06-17T16:56:17.378Z"
   },
   {
    "duration": 7,
    "start_time": "2021-06-17T16:56:17.389Z"
   },
   {
    "duration": 3232,
    "start_time": "2021-06-17T16:56:17.399Z"
   },
   {
    "duration": 5,
    "start_time": "2021-06-17T16:56:20.633Z"
   },
   {
    "duration": 402,
    "start_time": "2021-06-17T16:56:20.640Z"
   },
   {
    "duration": 13,
    "start_time": "2021-06-17T16:56:21.044Z"
   },
   {
    "duration": 31,
    "start_time": "2021-06-17T16:56:21.059Z"
   },
   {
    "duration": 18,
    "start_time": "2021-06-17T16:56:21.093Z"
   },
   {
    "duration": 407,
    "start_time": "2021-06-17T16:56:21.113Z"
   },
   {
    "duration": 32,
    "start_time": "2021-06-17T16:56:21.522Z"
   },
   {
    "duration": 15,
    "start_time": "2021-06-17T16:56:21.557Z"
   },
   {
    "duration": 19,
    "start_time": "2021-06-17T16:56:21.575Z"
   },
   {
    "duration": 21,
    "start_time": "2021-06-17T16:56:21.597Z"
   },
   {
    "duration": 40,
    "start_time": "2021-06-17T16:56:21.621Z"
   },
   {
    "duration": 22,
    "start_time": "2021-06-17T16:56:21.663Z"
   },
   {
    "duration": 27,
    "start_time": "2021-06-17T16:56:21.688Z"
   },
   {
    "duration": 20,
    "start_time": "2021-06-17T16:56:21.717Z"
   },
   {
    "duration": 17,
    "start_time": "2021-06-17T16:56:21.740Z"
   },
   {
    "duration": 30,
    "start_time": "2021-06-17T16:56:21.759Z"
   },
   {
    "duration": 9,
    "start_time": "2021-06-17T16:56:21.792Z"
   },
   {
    "duration": 23,
    "start_time": "2021-06-17T16:56:21.803Z"
   },
   {
    "duration": 59,
    "start_time": "2021-06-17T16:56:21.829Z"
   },
   {
    "duration": 10,
    "start_time": "2021-06-17T16:56:21.891Z"
   },
   {
    "duration": 15,
    "start_time": "2021-06-17T16:56:21.903Z"
   },
   {
    "duration": 52,
    "start_time": "2021-06-17T16:56:21.920Z"
   },
   {
    "duration": 15,
    "start_time": "2021-06-17T16:56:21.974Z"
   },
   {
    "duration": 36,
    "start_time": "2021-06-17T16:56:21.991Z"
   },
   {
    "duration": 20,
    "start_time": "2021-06-17T16:56:22.029Z"
   },
   {
    "duration": 13,
    "start_time": "2021-06-17T16:56:22.055Z"
   },
   {
    "duration": 14,
    "start_time": "2021-06-17T16:56:22.070Z"
   },
   {
    "duration": 29,
    "start_time": "2021-06-17T16:56:22.086Z"
   },
   {
    "duration": 39,
    "start_time": "2021-06-17T16:56:22.118Z"
   },
   {
    "duration": 13,
    "start_time": "2021-06-17T16:56:22.159Z"
   },
   {
    "duration": 13,
    "start_time": "2021-06-17T16:56:22.174Z"
   },
   {
    "duration": 26,
    "start_time": "2021-06-17T16:56:22.189Z"
   },
   {
    "duration": 54,
    "start_time": "2021-06-17T16:56:22.217Z"
   },
   {
    "duration": 22,
    "start_time": "2021-06-17T16:56:22.273Z"
   },
   {
    "duration": 762,
    "start_time": "2021-06-17T16:57:02.017Z"
   },
   {
    "duration": 97,
    "start_time": "2021-06-17T16:57:02.782Z"
   },
   {
    "duration": 26,
    "start_time": "2021-06-17T16:57:02.883Z"
   },
   {
    "duration": 49,
    "start_time": "2021-06-17T16:57:02.913Z"
   },
   {
    "duration": 17,
    "start_time": "2021-06-17T16:57:02.966Z"
   },
   {
    "duration": 95,
    "start_time": "2021-06-17T16:57:02.986Z"
   },
   {
    "duration": 14,
    "start_time": "2021-06-17T16:57:03.083Z"
   },
   {
    "duration": 8,
    "start_time": "2021-06-17T16:57:03.103Z"
   },
   {
    "duration": 48,
    "start_time": "2021-06-17T16:57:03.114Z"
   },
   {
    "duration": 8,
    "start_time": "2021-06-17T16:57:03.165Z"
   },
   {
    "duration": 10,
    "start_time": "2021-06-17T16:57:03.176Z"
   },
   {
    "duration": 9,
    "start_time": "2021-06-17T16:57:03.190Z"
   },
   {
    "duration": 55,
    "start_time": "2021-06-17T16:57:03.202Z"
   },
   {
    "duration": 16,
    "start_time": "2021-06-17T16:57:03.260Z"
   },
   {
    "duration": 13,
    "start_time": "2021-06-17T16:57:03.279Z"
   },
   {
    "duration": 66,
    "start_time": "2021-06-17T16:57:03.296Z"
   },
   {
    "duration": 21,
    "start_time": "2021-06-17T16:57:03.365Z"
   },
   {
    "duration": 28,
    "start_time": "2021-06-17T16:57:03.390Z"
   },
   {
    "duration": 59,
    "start_time": "2021-06-17T16:57:03.421Z"
   },
   {
    "duration": 22,
    "start_time": "2021-06-17T16:57:03.482Z"
   },
   {
    "duration": 50,
    "start_time": "2021-06-17T16:57:03.507Z"
   },
   {
    "duration": 10,
    "start_time": "2021-06-17T16:57:03.559Z"
   },
   {
    "duration": 7,
    "start_time": "2021-06-17T16:57:03.575Z"
   },
   {
    "duration": 3184,
    "start_time": "2021-06-17T16:57:03.585Z"
   },
   {
    "duration": 5,
    "start_time": "2021-06-17T16:57:06.772Z"
   },
   {
    "duration": 418,
    "start_time": "2021-06-17T16:57:06.779Z"
   },
   {
    "duration": 9,
    "start_time": "2021-06-17T16:57:07.199Z"
   },
   {
    "duration": 54,
    "start_time": "2021-06-17T16:57:07.211Z"
   },
   {
    "duration": 7,
    "start_time": "2021-06-17T16:57:07.269Z"
   },
   {
    "duration": 409,
    "start_time": "2021-06-17T16:57:07.279Z"
   },
   {
    "duration": 25,
    "start_time": "2021-06-17T16:57:07.691Z"
   },
   {
    "duration": 41,
    "start_time": "2021-06-17T16:57:07.719Z"
   },
   {
    "duration": 25,
    "start_time": "2021-06-17T16:57:07.763Z"
   },
   {
    "duration": 20,
    "start_time": "2021-06-17T16:57:07.791Z"
   },
   {
    "duration": 24,
    "start_time": "2021-06-17T16:57:07.814Z"
   },
   {
    "duration": 26,
    "start_time": "2021-06-17T16:57:07.841Z"
   },
   {
    "duration": 10,
    "start_time": "2021-06-17T16:57:07.870Z"
   },
   {
    "duration": 13,
    "start_time": "2021-06-17T16:57:07.883Z"
   },
   {
    "duration": 57,
    "start_time": "2021-06-17T16:57:07.899Z"
   },
   {
    "duration": 14,
    "start_time": "2021-06-17T16:57:07.958Z"
   },
   {
    "duration": 6,
    "start_time": "2021-06-17T16:57:07.975Z"
   },
   {
    "duration": 12,
    "start_time": "2021-06-17T16:57:07.983Z"
   },
   {
    "duration": 90,
    "start_time": "2021-06-17T16:57:07.998Z"
   },
   {
    "duration": 14,
    "start_time": "2021-06-17T16:57:08.091Z"
   },
   {
    "duration": 7,
    "start_time": "2021-06-17T16:57:08.108Z"
   },
   {
    "duration": 30,
    "start_time": "2021-06-17T16:57:08.156Z"
   },
   {
    "duration": 6,
    "start_time": "2021-06-17T16:57:08.189Z"
   },
   {
    "duration": 63,
    "start_time": "2021-06-17T16:57:08.198Z"
   },
   {
    "duration": 17,
    "start_time": "2021-06-17T16:57:08.265Z"
   },
   {
    "duration": 13,
    "start_time": "2021-06-17T16:57:08.285Z"
   },
   {
    "duration": 5,
    "start_time": "2021-06-17T16:57:08.300Z"
   },
   {
    "duration": 14,
    "start_time": "2021-06-17T16:57:08.355Z"
   },
   {
    "duration": 14,
    "start_time": "2021-06-17T16:57:08.371Z"
   },
   {
    "duration": 13,
    "start_time": "2021-06-17T16:57:08.388Z"
   },
   {
    "duration": 4,
    "start_time": "2021-06-17T16:57:08.404Z"
   },
   {
    "duration": 21,
    "start_time": "2021-06-17T16:57:08.458Z"
   },
   {
    "duration": 22,
    "start_time": "2021-06-17T16:57:08.481Z"
   },
   {
    "duration": 62,
    "start_time": "2021-06-17T16:57:08.505Z"
   },
   {
    "duration": 23,
    "start_time": "2021-06-17T16:57:23.372Z"
   },
   {
    "duration": 762,
    "start_time": "2021-06-17T17:00:29.480Z"
   },
   {
    "duration": 93,
    "start_time": "2021-06-17T17:00:30.245Z"
   },
   {
    "duration": 33,
    "start_time": "2021-06-17T17:00:30.341Z"
   },
   {
    "duration": 26,
    "start_time": "2021-06-17T17:00:30.377Z"
   },
   {
    "duration": 14,
    "start_time": "2021-06-17T17:00:30.405Z"
   },
   {
    "duration": 83,
    "start_time": "2021-06-17T17:00:30.421Z"
   },
   {
    "duration": 13,
    "start_time": "2021-06-17T17:00:30.506Z"
   },
   {
    "duration": 36,
    "start_time": "2021-06-17T17:00:30.523Z"
   },
   {
    "duration": 16,
    "start_time": "2021-06-17T17:00:30.562Z"
   },
   {
    "duration": 13,
    "start_time": "2021-06-17T17:00:30.581Z"
   },
   {
    "duration": 7,
    "start_time": "2021-06-17T17:00:30.596Z"
   },
   {
    "duration": 28,
    "start_time": "2021-06-17T17:00:30.606Z"
   },
   {
    "duration": 6,
    "start_time": "2021-06-17T17:00:30.655Z"
   },
   {
    "duration": 34,
    "start_time": "2021-06-17T17:00:30.664Z"
   },
   {
    "duration": 20,
    "start_time": "2021-06-17T17:00:30.701Z"
   },
   {
    "duration": 32,
    "start_time": "2021-06-17T17:00:30.724Z"
   },
   {
    "duration": 54,
    "start_time": "2021-06-17T17:00:30.758Z"
   },
   {
    "duration": 49,
    "start_time": "2021-06-17T17:00:30.815Z"
   },
   {
    "duration": 27,
    "start_time": "2021-06-17T17:00:30.866Z"
   },
   {
    "duration": 25,
    "start_time": "2021-06-17T17:00:30.895Z"
   },
   {
    "duration": 46,
    "start_time": "2021-06-17T17:00:30.923Z"
   },
   {
    "duration": 16,
    "start_time": "2021-06-17T17:00:30.972Z"
   },
   {
    "duration": 7,
    "start_time": "2021-06-17T17:00:30.994Z"
   },
   {
    "duration": 3239,
    "start_time": "2021-06-17T17:00:31.005Z"
   },
   {
    "duration": 4,
    "start_time": "2021-06-17T17:00:34.255Z"
   },
   {
    "duration": 395,
    "start_time": "2021-06-17T17:00:34.262Z"
   },
   {
    "duration": 8,
    "start_time": "2021-06-17T17:00:34.660Z"
   },
   {
    "duration": 41,
    "start_time": "2021-06-17T17:00:34.670Z"
   },
   {
    "duration": 22,
    "start_time": "2021-06-17T17:00:34.713Z"
   },
   {
    "duration": 402,
    "start_time": "2021-06-17T17:00:34.738Z"
   },
   {
    "duration": 26,
    "start_time": "2021-06-17T17:00:35.143Z"
   },
   {
    "duration": 27,
    "start_time": "2021-06-17T17:00:35.171Z"
   },
   {
    "duration": 23,
    "start_time": "2021-06-17T17:00:35.200Z"
   },
   {
    "duration": 23,
    "start_time": "2021-06-17T17:00:35.226Z"
   },
   {
    "duration": 21,
    "start_time": "2021-06-17T17:00:35.255Z"
   },
   {
    "duration": 25,
    "start_time": "2021-06-17T17:00:35.278Z"
   },
   {
    "duration": 23,
    "start_time": "2021-06-17T17:00:35.306Z"
   },
   {
    "duration": 22,
    "start_time": "2021-06-17T17:00:35.332Z"
   },
   {
    "duration": 6,
    "start_time": "2021-06-17T17:00:35.356Z"
   },
   {
    "duration": 28,
    "start_time": "2021-06-17T17:00:35.364Z"
   },
   {
    "duration": 11,
    "start_time": "2021-06-17T17:00:35.395Z"
   },
   {
    "duration": 25,
    "start_time": "2021-06-17T17:00:35.408Z"
   },
   {
    "duration": 35,
    "start_time": "2021-06-17T17:00:35.436Z"
   },
   {
    "duration": 25,
    "start_time": "2021-06-17T17:00:35.474Z"
   },
   {
    "duration": 12,
    "start_time": "2021-06-17T17:00:35.501Z"
   },
   {
    "duration": 44,
    "start_time": "2021-06-17T17:00:35.516Z"
   },
   {
    "duration": 14,
    "start_time": "2021-06-17T17:00:35.562Z"
   },
   {
    "duration": 33,
    "start_time": "2021-06-17T17:00:35.579Z"
   },
   {
    "duration": 20,
    "start_time": "2021-06-17T17:00:35.614Z"
   },
   {
    "duration": 22,
    "start_time": "2021-06-17T17:00:35.636Z"
   },
   {
    "duration": 17,
    "start_time": "2021-06-17T17:00:35.660Z"
   },
   {
    "duration": 25,
    "start_time": "2021-06-17T17:00:35.680Z"
   },
   {
    "duration": 18,
    "start_time": "2021-06-17T17:00:35.708Z"
   },
   {
    "duration": 33,
    "start_time": "2021-06-17T17:00:35.728Z"
   },
   {
    "duration": 19,
    "start_time": "2021-06-17T17:00:35.764Z"
   },
   {
    "duration": 36,
    "start_time": "2021-06-17T17:00:35.785Z"
   },
   {
    "duration": 35,
    "start_time": "2021-06-17T17:00:35.824Z"
   },
   {
    "duration": 21,
    "start_time": "2021-06-17T17:00:35.861Z"
   },
   {
    "duration": 19,
    "start_time": "2021-06-17T17:01:03.625Z"
   },
   {
    "duration": 10,
    "start_time": "2021-06-17T17:09:33.320Z"
   },
   {
    "duration": 780,
    "start_time": "2021-06-17T17:09:40.320Z"
   },
   {
    "duration": 90,
    "start_time": "2021-06-17T17:09:41.103Z"
   },
   {
    "duration": 23,
    "start_time": "2021-06-17T17:09:41.196Z"
   },
   {
    "duration": 44,
    "start_time": "2021-06-17T17:09:41.222Z"
   },
   {
    "duration": 13,
    "start_time": "2021-06-17T17:09:41.268Z"
   },
   {
    "duration": 78,
    "start_time": "2021-06-17T17:09:41.284Z"
   },
   {
    "duration": 12,
    "start_time": "2021-06-17T17:09:41.364Z"
   },
   {
    "duration": 8,
    "start_time": "2021-06-17T17:09:41.380Z"
   },
   {
    "duration": 12,
    "start_time": "2021-06-17T17:09:41.391Z"
   },
   {
    "duration": 51,
    "start_time": "2021-06-17T17:09:41.406Z"
   },
   {
    "duration": 4,
    "start_time": "2021-06-17T17:09:41.460Z"
   },
   {
    "duration": 11,
    "start_time": "2021-06-17T17:09:41.467Z"
   },
   {
    "duration": 8,
    "start_time": "2021-06-17T17:09:41.480Z"
   },
   {
    "duration": 12,
    "start_time": "2021-06-17T17:09:41.490Z"
   },
   {
    "duration": 53,
    "start_time": "2021-06-17T17:09:41.504Z"
   },
   {
    "duration": 18,
    "start_time": "2021-06-17T17:09:41.560Z"
   },
   {
    "duration": 17,
    "start_time": "2021-06-17T17:09:41.581Z"
   },
   {
    "duration": 66,
    "start_time": "2021-06-17T17:09:41.600Z"
   },
   {
    "duration": 25,
    "start_time": "2021-06-17T17:09:41.669Z"
   },
   {
    "duration": 23,
    "start_time": "2021-06-17T17:09:41.697Z"
   },
   {
    "duration": 45,
    "start_time": "2021-06-17T17:09:41.722Z"
   },
   {
    "duration": 11,
    "start_time": "2021-06-17T17:09:41.769Z"
   },
   {
    "duration": 7,
    "start_time": "2021-06-17T17:09:41.785Z"
   },
   {
    "duration": 3337,
    "start_time": "2021-06-17T17:09:41.795Z"
   },
   {
    "duration": 5,
    "start_time": "2021-06-17T17:09:45.135Z"
   },
   {
    "duration": 407,
    "start_time": "2021-06-17T17:09:45.155Z"
   },
   {
    "duration": 8,
    "start_time": "2021-06-17T17:09:45.565Z"
   },
   {
    "duration": 27,
    "start_time": "2021-06-17T17:09:45.576Z"
   },
   {
    "duration": 4,
    "start_time": "2021-06-17T17:09:45.605Z"
   },
   {
    "duration": 421,
    "start_time": "2021-06-17T17:09:45.611Z"
   },
   {
    "duration": 23,
    "start_time": "2021-06-17T17:09:46.034Z"
   },
   {
    "duration": 13,
    "start_time": "2021-06-17T17:09:46.060Z"
   },
   {
    "duration": 19,
    "start_time": "2021-06-17T17:09:46.075Z"
   },
   {
    "duration": 18,
    "start_time": "2021-06-17T17:09:46.096Z"
   },
   {
    "duration": 46,
    "start_time": "2021-06-17T17:09:46.116Z"
   },
   {
    "duration": 19,
    "start_time": "2021-06-17T17:09:46.164Z"
   },
   {
    "duration": 15,
    "start_time": "2021-06-17T17:09:46.185Z"
   },
   {
    "duration": 18,
    "start_time": "2021-06-17T17:09:46.203Z"
   },
   {
    "duration": 30,
    "start_time": "2021-06-17T17:09:46.224Z"
   },
   {
    "duration": 12,
    "start_time": "2021-06-17T17:09:46.257Z"
   },
   {
    "duration": 9,
    "start_time": "2021-06-17T17:09:46.272Z"
   },
   {
    "duration": 20,
    "start_time": "2021-06-17T17:09:46.283Z"
   },
   {
    "duration": 60,
    "start_time": "2021-06-17T17:09:46.306Z"
   },
   {
    "duration": 21,
    "start_time": "2021-06-17T17:09:46.370Z"
   },
   {
    "duration": 4,
    "start_time": "2021-06-17T17:09:46.394Z"
   },
   {
    "duration": 57,
    "start_time": "2021-06-17T17:09:46.400Z"
   },
   {
    "duration": 19,
    "start_time": "2021-06-17T17:09:46.459Z"
   },
   {
    "duration": 29,
    "start_time": "2021-06-17T17:09:46.480Z"
   },
   {
    "duration": 14,
    "start_time": "2021-06-17T17:09:46.512Z"
   },
   {
    "duration": 32,
    "start_time": "2021-06-17T17:09:46.529Z"
   },
   {
    "duration": 17,
    "start_time": "2021-06-17T17:09:46.564Z"
   },
   {
    "duration": 21,
    "start_time": "2021-06-17T17:09:46.584Z"
   },
   {
    "duration": 17,
    "start_time": "2021-06-17T17:09:46.608Z"
   },
   {
    "duration": 33,
    "start_time": "2021-06-17T17:09:46.628Z"
   },
   {
    "duration": 21,
    "start_time": "2021-06-17T17:09:46.664Z"
   },
   {
    "duration": 28,
    "start_time": "2021-06-17T17:09:46.687Z"
   },
   {
    "duration": 41,
    "start_time": "2021-06-17T17:09:46.718Z"
   },
   {
    "duration": 21,
    "start_time": "2021-06-17T17:09:46.761Z"
   },
   {
    "duration": 774,
    "start_time": "2021-06-17T17:12:18.733Z"
   },
   {
    "duration": 96,
    "start_time": "2021-06-17T17:12:19.510Z"
   },
   {
    "duration": 47,
    "start_time": "2021-06-17T17:12:19.615Z"
   },
   {
    "duration": 30,
    "start_time": "2021-06-17T17:12:19.666Z"
   },
   {
    "duration": 17,
    "start_time": "2021-06-17T17:12:19.699Z"
   },
   {
    "duration": 81,
    "start_time": "2021-06-17T17:12:19.719Z"
   },
   {
    "duration": 12,
    "start_time": "2021-06-17T17:12:19.804Z"
   },
   {
    "duration": 42,
    "start_time": "2021-06-17T17:12:19.819Z"
   },
   {
    "duration": 25,
    "start_time": "2021-06-17T17:12:19.864Z"
   },
   {
    "duration": 29,
    "start_time": "2021-06-17T17:12:19.892Z"
   },
   {
    "duration": 10,
    "start_time": "2021-06-17T17:12:19.923Z"
   },
   {
    "duration": 24,
    "start_time": "2021-06-17T17:12:19.936Z"
   },
   {
    "duration": 27,
    "start_time": "2021-06-17T17:12:19.963Z"
   },
   {
    "duration": 30,
    "start_time": "2021-06-17T17:12:19.993Z"
   },
   {
    "duration": 19,
    "start_time": "2021-06-17T17:12:20.025Z"
   },
   {
    "duration": 33,
    "start_time": "2021-06-17T17:12:20.046Z"
   },
   {
    "duration": 23,
    "start_time": "2021-06-17T17:12:20.081Z"
   },
   {
    "duration": 38,
    "start_time": "2021-06-17T17:12:20.106Z"
   },
   {
    "duration": 32,
    "start_time": "2021-06-17T17:12:20.146Z"
   },
   {
    "duration": 24,
    "start_time": "2021-06-17T17:12:20.180Z"
   },
   {
    "duration": 17,
    "start_time": "2021-06-17T17:12:20.207Z"
   },
   {
    "duration": 8,
    "start_time": "2021-06-17T17:12:20.255Z"
   },
   {
    "duration": 23,
    "start_time": "2021-06-17T17:12:20.266Z"
   },
   {
    "duration": 3216,
    "start_time": "2021-06-17T17:12:20.292Z"
   },
   {
    "duration": 5,
    "start_time": "2021-06-17T17:12:23.511Z"
   },
   {
    "duration": 408,
    "start_time": "2021-06-17T17:12:23.518Z"
   },
   {
    "duration": 9,
    "start_time": "2021-06-17T17:12:23.928Z"
   },
   {
    "duration": 47,
    "start_time": "2021-06-17T17:12:23.940Z"
   },
   {
    "duration": 37,
    "start_time": "2021-06-17T17:12:23.989Z"
   },
   {
    "duration": 385,
    "start_time": "2021-06-17T17:12:24.028Z"
   },
   {
    "duration": 19,
    "start_time": "2021-06-17T17:12:24.416Z"
   },
   {
    "duration": 25,
    "start_time": "2021-06-17T17:12:24.438Z"
   },
   {
    "duration": 35,
    "start_time": "2021-06-17T17:12:24.465Z"
   },
   {
    "duration": 32,
    "start_time": "2021-06-17T17:12:24.503Z"
   },
   {
    "duration": 24,
    "start_time": "2021-06-17T17:12:24.537Z"
   },
   {
    "duration": 42,
    "start_time": "2021-06-17T17:12:24.563Z"
   },
   {
    "duration": 22,
    "start_time": "2021-06-17T17:12:24.608Z"
   },
   {
    "duration": 37,
    "start_time": "2021-06-17T17:12:24.633Z"
   },
   {
    "duration": 30,
    "start_time": "2021-06-17T17:12:24.673Z"
   },
   {
    "duration": 27,
    "start_time": "2021-06-17T17:12:24.705Z"
   },
   {
    "duration": 19,
    "start_time": "2021-06-17T17:12:24.735Z"
   },
   {
    "duration": 45,
    "start_time": "2021-06-17T17:12:24.756Z"
   },
   {
    "duration": 41,
    "start_time": "2021-06-17T17:12:24.805Z"
   },
   {
    "duration": 29,
    "start_time": "2021-06-17T17:12:24.848Z"
   },
   {
    "duration": 21,
    "start_time": "2021-06-17T17:12:24.880Z"
   },
   {
    "duration": 48,
    "start_time": "2021-06-17T17:12:24.904Z"
   },
   {
    "duration": 30,
    "start_time": "2021-06-17T17:12:24.954Z"
   },
   {
    "duration": 39,
    "start_time": "2021-06-17T17:12:24.987Z"
   },
   {
    "duration": 25,
    "start_time": "2021-06-17T17:12:25.029Z"
   },
   {
    "duration": 22,
    "start_time": "2021-06-17T17:12:25.056Z"
   },
   {
    "duration": 31,
    "start_time": "2021-06-17T17:12:25.081Z"
   },
   {
    "duration": 32,
    "start_time": "2021-06-17T17:12:25.114Z"
   },
   {
    "duration": 17,
    "start_time": "2021-06-17T17:12:25.148Z"
   },
   {
    "duration": 17,
    "start_time": "2021-06-17T17:12:25.168Z"
   },
   {
    "duration": 17,
    "start_time": "2021-06-17T17:12:25.188Z"
   },
   {
    "duration": 39,
    "start_time": "2021-06-17T17:12:25.208Z"
   },
   {
    "duration": 26,
    "start_time": "2021-06-17T17:12:25.250Z"
   },
   {
    "duration": 22,
    "start_time": "2021-06-17T17:12:25.278Z"
   },
   {
    "duration": 23,
    "start_time": "2021-06-17T17:15:34.882Z"
   },
   {
    "duration": 21,
    "start_time": "2021-06-17T17:15:40.176Z"
   },
   {
    "duration": 20,
    "start_time": "2021-06-17T17:15:48.697Z"
   },
   {
    "duration": 763,
    "start_time": "2021-06-17T17:18:07.542Z"
   },
   {
    "duration": 89,
    "start_time": "2021-06-17T17:18:08.308Z"
   },
   {
    "duration": 24,
    "start_time": "2021-06-17T17:18:08.400Z"
   },
   {
    "duration": 35,
    "start_time": "2021-06-17T17:18:08.427Z"
   },
   {
    "duration": 12,
    "start_time": "2021-06-17T17:18:08.465Z"
   },
   {
    "duration": 79,
    "start_time": "2021-06-17T17:18:08.480Z"
   },
   {
    "duration": 12,
    "start_time": "2021-06-17T17:18:08.562Z"
   },
   {
    "duration": 8,
    "start_time": "2021-06-17T17:18:08.578Z"
   },
   {
    "duration": 12,
    "start_time": "2021-06-17T17:18:08.589Z"
   },
   {
    "duration": 52,
    "start_time": "2021-06-17T17:18:08.604Z"
   },
   {
    "duration": 5,
    "start_time": "2021-06-17T17:18:08.659Z"
   },
   {
    "duration": 9,
    "start_time": "2021-06-17T17:18:08.666Z"
   },
   {
    "duration": 11,
    "start_time": "2021-06-17T17:18:08.677Z"
   },
   {
    "duration": 14,
    "start_time": "2021-06-17T17:18:08.691Z"
   },
   {
    "duration": 56,
    "start_time": "2021-06-17T17:18:08.707Z"
   },
   {
    "duration": 18,
    "start_time": "2021-06-17T17:18:08.765Z"
   },
   {
    "duration": 17,
    "start_time": "2021-06-17T17:18:08.786Z"
   },
   {
    "duration": 69,
    "start_time": "2021-06-17T17:18:08.806Z"
   },
   {
    "duration": 25,
    "start_time": "2021-06-17T17:18:08.877Z"
   },
   {
    "duration": 51,
    "start_time": "2021-06-17T17:18:08.905Z"
   },
   {
    "duration": 18,
    "start_time": "2021-06-17T17:18:08.958Z"
   },
   {
    "duration": 12,
    "start_time": "2021-06-17T17:18:08.978Z"
   },
   {
    "duration": 7,
    "start_time": "2021-06-17T17:18:08.996Z"
   },
   {
    "duration": 3254,
    "start_time": "2021-06-17T17:18:09.006Z"
   },
   {
    "duration": 4,
    "start_time": "2021-06-17T17:18:12.262Z"
   },
   {
    "duration": 405,
    "start_time": "2021-06-17T17:18:12.269Z"
   },
   {
    "duration": 11,
    "start_time": "2021-06-17T17:18:12.677Z"
   },
   {
    "duration": 24,
    "start_time": "2021-06-17T17:18:12.690Z"
   },
   {
    "duration": 38,
    "start_time": "2021-06-17T17:18:12.716Z"
   },
   {
    "duration": 406,
    "start_time": "2021-06-17T17:18:12.757Z"
   },
   {
    "duration": 20,
    "start_time": "2021-06-17T17:18:13.166Z"
   },
   {
    "duration": 14,
    "start_time": "2021-06-17T17:18:13.189Z"
   },
   {
    "duration": 49,
    "start_time": "2021-06-17T17:18:13.207Z"
   },
   {
    "duration": 13,
    "start_time": "2021-06-17T17:18:13.260Z"
   },
   {
    "duration": 11,
    "start_time": "2021-06-17T17:18:13.276Z"
   },
   {
    "duration": 66,
    "start_time": "2021-06-17T17:18:13.290Z"
   },
   {
    "duration": 11,
    "start_time": "2021-06-17T17:18:13.359Z"
   },
   {
    "duration": 14,
    "start_time": "2021-06-17T17:18:13.373Z"
   },
   {
    "duration": 8,
    "start_time": "2021-06-17T17:18:13.390Z"
   },
   {
    "duration": 62,
    "start_time": "2021-06-17T17:18:13.401Z"
   },
   {
    "duration": 5,
    "start_time": "2021-06-17T17:18:13.466Z"
   },
   {
    "duration": 21,
    "start_time": "2021-06-17T17:18:13.475Z"
   },
   {
    "duration": 62,
    "start_time": "2021-06-17T17:18:13.499Z"
   },
   {
    "duration": 15,
    "start_time": "2021-06-17T17:18:13.564Z"
   },
   {
    "duration": 5,
    "start_time": "2021-06-17T17:18:13.581Z"
   },
   {
    "duration": 68,
    "start_time": "2021-06-17T17:18:13.588Z"
   },
   {
    "duration": 5,
    "start_time": "2021-06-17T17:18:13.658Z"
   },
   {
    "duration": 17,
    "start_time": "2021-06-17T17:18:13.666Z"
   },
   {
    "duration": 14,
    "start_time": "2021-06-17T17:18:13.685Z"
   },
   {
    "duration": 58,
    "start_time": "2021-06-17T17:18:13.701Z"
   },
   {
    "duration": 6,
    "start_time": "2021-06-17T17:18:13.762Z"
   },
   {
    "duration": 17,
    "start_time": "2021-06-17T17:18:13.771Z"
   },
   {
    "duration": 14,
    "start_time": "2021-06-17T17:18:13.790Z"
   },
   {
    "duration": 55,
    "start_time": "2021-06-17T17:18:13.806Z"
   },
   {
    "duration": 3,
    "start_time": "2021-06-17T17:18:13.864Z"
   },
   {
    "duration": 25,
    "start_time": "2021-06-17T17:18:13.870Z"
   },
   {
    "duration": 22,
    "start_time": "2021-06-17T17:18:13.898Z"
   },
   {
    "duration": 22,
    "start_time": "2021-06-17T17:18:13.954Z"
   },
   {
    "duration": 99,
    "start_time": "2021-06-18T14:08:40.923Z"
   },
   {
    "duration": 768,
    "start_time": "2021-06-18T19:05:42.962Z"
   },
   {
    "duration": 92,
    "start_time": "2021-06-18T19:05:43.733Z"
   },
   {
    "duration": 24,
    "start_time": "2021-06-18T19:05:43.828Z"
   },
   {
    "duration": 17,
    "start_time": "2021-06-18T19:05:43.854Z"
   },
   {
    "duration": 36,
    "start_time": "2021-06-18T19:05:43.874Z"
   },
   {
    "duration": 48,
    "start_time": "2021-06-18T19:05:43.913Z"
   },
   {
    "duration": 12,
    "start_time": "2021-06-18T19:05:43.963Z"
   },
   {
    "duration": 37,
    "start_time": "2021-06-18T19:05:43.979Z"
   },
   {
    "duration": 20,
    "start_time": "2021-06-18T19:05:44.019Z"
   },
   {
    "duration": 7,
    "start_time": "2021-06-18T19:05:44.041Z"
   },
   {
    "duration": 16,
    "start_time": "2021-06-18T19:05:44.050Z"
   },
   {
    "duration": 18,
    "start_time": "2021-06-18T19:05:44.069Z"
   },
   {
    "duration": 19,
    "start_time": "2021-06-18T19:05:44.090Z"
   },
   {
    "duration": 15,
    "start_time": "2021-06-18T19:05:44.111Z"
   },
   {
    "duration": 11,
    "start_time": "2021-06-18T19:05:44.129Z"
   },
   {
    "duration": 28,
    "start_time": "2021-06-18T19:05:44.143Z"
   },
   {
    "duration": 39,
    "start_time": "2021-06-18T19:05:44.174Z"
   },
   {
    "duration": 28,
    "start_time": "2021-06-18T19:05:44.216Z"
   },
   {
    "duration": 26,
    "start_time": "2021-06-18T19:05:44.246Z"
   },
   {
    "duration": 52,
    "start_time": "2021-06-18T19:05:44.275Z"
   },
   {
    "duration": 17,
    "start_time": "2021-06-18T19:05:44.329Z"
   },
   {
    "duration": 21,
    "start_time": "2021-06-18T19:05:44.348Z"
   },
   {
    "duration": 13,
    "start_time": "2021-06-18T19:05:44.375Z"
   },
   {
    "duration": 3235,
    "start_time": "2021-06-18T19:05:44.391Z"
   },
   {
    "duration": 4,
    "start_time": "2021-06-18T19:05:47.629Z"
   },
   {
    "duration": 435,
    "start_time": "2021-06-18T19:05:47.636Z"
   },
   {
    "duration": 9,
    "start_time": "2021-06-18T19:05:48.074Z"
   },
   {
    "duration": 40,
    "start_time": "2021-06-18T19:05:48.085Z"
   },
   {
    "duration": 6,
    "start_time": "2021-06-18T19:05:48.127Z"
   },
   {
    "duration": 411,
    "start_time": "2021-06-18T19:05:48.136Z"
   },
   {
    "duration": 19,
    "start_time": "2021-06-18T19:05:48.549Z"
   },
   {
    "duration": 19,
    "start_time": "2021-06-18T19:05:48.570Z"
   },
   {
    "duration": 23,
    "start_time": "2021-06-18T19:05:48.591Z"
   },
   {
    "duration": 17,
    "start_time": "2021-06-18T19:05:48.616Z"
   },
   {
    "duration": 17,
    "start_time": "2021-06-18T19:05:48.635Z"
   },
   {
    "duration": 15,
    "start_time": "2021-06-18T19:05:48.654Z"
   },
   {
    "duration": 9,
    "start_time": "2021-06-18T19:05:48.671Z"
   },
   {
    "duration": 34,
    "start_time": "2021-06-18T19:05:48.683Z"
   },
   {
    "duration": 5,
    "start_time": "2021-06-18T19:05:48.719Z"
   },
   {
    "duration": 23,
    "start_time": "2021-06-18T19:05:48.726Z"
   },
   {
    "duration": 4,
    "start_time": "2021-06-18T19:05:48.752Z"
   },
   {
    "duration": 19,
    "start_time": "2021-06-18T19:05:48.758Z"
   },
   {
    "duration": 45,
    "start_time": "2021-06-18T19:05:48.779Z"
   },
   {
    "duration": 16,
    "start_time": "2021-06-18T19:05:48.826Z"
   },
   {
    "duration": 5,
    "start_time": "2021-06-18T19:05:48.844Z"
   },
   {
    "duration": 26,
    "start_time": "2021-06-18T19:05:48.851Z"
   },
   {
    "duration": 32,
    "start_time": "2021-06-18T19:05:48.879Z"
   },
   {
    "duration": 18,
    "start_time": "2021-06-18T19:05:48.914Z"
   },
   {
    "duration": 14,
    "start_time": "2021-06-18T19:05:48.934Z"
   },
   {
    "duration": 12,
    "start_time": "2021-06-18T19:05:48.950Z"
   },
   {
    "duration": 10,
    "start_time": "2021-06-18T19:05:48.964Z"
   },
   {
    "duration": 44,
    "start_time": "2021-06-18T19:05:48.977Z"
   },
   {
    "duration": 14,
    "start_time": "2021-06-18T19:05:49.023Z"
   },
   {
    "duration": 11,
    "start_time": "2021-06-18T19:05:49.039Z"
   },
   {
    "duration": 29,
    "start_time": "2021-06-18T19:05:49.052Z"
   },
   {
    "duration": 38,
    "start_time": "2021-06-18T19:05:49.083Z"
   },
   {
    "duration": 22,
    "start_time": "2021-06-18T19:05:49.124Z"
   },
   {
    "duration": 24,
    "start_time": "2021-06-18T19:05:49.149Z"
   },
   {
    "duration": 7,
    "start_time": "2021-06-18T19:12:23.699Z"
   },
   {
    "duration": 8,
    "start_time": "2021-06-18T19:12:26.546Z"
   },
   {
    "duration": 13,
    "start_time": "2021-06-18T19:12:30.779Z"
   },
   {
    "duration": 815,
    "start_time": "2021-06-19T13:21:57.390Z"
   },
   {
    "duration": 89,
    "start_time": "2021-06-19T13:21:58.209Z"
   },
   {
    "duration": 29,
    "start_time": "2021-06-19T13:21:58.301Z"
   },
   {
    "duration": 19,
    "start_time": "2021-06-19T13:21:58.332Z"
   },
   {
    "duration": 13,
    "start_time": "2021-06-19T13:21:58.353Z"
   },
   {
    "duration": 75,
    "start_time": "2021-06-19T13:21:58.369Z"
   },
   {
    "duration": 12,
    "start_time": "2021-06-19T13:21:58.447Z"
   },
   {
    "duration": 7,
    "start_time": "2021-06-19T13:21:58.464Z"
   },
   {
    "duration": 44,
    "start_time": "2021-06-19T13:21:58.474Z"
   },
   {
    "duration": 7,
    "start_time": "2021-06-19T13:21:58.521Z"
   },
   {
    "duration": 8,
    "start_time": "2021-06-19T13:21:58.530Z"
   },
   {
    "duration": 23,
    "start_time": "2021-06-19T13:21:58.540Z"
   },
   {
    "duration": 22,
    "start_time": "2021-06-19T13:21:58.565Z"
   },
   {
    "duration": 21,
    "start_time": "2021-06-19T13:21:58.589Z"
   },
   {
    "duration": 9,
    "start_time": "2021-06-19T13:21:58.613Z"
   },
   {
    "duration": 19,
    "start_time": "2021-06-19T13:21:58.625Z"
   },
   {
    "duration": 24,
    "start_time": "2021-06-19T13:21:58.646Z"
   },
   {
    "duration": 54,
    "start_time": "2021-06-19T13:21:58.673Z"
   },
   {
    "duration": 30,
    "start_time": "2021-06-19T13:21:58.730Z"
   },
   {
    "duration": 52,
    "start_time": "2021-06-19T13:21:58.762Z"
   },
   {
    "duration": 17,
    "start_time": "2021-06-19T13:21:58.816Z"
   },
   {
    "duration": 13,
    "start_time": "2021-06-19T13:21:58.836Z"
   },
   {
    "duration": 7,
    "start_time": "2021-06-19T13:21:58.855Z"
   },
   {
    "duration": 3217,
    "start_time": "2021-06-19T13:21:58.866Z"
   },
   {
    "duration": 5,
    "start_time": "2021-06-19T13:22:02.086Z"
   },
   {
    "duration": 440,
    "start_time": "2021-06-19T13:22:02.093Z"
   },
   {
    "duration": 9,
    "start_time": "2021-06-19T13:22:02.535Z"
   },
   {
    "duration": 34,
    "start_time": "2021-06-19T13:22:02.546Z"
   },
   {
    "duration": 31,
    "start_time": "2021-06-19T13:22:02.582Z"
   },
   {
    "duration": 406,
    "start_time": "2021-06-19T13:22:02.615Z"
   },
   {
    "duration": 20,
    "start_time": "2021-06-19T13:22:03.023Z"
   },
   {
    "duration": 20,
    "start_time": "2021-06-19T13:22:03.045Z"
   },
   {
    "duration": 16,
    "start_time": "2021-06-19T13:22:03.067Z"
   },
   {
    "duration": 27,
    "start_time": "2021-06-19T13:22:03.085Z"
   },
   {
    "duration": 38,
    "start_time": "2021-06-19T13:22:03.114Z"
   },
   {
    "duration": 17,
    "start_time": "2021-06-19T13:22:03.155Z"
   },
   {
    "duration": 13,
    "start_time": "2021-06-19T13:22:03.174Z"
   },
   {
    "duration": 21,
    "start_time": "2021-06-19T13:22:03.189Z"
   },
   {
    "duration": 6,
    "start_time": "2021-06-19T13:22:03.213Z"
   },
   {
    "duration": 16,
    "start_time": "2021-06-19T13:22:03.222Z"
   },
   {
    "duration": 8,
    "start_time": "2021-06-19T13:22:03.241Z"
   },
   {
    "duration": 19,
    "start_time": "2021-06-19T13:22:03.251Z"
   },
   {
    "duration": 56,
    "start_time": "2021-06-19T13:22:03.273Z"
   },
   {
    "duration": 20,
    "start_time": "2021-06-19T13:22:03.332Z"
   },
   {
    "duration": 14,
    "start_time": "2021-06-19T13:22:03.355Z"
   },
   {
    "duration": 48,
    "start_time": "2021-06-19T13:22:03.372Z"
   },
   {
    "duration": 5,
    "start_time": "2021-06-19T13:22:03.423Z"
   },
   {
    "duration": 27,
    "start_time": "2021-06-19T13:22:03.430Z"
   },
   {
    "duration": 13,
    "start_time": "2021-06-19T13:22:03.460Z"
   },
   {
    "duration": 43,
    "start_time": "2021-06-19T13:22:03.475Z"
   },
   {
    "duration": 4,
    "start_time": "2021-06-19T13:22:03.521Z"
   },
   {
    "duration": 14,
    "start_time": "2021-06-19T13:22:03.527Z"
   },
   {
    "duration": 13,
    "start_time": "2021-06-19T13:22:03.543Z"
   },
   {
    "duration": 18,
    "start_time": "2021-06-19T13:22:03.558Z"
   },
   {
    "duration": 5,
    "start_time": "2021-06-19T13:22:03.610Z"
   },
   {
    "duration": 27,
    "start_time": "2021-06-19T13:22:03.619Z"
   },
   {
    "duration": 63,
    "start_time": "2021-06-19T13:22:03.649Z"
   },
   {
    "duration": 42,
    "start_time": "2021-06-19T13:22:03.715Z"
   },
   {
    "duration": 743,
    "start_time": "2021-06-19T14:49:44.156Z"
   },
   {
    "duration": 93,
    "start_time": "2021-06-19T14:49:44.902Z"
   },
   {
    "duration": 32,
    "start_time": "2021-06-19T14:49:44.998Z"
   },
   {
    "duration": 53,
    "start_time": "2021-06-19T14:49:45.033Z"
   },
   {
    "duration": 85,
    "start_time": "2021-06-19T14:49:45.089Z"
   },
   {
    "duration": 47,
    "start_time": "2021-06-19T14:49:45.177Z"
   },
   {
    "duration": 12,
    "start_time": "2021-06-19T14:49:45.227Z"
   },
   {
    "duration": 22,
    "start_time": "2021-06-19T14:49:45.242Z"
   },
   {
    "duration": 12,
    "start_time": "2021-06-19T14:49:45.268Z"
   },
   {
    "duration": 28,
    "start_time": "2021-06-19T14:49:45.282Z"
   },
   {
    "duration": 5,
    "start_time": "2021-06-19T14:49:45.312Z"
   },
   {
    "duration": 24,
    "start_time": "2021-06-19T14:49:45.319Z"
   },
   {
    "duration": 420,
    "start_time": "2021-06-19T14:49:45.345Z"
   },
   {
    "duration": 156,
    "start_time": "2021-06-19T14:49:45.613Z"
   },
   {
    "duration": 154,
    "start_time": "2021-06-19T14:49:45.616Z"
   },
   {
    "duration": 151,
    "start_time": "2021-06-19T14:49:45.620Z"
   },
   {
    "duration": 150,
    "start_time": "2021-06-19T14:49:45.623Z"
   },
   {
    "duration": 147,
    "start_time": "2021-06-19T14:49:45.627Z"
   },
   {
    "duration": 145,
    "start_time": "2021-06-19T14:49:45.631Z"
   },
   {
    "duration": 143,
    "start_time": "2021-06-19T14:49:45.634Z"
   },
   {
    "duration": 142,
    "start_time": "2021-06-19T14:49:45.636Z"
   },
   {
    "duration": 140,
    "start_time": "2021-06-19T14:49:45.640Z"
   },
   {
    "duration": 138,
    "start_time": "2021-06-19T14:49:45.643Z"
   },
   {
    "duration": 137,
    "start_time": "2021-06-19T14:49:45.646Z"
   },
   {
    "duration": 136,
    "start_time": "2021-06-19T14:49:45.649Z"
   },
   {
    "duration": 135,
    "start_time": "2021-06-19T14:49:45.651Z"
   },
   {
    "duration": 134,
    "start_time": "2021-06-19T14:49:45.654Z"
   },
   {
    "duration": 131,
    "start_time": "2021-06-19T14:49:45.658Z"
   },
   {
    "duration": 129,
    "start_time": "2021-06-19T14:49:45.661Z"
   },
   {
    "duration": 127,
    "start_time": "2021-06-19T14:49:45.665Z"
   },
   {
    "duration": 124,
    "start_time": "2021-06-19T14:49:45.669Z"
   },
   {
    "duration": 106,
    "start_time": "2021-06-19T14:49:45.689Z"
   },
   {
    "duration": 104,
    "start_time": "2021-06-19T14:49:45.692Z"
   },
   {
    "duration": 102,
    "start_time": "2021-06-19T14:49:45.696Z"
   },
   {
    "duration": 100,
    "start_time": "2021-06-19T14:49:45.699Z"
   },
   {
    "duration": 97,
    "start_time": "2021-06-19T14:49:45.703Z"
   },
   {
    "duration": 96,
    "start_time": "2021-06-19T14:49:45.706Z"
   },
   {
    "duration": 93,
    "start_time": "2021-06-19T14:49:45.710Z"
   },
   {
    "duration": 82,
    "start_time": "2021-06-19T14:49:45.723Z"
   },
   {
    "duration": 79,
    "start_time": "2021-06-19T14:49:45.727Z"
   },
   {
    "duration": 77,
    "start_time": "2021-06-19T14:49:45.730Z"
   },
   {
    "duration": 74,
    "start_time": "2021-06-19T14:49:45.734Z"
   },
   {
    "duration": 72,
    "start_time": "2021-06-19T14:49:45.737Z"
   },
   {
    "duration": 69,
    "start_time": "2021-06-19T14:49:45.742Z"
   },
   {
    "duration": 67,
    "start_time": "2021-06-19T14:49:45.745Z"
   },
   {
    "duration": 66,
    "start_time": "2021-06-19T14:49:45.748Z"
   },
   {
    "duration": 64,
    "start_time": "2021-06-19T14:49:45.751Z"
   },
   {
    "duration": 62,
    "start_time": "2021-06-19T14:49:45.754Z"
   },
   {
    "duration": 60,
    "start_time": "2021-06-19T14:49:45.757Z"
   },
   {
    "duration": 57,
    "start_time": "2021-06-19T14:49:45.761Z"
   },
   {
    "duration": 56,
    "start_time": "2021-06-19T14:49:45.764Z"
   },
   {
    "duration": 54,
    "start_time": "2021-06-19T14:49:45.767Z"
   },
   {
    "duration": 50,
    "start_time": "2021-06-19T14:49:45.772Z"
   },
   {
    "duration": 47,
    "start_time": "2021-06-19T14:49:45.776Z"
   },
   {
    "duration": 45,
    "start_time": "2021-06-19T14:49:45.779Z"
   },
   {
    "duration": 43,
    "start_time": "2021-06-19T14:49:45.782Z"
   },
   {
    "duration": 41,
    "start_time": "2021-06-19T14:49:45.786Z"
   },
   {
    "duration": 39,
    "start_time": "2021-06-19T14:49:45.789Z"
   },
   {
    "duration": 814,
    "start_time": "2021-06-19T14:50:19.980Z"
   },
   {
    "duration": 90,
    "start_time": "2021-06-19T14:50:20.797Z"
   },
   {
    "duration": 32,
    "start_time": "2021-06-19T14:50:20.890Z"
   },
   {
    "duration": 15,
    "start_time": "2021-06-19T14:50:20.925Z"
   },
   {
    "duration": 13,
    "start_time": "2021-06-19T14:50:20.943Z"
   },
   {
    "duration": 90,
    "start_time": "2021-06-19T14:50:20.958Z"
   },
   {
    "duration": 15,
    "start_time": "2021-06-19T14:50:21.051Z"
   },
   {
    "duration": 36,
    "start_time": "2021-06-19T14:50:21.072Z"
   },
   {
    "duration": 14,
    "start_time": "2021-06-19T14:50:21.111Z"
   },
   {
    "duration": 8,
    "start_time": "2021-06-19T14:50:21.127Z"
   },
   {
    "duration": 8,
    "start_time": "2021-06-19T14:50:21.137Z"
   },
   {
    "duration": 23,
    "start_time": "2021-06-19T14:50:21.149Z"
   },
   {
    "duration": 484,
    "start_time": "2021-06-19T14:50:21.175Z"
   },
   {
    "duration": -50,
    "start_time": "2021-06-19T14:50:21.713Z"
   },
   {
    "duration": -68,
    "start_time": "2021-06-19T14:50:21.733Z"
   },
   {
    "duration": -86,
    "start_time": "2021-06-19T14:50:21.752Z"
   },
   {
    "duration": -89,
    "start_time": "2021-06-19T14:50:21.757Z"
   },
   {
    "duration": -92,
    "start_time": "2021-06-19T14:50:21.761Z"
   },
   {
    "duration": -107,
    "start_time": "2021-06-19T14:50:21.777Z"
   },
   {
    "duration": -123,
    "start_time": "2021-06-19T14:50:21.795Z"
   },
   {
    "duration": -142,
    "start_time": "2021-06-19T14:50:21.815Z"
   },
   {
    "duration": -170,
    "start_time": "2021-06-19T14:50:21.845Z"
   },
   {
    "duration": -187,
    "start_time": "2021-06-19T14:50:21.863Z"
   },
   {
    "duration": -201,
    "start_time": "2021-06-19T14:50:21.879Z"
   },
   {
    "duration": -218,
    "start_time": "2021-06-19T14:50:21.897Z"
   },
   {
    "duration": -234,
    "start_time": "2021-06-19T14:50:21.915Z"
   },
   {
    "duration": -250,
    "start_time": "2021-06-19T14:50:21.932Z"
   },
   {
    "duration": -272,
    "start_time": "2021-06-19T14:50:21.956Z"
   },
   {
    "duration": -303,
    "start_time": "2021-06-19T14:50:21.988Z"
   },
   {
    "duration": -321,
    "start_time": "2021-06-19T14:50:22.007Z"
   },
   {
    "duration": -351,
    "start_time": "2021-06-19T14:50:22.038Z"
   },
   {
    "duration": -478,
    "start_time": "2021-06-19T14:50:22.167Z"
   },
   {
    "duration": -511,
    "start_time": "2021-06-19T14:50:22.201Z"
   },
   {
    "duration": -527,
    "start_time": "2021-06-19T14:50:22.219Z"
   },
   {
    "duration": -555,
    "start_time": "2021-06-19T14:50:22.250Z"
   },
   {
    "duration": -571,
    "start_time": "2021-06-19T14:50:22.267Z"
   },
   {
    "duration": -600,
    "start_time": "2021-06-19T14:50:22.297Z"
   },
   {
    "duration": -615,
    "start_time": "2021-06-19T14:50:22.314Z"
   },
   {
    "duration": -631,
    "start_time": "2021-06-19T14:50:22.331Z"
   },
   {
    "duration": -640,
    "start_time": "2021-06-19T14:50:22.348Z"
   },
   {
    "duration": -647,
    "start_time": "2021-06-19T14:50:22.357Z"
   },
   {
    "duration": -649,
    "start_time": "2021-06-19T14:50:22.360Z"
   },
   {
    "duration": -657,
    "start_time": "2021-06-19T14:50:22.369Z"
   },
   {
    "duration": -659,
    "start_time": "2021-06-19T14:50:22.372Z"
   },
   {
    "duration": -660,
    "start_time": "2021-06-19T14:50:22.375Z"
   },
   {
    "duration": -663,
    "start_time": "2021-06-19T14:50:22.379Z"
   },
   {
    "duration": -672,
    "start_time": "2021-06-19T14:50:22.389Z"
   },
   {
    "duration": -675,
    "start_time": "2021-06-19T14:50:22.393Z"
   },
   {
    "duration": -688,
    "start_time": "2021-06-19T14:50:22.408Z"
   },
   {
    "duration": -691,
    "start_time": "2021-06-19T14:50:22.412Z"
   },
   {
    "duration": -706,
    "start_time": "2021-06-19T14:50:22.428Z"
   },
   {
    "duration": -721,
    "start_time": "2021-06-19T14:50:22.445Z"
   },
   {
    "duration": -738,
    "start_time": "2021-06-19T14:50:22.463Z"
   },
   {
    "duration": -755,
    "start_time": "2021-06-19T14:50:22.481Z"
   },
   {
    "duration": -775,
    "start_time": "2021-06-19T14:50:22.502Z"
   },
   {
    "duration": -792,
    "start_time": "2021-06-19T14:50:22.521Z"
   },
   {
    "duration": -825,
    "start_time": "2021-06-19T14:50:22.555Z"
   },
   {
    "duration": -844,
    "start_time": "2021-06-19T14:50:22.575Z"
   },
   {
    "duration": 31,
    "start_time": "2021-06-19T14:50:36.249Z"
   },
   {
    "duration": 4091,
    "start_time": "2021-06-19T14:55:38.461Z"
   },
   {
    "duration": 11,
    "start_time": "2021-06-19T14:56:09.956Z"
   },
   {
    "duration": 319,
    "start_time": "2021-06-19T14:56:55.434Z"
   },
   {
    "duration": 522,
    "start_time": "2021-06-19T14:57:23.081Z"
   },
   {
    "duration": 125,
    "start_time": "2021-06-19T14:57:35.369Z"
   },
   {
    "duration": 910,
    "start_time": "2021-06-19T14:57:44.127Z"
   },
   {
    "duration": 819,
    "start_time": "2021-06-19T14:58:15.094Z"
   },
   {
    "duration": 808,
    "start_time": "2021-06-19T14:58:25.517Z"
   },
   {
    "duration": 120,
    "start_time": "2021-06-19T14:58:53.086Z"
   },
   {
    "duration": 28,
    "start_time": "2021-06-19T14:58:56.941Z"
   },
   {
    "duration": 757,
    "start_time": "2021-06-19T15:11:55.148Z"
   },
   {
    "duration": 89,
    "start_time": "2021-06-19T15:11:55.910Z"
   },
   {
    "duration": 21,
    "start_time": "2021-06-19T15:11:56.009Z"
   },
   {
    "duration": 18,
    "start_time": "2021-06-19T15:11:56.032Z"
   },
   {
    "duration": 15,
    "start_time": "2021-06-19T15:11:56.052Z"
   },
   {
    "duration": 80,
    "start_time": "2021-06-19T15:11:56.069Z"
   },
   {
    "duration": 13,
    "start_time": "2021-06-19T15:11:56.152Z"
   },
   {
    "duration": 40,
    "start_time": "2021-06-19T15:11:56.169Z"
   },
   {
    "duration": 12,
    "start_time": "2021-06-19T15:11:56.212Z"
   },
   {
    "duration": 9,
    "start_time": "2021-06-19T15:11:56.227Z"
   },
   {
    "duration": 6,
    "start_time": "2021-06-19T15:11:56.238Z"
   },
   {
    "duration": 17,
    "start_time": "2021-06-19T15:11:56.246Z"
   },
   {
    "duration": 9,
    "start_time": "2021-06-19T15:11:56.265Z"
   },
   {
    "duration": 11,
    "start_time": "2021-06-19T15:11:56.310Z"
   },
   {
    "duration": 5,
    "start_time": "2021-06-19T15:11:56.323Z"
   },
   {
    "duration": 9,
    "start_time": "2021-06-19T15:11:56.330Z"
   },
   {
    "duration": 461,
    "start_time": "2021-06-19T15:11:56.341Z"
   },
   {
    "duration": -93,
    "start_time": "2021-06-19T15:11:56.901Z"
   },
   {
    "duration": -110,
    "start_time": "2021-06-19T15:11:56.920Z"
   },
   {
    "duration": -129,
    "start_time": "2021-06-19T15:11:56.940Z"
   },
   {
    "duration": -146,
    "start_time": "2021-06-19T15:11:56.958Z"
   },
   {
    "duration": -173,
    "start_time": "2021-06-19T15:11:56.987Z"
   },
   {
    "duration": -177,
    "start_time": "2021-06-19T15:11:56.992Z"
   },
   {
    "duration": -179,
    "start_time": "2021-06-19T15:11:56.996Z"
   },
   {
    "duration": -196,
    "start_time": "2021-06-19T15:11:57.015Z"
   },
   {
    "duration": -211,
    "start_time": "2021-06-19T15:11:57.031Z"
   },
   {
    "duration": -238,
    "start_time": "2021-06-19T15:11:57.060Z"
   },
   {
    "duration": -241,
    "start_time": "2021-06-19T15:11:57.064Z"
   },
   {
    "duration": -258,
    "start_time": "2021-06-19T15:11:57.083Z"
   },
   {
    "duration": -274,
    "start_time": "2021-06-19T15:11:57.100Z"
   },
   {
    "duration": -282,
    "start_time": "2021-06-19T15:11:57.109Z"
   },
   {
    "duration": -284,
    "start_time": "2021-06-19T15:11:57.113Z"
   },
   {
    "duration": -294,
    "start_time": "2021-06-19T15:11:57.124Z"
   },
   {
    "duration": -296,
    "start_time": "2021-06-19T15:11:57.128Z"
   },
   {
    "duration": -296,
    "start_time": "2021-06-19T15:11:57.131Z"
   },
   {
    "duration": -306,
    "start_time": "2021-06-19T15:11:57.142Z"
   },
   {
    "duration": -308,
    "start_time": "2021-06-19T15:11:57.146Z"
   },
   {
    "duration": -323,
    "start_time": "2021-06-19T15:11:57.162Z"
   },
   {
    "duration": -336,
    "start_time": "2021-06-19T15:11:57.177Z"
   },
   {
    "duration": -341,
    "start_time": "2021-06-19T15:11:57.183Z"
   },
   {
    "duration": -355,
    "start_time": "2021-06-19T15:11:57.199Z"
   },
   {
    "duration": -371,
    "start_time": "2021-06-19T15:11:57.216Z"
   },
   {
    "duration": -397,
    "start_time": "2021-06-19T15:11:57.244Z"
   },
   {
    "duration": -401,
    "start_time": "2021-06-19T15:11:57.249Z"
   },
   {
    "duration": -417,
    "start_time": "2021-06-19T15:11:57.266Z"
   },
   {
    "duration": -373,
    "start_time": "2021-06-19T15:11:57.282Z"
   },
   {
    "duration": -381,
    "start_time": "2021-06-19T15:11:57.291Z"
   },
   {
    "duration": -383,
    "start_time": "2021-06-19T15:11:57.295Z"
   },
   {
    "duration": -399,
    "start_time": "2021-06-19T15:11:57.312Z"
   },
   {
    "duration": -414,
    "start_time": "2021-06-19T15:11:57.328Z"
   },
   {
    "duration": -428,
    "start_time": "2021-06-19T15:11:57.344Z"
   },
   {
    "duration": -443,
    "start_time": "2021-06-19T15:11:57.360Z"
   },
   {
    "duration": -458,
    "start_time": "2021-06-19T15:11:57.376Z"
   },
   {
    "duration": -474,
    "start_time": "2021-06-19T15:11:57.394Z"
   },
   {
    "duration": -477,
    "start_time": "2021-06-19T15:11:57.399Z"
   },
   {
    "duration": -491,
    "start_time": "2021-06-19T15:11:57.415Z"
   },
   {
    "duration": 8579,
    "start_time": "2021-06-19T15:13:12.395Z"
   },
   {
    "duration": 8155,
    "start_time": "2021-06-19T15:13:23.801Z"
   },
   {
    "duration": 7821,
    "start_time": "2021-06-19T15:13:44.817Z"
   },
   {
    "duration": 882,
    "start_time": "2021-06-19T15:14:09.328Z"
   },
   {
    "duration": 89,
    "start_time": "2021-06-19T15:14:10.212Z"
   },
   {
    "duration": 22,
    "start_time": "2021-06-19T15:14:10.304Z"
   },
   {
    "duration": 17,
    "start_time": "2021-06-19T15:14:10.329Z"
   },
   {
    "duration": 13,
    "start_time": "2021-06-19T15:14:10.349Z"
   },
   {
    "duration": 88,
    "start_time": "2021-06-19T15:14:10.364Z"
   },
   {
    "duration": 14,
    "start_time": "2021-06-19T15:14:10.455Z"
   },
   {
    "duration": 10,
    "start_time": "2021-06-19T15:14:10.472Z"
   },
   {
    "duration": 14,
    "start_time": "2021-06-19T15:14:10.510Z"
   },
   {
    "duration": 9,
    "start_time": "2021-06-19T15:14:10.527Z"
   },
   {
    "duration": 17,
    "start_time": "2021-06-19T15:14:10.538Z"
   },
   {
    "duration": 21,
    "start_time": "2021-06-19T15:14:10.557Z"
   },
   {
    "duration": 32,
    "start_time": "2021-06-19T15:14:10.581Z"
   },
   {
    "duration": 13,
    "start_time": "2021-06-19T15:14:10.615Z"
   },
   {
    "duration": 14,
    "start_time": "2021-06-19T15:14:10.631Z"
   },
   {
    "duration": 6,
    "start_time": "2021-06-19T15:14:10.647Z"
   },
   {
    "duration": 480,
    "start_time": "2021-06-19T15:14:10.655Z"
   },
   {
    "duration": -153,
    "start_time": "2021-06-19T15:14:11.293Z"
   },
   {
    "duration": -183,
    "start_time": "2021-06-19T15:14:11.324Z"
   },
   {
    "duration": -199,
    "start_time": "2021-06-19T15:14:11.341Z"
   },
   {
    "duration": -204,
    "start_time": "2021-06-19T15:14:11.347Z"
   },
   {
    "duration": -208,
    "start_time": "2021-06-19T15:14:11.353Z"
   },
   {
    "duration": -209,
    "start_time": "2021-06-19T15:14:11.356Z"
   },
   {
    "duration": -211,
    "start_time": "2021-06-19T15:14:11.360Z"
   },
   {
    "duration": -229,
    "start_time": "2021-06-19T15:14:11.379Z"
   },
   {
    "duration": -243,
    "start_time": "2021-06-19T15:14:11.395Z"
   },
   {
    "duration": -262,
    "start_time": "2021-06-19T15:14:11.415Z"
   },
   {
    "duration": -291,
    "start_time": "2021-06-19T15:14:11.445Z"
   },
   {
    "duration": -294,
    "start_time": "2021-06-19T15:14:11.450Z"
   },
   {
    "duration": -300,
    "start_time": "2021-06-19T15:14:11.457Z"
   },
   {
    "duration": -302,
    "start_time": "2021-06-19T15:14:11.460Z"
   },
   {
    "duration": -330,
    "start_time": "2021-06-19T15:14:11.490Z"
   },
   {
    "duration": -335,
    "start_time": "2021-06-19T15:14:11.496Z"
   },
   {
    "duration": -351,
    "start_time": "2021-06-19T15:14:11.513Z"
   },
   {
    "duration": -369,
    "start_time": "2021-06-19T15:14:11.533Z"
   },
   {
    "duration": -385,
    "start_time": "2021-06-19T15:14:11.550Z"
   },
   {
    "duration": -398,
    "start_time": "2021-06-19T15:14:11.565Z"
   },
   {
    "duration": -412,
    "start_time": "2021-06-19T15:14:11.580Z"
   },
   {
    "duration": -427,
    "start_time": "2021-06-19T15:14:11.597Z"
   },
   {
    "duration": -444,
    "start_time": "2021-06-19T15:14:11.615Z"
   },
   {
    "duration": -425,
    "start_time": "2021-06-19T15:14:11.633Z"
   },
   {
    "duration": -441,
    "start_time": "2021-06-19T15:14:11.651Z"
   },
   {
    "duration": -448,
    "start_time": "2021-06-19T15:14:11.659Z"
   },
   {
    "duration": -456,
    "start_time": "2021-06-19T15:14:11.669Z"
   },
   {
    "duration": -459,
    "start_time": "2021-06-19T15:14:11.673Z"
   },
   {
    "duration": -462,
    "start_time": "2021-06-19T15:14:11.677Z"
   },
   {
    "duration": -470,
    "start_time": "2021-06-19T15:14:11.687Z"
   },
   {
    "duration": -473,
    "start_time": "2021-06-19T15:14:11.691Z"
   },
   {
    "duration": -481,
    "start_time": "2021-06-19T15:14:11.700Z"
   },
   {
    "duration": -483,
    "start_time": "2021-06-19T15:14:11.704Z"
   },
   {
    "duration": -486,
    "start_time": "2021-06-19T15:14:11.708Z"
   },
   {
    "duration": -500,
    "start_time": "2021-06-19T15:14:11.724Z"
   },
   {
    "duration": -514,
    "start_time": "2021-06-19T15:14:11.739Z"
   },
   {
    "duration": -530,
    "start_time": "2021-06-19T15:14:11.756Z"
   },
   {
    "duration": -545,
    "start_time": "2021-06-19T15:14:11.772Z"
   },
   {
    "duration": -547,
    "start_time": "2021-06-19T15:14:11.776Z"
   },
   {
    "duration": 25,
    "start_time": "2021-06-19T15:15:39.358Z"
   },
   {
    "duration": 320,
    "start_time": "2021-06-19T15:15:53.838Z"
   },
   {
    "duration": 320,
    "start_time": "2021-06-19T15:16:03.284Z"
   },
   {
    "duration": 337,
    "start_time": "2021-06-19T15:16:10.418Z"
   },
   {
    "duration": 361,
    "start_time": "2021-06-19T15:16:48.474Z"
   },
   {
    "duration": 9,
    "start_time": "2021-06-19T15:17:35.403Z"
   },
   {
    "duration": 14,
    "start_time": "2021-06-19T15:17:58.094Z"
   },
   {
    "duration": 367,
    "start_time": "2021-06-19T15:18:08.287Z"
   },
   {
    "duration": 8056,
    "start_time": "2021-06-19T15:23:39.782Z"
   },
   {
    "duration": 768,
    "start_time": "2021-06-19T15:24:14.433Z"
   },
   {
    "duration": 89,
    "start_time": "2021-06-19T15:24:15.204Z"
   },
   {
    "duration": 19,
    "start_time": "2021-06-19T15:24:15.296Z"
   },
   {
    "duration": 19,
    "start_time": "2021-06-19T15:24:15.317Z"
   },
   {
    "duration": 12,
    "start_time": "2021-06-19T15:24:15.339Z"
   },
   {
    "duration": 82,
    "start_time": "2021-06-19T15:24:15.354Z"
   },
   {
    "duration": 13,
    "start_time": "2021-06-19T15:24:15.438Z"
   },
   {
    "duration": 8,
    "start_time": "2021-06-19T15:24:15.455Z"
   },
   {
    "duration": 14,
    "start_time": "2021-06-19T15:24:15.466Z"
   },
   {
    "duration": 8,
    "start_time": "2021-06-19T15:24:15.509Z"
   },
   {
    "duration": 12,
    "start_time": "2021-06-19T15:24:15.520Z"
   },
   {
    "duration": 28,
    "start_time": "2021-06-19T15:24:15.535Z"
   },
   {
    "duration": 10,
    "start_time": "2021-06-19T15:24:15.565Z"
   },
   {
    "duration": 5,
    "start_time": "2021-06-19T15:24:15.610Z"
   },
   {
    "duration": 20,
    "start_time": "2021-06-19T15:24:15.617Z"
   },
   {
    "duration": 11,
    "start_time": "2021-06-19T15:24:15.640Z"
   },
   {
    "duration": 4,
    "start_time": "2021-06-19T15:24:15.654Z"
   },
   {
    "duration": 432,
    "start_time": "2021-06-19T15:24:15.660Z"
   },
   {
    "duration": -439,
    "start_time": "2021-06-19T15:24:16.534Z"
   },
   {
    "duration": -473,
    "start_time": "2021-06-19T15:24:16.570Z"
   },
   {
    "duration": -492,
    "start_time": "2021-06-19T15:24:16.590Z"
   },
   {
    "duration": -508,
    "start_time": "2021-06-19T15:24:16.608Z"
   },
   {
    "duration": -528,
    "start_time": "2021-06-19T15:24:16.629Z"
   },
   {
    "duration": -545,
    "start_time": "2021-06-19T15:24:16.647Z"
   },
   {
    "duration": -561,
    "start_time": "2021-06-19T15:24:16.664Z"
   },
   {
    "duration": -576,
    "start_time": "2021-06-19T15:24:16.681Z"
   },
   {
    "duration": -591,
    "start_time": "2021-06-19T15:24:16.697Z"
   },
   {
    "duration": -607,
    "start_time": "2021-06-19T15:24:16.714Z"
   },
   {
    "duration": -623,
    "start_time": "2021-06-19T15:24:16.731Z"
   },
   {
    "duration": -638,
    "start_time": "2021-06-19T15:24:16.748Z"
   },
   {
    "duration": -653,
    "start_time": "2021-06-19T15:24:16.764Z"
   },
   {
    "duration": -659,
    "start_time": "2021-06-19T15:24:16.772Z"
   },
   {
    "duration": -668,
    "start_time": "2021-06-19T15:24:16.782Z"
   },
   {
    "duration": -669,
    "start_time": "2021-06-19T15:24:16.785Z"
   },
   {
    "duration": -672,
    "start_time": "2021-06-19T15:24:16.789Z"
   },
   {
    "duration": -680,
    "start_time": "2021-06-19T15:24:16.798Z"
   },
   {
    "duration": -683,
    "start_time": "2021-06-19T15:24:16.803Z"
   },
   {
    "duration": -686,
    "start_time": "2021-06-19T15:24:16.807Z"
   },
   {
    "duration": -693,
    "start_time": "2021-06-19T15:24:16.815Z"
   },
   {
    "duration": -802,
    "start_time": "2021-06-19T15:24:16.925Z"
   },
   {
    "duration": -803,
    "start_time": "2021-06-19T15:24:16.928Z"
   },
   {
    "duration": -805,
    "start_time": "2021-06-19T15:24:16.931Z"
   },
   {
    "duration": -807,
    "start_time": "2021-06-19T15:24:16.934Z"
   },
   {
    "duration": -809,
    "start_time": "2021-06-19T15:24:16.938Z"
   },
   {
    "duration": -811,
    "start_time": "2021-06-19T15:24:16.941Z"
   },
   {
    "duration": -815,
    "start_time": "2021-06-19T15:24:16.947Z"
   },
   {
    "duration": -817,
    "start_time": "2021-06-19T15:24:16.950Z"
   },
   {
    "duration": -818,
    "start_time": "2021-06-19T15:24:16.952Z"
   },
   {
    "duration": -820,
    "start_time": "2021-06-19T15:24:16.956Z"
   },
   {
    "duration": -821,
    "start_time": "2021-06-19T15:24:16.959Z"
   },
   {
    "duration": -824,
    "start_time": "2021-06-19T15:24:16.963Z"
   },
   {
    "duration": -827,
    "start_time": "2021-06-19T15:24:16.967Z"
   },
   {
    "duration": -829,
    "start_time": "2021-06-19T15:24:16.971Z"
   },
   {
    "duration": -831,
    "start_time": "2021-06-19T15:24:16.974Z"
   },
   {
    "duration": -834,
    "start_time": "2021-06-19T15:24:16.978Z"
   },
   {
    "duration": 8065,
    "start_time": "2021-06-19T15:24:54.775Z"
   },
   {
    "duration": 8439,
    "start_time": "2021-06-19T15:25:09.308Z"
   },
   {
    "duration": 805,
    "start_time": "2021-06-19T15:25:28.802Z"
   },
   {
    "duration": 91,
    "start_time": "2021-06-19T15:25:29.610Z"
   },
   {
    "duration": 20,
    "start_time": "2021-06-19T15:25:29.709Z"
   },
   {
    "duration": 19,
    "start_time": "2021-06-19T15:25:29.733Z"
   },
   {
    "duration": 15,
    "start_time": "2021-06-19T15:25:29.755Z"
   },
   {
    "duration": 48,
    "start_time": "2021-06-19T15:25:29.808Z"
   },
   {
    "duration": 15,
    "start_time": "2021-06-19T15:25:29.859Z"
   },
   {
    "duration": 38,
    "start_time": "2021-06-19T15:25:29.879Z"
   },
   {
    "duration": 15,
    "start_time": "2021-06-19T15:25:29.920Z"
   },
   {
    "duration": 8,
    "start_time": "2021-06-19T15:25:29.938Z"
   },
   {
    "duration": 5,
    "start_time": "2021-06-19T15:25:29.949Z"
   },
   {
    "duration": 58,
    "start_time": "2021-06-19T15:25:29.956Z"
   },
   {
    "duration": 15,
    "start_time": "2021-06-19T15:25:30.016Z"
   },
   {
    "duration": 13,
    "start_time": "2021-06-19T15:25:30.033Z"
   },
   {
    "duration": 15,
    "start_time": "2021-06-19T15:25:30.048Z"
   },
   {
    "duration": 13,
    "start_time": "2021-06-19T15:25:30.065Z"
   },
   {
    "duration": 5,
    "start_time": "2021-06-19T15:25:30.109Z"
   },
   {
    "duration": 482,
    "start_time": "2021-06-19T15:25:30.116Z"
   },
   {
    "duration": -391,
    "start_time": "2021-06-19T15:25:30.994Z"
   },
   {
    "duration": -394,
    "start_time": "2021-06-19T15:25:30.998Z"
   },
   {
    "duration": -398,
    "start_time": "2021-06-19T15:25:31.003Z"
   },
   {
    "duration": -402,
    "start_time": "2021-06-19T15:25:31.009Z"
   },
   {
    "duration": -405,
    "start_time": "2021-06-19T15:25:31.013Z"
   },
   {
    "duration": -407,
    "start_time": "2021-06-19T15:25:31.017Z"
   },
   {
    "duration": -410,
    "start_time": "2021-06-19T15:25:31.021Z"
   },
   {
    "duration": -411,
    "start_time": "2021-06-19T15:25:31.024Z"
   },
   {
    "duration": -412,
    "start_time": "2021-06-19T15:25:31.027Z"
   },
   {
    "duration": -414,
    "start_time": "2021-06-19T15:25:31.030Z"
   },
   {
    "duration": -427,
    "start_time": "2021-06-19T15:25:31.044Z"
   },
   {
    "duration": -429,
    "start_time": "2021-06-19T15:25:31.048Z"
   },
   {
    "duration": -431,
    "start_time": "2021-06-19T15:25:31.051Z"
   },
   {
    "duration": -432,
    "start_time": "2021-06-19T15:25:31.054Z"
   },
   {
    "duration": -434,
    "start_time": "2021-06-19T15:25:31.057Z"
   },
   {
    "duration": -437,
    "start_time": "2021-06-19T15:25:31.061Z"
   },
   {
    "duration": -439,
    "start_time": "2021-06-19T15:25:31.065Z"
   },
   {
    "duration": -442,
    "start_time": "2021-06-19T15:25:31.069Z"
   },
   {
    "duration": -450,
    "start_time": "2021-06-19T15:25:31.079Z"
   },
   {
    "duration": -454,
    "start_time": "2021-06-19T15:25:31.084Z"
   },
   {
    "duration": -473,
    "start_time": "2021-06-19T15:25:31.104Z"
   },
   {
    "duration": -476,
    "start_time": "2021-06-19T15:25:31.109Z"
   },
   {
    "duration": -478,
    "start_time": "2021-06-19T15:25:31.112Z"
   },
   {
    "duration": -478,
    "start_time": "2021-06-19T15:25:31.114Z"
   },
   {
    "duration": -480,
    "start_time": "2021-06-19T15:25:31.118Z"
   },
   {
    "duration": -480,
    "start_time": "2021-06-19T15:25:31.121Z"
   },
   {
    "duration": -482,
    "start_time": "2021-06-19T15:25:31.124Z"
   },
   {
    "duration": -483,
    "start_time": "2021-06-19T15:25:31.127Z"
   },
   {
    "duration": -486,
    "start_time": "2021-06-19T15:25:31.131Z"
   },
   {
    "duration": -487,
    "start_time": "2021-06-19T15:25:31.134Z"
   },
   {
    "duration": -489,
    "start_time": "2021-06-19T15:25:31.137Z"
   },
   {
    "duration": -431,
    "start_time": "2021-06-19T15:25:31.140Z"
   },
   {
    "duration": -433,
    "start_time": "2021-06-19T15:25:31.143Z"
   },
   {
    "duration": -435,
    "start_time": "2021-06-19T15:25:31.147Z"
   },
   {
    "duration": -438,
    "start_time": "2021-06-19T15:25:31.151Z"
   },
   {
    "duration": -440,
    "start_time": "2021-06-19T15:25:31.154Z"
   },
   {
    "duration": -442,
    "start_time": "2021-06-19T15:25:31.158Z"
   },
   {
    "duration": 7841,
    "start_time": "2021-06-19T15:26:35.092Z"
   },
   {
    "duration": 774,
    "start_time": "2021-06-19T15:29:36.628Z"
   },
   {
    "duration": 88,
    "start_time": "2021-06-19T15:29:37.405Z"
   },
   {
    "duration": 28,
    "start_time": "2021-06-19T15:29:37.496Z"
   },
   {
    "duration": 16,
    "start_time": "2021-06-19T15:29:37.527Z"
   },
   {
    "duration": 12,
    "start_time": "2021-06-19T15:29:37.546Z"
   },
   {
    "duration": 82,
    "start_time": "2021-06-19T15:29:37.561Z"
   },
   {
    "duration": 14,
    "start_time": "2021-06-19T15:29:37.645Z"
   },
   {
    "duration": 8,
    "start_time": "2021-06-19T15:29:37.663Z"
   },
   {
    "duration": 41,
    "start_time": "2021-06-19T15:29:37.674Z"
   },
   {
    "duration": 8,
    "start_time": "2021-06-19T15:29:37.717Z"
   },
   {
    "duration": 6,
    "start_time": "2021-06-19T15:29:37.727Z"
   },
   {
    "duration": 14,
    "start_time": "2021-06-19T15:29:37.736Z"
   },
   {
    "duration": 9,
    "start_time": "2021-06-19T15:29:37.752Z"
   },
   {
    "duration": 48,
    "start_time": "2021-06-19T15:29:37.764Z"
   },
   {
    "duration": 13,
    "start_time": "2021-06-19T15:29:37.814Z"
   },
   {
    "duration": 5,
    "start_time": "2021-06-19T15:29:37.829Z"
   },
   {
    "duration": 19,
    "start_time": "2021-06-19T15:29:37.837Z"
   },
   {
    "duration": 8417,
    "start_time": "2021-06-19T15:29:37.858Z"
   },
   {
    "duration": -66,
    "start_time": "2021-06-19T15:29:46.345Z"
   },
   {
    "duration": -79,
    "start_time": "2021-06-19T15:29:46.359Z"
   },
   {
    "duration": -108,
    "start_time": "2021-06-19T15:29:46.389Z"
   },
   {
    "duration": -122,
    "start_time": "2021-06-19T15:29:46.404Z"
   },
   {
    "duration": -149,
    "start_time": "2021-06-19T15:29:46.433Z"
   },
   {
    "duration": -164,
    "start_time": "2021-06-19T15:29:46.449Z"
   },
   {
    "duration": -180,
    "start_time": "2021-06-19T15:29:46.466Z"
   },
   {
    "duration": -195,
    "start_time": "2021-06-19T15:29:46.482Z"
   },
   {
    "duration": -210,
    "start_time": "2021-06-19T15:29:46.499Z"
   },
   {
    "duration": -226,
    "start_time": "2021-06-19T15:29:46.516Z"
   },
   {
    "duration": -241,
    "start_time": "2021-06-19T15:29:46.532Z"
   },
   {
    "duration": -257,
    "start_time": "2021-06-19T15:29:46.550Z"
   },
   {
    "duration": -275,
    "start_time": "2021-06-19T15:29:46.569Z"
   },
   {
    "duration": -292,
    "start_time": "2021-06-19T15:29:46.587Z"
   },
   {
    "duration": -308,
    "start_time": "2021-06-19T15:29:46.605Z"
   },
   {
    "duration": -323,
    "start_time": "2021-06-19T15:29:46.621Z"
   },
   {
    "duration": -338,
    "start_time": "2021-06-19T15:29:46.637Z"
   },
   {
    "duration": -352,
    "start_time": "2021-06-19T15:29:46.652Z"
   },
   {
    "duration": -367,
    "start_time": "2021-06-19T15:29:46.669Z"
   },
   {
    "duration": -382,
    "start_time": "2021-06-19T15:29:46.685Z"
   },
   {
    "duration": -398,
    "start_time": "2021-06-19T15:29:46.702Z"
   },
   {
    "duration": -415,
    "start_time": "2021-06-19T15:29:46.721Z"
   },
   {
    "duration": -434,
    "start_time": "2021-06-19T15:29:46.741Z"
   },
   {
    "duration": -436,
    "start_time": "2021-06-19T15:29:46.744Z"
   },
   {
    "duration": -451,
    "start_time": "2021-06-19T15:29:46.761Z"
   },
   {
    "duration": -455,
    "start_time": "2021-06-19T15:29:46.766Z"
   },
   {
    "duration": -469,
    "start_time": "2021-06-19T15:29:46.781Z"
   },
   {
    "duration": -483,
    "start_time": "2021-06-19T15:29:46.796Z"
   },
   {
    "duration": -498,
    "start_time": "2021-06-19T15:29:46.812Z"
   },
   {
    "duration": -513,
    "start_time": "2021-06-19T15:29:46.828Z"
   },
   {
    "duration": -527,
    "start_time": "2021-06-19T15:29:46.844Z"
   },
   {
    "duration": -529,
    "start_time": "2021-06-19T15:29:46.847Z"
   },
   {
    "duration": -546,
    "start_time": "2021-06-19T15:29:46.865Z"
   },
   {
    "duration": -560,
    "start_time": "2021-06-19T15:29:46.880Z"
   },
   {
    "duration": -568,
    "start_time": "2021-06-19T15:29:46.890Z"
   },
   {
    "duration": -570,
    "start_time": "2021-06-19T15:29:46.893Z"
   },
   {
    "duration": -572,
    "start_time": "2021-06-19T15:29:46.896Z"
   },
   {
    "duration": -580,
    "start_time": "2021-06-19T15:29:46.905Z"
   },
   {
    "duration": 783,
    "start_time": "2021-06-19T15:30:35.420Z"
   },
   {
    "duration": 89,
    "start_time": "2021-06-19T15:30:36.206Z"
   },
   {
    "duration": 24,
    "start_time": "2021-06-19T15:30:36.301Z"
   },
   {
    "duration": 20,
    "start_time": "2021-06-19T15:30:36.329Z"
   },
   {
    "duration": 15,
    "start_time": "2021-06-19T15:30:36.352Z"
   },
   {
    "duration": 50,
    "start_time": "2021-06-19T15:30:36.410Z"
   },
   {
    "duration": 14,
    "start_time": "2021-06-19T15:30:36.466Z"
   },
   {
    "duration": 35,
    "start_time": "2021-06-19T15:30:36.483Z"
   },
   {
    "duration": 30,
    "start_time": "2021-06-19T15:30:36.521Z"
   },
   {
    "duration": 10,
    "start_time": "2021-06-19T15:30:36.554Z"
   },
   {
    "duration": 6,
    "start_time": "2021-06-19T15:30:36.566Z"
   },
   {
    "duration": 46,
    "start_time": "2021-06-19T15:30:36.575Z"
   },
   {
    "duration": 10,
    "start_time": "2021-06-19T15:30:36.623Z"
   },
   {
    "duration": 11,
    "start_time": "2021-06-19T15:30:36.635Z"
   },
   {
    "duration": 12,
    "start_time": "2021-06-19T15:30:36.648Z"
   },
   {
    "duration": 6,
    "start_time": "2021-06-19T15:30:36.662Z"
   },
   {
    "duration": 48,
    "start_time": "2021-06-19T15:30:36.671Z"
   },
   {
    "duration": 16,
    "start_time": "2021-06-19T15:30:36.722Z"
   },
   {
    "duration": 10,
    "start_time": "2021-06-19T15:30:36.741Z"
   },
   {
    "duration": 425,
    "start_time": "2021-06-19T15:30:36.753Z"
   },
   {
    "duration": -361,
    "start_time": "2021-06-19T15:30:37.546Z"
   },
   {
    "duration": -363,
    "start_time": "2021-06-19T15:30:37.549Z"
   },
   {
    "duration": -487,
    "start_time": "2021-06-19T15:30:37.675Z"
   },
   {
    "duration": -500,
    "start_time": "2021-06-19T15:30:37.691Z"
   },
   {
    "duration": -515,
    "start_time": "2021-06-19T15:30:37.708Z"
   },
   {
    "duration": -532,
    "start_time": "2021-06-19T15:30:37.727Z"
   },
   {
    "duration": -549,
    "start_time": "2021-06-19T15:30:37.746Z"
   },
   {
    "duration": -564,
    "start_time": "2021-06-19T15:30:37.763Z"
   },
   {
    "duration": -579,
    "start_time": "2021-06-19T15:30:37.780Z"
   },
   {
    "duration": -604,
    "start_time": "2021-06-19T15:30:37.808Z"
   },
   {
    "duration": -619,
    "start_time": "2021-06-19T15:30:37.825Z"
   },
   {
    "duration": -634,
    "start_time": "2021-06-19T15:30:37.842Z"
   },
   {
    "duration": -649,
    "start_time": "2021-06-19T15:30:37.859Z"
   },
   {
    "duration": -663,
    "start_time": "2021-06-19T15:30:37.876Z"
   },
   {
    "duration": -677,
    "start_time": "2021-06-19T15:30:37.893Z"
   },
   {
    "duration": -694,
    "start_time": "2021-06-19T15:30:37.912Z"
   },
   {
    "duration": -720,
    "start_time": "2021-06-19T15:30:37.940Z"
   },
   {
    "duration": -735,
    "start_time": "2021-06-19T15:30:37.957Z"
   },
   {
    "duration": -750,
    "start_time": "2021-06-19T15:30:37.974Z"
   },
   {
    "duration": -766,
    "start_time": "2021-06-19T15:30:37.993Z"
   },
   {
    "duration": -779,
    "start_time": "2021-06-19T15:30:38.008Z"
   },
   {
    "duration": -795,
    "start_time": "2021-06-19T15:30:38.026Z"
   },
   {
    "duration": -810,
    "start_time": "2021-06-19T15:30:38.043Z"
   },
   {
    "duration": -824,
    "start_time": "2021-06-19T15:30:38.059Z"
   },
   {
    "duration": -837,
    "start_time": "2021-06-19T15:30:38.075Z"
   },
   {
    "duration": -852,
    "start_time": "2021-06-19T15:30:38.092Z"
   },
   {
    "duration": -866,
    "start_time": "2021-06-19T15:30:38.108Z"
   },
   {
    "duration": -881,
    "start_time": "2021-06-19T15:30:38.125Z"
   },
   {
    "duration": -896,
    "start_time": "2021-06-19T15:30:38.142Z"
   },
   {
    "duration": -910,
    "start_time": "2021-06-19T15:30:38.159Z"
   },
   {
    "duration": -916,
    "start_time": "2021-06-19T15:30:38.167Z"
   },
   {
    "duration": -919,
    "start_time": "2021-06-19T15:30:38.171Z"
   },
   {
    "duration": -927,
    "start_time": "2021-06-19T15:30:38.180Z"
   },
   {
    "duration": -930,
    "start_time": "2021-06-19T15:30:38.184Z"
   },
   {
    "duration": -932,
    "start_time": "2021-06-19T15:30:38.187Z"
   },
   {
    "duration": -881,
    "start_time": "2021-06-19T15:30:38.191Z"
   },
   {
    "duration": 3455,
    "start_time": "2021-06-19T15:31:10.026Z"
   },
   {
    "duration": 11,
    "start_time": "2021-06-19T15:33:58.442Z"
   },
   {
    "duration": 11,
    "start_time": "2021-06-19T15:35:37.085Z"
   },
   {
    "duration": 12,
    "start_time": "2021-06-19T15:41:04.182Z"
   },
   {
    "duration": 6,
    "start_time": "2021-06-19T15:41:31.950Z"
   },
   {
    "duration": 7,
    "start_time": "2021-06-19T15:41:39.282Z"
   },
   {
    "duration": 312,
    "start_time": "2021-06-19T15:41:42.823Z"
   },
   {
    "duration": 330,
    "start_time": "2021-06-19T15:41:56.995Z"
   },
   {
    "duration": 343,
    "start_time": "2021-06-19T15:42:02.581Z"
   },
   {
    "duration": 9,
    "start_time": "2021-06-19T15:43:12.073Z"
   },
   {
    "duration": 381,
    "start_time": "2021-06-19T15:43:15.355Z"
   },
   {
    "duration": 15,
    "start_time": "2021-06-19T15:44:05.256Z"
   },
   {
    "duration": 12,
    "start_time": "2021-06-19T15:45:39.638Z"
   },
   {
    "duration": 14,
    "start_time": "2021-06-19T15:45:49.445Z"
   },
   {
    "duration": 9,
    "start_time": "2021-06-19T15:51:31.570Z"
   },
   {
    "duration": 8,
    "start_time": "2021-06-19T15:51:33.057Z"
   },
   {
    "duration": 15,
    "start_time": "2021-06-19T15:51:34.552Z"
   },
   {
    "duration": 8,
    "start_time": "2021-06-19T15:52:35.712Z"
   },
   {
    "duration": 7,
    "start_time": "2021-06-19T15:52:37.712Z"
   },
   {
    "duration": 16,
    "start_time": "2021-06-19T15:52:39.256Z"
   },
   {
    "duration": 6,
    "start_time": "2021-06-19T15:54:17.765Z"
   },
   {
    "duration": 8,
    "start_time": "2021-06-19T15:54:21.318Z"
   },
   {
    "duration": 19,
    "start_time": "2021-06-19T15:54:35.363Z"
   },
   {
    "duration": 815,
    "start_time": "2021-06-19T15:58:39.576Z"
   },
   {
    "duration": 90,
    "start_time": "2021-06-19T15:58:40.394Z"
   },
   {
    "duration": 28,
    "start_time": "2021-06-19T15:58:40.487Z"
   },
   {
    "duration": 26,
    "start_time": "2021-06-19T15:58:40.518Z"
   },
   {
    "duration": 13,
    "start_time": "2021-06-19T15:58:40.547Z"
   },
   {
    "duration": 81,
    "start_time": "2021-06-19T15:58:40.562Z"
   },
   {
    "duration": 12,
    "start_time": "2021-06-19T15:58:40.645Z"
   },
   {
    "duration": 11,
    "start_time": "2021-06-19T15:58:40.661Z"
   },
   {
    "duration": 14,
    "start_time": "2021-06-19T15:58:40.709Z"
   },
   {
    "duration": 9,
    "start_time": "2021-06-19T15:58:40.725Z"
   },
   {
    "duration": 11,
    "start_time": "2021-06-19T15:58:40.736Z"
   },
   {
    "duration": 15,
    "start_time": "2021-06-19T15:58:40.749Z"
   },
   {
    "duration": 8,
    "start_time": "2021-06-19T15:58:40.767Z"
   },
   {
    "duration": 12,
    "start_time": "2021-06-19T15:58:40.810Z"
   },
   {
    "duration": 5,
    "start_time": "2021-06-19T15:58:40.825Z"
   },
   {
    "duration": 20,
    "start_time": "2021-06-19T15:58:40.832Z"
   },
   {
    "duration": 58,
    "start_time": "2021-06-19T15:58:40.854Z"
   },
   {
    "duration": 5,
    "start_time": "2021-06-19T15:58:40.914Z"
   },
   {
    "duration": 40,
    "start_time": "2021-06-19T15:58:40.921Z"
   },
   {
    "duration": 16,
    "start_time": "2021-06-19T15:58:40.964Z"
   },
   {
    "duration": 33,
    "start_time": "2021-06-19T15:58:40.982Z"
   },
   {
    "duration": 5,
    "start_time": "2021-06-19T15:58:41.018Z"
   },
   {
    "duration": 27,
    "start_time": "2021-06-19T15:58:41.028Z"
   },
   {
    "duration": 25,
    "start_time": "2021-06-19T15:58:41.058Z"
   },
   {
    "duration": 11,
    "start_time": "2021-06-19T15:58:41.109Z"
   },
   {
    "duration": 28,
    "start_time": "2021-06-19T15:58:41.122Z"
   },
   {
    "duration": 26,
    "start_time": "2021-06-19T15:58:41.152Z"
   },
   {
    "duration": 58,
    "start_time": "2021-06-19T15:58:41.180Z"
   },
   {
    "duration": 29,
    "start_time": "2021-06-19T15:58:41.240Z"
   },
   {
    "duration": 55,
    "start_time": "2021-06-19T15:58:41.271Z"
   },
   {
    "duration": 18,
    "start_time": "2021-06-19T15:58:41.329Z"
   },
   {
    "duration": 16,
    "start_time": "2021-06-19T15:58:41.349Z"
   },
   {
    "duration": 9,
    "start_time": "2021-06-19T15:58:41.367Z"
   },
   {
    "duration": 3343,
    "start_time": "2021-06-19T15:58:41.378Z"
   },
   {
    "duration": 5,
    "start_time": "2021-06-19T15:58:44.723Z"
   },
   {
    "duration": 410,
    "start_time": "2021-06-19T15:58:44.731Z"
   },
   {
    "duration": 12,
    "start_time": "2021-06-19T15:58:45.143Z"
   },
   {
    "duration": 56,
    "start_time": "2021-06-19T15:58:45.158Z"
   },
   {
    "duration": 9,
    "start_time": "2021-06-19T15:58:45.217Z"
   },
   {
    "duration": 428,
    "start_time": "2021-06-19T15:58:45.230Z"
   },
   {
    "duration": 21,
    "start_time": "2021-06-19T15:58:45.662Z"
   },
   {
    "duration": 28,
    "start_time": "2021-06-19T15:58:45.685Z"
   },
   {
    "duration": 12,
    "start_time": "2021-06-19T15:58:45.715Z"
   },
   {
    "duration": 10,
    "start_time": "2021-06-19T15:58:45.729Z"
   },
   {
    "duration": 13,
    "start_time": "2021-06-19T15:58:45.741Z"
   },
   {
    "duration": 52,
    "start_time": "2021-06-19T15:58:45.757Z"
   },
   {
    "duration": 25,
    "start_time": "2021-06-19T15:58:45.812Z"
   },
   {
    "duration": 13,
    "start_time": "2021-06-19T15:58:45.840Z"
   },
   {
    "duration": 12,
    "start_time": "2021-06-19T15:58:45.855Z"
   },
   {
    "duration": 42,
    "start_time": "2021-06-19T15:58:45.869Z"
   },
   {
    "duration": 12,
    "start_time": "2021-06-19T15:58:45.913Z"
   },
   {
    "duration": 7,
    "start_time": "2021-06-19T15:58:45.928Z"
   },
   {
    "duration": 14,
    "start_time": "2021-06-19T15:58:45.937Z"
   },
   {
    "duration": 56,
    "start_time": "2021-06-19T15:58:45.953Z"
   },
   {
    "duration": 21,
    "start_time": "2021-06-19T15:58:46.011Z"
   },
   {
    "duration": 22,
    "start_time": "2021-06-19T15:58:46.035Z"
   },
   {
    "duration": 54,
    "start_time": "2021-06-19T15:58:46.059Z"
   },
   {
    "duration": 777,
    "start_time": "2021-06-19T16:00:41.026Z"
   },
   {
    "duration": 91,
    "start_time": "2021-06-19T16:00:41.809Z"
   },
   {
    "duration": 21,
    "start_time": "2021-06-19T16:00:41.903Z"
   },
   {
    "duration": 25,
    "start_time": "2021-06-19T16:00:41.927Z"
   },
   {
    "duration": 33,
    "start_time": "2021-06-19T16:00:41.954Z"
   },
   {
    "duration": 65,
    "start_time": "2021-06-19T16:00:41.989Z"
   },
   {
    "duration": 12,
    "start_time": "2021-06-19T16:00:42.057Z"
   },
   {
    "duration": 38,
    "start_time": "2021-06-19T16:00:42.073Z"
   },
   {
    "duration": 22,
    "start_time": "2021-06-19T16:00:42.115Z"
   },
   {
    "duration": 13,
    "start_time": "2021-06-19T16:00:42.139Z"
   },
   {
    "duration": 9,
    "start_time": "2021-06-19T16:00:42.155Z"
   },
   {
    "duration": 47,
    "start_time": "2021-06-19T16:00:42.167Z"
   },
   {
    "duration": 13,
    "start_time": "2021-06-19T16:00:42.216Z"
   },
   {
    "duration": 23,
    "start_time": "2021-06-19T16:00:42.231Z"
   },
   {
    "duration": 10,
    "start_time": "2021-06-19T16:00:42.257Z"
   },
   {
    "duration": 18,
    "start_time": "2021-06-19T16:00:42.270Z"
   },
   {
    "duration": 17,
    "start_time": "2021-06-19T16:00:42.310Z"
   },
   {
    "duration": 6,
    "start_time": "2021-06-19T16:00:42.330Z"
   },
   {
    "duration": 435,
    "start_time": "2021-06-19T16:00:42.340Z"
   },
   {
    "duration": -485,
    "start_time": "2021-06-19T16:00:43.266Z"
   },
   {
    "duration": -496,
    "start_time": "2021-06-19T16:00:43.279Z"
   },
   {
    "duration": -498,
    "start_time": "2021-06-19T16:00:43.283Z"
   },
   {
    "duration": -509,
    "start_time": "2021-06-19T16:00:43.296Z"
   },
   {
    "duration": -511,
    "start_time": "2021-06-19T16:00:43.300Z"
   },
   {
    "duration": -524,
    "start_time": "2021-06-19T16:00:43.316Z"
   },
   {
    "duration": -527,
    "start_time": "2021-06-19T16:00:43.321Z"
   },
   {
    "duration": -536,
    "start_time": "2021-06-19T16:00:43.332Z"
   },
   {
    "duration": -538,
    "start_time": "2021-06-19T16:00:43.336Z"
   },
   {
    "duration": -546,
    "start_time": "2021-06-19T16:00:43.346Z"
   },
   {
    "duration": -547,
    "start_time": "2021-06-19T16:00:43.349Z"
   },
   {
    "duration": -549,
    "start_time": "2021-06-19T16:00:43.353Z"
   },
   {
    "duration": -550,
    "start_time": "2021-06-19T16:00:43.356Z"
   },
   {
    "duration": -551,
    "start_time": "2021-06-19T16:00:43.359Z"
   },
   {
    "duration": -552,
    "start_time": "2021-06-19T16:00:43.362Z"
   },
   {
    "duration": -553,
    "start_time": "2021-06-19T16:00:43.365Z"
   },
   {
    "duration": -554,
    "start_time": "2021-06-19T16:00:43.369Z"
   },
   {
    "duration": -556,
    "start_time": "2021-06-19T16:00:43.373Z"
   },
   {
    "duration": -556,
    "start_time": "2021-06-19T16:00:43.375Z"
   },
   {
    "duration": -557,
    "start_time": "2021-06-19T16:00:43.378Z"
   },
   {
    "duration": -558,
    "start_time": "2021-06-19T16:00:43.381Z"
   },
   {
    "duration": -559,
    "start_time": "2021-06-19T16:00:43.385Z"
   },
   {
    "duration": -560,
    "start_time": "2021-06-19T16:00:43.388Z"
   },
   {
    "duration": -562,
    "start_time": "2021-06-19T16:00:43.392Z"
   },
   {
    "duration": -562,
    "start_time": "2021-06-19T16:00:43.394Z"
   },
   {
    "duration": -562,
    "start_time": "2021-06-19T16:00:43.397Z"
   },
   {
    "duration": -564,
    "start_time": "2021-06-19T16:00:43.401Z"
   },
   {
    "duration": -565,
    "start_time": "2021-06-19T16:00:43.404Z"
   },
   {
    "duration": -566,
    "start_time": "2021-06-19T16:00:43.407Z"
   },
   {
    "duration": -567,
    "start_time": "2021-06-19T16:00:43.410Z"
   },
   {
    "duration": -568,
    "start_time": "2021-06-19T16:00:43.413Z"
   },
   {
    "duration": -570,
    "start_time": "2021-06-19T16:00:43.417Z"
   },
   {
    "duration": -511,
    "start_time": "2021-06-19T16:00:43.420Z"
   },
   {
    "duration": -513,
    "start_time": "2021-06-19T16:00:43.424Z"
   },
   {
    "duration": -513,
    "start_time": "2021-06-19T16:00:43.427Z"
   },
   {
    "duration": -514,
    "start_time": "2021-06-19T16:00:43.430Z"
   },
   {
    "duration": -515,
    "start_time": "2021-06-19T16:00:43.433Z"
   },
   {
    "duration": -516,
    "start_time": "2021-06-19T16:00:43.436Z"
   },
   {
    "duration": 401,
    "start_time": "2021-06-19T16:01:22.951Z"
   },
   {
    "duration": 758,
    "start_time": "2021-06-19T16:01:35.043Z"
   },
   {
    "duration": 93,
    "start_time": "2021-06-19T16:01:35.808Z"
   },
   {
    "duration": 21,
    "start_time": "2021-06-19T16:01:35.908Z"
   },
   {
    "duration": 42,
    "start_time": "2021-06-19T16:01:35.933Z"
   },
   {
    "duration": 15,
    "start_time": "2021-06-19T16:01:35.978Z"
   },
   {
    "duration": 48,
    "start_time": "2021-06-19T16:01:36.010Z"
   },
   {
    "duration": 13,
    "start_time": "2021-06-19T16:01:36.060Z"
   },
   {
    "duration": 37,
    "start_time": "2021-06-19T16:01:36.076Z"
   },
   {
    "duration": 20,
    "start_time": "2021-06-19T16:01:36.116Z"
   },
   {
    "duration": 9,
    "start_time": "2021-06-19T16:01:36.139Z"
   },
   {
    "duration": 8,
    "start_time": "2021-06-19T16:01:36.150Z"
   },
   {
    "duration": 53,
    "start_time": "2021-06-19T16:01:36.160Z"
   },
   {
    "duration": 11,
    "start_time": "2021-06-19T16:01:36.216Z"
   },
   {
    "duration": 29,
    "start_time": "2021-06-19T16:01:36.229Z"
   },
   {
    "duration": 11,
    "start_time": "2021-06-19T16:01:36.260Z"
   },
   {
    "duration": 44,
    "start_time": "2021-06-19T16:01:36.273Z"
   },
   {
    "duration": 24,
    "start_time": "2021-06-19T16:01:36.319Z"
   },
   {
    "duration": 18,
    "start_time": "2021-06-19T16:01:36.345Z"
   },
   {
    "duration": 49,
    "start_time": "2021-06-19T16:01:36.365Z"
   },
   {
    "duration": 13,
    "start_time": "2021-06-19T16:01:36.416Z"
   },
   {
    "duration": 17,
    "start_time": "2021-06-19T16:01:36.431Z"
   },
   {
    "duration": 4,
    "start_time": "2021-06-19T16:01:36.451Z"
   },
   {
    "duration": 65,
    "start_time": "2021-06-19T16:01:36.460Z"
   },
   {
    "duration": 14,
    "start_time": "2021-06-19T16:01:36.530Z"
   },
   {
    "duration": 14,
    "start_time": "2021-06-19T16:01:36.547Z"
   },
   {
    "duration": 60,
    "start_time": "2021-06-19T16:01:36.564Z"
   },
   {
    "duration": 30,
    "start_time": "2021-06-19T16:01:36.626Z"
   },
   {
    "duration": 52,
    "start_time": "2021-06-19T16:01:36.659Z"
   },
   {
    "duration": 30,
    "start_time": "2021-06-19T16:01:36.714Z"
   },
   {
    "duration": 26,
    "start_time": "2021-06-19T16:01:36.746Z"
   },
   {
    "duration": 44,
    "start_time": "2021-06-19T16:01:36.775Z"
   },
   {
    "duration": 22,
    "start_time": "2021-06-19T16:01:36.822Z"
   },
   {
    "duration": 11,
    "start_time": "2021-06-19T16:01:36.848Z"
   },
   {
    "duration": 3842,
    "start_time": "2021-06-19T16:01:36.861Z"
   },
   {
    "duration": 4,
    "start_time": "2021-06-19T16:01:40.706Z"
   },
   {
    "duration": 442,
    "start_time": "2021-06-19T16:01:40.713Z"
   },
   {
    "duration": 11,
    "start_time": "2021-06-19T16:01:41.157Z"
   },
   {
    "duration": 49,
    "start_time": "2021-06-19T16:01:41.170Z"
   },
   {
    "duration": 9,
    "start_time": "2021-06-19T16:01:41.221Z"
   },
   {
    "duration": 438,
    "start_time": "2021-06-19T16:01:41.232Z"
   },
   {
    "duration": 20,
    "start_time": "2021-06-19T16:01:41.672Z"
   },
   {
    "duration": 10,
    "start_time": "2021-06-19T16:01:41.709Z"
   },
   {
    "duration": 18,
    "start_time": "2021-06-19T16:01:41.721Z"
   },
   {
    "duration": 27,
    "start_time": "2021-06-19T16:01:41.742Z"
   },
   {
    "duration": 41,
    "start_time": "2021-06-19T16:01:41.771Z"
   },
   {
    "duration": 10,
    "start_time": "2021-06-19T16:01:41.814Z"
   },
   {
    "duration": 46,
    "start_time": "2021-06-19T16:01:41.827Z"
   },
   {
    "duration": 23,
    "start_time": "2021-06-19T16:01:41.875Z"
   },
   {
    "duration": 21,
    "start_time": "2021-06-19T16:01:41.901Z"
   },
   {
    "duration": 9,
    "start_time": "2021-06-19T16:01:41.925Z"
   },
   {
    "duration": 14,
    "start_time": "2021-06-19T16:01:41.936Z"
   },
   {
    "duration": 10,
    "start_time": "2021-06-19T16:01:41.953Z"
   },
   {
    "duration": 53,
    "start_time": "2021-06-19T16:01:41.966Z"
   },
   {
    "duration": 7,
    "start_time": "2021-06-19T16:01:42.021Z"
   },
   {
    "duration": 28,
    "start_time": "2021-06-19T16:01:42.030Z"
   },
   {
    "duration": 58,
    "start_time": "2021-06-19T16:01:42.060Z"
   },
   {
    "duration": 22,
    "start_time": "2021-06-19T16:01:42.121Z"
   },
   {
    "duration": 402,
    "start_time": "2021-06-19T16:03:53.159Z"
   },
   {
    "duration": 800,
    "start_time": "2021-06-19T16:04:31.112Z"
   },
   {
    "duration": 96,
    "start_time": "2021-06-19T16:04:31.915Z"
   },
   {
    "duration": 20,
    "start_time": "2021-06-19T16:04:32.014Z"
   },
   {
    "duration": 20,
    "start_time": "2021-06-19T16:04:32.038Z"
   },
   {
    "duration": 52,
    "start_time": "2021-06-19T16:04:32.061Z"
   },
   {
    "duration": 50,
    "start_time": "2021-06-19T16:04:32.116Z"
   },
   {
    "duration": 41,
    "start_time": "2021-06-19T16:04:32.169Z"
   },
   {
    "duration": 14,
    "start_time": "2021-06-19T16:04:32.214Z"
   },
   {
    "duration": 21,
    "start_time": "2021-06-19T16:04:32.232Z"
   },
   {
    "duration": 9,
    "start_time": "2021-06-19T16:04:32.256Z"
   },
   {
    "duration": 41,
    "start_time": "2021-06-19T16:04:32.268Z"
   },
   {
    "duration": 21,
    "start_time": "2021-06-19T16:04:32.312Z"
   },
   {
    "duration": 7,
    "start_time": "2021-06-19T16:04:32.337Z"
   },
   {
    "duration": 13,
    "start_time": "2021-06-19T16:04:32.348Z"
   },
   {
    "duration": 10,
    "start_time": "2021-06-19T16:04:32.408Z"
   },
   {
    "duration": 12,
    "start_time": "2021-06-19T16:04:32.420Z"
   },
   {
    "duration": 13,
    "start_time": "2021-06-19T16:04:32.434Z"
   },
   {
    "duration": 6,
    "start_time": "2021-06-19T16:04:32.450Z"
   },
   {
    "duration": 65,
    "start_time": "2021-06-19T16:04:32.458Z"
   },
   {
    "duration": 13,
    "start_time": "2021-06-19T16:04:32.526Z"
   },
   {
    "duration": 11,
    "start_time": "2021-06-19T16:04:32.541Z"
   },
   {
    "duration": 54,
    "start_time": "2021-06-19T16:04:32.555Z"
   },
   {
    "duration": 20,
    "start_time": "2021-06-19T16:04:32.615Z"
   },
   {
    "duration": 14,
    "start_time": "2021-06-19T16:04:32.638Z"
   },
   {
    "duration": 56,
    "start_time": "2021-06-19T16:04:32.654Z"
   },
   {
    "duration": 17,
    "start_time": "2021-06-19T16:04:32.713Z"
   },
   {
    "duration": 33,
    "start_time": "2021-06-19T16:04:32.733Z"
   },
   {
    "duration": 59,
    "start_time": "2021-06-19T16:04:32.769Z"
   },
   {
    "duration": 32,
    "start_time": "2021-06-19T16:04:32.830Z"
   },
   {
    "duration": 54,
    "start_time": "2021-06-19T16:04:32.865Z"
   },
   {
    "duration": 19,
    "start_time": "2021-06-19T16:04:32.921Z"
   },
   {
    "duration": 9,
    "start_time": "2021-06-19T16:04:32.943Z"
   },
   {
    "duration": 7,
    "start_time": "2021-06-19T16:04:32.955Z"
   },
   {
    "duration": 3485,
    "start_time": "2021-06-19T16:04:32.965Z"
   },
   {
    "duration": 4,
    "start_time": "2021-06-19T16:04:36.452Z"
   },
   {
    "duration": 424,
    "start_time": "2021-06-19T16:04:36.458Z"
   },
   {
    "duration": 9,
    "start_time": "2021-06-19T16:04:36.884Z"
   },
   {
    "duration": 30,
    "start_time": "2021-06-19T16:04:36.896Z"
   },
   {
    "duration": 22,
    "start_time": "2021-06-19T16:04:36.928Z"
   },
   {
    "duration": 412,
    "start_time": "2021-06-19T16:04:36.952Z"
   },
   {
    "duration": 20,
    "start_time": "2021-06-19T16:04:37.366Z"
   },
   {
    "duration": 28,
    "start_time": "2021-06-19T16:04:37.389Z"
   },
   {
    "duration": 12,
    "start_time": "2021-06-19T16:04:37.419Z"
   },
   {
    "duration": 13,
    "start_time": "2021-06-19T16:04:37.433Z"
   },
   {
    "duration": 23,
    "start_time": "2021-06-19T16:04:37.449Z"
   },
   {
    "duration": 4,
    "start_time": "2021-06-19T16:04:37.510Z"
   },
   {
    "duration": 34,
    "start_time": "2021-06-19T16:04:37.516Z"
   },
   {
    "duration": 13,
    "start_time": "2021-06-19T16:04:37.553Z"
   },
   {
    "duration": 42,
    "start_time": "2021-06-19T16:04:37.569Z"
   },
   {
    "duration": 16,
    "start_time": "2021-06-19T16:04:37.614Z"
   },
   {
    "duration": 14,
    "start_time": "2021-06-19T16:04:37.633Z"
   },
   {
    "duration": 28,
    "start_time": "2021-06-19T16:04:37.650Z"
   },
   {
    "duration": 20,
    "start_time": "2021-06-19T16:04:37.680Z"
   },
   {
    "duration": 4,
    "start_time": "2021-06-19T16:04:37.709Z"
   },
   {
    "duration": 26,
    "start_time": "2021-06-19T16:04:37.715Z"
   },
   {
    "duration": 22,
    "start_time": "2021-06-19T16:04:37.743Z"
   },
   {
    "duration": 55,
    "start_time": "2021-06-19T16:04:37.767Z"
   },
   {
    "duration": 4,
    "start_time": "2021-06-19T16:08:19.304Z"
   },
   {
    "duration": 81,
    "start_time": "2021-06-19T16:08:22.059Z"
   },
   {
    "duration": 20,
    "start_time": "2021-06-19T16:08:27.500Z"
   },
   {
    "duration": 5,
    "start_time": "2021-06-19T16:08:41.652Z"
   },
   {
    "duration": 11,
    "start_time": "2021-06-19T16:08:43.831Z"
   },
   {
    "duration": 13,
    "start_time": "2021-06-19T16:08:53.291Z"
   },
   {
    "duration": 10,
    "start_time": "2021-06-19T16:09:21.925Z"
   },
   {
    "duration": 17,
    "start_time": "2021-06-19T16:09:37.983Z"
   },
   {
    "duration": 13,
    "start_time": "2021-06-19T16:10:04.693Z"
   },
   {
    "duration": 19,
    "start_time": "2021-06-19T16:10:29.716Z"
   },
   {
    "duration": 20,
    "start_time": "2021-06-19T16:10:41.035Z"
   },
   {
    "duration": 23,
    "start_time": "2021-06-19T16:10:55.778Z"
   },
   {
    "duration": 24,
    "start_time": "2021-06-19T16:11:27.841Z"
   },
   {
    "duration": 9,
    "start_time": "2021-06-19T16:14:26.020Z"
   },
   {
    "duration": 8,
    "start_time": "2021-06-19T16:14:42.997Z"
   },
   {
    "duration": 12,
    "start_time": "2021-06-19T16:15:39.578Z"
   },
   {
    "duration": 11,
    "start_time": "2021-06-19T16:15:46.362Z"
   },
   {
    "duration": 411,
    "start_time": "2021-06-19T16:16:39.878Z"
   },
   {
    "duration": 303,
    "start_time": "2021-06-19T16:16:52.585Z"
   },
   {
    "duration": 11,
    "start_time": "2021-06-19T16:22:46.717Z"
   },
   {
    "duration": 7,
    "start_time": "2021-06-19T16:23:11.189Z"
   },
   {
    "duration": 21,
    "start_time": "2021-06-19T16:23:15.324Z"
   },
   {
    "duration": 13,
    "start_time": "2021-06-19T16:23:29.940Z"
   },
   {
    "duration": 10,
    "start_time": "2021-06-19T16:24:05.500Z"
   },
   {
    "duration": 8,
    "start_time": "2021-06-19T16:24:09.698Z"
   },
   {
    "duration": 5,
    "start_time": "2021-06-19T16:24:17.454Z"
   },
   {
    "duration": 13,
    "start_time": "2021-06-19T16:24:18.986Z"
   },
   {
    "duration": 6,
    "start_time": "2021-06-19T16:27:28.916Z"
   },
   {
    "duration": 18,
    "start_time": "2021-06-19T16:27:41.381Z"
   },
   {
    "duration": 9,
    "start_time": "2021-06-19T16:29:05.538Z"
   },
   {
    "duration": 18,
    "start_time": "2021-06-19T16:29:19.906Z"
   },
   {
    "duration": 5,
    "start_time": "2021-06-19T16:29:48.985Z"
   },
   {
    "duration": 19,
    "start_time": "2021-06-19T16:29:52.009Z"
   },
   {
    "duration": 13,
    "start_time": "2021-06-19T16:29:58.143Z"
   },
   {
    "duration": 19,
    "start_time": "2021-06-19T16:30:20.312Z"
   },
   {
    "duration": 9,
    "start_time": "2021-06-19T16:47:34.007Z"
   },
   {
    "duration": 9187,
    "start_time": "2021-06-19T16:48:26.187Z"
   },
   {
    "duration": 836,
    "start_time": "2021-06-19T16:48:49.580Z"
   },
   {
    "duration": 92,
    "start_time": "2021-06-19T16:48:50.419Z"
   },
   {
    "duration": 19,
    "start_time": "2021-06-19T16:48:50.514Z"
   },
   {
    "duration": 16,
    "start_time": "2021-06-19T16:48:50.536Z"
   },
   {
    "duration": 12,
    "start_time": "2021-06-19T16:48:50.554Z"
   },
   {
    "duration": 49,
    "start_time": "2021-06-19T16:48:50.608Z"
   },
   {
    "duration": 13,
    "start_time": "2021-06-19T16:48:50.660Z"
   },
   {
    "duration": 36,
    "start_time": "2021-06-19T16:48:50.678Z"
   },
   {
    "duration": 20,
    "start_time": "2021-06-19T16:48:50.718Z"
   },
   {
    "duration": 9,
    "start_time": "2021-06-19T16:48:50.740Z"
   },
   {
    "duration": 6,
    "start_time": "2021-06-19T16:48:50.751Z"
   },
   {
    "duration": 64,
    "start_time": "2021-06-19T16:48:50.759Z"
   },
   {
    "duration": 6,
    "start_time": "2021-06-19T16:48:50.825Z"
   },
   {
    "duration": 12,
    "start_time": "2021-06-19T16:48:50.833Z"
   },
   {
    "duration": 12,
    "start_time": "2021-06-19T16:48:50.847Z"
   },
   {
    "duration": 50,
    "start_time": "2021-06-19T16:48:50.861Z"
   },
   {
    "duration": 470,
    "start_time": "2021-06-19T16:48:50.914Z"
   },
   {
    "duration": -429,
    "start_time": "2021-06-19T16:48:51.817Z"
   },
   {
    "duration": -462,
    "start_time": "2021-06-19T16:48:51.852Z"
   },
   {
    "duration": -465,
    "start_time": "2021-06-19T16:48:51.856Z"
   },
   {
    "duration": -485,
    "start_time": "2021-06-19T16:48:51.878Z"
   },
   {
    "duration": -515,
    "start_time": "2021-06-19T16:48:51.909Z"
   },
   {
    "duration": -518,
    "start_time": "2021-06-19T16:48:51.915Z"
   },
   {
    "duration": -520,
    "start_time": "2021-06-19T16:48:51.919Z"
   },
   {
    "duration": -534,
    "start_time": "2021-06-19T16:48:51.935Z"
   },
   {
    "duration": -554,
    "start_time": "2021-06-19T16:48:51.958Z"
   },
   {
    "duration": -570,
    "start_time": "2021-06-19T16:48:51.976Z"
   },
   {
    "duration": -585,
    "start_time": "2021-06-19T16:48:51.993Z"
   },
   {
    "duration": -602,
    "start_time": "2021-06-19T16:48:52.012Z"
   },
   {
    "duration": -631,
    "start_time": "2021-06-19T16:48:52.044Z"
   },
   {
    "duration": -635,
    "start_time": "2021-06-19T16:48:52.050Z"
   },
   {
    "duration": -637,
    "start_time": "2021-06-19T16:48:52.054Z"
   },
   {
    "duration": -750,
    "start_time": "2021-06-19T16:48:52.169Z"
   },
   {
    "duration": -757,
    "start_time": "2021-06-19T16:48:52.179Z"
   },
   {
    "duration": -763,
    "start_time": "2021-06-19T16:48:52.187Z"
   },
   {
    "duration": -777,
    "start_time": "2021-06-19T16:48:52.203Z"
   },
   {
    "duration": -791,
    "start_time": "2021-06-19T16:48:52.219Z"
   },
   {
    "duration": -793,
    "start_time": "2021-06-19T16:48:52.223Z"
   },
   {
    "duration": -808,
    "start_time": "2021-06-19T16:48:52.240Z"
   },
   {
    "duration": -860,
    "start_time": "2021-06-19T16:48:52.294Z"
   },
   {
    "duration": -876,
    "start_time": "2021-06-19T16:48:52.311Z"
   },
   {
    "duration": -904,
    "start_time": "2021-06-19T16:48:52.341Z"
   },
   {
    "duration": -919,
    "start_time": "2021-06-19T16:48:52.357Z"
   },
   {
    "duration": -934,
    "start_time": "2021-06-19T16:48:52.374Z"
   },
   {
    "duration": -952,
    "start_time": "2021-06-19T16:48:52.393Z"
   },
   {
    "duration": -982,
    "start_time": "2021-06-19T16:48:52.425Z"
   },
   {
    "duration": -998,
    "start_time": "2021-06-19T16:48:52.442Z"
   },
   {
    "duration": -1020,
    "start_time": "2021-06-19T16:48:52.465Z"
   },
   {
    "duration": -1021,
    "start_time": "2021-06-19T16:48:52.468Z"
   },
   {
    "duration": -1025,
    "start_time": "2021-06-19T16:48:52.473Z"
   },
   {
    "duration": -1042,
    "start_time": "2021-06-19T16:48:52.491Z"
   },
   {
    "duration": -1056,
    "start_time": "2021-06-19T16:48:52.506Z"
   },
   {
    "duration": -1079,
    "start_time": "2021-06-19T16:48:52.530Z"
   },
   {
    "duration": 13,
    "start_time": "2021-06-19T16:49:06.108Z"
   },
   {
    "duration": 849,
    "start_time": "2021-06-19T16:49:55.501Z"
   },
   {
    "duration": 95,
    "start_time": "2021-06-19T16:49:56.352Z"
   },
   {
    "duration": 19,
    "start_time": "2021-06-19T16:49:56.453Z"
   },
   {
    "duration": 46,
    "start_time": "2021-06-19T16:49:56.474Z"
   },
   {
    "duration": 13,
    "start_time": "2021-06-19T16:49:56.523Z"
   },
   {
    "duration": 81,
    "start_time": "2021-06-19T16:49:56.538Z"
   },
   {
    "duration": 13,
    "start_time": "2021-06-19T16:49:56.623Z"
   },
   {
    "duration": 10,
    "start_time": "2021-06-19T16:49:56.640Z"
   },
   {
    "duration": 62,
    "start_time": "2021-06-19T16:49:56.654Z"
   },
   {
    "duration": 11,
    "start_time": "2021-06-19T16:49:56.718Z"
   },
   {
    "duration": 8,
    "start_time": "2021-06-19T16:49:56.732Z"
   },
   {
    "duration": 65,
    "start_time": "2021-06-19T16:49:56.744Z"
   },
   {
    "duration": 18,
    "start_time": "2021-06-19T16:49:56.812Z"
   },
   {
    "duration": 13,
    "start_time": "2021-06-19T16:49:56.833Z"
   },
   {
    "duration": 14,
    "start_time": "2021-06-19T16:49:56.849Z"
   },
   {
    "duration": 56,
    "start_time": "2021-06-19T16:49:56.866Z"
   },
   {
    "duration": 6,
    "start_time": "2021-06-19T16:49:56.925Z"
   },
   {
    "duration": 419,
    "start_time": "2021-06-19T16:49:56.934Z"
   },
   {
    "duration": -329,
    "start_time": "2021-06-19T16:49:57.685Z"
   },
   {
    "duration": -372,
    "start_time": "2021-06-19T16:49:57.730Z"
   },
   {
    "duration": -401,
    "start_time": "2021-06-19T16:49:57.760Z"
   },
   {
    "duration": -408,
    "start_time": "2021-06-19T16:49:57.768Z"
   },
   {
    "duration": -424,
    "start_time": "2021-06-19T16:49:57.786Z"
   },
   {
    "duration": -444,
    "start_time": "2021-06-19T16:49:57.807Z"
   },
   {
    "duration": -464,
    "start_time": "2021-06-19T16:49:57.828Z"
   },
   {
    "duration": -482,
    "start_time": "2021-06-19T16:49:57.848Z"
   },
   {
    "duration": -505,
    "start_time": "2021-06-19T16:49:57.872Z"
   },
   {
    "duration": -523,
    "start_time": "2021-06-19T16:49:57.892Z"
   },
   {
    "duration": -560,
    "start_time": "2021-06-19T16:49:57.930Z"
   },
   {
    "duration": -582,
    "start_time": "2021-06-19T16:49:57.954Z"
   },
   {
    "duration": -591,
    "start_time": "2021-06-19T16:49:57.964Z"
   },
   {
    "duration": -597,
    "start_time": "2021-06-19T16:49:57.972Z"
   },
   {
    "duration": -604,
    "start_time": "2021-06-19T16:49:57.980Z"
   },
   {
    "duration": -605,
    "start_time": "2021-06-19T16:49:57.983Z"
   },
   {
    "duration": -612,
    "start_time": "2021-06-19T16:49:57.992Z"
   },
   {
    "duration": -614,
    "start_time": "2021-06-19T16:49:57.995Z"
   },
   {
    "duration": -615,
    "start_time": "2021-06-19T16:49:57.998Z"
   },
   {
    "duration": -623,
    "start_time": "2021-06-19T16:49:58.007Z"
   },
   {
    "duration": -625,
    "start_time": "2021-06-19T16:49:58.010Z"
   },
   {
    "duration": -627,
    "start_time": "2021-06-19T16:49:58.013Z"
   },
   {
    "duration": -608,
    "start_time": "2021-06-19T16:49:58.017Z"
   },
   {
    "duration": -617,
    "start_time": "2021-06-19T16:49:58.027Z"
   },
   {
    "duration": -620,
    "start_time": "2021-06-19T16:49:58.032Z"
   },
   {
    "duration": -637,
    "start_time": "2021-06-19T16:49:58.050Z"
   },
   {
    "duration": -650,
    "start_time": "2021-06-19T16:49:58.065Z"
   },
   {
    "duration": -667,
    "start_time": "2021-06-19T16:49:58.083Z"
   },
   {
    "duration": -684,
    "start_time": "2021-06-19T16:49:58.102Z"
   },
   {
    "duration": -702,
    "start_time": "2021-06-19T16:49:58.121Z"
   },
   {
    "duration": -728,
    "start_time": "2021-06-19T16:49:58.148Z"
   },
   {
    "duration": -745,
    "start_time": "2021-06-19T16:49:58.166Z"
   },
   {
    "duration": -763,
    "start_time": "2021-06-19T16:49:58.186Z"
   },
   {
    "duration": -781,
    "start_time": "2021-06-19T16:49:58.205Z"
   },
   {
    "duration": -804,
    "start_time": "2021-06-19T16:49:58.229Z"
   },
   {
    "duration": -824,
    "start_time": "2021-06-19T16:49:58.251Z"
   },
   {
    "duration": 918,
    "start_time": "2021-06-19T16:50:44.769Z"
   },
   {
    "duration": 89,
    "start_time": "2021-06-19T16:50:45.690Z"
   },
   {
    "duration": 29,
    "start_time": "2021-06-19T16:50:45.782Z"
   },
   {
    "duration": 16,
    "start_time": "2021-06-19T16:50:45.814Z"
   },
   {
    "duration": 13,
    "start_time": "2021-06-19T16:50:45.832Z"
   },
   {
    "duration": 88,
    "start_time": "2021-06-19T16:50:45.847Z"
   },
   {
    "duration": 12,
    "start_time": "2021-06-19T16:50:45.938Z"
   },
   {
    "duration": 10,
    "start_time": "2021-06-19T16:50:45.954Z"
   },
   {
    "duration": 48,
    "start_time": "2021-06-19T16:50:45.967Z"
   },
   {
    "duration": 8,
    "start_time": "2021-06-19T16:50:46.018Z"
   },
   {
    "duration": 12,
    "start_time": "2021-06-19T16:50:46.029Z"
   },
   {
    "duration": 19,
    "start_time": "2021-06-19T16:50:46.044Z"
   },
   {
    "duration": 48,
    "start_time": "2021-06-19T16:50:46.066Z"
   },
   {
    "duration": 7,
    "start_time": "2021-06-19T16:50:46.118Z"
   },
   {
    "duration": 15,
    "start_time": "2021-06-19T16:50:46.128Z"
   },
   {
    "duration": 68,
    "start_time": "2021-06-19T16:50:46.146Z"
   },
   {
    "duration": 5,
    "start_time": "2021-06-19T16:50:46.217Z"
   },
   {
    "duration": 20,
    "start_time": "2021-06-19T16:50:46.225Z"
   },
   {
    "duration": 13,
    "start_time": "2021-06-19T16:50:46.248Z"
   },
   {
    "duration": 49,
    "start_time": "2021-06-19T16:50:46.265Z"
   },
   {
    "duration": 22,
    "start_time": "2021-06-19T16:50:46.317Z"
   },
   {
    "duration": 11,
    "start_time": "2021-06-19T16:50:46.342Z"
   },
   {
    "duration": 65,
    "start_time": "2021-06-19T16:50:46.361Z"
   },
   {
    "duration": 17,
    "start_time": "2021-06-19T16:50:46.430Z"
   },
   {
    "duration": 77,
    "start_time": "2021-06-19T16:50:46.451Z"
   },
   {
    "duration": 29,
    "start_time": "2021-06-19T16:50:46.531Z"
   },
   {
    "duration": 49,
    "start_time": "2021-06-19T16:50:46.562Z"
   },
   {
    "duration": 17,
    "start_time": "2021-06-19T16:50:46.614Z"
   },
   {
    "duration": 29,
    "start_time": "2021-06-19T16:50:46.634Z"
   },
   {
    "duration": 16,
    "start_time": "2021-06-19T16:50:46.665Z"
   },
   {
    "duration": 3376,
    "start_time": "2021-06-19T16:50:46.684Z"
   },
   {
    "duration": 4,
    "start_time": "2021-06-19T16:50:50.063Z"
   },
   {
    "duration": 407,
    "start_time": "2021-06-19T16:50:50.070Z"
   },
   {
    "duration": 10,
    "start_time": "2021-06-19T16:50:50.480Z"
   },
   {
    "duration": 34,
    "start_time": "2021-06-19T16:50:50.492Z"
   },
   {
    "duration": 9,
    "start_time": "2021-06-19T16:50:50.529Z"
   },
   {
    "duration": 420,
    "start_time": "2021-06-19T16:50:50.541Z"
   },
   {
    "duration": 20,
    "start_time": "2021-06-19T16:50:50.964Z"
   },
   {
    "duration": 26,
    "start_time": "2021-06-19T16:50:50.986Z"
   },
   {
    "duration": 12,
    "start_time": "2021-06-19T16:50:51.015Z"
   },
   {
    "duration": 12,
    "start_time": "2021-06-19T16:50:51.030Z"
   },
   {
    "duration": 14,
    "start_time": "2021-06-19T16:50:51.045Z"
   },
   {
    "duration": 48,
    "start_time": "2021-06-19T16:50:51.061Z"
   },
   {
    "duration": 18,
    "start_time": "2021-06-19T16:50:51.111Z"
   },
   {
    "duration": 13,
    "start_time": "2021-06-19T16:50:51.132Z"
   },
   {
    "duration": 63,
    "start_time": "2021-06-19T16:50:51.148Z"
   },
   {
    "duration": 7,
    "start_time": "2021-06-19T16:50:51.213Z"
   },
   {
    "duration": 11,
    "start_time": "2021-06-19T16:50:51.223Z"
   },
   {
    "duration": 8,
    "start_time": "2021-06-19T16:50:51.236Z"
   },
   {
    "duration": 12,
    "start_time": "2021-06-19T16:50:51.247Z"
   },
   {
    "duration": 4,
    "start_time": "2021-06-19T16:50:51.262Z"
   },
   {
    "duration": 37,
    "start_time": "2021-06-19T16:50:51.310Z"
   },
   {
    "duration": 21,
    "start_time": "2021-06-19T16:50:51.349Z"
   },
   {
    "duration": 46,
    "start_time": "2021-06-19T16:50:51.372Z"
   },
   {
    "duration": 798,
    "start_time": "2021-06-19T16:55:11.200Z"
   },
   {
    "duration": 88,
    "start_time": "2021-06-19T16:55:12.001Z"
   },
   {
    "duration": 27,
    "start_time": "2021-06-19T16:55:12.092Z"
   },
   {
    "duration": 18,
    "start_time": "2021-06-19T16:55:12.122Z"
   },
   {
    "duration": 14,
    "start_time": "2021-06-19T16:55:12.142Z"
   },
   {
    "duration": 85,
    "start_time": "2021-06-19T16:55:12.158Z"
   },
   {
    "duration": 12,
    "start_time": "2021-06-19T16:55:12.245Z"
   },
   {
    "duration": 9,
    "start_time": "2021-06-19T16:55:12.261Z"
   },
   {
    "duration": 13,
    "start_time": "2021-06-19T16:55:12.310Z"
   },
   {
    "duration": 8,
    "start_time": "2021-06-19T16:55:12.326Z"
   },
   {
    "duration": 6,
    "start_time": "2021-06-19T16:55:12.337Z"
   },
   {
    "duration": 71,
    "start_time": "2021-06-19T16:55:12.345Z"
   },
   {
    "duration": 14,
    "start_time": "2021-06-19T16:55:12.419Z"
   },
   {
    "duration": 13,
    "start_time": "2021-06-19T16:55:12.436Z"
   },
   {
    "duration": 11,
    "start_time": "2021-06-19T16:55:12.451Z"
   },
   {
    "duration": 54,
    "start_time": "2021-06-19T16:55:12.464Z"
   },
   {
    "duration": 5,
    "start_time": "2021-06-19T16:55:12.520Z"
   },
   {
    "duration": 14,
    "start_time": "2021-06-19T16:55:12.527Z"
   },
   {
    "duration": 10,
    "start_time": "2021-06-19T16:55:12.543Z"
   },
   {
    "duration": 5,
    "start_time": "2021-06-19T16:55:12.555Z"
   },
   {
    "duration": 63,
    "start_time": "2021-06-19T16:55:12.562Z"
   },
   {
    "duration": 14,
    "start_time": "2021-06-19T16:55:12.627Z"
   },
   {
    "duration": 16,
    "start_time": "2021-06-19T16:55:12.647Z"
   },
   {
    "duration": 51,
    "start_time": "2021-06-19T16:55:12.666Z"
   },
   {
    "duration": 33,
    "start_time": "2021-06-19T16:55:12.719Z"
   },
   {
    "duration": 59,
    "start_time": "2021-06-19T16:55:12.754Z"
   },
   {
    "duration": 26,
    "start_time": "2021-06-19T16:55:12.816Z"
   },
   {
    "duration": 18,
    "start_time": "2021-06-19T16:55:12.844Z"
   },
   {
    "duration": 46,
    "start_time": "2021-06-19T16:55:12.864Z"
   },
   {
    "duration": 7,
    "start_time": "2021-06-19T16:55:12.913Z"
   },
   {
    "duration": 3360,
    "start_time": "2021-06-19T16:55:12.922Z"
   },
   {
    "duration": 5,
    "start_time": "2021-06-19T16:55:16.284Z"
   },
   {
    "duration": 413,
    "start_time": "2021-06-19T16:55:16.291Z"
   },
   {
    "duration": 9,
    "start_time": "2021-06-19T16:55:16.706Z"
   },
   {
    "duration": 26,
    "start_time": "2021-06-19T16:55:16.718Z"
   },
   {
    "duration": 6,
    "start_time": "2021-06-19T16:55:16.747Z"
   },
   {
    "duration": 432,
    "start_time": "2021-06-19T16:55:16.755Z"
   },
   {
    "duration": 36,
    "start_time": "2021-06-19T16:55:17.190Z"
   },
   {
    "duration": 22,
    "start_time": "2021-06-19T16:55:17.229Z"
   },
   {
    "duration": 16,
    "start_time": "2021-06-19T16:55:17.254Z"
   },
   {
    "duration": 39,
    "start_time": "2021-06-19T16:55:17.278Z"
   },
   {
    "duration": 20,
    "start_time": "2021-06-19T16:55:17.319Z"
   },
   {
    "duration": 10,
    "start_time": "2021-06-19T16:55:17.342Z"
   },
   {
    "duration": 33,
    "start_time": "2021-06-19T16:55:17.355Z"
   },
   {
    "duration": 17,
    "start_time": "2021-06-19T16:55:17.410Z"
   },
   {
    "duration": 18,
    "start_time": "2021-06-19T16:55:17.430Z"
   },
   {
    "duration": 7,
    "start_time": "2021-06-19T16:55:17.451Z"
   },
   {
    "duration": 53,
    "start_time": "2021-06-19T16:55:17.461Z"
   },
   {
    "duration": 23,
    "start_time": "2021-06-19T16:55:17.517Z"
   },
   {
    "duration": 14,
    "start_time": "2021-06-19T16:55:17.543Z"
   },
   {
    "duration": 10,
    "start_time": "2021-06-19T16:55:17.560Z"
   },
   {
    "duration": 43,
    "start_time": "2021-06-19T16:55:17.572Z"
   },
   {
    "duration": 23,
    "start_time": "2021-06-19T16:55:17.617Z"
   },
   {
    "duration": 23,
    "start_time": "2021-06-19T16:55:17.642Z"
   },
   {
    "duration": 436,
    "start_time": "2021-06-19T17:03:12.927Z"
   },
   {
    "duration": 337,
    "start_time": "2021-06-19T17:07:06.594Z"
   },
   {
    "duration": 799,
    "start_time": "2021-06-19T17:07:26.969Z"
   },
   {
    "duration": 91,
    "start_time": "2021-06-19T17:07:27.771Z"
   },
   {
    "duration": 20,
    "start_time": "2021-06-19T17:07:27.866Z"
   },
   {
    "duration": 15,
    "start_time": "2021-06-19T17:07:27.909Z"
   },
   {
    "duration": 16,
    "start_time": "2021-06-19T17:07:27.927Z"
   },
   {
    "duration": 83,
    "start_time": "2021-06-19T17:07:27.946Z"
   },
   {
    "duration": 13,
    "start_time": "2021-06-19T17:07:28.032Z"
   },
   {
    "duration": 14,
    "start_time": "2021-06-19T17:07:28.049Z"
   },
   {
    "duration": 43,
    "start_time": "2021-06-19T17:07:28.066Z"
   },
   {
    "duration": 8,
    "start_time": "2021-06-19T17:07:28.112Z"
   },
   {
    "duration": 14,
    "start_time": "2021-06-19T17:07:28.123Z"
   },
   {
    "duration": 11,
    "start_time": "2021-06-19T17:07:28.139Z"
   },
   {
    "duration": 8,
    "start_time": "2021-06-19T17:07:28.153Z"
   },
   {
    "duration": 11,
    "start_time": "2021-06-19T17:07:28.209Z"
   },
   {
    "duration": 13,
    "start_time": "2021-06-19T17:07:28.222Z"
   },
   {
    "duration": 5,
    "start_time": "2021-06-19T17:07:28.237Z"
   },
   {
    "duration": 14,
    "start_time": "2021-06-19T17:07:28.244Z"
   },
   {
    "duration": 51,
    "start_time": "2021-06-19T17:07:28.261Z"
   },
   {
    "duration": 4,
    "start_time": "2021-06-19T17:07:28.315Z"
   },
   {
    "duration": 21,
    "start_time": "2021-06-19T17:07:28.321Z"
   },
   {
    "duration": 10,
    "start_time": "2021-06-19T17:07:28.344Z"
   },
   {
    "duration": 59,
    "start_time": "2021-06-19T17:07:28.356Z"
   },
   {
    "duration": 19,
    "start_time": "2021-06-19T17:07:28.421Z"
   },
   {
    "duration": 29,
    "start_time": "2021-06-19T17:07:28.443Z"
   },
   {
    "duration": 62,
    "start_time": "2021-06-19T17:07:28.474Z"
   },
   {
    "duration": 26,
    "start_time": "2021-06-19T17:07:28.538Z"
   },
   {
    "duration": 46,
    "start_time": "2021-06-19T17:07:28.568Z"
   },
   {
    "duration": 14,
    "start_time": "2021-06-19T17:07:28.616Z"
   },
   {
    "duration": 8,
    "start_time": "2021-06-19T17:07:28.634Z"
   },
   {
    "duration": 3382,
    "start_time": "2021-06-19T17:07:28.645Z"
   },
   {
    "duration": 7,
    "start_time": "2021-06-19T17:07:32.030Z"
   },
   {
    "duration": 455,
    "start_time": "2021-06-19T17:07:32.040Z"
   },
   {
    "duration": 19,
    "start_time": "2021-06-19T17:07:32.497Z"
   },
   {
    "duration": 27,
    "start_time": "2021-06-19T17:07:32.519Z"
   },
   {
    "duration": 23,
    "start_time": "2021-06-19T17:07:32.549Z"
   },
   {
    "duration": 426,
    "start_time": "2021-06-19T17:07:32.575Z"
   },
   {
    "duration": 20,
    "start_time": "2021-06-19T17:07:33.008Z"
   },
   {
    "duration": 19,
    "start_time": "2021-06-19T17:07:33.032Z"
   },
   {
    "duration": 15,
    "start_time": "2021-06-19T17:07:33.055Z"
   },
   {
    "duration": 47,
    "start_time": "2021-06-19T17:07:33.073Z"
   },
   {
    "duration": 17,
    "start_time": "2021-06-19T17:07:33.122Z"
   },
   {
    "duration": 422,
    "start_time": "2021-06-19T17:07:33.141Z"
   },
   {
    "duration": 1,
    "start_time": "2021-06-19T17:07:33.565Z"
   },
   {
    "duration": -2,
    "start_time": "2021-06-19T17:07:33.570Z"
   },
   {
    "duration": -5,
    "start_time": "2021-06-19T17:07:33.574Z"
   },
   {
    "duration": -7,
    "start_time": "2021-06-19T17:07:33.578Z"
   },
   {
    "duration": -9,
    "start_time": "2021-06-19T17:07:33.582Z"
   },
   {
    "duration": -11,
    "start_time": "2021-06-19T17:07:33.585Z"
   },
   {
    "duration": -13,
    "start_time": "2021-06-19T17:07:33.588Z"
   },
   {
    "duration": -14,
    "start_time": "2021-06-19T17:07:33.591Z"
   },
   {
    "duration": -15,
    "start_time": "2021-06-19T17:07:33.594Z"
   },
   {
    "duration": -17,
    "start_time": "2021-06-19T17:07:33.597Z"
   },
   {
    "duration": -18,
    "start_time": "2021-06-19T17:07:33.600Z"
   },
   {
    "duration": -26,
    "start_time": "2021-06-19T17:07:33.609Z"
   },
   {
    "duration": 314,
    "start_time": "2021-06-19T17:08:05.453Z"
   },
   {
    "duration": 19,
    "start_time": "2021-06-19T17:09:49.637Z"
   },
   {
    "duration": 369,
    "start_time": "2021-06-19T17:11:04.614Z"
   },
   {
    "duration": 19,
    "start_time": "2021-06-19T17:11:13.540Z"
   },
   {
    "duration": 20,
    "start_time": "2021-06-19T17:12:24.372Z"
   },
   {
    "duration": 104,
    "start_time": "2021-06-19T17:12:39.584Z"
   },
   {
    "duration": 17,
    "start_time": "2021-06-19T17:12:47.671Z"
   },
   {
    "duration": 19,
    "start_time": "2021-06-19T17:13:10.777Z"
   },
   {
    "duration": 19,
    "start_time": "2021-06-19T17:19:19.897Z"
   },
   {
    "duration": 116,
    "start_time": "2021-06-19T17:19:36.907Z"
   },
   {
    "duration": 128,
    "start_time": "2021-06-19T17:19:39.498Z"
   },
   {
    "duration": 112,
    "start_time": "2021-06-19T17:19:49.694Z"
   },
   {
    "duration": 361,
    "start_time": "2021-06-19T17:20:01.081Z"
   },
   {
    "duration": 20,
    "start_time": "2021-06-19T17:20:17.155Z"
   },
   {
    "duration": 803,
    "start_time": "2021-06-19T17:32:18.858Z"
   },
   {
    "duration": 91,
    "start_time": "2021-06-19T17:32:19.664Z"
   },
   {
    "duration": 19,
    "start_time": "2021-06-19T17:32:19.760Z"
   },
   {
    "duration": 34,
    "start_time": "2021-06-19T17:32:19.783Z"
   },
   {
    "duration": 15,
    "start_time": "2021-06-19T17:32:19.821Z"
   },
   {
    "duration": 77,
    "start_time": "2021-06-19T17:32:19.838Z"
   },
   {
    "duration": 12,
    "start_time": "2021-06-19T17:32:19.917Z"
   },
   {
    "duration": 14,
    "start_time": "2021-06-19T17:32:19.931Z"
   },
   {
    "duration": 13,
    "start_time": "2021-06-19T17:32:19.949Z"
   },
   {
    "duration": 7,
    "start_time": "2021-06-19T17:32:19.965Z"
   },
   {
    "duration": 13,
    "start_time": "2021-06-19T17:32:20.010Z"
   },
   {
    "duration": 30,
    "start_time": "2021-06-19T17:32:20.025Z"
   },
   {
    "duration": 7,
    "start_time": "2021-06-19T17:32:20.057Z"
   },
   {
    "duration": 15,
    "start_time": "2021-06-19T17:32:20.066Z"
   },
   {
    "duration": 34,
    "start_time": "2021-06-19T17:32:20.083Z"
   },
   {
    "duration": 26,
    "start_time": "2021-06-19T17:32:20.119Z"
   },
   {
    "duration": 27,
    "start_time": "2021-06-19T17:32:20.148Z"
   },
   {
    "duration": 15,
    "start_time": "2021-06-19T17:32:20.178Z"
   },
   {
    "duration": 13,
    "start_time": "2021-06-19T17:32:20.195Z"
   },
   {
    "duration": 36,
    "start_time": "2021-06-19T17:32:20.211Z"
   },
   {
    "duration": 18,
    "start_time": "2021-06-19T17:32:20.249Z"
   },
   {
    "duration": 25,
    "start_time": "2021-06-19T17:32:20.269Z"
   },
   {
    "duration": 33,
    "start_time": "2021-06-19T17:32:20.297Z"
   },
   {
    "duration": 42,
    "start_time": "2021-06-19T17:32:20.333Z"
   },
   {
    "duration": 31,
    "start_time": "2021-06-19T17:32:20.378Z"
   },
   {
    "duration": 26,
    "start_time": "2021-06-19T17:32:20.411Z"
   },
   {
    "duration": 18,
    "start_time": "2021-06-19T17:32:20.442Z"
   },
   {
    "duration": 14,
    "start_time": "2021-06-19T17:32:20.463Z"
   },
   {
    "duration": 36,
    "start_time": "2021-06-19T17:32:20.479Z"
   },
   {
    "duration": 3423,
    "start_time": "2021-06-19T17:32:20.517Z"
   },
   {
    "duration": 5,
    "start_time": "2021-06-19T17:32:23.942Z"
   },
   {
    "duration": 403,
    "start_time": "2021-06-19T17:32:23.949Z"
   },
   {
    "duration": 8,
    "start_time": "2021-06-19T17:32:24.355Z"
   },
   {
    "duration": 44,
    "start_time": "2021-06-19T17:32:24.365Z"
   },
   {
    "duration": 5,
    "start_time": "2021-06-19T17:32:24.411Z"
   },
   {
    "duration": 397,
    "start_time": "2021-06-19T17:32:24.418Z"
   },
   {
    "duration": 19,
    "start_time": "2021-06-19T17:32:24.818Z"
   },
   {
    "duration": 27,
    "start_time": "2021-06-19T17:32:24.840Z"
   },
   {
    "duration": 12,
    "start_time": "2021-06-19T17:32:24.870Z"
   },
   {
    "duration": 29,
    "start_time": "2021-06-19T17:32:24.885Z"
   },
   {
    "duration": 20,
    "start_time": "2021-06-19T17:32:24.917Z"
   },
   {
    "duration": 29,
    "start_time": "2021-06-19T17:32:24.939Z"
   },
   {
    "duration": 46,
    "start_time": "2021-06-19T17:32:24.971Z"
   },
   {
    "duration": 4,
    "start_time": "2021-06-19T17:32:25.020Z"
   },
   {
    "duration": 483,
    "start_time": "2021-06-19T17:32:25.026Z"
   },
   {
    "duration": -48,
    "start_time": "2021-06-19T17:32:25.561Z"
   },
   {
    "duration": -64,
    "start_time": "2021-06-19T17:32:25.579Z"
   },
   {
    "duration": -78,
    "start_time": "2021-06-19T17:32:25.595Z"
   },
   {
    "duration": 33,
    "start_time": "2021-06-19T17:33:14.487Z"
   },
   {
    "duration": 411,
    "start_time": "2021-06-19T17:37:24.328Z"
   },
   {
    "duration": 11,
    "start_time": "2021-06-19T17:38:58.144Z"
   },
   {
    "duration": 12,
    "start_time": "2021-06-19T17:39:14.614Z"
   },
   {
    "duration": 343,
    "start_time": "2021-06-19T17:40:01.654Z"
   },
   {
    "duration": 276,
    "start_time": "2021-06-19T17:40:32.834Z"
   },
   {
    "duration": 21,
    "start_time": "2021-06-19T17:45:42.306Z"
   },
   {
    "duration": 17,
    "start_time": "2021-06-19T17:47:35.486Z"
   },
   {
    "duration": 348,
    "start_time": "2021-06-19T17:48:02.566Z"
   },
   {
    "duration": 12,
    "start_time": "2021-06-19T17:48:09.813Z"
   },
   {
    "duration": 22,
    "start_time": "2021-06-19T17:48:12.748Z"
   },
   {
    "duration": 8,
    "start_time": "2021-06-19T17:51:06.905Z"
   },
   {
    "duration": 305,
    "start_time": "2021-06-19T17:51:18.189Z"
   },
   {
    "duration": 5,
    "start_time": "2021-06-19T17:53:22.666Z"
   },
   {
    "duration": 314,
    "start_time": "2021-06-19T17:53:32.986Z"
   },
   {
    "duration": 816,
    "start_time": "2021-06-19T17:54:51.498Z"
   },
   {
    "duration": 102,
    "start_time": "2021-06-19T17:54:52.320Z"
   },
   {
    "duration": 4,
    "start_time": "2021-06-19T17:54:52.425Z"
   },
   {
    "duration": 34,
    "start_time": "2021-06-19T17:54:52.432Z"
   },
   {
    "duration": 48,
    "start_time": "2021-06-19T17:54:52.469Z"
   },
   {
    "duration": 15,
    "start_time": "2021-06-19T17:54:52.520Z"
   },
   {
    "duration": 70,
    "start_time": "2021-06-19T17:54:52.538Z"
   },
   {
    "duration": 13,
    "start_time": "2021-06-19T17:54:52.612Z"
   },
   {
    "duration": 10,
    "start_time": "2021-06-19T17:54:52.628Z"
   },
   {
    "duration": 16,
    "start_time": "2021-06-19T17:54:52.641Z"
   },
   {
    "duration": 54,
    "start_time": "2021-06-19T17:54:52.660Z"
   },
   {
    "duration": 17,
    "start_time": "2021-06-19T17:54:52.717Z"
   },
   {
    "duration": 11,
    "start_time": "2021-06-19T17:54:52.737Z"
   },
   {
    "duration": 9,
    "start_time": "2021-06-19T17:54:52.750Z"
   },
   {
    "duration": 54,
    "start_time": "2021-06-19T17:54:52.762Z"
   },
   {
    "duration": 12,
    "start_time": "2021-06-19T17:54:52.818Z"
   },
   {
    "duration": 5,
    "start_time": "2021-06-19T17:54:52.832Z"
   },
   {
    "duration": 21,
    "start_time": "2021-06-19T17:54:52.839Z"
   },
   {
    "duration": 49,
    "start_time": "2021-06-19T17:54:52.862Z"
   },
   {
    "duration": 5,
    "start_time": "2021-06-19T17:54:52.913Z"
   },
   {
    "duration": 22,
    "start_time": "2021-06-19T17:54:52.920Z"
   },
   {
    "duration": 14,
    "start_time": "2021-06-19T17:54:52.944Z"
   },
   {
    "duration": 54,
    "start_time": "2021-06-19T17:54:52.960Z"
   },
   {
    "duration": 16,
    "start_time": "2021-06-19T17:54:53.017Z"
   },
   {
    "duration": 29,
    "start_time": "2021-06-19T17:54:53.035Z"
   },
   {
    "duration": 62,
    "start_time": "2021-06-19T17:54:53.069Z"
   },
   {
    "duration": 24,
    "start_time": "2021-06-19T17:54:53.134Z"
   },
   {
    "duration": 17,
    "start_time": "2021-06-19T17:54:53.161Z"
   },
   {
    "duration": 34,
    "start_time": "2021-06-19T17:54:53.180Z"
   },
   {
    "duration": 17,
    "start_time": "2021-06-19T17:54:53.216Z"
   },
   {
    "duration": 3337,
    "start_time": "2021-06-19T17:54:53.236Z"
   },
   {
    "duration": 4,
    "start_time": "2021-06-19T17:54:56.576Z"
   },
   {
    "duration": 424,
    "start_time": "2021-06-19T17:54:56.583Z"
   },
   {
    "duration": 9,
    "start_time": "2021-06-19T17:54:57.009Z"
   },
   {
    "duration": 35,
    "start_time": "2021-06-19T17:54:57.020Z"
   },
   {
    "duration": 17,
    "start_time": "2021-06-19T17:54:57.057Z"
   },
   {
    "duration": 412,
    "start_time": "2021-06-19T17:54:57.077Z"
   },
   {
    "duration": 23,
    "start_time": "2021-06-19T17:54:57.491Z"
   },
   {
    "duration": 56,
    "start_time": "2021-06-19T17:54:57.516Z"
   },
   {
    "duration": 47,
    "start_time": "2021-06-19T17:54:57.574Z"
   },
   {
    "duration": 29,
    "start_time": "2021-06-19T17:54:57.624Z"
   },
   {
    "duration": 19,
    "start_time": "2021-06-19T17:54:57.655Z"
   },
   {
    "duration": 33,
    "start_time": "2021-06-19T17:54:57.677Z"
   },
   {
    "duration": 18,
    "start_time": "2021-06-19T17:54:57.712Z"
   },
   {
    "duration": 5,
    "start_time": "2021-06-19T17:54:57.732Z"
   },
   {
    "duration": 24,
    "start_time": "2021-06-19T17:54:57.739Z"
   },
   {
    "duration": 414,
    "start_time": "2021-06-19T17:54:57.766Z"
   },
   {
    "duration": 26,
    "start_time": "2021-06-19T17:54:58.183Z"
   },
   {
    "duration": 21,
    "start_time": "2021-06-19T17:54:58.212Z"
   },
   {
    "duration": 398,
    "start_time": "2021-06-19T17:54:58.236Z"
   },
   {
    "duration": 23,
    "start_time": "2021-06-19T17:54:58.636Z"
   },
   {
    "duration": 18,
    "start_time": "2021-06-19T17:55:35.686Z"
   },
   {
    "duration": 11,
    "start_time": "2021-06-19T17:57:49.402Z"
   },
   {
    "duration": 11,
    "start_time": "2021-06-19T17:58:16.052Z"
   },
   {
    "duration": 13,
    "start_time": "2021-06-19T17:58:27.699Z"
   },
   {
    "duration": 277,
    "start_time": "2021-06-19T18:05:25.589Z"
   },
   {
    "duration": 773,
    "start_time": "2021-06-19T18:14:35.130Z"
   },
   {
    "duration": 90,
    "start_time": "2021-06-19T18:14:35.906Z"
   },
   {
    "duration": 4,
    "start_time": "2021-06-19T18:14:35.999Z"
   },
   {
    "duration": 21,
    "start_time": "2021-06-19T18:14:36.008Z"
   },
   {
    "duration": 18,
    "start_time": "2021-06-19T18:14:36.031Z"
   },
   {
    "duration": 13,
    "start_time": "2021-06-19T18:14:36.051Z"
   },
   {
    "duration": 45,
    "start_time": "2021-06-19T18:14:36.110Z"
   },
   {
    "duration": 13,
    "start_time": "2021-06-19T18:14:36.158Z"
   },
   {
    "duration": 40,
    "start_time": "2021-06-19T18:14:36.174Z"
   },
   {
    "duration": 20,
    "start_time": "2021-06-19T18:14:36.217Z"
   },
   {
    "duration": 8,
    "start_time": "2021-06-19T18:14:36.240Z"
   },
   {
    "duration": 13,
    "start_time": "2021-06-19T18:14:36.250Z"
   },
   {
    "duration": 49,
    "start_time": "2021-06-19T18:14:36.265Z"
   },
   {
    "duration": 6,
    "start_time": "2021-06-19T18:14:36.317Z"
   },
   {
    "duration": 15,
    "start_time": "2021-06-19T18:14:36.326Z"
   },
   {
    "duration": 13,
    "start_time": "2021-06-19T18:14:36.344Z"
   },
   {
    "duration": 50,
    "start_time": "2021-06-19T18:14:36.359Z"
   },
   {
    "duration": 13,
    "start_time": "2021-06-19T18:14:36.412Z"
   },
   {
    "duration": 10,
    "start_time": "2021-06-19T18:14:36.427Z"
   },
   {
    "duration": 5,
    "start_time": "2021-06-19T18:14:36.440Z"
   },
   {
    "duration": 68,
    "start_time": "2021-06-19T18:14:36.447Z"
   },
   {
    "duration": 10,
    "start_time": "2021-06-19T18:14:36.517Z"
   },
   {
    "duration": 19,
    "start_time": "2021-06-19T18:14:36.533Z"
   },
   {
    "duration": 18,
    "start_time": "2021-06-19T18:14:36.555Z"
   },
   {
    "duration": 60,
    "start_time": "2021-06-19T18:14:36.575Z"
   },
   {
    "duration": 29,
    "start_time": "2021-06-19T18:14:36.638Z"
   },
   {
    "duration": 62,
    "start_time": "2021-06-19T18:14:36.670Z"
   },
   {
    "duration": 17,
    "start_time": "2021-06-19T18:14:36.734Z"
   },
   {
    "duration": 8,
    "start_time": "2021-06-19T18:14:36.754Z"
   },
   {
    "duration": 47,
    "start_time": "2021-06-19T18:14:36.764Z"
   },
   {
    "duration": 3407,
    "start_time": "2021-06-19T18:14:36.814Z"
   },
   {
    "duration": 5,
    "start_time": "2021-06-19T18:14:40.223Z"
   },
   {
    "duration": 406,
    "start_time": "2021-06-19T18:14:40.230Z"
   },
   {
    "duration": 8,
    "start_time": "2021-06-19T18:14:40.639Z"
   },
   {
    "duration": 23,
    "start_time": "2021-06-19T18:14:40.649Z"
   },
   {
    "duration": 37,
    "start_time": "2021-06-19T18:14:40.674Z"
   },
   {
    "duration": 392,
    "start_time": "2021-06-19T18:14:40.713Z"
   },
   {
    "duration": 19,
    "start_time": "2021-06-19T18:14:41.109Z"
   },
   {
    "duration": 14,
    "start_time": "2021-06-19T18:14:41.130Z"
   },
   {
    "duration": 10,
    "start_time": "2021-06-19T18:14:41.147Z"
   },
   {
    "duration": 51,
    "start_time": "2021-06-19T18:14:41.160Z"
   },
   {
    "duration": 16,
    "start_time": "2021-06-19T18:14:41.213Z"
   },
   {
    "duration": 21,
    "start_time": "2021-06-19T18:14:41.231Z"
   },
   {
    "duration": 57,
    "start_time": "2021-06-19T18:14:41.255Z"
   },
   {
    "duration": 4,
    "start_time": "2021-06-19T18:14:41.314Z"
   },
   {
    "duration": 19,
    "start_time": "2021-06-19T18:14:41.320Z"
   },
   {
    "duration": 408,
    "start_time": "2021-06-19T18:14:41.342Z"
   },
   {
    "duration": 11,
    "start_time": "2021-06-19T18:14:41.753Z"
   },
   {
    "duration": 42,
    "start_time": "2021-06-19T18:14:41.767Z"
   },
   {
    "duration": 19,
    "start_time": "2021-06-19T18:14:41.812Z"
   },
   {
    "duration": 362,
    "start_time": "2021-06-19T18:14:41.834Z"
   },
   {
    "duration": 23,
    "start_time": "2021-06-19T18:14:42.199Z"
   },
   {
    "duration": 794,
    "start_time": "2021-06-19T18:18:05.425Z"
   },
   {
    "duration": 92,
    "start_time": "2021-06-19T18:18:06.221Z"
   },
   {
    "duration": 4,
    "start_time": "2021-06-19T18:18:06.316Z"
   },
   {
    "duration": 29,
    "start_time": "2021-06-19T18:18:06.322Z"
   },
   {
    "duration": 39,
    "start_time": "2021-06-19T18:18:06.353Z"
   },
   {
    "duration": 20,
    "start_time": "2021-06-19T18:18:06.394Z"
   },
   {
    "duration": 44,
    "start_time": "2021-06-19T18:18:06.416Z"
   },
   {
    "duration": 47,
    "start_time": "2021-06-19T18:18:06.464Z"
   },
   {
    "duration": 9,
    "start_time": "2021-06-19T18:18:06.514Z"
   },
   {
    "duration": 16,
    "start_time": "2021-06-19T18:18:06.526Z"
   },
   {
    "duration": 10,
    "start_time": "2021-06-19T18:18:06.545Z"
   },
   {
    "duration": 59,
    "start_time": "2021-06-19T18:18:06.558Z"
   },
   {
    "duration": 13,
    "start_time": "2021-06-19T18:18:06.619Z"
   },
   {
    "duration": 15,
    "start_time": "2021-06-19T18:18:06.634Z"
   },
   {
    "duration": 12,
    "start_time": "2021-06-19T18:18:06.651Z"
   },
   {
    "duration": 51,
    "start_time": "2021-06-19T18:18:06.666Z"
   },
   {
    "duration": 5,
    "start_time": "2021-06-19T18:18:06.720Z"
   },
   {
    "duration": 19,
    "start_time": "2021-06-19T18:18:06.727Z"
   },
   {
    "duration": 10,
    "start_time": "2021-06-19T18:18:06.749Z"
   },
   {
    "duration": 50,
    "start_time": "2021-06-19T18:18:06.762Z"
   },
   {
    "duration": 19,
    "start_time": "2021-06-19T18:18:06.815Z"
   },
   {
    "duration": 16,
    "start_time": "2021-06-19T18:18:06.836Z"
   },
   {
    "duration": 53,
    "start_time": "2021-06-19T18:18:06.858Z"
   },
   {
    "duration": 26,
    "start_time": "2021-06-19T18:18:06.914Z"
   },
   {
    "duration": 43,
    "start_time": "2021-06-19T18:18:06.942Z"
   },
   {
    "duration": 42,
    "start_time": "2021-06-19T18:18:06.988Z"
   },
   {
    "duration": 27,
    "start_time": "2021-06-19T18:18:07.032Z"
   },
   {
    "duration": 16,
    "start_time": "2021-06-19T18:18:07.062Z"
   },
   {
    "duration": 35,
    "start_time": "2021-06-19T18:18:07.080Z"
   },
   {
    "duration": 8,
    "start_time": "2021-06-19T18:18:07.117Z"
   },
   {
    "duration": 3369,
    "start_time": "2021-06-19T18:18:07.127Z"
   },
   {
    "duration": 12,
    "start_time": "2021-06-19T18:18:10.498Z"
   },
   {
    "duration": 421,
    "start_time": "2021-06-19T18:18:10.512Z"
   },
   {
    "duration": 10,
    "start_time": "2021-06-19T18:18:10.935Z"
   },
   {
    "duration": 47,
    "start_time": "2021-06-19T18:18:10.948Z"
   },
   {
    "duration": 15,
    "start_time": "2021-06-19T18:18:10.998Z"
   },
   {
    "duration": 402,
    "start_time": "2021-06-19T18:18:11.017Z"
   },
   {
    "duration": 20,
    "start_time": "2021-06-19T18:18:11.422Z"
   },
   {
    "duration": 13,
    "start_time": "2021-06-19T18:18:11.444Z"
   },
   {
    "duration": 56,
    "start_time": "2021-06-19T18:18:11.459Z"
   },
   {
    "duration": 14,
    "start_time": "2021-06-19T18:18:11.518Z"
   },
   {
    "duration": 14,
    "start_time": "2021-06-19T18:18:11.535Z"
   },
   {
    "duration": 62,
    "start_time": "2021-06-19T18:18:11.551Z"
   },
   {
    "duration": 18,
    "start_time": "2021-06-19T18:18:11.615Z"
   },
   {
    "duration": 4,
    "start_time": "2021-06-19T18:18:11.636Z"
   },
   {
    "duration": 29,
    "start_time": "2021-06-19T18:18:11.643Z"
   },
   {
    "duration": 419,
    "start_time": "2021-06-19T18:18:11.674Z"
   },
   {
    "duration": 14,
    "start_time": "2021-06-19T18:18:12.108Z"
   },
   {
    "duration": 17,
    "start_time": "2021-06-19T18:18:12.125Z"
   },
   {
    "duration": 22,
    "start_time": "2021-06-19T18:18:12.144Z"
   },
   {
    "duration": 399,
    "start_time": "2021-06-19T18:18:12.169Z"
   },
   {
    "duration": 43,
    "start_time": "2021-06-19T18:18:12.572Z"
   },
   {
    "duration": 108,
    "start_time": "2021-06-19T18:20:09.556Z"
   },
   {
    "duration": 7,
    "start_time": "2021-06-19T18:20:14.878Z"
   },
   {
    "duration": 430,
    "start_time": "2021-06-19T18:22:31.132Z"
   },
   {
    "duration": 10,
    "start_time": "2021-06-19T18:22:39.122Z"
   },
   {
    "duration": 7,
    "start_time": "2021-06-19T18:22:57.072Z"
   },
   {
    "duration": 8,
    "start_time": "2021-06-19T18:23:58.471Z"
   },
   {
    "duration": 7,
    "start_time": "2021-06-19T18:24:19.432Z"
   },
   {
    "duration": 7,
    "start_time": "2021-06-19T18:24:33.270Z"
   },
   {
    "duration": 641,
    "start_time": "2021-06-19T18:25:04.174Z"
   },
   {
    "duration": 4403,
    "start_time": "2021-06-19T18:25:07.092Z"
   },
   {
    "duration": 2245,
    "start_time": "2021-06-19T18:25:37.909Z"
   },
   {
    "duration": 2295,
    "start_time": "2021-06-19T18:25:43.720Z"
   },
   {
    "duration": 115,
    "start_time": "2021-06-19T18:25:51.553Z"
   },
   {
    "duration": 115,
    "start_time": "2021-06-19T18:26:03.035Z"
   },
   {
    "duration": 8,
    "start_time": "2021-06-19T18:26:11.075Z"
   },
   {
    "duration": 15,
    "start_time": "2021-06-19T18:27:57.112Z"
   },
   {
    "duration": 9,
    "start_time": "2021-06-19T18:34:38.388Z"
   },
   {
    "duration": 25,
    "start_time": "2021-06-19T18:39:49.786Z"
   },
   {
    "duration": 3724,
    "start_time": "2021-06-19T18:40:00.274Z"
   },
   {
    "duration": 14,
    "start_time": "2021-06-19T18:42:26.762Z"
   },
   {
    "duration": 8,
    "start_time": "2021-06-19T18:42:36.147Z"
   },
   {
    "duration": 2294,
    "start_time": "2021-06-19T18:42:47.540Z"
   },
   {
    "duration": 566,
    "start_time": "2021-06-19T18:42:49.272Z"
   },
   {
    "duration": 368,
    "start_time": "2021-06-19T18:42:57.278Z"
   },
   {
    "duration": 13,
    "start_time": "2021-06-19T18:43:13.258Z"
   },
   {
    "duration": 11,
    "start_time": "2021-06-19T18:43:16.338Z"
   },
   {
    "duration": 15,
    "start_time": "2021-06-19T18:43:28.394Z"
   },
   {
    "duration": 10,
    "start_time": "2021-06-19T18:43:30.339Z"
   },
   {
    "duration": 15,
    "start_time": "2021-06-19T18:45:21.810Z"
   },
   {
    "duration": 7,
    "start_time": "2021-06-19T18:45:35.528Z"
   },
   {
    "duration": 20,
    "start_time": "2021-06-19T18:46:05.164Z"
   },
   {
    "duration": 14,
    "start_time": "2021-06-19T18:46:12.751Z"
   },
   {
    "duration": 882,
    "start_time": "2021-06-19T18:46:31.598Z"
   },
   {
    "duration": 94,
    "start_time": "2021-06-19T18:46:32.483Z"
   },
   {
    "duration": 4,
    "start_time": "2021-06-19T18:46:32.580Z"
   },
   {
    "duration": 51,
    "start_time": "2021-06-19T18:46:32.588Z"
   },
   {
    "duration": 25,
    "start_time": "2021-06-19T18:46:32.642Z"
   },
   {
    "duration": 20,
    "start_time": "2021-06-19T18:46:32.669Z"
   },
   {
    "duration": 60,
    "start_time": "2021-06-19T18:46:32.692Z"
   },
   {
    "duration": 13,
    "start_time": "2021-06-19T18:46:32.756Z"
   },
   {
    "duration": 38,
    "start_time": "2021-06-19T18:46:32.772Z"
   },
   {
    "duration": 13,
    "start_time": "2021-06-19T18:46:32.813Z"
   },
   {
    "duration": 16,
    "start_time": "2021-06-19T18:46:32.828Z"
   },
   {
    "duration": 8,
    "start_time": "2021-06-19T18:46:32.847Z"
   },
   {
    "duration": 59,
    "start_time": "2021-06-19T18:46:32.857Z"
   },
   {
    "duration": 13,
    "start_time": "2021-06-19T18:46:32.918Z"
   },
   {
    "duration": 22,
    "start_time": "2021-06-19T18:46:32.934Z"
   },
   {
    "duration": 22,
    "start_time": "2021-06-19T18:46:32.958Z"
   },
   {
    "duration": 27,
    "start_time": "2021-06-19T18:46:32.982Z"
   },
   {
    "duration": 25,
    "start_time": "2021-06-19T18:46:33.011Z"
   },
   {
    "duration": 24,
    "start_time": "2021-06-19T18:46:33.038Z"
   },
   {
    "duration": 10,
    "start_time": "2021-06-19T18:46:33.064Z"
   },
   {
    "duration": 34,
    "start_time": "2021-06-19T18:46:33.077Z"
   },
   {
    "duration": 10,
    "start_time": "2021-06-19T18:46:33.114Z"
   },
   {
    "duration": 8,
    "start_time": "2021-06-19T18:46:33.130Z"
   },
   {
    "duration": 24,
    "start_time": "2021-06-19T18:46:33.141Z"
   },
   {
    "duration": 47,
    "start_time": "2021-06-19T18:46:33.168Z"
   },
   {
    "duration": 23,
    "start_time": "2021-06-19T18:46:33.218Z"
   },
   {
    "duration": 19,
    "start_time": "2021-06-19T18:46:33.243Z"
   },
   {
    "duration": 62,
    "start_time": "2021-06-19T18:46:33.264Z"
   },
   {
    "duration": 35,
    "start_time": "2021-06-19T18:46:33.328Z"
   },
   {
    "duration": 55,
    "start_time": "2021-06-19T18:46:33.365Z"
   },
   {
    "duration": 17,
    "start_time": "2021-06-19T18:46:33.422Z"
   },
   {
    "duration": 12,
    "start_time": "2021-06-19T18:46:33.442Z"
   },
   {
    "duration": 18,
    "start_time": "2021-06-19T18:46:33.456Z"
   },
   {
    "duration": 3361,
    "start_time": "2021-06-19T18:46:33.476Z"
   },
   {
    "duration": 4,
    "start_time": "2021-06-19T18:46:36.840Z"
   },
   {
    "duration": 408,
    "start_time": "2021-06-19T18:46:36.847Z"
   },
   {
    "duration": 9,
    "start_time": "2021-06-19T18:46:37.257Z"
   },
   {
    "duration": 42,
    "start_time": "2021-06-19T18:46:37.269Z"
   },
   {
    "duration": 10,
    "start_time": "2021-06-19T18:46:37.313Z"
   },
   {
    "duration": 399,
    "start_time": "2021-06-19T18:46:37.326Z"
   },
   {
    "duration": 19,
    "start_time": "2021-06-19T18:46:37.728Z"
   },
   {
    "duration": 18,
    "start_time": "2021-06-19T18:46:37.750Z"
   },
   {
    "duration": 46,
    "start_time": "2021-06-19T18:46:37.771Z"
   },
   {
    "duration": 28,
    "start_time": "2021-06-19T18:46:37.820Z"
   },
   {
    "duration": 17,
    "start_time": "2021-06-19T18:46:37.852Z"
   },
   {
    "duration": 48,
    "start_time": "2021-06-19T18:46:37.873Z"
   },
   {
    "duration": 18,
    "start_time": "2021-06-19T18:46:37.923Z"
   },
   {
    "duration": 4,
    "start_time": "2021-06-19T18:46:37.944Z"
   },
   {
    "duration": 22,
    "start_time": "2021-06-19T18:46:37.950Z"
   },
   {
    "duration": 395,
    "start_time": "2021-06-19T18:46:38.009Z"
   },
   {
    "duration": 11,
    "start_time": "2021-06-19T18:46:38.409Z"
   },
   {
    "duration": 23,
    "start_time": "2021-06-19T18:46:38.423Z"
   },
   {
    "duration": 19,
    "start_time": "2021-06-19T18:46:38.448Z"
   },
   {
    "duration": 377,
    "start_time": "2021-06-19T18:46:38.470Z"
   },
   {
    "duration": 17,
    "start_time": "2021-06-19T18:46:38.850Z"
   },
   {
    "duration": 774,
    "start_time": "2021-06-19T18:49:51.437Z"
   },
   {
    "duration": 102,
    "start_time": "2021-06-19T18:49:52.214Z"
   },
   {
    "duration": 6,
    "start_time": "2021-06-19T18:49:52.321Z"
   },
   {
    "duration": 24,
    "start_time": "2021-06-19T18:49:52.330Z"
   },
   {
    "duration": 62,
    "start_time": "2021-06-19T18:49:52.357Z"
   },
   {
    "duration": 12,
    "start_time": "2021-06-19T18:49:52.422Z"
   },
   {
    "duration": 73,
    "start_time": "2021-06-19T18:49:52.437Z"
   },
   {
    "duration": 12,
    "start_time": "2021-06-19T18:49:52.514Z"
   },
   {
    "duration": 7,
    "start_time": "2021-06-19T18:49:52.529Z"
   },
   {
    "duration": 11,
    "start_time": "2021-06-19T18:49:52.538Z"
   },
   {
    "duration": 62,
    "start_time": "2021-06-19T18:49:52.552Z"
   },
   {
    "duration": 11,
    "start_time": "2021-06-19T18:49:52.617Z"
   },
   {
    "duration": 12,
    "start_time": "2021-06-19T18:49:52.630Z"
   },
   {
    "duration": 9,
    "start_time": "2021-06-19T18:49:52.644Z"
   },
   {
    "duration": 64,
    "start_time": "2021-06-19T18:49:52.656Z"
   },
   {
    "duration": 13,
    "start_time": "2021-06-19T18:49:52.722Z"
   },
   {
    "duration": 11,
    "start_time": "2021-06-19T18:49:52.737Z"
   },
   {
    "duration": 10,
    "start_time": "2021-06-19T18:49:52.751Z"
   },
   {
    "duration": 12,
    "start_time": "2021-06-19T18:49:52.810Z"
   },
   {
    "duration": 4,
    "start_time": "2021-06-19T18:49:52.825Z"
   },
   {
    "duration": 15,
    "start_time": "2021-06-19T18:49:52.831Z"
   },
   {
    "duration": 11,
    "start_time": "2021-06-19T18:49:52.848Z"
   },
   {
    "duration": 5,
    "start_time": "2021-06-19T18:49:52.911Z"
   },
   {
    "duration": 23,
    "start_time": "2021-06-19T18:49:52.919Z"
   },
   {
    "duration": 12,
    "start_time": "2021-06-19T18:49:52.944Z"
   },
   {
    "duration": 60,
    "start_time": "2021-06-19T18:49:52.959Z"
   },
   {
    "duration": 19,
    "start_time": "2021-06-19T18:49:53.022Z"
   },
   {
    "duration": 33,
    "start_time": "2021-06-19T18:49:53.044Z"
   },
   {
    "duration": 55,
    "start_time": "2021-06-19T18:49:53.080Z"
   },
   {
    "duration": 25,
    "start_time": "2021-06-19T18:49:53.138Z"
   },
   {
    "duration": 46,
    "start_time": "2021-06-19T18:49:53.165Z"
   },
   {
    "duration": 15,
    "start_time": "2021-06-19T18:49:53.213Z"
   },
   {
    "duration": 15,
    "start_time": "2021-06-19T18:49:53.231Z"
   },
   {
    "duration": 3349,
    "start_time": "2021-06-19T18:49:53.249Z"
   },
   {
    "duration": 10,
    "start_time": "2021-06-19T18:49:56.600Z"
   },
   {
    "duration": 425,
    "start_time": "2021-06-19T18:49:56.612Z"
   },
   {
    "duration": 10,
    "start_time": "2021-06-19T18:49:57.039Z"
   },
   {
    "duration": 36,
    "start_time": "2021-06-19T18:49:57.051Z"
   },
   {
    "duration": 21,
    "start_time": "2021-06-19T18:49:57.090Z"
   },
   {
    "duration": 416,
    "start_time": "2021-06-19T18:49:57.114Z"
   },
   {
    "duration": 22,
    "start_time": "2021-06-19T18:49:57.533Z"
   },
   {
    "duration": 15,
    "start_time": "2021-06-19T18:49:57.559Z"
   },
   {
    "duration": 10,
    "start_time": "2021-06-19T18:49:57.610Z"
   },
   {
    "duration": 17,
    "start_time": "2021-06-19T18:49:57.622Z"
   },
   {
    "duration": 20,
    "start_time": "2021-06-19T18:49:57.642Z"
   },
   {
    "duration": 59,
    "start_time": "2021-06-19T18:49:57.665Z"
   },
   {
    "duration": 17,
    "start_time": "2021-06-19T18:49:57.726Z"
   },
   {
    "duration": 4,
    "start_time": "2021-06-19T18:49:57.745Z"
   },
   {
    "duration": 22,
    "start_time": "2021-06-19T18:49:57.751Z"
   },
   {
    "duration": 436,
    "start_time": "2021-06-19T18:49:57.775Z"
   },
   {
    "duration": 11,
    "start_time": "2021-06-19T18:49:58.214Z"
   },
   {
    "duration": 21,
    "start_time": "2021-06-19T18:49:58.227Z"
   },
   {
    "duration": 19,
    "start_time": "2021-06-19T18:49:58.250Z"
   },
   {
    "duration": 379,
    "start_time": "2021-06-19T18:49:58.272Z"
   },
   {
    "duration": 18,
    "start_time": "2021-06-19T18:49:58.654Z"
   },
   {
    "duration": 102,
    "start_time": "2021-06-20T11:40:07.785Z"
   },
   {
    "duration": 758,
    "start_time": "2021-06-20T11:40:15.143Z"
   },
   {
    "duration": 93,
    "start_time": "2021-06-20T11:40:15.904Z"
   },
   {
    "duration": 4,
    "start_time": "2021-06-20T11:40:16.000Z"
   },
   {
    "duration": 29,
    "start_time": "2021-06-20T11:40:16.006Z"
   },
   {
    "duration": 24,
    "start_time": "2021-06-20T11:40:16.037Z"
   },
   {
    "duration": 13,
    "start_time": "2021-06-20T11:40:16.064Z"
   },
   {
    "duration": 44,
    "start_time": "2021-06-20T11:40:16.079Z"
   },
   {
    "duration": 36,
    "start_time": "2021-06-20T11:40:16.127Z"
   },
   {
    "duration": 6,
    "start_time": "2021-06-20T11:40:16.166Z"
   },
   {
    "duration": 11,
    "start_time": "2021-06-20T11:40:16.175Z"
   },
   {
    "duration": 18,
    "start_time": "2021-06-20T11:40:16.189Z"
   },
   {
    "duration": 8,
    "start_time": "2021-06-20T11:40:16.209Z"
   },
   {
    "duration": 11,
    "start_time": "2021-06-20T11:40:16.255Z"
   },
   {
    "duration": 8,
    "start_time": "2021-06-20T11:40:16.268Z"
   },
   {
    "duration": 16,
    "start_time": "2021-06-20T11:40:16.278Z"
   },
   {
    "duration": 11,
    "start_time": "2021-06-20T11:40:16.296Z"
   },
   {
    "duration": 46,
    "start_time": "2021-06-20T11:40:16.310Z"
   },
   {
    "duration": 11,
    "start_time": "2021-06-20T11:40:16.359Z"
   },
   {
    "duration": 16,
    "start_time": "2021-06-20T11:40:16.372Z"
   },
   {
    "duration": 4,
    "start_time": "2021-06-20T11:40:16.390Z"
   },
   {
    "duration": 15,
    "start_time": "2021-06-20T11:40:16.396Z"
   },
   {
    "duration": 43,
    "start_time": "2021-06-20T11:40:16.413Z"
   },
   {
    "duration": 5,
    "start_time": "2021-06-20T11:40:16.461Z"
   },
   {
    "duration": 22,
    "start_time": "2021-06-20T11:40:16.469Z"
   },
   {
    "duration": 12,
    "start_time": "2021-06-20T11:40:16.493Z"
   },
   {
    "duration": 54,
    "start_time": "2021-06-20T11:40:16.507Z"
   },
   {
    "duration": 21,
    "start_time": "2021-06-20T11:40:16.563Z"
   },
   {
    "duration": 35,
    "start_time": "2021-06-20T11:40:16.586Z"
   },
   {
    "duration": 48,
    "start_time": "2021-06-20T11:40:16.623Z"
   },
   {
    "duration": 24,
    "start_time": "2021-06-20T11:40:16.673Z"
   },
   {
    "duration": 16,
    "start_time": "2021-06-20T11:40:16.699Z"
   },
   {
    "duration": 10,
    "start_time": "2021-06-20T11:40:16.718Z"
   },
   {
    "duration": 30,
    "start_time": "2021-06-20T11:40:16.730Z"
   },
   {
    "duration": 3251,
    "start_time": "2021-06-20T11:40:16.762Z"
   },
   {
    "duration": 4,
    "start_time": "2021-06-20T11:40:20.015Z"
   },
   {
    "duration": 468,
    "start_time": "2021-06-20T11:40:20.022Z"
   },
   {
    "duration": 11,
    "start_time": "2021-06-20T11:40:20.493Z"
   },
   {
    "duration": 24,
    "start_time": "2021-06-20T11:40:20.506Z"
   },
   {
    "duration": 25,
    "start_time": "2021-06-20T11:40:20.533Z"
   },
   {
    "duration": 401,
    "start_time": "2021-06-20T11:40:20.561Z"
   },
   {
    "duration": 19,
    "start_time": "2021-06-20T11:40:20.964Z"
   },
   {
    "duration": 14,
    "start_time": "2021-06-20T11:40:20.986Z"
   },
   {
    "duration": 12,
    "start_time": "2021-06-20T11:40:21.002Z"
   },
   {
    "duration": 42,
    "start_time": "2021-06-20T11:40:21.017Z"
   },
   {
    "duration": 13,
    "start_time": "2021-06-20T11:40:21.062Z"
   },
   {
    "duration": 22,
    "start_time": "2021-06-20T11:40:21.078Z"
   },
   {
    "duration": 53,
    "start_time": "2021-06-20T11:40:21.103Z"
   },
   {
    "duration": 4,
    "start_time": "2021-06-20T11:40:21.158Z"
   },
   {
    "duration": 17,
    "start_time": "2021-06-20T11:40:21.165Z"
   },
   {
    "duration": 381,
    "start_time": "2021-06-20T11:40:21.185Z"
   },
   {
    "duration": 11,
    "start_time": "2021-06-20T11:40:21.568Z"
   },
   {
    "duration": 88,
    "start_time": "2021-06-20T11:40:21.581Z"
   },
   {
    "duration": -60,
    "start_time": "2021-06-20T11:40:21.731Z"
   },
   {
    "duration": -63,
    "start_time": "2021-06-20T11:40:21.736Z"
   },
   {
    "duration": -65,
    "start_time": "2021-06-20T11:40:21.739Z"
   },
   {
    "duration": 15,
    "start_time": "2021-06-20T11:40:55.874Z"
   },
   {
    "duration": 19,
    "start_time": "2021-06-20T11:41:17.820Z"
   },
   {
    "duration": 308,
    "start_time": "2021-06-20T11:42:23.126Z"
   },
   {
    "duration": 86,
    "start_time": "2021-06-20T11:45:01.081Z"
   },
   {
    "duration": 352,
    "start_time": "2021-06-20T11:45:10.105Z"
   },
   {
    "duration": 733,
    "start_time": "2021-06-20T11:47:55.323Z"
   },
   {
    "duration": 12,
    "start_time": "2021-06-20T11:49:12.256Z"
   },
   {
    "duration": 1634,
    "start_time": "2021-06-20T11:55:59.012Z"
   },
   {
    "duration": 746,
    "start_time": "2021-06-20T11:56:32.550Z"
   },
   {
    "duration": 88,
    "start_time": "2021-06-20T11:56:33.299Z"
   },
   {
    "duration": 3,
    "start_time": "2021-06-20T11:56:33.391Z"
   },
   {
    "duration": 23,
    "start_time": "2021-06-20T11:56:33.397Z"
   },
   {
    "duration": 36,
    "start_time": "2021-06-20T11:56:33.422Z"
   },
   {
    "duration": 12,
    "start_time": "2021-06-20T11:56:33.460Z"
   },
   {
    "duration": 44,
    "start_time": "2021-06-20T11:56:33.475Z"
   },
   {
    "duration": 41,
    "start_time": "2021-06-20T11:56:33.523Z"
   },
   {
    "duration": 7,
    "start_time": "2021-06-20T11:56:33.567Z"
   },
   {
    "duration": 11,
    "start_time": "2021-06-20T11:56:33.576Z"
   },
   {
    "duration": 10,
    "start_time": "2021-06-20T11:56:33.590Z"
   },
   {
    "duration": 8,
    "start_time": "2021-06-20T11:56:33.603Z"
   },
   {
    "duration": 12,
    "start_time": "2021-06-20T11:56:33.655Z"
   },
   {
    "duration": 9,
    "start_time": "2021-06-20T11:56:33.669Z"
   },
   {
    "duration": 13,
    "start_time": "2021-06-20T11:56:33.681Z"
   },
   {
    "duration": 13,
    "start_time": "2021-06-20T11:56:33.697Z"
   },
   {
    "duration": 50,
    "start_time": "2021-06-20T11:56:33.712Z"
   },
   {
    "duration": 12,
    "start_time": "2021-06-20T11:56:33.765Z"
   },
   {
    "duration": 12,
    "start_time": "2021-06-20T11:56:33.779Z"
   },
   {
    "duration": 4,
    "start_time": "2021-06-20T11:56:33.793Z"
   },
   {
    "duration": 54,
    "start_time": "2021-06-20T11:56:33.800Z"
   },
   {
    "duration": 11,
    "start_time": "2021-06-20T11:56:33.857Z"
   },
   {
    "duration": 5,
    "start_time": "2021-06-20T11:56:33.874Z"
   },
   {
    "duration": 20,
    "start_time": "2021-06-20T11:56:33.882Z"
   },
   {
    "duration": 11,
    "start_time": "2021-06-20T11:56:33.905Z"
   },
   {
    "duration": 50,
    "start_time": "2021-06-20T11:56:33.919Z"
   },
   {
    "duration": 23,
    "start_time": "2021-06-20T11:56:33.972Z"
   },
   {
    "duration": 33,
    "start_time": "2021-06-20T11:56:33.997Z"
   },
   {
    "duration": 49,
    "start_time": "2021-06-20T11:56:34.033Z"
   },
   {
    "duration": 24,
    "start_time": "2021-06-20T11:56:34.084Z"
   },
   {
    "duration": 17,
    "start_time": "2021-06-20T11:56:34.110Z"
   },
   {
    "duration": 7,
    "start_time": "2021-06-20T11:56:34.155Z"
   },
   {
    "duration": 12,
    "start_time": "2021-06-20T11:56:34.164Z"
   },
   {
    "duration": 3270,
    "start_time": "2021-06-20T11:56:34.178Z"
   },
   {
    "duration": 4,
    "start_time": "2021-06-20T11:56:37.455Z"
   },
   {
    "duration": 387,
    "start_time": "2021-06-20T11:56:37.461Z"
   },
   {
    "duration": 9,
    "start_time": "2021-06-20T11:56:37.851Z"
   },
   {
    "duration": 25,
    "start_time": "2021-06-20T11:56:37.862Z"
   },
   {
    "duration": 7,
    "start_time": "2021-06-20T11:56:37.889Z"
   },
   {
    "duration": 404,
    "start_time": "2021-06-20T11:56:37.898Z"
   },
   {
    "duration": 19,
    "start_time": "2021-06-20T11:56:38.304Z"
   },
   {
    "duration": 13,
    "start_time": "2021-06-20T11:56:38.325Z"
   },
   {
    "duration": 21,
    "start_time": "2021-06-20T11:56:38.340Z"
   },
   {
    "duration": 15,
    "start_time": "2021-06-20T11:56:38.363Z"
   },
   {
    "duration": 14,
    "start_time": "2021-06-20T11:56:38.381Z"
   },
   {
    "duration": 24,
    "start_time": "2021-06-20T11:56:38.397Z"
   },
   {
    "duration": 41,
    "start_time": "2021-06-20T11:56:38.424Z"
   },
   {
    "duration": 3,
    "start_time": "2021-06-20T11:56:38.468Z"
   },
   {
    "duration": 24,
    "start_time": "2021-06-20T11:56:38.474Z"
   },
   {
    "duration": 391,
    "start_time": "2021-06-20T11:56:38.501Z"
   },
   {
    "duration": 11,
    "start_time": "2021-06-20T11:56:38.894Z"
   },
   {
    "duration": 12,
    "start_time": "2021-06-20T11:56:38.907Z"
   },
   {
    "duration": 1726,
    "start_time": "2021-06-20T11:56:38.921Z"
   },
   {
    "duration": -89,
    "start_time": "2021-06-20T11:56:40.743Z"
   },
   {
    "duration": -94,
    "start_time": "2021-06-20T11:56:40.750Z"
   },
   {
    "duration": -96,
    "start_time": "2021-06-20T11:56:40.754Z"
   },
   {
    "duration": 292,
    "start_time": "2021-06-20T11:57:03.936Z"
   },
   {
    "duration": 290,
    "start_time": "2021-06-20T11:57:46.255Z"
   },
   {
    "duration": 702,
    "start_time": "2021-06-20T11:58:26.902Z"
   },
   {
    "duration": 90,
    "start_time": "2021-06-20T11:58:27.607Z"
   },
   {
    "duration": 4,
    "start_time": "2021-06-20T11:58:27.700Z"
   },
   {
    "duration": 22,
    "start_time": "2021-06-20T11:58:27.706Z"
   },
   {
    "duration": 32,
    "start_time": "2021-06-20T11:58:27.731Z"
   },
   {
    "duration": 13,
    "start_time": "2021-06-20T11:58:27.765Z"
   },
   {
    "duration": 44,
    "start_time": "2021-06-20T11:58:27.781Z"
   },
   {
    "duration": 36,
    "start_time": "2021-06-20T11:58:27.829Z"
   },
   {
    "duration": 11,
    "start_time": "2021-06-20T11:58:27.868Z"
   },
   {
    "duration": 12,
    "start_time": "2021-06-20T11:58:27.881Z"
   },
   {
    "duration": 16,
    "start_time": "2021-06-20T11:58:27.895Z"
   },
   {
    "duration": 40,
    "start_time": "2021-06-20T11:58:27.914Z"
   },
   {
    "duration": 11,
    "start_time": "2021-06-20T11:58:27.957Z"
   },
   {
    "duration": 13,
    "start_time": "2021-06-20T11:58:27.971Z"
   },
   {
    "duration": 19,
    "start_time": "2021-06-20T11:58:27.986Z"
   },
   {
    "duration": 12,
    "start_time": "2021-06-20T11:58:28.008Z"
   },
   {
    "duration": 33,
    "start_time": "2021-06-20T11:58:28.023Z"
   },
   {
    "duration": 21,
    "start_time": "2021-06-20T11:58:28.059Z"
   },
   {
    "duration": 11,
    "start_time": "2021-06-20T11:58:28.083Z"
   },
   {
    "duration": 4,
    "start_time": "2021-06-20T11:58:28.097Z"
   },
   {
    "duration": 15,
    "start_time": "2021-06-20T11:58:28.104Z"
   },
   {
    "duration": 40,
    "start_time": "2021-06-20T11:58:28.122Z"
   },
   {
    "duration": 5,
    "start_time": "2021-06-20T11:58:28.167Z"
   },
   {
    "duration": 24,
    "start_time": "2021-06-20T11:58:28.175Z"
   },
   {
    "duration": 11,
    "start_time": "2021-06-20T11:58:28.202Z"
   },
   {
    "duration": 51,
    "start_time": "2021-06-20T11:58:28.215Z"
   },
   {
    "duration": 18,
    "start_time": "2021-06-20T11:58:28.268Z"
   },
   {
    "duration": 35,
    "start_time": "2021-06-20T11:58:28.289Z"
   },
   {
    "duration": 50,
    "start_time": "2021-06-20T11:58:28.326Z"
   },
   {
    "duration": 26,
    "start_time": "2021-06-20T11:58:28.379Z"
   },
   {
    "duration": 47,
    "start_time": "2021-06-20T11:58:28.407Z"
   },
   {
    "duration": 10,
    "start_time": "2021-06-20T11:58:28.458Z"
   },
   {
    "duration": 13,
    "start_time": "2021-06-20T11:58:28.471Z"
   },
   {
    "duration": 3601,
    "start_time": "2021-06-20T11:58:28.487Z"
   },
   {
    "duration": 6,
    "start_time": "2021-06-20T11:58:32.091Z"
   },
   {
    "duration": 407,
    "start_time": "2021-06-20T11:58:32.099Z"
   },
   {
    "duration": 9,
    "start_time": "2021-06-20T11:58:32.509Z"
   },
   {
    "duration": 36,
    "start_time": "2021-06-20T11:58:32.520Z"
   },
   {
    "duration": 8,
    "start_time": "2021-06-20T11:58:32.558Z"
   },
   {
    "duration": 389,
    "start_time": "2021-06-20T11:58:32.569Z"
   },
   {
    "duration": 19,
    "start_time": "2021-06-20T11:58:32.961Z"
   },
   {
    "duration": 14,
    "start_time": "2021-06-20T11:58:32.982Z"
   },
   {
    "duration": 21,
    "start_time": "2021-06-20T11:58:32.998Z"
   },
   {
    "duration": 38,
    "start_time": "2021-06-20T11:58:33.022Z"
   },
   {
    "duration": 17,
    "start_time": "2021-06-20T11:58:33.064Z"
   },
   {
    "duration": 22,
    "start_time": "2021-06-20T11:58:33.083Z"
   },
   {
    "duration": 48,
    "start_time": "2021-06-20T11:58:33.107Z"
   },
   {
    "duration": 3,
    "start_time": "2021-06-20T11:58:33.158Z"
   },
   {
    "duration": 21,
    "start_time": "2021-06-20T11:58:33.164Z"
   },
   {
    "duration": 385,
    "start_time": "2021-06-20T11:58:33.188Z"
   },
   {
    "duration": 13,
    "start_time": "2021-06-20T11:58:33.576Z"
   },
   {
    "duration": 395,
    "start_time": "2021-06-20T11:58:33.591Z"
   },
   {
    "duration": 13,
    "start_time": "2021-06-20T11:58:33.989Z"
   },
   {
    "duration": 17,
    "start_time": "2021-06-20T11:58:34.004Z"
   },
   {
    "duration": 419,
    "start_time": "2021-06-20T11:58:34.024Z"
   },
   {
    "duration": 24,
    "start_time": "2021-06-20T11:58:34.446Z"
   },
   {
    "duration": 12,
    "start_time": "2021-06-20T12:06:02.825Z"
   },
   {
    "duration": 280,
    "start_time": "2021-06-20T12:16:21.911Z"
   },
   {
    "duration": 268,
    "start_time": "2021-06-20T12:17:01.871Z"
   },
   {
    "duration": 85,
    "start_time": "2021-06-20T12:29:26.184Z"
   },
   {
    "duration": 294,
    "start_time": "2021-06-20T12:32:35.362Z"
   },
   {
    "duration": 288,
    "start_time": "2021-06-20T12:35:49.483Z"
   },
   {
    "duration": 364,
    "start_time": "2021-06-20T12:41:09.497Z"
   },
   {
    "duration": 3,
    "start_time": "2021-06-20T12:41:16.025Z"
   },
   {
    "duration": 11,
    "start_time": "2021-06-20T12:41:19.674Z"
   },
   {
    "duration": 17,
    "start_time": "2021-06-20T12:41:21.943Z"
   },
   {
    "duration": 301,
    "start_time": "2021-06-20T12:42:56.922Z"
   },
   {
    "duration": 279,
    "start_time": "2021-06-20T12:43:40.932Z"
   },
   {
    "duration": 16,
    "start_time": "2021-06-20T12:44:23.508Z"
   },
   {
    "duration": 25,
    "start_time": "2021-06-20T12:44:25.942Z"
   },
   {
    "duration": 17,
    "start_time": "2021-06-20T12:44:40.344Z"
   },
   {
    "duration": 24,
    "start_time": "2021-06-20T12:44:41.759Z"
   },
   {
    "duration": 13,
    "start_time": "2021-06-20T12:44:55.009Z"
   },
   {
    "duration": 19,
    "start_time": "2021-06-20T12:45:03.378Z"
   },
   {
    "duration": 294,
    "start_time": "2021-06-20T12:46:08.888Z"
   },
   {
    "duration": 270,
    "start_time": "2021-06-20T12:46:50.390Z"
   },
   {
    "duration": 276,
    "start_time": "2021-06-20T12:47:49.156Z"
   },
   {
    "duration": 274,
    "start_time": "2021-06-20T12:48:15.980Z"
   },
   {
    "duration": 4,
    "start_time": "2021-06-20T12:48:26.531Z"
   },
   {
    "duration": 11,
    "start_time": "2021-06-20T12:48:27.843Z"
   },
   {
    "duration": 18,
    "start_time": "2021-06-20T12:48:29.978Z"
   },
   {
    "duration": 294,
    "start_time": "2021-06-20T12:48:41.570Z"
   },
   {
    "duration": 12,
    "start_time": "2021-06-20T12:52:34.294Z"
   },
   {
    "duration": 18,
    "start_time": "2021-06-20T12:52:43.394Z"
   },
   {
    "duration": 9,
    "start_time": "2021-06-20T12:53:10.186Z"
   },
   {
    "duration": 13,
    "start_time": "2021-06-20T12:53:11.715Z"
   },
   {
    "duration": 21,
    "start_time": "2021-06-20T12:53:13.705Z"
   },
   {
    "duration": 300,
    "start_time": "2021-06-20T12:53:23.970Z"
   },
   {
    "duration": 243,
    "start_time": "2021-06-20T12:56:08.030Z"
   },
   {
    "duration": 245,
    "start_time": "2021-06-20T12:56:21.524Z"
   },
   {
    "duration": 310,
    "start_time": "2021-06-20T12:56:44.171Z"
   },
   {
    "duration": 244,
    "start_time": "2021-06-20T12:56:53.593Z"
   },
   {
    "duration": 89,
    "start_time": "2021-06-20T12:57:11.875Z"
   },
   {
    "duration": 241,
    "start_time": "2021-06-20T12:57:22.778Z"
   },
   {
    "duration": 509,
    "start_time": "2021-06-20T12:57:43.081Z"
   },
   {
    "duration": 242,
    "start_time": "2021-06-20T12:57:53.077Z"
   },
   {
    "duration": 250,
    "start_time": "2021-06-20T12:57:59.148Z"
   },
   {
    "duration": 242,
    "start_time": "2021-06-20T12:58:08.120Z"
   },
   {
    "duration": 237,
    "start_time": "2021-06-20T12:58:40.088Z"
   },
   {
    "duration": 232,
    "start_time": "2021-06-20T12:58:47.167Z"
   },
   {
    "duration": 240,
    "start_time": "2021-06-20T12:59:05.438Z"
   },
   {
    "duration": 243,
    "start_time": "2021-06-20T12:59:15.615Z"
   },
   {
    "duration": 113,
    "start_time": "2021-06-21T11:33:49.067Z"
   },
   {
    "duration": 801,
    "start_time": "2021-06-21T11:39:45.624Z"
   },
   {
    "duration": 96,
    "start_time": "2021-06-21T11:39:46.435Z"
   },
   {
    "duration": 5,
    "start_time": "2021-06-21T11:39:46.534Z"
   },
   {
    "duration": 22,
    "start_time": "2021-06-21T11:39:46.542Z"
   },
   {
    "duration": 20,
    "start_time": "2021-06-21T11:39:46.567Z"
   },
   {
    "duration": 42,
    "start_time": "2021-06-21T11:39:46.589Z"
   },
   {
    "duration": 45,
    "start_time": "2021-06-21T11:39:46.634Z"
   },
   {
    "duration": 14,
    "start_time": "2021-06-21T11:39:46.683Z"
   },
   {
    "duration": 35,
    "start_time": "2021-06-21T11:39:46.701Z"
   },
   {
    "duration": 11,
    "start_time": "2021-06-21T11:39:46.739Z"
   },
   {
    "duration": 13,
    "start_time": "2021-06-21T11:39:46.753Z"
   },
   {
    "duration": 11,
    "start_time": "2021-06-21T11:39:46.768Z"
   },
   {
    "duration": 54,
    "start_time": "2021-06-21T11:39:46.782Z"
   },
   {
    "duration": 9,
    "start_time": "2021-06-21T11:39:46.839Z"
   },
   {
    "duration": 13,
    "start_time": "2021-06-21T11:39:46.860Z"
   },
   {
    "duration": 12,
    "start_time": "2021-06-21T11:39:46.876Z"
   },
   {
    "duration": 15,
    "start_time": "2021-06-21T11:39:46.929Z"
   },
   {
    "duration": 11,
    "start_time": "2021-06-21T11:39:46.946Z"
   },
   {
    "duration": 12,
    "start_time": "2021-06-21T11:39:46.959Z"
   },
   {
    "duration": 5,
    "start_time": "2021-06-21T11:39:46.973Z"
   },
   {
    "duration": 48,
    "start_time": "2021-06-21T11:39:46.980Z"
   },
   {
    "duration": 13,
    "start_time": "2021-06-21T11:39:47.032Z"
   },
   {
    "duration": 5,
    "start_time": "2021-06-21T11:39:47.050Z"
   },
   {
    "duration": 26,
    "start_time": "2021-06-21T11:39:47.058Z"
   },
   {
    "duration": 10,
    "start_time": "2021-06-21T11:39:47.086Z"
   },
   {
    "duration": 24,
    "start_time": "2021-06-21T11:39:47.126Z"
   },
   {
    "duration": 17,
    "start_time": "2021-06-21T11:39:47.152Z"
   },
   {
    "duration": 58,
    "start_time": "2021-06-21T11:39:47.171Z"
   },
   {
    "duration": 34,
    "start_time": "2021-06-21T11:39:47.232Z"
   },
   {
    "duration": 27,
    "start_time": "2021-06-21T11:39:47.269Z"
   },
   {
    "duration": 18,
    "start_time": "2021-06-21T11:39:47.334Z"
   },
   {
    "duration": 14,
    "start_time": "2021-06-21T11:39:47.354Z"
   },
   {
    "duration": 9,
    "start_time": "2021-06-21T11:39:47.370Z"
   },
   {
    "duration": 3525,
    "start_time": "2021-06-21T11:39:47.381Z"
   },
   {
    "duration": 5,
    "start_time": "2021-06-21T11:39:50.909Z"
   },
   {
    "duration": 426,
    "start_time": "2021-06-21T11:39:50.916Z"
   },
   {
    "duration": 10,
    "start_time": "2021-06-21T11:39:51.344Z"
   },
   {
    "duration": 33,
    "start_time": "2021-06-21T11:39:51.356Z"
   },
   {
    "duration": 11,
    "start_time": "2021-06-21T11:39:51.392Z"
   },
   {
    "duration": 422,
    "start_time": "2021-06-21T11:39:51.405Z"
   },
   {
    "duration": 22,
    "start_time": "2021-06-21T11:39:51.831Z"
   },
   {
    "duration": 18,
    "start_time": "2021-06-21T11:39:51.855Z"
   },
   {
    "duration": 14,
    "start_time": "2021-06-21T11:39:51.875Z"
   },
   {
    "duration": 39,
    "start_time": "2021-06-21T11:39:51.892Z"
   },
   {
    "duration": 14,
    "start_time": "2021-06-21T11:39:51.934Z"
   },
   {
    "duration": 30,
    "start_time": "2021-06-21T11:39:51.950Z"
   },
   {
    "duration": 17,
    "start_time": "2021-06-21T11:39:51.983Z"
   },
   {
    "duration": 5,
    "start_time": "2021-06-21T11:39:52.035Z"
   },
   {
    "duration": 23,
    "start_time": "2021-06-21T11:39:52.042Z"
   },
   {
    "duration": 417,
    "start_time": "2021-06-21T11:39:52.067Z"
   },
   {
    "duration": 11,
    "start_time": "2021-06-21T11:39:52.487Z"
   },
   {
    "duration": 382,
    "start_time": "2021-06-21T11:39:52.500Z"
   },
   {
    "duration": 5,
    "start_time": "2021-06-21T11:39:52.885Z"
   },
   {
    "duration": 43,
    "start_time": "2021-06-21T11:39:52.893Z"
   },
   {
    "duration": 18,
    "start_time": "2021-06-21T11:39:52.939Z"
   },
   {
    "duration": 276,
    "start_time": "2021-06-21T11:39:52.959Z"
   },
   {
    "duration": 442,
    "start_time": "2021-06-21T11:39:53.238Z"
   },
   {
    "duration": -1495,
    "start_time": "2021-06-21T11:39:55.177Z"
   },
   {
    "duration": 370,
    "start_time": "2021-06-21T11:40:27.697Z"
   },
   {
    "duration": 380,
    "start_time": "2021-06-21T11:40:37.668Z"
   },
   {
    "duration": 8520,
    "start_time": "2021-06-21T11:40:47.526Z"
   },
   {
    "duration": 7,
    "start_time": "2021-06-21T11:41:07.718Z"
   },
   {
    "duration": 340,
    "start_time": "2021-06-21T11:41:14.483Z"
   },
   {
    "duration": 368,
    "start_time": "2021-06-21T11:42:24.930Z"
   },
   {
    "duration": 376,
    "start_time": "2021-06-21T11:42:35.550Z"
   },
   {
    "duration": 786,
    "start_time": "2021-06-21T11:42:40.481Z"
   },
   {
    "duration": 463,
    "start_time": "2021-06-21T11:42:52.365Z"
   },
   {
    "duration": 8683,
    "start_time": "2021-06-21T11:43:01.943Z"
   },
   {
    "duration": 278,
    "start_time": "2021-06-21T11:43:14.883Z"
   },
   {
    "duration": 380,
    "start_time": "2021-06-21T11:43:28.639Z"
   }
  ],
  "kernelspec": {
   "display_name": "Python 3 (ipykernel)",
   "language": "python",
   "name": "python3"
  },
  "language_info": {
   "codemirror_mode": {
    "name": "ipython",
    "version": 3
   },
   "file_extension": ".py",
   "mimetype": "text/x-python",
   "name": "python",
   "nbconvert_exporter": "python",
   "pygments_lexer": "ipython3",
   "version": "3.10.3"
  },
  "toc": {
   "base_numbering": 1,
   "nav_menu": {},
   "number_sections": true,
   "sideBar": true,
   "skip_h1_title": true,
   "title_cell": "Table of Contents",
   "title_sidebar": "Contents",
   "toc_cell": false,
   "toc_position": {},
   "toc_section_display": true,
   "toc_window_display": false
  }
 },
 "nbformat": 4,
 "nbformat_minor": 2
}
