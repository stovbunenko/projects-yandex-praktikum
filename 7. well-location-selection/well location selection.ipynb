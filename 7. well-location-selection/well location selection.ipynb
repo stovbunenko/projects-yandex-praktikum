{
 "cells": [
  {
   "cell_type": "markdown",
   "metadata": {
    "toc": true
   },
   "source": [
    "<h1>Table of Contents<span class=\"tocSkip\"></span></h1>\n",
    "<div class=\"toc\"><ul class=\"toc-item\"><li><span><a href=\"#Загрузка-и-подготовка-данных\" data-toc-modified-id=\"Загрузка-и-подготовка-данных-1\"><span class=\"toc-item-num\">1&nbsp;&nbsp;</span>Загрузка и подготовка данных</a></span><ul class=\"toc-item\"><li><span><a href=\"#Вывод\" data-toc-modified-id=\"Вывод-1.1\"><span class=\"toc-item-num\">1.1&nbsp;&nbsp;</span>Вывод</a></span></li></ul></li><li><span><a href=\"#Обучение-и-проверка-модели\" data-toc-modified-id=\"Обучение-и-проверка-модели-2\"><span class=\"toc-item-num\">2&nbsp;&nbsp;</span>Обучение и проверка модели</a></span><ul class=\"toc-item\"><li><span><a href=\"#Вывод\" data-toc-modified-id=\"Вывод-2.1\"><span class=\"toc-item-num\">2.1&nbsp;&nbsp;</span>Вывод</a></span></li></ul></li><li><span><a href=\"#Подготовка-к-расчёту-прибыли\" data-toc-modified-id=\"Подготовка-к-расчёту-прибыли-3\"><span class=\"toc-item-num\">3&nbsp;&nbsp;</span>Подготовка к расчёту прибыли</a></span><ul class=\"toc-item\"><li><span><a href=\"#Вывод\" data-toc-modified-id=\"Вывод-3.1\"><span class=\"toc-item-num\">3.1&nbsp;&nbsp;</span>Вывод</a></span></li></ul></li><li><span><a href=\"#Расчёт-прибыли-и-рисков\" data-toc-modified-id=\"Расчёт-прибыли-и-рисков-4\"><span class=\"toc-item-num\">4&nbsp;&nbsp;</span>Расчёт прибыли и рисков</a></span><ul class=\"toc-item\"><li><span><a href=\"#Вывод\" data-toc-modified-id=\"Вывод-4.1\"><span class=\"toc-item-num\">4.1&nbsp;&nbsp;</span>Вывод</a></span></li></ul></li><li><span><a href=\"#Общий-вывод\" data-toc-modified-id=\"Общий-вывод-5\"><span class=\"toc-item-num\">5&nbsp;&nbsp;</span>Общий вывод</a></span></li><li><span><a href=\"#Чек-лист-готовности-проекта\" data-toc-modified-id=\"Чек-лист-готовности-проекта-6\"><span class=\"toc-item-num\">6&nbsp;&nbsp;</span>Чек-лист готовности проекта</a></span></li></ul></div>"
   ]
  },
  {
   "cell_type": "markdown",
   "metadata": {},
   "source": [
    "# Выбор локации для скважины"
   ]
  },
  {
   "cell_type": "markdown",
   "metadata": {},
   "source": [
    "Допустим, вы работаете в добывающей компании «ГлавРосГосНефть». Нужно решить, где бурить новую скважину.\n",
    "\n",
    "Вам предоставлены пробы нефти в трёх регионах: в каждом 10 000 месторождений, где измерили качество нефти и объём её запасов. Постройте модель машинного обучения, которая поможет определить регион, где добыча принесёт наибольшую прибыль. Проанализируйте возможную прибыль и риски техникой *Bootstrap.*\n",
    "\n",
    "Шаги для выбора локации:\n",
    "\n",
    "- В избранном регионе ищут месторождения, для каждого определяют значения признаков;\n",
    "- Строят модель и оценивают объём запасов;\n",
    "- Выбирают месторождения с самым высокими оценками значений. Количество месторождений зависит от бюджета компании и стоимости разработки одной скважины;\n",
    "- Прибыль равна суммарной прибыли отобранных месторождений."
   ]
  },
  {
   "cell_type": "markdown",
   "metadata": {},
   "source": [
    "## Загрузка и подготовка данных"
   ]
  },
  {
   "cell_type": "code",
   "execution_count": 1,
   "metadata": {},
   "outputs": [],
   "source": [
    "import pandas as pd\n",
    "import numpy as np\n",
    "import scipy.stats as st\n",
    "\n",
    "from sklearn.linear_model import LinearRegression\n",
    "\n",
    "from sklearn.metrics import mean_squared_error\n",
    "from sklearn.model_selection import train_test_split\n",
    "from sklearn.preprocessing import MinMaxScaler\n",
    "from sklearn.preprocessing import StandardScaler\n",
    "\n",
    "import matplotlib.pyplot as plt\n",
    "\n",
    "import warnings\n",
    "warnings.filterwarnings(\"ignore\")"
   ]
  },
  {
   "cell_type": "code",
   "execution_count": 3,
   "metadata": {},
   "outputs": [
    {
     "data": {
      "text/html": [
       "<div>\n",
       "<style scoped>\n",
       "    .dataframe tbody tr th:only-of-type {\n",
       "        vertical-align: middle;\n",
       "    }\n",
       "\n",
       "    .dataframe tbody tr th {\n",
       "        vertical-align: top;\n",
       "    }\n",
       "\n",
       "    .dataframe thead th {\n",
       "        text-align: right;\n",
       "    }\n",
       "</style>\n",
       "<table border=\"1\" class=\"dataframe\">\n",
       "  <thead>\n",
       "    <tr style=\"text-align: right;\">\n",
       "      <th></th>\n",
       "      <th>id</th>\n",
       "      <th>f0</th>\n",
       "      <th>f1</th>\n",
       "      <th>f2</th>\n",
       "      <th>product</th>\n",
       "    </tr>\n",
       "  </thead>\n",
       "  <tbody>\n",
       "    <tr>\n",
       "      <td>0</td>\n",
       "      <td>txEyH</td>\n",
       "      <td>0.705745</td>\n",
       "      <td>-0.497823</td>\n",
       "      <td>1.22117</td>\n",
       "      <td>105.280062</td>\n",
       "    </tr>\n",
       "    <tr>\n",
       "      <td>1</td>\n",
       "      <td>2acmU</td>\n",
       "      <td>1.334711</td>\n",
       "      <td>-0.340164</td>\n",
       "      <td>4.36508</td>\n",
       "      <td>73.037750</td>\n",
       "    </tr>\n",
       "  </tbody>\n",
       "</table>\n",
       "</div>"
      ],
      "text/plain": [
       "      id        f0        f1       f2     product\n",
       "0  txEyH  0.705745 -0.497823  1.22117  105.280062\n",
       "1  2acmU  1.334711 -0.340164  4.36508   73.037750"
      ]
     },
     "execution_count": 3,
     "metadata": {},
     "output_type": "execute_result"
    }
   ],
   "source": [
    "df_1.head(2)"
   ]
  },
  {
   "cell_type": "code",
   "execution_count": 4,
   "metadata": {},
   "outputs": [
    {
     "name": "stdout",
     "output_type": "stream",
     "text": [
      "<class 'pandas.core.frame.DataFrame'>\n",
      "RangeIndex: 100000 entries, 0 to 99999\n",
      "Data columns (total 5 columns):\n",
      "id         100000 non-null object\n",
      "f0         100000 non-null float64\n",
      "f1         100000 non-null float64\n",
      "f2         100000 non-null float64\n",
      "product    100000 non-null float64\n",
      "dtypes: float64(4), object(1)\n",
      "memory usage: 3.8+ MB\n"
     ]
    }
   ],
   "source": [
    "df_1.info()"
   ]
  },
  {
   "cell_type": "code",
   "execution_count": 5,
   "metadata": {},
   "outputs": [
    {
     "name": "stdout",
     "output_type": "stream",
     "text": [
      "<class 'pandas.core.frame.DataFrame'>\n",
      "RangeIndex: 100000 entries, 0 to 99999\n",
      "Data columns (total 5 columns):\n",
      "id         100000 non-null object\n",
      "f0         100000 non-null float64\n",
      "f1         100000 non-null float64\n",
      "f2         100000 non-null float64\n",
      "product    100000 non-null float64\n",
      "dtypes: float64(4), object(1)\n",
      "memory usage: 3.8+ MB\n"
     ]
    }
   ],
   "source": [
    "df_2.info()"
   ]
  },
  {
   "cell_type": "code",
   "execution_count": 6,
   "metadata": {},
   "outputs": [
    {
     "name": "stdout",
     "output_type": "stream",
     "text": [
      "<class 'pandas.core.frame.DataFrame'>\n",
      "RangeIndex: 100000 entries, 0 to 99999\n",
      "Data columns (total 5 columns):\n",
      "id         100000 non-null object\n",
      "f0         100000 non-null float64\n",
      "f1         100000 non-null float64\n",
      "f2         100000 non-null float64\n",
      "product    100000 non-null float64\n",
      "dtypes: float64(4), object(1)\n",
      "memory usage: 3.8+ MB\n"
     ]
    }
   ],
   "source": [
    "df_3.info()"
   ]
  },
  {
   "cell_type": "code",
   "execution_count": 7,
   "metadata": {},
   "outputs": [],
   "source": [
    "def exploratory(data):\n",
    "    print(f\"Shape:    {data.shape}\")\n",
    "    print(\"Na's:         \", data.isna().sum().sum())\n",
    "    print(\"duplicates:   \", data.duplicated().sum())\n",
    "    print(\"\\nРаспределение признаков:\")\n",
    "    data[[\"f0\",\"f1\",\"f2\"]].hist()\n",
    "    plt.show()"
   ]
  },
  {
   "cell_type": "code",
   "execution_count": 8,
   "metadata": {},
   "outputs": [
    {
     "name": "stdout",
     "output_type": "stream",
     "text": [
      "Shape:    (100000, 5)\n",
      "Na's:          0\n",
      "duplicates:    0\n",
      "\n",
      "Распределение признаков:\n"
     ]
    },
    {
     "data": {
      "image/png": "[encoded data removed]",
      "text/plain": [
       "<Figure size 432x288 with 4 Axes>"
      ]
     },
     "metadata": {
      "needs_background": "light"
     },
     "output_type": "display_data"
    }
   ],
   "source": [
    "exploratory(df_1)"
   ]
  },
  {
   "cell_type": "code",
   "execution_count": 9,
   "metadata": {},
   "outputs": [
    {
     "name": "stdout",
     "output_type": "stream",
     "text": [
      "Shape:    (100000, 5)\n",
      "Na's:          0\n",
      "duplicates:    0\n",
      "\n",
      "Распределение признаков:\n"
     ]
    },
    {
     "data": {
      "image/png": "[encoded data removed]",
      "text/plain": [
       "<Figure size 432x288 with 4 Axes>"
      ]
     },
     "metadata": {
      "needs_background": "light"
     },
     "output_type": "display_data"
    }
   ],
   "source": [
    "exploratory(df_2)"
   ]
  },
  {
   "cell_type": "code",
   "execution_count": 10,
   "metadata": {},
   "outputs": [
    {
     "name": "stdout",
     "output_type": "stream",
     "text": [
      "Shape:    (100000, 5)\n",
      "Na's:          0\n",
      "duplicates:    0\n",
      "\n",
      "Распределение признаков:\n"
     ]
    },
    {
     "data": {
      "image/png": "[encoded data removed]",
      "text/plain": [
       "<Figure size 432x288 with 4 Axes>"
      ]
     },
     "metadata": {
      "needs_background": "light"
     },
     "output_type": "display_data"
    }
   ],
   "source": [
    "exploratory(df_3)"
   ]
  },
  {
   "cell_type": "markdown",
   "metadata": {},
   "source": [
    "В данных отсутсвуют пропуски"
   ]
  },
  {
   "cell_type": "markdown",
   "metadata": {},
   "source": [
    "Признаки для модели:\n",
    "\n",
    "- f0\n",
    "- f1\n",
    "- f2\n",
    "\n",
    "Целевой признак:\n",
    "\n",
    "- product."
   ]
  },
  {
   "cell_type": "markdown",
   "metadata": {},
   "source": [
    "Изучим гистограммы по столбцу product:"
   ]
  },
  {
   "cell_type": "code",
   "execution_count": 11,
   "metadata": {},
   "outputs": [],
   "source": [
    "def oil_hist(seria, bins, xlim_max, ylim_max):\n",
    "    plt.figure(figsize=[12,9])\n",
    "    plt.hist(seria, bins=bins)\n",
    "    plt.xlim([0,xlim_max])\n",
    "    plt.ylim([0,ylim_max])\n",
    "    plt.xlabel(\"Объем нефти на скважину, тыс. барелей\")\n",
    "    plt.ylabel(\"Количество скважин\")\n",
    "    plt.title(\"Гистограмма распределения по объему скважин\")\n",
    "    plt.show()"
   ]
  },
  {
   "cell_type": "code",
   "execution_count": 12,
   "metadata": {},
   "outputs": [
    {
     "data": {
      "image/png": "[encoded data removed]",
      "text/plain": [
       "<Figure size 864x648 with 1 Axes>"
      ]
     },
     "metadata": {
      "needs_background": "light"
     },
     "output_type": "display_data"
    }
   ],
   "source": [
    "oil_hist(df_1['product'], 200, 190, 1000)"
   ]
  },
  {
   "cell_type": "code",
   "execution_count": 13,
   "metadata": {},
   "outputs": [
    {
     "data": {
      "image/png": "[encoded data removed]",
      "text/plain": [
       "<Figure size 864x648 with 1 Axes>"
      ]
     },
     "metadata": {
      "needs_background": "light"
     },
     "output_type": "display_data"
    }
   ],
   "source": [
    "oil_hist(df_2['product'], 50, 150, 10000)"
   ]
  },
  {
   "cell_type": "code",
   "execution_count": 14,
   "metadata": {},
   "outputs": [
    {
     "data": {
      "image/png": "[encoded data removed]",
      "text/plain": [
       "<Figure size 864x648 with 1 Axes>"
      ]
     },
     "metadata": {
      "needs_background": "light"
     },
     "output_type": "display_data"
    }
   ],
   "source": [
    "oil_hist(df_3['product'], 200, 190, 1000)"
   ]
  },
  {
   "cell_type": "markdown",
   "metadata": {},
   "source": [
    "В данных отсутсвуют пропуски. Удалим из каждого датафрейма столбец id, так как он не несет значимости для для модели:"
   ]
  },
  {
   "cell_type": "code",
   "execution_count": 15,
   "metadata": {},
   "outputs": [],
   "source": [
    "df_1 = df_1.drop(['id'], axis=1)\n",
    "df_2 = df_2.drop(['id'], axis=1)\n",
    "df_3 = df_3.drop(['id'], axis=1)"
   ]
  },
  {
   "cell_type": "markdown",
   "metadata": {},
   "source": [
    "### Вывод"
   ]
  },
  {
   "cell_type": "markdown",
   "metadata": {},
   "source": [
    "- Данные готовы к обучению\n",
    "\n",
    "- Во втором месторождении около 8% месторождений не имело значения в столбце product. При сравнении с такими же значениями из первого и третьего региона можно понять, что были утеряны данные или не было исследовано количество барелей нефти\n",
    "\n",
    "- По гистограммам можно понять, что у первого и третьего региона наспределение скважин близкое к нормальному. \n",
    "\n",
    "- Во втором регионе данные имеют странное распределение: от 0 до 5 баррелей с шагом по 15-20 равномерно распределены 100000 значений. Данные не подчиняются закону больших чисел и скорей всего были введены искуственно"
   ]
  },
  {
   "cell_type": "markdown",
   "metadata": {},
   "source": [
    "## Обучение и проверка модели"
   ]
  },
  {
   "cell_type": "markdown",
   "metadata": {},
   "source": [
    "Проверим качество модели линейной регрессии с текущим значением признаков и с масштабируемыми. Проверим эту гипотезу на df_1. Выполним разбивку неподготовленного датафрейма:"
   ]
  },
  {
   "cell_type": "code",
   "execution_count": 16,
   "metadata": {},
   "outputs": [],
   "source": [
    "def test_split(df, target):\n",
    "    features = df.drop([target] , axis=1)\n",
    "    target = df[target]\n",
    "\n",
    "    features_train, features_valid, target_train, target_valid = train_test_split(\n",
    "    features, target, test_size=0.25, random_state=5)\n",
    "    \n",
    "    return features_train, features_valid, target_train, target_valid"
   ]
  },
  {
   "cell_type": "code",
   "execution_count": 17,
   "metadata": {},
   "outputs": [],
   "source": [
    "features_train_1, features_valid_1, target_train_1, target_valid_1 = test_split(df_1, 'product')"
   ]
  },
  {
   "cell_type": "code",
   "execution_count": 18,
   "metadata": {},
   "outputs": [
    {
     "data": {
      "text/html": [
       "<div>\n",
       "<style scoped>\n",
       "    .dataframe tbody tr th:only-of-type {\n",
       "        vertical-align: middle;\n",
       "    }\n",
       "\n",
       "    .dataframe tbody tr th {\n",
       "        vertical-align: top;\n",
       "    }\n",
       "\n",
       "    .dataframe thead th {\n",
       "        text-align: right;\n",
       "    }\n",
       "</style>\n",
       "<table border=\"1\" class=\"dataframe\">\n",
       "  <thead>\n",
       "    <tr style=\"text-align: right;\">\n",
       "      <th></th>\n",
       "      <th>f0</th>\n",
       "      <th>f1</th>\n",
       "      <th>f2</th>\n",
       "    </tr>\n",
       "  </thead>\n",
       "  <tbody>\n",
       "    <tr>\n",
       "      <td>35180</td>\n",
       "      <td>0.596589</td>\n",
       "      <td>-0.423122</td>\n",
       "      <td>-0.599284</td>\n",
       "    </tr>\n",
       "    <tr>\n",
       "      <td>80371</td>\n",
       "      <td>0.787058</td>\n",
       "      <td>-0.397987</td>\n",
       "      <td>6.681742</td>\n",
       "    </tr>\n",
       "    <tr>\n",
       "      <td>89979</td>\n",
       "      <td>0.889612</td>\n",
       "      <td>0.522944</td>\n",
       "      <td>3.227303</td>\n",
       "    </tr>\n",
       "    <tr>\n",
       "      <td>47271</td>\n",
       "      <td>-1.082876</td>\n",
       "      <td>0.382764</td>\n",
       "      <td>0.299522</td>\n",
       "    </tr>\n",
       "    <tr>\n",
       "      <td>35664</td>\n",
       "      <td>0.299153</td>\n",
       "      <td>-0.303998</td>\n",
       "      <td>-0.465922</td>\n",
       "    </tr>\n",
       "  </tbody>\n",
       "</table>\n",
       "</div>"
      ],
      "text/plain": [
       "             f0        f1        f2\n",
       "35180  0.596589 -0.423122 -0.599284\n",
       "80371  0.787058 -0.397987  6.681742\n",
       "89979  0.889612  0.522944  3.227303\n",
       "47271 -1.082876  0.382764  0.299522\n",
       "35664  0.299153 -0.303998 -0.465922"
      ]
     },
     "execution_count": 18,
     "metadata": {},
     "output_type": "execute_result"
    }
   ],
   "source": [
    "features_train_1.head()"
   ]
  },
  {
   "cell_type": "markdown",
   "metadata": {},
   "source": [
    "- features - данные без масштаба\n",
    "- features_s - данные с масштабом"
   ]
  },
  {
   "cell_type": "code",
   "execution_count": 19,
   "metadata": {},
   "outputs": [],
   "source": [
    "def test_split_scaled(df, numeric, target):\n",
    "    df_s = df.copy()\n",
    "\n",
    "    features_s = df_s.drop([target] , axis=1)\n",
    "    target_s = df_s[target]\n",
    "\n",
    "    features_train_s, features_valid_s, target_train_s, target_valid_s = train_test_split(\n",
    "        features_s, target_s, test_size=0.25, random_state=5062020)\n",
    "\n",
    "    scaler = StandardScaler()\n",
    "    scaler.fit(features_train_s[numeric])\n",
    "    features_train_s[numeric] = scaler.transform(features_train_s[numeric])\n",
    "    features_valid_s[numeric] = scaler.transform(features_valid_s[numeric])\n",
    "\n",
    "    return features_train_s, features_valid_s, target_train_s, target_valid_s"
   ]
  },
  {
   "cell_type": "markdown",
   "metadata": {},
   "source": [
    "Проведем обучение модели без измененных данных:"
   ]
  },
  {
   "cell_type": "code",
   "execution_count": 20,
   "metadata": {},
   "outputs": [
    {
     "name": "stdout",
     "output_type": "stream",
     "text": [
      "RMSE - 37.80284530541535\n"
     ]
    }
   ],
   "source": [
    "model = LinearRegression()\n",
    "\n",
    "model.fit(features_train_1, target_train_1)\n",
    "predicted_target_1 = model.predict(features_valid_1)\n",
    "print('RMSE -', mean_squared_error(target_valid_1, predicted_target_1)**0.5)"
   ]
  },
  {
   "cell_type": "markdown",
   "metadata": {},
   "source": [
    "Проверим параметр RMSE на маштабированных данных:"
   ]
  },
  {
   "cell_type": "code",
   "execution_count": 21,
   "metadata": {},
   "outputs": [
    {
     "name": "stdout",
     "output_type": "stream",
     "text": [
      "RMSE - 37.401957199217094\n"
     ]
    }
   ],
   "source": [
    "features_train_1s, features_valid_1s, target_train_1s, target_valid_1s = test_split_scaled(\n",
    "                                                                        df_1, ['f0', 'f1', 'f2'], 'product')\n",
    "model.fit(features_train_1s, target_train_1s)\n",
    "predicted_target_1s = model.predict(features_valid_1s)\n",
    "print('RMSE -', mean_squared_error(target_valid_1s, predicted_target_1s)**0.5)"
   ]
  },
  {
   "cell_type": "markdown",
   "metadata": {},
   "source": [
    "Расссмотрим гипотезу на df_2 и df_3:"
   ]
  },
  {
   "cell_type": "code",
   "execution_count": 22,
   "metadata": {},
   "outputs": [
    {
     "name": "stdout",
     "output_type": "stream",
     "text": [
      "RMSE - 0.8911637870714576\n",
      "RMSE - 0.887425834257285\n"
     ]
    }
   ],
   "source": [
    "features_train_2, features_valid_2, target_train_2, target_valid_2 = test_split(df_2, 'product')\n",
    "model.fit(features_train_2, target_train_2)\n",
    "predicted_target_2 = model.predict(features_valid_2)\n",
    "print('RMSE -', mean_squared_error(target_valid_2, predicted_target_2)**0.5)\n",
    "\n",
    "features_train_2s, features_valid_2s, target_train_2s, target_valid_2s = test_split_scaled(\n",
    "                                                                        df_2, ['f0', 'f1', 'f2'], 'product')\n",
    "model.fit(features_train_2s, target_train_2s)\n",
    "predicted_target_2s = model.predict(features_valid_2s)\n",
    "print('RMSE -', mean_squared_error(target_valid_2s, predicted_target_2s)**0.5)"
   ]
  },
  {
   "cell_type": "code",
   "execution_count": 23,
   "metadata": {},
   "outputs": [
    {
     "name": "stdout",
     "output_type": "stream",
     "text": [
      "RMSE - 40.27855914124022\n",
      "RMSE - 40.18553497171235\n"
     ]
    }
   ],
   "source": [
    "features_train_3, features_valid_3, target_train_3, target_valid_3 = test_split(df_3, 'product')\n",
    "model.fit(features_train_3, target_train_3)\n",
    "predicted_target_3 = model.predict(features_valid_3)\n",
    "print('RMSE -', mean_squared_error(target_valid_3, predicted_target_3)**0.5)\n",
    "\n",
    "features_train_3s, features_valid_3s, target_train_3s, target_valid_3s = test_split_scaled(\n",
    "                                                                        df_3, ['f0', 'f1', 'f2'], 'product')\n",
    "model.fit(features_train_3s, target_train_3s)\n",
    "predicted_target_3s = model.predict(features_valid_3s)\n",
    "print('RMSE -', mean_squared_error(target_valid_3s, predicted_target_3s)**0.5)"
   ]
  },
  {
   "cell_type": "markdown",
   "metadata": {},
   "source": [
    "Масштабирование данных не требуется. Проверим показатель RMSE при других гиперпараметрах модели:"
   ]
  },
  {
   "cell_type": "code",
   "execution_count": 24,
   "metadata": {},
   "outputs": [
    {
     "name": "stdout",
     "output_type": "stream",
     "text": [
      "RMSE - 37.80284530541535\n"
     ]
    }
   ],
   "source": [
    "model = LinearRegression(normalize=True)\n",
    "model.fit(features_train_1, target_train_1)\n",
    "predicted_target_1 = model.predict(features_valid_1)\n",
    "print('RMSE -', mean_squared_error(target_valid_1, predicted_target_1)**0.5)"
   ]
  },
  {
   "cell_type": "code",
   "execution_count": 25,
   "metadata": {},
   "outputs": [
    {
     "name": "stdout",
     "output_type": "stream",
     "text": [
      "RMSE - 61.30019459741266\n"
     ]
    }
   ],
   "source": [
    "model = LinearRegression(fit_intercept=False)\n",
    "model.fit(features_train_1, target_train_1)\n",
    "predicted_target_1 = model.predict(features_valid_1)\n",
    "print('RMSE -', mean_squared_error(target_valid_1, predicted_target_1)**0.5)"
   ]
  },
  {
   "cell_type": "markdown",
   "metadata": {},
   "source": [
    "Изменение стандартных значений гиперпараметров не улучшило модель. Произведем вывод предсказанного запаса с реальным и выведем RMSE:"
   ]
  },
  {
   "cell_type": "code",
   "execution_count": 26,
   "metadata": {},
   "outputs": [],
   "source": [
    "model = LinearRegression()\n",
    "\n",
    "def oil_predict(df, target_name):\n",
    "    features = df.drop([target_name] , axis=1)\n",
    "    target = df[target_name]\n",
    "    \n",
    "    features_train, features_valid, target_train, target_valid = train_test_split(\n",
    "    features, target, test_size=0.25, random_state=5)\n",
    "    \n",
    "    model.fit(features_train, target_train)\n",
    "    predicted_target = model.predict(features_valid)\n",
    "    data = {'real_product' : target_valid,\n",
    "            'predicted_product' : predicted_target         \n",
    "    }\n",
    "    data_frame = pd.DataFrame(data, columns = ['real_product', 'predicted_product'])\n",
    "    rmse = mean_squared_error(target_valid, predicted_target)**0.5\n",
    "    mean = data_frame['predicted_product'].mean()\n",
    "    oil_sum = data_frame['predicted_product'].sum()\n",
    "    return data_frame, rmse, mean, oil_sum"
   ]
  },
  {
   "cell_type": "code",
   "execution_count": 27,
   "metadata": {},
   "outputs": [],
   "source": [
    "df_1_predicted, df_1_rmse, df_1_predicted_mean, df_1_predicted_sum = oil_predict(df_1, 'product')"
   ]
  },
  {
   "cell_type": "code",
   "execution_count": 28,
   "metadata": {},
   "outputs": [
    {
     "data": {
      "text/html": [
       "<div>\n",
       "<style scoped>\n",
       "    .dataframe tbody tr th:only-of-type {\n",
       "        vertical-align: middle;\n",
       "    }\n",
       "\n",
       "    .dataframe tbody tr th {\n",
       "        vertical-align: top;\n",
       "    }\n",
       "\n",
       "    .dataframe thead th {\n",
       "        text-align: right;\n",
       "    }\n",
       "</style>\n",
       "<table border=\"1\" class=\"dataframe\">\n",
       "  <thead>\n",
       "    <tr style=\"text-align: right;\">\n",
       "      <th></th>\n",
       "      <th>real_product</th>\n",
       "      <th>predicted_product</th>\n",
       "    </tr>\n",
       "  </thead>\n",
       "  <tbody>\n",
       "    <tr>\n",
       "      <td>60743</td>\n",
       "      <td>119.220564</td>\n",
       "      <td>118.026686</td>\n",
       "    </tr>\n",
       "    <tr>\n",
       "      <td>33949</td>\n",
       "      <td>169.808150</td>\n",
       "      <td>110.858985</td>\n",
       "    </tr>\n",
       "    <tr>\n",
       "      <td>52805</td>\n",
       "      <td>131.589165</td>\n",
       "      <td>76.589517</td>\n",
       "    </tr>\n",
       "    <tr>\n",
       "      <td>11804</td>\n",
       "      <td>144.585224</td>\n",
       "      <td>100.990823</td>\n",
       "    </tr>\n",
       "    <tr>\n",
       "      <td>9229</td>\n",
       "      <td>184.075418</td>\n",
       "      <td>90.048812</td>\n",
       "    </tr>\n",
       "  </tbody>\n",
       "</table>\n",
       "</div>"
      ],
      "text/plain": [
       "       real_product  predicted_product\n",
       "60743    119.220564         118.026686\n",
       "33949    169.808150         110.858985\n",
       "52805    131.589165          76.589517\n",
       "11804    144.585224         100.990823\n",
       "9229     184.075418          90.048812"
      ]
     },
     "execution_count": 28,
     "metadata": {},
     "output_type": "execute_result"
    }
   ],
   "source": [
    "df_1_predicted.head()"
   ]
  },
  {
   "cell_type": "code",
   "execution_count": 29,
   "metadata": {},
   "outputs": [
    {
     "name": "stdout",
     "output_type": "stream",
     "text": [
      "RMSE - 37.80284530541535\n",
      "Средний запас запасанного сырья - 92.62394691552272\n"
     ]
    }
   ],
   "source": [
    "print('RMSE -', df_1_rmse)\n",
    "print('Средний запас запасанного сырья -', df_1_predicted_mean)"
   ]
  },
  {
   "cell_type": "code",
   "execution_count": 30,
   "metadata": {},
   "outputs": [],
   "source": [
    "df_2_predicted, df_2_rmse, df_2_predicted_mean, df_2_predicted_sum = oil_predict(df_2, 'product')"
   ]
  },
  {
   "cell_type": "code",
   "execution_count": 31,
   "metadata": {},
   "outputs": [
    {
     "data": {
      "text/html": [
       "<div>\n",
       "<style scoped>\n",
       "    .dataframe tbody tr th:only-of-type {\n",
       "        vertical-align: middle;\n",
       "    }\n",
       "\n",
       "    .dataframe tbody tr th {\n",
       "        vertical-align: top;\n",
       "    }\n",
       "\n",
       "    .dataframe thead th {\n",
       "        text-align: right;\n",
       "    }\n",
       "</style>\n",
       "<table border=\"1\" class=\"dataframe\">\n",
       "  <thead>\n",
       "    <tr style=\"text-align: right;\">\n",
       "      <th></th>\n",
       "      <th>real_product</th>\n",
       "      <th>predicted_product</th>\n",
       "    </tr>\n",
       "  </thead>\n",
       "  <tbody>\n",
       "    <tr>\n",
       "      <td>60743</td>\n",
       "      <td>80.859783</td>\n",
       "      <td>80.991708</td>\n",
       "    </tr>\n",
       "    <tr>\n",
       "      <td>33949</td>\n",
       "      <td>53.906522</td>\n",
       "      <td>53.729323</td>\n",
       "    </tr>\n",
       "    <tr>\n",
       "      <td>52805</td>\n",
       "      <td>3.179103</td>\n",
       "      <td>3.751569</td>\n",
       "    </tr>\n",
       "    <tr>\n",
       "      <td>11804</td>\n",
       "      <td>107.813044</td>\n",
       "      <td>108.245842</td>\n",
       "    </tr>\n",
       "    <tr>\n",
       "      <td>9229</td>\n",
       "      <td>80.859783</td>\n",
       "      <td>82.008314</td>\n",
       "    </tr>\n",
       "  </tbody>\n",
       "</table>\n",
       "</div>"
      ],
      "text/plain": [
       "       real_product  predicted_product\n",
       "60743     80.859783          80.991708\n",
       "33949     53.906522          53.729323\n",
       "52805      3.179103           3.751569\n",
       "11804    107.813044         108.245842\n",
       "9229      80.859783          82.008314"
      ]
     },
     "execution_count": 31,
     "metadata": {},
     "output_type": "execute_result"
    }
   ],
   "source": [
    "df_2_predicted.head()"
   ]
  },
  {
   "cell_type": "code",
   "execution_count": 32,
   "metadata": {},
   "outputs": [
    {
     "name": "stdout",
     "output_type": "stream",
     "text": [
      "RMSE - 0.8911637870714576\n",
      "Средний запас запасанного сырья - 68.6475648923721\n"
     ]
    }
   ],
   "source": [
    "print('RMSE -', df_2_rmse)\n",
    "print('Средний запас запасанного сырья -', df_2_predicted_mean)"
   ]
  },
  {
   "cell_type": "code",
   "execution_count": 33,
   "metadata": {},
   "outputs": [],
   "source": [
    "df_3_predicted, df_3_rmse, df_3_predicted_mean, df_3_predicted_sum = oil_predict(df_3, 'product')"
   ]
  },
  {
   "cell_type": "code",
   "execution_count": 34,
   "metadata": {},
   "outputs": [
    {
     "data": {
      "text/html": [
       "<div>\n",
       "<style scoped>\n",
       "    .dataframe tbody tr th:only-of-type {\n",
       "        vertical-align: middle;\n",
       "    }\n",
       "\n",
       "    .dataframe tbody tr th {\n",
       "        vertical-align: top;\n",
       "    }\n",
       "\n",
       "    .dataframe thead th {\n",
       "        text-align: right;\n",
       "    }\n",
       "</style>\n",
       "<table border=\"1\" class=\"dataframe\">\n",
       "  <thead>\n",
       "    <tr style=\"text-align: right;\">\n",
       "      <th></th>\n",
       "      <th>real_product</th>\n",
       "      <th>predicted_product</th>\n",
       "    </tr>\n",
       "  </thead>\n",
       "  <tbody>\n",
       "    <tr>\n",
       "      <td>60743</td>\n",
       "      <td>186.714538</td>\n",
       "      <td>88.685519</td>\n",
       "    </tr>\n",
       "    <tr>\n",
       "      <td>33949</td>\n",
       "      <td>73.641755</td>\n",
       "      <td>118.919701</td>\n",
       "    </tr>\n",
       "    <tr>\n",
       "      <td>52805</td>\n",
       "      <td>125.190694</td>\n",
       "      <td>98.429155</td>\n",
       "    </tr>\n",
       "    <tr>\n",
       "      <td>11804</td>\n",
       "      <td>130.826729</td>\n",
       "      <td>114.772869</td>\n",
       "    </tr>\n",
       "    <tr>\n",
       "      <td>9229</td>\n",
       "      <td>14.983400</td>\n",
       "      <td>54.375878</td>\n",
       "    </tr>\n",
       "  </tbody>\n",
       "</table>\n",
       "</div>"
      ],
      "text/plain": [
       "       real_product  predicted_product\n",
       "60743    186.714538          88.685519\n",
       "33949     73.641755         118.919701\n",
       "52805    125.190694          98.429155\n",
       "11804    130.826729         114.772869\n",
       "9229      14.983400          54.375878"
      ]
     },
     "execution_count": 34,
     "metadata": {},
     "output_type": "execute_result"
    }
   ],
   "source": [
    "df_3_predicted.head()"
   ]
  },
  {
   "cell_type": "code",
   "execution_count": 35,
   "metadata": {},
   "outputs": [
    {
     "name": "stdout",
     "output_type": "stream",
     "text": [
      "RMSE - 40.27855914124022\n",
      "Средний запас запасанного сырья - 95.02417827030403\n"
     ]
    }
   ],
   "source": [
    "print('RMSE -', df_3_rmse)\n",
    "print('Средний запас запасанного сырья -', df_3_predicted_mean)"
   ]
  },
  {
   "cell_type": "markdown",
   "metadata": {},
   "source": [
    "Оценим общий запас на регион по предсказанным данным:"
   ]
  },
  {
   "cell_type": "code",
   "execution_count": 36,
   "metadata": {},
   "outputs": [
    {
     "name": "stdout",
     "output_type": "stream",
     "text": [
      "Суммарный предсказанный запас в позиции 1 - 2315598.672888068\n",
      "Суммарный реальный запас в позиции 1 - 2322579.7884419193\n",
      "\n",
      "Суммарный предсказанный запас в позиции 2 - 1716189.1223093027\n",
      "Суммарный реальный запас в позиции 2 - 1716031.8878765225\n",
      "\n",
      "Суммарный предсказанный запас в позиции 3 - 2375604.456757601\n",
      "Суммарный реальный запас в позиции 3 - 2377216.735320481\n"
     ]
    }
   ],
   "source": [
    "print('Суммарный предсказанный запас в позиции 1 -', df_1_predicted_sum)\n",
    "print('Суммарный реальный запас в позиции 1 -', df_1_predicted['real_product'].sum())\n",
    "print()\n",
    "print('Суммарный предсказанный запас в позиции 2 -', df_2_predicted_sum)\n",
    "print('Суммарный реальный запас в позиции 2 -', df_2_predicted['real_product'].sum())\n",
    "print()\n",
    "print('Суммарный предсказанный запас в позиции 3 -', df_3_predicted_sum)\n",
    "print('Суммарный реальный запас в позиции 3 -', df_3_predicted['real_product'].sum())"
   ]
  },
  {
   "cell_type": "markdown",
   "metadata": {},
   "source": [
    "### Вывод"
   ]
  },
  {
   "cell_type": "markdown",
   "metadata": {},
   "source": [
    "- Данные предсказаний о количестве нефти по сумме примерно совпадают по сумме с предсказанными значениями. Лучше всего модель предсказала запасы во втором регионе (RMSE - 0.88), далее в первом и третьем соотвественно.\n",
    "- Возможно утеряные данные из второго региона сказались на модели и она достаточно сильно переобучилась. Но из-за утери данных и малого запаса в среднем на месторождение не имеет смысла рассматривать второе месторождение как прибыльное.\n",
    "- Изучим все регионы на риски и прибыль, но в конечном итоге будем выбирать между 1 и 3 регионом"
   ]
  },
  {
   "cell_type": "markdown",
   "metadata": {},
   "source": [
    "## Подготовка к расчёту прибыли"
   ]
  },
  {
   "cell_type": "markdown",
   "metadata": {},
   "source": [
    "Создадим переменные об экономической информации:"
   ]
  },
  {
   "cell_type": "code",
   "execution_count": 37,
   "metadata": {},
   "outputs": [],
   "source": [
    "budget = 1e+07\n",
    "chosen_points = 500\n",
    "best_points = 200\n",
    "price_per_barrel = 450"
   ]
  },
  {
   "cell_type": "markdown",
   "metadata": {},
   "source": [
    "Мы расчитываем прибыль в тысячах рублей за тысячу барелей, поэтому 1 милиард сохранен таким образом"
   ]
  },
  {
   "cell_type": "markdown",
   "metadata": {},
   "source": [
    "Расчитаем безубыточную разработку сырья на 200 месторождениях. И найдем среднее количество продукта в месторождениях необходимое для этого:"
   ]
  },
  {
   "cell_type": "code",
   "execution_count": 38,
   "metadata": {},
   "outputs": [
    {
     "name": "stdout",
     "output_type": "stream",
     "text": [
      "Средняя прибыль на лучшую точку - 50000.0 тыс.руб.\n"
     ]
    }
   ],
   "source": [
    "average_profit_per_point = budget / best_points\n",
    "print('Средняя прибыль на лучшую точку -', average_profit_per_point, 'тыс.руб.')"
   ]
  },
  {
   "cell_type": "code",
   "execution_count": 39,
   "metadata": {},
   "outputs": [
    {
     "name": "stdout",
     "output_type": "stream",
     "text": [
      "Средний объем нефти на точку - 111.11111111111111 тыс. барелей\n"
     ]
    }
   ],
   "source": [
    "average_barrels_per_point = average_profit_per_point  / price_per_barrel\n",
    "print('Средний объем нефти на точку -',average_barrels_per_point, 'тыс. барелей')"
   ]
  },
  {
   "cell_type": "code",
   "execution_count": 40,
   "metadata": {},
   "outputs": [
    {
     "name": "stdout",
     "output_type": "stream",
     "text": [
      "Средний объем нефти на регион - 22222.222222222223 тыс. барелей\n"
     ]
    }
   ],
   "source": [
    "average_barrels = budget / price_per_barrel\n",
    "print('Средний объем нефти на регион -',average_barrels, 'тыс. барелей')"
   ]
  },
  {
   "cell_type": "code",
   "execution_count": 41,
   "metadata": {},
   "outputs": [
    {
     "name": "stdout",
     "output_type": "stream",
     "text": [
      "Средний запас фактичекой нефти на скважину в регионе 1 92.50000000000001\n",
      "Средний запас фактичекой нефти на скважину в регионе 2 68.82500000000002\n",
      "Средний запас фактичекой нефти на скважину в регионе 3 95.00000000000004\n"
     ]
    }
   ],
   "source": [
    "print('Средний запас фактичекой нефти на скважину в регионе 1', df_1['product'].mean())\n",
    "print('Средний запас фактичекой нефти на скважину в регионе 2', df_2['product'].mean())\n",
    "print('Средний запас фактичекой нефти на скважину в регионе 3', df_3['product'].mean())"
   ]
  },
  {
   "cell_type": "markdown",
   "metadata": {},
   "source": [
    "Создадим функцию для расчета приыли на 500 разведанных точек:"
   ]
  },
  {
   "cell_type": "code",
   "execution_count": 42,
   "metadata": {},
   "outputs": [],
   "source": [
    "def oil_profit_calc(target, probabilities, count):\n",
    "    probs_sorted = probabilities.sort_values(ascending=False)\n",
    "    selected = target[probs_sorted.index][:count]\n",
    "    return price_per_barrel * selected.sum() - budget"
   ]
  },
  {
   "cell_type": "markdown",
   "metadata": {},
   "source": [
    "Выведем распределение предсказанных значений:"
   ]
  },
  {
   "cell_type": "code",
   "execution_count": 43,
   "metadata": {},
   "outputs": [
    {
     "data": {
      "image/png": "[encoded data removed]",
      "text/plain": [
       "<Figure size 864x648 with 1 Axes>"
      ]
     },
     "metadata": {
      "needs_background": "light"
     },
     "output_type": "display_data"
    }
   ],
   "source": [
    "oil_hist(df_1_predicted['predicted_product'], 200, 190, 500)"
   ]
  },
  {
   "cell_type": "code",
   "execution_count": 44,
   "metadata": {},
   "outputs": [
    {
     "data": {
      "image/png": "[encoded data removed]",
      "text/plain": [
       "<Figure size 864x648 with 1 Axes>"
      ]
     },
     "metadata": {
      "needs_background": "light"
     },
     "output_type": "display_data"
    }
   ],
   "source": [
    "oil_hist(df_2_predicted['predicted_product'], 20, 150, 5000)"
   ]
  },
  {
   "cell_type": "code",
   "execution_count": 45,
   "metadata": {},
   "outputs": [
    {
     "data": {
      "image/png": "[encoded data removed]",
      "text/plain": [
       "<Figure size 864x648 with 1 Axes>"
      ]
     },
     "metadata": {
      "needs_background": "light"
     },
     "output_type": "display_data"
    }
   ],
   "source": [
    "oil_hist(df_3_predicted['predicted_product'], 200, 190, 500)"
   ]
  },
  {
   "cell_type": "markdown",
   "metadata": {},
   "source": [
    "### Вывод"
   ]
  },
  {
   "cell_type": "markdown",
   "metadata": {},
   "source": [
    "- Была подготовлена средняя оценка прибыли за скважину и средний объем на скважину.\n",
    "- Создана функция по расчету прибыли.\n",
    "\n",
    "**Анализ средних объемов на скважину для каждого региона следующий (изучены средние фактические запасы)**:\n",
    "\n",
    "- Для первого и третьего - высокая вероятность окупить затраты. Разброс значений вокруг среднего 92.5 и 95 говорит нам о том, что существует достаточно много скважин, где запасы больше необходимого среднего\n",
    "\n",
    "- Во вторых данных возможно и есть определенный смысл - значений больше 111 (т.е достаточно много) и при определенной доли везения можно выбрать только лучшие в этой выборке (хотя среднее значение 68.8)"
   ]
  },
  {
   "cell_type": "markdown",
   "metadata": {},
   "source": [
    "## Расчёт прибыли и рисков "
   ]
  },
  {
   "cell_type": "markdown",
   "metadata": {},
   "source": [
    "Напишем функцию:"
   ]
  },
  {
   "cell_type": "code",
   "execution_count": 75,
   "metadata": {},
   "outputs": [],
   "source": [
    "state = np.random.RandomState(5)\n",
    "def bootstrap_1000(target, probs):\n",
    "    values=[]\n",
    "    lost = 0\n",
    "    for i in range(1000):\n",
    "        target_sample = target.sample(replace=True, random_state=state, n=chosen_points)\n",
    "        probs_sample = probs[target_sample.index]\n",
    "        profit = oil_profit_calc(target, probs_sample, best_points)\n",
    "        if profit < 0:\n",
    "            lost +=1\n",
    "        values.append(profit)\n",
    "    \n",
    "    values = pd.Series(values)\n",
    "    lower = values.quantile(0.025)\n",
    "    upper = values.quantile(0.975)\n",
    "    average = values.mean()\n",
    "    risk = lost / 1000\n",
    "    return average, lower, upper, risk"
   ]
  },
  {
   "cell_type": "markdown",
   "metadata": {},
   "source": [
    "Теперь используем данные получившейся функции в наших датасетах:"
   ]
  },
  {
   "cell_type": "code",
   "execution_count": 76,
   "metadata": {},
   "outputs": [],
   "source": [
    "average_1, lower_1, upper_1, risk_1 = bootstrap_1000(df_1_predicted['real_product'], \n",
    "                                                     df_1_predicted['predicted_product'])"
   ]
  },
  {
   "cell_type": "code",
   "execution_count": 86,
   "metadata": {},
   "outputs": [
    {
     "name": "stdout",
     "output_type": "stream",
     "text": [
      "Средняя прибыль по региону = 457194.86 тыс.руб.\n",
      "95% доверительный интервал от -75265.84 до 957514.50 тыс.руб.\n",
      "Процент риска 4.30%\n"
     ]
    }
   ],
   "source": [
    "print('Средняя прибыль по региону = {:.2f} тыс.руб.'.format(average_1))\n",
    "print('95% доверительный интервал от {:.2f} до {:.2f} тыс.руб.'.format(lower_1, upper_1))\n",
    "print('Процент риска {:.2%}'.format(risk_1))"
   ]
  },
  {
   "cell_type": "code",
   "execution_count": 78,
   "metadata": {},
   "outputs": [],
   "source": [
    "average_2, lower_2, upper_2, risk_2 = bootstrap_1000(df_2_predicted['real_product'], \n",
    "                                                     df_2_predicted['predicted_product'])"
   ]
  },
  {
   "cell_type": "code",
   "execution_count": 85,
   "metadata": {},
   "outputs": [
    {
     "name": "stdout",
     "output_type": "stream",
     "text": [
      "Средняя прибыль по региону = 423523.86 тыс.руб.\n",
      "95% доверительный интервал от 40418.36 до 810180.17 тыс.руб.\n",
      "Процент риска 1.30%\n"
     ]
    }
   ],
   "source": [
    "print('Средняя прибыль по региону = {:.2f} тыс.руб.'.format(average_2))\n",
    "print('95% доверительный интервал от {:.2f} до {:.2f} тыс.руб.'.format(lower_2, upper_2))\n",
    "print('Процент риска {:.2%}'.format(risk_2))"
   ]
  },
  {
   "cell_type": "code",
   "execution_count": 80,
   "metadata": {},
   "outputs": [],
   "source": [
    "average_3, lower_3, upper_3, risk_3 = bootstrap_1000(df_3_predicted['real_product'], \n",
    "                                                     df_3_predicted['predicted_product'])"
   ]
  },
  {
   "cell_type": "code",
   "execution_count": 87,
   "metadata": {},
   "outputs": [
    {
     "name": "stdout",
     "output_type": "stream",
     "text": [
      "Средняя прибыль по региону = 322245.06 тыс.руб.\n",
      "95% доверительный интервал от -197408.50 до 878417.19 тыс.руб.\n",
      "Процент риска 11.90%\n"
     ]
    }
   ],
   "source": [
    "print('Средняя прибыль по региону = {:.2f} тыс.руб.'.format(average_3))\n",
    "print('95% доверительный интервал от {:.2f} до {:.2f} тыс.руб.'.format(lower_3, upper_3))\n",
    "print('Процент риска {:.2%}'.format(risk_3))"
   ]
  },
  {
   "cell_type": "markdown",
   "metadata": {},
   "source": [
    "### Вывод"
   ]
  },
  {
   "cell_type": "markdown",
   "metadata": {},
   "source": [
    "**Данные по первому региону**:\n",
    "- Средняя прибыль по региону = 457194.86 тыс.руб.\n",
    "- 95% доверительный интервал от -75265.84 до 957514.50 тыс.руб.\n",
    "- Процент риска 4.30%\n",
    "\n",
    "**Данные по второму региону**:\n",
    "- Средняя прибыль по региону = 423523.86 тыс.руб.\n",
    "- 95% доверительный интервал от 40418.36 до 810180.17 тыс.руб.\n",
    "- Процент риска 1.30%\n",
    "\n",
    "**Данные по третьему региону**:\n",
    "- Средняя прибыль по региону = 322245.06 тыс.руб.\n",
    "- 95% доверительный интервал от -197408.50 до 878417.19 тыс.руб.\n",
    "- Процент риска 11.90%"
   ]
  },
  {
   "cell_type": "markdown",
   "metadata": {},
   "source": [
    "## Общий вывод"
   ]
  },
  {
   "cell_type": "markdown",
   "metadata": {},
   "source": [
    "**Данные были обработаны, рассчитаны прибыль, интервал и риски**:\n",
    "\n",
    "**Первый регион**:\n",
    "- Средняя прибыль по региону = 457194.86 тыс.руб.\n",
    "- 95% доверительный интервал от -75265.84 до 957514.50 тыс.руб.\n",
    "- Процент риска 4.30%\n",
    "\n",
    "**Второй регион**:\n",
    "- Средняя прибыль по региону = 423523.86 тыс.руб.\n",
    "- 95% доверительный интервал от 40418.36 до 810180.17 тыс.руб.\n",
    "- Процент риска 1.30%\n",
    "\n",
    "**Третий регион**:\n",
    "- Средняя прибыль по региону = 322245.06 тыс.руб.\n",
    "- 95% доверительный интервал от -197408.50 до 878417.19 тыс.руб.\n",
    "- Процент риска 11.90%\n",
    "\n",
    "***Итог***:\n",
    "- Мы отсеиваем третий регион, так как у этого региона нибольший процент риска - 11.9%\n",
    "- Остаются два региона - первый (процент риска 4.3%) и второй (процент риска 1.3%)\n",
    "- У второго региона наименьший % риска и, кроме того, доверительный интервал показывает, что даже при не очень удачном выборе разработка скважин окупится, так что лучше выбрать его."
   ]
  },
  {
   "cell_type": "code",
   "execution_count": null,
   "metadata": {},
   "outputs": [],
   "source": []
  }
 ],
 "metadata": {
  "ExecuteTimeLog": [
   {
    "duration": 280,
    "start_time": "2021-10-16T13:44:22.068Z"
   },
   {
    "duration": 1078,
    "start_time": "2021-10-16T13:44:28.508Z"
   },
   {
    "duration": 398,
    "start_time": "2021-10-16T13:44:31.541Z"
   },
   {
    "duration": 430,
    "start_time": "2021-10-16T13:44:57.996Z"
   },
   {
    "duration": 12,
    "start_time": "2021-10-16T13:45:06.371Z"
   },
   {
    "duration": 283,
    "start_time": "2021-10-16T13:46:01.335Z"
   },
   {
    "duration": 1492,
    "start_time": "2021-10-16T18:30:46.224Z"
   },
   {
    "duration": 508,
    "start_time": "2021-10-16T18:30:47.719Z"
   },
   {
    "duration": 19,
    "start_time": "2021-10-16T18:30:48.230Z"
   },
   {
    "duration": 488,
    "start_time": "2021-10-16T18:30:48.252Z"
   },
   {
    "duration": 17,
    "start_time": "2021-10-16T18:31:05.192Z"
   },
   {
    "duration": 17,
    "start_time": "2021-10-16T18:31:18.825Z"
   },
   {
    "duration": 16,
    "start_time": "2021-10-16T18:31:46.182Z"
   },
   {
    "duration": 5,
    "start_time": "2021-10-16T18:33:06.935Z"
   },
   {
    "duration": 753,
    "start_time": "2021-10-16T18:33:24.814Z"
   },
   {
    "duration": 737,
    "start_time": "2021-10-16T18:33:41.636Z"
   },
   {
    "duration": 858,
    "start_time": "2021-10-16T18:33:52.307Z"
   },
   {
    "duration": 19,
    "start_time": "2021-10-16T18:35:32.993Z"
   },
   {
    "duration": 1455,
    "start_time": "2021-10-16T18:39:37.367Z"
   },
   {
    "duration": 478,
    "start_time": "2021-10-16T18:39:38.825Z"
   },
   {
    "duration": 19,
    "start_time": "2021-10-16T18:39:39.307Z"
   },
   {
    "duration": 17,
    "start_time": "2021-10-16T18:39:39.329Z"
   },
   {
    "duration": 17,
    "start_time": "2021-10-16T18:39:39.349Z"
   },
   {
    "duration": 17,
    "start_time": "2021-10-16T18:39:39.402Z"
   },
   {
    "duration": 5,
    "start_time": "2021-10-16T18:39:39.421Z"
   },
   {
    "duration": 733,
    "start_time": "2021-10-16T18:39:39.429Z"
   },
   {
    "duration": 742,
    "start_time": "2021-10-16T18:39:40.165Z"
   },
   {
    "duration": 742,
    "start_time": "2021-10-16T18:39:40.909Z"
   },
   {
    "duration": 19,
    "start_time": "2021-10-16T18:39:41.653Z"
   },
   {
    "duration": 5,
    "start_time": "2021-10-16T18:44:28.715Z"
   },
   {
    "duration": 1074,
    "start_time": "2021-10-16T18:44:56.348Z"
   },
   {
    "duration": 967,
    "start_time": "2021-10-16T18:45:16.563Z"
   },
   {
    "duration": 557,
    "start_time": "2021-10-16T18:45:33.257Z"
   },
   {
    "duration": 1001,
    "start_time": "2021-10-16T18:45:56.878Z"
   },
   {
    "duration": 560,
    "start_time": "2021-10-16T18:46:29.310Z"
   },
   {
    "duration": 11,
    "start_time": "2021-10-16T18:49:55.137Z"
   },
   {
    "duration": 445,
    "start_time": "2021-10-16T18:50:28.257Z"
   },
   {
    "duration": 632,
    "start_time": "2021-10-16T18:50:37.782Z"
   },
   {
    "duration": 1355,
    "start_time": "2021-10-16T18:51:30.527Z"
   },
   {
    "duration": 1437,
    "start_time": "2021-10-16T18:52:17.685Z"
   },
   {
    "duration": 475,
    "start_time": "2021-10-16T18:52:19.125Z"
   },
   {
    "duration": 16,
    "start_time": "2021-10-16T18:52:19.603Z"
   },
   {
    "duration": 19,
    "start_time": "2021-10-16T18:52:19.622Z"
   },
   {
    "duration": 14,
    "start_time": "2021-10-16T18:52:19.643Z"
   },
   {
    "duration": 41,
    "start_time": "2021-10-16T18:52:19.659Z"
   },
   {
    "duration": 5,
    "start_time": "2021-10-16T18:52:19.703Z"
   },
   {
    "duration": 798,
    "start_time": "2021-10-16T18:52:19.711Z"
   },
   {
    "duration": 1023,
    "start_time": "2021-10-16T18:52:20.511Z"
   },
   {
    "duration": 738,
    "start_time": "2021-10-16T18:52:21.537Z"
   },
   {
    "duration": 5,
    "start_time": "2021-10-16T18:52:22.278Z"
   },
   {
    "duration": 1090,
    "start_time": "2021-10-16T18:52:22.300Z"
   },
   {
    "duration": 567,
    "start_time": "2021-10-16T18:52:23.393Z"
   },
   {
    "duration": 1009,
    "start_time": "2021-10-16T18:52:23.963Z"
   },
   {
    "duration": 8,
    "start_time": "2021-10-16T18:52:24.975Z"
   },
   {
    "duration": 800,
    "start_time": "2021-10-16T18:52:24.986Z"
   },
   {
    "duration": 110,
    "start_time": "2021-10-16T18:52:55.548Z"
   },
   {
    "duration": 5,
    "start_time": "2021-10-16T18:53:04.028Z"
   },
   {
    "duration": 1477,
    "start_time": "2021-10-16T18:53:22.602Z"
   },
   {
    "duration": 479,
    "start_time": "2021-10-16T18:53:24.081Z"
   },
   {
    "duration": 16,
    "start_time": "2021-10-16T18:53:24.563Z"
   },
   {
    "duration": 30,
    "start_time": "2021-10-16T18:53:24.581Z"
   },
   {
    "duration": 14,
    "start_time": "2021-10-16T18:53:24.613Z"
   },
   {
    "duration": 14,
    "start_time": "2021-10-16T18:53:24.629Z"
   },
   {
    "duration": 5,
    "start_time": "2021-10-16T18:53:24.645Z"
   },
   {
    "duration": 1573,
    "start_time": "2021-10-16T18:53:24.654Z"
   },
   {
    "duration": 779,
    "start_time": "2021-10-16T18:53:26.231Z"
   },
   {
    "duration": 770,
    "start_time": "2021-10-16T18:53:27.013Z"
   },
   {
    "duration": 15,
    "start_time": "2021-10-16T18:53:27.787Z"
   },
   {
    "duration": 1095,
    "start_time": "2021-10-16T18:53:27.805Z"
   },
   {
    "duration": 585,
    "start_time": "2021-10-16T18:53:28.903Z"
   },
   {
    "duration": 1019,
    "start_time": "2021-10-16T18:53:29.491Z"
   },
   {
    "duration": 8,
    "start_time": "2021-10-16T18:53:30.514Z"
   },
   {
    "duration": 577,
    "start_time": "2021-10-16T18:53:30.525Z"
   },
   {
    "duration": 484,
    "start_time": "2021-10-16T18:54:24.318Z"
   },
   {
    "duration": 5,
    "start_time": "2021-10-16T19:01:01.032Z"
   },
   {
    "duration": 5,
    "start_time": "2021-10-16T19:02:39.252Z"
   },
   {
    "duration": 40,
    "start_time": "2021-10-16T19:03:56.076Z"
   },
   {
    "duration": 5,
    "start_time": "2021-10-16T19:04:47.850Z"
   },
   {
    "duration": 37,
    "start_time": "2021-10-16T19:04:50.145Z"
   },
   {
    "duration": 6,
    "start_time": "2021-10-16T19:05:47.064Z"
   },
   {
    "duration": 480,
    "start_time": "2021-10-16T19:08:15.733Z"
   },
   {
    "duration": 7,
    "start_time": "2021-10-16T19:08:55.874Z"
   },
   {
    "duration": 349,
    "start_time": "2021-10-16T19:08:57.514Z"
   },
   {
    "duration": 6,
    "start_time": "2021-10-16T19:09:19.017Z"
   },
   {
    "duration": 325,
    "start_time": "2021-10-16T19:09:20.841Z"
   },
   {
    "duration": 330,
    "start_time": "2021-10-16T19:13:04.267Z"
   },
   {
    "duration": 39,
    "start_time": "2021-10-16T19:13:12.161Z"
   },
   {
    "duration": 6,
    "start_time": "2021-10-16T19:14:01.423Z"
   },
   {
    "duration": 6,
    "start_time": "2021-10-16T19:14:31.478Z"
   },
   {
    "duration": 417,
    "start_time": "2021-10-16T19:15:13.944Z"
   },
   {
    "duration": 1551,
    "start_time": "2021-10-16T19:15:24.912Z"
   },
   {
    "duration": 479,
    "start_time": "2021-10-16T19:15:26.465Z"
   },
   {
    "duration": 17,
    "start_time": "2021-10-16T19:15:26.948Z"
   },
   {
    "duration": 36,
    "start_time": "2021-10-16T19:15:26.968Z"
   },
   {
    "duration": 16,
    "start_time": "2021-10-16T19:15:27.007Z"
   },
   {
    "duration": 16,
    "start_time": "2021-10-16T19:15:27.026Z"
   },
   {
    "duration": 6,
    "start_time": "2021-10-16T19:15:27.044Z"
   },
   {
    "duration": 747,
    "start_time": "2021-10-16T19:15:27.056Z"
   },
   {
    "duration": 736,
    "start_time": "2021-10-16T19:15:27.806Z"
   },
   {
    "duration": 744,
    "start_time": "2021-10-16T19:15:28.545Z"
   },
   {
    "duration": 11,
    "start_time": "2021-10-16T19:15:29.292Z"
   },
   {
    "duration": 1075,
    "start_time": "2021-10-16T19:15:29.306Z"
   },
   {
    "duration": 570,
    "start_time": "2021-10-16T19:15:30.384Z"
   },
   {
    "duration": 1009,
    "start_time": "2021-10-16T19:15:30.957Z"
   },
   {
    "duration": 5,
    "start_time": "2021-10-16T19:15:31.968Z"
   },
   {
    "duration": 59,
    "start_time": "2021-10-16T19:15:31.975Z"
   },
   {
    "duration": 7,
    "start_time": "2021-10-16T19:15:32.037Z"
   },
   {
    "duration": 496,
    "start_time": "2021-10-16T19:15:32.046Z"
   },
   {
    "duration": 20,
    "start_time": "2021-10-16T19:17:26.020Z"
   },
   {
    "duration": 338,
    "start_time": "2021-10-16T19:17:31.445Z"
   },
   {
    "duration": 6,
    "start_time": "2021-10-16T19:17:44.191Z"
   },
   {
    "duration": 342,
    "start_time": "2021-10-16T19:17:45.870Z"
   },
   {
    "duration": 1455,
    "start_time": "2021-10-16T19:18:16.218Z"
   },
   {
    "duration": 568,
    "start_time": "2021-10-16T19:18:17.676Z"
   },
   {
    "duration": 69,
    "start_time": "2021-10-16T19:18:18.247Z"
   },
   {
    "duration": 17,
    "start_time": "2021-10-16T19:18:18.318Z"
   },
   {
    "duration": 66,
    "start_time": "2021-10-16T19:18:18.337Z"
   },
   {
    "duration": 14,
    "start_time": "2021-10-16T19:18:18.405Z"
   },
   {
    "duration": 5,
    "start_time": "2021-10-16T19:18:18.421Z"
   },
   {
    "duration": 958,
    "start_time": "2021-10-16T19:18:18.431Z"
   },
   {
    "duration": 755,
    "start_time": "2021-10-16T19:18:19.392Z"
   },
   {
    "duration": 754,
    "start_time": "2021-10-16T19:18:20.149Z"
   },
   {
    "duration": 6,
    "start_time": "2021-10-16T19:18:20.905Z"
   },
   {
    "duration": 1110,
    "start_time": "2021-10-16T19:18:20.913Z"
   },
   {
    "duration": 676,
    "start_time": "2021-10-16T19:18:22.026Z"
   },
   {
    "duration": 1026,
    "start_time": "2021-10-16T19:18:22.705Z"
   },
   {
    "duration": 22,
    "start_time": "2021-10-16T19:18:23.734Z"
   },
   {
    "duration": 7,
    "start_time": "2021-10-16T19:18:23.759Z"
   },
   {
    "duration": 52,
    "start_time": "2021-10-16T19:18:23.768Z"
   },
   {
    "duration": 6,
    "start_time": "2021-10-16T19:18:23.823Z"
   },
   {
    "duration": 73,
    "start_time": "2021-10-16T19:18:23.832Z"
   },
   {
    "duration": 111,
    "start_time": "2021-10-16T19:19:27.892Z"
   },
   {
    "duration": 465,
    "start_time": "2021-10-16T19:20:12.370Z"
   },
   {
    "duration": 871,
    "start_time": "2021-10-16T19:20:22.956Z"
   },
   {
    "duration": 5,
    "start_time": "2021-10-16T19:20:44.622Z"
   },
   {
    "duration": 117,
    "start_time": "2021-10-16T19:20:50.283Z"
   },
   {
    "duration": 201,
    "start_time": "2021-10-16T19:23:06.831Z"
   },
   {
    "duration": 276,
    "start_time": "2021-10-16T19:24:20.956Z"
   },
   {
    "duration": 16,
    "start_time": "2021-10-16T19:25:15.314Z"
   },
   {
    "duration": 16,
    "start_time": "2021-10-16T19:37:10.179Z"
   },
   {
    "duration": 7,
    "start_time": "2021-10-16T19:38:19.635Z"
   },
   {
    "duration": 130,
    "start_time": "2021-10-16T19:39:14.072Z"
   },
   {
    "duration": 79,
    "start_time": "2021-10-16T19:39:39.423Z"
   },
   {
    "duration": 7,
    "start_time": "2021-10-16T19:39:44.727Z"
   },
   {
    "duration": 34,
    "start_time": "2021-10-16T19:40:31.589Z"
   },
   {
    "duration": 9,
    "start_time": "2021-10-16T19:41:03.468Z"
   },
   {
    "duration": 345,
    "start_time": "2021-10-16T19:41:29.274Z"
   },
   {
    "duration": 916,
    "start_time": "2021-10-16T19:41:33.140Z"
   },
   {
    "duration": 320,
    "start_time": "2021-10-16T19:41:44.860Z"
   },
   {
    "duration": 12,
    "start_time": "2021-10-16T19:42:00.075Z"
   },
   {
    "duration": 4,
    "start_time": "2021-10-16T19:42:08.257Z"
   },
   {
    "duration": 10,
    "start_time": "2021-10-16T19:42:23.194Z"
   },
   {
    "duration": 18,
    "start_time": "2021-10-16T19:42:37.269Z"
   },
   {
    "duration": 12,
    "start_time": "2021-10-16T19:42:41.217Z"
   },
   {
    "duration": 101,
    "start_time": "2021-10-16T19:43:45.200Z"
   },
   {
    "duration": 12,
    "start_time": "2021-10-16T19:43:46.864Z"
   },
   {
    "duration": 5,
    "start_time": "2021-10-16T19:43:58.463Z"
   },
   {
    "duration": 6,
    "start_time": "2021-10-16T19:44:15.692Z"
   },
   {
    "duration": 14,
    "start_time": "2021-10-16T19:45:47.821Z"
   },
   {
    "duration": 10,
    "start_time": "2021-10-16T19:45:58.696Z"
   },
   {
    "duration": 10,
    "start_time": "2021-10-16T19:46:32.789Z"
   },
   {
    "duration": 10,
    "start_time": "2021-10-16T19:46:48.419Z"
   },
   {
    "duration": 4,
    "start_time": "2021-10-16T19:49:41.725Z"
   },
   {
    "duration": 6,
    "start_time": "2021-10-16T19:51:01.403Z"
   },
   {
    "duration": 5,
    "start_time": "2021-10-16T19:51:14.185Z"
   },
   {
    "duration": 5,
    "start_time": "2021-10-16T19:51:24.265Z"
   },
   {
    "duration": 5,
    "start_time": "2021-10-16T19:51:50.855Z"
   },
   {
    "duration": 8,
    "start_time": "2021-10-16T19:52:14.798Z"
   },
   {
    "duration": 4,
    "start_time": "2021-10-16T19:53:05.031Z"
   },
   {
    "duration": 989,
    "start_time": "2021-10-16T19:53:54.980Z"
   },
   {
    "duration": 486,
    "start_time": "2021-10-16T19:54:41.684Z"
   },
   {
    "duration": 1105,
    "start_time": "2021-10-16T19:54:56.899Z"
   },
   {
    "duration": 855,
    "start_time": "2021-10-16T19:56:06.913Z"
   },
   {
    "duration": 369,
    "start_time": "2021-10-17T15:07:57.634Z"
   },
   {
    "duration": 1444,
    "start_time": "2021-10-17T15:08:05.029Z"
   },
   {
    "duration": 538,
    "start_time": "2021-10-17T15:08:06.475Z"
   },
   {
    "duration": 15,
    "start_time": "2021-10-17T15:08:07.016Z"
   },
   {
    "duration": 67,
    "start_time": "2021-10-17T15:08:07.034Z"
   },
   {
    "duration": 14,
    "start_time": "2021-10-17T15:08:07.103Z"
   },
   {
    "duration": 14,
    "start_time": "2021-10-17T15:08:07.119Z"
   },
   {
    "duration": 5,
    "start_time": "2021-10-17T15:08:07.135Z"
   },
   {
    "duration": 1019,
    "start_time": "2021-10-17T15:08:07.142Z"
   },
   {
    "duration": 746,
    "start_time": "2021-10-17T15:08:08.165Z"
   },
   {
    "duration": 727,
    "start_time": "2021-10-17T15:08:08.914Z"
   },
   {
    "duration": 5,
    "start_time": "2021-10-17T15:08:09.644Z"
   },
   {
    "duration": 1075,
    "start_time": "2021-10-17T15:08:09.651Z"
   },
   {
    "duration": 571,
    "start_time": "2021-10-17T15:08:10.729Z"
   },
   {
    "duration": 1007,
    "start_time": "2021-10-17T15:08:11.303Z"
   },
   {
    "duration": 21,
    "start_time": "2021-10-17T15:08:12.313Z"
   },
   {
    "duration": 5,
    "start_time": "2021-10-17T15:08:12.337Z"
   },
   {
    "duration": 22,
    "start_time": "2021-10-17T15:08:12.345Z"
   },
   {
    "duration": 36,
    "start_time": "2021-10-17T15:08:12.369Z"
   },
   {
    "duration": 6,
    "start_time": "2021-10-17T15:08:12.408Z"
   },
   {
    "duration": 90,
    "start_time": "2021-10-17T15:08:12.416Z"
   },
   {
    "duration": 191,
    "start_time": "2021-10-17T15:08:12.510Z"
   },
   {
    "duration": 324,
    "start_time": "2021-10-17T15:08:12.705Z"
   },
   {
    "duration": 405,
    "start_time": "2021-10-17T15:08:13.032Z"
   },
   {
    "duration": 166,
    "start_time": "2021-10-17T15:08:13.439Z"
   },
   {
    "duration": 194,
    "start_time": "2021-10-17T15:08:13.609Z"
   },
   {
    "duration": 97,
    "start_time": "2021-10-17T15:08:13.807Z"
   },
   {
    "duration": 91,
    "start_time": "2021-10-17T15:08:13.910Z"
   },
   {
    "duration": 101,
    "start_time": "2021-10-17T15:08:14.006Z"
   },
   {
    "duration": 8,
    "start_time": "2021-10-17T15:08:14.110Z"
   },
   {
    "duration": 180,
    "start_time": "2021-10-17T15:08:14.120Z"
   },
   {
    "duration": 10,
    "start_time": "2021-10-17T15:08:14.302Z"
   },
   {
    "duration": 6,
    "start_time": "2021-10-17T15:08:14.315Z"
   },
   {
    "duration": 78,
    "start_time": "2021-10-17T15:08:14.323Z"
   },
   {
    "duration": 100,
    "start_time": "2021-10-17T15:08:14.405Z"
   },
   {
    "duration": 6,
    "start_time": "2021-10-17T15:08:14.508Z"
   },
   {
    "duration": 10,
    "start_time": "2021-10-17T15:08:14.516Z"
   },
   {
    "duration": 5,
    "start_time": "2021-10-17T15:08:14.528Z"
   },
   {
    "duration": 5,
    "start_time": "2021-10-17T15:08:14.536Z"
   },
   {
    "duration": 59,
    "start_time": "2021-10-17T15:08:14.544Z"
   },
   {
    "duration": 8,
    "start_time": "2021-10-17T15:08:14.606Z"
   },
   {
    "duration": 10,
    "start_time": "2021-10-17T15:08:14.617Z"
   },
   {
    "duration": 5,
    "start_time": "2021-10-17T15:08:14.630Z"
   },
   {
    "duration": 1038,
    "start_time": "2021-10-17T15:08:14.638Z"
   },
   {
    "duration": 488,
    "start_time": "2021-10-17T15:08:15.680Z"
   },
   {
    "duration": 1298,
    "start_time": "2021-10-17T15:08:16.170Z"
   },
   {
    "duration": 7,
    "start_time": "2021-10-17T15:08:17.471Z"
   },
   {
    "duration": 829,
    "start_time": "2021-10-17T15:09:05.911Z"
   },
   {
    "duration": 7,
    "start_time": "2021-10-17T15:09:43.911Z"
   },
   {
    "duration": 4704,
    "start_time": "2021-10-17T15:09:45.933Z"
   },
   {
    "duration": 319,
    "start_time": "2021-10-17T15:10:03.692Z"
   },
   {
    "duration": 6,
    "start_time": "2021-10-17T15:10:18.844Z"
   },
   {
    "duration": 4533,
    "start_time": "2021-10-17T15:11:03.267Z"
   },
   {
    "duration": 5,
    "start_time": "2021-10-17T15:11:29.897Z"
   },
   {
    "duration": 7,
    "start_time": "2021-10-17T15:11:53.186Z"
   },
   {
    "duration": 4556,
    "start_time": "2021-10-17T15:11:55.682Z"
   },
   {
    "duration": 7,
    "start_time": "2021-10-17T15:12:00.241Z"
   },
   {
    "duration": 4535,
    "start_time": "2021-10-17T15:12:03.737Z"
   },
   {
    "duration": 5,
    "start_time": "2021-10-17T15:12:08.275Z"
   },
   {
    "duration": 8,
    "start_time": "2021-10-17T15:12:15.583Z"
   },
   {
    "duration": 4581,
    "start_time": "2021-10-17T15:12:17.837Z"
   },
   {
    "duration": 5,
    "start_time": "2021-10-17T15:12:22.421Z"
   },
   {
    "duration": 4537,
    "start_time": "2021-10-17T15:12:22.575Z"
   },
   {
    "duration": 129,
    "start_time": "2021-10-17T15:12:30.360Z"
   },
   {
    "duration": 7,
    "start_time": "2021-10-17T15:12:35.897Z"
   },
   {
    "duration": 4671,
    "start_time": "2021-10-17T15:12:38.392Z"
   },
   {
    "duration": 5,
    "start_time": "2021-10-17T15:12:43.066Z"
   },
   {
    "duration": 4580,
    "start_time": "2021-10-17T15:12:43.074Z"
   },
   {
    "duration": 6,
    "start_time": "2021-10-17T15:12:47.656Z"
   },
   {
    "duration": 6,
    "start_time": "2021-10-17T15:13:14.416Z"
   },
   {
    "duration": 4544,
    "start_time": "2021-10-17T15:13:17.013Z"
   },
   {
    "duration": 6,
    "start_time": "2021-10-17T15:13:23.781Z"
   },
   {
    "duration": 4561,
    "start_time": "2021-10-17T15:13:26.128Z"
   },
   {
    "duration": 6,
    "start_time": "2021-10-17T15:13:32.463Z"
   },
   {
    "duration": 5,
    "start_time": "2021-10-17T15:13:37.389Z"
   },
   {
    "duration": 8,
    "start_time": "2021-10-17T15:13:45.583Z"
   },
   {
    "duration": 4630,
    "start_time": "2021-10-17T15:13:47.604Z"
   },
   {
    "duration": 5,
    "start_time": "2021-10-17T15:13:52.237Z"
   },
   {
    "duration": 4817,
    "start_time": "2021-10-17T15:13:52.417Z"
   },
   {
    "duration": 6,
    "start_time": "2021-10-17T15:14:00.291Z"
   },
   {
    "duration": 4730,
    "start_time": "2021-10-17T15:14:33.786Z"
   },
   {
    "duration": 6,
    "start_time": "2021-10-17T15:15:05.764Z"
   },
   {
    "duration": 4,
    "start_time": "2021-10-17T15:25:49.678Z"
   },
   {
    "duration": 7,
    "start_time": "2021-10-17T15:28:28.141Z"
   },
   {
    "duration": 6,
    "start_time": "2021-10-17T15:28:36.175Z"
   },
   {
    "duration": 6,
    "start_time": "2021-10-17T15:28:49.325Z"
   },
   {
    "duration": 6,
    "start_time": "2021-10-17T15:28:57.969Z"
   },
   {
    "duration": 6,
    "start_time": "2021-10-17T15:29:04.770Z"
   }
  ],
  "kernelspec": {
   "display_name": "Python 3 (ipykernel)",
   "language": "python",
   "name": "python3"
  },
  "language_info": {
   "codemirror_mode": {
    "name": "ipython",
    "version": 3
   },
   "file_extension": ".py",
   "mimetype": "text/x-python",
   "name": "python",
   "nbconvert_exporter": "python",
   "pygments_lexer": "ipython3",
   "version": "3.10.3"
  },
  "toc": {
   "base_numbering": 1,
   "nav_menu": {},
   "number_sections": true,
   "sideBar": true,
   "skip_h1_title": true,
   "title_cell": "Table of Contents",
   "title_sidebar": "Contents",
   "toc_cell": true,
   "toc_position": {},
   "toc_section_display": true,
   "toc_window_display": true
  }
 },
 "nbformat": 4,
 "nbformat_minor": 2
}
