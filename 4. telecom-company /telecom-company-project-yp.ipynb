{
 "cells": [
  {
   "cell_type": "markdown",
   "metadata": {},
   "source": [
    "# Определение перспективного тарифа для телеком компании яндекс практикум"
   ]
  },
  {
   "cell_type": "markdown",
   "metadata": {},
   "source": [
    "**Описание тарифов**\n",
    "\n",
    "**Тариф «Смарт»**\n",
    "1. Ежемесячная плата: 550 рублей\n",
    "2. Включено 500 минут разговора, 50 сообщений и 15 Гб интернет-трафика\n",
    "\n",
    "Стоимость услуг сверх тарифного пакета: \n",
    "- минута разговора: 3 рубля («Мегалайн» всегда округляет вверх значения минут и мегабайтов. Если пользователь проговорил всего 1 секунду, в тарифе засчитывается целая минута); \n",
    "- сообщение: 3 рубля; \n",
    "- 1 Гб интернет-трафика: 200 рублей.\n",
    "\n",
    "**Тариф «Ультра»**\n",
    "1. Ежемесячная плата: 1950 рублей\n",
    "2. Включено 3000 минут разговора, 1000 сообщений и 30 Гб интернет-трафика\n",
    "\n",
    "Стоимость услуг сверх тарифного пакета: \n",
    "- минута разговора: 1 рубль; \n",
    "- сообщение: 1 рубль; \n",
    "- 1 Гб интернет-трафика: 150 рублей"
   ]
  },
  {
   "cell_type": "markdown",
   "metadata": {},
   "source": [
    "**Описание данных**\n",
    "\n",
    "**Таблица users (информация о пользователях)**:\n",
    "- user_id — уникальный идентификатор пользователя\n",
    "- first_name — имя пользователя\n",
    "- last_name — фамилия пользователя\n",
    "- age — возраст пользователя (годы)\n",
    "- reg_date — дата подключения тарифа (день, месяц, год)\n",
    "- churn_date — дата прекращения пользования тарифом (если значение пропущено, то тариф ещё действовал на момент выгрузки данных)\n",
    "- city — город проживания пользователя\n",
    "- tarif — название тарифного плана\n",
    "\n",
    "**Таблица calls (информация о звонках)**:\n",
    "- id — уникальный номер звонка\n",
    "- call_date — дата звонка\n",
    "- duration — длительность звонка в минутах\n",
    "- user_id — идентификатор пользователя, сделавшего звонок\n",
    "- Таблица messages (информация о сообщениях):\n",
    "- id — уникальный номер сообщения\n",
    "- message_date — дата сообщения\n",
    "- user_id — идентификатор пользователя, отправившего сообщение\n",
    "\n",
    "**Таблица internet (информация об интернет-сессиях)**:\n",
    "- id — уникальный номер сессии\n",
    "- mb_used — объём потраченного за сессию интернет-трафика (в мегабайтах)\n",
    "- session_date — дата интернет-сессии\n",
    "- user_id — идентификатор пользователя\n",
    "- Таблица tariffs (информация о тарифах):\n",
    "- tariff_name — название тарифа\n",
    "- rub_monthly_fee — ежемесячная абонентская плата в рублях\n",
    "- minutes_included — количество минут разговора в месяц, включённых в абонентскую плату\n",
    "- messages_included — количество сообщений в месяц, включённых в абонентскую плату\n",
    "- mb_per_month_included — объём интернет-трафика, включённого в абонентскую плату (в мегабайтах)\n",
    "- rub_per_minute — стоимость минуты разговора сверх тарифного пакета (например, если в тарифе 100 минут разговора в месяц, то со 101 минуты будет взиматься плата)\n",
    "- rub_per_message — стоимость отправки сообщения сверх тарифного пакета\n",
    "- rub_per_gb — стоимость дополнительного гигабайта интернет-трафика сверх тарифного пакета (1 гигабайт = 1024 мегабайта)"
   ]
  },
  {
   "cell_type": "markdown",
   "metadata": {},
   "source": [
    "## Откройте файл с данными и изучите общую информацию"
   ]
  },
  {
   "cell_type": "code",
   "execution_count": 1,
   "metadata": {},
   "outputs": [],
   "source": [
    "import pandas as pd\n",
    "import matplotlib.pyplot as plt\n",
    "import math\n",
    "import numpy as np\n",
    "from scipy import stats as st\n",
    "from functools import reduce\n",
    "import copy"
   ]
  },
  {
   "cell_type": "code",
   "execution_count": 3,
   "metadata": {},
   "outputs": [
    {
     "data": {
      "text/html": [
       "<div>\n",
       "<style scoped>\n",
       "    .dataframe tbody tr th:only-of-type {\n",
       "        vertical-align: middle;\n",
       "    }\n",
       "\n",
       "    .dataframe tbody tr th {\n",
       "        vertical-align: top;\n",
       "    }\n",
       "\n",
       "    .dataframe thead th {\n",
       "        text-align: right;\n",
       "    }\n",
       "</style>\n",
       "<table border=\"1\" class=\"dataframe\">\n",
       "  <thead>\n",
       "    <tr style=\"text-align: right;\">\n",
       "      <th></th>\n",
       "      <th>id</th>\n",
       "      <th>call_date</th>\n",
       "      <th>duration</th>\n",
       "      <th>user_id</th>\n",
       "    </tr>\n",
       "  </thead>\n",
       "  <tbody>\n",
       "    <tr>\n",
       "      <td>0</td>\n",
       "      <td>1000_0</td>\n",
       "      <td>2018-07-25</td>\n",
       "      <td>0.00</td>\n",
       "      <td>1000</td>\n",
       "    </tr>\n",
       "    <tr>\n",
       "      <td>1</td>\n",
       "      <td>1000_1</td>\n",
       "      <td>2018-08-17</td>\n",
       "      <td>0.00</td>\n",
       "      <td>1000</td>\n",
       "    </tr>\n",
       "    <tr>\n",
       "      <td>2</td>\n",
       "      <td>1000_2</td>\n",
       "      <td>2018-06-11</td>\n",
       "      <td>2.85</td>\n",
       "      <td>1000</td>\n",
       "    </tr>\n",
       "    <tr>\n",
       "      <td>3</td>\n",
       "      <td>1000_3</td>\n",
       "      <td>2018-09-21</td>\n",
       "      <td>13.80</td>\n",
       "      <td>1000</td>\n",
       "    </tr>\n",
       "    <tr>\n",
       "      <td>4</td>\n",
       "      <td>1000_4</td>\n",
       "      <td>2018-12-15</td>\n",
       "      <td>5.18</td>\n",
       "      <td>1000</td>\n",
       "    </tr>\n",
       "  </tbody>\n",
       "</table>\n",
       "</div>"
      ],
      "text/plain": [
       "       id   call_date  duration  user_id\n",
       "0  1000_0  2018-07-25      0.00     1000\n",
       "1  1000_1  2018-08-17      0.00     1000\n",
       "2  1000_2  2018-06-11      2.85     1000\n",
       "3  1000_3  2018-09-21     13.80     1000\n",
       "4  1000_4  2018-12-15      5.18     1000"
      ]
     },
     "execution_count": 3,
     "metadata": {},
     "output_type": "execute_result"
    }
   ],
   "source": [
    "calls.head()"
   ]
  },
  {
   "cell_type": "code",
   "execution_count": 4,
   "metadata": {},
   "outputs": [],
   "source": [
    "internet = pd.read_csv('https://code.s3.yandex.net/datasets/internet.csv', index_col=0)"
   ]
  },
  {
   "cell_type": "code",
   "execution_count": 5,
   "metadata": {},
   "outputs": [
    {
     "data": {
      "text/html": [
       "<div>\n",
       "<style scoped>\n",
       "    .dataframe tbody tr th:only-of-type {\n",
       "        vertical-align: middle;\n",
       "    }\n",
       "\n",
       "    .dataframe tbody tr th {\n",
       "        vertical-align: top;\n",
       "    }\n",
       "\n",
       "    .dataframe thead th {\n",
       "        text-align: right;\n",
       "    }\n",
       "</style>\n",
       "<table border=\"1\" class=\"dataframe\">\n",
       "  <thead>\n",
       "    <tr style=\"text-align: right;\">\n",
       "      <th></th>\n",
       "      <th>id</th>\n",
       "      <th>mb_used</th>\n",
       "      <th>session_date</th>\n",
       "      <th>user_id</th>\n",
       "    </tr>\n",
       "  </thead>\n",
       "  <tbody>\n",
       "    <tr>\n",
       "      <td>0</td>\n",
       "      <td>1000_0</td>\n",
       "      <td>112.95</td>\n",
       "      <td>2018-11-25</td>\n",
       "      <td>1000</td>\n",
       "    </tr>\n",
       "    <tr>\n",
       "      <td>1</td>\n",
       "      <td>1000_1</td>\n",
       "      <td>1052.81</td>\n",
       "      <td>2018-09-07</td>\n",
       "      <td>1000</td>\n",
       "    </tr>\n",
       "    <tr>\n",
       "      <td>2</td>\n",
       "      <td>1000_2</td>\n",
       "      <td>1197.26</td>\n",
       "      <td>2018-06-25</td>\n",
       "      <td>1000</td>\n",
       "    </tr>\n",
       "    <tr>\n",
       "      <td>3</td>\n",
       "      <td>1000_3</td>\n",
       "      <td>550.27</td>\n",
       "      <td>2018-08-22</td>\n",
       "      <td>1000</td>\n",
       "    </tr>\n",
       "    <tr>\n",
       "      <td>4</td>\n",
       "      <td>1000_4</td>\n",
       "      <td>302.56</td>\n",
       "      <td>2018-09-24</td>\n",
       "      <td>1000</td>\n",
       "    </tr>\n",
       "  </tbody>\n",
       "</table>\n",
       "</div>"
      ],
      "text/plain": [
       "       id  mb_used session_date  user_id\n",
       "0  1000_0   112.95   2018-11-25     1000\n",
       "1  1000_1  1052.81   2018-09-07     1000\n",
       "2  1000_2  1197.26   2018-06-25     1000\n",
       "3  1000_3   550.27   2018-08-22     1000\n",
       "4  1000_4   302.56   2018-09-24     1000"
      ]
     },
     "execution_count": 5,
     "metadata": {},
     "output_type": "execute_result"
    }
   ],
   "source": [
    "internet.head()"
   ]
  },
  {
   "cell_type": "code",
   "execution_count": 6,
   "metadata": {},
   "outputs": [
    {
     "data": {
      "text/html": [
       "<div>\n",
       "<style scoped>\n",
       "    .dataframe tbody tr th:only-of-type {\n",
       "        vertical-align: middle;\n",
       "    }\n",
       "\n",
       "    .dataframe tbody tr th {\n",
       "        vertical-align: top;\n",
       "    }\n",
       "\n",
       "    .dataframe thead th {\n",
       "        text-align: right;\n",
       "    }\n",
       "</style>\n",
       "<table border=\"1\" class=\"dataframe\">\n",
       "  <thead>\n",
       "    <tr style=\"text-align: right;\">\n",
       "      <th></th>\n",
       "      <th>id</th>\n",
       "      <th>mb_used</th>\n",
       "      <th>session_date</th>\n",
       "      <th>user_id</th>\n",
       "    </tr>\n",
       "  </thead>\n",
       "  <tbody>\n",
       "    <tr>\n",
       "      <td>0</td>\n",
       "      <td>1000_0</td>\n",
       "      <td>112.95</td>\n",
       "      <td>2018-11-25</td>\n",
       "      <td>1000</td>\n",
       "    </tr>\n",
       "    <tr>\n",
       "      <td>1</td>\n",
       "      <td>1000_1</td>\n",
       "      <td>1052.81</td>\n",
       "      <td>2018-09-07</td>\n",
       "      <td>1000</td>\n",
       "    </tr>\n",
       "    <tr>\n",
       "      <td>2</td>\n",
       "      <td>1000_2</td>\n",
       "      <td>1197.26</td>\n",
       "      <td>2018-06-25</td>\n",
       "      <td>1000</td>\n",
       "    </tr>\n",
       "    <tr>\n",
       "      <td>3</td>\n",
       "      <td>1000_3</td>\n",
       "      <td>550.27</td>\n",
       "      <td>2018-08-22</td>\n",
       "      <td>1000</td>\n",
       "    </tr>\n",
       "    <tr>\n",
       "      <td>4</td>\n",
       "      <td>1000_4</td>\n",
       "      <td>302.56</td>\n",
       "      <td>2018-09-24</td>\n",
       "      <td>1000</td>\n",
       "    </tr>\n",
       "  </tbody>\n",
       "</table>\n",
       "</div>"
      ],
      "text/plain": [
       "       id  mb_used session_date  user_id\n",
       "0  1000_0   112.95   2018-11-25     1000\n",
       "1  1000_1  1052.81   2018-09-07     1000\n",
       "2  1000_2  1197.26   2018-06-25     1000\n",
       "3  1000_3   550.27   2018-08-22     1000\n",
       "4  1000_4   302.56   2018-09-24     1000"
      ]
     },
     "execution_count": 6,
     "metadata": {},
     "output_type": "execute_result"
    }
   ],
   "source": [
    "internet.head()"
   ]
  },
  {
   "cell_type": "code",
   "execution_count": 7,
   "metadata": {},
   "outputs": [],
   "source": [
    "messages = pd.read_csv('https://code.s3.yandex.net/datasets/messages.csv')"
   ]
  },
  {
   "cell_type": "code",
   "execution_count": 8,
   "metadata": {},
   "outputs": [
    {
     "data": {
      "text/html": [
       "<div>\n",
       "<style scoped>\n",
       "    .dataframe tbody tr th:only-of-type {\n",
       "        vertical-align: middle;\n",
       "    }\n",
       "\n",
       "    .dataframe tbody tr th {\n",
       "        vertical-align: top;\n",
       "    }\n",
       "\n",
       "    .dataframe thead th {\n",
       "        text-align: right;\n",
       "    }\n",
       "</style>\n",
       "<table border=\"1\" class=\"dataframe\">\n",
       "  <thead>\n",
       "    <tr style=\"text-align: right;\">\n",
       "      <th></th>\n",
       "      <th>id</th>\n",
       "      <th>message_date</th>\n",
       "      <th>user_id</th>\n",
       "    </tr>\n",
       "  </thead>\n",
       "  <tbody>\n",
       "    <tr>\n",
       "      <td>0</td>\n",
       "      <td>1000_0</td>\n",
       "      <td>2018-06-27</td>\n",
       "      <td>1000</td>\n",
       "    </tr>\n",
       "    <tr>\n",
       "      <td>1</td>\n",
       "      <td>1000_1</td>\n",
       "      <td>2018-10-08</td>\n",
       "      <td>1000</td>\n",
       "    </tr>\n",
       "    <tr>\n",
       "      <td>2</td>\n",
       "      <td>1000_2</td>\n",
       "      <td>2018-08-04</td>\n",
       "      <td>1000</td>\n",
       "    </tr>\n",
       "    <tr>\n",
       "      <td>3</td>\n",
       "      <td>1000_3</td>\n",
       "      <td>2018-06-16</td>\n",
       "      <td>1000</td>\n",
       "    </tr>\n",
       "    <tr>\n",
       "      <td>4</td>\n",
       "      <td>1000_4</td>\n",
       "      <td>2018-12-05</td>\n",
       "      <td>1000</td>\n",
       "    </tr>\n",
       "  </tbody>\n",
       "</table>\n",
       "</div>"
      ],
      "text/plain": [
       "       id message_date  user_id\n",
       "0  1000_0   2018-06-27     1000\n",
       "1  1000_1   2018-10-08     1000\n",
       "2  1000_2   2018-08-04     1000\n",
       "3  1000_3   2018-06-16     1000\n",
       "4  1000_4   2018-12-05     1000"
      ]
     },
     "execution_count": 8,
     "metadata": {},
     "output_type": "execute_result"
    }
   ],
   "source": [
    "messages.head()"
   ]
  },
  {
   "cell_type": "code",
   "execution_count": 9,
   "metadata": {},
   "outputs": [],
   "source": [
    "users = pd.read_csv('https://code.s3.yandex.net/datasets/users.csv')"
   ]
  },
  {
   "cell_type": "code",
   "execution_count": 10,
   "metadata": {},
   "outputs": [
    {
     "data": {
      "text/html": [
       "<div>\n",
       "<style scoped>\n",
       "    .dataframe tbody tr th:only-of-type {\n",
       "        vertical-align: middle;\n",
       "    }\n",
       "\n",
       "    .dataframe tbody tr th {\n",
       "        vertical-align: top;\n",
       "    }\n",
       "\n",
       "    .dataframe thead th {\n",
       "        text-align: right;\n",
       "    }\n",
       "</style>\n",
       "<table border=\"1\" class=\"dataframe\">\n",
       "  <thead>\n",
       "    <tr style=\"text-align: right;\">\n",
       "      <th></th>\n",
       "      <th>user_id</th>\n",
       "      <th>age</th>\n",
       "      <th>churn_date</th>\n",
       "      <th>city</th>\n",
       "      <th>first_name</th>\n",
       "      <th>last_name</th>\n",
       "      <th>reg_date</th>\n",
       "      <th>tariff</th>\n",
       "    </tr>\n",
       "  </thead>\n",
       "  <tbody>\n",
       "    <tr>\n",
       "      <td>0</td>\n",
       "      <td>1000</td>\n",
       "      <td>52</td>\n",
       "      <td>NaN</td>\n",
       "      <td>Краснодар</td>\n",
       "      <td>Рафаил</td>\n",
       "      <td>Верещагин</td>\n",
       "      <td>2018-05-25</td>\n",
       "      <td>ultra</td>\n",
       "    </tr>\n",
       "    <tr>\n",
       "      <td>1</td>\n",
       "      <td>1001</td>\n",
       "      <td>41</td>\n",
       "      <td>NaN</td>\n",
       "      <td>Москва</td>\n",
       "      <td>Иван</td>\n",
       "      <td>Ежов</td>\n",
       "      <td>2018-11-01</td>\n",
       "      <td>smart</td>\n",
       "    </tr>\n",
       "    <tr>\n",
       "      <td>2</td>\n",
       "      <td>1002</td>\n",
       "      <td>59</td>\n",
       "      <td>NaN</td>\n",
       "      <td>Стерлитамак</td>\n",
       "      <td>Евгений</td>\n",
       "      <td>Абрамович</td>\n",
       "      <td>2018-06-17</td>\n",
       "      <td>smart</td>\n",
       "    </tr>\n",
       "    <tr>\n",
       "      <td>3</td>\n",
       "      <td>1003</td>\n",
       "      <td>23</td>\n",
       "      <td>NaN</td>\n",
       "      <td>Москва</td>\n",
       "      <td>Белла</td>\n",
       "      <td>Белякова</td>\n",
       "      <td>2018-08-17</td>\n",
       "      <td>ultra</td>\n",
       "    </tr>\n",
       "    <tr>\n",
       "      <td>4</td>\n",
       "      <td>1004</td>\n",
       "      <td>68</td>\n",
       "      <td>NaN</td>\n",
       "      <td>Новокузнецк</td>\n",
       "      <td>Татьяна</td>\n",
       "      <td>Авдеенко</td>\n",
       "      <td>2018-05-14</td>\n",
       "      <td>ultra</td>\n",
       "    </tr>\n",
       "  </tbody>\n",
       "</table>\n",
       "</div>"
      ],
      "text/plain": [
       "   user_id  age churn_date         city first_name  last_name    reg_date  \\\n",
       "0     1000   52        NaN    Краснодар     Рафаил  Верещагин  2018-05-25   \n",
       "1     1001   41        NaN       Москва       Иван       Ежов  2018-11-01   \n",
       "2     1002   59        NaN  Стерлитамак    Евгений  Абрамович  2018-06-17   \n",
       "3     1003   23        NaN       Москва      Белла   Белякова  2018-08-17   \n",
       "4     1004   68        NaN  Новокузнецк    Татьяна   Авдеенко  2018-05-14   \n",
       "\n",
       "  tariff  \n",
       "0  ultra  \n",
       "1  smart  \n",
       "2  smart  \n",
       "3  ultra  \n",
       "4  ultra  "
      ]
     },
     "execution_count": 10,
     "metadata": {},
     "output_type": "execute_result"
    }
   ],
   "source": [
    "users.head()"
   ]
  },
  {
   "cell_type": "code",
   "execution_count": 11,
   "metadata": {},
   "outputs": [],
   "source": [
    "tariffs = pd.read_csv('https://code.s3.yandex.net/datasets/tariffs.csv')"
   ]
  },
  {
   "cell_type": "code",
   "execution_count": 12,
   "metadata": {},
   "outputs": [
    {
     "data": {
      "text/html": [
       "<div>\n",
       "<style scoped>\n",
       "    .dataframe tbody tr th:only-of-type {\n",
       "        vertical-align: middle;\n",
       "    }\n",
       "\n",
       "    .dataframe tbody tr th {\n",
       "        vertical-align: top;\n",
       "    }\n",
       "\n",
       "    .dataframe thead th {\n",
       "        text-align: right;\n",
       "    }\n",
       "</style>\n",
       "<table border=\"1\" class=\"dataframe\">\n",
       "  <thead>\n",
       "    <tr style=\"text-align: right;\">\n",
       "      <th></th>\n",
       "      <th>messages_included</th>\n",
       "      <th>mb_per_month_included</th>\n",
       "      <th>minutes_included</th>\n",
       "      <th>rub_monthly_fee</th>\n",
       "      <th>rub_per_gb</th>\n",
       "      <th>rub_per_message</th>\n",
       "      <th>rub_per_minute</th>\n",
       "      <th>tariff_name</th>\n",
       "    </tr>\n",
       "  </thead>\n",
       "  <tbody>\n",
       "    <tr>\n",
       "      <td>0</td>\n",
       "      <td>50</td>\n",
       "      <td>15360</td>\n",
       "      <td>500</td>\n",
       "      <td>550</td>\n",
       "      <td>200</td>\n",
       "      <td>3</td>\n",
       "      <td>3</td>\n",
       "      <td>smart</td>\n",
       "    </tr>\n",
       "    <tr>\n",
       "      <td>1</td>\n",
       "      <td>1000</td>\n",
       "      <td>30720</td>\n",
       "      <td>3000</td>\n",
       "      <td>1950</td>\n",
       "      <td>150</td>\n",
       "      <td>1</td>\n",
       "      <td>1</td>\n",
       "      <td>ultra</td>\n",
       "    </tr>\n",
       "  </tbody>\n",
       "</table>\n",
       "</div>"
      ],
      "text/plain": [
       "   messages_included  mb_per_month_included  minutes_included  \\\n",
       "0                 50                  15360               500   \n",
       "1               1000                  30720              3000   \n",
       "\n",
       "   rub_monthly_fee  rub_per_gb  rub_per_message  rub_per_minute tariff_name  \n",
       "0              550         200                3               3       smart  \n",
       "1             1950         150                1               1       ultra  "
      ]
     },
     "execution_count": 12,
     "metadata": {},
     "output_type": "execute_result"
    }
   ],
   "source": [
    "tariffs.head()"
   ]
  },
  {
   "cell_type": "markdown",
   "metadata": {},
   "source": [
    "Изменим название столбца \"tariff_name\", чтобы он был одинаковый с таблицей users (поможет в дальнейшем объединении таблиц)"
   ]
  },
  {
   "cell_type": "code",
   "execution_count": 13,
   "metadata": {},
   "outputs": [],
   "source": [
    "tariffs = tariffs.rename(columns={'tariff_name':'tariff'})"
   ]
  },
  {
   "cell_type": "code",
   "execution_count": 14,
   "metadata": {},
   "outputs": [
    {
     "name": "stdout",
     "output_type": "stream",
     "text": [
      "<class 'pandas.core.frame.DataFrame'>\n",
      "RangeIndex: 202607 entries, 0 to 202606\n",
      "Data columns (total 4 columns):\n",
      "id           202607 non-null object\n",
      "call_date    202607 non-null object\n",
      "duration     202607 non-null float64\n",
      "user_id      202607 non-null int64\n",
      "dtypes: float64(1), int64(1), object(2)\n",
      "memory usage: 6.2+ MB\n",
      "None\n",
      "\n",
      "<class 'pandas.core.frame.DataFrame'>\n",
      "Int64Index: 149396 entries, 0 to 149395\n",
      "Data columns (total 4 columns):\n",
      "id              149396 non-null object\n",
      "mb_used         149396 non-null float64\n",
      "session_date    149396 non-null object\n",
      "user_id         149396 non-null int64\n",
      "dtypes: float64(1), int64(1), object(2)\n",
      "memory usage: 5.7+ MB\n",
      "None\n",
      "\n",
      "<class 'pandas.core.frame.DataFrame'>\n",
      "RangeIndex: 123036 entries, 0 to 123035\n",
      "Data columns (total 3 columns):\n",
      "id              123036 non-null object\n",
      "message_date    123036 non-null object\n",
      "user_id         123036 non-null int64\n",
      "dtypes: int64(1), object(2)\n",
      "memory usage: 2.8+ MB\n",
      "None\n",
      "\n",
      "<class 'pandas.core.frame.DataFrame'>\n",
      "RangeIndex: 500 entries, 0 to 499\n",
      "Data columns (total 8 columns):\n",
      "user_id       500 non-null int64\n",
      "age           500 non-null int64\n",
      "churn_date    38 non-null object\n",
      "city          500 non-null object\n",
      "first_name    500 non-null object\n",
      "last_name     500 non-null object\n",
      "reg_date      500 non-null object\n",
      "tariff        500 non-null object\n",
      "dtypes: int64(2), object(6)\n",
      "memory usage: 31.4+ KB\n",
      "None\n",
      "\n",
      "<class 'pandas.core.frame.DataFrame'>\n",
      "RangeIndex: 2 entries, 0 to 1\n",
      "Data columns (total 8 columns):\n",
      "messages_included        2 non-null int64\n",
      "mb_per_month_included    2 non-null int64\n",
      "minutes_included         2 non-null int64\n",
      "rub_monthly_fee          2 non-null int64\n",
      "rub_per_gb               2 non-null int64\n",
      "rub_per_message          2 non-null int64\n",
      "rub_per_minute           2 non-null int64\n",
      "tariff                   2 non-null object\n",
      "dtypes: int64(7), object(1)\n",
      "memory usage: 256.0+ bytes\n",
      "None\n",
      "\n"
     ]
    }
   ],
   "source": [
    "for data in [calls, internet, messages, users, tariffs]: \n",
    "    print(data.info(), end='\\n\\n')"
   ]
  },
  {
   "cell_type": "markdown",
   "metadata": {},
   "source": [
    "Датасет содержит данные по 500 клиентам: \n",
    "- потребуется заменить тип данных у столбцов с датой и временем\n",
    "- округлить значения минут разговора и мегабайт использованного трафика в большую сторону, так как тарифы считаются по минутам и мегабайтам.\n",
    "- после объединения данных (сводная таблица по звонкам, по сообщениям и интернет-трафику) возникнут пропущенные значения (возможно, в каком-то месяце не было сообщений, но были звонки и использовался интернет). Заменим их на нули."
   ]
  },
  {
   "cell_type": "code",
   "execution_count": 15,
   "metadata": {},
   "outputs": [
    {
     "name": "stdout",
     "output_type": "stream",
     "text": [
      "id           0.0\n",
      "call_date    0.0\n",
      "duration     0.0\n",
      "user_id      0.0\n",
      "dtype: float64\n",
      "\n",
      "id              0.0\n",
      "mb_used         0.0\n",
      "session_date    0.0\n",
      "user_id         0.0\n",
      "dtype: float64\n",
      "\n",
      "id              0.0\n",
      "message_date    0.0\n",
      "user_id         0.0\n",
      "dtype: float64\n",
      "\n",
      "user_id       0.000\n",
      "age           0.000\n",
      "churn_date    0.924\n",
      "city          0.000\n",
      "first_name    0.000\n",
      "last_name     0.000\n",
      "reg_date      0.000\n",
      "tariff        0.000\n",
      "dtype: float64\n",
      "\n",
      "messages_included        0.0\n",
      "mb_per_month_included    0.0\n",
      "minutes_included         0.0\n",
      "rub_monthly_fee          0.0\n",
      "rub_per_gb               0.0\n",
      "rub_per_message          0.0\n",
      "rub_per_minute           0.0\n",
      "tariff                   0.0\n",
      "dtype: float64\n",
      "\n"
     ]
    }
   ],
   "source": [
    "for data in [calls, internet, messages, users, tariffs]: \n",
    "    print(data.isna().mean(), end='\\n\\n')"
   ]
  },
  {
   "cell_type": "markdown",
   "metadata": {},
   "source": [
    "### Вывод"
   ]
  },
  {
   "cell_type": "markdown",
   "metadata": {},
   "source": [
    "- Удалили какой-то странный столбец \"Unnamed: 0\" в таблице internet\n",
    "- Изменили название столбца \"tariff_name\" в таблице tariffs, чтобы он был одинаковый с таблицей users (поможет в дальнейшем объединении таблиц)\n",
    "- Датасет содержит данные по 500 клиентам:\n",
    "  - потребуется заменить тип данных у столбцов с датой и временем\n",
    "  - округлить значения минут разговора и мегабайт использованного трафика в большую сторону, так как тарифы считаются по минутам и мегабайтам.\n",
    "  - после объединения данных (сводная таблица по звонкам, по сообщениям и интернет-трафику) возникнут пропущенные значения (возможно, в каком-то месяце не было сообщений, но были звонки и использовался интернет). Заменим их на нули\n",
    "- Пропущены данные только в churn_date(дата прекращения пользования тарифом), а по условию \"если значение пропущено, то тариф ещё действовал на момент выгрузки данных)\""
   ]
  },
  {
   "cell_type": "markdown",
   "metadata": {},
   "source": [
    "## Подготовьте данные"
   ]
  },
  {
   "cell_type": "markdown",
   "metadata": {},
   "source": [
    "### Приведите данные к нужным типам"
   ]
  },
  {
   "cell_type": "markdown",
   "metadata": {},
   "source": [
    "Заменим тип данных, обозначающих дату, со строчного на временной:"
   ]
  },
  {
   "cell_type": "code",
   "execution_count": 16,
   "metadata": {},
   "outputs": [],
   "source": [
    "internet['session_date'] = pd.to_datetime(internet['session_date'], format='%Y-%m-%d')"
   ]
  },
  {
   "cell_type": "code",
   "execution_count": 17,
   "metadata": {},
   "outputs": [],
   "source": [
    "messages['message_date'] = pd.to_datetime(messages['message_date'], format='%Y-%m-%d')"
   ]
  },
  {
   "cell_type": "code",
   "execution_count": 18,
   "metadata": {},
   "outputs": [],
   "source": [
    "calls['call_date'] = pd.to_datetime(calls['call_date'], format='%Y-%m-%d')"
   ]
  },
  {
   "cell_type": "code",
   "execution_count": 19,
   "metadata": {},
   "outputs": [],
   "source": [
    "users['churn_date'] = pd.to_datetime(users['churn_date'], format='%Y-%m-%d')"
   ]
  },
  {
   "cell_type": "code",
   "execution_count": 20,
   "metadata": {},
   "outputs": [],
   "source": [
    "users['reg_date'] = pd.to_datetime(users['reg_date'], format='%Y-%m-%d')"
   ]
  },
  {
   "cell_type": "markdown",
   "metadata": {},
   "source": [
    "Изменим тип данных в user_id - приведём его к int:"
   ]
  },
  {
   "cell_type": "code",
   "execution_count": 21,
   "metadata": {},
   "outputs": [],
   "source": [
    "messages['user_id'] = messages['user_id'].astype('int')"
   ]
  },
  {
   "cell_type": "markdown",
   "metadata": {},
   "source": [
    "#### Вывод"
   ]
  },
  {
   "cell_type": "markdown",
   "metadata": {},
   "source": [
    "- Заменили тип данных, обозначающих дату, со строчного на временной\n",
    "- Изменим тип данных в user_id - приведём его к int"
   ]
  },
  {
   "cell_type": "markdown",
   "metadata": {},
   "source": [
    "### Найдите и исправьте ошибки в данных, если они есть"
   ]
  },
  {
   "cell_type": "markdown",
   "metadata": {},
   "source": [
    "- Поясните, какие ошибки вы нашли и как их исправили. В данных вы найдёте звонки с нулевой продолжительностью. Это не ошибка: нулями обозначены пропущенные звонки, поэтому их не нужно удалять"
   ]
  },
  {
   "cell_type": "markdown",
   "metadata": {},
   "source": [
    "#### Звонки"
   ]
  },
  {
   "cell_type": "markdown",
   "metadata": {},
   "source": [
    "Добавим столбец со значением месяца"
   ]
  },
  {
   "cell_type": "code",
   "execution_count": 22,
   "metadata": {},
   "outputs": [
    {
     "data": {
      "text/html": [
       "<div>\n",
       "<style scoped>\n",
       "    .dataframe tbody tr th:only-of-type {\n",
       "        vertical-align: middle;\n",
       "    }\n",
       "\n",
       "    .dataframe tbody tr th {\n",
       "        vertical-align: top;\n",
       "    }\n",
       "\n",
       "    .dataframe thead th {\n",
       "        text-align: right;\n",
       "    }\n",
       "</style>\n",
       "<table border=\"1\" class=\"dataframe\">\n",
       "  <thead>\n",
       "    <tr style=\"text-align: right;\">\n",
       "      <th></th>\n",
       "      <th>id</th>\n",
       "      <th>call_date</th>\n",
       "      <th>duration</th>\n",
       "      <th>user_id</th>\n",
       "    </tr>\n",
       "  </thead>\n",
       "  <tbody>\n",
       "    <tr>\n",
       "      <td>0</td>\n",
       "      <td>1000_0</td>\n",
       "      <td>2018-07-25</td>\n",
       "      <td>0.00</td>\n",
       "      <td>1000</td>\n",
       "    </tr>\n",
       "    <tr>\n",
       "      <td>1</td>\n",
       "      <td>1000_1</td>\n",
       "      <td>2018-08-17</td>\n",
       "      <td>0.00</td>\n",
       "      <td>1000</td>\n",
       "    </tr>\n",
       "    <tr>\n",
       "      <td>2</td>\n",
       "      <td>1000_2</td>\n",
       "      <td>2018-06-11</td>\n",
       "      <td>2.85</td>\n",
       "      <td>1000</td>\n",
       "    </tr>\n",
       "    <tr>\n",
       "      <td>3</td>\n",
       "      <td>1000_3</td>\n",
       "      <td>2018-09-21</td>\n",
       "      <td>13.80</td>\n",
       "      <td>1000</td>\n",
       "    </tr>\n",
       "    <tr>\n",
       "      <td>4</td>\n",
       "      <td>1000_4</td>\n",
       "      <td>2018-12-15</td>\n",
       "      <td>5.18</td>\n",
       "      <td>1000</td>\n",
       "    </tr>\n",
       "  </tbody>\n",
       "</table>\n",
       "</div>"
      ],
      "text/plain": [
       "       id  call_date  duration  user_id\n",
       "0  1000_0 2018-07-25      0.00     1000\n",
       "1  1000_1 2018-08-17      0.00     1000\n",
       "2  1000_2 2018-06-11      2.85     1000\n",
       "3  1000_3 2018-09-21     13.80     1000\n",
       "4  1000_4 2018-12-15      5.18     1000"
      ]
     },
     "execution_count": 22,
     "metadata": {},
     "output_type": "execute_result"
    }
   ],
   "source": [
    "calls.head()"
   ]
  },
  {
   "cell_type": "code",
   "execution_count": 23,
   "metadata": {},
   "outputs": [],
   "source": [
    "calls['id'] = calls['id'].astype('int')"
   ]
  },
  {
   "cell_type": "code",
   "execution_count": 24,
   "metadata": {},
   "outputs": [],
   "source": [
    "calls['month'] = calls['call_date'].dt.month"
   ]
  },
  {
   "cell_type": "markdown",
   "metadata": {},
   "source": [
    "Найдем количество звонков с нулевой длительностью:"
   ]
  },
  {
   "cell_type": "code",
   "execution_count": 25,
   "metadata": {},
   "outputs": [
    {
     "data": {
      "text/plain": [
       "39613"
      ]
     },
     "execution_count": 25,
     "metadata": {},
     "output_type": "execute_result"
    }
   ],
   "source": [
    "calls.loc[calls['duration'] == 0, 'duration'].value_counts()[0]"
   ]
  },
  {
   "cell_type": "markdown",
   "metadata": {},
   "source": [
    "Округлим все значения в большую сторону (т.к. тариф считается по минутам), а нулевые значения заменим на 1:"
   ]
  },
  {
   "cell_type": "code",
   "execution_count": 26,
   "metadata": {},
   "outputs": [],
   "source": [
    "def ceil_value(value):\n",
    "    return math.ceil(value)\n",
    "calls['duration'] = np.ceil(calls['duration'])"
   ]
  },
  {
   "cell_type": "code",
   "execution_count": 27,
   "metadata": {},
   "outputs": [],
   "source": [
    "calls.loc[calls['duration'] == 0, 'duration'] = 1"
   ]
  },
  {
   "cell_type": "markdown",
   "metadata": {},
   "source": [
    "#### Интернет"
   ]
  },
  {
   "cell_type": "code",
   "execution_count": 28,
   "metadata": {},
   "outputs": [
    {
     "data": {
      "text/html": [
       "<div>\n",
       "<style scoped>\n",
       "    .dataframe tbody tr th:only-of-type {\n",
       "        vertical-align: middle;\n",
       "    }\n",
       "\n",
       "    .dataframe tbody tr th {\n",
       "        vertical-align: top;\n",
       "    }\n",
       "\n",
       "    .dataframe thead th {\n",
       "        text-align: right;\n",
       "    }\n",
       "</style>\n",
       "<table border=\"1\" class=\"dataframe\">\n",
       "  <thead>\n",
       "    <tr style=\"text-align: right;\">\n",
       "      <th></th>\n",
       "      <th>id</th>\n",
       "      <th>mb_used</th>\n",
       "      <th>session_date</th>\n",
       "      <th>user_id</th>\n",
       "    </tr>\n",
       "  </thead>\n",
       "  <tbody>\n",
       "    <tr>\n",
       "      <td>0</td>\n",
       "      <td>1000_0</td>\n",
       "      <td>112.95</td>\n",
       "      <td>2018-11-25</td>\n",
       "      <td>1000</td>\n",
       "    </tr>\n",
       "    <tr>\n",
       "      <td>1</td>\n",
       "      <td>1000_1</td>\n",
       "      <td>1052.81</td>\n",
       "      <td>2018-09-07</td>\n",
       "      <td>1000</td>\n",
       "    </tr>\n",
       "    <tr>\n",
       "      <td>2</td>\n",
       "      <td>1000_2</td>\n",
       "      <td>1197.26</td>\n",
       "      <td>2018-06-25</td>\n",
       "      <td>1000</td>\n",
       "    </tr>\n",
       "    <tr>\n",
       "      <td>3</td>\n",
       "      <td>1000_3</td>\n",
       "      <td>550.27</td>\n",
       "      <td>2018-08-22</td>\n",
       "      <td>1000</td>\n",
       "    </tr>\n",
       "    <tr>\n",
       "      <td>4</td>\n",
       "      <td>1000_4</td>\n",
       "      <td>302.56</td>\n",
       "      <td>2018-09-24</td>\n",
       "      <td>1000</td>\n",
       "    </tr>\n",
       "  </tbody>\n",
       "</table>\n",
       "</div>"
      ],
      "text/plain": [
       "       id  mb_used session_date  user_id\n",
       "0  1000_0   112.95   2018-11-25     1000\n",
       "1  1000_1  1052.81   2018-09-07     1000\n",
       "2  1000_2  1197.26   2018-06-25     1000\n",
       "3  1000_3   550.27   2018-08-22     1000\n",
       "4  1000_4   302.56   2018-09-24     1000"
      ]
     },
     "execution_count": 28,
     "metadata": {},
     "output_type": "execute_result"
    }
   ],
   "source": [
    "internet.head()"
   ]
  },
  {
   "cell_type": "markdown",
   "metadata": {},
   "source": [
    "Создадим столбец с месяцем:"
   ]
  },
  {
   "cell_type": "code",
   "execution_count": 29,
   "metadata": {},
   "outputs": [],
   "source": [
    "internet['month'] = pd.DatetimeIndex(internet['session_date']).month"
   ]
  },
  {
   "cell_type": "code",
   "execution_count": 30,
   "metadata": {},
   "outputs": [],
   "source": [
    "internet['id'] = internet['id'].astype('int')"
   ]
  },
  {
   "cell_type": "code",
   "execution_count": 31,
   "metadata": {},
   "outputs": [
    {
     "data": {
      "text/html": [
       "<div>\n",
       "<style scoped>\n",
       "    .dataframe tbody tr th:only-of-type {\n",
       "        vertical-align: middle;\n",
       "    }\n",
       "\n",
       "    .dataframe tbody tr th {\n",
       "        vertical-align: top;\n",
       "    }\n",
       "\n",
       "    .dataframe thead th {\n",
       "        text-align: right;\n",
       "    }\n",
       "</style>\n",
       "<table border=\"1\" class=\"dataframe\">\n",
       "  <thead>\n",
       "    <tr style=\"text-align: right;\">\n",
       "      <th></th>\n",
       "      <th>id</th>\n",
       "      <th>mb_used</th>\n",
       "      <th>session_date</th>\n",
       "      <th>user_id</th>\n",
       "      <th>month</th>\n",
       "    </tr>\n",
       "  </thead>\n",
       "  <tbody>\n",
       "    <tr>\n",
       "      <td>0</td>\n",
       "      <td>10000</td>\n",
       "      <td>112.95</td>\n",
       "      <td>2018-11-25</td>\n",
       "      <td>1000</td>\n",
       "      <td>11</td>\n",
       "    </tr>\n",
       "    <tr>\n",
       "      <td>1</td>\n",
       "      <td>10001</td>\n",
       "      <td>1052.81</td>\n",
       "      <td>2018-09-07</td>\n",
       "      <td>1000</td>\n",
       "      <td>9</td>\n",
       "    </tr>\n",
       "    <tr>\n",
       "      <td>2</td>\n",
       "      <td>10002</td>\n",
       "      <td>1197.26</td>\n",
       "      <td>2018-06-25</td>\n",
       "      <td>1000</td>\n",
       "      <td>6</td>\n",
       "    </tr>\n",
       "    <tr>\n",
       "      <td>3</td>\n",
       "      <td>10003</td>\n",
       "      <td>550.27</td>\n",
       "      <td>2018-08-22</td>\n",
       "      <td>1000</td>\n",
       "      <td>8</td>\n",
       "    </tr>\n",
       "    <tr>\n",
       "      <td>4</td>\n",
       "      <td>10004</td>\n",
       "      <td>302.56</td>\n",
       "      <td>2018-09-24</td>\n",
       "      <td>1000</td>\n",
       "      <td>9</td>\n",
       "    </tr>\n",
       "  </tbody>\n",
       "</table>\n",
       "</div>"
      ],
      "text/plain": [
       "      id  mb_used session_date  user_id  month\n",
       "0  10000   112.95   2018-11-25     1000     11\n",
       "1  10001  1052.81   2018-09-07     1000      9\n",
       "2  10002  1197.26   2018-06-25     1000      6\n",
       "3  10003   550.27   2018-08-22     1000      8\n",
       "4  10004   302.56   2018-09-24     1000      9"
      ]
     },
     "execution_count": 31,
     "metadata": {},
     "output_type": "execute_result"
    }
   ],
   "source": [
    "internet.head()"
   ]
  },
  {
   "cell_type": "code",
   "execution_count": 32,
   "metadata": {},
   "outputs": [
    {
     "data": {
      "text/plain": [
       "id              0.0\n",
       "mb_used         0.0\n",
       "session_date    0.0\n",
       "user_id         0.0\n",
       "month           0.0\n",
       "dtype: float64"
      ]
     },
     "execution_count": 32,
     "metadata": {},
     "output_type": "execute_result"
    }
   ],
   "source": [
    "internet.isna().mean()"
   ]
  },
  {
   "cell_type": "code",
   "execution_count": 33,
   "metadata": {},
   "outputs": [
    {
     "data": {
      "text/plain": [
       "0"
      ]
     },
     "execution_count": 33,
     "metadata": {},
     "output_type": "execute_result"
    }
   ],
   "source": [
    "internet.duplicated().sum()"
   ]
  },
  {
   "cell_type": "markdown",
   "metadata": {},
   "source": [
    "Посмотрим на гистограмму распределения использования интернет-трафика в сессиях:"
   ]
  },
  {
   "cell_type": "code",
   "execution_count": 34,
   "metadata": {},
   "outputs": [
    {
     "data": {
      "image/png": "[encoded data removed]",
      "text/plain": [
       "<Figure size 432x288 with 1 Axes>"
      ]
     },
     "metadata": {
      "needs_background": "light"
     },
     "output_type": "display_data"
    }
   ],
   "source": [
    "internet['mb_used'].plot(kind='hist', ec='black', bins=50)\n",
    "plt.show()"
   ]
  },
  {
   "cell_type": "markdown",
   "metadata": {},
   "source": [
    "Посмотрим на строки с нулевым трафиком:"
   ]
  },
  {
   "cell_type": "code",
   "execution_count": 35,
   "metadata": {},
   "outputs": [
    {
     "data": {
      "text/html": [
       "<div>\n",
       "<style scoped>\n",
       "    .dataframe tbody tr th:only-of-type {\n",
       "        vertical-align: middle;\n",
       "    }\n",
       "\n",
       "    .dataframe tbody tr th {\n",
       "        vertical-align: top;\n",
       "    }\n",
       "\n",
       "    .dataframe thead th {\n",
       "        text-align: right;\n",
       "    }\n",
       "</style>\n",
       "<table border=\"1\" class=\"dataframe\">\n",
       "  <thead>\n",
       "    <tr style=\"text-align: right;\">\n",
       "      <th></th>\n",
       "      <th>id</th>\n",
       "      <th>mb_used</th>\n",
       "      <th>session_date</th>\n",
       "      <th>user_id</th>\n",
       "      <th>month</th>\n",
       "    </tr>\n",
       "  </thead>\n",
       "  <tbody>\n",
       "    <tr>\n",
       "      <td>11</td>\n",
       "      <td>100011</td>\n",
       "      <td>0.0</td>\n",
       "      <td>2018-08-28</td>\n",
       "      <td>1000</td>\n",
       "      <td>8</td>\n",
       "    </tr>\n",
       "    <tr>\n",
       "      <td>38</td>\n",
       "      <td>100038</td>\n",
       "      <td>0.0</td>\n",
       "      <td>2018-11-27</td>\n",
       "      <td>1000</td>\n",
       "      <td>11</td>\n",
       "    </tr>\n",
       "    <tr>\n",
       "      <td>46</td>\n",
       "      <td>100046</td>\n",
       "      <td>0.0</td>\n",
       "      <td>2018-06-30</td>\n",
       "      <td>1000</td>\n",
       "      <td>6</td>\n",
       "    </tr>\n",
       "    <tr>\n",
       "      <td>67</td>\n",
       "      <td>100067</td>\n",
       "      <td>0.0</td>\n",
       "      <td>2018-06-16</td>\n",
       "      <td>1000</td>\n",
       "      <td>6</td>\n",
       "    </tr>\n",
       "    <tr>\n",
       "      <td>72</td>\n",
       "      <td>100072</td>\n",
       "      <td>0.0</td>\n",
       "      <td>2018-06-15</td>\n",
       "      <td>1000</td>\n",
       "      <td>6</td>\n",
       "    </tr>\n",
       "    <tr>\n",
       "      <td>...</td>\n",
       "      <td>...</td>\n",
       "      <td>...</td>\n",
       "      <td>...</td>\n",
       "      <td>...</td>\n",
       "      <td>...</td>\n",
       "    </tr>\n",
       "    <tr>\n",
       "      <td>149380</td>\n",
       "      <td>1499141</td>\n",
       "      <td>0.0</td>\n",
       "      <td>2018-12-11</td>\n",
       "      <td>1499</td>\n",
       "      <td>12</td>\n",
       "    </tr>\n",
       "    <tr>\n",
       "      <td>149381</td>\n",
       "      <td>1499142</td>\n",
       "      <td>0.0</td>\n",
       "      <td>2018-11-01</td>\n",
       "      <td>1499</td>\n",
       "      <td>11</td>\n",
       "    </tr>\n",
       "    <tr>\n",
       "      <td>149383</td>\n",
       "      <td>1499144</td>\n",
       "      <td>0.0</td>\n",
       "      <td>2018-11-27</td>\n",
       "      <td>1499</td>\n",
       "      <td>11</td>\n",
       "    </tr>\n",
       "    <tr>\n",
       "      <td>149386</td>\n",
       "      <td>1499147</td>\n",
       "      <td>0.0</td>\n",
       "      <td>2018-10-21</td>\n",
       "      <td>1499</td>\n",
       "      <td>10</td>\n",
       "    </tr>\n",
       "    <tr>\n",
       "      <td>149393</td>\n",
       "      <td>1499154</td>\n",
       "      <td>0.0</td>\n",
       "      <td>2018-10-27</td>\n",
       "      <td>1499</td>\n",
       "      <td>10</td>\n",
       "    </tr>\n",
       "  </tbody>\n",
       "</table>\n",
       "<p>19598 rows × 5 columns</p>\n",
       "</div>"
      ],
      "text/plain": [
       "             id  mb_used session_date  user_id  month\n",
       "11       100011      0.0   2018-08-28     1000      8\n",
       "38       100038      0.0   2018-11-27     1000     11\n",
       "46       100046      0.0   2018-06-30     1000      6\n",
       "67       100067      0.0   2018-06-16     1000      6\n",
       "72       100072      0.0   2018-06-15     1000      6\n",
       "...         ...      ...          ...      ...    ...\n",
       "149380  1499141      0.0   2018-12-11     1499     12\n",
       "149381  1499142      0.0   2018-11-01     1499     11\n",
       "149383  1499144      0.0   2018-11-27     1499     11\n",
       "149386  1499147      0.0   2018-10-21     1499     10\n",
       "149393  1499154      0.0   2018-10-27     1499     10\n",
       "\n",
       "[19598 rows x 5 columns]"
      ]
     },
     "execution_count": 35,
     "metadata": {},
     "output_type": "execute_result"
    }
   ],
   "source": [
    "internet.query('mb_used == 0')"
   ]
  },
  {
   "cell_type": "markdown",
   "metadata": {},
   "source": [
    "Таких строк аж 20000. Это сессии, когда подключение к интернету было включено, но в дальнейшем ни одной операции произведено не было (например, случаи, когда появляется и сразу пропадает связь)."
   ]
  },
  {
   "cell_type": "markdown",
   "metadata": {},
   "source": [
    "Эти строки необходимо исключить из датафрейма:"
   ]
  },
  {
   "cell_type": "code",
   "execution_count": 36,
   "metadata": {},
   "outputs": [],
   "source": [
    "internet['mb_used'] = internet['mb_used'].replace(0, np.NaN)\n",
    "internet = internet.dropna()"
   ]
  },
  {
   "cell_type": "code",
   "execution_count": 118,
   "metadata": {},
   "outputs": [
    {
     "data": {
      "image/png": "[encoded data removed]",
      "text/plain": [
       "<Figure size 432x288 with 1 Axes>"
      ]
     },
     "metadata": {
      "needs_background": "light"
     },
     "output_type": "display_data"
    }
   ],
   "source": [
    "internet['mb_used'].plot(kind='hist', ec='black', bins=50)\n",
    "plt.show()"
   ]
  },
  {
   "cell_type": "markdown",
   "metadata": {},
   "source": [
    "Создадим таблицу с гб, для дальнейшего удобства исследования:"
   ]
  },
  {
   "cell_type": "code",
   "execution_count": 38,
   "metadata": {},
   "outputs": [],
   "source": [
    "internet['gb_used'] = round(internet['mb_used']/1024,2)"
   ]
  },
  {
   "cell_type": "code",
   "execution_count": 39,
   "metadata": {},
   "outputs": [
    {
     "data": {
      "text/html": [
       "<div>\n",
       "<style scoped>\n",
       "    .dataframe tbody tr th:only-of-type {\n",
       "        vertical-align: middle;\n",
       "    }\n",
       "\n",
       "    .dataframe tbody tr th {\n",
       "        vertical-align: top;\n",
       "    }\n",
       "\n",
       "    .dataframe thead th {\n",
       "        text-align: right;\n",
       "    }\n",
       "</style>\n",
       "<table border=\"1\" class=\"dataframe\">\n",
       "  <thead>\n",
       "    <tr style=\"text-align: right;\">\n",
       "      <th></th>\n",
       "      <th>id</th>\n",
       "      <th>mb_used</th>\n",
       "      <th>session_date</th>\n",
       "      <th>user_id</th>\n",
       "      <th>month</th>\n",
       "      <th>gb_used</th>\n",
       "    </tr>\n",
       "  </thead>\n",
       "  <tbody>\n",
       "    <tr>\n",
       "      <td>0</td>\n",
       "      <td>10000</td>\n",
       "      <td>112.95</td>\n",
       "      <td>2018-11-25</td>\n",
       "      <td>1000</td>\n",
       "      <td>11</td>\n",
       "      <td>0.11</td>\n",
       "    </tr>\n",
       "    <tr>\n",
       "      <td>1</td>\n",
       "      <td>10001</td>\n",
       "      <td>1052.81</td>\n",
       "      <td>2018-09-07</td>\n",
       "      <td>1000</td>\n",
       "      <td>9</td>\n",
       "      <td>1.03</td>\n",
       "    </tr>\n",
       "    <tr>\n",
       "      <td>2</td>\n",
       "      <td>10002</td>\n",
       "      <td>1197.26</td>\n",
       "      <td>2018-06-25</td>\n",
       "      <td>1000</td>\n",
       "      <td>6</td>\n",
       "      <td>1.17</td>\n",
       "    </tr>\n",
       "    <tr>\n",
       "      <td>3</td>\n",
       "      <td>10003</td>\n",
       "      <td>550.27</td>\n",
       "      <td>2018-08-22</td>\n",
       "      <td>1000</td>\n",
       "      <td>8</td>\n",
       "      <td>0.54</td>\n",
       "    </tr>\n",
       "    <tr>\n",
       "      <td>4</td>\n",
       "      <td>10004</td>\n",
       "      <td>302.56</td>\n",
       "      <td>2018-09-24</td>\n",
       "      <td>1000</td>\n",
       "      <td>9</td>\n",
       "      <td>0.30</td>\n",
       "    </tr>\n",
       "  </tbody>\n",
       "</table>\n",
       "</div>"
      ],
      "text/plain": [
       "      id  mb_used session_date  user_id  month  gb_used\n",
       "0  10000   112.95   2018-11-25     1000     11     0.11\n",
       "1  10001  1052.81   2018-09-07     1000      9     1.03\n",
       "2  10002  1197.26   2018-06-25     1000      6     1.17\n",
       "3  10003   550.27   2018-08-22     1000      8     0.54\n",
       "4  10004   302.56   2018-09-24     1000      9     0.30"
      ]
     },
     "execution_count": 39,
     "metadata": {},
     "output_type": "execute_result"
    }
   ],
   "source": [
    "internet.head(5)"
   ]
  },
  {
   "cell_type": "markdown",
   "metadata": {},
   "source": [
    "#### Сообщения"
   ]
  },
  {
   "cell_type": "code",
   "execution_count": 40,
   "metadata": {},
   "outputs": [
    {
     "data": {
      "text/html": [
       "<div>\n",
       "<style scoped>\n",
       "    .dataframe tbody tr th:only-of-type {\n",
       "        vertical-align: middle;\n",
       "    }\n",
       "\n",
       "    .dataframe tbody tr th {\n",
       "        vertical-align: top;\n",
       "    }\n",
       "\n",
       "    .dataframe thead th {\n",
       "        text-align: right;\n",
       "    }\n",
       "</style>\n",
       "<table border=\"1\" class=\"dataframe\">\n",
       "  <thead>\n",
       "    <tr style=\"text-align: right;\">\n",
       "      <th></th>\n",
       "      <th>id</th>\n",
       "      <th>message_date</th>\n",
       "      <th>user_id</th>\n",
       "    </tr>\n",
       "  </thead>\n",
       "  <tbody>\n",
       "    <tr>\n",
       "      <td>0</td>\n",
       "      <td>1000_0</td>\n",
       "      <td>2018-06-27</td>\n",
       "      <td>1000</td>\n",
       "    </tr>\n",
       "    <tr>\n",
       "      <td>1</td>\n",
       "      <td>1000_1</td>\n",
       "      <td>2018-10-08</td>\n",
       "      <td>1000</td>\n",
       "    </tr>\n",
       "    <tr>\n",
       "      <td>2</td>\n",
       "      <td>1000_2</td>\n",
       "      <td>2018-08-04</td>\n",
       "      <td>1000</td>\n",
       "    </tr>\n",
       "    <tr>\n",
       "      <td>3</td>\n",
       "      <td>1000_3</td>\n",
       "      <td>2018-06-16</td>\n",
       "      <td>1000</td>\n",
       "    </tr>\n",
       "    <tr>\n",
       "      <td>4</td>\n",
       "      <td>1000_4</td>\n",
       "      <td>2018-12-05</td>\n",
       "      <td>1000</td>\n",
       "    </tr>\n",
       "  </tbody>\n",
       "</table>\n",
       "</div>"
      ],
      "text/plain": [
       "       id message_date  user_id\n",
       "0  1000_0   2018-06-27     1000\n",
       "1  1000_1   2018-10-08     1000\n",
       "2  1000_2   2018-08-04     1000\n",
       "3  1000_3   2018-06-16     1000\n",
       "4  1000_4   2018-12-05     1000"
      ]
     },
     "execution_count": 40,
     "metadata": {},
     "output_type": "execute_result"
    }
   ],
   "source": [
    "messages.head()"
   ]
  },
  {
   "cell_type": "code",
   "execution_count": 41,
   "metadata": {},
   "outputs": [],
   "source": [
    "messages['id'] = messages['id'].astype('int')"
   ]
  },
  {
   "cell_type": "markdown",
   "metadata": {},
   "source": [
    "Cоздадим доп столбец с месяцем:"
   ]
  },
  {
   "cell_type": "code",
   "execution_count": 42,
   "metadata": {},
   "outputs": [],
   "source": [
    "messages['month'] = pd.DatetimeIndex(messages['message_date']).month"
   ]
  },
  {
   "cell_type": "markdown",
   "metadata": {},
   "source": [
    "#### Пользователи"
   ]
  },
  {
   "cell_type": "code",
   "execution_count": 43,
   "metadata": {},
   "outputs": [
    {
     "data": {
      "text/html": [
       "<div>\n",
       "<style scoped>\n",
       "    .dataframe tbody tr th:only-of-type {\n",
       "        vertical-align: middle;\n",
       "    }\n",
       "\n",
       "    .dataframe tbody tr th {\n",
       "        vertical-align: top;\n",
       "    }\n",
       "\n",
       "    .dataframe thead th {\n",
       "        text-align: right;\n",
       "    }\n",
       "</style>\n",
       "<table border=\"1\" class=\"dataframe\">\n",
       "  <thead>\n",
       "    <tr style=\"text-align: right;\">\n",
       "      <th></th>\n",
       "      <th>user_id</th>\n",
       "      <th>age</th>\n",
       "      <th>churn_date</th>\n",
       "      <th>city</th>\n",
       "      <th>first_name</th>\n",
       "      <th>last_name</th>\n",
       "      <th>reg_date</th>\n",
       "      <th>tariff</th>\n",
       "    </tr>\n",
       "  </thead>\n",
       "  <tbody>\n",
       "    <tr>\n",
       "      <td>0</td>\n",
       "      <td>1000</td>\n",
       "      <td>52</td>\n",
       "      <td>NaT</td>\n",
       "      <td>Краснодар</td>\n",
       "      <td>Рафаил</td>\n",
       "      <td>Верещагин</td>\n",
       "      <td>2018-05-25</td>\n",
       "      <td>ultra</td>\n",
       "    </tr>\n",
       "    <tr>\n",
       "      <td>1</td>\n",
       "      <td>1001</td>\n",
       "      <td>41</td>\n",
       "      <td>NaT</td>\n",
       "      <td>Москва</td>\n",
       "      <td>Иван</td>\n",
       "      <td>Ежов</td>\n",
       "      <td>2018-11-01</td>\n",
       "      <td>smart</td>\n",
       "    </tr>\n",
       "    <tr>\n",
       "      <td>2</td>\n",
       "      <td>1002</td>\n",
       "      <td>59</td>\n",
       "      <td>NaT</td>\n",
       "      <td>Стерлитамак</td>\n",
       "      <td>Евгений</td>\n",
       "      <td>Абрамович</td>\n",
       "      <td>2018-06-17</td>\n",
       "      <td>smart</td>\n",
       "    </tr>\n",
       "    <tr>\n",
       "      <td>3</td>\n",
       "      <td>1003</td>\n",
       "      <td>23</td>\n",
       "      <td>NaT</td>\n",
       "      <td>Москва</td>\n",
       "      <td>Белла</td>\n",
       "      <td>Белякова</td>\n",
       "      <td>2018-08-17</td>\n",
       "      <td>ultra</td>\n",
       "    </tr>\n",
       "    <tr>\n",
       "      <td>4</td>\n",
       "      <td>1004</td>\n",
       "      <td>68</td>\n",
       "      <td>NaT</td>\n",
       "      <td>Новокузнецк</td>\n",
       "      <td>Татьяна</td>\n",
       "      <td>Авдеенко</td>\n",
       "      <td>2018-05-14</td>\n",
       "      <td>ultra</td>\n",
       "    </tr>\n",
       "  </tbody>\n",
       "</table>\n",
       "</div>"
      ],
      "text/plain": [
       "   user_id  age churn_date         city first_name  last_name   reg_date  \\\n",
       "0     1000   52        NaT    Краснодар     Рафаил  Верещагин 2018-05-25   \n",
       "1     1001   41        NaT       Москва       Иван       Ежов 2018-11-01   \n",
       "2     1002   59        NaT  Стерлитамак    Евгений  Абрамович 2018-06-17   \n",
       "3     1003   23        NaT       Москва      Белла   Белякова 2018-08-17   \n",
       "4     1004   68        NaT  Новокузнецк    Татьяна   Авдеенко 2018-05-14   \n",
       "\n",
       "  tariff  \n",
       "0  ultra  \n",
       "1  smart  \n",
       "2  smart  \n",
       "3  ultra  \n",
       "4  ultra  "
      ]
     },
     "execution_count": 43,
     "metadata": {},
     "output_type": "execute_result"
    }
   ],
   "source": [
    "users.head()"
   ]
  },
  {
   "cell_type": "markdown",
   "metadata": {},
   "source": [
    "Всё нормально"
   ]
  },
  {
   "cell_type": "markdown",
   "metadata": {},
   "source": [
    "#### Посчитайте для каждого пользователя: "
   ]
  },
  {
   "cell_type": "markdown",
   "metadata": {},
   "source": [
    "- количество сделанных звонков и израсходованных минут разговора по месяцам,\n",
    "- количество отправленных сообщений по месяцам,\n",
    "- объем израсходованного интернет-трафика по месяцам, \n",
    "- помесячную выручку с каждого пользователя (вычтите бесплатный лимит из суммарного количества звонков, сообщений и интернет-трафика; остаток умножьте на значение из тарифного плана; прибавьте абонентскую плату, соответствующую тарифному плану)"
   ]
  },
  {
   "cell_type": "markdown",
   "metadata": {},
   "source": [
    "**Количество сделанных звонков и израсходованных минут разговора по месяцам**:"
   ]
  },
  {
   "cell_type": "code",
   "execution_count": 44,
   "metadata": {},
   "outputs": [],
   "source": [
    "calls['month'] = calls['call_date'].dt.month"
   ]
  },
  {
   "cell_type": "code",
   "execution_count": 45,
   "metadata": {},
   "outputs": [
    {
     "data": {
      "text/html": [
       "<div>\n",
       "<style scoped>\n",
       "    .dataframe tbody tr th:only-of-type {\n",
       "        vertical-align: middle;\n",
       "    }\n",
       "\n",
       "    .dataframe tbody tr th {\n",
       "        vertical-align: top;\n",
       "    }\n",
       "\n",
       "    .dataframe thead th {\n",
       "        text-align: right;\n",
       "    }\n",
       "</style>\n",
       "<table border=\"1\" class=\"dataframe\">\n",
       "  <thead>\n",
       "    <tr style=\"text-align: right;\">\n",
       "      <th></th>\n",
       "      <th>id</th>\n",
       "      <th>call_date</th>\n",
       "      <th>duration</th>\n",
       "      <th>user_id</th>\n",
       "      <th>month</th>\n",
       "    </tr>\n",
       "  </thead>\n",
       "  <tbody>\n",
       "    <tr>\n",
       "      <td>0</td>\n",
       "      <td>10000</td>\n",
       "      <td>2018-07-25</td>\n",
       "      <td>1.0</td>\n",
       "      <td>1000</td>\n",
       "      <td>7</td>\n",
       "    </tr>\n",
       "    <tr>\n",
       "      <td>1</td>\n",
       "      <td>10001</td>\n",
       "      <td>2018-08-17</td>\n",
       "      <td>1.0</td>\n",
       "      <td>1000</td>\n",
       "      <td>8</td>\n",
       "    </tr>\n",
       "    <tr>\n",
       "      <td>2</td>\n",
       "      <td>10002</td>\n",
       "      <td>2018-06-11</td>\n",
       "      <td>3.0</td>\n",
       "      <td>1000</td>\n",
       "      <td>6</td>\n",
       "    </tr>\n",
       "    <tr>\n",
       "      <td>3</td>\n",
       "      <td>10003</td>\n",
       "      <td>2018-09-21</td>\n",
       "      <td>14.0</td>\n",
       "      <td>1000</td>\n",
       "      <td>9</td>\n",
       "    </tr>\n",
       "    <tr>\n",
       "      <td>4</td>\n",
       "      <td>10004</td>\n",
       "      <td>2018-12-15</td>\n",
       "      <td>6.0</td>\n",
       "      <td>1000</td>\n",
       "      <td>12</td>\n",
       "    </tr>\n",
       "  </tbody>\n",
       "</table>\n",
       "</div>"
      ],
      "text/plain": [
       "      id  call_date  duration  user_id  month\n",
       "0  10000 2018-07-25       1.0     1000      7\n",
       "1  10001 2018-08-17       1.0     1000      8\n",
       "2  10002 2018-06-11       3.0     1000      6\n",
       "3  10003 2018-09-21      14.0     1000      9\n",
       "4  10004 2018-12-15       6.0     1000     12"
      ]
     },
     "execution_count": 45,
     "metadata": {},
     "output_type": "execute_result"
    }
   ],
   "source": [
    "calls.head()"
   ]
  },
  {
   "cell_type": "code",
   "execution_count": 46,
   "metadata": {},
   "outputs": [],
   "source": [
    "amount_calls = calls.groupby(['user_id', 'month']).agg({'duration':'sum', 'id':'count'}).reset_index().rename(columns={'duration':'month_calls_duration','id':'calls_in_month'})"
   ]
  },
  {
   "cell_type": "code",
   "execution_count": 47,
   "metadata": {},
   "outputs": [
    {
     "data": {
      "text/html": [
       "<div>\n",
       "<style scoped>\n",
       "    .dataframe tbody tr th:only-of-type {\n",
       "        vertical-align: middle;\n",
       "    }\n",
       "\n",
       "    .dataframe tbody tr th {\n",
       "        vertical-align: top;\n",
       "    }\n",
       "\n",
       "    .dataframe thead th {\n",
       "        text-align: right;\n",
       "    }\n",
       "</style>\n",
       "<table border=\"1\" class=\"dataframe\">\n",
       "  <thead>\n",
       "    <tr style=\"text-align: right;\">\n",
       "      <th></th>\n",
       "      <th>user_id</th>\n",
       "      <th>month</th>\n",
       "      <th>month_calls_duration</th>\n",
       "      <th>calls_in_month</th>\n",
       "    </tr>\n",
       "  </thead>\n",
       "  <tbody>\n",
       "    <tr>\n",
       "      <td>0</td>\n",
       "      <td>1000</td>\n",
       "      <td>5</td>\n",
       "      <td>164.0</td>\n",
       "      <td>22</td>\n",
       "    </tr>\n",
       "    <tr>\n",
       "      <td>1</td>\n",
       "      <td>1000</td>\n",
       "      <td>6</td>\n",
       "      <td>187.0</td>\n",
       "      <td>43</td>\n",
       "    </tr>\n",
       "    <tr>\n",
       "      <td>2</td>\n",
       "      <td>1000</td>\n",
       "      <td>7</td>\n",
       "      <td>346.0</td>\n",
       "      <td>47</td>\n",
       "    </tr>\n",
       "    <tr>\n",
       "      <td>3</td>\n",
       "      <td>1000</td>\n",
       "      <td>8</td>\n",
       "      <td>418.0</td>\n",
       "      <td>52</td>\n",
       "    </tr>\n",
       "    <tr>\n",
       "      <td>4</td>\n",
       "      <td>1000</td>\n",
       "      <td>9</td>\n",
       "      <td>478.0</td>\n",
       "      <td>58</td>\n",
       "    </tr>\n",
       "  </tbody>\n",
       "</table>\n",
       "</div>"
      ],
      "text/plain": [
       "   user_id  month  month_calls_duration  calls_in_month\n",
       "0     1000      5                 164.0              22\n",
       "1     1000      6                 187.0              43\n",
       "2     1000      7                 346.0              47\n",
       "3     1000      8                 418.0              52\n",
       "4     1000      9                 478.0              58"
      ]
     },
     "execution_count": 47,
     "metadata": {},
     "output_type": "execute_result"
    }
   ],
   "source": [
    "amount_calls.head()"
   ]
  },
  {
   "cell_type": "markdown",
   "metadata": {},
   "source": [
    "**Количество отправленных сообщений по месяцам**:"
   ]
  },
  {
   "cell_type": "code",
   "execution_count": 48,
   "metadata": {},
   "outputs": [],
   "source": [
    "messages['month'] = messages['message_date'].dt.month"
   ]
  },
  {
   "cell_type": "code",
   "execution_count": 49,
   "metadata": {},
   "outputs": [
    {
     "data": {
      "text/html": [
       "<div>\n",
       "<style scoped>\n",
       "    .dataframe tbody tr th:only-of-type {\n",
       "        vertical-align: middle;\n",
       "    }\n",
       "\n",
       "    .dataframe tbody tr th {\n",
       "        vertical-align: top;\n",
       "    }\n",
       "\n",
       "    .dataframe thead th {\n",
       "        text-align: right;\n",
       "    }\n",
       "</style>\n",
       "<table border=\"1\" class=\"dataframe\">\n",
       "  <thead>\n",
       "    <tr style=\"text-align: right;\">\n",
       "      <th></th>\n",
       "      <th>id</th>\n",
       "      <th>message_date</th>\n",
       "      <th>user_id</th>\n",
       "      <th>month</th>\n",
       "    </tr>\n",
       "  </thead>\n",
       "  <tbody>\n",
       "    <tr>\n",
       "      <td>0</td>\n",
       "      <td>10000</td>\n",
       "      <td>2018-06-27</td>\n",
       "      <td>1000</td>\n",
       "      <td>6</td>\n",
       "    </tr>\n",
       "    <tr>\n",
       "      <td>1</td>\n",
       "      <td>10001</td>\n",
       "      <td>2018-10-08</td>\n",
       "      <td>1000</td>\n",
       "      <td>10</td>\n",
       "    </tr>\n",
       "    <tr>\n",
       "      <td>2</td>\n",
       "      <td>10002</td>\n",
       "      <td>2018-08-04</td>\n",
       "      <td>1000</td>\n",
       "      <td>8</td>\n",
       "    </tr>\n",
       "    <tr>\n",
       "      <td>3</td>\n",
       "      <td>10003</td>\n",
       "      <td>2018-06-16</td>\n",
       "      <td>1000</td>\n",
       "      <td>6</td>\n",
       "    </tr>\n",
       "    <tr>\n",
       "      <td>4</td>\n",
       "      <td>10004</td>\n",
       "      <td>2018-12-05</td>\n",
       "      <td>1000</td>\n",
       "      <td>12</td>\n",
       "    </tr>\n",
       "  </tbody>\n",
       "</table>\n",
       "</div>"
      ],
      "text/plain": [
       "      id message_date  user_id  month\n",
       "0  10000   2018-06-27     1000      6\n",
       "1  10001   2018-10-08     1000     10\n",
       "2  10002   2018-08-04     1000      8\n",
       "3  10003   2018-06-16     1000      6\n",
       "4  10004   2018-12-05     1000     12"
      ]
     },
     "execution_count": 49,
     "metadata": {},
     "output_type": "execute_result"
    }
   ],
   "source": [
    "messages.head()"
   ]
  },
  {
   "cell_type": "code",
   "execution_count": 50,
   "metadata": {},
   "outputs": [],
   "source": [
    "amount_messages = messages.groupby(['user_id', 'month']).agg({'id':'count'}).reset_index().rename(columns={'id':'sms_in_month'})"
   ]
  },
  {
   "cell_type": "code",
   "execution_count": 51,
   "metadata": {},
   "outputs": [
    {
     "data": {
      "text/html": [
       "<div>\n",
       "<style scoped>\n",
       "    .dataframe tbody tr th:only-of-type {\n",
       "        vertical-align: middle;\n",
       "    }\n",
       "\n",
       "    .dataframe tbody tr th {\n",
       "        vertical-align: top;\n",
       "    }\n",
       "\n",
       "    .dataframe thead th {\n",
       "        text-align: right;\n",
       "    }\n",
       "</style>\n",
       "<table border=\"1\" class=\"dataframe\">\n",
       "  <thead>\n",
       "    <tr style=\"text-align: right;\">\n",
       "      <th></th>\n",
       "      <th>user_id</th>\n",
       "      <th>month</th>\n",
       "      <th>sms_in_month</th>\n",
       "    </tr>\n",
       "  </thead>\n",
       "  <tbody>\n",
       "    <tr>\n",
       "      <td>0</td>\n",
       "      <td>1000</td>\n",
       "      <td>5</td>\n",
       "      <td>22</td>\n",
       "    </tr>\n",
       "    <tr>\n",
       "      <td>1</td>\n",
       "      <td>1000</td>\n",
       "      <td>6</td>\n",
       "      <td>60</td>\n",
       "    </tr>\n",
       "    <tr>\n",
       "      <td>2</td>\n",
       "      <td>1000</td>\n",
       "      <td>7</td>\n",
       "      <td>75</td>\n",
       "    </tr>\n",
       "    <tr>\n",
       "      <td>3</td>\n",
       "      <td>1000</td>\n",
       "      <td>8</td>\n",
       "      <td>81</td>\n",
       "    </tr>\n",
       "    <tr>\n",
       "      <td>4</td>\n",
       "      <td>1000</td>\n",
       "      <td>9</td>\n",
       "      <td>57</td>\n",
       "    </tr>\n",
       "  </tbody>\n",
       "</table>\n",
       "</div>"
      ],
      "text/plain": [
       "   user_id  month  sms_in_month\n",
       "0     1000      5            22\n",
       "1     1000      6            60\n",
       "2     1000      7            75\n",
       "3     1000      8            81\n",
       "4     1000      9            57"
      ]
     },
     "execution_count": 51,
     "metadata": {},
     "output_type": "execute_result"
    }
   ],
   "source": [
    "amount_messages.head()"
   ]
  },
  {
   "cell_type": "markdown",
   "metadata": {},
   "source": [
    "**Объем израсходованного интернет-трафика по месяцам**:"
   ]
  },
  {
   "cell_type": "code",
   "execution_count": 52,
   "metadata": {},
   "outputs": [],
   "source": [
    "internet['month'] = internet['session_date'].dt.month"
   ]
  },
  {
   "cell_type": "code",
   "execution_count": 53,
   "metadata": {},
   "outputs": [],
   "source": [
    "amount_internet = internet.groupby(['user_id', 'month']).agg({'mb_used':'sum','gb_used':'sum'}).reset_index().rename(columns={'gb_used':'gb_in_month','mb_used':'mb_in_month'})"
   ]
  },
  {
   "cell_type": "code",
   "execution_count": 54,
   "metadata": {},
   "outputs": [
    {
     "data": {
      "text/html": [
       "<div>\n",
       "<style scoped>\n",
       "    .dataframe tbody tr th:only-of-type {\n",
       "        vertical-align: middle;\n",
       "    }\n",
       "\n",
       "    .dataframe tbody tr th {\n",
       "        vertical-align: top;\n",
       "    }\n",
       "\n",
       "    .dataframe thead th {\n",
       "        text-align: right;\n",
       "    }\n",
       "</style>\n",
       "<table border=\"1\" class=\"dataframe\">\n",
       "  <thead>\n",
       "    <tr style=\"text-align: right;\">\n",
       "      <th></th>\n",
       "      <th>user_id</th>\n",
       "      <th>month</th>\n",
       "      <th>mb_in_month</th>\n",
       "      <th>gb_in_month</th>\n",
       "    </tr>\n",
       "  </thead>\n",
       "  <tbody>\n",
       "    <tr>\n",
       "      <td>0</td>\n",
       "      <td>1000</td>\n",
       "      <td>5</td>\n",
       "      <td>2253.49</td>\n",
       "      <td>2.19</td>\n",
       "    </tr>\n",
       "    <tr>\n",
       "      <td>1</td>\n",
       "      <td>1000</td>\n",
       "      <td>6</td>\n",
       "      <td>23233.77</td>\n",
       "      <td>22.68</td>\n",
       "    </tr>\n",
       "    <tr>\n",
       "      <td>2</td>\n",
       "      <td>1000</td>\n",
       "      <td>7</td>\n",
       "      <td>14003.64</td>\n",
       "      <td>13.71</td>\n",
       "    </tr>\n",
       "    <tr>\n",
       "      <td>3</td>\n",
       "      <td>1000</td>\n",
       "      <td>8</td>\n",
       "      <td>14055.93</td>\n",
       "      <td>13.74</td>\n",
       "    </tr>\n",
       "    <tr>\n",
       "      <td>4</td>\n",
       "      <td>1000</td>\n",
       "      <td>9</td>\n",
       "      <td>14568.91</td>\n",
       "      <td>14.25</td>\n",
       "    </tr>\n",
       "  </tbody>\n",
       "</table>\n",
       "</div>"
      ],
      "text/plain": [
       "   user_id  month  mb_in_month  gb_in_month\n",
       "0     1000      5      2253.49         2.19\n",
       "1     1000      6     23233.77        22.68\n",
       "2     1000      7     14003.64        13.71\n",
       "3     1000      8     14055.93        13.74\n",
       "4     1000      9     14568.91        14.25"
      ]
     },
     "execution_count": 54,
     "metadata": {},
     "output_type": "execute_result"
    }
   ],
   "source": [
    "amount_internet.head()"
   ]
  },
  {
   "cell_type": "markdown",
   "metadata": {},
   "source": [
    "Соединим три таблицы в одну:"
   ]
  },
  {
   "cell_type": "code",
   "execution_count": 55,
   "metadata": {},
   "outputs": [],
   "source": [
    "dfs = [amount_calls, amount_messages, amount_internet]\n",
    "amount_data = reduce(lambda left,right: pd.merge(left,right,on=['user_id', 'month'], how='outer'), dfs)"
   ]
  },
  {
   "cell_type": "code",
   "execution_count": 56,
   "metadata": {},
   "outputs": [
    {
     "data": {
      "text/html": [
       "<div>\n",
       "<style scoped>\n",
       "    .dataframe tbody tr th:only-of-type {\n",
       "        vertical-align: middle;\n",
       "    }\n",
       "\n",
       "    .dataframe tbody tr th {\n",
       "        vertical-align: top;\n",
       "    }\n",
       "\n",
       "    .dataframe thead th {\n",
       "        text-align: right;\n",
       "    }\n",
       "</style>\n",
       "<table border=\"1\" class=\"dataframe\">\n",
       "  <thead>\n",
       "    <tr style=\"text-align: right;\">\n",
       "      <th></th>\n",
       "      <th>user_id</th>\n",
       "      <th>month</th>\n",
       "      <th>month_calls_duration</th>\n",
       "      <th>calls_in_month</th>\n",
       "      <th>sms_in_month</th>\n",
       "      <th>mb_in_month</th>\n",
       "      <th>gb_in_month</th>\n",
       "    </tr>\n",
       "  </thead>\n",
       "  <tbody>\n",
       "    <tr>\n",
       "      <td>0</td>\n",
       "      <td>1000</td>\n",
       "      <td>5</td>\n",
       "      <td>164.0</td>\n",
       "      <td>22.0</td>\n",
       "      <td>22.0</td>\n",
       "      <td>2253.49</td>\n",
       "      <td>2.19</td>\n",
       "    </tr>\n",
       "    <tr>\n",
       "      <td>1</td>\n",
       "      <td>1000</td>\n",
       "      <td>6</td>\n",
       "      <td>187.0</td>\n",
       "      <td>43.0</td>\n",
       "      <td>60.0</td>\n",
       "      <td>23233.77</td>\n",
       "      <td>22.68</td>\n",
       "    </tr>\n",
       "  </tbody>\n",
       "</table>\n",
       "</div>"
      ],
      "text/plain": [
       "   user_id  month  month_calls_duration  calls_in_month  sms_in_month  \\\n",
       "0     1000      5                 164.0            22.0          22.0   \n",
       "1     1000      6                 187.0            43.0          60.0   \n",
       "\n",
       "   mb_in_month  gb_in_month  \n",
       "0      2253.49         2.19  \n",
       "1     23233.77        22.68  "
      ]
     },
     "execution_count": 56,
     "metadata": {},
     "output_type": "execute_result"
    }
   ],
   "source": [
    "amount_data.head(2)"
   ]
  },
  {
   "cell_type": "code",
   "execution_count": 57,
   "metadata": {},
   "outputs": [
    {
     "data": {
      "text/html": [
       "<div>\n",
       "<style scoped>\n",
       "    .dataframe tbody tr th:only-of-type {\n",
       "        vertical-align: middle;\n",
       "    }\n",
       "\n",
       "    .dataframe tbody tr th {\n",
       "        vertical-align: top;\n",
       "    }\n",
       "\n",
       "    .dataframe thead th {\n",
       "        text-align: right;\n",
       "    }\n",
       "</style>\n",
       "<table border=\"1\" class=\"dataframe\">\n",
       "  <thead>\n",
       "    <tr style=\"text-align: right;\">\n",
       "      <th></th>\n",
       "      <th>user_id</th>\n",
       "      <th>month</th>\n",
       "      <th>month_calls_duration</th>\n",
       "      <th>calls_in_month</th>\n",
       "      <th>sms_in_month</th>\n",
       "      <th>mb_in_month</th>\n",
       "      <th>gb_in_month</th>\n",
       "    </tr>\n",
       "  </thead>\n",
       "  <tbody>\n",
       "    <tr>\n",
       "      <td>0</td>\n",
       "      <td>1000</td>\n",
       "      <td>5</td>\n",
       "      <td>164.0</td>\n",
       "      <td>22.0</td>\n",
       "      <td>22.0</td>\n",
       "      <td>2253.49</td>\n",
       "      <td>2.19</td>\n",
       "    </tr>\n",
       "    <tr>\n",
       "      <td>1</td>\n",
       "      <td>1000</td>\n",
       "      <td>6</td>\n",
       "      <td>187.0</td>\n",
       "      <td>43.0</td>\n",
       "      <td>60.0</td>\n",
       "      <td>23233.77</td>\n",
       "      <td>22.68</td>\n",
       "    </tr>\n",
       "    <tr>\n",
       "      <td>2</td>\n",
       "      <td>1000</td>\n",
       "      <td>7</td>\n",
       "      <td>346.0</td>\n",
       "      <td>47.0</td>\n",
       "      <td>75.0</td>\n",
       "      <td>14003.64</td>\n",
       "      <td>13.71</td>\n",
       "    </tr>\n",
       "    <tr>\n",
       "      <td>3</td>\n",
       "      <td>1000</td>\n",
       "      <td>8</td>\n",
       "      <td>418.0</td>\n",
       "      <td>52.0</td>\n",
       "      <td>81.0</td>\n",
       "      <td>14055.93</td>\n",
       "      <td>13.74</td>\n",
       "    </tr>\n",
       "    <tr>\n",
       "      <td>4</td>\n",
       "      <td>1000</td>\n",
       "      <td>9</td>\n",
       "      <td>478.0</td>\n",
       "      <td>58.0</td>\n",
       "      <td>57.0</td>\n",
       "      <td>14568.91</td>\n",
       "      <td>14.25</td>\n",
       "    </tr>\n",
       "    <tr>\n",
       "      <td>5</td>\n",
       "      <td>1000</td>\n",
       "      <td>10</td>\n",
       "      <td>363.0</td>\n",
       "      <td>57.0</td>\n",
       "      <td>73.0</td>\n",
       "      <td>14702.49</td>\n",
       "      <td>14.36</td>\n",
       "    </tr>\n",
       "    <tr>\n",
       "      <td>6</td>\n",
       "      <td>1000</td>\n",
       "      <td>11</td>\n",
       "      <td>344.0</td>\n",
       "      <td>43.0</td>\n",
       "      <td>58.0</td>\n",
       "      <td>14756.47</td>\n",
       "      <td>14.39</td>\n",
       "    </tr>\n",
       "    <tr>\n",
       "      <td>7</td>\n",
       "      <td>1000</td>\n",
       "      <td>12</td>\n",
       "      <td>341.0</td>\n",
       "      <td>46.0</td>\n",
       "      <td>70.0</td>\n",
       "      <td>9817.61</td>\n",
       "      <td>9.56</td>\n",
       "    </tr>\n",
       "    <tr>\n",
       "      <td>8</td>\n",
       "      <td>1001</td>\n",
       "      <td>11</td>\n",
       "      <td>444.0</td>\n",
       "      <td>59.0</td>\n",
       "      <td>NaN</td>\n",
       "      <td>18429.34</td>\n",
       "      <td>17.98</td>\n",
       "    </tr>\n",
       "    <tr>\n",
       "      <td>9</td>\n",
       "      <td>1001</td>\n",
       "      <td>12</td>\n",
       "      <td>430.0</td>\n",
       "      <td>63.0</td>\n",
       "      <td>NaN</td>\n",
       "      <td>14036.66</td>\n",
       "      <td>13.71</td>\n",
       "    </tr>\n",
       "  </tbody>\n",
       "</table>\n",
       "</div>"
      ],
      "text/plain": [
       "   user_id  month  month_calls_duration  calls_in_month  sms_in_month  \\\n",
       "0     1000      5                 164.0            22.0          22.0   \n",
       "1     1000      6                 187.0            43.0          60.0   \n",
       "2     1000      7                 346.0            47.0          75.0   \n",
       "3     1000      8                 418.0            52.0          81.0   \n",
       "4     1000      9                 478.0            58.0          57.0   \n",
       "5     1000     10                 363.0            57.0          73.0   \n",
       "6     1000     11                 344.0            43.0          58.0   \n",
       "7     1000     12                 341.0            46.0          70.0   \n",
       "8     1001     11                 444.0            59.0           NaN   \n",
       "9     1001     12                 430.0            63.0           NaN   \n",
       "\n",
       "   mb_in_month  gb_in_month  \n",
       "0      2253.49         2.19  \n",
       "1     23233.77        22.68  \n",
       "2     14003.64        13.71  \n",
       "3     14055.93        13.74  \n",
       "4     14568.91        14.25  \n",
       "5     14702.49        14.36  \n",
       "6     14756.47        14.39  \n",
       "7      9817.61         9.56  \n",
       "8     18429.34        17.98  \n",
       "9     14036.66        13.71  "
      ]
     },
     "execution_count": 57,
     "metadata": {},
     "output_type": "execute_result"
    }
   ],
   "source": [
    "amount_data.head(10)"
   ]
  },
  {
   "cell_type": "markdown",
   "metadata": {},
   "source": [
    "**Помесячная выручка с каждого пользователя**:"
   ]
  },
  {
   "cell_type": "markdown",
   "metadata": {},
   "source": [
    "Для начала соединим данные в одну таблицу:"
   ]
  },
  {
   "cell_type": "code",
   "execution_count": 58,
   "metadata": {},
   "outputs": [],
   "source": [
    "df = amount_calls.merge(amount_messages, on=['user_id','month'], how='outer')"
   ]
  },
  {
   "cell_type": "code",
   "execution_count": 59,
   "metadata": {},
   "outputs": [
    {
     "data": {
      "text/html": [
       "<div>\n",
       "<style scoped>\n",
       "    .dataframe tbody tr th:only-of-type {\n",
       "        vertical-align: middle;\n",
       "    }\n",
       "\n",
       "    .dataframe tbody tr th {\n",
       "        vertical-align: top;\n",
       "    }\n",
       "\n",
       "    .dataframe thead th {\n",
       "        text-align: right;\n",
       "    }\n",
       "</style>\n",
       "<table border=\"1\" class=\"dataframe\">\n",
       "  <thead>\n",
       "    <tr style=\"text-align: right;\">\n",
       "      <th></th>\n",
       "      <th>user_id</th>\n",
       "      <th>month</th>\n",
       "      <th>month_calls_duration</th>\n",
       "      <th>calls_in_month</th>\n",
       "      <th>sms_in_month</th>\n",
       "    </tr>\n",
       "  </thead>\n",
       "  <tbody>\n",
       "    <tr>\n",
       "      <td>0</td>\n",
       "      <td>1000</td>\n",
       "      <td>5</td>\n",
       "      <td>164.0</td>\n",
       "      <td>22.0</td>\n",
       "      <td>22.0</td>\n",
       "    </tr>\n",
       "    <tr>\n",
       "      <td>1</td>\n",
       "      <td>1000</td>\n",
       "      <td>6</td>\n",
       "      <td>187.0</td>\n",
       "      <td>43.0</td>\n",
       "      <td>60.0</td>\n",
       "    </tr>\n",
       "    <tr>\n",
       "      <td>2</td>\n",
       "      <td>1000</td>\n",
       "      <td>7</td>\n",
       "      <td>346.0</td>\n",
       "      <td>47.0</td>\n",
       "      <td>75.0</td>\n",
       "    </tr>\n",
       "    <tr>\n",
       "      <td>3</td>\n",
       "      <td>1000</td>\n",
       "      <td>8</td>\n",
       "      <td>418.0</td>\n",
       "      <td>52.0</td>\n",
       "      <td>81.0</td>\n",
       "    </tr>\n",
       "    <tr>\n",
       "      <td>4</td>\n",
       "      <td>1000</td>\n",
       "      <td>9</td>\n",
       "      <td>478.0</td>\n",
       "      <td>58.0</td>\n",
       "      <td>57.0</td>\n",
       "    </tr>\n",
       "  </tbody>\n",
       "</table>\n",
       "</div>"
      ],
      "text/plain": [
       "   user_id  month  month_calls_duration  calls_in_month  sms_in_month\n",
       "0     1000      5                 164.0            22.0          22.0\n",
       "1     1000      6                 187.0            43.0          60.0\n",
       "2     1000      7                 346.0            47.0          75.0\n",
       "3     1000      8                 418.0            52.0          81.0\n",
       "4     1000      9                 478.0            58.0          57.0"
      ]
     },
     "execution_count": 59,
     "metadata": {},
     "output_type": "execute_result"
    }
   ],
   "source": [
    "df.head()"
   ]
  },
  {
   "cell_type": "code",
   "execution_count": 60,
   "metadata": {},
   "outputs": [
    {
     "data": {
      "text/html": [
       "<div>\n",
       "<style scoped>\n",
       "    .dataframe tbody tr th:only-of-type {\n",
       "        vertical-align: middle;\n",
       "    }\n",
       "\n",
       "    .dataframe tbody tr th {\n",
       "        vertical-align: top;\n",
       "    }\n",
       "\n",
       "    .dataframe thead th {\n",
       "        text-align: right;\n",
       "    }\n",
       "</style>\n",
       "<table border=\"1\" class=\"dataframe\">\n",
       "  <thead>\n",
       "    <tr style=\"text-align: right;\">\n",
       "      <th></th>\n",
       "      <th>user_id</th>\n",
       "      <th>month</th>\n",
       "      <th>month_calls_duration</th>\n",
       "      <th>calls_in_month</th>\n",
       "      <th>sms_in_month</th>\n",
       "      <th>mb_in_month</th>\n",
       "      <th>gb_in_month</th>\n",
       "    </tr>\n",
       "  </thead>\n",
       "  <tbody>\n",
       "    <tr>\n",
       "      <td>3209</td>\n",
       "      <td>1489</td>\n",
       "      <td>9</td>\n",
       "      <td>NaN</td>\n",
       "      <td>NaN</td>\n",
       "      <td>32.0</td>\n",
       "      <td>17206.30</td>\n",
       "      <td>16.82</td>\n",
       "    </tr>\n",
       "    <tr>\n",
       "      <td>3210</td>\n",
       "      <td>1489</td>\n",
       "      <td>10</td>\n",
       "      <td>NaN</td>\n",
       "      <td>NaN</td>\n",
       "      <td>21.0</td>\n",
       "      <td>19559.44</td>\n",
       "      <td>19.11</td>\n",
       "    </tr>\n",
       "    <tr>\n",
       "      <td>3211</td>\n",
       "      <td>1489</td>\n",
       "      <td>11</td>\n",
       "      <td>NaN</td>\n",
       "      <td>NaN</td>\n",
       "      <td>20.0</td>\n",
       "      <td>17491.56</td>\n",
       "      <td>17.08</td>\n",
       "    </tr>\n",
       "    <tr>\n",
       "      <td>3212</td>\n",
       "      <td>1489</td>\n",
       "      <td>12</td>\n",
       "      <td>NaN</td>\n",
       "      <td>NaN</td>\n",
       "      <td>35.0</td>\n",
       "      <td>17322.51</td>\n",
       "      <td>16.93</td>\n",
       "    </tr>\n",
       "    <tr>\n",
       "      <td>3213</td>\n",
       "      <td>1476</td>\n",
       "      <td>4</td>\n",
       "      <td>NaN</td>\n",
       "      <td>NaN</td>\n",
       "      <td>NaN</td>\n",
       "      <td>530.78</td>\n",
       "      <td>0.52</td>\n",
       "    </tr>\n",
       "  </tbody>\n",
       "</table>\n",
       "</div>"
      ],
      "text/plain": [
       "      user_id  month  month_calls_duration  calls_in_month  sms_in_month  \\\n",
       "3209     1489      9                   NaN             NaN          32.0   \n",
       "3210     1489     10                   NaN             NaN          21.0   \n",
       "3211     1489     11                   NaN             NaN          20.0   \n",
       "3212     1489     12                   NaN             NaN          35.0   \n",
       "3213     1476      4                   NaN             NaN           NaN   \n",
       "\n",
       "      mb_in_month  gb_in_month  \n",
       "3209     17206.30        16.82  \n",
       "3210     19559.44        19.11  \n",
       "3211     17491.56        17.08  \n",
       "3212     17322.51        16.93  \n",
       "3213       530.78         0.52  "
      ]
     },
     "execution_count": 60,
     "metadata": {},
     "output_type": "execute_result"
    }
   ],
   "source": [
    "df = df.merge(amount_internet, on=['user_id','month'], how = 'outer')\n",
    "df.tail()"
   ]
  },
  {
   "cell_type": "code",
   "execution_count": 61,
   "metadata": {},
   "outputs": [],
   "source": [
    "df = df.merge(users, on='user_id', how='left')"
   ]
  },
  {
   "cell_type": "code",
   "execution_count": 62,
   "metadata": {},
   "outputs": [
    {
     "data": {
      "text/html": [
       "<div>\n",
       "<style scoped>\n",
       "    .dataframe tbody tr th:only-of-type {\n",
       "        vertical-align: middle;\n",
       "    }\n",
       "\n",
       "    .dataframe tbody tr th {\n",
       "        vertical-align: top;\n",
       "    }\n",
       "\n",
       "    .dataframe thead th {\n",
       "        text-align: right;\n",
       "    }\n",
       "</style>\n",
       "<table border=\"1\" class=\"dataframe\">\n",
       "  <thead>\n",
       "    <tr style=\"text-align: right;\">\n",
       "      <th></th>\n",
       "      <th>user_id</th>\n",
       "      <th>month</th>\n",
       "      <th>month_calls_duration</th>\n",
       "      <th>calls_in_month</th>\n",
       "      <th>sms_in_month</th>\n",
       "      <th>mb_in_month</th>\n",
       "      <th>gb_in_month</th>\n",
       "      <th>age</th>\n",
       "      <th>churn_date</th>\n",
       "      <th>city</th>\n",
       "      <th>first_name</th>\n",
       "      <th>last_name</th>\n",
       "      <th>reg_date</th>\n",
       "      <th>tariff</th>\n",
       "    </tr>\n",
       "  </thead>\n",
       "  <tbody>\n",
       "    <tr>\n",
       "      <td>0</td>\n",
       "      <td>1000</td>\n",
       "      <td>5</td>\n",
       "      <td>164.0</td>\n",
       "      <td>22.0</td>\n",
       "      <td>22.0</td>\n",
       "      <td>2253.49</td>\n",
       "      <td>2.19</td>\n",
       "      <td>52</td>\n",
       "      <td>NaT</td>\n",
       "      <td>Краснодар</td>\n",
       "      <td>Рафаил</td>\n",
       "      <td>Верещагин</td>\n",
       "      <td>2018-05-25</td>\n",
       "      <td>ultra</td>\n",
       "    </tr>\n",
       "    <tr>\n",
       "      <td>1</td>\n",
       "      <td>1000</td>\n",
       "      <td>6</td>\n",
       "      <td>187.0</td>\n",
       "      <td>43.0</td>\n",
       "      <td>60.0</td>\n",
       "      <td>23233.77</td>\n",
       "      <td>22.68</td>\n",
       "      <td>52</td>\n",
       "      <td>NaT</td>\n",
       "      <td>Краснодар</td>\n",
       "      <td>Рафаил</td>\n",
       "      <td>Верещагин</td>\n",
       "      <td>2018-05-25</td>\n",
       "      <td>ultra</td>\n",
       "    </tr>\n",
       "    <tr>\n",
       "      <td>2</td>\n",
       "      <td>1000</td>\n",
       "      <td>7</td>\n",
       "      <td>346.0</td>\n",
       "      <td>47.0</td>\n",
       "      <td>75.0</td>\n",
       "      <td>14003.64</td>\n",
       "      <td>13.71</td>\n",
       "      <td>52</td>\n",
       "      <td>NaT</td>\n",
       "      <td>Краснодар</td>\n",
       "      <td>Рафаил</td>\n",
       "      <td>Верещагин</td>\n",
       "      <td>2018-05-25</td>\n",
       "      <td>ultra</td>\n",
       "    </tr>\n",
       "    <tr>\n",
       "      <td>3</td>\n",
       "      <td>1000</td>\n",
       "      <td>8</td>\n",
       "      <td>418.0</td>\n",
       "      <td>52.0</td>\n",
       "      <td>81.0</td>\n",
       "      <td>14055.93</td>\n",
       "      <td>13.74</td>\n",
       "      <td>52</td>\n",
       "      <td>NaT</td>\n",
       "      <td>Краснодар</td>\n",
       "      <td>Рафаил</td>\n",
       "      <td>Верещагин</td>\n",
       "      <td>2018-05-25</td>\n",
       "      <td>ultra</td>\n",
       "    </tr>\n",
       "    <tr>\n",
       "      <td>4</td>\n",
       "      <td>1000</td>\n",
       "      <td>9</td>\n",
       "      <td>478.0</td>\n",
       "      <td>58.0</td>\n",
       "      <td>57.0</td>\n",
       "      <td>14568.91</td>\n",
       "      <td>14.25</td>\n",
       "      <td>52</td>\n",
       "      <td>NaT</td>\n",
       "      <td>Краснодар</td>\n",
       "      <td>Рафаил</td>\n",
       "      <td>Верещагин</td>\n",
       "      <td>2018-05-25</td>\n",
       "      <td>ultra</td>\n",
       "    </tr>\n",
       "  </tbody>\n",
       "</table>\n",
       "</div>"
      ],
      "text/plain": [
       "   user_id  month  month_calls_duration  calls_in_month  sms_in_month  \\\n",
       "0     1000      5                 164.0            22.0          22.0   \n",
       "1     1000      6                 187.0            43.0          60.0   \n",
       "2     1000      7                 346.0            47.0          75.0   \n",
       "3     1000      8                 418.0            52.0          81.0   \n",
       "4     1000      9                 478.0            58.0          57.0   \n",
       "\n",
       "   mb_in_month  gb_in_month  age churn_date       city first_name  last_name  \\\n",
       "0      2253.49         2.19   52        NaT  Краснодар     Рафаил  Верещагин   \n",
       "1     23233.77        22.68   52        NaT  Краснодар     Рафаил  Верещагин   \n",
       "2     14003.64        13.71   52        NaT  Краснодар     Рафаил  Верещагин   \n",
       "3     14055.93        13.74   52        NaT  Краснодар     Рафаил  Верещагин   \n",
       "4     14568.91        14.25   52        NaT  Краснодар     Рафаил  Верещагин   \n",
       "\n",
       "    reg_date tariff  \n",
       "0 2018-05-25  ultra  \n",
       "1 2018-05-25  ultra  \n",
       "2 2018-05-25  ultra  \n",
       "3 2018-05-25  ultra  \n",
       "4 2018-05-25  ultra  "
      ]
     },
     "execution_count": 62,
     "metadata": {},
     "output_type": "execute_result"
    }
   ],
   "source": [
    "df.head()"
   ]
  },
  {
   "cell_type": "code",
   "execution_count": 63,
   "metadata": {},
   "outputs": [
    {
     "data": {
      "text/html": [
       "<div>\n",
       "<style scoped>\n",
       "    .dataframe tbody tr th:only-of-type {\n",
       "        vertical-align: middle;\n",
       "    }\n",
       "\n",
       "    .dataframe tbody tr th {\n",
       "        vertical-align: top;\n",
       "    }\n",
       "\n",
       "    .dataframe thead th {\n",
       "        text-align: right;\n",
       "    }\n",
       "</style>\n",
       "<table border=\"1\" class=\"dataframe\">\n",
       "  <thead>\n",
       "    <tr style=\"text-align: right;\">\n",
       "      <th></th>\n",
       "      <th>messages_included</th>\n",
       "      <th>mb_per_month_included</th>\n",
       "      <th>minutes_included</th>\n",
       "      <th>rub_monthly_fee</th>\n",
       "      <th>rub_per_gb</th>\n",
       "      <th>rub_per_message</th>\n",
       "      <th>rub_per_minute</th>\n",
       "      <th>tariff</th>\n",
       "    </tr>\n",
       "  </thead>\n",
       "  <tbody>\n",
       "    <tr>\n",
       "      <td>0</td>\n",
       "      <td>50</td>\n",
       "      <td>15360</td>\n",
       "      <td>500</td>\n",
       "      <td>550</td>\n",
       "      <td>200</td>\n",
       "      <td>3</td>\n",
       "      <td>3</td>\n",
       "      <td>smart</td>\n",
       "    </tr>\n",
       "    <tr>\n",
       "      <td>1</td>\n",
       "      <td>1000</td>\n",
       "      <td>30720</td>\n",
       "      <td>3000</td>\n",
       "      <td>1950</td>\n",
       "      <td>150</td>\n",
       "      <td>1</td>\n",
       "      <td>1</td>\n",
       "      <td>ultra</td>\n",
       "    </tr>\n",
       "  </tbody>\n",
       "</table>\n",
       "</div>"
      ],
      "text/plain": [
       "   messages_included  mb_per_month_included  minutes_included  \\\n",
       "0                 50                  15360               500   \n",
       "1               1000                  30720              3000   \n",
       "\n",
       "   rub_monthly_fee  rub_per_gb  rub_per_message  rub_per_minute tariff  \n",
       "0              550         200                3               3  smart  \n",
       "1             1950         150                1               1  ultra  "
      ]
     },
     "execution_count": 63,
     "metadata": {},
     "output_type": "execute_result"
    }
   ],
   "source": [
    "tariffs.head()"
   ]
  },
  {
   "cell_type": "code",
   "execution_count": 64,
   "metadata": {},
   "outputs": [
    {
     "data": {
      "text/html": [
       "<div>\n",
       "<style scoped>\n",
       "    .dataframe tbody tr th:only-of-type {\n",
       "        vertical-align: middle;\n",
       "    }\n",
       "\n",
       "    .dataframe tbody tr th {\n",
       "        vertical-align: top;\n",
       "    }\n",
       "\n",
       "    .dataframe thead th {\n",
       "        text-align: right;\n",
       "    }\n",
       "</style>\n",
       "<table border=\"1\" class=\"dataframe\">\n",
       "  <thead>\n",
       "    <tr style=\"text-align: right;\">\n",
       "      <th></th>\n",
       "      <th>user_id</th>\n",
       "      <th>month</th>\n",
       "      <th>month_calls_duration</th>\n",
       "      <th>calls_in_month</th>\n",
       "      <th>sms_in_month</th>\n",
       "      <th>mb_in_month</th>\n",
       "      <th>gb_in_month</th>\n",
       "      <th>age</th>\n",
       "      <th>churn_date</th>\n",
       "      <th>city</th>\n",
       "      <th>...</th>\n",
       "      <th>last_name</th>\n",
       "      <th>reg_date</th>\n",
       "      <th>tariff</th>\n",
       "      <th>messages_included</th>\n",
       "      <th>mb_per_month_included</th>\n",
       "      <th>minutes_included</th>\n",
       "      <th>rub_monthly_fee</th>\n",
       "      <th>rub_per_gb</th>\n",
       "      <th>rub_per_message</th>\n",
       "      <th>rub_per_minute</th>\n",
       "    </tr>\n",
       "  </thead>\n",
       "  <tbody>\n",
       "    <tr>\n",
       "      <td>0</td>\n",
       "      <td>1000</td>\n",
       "      <td>5</td>\n",
       "      <td>164.0</td>\n",
       "      <td>22.0</td>\n",
       "      <td>22.0</td>\n",
       "      <td>2253.49</td>\n",
       "      <td>2.19</td>\n",
       "      <td>52</td>\n",
       "      <td>NaT</td>\n",
       "      <td>Краснодар</td>\n",
       "      <td>...</td>\n",
       "      <td>Верещагин</td>\n",
       "      <td>2018-05-25</td>\n",
       "      <td>ultra</td>\n",
       "      <td>1000</td>\n",
       "      <td>30720</td>\n",
       "      <td>3000</td>\n",
       "      <td>1950</td>\n",
       "      <td>150</td>\n",
       "      <td>1</td>\n",
       "      <td>1</td>\n",
       "    </tr>\n",
       "    <tr>\n",
       "      <td>1</td>\n",
       "      <td>1000</td>\n",
       "      <td>6</td>\n",
       "      <td>187.0</td>\n",
       "      <td>43.0</td>\n",
       "      <td>60.0</td>\n",
       "      <td>23233.77</td>\n",
       "      <td>22.68</td>\n",
       "      <td>52</td>\n",
       "      <td>NaT</td>\n",
       "      <td>Краснодар</td>\n",
       "      <td>...</td>\n",
       "      <td>Верещагин</td>\n",
       "      <td>2018-05-25</td>\n",
       "      <td>ultra</td>\n",
       "      <td>1000</td>\n",
       "      <td>30720</td>\n",
       "      <td>3000</td>\n",
       "      <td>1950</td>\n",
       "      <td>150</td>\n",
       "      <td>1</td>\n",
       "      <td>1</td>\n",
       "    </tr>\n",
       "    <tr>\n",
       "      <td>2</td>\n",
       "      <td>1000</td>\n",
       "      <td>7</td>\n",
       "      <td>346.0</td>\n",
       "      <td>47.0</td>\n",
       "      <td>75.0</td>\n",
       "      <td>14003.64</td>\n",
       "      <td>13.71</td>\n",
       "      <td>52</td>\n",
       "      <td>NaT</td>\n",
       "      <td>Краснодар</td>\n",
       "      <td>...</td>\n",
       "      <td>Верещагин</td>\n",
       "      <td>2018-05-25</td>\n",
       "      <td>ultra</td>\n",
       "      <td>1000</td>\n",
       "      <td>30720</td>\n",
       "      <td>3000</td>\n",
       "      <td>1950</td>\n",
       "      <td>150</td>\n",
       "      <td>1</td>\n",
       "      <td>1</td>\n",
       "    </tr>\n",
       "    <tr>\n",
       "      <td>3</td>\n",
       "      <td>1000</td>\n",
       "      <td>8</td>\n",
       "      <td>418.0</td>\n",
       "      <td>52.0</td>\n",
       "      <td>81.0</td>\n",
       "      <td>14055.93</td>\n",
       "      <td>13.74</td>\n",
       "      <td>52</td>\n",
       "      <td>NaT</td>\n",
       "      <td>Краснодар</td>\n",
       "      <td>...</td>\n",
       "      <td>Верещагин</td>\n",
       "      <td>2018-05-25</td>\n",
       "      <td>ultra</td>\n",
       "      <td>1000</td>\n",
       "      <td>30720</td>\n",
       "      <td>3000</td>\n",
       "      <td>1950</td>\n",
       "      <td>150</td>\n",
       "      <td>1</td>\n",
       "      <td>1</td>\n",
       "    </tr>\n",
       "    <tr>\n",
       "      <td>4</td>\n",
       "      <td>1000</td>\n",
       "      <td>9</td>\n",
       "      <td>478.0</td>\n",
       "      <td>58.0</td>\n",
       "      <td>57.0</td>\n",
       "      <td>14568.91</td>\n",
       "      <td>14.25</td>\n",
       "      <td>52</td>\n",
       "      <td>NaT</td>\n",
       "      <td>Краснодар</td>\n",
       "      <td>...</td>\n",
       "      <td>Верещагин</td>\n",
       "      <td>2018-05-25</td>\n",
       "      <td>ultra</td>\n",
       "      <td>1000</td>\n",
       "      <td>30720</td>\n",
       "      <td>3000</td>\n",
       "      <td>1950</td>\n",
       "      <td>150</td>\n",
       "      <td>1</td>\n",
       "      <td>1</td>\n",
       "    </tr>\n",
       "  </tbody>\n",
       "</table>\n",
       "<p>5 rows × 21 columns</p>\n",
       "</div>"
      ],
      "text/plain": [
       "   user_id  month  month_calls_duration  calls_in_month  sms_in_month  \\\n",
       "0     1000      5                 164.0            22.0          22.0   \n",
       "1     1000      6                 187.0            43.0          60.0   \n",
       "2     1000      7                 346.0            47.0          75.0   \n",
       "3     1000      8                 418.0            52.0          81.0   \n",
       "4     1000      9                 478.0            58.0          57.0   \n",
       "\n",
       "   mb_in_month  gb_in_month  age churn_date       city  ...  last_name  \\\n",
       "0      2253.49         2.19   52        NaT  Краснодар  ...  Верещагин   \n",
       "1     23233.77        22.68   52        NaT  Краснодар  ...  Верещагин   \n",
       "2     14003.64        13.71   52        NaT  Краснодар  ...  Верещагин   \n",
       "3     14055.93        13.74   52        NaT  Краснодар  ...  Верещагин   \n",
       "4     14568.91        14.25   52        NaT  Краснодар  ...  Верещагин   \n",
       "\n",
       "    reg_date tariff messages_included  mb_per_month_included  \\\n",
       "0 2018-05-25  ultra              1000                  30720   \n",
       "1 2018-05-25  ultra              1000                  30720   \n",
       "2 2018-05-25  ultra              1000                  30720   \n",
       "3 2018-05-25  ultra              1000                  30720   \n",
       "4 2018-05-25  ultra              1000                  30720   \n",
       "\n",
       "   minutes_included  rub_monthly_fee  rub_per_gb  rub_per_message  \\\n",
       "0              3000             1950         150                1   \n",
       "1              3000             1950         150                1   \n",
       "2              3000             1950         150                1   \n",
       "3              3000             1950         150                1   \n",
       "4              3000             1950         150                1   \n",
       "\n",
       "   rub_per_minute  \n",
       "0               1  \n",
       "1               1  \n",
       "2               1  \n",
       "3               1  \n",
       "4               1  \n",
       "\n",
       "[5 rows x 21 columns]"
      ]
     },
     "execution_count": 64,
     "metadata": {},
     "output_type": "execute_result"
    }
   ],
   "source": [
    "df = df.merge(tariffs, on='tariff', how='left')\n",
    "df.head()"
   ]
  },
  {
   "cell_type": "code",
   "execution_count": 65,
   "metadata": {},
   "outputs": [
    {
     "data": {
      "text/plain": [
       "user_id                     0\n",
       "month                       0\n",
       "month_calls_duration       40\n",
       "calls_in_month             40\n",
       "sms_in_month              497\n",
       "mb_in_month                13\n",
       "gb_in_month                13\n",
       "age                         0\n",
       "churn_date               3027\n",
       "city                        0\n",
       "first_name                  0\n",
       "last_name                   0\n",
       "reg_date                    0\n",
       "tariff                      0\n",
       "messages_included           0\n",
       "mb_per_month_included       0\n",
       "minutes_included            0\n",
       "rub_monthly_fee             0\n",
       "rub_per_gb                  0\n",
       "rub_per_message             0\n",
       "rub_per_minute              0\n",
       "dtype: int64"
      ]
     },
     "execution_count": 65,
     "metadata": {},
     "output_type": "execute_result"
    }
   ],
   "source": [
    "df.isna().sum()"
   ]
  },
  {
   "cell_type": "markdown",
   "metadata": {},
   "source": [
    "Заполним пропуски на нулевые значения, так как скорее всего пропуски появились потому что эти люди не пользуются интернетом, не пишут смс и т.д. :"
   ]
  },
  {
   "cell_type": "code",
   "execution_count": 66,
   "metadata": {},
   "outputs": [],
   "source": [
    "df['sms_in_month'] = df['sms_in_month'].fillna(0)\n",
    "df['mb_in_month'] = df['mb_in_month'].fillna(0)\n",
    "df['gb_in_month'] = df['gb_in_month'].fillna(0)\n",
    "df['month_calls_duration'] = df['month_calls_duration'].fillna(0)\n",
    "df['calls_in_month'] = df['calls_in_month'].fillna(0)"
   ]
  },
  {
   "cell_type": "code",
   "execution_count": 67,
   "metadata": {},
   "outputs": [
    {
     "data": {
      "text/plain": [
       "user_id                     0\n",
       "month                       0\n",
       "month_calls_duration        0\n",
       "calls_in_month              0\n",
       "sms_in_month                0\n",
       "mb_in_month                 0\n",
       "gb_in_month                 0\n",
       "age                         0\n",
       "churn_date               3027\n",
       "city                        0\n",
       "first_name                  0\n",
       "last_name                   0\n",
       "reg_date                    0\n",
       "tariff                      0\n",
       "messages_included           0\n",
       "mb_per_month_included       0\n",
       "minutes_included            0\n",
       "rub_monthly_fee             0\n",
       "rub_per_gb                  0\n",
       "rub_per_message             0\n",
       "rub_per_minute              0\n",
       "dtype: int64"
      ]
     },
     "execution_count": 67,
     "metadata": {},
     "output_type": "execute_result"
    }
   ],
   "source": [
    "df.isna().sum()"
   ]
  },
  {
   "cell_type": "code",
   "execution_count": 68,
   "metadata": {},
   "outputs": [
    {
     "data": {
      "text/plain": [
       "0"
      ]
     },
     "execution_count": 68,
     "metadata": {},
     "output_type": "execute_result"
    }
   ],
   "source": [
    "df.duplicated().sum()"
   ]
  },
  {
   "cell_type": "markdown",
   "metadata": {},
   "source": [
    "**Теперь посчитаем количество сделанных звонков и израсходованных минут разговора по месяцам**:"
   ]
  },
  {
   "cell_type": "markdown",
   "metadata": {},
   "source": [
    "Напишем функцию, округлив mbs вверх, т.к. цена указана за гигабайт:"
   ]
  },
  {
   "cell_type": "code",
   "execution_count": 69,
   "metadata": {},
   "outputs": [],
   "source": [
    "def tariff_above(row):\n",
    "    sms = (row['sms_in_month'] - row['messages_included']) * row['rub_per_message']\n",
    "    mins = (row['month_calls_duration'] - row['minutes_included']) * row['rub_per_minute']\n",
    "    mbs = ((np.ceil(row['mb_in_month'] - row['mb_per_month_included'])/1024) * row['rub_per_gb'] )\n",
    "    total = 0\n",
    "    for i in [sms, mins, mbs]:\n",
    "        if i > 0:\n",
    "            total += i\n",
    "    return total"
   ]
  },
  {
   "cell_type": "code",
   "execution_count": 70,
   "metadata": {},
   "outputs": [],
   "source": [
    "df['tariff_above'] = df.apply(lambda x: tariff_above(x), axis=1)"
   ]
  },
  {
   "cell_type": "code",
   "execution_count": 71,
   "metadata": {},
   "outputs": [],
   "source": [
    "df['total_paid'] = df['rub_monthly_fee'] + df['tariff_above']"
   ]
  },
  {
   "cell_type": "code",
   "execution_count": 72,
   "metadata": {},
   "outputs": [],
   "source": [
    "pd.set_option('display.max_columns', None)\n",
    "pd.set_option('display.max_rows', None)"
   ]
  },
  {
   "cell_type": "code",
   "execution_count": 73,
   "metadata": {},
   "outputs": [
    {
     "data": {
      "text/html": [
       "<div>\n",
       "<style scoped>\n",
       "    .dataframe tbody tr th:only-of-type {\n",
       "        vertical-align: middle;\n",
       "    }\n",
       "\n",
       "    .dataframe tbody tr th {\n",
       "        vertical-align: top;\n",
       "    }\n",
       "\n",
       "    .dataframe thead th {\n",
       "        text-align: right;\n",
       "    }\n",
       "</style>\n",
       "<table border=\"1\" class=\"dataframe\">\n",
       "  <thead>\n",
       "    <tr style=\"text-align: right;\">\n",
       "      <th></th>\n",
       "      <th>user_id</th>\n",
       "      <th>month</th>\n",
       "      <th>month_calls_duration</th>\n",
       "      <th>calls_in_month</th>\n",
       "      <th>sms_in_month</th>\n",
       "      <th>mb_in_month</th>\n",
       "      <th>gb_in_month</th>\n",
       "      <th>age</th>\n",
       "      <th>churn_date</th>\n",
       "      <th>city</th>\n",
       "      <th>first_name</th>\n",
       "      <th>last_name</th>\n",
       "      <th>reg_date</th>\n",
       "      <th>tariff</th>\n",
       "      <th>messages_included</th>\n",
       "      <th>mb_per_month_included</th>\n",
       "      <th>minutes_included</th>\n",
       "      <th>rub_monthly_fee</th>\n",
       "      <th>rub_per_gb</th>\n",
       "      <th>rub_per_message</th>\n",
       "      <th>rub_per_minute</th>\n",
       "      <th>tariff_above</th>\n",
       "      <th>total_paid</th>\n",
       "    </tr>\n",
       "  </thead>\n",
       "  <tbody>\n",
       "    <tr>\n",
       "      <td>0</td>\n",
       "      <td>1000</td>\n",
       "      <td>5</td>\n",
       "      <td>164.0</td>\n",
       "      <td>22.0</td>\n",
       "      <td>22.0</td>\n",
       "      <td>2253.49</td>\n",
       "      <td>2.19</td>\n",
       "      <td>52</td>\n",
       "      <td>NaT</td>\n",
       "      <td>Краснодар</td>\n",
       "      <td>Рафаил</td>\n",
       "      <td>Верещагин</td>\n",
       "      <td>2018-05-25</td>\n",
       "      <td>ultra</td>\n",
       "      <td>1000</td>\n",
       "      <td>30720</td>\n",
       "      <td>3000</td>\n",
       "      <td>1950</td>\n",
       "      <td>150</td>\n",
       "      <td>1</td>\n",
       "      <td>1</td>\n",
       "      <td>0.000000</td>\n",
       "      <td>1950.000000</td>\n",
       "    </tr>\n",
       "    <tr>\n",
       "      <td>1</td>\n",
       "      <td>1000</td>\n",
       "      <td>6</td>\n",
       "      <td>187.0</td>\n",
       "      <td>43.0</td>\n",
       "      <td>60.0</td>\n",
       "      <td>23233.77</td>\n",
       "      <td>22.68</td>\n",
       "      <td>52</td>\n",
       "      <td>NaT</td>\n",
       "      <td>Краснодар</td>\n",
       "      <td>Рафаил</td>\n",
       "      <td>Верещагин</td>\n",
       "      <td>2018-05-25</td>\n",
       "      <td>ultra</td>\n",
       "      <td>1000</td>\n",
       "      <td>30720</td>\n",
       "      <td>3000</td>\n",
       "      <td>1950</td>\n",
       "      <td>150</td>\n",
       "      <td>1</td>\n",
       "      <td>1</td>\n",
       "      <td>0.000000</td>\n",
       "      <td>1950.000000</td>\n",
       "    </tr>\n",
       "    <tr>\n",
       "      <td>2</td>\n",
       "      <td>1000</td>\n",
       "      <td>7</td>\n",
       "      <td>346.0</td>\n",
       "      <td>47.0</td>\n",
       "      <td>75.0</td>\n",
       "      <td>14003.64</td>\n",
       "      <td>13.71</td>\n",
       "      <td>52</td>\n",
       "      <td>NaT</td>\n",
       "      <td>Краснодар</td>\n",
       "      <td>Рафаил</td>\n",
       "      <td>Верещагин</td>\n",
       "      <td>2018-05-25</td>\n",
       "      <td>ultra</td>\n",
       "      <td>1000</td>\n",
       "      <td>30720</td>\n",
       "      <td>3000</td>\n",
       "      <td>1950</td>\n",
       "      <td>150</td>\n",
       "      <td>1</td>\n",
       "      <td>1</td>\n",
       "      <td>0.000000</td>\n",
       "      <td>1950.000000</td>\n",
       "    </tr>\n",
       "    <tr>\n",
       "      <td>3</td>\n",
       "      <td>1000</td>\n",
       "      <td>8</td>\n",
       "      <td>418.0</td>\n",
       "      <td>52.0</td>\n",
       "      <td>81.0</td>\n",
       "      <td>14055.93</td>\n",
       "      <td>13.74</td>\n",
       "      <td>52</td>\n",
       "      <td>NaT</td>\n",
       "      <td>Краснодар</td>\n",
       "      <td>Рафаил</td>\n",
       "      <td>Верещагин</td>\n",
       "      <td>2018-05-25</td>\n",
       "      <td>ultra</td>\n",
       "      <td>1000</td>\n",
       "      <td>30720</td>\n",
       "      <td>3000</td>\n",
       "      <td>1950</td>\n",
       "      <td>150</td>\n",
       "      <td>1</td>\n",
       "      <td>1</td>\n",
       "      <td>0.000000</td>\n",
       "      <td>1950.000000</td>\n",
       "    </tr>\n",
       "    <tr>\n",
       "      <td>4</td>\n",
       "      <td>1000</td>\n",
       "      <td>9</td>\n",
       "      <td>478.0</td>\n",
       "      <td>58.0</td>\n",
       "      <td>57.0</td>\n",
       "      <td>14568.91</td>\n",
       "      <td>14.25</td>\n",
       "      <td>52</td>\n",
       "      <td>NaT</td>\n",
       "      <td>Краснодар</td>\n",
       "      <td>Рафаил</td>\n",
       "      <td>Верещагин</td>\n",
       "      <td>2018-05-25</td>\n",
       "      <td>ultra</td>\n",
       "      <td>1000</td>\n",
       "      <td>30720</td>\n",
       "      <td>3000</td>\n",
       "      <td>1950</td>\n",
       "      <td>150</td>\n",
       "      <td>1</td>\n",
       "      <td>1</td>\n",
       "      <td>0.000000</td>\n",
       "      <td>1950.000000</td>\n",
       "    </tr>\n",
       "    <tr>\n",
       "      <td>5</td>\n",
       "      <td>1000</td>\n",
       "      <td>10</td>\n",
       "      <td>363.0</td>\n",
       "      <td>57.0</td>\n",
       "      <td>73.0</td>\n",
       "      <td>14702.49</td>\n",
       "      <td>14.36</td>\n",
       "      <td>52</td>\n",
       "      <td>NaT</td>\n",
       "      <td>Краснодар</td>\n",
       "      <td>Рафаил</td>\n",
       "      <td>Верещагин</td>\n",
       "      <td>2018-05-25</td>\n",
       "      <td>ultra</td>\n",
       "      <td>1000</td>\n",
       "      <td>30720</td>\n",
       "      <td>3000</td>\n",
       "      <td>1950</td>\n",
       "      <td>150</td>\n",
       "      <td>1</td>\n",
       "      <td>1</td>\n",
       "      <td>0.000000</td>\n",
       "      <td>1950.000000</td>\n",
       "    </tr>\n",
       "    <tr>\n",
       "      <td>6</td>\n",
       "      <td>1000</td>\n",
       "      <td>11</td>\n",
       "      <td>344.0</td>\n",
       "      <td>43.0</td>\n",
       "      <td>58.0</td>\n",
       "      <td>14756.47</td>\n",
       "      <td>14.39</td>\n",
       "      <td>52</td>\n",
       "      <td>NaT</td>\n",
       "      <td>Краснодар</td>\n",
       "      <td>Рафаил</td>\n",
       "      <td>Верещагин</td>\n",
       "      <td>2018-05-25</td>\n",
       "      <td>ultra</td>\n",
       "      <td>1000</td>\n",
       "      <td>30720</td>\n",
       "      <td>3000</td>\n",
       "      <td>1950</td>\n",
       "      <td>150</td>\n",
       "      <td>1</td>\n",
       "      <td>1</td>\n",
       "      <td>0.000000</td>\n",
       "      <td>1950.000000</td>\n",
       "    </tr>\n",
       "    <tr>\n",
       "      <td>7</td>\n",
       "      <td>1000</td>\n",
       "      <td>12</td>\n",
       "      <td>341.0</td>\n",
       "      <td>46.0</td>\n",
       "      <td>70.0</td>\n",
       "      <td>9817.61</td>\n",
       "      <td>9.56</td>\n",
       "      <td>52</td>\n",
       "      <td>NaT</td>\n",
       "      <td>Краснодар</td>\n",
       "      <td>Рафаил</td>\n",
       "      <td>Верещагин</td>\n",
       "      <td>2018-05-25</td>\n",
       "      <td>ultra</td>\n",
       "      <td>1000</td>\n",
       "      <td>30720</td>\n",
       "      <td>3000</td>\n",
       "      <td>1950</td>\n",
       "      <td>150</td>\n",
       "      <td>1</td>\n",
       "      <td>1</td>\n",
       "      <td>0.000000</td>\n",
       "      <td>1950.000000</td>\n",
       "    </tr>\n",
       "    <tr>\n",
       "      <td>8</td>\n",
       "      <td>1001</td>\n",
       "      <td>11</td>\n",
       "      <td>444.0</td>\n",
       "      <td>59.0</td>\n",
       "      <td>0.0</td>\n",
       "      <td>18429.34</td>\n",
       "      <td>17.98</td>\n",
       "      <td>41</td>\n",
       "      <td>NaT</td>\n",
       "      <td>Москва</td>\n",
       "      <td>Иван</td>\n",
       "      <td>Ежов</td>\n",
       "      <td>2018-11-01</td>\n",
       "      <td>smart</td>\n",
       "      <td>50</td>\n",
       "      <td>15360</td>\n",
       "      <td>500</td>\n",
       "      <td>550</td>\n",
       "      <td>200</td>\n",
       "      <td>3</td>\n",
       "      <td>3</td>\n",
       "      <td>599.609375</td>\n",
       "      <td>1149.609375</td>\n",
       "    </tr>\n",
       "    <tr>\n",
       "      <td>9</td>\n",
       "      <td>1001</td>\n",
       "      <td>12</td>\n",
       "      <td>430.0</td>\n",
       "      <td>63.0</td>\n",
       "      <td>0.0</td>\n",
       "      <td>14036.66</td>\n",
       "      <td>13.71</td>\n",
       "      <td>41</td>\n",
       "      <td>NaT</td>\n",
       "      <td>Москва</td>\n",
       "      <td>Иван</td>\n",
       "      <td>Ежов</td>\n",
       "      <td>2018-11-01</td>\n",
       "      <td>smart</td>\n",
       "      <td>50</td>\n",
       "      <td>15360</td>\n",
       "      <td>500</td>\n",
       "      <td>550</td>\n",
       "      <td>200</td>\n",
       "      <td>3</td>\n",
       "      <td>3</td>\n",
       "      <td>0.000000</td>\n",
       "      <td>550.000000</td>\n",
       "    </tr>\n",
       "  </tbody>\n",
       "</table>\n",
       "</div>"
      ],
      "text/plain": [
       "   user_id  month  month_calls_duration  calls_in_month  sms_in_month  \\\n",
       "0     1000      5                 164.0            22.0          22.0   \n",
       "1     1000      6                 187.0            43.0          60.0   \n",
       "2     1000      7                 346.0            47.0          75.0   \n",
       "3     1000      8                 418.0            52.0          81.0   \n",
       "4     1000      9                 478.0            58.0          57.0   \n",
       "5     1000     10                 363.0            57.0          73.0   \n",
       "6     1000     11                 344.0            43.0          58.0   \n",
       "7     1000     12                 341.0            46.0          70.0   \n",
       "8     1001     11                 444.0            59.0           0.0   \n",
       "9     1001     12                 430.0            63.0           0.0   \n",
       "\n",
       "   mb_in_month  gb_in_month  age churn_date       city first_name  last_name  \\\n",
       "0      2253.49         2.19   52        NaT  Краснодар     Рафаил  Верещагин   \n",
       "1     23233.77        22.68   52        NaT  Краснодар     Рафаил  Верещагин   \n",
       "2     14003.64        13.71   52        NaT  Краснодар     Рафаил  Верещагин   \n",
       "3     14055.93        13.74   52        NaT  Краснодар     Рафаил  Верещагин   \n",
       "4     14568.91        14.25   52        NaT  Краснодар     Рафаил  Верещагин   \n",
       "5     14702.49        14.36   52        NaT  Краснодар     Рафаил  Верещагин   \n",
       "6     14756.47        14.39   52        NaT  Краснодар     Рафаил  Верещагин   \n",
       "7      9817.61         9.56   52        NaT  Краснодар     Рафаил  Верещагин   \n",
       "8     18429.34        17.98   41        NaT     Москва       Иван       Ежов   \n",
       "9     14036.66        13.71   41        NaT     Москва       Иван       Ежов   \n",
       "\n",
       "    reg_date tariff  messages_included  mb_per_month_included  \\\n",
       "0 2018-05-25  ultra               1000                  30720   \n",
       "1 2018-05-25  ultra               1000                  30720   \n",
       "2 2018-05-25  ultra               1000                  30720   \n",
       "3 2018-05-25  ultra               1000                  30720   \n",
       "4 2018-05-25  ultra               1000                  30720   \n",
       "5 2018-05-25  ultra               1000                  30720   \n",
       "6 2018-05-25  ultra               1000                  30720   \n",
       "7 2018-05-25  ultra               1000                  30720   \n",
       "8 2018-11-01  smart                 50                  15360   \n",
       "9 2018-11-01  smart                 50                  15360   \n",
       "\n",
       "   minutes_included  rub_monthly_fee  rub_per_gb  rub_per_message  \\\n",
       "0              3000             1950         150                1   \n",
       "1              3000             1950         150                1   \n",
       "2              3000             1950         150                1   \n",
       "3              3000             1950         150                1   \n",
       "4              3000             1950         150                1   \n",
       "5              3000             1950         150                1   \n",
       "6              3000             1950         150                1   \n",
       "7              3000             1950         150                1   \n",
       "8               500              550         200                3   \n",
       "9               500              550         200                3   \n",
       "\n",
       "   rub_per_minute  tariff_above   total_paid  \n",
       "0               1      0.000000  1950.000000  \n",
       "1               1      0.000000  1950.000000  \n",
       "2               1      0.000000  1950.000000  \n",
       "3               1      0.000000  1950.000000  \n",
       "4               1      0.000000  1950.000000  \n",
       "5               1      0.000000  1950.000000  \n",
       "6               1      0.000000  1950.000000  \n",
       "7               1      0.000000  1950.000000  \n",
       "8               3    599.609375  1149.609375  \n",
       "9               3      0.000000   550.000000  "
      ]
     },
     "execution_count": 73,
     "metadata": {},
     "output_type": "execute_result"
    }
   ],
   "source": [
    "df.head(10)"
   ]
  },
  {
   "cell_type": "markdown",
   "metadata": {},
   "source": [
    "### Вывод"
   ]
  },
  {
   "cell_type": "markdown",
   "metadata": {},
   "source": [
    "**Звонки**:\n",
    "- Создали столбец с месяцем\n",
    "- Нашли количество звонков с нулевой длительностью - 39613\n",
    "- Округлили все значения в большую сторону (т.к. тариф считается по минутам), а нулевые значения заменили на 1\n",
    "\n",
    "**Интернет**:\n",
    "- Создадали столбец с месяцем\n",
    "- Округлили мб в большую сторону\n",
    "\n",
    "**Сообщения**:\n",
    "- Привели столбец id к типу int\n",
    "- Создали столбец с месяцем\n",
    "\n",
    "**Пользователи**:\n",
    "- эту таблицу оставили без изменений\n",
    "\n",
    "**Посчитали для каждого пользователя по месяцам**:\n",
    "- Количество сделанных звонков и израсходованных минут разговора\n",
    "- Количество отправленных сообщений\n",
    "- Объем израсходованного интернет-трафика \n",
    "- Соединили три таблицы в одну и получилась сводная таблица таблица amount_data\n",
    "- выручку с каждого пользователя:\n",
    "  - Для этого соединили данные в одну таблицу, получилась таблица df c новыми данными (таблица amount_data + таблицы users, messages, internet, calls)\n",
    "  - Заполнили пропуски на нулевые значения, так как скорее всего пропуски появились потому что эти люди не пользуются интернетом, не пишут смс и т.д\n",
    "- Посчитали количество сделанных звонков и израсходованных минут разговора: для этого написали функцию, округлив mbs вверх, т.к. цена указана за гигабайт"
   ]
  },
  {
   "cell_type": "markdown",
   "metadata": {},
   "source": [
    "## Проанализируйте данные"
   ]
  },
  {
   "cell_type": "markdown",
   "metadata": {},
   "source": [
    "- Опишите поведение клиентов оператора, исходя из выборки. Сколько минут разговора, сколько сообщений и какой объём интернет-трафика требуется пользователям каждого тарифа в месяц? Посчитайте среднее количество, дисперсию и стандартное отклонение. Постройте гистограммы. Опишите распределения."
   ]
  },
  {
   "cell_type": "markdown",
   "metadata": {},
   "source": [
    "**Звонки**:"
   ]
  },
  {
   "cell_type": "markdown",
   "metadata": {},
   "source": [
    "Тариф \"Смарт\""
   ]
  },
  {
   "cell_type": "code",
   "execution_count": 74,
   "metadata": {},
   "outputs": [],
   "source": [
    "smart_call = df.query('tariff == \"smart\"')\n",
    "smart_call_grouped = smart_call.groupby('month')['month_calls_duration'].agg('mean')"
   ]
  },
  {
   "cell_type": "markdown",
   "metadata": {},
   "source": [
    "Тариф \"Ультра\""
   ]
  },
  {
   "cell_type": "code",
   "execution_count": 75,
   "metadata": {},
   "outputs": [],
   "source": [
    "ultra_call = df.query('tariff == \"ultra\"')\n",
    "ultra_call_grouped = ultra_call.groupby('month')['month_calls_duration'].agg('mean')"
   ]
  },
  {
   "cell_type": "markdown",
   "metadata": {},
   "source": [
    "Количество пользователей в январе меньше, чем, например, в июне. Поэтому для расчетов взяли не сумму по пользователям в каждом месяце, а среднее."
   ]
  },
  {
   "cell_type": "markdown",
   "metadata": {},
   "source": [
    "Посчитаем среднее количество минут"
   ]
  },
  {
   "cell_type": "code",
   "execution_count": 76,
   "metadata": {},
   "outputs": [
    {
     "data": {
      "text/plain": [
       "397.37422758161216"
      ]
     },
     "execution_count": 76,
     "metadata": {},
     "output_type": "execute_result"
    }
   ],
   "source": [
    "smart_call_grouped.mean()"
   ]
  },
  {
   "cell_type": "code",
   "execution_count": 77,
   "metadata": {},
   "outputs": [
    {
     "data": {
      "text/plain": [
       "509.3565514033382"
      ]
     },
     "execution_count": 77,
     "metadata": {},
     "output_type": "execute_result"
    }
   ],
   "source": [
    "ultra_call_grouped.mean()"
   ]
  },
  {
   "cell_type": "code",
   "execution_count": 78,
   "metadata": {},
   "outputs": [
    {
     "data": {
      "text/html": [
       "<div>\n",
       "<style scoped>\n",
       "    .dataframe tbody tr th:only-of-type {\n",
       "        vertical-align: middle;\n",
       "    }\n",
       "\n",
       "    .dataframe tbody tr th {\n",
       "        vertical-align: top;\n",
       "    }\n",
       "\n",
       "    .dataframe thead th {\n",
       "        text-align: right;\n",
       "    }\n",
       "</style>\n",
       "<table border=\"1\" class=\"dataframe\">\n",
       "  <thead>\n",
       "    <tr style=\"text-align: right;\">\n",
       "      <th></th>\n",
       "      <th>month_calls_duration</th>\n",
       "    </tr>\n",
       "    <tr>\n",
       "      <th>month</th>\n",
       "      <th></th>\n",
       "    </tr>\n",
       "  </thead>\n",
       "  <tbody>\n",
       "    <tr>\n",
       "      <td>1</td>\n",
       "      <td>209.647059</td>\n",
       "    </tr>\n",
       "    <tr>\n",
       "      <td>2</td>\n",
       "      <td>306.310345</td>\n",
       "    </tr>\n",
       "    <tr>\n",
       "      <td>3</td>\n",
       "      <td>400.532468</td>\n",
       "    </tr>\n",
       "    <tr>\n",
       "      <td>4</td>\n",
       "      <td>377.000000</td>\n",
       "    </tr>\n",
       "    <tr>\n",
       "      <td>5</td>\n",
       "      <td>398.404255</td>\n",
       "    </tr>\n",
       "    <tr>\n",
       "      <td>6</td>\n",
       "      <td>406.701220</td>\n",
       "    </tr>\n",
       "    <tr>\n",
       "      <td>7</td>\n",
       "      <td>419.288557</td>\n",
       "    </tr>\n",
       "    <tr>\n",
       "      <td>8</td>\n",
       "      <td>433.191489</td>\n",
       "    </tr>\n",
       "    <tr>\n",
       "      <td>9</td>\n",
       "      <td>440.080769</td>\n",
       "    </tr>\n",
       "    <tr>\n",
       "      <td>10</td>\n",
       "      <td>438.295918</td>\n",
       "    </tr>\n",
       "    <tr>\n",
       "      <td>11</td>\n",
       "      <td>447.620253</td>\n",
       "    </tr>\n",
       "    <tr>\n",
       "      <td>12</td>\n",
       "      <td>491.418398</td>\n",
       "    </tr>\n",
       "  </tbody>\n",
       "</table>\n",
       "</div>"
      ],
      "text/plain": [
       "       month_calls_duration\n",
       "month                      \n",
       "1                209.647059\n",
       "2                306.310345\n",
       "3                400.532468\n",
       "4                377.000000\n",
       "5                398.404255\n",
       "6                406.701220\n",
       "7                419.288557\n",
       "8                433.191489\n",
       "9                440.080769\n",
       "10               438.295918\n",
       "11               447.620253\n",
       "12               491.418398"
      ]
     },
     "execution_count": 78,
     "metadata": {},
     "output_type": "execute_result"
    }
   ],
   "source": [
    "smart_call_grouped.to_frame()"
   ]
  },
  {
   "cell_type": "code",
   "execution_count": 79,
   "metadata": {},
   "outputs": [
    {
     "data": {
      "text/html": [
       "<div>\n",
       "<style scoped>\n",
       "    .dataframe tbody tr th:only-of-type {\n",
       "        vertical-align: middle;\n",
       "    }\n",
       "\n",
       "    .dataframe tbody tr th {\n",
       "        vertical-align: top;\n",
       "    }\n",
       "\n",
       "    .dataframe thead th {\n",
       "        text-align: right;\n",
       "    }\n",
       "</style>\n",
       "<table border=\"1\" class=\"dataframe\">\n",
       "  <thead>\n",
       "    <tr style=\"text-align: right;\">\n",
       "      <th></th>\n",
       "      <th>month_calls_duration</th>\n",
       "    </tr>\n",
       "    <tr>\n",
       "      <th>month</th>\n",
       "      <th></th>\n",
       "    </tr>\n",
       "  </thead>\n",
       "  <tbody>\n",
       "    <tr>\n",
       "      <td>1</td>\n",
       "      <td>440.888889</td>\n",
       "    </tr>\n",
       "    <tr>\n",
       "      <td>2</td>\n",
       "      <td>304.666667</td>\n",
       "    </tr>\n",
       "    <tr>\n",
       "      <td>3</td>\n",
       "      <td>503.081081</td>\n",
       "    </tr>\n",
       "    <tr>\n",
       "      <td>4</td>\n",
       "      <td>470.072727</td>\n",
       "    </tr>\n",
       "    <tr>\n",
       "      <td>5</td>\n",
       "      <td>524.865672</td>\n",
       "    </tr>\n",
       "    <tr>\n",
       "      <td>6</td>\n",
       "      <td>492.428571</td>\n",
       "    </tr>\n",
       "    <tr>\n",
       "      <td>7</td>\n",
       "      <td>560.296703</td>\n",
       "    </tr>\n",
       "    <tr>\n",
       "      <td>8</td>\n",
       "      <td>524.570093</td>\n",
       "    </tr>\n",
       "    <tr>\n",
       "      <td>9</td>\n",
       "      <td>553.643478</td>\n",
       "    </tr>\n",
       "    <tr>\n",
       "      <td>10</td>\n",
       "      <td>572.829268</td>\n",
       "    </tr>\n",
       "    <tr>\n",
       "      <td>11</td>\n",
       "      <td>555.805970</td>\n",
       "    </tr>\n",
       "    <tr>\n",
       "      <td>12</td>\n",
       "      <td>609.129496</td>\n",
       "    </tr>\n",
       "  </tbody>\n",
       "</table>\n",
       "</div>"
      ],
      "text/plain": [
       "       month_calls_duration\n",
       "month                      \n",
       "1                440.888889\n",
       "2                304.666667\n",
       "3                503.081081\n",
       "4                470.072727\n",
       "5                524.865672\n",
       "6                492.428571\n",
       "7                560.296703\n",
       "8                524.570093\n",
       "9                553.643478\n",
       "10               572.829268\n",
       "11               555.805970\n",
       "12               609.129496"
      ]
     },
     "execution_count": 79,
     "metadata": {},
     "output_type": "execute_result"
    }
   ],
   "source": [
    "ultra_call_grouped.to_frame()"
   ]
  },
  {
   "cell_type": "markdown",
   "metadata": {},
   "source": [
    "Посчитаем дисперсию для обоих тарифов:"
   ]
  },
  {
   "cell_type": "code",
   "execution_count": 80,
   "metadata": {},
   "outputs": [
    {
     "data": {
      "text/plain": [
       "5516.1613240186525"
      ]
     },
     "execution_count": 80,
     "metadata": {},
     "output_type": "execute_result"
    }
   ],
   "source": [
    "np.var(smart_call_grouped, ddof=1)"
   ]
  },
  {
   "cell_type": "code",
   "execution_count": 81,
   "metadata": {},
   "outputs": [
    {
     "data": {
      "text/plain": [
       "6329.46518897016"
      ]
     },
     "execution_count": 81,
     "metadata": {},
     "output_type": "execute_result"
    }
   ],
   "source": [
    "np.var(ultra_call_grouped, ddof=1)"
   ]
  },
  {
   "cell_type": "markdown",
   "metadata": {},
   "source": [
    "Посчитаем стандартное отклонение:"
   ]
  },
  {
   "cell_type": "code",
   "execution_count": 82,
   "metadata": {},
   "outputs": [
    {
     "data": {
      "text/plain": [
       "74.27086457029198"
      ]
     },
     "execution_count": 82,
     "metadata": {},
     "output_type": "execute_result"
    }
   ],
   "source": [
    "np.std(smart_call_grouped, ddof=1)"
   ]
  },
  {
   "cell_type": "code",
   "execution_count": 83,
   "metadata": {},
   "outputs": [
    {
     "data": {
      "text/plain": [
       "79.55793605272927"
      ]
     },
     "execution_count": 83,
     "metadata": {},
     "output_type": "execute_result"
    }
   ],
   "source": [
    "np.std(ultra_call_grouped, ddof=1)"
   ]
  },
  {
   "cell_type": "markdown",
   "metadata": {},
   "source": [
    "Применим правило трёх сигм и узнаем, в каком промежутке лежат интересующие нас данные:"
   ]
  },
  {
   "cell_type": "code",
   "execution_count": 84,
   "metadata": {},
   "outputs": [
    {
     "data": {
      "text/plain": [
       "174.56163387073622"
      ]
     },
     "execution_count": 84,
     "metadata": {},
     "output_type": "execute_result"
    }
   ],
   "source": [
    "smart_call_grouped.mean() - 3*np.std(smart_call_grouped, ddof=1)"
   ]
  },
  {
   "cell_type": "code",
   "execution_count": 85,
   "metadata": {},
   "outputs": [
    {
     "data": {
      "text/plain": [
       "286.54395769246224"
      ]
     },
     "execution_count": 85,
     "metadata": {},
     "output_type": "execute_result"
    }
   ],
   "source": [
    "ultra_call_grouped.mean() - 3*np.std(smart_call_grouped, ddof=1)"
   ]
  },
  {
   "cell_type": "code",
   "execution_count": 86,
   "metadata": {},
   "outputs": [
    {
     "data": {
      "text/plain": [
       "620.186821292488"
      ]
     },
     "execution_count": 86,
     "metadata": {},
     "output_type": "execute_result"
    }
   ],
   "source": [
    "smart_call_grouped.mean() + 3*np.std(smart_call_grouped, ddof=1)"
   ]
  },
  {
   "cell_type": "code",
   "execution_count": 87,
   "metadata": {},
   "outputs": [
    {
     "data": {
      "text/plain": [
       "732.1691451142142"
      ]
     },
     "execution_count": 87,
     "metadata": {},
     "output_type": "execute_result"
    }
   ],
   "source": [
    "ultra_call_grouped.mean() + 3*np.std(smart_call_grouped, ddof=1)"
   ]
  },
  {
   "cell_type": "code",
   "execution_count": 88,
   "metadata": {},
   "outputs": [
    {
     "data": {
      "image/png": "[encoded data removed]",
      "text/plain": [
       "<Figure size 432x288 with 1 Axes>"
      ]
     },
     "metadata": {
      "needs_background": "light"
     },
     "output_type": "display_data"
    }
   ],
   "source": [
    "smart_call.hist('month_calls_duration', bins=20)\n",
    "plt.title('Smart.Использование минут в месяц')\n",
    "plt.show()"
   ]
  },
  {
   "cell_type": "markdown",
   "metadata": {},
   "source": [
    "Распределение гистограммы можно назвать нормальным. Большая часть значений лежит в промежутке, который был выявлен ранее. Абсолютное большинство абонентов тарифа smart используют от 300 до 590 минут звонков в месяц."
   ]
  },
  {
   "cell_type": "code",
   "execution_count": 89,
   "metadata": {},
   "outputs": [
    {
     "data": {
      "image/png": "[encoded data removed]",
      "text/plain": [
       "<Figure size 432x288 with 1 Axes>"
      ]
     },
     "metadata": {
      "needs_background": "light"
     },
     "output_type": "display_data"
    }
   ],
   "source": [
    "ultra_call.hist('month_calls_duration', bins=20)\n",
    "plt.title('Ultra.Использование минут в месяц')\n",
    "plt.show()"
   ]
  },
  {
   "cell_type": "markdown",
   "metadata": {},
   "source": [
    "Гистограмма скошена вправо. Это говорит о том, что значение медианы меньше среднего, значит, есть ряд высоких значений, которые влияют на среднее, но не влияют на медиану. Видим, что основная масса пользователей использует 400-600 минут в месяц."
   ]
  },
  {
   "cell_type": "markdown",
   "metadata": {},
   "source": [
    "**Сообщения**"
   ]
  },
  {
   "cell_type": "markdown",
   "metadata": {},
   "source": [
    "Тариф \"Смарт\""
   ]
  },
  {
   "cell_type": "code",
   "execution_count": 90,
   "metadata": {},
   "outputs": [],
   "source": [
    "smart_sms = df.query('tariff == \"smart\"')\n",
    "smart_sms_grouped = smart_sms.groupby('month')['sms_in_month'].agg('mean')"
   ]
  },
  {
   "cell_type": "markdown",
   "metadata": {},
   "source": [
    "Тариф \"Ультра\""
   ]
  },
  {
   "cell_type": "code",
   "execution_count": 91,
   "metadata": {},
   "outputs": [],
   "source": [
    "ultra_sms = df.query('tariff == \"ultra\"')\n",
    "ultra_sms_grouped = ultra_sms.groupby('month')['sms_in_month'].agg('mean')"
   ]
  },
  {
   "cell_type": "markdown",
   "metadata": {},
   "source": [
    "Посчитаем среднее количество сообщений в месяц для пользователей обоих тарифов:"
   ]
  },
  {
   "cell_type": "code",
   "execution_count": 92,
   "metadata": {},
   "outputs": [
    {
     "data": {
      "text/plain": [
       "31.413210661085547"
      ]
     },
     "execution_count": 92,
     "metadata": {},
     "output_type": "execute_result"
    }
   ],
   "source": [
    "smart_sms_grouped.mean()"
   ]
  },
  {
   "cell_type": "code",
   "execution_count": 93,
   "metadata": {},
   "outputs": [
    {
     "data": {
      "text/plain": [
       "43.71498284147191"
      ]
     },
     "execution_count": 93,
     "metadata": {},
     "output_type": "execute_result"
    }
   ],
   "source": [
    "ultra_sms_grouped.mean()"
   ]
  },
  {
   "cell_type": "markdown",
   "metadata": {},
   "source": [
    "Посчитаем дисперсию:"
   ]
  },
  {
   "cell_type": "code",
   "execution_count": 94,
   "metadata": {},
   "outputs": [
    {
     "data": {
      "text/plain": [
       "26.0448270922888"
      ]
     },
     "execution_count": 94,
     "metadata": {},
     "output_type": "execute_result"
    }
   ],
   "source": [
    "np.var(smart_sms_grouped, ddof=1)"
   ]
  },
  {
   "cell_type": "code",
   "execution_count": 95,
   "metadata": {},
   "outputs": [
    {
     "data": {
      "text/plain": [
       "151.79398765605353"
      ]
     },
     "execution_count": 95,
     "metadata": {},
     "output_type": "execute_result"
    }
   ],
   "source": [
    "np.var(ultra_sms_grouped, ddof=1)"
   ]
  },
  {
   "cell_type": "markdown",
   "metadata": {},
   "source": [
    "Найдем стандартное отклонение:"
   ]
  },
  {
   "cell_type": "code",
   "execution_count": 96,
   "metadata": {},
   "outputs": [
    {
     "data": {
      "text/plain": [
       "5.103413278609601"
      ]
     },
     "execution_count": 96,
     "metadata": {},
     "output_type": "execute_result"
    }
   ],
   "source": [
    "np.std(smart_sms_grouped, ddof=1)"
   ]
  },
  {
   "cell_type": "code",
   "execution_count": 97,
   "metadata": {},
   "outputs": [
    {
     "data": {
      "text/plain": [
       "12.320470269273553"
      ]
     },
     "execution_count": 97,
     "metadata": {},
     "output_type": "execute_result"
    }
   ],
   "source": [
    "np.std(ultra_sms_grouped, ddof=1)"
   ]
  },
  {
   "cell_type": "markdown",
   "metadata": {},
   "source": [
    "Построим гистограммы:"
   ]
  },
  {
   "cell_type": "code",
   "execution_count": 98,
   "metadata": {},
   "outputs": [
    {
     "data": {
      "text/plain": [
       "<function matplotlib.pyplot.show(*args, **kw)>"
      ]
     },
     "execution_count": 98,
     "metadata": {},
     "output_type": "execute_result"
    },
    {
     "data": {
      "image/png": "[encoded data removed]",
      "text/plain": [
       "<Figure size 432x288 with 1 Axes>"
      ]
     },
     "metadata": {
      "needs_background": "light"
     },
     "output_type": "display_data"
    }
   ],
   "source": [
    "smart_sms.hist('sms_in_month')\n",
    "plt.title('Smart.Количество смс в месяц')\n",
    "plt.show"
   ]
  },
  {
   "cell_type": "markdown",
   "metadata": {},
   "source": [
    "Гистограмма скошена вправо - среднее больше медианы. Получается, хотя большинство пользователей используют сообщения в рамках лимита - 50 - всё же есть те, кто значительно превышает лимит, тем самым принося выручку компании."
   ]
  },
  {
   "cell_type": "code",
   "execution_count": 99,
   "metadata": {},
   "outputs": [
    {
     "data": {
      "text/plain": [
       "<function matplotlib.pyplot.show(*args, **kw)>"
      ]
     },
     "execution_count": 99,
     "metadata": {},
     "output_type": "execute_result"
    },
    {
     "data": {
      "image/png": "[encoded data removed]",
      "text/plain": [
       "<Figure size 432x288 with 1 Axes>"
      ]
     },
     "metadata": {
      "needs_background": "light"
     },
     "output_type": "display_data"
    }
   ],
   "source": [
    "ultra_sms.hist('sms_in_month')\n",
    "plt.title('Ultra.Количество смс в месяц')\n",
    "plt.show"
   ]
  },
  {
   "cell_type": "markdown",
   "metadata": {},
   "source": [
    "Гистограмма здесь также скошена вправо - среднее больше медианы. Кажется, основная масса пользователей ultra использует еще меньше сообщений, чем в smart. Однако, опять-таки, есть и те, кто отправляет 100 и больше сообщений. Но лимита в 1000 сообщений не достигает никто"
   ]
  },
  {
   "cell_type": "markdown",
   "metadata": {},
   "source": [
    "**Интернет**"
   ]
  },
  {
   "cell_type": "markdown",
   "metadata": {},
   "source": [
    "Тариф \"Смарт\":"
   ]
  },
  {
   "cell_type": "code",
   "execution_count": 100,
   "metadata": {},
   "outputs": [],
   "source": [
    "smart_gb = df.query('tariff == \"smart\"')\n",
    "smart_gb_grouped = smart_gb.groupby('month')['gb_in_month'].agg('mean')"
   ]
  },
  {
   "cell_type": "markdown",
   "metadata": {},
   "source": [
    "Тариф \"Ультра\":"
   ]
  },
  {
   "cell_type": "code",
   "execution_count": 101,
   "metadata": {},
   "outputs": [],
   "source": [
    "ultra_gb = df.query('tariff == \"ultra\"')\n",
    "ultra_gb_grouped = ultra_gb.groupby('month')['gb_in_month'].agg('mean')"
   ]
  },
  {
   "cell_type": "markdown",
   "metadata": {},
   "source": [
    "Посчитаем среднее количество использованных мегабайт в месяц для пользователей обоих тарифов:"
   ]
  },
  {
   "cell_type": "code",
   "execution_count": 102,
   "metadata": {},
   "outputs": [
    {
     "data": {
      "text/plain": [
       "14.705537931308621"
      ]
     },
     "execution_count": 102,
     "metadata": {},
     "output_type": "execute_result"
    }
   ],
   "source": [
    "smart_gb_grouped.mean()"
   ]
  },
  {
   "cell_type": "code",
   "execution_count": 103,
   "metadata": {},
   "outputs": [
    {
     "data": {
      "text/plain": [
       "17.77842249485461"
      ]
     },
     "execution_count": 103,
     "metadata": {},
     "output_type": "execute_result"
    }
   ],
   "source": [
    "ultra_gb_grouped.mean()"
   ]
  },
  {
   "cell_type": "markdown",
   "metadata": {},
   "source": [
    "Дисперсия:"
   ]
  },
  {
   "cell_type": "code",
   "execution_count": 104,
   "metadata": {},
   "outputs": [
    {
     "data": {
      "text/plain": [
       "6.802808672665282"
      ]
     },
     "execution_count": 104,
     "metadata": {},
     "output_type": "execute_result"
    }
   ],
   "source": [
    "np.var(smart_gb_grouped, ddof=1)"
   ]
  },
  {
   "cell_type": "code",
   "execution_count": 105,
   "metadata": {},
   "outputs": [
    {
     "data": {
      "text/plain": [
       "8.511487718324314"
      ]
     },
     "execution_count": 105,
     "metadata": {},
     "output_type": "execute_result"
    }
   ],
   "source": [
    "np.var(ultra_gb_grouped, ddof=1)"
   ]
  },
  {
   "cell_type": "markdown",
   "metadata": {},
   "source": [
    "Посчитаем среднее отклонение:"
   ]
  },
  {
   "cell_type": "code",
   "execution_count": 106,
   "metadata": {},
   "outputs": [
    {
     "data": {
      "text/plain": [
       "2.608219444882904"
      ]
     },
     "execution_count": 106,
     "metadata": {},
     "output_type": "execute_result"
    }
   ],
   "source": [
    "np.std(smart_gb_grouped, ddof=1)"
   ]
  },
  {
   "cell_type": "code",
   "execution_count": 107,
   "metadata": {},
   "outputs": [
    {
     "data": {
      "text/plain": [
       "2.9174454096562483"
      ]
     },
     "execution_count": 107,
     "metadata": {},
     "output_type": "execute_result"
    }
   ],
   "source": [
    "np.std(ultra_gb_grouped, ddof=1)"
   ]
  },
  {
   "cell_type": "code",
   "execution_count": 108,
   "metadata": {},
   "outputs": [
    {
     "data": {
      "image/png": "[encoded data removed]",
      "text/plain": [
       "<Figure size 432x288 with 1 Axes>"
      ]
     },
     "metadata": {
      "needs_background": "light"
     },
     "output_type": "display_data"
    }
   ],
   "source": [
    "smart_gb.hist('gb_in_month')\n",
    "plt.title('Smart.Использованные гб в месяц')\n",
    "plt.show()"
   ]
  },
  {
   "cell_type": "markdown",
   "metadata": {},
   "source": [
    "Распределение нормальное, видим, что половина пользователей придерживается крайних значений лимита (15 гб), однако вторая половина докупает недостающий трафик. Посмотрим на данные по второму тарифу."
   ]
  },
  {
   "cell_type": "code",
   "execution_count": 109,
   "metadata": {},
   "outputs": [
    {
     "data": {
      "image/png": "[encoded data removed]",
      "text/plain": [
       "<Figure size 432x288 with 1 Axes>"
      ]
     },
     "metadata": {
      "needs_background": "light"
     },
     "output_type": "display_data"
    }
   ],
   "source": [
    "ultra_gb.hist('gb_in_month')\n",
    "plt.title('Ultra.Использованные гб в месяц')\n",
    "plt.show()"
   ]
  },
  {
   "cell_type": "markdown",
   "metadata": {},
   "source": [
    "Из гистограммы очевидно почему основная масса пользователей тарифа ultra выбирает именно его: они используют намного больше трафика, чем пользователи smart. Если на предыдущей гистограмме после значения 17 гб данные уходили вниз, то здесь показатели не снижаются до отметки в 30 гб."
   ]
  },
  {
   "cell_type": "code",
   "execution_count": 110,
   "metadata": {},
   "outputs": [
    {
     "data": {
      "image/png": "[encoded data removed]",
      "text/plain": [
       "<Figure size 1080x360 with 1 Axes>"
      ]
     },
     "metadata": {
      "needs_background": "light"
     },
     "output_type": "display_data"
    }
   ],
   "source": [
    "fig = plt.figure(figsize = (15,5))\n",
    "plt.hist(df.query('tariff == \"smart\"')['gb_in_month'], bins=100, alpha=0.5, label='Тариф \"Смарт\"')\n",
    "plt.hist(df.query('tariff == \"ultra\"')['gb_in_month'], bins=100, alpha=0.5, label='Тариф \"Ультра\"', ec=\"k\")\n",
    "plt.plot([0, 50], [150, 150],dashes=[2, 2])\n",
    "plt.xlim(left = 0)\n",
    "plt.legend(loc='best')\n",
    "plt.xlabel('Интернет-трафик, гб')\n",
    "plt.ylabel('Количество наблюдений, шт.')\n",
    "plt.show()"
   ]
  },
  {
   "cell_type": "markdown",
   "metadata": {},
   "source": [
    "Скачков на нулях почти не наблюдается. По тарифу \"Смарт\" пиковое значение приходятся на 17 Гб. Пиковое значение по тарифу \"Ультра\" - на 20-22 Гб. Можно отметить, что в целом графики интернет-траффика имеют нормальное распределение с минимальным количеством выбросов."
   ]
  },
  {
   "cell_type": "markdown",
   "metadata": {},
   "source": [
    "### Вывод"
   ]
  },
  {
   "cell_type": "markdown",
   "metadata": {},
   "source": [
    "- **Звонки**:\n",
    "  - пользователи smart тарифа используют примерно такое же количество минут в месяц (совсем немного меньше), чем пользователи ultra. Так что можно сделать вывод, что, скорее всего, пользователи ultra выбирают этот тариф не из-за количества минут, а по другим причинам. \n",
    "  - распределение на гистограммах неодинаковое и можно заметить, что есть ряд пользователей ultra, которые всё-таки используют большее количество минут по назначению, хотя никто и не достигает лимита в 3000 минут\n",
    "- **Сообщения**:\n",
    "  - гистограммы обоих тарифов скошены вправо, значит среднее больше медианы. \n",
    "  - большинство пользователей обоих тарифов используют сообщения в рамках лимита. Однако, всё же есть те, кто значительно превышает лимит, тем самым принося выручку компании\n",
    "- **Интернет**:\n",
    "  - Пользователи smart и ultra тарифов используют почти одинаковое количество минут звонков и сообщений в месяц. Лимита на звонки и минуты в ultra в среднем не достигает никто. А вот интернетом пользователи ultra пользуются гораздо активнее. Скорее всего, пользователи ultra выбирают этот тариф из-за большего количетсва мб, включенных в пакет услуг. "
   ]
  },
  {
   "cell_type": "markdown",
   "metadata": {},
   "source": [
    "## Проверьте гипотезы"
   ]
  },
  {
   "cell_type": "markdown",
   "metadata": {},
   "source": [
    "- средняя выручка пользователей тарифов «Ультра» и «Смарт» различаются;\n",
    "- средняя выручка пользователи из Москвы отличается от выручки пользователей из других регионов.\n",
    "\n",
    "Пороговое значение alpha задайте самостоятельно.\n",
    "\n",
    "Поясните:\n",
    "- как вы формулировали нулевую и альтернативную гипотезы;\n",
    "- какой критерий использовали для проверки гипотез и почему."
   ]
  },
  {
   "cell_type": "markdown",
   "metadata": {},
   "source": [
    "**1. Средняя выручка пользователей тарифов «Ультра» и «Смарт» различается**"
   ]
  },
  {
   "cell_type": "markdown",
   "metadata": {},
   "source": [
    "Сформулируем нулевую и альтернативную гипотезы. Нулевую гипотезу будем формулировать так, чтобы использовать знак равенства. Альтернативную гипотезу сформулируем оттакливаясь от нулевой гипотезы.\n",
    "\n",
    "H₀ - средняя выручка пользователей тарифов «Ультра» и «Смарт» равна\n",
    "H₁ - средняя выручка пользователей тарифов «Ультра» и «Смарт» не равна"
   ]
  },
  {
   "cell_type": "code",
   "execution_count": 111,
   "metadata": {},
   "outputs": [],
   "source": [
    "smart_paid = df.query('tariff == \"smart\"')\n",
    "ultra_paid = df.query('tariff == \"ultra\"')"
   ]
  },
  {
   "cell_type": "markdown",
   "metadata": {},
   "source": [
    "Зададим критический уровень статистической значимости:"
   ]
  },
  {
   "cell_type": "code",
   "execution_count": 112,
   "metadata": {},
   "outputs": [],
   "source": [
    "alpha = .05"
   ]
  },
  {
   "cell_type": "code",
   "execution_count": 113,
   "metadata": {},
   "outputs": [
    {
     "name": "stdout",
     "output_type": "stream",
     "text": [
      "p-значение: 3.8963755737743836e-182\n"
     ]
    }
   ],
   "source": [
    "results = st.ttest_ind(smart_paid['total_paid'],ultra_paid['total_paid'])\n",
    "print('p-значение:', results.pvalue)"
   ]
  },
  {
   "cell_type": "code",
   "execution_count": 114,
   "metadata": {},
   "outputs": [
    {
     "name": "stdout",
     "output_type": "stream",
     "text": [
      "Отвергаем нулевую гипотезу\n",
      "\n",
      "Средняя выручка в месяц с пользователя тарифа smart - 1247.47\n",
      "Средняя выручка в месяц с пользователя тарифа ultra - 2059.88\n"
     ]
    }
   ],
   "source": [
    "if (results.pvalue < alpha):\n",
    "    print(\"Отвергаем нулевую гипотезу\")\n",
    "else:\n",
    "    print(\"Не получилось отвергнуть нулевую гипотезу\")\n",
    "    \n",
    "print()    \n",
    "print('Средняя выручка в месяц с пользователя тарифа smart -', smart_paid['total_paid'].mean().round(2))\n",
    "print('Средняя выручка в месяц с пользователя тарифа ultra -', ultra_paid['total_paid'].mean().round(2))"
   ]
  },
  {
   "cell_type": "markdown",
   "metadata": {},
   "source": [
    "Отвергаем первую гипотезу. Однако, из данных видно, что между выручкой есть разница. По среднему значению видим, что выручка с пользователей тарифа ultra больше даже несмотря на то, что тариф выбирают в 2 раза реже"
   ]
  },
  {
   "cell_type": "markdown",
   "metadata": {},
   "source": [
    "**2. Средняя выручка пользователей из Москвы отличается от выручки пользователей из других регионов**"
   ]
  },
  {
   "cell_type": "markdown",
   "metadata": {},
   "source": [
    "Сформулируем нулевую и альтернативную гипотезы:\n",
    "\n",
    "H₀ - средняя выручка пользователей из Москвы и остальных регионов равна\n",
    "H₁ - средняя выручка пользователей из Москвы и остальных регионов не равна"
   ]
  },
  {
   "cell_type": "code",
   "execution_count": 115,
   "metadata": {},
   "outputs": [],
   "source": [
    "Moscow = df.query('city == \"Москва\"')\n",
    "not_Moscow = df.query('city != \"Москва\"')"
   ]
  },
  {
   "cell_type": "code",
   "execution_count": 116,
   "metadata": {},
   "outputs": [
    {
     "name": "stdout",
     "output_type": "stream",
     "text": [
      "p-значение: 0.515868945041714\n"
     ]
    }
   ],
   "source": [
    "results = st.ttest_ind(Moscow['total_paid'],not_Moscow['total_paid'])\n",
    "print('p-значение:', results.pvalue)"
   ]
  },
  {
   "cell_type": "code",
   "execution_count": 117,
   "metadata": {},
   "outputs": [
    {
     "name": "stdout",
     "output_type": "stream",
     "text": [
      "Не получилось отвергнуть нулевую гипотезу\n",
      "\n",
      "Средняя выручка в месяц с пользователя из Москвы 1515.04\n",
      "Средняя выручка в месяц с пользователя не из Москвы 1492.09\n"
     ]
    }
   ],
   "source": [
    "if (results.pvalue < alpha):\n",
    "    print(\"Отвергаем нулевую гипотезу\")\n",
    "else:\n",
    "    print(\"Не получилось отвергнуть нулевую гипотезу\")\n",
    "    \n",
    "print()    \n",
    "print('Средняя выручка в месяц с пользователя из Москвы', Moscow['total_paid'].mean().round(2))\n",
    "print('Средняя выручка в месяц с пользователя не из Москвы', not_Moscow['total_paid'].mean().round(2))"
   ]
  },
  {
   "cell_type": "markdown",
   "metadata": {},
   "source": [
    "Вторую гипотезу отвергнуть не удалось - выручка с пользователей-москвичей и пользователей из других регионов почти равнозначна."
   ]
  },
  {
   "cell_type": "markdown",
   "metadata": {},
   "source": [
    "### Вывод"
   ]
  },
  {
   "cell_type": "markdown",
   "metadata": {},
   "source": [
    "Проверили 2 гипотезы:\n",
    "\n",
    "- Средняя выручка пользователей тарифов «Ультра» и «Смарт» равна - отвергли\n",
    "- Средняя выручка пользователей из Москвы равна выручке пользователей из других регионов - отвергнуть не удалось"
   ]
  },
  {
   "cell_type": "markdown",
   "metadata": {},
   "source": [
    "## Общий вывод"
   ]
  },
  {
   "cell_type": "markdown",
   "metadata": {},
   "source": [
    "По результатам статистического анализа доходы от тарифа «Ультра» больше, чем от тарифа «Смарт»: в среднем «Мегалайн» от одного пользователя в месяц получает 2059 рублей и 1247 рублей соответственно.\n",
    "\n",
    "**Особенности использования тарифов заключаются в следующем**:\n",
    "\n",
    "- Пользователям тарифа «Смарт» не хватает услуг в рамках тарифного пакета: кроме абонентской платы пользователи в среднем доплачивают еще 438 рублей ежемесячно.\n",
    "- Пользователи тарифа «Ультра», напротив, не используют тарифный пакет в полном объеме.\n",
    "- Средние доходы от пользователей в Москве не отличаются от доходов в других населенных пунктах: разница статистически незначима: 1515 руб. в Москве против 1492 руб в других населенных пунктах.\n",
    "\n",
    "«Мегалайну» надо подумать и выработать промежуточное решение, которое позволяло бы клиенту пользоваться услугами связи без дополнительных заказов (особенно мобильным интернетом). При этом необходимо, чтобы цена являлась промежуточным вариантом между текущими. Учитывая, что средний пользователь тарифа платит в итоге 950-1200 рублей за месяц, а это значит, что эти деньги клиент готов тратить в месяц в качестве абонентской платы, можно было бы предложить тарифы с абонентской платой 1000-1200 р в месяц и назвать их, например, «Смарт +» и «Ультра Мини».  "
   ]
  }
 ],
 "metadata": {
  "ExecuteTimeLog": [
   {
    "duration": 1345,
    "start_time": "2021-08-10T13:46:57.221Z"
   },
   {
    "duration": 4,
    "start_time": "2021-08-10T13:58:05.055Z"
   },
   {
    "duration": 217,
    "start_time": "2021-08-10T14:04:06.978Z"
   },
   {
    "duration": 365,
    "start_time": "2021-08-10T14:04:33.640Z"
   },
   {
    "duration": 309,
    "start_time": "2021-08-10T14:04:59.297Z"
   },
   {
    "duration": 114,
    "start_time": "2021-08-10T14:05:59.038Z"
   },
   {
    "duration": 68,
    "start_time": "2021-08-10T14:06:22.204Z"
   },
   {
    "duration": 398,
    "start_time": "2021-08-10T14:06:31.668Z"
   },
   {
    "duration": 377,
    "start_time": "2021-08-10T14:06:36.188Z"
   },
   {
    "duration": 434,
    "start_time": "2021-08-10T14:06:42.020Z"
   },
   {
    "duration": 737,
    "start_time": "2021-08-10T14:06:56.051Z"
   },
   {
    "duration": 1402,
    "start_time": "2021-08-10T14:07:05.969Z"
   },
   {
    "duration": 383,
    "start_time": "2021-08-10T14:07:07.374Z"
   },
   {
    "duration": 306,
    "start_time": "2021-08-10T14:07:07.760Z"
   },
   {
    "duration": 1303,
    "start_time": "2021-08-10T14:07:08.069Z"
   },
   {
    "duration": 57,
    "start_time": "2021-08-10T14:07:09.375Z"
   },
   {
    "duration": 65,
    "start_time": "2021-08-10T14:07:09.434Z"
   },
   {
    "duration": 27,
    "start_time": "2021-08-10T14:07:26.978Z"
   },
   {
    "duration": 345,
    "start_time": "2021-08-10T14:08:32.530Z"
   },
   {
    "duration": 375,
    "start_time": "2021-08-10T14:08:39.840Z"
   },
   {
    "duration": 313,
    "start_time": "2021-08-10T14:08:51.408Z"
   },
   {
    "duration": 62,
    "start_time": "2021-08-10T14:09:17.887Z"
   },
   {
    "duration": 73,
    "start_time": "2021-08-10T14:09:28.759Z"
   },
   {
    "duration": 1357,
    "start_time": "2021-08-15T14:51:08.039Z"
   },
   {
    "duration": 356,
    "start_time": "2021-08-15T14:51:09.399Z"
   },
   {
    "duration": 412,
    "start_time": "2021-08-15T14:51:09.759Z"
   },
   {
    "duration": 265,
    "start_time": "2021-08-15T14:51:10.173Z"
   },
   {
    "duration": 81,
    "start_time": "2021-08-15T14:51:10.441Z"
   },
   {
    "duration": 120,
    "start_time": "2021-08-15T14:51:10.525Z"
   },
   {
    "duration": 81,
    "start_time": "2021-08-15T14:52:18.359Z"
   },
   {
    "duration": 28,
    "start_time": "2021-08-15T14:59:34.560Z"
   },
   {
    "duration": 25,
    "start_time": "2021-08-15T14:59:44.097Z"
   },
   {
    "duration": 6,
    "start_time": "2021-08-15T14:59:52.745Z"
   },
   {
    "duration": 57,
    "start_time": "2021-08-15T14:59:58.195Z"
   },
   {
    "duration": 8,
    "start_time": "2021-08-15T15:00:03.285Z"
   },
   {
    "duration": 14,
    "start_time": "2021-08-15T15:01:03.207Z"
   },
   {
    "duration": 118,
    "start_time": "2021-08-15T15:01:24.588Z"
   },
   {
    "duration": 374,
    "start_time": "2021-08-16T09:23:11.470Z"
   },
   {
    "duration": 1369,
    "start_time": "2021-08-16T09:23:20.139Z"
   },
   {
    "duration": 386,
    "start_time": "2021-08-16T09:23:21.511Z"
   },
   {
    "duration": 316,
    "start_time": "2021-08-16T09:23:21.901Z"
   },
   {
    "duration": 246,
    "start_time": "2021-08-16T09:23:22.219Z"
   },
   {
    "duration": 68,
    "start_time": "2021-08-16T09:23:22.468Z"
   },
   {
    "duration": 61,
    "start_time": "2021-08-16T09:23:22.538Z"
   },
   {
    "duration": 71,
    "start_time": "2021-08-16T09:23:22.602Z"
   },
   {
    "duration": 49,
    "start_time": "2021-08-16T09:23:22.676Z"
   },
   {
    "duration": 30,
    "start_time": "2021-08-16T09:23:22.729Z"
   },
   {
    "duration": 66,
    "start_time": "2021-08-16T09:23:22.762Z"
   },
   {
    "duration": 6,
    "start_time": "2021-08-16T09:23:22.831Z"
   },
   {
    "duration": 16,
    "start_time": "2021-08-16T09:23:22.840Z"
   },
   {
    "duration": 23,
    "start_time": "2021-08-16T09:23:22.858Z"
   },
   {
    "duration": 54,
    "start_time": "2021-08-16T09:23:28.651Z"
   },
   {
    "duration": 51,
    "start_time": "2021-08-16T09:23:37.475Z"
   },
   {
    "duration": 52,
    "start_time": "2021-08-16T09:23:49.995Z"
   },
   {
    "duration": 1453,
    "start_time": "2021-08-16T09:48:10.686Z"
   },
   {
    "duration": 584,
    "start_time": "2021-08-16T09:48:12.143Z"
   },
   {
    "duration": 304,
    "start_time": "2021-08-16T09:48:12.730Z"
   },
   {
    "duration": 1349,
    "start_time": "2021-08-16T09:48:13.037Z"
   },
   {
    "duration": 60,
    "start_time": "2021-08-16T09:48:14.389Z"
   },
   {
    "duration": 95,
    "start_time": "2021-08-16T09:48:14.452Z"
   },
   {
    "duration": 69,
    "start_time": "2021-08-16T09:48:14.550Z"
   },
   {
    "duration": 32,
    "start_time": "2021-08-16T09:48:14.621Z"
   },
   {
    "duration": 46,
    "start_time": "2021-08-16T09:48:14.656Z"
   },
   {
    "duration": 38,
    "start_time": "2021-08-16T09:48:14.705Z"
   },
   {
    "duration": 7,
    "start_time": "2021-08-16T09:48:14.746Z"
   },
   {
    "duration": 11,
    "start_time": "2021-08-16T09:48:14.755Z"
   },
   {
    "duration": 40,
    "start_time": "2021-08-16T09:48:14.768Z"
   },
   {
    "duration": 31,
    "start_time": "2021-08-16T09:49:52.557Z"
   },
   {
    "duration": 1523,
    "start_time": "2021-08-16T10:49:40.866Z"
   },
   {
    "duration": 437,
    "start_time": "2021-08-16T10:49:42.393Z"
   },
   {
    "duration": 310,
    "start_time": "2021-08-16T10:49:42.833Z"
   },
   {
    "duration": 1357,
    "start_time": "2021-08-16T10:49:43.147Z"
   },
   {
    "duration": 78,
    "start_time": "2021-08-16T10:49:44.507Z"
   },
   {
    "duration": 133,
    "start_time": "2021-08-16T10:49:44.588Z"
   },
   {
    "duration": 67,
    "start_time": "2021-08-16T10:49:44.724Z"
   },
   {
    "duration": 30,
    "start_time": "2021-08-16T10:49:44.796Z"
   },
   {
    "duration": 24,
    "start_time": "2021-08-16T10:49:44.828Z"
   },
   {
    "duration": 60,
    "start_time": "2021-08-16T10:49:44.854Z"
   },
   {
    "duration": 6,
    "start_time": "2021-08-16T10:49:44.917Z"
   },
   {
    "duration": 11,
    "start_time": "2021-08-16T10:49:44.925Z"
   },
   {
    "duration": 40,
    "start_time": "2021-08-16T10:49:44.938Z"
   },
   {
    "duration": 31,
    "start_time": "2021-08-16T10:49:45.001Z"
   },
   {
    "duration": 14,
    "start_time": "2021-08-16T10:49:45.034Z"
   },
   {
    "duration": 27,
    "start_time": "2021-08-16T10:56:51.737Z"
   },
   {
    "duration": 392,
    "start_time": "2021-08-16T10:57:04.097Z"
   },
   {
    "duration": 273,
    "start_time": "2021-08-16T10:57:12.050Z"
   },
   {
    "duration": 25,
    "start_time": "2021-08-16T10:57:19.441Z"
   },
   {
    "duration": 138,
    "start_time": "2021-08-16T11:28:26.937Z"
   },
   {
    "duration": 3,
    "start_time": "2021-08-16T11:31:42.850Z"
   },
   {
    "duration": 134,
    "start_time": "2021-08-16T11:34:30.934Z"
   },
   {
    "duration": 19,
    "start_time": "2021-08-16T11:43:08.374Z"
   },
   {
    "duration": 25,
    "start_time": "2021-08-16T11:44:08.264Z"
   },
   {
    "duration": 4,
    "start_time": "2021-08-16T11:44:59.990Z"
   },
   {
    "duration": 1462,
    "start_time": "2021-08-16T12:10:30.310Z"
   },
   {
    "duration": 370,
    "start_time": "2021-08-16T12:10:31.775Z"
   },
   {
    "duration": 358,
    "start_time": "2021-08-16T12:10:32.148Z"
   },
   {
    "duration": 278,
    "start_time": "2021-08-16T12:10:32.513Z"
   },
   {
    "duration": 68,
    "start_time": "2021-08-16T12:10:32.793Z"
   },
   {
    "duration": 119,
    "start_time": "2021-08-16T12:10:32.863Z"
   },
   {
    "duration": 77,
    "start_time": "2021-08-16T12:10:32.984Z"
   },
   {
    "duration": 57,
    "start_time": "2021-08-16T12:10:33.064Z"
   },
   {
    "duration": 24,
    "start_time": "2021-08-16T12:10:33.125Z"
   },
   {
    "duration": 63,
    "start_time": "2021-08-16T12:10:33.152Z"
   },
   {
    "duration": 7,
    "start_time": "2021-08-16T12:10:33.221Z"
   },
   {
    "duration": 16,
    "start_time": "2021-08-16T12:10:33.231Z"
   },
   {
    "duration": 58,
    "start_time": "2021-08-16T12:10:33.250Z"
   },
   {
    "duration": 8,
    "start_time": "2021-08-16T12:10:33.312Z"
   },
   {
    "duration": 35,
    "start_time": "2021-08-16T12:10:33.323Z"
   },
   {
    "duration": 12,
    "start_time": "2021-08-16T12:10:33.361Z"
   },
   {
    "duration": 176,
    "start_time": "2021-08-16T12:10:33.376Z"
   },
   {
    "duration": 17,
    "start_time": "2021-08-16T12:10:33.555Z"
   },
   {
    "duration": 46,
    "start_time": "2021-08-16T12:10:33.575Z"
   },
   {
    "duration": 5,
    "start_time": "2021-08-16T12:11:28.919Z"
   },
   {
    "duration": 104,
    "start_time": "2021-08-16T12:12:02.113Z"
   },
   {
    "duration": 25,
    "start_time": "2021-08-16T12:12:08.901Z"
   },
   {
    "duration": 51,
    "start_time": "2021-08-16T12:15:12.906Z"
   },
   {
    "duration": 5,
    "start_time": "2021-08-16T12:16:11.462Z"
   },
   {
    "duration": 411,
    "start_time": "2021-08-16T12:18:53.919Z"
   },
   {
    "duration": 7,
    "start_time": "2021-08-16T12:19:09.411Z"
   },
   {
    "duration": 4,
    "start_time": "2021-08-16T12:21:35.726Z"
   },
   {
    "duration": 119,
    "start_time": "2021-08-16T12:23:33.474Z"
   },
   {
    "duration": 120,
    "start_time": "2021-08-16T12:24:01.335Z"
   },
   {
    "duration": 37,
    "start_time": "2021-08-16T12:24:20.105Z"
   },
   {
    "duration": 30,
    "start_time": "2021-08-16T12:24:29.303Z"
   },
   {
    "duration": 32,
    "start_time": "2021-08-16T12:24:35.753Z"
   },
   {
    "duration": 31,
    "start_time": "2021-08-16T12:24:40.808Z"
   },
   {
    "duration": 5,
    "start_time": "2021-08-16T12:25:59.158Z"
   },
   {
    "duration": 3,
    "start_time": "2021-08-16T12:26:24.540Z"
   },
   {
    "duration": 6,
    "start_time": "2021-08-16T12:28:03.649Z"
   },
   {
    "duration": 3,
    "start_time": "2021-08-16T12:29:09.632Z"
   },
   {
    "duration": 1329,
    "start_time": "2021-08-16T12:29:49.525Z"
   },
   {
    "duration": 356,
    "start_time": "2021-08-16T12:29:50.857Z"
   },
   {
    "duration": 317,
    "start_time": "2021-08-16T12:29:51.216Z"
   },
   {
    "duration": 244,
    "start_time": "2021-08-16T12:29:51.537Z"
   },
   {
    "duration": 82,
    "start_time": "2021-08-16T12:29:51.783Z"
   },
   {
    "duration": 81,
    "start_time": "2021-08-16T12:29:51.869Z"
   },
   {
    "duration": 121,
    "start_time": "2021-08-16T12:29:51.953Z"
   },
   {
    "duration": 71,
    "start_time": "2021-08-16T12:29:52.078Z"
   },
   {
    "duration": 48,
    "start_time": "2021-08-16T12:29:52.152Z"
   },
   {
    "duration": 26,
    "start_time": "2021-08-16T12:29:52.203Z"
   },
   {
    "duration": 41,
    "start_time": "2021-08-16T12:29:52.232Z"
   },
   {
    "duration": 28,
    "start_time": "2021-08-16T12:29:52.275Z"
   },
   {
    "duration": 14,
    "start_time": "2021-08-16T12:29:52.306Z"
   },
   {
    "duration": 20,
    "start_time": "2021-08-16T12:29:52.323Z"
   },
   {
    "duration": 55,
    "start_time": "2021-08-16T12:29:52.346Z"
   },
   {
    "duration": 19,
    "start_time": "2021-08-16T12:29:52.405Z"
   },
   {
    "duration": 265,
    "start_time": "2021-08-16T12:29:52.428Z"
   },
   {
    "duration": 22,
    "start_time": "2021-08-16T12:29:52.696Z"
   },
   {
    "duration": 32,
    "start_time": "2021-08-16T12:29:52.722Z"
   },
   {
    "duration": 50,
    "start_time": "2021-08-16T12:29:52.757Z"
   },
   {
    "duration": 8,
    "start_time": "2021-08-16T12:29:52.810Z"
   },
   {
    "duration": 25,
    "start_time": "2021-08-16T12:29:52.821Z"
   },
   {
    "duration": 64,
    "start_time": "2021-08-16T12:29:52.853Z"
   },
   {
    "duration": 55,
    "start_time": "2021-08-16T12:29:52.921Z"
   },
   {
    "duration": 60,
    "start_time": "2021-08-16T12:29:52.980Z"
   },
   {
    "duration": 36,
    "start_time": "2021-08-16T12:29:53.043Z"
   },
   {
    "duration": 20,
    "start_time": "2021-08-16T12:29:53.081Z"
   },
   {
    "duration": 19,
    "start_time": "2021-08-16T12:29:53.104Z"
   },
   {
    "duration": 16,
    "start_time": "2021-08-16T12:29:53.126Z"
   },
   {
    "duration": 14,
    "start_time": "2021-08-16T12:29:53.145Z"
   },
   {
    "duration": 15,
    "start_time": "2021-08-16T12:29:53.162Z"
   },
   {
    "duration": 24,
    "start_time": "2021-08-16T12:29:53.179Z"
   },
   {
    "duration": 16,
    "start_time": "2021-08-16T12:29:53.205Z"
   },
   {
    "duration": 881,
    "start_time": "2021-08-16T12:30:44.017Z"
   },
   {
    "duration": 4,
    "start_time": "2021-08-16T12:30:57.507Z"
   },
   {
    "duration": 4,
    "start_time": "2021-08-16T12:30:59.263Z"
   },
   {
    "duration": 1711,
    "start_time": "2021-08-16T12:35:13.667Z"
   },
   {
    "duration": 30,
    "start_time": "2021-08-16T12:36:16.913Z"
   },
   {
    "duration": 1418,
    "start_time": "2021-08-16T12:58:12.350Z"
   },
   {
    "duration": 375,
    "start_time": "2021-08-16T12:58:13.771Z"
   },
   {
    "duration": 313,
    "start_time": "2021-08-16T12:58:14.149Z"
   },
   {
    "duration": 452,
    "start_time": "2021-08-16T12:58:14.464Z"
   },
   {
    "duration": 59,
    "start_time": "2021-08-16T12:58:14.920Z"
   },
   {
    "duration": 171,
    "start_time": "2021-08-16T12:58:14.981Z"
   },
   {
    "duration": 79,
    "start_time": "2021-08-16T12:58:15.155Z"
   },
   {
    "duration": 72,
    "start_time": "2021-08-16T12:58:15.237Z"
   },
   {
    "duration": 35,
    "start_time": "2021-08-16T12:58:15.313Z"
   },
   {
    "duration": 48,
    "start_time": "2021-08-16T12:58:15.352Z"
   },
   {
    "duration": 47,
    "start_time": "2021-08-16T12:58:15.404Z"
   },
   {
    "duration": 8,
    "start_time": "2021-08-16T12:58:15.453Z"
   },
   {
    "duration": 10,
    "start_time": "2021-08-16T12:58:15.463Z"
   },
   {
    "duration": 28,
    "start_time": "2021-08-16T12:58:15.476Z"
   },
   {
    "duration": 35,
    "start_time": "2021-08-16T12:58:15.508Z"
   },
   {
    "duration": 13,
    "start_time": "2021-08-16T12:58:15.545Z"
   },
   {
    "duration": 188,
    "start_time": "2021-08-16T12:58:15.560Z"
   },
   {
    "duration": 19,
    "start_time": "2021-08-16T12:58:15.750Z"
   },
   {
    "duration": 42,
    "start_time": "2021-08-16T12:58:15.772Z"
   },
   {
    "duration": 401,
    "start_time": "2021-08-16T12:58:15.818Z"
   },
   {
    "duration": 65,
    "start_time": "2021-08-16T12:58:16.158Z"
   },
   {
    "duration": 64,
    "start_time": "2021-08-16T12:58:16.161Z"
   },
   {
    "duration": 64,
    "start_time": "2021-08-16T12:58:16.163Z"
   },
   {
    "duration": 64,
    "start_time": "2021-08-16T12:58:16.165Z"
   },
   {
    "duration": 56,
    "start_time": "2021-08-16T12:58:16.175Z"
   },
   {
    "duration": 56,
    "start_time": "2021-08-16T12:58:16.178Z"
   },
   {
    "duration": 56,
    "start_time": "2021-08-16T12:58:16.180Z"
   },
   {
    "duration": 56,
    "start_time": "2021-08-16T12:58:16.183Z"
   },
   {
    "duration": 55,
    "start_time": "2021-08-16T12:58:16.185Z"
   },
   {
    "duration": 49,
    "start_time": "2021-08-16T12:58:16.193Z"
   },
   {
    "duration": 47,
    "start_time": "2021-08-16T12:58:16.196Z"
   },
   {
    "duration": 48,
    "start_time": "2021-08-16T12:58:16.197Z"
   },
   {
    "duration": 47,
    "start_time": "2021-08-16T12:58:16.199Z"
   },
   {
    "duration": 46,
    "start_time": "2021-08-16T12:58:16.202Z"
   },
   {
    "duration": 44,
    "start_time": "2021-08-16T12:58:16.205Z"
   },
   {
    "duration": 45,
    "start_time": "2021-08-16T12:58:16.206Z"
   },
   {
    "duration": 7,
    "start_time": "2021-08-16T13:06:11.913Z"
   },
   {
    "duration": 1342,
    "start_time": "2021-08-17T07:34:07.607Z"
   },
   {
    "duration": 469,
    "start_time": "2021-08-17T07:34:08.951Z"
   },
   {
    "duration": 385,
    "start_time": "2021-08-17T07:34:09.423Z"
   },
   {
    "duration": 285,
    "start_time": "2021-08-17T07:34:09.810Z"
   },
   {
    "duration": 1110,
    "start_time": "2021-08-17T07:34:10.097Z"
   },
   {
    "duration": 135,
    "start_time": "2021-08-17T07:34:11.209Z"
   },
   {
    "duration": 70,
    "start_time": "2021-08-17T07:34:11.346Z"
   },
   {
    "duration": 57,
    "start_time": "2021-08-17T07:34:11.420Z"
   },
   {
    "duration": 47,
    "start_time": "2021-08-17T07:34:11.480Z"
   },
   {
    "duration": 25,
    "start_time": "2021-08-17T07:34:11.529Z"
   },
   {
    "duration": 63,
    "start_time": "2021-08-17T07:34:11.557Z"
   },
   {
    "duration": 7,
    "start_time": "2021-08-17T07:34:11.622Z"
   },
   {
    "duration": 11,
    "start_time": "2021-08-17T07:34:11.631Z"
   },
   {
    "duration": 8,
    "start_time": "2021-08-17T07:34:11.644Z"
   },
   {
    "duration": 47,
    "start_time": "2021-08-17T07:34:11.654Z"
   },
   {
    "duration": 13,
    "start_time": "2021-08-17T07:34:11.703Z"
   },
   {
    "duration": 156,
    "start_time": "2021-08-17T07:34:11.719Z"
   },
   {
    "duration": 26,
    "start_time": "2021-08-17T07:34:11.877Z"
   },
   {
    "duration": 23,
    "start_time": "2021-08-17T07:34:11.906Z"
   },
   {
    "duration": 6,
    "start_time": "2021-08-17T07:34:11.932Z"
   },
   {
    "duration": 21,
    "start_time": "2021-08-17T07:34:11.941Z"
   },
   {
    "duration": 37,
    "start_time": "2021-08-17T07:34:11.965Z"
   },
   {
    "duration": 5,
    "start_time": "2021-08-17T07:34:12.007Z"
   },
   {
    "duration": 51,
    "start_time": "2021-08-17T07:34:12.015Z"
   },
   {
    "duration": 55,
    "start_time": "2021-08-17T07:34:12.069Z"
   },
   {
    "duration": 39,
    "start_time": "2021-08-17T07:34:12.127Z"
   },
   {
    "duration": 61,
    "start_time": "2021-08-17T07:34:12.169Z"
   },
   {
    "duration": 4,
    "start_time": "2021-08-17T07:34:12.233Z"
   },
   {
    "duration": 9,
    "start_time": "2021-08-17T07:34:12.239Z"
   },
   {
    "duration": 5,
    "start_time": "2021-08-17T07:34:12.251Z"
   },
   {
    "duration": 6,
    "start_time": "2021-08-17T07:34:12.259Z"
   },
   {
    "duration": 7,
    "start_time": "2021-08-17T07:34:12.268Z"
   },
   {
    "duration": 25,
    "start_time": "2021-08-17T07:34:12.278Z"
   },
   {
    "duration": 6,
    "start_time": "2021-08-17T07:34:12.305Z"
   },
   {
    "duration": 13,
    "start_time": "2021-08-17T07:34:12.313Z"
   },
   {
    "duration": 30,
    "start_time": "2021-08-17T07:34:12.329Z"
   },
   {
    "duration": 1440,
    "start_time": "2021-08-17T08:16:42.009Z"
   },
   {
    "duration": 467,
    "start_time": "2021-08-17T08:16:43.452Z"
   },
   {
    "duration": 314,
    "start_time": "2021-08-17T08:16:43.922Z"
   },
   {
    "duration": 423,
    "start_time": "2021-08-17T08:16:44.239Z"
   },
   {
    "duration": 1543,
    "start_time": "2021-08-17T08:16:44.665Z"
   },
   {
    "duration": 83,
    "start_time": "2021-08-17T08:16:46.211Z"
   },
   {
    "duration": 87,
    "start_time": "2021-08-17T08:16:46.297Z"
   },
   {
    "duration": 70,
    "start_time": "2021-08-17T08:16:46.386Z"
   },
   {
    "duration": 29,
    "start_time": "2021-08-17T08:16:46.460Z"
   },
   {
    "duration": 30,
    "start_time": "2021-08-17T08:16:46.493Z"
   },
   {
    "duration": 38,
    "start_time": "2021-08-17T08:16:46.525Z"
   },
   {
    "duration": 6,
    "start_time": "2021-08-17T08:16:46.566Z"
   },
   {
    "duration": 8,
    "start_time": "2021-08-17T08:16:46.575Z"
   },
   {
    "duration": 15,
    "start_time": "2021-08-17T08:16:46.585Z"
   },
   {
    "duration": 31,
    "start_time": "2021-08-17T08:16:46.603Z"
   },
   {
    "duration": 11,
    "start_time": "2021-08-17T08:16:46.637Z"
   },
   {
    "duration": 182,
    "start_time": "2021-08-17T08:16:46.651Z"
   },
   {
    "duration": 17,
    "start_time": "2021-08-17T08:16:46.835Z"
   },
   {
    "duration": 52,
    "start_time": "2021-08-17T08:16:46.855Z"
   },
   {
    "duration": 6,
    "start_time": "2021-08-17T08:16:46.910Z"
   },
   {
    "duration": 24,
    "start_time": "2021-08-17T08:16:46.919Z"
   },
   {
    "duration": 57,
    "start_time": "2021-08-17T08:16:46.945Z"
   },
   {
    "duration": 8,
    "start_time": "2021-08-17T08:16:47.004Z"
   },
   {
    "duration": 92,
    "start_time": "2021-08-17T08:16:47.014Z"
   },
   {
    "duration": 35,
    "start_time": "2021-08-17T08:16:47.109Z"
   },
   {
    "duration": 58,
    "start_time": "2021-08-17T08:16:47.147Z"
   },
   {
    "duration": 28,
    "start_time": "2021-08-17T08:16:47.210Z"
   },
   {
    "duration": 3,
    "start_time": "2021-08-17T08:16:47.241Z"
   },
   {
    "duration": 10,
    "start_time": "2021-08-17T08:16:47.246Z"
   },
   {
    "duration": 9,
    "start_time": "2021-08-17T08:16:47.259Z"
   },
   {
    "duration": 7,
    "start_time": "2021-08-17T08:16:47.271Z"
   },
   {
    "duration": 4,
    "start_time": "2021-08-17T08:16:47.302Z"
   },
   {
    "duration": 6,
    "start_time": "2021-08-17T08:16:47.309Z"
   },
   {
    "duration": 7,
    "start_time": "2021-08-17T08:16:47.318Z"
   },
   {
    "duration": 6,
    "start_time": "2021-08-17T08:16:47.328Z"
   },
   {
    "duration": 64,
    "start_time": "2021-08-17T08:16:47.336Z"
   },
   {
    "duration": 29,
    "start_time": "2021-08-17T08:22:07.670Z"
   },
   {
    "duration": 13,
    "start_time": "2021-08-17T08:22:57.996Z"
   },
   {
    "duration": 13,
    "start_time": "2021-08-17T08:23:11.416Z"
   },
   {
    "duration": 1356,
    "start_time": "2021-08-17T08:23:48.300Z"
   },
   {
    "duration": 374,
    "start_time": "2021-08-17T08:23:49.658Z"
   },
   {
    "duration": 322,
    "start_time": "2021-08-17T08:23:50.035Z"
   },
   {
    "duration": 373,
    "start_time": "2021-08-17T08:23:50.360Z"
   },
   {
    "duration": 68,
    "start_time": "2021-08-17T08:23:50.735Z"
   },
   {
    "duration": 96,
    "start_time": "2021-08-17T08:23:50.805Z"
   },
   {
    "duration": 69,
    "start_time": "2021-08-17T08:23:50.903Z"
   },
   {
    "duration": 68,
    "start_time": "2021-08-17T08:23:50.976Z"
   },
   {
    "duration": 30,
    "start_time": "2021-08-17T08:23:51.047Z"
   },
   {
    "duration": 46,
    "start_time": "2021-08-17T08:23:51.079Z"
   },
   {
    "duration": 40,
    "start_time": "2021-08-17T08:23:51.127Z"
   },
   {
    "duration": 7,
    "start_time": "2021-08-17T08:23:51.169Z"
   },
   {
    "duration": 6,
    "start_time": "2021-08-17T08:23:51.201Z"
   },
   {
    "duration": 23,
    "start_time": "2021-08-17T08:23:51.210Z"
   },
   {
    "duration": 20,
    "start_time": "2021-08-17T08:23:51.236Z"
   },
   {
    "duration": 54,
    "start_time": "2021-08-17T08:23:51.259Z"
   },
   {
    "duration": 13,
    "start_time": "2021-08-17T08:23:51.316Z"
   },
   {
    "duration": 181,
    "start_time": "2021-08-17T08:23:51.332Z"
   },
   {
    "duration": 17,
    "start_time": "2021-08-17T08:23:51.516Z"
   },
   {
    "duration": 12,
    "start_time": "2021-08-17T08:23:51.535Z"
   },
   {
    "duration": 51,
    "start_time": "2021-08-17T08:23:51.549Z"
   },
   {
    "duration": 22,
    "start_time": "2021-08-17T08:23:51.603Z"
   },
   {
    "duration": 19,
    "start_time": "2021-08-17T08:23:51.630Z"
   },
   {
    "duration": 10,
    "start_time": "2021-08-17T08:23:51.653Z"
   },
   {
    "duration": 49,
    "start_time": "2021-08-17T08:23:51.665Z"
   },
   {
    "duration": 7,
    "start_time": "2021-08-17T08:23:51.717Z"
   },
   {
    "duration": 8,
    "start_time": "2021-08-17T08:23:51.727Z"
   },
   {
    "duration": 64,
    "start_time": "2021-08-17T08:23:51.738Z"
   },
   {
    "duration": 39,
    "start_time": "2021-08-17T08:23:51.804Z"
   },
   {
    "duration": 56,
    "start_time": "2021-08-17T08:23:51.846Z"
   },
   {
    "duration": 33,
    "start_time": "2021-08-17T08:23:51.904Z"
   },
   {
    "duration": 3,
    "start_time": "2021-08-17T08:23:51.939Z"
   },
   {
    "duration": 8,
    "start_time": "2021-08-17T08:23:51.945Z"
   },
   {
    "duration": 10,
    "start_time": "2021-08-17T08:23:51.955Z"
   },
   {
    "duration": 13,
    "start_time": "2021-08-17T08:23:51.967Z"
   },
   {
    "duration": 21,
    "start_time": "2021-08-17T08:23:51.982Z"
   },
   {
    "duration": 10,
    "start_time": "2021-08-17T08:23:52.005Z"
   },
   {
    "duration": 14,
    "start_time": "2021-08-17T08:23:52.017Z"
   },
   {
    "duration": 9,
    "start_time": "2021-08-17T08:23:52.033Z"
   },
   {
    "duration": 41,
    "start_time": "2021-08-17T08:23:52.044Z"
   },
   {
    "duration": 11,
    "start_time": "2021-08-17T08:24:25.918Z"
   },
   {
    "duration": 16,
    "start_time": "2021-08-17T08:25:21.494Z"
   },
   {
    "duration": 16,
    "start_time": "2021-08-17T08:25:32.390Z"
   },
   {
    "duration": 1371,
    "start_time": "2021-08-17T08:25:38.376Z"
   },
   {
    "duration": 534,
    "start_time": "2021-08-17T08:25:39.749Z"
   },
   {
    "duration": 320,
    "start_time": "2021-08-17T08:25:40.286Z"
   },
   {
    "duration": 253,
    "start_time": "2021-08-17T08:25:40.609Z"
   },
   {
    "duration": 69,
    "start_time": "2021-08-17T08:25:40.865Z"
   },
   {
    "duration": 66,
    "start_time": "2021-08-17T08:25:40.937Z"
   },
   {
    "duration": 66,
    "start_time": "2021-08-17T08:25:41.005Z"
   },
   {
    "duration": 78,
    "start_time": "2021-08-17T08:25:41.076Z"
   },
   {
    "duration": 48,
    "start_time": "2021-08-17T08:25:41.158Z"
   },
   {
    "duration": 29,
    "start_time": "2021-08-17T08:25:41.209Z"
   },
   {
    "duration": 67,
    "start_time": "2021-08-17T08:25:41.241Z"
   },
   {
    "duration": 7,
    "start_time": "2021-08-17T08:25:41.311Z"
   },
   {
    "duration": 27,
    "start_time": "2021-08-17T08:25:41.321Z"
   },
   {
    "duration": 20,
    "start_time": "2021-08-17T08:25:41.351Z"
   },
   {
    "duration": 28,
    "start_time": "2021-08-17T08:25:41.374Z"
   },
   {
    "duration": 48,
    "start_time": "2021-08-17T08:25:41.405Z"
   },
   {
    "duration": 11,
    "start_time": "2021-08-17T08:25:41.455Z"
   },
   {
    "duration": 142,
    "start_time": "2021-08-17T08:25:41.468Z"
   },
   {
    "duration": 21,
    "start_time": "2021-08-17T08:25:41.613Z"
   },
   {
    "duration": 25,
    "start_time": "2021-08-17T08:25:41.637Z"
   },
   {
    "duration": 43,
    "start_time": "2021-08-17T08:25:41.664Z"
   },
   {
    "duration": 29,
    "start_time": "2021-08-17T08:25:41.710Z"
   },
   {
    "duration": 46,
    "start_time": "2021-08-17T08:25:41.744Z"
   },
   {
    "duration": 20,
    "start_time": "2021-08-17T08:25:41.793Z"
   },
   {
    "duration": 22,
    "start_time": "2021-08-17T08:25:41.816Z"
   },
   {
    "duration": 44,
    "start_time": "2021-08-17T08:25:41.841Z"
   },
   {
    "duration": 17,
    "start_time": "2021-08-17T08:25:41.887Z"
   },
   {
    "duration": 13,
    "start_time": "2021-08-17T08:25:41.906Z"
   },
   {
    "duration": 43,
    "start_time": "2021-08-17T08:25:41.921Z"
   },
   {
    "duration": 21,
    "start_time": "2021-08-17T08:25:41.967Z"
   },
   {
    "duration": 60,
    "start_time": "2021-08-17T08:25:41.991Z"
   },
   {
    "duration": 48,
    "start_time": "2021-08-17T08:25:42.054Z"
   },
   {
    "duration": 38,
    "start_time": "2021-08-17T08:25:42.105Z"
   },
   {
    "duration": 59,
    "start_time": "2021-08-17T08:25:42.146Z"
   },
   {
    "duration": 5,
    "start_time": "2021-08-17T08:25:42.208Z"
   },
   {
    "duration": 19,
    "start_time": "2021-08-17T08:25:42.215Z"
   },
   {
    "duration": 13,
    "start_time": "2021-08-17T08:25:42.237Z"
   },
   {
    "duration": 7,
    "start_time": "2021-08-17T08:25:42.252Z"
   },
   {
    "duration": 6,
    "start_time": "2021-08-17T08:25:42.261Z"
   },
   {
    "duration": 6,
    "start_time": "2021-08-17T08:25:42.270Z"
   },
   {
    "duration": 24,
    "start_time": "2021-08-17T08:25:42.279Z"
   },
   {
    "duration": 10,
    "start_time": "2021-08-17T08:25:42.305Z"
   },
   {
    "duration": 31,
    "start_time": "2021-08-17T08:25:42.318Z"
   },
   {
    "duration": 15,
    "start_time": "2021-08-17T08:26:40.731Z"
   },
   {
    "duration": 12,
    "start_time": "2021-08-17T08:27:00.681Z"
   },
   {
    "duration": 15,
    "start_time": "2021-08-17T08:27:11.755Z"
   },
   {
    "duration": 13,
    "start_time": "2021-08-17T08:27:25.410Z"
   },
   {
    "duration": 17,
    "start_time": "2021-08-17T08:27:46.951Z"
   },
   {
    "duration": 1333,
    "start_time": "2021-08-17T08:27:56.825Z"
   },
   {
    "duration": 362,
    "start_time": "2021-08-17T08:27:58.160Z"
   },
   {
    "duration": 17,
    "start_time": "2021-08-17T08:27:58.525Z"
   },
   {
    "duration": 297,
    "start_time": "2021-08-17T08:27:58.544Z"
   },
   {
    "duration": 13,
    "start_time": "2021-08-17T08:27:58.843Z"
   },
   {
    "duration": 266,
    "start_time": "2021-08-17T08:27:58.858Z"
   },
   {
    "duration": 11,
    "start_time": "2021-08-17T08:27:59.126Z"
   },
   {
    "duration": 1094,
    "start_time": "2021-08-17T08:27:59.139Z"
   },
   {
    "duration": 11,
    "start_time": "2021-08-17T08:28:00.237Z"
   },
   {
    "duration": 87,
    "start_time": "2021-08-17T08:28:00.251Z"
   },
   {
    "duration": 14,
    "start_time": "2021-08-17T08:28:00.341Z"
   },
   {
    "duration": 75,
    "start_time": "2021-08-17T08:28:00.358Z"
   },
   {
    "duration": 69,
    "start_time": "2021-08-17T08:28:00.435Z"
   },
   {
    "duration": 30,
    "start_time": "2021-08-17T08:28:00.507Z"
   },
   {
    "duration": 24,
    "start_time": "2021-08-17T08:28:00.539Z"
   },
   {
    "duration": 62,
    "start_time": "2021-08-17T08:28:00.565Z"
   },
   {
    "duration": 7,
    "start_time": "2021-08-17T08:28:00.630Z"
   },
   {
    "duration": 13,
    "start_time": "2021-08-17T08:28:00.641Z"
   },
   {
    "duration": 10,
    "start_time": "2021-08-17T08:28:00.657Z"
   },
   {
    "duration": 39,
    "start_time": "2021-08-17T08:28:00.670Z"
   },
   {
    "duration": 33,
    "start_time": "2021-08-17T08:28:00.712Z"
   },
   {
    "duration": 12,
    "start_time": "2021-08-17T08:28:00.748Z"
   },
   {
    "duration": 161,
    "start_time": "2021-08-17T08:28:00.762Z"
   },
   {
    "duration": 21,
    "start_time": "2021-08-17T08:28:00.925Z"
   },
   {
    "duration": 15,
    "start_time": "2021-08-17T08:28:00.948Z"
   },
   {
    "duration": 58,
    "start_time": "2021-08-17T08:28:00.966Z"
   },
   {
    "duration": 23,
    "start_time": "2021-08-17T08:28:01.032Z"
   },
   {
    "duration": 43,
    "start_time": "2021-08-17T08:28:01.059Z"
   },
   {
    "duration": 10,
    "start_time": "2021-08-17T08:28:01.104Z"
   },
   {
    "duration": 34,
    "start_time": "2021-08-17T08:28:01.116Z"
   },
   {
    "duration": 38,
    "start_time": "2021-08-17T08:28:01.153Z"
   },
   {
    "duration": 15,
    "start_time": "2021-08-17T08:28:01.193Z"
   },
   {
    "duration": 17,
    "start_time": "2021-08-17T08:28:01.211Z"
   },
   {
    "duration": 38,
    "start_time": "2021-08-17T08:28:01.230Z"
   },
   {
    "duration": 9,
    "start_time": "2021-08-17T08:28:01.271Z"
   },
   {
    "duration": 68,
    "start_time": "2021-08-17T08:28:01.283Z"
   },
   {
    "duration": 40,
    "start_time": "2021-08-17T08:28:01.353Z"
   },
   {
    "duration": 38,
    "start_time": "2021-08-17T08:28:01.395Z"
   },
   {
    "duration": 39,
    "start_time": "2021-08-17T08:28:01.436Z"
   },
   {
    "duration": 4,
    "start_time": "2021-08-17T08:28:01.501Z"
   },
   {
    "duration": 31,
    "start_time": "2021-08-17T08:28:01.508Z"
   },
   {
    "duration": 38,
    "start_time": "2021-08-17T08:28:01.542Z"
   },
   {
    "duration": 46,
    "start_time": "2021-08-17T08:28:01.583Z"
   },
   {
    "duration": 24,
    "start_time": "2021-08-17T08:28:01.632Z"
   },
   {
    "duration": 29,
    "start_time": "2021-08-17T08:28:01.659Z"
   },
   {
    "duration": 43,
    "start_time": "2021-08-17T08:28:01.691Z"
   },
   {
    "duration": 34,
    "start_time": "2021-08-17T08:28:01.737Z"
   },
   {
    "duration": 56,
    "start_time": "2021-08-17T08:28:01.773Z"
   },
   {
    "duration": 1366,
    "start_time": "2021-08-17T08:30:01.442Z"
   },
   {
    "duration": 366,
    "start_time": "2021-08-17T08:30:02.811Z"
   },
   {
    "duration": 30,
    "start_time": "2021-08-17T08:30:03.180Z"
   },
   {
    "duration": 423,
    "start_time": "2021-08-17T08:30:03.213Z"
   },
   {
    "duration": 13,
    "start_time": "2021-08-17T08:30:03.639Z"
   },
   {
    "duration": 270,
    "start_time": "2021-08-17T08:30:03.655Z"
   },
   {
    "duration": 11,
    "start_time": "2021-08-17T08:30:03.927Z"
   },
   {
    "duration": 137,
    "start_time": "2021-08-17T08:30:03.942Z"
   },
   {
    "duration": 11,
    "start_time": "2021-08-17T08:30:04.082Z"
   },
   {
    "duration": 84,
    "start_time": "2021-08-17T08:30:04.096Z"
   },
   {
    "duration": 15,
    "start_time": "2021-08-17T08:30:04.182Z"
   },
   {
    "duration": 79,
    "start_time": "2021-08-17T08:30:04.200Z"
   },
   {
    "duration": 71,
    "start_time": "2021-08-17T08:30:04.282Z"
   },
   {
    "duration": 47,
    "start_time": "2021-08-17T08:30:04.355Z"
   },
   {
    "duration": 23,
    "start_time": "2021-08-17T08:30:04.405Z"
   },
   {
    "duration": 40,
    "start_time": "2021-08-17T08:30:04.430Z"
   },
   {
    "duration": 29,
    "start_time": "2021-08-17T08:30:04.472Z"
   },
   {
    "duration": 9,
    "start_time": "2021-08-17T08:30:04.504Z"
   },
   {
    "duration": 7,
    "start_time": "2021-08-17T08:30:04.516Z"
   },
   {
    "duration": 13,
    "start_time": "2021-08-17T08:30:04.525Z"
   },
   {
    "duration": 74,
    "start_time": "2021-08-17T08:30:04.540Z"
   },
   {
    "duration": 10,
    "start_time": "2021-08-17T08:30:04.617Z"
   },
   {
    "duration": 157,
    "start_time": "2021-08-17T08:30:04.633Z"
   },
   {
    "duration": 21,
    "start_time": "2021-08-17T08:30:04.793Z"
   },
   {
    "duration": 13,
    "start_time": "2021-08-17T08:30:04.816Z"
   },
   {
    "duration": 27,
    "start_time": "2021-08-17T08:30:04.832Z"
   },
   {
    "duration": 47,
    "start_time": "2021-08-17T08:30:04.861Z"
   },
   {
    "duration": 17,
    "start_time": "2021-08-17T08:30:04.911Z"
   },
   {
    "duration": 6,
    "start_time": "2021-08-17T08:30:04.931Z"
   },
   {
    "duration": 11,
    "start_time": "2021-08-17T08:30:04.939Z"
   },
   {
    "duration": 53,
    "start_time": "2021-08-17T08:30:04.953Z"
   },
   {
    "duration": 17,
    "start_time": "2021-08-17T08:30:05.009Z"
   },
   {
    "duration": 12,
    "start_time": "2021-08-17T08:30:05.029Z"
   },
   {
    "duration": 21,
    "start_time": "2021-08-17T08:30:05.044Z"
   },
   {
    "duration": 4,
    "start_time": "2021-08-17T08:30:05.067Z"
   },
   {
    "duration": 43,
    "start_time": "2021-08-17T08:30:05.101Z"
   },
   {
    "duration": 60,
    "start_time": "2021-08-17T08:30:05.147Z"
   },
   {
    "duration": 36,
    "start_time": "2021-08-17T08:30:05.209Z"
   },
   {
    "duration": 52,
    "start_time": "2021-08-17T08:30:05.248Z"
   },
   {
    "duration": 5,
    "start_time": "2021-08-17T08:30:05.303Z"
   },
   {
    "duration": 7,
    "start_time": "2021-08-17T08:30:05.311Z"
   },
   {
    "duration": 8,
    "start_time": "2021-08-17T08:30:05.320Z"
   },
   {
    "duration": 10,
    "start_time": "2021-08-17T08:30:05.330Z"
   },
   {
    "duration": 6,
    "start_time": "2021-08-17T08:30:05.342Z"
   },
   {
    "duration": 8,
    "start_time": "2021-08-17T08:30:05.351Z"
   },
   {
    "duration": 9,
    "start_time": "2021-08-17T08:30:05.362Z"
   },
   {
    "duration": 6,
    "start_time": "2021-08-17T08:30:05.402Z"
   },
   {
    "duration": 29,
    "start_time": "2021-08-17T08:30:05.411Z"
   },
   {
    "duration": 85,
    "start_time": "2021-08-17T09:23:39.156Z"
   },
   {
    "duration": 13,
    "start_time": "2021-08-17T09:23:54.776Z"
   },
   {
    "duration": 30,
    "start_time": "2021-08-17T09:24:45.844Z"
   },
   {
    "duration": 1463,
    "start_time": "2021-08-17T09:25:01.008Z"
   },
   {
    "duration": 499,
    "start_time": "2021-08-17T09:25:02.474Z"
   },
   {
    "duration": 16,
    "start_time": "2021-08-17T09:25:02.976Z"
   },
   {
    "duration": 312,
    "start_time": "2021-08-17T09:25:03.002Z"
   },
   {
    "duration": 11,
    "start_time": "2021-08-17T09:25:03.317Z"
   },
   {
    "duration": 368,
    "start_time": "2021-08-17T09:25:03.330Z"
   },
   {
    "duration": 10,
    "start_time": "2021-08-17T09:25:03.700Z"
   },
   {
    "duration": 108,
    "start_time": "2021-08-17T09:25:03.714Z"
   },
   {
    "duration": 12,
    "start_time": "2021-08-17T09:25:03.825Z"
   },
   {
    "duration": 101,
    "start_time": "2021-08-17T09:25:03.839Z"
   },
   {
    "duration": 16,
    "start_time": "2021-08-17T09:25:03.943Z"
   },
   {
    "duration": 77,
    "start_time": "2021-08-17T09:25:03.962Z"
   },
   {
    "duration": 77,
    "start_time": "2021-08-17T09:25:04.042Z"
   },
   {
    "duration": 30,
    "start_time": "2021-08-17T09:25:04.122Z"
   },
   {
    "duration": 47,
    "start_time": "2021-08-17T09:25:04.154Z"
   },
   {
    "duration": 41,
    "start_time": "2021-08-17T09:25:04.203Z"
   },
   {
    "duration": 7,
    "start_time": "2021-08-17T09:25:04.247Z"
   },
   {
    "duration": 16,
    "start_time": "2021-08-17T09:25:04.256Z"
   },
   {
    "duration": 25,
    "start_time": "2021-08-17T09:25:04.275Z"
   },
   {
    "duration": 28,
    "start_time": "2021-08-17T09:25:04.303Z"
   },
   {
    "duration": 36,
    "start_time": "2021-08-17T09:25:04.333Z"
   },
   {
    "duration": 37,
    "start_time": "2021-08-17T09:25:04.372Z"
   },
   {
    "duration": 11,
    "start_time": "2021-08-17T09:25:04.414Z"
   },
   {
    "duration": 158,
    "start_time": "2021-08-17T09:25:04.429Z"
   },
   {
    "duration": 28,
    "start_time": "2021-08-17T09:25:04.589Z"
   },
   {
    "duration": 13,
    "start_time": "2021-08-17T09:25:04.620Z"
   },
   {
    "duration": 27,
    "start_time": "2021-08-17T09:25:04.636Z"
   },
   {
    "duration": 49,
    "start_time": "2021-08-17T09:25:04.665Z"
   },
   {
    "duration": 15,
    "start_time": "2021-08-17T09:25:04.717Z"
   },
   {
    "duration": 12,
    "start_time": "2021-08-17T09:25:04.735Z"
   },
   {
    "duration": 13,
    "start_time": "2021-08-17T09:25:04.749Z"
   },
   {
    "duration": 55,
    "start_time": "2021-08-17T09:25:04.764Z"
   },
   {
    "duration": 16,
    "start_time": "2021-08-17T09:25:04.822Z"
   },
   {
    "duration": 10,
    "start_time": "2021-08-17T09:25:04.841Z"
   },
   {
    "duration": 21,
    "start_time": "2021-08-17T09:25:04.853Z"
   },
   {
    "duration": 125,
    "start_time": "2021-08-17T09:25:04.876Z"
   },
   {
    "duration": 12,
    "start_time": "2021-08-17T09:25:05.003Z"
   },
   {
    "duration": 8,
    "start_time": "2021-08-17T09:25:05.017Z"
   },
   {
    "duration": 86,
    "start_time": "2021-08-17T09:25:05.028Z"
   },
   {
    "duration": 41,
    "start_time": "2021-08-17T09:25:05.116Z"
   },
   {
    "duration": 50,
    "start_time": "2021-08-17T09:25:05.159Z"
   },
   {
    "duration": 52,
    "start_time": "2021-08-17T09:25:05.212Z"
   },
   {
    "duration": 5,
    "start_time": "2021-08-17T09:25:05.267Z"
   },
   {
    "duration": 26,
    "start_time": "2021-08-17T09:25:05.275Z"
   },
   {
    "duration": 11,
    "start_time": "2021-08-17T09:25:05.304Z"
   },
   {
    "duration": 11,
    "start_time": "2021-08-17T09:25:05.318Z"
   },
   {
    "duration": 7,
    "start_time": "2021-08-17T09:25:05.332Z"
   },
   {
    "duration": 6,
    "start_time": "2021-08-17T09:25:05.341Z"
   },
   {
    "duration": 7,
    "start_time": "2021-08-17T09:25:05.350Z"
   },
   {
    "duration": 41,
    "start_time": "2021-08-17T09:25:05.360Z"
   },
   {
    "duration": 32,
    "start_time": "2021-08-17T09:25:05.403Z"
   },
   {
    "duration": 1309,
    "start_time": "2021-08-17T10:05:24.033Z"
   },
   {
    "duration": 582,
    "start_time": "2021-08-17T10:05:25.345Z"
   },
   {
    "duration": 16,
    "start_time": "2021-08-17T10:05:25.931Z"
   },
   {
    "duration": 333,
    "start_time": "2021-08-17T10:05:25.950Z"
   },
   {
    "duration": 18,
    "start_time": "2021-08-17T10:05:26.286Z"
   },
   {
    "duration": 391,
    "start_time": "2021-08-17T10:05:26.306Z"
   },
   {
    "duration": 11,
    "start_time": "2021-08-17T10:05:26.700Z"
   },
   {
    "duration": 64,
    "start_time": "2021-08-17T10:05:26.715Z"
   },
   {
    "duration": 12,
    "start_time": "2021-08-17T10:05:26.782Z"
   },
   {
    "duration": 128,
    "start_time": "2021-08-17T10:05:26.797Z"
   },
   {
    "duration": 14,
    "start_time": "2021-08-17T10:05:26.928Z"
   },
   {
    "duration": 68,
    "start_time": "2021-08-17T10:05:26.944Z"
   },
   {
    "duration": 60,
    "start_time": "2021-08-17T10:05:27.014Z"
   },
   {
    "duration": 50,
    "start_time": "2021-08-17T10:05:27.077Z"
   },
   {
    "duration": 29,
    "start_time": "2021-08-17T10:05:27.129Z"
   },
   {
    "duration": 73,
    "start_time": "2021-08-17T10:05:27.161Z"
   },
   {
    "duration": 7,
    "start_time": "2021-08-17T10:05:27.237Z"
   },
   {
    "duration": 18,
    "start_time": "2021-08-17T10:05:27.247Z"
   },
   {
    "duration": 10,
    "start_time": "2021-08-17T10:05:27.268Z"
   },
   {
    "duration": 29,
    "start_time": "2021-08-17T10:05:27.280Z"
   },
   {
    "duration": 29,
    "start_time": "2021-08-17T10:05:27.311Z"
   },
   {
    "duration": 37,
    "start_time": "2021-08-17T10:05:27.342Z"
   },
   {
    "duration": 23,
    "start_time": "2021-08-17T10:05:27.384Z"
   },
   {
    "duration": 163,
    "start_time": "2021-08-17T10:05:27.409Z"
   },
   {
    "duration": 32,
    "start_time": "2021-08-17T10:05:27.574Z"
   },
   {
    "duration": 12,
    "start_time": "2021-08-17T10:05:27.608Z"
   },
   {
    "duration": 28,
    "start_time": "2021-08-17T10:05:27.623Z"
   },
   {
    "duration": 22,
    "start_time": "2021-08-17T10:05:27.653Z"
   },
   {
    "duration": 33,
    "start_time": "2021-08-17T10:05:27.677Z"
   },
   {
    "duration": 8,
    "start_time": "2021-08-17T10:05:27.713Z"
   },
   {
    "duration": 9,
    "start_time": "2021-08-17T10:05:27.723Z"
   },
   {
    "duration": 23,
    "start_time": "2021-08-17T10:05:27.735Z"
   },
   {
    "duration": 48,
    "start_time": "2021-08-17T10:05:27.760Z"
   },
   {
    "duration": 7,
    "start_time": "2021-08-17T10:05:27.811Z"
   },
   {
    "duration": 17,
    "start_time": "2021-08-17T10:05:27.820Z"
   },
   {
    "duration": 110,
    "start_time": "2021-08-17T10:05:27.840Z"
   },
   {
    "duration": 10,
    "start_time": "2021-08-17T10:05:27.953Z"
   },
   {
    "duration": 6,
    "start_time": "2021-08-17T10:05:27.966Z"
   },
   {
    "duration": 87,
    "start_time": "2021-08-17T10:05:27.974Z"
   },
   {
    "duration": 53,
    "start_time": "2021-08-17T10:05:28.064Z"
   },
   {
    "duration": 34,
    "start_time": "2021-08-17T10:05:28.120Z"
   },
   {
    "duration": 72,
    "start_time": "2021-08-17T10:05:28.157Z"
   },
   {
    "duration": 4,
    "start_time": "2021-08-17T10:05:28.231Z"
   },
   {
    "duration": 6,
    "start_time": "2021-08-17T10:05:28.238Z"
   },
   {
    "duration": 18,
    "start_time": "2021-08-17T10:05:28.246Z"
   },
   {
    "duration": 8,
    "start_time": "2021-08-17T10:05:28.266Z"
   },
   {
    "duration": 7,
    "start_time": "2021-08-17T10:05:28.277Z"
   },
   {
    "duration": 15,
    "start_time": "2021-08-17T10:05:28.286Z"
   },
   {
    "duration": 5,
    "start_time": "2021-08-17T10:05:28.304Z"
   },
   {
    "duration": 6,
    "start_time": "2021-08-17T10:05:28.312Z"
   },
   {
    "duration": 29,
    "start_time": "2021-08-17T10:05:28.320Z"
   },
   {
    "duration": 35,
    "start_time": "2021-08-17T10:06:23.957Z"
   },
   {
    "duration": 14,
    "start_time": "2021-08-17T10:06:56.269Z"
   },
   {
    "duration": 54,
    "start_time": "2021-08-17T10:42:51.991Z"
   },
   {
    "duration": 13,
    "start_time": "2021-08-17T10:43:25.078Z"
   },
   {
    "duration": 38,
    "start_time": "2021-08-17T10:49:39.152Z"
   },
   {
    "duration": 10,
    "start_time": "2021-08-17T10:49:50.792Z"
   },
   {
    "duration": 23,
    "start_time": "2021-08-17T10:50:22.880Z"
   },
   {
    "duration": 1375,
    "start_time": "2021-08-17T10:52:36.783Z"
   },
   {
    "duration": 491,
    "start_time": "2021-08-17T10:52:38.160Z"
   },
   {
    "duration": 16,
    "start_time": "2021-08-17T10:52:38.657Z"
   },
   {
    "duration": 330,
    "start_time": "2021-08-17T10:52:38.676Z"
   },
   {
    "duration": 12,
    "start_time": "2021-08-17T10:52:39.008Z"
   },
   {
    "duration": 1264,
    "start_time": "2021-08-17T10:52:39.023Z"
   },
   {
    "duration": 12,
    "start_time": "2021-08-17T10:52:40.290Z"
   },
   {
    "duration": 503,
    "start_time": "2021-08-17T10:52:40.306Z"
   },
   {
    "duration": 12,
    "start_time": "2021-08-17T10:52:40.812Z"
   },
   {
    "duration": 92,
    "start_time": "2021-08-17T10:52:40.826Z"
   },
   {
    "duration": 15,
    "start_time": "2021-08-17T10:52:40.921Z"
   },
   {
    "duration": 76,
    "start_time": "2021-08-17T10:52:40.938Z"
   },
   {
    "duration": 57,
    "start_time": "2021-08-17T10:52:41.017Z"
   },
   {
    "duration": 45,
    "start_time": "2021-08-17T10:52:41.076Z"
   },
   {
    "duration": 24,
    "start_time": "2021-08-17T10:52:41.123Z"
   },
   {
    "duration": 63,
    "start_time": "2021-08-17T10:52:41.150Z"
   },
   {
    "duration": 7,
    "start_time": "2021-08-17T10:52:41.216Z"
   },
   {
    "duration": 9,
    "start_time": "2021-08-17T10:52:41.226Z"
   },
   {
    "duration": 14,
    "start_time": "2021-08-17T10:52:41.238Z"
   },
   {
    "duration": 19,
    "start_time": "2021-08-17T10:52:41.255Z"
   },
   {
    "duration": 53,
    "start_time": "2021-08-17T10:52:41.277Z"
   },
   {
    "duration": 38,
    "start_time": "2021-08-17T10:52:41.332Z"
   },
   {
    "duration": 30,
    "start_time": "2021-08-17T10:52:41.372Z"
   },
   {
    "duration": 144,
    "start_time": "2021-08-17T10:52:41.404Z"
   },
   {
    "duration": 21,
    "start_time": "2021-08-17T10:52:41.551Z"
   },
   {
    "duration": 26,
    "start_time": "2021-08-17T10:52:41.577Z"
   },
   {
    "duration": 35,
    "start_time": "2021-08-17T10:52:41.606Z"
   },
   {
    "duration": 23,
    "start_time": "2021-08-17T10:52:41.643Z"
   },
   {
    "duration": 37,
    "start_time": "2021-08-17T10:52:41.669Z"
   },
   {
    "duration": 10,
    "start_time": "2021-08-17T10:52:41.708Z"
   },
   {
    "duration": 16,
    "start_time": "2021-08-17T10:52:41.721Z"
   },
   {
    "duration": 23,
    "start_time": "2021-08-17T10:52:41.739Z"
   },
   {
    "duration": 44,
    "start_time": "2021-08-17T10:52:41.765Z"
   },
   {
    "duration": 16,
    "start_time": "2021-08-17T10:52:41.811Z"
   },
   {
    "duration": 13,
    "start_time": "2021-08-17T10:52:41.830Z"
   },
   {
    "duration": 22,
    "start_time": "2021-08-17T10:52:41.846Z"
   },
   {
    "duration": 103,
    "start_time": "2021-08-17T10:52:41.871Z"
   },
   {
    "duration": 12,
    "start_time": "2021-08-17T10:52:41.976Z"
   },
   {
    "duration": 42,
    "start_time": "2021-08-17T10:52:42.000Z"
   },
   {
    "duration": 10,
    "start_time": "2021-08-17T10:52:42.044Z"
   },
   {
    "duration": 85,
    "start_time": "2021-08-17T10:52:42.056Z"
   },
   {
    "duration": 15,
    "start_time": "2021-08-17T10:52:42.144Z"
   },
   {
    "duration": 48,
    "start_time": "2021-08-17T10:52:42.161Z"
   },
   {
    "duration": 10,
    "start_time": "2021-08-17T10:52:42.211Z"
   },
   {
    "duration": 477,
    "start_time": "2021-08-17T10:53:22.730Z"
   },
   {
    "duration": 23,
    "start_time": "2021-08-17T10:53:30.394Z"
   },
   {
    "duration": 97,
    "start_time": "2021-08-17T10:54:04.223Z"
   },
   {
    "duration": 62,
    "start_time": "2021-08-17T10:54:27.561Z"
   },
   {
    "duration": 43,
    "start_time": "2021-08-17T11:02:27.397Z"
   },
   {
    "duration": 13,
    "start_time": "2021-08-17T11:02:39.728Z"
   },
   {
    "duration": 40,
    "start_time": "2021-08-17T11:03:33.136Z"
   },
   {
    "duration": 11,
    "start_time": "2021-08-17T11:03:34.966Z"
   },
   {
    "duration": 26,
    "start_time": "2021-08-17T11:03:38.163Z"
   },
   {
    "duration": 1373,
    "start_time": "2021-08-17T11:03:43.474Z"
   },
   {
    "duration": 420,
    "start_time": "2021-08-17T11:03:44.850Z"
   },
   {
    "duration": 16,
    "start_time": "2021-08-17T11:03:45.273Z"
   },
   {
    "duration": 308,
    "start_time": "2021-08-17T11:03:45.301Z"
   },
   {
    "duration": 13,
    "start_time": "2021-08-17T11:03:45.612Z"
   },
   {
    "duration": 2202,
    "start_time": "2021-08-17T11:03:45.628Z"
   },
   {
    "duration": 10,
    "start_time": "2021-08-17T11:03:47.833Z"
   },
   {
    "duration": 164,
    "start_time": "2021-08-17T11:03:47.847Z"
   },
   {
    "duration": 12,
    "start_time": "2021-08-17T11:03:48.015Z"
   },
   {
    "duration": 83,
    "start_time": "2021-08-17T11:03:48.030Z"
   },
   {
    "duration": 14,
    "start_time": "2021-08-17T11:03:48.116Z"
   },
   {
    "duration": 74,
    "start_time": "2021-08-17T11:03:48.132Z"
   },
   {
    "duration": 56,
    "start_time": "2021-08-17T11:03:48.209Z"
   },
   {
    "duration": 48,
    "start_time": "2021-08-17T11:03:48.267Z"
   },
   {
    "duration": 24,
    "start_time": "2021-08-17T11:03:48.317Z"
   },
   {
    "duration": 58,
    "start_time": "2021-08-17T11:03:48.343Z"
   },
   {
    "duration": 7,
    "start_time": "2021-08-17T11:03:48.403Z"
   },
   {
    "duration": 10,
    "start_time": "2021-08-17T11:03:48.413Z"
   },
   {
    "duration": 11,
    "start_time": "2021-08-17T11:03:48.426Z"
   },
   {
    "duration": 15,
    "start_time": "2021-08-17T11:03:48.440Z"
   },
   {
    "duration": 51,
    "start_time": "2021-08-17T11:03:48.458Z"
   },
   {
    "duration": 35,
    "start_time": "2021-08-17T11:03:48.512Z"
   },
   {
    "duration": 11,
    "start_time": "2021-08-17T11:03:48.552Z"
   },
   {
    "duration": 160,
    "start_time": "2021-08-17T11:03:48.566Z"
   },
   {
    "duration": 23,
    "start_time": "2021-08-17T11:03:48.728Z"
   },
   {
    "duration": 13,
    "start_time": "2021-08-17T11:03:48.753Z"
   },
   {
    "duration": 52,
    "start_time": "2021-08-17T11:03:48.768Z"
   },
   {
    "duration": 23,
    "start_time": "2021-08-17T11:03:48.823Z"
   },
   {
    "duration": 19,
    "start_time": "2021-08-17T11:03:48.849Z"
   },
   {
    "duration": 30,
    "start_time": "2021-08-17T11:03:48.870Z"
   },
   {
    "duration": 12,
    "start_time": "2021-08-17T11:03:48.903Z"
   },
   {
    "duration": 22,
    "start_time": "2021-08-17T11:03:48.918Z"
   },
   {
    "duration": 29,
    "start_time": "2021-08-17T11:03:48.943Z"
   },
   {
    "duration": 39,
    "start_time": "2021-08-17T11:03:48.974Z"
   },
   {
    "duration": 7,
    "start_time": "2021-08-17T11:03:49.016Z"
   },
   {
    "duration": 18,
    "start_time": "2021-08-17T11:03:49.026Z"
   },
   {
    "duration": 122,
    "start_time": "2021-08-17T11:03:49.047Z"
   },
   {
    "duration": 12,
    "start_time": "2021-08-17T11:03:49.172Z"
   },
   {
    "duration": 43,
    "start_time": "2021-08-17T11:03:49.200Z"
   },
   {
    "duration": 11,
    "start_time": "2021-08-17T11:03:49.246Z"
   },
   {
    "duration": 81,
    "start_time": "2021-08-17T11:03:49.260Z"
   },
   {
    "duration": 13,
    "start_time": "2021-08-17T11:03:49.344Z"
   },
   {
    "duration": 47,
    "start_time": "2021-08-17T11:03:49.360Z"
   },
   {
    "duration": 11,
    "start_time": "2021-08-17T11:03:49.410Z"
   },
   {
    "duration": 82,
    "start_time": "2021-08-17T11:03:49.424Z"
   },
   {
    "duration": 28,
    "start_time": "2021-08-17T11:03:49.509Z"
   },
   {
    "duration": 11,
    "start_time": "2021-08-17T11:03:49.540Z"
   },
   {
    "duration": 326,
    "start_time": "2021-08-18T07:54:13.060Z"
   },
   {
    "duration": 1376,
    "start_time": "2021-08-18T07:54:19.438Z"
   },
   {
    "duration": 344,
    "start_time": "2021-08-18T07:54:20.817Z"
   },
   {
    "duration": 16,
    "start_time": "2021-08-18T07:54:21.164Z"
   },
   {
    "duration": 340,
    "start_time": "2021-08-18T07:54:21.184Z"
   },
   {
    "duration": 12,
    "start_time": "2021-08-18T07:54:21.527Z"
   },
   {
    "duration": 278,
    "start_time": "2021-08-18T07:54:21.542Z"
   },
   {
    "duration": 10,
    "start_time": "2021-08-18T07:54:21.823Z"
   },
   {
    "duration": 117,
    "start_time": "2021-08-18T07:54:21.836Z"
   },
   {
    "duration": 12,
    "start_time": "2021-08-18T07:54:21.956Z"
   },
   {
    "duration": 65,
    "start_time": "2021-08-18T07:54:21.971Z"
   },
   {
    "duration": 16,
    "start_time": "2021-08-18T07:54:22.038Z"
   },
   {
    "duration": 73,
    "start_time": "2021-08-18T07:54:22.057Z"
   },
   {
    "duration": 73,
    "start_time": "2021-08-18T07:54:22.132Z"
   },
   {
    "duration": 51,
    "start_time": "2021-08-18T07:54:22.208Z"
   },
   {
    "duration": 27,
    "start_time": "2021-08-18T07:54:22.262Z"
   },
   {
    "duration": 39,
    "start_time": "2021-08-18T07:54:22.291Z"
   },
   {
    "duration": 7,
    "start_time": "2021-08-18T07:54:22.355Z"
   },
   {
    "duration": 9,
    "start_time": "2021-08-18T07:54:22.364Z"
   },
   {
    "duration": 7,
    "start_time": "2021-08-18T07:54:22.375Z"
   },
   {
    "duration": 12,
    "start_time": "2021-08-18T07:54:22.384Z"
   },
   {
    "duration": 62,
    "start_time": "2021-08-18T07:54:22.399Z"
   },
   {
    "duration": 35,
    "start_time": "2021-08-18T07:54:22.464Z"
   },
   {
    "duration": 10,
    "start_time": "2021-08-18T07:54:22.504Z"
   },
   {
    "duration": 166,
    "start_time": "2021-08-18T07:54:22.517Z"
   },
   {
    "duration": 23,
    "start_time": "2021-08-18T07:54:22.686Z"
   },
   {
    "duration": 13,
    "start_time": "2021-08-18T07:54:22.711Z"
   },
   {
    "duration": 75,
    "start_time": "2021-08-18T07:54:22.726Z"
   },
   {
    "duration": 106,
    "start_time": "2021-08-18T07:54:22.811Z"
   },
   {
    "duration": 43,
    "start_time": "2021-08-18T07:54:22.922Z"
   },
   {
    "duration": 36,
    "start_time": "2021-08-18T07:54:22.969Z"
   },
   {
    "duration": 57,
    "start_time": "2021-08-18T07:54:23.008Z"
   },
   {
    "duration": 69,
    "start_time": "2021-08-18T07:54:23.068Z"
   },
   {
    "duration": 49,
    "start_time": "2021-08-18T07:54:23.140Z"
   },
   {
    "duration": 33,
    "start_time": "2021-08-18T07:54:23.192Z"
   },
   {
    "duration": 23,
    "start_time": "2021-08-18T07:54:23.228Z"
   },
   {
    "duration": 27,
    "start_time": "2021-08-18T07:54:23.254Z"
   },
   {
    "duration": 122,
    "start_time": "2021-08-18T07:54:23.284Z"
   },
   {
    "duration": 12,
    "start_time": "2021-08-18T07:54:23.408Z"
   },
   {
    "duration": 61,
    "start_time": "2021-08-18T07:54:23.423Z"
   },
   {
    "duration": 10,
    "start_time": "2021-08-18T07:54:23.486Z"
   },
   {
    "duration": 77,
    "start_time": "2021-08-18T07:54:23.498Z"
   },
   {
    "duration": 11,
    "start_time": "2021-08-18T07:54:23.577Z"
   },
   {
    "duration": 32,
    "start_time": "2021-08-18T07:54:23.590Z"
   },
   {
    "duration": 33,
    "start_time": "2021-08-18T07:54:23.624Z"
   },
   {
    "duration": 26,
    "start_time": "2021-08-18T07:54:23.660Z"
   },
   {
    "duration": 24,
    "start_time": "2021-08-18T07:54:23.689Z"
   },
   {
    "duration": 46,
    "start_time": "2021-08-18T07:54:23.715Z"
   },
   {
    "duration": 31,
    "start_time": "2021-08-18T07:55:03.086Z"
   },
   {
    "duration": 11,
    "start_time": "2021-08-18T07:55:06.196Z"
   },
   {
    "duration": 20,
    "start_time": "2021-08-18T07:55:14.916Z"
   },
   {
    "duration": 11,
    "start_time": "2021-08-18T07:55:17.786Z"
   },
   {
    "duration": 1409,
    "start_time": "2021-08-18T07:55:50.819Z"
   },
   {
    "duration": 370,
    "start_time": "2021-08-18T07:55:52.231Z"
   },
   {
    "duration": 19,
    "start_time": "2021-08-18T07:55:52.604Z"
   },
   {
    "duration": 383,
    "start_time": "2021-08-18T07:55:52.626Z"
   },
   {
    "duration": 12,
    "start_time": "2021-08-18T07:55:53.012Z"
   },
   {
    "duration": 314,
    "start_time": "2021-08-18T07:55:53.027Z"
   },
   {
    "duration": 15,
    "start_time": "2021-08-18T07:55:53.344Z"
   },
   {
    "duration": 62,
    "start_time": "2021-08-18T07:55:53.363Z"
   },
   {
    "duration": 13,
    "start_time": "2021-08-18T07:55:53.428Z"
   },
   {
    "duration": 55,
    "start_time": "2021-08-18T07:55:53.443Z"
   },
   {
    "duration": 15,
    "start_time": "2021-08-18T07:55:53.500Z"
   },
   {
    "duration": 74,
    "start_time": "2021-08-18T07:55:53.517Z"
   },
   {
    "duration": 69,
    "start_time": "2021-08-18T07:55:53.594Z"
   },
   {
    "duration": 32,
    "start_time": "2021-08-18T07:55:53.666Z"
   },
   {
    "duration": 53,
    "start_time": "2021-08-18T07:55:53.701Z"
   },
   {
    "duration": 42,
    "start_time": "2021-08-18T07:55:53.757Z"
   },
   {
    "duration": 8,
    "start_time": "2021-08-18T07:55:53.802Z"
   },
   {
    "duration": 19,
    "start_time": "2021-08-18T07:55:53.813Z"
   },
   {
    "duration": 41,
    "start_time": "2021-08-18T07:55:53.834Z"
   },
   {
    "duration": 18,
    "start_time": "2021-08-18T07:55:53.878Z"
   },
   {
    "duration": 65,
    "start_time": "2021-08-18T07:55:53.900Z"
   },
   {
    "duration": 38,
    "start_time": "2021-08-18T07:55:53.968Z"
   },
   {
    "duration": 11,
    "start_time": "2021-08-18T07:55:54.014Z"
   },
   {
    "duration": 191,
    "start_time": "2021-08-18T07:55:54.029Z"
   },
   {
    "duration": 49,
    "start_time": "2021-08-18T07:55:54.223Z"
   },
   {
    "duration": 17,
    "start_time": "2021-08-18T07:55:54.276Z"
   },
   {
    "duration": 44,
    "start_time": "2021-08-18T07:55:54.297Z"
   },
   {
    "duration": 24,
    "start_time": "2021-08-18T07:55:54.344Z"
   },
   {
    "duration": 25,
    "start_time": "2021-08-18T07:55:54.371Z"
   },
   {
    "duration": 12,
    "start_time": "2021-08-18T07:55:54.399Z"
   },
   {
    "duration": 41,
    "start_time": "2021-08-18T07:55:54.413Z"
   },
   {
    "duration": 22,
    "start_time": "2021-08-18T07:55:54.457Z"
   },
   {
    "duration": 56,
    "start_time": "2021-08-18T07:55:54.482Z"
   },
   {
    "duration": 22,
    "start_time": "2021-08-18T07:55:54.541Z"
   },
   {
    "duration": 28,
    "start_time": "2021-08-18T07:55:54.565Z"
   },
   {
    "duration": 36,
    "start_time": "2021-08-18T07:55:54.596Z"
   },
   {
    "duration": 58,
    "start_time": "2021-08-18T07:55:54.635Z"
   },
   {
    "duration": 16,
    "start_time": "2021-08-18T07:55:54.696Z"
   },
   {
    "duration": 54,
    "start_time": "2021-08-18T07:55:54.715Z"
   },
   {
    "duration": 14,
    "start_time": "2021-08-18T07:55:54.772Z"
   },
   {
    "duration": 26,
    "start_time": "2021-08-18T07:55:54.789Z"
   },
   {
    "duration": 40,
    "start_time": "2021-08-18T07:55:54.818Z"
   },
   {
    "duration": 35,
    "start_time": "2021-08-18T07:55:54.860Z"
   },
   {
    "duration": 12,
    "start_time": "2021-08-18T07:55:54.898Z"
   },
   {
    "duration": 45,
    "start_time": "2021-08-18T07:55:54.913Z"
   },
   {
    "duration": 25,
    "start_time": "2021-08-18T07:55:54.961Z"
   },
   {
    "duration": 10,
    "start_time": "2021-08-18T07:55:54.989Z"
   },
   {
    "duration": 1328,
    "start_time": "2021-08-18T08:59:02.783Z"
   },
   {
    "duration": 412,
    "start_time": "2021-08-18T08:59:04.114Z"
   },
   {
    "duration": 33,
    "start_time": "2021-08-18T08:59:04.531Z"
   },
   {
    "duration": 428,
    "start_time": "2021-08-18T08:59:04.568Z"
   },
   {
    "duration": 18,
    "start_time": "2021-08-18T08:59:04.999Z"
   },
   {
    "duration": 273,
    "start_time": "2021-08-18T08:59:05.020Z"
   },
   {
    "duration": 11,
    "start_time": "2021-08-18T08:59:05.295Z"
   },
   {
    "duration": 122,
    "start_time": "2021-08-18T08:59:05.310Z"
   },
   {
    "duration": 12,
    "start_time": "2021-08-18T08:59:05.435Z"
   },
   {
    "duration": 74,
    "start_time": "2021-08-18T08:59:05.450Z"
   },
   {
    "duration": 16,
    "start_time": "2021-08-18T08:59:05.527Z"
   },
   {
    "duration": 86,
    "start_time": "2021-08-18T08:59:05.545Z"
   },
   {
    "duration": 58,
    "start_time": "2021-08-18T08:59:05.633Z"
   },
   {
    "duration": 29,
    "start_time": "2021-08-18T08:59:05.694Z"
   },
   {
    "duration": 40,
    "start_time": "2021-08-18T08:59:05.725Z"
   },
   {
    "duration": 41,
    "start_time": "2021-08-18T08:59:05.767Z"
   },
   {
    "duration": 7,
    "start_time": "2021-08-18T08:59:05.811Z"
   },
   {
    "duration": 30,
    "start_time": "2021-08-18T08:59:05.820Z"
   },
   {
    "duration": 24,
    "start_time": "2021-08-18T08:59:05.853Z"
   },
   {
    "duration": 24,
    "start_time": "2021-08-18T08:59:05.879Z"
   },
   {
    "duration": 47,
    "start_time": "2021-08-18T08:59:05.906Z"
   },
   {
    "duration": 43,
    "start_time": "2021-08-18T08:59:05.955Z"
   },
   {
    "duration": 10,
    "start_time": "2021-08-18T08:59:06.003Z"
   },
   {
    "duration": 160,
    "start_time": "2021-08-18T08:59:06.017Z"
   },
   {
    "duration": 25,
    "start_time": "2021-08-18T08:59:06.180Z"
   },
   {
    "duration": 15,
    "start_time": "2021-08-18T08:59:06.208Z"
   },
   {
    "duration": 51,
    "start_time": "2021-08-18T08:59:06.226Z"
   },
   {
    "duration": 25,
    "start_time": "2021-08-18T08:59:06.280Z"
   },
   {
    "duration": 23,
    "start_time": "2021-08-18T08:59:06.308Z"
   },
   {
    "duration": 27,
    "start_time": "2021-08-18T08:59:06.334Z"
   },
   {
    "duration": 24,
    "start_time": "2021-08-18T08:59:06.364Z"
   },
   {
    "duration": 28,
    "start_time": "2021-08-18T08:59:06.391Z"
   },
   {
    "duration": 33,
    "start_time": "2021-08-18T08:59:06.421Z"
   },
   {
    "duration": 16,
    "start_time": "2021-08-18T08:59:06.457Z"
   },
   {
    "duration": 20,
    "start_time": "2021-08-18T08:59:06.475Z"
   },
   {
    "duration": 34,
    "start_time": "2021-08-18T08:59:06.498Z"
   },
   {
    "duration": 47,
    "start_time": "2021-08-18T08:59:06.534Z"
   },
   {
    "duration": 11,
    "start_time": "2021-08-18T08:59:06.584Z"
   },
   {
    "duration": 56,
    "start_time": "2021-08-18T08:59:06.598Z"
   },
   {
    "duration": 9,
    "start_time": "2021-08-18T08:59:06.657Z"
   },
   {
    "duration": 43,
    "start_time": "2021-08-18T08:59:06.668Z"
   },
   {
    "duration": 10,
    "start_time": "2021-08-18T08:59:06.714Z"
   },
   {
    "duration": 34,
    "start_time": "2021-08-18T08:59:06.726Z"
   },
   {
    "duration": 18,
    "start_time": "2021-08-18T08:59:06.762Z"
   },
   {
    "duration": 39,
    "start_time": "2021-08-18T08:59:06.783Z"
   },
   {
    "duration": 24,
    "start_time": "2021-08-18T08:59:06.824Z"
   },
   {
    "duration": 11,
    "start_time": "2021-08-18T08:59:06.855Z"
   },
   {
    "duration": 416,
    "start_time": "2021-08-18T08:59:06.869Z"
   },
   {
    "duration": 299,
    "start_time": "2021-08-18T08:59:19.604Z"
   },
   {
    "duration": 10,
    "start_time": "2021-08-18T08:59:27.451Z"
   },
   {
    "duration": 12,
    "start_time": "2021-08-18T08:59:42.035Z"
   },
   {
    "duration": 13,
    "start_time": "2021-08-18T09:01:20.160Z"
   },
   {
    "duration": 13,
    "start_time": "2021-08-18T09:01:22.689Z"
   },
   {
    "duration": 308,
    "start_time": "2021-08-18T09:03:05.773Z"
   },
   {
    "duration": 23,
    "start_time": "2021-08-18T09:03:13.693Z"
   },
   {
    "duration": 10,
    "start_time": "2021-08-18T09:04:56.626Z"
   },
   {
    "duration": 17,
    "start_time": "2021-08-18T09:05:14.929Z"
   },
   {
    "duration": 16,
    "start_time": "2021-08-18T09:06:22.632Z"
   },
   {
    "duration": 9,
    "start_time": "2021-08-18T09:06:24.785Z"
   },
   {
    "duration": 28,
    "start_time": "2021-08-18T09:06:37.030Z"
   },
   {
    "duration": 11,
    "start_time": "2021-08-18T09:06:39.288Z"
   },
   {
    "duration": 1480,
    "start_time": "2021-08-18T09:07:02.939Z"
   },
   {
    "duration": 432,
    "start_time": "2021-08-18T09:07:04.421Z"
   },
   {
    "duration": 24,
    "start_time": "2021-08-18T09:07:04.857Z"
   },
   {
    "duration": 406,
    "start_time": "2021-08-18T09:07:04.884Z"
   },
   {
    "duration": 16,
    "start_time": "2021-08-18T09:07:05.293Z"
   },
   {
    "duration": 214,
    "start_time": "2021-08-18T09:07:05.312Z"
   },
   {
    "duration": 10,
    "start_time": "2021-08-18T09:07:05.528Z"
   },
   {
    "duration": 59,
    "start_time": "2021-08-18T09:07:05.541Z"
   },
   {
    "duration": 17,
    "start_time": "2021-08-18T09:07:05.604Z"
   },
   {
    "duration": 222,
    "start_time": "2021-08-18T09:07:05.624Z"
   },
   {
    "duration": 17,
    "start_time": "2021-08-18T09:07:05.849Z"
   },
   {
    "duration": 91,
    "start_time": "2021-08-18T09:07:05.868Z"
   },
   {
    "duration": 60,
    "start_time": "2021-08-18T09:07:05.962Z"
   },
   {
    "duration": 44,
    "start_time": "2021-08-18T09:07:06.024Z"
   },
   {
    "duration": 24,
    "start_time": "2021-08-18T09:07:06.071Z"
   },
   {
    "duration": 65,
    "start_time": "2021-08-18T09:07:06.097Z"
   },
   {
    "duration": 7,
    "start_time": "2021-08-18T09:07:06.165Z"
   },
   {
    "duration": 13,
    "start_time": "2021-08-18T09:07:06.174Z"
   },
   {
    "duration": 12,
    "start_time": "2021-08-18T09:07:06.189Z"
   },
   {
    "duration": 29,
    "start_time": "2021-08-18T09:07:06.203Z"
   },
   {
    "duration": 43,
    "start_time": "2021-08-18T09:07:06.234Z"
   },
   {
    "duration": 34,
    "start_time": "2021-08-18T09:07:06.280Z"
   },
   {
    "duration": 12,
    "start_time": "2021-08-18T09:07:06.322Z"
   },
   {
    "duration": 153,
    "start_time": "2021-08-18T09:07:06.357Z"
   },
   {
    "duration": 41,
    "start_time": "2021-08-18T09:07:06.513Z"
   },
   {
    "duration": 13,
    "start_time": "2021-08-18T09:07:06.556Z"
   },
   {
    "duration": 39,
    "start_time": "2021-08-18T09:07:06.571Z"
   },
   {
    "duration": 23,
    "start_time": "2021-08-18T09:07:06.612Z"
   },
   {
    "duration": 25,
    "start_time": "2021-08-18T09:07:06.637Z"
   },
   {
    "duration": 41,
    "start_time": "2021-08-18T09:07:06.664Z"
   },
   {
    "duration": 17,
    "start_time": "2021-08-18T09:07:06.707Z"
   },
   {
    "duration": 34,
    "start_time": "2021-08-18T09:07:06.726Z"
   },
   {
    "duration": 32,
    "start_time": "2021-08-18T09:07:06.762Z"
   },
   {
    "duration": 19,
    "start_time": "2021-08-18T09:07:06.796Z"
   },
   {
    "duration": 15,
    "start_time": "2021-08-18T09:07:06.818Z"
   },
   {
    "duration": 32,
    "start_time": "2021-08-18T09:07:06.835Z"
   },
   {
    "duration": 32,
    "start_time": "2021-08-18T09:07:06.870Z"
   },
   {
    "duration": 12,
    "start_time": "2021-08-18T09:07:06.905Z"
   },
   {
    "duration": 59,
    "start_time": "2021-08-18T09:07:06.919Z"
   },
   {
    "duration": 10,
    "start_time": "2021-08-18T09:07:06.981Z"
   },
   {
    "duration": 25,
    "start_time": "2021-08-18T09:07:06.993Z"
   },
   {
    "duration": 41,
    "start_time": "2021-08-18T09:07:07.020Z"
   },
   {
    "duration": 24,
    "start_time": "2021-08-18T09:07:07.063Z"
   },
   {
    "duration": 9,
    "start_time": "2021-08-18T09:07:07.089Z"
   },
   {
    "duration": 53,
    "start_time": "2021-08-18T09:07:07.101Z"
   },
   {
    "duration": 24,
    "start_time": "2021-08-18T09:07:07.157Z"
   },
   {
    "duration": 10,
    "start_time": "2021-08-18T09:07:07.184Z"
   },
   {
    "duration": 18,
    "start_time": "2021-08-18T09:07:07.196Z"
   },
   {
    "duration": 38,
    "start_time": "2021-08-18T09:07:07.216Z"
   },
   {
    "duration": 21,
    "start_time": "2021-08-18T09:07:07.257Z"
   },
   {
    "duration": 11,
    "start_time": "2021-08-18T09:07:07.281Z"
   },
   {
    "duration": 20,
    "start_time": "2021-08-18T09:07:07.295Z"
   },
   {
    "duration": 18,
    "start_time": "2021-08-18T09:07:18.124Z"
   },
   {
    "duration": 1342,
    "start_time": "2021-08-18T09:07:30.277Z"
   },
   {
    "duration": 433,
    "start_time": "2021-08-18T09:07:31.621Z"
   },
   {
    "duration": 19,
    "start_time": "2021-08-18T09:07:32.057Z"
   },
   {
    "duration": 354,
    "start_time": "2021-08-18T09:07:32.080Z"
   },
   {
    "duration": 18,
    "start_time": "2021-08-18T09:07:32.436Z"
   },
   {
    "duration": 286,
    "start_time": "2021-08-18T09:07:32.457Z"
   },
   {
    "duration": 11,
    "start_time": "2021-08-18T09:07:32.745Z"
   },
   {
    "duration": 65,
    "start_time": "2021-08-18T09:07:32.759Z"
   },
   {
    "duration": 16,
    "start_time": "2021-08-18T09:07:32.829Z"
   },
   {
    "duration": 70,
    "start_time": "2021-08-18T09:07:32.848Z"
   },
   {
    "duration": 20,
    "start_time": "2021-08-18T09:07:32.920Z"
   },
   {
    "duration": 80,
    "start_time": "2021-08-18T09:07:32.942Z"
   },
   {
    "duration": 63,
    "start_time": "2021-08-18T09:07:33.025Z"
   },
   {
    "duration": 29,
    "start_time": "2021-08-18T09:07:33.090Z"
   },
   {
    "duration": 44,
    "start_time": "2021-08-18T09:07:33.122Z"
   },
   {
    "duration": 40,
    "start_time": "2021-08-18T09:07:33.169Z"
   },
   {
    "duration": 7,
    "start_time": "2021-08-18T09:07:33.211Z"
   },
   {
    "duration": 43,
    "start_time": "2021-08-18T09:07:33.221Z"
   },
   {
    "duration": 13,
    "start_time": "2021-08-18T09:07:33.267Z"
   },
   {
    "duration": 17,
    "start_time": "2021-08-18T09:07:33.282Z"
   },
   {
    "duration": 40,
    "start_time": "2021-08-18T09:07:33.301Z"
   },
   {
    "duration": 39,
    "start_time": "2021-08-18T09:07:33.343Z"
   },
   {
    "duration": 11,
    "start_time": "2021-08-18T09:07:33.388Z"
   },
   {
    "duration": 163,
    "start_time": "2021-08-18T09:07:33.401Z"
   },
   {
    "duration": 25,
    "start_time": "2021-08-18T09:07:33.566Z"
   },
   {
    "duration": 12,
    "start_time": "2021-08-18T09:07:33.593Z"
   },
   {
    "duration": 51,
    "start_time": "2021-08-18T09:07:33.608Z"
   },
   {
    "duration": 23,
    "start_time": "2021-08-18T09:07:33.661Z"
   },
   {
    "duration": 29,
    "start_time": "2021-08-18T09:07:33.686Z"
   },
   {
    "duration": 19,
    "start_time": "2021-08-18T09:07:33.717Z"
   },
   {
    "duration": 24,
    "start_time": "2021-08-18T09:07:33.739Z"
   },
   {
    "duration": 33,
    "start_time": "2021-08-18T09:07:33.765Z"
   },
   {
    "duration": 32,
    "start_time": "2021-08-18T09:07:33.801Z"
   },
   {
    "duration": 21,
    "start_time": "2021-08-18T09:07:33.835Z"
   },
   {
    "duration": 22,
    "start_time": "2021-08-18T09:07:33.859Z"
   },
   {
    "duration": 34,
    "start_time": "2021-08-18T09:07:33.884Z"
   },
   {
    "duration": 37,
    "start_time": "2021-08-18T09:07:33.922Z"
   },
   {
    "duration": 11,
    "start_time": "2021-08-18T09:07:33.962Z"
   },
   {
    "duration": 44,
    "start_time": "2021-08-18T09:07:33.977Z"
   },
   {
    "duration": 17,
    "start_time": "2021-08-18T09:07:34.023Z"
   },
   {
    "duration": 48,
    "start_time": "2021-08-18T09:07:34.042Z"
   },
   {
    "duration": 11,
    "start_time": "2021-08-18T09:07:34.092Z"
   },
   {
    "duration": 35,
    "start_time": "2021-08-18T09:07:34.105Z"
   },
   {
    "duration": 17,
    "start_time": "2021-08-18T09:07:34.142Z"
   },
   {
    "duration": 36,
    "start_time": "2021-08-18T09:07:34.162Z"
   },
   {
    "duration": 53,
    "start_time": "2021-08-18T09:07:34.201Z"
   },
   {
    "duration": 12,
    "start_time": "2021-08-18T09:07:34.257Z"
   },
   {
    "duration": 29,
    "start_time": "2021-08-18T09:07:34.272Z"
   },
   {
    "duration": 21,
    "start_time": "2021-08-18T09:07:34.304Z"
   },
   {
    "duration": 51,
    "start_time": "2021-08-18T09:07:34.329Z"
   },
   {
    "duration": 13,
    "start_time": "2021-08-18T09:07:34.384Z"
   },
   {
    "duration": 28,
    "start_time": "2021-08-18T09:07:34.399Z"
   },
   {
    "duration": 13,
    "start_time": "2021-08-18T09:09:18.576Z"
   },
   {
    "duration": 24,
    "start_time": "2021-08-18T09:09:34.553Z"
   },
   {
    "duration": 13,
    "start_time": "2021-08-18T09:09:53.684Z"
   },
   {
    "duration": 23,
    "start_time": "2021-08-18T09:09:56.197Z"
   },
   {
    "duration": 1342,
    "start_time": "2021-08-18T09:10:08.776Z"
   },
   {
    "duration": 312,
    "start_time": "2021-08-18T09:10:10.121Z"
   },
   {
    "duration": 30,
    "start_time": "2021-08-18T09:10:10.439Z"
   },
   {
    "duration": 321,
    "start_time": "2021-08-18T09:10:10.472Z"
   },
   {
    "duration": 13,
    "start_time": "2021-08-18T09:10:10.795Z"
   },
   {
    "duration": 282,
    "start_time": "2021-08-18T09:10:10.810Z"
   },
   {
    "duration": 15,
    "start_time": "2021-08-18T09:10:11.098Z"
   },
   {
    "duration": 78,
    "start_time": "2021-08-18T09:10:11.117Z"
   },
   {
    "duration": 12,
    "start_time": "2021-08-18T09:10:11.197Z"
   },
   {
    "duration": 62,
    "start_time": "2021-08-18T09:10:11.212Z"
   },
   {
    "duration": 15,
    "start_time": "2021-08-18T09:10:11.276Z"
   },
   {
    "duration": 83,
    "start_time": "2021-08-18T09:10:11.294Z"
   },
   {
    "duration": 58,
    "start_time": "2021-08-18T09:10:11.380Z"
   },
   {
    "duration": 42,
    "start_time": "2021-08-18T09:10:11.440Z"
   },
   {
    "duration": 25,
    "start_time": "2021-08-18T09:10:11.485Z"
   },
   {
    "duration": 68,
    "start_time": "2021-08-18T09:10:11.513Z"
   },
   {
    "duration": 7,
    "start_time": "2021-08-18T09:10:11.583Z"
   },
   {
    "duration": 14,
    "start_time": "2021-08-18T09:10:11.594Z"
   },
   {
    "duration": 22,
    "start_time": "2021-08-18T09:10:11.611Z"
   },
   {
    "duration": 32,
    "start_time": "2021-08-18T09:10:11.636Z"
   },
   {
    "duration": 71,
    "start_time": "2021-08-18T09:10:11.671Z"
   },
   {
    "duration": 39,
    "start_time": "2021-08-18T09:10:11.759Z"
   },
   {
    "duration": 14,
    "start_time": "2021-08-18T09:10:11.803Z"
   },
   {
    "duration": 280,
    "start_time": "2021-08-18T09:10:11.820Z"
   },
   {
    "duration": 27,
    "start_time": "2021-08-18T09:10:12.103Z"
   },
   {
    "duration": 33,
    "start_time": "2021-08-18T09:10:12.134Z"
   },
   {
    "duration": 46,
    "start_time": "2021-08-18T09:10:12.170Z"
   },
   {
    "duration": 50,
    "start_time": "2021-08-18T09:10:12.220Z"
   },
   {
    "duration": 30,
    "start_time": "2021-08-18T09:10:12.273Z"
   },
   {
    "duration": 30,
    "start_time": "2021-08-18T09:10:12.306Z"
   },
   {
    "duration": 34,
    "start_time": "2021-08-18T09:10:12.339Z"
   },
   {
    "duration": 35,
    "start_time": "2021-08-18T09:10:12.376Z"
   },
   {
    "duration": 48,
    "start_time": "2021-08-18T09:10:12.413Z"
   },
   {
    "duration": 16,
    "start_time": "2021-08-18T09:10:12.464Z"
   },
   {
    "duration": 24,
    "start_time": "2021-08-18T09:10:12.483Z"
   },
   {
    "duration": 31,
    "start_time": "2021-08-18T09:10:12.510Z"
   },
   {
    "duration": 47,
    "start_time": "2021-08-18T09:10:12.543Z"
   },
   {
    "duration": 10,
    "start_time": "2021-08-18T09:10:12.593Z"
   },
   {
    "duration": 43,
    "start_time": "2021-08-18T09:10:12.605Z"
   },
   {
    "duration": 9,
    "start_time": "2021-08-18T09:10:12.651Z"
   },
   {
    "duration": 33,
    "start_time": "2021-08-18T09:10:12.663Z"
   },
   {
    "duration": 18,
    "start_time": "2021-08-18T09:10:12.698Z"
   },
   {
    "duration": 44,
    "start_time": "2021-08-18T09:10:12.718Z"
   },
   {
    "duration": 9,
    "start_time": "2021-08-18T09:10:12.765Z"
   },
   {
    "duration": 42,
    "start_time": "2021-08-18T09:10:12.776Z"
   },
   {
    "duration": 29,
    "start_time": "2021-08-18T09:10:12.820Z"
   },
   {
    "duration": 25,
    "start_time": "2021-08-18T09:10:12.851Z"
   },
   {
    "duration": 31,
    "start_time": "2021-08-18T09:10:12.879Z"
   },
   {
    "duration": 26,
    "start_time": "2021-08-18T09:10:12.913Z"
   },
   {
    "duration": 37,
    "start_time": "2021-08-18T09:10:12.941Z"
   },
   {
    "duration": 21,
    "start_time": "2021-08-18T09:10:12.980Z"
   },
   {
    "duration": 29,
    "start_time": "2021-08-18T09:10:13.004Z"
   },
   {
    "duration": 22,
    "start_time": "2021-08-18T09:10:13.036Z"
   },
   {
    "duration": 43,
    "start_time": "2021-08-18T09:10:13.060Z"
   },
   {
    "duration": 443,
    "start_time": "2021-08-18T09:10:51.728Z"
   },
   {
    "duration": 17,
    "start_time": "2021-08-18T09:11:45.887Z"
   },
   {
    "duration": 1507,
    "start_time": "2021-08-18T09:16:38.408Z"
   },
   {
    "duration": 329,
    "start_time": "2021-08-18T09:16:39.918Z"
   },
   {
    "duration": 18,
    "start_time": "2021-08-18T09:16:40.249Z"
   },
   {
    "duration": 385,
    "start_time": "2021-08-18T09:16:40.270Z"
   },
   {
    "duration": 11,
    "start_time": "2021-08-18T09:16:40.658Z"
   },
   {
    "duration": 298,
    "start_time": "2021-08-18T09:16:40.672Z"
   },
   {
    "duration": 9,
    "start_time": "2021-08-18T09:16:40.973Z"
   },
   {
    "duration": 61,
    "start_time": "2021-08-18T09:16:40.986Z"
   },
   {
    "duration": 15,
    "start_time": "2021-08-18T09:16:41.050Z"
   },
   {
    "duration": 50,
    "start_time": "2021-08-18T09:16:41.067Z"
   },
   {
    "duration": 12,
    "start_time": "2021-08-18T09:16:41.119Z"
   },
   {
    "duration": 7,
    "start_time": "2021-08-18T09:16:41.133Z"
   },
   {
    "duration": 78,
    "start_time": "2021-08-18T09:16:41.142Z"
   },
   {
    "duration": 77,
    "start_time": "2021-08-18T09:16:41.222Z"
   },
   {
    "duration": 29,
    "start_time": "2021-08-18T09:16:41.301Z"
   },
   {
    "duration": 46,
    "start_time": "2021-08-18T09:16:41.332Z"
   },
   {
    "duration": 40,
    "start_time": "2021-08-18T09:16:41.380Z"
   },
   {
    "duration": 6,
    "start_time": "2021-08-18T09:16:41.422Z"
   },
   {
    "duration": 6,
    "start_time": "2021-08-18T09:16:41.455Z"
   },
   {
    "duration": 6,
    "start_time": "2021-08-18T09:16:41.463Z"
   },
   {
    "duration": 17,
    "start_time": "2021-08-18T09:16:41.472Z"
   },
   {
    "duration": 31,
    "start_time": "2021-08-18T09:16:41.491Z"
   },
   {
    "duration": 32,
    "start_time": "2021-08-18T09:16:41.558Z"
   },
   {
    "duration": 10,
    "start_time": "2021-08-18T09:16:41.593Z"
   },
   {
    "duration": 166,
    "start_time": "2021-08-18T09:16:41.606Z"
   },
   {
    "duration": 20,
    "start_time": "2021-08-18T09:16:41.774Z"
   },
   {
    "duration": 28,
    "start_time": "2021-08-18T09:16:41.797Z"
   },
   {
    "duration": 40,
    "start_time": "2021-08-18T09:16:41.827Z"
   },
   {
    "duration": 22,
    "start_time": "2021-08-18T09:16:41.869Z"
   },
   {
    "duration": 34,
    "start_time": "2021-08-18T09:16:41.894Z"
   },
   {
    "duration": 16,
    "start_time": "2021-08-18T09:16:41.930Z"
   },
   {
    "duration": 15,
    "start_time": "2021-08-18T09:16:41.948Z"
   },
   {
    "duration": 33,
    "start_time": "2021-08-18T09:16:41.966Z"
   },
   {
    "duration": 43,
    "start_time": "2021-08-18T09:16:42.001Z"
   },
   {
    "duration": 16,
    "start_time": "2021-08-18T09:16:42.046Z"
   },
   {
    "duration": 19,
    "start_time": "2021-08-18T09:16:42.064Z"
   },
   {
    "duration": 33,
    "start_time": "2021-08-18T09:16:42.085Z"
   },
   {
    "duration": 51,
    "start_time": "2021-08-18T09:16:42.120Z"
   },
   {
    "duration": 11,
    "start_time": "2021-08-18T09:16:42.174Z"
   },
   {
    "duration": 49,
    "start_time": "2021-08-18T09:16:42.187Z"
   },
   {
    "duration": 9,
    "start_time": "2021-08-18T09:16:42.240Z"
   },
   {
    "duration": 39,
    "start_time": "2021-08-18T09:16:42.251Z"
   },
   {
    "duration": 11,
    "start_time": "2021-08-18T09:16:42.292Z"
   },
   {
    "duration": 30,
    "start_time": "2021-08-18T09:16:42.305Z"
   },
   {
    "duration": 12,
    "start_time": "2021-08-18T09:16:42.337Z"
   },
   {
    "duration": 38,
    "start_time": "2021-08-18T09:16:42.353Z"
   },
   {
    "duration": 25,
    "start_time": "2021-08-18T09:16:42.394Z"
   },
   {
    "duration": 10,
    "start_time": "2021-08-18T09:16:42.421Z"
   },
   {
    "duration": 27,
    "start_time": "2021-08-18T09:16:42.433Z"
   },
   {
    "duration": 14,
    "start_time": "2021-08-18T09:16:42.463Z"
   },
   {
    "duration": 26,
    "start_time": "2021-08-18T09:16:42.480Z"
   },
   {
    "duration": 10,
    "start_time": "2021-08-18T09:16:42.508Z"
   },
   {
    "duration": 42,
    "start_time": "2021-08-18T09:16:42.520Z"
   },
   {
    "duration": 14,
    "start_time": "2021-08-18T09:16:42.564Z"
   },
   {
    "duration": 28,
    "start_time": "2021-08-18T09:16:42.581Z"
   },
   {
    "duration": 13,
    "start_time": "2021-08-18T09:16:42.611Z"
   },
   {
    "duration": 62,
    "start_time": "2021-08-18T09:16:42.626Z"
   },
   {
    "duration": 10,
    "start_time": "2021-08-18T09:18:52.815Z"
   },
   {
    "duration": 7,
    "start_time": "2021-08-18T09:20:23.427Z"
   },
   {
    "duration": 10,
    "start_time": "2021-08-18T09:20:25.611Z"
   },
   {
    "duration": 12,
    "start_time": "2021-08-18T09:22:58.495Z"
   },
   {
    "duration": 9,
    "start_time": "2021-08-18T09:23:08.533Z"
   },
   {
    "duration": 16,
    "start_time": "2021-08-18T09:23:26.901Z"
   },
   {
    "duration": 5,
    "start_time": "2021-08-18T09:26:47.942Z"
   },
   {
    "duration": 29,
    "start_time": "2021-08-18T09:27:07.235Z"
   },
   {
    "duration": 7086,
    "start_time": "2021-08-18T09:28:08.051Z"
   },
   {
    "duration": 24,
    "start_time": "2021-08-18T09:28:15.117Z"
   },
   {
    "duration": 9068,
    "start_time": "2021-08-18T09:28:25.540Z"
   },
   {
    "duration": -67,
    "start_time": "2021-08-18T09:28:34.679Z"
   },
   {
    "duration": 1372,
    "start_time": "2021-08-18T09:28:49.482Z"
   },
   {
    "duration": 382,
    "start_time": "2021-08-18T09:28:50.857Z"
   },
   {
    "duration": 22,
    "start_time": "2021-08-18T09:28:51.246Z"
   },
   {
    "duration": 293,
    "start_time": "2021-08-18T09:28:51.271Z"
   },
   {
    "duration": 13,
    "start_time": "2021-08-18T09:28:51.566Z"
   },
   {
    "duration": 212,
    "start_time": "2021-08-18T09:28:51.582Z"
   },
   {
    "duration": 10,
    "start_time": "2021-08-18T09:28:51.797Z"
   },
   {
    "duration": 71,
    "start_time": "2021-08-18T09:28:51.810Z"
   },
   {
    "duration": 15,
    "start_time": "2021-08-18T09:28:51.884Z"
   },
   {
    "duration": 57,
    "start_time": "2021-08-18T09:28:51.901Z"
   },
   {
    "duration": 13,
    "start_time": "2021-08-18T09:28:51.961Z"
   },
   {
    "duration": 24,
    "start_time": "2021-08-18T09:28:51.976Z"
   },
   {
    "duration": 81,
    "start_time": "2021-08-18T09:28:52.002Z"
   },
   {
    "duration": 70,
    "start_time": "2021-08-18T09:28:52.085Z"
   },
   {
    "duration": 28,
    "start_time": "2021-08-18T09:28:52.158Z"
   },
   {
    "duration": 30,
    "start_time": "2021-08-18T09:28:52.189Z"
   },
   {
    "duration": 62,
    "start_time": "2021-08-18T09:28:52.222Z"
   },
   {
    "duration": 7,
    "start_time": "2021-08-18T09:28:52.287Z"
   },
   {
    "duration": 27,
    "start_time": "2021-08-18T09:28:52.297Z"
   },
   {
    "duration": 21,
    "start_time": "2021-08-18T09:28:52.327Z"
   },
   {
    "duration": 27,
    "start_time": "2021-08-18T09:28:52.350Z"
   },
   {
    "duration": 31,
    "start_time": "2021-08-18T09:28:52.386Z"
   },
   {
    "duration": 42,
    "start_time": "2021-08-18T09:28:52.422Z"
   },
   {
    "duration": 13,
    "start_time": "2021-08-18T09:28:52.467Z"
   },
   {
    "duration": 165,
    "start_time": "2021-08-18T09:28:52.483Z"
   },
   {
    "duration": 24,
    "start_time": "2021-08-18T09:28:52.651Z"
   },
   {
    "duration": 15,
    "start_time": "2021-08-18T09:28:52.678Z"
   },
   {
    "duration": 44,
    "start_time": "2021-08-18T09:28:52.696Z"
   },
   {
    "duration": 32,
    "start_time": "2021-08-18T09:28:52.742Z"
   },
   {
    "duration": 42,
    "start_time": "2021-08-18T09:28:52.776Z"
   },
   {
    "duration": 27,
    "start_time": "2021-08-18T09:28:52.820Z"
   },
   {
    "duration": 24,
    "start_time": "2021-08-18T09:28:52.850Z"
   },
   {
    "duration": 42,
    "start_time": "2021-08-18T09:28:52.876Z"
   },
   {
    "duration": 36,
    "start_time": "2021-08-18T09:28:52.921Z"
   },
   {
    "duration": 19,
    "start_time": "2021-08-18T09:28:52.959Z"
   },
   {
    "duration": 26,
    "start_time": "2021-08-18T09:28:52.981Z"
   },
   {
    "duration": 30,
    "start_time": "2021-08-18T09:28:53.010Z"
   },
   {
    "duration": 57,
    "start_time": "2021-08-18T09:28:53.043Z"
   },
   {
    "duration": 17,
    "start_time": "2021-08-18T09:28:53.103Z"
   },
   {
    "duration": 56,
    "start_time": "2021-08-18T09:28:53.123Z"
   },
   {
    "duration": 10,
    "start_time": "2021-08-18T09:28:53.181Z"
   },
   {
    "duration": 41,
    "start_time": "2021-08-18T09:28:53.194Z"
   },
   {
    "duration": 19,
    "start_time": "2021-08-18T09:28:53.238Z"
   },
   {
    "duration": 44,
    "start_time": "2021-08-18T09:28:53.260Z"
   },
   {
    "duration": 10,
    "start_time": "2021-08-18T09:28:53.306Z"
   },
   {
    "duration": 49,
    "start_time": "2021-08-18T09:28:53.318Z"
   },
   {
    "duration": 38,
    "start_time": "2021-08-18T09:28:53.369Z"
   },
   {
    "duration": 21,
    "start_time": "2021-08-18T09:28:53.409Z"
   },
   {
    "duration": 39,
    "start_time": "2021-08-18T09:28:53.432Z"
   },
   {
    "duration": 26,
    "start_time": "2021-08-18T09:28:53.474Z"
   },
   {
    "duration": 44,
    "start_time": "2021-08-18T09:28:53.502Z"
   },
   {
    "duration": 37,
    "start_time": "2021-08-18T09:28:53.548Z"
   },
   {
    "duration": 35,
    "start_time": "2021-08-18T09:28:53.588Z"
   },
   {
    "duration": 34,
    "start_time": "2021-08-18T09:28:53.625Z"
   },
   {
    "duration": 39,
    "start_time": "2021-08-18T09:28:53.662Z"
   },
   {
    "duration": 15,
    "start_time": "2021-08-18T09:28:53.704Z"
   },
   {
    "duration": 67,
    "start_time": "2021-08-18T09:28:53.721Z"
   },
   {
    "duration": 9,
    "start_time": "2021-08-18T09:28:53.791Z"
   },
   {
    "duration": 33,
    "start_time": "2021-08-18T09:28:53.802Z"
   },
   {
    "duration": 35,
    "start_time": "2021-08-18T09:28:53.838Z"
   },
   {
    "duration": 36,
    "start_time": "2021-08-18T09:28:53.875Z"
   },
   {
    "duration": 52,
    "start_time": "2021-08-18T09:28:53.913Z"
   },
   {
    "duration": 28,
    "start_time": "2021-08-18T09:28:53.967Z"
   },
   {
    "duration": 8519,
    "start_time": "2021-08-18T09:28:53.997Z"
   },
   {
    "duration": 5,
    "start_time": "2021-08-18T09:29:02.513Z"
   },
   {
    "duration": -2,
    "start_time": "2021-08-18T09:29:02.522Z"
   },
   {
    "duration": 999,
    "start_time": "2021-08-19T09:32:02.571Z"
   },
   {
    "duration": 300,
    "start_time": "2021-08-19T09:32:03.572Z"
   },
   {
    "duration": 12,
    "start_time": "2021-08-19T09:32:03.874Z"
   },
   {
    "duration": 267,
    "start_time": "2021-08-19T09:32:03.888Z"
   },
   {
    "duration": 9,
    "start_time": "2021-08-19T09:32:04.157Z"
   },
   {
    "duration": 172,
    "start_time": "2021-08-19T09:32:04.168Z"
   },
   {
    "duration": 8,
    "start_time": "2021-08-19T09:32:04.341Z"
   },
   {
    "duration": 79,
    "start_time": "2021-08-19T09:32:04.352Z"
   },
   {
    "duration": 9,
    "start_time": "2021-08-19T09:32:04.433Z"
   },
   {
    "duration": 109,
    "start_time": "2021-08-19T09:32:04.444Z"
   },
   {
    "duration": 7,
    "start_time": "2021-08-19T09:32:04.555Z"
   },
   {
    "duration": 7,
    "start_time": "2021-08-19T09:32:04.563Z"
   },
   {
    "duration": 49,
    "start_time": "2021-08-19T09:32:04.572Z"
   },
   {
    "duration": 41,
    "start_time": "2021-08-19T09:32:04.622Z"
   },
   {
    "duration": 30,
    "start_time": "2021-08-19T09:32:04.664Z"
   },
   {
    "duration": 15,
    "start_time": "2021-08-19T09:32:04.695Z"
   },
   {
    "duration": 24,
    "start_time": "2021-08-19T09:32:04.712Z"
   },
   {
    "duration": 4,
    "start_time": "2021-08-19T09:32:04.737Z"
   },
   {
    "duration": 13,
    "start_time": "2021-08-19T09:32:04.742Z"
   },
   {
    "duration": 13,
    "start_time": "2021-08-19T09:32:04.757Z"
   },
   {
    "duration": 16,
    "start_time": "2021-08-19T09:32:04.771Z"
   },
   {
    "duration": 30,
    "start_time": "2021-08-19T09:32:04.788Z"
   },
   {
    "duration": 23,
    "start_time": "2021-08-19T09:32:04.822Z"
   },
   {
    "duration": 7,
    "start_time": "2021-08-19T09:32:04.847Z"
   },
   {
    "duration": 89,
    "start_time": "2021-08-19T09:32:04.855Z"
   },
   {
    "duration": 16,
    "start_time": "2021-08-19T09:32:04.946Z"
   },
   {
    "duration": 7,
    "start_time": "2021-08-19T09:32:04.963Z"
   },
   {
    "duration": 28,
    "start_time": "2021-08-19T09:32:04.972Z"
   },
   {
    "duration": 14,
    "start_time": "2021-08-19T09:32:05.001Z"
   },
   {
    "duration": 12,
    "start_time": "2021-08-19T09:32:05.016Z"
   },
   {
    "duration": 9,
    "start_time": "2021-08-19T09:32:05.029Z"
   },
   {
    "duration": 14,
    "start_time": "2021-08-19T09:32:05.039Z"
   },
   {
    "duration": 23,
    "start_time": "2021-08-19T09:32:05.055Z"
   },
   {
    "duration": 25,
    "start_time": "2021-08-19T09:32:05.080Z"
   },
   {
    "duration": 11,
    "start_time": "2021-08-19T09:32:05.106Z"
   },
   {
    "duration": 5,
    "start_time": "2021-08-19T09:32:05.118Z"
   },
   {
    "duration": 11,
    "start_time": "2021-08-19T09:32:05.124Z"
   },
   {
    "duration": 28,
    "start_time": "2021-08-19T09:32:05.137Z"
   },
   {
    "duration": 7,
    "start_time": "2021-08-19T09:32:05.167Z"
   },
   {
    "duration": 22,
    "start_time": "2021-08-19T09:32:05.190Z"
   },
   {
    "duration": 6,
    "start_time": "2021-08-19T09:32:05.214Z"
   },
   {
    "duration": 20,
    "start_time": "2021-08-19T09:32:05.222Z"
   },
   {
    "duration": 8,
    "start_time": "2021-08-19T09:32:05.243Z"
   },
   {
    "duration": 22,
    "start_time": "2021-08-19T09:32:05.253Z"
   },
   {
    "duration": 18,
    "start_time": "2021-08-19T09:32:05.277Z"
   },
   {
    "duration": 18,
    "start_time": "2021-08-19T09:32:05.296Z"
   },
   {
    "duration": 15,
    "start_time": "2021-08-19T09:32:05.315Z"
   },
   {
    "duration": 6,
    "start_time": "2021-08-19T09:32:05.331Z"
   },
   {
    "duration": 13,
    "start_time": "2021-08-19T09:32:05.338Z"
   },
   {
    "duration": 13,
    "start_time": "2021-08-19T09:32:05.352Z"
   },
   {
    "duration": 32,
    "start_time": "2021-08-19T09:32:05.366Z"
   },
   {
    "duration": 16,
    "start_time": "2021-08-19T09:32:05.400Z"
   },
   {
    "duration": 14,
    "start_time": "2021-08-19T09:32:05.417Z"
   },
   {
    "duration": 14,
    "start_time": "2021-08-19T09:32:05.432Z"
   },
   {
    "duration": 22,
    "start_time": "2021-08-19T09:32:05.447Z"
   },
   {
    "duration": 11,
    "start_time": "2021-08-19T09:32:05.471Z"
   },
   {
    "duration": 33,
    "start_time": "2021-08-19T09:32:05.483Z"
   },
   {
    "duration": 5,
    "start_time": "2021-08-19T09:32:05.518Z"
   },
   {
    "duration": 15,
    "start_time": "2021-08-19T09:32:05.524Z"
   },
   {
    "duration": 12,
    "start_time": "2021-08-19T09:32:05.541Z"
   },
   {
    "duration": 11,
    "start_time": "2021-08-19T09:32:05.555Z"
   },
   {
    "duration": 19,
    "start_time": "2021-08-19T09:32:05.567Z"
   },
   {
    "duration": 9,
    "start_time": "2021-08-19T09:32:05.588Z"
   },
   {
    "duration": 6923,
    "start_time": "2021-08-19T09:32:05.598Z"
   },
   {
    "duration": -86,
    "start_time": "2021-08-19T09:32:12.609Z"
   },
   {
    "duration": -104,
    "start_time": "2021-08-19T09:32:12.628Z"
   },
   {
    "duration": 255,
    "start_time": "2021-08-19T09:49:58.466Z"
   },
   {
    "duration": 3,
    "start_time": "2021-08-19T09:56:33.282Z"
   },
   {
    "duration": 425,
    "start_time": "2021-08-19T09:56:40.465Z"
   },
   {
    "duration": 669,
    "start_time": "2021-08-19T09:56:58.447Z"
   },
   {
    "duration": 653,
    "start_time": "2021-08-19T09:59:37.355Z"
   },
   {
    "duration": 4,
    "start_time": "2021-08-19T10:00:47.921Z"
   },
   {
    "duration": 7,
    "start_time": "2021-08-19T10:00:53.527Z"
   },
   {
    "duration": 275,
    "start_time": "2021-08-19T10:07:16.539Z"
   },
   {
    "duration": 3,
    "start_time": "2021-08-19T10:08:00.625Z"
   },
   {
    "duration": 13,
    "start_time": "2021-08-19T10:08:11.955Z"
   },
   {
    "duration": 10,
    "start_time": "2021-08-19T10:08:32.953Z"
   },
   {
    "duration": 81,
    "start_time": "2021-08-19T10:08:58.512Z"
   },
   {
    "duration": 11,
    "start_time": "2021-08-19T10:09:26.471Z"
   },
   {
    "duration": 9,
    "start_time": "2021-08-19T10:09:28.393Z"
   },
   {
    "duration": 7,
    "start_time": "2021-08-19T10:13:08.614Z"
   },
   {
    "duration": 5,
    "start_time": "2021-08-19T10:16:00.840Z"
   },
   {
    "duration": 245,
    "start_time": "2021-08-19T10:16:59.761Z"
   },
   {
    "duration": 232,
    "start_time": "2021-08-19T10:17:21.226Z"
   },
   {
    "duration": 258,
    "start_time": "2021-08-19T10:20:53.466Z"
   },
   {
    "duration": 1012,
    "start_time": "2021-08-19T10:21:03.945Z"
   },
   {
    "duration": 315,
    "start_time": "2021-08-19T10:21:04.959Z"
   },
   {
    "duration": 19,
    "start_time": "2021-08-19T10:21:05.278Z"
   },
   {
    "duration": 242,
    "start_time": "2021-08-19T10:21:05.298Z"
   },
   {
    "duration": 9,
    "start_time": "2021-08-19T10:21:05.542Z"
   },
   {
    "duration": 266,
    "start_time": "2021-08-19T10:21:05.552Z"
   },
   {
    "duration": 7,
    "start_time": "2021-08-19T10:21:05.821Z"
   },
   {
    "duration": 53,
    "start_time": "2021-08-19T10:21:05.830Z"
   },
   {
    "duration": 10,
    "start_time": "2021-08-19T10:21:05.884Z"
   },
   {
    "duration": 47,
    "start_time": "2021-08-19T10:21:05.896Z"
   },
   {
    "duration": 8,
    "start_time": "2021-08-19T10:21:05.944Z"
   },
   {
    "duration": 13,
    "start_time": "2021-08-19T10:21:05.954Z"
   },
   {
    "duration": 62,
    "start_time": "2021-08-19T10:21:05.968Z"
   },
   {
    "duration": 41,
    "start_time": "2021-08-19T10:21:06.032Z"
   },
   {
    "duration": 33,
    "start_time": "2021-08-19T10:21:06.075Z"
   },
   {
    "duration": 17,
    "start_time": "2021-08-19T10:21:06.110Z"
   },
   {
    "duration": 27,
    "start_time": "2021-08-19T10:21:06.129Z"
   },
   {
    "duration": 5,
    "start_time": "2021-08-19T10:21:06.158Z"
   },
   {
    "duration": 28,
    "start_time": "2021-08-19T10:21:06.164Z"
   },
   {
    "duration": 4,
    "start_time": "2021-08-19T10:21:06.193Z"
   },
   {
    "duration": 14,
    "start_time": "2021-08-19T10:21:06.198Z"
   },
   {
    "duration": 18,
    "start_time": "2021-08-19T10:21:06.216Z"
   },
   {
    "duration": 25,
    "start_time": "2021-08-19T10:21:06.236Z"
   },
   {
    "duration": 7,
    "start_time": "2021-08-19T10:21:06.262Z"
   },
   {
    "duration": 105,
    "start_time": "2021-08-19T10:21:06.270Z"
   },
   {
    "duration": 24,
    "start_time": "2021-08-19T10:21:06.377Z"
   },
   {
    "duration": 9,
    "start_time": "2021-08-19T10:21:06.403Z"
   },
   {
    "duration": 25,
    "start_time": "2021-08-19T10:21:06.414Z"
   },
   {
    "duration": 16,
    "start_time": "2021-08-19T10:21:06.441Z"
   },
   {
    "duration": 34,
    "start_time": "2021-08-19T10:21:06.458Z"
   },
   {
    "duration": 20,
    "start_time": "2021-08-19T10:21:06.494Z"
   },
   {
    "duration": 21,
    "start_time": "2021-08-19T10:21:06.515Z"
   },
   {
    "duration": 34,
    "start_time": "2021-08-19T10:21:06.538Z"
   },
   {
    "duration": 34,
    "start_time": "2021-08-19T10:21:06.573Z"
   },
   {
    "duration": 17,
    "start_time": "2021-08-19T10:21:06.609Z"
   },
   {
    "duration": 21,
    "start_time": "2021-08-19T10:21:06.628Z"
   },
   {
    "duration": 22,
    "start_time": "2021-08-19T10:21:06.651Z"
   },
   {
    "duration": 48,
    "start_time": "2021-08-19T10:21:06.675Z"
   },
   {
    "duration": 11,
    "start_time": "2021-08-19T10:21:06.725Z"
   },
   {
    "duration": 34,
    "start_time": "2021-08-19T10:21:06.737Z"
   },
   {
    "duration": 6,
    "start_time": "2021-08-19T10:21:06.773Z"
   },
   {
    "duration": 19,
    "start_time": "2021-08-19T10:21:06.781Z"
   },
   {
    "duration": 7,
    "start_time": "2021-08-19T10:21:06.801Z"
   },
   {
    "duration": 19,
    "start_time": "2021-08-19T10:21:06.810Z"
   },
   {
    "duration": 6,
    "start_time": "2021-08-19T10:21:06.831Z"
   },
   {
    "duration": 19,
    "start_time": "2021-08-19T10:21:06.838Z"
   },
   {
    "duration": 38,
    "start_time": "2021-08-19T10:21:06.859Z"
   },
   {
    "duration": 6,
    "start_time": "2021-08-19T10:21:06.898Z"
   },
   {
    "duration": 14,
    "start_time": "2021-08-19T10:21:06.906Z"
   },
   {
    "duration": 10,
    "start_time": "2021-08-19T10:21:06.921Z"
   },
   {
    "duration": 9,
    "start_time": "2021-08-19T10:21:06.932Z"
   },
   {
    "duration": 8,
    "start_time": "2021-08-19T10:21:06.942Z"
   },
   {
    "duration": 304,
    "start_time": "2021-08-19T10:21:06.951Z"
   },
   {
    "duration": -711,
    "start_time": "2021-08-19T10:21:07.968Z"
   },
   {
    "duration": -726,
    "start_time": "2021-08-19T10:21:07.984Z"
   },
   {
    "duration": -741,
    "start_time": "2021-08-19T10:21:08.000Z"
   },
   {
    "duration": -756,
    "start_time": "2021-08-19T10:21:08.016Z"
   },
   {
    "duration": -773,
    "start_time": "2021-08-19T10:21:08.034Z"
   },
   {
    "duration": -788,
    "start_time": "2021-08-19T10:21:08.049Z"
   },
   {
    "duration": -802,
    "start_time": "2021-08-19T10:21:08.064Z"
   },
   {
    "duration": -810,
    "start_time": "2021-08-19T10:21:08.073Z"
   },
   {
    "duration": -824,
    "start_time": "2021-08-19T10:21:08.088Z"
   },
   {
    "duration": -827,
    "start_time": "2021-08-19T10:21:08.092Z"
   },
   {
    "duration": -842,
    "start_time": "2021-08-19T10:21:08.107Z"
   },
   {
    "duration": -860,
    "start_time": "2021-08-19T10:21:08.126Z"
   },
   {
    "duration": -879,
    "start_time": "2021-08-19T10:21:08.146Z"
   },
   {
    "duration": -903,
    "start_time": "2021-08-19T10:21:08.171Z"
   },
   {
    "duration": -921,
    "start_time": "2021-08-19T10:21:08.190Z"
   },
   {
    "duration": -936,
    "start_time": "2021-08-19T10:21:08.205Z"
   },
   {
    "duration": -953,
    "start_time": "2021-08-19T10:21:08.223Z"
   },
   {
    "duration": -971,
    "start_time": "2021-08-19T10:21:08.242Z"
   },
   {
    "duration": -990,
    "start_time": "2021-08-19T10:21:08.262Z"
   },
   {
    "duration": 971,
    "start_time": "2021-08-19T10:23:03.394Z"
   },
   {
    "duration": 381,
    "start_time": "2021-08-19T10:23:04.367Z"
   },
   {
    "duration": 9,
    "start_time": "2021-08-19T10:23:04.752Z"
   },
   {
    "duration": 380,
    "start_time": "2021-08-19T10:23:04.763Z"
   },
   {
    "duration": 8,
    "start_time": "2021-08-19T10:23:05.144Z"
   },
   {
    "duration": 163,
    "start_time": "2021-08-19T10:23:05.153Z"
   },
   {
    "duration": 7,
    "start_time": "2021-08-19T10:23:05.318Z"
   },
   {
    "duration": 184,
    "start_time": "2021-08-19T10:23:05.327Z"
   },
   {
    "duration": 9,
    "start_time": "2021-08-19T10:23:05.513Z"
   },
   {
    "duration": 38,
    "start_time": "2021-08-19T10:23:05.524Z"
   },
   {
    "duration": 7,
    "start_time": "2021-08-19T10:23:05.564Z"
   },
   {
    "duration": 6,
    "start_time": "2021-08-19T10:23:05.573Z"
   },
   {
    "duration": 48,
    "start_time": "2021-08-19T10:23:05.580Z"
   },
   {
    "duration": 39,
    "start_time": "2021-08-19T10:23:05.629Z"
   },
   {
    "duration": 31,
    "start_time": "2021-08-19T10:23:05.669Z"
   },
   {
    "duration": 16,
    "start_time": "2021-08-19T10:23:05.701Z"
   },
   {
    "duration": 25,
    "start_time": "2021-08-19T10:23:05.718Z"
   },
   {
    "duration": 4,
    "start_time": "2021-08-19T10:23:05.745Z"
   },
   {
    "duration": 11,
    "start_time": "2021-08-19T10:23:05.750Z"
   },
   {
    "duration": 8,
    "start_time": "2021-08-19T10:23:05.762Z"
   },
   {
    "duration": 23,
    "start_time": "2021-08-19T10:23:05.771Z"
   },
   {
    "duration": 21,
    "start_time": "2021-08-19T10:23:05.797Z"
   },
   {
    "duration": 21,
    "start_time": "2021-08-19T10:23:05.820Z"
   },
   {
    "duration": 6,
    "start_time": "2021-08-19T10:23:05.842Z"
   },
   {
    "duration": 97,
    "start_time": "2021-08-19T10:23:05.850Z"
   },
   {
    "duration": 15,
    "start_time": "2021-08-19T10:23:05.949Z"
   },
   {
    "duration": 9,
    "start_time": "2021-08-19T10:23:05.966Z"
   },
   {
    "duration": 28,
    "start_time": "2021-08-19T10:23:05.977Z"
   },
   {
    "duration": 14,
    "start_time": "2021-08-19T10:23:06.007Z"
   },
   {
    "duration": 10,
    "start_time": "2021-08-19T10:23:06.023Z"
   },
   {
    "duration": 6,
    "start_time": "2021-08-19T10:23:06.034Z"
   },
   {
    "duration": 11,
    "start_time": "2021-08-19T10:23:06.042Z"
   },
   {
    "duration": 15,
    "start_time": "2021-08-19T10:23:06.054Z"
   },
   {
    "duration": 30,
    "start_time": "2021-08-19T10:23:06.070Z"
   },
   {
    "duration": 9,
    "start_time": "2021-08-19T10:23:06.102Z"
   },
   {
    "duration": 14,
    "start_time": "2021-08-19T10:23:06.112Z"
   },
   {
    "duration": 17,
    "start_time": "2021-08-19T10:23:06.128Z"
   },
   {
    "duration": 25,
    "start_time": "2021-08-19T10:23:06.146Z"
   },
   {
    "duration": 7,
    "start_time": "2021-08-19T10:23:06.173Z"
   },
   {
    "duration": 30,
    "start_time": "2021-08-19T10:23:06.181Z"
   },
   {
    "duration": 6,
    "start_time": "2021-08-19T10:23:06.212Z"
   },
   {
    "duration": 25,
    "start_time": "2021-08-19T10:23:06.220Z"
   },
   {
    "duration": 7,
    "start_time": "2021-08-19T10:23:06.246Z"
   },
   {
    "duration": 21,
    "start_time": "2021-08-19T10:23:06.255Z"
   },
   {
    "duration": 15,
    "start_time": "2021-08-19T10:23:06.277Z"
   },
   {
    "duration": 16,
    "start_time": "2021-08-19T10:23:06.293Z"
   },
   {
    "duration": 17,
    "start_time": "2021-08-19T10:23:06.310Z"
   },
   {
    "duration": 6,
    "start_time": "2021-08-19T10:23:06.328Z"
   },
   {
    "duration": 17,
    "start_time": "2021-08-19T10:23:06.336Z"
   },
   {
    "duration": 10,
    "start_time": "2021-08-19T10:23:06.354Z"
   },
   {
    "duration": 26,
    "start_time": "2021-08-19T10:23:06.365Z"
   },
   {
    "duration": 4,
    "start_time": "2021-08-19T10:23:06.392Z"
   },
   {
    "duration": 22,
    "start_time": "2021-08-19T10:23:06.398Z"
   },
   {
    "duration": 10,
    "start_time": "2021-08-19T10:23:06.421Z"
   },
   {
    "duration": 19,
    "start_time": "2021-08-19T10:23:06.433Z"
   },
   {
    "duration": 9,
    "start_time": "2021-08-19T10:23:06.454Z"
   },
   {
    "duration": 13,
    "start_time": "2021-08-19T10:23:06.465Z"
   },
   {
    "duration": 17,
    "start_time": "2021-08-19T10:23:06.480Z"
   },
   {
    "duration": 20,
    "start_time": "2021-08-19T10:23:06.499Z"
   },
   {
    "duration": 8,
    "start_time": "2021-08-19T10:23:06.521Z"
   },
   {
    "duration": 30,
    "start_time": "2021-08-19T10:23:06.530Z"
   },
   {
    "duration": 5,
    "start_time": "2021-08-19T10:23:06.562Z"
   },
   {
    "duration": 24,
    "start_time": "2021-08-19T10:23:06.568Z"
   },
   {
    "duration": 8,
    "start_time": "2021-08-19T10:23:06.594Z"
   },
   {
    "duration": 7,
    "start_time": "2021-08-19T10:23:06.603Z"
   },
   {
    "duration": 16,
    "start_time": "2021-08-19T10:23:06.612Z"
   },
   {
    "duration": 11,
    "start_time": "2021-08-19T10:23:06.633Z"
   },
   {
    "duration": 10,
    "start_time": "2021-08-19T10:23:06.646Z"
   },
   {
    "duration": 734,
    "start_time": "2021-08-19T10:23:06.657Z"
   },
   {
    "duration": -89,
    "start_time": "2021-08-19T10:23:07.481Z"
   },
   {
    "duration": -92,
    "start_time": "2021-08-19T10:23:07.485Z"
   },
   {
    "duration": 629,
    "start_time": "2021-08-19T10:38:29.038Z"
   },
   {
    "duration": 976,
    "start_time": "2021-08-19T10:38:36.780Z"
   },
   {
    "duration": 220,
    "start_time": "2021-08-19T10:38:37.758Z"
   },
   {
    "duration": 11,
    "start_time": "2021-08-19T10:38:37.980Z"
   },
   {
    "duration": 255,
    "start_time": "2021-08-19T10:38:37.993Z"
   },
   {
    "duration": 8,
    "start_time": "2021-08-19T10:38:38.250Z"
   },
   {
    "duration": 172,
    "start_time": "2021-08-19T10:38:38.259Z"
   },
   {
    "duration": 6,
    "start_time": "2021-08-19T10:38:38.433Z"
   },
   {
    "duration": 48,
    "start_time": "2021-08-19T10:38:38.442Z"
   },
   {
    "duration": 9,
    "start_time": "2021-08-19T10:38:38.493Z"
   },
   {
    "duration": 39,
    "start_time": "2021-08-19T10:38:38.504Z"
   },
   {
    "duration": 8,
    "start_time": "2021-08-19T10:38:38.545Z"
   },
   {
    "duration": 6,
    "start_time": "2021-08-19T10:38:38.554Z"
   },
   {
    "duration": 45,
    "start_time": "2021-08-19T10:38:38.562Z"
   },
   {
    "duration": 40,
    "start_time": "2021-08-19T10:38:38.609Z"
   },
   {
    "duration": 20,
    "start_time": "2021-08-19T10:38:38.651Z"
   },
   {
    "duration": 33,
    "start_time": "2021-08-19T10:38:38.673Z"
   },
   {
    "duration": 27,
    "start_time": "2021-08-19T10:38:38.707Z"
   },
   {
    "duration": 5,
    "start_time": "2021-08-19T10:38:38.735Z"
   },
   {
    "duration": 5,
    "start_time": "2021-08-19T10:38:38.742Z"
   },
   {
    "duration": 8,
    "start_time": "2021-08-19T10:38:38.748Z"
   },
   {
    "duration": 10,
    "start_time": "2021-08-19T10:38:38.757Z"
   },
   {
    "duration": 43,
    "start_time": "2021-08-19T10:38:38.769Z"
   },
   {
    "duration": 21,
    "start_time": "2021-08-19T10:38:38.817Z"
   },
   {
    "duration": 8,
    "start_time": "2021-08-19T10:38:38.840Z"
   },
   {
    "duration": 108,
    "start_time": "2021-08-19T10:38:38.851Z"
   },
   {
    "duration": 17,
    "start_time": "2021-08-19T10:38:38.961Z"
   },
   {
    "duration": 19,
    "start_time": "2021-08-19T10:38:38.979Z"
   },
   {
    "duration": 19,
    "start_time": "2021-08-19T10:38:39.000Z"
   },
   {
    "duration": 14,
    "start_time": "2021-08-19T10:38:39.021Z"
   },
   {
    "duration": 13,
    "start_time": "2021-08-19T10:38:39.037Z"
   },
   {
    "duration": 6,
    "start_time": "2021-08-19T10:38:39.051Z"
   },
   {
    "duration": 8,
    "start_time": "2021-08-19T10:38:39.059Z"
   },
   {
    "duration": 13,
    "start_time": "2021-08-19T10:38:39.091Z"
   },
   {
    "duration": 15,
    "start_time": "2021-08-19T10:38:39.106Z"
   },
   {
    "duration": 10,
    "start_time": "2021-08-19T10:38:39.122Z"
   },
   {
    "duration": 4,
    "start_time": "2021-08-19T10:38:39.134Z"
   },
   {
    "duration": 20,
    "start_time": "2021-08-19T10:38:39.139Z"
   },
   {
    "duration": 38,
    "start_time": "2021-08-19T10:38:39.161Z"
   },
   {
    "duration": 7,
    "start_time": "2021-08-19T10:38:39.201Z"
   },
   {
    "duration": 24,
    "start_time": "2021-08-19T10:38:39.209Z"
   },
   {
    "duration": 5,
    "start_time": "2021-08-19T10:38:39.235Z"
   },
   {
    "duration": 19,
    "start_time": "2021-08-19T10:38:39.241Z"
   },
   {
    "duration": 7,
    "start_time": "2021-08-19T10:38:39.261Z"
   },
   {
    "duration": 35,
    "start_time": "2021-08-19T10:38:39.269Z"
   },
   {
    "duration": 5,
    "start_time": "2021-08-19T10:38:39.306Z"
   },
   {
    "duration": 22,
    "start_time": "2021-08-19T10:38:39.312Z"
   },
   {
    "duration": 16,
    "start_time": "2021-08-19T10:38:39.335Z"
   },
   {
    "duration": 5,
    "start_time": "2021-08-19T10:38:39.353Z"
   },
   {
    "duration": 23,
    "start_time": "2021-08-19T10:38:39.360Z"
   },
   {
    "duration": 13,
    "start_time": "2021-08-19T10:38:39.390Z"
   },
   {
    "duration": 15,
    "start_time": "2021-08-19T10:38:39.404Z"
   },
   {
    "duration": 20,
    "start_time": "2021-08-19T10:38:39.420Z"
   },
   {
    "duration": 25,
    "start_time": "2021-08-19T10:38:39.441Z"
   },
   {
    "duration": 24,
    "start_time": "2021-08-19T10:38:39.467Z"
   },
   {
    "duration": 26,
    "start_time": "2021-08-19T10:38:39.493Z"
   },
   {
    "duration": 9,
    "start_time": "2021-08-19T10:38:39.521Z"
   },
   {
    "duration": 14,
    "start_time": "2021-08-19T10:38:39.532Z"
   },
   {
    "duration": 23,
    "start_time": "2021-08-19T10:38:39.547Z"
   },
   {
    "duration": 17,
    "start_time": "2021-08-19T10:38:39.572Z"
   },
   {
    "duration": 18,
    "start_time": "2021-08-19T10:38:39.590Z"
   },
   {
    "duration": 33,
    "start_time": "2021-08-19T10:38:39.610Z"
   },
   {
    "duration": 5,
    "start_time": "2021-08-19T10:38:39.644Z"
   },
   {
    "duration": 18,
    "start_time": "2021-08-19T10:38:39.651Z"
   },
   {
    "duration": 18,
    "start_time": "2021-08-19T10:38:39.670Z"
   },
   {
    "duration": 17,
    "start_time": "2021-08-19T10:38:39.690Z"
   },
   {
    "duration": 20,
    "start_time": "2021-08-19T10:38:39.709Z"
   },
   {
    "duration": 22,
    "start_time": "2021-08-19T10:38:39.730Z"
   },
   {
    "duration": 9,
    "start_time": "2021-08-19T10:38:39.756Z"
   },
   {
    "duration": 693,
    "start_time": "2021-08-19T10:38:39.767Z"
   },
   {
    "duration": -90,
    "start_time": "2021-08-19T10:38:40.551Z"
   },
   {
    "duration": -91,
    "start_time": "2021-08-19T10:38:40.553Z"
   },
   {
    "duration": 3395,
    "start_time": "2021-08-19T10:40:06.587Z"
   },
   {
    "duration": 5924,
    "start_time": "2021-08-19T10:43:22.258Z"
   },
   {
    "duration": 5544,
    "start_time": "2021-08-19T10:43:46.875Z"
   },
   {
    "duration": 404,
    "start_time": "2021-08-19T10:46:21.823Z"
   },
   {
    "duration": 3,
    "start_time": "2021-08-19T10:46:26.108Z"
   },
   {
    "duration": 614,
    "start_time": "2021-08-19T10:46:28.733Z"
   },
   {
    "duration": 526,
    "start_time": "2021-08-19T10:46:58.037Z"
   },
   {
    "duration": 4,
    "start_time": "2021-08-19T10:59:25.869Z"
   },
   {
    "duration": 570,
    "start_time": "2021-08-19T10:59:30.022Z"
   },
   {
    "duration": 4,
    "start_time": "2021-08-19T11:00:08.682Z"
   },
   {
    "duration": 475,
    "start_time": "2021-08-19T11:00:11.692Z"
   },
   {
    "duration": 3,
    "start_time": "2021-08-19T11:00:19.965Z"
   },
   {
    "duration": 3,
    "start_time": "2021-08-19T11:26:12.714Z"
   },
   {
    "duration": 1745,
    "start_time": "2021-08-19T11:26:15.315Z"
   },
   {
    "duration": 9,
    "start_time": "2021-08-19T11:42:26.316Z"
   },
   {
    "duration": 6,
    "start_time": "2021-08-19T11:47:14.138Z"
   },
   {
    "duration": 8,
    "start_time": "2021-08-19T11:47:24.466Z"
   },
   {
    "duration": 48,
    "start_time": "2021-08-19T11:47:59.739Z"
   },
   {
    "duration": 1045,
    "start_time": "2021-08-19T11:50:17.958Z"
   },
   {
    "duration": 337,
    "start_time": "2021-08-19T11:50:19.005Z"
   },
   {
    "duration": 15,
    "start_time": "2021-08-19T11:50:19.344Z"
   },
   {
    "duration": 273,
    "start_time": "2021-08-19T11:50:19.362Z"
   },
   {
    "duration": 8,
    "start_time": "2021-08-19T11:50:19.636Z"
   },
   {
    "duration": 12,
    "start_time": "2021-08-19T11:50:19.645Z"
   },
   {
    "duration": 15,
    "start_time": "2021-08-19T11:50:19.659Z"
   },
   {
    "duration": 329,
    "start_time": "2021-08-19T11:50:19.676Z"
   },
   {
    "duration": 7,
    "start_time": "2021-08-19T11:50:20.007Z"
   },
   {
    "duration": 49,
    "start_time": "2021-08-19T11:50:20.015Z"
   },
   {
    "duration": 8,
    "start_time": "2021-08-19T11:50:20.066Z"
   },
   {
    "duration": 86,
    "start_time": "2021-08-19T11:50:20.076Z"
   },
   {
    "duration": 7,
    "start_time": "2021-08-19T11:50:20.164Z"
   },
   {
    "duration": 23,
    "start_time": "2021-08-19T11:50:20.172Z"
   },
   {
    "duration": 23,
    "start_time": "2021-08-19T11:50:20.196Z"
   },
   {
    "duration": 80,
    "start_time": "2021-08-19T11:50:20.220Z"
   },
   {
    "duration": 1038,
    "start_time": "2021-08-19T11:51:08.722Z"
   },
   {
    "duration": 297,
    "start_time": "2021-08-19T11:51:09.762Z"
   },
   {
    "duration": 11,
    "start_time": "2021-08-19T11:51:10.061Z"
   },
   {
    "duration": 367,
    "start_time": "2021-08-19T11:51:10.073Z"
   },
   {
    "duration": 9,
    "start_time": "2021-08-19T11:51:10.441Z"
   },
   {
    "duration": 8,
    "start_time": "2021-08-19T11:51:10.452Z"
   },
   {
    "duration": 9,
    "start_time": "2021-08-19T11:51:10.462Z"
   },
   {
    "duration": 190,
    "start_time": "2021-08-19T11:51:10.474Z"
   },
   {
    "duration": 7,
    "start_time": "2021-08-19T11:51:10.666Z"
   },
   {
    "duration": 44,
    "start_time": "2021-08-19T11:51:10.675Z"
   },
   {
    "duration": 8,
    "start_time": "2021-08-19T11:51:10.721Z"
   },
   {
    "duration": 39,
    "start_time": "2021-08-19T11:51:10.730Z"
   },
   {
    "duration": 8,
    "start_time": "2021-08-19T11:51:10.770Z"
   },
   {
    "duration": 6,
    "start_time": "2021-08-19T11:51:10.780Z"
   },
   {
    "duration": 8,
    "start_time": "2021-08-19T11:51:10.787Z"
   },
   {
    "duration": 48,
    "start_time": "2021-08-19T11:51:10.796Z"
   },
   {
    "duration": 257,
    "start_time": "2021-08-19T11:51:58.795Z"
   },
   {
    "duration": 1064,
    "start_time": "2021-08-19T11:52:08.984Z"
   },
   {
    "duration": 234,
    "start_time": "2021-08-19T11:52:10.050Z"
   },
   {
    "duration": 11,
    "start_time": "2021-08-19T11:52:10.286Z"
   },
   {
    "duration": 260,
    "start_time": "2021-08-19T11:52:10.299Z"
   },
   {
    "duration": 8,
    "start_time": "2021-08-19T11:52:10.561Z"
   },
   {
    "duration": 21,
    "start_time": "2021-08-19T11:52:10.570Z"
   },
   {
    "duration": 7,
    "start_time": "2021-08-19T11:52:10.593Z"
   },
   {
    "duration": 248,
    "start_time": "2021-08-19T11:52:10.603Z"
   },
   {
    "duration": 6,
    "start_time": "2021-08-19T11:52:10.853Z"
   },
   {
    "duration": 58,
    "start_time": "2021-08-19T11:52:10.861Z"
   },
   {
    "duration": 9,
    "start_time": "2021-08-19T11:52:10.921Z"
   },
   {
    "duration": 58,
    "start_time": "2021-08-19T11:52:10.931Z"
   },
   {
    "duration": 8,
    "start_time": "2021-08-19T11:52:10.991Z"
   },
   {
    "duration": 15,
    "start_time": "2021-08-19T11:52:11.001Z"
   },
   {
    "duration": 16,
    "start_time": "2021-08-19T11:52:11.017Z"
   },
   {
    "duration": 57,
    "start_time": "2021-08-19T11:52:11.035Z"
   },
   {
    "duration": 12,
    "start_time": "2021-08-19T11:52:11.094Z"
   },
   {
    "duration": 275,
    "start_time": "2021-08-19T11:53:14.892Z"
   },
   {
    "duration": 1097,
    "start_time": "2021-08-19T11:53:24.766Z"
   },
   {
    "duration": 222,
    "start_time": "2021-08-19T11:53:25.865Z"
   },
   {
    "duration": 11,
    "start_time": "2021-08-19T11:53:26.089Z"
   },
   {
    "duration": 220,
    "start_time": "2021-08-19T11:53:26.101Z"
   },
   {
    "duration": 11,
    "start_time": "2021-08-19T11:53:26.323Z"
   },
   {
    "duration": 24,
    "start_time": "2021-08-19T11:53:26.336Z"
   },
   {
    "duration": 8,
    "start_time": "2021-08-19T11:53:26.361Z"
   },
   {
    "duration": 173,
    "start_time": "2021-08-19T11:53:26.372Z"
   },
   {
    "duration": 7,
    "start_time": "2021-08-19T11:53:26.547Z"
   },
   {
    "duration": 220,
    "start_time": "2021-08-19T11:53:26.557Z"
   },
   {
    "duration": 9,
    "start_time": "2021-08-19T11:53:26.779Z"
   },
   {
    "duration": 46,
    "start_time": "2021-08-19T11:53:26.789Z"
   },
   {
    "duration": 9,
    "start_time": "2021-08-19T11:53:26.837Z"
   },
   {
    "duration": 4,
    "start_time": "2021-08-19T11:53:26.848Z"
   },
   {
    "duration": 8,
    "start_time": "2021-08-19T11:53:26.854Z"
   },
   {
    "duration": 49,
    "start_time": "2021-08-19T11:53:26.863Z"
   },
   {
    "duration": 14,
    "start_time": "2021-08-19T11:53:26.913Z"
   },
   {
    "duration": 1074,
    "start_time": "2021-08-19T11:56:49.188Z"
   },
   {
    "duration": 228,
    "start_time": "2021-08-19T11:56:51.754Z"
   },
   {
    "duration": 11,
    "start_time": "2021-08-19T11:56:56.055Z"
   },
   {
    "duration": 237,
    "start_time": "2021-08-19T11:56:58.425Z"
   },
   {
    "duration": 9,
    "start_time": "2021-08-19T11:57:00.225Z"
   },
   {
    "duration": 7,
    "start_time": "2021-08-19T11:57:02.907Z"
   },
   {
    "duration": 7,
    "start_time": "2021-08-19T11:57:11.058Z"
   },
   {
    "duration": 267,
    "start_time": "2021-08-19T11:57:13.665Z"
   },
   {
    "duration": 8,
    "start_time": "2021-08-19T11:57:15.067Z"
   },
   {
    "duration": 44,
    "start_time": "2021-08-19T11:57:17.446Z"
   },
   {
    "duration": 10,
    "start_time": "2021-08-19T11:57:18.491Z"
   },
   {
    "duration": 39,
    "start_time": "2021-08-19T11:57:19.266Z"
   },
   {
    "duration": 8,
    "start_time": "2021-08-19T11:57:19.938Z"
   },
   {
    "duration": 3,
    "start_time": "2021-08-19T11:57:22.991Z"
   },
   {
    "duration": 6,
    "start_time": "2021-08-19T11:57:25.108Z"
   },
   {
    "duration": 45,
    "start_time": "2021-08-19T11:57:25.697Z"
   },
   {
    "duration": 14,
    "start_time": "2021-08-19T11:57:26.254Z"
   },
   {
    "duration": 260,
    "start_time": "2021-08-19T11:57:43.719Z"
   },
   {
    "duration": 1014,
    "start_time": "2021-08-19T11:58:40.632Z"
   },
   {
    "duration": 248,
    "start_time": "2021-08-19T11:58:41.647Z"
   },
   {
    "duration": 11,
    "start_time": "2021-08-19T11:58:41.897Z"
   },
   {
    "duration": 305,
    "start_time": "2021-08-19T11:58:41.910Z"
   },
   {
    "duration": 7,
    "start_time": "2021-08-19T11:58:42.217Z"
   },
   {
    "duration": 11,
    "start_time": "2021-08-19T11:58:42.226Z"
   },
   {
    "duration": 9,
    "start_time": "2021-08-19T11:58:42.239Z"
   },
   {
    "duration": 213,
    "start_time": "2021-08-19T11:58:42.251Z"
   },
   {
    "duration": 7,
    "start_time": "2021-08-19T11:58:42.466Z"
   },
   {
    "duration": 43,
    "start_time": "2021-08-19T11:58:42.475Z"
   },
   {
    "duration": 8,
    "start_time": "2021-08-19T11:58:42.520Z"
   },
   {
    "duration": 38,
    "start_time": "2021-08-19T11:58:42.530Z"
   },
   {
    "duration": 7,
    "start_time": "2021-08-19T11:58:42.570Z"
   },
   {
    "duration": 9,
    "start_time": "2021-08-19T11:58:42.578Z"
   },
   {
    "duration": 10,
    "start_time": "2021-08-19T11:58:42.588Z"
   },
   {
    "duration": 48,
    "start_time": "2021-08-19T11:58:42.600Z"
   },
   {
    "duration": 14,
    "start_time": "2021-08-19T11:58:42.650Z"
   },
   {
    "duration": 277,
    "start_time": "2021-08-19T12:02:30.864Z"
   },
   {
    "duration": 1008,
    "start_time": "2021-08-19T12:03:51.852Z"
   },
   {
    "duration": 227,
    "start_time": "2021-08-19T12:03:52.862Z"
   },
   {
    "duration": 11,
    "start_time": "2021-08-19T12:03:53.091Z"
   },
   {
    "duration": 230,
    "start_time": "2021-08-19T12:03:53.104Z"
   },
   {
    "duration": 8,
    "start_time": "2021-08-19T12:03:53.336Z"
   },
   {
    "duration": 10,
    "start_time": "2021-08-19T12:03:53.345Z"
   },
   {
    "duration": 7,
    "start_time": "2021-08-19T12:03:53.356Z"
   },
   {
    "duration": 262,
    "start_time": "2021-08-19T12:03:53.366Z"
   },
   {
    "duration": 7,
    "start_time": "2021-08-19T12:03:53.630Z"
   },
   {
    "duration": 49,
    "start_time": "2021-08-19T12:03:53.638Z"
   },
   {
    "duration": 13,
    "start_time": "2021-08-19T12:03:53.689Z"
   },
   {
    "duration": 45,
    "start_time": "2021-08-19T12:03:53.703Z"
   },
   {
    "duration": 8,
    "start_time": "2021-08-19T12:03:53.749Z"
   },
   {
    "duration": 6,
    "start_time": "2021-08-19T12:03:53.759Z"
   },
   {
    "duration": 47,
    "start_time": "2021-08-19T12:03:53.766Z"
   },
   {
    "duration": 38,
    "start_time": "2021-08-19T12:03:53.814Z"
   },
   {
    "duration": 19,
    "start_time": "2021-08-19T12:03:53.854Z"
   },
   {
    "duration": 28,
    "start_time": "2021-08-19T12:03:53.875Z"
   },
   {
    "duration": 23,
    "start_time": "2021-08-19T12:03:53.905Z"
   },
   {
    "duration": 4,
    "start_time": "2021-08-19T12:03:53.929Z"
   },
   {
    "duration": 6,
    "start_time": "2021-08-19T12:03:53.934Z"
   },
   {
    "duration": 7,
    "start_time": "2021-08-19T12:03:53.941Z"
   },
   {
    "duration": 7,
    "start_time": "2021-08-19T12:03:53.951Z"
   },
   {
    "duration": 43,
    "start_time": "2021-08-19T12:03:53.961Z"
   },
   {
    "duration": 24,
    "start_time": "2021-08-19T12:03:54.005Z"
   },
   {
    "duration": 6,
    "start_time": "2021-08-19T12:03:54.031Z"
   },
   {
    "duration": 93,
    "start_time": "2021-08-19T12:03:54.039Z"
   },
   {
    "duration": 17,
    "start_time": "2021-08-19T12:03:54.133Z"
   },
   {
    "duration": 8,
    "start_time": "2021-08-19T12:03:54.151Z"
   },
   {
    "duration": 35,
    "start_time": "2021-08-19T12:03:54.160Z"
   },
   {
    "duration": 14,
    "start_time": "2021-08-19T12:03:54.196Z"
   },
   {
    "duration": 11,
    "start_time": "2021-08-19T12:03:54.212Z"
   },
   {
    "duration": 6,
    "start_time": "2021-08-19T12:03:54.225Z"
   },
   {
    "duration": 8,
    "start_time": "2021-08-19T12:03:54.233Z"
   },
   {
    "duration": 14,
    "start_time": "2021-08-19T12:03:54.242Z"
   },
   {
    "duration": 39,
    "start_time": "2021-08-19T12:03:54.258Z"
   },
   {
    "duration": 10,
    "start_time": "2021-08-19T12:03:54.299Z"
   },
   {
    "duration": 5,
    "start_time": "2021-08-19T12:03:54.311Z"
   },
   {
    "duration": 12,
    "start_time": "2021-08-19T12:03:54.317Z"
   },
   {
    "duration": 24,
    "start_time": "2021-08-19T12:03:54.331Z"
   },
   {
    "duration": 7,
    "start_time": "2021-08-19T12:03:54.357Z"
   },
   {
    "duration": 41,
    "start_time": "2021-08-19T12:03:54.365Z"
   },
   {
    "duration": 7,
    "start_time": "2021-08-19T12:03:54.408Z"
   },
   {
    "duration": 16,
    "start_time": "2021-08-19T12:03:54.416Z"
   },
   {
    "duration": 7,
    "start_time": "2021-08-19T12:03:54.433Z"
   },
   {
    "duration": 24,
    "start_time": "2021-08-19T12:03:54.442Z"
   },
   {
    "duration": 29,
    "start_time": "2021-08-19T12:03:54.467Z"
   },
   {
    "duration": 19,
    "start_time": "2021-08-19T12:03:54.497Z"
   },
   {
    "duration": 19,
    "start_time": "2021-08-19T12:03:54.518Z"
   },
   {
    "duration": 7,
    "start_time": "2021-08-19T12:03:54.538Z"
   },
   {
    "duration": 20,
    "start_time": "2021-08-19T12:03:54.547Z"
   },
   {
    "duration": 25,
    "start_time": "2021-08-19T12:03:54.569Z"
   },
   {
    "duration": 22,
    "start_time": "2021-08-19T12:03:54.595Z"
   },
   {
    "duration": 17,
    "start_time": "2021-08-19T12:03:54.619Z"
   },
   {
    "duration": 33,
    "start_time": "2021-08-19T12:03:54.637Z"
   },
   {
    "duration": 14,
    "start_time": "2021-08-19T12:03:54.671Z"
   },
   {
    "duration": 18,
    "start_time": "2021-08-19T12:03:54.686Z"
   },
   {
    "duration": 7,
    "start_time": "2021-08-19T12:03:54.705Z"
   },
   {
    "duration": 32,
    "start_time": "2021-08-19T12:03:54.713Z"
   },
   {
    "duration": 7,
    "start_time": "2021-08-19T12:03:54.747Z"
   },
   {
    "duration": 9,
    "start_time": "2021-08-19T12:03:54.755Z"
   },
   {
    "duration": 16,
    "start_time": "2021-08-19T12:03:54.765Z"
   },
   {
    "duration": 22,
    "start_time": "2021-08-19T12:03:54.782Z"
   },
   {
    "duration": 5899,
    "start_time": "2021-08-19T12:03:54.805Z"
   },
   {
    "duration": -144,
    "start_time": "2021-08-19T12:04:00.850Z"
   },
   {
    "duration": -179,
    "start_time": "2021-08-19T12:04:00.886Z"
   },
   {
    "duration": -195,
    "start_time": "2021-08-19T12:04:00.904Z"
   },
   {
    "duration": -225,
    "start_time": "2021-08-19T12:04:00.935Z"
   },
   {
    "duration": 3,
    "start_time": "2021-08-19T12:04:59.589Z"
   },
   {
    "duration": 184,
    "start_time": "2021-08-19T12:05:03.940Z"
   },
   {
    "duration": 31,
    "start_time": "2021-08-19T12:05:27.277Z"
   },
   {
    "duration": 248,
    "start_time": "2021-08-19T12:05:34.201Z"
   },
   {
    "duration": 964,
    "start_time": "2021-08-19T12:06:12.905Z"
   },
   {
    "duration": 215,
    "start_time": "2021-08-19T12:06:13.871Z"
   },
   {
    "duration": 10,
    "start_time": "2021-08-19T12:06:14.088Z"
   },
   {
    "duration": 254,
    "start_time": "2021-08-19T12:06:14.100Z"
   },
   {
    "duration": 8,
    "start_time": "2021-08-19T12:06:14.355Z"
   },
   {
    "duration": 12,
    "start_time": "2021-08-19T12:06:14.364Z"
   },
   {
    "duration": 14,
    "start_time": "2021-08-19T12:06:14.378Z"
   },
   {
    "duration": 223,
    "start_time": "2021-08-19T12:06:14.394Z"
   },
   {
    "duration": 7,
    "start_time": "2021-08-19T12:06:14.620Z"
   },
   {
    "duration": 48,
    "start_time": "2021-08-19T12:06:14.629Z"
   },
   {
    "duration": 9,
    "start_time": "2021-08-19T12:06:14.679Z"
   },
   {
    "duration": 43,
    "start_time": "2021-08-19T12:06:14.690Z"
   },
   {
    "duration": 8,
    "start_time": "2021-08-19T12:06:14.735Z"
   },
   {
    "duration": 6,
    "start_time": "2021-08-19T12:06:14.744Z"
   },
   {
    "duration": 47,
    "start_time": "2021-08-19T12:06:14.751Z"
   },
   {
    "duration": 39,
    "start_time": "2021-08-19T12:06:14.799Z"
   },
   {
    "duration": 18,
    "start_time": "2021-08-19T12:06:14.840Z"
   },
   {
    "duration": 32,
    "start_time": "2021-08-19T12:06:14.859Z"
   },
   {
    "duration": 25,
    "start_time": "2021-08-19T12:06:14.893Z"
   },
   {
    "duration": 4,
    "start_time": "2021-08-19T12:06:14.919Z"
   },
   {
    "duration": 10,
    "start_time": "2021-08-19T12:06:14.925Z"
   },
   {
    "duration": 17,
    "start_time": "2021-08-19T12:06:14.936Z"
   },
   {
    "duration": 8,
    "start_time": "2021-08-19T12:06:14.956Z"
   },
   {
    "duration": 26,
    "start_time": "2021-08-19T12:06:14.966Z"
   },
   {
    "duration": 28,
    "start_time": "2021-08-19T12:06:14.993Z"
   },
   {
    "duration": 8,
    "start_time": "2021-08-19T12:06:15.022Z"
   },
   {
    "duration": 92,
    "start_time": "2021-08-19T12:06:15.031Z"
   },
   {
    "duration": 16,
    "start_time": "2021-08-19T12:06:15.125Z"
   },
   {
    "duration": 8,
    "start_time": "2021-08-19T12:06:15.142Z"
   },
   {
    "duration": 25,
    "start_time": "2021-08-19T12:06:15.151Z"
   },
   {
    "duration": 25,
    "start_time": "2021-08-19T12:06:15.177Z"
   },
   {
    "duration": 18,
    "start_time": "2021-08-19T12:06:15.204Z"
   },
   {
    "duration": 14,
    "start_time": "2021-08-19T12:06:15.224Z"
   },
   {
    "duration": 16,
    "start_time": "2021-08-19T12:06:15.239Z"
   },
   {
    "duration": 34,
    "start_time": "2021-08-19T12:06:15.257Z"
   },
   {
    "duration": 29,
    "start_time": "2021-08-19T12:06:15.293Z"
   },
   {
    "duration": 10,
    "start_time": "2021-08-19T12:06:15.324Z"
   },
   {
    "duration": 15,
    "start_time": "2021-08-19T12:06:15.336Z"
   },
   {
    "duration": 24,
    "start_time": "2021-08-19T12:06:15.353Z"
   },
   {
    "duration": 29,
    "start_time": "2021-08-19T12:06:15.379Z"
   },
   {
    "duration": 8,
    "start_time": "2021-08-19T12:06:15.410Z"
   },
   {
    "duration": 31,
    "start_time": "2021-08-19T12:06:15.420Z"
   },
   {
    "duration": 7,
    "start_time": "2021-08-19T12:06:15.452Z"
   },
   {
    "duration": 20,
    "start_time": "2021-08-19T12:06:15.461Z"
   },
   {
    "duration": 12,
    "start_time": "2021-08-19T12:06:15.483Z"
   },
   {
    "duration": 17,
    "start_time": "2021-08-19T12:06:15.497Z"
   },
   {
    "duration": 7,
    "start_time": "2021-08-19T12:06:15.516Z"
   },
   {
    "duration": 21,
    "start_time": "2021-08-19T12:06:15.525Z"
   },
   {
    "duration": 51,
    "start_time": "2021-08-19T12:06:15.547Z"
   },
   {
    "duration": 7,
    "start_time": "2021-08-19T12:06:15.599Z"
   },
   {
    "duration": 14,
    "start_time": "2021-08-19T12:06:15.608Z"
   },
   {
    "duration": 9,
    "start_time": "2021-08-19T12:06:15.624Z"
   },
   {
    "duration": 7,
    "start_time": "2021-08-19T12:06:15.634Z"
   },
   {
    "duration": 18,
    "start_time": "2021-08-19T12:06:15.642Z"
   },
   {
    "duration": 33,
    "start_time": "2021-08-19T12:06:15.661Z"
   },
   {
    "duration": 8,
    "start_time": "2021-08-19T12:06:15.696Z"
   },
   {
    "duration": 13,
    "start_time": "2021-08-19T12:06:15.705Z"
   },
   {
    "duration": 6,
    "start_time": "2021-08-19T12:06:15.720Z"
   },
   {
    "duration": 28,
    "start_time": "2021-08-19T12:06:15.728Z"
   },
   {
    "duration": 7,
    "start_time": "2021-08-19T12:06:15.757Z"
   },
   {
    "duration": 30,
    "start_time": "2021-08-19T12:06:15.765Z"
   },
   {
    "duration": 9,
    "start_time": "2021-08-19T12:06:15.796Z"
   },
   {
    "duration": 18,
    "start_time": "2021-08-19T12:06:15.807Z"
   },
   {
    "duration": 4,
    "start_time": "2021-08-19T12:06:15.827Z"
   },
   {
    "duration": 33,
    "start_time": "2021-08-19T12:06:15.833Z"
   },
   {
    "duration": 362,
    "start_time": "2021-08-19T12:06:15.868Z"
   },
   {
    "duration": -28,
    "start_time": "2021-08-19T12:06:16.260Z"
   },
   {
    "duration": 183,
    "start_time": "2021-08-19T12:07:54.302Z"
   },
   {
    "duration": 4,
    "start_time": "2021-08-19T12:07:57.255Z"
   },
   {
    "duration": 19,
    "start_time": "2021-08-19T12:08:01.467Z"
   },
   {
    "duration": 964,
    "start_time": "2021-08-19T12:08:24.599Z"
   },
   {
    "duration": 502,
    "start_time": "2021-08-19T12:08:25.565Z"
   },
   {
    "duration": 11,
    "start_time": "2021-08-19T12:08:26.069Z"
   },
   {
    "duration": 260,
    "start_time": "2021-08-19T12:08:26.091Z"
   },
   {
    "duration": 9,
    "start_time": "2021-08-19T12:08:26.353Z"
   },
   {
    "duration": 25,
    "start_time": "2021-08-19T12:08:26.363Z"
   },
   {
    "duration": 14,
    "start_time": "2021-08-19T12:08:26.389Z"
   },
   {
    "duration": 174,
    "start_time": "2021-08-19T12:08:26.406Z"
   },
   {
    "duration": 7,
    "start_time": "2021-08-19T12:08:26.582Z"
   },
   {
    "duration": 55,
    "start_time": "2021-08-19T12:08:26.590Z"
   },
   {
    "duration": 9,
    "start_time": "2021-08-19T12:08:26.646Z"
   },
   {
    "duration": 41,
    "start_time": "2021-08-19T12:08:26.656Z"
   },
   {
    "duration": 7,
    "start_time": "2021-08-19T12:08:26.698Z"
   },
   {
    "duration": 5,
    "start_time": "2021-08-19T12:08:26.707Z"
   },
   {
    "duration": 49,
    "start_time": "2021-08-19T12:08:26.714Z"
   },
   {
    "duration": 46,
    "start_time": "2021-08-19T12:08:26.764Z"
   },
   {
    "duration": 18,
    "start_time": "2021-08-19T12:08:26.812Z"
   },
   {
    "duration": 15,
    "start_time": "2021-08-19T12:08:26.832Z"
   },
   {
    "duration": 42,
    "start_time": "2021-08-19T12:08:26.849Z"
   },
   {
    "duration": 4,
    "start_time": "2021-08-19T12:08:26.893Z"
   },
   {
    "duration": 7,
    "start_time": "2021-08-19T12:08:26.898Z"
   },
   {
    "duration": 5,
    "start_time": "2021-08-19T12:08:26.907Z"
   },
   {
    "duration": 12,
    "start_time": "2021-08-19T12:08:26.915Z"
   },
   {
    "duration": 34,
    "start_time": "2021-08-19T12:08:26.929Z"
   },
   {
    "duration": 29,
    "start_time": "2021-08-19T12:08:26.964Z"
   },
   {
    "duration": 6,
    "start_time": "2021-08-19T12:08:26.995Z"
   },
   {
    "duration": 86,
    "start_time": "2021-08-19T12:08:27.003Z"
   },
   {
    "duration": 16,
    "start_time": "2021-08-19T12:08:27.091Z"
   },
   {
    "duration": 8,
    "start_time": "2021-08-19T12:08:27.108Z"
   },
   {
    "duration": 16,
    "start_time": "2021-08-19T12:08:27.117Z"
   },
   {
    "duration": 13,
    "start_time": "2021-08-19T12:08:27.135Z"
   },
   {
    "duration": 10,
    "start_time": "2021-08-19T12:08:27.150Z"
   },
   {
    "duration": 29,
    "start_time": "2021-08-19T12:08:27.162Z"
   },
   {
    "duration": 7,
    "start_time": "2021-08-19T12:08:27.193Z"
   },
   {
    "duration": 16,
    "start_time": "2021-08-19T12:08:27.201Z"
   },
   {
    "duration": 18,
    "start_time": "2021-08-19T12:08:27.218Z"
   },
   {
    "duration": 9,
    "start_time": "2021-08-19T12:08:27.238Z"
   },
   {
    "duration": 8,
    "start_time": "2021-08-19T12:08:27.249Z"
   },
   {
    "duration": 14,
    "start_time": "2021-08-19T12:08:27.259Z"
   },
   {
    "duration": 34,
    "start_time": "2021-08-19T12:08:27.274Z"
   },
   {
    "duration": 7,
    "start_time": "2021-08-19T12:08:27.309Z"
   },
   {
    "duration": 25,
    "start_time": "2021-08-19T12:08:27.317Z"
   },
   {
    "duration": 6,
    "start_time": "2021-08-19T12:08:27.343Z"
   },
   {
    "duration": 18,
    "start_time": "2021-08-19T12:08:27.350Z"
   },
   {
    "duration": 22,
    "start_time": "2021-08-19T12:08:27.370Z"
   },
   {
    "duration": 15,
    "start_time": "2021-08-19T12:08:27.393Z"
   },
   {
    "duration": 6,
    "start_time": "2021-08-19T12:08:27.410Z"
   },
   {
    "duration": 18,
    "start_time": "2021-08-19T12:08:27.418Z"
   },
   {
    "duration": 15,
    "start_time": "2021-08-19T12:08:27.437Z"
   },
   {
    "duration": 5,
    "start_time": "2021-08-19T12:08:27.454Z"
   },
   {
    "duration": 35,
    "start_time": "2021-08-19T12:08:27.460Z"
   },
   {
    "duration": 8,
    "start_time": "2021-08-19T12:08:27.497Z"
   },
   {
    "duration": 9,
    "start_time": "2021-08-19T12:08:27.506Z"
   },
   {
    "duration": 8,
    "start_time": "2021-08-19T12:08:27.517Z"
   },
   {
    "duration": 17,
    "start_time": "2021-08-19T12:08:27.526Z"
   },
   {
    "duration": 7,
    "start_time": "2021-08-19T12:08:27.544Z"
   },
   {
    "duration": 16,
    "start_time": "2021-08-19T12:08:27.552Z"
   },
   {
    "duration": 27,
    "start_time": "2021-08-19T12:08:27.569Z"
   },
   {
    "duration": 28,
    "start_time": "2021-08-19T12:08:27.598Z"
   },
   {
    "duration": 7,
    "start_time": "2021-08-19T12:08:27.628Z"
   },
   {
    "duration": 5,
    "start_time": "2021-08-19T12:08:27.637Z"
   },
   {
    "duration": 11,
    "start_time": "2021-08-19T12:08:27.644Z"
   },
   {
    "duration": 14,
    "start_time": "2021-08-19T12:08:27.657Z"
   },
   {
    "duration": 4,
    "start_time": "2021-08-19T12:08:27.691Z"
   },
   {
    "duration": 198,
    "start_time": "2021-08-19T12:08:27.696Z"
   },
   {
    "duration": 7,
    "start_time": "2021-08-19T12:08:27.895Z"
   },
   {
    "duration": 17,
    "start_time": "2021-08-19T12:08:27.903Z"
   },
   {
    "duration": 14,
    "start_time": "2021-08-19T12:10:13.564Z"
   },
   {
    "duration": 6,
    "start_time": "2021-08-19T12:10:39.454Z"
   },
   {
    "duration": 8,
    "start_time": "2021-08-19T12:13:04.857Z"
   },
   {
    "duration": 310,
    "start_time": "2021-08-19T12:16:02.634Z"
   },
   {
    "duration": 253,
    "start_time": "2021-08-19T12:17:13.493Z"
   },
   {
    "duration": 236,
    "start_time": "2021-08-19T12:19:26.320Z"
   },
   {
    "duration": 17,
    "start_time": "2021-08-19T12:19:41.823Z"
   },
   {
    "duration": 238,
    "start_time": "2021-08-19T12:20:05.862Z"
   },
   {
    "duration": 17,
    "start_time": "2021-08-19T12:20:29.955Z"
   },
   {
    "duration": 352,
    "start_time": "2021-08-19T12:23:06.860Z"
   },
   {
    "duration": 5,
    "start_time": "2021-08-19T12:27:56.845Z"
   },
   {
    "duration": 10,
    "start_time": "2021-08-19T12:28:03.617Z"
   },
   {
    "duration": 11,
    "start_time": "2021-08-19T12:28:09.533Z"
   },
   {
    "duration": 231,
    "start_time": "2021-08-19T12:33:28.362Z"
   },
   {
    "duration": 239,
    "start_time": "2021-08-19T12:34:28.169Z"
   },
   {
    "duration": 293,
    "start_time": "2021-08-19T12:35:13.775Z"
   },
   {
    "duration": 8,
    "start_time": "2021-08-19T12:35:21.986Z"
   },
   {
    "duration": 18,
    "start_time": "2021-08-19T12:35:25.675Z"
   },
   {
    "duration": 9,
    "start_time": "2021-08-19T12:37:16.110Z"
   },
   {
    "duration": 23,
    "start_time": "2021-08-19T12:37:20.343Z"
   },
   {
    "duration": 1069,
    "start_time": "2021-08-19T12:37:29.504Z"
   },
   {
    "duration": 273,
    "start_time": "2021-08-19T12:37:30.575Z"
   },
   {
    "duration": 12,
    "start_time": "2021-08-19T12:37:30.850Z"
   },
   {
    "duration": 262,
    "start_time": "2021-08-19T12:37:30.863Z"
   },
   {
    "duration": 8,
    "start_time": "2021-08-19T12:37:31.127Z"
   },
   {
    "duration": 22,
    "start_time": "2021-08-19T12:37:31.137Z"
   },
   {
    "duration": 27,
    "start_time": "2021-08-19T12:37:31.161Z"
   },
   {
    "duration": 292,
    "start_time": "2021-08-19T12:37:31.189Z"
   },
   {
    "duration": 7,
    "start_time": "2021-08-19T12:37:31.483Z"
   },
   {
    "duration": 59,
    "start_time": "2021-08-19T12:37:31.491Z"
   },
   {
    "duration": 9,
    "start_time": "2021-08-19T12:37:31.552Z"
   },
   {
    "duration": 95,
    "start_time": "2021-08-19T12:37:31.562Z"
   },
   {
    "duration": 11,
    "start_time": "2021-08-19T12:37:31.659Z"
   },
   {
    "duration": 5,
    "start_time": "2021-08-19T12:37:31.692Z"
   },
   {
    "duration": 128,
    "start_time": "2021-08-19T12:37:31.699Z"
   },
   {
    "duration": 110,
    "start_time": "2021-08-19T12:37:31.829Z"
   },
   {
    "duration": 21,
    "start_time": "2021-08-19T12:37:31.992Z"
   },
   {
    "duration": 18,
    "start_time": "2021-08-19T12:37:32.017Z"
   },
   {
    "duration": 28,
    "start_time": "2021-08-19T12:37:32.037Z"
   },
   {
    "duration": 28,
    "start_time": "2021-08-19T12:37:32.067Z"
   },
   {
    "duration": 22,
    "start_time": "2021-08-19T12:37:32.097Z"
   },
   {
    "duration": 24,
    "start_time": "2021-08-19T12:37:32.121Z"
   },
   {
    "duration": 27,
    "start_time": "2021-08-19T12:37:32.147Z"
   },
   {
    "duration": 27,
    "start_time": "2021-08-19T12:37:32.176Z"
   },
   {
    "duration": 29,
    "start_time": "2021-08-19T12:37:32.205Z"
   },
   {
    "duration": 7,
    "start_time": "2021-08-19T12:37:32.236Z"
   },
   {
    "duration": 106,
    "start_time": "2021-08-19T12:37:32.245Z"
   },
   {
    "duration": 18,
    "start_time": "2021-08-19T12:37:32.352Z"
   },
   {
    "duration": 8,
    "start_time": "2021-08-19T12:37:32.372Z"
   },
   {
    "duration": 25,
    "start_time": "2021-08-19T12:37:32.381Z"
   },
   {
    "duration": 14,
    "start_time": "2021-08-19T12:37:32.408Z"
   },
   {
    "duration": 13,
    "start_time": "2021-08-19T12:37:32.424Z"
   },
   {
    "duration": 12,
    "start_time": "2021-08-19T12:37:32.438Z"
   },
   {
    "duration": 13,
    "start_time": "2021-08-19T12:37:32.452Z"
   },
   {
    "duration": 25,
    "start_time": "2021-08-19T12:37:32.466Z"
   },
   {
    "duration": 20,
    "start_time": "2021-08-19T12:37:32.493Z"
   },
   {
    "duration": 11,
    "start_time": "2021-08-19T12:37:32.515Z"
   },
   {
    "duration": 25,
    "start_time": "2021-08-19T12:37:32.527Z"
   },
   {
    "duration": 25,
    "start_time": "2021-08-19T12:37:32.553Z"
   },
   {
    "duration": 22,
    "start_time": "2021-08-19T12:37:32.580Z"
   },
   {
    "duration": 9,
    "start_time": "2021-08-19T12:37:32.603Z"
   },
   {
    "duration": 30,
    "start_time": "2021-08-19T12:37:32.613Z"
   },
   {
    "duration": 6,
    "start_time": "2021-08-19T12:37:32.645Z"
   },
   {
    "duration": 27,
    "start_time": "2021-08-19T12:37:32.652Z"
   },
   {
    "duration": 13,
    "start_time": "2021-08-19T12:37:32.681Z"
   },
   {
    "duration": 21,
    "start_time": "2021-08-19T12:37:32.695Z"
   },
   {
    "duration": 6,
    "start_time": "2021-08-19T12:37:32.717Z"
   },
   {
    "duration": 30,
    "start_time": "2021-08-19T12:37:32.725Z"
   },
   {
    "duration": 17,
    "start_time": "2021-08-19T12:37:32.757Z"
   },
   {
    "duration": 6,
    "start_time": "2021-08-19T12:37:32.775Z"
   },
   {
    "duration": 20,
    "start_time": "2021-08-19T12:37:32.782Z"
   },
   {
    "duration": 9,
    "start_time": "2021-08-19T12:37:32.803Z"
   },
   {
    "duration": 18,
    "start_time": "2021-08-19T12:37:32.813Z"
   },
   {
    "duration": 18,
    "start_time": "2021-08-19T12:37:32.835Z"
   },
   {
    "duration": 10,
    "start_time": "2021-08-19T12:37:32.854Z"
   },
   {
    "duration": 27,
    "start_time": "2021-08-19T12:37:32.865Z"
   },
   {
    "duration": 12,
    "start_time": "2021-08-19T12:37:32.894Z"
   },
   {
    "duration": 6,
    "start_time": "2021-08-19T12:37:32.908Z"
   },
   {
    "duration": 16,
    "start_time": "2021-08-19T12:37:32.916Z"
   },
   {
    "duration": 7,
    "start_time": "2021-08-19T12:37:32.934Z"
   },
   {
    "duration": 26,
    "start_time": "2021-08-19T12:37:32.942Z"
   },
   {
    "duration": 27,
    "start_time": "2021-08-19T12:37:32.969Z"
   },
   {
    "duration": 9,
    "start_time": "2021-08-19T12:37:32.997Z"
   },
   {
    "duration": 16,
    "start_time": "2021-08-19T12:37:33.007Z"
   },
   {
    "duration": 35,
    "start_time": "2021-08-19T12:37:33.024Z"
   },
   {
    "duration": 6,
    "start_time": "2021-08-19T12:37:33.060Z"
   },
   {
    "duration": 205,
    "start_time": "2021-08-19T12:37:33.068Z"
   },
   {
    "duration": 7,
    "start_time": "2021-08-19T12:37:33.275Z"
   },
   {
    "duration": 28,
    "start_time": "2021-08-19T12:37:33.283Z"
   },
   {
    "duration": 7,
    "start_time": "2021-08-19T12:37:33.313Z"
   },
   {
    "duration": 15,
    "start_time": "2021-08-19T12:37:33.321Z"
   },
   {
    "duration": 5,
    "start_time": "2021-08-19T12:37:33.337Z"
   },
   {
    "duration": 24,
    "start_time": "2021-08-19T12:37:33.344Z"
   },
   {
    "duration": 307,
    "start_time": "2021-08-19T12:37:33.370Z"
   },
   {
    "duration": 244,
    "start_time": "2021-08-19T12:39:08.804Z"
   },
   {
    "duration": 6,
    "start_time": "2021-08-19T12:39:15.228Z"
   },
   {
    "duration": 11,
    "start_time": "2021-08-19T12:39:17.252Z"
   },
   {
    "duration": 7,
    "start_time": "2021-08-19T12:41:07.250Z"
   },
   {
    "duration": 6,
    "start_time": "2021-08-19T12:41:47.527Z"
   },
   {
    "duration": 8,
    "start_time": "2021-08-19T12:42:02.261Z"
   },
   {
    "duration": 4,
    "start_time": "2021-08-19T12:42:42.590Z"
   },
   {
    "duration": 4,
    "start_time": "2021-08-19T12:43:58.378Z"
   },
   {
    "duration": 5,
    "start_time": "2021-08-19T12:45:18.019Z"
   },
   {
    "duration": 5,
    "start_time": "2021-08-19T12:45:33.247Z"
   },
   {
    "duration": 300,
    "start_time": "2021-08-19T12:45:45.566Z"
   },
   {
    "duration": 182,
    "start_time": "2021-08-19T12:46:13.099Z"
   },
   {
    "duration": 6,
    "start_time": "2021-08-19T12:49:47.978Z"
   },
   {
    "duration": 7,
    "start_time": "2021-08-19T12:49:50.608Z"
   },
   {
    "duration": 4,
    "start_time": "2021-08-19T12:49:53.887Z"
   },
   {
    "duration": 4,
    "start_time": "2021-08-19T12:49:56.743Z"
   },
   {
    "duration": 5,
    "start_time": "2021-08-19T12:49:59.384Z"
   },
   {
    "duration": 5,
    "start_time": "2021-08-19T12:50:01.877Z"
   },
   {
    "duration": 190,
    "start_time": "2021-08-19T12:50:05.087Z"
   },
   {
    "duration": 179,
    "start_time": "2021-08-19T12:50:12.456Z"
   },
   {
    "duration": 414,
    "start_time": "2021-08-19T12:51:35.822Z"
   },
   {
    "duration": 184,
    "start_time": "2021-08-19T12:53:36.922Z"
   },
   {
    "duration": 182,
    "start_time": "2021-08-19T13:00:01.259Z"
   },
   {
    "duration": 266,
    "start_time": "2021-08-19T13:01:18.880Z"
   },
   {
    "duration": 6,
    "start_time": "2021-08-19T13:01:59.927Z"
   },
   {
    "duration": 645,
    "start_time": "2021-08-19T13:02:01.913Z"
   },
   {
    "duration": 7,
    "start_time": "2021-08-19T13:02:20.750Z"
   },
   {
    "duration": 6,
    "start_time": "2021-08-19T13:02:22.520Z"
   },
   {
    "duration": 7,
    "start_time": "2021-08-19T13:04:04.422Z"
   },
   {
    "duration": 7,
    "start_time": "2021-08-19T13:04:32.100Z"
   },
   {
    "duration": 252,
    "start_time": "2021-08-19T13:06:52.491Z"
   },
   {
    "duration": 5,
    "start_time": "2021-08-19T13:07:16.061Z"
   },
   {
    "duration": 6,
    "start_time": "2021-08-19T13:07:21.381Z"
   },
   {
    "duration": 5,
    "start_time": "2021-08-19T13:07:36.902Z"
   },
   {
    "duration": 232,
    "start_time": "2021-08-19T13:08:27.485Z"
   },
   {
    "duration": 5,
    "start_time": "2021-08-19T13:08:43.406Z"
   },
   {
    "duration": 7,
    "start_time": "2021-08-19T13:08:50.099Z"
   },
   {
    "duration": 8,
    "start_time": "2021-08-19T13:08:56.627Z"
   },
   {
    "duration": 6,
    "start_time": "2021-08-19T13:09:17.331Z"
   },
   {
    "duration": 7,
    "start_time": "2021-08-19T13:09:19.610Z"
   },
   {
    "duration": 78,
    "start_time": "2021-08-19T13:09:46.007Z"
   },
   {
    "duration": 7,
    "start_time": "2021-08-19T13:10:04.171Z"
   },
   {
    "duration": 7,
    "start_time": "2021-08-19T13:10:14.423Z"
   },
   {
    "duration": 246,
    "start_time": "2021-08-19T13:10:48.873Z"
   },
   {
    "duration": 4,
    "start_time": "2021-08-19T13:10:59.683Z"
   },
   {
    "duration": 4,
    "start_time": "2021-08-19T13:11:04.228Z"
   },
   {
    "duration": 4,
    "start_time": "2021-08-19T13:11:10.761Z"
   },
   {
    "duration": 5,
    "start_time": "2021-08-19T13:11:22.519Z"
   },
   {
    "duration": 4,
    "start_time": "2021-08-19T13:11:59.126Z"
   },
   {
    "duration": 5,
    "start_time": "2021-08-19T13:12:00.958Z"
   },
   {
    "duration": 5,
    "start_time": "2021-08-19T13:12:11.563Z"
   },
   {
    "duration": 5,
    "start_time": "2021-08-19T13:12:21.099Z"
   },
   {
    "duration": 183,
    "start_time": "2021-08-19T13:12:42.612Z"
   },
   {
    "duration": 177,
    "start_time": "2021-08-19T13:12:58.187Z"
   },
   {
    "duration": 927,
    "start_time": "2021-08-19T13:18:15.834Z"
   },
   {
    "duration": 349,
    "start_time": "2021-08-19T13:18:16.765Z"
   },
   {
    "duration": 10,
    "start_time": "2021-08-19T13:18:17.116Z"
   },
   {
    "duration": 253,
    "start_time": "2021-08-19T13:18:17.128Z"
   },
   {
    "duration": 8,
    "start_time": "2021-08-19T13:18:17.382Z"
   },
   {
    "duration": 8,
    "start_time": "2021-08-19T13:18:17.392Z"
   },
   {
    "duration": 6,
    "start_time": "2021-08-19T13:18:17.403Z"
   },
   {
    "duration": 272,
    "start_time": "2021-08-19T13:18:17.411Z"
   },
   {
    "duration": 7,
    "start_time": "2021-08-19T13:18:17.684Z"
   },
   {
    "duration": 55,
    "start_time": "2021-08-19T13:18:17.693Z"
   },
   {
    "duration": 10,
    "start_time": "2021-08-19T13:18:17.749Z"
   },
   {
    "duration": 278,
    "start_time": "2021-08-19T13:18:17.761Z"
   },
   {
    "duration": 7,
    "start_time": "2021-08-19T13:18:18.040Z"
   },
   {
    "duration": 5,
    "start_time": "2021-08-19T13:18:18.049Z"
   },
   {
    "duration": 55,
    "start_time": "2021-08-19T13:18:18.056Z"
   },
   {
    "duration": 39,
    "start_time": "2021-08-19T13:18:18.112Z"
   },
   {
    "duration": 18,
    "start_time": "2021-08-19T13:18:18.153Z"
   },
   {
    "duration": 31,
    "start_time": "2021-08-19T13:18:18.173Z"
   },
   {
    "duration": 26,
    "start_time": "2021-08-19T13:18:18.205Z"
   },
   {
    "duration": 5,
    "start_time": "2021-08-19T13:18:18.232Z"
   },
   {
    "duration": 8,
    "start_time": "2021-08-19T13:18:18.238Z"
   },
   {
    "duration": 5,
    "start_time": "2021-08-19T13:18:18.249Z"
   },
   {
    "duration": 9,
    "start_time": "2021-08-19T13:18:18.256Z"
   },
   {
    "duration": 39,
    "start_time": "2021-08-19T13:18:18.266Z"
   },
   {
    "duration": 24,
    "start_time": "2021-08-19T13:18:18.306Z"
   },
   {
    "duration": 9,
    "start_time": "2021-08-19T13:18:18.331Z"
   },
   {
    "duration": 146,
    "start_time": "2021-08-19T13:18:18.342Z"
   },
   {
    "duration": 20,
    "start_time": "2021-08-19T13:18:18.492Z"
   },
   {
    "duration": 10,
    "start_time": "2021-08-19T13:18:18.514Z"
   },
   {
    "duration": 20,
    "start_time": "2021-08-19T13:18:18.526Z"
   },
   {
    "duration": 42,
    "start_time": "2021-08-19T13:18:18.549Z"
   },
   {
    "duration": 11,
    "start_time": "2021-08-19T13:18:18.594Z"
   },
   {
    "duration": 11,
    "start_time": "2021-08-19T13:18:18.607Z"
   },
   {
    "duration": 16,
    "start_time": "2021-08-19T13:18:18.619Z"
   },
   {
    "duration": 14,
    "start_time": "2021-08-19T13:18:18.637Z"
   },
   {
    "duration": 16,
    "start_time": "2021-08-19T13:18:18.652Z"
   },
   {
    "duration": 26,
    "start_time": "2021-08-19T13:18:18.670Z"
   },
   {
    "duration": 5,
    "start_time": "2021-08-19T13:18:18.698Z"
   },
   {
    "duration": 12,
    "start_time": "2021-08-19T13:18:18.704Z"
   },
   {
    "duration": 24,
    "start_time": "2021-08-19T13:18:18.718Z"
   },
   {
    "duration": 10,
    "start_time": "2021-08-19T13:18:18.744Z"
   },
   {
    "duration": 48,
    "start_time": "2021-08-19T13:18:18.757Z"
   },
   {
    "duration": 6,
    "start_time": "2021-08-19T13:18:18.807Z"
   },
   {
    "duration": 16,
    "start_time": "2021-08-19T13:18:18.815Z"
   },
   {
    "duration": 8,
    "start_time": "2021-08-19T13:18:18.832Z"
   },
   {
    "duration": 18,
    "start_time": "2021-08-19T13:18:18.842Z"
   },
   {
    "duration": 29,
    "start_time": "2021-08-19T13:18:18.862Z"
   },
   {
    "duration": 16,
    "start_time": "2021-08-19T13:18:18.893Z"
   },
   {
    "duration": 16,
    "start_time": "2021-08-19T13:18:18.910Z"
   },
   {
    "duration": 7,
    "start_time": "2021-08-19T13:18:18.927Z"
   },
   {
    "duration": 14,
    "start_time": "2021-08-19T13:18:18.935Z"
   },
   {
    "duration": 8,
    "start_time": "2021-08-19T13:18:18.951Z"
   },
   {
    "duration": 36,
    "start_time": "2021-08-19T13:18:18.961Z"
   },
   {
    "duration": 5,
    "start_time": "2021-08-19T13:18:18.999Z"
   },
   {
    "duration": 14,
    "start_time": "2021-08-19T13:18:19.006Z"
   },
   {
    "duration": 9,
    "start_time": "2021-08-19T13:18:19.022Z"
   },
   {
    "duration": 10,
    "start_time": "2021-08-19T13:18:19.033Z"
   },
   {
    "duration": 16,
    "start_time": "2021-08-19T13:18:19.045Z"
   },
   {
    "duration": 32,
    "start_time": "2021-08-19T13:18:19.063Z"
   },
   {
    "duration": 14,
    "start_time": "2021-08-19T13:18:19.096Z"
   },
   {
    "duration": 7,
    "start_time": "2021-08-19T13:18:19.112Z"
   },
   {
    "duration": 23,
    "start_time": "2021-08-19T13:18:19.120Z"
   },
   {
    "duration": 5,
    "start_time": "2021-08-19T13:18:19.145Z"
   },
   {
    "duration": 6,
    "start_time": "2021-08-19T13:18:19.152Z"
   },
   {
    "duration": 33,
    "start_time": "2021-08-19T13:18:19.159Z"
   },
   {
    "duration": 9,
    "start_time": "2021-08-19T13:18:19.193Z"
   },
   {
    "duration": 3,
    "start_time": "2021-08-19T13:18:19.207Z"
   },
   {
    "duration": 203,
    "start_time": "2021-08-19T13:18:19.212Z"
   },
   {
    "duration": 6,
    "start_time": "2021-08-19T13:18:19.417Z"
   },
   {
    "duration": 16,
    "start_time": "2021-08-19T13:18:19.425Z"
   },
   {
    "duration": 8,
    "start_time": "2021-08-19T13:18:19.443Z"
   },
   {
    "duration": 7,
    "start_time": "2021-08-19T13:18:19.453Z"
   },
   {
    "duration": 7,
    "start_time": "2021-08-19T13:18:19.461Z"
   },
   {
    "duration": 29,
    "start_time": "2021-08-19T13:18:19.469Z"
   },
   {
    "duration": 11,
    "start_time": "2021-08-19T13:18:19.499Z"
   },
   {
    "duration": 8,
    "start_time": "2021-08-19T13:18:19.512Z"
   },
   {
    "duration": 9,
    "start_time": "2021-08-19T13:18:19.522Z"
   },
   {
    "duration": 7,
    "start_time": "2021-08-19T13:18:19.533Z"
   },
   {
    "duration": 8,
    "start_time": "2021-08-19T13:18:19.542Z"
   },
   {
    "duration": 11,
    "start_time": "2021-08-19T13:18:19.552Z"
   },
   {
    "duration": 7,
    "start_time": "2021-08-19T13:18:19.564Z"
   },
   {
    "duration": 21,
    "start_time": "2021-08-19T13:18:19.573Z"
   },
   {
    "duration": 11,
    "start_time": "2021-08-19T13:18:19.596Z"
   },
   {
    "duration": 202,
    "start_time": "2021-08-19T13:18:19.608Z"
   },
   {
    "duration": 182,
    "start_time": "2021-08-19T13:18:19.812Z"
   },
   {
    "duration": 636,
    "start_time": "2021-08-19T13:18:19.995Z"
   },
   {
    "duration": 1039,
    "start_time": "2021-08-19T13:18:33.020Z"
   },
   {
    "duration": 295,
    "start_time": "2021-08-19T13:18:34.060Z"
   },
   {
    "duration": 10,
    "start_time": "2021-08-19T13:18:34.357Z"
   },
   {
    "duration": 264,
    "start_time": "2021-08-19T13:18:34.369Z"
   },
   {
    "duration": 7,
    "start_time": "2021-08-19T13:18:34.635Z"
   },
   {
    "duration": 9,
    "start_time": "2021-08-19T13:18:34.643Z"
   },
   {
    "duration": 7,
    "start_time": "2021-08-19T13:18:34.653Z"
   },
   {
    "duration": 182,
    "start_time": "2021-08-19T13:18:34.662Z"
   },
   {
    "duration": 7,
    "start_time": "2021-08-19T13:18:34.846Z"
   },
   {
    "duration": 45,
    "start_time": "2021-08-19T13:18:34.854Z"
   },
   {
    "duration": 9,
    "start_time": "2021-08-19T13:18:34.900Z"
   },
   {
    "duration": 40,
    "start_time": "2021-08-19T13:18:34.910Z"
   },
   {
    "duration": 7,
    "start_time": "2021-08-19T13:18:34.951Z"
   },
   {
    "duration": 5,
    "start_time": "2021-08-19T13:18:34.959Z"
   },
   {
    "duration": 53,
    "start_time": "2021-08-19T13:18:34.966Z"
   },
   {
    "duration": 39,
    "start_time": "2021-08-19T13:18:35.020Z"
   },
   {
    "duration": 37,
    "start_time": "2021-08-19T13:18:35.060Z"
   },
   {
    "duration": 15,
    "start_time": "2021-08-19T13:18:35.098Z"
   },
   {
    "duration": 27,
    "start_time": "2021-08-19T13:18:35.115Z"
   },
   {
    "duration": 4,
    "start_time": "2021-08-19T13:18:35.143Z"
   },
   {
    "duration": 7,
    "start_time": "2021-08-19T13:18:35.149Z"
   },
   {
    "duration": 8,
    "start_time": "2021-08-19T13:18:35.157Z"
   },
   {
    "duration": 23,
    "start_time": "2021-08-19T13:18:35.169Z"
   },
   {
    "duration": 18,
    "start_time": "2021-08-19T13:18:35.194Z"
   },
   {
    "duration": 24,
    "start_time": "2021-08-19T13:18:35.214Z"
   },
   {
    "duration": 7,
    "start_time": "2021-08-19T13:18:35.239Z"
   },
   {
    "duration": 99,
    "start_time": "2021-08-19T13:18:35.247Z"
   },
   {
    "duration": 17,
    "start_time": "2021-08-19T13:18:35.347Z"
   },
   {
    "duration": 8,
    "start_time": "2021-08-19T13:18:35.365Z"
   },
   {
    "duration": 29,
    "start_time": "2021-08-19T13:18:35.375Z"
   },
   {
    "duration": 15,
    "start_time": "2021-08-19T13:18:35.405Z"
   },
   {
    "duration": 12,
    "start_time": "2021-08-19T13:18:35.421Z"
   },
   {
    "duration": 6,
    "start_time": "2021-08-19T13:18:35.434Z"
   },
   {
    "duration": 8,
    "start_time": "2021-08-19T13:18:35.441Z"
   },
   {
    "duration": 16,
    "start_time": "2021-08-19T13:18:35.451Z"
   },
   {
    "duration": 34,
    "start_time": "2021-08-19T13:18:35.469Z"
   },
   {
    "duration": 10,
    "start_time": "2021-08-19T13:18:35.504Z"
   },
   {
    "duration": 6,
    "start_time": "2021-08-19T13:18:35.515Z"
   },
   {
    "duration": 15,
    "start_time": "2021-08-19T13:18:35.523Z"
   },
   {
    "duration": 26,
    "start_time": "2021-08-19T13:18:35.539Z"
   },
   {
    "duration": 29,
    "start_time": "2021-08-19T13:18:35.566Z"
   },
   {
    "duration": 26,
    "start_time": "2021-08-19T13:18:35.596Z"
   },
   {
    "duration": 7,
    "start_time": "2021-08-19T13:18:35.623Z"
   },
   {
    "duration": 19,
    "start_time": "2021-08-19T13:18:35.632Z"
   },
   {
    "duration": 6,
    "start_time": "2021-08-19T13:18:35.653Z"
   },
   {
    "duration": 40,
    "start_time": "2021-08-19T13:18:35.661Z"
   },
   {
    "duration": 6,
    "start_time": "2021-08-19T13:18:35.703Z"
   },
   {
    "duration": 18,
    "start_time": "2021-08-19T13:18:35.710Z"
   },
   {
    "duration": 17,
    "start_time": "2021-08-19T13:18:35.730Z"
   },
   {
    "duration": 7,
    "start_time": "2021-08-19T13:18:35.748Z"
   },
   {
    "duration": 36,
    "start_time": "2021-08-19T13:18:35.756Z"
   },
   {
    "duration": 8,
    "start_time": "2021-08-19T13:18:35.793Z"
   },
   {
    "duration": 21,
    "start_time": "2021-08-19T13:18:35.803Z"
   },
   {
    "duration": 8,
    "start_time": "2021-08-19T13:18:35.825Z"
   },
   {
    "duration": 14,
    "start_time": "2021-08-19T13:18:35.835Z"
   },
   {
    "duration": 15,
    "start_time": "2021-08-19T13:18:35.850Z"
   },
   {
    "duration": 16,
    "start_time": "2021-08-19T13:18:35.866Z"
   },
   {
    "duration": 23,
    "start_time": "2021-08-19T13:18:35.883Z"
   },
   {
    "duration": 10,
    "start_time": "2021-08-19T13:18:35.908Z"
   },
   {
    "duration": 18,
    "start_time": "2021-08-19T13:18:35.920Z"
   },
   {
    "duration": 15,
    "start_time": "2021-08-19T13:18:35.939Z"
   },
   {
    "duration": 31,
    "start_time": "2021-08-19T13:18:35.955Z"
   },
   {
    "duration": 7,
    "start_time": "2021-08-19T13:18:35.988Z"
   },
   {
    "duration": 7,
    "start_time": "2021-08-19T13:18:35.996Z"
   },
   {
    "duration": 17,
    "start_time": "2021-08-19T13:18:36.005Z"
   },
   {
    "duration": 13,
    "start_time": "2021-08-19T13:18:36.024Z"
   },
   {
    "duration": 18,
    "start_time": "2021-08-19T13:18:36.039Z"
   },
   {
    "duration": 200,
    "start_time": "2021-08-19T13:18:36.061Z"
   },
   {
    "duration": 6,
    "start_time": "2021-08-19T13:18:36.263Z"
   },
   {
    "duration": 21,
    "start_time": "2021-08-19T13:18:36.271Z"
   },
   {
    "duration": 7,
    "start_time": "2021-08-19T13:18:36.293Z"
   },
   {
    "duration": 6,
    "start_time": "2021-08-19T13:18:36.302Z"
   },
   {
    "duration": 11,
    "start_time": "2021-08-19T13:18:36.309Z"
   },
   {
    "duration": 11,
    "start_time": "2021-08-19T13:18:36.321Z"
   },
   {
    "duration": 9,
    "start_time": "2021-08-19T13:18:36.334Z"
   },
   {
    "duration": 11,
    "start_time": "2021-08-19T13:18:36.344Z"
   },
   {
    "duration": 10,
    "start_time": "2021-08-19T13:18:36.357Z"
   },
   {
    "duration": 10,
    "start_time": "2021-08-19T13:18:36.368Z"
   },
   {
    "duration": 8,
    "start_time": "2021-08-19T13:18:36.379Z"
   },
   {
    "duration": 8,
    "start_time": "2021-08-19T13:18:36.389Z"
   },
   {
    "duration": 10,
    "start_time": "2021-08-19T13:18:36.399Z"
   },
   {
    "duration": 11,
    "start_time": "2021-08-19T13:18:36.410Z"
   },
   {
    "duration": 13,
    "start_time": "2021-08-19T13:18:36.423Z"
   },
   {
    "duration": 193,
    "start_time": "2021-08-19T13:18:36.437Z"
   },
   {
    "duration": 178,
    "start_time": "2021-08-19T13:18:36.631Z"
   },
   {
    "duration": 19,
    "start_time": "2021-08-19T13:19:50.626Z"
   },
   {
    "duration": 4,
    "start_time": "2021-08-19T13:22:38.616Z"
   },
   {
    "duration": 4,
    "start_time": "2021-08-19T13:23:29.821Z"
   },
   {
    "duration": 7,
    "start_time": "2021-08-19T13:26:01.355Z"
   },
   {
    "duration": 6,
    "start_time": "2021-08-19T13:26:07.358Z"
   },
   {
    "duration": 4,
    "start_time": "2021-08-19T13:26:12.492Z"
   },
   {
    "duration": 4,
    "start_time": "2021-08-19T13:26:15.277Z"
   },
   {
    "duration": 8,
    "start_time": "2021-08-19T13:26:17.707Z"
   },
   {
    "duration": 7,
    "start_time": "2021-08-19T13:26:20.386Z"
   },
   {
    "duration": 4,
    "start_time": "2021-08-19T13:26:23.462Z"
   },
   {
    "duration": 4,
    "start_time": "2021-08-19T13:26:25.590Z"
   },
   {
    "duration": 4,
    "start_time": "2021-08-19T13:26:28.036Z"
   },
   {
    "duration": 4,
    "start_time": "2021-08-19T13:26:29.915Z"
   },
   {
    "duration": 5,
    "start_time": "2021-08-19T13:26:32.516Z"
   },
   {
    "duration": 4,
    "start_time": "2021-08-19T13:26:34.061Z"
   },
   {
    "duration": 5,
    "start_time": "2021-08-19T13:26:36.867Z"
   },
   {
    "duration": 4,
    "start_time": "2021-08-19T13:26:38.431Z"
   },
   {
    "duration": 186,
    "start_time": "2021-08-19T13:26:41.187Z"
   },
   {
    "duration": 173,
    "start_time": "2021-08-19T13:26:54.819Z"
   },
   {
    "duration": 6,
    "start_time": "2021-08-19T13:27:37.364Z"
   },
   {
    "duration": 179,
    "start_time": "2021-08-19T13:27:41.097Z"
   },
   {
    "duration": 5,
    "start_time": "2021-08-19T13:27:56.235Z"
   },
   {
    "duration": 7,
    "start_time": "2021-08-19T13:28:18.363Z"
   },
   {
    "duration": 4,
    "start_time": "2021-08-19T13:28:22.505Z"
   },
   {
    "duration": 175,
    "start_time": "2021-08-19T13:28:25.426Z"
   },
   {
    "duration": 7,
    "start_time": "2021-08-19T13:28:40.446Z"
   },
   {
    "duration": 8,
    "start_time": "2021-08-19T13:29:57.980Z"
   },
   {
    "duration": 5,
    "start_time": "2021-08-19T13:30:14.567Z"
   },
   {
    "duration": 303,
    "start_time": "2021-08-19T13:30:31.189Z"
   },
   {
    "duration": 4,
    "start_time": "2021-08-19T13:30:52.983Z"
   },
   {
    "duration": 4,
    "start_time": "2021-08-19T13:31:10.108Z"
   },
   {
    "duration": 256,
    "start_time": "2021-08-19T13:31:28.480Z"
   },
   {
    "duration": 166,
    "start_time": "2021-08-19T13:31:50.669Z"
   },
   {
    "duration": 7,
    "start_time": "2021-08-19T13:33:04.112Z"
   },
   {
    "duration": 84,
    "start_time": "2021-08-19T13:33:37.570Z"
   },
   {
    "duration": 4,
    "start_time": "2021-08-19T13:33:52.840Z"
   },
   {
    "duration": 4,
    "start_time": "2021-08-19T13:35:03.981Z"
   },
   {
    "duration": 5,
    "start_time": "2021-08-19T13:35:31.084Z"
   },
   {
    "duration": 4,
    "start_time": "2021-08-19T13:35:37.068Z"
   },
   {
    "duration": 170,
    "start_time": "2021-08-19T13:36:29.204Z"
   },
   {
    "duration": 229,
    "start_time": "2021-08-19T13:36:45.523Z"
   },
   {
    "duration": 7,
    "start_time": "2021-08-19T13:42:55.521Z"
   },
   {
    "duration": 7,
    "start_time": "2021-08-19T13:43:47.738Z"
   },
   {
    "duration": 4,
    "start_time": "2021-08-19T13:45:13.714Z"
   },
   {
    "duration": 5,
    "start_time": "2021-08-19T13:45:27.883Z"
   },
   {
    "duration": 7,
    "start_time": "2021-08-19T13:45:58.590Z"
   },
   {
    "duration": 4,
    "start_time": "2021-08-19T13:46:00.935Z"
   },
   {
    "duration": 5,
    "start_time": "2021-08-19T13:48:51.275Z"
   },
   {
    "duration": 5,
    "start_time": "2021-08-19T13:49:02.753Z"
   },
   {
    "duration": 4,
    "start_time": "2021-08-19T14:32:59.287Z"
   },
   {
    "duration": 5,
    "start_time": "2021-08-19T14:33:18.744Z"
   },
   {
    "duration": 248,
    "start_time": "2021-08-19T14:35:07.305Z"
   },
   {
    "duration": 168,
    "start_time": "2021-08-19T14:35:26.781Z"
   },
   {
    "duration": 163,
    "start_time": "2021-08-19T14:35:44.656Z"
   },
   {
    "duration": 1404,
    "start_time": "2021-08-19T16:44:11.889Z"
   },
   {
    "duration": 598,
    "start_time": "2021-08-19T16:44:13.296Z"
   },
   {
    "duration": 16,
    "start_time": "2021-08-19T16:44:13.897Z"
   },
   {
    "duration": 583,
    "start_time": "2021-08-19T16:44:13.916Z"
   },
   {
    "duration": 12,
    "start_time": "2021-08-19T16:44:14.502Z"
   },
   {
    "duration": 20,
    "start_time": "2021-08-19T16:44:14.517Z"
   },
   {
    "duration": 20,
    "start_time": "2021-08-19T16:44:14.540Z"
   },
   {
    "duration": 268,
    "start_time": "2021-08-19T16:44:14.564Z"
   },
   {
    "duration": 10,
    "start_time": "2021-08-19T16:44:14.835Z"
   },
   {
    "duration": 114,
    "start_time": "2021-08-19T16:44:14.855Z"
   },
   {
    "duration": 15,
    "start_time": "2021-08-19T16:44:14.971Z"
   },
   {
    "duration": 95,
    "start_time": "2021-08-19T16:44:14.989Z"
   },
   {
    "duration": 13,
    "start_time": "2021-08-19T16:44:15.086Z"
   },
   {
    "duration": 7,
    "start_time": "2021-08-19T16:44:15.103Z"
   },
   {
    "duration": 75,
    "start_time": "2021-08-19T16:44:15.113Z"
   },
   {
    "duration": 72,
    "start_time": "2021-08-19T16:44:15.191Z"
   },
   {
    "duration": 33,
    "start_time": "2021-08-19T16:44:15.266Z"
   },
   {
    "duration": 53,
    "start_time": "2021-08-19T16:44:15.301Z"
   },
   {
    "duration": 44,
    "start_time": "2021-08-19T16:44:15.357Z"
   },
   {
    "duration": 8,
    "start_time": "2021-08-19T16:44:15.403Z"
   },
   {
    "duration": 22,
    "start_time": "2021-08-19T16:44:15.414Z"
   },
   {
    "duration": 20,
    "start_time": "2021-08-19T16:44:15.439Z"
   },
   {
    "duration": 12,
    "start_time": "2021-08-19T16:44:15.465Z"
   },
   {
    "duration": 30,
    "start_time": "2021-08-19T16:44:15.483Z"
   },
   {
    "duration": 71,
    "start_time": "2021-08-19T16:44:15.516Z"
   },
   {
    "duration": 9,
    "start_time": "2021-08-19T16:44:15.590Z"
   },
   {
    "duration": 156,
    "start_time": "2021-08-19T16:44:15.602Z"
   },
   {
    "duration": 24,
    "start_time": "2021-08-19T16:44:15.761Z"
   },
   {
    "duration": 11,
    "start_time": "2021-08-19T16:44:15.788Z"
   },
   {
    "duration": 53,
    "start_time": "2021-08-19T16:44:15.801Z"
   },
   {
    "duration": 23,
    "start_time": "2021-08-19T16:44:15.857Z"
   },
   {
    "duration": 16,
    "start_time": "2021-08-19T16:44:15.882Z"
   },
   {
    "duration": 19,
    "start_time": "2021-08-19T16:44:15.901Z"
   },
   {
    "duration": 12,
    "start_time": "2021-08-19T16:44:15.923Z"
   },
   {
    "duration": 20,
    "start_time": "2021-08-19T16:44:15.954Z"
   },
   {
    "duration": 34,
    "start_time": "2021-08-19T16:44:15.977Z"
   },
   {
    "duration": 15,
    "start_time": "2021-08-19T16:44:16.013Z"
   },
   {
    "duration": 24,
    "start_time": "2021-08-19T16:44:16.031Z"
   },
   {
    "duration": 26,
    "start_time": "2021-08-19T16:44:16.057Z"
   },
   {
    "duration": 54,
    "start_time": "2021-08-19T16:44:16.085Z"
   },
   {
    "duration": 11,
    "start_time": "2021-08-19T16:44:16.142Z"
   },
   {
    "duration": 46,
    "start_time": "2021-08-19T16:44:16.155Z"
   },
   {
    "duration": 10,
    "start_time": "2021-08-19T16:44:16.203Z"
   },
   {
    "duration": 39,
    "start_time": "2021-08-19T16:44:16.215Z"
   },
   {
    "duration": 11,
    "start_time": "2021-08-19T16:44:16.256Z"
   },
   {
    "duration": 43,
    "start_time": "2021-08-19T16:44:16.269Z"
   },
   {
    "duration": 9,
    "start_time": "2021-08-19T16:44:16.314Z"
   },
   {
    "duration": 36,
    "start_time": "2021-08-19T16:44:16.326Z"
   },
   {
    "duration": 24,
    "start_time": "2021-08-19T16:44:16.364Z"
   },
   {
    "duration": 10,
    "start_time": "2021-08-19T16:44:16.390Z"
   },
   {
    "duration": 21,
    "start_time": "2021-08-19T16:44:16.403Z"
   },
   {
    "duration": 39,
    "start_time": "2021-08-19T16:44:16.426Z"
   },
   {
    "duration": 23,
    "start_time": "2021-08-19T16:44:16.468Z"
   },
   {
    "duration": 11,
    "start_time": "2021-08-19T16:44:16.493Z"
   },
   {
    "duration": 31,
    "start_time": "2021-08-19T16:44:16.506Z"
   },
   {
    "duration": 35,
    "start_time": "2021-08-19T16:44:16.539Z"
   },
   {
    "duration": 13,
    "start_time": "2021-08-19T16:44:16.576Z"
   },
   {
    "duration": 21,
    "start_time": "2021-08-19T16:44:16.591Z"
   },
   {
    "duration": 46,
    "start_time": "2021-08-19T16:44:16.615Z"
   },
   {
    "duration": 42,
    "start_time": "2021-08-19T16:44:16.663Z"
   },
   {
    "duration": 10,
    "start_time": "2021-08-19T16:44:16.708Z"
   },
   {
    "duration": 33,
    "start_time": "2021-08-19T16:44:16.721Z"
   },
   {
    "duration": 9,
    "start_time": "2021-08-19T16:44:16.757Z"
   },
   {
    "duration": 23,
    "start_time": "2021-08-19T16:44:16.768Z"
   },
   {
    "duration": 6,
    "start_time": "2021-08-19T16:44:16.793Z"
   },
   {
    "duration": 377,
    "start_time": "2021-08-19T16:44:16.801Z"
   },
   {
    "duration": 10,
    "start_time": "2021-08-19T16:44:17.181Z"
   },
   {
    "duration": 35,
    "start_time": "2021-08-19T16:44:17.200Z"
   },
   {
    "duration": 28,
    "start_time": "2021-08-19T16:44:17.238Z"
   },
   {
    "duration": 20,
    "start_time": "2021-08-19T16:44:17.268Z"
   },
   {
    "duration": 13,
    "start_time": "2021-08-19T16:44:17.290Z"
   },
   {
    "duration": 22,
    "start_time": "2021-08-19T16:44:17.305Z"
   },
   {
    "duration": 31,
    "start_time": "2021-08-19T16:44:17.329Z"
   },
   {
    "duration": 32,
    "start_time": "2021-08-19T16:44:17.362Z"
   },
   {
    "duration": 15,
    "start_time": "2021-08-19T16:44:17.396Z"
   },
   {
    "duration": 12,
    "start_time": "2021-08-19T16:44:17.413Z"
   },
   {
    "duration": 13,
    "start_time": "2021-08-19T16:44:17.428Z"
   },
   {
    "duration": 13,
    "start_time": "2021-08-19T16:44:17.443Z"
   },
   {
    "duration": 34,
    "start_time": "2021-08-19T16:44:17.458Z"
   },
   {
    "duration": 24,
    "start_time": "2021-08-19T16:44:17.494Z"
   },
   {
    "duration": 25,
    "start_time": "2021-08-19T16:44:17.520Z"
   },
   {
    "duration": 14,
    "start_time": "2021-08-19T16:44:17.548Z"
   },
   {
    "duration": 9,
    "start_time": "2021-08-19T16:44:17.564Z"
   },
   {
    "duration": 347,
    "start_time": "2021-08-19T16:44:17.575Z"
   },
   {
    "duration": 339,
    "start_time": "2021-08-19T16:44:17.924Z"
   },
   {
    "duration": 10,
    "start_time": "2021-08-19T16:44:18.265Z"
   },
   {
    "duration": 15,
    "start_time": "2021-08-19T16:44:18.277Z"
   },
   {
    "duration": 7,
    "start_time": "2021-08-19T16:44:18.295Z"
   },
   {
    "duration": 18,
    "start_time": "2021-08-19T16:44:18.304Z"
   },
   {
    "duration": 29,
    "start_time": "2021-08-19T16:44:18.325Z"
   },
   {
    "duration": 6,
    "start_time": "2021-08-19T16:44:18.356Z"
   },
   {
    "duration": 8,
    "start_time": "2021-08-19T16:44:18.364Z"
   },
   {
    "duration": 11,
    "start_time": "2021-08-19T16:44:18.375Z"
   },
   {
    "duration": 346,
    "start_time": "2021-08-19T16:44:18.389Z"
   },
   {
    "duration": 308,
    "start_time": "2021-08-19T16:44:18.738Z"
   },
   {
    "duration": 14,
    "start_time": "2021-08-19T16:44:19.049Z"
   },
   {
    "duration": 13,
    "start_time": "2021-08-19T16:44:19.066Z"
   },
   {
    "duration": 6,
    "start_time": "2021-08-19T16:44:19.082Z"
   },
   {
    "duration": 7,
    "start_time": "2021-08-19T16:44:19.090Z"
   },
   {
    "duration": 7,
    "start_time": "2021-08-19T16:44:19.100Z"
   },
   {
    "duration": 47,
    "start_time": "2021-08-19T16:44:19.109Z"
   },
   {
    "duration": 7,
    "start_time": "2021-08-19T16:44:19.158Z"
   },
   {
    "duration": 7,
    "start_time": "2021-08-19T16:44:19.168Z"
   },
   {
    "duration": 344,
    "start_time": "2021-08-19T16:44:19.177Z"
   },
   {
    "duration": 321,
    "start_time": "2021-08-19T16:44:19.524Z"
   },
   {
    "duration": 3,
    "start_time": "2021-08-20T11:46:59.833Z"
   },
   {
    "duration": 1034,
    "start_time": "2021-08-20T11:47:06.794Z"
   },
   {
    "duration": 333,
    "start_time": "2021-08-20T11:47:07.830Z"
   },
   {
    "duration": 11,
    "start_time": "2021-08-20T11:47:08.165Z"
   },
   {
    "duration": 234,
    "start_time": "2021-08-20T11:47:08.178Z"
   },
   {
    "duration": 8,
    "start_time": "2021-08-20T11:47:08.414Z"
   },
   {
    "duration": 7,
    "start_time": "2021-08-20T11:47:08.423Z"
   },
   {
    "duration": 12,
    "start_time": "2021-08-20T11:47:08.432Z"
   },
   {
    "duration": 271,
    "start_time": "2021-08-20T11:47:08.447Z"
   },
   {
    "duration": 7,
    "start_time": "2021-08-20T11:47:08.720Z"
   },
   {
    "duration": 76,
    "start_time": "2021-08-20T11:47:08.728Z"
   },
   {
    "duration": 10,
    "start_time": "2021-08-20T11:47:08.806Z"
   },
   {
    "duration": 65,
    "start_time": "2021-08-20T11:47:08.817Z"
   },
   {
    "duration": 8,
    "start_time": "2021-08-20T11:47:08.883Z"
   },
   {
    "duration": 5,
    "start_time": "2021-08-20T11:47:08.893Z"
   },
   {
    "duration": 54,
    "start_time": "2021-08-20T11:47:08.899Z"
   },
   {
    "duration": 44,
    "start_time": "2021-08-20T11:47:08.955Z"
   },
   {
    "duration": 42,
    "start_time": "2021-08-20T11:47:09.001Z"
   },
   {
    "duration": 18,
    "start_time": "2021-08-20T11:47:09.045Z"
   },
   {
    "duration": 27,
    "start_time": "2021-08-20T11:47:09.065Z"
   },
   {
    "duration": 5,
    "start_time": "2021-08-20T11:47:09.094Z"
   },
   {
    "duration": 6,
    "start_time": "2021-08-20T11:47:09.101Z"
   },
   {
    "duration": 32,
    "start_time": "2021-08-20T11:47:09.109Z"
   },
   {
    "duration": 8,
    "start_time": "2021-08-20T11:47:09.146Z"
   },
   {
    "duration": 23,
    "start_time": "2021-08-20T11:47:09.158Z"
   },
   {
    "duration": 26,
    "start_time": "2021-08-20T11:47:09.183Z"
   },
   {
    "duration": 7,
    "start_time": "2021-08-20T11:47:09.211Z"
   },
   {
    "duration": 101,
    "start_time": "2021-08-20T11:47:09.220Z"
   },
   {
    "duration": 32,
    "start_time": "2021-08-20T11:47:09.323Z"
   },
   {
    "duration": 7,
    "start_time": "2021-08-20T11:47:09.357Z"
   },
   {
    "duration": 21,
    "start_time": "2021-08-20T11:47:09.366Z"
   },
   {
    "duration": 16,
    "start_time": "2021-08-20T11:47:09.388Z"
   },
   {
    "duration": 11,
    "start_time": "2021-08-20T11:47:09.406Z"
   },
   {
    "duration": 27,
    "start_time": "2021-08-20T11:47:09.418Z"
   },
   {
    "duration": 10,
    "start_time": "2021-08-20T11:47:09.447Z"
   },
   {
    "duration": 15,
    "start_time": "2021-08-20T11:47:09.458Z"
   },
   {
    "duration": 19,
    "start_time": "2021-08-20T11:47:09.474Z"
   },
   {
    "duration": 11,
    "start_time": "2021-08-20T11:47:09.494Z"
   },
   {
    "duration": 8,
    "start_time": "2021-08-20T11:47:09.506Z"
   },
   {
    "duration": 29,
    "start_time": "2021-08-20T11:47:09.516Z"
   },
   {
    "duration": 28,
    "start_time": "2021-08-20T11:47:09.546Z"
   },
   {
    "duration": 8,
    "start_time": "2021-08-20T11:47:09.575Z"
   },
   {
    "duration": 40,
    "start_time": "2021-08-20T11:47:09.585Z"
   },
   {
    "duration": 6,
    "start_time": "2021-08-20T11:47:09.627Z"
   },
   {
    "duration": 28,
    "start_time": "2021-08-20T11:47:09.635Z"
   },
   {
    "duration": 16,
    "start_time": "2021-08-20T11:47:09.665Z"
   },
   {
    "duration": 28,
    "start_time": "2021-08-20T11:47:09.682Z"
   },
   {
    "duration": 17,
    "start_time": "2021-08-20T11:47:09.712Z"
   },
   {
    "duration": 36,
    "start_time": "2021-08-20T11:47:09.731Z"
   },
   {
    "duration": 23,
    "start_time": "2021-08-20T11:47:09.769Z"
   },
   {
    "duration": 9,
    "start_time": "2021-08-20T11:47:09.794Z"
   },
   {
    "duration": 42,
    "start_time": "2021-08-20T11:47:09.805Z"
   },
   {
    "duration": 17,
    "start_time": "2021-08-20T11:47:09.849Z"
   },
   {
    "duration": 26,
    "start_time": "2021-08-20T11:47:09.868Z"
   },
   {
    "duration": 24,
    "start_time": "2021-08-20T11:47:09.896Z"
   },
   {
    "duration": 18,
    "start_time": "2021-08-20T11:47:09.922Z"
   },
   {
    "duration": 19,
    "start_time": "2021-08-20T11:47:09.942Z"
   },
   {
    "duration": 24,
    "start_time": "2021-08-20T11:47:09.963Z"
   },
   {
    "duration": 33,
    "start_time": "2021-08-20T11:47:09.988Z"
   },
   {
    "duration": 8,
    "start_time": "2021-08-20T11:47:10.023Z"
   },
   {
    "duration": 31,
    "start_time": "2021-08-20T11:47:10.033Z"
   },
   {
    "duration": 8,
    "start_time": "2021-08-20T11:47:10.066Z"
   },
   {
    "duration": 7,
    "start_time": "2021-08-20T11:47:10.076Z"
   },
   {
    "duration": 8,
    "start_time": "2021-08-20T11:47:10.085Z"
   },
   {
    "duration": 12,
    "start_time": "2021-08-20T11:47:10.095Z"
   },
   {
    "duration": 5,
    "start_time": "2021-08-20T11:47:10.109Z"
   },
   {
    "duration": 219,
    "start_time": "2021-08-20T11:47:10.116Z"
   },
   {
    "duration": 10,
    "start_time": "2021-08-20T11:47:10.336Z"
   },
   {
    "duration": 18,
    "start_time": "2021-08-20T11:47:10.351Z"
   },
   {
    "duration": 8,
    "start_time": "2021-08-20T11:47:10.371Z"
   },
   {
    "duration": 6,
    "start_time": "2021-08-20T11:47:10.380Z"
   },
   {
    "duration": 7,
    "start_time": "2021-08-20T11:47:10.387Z"
   },
   {
    "duration": 6,
    "start_time": "2021-08-20T11:47:10.395Z"
   },
   {
    "duration": 7,
    "start_time": "2021-08-20T11:47:10.402Z"
   },
   {
    "duration": 34,
    "start_time": "2021-08-20T11:47:10.411Z"
   },
   {
    "duration": 6,
    "start_time": "2021-08-20T11:47:10.446Z"
   },
   {
    "duration": 14,
    "start_time": "2021-08-20T11:47:10.453Z"
   },
   {
    "duration": 6,
    "start_time": "2021-08-20T11:47:10.469Z"
   },
   {
    "duration": 7,
    "start_time": "2021-08-20T11:47:10.476Z"
   },
   {
    "duration": 6,
    "start_time": "2021-08-20T11:47:10.485Z"
   },
   {
    "duration": 6,
    "start_time": "2021-08-20T11:47:10.493Z"
   },
   {
    "duration": 6,
    "start_time": "2021-08-20T11:47:10.501Z"
   },
   {
    "duration": 6,
    "start_time": "2021-08-20T11:47:10.508Z"
   },
   {
    "duration": 31,
    "start_time": "2021-08-20T11:47:10.515Z"
   },
   {
    "duration": 204,
    "start_time": "2021-08-20T11:47:10.548Z"
   },
   {
    "duration": 190,
    "start_time": "2021-08-20T11:47:10.754Z"
   },
   {
    "duration": 7,
    "start_time": "2021-08-20T11:47:10.946Z"
   },
   {
    "duration": 32,
    "start_time": "2021-08-20T11:47:10.955Z"
   },
   {
    "duration": 6,
    "start_time": "2021-08-20T11:47:10.989Z"
   },
   {
    "duration": 11,
    "start_time": "2021-08-20T11:47:10.997Z"
   },
   {
    "duration": 15,
    "start_time": "2021-08-20T11:47:11.010Z"
   },
   {
    "duration": 6,
    "start_time": "2021-08-20T11:47:11.026Z"
   },
   {
    "duration": 8,
    "start_time": "2021-08-20T11:47:11.034Z"
   },
   {
    "duration": 12,
    "start_time": "2021-08-20T11:47:11.043Z"
   },
   {
    "duration": 182,
    "start_time": "2021-08-20T11:47:11.056Z"
   },
   {
    "duration": 177,
    "start_time": "2021-08-20T11:47:11.240Z"
   },
   {
    "duration": 7,
    "start_time": "2021-08-20T11:47:11.419Z"
   },
   {
    "duration": 26,
    "start_time": "2021-08-20T11:47:11.427Z"
   },
   {
    "duration": 28,
    "start_time": "2021-08-20T11:47:11.455Z"
   },
   {
    "duration": 24,
    "start_time": "2021-08-20T11:47:11.484Z"
   },
   {
    "duration": 19,
    "start_time": "2021-08-20T11:47:11.509Z"
   },
   {
    "duration": 7,
    "start_time": "2021-08-20T11:47:11.529Z"
   },
   {
    "duration": 6,
    "start_time": "2021-08-20T11:47:11.538Z"
   },
   {
    "duration": 6,
    "start_time": "2021-08-20T11:47:11.545Z"
   },
   {
    "duration": 191,
    "start_time": "2021-08-20T11:47:11.553Z"
   },
   {
    "duration": 176,
    "start_time": "2021-08-20T11:47:11.746Z"
   },
   {
    "duration": 2,
    "start_time": "2021-08-20T11:47:11.924Z"
   },
   {
    "duration": 87,
    "start_time": "2021-08-20T12:16:47.061Z"
   },
   {
    "duration": 8,
    "start_time": "2021-08-20T12:18:04.900Z"
   },
   {
    "duration": 88,
    "start_time": "2021-08-20T12:18:20.219Z"
   },
   {
    "duration": 8121,
    "start_time": "2021-08-20T12:18:26.828Z"
   },
   {
    "duration": 1096,
    "start_time": "2021-08-20T12:18:37.326Z"
   },
   {
    "duration": 308,
    "start_time": "2021-08-20T12:18:38.424Z"
   },
   {
    "duration": 17,
    "start_time": "2021-08-20T12:18:38.734Z"
   },
   {
    "duration": 295,
    "start_time": "2021-08-20T12:18:38.753Z"
   },
   {
    "duration": 10,
    "start_time": "2021-08-20T12:18:39.050Z"
   },
   {
    "duration": 21,
    "start_time": "2021-08-20T12:18:39.062Z"
   },
   {
    "duration": 12,
    "start_time": "2021-08-20T12:18:39.085Z"
   },
   {
    "duration": 260,
    "start_time": "2021-08-20T12:18:39.099Z"
   },
   {
    "duration": 8,
    "start_time": "2021-08-20T12:18:39.361Z"
   },
   {
    "duration": 67,
    "start_time": "2021-08-20T12:18:39.371Z"
   },
   {
    "duration": 10,
    "start_time": "2021-08-20T12:18:39.440Z"
   },
   {
    "duration": 44,
    "start_time": "2021-08-20T12:18:39.452Z"
   },
   {
    "duration": 8,
    "start_time": "2021-08-20T12:18:39.497Z"
   },
   {
    "duration": 6,
    "start_time": "2021-08-20T12:18:39.506Z"
   },
   {
    "duration": 53,
    "start_time": "2021-08-20T12:18:39.513Z"
   },
   {
    "duration": 43,
    "start_time": "2021-08-20T12:18:39.567Z"
   },
   {
    "duration": 32,
    "start_time": "2021-08-20T12:18:39.611Z"
   },
   {
    "duration": 17,
    "start_time": "2021-08-20T12:18:39.645Z"
   },
   {
    "duration": 28,
    "start_time": "2021-08-20T12:18:39.664Z"
   },
   {
    "duration": 5,
    "start_time": "2021-08-20T12:18:39.693Z"
   },
   {
    "duration": 15,
    "start_time": "2021-08-20T12:18:39.700Z"
   },
   {
    "duration": 13,
    "start_time": "2021-08-20T12:18:39.716Z"
   },
   {
    "duration": 10,
    "start_time": "2021-08-20T12:18:39.741Z"
   },
   {
    "duration": 30,
    "start_time": "2021-08-20T12:18:39.754Z"
   },
   {
    "duration": 34,
    "start_time": "2021-08-20T12:18:39.786Z"
   },
   {
    "duration": 8,
    "start_time": "2021-08-20T12:18:39.822Z"
   },
   {
    "duration": 106,
    "start_time": "2021-08-20T12:18:39.831Z"
   },
   {
    "duration": 18,
    "start_time": "2021-08-20T12:18:39.938Z"
   },
   {
    "duration": 14,
    "start_time": "2021-08-20T12:18:39.958Z"
   },
   {
    "duration": 41,
    "start_time": "2021-08-20T12:18:39.974Z"
   },
   {
    "duration": 19,
    "start_time": "2021-08-20T12:18:40.017Z"
   },
   {
    "duration": 23,
    "start_time": "2021-08-20T12:18:40.038Z"
   },
   {
    "duration": 17,
    "start_time": "2021-08-20T12:18:40.063Z"
   },
   {
    "duration": 17,
    "start_time": "2021-08-20T12:18:40.081Z"
   },
   {
    "duration": 23,
    "start_time": "2021-08-20T12:18:40.100Z"
   },
   {
    "duration": 23,
    "start_time": "2021-08-20T12:18:40.124Z"
   },
   {
    "duration": 12,
    "start_time": "2021-08-20T12:18:40.148Z"
   },
   {
    "duration": 6,
    "start_time": "2021-08-20T12:18:40.162Z"
   },
   {
    "duration": 25,
    "start_time": "2021-08-20T12:18:40.169Z"
   },
   {
    "duration": 34,
    "start_time": "2021-08-20T12:18:40.196Z"
   },
   {
    "duration": 10,
    "start_time": "2021-08-20T12:18:40.232Z"
   },
   {
    "duration": 35,
    "start_time": "2021-08-20T12:18:40.244Z"
   },
   {
    "duration": 7,
    "start_time": "2021-08-20T12:18:40.280Z"
   },
   {
    "duration": 28,
    "start_time": "2021-08-20T12:18:40.289Z"
   },
   {
    "duration": 9,
    "start_time": "2021-08-20T12:18:40.318Z"
   },
   {
    "duration": 25,
    "start_time": "2021-08-20T12:18:40.328Z"
   },
   {
    "duration": 7,
    "start_time": "2021-08-20T12:18:40.354Z"
   },
   {
    "duration": 20,
    "start_time": "2021-08-20T12:18:40.363Z"
   },
   {
    "duration": 18,
    "start_time": "2021-08-20T12:18:40.384Z"
   },
   {
    "duration": 7,
    "start_time": "2021-08-20T12:18:40.404Z"
   },
   {
    "duration": 38,
    "start_time": "2021-08-20T12:18:40.413Z"
   },
   {
    "duration": 9,
    "start_time": "2021-08-20T12:18:40.453Z"
   },
   {
    "duration": 22,
    "start_time": "2021-08-20T12:18:40.464Z"
   },
   {
    "duration": 23,
    "start_time": "2021-08-20T12:18:40.488Z"
   },
   {
    "duration": 11,
    "start_time": "2021-08-20T12:18:40.513Z"
   },
   {
    "duration": 25,
    "start_time": "2021-08-20T12:18:40.525Z"
   },
   {
    "duration": 12,
    "start_time": "2021-08-20T12:18:40.552Z"
   },
   {
    "duration": 19,
    "start_time": "2021-08-20T12:18:40.566Z"
   },
   {
    "duration": 8,
    "start_time": "2021-08-20T12:18:40.587Z"
   },
   {
    "duration": 31,
    "start_time": "2021-08-20T12:18:40.596Z"
   },
   {
    "duration": 18,
    "start_time": "2021-08-20T12:18:40.628Z"
   },
   {
    "duration": 12,
    "start_time": "2021-08-20T12:18:40.647Z"
   },
   {
    "duration": 10,
    "start_time": "2021-08-20T12:18:40.661Z"
   },
   {
    "duration": 14,
    "start_time": "2021-08-20T12:18:40.672Z"
   },
   {
    "duration": 10,
    "start_time": "2021-08-20T12:18:40.687Z"
   },
   {
    "duration": 214,
    "start_time": "2021-08-20T12:18:40.698Z"
   },
   {
    "duration": 9,
    "start_time": "2021-08-20T12:18:40.913Z"
   },
   {
    "duration": 31,
    "start_time": "2021-08-20T12:18:40.928Z"
   },
   {
    "duration": 14,
    "start_time": "2021-08-20T12:18:40.961Z"
   },
   {
    "duration": 11,
    "start_time": "2021-08-20T12:18:40.977Z"
   },
   {
    "duration": 21,
    "start_time": "2021-08-20T12:18:40.989Z"
   },
   {
    "duration": 16,
    "start_time": "2021-08-20T12:18:41.012Z"
   },
   {
    "duration": 10,
    "start_time": "2021-08-20T12:18:41.030Z"
   },
   {
    "duration": 20,
    "start_time": "2021-08-20T12:18:41.041Z"
   },
   {
    "duration": 14,
    "start_time": "2021-08-20T12:18:41.062Z"
   },
   {
    "duration": 9,
    "start_time": "2021-08-20T12:18:41.078Z"
   },
   {
    "duration": 14,
    "start_time": "2021-08-20T12:18:41.089Z"
   },
   {
    "duration": 17,
    "start_time": "2021-08-20T12:18:41.104Z"
   },
   {
    "duration": 17,
    "start_time": "2021-08-20T12:18:41.122Z"
   },
   {
    "duration": 15,
    "start_time": "2021-08-20T12:18:41.141Z"
   },
   {
    "duration": 19,
    "start_time": "2021-08-20T12:18:41.157Z"
   },
   {
    "duration": 7,
    "start_time": "2021-08-20T12:18:41.178Z"
   },
   {
    "duration": 12,
    "start_time": "2021-08-20T12:18:41.186Z"
   },
   {
    "duration": 213,
    "start_time": "2021-08-20T12:18:41.199Z"
   },
   {
    "duration": 201,
    "start_time": "2021-08-20T12:18:41.413Z"
   },
   {
    "duration": 7,
    "start_time": "2021-08-20T12:18:41.616Z"
   },
   {
    "duration": 22,
    "start_time": "2021-08-20T12:18:41.625Z"
   },
   {
    "duration": 17,
    "start_time": "2021-08-20T12:18:41.649Z"
   },
   {
    "duration": 11,
    "start_time": "2021-08-20T12:18:41.668Z"
   },
   {
    "duration": 22,
    "start_time": "2021-08-20T12:18:41.681Z"
   },
   {
    "duration": 10,
    "start_time": "2021-08-20T12:18:41.705Z"
   },
   {
    "duration": 9,
    "start_time": "2021-08-20T12:18:41.717Z"
   },
   {
    "duration": 13,
    "start_time": "2021-08-20T12:18:41.728Z"
   },
   {
    "duration": 201,
    "start_time": "2021-08-20T12:18:41.743Z"
   },
   {
    "duration": 183,
    "start_time": "2021-08-20T12:18:41.946Z"
   },
   {
    "duration": 13,
    "start_time": "2021-08-20T12:18:42.130Z"
   },
   {
    "duration": 18,
    "start_time": "2021-08-20T12:18:42.145Z"
   },
   {
    "duration": 32,
    "start_time": "2021-08-20T12:18:42.165Z"
   },
   {
    "duration": 14,
    "start_time": "2021-08-20T12:18:42.199Z"
   },
   {
    "duration": 22,
    "start_time": "2021-08-20T12:18:42.215Z"
   },
   {
    "duration": 15,
    "start_time": "2021-08-20T12:18:42.239Z"
   },
   {
    "duration": 20,
    "start_time": "2021-08-20T12:18:42.256Z"
   },
   {
    "duration": 17,
    "start_time": "2021-08-20T12:18:42.277Z"
   },
   {
    "duration": 201,
    "start_time": "2021-08-20T12:18:42.295Z"
   },
   {
    "duration": 188,
    "start_time": "2021-08-20T12:18:42.498Z"
   },
   {
    "duration": 7,
    "start_time": "2021-08-20T12:18:42.688Z"
   },
   {
    "duration": 19,
    "start_time": "2021-08-20T12:18:42.697Z"
   },
   {
    "duration": 6610,
    "start_time": "2021-08-20T12:18:42.718Z"
   },
   {
    "duration": 4,
    "start_time": "2021-08-20T12:27:30.629Z"
   },
   {
    "duration": 4,
    "start_time": "2021-08-20T12:27:53.336Z"
   },
   {
    "duration": 4,
    "start_time": "2021-08-20T12:27:59.028Z"
   },
   {
    "duration": 777,
    "start_time": "2021-08-20T12:28:16.201Z"
   },
   {
    "duration": 79,
    "start_time": "2021-08-20T12:28:28.251Z"
   },
   {
    "duration": 3,
    "start_time": "2021-08-20T12:28:42.727Z"
   },
   {
    "duration": 4,
    "start_time": "2021-08-20T12:28:52.396Z"
   },
   {
    "duration": 6428,
    "start_time": "2021-08-20T12:29:41.631Z"
   },
   {
    "duration": 5,
    "start_time": "2021-08-20T12:30:38.108Z"
   },
   {
    "duration": 9,
    "start_time": "2021-08-20T12:39:56.168Z"
   },
   {
    "duration": 5,
    "start_time": "2021-08-20T12:40:49.641Z"
   },
   {
    "duration": 6,
    "start_time": "2021-08-20T12:43:44.382Z"
   },
   {
    "duration": 82,
    "start_time": "2021-08-20T12:52:19.127Z"
   },
   {
    "duration": 86,
    "start_time": "2021-08-20T13:02:39.606Z"
   },
   {
    "duration": 3,
    "start_time": "2021-08-20T13:10:29.622Z"
   },
   {
    "duration": 1112,
    "start_time": "2021-08-20T13:14:19.829Z"
   },
   {
    "duration": 340,
    "start_time": "2021-08-20T13:14:20.943Z"
   },
   {
    "duration": 13,
    "start_time": "2021-08-20T13:14:21.285Z"
   },
   {
    "duration": 310,
    "start_time": "2021-08-20T13:14:21.300Z"
   },
   {
    "duration": 8,
    "start_time": "2021-08-20T13:14:21.612Z"
   },
   {
    "duration": 22,
    "start_time": "2021-08-20T13:14:21.622Z"
   },
   {
    "duration": 8,
    "start_time": "2021-08-20T13:14:21.646Z"
   },
   {
    "duration": 267,
    "start_time": "2021-08-20T13:14:21.656Z"
   },
   {
    "duration": 7,
    "start_time": "2021-08-20T13:14:21.925Z"
   },
   {
    "duration": 291,
    "start_time": "2021-08-20T13:14:21.934Z"
   },
   {
    "duration": 10,
    "start_time": "2021-08-20T13:14:22.227Z"
   },
   {
    "duration": 78,
    "start_time": "2021-08-20T13:14:22.239Z"
   },
   {
    "duration": 8,
    "start_time": "2021-08-20T13:14:22.318Z"
   },
   {
    "duration": 14,
    "start_time": "2021-08-20T13:14:22.328Z"
   },
   {
    "duration": 55,
    "start_time": "2021-08-20T13:14:22.343Z"
   },
   {
    "duration": 48,
    "start_time": "2021-08-20T13:14:22.399Z"
   },
   {
    "duration": 21,
    "start_time": "2021-08-20T13:14:22.448Z"
   },
   {
    "duration": 17,
    "start_time": "2021-08-20T13:14:22.471Z"
   },
   {
    "duration": 26,
    "start_time": "2021-08-20T13:14:22.490Z"
   },
   {
    "duration": 25,
    "start_time": "2021-08-20T13:14:22.518Z"
   },
   {
    "duration": 7,
    "start_time": "2021-08-20T13:14:22.545Z"
   },
   {
    "duration": 7,
    "start_time": "2021-08-20T13:14:22.554Z"
   },
   {
    "duration": 8,
    "start_time": "2021-08-20T13:14:22.565Z"
   },
   {
    "duration": 24,
    "start_time": "2021-08-20T13:14:22.576Z"
   },
   {
    "duration": 41,
    "start_time": "2021-08-20T13:14:22.602Z"
   },
   {
    "duration": 9,
    "start_time": "2021-08-20T13:14:22.645Z"
   },
   {
    "duration": 100,
    "start_time": "2021-08-20T13:14:22.656Z"
   },
   {
    "duration": 18,
    "start_time": "2021-08-20T13:14:22.758Z"
   },
   {
    "duration": 9,
    "start_time": "2021-08-20T13:14:22.777Z"
   },
   {
    "duration": 24,
    "start_time": "2021-08-20T13:14:22.788Z"
   },
   {
    "duration": 34,
    "start_time": "2021-08-20T13:14:22.814Z"
   },
   {
    "duration": 11,
    "start_time": "2021-08-20T13:14:22.850Z"
   },
   {
    "duration": 7,
    "start_time": "2021-08-20T13:14:22.862Z"
   },
   {
    "duration": 7,
    "start_time": "2021-08-20T13:14:22.871Z"
   },
   {
    "duration": 18,
    "start_time": "2021-08-20T13:14:22.880Z"
   },
   {
    "duration": 44,
    "start_time": "2021-08-20T13:14:22.900Z"
   },
   {
    "duration": 11,
    "start_time": "2021-08-20T13:14:22.945Z"
   },
   {
    "duration": 26,
    "start_time": "2021-08-20T13:14:22.958Z"
   },
   {
    "duration": 8,
    "start_time": "2021-08-20T13:14:22.985Z"
   },
   {
    "duration": 46,
    "start_time": "2021-08-20T13:14:22.995Z"
   },
   {
    "duration": 7,
    "start_time": "2021-08-20T13:14:23.043Z"
   },
   {
    "duration": 23,
    "start_time": "2021-08-20T13:14:23.052Z"
   },
   {
    "duration": 8,
    "start_time": "2021-08-20T13:14:23.077Z"
   },
   {
    "duration": 22,
    "start_time": "2021-08-20T13:14:23.086Z"
   },
   {
    "duration": 6,
    "start_time": "2021-08-20T13:14:23.110Z"
   },
   {
    "duration": 39,
    "start_time": "2021-08-20T13:14:23.118Z"
   },
   {
    "duration": 22,
    "start_time": "2021-08-20T13:14:23.159Z"
   },
   {
    "duration": 6,
    "start_time": "2021-08-20T13:14:23.183Z"
   },
   {
    "duration": 15,
    "start_time": "2021-08-20T13:14:23.191Z"
   },
   {
    "duration": 8,
    "start_time": "2021-08-20T13:14:23.208Z"
   },
   {
    "duration": 10,
    "start_time": "2021-08-20T13:14:23.241Z"
   },
   {
    "duration": 16,
    "start_time": "2021-08-20T13:14:23.253Z"
   },
   {
    "duration": 14,
    "start_time": "2021-08-20T13:14:23.271Z"
   },
   {
    "duration": 25,
    "start_time": "2021-08-20T13:14:23.287Z"
   },
   {
    "duration": 8,
    "start_time": "2021-08-20T13:14:23.314Z"
   },
   {
    "duration": 25,
    "start_time": "2021-08-20T13:14:23.324Z"
   },
   {
    "duration": 26,
    "start_time": "2021-08-20T13:14:23.350Z"
   },
   {
    "duration": 38,
    "start_time": "2021-08-20T13:14:23.378Z"
   },
   {
    "duration": 7,
    "start_time": "2021-08-20T13:14:23.418Z"
   },
   {
    "duration": 29,
    "start_time": "2021-08-20T13:14:23.427Z"
   },
   {
    "duration": 21,
    "start_time": "2021-08-20T13:14:23.457Z"
   },
   {
    "duration": 23,
    "start_time": "2021-08-20T13:14:23.480Z"
   },
   {
    "duration": 10,
    "start_time": "2021-08-20T13:14:23.505Z"
   },
   {
    "duration": 222,
    "start_time": "2021-08-20T13:14:23.517Z"
   },
   {
    "duration": 8,
    "start_time": "2021-08-20T13:14:23.741Z"
   },
   {
    "duration": 24,
    "start_time": "2021-08-20T13:14:23.750Z"
   },
   {
    "duration": 15,
    "start_time": "2021-08-20T13:14:23.776Z"
   },
   {
    "duration": 10,
    "start_time": "2021-08-20T13:14:23.797Z"
   },
   {
    "duration": 16,
    "start_time": "2021-08-20T13:14:23.809Z"
   },
   {
    "duration": 19,
    "start_time": "2021-08-20T13:14:23.827Z"
   },
   {
    "duration": 14,
    "start_time": "2021-08-20T13:14:23.847Z"
   },
   {
    "duration": 16,
    "start_time": "2021-08-20T13:14:23.863Z"
   },
   {
    "duration": 12,
    "start_time": "2021-08-20T13:14:23.880Z"
   },
   {
    "duration": 8,
    "start_time": "2021-08-20T13:14:23.894Z"
   },
   {
    "duration": 9,
    "start_time": "2021-08-20T13:14:23.904Z"
   },
   {
    "duration": 6,
    "start_time": "2021-08-20T13:14:23.915Z"
   },
   {
    "duration": 18,
    "start_time": "2021-08-20T13:14:23.922Z"
   },
   {
    "duration": 13,
    "start_time": "2021-08-20T13:14:23.942Z"
   },
   {
    "duration": 10,
    "start_time": "2021-08-20T13:14:23.957Z"
   },
   {
    "duration": 15,
    "start_time": "2021-08-20T13:14:23.969Z"
   },
   {
    "duration": 211,
    "start_time": "2021-08-20T13:14:23.985Z"
   },
   {
    "duration": 205,
    "start_time": "2021-08-20T13:14:24.197Z"
   },
   {
    "duration": 7,
    "start_time": "2021-08-20T13:14:24.404Z"
   },
   {
    "duration": 25,
    "start_time": "2021-08-20T13:14:24.413Z"
   },
   {
    "duration": 21,
    "start_time": "2021-08-20T13:14:24.440Z"
   },
   {
    "duration": 27,
    "start_time": "2021-08-20T13:14:24.463Z"
   },
   {
    "duration": 29,
    "start_time": "2021-08-20T13:14:24.491Z"
   },
   {
    "duration": 22,
    "start_time": "2021-08-20T13:14:24.521Z"
   },
   {
    "duration": 25,
    "start_time": "2021-08-20T13:14:24.545Z"
   },
   {
    "duration": 20,
    "start_time": "2021-08-20T13:14:24.571Z"
   },
   {
    "duration": 202,
    "start_time": "2021-08-20T13:14:24.592Z"
   },
   {
    "duration": 191,
    "start_time": "2021-08-20T13:14:24.796Z"
   },
   {
    "duration": 6,
    "start_time": "2021-08-20T13:14:24.989Z"
   },
   {
    "duration": 31,
    "start_time": "2021-08-20T13:14:24.997Z"
   },
   {
    "duration": 22,
    "start_time": "2021-08-20T13:14:25.030Z"
   },
   {
    "duration": 20,
    "start_time": "2021-08-20T13:14:25.054Z"
   },
   {
    "duration": 23,
    "start_time": "2021-08-20T13:14:25.075Z"
   },
   {
    "duration": 24,
    "start_time": "2021-08-20T13:14:25.099Z"
   },
   {
    "duration": 17,
    "start_time": "2021-08-20T13:14:25.125Z"
   },
   {
    "duration": 22,
    "start_time": "2021-08-20T13:14:25.144Z"
   },
   {
    "duration": 183,
    "start_time": "2021-08-20T13:14:25.168Z"
   },
   {
    "duration": 191,
    "start_time": "2021-08-20T13:14:25.353Z"
   },
   {
    "duration": 8,
    "start_time": "2021-08-20T13:14:25.545Z"
   },
   {
    "duration": 24,
    "start_time": "2021-08-20T13:14:25.554Z"
   },
   {
    "duration": 19,
    "start_time": "2021-08-20T13:14:25.580Z"
   },
   {
    "duration": 26,
    "start_time": "2021-08-20T13:14:25.601Z"
   },
   {
    "duration": 33,
    "start_time": "2021-08-20T13:14:25.629Z"
   },
   {
    "duration": 23,
    "start_time": "2021-08-20T13:14:25.663Z"
   },
   {
    "duration": 25,
    "start_time": "2021-08-20T13:14:25.688Z"
   },
   {
    "duration": 1088,
    "start_time": "2021-08-20T13:15:43.235Z"
   },
   {
    "duration": 292,
    "start_time": "2021-08-20T13:15:44.325Z"
   },
   {
    "duration": 11,
    "start_time": "2021-08-20T13:15:44.620Z"
   },
   {
    "duration": 294,
    "start_time": "2021-08-20T13:15:44.632Z"
   },
   {
    "duration": 14,
    "start_time": "2021-08-20T13:15:44.928Z"
   },
   {
    "duration": 8,
    "start_time": "2021-08-20T13:15:44.943Z"
   },
   {
    "duration": 11,
    "start_time": "2021-08-20T13:15:44.953Z"
   },
   {
    "duration": 270,
    "start_time": "2021-08-20T13:15:44.967Z"
   },
   {
    "duration": 7,
    "start_time": "2021-08-20T13:15:45.239Z"
   },
   {
    "duration": 51,
    "start_time": "2021-08-20T13:15:45.248Z"
   },
   {
    "duration": 9,
    "start_time": "2021-08-20T13:15:45.301Z"
   },
   {
    "duration": 47,
    "start_time": "2021-08-20T13:15:45.311Z"
   },
   {
    "duration": 8,
    "start_time": "2021-08-20T13:15:45.360Z"
   },
   {
    "duration": 6,
    "start_time": "2021-08-20T13:15:45.370Z"
   },
   {
    "duration": 62,
    "start_time": "2021-08-20T13:15:45.379Z"
   },
   {
    "duration": 48,
    "start_time": "2021-08-20T13:15:45.443Z"
   },
   {
    "duration": 20,
    "start_time": "2021-08-20T13:15:45.493Z"
   },
   {
    "duration": 38,
    "start_time": "2021-08-20T13:15:45.515Z"
   },
   {
    "duration": 28,
    "start_time": "2021-08-20T13:15:45.555Z"
   },
   {
    "duration": 5,
    "start_time": "2021-08-20T13:15:45.585Z"
   },
   {
    "duration": 8,
    "start_time": "2021-08-20T13:15:45.591Z"
   },
   {
    "duration": 9,
    "start_time": "2021-08-20T13:15:45.600Z"
   },
   {
    "duration": 29,
    "start_time": "2021-08-20T13:15:45.613Z"
   },
   {
    "duration": 21,
    "start_time": "2021-08-20T13:15:45.645Z"
   },
   {
    "duration": 26,
    "start_time": "2021-08-20T13:15:45.668Z"
   },
   {
    "duration": 7,
    "start_time": "2021-08-20T13:15:45.696Z"
   },
   {
    "duration": 109,
    "start_time": "2021-08-20T13:15:45.705Z"
   },
   {
    "duration": 17,
    "start_time": "2021-08-20T13:15:45.816Z"
   },
   {
    "duration": 9,
    "start_time": "2021-08-20T13:15:45.841Z"
   },
   {
    "duration": 29,
    "start_time": "2021-08-20T13:15:45.852Z"
   },
   {
    "duration": 17,
    "start_time": "2021-08-20T13:15:45.883Z"
   },
   {
    "duration": 13,
    "start_time": "2021-08-20T13:15:45.902Z"
   },
   {
    "duration": 18,
    "start_time": "2021-08-20T13:15:45.917Z"
   },
   {
    "duration": 24,
    "start_time": "2021-08-20T13:15:45.936Z"
   },
   {
    "duration": 35,
    "start_time": "2021-08-20T13:15:45.962Z"
   },
   {
    "duration": 31,
    "start_time": "2021-08-20T13:15:45.999Z"
   },
   {
    "duration": 16,
    "start_time": "2021-08-20T13:15:46.032Z"
   },
   {
    "duration": 46,
    "start_time": "2021-08-20T13:15:46.050Z"
   },
   {
    "duration": 8,
    "start_time": "2021-08-20T13:15:46.098Z"
   },
   {
    "duration": 35,
    "start_time": "2021-08-20T13:15:46.107Z"
   },
   {
    "duration": 6,
    "start_time": "2021-08-20T13:15:46.144Z"
   },
   {
    "duration": 30,
    "start_time": "2021-08-20T13:15:46.152Z"
   },
   {
    "duration": 8,
    "start_time": "2021-08-20T13:15:46.184Z"
   },
   {
    "duration": 24,
    "start_time": "2021-08-20T13:15:46.193Z"
   },
   {
    "duration": 6,
    "start_time": "2021-08-20T13:15:46.219Z"
   },
   {
    "duration": 25,
    "start_time": "2021-08-20T13:15:46.227Z"
   },
   {
    "duration": 17,
    "start_time": "2021-08-20T13:15:46.254Z"
   },
   {
    "duration": 9,
    "start_time": "2021-08-20T13:15:46.273Z"
   },
   {
    "duration": 25,
    "start_time": "2021-08-20T13:15:46.283Z"
   },
   {
    "duration": 9,
    "start_time": "2021-08-20T13:15:46.310Z"
   },
   {
    "duration": 23,
    "start_time": "2021-08-20T13:15:46.321Z"
   },
   {
    "duration": 8,
    "start_time": "2021-08-20T13:15:46.345Z"
   },
   {
    "duration": 13,
    "start_time": "2021-08-20T13:15:46.355Z"
   },
   {
    "duration": 28,
    "start_time": "2021-08-20T13:15:46.370Z"
   },
   {
    "duration": 8,
    "start_time": "2021-08-20T13:15:46.400Z"
   },
   {
    "duration": 43,
    "start_time": "2021-08-20T13:15:46.410Z"
   },
   {
    "duration": 15,
    "start_time": "2021-08-20T13:15:46.456Z"
   },
   {
    "duration": 21,
    "start_time": "2021-08-20T13:15:46.473Z"
   },
   {
    "duration": 7,
    "start_time": "2021-08-20T13:15:46.496Z"
   },
   {
    "duration": 5,
    "start_time": "2021-08-20T13:15:46.505Z"
   },
   {
    "duration": 32,
    "start_time": "2021-08-20T13:15:46.512Z"
   },
   {
    "duration": 12,
    "start_time": "2021-08-20T13:15:46.546Z"
   },
   {
    "duration": 4,
    "start_time": "2021-08-20T13:15:46.559Z"
   },
   {
    "duration": 257,
    "start_time": "2021-08-20T13:15:46.566Z"
   },
   {
    "duration": 9,
    "start_time": "2021-08-20T13:15:46.824Z"
   },
   {
    "duration": 27,
    "start_time": "2021-08-20T13:15:46.835Z"
   },
   {
    "duration": 8,
    "start_time": "2021-08-20T13:15:46.864Z"
   },
   {
    "duration": 9,
    "start_time": "2021-08-20T13:15:46.877Z"
   },
   {
    "duration": 6,
    "start_time": "2021-08-20T13:15:46.888Z"
   },
   {
    "duration": 9,
    "start_time": "2021-08-20T13:15:46.895Z"
   },
   {
    "duration": 41,
    "start_time": "2021-08-20T13:15:46.906Z"
   },
   {
    "duration": 12,
    "start_time": "2021-08-20T13:15:46.949Z"
   },
   {
    "duration": 11,
    "start_time": "2021-08-20T13:15:46.963Z"
   },
   {
    "duration": 7,
    "start_time": "2021-08-20T13:15:46.976Z"
   },
   {
    "duration": 7,
    "start_time": "2021-08-20T13:15:46.984Z"
   },
   {
    "duration": 6,
    "start_time": "2021-08-20T13:15:46.993Z"
   },
   {
    "duration": 41,
    "start_time": "2021-08-20T13:15:47.001Z"
   },
   {
    "duration": 6,
    "start_time": "2021-08-20T13:15:47.044Z"
   },
   {
    "duration": 6,
    "start_time": "2021-08-20T13:15:47.052Z"
   },
   {
    "duration": 5,
    "start_time": "2021-08-20T13:15:47.060Z"
   },
   {
    "duration": 225,
    "start_time": "2021-08-20T13:15:47.066Z"
   },
   {
    "duration": 213,
    "start_time": "2021-08-20T13:15:47.293Z"
   },
   {
    "duration": 8,
    "start_time": "2021-08-20T13:15:47.508Z"
   },
   {
    "duration": 26,
    "start_time": "2021-08-20T13:15:47.518Z"
   },
   {
    "duration": 5,
    "start_time": "2021-08-20T13:15:47.545Z"
   },
   {
    "duration": 6,
    "start_time": "2021-08-20T13:15:47.552Z"
   },
   {
    "duration": 6,
    "start_time": "2021-08-20T13:15:47.560Z"
   },
   {
    "duration": 6,
    "start_time": "2021-08-20T13:15:47.568Z"
   },
   {
    "duration": 12,
    "start_time": "2021-08-20T13:15:47.575Z"
   },
   {
    "duration": 8,
    "start_time": "2021-08-20T13:15:47.589Z"
   },
   {
    "duration": 220,
    "start_time": "2021-08-20T13:15:47.599Z"
   },
   {
    "duration": 214,
    "start_time": "2021-08-20T13:15:47.821Z"
   },
   {
    "duration": 7,
    "start_time": "2021-08-20T13:15:48.036Z"
   },
   {
    "duration": 12,
    "start_time": "2021-08-20T13:15:48.045Z"
   },
   {
    "duration": 7,
    "start_time": "2021-08-20T13:15:48.059Z"
   },
   {
    "duration": 8,
    "start_time": "2021-08-20T13:15:48.067Z"
   },
   {
    "duration": 7,
    "start_time": "2021-08-20T13:15:48.076Z"
   },
   {
    "duration": 6,
    "start_time": "2021-08-20T13:15:48.085Z"
   },
   {
    "duration": 5,
    "start_time": "2021-08-20T13:15:48.093Z"
   },
   {
    "duration": 42,
    "start_time": "2021-08-20T13:15:48.100Z"
   },
   {
    "duration": 196,
    "start_time": "2021-08-20T13:15:48.144Z"
   },
   {
    "duration": 206,
    "start_time": "2021-08-20T13:15:48.342Z"
   },
   {
    "duration": 8,
    "start_time": "2021-08-20T13:15:48.549Z"
   },
   {
    "duration": 8,
    "start_time": "2021-08-20T13:15:48.559Z"
   },
   {
    "duration": 9,
    "start_time": "2021-08-20T13:15:48.568Z"
   },
   {
    "duration": 7,
    "start_time": "2021-08-20T13:15:48.579Z"
   },
   {
    "duration": 16,
    "start_time": "2021-08-20T13:15:48.587Z"
   },
   {
    "duration": 5,
    "start_time": "2021-08-20T13:15:48.605Z"
   },
   {
    "duration": 29,
    "start_time": "2021-08-20T13:15:48.612Z"
   },
   {
    "duration": 1101,
    "start_time": "2021-08-20T13:16:15.929Z"
   },
   {
    "duration": 330,
    "start_time": "2021-08-20T13:16:17.031Z"
   },
   {
    "duration": 11,
    "start_time": "2021-08-20T13:16:17.363Z"
   },
   {
    "duration": 251,
    "start_time": "2021-08-20T13:16:17.376Z"
   },
   {
    "duration": 8,
    "start_time": "2021-08-20T13:16:17.629Z"
   },
   {
    "duration": 14,
    "start_time": "2021-08-20T13:16:17.641Z"
   },
   {
    "duration": 26,
    "start_time": "2021-08-20T13:16:17.656Z"
   },
   {
    "duration": 198,
    "start_time": "2021-08-20T13:16:17.684Z"
   },
   {
    "duration": 7,
    "start_time": "2021-08-20T13:16:17.885Z"
   },
   {
    "duration": 54,
    "start_time": "2021-08-20T13:16:17.894Z"
   },
   {
    "duration": 10,
    "start_time": "2021-08-20T13:16:17.949Z"
   },
   {
    "duration": 54,
    "start_time": "2021-08-20T13:16:17.961Z"
   },
   {
    "duration": 7,
    "start_time": "2021-08-20T13:16:18.017Z"
   },
   {
    "duration": 20,
    "start_time": "2021-08-20T13:16:18.025Z"
   },
   {
    "duration": 71,
    "start_time": "2021-08-20T13:16:18.047Z"
   },
   {
    "duration": 43,
    "start_time": "2021-08-20T13:16:18.119Z"
   },
   {
    "duration": 19,
    "start_time": "2021-08-20T13:16:18.164Z"
   },
   {
    "duration": 17,
    "start_time": "2021-08-20T13:16:18.185Z"
   },
   {
    "duration": 44,
    "start_time": "2021-08-20T13:16:18.203Z"
   },
   {
    "duration": 5,
    "start_time": "2021-08-20T13:16:18.249Z"
   },
   {
    "duration": 23,
    "start_time": "2021-08-20T13:16:18.255Z"
   },
   {
    "duration": 25,
    "start_time": "2021-08-20T13:16:18.280Z"
   },
   {
    "duration": 21,
    "start_time": "2021-08-20T13:16:18.307Z"
   },
   {
    "duration": 46,
    "start_time": "2021-08-20T13:16:18.329Z"
   },
   {
    "duration": 42,
    "start_time": "2021-08-20T13:16:18.376Z"
   },
   {
    "duration": 17,
    "start_time": "2021-08-20T13:16:18.420Z"
   },
   {
    "duration": 99,
    "start_time": "2021-08-20T13:16:18.441Z"
   },
   {
    "duration": 19,
    "start_time": "2021-08-20T13:16:18.542Z"
   },
   {
    "duration": 23,
    "start_time": "2021-08-20T13:16:18.563Z"
   },
   {
    "duration": 31,
    "start_time": "2021-08-20T13:16:18.587Z"
   },
   {
    "duration": 16,
    "start_time": "2021-08-20T13:16:18.620Z"
   },
   {
    "duration": 29,
    "start_time": "2021-08-20T13:16:18.638Z"
   },
   {
    "duration": 17,
    "start_time": "2021-08-20T13:16:18.669Z"
   },
   {
    "duration": 17,
    "start_time": "2021-08-20T13:16:18.688Z"
   },
   {
    "duration": 20,
    "start_time": "2021-08-20T13:16:18.707Z"
   },
   {
    "duration": 25,
    "start_time": "2021-08-20T13:16:18.729Z"
   },
   {
    "duration": 12,
    "start_time": "2021-08-20T13:16:18.756Z"
   },
   {
    "duration": 34,
    "start_time": "2021-08-20T13:16:18.770Z"
   },
   {
    "duration": 8,
    "start_time": "2021-08-20T13:16:18.806Z"
   },
   {
    "duration": 44,
    "start_time": "2021-08-20T13:16:18.816Z"
   },
   {
    "duration": 7,
    "start_time": "2021-08-20T13:16:18.862Z"
   },
   {
    "duration": 36,
    "start_time": "2021-08-20T13:16:18.870Z"
   },
   {
    "duration": 12,
    "start_time": "2021-08-20T13:16:18.908Z"
   },
   {
    "duration": 32,
    "start_time": "2021-08-20T13:16:18.922Z"
   },
   {
    "duration": 8,
    "start_time": "2021-08-20T13:16:18.956Z"
   },
   {
    "duration": 36,
    "start_time": "2021-08-20T13:16:18.966Z"
   },
   {
    "duration": 26,
    "start_time": "2021-08-20T13:16:19.004Z"
   },
   {
    "duration": 14,
    "start_time": "2021-08-20T13:16:19.032Z"
   },
   {
    "duration": 32,
    "start_time": "2021-08-20T13:16:19.047Z"
   },
   {
    "duration": 22,
    "start_time": "2021-08-20T13:16:19.081Z"
   },
   {
    "duration": 32,
    "start_time": "2021-08-20T13:16:19.104Z"
   },
   {
    "duration": 38,
    "start_time": "2021-08-20T13:16:19.138Z"
   },
   {
    "duration": 43,
    "start_time": "2021-08-20T13:16:19.178Z"
   },
   {
    "duration": 44,
    "start_time": "2021-08-20T13:16:19.223Z"
   },
   {
    "duration": 16,
    "start_time": "2021-08-20T13:16:19.269Z"
   },
   {
    "duration": 39,
    "start_time": "2021-08-20T13:16:19.286Z"
   },
   {
    "duration": 33,
    "start_time": "2021-08-20T13:16:19.327Z"
   },
   {
    "duration": 72,
    "start_time": "2021-08-20T13:16:19.361Z"
   },
   {
    "duration": 9,
    "start_time": "2021-08-20T13:16:19.436Z"
   },
   {
    "duration": 32,
    "start_time": "2021-08-20T13:16:19.447Z"
   },
   {
    "duration": 33,
    "start_time": "2021-08-20T13:16:19.480Z"
   },
   {
    "duration": 38,
    "start_time": "2021-08-20T13:16:19.514Z"
   },
   {
    "duration": 20,
    "start_time": "2021-08-20T13:16:19.555Z"
   },
   {
    "duration": 242,
    "start_time": "2021-08-20T13:16:19.577Z"
   },
   {
    "duration": 19,
    "start_time": "2021-08-20T13:16:19.821Z"
   },
   {
    "duration": 22,
    "start_time": "2021-08-20T13:16:19.841Z"
   },
   {
    "duration": 13,
    "start_time": "2021-08-20T13:16:19.865Z"
   },
   {
    "duration": 30,
    "start_time": "2021-08-20T13:16:19.880Z"
   },
   {
    "duration": 33,
    "start_time": "2021-08-20T13:16:19.912Z"
   },
   {
    "duration": 26,
    "start_time": "2021-08-20T13:16:19.946Z"
   },
   {
    "duration": 23,
    "start_time": "2021-08-20T13:16:19.973Z"
   },
   {
    "duration": 26,
    "start_time": "2021-08-20T13:16:19.998Z"
   },
   {
    "duration": 29,
    "start_time": "2021-08-20T13:16:20.026Z"
   },
   {
    "duration": 27,
    "start_time": "2021-08-20T13:16:20.057Z"
   },
   {
    "duration": 25,
    "start_time": "2021-08-20T13:16:20.085Z"
   },
   {
    "duration": 30,
    "start_time": "2021-08-20T13:16:20.112Z"
   },
   {
    "duration": 28,
    "start_time": "2021-08-20T13:16:20.144Z"
   },
   {
    "duration": 25,
    "start_time": "2021-08-20T13:16:20.174Z"
   },
   {
    "duration": 13,
    "start_time": "2021-08-20T13:16:20.201Z"
   },
   {
    "duration": 33,
    "start_time": "2021-08-20T13:16:20.216Z"
   },
   {
    "duration": 229,
    "start_time": "2021-08-20T13:16:20.255Z"
   },
   {
    "duration": 204,
    "start_time": "2021-08-20T13:16:20.485Z"
   },
   {
    "duration": 7,
    "start_time": "2021-08-20T13:16:20.691Z"
   },
   {
    "duration": 28,
    "start_time": "2021-08-20T13:16:20.699Z"
   },
   {
    "duration": 25,
    "start_time": "2021-08-20T13:16:20.729Z"
   },
   {
    "duration": 22,
    "start_time": "2021-08-20T13:16:20.756Z"
   },
   {
    "duration": 28,
    "start_time": "2021-08-20T13:16:20.780Z"
   },
   {
    "duration": 21,
    "start_time": "2021-08-20T13:16:20.809Z"
   },
   {
    "duration": 32,
    "start_time": "2021-08-20T13:16:20.832Z"
   },
   {
    "duration": 23,
    "start_time": "2021-08-20T13:16:20.866Z"
   },
   {
    "duration": 211,
    "start_time": "2021-08-20T13:16:20.891Z"
   },
   {
    "duration": 187,
    "start_time": "2021-08-20T13:16:21.104Z"
   },
   {
    "duration": 7,
    "start_time": "2021-08-20T13:16:21.292Z"
   },
   {
    "duration": 30,
    "start_time": "2021-08-20T13:16:21.301Z"
   },
   {
    "duration": 25,
    "start_time": "2021-08-20T13:16:21.333Z"
   },
   {
    "duration": 27,
    "start_time": "2021-08-20T13:16:21.360Z"
   },
   {
    "duration": 22,
    "start_time": "2021-08-20T13:16:21.389Z"
   },
   {
    "duration": 22,
    "start_time": "2021-08-20T13:16:21.413Z"
   },
   {
    "duration": 33,
    "start_time": "2021-08-20T13:16:21.437Z"
   },
   {
    "duration": 19,
    "start_time": "2021-08-20T13:16:21.472Z"
   },
   {
    "duration": 195,
    "start_time": "2021-08-20T13:16:21.493Z"
   },
   {
    "duration": 187,
    "start_time": "2021-08-20T13:16:21.689Z"
   },
   {
    "duration": 8,
    "start_time": "2021-08-20T13:16:21.877Z"
   },
   {
    "duration": 32,
    "start_time": "2021-08-20T13:16:21.886Z"
   },
   {
    "duration": 21,
    "start_time": "2021-08-20T13:16:21.920Z"
   },
   {
    "duration": 26,
    "start_time": "2021-08-20T13:16:21.942Z"
   },
   {
    "duration": 28,
    "start_time": "2021-08-20T13:16:21.970Z"
   },
   {
    "duration": 24,
    "start_time": "2021-08-20T13:16:22.000Z"
   },
   {
    "duration": 14,
    "start_time": "2021-08-20T13:16:22.025Z"
   },
   {
    "duration": 1106,
    "start_time": "2021-08-20T14:58:21.562Z"
   },
   {
    "duration": 304,
    "start_time": "2021-08-20T14:58:22.670Z"
   },
   {
    "duration": 13,
    "start_time": "2021-08-20T14:58:22.976Z"
   },
   {
    "duration": 234,
    "start_time": "2021-08-20T14:58:22.991Z"
   },
   {
    "duration": 9,
    "start_time": "2021-08-20T14:58:23.226Z"
   },
   {
    "duration": 16,
    "start_time": "2021-08-20T14:58:23.237Z"
   },
   {
    "duration": 10,
    "start_time": "2021-08-20T14:58:23.255Z"
   },
   {
    "duration": 460,
    "start_time": "2021-08-20T14:58:23.268Z"
   },
   {
    "duration": 7,
    "start_time": "2021-08-20T14:58:23.731Z"
   },
   {
    "duration": 93,
    "start_time": "2021-08-20T14:58:23.740Z"
   },
   {
    "duration": 10,
    "start_time": "2021-08-20T14:58:23.835Z"
   },
   {
    "duration": 63,
    "start_time": "2021-08-20T14:58:23.847Z"
   },
   {
    "duration": 8,
    "start_time": "2021-08-20T14:58:23.911Z"
   },
   {
    "duration": 7,
    "start_time": "2021-08-20T14:58:23.921Z"
   },
   {
    "duration": 54,
    "start_time": "2021-08-20T14:58:23.929Z"
   },
   {
    "duration": 45,
    "start_time": "2021-08-20T14:58:23.984Z"
   },
   {
    "duration": 21,
    "start_time": "2021-08-20T14:58:24.031Z"
   },
   {
    "duration": 38,
    "start_time": "2021-08-20T14:58:24.054Z"
   },
   {
    "duration": 27,
    "start_time": "2021-08-20T14:58:24.093Z"
   },
   {
    "duration": 5,
    "start_time": "2021-08-20T14:58:24.121Z"
   },
   {
    "duration": 11,
    "start_time": "2021-08-20T14:58:24.127Z"
   },
   {
    "duration": 5,
    "start_time": "2021-08-20T14:58:24.139Z"
   },
   {
    "duration": 8,
    "start_time": "2021-08-20T14:58:24.148Z"
   },
   {
    "duration": 40,
    "start_time": "2021-08-20T14:58:24.159Z"
   },
   {
    "duration": 32,
    "start_time": "2021-08-20T14:58:24.200Z"
   },
   {
    "duration": 8,
    "start_time": "2021-08-20T14:58:24.234Z"
   },
   {
    "duration": 105,
    "start_time": "2021-08-20T14:58:24.243Z"
   },
   {
    "duration": 18,
    "start_time": "2021-08-20T14:58:24.349Z"
   },
   {
    "duration": 20,
    "start_time": "2021-08-20T14:58:24.369Z"
   },
   {
    "duration": 20,
    "start_time": "2021-08-20T14:58:24.390Z"
   },
   {
    "duration": 16,
    "start_time": "2021-08-20T14:58:24.411Z"
   },
   {
    "duration": 9,
    "start_time": "2021-08-20T14:58:24.429Z"
   },
   {
    "duration": 10,
    "start_time": "2021-08-20T14:58:24.439Z"
   },
   {
    "duration": 7,
    "start_time": "2021-08-20T14:58:24.452Z"
   },
   {
    "duration": 15,
    "start_time": "2021-08-20T14:58:24.485Z"
   },
   {
    "duration": 20,
    "start_time": "2021-08-20T14:58:24.502Z"
   },
   {
    "duration": 11,
    "start_time": "2021-08-20T14:58:24.523Z"
   },
   {
    "duration": 25,
    "start_time": "2021-08-20T14:58:24.535Z"
   },
   {
    "duration": 28,
    "start_time": "2021-08-20T14:58:24.562Z"
   },
   {
    "duration": 26,
    "start_time": "2021-08-20T14:58:24.592Z"
   },
   {
    "duration": 6,
    "start_time": "2021-08-20T14:58:24.619Z"
   },
   {
    "duration": 17,
    "start_time": "2021-08-20T14:58:24.627Z"
   },
   {
    "duration": 8,
    "start_time": "2021-08-20T14:58:24.645Z"
   },
   {
    "duration": 40,
    "start_time": "2021-08-20T14:58:24.655Z"
   },
   {
    "duration": 6,
    "start_time": "2021-08-20T14:58:24.697Z"
   },
   {
    "duration": 22,
    "start_time": "2021-08-20T14:58:24.705Z"
   },
   {
    "duration": 17,
    "start_time": "2021-08-20T14:58:24.729Z"
   },
   {
    "duration": 7,
    "start_time": "2021-08-20T14:58:24.748Z"
   },
   {
    "duration": 41,
    "start_time": "2021-08-20T14:58:24.757Z"
   },
   {
    "duration": 9,
    "start_time": "2021-08-20T14:58:24.800Z"
   },
   {
    "duration": 12,
    "start_time": "2021-08-20T14:58:24.811Z"
   },
   {
    "duration": 9,
    "start_time": "2021-08-20T14:58:24.824Z"
   },
   {
    "duration": 9,
    "start_time": "2021-08-20T14:58:24.835Z"
   },
   {
    "duration": 51,
    "start_time": "2021-08-20T14:58:24.846Z"
   },
   {
    "duration": 8,
    "start_time": "2021-08-20T14:58:24.899Z"
   },
   {
    "duration": 15,
    "start_time": "2021-08-20T14:58:24.909Z"
   },
   {
    "duration": 7,
    "start_time": "2021-08-20T14:58:24.925Z"
   },
   {
    "duration": 57,
    "start_time": "2021-08-20T14:58:24.934Z"
   },
   {
    "duration": 7,
    "start_time": "2021-08-20T14:58:24.993Z"
   },
   {
    "duration": 5,
    "start_time": "2021-08-20T14:58:25.001Z"
   },
   {
    "duration": 8,
    "start_time": "2021-08-20T14:58:25.008Z"
   },
   {
    "duration": 13,
    "start_time": "2021-08-20T14:58:25.018Z"
   },
   {
    "duration": 4,
    "start_time": "2021-08-20T14:58:25.033Z"
   },
   {
    "duration": 249,
    "start_time": "2021-08-20T14:58:25.038Z"
   },
   {
    "duration": 5,
    "start_time": "2021-08-20T14:58:25.288Z"
   },
   {
    "duration": 27,
    "start_time": "2021-08-20T14:58:25.295Z"
   },
   {
    "duration": 19,
    "start_time": "2021-08-20T14:58:25.324Z"
   },
   {
    "duration": 12,
    "start_time": "2021-08-20T14:58:25.348Z"
   },
   {
    "duration": 6,
    "start_time": "2021-08-20T14:58:25.362Z"
   },
   {
    "duration": 19,
    "start_time": "2021-08-20T14:58:25.369Z"
   },
   {
    "duration": 12,
    "start_time": "2021-08-20T14:58:25.389Z"
   },
   {
    "duration": 8,
    "start_time": "2021-08-20T14:58:25.403Z"
   },
   {
    "duration": 9,
    "start_time": "2021-08-20T14:58:25.413Z"
   },
   {
    "duration": 7,
    "start_time": "2021-08-20T14:58:25.423Z"
   },
   {
    "duration": 5,
    "start_time": "2021-08-20T14:58:25.432Z"
   },
   {
    "duration": 5,
    "start_time": "2021-08-20T14:58:25.439Z"
   },
   {
    "duration": 6,
    "start_time": "2021-08-20T14:58:25.445Z"
   },
   {
    "duration": 34,
    "start_time": "2021-08-20T14:58:25.453Z"
   },
   {
    "duration": 6,
    "start_time": "2021-08-20T14:58:25.489Z"
   },
   {
    "duration": 6,
    "start_time": "2021-08-20T14:58:25.497Z"
   },
   {
    "duration": 244,
    "start_time": "2021-08-20T14:58:25.504Z"
   },
   {
    "duration": 228,
    "start_time": "2021-08-20T14:58:25.750Z"
   },
   {
    "duration": 8,
    "start_time": "2021-08-20T14:58:25.980Z"
   },
   {
    "duration": 9,
    "start_time": "2021-08-20T14:58:25.991Z"
   },
   {
    "duration": 6,
    "start_time": "2021-08-20T14:58:26.002Z"
   },
   {
    "duration": 5,
    "start_time": "2021-08-20T14:58:26.011Z"
   },
   {
    "duration": 6,
    "start_time": "2021-08-20T14:58:26.018Z"
   },
   {
    "duration": 6,
    "start_time": "2021-08-20T14:58:26.026Z"
   },
   {
    "duration": 7,
    "start_time": "2021-08-20T14:58:26.034Z"
   },
   {
    "duration": 4,
    "start_time": "2021-08-20T14:58:26.085Z"
   },
   {
    "duration": 224,
    "start_time": "2021-08-20T14:58:26.091Z"
   },
   {
    "duration": 209,
    "start_time": "2021-08-20T14:58:26.317Z"
   },
   {
    "duration": 7,
    "start_time": "2021-08-20T14:58:26.528Z"
   },
   {
    "duration": 9,
    "start_time": "2021-08-20T14:58:26.537Z"
   },
   {
    "duration": 4,
    "start_time": "2021-08-20T14:58:26.548Z"
   },
   {
    "duration": 7,
    "start_time": "2021-08-20T14:58:26.554Z"
   },
   {
    "duration": 23,
    "start_time": "2021-08-20T14:58:26.563Z"
   },
   {
    "duration": 4,
    "start_time": "2021-08-20T14:58:26.587Z"
   },
   {
    "duration": 6,
    "start_time": "2021-08-20T14:58:26.593Z"
   },
   {
    "duration": 5,
    "start_time": "2021-08-20T14:58:26.600Z"
   },
   {
    "duration": 221,
    "start_time": "2021-08-20T14:58:26.607Z"
   },
   {
    "duration": 198,
    "start_time": "2021-08-20T14:58:26.830Z"
   },
   {
    "duration": 7,
    "start_time": "2021-08-20T14:58:27.030Z"
   },
   {
    "duration": 18,
    "start_time": "2021-08-20T14:58:27.038Z"
   },
   {
    "duration": 17,
    "start_time": "2021-08-20T14:58:27.058Z"
   },
   {
    "duration": 15,
    "start_time": "2021-08-20T14:58:27.076Z"
   },
   {
    "duration": 19,
    "start_time": "2021-08-20T14:58:27.093Z"
   },
   {
    "duration": 8,
    "start_time": "2021-08-20T14:58:27.114Z"
   },
   {
    "duration": 9,
    "start_time": "2021-08-20T14:58:27.124Z"
   },
   {
    "duration": 20,
    "start_time": "2021-08-20T15:30:32.067Z"
   },
   {
    "duration": 3,
    "start_time": "2021-08-20T15:31:22.164Z"
   },
   {
    "duration": 19,
    "start_time": "2021-08-20T15:31:22.583Z"
   },
   {
    "duration": 291,
    "start_time": "2021-08-20T17:08:17.397Z"
   },
   {
    "duration": 1184,
    "start_time": "2021-08-20T17:08:22.908Z"
   },
   {
    "duration": 317,
    "start_time": "2021-08-20T17:08:24.094Z"
   },
   {
    "duration": 13,
    "start_time": "2021-08-20T17:08:24.414Z"
   },
   {
    "duration": 290,
    "start_time": "2021-08-20T17:08:24.430Z"
   },
   {
    "duration": 9,
    "start_time": "2021-08-20T17:08:24.721Z"
   },
   {
    "duration": 392,
    "start_time": "2021-08-20T17:08:24.732Z"
   },
   {
    "duration": -166,
    "start_time": "2021-08-20T17:08:25.295Z"
   },
   {
    "duration": -174,
    "start_time": "2021-08-20T17:08:25.304Z"
   },
   {
    "duration": -179,
    "start_time": "2021-08-20T17:08:25.310Z"
   },
   {
    "duration": -184,
    "start_time": "2021-08-20T17:08:25.316Z"
   },
   {
    "duration": -190,
    "start_time": "2021-08-20T17:08:25.323Z"
   },
   {
    "duration": -197,
    "start_time": "2021-08-20T17:08:25.330Z"
   },
   {
    "duration": -201,
    "start_time": "2021-08-20T17:08:25.335Z"
   },
   {
    "duration": -205,
    "start_time": "2021-08-20T17:08:25.340Z"
   },
   {
    "duration": -212,
    "start_time": "2021-08-20T17:08:25.347Z"
   },
   {
    "duration": -217,
    "start_time": "2021-08-20T17:08:25.353Z"
   },
   {
    "duration": -221,
    "start_time": "2021-08-20T17:08:25.358Z"
   },
   {
    "duration": -225,
    "start_time": "2021-08-20T17:08:25.363Z"
   },
   {
    "duration": -230,
    "start_time": "2021-08-20T17:08:25.369Z"
   },
   {
    "duration": -245,
    "start_time": "2021-08-20T17:08:25.385Z"
   },
   {
    "duration": -323,
    "start_time": "2021-08-20T17:08:25.463Z"
   },
   {
    "duration": -335,
    "start_time": "2021-08-20T17:08:25.476Z"
   },
   {
    "duration": -355,
    "start_time": "2021-08-20T17:08:25.497Z"
   },
   {
    "duration": -361,
    "start_time": "2021-08-20T17:08:25.504Z"
   },
   {
    "duration": -367,
    "start_time": "2021-08-20T17:08:25.510Z"
   },
   {
    "duration": -372,
    "start_time": "2021-08-20T17:08:25.516Z"
   },
   {
    "duration": -375,
    "start_time": "2021-08-20T17:08:25.520Z"
   },
   {
    "duration": -379,
    "start_time": "2021-08-20T17:08:25.524Z"
   },
   {
    "duration": -381,
    "start_time": "2021-08-20T17:08:25.527Z"
   },
   {
    "duration": -383,
    "start_time": "2021-08-20T17:08:25.531Z"
   },
   {
    "duration": -386,
    "start_time": "2021-08-20T17:08:25.535Z"
   },
   {
    "duration": -388,
    "start_time": "2021-08-20T17:08:25.538Z"
   },
   {
    "duration": -391,
    "start_time": "2021-08-20T17:08:25.542Z"
   },
   {
    "duration": -394,
    "start_time": "2021-08-20T17:08:25.545Z"
   },
   {
    "duration": -397,
    "start_time": "2021-08-20T17:08:25.549Z"
   },
   {
    "duration": -400,
    "start_time": "2021-08-20T17:08:25.553Z"
   },
   {
    "duration": -403,
    "start_time": "2021-08-20T17:08:25.557Z"
   },
   {
    "duration": -406,
    "start_time": "2021-08-20T17:08:25.561Z"
   },
   {
    "duration": -409,
    "start_time": "2021-08-20T17:08:25.565Z"
   },
   {
    "duration": -412,
    "start_time": "2021-08-20T17:08:25.568Z"
   },
   {
    "duration": -416,
    "start_time": "2021-08-20T17:08:25.573Z"
   },
   {
    "duration": -419,
    "start_time": "2021-08-20T17:08:25.577Z"
   },
   {
    "duration": -422,
    "start_time": "2021-08-20T17:08:25.581Z"
   },
   {
    "duration": -425,
    "start_time": "2021-08-20T17:08:25.585Z"
   },
   {
    "duration": -428,
    "start_time": "2021-08-20T17:08:25.589Z"
   },
   {
    "duration": -431,
    "start_time": "2021-08-20T17:08:25.593Z"
   },
   {
    "duration": -449,
    "start_time": "2021-08-20T17:08:25.612Z"
   },
   {
    "duration": -453,
    "start_time": "2021-08-20T17:08:25.617Z"
   },
   {
    "duration": -456,
    "start_time": "2021-08-20T17:08:25.621Z"
   },
   {
    "duration": -458,
    "start_time": "2021-08-20T17:08:25.624Z"
   },
   {
    "duration": -461,
    "start_time": "2021-08-20T17:08:25.628Z"
   },
   {
    "duration": -464,
    "start_time": "2021-08-20T17:08:25.632Z"
   },
   {
    "duration": -466,
    "start_time": "2021-08-20T17:08:25.636Z"
   },
   {
    "duration": -468,
    "start_time": "2021-08-20T17:08:25.639Z"
   },
   {
    "duration": -470,
    "start_time": "2021-08-20T17:08:25.642Z"
   },
   {
    "duration": -473,
    "start_time": "2021-08-20T17:08:25.646Z"
   },
   {
    "duration": -477,
    "start_time": "2021-08-20T17:08:25.651Z"
   },
   {
    "duration": -480,
    "start_time": "2021-08-20T17:08:25.655Z"
   },
   {
    "duration": -484,
    "start_time": "2021-08-20T17:08:25.660Z"
   },
   {
    "duration": -487,
    "start_time": "2021-08-20T17:08:25.664Z"
   },
   {
    "duration": -490,
    "start_time": "2021-08-20T17:08:25.668Z"
   },
   {
    "duration": -492,
    "start_time": "2021-08-20T17:08:25.671Z"
   },
   {
    "duration": -495,
    "start_time": "2021-08-20T17:08:25.675Z"
   },
   {
    "duration": -438,
    "start_time": "2021-08-20T17:08:25.679Z"
   },
   {
    "duration": -441,
    "start_time": "2021-08-20T17:08:25.683Z"
   },
   {
    "duration": -445,
    "start_time": "2021-08-20T17:08:25.687Z"
   },
   {
    "duration": -447,
    "start_time": "2021-08-20T17:08:25.691Z"
   },
   {
    "duration": -450,
    "start_time": "2021-08-20T17:08:25.695Z"
   },
   {
    "duration": -453,
    "start_time": "2021-08-20T17:08:25.699Z"
   },
   {
    "duration": -456,
    "start_time": "2021-08-20T17:08:25.702Z"
   },
   {
    "duration": -459,
    "start_time": "2021-08-20T17:08:25.706Z"
   },
   {
    "duration": -577,
    "start_time": "2021-08-20T17:08:25.825Z"
   },
   {
    "duration": -793,
    "start_time": "2021-08-20T17:08:26.042Z"
   },
   {
    "duration": -796,
    "start_time": "2021-08-20T17:08:26.046Z"
   },
   {
    "duration": -800,
    "start_time": "2021-08-20T17:08:26.051Z"
   },
   {
    "duration": -803,
    "start_time": "2021-08-20T17:08:26.054Z"
   },
   {
    "duration": -807,
    "start_time": "2021-08-20T17:08:26.059Z"
   },
   {
    "duration": -811,
    "start_time": "2021-08-20T17:08:26.064Z"
   },
   {
    "duration": -814,
    "start_time": "2021-08-20T17:08:26.068Z"
   },
   {
    "duration": -817,
    "start_time": "2021-08-20T17:08:26.072Z"
   },
   {
    "duration": -834,
    "start_time": "2021-08-20T17:08:26.090Z"
   },
   {
    "duration": -837,
    "start_time": "2021-08-20T17:08:26.094Z"
   },
   {
    "duration": -841,
    "start_time": "2021-08-20T17:08:26.098Z"
   },
   {
    "duration": -843,
    "start_time": "2021-08-20T17:08:26.101Z"
   },
   {
    "duration": -846,
    "start_time": "2021-08-20T17:08:26.105Z"
   },
   {
    "duration": -848,
    "start_time": "2021-08-20T17:08:26.108Z"
   },
   {
    "duration": -851,
    "start_time": "2021-08-20T17:08:26.112Z"
   },
   {
    "duration": -853,
    "start_time": "2021-08-20T17:08:26.115Z"
   },
   {
    "duration": -857,
    "start_time": "2021-08-20T17:08:26.119Z"
   },
   {
    "duration": -860,
    "start_time": "2021-08-20T17:08:26.123Z"
   },
   {
    "duration": -863,
    "start_time": "2021-08-20T17:08:26.127Z"
   },
   {
    "duration": -866,
    "start_time": "2021-08-20T17:08:26.131Z"
   },
   {
    "duration": -869,
    "start_time": "2021-08-20T17:08:26.135Z"
   },
   {
    "duration": -872,
    "start_time": "2021-08-20T17:08:26.139Z"
   },
   {
    "duration": -873,
    "start_time": "2021-08-20T17:08:26.142Z"
   },
   {
    "duration": -876,
    "start_time": "2021-08-20T17:08:26.146Z"
   },
   {
    "duration": -879,
    "start_time": "2021-08-20T17:08:26.150Z"
   },
   {
    "duration": -881,
    "start_time": "2021-08-20T17:08:26.153Z"
   },
   {
    "duration": -885,
    "start_time": "2021-08-20T17:08:26.158Z"
   },
   {
    "duration": -888,
    "start_time": "2021-08-20T17:08:26.162Z"
   },
   {
    "duration": -892,
    "start_time": "2021-08-20T17:08:26.167Z"
   },
   {
    "duration": -831,
    "start_time": "2021-08-20T17:08:26.171Z"
   },
   {
    "duration": -833,
    "start_time": "2021-08-20T17:08:26.175Z"
   },
   {
    "duration": -836,
    "start_time": "2021-08-20T17:08:26.179Z"
   },
   {
    "duration": -840,
    "start_time": "2021-08-20T17:08:26.184Z"
   },
   {
    "duration": -844,
    "start_time": "2021-08-20T17:08:26.189Z"
   },
   {
    "duration": -865,
    "start_time": "2021-08-20T17:08:26.210Z"
   },
   {
    "duration": -869,
    "start_time": "2021-08-20T17:08:26.215Z"
   },
   {
    "duration": -872,
    "start_time": "2021-08-20T17:08:26.219Z"
   },
   {
    "duration": 90,
    "start_time": "2021-08-20T17:09:10.920Z"
   },
   {
    "duration": 5,
    "start_time": "2021-08-20T17:10:12.185Z"
   },
   {
    "duration": 1127,
    "start_time": "2021-08-20T17:10:18.602Z"
   },
   {
    "duration": 332,
    "start_time": "2021-08-20T17:10:19.731Z"
   },
   {
    "duration": 12,
    "start_time": "2021-08-20T17:10:20.067Z"
   },
   {
    "duration": 360,
    "start_time": "2021-08-20T17:10:20.081Z"
   },
   {
    "duration": 7,
    "start_time": "2021-08-20T17:10:20.443Z"
   },
   {
    "duration": 11,
    "start_time": "2021-08-20T17:10:20.452Z"
   },
   {
    "duration": 180,
    "start_time": "2021-08-20T17:10:20.466Z"
   },
   {
    "duration": 7,
    "start_time": "2021-08-20T17:10:20.648Z"
   },
   {
    "duration": 50,
    "start_time": "2021-08-20T17:10:20.656Z"
   },
   {
    "duration": 10,
    "start_time": "2021-08-20T17:10:20.708Z"
   },
   {
    "duration": 63,
    "start_time": "2021-08-20T17:10:20.719Z"
   },
   {
    "duration": 9,
    "start_time": "2021-08-20T17:10:20.784Z"
   },
   {
    "duration": 5,
    "start_time": "2021-08-20T17:10:20.795Z"
   },
   {
    "duration": 60,
    "start_time": "2021-08-20T17:10:20.802Z"
   },
   {
    "duration": 46,
    "start_time": "2021-08-20T17:10:20.864Z"
   },
   {
    "duration": 35,
    "start_time": "2021-08-20T17:10:20.913Z"
   },
   {
    "duration": 20,
    "start_time": "2021-08-20T17:10:20.950Z"
   },
   {
    "duration": 28,
    "start_time": "2021-08-20T17:10:20.972Z"
   },
   {
    "duration": 6,
    "start_time": "2021-08-20T17:10:21.002Z"
   },
   {
    "duration": 9,
    "start_time": "2021-08-20T17:10:21.010Z"
   },
   {
    "duration": 25,
    "start_time": "2021-08-20T17:10:21.021Z"
   },
   {
    "duration": 9,
    "start_time": "2021-08-20T17:10:21.050Z"
   },
   {
    "duration": 25,
    "start_time": "2021-08-20T17:10:21.061Z"
   },
   {
    "duration": 25,
    "start_time": "2021-08-20T17:10:21.088Z"
   },
   {
    "duration": 32,
    "start_time": "2021-08-20T17:10:21.114Z"
   },
   {
    "duration": 4,
    "start_time": "2021-08-20T17:10:21.148Z"
   },
   {
    "duration": 18,
    "start_time": "2021-08-20T17:10:21.154Z"
   },
   {
    "duration": 8,
    "start_time": "2021-08-20T17:10:21.174Z"
   },
   {
    "duration": 20,
    "start_time": "2021-08-20T17:10:21.184Z"
   },
   {
    "duration": 36,
    "start_time": "2021-08-20T17:10:21.206Z"
   },
   {
    "duration": 9,
    "start_time": "2021-08-20T17:10:21.244Z"
   },
   {
    "duration": 10,
    "start_time": "2021-08-20T17:10:21.254Z"
   },
   {
    "duration": 8,
    "start_time": "2021-08-20T17:10:21.265Z"
   },
   {
    "duration": 19,
    "start_time": "2021-08-20T17:10:21.274Z"
   },
   {
    "duration": 21,
    "start_time": "2021-08-20T17:10:21.295Z"
   },
   {
    "duration": 29,
    "start_time": "2021-08-20T17:10:21.318Z"
   },
   {
    "duration": 32,
    "start_time": "2021-08-20T17:10:21.349Z"
   },
   {
    "duration": 8,
    "start_time": "2021-08-20T17:10:21.383Z"
   },
   {
    "duration": 31,
    "start_time": "2021-08-20T17:10:21.393Z"
   },
   {
    "duration": 19,
    "start_time": "2021-08-20T17:10:21.426Z"
   },
   {
    "duration": 40,
    "start_time": "2021-08-20T17:10:21.446Z"
   },
   {
    "duration": 8,
    "start_time": "2021-08-20T17:10:21.488Z"
   },
   {
    "duration": 22,
    "start_time": "2021-08-20T17:10:21.498Z"
   },
   {
    "duration": 7,
    "start_time": "2021-08-20T17:10:21.522Z"
   },
   {
    "duration": 20,
    "start_time": "2021-08-20T17:10:21.530Z"
   },
   {
    "duration": 16,
    "start_time": "2021-08-20T17:10:21.552Z"
   },
   {
    "duration": 7,
    "start_time": "2021-08-20T17:10:21.569Z"
   },
   {
    "duration": 15,
    "start_time": "2021-08-20T17:10:21.578Z"
   },
   {
    "duration": 9,
    "start_time": "2021-08-20T17:10:21.594Z"
   },
   {
    "duration": 37,
    "start_time": "2021-08-20T17:10:21.605Z"
   },
   {
    "duration": 9,
    "start_time": "2021-08-20T17:10:21.644Z"
   },
   {
    "duration": 9,
    "start_time": "2021-08-20T17:10:21.655Z"
   },
   {
    "duration": 19,
    "start_time": "2021-08-20T17:10:21.665Z"
   },
   {
    "duration": 9,
    "start_time": "2021-08-20T17:10:21.685Z"
   },
   {
    "duration": 15,
    "start_time": "2021-08-20T17:10:21.695Z"
   },
   {
    "duration": 34,
    "start_time": "2021-08-20T17:10:21.712Z"
   },
   {
    "duration": 21,
    "start_time": "2021-08-20T17:10:21.748Z"
   },
   {
    "duration": 8,
    "start_time": "2021-08-20T17:10:21.770Z"
   },
   {
    "duration": 5,
    "start_time": "2021-08-20T17:10:21.780Z"
   },
   {
    "duration": 9,
    "start_time": "2021-08-20T17:10:21.787Z"
   },
   {
    "duration": 44,
    "start_time": "2021-08-20T17:10:21.798Z"
   },
   {
    "duration": 4,
    "start_time": "2021-08-20T17:10:21.843Z"
   },
   {
    "duration": 215,
    "start_time": "2021-08-20T17:10:21.849Z"
   },
   {
    "duration": 8,
    "start_time": "2021-08-20T17:10:22.065Z"
   },
   {
    "duration": 23,
    "start_time": "2021-08-20T17:10:22.075Z"
   },
   {
    "duration": 8,
    "start_time": "2021-08-20T17:10:22.099Z"
   },
   {
    "duration": 28,
    "start_time": "2021-08-20T17:10:22.113Z"
   },
   {
    "duration": 4,
    "start_time": "2021-08-20T17:10:22.143Z"
   },
   {
    "duration": 8,
    "start_time": "2021-08-20T17:10:22.148Z"
   },
   {
    "duration": 8,
    "start_time": "2021-08-20T17:10:22.158Z"
   },
   {
    "duration": 9,
    "start_time": "2021-08-20T17:10:22.168Z"
   },
   {
    "duration": 6,
    "start_time": "2021-08-20T17:10:22.179Z"
   },
   {
    "duration": 11,
    "start_time": "2021-08-20T17:10:22.186Z"
   },
   {
    "duration": 7,
    "start_time": "2021-08-20T17:10:22.199Z"
   },
   {
    "duration": 13,
    "start_time": "2021-08-20T17:10:22.207Z"
   },
   {
    "duration": 4,
    "start_time": "2021-08-20T17:10:22.241Z"
   },
   {
    "duration": 7,
    "start_time": "2021-08-20T17:10:22.247Z"
   },
   {
    "duration": 6,
    "start_time": "2021-08-20T17:10:22.255Z"
   },
   {
    "duration": 7,
    "start_time": "2021-08-20T17:10:22.263Z"
   },
   {
    "duration": 217,
    "start_time": "2021-08-20T17:10:22.271Z"
   },
   {
    "duration": 211,
    "start_time": "2021-08-20T17:10:22.490Z"
   },
   {
    "duration": 7,
    "start_time": "2021-08-20T17:10:22.703Z"
   },
   {
    "duration": 8,
    "start_time": "2021-08-20T17:10:22.711Z"
   },
   {
    "duration": 21,
    "start_time": "2021-08-20T17:10:22.721Z"
   },
   {
    "duration": 4,
    "start_time": "2021-08-20T17:10:22.743Z"
   },
   {
    "duration": 7,
    "start_time": "2021-08-20T17:10:22.749Z"
   },
   {
    "duration": 5,
    "start_time": "2021-08-20T17:10:22.758Z"
   },
   {
    "duration": 17,
    "start_time": "2021-08-20T17:10:22.765Z"
   },
   {
    "duration": 7,
    "start_time": "2021-08-20T17:10:22.784Z"
   },
   {
    "duration": 201,
    "start_time": "2021-08-20T17:10:22.793Z"
   },
   {
    "duration": 201,
    "start_time": "2021-08-20T17:10:22.995Z"
   },
   {
    "duration": 7,
    "start_time": "2021-08-20T17:10:23.198Z"
   },
   {
    "duration": 9,
    "start_time": "2021-08-20T17:10:23.206Z"
   },
   {
    "duration": 5,
    "start_time": "2021-08-20T17:10:23.216Z"
   },
   {
    "duration": 20,
    "start_time": "2021-08-20T17:10:23.222Z"
   },
   {
    "duration": 5,
    "start_time": "2021-08-20T17:10:23.243Z"
   },
   {
    "duration": 7,
    "start_time": "2021-08-20T17:10:23.249Z"
   },
   {
    "duration": 6,
    "start_time": "2021-08-20T17:10:23.258Z"
   },
   {
    "duration": 7,
    "start_time": "2021-08-20T17:10:23.266Z"
   },
   {
    "duration": 214,
    "start_time": "2021-08-20T17:10:23.275Z"
   },
   {
    "duration": 193,
    "start_time": "2021-08-20T17:10:23.491Z"
   },
   {
    "duration": 10,
    "start_time": "2021-08-20T17:10:23.686Z"
   },
   {
    "duration": 3,
    "start_time": "2021-08-20T17:10:23.697Z"
   },
   {
    "duration": 8,
    "start_time": "2021-08-20T17:10:23.701Z"
   },
   {
    "duration": 7,
    "start_time": "2021-08-20T17:10:23.711Z"
   },
   {
    "duration": 8,
    "start_time": "2021-08-20T17:10:23.741Z"
   },
   {
    "duration": 5,
    "start_time": "2021-08-20T17:10:23.751Z"
   },
   {
    "duration": 7,
    "start_time": "2021-08-20T17:10:23.758Z"
   },
   {
    "duration": 4,
    "start_time": "2021-08-20T17:12:50.954Z"
   },
   {
    "duration": 221,
    "start_time": "2021-08-20T17:12:53.082Z"
   },
   {
    "duration": 1030,
    "start_time": "2021-08-20T17:13:40.196Z"
   },
   {
    "duration": 266,
    "start_time": "2021-08-20T17:13:41.228Z"
   },
   {
    "duration": 11,
    "start_time": "2021-08-20T17:13:41.496Z"
   },
   {
    "duration": 256,
    "start_time": "2021-08-20T17:13:41.509Z"
   },
   {
    "duration": 8,
    "start_time": "2021-08-20T17:13:41.767Z"
   },
   {
    "duration": 12,
    "start_time": "2021-08-20T17:13:41.777Z"
   },
   {
    "duration": 173,
    "start_time": "2021-08-20T17:13:41.791Z"
   },
   {
    "duration": 8,
    "start_time": "2021-08-20T17:13:41.966Z"
   },
   {
    "duration": 47,
    "start_time": "2021-08-20T17:13:41.976Z"
   },
   {
    "duration": 9,
    "start_time": "2021-08-20T17:13:42.025Z"
   },
   {
    "duration": 44,
    "start_time": "2021-08-20T17:13:42.036Z"
   },
   {
    "duration": 8,
    "start_time": "2021-08-20T17:13:42.081Z"
   },
   {
    "duration": 24,
    "start_time": "2021-08-20T17:13:42.091Z"
   },
   {
    "duration": 66,
    "start_time": "2021-08-20T17:13:42.117Z"
   },
   {
    "duration": 45,
    "start_time": "2021-08-20T17:13:42.185Z"
   },
   {
    "duration": 30,
    "start_time": "2021-08-20T17:13:42.231Z"
   },
   {
    "duration": 19,
    "start_time": "2021-08-20T17:13:42.263Z"
   },
   {
    "duration": 27,
    "start_time": "2021-08-20T17:13:42.284Z"
   },
   {
    "duration": 28,
    "start_time": "2021-08-20T17:13:42.313Z"
   },
   {
    "duration": 4,
    "start_time": "2021-08-20T17:13:42.343Z"
   },
   {
    "duration": 7,
    "start_time": "2021-08-20T17:13:42.348Z"
   },
   {
    "duration": 9,
    "start_time": "2021-08-20T17:13:42.357Z"
   },
   {
    "duration": 20,
    "start_time": "2021-08-20T17:13:42.370Z"
   },
   {
    "duration": 49,
    "start_time": "2021-08-20T17:13:42.393Z"
   },
   {
    "duration": 8,
    "start_time": "2021-08-20T17:13:42.443Z"
   },
   {
    "duration": 4,
    "start_time": "2021-08-20T17:13:42.453Z"
   },
   {
    "duration": 15,
    "start_time": "2021-08-20T17:13:42.458Z"
   },
   {
    "duration": 8,
    "start_time": "2021-08-20T17:13:42.475Z"
   },
   {
    "duration": 20,
    "start_time": "2021-08-20T17:13:42.484Z"
   },
   {
    "duration": 40,
    "start_time": "2021-08-20T17:13:42.506Z"
   },
   {
    "duration": 17,
    "start_time": "2021-08-20T17:13:42.548Z"
   },
   {
    "duration": 7,
    "start_time": "2021-08-20T17:13:42.567Z"
   },
   {
    "duration": 8,
    "start_time": "2021-08-20T17:13:42.576Z"
   },
   {
    "duration": 17,
    "start_time": "2021-08-20T17:13:42.586Z"
   },
   {
    "duration": 18,
    "start_time": "2021-08-20T17:13:42.604Z"
   },
   {
    "duration": 10,
    "start_time": "2021-08-20T17:13:42.641Z"
   },
   {
    "duration": 24,
    "start_time": "2021-08-20T17:13:42.653Z"
   },
   {
    "duration": 8,
    "start_time": "2021-08-20T17:13:42.679Z"
   },
   {
    "duration": 24,
    "start_time": "2021-08-20T17:13:42.689Z"
   },
   {
    "duration": 29,
    "start_time": "2021-08-20T17:13:42.715Z"
   },
   {
    "duration": 17,
    "start_time": "2021-08-20T17:13:42.746Z"
   },
   {
    "duration": 8,
    "start_time": "2021-08-20T17:13:42.765Z"
   },
   {
    "duration": 17,
    "start_time": "2021-08-20T17:13:42.775Z"
   },
   {
    "duration": 6,
    "start_time": "2021-08-20T17:13:42.794Z"
   },
   {
    "duration": 49,
    "start_time": "2021-08-20T17:13:42.802Z"
   },
   {
    "duration": 15,
    "start_time": "2021-08-20T17:13:42.853Z"
   },
   {
    "duration": 7,
    "start_time": "2021-08-20T17:13:42.869Z"
   },
   {
    "duration": 14,
    "start_time": "2021-08-20T17:13:42.878Z"
   },
   {
    "duration": 9,
    "start_time": "2021-08-20T17:13:42.894Z"
   },
   {
    "duration": 37,
    "start_time": "2021-08-20T17:13:42.905Z"
   },
   {
    "duration": 8,
    "start_time": "2021-08-20T17:13:42.944Z"
   },
   {
    "duration": 10,
    "start_time": "2021-08-20T17:13:42.954Z"
   },
   {
    "duration": 18,
    "start_time": "2021-08-20T17:13:42.965Z"
   },
   {
    "duration": 9,
    "start_time": "2021-08-20T17:13:42.985Z"
   },
   {
    "duration": 17,
    "start_time": "2021-08-20T17:13:42.995Z"
   },
   {
    "duration": 9,
    "start_time": "2021-08-20T17:13:43.041Z"
   },
   {
    "duration": 23,
    "start_time": "2021-08-20T17:13:43.051Z"
   },
   {
    "duration": 6,
    "start_time": "2021-08-20T17:13:43.076Z"
   },
   {
    "duration": 7,
    "start_time": "2021-08-20T17:13:43.084Z"
   },
   {
    "duration": 10,
    "start_time": "2021-08-20T17:13:43.093Z"
   },
   {
    "duration": 37,
    "start_time": "2021-08-20T17:13:43.105Z"
   },
   {
    "duration": 3,
    "start_time": "2021-08-20T17:13:43.144Z"
   },
   {
    "duration": 218,
    "start_time": "2021-08-20T17:13:43.149Z"
   },
   {
    "duration": 8,
    "start_time": "2021-08-20T17:13:43.369Z"
   },
   {
    "duration": 22,
    "start_time": "2021-08-20T17:13:43.378Z"
   },
   {
    "duration": 7,
    "start_time": "2021-08-20T17:13:43.402Z"
   },
   {
    "duration": 7,
    "start_time": "2021-08-20T17:13:43.411Z"
   },
   {
    "duration": 4,
    "start_time": "2021-08-20T17:13:43.440Z"
   },
   {
    "duration": 18,
    "start_time": "2021-08-20T17:13:43.446Z"
   },
   {
    "duration": 10,
    "start_time": "2021-08-20T17:13:43.465Z"
   },
   {
    "duration": 12,
    "start_time": "2021-08-20T17:13:43.477Z"
   },
   {
    "duration": 8,
    "start_time": "2021-08-20T17:13:43.490Z"
   },
   {
    "duration": 8,
    "start_time": "2021-08-20T17:13:43.499Z"
   },
   {
    "duration": 7,
    "start_time": "2021-08-20T17:13:43.509Z"
   },
   {
    "duration": 6,
    "start_time": "2021-08-20T17:13:43.518Z"
   },
   {
    "duration": 4,
    "start_time": "2021-08-20T17:13:43.541Z"
   },
   {
    "duration": 8,
    "start_time": "2021-08-20T17:13:43.547Z"
   },
   {
    "duration": 7,
    "start_time": "2021-08-20T17:13:43.556Z"
   },
   {
    "duration": 6,
    "start_time": "2021-08-20T17:13:43.564Z"
   },
   {
    "duration": 327,
    "start_time": "2021-08-20T17:13:43.572Z"
   },
   {
    "duration": 206,
    "start_time": "2021-08-20T17:13:43.901Z"
   },
   {
    "duration": 7,
    "start_time": "2021-08-20T17:13:44.109Z"
   },
   {
    "duration": 12,
    "start_time": "2021-08-20T17:13:44.118Z"
   },
   {
    "duration": 5,
    "start_time": "2021-08-20T17:13:44.141Z"
   },
   {
    "duration": 9,
    "start_time": "2021-08-20T17:13:44.148Z"
   },
   {
    "duration": 10,
    "start_time": "2021-08-20T17:13:44.159Z"
   },
   {
    "duration": 17,
    "start_time": "2021-08-20T17:13:44.171Z"
   },
   {
    "duration": 17,
    "start_time": "2021-08-20T17:13:44.190Z"
   },
   {
    "duration": 16,
    "start_time": "2021-08-20T17:13:44.209Z"
   },
   {
    "duration": 208,
    "start_time": "2021-08-20T17:13:44.227Z"
   },
   {
    "duration": 189,
    "start_time": "2021-08-20T17:13:44.440Z"
   },
   {
    "duration": 14,
    "start_time": "2021-08-20T17:13:44.630Z"
   },
   {
    "duration": 7,
    "start_time": "2021-08-20T17:13:44.646Z"
   },
   {
    "duration": 9,
    "start_time": "2021-08-20T17:13:44.655Z"
   },
   {
    "duration": 5,
    "start_time": "2021-08-20T17:13:44.665Z"
   },
   {
    "duration": 12,
    "start_time": "2021-08-20T17:13:44.672Z"
   },
   {
    "duration": 6,
    "start_time": "2021-08-20T17:13:44.686Z"
   },
   {
    "duration": 6,
    "start_time": "2021-08-20T17:13:44.693Z"
   },
   {
    "duration": 7,
    "start_time": "2021-08-20T17:13:44.701Z"
   },
   {
    "duration": 213,
    "start_time": "2021-08-20T17:13:44.709Z"
   },
   {
    "duration": 190,
    "start_time": "2021-08-20T17:13:44.924Z"
   },
   {
    "duration": 8,
    "start_time": "2021-08-20T17:13:45.116Z"
   },
   {
    "duration": 12,
    "start_time": "2021-08-20T17:13:45.125Z"
   },
   {
    "duration": 6,
    "start_time": "2021-08-20T17:13:45.141Z"
   },
   {
    "duration": 17,
    "start_time": "2021-08-20T17:13:45.148Z"
   },
   {
    "duration": 11,
    "start_time": "2021-08-20T17:13:45.166Z"
   },
   {
    "duration": 6,
    "start_time": "2021-08-20T17:13:45.179Z"
   },
   {
    "duration": 7,
    "start_time": "2021-08-20T17:13:45.187Z"
   },
   {
    "duration": 3,
    "start_time": "2021-08-20T17:16:12.944Z"
   },
   {
    "duration": 19,
    "start_time": "2021-08-20T17:16:15.508Z"
   },
   {
    "duration": 1081,
    "start_time": "2021-08-20T17:25:38.647Z"
   },
   {
    "duration": 337,
    "start_time": "2021-08-20T17:25:39.730Z"
   },
   {
    "duration": 12,
    "start_time": "2021-08-20T17:25:40.069Z"
   },
   {
    "duration": 296,
    "start_time": "2021-08-20T17:25:40.082Z"
   },
   {
    "duration": 8,
    "start_time": "2021-08-20T17:25:40.380Z"
   },
   {
    "duration": 25,
    "start_time": "2021-08-20T17:25:40.390Z"
   },
   {
    "duration": 183,
    "start_time": "2021-08-20T17:25:40.416Z"
   },
   {
    "duration": 7,
    "start_time": "2021-08-20T17:25:40.602Z"
   },
   {
    "duration": 54,
    "start_time": "2021-08-20T17:25:40.611Z"
   },
   {
    "duration": 9,
    "start_time": "2021-08-20T17:25:40.666Z"
   },
   {
    "duration": 54,
    "start_time": "2021-08-20T17:25:40.677Z"
   },
   {
    "duration": 7,
    "start_time": "2021-08-20T17:25:40.733Z"
   },
   {
    "duration": 16,
    "start_time": "2021-08-20T17:25:40.742Z"
   },
   {
    "duration": 63,
    "start_time": "2021-08-20T17:25:40.759Z"
   },
   {
    "duration": 43,
    "start_time": "2021-08-20T17:25:40.823Z"
   },
   {
    "duration": 19,
    "start_time": "2021-08-20T17:25:40.868Z"
   },
   {
    "duration": 17,
    "start_time": "2021-08-20T17:25:40.889Z"
   },
   {
    "duration": 47,
    "start_time": "2021-08-20T17:25:40.908Z"
   },
   {
    "duration": 5,
    "start_time": "2021-08-20T17:25:40.956Z"
   },
   {
    "duration": 12,
    "start_time": "2021-08-20T17:25:40.962Z"
   },
   {
    "duration": 18,
    "start_time": "2021-08-20T17:25:40.976Z"
   },
   {
    "duration": 16,
    "start_time": "2021-08-20T17:25:40.995Z"
   },
   {
    "duration": 35,
    "start_time": "2021-08-20T17:25:41.015Z"
   },
   {
    "duration": 29,
    "start_time": "2021-08-20T17:25:41.052Z"
   },
   {
    "duration": 8,
    "start_time": "2021-08-20T17:25:41.083Z"
   },
   {
    "duration": 16,
    "start_time": "2021-08-20T17:25:41.092Z"
   },
   {
    "duration": 21,
    "start_time": "2021-08-20T17:25:41.110Z"
   },
   {
    "duration": 9,
    "start_time": "2021-08-20T17:25:41.133Z"
   },
   {
    "duration": 38,
    "start_time": "2021-08-20T17:25:41.144Z"
   },
   {
    "duration": 16,
    "start_time": "2021-08-20T17:25:41.184Z"
   },
   {
    "duration": 35,
    "start_time": "2021-08-20T17:25:41.201Z"
   },
   {
    "duration": 20,
    "start_time": "2021-08-20T17:25:41.237Z"
   },
   {
    "duration": 13,
    "start_time": "2021-08-20T17:25:41.259Z"
   },
   {
    "duration": 31,
    "start_time": "2021-08-20T17:25:41.273Z"
   },
   {
    "duration": 23,
    "start_time": "2021-08-20T17:25:41.306Z"
   },
   {
    "duration": 10,
    "start_time": "2021-08-20T17:25:41.330Z"
   },
   {
    "duration": 34,
    "start_time": "2021-08-20T17:25:41.342Z"
   },
   {
    "duration": 9,
    "start_time": "2021-08-20T17:25:41.378Z"
   },
   {
    "duration": 33,
    "start_time": "2021-08-20T17:25:41.388Z"
   },
   {
    "duration": 8,
    "start_time": "2021-08-20T17:25:41.423Z"
   },
   {
    "duration": 18,
    "start_time": "2021-08-20T17:25:41.433Z"
   },
   {
    "duration": 8,
    "start_time": "2021-08-20T17:25:41.452Z"
   },
   {
    "duration": 16,
    "start_time": "2021-08-20T17:25:41.461Z"
   },
   {
    "duration": 6,
    "start_time": "2021-08-20T17:25:41.478Z"
   },
   {
    "duration": 22,
    "start_time": "2021-08-20T17:25:41.486Z"
   },
   {
    "duration": 39,
    "start_time": "2021-08-20T17:25:41.510Z"
   },
   {
    "duration": 6,
    "start_time": "2021-08-20T17:25:41.551Z"
   },
   {
    "duration": 20,
    "start_time": "2021-08-20T17:25:41.559Z"
   },
   {
    "duration": 8,
    "start_time": "2021-08-20T17:25:41.581Z"
   },
   {
    "duration": 18,
    "start_time": "2021-08-20T17:25:41.591Z"
   },
   {
    "duration": 13,
    "start_time": "2021-08-20T17:25:41.610Z"
   },
   {
    "duration": 27,
    "start_time": "2021-08-20T17:25:41.625Z"
   },
   {
    "duration": 21,
    "start_time": "2021-08-20T17:25:41.653Z"
   },
   {
    "duration": 11,
    "start_time": "2021-08-20T17:25:41.676Z"
   },
   {
    "duration": 19,
    "start_time": "2021-08-20T17:25:41.689Z"
   },
   {
    "duration": 36,
    "start_time": "2021-08-20T17:25:41.710Z"
   },
   {
    "duration": 28,
    "start_time": "2021-08-20T17:25:41.748Z"
   },
   {
    "duration": 8,
    "start_time": "2021-08-20T17:25:41.778Z"
   },
   {
    "duration": 7,
    "start_time": "2021-08-20T17:25:41.788Z"
   },
   {
    "duration": 11,
    "start_time": "2021-08-20T17:25:41.797Z"
   },
   {
    "duration": 40,
    "start_time": "2021-08-20T17:25:41.810Z"
   },
   {
    "duration": 4,
    "start_time": "2021-08-20T17:25:41.851Z"
   },
   {
    "duration": 220,
    "start_time": "2021-08-20T17:25:41.857Z"
   },
   {
    "duration": 8,
    "start_time": "2021-08-20T17:25:42.079Z"
   },
   {
    "duration": 9,
    "start_time": "2021-08-20T17:25:42.089Z"
   },
   {
    "duration": 24,
    "start_time": "2021-08-20T17:25:42.100Z"
   },
   {
    "duration": 16,
    "start_time": "2021-08-20T17:25:42.126Z"
   },
   {
    "duration": 7,
    "start_time": "2021-08-20T17:25:42.147Z"
   },
   {
    "duration": 7,
    "start_time": "2021-08-20T17:25:42.156Z"
   },
   {
    "duration": 6,
    "start_time": "2021-08-20T17:25:42.164Z"
   },
   {
    "duration": 8,
    "start_time": "2021-08-20T17:25:42.171Z"
   },
   {
    "duration": 16,
    "start_time": "2021-08-20T17:25:42.180Z"
   },
   {
    "duration": 6,
    "start_time": "2021-08-20T17:25:42.198Z"
   },
   {
    "duration": 8,
    "start_time": "2021-08-20T17:25:42.205Z"
   },
   {
    "duration": 4,
    "start_time": "2021-08-20T17:25:42.241Z"
   },
   {
    "duration": 7,
    "start_time": "2021-08-20T17:25:42.247Z"
   },
   {
    "duration": 6,
    "start_time": "2021-08-20T17:25:42.256Z"
   },
   {
    "duration": 6,
    "start_time": "2021-08-20T17:25:42.263Z"
   },
   {
    "duration": 6,
    "start_time": "2021-08-20T17:25:42.271Z"
   },
   {
    "duration": 6,
    "start_time": "2021-08-20T17:25:42.279Z"
   },
   {
    "duration": 242,
    "start_time": "2021-08-20T17:25:42.287Z"
   },
   {
    "duration": 204,
    "start_time": "2021-08-20T17:25:42.532Z"
   },
   {
    "duration": 8,
    "start_time": "2021-08-20T17:25:42.737Z"
   },
   {
    "duration": 9,
    "start_time": "2021-08-20T17:25:42.747Z"
   },
   {
    "duration": 6,
    "start_time": "2021-08-20T17:25:42.758Z"
   },
   {
    "duration": 12,
    "start_time": "2021-08-20T17:25:42.765Z"
   },
   {
    "duration": 17,
    "start_time": "2021-08-20T17:25:42.778Z"
   },
   {
    "duration": 5,
    "start_time": "2021-08-20T17:25:42.797Z"
   },
   {
    "duration": 7,
    "start_time": "2021-08-20T17:25:42.804Z"
   },
   {
    "duration": 9,
    "start_time": "2021-08-20T17:25:42.812Z"
   },
   {
    "duration": 212,
    "start_time": "2021-08-20T17:25:42.822Z"
   },
   {
    "duration": 195,
    "start_time": "2021-08-20T17:25:43.035Z"
   },
   {
    "duration": 13,
    "start_time": "2021-08-20T17:25:43.231Z"
   },
   {
    "duration": 12,
    "start_time": "2021-08-20T17:25:43.245Z"
   },
   {
    "duration": 7,
    "start_time": "2021-08-20T17:25:43.258Z"
   },
   {
    "duration": 8,
    "start_time": "2021-08-20T17:25:43.266Z"
   },
   {
    "duration": 6,
    "start_time": "2021-08-20T17:25:43.276Z"
   },
   {
    "duration": 6,
    "start_time": "2021-08-20T17:25:43.283Z"
   },
   {
    "duration": 11,
    "start_time": "2021-08-20T17:25:43.291Z"
   },
   {
    "duration": 6,
    "start_time": "2021-08-20T17:25:43.304Z"
   },
   {
    "duration": 218,
    "start_time": "2021-08-20T17:25:43.311Z"
   },
   {
    "duration": 189,
    "start_time": "2021-08-20T17:25:43.530Z"
   },
   {
    "duration": 8,
    "start_time": "2021-08-20T17:25:43.720Z"
   },
   {
    "duration": 12,
    "start_time": "2021-08-20T17:25:43.729Z"
   },
   {
    "duration": 5,
    "start_time": "2021-08-20T17:25:43.742Z"
   },
   {
    "duration": 9,
    "start_time": "2021-08-20T17:25:43.748Z"
   },
   {
    "duration": 16,
    "start_time": "2021-08-20T17:25:43.759Z"
   },
   {
    "duration": 8,
    "start_time": "2021-08-20T17:25:43.777Z"
   },
   {
    "duration": 8,
    "start_time": "2021-08-20T17:25:43.787Z"
   },
   {
    "duration": 89,
    "start_time": "2021-08-20T17:26:03.702Z"
   },
   {
    "duration": 81,
    "start_time": "2021-08-20T17:27:17.982Z"
   },
   {
    "duration": 8,
    "start_time": "2021-08-20T17:28:08.059Z"
   },
   {
    "duration": 1389,
    "start_time": "2021-08-20T17:28:31.179Z"
   },
   {
    "duration": 25,
    "start_time": "2021-08-20T17:32:11.474Z"
   },
   {
    "duration": 491,
    "start_time": "2021-08-20T17:33:00.953Z"
   },
   {
    "duration": 556,
    "start_time": "2021-08-20T17:33:11.388Z"
   },
   {
    "duration": 249,
    "start_time": "2021-08-20T17:37:46.140Z"
   },
   {
    "duration": 9,
    "start_time": "2021-08-20T17:38:38.689Z"
   },
   {
    "duration": 9,
    "start_time": "2021-08-20T17:38:52.392Z"
   },
   {
    "duration": 7,
    "start_time": "2021-08-20T17:38:56.198Z"
   },
   {
    "duration": 267,
    "start_time": "2021-08-20T17:38:58.944Z"
   },
   {
    "duration": 9,
    "start_time": "2021-08-20T17:39:01.678Z"
   },
   {
    "duration": 1111,
    "start_time": "2021-08-20T17:39:11.117Z"
   },
   {
    "duration": 408,
    "start_time": "2021-08-20T17:39:12.230Z"
   },
   {
    "duration": 12,
    "start_time": "2021-08-20T17:39:12.642Z"
   },
   {
    "duration": 312,
    "start_time": "2021-08-20T17:39:12.655Z"
   },
   {
    "duration": 8,
    "start_time": "2021-08-20T17:39:12.968Z"
   },
   {
    "duration": 12,
    "start_time": "2021-08-20T17:39:12.978Z"
   },
   {
    "duration": 233,
    "start_time": "2021-08-20T17:39:12.992Z"
   },
   {
    "duration": 7,
    "start_time": "2021-08-20T17:39:13.227Z"
   },
   {
    "duration": 284,
    "start_time": "2021-08-20T17:39:13.236Z"
   },
   {
    "duration": 10,
    "start_time": "2021-08-20T17:39:13.521Z"
   },
   {
    "duration": 43,
    "start_time": "2021-08-20T17:39:13.533Z"
   },
   {
    "duration": 10,
    "start_time": "2021-08-20T17:39:13.577Z"
   },
   {
    "duration": 6,
    "start_time": "2021-08-20T17:39:13.589Z"
   },
   {
    "duration": 55,
    "start_time": "2021-08-20T17:39:13.597Z"
   },
   {
    "duration": 43,
    "start_time": "2021-08-20T17:39:13.654Z"
   },
   {
    "duration": 22,
    "start_time": "2021-08-20T17:39:13.699Z"
   },
   {
    "duration": 31,
    "start_time": "2021-08-20T17:39:13.723Z"
   },
   {
    "duration": 29,
    "start_time": "2021-08-20T17:39:13.756Z"
   },
   {
    "duration": 5,
    "start_time": "2021-08-20T17:39:13.787Z"
   },
   {
    "duration": 14,
    "start_time": "2021-08-20T17:39:13.794Z"
   },
   {
    "duration": 7,
    "start_time": "2021-08-20T17:39:13.809Z"
   },
   {
    "duration": 8,
    "start_time": "2021-08-20T17:39:13.842Z"
   },
   {
    "duration": 22,
    "start_time": "2021-08-20T17:39:13.853Z"
   },
   {
    "duration": 27,
    "start_time": "2021-08-20T17:39:13.877Z"
   },
   {
    "duration": 9,
    "start_time": "2021-08-20T17:39:13.906Z"
   },
   {
    "duration": 6,
    "start_time": "2021-08-20T17:39:13.941Z"
   },
   {
    "duration": 16,
    "start_time": "2021-08-20T17:39:13.949Z"
   },
   {
    "duration": 10,
    "start_time": "2021-08-20T17:39:13.966Z"
   },
   {
    "duration": 20,
    "start_time": "2021-08-20T17:39:13.978Z"
   },
   {
    "duration": 42,
    "start_time": "2021-08-20T17:39:14.000Z"
   },
   {
    "duration": 11,
    "start_time": "2021-08-20T17:39:14.044Z"
   },
   {
    "duration": 12,
    "start_time": "2021-08-20T17:39:14.057Z"
   },
   {
    "duration": 25,
    "start_time": "2021-08-20T17:39:14.071Z"
   },
   {
    "duration": 284,
    "start_time": "2021-08-20T17:39:14.098Z"
   },
   {
    "duration": 21,
    "start_time": "2021-08-20T17:39:14.384Z"
   },
   {
    "duration": 8,
    "start_time": "2021-08-20T17:39:14.406Z"
   },
   {
    "duration": 31,
    "start_time": "2021-08-20T17:39:14.415Z"
   },
   {
    "duration": 19,
    "start_time": "2021-08-20T17:39:14.448Z"
   },
   {
    "duration": 11,
    "start_time": "2021-08-20T17:39:14.469Z"
   },
   {
    "duration": 34,
    "start_time": "2021-08-20T17:39:14.482Z"
   },
   {
    "duration": 24,
    "start_time": "2021-08-20T17:39:14.517Z"
   },
   {
    "duration": 22,
    "start_time": "2021-08-20T17:39:14.542Z"
   },
   {
    "duration": 8,
    "start_time": "2021-08-20T17:39:14.566Z"
   },
   {
    "duration": 20,
    "start_time": "2021-08-20T17:39:14.576Z"
   },
   {
    "duration": 9,
    "start_time": "2021-08-20T17:39:14.598Z"
   },
   {
    "duration": 42,
    "start_time": "2021-08-20T17:39:14.609Z"
   },
   {
    "duration": 8,
    "start_time": "2021-08-20T17:39:14.652Z"
   },
   {
    "duration": 27,
    "start_time": "2021-08-20T17:39:14.662Z"
   },
   {
    "duration": 15,
    "start_time": "2021-08-20T17:39:14.691Z"
   },
   {
    "duration": 8,
    "start_time": "2021-08-20T17:39:14.707Z"
   },
   {
    "duration": 37,
    "start_time": "2021-08-20T17:39:14.717Z"
   },
   {
    "duration": 11,
    "start_time": "2021-08-20T17:39:14.755Z"
   },
   {
    "duration": 11,
    "start_time": "2021-08-20T17:39:14.767Z"
   },
   {
    "duration": 10,
    "start_time": "2021-08-20T17:39:14.780Z"
   },
   {
    "duration": 10,
    "start_time": "2021-08-20T17:39:14.792Z"
   },
   {
    "duration": 17,
    "start_time": "2021-08-20T17:39:14.841Z"
   },
   {
    "duration": 10,
    "start_time": "2021-08-20T17:39:14.860Z"
   },
   {
    "duration": 15,
    "start_time": "2021-08-20T17:39:14.872Z"
   },
   {
    "duration": 10,
    "start_time": "2021-08-20T17:39:14.889Z"
   },
   {
    "duration": 23,
    "start_time": "2021-08-20T17:39:14.941Z"
   },
   {
    "duration": 9,
    "start_time": "2021-08-20T17:39:14.966Z"
   },
   {
    "duration": 6,
    "start_time": "2021-08-20T17:39:14.977Z"
   },
   {
    "duration": 8,
    "start_time": "2021-08-20T17:39:14.985Z"
   },
   {
    "duration": 47,
    "start_time": "2021-08-20T17:39:14.995Z"
   },
   {
    "duration": 4,
    "start_time": "2021-08-20T17:39:15.044Z"
   },
   {
    "duration": 217,
    "start_time": "2021-08-20T17:39:15.049Z"
   },
   {
    "duration": 4,
    "start_time": "2021-08-20T17:39:15.271Z"
   },
   {
    "duration": 6,
    "start_time": "2021-08-20T17:39:15.278Z"
   },
   {
    "duration": 23,
    "start_time": "2021-08-20T17:39:15.285Z"
   },
   {
    "duration": 10,
    "start_time": "2021-08-20T17:39:15.310Z"
   },
   {
    "duration": 25,
    "start_time": "2021-08-20T17:39:15.321Z"
   },
   {
    "duration": 8,
    "start_time": "2021-08-20T17:39:15.348Z"
   },
   {
    "duration": 17,
    "start_time": "2021-08-20T17:39:15.358Z"
   },
   {
    "duration": 10,
    "start_time": "2021-08-20T17:39:15.376Z"
   },
   {
    "duration": 10,
    "start_time": "2021-08-20T17:39:15.388Z"
   },
   {
    "duration": 11,
    "start_time": "2021-08-20T17:39:15.400Z"
   },
   {
    "duration": 7,
    "start_time": "2021-08-20T17:39:15.414Z"
   },
   {
    "duration": 5,
    "start_time": "2021-08-20T17:39:15.441Z"
   },
   {
    "duration": 9,
    "start_time": "2021-08-20T17:39:15.447Z"
   },
   {
    "duration": 7,
    "start_time": "2021-08-20T17:39:15.457Z"
   },
   {
    "duration": 6,
    "start_time": "2021-08-20T17:39:15.465Z"
   },
   {
    "duration": 7,
    "start_time": "2021-08-20T17:39:15.473Z"
   },
   {
    "duration": 8,
    "start_time": "2021-08-20T17:39:15.481Z"
   },
   {
    "duration": 452,
    "start_time": "2021-08-20T17:39:15.491Z"
   },
   {
    "duration": 214,
    "start_time": "2021-08-20T17:39:15.945Z"
   },
   {
    "duration": 7,
    "start_time": "2021-08-20T17:39:16.161Z"
   },
   {
    "duration": 11,
    "start_time": "2021-08-20T17:39:16.169Z"
   },
   {
    "duration": 8,
    "start_time": "2021-08-20T17:39:16.182Z"
   },
   {
    "duration": 7,
    "start_time": "2021-08-20T17:39:16.191Z"
   },
   {
    "duration": 6,
    "start_time": "2021-08-20T17:39:16.200Z"
   },
   {
    "duration": 6,
    "start_time": "2021-08-20T17:39:16.208Z"
   },
   {
    "duration": 28,
    "start_time": "2021-08-20T17:39:16.216Z"
   },
   {
    "duration": 10,
    "start_time": "2021-08-20T17:39:16.246Z"
   },
   {
    "duration": 199,
    "start_time": "2021-08-20T17:39:16.258Z"
   },
   {
    "duration": 193,
    "start_time": "2021-08-20T17:39:16.459Z"
   },
   {
    "duration": 7,
    "start_time": "2021-08-20T17:39:16.654Z"
   },
   {
    "duration": 20,
    "start_time": "2021-08-20T17:39:16.663Z"
   },
   {
    "duration": 21,
    "start_time": "2021-08-20T17:39:16.685Z"
   },
   {
    "duration": 31,
    "start_time": "2021-08-20T17:39:16.708Z"
   },
   {
    "duration": 21,
    "start_time": "2021-08-20T17:39:16.741Z"
   },
   {
    "duration": 28,
    "start_time": "2021-08-20T17:39:16.764Z"
   },
   {
    "duration": 18,
    "start_time": "2021-08-20T17:39:16.794Z"
   },
   {
    "duration": 9,
    "start_time": "2021-08-20T17:39:16.813Z"
   },
   {
    "duration": 191,
    "start_time": "2021-08-20T17:39:16.823Z"
   },
   {
    "duration": 193,
    "start_time": "2021-08-20T17:39:17.015Z"
   },
   {
    "duration": 8,
    "start_time": "2021-08-20T17:39:17.209Z"
   },
   {
    "duration": 12,
    "start_time": "2021-08-20T17:39:17.218Z"
   },
   {
    "duration": 15,
    "start_time": "2021-08-20T17:39:17.231Z"
   },
   {
    "duration": 18,
    "start_time": "2021-08-20T17:39:17.248Z"
   },
   {
    "duration": 21,
    "start_time": "2021-08-20T17:39:17.268Z"
   },
   {
    "duration": 13,
    "start_time": "2021-08-20T17:39:17.290Z"
   },
   {
    "duration": 82,
    "start_time": "2021-08-20T17:39:17.305Z"
   },
   {
    "duration": 14,
    "start_time": "2021-08-20T17:40:34.121Z"
   },
   {
    "duration": 265,
    "start_time": "2021-08-20T17:40:46.193Z"
   },
   {
    "duration": 1064,
    "start_time": "2021-08-20T17:42:41.868Z"
   },
   {
    "duration": 266,
    "start_time": "2021-08-20T17:42:42.935Z"
   },
   {
    "duration": 11,
    "start_time": "2021-08-20T17:42:43.203Z"
   },
   {
    "duration": 250,
    "start_time": "2021-08-20T17:42:43.216Z"
   },
   {
    "duration": 8,
    "start_time": "2021-08-20T17:42:43.468Z"
   },
   {
    "duration": 16,
    "start_time": "2021-08-20T17:42:43.478Z"
   },
   {
    "duration": 183,
    "start_time": "2021-08-20T17:42:43.495Z"
   },
   {
    "duration": 6,
    "start_time": "2021-08-20T17:42:43.681Z"
   },
   {
    "duration": 44,
    "start_time": "2021-08-20T17:42:43.689Z"
   },
   {
    "duration": 10,
    "start_time": "2021-08-20T17:42:43.740Z"
   },
   {
    "duration": 44,
    "start_time": "2021-08-20T17:42:43.751Z"
   },
   {
    "duration": 46,
    "start_time": "2021-08-20T17:42:43.796Z"
   },
   {
    "duration": 9,
    "start_time": "2021-08-20T17:42:43.845Z"
   },
   {
    "duration": 191,
    "start_time": "2021-08-20T17:42:43.856Z"
   },
   {
    "duration": 118,
    "start_time": "2021-08-20T17:42:44.049Z"
   },
   {
    "duration": 75,
    "start_time": "2021-08-20T17:42:44.170Z"
   },
   {
    "duration": 27,
    "start_time": "2021-08-20T17:42:44.248Z"
   },
   {
    "duration": 82,
    "start_time": "2021-08-20T17:42:44.277Z"
   },
   {
    "duration": 6,
    "start_time": "2021-08-20T17:42:44.361Z"
   },
   {
    "duration": 6,
    "start_time": "2021-08-20T17:42:44.369Z"
   },
   {
    "duration": 6,
    "start_time": "2021-08-20T17:42:44.377Z"
   },
   {
    "duration": 13,
    "start_time": "2021-08-20T17:42:44.385Z"
   },
   {
    "duration": 53,
    "start_time": "2021-08-20T17:42:44.403Z"
   },
   {
    "duration": 25,
    "start_time": "2021-08-20T17:42:44.459Z"
   },
   {
    "duration": 8,
    "start_time": "2021-08-20T17:42:44.486Z"
   },
   {
    "duration": 4,
    "start_time": "2021-08-20T17:42:44.496Z"
   },
   {
    "duration": 14,
    "start_time": "2021-08-20T17:42:44.502Z"
   },
   {
    "duration": 30,
    "start_time": "2021-08-20T17:42:44.517Z"
   },
   {
    "duration": 20,
    "start_time": "2021-08-20T17:42:44.549Z"
   },
   {
    "duration": 17,
    "start_time": "2021-08-20T17:42:44.570Z"
   },
   {
    "duration": 16,
    "start_time": "2021-08-20T17:42:44.588Z"
   },
   {
    "duration": 10,
    "start_time": "2021-08-20T17:42:44.606Z"
   },
   {
    "duration": 45,
    "start_time": "2021-08-20T17:42:44.618Z"
   },
   {
    "duration": 270,
    "start_time": "2021-08-20T17:42:44.665Z"
   },
   {
    "duration": 22,
    "start_time": "2021-08-20T17:42:44.937Z"
   },
   {
    "duration": 12,
    "start_time": "2021-08-20T17:42:44.960Z"
   },
   {
    "duration": 275,
    "start_time": "2021-08-20T17:42:44.973Z"
   },
   {
    "duration": 8,
    "start_time": "2021-08-20T17:42:45.249Z"
   },
   {
    "duration": 17,
    "start_time": "2021-08-20T17:42:45.259Z"
   },
   {
    "duration": 17,
    "start_time": "2021-08-20T17:42:45.278Z"
   },
   {
    "duration": 12,
    "start_time": "2021-08-20T17:42:45.297Z"
   },
   {
    "duration": 52,
    "start_time": "2021-08-20T17:42:45.310Z"
   },
   {
    "duration": 9,
    "start_time": "2021-08-20T17:42:45.364Z"
   },
   {
    "duration": 27,
    "start_time": "2021-08-20T17:42:45.375Z"
   },
   {
    "duration": 8,
    "start_time": "2021-08-20T17:42:45.409Z"
   },
   {
    "duration": 33,
    "start_time": "2021-08-20T17:42:45.418Z"
   },
   {
    "duration": 8,
    "start_time": "2021-08-20T17:42:45.453Z"
   },
   {
    "duration": 20,
    "start_time": "2021-08-20T17:42:45.463Z"
   },
   {
    "duration": 6,
    "start_time": "2021-08-20T17:42:45.485Z"
   },
   {
    "duration": 17,
    "start_time": "2021-08-20T17:42:45.493Z"
   },
   {
    "duration": 40,
    "start_time": "2021-08-20T17:42:45.511Z"
   },
   {
    "duration": 7,
    "start_time": "2021-08-20T17:42:45.552Z"
   },
   {
    "duration": 18,
    "start_time": "2021-08-20T17:42:45.561Z"
   },
   {
    "duration": 13,
    "start_time": "2021-08-20T17:42:45.581Z"
   },
   {
    "duration": 15,
    "start_time": "2021-08-20T17:42:45.596Z"
   },
   {
    "duration": 13,
    "start_time": "2021-08-20T17:42:45.613Z"
   },
   {
    "duration": 21,
    "start_time": "2021-08-20T17:42:45.627Z"
   },
   {
    "duration": 22,
    "start_time": "2021-08-20T17:42:45.649Z"
   },
   {
    "duration": 10,
    "start_time": "2021-08-20T17:42:45.673Z"
   },
   {
    "duration": 32,
    "start_time": "2021-08-20T17:42:45.685Z"
   },
   {
    "duration": 10,
    "start_time": "2021-08-20T17:42:45.718Z"
   },
   {
    "duration": 41,
    "start_time": "2021-08-20T17:42:45.730Z"
   },
   {
    "duration": 6,
    "start_time": "2021-08-20T17:42:45.773Z"
   },
   {
    "duration": 16,
    "start_time": "2021-08-20T17:42:45.780Z"
   },
   {
    "duration": 12,
    "start_time": "2021-08-20T17:42:45.798Z"
   },
   {
    "duration": 25,
    "start_time": "2021-08-20T17:42:45.812Z"
   },
   {
    "duration": 4,
    "start_time": "2021-08-20T17:42:45.838Z"
   },
   {
    "duration": 210,
    "start_time": "2021-08-20T17:42:45.848Z"
   },
   {
    "duration": 5,
    "start_time": "2021-08-20T17:42:46.060Z"
   },
   {
    "duration": 11,
    "start_time": "2021-08-20T17:42:46.066Z"
   },
   {
    "duration": 27,
    "start_time": "2021-08-20T17:42:46.078Z"
   },
   {
    "duration": 20,
    "start_time": "2021-08-20T17:42:46.107Z"
   },
   {
    "duration": 15,
    "start_time": "2021-08-20T17:42:46.129Z"
   },
   {
    "duration": 12,
    "start_time": "2021-08-20T17:42:46.146Z"
   },
   {
    "duration": 13,
    "start_time": "2021-08-20T17:42:46.160Z"
   },
   {
    "duration": 19,
    "start_time": "2021-08-20T17:42:46.175Z"
   },
   {
    "duration": 12,
    "start_time": "2021-08-20T17:42:46.196Z"
   },
   {
    "duration": 15,
    "start_time": "2021-08-20T17:42:46.210Z"
   },
   {
    "duration": 13,
    "start_time": "2021-08-20T17:42:46.227Z"
   },
   {
    "duration": 20,
    "start_time": "2021-08-20T17:42:46.241Z"
   },
   {
    "duration": 18,
    "start_time": "2021-08-20T17:42:46.263Z"
   },
   {
    "duration": 17,
    "start_time": "2021-08-20T17:42:46.283Z"
   },
   {
    "duration": 17,
    "start_time": "2021-08-20T17:42:46.301Z"
   },
   {
    "duration": 21,
    "start_time": "2021-08-20T17:42:46.319Z"
   },
   {
    "duration": 18,
    "start_time": "2021-08-20T17:42:46.342Z"
   },
   {
    "duration": 208,
    "start_time": "2021-08-20T17:42:46.362Z"
   },
   {
    "duration": 197,
    "start_time": "2021-08-20T17:42:46.572Z"
   },
   {
    "duration": 8,
    "start_time": "2021-08-20T17:42:46.770Z"
   },
   {
    "duration": 15,
    "start_time": "2021-08-20T17:42:46.780Z"
   },
   {
    "duration": 12,
    "start_time": "2021-08-20T17:42:46.797Z"
   },
   {
    "duration": 21,
    "start_time": "2021-08-20T17:42:46.810Z"
   },
   {
    "duration": 9,
    "start_time": "2021-08-20T17:42:46.833Z"
   },
   {
    "duration": 16,
    "start_time": "2021-08-20T17:42:46.844Z"
   },
   {
    "duration": 16,
    "start_time": "2021-08-20T17:42:46.861Z"
   },
   {
    "duration": 17,
    "start_time": "2021-08-20T17:42:46.879Z"
   },
   {
    "duration": 197,
    "start_time": "2021-08-20T17:42:46.897Z"
   },
   {
    "duration": 181,
    "start_time": "2021-08-20T17:42:47.096Z"
   },
   {
    "duration": 6,
    "start_time": "2021-08-20T17:42:47.279Z"
   },
   {
    "duration": 21,
    "start_time": "2021-08-20T17:42:47.287Z"
   },
   {
    "duration": 27,
    "start_time": "2021-08-20T17:42:47.309Z"
   },
   {
    "duration": 16,
    "start_time": "2021-08-20T17:42:47.337Z"
   },
   {
    "duration": 20,
    "start_time": "2021-08-20T17:42:47.355Z"
   },
   {
    "duration": 15,
    "start_time": "2021-08-20T17:42:47.376Z"
   },
   {
    "duration": 16,
    "start_time": "2021-08-20T17:42:47.392Z"
   },
   {
    "duration": 16,
    "start_time": "2021-08-20T17:42:47.410Z"
   },
   {
    "duration": 197,
    "start_time": "2021-08-20T17:42:47.428Z"
   },
   {
    "duration": 240,
    "start_time": "2021-08-20T17:42:47.626Z"
   },
   {
    "duration": 8,
    "start_time": "2021-08-20T17:42:47.868Z"
   },
   {
    "duration": 14,
    "start_time": "2021-08-20T17:42:47.878Z"
   },
   {
    "duration": 19,
    "start_time": "2021-08-20T17:42:47.894Z"
   },
   {
    "duration": 15,
    "start_time": "2021-08-20T17:42:47.915Z"
   },
   {
    "duration": 23,
    "start_time": "2021-08-20T17:42:47.931Z"
   },
   {
    "duration": 14,
    "start_time": "2021-08-20T17:42:47.956Z"
   },
   {
    "duration": 19,
    "start_time": "2021-08-20T17:42:47.971Z"
   },
   {
    "duration": 288,
    "start_time": "2021-08-20T17:43:48.355Z"
   },
   {
    "duration": 641,
    "start_time": "2021-08-20T17:45:28.698Z"
   },
   {
    "duration": 1492,
    "start_time": "2021-08-20T19:17:14.013Z"
   },
   {
    "duration": 320,
    "start_time": "2021-08-20T19:17:15.508Z"
   },
   {
    "duration": 24,
    "start_time": "2021-08-20T19:17:15.831Z"
   },
   {
    "duration": 502,
    "start_time": "2021-08-20T19:17:15.858Z"
   },
   {
    "duration": 12,
    "start_time": "2021-08-20T19:17:16.363Z"
   },
   {
    "duration": 16,
    "start_time": "2021-08-20T19:17:16.378Z"
   },
   {
    "duration": 275,
    "start_time": "2021-08-20T19:17:16.397Z"
   },
   {
    "duration": 11,
    "start_time": "2021-08-20T19:17:16.675Z"
   },
   {
    "duration": 60,
    "start_time": "2021-08-20T19:17:16.688Z"
   },
   {
    "duration": 14,
    "start_time": "2021-08-20T19:17:16.750Z"
   },
   {
    "duration": 71,
    "start_time": "2021-08-20T19:17:16.766Z"
   },
   {
    "duration": 13,
    "start_time": "2021-08-20T19:17:16.840Z"
   },
   {
    "duration": 9,
    "start_time": "2021-08-20T19:17:16.856Z"
   },
   {
    "duration": 88,
    "start_time": "2021-08-20T19:17:16.868Z"
   },
   {
    "duration": 57,
    "start_time": "2021-08-20T19:17:16.959Z"
   },
   {
    "duration": 52,
    "start_time": "2021-08-20T19:17:17.018Z"
   },
   {
    "duration": 24,
    "start_time": "2021-08-20T19:17:17.073Z"
   },
   {
    "duration": 36,
    "start_time": "2021-08-20T19:17:17.099Z"
   },
   {
    "duration": 7,
    "start_time": "2021-08-20T19:17:17.155Z"
   },
   {
    "duration": 9,
    "start_time": "2021-08-20T19:17:17.164Z"
   },
   {
    "duration": 9,
    "start_time": "2021-08-20T19:17:17.176Z"
   },
   {
    "duration": 13,
    "start_time": "2021-08-20T19:17:17.187Z"
   },
   {
    "duration": 51,
    "start_time": "2021-08-20T19:17:17.207Z"
   },
   {
    "duration": 33,
    "start_time": "2021-08-20T19:17:17.262Z"
   },
   {
    "duration": 10,
    "start_time": "2021-08-20T19:17:17.298Z"
   },
   {
    "duration": 5,
    "start_time": "2021-08-20T19:17:17.310Z"
   },
   {
    "duration": 49,
    "start_time": "2021-08-20T19:17:17.317Z"
   },
   {
    "duration": 17,
    "start_time": "2021-08-20T19:17:17.368Z"
   },
   {
    "duration": 30,
    "start_time": "2021-08-20T19:17:17.388Z"
   },
   {
    "duration": 43,
    "start_time": "2021-08-20T19:17:17.420Z"
   },
   {
    "duration": 18,
    "start_time": "2021-08-20T19:17:17.466Z"
   },
   {
    "duration": 18,
    "start_time": "2021-08-20T19:17:17.487Z"
   },
   {
    "duration": 61,
    "start_time": "2021-08-20T19:17:17.507Z"
   },
   {
    "duration": 437,
    "start_time": "2021-08-20T19:17:17.571Z"
   },
   {
    "duration": 45,
    "start_time": "2021-08-20T19:17:18.011Z"
   },
   {
    "duration": 15,
    "start_time": "2021-08-20T19:17:18.059Z"
   },
   {
    "duration": 515,
    "start_time": "2021-08-20T19:17:18.076Z"
   },
   {
    "duration": 11,
    "start_time": "2021-08-20T19:17:18.593Z"
   },
   {
    "duration": 24,
    "start_time": "2021-08-20T19:17:18.606Z"
   },
   {
    "duration": 30,
    "start_time": "2021-08-20T19:17:18.632Z"
   },
   {
    "duration": 20,
    "start_time": "2021-08-20T19:17:18.664Z"
   },
   {
    "duration": 39,
    "start_time": "2021-08-20T19:17:18.687Z"
   },
   {
    "duration": 15,
    "start_time": "2021-08-20T19:17:18.729Z"
   },
   {
    "duration": 35,
    "start_time": "2021-08-20T19:17:18.747Z"
   },
   {
    "duration": 10,
    "start_time": "2021-08-20T19:17:18.785Z"
   },
   {
    "duration": 24,
    "start_time": "2021-08-20T19:17:18.797Z"
   },
   {
    "duration": 11,
    "start_time": "2021-08-20T19:17:18.824Z"
   },
   {
    "duration": 36,
    "start_time": "2021-08-20T19:17:18.838Z"
   },
   {
    "duration": 9,
    "start_time": "2021-08-20T19:17:18.877Z"
   },
   {
    "duration": 29,
    "start_time": "2021-08-20T19:17:18.888Z"
   },
   {
    "duration": 17,
    "start_time": "2021-08-20T19:17:18.919Z"
   },
   {
    "duration": 15,
    "start_time": "2021-08-20T19:17:18.939Z"
   },
   {
    "duration": 29,
    "start_time": "2021-08-20T19:17:18.956Z"
   },
   {
    "duration": 14,
    "start_time": "2021-08-20T19:17:18.987Z"
   },
   {
    "duration": 20,
    "start_time": "2021-08-20T19:17:19.003Z"
   },
   {
    "duration": 19,
    "start_time": "2021-08-20T19:17:19.026Z"
   },
   {
    "duration": 16,
    "start_time": "2021-08-20T19:17:19.048Z"
   },
   {
    "duration": 26,
    "start_time": "2021-08-20T19:17:19.066Z"
   },
   {
    "duration": 12,
    "start_time": "2021-08-20T19:17:19.095Z"
   },
   {
    "duration": 23,
    "start_time": "2021-08-20T19:17:19.109Z"
   },
   {
    "duration": 22,
    "start_time": "2021-08-20T19:17:19.134Z"
   },
   {
    "duration": 44,
    "start_time": "2021-08-20T19:17:19.159Z"
   },
   {
    "duration": 9,
    "start_time": "2021-08-20T19:17:19.205Z"
   },
   {
    "duration": 8,
    "start_time": "2021-08-20T19:17:19.216Z"
   },
   {
    "duration": 22,
    "start_time": "2021-08-20T19:17:19.227Z"
   },
   {
    "duration": 21,
    "start_time": "2021-08-20T19:17:19.251Z"
   },
   {
    "duration": 7,
    "start_time": "2021-08-20T19:17:19.275Z"
   },
   {
    "duration": 622,
    "start_time": "2021-08-20T19:17:19.294Z"
   },
   {
    "duration": 6,
    "start_time": "2021-08-20T19:17:19.919Z"
   },
   {
    "duration": 11,
    "start_time": "2021-08-20T19:17:19.927Z"
   },
   {
    "duration": 33,
    "start_time": "2021-08-20T19:17:19.940Z"
   },
   {
    "duration": 16,
    "start_time": "2021-08-20T19:17:19.975Z"
   },
   {
    "duration": 63,
    "start_time": "2021-08-20T19:17:19.993Z"
   },
   {
    "duration": 17,
    "start_time": "2021-08-20T19:17:20.058Z"
   },
   {
    "duration": 17,
    "start_time": "2021-08-20T19:17:20.077Z"
   },
   {
    "duration": 20,
    "start_time": "2021-08-20T19:17:20.096Z"
   },
   {
    "duration": 38,
    "start_time": "2021-08-20T19:17:20.118Z"
   },
   {
    "duration": 15,
    "start_time": "2021-08-20T19:17:20.159Z"
   },
   {
    "duration": 19,
    "start_time": "2021-08-20T19:17:20.176Z"
   },
   {
    "duration": 11,
    "start_time": "2021-08-20T19:17:20.198Z"
   },
   {
    "duration": 6,
    "start_time": "2021-08-20T19:17:20.254Z"
   },
   {
    "duration": 15,
    "start_time": "2021-08-20T19:17:20.263Z"
   },
   {
    "duration": 7,
    "start_time": "2021-08-20T19:17:20.280Z"
   },
   {
    "duration": 10,
    "start_time": "2021-08-20T19:17:20.289Z"
   },
   {
    "duration": 55,
    "start_time": "2021-08-20T19:17:20.301Z"
   },
   {
    "duration": 526,
    "start_time": "2021-08-20T19:17:20.358Z"
   },
   {
    "duration": 341,
    "start_time": "2021-08-20T19:17:20.886Z"
   },
   {
    "duration": 10,
    "start_time": "2021-08-20T19:17:21.230Z"
   },
   {
    "duration": 20,
    "start_time": "2021-08-20T19:17:21.242Z"
   },
   {
    "duration": 13,
    "start_time": "2021-08-20T19:17:21.264Z"
   },
   {
    "duration": 8,
    "start_time": "2021-08-20T19:17:21.280Z"
   },
   {
    "duration": 12,
    "start_time": "2021-08-20T19:17:21.290Z"
   },
   {
    "duration": 10,
    "start_time": "2021-08-20T19:17:21.304Z"
   },
   {
    "duration": 41,
    "start_time": "2021-08-20T19:17:21.317Z"
   },
   {
    "duration": 14,
    "start_time": "2021-08-20T19:17:21.361Z"
   },
   {
    "duration": 326,
    "start_time": "2021-08-20T19:17:21.377Z"
   },
   {
    "duration": 320,
    "start_time": "2021-08-20T19:17:21.706Z"
   },
   {
    "duration": 10,
    "start_time": "2021-08-20T19:17:22.029Z"
   },
   {
    "duration": 9,
    "start_time": "2021-08-20T19:17:22.054Z"
   },
   {
    "duration": 21,
    "start_time": "2021-08-20T19:17:22.066Z"
   },
   {
    "duration": 19,
    "start_time": "2021-08-20T19:17:22.090Z"
   },
   {
    "duration": 15,
    "start_time": "2021-08-20T19:17:22.111Z"
   },
   {
    "duration": 11,
    "start_time": "2021-08-20T19:17:22.128Z"
   },
   {
    "duration": 22,
    "start_time": "2021-08-20T19:17:22.141Z"
   },
   {
    "duration": 24,
    "start_time": "2021-08-20T19:17:22.165Z"
   },
   {
    "duration": 314,
    "start_time": "2021-08-20T19:17:22.192Z"
   },
   {
    "duration": 381,
    "start_time": "2021-08-20T19:17:22.508Z"
   },
   {
    "duration": 11,
    "start_time": "2021-08-20T19:17:22.891Z"
   },
   {
    "duration": 5,
    "start_time": "2021-08-20T19:17:22.905Z"
   },
   {
    "duration": 15,
    "start_time": "2021-08-20T19:17:22.913Z"
   },
   {
    "duration": 30,
    "start_time": "2021-08-20T19:17:22.930Z"
   },
   {
    "duration": 17,
    "start_time": "2021-08-20T19:17:22.964Z"
   },
   {
    "duration": 8,
    "start_time": "2021-08-20T19:17:22.984Z"
   },
   {
    "duration": 11,
    "start_time": "2021-08-20T19:17:22.994Z"
   },
   {
    "duration": 371,
    "start_time": "2021-08-20T19:24:58.838Z"
   },
   {
    "duration": 1049,
    "start_time": "2021-08-20T19:25:47.374Z"
   },
   {
    "duration": 1040,
    "start_time": "2021-08-20T19:26:47.318Z"
   },
   {
    "duration": 5,
    "start_time": "2021-08-20T19:31:23.354Z"
   },
   {
    "duration": 14,
    "start_time": "2021-08-20T19:31:37.101Z"
   },
   {
    "duration": 7,
    "start_time": "2021-08-20T19:31:54.198Z"
   },
   {
    "duration": 13,
    "start_time": "2021-08-20T19:31:55.935Z"
   },
   {
    "duration": 1399,
    "start_time": "2021-08-20T19:32:35.121Z"
   },
   {
    "duration": 355,
    "start_time": "2021-08-20T19:32:36.522Z"
   },
   {
    "duration": 16,
    "start_time": "2021-08-20T19:32:36.880Z"
   },
   {
    "duration": 308,
    "start_time": "2021-08-20T19:32:36.898Z"
   },
   {
    "duration": 11,
    "start_time": "2021-08-20T19:32:37.208Z"
   },
   {
    "duration": 19,
    "start_time": "2021-08-20T19:32:37.221Z"
   },
   {
    "duration": 293,
    "start_time": "2021-08-20T19:32:37.255Z"
   },
   {
    "duration": 10,
    "start_time": "2021-08-20T19:32:37.555Z"
   },
   {
    "duration": 60,
    "start_time": "2021-08-20T19:32:37.568Z"
   },
   {
    "duration": 14,
    "start_time": "2021-08-20T19:32:37.631Z"
   },
   {
    "duration": 58,
    "start_time": "2021-08-20T19:32:37.647Z"
   },
   {
    "duration": 12,
    "start_time": "2021-08-20T19:32:37.708Z"
   },
   {
    "duration": 10,
    "start_time": "2021-08-20T19:32:37.723Z"
   },
   {
    "duration": 88,
    "start_time": "2021-08-20T19:32:37.736Z"
   },
   {
    "duration": 63,
    "start_time": "2021-08-20T19:32:37.826Z"
   },
   {
    "duration": 30,
    "start_time": "2021-08-20T19:32:37.891Z"
   },
   {
    "duration": 45,
    "start_time": "2021-08-20T19:32:37.923Z"
   },
   {
    "duration": 52,
    "start_time": "2021-08-20T19:32:37.971Z"
   },
   {
    "duration": 7,
    "start_time": "2021-08-20T19:32:38.025Z"
   },
   {
    "duration": 19,
    "start_time": "2021-08-20T19:32:38.035Z"
   },
   {
    "duration": 24,
    "start_time": "2021-08-20T19:32:38.057Z"
   },
   {
    "duration": 33,
    "start_time": "2021-08-20T19:32:38.083Z"
   },
   {
    "duration": 41,
    "start_time": "2021-08-20T19:32:38.122Z"
   },
   {
    "duration": 89,
    "start_time": "2021-08-20T19:32:38.167Z"
   },
   {
    "duration": 10,
    "start_time": "2021-08-20T19:32:38.258Z"
   },
   {
    "duration": 15,
    "start_time": "2021-08-20T19:32:38.270Z"
   },
   {
    "duration": 73,
    "start_time": "2021-08-20T19:32:38.288Z"
   },
   {
    "duration": 11,
    "start_time": "2021-08-20T19:32:38.363Z"
   },
   {
    "duration": 89,
    "start_time": "2021-08-20T19:32:38.376Z"
   },
   {
    "duration": 23,
    "start_time": "2021-08-20T19:32:38.467Z"
   },
   {
    "duration": 71,
    "start_time": "2021-08-20T19:32:38.492Z"
   },
   {
    "duration": 19,
    "start_time": "2021-08-20T19:32:38.565Z"
   },
   {
    "duration": 95,
    "start_time": "2021-08-20T19:32:38.586Z"
   },
   {
    "duration": 597,
    "start_time": "2021-08-20T19:32:38.683Z"
   },
   {
    "duration": 28,
    "start_time": "2021-08-20T19:32:39.282Z"
   },
   {
    "duration": 15,
    "start_time": "2021-08-20T19:32:39.313Z"
   },
   {
    "duration": 524,
    "start_time": "2021-08-20T19:32:39.355Z"
   },
   {
    "duration": 7,
    "start_time": "2021-08-20T19:32:39.882Z"
   },
   {
    "duration": 35,
    "start_time": "2021-08-20T19:32:39.892Z"
   },
   {
    "duration": 30,
    "start_time": "2021-08-20T19:32:39.929Z"
   },
   {
    "duration": 38,
    "start_time": "2021-08-20T19:32:39.962Z"
   },
   {
    "duration": 37,
    "start_time": "2021-08-20T19:32:40.002Z"
   },
   {
    "duration": 16,
    "start_time": "2021-08-20T19:32:40.042Z"
   },
   {
    "duration": 50,
    "start_time": "2021-08-20T19:32:40.060Z"
   },
   {
    "duration": 13,
    "start_time": "2021-08-20T19:32:40.113Z"
   },
   {
    "duration": 49,
    "start_time": "2021-08-20T19:32:40.129Z"
   },
   {
    "duration": 10,
    "start_time": "2021-08-20T19:32:40.181Z"
   },
   {
    "duration": 46,
    "start_time": "2021-08-20T19:32:40.193Z"
   },
   {
    "duration": 18,
    "start_time": "2021-08-20T19:32:40.241Z"
   },
   {
    "duration": 36,
    "start_time": "2021-08-20T19:32:40.262Z"
   },
   {
    "duration": 10,
    "start_time": "2021-08-20T19:32:40.300Z"
   },
   {
    "duration": 33,
    "start_time": "2021-08-20T19:32:40.312Z"
   },
   {
    "duration": 23,
    "start_time": "2021-08-20T19:32:40.347Z"
   },
   {
    "duration": 10,
    "start_time": "2021-08-20T19:32:40.372Z"
   },
   {
    "duration": 32,
    "start_time": "2021-08-20T19:32:40.385Z"
   },
   {
    "duration": 21,
    "start_time": "2021-08-20T19:32:40.419Z"
   },
   {
    "duration": 24,
    "start_time": "2021-08-20T19:32:40.442Z"
   },
   {
    "duration": 33,
    "start_time": "2021-08-20T19:32:40.469Z"
   },
   {
    "duration": 21,
    "start_time": "2021-08-20T19:32:40.504Z"
   },
   {
    "duration": 35,
    "start_time": "2021-08-20T19:32:40.528Z"
   },
   {
    "duration": 12,
    "start_time": "2021-08-20T19:32:40.565Z"
   },
   {
    "duration": 32,
    "start_time": "2021-08-20T19:32:40.579Z"
   },
   {
    "duration": 11,
    "start_time": "2021-08-20T19:32:40.614Z"
   },
   {
    "duration": 54,
    "start_time": "2021-08-20T19:32:40.627Z"
   },
   {
    "duration": 8,
    "start_time": "2021-08-20T19:32:40.684Z"
   },
   {
    "duration": 19,
    "start_time": "2021-08-20T19:32:40.694Z"
   },
   {
    "duration": 16,
    "start_time": "2021-08-20T19:32:40.715Z"
   },
   {
    "duration": 28,
    "start_time": "2021-08-20T19:32:40.741Z"
   },
   {
    "duration": 6,
    "start_time": "2021-08-20T19:32:40.773Z"
   },
   {
    "duration": 386,
    "start_time": "2021-08-20T19:32:40.782Z"
   },
   {
    "duration": 5,
    "start_time": "2021-08-20T19:32:41.171Z"
   },
   {
    "duration": 10,
    "start_time": "2021-08-20T19:32:41.178Z"
   },
   {
    "duration": 47,
    "start_time": "2021-08-20T19:32:41.190Z"
   },
   {
    "duration": 21,
    "start_time": "2021-08-20T19:32:41.239Z"
   },
   {
    "duration": 11,
    "start_time": "2021-08-20T19:32:41.263Z"
   },
   {
    "duration": 15,
    "start_time": "2021-08-20T19:32:41.277Z"
   },
   {
    "duration": 16,
    "start_time": "2021-08-20T19:32:41.295Z"
   },
   {
    "duration": 25,
    "start_time": "2021-08-20T19:32:41.313Z"
   },
   {
    "duration": 23,
    "start_time": "2021-08-20T19:32:41.340Z"
   },
   {
    "duration": 17,
    "start_time": "2021-08-20T19:32:41.365Z"
   },
   {
    "duration": 11,
    "start_time": "2021-08-20T19:32:41.384Z"
   },
   {
    "duration": 15,
    "start_time": "2021-08-20T19:32:41.397Z"
   },
   {
    "duration": 12,
    "start_time": "2021-08-20T19:32:41.414Z"
   },
   {
    "duration": 14,
    "start_time": "2021-08-20T19:32:41.428Z"
   },
   {
    "duration": 18,
    "start_time": "2021-08-20T19:32:41.444Z"
   },
   {
    "duration": 11,
    "start_time": "2021-08-20T19:32:41.465Z"
   },
   {
    "duration": 17,
    "start_time": "2021-08-20T19:32:41.478Z"
   },
   {
    "duration": 343,
    "start_time": "2021-08-20T19:32:41.497Z"
   },
   {
    "duration": 345,
    "start_time": "2021-08-20T19:32:41.843Z"
   },
   {
    "duration": 11,
    "start_time": "2021-08-20T19:32:42.190Z"
   },
   {
    "duration": 19,
    "start_time": "2021-08-20T19:32:42.203Z"
   },
   {
    "duration": 12,
    "start_time": "2021-08-20T19:32:42.224Z"
   },
   {
    "duration": 5,
    "start_time": "2021-08-20T19:32:42.254Z"
   },
   {
    "duration": 13,
    "start_time": "2021-08-20T19:32:42.261Z"
   },
   {
    "duration": 20,
    "start_time": "2021-08-20T19:32:42.277Z"
   },
   {
    "duration": 17,
    "start_time": "2021-08-20T19:32:42.300Z"
   },
   {
    "duration": 12,
    "start_time": "2021-08-20T19:32:42.319Z"
   },
   {
    "duration": 324,
    "start_time": "2021-08-20T19:32:42.333Z"
   },
   {
    "duration": 304,
    "start_time": "2021-08-20T19:32:42.659Z"
   },
   {
    "duration": 9,
    "start_time": "2021-08-20T19:32:42.965Z"
   },
   {
    "duration": 22,
    "start_time": "2021-08-20T19:32:42.976Z"
   },
   {
    "duration": 14,
    "start_time": "2021-08-20T19:32:43.000Z"
   },
   {
    "duration": 24,
    "start_time": "2021-08-20T19:32:43.016Z"
   },
   {
    "duration": 14,
    "start_time": "2021-08-20T19:32:43.042Z"
   },
   {
    "duration": 10,
    "start_time": "2021-08-20T19:32:43.059Z"
   },
   {
    "duration": 12,
    "start_time": "2021-08-20T19:32:43.071Z"
   },
   {
    "duration": 11,
    "start_time": "2021-08-20T19:32:43.085Z"
   },
   {
    "duration": 390,
    "start_time": "2021-08-20T19:32:43.098Z"
   },
   {
    "duration": 306,
    "start_time": "2021-08-20T19:32:43.491Z"
   },
   {
    "duration": 1066,
    "start_time": "2021-08-20T19:32:43.799Z"
   },
   {
    "duration": 11,
    "start_time": "2021-08-20T19:32:44.867Z"
   },
   {
    "duration": 10,
    "start_time": "2021-08-20T19:32:44.880Z"
   },
   {
    "duration": 9,
    "start_time": "2021-08-20T19:32:44.892Z"
   },
   {
    "duration": 7,
    "start_time": "2021-08-20T19:32:44.904Z"
   },
   {
    "duration": 45,
    "start_time": "2021-08-20T19:32:44.913Z"
   },
   {
    "duration": 7,
    "start_time": "2021-08-20T19:32:44.961Z"
   },
   {
    "duration": 10,
    "start_time": "2021-08-20T19:32:44.970Z"
   },
   {
    "duration": 14,
    "start_time": "2021-08-20T19:33:03.788Z"
   },
   {
    "duration": 14,
    "start_time": "2021-08-20T19:33:52.760Z"
   },
   {
    "duration": 20,
    "start_time": "2021-08-20T19:36:08.035Z"
   },
   {
    "duration": 10,
    "start_time": "2021-08-20T19:36:10.235Z"
   },
   {
    "duration": 7,
    "start_time": "2021-08-20T19:37:44.610Z"
   },
   {
    "duration": 1372,
    "start_time": "2021-08-20T19:38:10.160Z"
   },
   {
    "duration": 337,
    "start_time": "2021-08-20T19:38:11.534Z"
   },
   {
    "duration": 16,
    "start_time": "2021-08-20T19:38:11.874Z"
   },
   {
    "duration": 293,
    "start_time": "2021-08-20T19:38:11.893Z"
   },
   {
    "duration": 13,
    "start_time": "2021-08-20T19:38:12.188Z"
   },
   {
    "duration": 19,
    "start_time": "2021-08-20T19:38:12.204Z"
   },
   {
    "duration": 294,
    "start_time": "2021-08-20T19:38:12.226Z"
   },
   {
    "duration": 10,
    "start_time": "2021-08-20T19:38:12.524Z"
   },
   {
    "duration": 60,
    "start_time": "2021-08-20T19:38:12.537Z"
   },
   {
    "duration": 14,
    "start_time": "2021-08-20T19:38:12.600Z"
   },
   {
    "duration": 53,
    "start_time": "2021-08-20T19:38:12.617Z"
   },
   {
    "duration": 11,
    "start_time": "2021-08-20T19:38:12.672Z"
   },
   {
    "duration": 16,
    "start_time": "2021-08-20T19:38:12.686Z"
   },
   {
    "duration": 79,
    "start_time": "2021-08-20T19:38:12.705Z"
   },
   {
    "duration": 70,
    "start_time": "2021-08-20T19:38:12.787Z"
   },
   {
    "duration": 29,
    "start_time": "2021-08-20T19:38:12.860Z"
   },
   {
    "duration": 27,
    "start_time": "2021-08-20T19:38:12.891Z"
   },
   {
    "duration": 66,
    "start_time": "2021-08-20T19:38:12.920Z"
   },
   {
    "duration": 8,
    "start_time": "2021-08-20T19:38:12.988Z"
   },
   {
    "duration": 13,
    "start_time": "2021-08-20T19:38:12.998Z"
   },
   {
    "duration": 18,
    "start_time": "2021-08-20T19:38:13.014Z"
   },
   {
    "duration": 28,
    "start_time": "2021-08-20T19:38:13.035Z"
   },
   {
    "duration": 35,
    "start_time": "2021-08-20T19:38:13.069Z"
   },
   {
    "duration": 46,
    "start_time": "2021-08-20T19:38:13.108Z"
   },
   {
    "duration": 11,
    "start_time": "2021-08-20T19:38:13.157Z"
   },
   {
    "duration": 11,
    "start_time": "2021-08-20T19:38:13.170Z"
   },
   {
    "duration": 47,
    "start_time": "2021-08-20T19:38:13.183Z"
   },
   {
    "duration": 20,
    "start_time": "2021-08-20T19:38:13.232Z"
   },
   {
    "duration": 33,
    "start_time": "2021-08-20T19:38:13.254Z"
   },
   {
    "duration": 24,
    "start_time": "2021-08-20T19:38:13.290Z"
   },
   {
    "duration": 32,
    "start_time": "2021-08-20T19:38:13.316Z"
   },
   {
    "duration": 27,
    "start_time": "2021-08-20T19:38:13.350Z"
   },
   {
    "duration": 43,
    "start_time": "2021-08-20T19:38:13.380Z"
   },
   {
    "duration": 443,
    "start_time": "2021-08-20T19:38:13.426Z"
   },
   {
    "duration": 29,
    "start_time": "2021-08-20T19:38:13.873Z"
   },
   {
    "duration": 17,
    "start_time": "2021-08-20T19:38:13.905Z"
   },
   {
    "duration": 574,
    "start_time": "2021-08-20T19:38:13.925Z"
   },
   {
    "duration": 8,
    "start_time": "2021-08-20T19:38:14.502Z"
   },
   {
    "duration": 17,
    "start_time": "2021-08-20T19:38:14.513Z"
   },
   {
    "duration": 33,
    "start_time": "2021-08-20T19:38:14.532Z"
   },
   {
    "duration": 42,
    "start_time": "2021-08-20T19:38:14.568Z"
   },
   {
    "duration": 29,
    "start_time": "2021-08-20T19:38:14.612Z"
   },
   {
    "duration": 15,
    "start_time": "2021-08-20T19:38:14.655Z"
   },
   {
    "duration": 34,
    "start_time": "2021-08-20T19:38:14.672Z"
   },
   {
    "duration": 11,
    "start_time": "2021-08-20T19:38:14.708Z"
   },
   {
    "duration": 54,
    "start_time": "2021-08-20T19:38:14.722Z"
   },
   {
    "duration": 11,
    "start_time": "2021-08-20T19:38:14.778Z"
   },
   {
    "duration": 24,
    "start_time": "2021-08-20T19:38:14.791Z"
   },
   {
    "duration": 38,
    "start_time": "2021-08-20T19:38:14.817Z"
   },
   {
    "duration": 20,
    "start_time": "2021-08-20T19:38:14.857Z"
   },
   {
    "duration": 9,
    "start_time": "2021-08-20T19:38:14.880Z"
   },
   {
    "duration": 25,
    "start_time": "2021-08-20T19:38:14.892Z"
   },
   {
    "duration": 55,
    "start_time": "2021-08-20T19:38:14.919Z"
   },
   {
    "duration": 11,
    "start_time": "2021-08-20T19:38:14.976Z"
   },
   {
    "duration": 23,
    "start_time": "2021-08-20T19:38:14.990Z"
   },
   {
    "duration": 52,
    "start_time": "2021-08-20T19:38:15.015Z"
   },
   {
    "duration": 18,
    "start_time": "2021-08-20T19:38:15.070Z"
   },
   {
    "duration": 17,
    "start_time": "2021-08-20T19:38:15.091Z"
   },
   {
    "duration": 48,
    "start_time": "2021-08-20T19:38:15.111Z"
   },
   {
    "duration": 24,
    "start_time": "2021-08-20T19:38:15.162Z"
   },
   {
    "duration": 14,
    "start_time": "2021-08-20T19:38:15.189Z"
   },
   {
    "duration": 65,
    "start_time": "2021-08-20T19:38:15.206Z"
   },
   {
    "duration": 12,
    "start_time": "2021-08-20T19:38:15.275Z"
   },
   {
    "duration": 34,
    "start_time": "2021-08-20T19:38:15.290Z"
   },
   {
    "duration": 10,
    "start_time": "2021-08-20T19:38:15.355Z"
   },
   {
    "duration": 6266,
    "start_time": "2021-08-20T19:38:15.367Z"
   },
   {
    "duration": -219,
    "start_time": "2021-08-20T19:38:21.857Z"
   },
   {
    "duration": -224,
    "start_time": "2021-08-20T19:38:21.863Z"
   },
   {
    "duration": -228,
    "start_time": "2021-08-20T19:38:21.869Z"
   },
   {
    "duration": -245,
    "start_time": "2021-08-20T19:38:21.887Z"
   },
   {
    "duration": -256,
    "start_time": "2021-08-20T19:38:21.899Z"
   },
   {
    "duration": -261,
    "start_time": "2021-08-20T19:38:21.906Z"
   },
   {
    "duration": -265,
    "start_time": "2021-08-20T19:38:21.911Z"
   },
   {
    "duration": -269,
    "start_time": "2021-08-20T19:38:21.916Z"
   },
   {
    "duration": -272,
    "start_time": "2021-08-20T19:38:21.921Z"
   },
   {
    "duration": -275,
    "start_time": "2021-08-20T19:38:21.925Z"
   },
   {
    "duration": -278,
    "start_time": "2021-08-20T19:38:21.930Z"
   },
   {
    "duration": -281,
    "start_time": "2021-08-20T19:38:21.934Z"
   },
   {
    "duration": -314,
    "start_time": "2021-08-20T19:38:21.968Z"
   },
   {
    "duration": -337,
    "start_time": "2021-08-20T19:38:21.993Z"
   },
   {
    "duration": -364,
    "start_time": "2021-08-20T19:38:22.021Z"
   },
   {
    "duration": -387,
    "start_time": "2021-08-20T19:38:22.045Z"
   },
   {
    "duration": -412,
    "start_time": "2021-08-20T19:38:22.071Z"
   },
   {
    "duration": -438,
    "start_time": "2021-08-20T19:38:22.099Z"
   },
   {
    "duration": -462,
    "start_time": "2021-08-20T19:38:22.124Z"
   },
   {
    "duration": -489,
    "start_time": "2021-08-20T19:38:22.152Z"
   },
   {
    "duration": -514,
    "start_time": "2021-08-20T19:38:22.179Z"
   },
   {
    "duration": -541,
    "start_time": "2021-08-20T19:38:22.207Z"
   },
   {
    "duration": -564,
    "start_time": "2021-08-20T19:38:22.232Z"
   },
   {
    "duration": -587,
    "start_time": "2021-08-20T19:38:22.256Z"
   },
   {
    "duration": -613,
    "start_time": "2021-08-20T19:38:22.283Z"
   },
   {
    "duration": -636,
    "start_time": "2021-08-20T19:38:22.308Z"
   },
   {
    "duration": -659,
    "start_time": "2021-08-20T19:38:22.332Z"
   },
   {
    "duration": -683,
    "start_time": "2021-08-20T19:38:22.357Z"
   },
   {
    "duration": -707,
    "start_time": "2021-08-20T19:38:22.383Z"
   },
   {
    "duration": -730,
    "start_time": "2021-08-20T19:38:22.407Z"
   },
   {
    "duration": -755,
    "start_time": "2021-08-20T19:38:22.433Z"
   },
   {
    "duration": -777,
    "start_time": "2021-08-20T19:38:22.457Z"
   },
   {
    "duration": -801,
    "start_time": "2021-08-20T19:38:22.482Z"
   },
   {
    "duration": -822,
    "start_time": "2021-08-20T19:38:22.505Z"
   },
   {
    "duration": -847,
    "start_time": "2021-08-20T19:38:22.531Z"
   },
   {
    "duration": -868,
    "start_time": "2021-08-20T19:38:22.554Z"
   },
   {
    "duration": -894,
    "start_time": "2021-08-20T19:38:22.581Z"
   },
   {
    "duration": -915,
    "start_time": "2021-08-20T19:38:22.604Z"
   },
   {
    "duration": -941,
    "start_time": "2021-08-20T19:38:22.631Z"
   },
   {
    "duration": -963,
    "start_time": "2021-08-20T19:38:22.654Z"
   },
   {
    "duration": -988,
    "start_time": "2021-08-20T19:38:22.681Z"
   },
   {
    "duration": -1009,
    "start_time": "2021-08-20T19:38:22.703Z"
   },
   {
    "duration": -972,
    "start_time": "2021-08-20T19:38:22.729Z"
   },
   {
    "duration": -997,
    "start_time": "2021-08-20T19:38:22.755Z"
   },
   {
    "duration": -1019,
    "start_time": "2021-08-20T19:38:22.779Z"
   },
   {
    "duration": -1043,
    "start_time": "2021-08-20T19:38:22.804Z"
   },
   {
    "duration": -1055,
    "start_time": "2021-08-20T19:38:22.817Z"
   },
   {
    "duration": -1079,
    "start_time": "2021-08-20T19:38:22.842Z"
   },
   {
    "duration": -1101,
    "start_time": "2021-08-20T19:38:22.866Z"
   },
   {
    "duration": -1125,
    "start_time": "2021-08-20T19:38:22.891Z"
   },
   {
    "duration": -1138,
    "start_time": "2021-08-20T19:38:22.906Z"
   },
   {
    "duration": 17,
    "start_time": "2021-08-20T19:39:19.398Z"
   },
   {
    "duration": 10,
    "start_time": "2021-08-20T19:39:21.106Z"
   },
   {
    "duration": 19,
    "start_time": "2021-08-20T19:40:17.230Z"
   },
   {
    "duration": 11,
    "start_time": "2021-08-20T19:40:19.324Z"
   },
   {
    "duration": 1469,
    "start_time": "2021-08-20T19:40:34.141Z"
   },
   {
    "duration": 305,
    "start_time": "2021-08-20T19:40:35.612Z"
   },
   {
    "duration": 16,
    "start_time": "2021-08-20T19:40:35.920Z"
   },
   {
    "duration": 333,
    "start_time": "2021-08-20T19:40:35.939Z"
   },
   {
    "duration": 11,
    "start_time": "2021-08-20T19:40:36.275Z"
   },
   {
    "duration": 34,
    "start_time": "2021-08-20T19:40:36.288Z"
   },
   {
    "duration": 253,
    "start_time": "2021-08-20T19:40:36.325Z"
   },
   {
    "duration": 11,
    "start_time": "2021-08-20T19:40:36.581Z"
   },
   {
    "duration": 62,
    "start_time": "2021-08-20T19:40:36.595Z"
   },
   {
    "duration": 17,
    "start_time": "2021-08-20T19:40:36.660Z"
   },
   {
    "duration": 65,
    "start_time": "2021-08-20T19:40:36.679Z"
   },
   {
    "duration": 11,
    "start_time": "2021-08-20T19:40:36.747Z"
   },
   {
    "duration": 18,
    "start_time": "2021-08-20T19:40:36.760Z"
   },
   {
    "duration": 87,
    "start_time": "2021-08-20T19:40:36.780Z"
   },
   {
    "duration": 57,
    "start_time": "2021-08-20T19:40:36.869Z"
   },
   {
    "duration": 45,
    "start_time": "2021-08-20T19:40:36.928Z"
   },
   {
    "duration": 25,
    "start_time": "2021-08-20T19:40:36.976Z"
   },
   {
    "duration": 63,
    "start_time": "2021-08-20T19:40:37.003Z"
   },
   {
    "duration": 6,
    "start_time": "2021-08-20T19:40:37.068Z"
   },
   {
    "duration": 10,
    "start_time": "2021-08-20T19:40:37.076Z"
   },
   {
    "duration": 16,
    "start_time": "2021-08-20T19:40:37.088Z"
   },
   {
    "duration": 22,
    "start_time": "2021-08-20T19:40:37.107Z"
   },
   {
    "duration": 43,
    "start_time": "2021-08-20T19:40:37.136Z"
   },
   {
    "duration": 34,
    "start_time": "2021-08-20T19:40:37.184Z"
   },
   {
    "duration": 34,
    "start_time": "2021-08-20T19:40:37.221Z"
   },
   {
    "duration": 6,
    "start_time": "2021-08-20T19:40:37.258Z"
   },
   {
    "duration": 25,
    "start_time": "2021-08-20T19:40:37.266Z"
   },
   {
    "duration": 12,
    "start_time": "2021-08-20T19:40:37.294Z"
   },
   {
    "duration": 54,
    "start_time": "2021-08-20T19:40:37.309Z"
   },
   {
    "duration": 22,
    "start_time": "2021-08-20T19:40:37.365Z"
   },
   {
    "duration": 22,
    "start_time": "2021-08-20T19:40:37.390Z"
   },
   {
    "duration": 24,
    "start_time": "2021-08-20T19:40:37.414Z"
   },
   {
    "duration": 50,
    "start_time": "2021-08-20T19:40:37.441Z"
   },
   {
    "duration": 448,
    "start_time": "2021-08-20T19:40:37.494Z"
   },
   {
    "duration": 36,
    "start_time": "2021-08-20T19:40:37.944Z"
   },
   {
    "duration": 16,
    "start_time": "2021-08-20T19:40:37.982Z"
   },
   {
    "duration": 456,
    "start_time": "2021-08-20T19:40:38.000Z"
   },
   {
    "duration": 7,
    "start_time": "2021-08-20T19:40:38.458Z"
   },
   {
    "duration": 20,
    "start_time": "2021-08-20T19:40:38.467Z"
   },
   {
    "duration": 17,
    "start_time": "2021-08-20T19:40:38.490Z"
   },
   {
    "duration": 46,
    "start_time": "2021-08-20T19:40:38.510Z"
   },
   {
    "duration": 21,
    "start_time": "2021-08-20T19:40:38.559Z"
   },
   {
    "duration": 16,
    "start_time": "2021-08-20T19:40:38.582Z"
   },
   {
    "duration": 57,
    "start_time": "2021-08-20T19:40:38.601Z"
   },
   {
    "duration": 12,
    "start_time": "2021-08-20T19:40:38.660Z"
   },
   {
    "duration": 39,
    "start_time": "2021-08-20T19:40:38.674Z"
   },
   {
    "duration": 10,
    "start_time": "2021-08-20T19:40:38.716Z"
   },
   {
    "duration": 43,
    "start_time": "2021-08-20T19:40:38.729Z"
   },
   {
    "duration": 11,
    "start_time": "2021-08-20T19:40:38.775Z"
   },
   {
    "duration": 24,
    "start_time": "2021-08-20T19:40:38.789Z"
   },
   {
    "duration": 13,
    "start_time": "2021-08-20T19:40:38.815Z"
   },
   {
    "duration": 24,
    "start_time": "2021-08-20T19:40:38.856Z"
   },
   {
    "duration": 28,
    "start_time": "2021-08-20T19:40:38.882Z"
   },
   {
    "duration": 25,
    "start_time": "2021-08-20T19:40:38.912Z"
   },
   {
    "duration": 36,
    "start_time": "2021-08-20T19:40:38.940Z"
   },
   {
    "duration": 14,
    "start_time": "2021-08-20T19:40:38.978Z"
   },
   {
    "duration": 35,
    "start_time": "2021-08-20T19:40:38.994Z"
   },
   {
    "duration": 22,
    "start_time": "2021-08-20T19:40:39.032Z"
   },
   {
    "duration": 25,
    "start_time": "2021-08-20T19:40:39.056Z"
   },
   {
    "duration": 26,
    "start_time": "2021-08-20T19:40:39.083Z"
   },
   {
    "duration": 16,
    "start_time": "2021-08-20T19:40:39.111Z"
   },
   {
    "duration": 34,
    "start_time": "2021-08-20T19:40:39.129Z"
   },
   {
    "duration": 31,
    "start_time": "2021-08-20T19:40:39.165Z"
   },
   {
    "duration": 67,
    "start_time": "2021-08-20T19:40:39.198Z"
   },
   {
    "duration": 9,
    "start_time": "2021-08-20T19:40:39.268Z"
   },
   {
    "duration": 17,
    "start_time": "2021-08-20T19:40:39.279Z"
   },
   {
    "duration": 29,
    "start_time": "2021-08-20T19:40:39.298Z"
   },
   {
    "duration": 20,
    "start_time": "2021-08-20T19:40:39.336Z"
   },
   {
    "duration": 6,
    "start_time": "2021-08-20T19:40:39.359Z"
   },
   {
    "duration": 388,
    "start_time": "2021-08-20T19:40:39.367Z"
   },
   {
    "duration": 5,
    "start_time": "2021-08-20T19:40:39.758Z"
   },
   {
    "duration": 23,
    "start_time": "2021-08-20T19:40:39.765Z"
   },
   {
    "duration": 56,
    "start_time": "2021-08-20T19:40:39.791Z"
   },
   {
    "duration": 21,
    "start_time": "2021-08-20T19:40:39.849Z"
   },
   {
    "duration": 25,
    "start_time": "2021-08-20T19:40:39.872Z"
   },
   {
    "duration": 14,
    "start_time": "2021-08-20T19:40:39.899Z"
   },
   {
    "duration": 16,
    "start_time": "2021-08-20T19:40:39.915Z"
   },
   {
    "duration": 22,
    "start_time": "2021-08-20T19:40:39.934Z"
   },
   {
    "duration": 24,
    "start_time": "2021-08-20T19:40:39.959Z"
   },
   {
    "duration": 18,
    "start_time": "2021-08-20T19:40:39.986Z"
   },
   {
    "duration": 31,
    "start_time": "2021-08-20T19:40:40.007Z"
   },
   {
    "duration": 23,
    "start_time": "2021-08-20T19:40:40.040Z"
   },
   {
    "duration": 12,
    "start_time": "2021-08-20T19:40:40.066Z"
   },
   {
    "duration": 28,
    "start_time": "2021-08-20T19:40:40.080Z"
   },
   {
    "duration": 21,
    "start_time": "2021-08-20T19:40:40.111Z"
   },
   {
    "duration": 25,
    "start_time": "2021-08-20T19:40:40.134Z"
   },
   {
    "duration": 22,
    "start_time": "2021-08-20T19:40:40.161Z"
   },
   {
    "duration": 344,
    "start_time": "2021-08-20T19:40:40.185Z"
   },
   {
    "duration": 337,
    "start_time": "2021-08-20T19:40:40.531Z"
   },
   {
    "duration": 9,
    "start_time": "2021-08-20T19:40:40.871Z"
   },
   {
    "duration": 30,
    "start_time": "2021-08-20T19:40:40.883Z"
   },
   {
    "duration": 31,
    "start_time": "2021-08-20T19:40:40.916Z"
   },
   {
    "duration": 34,
    "start_time": "2021-08-20T19:40:40.949Z"
   },
   {
    "duration": 25,
    "start_time": "2021-08-20T19:40:40.985Z"
   },
   {
    "duration": 28,
    "start_time": "2021-08-20T19:40:41.013Z"
   },
   {
    "duration": 23,
    "start_time": "2021-08-20T19:40:41.043Z"
   },
   {
    "duration": 20,
    "start_time": "2021-08-20T19:40:41.068Z"
   },
   {
    "duration": 329,
    "start_time": "2021-08-20T19:40:41.090Z"
   },
   {
    "duration": 325,
    "start_time": "2021-08-20T19:40:41.422Z"
   },
   {
    "duration": 10,
    "start_time": "2021-08-20T19:40:41.754Z"
   },
   {
    "duration": 29,
    "start_time": "2021-08-20T19:40:41.766Z"
   },
   {
    "duration": 57,
    "start_time": "2021-08-20T19:40:41.797Z"
   },
   {
    "duration": 6,
    "start_time": "2021-08-20T19:40:41.856Z"
   },
   {
    "duration": 34,
    "start_time": "2021-08-20T19:40:41.864Z"
   },
   {
    "duration": 55,
    "start_time": "2021-08-20T19:40:41.901Z"
   },
   {
    "duration": 22,
    "start_time": "2021-08-20T19:40:41.959Z"
   },
   {
    "duration": 16,
    "start_time": "2021-08-20T19:40:41.984Z"
   },
   {
    "duration": 904,
    "start_time": "2021-08-20T19:40:42.003Z"
   },
   {
    "duration": 317,
    "start_time": "2021-08-20T19:40:42.910Z"
   },
   {
    "duration": 1092,
    "start_time": "2021-08-20T19:40:43.230Z"
   },
   {
    "duration": 12,
    "start_time": "2021-08-20T19:40:44.325Z"
   },
   {
    "duration": 10,
    "start_time": "2021-08-20T19:40:44.354Z"
   },
   {
    "duration": 18,
    "start_time": "2021-08-20T19:40:44.366Z"
   },
   {
    "duration": 19,
    "start_time": "2021-08-20T19:40:44.387Z"
   },
   {
    "duration": 25,
    "start_time": "2021-08-20T19:40:44.409Z"
   },
   {
    "duration": 23,
    "start_time": "2021-08-20T19:40:44.436Z"
   },
   {
    "duration": 32,
    "start_time": "2021-08-20T19:40:44.461Z"
   },
   {
    "duration": 8,
    "start_time": "2021-08-20T19:41:43.764Z"
   },
   {
    "duration": 6,
    "start_time": "2021-08-20T19:41:56.297Z"
   },
   {
    "duration": 11,
    "start_time": "2021-08-20T19:42:34.196Z"
   },
   {
    "duration": 9,
    "start_time": "2021-08-20T19:42:35.954Z"
   },
   {
    "duration": 1387,
    "start_time": "2021-08-20T19:43:21.017Z"
   },
   {
    "duration": 303,
    "start_time": "2021-08-20T19:43:22.406Z"
   },
   {
    "duration": 15,
    "start_time": "2021-08-20T19:43:22.712Z"
   },
   {
    "duration": 313,
    "start_time": "2021-08-20T19:43:22.730Z"
   },
   {
    "duration": 16,
    "start_time": "2021-08-20T19:43:23.045Z"
   },
   {
    "duration": 14,
    "start_time": "2021-08-20T19:43:23.063Z"
   },
   {
    "duration": 225,
    "start_time": "2021-08-20T19:43:23.080Z"
   },
   {
    "duration": 11,
    "start_time": "2021-08-20T19:43:23.310Z"
   },
   {
    "duration": 76,
    "start_time": "2021-08-20T19:43:23.326Z"
   },
   {
    "duration": 14,
    "start_time": "2021-08-20T19:43:23.404Z"
   },
   {
    "duration": 44,
    "start_time": "2021-08-20T19:43:23.420Z"
   },
   {
    "duration": 11,
    "start_time": "2021-08-20T19:43:23.467Z"
   },
   {
    "duration": 16,
    "start_time": "2021-08-20T19:43:23.480Z"
   },
   {
    "duration": 87,
    "start_time": "2021-08-20T19:43:23.499Z"
   },
   {
    "duration": 70,
    "start_time": "2021-08-20T19:43:23.588Z"
   },
   {
    "duration": 28,
    "start_time": "2021-08-20T19:43:23.661Z"
   },
   {
    "duration": 24,
    "start_time": "2021-08-20T19:43:23.692Z"
   },
   {
    "duration": 66,
    "start_time": "2021-08-20T19:43:23.718Z"
   },
   {
    "duration": 6,
    "start_time": "2021-08-20T19:43:23.787Z"
   },
   {
    "duration": 10,
    "start_time": "2021-08-20T19:43:23.796Z"
   },
   {
    "duration": 10,
    "start_time": "2021-08-20T19:43:23.808Z"
   },
   {
    "duration": 32,
    "start_time": "2021-08-20T19:43:23.821Z"
   },
   {
    "duration": 29,
    "start_time": "2021-08-20T19:43:23.859Z"
   },
   {
    "duration": 37,
    "start_time": "2021-08-20T19:43:23.891Z"
   },
   {
    "duration": 27,
    "start_time": "2021-08-20T19:43:23.931Z"
   },
   {
    "duration": 5,
    "start_time": "2021-08-20T19:43:23.960Z"
   },
   {
    "duration": 20,
    "start_time": "2021-08-20T19:43:23.967Z"
   },
   {
    "duration": 13,
    "start_time": "2021-08-20T19:43:23.989Z"
   },
   {
    "duration": 60,
    "start_time": "2021-08-20T19:43:24.004Z"
   },
   {
    "duration": 23,
    "start_time": "2021-08-20T19:43:24.066Z"
   },
   {
    "duration": 20,
    "start_time": "2021-08-20T19:43:24.092Z"
   },
   {
    "duration": 16,
    "start_time": "2021-08-20T19:43:24.114Z"
   },
   {
    "duration": 70,
    "start_time": "2021-08-20T19:43:24.132Z"
   },
   {
    "duration": 452,
    "start_time": "2021-08-20T19:43:24.205Z"
   },
   {
    "duration": 28,
    "start_time": "2021-08-20T19:43:24.660Z"
   },
   {
    "duration": 17,
    "start_time": "2021-08-20T19:43:24.691Z"
   },
   {
    "duration": 468,
    "start_time": "2021-08-20T19:43:24.710Z"
   },
   {
    "duration": 7,
    "start_time": "2021-08-20T19:43:25.181Z"
   },
   {
    "duration": 15,
    "start_time": "2021-08-20T19:43:25.190Z"
   },
   {
    "duration": 13,
    "start_time": "2021-08-20T19:43:25.208Z"
   },
   {
    "duration": 49,
    "start_time": "2021-08-20T19:43:25.223Z"
   },
   {
    "duration": 23,
    "start_time": "2021-08-20T19:43:25.275Z"
   },
   {
    "duration": 16,
    "start_time": "2021-08-20T19:43:25.300Z"
   },
   {
    "duration": 57,
    "start_time": "2021-08-20T19:43:25.319Z"
   },
   {
    "duration": 12,
    "start_time": "2021-08-20T19:43:25.378Z"
   },
   {
    "duration": 33,
    "start_time": "2021-08-20T19:43:25.393Z"
   },
   {
    "duration": 31,
    "start_time": "2021-08-20T19:43:25.428Z"
   },
   {
    "duration": 22,
    "start_time": "2021-08-20T19:43:25.461Z"
   },
   {
    "duration": 11,
    "start_time": "2021-08-20T19:43:25.486Z"
   },
   {
    "duration": 21,
    "start_time": "2021-08-20T19:43:25.499Z"
   },
   {
    "duration": 39,
    "start_time": "2021-08-20T19:43:25.522Z"
   },
   {
    "duration": 23,
    "start_time": "2021-08-20T19:43:25.564Z"
   },
   {
    "duration": 22,
    "start_time": "2021-08-20T19:43:25.589Z"
   },
   {
    "duration": 42,
    "start_time": "2021-08-20T19:43:25.614Z"
   },
   {
    "duration": 22,
    "start_time": "2021-08-20T19:43:25.658Z"
   },
   {
    "duration": 15,
    "start_time": "2021-08-20T19:43:25.683Z"
   },
   {
    "duration": 17,
    "start_time": "2021-08-20T19:43:25.701Z"
   },
   {
    "duration": 42,
    "start_time": "2021-08-20T19:43:25.721Z"
   },
   {
    "duration": 13,
    "start_time": "2021-08-20T19:43:25.765Z"
   },
   {
    "duration": 25,
    "start_time": "2021-08-20T19:43:25.781Z"
   },
   {
    "duration": 46,
    "start_time": "2021-08-20T19:43:25.809Z"
   },
   {
    "duration": 21,
    "start_time": "2021-08-20T19:43:25.857Z"
   },
   {
    "duration": 14,
    "start_time": "2021-08-20T19:43:25.881Z"
   },
   {
    "duration": 65,
    "start_time": "2021-08-20T19:43:25.897Z"
   },
   {
    "duration": 12,
    "start_time": "2021-08-20T19:43:25.965Z"
   },
   {
    "duration": 10,
    "start_time": "2021-08-20T19:43:25.980Z"
   },
   {
    "duration": 15,
    "start_time": "2021-08-20T19:43:25.993Z"
   },
   {
    "duration": 18,
    "start_time": "2021-08-20T19:43:26.053Z"
   },
   {
    "duration": 5,
    "start_time": "2021-08-20T19:43:26.075Z"
   },
   {
    "duration": 373,
    "start_time": "2021-08-20T19:43:26.082Z"
   },
   {
    "duration": 5,
    "start_time": "2021-08-20T19:43:26.457Z"
   },
   {
    "duration": 7,
    "start_time": "2021-08-20T19:43:26.464Z"
   },
   {
    "duration": 33,
    "start_time": "2021-08-20T19:43:26.474Z"
   },
   {
    "duration": 9,
    "start_time": "2021-08-20T19:43:26.510Z"
   },
   {
    "duration": 35,
    "start_time": "2021-08-20T19:43:26.522Z"
   },
   {
    "duration": 5,
    "start_time": "2021-08-20T19:43:26.560Z"
   },
   {
    "duration": 8,
    "start_time": "2021-08-20T19:43:26.568Z"
   },
   {
    "duration": 13,
    "start_time": "2021-08-20T19:43:26.578Z"
   },
   {
    "duration": 12,
    "start_time": "2021-08-20T19:43:26.593Z"
   },
   {
    "duration": 49,
    "start_time": "2021-08-20T19:43:26.607Z"
   },
   {
    "duration": 8,
    "start_time": "2021-08-20T19:43:26.659Z"
   },
   {
    "duration": 10,
    "start_time": "2021-08-20T19:43:26.669Z"
   },
   {
    "duration": 7,
    "start_time": "2021-08-20T19:43:26.681Z"
   },
   {
    "duration": 11,
    "start_time": "2021-08-20T19:43:26.690Z"
   },
   {
    "duration": 13,
    "start_time": "2021-08-20T19:43:26.703Z"
   },
   {
    "duration": 41,
    "start_time": "2021-08-20T19:43:26.719Z"
   },
   {
    "duration": 6,
    "start_time": "2021-08-20T19:43:26.763Z"
   },
   {
    "duration": 357,
    "start_time": "2021-08-20T19:43:26.771Z"
   },
   {
    "duration": 342,
    "start_time": "2021-08-20T19:43:27.130Z"
   },
   {
    "duration": 10,
    "start_time": "2021-08-20T19:43:27.474Z"
   },
   {
    "duration": 15,
    "start_time": "2021-08-20T19:43:27.486Z"
   },
   {
    "duration": 7,
    "start_time": "2021-08-20T19:43:27.504Z"
   },
   {
    "duration": 7,
    "start_time": "2021-08-20T19:43:27.513Z"
   },
   {
    "duration": 36,
    "start_time": "2021-08-20T19:43:27.522Z"
   },
   {
    "duration": 8,
    "start_time": "2021-08-20T19:43:27.561Z"
   },
   {
    "duration": 8,
    "start_time": "2021-08-20T19:43:27.571Z"
   },
   {
    "duration": 7,
    "start_time": "2021-08-20T19:43:27.581Z"
   },
   {
    "duration": 763,
    "start_time": "2021-08-20T19:43:27.591Z"
   },
   {
    "duration": 344,
    "start_time": "2021-08-20T19:43:28.357Z"
   },
   {
    "duration": 10,
    "start_time": "2021-08-20T19:43:28.703Z"
   },
   {
    "duration": 392,
    "start_time": "2021-08-20T19:43:28.715Z"
   },
   {
    "duration": -6025,
    "start_time": "2021-08-20T19:43:35.134Z"
   },
   {
    "duration": -6129,
    "start_time": "2021-08-20T19:43:35.240Z"
   },
   {
    "duration": -6145,
    "start_time": "2021-08-20T19:43:35.257Z"
   },
   {
    "duration": -6156,
    "start_time": "2021-08-20T19:43:35.269Z"
   },
   {
    "duration": -6165,
    "start_time": "2021-08-20T19:43:35.280Z"
   },
   {
    "duration": -6185,
    "start_time": "2021-08-20T19:43:35.301Z"
   },
   {
    "duration": -6192,
    "start_time": "2021-08-20T19:43:35.310Z"
   },
   {
    "duration": -6201,
    "start_time": "2021-08-20T19:43:35.320Z"
   },
   {
    "duration": -6207,
    "start_time": "2021-08-20T19:43:35.328Z"
   },
   {
    "duration": -6236,
    "start_time": "2021-08-20T19:43:35.358Z"
   },
   {
    "duration": -6247,
    "start_time": "2021-08-20T19:43:35.370Z"
   },
   {
    "duration": -6255,
    "start_time": "2021-08-20T19:43:35.380Z"
   },
   {
    "duration": -6271,
    "start_time": "2021-08-20T19:43:35.397Z"
   },
   {
    "duration": -6280,
    "start_time": "2021-08-20T19:43:35.408Z"
   },
   {
    "duration": -6288,
    "start_time": "2021-08-20T19:43:35.417Z"
   },
   {
    "duration": -6297,
    "start_time": "2021-08-20T19:43:35.427Z"
   },
   {
    "duration": 9,
    "start_time": "2021-08-20T19:43:53.064Z"
   },
   {
    "duration": 11,
    "start_time": "2021-08-20T19:44:07.627Z"
   },
   {
    "duration": 10,
    "start_time": "2021-08-20T19:44:09.817Z"
   },
   {
    "duration": 1428,
    "start_time": "2021-08-20T19:44:17.177Z"
   },
   {
    "duration": 313,
    "start_time": "2021-08-20T19:44:18.608Z"
   },
   {
    "duration": 29,
    "start_time": "2021-08-20T19:44:18.925Z"
   },
   {
    "duration": 286,
    "start_time": "2021-08-20T19:44:18.957Z"
   },
   {
    "duration": 14,
    "start_time": "2021-08-20T19:44:19.245Z"
   },
   {
    "duration": 18,
    "start_time": "2021-08-20T19:44:19.262Z"
   },
   {
    "duration": 318,
    "start_time": "2021-08-20T19:44:19.282Z"
   },
   {
    "duration": 11,
    "start_time": "2021-08-20T19:44:19.605Z"
   },
   {
    "duration": 67,
    "start_time": "2021-08-20T19:44:19.620Z"
   },
   {
    "duration": 16,
    "start_time": "2021-08-20T19:44:19.690Z"
   },
   {
    "duration": 64,
    "start_time": "2021-08-20T19:44:19.710Z"
   },
   {
    "duration": 13,
    "start_time": "2021-08-20T19:44:19.776Z"
   },
   {
    "duration": 26,
    "start_time": "2021-08-20T19:44:19.791Z"
   },
   {
    "duration": 86,
    "start_time": "2021-08-20T19:44:19.819Z"
   },
   {
    "duration": 66,
    "start_time": "2021-08-20T19:44:19.907Z"
   },
   {
    "duration": 28,
    "start_time": "2021-08-20T19:44:19.976Z"
   },
   {
    "duration": 47,
    "start_time": "2021-08-20T19:44:20.007Z"
   },
   {
    "duration": 39,
    "start_time": "2021-08-20T19:44:20.056Z"
   },
   {
    "duration": 8,
    "start_time": "2021-08-20T19:44:20.097Z"
   },
   {
    "duration": 23,
    "start_time": "2021-08-20T19:44:20.107Z"
   },
   {
    "duration": 22,
    "start_time": "2021-08-20T19:44:20.132Z"
   },
   {
    "duration": 19,
    "start_time": "2021-08-20T19:44:20.157Z"
   },
   {
    "duration": 43,
    "start_time": "2021-08-20T19:44:20.182Z"
   },
   {
    "duration": 42,
    "start_time": "2021-08-20T19:44:20.229Z"
   },
   {
    "duration": 10,
    "start_time": "2021-08-20T19:44:20.274Z"
   },
   {
    "duration": 17,
    "start_time": "2021-08-20T19:44:20.286Z"
   },
   {
    "duration": 19,
    "start_time": "2021-08-20T19:44:20.306Z"
   },
   {
    "duration": 30,
    "start_time": "2021-08-20T19:44:20.328Z"
   },
   {
    "duration": 43,
    "start_time": "2021-08-20T19:44:20.360Z"
   },
   {
    "duration": 23,
    "start_time": "2021-08-20T19:44:20.406Z"
   },
   {
    "duration": 32,
    "start_time": "2021-08-20T19:44:20.432Z"
   },
   {
    "duration": 40,
    "start_time": "2021-08-20T19:44:20.466Z"
   },
   {
    "duration": 67,
    "start_time": "2021-08-20T19:44:20.509Z"
   },
   {
    "duration": 439,
    "start_time": "2021-08-20T19:44:20.579Z"
   },
   {
    "duration": 36,
    "start_time": "2021-08-20T19:44:21.020Z"
   },
   {
    "duration": 14,
    "start_time": "2021-08-20T19:44:21.059Z"
   },
   {
    "duration": 446,
    "start_time": "2021-08-20T19:44:21.076Z"
   },
   {
    "duration": 7,
    "start_time": "2021-08-20T19:44:21.525Z"
   },
   {
    "duration": 43,
    "start_time": "2021-08-20T19:44:21.534Z"
   },
   {
    "duration": 15,
    "start_time": "2021-08-20T19:44:21.579Z"
   },
   {
    "duration": 37,
    "start_time": "2021-08-20T19:44:21.597Z"
   },
   {
    "duration": 30,
    "start_time": "2021-08-20T19:44:21.637Z"
   },
   {
    "duration": 21,
    "start_time": "2021-08-20T19:44:21.670Z"
   },
   {
    "duration": 43,
    "start_time": "2021-08-20T19:44:21.693Z"
   },
   {
    "duration": 17,
    "start_time": "2021-08-20T19:44:21.739Z"
   },
   {
    "duration": 42,
    "start_time": "2021-08-20T19:44:21.759Z"
   },
   {
    "duration": 11,
    "start_time": "2021-08-20T19:44:21.803Z"
   },
   {
    "duration": 51,
    "start_time": "2021-08-20T19:44:21.816Z"
   },
   {
    "duration": 11,
    "start_time": "2021-08-20T19:44:21.870Z"
   },
   {
    "duration": 28,
    "start_time": "2021-08-20T19:44:21.884Z"
   },
   {
    "duration": 16,
    "start_time": "2021-08-20T19:44:21.915Z"
   },
   {
    "duration": 37,
    "start_time": "2021-08-20T19:44:21.934Z"
   },
   {
    "duration": 24,
    "start_time": "2021-08-20T19:44:21.974Z"
   },
   {
    "duration": 19,
    "start_time": "2021-08-20T19:44:22.001Z"
   },
   {
    "duration": 37,
    "start_time": "2021-08-20T19:44:22.023Z"
   },
   {
    "duration": 29,
    "start_time": "2021-08-20T19:44:22.062Z"
   },
   {
    "duration": 39,
    "start_time": "2021-08-20T19:44:22.094Z"
   },
   {
    "duration": 18,
    "start_time": "2021-08-20T19:44:22.136Z"
   },
   {
    "duration": 29,
    "start_time": "2021-08-20T19:44:22.156Z"
   },
   {
    "duration": 35,
    "start_time": "2021-08-20T19:44:22.189Z"
   },
   {
    "duration": 15,
    "start_time": "2021-08-20T19:44:22.227Z"
   },
   {
    "duration": 40,
    "start_time": "2021-08-20T19:44:22.245Z"
   },
   {
    "duration": 12,
    "start_time": "2021-08-20T19:44:22.288Z"
   },
   {
    "duration": 47,
    "start_time": "2021-08-20T19:44:22.302Z"
   },
   {
    "duration": 12,
    "start_time": "2021-08-20T19:44:22.352Z"
   },
   {
    "duration": 23,
    "start_time": "2021-08-20T19:44:22.366Z"
   },
   {
    "duration": 20,
    "start_time": "2021-08-20T19:44:22.392Z"
   },
   {
    "duration": 24,
    "start_time": "2021-08-20T19:44:22.424Z"
   },
   {
    "duration": 8,
    "start_time": "2021-08-20T19:44:22.457Z"
   },
   {
    "duration": 405,
    "start_time": "2021-08-20T19:44:22.468Z"
   },
   {
    "duration": 6,
    "start_time": "2021-08-20T19:44:22.876Z"
   },
   {
    "duration": 18,
    "start_time": "2021-08-20T19:44:22.885Z"
   },
   {
    "duration": 51,
    "start_time": "2021-08-20T19:44:22.905Z"
   },
   {
    "duration": 16,
    "start_time": "2021-08-20T19:44:22.959Z"
   },
   {
    "duration": 20,
    "start_time": "2021-08-20T19:44:22.977Z"
   },
   {
    "duration": 28,
    "start_time": "2021-08-20T19:44:23.000Z"
   },
   {
    "duration": 36,
    "start_time": "2021-08-20T19:44:23.032Z"
   },
   {
    "duration": 18,
    "start_time": "2021-08-20T19:44:23.071Z"
   },
   {
    "duration": 27,
    "start_time": "2021-08-20T19:44:23.092Z"
   },
   {
    "duration": 16,
    "start_time": "2021-08-20T19:44:23.122Z"
   },
   {
    "duration": 19,
    "start_time": "2021-08-20T19:44:23.141Z"
   },
   {
    "duration": 28,
    "start_time": "2021-08-20T19:44:23.164Z"
   },
   {
    "duration": 26,
    "start_time": "2021-08-20T19:44:23.194Z"
   },
   {
    "duration": 21,
    "start_time": "2021-08-20T19:44:23.223Z"
   },
   {
    "duration": 21,
    "start_time": "2021-08-20T19:44:23.246Z"
   },
   {
    "duration": 23,
    "start_time": "2021-08-20T19:44:23.269Z"
   },
   {
    "duration": 30,
    "start_time": "2021-08-20T19:44:23.295Z"
   },
   {
    "duration": 348,
    "start_time": "2021-08-20T19:44:23.327Z"
   },
   {
    "duration": 349,
    "start_time": "2021-08-20T19:44:23.677Z"
   },
   {
    "duration": 10,
    "start_time": "2021-08-20T19:44:24.028Z"
   },
   {
    "duration": 34,
    "start_time": "2021-08-20T19:44:24.040Z"
   },
   {
    "duration": 37,
    "start_time": "2021-08-20T19:44:24.076Z"
   },
   {
    "duration": 33,
    "start_time": "2021-08-20T19:44:24.115Z"
   },
   {
    "duration": 28,
    "start_time": "2021-08-20T19:44:24.151Z"
   },
   {
    "duration": 36,
    "start_time": "2021-08-20T19:44:24.182Z"
   },
   {
    "duration": 23,
    "start_time": "2021-08-20T19:44:24.221Z"
   },
   {
    "duration": 33,
    "start_time": "2021-08-20T19:44:24.246Z"
   },
   {
    "duration": 350,
    "start_time": "2021-08-20T19:44:24.281Z"
   },
   {
    "duration": 324,
    "start_time": "2021-08-20T19:44:24.633Z"
   },
   {
    "duration": 12,
    "start_time": "2021-08-20T19:44:24.960Z"
   },
   {
    "duration": 20,
    "start_time": "2021-08-20T19:44:24.975Z"
   },
   {
    "duration": 406,
    "start_time": "2021-08-20T19:44:24.998Z"
   },
   {
    "duration": -4247,
    "start_time": "2021-08-20T19:44:29.654Z"
   },
   {
    "duration": -4315,
    "start_time": "2021-08-20T19:44:29.724Z"
   },
   {
    "duration": -4339,
    "start_time": "2021-08-20T19:44:29.750Z"
   },
   {
    "duration": -4360,
    "start_time": "2021-08-20T19:44:29.773Z"
   },
   {
    "duration": -4370,
    "start_time": "2021-08-20T19:44:29.785Z"
   },
   {
    "duration": -4422,
    "start_time": "2021-08-20T19:44:29.839Z"
   },
   {
    "duration": -4489,
    "start_time": "2021-08-20T19:44:29.908Z"
   },
   {
    "duration": -4547,
    "start_time": "2021-08-20T19:44:29.969Z"
   },
   {
    "duration": -4610,
    "start_time": "2021-08-20T19:44:30.034Z"
   },
   {
    "duration": -4675,
    "start_time": "2021-08-20T19:44:30.101Z"
   },
   {
    "duration": -4735,
    "start_time": "2021-08-20T19:44:30.164Z"
   },
   {
    "duration": -4797,
    "start_time": "2021-08-20T19:44:30.228Z"
   },
   {
    "duration": -4859,
    "start_time": "2021-08-20T19:44:30.293Z"
   },
   {
    "duration": -4919,
    "start_time": "2021-08-20T19:44:30.355Z"
   },
   {
    "duration": -4982,
    "start_time": "2021-08-20T19:44:30.420Z"
   },
   {
    "duration": 10,
    "start_time": "2021-08-20T19:45:10.639Z"
   },
   {
    "duration": 7,
    "start_time": "2021-08-20T19:45:12.333Z"
   },
   {
    "duration": 1470,
    "start_time": "2021-08-20T19:45:20.045Z"
   },
   {
    "duration": 363,
    "start_time": "2021-08-20T19:45:21.517Z"
   },
   {
    "duration": 19,
    "start_time": "2021-08-20T19:45:21.884Z"
   },
   {
    "duration": 311,
    "start_time": "2021-08-20T19:45:21.906Z"
   },
   {
    "duration": 11,
    "start_time": "2021-08-20T19:45:22.220Z"
   },
   {
    "duration": 29,
    "start_time": "2021-08-20T19:45:22.234Z"
   },
   {
    "duration": 197,
    "start_time": "2021-08-20T19:45:22.265Z"
   },
   {
    "duration": 10,
    "start_time": "2021-08-20T19:45:22.465Z"
   },
   {
    "duration": 55,
    "start_time": "2021-08-20T19:45:22.478Z"
   },
   {
    "duration": 16,
    "start_time": "2021-08-20T19:45:22.535Z"
   },
   {
    "duration": 46,
    "start_time": "2021-08-20T19:45:22.554Z"
   },
   {
    "duration": 12,
    "start_time": "2021-08-20T19:45:22.603Z"
   },
   {
    "duration": 13,
    "start_time": "2021-08-20T19:45:22.618Z"
   },
   {
    "duration": 71,
    "start_time": "2021-08-20T19:45:22.633Z"
   },
   {
    "duration": 70,
    "start_time": "2021-08-20T19:45:22.706Z"
   },
   {
    "duration": 30,
    "start_time": "2021-08-20T19:45:22.778Z"
   },
   {
    "duration": 44,
    "start_time": "2021-08-20T19:45:22.810Z"
   },
   {
    "duration": 39,
    "start_time": "2021-08-20T19:45:22.857Z"
   },
   {
    "duration": 7,
    "start_time": "2021-08-20T19:45:22.898Z"
   },
   {
    "duration": 10,
    "start_time": "2021-08-20T19:45:22.907Z"
   },
   {
    "duration": 9,
    "start_time": "2021-08-20T19:45:22.919Z"
   },
   {
    "duration": 45,
    "start_time": "2021-08-20T19:45:22.930Z"
   },
   {
    "duration": 34,
    "start_time": "2021-08-20T19:45:22.981Z"
   },
   {
    "duration": 44,
    "start_time": "2021-08-20T19:45:23.019Z"
   },
   {
    "duration": 10,
    "start_time": "2021-08-20T19:45:23.065Z"
   },
   {
    "duration": 5,
    "start_time": "2021-08-20T19:45:23.077Z"
   },
   {
    "duration": 18,
    "start_time": "2021-08-20T19:45:23.084Z"
   },
   {
    "duration": 11,
    "start_time": "2021-08-20T19:45:23.104Z"
   },
   {
    "duration": 60,
    "start_time": "2021-08-20T19:45:23.117Z"
   },
   {
    "duration": 23,
    "start_time": "2021-08-20T19:45:23.180Z"
   },
   {
    "duration": 23,
    "start_time": "2021-08-20T19:45:23.205Z"
   },
   {
    "duration": 33,
    "start_time": "2021-08-20T19:45:23.231Z"
   },
   {
    "duration": 51,
    "start_time": "2021-08-20T19:45:23.266Z"
   },
   {
    "duration": 473,
    "start_time": "2021-08-20T19:45:23.320Z"
   },
   {
    "duration": 29,
    "start_time": "2021-08-20T19:45:23.795Z"
   },
   {
    "duration": 36,
    "start_time": "2021-08-20T19:45:23.827Z"
   },
   {
    "duration": 481,
    "start_time": "2021-08-20T19:45:23.865Z"
   },
   {
    "duration": 12,
    "start_time": "2021-08-20T19:45:24.349Z"
   },
   {
    "duration": 22,
    "start_time": "2021-08-20T19:45:24.363Z"
   },
   {
    "duration": 23,
    "start_time": "2021-08-20T19:45:24.387Z"
   },
   {
    "duration": 36,
    "start_time": "2021-08-20T19:45:24.413Z"
   },
   {
    "duration": 36,
    "start_time": "2021-08-20T19:45:24.455Z"
   },
   {
    "duration": 17,
    "start_time": "2021-08-20T19:45:24.493Z"
   },
   {
    "duration": 51,
    "start_time": "2021-08-20T19:45:24.513Z"
   },
   {
    "duration": 13,
    "start_time": "2021-08-20T19:45:24.567Z"
   },
   {
    "duration": 44,
    "start_time": "2021-08-20T19:45:24.583Z"
   },
   {
    "duration": 10,
    "start_time": "2021-08-20T19:45:24.629Z"
   },
   {
    "duration": 43,
    "start_time": "2021-08-20T19:45:24.642Z"
   },
   {
    "duration": 17,
    "start_time": "2021-08-20T19:45:24.688Z"
   },
   {
    "duration": 43,
    "start_time": "2021-08-20T19:45:24.708Z"
   },
   {
    "duration": 20,
    "start_time": "2021-08-20T19:45:24.755Z"
   },
   {
    "duration": 43,
    "start_time": "2021-08-20T19:45:24.778Z"
   },
   {
    "duration": 23,
    "start_time": "2021-08-20T19:45:24.823Z"
   },
   {
    "duration": 14,
    "start_time": "2021-08-20T19:45:24.849Z"
   },
   {
    "duration": 23,
    "start_time": "2021-08-20T19:45:24.865Z"
   },
   {
    "duration": 14,
    "start_time": "2021-08-20T19:45:24.890Z"
   },
   {
    "duration": 49,
    "start_time": "2021-08-20T19:45:24.907Z"
   },
   {
    "duration": 12,
    "start_time": "2021-08-20T19:45:24.959Z"
   },
   {
    "duration": 21,
    "start_time": "2021-08-20T19:45:24.973Z"
   },
   {
    "duration": 43,
    "start_time": "2021-08-20T19:45:24.997Z"
   },
   {
    "duration": 18,
    "start_time": "2021-08-20T19:45:25.055Z"
   },
   {
    "duration": 27,
    "start_time": "2021-08-20T19:45:25.076Z"
   },
   {
    "duration": 24,
    "start_time": "2021-08-20T19:45:25.106Z"
   },
   {
    "duration": 59,
    "start_time": "2021-08-20T19:45:25.133Z"
   },
   {
    "duration": 9,
    "start_time": "2021-08-20T19:45:25.194Z"
   },
   {
    "duration": 8,
    "start_time": "2021-08-20T19:45:25.206Z"
   },
   {
    "duration": 43,
    "start_time": "2021-08-20T19:45:25.216Z"
   },
   {
    "duration": 16,
    "start_time": "2021-08-20T19:45:25.268Z"
   },
   {
    "duration": 4,
    "start_time": "2021-08-20T19:45:25.288Z"
   },
   {
    "duration": 383,
    "start_time": "2021-08-20T19:45:25.295Z"
   },
   {
    "duration": 4,
    "start_time": "2021-08-20T19:45:25.681Z"
   },
   {
    "duration": 10,
    "start_time": "2021-08-20T19:45:25.688Z"
   },
   {
    "duration": 37,
    "start_time": "2021-08-20T19:45:25.700Z"
   },
   {
    "duration": 23,
    "start_time": "2021-08-20T19:45:25.739Z"
   },
   {
    "duration": 10,
    "start_time": "2021-08-20T19:45:25.765Z"
   },
   {
    "duration": 10,
    "start_time": "2021-08-20T19:45:25.777Z"
   },
   {
    "duration": 7,
    "start_time": "2021-08-20T19:45:25.789Z"
   },
   {
    "duration": 61,
    "start_time": "2021-08-20T19:45:25.798Z"
   },
   {
    "duration": 13,
    "start_time": "2021-08-20T19:45:25.862Z"
   },
   {
    "duration": 8,
    "start_time": "2021-08-20T19:45:25.878Z"
   },
   {
    "duration": 14,
    "start_time": "2021-08-20T19:45:25.889Z"
   },
   {
    "duration": 50,
    "start_time": "2021-08-20T19:45:25.906Z"
   },
   {
    "duration": 18,
    "start_time": "2021-08-20T19:45:25.960Z"
   },
   {
    "duration": 11,
    "start_time": "2021-08-20T19:45:25.981Z"
   },
   {
    "duration": 7,
    "start_time": "2021-08-20T19:45:25.994Z"
   },
   {
    "duration": 13,
    "start_time": "2021-08-20T19:45:26.003Z"
   },
   {
    "duration": 13,
    "start_time": "2021-08-20T19:45:26.019Z"
   },
   {
    "duration": 363,
    "start_time": "2021-08-20T19:45:26.034Z"
   },
   {
    "duration": 339,
    "start_time": "2021-08-20T19:45:26.399Z"
   },
   {
    "duration": 19,
    "start_time": "2021-08-20T19:45:26.740Z"
   },
   {
    "duration": 8,
    "start_time": "2021-08-20T19:45:26.762Z"
   },
   {
    "duration": 7,
    "start_time": "2021-08-20T19:45:26.773Z"
   },
   {
    "duration": 11,
    "start_time": "2021-08-20T19:45:26.782Z"
   },
   {
    "duration": 8,
    "start_time": "2021-08-20T19:45:26.796Z"
   },
   {
    "duration": 49,
    "start_time": "2021-08-20T19:45:26.807Z"
   },
   {
    "duration": 12,
    "start_time": "2021-08-20T19:45:26.858Z"
   },
   {
    "duration": 17,
    "start_time": "2021-08-20T19:45:26.872Z"
   },
   {
    "duration": 332,
    "start_time": "2021-08-20T19:45:26.892Z"
   },
   {
    "duration": 341,
    "start_time": "2021-08-20T19:45:27.227Z"
   },
   {
    "duration": 12,
    "start_time": "2021-08-20T19:45:27.571Z"
   },
   {
    "duration": 13,
    "start_time": "2021-08-20T19:45:27.585Z"
   },
   {
    "duration": 5,
    "start_time": "2021-08-20T19:45:27.601Z"
   },
   {
    "duration": 16,
    "start_time": "2021-08-20T19:45:27.608Z"
   },
   {
    "duration": 5,
    "start_time": "2021-08-20T19:45:27.654Z"
   },
   {
    "duration": 9,
    "start_time": "2021-08-20T19:45:27.661Z"
   },
   {
    "duration": 15,
    "start_time": "2021-08-20T19:45:27.673Z"
   },
   {
    "duration": 7,
    "start_time": "2021-08-20T19:45:27.690Z"
   },
   {
    "duration": 401,
    "start_time": "2021-08-20T19:45:27.700Z"
   },
   {
    "duration": -4431,
    "start_time": "2021-08-20T19:45:32.534Z"
   },
   {
    "duration": -4441,
    "start_time": "2021-08-20T19:45:32.546Z"
   },
   {
    "duration": -4449,
    "start_time": "2021-08-20T19:45:32.556Z"
   },
   {
    "duration": -4563,
    "start_time": "2021-08-20T19:45:32.671Z"
   },
   {
    "duration": -4631,
    "start_time": "2021-08-20T19:45:32.741Z"
   },
   {
    "duration": -4696,
    "start_time": "2021-08-20T19:45:32.807Z"
   },
   {
    "duration": -4755,
    "start_time": "2021-08-20T19:45:32.868Z"
   },
   {
    "duration": -4816,
    "start_time": "2021-08-20T19:45:32.930Z"
   },
   {
    "duration": -4877,
    "start_time": "2021-08-20T19:45:32.992Z"
   },
   {
    "duration": 1477,
    "start_time": "2021-08-20T19:46:09.527Z"
   },
   {
    "duration": 317,
    "start_time": "2021-08-20T19:46:11.007Z"
   },
   {
    "duration": 28,
    "start_time": "2021-08-20T19:46:11.327Z"
   },
   {
    "duration": 313,
    "start_time": "2021-08-20T19:46:11.359Z"
   },
   {
    "duration": 11,
    "start_time": "2021-08-20T19:46:11.675Z"
   },
   {
    "duration": 26,
    "start_time": "2021-08-20T19:46:11.688Z"
   },
   {
    "duration": 468,
    "start_time": "2021-08-20T19:46:11.716Z"
   },
   {
    "duration": 12,
    "start_time": "2021-08-20T19:46:12.189Z"
   },
   {
    "duration": 55,
    "start_time": "2021-08-20T19:46:12.205Z"
   },
   {
    "duration": 16,
    "start_time": "2021-08-20T19:46:12.262Z"
   },
   {
    "duration": 52,
    "start_time": "2021-08-20T19:46:12.280Z"
   },
   {
    "duration": 13,
    "start_time": "2021-08-20T19:46:12.335Z"
   },
   {
    "duration": 9,
    "start_time": "2021-08-20T19:46:12.351Z"
   },
   {
    "duration": 88,
    "start_time": "2021-08-20T19:46:12.362Z"
   },
   {
    "duration": 60,
    "start_time": "2021-08-20T19:46:12.453Z"
   },
   {
    "duration": 47,
    "start_time": "2021-08-20T19:46:12.516Z"
   },
   {
    "duration": 27,
    "start_time": "2021-08-20T19:46:12.565Z"
   },
   {
    "duration": 60,
    "start_time": "2021-08-20T19:46:12.594Z"
   },
   {
    "duration": 7,
    "start_time": "2021-08-20T19:46:12.656Z"
   },
   {
    "duration": 7,
    "start_time": "2021-08-20T19:46:12.666Z"
   },
   {
    "duration": 17,
    "start_time": "2021-08-20T19:46:12.675Z"
   },
   {
    "duration": 17,
    "start_time": "2021-08-20T19:46:12.695Z"
   },
   {
    "duration": 58,
    "start_time": "2021-08-20T19:46:12.719Z"
   },
   {
    "duration": 83,
    "start_time": "2021-08-20T19:46:12.781Z"
   },
   {
    "duration": 10,
    "start_time": "2021-08-20T19:46:12.867Z"
   },
   {
    "duration": 11,
    "start_time": "2021-08-20T19:46:12.879Z"
   },
   {
    "duration": 71,
    "start_time": "2021-08-20T19:46:12.893Z"
   },
   {
    "duration": 13,
    "start_time": "2021-08-20T19:46:12.966Z"
   },
   {
    "duration": 80,
    "start_time": "2021-08-20T19:46:12.981Z"
   },
   {
    "duration": 22,
    "start_time": "2021-08-20T19:46:13.063Z"
   },
   {
    "duration": 71,
    "start_time": "2021-08-20T19:46:13.088Z"
   },
   {
    "duration": 20,
    "start_time": "2021-08-20T19:46:13.161Z"
   },
   {
    "duration": 98,
    "start_time": "2021-08-20T19:46:13.183Z"
   },
   {
    "duration": 817,
    "start_time": "2021-08-20T19:46:13.283Z"
   },
   {
    "duration": 76,
    "start_time": "2021-08-20T19:46:14.102Z"
   },
   {
    "duration": 15,
    "start_time": "2021-08-20T19:46:14.181Z"
   },
   {
    "duration": 639,
    "start_time": "2021-08-20T19:46:14.198Z"
   },
   {
    "duration": 16,
    "start_time": "2021-08-20T19:46:14.840Z"
   },
   {
    "duration": 23,
    "start_time": "2021-08-20T19:46:14.858Z"
   },
   {
    "duration": 22,
    "start_time": "2021-08-20T19:46:14.884Z"
   },
   {
    "duration": 34,
    "start_time": "2021-08-20T19:46:14.909Z"
   },
   {
    "duration": 30,
    "start_time": "2021-08-20T19:46:14.945Z"
   },
   {
    "duration": 17,
    "start_time": "2021-08-20T19:46:14.977Z"
   },
   {
    "duration": 56,
    "start_time": "2021-08-20T19:46:14.997Z"
   },
   {
    "duration": 15,
    "start_time": "2021-08-20T19:46:15.056Z"
   },
   {
    "duration": 33,
    "start_time": "2021-08-20T19:46:15.073Z"
   },
   {
    "duration": 10,
    "start_time": "2021-08-20T19:46:15.109Z"
   },
   {
    "duration": 47,
    "start_time": "2021-08-20T19:46:15.121Z"
   },
   {
    "duration": 11,
    "start_time": "2021-08-20T19:46:15.170Z"
   },
   {
    "duration": 24,
    "start_time": "2021-08-20T19:46:15.183Z"
   },
   {
    "duration": 9,
    "start_time": "2021-08-20T19:46:15.210Z"
   },
   {
    "duration": 53,
    "start_time": "2021-08-20T19:46:15.221Z"
   },
   {
    "duration": 21,
    "start_time": "2021-08-20T19:46:15.276Z"
   },
   {
    "duration": 11,
    "start_time": "2021-08-20T19:46:15.299Z"
   },
   {
    "duration": 51,
    "start_time": "2021-08-20T19:46:15.312Z"
   },
   {
    "duration": 14,
    "start_time": "2021-08-20T19:46:15.365Z"
   },
   {
    "duration": 21,
    "start_time": "2021-08-20T19:46:15.382Z"
   },
   {
    "duration": 11,
    "start_time": "2021-08-20T19:46:15.405Z"
   },
   {
    "duration": 41,
    "start_time": "2021-08-20T19:46:15.418Z"
   },
   {
    "duration": 30,
    "start_time": "2021-08-20T19:46:15.461Z"
   },
   {
    "duration": 12,
    "start_time": "2021-08-20T19:46:15.493Z"
   },
   {
    "duration": 48,
    "start_time": "2021-08-20T19:46:15.508Z"
   },
   {
    "duration": 11,
    "start_time": "2021-08-20T19:46:15.558Z"
   },
   {
    "duration": 47,
    "start_time": "2021-08-20T19:46:15.571Z"
   },
   {
    "duration": 9,
    "start_time": "2021-08-20T19:46:15.621Z"
   },
   {
    "duration": 8,
    "start_time": "2021-08-20T19:46:15.654Z"
   },
   {
    "duration": 15,
    "start_time": "2021-08-20T19:46:15.664Z"
   },
   {
    "duration": 16,
    "start_time": "2021-08-20T19:46:15.688Z"
   },
   {
    "duration": 5,
    "start_time": "2021-08-20T19:46:15.707Z"
   },
   {
    "duration": 387,
    "start_time": "2021-08-20T19:46:15.714Z"
   },
   {
    "duration": 5,
    "start_time": "2021-08-20T19:46:16.103Z"
   },
   {
    "duration": 16,
    "start_time": "2021-08-20T19:46:16.111Z"
   },
   {
    "duration": 45,
    "start_time": "2021-08-20T19:46:16.130Z"
   },
   {
    "duration": 14,
    "start_time": "2021-08-20T19:46:16.179Z"
   },
   {
    "duration": 13,
    "start_time": "2021-08-20T19:46:16.195Z"
   },
   {
    "duration": 16,
    "start_time": "2021-08-20T19:46:16.211Z"
   },
   {
    "duration": 26,
    "start_time": "2021-08-20T19:46:16.230Z"
   },
   {
    "duration": 14,
    "start_time": "2021-08-20T19:46:16.259Z"
   },
   {
    "duration": 15,
    "start_time": "2021-08-20T19:46:16.276Z"
   },
   {
    "duration": 7,
    "start_time": "2021-08-20T19:46:16.294Z"
   },
   {
    "duration": 53,
    "start_time": "2021-08-20T19:46:16.304Z"
   },
   {
    "duration": 6,
    "start_time": "2021-08-20T19:46:16.360Z"
   },
   {
    "duration": 8,
    "start_time": "2021-08-20T19:46:16.368Z"
   },
   {
    "duration": 11,
    "start_time": "2021-08-20T19:46:16.379Z"
   },
   {
    "duration": 10,
    "start_time": "2021-08-20T19:46:16.393Z"
   },
   {
    "duration": 10,
    "start_time": "2021-08-20T19:46:16.405Z"
   },
   {
    "duration": 39,
    "start_time": "2021-08-20T19:46:16.418Z"
   },
   {
    "duration": 344,
    "start_time": "2021-08-20T19:46:16.459Z"
   },
   {
    "duration": 332,
    "start_time": "2021-08-20T19:46:16.806Z"
   },
   {
    "duration": 18,
    "start_time": "2021-08-20T19:46:17.140Z"
   },
   {
    "duration": 21,
    "start_time": "2021-08-20T19:46:17.160Z"
   },
   {
    "duration": 13,
    "start_time": "2021-08-20T19:46:17.183Z"
   },
   {
    "duration": 14,
    "start_time": "2021-08-20T19:46:17.198Z"
   },
   {
    "duration": 15,
    "start_time": "2021-08-20T19:46:17.214Z"
   },
   {
    "duration": 21,
    "start_time": "2021-08-20T19:46:17.232Z"
   },
   {
    "duration": 11,
    "start_time": "2021-08-20T19:46:17.255Z"
   },
   {
    "duration": 14,
    "start_time": "2021-08-20T19:46:17.268Z"
   },
   {
    "duration": 323,
    "start_time": "2021-08-20T19:46:17.285Z"
   },
   {
    "duration": 327,
    "start_time": "2021-08-20T19:46:17.610Z"
   },
   {
    "duration": 17,
    "start_time": "2021-08-20T19:46:17.940Z"
   },
   {
    "duration": 18,
    "start_time": "2021-08-20T19:46:17.960Z"
   },
   {
    "duration": 10,
    "start_time": "2021-08-20T19:46:17.981Z"
   },
   {
    "duration": 9,
    "start_time": "2021-08-20T19:46:17.994Z"
   },
   {
    "duration": 10,
    "start_time": "2021-08-20T19:46:18.006Z"
   },
   {
    "duration": 41,
    "start_time": "2021-08-20T19:46:18.019Z"
   },
   {
    "duration": 17,
    "start_time": "2021-08-20T19:46:18.063Z"
   },
   {
    "duration": 18,
    "start_time": "2021-08-20T19:46:18.083Z"
   },
   {
    "duration": 312,
    "start_time": "2021-08-20T19:46:18.104Z"
   },
   {
    "duration": 389,
    "start_time": "2021-08-20T19:46:18.418Z"
   },
   {
    "duration": 1600,
    "start_time": "2021-08-20T19:46:18.810Z"
   },
   {
    "duration": 16,
    "start_time": "2021-08-20T19:46:20.413Z"
   },
   {
    "duration": 6,
    "start_time": "2021-08-20T19:46:20.433Z"
   },
   {
    "duration": 9,
    "start_time": "2021-08-20T19:46:20.455Z"
   },
   {
    "duration": 21,
    "start_time": "2021-08-20T19:46:20.467Z"
   },
   {
    "duration": 28,
    "start_time": "2021-08-20T19:46:20.492Z"
   },
   {
    "duration": 17,
    "start_time": "2021-08-20T19:46:20.523Z"
   },
   {
    "duration": 17,
    "start_time": "2021-08-20T19:46:20.543Z"
   },
   {
    "duration": 1078,
    "start_time": "2021-08-20T19:47:23.109Z"
   },
   {
    "duration": 1059,
    "start_time": "2021-08-20T19:50:20.455Z"
   },
   {
    "duration": 83,
    "start_time": "2021-08-20T19:52:25.754Z"
   },
   {
    "duration": 87,
    "start_time": "2021-08-20T20:06:27.941Z"
   },
   {
    "duration": 1469,
    "start_time": "2021-08-20T20:07:13.632Z"
   },
   {
    "duration": 330,
    "start_time": "2021-08-20T20:07:15.104Z"
   },
   {
    "duration": 20,
    "start_time": "2021-08-20T20:07:15.437Z"
   },
   {
    "duration": 483,
    "start_time": "2021-08-20T20:07:15.460Z"
   },
   {
    "duration": 22,
    "start_time": "2021-08-20T20:07:15.946Z"
   },
   {
    "duration": 15,
    "start_time": "2021-08-20T20:07:15.971Z"
   },
   {
    "duration": 273,
    "start_time": "2021-08-20T20:07:15.988Z"
   },
   {
    "duration": 14,
    "start_time": "2021-08-20T20:07:16.266Z"
   },
   {
    "duration": 54,
    "start_time": "2021-08-20T20:07:16.283Z"
   },
   {
    "duration": 13,
    "start_time": "2021-08-20T20:07:16.339Z"
   },
   {
    "duration": 59,
    "start_time": "2021-08-20T20:07:16.355Z"
   },
   {
    "duration": 11,
    "start_time": "2021-08-20T20:07:16.416Z"
   },
   {
    "duration": 6,
    "start_time": "2021-08-20T20:07:16.429Z"
   },
   {
    "duration": 81,
    "start_time": "2021-08-20T20:07:16.438Z"
   },
   {
    "duration": 69,
    "start_time": "2021-08-20T20:07:16.522Z"
   },
   {
    "duration": 29,
    "start_time": "2021-08-20T20:07:16.593Z"
   },
   {
    "duration": 41,
    "start_time": "2021-08-20T20:07:16.624Z"
   },
   {
    "duration": 37,
    "start_time": "2021-08-20T20:07:16.668Z"
   },
   {
    "duration": 6,
    "start_time": "2021-08-20T20:07:16.707Z"
   },
   {
    "duration": 21,
    "start_time": "2021-08-20T20:07:16.715Z"
   },
   {
    "duration": 5,
    "start_time": "2021-08-20T20:07:16.755Z"
   },
   {
    "duration": 27,
    "start_time": "2021-08-20T20:07:16.762Z"
   },
   {
    "duration": 39,
    "start_time": "2021-08-20T20:07:16.795Z"
   },
   {
    "duration": 45,
    "start_time": "2021-08-20T20:07:16.837Z"
   },
   {
    "duration": 10,
    "start_time": "2021-08-20T20:07:16.885Z"
   },
   {
    "duration": 20,
    "start_time": "2021-08-20T20:07:16.897Z"
   },
   {
    "duration": 25,
    "start_time": "2021-08-20T20:07:16.919Z"
   },
   {
    "duration": 22,
    "start_time": "2021-08-20T20:07:16.947Z"
   },
   {
    "duration": 40,
    "start_time": "2021-08-20T20:07:16.971Z"
   },
   {
    "duration": 22,
    "start_time": "2021-08-20T20:07:17.014Z"
   },
   {
    "duration": 28,
    "start_time": "2021-08-20T20:07:17.038Z"
   },
   {
    "duration": 16,
    "start_time": "2021-08-20T20:07:17.068Z"
   },
   {
    "duration": 42,
    "start_time": "2021-08-20T20:07:17.086Z"
   },
   {
    "duration": 800,
    "start_time": "2021-08-20T20:07:17.130Z"
   },
   {
    "duration": 42,
    "start_time": "2021-08-20T20:07:17.934Z"
   },
   {
    "duration": 23,
    "start_time": "2021-08-20T20:07:17.979Z"
   },
   {
    "duration": 871,
    "start_time": "2021-08-20T20:07:18.005Z"
   },
   {
    "duration": 7,
    "start_time": "2021-08-20T20:07:18.879Z"
   },
   {
    "duration": 67,
    "start_time": "2021-08-20T20:07:18.889Z"
   },
   {
    "duration": 10,
    "start_time": "2021-08-20T20:07:18.958Z"
   },
   {
    "duration": 25,
    "start_time": "2021-08-20T20:07:18.971Z"
   },
   {
    "duration": 73,
    "start_time": "2021-08-20T20:07:18.999Z"
   },
   {
    "duration": 16,
    "start_time": "2021-08-20T20:07:19.075Z"
   },
   {
    "duration": 37,
    "start_time": "2021-08-20T20:07:19.093Z"
   },
   {
    "duration": 25,
    "start_time": "2021-08-20T20:07:19.133Z"
   },
   {
    "duration": 36,
    "start_time": "2021-08-20T20:07:19.161Z"
   },
   {
    "duration": 11,
    "start_time": "2021-08-20T20:07:19.200Z"
   },
   {
    "duration": 41,
    "start_time": "2021-08-20T20:07:19.213Z"
   },
   {
    "duration": 11,
    "start_time": "2021-08-20T20:07:19.257Z"
   },
   {
    "duration": 25,
    "start_time": "2021-08-20T20:07:19.270Z"
   },
   {
    "duration": 62,
    "start_time": "2021-08-20T20:07:19.297Z"
   },
   {
    "duration": 27,
    "start_time": "2021-08-20T20:07:19.361Z"
   },
   {
    "duration": 70,
    "start_time": "2021-08-20T20:07:19.391Z"
   },
   {
    "duration": 17,
    "start_time": "2021-08-20T20:07:19.464Z"
   },
   {
    "duration": 81,
    "start_time": "2021-08-20T20:07:19.484Z"
   },
   {
    "duration": 20,
    "start_time": "2021-08-20T20:07:19.569Z"
   },
   {
    "duration": 73,
    "start_time": "2021-08-20T20:07:19.592Z"
   },
   {
    "duration": 15,
    "start_time": "2021-08-20T20:07:19.667Z"
   },
   {
    "duration": 14,
    "start_time": "2021-08-20T20:07:19.684Z"
   },
   {
    "duration": 69,
    "start_time": "2021-08-20T20:07:19.700Z"
   },
   {
    "duration": 13,
    "start_time": "2021-08-20T20:07:19.772Z"
   },
   {
    "duration": 22,
    "start_time": "2021-08-20T20:07:19.787Z"
   },
   {
    "duration": 42,
    "start_time": "2021-08-20T20:07:19.812Z"
   },
   {
    "duration": 40,
    "start_time": "2021-08-20T20:07:19.856Z"
   },
   {
    "duration": 11,
    "start_time": "2021-08-20T20:07:19.898Z"
   },
   {
    "duration": 8,
    "start_time": "2021-08-20T20:07:19.911Z"
   },
   {
    "duration": 12,
    "start_time": "2021-08-20T20:07:19.956Z"
   },
   {
    "duration": 17,
    "start_time": "2021-08-20T20:07:19.977Z"
   },
   {
    "duration": 5,
    "start_time": "2021-08-20T20:07:19.997Z"
   },
   {
    "duration": 388,
    "start_time": "2021-08-20T20:07:20.004Z"
   },
   {
    "duration": 5,
    "start_time": "2021-08-20T20:07:20.395Z"
   },
   {
    "duration": 8,
    "start_time": "2021-08-20T20:07:20.402Z"
   },
   {
    "duration": 53,
    "start_time": "2021-08-20T20:07:20.413Z"
   },
   {
    "duration": 14,
    "start_time": "2021-08-20T20:07:20.469Z"
   },
   {
    "duration": 13,
    "start_time": "2021-08-20T20:07:20.486Z"
   },
   {
    "duration": 10,
    "start_time": "2021-08-20T20:07:20.503Z"
   },
   {
    "duration": 40,
    "start_time": "2021-08-20T20:07:20.516Z"
   },
   {
    "duration": 15,
    "start_time": "2021-08-20T20:07:20.559Z"
   },
   {
    "duration": 17,
    "start_time": "2021-08-20T20:07:20.577Z"
   },
   {
    "duration": 9,
    "start_time": "2021-08-20T20:07:20.597Z"
   },
   {
    "duration": 47,
    "start_time": "2021-08-20T20:07:20.609Z"
   },
   {
    "duration": 8,
    "start_time": "2021-08-20T20:07:20.659Z"
   },
   {
    "duration": 9,
    "start_time": "2021-08-20T20:07:20.670Z"
   },
   {
    "duration": 13,
    "start_time": "2021-08-20T20:07:20.682Z"
   },
   {
    "duration": 7,
    "start_time": "2021-08-20T20:07:20.698Z"
   },
   {
    "duration": 50,
    "start_time": "2021-08-20T20:07:20.707Z"
   },
   {
    "duration": 7,
    "start_time": "2021-08-20T20:07:20.759Z"
   },
   {
    "duration": 355,
    "start_time": "2021-08-20T20:07:20.768Z"
   },
   {
    "duration": 340,
    "start_time": "2021-08-20T20:07:21.125Z"
   },
   {
    "duration": 10,
    "start_time": "2021-08-20T20:07:21.467Z"
   },
   {
    "duration": 16,
    "start_time": "2021-08-20T20:07:21.479Z"
   },
   {
    "duration": 13,
    "start_time": "2021-08-20T20:07:21.498Z"
   },
   {
    "duration": 41,
    "start_time": "2021-08-20T20:07:21.513Z"
   },
   {
    "duration": 6,
    "start_time": "2021-08-20T20:07:21.557Z"
   },
   {
    "duration": 11,
    "start_time": "2021-08-20T20:07:21.565Z"
   },
   {
    "duration": 9,
    "start_time": "2021-08-20T20:07:21.578Z"
   },
   {
    "duration": 8,
    "start_time": "2021-08-20T20:07:21.590Z"
   },
   {
    "duration": 399,
    "start_time": "2021-08-20T20:07:21.600Z"
   },
   {
    "duration": 592,
    "start_time": "2021-08-20T20:07:22.002Z"
   },
   {
    "duration": 62,
    "start_time": "2021-08-20T20:07:22.597Z"
   },
   {
    "duration": 13,
    "start_time": "2021-08-20T20:07:22.662Z"
   },
   {
    "duration": 9,
    "start_time": "2021-08-20T20:07:22.677Z"
   },
   {
    "duration": 14,
    "start_time": "2021-08-20T20:07:22.689Z"
   },
   {
    "duration": 52,
    "start_time": "2021-08-20T20:07:22.706Z"
   },
   {
    "duration": 18,
    "start_time": "2021-08-20T20:07:22.761Z"
   },
   {
    "duration": 11,
    "start_time": "2021-08-20T20:07:22.782Z"
   },
   {
    "duration": 10,
    "start_time": "2021-08-20T20:07:22.796Z"
   },
   {
    "duration": 568,
    "start_time": "2021-08-20T20:07:22.808Z"
   },
   {
    "duration": 381,
    "start_time": "2021-08-20T20:07:23.379Z"
   },
   {
    "duration": 1213,
    "start_time": "2021-08-20T20:07:23.762Z"
   },
   {
    "duration": 11,
    "start_time": "2021-08-20T20:07:24.977Z"
   },
   {
    "duration": 9,
    "start_time": "2021-08-20T20:07:24.990Z"
   },
   {
    "duration": 16,
    "start_time": "2021-08-20T20:07:25.002Z"
   },
   {
    "duration": 13,
    "start_time": "2021-08-20T20:07:25.021Z"
   },
   {
    "duration": 33,
    "start_time": "2021-08-20T20:07:25.036Z"
   },
   {
    "duration": 11,
    "start_time": "2021-08-20T20:07:25.072Z"
   },
   {
    "duration": 10,
    "start_time": "2021-08-20T20:07:25.085Z"
   },
   {
    "duration": 2034,
    "start_time": "2021-08-20T21:10:07.397Z"
   },
   {
    "duration": 401,
    "start_time": "2021-08-20T21:10:09.435Z"
   },
   {
    "duration": 22,
    "start_time": "2021-08-20T21:10:09.839Z"
   },
   {
    "duration": 436,
    "start_time": "2021-08-20T21:10:09.864Z"
   },
   {
    "duration": 17,
    "start_time": "2021-08-20T21:10:10.303Z"
   },
   {
    "duration": 34,
    "start_time": "2021-08-20T21:10:10.323Z"
   },
   {
    "duration": 411,
    "start_time": "2021-08-20T21:10:10.359Z"
   },
   {
    "duration": 14,
    "start_time": "2021-08-20T21:10:10.776Z"
   },
   {
    "duration": 117,
    "start_time": "2021-08-20T21:10:10.793Z"
   },
   {
    "duration": 13,
    "start_time": "2021-08-20T21:10:10.913Z"
   },
   {
    "duration": 73,
    "start_time": "2021-08-20T21:10:10.928Z"
   },
   {
    "duration": 12,
    "start_time": "2021-08-20T21:10:11.003Z"
   },
   {
    "duration": 12,
    "start_time": "2021-08-20T21:10:11.017Z"
   },
   {
    "duration": 105,
    "start_time": "2021-08-20T21:10:11.031Z"
   },
   {
    "duration": 72,
    "start_time": "2021-08-20T21:10:11.138Z"
   },
   {
    "duration": 53,
    "start_time": "2021-08-20T21:10:11.212Z"
   },
   {
    "duration": 33,
    "start_time": "2021-08-20T21:10:11.268Z"
   },
   {
    "duration": 60,
    "start_time": "2021-08-20T21:10:11.304Z"
   },
   {
    "duration": 6,
    "start_time": "2021-08-20T21:10:11.367Z"
   },
   {
    "duration": 12,
    "start_time": "2021-08-20T21:10:11.375Z"
   },
   {
    "duration": 10,
    "start_time": "2021-08-20T21:10:11.390Z"
   },
   {
    "duration": 14,
    "start_time": "2021-08-20T21:10:11.403Z"
   },
   {
    "duration": 59,
    "start_time": "2021-08-20T21:10:11.424Z"
   },
   {
    "duration": 32,
    "start_time": "2021-08-20T21:10:11.487Z"
   },
   {
    "duration": 34,
    "start_time": "2021-08-20T21:10:11.522Z"
   },
   {
    "duration": 6,
    "start_time": "2021-08-20T21:10:11.559Z"
   },
   {
    "duration": 10,
    "start_time": "2021-08-20T21:10:11.567Z"
   },
   {
    "duration": 12,
    "start_time": "2021-08-20T21:10:11.579Z"
   },
   {
    "duration": 30,
    "start_time": "2021-08-20T21:10:11.593Z"
   },
   {
    "duration": 48,
    "start_time": "2021-08-20T21:10:11.625Z"
   },
   {
    "duration": 16,
    "start_time": "2021-08-20T21:10:11.676Z"
   },
   {
    "duration": 18,
    "start_time": "2021-08-20T21:10:11.694Z"
   },
   {
    "duration": 84,
    "start_time": "2021-08-20T21:10:11.715Z"
   },
   {
    "duration": 1158,
    "start_time": "2021-08-20T21:10:11.802Z"
   },
   {
    "duration": 27,
    "start_time": "2021-08-20T21:10:12.962Z"
   },
   {
    "duration": 16,
    "start_time": "2021-08-20T21:10:12.991Z"
   },
   {
    "duration": 468,
    "start_time": "2021-08-20T21:10:13.010Z"
   },
   {
    "duration": 6,
    "start_time": "2021-08-20T21:10:13.480Z"
   },
   {
    "duration": 17,
    "start_time": "2021-08-20T21:10:13.488Z"
   },
   {
    "duration": 14,
    "start_time": "2021-08-20T21:10:13.508Z"
   },
   {
    "duration": 46,
    "start_time": "2021-08-20T21:10:13.524Z"
   },
   {
    "duration": 28,
    "start_time": "2021-08-20T21:10:13.573Z"
   },
   {
    "duration": 18,
    "start_time": "2021-08-20T21:10:13.604Z"
   },
   {
    "duration": 60,
    "start_time": "2021-08-20T21:10:13.625Z"
   },
   {
    "duration": 12,
    "start_time": "2021-08-20T21:10:13.688Z"
   },
   {
    "duration": 56,
    "start_time": "2021-08-20T21:10:13.703Z"
   },
   {
    "duration": 10,
    "start_time": "2021-08-20T21:10:13.762Z"
   },
   {
    "duration": 31,
    "start_time": "2021-08-20T21:10:13.774Z"
   },
   {
    "duration": 14,
    "start_time": "2021-08-20T21:10:13.808Z"
   },
   {
    "duration": 51,
    "start_time": "2021-08-20T21:10:13.825Z"
   },
   {
    "duration": 9,
    "start_time": "2021-08-20T21:10:13.879Z"
   },
   {
    "duration": 23,
    "start_time": "2021-08-20T21:10:13.890Z"
   },
   {
    "duration": 49,
    "start_time": "2021-08-20T21:10:13.915Z"
   },
   {
    "duration": 10,
    "start_time": "2021-08-20T21:10:13.967Z"
   },
   {
    "duration": 20,
    "start_time": "2021-08-20T21:10:13.980Z"
   },
   {
    "duration": 14,
    "start_time": "2021-08-20T21:10:14.002Z"
   },
   {
    "duration": 47,
    "start_time": "2021-08-20T21:10:14.018Z"
   },
   {
    "duration": 10,
    "start_time": "2021-08-20T21:10:14.068Z"
   },
   {
    "duration": 13,
    "start_time": "2021-08-20T21:10:14.081Z"
   },
   {
    "duration": 24,
    "start_time": "2021-08-20T21:10:14.096Z"
   },
   {
    "duration": 12,
    "start_time": "2021-08-20T21:10:14.155Z"
   },
   {
    "duration": 23,
    "start_time": "2021-08-20T21:10:14.169Z"
   },
   {
    "duration": 14,
    "start_time": "2021-08-20T21:10:14.194Z"
   },
   {
    "duration": 67,
    "start_time": "2021-08-20T21:10:14.211Z"
   },
   {
    "duration": 12,
    "start_time": "2021-08-20T21:10:14.281Z"
   },
   {
    "duration": 10,
    "start_time": "2021-08-20T21:10:14.295Z"
   },
   {
    "duration": 13,
    "start_time": "2021-08-20T21:10:14.308Z"
   },
   {
    "duration": 15,
    "start_time": "2021-08-20T21:10:14.362Z"
   },
   {
    "duration": 5,
    "start_time": "2021-08-20T21:10:14.381Z"
   },
   {
    "duration": 241,
    "start_time": "2021-08-20T21:10:14.389Z"
   },
   {
    "duration": 5,
    "start_time": "2021-08-20T21:10:14.633Z"
   },
   {
    "duration": 16,
    "start_time": "2021-08-20T21:10:14.641Z"
   },
   {
    "duration": 33,
    "start_time": "2021-08-20T21:10:14.660Z"
   },
   {
    "duration": 11,
    "start_time": "2021-08-20T21:10:14.696Z"
   },
   {
    "duration": 10,
    "start_time": "2021-08-20T21:10:14.709Z"
   },
   {
    "duration": 6,
    "start_time": "2021-08-20T21:10:14.757Z"
   },
   {
    "duration": 8,
    "start_time": "2021-08-20T21:10:14.765Z"
   },
   {
    "duration": 9,
    "start_time": "2021-08-20T21:10:14.775Z"
   },
   {
    "duration": 11,
    "start_time": "2021-08-20T21:10:14.787Z"
   },
   {
    "duration": 56,
    "start_time": "2021-08-20T21:10:14.801Z"
   },
   {
    "duration": 14,
    "start_time": "2021-08-20T21:10:14.860Z"
   },
   {
    "duration": 15,
    "start_time": "2021-08-20T21:10:14.876Z"
   },
   {
    "duration": 9,
    "start_time": "2021-08-20T21:10:14.894Z"
   },
   {
    "duration": 14,
    "start_time": "2021-08-20T21:10:14.906Z"
   },
   {
    "duration": 37,
    "start_time": "2021-08-20T21:10:14.923Z"
   },
   {
    "duration": 12,
    "start_time": "2021-08-20T21:10:14.962Z"
   },
   {
    "duration": 23,
    "start_time": "2021-08-20T21:10:14.977Z"
   },
   {
    "duration": 355,
    "start_time": "2021-08-20T21:10:15.003Z"
   },
   {
    "duration": 415,
    "start_time": "2021-08-20T21:10:15.360Z"
   },
   {
    "duration": 9,
    "start_time": "2021-08-20T21:10:15.778Z"
   },
   {
    "duration": 10,
    "start_time": "2021-08-20T21:10:15.790Z"
   },
   {
    "duration": 9,
    "start_time": "2021-08-20T21:10:15.802Z"
   },
   {
    "duration": 44,
    "start_time": "2021-08-20T21:10:15.813Z"
   },
   {
    "duration": 5,
    "start_time": "2021-08-20T21:10:15.860Z"
   },
   {
    "duration": 16,
    "start_time": "2021-08-20T21:10:15.868Z"
   },
   {
    "duration": 14,
    "start_time": "2021-08-20T21:10:15.886Z"
   },
   {
    "duration": 28,
    "start_time": "2021-08-20T21:10:15.903Z"
   },
   {
    "duration": 344,
    "start_time": "2021-08-20T21:10:15.933Z"
   },
   {
    "duration": 317,
    "start_time": "2021-08-20T21:10:16.280Z"
   },
   {
    "duration": 11,
    "start_time": "2021-08-20T21:10:16.600Z"
   },
   {
    "duration": 12,
    "start_time": "2021-08-20T21:10:16.613Z"
   },
   {
    "duration": 31,
    "start_time": "2021-08-20T21:10:16.627Z"
   },
   {
    "duration": 7,
    "start_time": "2021-08-20T21:10:16.661Z"
   },
   {
    "duration": 7,
    "start_time": "2021-08-20T21:10:16.671Z"
   },
   {
    "duration": 8,
    "start_time": "2021-08-20T21:10:16.681Z"
   },
   {
    "duration": 11,
    "start_time": "2021-08-20T21:10:16.692Z"
   },
   {
    "duration": 55,
    "start_time": "2021-08-20T21:10:16.705Z"
   },
   {
    "duration": 311,
    "start_time": "2021-08-20T21:10:16.763Z"
   },
   {
    "duration": 384,
    "start_time": "2021-08-20T21:10:17.077Z"
   },
   {
    "duration": 1754,
    "start_time": "2021-08-20T21:10:17.464Z"
   },
   {
    "duration": 14,
    "start_time": "2021-08-20T21:10:19.221Z"
   },
   {
    "duration": 19,
    "start_time": "2021-08-20T21:10:19.238Z"
   },
   {
    "duration": 23,
    "start_time": "2021-08-20T21:10:19.260Z"
   },
   {
    "duration": 26,
    "start_time": "2021-08-20T21:10:19.287Z"
   },
   {
    "duration": 20,
    "start_time": "2021-08-20T21:10:19.316Z"
   },
   {
    "duration": 17,
    "start_time": "2021-08-20T21:10:19.339Z"
   },
   {
    "duration": 17,
    "start_time": "2021-08-20T21:10:19.360Z"
   },
   {
    "duration": 358,
    "start_time": "2021-08-20T22:06:25.798Z"
   },
   {
    "duration": 1374,
    "start_time": "2021-08-20T22:06:34.951Z"
   },
   {
    "duration": 310,
    "start_time": "2021-08-20T22:06:36.327Z"
   },
   {
    "duration": 15,
    "start_time": "2021-08-20T22:06:36.640Z"
   },
   {
    "duration": 331,
    "start_time": "2021-08-20T22:06:36.658Z"
   },
   {
    "duration": 12,
    "start_time": "2021-08-20T22:06:36.991Z"
   },
   {
    "duration": 13,
    "start_time": "2021-08-20T22:06:37.005Z"
   },
   {
    "duration": 237,
    "start_time": "2021-08-20T22:06:37.021Z"
   },
   {
    "duration": 10,
    "start_time": "2021-08-20T22:06:37.262Z"
   },
   {
    "duration": 75,
    "start_time": "2021-08-20T22:06:37.283Z"
   },
   {
    "duration": 14,
    "start_time": "2021-08-20T22:06:37.360Z"
   },
   {
    "duration": 89,
    "start_time": "2021-08-20T22:06:37.377Z"
   },
   {
    "duration": 11,
    "start_time": "2021-08-20T22:06:37.469Z"
   },
   {
    "duration": 6,
    "start_time": "2021-08-20T22:06:37.482Z"
   },
   {
    "duration": 67,
    "start_time": "2021-08-20T22:06:37.491Z"
   },
   {
    "duration": 73,
    "start_time": "2021-08-20T22:06:37.561Z"
   },
   {
    "duration": 46,
    "start_time": "2021-08-20T22:06:37.636Z"
   },
   {
    "duration": 24,
    "start_time": "2021-08-20T22:06:37.685Z"
   },
   {
    "duration": 37,
    "start_time": "2021-08-20T22:06:37.711Z"
   },
   {
    "duration": 7,
    "start_time": "2021-08-20T22:06:37.750Z"
   },
   {
    "duration": 6,
    "start_time": "2021-08-20T22:06:37.784Z"
   },
   {
    "duration": 7,
    "start_time": "2021-08-20T22:06:37.793Z"
   },
   {
    "duration": 13,
    "start_time": "2021-08-20T22:06:37.803Z"
   },
   {
    "duration": 60,
    "start_time": "2021-08-20T22:06:37.825Z"
   },
   {
    "duration": 35,
    "start_time": "2021-08-20T22:06:37.889Z"
   },
   {
    "duration": 11,
    "start_time": "2021-08-20T22:06:37.927Z"
   },
   {
    "duration": 5,
    "start_time": "2021-08-20T22:06:37.940Z"
   },
   {
    "duration": 45,
    "start_time": "2021-08-20T22:06:37.948Z"
   },
   {
    "duration": 11,
    "start_time": "2021-08-20T22:06:37.996Z"
   },
   {
    "duration": 23,
    "start_time": "2021-08-20T22:06:38.010Z"
   },
   {
    "duration": 46,
    "start_time": "2021-08-20T22:06:38.036Z"
   },
   {
    "duration": 13,
    "start_time": "2021-08-20T22:06:38.085Z"
   },
   {
    "duration": 15,
    "start_time": "2021-08-20T22:06:38.101Z"
   },
   {
    "duration": 67,
    "start_time": "2021-08-20T22:06:38.118Z"
   },
   {
    "duration": 383,
    "start_time": "2021-08-20T22:06:38.187Z"
   },
   {
    "duration": 28,
    "start_time": "2021-08-20T22:06:38.573Z"
   },
   {
    "duration": 15,
    "start_time": "2021-08-20T22:06:38.603Z"
   },
   {
    "duration": 432,
    "start_time": "2021-08-20T22:06:38.620Z"
   },
   {
    "duration": 7,
    "start_time": "2021-08-20T22:06:39.055Z"
   },
   {
    "duration": 25,
    "start_time": "2021-08-20T22:06:39.064Z"
   },
   {
    "duration": 10,
    "start_time": "2021-08-20T22:06:39.091Z"
   },
   {
    "duration": 18,
    "start_time": "2021-08-20T22:06:39.104Z"
   },
   {
    "duration": 22,
    "start_time": "2021-08-20T22:06:39.124Z"
   },
   {
    "duration": 46,
    "start_time": "2021-08-20T22:06:39.148Z"
   },
   {
    "duration": 32,
    "start_time": "2021-08-20T22:06:39.196Z"
   },
   {
    "duration": 12,
    "start_time": "2021-08-20T22:06:39.231Z"
   },
   {
    "duration": 58,
    "start_time": "2021-08-20T22:06:39.245Z"
   },
   {
    "duration": 11,
    "start_time": "2021-08-20T22:06:39.305Z"
   },
   {
    "duration": 21,
    "start_time": "2021-08-20T22:06:39.318Z"
   },
   {
    "duration": 11,
    "start_time": "2021-08-20T22:06:39.341Z"
   },
   {
    "duration": 17,
    "start_time": "2021-08-20T22:06:39.382Z"
   },
   {
    "duration": 9,
    "start_time": "2021-08-20T22:06:39.401Z"
   },
   {
    "duration": 21,
    "start_time": "2021-08-20T22:06:39.412Z"
   },
   {
    "duration": 55,
    "start_time": "2021-08-20T22:06:39.435Z"
   },
   {
    "duration": 11,
    "start_time": "2021-08-20T22:06:39.492Z"
   },
   {
    "duration": 20,
    "start_time": "2021-08-20T22:06:39.505Z"
   },
   {
    "duration": 14,
    "start_time": "2021-08-20T22:06:39.527Z"
   },
   {
    "duration": 47,
    "start_time": "2021-08-20T22:06:39.543Z"
   },
   {
    "duration": 13,
    "start_time": "2021-08-20T22:06:39.593Z"
   },
   {
    "duration": 11,
    "start_time": "2021-08-20T22:06:39.608Z"
   },
   {
    "duration": 65,
    "start_time": "2021-08-20T22:06:39.621Z"
   },
   {
    "duration": 11,
    "start_time": "2021-08-20T22:06:39.688Z"
   },
   {
    "duration": 21,
    "start_time": "2021-08-20T22:06:39.702Z"
   },
   {
    "duration": 64,
    "start_time": "2021-08-20T22:06:39.725Z"
   },
   {
    "duration": 35,
    "start_time": "2021-08-20T22:06:39.792Z"
   },
   {
    "duration": 9,
    "start_time": "2021-08-20T22:06:39.882Z"
   },
   {
    "duration": 8,
    "start_time": "2021-08-20T22:06:39.894Z"
   },
   {
    "duration": 12,
    "start_time": "2021-08-20T22:06:39.904Z"
   },
   {
    "duration": 70,
    "start_time": "2021-08-20T22:06:39.924Z"
   },
   {
    "duration": 5,
    "start_time": "2021-08-20T22:06:39.997Z"
   },
   {
    "duration": 593,
    "start_time": "2021-08-20T22:06:40.005Z"
   },
   {
    "duration": 5,
    "start_time": "2021-08-20T22:06:40.600Z"
   },
   {
    "duration": 10,
    "start_time": "2021-08-20T22:06:40.608Z"
   },
   {
    "duration": 40,
    "start_time": "2021-08-20T22:06:40.620Z"
   },
   {
    "duration": 24,
    "start_time": "2021-08-20T22:06:40.663Z"
   },
   {
    "duration": 9,
    "start_time": "2021-08-20T22:06:40.689Z"
   },
   {
    "duration": 10,
    "start_time": "2021-08-20T22:06:40.700Z"
   },
   {
    "duration": 7,
    "start_time": "2021-08-20T22:06:40.713Z"
   },
   {
    "duration": 12,
    "start_time": "2021-08-20T22:06:40.722Z"
   },
   {
    "duration": 14,
    "start_time": "2021-08-20T22:06:40.736Z"
   },
   {
    "duration": 34,
    "start_time": "2021-08-20T22:06:40.752Z"
   },
   {
    "duration": 9,
    "start_time": "2021-08-20T22:06:40.788Z"
   },
   {
    "duration": 5,
    "start_time": "2021-08-20T22:06:40.800Z"
   },
   {
    "duration": 5,
    "start_time": "2021-08-20T22:06:40.808Z"
   },
   {
    "duration": 6,
    "start_time": "2021-08-20T22:06:40.816Z"
   },
   {
    "duration": 7,
    "start_time": "2021-08-20T22:06:40.825Z"
   },
   {
    "duration": 7,
    "start_time": "2021-08-20T22:06:40.884Z"
   },
   {
    "duration": 9,
    "start_time": "2021-08-20T22:06:40.893Z"
   },
   {
    "duration": 351,
    "start_time": "2021-08-20T22:06:40.904Z"
   },
   {
    "duration": 331,
    "start_time": "2021-08-20T22:06:41.257Z"
   },
   {
    "duration": 10,
    "start_time": "2021-08-20T22:06:41.590Z"
   },
   {
    "duration": 10,
    "start_time": "2021-08-20T22:06:41.602Z"
   },
   {
    "duration": 7,
    "start_time": "2021-08-20T22:06:41.614Z"
   },
   {
    "duration": 6,
    "start_time": "2021-08-20T22:06:41.624Z"
   },
   {
    "duration": 9,
    "start_time": "2021-08-20T22:06:41.632Z"
   },
   {
    "duration": 42,
    "start_time": "2021-08-20T22:06:41.643Z"
   },
   {
    "duration": 14,
    "start_time": "2021-08-20T22:06:41.687Z"
   },
   {
    "duration": 7,
    "start_time": "2021-08-20T22:06:41.703Z"
   },
   {
    "duration": 314,
    "start_time": "2021-08-20T22:06:41.712Z"
   },
   {
    "duration": 307,
    "start_time": "2021-08-20T22:06:42.029Z"
   },
   {
    "duration": 10,
    "start_time": "2021-08-20T22:06:42.338Z"
   },
   {
    "duration": 8,
    "start_time": "2021-08-20T22:06:42.350Z"
   },
   {
    "duration": 7,
    "start_time": "2021-08-20T22:06:42.382Z"
   },
   {
    "duration": 6,
    "start_time": "2021-08-20T22:06:42.391Z"
   },
   {
    "duration": 8,
    "start_time": "2021-08-20T22:06:42.400Z"
   },
   {
    "duration": 9,
    "start_time": "2021-08-20T22:06:42.410Z"
   },
   {
    "duration": 7,
    "start_time": "2021-08-20T22:06:42.422Z"
   },
   {
    "duration": 7,
    "start_time": "2021-08-20T22:06:42.482Z"
   },
   {
    "duration": 363,
    "start_time": "2021-08-20T22:06:42.492Z"
   },
   {
    "duration": 287,
    "start_time": "2021-08-20T22:06:42.858Z"
   },
   {
    "duration": 994,
    "start_time": "2021-08-20T22:06:43.148Z"
   },
   {
    "duration": 10,
    "start_time": "2021-08-20T22:06:44.145Z"
   },
   {
    "duration": 12,
    "start_time": "2021-08-20T22:06:44.157Z"
   },
   {
    "duration": 5,
    "start_time": "2021-08-20T22:06:44.183Z"
   },
   {
    "duration": 7,
    "start_time": "2021-08-20T22:06:44.190Z"
   },
   {
    "duration": 12,
    "start_time": "2021-08-20T22:06:44.200Z"
   },
   {
    "duration": 6,
    "start_time": "2021-08-20T22:06:44.214Z"
   },
   {
    "duration": 8,
    "start_time": "2021-08-20T22:06:44.223Z"
   },
   {
    "duration": 404,
    "start_time": "2021-08-20T22:06:57.608Z"
   }
  ],
  "kernelspec": {
   "display_name": "Python 3 (ipykernel)",
   "language": "python",
   "name": "python3"
  },
  "language_info": {
   "codemirror_mode": {
    "name": "ipython",
    "version": 3
   },
   "file_extension": ".py",
   "mimetype": "text/x-python",
   "name": "python",
   "nbconvert_exporter": "python",
   "pygments_lexer": "ipython3",
   "version": "3.10.3"
  },
  "toc": {
   "base_numbering": 1,
   "nav_menu": {},
   "number_sections": true,
   "sideBar": true,
   "skip_h1_title": true,
   "title_cell": "Table of Contents",
   "title_sidebar": "Contents",
   "toc_cell": false,
   "toc_position": {},
   "toc_section_display": true,
   "toc_window_display": true
  }
 },
 "nbformat": 4,
 "nbformat_minor": 2
}
